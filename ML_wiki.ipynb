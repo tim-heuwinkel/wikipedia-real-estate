{
 "cells": [
  {
   "cell_type": "markdown",
   "metadata": {},
   "source": [
    "# Machine learning with text based housing data"
   ]
  },
  {
   "cell_type": "markdown",
   "metadata": {},
   "source": [
    "Experimenting with text based housing data."
   ]
  },
  {
   "cell_type": "markdown",
   "metadata": {},
   "source": [
    "### Import packages"
   ]
  },
  {
   "cell_type": "code",
   "execution_count": 1,
   "metadata": {},
   "outputs": [],
   "source": [
    "import json\n",
    "import math\n",
    "import random\n",
    "import warnings\n",
    "warnings.filterwarnings(action=\"ignore\")\n",
    "\n",
    "from catboost import CatBoostRegressor\n",
    "import xgboost as xgb\n",
    "\n",
    "from sklearn.metrics import mean_absolute_error, r2_score, mean_squared_error\n",
    "from sklearn.preprocessing import StandardScaler\n",
    "from sklearn.model_selection import train_test_split, RandomizedSearchCV, KFold\n",
    "from sklearn.ensemble import RandomForestClassifier\n",
    "from sklearn import linear_model\n",
    "\n",
    "from utils import make_train_test, get_metrics, cross_validation, soos_validation\n",
    "\n",
    "import matplotlib.pyplot as plt\n",
    "import numpy as np\n",
    "import pandas as pd\n",
    "from tqdm.notebook import tqdm\n",
    "from IPython.display import display_html"
   ]
  },
  {
   "cell_type": "markdown",
   "metadata": {},
   "source": [
    "Definde constants.\n",
    "\n",
    "- ``PATH``: Path to the base data folder\n",
    "- ``MAX_DIST``: Maximum distance for article weights\n",
    "- ``K_FOLDS``: Number of folds to perform for cross validation"
   ]
  },
  {
   "cell_type": "code",
   "execution_count": 2,
   "metadata": {},
   "outputs": [],
   "source": [
    "PATH = \"C:/Users/Tim/.keras/datasets/wikipedia_real_estate/\"\n",
    "MAX_DIST = 5500\n",
    "K_FOLDS = 5\n",
    "WEIGHTING = True\n",
    "DUMMIES = []  # e.g. [\"MUNICODE\"]"
   ]
  },
  {
   "cell_type": "markdown",
   "metadata": {},
   "source": [
    "Lead structured data with added text features."
   ]
  },
  {
   "cell_type": "code",
   "execution_count": 3,
   "metadata": {
    "scrolled": false
   },
   "outputs": [
    {
     "name": "stdout",
     "output_type": "stream",
     "text": [
      "(9556, 3174)\n"
     ]
    },
    {
     "data": {
      "text/html": [
       "<div>\n",
       "<style scoped>\n",
       "    .dataframe tbody tr th:only-of-type {\n",
       "        vertical-align: middle;\n",
       "    }\n",
       "\n",
       "    .dataframe tbody tr th {\n",
       "        vertical-align: top;\n",
       "    }\n",
       "\n",
       "    .dataframe thead th {\n",
       "        text-align: right;\n",
       "    }\n",
       "</style>\n",
       "<table border=\"1\" class=\"dataframe\">\n",
       "  <thead>\n",
       "    <tr style=\"text-align: right;\">\n",
       "      <th></th>\n",
       "      <th>_id</th>\n",
       "      <th>PROPERTYZIP</th>\n",
       "      <th>MUNICODE</th>\n",
       "      <th>SCHOOLCODE</th>\n",
       "      <th>NEIGHCODE</th>\n",
       "      <th>LOTAREA</th>\n",
       "      <th>SALEDATE</th>\n",
       "      <th>SALEPRICE</th>\n",
       "      <th>FAIRMARKETTOTAL</th>\n",
       "      <th>STORIES</th>\n",
       "      <th>...</th>\n",
       "      <th>yielding student</th>\n",
       "      <th>york</th>\n",
       "      <th>york city</th>\n",
       "      <th>youghiogheny</th>\n",
       "      <th>youghiogheny river</th>\n",
       "      <th>young</th>\n",
       "      <th>youth</th>\n",
       "      <th>zip</th>\n",
       "      <th>zip code</th>\n",
       "      <th>article_count</th>\n",
       "    </tr>\n",
       "  </thead>\n",
       "  <tbody>\n",
       "    <tr>\n",
       "      <th>0</th>\n",
       "      <td>161705</td>\n",
       "      <td>15122</td>\n",
       "      <td>870</td>\n",
       "      <td>45</td>\n",
       "      <td>87005</td>\n",
       "      <td>10899</td>\n",
       "      <td>05-01-2018</td>\n",
       "      <td>145000.0</td>\n",
       "      <td>76700</td>\n",
       "      <td>1.0</td>\n",
       "      <td>...</td>\n",
       "      <td>0.000000</td>\n",
       "      <td>0.130886</td>\n",
       "      <td>0.101040</td>\n",
       "      <td>0.282106</td>\n",
       "      <td>0.249367</td>\n",
       "      <td>0.010241</td>\n",
       "      <td>0.001940</td>\n",
       "      <td>0.027334</td>\n",
       "      <td>0.028636</td>\n",
       "      <td>49</td>\n",
       "    </tr>\n",
       "    <tr>\n",
       "      <th>1</th>\n",
       "      <td>530852</td>\n",
       "      <td>15146</td>\n",
       "      <td>879</td>\n",
       "      <td>18</td>\n",
       "      <td>87905</td>\n",
       "      <td>10691</td>\n",
       "      <td>05-13-2019</td>\n",
       "      <td>139997.0</td>\n",
       "      <td>106200</td>\n",
       "      <td>1.0</td>\n",
       "      <td>...</td>\n",
       "      <td>0.015599</td>\n",
       "      <td>0.259048</td>\n",
       "      <td>0.240958</td>\n",
       "      <td>0.287960</td>\n",
       "      <td>0.000000</td>\n",
       "      <td>0.271106</td>\n",
       "      <td>0.381369</td>\n",
       "      <td>0.000000</td>\n",
       "      <td>0.000000</td>\n",
       "      <td>14</td>\n",
       "    </tr>\n",
       "    <tr>\n",
       "      <th>2</th>\n",
       "      <td>144978</td>\n",
       "      <td>15202</td>\n",
       "      <td>826</td>\n",
       "      <td>2</td>\n",
       "      <td>82601</td>\n",
       "      <td>11813</td>\n",
       "      <td>05-26-2017</td>\n",
       "      <td>170000.0</td>\n",
       "      <td>135300</td>\n",
       "      <td>1.0</td>\n",
       "      <td>...</td>\n",
       "      <td>0.257677</td>\n",
       "      <td>0.079152</td>\n",
       "      <td>0.000000</td>\n",
       "      <td>0.044886</td>\n",
       "      <td>0.000000</td>\n",
       "      <td>0.008793</td>\n",
       "      <td>0.066521</td>\n",
       "      <td>0.000000</td>\n",
       "      <td>0.000000</td>\n",
       "      <td>47</td>\n",
       "    </tr>\n",
       "    <tr>\n",
       "      <th>3</th>\n",
       "      <td>436602</td>\n",
       "      <td>15202</td>\n",
       "      <td>803</td>\n",
       "      <td>29</td>\n",
       "      <td>80302</td>\n",
       "      <td>5324</td>\n",
       "      <td>06-06-2017</td>\n",
       "      <td>145000.0</td>\n",
       "      <td>117300</td>\n",
       "      <td>2.0</td>\n",
       "      <td>...</td>\n",
       "      <td>0.160069</td>\n",
       "      <td>0.168517</td>\n",
       "      <td>0.106982</td>\n",
       "      <td>0.030178</td>\n",
       "      <td>0.000000</td>\n",
       "      <td>0.037580</td>\n",
       "      <td>0.046920</td>\n",
       "      <td>0.122617</td>\n",
       "      <td>0.101795</td>\n",
       "      <td>83</td>\n",
       "    </tr>\n",
       "    <tr>\n",
       "      <th>4</th>\n",
       "      <td>145066</td>\n",
       "      <td>15218</td>\n",
       "      <td>114</td>\n",
       "      <td>47</td>\n",
       "      <td>11403</td>\n",
       "      <td>3600</td>\n",
       "      <td>04-09-2016</td>\n",
       "      <td>325000.0</td>\n",
       "      <td>250000</td>\n",
       "      <td>2.0</td>\n",
       "      <td>...</td>\n",
       "      <td>0.030046</td>\n",
       "      <td>0.225885</td>\n",
       "      <td>0.113650</td>\n",
       "      <td>0.008153</td>\n",
       "      <td>0.000000</td>\n",
       "      <td>0.103157</td>\n",
       "      <td>0.089612</td>\n",
       "      <td>0.074424</td>\n",
       "      <td>0.031744</td>\n",
       "      <td>337</td>\n",
       "    </tr>\n",
       "    <tr>\n",
       "      <th>5</th>\n",
       "      <td>145137</td>\n",
       "      <td>15228</td>\n",
       "      <td>926</td>\n",
       "      <td>26</td>\n",
       "      <td>92607</td>\n",
       "      <td>6406</td>\n",
       "      <td>04-30-2015</td>\n",
       "      <td>172900.0</td>\n",
       "      <td>137300</td>\n",
       "      <td>2.0</td>\n",
       "      <td>...</td>\n",
       "      <td>0.169756</td>\n",
       "      <td>0.050000</td>\n",
       "      <td>0.000000</td>\n",
       "      <td>0.000000</td>\n",
       "      <td>0.000000</td>\n",
       "      <td>0.054306</td>\n",
       "      <td>0.053788</td>\n",
       "      <td>0.041071</td>\n",
       "      <td>0.015175</td>\n",
       "      <td>104</td>\n",
       "    </tr>\n",
       "    <tr>\n",
       "      <th>6</th>\n",
       "      <td>145246</td>\n",
       "      <td>15241</td>\n",
       "      <td>950</td>\n",
       "      <td>42</td>\n",
       "      <td>95001</td>\n",
       "      <td>38376</td>\n",
       "      <td>12-17-2015</td>\n",
       "      <td>817000.0</td>\n",
       "      <td>751600</td>\n",
       "      <td>2.0</td>\n",
       "      <td>...</td>\n",
       "      <td>0.032662</td>\n",
       "      <td>0.072342</td>\n",
       "      <td>0.000000</td>\n",
       "      <td>0.000000</td>\n",
       "      <td>0.000000</td>\n",
       "      <td>0.023127</td>\n",
       "      <td>0.007039</td>\n",
       "      <td>0.029061</td>\n",
       "      <td>0.018636</td>\n",
       "      <td>67</td>\n",
       "    </tr>\n",
       "    <tr>\n",
       "      <th>7</th>\n",
       "      <td>529513</td>\n",
       "      <td>15132</td>\n",
       "      <td>409</td>\n",
       "      <td>23</td>\n",
       "      <td>40005</td>\n",
       "      <td>3844</td>\n",
       "      <td>01-09-2020</td>\n",
       "      <td>39000.0</td>\n",
       "      <td>45100</td>\n",
       "      <td>1.0</td>\n",
       "      <td>...</td>\n",
       "      <td>0.249204</td>\n",
       "      <td>0.229567</td>\n",
       "      <td>0.073169</td>\n",
       "      <td>1.565165</td>\n",
       "      <td>1.355768</td>\n",
       "      <td>0.074707</td>\n",
       "      <td>0.165631</td>\n",
       "      <td>0.123405</td>\n",
       "      <td>0.124603</td>\n",
       "      <td>46</td>\n",
       "    </tr>\n",
       "    <tr>\n",
       "      <th>8</th>\n",
       "      <td>146103</td>\n",
       "      <td>15212</td>\n",
       "      <td>127</td>\n",
       "      <td>47</td>\n",
       "      <td>12703</td>\n",
       "      <td>5284</td>\n",
       "      <td>06-30-2016</td>\n",
       "      <td>65000.0</td>\n",
       "      <td>52800</td>\n",
       "      <td>1.5</td>\n",
       "      <td>...</td>\n",
       "      <td>0.015753</td>\n",
       "      <td>0.227760</td>\n",
       "      <td>0.083524</td>\n",
       "      <td>0.007829</td>\n",
       "      <td>0.007075</td>\n",
       "      <td>0.096008</td>\n",
       "      <td>0.047138</td>\n",
       "      <td>0.140486</td>\n",
       "      <td>0.113373</td>\n",
       "      <td>427</td>\n",
       "    </tr>\n",
       "    <tr>\n",
       "      <th>9</th>\n",
       "      <td>146155</td>\n",
       "      <td>15212</td>\n",
       "      <td>127</td>\n",
       "      <td>47</td>\n",
       "      <td>12701</td>\n",
       "      <td>5544</td>\n",
       "      <td>11-10-2018</td>\n",
       "      <td>162000.0</td>\n",
       "      <td>111200</td>\n",
       "      <td>1.0</td>\n",
       "      <td>...</td>\n",
       "      <td>0.037225</td>\n",
       "      <td>0.166820</td>\n",
       "      <td>0.109717</td>\n",
       "      <td>0.009048</td>\n",
       "      <td>0.002554</td>\n",
       "      <td>0.056058</td>\n",
       "      <td>0.043232</td>\n",
       "      <td>0.159225</td>\n",
       "      <td>0.119882</td>\n",
       "      <td>190</td>\n",
       "    </tr>\n",
       "  </tbody>\n",
       "</table>\n",
       "<p>10 rows × 3174 columns</p>\n",
       "</div>"
      ],
      "text/plain": [
       "      _id  PROPERTYZIP  MUNICODE  SCHOOLCODE  NEIGHCODE  LOTAREA    SALEDATE  \\\n",
       "0  161705        15122       870          45      87005    10899  05-01-2018   \n",
       "1  530852        15146       879          18      87905    10691  05-13-2019   \n",
       "2  144978        15202       826           2      82601    11813  05-26-2017   \n",
       "3  436602        15202       803          29      80302     5324  06-06-2017   \n",
       "4  145066        15218       114          47      11403     3600  04-09-2016   \n",
       "5  145137        15228       926          26      92607     6406  04-30-2015   \n",
       "6  145246        15241       950          42      95001    38376  12-17-2015   \n",
       "7  529513        15132       409          23      40005     3844  01-09-2020   \n",
       "8  146103        15212       127          47      12703     5284  06-30-2016   \n",
       "9  146155        15212       127          47      12701     5544  11-10-2018   \n",
       "\n",
       "   SALEPRICE  FAIRMARKETTOTAL  STORIES  ...  yielding student      york  \\\n",
       "0   145000.0            76700      1.0  ...          0.000000  0.130886   \n",
       "1   139997.0           106200      1.0  ...          0.015599  0.259048   \n",
       "2   170000.0           135300      1.0  ...          0.257677  0.079152   \n",
       "3   145000.0           117300      2.0  ...          0.160069  0.168517   \n",
       "4   325000.0           250000      2.0  ...          0.030046  0.225885   \n",
       "5   172900.0           137300      2.0  ...          0.169756  0.050000   \n",
       "6   817000.0           751600      2.0  ...          0.032662  0.072342   \n",
       "7    39000.0            45100      1.0  ...          0.249204  0.229567   \n",
       "8    65000.0            52800      1.5  ...          0.015753  0.227760   \n",
       "9   162000.0           111200      1.0  ...          0.037225  0.166820   \n",
       "\n",
       "   york city  youghiogheny  youghiogheny river     young     youth       zip  \\\n",
       "0   0.101040      0.282106            0.249367  0.010241  0.001940  0.027334   \n",
       "1   0.240958      0.287960            0.000000  0.271106  0.381369  0.000000   \n",
       "2   0.000000      0.044886            0.000000  0.008793  0.066521  0.000000   \n",
       "3   0.106982      0.030178            0.000000  0.037580  0.046920  0.122617   \n",
       "4   0.113650      0.008153            0.000000  0.103157  0.089612  0.074424   \n",
       "5   0.000000      0.000000            0.000000  0.054306  0.053788  0.041071   \n",
       "6   0.000000      0.000000            0.000000  0.023127  0.007039  0.029061   \n",
       "7   0.073169      1.565165            1.355768  0.074707  0.165631  0.123405   \n",
       "8   0.083524      0.007829            0.007075  0.096008  0.047138  0.140486   \n",
       "9   0.109717      0.009048            0.002554  0.056058  0.043232  0.159225   \n",
       "\n",
       "   zip code  article_count  \n",
       "0  0.028636             49  \n",
       "1  0.000000             14  \n",
       "2  0.000000             47  \n",
       "3  0.101795             83  \n",
       "4  0.031744            337  \n",
       "5  0.015175            104  \n",
       "6  0.018636             67  \n",
       "7  0.124603             46  \n",
       "8  0.113373            427  \n",
       "9  0.119882            190  \n",
       "\n",
       "[10 rows x 3174 columns]"
      ]
     },
     "execution_count": 3,
     "metadata": {},
     "output_type": "execute_result"
    }
   ],
   "source": [
    "if WEIGHTING:\n",
    "    structured_wiki_text = pd.read_csv(PATH + f\"structured_wiki_text_features_{MAX_DIST}.csv\")\n",
    "else:\n",
    "    structured_wiki_text = pd.read_csv(PATH + f\"structured_wiki_text_features_{MAX_DIST}_NOWEIGHT.csv\")\n",
    "    \n",
    "print(structured_wiki_text.shape)\n",
    "structured_wiki_text.head(10)"
   ]
  },
  {
   "cell_type": "markdown",
   "metadata": {},
   "source": [
    "Create the data sets and error dataframe"
   ]
  },
  {
   "cell_type": "code",
   "execution_count": 4,
   "metadata": {},
   "outputs": [
    {
     "name": "stdout",
     "output_type": "stream",
     "text": [
      "\n",
      "(7167, 3162): (5375, 3162) + (1792, 3162)\n",
      "(7167,): (5375,) + (1792,)\n",
      "(2389, 3162)\n",
      "(2389,)\n"
     ]
    }
   ],
   "source": [
    "X_columns_text, data_sets, error_df = make_train_test(structured_wiki_text, dummies=DUMMIES)\n",
    "X, y, X_train, X_test, y_train, y_test, X_train_train, X_train_val, y_train_train, y_train_val = data_sets"
   ]
  },
  {
   "cell_type": "markdown",
   "metadata": {},
   "source": [
    "Create results df"
   ]
  },
  {
   "cell_type": "code",
   "execution_count": 5,
   "metadata": {},
   "outputs": [],
   "source": [
    "results_df = pd.DataFrame()"
   ]
  },
  {
   "cell_type": "markdown",
   "metadata": {},
   "source": [
    "## Combining structured and text features"
   ]
  },
  {
   "cell_type": "markdown",
   "metadata": {},
   "source": [
    "### Linear regression"
   ]
  },
  {
   "cell_type": "code",
   "execution_count": 6,
   "metadata": {},
   "outputs": [
    {
     "data": {
      "text/plain": [
       "Ridge()"
      ]
     },
     "execution_count": 6,
     "metadata": {},
     "output_type": "execute_result"
    }
   ],
   "source": [
    "# model_03 = linear_model.LinearRegression()\n",
    "# model_03 = linear_model.Lasso()\n",
    "model_03 = linear_model.Ridge()\n",
    "model_03.fit(X_train, y_train)"
   ]
  },
  {
   "cell_type": "code",
   "execution_count": 7,
   "metadata": {},
   "outputs": [
    {
     "name": "stdout",
     "output_type": "stream",
     "text": [
      "MAE:  33896\n",
      "RMSE: 48337\n",
      "MAPE: 20.47%\n",
      "R^2:  0.87\n"
     ]
    }
   ],
   "source": [
    "y_pred_03 = model_03.predict(X_test)\n",
    "metrics_03 = get_metrics(y_test, y_pred_03)"
   ]
  },
  {
   "cell_type": "markdown",
   "metadata": {},
   "source": [
    "Cross validation"
   ]
  },
  {
   "cell_type": "code",
   "execution_count": 8,
   "metadata": {},
   "outputs": [
    {
     "data": {
      "application/vnd.jupyter.widget-view+json": {
       "model_id": "c1143991e5d948d0be92b9b1fb013541",
       "version_major": 2,
       "version_minor": 0
      },
      "text/plain": [
       "  0%|          | 0/5 [00:00<?, ?it/s]"
      ]
     },
     "metadata": {},
     "output_type": "display_data"
    },
    {
     "name": "stdout",
     "output_type": "stream",
     "text": [
      "\n",
      "MAE:  34237\n",
      "RMSE: 49266\n",
      "MAPE: 21.51%\n",
      "R^2:  0.87\n"
     ]
    }
   ],
   "source": [
    "results_df[\"Linear: S+T\"], X_03_columns = cross_validation(model_03, X, y, K_FOLDS)"
   ]
  },
  {
   "cell_type": "markdown",
   "metadata": {},
   "source": [
    "### Catboost"
   ]
  },
  {
   "cell_type": "code",
   "execution_count": 9,
   "metadata": {
    "scrolled": true
   },
   "outputs": [
    {
     "data": {
      "text/plain": [
       "<catboost.core.CatBoostRegressor at 0x2bb2504aa48>"
      ]
     },
     "execution_count": 9,
     "metadata": {},
     "output_type": "execute_result"
    }
   ],
   "source": [
    "model_04 = CatBoostRegressor()\n",
    "model_04.fit(X=X_train, y=y_train, verbose=False)"
   ]
  },
  {
   "cell_type": "code",
   "execution_count": 10,
   "metadata": {},
   "outputs": [
    {
     "name": "stdout",
     "output_type": "stream",
     "text": [
      "MAE:  28421\n",
      "RMSE: 42015\n",
      "MAPE: 15.79%\n",
      "R^2:  0.901\n"
     ]
    }
   ],
   "source": [
    "y_pred_04 = model_04.predict(X_test)\n",
    "metrics_04 = get_metrics(y_test, y_pred_04)"
   ]
  },
  {
   "cell_type": "markdown",
   "metadata": {},
   "source": [
    "Cross Validation"
   ]
  },
  {
   "cell_type": "code",
   "execution_count": 11,
   "metadata": {},
   "outputs": [
    {
     "data": {
      "application/vnd.jupyter.widget-view+json": {
       "model_id": "29b4d0a2b982413591bab3993bdb9bc7",
       "version_major": 2,
       "version_minor": 0
      },
      "text/plain": [
       "  0%|          | 0/5 [00:00<?, ?it/s]"
      ]
     },
     "metadata": {},
     "output_type": "display_data"
    },
    {
     "name": "stdout",
     "output_type": "stream",
     "text": [
      "\n",
      "MAE:  28648\n",
      "RMSE: 42797\n",
      "MAPE: 16.73%\n",
      "R^2:  0.902\n"
     ]
    }
   ],
   "source": [
    "results_df[\"Catboost: S+T\"], X_04_columns = cross_validation(model_04, X, y, K_FOLDS)"
   ]
  },
  {
   "cell_type": "markdown",
   "metadata": {},
   "source": [
    "## Combining structured and category features"
   ]
  },
  {
   "cell_type": "markdown",
   "metadata": {},
   "source": [
    "Load structured with added wikipedia category data"
   ]
  },
  {
   "cell_type": "code",
   "execution_count": 12,
   "metadata": {},
   "outputs": [
    {
     "name": "stdout",
     "output_type": "stream",
     "text": [
      "(9556, 99)\n"
     ]
    },
    {
     "data": {
      "text/html": [
       "<div>\n",
       "<style scoped>\n",
       "    .dataframe tbody tr th:only-of-type {\n",
       "        vertical-align: middle;\n",
       "    }\n",
       "\n",
       "    .dataframe tbody tr th {\n",
       "        vertical-align: top;\n",
       "    }\n",
       "\n",
       "    .dataframe thead th {\n",
       "        text-align: right;\n",
       "    }\n",
       "</style>\n",
       "<table border=\"1\" class=\"dataframe\">\n",
       "  <thead>\n",
       "    <tr style=\"text-align: right;\">\n",
       "      <th></th>\n",
       "      <th>_id</th>\n",
       "      <th>PROPERTYZIP</th>\n",
       "      <th>MUNICODE</th>\n",
       "      <th>SCHOOLCODE</th>\n",
       "      <th>NEIGHCODE</th>\n",
       "      <th>LOTAREA</th>\n",
       "      <th>SALEDATE</th>\n",
       "      <th>SALEPRICE</th>\n",
       "      <th>FAIRMARKETTOTAL</th>\n",
       "      <th>STORIES</th>\n",
       "      <th>...</th>\n",
       "      <th>music venue_dist</th>\n",
       "      <th>music venue_count</th>\n",
       "      <th>librar_dist</th>\n",
       "      <th>librar_count</th>\n",
       "      <th>demolished_dist</th>\n",
       "      <th>demolished_count</th>\n",
       "      <th>theatre_dist</th>\n",
       "      <th>theatre_count</th>\n",
       "      <th>airport_dist</th>\n",
       "      <th>airport_count</th>\n",
       "    </tr>\n",
       "  </thead>\n",
       "  <tbody>\n",
       "    <tr>\n",
       "      <th>0</th>\n",
       "      <td>536102</td>\n",
       "      <td>15219</td>\n",
       "      <td>103</td>\n",
       "      <td>47</td>\n",
       "      <td>10301</td>\n",
       "      <td>2875</td>\n",
       "      <td>01-31-2018</td>\n",
       "      <td>287000.0</td>\n",
       "      <td>159000</td>\n",
       "      <td>2.0</td>\n",
       "      <td>...</td>\n",
       "      <td>517.699850</td>\n",
       "      <td>12</td>\n",
       "      <td>897.917939</td>\n",
       "      <td>4</td>\n",
       "      <td>517.699850</td>\n",
       "      <td>19</td>\n",
       "      <td>362.128604</td>\n",
       "      <td>12</td>\n",
       "      <td>7366.798716</td>\n",
       "      <td>0</td>\n",
       "    </tr>\n",
       "    <tr>\n",
       "      <th>1</th>\n",
       "      <td>197251</td>\n",
       "      <td>15241</td>\n",
       "      <td>950</td>\n",
       "      <td>42</td>\n",
       "      <td>95002</td>\n",
       "      <td>17193</td>\n",
       "      <td>09-02-2017</td>\n",
       "      <td>299900.0</td>\n",
       "      <td>259500</td>\n",
       "      <td>2.0</td>\n",
       "      <td>...</td>\n",
       "      <td>12399.579075</td>\n",
       "      <td>0</td>\n",
       "      <td>7345.059951</td>\n",
       "      <td>0</td>\n",
       "      <td>6699.747625</td>\n",
       "      <td>0</td>\n",
       "      <td>12980.769713</td>\n",
       "      <td>0</td>\n",
       "      <td>13247.804765</td>\n",
       "      <td>0</td>\n",
       "    </tr>\n",
       "    <tr>\n",
       "      <th>2</th>\n",
       "      <td>25219</td>\n",
       "      <td>15146</td>\n",
       "      <td>879</td>\n",
       "      <td>18</td>\n",
       "      <td>87910</td>\n",
       "      <td>22264</td>\n",
       "      <td>03-22-2017</td>\n",
       "      <td>190000.0</td>\n",
       "      <td>214900</td>\n",
       "      <td>2.0</td>\n",
       "      <td>...</td>\n",
       "      <td>14458.681434</td>\n",
       "      <td>0</td>\n",
       "      <td>4272.542747</td>\n",
       "      <td>0</td>\n",
       "      <td>12028.970020</td>\n",
       "      <td>0</td>\n",
       "      <td>17076.275805</td>\n",
       "      <td>0</td>\n",
       "      <td>6003.343808</td>\n",
       "      <td>0</td>\n",
       "    </tr>\n",
       "    <tr>\n",
       "      <th>3</th>\n",
       "      <td>197755</td>\n",
       "      <td>15236</td>\n",
       "      <td>873</td>\n",
       "      <td>44</td>\n",
       "      <td>87302</td>\n",
       "      <td>7800</td>\n",
       "      <td>05-09-2017</td>\n",
       "      <td>225000.0</td>\n",
       "      <td>155000</td>\n",
       "      <td>2.0</td>\n",
       "      <td>...</td>\n",
       "      <td>11009.826670</td>\n",
       "      <td>0</td>\n",
       "      <td>4240.695718</td>\n",
       "      <td>0</td>\n",
       "      <td>6425.354574</td>\n",
       "      <td>0</td>\n",
       "      <td>10122.630117</td>\n",
       "      <td>0</td>\n",
       "      <td>3950.374941</td>\n",
       "      <td>0</td>\n",
       "    </tr>\n",
       "    <tr>\n",
       "      <th>4</th>\n",
       "      <td>198593</td>\n",
       "      <td>15015</td>\n",
       "      <td>809</td>\n",
       "      <td>27</td>\n",
       "      <td>80902</td>\n",
       "      <td>43734</td>\n",
       "      <td>06-28-2019</td>\n",
       "      <td>249000.0</td>\n",
       "      <td>208800</td>\n",
       "      <td>2.0</td>\n",
       "      <td>...</td>\n",
       "      <td>19408.880978</td>\n",
       "      <td>0</td>\n",
       "      <td>8103.337750</td>\n",
       "      <td>0</td>\n",
       "      <td>13266.442574</td>\n",
       "      <td>0</td>\n",
       "      <td>18629.773509</td>\n",
       "      <td>0</td>\n",
       "      <td>9357.397493</td>\n",
       "      <td>0</td>\n",
       "    </tr>\n",
       "    <tr>\n",
       "      <th>5</th>\n",
       "      <td>532924</td>\n",
       "      <td>15212</td>\n",
       "      <td>127</td>\n",
       "      <td>47</td>\n",
       "      <td>12703</td>\n",
       "      <td>5000</td>\n",
       "      <td>05-25-2016</td>\n",
       "      <td>113000.0</td>\n",
       "      <td>84300</td>\n",
       "      <td>2.0</td>\n",
       "      <td>...</td>\n",
       "      <td>1022.312436</td>\n",
       "      <td>2</td>\n",
       "      <td>2376.258142</td>\n",
       "      <td>1</td>\n",
       "      <td>2442.269063</td>\n",
       "      <td>2</td>\n",
       "      <td>2082.763441</td>\n",
       "      <td>2</td>\n",
       "      <td>11124.871386</td>\n",
       "      <td>0</td>\n",
       "    </tr>\n",
       "    <tr>\n",
       "      <th>6</th>\n",
       "      <td>198384</td>\n",
       "      <td>15136</td>\n",
       "      <td>919</td>\n",
       "      <td>24</td>\n",
       "      <td>91903</td>\n",
       "      <td>9664</td>\n",
       "      <td>10-30-2015</td>\n",
       "      <td>189900.0</td>\n",
       "      <td>169200</td>\n",
       "      <td>1.0</td>\n",
       "      <td>...</td>\n",
       "      <td>6847.322917</td>\n",
       "      <td>0</td>\n",
       "      <td>5775.964244</td>\n",
       "      <td>0</td>\n",
       "      <td>5238.956835</td>\n",
       "      <td>0</td>\n",
       "      <td>8985.544284</td>\n",
       "      <td>0</td>\n",
       "      <td>8408.081284</td>\n",
       "      <td>0</td>\n",
       "    </tr>\n",
       "    <tr>\n",
       "      <th>7</th>\n",
       "      <td>198694</td>\n",
       "      <td>15237</td>\n",
       "      <td>927</td>\n",
       "      <td>27</td>\n",
       "      <td>92703</td>\n",
       "      <td>12162</td>\n",
       "      <td>11-06-2019</td>\n",
       "      <td>310000.0</td>\n",
       "      <td>257800</td>\n",
       "      <td>2.0</td>\n",
       "      <td>...</td>\n",
       "      <td>9237.894190</td>\n",
       "      <td>0</td>\n",
       "      <td>2248.669106</td>\n",
       "      <td>1</td>\n",
       "      <td>9457.535248</td>\n",
       "      <td>0</td>\n",
       "      <td>11343.201706</td>\n",
       "      <td>0</td>\n",
       "      <td>15420.145174</td>\n",
       "      <td>0</td>\n",
       "    </tr>\n",
       "    <tr>\n",
       "      <th>8</th>\n",
       "      <td>198744</td>\n",
       "      <td>15227</td>\n",
       "      <td>874</td>\n",
       "      <td>4</td>\n",
       "      <td>87402</td>\n",
       "      <td>6695</td>\n",
       "      <td>03-13-2018</td>\n",
       "      <td>165000.0</td>\n",
       "      <td>144200</td>\n",
       "      <td>1.5</td>\n",
       "      <td>...</td>\n",
       "      <td>7000.025029</td>\n",
       "      <td>0</td>\n",
       "      <td>6209.428450</td>\n",
       "      <td>0</td>\n",
       "      <td>3218.508916</td>\n",
       "      <td>0</td>\n",
       "      <td>7000.025029</td>\n",
       "      <td>0</td>\n",
       "      <td>4095.874034</td>\n",
       "      <td>0</td>\n",
       "    </tr>\n",
       "    <tr>\n",
       "      <th>9</th>\n",
       "      <td>199198</td>\n",
       "      <td>15139</td>\n",
       "      <td>845</td>\n",
       "      <td>33</td>\n",
       "      <td>84501</td>\n",
       "      <td>12050</td>\n",
       "      <td>08-24-2018</td>\n",
       "      <td>380000.0</td>\n",
       "      <td>320000</td>\n",
       "      <td>2.0</td>\n",
       "      <td>...</td>\n",
       "      <td>4285.299694</td>\n",
       "      <td>0</td>\n",
       "      <td>9711.011884</td>\n",
       "      <td>0</td>\n",
       "      <td>1230.228244</td>\n",
       "      <td>1</td>\n",
       "      <td>10480.485342</td>\n",
       "      <td>0</td>\n",
       "      <td>8608.785351</td>\n",
       "      <td>0</td>\n",
       "    </tr>\n",
       "  </tbody>\n",
       "</table>\n",
       "<p>10 rows × 99 columns</p>\n",
       "</div>"
      ],
      "text/plain": [
       "      _id  PROPERTYZIP  MUNICODE  SCHOOLCODE  NEIGHCODE  LOTAREA    SALEDATE  \\\n",
       "0  536102        15219       103          47      10301     2875  01-31-2018   \n",
       "1  197251        15241       950          42      95002    17193  09-02-2017   \n",
       "2   25219        15146       879          18      87910    22264  03-22-2017   \n",
       "3  197755        15236       873          44      87302     7800  05-09-2017   \n",
       "4  198593        15015       809          27      80902    43734  06-28-2019   \n",
       "5  532924        15212       127          47      12703     5000  05-25-2016   \n",
       "6  198384        15136       919          24      91903     9664  10-30-2015   \n",
       "7  198694        15237       927          27      92703    12162  11-06-2019   \n",
       "8  198744        15227       874           4      87402     6695  03-13-2018   \n",
       "9  199198        15139       845          33      84501    12050  08-24-2018   \n",
       "\n",
       "   SALEPRICE  FAIRMARKETTOTAL  STORIES  ...  music venue_dist  \\\n",
       "0   287000.0           159000      2.0  ...        517.699850   \n",
       "1   299900.0           259500      2.0  ...      12399.579075   \n",
       "2   190000.0           214900      2.0  ...      14458.681434   \n",
       "3   225000.0           155000      2.0  ...      11009.826670   \n",
       "4   249000.0           208800      2.0  ...      19408.880978   \n",
       "5   113000.0            84300      2.0  ...       1022.312436   \n",
       "6   189900.0           169200      1.0  ...       6847.322917   \n",
       "7   310000.0           257800      2.0  ...       9237.894190   \n",
       "8   165000.0           144200      1.5  ...       7000.025029   \n",
       "9   380000.0           320000      2.0  ...       4285.299694   \n",
       "\n",
       "   music venue_count  librar_dist  librar_count  demolished_dist  \\\n",
       "0                 12   897.917939             4       517.699850   \n",
       "1                  0  7345.059951             0      6699.747625   \n",
       "2                  0  4272.542747             0     12028.970020   \n",
       "3                  0  4240.695718             0      6425.354574   \n",
       "4                  0  8103.337750             0     13266.442574   \n",
       "5                  2  2376.258142             1      2442.269063   \n",
       "6                  0  5775.964244             0      5238.956835   \n",
       "7                  0  2248.669106             1      9457.535248   \n",
       "8                  0  6209.428450             0      3218.508916   \n",
       "9                  0  9711.011884             0      1230.228244   \n",
       "\n",
       "   demolished_count  theatre_dist  theatre_count  airport_dist  airport_count  \n",
       "0                19    362.128604             12   7366.798716              0  \n",
       "1                 0  12980.769713              0  13247.804765              0  \n",
       "2                 0  17076.275805              0   6003.343808              0  \n",
       "3                 0  10122.630117              0   3950.374941              0  \n",
       "4                 0  18629.773509              0   9357.397493              0  \n",
       "5                 2   2082.763441              2  11124.871386              0  \n",
       "6                 0   8985.544284              0   8408.081284              0  \n",
       "7                 0  11343.201706              0  15420.145174              0  \n",
       "8                 0   7000.025029              0   4095.874034              0  \n",
       "9                 1  10480.485342              0   8608.785351              0  \n",
       "\n",
       "[10 rows x 99 columns]"
      ]
     },
     "execution_count": 12,
     "metadata": {},
     "output_type": "execute_result"
    }
   ],
   "source": [
    "structured_wiki_categories = pd.read_csv(PATH+\"structured_wiki_category_features.csv\")\n",
    "print(structured_wiki_categories.shape)\n",
    "structured_wiki_categories.head(10)"
   ]
  },
  {
   "cell_type": "code",
   "execution_count": 13,
   "metadata": {},
   "outputs": [
    {
     "name": "stdout",
     "output_type": "stream",
     "text": [
      "\n",
      "(7167, 87): (5375, 87) + (1792, 87)\n",
      "(7167,): (5375,) + (1792,)\n",
      "(2389, 87)\n",
      "(2389,)\n"
     ]
    }
   ],
   "source": [
    "X_columns_cat, data_sets, error_df = make_train_test(structured_wiki_categories, dummies=DUMMIES)\n",
    "X, y, X_train, X_test, y_train, y_test, X_train_train, X_train_val, y_train_train, y_train_val = data_sets"
   ]
  },
  {
   "cell_type": "markdown",
   "metadata": {},
   "source": [
    "### Linear regression"
   ]
  },
  {
   "cell_type": "code",
   "execution_count": 14,
   "metadata": {},
   "outputs": [
    {
     "data": {
      "text/plain": [
       "Ridge()"
      ]
     },
     "execution_count": 14,
     "metadata": {},
     "output_type": "execute_result"
    }
   ],
   "source": [
    "# model_05 = linear_model.LinearRegression()\n",
    "# model_05 = linear_model.Lasso()\n",
    "model_05 = linear_model.Ridge()\n",
    "model_05.fit(X_train, y_train)"
   ]
  },
  {
   "cell_type": "code",
   "execution_count": 15,
   "metadata": {},
   "outputs": [
    {
     "name": "stdout",
     "output_type": "stream",
     "text": [
      "MAE:  40805\n",
      "RMSE: 57503\n",
      "MAPE: 25.64%\n",
      "R^2:  0.815\n"
     ]
    }
   ],
   "source": [
    "y_pred_05 = model_05.predict(X_test)\n",
    "metrics_05 = get_metrics(y_test, y_pred_05)"
   ]
  },
  {
   "cell_type": "markdown",
   "metadata": {},
   "source": [
    "Cross validation"
   ]
  },
  {
   "cell_type": "code",
   "execution_count": 16,
   "metadata": {},
   "outputs": [
    {
     "data": {
      "application/vnd.jupyter.widget-view+json": {
       "model_id": "cc28a9d35cf247f1b9109c18fa10f8d2",
       "version_major": 2,
       "version_minor": 0
      },
      "text/plain": [
       "  0%|          | 0/5 [00:00<?, ?it/s]"
      ]
     },
     "metadata": {},
     "output_type": "display_data"
    },
    {
     "name": "stdout",
     "output_type": "stream",
     "text": [
      "\n",
      "MAE:  40628\n",
      "RMSE: 57265\n",
      "MAPE: 25.95%\n",
      "R^2:  0.824\n"
     ]
    }
   ],
   "source": [
    "results_df[\"Linear: S+C\"], X_05_columns = cross_validation(model_05, X, y, K_FOLDS)"
   ]
  },
  {
   "cell_type": "markdown",
   "metadata": {},
   "source": [
    "### Catboost"
   ]
  },
  {
   "cell_type": "code",
   "execution_count": 17,
   "metadata": {},
   "outputs": [
    {
     "data": {
      "text/plain": [
       "<catboost.core.CatBoostRegressor at 0x2bb250ea648>"
      ]
     },
     "execution_count": 17,
     "metadata": {},
     "output_type": "execute_result"
    }
   ],
   "source": [
    "model_06 = CatBoostRegressor()\n",
    "model_06.fit(X=X_train, y=y_train, verbose=False)"
   ]
  },
  {
   "cell_type": "code",
   "execution_count": 18,
   "metadata": {},
   "outputs": [
    {
     "name": "stdout",
     "output_type": "stream",
     "text": [
      "MAE:  29972\n",
      "RMSE: 44476\n",
      "MAPE: 17.44%\n",
      "R^2:  0.889\n"
     ]
    }
   ],
   "source": [
    "y_pred_06 = model_06.predict(X_test)\n",
    "metrics_06 = get_metrics(y_test, y_pred_06)"
   ]
  },
  {
   "cell_type": "markdown",
   "metadata": {},
   "source": [
    "Cross validation"
   ]
  },
  {
   "cell_type": "code",
   "execution_count": 19,
   "metadata": {},
   "outputs": [
    {
     "data": {
      "application/vnd.jupyter.widget-view+json": {
       "model_id": "a8309a18675b4383ae0b668287488a47",
       "version_major": 2,
       "version_minor": 0
      },
      "text/plain": [
       "  0%|          | 0/5 [00:00<?, ?it/s]"
      ]
     },
     "metadata": {},
     "output_type": "display_data"
    },
    {
     "name": "stdout",
     "output_type": "stream",
     "text": [
      "\n",
      "MAE:  29445\n",
      "RMSE: 43855\n",
      "MAPE: 17.36%\n",
      "R^2:  0.897\n"
     ]
    }
   ],
   "source": [
    "results_df[\"Catboost: S+C\"], X_06_columns = cross_validation(model_06, X, y, K_FOLDS)"
   ]
  },
  {
   "cell_type": "markdown",
   "metadata": {},
   "source": [
    "## Combining structured, text and category features"
   ]
  },
  {
   "cell_type": "markdown",
   "metadata": {},
   "source": [
    "Add category features"
   ]
  },
  {
   "cell_type": "code",
   "execution_count": 20,
   "metadata": {},
   "outputs": [
    {
     "name": "stdout",
     "output_type": "stream",
     "text": [
      "(9556, 3208)\n"
     ]
    }
   ],
   "source": [
    "merge_cols = list(structured_wiki_text.columns[:65])\n",
    "structured_wiki_combined = pd.merge(structured_wiki_text, structured_wiki_categories, on=merge_cols)\n",
    "print(structured_wiki_combined.shape)"
   ]
  },
  {
   "cell_type": "code",
   "execution_count": 21,
   "metadata": {},
   "outputs": [
    {
     "name": "stdout",
     "output_type": "stream",
     "text": [
      "\n",
      "(7167, 3196): (5375, 3196) + (1792, 3196)\n",
      "(7167,): (5375,) + (1792,)\n",
      "(2389, 3196)\n",
      "(2389,)\n"
     ]
    }
   ],
   "source": [
    "X_columns_text_cat, data_sets, error_df = make_train_test(structured_wiki_combined, dummies=DUMMIES)\n",
    "X, y, X_train, X_test, y_train, y_test, X_train_train, X_train_val, y_train_train, y_train_val = data_sets"
   ]
  },
  {
   "cell_type": "markdown",
   "metadata": {},
   "source": [
    "### Linear model"
   ]
  },
  {
   "cell_type": "code",
   "execution_count": 22,
   "metadata": {},
   "outputs": [
    {
     "data": {
      "text/plain": [
       "Ridge()"
      ]
     },
     "execution_count": 22,
     "metadata": {},
     "output_type": "execute_result"
    }
   ],
   "source": [
    "# model_07 = linear_model.LinearRegression()\n",
    "# model_07 = linear_model.Lasso()\n",
    "model_07 = linear_model.Ridge()\n",
    "model_07.fit(X_train, y_train)"
   ]
  },
  {
   "cell_type": "code",
   "execution_count": 23,
   "metadata": {},
   "outputs": [
    {
     "name": "stdout",
     "output_type": "stream",
     "text": [
      "MAE:  33009\n",
      "RMSE: 47421\n",
      "MAPE: 19.87%\n",
      "R^2:  0.874\n"
     ]
    }
   ],
   "source": [
    "y_pred_07 = model_07.predict(X_test)\n",
    "metrics_07 = get_metrics(y_test, y_pred_07)"
   ]
  },
  {
   "cell_type": "markdown",
   "metadata": {},
   "source": [
    "Cross validation"
   ]
  },
  {
   "cell_type": "code",
   "execution_count": 24,
   "metadata": {},
   "outputs": [
    {
     "data": {
      "application/vnd.jupyter.widget-view+json": {
       "model_id": "22472ee07b46439da1fa989a224c7ac2",
       "version_major": 2,
       "version_minor": 0
      },
      "text/plain": [
       "  0%|          | 0/5 [00:00<?, ?it/s]"
      ]
     },
     "metadata": {},
     "output_type": "display_data"
    },
    {
     "name": "stdout",
     "output_type": "stream",
     "text": [
      "\n",
      "MAE:  33788\n",
      "RMSE: 48720\n",
      "MAPE: 21.3%\n",
      "R^2:  0.873\n"
     ]
    }
   ],
   "source": [
    "results_df[\"Linear: S+T+C\"], X_07_columns = cross_validation(model_07, X, y, K_FOLDS)"
   ]
  },
  {
   "cell_type": "markdown",
   "metadata": {},
   "source": [
    "### Catboost"
   ]
  },
  {
   "cell_type": "code",
   "execution_count": 25,
   "metadata": {},
   "outputs": [
    {
     "data": {
      "text/plain": [
       "<catboost.core.CatBoostRegressor at 0x2bb236ea848>"
      ]
     },
     "execution_count": 25,
     "metadata": {},
     "output_type": "execute_result"
    }
   ],
   "source": [
    "model_08 = CatBoostRegressor()\n",
    "model_08.fit(X=X_train, y=y_train, verbose=False)"
   ]
  },
  {
   "cell_type": "code",
   "execution_count": 26,
   "metadata": {},
   "outputs": [
    {
     "name": "stdout",
     "output_type": "stream",
     "text": [
      "MAE:  28267\n",
      "RMSE: 41724\n",
      "MAPE: 15.71%\n",
      "R^2:  0.903\n"
     ]
    }
   ],
   "source": [
    "y_pred_08 = model_08.predict(X_test)\n",
    "metrics_08 = get_metrics(y_test, y_pred_08)"
   ]
  },
  {
   "cell_type": "markdown",
   "metadata": {},
   "source": [
    "Cross validation"
   ]
  },
  {
   "cell_type": "code",
   "execution_count": 27,
   "metadata": {},
   "outputs": [
    {
     "data": {
      "application/vnd.jupyter.widget-view+json": {
       "model_id": "aaa429fabeb54cb6bf24929af6d7b3ff",
       "version_major": 2,
       "version_minor": 0
      },
      "text/plain": [
       "  0%|          | 0/5 [00:00<?, ?it/s]"
      ]
     },
     "metadata": {},
     "output_type": "display_data"
    },
    {
     "name": "stdout",
     "output_type": "stream",
     "text": [
      "\n",
      "MAE:  28583\n",
      "RMSE: 42540\n",
      "MAPE: 16.67%\n",
      "R^2:  0.903\n"
     ]
    }
   ],
   "source": [
    "results_df[\"Catboost: S+T+C\"], X_08_columns = cross_validation(model_08, X, y, K_FOLDS)"
   ]
  },
  {
   "cell_type": "markdown",
   "metadata": {},
   "source": [
    "## Results"
   ]
  },
  {
   "cell_type": "code",
   "execution_count": 28,
   "metadata": {},
   "outputs": [
    {
     "name": "stdout",
     "output_type": "stream",
     "text": [
      "Results for a max distance of 5500m.\n"
     ]
    },
    {
     "data": {
      "text/html": [
       "<div>\n",
       "<style scoped>\n",
       "    .dataframe tbody tr th:only-of-type {\n",
       "        vertical-align: middle;\n",
       "    }\n",
       "\n",
       "    .dataframe tbody tr th {\n",
       "        vertical-align: top;\n",
       "    }\n",
       "\n",
       "    .dataframe thead th {\n",
       "        text-align: right;\n",
       "    }\n",
       "</style>\n",
       "<table border=\"1\" class=\"dataframe\">\n",
       "  <thead>\n",
       "    <tr style=\"text-align: right;\">\n",
       "      <th></th>\n",
       "      <th>Linear: S+T</th>\n",
       "      <th>Linear: S+T+C</th>\n",
       "      <th>Catboost: S+T</th>\n",
       "      <th>Catboost: S+T+C</th>\n",
       "    </tr>\n",
       "  </thead>\n",
       "  <tbody>\n",
       "    <tr>\n",
       "      <th>MAE</th>\n",
       "      <td>34237.00</td>\n",
       "      <td>33788.000</td>\n",
       "      <td>28648.000</td>\n",
       "      <td>28583.000</td>\n",
       "    </tr>\n",
       "    <tr>\n",
       "      <th>RMSE</th>\n",
       "      <td>49266.00</td>\n",
       "      <td>48720.000</td>\n",
       "      <td>42797.000</td>\n",
       "      <td>42540.000</td>\n",
       "    </tr>\n",
       "    <tr>\n",
       "      <th>MAPE</th>\n",
       "      <td>21.51</td>\n",
       "      <td>21.300</td>\n",
       "      <td>16.730</td>\n",
       "      <td>16.670</td>\n",
       "    </tr>\n",
       "    <tr>\n",
       "      <th>R^2</th>\n",
       "      <td>0.87</td>\n",
       "      <td>0.873</td>\n",
       "      <td>0.902</td>\n",
       "      <td>0.903</td>\n",
       "    </tr>\n",
       "  </tbody>\n",
       "</table>\n",
       "</div>"
      ],
      "text/plain": [
       "      Linear: S+T  Linear: S+T+C  Catboost: S+T  Catboost: S+T+C\n",
       "MAE      34237.00      33788.000      28648.000        28583.000\n",
       "RMSE     49266.00      48720.000      42797.000        42540.000\n",
       "MAPE        21.51         21.300         16.730           16.670\n",
       "R^2          0.87          0.873          0.902            0.903"
      ]
     },
     "execution_count": 28,
     "metadata": {},
     "output_type": "execute_result"
    }
   ],
   "source": [
    "results_df.index = [\"MAE\", \"RMSE\", \"MAPE\", \"R^2\"]\n",
    "# reorder columns\n",
    "results_df = results_df[[\"Linear: S+T\", \"Linear: S+T+C\", \"Catboost: S+T\", \"Catboost: S+T+C\"]]\n",
    "if WEIGHTING:\n",
    "    results_df.to_csv(PATH + f\"results/structured_wiki_{MAX_DIST}_results.csv\", index=False)\n",
    "else:\n",
    "    results_df.to_csv(PATH + f\"results/structured_wiki_{MAX_DIST}_results_NOWEIGHT.csv\", index=False)\n",
    "print(f\"Results for a max distance of {MAX_DIST}m.\")\n",
    "results_df.head()"
   ]
  },
  {
   "cell_type": "markdown",
   "metadata": {},
   "source": [
    "## Spatial out-of-sample test"
   ]
  },
  {
   "cell_type": "code",
   "execution_count": 29,
   "metadata": {},
   "outputs": [
    {
     "name": "stdout",
     "output_type": "stream",
     "text": [
      "Predicting district 1/13\n",
      "Predicting district 2/13\n",
      "Predicting district 3/13\n",
      "Predicting district 4/13\n",
      "Predicting district 5/13\n",
      "Predicting district 6/13\n",
      "Predicting district 7/13\n",
      "Predicting district 8/13\n",
      "Predicting district 9/13\n",
      "Predicting district 10/13\n",
      "Predicting district 11/13\n",
      "Predicting district 12/13\n",
      "Predicting district 13/13\n",
      "\n",
      "Weighted metrics:\n",
      "MAE:  40685\n",
      "RMSE: 57676\n",
      "MAPE: 23.82%\n",
      "R^2:  0.661\n"
     ]
    }
   ],
   "source": [
    "estimator = CatBoostRegressor()\n",
    "error_df_soos, metrics = soos_validation(estimator, structured_wiki_text)\n",
    "maes, rmses, mapes, r_squareds = metrics"
   ]
  },
  {
   "cell_type": "code",
   "execution_count": 30,
   "metadata": {
    "scrolled": false
   },
   "outputs": [
    {
     "data": {
      "text/html": [
       "<div>\n",
       "<style scoped>\n",
       "    .dataframe tbody tr th:only-of-type {\n",
       "        vertical-align: middle;\n",
       "    }\n",
       "\n",
       "    .dataframe tbody tr th {\n",
       "        vertical-align: top;\n",
       "    }\n",
       "\n",
       "    .dataframe thead th {\n",
       "        text-align: right;\n",
       "    }\n",
       "</style>\n",
       "<table border=\"1\" class=\"dataframe\">\n",
       "  <thead>\n",
       "    <tr style=\"text-align: right;\">\n",
       "      <th></th>\n",
       "      <th>id</th>\n",
       "      <th>lat</th>\n",
       "      <th>long</th>\n",
       "      <th>district</th>\n",
       "      <th>prediction</th>\n",
       "      <th>error</th>\n",
       "    </tr>\n",
       "  </thead>\n",
       "  <tbody>\n",
       "    <tr>\n",
       "      <th>0</th>\n",
       "      <td>212373</td>\n",
       "      <td>40.362531</td>\n",
       "      <td>-79.959576</td>\n",
       "      <td>district_6</td>\n",
       "      <td>124405.393297</td>\n",
       "      <td>11694.606703</td>\n",
       "    </tr>\n",
       "    <tr>\n",
       "      <th>1</th>\n",
       "      <td>290789</td>\n",
       "      <td>40.564608</td>\n",
       "      <td>-80.207006</td>\n",
       "      <td>district_2</td>\n",
       "      <td>477020.629089</td>\n",
       "      <td>-62020.629089</td>\n",
       "    </tr>\n",
       "    <tr>\n",
       "      <th>2</th>\n",
       "      <td>491314</td>\n",
       "      <td>40.577795</td>\n",
       "      <td>-80.051588</td>\n",
       "      <td>district_2</td>\n",
       "      <td>137302.322005</td>\n",
       "      <td>-48302.322005</td>\n",
       "    </tr>\n",
       "    <tr>\n",
       "      <th>3</th>\n",
       "      <td>45608</td>\n",
       "      <td>40.373040</td>\n",
       "      <td>-79.954025</td>\n",
       "      <td>district_6</td>\n",
       "      <td>403179.505748</td>\n",
       "      <td>135820.494252</td>\n",
       "    </tr>\n",
       "    <tr>\n",
       "      <th>4</th>\n",
       "      <td>489922</td>\n",
       "      <td>40.425462</td>\n",
       "      <td>-79.837627</td>\n",
       "      <td>district_7</td>\n",
       "      <td>127990.927872</td>\n",
       "      <td>259.072128</td>\n",
       "    </tr>\n",
       "    <tr>\n",
       "      <th>...</th>\n",
       "      <td>...</td>\n",
       "      <td>...</td>\n",
       "      <td>...</td>\n",
       "      <td>...</td>\n",
       "      <td>...</td>\n",
       "      <td>...</td>\n",
       "    </tr>\n",
       "    <tr>\n",
       "      <th>9551</th>\n",
       "      <td>45486</td>\n",
       "      <td>40.523675</td>\n",
       "      <td>-80.037983</td>\n",
       "      <td>district_1</td>\n",
       "      <td>216802.686283</td>\n",
       "      <td>-24802.686283</td>\n",
       "    </tr>\n",
       "    <tr>\n",
       "      <th>9552</th>\n",
       "      <td>96528</td>\n",
       "      <td>40.400842</td>\n",
       "      <td>-80.016259</td>\n",
       "      <td>district_12</td>\n",
       "      <td>132591.933818</td>\n",
       "      <td>-59091.933818</td>\n",
       "    </tr>\n",
       "    <tr>\n",
       "      <th>9553</th>\n",
       "      <td>150478</td>\n",
       "      <td>40.402549</td>\n",
       "      <td>-80.012689</td>\n",
       "      <td>district_12</td>\n",
       "      <td>220589.410882</td>\n",
       "      <td>207410.589118</td>\n",
       "    </tr>\n",
       "    <tr>\n",
       "      <th>9554</th>\n",
       "      <td>505188</td>\n",
       "      <td>40.350998</td>\n",
       "      <td>-80.053068</td>\n",
       "      <td>district_5</td>\n",
       "      <td>146005.921389</td>\n",
       "      <td>-31005.921389</td>\n",
       "    </tr>\n",
       "    <tr>\n",
       "      <th>9555</th>\n",
       "      <td>350776</td>\n",
       "      <td>40.268761</td>\n",
       "      <td>-79.840174</td>\n",
       "      <td>district_9</td>\n",
       "      <td>100895.211268</td>\n",
       "      <td>-10895.211268</td>\n",
       "    </tr>\n",
       "  </tbody>\n",
       "</table>\n",
       "<p>9556 rows × 6 columns</p>\n",
       "</div>"
      ],
      "text/plain": [
       "          id        lat       long     district     prediction          error\n",
       "0     212373  40.362531 -79.959576   district_6  124405.393297   11694.606703\n",
       "1     290789  40.564608 -80.207006   district_2  477020.629089  -62020.629089\n",
       "2     491314  40.577795 -80.051588   district_2  137302.322005  -48302.322005\n",
       "3      45608  40.373040 -79.954025   district_6  403179.505748  135820.494252\n",
       "4     489922  40.425462 -79.837627   district_7  127990.927872     259.072128\n",
       "...      ...        ...        ...          ...            ...            ...\n",
       "9551   45486  40.523675 -80.037983   district_1  216802.686283  -24802.686283\n",
       "9552   96528  40.400842 -80.016259  district_12  132591.933818  -59091.933818\n",
       "9553  150478  40.402549 -80.012689  district_12  220589.410882  207410.589118\n",
       "9554  505188  40.350998 -80.053068   district_5  146005.921389  -31005.921389\n",
       "9555  350776  40.268761 -79.840174   district_9  100895.211268  -10895.211268\n",
       "\n",
       "[9556 rows x 6 columns]"
      ]
     },
     "execution_count": 30,
     "metadata": {},
     "output_type": "execute_result"
    }
   ],
   "source": [
    "if WEIGHTING:\n",
    "    error_df_soos.to_csv(PATH+\"results/errors_soos_wiki.csv\")\n",
    "else:\n",
    "    error_df_soos.to_csv(PATH+\"results/errors_soos_wiki_noweight.csv\")\n",
    "error_df_soos"
   ]
  },
  {
   "cell_type": "markdown",
   "metadata": {},
   "source": [
    "Display metrics for each district along with aggregated information about houses in that district"
   ]
  },
  {
   "cell_type": "code",
   "execution_count": 31,
   "metadata": {},
   "outputs": [
    {
     "data": {
      "text/html": [
       "<div>\n",
       "<style scoped>\n",
       "    .dataframe tbody tr th:only-of-type {\n",
       "        vertical-align: middle;\n",
       "    }\n",
       "\n",
       "    .dataframe tbody tr th {\n",
       "        vertical-align: top;\n",
       "    }\n",
       "\n",
       "    .dataframe thead th {\n",
       "        text-align: right;\n",
       "    }\n",
       "</style>\n",
       "<table border=\"1\" class=\"dataframe\">\n",
       "  <thead>\n",
       "    <tr style=\"text-align: right;\">\n",
       "      <th></th>\n",
       "      <th>mae</th>\n",
       "      <th>rmse</th>\n",
       "      <th>mapes</th>\n",
       "      <th>R^2</th>\n",
       "      <th>SALEPRICE</th>\n",
       "      <th>LOTAREA</th>\n",
       "      <th>YEARBLT</th>\n",
       "      <th>STORIES</th>\n",
       "    </tr>\n",
       "  </thead>\n",
       "  <tbody>\n",
       "    <tr>\n",
       "      <th>district_1</th>\n",
       "      <td>29106.015078</td>\n",
       "      <td>41286.326232</td>\n",
       "      <td>13.673580</td>\n",
       "      <td>0.790494</td>\n",
       "      <td>219849.905742</td>\n",
       "      <td>18302.388949</td>\n",
       "      <td>1959.393283</td>\n",
       "      <td>1.557638</td>\n",
       "    </tr>\n",
       "    <tr>\n",
       "      <th>district_2</th>\n",
       "      <td>54908.129702</td>\n",
       "      <td>82556.482466</td>\n",
       "      <td>15.344813</td>\n",
       "      <td>0.737084</td>\n",
       "      <td>347195.029630</td>\n",
       "      <td>28928.464550</td>\n",
       "      <td>1968.440212</td>\n",
       "      <td>1.703175</td>\n",
       "    </tr>\n",
       "    <tr>\n",
       "      <th>district_3</th>\n",
       "      <td>48064.424865</td>\n",
       "      <td>76781.220582</td>\n",
       "      <td>18.520139</td>\n",
       "      <td>0.782522</td>\n",
       "      <td>261041.727106</td>\n",
       "      <td>22902.147436</td>\n",
       "      <td>1959.855311</td>\n",
       "      <td>1.500916</td>\n",
       "    </tr>\n",
       "    <tr>\n",
       "      <th>district_4</th>\n",
       "      <td>33650.596736</td>\n",
       "      <td>44361.989831</td>\n",
       "      <td>22.551744</td>\n",
       "      <td>0.769670</td>\n",
       "      <td>191448.015873</td>\n",
       "      <td>16155.658009</td>\n",
       "      <td>1956.578644</td>\n",
       "      <td>1.485570</td>\n",
       "    </tr>\n",
       "    <tr>\n",
       "      <th>district_5</th>\n",
       "      <td>52270.336379</td>\n",
       "      <td>73574.665427</td>\n",
       "      <td>17.025866</td>\n",
       "      <td>0.636064</td>\n",
       "      <td>279481.883882</td>\n",
       "      <td>13725.758232</td>\n",
       "      <td>1956.907279</td>\n",
       "      <td>1.650347</td>\n",
       "    </tr>\n",
       "    <tr>\n",
       "      <th>district_6</th>\n",
       "      <td>25255.133660</td>\n",
       "      <td>32618.579062</td>\n",
       "      <td>18.072573</td>\n",
       "      <td>0.708656</td>\n",
       "      <td>159027.268519</td>\n",
       "      <td>10129.287037</td>\n",
       "      <td>1955.130658</td>\n",
       "      <td>1.431070</td>\n",
       "    </tr>\n",
       "    <tr>\n",
       "      <th>district_7</th>\n",
       "      <td>41445.171566</td>\n",
       "      <td>48836.776230</td>\n",
       "      <td>43.915732</td>\n",
       "      <td>0.557659</td>\n",
       "      <td>125184.599506</td>\n",
       "      <td>11433.442522</td>\n",
       "      <td>1950.647713</td>\n",
       "      <td>1.464524</td>\n",
       "    </tr>\n",
       "    <tr>\n",
       "      <th>district_8</th>\n",
       "      <td>26702.526186</td>\n",
       "      <td>37469.897268</td>\n",
       "      <td>20.621169</td>\n",
       "      <td>0.775935</td>\n",
       "      <td>158730.732000</td>\n",
       "      <td>13534.752000</td>\n",
       "      <td>1956.425333</td>\n",
       "      <td>1.457333</td>\n",
       "    </tr>\n",
       "    <tr>\n",
       "      <th>district_9</th>\n",
       "      <td>32859.263907</td>\n",
       "      <td>41264.608939</td>\n",
       "      <td>43.918620</td>\n",
       "      <td>0.117538</td>\n",
       "      <td>100983.590308</td>\n",
       "      <td>12213.361233</td>\n",
       "      <td>1951.126285</td>\n",
       "      <td>1.278267</td>\n",
       "    </tr>\n",
       "    <tr>\n",
       "      <th>district_10</th>\n",
       "      <td>58684.203330</td>\n",
       "      <td>85764.019878</td>\n",
       "      <td>47.996093</td>\n",
       "      <td>0.560845</td>\n",
       "      <td>190825.944681</td>\n",
       "      <td>7570.417021</td>\n",
       "      <td>1936.978723</td>\n",
       "      <td>1.878723</td>\n",
       "    </tr>\n",
       "    <tr>\n",
       "      <th>district_11</th>\n",
       "      <td>78553.311593</td>\n",
       "      <td>123097.075686</td>\n",
       "      <td>27.615449</td>\n",
       "      <td>0.684255</td>\n",
       "      <td>277164.033413</td>\n",
       "      <td>5665.145585</td>\n",
       "      <td>1929.871122</td>\n",
       "      <td>1.893795</td>\n",
       "    </tr>\n",
       "    <tr>\n",
       "      <th>district_12</th>\n",
       "      <td>27196.914925</td>\n",
       "      <td>36518.556239</td>\n",
       "      <td>26.076275</td>\n",
       "      <td>0.642125</td>\n",
       "      <td>131674.118421</td>\n",
       "      <td>5992.001645</td>\n",
       "      <td>1936.500000</td>\n",
       "      <td>1.709704</td>\n",
       "    </tr>\n",
       "    <tr>\n",
       "      <th>district_13</th>\n",
       "      <td>37026.867982</td>\n",
       "      <td>51561.457362</td>\n",
       "      <td>28.296694</td>\n",
       "      <td>0.569698</td>\n",
       "      <td>149200.901818</td>\n",
       "      <td>4573.843636</td>\n",
       "      <td>1926.200000</td>\n",
       "      <td>1.874545</td>\n",
       "    </tr>\n",
       "  </tbody>\n",
       "</table>\n",
       "</div>"
      ],
      "text/plain": [
       "                      mae           rmse      mapes       R^2      SALEPRICE  \\\n",
       "district_1   29106.015078   41286.326232  13.673580  0.790494  219849.905742   \n",
       "district_2   54908.129702   82556.482466  15.344813  0.737084  347195.029630   \n",
       "district_3   48064.424865   76781.220582  18.520139  0.782522  261041.727106   \n",
       "district_4   33650.596736   44361.989831  22.551744  0.769670  191448.015873   \n",
       "district_5   52270.336379   73574.665427  17.025866  0.636064  279481.883882   \n",
       "district_6   25255.133660   32618.579062  18.072573  0.708656  159027.268519   \n",
       "district_7   41445.171566   48836.776230  43.915732  0.557659  125184.599506   \n",
       "district_8   26702.526186   37469.897268  20.621169  0.775935  158730.732000   \n",
       "district_9   32859.263907   41264.608939  43.918620  0.117538  100983.590308   \n",
       "district_10  58684.203330   85764.019878  47.996093  0.560845  190825.944681   \n",
       "district_11  78553.311593  123097.075686  27.615449  0.684255  277164.033413   \n",
       "district_12  27196.914925   36518.556239  26.076275  0.642125  131674.118421   \n",
       "district_13  37026.867982   51561.457362  28.296694  0.569698  149200.901818   \n",
       "\n",
       "                  LOTAREA      YEARBLT   STORIES  \n",
       "district_1   18302.388949  1959.393283  1.557638  \n",
       "district_2   28928.464550  1968.440212  1.703175  \n",
       "district_3   22902.147436  1959.855311  1.500916  \n",
       "district_4   16155.658009  1956.578644  1.485570  \n",
       "district_5   13725.758232  1956.907279  1.650347  \n",
       "district_6   10129.287037  1955.130658  1.431070  \n",
       "district_7   11433.442522  1950.647713  1.464524  \n",
       "district_8   13534.752000  1956.425333  1.457333  \n",
       "district_9   12213.361233  1951.126285  1.278267  \n",
       "district_10   7570.417021  1936.978723  1.878723  \n",
       "district_11   5665.145585  1929.871122  1.893795  \n",
       "district_12   5992.001645  1936.500000  1.709704  \n",
       "district_13   4573.843636  1926.200000  1.874545  "
      ]
     },
     "execution_count": 31,
     "metadata": {},
     "output_type": "execute_result"
    }
   ],
   "source": [
    "districts = [\"district_\"+str(i) for i in range(1,14)]\n",
    "metrics_df = pd.DataFrame(data={\"district\":districts, \"mae\":maes, \"rmse\":rmses, \"mapes\":mapes, \"R^2\":r_squareds})\n",
    "metrics_df = metrics_df.set_index(\"district\")\n",
    "metrics_df.to_csv(PATH+\"results/errors_soos_district_wiki.csv\")\n",
    "\n",
    "# add more information about each district to characterize\n",
    "df_agg = structured_wiki_text.groupby(by=\"DISTRICT\").mean()\n",
    "df_agg  = df_agg[[\"SALEPRICE\", \"LOTAREA\", \"YEARBLT\", \"STORIES\"]]\n",
    "metrics_df_agg = pd.concat([metrics_df, df_agg], axis=1)\n",
    "\n",
    "metrics_df_agg"
   ]
  },
  {
   "cell_type": "markdown",
   "metadata": {},
   "source": [
    "## Exploring solution"
   ]
  },
  {
   "cell_type": "markdown",
   "metadata": {},
   "source": [
    "### Category features"
   ]
  },
  {
   "cell_type": "code",
   "execution_count": 32,
   "metadata": {},
   "outputs": [
    {
     "data": {
      "text/html": [
       "<div>\n",
       "<style scoped>\n",
       "    .dataframe tbody tr th:only-of-type {\n",
       "        vertical-align: middle;\n",
       "    }\n",
       "\n",
       "    .dataframe tbody tr th {\n",
       "        vertical-align: top;\n",
       "    }\n",
       "\n",
       "    .dataframe thead th {\n",
       "        text-align: right;\n",
       "    }\n",
       "</style>\n",
       "<table border=\"1\" class=\"dataframe\">\n",
       "  <thead>\n",
       "    <tr style=\"text-align: right;\">\n",
       "      <th></th>\n",
       "      <th>feature</th>\n",
       "      <th>coef</th>\n",
       "    </tr>\n",
       "  </thead>\n",
       "  <tbody>\n",
       "    <tr>\n",
       "      <th>7</th>\n",
       "      <td>skyscraper_dist</td>\n",
       "      <td>-4.577016</td>\n",
       "    </tr>\n",
       "    <tr>\n",
       "      <th>5</th>\n",
       "      <td>tourist attraction_dist</td>\n",
       "      <td>-4.298600</td>\n",
       "    </tr>\n",
       "    <tr>\n",
       "      <th>3</th>\n",
       "      <td>river_dist</td>\n",
       "      <td>-2.613502</td>\n",
       "    </tr>\n",
       "    <tr>\n",
       "      <th>13</th>\n",
       "      <td>museum_dist</td>\n",
       "      <td>-2.358905</td>\n",
       "    </tr>\n",
       "    <tr>\n",
       "      <th>15</th>\n",
       "      <td>railway station_dist</td>\n",
       "      <td>-1.399124</td>\n",
       "    </tr>\n",
       "    <tr>\n",
       "      <th>1</th>\n",
       "      <td>bridge_dist</td>\n",
       "      <td>-1.144772</td>\n",
       "    </tr>\n",
       "    <tr>\n",
       "      <th>25</th>\n",
       "      <td>librar_dist</td>\n",
       "      <td>-0.836893</td>\n",
       "    </tr>\n",
       "    <tr>\n",
       "      <th>11</th>\n",
       "      <td>universit_dist</td>\n",
       "      <td>-0.759298</td>\n",
       "    </tr>\n",
       "    <tr>\n",
       "      <th>23</th>\n",
       "      <td>music venue_dist</td>\n",
       "      <td>-0.422663</td>\n",
       "    </tr>\n",
       "    <tr>\n",
       "      <th>19</th>\n",
       "      <td>sports venue_dist</td>\n",
       "      <td>0.225843</td>\n",
       "    </tr>\n",
       "  </tbody>\n",
       "</table>\n",
       "</div>"
      ],
      "text/plain": [
       "                    feature      coef\n",
       "7           skyscraper_dist -4.577016\n",
       "5   tourist attraction_dist -4.298600\n",
       "3                river_dist -2.613502\n",
       "13              museum_dist -2.358905\n",
       "15     railway station_dist -1.399124\n",
       "1               bridge_dist -1.144772\n",
       "25              librar_dist -0.836893\n",
       "11           universit_dist -0.759298\n",
       "23         music venue_dist -0.422663\n",
       "19        sports venue_dist  0.225843"
      ]
     },
     "execution_count": 32,
     "metadata": {},
     "output_type": "execute_result"
    }
   ],
   "source": [
    "category_coef_df = pd.DataFrame(data={\"feature\": X_05_columns[54:], \"coef\": model_05.coef_[54:]})\n",
    "category_coef_df_dist = category_coef_df[category_coef_df[\"feature\"].str.contains(\"dist\")]\n",
    "category_coef_df_dist.sort_values(by=[\"coef\"], ascending=True).head(10)"
   ]
  },
  {
   "cell_type": "markdown",
   "metadata": {},
   "source": [
    "### Text features"
   ]
  },
  {
   "cell_type": "markdown",
   "metadata": {},
   "source": [
    "Feature importance for best model"
   ]
  },
  {
   "cell_type": "code",
   "execution_count": 33,
   "metadata": {},
   "outputs": [
    {
     "data": {
      "text/plain": [
       "[('actor', 1.7477560310104763),\n",
       " ('emergency', 0.8421273567260995),\n",
       " ('monongahela river', 0.6485677795126841),\n",
       " ('news world', 0.6479561798041462),\n",
       " ('chapel', 0.5650843203484709),\n",
       " ('farms', 0.5173987247761488),\n",
       " ('new year', 0.4933607346793734),\n",
       " ('category steel', 0.4411459735018301),\n",
       " ('writer', 0.4167552382809443),\n",
       " ('leadership', 0.3882450902557),\n",
       " ('silver', 0.3823530011225753),\n",
       " ('note', 0.37327422130116855),\n",
       " ('year cohort', 0.36199871808411593),\n",
       " ('marshall', 0.33126660399581526),\n",
       " ('produce', 0.3304650277503912)]"
      ]
     },
     "execution_count": 33,
     "metadata": {},
     "output_type": "execute_result"
    }
   ],
   "source": [
    "sorted(list(zip(X_04_columns[54:], model_04.get_feature_importance()[54:])), key=lambda x: x[1], reverse=True)[:15]"
   ]
  },
  {
   "cell_type": "code",
   "execution_count": 34,
   "metadata": {},
   "outputs": [],
   "source": [
    "to_drop = [\"_id\", \"PROPERTYZIP\", \"MUNICODE\", \"SCHOOLCODE\", \"NEIGHCODE\", \"SALEDATE\",\n",
    "           \"SALEPRICE\", \"FAIRMARKETTOTAL\", \"latitude\", \"longitude\", \"SALEYEAR\", \"DISTRICT\"]\n",
    "word_df = structured_wiki_text.drop(to_drop, axis=1)"
   ]
  },
  {
   "cell_type": "code",
   "execution_count": 35,
   "metadata": {
    "scrolled": true
   },
   "outputs": [
    {
     "name": "stdout",
     "output_type": "stream",
     "text": [
      "Intercept: -305817.46820107056\n"
     ]
    },
    {
     "data": {
      "text/html": [
       "<div>\n",
       "<style scoped>\n",
       "    .dataframe tbody tr th:only-of-type {\n",
       "        vertical-align: middle;\n",
       "    }\n",
       "\n",
       "    .dataframe tbody tr th {\n",
       "        vertical-align: top;\n",
       "    }\n",
       "\n",
       "    .dataframe thead th {\n",
       "        text-align: right;\n",
       "    }\n",
       "</style>\n",
       "<table border=\"1\" class=\"dataframe\">\n",
       "  <thead>\n",
       "    <tr style=\"text-align: right;\">\n",
       "      <th></th>\n",
       "      <th>feature</th>\n",
       "      <th>coef</th>\n",
       "    </tr>\n",
       "  </thead>\n",
       "  <tbody>\n",
       "    <tr>\n",
       "      <th>0</th>\n",
       "      <td>abandoned</td>\n",
       "      <td>18811.552756</td>\n",
       "    </tr>\n",
       "    <tr>\n",
       "      <th>1</th>\n",
       "      <td>ability</td>\n",
       "      <td>-2155.963706</td>\n",
       "    </tr>\n",
       "    <tr>\n",
       "      <th>2</th>\n",
       "      <td>able</td>\n",
       "      <td>5287.157480</td>\n",
       "    </tr>\n",
       "    <tr>\n",
       "      <th>3</th>\n",
       "      <td>academic</td>\n",
       "      <td>-12326.754105</td>\n",
       "    </tr>\n",
       "    <tr>\n",
       "      <th>4</th>\n",
       "      <td>academic achievement</td>\n",
       "      <td>1344.579139</td>\n",
       "    </tr>\n",
       "    <tr>\n",
       "      <th>5</th>\n",
       "      <td>academic performance</td>\n",
       "      <td>-3712.691886</td>\n",
       "    </tr>\n",
       "    <tr>\n",
       "      <th>6</th>\n",
       "      <td>academics</td>\n",
       "      <td>-718.161176</td>\n",
       "    </tr>\n",
       "    <tr>\n",
       "      <th>7</th>\n",
       "      <td>academy</td>\n",
       "      <td>11885.293589</td>\n",
       "    </tr>\n",
       "    <tr>\n",
       "      <th>8</th>\n",
       "      <td>accept</td>\n",
       "      <td>1177.323985</td>\n",
       "    </tr>\n",
       "    <tr>\n",
       "      <th>9</th>\n",
       "      <td>accept credits</td>\n",
       "      <td>284.413718</td>\n",
       "    </tr>\n",
       "    <tr>\n",
       "      <th>10</th>\n",
       "      <td>access</td>\n",
       "      <td>17188.991374</td>\n",
       "    </tr>\n",
       "    <tr>\n",
       "      <th>11</th>\n",
       "      <td>access activities</td>\n",
       "      <td>357.578943</td>\n",
       "    </tr>\n",
       "    <tr>\n",
       "      <th>12</th>\n",
       "      <td>accessed</td>\n",
       "      <td>-2720.821054</td>\n",
       "    </tr>\n",
       "    <tr>\n",
       "      <th>13</th>\n",
       "      <td>accessible</td>\n",
       "      <td>-14895.945091</td>\n",
       "    </tr>\n",
       "    <tr>\n",
       "      <th>14</th>\n",
       "      <td>accommodate</td>\n",
       "      <td>7896.106371</td>\n",
       "    </tr>\n",
       "    <tr>\n",
       "      <th>15</th>\n",
       "      <td>according</td>\n",
       "      <td>3814.862068</td>\n",
       "    </tr>\n",
       "    <tr>\n",
       "      <th>16</th>\n",
       "      <td>according national</td>\n",
       "      <td>-2459.724085</td>\n",
       "    </tr>\n",
       "    <tr>\n",
       "      <th>17</th>\n",
       "      <td>according pennsylvania</td>\n",
       "      <td>6339.967722</td>\n",
       "    </tr>\n",
       "    <tr>\n",
       "      <th>18</th>\n",
       "      <td>according report</td>\n",
       "      <td>-2077.373951</td>\n",
       "    </tr>\n",
       "    <tr>\n",
       "      <th>19</th>\n",
       "      <td>according united</td>\n",
       "      <td>-533.820098</td>\n",
       "    </tr>\n",
       "    <tr>\n",
       "      <th>20</th>\n",
       "      <td>account</td>\n",
       "      <td>8302.155274</td>\n",
       "    </tr>\n",
       "    <tr>\n",
       "      <th>21</th>\n",
       "      <td>achieve</td>\n",
       "      <td>-4147.602089</td>\n",
       "    </tr>\n",
       "    <tr>\n",
       "      <th>22</th>\n",
       "      <td>achieved</td>\n",
       "      <td>-3827.362393</td>\n",
       "    </tr>\n",
       "    <tr>\n",
       "      <th>23</th>\n",
       "      <td>achieved ayp</td>\n",
       "      <td>-1624.297195</td>\n",
       "    </tr>\n",
       "    <tr>\n",
       "      <th>24</th>\n",
       "      <td>achievement</td>\n",
       "      <td>-2944.913564</td>\n",
       "    </tr>\n",
       "    <tr>\n",
       "      <th>25</th>\n",
       "      <td>achievement report</td>\n",
       "      <td>-2401.160691</td>\n",
       "    </tr>\n",
       "    <tr>\n",
       "      <th>26</th>\n",
       "      <td>acquired</td>\n",
       "      <td>5447.774170</td>\n",
       "    </tr>\n",
       "    <tr>\n",
       "      <th>27</th>\n",
       "      <td>acre</td>\n",
       "      <td>16829.838811</td>\n",
       "    </tr>\n",
       "    <tr>\n",
       "      <th>28</th>\n",
       "      <td>acres</td>\n",
       "      <td>-13014.332013</td>\n",
       "    </tr>\n",
       "    <tr>\n",
       "      <th>29</th>\n",
       "      <td>across</td>\n",
       "      <td>-19815.133043</td>\n",
       "    </tr>\n",
       "    <tr>\n",
       "      <th>30</th>\n",
       "      <td>across allegheny</td>\n",
       "      <td>-12438.804697</td>\n",
       "    </tr>\n",
       "    <tr>\n",
       "      <th>31</th>\n",
       "      <td>across monongahela</td>\n",
       "      <td>-1841.344796</td>\n",
       "    </tr>\n",
       "    <tr>\n",
       "      <th>32</th>\n",
       "      <td>act</td>\n",
       "      <td>-3017.005921</td>\n",
       "    </tr>\n",
       "    <tr>\n",
       "      <th>33</th>\n",
       "      <td>action</td>\n",
       "      <td>-2704.806783</td>\n",
       "    </tr>\n",
       "    <tr>\n",
       "      <th>34</th>\n",
       "      <td>actions</td>\n",
       "      <td>5355.315525</td>\n",
       "    </tr>\n",
       "    <tr>\n",
       "      <th>35</th>\n",
       "      <td>active</td>\n",
       "      <td>-6936.393827</td>\n",
       "    </tr>\n",
       "    <tr>\n",
       "      <th>36</th>\n",
       "      <td>activities</td>\n",
       "      <td>-21198.757773</td>\n",
       "    </tr>\n",
       "    <tr>\n",
       "      <th>37</th>\n",
       "      <td>activities programs</td>\n",
       "      <td>-3644.717649</td>\n",
       "    </tr>\n",
       "    <tr>\n",
       "      <th>38</th>\n",
       "      <td>activity</td>\n",
       "      <td>918.421338</td>\n",
       "    </tr>\n",
       "    <tr>\n",
       "      <th>39</th>\n",
       "      <td>actor</td>\n",
       "      <td>-3848.620965</td>\n",
       "    </tr>\n",
       "    <tr>\n",
       "      <th>40</th>\n",
       "      <td>actress</td>\n",
       "      <td>498.240500</td>\n",
       "    </tr>\n",
       "    <tr>\n",
       "      <th>41</th>\n",
       "      <td>actually</td>\n",
       "      <td>-1391.148509</td>\n",
       "    </tr>\n",
       "    <tr>\n",
       "      <th>42</th>\n",
       "      <td>add</td>\n",
       "      <td>-4084.607734</td>\n",
       "    </tr>\n",
       "    <tr>\n",
       "      <th>43</th>\n",
       "      <td>added</td>\n",
       "      <td>-9628.088552</td>\n",
       "    </tr>\n",
       "    <tr>\n",
       "      <th>44</th>\n",
       "      <td>added list</td>\n",
       "      <td>-12920.652568</td>\n",
       "    </tr>\n",
       "    <tr>\n",
       "      <th>45</th>\n",
       "      <td>added national</td>\n",
       "      <td>-8754.227779</td>\n",
       "    </tr>\n",
       "    <tr>\n",
       "      <th>46</th>\n",
       "      <td>adding</td>\n",
       "      <td>-519.487159</td>\n",
       "    </tr>\n",
       "    <tr>\n",
       "      <th>47</th>\n",
       "      <td>addition</td>\n",
       "      <td>-1546.143939</td>\n",
       "    </tr>\n",
       "    <tr>\n",
       "      <th>48</th>\n",
       "      <td>additional</td>\n",
       "      <td>2256.509453</td>\n",
       "    </tr>\n",
       "    <tr>\n",
       "      <th>49</th>\n",
       "      <td>additional fields</td>\n",
       "      <td>776.996825</td>\n",
       "    </tr>\n",
       "    <tr>\n",
       "      <th>50</th>\n",
       "      <td>additionally</td>\n",
       "      <td>-6331.969701</td>\n",
       "    </tr>\n",
       "    <tr>\n",
       "      <th>51</th>\n",
       "      <td>address</td>\n",
       "      <td>8356.793794</td>\n",
       "    </tr>\n",
       "    <tr>\n",
       "      <th>52</th>\n",
       "      <td>adjacent</td>\n",
       "      <td>7610.171444</td>\n",
       "    </tr>\n",
       "  </tbody>\n",
       "</table>\n",
       "</div>"
      ],
      "text/plain": [
       "                   feature          coef\n",
       "0                abandoned  18811.552756\n",
       "1                  ability  -2155.963706\n",
       "2                     able   5287.157480\n",
       "3                 academic -12326.754105\n",
       "4     academic achievement   1344.579139\n",
       "5     academic performance  -3712.691886\n",
       "6                academics   -718.161176\n",
       "7                  academy  11885.293589\n",
       "8                   accept   1177.323985\n",
       "9           accept credits    284.413718\n",
       "10                  access  17188.991374\n",
       "11       access activities    357.578943\n",
       "12                accessed  -2720.821054\n",
       "13              accessible -14895.945091\n",
       "14             accommodate   7896.106371\n",
       "15               according   3814.862068\n",
       "16      according national  -2459.724085\n",
       "17  according pennsylvania   6339.967722\n",
       "18        according report  -2077.373951\n",
       "19        according united   -533.820098\n",
       "20                 account   8302.155274\n",
       "21                 achieve  -4147.602089\n",
       "22                achieved  -3827.362393\n",
       "23            achieved ayp  -1624.297195\n",
       "24             achievement  -2944.913564\n",
       "25      achievement report  -2401.160691\n",
       "26                acquired   5447.774170\n",
       "27                    acre  16829.838811\n",
       "28                   acres -13014.332013\n",
       "29                  across -19815.133043\n",
       "30        across allegheny -12438.804697\n",
       "31      across monongahela  -1841.344796\n",
       "32                     act  -3017.005921\n",
       "33                  action  -2704.806783\n",
       "34                 actions   5355.315525\n",
       "35                  active  -6936.393827\n",
       "36              activities -21198.757773\n",
       "37     activities programs  -3644.717649\n",
       "38                activity    918.421338\n",
       "39                   actor  -3848.620965\n",
       "40                 actress    498.240500\n",
       "41                actually  -1391.148509\n",
       "42                     add  -4084.607734\n",
       "43                   added  -9628.088552\n",
       "44              added list -12920.652568\n",
       "45          added national  -8754.227779\n",
       "46                  adding   -519.487159\n",
       "47                addition  -1546.143939\n",
       "48              additional   2256.509453\n",
       "49       additional fields    776.996825\n",
       "50            additionally  -6331.969701\n",
       "51                 address   8356.793794\n",
       "52                adjacent   7610.171444"
      ]
     },
     "execution_count": 35,
     "metadata": {},
     "output_type": "execute_result"
    }
   ],
   "source": [
    "print(f\"Intercept: {model_03.intercept_}\")\n",
    "word_coef_df = pd.DataFrame(data={\"feature\": X_03_columns[53:], \"coef\": model_03.coef_[53:]})\n",
    "word_coef_lookup = {word:coef for (word, coef) in zip(X_03_columns[53:], model_03.coef_[53:])}\n",
    "word_coef_df.head(53)"
   ]
  },
  {
   "cell_type": "markdown",
   "metadata": {},
   "source": [
    "The next cell prints the coefficient for a specific word."
   ]
  },
  {
   "cell_type": "code",
   "execution_count": 36,
   "metadata": {},
   "outputs": [
    {
     "name": "stdout",
     "output_type": "stream",
     "text": [
      "Coefficient for \"hospital\" is -12461.12\n"
     ]
    }
   ],
   "source": [
    "word_to_test = \"hospital\"\n",
    "\n",
    "coef = word_coef_lookup[word_to_test]\n",
    "print(f\"Coefficient for \\\"{word_to_test}\\\" is {round(float(coef), 2)}\")"
   ]
  },
  {
   "cell_type": "markdown",
   "metadata": {},
   "source": [
    "Find out most and least valuable words"
   ]
  },
  {
   "cell_type": "code",
   "execution_count": 37,
   "metadata": {},
   "outputs": [
    {
     "data": {
      "text/html": [
       "<style  type=\"text/css\" >\n",
       "</style><table id=\"T_9ff4c_\" style='display:inline'><caption>Most valuable words</caption><thead>    <tr>        <th class=\"blank level0\" ></th>        <th class=\"col_heading level0 col0\" >feature</th>        <th class=\"col_heading level0 col1\" >coef</th>    </tr></thead><tbody>\n",
       "                <tr>\n",
       "                        <th id=\"T_9ff4c_level0_row0\" class=\"row_heading level0 row0\" >245</th>\n",
       "                        <td id=\"T_9ff4c_row0_col0\" class=\"data row0 col0\" >beaver county</td>\n",
       "                        <td id=\"T_9ff4c_row0_col1\" class=\"data row0 col1\" >57364.360316</td>\n",
       "            </tr>\n",
       "            <tr>\n",
       "                        <th id=\"T_9ff4c_level0_row1\" class=\"row_heading level0 row1\" >89</th>\n",
       "                        <td id=\"T_9ff4c_row1_col0\" class=\"data row1 col0\" >allegheny river</td>\n",
       "                        <td id=\"T_9ff4c_row1_col1\" class=\"data row1 col1\" >56513.683694</td>\n",
       "            </tr>\n",
       "            <tr>\n",
       "                        <th id=\"T_9ff4c_level0_row2\" class=\"row_heading level0 row2\" >2553</th>\n",
       "                        <td id=\"T_9ff4c_row2_col0\" class=\"data row2 col0\" >show</td>\n",
       "                        <td id=\"T_9ff4c_row2_col1\" class=\"data row2 col1\" >45435.986526</td>\n",
       "            </tr>\n",
       "            <tr>\n",
       "                        <th id=\"T_9ff4c_level0_row3\" class=\"row_heading level0 row3\" >244</th>\n",
       "                        <td id=\"T_9ff4c_row3_col0\" class=\"data row3 col0\" >beaver</td>\n",
       "                        <td id=\"T_9ff4c_row3_col1\" class=\"data row3 col1\" >41598.524499</td>\n",
       "            </tr>\n",
       "            <tr>\n",
       "                        <th id=\"T_9ff4c_level0_row4\" class=\"row_heading level0 row4\" >457</th>\n",
       "                        <td id=\"T_9ff4c_row4_col0\" class=\"data row4 col0\" >championship</td>\n",
       "                        <td id=\"T_9ff4c_row4_col1\" class=\"data row4 col1\" >40184.904495</td>\n",
       "            </tr>\n",
       "            <tr>\n",
       "                        <th id=\"T_9ff4c_level0_row5\" class=\"row_heading level0 row5\" >2412</th>\n",
       "                        <td id=\"T_9ff4c_row5_col0\" class=\"data row5 col0\" >room</td>\n",
       "                        <td id=\"T_9ff4c_row5_col1\" class=\"data row5 col1\" >37962.481172</td>\n",
       "            </tr>\n",
       "            <tr>\n",
       "                        <th id=\"T_9ff4c_level0_row6\" class=\"row_heading level0 row6\" >210</th>\n",
       "                        <td id=\"T_9ff4c_row6_col0\" class=\"data row6 col0\" >avenue</td>\n",
       "                        <td id=\"T_9ff4c_row6_col1\" class=\"data row6 col1\" >37899.272778</td>\n",
       "            </tr>\n",
       "            <tr>\n",
       "                        <th id=\"T_9ff4c_level0_row7\" class=\"row_heading level0 row7\" >1224</th>\n",
       "                        <td id=\"T_9ff4c_row7_col0\" class=\"data row7 col0\" >heights</td>\n",
       "                        <td id=\"T_9ff4c_row7_col1\" class=\"data row7 col1\" >37656.711097</td>\n",
       "            </tr>\n",
       "            <tr>\n",
       "                        <th id=\"T_9ff4c_level0_row8\" class=\"row_heading level0 row8\" >1837</th>\n",
       "                        <td id=\"T_9ff4c_row8_col0\" class=\"data row8 col0\" >november</td>\n",
       "                        <td id=\"T_9ff4c_row8_col1\" class=\"data row8 col1\" >37627.733295</td>\n",
       "            </tr>\n",
       "            <tr>\n",
       "                        <th id=\"T_9ff4c_level0_row9\" class=\"row_heading level0 row9\" >1278</th>\n",
       "                        <td id=\"T_9ff4c_row9_col0\" class=\"data row9 col0\" >hot</td>\n",
       "                        <td id=\"T_9ff4c_row9_col1\" class=\"data row9 col1\" >37451.768468</td>\n",
       "            </tr>\n",
       "    </tbody></table><style  type=\"text/css\" >\n",
       "</style><table id=\"T_8746e_\" style='display:inline'><caption>Least valuable words</caption><thead>    <tr>        <th class=\"blank level0\" ></th>        <th class=\"col_heading level0 col0\" >feature</th>        <th class=\"col_heading level0 col1\" >coef</th>    </tr></thead><tbody>\n",
       "                <tr>\n",
       "                        <th id=\"T_8746e_level0_row0\" class=\"row_heading level0 row0\" >486</th>\n",
       "                        <td id=\"T_8746e_row0_col0\" class=\"data row0 col0\" >city</td>\n",
       "                        <td id=\"T_8746e_row0_col1\" class=\"data row0 col1\" >-58594.790648</td>\n",
       "            </tr>\n",
       "            <tr>\n",
       "                        <th id=\"T_8746e_level0_row1\" class=\"row_heading level0 row1\" >2947</th>\n",
       "                        <td id=\"T_8746e_row1_col0\" class=\"data row1 col0\" >upmc</td>\n",
       "                        <td id=\"T_8746e_row1_col1\" class=\"data row1 col1\" >-50493.210950</td>\n",
       "            </tr>\n",
       "            <tr>\n",
       "                        <th id=\"T_8746e_level0_row2\" class=\"row_heading level0 row2\" >650</th>\n",
       "                        <td id=\"T_8746e_row2_col0\" class=\"data row2 col0\" >course</td>\n",
       "                        <td id=\"T_8746e_row2_col1\" class=\"data row2 col1\" >-48668.794594</td>\n",
       "            </tr>\n",
       "            <tr>\n",
       "                        <th id=\"T_8746e_level0_row3\" class=\"row_heading level0 row3\" >680</th>\n",
       "                        <td id=\"T_8746e_row3_col0\" class=\"data row3 col0\" >current</td>\n",
       "                        <td id=\"T_8746e_row3_col1\" class=\"data row3 col1\" >-45603.268010</td>\n",
       "            </tr>\n",
       "            <tr>\n",
       "                        <th id=\"T_8746e_level0_row4\" class=\"row_heading level0 row4\" >795</th>\n",
       "                        <td id=\"T_8746e_row4_col0\" class=\"data row4 col0\" >division</td>\n",
       "                        <td id=\"T_8746e_row4_col1\" class=\"data row4 col1\" >-43425.286607</td>\n",
       "            </tr>\n",
       "            <tr>\n",
       "                        <th id=\"T_8746e_level0_row5\" class=\"row_heading level0 row5\" >580</th>\n",
       "                        <td id=\"T_8746e_row5_col0\" class=\"data row5 col0\" >concrete</td>\n",
       "                        <td id=\"T_8746e_row5_col1\" class=\"data row5 col1\" >-41037.953737</td>\n",
       "            </tr>\n",
       "            <tr>\n",
       "                        <th id=\"T_8746e_level0_row6\" class=\"row_heading level0 row6\" >1861</th>\n",
       "                        <td id=\"T_8746e_row6_col0\" class=\"data row6 col0\" >officers</td>\n",
       "                        <td id=\"T_8746e_row6_col1\" class=\"data row6 col1\" >-40393.399551</td>\n",
       "            </tr>\n",
       "            <tr>\n",
       "                        <th id=\"T_8746e_level0_row7\" class=\"row_heading level0 row7\" >1902</th>\n",
       "                        <td id=\"T_8746e_row7_col0\" class=\"data row7 col0\" >original</td>\n",
       "                        <td id=\"T_8746e_row7_col1\" class=\"data row7 col1\" >-40321.214081</td>\n",
       "            </tr>\n",
       "            <tr>\n",
       "                        <th id=\"T_8746e_level0_row8\" class=\"row_heading level0 row8\" >1045</th>\n",
       "                        <td id=\"T_8746e_row8_col0\" class=\"data row8 col0\" >flows</td>\n",
       "                        <td id=\"T_8746e_row8_col1\" class=\"data row8 col1\" >-39828.675367</td>\n",
       "            </tr>\n",
       "            <tr>\n",
       "                        <th id=\"T_8746e_level0_row9\" class=\"row_heading level0 row9\" >2982</th>\n",
       "                        <td id=\"T_8746e_row9_col0\" class=\"data row9 col0\" >village</td>\n",
       "                        <td id=\"T_8746e_row9_col1\" class=\"data row9 col1\" >-38132.760617</td>\n",
       "            </tr>\n",
       "    </tbody></table>"
      ]
     },
     "metadata": {},
     "output_type": "display_data"
    }
   ],
   "source": [
    "best_words = word_coef_df.sort_values(by=[\"coef\"], ascending=False).head(10)\n",
    "worst_words = word_coef_df.sort_values(by=[\"coef\"], ascending=True).head(10)\n",
    "\n",
    "df1_styler = best_words.style.set_table_attributes(\"style='display:inline'\").set_caption('Most valuable words')\n",
    "df2_styler = worst_words.style.set_table_attributes(\"style='display:inline'\").set_caption('Least valuable words')\n",
    "\n",
    "display_html(df1_styler._repr_html_()+df2_styler._repr_html_(), raw=True)"
   ]
  },
  {
   "cell_type": "markdown",
   "metadata": {},
   "source": [
    "### Add article with highest word count (highest impact) for top negative/positive words"
   ]
  },
  {
   "cell_type": "code",
   "execution_count": 38,
   "metadata": {},
   "outputs": [
    {
     "data": {
      "text/html": [
       "<div>\n",
       "<style scoped>\n",
       "    .dataframe tbody tr th:only-of-type {\n",
       "        vertical-align: middle;\n",
       "    }\n",
       "\n",
       "    .dataframe tbody tr th {\n",
       "        vertical-align: top;\n",
       "    }\n",
       "\n",
       "    .dataframe thead th {\n",
       "        text-align: right;\n",
       "    }\n",
       "</style>\n",
       "<table border=\"1\" class=\"dataframe\">\n",
       "  <thead>\n",
       "    <tr style=\"text-align: right;\">\n",
       "      <th></th>\n",
       "      <th>article_title</th>\n",
       "      <th>abandoned</th>\n",
       "      <th>ability</th>\n",
       "      <th>able</th>\n",
       "      <th>academic</th>\n",
       "      <th>academic achievement</th>\n",
       "      <th>academic performance</th>\n",
       "      <th>academics</th>\n",
       "      <th>academy</th>\n",
       "      <th>accept</th>\n",
       "      <th>...</th>\n",
       "      <th>yielding</th>\n",
       "      <th>yielding student</th>\n",
       "      <th>york</th>\n",
       "      <th>york city</th>\n",
       "      <th>youghiogheny</th>\n",
       "      <th>youghiogheny river</th>\n",
       "      <th>young</th>\n",
       "      <th>youth</th>\n",
       "      <th>zip</th>\n",
       "      <th>zip code</th>\n",
       "    </tr>\n",
       "  </thead>\n",
       "  <tbody>\n",
       "    <tr>\n",
       "      <th>0</th>\n",
       "      <td>Washington County Courthouse (Pennsylvania)</td>\n",
       "      <td>0</td>\n",
       "      <td>0</td>\n",
       "      <td>0</td>\n",
       "      <td>0</td>\n",
       "      <td>0</td>\n",
       "      <td>0</td>\n",
       "      <td>0</td>\n",
       "      <td>0</td>\n",
       "      <td>0</td>\n",
       "      <td>...</td>\n",
       "      <td>0</td>\n",
       "      <td>0</td>\n",
       "      <td>0</td>\n",
       "      <td>0</td>\n",
       "      <td>0</td>\n",
       "      <td>0</td>\n",
       "      <td>0</td>\n",
       "      <td>0</td>\n",
       "      <td>0</td>\n",
       "      <td>0</td>\n",
       "    </tr>\n",
       "    <tr>\n",
       "      <th>1</th>\n",
       "      <td>Wild Things Park</td>\n",
       "      <td>0</td>\n",
       "      <td>0</td>\n",
       "      <td>0</td>\n",
       "      <td>0</td>\n",
       "      <td>0</td>\n",
       "      <td>0</td>\n",
       "      <td>0</td>\n",
       "      <td>0</td>\n",
       "      <td>0</td>\n",
       "      <td>...</td>\n",
       "      <td>0</td>\n",
       "      <td>0</td>\n",
       "      <td>0</td>\n",
       "      <td>0</td>\n",
       "      <td>0</td>\n",
       "      <td>0</td>\n",
       "      <td>0</td>\n",
       "      <td>0</td>\n",
       "      <td>0</td>\n",
       "      <td>0</td>\n",
       "    </tr>\n",
       "    <tr>\n",
       "      <th>2</th>\n",
       "      <td>Thackeray Hall</td>\n",
       "      <td>0</td>\n",
       "      <td>0</td>\n",
       "      <td>0</td>\n",
       "      <td>2</td>\n",
       "      <td>0</td>\n",
       "      <td>0</td>\n",
       "      <td>0</td>\n",
       "      <td>0</td>\n",
       "      <td>0</td>\n",
       "      <td>...</td>\n",
       "      <td>0</td>\n",
       "      <td>0</td>\n",
       "      <td>0</td>\n",
       "      <td>0</td>\n",
       "      <td>0</td>\n",
       "      <td>0</td>\n",
       "      <td>0</td>\n",
       "      <td>0</td>\n",
       "      <td>0</td>\n",
       "      <td>0</td>\n",
       "    </tr>\n",
       "    <tr>\n",
       "      <th>3</th>\n",
       "      <td>Immaculate Heart of Mary Church (Pittsburgh)</td>\n",
       "      <td>0</td>\n",
       "      <td>0</td>\n",
       "      <td>0</td>\n",
       "      <td>0</td>\n",
       "      <td>0</td>\n",
       "      <td>0</td>\n",
       "      <td>0</td>\n",
       "      <td>0</td>\n",
       "      <td>0</td>\n",
       "      <td>...</td>\n",
       "      <td>0</td>\n",
       "      <td>0</td>\n",
       "      <td>0</td>\n",
       "      <td>0</td>\n",
       "      <td>0</td>\n",
       "      <td>0</td>\n",
       "      <td>0</td>\n",
       "      <td>0</td>\n",
       "      <td>0</td>\n",
       "      <td>0</td>\n",
       "    </tr>\n",
       "    <tr>\n",
       "      <th>4</th>\n",
       "      <td>St. Stanislaus Kostka Church (Pittsburgh)</td>\n",
       "      <td>0</td>\n",
       "      <td>0</td>\n",
       "      <td>0</td>\n",
       "      <td>0</td>\n",
       "      <td>0</td>\n",
       "      <td>0</td>\n",
       "      <td>0</td>\n",
       "      <td>0</td>\n",
       "      <td>0</td>\n",
       "      <td>...</td>\n",
       "      <td>0</td>\n",
       "      <td>0</td>\n",
       "      <td>0</td>\n",
       "      <td>0</td>\n",
       "      <td>0</td>\n",
       "      <td>0</td>\n",
       "      <td>0</td>\n",
       "      <td>0</td>\n",
       "      <td>0</td>\n",
       "      <td>0</td>\n",
       "    </tr>\n",
       "  </tbody>\n",
       "</table>\n",
       "<p>5 rows × 3109 columns</p>\n",
       "</div>"
      ],
      "text/plain": [
       "                                  article_title  abandoned  ability  able  \\\n",
       "0   Washington County Courthouse (Pennsylvania)          0        0     0   \n",
       "1                              Wild Things Park          0        0     0   \n",
       "2                                Thackeray Hall          0        0     0   \n",
       "3  Immaculate Heart of Mary Church (Pittsburgh)          0        0     0   \n",
       "4     St. Stanislaus Kostka Church (Pittsburgh)          0        0     0   \n",
       "\n",
       "   academic  academic achievement  academic performance  academics  academy  \\\n",
       "0         0                     0                     0          0        0   \n",
       "1         0                     0                     0          0        0   \n",
       "2         2                     0                     0          0        0   \n",
       "3         0                     0                     0          0        0   \n",
       "4         0                     0                     0          0        0   \n",
       "\n",
       "   accept  ...  yielding  yielding student  york  york city  youghiogheny  \\\n",
       "0       0  ...         0                 0     0          0             0   \n",
       "1       0  ...         0                 0     0          0             0   \n",
       "2       0  ...         0                 0     0          0             0   \n",
       "3       0  ...         0                 0     0          0             0   \n",
       "4       0  ...         0                 0     0          0             0   \n",
       "\n",
       "   youghiogheny river  young  youth  zip  zip code  \n",
       "0                   0      0      0    0         0  \n",
       "1                   0      0      0    0         0  \n",
       "2                   0      0      0    0         0  \n",
       "3                   0      0      0    0         0  \n",
       "4                   0      0      0    0         0  \n",
       "\n",
       "[5 rows x 3109 columns]"
      ]
     },
     "execution_count": 38,
     "metadata": {},
     "output_type": "execute_result"
    }
   ],
   "source": [
    "article_word_counts = pd.read_csv(PATH+\"wikipedia/wikipedia_article_wordcounts.csv\")\n",
    "article_word_counts.head()"
   ]
  },
  {
   "cell_type": "markdown",
   "metadata": {},
   "source": [
    "Show example article with all words which appear 40 times or more."
   ]
  },
  {
   "cell_type": "code",
   "execution_count": 39,
   "metadata": {},
   "outputs": [
    {
     "data": {
      "text/html": [
       "<div>\n",
       "<style scoped>\n",
       "    .dataframe tbody tr th:only-of-type {\n",
       "        vertical-align: middle;\n",
       "    }\n",
       "\n",
       "    .dataframe tbody tr th {\n",
       "        vertical-align: top;\n",
       "    }\n",
       "\n",
       "    .dataframe thead th {\n",
       "        text-align: right;\n",
       "    }\n",
       "</style>\n",
       "<table border=\"1\" class=\"dataframe\">\n",
       "  <thead>\n",
       "    <tr style=\"text-align: right;\">\n",
       "      <th></th>\n",
       "      <th>article_title</th>\n",
       "      <th>care</th>\n",
       "      <th>center</th>\n",
       "      <th>health</th>\n",
       "      <th>hospital</th>\n",
       "      <th>located</th>\n",
       "      <th>medical</th>\n",
       "      <th>pennsylvania</th>\n",
       "      <th>pittsburgh</th>\n",
       "      <th>presbyterian</th>\n",
       "      <th>university</th>\n",
       "      <th>university pittsburgh</th>\n",
       "      <th>upmc</th>\n",
       "    </tr>\n",
       "  </thead>\n",
       "  <tbody>\n",
       "    <tr>\n",
       "      <th>415</th>\n",
       "      <td>University of Pittsburgh Medical Center</td>\n",
       "      <td>53</td>\n",
       "      <td>45</td>\n",
       "      <td>75</td>\n",
       "      <td>133</td>\n",
       "      <td>44</td>\n",
       "      <td>42</td>\n",
       "      <td>60</td>\n",
       "      <td>89</td>\n",
       "      <td>40</td>\n",
       "      <td>71</td>\n",
       "      <td>40</td>\n",
       "      <td>302</td>\n",
       "    </tr>\n",
       "  </tbody>\n",
       "</table>\n",
       "</div>"
      ],
      "text/plain": [
       "                               article_title  care  center  health  hospital  \\\n",
       "415  University of Pittsburgh Medical Center    53      45      75       133   \n",
       "\n",
       "     located  medical  pennsylvania  pittsburgh  presbyterian  university  \\\n",
       "415       44       42            60          89            40          71   \n",
       "\n",
       "     university pittsburgh  upmc  \n",
       "415                     40   302  "
      ]
     },
     "execution_count": 39,
     "metadata": {},
     "output_type": "execute_result"
    }
   ],
   "source": [
    "upmc = article_word_counts.loc[article_word_counts[\"article_title\"]==\"University of Pittsburgh Medical Center\", :]\n",
    "\n",
    "to_drop = []\n",
    "for i, col in enumerate(upmc.columns[1:]):\n",
    "    if upmc.iloc[0, i+1] < 40:\n",
    "        to_drop.append(col)\n",
    "        \n",
    "upmc.drop(to_drop, axis=1)"
   ]
  },
  {
   "cell_type": "markdown",
   "metadata": {},
   "source": [
    "Most valuable and least valuable words with article in which word appears the most"
   ]
  },
  {
   "cell_type": "code",
   "execution_count": 40,
   "metadata": {},
   "outputs": [],
   "source": [
    "for x in [best_words, worst_words]:\n",
    "    x[\"article\"] = \"\"\n",
    "    for index, row in x.iterrows():\n",
    "        highest_impact = article_word_counts.sort_values(by=[row[\"feature\"]], ascending=False).iloc[0, 0]\n",
    "        x.loc[index, \"article\"] = highest_impact"
   ]
  },
  {
   "cell_type": "code",
   "execution_count": 41,
   "metadata": {},
   "outputs": [
    {
     "data": {
      "text/html": [
       "<style  type=\"text/css\" >\n",
       "</style><table id=\"T_934e9_\" style='display:inline'><caption>Most valuable articles</caption><thead>    <tr>        <th class=\"blank level0\" ></th>        <th class=\"col_heading level0 col0\" >feature</th>        <th class=\"col_heading level0 col1\" >coef</th>        <th class=\"col_heading level0 col2\" >article</th>    </tr></thead><tbody>\n",
       "                <tr>\n",
       "                        <th id=\"T_934e9_level0_row0\" class=\"row_heading level0 row0\" >245</th>\n",
       "                        <td id=\"T_934e9_row0_col0\" class=\"data row0 col0\" >beaver county</td>\n",
       "                        <td id=\"T_934e9_row0_col1\" class=\"data row0 col1\" >57364.360316</td>\n",
       "                        <td id=\"T_934e9_row0_col2\" class=\"data row0 col2\" >Western Beaver County School District</td>\n",
       "            </tr>\n",
       "            <tr>\n",
       "                        <th id=\"T_934e9_level0_row1\" class=\"row_heading level0 row1\" >89</th>\n",
       "                        <td id=\"T_934e9_row1_col0\" class=\"data row1 col0\" >allegheny river</td>\n",
       "                        <td id=\"T_934e9_row1_col1\" class=\"data row1 col1\" >56513.683694</td>\n",
       "                        <td id=\"T_934e9_row1_col2\" class=\"data row1 col2\" >List of crossings of the Allegheny River</td>\n",
       "            </tr>\n",
       "            <tr>\n",
       "                        <th id=\"T_934e9_level0_row2\" class=\"row_heading level0 row2\" >2553</th>\n",
       "                        <td id=\"T_934e9_row2_col0\" class=\"data row2 col0\" >show</td>\n",
       "                        <td id=\"T_934e9_row2_col1\" class=\"data row2 col1\" >45435.986526</td>\n",
       "                        <td id=\"T_934e9_row2_col2\" class=\"data row2 col2\" >KDKA-TV</td>\n",
       "            </tr>\n",
       "            <tr>\n",
       "                        <th id=\"T_934e9_level0_row3\" class=\"row_heading level0 row3\" >244</th>\n",
       "                        <td id=\"T_934e9_row3_col0\" class=\"data row3 col0\" >beaver</td>\n",
       "                        <td id=\"T_934e9_row3_col1\" class=\"data row3 col1\" >41598.524499</td>\n",
       "                        <td id=\"T_934e9_row3_col2\" class=\"data row3 col2\" >Western Beaver County School District</td>\n",
       "            </tr>\n",
       "            <tr>\n",
       "                        <th id=\"T_934e9_level0_row4\" class=\"row_heading level0 row4\" >457</th>\n",
       "                        <td id=\"T_934e9_row4_col0\" class=\"data row4 col0\" >championship</td>\n",
       "                        <td id=\"T_934e9_row4_col1\" class=\"data row4 col1\" >40184.904495</td>\n",
       "                        <td id=\"T_934e9_row4_col2\" class=\"data row4 col2\" >1978 PGA Championship</td>\n",
       "            </tr>\n",
       "            <tr>\n",
       "                        <th id=\"T_934e9_level0_row5\" class=\"row_heading level0 row5\" >2412</th>\n",
       "                        <td id=\"T_934e9_row5_col0\" class=\"data row5 col0\" >room</td>\n",
       "                        <td id=\"T_934e9_row5_col1\" class=\"data row5 col1\" >37962.481172</td>\n",
       "                        <td id=\"T_934e9_row5_col2\" class=\"data row5 col2\" >Nationality Rooms</td>\n",
       "            </tr>\n",
       "            <tr>\n",
       "                        <th id=\"T_934e9_level0_row6\" class=\"row_heading level0 row6\" >210</th>\n",
       "                        <td id=\"T_934e9_row6_col0\" class=\"data row6 col0\" >avenue</td>\n",
       "                        <td id=\"T_934e9_row6_col1\" class=\"data row6 col1\" >37899.272778</td>\n",
       "                        <td id=\"T_934e9_row6_col2\" class=\"data row6 col2\" >List of Pittsburgh History and Landmarks Foundation Historic Landmarks</td>\n",
       "            </tr>\n",
       "            <tr>\n",
       "                        <th id=\"T_934e9_level0_row7\" class=\"row_heading level0 row7\" >1224</th>\n",
       "                        <td id=\"T_934e9_row7_col0\" class=\"data row7 col0\" >heights</td>\n",
       "                        <td id=\"T_934e9_row7_col1\" class=\"data row7 col1\" >37656.711097</td>\n",
       "                        <td id=\"T_934e9_row7_col2\" class=\"data row7 col2\" >Hickory Heights, Pennsylvania</td>\n",
       "            </tr>\n",
       "            <tr>\n",
       "                        <th id=\"T_934e9_level0_row8\" class=\"row_heading level0 row8\" >1837</th>\n",
       "                        <td id=\"T_934e9_row8_col0\" class=\"data row8 col0\" >november</td>\n",
       "                        <td id=\"T_934e9_row8_col1\" class=\"data row8 col1\" >37627.733295</td>\n",
       "                        <td id=\"T_934e9_row8_col2\" class=\"data row8 col2\" >KDKA (AM)</td>\n",
       "            </tr>\n",
       "            <tr>\n",
       "                        <th id=\"T_934e9_level0_row9\" class=\"row_heading level0 row9\" >1278</th>\n",
       "                        <td id=\"T_934e9_row9_col0\" class=\"data row9 col0\" >hot</td>\n",
       "                        <td id=\"T_934e9_row9_col1\" class=\"data row9 col1\" >37451.768468</td>\n",
       "                        <td id=\"T_934e9_row9_col2\" class=\"data row9 col2\" >Essie's Original Hot Dog Shop</td>\n",
       "            </tr>\n",
       "    </tbody></table><style  type=\"text/css\" >\n",
       "</style><table id=\"T_16188_\" style='display:inline'><caption>Least valuable articles</caption><thead>    <tr>        <th class=\"blank level0\" ></th>        <th class=\"col_heading level0 col0\" >feature</th>        <th class=\"col_heading level0 col1\" >coef</th>        <th class=\"col_heading level0 col2\" >article</th>    </tr></thead><tbody>\n",
       "                <tr>\n",
       "                        <th id=\"T_16188_level0_row0\" class=\"row_heading level0 row0\" >486</th>\n",
       "                        <td id=\"T_16188_row0_col0\" class=\"data row0 col0\" >city</td>\n",
       "                        <td id=\"T_16188_row0_col1\" class=\"data row0 col1\" >-58594.790648</td>\n",
       "                        <td id=\"T_16188_row0_col2\" class=\"data row0 col2\" >List of Pennsylvania state historical markers in Allegheny County</td>\n",
       "            </tr>\n",
       "            <tr>\n",
       "                        <th id=\"T_16188_level0_row1\" class=\"row_heading level0 row1\" >2947</th>\n",
       "                        <td id=\"T_16188_row1_col0\" class=\"data row1 col0\" >upmc</td>\n",
       "                        <td id=\"T_16188_row1_col1\" class=\"data row1 col1\" >-50493.210950</td>\n",
       "                        <td id=\"T_16188_row1_col2\" class=\"data row1 col2\" >University of Pittsburgh Medical Center</td>\n",
       "            </tr>\n",
       "            <tr>\n",
       "                        <th id=\"T_16188_level0_row2\" class=\"row_heading level0 row2\" >650</th>\n",
       "                        <td id=\"T_16188_row2_col0\" class=\"data row2 col0\" >course</td>\n",
       "                        <td id=\"T_16188_row2_col1\" class=\"data row2 col1\" >-48668.794594</td>\n",
       "                        <td id=\"T_16188_row2_col2\" class=\"data row2 col2\" >Oakmont Country Club</td>\n",
       "            </tr>\n",
       "            <tr>\n",
       "                        <th id=\"T_16188_level0_row3\" class=\"row_heading level0 row3\" >680</th>\n",
       "                        <td id=\"T_16188_row3_col0\" class=\"data row3 col0\" >current</td>\n",
       "                        <td id=\"T_16188_row3_col1\" class=\"data row3 col1\" >-45603.268010</td>\n",
       "                        <td id=\"T_16188_row3_col2\" class=\"data row3 col2\" >WPXI</td>\n",
       "            </tr>\n",
       "            <tr>\n",
       "                        <th id=\"T_16188_level0_row4\" class=\"row_heading level0 row4\" >795</th>\n",
       "                        <td id=\"T_16188_row4_col0\" class=\"data row4 col0\" >division</td>\n",
       "                        <td id=\"T_16188_row4_col1\" class=\"data row4 col1\" >-43425.286607</td>\n",
       "                        <td id=\"T_16188_row4_col2\" class=\"data row4 col2\" >University of Pittsburgh Medical Center</td>\n",
       "            </tr>\n",
       "            <tr>\n",
       "                        <th id=\"T_16188_level0_row5\" class=\"row_heading level0 row5\" >580</th>\n",
       "                        <td id=\"T_16188_row5_col0\" class=\"data row5 col0\" >concrete</td>\n",
       "                        <td id=\"T_16188_row5_col1\" class=\"data row5 col1\" >-41037.953737</td>\n",
       "                        <td id=\"T_16188_row5_col2\" class=\"data row5 col2\" >Tribune Review Publishing Company Building</td>\n",
       "            </tr>\n",
       "            <tr>\n",
       "                        <th id=\"T_16188_level0_row6\" class=\"row_heading level0 row6\" >1861</th>\n",
       "                        <td id=\"T_16188_row6_col0\" class=\"data row6 col0\" >officers</td>\n",
       "                        <td id=\"T_16188_row6_col1\" class=\"data row6 col1\" >-40393.399551</td>\n",
       "                        <td id=\"T_16188_row6_col2\" class=\"data row6 col2\" >2009 shooting of Pittsburgh police officers</td>\n",
       "            </tr>\n",
       "            <tr>\n",
       "                        <th id=\"T_16188_level0_row7\" class=\"row_heading level0 row7\" >1902</th>\n",
       "                        <td id=\"T_16188_row7_col0\" class=\"data row7 col0\" >original</td>\n",
       "                        <td id=\"T_16188_row7_col1\" class=\"data row7 col1\" >-40321.214081</td>\n",
       "                        <td id=\"T_16188_row7_col2\" class=\"data row7 col2\" >Nationality Rooms</td>\n",
       "            </tr>\n",
       "            <tr>\n",
       "                        <th id=\"T_16188_level0_row8\" class=\"row_heading level0 row8\" >1045</th>\n",
       "                        <td id=\"T_16188_row8_col0\" class=\"data row8 col0\" >flows</td>\n",
       "                        <td id=\"T_16188_row8_col1\" class=\"data row8 col1\" >-39828.675367</td>\n",
       "                        <td id=\"T_16188_row8_col2\" class=\"data row8 col2\" >Wheeling Creek (West Virginia)</td>\n",
       "            </tr>\n",
       "            <tr>\n",
       "                        <th id=\"T_16188_level0_row9\" class=\"row_heading level0 row9\" >2982</th>\n",
       "                        <td id=\"T_16188_row9_col0\" class=\"data row9 col0\" >village</td>\n",
       "                        <td id=\"T_16188_row9_col1\" class=\"data row9 col1\" >-38132.760617</td>\n",
       "                        <td id=\"T_16188_row9_col2\" class=\"data row9 col2\" >Chatham Village (Pittsburgh)</td>\n",
       "            </tr>\n",
       "    </tbody></table>"
      ]
     },
     "metadata": {},
     "output_type": "display_data"
    }
   ],
   "source": [
    "df1_styler = best_words.style.set_table_attributes(\"style='display:inline'\").set_caption('Most valuable articles')\n",
    "df2_styler = worst_words.style.set_table_attributes(\"style='display:inline'\").set_caption('Least valuable articles')\n",
    "\n",
    "display_html(df1_styler._repr_html_()+df2_styler._repr_html_(), raw=True)"
   ]
  },
  {
   "cell_type": "markdown",
   "metadata": {},
   "source": [
    "### Determine best and worst articles"
   ]
  },
  {
   "cell_type": "markdown",
   "metadata": {},
   "source": [
    "Create article value-score by calculating sum of all words multiplied with their coefficient for every article."
   ]
  },
  {
   "cell_type": "code",
   "execution_count": 42,
   "metadata": {},
   "outputs": [],
   "source": [
    "article_values = article_word_counts.copy()\n",
    "article_values.insert(1, \"article_value\", [0]*article_word_counts.shape[0])\n",
    "words = article_values.columns[2:]\n",
    "for index, row in article_values.iterrows():\n",
    "    counts = row.iloc[2:]\n",
    "    article_values.loc[index, \"article_value\"] = sum([word_coef_lookup[word]*count for count, word in zip(counts, words)])"
   ]
  },
  {
   "cell_type": "code",
   "execution_count": 43,
   "metadata": {},
   "outputs": [
    {
     "data": {
      "text/html": [
       "<style  type=\"text/css\" >\n",
       "</style><table id=\"T_182c3_\" style='display:inline'><caption>Most valuable articles</caption><thead>    <tr>        <th class=\"blank level0\" ></th>        <th class=\"col_heading level0 col0\" >article_title</th>        <th class=\"col_heading level0 col1\" >article_value</th>    </tr></thead><tbody>\n",
       "                <tr>\n",
       "                        <th id=\"T_182c3_level0_row0\" class=\"row_heading level0 row0\" >630</th>\n",
       "                        <td id=\"T_182c3_row0_col0\" class=\"data row0 col0\" >Western Beaver County School District</td>\n",
       "                        <td id=\"T_182c3_row0_col1\" class=\"data row0 col1\" >14854666.699611</td>\n",
       "            </tr>\n",
       "            <tr>\n",
       "                        <th id=\"T_182c3_level0_row1\" class=\"row_heading level0 row1\" >832</th>\n",
       "                        <td id=\"T_182c3_row1_col0\" class=\"data row1 col0\" >List of Pittsburgh History and Landmarks Foundation Historic Landmarks</td>\n",
       "                        <td id=\"T_182c3_row1_col1\" class=\"data row1 col1\" >11395009.524894</td>\n",
       "            </tr>\n",
       "            <tr>\n",
       "                        <th id=\"T_182c3_level0_row2\" class=\"row_heading level0 row2\" >178</th>\n",
       "                        <td id=\"T_182c3_row2_col0\" class=\"data row2 col0\" >Nationality Rooms</td>\n",
       "                        <td id=\"T_182c3_row2_col1\" class=\"data row2 col1\" >9917410.091076</td>\n",
       "            </tr>\n",
       "            <tr>\n",
       "                        <th id=\"T_182c3_level0_row3\" class=\"row_heading level0 row3\" >2104</th>\n",
       "                        <td id=\"T_182c3_row3_col0\" class=\"data row3 col0\" >Civic Arena (Pittsburgh)</td>\n",
       "                        <td id=\"T_182c3_row3_col1\" class=\"data row3 col1\" >9355391.149236</td>\n",
       "            </tr>\n",
       "            <tr>\n",
       "                        <th id=\"T_182c3_level0_row4\" class=\"row_heading level0 row4\" >2107</th>\n",
       "                        <td id=\"T_182c3_row4_col0\" class=\"data row4 col0\" >Cathedral of Learning</td>\n",
       "                        <td id=\"T_182c3_row4_col1\" class=\"data row4 col1\" >8134609.986609</td>\n",
       "            </tr>\n",
       "            <tr>\n",
       "                        <th id=\"T_182c3_level0_row5\" class=\"row_heading level0 row5\" >384</th>\n",
       "                        <td id=\"T_182c3_row5_col0\" class=\"data row5 col0\" >Aliquippa School District</td>\n",
       "                        <td id=\"T_182c3_row5_col1\" class=\"data row5 col1\" >6477810.578063</td>\n",
       "            </tr>\n",
       "            <tr>\n",
       "                        <th id=\"T_182c3_level0_row6\" class=\"row_heading level0 row6\" >1527</th>\n",
       "                        <td id=\"T_182c3_row6_col0\" class=\"data row6 col0\" >Carnegie Mellon University</td>\n",
       "                        <td id=\"T_182c3_row6_col1\" class=\"data row6 col1\" >6179414.671569</td>\n",
       "            </tr>\n",
       "            <tr>\n",
       "                        <th id=\"T_182c3_level0_row7\" class=\"row_heading level0 row7\" >922</th>\n",
       "                        <td id=\"T_182c3_row7_col0\" class=\"data row7 col0\" >Duquesne Gardens</td>\n",
       "                        <td id=\"T_182c3_row7_col1\" class=\"data row7 col1\" >6061197.660101</td>\n",
       "            </tr>\n",
       "            <tr>\n",
       "                        <th id=\"T_182c3_level0_row8\" class=\"row_heading level0 row8\" >1099</th>\n",
       "                        <td id=\"T_182c3_row8_col0\" class=\"data row8 col0\" >Squirrel Hill (Pittsburgh)</td>\n",
       "                        <td id=\"T_182c3_row8_col1\" class=\"data row8 col1\" >5156216.597548</td>\n",
       "            </tr>\n",
       "            <tr>\n",
       "                        <th id=\"T_182c3_level0_row9\" class=\"row_heading level0 row9\" >292</th>\n",
       "                        <td id=\"T_182c3_row9_col0\" class=\"data row9 col0\" >Beaver Area School District</td>\n",
       "                        <td id=\"T_182c3_row9_col1\" class=\"data row9 col1\" >5082244.809001</td>\n",
       "            </tr>\n",
       "    </tbody></table><style  type=\"text/css\" >\n",
       "</style><table id=\"T_63cba_\" style='display:inline'><caption>Least valuable articles</caption><thead>    <tr>        <th class=\"blank level0\" ></th>        <th class=\"col_heading level0 col0\" >article_title</th>        <th class=\"col_heading level0 col1\" >article_value</th>    </tr></thead><tbody>\n",
       "                <tr>\n",
       "                        <th id=\"T_63cba_level0_row0\" class=\"row_heading level0 row0\" >415</th>\n",
       "                        <td id=\"T_63cba_row0_col0\" class=\"data row0 col0\" >University of Pittsburgh Medical Center</td>\n",
       "                        <td id=\"T_63cba_row0_col1\" class=\"data row0 col1\" >-21282160.891007</td>\n",
       "            </tr>\n",
       "            <tr>\n",
       "                        <th id=\"T_63cba_level0_row1\" class=\"row_heading level0 row1\" >2194</th>\n",
       "                        <td id=\"T_63cba_row1_col0\" class=\"data row1 col0\" >UPMC Presbyterian</td>\n",
       "                        <td id=\"T_63cba_row1_col1\" class=\"data row1 col1\" >-5732025.028277</td>\n",
       "            </tr>\n",
       "            <tr>\n",
       "                        <th id=\"T_63cba_level0_row2\" class=\"row_heading level0 row2\" >2376</th>\n",
       "                        <td id=\"T_63cba_row2_col0\" class=\"data row2 col0\" >Allegheny, Pennsylvania</td>\n",
       "                        <td id=\"T_63cba_row2_col1\" class=\"data row2 col1\" >-5356281.201716</td>\n",
       "            </tr>\n",
       "            <tr>\n",
       "                        <th id=\"T_63cba_level0_row3\" class=\"row_heading level0 row3\" >620</th>\n",
       "                        <td id=\"T_63cba_row3_col0\" class=\"data row3 col0\" >UPMC Hillman Cancer Center</td>\n",
       "                        <td id=\"T_63cba_row3_col1\" class=\"data row3 col1\" >-2683562.790981</td>\n",
       "            </tr>\n",
       "            <tr>\n",
       "                        <th id=\"T_63cba_level0_row4\" class=\"row_heading level0 row4\" >2094</th>\n",
       "                        <td id=\"T_63cba_row4_col0\" class=\"data row4 col0\" >Schenley Park</td>\n",
       "                        <td id=\"T_63cba_row4_col1\" class=\"data row4 col1\" >-2665438.784811</td>\n",
       "            </tr>\n",
       "            <tr>\n",
       "                        <th id=\"T_63cba_level0_row5\" class=\"row_heading level0 row5\" >2090</th>\n",
       "                        <td id=\"T_63cba_row5_col0\" class=\"data row5 col0\" >Heinz Field</td>\n",
       "                        <td id=\"T_63cba_row5_col1\" class=\"data row5 col1\" >-2448921.542804</td>\n",
       "            </tr>\n",
       "            <tr>\n",
       "                        <th id=\"T_63cba_level0_row6\" class=\"row_heading level0 row6\" >1444</th>\n",
       "                        <td id=\"T_63cba_row6_col0\" class=\"data row6 col0\" >Sewickley Bridge</td>\n",
       "                        <td id=\"T_63cba_row6_col1\" class=\"data row6 col1\" >-2357613.645583</td>\n",
       "            </tr>\n",
       "            <tr>\n",
       "                        <th id=\"T_63cba_level0_row7\" class=\"row_heading level0 row7\" >1836</th>\n",
       "                        <td id=\"T_63cba_row7_col0\" class=\"data row7 col0\" >Washington, Pennsylvania</td>\n",
       "                        <td id=\"T_63cba_row7_col1\" class=\"data row7 col1\" >-2287872.051337</td>\n",
       "            </tr>\n",
       "            <tr>\n",
       "                        <th id=\"T_63cba_level0_row8\" class=\"row_heading level0 row8\" >1729</th>\n",
       "                        <td id=\"T_63cba_row8_col0\" class=\"data row8 col0\" >Butler, Pennsylvania</td>\n",
       "                        <td id=\"T_63cba_row8_col1\" class=\"data row8 col1\" >-2284078.600488</td>\n",
       "            </tr>\n",
       "            <tr>\n",
       "                        <th id=\"T_63cba_level0_row9\" class=\"row_heading level0 row9\" >1980</th>\n",
       "                        <td id=\"T_63cba_row9_col0\" class=\"data row9 col0\" >Greenfield Bridge</td>\n",
       "                        <td id=\"T_63cba_row9_col1\" class=\"data row9 col1\" >-2242937.991736</td>\n",
       "            </tr>\n",
       "    </tbody></table>"
      ]
     },
     "metadata": {},
     "output_type": "display_data"
    }
   ],
   "source": [
    "pos_sorted = article_values.loc[:, \"article_title\":\"article_value\"].sort_values(by=[\"article_value\"], ascending=False).head(10)\n",
    "neg_sorted = article_values.loc[:, \"article_title\":\"article_value\"].sort_values(by=[\"article_value\"], ascending=True).head(10)\n",
    "\n",
    "df1_styler = pos_sorted.style.set_table_attributes(\"style='display:inline'\").set_caption('Most valuable articles')\n",
    "df2_styler = neg_sorted.style.set_table_attributes(\"style='display:inline'\").set_caption('Least valuable articles')\n",
    "\n",
    "display_html(df1_styler._repr_html_()+df2_styler._repr_html_(), raw=True)"
   ]
  },
  {
   "cell_type": "markdown",
   "metadata": {},
   "source": [
    "Add coordinates back"
   ]
  },
  {
   "cell_type": "code",
   "execution_count": 44,
   "metadata": {},
   "outputs": [],
   "source": [
    "with open(PATH+\"wikipedia/wikipedia_selected.ndjson\") as fin:\n",
    "    data_loaded = json.load(fin)"
   ]
  },
  {
   "cell_type": "code",
   "execution_count": 45,
   "metadata": {},
   "outputs": [],
   "source": [
    "coords = np.array(data_loaded)[:, 1]  # filter coord column\n",
    "article_values.insert(2, \"article_lat\", [lat for lat, long in coords])\n",
    "article_values.insert(2, \"article_long\", [long for lat, long in coords])\n",
    "article_values = article_values[[\"article_title\", \"article_value\", \"article_long\", \"article_lat\"]]  # remove word counts"
   ]
  },
  {
   "cell_type": "markdown",
   "metadata": {},
   "source": [
    "Save articles with their value score and coordinates."
   ]
  },
  {
   "cell_type": "code",
   "execution_count": 46,
   "metadata": {},
   "outputs": [
    {
     "data": {
      "text/html": [
       "<div>\n",
       "<style scoped>\n",
       "    .dataframe tbody tr th:only-of-type {\n",
       "        vertical-align: middle;\n",
       "    }\n",
       "\n",
       "    .dataframe tbody tr th {\n",
       "        vertical-align: top;\n",
       "    }\n",
       "\n",
       "    .dataframe thead th {\n",
       "        text-align: right;\n",
       "    }\n",
       "</style>\n",
       "<table border=\"1\" class=\"dataframe\">\n",
       "  <thead>\n",
       "    <tr style=\"text-align: right;\">\n",
       "      <th></th>\n",
       "      <th>article_title</th>\n",
       "      <th>article_value</th>\n",
       "      <th>article_long</th>\n",
       "      <th>article_lat</th>\n",
       "    </tr>\n",
       "  </thead>\n",
       "  <tbody>\n",
       "    <tr>\n",
       "      <th>0</th>\n",
       "      <td>Washington County Courthouse (Pennsylvania)</td>\n",
       "      <td>-144785.722639</td>\n",
       "      <td>-80.245803</td>\n",
       "      <td>40.170450</td>\n",
       "    </tr>\n",
       "    <tr>\n",
       "      <th>1</th>\n",
       "      <td>Wild Things Park</td>\n",
       "      <td>-777166.465832</td>\n",
       "      <td>-80.283611</td>\n",
       "      <td>40.154167</td>\n",
       "    </tr>\n",
       "    <tr>\n",
       "      <th>2</th>\n",
       "      <td>Thackeray Hall</td>\n",
       "      <td>-271053.912080</td>\n",
       "      <td>-79.957264</td>\n",
       "      <td>40.444317</td>\n",
       "    </tr>\n",
       "    <tr>\n",
       "      <th>3</th>\n",
       "      <td>Immaculate Heart of Mary Church (Pittsburgh)</td>\n",
       "      <td>967259.759938</td>\n",
       "      <td>-79.967778</td>\n",
       "      <td>40.456389</td>\n",
       "    </tr>\n",
       "    <tr>\n",
       "      <th>4</th>\n",
       "      <td>St. Stanislaus Kostka Church (Pittsburgh)</td>\n",
       "      <td>570096.079523</td>\n",
       "      <td>-79.983611</td>\n",
       "      <td>40.452322</td>\n",
       "    </tr>\n",
       "  </tbody>\n",
       "</table>\n",
       "</div>"
      ],
      "text/plain": [
       "                                  article_title  article_value  article_long  \\\n",
       "0   Washington County Courthouse (Pennsylvania) -144785.722639    -80.245803   \n",
       "1                              Wild Things Park -777166.465832    -80.283611   \n",
       "2                                Thackeray Hall -271053.912080    -79.957264   \n",
       "3  Immaculate Heart of Mary Church (Pittsburgh)  967259.759938    -79.967778   \n",
       "4     St. Stanislaus Kostka Church (Pittsburgh)  570096.079523    -79.983611   \n",
       "\n",
       "   article_lat  \n",
       "0    40.170450  \n",
       "1    40.154167  \n",
       "2    40.444317  \n",
       "3    40.456389  \n",
       "4    40.452322  "
      ]
     },
     "execution_count": 46,
     "metadata": {},
     "output_type": "execute_result"
    }
   ],
   "source": [
    "if WEIGHTING:\n",
    "    article_values.to_csv(PATH+\"wikipedia_article_values.csv\", index=False)\n",
    "else:\n",
    "    article_values.to_csv(PATH+\"wikipedia_article_values_noweight.csv\", index=False)\n",
    "article_values.head()"
   ]
  },
  {
   "cell_type": "code",
   "execution_count": null,
   "metadata": {},
   "outputs": [],
   "source": []
  }
 ],
 "metadata": {
  "kernelspec": {
   "display_name": "Python 3",
   "language": "python",
   "name": "python3"
  },
  "language_info": {
   "codemirror_mode": {
    "name": "ipython",
    "version": 3
   },
   "file_extension": ".py",
   "mimetype": "text/x-python",
   "name": "python",
   "nbconvert_exporter": "python",
   "pygments_lexer": "ipython3",
   "version": "3.7.9"
  },
  "varInspector": {
   "cols": {
    "lenName": 16,
    "lenType": 16,
    "lenVar": 40
   },
   "kernels_config": {
    "python": {
     "delete_cmd_postfix": "",
     "delete_cmd_prefix": "del ",
     "library": "var_list.py",
     "varRefreshCmd": "print(var_dic_list())"
    },
    "r": {
     "delete_cmd_postfix": ") ",
     "delete_cmd_prefix": "rm(",
     "library": "var_list.r",
     "varRefreshCmd": "cat(var_dic_list()) "
    }
   },
   "types_to_exclude": [
    "module",
    "function",
    "builtin_function_or_method",
    "instance",
    "_Feature"
   ],
   "window_display": false
  },
  "widgets": {
   "application/vnd.jupyter.widget-state+json": {
    "state": {
     "0012760bab1f492691d653f41ec9d746": {
      "model_module": "@jupyter-widgets/controls",
      "model_module_version": "1.5.0",
      "model_name": "DescriptionStyleModel",
      "state": {
       "description_width": ""
      }
     },
     "0025f0a996e04dbf91b279b5b472b22b": {
      "model_module": "@jupyter-widgets/base",
      "model_module_version": "1.2.0",
      "model_name": "LayoutModel",
      "state": {}
     },
     "0079e8b4286b46b3810771fc1fdd1211": {
      "model_module": "@jupyter-widgets/base",
      "model_module_version": "1.2.0",
      "model_name": "LayoutModel",
      "state": {}
     },
     "00b01792d8014bf4ae8644f8cd0247f4": {
      "model_module": "@jupyter-widgets/base",
      "model_module_version": "1.2.0",
      "model_name": "LayoutModel",
      "state": {}
     },
     "00c1efedfaa54bbfb1957d947e818976": {
      "model_module": "@jupyter-widgets/base",
      "model_module_version": "1.2.0",
      "model_name": "LayoutModel",
      "state": {}
     },
     "00c56fcd890e414a98082cebb20fc5cd": {
      "model_module": "@jupyter-widgets/controls",
      "model_module_version": "1.5.0",
      "model_name": "HTMLModel",
      "state": {
       "layout": "IPY_MODEL_f783a069935b463c806392ff43d8ce4d",
       "style": "IPY_MODEL_1cdccab879b54244bdc452f3ae3f72c9",
       "value": "100%"
      }
     },
     "0119d78b93914d40a93c826bf53ed3bb": {
      "model_module": "@jupyter-widgets/base",
      "model_module_version": "1.2.0",
      "model_name": "LayoutModel",
      "state": {}
     },
     "0254727e42c64686b6a48becdd03b472": {
      "model_module": "@jupyter-widgets/controls",
      "model_module_version": "1.5.0",
      "model_name": "HBoxModel",
      "state": {
       "children": [
        "IPY_MODEL_e80ea4ba625148e7977d2de9311b90e8",
        "IPY_MODEL_369a4632794a49bcaafab1051d0dd4c8",
        "IPY_MODEL_945562b698534136bf4746deebf8a0c2"
       ],
       "layout": "IPY_MODEL_64a8d87faecf4eb7b97100111605c875"
      }
     },
     "025e49e96bf24184a564c04d811fbfa3": {
      "model_module": "@jupyter-widgets/controls",
      "model_module_version": "1.5.0",
      "model_name": "HBoxModel",
      "state": {
       "children": [
        "IPY_MODEL_45eec7408bb244d790230e6bbf8ddb79",
        "IPY_MODEL_2b5f82eba3e4446683ddfa62d6282802",
        "IPY_MODEL_ac99b5b74d0d4d239a2c178956112b15"
       ],
       "layout": "IPY_MODEL_e1e85771ad0d4498824d377fce770af0"
      }
     },
     "037a16a241c243749354de3dca5b2e97": {
      "model_module": "@jupyter-widgets/base",
      "model_module_version": "1.2.0",
      "model_name": "LayoutModel",
      "state": {}
     },
     "03c27ff4fed14f128c53c3512c5e87ff": {
      "model_module": "@jupyter-widgets/controls",
      "model_module_version": "1.5.0",
      "model_name": "DescriptionStyleModel",
      "state": {
       "description_width": ""
      }
     },
     "03c908f0709f4f9a945b45b942d86bd3": {
      "model_module": "@jupyter-widgets/controls",
      "model_module_version": "1.5.0",
      "model_name": "FloatProgressModel",
      "state": {
       "bar_style": "success",
       "layout": "IPY_MODEL_8d457e8bfd624a47a385690586d3ad9e",
       "max": 5,
       "style": "IPY_MODEL_f2d88acb1fdb4e5d90b4c8aa71bc9913",
       "value": 5
      }
     },
     "049549122228476aa2d5df81c79c34b4": {
      "model_module": "@jupyter-widgets/controls",
      "model_module_version": "1.5.0",
      "model_name": "HTMLModel",
      "state": {
       "layout": "IPY_MODEL_fc08fa1d49d44c4dbf5e939058b800a9",
       "style": "IPY_MODEL_1e75721ace57482b96644bb50762a805",
       "value": "100%"
      }
     },
     "04d8316e48e74aeea48d032353a64c46": {
      "model_module": "@jupyter-widgets/controls",
      "model_module_version": "1.5.0",
      "model_name": "HBoxModel",
      "state": {
       "children": [
        "IPY_MODEL_5217d26bc40f4c33b3537268a96042f8",
        "IPY_MODEL_8bb8d7ac01c94f24bc976e0e447b3db3",
        "IPY_MODEL_3a3e5809d5c24df4809e2279188285d4"
       ],
       "layout": "IPY_MODEL_a3b1242f08fe4b91af5a22d817631b67"
      }
     },
     "052a5f5e32614c42b4d1434d2ac9d97b": {
      "model_module": "@jupyter-widgets/base",
      "model_module_version": "1.2.0",
      "model_name": "LayoutModel",
      "state": {}
     },
     "052a61e4853e4597a46e56a27874950d": {
      "model_module": "@jupyter-widgets/base",
      "model_module_version": "1.2.0",
      "model_name": "LayoutModel",
      "state": {}
     },
     "05922c812bda4a4b99972be634bb19d2": {
      "model_module": "@jupyter-widgets/base",
      "model_module_version": "1.2.0",
      "model_name": "LayoutModel",
      "state": {}
     },
     "05a4b02499cf4c588b7c28061d0cd904": {
      "model_module": "@jupyter-widgets/controls",
      "model_module_version": "1.5.0",
      "model_name": "HBoxModel",
      "state": {
       "children": [
        "IPY_MODEL_3df7f9352618499892e63458f4ef2bb5",
        "IPY_MODEL_2f2f9716ef8f4f42a04d2996853b261b",
        "IPY_MODEL_28481a77fb8341e29b1a3cb3bba45fed"
       ],
       "layout": "IPY_MODEL_ade81211949146329034ed4b6445c39b"
      }
     },
     "05c0239a216e471899603a3ad6365105": {
      "model_module": "@jupyter-widgets/base",
      "model_module_version": "1.2.0",
      "model_name": "LayoutModel",
      "state": {}
     },
     "05ebded4adad447aac737e9cc4c2f489": {
      "model_module": "@jupyter-widgets/controls",
      "model_module_version": "1.5.0",
      "model_name": "ProgressStyleModel",
      "state": {
       "description_width": ""
      }
     },
     "0737fd4c2c88494ca067216ebf5cb5da": {
      "model_module": "@jupyter-widgets/controls",
      "model_module_version": "1.5.0",
      "model_name": "ProgressStyleModel",
      "state": {
       "description_width": ""
      }
     },
     "074b30931cb143d8ac06001356022d2d": {
      "model_module": "@jupyter-widgets/controls",
      "model_module_version": "1.5.0",
      "model_name": "HTMLModel",
      "state": {
       "layout": "IPY_MODEL_00b01792d8014bf4ae8644f8cd0247f4",
       "style": "IPY_MODEL_20c494df790644289a523dd5c9f45d9f",
       "value": " 5/5 [00:00&lt;00:00, 81.89it/s]"
      }
     },
     "077cb0586ece47ee8524fabe5a1d4f94": {
      "model_module": "@jupyter-widgets/controls",
      "model_module_version": "1.5.0",
      "model_name": "ProgressStyleModel",
      "state": {
       "description_width": ""
      }
     },
     "085b7d54aa504e948fb0d22538d9dffa": {
      "model_module": "@jupyter-widgets/controls",
      "model_module_version": "1.5.0",
      "model_name": "ProgressStyleModel",
      "state": {
       "description_width": ""
      }
     },
     "089b4800faf74815a31afd4db80ca698": {
      "model_module": "@jupyter-widgets/controls",
      "model_module_version": "1.5.0",
      "model_name": "DescriptionStyleModel",
      "state": {
       "description_width": ""
      }
     },
     "08a469c7de074d2b8799ec3a49b50a75": {
      "model_module": "@jupyter-widgets/controls",
      "model_module_version": "1.5.0",
      "model_name": "HTMLModel",
      "state": {
       "layout": "IPY_MODEL_7e5cdb2f1ebc4e67a0ff59a39229fb6e",
       "style": "IPY_MODEL_f301be475b514ed2a4219cd142678ba7",
       "value": " 5/5 [12:39&lt;00:00, 151.65s/it]"
      }
     },
     "08a6e94050c04524b9df885a32f6daa1": {
      "model_module": "@jupyter-widgets/base",
      "model_module_version": "1.2.0",
      "model_name": "LayoutModel",
      "state": {}
     },
     "09a0848bd6df415cb4b40ea37c20c98e": {
      "model_module": "@jupyter-widgets/controls",
      "model_module_version": "1.5.0",
      "model_name": "ProgressStyleModel",
      "state": {
       "description_width": ""
      }
     },
     "0a3f043c52494d2e8fa1bc7ac82fc2ff": {
      "model_module": "@jupyter-widgets/controls",
      "model_module_version": "1.5.0",
      "model_name": "DescriptionStyleModel",
      "state": {
       "description_width": ""
      }
     },
     "0a92ab6a88fc48009a9914d851c2eacc": {
      "model_module": "@jupyter-widgets/controls",
      "model_module_version": "1.5.0",
      "model_name": "ProgressStyleModel",
      "state": {
       "description_width": ""
      }
     },
     "0aee9624d31f40718a5579fbc54583af": {
      "model_module": "@jupyter-widgets/base",
      "model_module_version": "1.2.0",
      "model_name": "LayoutModel",
      "state": {}
     },
     "0b2969d185a3435fb8826daeb2db1ecc": {
      "model_module": "@jupyter-widgets/base",
      "model_module_version": "1.2.0",
      "model_name": "LayoutModel",
      "state": {}
     },
     "0b4e783bd8324b289b2fdbda2404e098": {
      "model_module": "@jupyter-widgets/base",
      "model_module_version": "1.2.0",
      "model_name": "LayoutModel",
      "state": {}
     },
     "0bb4253250ed434d94761c9b08b95305": {
      "model_module": "@jupyter-widgets/controls",
      "model_module_version": "1.5.0",
      "model_name": "ProgressStyleModel",
      "state": {
       "description_width": ""
      }
     },
     "0c09e0143397477792842a97a9b0b98b": {
      "model_module": "@jupyter-widgets/controls",
      "model_module_version": "1.5.0",
      "model_name": "HTMLModel",
      "state": {
       "layout": "IPY_MODEL_d07b069d696e461091cf45ab11db0ff5",
       "style": "IPY_MODEL_41b5e9e3622a4501b9ab454dfdb3766d",
       "value": " 5/5 [00:04&lt;00:00,  1.15it/s]"
      }
     },
     "0c538e7e97bf4977b15a80c8ba02c7e8": {
      "model_module": "@jupyter-widgets/base",
      "model_module_version": "1.2.0",
      "model_name": "LayoutModel",
      "state": {}
     },
     "0c84321146be47cd890cab9d072a27c9": {
      "model_module": "@jupyter-widgets/controls",
      "model_module_version": "1.5.0",
      "model_name": "ProgressStyleModel",
      "state": {
       "description_width": ""
      }
     },
     "0ce2b0956a8a453aaf14020c545216a0": {
      "model_module": "@jupyter-widgets/base",
      "model_module_version": "1.2.0",
      "model_name": "LayoutModel",
      "state": {}
     },
     "0ce600b31f0f4cfda7fa559862be76c5": {
      "model_module": "@jupyter-widgets/base",
      "model_module_version": "1.2.0",
      "model_name": "LayoutModel",
      "state": {}
     },
     "0d07e951a4f242e99bba56807736f33f": {
      "model_module": "@jupyter-widgets/base",
      "model_module_version": "1.2.0",
      "model_name": "LayoutModel",
      "state": {}
     },
     "0d4d9facfc6843eaa0c34009a02fd2b1": {
      "model_module": "@jupyter-widgets/controls",
      "model_module_version": "1.5.0",
      "model_name": "FloatProgressModel",
      "state": {
       "bar_style": "success",
       "layout": "IPY_MODEL_1184acef72bd416ca3ba5de2fa388abe",
       "max": 5,
       "style": "IPY_MODEL_e65493139a88452188fbca14ad6f583b",
       "value": 5
      }
     },
     "0d7539bc88a4413fb3da2c26644388f4": {
      "model_module": "@jupyter-widgets/base",
      "model_module_version": "1.2.0",
      "model_name": "LayoutModel",
      "state": {}
     },
     "0d9622eb7a604f6ea98ccb35d8910004": {
      "model_module": "@jupyter-widgets/controls",
      "model_module_version": "1.5.0",
      "model_name": "HTMLModel",
      "state": {
       "layout": "IPY_MODEL_9cca425ef8124a688b5bc7ba55458472",
       "style": "IPY_MODEL_e9dcf3229e1f4c95a129076dd7591c5b",
       "value": "100%"
      }
     },
     "0de5ba4fc4414c4382500055c614ca99": {
      "model_module": "@jupyter-widgets/base",
      "model_module_version": "1.2.0",
      "model_name": "LayoutModel",
      "state": {}
     },
     "0e569993965b40cfb9856c70994cbd9f": {
      "model_module": "@jupyter-widgets/controls",
      "model_module_version": "1.5.0",
      "model_name": "DescriptionStyleModel",
      "state": {
       "description_width": ""
      }
     },
     "0eb6fff80b9d4a129e4103c7c54ea696": {
      "model_module": "@jupyter-widgets/base",
      "model_module_version": "1.2.0",
      "model_name": "LayoutModel",
      "state": {}
     },
     "0eddddd536674f559550df07678cd5c6": {
      "model_module": "@jupyter-widgets/controls",
      "model_module_version": "1.5.0",
      "model_name": "HTMLModel",
      "state": {
       "layout": "IPY_MODEL_0d7539bc88a4413fb3da2c26644388f4",
       "style": "IPY_MODEL_9b1ab2f81f5b4922b158a4d62d4a5eed",
       "value": "100%"
      }
     },
     "0ef71d51e8c64b99a920b220d7656db8": {
      "model_module": "@jupyter-widgets/base",
      "model_module_version": "1.2.0",
      "model_name": "LayoutModel",
      "state": {}
     },
     "107e644ef8814a3b9066b3d2836e076a": {
      "model_module": "@jupyter-widgets/base",
      "model_module_version": "1.2.0",
      "model_name": "LayoutModel",
      "state": {}
     },
     "109be5b372304304a1dd407c43a34527": {
      "model_module": "@jupyter-widgets/controls",
      "model_module_version": "1.5.0",
      "model_name": "HTMLModel",
      "state": {
       "layout": "IPY_MODEL_35341f2fb2174b23b95015e0571b1748",
       "style": "IPY_MODEL_968663b1d42047cb8773f2fbf6fd1f66",
       "value": " 5/5 [13:15&lt;00:00, 157.75s/it]"
      }
     },
     "10a2afa8850c47e18ce33ab87c2ec591": {
      "model_module": "@jupyter-widgets/base",
      "model_module_version": "1.2.0",
      "model_name": "LayoutModel",
      "state": {}
     },
     "10b7340956e046109c742c7b1021ab62": {
      "model_module": "@jupyter-widgets/base",
      "model_module_version": "1.2.0",
      "model_name": "LayoutModel",
      "state": {}
     },
     "10b760be2a044de288aed9a60ec99450": {
      "model_module": "@jupyter-widgets/base",
      "model_module_version": "1.2.0",
      "model_name": "LayoutModel",
      "state": {}
     },
     "10ca300c141447d1a589373d6786dfab": {
      "model_module": "@jupyter-widgets/controls",
      "model_module_version": "1.5.0",
      "model_name": "HTMLModel",
      "state": {
       "layout": "IPY_MODEL_d11c0acd5ca34ff18549e53adf4607e3",
       "style": "IPY_MODEL_b015c87f91da4adfaa2a4a07d560cbc2",
       "value": " 5/5 [00:00&lt;00:00, 13.57it/s]"
      }
     },
     "116292d3e7454489bea6aeb2e5661c12": {
      "model_module": "@jupyter-widgets/controls",
      "model_module_version": "1.5.0",
      "model_name": "HBoxModel",
      "state": {
       "children": [
        "IPY_MODEL_00c56fcd890e414a98082cebb20fc5cd",
        "IPY_MODEL_ca0eee3c1aae4f54bc7b52450cf58475",
        "IPY_MODEL_3aec42a745f946f7a930a5ee02e7c437"
       ],
       "layout": "IPY_MODEL_7b5fc1e883994a88b1e06f3afc077dd0"
      }
     },
     "1184acef72bd416ca3ba5de2fa388abe": {
      "model_module": "@jupyter-widgets/base",
      "model_module_version": "1.2.0",
      "model_name": "LayoutModel",
      "state": {}
     },
     "12c5b2b9fa4f41db8742ae4060f25942": {
      "model_module": "@jupyter-widgets/base",
      "model_module_version": "1.2.0",
      "model_name": "LayoutModel",
      "state": {}
     },
     "12dd307bed5b46de93fc2edce295afb6": {
      "model_module": "@jupyter-widgets/base",
      "model_module_version": "1.2.0",
      "model_name": "LayoutModel",
      "state": {}
     },
     "12f39e7089614b1c84a431c8e0f3870d": {
      "model_module": "@jupyter-widgets/controls",
      "model_module_version": "1.5.0",
      "model_name": "DescriptionStyleModel",
      "state": {
       "description_width": ""
      }
     },
     "13401458ad2a4844bf605acb03c6154f": {
      "model_module": "@jupyter-widgets/controls",
      "model_module_version": "1.5.0",
      "model_name": "ProgressStyleModel",
      "state": {
       "description_width": ""
      }
     },
     "135915f245a74c0281239e2c02db187e": {
      "model_module": "@jupyter-widgets/base",
      "model_module_version": "1.2.0",
      "model_name": "LayoutModel",
      "state": {}
     },
     "1396b98735ec4867b0b98d4641cc9480": {
      "model_module": "@jupyter-widgets/base",
      "model_module_version": "1.2.0",
      "model_name": "LayoutModel",
      "state": {}
     },
     "13a1d3357f6e4d97b99142e4d58e5562": {
      "model_module": "@jupyter-widgets/controls",
      "model_module_version": "1.5.0",
      "model_name": "HTMLModel",
      "state": {
       "layout": "IPY_MODEL_037a16a241c243749354de3dca5b2e97",
       "style": "IPY_MODEL_52734ae0dc8d47a69cefc7f0923acb85",
       "value": "100%"
      }
     },
     "13e3479ba0cb4ab08b43e83a2b64cea2": {
      "model_module": "@jupyter-widgets/controls",
      "model_module_version": "1.5.0",
      "model_name": "DescriptionStyleModel",
      "state": {
       "description_width": ""
      }
     },
     "14c7640df5e346ff8a9432cf375b2a80": {
      "model_module": "@jupyter-widgets/controls",
      "model_module_version": "1.5.0",
      "model_name": "DescriptionStyleModel",
      "state": {
       "description_width": ""
      }
     },
     "14c9b581ec784baab6fb8eba296aa56c": {
      "model_module": "@jupyter-widgets/controls",
      "model_module_version": "1.5.0",
      "model_name": "ProgressStyleModel",
      "state": {
       "description_width": ""
      }
     },
     "14f2d0f8b6b143b38dc66114b92a98a4": {
      "model_module": "@jupyter-widgets/base",
      "model_module_version": "1.2.0",
      "model_name": "LayoutModel",
      "state": {}
     },
     "1539800c2fc140fc9ec7327969c41c2a": {
      "model_module": "@jupyter-widgets/base",
      "model_module_version": "1.2.0",
      "model_name": "LayoutModel",
      "state": {}
     },
     "1579139c85034d268c6367f85a8c6beb": {
      "model_module": "@jupyter-widgets/controls",
      "model_module_version": "1.5.0",
      "model_name": "HBoxModel",
      "state": {
       "children": [
        "IPY_MODEL_98df17219fec4a8fbeae72f87243f37f",
        "IPY_MODEL_c08c236b2ed9468e850637f094bcb770",
        "IPY_MODEL_9ea87cefca3448d695bd122b0ab33c2a"
       ],
       "layout": "IPY_MODEL_170439e291c7498c82988bca838db953"
      }
     },
     "1581403e0d29435eb0e67704d2fd1fe9": {
      "model_module": "@jupyter-widgets/controls",
      "model_module_version": "1.5.0",
      "model_name": "FloatProgressModel",
      "state": {
       "bar_style": "success",
       "layout": "IPY_MODEL_f032dadb5fcf4e68a12a4879df863341",
       "max": 5,
       "style": "IPY_MODEL_38988571b93341e78ac62db633ee224f",
       "value": 5
      }
     },
     "15c7d344626d4ca0ba5d082b65977315": {
      "model_module": "@jupyter-widgets/controls",
      "model_module_version": "1.5.0",
      "model_name": "FloatProgressModel",
      "state": {
       "bar_style": "success",
       "layout": "IPY_MODEL_da5024560ea24b3eb56dfbfc76007067",
       "max": 5,
       "style": "IPY_MODEL_077cb0586ece47ee8524fabe5a1d4f94",
       "value": 5
      }
     },
     "15d5b13d5c894e81a7ddf7fa0198feab": {
      "model_module": "@jupyter-widgets/controls",
      "model_module_version": "1.5.0",
      "model_name": "HTMLModel",
      "state": {
       "layout": "IPY_MODEL_919de0c46abf4b7db6c7da0d3bd483cb",
       "style": "IPY_MODEL_39240854ed5247e6be6ee8a35331389b",
       "value": "100%"
      }
     },
     "15ed8b157026400e95c2e058ee505501": {
      "model_module": "@jupyter-widgets/controls",
      "model_module_version": "1.5.0",
      "model_name": "DescriptionStyleModel",
      "state": {
       "description_width": ""
      }
     },
     "16b531efaa484d74beb15090d8fb8784": {
      "model_module": "@jupyter-widgets/controls",
      "model_module_version": "1.5.0",
      "model_name": "HBoxModel",
      "state": {
       "children": [
        "IPY_MODEL_87fabac7205e46a8aaf45fda8a27117a",
        "IPY_MODEL_849d8cd6bb774ba09113f32cd1d6e6bb",
        "IPY_MODEL_d33be881b3fa4e80bd37146cf6972399"
       ],
       "layout": "IPY_MODEL_64ed98ef1dd14dc5babd83576dfc36ea"
      }
     },
     "16ef15fb9fa44b669dd3ffdd6c8fbe9f": {
      "model_module": "@jupyter-widgets/controls",
      "model_module_version": "1.5.0",
      "model_name": "ProgressStyleModel",
      "state": {
       "description_width": ""
      }
     },
     "170439e291c7498c82988bca838db953": {
      "model_module": "@jupyter-widgets/base",
      "model_module_version": "1.2.0",
      "model_name": "LayoutModel",
      "state": {}
     },
     "175083ec7d7a404fa6ab3126e1d5a542": {
      "model_module": "@jupyter-widgets/base",
      "model_module_version": "1.2.0",
      "model_name": "LayoutModel",
      "state": {}
     },
     "176060c56490480db2f0664704da89df": {
      "model_module": "@jupyter-widgets/base",
      "model_module_version": "1.2.0",
      "model_name": "LayoutModel",
      "state": {}
     },
     "17c83b1bdc004f1abb8ea14c2fbcb759": {
      "model_module": "@jupyter-widgets/base",
      "model_module_version": "1.2.0",
      "model_name": "LayoutModel",
      "state": {}
     },
     "185880c93a0a4ebe842edfd9685023b6": {
      "model_module": "@jupyter-widgets/base",
      "model_module_version": "1.2.0",
      "model_name": "LayoutModel",
      "state": {}
     },
     "18746eb38d064d52a617f8edc2aa2916": {
      "model_module": "@jupyter-widgets/base",
      "model_module_version": "1.2.0",
      "model_name": "LayoutModel",
      "state": {}
     },
     "187c637886d04b8eab6048192441465c": {
      "model_module": "@jupyter-widgets/controls",
      "model_module_version": "1.5.0",
      "model_name": "DescriptionStyleModel",
      "state": {
       "description_width": ""
      }
     },
     "18e7d4dcfaaf4e6c81c9798e54214ab4": {
      "model_module": "@jupyter-widgets/controls",
      "model_module_version": "1.5.0",
      "model_name": "DescriptionStyleModel",
      "state": {
       "description_width": ""
      }
     },
     "193066d7b3f44eae9a096f19b7329816": {
      "model_module": "@jupyter-widgets/controls",
      "model_module_version": "1.5.0",
      "model_name": "ProgressStyleModel",
      "state": {
       "description_width": ""
      }
     },
     "194214182c1f414997ec4faa32d51493": {
      "model_module": "@jupyter-widgets/base",
      "model_module_version": "1.2.0",
      "model_name": "LayoutModel",
      "state": {}
     },
     "19dd6ca6badc42faa646e9091cda32c9": {
      "model_module": "@jupyter-widgets/base",
      "model_module_version": "1.2.0",
      "model_name": "LayoutModel",
      "state": {}
     },
     "1a46d8335d194975ad423264ea7955d8": {
      "model_module": "@jupyter-widgets/controls",
      "model_module_version": "1.5.0",
      "model_name": "DescriptionStyleModel",
      "state": {
       "description_width": ""
      }
     },
     "1acda90f8fde4cd5a8f253b8ab2fb202": {
      "model_module": "@jupyter-widgets/controls",
      "model_module_version": "1.5.0",
      "model_name": "DescriptionStyleModel",
      "state": {
       "description_width": ""
      }
     },
     "1b507388ae4348c5b84b9e137464d8ee": {
      "model_module": "@jupyter-widgets/base",
      "model_module_version": "1.2.0",
      "model_name": "LayoutModel",
      "state": {}
     },
     "1b95fd8865214c55ae5037c57d535929": {
      "model_module": "@jupyter-widgets/controls",
      "model_module_version": "1.5.0",
      "model_name": "DescriptionStyleModel",
      "state": {
       "description_width": ""
      }
     },
     "1bd12d02f954423bbd99a3bbdc93e151": {
      "model_module": "@jupyter-widgets/controls",
      "model_module_version": "1.5.0",
      "model_name": "ProgressStyleModel",
      "state": {
       "description_width": ""
      }
     },
     "1c07d5c6bf8a4581a763e673602fb5c3": {
      "model_module": "@jupyter-widgets/base",
      "model_module_version": "1.2.0",
      "model_name": "LayoutModel",
      "state": {}
     },
     "1c42d9ffcde54a1eaf7e61f16e5e0a77": {
      "model_module": "@jupyter-widgets/controls",
      "model_module_version": "1.5.0",
      "model_name": "DescriptionStyleModel",
      "state": {
       "description_width": ""
      }
     },
     "1c9c085a08e840eb8d33e3e65d730982": {
      "model_module": "@jupyter-widgets/controls",
      "model_module_version": "1.5.0",
      "model_name": "DescriptionStyleModel",
      "state": {
       "description_width": ""
      }
     },
     "1cdccab879b54244bdc452f3ae3f72c9": {
      "model_module": "@jupyter-widgets/controls",
      "model_module_version": "1.5.0",
      "model_name": "DescriptionStyleModel",
      "state": {
       "description_width": ""
      }
     },
     "1d03d314fa1e4b689121c8f2e02b3b50": {
      "model_module": "@jupyter-widgets/controls",
      "model_module_version": "1.5.0",
      "model_name": "ProgressStyleModel",
      "state": {
       "description_width": ""
      }
     },
     "1d8a815efb204e45a492a760b7c1fc1f": {
      "model_module": "@jupyter-widgets/controls",
      "model_module_version": "1.5.0",
      "model_name": "ProgressStyleModel",
      "state": {
       "description_width": ""
      }
     },
     "1e75721ace57482b96644bb50762a805": {
      "model_module": "@jupyter-widgets/controls",
      "model_module_version": "1.5.0",
      "model_name": "DescriptionStyleModel",
      "state": {
       "description_width": ""
      }
     },
     "1ebcaf110fc94cf8b0cf9aa54e55f10f": {
      "model_module": "@jupyter-widgets/controls",
      "model_module_version": "1.5.0",
      "model_name": "HTMLModel",
      "state": {
       "layout": "IPY_MODEL_9dea60d4606d43d08986a9686ea36e86",
       "style": "IPY_MODEL_9cdf5635a21b4fa89a7046fd617f2955",
       "value": "100%"
      }
     },
     "1f354f266eb0457b95a77d9d79292ced": {
      "model_module": "@jupyter-widgets/controls",
      "model_module_version": "1.5.0",
      "model_name": "FloatProgressModel",
      "state": {
       "bar_style": "success",
       "layout": "IPY_MODEL_498bcdd06f9a45c69d4a12b62a0da366",
       "max": 5,
       "style": "IPY_MODEL_d3beaf96f7394970a9265dd95580744d",
       "value": 5
      }
     },
     "1f3c151131034bacb19059d6109b5fcb": {
      "model_module": "@jupyter-widgets/base",
      "model_module_version": "1.2.0",
      "model_name": "LayoutModel",
      "state": {}
     },
     "1f72943102b54e3fa61311d2de57828e": {
      "model_module": "@jupyter-widgets/controls",
      "model_module_version": "1.5.0",
      "model_name": "FloatProgressModel",
      "state": {
       "bar_style": "success",
       "layout": "IPY_MODEL_9a25d4cd59f74ec7919f6c010024ffd8",
       "max": 5,
       "style": "IPY_MODEL_8f32678b0dd1436489b2e9ff410ca94c",
       "value": 5
      }
     },
     "1fb8420009ae4294922917c6328ab934": {
      "model_module": "@jupyter-widgets/controls",
      "model_module_version": "1.5.0",
      "model_name": "ProgressStyleModel",
      "state": {
       "description_width": ""
      }
     },
     "1fdead41471a44e8af9c7040eeb2b64b": {
      "model_module": "@jupyter-widgets/controls",
      "model_module_version": "1.5.0",
      "model_name": "DescriptionStyleModel",
      "state": {
       "description_width": ""
      }
     },
     "1ff04aafaa614de181dc792610395976": {
      "model_module": "@jupyter-widgets/base",
      "model_module_version": "1.2.0",
      "model_name": "LayoutModel",
      "state": {}
     },
     "20c494df790644289a523dd5c9f45d9f": {
      "model_module": "@jupyter-widgets/controls",
      "model_module_version": "1.5.0",
      "model_name": "DescriptionStyleModel",
      "state": {
       "description_width": ""
      }
     },
     "20d02f2ff20f47ab88205e859d1bd39d": {
      "model_module": "@jupyter-widgets/base",
      "model_module_version": "1.2.0",
      "model_name": "LayoutModel",
      "state": {}
     },
     "20d239ae4c8045f3b96f48408310d381": {
      "model_module": "@jupyter-widgets/controls",
      "model_module_version": "1.5.0",
      "model_name": "HTMLModel",
      "state": {
       "layout": "IPY_MODEL_f3558d35add64598bfb14664cbba84b6",
       "style": "IPY_MODEL_4e934c6a97e348cf993aad808bb974cc",
       "value": "100%"
      }
     },
     "20ea935576b441479bf44776b44c04f2": {
      "model_module": "@jupyter-widgets/controls",
      "model_module_version": "1.5.0",
      "model_name": "HTMLModel",
      "state": {
       "layout": "IPY_MODEL_f917574633dc4742baa419f16ba5995c",
       "style": "IPY_MODEL_c5ab654d624f4c1abcc0256ed63fedae",
       "value": "100%"
      }
     },
     "2128f1213f734e618629078534a501e4": {
      "model_module": "@jupyter-widgets/controls",
      "model_module_version": "1.5.0",
      "model_name": "FloatProgressModel",
      "state": {
       "bar_style": "success",
       "layout": "IPY_MODEL_fea76081b0514c538814fac517301f18",
       "max": 5,
       "style": "IPY_MODEL_1fb8420009ae4294922917c6328ab934",
       "value": 5
      }
     },
     "21724994a8514f43bb8feb5cdb57281a": {
      "model_module": "@jupyter-widgets/base",
      "model_module_version": "1.2.0",
      "model_name": "LayoutModel",
      "state": {}
     },
     "218b5fee01954393854253cb90c97b1e": {
      "model_module": "@jupyter-widgets/controls",
      "model_module_version": "1.5.0",
      "model_name": "HTMLModel",
      "state": {
       "layout": "IPY_MODEL_76621d98b499496cab0d0dcae88b9f59",
       "style": "IPY_MODEL_8217c1adcdee4887bcbdc2a0d9cef595",
       "value": "100%"
      }
     },
     "2233f524ee4b45968a3fc248e1eaf9a0": {
      "model_module": "@jupyter-widgets/controls",
      "model_module_version": "1.5.0",
      "model_name": "DescriptionStyleModel",
      "state": {
       "description_width": ""
      }
     },
     "22472ee07b46439da1fa989a224c7ac2": {
      "model_module": "@jupyter-widgets/controls",
      "model_module_version": "1.5.0",
      "model_name": "HBoxModel",
      "state": {
       "children": [
        "IPY_MODEL_aa58da4784474b4f9af7b7d1b4805474",
        "IPY_MODEL_b2b4f99e33b1478dbaf2b3406142ee22",
        "IPY_MODEL_0c09e0143397477792842a97a9b0b98b"
       ],
       "layout": "IPY_MODEL_c73cc373b8684f5bb3b55d8d65462c32"
      }
     },
     "226b0e54faa6439dacfabb93ab3ac3ee": {
      "model_module": "@jupyter-widgets/controls",
      "model_module_version": "1.5.0",
      "model_name": "ProgressStyleModel",
      "state": {
       "description_width": ""
      }
     },
     "230be212b4834368b1d1d87e25c0520d": {
      "model_module": "@jupyter-widgets/controls",
      "model_module_version": "1.5.0",
      "model_name": "FloatProgressModel",
      "state": {
       "bar_style": "success",
       "layout": "IPY_MODEL_5ccb46e46041420f8d75fc24f9121e2a",
       "max": 5,
       "style": "IPY_MODEL_0737fd4c2c88494ca067216ebf5cb5da",
       "value": 5
      }
     },
     "232d3b2a415141a3b88176fc19e4b113": {
      "model_module": "@jupyter-widgets/base",
      "model_module_version": "1.2.0",
      "model_name": "LayoutModel",
      "state": {}
     },
     "234bd62613984c2199204438229c0e49": {
      "model_module": "@jupyter-widgets/controls",
      "model_module_version": "1.5.0",
      "model_name": "FloatProgressModel",
      "state": {
       "bar_style": "success",
       "layout": "IPY_MODEL_f6237e0a8c0e47ed866b57008e67a481",
       "max": 5,
       "style": "IPY_MODEL_c27308543e29457fae9820b98dbe79b3",
       "value": 5
      }
     },
     "2385e3b72a8d4679a2ec65d4267f29a7": {
      "model_module": "@jupyter-widgets/controls",
      "model_module_version": "1.5.0",
      "model_name": "ProgressStyleModel",
      "state": {
       "description_width": ""
      }
     },
     "239bf9d19ad14b519f3fadc61486331c": {
      "model_module": "@jupyter-widgets/controls",
      "model_module_version": "1.5.0",
      "model_name": "DescriptionStyleModel",
      "state": {
       "description_width": ""
      }
     },
     "240335e95a284db79fcacc9dc9fad0dc": {
      "model_module": "@jupyter-widgets/controls",
      "model_module_version": "1.5.0",
      "model_name": "HBoxModel",
      "state": {
       "children": [
        "IPY_MODEL_d64c82cac2aa46e9b16a30a7ac90c8c3",
        "IPY_MODEL_ae726be80e564ae18889d2427465e1e5",
        "IPY_MODEL_25c9f2a8736f42d8944a49e26522034b"
       ],
       "layout": "IPY_MODEL_a2be8e6c1a4d48eea869eb46c9c6dce5"
      }
     },
     "24293c9899074d07ad872b97449af3b2": {
      "model_module": "@jupyter-widgets/controls",
      "model_module_version": "1.5.0",
      "model_name": "ProgressStyleModel",
      "state": {
       "description_width": ""
      }
     },
     "25367b0826724d82a2ea72566dcd3142": {
      "model_module": "@jupyter-widgets/controls",
      "model_module_version": "1.5.0",
      "model_name": "ProgressStyleModel",
      "state": {
       "description_width": ""
      }
     },
     "2542610879ac40198d378a624e1e0e8c": {
      "model_module": "@jupyter-widgets/base",
      "model_module_version": "1.2.0",
      "model_name": "LayoutModel",
      "state": {}
     },
     "2572cef2fb4b45a3901fd7f2686b8fa6": {
      "model_module": "@jupyter-widgets/controls",
      "model_module_version": "1.5.0",
      "model_name": "DescriptionStyleModel",
      "state": {
       "description_width": ""
      }
     },
     "25c8a45c7fb14764b77879bf580af310": {
      "model_module": "@jupyter-widgets/base",
      "model_module_version": "1.2.0",
      "model_name": "LayoutModel",
      "state": {}
     },
     "25c9f2a8736f42d8944a49e26522034b": {
      "model_module": "@jupyter-widgets/controls",
      "model_module_version": "1.5.0",
      "model_name": "HTMLModel",
      "state": {
       "layout": "IPY_MODEL_e81b91712ecd42b8b9b3f2dc50151db6",
       "style": "IPY_MODEL_412c1b6aa6314b7fbdcecc2f8823d188",
       "value": " 5/5 [00:12&lt;00:00,  2.51s/it]"
      }
     },
     "261617e45e7c416cb1d2ecf099207ff4": {
      "model_module": "@jupyter-widgets/controls",
      "model_module_version": "1.5.0",
      "model_name": "DescriptionStyleModel",
      "state": {
       "description_width": ""
      }
     },
     "2645212eff60451b8d0fa26568eaf89e": {
      "model_module": "@jupyter-widgets/controls",
      "model_module_version": "1.5.0",
      "model_name": "HBoxModel",
      "state": {
       "children": [
        "IPY_MODEL_5e238c159cbc49baacc37fa5e7f90a0a",
        "IPY_MODEL_45d690aae2b34aedb75d8bd40e6a4281",
        "IPY_MODEL_69399af545ab4d25865419ed6756e35a"
       ],
       "layout": "IPY_MODEL_e5948da025c04ccbb8eff0c7c79b6dfd"
      }
     },
     "26be05d7a38a40469b5fb46526e38c3e": {
      "model_module": "@jupyter-widgets/controls",
      "model_module_version": "1.5.0",
      "model_name": "ProgressStyleModel",
      "state": {
       "description_width": ""
      }
     },
     "2796070684f94f1aaf0f4808d9d05de9": {
      "model_module": "@jupyter-widgets/controls",
      "model_module_version": "1.5.0",
      "model_name": "DescriptionStyleModel",
      "state": {
       "description_width": ""
      }
     },
     "27b969af6d1d4a9989db7b05de9540d8": {
      "model_module": "@jupyter-widgets/controls",
      "model_module_version": "1.5.0",
      "model_name": "HBoxModel",
      "state": {
       "children": [
        "IPY_MODEL_b00d4b5674064ee19c4a4a5795da0939",
        "IPY_MODEL_321a55c8a0b944a09f2011fa39e06476",
        "IPY_MODEL_109be5b372304304a1dd407c43a34527"
       ],
       "layout": "IPY_MODEL_efc618dbf1614c00ba3bb7559ba0a1fa"
      }
     },
     "27bf454023c84b0ea7137ae1d4d230a3": {
      "model_module": "@jupyter-widgets/controls",
      "model_module_version": "1.5.0",
      "model_name": "HTMLModel",
      "state": {
       "layout": "IPY_MODEL_f20a5b2bb1fa4492bae5cdb3adbbf9b7",
       "style": "IPY_MODEL_ea684f24320043e48e84cb5a8b04a2db",
       "value": " 5/5 [00:04&lt;00:00,  1.07it/s]"
      }
     },
     "27c58aaece074c0ab6d746f834f6e2d3": {
      "model_module": "@jupyter-widgets/controls",
      "model_module_version": "1.5.0",
      "model_name": "DescriptionStyleModel",
      "state": {
       "description_width": ""
      }
     },
     "27f08c462a5d4c1fbd0715f01dab69de": {
      "model_module": "@jupyter-widgets/base",
      "model_module_version": "1.2.0",
      "model_name": "LayoutModel",
      "state": {}
     },
     "28481a77fb8341e29b1a3cb3bba45fed": {
      "model_module": "@jupyter-widgets/controls",
      "model_module_version": "1.5.0",
      "model_name": "HTMLModel",
      "state": {
       "layout": "IPY_MODEL_7b585f0b6aa846a3a192b075769d193c",
       "style": "IPY_MODEL_2233f524ee4b45968a3fc248e1eaf9a0",
       "value": " 5/5 [00:05&lt;00:00,  1.00it/s]"
      }
     },
     "285f3bf901ba4ee2be64f713152b61af": {
      "model_module": "@jupyter-widgets/controls",
      "model_module_version": "1.5.0",
      "model_name": "DescriptionStyleModel",
      "state": {
       "description_width": ""
      }
     },
     "288696a035784586817926086502a4b6": {
      "model_module": "@jupyter-widgets/base",
      "model_module_version": "1.2.0",
      "model_name": "LayoutModel",
      "state": {}
     },
     "297bcd62c1484196bbb6e5d2a54f1ae3": {
      "model_module": "@jupyter-widgets/controls",
      "model_module_version": "1.5.0",
      "model_name": "ProgressStyleModel",
      "state": {
       "description_width": ""
      }
     },
     "29a5f23c23b14e21ad3747782d867e4c": {
      "model_module": "@jupyter-widgets/controls",
      "model_module_version": "1.5.0",
      "model_name": "DescriptionStyleModel",
      "state": {
       "description_width": ""
      }
     },
     "29b4d0a2b982413591bab3993bdb9bc7": {
      "model_module": "@jupyter-widgets/controls",
      "model_module_version": "1.5.0",
      "model_name": "HBoxModel",
      "state": {
       "children": [
        "IPY_MODEL_3be59e1e52f349dba1349b168d75efd0",
        "IPY_MODEL_1f354f266eb0457b95a77d9d79292ced",
        "IPY_MODEL_08a469c7de074d2b8799ec3a49b50a75"
       ],
       "layout": "IPY_MODEL_f8d6af663f824a03a23c70b8b387d405"
      }
     },
     "29c3c5de76674a8db9571bc4d467072e": {
      "model_module": "@jupyter-widgets/base",
      "model_module_version": "1.2.0",
      "model_name": "LayoutModel",
      "state": {}
     },
     "2a4cac573ddd4200a220b79f9cc640e6": {
      "model_module": "@jupyter-widgets/controls",
      "model_module_version": "1.5.0",
      "model_name": "ProgressStyleModel",
      "state": {
       "description_width": ""
      }
     },
     "2aa2f2b25a1849679cf55dcbb2956d57": {
      "model_module": "@jupyter-widgets/controls",
      "model_module_version": "1.5.0",
      "model_name": "ProgressStyleModel",
      "state": {
       "description_width": ""
      }
     },
     "2ab2a3a4914a4e06ba9f4acf2030aee3": {
      "model_module": "@jupyter-widgets/controls",
      "model_module_version": "1.5.0",
      "model_name": "FloatProgressModel",
      "state": {
       "bar_style": "success",
       "layout": "IPY_MODEL_e2b9ae99ef3f41678c0dc1eda35019f2",
       "max": 5,
       "style": "IPY_MODEL_24293c9899074d07ad872b97449af3b2",
       "value": 5
      }
     },
     "2aba6ecf32494229bebadbd24c9b372f": {
      "model_module": "@jupyter-widgets/base",
      "model_module_version": "1.2.0",
      "model_name": "LayoutModel",
      "state": {}
     },
     "2ad4c69d21a54ba98a7dcb00a4d4d7e0": {
      "model_module": "@jupyter-widgets/controls",
      "model_module_version": "1.5.0",
      "model_name": "DescriptionStyleModel",
      "state": {
       "description_width": ""
      }
     },
     "2afd348098e14feda6f9e21f148c9f3c": {
      "model_module": "@jupyter-widgets/controls",
      "model_module_version": "1.5.0",
      "model_name": "DescriptionStyleModel",
      "state": {
       "description_width": ""
      }
     },
     "2b2e77dfd7594b5da6e03cd7a7bac618": {
      "model_module": "@jupyter-widgets/controls",
      "model_module_version": "1.5.0",
      "model_name": "HTMLModel",
      "state": {
       "layout": "IPY_MODEL_c5d8e5e0273d40a392f3e7a7b680b41d",
       "style": "IPY_MODEL_678925c9f1984651b3375f47d762f6f7",
       "value": "100%"
      }
     },
     "2b5f82eba3e4446683ddfa62d6282802": {
      "model_module": "@jupyter-widgets/controls",
      "model_module_version": "1.5.0",
      "model_name": "FloatProgressModel",
      "state": {
       "bar_style": "success",
       "layout": "IPY_MODEL_6fde8e3deec849fdbdd04ee091befb99",
       "max": 5,
       "style": "IPY_MODEL_3dfd23c0f8cf41ed9e8669a6fb086cc5",
       "value": 5
      }
     },
     "2bf9536c0ce243c59942fe730bda866c": {
      "model_module": "@jupyter-widgets/base",
      "model_module_version": "1.2.0",
      "model_name": "LayoutModel",
      "state": {}
     },
     "2c310f6e52c44d0cb86e4c111ffb1de7": {
      "model_module": "@jupyter-widgets/controls",
      "model_module_version": "1.5.0",
      "model_name": "DescriptionStyleModel",
      "state": {
       "description_width": ""
      }
     },
     "2c5e07f56d5e486699590b3a671fda50": {
      "model_module": "@jupyter-widgets/base",
      "model_module_version": "1.2.0",
      "model_name": "LayoutModel",
      "state": {}
     },
     "2cea7d9c1eab4de2a0963f98d952fb7e": {
      "model_module": "@jupyter-widgets/base",
      "model_module_version": "1.2.0",
      "model_name": "LayoutModel",
      "state": {}
     },
     "2d0886c3ff5c4846bcd64683f5aa0140": {
      "model_module": "@jupyter-widgets/controls",
      "model_module_version": "1.5.0",
      "model_name": "HTMLModel",
      "state": {
       "layout": "IPY_MODEL_43bc12433dd240449e3de1661d2f2d98",
       "style": "IPY_MODEL_f754a03ef8af4a40807399c09a9cff94",
       "value": "100%"
      }
     },
     "2d6a33e5c6074e769cbb485c38b30efe": {
      "model_module": "@jupyter-widgets/base",
      "model_module_version": "1.2.0",
      "model_name": "LayoutModel",
      "state": {}
     },
     "2da12d9601d543d4ae8693ad6e1b8013": {
      "model_module": "@jupyter-widgets/controls",
      "model_module_version": "1.5.0",
      "model_name": "ProgressStyleModel",
      "state": {
       "description_width": ""
      }
     },
     "2dcb2acc44484e24b291b61fe7eaa4fd": {
      "model_module": "@jupyter-widgets/base",
      "model_module_version": "1.2.0",
      "model_name": "LayoutModel",
      "state": {}
     },
     "2ddd38bf80fb4a779294b3ffe33e972b": {
      "model_module": "@jupyter-widgets/base",
      "model_module_version": "1.2.0",
      "model_name": "LayoutModel",
      "state": {}
     },
     "2e0fa0ff2de74b048d01738f849353f6": {
      "model_module": "@jupyter-widgets/controls",
      "model_module_version": "1.5.0",
      "model_name": "FloatProgressModel",
      "state": {
       "bar_style": "success",
       "layout": "IPY_MODEL_3f177627c03f42f8bcc6700f3478b381",
       "max": 5,
       "style": "IPY_MODEL_3f11d61b3cfd4bb68a5c5354c45b1b28",
       "value": 5
      }
     },
     "2e2053fccaab4f4dae2296f199a3a636": {
      "model_module": "@jupyter-widgets/controls",
      "model_module_version": "1.5.0",
      "model_name": "ProgressStyleModel",
      "state": {
       "description_width": ""
      }
     },
     "2e3eca238db14f80b743a66a6a63a9b8": {
      "model_module": "@jupyter-widgets/controls",
      "model_module_version": "1.5.0",
      "model_name": "HBoxModel",
      "state": {
       "children": [
        "IPY_MODEL_a9ece978e7b940c4aed2ccc21ec7d3c5",
        "IPY_MODEL_d8b57f70e7dd4632afe572a6ae8892dc",
        "IPY_MODEL_5efc6e3d41c8409a88c88878471ad4c6"
       ],
       "layout": "IPY_MODEL_501034aa83da48acab6bad439f8e32a2"
      }
     },
     "2e992cd0408045a183aa7f0960ffb600": {
      "model_module": "@jupyter-widgets/controls",
      "model_module_version": "1.5.0",
      "model_name": "FloatProgressModel",
      "state": {
       "bar_style": "success",
       "layout": "IPY_MODEL_629a35cc525746b897102a585ca7e4ac",
       "max": 5,
       "style": "IPY_MODEL_05ebded4adad447aac737e9cc4c2f489",
       "value": 5
      }
     },
     "2ea4369e8efe4740acfb18c10eafef5d": {
      "model_module": "@jupyter-widgets/base",
      "model_module_version": "1.2.0",
      "model_name": "LayoutModel",
      "state": {}
     },
     "2ec993b6501e4e0a8c7e43aadc57a102": {
      "model_module": "@jupyter-widgets/controls",
      "model_module_version": "1.5.0",
      "model_name": "HTMLModel",
      "state": {
       "layout": "IPY_MODEL_523f520c636c4edd803e174fdc757ac5",
       "style": "IPY_MODEL_0a3f043c52494d2e8fa1bc7ac82fc2ff",
       "value": " 5/5 [00:04&lt;00:00,  1.02it/s]"
      }
     },
     "2f00287377534290bdb1cc210457d511": {
      "model_module": "@jupyter-widgets/controls",
      "model_module_version": "1.5.0",
      "model_name": "HTMLModel",
      "state": {
       "layout": "IPY_MODEL_8c2870d3235b4cbeb9a8473bc3db57e3",
       "style": "IPY_MODEL_29a5f23c23b14e21ad3747782d867e4c",
       "value": "100%"
      }
     },
     "2f069d8ea8ea43cb99941b02bc720644": {
      "model_module": "@jupyter-widgets/base",
      "model_module_version": "1.2.0",
      "model_name": "LayoutModel",
      "state": {}
     },
     "2f2f9716ef8f4f42a04d2996853b261b": {
      "model_module": "@jupyter-widgets/controls",
      "model_module_version": "1.5.0",
      "model_name": "FloatProgressModel",
      "state": {
       "bar_style": "success",
       "layout": "IPY_MODEL_597084808fe14dc0b8ed27b9010df776",
       "max": 5,
       "style": "IPY_MODEL_ff965be747a14387b52f27ea6c34c159",
       "value": 5
      }
     },
     "2f755b75250740f6997bd46dd1425a2a": {
      "model_module": "@jupyter-widgets/base",
      "model_module_version": "1.2.0",
      "model_name": "LayoutModel",
      "state": {}
     },
     "2fe84b2ca5204f5088996a194c8b9f28": {
      "model_module": "@jupyter-widgets/controls",
      "model_module_version": "1.5.0",
      "model_name": "HBoxModel",
      "state": {
       "children": [
        "IPY_MODEL_321b1bb995274a40a6aa9006d25f9e9d",
        "IPY_MODEL_91b2f82248084dfc92abf99e6c6e7e92",
        "IPY_MODEL_e38e1a03162f4f2eb3e81a3bff3a88fa"
       ],
       "layout": "IPY_MODEL_85c283aaca2a4a57a3efc4a1e4d34414"
      }
     },
     "3047e7aa816d4494ae0afb91dede3208": {
      "model_module": "@jupyter-widgets/base",
      "model_module_version": "1.2.0",
      "model_name": "LayoutModel",
      "state": {}
     },
     "30bc7cfc124c436789252ced6cc060a6": {
      "model_module": "@jupyter-widgets/controls",
      "model_module_version": "1.5.0",
      "model_name": "ProgressStyleModel",
      "state": {
       "description_width": ""
      }
     },
     "321a55c8a0b944a09f2011fa39e06476": {
      "model_module": "@jupyter-widgets/controls",
      "model_module_version": "1.5.0",
      "model_name": "FloatProgressModel",
      "state": {
       "bar_style": "success",
       "layout": "IPY_MODEL_634be68983b44aeeac64d33b541478ca",
       "max": 5,
       "style": "IPY_MODEL_0c84321146be47cd890cab9d072a27c9",
       "value": 5
      }
     },
     "321b1bb995274a40a6aa9006d25f9e9d": {
      "model_module": "@jupyter-widgets/controls",
      "model_module_version": "1.5.0",
      "model_name": "HTMLModel",
      "state": {
       "layout": "IPY_MODEL_3279c0d9385d4047a98ad75d86e638b8",
       "style": "IPY_MODEL_340c1ef8cd3e47f09eae9dd8ea5137b5",
       "value": "100%"
      }
     },
     "323e215c011f49b8b1030405a0df816b": {
      "model_module": "@jupyter-widgets/base",
      "model_module_version": "1.2.0",
      "model_name": "LayoutModel",
      "state": {}
     },
     "3279c0d9385d4047a98ad75d86e638b8": {
      "model_module": "@jupyter-widgets/base",
      "model_module_version": "1.2.0",
      "model_name": "LayoutModel",
      "state": {}
     },
     "3285cab6ea5e445da1684eff57755744": {
      "model_module": "@jupyter-widgets/controls",
      "model_module_version": "1.5.0",
      "model_name": "HTMLModel",
      "state": {
       "layout": "IPY_MODEL_cca4d8fb63784fdfae8c4ab7157e02ec",
       "style": "IPY_MODEL_42917b9bc47840c4819b5395a886bb97",
       "value": " 5/5 [12:40&lt;00:00, 152.12s/it]"
      }
     },
     "32e5473a9c024c69a5ff7cb3fc08348c": {
      "model_module": "@jupyter-widgets/base",
      "model_module_version": "1.2.0",
      "model_name": "LayoutModel",
      "state": {}
     },
     "337c34e501f14f21a078ab80475f3103": {
      "model_module": "@jupyter-widgets/controls",
      "model_module_version": "1.5.0",
      "model_name": "ProgressStyleModel",
      "state": {
       "description_width": ""
      }
     },
     "338d7d0943da447fb45810fb433b471a": {
      "model_module": "@jupyter-widgets/base",
      "model_module_version": "1.2.0",
      "model_name": "LayoutModel",
      "state": {}
     },
     "33b8d5c28f184e8b95846046925316f9": {
      "model_module": "@jupyter-widgets/base",
      "model_module_version": "1.2.0",
      "model_name": "LayoutModel",
      "state": {}
     },
     "33c0b15ad0cd4bd4aa3f772469c9493e": {
      "model_module": "@jupyter-widgets/base",
      "model_module_version": "1.2.0",
      "model_name": "LayoutModel",
      "state": {}
     },
     "340014340b9246eca38f1b4c264903bc": {
      "model_module": "@jupyter-widgets/controls",
      "model_module_version": "1.5.0",
      "model_name": "DescriptionStyleModel",
      "state": {
       "description_width": ""
      }
     },
     "340c1ef8cd3e47f09eae9dd8ea5137b5": {
      "model_module": "@jupyter-widgets/controls",
      "model_module_version": "1.5.0",
      "model_name": "DescriptionStyleModel",
      "state": {
       "description_width": ""
      }
     },
     "34117e354c804b7197f126d1af08b597": {
      "model_module": "@jupyter-widgets/controls",
      "model_module_version": "1.5.0",
      "model_name": "HTMLModel",
      "state": {
       "layout": "IPY_MODEL_b7c7935164814d5384d99f6379e1a370",
       "style": "IPY_MODEL_547ef6aac4f24378a79c831799ce264b",
       "value": " 5/5 [13:22&lt;00:00, 159.35s/it]"
      }
     },
     "346f31158fe346458f5688c980e789b6": {
      "model_module": "@jupyter-widgets/base",
      "model_module_version": "1.2.0",
      "model_name": "LayoutModel",
      "state": {}
     },
     "34c8fbcca69447feaf3417c498b22d82": {
      "model_module": "@jupyter-widgets/base",
      "model_module_version": "1.2.0",
      "model_name": "LayoutModel",
      "state": {}
     },
     "350d75262d124426a1af064b69a05a04": {
      "model_module": "@jupyter-widgets/base",
      "model_module_version": "1.2.0",
      "model_name": "LayoutModel",
      "state": {}
     },
     "3524076727564b16bf298e4c707a4bd2": {
      "model_module": "@jupyter-widgets/controls",
      "model_module_version": "1.5.0",
      "model_name": "ProgressStyleModel",
      "state": {
       "description_width": ""
      }
     },
     "35341f2fb2174b23b95015e0571b1748": {
      "model_module": "@jupyter-widgets/base",
      "model_module_version": "1.2.0",
      "model_name": "LayoutModel",
      "state": {}
     },
     "35a8d1323f5e4ef49f1637fc33d976e5": {
      "model_module": "@jupyter-widgets/controls",
      "model_module_version": "1.5.0",
      "model_name": "DescriptionStyleModel",
      "state": {
       "description_width": ""
      }
     },
     "361985c3940c4f82af76152e358dea33": {
      "model_module": "@jupyter-widgets/controls",
      "model_module_version": "1.5.0",
      "model_name": "HBoxModel",
      "state": {
       "children": [
        "IPY_MODEL_858ba27d9ecb406c8c40d849aff1e811",
        "IPY_MODEL_2ab2a3a4914a4e06ba9f4acf2030aee3",
        "IPY_MODEL_5143524921864a539c138c2461ce537a"
       ],
       "layout": "IPY_MODEL_4464cb7aa3f34cfcb5d5a8eed4f33c29"
      }
     },
     "3666029a111d4cdc9d61d42c70231cf8": {
      "model_module": "@jupyter-widgets/controls",
      "model_module_version": "1.5.0",
      "model_name": "DescriptionStyleModel",
      "state": {
       "description_width": ""
      }
     },
     "3678c7e4686f4f7981fae5eabaec980f": {
      "model_module": "@jupyter-widgets/base",
      "model_module_version": "1.2.0",
      "model_name": "LayoutModel",
      "state": {}
     },
     "369a4632794a49bcaafab1051d0dd4c8": {
      "model_module": "@jupyter-widgets/controls",
      "model_module_version": "1.5.0",
      "model_name": "FloatProgressModel",
      "state": {
       "bar_style": "success",
       "layout": "IPY_MODEL_f7eaa30bee684c3885bff11d61c7d6f4",
       "max": 5,
       "style": "IPY_MODEL_1bd12d02f954423bbd99a3bbdc93e151",
       "value": 5
      }
     },
     "36b398cfaa2c4aacaf6a48e3d542f225": {
      "model_module": "@jupyter-widgets/controls",
      "model_module_version": "1.5.0",
      "model_name": "ProgressStyleModel",
      "state": {
       "description_width": ""
      }
     },
     "36dad58f481e459c9f9c9dee07bbe54e": {
      "model_module": "@jupyter-widgets/base",
      "model_module_version": "1.2.0",
      "model_name": "LayoutModel",
      "state": {}
     },
     "36dc546941f94438ab6d76f13aaca351": {
      "model_module": "@jupyter-widgets/base",
      "model_module_version": "1.2.0",
      "model_name": "LayoutModel",
      "state": {}
     },
     "373802101bba4519a5cd7a7210e26c59": {
      "model_module": "@jupyter-widgets/controls",
      "model_module_version": "1.5.0",
      "model_name": "HTMLModel",
      "state": {
       "layout": "IPY_MODEL_3047e7aa816d4494ae0afb91dede3208",
       "style": "IPY_MODEL_1acda90f8fde4cd5a8f253b8ab2fb202",
       "value": "100%"
      }
     },
     "373bb56805bb4e5b87d3e50287aa63e5": {
      "model_module": "@jupyter-widgets/controls",
      "model_module_version": "1.5.0",
      "model_name": "DescriptionStyleModel",
      "state": {
       "description_width": ""
      }
     },
     "3831136d14db48d5b7ac3040c4b19ef9": {
      "model_module": "@jupyter-widgets/base",
      "model_module_version": "1.2.0",
      "model_name": "LayoutModel",
      "state": {}
     },
     "386596726a9442c391eea54b6c0f8145": {
      "model_module": "@jupyter-widgets/controls",
      "model_module_version": "1.5.0",
      "model_name": "HBoxModel",
      "state": {
       "children": [
        "IPY_MODEL_049549122228476aa2d5df81c79c34b4",
        "IPY_MODEL_c070bc3dd09049519edd1c080e2c7be5",
        "IPY_MODEL_ceb209d52a7f41459c8ed2db2fabdb0e"
       ],
       "layout": "IPY_MODEL_f822af2f773249e38e6db9a28dfb7c87"
      }
     },
     "3897267b19444032beeb2013840390c0": {
      "model_module": "@jupyter-widgets/base",
      "model_module_version": "1.2.0",
      "model_name": "LayoutModel",
      "state": {}
     },
     "38988571b93341e78ac62db633ee224f": {
      "model_module": "@jupyter-widgets/controls",
      "model_module_version": "1.5.0",
      "model_name": "ProgressStyleModel",
      "state": {
       "description_width": ""
      }
     },
     "38d01a142f5a4c699a1bf4ca518025e7": {
      "model_module": "@jupyter-widgets/base",
      "model_module_version": "1.2.0",
      "model_name": "LayoutModel",
      "state": {}
     },
     "39240854ed5247e6be6ee8a35331389b": {
      "model_module": "@jupyter-widgets/controls",
      "model_module_version": "1.5.0",
      "model_name": "DescriptionStyleModel",
      "state": {
       "description_width": ""
      }
     },
     "3930b5f0c9b347b8930f4181ebdf1ce2": {
      "model_module": "@jupyter-widgets/base",
      "model_module_version": "1.2.0",
      "model_name": "LayoutModel",
      "state": {}
     },
     "3988f04a98c84b87ab19f877ea3dd1df": {
      "model_module": "@jupyter-widgets/controls",
      "model_module_version": "1.5.0",
      "model_name": "DescriptionStyleModel",
      "state": {
       "description_width": ""
      }
     },
     "3a321a7a163e4de5a289c3649dca27a1": {
      "model_module": "@jupyter-widgets/controls",
      "model_module_version": "1.5.0",
      "model_name": "HTMLModel",
      "state": {
       "layout": "IPY_MODEL_fc81c65a6800462fb3c9bcb028a12b8d",
       "style": "IPY_MODEL_51bcdb32410c40469597d6ba36304378",
       "value": "100%"
      }
     },
     "3a349ccc418b4eb78bd7c51cbfc7bad9": {
      "model_module": "@jupyter-widgets/base",
      "model_module_version": "1.2.0",
      "model_name": "LayoutModel",
      "state": {}
     },
     "3a3e5809d5c24df4809e2279188285d4": {
      "model_module": "@jupyter-widgets/controls",
      "model_module_version": "1.5.0",
      "model_name": "HTMLModel",
      "state": {
       "layout": "IPY_MODEL_b1266e231fe4434a89a0bb260e1b6282",
       "style": "IPY_MODEL_0e569993965b40cfb9856c70994cbd9f",
       "value": " 5/5 [00:00&lt;00:00, 11.33it/s]"
      }
     },
     "3a9ca27fbcc74fdbb54885654f65d59b": {
      "model_module": "@jupyter-widgets/controls",
      "model_module_version": "1.5.0",
      "model_name": "DescriptionStyleModel",
      "state": {
       "description_width": ""
      }
     },
     "3ae957b88e7b448abe357c59a99f4f2f": {
      "model_module": "@jupyter-widgets/controls",
      "model_module_version": "1.5.0",
      "model_name": "DescriptionStyleModel",
      "state": {
       "description_width": ""
      }
     },
     "3aec42a745f946f7a930a5ee02e7c437": {
      "model_module": "@jupyter-widgets/controls",
      "model_module_version": "1.5.0",
      "model_name": "HTMLModel",
      "state": {
       "layout": "IPY_MODEL_17c83b1bdc004f1abb8ea14c2fbcb759",
       "style": "IPY_MODEL_3988f04a98c84b87ab19f877ea3dd1df",
       "value": " 5/5 [14:23&lt;00:00, 175.09s/it]"
      }
     },
     "3b0d96f4034a40a5a246adb95fca0d0c": {
      "model_module": "@jupyter-widgets/controls",
      "model_module_version": "1.5.0",
      "model_name": "HBoxModel",
      "state": {
       "children": [
        "IPY_MODEL_eb10276e59cb4ed397f69860480e396a",
        "IPY_MODEL_c1c2b8ccc65b470a8dac6341bb2481ff",
        "IPY_MODEL_e2ad86f7233d4c4595d433f0ff6bc94e"
       ],
       "layout": "IPY_MODEL_3678c7e4686f4f7981fae5eabaec980f"
      }
     },
     "3b86bf74b0a4407eb8e0ad84f343f090": {
      "model_module": "@jupyter-widgets/controls",
      "model_module_version": "1.5.0",
      "model_name": "ProgressStyleModel",
      "state": {
       "description_width": ""
      }
     },
     "3be59e1e52f349dba1349b168d75efd0": {
      "model_module": "@jupyter-widgets/controls",
      "model_module_version": "1.5.0",
      "model_name": "HTMLModel",
      "state": {
       "layout": "IPY_MODEL_c4d952069d3c4bd38783361427d32192",
       "style": "IPY_MODEL_5862f7b11bc44ddcb24e721d64e7149a",
       "value": "100%"
      }
     },
     "3c7e36eeeda44a2abd96c1a7caac37f7": {
      "model_module": "@jupyter-widgets/base",
      "model_module_version": "1.2.0",
      "model_name": "LayoutModel",
      "state": {}
     },
     "3ca2e2eafa7b4dbbaff116c0ae048f4c": {
      "model_module": "@jupyter-widgets/base",
      "model_module_version": "1.2.0",
      "model_name": "LayoutModel",
      "state": {}
     },
     "3caddafca0794ae0bc777a747597ab3b": {
      "model_module": "@jupyter-widgets/controls",
      "model_module_version": "1.5.0",
      "model_name": "ProgressStyleModel",
      "state": {
       "description_width": ""
      }
     },
     "3df7f9352618499892e63458f4ef2bb5": {
      "model_module": "@jupyter-widgets/controls",
      "model_module_version": "1.5.0",
      "model_name": "HTMLModel",
      "state": {
       "layout": "IPY_MODEL_bdffed28ed434ce2a6872a4ece53ddba",
       "style": "IPY_MODEL_51b37507f0e1410b86c25da08fc3021a",
       "value": "100%"
      }
     },
     "3dfd23c0f8cf41ed9e8669a6fb086cc5": {
      "model_module": "@jupyter-widgets/controls",
      "model_module_version": "1.5.0",
      "model_name": "ProgressStyleModel",
      "state": {
       "description_width": ""
      }
     },
     "3e83ad03eaec4004a7c692dee2531a19": {
      "model_module": "@jupyter-widgets/controls",
      "model_module_version": "1.5.0",
      "model_name": "HTMLModel",
      "state": {
       "layout": "IPY_MODEL_00c1efedfaa54bbfb1957d947e818976",
       "style": "IPY_MODEL_f832eda04c914eeeb2c0b9957033cf90",
       "value": " 5/5 [00:05&lt;00:00,  1.04s/it]"
      }
     },
     "3e8c077ac89146b2ac18b6710f75617d": {
      "model_module": "@jupyter-widgets/controls",
      "model_module_version": "1.5.0",
      "model_name": "FloatProgressModel",
      "state": {
       "bar_style": "success",
       "layout": "IPY_MODEL_2dcb2acc44484e24b291b61fe7eaa4fd",
       "max": 5,
       "style": "IPY_MODEL_b5ca0e960d054053a7eac5b4b1c9764f",
       "value": 5
      }
     },
     "3f11d61b3cfd4bb68a5c5354c45b1b28": {
      "model_module": "@jupyter-widgets/controls",
      "model_module_version": "1.5.0",
      "model_name": "ProgressStyleModel",
      "state": {
       "description_width": ""
      }
     },
     "3f177627c03f42f8bcc6700f3478b381": {
      "model_module": "@jupyter-widgets/base",
      "model_module_version": "1.2.0",
      "model_name": "LayoutModel",
      "state": {}
     },
     "3fa650b1dd95484db85569d23abce0f7": {
      "model_module": "@jupyter-widgets/base",
      "model_module_version": "1.2.0",
      "model_name": "LayoutModel",
      "state": {}
     },
     "3fc38d76c63b4a73958195274a88140b": {
      "model_module": "@jupyter-widgets/base",
      "model_module_version": "1.2.0",
      "model_name": "LayoutModel",
      "state": {}
     },
     "40fe8cbad7e044d8ae6b9390f7ee7aec": {
      "model_module": "@jupyter-widgets/controls",
      "model_module_version": "1.5.0",
      "model_name": "HTMLModel",
      "state": {
       "layout": "IPY_MODEL_737be602eb5a470eafb2972cc5e961bd",
       "style": "IPY_MODEL_bd577f794d844e1f848896c7c689d6eb",
       "value": " 0/5 [00:00&lt;?, ?it/s]"
      }
     },
     "412c1b6aa6314b7fbdcecc2f8823d188": {
      "model_module": "@jupyter-widgets/controls",
      "model_module_version": "1.5.0",
      "model_name": "DescriptionStyleModel",
      "state": {
       "description_width": ""
      }
     },
     "41b1a3f1fc834f7e832b2024dd9f47d4": {
      "model_module": "@jupyter-widgets/controls",
      "model_module_version": "1.5.0",
      "model_name": "HTMLModel",
      "state": {
       "layout": "IPY_MODEL_891ce506cb1e46188517a2324ac0bc30",
       "style": "IPY_MODEL_f1a58b8aa61041daae293a8d3f373c18",
       "value": " 5/5 [13:20&lt;00:00, 159.67s/it]"
      }
     },
     "41b5e9e3622a4501b9ab454dfdb3766d": {
      "model_module": "@jupyter-widgets/controls",
      "model_module_version": "1.5.0",
      "model_name": "DescriptionStyleModel",
      "state": {
       "description_width": ""
      }
     },
     "41f13d765c254e22b7871ca721b31867": {
      "model_module": "@jupyter-widgets/controls",
      "model_module_version": "1.5.0",
      "model_name": "DescriptionStyleModel",
      "state": {
       "description_width": ""
      }
     },
     "424da3d725cc4e30b4c2b06045242058": {
      "model_module": "@jupyter-widgets/base",
      "model_module_version": "1.2.0",
      "model_name": "LayoutModel",
      "state": {}
     },
     "425edef6f00045bfa08402af7d8c9bfc": {
      "model_module": "@jupyter-widgets/controls",
      "model_module_version": "1.5.0",
      "model_name": "FloatProgressModel",
      "state": {
       "bar_style": "success",
       "layout": "IPY_MODEL_0ce2b0956a8a453aaf14020c545216a0",
       "max": 5,
       "style": "IPY_MODEL_a0690abd5beb4231aa71017bbc0fdff5",
       "value": 5
      }
     },
     "42917b9bc47840c4819b5395a886bb97": {
      "model_module": "@jupyter-widgets/controls",
      "model_module_version": "1.5.0",
      "model_name": "DescriptionStyleModel",
      "state": {
       "description_width": ""
      }
     },
     "431eb41110da4baf9bdc36900ddb6d14": {
      "model_module": "@jupyter-widgets/base",
      "model_module_version": "1.2.0",
      "model_name": "LayoutModel",
      "state": {}
     },
     "438e4ab7f55b406a96cbcbb4748bba51": {
      "model_module": "@jupyter-widgets/controls",
      "model_module_version": "1.5.0",
      "model_name": "DescriptionStyleModel",
      "state": {
       "description_width": ""
      }
     },
     "439de40f4f9c43be90eaea72a8bd0d2c": {
      "model_module": "@jupyter-widgets/controls",
      "model_module_version": "1.5.0",
      "model_name": "HTMLModel",
      "state": {
       "layout": "IPY_MODEL_7502be5d249a4508814840fe7f9d6261",
       "style": "IPY_MODEL_e07fed876d754a8e9c7f149193b0f11f",
       "value": " 5/5 [00:04&lt;00:00,  1.11it/s]"
      }
     },
     "43bc12433dd240449e3de1661d2f2d98": {
      "model_module": "@jupyter-widgets/base",
      "model_module_version": "1.2.0",
      "model_name": "LayoutModel",
      "state": {}
     },
     "43ccc9d7e50c4844b0e9aece78aa9ec2": {
      "model_module": "@jupyter-widgets/controls",
      "model_module_version": "1.5.0",
      "model_name": "ProgressStyleModel",
      "state": {
       "description_width": ""
      }
     },
     "43e5e200622b482bbeeb2729fcf80c65": {
      "model_module": "@jupyter-widgets/controls",
      "model_module_version": "1.5.0",
      "model_name": "HTMLModel",
      "state": {
       "layout": "IPY_MODEL_f969f72793f44dffa1231a490e9882bc",
       "style": "IPY_MODEL_823d9ebe711e4156a40018c4a1ed9dd4",
       "value": "100%"
      }
     },
     "4464cb7aa3f34cfcb5d5a8eed4f33c29": {
      "model_module": "@jupyter-widgets/base",
      "model_module_version": "1.2.0",
      "model_name": "LayoutModel",
      "state": {}
     },
     "449084d2414d4144ab475a226479f026": {
      "model_module": "@jupyter-widgets/base",
      "model_module_version": "1.2.0",
      "model_name": "LayoutModel",
      "state": {}
     },
     "44e738be8ab54166a27dc660f1e007fd": {
      "model_module": "@jupyter-widgets/controls",
      "model_module_version": "1.5.0",
      "model_name": "HTMLModel",
      "state": {
       "layout": "IPY_MODEL_2ddd38bf80fb4a779294b3ffe33e972b",
       "style": "IPY_MODEL_85cbf3b4db8743a390c6f5ed90dabf68",
       "value": " 5/5 [00:05&lt;00:00,  1.12s/it]"
      }
     },
     "4503c7de1d53493a9fc654fe3fb2b84e": {
      "model_module": "@jupyter-widgets/controls",
      "model_module_version": "1.5.0",
      "model_name": "HTMLModel",
      "state": {
       "layout": "IPY_MODEL_fadab9a4bc1b49528c9daae633ca0418",
       "style": "IPY_MODEL_e108676250f64576a1d02baf5c3c86e2",
       "value": "100%"
      }
     },
     "4574ec61ffe84df0bc33886ddd04fd9f": {
      "model_module": "@jupyter-widgets/controls",
      "model_module_version": "1.5.0",
      "model_name": "HTMLModel",
      "state": {
       "layout": "IPY_MODEL_f19c9245e44d4a42a8d9eccea057e4fb",
       "style": "IPY_MODEL_b2d1b86c8c7a419dae3b155cfc5127fb",
       "value": " 5/5 [27:24&lt;00:00, 327.99s/it]"
      }
     },
     "45aa8b2988b94728ac1cf7ebcbfbdf59": {
      "model_module": "@jupyter-widgets/controls",
      "model_module_version": "1.5.0",
      "model_name": "ProgressStyleModel",
      "state": {
       "description_width": ""
      }
     },
     "45d690aae2b34aedb75d8bd40e6a4281": {
      "model_module": "@jupyter-widgets/controls",
      "model_module_version": "1.5.0",
      "model_name": "FloatProgressModel",
      "state": {
       "bar_style": "success",
       "layout": "IPY_MODEL_0ce600b31f0f4cfda7fa559862be76c5",
       "max": 5,
       "style": "IPY_MODEL_6032b8fc37364f12acb81b05a3b1619d",
       "value": 5
      }
     },
     "45eec7408bb244d790230e6bbf8ddb79": {
      "model_module": "@jupyter-widgets/controls",
      "model_module_version": "1.5.0",
      "model_name": "HTMLModel",
      "state": {
       "layout": "IPY_MODEL_f623d6d0216341b8a34ad72bd157eff3",
       "style": "IPY_MODEL_8e67c8a9ae994635b83a1a1c68369909",
       "value": "100%"
      }
     },
     "46364c7ec1ab4deca1d007f3ff30e545": {
      "model_module": "@jupyter-widgets/controls",
      "model_module_version": "1.5.0",
      "model_name": "HBoxModel",
      "state": {
       "children": [
        "IPY_MODEL_737a8f7985d541ef9de53cf7591b2890",
        "IPY_MODEL_ddb8d914c1f045a28054b0025140a4c7",
        "IPY_MODEL_4e84a39f7fbe415d95c80a109a8642c0"
       ],
       "layout": "IPY_MODEL_8e191a5a0c6f4625928a47e51ec52909"
      }
     },
     "4657519dcc1a4464bb6df78aa38c2179": {
      "model_module": "@jupyter-widgets/controls",
      "model_module_version": "1.5.0",
      "model_name": "DescriptionStyleModel",
      "state": {
       "description_width": ""
      }
     },
     "46f742cf5197464180c56cd4afe1dca9": {
      "model_module": "@jupyter-widgets/base",
      "model_module_version": "1.2.0",
      "model_name": "LayoutModel",
      "state": {}
     },
     "478040cc6b97457ba70243096b97799a": {
      "model_module": "@jupyter-widgets/base",
      "model_module_version": "1.2.0",
      "model_name": "LayoutModel",
      "state": {}
     },
     "47e889adf89e43a683465d24fdab160f": {
      "model_module": "@jupyter-widgets/controls",
      "model_module_version": "1.5.0",
      "model_name": "ProgressStyleModel",
      "state": {
       "description_width": ""
      }
     },
     "47eefa3b4c6a40febc44ef6f4d998318": {
      "model_module": "@jupyter-widgets/base",
      "model_module_version": "1.2.0",
      "model_name": "LayoutModel",
      "state": {}
     },
     "48089ff5d9e046298569159ecc9f0509": {
      "model_module": "@jupyter-widgets/controls",
      "model_module_version": "1.5.0",
      "model_name": "DescriptionStyleModel",
      "state": {
       "description_width": ""
      }
     },
     "4857015db0df4ef0b0022ff71a5323f5": {
      "model_module": "@jupyter-widgets/base",
      "model_module_version": "1.2.0",
      "model_name": "LayoutModel",
      "state": {}
     },
     "4891c0f7d3b548ae8a011fccd2aab8f2": {
      "model_module": "@jupyter-widgets/base",
      "model_module_version": "1.2.0",
      "model_name": "LayoutModel",
      "state": {}
     },
     "489b5f2186ad4f2fa160e3c667ec9dfc": {
      "model_module": "@jupyter-widgets/controls",
      "model_module_version": "1.5.0",
      "model_name": "HTMLModel",
      "state": {
       "layout": "IPY_MODEL_d595ad72bb504386ae248a92074b1fbb",
       "style": "IPY_MODEL_340014340b9246eca38f1b4c264903bc",
       "value": " 5/5 [00:04&lt;00:00,  1.07it/s]"
      }
     },
     "48a1cfb0859044ffba5958bb12bab1e2": {
      "model_module": "@jupyter-widgets/controls",
      "model_module_version": "1.5.0",
      "model_name": "DescriptionStyleModel",
      "state": {
       "description_width": ""
      }
     },
     "48b9422e95494358ad304d9d9bdf4988": {
      "model_module": "@jupyter-widgets/base",
      "model_module_version": "1.2.0",
      "model_name": "LayoutModel",
      "state": {}
     },
     "48d937405fba4315be1ee5b4613faa33": {
      "model_module": "@jupyter-widgets/base",
      "model_module_version": "1.2.0",
      "model_name": "LayoutModel",
      "state": {}
     },
     "48e5763aa1cd4165b8154e1ac28d5afe": {
      "model_module": "@jupyter-widgets/base",
      "model_module_version": "1.2.0",
      "model_name": "LayoutModel",
      "state": {}
     },
     "48f2a57a880440d0a2edebc2e78fd983": {
      "model_module": "@jupyter-widgets/base",
      "model_module_version": "1.2.0",
      "model_name": "LayoutModel",
      "state": {}
     },
     "490ab4ed6839418f9ac871469212ff14": {
      "model_module": "@jupyter-widgets/base",
      "model_module_version": "1.2.0",
      "model_name": "LayoutModel",
      "state": {}
     },
     "4924556cd098439781ff320da2de8ed9": {
      "model_module": "@jupyter-widgets/base",
      "model_module_version": "1.2.0",
      "model_name": "LayoutModel",
      "state": {}
     },
     "498bcdd06f9a45c69d4a12b62a0da366": {
      "model_module": "@jupyter-widgets/base",
      "model_module_version": "1.2.0",
      "model_name": "LayoutModel",
      "state": {}
     },
     "4a83efe63cf347268d799cf6c154542b": {
      "model_module": "@jupyter-widgets/base",
      "model_module_version": "1.2.0",
      "model_name": "LayoutModel",
      "state": {}
     },
     "4a8cc83bfff745babe068a798a7b71e8": {
      "model_module": "@jupyter-widgets/controls",
      "model_module_version": "1.5.0",
      "model_name": "DescriptionStyleModel",
      "state": {
       "description_width": ""
      }
     },
     "4aec33ee754442e78a1f0ef5b7bbf571": {
      "model_module": "@jupyter-widgets/base",
      "model_module_version": "1.2.0",
      "model_name": "LayoutModel",
      "state": {}
     },
     "4afab328669f4450b1726f56b2152c04": {
      "model_module": "@jupyter-widgets/controls",
      "model_module_version": "1.5.0",
      "model_name": "FloatProgressModel",
      "state": {
       "bar_style": "success",
       "layout": "IPY_MODEL_b764785d5b4142e3be993205af920e44",
       "max": 5,
       "style": "IPY_MODEL_d0e6f3acd3c345d6bedb514b89248179",
       "value": 5
      }
     },
     "4b052e0d6bf04428aae2756c01ad5650": {
      "model_module": "@jupyter-widgets/controls",
      "model_module_version": "1.5.0",
      "model_name": "HTMLModel",
      "state": {
       "layout": "IPY_MODEL_76bc97439d2f4c65b87236d29c2c4d97",
       "style": "IPY_MODEL_a92ffe7eab0747a19e05bdb3e8e6fb7b",
       "value": " 5/5 [08:36&lt;00:00, 103.30s/it]"
      }
     },
     "4b60dad80d424e20b9e55e1b6bfda378": {
      "model_module": "@jupyter-widgets/controls",
      "model_module_version": "1.5.0",
      "model_name": "HBoxModel",
      "state": {
       "children": [
        "IPY_MODEL_a6cd03ee1fb74489b6b2a812251707a5",
        "IPY_MODEL_e99fc0ea420f4c5fa8102c6072e70019",
        "IPY_MODEL_a89449dd9efc4df0b81100f378d844a0"
       ],
       "layout": "IPY_MODEL_e62206e2c0be4865b4817d70ca86c3c1"
      }
     },
     "4b804c46c34a489dbc86ec53faf1c0c6": {
      "model_module": "@jupyter-widgets/controls",
      "model_module_version": "1.5.0",
      "model_name": "DescriptionStyleModel",
      "state": {
       "description_width": ""
      }
     },
     "4bd2a7c3ace347d8877cfc33544de5be": {
      "model_module": "@jupyter-widgets/controls",
      "model_module_version": "1.5.0",
      "model_name": "HBoxModel",
      "state": {
       "children": [
        "IPY_MODEL_373802101bba4519a5cd7a7210e26c59",
        "IPY_MODEL_babe9a91009c4094a4f74fadda396a1a",
        "IPY_MODEL_ec4e1284c7844ba090b9af8b1f78c954"
       ],
       "layout": "IPY_MODEL_48e5763aa1cd4165b8154e1ac28d5afe"
      }
     },
     "4bd785af91c34bc58d77d819299530c5": {
      "model_module": "@jupyter-widgets/controls",
      "model_module_version": "1.5.0",
      "model_name": "FloatProgressModel",
      "state": {
       "bar_style": "success",
       "layout": "IPY_MODEL_175083ec7d7a404fa6ab3126e1d5a542",
       "max": 5,
       "style": "IPY_MODEL_def36e3ad93b4e69ad52589aa999ba38",
       "value": 5
      }
     },
     "4d023525c178493f8db80552963c9e00": {
      "model_module": "@jupyter-widgets/controls",
      "model_module_version": "1.5.0",
      "model_name": "HBoxModel",
      "state": {
       "children": [
        "IPY_MODEL_53ed598cfa2b42bd93df7c248082fb06",
        "IPY_MODEL_dfa0eae566654806881a333c25ad04f4",
        "IPY_MODEL_573fc4ac6c0c469d8099618980be6d1a"
       ],
       "layout": "IPY_MODEL_490ab4ed6839418f9ac871469212ff14"
      }
     },
     "4d67455dcadd4382a99c172bab9ca897": {
      "model_module": "@jupyter-widgets/controls",
      "model_module_version": "1.5.0",
      "model_name": "DescriptionStyleModel",
      "state": {
       "description_width": ""
      }
     },
     "4e266ad689fe476dbd616078ad0e6aa4": {
      "model_module": "@jupyter-widgets/controls",
      "model_module_version": "1.5.0",
      "model_name": "HTMLModel",
      "state": {
       "layout": "IPY_MODEL_c05e27e7b7744d9db2be2028757f05b9",
       "style": "IPY_MODEL_1b95fd8865214c55ae5037c57d535929",
       "value": "100%"
      }
     },
     "4e84a39f7fbe415d95c80a109a8642c0": {
      "model_module": "@jupyter-widgets/controls",
      "model_module_version": "1.5.0",
      "model_name": "HTMLModel",
      "state": {
       "layout": "IPY_MODEL_5e73b9f43b0b41539c36ae196284810a",
       "style": "IPY_MODEL_fee0e89774fb45019e131a64b8740361",
       "value": " 5/5 [00:13&lt;00:00,  2.76s/it]"
      }
     },
     "4e934c6a97e348cf993aad808bb974cc": {
      "model_module": "@jupyter-widgets/controls",
      "model_module_version": "1.5.0",
      "model_name": "DescriptionStyleModel",
      "state": {
       "description_width": ""
      }
     },
     "4eb6eb0b76164e8499c268904b8ab2eb": {
      "model_module": "@jupyter-widgets/base",
      "model_module_version": "1.2.0",
      "model_name": "LayoutModel",
      "state": {}
     },
     "4ebecb40ccbf455dbb7de51e754d149a": {
      "model_module": "@jupyter-widgets/controls",
      "model_module_version": "1.5.0",
      "model_name": "HTMLModel",
      "state": {
       "layout": "IPY_MODEL_688eb8a2a6854c7dadea9444f95f50ef",
       "style": "IPY_MODEL_8f990f83875946848db4948b434b43b2",
       "value": " 5/5 [00:00&lt;00:00, 27.08it/s]"
      }
     },
     "4ec03233d2324fcfa2b0dab0adf08fb3": {
      "model_module": "@jupyter-widgets/controls",
      "model_module_version": "1.5.0",
      "model_name": "DescriptionStyleModel",
      "state": {
       "description_width": ""
      }
     },
     "4f56f958afe24459baf218320c9e0530": {
      "model_module": "@jupyter-widgets/controls",
      "model_module_version": "1.5.0",
      "model_name": "DescriptionStyleModel",
      "state": {
       "description_width": ""
      }
     },
     "4fedacf05c8d4a64b0fe03721f5c1c44": {
      "model_module": "@jupyter-widgets/controls",
      "model_module_version": "1.5.0",
      "model_name": "FloatProgressModel",
      "state": {
       "bar_style": "success",
       "layout": "IPY_MODEL_10a2afa8850c47e18ce33ab87c2ec591",
       "max": 5,
       "style": "IPY_MODEL_2e2053fccaab4f4dae2296f199a3a636",
       "value": 5
      }
     },
     "501034aa83da48acab6bad439f8e32a2": {
      "model_module": "@jupyter-widgets/base",
      "model_module_version": "1.2.0",
      "model_name": "LayoutModel",
      "state": {}
     },
     "5085f72d33f14b8588c0ffc693f584c4": {
      "model_module": "@jupyter-widgets/base",
      "model_module_version": "1.2.0",
      "model_name": "LayoutModel",
      "state": {}
     },
     "50d7658196a342d7a9eba0e4736cf53c": {
      "model_module": "@jupyter-widgets/controls",
      "model_module_version": "1.5.0",
      "model_name": "HBoxModel",
      "state": {
       "children": [
        "IPY_MODEL_c9a1ceea8a6643099bee05d8f5a7e47a",
        "IPY_MODEL_77300182e4de472184d6489f694dc237",
        "IPY_MODEL_54af3c41258645ba9003f4404d28c639"
       ],
       "layout": "IPY_MODEL_21724994a8514f43bb8feb5cdb57281a"
      }
     },
     "50e95109f1d648f490cef3fc6ecf4519": {
      "model_module": "@jupyter-widgets/controls",
      "model_module_version": "1.5.0",
      "model_name": "HTMLModel",
      "state": {
       "layout": "IPY_MODEL_dec4d61450d740e5b1e8d92485ee668f",
       "style": "IPY_MODEL_35a8d1323f5e4ef49f1637fc33d976e5",
       "value": "100%"
      }
     },
     "5143524921864a539c138c2461ce537a": {
      "model_module": "@jupyter-widgets/controls",
      "model_module_version": "1.5.0",
      "model_name": "HTMLModel",
      "state": {
       "layout": "IPY_MODEL_70c06a7292c64517a977ee8620649eae",
       "style": "IPY_MODEL_9d530d085b534ec39c8828a33c84205d",
       "value": " 5/5 [13:13&lt;00:00, 158.24s/it]"
      }
     },
     "51b37507f0e1410b86c25da08fc3021a": {
      "model_module": "@jupyter-widgets/controls",
      "model_module_version": "1.5.0",
      "model_name": "DescriptionStyleModel",
      "state": {
       "description_width": ""
      }
     },
     "51b88a0e9c0246eca120e219f9d3b921": {
      "model_module": "@jupyter-widgets/base",
      "model_module_version": "1.2.0",
      "model_name": "LayoutModel",
      "state": {}
     },
     "51bcdb32410c40469597d6ba36304378": {
      "model_module": "@jupyter-widgets/controls",
      "model_module_version": "1.5.0",
      "model_name": "DescriptionStyleModel",
      "state": {
       "description_width": ""
      }
     },
     "52028b1518f443bda40e1d00828cd0ab": {
      "model_module": "@jupyter-widgets/base",
      "model_module_version": "1.2.0",
      "model_name": "LayoutModel",
      "state": {}
     },
     "5217d26bc40f4c33b3537268a96042f8": {
      "model_module": "@jupyter-widgets/controls",
      "model_module_version": "1.5.0",
      "model_name": "HTMLModel",
      "state": {
       "layout": "IPY_MODEL_0b2969d185a3435fb8826daeb2db1ecc",
       "style": "IPY_MODEL_18e7d4dcfaaf4e6c81c9798e54214ab4",
       "value": "100%"
      }
     },
     "523f520c636c4edd803e174fdc757ac5": {
      "model_module": "@jupyter-widgets/base",
      "model_module_version": "1.2.0",
      "model_name": "LayoutModel",
      "state": {}
     },
     "526aa1afc7e04f54b23d3f26bb296c0a": {
      "model_module": "@jupyter-widgets/base",
      "model_module_version": "1.2.0",
      "model_name": "LayoutModel",
      "state": {}
     },
     "52734ae0dc8d47a69cefc7f0923acb85": {
      "model_module": "@jupyter-widgets/controls",
      "model_module_version": "1.5.0",
      "model_name": "DescriptionStyleModel",
      "state": {
       "description_width": ""
      }
     },
     "529e9d14d6d54f1c904a2f7c82f47987": {
      "model_module": "@jupyter-widgets/controls",
      "model_module_version": "1.5.0",
      "model_name": "DescriptionStyleModel",
      "state": {
       "description_width": ""
      }
     },
     "53b95260a5a24d749f5253242b3c1441": {
      "model_module": "@jupyter-widgets/controls",
      "model_module_version": "1.5.0",
      "model_name": "ProgressStyleModel",
      "state": {
       "description_width": ""
      }
     },
     "53ed598cfa2b42bd93df7c248082fb06": {
      "model_module": "@jupyter-widgets/controls",
      "model_module_version": "1.5.0",
      "model_name": "HTMLModel",
      "state": {
       "layout": "IPY_MODEL_f3d5b199f0ed4b53b5fca0871f57dc56",
       "style": "IPY_MODEL_602433a9fb0745b0a252ae09b8ab4667",
       "value": "100%"
      }
     },
     "541d309ca7fb458384e358500a9f48ca": {
      "model_module": "@jupyter-widgets/base",
      "model_module_version": "1.2.0",
      "model_name": "LayoutModel",
      "state": {}
     },
     "547ef6aac4f24378a79c831799ce264b": {
      "model_module": "@jupyter-widgets/controls",
      "model_module_version": "1.5.0",
      "model_name": "DescriptionStyleModel",
      "state": {
       "description_width": ""
      }
     },
     "54af3c41258645ba9003f4404d28c639": {
      "model_module": "@jupyter-widgets/controls",
      "model_module_version": "1.5.0",
      "model_name": "HTMLModel",
      "state": {
       "layout": "IPY_MODEL_6f7107f1a18346148e86537c571a2bdc",
       "style": "IPY_MODEL_e6f48a1f6f27451ebbd7405fcc4d7c74",
       "value": " 5/5 [00:00&lt;00:00, 33.06it/s]"
      }
     },
     "54e65de09205426885fb6161ae4f4b78": {
      "model_module": "@jupyter-widgets/base",
      "model_module_version": "1.2.0",
      "model_name": "LayoutModel",
      "state": {}
     },
     "55214528b8aa4825bed88dbeea943cfe": {
      "model_module": "@jupyter-widgets/controls",
      "model_module_version": "1.5.0",
      "model_name": "DescriptionStyleModel",
      "state": {
       "description_width": ""
      }
     },
     "5527a41c48ac4b39b3dcf29f50a4c8d0": {
      "model_module": "@jupyter-widgets/base",
      "model_module_version": "1.2.0",
      "model_name": "LayoutModel",
      "state": {}
     },
     "555b4e08e0df47a3b85552038b97c713": {
      "model_module": "@jupyter-widgets/base",
      "model_module_version": "1.2.0",
      "model_name": "LayoutModel",
      "state": {}
     },
     "558db3f2f6ff4fa9b56603bb9cee9726": {
      "model_module": "@jupyter-widgets/controls",
      "model_module_version": "1.5.0",
      "model_name": "DescriptionStyleModel",
      "state": {
       "description_width": ""
      }
     },
     "565a8971fc544c74ac69dca3575be08f": {
      "model_module": "@jupyter-widgets/controls",
      "model_module_version": "1.5.0",
      "model_name": "HTMLModel",
      "state": {
       "layout": "IPY_MODEL_99c3a073ea1541fdb85da62a81cd2a86",
       "style": "IPY_MODEL_089b4800faf74815a31afd4db80ca698",
       "value": "100%"
      }
     },
     "568cfbfe8c244869942bcb847376a217": {
      "model_module": "@jupyter-widgets/base",
      "model_module_version": "1.2.0",
      "model_name": "LayoutModel",
      "state": {}
     },
     "569fc63b8ecc4ef4b9819bb73644af04": {
      "model_module": "@jupyter-widgets/controls",
      "model_module_version": "1.5.0",
      "model_name": "HBoxModel",
      "state": {
       "children": [
        "IPY_MODEL_726fb5c78d72421b865dd5c5b7609708",
        "IPY_MODEL_c38c40e4792b4f3cb816ee0b88980f31",
        "IPY_MODEL_44e738be8ab54166a27dc660f1e007fd"
       ],
       "layout": "IPY_MODEL_b9da2efffe1e4fb5956042246fcf3606"
      }
     },
     "573fc4ac6c0c469d8099618980be6d1a": {
      "model_module": "@jupyter-widgets/controls",
      "model_module_version": "1.5.0",
      "model_name": "HTMLModel",
      "state": {
       "layout": "IPY_MODEL_70f4221abf4a42a695b4aac553ac5205",
       "style": "IPY_MODEL_558db3f2f6ff4fa9b56603bb9cee9726",
       "value": " 5/5 [12:47&lt;00:00, 153.65s/it]"
      }
     },
     "5742452243e541cda7a456a7351ec58e": {
      "model_module": "@jupyter-widgets/controls",
      "model_module_version": "1.5.0",
      "model_name": "DescriptionStyleModel",
      "state": {
       "description_width": ""
      }
     },
     "57920876a01a46b09fc431512b4859db": {
      "model_module": "@jupyter-widgets/controls",
      "model_module_version": "1.5.0",
      "model_name": "DescriptionStyleModel",
      "state": {
       "description_width": ""
      }
     },
     "57c7042a4d094de9892bc50aaccae9d4": {
      "model_module": "@jupyter-widgets/base",
      "model_module_version": "1.2.0",
      "model_name": "LayoutModel",
      "state": {}
     },
     "5859c036b609415e902950e6c85acc69": {
      "model_module": "@jupyter-widgets/base",
      "model_module_version": "1.2.0",
      "model_name": "LayoutModel",
      "state": {}
     },
     "5862f7b11bc44ddcb24e721d64e7149a": {
      "model_module": "@jupyter-widgets/controls",
      "model_module_version": "1.5.0",
      "model_name": "DescriptionStyleModel",
      "state": {
       "description_width": ""
      }
     },
     "588ff6addd604a959488db5ace539027": {
      "model_module": "@jupyter-widgets/controls",
      "model_module_version": "1.5.0",
      "model_name": "FloatProgressModel",
      "state": {
       "bar_style": "success",
       "layout": "IPY_MODEL_d6346b1257fd4ffcb3ba5a63aff40dd9",
       "max": 5,
       "style": "IPY_MODEL_d6f3ba577d634ec784071cdde37aeb4d",
       "value": 5
      }
     },
     "597084808fe14dc0b8ed27b9010df776": {
      "model_module": "@jupyter-widgets/base",
      "model_module_version": "1.2.0",
      "model_name": "LayoutModel",
      "state": {}
     },
     "598ec0792d564e8ab7abf0f4038ee2e5": {
      "model_module": "@jupyter-widgets/controls",
      "model_module_version": "1.5.0",
      "model_name": "HTMLModel",
      "state": {
       "layout": "IPY_MODEL_2542610879ac40198d378a624e1e0e8c",
       "style": "IPY_MODEL_f83e2488559248809e501c022470cb2a",
       "value": " 5/5 [00:11&lt;00:00,  2.31s/it]"
      }
     },
     "59b7cbf774dd4ebfa6b2f48b89cee696": {
      "model_module": "@jupyter-widgets/controls",
      "model_module_version": "1.5.0",
      "model_name": "HTMLModel",
      "state": {
       "layout": "IPY_MODEL_38d01a142f5a4c699a1bf4ca518025e7",
       "style": "IPY_MODEL_830b1d2dca6d4e98b5ff0012a7cc77ab",
       "value": "100%"
      }
     },
     "59bbb68b750648ddbc6c2e35c6cc8173": {
      "model_module": "@jupyter-widgets/controls",
      "model_module_version": "1.5.0",
      "model_name": "ProgressStyleModel",
      "state": {
       "description_width": ""
      }
     },
     "5a86562a903e40f19b5a1a533613cf5d": {
      "model_module": "@jupyter-widgets/controls",
      "model_module_version": "1.5.0",
      "model_name": "HTMLModel",
      "state": {
       "layout": "IPY_MODEL_431eb41110da4baf9bdc36900ddb6d14",
       "style": "IPY_MODEL_de6f4b171a0e4174930ddacde8179bc3",
       "value": " 5/5 [00:04&lt;00:00,  1.08it/s]"
      }
     },
     "5aac884fd06349c0b3e3995be349dcd7": {
      "model_module": "@jupyter-widgets/controls",
      "model_module_version": "1.5.0",
      "model_name": "HTMLModel",
      "state": {
       "layout": "IPY_MODEL_27f08c462a5d4c1fbd0715f01dab69de",
       "style": "IPY_MODEL_ae0194dc7aa5433a9efab2af2f867890",
       "value": " 5/5 [00:12&lt;00:00,  2.44s/it]"
      }
     },
     "5b13c2b85a3f4e8a9691604f26820b5e": {
      "model_module": "@jupyter-widgets/base",
      "model_module_version": "1.2.0",
      "model_name": "LayoutModel",
      "state": {}
     },
     "5b2c5cdcc62b4b17b278eb7b22d99c27": {
      "model_module": "@jupyter-widgets/base",
      "model_module_version": "1.2.0",
      "model_name": "LayoutModel",
      "state": {}
     },
     "5b39c56cb2034e458d4d768420223ad4": {
      "model_module": "@jupyter-widgets/controls",
      "model_module_version": "1.5.0",
      "model_name": "HBoxModel",
      "state": {
       "children": [
        "IPY_MODEL_fdaf6526578748798d1d7dbe587ca447",
        "IPY_MODEL_bf4be582edae43e78fa8be31efc276f0",
        "IPY_MODEL_83d7d379fa6648b59caa24657763aebc"
       ],
       "layout": "IPY_MODEL_5c9a3b33391e4be0a636dd8c99d35bc5"
      }
     },
     "5b993687dd634720bcefdad738896d23": {
      "model_module": "@jupyter-widgets/controls",
      "model_module_version": "1.5.0",
      "model_name": "FloatProgressModel",
      "state": {
       "bar_style": "success",
       "layout": "IPY_MODEL_33b8d5c28f184e8b95846046925316f9",
       "max": 5,
       "style": "IPY_MODEL_2aa2f2b25a1849679cf55dcbb2956d57",
       "value": 5
      }
     },
     "5c9a3b33391e4be0a636dd8c99d35bc5": {
      "model_module": "@jupyter-widgets/base",
      "model_module_version": "1.2.0",
      "model_name": "LayoutModel",
      "state": {}
     },
     "5ccb46e46041420f8d75fc24f9121e2a": {
      "model_module": "@jupyter-widgets/base",
      "model_module_version": "1.2.0",
      "model_name": "LayoutModel",
      "state": {}
     },
     "5cdbb5fed3da4e3a8b2984b658fc902a": {
      "model_module": "@jupyter-widgets/controls",
      "model_module_version": "1.5.0",
      "model_name": "HTMLModel",
      "state": {
       "layout": "IPY_MODEL_93c98f4b077c4bfaad6359f81aa2df8d",
       "style": "IPY_MODEL_f9911eedaae04c9da89e1ac13277ec5f",
       "value": "100%"
      }
     },
     "5d1ef6faa9ab48658a7f2cf48bff98d8": {
      "model_module": "@jupyter-widgets/controls",
      "model_module_version": "1.5.0",
      "model_name": "HBoxModel",
      "state": {
       "children": [
        "IPY_MODEL_2b2e77dfd7594b5da6e03cd7a7bac618",
        "IPY_MODEL_75a6e59e51c1411cb805970117803a52",
        "IPY_MODEL_850724a6b8cf43a0bc78b09def1e1f5b"
       ],
       "layout": "IPY_MODEL_e9341163ac9b4bc19a5a387135811b1d"
      }
     },
     "5e238c159cbc49baacc37fa5e7f90a0a": {
      "model_module": "@jupyter-widgets/controls",
      "model_module_version": "1.5.0",
      "model_name": "HTMLModel",
      "state": {
       "layout": "IPY_MODEL_f5c2803178934eee9cd69611199e6e97",
       "style": "IPY_MODEL_a9bda66fb87b40a28753e328b91c7693",
       "value": "100%"
      }
     },
     "5e73b9f43b0b41539c36ae196284810a": {
      "model_module": "@jupyter-widgets/base",
      "model_module_version": "1.2.0",
      "model_name": "LayoutModel",
      "state": {}
     },
     "5efc6e3d41c8409a88c88878471ad4c6": {
      "model_module": "@jupyter-widgets/controls",
      "model_module_version": "1.5.0",
      "model_name": "HTMLModel",
      "state": {
       "layout": "IPY_MODEL_1b507388ae4348c5b84b9e137464d8ee",
       "style": "IPY_MODEL_d86ed52a2759401782002be8a05af664",
       "value": " 5/5 [12:36&lt;00:00, 151.36s/it]"
      }
     },
     "5fa81a70049540079aacdeac4db12f74": {
      "model_module": "@jupyter-widgets/controls",
      "model_module_version": "1.5.0",
      "model_name": "HBoxModel",
      "state": {
       "children": [
        "IPY_MODEL_f1a5b342c2c943b99dc08ab474489236",
        "IPY_MODEL_9d36716e23274b16ae463f121694e3fc",
        "IPY_MODEL_a091b8d79dec4051a1fd1841e92f4bd6"
       ],
       "layout": "IPY_MODEL_f28a16da020f4843a3d42a0479a7ac0b"
      }
     },
     "5fc208fba62149afab2240d325df1ddd": {
      "model_module": "@jupyter-widgets/base",
      "model_module_version": "1.2.0",
      "model_name": "LayoutModel",
      "state": {}
     },
     "5ff9f249f3c84c1a937c15a5bc9b5e9d": {
      "model_module": "@jupyter-widgets/controls",
      "model_module_version": "1.5.0",
      "model_name": "FloatProgressModel",
      "state": {
       "bar_style": "success",
       "layout": "IPY_MODEL_2bf9536c0ce243c59942fe730bda866c",
       "max": 5,
       "style": "IPY_MODEL_36b398cfaa2c4aacaf6a48e3d542f225",
       "value": 5
      }
     },
     "6007ca8bd30e424f9b200ee22fdc4538": {
      "model_module": "@jupyter-widgets/controls",
      "model_module_version": "1.5.0",
      "model_name": "HTMLModel",
      "state": {
       "layout": "IPY_MODEL_0ef71d51e8c64b99a920b220d7656db8",
       "style": "IPY_MODEL_2afd348098e14feda6f9e21f148c9f3c",
       "value": "100%"
      }
     },
     "602433a9fb0745b0a252ae09b8ab4667": {
      "model_module": "@jupyter-widgets/controls",
      "model_module_version": "1.5.0",
      "model_name": "DescriptionStyleModel",
      "state": {
       "description_width": ""
      }
     },
     "6032b8fc37364f12acb81b05a3b1619d": {
      "model_module": "@jupyter-widgets/controls",
      "model_module_version": "1.5.0",
      "model_name": "ProgressStyleModel",
      "state": {
       "description_width": ""
      }
     },
     "6055c74dab434f119c1b707044027e15": {
      "model_module": "@jupyter-widgets/controls",
      "model_module_version": "1.5.0",
      "model_name": "ProgressStyleModel",
      "state": {
       "description_width": ""
      }
     },
     "60a2233e3b2844cba4462fd1375caa85": {
      "model_module": "@jupyter-widgets/controls",
      "model_module_version": "1.5.0",
      "model_name": "FloatProgressModel",
      "state": {
       "bar_style": "success",
       "layout": "IPY_MODEL_10b760be2a044de288aed9a60ec99450",
       "max": 5,
       "style": "IPY_MODEL_16ef15fb9fa44b669dd3ffdd6c8fbe9f",
       "value": 5
      }
     },
     "60faade4a1744eb5ab257a1f10804da2": {
      "model_module": "@jupyter-widgets/controls",
      "model_module_version": "1.5.0",
      "model_name": "HBoxModel",
      "state": {
       "children": [
        "IPY_MODEL_20d239ae4c8045f3b96f48408310d381",
        "IPY_MODEL_60a2233e3b2844cba4462fd1375caa85",
        "IPY_MODEL_6578258231454644bdb8683ecf586595"
       ],
       "layout": "IPY_MODEL_f8df7b6ff35d4da5a651aef911c30ec3"
      }
     },
     "60fee1f4d8ff453eb8cac85b732b74fd": {
      "model_module": "@jupyter-widgets/base",
      "model_module_version": "1.2.0",
      "model_name": "LayoutModel",
      "state": {}
     },
     "61ad06420cd64eb2b8860fe1f4df45fa": {
      "model_module": "@jupyter-widgets/controls",
      "model_module_version": "1.5.0",
      "model_name": "HBoxModel",
      "state": {
       "children": [
        "IPY_MODEL_2f00287377534290bdb1cc210457d511",
        "IPY_MODEL_4fedacf05c8d4a64b0fe03721f5c1c44",
        "IPY_MODEL_bdf11e701ae640758349df1dd9ac7494"
       ],
       "layout": "IPY_MODEL_12dd307bed5b46de93fc2edce295afb6"
      }
     },
     "61fc70c47f624a9aabe7bdff023a994f": {
      "model_module": "@jupyter-widgets/controls",
      "model_module_version": "1.5.0",
      "model_name": "HTMLModel",
      "state": {
       "layout": "IPY_MODEL_4a83efe63cf347268d799cf6c154542b",
       "style": "IPY_MODEL_0012760bab1f492691d653f41ec9d746",
       "value": " 5/5 [13:35&lt;00:00, 162.79s/it]"
      }
     },
     "62160bfc819741f38bec88d9fee81198": {
      "model_module": "@jupyter-widgets/base",
      "model_module_version": "1.2.0",
      "model_name": "LayoutModel",
      "state": {}
     },
     "621d10227b7a4caea1af1b7f5c74f8d5": {
      "model_module": "@jupyter-widgets/controls",
      "model_module_version": "1.5.0",
      "model_name": "HTMLModel",
      "state": {
       "layout": "IPY_MODEL_4aec33ee754442e78a1f0ef5b7bbf571",
       "style": "IPY_MODEL_880e75380a2c40d9b6e81ca408bad573",
       "value": " 5/5 [00:05&lt;00:00,  1.13s/it]"
      }
     },
     "629195f536fb4a2fa76b3c2016e2f021": {
      "model_module": "@jupyter-widgets/controls",
      "model_module_version": "1.5.0",
      "model_name": "DescriptionStyleModel",
      "state": {
       "description_width": ""
      }
     },
     "629a35cc525746b897102a585ca7e4ac": {
      "model_module": "@jupyter-widgets/base",
      "model_module_version": "1.2.0",
      "model_name": "LayoutModel",
      "state": {}
     },
     "62e6770e46fc4e42aebaee3df2d74014": {
      "model_module": "@jupyter-widgets/controls",
      "model_module_version": "1.5.0",
      "model_name": "DescriptionStyleModel",
      "state": {
       "description_width": ""
      }
     },
     "62e964d660944e3c91b8da817fe96219": {
      "model_module": "@jupyter-widgets/base",
      "model_module_version": "1.2.0",
      "model_name": "LayoutModel",
      "state": {}
     },
     "630a701c557b44808b88054b94e67a89": {
      "model_module": "@jupyter-widgets/controls",
      "model_module_version": "1.5.0",
      "model_name": "ProgressStyleModel",
      "state": {
       "description_width": ""
      }
     },
     "634be68983b44aeeac64d33b541478ca": {
      "model_module": "@jupyter-widgets/base",
      "model_module_version": "1.2.0",
      "model_name": "LayoutModel",
      "state": {}
     },
     "638547b326bf4c2baa8a4d2b7b1c0555": {
      "model_module": "@jupyter-widgets/controls",
      "model_module_version": "1.5.0",
      "model_name": "HBoxModel",
      "state": {
       "children": [
        "IPY_MODEL_0eddddd536674f559550df07678cd5c6",
        "IPY_MODEL_a99d27962a194aa1bc61ba626dee701d",
        "IPY_MODEL_a3b6baf4da4c4d26b68b47fb53b1d935"
       ],
       "layout": "IPY_MODEL_e165029318b94599be46b1efbea38d42"
      }
     },
     "639b2f110a5b44c1bfd37011bc95f7ec": {
      "model_module": "@jupyter-widgets/controls",
      "model_module_version": "1.5.0",
      "model_name": "ProgressStyleModel",
      "state": {
       "description_width": ""
      }
     },
     "63ee5a75f9824f2b94aa4c6c765e6b5d": {
      "model_module": "@jupyter-widgets/controls",
      "model_module_version": "1.5.0",
      "model_name": "HTMLModel",
      "state": {
       "layout": "IPY_MODEL_176060c56490480db2f0664704da89df",
       "style": "IPY_MODEL_878583eba69746b880f1a01c0ff40685",
       "value": " 5/5 [00:05&lt;00:00,  1.14s/it]"
      }
     },
     "648fcf7fe303457ea38266e90b7ac522": {
      "model_module": "@jupyter-widgets/base",
      "model_module_version": "1.2.0",
      "model_name": "LayoutModel",
      "state": {}
     },
     "64a8d87faecf4eb7b97100111605c875": {
      "model_module": "@jupyter-widgets/base",
      "model_module_version": "1.2.0",
      "model_name": "LayoutModel",
      "state": {}
     },
     "64ed98ef1dd14dc5babd83576dfc36ea": {
      "model_module": "@jupyter-widgets/base",
      "model_module_version": "1.2.0",
      "model_name": "LayoutModel",
      "state": {}
     },
     "656b9e5413d14f42a015689d8756f284": {
      "model_module": "@jupyter-widgets/controls",
      "model_module_version": "1.5.0",
      "model_name": "ProgressStyleModel",
      "state": {
       "description_width": ""
      }
     },
     "6578258231454644bdb8683ecf586595": {
      "model_module": "@jupyter-widgets/controls",
      "model_module_version": "1.5.0",
      "model_name": "HTMLModel",
      "state": {
       "layout": "IPY_MODEL_555b4e08e0df47a3b85552038b97c713",
       "style": "IPY_MODEL_1c42d9ffcde54a1eaf7e61f16e5e0a77",
       "value": " 5/5 [13:09&lt;00:00, 157.67s/it]"
      }
     },
     "6589de2570cc4373ae89f04a1265b4b2": {
      "model_module": "@jupyter-widgets/base",
      "model_module_version": "1.2.0",
      "model_name": "LayoutModel",
      "state": {}
     },
     "65c62979ddfd49ad9f31693c4ba87a45": {
      "model_module": "@jupyter-widgets/base",
      "model_module_version": "1.2.0",
      "model_name": "LayoutModel",
      "state": {}
     },
     "65d0f565a7b340bf86942b762420c635": {
      "model_module": "@jupyter-widgets/base",
      "model_module_version": "1.2.0",
      "model_name": "LayoutModel",
      "state": {}
     },
     "6615921822854302803b9f6192a15513": {
      "model_module": "@jupyter-widgets/controls",
      "model_module_version": "1.5.0",
      "model_name": "HBoxModel",
      "state": {
       "children": [
        "IPY_MODEL_f57549b498854696a45f1cd79efbbabf",
        "IPY_MODEL_5b993687dd634720bcefdad738896d23",
        "IPY_MODEL_a9bbd2b9fa034a9c836acbab86128ed9"
       ],
       "layout": "IPY_MODEL_adb620850aea49fdaefcd30de0f38317"
      }
     },
     "664dbc64547c435b8675368301a3037d": {
      "model_module": "@jupyter-widgets/controls",
      "model_module_version": "1.5.0",
      "model_name": "ProgressStyleModel",
      "state": {
       "description_width": ""
      }
     },
     "67161816629c47448f1b073f7096f6cd": {
      "model_module": "@jupyter-widgets/controls",
      "model_module_version": "1.5.0",
      "model_name": "FloatProgressModel",
      "state": {
       "bar_style": "success",
       "layout": "IPY_MODEL_d9991ac8d507456ab8a91be7e82956a5",
       "max": 5,
       "style": "IPY_MODEL_47e889adf89e43a683465d24fdab160f",
       "value": 5
      }
     },
     "678925c9f1984651b3375f47d762f6f7": {
      "model_module": "@jupyter-widgets/controls",
      "model_module_version": "1.5.0",
      "model_name": "DescriptionStyleModel",
      "state": {
       "description_width": ""
      }
     },
     "68706ceaa76d4340bcb60983b146ed34": {
      "model_module": "@jupyter-widgets/controls",
      "model_module_version": "1.5.0",
      "model_name": "DescriptionStyleModel",
      "state": {
       "description_width": ""
      }
     },
     "688eb8a2a6854c7dadea9444f95f50ef": {
      "model_module": "@jupyter-widgets/base",
      "model_module_version": "1.2.0",
      "model_name": "LayoutModel",
      "state": {}
     },
     "69399af545ab4d25865419ed6756e35a": {
      "model_module": "@jupyter-widgets/controls",
      "model_module_version": "1.5.0",
      "model_name": "HTMLModel",
      "state": {
       "layout": "IPY_MODEL_75a1fcd581d542aa8e8ecdc55f7f87b6",
       "style": "IPY_MODEL_2c310f6e52c44d0cb86e4c111ffb1de7",
       "value": " 5/5 [00:12&lt;00:00,  2.45s/it]"
      }
     },
     "694add9764d341119e4da7663bcdefe4": {
      "model_module": "@jupyter-widgets/controls",
      "model_module_version": "1.5.0",
      "model_name": "HTMLModel",
      "state": {
       "layout": "IPY_MODEL_dd4f6bab76dd4c5a909a160cd8ede7a3",
       "style": "IPY_MODEL_eaa63196b359413e84d23e7ea2f07511",
       "value": " 5/5 [00:04&lt;00:00,  1.04it/s]"
      }
     },
     "6a6699bc3e3846f48c2419bc14dcb300": {
      "model_module": "@jupyter-widgets/controls",
      "model_module_version": "1.5.0",
      "model_name": "ProgressStyleModel",
      "state": {
       "description_width": ""
      }
     },
     "6a6e1316020643bca8cb81a0c8d34ac8": {
      "model_module": "@jupyter-widgets/controls",
      "model_module_version": "1.5.0",
      "model_name": "HTMLModel",
      "state": {
       "layout": "IPY_MODEL_5859c036b609415e902950e6c85acc69",
       "style": "IPY_MODEL_e2e149a6d54e45f5a94ea47b689c20d7",
       "value": "100%"
      }
     },
     "6b93e026d3b44972880dd029512e8767": {
      "model_module": "@jupyter-widgets/controls",
      "model_module_version": "1.5.0",
      "model_name": "HBoxModel",
      "state": {
       "children": [
        "IPY_MODEL_2d0886c3ff5c4846bcd64683f5aa0140",
        "IPY_MODEL_2e0fa0ff2de74b048d01738f849353f6",
        "IPY_MODEL_de611a565bf742a699e834cd6835128e"
       ],
       "layout": "IPY_MODEL_5085f72d33f14b8588c0ffc693f584c4"
      }
     },
     "6e1efb5f27f544e09bb40da44f0963a5": {
      "model_module": "@jupyter-widgets/base",
      "model_module_version": "1.2.0",
      "model_name": "LayoutModel",
      "state": {}
     },
     "6e7b0652f2e248f3978637e8384329a2": {
      "model_module": "@jupyter-widgets/controls",
      "model_module_version": "1.5.0",
      "model_name": "HTMLModel",
      "state": {
       "layout": "IPY_MODEL_ce5189961d6347abb222b8d730e6f076",
       "style": "IPY_MODEL_74f66627dff64aca942543be399a0270",
       "value": "100%"
      }
     },
     "6ea1227f1cd24133bb68aa28ee6048b8": {
      "model_module": "@jupyter-widgets/base",
      "model_module_version": "1.2.0",
      "model_name": "LayoutModel",
      "state": {}
     },
     "6edbe7de63014877a5a212ebb3c3eda8": {
      "model_module": "@jupyter-widgets/base",
      "model_module_version": "1.2.0",
      "model_name": "LayoutModel",
      "state": {}
     },
     "6f3038e8b93943beb776858988d96f4a": {
      "model_module": "@jupyter-widgets/controls",
      "model_module_version": "1.5.0",
      "model_name": "FloatProgressModel",
      "state": {
       "bar_style": "success",
       "layout": "IPY_MODEL_a11ae57ca8db4df2bc8ef9f1b274b7d7",
       "max": 5,
       "style": "IPY_MODEL_13401458ad2a4844bf605acb03c6154f",
       "value": 5
      }
     },
     "6f7107f1a18346148e86537c571a2bdc": {
      "model_module": "@jupyter-widgets/base",
      "model_module_version": "1.2.0",
      "model_name": "LayoutModel",
      "state": {}
     },
     "6fde8e3deec849fdbdd04ee091befb99": {
      "model_module": "@jupyter-widgets/base",
      "model_module_version": "1.2.0",
      "model_name": "LayoutModel",
      "state": {}
     },
     "707f710c31814754be37de38e6bdf951": {
      "model_module": "@jupyter-widgets/base",
      "model_module_version": "1.2.0",
      "model_name": "LayoutModel",
      "state": {}
     },
     "70c06a7292c64517a977ee8620649eae": {
      "model_module": "@jupyter-widgets/base",
      "model_module_version": "1.2.0",
      "model_name": "LayoutModel",
      "state": {}
     },
     "70f4221abf4a42a695b4aac553ac5205": {
      "model_module": "@jupyter-widgets/base",
      "model_module_version": "1.2.0",
      "model_name": "LayoutModel",
      "state": {}
     },
     "714cfbce50da41b7b321bb8f3d563c29": {
      "model_module": "@jupyter-widgets/controls",
      "model_module_version": "1.5.0",
      "model_name": "ProgressStyleModel",
      "state": {
       "description_width": ""
      }
     },
     "71786d959a35409bb9a36c5825bd86ec": {
      "model_module": "@jupyter-widgets/base",
      "model_module_version": "1.2.0",
      "model_name": "LayoutModel",
      "state": {}
     },
     "7198e96a9f1048e3a5e24ca310eb6504": {
      "model_module": "@jupyter-widgets/base",
      "model_module_version": "1.2.0",
      "model_name": "LayoutModel",
      "state": {}
     },
     "72069373307944bc9f926b8842608cec": {
      "model_module": "@jupyter-widgets/controls",
      "model_module_version": "1.5.0",
      "model_name": "HBoxModel",
      "state": {
       "children": [
        "IPY_MODEL_4e266ad689fe476dbd616078ad0e6aa4",
        "IPY_MODEL_8d1fc086ddcc42be923a35d6fbe97c81",
        "IPY_MODEL_34117e354c804b7197f126d1af08b597"
       ],
       "layout": "IPY_MODEL_51b88a0e9c0246eca120e219f9d3b921"
      }
     },
     "726fb5c78d72421b865dd5c5b7609708": {
      "model_module": "@jupyter-widgets/controls",
      "model_module_version": "1.5.0",
      "model_name": "HTMLModel",
      "state": {
       "layout": "IPY_MODEL_3a349ccc418b4eb78bd7c51cbfc7bad9",
       "style": "IPY_MODEL_db2a37c4b1ea4acd853de2bcab896465",
       "value": "100%"
      }
     },
     "72f8a2a5ea8641f7b15484438a4e7644": {
      "model_module": "@jupyter-widgets/controls",
      "model_module_version": "1.5.0",
      "model_name": "HBoxModel",
      "state": {
       "children": [
        "IPY_MODEL_b54075bfc8b04707a37caf0adfd2ba53",
        "IPY_MODEL_dbbd41ecb1b2451091ce233783df1f06",
        "IPY_MODEL_e29e123ea35b4287a8c264fccf596638"
       ],
       "layout": "IPY_MODEL_7417c4733a404574923ffb474f24c2b8"
      }
     },
     "732de88bc76542048c00a8add8c5ac8e": {
      "model_module": "@jupyter-widgets/controls",
      "model_module_version": "1.5.0",
      "model_name": "FloatProgressModel",
      "state": {
       "bar_style": "success",
       "layout": "IPY_MODEL_b4dbf3157e1a45fda5e9da35e3068493",
       "max": 5,
       "style": "IPY_MODEL_30bc7cfc124c436789252ced6cc060a6",
       "value": 5
      }
     },
     "737a8f7985d541ef9de53cf7591b2890": {
      "model_module": "@jupyter-widgets/controls",
      "model_module_version": "1.5.0",
      "model_name": "HTMLModel",
      "state": {
       "layout": "IPY_MODEL_46f742cf5197464180c56cd4afe1dca9",
       "style": "IPY_MODEL_b7756e23a9aa4bae97dceb646c06c315",
       "value": "100%"
      }
     },
     "737be602eb5a470eafb2972cc5e961bd": {
      "model_module": "@jupyter-widgets/base",
      "model_module_version": "1.2.0",
      "model_name": "LayoutModel",
      "state": {}
     },
     "7390194be9484235be5a8439b8096781": {
      "model_module": "@jupyter-widgets/controls",
      "model_module_version": "1.5.0",
      "model_name": "FloatProgressModel",
      "state": {
       "bar_style": "success",
       "layout": "IPY_MODEL_0b4e783bd8324b289b2fdbda2404e098",
       "max": 5,
       "style": "IPY_MODEL_2da12d9601d543d4ae8693ad6e1b8013",
       "value": 5
      }
     },
     "7417c4733a404574923ffb474f24c2b8": {
      "model_module": "@jupyter-widgets/base",
      "model_module_version": "1.2.0",
      "model_name": "LayoutModel",
      "state": {}
     },
     "74a52640153747f88bfb0f1aa92edecf": {
      "model_module": "@jupyter-widgets/base",
      "model_module_version": "1.2.0",
      "model_name": "LayoutModel",
      "state": {}
     },
     "74d11a0f03f34f46b44f36cfc6609599": {
      "model_module": "@jupyter-widgets/controls",
      "model_module_version": "1.5.0",
      "model_name": "HBoxModel",
      "state": {
       "children": [
        "IPY_MODEL_a799294d03e74613944117a98448d23e",
        "IPY_MODEL_8000f184ab9940389b37b188a742f83f",
        "IPY_MODEL_cb5f54146ce042609805a8c6ff397d4e"
       ],
       "layout": "IPY_MODEL_da208d14d40a4c909bda8937ffe84202"
      }
     },
     "74f66627dff64aca942543be399a0270": {
      "model_module": "@jupyter-widgets/controls",
      "model_module_version": "1.5.0",
      "model_name": "DescriptionStyleModel",
      "state": {
       "description_width": ""
      }
     },
     "7502be5d249a4508814840fe7f9d6261": {
      "model_module": "@jupyter-widgets/base",
      "model_module_version": "1.2.0",
      "model_name": "LayoutModel",
      "state": {}
     },
     "757536d3f3b9469ead0ee544699d4db0": {
      "model_module": "@jupyter-widgets/controls",
      "model_module_version": "1.5.0",
      "model_name": "FloatProgressModel",
      "state": {
       "bar_style": "success",
       "layout": "IPY_MODEL_57c7042a4d094de9892bc50aaccae9d4",
       "max": 5,
       "style": "IPY_MODEL_0bb4253250ed434d94761c9b08b95305",
       "value": 5
      }
     },
     "75a1fcd581d542aa8e8ecdc55f7f87b6": {
      "model_module": "@jupyter-widgets/base",
      "model_module_version": "1.2.0",
      "model_name": "LayoutModel",
      "state": {}
     },
     "75a6e59e51c1411cb805970117803a52": {
      "model_module": "@jupyter-widgets/controls",
      "model_module_version": "1.5.0",
      "model_name": "FloatProgressModel",
      "state": {
       "bar_style": "success",
       "layout": "IPY_MODEL_0025f0a996e04dbf91b279b5b472b22b",
       "max": 5,
       "style": "IPY_MODEL_45aa8b2988b94728ac1cf7ebcbfbdf59",
       "value": 5
      }
     },
     "75e55b13c1b04f6b81a4c6710046b5ec": {
      "model_module": "@jupyter-widgets/base",
      "model_module_version": "1.2.0",
      "model_name": "LayoutModel",
      "state": {}
     },
     "75fb12c294cf424db33f6c3089432d6e": {
      "model_module": "@jupyter-widgets/controls",
      "model_module_version": "1.5.0",
      "model_name": "DescriptionStyleModel",
      "state": {
       "description_width": ""
      }
     },
     "760b04fbcb724b44be1932876de8a705": {
      "model_module": "@jupyter-widgets/controls",
      "model_module_version": "1.5.0",
      "model_name": "HTMLModel",
      "state": {
       "layout": "IPY_MODEL_b70128e9565b4b3581b362d6211ab681",
       "style": "IPY_MODEL_c07920d9bbf44466b4e155ae36213b93",
       "value": "100%"
      }
     },
     "76621d98b499496cab0d0dcae88b9f59": {
      "model_module": "@jupyter-widgets/base",
      "model_module_version": "1.2.0",
      "model_name": "LayoutModel",
      "state": {}
     },
     "76bc97439d2f4c65b87236d29c2c4d97": {
      "model_module": "@jupyter-widgets/base",
      "model_module_version": "1.2.0",
      "model_name": "LayoutModel",
      "state": {}
     },
     "76c8f11cac6e49c99a047d341b150d4d": {
      "model_module": "@jupyter-widgets/base",
      "model_module_version": "1.2.0",
      "model_name": "LayoutModel",
      "state": {}
     },
     "7707147f63104511b71f76dd2ecfef95": {
      "model_module": "@jupyter-widgets/controls",
      "model_module_version": "1.5.0",
      "model_name": "HTMLModel",
      "state": {
       "layout": "IPY_MODEL_f01f0101bde84f67971c36050b7a0c65",
       "style": "IPY_MODEL_3ae957b88e7b448abe357c59a99f4f2f",
       "value": "100%"
      }
     },
     "77300182e4de472184d6489f694dc237": {
      "model_module": "@jupyter-widgets/controls",
      "model_module_version": "1.5.0",
      "model_name": "FloatProgressModel",
      "state": {
       "bar_style": "success",
       "layout": "IPY_MODEL_c2c2fb9114ff414899abb01f11093b1c",
       "max": 5,
       "style": "IPY_MODEL_e4ef352e64d34063b914cfc14f00e113",
       "value": 5
      }
     },
     "77c9837c0c6144f98771afeff30bec70": {
      "model_module": "@jupyter-widgets/controls",
      "model_module_version": "1.5.0",
      "model_name": "ProgressStyleModel",
      "state": {
       "description_width": ""
      }
     },
     "780e49cb630248e0b8751f14cfb8102b": {
      "model_module": "@jupyter-widgets/base",
      "model_module_version": "1.2.0",
      "model_name": "LayoutModel",
      "state": {}
     },
     "781f8aafe80b4b4d956935c391dc73cc": {
      "model_module": "@jupyter-widgets/controls",
      "model_module_version": "1.5.0",
      "model_name": "DescriptionStyleModel",
      "state": {
       "description_width": ""
      }
     },
     "78f8295fff2245d090480f1d3c5611ad": {
      "model_module": "@jupyter-widgets/controls",
      "model_module_version": "1.5.0",
      "model_name": "HBoxModel",
      "state": {
       "children": [
        "IPY_MODEL_1ebcaf110fc94cf8b0cf9aa54e55f10f",
        "IPY_MODEL_a9fee4de23c943dcb9bca5991d5af6dd",
        "IPY_MODEL_dcd1eea9a5b24179a03e91fa45ff38b1"
       ],
       "layout": "IPY_MODEL_4891c0f7d3b548ae8a011fccd2aab8f2"
      }
     },
     "7903b1e8e4634e32819290c97c642699": {
      "model_module": "@jupyter-widgets/base",
      "model_module_version": "1.2.0",
      "model_name": "LayoutModel",
      "state": {}
     },
     "79e1d7abde0348f884121dcdff608b15": {
      "model_module": "@jupyter-widgets/controls",
      "model_module_version": "1.5.0",
      "model_name": "HBoxModel",
      "state": {
       "children": [
        "IPY_MODEL_43e5e200622b482bbeeb2729fcf80c65",
        "IPY_MODEL_234bd62613984c2199204438229c0e49",
        "IPY_MODEL_694add9764d341119e4da7663bcdefe4"
       ],
       "layout": "IPY_MODEL_2f755b75250740f6997bd46dd1425a2a"
      }
     },
     "7af3903aef924095a526025d872916a6": {
      "model_module": "@jupyter-widgets/base",
      "model_module_version": "1.2.0",
      "model_name": "LayoutModel",
      "state": {}
     },
     "7b03dc0d86e7460d8bf887c5ef25f47a": {
      "model_module": "@jupyter-widgets/controls",
      "model_module_version": "1.5.0",
      "model_name": "HTMLModel",
      "state": {
       "layout": "IPY_MODEL_62e964d660944e3c91b8da817fe96219",
       "style": "IPY_MODEL_57920876a01a46b09fc431512b4859db",
       "value": " 5/5 [00:04&lt;00:00,  1.01it/s]"
      }
     },
     "7b585f0b6aa846a3a192b075769d193c": {
      "model_module": "@jupyter-widgets/base",
      "model_module_version": "1.2.0",
      "model_name": "LayoutModel",
      "state": {}
     },
     "7b5fc1e883994a88b1e06f3afc077dd0": {
      "model_module": "@jupyter-widgets/base",
      "model_module_version": "1.2.0",
      "model_name": "LayoutModel",
      "state": {}
     },
     "7cb2d21478964dcba92949173884bce5": {
      "model_module": "@jupyter-widgets/controls",
      "model_module_version": "1.5.0",
      "model_name": "ProgressStyleModel",
      "state": {
       "description_width": ""
      }
     },
     "7cce8d98f36f4dda826376a675e69ff8": {
      "model_module": "@jupyter-widgets/controls",
      "model_module_version": "1.5.0",
      "model_name": "DescriptionStyleModel",
      "state": {
       "description_width": ""
      }
     },
     "7cd8d93f63d04380ac29636c72f38253": {
      "model_module": "@jupyter-widgets/controls",
      "model_module_version": "1.5.0",
      "model_name": "HTMLModel",
      "state": {
       "layout": "IPY_MODEL_08a6e94050c04524b9df885a32f6daa1",
       "style": "IPY_MODEL_8b3cd7a914f444729eec36a85e5ce615",
       "value": "100%"
      }
     },
     "7e5cdb2f1ebc4e67a0ff59a39229fb6e": {
      "model_module": "@jupyter-widgets/base",
      "model_module_version": "1.2.0",
      "model_name": "LayoutModel",
      "state": {}
     },
     "7e6b1db75d05458ca3f7eccbe0697adb": {
      "model_module": "@jupyter-widgets/controls",
      "model_module_version": "1.5.0",
      "model_name": "HTMLModel",
      "state": {
       "layout": "IPY_MODEL_e8a37c4098e3434884178c43dcbd3157",
       "style": "IPY_MODEL_14c7640df5e346ff8a9432cf375b2a80",
       "value": "100%"
      }
     },
     "8000f184ab9940389b37b188a742f83f": {
      "model_module": "@jupyter-widgets/controls",
      "model_module_version": "1.5.0",
      "model_name": "FloatProgressModel",
      "state": {
       "bar_style": "success",
       "layout": "IPY_MODEL_eefaac2f18844c8a9ba4f8df1b9d7131",
       "max": 5,
       "style": "IPY_MODEL_f8867ed551ad49448bdcfc3c94e1d945",
       "value": 5
      }
     },
     "8178b60dcfc54add9e34fc38dc794d48": {
      "model_module": "@jupyter-widgets/controls",
      "model_module_version": "1.5.0",
      "model_name": "ProgressStyleModel",
      "state": {
       "description_width": ""
      }
     },
     "81e6bbd729d54c80bfdba322a8350e03": {
      "model_module": "@jupyter-widgets/controls",
      "model_module_version": "1.5.0",
      "model_name": "DescriptionStyleModel",
      "state": {
       "description_width": ""
      }
     },
     "8217c1adcdee4887bcbdc2a0d9cef595": {
      "model_module": "@jupyter-widgets/controls",
      "model_module_version": "1.5.0",
      "model_name": "DescriptionStyleModel",
      "state": {
       "description_width": ""
      }
     },
     "823d9ebe711e4156a40018c4a1ed9dd4": {
      "model_module": "@jupyter-widgets/controls",
      "model_module_version": "1.5.0",
      "model_name": "DescriptionStyleModel",
      "state": {
       "description_width": ""
      }
     },
     "8303943df9794317ac21c8aa5f9b7aeb": {
      "model_module": "@jupyter-widgets/controls",
      "model_module_version": "1.5.0",
      "model_name": "FloatProgressModel",
      "state": {
       "bar_style": "success",
       "layout": "IPY_MODEL_6ea1227f1cd24133bb68aa28ee6048b8",
       "max": 5,
       "style": "IPY_MODEL_855044ba07994414b1773e061d575b53",
       "value": 5
      }
     },
     "830b1d2dca6d4e98b5ff0012a7cc77ab": {
      "model_module": "@jupyter-widgets/controls",
      "model_module_version": "1.5.0",
      "model_name": "DescriptionStyleModel",
      "state": {
       "description_width": ""
      }
     },
     "830fe7bcd37a433c82e9ffe92033f18f": {
      "model_module": "@jupyter-widgets/base",
      "model_module_version": "1.2.0",
      "model_name": "LayoutModel",
      "state": {}
     },
     "83b5b4925467457fb1cb99c6f1799471": {
      "model_module": "@jupyter-widgets/base",
      "model_module_version": "1.2.0",
      "model_name": "LayoutModel",
      "state": {}
     },
     "83c4148f380740c89e0f59d888b2afb3": {
      "model_module": "@jupyter-widgets/controls",
      "model_module_version": "1.5.0",
      "model_name": "FloatProgressModel",
      "state": {
       "bar_style": "success",
       "layout": "IPY_MODEL_2cea7d9c1eab4de2a0963f98d952fb7e",
       "max": 5,
       "style": "IPY_MODEL_09a0848bd6df415cb4b40ea37c20c98e",
       "value": 5
      }
     },
     "83d7d379fa6648b59caa24657763aebc": {
      "model_module": "@jupyter-widgets/controls",
      "model_module_version": "1.5.0",
      "model_name": "HTMLModel",
      "state": {
       "layout": "IPY_MODEL_2c5e07f56d5e486699590b3a671fda50",
       "style": "IPY_MODEL_187c637886d04b8eab6048192441465c",
       "value": " 1/5 [00:01&lt;00:04,  1.12s/it]"
      }
     },
     "849d8cd6bb774ba09113f32cd1d6e6bb": {
      "model_module": "@jupyter-widgets/controls",
      "model_module_version": "1.5.0",
      "model_name": "FloatProgressModel",
      "state": {
       "bar_style": "success",
       "layout": "IPY_MODEL_8d3f6511b7ef408ab07761d64bf4b319",
       "max": 5,
       "style": "IPY_MODEL_a8c2766e830340cca3dea45919ca3c52",
       "value": 5
      }
     },
     "84b6217d0ced4d9789aba6e9f526a39a": {
      "model_module": "@jupyter-widgets/controls",
      "model_module_version": "1.5.0",
      "model_name": "FloatProgressModel",
      "state": {
       "bar_style": "success",
       "layout": "IPY_MODEL_350d75262d124426a1af064b69a05a04",
       "max": 5,
       "style": "IPY_MODEL_59bbb68b750648ddbc6c2e35c6cc8173",
       "value": 5
      }
     },
     "850724a6b8cf43a0bc78b09def1e1f5b": {
      "model_module": "@jupyter-widgets/controls",
      "model_module_version": "1.5.0",
      "model_name": "HTMLModel",
      "state": {
       "layout": "IPY_MODEL_934dcfbeaca14774824ac64d392f90bb",
       "style": "IPY_MODEL_2572cef2fb4b45a3901fd7f2686b8fa6",
       "value": " 5/5 [00:12&lt;00:00,  2.56s/it]"
      }
     },
     "8539324fd39f45fe81285607c261688d": {
      "model_module": "@jupyter-widgets/base",
      "model_module_version": "1.2.0",
      "model_name": "LayoutModel",
      "state": {}
     },
     "855044ba07994414b1773e061d575b53": {
      "model_module": "@jupyter-widgets/controls",
      "model_module_version": "1.5.0",
      "model_name": "ProgressStyleModel",
      "state": {
       "description_width": ""
      }
     },
     "858ba27d9ecb406c8c40d849aff1e811": {
      "model_module": "@jupyter-widgets/controls",
      "model_module_version": "1.5.0",
      "model_name": "HTMLModel",
      "state": {
       "layout": "IPY_MODEL_eba518406a8e4de6bb6962db2f905d0b",
       "style": "IPY_MODEL_bab5c6919eaf42ed872e9975ddfdd949",
       "value": "100%"
      }
     },
     "858d58a204274918b4e913dfa8f63cef": {
      "model_module": "@jupyter-widgets/base",
      "model_module_version": "1.2.0",
      "model_name": "LayoutModel",
      "state": {}
     },
     "85c283aaca2a4a57a3efc4a1e4d34414": {
      "model_module": "@jupyter-widgets/base",
      "model_module_version": "1.2.0",
      "model_name": "LayoutModel",
      "state": {}
     },
     "85cbf3b4db8743a390c6f5ed90dabf68": {
      "model_module": "@jupyter-widgets/controls",
      "model_module_version": "1.5.0",
      "model_name": "DescriptionStyleModel",
      "state": {
       "description_width": ""
      }
     },
     "86273a57fef043208711f50ee2b683de": {
      "model_module": "@jupyter-widgets/controls",
      "model_module_version": "1.5.0",
      "model_name": "HBoxModel",
      "state": {
       "children": [
        "IPY_MODEL_15d5b13d5c894e81a7ddf7fa0198feab",
        "IPY_MODEL_e83cb87f0822406d982c677b44a4ed80",
        "IPY_MODEL_3285cab6ea5e445da1684eff57755744"
       ],
       "layout": "IPY_MODEL_33c0b15ad0cd4bd4aa3f772469c9493e"
      }
     },
     "863c2e13e68246afb794387a8bd76b20": {
      "model_module": "@jupyter-widgets/controls",
      "model_module_version": "1.5.0",
      "model_name": "DescriptionStyleModel",
      "state": {
       "description_width": ""
      }
     },
     "865bb690b0314d9597761abe80518ffc": {
      "model_module": "@jupyter-widgets/controls",
      "model_module_version": "1.5.0",
      "model_name": "FloatProgressModel",
      "state": {
       "bar_style": "success",
       "layout": "IPY_MODEL_e3bad33b61064ab79265a944d24042ab",
       "max": 5,
       "style": "IPY_MODEL_639b2f110a5b44c1bfd37011bc95f7ec",
       "value": 5
      }
     },
     "8713730aef234c81855e4a50fa851751": {
      "model_module": "@jupyter-widgets/controls",
      "model_module_version": "1.5.0",
      "model_name": "FloatProgressModel",
      "state": {
       "bar_style": "success",
       "layout": "IPY_MODEL_ea21a6e201f54b9c949b31fd86047cad",
       "max": 5,
       "style": "IPY_MODEL_9275e9285d904de0b0895bd325e1570f",
       "value": 5
      }
     },
     "877cb462dd2040b9b5d7779d71809ea4": {
      "model_module": "@jupyter-widgets/base",
      "model_module_version": "1.2.0",
      "model_name": "LayoutModel",
      "state": {}
     },
     "878583eba69746b880f1a01c0ff40685": {
      "model_module": "@jupyter-widgets/controls",
      "model_module_version": "1.5.0",
      "model_name": "DescriptionStyleModel",
      "state": {
       "description_width": ""
      }
     },
     "87925054060345a5b7aeb85ede65bcdf": {
      "model_module": "@jupyter-widgets/controls",
      "model_module_version": "1.5.0",
      "model_name": "DescriptionStyleModel",
      "state": {
       "description_width": ""
      }
     },
     "87fabac7205e46a8aaf45fda8a27117a": {
      "model_module": "@jupyter-widgets/controls",
      "model_module_version": "1.5.0",
      "model_name": "HTMLModel",
      "state": {
       "layout": "IPY_MODEL_36dad58f481e459c9f9c9dee07bbe54e",
       "style": "IPY_MODEL_be5fd8ab4e3043cabb2c200becd9695d",
       "value": "100%"
      }
     },
     "880e75380a2c40d9b6e81ca408bad573": {
      "model_module": "@jupyter-widgets/controls",
      "model_module_version": "1.5.0",
      "model_name": "DescriptionStyleModel",
      "state": {
       "description_width": ""
      }
     },
     "881f7a008bdc4b2e9de88c2e33c72c21": {
      "model_module": "@jupyter-widgets/controls",
      "model_module_version": "1.5.0",
      "model_name": "HTMLModel",
      "state": {
       "layout": "IPY_MODEL_052a61e4853e4597a46e56a27874950d",
       "style": "IPY_MODEL_4d67455dcadd4382a99c172bab9ca897",
       "value": "100%"
      }
     },
     "881f825aafac41429e5436965d5a2616": {
      "model_module": "@jupyter-widgets/controls",
      "model_module_version": "1.5.0",
      "model_name": "FloatProgressModel",
      "state": {
       "bar_style": "success",
       "layout": "IPY_MODEL_7af3903aef924095a526025d872916a6",
       "max": 5,
       "style": "IPY_MODEL_8a5808d215254665a197b08fb4ba6d94",
       "value": 5
      }
     },
     "88865f0357fc40dababe17b81519388d": {
      "model_module": "@jupyter-widgets/controls",
      "model_module_version": "1.5.0",
      "model_name": "FloatProgressModel",
      "state": {
       "bar_style": "success",
       "layout": "IPY_MODEL_fc1ad0ac257c4b489899d9521a96e282",
       "max": 5,
       "style": "IPY_MODEL_ae66082986774d089d9d70fca24b4d10",
       "value": 5
      }
     },
     "888db0b467374a86b6be36deacf727d9": {
      "model_module": "@jupyter-widgets/base",
      "model_module_version": "1.2.0",
      "model_name": "LayoutModel",
      "state": {}
     },
     "88c3a71c9eec40469e4b6bb10a7b0df0": {
      "model_module": "@jupyter-widgets/base",
      "model_module_version": "1.2.0",
      "model_name": "LayoutModel",
      "state": {}
     },
     "891ce506cb1e46188517a2324ac0bc30": {
      "model_module": "@jupyter-widgets/base",
      "model_module_version": "1.2.0",
      "model_name": "LayoutModel",
      "state": {}
     },
     "892682c9be3147239af261ba14b2d98e": {
      "model_module": "@jupyter-widgets/controls",
      "model_module_version": "1.5.0",
      "model_name": "FloatProgressModel",
      "state": {
       "bar_style": "success",
       "layout": "IPY_MODEL_52028b1518f443bda40e1d00828cd0ab",
       "max": 5,
       "style": "IPY_MODEL_3caddafca0794ae0bc777a747597ab3b",
       "value": 5
      }
     },
     "89516005e6074ea9a81586a0fc6eebec": {
      "model_module": "@jupyter-widgets/controls",
      "model_module_version": "1.5.0",
      "model_name": "HBoxModel",
      "state": {
       "children": [
        "IPY_MODEL_20ea935576b441479bf44776b44c04f2",
        "IPY_MODEL_f9a7d9870db24ae29c61f18e71787479",
        "IPY_MODEL_e2380ff915d748529a25f0ba5ff4c012"
       ],
       "layout": "IPY_MODEL_3fa650b1dd95484db85569d23abce0f7"
      }
     },
     "8a1d460dc22b4991b1ddb46855ac76d3": {
      "model_module": "@jupyter-widgets/controls",
      "model_module_version": "1.5.0",
      "model_name": "HTMLModel",
      "state": {
       "layout": "IPY_MODEL_1396b98735ec4867b0b98d4641cc9480",
       "style": "IPY_MODEL_d01f095be9284806a4de5ef157f4625b",
       "value": "100%"
      }
     },
     "8a5808d215254665a197b08fb4ba6d94": {
      "model_module": "@jupyter-widgets/controls",
      "model_module_version": "1.5.0",
      "model_name": "ProgressStyleModel",
      "state": {
       "description_width": ""
      }
     },
     "8b3cd7a914f444729eec36a85e5ce615": {
      "model_module": "@jupyter-widgets/controls",
      "model_module_version": "1.5.0",
      "model_name": "DescriptionStyleModel",
      "state": {
       "description_width": ""
      }
     },
     "8babbaf22ffb48a786950cafc0fe4836": {
      "model_module": "@jupyter-widgets/controls",
      "model_module_version": "1.5.0",
      "model_name": "HBoxModel",
      "state": {
       "children": [
        "IPY_MODEL_9fbd27d542124819b3d43d28f254807a",
        "IPY_MODEL_bce67aa18f8942efbc8c6c3de8c69ac5",
        "IPY_MODEL_f141822b3a084a628dc42f5b8a602a7c"
       ],
       "layout": "IPY_MODEL_8c3c11aa030745f6866aa5a45283021e"
      }
     },
     "8bb8d7ac01c94f24bc976e0e447b3db3": {
      "model_module": "@jupyter-widgets/controls",
      "model_module_version": "1.5.0",
      "model_name": "FloatProgressModel",
      "state": {
       "bar_style": "success",
       "layout": "IPY_MODEL_fa366748993049f0bf3c1f3fe9baea24",
       "max": 5,
       "style": "IPY_MODEL_1d03d314fa1e4b689121c8f2e02b3b50",
       "value": 5
      }
     },
     "8c2870d3235b4cbeb9a8473bc3db57e3": {
      "model_module": "@jupyter-widgets/base",
      "model_module_version": "1.2.0",
      "model_name": "LayoutModel",
      "state": {}
     },
     "8c3c11aa030745f6866aa5a45283021e": {
      "model_module": "@jupyter-widgets/base",
      "model_module_version": "1.2.0",
      "model_name": "LayoutModel",
      "state": {}
     },
     "8c8111cefc4b43a1987f0a65131aed15": {
      "model_module": "@jupyter-widgets/controls",
      "model_module_version": "1.5.0",
      "model_name": "HTMLModel",
      "state": {
       "layout": "IPY_MODEL_76c8f11cac6e49c99a047d341b150d4d",
       "style": "IPY_MODEL_68706ceaa76d4340bcb60983b146ed34",
       "value": "100%"
      }
     },
     "8c8d12a335fe432783a5370716261a05": {
      "model_module": "@jupyter-widgets/controls",
      "model_module_version": "1.5.0",
      "model_name": "FloatProgressModel",
      "state": {
       "bar_style": "success",
       "layout": "IPY_MODEL_d11146f8e11e4577a2b06cafcaa8fa42",
       "max": 5,
       "style": "IPY_MODEL_1d8a815efb204e45a492a760b7c1fc1f",
       "value": 5
      }
     },
     "8d1fc086ddcc42be923a35d6fbe97c81": {
      "model_module": "@jupyter-widgets/controls",
      "model_module_version": "1.5.0",
      "model_name": "FloatProgressModel",
      "state": {
       "bar_style": "success",
       "layout": "IPY_MODEL_8dea4f0513df4c0ab5deeb5a2a51e809",
       "max": 5,
       "style": "IPY_MODEL_77c9837c0c6144f98771afeff30bec70",
       "value": 5
      }
     },
     "8d2bb3d170b54842ae27a40751397ca4": {
      "model_module": "@jupyter-widgets/controls",
      "model_module_version": "1.5.0",
      "model_name": "DescriptionStyleModel",
      "state": {
       "description_width": ""
      }
     },
     "8d3f6511b7ef408ab07761d64bf4b319": {
      "model_module": "@jupyter-widgets/base",
      "model_module_version": "1.2.0",
      "model_name": "LayoutModel",
      "state": {}
     },
     "8d457e8bfd624a47a385690586d3ad9e": {
      "model_module": "@jupyter-widgets/base",
      "model_module_version": "1.2.0",
      "model_name": "LayoutModel",
      "state": {}
     },
     "8dea4f0513df4c0ab5deeb5a2a51e809": {
      "model_module": "@jupyter-widgets/base",
      "model_module_version": "1.2.0",
      "model_name": "LayoutModel",
      "state": {}
     },
     "8e191a5a0c6f4625928a47e51ec52909": {
      "model_module": "@jupyter-widgets/base",
      "model_module_version": "1.2.0",
      "model_name": "LayoutModel",
      "state": {}
     },
     "8e67c8a9ae994635b83a1a1c68369909": {
      "model_module": "@jupyter-widgets/controls",
      "model_module_version": "1.5.0",
      "model_name": "DescriptionStyleModel",
      "state": {
       "description_width": ""
      }
     },
     "8eff175ade424340a763f9323c0a1334": {
      "model_module": "@jupyter-widgets/controls",
      "model_module_version": "1.5.0",
      "model_name": "HTMLModel",
      "state": {
       "layout": "IPY_MODEL_60fee1f4d8ff453eb8cac85b732b74fd",
       "style": "IPY_MODEL_9749a6e7cfee4db585143c06b52a26ed",
       "value": "100%"
      }
     },
     "8f32678b0dd1436489b2e9ff410ca94c": {
      "model_module": "@jupyter-widgets/controls",
      "model_module_version": "1.5.0",
      "model_name": "ProgressStyleModel",
      "state": {
       "description_width": ""
      }
     },
     "8f3f73facf444551849576da7483320f": {
      "model_module": "@jupyter-widgets/controls",
      "model_module_version": "1.5.0",
      "model_name": "FloatProgressModel",
      "state": {
       "bar_style": "success",
       "layout": "IPY_MODEL_1ff04aafaa614de181dc792610395976",
       "max": 5,
       "style": "IPY_MODEL_193066d7b3f44eae9a096f19b7329816",
       "value": 5
      }
     },
     "8f723e2bc0f94ca2851a10498e9c26d9": {
      "model_module": "@jupyter-widgets/controls",
      "model_module_version": "1.5.0",
      "model_name": "HTMLModel",
      "state": {
       "layout": "IPY_MODEL_6589de2570cc4373ae89f04a1265b4b2",
       "style": "IPY_MODEL_1a46d8335d194975ad423264ea7955d8",
       "value": "100%"
      }
     },
     "8f990f83875946848db4948b434b43b2": {
      "model_module": "@jupyter-widgets/controls",
      "model_module_version": "1.5.0",
      "model_name": "DescriptionStyleModel",
      "state": {
       "description_width": ""
      }
     },
     "913515b784774b878201f4cac85f04d3": {
      "model_module": "@jupyter-widgets/controls",
      "model_module_version": "1.5.0",
      "model_name": "DescriptionStyleModel",
      "state": {
       "description_width": ""
      }
     },
     "919a482b5a064b03a477ec2ae6c1b2b7": {
      "model_module": "@jupyter-widgets/controls",
      "model_module_version": "1.5.0",
      "model_name": "DescriptionStyleModel",
      "state": {
       "description_width": ""
      }
     },
     "919de0c46abf4b7db6c7da0d3bd483cb": {
      "model_module": "@jupyter-widgets/base",
      "model_module_version": "1.2.0",
      "model_name": "LayoutModel",
      "state": {}
     },
     "91b2f82248084dfc92abf99e6c6e7e92": {
      "model_module": "@jupyter-widgets/controls",
      "model_module_version": "1.5.0",
      "model_name": "FloatProgressModel",
      "state": {
       "bar_style": "success",
       "layout": "IPY_MODEL_f192e36d7d2e46629eaa74ab57cc0345",
       "max": 5,
       "style": "IPY_MODEL_14c9b581ec784baab6fb8eba296aa56c",
       "value": 5
      }
     },
     "91cce6416bf74421984c1d9c07bc17ad": {
      "model_module": "@jupyter-widgets/base",
      "model_module_version": "1.2.0",
      "model_name": "LayoutModel",
      "state": {}
     },
     "91e16ba41ae7403f81b7077211b5e164": {
      "model_module": "@jupyter-widgets/controls",
      "model_module_version": "1.5.0",
      "model_name": "DescriptionStyleModel",
      "state": {
       "description_width": ""
      }
     },
     "91e903d862bd461d9fa07409812d6a11": {
      "model_module": "@jupyter-widgets/controls",
      "model_module_version": "1.5.0",
      "model_name": "HTMLModel",
      "state": {
       "layout": "IPY_MODEL_32e5473a9c024c69a5ff7cb3fc08348c",
       "style": "IPY_MODEL_bb421aabcd9c42958ab3f2061f2a306a",
       "value": " 5/5 [00:13&lt;00:00,  2.76s/it]"
      }
     },
     "92313d88aac34b649a89e6d6a2916262": {
      "model_module": "@jupyter-widgets/base",
      "model_module_version": "1.2.0",
      "model_name": "LayoutModel",
      "state": {}
     },
     "923eb859f0b642f1990c984edb19d035": {
      "model_module": "@jupyter-widgets/controls",
      "model_module_version": "1.5.0",
      "model_name": "DescriptionStyleModel",
      "state": {
       "description_width": ""
      }
     },
     "9275e9285d904de0b0895bd325e1570f": {
      "model_module": "@jupyter-widgets/controls",
      "model_module_version": "1.5.0",
      "model_name": "ProgressStyleModel",
      "state": {
       "description_width": ""
      }
     },
     "92dbfe3702134eccb1f8751f34ade868": {
      "model_module": "@jupyter-widgets/controls",
      "model_module_version": "1.5.0",
      "model_name": "HTMLModel",
      "state": {
       "layout": "IPY_MODEL_ba6c40a7a1c9418b9b231908fdd84988",
       "style": "IPY_MODEL_2796070684f94f1aaf0f4808d9d05de9",
       "value": "100%"
      }
     },
     "934dcfbeaca14774824ac64d392f90bb": {
      "model_module": "@jupyter-widgets/base",
      "model_module_version": "1.2.0",
      "model_name": "LayoutModel",
      "state": {}
     },
     "93c98f4b077c4bfaad6359f81aa2df8d": {
      "model_module": "@jupyter-widgets/base",
      "model_module_version": "1.2.0",
      "model_name": "LayoutModel",
      "state": {}
     },
     "9445dc9b545c4f47867315f0644a3b3a": {
      "model_module": "@jupyter-widgets/controls",
      "model_module_version": "1.5.0",
      "model_name": "FloatProgressModel",
      "state": {
       "bar_style": "success",
       "layout": "IPY_MODEL_be6a67d20143490599b5b0f4959d0400",
       "max": 5,
       "style": "IPY_MODEL_e6a6d10bada14069b05870a8e15fcbd0",
       "value": 5
      }
     },
     "945562b698534136bf4746deebf8a0c2": {
      "model_module": "@jupyter-widgets/controls",
      "model_module_version": "1.5.0",
      "model_name": "HTMLModel",
      "state": {
       "layout": "IPY_MODEL_b693bd56b02347b489461b0ba1b4fd88",
       "style": "IPY_MODEL_ca80ae08986848f1b93724cf4bf5c21b",
       "value": " 5/5 [00:06&lt;00:00,  1.19s/it]"
      }
     },
     "9516b0ae0457418ebefb8466021d71cc": {
      "model_module": "@jupyter-widgets/base",
      "model_module_version": "1.2.0",
      "model_name": "LayoutModel",
      "state": {}
     },
     "95f46d8e17c6411bafbc30ed41dadc8a": {
      "model_module": "@jupyter-widgets/controls",
      "model_module_version": "1.5.0",
      "model_name": "HTMLModel",
      "state": {
       "layout": "IPY_MODEL_88c3a71c9eec40469e4b6bb10a7b0df0",
       "style": "IPY_MODEL_b6bc195b16f74afabf97356b7b77d610",
       "value": " 5/5 [00:12&lt;00:00,  2.56s/it]"
      }
     },
     "964c5106996548c6b623d0b20345227c": {
      "model_module": "@jupyter-widgets/controls",
      "model_module_version": "1.5.0",
      "model_name": "FloatProgressModel",
      "state": {
       "bar_style": "success",
       "layout": "IPY_MODEL_aed83756061844f794205a0f8aab0e4f",
       "max": 5,
       "style": "IPY_MODEL_26be05d7a38a40469b5fb46526e38c3e",
       "value": 5
      }
     },
     "968663b1d42047cb8773f2fbf6fd1f66": {
      "model_module": "@jupyter-widgets/controls",
      "model_module_version": "1.5.0",
      "model_name": "DescriptionStyleModel",
      "state": {
       "description_width": ""
      }
     },
     "96cab8679b6b41608763bc5acd80c147": {
      "model_module": "@jupyter-widgets/controls",
      "model_module_version": "1.5.0",
      "model_name": "HTMLModel",
      "state": {
       "layout": "IPY_MODEL_62160bfc819741f38bec88d9fee81198",
       "style": "IPY_MODEL_48a1cfb0859044ffba5958bb12bab1e2",
       "value": " 5/5 [00:05&lt;00:00,  1.15s/it]"
      }
     },
     "96ccd4c9aa304d70b9a15aea82450287": {
      "model_module": "@jupyter-widgets/base",
      "model_module_version": "1.2.0",
      "model_name": "LayoutModel",
      "state": {}
     },
     "96dad7becc0f4d51ad7501e24a2d45e0": {
      "model_module": "@jupyter-widgets/base",
      "model_module_version": "1.2.0",
      "model_name": "LayoutModel",
      "state": {}
     },
     "9749a6e7cfee4db585143c06b52a26ed": {
      "model_module": "@jupyter-widgets/controls",
      "model_module_version": "1.5.0",
      "model_name": "DescriptionStyleModel",
      "state": {
       "description_width": ""
      }
     },
     "98203bea58a14fe6a728e7f5b63a4fd8": {
      "model_module": "@jupyter-widgets/base",
      "model_module_version": "1.2.0",
      "model_name": "LayoutModel",
      "state": {}
     },
     "98338c32d4974b4095e63ae4c076b677": {
      "model_module": "@jupyter-widgets/controls",
      "model_module_version": "1.5.0",
      "model_name": "DescriptionStyleModel",
      "state": {
       "description_width": ""
      }
     },
     "986ed9768061469bacec6bb31b718f8f": {
      "model_module": "@jupyter-widgets/base",
      "model_module_version": "1.2.0",
      "model_name": "LayoutModel",
      "state": {}
     },
     "98bb309def2b48bd89b90520773b1c27": {
      "model_module": "@jupyter-widgets/controls",
      "model_module_version": "1.5.0",
      "model_name": "HTMLModel",
      "state": {
       "layout": "IPY_MODEL_cec1b24d3e874fd8aac0cc0be695ca04",
       "style": "IPY_MODEL_d96e3a5bd7f749e785e94b60ab55c910",
       "value": " 5/5 [00:00&lt;00:00, 69.06it/s]"
      }
     },
     "98df17219fec4a8fbeae72f87243f37f": {
      "model_module": "@jupyter-widgets/controls",
      "model_module_version": "1.5.0",
      "model_name": "HTMLModel",
      "state": {
       "layout": "IPY_MODEL_91cce6416bf74421984c1d9c07bc17ad",
       "style": "IPY_MODEL_b70b8d30386c4bb388757acd282a5acb",
       "value": "100%"
      }
     },
     "98fce8d499c143388f7c380eea0b8fc9": {
      "model_module": "@jupyter-widgets/base",
      "model_module_version": "1.2.0",
      "model_name": "LayoutModel",
      "state": {}
     },
     "9933ca59f65a462c80f3775fbcd15f48": {
      "model_module": "@jupyter-widgets/controls",
      "model_module_version": "1.5.0",
      "model_name": "HBoxModel",
      "state": {
       "children": [
        "IPY_MODEL_881f7a008bdc4b2e9de88c2e33c72c21",
        "IPY_MODEL_757536d3f3b9469ead0ee544699d4db0",
        "IPY_MODEL_c7ceb287649a47b4a9438a5e61e12909"
       ],
       "layout": "IPY_MODEL_fec7cd2724bd4a29805ebb858b06a07c"
      }
     },
     "996c7ae419b245a9ab2e97a51fd78648": {
      "model_module": "@jupyter-widgets/controls",
      "model_module_version": "1.5.0",
      "model_name": "DescriptionStyleModel",
      "state": {
       "description_width": ""
      }
     },
     "99c3a073ea1541fdb85da62a81cd2a86": {
      "model_module": "@jupyter-widgets/base",
      "model_module_version": "1.2.0",
      "model_name": "LayoutModel",
      "state": {}
     },
     "9a25d4cd59f74ec7919f6c010024ffd8": {
      "model_module": "@jupyter-widgets/base",
      "model_module_version": "1.2.0",
      "model_name": "LayoutModel",
      "state": {}
     },
     "9a42c8f090124956904ceed193e8ffb4": {
      "model_module": "@jupyter-widgets/base",
      "model_module_version": "1.2.0",
      "model_name": "LayoutModel",
      "state": {}
     },
     "9adfcacf5f914dd28786a4d9e46be5a1": {
      "model_module": "@jupyter-widgets/controls",
      "model_module_version": "1.5.0",
      "model_name": "HBoxModel",
      "state": {
       "children": [
        "IPY_MODEL_7e6b1db75d05458ca3f7eccbe0697adb",
        "IPY_MODEL_88865f0357fc40dababe17b81519388d",
        "IPY_MODEL_96cab8679b6b41608763bc5acd80c147"
       ],
       "layout": "IPY_MODEL_48b9422e95494358ad304d9d9bdf4988"
      }
     },
     "9b1ab2f81f5b4922b158a4d62d4a5eed": {
      "model_module": "@jupyter-widgets/controls",
      "model_module_version": "1.5.0",
      "model_name": "DescriptionStyleModel",
      "state": {
       "description_width": ""
      }
     },
     "9b89f4c337ed413a821a4af09403077d": {
      "model_module": "@jupyter-widgets/controls",
      "model_module_version": "1.5.0",
      "model_name": "HBoxModel",
      "state": {
       "children": [
        "IPY_MODEL_b14a9fdc9cbf4ad4b5f5abce1cd551cb",
        "IPY_MODEL_892682c9be3147239af261ba14b2d98e",
        "IPY_MODEL_9da2a6329d3d45a88e5e912946fd7c4e"
       ],
       "layout": "IPY_MODEL_c3892516398d4faea6bab9a0c11f2d2f"
      }
     },
     "9c6e78df7d244c9d9a225a17a79dc2c0": {
      "model_module": "@jupyter-widgets/controls",
      "model_module_version": "1.5.0",
      "model_name": "HBoxModel",
      "state": {
       "children": [
        "IPY_MODEL_3a321a7a163e4de5a289c3649dca27a1",
        "IPY_MODEL_03c908f0709f4f9a945b45b942d86bd3",
        "IPY_MODEL_41b1a3f1fc834f7e832b2024dd9f47d4"
       ],
       "layout": "IPY_MODEL_f15d8c9caee448e59149f0e9ade7c5ef"
      }
     },
     "9ca415f194634888951ff156311ebbc3": {
      "model_module": "@jupyter-widgets/controls",
      "model_module_version": "1.5.0",
      "model_name": "DescriptionStyleModel",
      "state": {
       "description_width": ""
      }
     },
     "9cc00c3021b14d8894031a7dd47926a7": {
      "model_module": "@jupyter-widgets/controls",
      "model_module_version": "1.5.0",
      "model_name": "FloatProgressModel",
      "state": {
       "bar_style": "success",
       "layout": "IPY_MODEL_3ca2e2eafa7b4dbbaff116c0ae048f4c",
       "max": 5,
       "style": "IPY_MODEL_085b7d54aa504e948fb0d22538d9dffa",
       "value": 5
      }
     },
     "9cca425ef8124a688b5bc7ba55458472": {
      "model_module": "@jupyter-widgets/base",
      "model_module_version": "1.2.0",
      "model_name": "LayoutModel",
      "state": {}
     },
     "9cdf5635a21b4fa89a7046fd617f2955": {
      "model_module": "@jupyter-widgets/controls",
      "model_module_version": "1.5.0",
      "model_name": "DescriptionStyleModel",
      "state": {
       "description_width": ""
      }
     },
     "9ce2ae51e04f471e9ca2acf7f7291a76": {
      "model_module": "@jupyter-widgets/controls",
      "model_module_version": "1.5.0",
      "model_name": "HBoxModel",
      "state": {
       "children": [
        "IPY_MODEL_f637b7e19f84429eaca5059ce25e2cab",
        "IPY_MODEL_84b6217d0ced4d9789aba6e9f526a39a",
        "IPY_MODEL_dc56186fd4184875a51db139e0302c23"
       ],
       "layout": "IPY_MODEL_96ccd4c9aa304d70b9a15aea82450287"
      }
     },
     "9d36716e23274b16ae463f121694e3fc": {
      "model_module": "@jupyter-widgets/controls",
      "model_module_version": "1.5.0",
      "model_name": "FloatProgressModel",
      "state": {
       "bar_style": "success",
       "layout": "IPY_MODEL_36dc546941f94438ab6d76f13aaca351",
       "max": 5,
       "style": "IPY_MODEL_a0fbd01d3e9b42ae9b5f604474311e60",
       "value": 5
      }
     },
     "9d44efc2513e4ebca19ec92c8f5e901a": {
      "model_module": "@jupyter-widgets/controls",
      "model_module_version": "1.5.0",
      "model_name": "HBoxModel",
      "state": {
       "children": [
        "IPY_MODEL_7cd8d93f63d04380ac29636c72f38253",
        "IPY_MODEL_964c5106996548c6b623d0b20345227c",
        "IPY_MODEL_3e83ad03eaec4004a7c692dee2531a19"
       ],
       "layout": "IPY_MODEL_98fce8d499c143388f7c380eea0b8fc9"
      }
     },
     "9d530d085b534ec39c8828a33c84205d": {
      "model_module": "@jupyter-widgets/controls",
      "model_module_version": "1.5.0",
      "model_name": "DescriptionStyleModel",
      "state": {
       "description_width": ""
      }
     },
     "9d8dbf905ab74125995647670b91bae9": {
      "model_module": "@jupyter-widgets/base",
      "model_module_version": "1.2.0",
      "model_name": "LayoutModel",
      "state": {}
     },
     "9da2a6329d3d45a88e5e912946fd7c4e": {
      "model_module": "@jupyter-widgets/controls",
      "model_module_version": "1.5.0",
      "model_name": "HTMLModel",
      "state": {
       "layout": "IPY_MODEL_19dd6ca6badc42faa646e9091cda32c9",
       "style": "IPY_MODEL_ba360481777f4097bf44b39a5f27a523",
       "value": " 5/5 [12:56&lt;00:00, 155.17s/it]"
      }
     },
     "9dc86aee373240dda71bf5d256fdaca9": {
      "model_module": "@jupyter-widgets/base",
      "model_module_version": "1.2.0",
      "model_name": "LayoutModel",
      "state": {}
     },
     "9dea60d4606d43d08986a9686ea36e86": {
      "model_module": "@jupyter-widgets/base",
      "model_module_version": "1.2.0",
      "model_name": "LayoutModel",
      "state": {}
     },
     "9e50abf541fe4acf8cebb9eb6dc5d375": {
      "model_module": "@jupyter-widgets/controls",
      "model_module_version": "1.5.0",
      "model_name": "DescriptionStyleModel",
      "state": {
       "description_width": ""
      }
     },
     "9ea87cefca3448d695bd122b0ab33c2a": {
      "model_module": "@jupyter-widgets/controls",
      "model_module_version": "1.5.0",
      "model_name": "HTMLModel",
      "state": {
       "layout": "IPY_MODEL_6e1efb5f27f544e09bb40da44f0963a5",
       "style": "IPY_MODEL_285f3bf901ba4ee2be64f713152b61af",
       "value": " 5/5 [13:43&lt;00:00, 164.92s/it]"
      }
     },
     "9fbd27d542124819b3d43d28f254807a": {
      "model_module": "@jupyter-widgets/controls",
      "model_module_version": "1.5.0",
      "model_name": "HTMLModel",
      "state": {
       "layout": "IPY_MODEL_5b13c2b85a3f4e8a9691604f26820b5e",
       "style": "IPY_MODEL_4a8cc83bfff745babe068a798a7b71e8",
       "value": "100%"
      }
     },
     "a042f299c48046619f33365756e410ed": {
      "model_module": "@jupyter-widgets/base",
      "model_module_version": "1.2.0",
      "model_name": "LayoutModel",
      "state": {}
     },
     "a05558f14eee47be8788e1dd4ab618bc": {
      "model_module": "@jupyter-widgets/controls",
      "model_module_version": "1.5.0",
      "model_name": "HTMLModel",
      "state": {
       "layout": "IPY_MODEL_e9fbedab48744f5595cb53ec61826377",
       "style": "IPY_MODEL_bc6b8fb96a82488c9dfea6c448ef39ff",
       "value": " 5/5 [13:08&lt;00:00, 157.77s/it]"
      }
     },
     "a0690abd5beb4231aa71017bbc0fdff5": {
      "model_module": "@jupyter-widgets/controls",
      "model_module_version": "1.5.0",
      "model_name": "ProgressStyleModel",
      "state": {
       "description_width": ""
      }
     },
     "a091b8d79dec4051a1fd1841e92f4bd6": {
      "model_module": "@jupyter-widgets/controls",
      "model_module_version": "1.5.0",
      "model_name": "HTMLModel",
      "state": {
       "layout": "IPY_MODEL_0c538e7e97bf4977b15a80c8ba02c7e8",
       "style": "IPY_MODEL_27c58aaece074c0ab6d746f834f6e2d3",
       "value": " 5/5 [00:04&lt;00:00,  1.12it/s]"
      }
     },
     "a0e5e1837b5d48cd8fd7b2fdea863ce6": {
      "model_module": "@jupyter-widgets/controls",
      "model_module_version": "1.5.0",
      "model_name": "HTMLModel",
      "state": {
       "layout": "IPY_MODEL_232d3b2a415141a3b88176fc19e4b113",
       "style": "IPY_MODEL_03c27ff4fed14f128c53c3512c5e87ff",
       "value": "100%"
      }
     },
     "a0fbd01d3e9b42ae9b5f604474311e60": {
      "model_module": "@jupyter-widgets/controls",
      "model_module_version": "1.5.0",
      "model_name": "ProgressStyleModel",
      "state": {
       "description_width": ""
      }
     },
     "a11ae57ca8db4df2bc8ef9f1b274b7d7": {
      "model_module": "@jupyter-widgets/base",
      "model_module_version": "1.2.0",
      "model_name": "LayoutModel",
      "state": {}
     },
     "a13b606a55b34619bff45eab436c23e4": {
      "model_module": "@jupyter-widgets/controls",
      "model_module_version": "1.5.0",
      "model_name": "HBoxModel",
      "state": {
       "children": [
        "IPY_MODEL_6a6e1316020643bca8cb81a0c8d34ac8",
        "IPY_MODEL_9445dc9b545c4f47867315f0644a3b3a",
        "IPY_MODEL_c280b6184933432686a6a71c17141678"
       ],
       "layout": "IPY_MODEL_29c3c5de76674a8db9571bc4d467072e"
      }
     },
     "a18b972b7f6d4951a7a5c570b654a9a0": {
      "model_module": "@jupyter-widgets/controls",
      "model_module_version": "1.5.0",
      "model_name": "HTMLModel",
      "state": {
       "layout": "IPY_MODEL_1f3c151131034bacb19059d6109b5fcb",
       "style": "IPY_MODEL_f83c70043db04fab8ed8fe83fb2a080b",
       "value": "100%"
      }
     },
     "a19b7733e55f461a9849bb8720f356bb": {
      "model_module": "@jupyter-widgets/controls",
      "model_module_version": "1.5.0",
      "model_name": "HBoxModel",
      "state": {
       "children": [
        "IPY_MODEL_0d9622eb7a604f6ea98ccb35d8910004",
        "IPY_MODEL_83c4148f380740c89e0f59d888b2afb3",
        "IPY_MODEL_e1de340460dd4ade8cf563d227787af3"
       ],
       "layout": "IPY_MODEL_a042f299c48046619f33365756e410ed"
      }
     },
     "a29e1f67bc034315b080471e94e582e1": {
      "model_module": "@jupyter-widgets/controls",
      "model_module_version": "1.5.0",
      "model_name": "HTMLModel",
      "state": {
       "layout": "IPY_MODEL_e62c6f692c5340a190839f66b1a93df1",
       "style": "IPY_MODEL_13e3479ba0cb4ab08b43e83a2b64cea2",
       "value": "100%"
      }
     },
     "a2be8e6c1a4d48eea869eb46c9c6dce5": {
      "model_module": "@jupyter-widgets/base",
      "model_module_version": "1.2.0",
      "model_name": "LayoutModel",
      "state": {}
     },
     "a35147d6301d4ee68014a0b45c506852": {
      "model_module": "@jupyter-widgets/controls",
      "model_module_version": "1.5.0",
      "model_name": "HTMLModel",
      "state": {
       "layout": "IPY_MODEL_12c5b2b9fa4f41db8742ae4060f25942",
       "style": "IPY_MODEL_9ca415f194634888951ff156311ebbc3",
       "value": " 5/5 [13:50&lt;00:00, 162.57s/it]"
      }
     },
     "a3b1242f08fe4b91af5a22d817631b67": {
      "model_module": "@jupyter-widgets/base",
      "model_module_version": "1.2.0",
      "model_name": "LayoutModel",
      "state": {}
     },
     "a3b6baf4da4c4d26b68b47fb53b1d935": {
      "model_module": "@jupyter-widgets/controls",
      "model_module_version": "1.5.0",
      "model_name": "HTMLModel",
      "state": {
       "layout": "IPY_MODEL_e753e27f606b4b96b521d23d3fe11d29",
       "style": "IPY_MODEL_1fdead41471a44e8af9c7040eeb2b64b",
       "value": " 5/5 [00:05&lt;00:00,  1.14s/it]"
      }
     },
     "a489f7d720a842a7aef9c2ecc619b218": {
      "model_module": "@jupyter-widgets/controls",
      "model_module_version": "1.5.0",
      "model_name": "FloatProgressModel",
      "state": {
       "bar_style": "success",
       "layout": "IPY_MODEL_92313d88aac34b649a89e6d6a2916262",
       "max": 5,
       "style": "IPY_MODEL_d43a42c1c6414443b4b7ac9818a1a73d",
       "value": 5
      }
     },
     "a4963feaf549477cbb27bd54987933f1": {
      "model_module": "@jupyter-widgets/base",
      "model_module_version": "1.2.0",
      "model_name": "LayoutModel",
      "state": {}
     },
     "a4edb29976ab44dd92ee21a7e7dbb0b5": {
      "model_module": "@jupyter-widgets/base",
      "model_module_version": "1.2.0",
      "model_name": "LayoutModel",
      "state": {}
     },
     "a5b58c4c3f324389bb8c661ec0bc3c6e": {
      "model_module": "@jupyter-widgets/base",
      "model_module_version": "1.2.0",
      "model_name": "LayoutModel",
      "state": {}
     },
     "a5ebe59e26f6451d86820cf7e6d5ac06": {
      "model_module": "@jupyter-widgets/controls",
      "model_module_version": "1.5.0",
      "model_name": "HBoxModel",
      "state": {
       "children": [
        "IPY_MODEL_8c8111cefc4b43a1987f0a65131aed15",
        "IPY_MODEL_c6af08dd9cc346b78993682f0009aeae",
        "IPY_MODEL_95f46d8e17c6411bafbc30ed41dadc8a"
       ],
       "layout": "IPY_MODEL_d5e8b5f553e44487be8b6e04f3e759ee"
      }
     },
     "a6397f5321fb4e1c823ba591fbc3ceb6": {
      "model_module": "@jupyter-widgets/controls",
      "model_module_version": "1.5.0",
      "model_name": "HTMLModel",
      "state": {
       "layout": "IPY_MODEL_c203a007850a48b099d7c7ec6a8c2eac",
       "style": "IPY_MODEL_c83349eb6e8f4288865e07ad3531fbc7",
       "value": "  0%"
      }
     },
     "a666b44cfeb742ca8cea437ed7da9204": {
      "model_module": "@jupyter-widgets/controls",
      "model_module_version": "1.5.0",
      "model_name": "HTMLModel",
      "state": {
       "layout": "IPY_MODEL_bc1cee5dda3242b5918dd80a00c0b457",
       "style": "IPY_MODEL_8d2bb3d170b54842ae27a40751397ca4",
       "value": "100%"
      }
     },
     "a69a05eddfb348c192f9a48f5138f361": {
      "model_module": "@jupyter-widgets/controls",
      "model_module_version": "1.5.0",
      "model_name": "HTMLModel",
      "state": {
       "layout": "IPY_MODEL_a5b58c4c3f324389bb8c661ec0bc3c6e",
       "style": "IPY_MODEL_c79bb9184c0a4fee9957866d64a85e93",
       "value": "100%"
      }
     },
     "a6cd03ee1fb74489b6b2a812251707a5": {
      "model_module": "@jupyter-widgets/controls",
      "model_module_version": "1.5.0",
      "model_name": "HTMLModel",
      "state": {
       "layout": "IPY_MODEL_bb192d12b80747d1b7b5f7e66c084d1b",
       "style": "IPY_MODEL_373bb56805bb4e5b87d3e50287aa63e5",
       "value": "100%"
      }
     },
     "a710761ea7b74d299d15e912c3ad0542": {
      "model_module": "@jupyter-widgets/controls",
      "model_module_version": "1.5.0",
      "model_name": "HBoxModel",
      "state": {
       "children": [
        "IPY_MODEL_bdbbabc742a945cdab7fad004b1a1424",
        "IPY_MODEL_fbd657add95a441992e46ec263ecb9f2",
        "IPY_MODEL_ccd567cef62e4229ae024be8d0be2452"
       ],
       "layout": "IPY_MODEL_ffae4808e8ac43c988fe7e80e9a4fb2d"
      }
     },
     "a7354c03d2734fb7a150dec9ffa0211e": {
      "model_module": "@jupyter-widgets/controls",
      "model_module_version": "1.5.0",
      "model_name": "HBoxModel",
      "state": {
       "children": [
        "IPY_MODEL_a6397f5321fb4e1c823ba591fbc3ceb6",
        "IPY_MODEL_f9caa022d021471e90aafe06489218c3",
        "IPY_MODEL_40fe8cbad7e044d8ae6b9390f7ee7aec"
       ],
       "layout": "IPY_MODEL_96dad7becc0f4d51ad7501e24a2d45e0"
      }
     },
     "a74e5a610bc347db8d50fa6f85cdec07": {
      "model_module": "@jupyter-widgets/base",
      "model_module_version": "1.2.0",
      "model_name": "LayoutModel",
      "state": {}
     },
     "a752fd9014304e0cac6bbb051beb9771": {
      "model_module": "@jupyter-widgets/base",
      "model_module_version": "1.2.0",
      "model_name": "LayoutModel",
      "state": {}
     },
     "a796ad68e7e744ecaa45bcf5fa0e7719": {
      "model_module": "@jupyter-widgets/controls",
      "model_module_version": "1.5.0",
      "model_name": "HTMLModel",
      "state": {
       "layout": "IPY_MODEL_0119d78b93914d40a93c826bf53ed3bb",
       "style": "IPY_MODEL_fa7d9d0b644648b0ab9b0da03fea34ac",
       "value": " 5/5 [00:05&lt;00:00,  1.00s/it]"
      }
     },
     "a799294d03e74613944117a98448d23e": {
      "model_module": "@jupyter-widgets/controls",
      "model_module_version": "1.5.0",
      "model_name": "HTMLModel",
      "state": {
       "layout": "IPY_MODEL_3897267b19444032beeb2013840390c0",
       "style": "IPY_MODEL_b9214d818de745b6aa78fe2e6eed79bb",
       "value": "100%"
      }
     },
     "a8309a18675b4383ae0b668287488a47": {
      "model_module": "@jupyter-widgets/controls",
      "model_module_version": "1.5.0",
      "model_name": "HBoxModel",
      "state": {
       "children": [
        "IPY_MODEL_b05c15404dc34576b6a00623a1890694",
        "IPY_MODEL_8713730aef234c81855e4a50fa851751",
        "IPY_MODEL_598ec0792d564e8ab7abf0f4038ee2e5"
       ],
       "layout": "IPY_MODEL_7198e96a9f1048e3a5e24ca310eb6504"
      }
     },
     "a89449dd9efc4df0b81100f378d844a0": {
      "model_module": "@jupyter-widgets/controls",
      "model_module_version": "1.5.0",
      "model_name": "HTMLModel",
      "state": {
       "layout": "IPY_MODEL_a4edb29976ab44dd92ee21a7e7dbb0b5",
       "style": "IPY_MODEL_3666029a111d4cdc9d61d42c70231cf8",
       "value": " 5/5 [12:51&lt;00:00, 154.11s/it]"
      }
     },
     "a8c2766e830340cca3dea45919ca3c52": {
      "model_module": "@jupyter-widgets/controls",
      "model_module_version": "1.5.0",
      "model_name": "ProgressStyleModel",
      "state": {
       "description_width": ""
      }
     },
     "a8f31c5f13cc4186adf52d13f16f65f0": {
      "model_module": "@jupyter-widgets/controls",
      "model_module_version": "1.5.0",
      "model_name": "HBoxModel",
      "state": {
       "children": [
        "IPY_MODEL_7707147f63104511b71f76dd2ecfef95",
        "IPY_MODEL_2e992cd0408045a183aa7f0960ffb600",
        "IPY_MODEL_4574ec61ffe84df0bc33886ddd04fd9f"
       ],
       "layout": "IPY_MODEL_e05fdcbf36e64b10bdf73f95332327cb"
      }
     },
     "a92ffe7eab0747a19e05bdb3e8e6fb7b": {
      "model_module": "@jupyter-widgets/controls",
      "model_module_version": "1.5.0",
      "model_name": "DescriptionStyleModel",
      "state": {
       "description_width": ""
      }
     },
     "a99d27962a194aa1bc61ba626dee701d": {
      "model_module": "@jupyter-widgets/controls",
      "model_module_version": "1.5.0",
      "model_name": "FloatProgressModel",
      "state": {
       "bar_style": "success",
       "layout": "IPY_MODEL_d16794e7bc604956a26a66a4a9556587",
       "max": 5,
       "style": "IPY_MODEL_656b9e5413d14f42a015689d8756f284",
       "value": 5
      }
     },
     "a9bbd2b9fa034a9c836acbab86128ed9": {
      "model_module": "@jupyter-widgets/controls",
      "model_module_version": "1.5.0",
      "model_name": "HTMLModel",
      "state": {
       "layout": "IPY_MODEL_0aee9624d31f40718a5579fbc54583af",
       "style": "IPY_MODEL_db32613330ff4c37a4b0b982067b3e1b",
       "value": " 5/5 [00:00&lt;00:00, 12.85it/s]"
      }
     },
     "a9bda66fb87b40a28753e328b91c7693": {
      "model_module": "@jupyter-widgets/controls",
      "model_module_version": "1.5.0",
      "model_name": "DescriptionStyleModel",
      "state": {
       "description_width": ""
      }
     },
     "a9ece978e7b940c4aed2ccc21ec7d3c5": {
      "model_module": "@jupyter-widgets/controls",
      "model_module_version": "1.5.0",
      "model_name": "HTMLModel",
      "state": {
       "layout": "IPY_MODEL_1539800c2fc140fc9ec7327969c41c2a",
       "style": "IPY_MODEL_e3b7ff493fca4d3485e6c1c2b077bf92",
       "value": "100%"
      }
     },
     "a9fee4de23c943dcb9bca5991d5af6dd": {
      "model_module": "@jupyter-widgets/controls",
      "model_module_version": "1.5.0",
      "model_name": "FloatProgressModel",
      "state": {
       "bar_style": "success",
       "layout": "IPY_MODEL_bb5e8ae1ce3f41fb9642618599c327a4",
       "max": 5,
       "style": "IPY_MODEL_c18cd80c037040539bbb8cb27faf6876",
       "value": 5
      }
     },
     "aa4d4ca5cdf74aae8cc1a7e12b6319bc": {
      "model_module": "@jupyter-widgets/controls",
      "model_module_version": "1.5.0",
      "model_name": "HTMLModel",
      "state": {
       "layout": "IPY_MODEL_449084d2414d4144ab475a226479f026",
       "style": "IPY_MODEL_75fb12c294cf424db33f6c3089432d6e",
       "value": " 5/5 [13:54&lt;00:00, 168.75s/it]"
      }
     },
     "aa58da4784474b4f9af7b7d1b4805474": {
      "model_module": "@jupyter-widgets/controls",
      "model_module_version": "1.5.0",
      "model_name": "HTMLModel",
      "state": {
       "layout": "IPY_MODEL_0eb6fff80b9d4a129e4103c7c54ea696",
       "style": "IPY_MODEL_919a482b5a064b03a477ec2ae6c1b2b7",
       "value": "100%"
      }
     },
     "aaa429fabeb54cb6bf24929af6d7b3ff": {
      "model_module": "@jupyter-widgets/controls",
      "model_module_version": "1.5.0",
      "model_name": "HBoxModel",
      "state": {
       "children": [
        "IPY_MODEL_a29e1f67bc034315b080471e94e582e1",
        "IPY_MODEL_9cc00c3021b14d8894031a7dd47926a7",
        "IPY_MODEL_bfc4774a5a5f4d0f9230022956cbcf0a"
       ],
       "layout": "IPY_MODEL_5527a41c48ac4b39b3dcf29f50a4c8d0"
      }
     },
     "ab30694a62cc4f22970c8c256536bc2b": {
      "model_module": "@jupyter-widgets/controls",
      "model_module_version": "1.5.0",
      "model_name": "DescriptionStyleModel",
      "state": {
       "description_width": ""
      }
     },
     "ab5fdb2c5b564a69ab5c090a5894ebf1": {
      "model_module": "@jupyter-widgets/controls",
      "model_module_version": "1.5.0",
      "model_name": "DescriptionStyleModel",
      "state": {
       "description_width": ""
      }
     },
     "ac99b5b74d0d4d239a2c178956112b15": {
      "model_module": "@jupyter-widgets/controls",
      "model_module_version": "1.5.0",
      "model_name": "HTMLModel",
      "state": {
       "layout": "IPY_MODEL_b317155aa59d493e85305590bd73a0c8",
       "style": "IPY_MODEL_5742452243e541cda7a456a7351ec58e",
       "value": " 5/5 [14:17&lt;00:00, 171.45s/it]"
      }
     },
     "acfd277e1453454d9550e3706410381b": {
      "model_module": "@jupyter-widgets/controls",
      "model_module_version": "1.5.0",
      "model_name": "DescriptionStyleModel",
      "state": {
       "description_width": ""
      }
     },
     "ad74bb2cfcdc4ee88e5d006a139c0bf7": {
      "model_module": "@jupyter-widgets/base",
      "model_module_version": "1.2.0",
      "model_name": "LayoutModel",
      "state": {}
     },
     "adb620850aea49fdaefcd30de0f38317": {
      "model_module": "@jupyter-widgets/base",
      "model_module_version": "1.2.0",
      "model_name": "LayoutModel",
      "state": {}
     },
     "ade81211949146329034ed4b6445c39b": {
      "model_module": "@jupyter-widgets/base",
      "model_module_version": "1.2.0",
      "model_name": "LayoutModel",
      "state": {}
     },
     "ae0194dc7aa5433a9efab2af2f867890": {
      "model_module": "@jupyter-widgets/controls",
      "model_module_version": "1.5.0",
      "model_name": "DescriptionStyleModel",
      "state": {
       "description_width": ""
      }
     },
     "ae20834006f940c1a25b25bc58c94825": {
      "model_module": "@jupyter-widgets/base",
      "model_module_version": "1.2.0",
      "model_name": "LayoutModel",
      "state": {}
     },
     "ae66082986774d089d9d70fca24b4d10": {
      "model_module": "@jupyter-widgets/controls",
      "model_module_version": "1.5.0",
      "model_name": "ProgressStyleModel",
      "state": {
       "description_width": ""
      }
     },
     "ae726be80e564ae18889d2427465e1e5": {
      "model_module": "@jupyter-widgets/controls",
      "model_module_version": "1.5.0",
      "model_name": "FloatProgressModel",
      "state": {
       "bar_style": "success",
       "layout": "IPY_MODEL_052a5f5e32614c42b4d1434d2ac9d97b",
       "max": 5,
       "style": "IPY_MODEL_337c34e501f14f21a078ab80475f3103",
       "value": 5
      }
     },
     "ae8941278a7643619925efa31fcbb6cd": {
      "model_module": "@jupyter-widgets/controls",
      "model_module_version": "1.5.0",
      "model_name": "FloatProgressModel",
      "state": {
       "bar_style": "success",
       "layout": "IPY_MODEL_b03e0af9075e4fada49f2684f97263cf",
       "max": 5,
       "style": "IPY_MODEL_664dbc64547c435b8675368301a3037d",
       "value": 5
      }
     },
     "aed83756061844f794205a0f8aab0e4f": {
      "model_module": "@jupyter-widgets/base",
      "model_module_version": "1.2.0",
      "model_name": "LayoutModel",
      "state": {}
     },
     "aee1ba5044344fd2ac6874a5fb149b47": {
      "model_module": "@jupyter-widgets/controls",
      "model_module_version": "1.5.0",
      "model_name": "DescriptionStyleModel",
      "state": {
       "description_width": ""
      }
     },
     "af8044f2015242c09afa9ff4ee3ab6da": {
      "model_module": "@jupyter-widgets/base",
      "model_module_version": "1.2.0",
      "model_name": "LayoutModel",
      "state": {}
     },
     "af93342685394589a4d563e6e3b7b305": {
      "model_module": "@jupyter-widgets/controls",
      "model_module_version": "1.5.0",
      "model_name": "DescriptionStyleModel",
      "state": {
       "description_width": ""
      }
     },
     "b00d4b5674064ee19c4a4a5795da0939": {
      "model_module": "@jupyter-widgets/controls",
      "model_module_version": "1.5.0",
      "model_name": "HTMLModel",
      "state": {
       "layout": "IPY_MODEL_af8044f2015242c09afa9ff4ee3ab6da",
       "style": "IPY_MODEL_261617e45e7c416cb1d2ecf099207ff4",
       "value": "100%"
      }
     },
     "b015c87f91da4adfaa2a4a07d560cbc2": {
      "model_module": "@jupyter-widgets/controls",
      "model_module_version": "1.5.0",
      "model_name": "DescriptionStyleModel",
      "state": {
       "description_width": ""
      }
     },
     "b03e0af9075e4fada49f2684f97263cf": {
      "model_module": "@jupyter-widgets/base",
      "model_module_version": "1.2.0",
      "model_name": "LayoutModel",
      "state": {}
     },
     "b05c15404dc34576b6a00623a1890694": {
      "model_module": "@jupyter-widgets/controls",
      "model_module_version": "1.5.0",
      "model_name": "HTMLModel",
      "state": {
       "layout": "IPY_MODEL_54e65de09205426885fb6161ae4f4b78",
       "style": "IPY_MODEL_1c9c085a08e840eb8d33e3e65d730982",
       "value": "100%"
      }
     },
     "b0720bbc4bc040ffb27df16006fd7a3b": {
      "model_module": "@jupyter-widgets/base",
      "model_module_version": "1.2.0",
      "model_name": "LayoutModel",
      "state": {}
     },
     "b08785ba75c240b5a094d05948afc4c3": {
      "model_module": "@jupyter-widgets/controls",
      "model_module_version": "1.5.0",
      "model_name": "HTMLModel",
      "state": {
       "layout": "IPY_MODEL_346f31158fe346458f5688c980e789b6",
       "style": "IPY_MODEL_12f39e7089614b1c84a431c8e0f3870d",
       "value": "100%"
      }
     },
     "b0961c569d5a4af3bb6a0f67750942ea": {
      "model_module": "@jupyter-widgets/controls",
      "model_module_version": "1.5.0",
      "model_name": "ProgressStyleModel",
      "state": {
       "description_width": ""
      }
     },
     "b1266e231fe4434a89a0bb260e1b6282": {
      "model_module": "@jupyter-widgets/base",
      "model_module_version": "1.2.0",
      "model_name": "LayoutModel",
      "state": {}
     },
     "b14a9fdc9cbf4ad4b5f5abce1cd551cb": {
      "model_module": "@jupyter-widgets/controls",
      "model_module_version": "1.5.0",
      "model_name": "HTMLModel",
      "state": {
       "layout": "IPY_MODEL_888db0b467374a86b6be36deacf727d9",
       "style": "IPY_MODEL_ab30694a62cc4f22970c8c256536bc2b",
       "value": "100%"
      }
     },
     "b215f91279bf4e0eb5f7827be2a5bbb8": {
      "model_module": "@jupyter-widgets/base",
      "model_module_version": "1.2.0",
      "model_name": "LayoutModel",
      "state": {}
     },
     "b2b4f99e33b1478dbaf2b3406142ee22": {
      "model_module": "@jupyter-widgets/controls",
      "model_module_version": "1.5.0",
      "model_name": "FloatProgressModel",
      "state": {
       "bar_style": "success",
       "layout": "IPY_MODEL_830fe7bcd37a433c82e9ffe92033f18f",
       "max": 5,
       "style": "IPY_MODEL_d135d4c16fa84e6cb43e6decfb92b116",
       "value": 5
      }
     },
     "b2d1b86c8c7a419dae3b155cfc5127fb": {
      "model_module": "@jupyter-widgets/controls",
      "model_module_version": "1.5.0",
      "model_name": "DescriptionStyleModel",
      "state": {
       "description_width": ""
      }
     },
     "b2d39a44169842d19084839b32f0dc78": {
      "model_module": "@jupyter-widgets/controls",
      "model_module_version": "1.5.0",
      "model_name": "HBoxModel",
      "state": {
       "children": [
        "IPY_MODEL_f941270565c94207a8355b4acb517d9b",
        "IPY_MODEL_a489f7d720a842a7aef9c2ecc619b218",
        "IPY_MODEL_fd2b6e6de42342809da50d7d73af86bf"
       ],
       "layout": "IPY_MODEL_05922c812bda4a4b99972be634bb19d2"
      }
     },
     "b317155aa59d493e85305590bd73a0c8": {
      "model_module": "@jupyter-widgets/base",
      "model_module_version": "1.2.0",
      "model_name": "LayoutModel",
      "state": {}
     },
     "b38e84e9c1c1472ab8fef141b4c60708": {
      "model_module": "@jupyter-widgets/controls",
      "model_module_version": "1.5.0",
      "model_name": "DescriptionStyleModel",
      "state": {
       "description_width": ""
      }
     },
     "b3bf571c907640ec975761bba7ed53ad": {
      "model_module": "@jupyter-widgets/controls",
      "model_module_version": "1.5.0",
      "model_name": "HTMLModel",
      "state": {
       "layout": "IPY_MODEL_c9b8957734be4b2c922dfb248437f5a9",
       "style": "IPY_MODEL_ab5fdb2c5b564a69ab5c090a5894ebf1",
       "value": "100%"
      }
     },
     "b3dfcdf879d448df852eebf3547a3ac0": {
      "model_module": "@jupyter-widgets/base",
      "model_module_version": "1.2.0",
      "model_name": "LayoutModel",
      "state": {}
     },
     "b4c6c05e1e2742778452d3a0d7edc6b5": {
      "model_module": "@jupyter-widgets/controls",
      "model_module_version": "1.5.0",
      "model_name": "HBoxModel",
      "state": {
       "children": [
        "IPY_MODEL_bf24425fa03b46f2a0a80e9f5fd0b375",
        "IPY_MODEL_67161816629c47448f1b073f7096f6cd",
        "IPY_MODEL_63ee5a75f9824f2b94aa4c6c765e6b5d"
       ],
       "layout": "IPY_MODEL_ad74bb2cfcdc4ee88e5d006a139c0bf7"
      }
     },
     "b4dbf3157e1a45fda5e9da35e3068493": {
      "model_module": "@jupyter-widgets/base",
      "model_module_version": "1.2.0",
      "model_name": "LayoutModel",
      "state": {}
     },
     "b54075bfc8b04707a37caf0adfd2ba53": {
      "model_module": "@jupyter-widgets/controls",
      "model_module_version": "1.5.0",
      "model_name": "HTMLModel",
      "state": {
       "layout": "IPY_MODEL_b60025fafa964db28ec70c37f6132fdf",
       "style": "IPY_MODEL_81e6bbd729d54c80bfdba322a8350e03",
       "value": "100%"
      }
     },
     "b5ca0e960d054053a7eac5b4b1c9764f": {
      "model_module": "@jupyter-widgets/controls",
      "model_module_version": "1.5.0",
      "model_name": "ProgressStyleModel",
      "state": {
       "description_width": ""
      }
     },
     "b5f90a2e10814f589ef1a04b8cff7523": {
      "model_module": "@jupyter-widgets/base",
      "model_module_version": "1.2.0",
      "model_name": "LayoutModel",
      "state": {}
     },
     "b60025fafa964db28ec70c37f6132fdf": {
      "model_module": "@jupyter-widgets/base",
      "model_module_version": "1.2.0",
      "model_name": "LayoutModel",
      "state": {}
     },
     "b679c3936977494a8da919cf1cdcfefb": {
      "model_module": "@jupyter-widgets/controls",
      "model_module_version": "1.5.0",
      "model_name": "DescriptionStyleModel",
      "state": {
       "description_width": ""
      }
     },
     "b693bd56b02347b489461b0ba1b4fd88": {
      "model_module": "@jupyter-widgets/base",
      "model_module_version": "1.2.0",
      "model_name": "LayoutModel",
      "state": {}
     },
     "b6bc195b16f74afabf97356b7b77d610": {
      "model_module": "@jupyter-widgets/controls",
      "model_module_version": "1.5.0",
      "model_name": "DescriptionStyleModel",
      "state": {
       "description_width": ""
      }
     },
     "b70128e9565b4b3581b362d6211ab681": {
      "model_module": "@jupyter-widgets/base",
      "model_module_version": "1.2.0",
      "model_name": "LayoutModel",
      "state": {}
     },
     "b70b8d30386c4bb388757acd282a5acb": {
      "model_module": "@jupyter-widgets/controls",
      "model_module_version": "1.5.0",
      "model_name": "DescriptionStyleModel",
      "state": {
       "description_width": ""
      }
     },
     "b7130ebbb8b34a1ba3022614c443c8a1": {
      "model_module": "@jupyter-widgets/controls",
      "model_module_version": "1.5.0",
      "model_name": "ProgressStyleModel",
      "state": {
       "description_width": ""
      }
     },
     "b764785d5b4142e3be993205af920e44": {
      "model_module": "@jupyter-widgets/base",
      "model_module_version": "1.2.0",
      "model_name": "LayoutModel",
      "state": {}
     },
     "b7756e23a9aa4bae97dceb646c06c315": {
      "model_module": "@jupyter-widgets/controls",
      "model_module_version": "1.5.0",
      "model_name": "DescriptionStyleModel",
      "state": {
       "description_width": ""
      }
     },
     "b7892d431c6d438bba6821bfe52b367b": {
      "model_module": "@jupyter-widgets/controls",
      "model_module_version": "1.5.0",
      "model_name": "HTMLModel",
      "state": {
       "layout": "IPY_MODEL_648fcf7fe303457ea38266e90b7ac522",
       "style": "IPY_MODEL_4b804c46c34a489dbc86ec53faf1c0c6",
       "value": " 5/5 [00:04&lt;00:00,  1.02it/s]"
      }
     },
     "b7c7935164814d5384d99f6379e1a370": {
      "model_module": "@jupyter-widgets/base",
      "model_module_version": "1.2.0",
      "model_name": "LayoutModel",
      "state": {}
     },
     "b9214d818de745b6aa78fe2e6eed79bb": {
      "model_module": "@jupyter-widgets/controls",
      "model_module_version": "1.5.0",
      "model_name": "DescriptionStyleModel",
      "state": {
       "description_width": ""
      }
     },
     "b9771ecc99ae4f35a99641916e9e1348": {
      "model_module": "@jupyter-widgets/controls",
      "model_module_version": "1.5.0",
      "model_name": "DescriptionStyleModel",
      "state": {
       "description_width": ""
      }
     },
     "b999238ad6e84417a715b082e4a45742": {
      "model_module": "@jupyter-widgets/base",
      "model_module_version": "1.2.0",
      "model_name": "LayoutModel",
      "state": {}
     },
     "b9da2efffe1e4fb5956042246fcf3606": {
      "model_module": "@jupyter-widgets/base",
      "model_module_version": "1.2.0",
      "model_name": "LayoutModel",
      "state": {}
     },
     "ba360481777f4097bf44b39a5f27a523": {
      "model_module": "@jupyter-widgets/controls",
      "model_module_version": "1.5.0",
      "model_name": "DescriptionStyleModel",
      "state": {
       "description_width": ""
      }
     },
     "ba6c40a7a1c9418b9b231908fdd84988": {
      "model_module": "@jupyter-widgets/base",
      "model_module_version": "1.2.0",
      "model_name": "LayoutModel",
      "state": {}
     },
     "ba7166087d044a8ba97c49c2ddbf312e": {
      "model_module": "@jupyter-widgets/controls",
      "model_module_version": "1.5.0",
      "model_name": "HBoxModel",
      "state": {
       "children": [
        "IPY_MODEL_6007ca8bd30e424f9b200ee22fdc4538",
        "IPY_MODEL_8c8d12a335fe432783a5370716261a05",
        "IPY_MODEL_98bb309def2b48bd89b90520773b1c27"
       ],
       "layout": "IPY_MODEL_c76ed4c321e6406b8f90481e00d1ddeb"
      }
     },
     "baa1304d6d474135b447555b380dbdc1": {
      "model_module": "@jupyter-widgets/controls",
      "model_module_version": "1.5.0",
      "model_name": "FloatProgressModel",
      "state": {
       "bar_style": "success",
       "layout": "IPY_MODEL_c7f6766dd92f45e5a91d42359978673b",
       "max": 5,
       "style": "IPY_MODEL_bb809509d2c34c93a79d4135b01852a2",
       "value": 5
      }
     },
     "bab5c6919eaf42ed872e9975ddfdd949": {
      "model_module": "@jupyter-widgets/controls",
      "model_module_version": "1.5.0",
      "model_name": "DescriptionStyleModel",
      "state": {
       "description_width": ""
      }
     },
     "babe9a91009c4094a4f74fadda396a1a": {
      "model_module": "@jupyter-widgets/controls",
      "model_module_version": "1.5.0",
      "model_name": "FloatProgressModel",
      "state": {
       "bar_style": "success",
       "layout": "IPY_MODEL_20d02f2ff20f47ab88205e859d1bd39d",
       "max": 5,
       "style": "IPY_MODEL_0a92ab6a88fc48009a9914d851c2eacc",
       "value": 5
      }
     },
     "bb192d12b80747d1b7b5f7e66c084d1b": {
      "model_module": "@jupyter-widgets/base",
      "model_module_version": "1.2.0",
      "model_name": "LayoutModel",
      "state": {}
     },
     "bb421aabcd9c42958ab3f2061f2a306a": {
      "model_module": "@jupyter-widgets/controls",
      "model_module_version": "1.5.0",
      "model_name": "DescriptionStyleModel",
      "state": {
       "description_width": ""
      }
     },
     "bb5e8ae1ce3f41fb9642618599c327a4": {
      "model_module": "@jupyter-widgets/base",
      "model_module_version": "1.2.0",
      "model_name": "LayoutModel",
      "state": {}
     },
     "bb809509d2c34c93a79d4135b01852a2": {
      "model_module": "@jupyter-widgets/controls",
      "model_module_version": "1.5.0",
      "model_name": "ProgressStyleModel",
      "state": {
       "description_width": ""
      }
     },
     "bbc390d804214e56bec46fe60325e0b3": {
      "model_module": "@jupyter-widgets/controls",
      "model_module_version": "1.5.0",
      "model_name": "FloatProgressModel",
      "state": {
       "bar_style": "success",
       "layout": "IPY_MODEL_9d8dbf905ab74125995647670b91bae9",
       "max": 5,
       "style": "IPY_MODEL_e4e6c0bf3406400fb89dae9ee390373b",
       "value": 5
      }
     },
     "bc1414011bcf4b87a57a477b831422c3": {
      "model_module": "@jupyter-widgets/controls",
      "model_module_version": "1.5.0",
      "model_name": "DescriptionStyleModel",
      "state": {
       "description_width": ""
      }
     },
     "bc1cee5dda3242b5918dd80a00c0b457": {
      "model_module": "@jupyter-widgets/base",
      "model_module_version": "1.2.0",
      "model_name": "LayoutModel",
      "state": {}
     },
     "bc6b8fb96a82488c9dfea6c448ef39ff": {
      "model_module": "@jupyter-widgets/controls",
      "model_module_version": "1.5.0",
      "model_name": "DescriptionStyleModel",
      "state": {
       "description_width": ""
      }
     },
     "bc7429dfc41c463ba29a661489f3d0ad": {
      "model_module": "@jupyter-widgets/controls",
      "model_module_version": "1.5.0",
      "model_name": "HTMLModel",
      "state": {
       "layout": "IPY_MODEL_daa76f1676f940ce8068bcb5c1b9cd69",
       "style": "IPY_MODEL_529e9d14d6d54f1c904a2f7c82f47987",
       "value": " 5/5 [13:34&lt;00:00, 160.91s/it]"
      }
     },
     "bce67aa18f8942efbc8c6c3de8c69ac5": {
      "model_module": "@jupyter-widgets/controls",
      "model_module_version": "1.5.0",
      "model_name": "FloatProgressModel",
      "state": {
       "bar_style": "success",
       "layout": "IPY_MODEL_7903b1e8e4634e32819290c97c642699",
       "max": 5,
       "style": "IPY_MODEL_43ccc9d7e50c4844b0e9aece78aa9ec2",
       "value": 5
      }
     },
     "bd2aca03f013466abffc1b474186ae59": {
      "model_module": "@jupyter-widgets/controls",
      "model_module_version": "1.5.0",
      "model_name": "DescriptionStyleModel",
      "state": {
       "description_width": ""
      }
     },
     "bd577f794d844e1f848896c7c689d6eb": {
      "model_module": "@jupyter-widgets/controls",
      "model_module_version": "1.5.0",
      "model_name": "DescriptionStyleModel",
      "state": {
       "description_width": ""
      }
     },
     "bd79189ea86b4eda943278d25f536609": {
      "model_module": "@jupyter-widgets/controls",
      "model_module_version": "1.5.0",
      "model_name": "DescriptionStyleModel",
      "state": {
       "description_width": ""
      }
     },
     "bdbbabc742a945cdab7fad004b1a1424": {
      "model_module": "@jupyter-widgets/controls",
      "model_module_version": "1.5.0",
      "model_name": "HTMLModel",
      "state": {
       "layout": "IPY_MODEL_18746eb38d064d52a617f8edc2aa2916",
       "style": "IPY_MODEL_c2f43941b46d4de89fc9d252f6b69105",
       "value": "  0%"
      }
     },
     "bdf11e701ae640758349df1dd9ac7494": {
      "model_module": "@jupyter-widgets/controls",
      "model_module_version": "1.5.0",
      "model_name": "HTMLModel",
      "state": {
       "layout": "IPY_MODEL_83b5b4925467457fb1cb99c6f1799471",
       "style": "IPY_MODEL_7cce8d98f36f4dda826376a675e69ff8",
       "value": " 5/5 [12:36&lt;00:00, 151.21s/it]"
      }
     },
     "bdffed28ed434ce2a6872a4ece53ddba": {
      "model_module": "@jupyter-widgets/base",
      "model_module_version": "1.2.0",
      "model_name": "LayoutModel",
      "state": {}
     },
     "be5fd8ab4e3043cabb2c200becd9695d": {
      "model_module": "@jupyter-widgets/controls",
      "model_module_version": "1.5.0",
      "model_name": "DescriptionStyleModel",
      "state": {
       "description_width": ""
      }
     },
     "be6a67d20143490599b5b0f4959d0400": {
      "model_module": "@jupyter-widgets/base",
      "model_module_version": "1.2.0",
      "model_name": "LayoutModel",
      "state": {}
     },
     "bec7d907e01a4a0d94bc09e15accb02f": {
      "model_module": "@jupyter-widgets/controls",
      "model_module_version": "1.5.0",
      "model_name": "HTMLModel",
      "state": {
       "layout": "IPY_MODEL_bf4da3c7c1ee4b8dab4c380d54be4a62",
       "style": "IPY_MODEL_bd2aca03f013466abffc1b474186ae59",
       "value": "100%"
      }
     },
     "bf24425fa03b46f2a0a80e9f5fd0b375": {
      "model_module": "@jupyter-widgets/controls",
      "model_module_version": "1.5.0",
      "model_name": "HTMLModel",
      "state": {
       "layout": "IPY_MODEL_b215f91279bf4e0eb5f7827be2a5bbb8",
       "style": "IPY_MODEL_3a9ca27fbcc74fdbb54885654f65d59b",
       "value": "100%"
      }
     },
     "bf4be582edae43e78fa8be31efc276f0": {
      "model_module": "@jupyter-widgets/controls",
      "model_module_version": "1.5.0",
      "model_name": "FloatProgressModel",
      "state": {
       "bar_style": "danger",
       "layout": "IPY_MODEL_10b7340956e046109c742c7b1021ab62",
       "max": 5,
       "style": "IPY_MODEL_ca451b42b8b64d61ad06deb8753aaee9",
       "value": 1
      }
     },
     "bf4da3c7c1ee4b8dab4c380d54be4a62": {
      "model_module": "@jupyter-widgets/base",
      "model_module_version": "1.2.0",
      "model_name": "LayoutModel",
      "state": {}
     },
     "bfc4774a5a5f4d0f9230022956cbcf0a": {
      "model_module": "@jupyter-widgets/controls",
      "model_module_version": "1.5.0",
      "model_name": "HTMLModel",
      "state": {
       "layout": "IPY_MODEL_da91f48a9fbc4af19105def763ecfc17",
       "style": "IPY_MODEL_d20b81652f004ea695cecc2c04732caf",
       "value": " 5/5 [12:44&lt;00:00, 152.84s/it]"
      }
     },
     "c05e27e7b7744d9db2be2028757f05b9": {
      "model_module": "@jupyter-widgets/base",
      "model_module_version": "1.2.0",
      "model_name": "LayoutModel",
      "state": {}
     },
     "c070bc3dd09049519edd1c080e2c7be5": {
      "model_module": "@jupyter-widgets/controls",
      "model_module_version": "1.5.0",
      "model_name": "FloatProgressModel",
      "state": {
       "bar_style": "success",
       "layout": "IPY_MODEL_9dc86aee373240dda71bf5d256fdaca9",
       "max": 5,
       "style": "IPY_MODEL_d1dafde53f5f4eab92dc960220080f51",
       "value": 5
      }
     },
     "c07920d9bbf44466b4e155ae36213b93": {
      "model_module": "@jupyter-widgets/controls",
      "model_module_version": "1.5.0",
      "model_name": "DescriptionStyleModel",
      "state": {
       "description_width": ""
      }
     },
     "c08bd854d0a94abc93a577402353fd6a": {
      "model_module": "@jupyter-widgets/controls",
      "model_module_version": "1.5.0",
      "model_name": "HBoxModel",
      "state": {
       "children": [
        "IPY_MODEL_6e7b0652f2e248f3978637e8384329a2",
        "IPY_MODEL_881f825aafac41429e5436965d5a2616",
        "IPY_MODEL_10ca300c141447d1a589373d6786dfab"
       ],
       "layout": "IPY_MODEL_dc019aa261134df0a380dde7ade2729f"
      }
     },
     "c08c236b2ed9468e850637f094bcb770": {
      "model_module": "@jupyter-widgets/controls",
      "model_module_version": "1.5.0",
      "model_name": "FloatProgressModel",
      "state": {
       "bar_style": "success",
       "layout": "IPY_MODEL_c1fba9719f2845d4ac3f72775a3ab00d",
       "max": 5,
       "style": "IPY_MODEL_b0961c569d5a4af3bb6a0f67750942ea",
       "value": 5
      }
     },
     "c1143991e5d948d0be92b9b1fb013541": {
      "model_module": "@jupyter-widgets/controls",
      "model_module_version": "1.5.0",
      "model_name": "HBoxModel",
      "state": {
       "children": [
        "IPY_MODEL_59b7cbf774dd4ebfa6b2f48b89cee696",
        "IPY_MODEL_230be212b4834368b1d1d87e25c0520d",
        "IPY_MODEL_489b5f2186ad4f2fa160e3c667ec9dfc"
       ],
       "layout": "IPY_MODEL_c47795595e66497e8590d53312ada1df"
      }
     },
     "c173dfc9039f4c55abe1c4ba93968264": {
      "model_module": "@jupyter-widgets/controls",
      "model_module_version": "1.5.0",
      "model_name": "HTMLModel",
      "state": {
       "layout": "IPY_MODEL_fe86924d599a45a8955f9496922ac657",
       "style": "IPY_MODEL_bc1414011bcf4b87a57a477b831422c3",
       "value": "100%"
      }
     },
     "c18cd80c037040539bbb8cb27faf6876": {
      "model_module": "@jupyter-widgets/controls",
      "model_module_version": "1.5.0",
      "model_name": "ProgressStyleModel",
      "state": {
       "description_width": ""
      }
     },
     "c1c2b8ccc65b470a8dac6341bb2481ff": {
      "model_module": "@jupyter-widgets/controls",
      "model_module_version": "1.5.0",
      "model_name": "FloatProgressModel",
      "state": {
       "bar_style": "success",
       "layout": "IPY_MODEL_9516b0ae0457418ebefb8466021d71cc",
       "max": 5,
       "style": "IPY_MODEL_6055c74dab434f119c1b707044027e15",
       "value": 5
      }
     },
     "c1fba9719f2845d4ac3f72775a3ab00d": {
      "model_module": "@jupyter-widgets/base",
      "model_module_version": "1.2.0",
      "model_name": "LayoutModel",
      "state": {}
     },
     "c203a007850a48b099d7c7ec6a8c2eac": {
      "model_module": "@jupyter-widgets/base",
      "model_module_version": "1.2.0",
      "model_name": "LayoutModel",
      "state": {}
     },
     "c21ffaa734c24681bc5c7df716064752": {
      "model_module": "@jupyter-widgets/base",
      "model_module_version": "1.2.0",
      "model_name": "LayoutModel",
      "state": {}
     },
     "c27308543e29457fae9820b98dbe79b3": {
      "model_module": "@jupyter-widgets/controls",
      "model_module_version": "1.5.0",
      "model_name": "ProgressStyleModel",
      "state": {
       "description_width": ""
      }
     },
     "c27f046b4e0e4558bd49b0d1ba6639f0": {
      "model_module": "@jupyter-widgets/controls",
      "model_module_version": "1.5.0",
      "model_name": "HTMLModel",
      "state": {
       "layout": "IPY_MODEL_107e644ef8814a3b9066b3d2836e076a",
       "style": "IPY_MODEL_629195f536fb4a2fa76b3c2016e2f021",
       "value": "100%"
      }
     },
     "c280b6184933432686a6a71c17141678": {
      "model_module": "@jupyter-widgets/controls",
      "model_module_version": "1.5.0",
      "model_name": "HTMLModel",
      "state": {
       "layout": "IPY_MODEL_b0720bbc4bc040ffb27df16006fd7a3b",
       "style": "IPY_MODEL_e549dba1f1fc4b6488ff019844e758d0",
       "value": " 5/5 [00:05&lt;00:00,  1.09s/it]"
      }
     },
     "c2c2fb9114ff414899abb01f11093b1c": {
      "model_module": "@jupyter-widgets/base",
      "model_module_version": "1.2.0",
      "model_name": "LayoutModel",
      "state": {}
     },
     "c2ec26901655448fbd1ed6d82f46ece0": {
      "model_module": "@jupyter-widgets/controls",
      "model_module_version": "1.5.0",
      "model_name": "HBoxModel",
      "state": {
       "children": [
        "IPY_MODEL_bec7d907e01a4a0d94bc09e15accb02f",
        "IPY_MODEL_732de88bc76542048c00a8add8c5ac8e",
        "IPY_MODEL_fbd68ada16724129ac8794036260f2bd"
       ],
       "layout": "IPY_MODEL_135915f245a74c0281239e2c02db187e"
      }
     },
     "c2f43941b46d4de89fc9d252f6b69105": {
      "model_module": "@jupyter-widgets/controls",
      "model_module_version": "1.5.0",
      "model_name": "DescriptionStyleModel",
      "state": {
       "description_width": ""
      }
     },
     "c3892516398d4faea6bab9a0c11f2d2f": {
      "model_module": "@jupyter-widgets/base",
      "model_module_version": "1.2.0",
      "model_name": "LayoutModel",
      "state": {}
     },
     "c38c40e4792b4f3cb816ee0b88980f31": {
      "model_module": "@jupyter-widgets/controls",
      "model_module_version": "1.5.0",
      "model_name": "FloatProgressModel",
      "state": {
       "bar_style": "success",
       "layout": "IPY_MODEL_4eb6eb0b76164e8499c268904b8ab2eb",
       "max": 5,
       "style": "IPY_MODEL_6a6699bc3e3846f48c2419bc14dcb300",
       "value": 5
      }
     },
     "c413d2f5e59b439782344d76be84188b": {
      "model_module": "@jupyter-widgets/controls",
      "model_module_version": "1.5.0",
      "model_name": "HBoxModel",
      "state": {
       "children": [
        "IPY_MODEL_b08785ba75c240b5a094d05948afc4c3",
        "IPY_MODEL_baa1304d6d474135b447555b380dbdc1",
        "IPY_MODEL_a796ad68e7e744ecaa45bcf5fa0e7719"
       ],
       "layout": "IPY_MODEL_6edbe7de63014877a5a212ebb3c3eda8"
      }
     },
     "c4536e4e6c4e4955945d18c6907e3f51": {
      "model_module": "@jupyter-widgets/base",
      "model_module_version": "1.2.0",
      "model_name": "LayoutModel",
      "state": {}
     },
     "c47795595e66497e8590d53312ada1df": {
      "model_module": "@jupyter-widgets/base",
      "model_module_version": "1.2.0",
      "model_name": "LayoutModel",
      "state": {}
     },
     "c4d952069d3c4bd38783361427d32192": {
      "model_module": "@jupyter-widgets/base",
      "model_module_version": "1.2.0",
      "model_name": "LayoutModel",
      "state": {}
     },
     "c5ab654d624f4c1abcc0256ed63fedae": {
      "model_module": "@jupyter-widgets/controls",
      "model_module_version": "1.5.0",
      "model_name": "DescriptionStyleModel",
      "state": {
       "description_width": ""
      }
     },
     "c5d8e5e0273d40a392f3e7a7b680b41d": {
      "model_module": "@jupyter-widgets/base",
      "model_module_version": "1.2.0",
      "model_name": "LayoutModel",
      "state": {}
     },
     "c6af08dd9cc346b78993682f0009aeae": {
      "model_module": "@jupyter-widgets/controls",
      "model_module_version": "1.5.0",
      "model_name": "FloatProgressModel",
      "state": {
       "bar_style": "success",
       "layout": "IPY_MODEL_d7ec9745af9b4d2a936315362ab7e676",
       "max": 5,
       "style": "IPY_MODEL_2a4cac573ddd4200a220b79f9cc640e6",
       "value": 5
      }
     },
     "c6c9dfc82f3747c8afc2c0247682ba4f": {
      "model_module": "@jupyter-widgets/controls",
      "model_module_version": "1.5.0",
      "model_name": "HBoxModel",
      "state": {
       "children": [
        "IPY_MODEL_4503c7de1d53493a9fc654fe3fb2b84e",
        "IPY_MODEL_8f3f73facf444551849576da7483320f",
        "IPY_MODEL_f5fe72caf8fc42bd9e3b161d172e0e65"
       ],
       "layout": "IPY_MODEL_2f069d8ea8ea43cb99941b02bc720644"
      }
     },
     "c6ec0a8112a546548919e8f7920b10d1": {
      "model_module": "@jupyter-widgets/controls",
      "model_module_version": "1.5.0",
      "model_name": "DescriptionStyleModel",
      "state": {
       "description_width": ""
      }
     },
     "c73cc373b8684f5bb3b55d8d65462c32": {
      "model_module": "@jupyter-widgets/base",
      "model_module_version": "1.2.0",
      "model_name": "LayoutModel",
      "state": {}
     },
     "c76ed4c321e6406b8f90481e00d1ddeb": {
      "model_module": "@jupyter-widgets/base",
      "model_module_version": "1.2.0",
      "model_name": "LayoutModel",
      "state": {}
     },
     "c79bb9184c0a4fee9957866d64a85e93": {
      "model_module": "@jupyter-widgets/controls",
      "model_module_version": "1.5.0",
      "model_name": "DescriptionStyleModel",
      "state": {
       "description_width": ""
      }
     },
     "c7ba60874fef46d0ac925c27da8a884e": {
      "model_module": "@jupyter-widgets/controls",
      "model_module_version": "1.5.0",
      "model_name": "DescriptionStyleModel",
      "state": {
       "description_width": ""
      }
     },
     "c7ceb287649a47b4a9438a5e61e12909": {
      "model_module": "@jupyter-widgets/controls",
      "model_module_version": "1.5.0",
      "model_name": "HTMLModel",
      "state": {
       "layout": "IPY_MODEL_2ea4369e8efe4740acfb18c10eafef5d",
       "style": "IPY_MODEL_98338c32d4974b4095e63ae4c076b677",
       "value": " 5/5 [00:04&lt;00:00,  1.06it/s]"
      }
     },
     "c7f6766dd92f45e5a91d42359978673b": {
      "model_module": "@jupyter-widgets/base",
      "model_module_version": "1.2.0",
      "model_name": "LayoutModel",
      "state": {}
     },
     "c83349eb6e8f4288865e07ad3531fbc7": {
      "model_module": "@jupyter-widgets/controls",
      "model_module_version": "1.5.0",
      "model_name": "DescriptionStyleModel",
      "state": {
       "description_width": ""
      }
     },
     "c9a1ceea8a6643099bee05d8f5a7e47a": {
      "model_module": "@jupyter-widgets/controls",
      "model_module_version": "1.5.0",
      "model_name": "HTMLModel",
      "state": {
       "layout": "IPY_MODEL_f1a287b16fa5497cb84e4d807dd5e3e1",
       "style": "IPY_MODEL_bd79189ea86b4eda943278d25f536609",
       "value": "100%"
      }
     },
     "c9adde7fafbc4d1db6d637dd48ba4e0c": {
      "model_module": "@jupyter-widgets/controls",
      "model_module_version": "1.5.0",
      "model_name": "HBoxModel",
      "state": {
       "children": [
        "IPY_MODEL_92dbfe3702134eccb1f8751f34ade868",
        "IPY_MODEL_2128f1213f734e618629078534a501e4",
        "IPY_MODEL_621d10227b7a4caea1af1b7f5c74f8d5"
       ],
       "layout": "IPY_MODEL_338d7d0943da447fb45810fb433b471a"
      }
     },
     "c9b8957734be4b2c922dfb248437f5a9": {
      "model_module": "@jupyter-widgets/base",
      "model_module_version": "1.2.0",
      "model_name": "LayoutModel",
      "state": {}
     },
     "ca0eee3c1aae4f54bc7b52450cf58475": {
      "model_module": "@jupyter-widgets/controls",
      "model_module_version": "1.5.0",
      "model_name": "FloatProgressModel",
      "state": {
       "bar_style": "success",
       "layout": "IPY_MODEL_e6bfb01347c54950a21c5f07e0d30b06",
       "max": 5,
       "style": "IPY_MODEL_714cfbce50da41b7b321bb8f3d563c29",
       "value": 5
      }
     },
     "ca451b42b8b64d61ad06deb8753aaee9": {
      "model_module": "@jupyter-widgets/controls",
      "model_module_version": "1.5.0",
      "model_name": "ProgressStyleModel",
      "state": {
       "description_width": ""
      }
     },
     "ca80ae08986848f1b93724cf4bf5c21b": {
      "model_module": "@jupyter-widgets/controls",
      "model_module_version": "1.5.0",
      "model_name": "DescriptionStyleModel",
      "state": {
       "description_width": ""
      }
     },
     "cb1b7d3b147849fd81e2b5a39e6aec58": {
      "model_module": "@jupyter-widgets/controls",
      "model_module_version": "1.5.0",
      "model_name": "HBoxModel",
      "state": {
       "children": [
        "IPY_MODEL_b3bf571c907640ec975761bba7ed53ad",
        "IPY_MODEL_1f72943102b54e3fa61311d2de57828e",
        "IPY_MODEL_91e903d862bd461d9fa07409812d6a11"
       ],
       "layout": "IPY_MODEL_568cfbfe8c244869942bcb847376a217"
      }
     },
     "cb296f84a7bc4591a596352271c7056e": {
      "model_module": "@jupyter-widgets/base",
      "model_module_version": "1.2.0",
      "model_name": "LayoutModel",
      "state": {}
     },
     "cb5f54146ce042609805a8c6ff397d4e": {
      "model_module": "@jupyter-widgets/controls",
      "model_module_version": "1.5.0",
      "model_name": "HTMLModel",
      "state": {
       "layout": "IPY_MODEL_526aa1afc7e04f54b23d3f26bb296c0a",
       "style": "IPY_MODEL_41f13d765c254e22b7871ca721b31867",
       "value": " 5/5 [00:04&lt;00:00,  1.05it/s]"
      }
     },
     "cc28a9d35cf247f1b9109c18fa10f8d2": {
      "model_module": "@jupyter-widgets/controls",
      "model_module_version": "1.5.0",
      "model_name": "HBoxModel",
      "state": {
       "children": [
        "IPY_MODEL_c27f046b4e0e4558bd49b0d1ba6639f0",
        "IPY_MODEL_3e8c077ac89146b2ac18b6710f75617d",
        "IPY_MODEL_4ebecb40ccbf455dbb7de51e754d149a"
       ],
       "layout": "IPY_MODEL_c21ffaa734c24681bc5c7df716064752"
      }
     },
     "cc9e88d33b59413da4e7c2b5fd57adb9": {
      "model_module": "@jupyter-widgets/controls",
      "model_module_version": "1.5.0",
      "model_name": "HBoxModel",
      "state": {
       "children": [
        "IPY_MODEL_5cdbb5fed3da4e3a8b2984b658fc902a",
        "IPY_MODEL_e179d165c405441c82e36df520afb229",
        "IPY_MODEL_61fc70c47f624a9aabe7bdff023a994f"
       ],
       "layout": "IPY_MODEL_75e55b13c1b04f6b81a4c6710046b5ec"
      }
     },
     "cca4d8fb63784fdfae8c4ab7157e02ec": {
      "model_module": "@jupyter-widgets/base",
      "model_module_version": "1.2.0",
      "model_name": "LayoutModel",
      "state": {}
     },
     "ccb36bfd057b4396ae9f0d66334af900": {
      "model_module": "@jupyter-widgets/controls",
      "model_module_version": "1.5.0",
      "model_name": "HBoxModel",
      "state": {
       "children": [
        "IPY_MODEL_e954faf1da594a97847c49e2f070b5c8",
        "IPY_MODEL_ff19b26fdcfe4aeea3c415f8fd465c61",
        "IPY_MODEL_d5531111986c43f6957bd8972ff65bf6"
       ],
       "layout": "IPY_MODEL_48f2a57a880440d0a2edebc2e78fd983"
      }
     },
     "ccd50ae7325446fb83551b4cbcb7abd5": {
      "model_module": "@jupyter-widgets/base",
      "model_module_version": "1.2.0",
      "model_name": "LayoutModel",
      "state": {}
     },
     "ccd567cef62e4229ae024be8d0be2452": {
      "model_module": "@jupyter-widgets/controls",
      "model_module_version": "1.5.0",
      "model_name": "HTMLModel",
      "state": {
       "layout": "IPY_MODEL_4924556cd098439781ff320da2de8ed9",
       "style": "IPY_MODEL_b679c3936977494a8da919cf1cdcfefb",
       "value": " 0/5 [00:00&lt;?, ?it/s]"
      }
     },
     "ce5189961d6347abb222b8d730e6f076": {
      "model_module": "@jupyter-widgets/base",
      "model_module_version": "1.2.0",
      "model_name": "LayoutModel",
      "state": {}
     },
     "ceb209d52a7f41459c8ed2db2fabdb0e": {
      "model_module": "@jupyter-widgets/controls",
      "model_module_version": "1.5.0",
      "model_name": "HTMLModel",
      "state": {
       "layout": "IPY_MODEL_b3dfcdf879d448df852eebf3547a3ac0",
       "style": "IPY_MODEL_c6ec0a8112a546548919e8f7920b10d1",
       "value": " 5/5 [00:04&lt;00:00,  1.05it/s]"
      }
     },
     "cec1b24d3e874fd8aac0cc0be695ca04": {
      "model_module": "@jupyter-widgets/base",
      "model_module_version": "1.2.0",
      "model_name": "LayoutModel",
      "state": {}
     },
     "cefdbcbe9d1347a2b54993c6d5db9e45": {
      "model_module": "@jupyter-widgets/controls",
      "model_module_version": "1.5.0",
      "model_name": "HTMLModel",
      "state": {
       "layout": "IPY_MODEL_2aba6ecf32494229bebadbd24c9b372f",
       "style": "IPY_MODEL_996c7ae419b245a9ab2e97a51fd78648",
       "value": "100%"
      }
     },
     "cf6757f0d2574a12904c8ab8092a8ca6": {
      "model_module": "@jupyter-widgets/base",
      "model_module_version": "1.2.0",
      "model_name": "LayoutModel",
      "state": {}
     },
     "d01f095be9284806a4de5ef157f4625b": {
      "model_module": "@jupyter-widgets/controls",
      "model_module_version": "1.5.0",
      "model_name": "DescriptionStyleModel",
      "state": {
       "description_width": ""
      }
     },
     "d07b069d696e461091cf45ab11db0ff5": {
      "model_module": "@jupyter-widgets/base",
      "model_module_version": "1.2.0",
      "model_name": "LayoutModel",
      "state": {}
     },
     "d0e6f3acd3c345d6bedb514b89248179": {
      "model_module": "@jupyter-widgets/controls",
      "model_module_version": "1.5.0",
      "model_name": "ProgressStyleModel",
      "state": {
       "description_width": ""
      }
     },
     "d11146f8e11e4577a2b06cafcaa8fa42": {
      "model_module": "@jupyter-widgets/base",
      "model_module_version": "1.2.0",
      "model_name": "LayoutModel",
      "state": {}
     },
     "d11c0acd5ca34ff18549e53adf4607e3": {
      "model_module": "@jupyter-widgets/base",
      "model_module_version": "1.2.0",
      "model_name": "LayoutModel",
      "state": {}
     },
     "d135d4c16fa84e6cb43e6decfb92b116": {
      "model_module": "@jupyter-widgets/controls",
      "model_module_version": "1.5.0",
      "model_name": "ProgressStyleModel",
      "state": {
       "description_width": ""
      }
     },
     "d16794e7bc604956a26a66a4a9556587": {
      "model_module": "@jupyter-widgets/base",
      "model_module_version": "1.2.0",
      "model_name": "LayoutModel",
      "state": {}
     },
     "d1c6f22bd699410fb0eed8625c814fef": {
      "model_module": "@jupyter-widgets/controls",
      "model_module_version": "1.5.0",
      "model_name": "HBoxModel",
      "state": {
       "children": [
        "IPY_MODEL_8a1d460dc22b4991b1ddb46855ac76d3",
        "IPY_MODEL_7390194be9484235be5a8439b8096781",
        "IPY_MODEL_2ec993b6501e4e0a8c7e43aadc57a102"
       ],
       "layout": "IPY_MODEL_a74e5a610bc347db8d50fa6f85cdec07"
      }
     },
     "d1dafde53f5f4eab92dc960220080f51": {
      "model_module": "@jupyter-widgets/controls",
      "model_module_version": "1.5.0",
      "model_name": "ProgressStyleModel",
      "state": {
       "description_width": ""
      }
     },
     "d20b81652f004ea695cecc2c04732caf": {
      "model_module": "@jupyter-widgets/controls",
      "model_module_version": "1.5.0",
      "model_name": "DescriptionStyleModel",
      "state": {
       "description_width": ""
      }
     },
     "d33be881b3fa4e80bd37146cf6972399": {
      "model_module": "@jupyter-widgets/controls",
      "model_module_version": "1.5.0",
      "model_name": "HTMLModel",
      "state": {
       "layout": "IPY_MODEL_541d309ca7fb458384e358500a9f48ca",
       "style": "IPY_MODEL_15ed8b157026400e95c2e058ee505501",
       "value": " 5/5 [00:00&lt;00:00, 83.26it/s]"
      }
     },
     "d3453690f6324632a8bb002ec727ae25": {
      "model_module": "@jupyter-widgets/base",
      "model_module_version": "1.2.0",
      "model_name": "LayoutModel",
      "state": {}
     },
     "d388e8b268134416a10645a0f2dbb42b": {
      "model_module": "@jupyter-widgets/controls",
      "model_module_version": "1.5.0",
      "model_name": "ProgressStyleModel",
      "state": {
       "description_width": ""
      }
     },
     "d3beaf96f7394970a9265dd95580744d": {
      "model_module": "@jupyter-widgets/controls",
      "model_module_version": "1.5.0",
      "model_name": "ProgressStyleModel",
      "state": {
       "description_width": ""
      }
     },
     "d43a42c1c6414443b4b7ac9818a1a73d": {
      "model_module": "@jupyter-widgets/controls",
      "model_module_version": "1.5.0",
      "model_name": "ProgressStyleModel",
      "state": {
       "description_width": ""
      }
     },
     "d5531111986c43f6957bd8972ff65bf6": {
      "model_module": "@jupyter-widgets/controls",
      "model_module_version": "1.5.0",
      "model_name": "HTMLModel",
      "state": {
       "layout": "IPY_MODEL_3c7e36eeeda44a2abd96c1a7caac37f7",
       "style": "IPY_MODEL_2ad4c69d21a54ba98a7dcb00a4d4d7e0",
       "value": " 5/5 [00:00&lt;00:00, 83.26it/s]"
      }
     },
     "d595ad72bb504386ae248a92074b1fbb": {
      "model_module": "@jupyter-widgets/base",
      "model_module_version": "1.2.0",
      "model_name": "LayoutModel",
      "state": {}
     },
     "d5b303a57d02433da134823279b3b050": {
      "model_module": "@jupyter-widgets/base",
      "model_module_version": "1.2.0",
      "model_name": "LayoutModel",
      "state": {}
     },
     "d5e8b5f553e44487be8b6e04f3e759ee": {
      "model_module": "@jupyter-widgets/base",
      "model_module_version": "1.2.0",
      "model_name": "LayoutModel",
      "state": {}
     },
     "d6346b1257fd4ffcb3ba5a63aff40dd9": {
      "model_module": "@jupyter-widgets/base",
      "model_module_version": "1.2.0",
      "model_name": "LayoutModel",
      "state": {}
     },
     "d64c82cac2aa46e9b16a30a7ac90c8c3": {
      "model_module": "@jupyter-widgets/controls",
      "model_module_version": "1.5.0",
      "model_name": "HTMLModel",
      "state": {
       "layout": "IPY_MODEL_a752fd9014304e0cac6bbb051beb9771",
       "style": "IPY_MODEL_863c2e13e68246afb794387a8bd76b20",
       "value": "100%"
      }
     },
     "d6f3ba577d634ec784071cdde37aeb4d": {
      "model_module": "@jupyter-widgets/controls",
      "model_module_version": "1.5.0",
      "model_name": "ProgressStyleModel",
      "state": {
       "description_width": ""
      }
     },
     "d7ab8aed710548c98459be82b6de6d93": {
      "model_module": "@jupyter-widgets/controls",
      "model_module_version": "1.5.0",
      "model_name": "DescriptionStyleModel",
      "state": {
       "description_width": ""
      }
     },
     "d7c046bc3f3d48b39d42aebebe92c963": {
      "model_module": "@jupyter-widgets/controls",
      "model_module_version": "1.5.0",
      "model_name": "HBoxModel",
      "state": {
       "children": [
        "IPY_MODEL_218b5fee01954393854253cb90c97b1e",
        "IPY_MODEL_e0f399bd4ef34e96b844159482c92edb",
        "IPY_MODEL_df0bade853984a6c9f8dee74e23ba004"
       ],
       "layout": "IPY_MODEL_0d07e951a4f242e99bba56807736f33f"
      }
     },
     "d7ec9745af9b4d2a936315362ab7e676": {
      "model_module": "@jupyter-widgets/base",
      "model_module_version": "1.2.0",
      "model_name": "LayoutModel",
      "state": {}
     },
     "d86ed52a2759401782002be8a05af664": {
      "model_module": "@jupyter-widgets/controls",
      "model_module_version": "1.5.0",
      "model_name": "DescriptionStyleModel",
      "state": {
       "description_width": ""
      }
     },
     "d8b07e6afdec48d39ee16ce0fd1276b1": {
      "model_module": "@jupyter-widgets/base",
      "model_module_version": "1.2.0",
      "model_name": "LayoutModel",
      "state": {}
     },
     "d8b57f70e7dd4632afe572a6ae8892dc": {
      "model_module": "@jupyter-widgets/controls",
      "model_module_version": "1.5.0",
      "model_name": "FloatProgressModel",
      "state": {
       "bar_style": "success",
       "layout": "IPY_MODEL_5fc208fba62149afab2240d325df1ddd",
       "max": 5,
       "style": "IPY_MODEL_3524076727564b16bf298e4c707a4bd2",
       "value": 5
      }
     },
     "d96e3a5bd7f749e785e94b60ab55c910": {
      "model_module": "@jupyter-widgets/controls",
      "model_module_version": "1.5.0",
      "model_name": "DescriptionStyleModel",
      "state": {
       "description_width": ""
      }
     },
     "d9991ac8d507456ab8a91be7e82956a5": {
      "model_module": "@jupyter-widgets/base",
      "model_module_version": "1.2.0",
      "model_name": "LayoutModel",
      "state": {}
     },
     "da208d14d40a4c909bda8937ffe84202": {
      "model_module": "@jupyter-widgets/base",
      "model_module_version": "1.2.0",
      "model_name": "LayoutModel",
      "state": {}
     },
     "da5024560ea24b3eb56dfbfc76007067": {
      "model_module": "@jupyter-widgets/base",
      "model_module_version": "1.2.0",
      "model_name": "LayoutModel",
      "state": {}
     },
     "da91f48a9fbc4af19105def763ecfc17": {
      "model_module": "@jupyter-widgets/base",
      "model_module_version": "1.2.0",
      "model_name": "LayoutModel",
      "state": {}
     },
     "daa76f1676f940ce8068bcb5c1b9cd69": {
      "model_module": "@jupyter-widgets/base",
      "model_module_version": "1.2.0",
      "model_name": "LayoutModel",
      "state": {}
     },
     "db2a37c4b1ea4acd853de2bcab896465": {
      "model_module": "@jupyter-widgets/controls",
      "model_module_version": "1.5.0",
      "model_name": "DescriptionStyleModel",
      "state": {
       "description_width": ""
      }
     },
     "db32613330ff4c37a4b0b982067b3e1b": {
      "model_module": "@jupyter-widgets/controls",
      "model_module_version": "1.5.0",
      "model_name": "DescriptionStyleModel",
      "state": {
       "description_width": ""
      }
     },
     "dbbd41ecb1b2451091ce233783df1f06": {
      "model_module": "@jupyter-widgets/controls",
      "model_module_version": "1.5.0",
      "model_name": "FloatProgressModel",
      "state": {
       "bar_style": "success",
       "layout": "IPY_MODEL_c4536e4e6c4e4955945d18c6907e3f51",
       "max": 5,
       "style": "IPY_MODEL_2385e3b72a8d4679a2ec65d4267f29a7",
       "value": 5
      }
     },
     "dbcf89f0cb864aac9298652bcf19be3f": {
      "model_module": "@jupyter-widgets/base",
      "model_module_version": "1.2.0",
      "model_name": "LayoutModel",
      "state": {}
     },
     "dc019aa261134df0a380dde7ade2729f": {
      "model_module": "@jupyter-widgets/base",
      "model_module_version": "1.2.0",
      "model_name": "LayoutModel",
      "state": {}
     },
     "dc56186fd4184875a51db139e0302c23": {
      "model_module": "@jupyter-widgets/controls",
      "model_module_version": "1.5.0",
      "model_name": "HTMLModel",
      "state": {
       "layout": "IPY_MODEL_14f2d0f8b6b143b38dc66114b92a98a4",
       "style": "IPY_MODEL_913515b784774b878201f4cac85f04d3",
       "value": " 5/5 [13:25&lt;00:00, 162.27s/it]"
      }
     },
     "dcd1eea9a5b24179a03e91fa45ff38b1": {
      "model_module": "@jupyter-widgets/controls",
      "model_module_version": "1.5.0",
      "model_name": "HTMLModel",
      "state": {
       "layout": "IPY_MODEL_48d937405fba4315be1ee5b4613faa33",
       "style": "IPY_MODEL_acfd277e1453454d9550e3706410381b",
       "value": " 5/5 [00:14&lt;00:00,  2.80s/it]"
      }
     },
     "dd45618f24e9401db64624ebe91f4c9f": {
      "model_module": "@jupyter-widgets/controls",
      "model_module_version": "1.5.0",
      "model_name": "HBoxModel",
      "state": {
       "children": [
        "IPY_MODEL_50e95109f1d648f490cef3fc6ecf4519",
        "IPY_MODEL_6f3038e8b93943beb776858988d96f4a",
        "IPY_MODEL_a35147d6301d4ee68014a0b45c506852"
       ],
       "layout": "IPY_MODEL_b999238ad6e84417a715b082e4a45742"
      }
     },
     "dd4e14fcd1d041e8a253dcb765ade844": {
      "model_module": "@jupyter-widgets/controls",
      "model_module_version": "1.5.0",
      "model_name": "FloatProgressModel",
      "state": {
       "bar_style": "success",
       "layout": "IPY_MODEL_fa0c1411c0b542adad24a3e51356e346",
       "max": 5,
       "style": "IPY_MODEL_25367b0826724d82a2ea72566dcd3142",
       "value": 5
      }
     },
     "dd4f6bab76dd4c5a909a160cd8ede7a3": {
      "model_module": "@jupyter-widgets/base",
      "model_module_version": "1.2.0",
      "model_name": "LayoutModel",
      "state": {}
     },
     "ddb8d914c1f045a28054b0025140a4c7": {
      "model_module": "@jupyter-widgets/controls",
      "model_module_version": "1.5.0",
      "model_name": "FloatProgressModel",
      "state": {
       "bar_style": "success",
       "layout": "IPY_MODEL_cf6757f0d2574a12904c8ab8092a8ca6",
       "max": 5,
       "style": "IPY_MODEL_53b95260a5a24d749f5253242b3c1441",
       "value": 5
      }
     },
     "ddcd4ea2cd2a462bbe014cafc18ff15e": {
      "model_module": "@jupyter-widgets/controls",
      "model_module_version": "1.5.0",
      "model_name": "HBoxModel",
      "state": {
       "children": [
        "IPY_MODEL_565a8971fc544c74ac69dca3575be08f",
        "IPY_MODEL_8303943df9794317ac21c8aa5f9b7aeb",
        "IPY_MODEL_27bf454023c84b0ea7137ae1d4d230a3"
       ],
       "layout": "IPY_MODEL_185880c93a0a4ebe842edfd9685023b6"
      }
     },
     "ddde5cc1e6ac4f4789370ced28607e23": {
      "model_module": "@jupyter-widgets/controls",
      "model_module_version": "1.5.0",
      "model_name": "HBoxModel",
      "state": {
       "children": [
        "IPY_MODEL_de7e6cfd439341d4a77b429df5a83e4b",
        "IPY_MODEL_ae8941278a7643619925efa31fcbb6cd",
        "IPY_MODEL_4b052e0d6bf04428aae2756c01ad5650"
       ],
       "layout": "IPY_MODEL_e7b07286d5564b6fabdb15f98ad3d2b2"
      }
     },
     "de0d79e7bffd425fb4b1d11061405aa9": {
      "model_module": "@jupyter-widgets/controls",
      "model_module_version": "1.5.0",
      "model_name": "HBoxModel",
      "state": {
       "children": [
        "IPY_MODEL_8f723e2bc0f94ca2851a10498e9c26d9",
        "IPY_MODEL_425edef6f00045bfa08402af7d8c9bfc",
        "IPY_MODEL_5aac884fd06349c0b3e3995be349dcd7"
       ],
       "layout": "IPY_MODEL_ae20834006f940c1a25b25bc58c94825"
      }
     },
     "de611a565bf742a699e834cd6835128e": {
      "model_module": "@jupyter-widgets/controls",
      "model_module_version": "1.5.0",
      "model_name": "HTMLModel",
      "state": {
       "layout": "IPY_MODEL_05c0239a216e471899603a3ad6365105",
       "style": "IPY_MODEL_87925054060345a5b7aeb85ede65bcdf",
       "value": " 5/5 [00:00&lt;00:00, 84.37it/s]"
      }
     },
     "de6f4b171a0e4174930ddacde8179bc3": {
      "model_module": "@jupyter-widgets/controls",
      "model_module_version": "1.5.0",
      "model_name": "DescriptionStyleModel",
      "state": {
       "description_width": ""
      }
     },
     "de7e6cfd439341d4a77b429df5a83e4b": {
      "model_module": "@jupyter-widgets/controls",
      "model_module_version": "1.5.0",
      "model_name": "HTMLModel",
      "state": {
       "layout": "IPY_MODEL_0de5ba4fc4414c4382500055c614ca99",
       "style": "IPY_MODEL_48089ff5d9e046298569159ecc9f0509",
       "value": "100%"
      }
     },
     "dec4d61450d740e5b1e8d92485ee668f": {
      "model_module": "@jupyter-widgets/base",
      "model_module_version": "1.2.0",
      "model_name": "LayoutModel",
      "state": {}
     },
     "ded9a410424e41d1904831f072cada02": {
      "model_module": "@jupyter-widgets/controls",
      "model_module_version": "1.5.0",
      "model_name": "HBoxModel",
      "state": {
       "children": [
        "IPY_MODEL_e3987f21487547f5811d65d8e925b899",
        "IPY_MODEL_bbc390d804214e56bec46fe60325e0b3",
        "IPY_MODEL_aa4d4ca5cdf74aae8cc1a7e12b6319bc"
       ],
       "layout": "IPY_MODEL_780e49cb630248e0b8751f14cfb8102b"
      }
     },
     "def36e3ad93b4e69ad52589aa999ba38": {
      "model_module": "@jupyter-widgets/controls",
      "model_module_version": "1.5.0",
      "model_name": "ProgressStyleModel",
      "state": {
       "description_width": ""
      }
     },
     "df0bade853984a6c9f8dee74e23ba004": {
      "model_module": "@jupyter-widgets/controls",
      "model_module_version": "1.5.0",
      "model_name": "HTMLModel",
      "state": {
       "layout": "IPY_MODEL_edfec2d213af440dbe5daf7928b8f1d9",
       "style": "IPY_MODEL_b38e84e9c1c1472ab8fef141b4c60708",
       "value": " 5/5 [00:04&lt;00:00,  1.05it/s]"
      }
     },
     "df3fd0ea6bee4f9c916c49e94f81da7d": {
      "model_module": "@jupyter-widgets/controls",
      "model_module_version": "1.5.0",
      "model_name": "HBoxModel",
      "state": {
       "children": [
        "IPY_MODEL_cefdbcbe9d1347a2b54993c6d5db9e45",
        "IPY_MODEL_15c7d344626d4ca0ba5d082b65977315",
        "IPY_MODEL_bc7429dfc41c463ba29a661489f3d0ad"
       ],
       "layout": "IPY_MODEL_74a52640153747f88bfb0f1aa92edecf"
      }
     },
     "df46832b9d8a45378a3faa17142cd1e4": {
      "model_module": "@jupyter-widgets/controls",
      "model_module_version": "1.5.0",
      "model_name": "DescriptionStyleModel",
      "state": {
       "description_width": ""
      }
     },
     "df7fe5a929aa4c76b39d6d684679e039": {
      "model_module": "@jupyter-widgets/controls",
      "model_module_version": "1.5.0",
      "model_name": "DescriptionStyleModel",
      "state": {
       "description_width": ""
      }
     },
     "dfa0eae566654806881a333c25ad04f4": {
      "model_module": "@jupyter-widgets/controls",
      "model_module_version": "1.5.0",
      "model_name": "FloatProgressModel",
      "state": {
       "bar_style": "success",
       "layout": "IPY_MODEL_9a42c8f090124956904ceed193e8ffb4",
       "max": 5,
       "style": "IPY_MODEL_8178b60dcfc54add9e34fc38dc794d48",
       "value": 5
      }
     },
     "e03473a69e5d44a8adca34c3fa69f36a": {
      "model_module": "@jupyter-widgets/controls",
      "model_module_version": "1.5.0",
      "model_name": "DescriptionStyleModel",
      "state": {
       "description_width": ""
      }
     },
     "e05fdcbf36e64b10bdf73f95332327cb": {
      "model_module": "@jupyter-widgets/base",
      "model_module_version": "1.2.0",
      "model_name": "LayoutModel",
      "state": {}
     },
     "e07fed876d754a8e9c7f149193b0f11f": {
      "model_module": "@jupyter-widgets/controls",
      "model_module_version": "1.5.0",
      "model_name": "DescriptionStyleModel",
      "state": {
       "description_width": ""
      }
     },
     "e0f399bd4ef34e96b844159482c92edb": {
      "model_module": "@jupyter-widgets/controls",
      "model_module_version": "1.5.0",
      "model_name": "FloatProgressModel",
      "state": {
       "bar_style": "success",
       "layout": "IPY_MODEL_3930b5f0c9b347b8930f4181ebdf1ce2",
       "max": 5,
       "style": "IPY_MODEL_d388e8b268134416a10645a0f2dbb42b",
       "value": 5
      }
     },
     "e108676250f64576a1d02baf5c3c86e2": {
      "model_module": "@jupyter-widgets/controls",
      "model_module_version": "1.5.0",
      "model_name": "DescriptionStyleModel",
      "state": {
       "description_width": ""
      }
     },
     "e165029318b94599be46b1efbea38d42": {
      "model_module": "@jupyter-widgets/base",
      "model_module_version": "1.2.0",
      "model_name": "LayoutModel",
      "state": {}
     },
     "e179d165c405441c82e36df520afb229": {
      "model_module": "@jupyter-widgets/controls",
      "model_module_version": "1.5.0",
      "model_name": "FloatProgressModel",
      "state": {
       "bar_style": "success",
       "layout": "IPY_MODEL_f9020cd546fc4342a68c493905d32afa",
       "max": 5,
       "style": "IPY_MODEL_3b86bf74b0a4407eb8e0ad84f343f090",
       "value": 5
      }
     },
     "e1de340460dd4ade8cf563d227787af3": {
      "model_module": "@jupyter-widgets/controls",
      "model_module_version": "1.5.0",
      "model_name": "HTMLModel",
      "state": {
       "layout": "IPY_MODEL_424da3d725cc4e30b4c2b06045242058",
       "style": "IPY_MODEL_55214528b8aa4825bed88dbeea943cfe",
       "value": " 5/5 [13:24&lt;00:00, 160.72s/it]"
      }
     },
     "e1e85771ad0d4498824d377fce770af0": {
      "model_module": "@jupyter-widgets/base",
      "model_module_version": "1.2.0",
      "model_name": "LayoutModel",
      "state": {}
     },
     "e2380ff915d748529a25f0ba5ff4c012": {
      "model_module": "@jupyter-widgets/controls",
      "model_module_version": "1.5.0",
      "model_name": "HTMLModel",
      "state": {
       "layout": "IPY_MODEL_d3453690f6324632a8bb002ec727ae25",
       "style": "IPY_MODEL_923eb859f0b642f1990c984edb19d035",
       "value": " 5/5 [13:04&lt;00:00, 155.93s/it]"
      }
     },
     "e28b7625108345efa31eb5bd6f6a993d": {
      "model_module": "@jupyter-widgets/controls",
      "model_module_version": "1.5.0",
      "model_name": "DescriptionStyleModel",
      "state": {
       "description_width": ""
      }
     },
     "e29e123ea35b4287a8c264fccf596638": {
      "model_module": "@jupyter-widgets/controls",
      "model_module_version": "1.5.0",
      "model_name": "HTMLModel",
      "state": {
       "layout": "IPY_MODEL_986ed9768061469bacec6bb31b718f8f",
       "style": "IPY_MODEL_aee1ba5044344fd2ac6874a5fb149b47",
       "value": " 5/5 [13:39&lt;00:00, 162.64s/it]"
      }
     },
     "e2ad86f7233d4c4595d433f0ff6bc94e": {
      "model_module": "@jupyter-widgets/controls",
      "model_module_version": "1.5.0",
      "model_name": "HTMLModel",
      "state": {
       "layout": "IPY_MODEL_1c07d5c6bf8a4581a763e673602fb5c3",
       "style": "IPY_MODEL_9e50abf541fe4acf8cebb9eb6dc5d375",
       "value": " 5/5 [00:06&lt;00:00,  1.19s/it]"
      }
     },
     "e2b9ae99ef3f41678c0dc1eda35019f2": {
      "model_module": "@jupyter-widgets/base",
      "model_module_version": "1.2.0",
      "model_name": "LayoutModel",
      "state": {}
     },
     "e2e149a6d54e45f5a94ea47b689c20d7": {
      "model_module": "@jupyter-widgets/controls",
      "model_module_version": "1.5.0",
      "model_name": "DescriptionStyleModel",
      "state": {
       "description_width": ""
      }
     },
     "e38e1a03162f4f2eb3e81a3bff3a88fa": {
      "model_module": "@jupyter-widgets/controls",
      "model_module_version": "1.5.0",
      "model_name": "HTMLModel",
      "state": {
       "layout": "IPY_MODEL_478040cc6b97457ba70243096b97799a",
       "style": "IPY_MODEL_e28b7625108345efa31eb5bd6f6a993d",
       "value": " 5/5 [12:52&lt;00:00, 154.36s/it]"
      }
     },
     "e3987f21487547f5811d65d8e925b899": {
      "model_module": "@jupyter-widgets/controls",
      "model_module_version": "1.5.0",
      "model_name": "HTMLModel",
      "state": {
       "layout": "IPY_MODEL_858d58a204274918b4e913dfa8f63cef",
       "style": "IPY_MODEL_e03473a69e5d44a8adca34c3fa69f36a",
       "value": "100%"
      }
     },
     "e3b7ff493fca4d3485e6c1c2b077bf92": {
      "model_module": "@jupyter-widgets/controls",
      "model_module_version": "1.5.0",
      "model_name": "DescriptionStyleModel",
      "state": {
       "description_width": ""
      }
     },
     "e3bad33b61064ab79265a944d24042ab": {
      "model_module": "@jupyter-widgets/base",
      "model_module_version": "1.2.0",
      "model_name": "LayoutModel",
      "state": {}
     },
     "e3c5ce1028694b798b180169f3362e68": {
      "model_module": "@jupyter-widgets/base",
      "model_module_version": "1.2.0",
      "model_name": "LayoutModel",
      "state": {}
     },
     "e4e6c0bf3406400fb89dae9ee390373b": {
      "model_module": "@jupyter-widgets/controls",
      "model_module_version": "1.5.0",
      "model_name": "ProgressStyleModel",
      "state": {
       "description_width": ""
      }
     },
     "e4ef352e64d34063b914cfc14f00e113": {
      "model_module": "@jupyter-widgets/controls",
      "model_module_version": "1.5.0",
      "model_name": "ProgressStyleModel",
      "state": {
       "description_width": ""
      }
     },
     "e549dba1f1fc4b6488ff019844e758d0": {
      "model_module": "@jupyter-widgets/controls",
      "model_module_version": "1.5.0",
      "model_name": "DescriptionStyleModel",
      "state": {
       "description_width": ""
      }
     },
     "e5948da025c04ccbb8eff0c7c79b6dfd": {
      "model_module": "@jupyter-widgets/base",
      "model_module_version": "1.2.0",
      "model_name": "LayoutModel",
      "state": {}
     },
     "e62206e2c0be4865b4817d70ca86c3c1": {
      "model_module": "@jupyter-widgets/base",
      "model_module_version": "1.2.0",
      "model_name": "LayoutModel",
      "state": {}
     },
     "e62c6f692c5340a190839f66b1a93df1": {
      "model_module": "@jupyter-widgets/base",
      "model_module_version": "1.2.0",
      "model_name": "LayoutModel",
      "state": {}
     },
     "e65493139a88452188fbca14ad6f583b": {
      "model_module": "@jupyter-widgets/controls",
      "model_module_version": "1.5.0",
      "model_name": "ProgressStyleModel",
      "state": {
       "description_width": ""
      }
     },
     "e6a6d10bada14069b05870a8e15fcbd0": {
      "model_module": "@jupyter-widgets/controls",
      "model_module_version": "1.5.0",
      "model_name": "ProgressStyleModel",
      "state": {
       "description_width": ""
      }
     },
     "e6bfb01347c54950a21c5f07e0d30b06": {
      "model_module": "@jupyter-widgets/base",
      "model_module_version": "1.2.0",
      "model_name": "LayoutModel",
      "state": {}
     },
     "e6f48a1f6f27451ebbd7405fcc4d7c74": {
      "model_module": "@jupyter-widgets/controls",
      "model_module_version": "1.5.0",
      "model_name": "DescriptionStyleModel",
      "state": {
       "description_width": ""
      }
     },
     "e753e27f606b4b96b521d23d3fe11d29": {
      "model_module": "@jupyter-widgets/base",
      "model_module_version": "1.2.0",
      "model_name": "LayoutModel",
      "state": {}
     },
     "e7b07286d5564b6fabdb15f98ad3d2b2": {
      "model_module": "@jupyter-widgets/base",
      "model_module_version": "1.2.0",
      "model_name": "LayoutModel",
      "state": {}
     },
     "e80ea4ba625148e7977d2de9311b90e8": {
      "model_module": "@jupyter-widgets/controls",
      "model_module_version": "1.5.0",
      "model_name": "HTMLModel",
      "state": {
       "layout": "IPY_MODEL_288696a035784586817926086502a4b6",
       "style": "IPY_MODEL_c7ba60874fef46d0ac925c27da8a884e",
       "value": "100%"
      }
     },
     "e81b91712ecd42b8b9b3f2dc50151db6": {
      "model_module": "@jupyter-widgets/base",
      "model_module_version": "1.2.0",
      "model_name": "LayoutModel",
      "state": {}
     },
     "e83cb87f0822406d982c677b44a4ed80": {
      "model_module": "@jupyter-widgets/controls",
      "model_module_version": "1.5.0",
      "model_name": "FloatProgressModel",
      "state": {
       "bar_style": "success",
       "layout": "IPY_MODEL_71786d959a35409bb9a36c5825bd86ec",
       "max": 5,
       "style": "IPY_MODEL_b7130ebbb8b34a1ba3022614c443c8a1",
       "value": 5
      }
     },
     "e8a37c4098e3434884178c43dcbd3157": {
      "model_module": "@jupyter-widgets/base",
      "model_module_version": "1.2.0",
      "model_name": "LayoutModel",
      "state": {}
     },
     "e9341163ac9b4bc19a5a387135811b1d": {
      "model_module": "@jupyter-widgets/base",
      "model_module_version": "1.2.0",
      "model_name": "LayoutModel",
      "state": {}
     },
     "e954faf1da594a97847c49e2f070b5c8": {
      "model_module": "@jupyter-widgets/controls",
      "model_module_version": "1.5.0",
      "model_name": "HTMLModel",
      "state": {
       "layout": "IPY_MODEL_98203bea58a14fe6a728e7f5b63a4fd8",
       "style": "IPY_MODEL_df7fe5a929aa4c76b39d6d684679e039",
       "value": "100%"
      }
     },
     "e99fc0ea420f4c5fa8102c6072e70019": {
      "model_module": "@jupyter-widgets/controls",
      "model_module_version": "1.5.0",
      "model_name": "FloatProgressModel",
      "state": {
       "bar_style": "success",
       "layout": "IPY_MODEL_4857015db0df4ef0b0022ff71a5323f5",
       "max": 5,
       "style": "IPY_MODEL_7cb2d21478964dcba92949173884bce5",
       "value": 5
      }
     },
     "e9d773743d8f406f9e54079e7710b58c": {
      "model_module": "@jupyter-widgets/controls",
      "model_module_version": "1.5.0",
      "model_name": "HBoxModel",
      "state": {
       "children": [
        "IPY_MODEL_a69a05eddfb348c192f9a48f5138f361",
        "IPY_MODEL_0d4d9facfc6843eaa0c34009a02fd2b1",
        "IPY_MODEL_ec339b89e5544e40acc255520b094819"
       ],
       "layout": "IPY_MODEL_a4963feaf549477cbb27bd54987933f1"
      }
     },
     "e9dcf3229e1f4c95a129076dd7591c5b": {
      "model_module": "@jupyter-widgets/controls",
      "model_module_version": "1.5.0",
      "model_name": "DescriptionStyleModel",
      "state": {
       "description_width": ""
      }
     },
     "e9fbedab48744f5595cb53ec61826377": {
      "model_module": "@jupyter-widgets/base",
      "model_module_version": "1.2.0",
      "model_name": "LayoutModel",
      "state": {}
     },
     "ea21a6e201f54b9c949b31fd86047cad": {
      "model_module": "@jupyter-widgets/base",
      "model_module_version": "1.2.0",
      "model_name": "LayoutModel",
      "state": {}
     },
     "ea684f24320043e48e84cb5a8b04a2db": {
      "model_module": "@jupyter-widgets/controls",
      "model_module_version": "1.5.0",
      "model_name": "DescriptionStyleModel",
      "state": {
       "description_width": ""
      }
     },
     "eaa63196b359413e84d23e7ea2f07511": {
      "model_module": "@jupyter-widgets/controls",
      "model_module_version": "1.5.0",
      "model_name": "DescriptionStyleModel",
      "state": {
       "description_width": ""
      }
     },
     "eb10276e59cb4ed397f69860480e396a": {
      "model_module": "@jupyter-widgets/controls",
      "model_module_version": "1.5.0",
      "model_name": "HTMLModel",
      "state": {
       "layout": "IPY_MODEL_b5f90a2e10814f589ef1a04b8cff7523",
       "style": "IPY_MODEL_781f8aafe80b4b4d956935c391dc73cc",
       "value": "100%"
      }
     },
     "eb62da4245c9480f9eeb7e8bb1305e93": {
      "model_module": "@jupyter-widgets/controls",
      "model_module_version": "1.5.0",
      "model_name": "HBoxModel",
      "state": {
       "children": [
        "IPY_MODEL_a0e5e1837b5d48cd8fd7b2fdea863ce6",
        "IPY_MODEL_4afab328669f4450b1726f56b2152c04",
        "IPY_MODEL_439de40f4f9c43be90eaea72a8bd0d2c"
       ],
       "layout": "IPY_MODEL_d8b07e6afdec48d39ee16ce0fd1276b1"
      }
     },
     "eba518406a8e4de6bb6962db2f905d0b": {
      "model_module": "@jupyter-widgets/base",
      "model_module_version": "1.2.0",
      "model_name": "LayoutModel",
      "state": {}
     },
     "ec339b89e5544e40acc255520b094819": {
      "model_module": "@jupyter-widgets/controls",
      "model_module_version": "1.5.0",
      "model_name": "HTMLModel",
      "state": {
       "layout": "IPY_MODEL_d5b303a57d02433da134823279b3b050",
       "style": "IPY_MODEL_91e16ba41ae7403f81b7077211b5e164",
       "value": " 5/5 [00:05&lt;00:00,  1.10s/it]"
      }
     },
     "ec4e1284c7844ba090b9af8b1f78c954": {
      "model_module": "@jupyter-widgets/controls",
      "model_module_version": "1.5.0",
      "model_name": "HTMLModel",
      "state": {
       "layout": "IPY_MODEL_5b2c5cdcc62b4b17b278eb7b22d99c27",
       "style": "IPY_MODEL_af93342685394589a4d563e6e3b7b305",
       "value": " 5/5 [00:05&lt;00:00,  1.11s/it]"
      }
     },
     "ed87df319614463cb9f87a37c479d061": {
      "model_module": "@jupyter-widgets/base",
      "model_module_version": "1.2.0",
      "model_name": "LayoutModel",
      "state": {}
     },
     "edb698a8f9224812880c4e969f48e9e7": {
      "model_module": "@jupyter-widgets/controls",
      "model_module_version": "1.5.0",
      "model_name": "HBoxModel",
      "state": {
       "children": [
        "IPY_MODEL_8eff175ade424340a763f9323c0a1334",
        "IPY_MODEL_5ff9f249f3c84c1a937c15a5bc9b5e9d",
        "IPY_MODEL_074b30931cb143d8ac06001356022d2d"
       ],
       "layout": "IPY_MODEL_194214182c1f414997ec4faa32d51493"
      }
     },
     "edb6b412fed34dd5b1ccce86f70ff890": {
      "model_module": "@jupyter-widgets/controls",
      "model_module_version": "1.5.0",
      "model_name": "ProgressStyleModel",
      "state": {
       "description_width": ""
      }
     },
     "edfec2d213af440dbe5daf7928b8f1d9": {
      "model_module": "@jupyter-widgets/base",
      "model_module_version": "1.2.0",
      "model_name": "LayoutModel",
      "state": {}
     },
     "eefaac2f18844c8a9ba4f8df1b9d7131": {
      "model_module": "@jupyter-widgets/base",
      "model_module_version": "1.2.0",
      "model_name": "LayoutModel",
      "state": {}
     },
     "ef9cac17e3784562ae094326f45aa370": {
      "model_module": "@jupyter-widgets/controls",
      "model_module_version": "1.5.0",
      "model_name": "HBoxModel",
      "state": {
       "children": [
        "IPY_MODEL_a18b972b7f6d4951a7a5c570b654a9a0",
        "IPY_MODEL_1581403e0d29435eb0e67704d2fd1fe9",
        "IPY_MODEL_fbcfcae17d504be0a461cd7db70551c8"
       ],
       "layout": "IPY_MODEL_2d6a33e5c6074e769cbb485c38b30efe"
      }
     },
     "efc618dbf1614c00ba3bb7559ba0a1fa": {
      "model_module": "@jupyter-widgets/base",
      "model_module_version": "1.2.0",
      "model_name": "LayoutModel",
      "state": {}
     },
     "f00944269ac54b3283d2ec17f706d9b2": {
      "model_module": "@jupyter-widgets/controls",
      "model_module_version": "1.5.0",
      "model_name": "DescriptionStyleModel",
      "state": {
       "description_width": ""
      }
     },
     "f01f0101bde84f67971c36050b7a0c65": {
      "model_module": "@jupyter-widgets/base",
      "model_module_version": "1.2.0",
      "model_name": "LayoutModel",
      "state": {}
     },
     "f032dadb5fcf4e68a12a4879df863341": {
      "model_module": "@jupyter-widgets/base",
      "model_module_version": "1.2.0",
      "model_name": "LayoutModel",
      "state": {}
     },
     "f0da46bc17a942429e6be8750f145d47": {
      "model_module": "@jupyter-widgets/controls",
      "model_module_version": "1.5.0",
      "model_name": "HBoxModel",
      "state": {
       "children": [
        "IPY_MODEL_760b04fbcb724b44be1932876de8a705",
        "IPY_MODEL_dd4e14fcd1d041e8a253dcb765ade844",
        "IPY_MODEL_a05558f14eee47be8788e1dd4ab618bc"
       ],
       "layout": "IPY_MODEL_323e215c011f49b8b1030405a0df816b"
      }
     },
     "f141822b3a084a628dc42f5b8a602a7c": {
      "model_module": "@jupyter-widgets/controls",
      "model_module_version": "1.5.0",
      "model_name": "HTMLModel",
      "state": {
       "layout": "IPY_MODEL_0079e8b4286b46b3810771fc1fdd1211",
       "style": "IPY_MODEL_239bf9d19ad14b519f3fadc61486331c",
       "value": " 5/5 [00:04&lt;00:00,  1.01it/s]"
      }
     },
     "f15d8c9caee448e59149f0e9ade7c5ef": {
      "model_module": "@jupyter-widgets/base",
      "model_module_version": "1.2.0",
      "model_name": "LayoutModel",
      "state": {}
     },
     "f192e36d7d2e46629eaa74ab57cc0345": {
      "model_module": "@jupyter-widgets/base",
      "model_module_version": "1.2.0",
      "model_name": "LayoutModel",
      "state": {}
     },
     "f19c9245e44d4a42a8d9eccea057e4fb": {
      "model_module": "@jupyter-widgets/base",
      "model_module_version": "1.2.0",
      "model_name": "LayoutModel",
      "state": {}
     },
     "f1a287b16fa5497cb84e4d807dd5e3e1": {
      "model_module": "@jupyter-widgets/base",
      "model_module_version": "1.2.0",
      "model_name": "LayoutModel",
      "state": {}
     },
     "f1a58b8aa61041daae293a8d3f373c18": {
      "model_module": "@jupyter-widgets/controls",
      "model_module_version": "1.5.0",
      "model_name": "DescriptionStyleModel",
      "state": {
       "description_width": ""
      }
     },
     "f1a5b342c2c943b99dc08ab474489236": {
      "model_module": "@jupyter-widgets/controls",
      "model_module_version": "1.5.0",
      "model_name": "HTMLModel",
      "state": {
       "layout": "IPY_MODEL_fae1b53543d248d0b5f8c30609e068ec",
       "style": "IPY_MODEL_f00944269ac54b3283d2ec17f706d9b2",
       "value": "100%"
      }
     },
     "f20a5b2bb1fa4492bae5cdb3adbbf9b7": {
      "model_module": "@jupyter-widgets/base",
      "model_module_version": "1.2.0",
      "model_name": "LayoutModel",
      "state": {}
     },
     "f28a16da020f4843a3d42a0479a7ac0b": {
      "model_module": "@jupyter-widgets/base",
      "model_module_version": "1.2.0",
      "model_name": "LayoutModel",
      "state": {}
     },
     "f2d88acb1fdb4e5d90b4c8aa71bc9913": {
      "model_module": "@jupyter-widgets/controls",
      "model_module_version": "1.5.0",
      "model_name": "ProgressStyleModel",
      "state": {
       "description_width": ""
      }
     },
     "f301be475b514ed2a4219cd142678ba7": {
      "model_module": "@jupyter-widgets/controls",
      "model_module_version": "1.5.0",
      "model_name": "DescriptionStyleModel",
      "state": {
       "description_width": ""
      }
     },
     "f3558d35add64598bfb14664cbba84b6": {
      "model_module": "@jupyter-widgets/base",
      "model_module_version": "1.2.0",
      "model_name": "LayoutModel",
      "state": {}
     },
     "f3d5b199f0ed4b53b5fca0871f57dc56": {
      "model_module": "@jupyter-widgets/base",
      "model_module_version": "1.2.0",
      "model_name": "LayoutModel",
      "state": {}
     },
     "f452e58f062f4fc7af1e8a4b614596d3": {
      "model_module": "@jupyter-widgets/controls",
      "model_module_version": "1.5.0",
      "model_name": "HBoxModel",
      "state": {
       "children": [
        "IPY_MODEL_a666b44cfeb742ca8cea437ed7da9204",
        "IPY_MODEL_4bd785af91c34bc58d77d819299530c5",
        "IPY_MODEL_5a86562a903e40f19b5a1a533613cf5d"
       ],
       "layout": "IPY_MODEL_ccd50ae7325446fb83551b4cbcb7abd5"
      }
     },
     "f4e19ad743f64561b8c37a5b122d6302": {
      "model_module": "@jupyter-widgets/controls",
      "model_module_version": "1.5.0",
      "model_name": "HBoxModel",
      "state": {
       "children": [
        "IPY_MODEL_13a1d3357f6e4d97b99142e4d58e5562",
        "IPY_MODEL_865bb690b0314d9597761abe80518ffc",
        "IPY_MODEL_7b03dc0d86e7460d8bf887c5ef25f47a"
       ],
       "layout": "IPY_MODEL_65d0f565a7b340bf86942b762420c635"
      }
     },
     "f57549b498854696a45f1cd79efbbabf": {
      "model_module": "@jupyter-widgets/controls",
      "model_module_version": "1.5.0",
      "model_name": "HTMLModel",
      "state": {
       "layout": "IPY_MODEL_e3c5ce1028694b798b180169f3362e68",
       "style": "IPY_MODEL_b9771ecc99ae4f35a99641916e9e1348",
       "value": "100%"
      }
     },
     "f5c2803178934eee9cd69611199e6e97": {
      "model_module": "@jupyter-widgets/base",
      "model_module_version": "1.2.0",
      "model_name": "LayoutModel",
      "state": {}
     },
     "f5fe72caf8fc42bd9e3b161d172e0e65": {
      "model_module": "@jupyter-widgets/controls",
      "model_module_version": "1.5.0",
      "model_name": "HTMLModel",
      "state": {
       "layout": "IPY_MODEL_877cb462dd2040b9b5d7779d71809ea4",
       "style": "IPY_MODEL_62e6770e46fc4e42aebaee3df2d74014",
       "value": " 5/5 [12:35&lt;00:00, 151.20s/it]"
      }
     },
     "f6237e0a8c0e47ed866b57008e67a481": {
      "model_module": "@jupyter-widgets/base",
      "model_module_version": "1.2.0",
      "model_name": "LayoutModel",
      "state": {}
     },
     "f623d6d0216341b8a34ad72bd157eff3": {
      "model_module": "@jupyter-widgets/base",
      "model_module_version": "1.2.0",
      "model_name": "LayoutModel",
      "state": {}
     },
     "f637b7e19f84429eaca5059ce25e2cab": {
      "model_module": "@jupyter-widgets/controls",
      "model_module_version": "1.5.0",
      "model_name": "HTMLModel",
      "state": {
       "layout": "IPY_MODEL_3fc38d76c63b4a73958195274a88140b",
       "style": "IPY_MODEL_d7ab8aed710548c98459be82b6de6d93",
       "value": "100%"
      }
     },
     "f754a03ef8af4a40807399c09a9cff94": {
      "model_module": "@jupyter-widgets/controls",
      "model_module_version": "1.5.0",
      "model_name": "DescriptionStyleModel",
      "state": {
       "description_width": ""
      }
     },
     "f783a069935b463c806392ff43d8ce4d": {
      "model_module": "@jupyter-widgets/base",
      "model_module_version": "1.2.0",
      "model_name": "LayoutModel",
      "state": {}
     },
     "f7eaa30bee684c3885bff11d61c7d6f4": {
      "model_module": "@jupyter-widgets/base",
      "model_module_version": "1.2.0",
      "model_name": "LayoutModel",
      "state": {}
     },
     "f822af2f773249e38e6db9a28dfb7c87": {
      "model_module": "@jupyter-widgets/base",
      "model_module_version": "1.2.0",
      "model_name": "LayoutModel",
      "state": {}
     },
     "f832eda04c914eeeb2c0b9957033cf90": {
      "model_module": "@jupyter-widgets/controls",
      "model_module_version": "1.5.0",
      "model_name": "DescriptionStyleModel",
      "state": {
       "description_width": ""
      }
     },
     "f83c70043db04fab8ed8fe83fb2a080b": {
      "model_module": "@jupyter-widgets/controls",
      "model_module_version": "1.5.0",
      "model_name": "DescriptionStyleModel",
      "state": {
       "description_width": ""
      }
     },
     "f83e2488559248809e501c022470cb2a": {
      "model_module": "@jupyter-widgets/controls",
      "model_module_version": "1.5.0",
      "model_name": "DescriptionStyleModel",
      "state": {
       "description_width": ""
      }
     },
     "f8867ed551ad49448bdcfc3c94e1d945": {
      "model_module": "@jupyter-widgets/controls",
      "model_module_version": "1.5.0",
      "model_name": "ProgressStyleModel",
      "state": {
       "description_width": ""
      }
     },
     "f8d6af663f824a03a23c70b8b387d405": {
      "model_module": "@jupyter-widgets/base",
      "model_module_version": "1.2.0",
      "model_name": "LayoutModel",
      "state": {}
     },
     "f8df7b6ff35d4da5a651aef911c30ec3": {
      "model_module": "@jupyter-widgets/base",
      "model_module_version": "1.2.0",
      "model_name": "LayoutModel",
      "state": {}
     },
     "f9020cd546fc4342a68c493905d32afa": {
      "model_module": "@jupyter-widgets/base",
      "model_module_version": "1.2.0",
      "model_name": "LayoutModel",
      "state": {}
     },
     "f909eb271dbc4025b3f18f99c5c0d977": {
      "model_module": "@jupyter-widgets/controls",
      "model_module_version": "1.5.0",
      "model_name": "HBoxModel",
      "state": {
       "children": [
        "IPY_MODEL_c173dfc9039f4c55abe1c4ba93968264",
        "IPY_MODEL_588ff6addd604a959488db5ace539027",
        "IPY_MODEL_b7892d431c6d438bba6821bfe52b367b"
       ],
       "layout": "IPY_MODEL_ed87df319614463cb9f87a37c479d061"
      }
     },
     "f917574633dc4742baa419f16ba5995c": {
      "model_module": "@jupyter-widgets/base",
      "model_module_version": "1.2.0",
      "model_name": "LayoutModel",
      "state": {}
     },
     "f941270565c94207a8355b4acb517d9b": {
      "model_module": "@jupyter-widgets/controls",
      "model_module_version": "1.5.0",
      "model_name": "HTMLModel",
      "state": {
       "layout": "IPY_MODEL_dbcf89f0cb864aac9298652bcf19be3f",
       "style": "IPY_MODEL_4ec03233d2324fcfa2b0dab0adf08fb3",
       "value": "100%"
      }
     },
     "f969f72793f44dffa1231a490e9882bc": {
      "model_module": "@jupyter-widgets/base",
      "model_module_version": "1.2.0",
      "model_name": "LayoutModel",
      "state": {}
     },
     "f9911eedaae04c9da89e1ac13277ec5f": {
      "model_module": "@jupyter-widgets/controls",
      "model_module_version": "1.5.0",
      "model_name": "DescriptionStyleModel",
      "state": {
       "description_width": ""
      }
     },
     "f9a7d9870db24ae29c61f18e71787479": {
      "model_module": "@jupyter-widgets/controls",
      "model_module_version": "1.5.0",
      "model_name": "FloatProgressModel",
      "state": {
       "bar_style": "success",
       "layout": "IPY_MODEL_3831136d14db48d5b7ac3040c4b19ef9",
       "max": 5,
       "style": "IPY_MODEL_297bcd62c1484196bbb6e5d2a54f1ae3",
       "value": 5
      }
     },
     "f9caa022d021471e90aafe06489218c3": {
      "model_module": "@jupyter-widgets/controls",
      "model_module_version": "1.5.0",
      "model_name": "FloatProgressModel",
      "state": {
       "bar_style": "danger",
       "layout": "IPY_MODEL_707f710c31814754be37de38e6bdf951",
       "max": 5,
       "style": "IPY_MODEL_edb6b412fed34dd5b1ccce86f70ff890"
      }
     },
     "fa0c1411c0b542adad24a3e51356e346": {
      "model_module": "@jupyter-widgets/base",
      "model_module_version": "1.2.0",
      "model_name": "LayoutModel",
      "state": {}
     },
     "fa366748993049f0bf3c1f3fe9baea24": {
      "model_module": "@jupyter-widgets/base",
      "model_module_version": "1.2.0",
      "model_name": "LayoutModel",
      "state": {}
     },
     "fa7d9d0b644648b0ab9b0da03fea34ac": {
      "model_module": "@jupyter-widgets/controls",
      "model_module_version": "1.5.0",
      "model_name": "DescriptionStyleModel",
      "state": {
       "description_width": ""
      }
     },
     "fadab9a4bc1b49528c9daae633ca0418": {
      "model_module": "@jupyter-widgets/base",
      "model_module_version": "1.2.0",
      "model_name": "LayoutModel",
      "state": {}
     },
     "fae1b53543d248d0b5f8c30609e068ec": {
      "model_module": "@jupyter-widgets/base",
      "model_module_version": "1.2.0",
      "model_name": "LayoutModel",
      "state": {}
     },
     "fbcfcae17d504be0a461cd7db70551c8": {
      "model_module": "@jupyter-widgets/controls",
      "model_module_version": "1.5.0",
      "model_name": "HTMLModel",
      "state": {
       "layout": "IPY_MODEL_65c62979ddfd49ad9f31693c4ba87a45",
       "style": "IPY_MODEL_438e4ab7f55b406a96cbcbb4748bba51",
       "value": " 5/5 [00:04&lt;00:00,  1.07it/s]"
      }
     },
     "fbd657add95a441992e46ec263ecb9f2": {
      "model_module": "@jupyter-widgets/controls",
      "model_module_version": "1.5.0",
      "model_name": "FloatProgressModel",
      "state": {
       "bar_style": "danger",
       "layout": "IPY_MODEL_34c8fbcca69447feaf3417c498b22d82",
       "max": 5,
       "style": "IPY_MODEL_226b0e54faa6439dacfabb93ab3ac3ee"
      }
     },
     "fbd68ada16724129ac8794036260f2bd": {
      "model_module": "@jupyter-widgets/controls",
      "model_module_version": "1.5.0",
      "model_name": "HTMLModel",
      "state": {
       "layout": "IPY_MODEL_47eefa3b4c6a40febc44ef6f4d998318",
       "style": "IPY_MODEL_df46832b9d8a45378a3faa17142cd1e4",
       "value": " 5/5 [00:04&lt;00:00,  1.02it/s]"
      }
     },
     "fc08fa1d49d44c4dbf5e939058b800a9": {
      "model_module": "@jupyter-widgets/base",
      "model_module_version": "1.2.0",
      "model_name": "LayoutModel",
      "state": {}
     },
     "fc1ad0ac257c4b489899d9521a96e282": {
      "model_module": "@jupyter-widgets/base",
      "model_module_version": "1.2.0",
      "model_name": "LayoutModel",
      "state": {}
     },
     "fc81c65a6800462fb3c9bcb028a12b8d": {
      "model_module": "@jupyter-widgets/base",
      "model_module_version": "1.2.0",
      "model_name": "LayoutModel",
      "state": {}
     },
     "fd2b6e6de42342809da50d7d73af86bf": {
      "model_module": "@jupyter-widgets/controls",
      "model_module_version": "1.5.0",
      "model_name": "HTMLModel",
      "state": {
       "layout": "IPY_MODEL_cb296f84a7bc4591a596352271c7056e",
       "style": "IPY_MODEL_4f56f958afe24459baf218320c9e0530",
       "value": " 5/5 [13:50&lt;00:00, 165.09s/it]"
      }
     },
     "fdaf6526578748798d1d7dbe587ca447": {
      "model_module": "@jupyter-widgets/controls",
      "model_module_version": "1.5.0",
      "model_name": "HTMLModel",
      "state": {
       "layout": "IPY_MODEL_25c8a45c7fb14764b77879bf580af310",
       "style": "IPY_MODEL_4657519dcc1a4464bb6df78aa38c2179",
       "value": " 20%"
      }
     },
     "fe86924d599a45a8955f9496922ac657": {
      "model_module": "@jupyter-widgets/base",
      "model_module_version": "1.2.0",
      "model_name": "LayoutModel",
      "state": {}
     },
     "fea76081b0514c538814fac517301f18": {
      "model_module": "@jupyter-widgets/base",
      "model_module_version": "1.2.0",
      "model_name": "LayoutModel",
      "state": {}
     },
     "fec7cd2724bd4a29805ebb858b06a07c": {
      "model_module": "@jupyter-widgets/base",
      "model_module_version": "1.2.0",
      "model_name": "LayoutModel",
      "state": {}
     },
     "fee0e89774fb45019e131a64b8740361": {
      "model_module": "@jupyter-widgets/controls",
      "model_module_version": "1.5.0",
      "model_name": "DescriptionStyleModel",
      "state": {
       "description_width": ""
      }
     },
     "ff19b26fdcfe4aeea3c415f8fd465c61": {
      "model_module": "@jupyter-widgets/controls",
      "model_module_version": "1.5.0",
      "model_name": "FloatProgressModel",
      "state": {
       "bar_style": "success",
       "layout": "IPY_MODEL_8539324fd39f45fe81285607c261688d",
       "max": 5,
       "style": "IPY_MODEL_630a701c557b44808b88054b94e67a89",
       "value": 5
      }
     },
     "ff965be747a14387b52f27ea6c34c159": {
      "model_module": "@jupyter-widgets/controls",
      "model_module_version": "1.5.0",
      "model_name": "ProgressStyleModel",
      "state": {
       "description_width": ""
      }
     },
     "ffae4808e8ac43c988fe7e80e9a4fb2d": {
      "model_module": "@jupyter-widgets/base",
      "model_module_version": "1.2.0",
      "model_name": "LayoutModel",
      "state": {}
     }
    },
    "version_major": 2,
    "version_minor": 0
   }
  }
 },
 "nbformat": 4,
 "nbformat_minor": 4
}
