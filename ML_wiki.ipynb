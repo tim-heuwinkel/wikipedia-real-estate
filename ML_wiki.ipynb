{
 "cells": [
  {
   "cell_type": "markdown",
   "metadata": {},
   "source": [
    "# Machine learning with text based housing data"
   ]
  },
  {
   "cell_type": "markdown",
   "metadata": {},
   "source": [
    "Experimenting with text based housing data."
   ]
  },
  {
   "cell_type": "markdown",
   "metadata": {},
   "source": [
    "### Import packages"
   ]
  },
  {
   "cell_type": "code",
   "execution_count": 1,
   "metadata": {},
   "outputs": [],
   "source": [
    "import json\n",
    "import math\n",
    "import random\n",
    "import warnings\n",
    "warnings.filterwarnings(action=\"ignore\")\n",
    "\n",
    "from catboost import CatBoostRegressor, Pool\n",
    "import xgboost as xgb\n",
    "\n",
    "from sklearn.metrics import mean_absolute_error, r2_score, mean_squared_error\n",
    "from sklearn.preprocessing import StandardScaler\n",
    "from sklearn.model_selection import train_test_split, RandomizedSearchCV, KFold\n",
    "from sklearn.ensemble import RandomForestClassifier\n",
    "from sklearn.feature_selection import RFECV\n",
    "from sklearn import linear_model\n",
    "\n",
    "from utils import *\n",
    "\n",
    "import matplotlib.pyplot as plt\n",
    "import numpy as np\n",
    "import pandas as pd\n",
    "import joblib\n",
    "from tqdm.notebook import tqdm\n",
    "from IPython.display import display_html"
   ]
  },
  {
   "cell_type": "markdown",
   "metadata": {},
   "source": [
    "Definde constants.\n",
    "\n",
    "- ``PATH``: Path to the base data folder\n",
    "- ``MAX_DIST``: Maximum distance for article weights\n",
    "- ``K_FOLDS``: Number of folds to perform for cross validation"
   ]
  },
  {
   "cell_type": "code",
   "execution_count": 2,
   "metadata": {},
   "outputs": [],
   "source": [
    "PATH = \"C:/Users/Tim/.keras/datasets/wikipedia_real_estate/\"\n",
    "MAX_DIST = 6500\n",
    "K_FOLDS = 5\n",
    "WEIGHTING = True\n",
    "MEAN = True\n",
    "DUMMIES = [\"MUNICODE\"]  # e.g. [\"MUNICODE\"]"
   ]
  },
  {
   "cell_type": "markdown",
   "metadata": {},
   "source": [
    "Read structured data with added text features."
   ]
  },
  {
   "cell_type": "code",
   "execution_count": 3,
   "metadata": {
    "scrolled": false
   },
   "outputs": [
    {
     "name": "stdout",
     "output_type": "stream",
     "text": [
      "(9554, 3174)\n"
     ]
    },
    {
     "data": {
      "text/html": [
       "<div>\n",
       "<style scoped>\n",
       "    .dataframe tbody tr th:only-of-type {\n",
       "        vertical-align: middle;\n",
       "    }\n",
       "\n",
       "    .dataframe tbody tr th {\n",
       "        vertical-align: top;\n",
       "    }\n",
       "\n",
       "    .dataframe thead th {\n",
       "        text-align: right;\n",
       "    }\n",
       "</style>\n",
       "<table border=\"1\" class=\"dataframe\">\n",
       "  <thead>\n",
       "    <tr style=\"text-align: right;\">\n",
       "      <th></th>\n",
       "      <th>_id</th>\n",
       "      <th>PROPERTYZIP</th>\n",
       "      <th>MUNICODE</th>\n",
       "      <th>SCHOOLCODE</th>\n",
       "      <th>NEIGHCODE</th>\n",
       "      <th>LOTAREA</th>\n",
       "      <th>SALEDATE</th>\n",
       "      <th>SALEPRICE</th>\n",
       "      <th>FAIRMARKETTOTAL</th>\n",
       "      <th>STORIES</th>\n",
       "      <th>...</th>\n",
       "      <th>yielding student</th>\n",
       "      <th>york</th>\n",
       "      <th>york city</th>\n",
       "      <th>youghiogheny</th>\n",
       "      <th>youghiogheny river</th>\n",
       "      <th>young</th>\n",
       "      <th>youth</th>\n",
       "      <th>zip</th>\n",
       "      <th>zip code</th>\n",
       "      <th>article_count</th>\n",
       "    </tr>\n",
       "  </thead>\n",
       "  <tbody>\n",
       "    <tr>\n",
       "      <th>0</th>\n",
       "      <td>362058</td>\n",
       "      <td>15212</td>\n",
       "      <td>126</td>\n",
       "      <td>47</td>\n",
       "      <td>12603</td>\n",
       "      <td>5329</td>\n",
       "      <td>10-27-2017</td>\n",
       "      <td>113000.0</td>\n",
       "      <td>69200</td>\n",
       "      <td>1.0</td>\n",
       "      <td>...</td>\n",
       "      <td>0.000840</td>\n",
       "      <td>0.385980</td>\n",
       "      <td>0.114879</td>\n",
       "      <td>0.008347</td>\n",
       "      <td>0.007765</td>\n",
       "      <td>0.203187</td>\n",
       "      <td>0.077129</td>\n",
       "      <td>0.107527</td>\n",
       "      <td>0.089066</td>\n",
       "      <td>775</td>\n",
       "    </tr>\n",
       "    <tr>\n",
       "      <th>1</th>\n",
       "      <td>544290</td>\n",
       "      <td>15017</td>\n",
       "      <td>946</td>\n",
       "      <td>36</td>\n",
       "      <td>94601</td>\n",
       "      <td>10800</td>\n",
       "      <td>09-27-2016</td>\n",
       "      <td>320000.0</td>\n",
       "      <td>269900</td>\n",
       "      <td>2.0</td>\n",
       "      <td>...</td>\n",
       "      <td>0.000000</td>\n",
       "      <td>0.104479</td>\n",
       "      <td>0.036831</td>\n",
       "      <td>0.000000</td>\n",
       "      <td>0.000000</td>\n",
       "      <td>0.000000</td>\n",
       "      <td>0.387370</td>\n",
       "      <td>0.269866</td>\n",
       "      <td>0.253284</td>\n",
       "      <td>31</td>\n",
       "    </tr>\n",
       "    <tr>\n",
       "      <th>2</th>\n",
       "      <td>314083</td>\n",
       "      <td>15090</td>\n",
       "      <td>935</td>\n",
       "      <td>3</td>\n",
       "      <td>93503</td>\n",
       "      <td>114476</td>\n",
       "      <td>03-25-2017</td>\n",
       "      <td>545000.0</td>\n",
       "      <td>450000</td>\n",
       "      <td>1.0</td>\n",
       "      <td>...</td>\n",
       "      <td>0.421390</td>\n",
       "      <td>0.000000</td>\n",
       "      <td>0.000000</td>\n",
       "      <td>0.000000</td>\n",
       "      <td>0.000000</td>\n",
       "      <td>0.000000</td>\n",
       "      <td>0.031478</td>\n",
       "      <td>0.169031</td>\n",
       "      <td>0.177080</td>\n",
       "      <td>20</td>\n",
       "    </tr>\n",
       "    <tr>\n",
       "      <th>3</th>\n",
       "      <td>314280</td>\n",
       "      <td>15241</td>\n",
       "      <td>950</td>\n",
       "      <td>42</td>\n",
       "      <td>95003</td>\n",
       "      <td>43197</td>\n",
       "      <td>06-09-2016</td>\n",
       "      <td>315000.0</td>\n",
       "      <td>274000</td>\n",
       "      <td>2.0</td>\n",
       "      <td>...</td>\n",
       "      <td>0.241856</td>\n",
       "      <td>0.088242</td>\n",
       "      <td>0.044390</td>\n",
       "      <td>0.000000</td>\n",
       "      <td>0.000000</td>\n",
       "      <td>0.028360</td>\n",
       "      <td>0.042316</td>\n",
       "      <td>0.039828</td>\n",
       "      <td>0.041048</td>\n",
       "      <td>53</td>\n",
       "    </tr>\n",
       "    <tr>\n",
       "      <th>4</th>\n",
       "      <td>314812</td>\n",
       "      <td>15239</td>\n",
       "      <td>880</td>\n",
       "      <td>31</td>\n",
       "      <td>88006</td>\n",
       "      <td>12390</td>\n",
       "      <td>01-31-2017</td>\n",
       "      <td>174900.0</td>\n",
       "      <td>154100</td>\n",
       "      <td>2.0</td>\n",
       "      <td>...</td>\n",
       "      <td>0.739299</td>\n",
       "      <td>0.032164</td>\n",
       "      <td>0.000000</td>\n",
       "      <td>0.024987</td>\n",
       "      <td>0.000000</td>\n",
       "      <td>0.022410</td>\n",
       "      <td>0.039523</td>\n",
       "      <td>0.000000</td>\n",
       "      <td>0.000000</td>\n",
       "      <td>13</td>\n",
       "    </tr>\n",
       "    <tr>\n",
       "      <th>5</th>\n",
       "      <td>315579</td>\n",
       "      <td>15143</td>\n",
       "      <td>921</td>\n",
       "      <td>32</td>\n",
       "      <td>92102</td>\n",
       "      <td>10081</td>\n",
       "      <td>03-02-2015</td>\n",
       "      <td>300000.0</td>\n",
       "      <td>244600</td>\n",
       "      <td>2.0</td>\n",
       "      <td>...</td>\n",
       "      <td>0.286786</td>\n",
       "      <td>0.228377</td>\n",
       "      <td>0.000077</td>\n",
       "      <td>0.059439</td>\n",
       "      <td>0.061049</td>\n",
       "      <td>0.174641</td>\n",
       "      <td>0.127391</td>\n",
       "      <td>0.070458</td>\n",
       "      <td>0.073813</td>\n",
       "      <td>57</td>\n",
       "    </tr>\n",
       "    <tr>\n",
       "      <th>6</th>\n",
       "      <td>315587</td>\n",
       "      <td>15235</td>\n",
       "      <td>934</td>\n",
       "      <td>30</td>\n",
       "      <td>93401</td>\n",
       "      <td>10257</td>\n",
       "      <td>05-15-2017</td>\n",
       "      <td>172500.0</td>\n",
       "      <td>144700</td>\n",
       "      <td>2.0</td>\n",
       "      <td>...</td>\n",
       "      <td>0.380227</td>\n",
       "      <td>0.235346</td>\n",
       "      <td>0.109887</td>\n",
       "      <td>0.048135</td>\n",
       "      <td>0.000000</td>\n",
       "      <td>0.140575</td>\n",
       "      <td>0.214427</td>\n",
       "      <td>0.057435</td>\n",
       "      <td>0.030560</td>\n",
       "      <td>49</td>\n",
       "    </tr>\n",
       "    <tr>\n",
       "      <th>7</th>\n",
       "      <td>362804</td>\n",
       "      <td>15102</td>\n",
       "      <td>876</td>\n",
       "      <td>5</td>\n",
       "      <td>87603</td>\n",
       "      <td>10920</td>\n",
       "      <td>07-11-2016</td>\n",
       "      <td>250000.0</td>\n",
       "      <td>217800</td>\n",
       "      <td>2.0</td>\n",
       "      <td>...</td>\n",
       "      <td>0.193749</td>\n",
       "      <td>0.057654</td>\n",
       "      <td>0.007831</td>\n",
       "      <td>0.000000</td>\n",
       "      <td>0.000000</td>\n",
       "      <td>0.036618</td>\n",
       "      <td>0.007465</td>\n",
       "      <td>0.037384</td>\n",
       "      <td>0.039164</td>\n",
       "      <td>68</td>\n",
       "    </tr>\n",
       "    <tr>\n",
       "      <th>8</th>\n",
       "      <td>315758</td>\n",
       "      <td>15108</td>\n",
       "      <td>939</td>\n",
       "      <td>24</td>\n",
       "      <td>93903</td>\n",
       "      <td>54189</td>\n",
       "      <td>09-28-2018</td>\n",
       "      <td>199900.0</td>\n",
       "      <td>174700</td>\n",
       "      <td>1.0</td>\n",
       "      <td>...</td>\n",
       "      <td>0.141333</td>\n",
       "      <td>0.086281</td>\n",
       "      <td>0.000000</td>\n",
       "      <td>0.024239</td>\n",
       "      <td>0.000000</td>\n",
       "      <td>0.042487</td>\n",
       "      <td>0.096750</td>\n",
       "      <td>0.025549</td>\n",
       "      <td>0.026766</td>\n",
       "      <td>56</td>\n",
       "    </tr>\n",
       "    <tr>\n",
       "      <th>9</th>\n",
       "      <td>315868</td>\n",
       "      <td>15133</td>\n",
       "      <td>837</td>\n",
       "      <td>35</td>\n",
       "      <td>83702</td>\n",
       "      <td>6569</td>\n",
       "      <td>05-12-2017</td>\n",
       "      <td>143000.0</td>\n",
       "      <td>117900</td>\n",
       "      <td>2.0</td>\n",
       "      <td>...</td>\n",
       "      <td>0.150948</td>\n",
       "      <td>0.153154</td>\n",
       "      <td>0.051771</td>\n",
       "      <td>1.592789</td>\n",
       "      <td>1.425353</td>\n",
       "      <td>0.070506</td>\n",
       "      <td>0.118956</td>\n",
       "      <td>0.160361</td>\n",
       "      <td>0.136056</td>\n",
       "      <td>54</td>\n",
       "    </tr>\n",
       "  </tbody>\n",
       "</table>\n",
       "<p>10 rows × 3174 columns</p>\n",
       "</div>"
      ],
      "text/plain": [
       "      _id  PROPERTYZIP  MUNICODE  SCHOOLCODE  NEIGHCODE  LOTAREA    SALEDATE  \\\n",
       "0  362058        15212       126          47      12603     5329  10-27-2017   \n",
       "1  544290        15017       946          36      94601    10800  09-27-2016   \n",
       "2  314083        15090       935           3      93503   114476  03-25-2017   \n",
       "3  314280        15241       950          42      95003    43197  06-09-2016   \n",
       "4  314812        15239       880          31      88006    12390  01-31-2017   \n",
       "5  315579        15143       921          32      92102    10081  03-02-2015   \n",
       "6  315587        15235       934          30      93401    10257  05-15-2017   \n",
       "7  362804        15102       876           5      87603    10920  07-11-2016   \n",
       "8  315758        15108       939          24      93903    54189  09-28-2018   \n",
       "9  315868        15133       837          35      83702     6569  05-12-2017   \n",
       "\n",
       "   SALEPRICE  FAIRMARKETTOTAL  STORIES  ...  yielding student      york  \\\n",
       "0   113000.0            69200      1.0  ...          0.000840  0.385980   \n",
       "1   320000.0           269900      2.0  ...          0.000000  0.104479   \n",
       "2   545000.0           450000      1.0  ...          0.421390  0.000000   \n",
       "3   315000.0           274000      2.0  ...          0.241856  0.088242   \n",
       "4   174900.0           154100      2.0  ...          0.739299  0.032164   \n",
       "5   300000.0           244600      2.0  ...          0.286786  0.228377   \n",
       "6   172500.0           144700      2.0  ...          0.380227  0.235346   \n",
       "7   250000.0           217800      2.0  ...          0.193749  0.057654   \n",
       "8   199900.0           174700      1.0  ...          0.141333  0.086281   \n",
       "9   143000.0           117900      2.0  ...          0.150948  0.153154   \n",
       "\n",
       "   york city  youghiogheny  youghiogheny river     young     youth       zip  \\\n",
       "0   0.114879      0.008347            0.007765  0.203187  0.077129  0.107527   \n",
       "1   0.036831      0.000000            0.000000  0.000000  0.387370  0.269866   \n",
       "2   0.000000      0.000000            0.000000  0.000000  0.031478  0.169031   \n",
       "3   0.044390      0.000000            0.000000  0.028360  0.042316  0.039828   \n",
       "4   0.000000      0.024987            0.000000  0.022410  0.039523  0.000000   \n",
       "5   0.000077      0.059439            0.061049  0.174641  0.127391  0.070458   \n",
       "6   0.109887      0.048135            0.000000  0.140575  0.214427  0.057435   \n",
       "7   0.007831      0.000000            0.000000  0.036618  0.007465  0.037384   \n",
       "8   0.000000      0.024239            0.000000  0.042487  0.096750  0.025549   \n",
       "9   0.051771      1.592789            1.425353  0.070506  0.118956  0.160361   \n",
       "\n",
       "   zip code  article_count  \n",
       "0  0.089066            775  \n",
       "1  0.253284             31  \n",
       "2  0.177080             20  \n",
       "3  0.041048             53  \n",
       "4  0.000000             13  \n",
       "5  0.073813             57  \n",
       "6  0.030560             49  \n",
       "7  0.039164             68  \n",
       "8  0.026766             56  \n",
       "9  0.136056             54  \n",
       "\n",
       "[10 rows x 3174 columns]"
      ]
     },
     "execution_count": 3,
     "metadata": {},
     "output_type": "execute_result"
    }
   ],
   "source": [
    "if not WEIGHTING:\n",
    "    structured_wiki_text = pd.read_csv(PATH + f\"structured_wiki_text_features_{MAX_DIST}_NOWEIGHT.csv\")\n",
    "elif not MEAN:\n",
    "    structured_wiki_text = pd.read_csv(PATH + f\"structured_wiki_text_features_{MAX_DIST}_NOMEAN.csv\")\n",
    "else:\n",
    "    structured_wiki_text = pd.read_csv(PATH + f\"structured_wiki_text_features_{MAX_DIST}.csv\")\n",
    "    \n",
    "print(structured_wiki_text.shape)\n",
    "structured_wiki_text.head(10)"
   ]
  },
  {
   "cell_type": "markdown",
   "metadata": {},
   "source": [
    "Create the data sets and error dataframe"
   ]
  },
  {
   "cell_type": "code",
   "execution_count": 4,
   "metadata": {},
   "outputs": [
    {
     "name": "stdout",
     "output_type": "stream",
     "text": [
      "(9554, 115)\n"
     ]
    },
    {
     "data": {
      "text/html": [
       "<div>\n",
       "<style scoped>\n",
       "    .dataframe tbody tr th:only-of-type {\n",
       "        vertical-align: middle;\n",
       "    }\n",
       "\n",
       "    .dataframe tbody tr th {\n",
       "        vertical-align: top;\n",
       "    }\n",
       "\n",
       "    .dataframe thead th {\n",
       "        text-align: right;\n",
       "    }\n",
       "</style>\n",
       "<table border=\"1\" class=\"dataframe\">\n",
       "  <thead>\n",
       "    <tr style=\"text-align: right;\">\n",
       "      <th></th>\n",
       "      <th>_id</th>\n",
       "      <th>PROPERTYZIP</th>\n",
       "      <th>MUNICODE</th>\n",
       "      <th>SCHOOLCODE</th>\n",
       "      <th>NEIGHCODE</th>\n",
       "      <th>LOTAREA</th>\n",
       "      <th>SALEDATE</th>\n",
       "      <th>SALEPRICE</th>\n",
       "      <th>FAIRMARKETTOTAL</th>\n",
       "      <th>STORIES</th>\n",
       "      <th>...</th>\n",
       "      <th>high school_dist</th>\n",
       "      <th>high school_count</th>\n",
       "      <th>public_dist</th>\n",
       "      <th>public_count</th>\n",
       "      <th>defunct_dist</th>\n",
       "      <th>defunct_count</th>\n",
       "      <th>golf_dist</th>\n",
       "      <th>golf_count</th>\n",
       "      <th>transportation_dist</th>\n",
       "      <th>transportation_count</th>\n",
       "    </tr>\n",
       "  </thead>\n",
       "  <tbody>\n",
       "    <tr>\n",
       "      <th>0</th>\n",
       "      <td>536102</td>\n",
       "      <td>15219</td>\n",
       "      <td>103</td>\n",
       "      <td>47</td>\n",
       "      <td>10301</td>\n",
       "      <td>2875</td>\n",
       "      <td>01-31-2018</td>\n",
       "      <td>287000.0</td>\n",
       "      <td>159000</td>\n",
       "      <td>2.0</td>\n",
       "      <td>...</td>\n",
       "      <td>646.211908</td>\n",
       "      <td>4</td>\n",
       "      <td>993.947917</td>\n",
       "      <td>10</td>\n",
       "      <td>517.699850</td>\n",
       "      <td>14</td>\n",
       "      <td>3654.869381</td>\n",
       "      <td>0</td>\n",
       "      <td>910.904485</td>\n",
       "      <td>5</td>\n",
       "    </tr>\n",
       "    <tr>\n",
       "      <th>1</th>\n",
       "      <td>197251</td>\n",
       "      <td>15241</td>\n",
       "      <td>950</td>\n",
       "      <td>42</td>\n",
       "      <td>95002</td>\n",
       "      <td>17193</td>\n",
       "      <td>09-02-2017</td>\n",
       "      <td>299900.0</td>\n",
       "      <td>259500</td>\n",
       "      <td>2.0</td>\n",
       "      <td>...</td>\n",
       "      <td>1356.822566</td>\n",
       "      <td>1</td>\n",
       "      <td>1356.822566</td>\n",
       "      <td>1</td>\n",
       "      <td>9127.889947</td>\n",
       "      <td>0</td>\n",
       "      <td>6210.239877</td>\n",
       "      <td>0</td>\n",
       "      <td>5248.021671</td>\n",
       "      <td>0</td>\n",
       "    </tr>\n",
       "    <tr>\n",
       "      <th>2</th>\n",
       "      <td>25219</td>\n",
       "      <td>15146</td>\n",
       "      <td>879</td>\n",
       "      <td>18</td>\n",
       "      <td>87910</td>\n",
       "      <td>22264</td>\n",
       "      <td>03-22-2017</td>\n",
       "      <td>190000.0</td>\n",
       "      <td>214900</td>\n",
       "      <td>2.0</td>\n",
       "      <td>...</td>\n",
       "      <td>3340.901141</td>\n",
       "      <td>0</td>\n",
       "      <td>3340.901141</td>\n",
       "      <td>0</td>\n",
       "      <td>1133.283586</td>\n",
       "      <td>1</td>\n",
       "      <td>11845.526480</td>\n",
       "      <td>0</td>\n",
       "      <td>6003.343808</td>\n",
       "      <td>0</td>\n",
       "    </tr>\n",
       "    <tr>\n",
       "      <th>3</th>\n",
       "      <td>197755</td>\n",
       "      <td>15236</td>\n",
       "      <td>873</td>\n",
       "      <td>44</td>\n",
       "      <td>87302</td>\n",
       "      <td>7800</td>\n",
       "      <td>05-09-2017</td>\n",
       "      <td>225000.0</td>\n",
       "      <td>155000</td>\n",
       "      <td>2.0</td>\n",
       "      <td>...</td>\n",
       "      <td>1918.186873</td>\n",
       "      <td>2</td>\n",
       "      <td>1918.186873</td>\n",
       "      <td>1</td>\n",
       "      <td>1831.468503</td>\n",
       "      <td>2</td>\n",
       "      <td>7576.960841</td>\n",
       "      <td>0</td>\n",
       "      <td>3950.374941</td>\n",
       "      <td>0</td>\n",
       "    </tr>\n",
       "    <tr>\n",
       "      <th>4</th>\n",
       "      <td>198593</td>\n",
       "      <td>15015</td>\n",
       "      <td>809</td>\n",
       "      <td>27</td>\n",
       "      <td>80902</td>\n",
       "      <td>43734</td>\n",
       "      <td>06-28-2019</td>\n",
       "      <td>249000.0</td>\n",
       "      <td>208800</td>\n",
       "      <td>2.0</td>\n",
       "      <td>...</td>\n",
       "      <td>4211.043296</td>\n",
       "      <td>0</td>\n",
       "      <td>1455.785244</td>\n",
       "      <td>1</td>\n",
       "      <td>13266.442574</td>\n",
       "      <td>0</td>\n",
       "      <td>21196.013740</td>\n",
       "      <td>0</td>\n",
       "      <td>9357.397493</td>\n",
       "      <td>0</td>\n",
       "    </tr>\n",
       "    <tr>\n",
       "      <th>5</th>\n",
       "      <td>532924</td>\n",
       "      <td>15212</td>\n",
       "      <td>127</td>\n",
       "      <td>47</td>\n",
       "      <td>12703</td>\n",
       "      <td>5000</td>\n",
       "      <td>05-25-2016</td>\n",
       "      <td>113000.0</td>\n",
       "      <td>84300</td>\n",
       "      <td>2.0</td>\n",
       "      <td>...</td>\n",
       "      <td>270.510903</td>\n",
       "      <td>1</td>\n",
       "      <td>270.510903</td>\n",
       "      <td>4</td>\n",
       "      <td>270.510903</td>\n",
       "      <td>7</td>\n",
       "      <td>8006.652249</td>\n",
       "      <td>0</td>\n",
       "      <td>2587.035978</td>\n",
       "      <td>0</td>\n",
       "    </tr>\n",
       "    <tr>\n",
       "      <th>6</th>\n",
       "      <td>198384</td>\n",
       "      <td>15136</td>\n",
       "      <td>919</td>\n",
       "      <td>24</td>\n",
       "      <td>91903</td>\n",
       "      <td>9664</td>\n",
       "      <td>10-30-2015</td>\n",
       "      <td>189900.0</td>\n",
       "      <td>169200</td>\n",
       "      <td>1.0</td>\n",
       "      <td>...</td>\n",
       "      <td>599.370206</td>\n",
       "      <td>1</td>\n",
       "      <td>599.370206</td>\n",
       "      <td>1</td>\n",
       "      <td>3972.673023</td>\n",
       "      <td>0</td>\n",
       "      <td>9015.869977</td>\n",
       "      <td>0</td>\n",
       "      <td>4286.475014</td>\n",
       "      <td>0</td>\n",
       "    </tr>\n",
       "    <tr>\n",
       "      <th>7</th>\n",
       "      <td>198694</td>\n",
       "      <td>15237</td>\n",
       "      <td>927</td>\n",
       "      <td>27</td>\n",
       "      <td>92703</td>\n",
       "      <td>12162</td>\n",
       "      <td>11-06-2019</td>\n",
       "      <td>310000.0</td>\n",
       "      <td>257800</td>\n",
       "      <td>2.0</td>\n",
       "      <td>...</td>\n",
       "      <td>2039.286700</td>\n",
       "      <td>1</td>\n",
       "      <td>2039.286700</td>\n",
       "      <td>2</td>\n",
       "      <td>4648.043348</td>\n",
       "      <td>0</td>\n",
       "      <td>11673.441446</td>\n",
       "      <td>0</td>\n",
       "      <td>8344.857679</td>\n",
       "      <td>0</td>\n",
       "    </tr>\n",
       "    <tr>\n",
       "      <th>8</th>\n",
       "      <td>198744</td>\n",
       "      <td>15227</td>\n",
       "      <td>874</td>\n",
       "      <td>4</td>\n",
       "      <td>87402</td>\n",
       "      <td>6695</td>\n",
       "      <td>03-13-2018</td>\n",
       "      <td>165000.0</td>\n",
       "      <td>144200</td>\n",
       "      <td>1.5</td>\n",
       "      <td>...</td>\n",
       "      <td>800.919649</td>\n",
       "      <td>2</td>\n",
       "      <td>800.919649</td>\n",
       "      <td>2</td>\n",
       "      <td>2921.479813</td>\n",
       "      <td>0</td>\n",
       "      <td>3399.838705</td>\n",
       "      <td>0</td>\n",
       "      <td>4095.874034</td>\n",
       "      <td>0</td>\n",
       "    </tr>\n",
       "    <tr>\n",
       "      <th>9</th>\n",
       "      <td>199198</td>\n",
       "      <td>15139</td>\n",
       "      <td>845</td>\n",
       "      <td>33</td>\n",
       "      <td>84501</td>\n",
       "      <td>12050</td>\n",
       "      <td>08-24-2018</td>\n",
       "      <td>380000.0</td>\n",
       "      <td>320000</td>\n",
       "      <td>2.0</td>\n",
       "      <td>...</td>\n",
       "      <td>935.704859</td>\n",
       "      <td>1</td>\n",
       "      <td>935.704859</td>\n",
       "      <td>1</td>\n",
       "      <td>9131.859699</td>\n",
       "      <td>0</td>\n",
       "      <td>452.914362</td>\n",
       "      <td>15</td>\n",
       "      <td>2780.160495</td>\n",
       "      <td>0</td>\n",
       "    </tr>\n",
       "  </tbody>\n",
       "</table>\n",
       "<p>10 rows × 115 columns</p>\n",
       "</div>"
      ],
      "text/plain": [
       "      _id  PROPERTYZIP  MUNICODE  SCHOOLCODE  NEIGHCODE  LOTAREA    SALEDATE  \\\n",
       "0  536102        15219       103          47      10301     2875  01-31-2018   \n",
       "1  197251        15241       950          42      95002    17193  09-02-2017   \n",
       "2   25219        15146       879          18      87910    22264  03-22-2017   \n",
       "3  197755        15236       873          44      87302     7800  05-09-2017   \n",
       "4  198593        15015       809          27      80902    43734  06-28-2019   \n",
       "5  532924        15212       127          47      12703     5000  05-25-2016   \n",
       "6  198384        15136       919          24      91903     9664  10-30-2015   \n",
       "7  198694        15237       927          27      92703    12162  11-06-2019   \n",
       "8  198744        15227       874           4      87402     6695  03-13-2018   \n",
       "9  199198        15139       845          33      84501    12050  08-24-2018   \n",
       "\n",
       "   SALEPRICE  FAIRMARKETTOTAL  STORIES  ...  high school_dist  \\\n",
       "0   287000.0           159000      2.0  ...        646.211908   \n",
       "1   299900.0           259500      2.0  ...       1356.822566   \n",
       "2   190000.0           214900      2.0  ...       3340.901141   \n",
       "3   225000.0           155000      2.0  ...       1918.186873   \n",
       "4   249000.0           208800      2.0  ...       4211.043296   \n",
       "5   113000.0            84300      2.0  ...        270.510903   \n",
       "6   189900.0           169200      1.0  ...        599.370206   \n",
       "7   310000.0           257800      2.0  ...       2039.286700   \n",
       "8   165000.0           144200      1.5  ...        800.919649   \n",
       "9   380000.0           320000      2.0  ...        935.704859   \n",
       "\n",
       "   high school_count  public_dist  public_count  defunct_dist  defunct_count  \\\n",
       "0                  4   993.947917            10    517.699850             14   \n",
       "1                  1  1356.822566             1   9127.889947              0   \n",
       "2                  0  3340.901141             0   1133.283586              1   \n",
       "3                  2  1918.186873             1   1831.468503              2   \n",
       "4                  0  1455.785244             1  13266.442574              0   \n",
       "5                  1   270.510903             4    270.510903              7   \n",
       "6                  1   599.370206             1   3972.673023              0   \n",
       "7                  1  2039.286700             2   4648.043348              0   \n",
       "8                  2   800.919649             2   2921.479813              0   \n",
       "9                  1   935.704859             1   9131.859699              0   \n",
       "\n",
       "      golf_dist  golf_count  transportation_dist  transportation_count  \n",
       "0   3654.869381           0           910.904485                     5  \n",
       "1   6210.239877           0          5248.021671                     0  \n",
       "2  11845.526480           0          6003.343808                     0  \n",
       "3   7576.960841           0          3950.374941                     0  \n",
       "4  21196.013740           0          9357.397493                     0  \n",
       "5   8006.652249           0          2587.035978                     0  \n",
       "6   9015.869977           0          4286.475014                     0  \n",
       "7  11673.441446           0          8344.857679                     0  \n",
       "8   3399.838705           0          4095.874034                     0  \n",
       "9    452.914362          15          2780.160495                     0  \n",
       "\n",
       "[10 rows x 115 columns]"
      ]
     },
     "execution_count": 4,
     "metadata": {},
     "output_type": "execute_result"
    }
   ],
   "source": [
    "structured_wiki_categories = pd.read_csv(PATH+\"structured_wiki_category_features.csv\")\n",
    "print(structured_wiki_categories.shape)\n",
    "structured_wiki_categories.head(10)"
   ]
  },
  {
   "cell_type": "markdown",
   "metadata": {},
   "source": [
    "Create results df"
   ]
  },
  {
   "cell_type": "code",
   "execution_count": 5,
   "metadata": {},
   "outputs": [],
   "source": [
    "results_df = pd.DataFrame()"
   ]
  },
  {
   "cell_type": "markdown",
   "metadata": {},
   "source": [
    "## Feature selection"
   ]
  },
  {
   "cell_type": "markdown",
   "metadata": {},
   "source": [
    "### Text features"
   ]
  },
  {
   "cell_type": "markdown",
   "metadata": {},
   "source": [
    "Create train/test split"
   ]
  },
  {
   "cell_type": "code",
   "execution_count": 6,
   "metadata": {},
   "outputs": [
    {
     "name": "stdout",
     "output_type": "stream",
     "text": [
      "\n",
      "(7165, 3325): (5373, 3326) + (1792, 3326)\n",
      "(7165,): (5373,) + (1792,)\n",
      "(2389, 3325)\n",
      "(2389,)\n"
     ]
    }
   ],
   "source": [
    "X_columns_text, data_sets, error_df = make_train_test(structured_wiki_text, dummies=DUMMIES)\n",
    "X, y, X_train, X_test, y_train, y_test, X_train_train, X_train_val, y_train_train, y_train_val = data_sets"
   ]
  },
  {
   "cell_type": "markdown",
   "metadata": {},
   "source": [
    "Use [Recursive Feature Elimination](https://scikit-learn.org/stable/modules/generated/sklearn.feature_selection.RFECV.html) to eliminate features and find out the optimal number of features."
   ]
  },
  {
   "cell_type": "code",
   "execution_count": 7,
   "metadata": {
    "scrolled": true
   },
   "outputs": [],
   "source": [
    "# estimator = CatBoostRegressor(iterations=500, verbose=False)\n",
    "# selector_text = RFECV(estimator, step=20, cv=5, verbose=1)\n",
    "# selector_text = selector_text.fit(X_train, y_train)"
   ]
  },
  {
   "cell_type": "code",
   "execution_count": 8,
   "metadata": {},
   "outputs": [
    {
     "name": "stdout",
     "output_type": "stream",
     "text": [
      "optimal number of features: 1365\n"
     ]
    }
   ],
   "source": [
    "# _ = joblib.dump(selector_text, 'features/rfecv_text_catboost.gz')  # save selector\n",
    "selector_text = joblib.load('features/rfecv_text_catboost.gz')   # load selector\n",
    "print(f\"optimal number of features: {selector_text.n_features_}\")\n",
    "\n",
    "feature_mask_text = selector_text.support_"
   ]
  },
  {
   "cell_type": "markdown",
   "metadata": {},
   "source": [
    "Create list of features to drop."
   ]
  },
  {
   "cell_type": "code",
   "execution_count": 9,
   "metadata": {},
   "outputs": [
    {
     "data": {
      "text/plain": [
       "1926"
      ]
     },
     "execution_count": 9,
     "metadata": {},
     "output_type": "execute_result"
    }
   ],
   "source": [
    "to_drop_text = np.array(X_train.columns)[~feature_mask_text]\n",
    "to_drop_text = [col for col in to_drop_text if not DUMMIES[0] in col]  # remove dummy coded spatial membership\n",
    "\n",
    "len(to_drop_text)"
   ]
  },
  {
   "cell_type": "markdown",
   "metadata": {},
   "source": [
    "### WikiGIS features"
   ]
  },
  {
   "cell_type": "markdown",
   "metadata": {},
   "source": [
    "Create train/test split"
   ]
  },
  {
   "cell_type": "code",
   "execution_count": null,
   "metadata": {},
   "outputs": [],
   "source": [
    "X_columns_text, data_sets, error_df = make_train_test(structured_wiki_categories, dummies=DUMMIES)\n",
    "X, y, X_train, X_test, y_train, y_test, X_train_train, X_train_val, y_train_train, y_train_val = data_sets"
   ]
  },
  {
   "cell_type": "markdown",
   "metadata": {},
   "source": [
    "Use [Recursive Feature Elimination](https://scikit-learn.org/stable/modules/generated/sklearn.feature_selection.RFECV.html) to eliminate features and find out the optimal number of features."
   ]
  },
  {
   "cell_type": "code",
   "execution_count": null,
   "metadata": {
    "scrolled": true
   },
   "outputs": [],
   "source": [
    "# estimator = CatBoostRegressor(iterations=500, verbose=False)\n",
    "# selector_wgis = RFECV(estimator, step=5, cv=5, verbose=1)\n",
    "# selector_wgis = selector_wgis.fit(X_train, y_train)"
   ]
  },
  {
   "cell_type": "code",
   "execution_count": null,
   "metadata": {},
   "outputs": [],
   "source": [
    "# _ = joblib.dump(selector_wgis, 'rfecv_text_wgis.gz')  # save selector\n",
    "selector_wgis = joblib.load('rfecv_text_wgis.gz')   # load selector\n",
    "print(f\"optimal number of features: {selector_wgis.n_features_}\")\n",
    "\n",
    "feature_mask_wgis = selector_wgis.support_"
   ]
  },
  {
   "cell_type": "markdown",
   "metadata": {},
   "source": [
    "Create list of features to drop."
   ]
  },
  {
   "cell_type": "code",
   "execution_count": null,
   "metadata": {},
   "outputs": [],
   "source": [
    "to_drop_wgis = np.array(X_train.columns)[~feature_mask_wgis]\n",
    "to_drop_wgis = [col for col in to_drop_wgis if not DUMMIES[0] in col]  # remove dummy coded spatial membership\n",
    "\n",
    "len(to_drop_wgis)"
   ]
  },
  {
   "cell_type": "markdown",
   "metadata": {},
   "source": [
    "## Combining structured and text features"
   ]
  },
  {
   "cell_type": "code",
   "execution_count": 19,
   "metadata": {},
   "outputs": [
    {
     "name": "stdout",
     "output_type": "stream",
     "text": [
      "\n",
      "(7165, 3325): (5373, 3326) + (1792, 3326)\n",
      "(7165,): (5373,) + (1792,)\n",
      "(2389, 3325)\n",
      "(2389,)\n"
     ]
    }
   ],
   "source": [
    "X_columns_text, data_sets, error_df = make_train_test(structured_wiki_text, dummies=DUMMIES)\n",
    "# X_columns_text, data_sets, error_df = make_train_test(structured_wiki_text, dummies=[])\n",
    "X, y, X_train, X_test, y_train, y_test, X_train_train, X_train_val, y_train_train, y_train_val = data_sets"
   ]
  },
  {
   "cell_type": "markdown",
   "metadata": {},
   "source": [
    "### Linear regression"
   ]
  },
  {
   "cell_type": "code",
   "execution_count": null,
   "metadata": {},
   "outputs": [],
   "source": [
    "# model_03 = linear_model.LinearRegression()\n",
    "# model_03 = linear_model.Lasso()\n",
    "model_03 = linear_model.Ridge()\n",
    "model_03.fit(X_train, y_train)"
   ]
  },
  {
   "cell_type": "code",
   "execution_count": null,
   "metadata": {},
   "outputs": [],
   "source": [
    "y_pred_03 = model_03.predict(X_test)\n",
    "metrics_03 = get_metrics(y_test, y_pred_03)"
   ]
  },
  {
   "cell_type": "markdown",
   "metadata": {},
   "source": [
    "Cross validation"
   ]
  },
  {
   "cell_type": "code",
   "execution_count": 17,
   "metadata": {},
   "outputs": [
    {
     "data": {
      "application/vnd.jupyter.widget-view+json": {
       "model_id": "b44342f40f434af994bc531e30d8dee5",
       "version_major": 2,
       "version_minor": 0
      },
      "text/plain": [
       "  0%|          | 0/5 [00:00<?, ?it/s]"
      ]
     },
     "metadata": {},
     "output_type": "display_data"
    },
    {
     "name": "stdout",
     "output_type": "stream",
     "text": [
      "removed column MUNICODE_849, first occurence in test\n",
      "removed column MUNICODE_862, first occurence in test\n",
      "removed column MUNICODE_947, first occurence in test\n",
      "removed column MUNICODE_123, first occurence in test\n",
      "removed column MUNICODE_406, first occurence in test\n",
      "removed column MUNICODE_303, first occurence in test\n",
      "\n",
      "MAE:  32572\n",
      "RMSE: 47261\n",
      "MAPE: 20.18%\n",
      "R^2:  0.88\n"
     ]
    }
   ],
   "source": [
    "results_df[\"Linear: S+T\"], X_03_columns = cross_validation(model_03, X, y, K_FOLDS)"
   ]
  },
  {
   "cell_type": "markdown",
   "metadata": {},
   "source": [
    "### Catboost"
   ]
  },
  {
   "cell_type": "code",
   "execution_count": null,
   "metadata": {
    "scrolled": true
   },
   "outputs": [],
   "source": [
    "model_04 = CatBoostRegressor()\n",
    "model_04.fit(X=X_train, y=y_train, verbose=False)"
   ]
  },
  {
   "cell_type": "code",
   "execution_count": null,
   "metadata": {},
   "outputs": [],
   "source": [
    "y_pred_04 = model_04.predict(X_test)\n",
    "metrics_04 = get_metrics(y_test, y_pred_04)"
   ]
  },
  {
   "cell_type": "markdown",
   "metadata": {},
   "source": [
    "Cross Validation"
   ]
  },
  {
   "cell_type": "code",
   "execution_count": 22,
   "metadata": {},
   "outputs": [
    {
     "data": {
      "application/vnd.jupyter.widget-view+json": {
       "model_id": "9a3794bb017b4b0d907204af2a2a716e",
       "version_major": 2,
       "version_minor": 0
      },
      "text/plain": [
       "  0%|          | 0/5 [00:00<?, ?it/s]"
      ]
     },
     "metadata": {},
     "output_type": "display_data"
    },
    {
     "name": "stdout",
     "output_type": "stream",
     "text": [
      "removed column MUNICODE_849, first occurence in test\n",
      "removed column MUNICODE_862, first occurence in test\n",
      "removed column MUNICODE_947, first occurence in test\n",
      "removed column MUNICODE_123, first occurence in test\n",
      "removed column MUNICODE_406, first occurence in test\n",
      "removed column MUNICODE_303, first occurence in test\n",
      "\n",
      "MAE:  28578\n",
      "RMSE: 43092\n",
      "MAPE: 16.61%\n",
      "R^2:  0.9\n"
     ]
    }
   ],
   "source": [
    "results_df[\"Catboost: S+T\"], X_04_columns = cross_validation(model_04, X, y, K_FOLDS)"
   ]
  },
  {
   "cell_type": "markdown",
   "metadata": {},
   "source": [
    "## Combining structured and category features"
   ]
  },
  {
   "cell_type": "markdown",
   "metadata": {},
   "source": [
    "Load structured with added wikipedia category data"
   ]
  },
  {
   "cell_type": "code",
   "execution_count": 21,
   "metadata": {},
   "outputs": [
    {
     "name": "stdout",
     "output_type": "stream",
     "text": [
      "removed column MUNICODE_123, first occurence in test\n",
      "removed column MUNICODE_861, first occurence in test\n",
      "removed column MUNICODE_947, first occurence in test\n",
      "\n",
      "(7165, 263): (5373, 264) + (1792, 264)\n",
      "(7165,): (5373,) + (1792,)\n",
      "(2389, 263)\n",
      "(2389,)\n"
     ]
    }
   ],
   "source": [
    "X_columns_cat, data_sets, error_df = make_train_test(structured_wiki_categories, dummies=DUMMIES)\n",
    "X, y, X_train, X_test, y_train, y_test, X_train_train, X_train_val, y_train_train, y_train_val = data_sets"
   ]
  },
  {
   "cell_type": "markdown",
   "metadata": {},
   "source": [
    "### Linear regression"
   ]
  },
  {
   "cell_type": "code",
   "execution_count": 22,
   "metadata": {},
   "outputs": [
    {
     "data": {
      "text/plain": [
       "Ridge()"
      ]
     },
     "execution_count": 22,
     "metadata": {},
     "output_type": "execute_result"
    }
   ],
   "source": [
    "# model_05 = linear_model.LinearRegression()\n",
    "# model_05 = linear_model.Lasso()\n",
    "model_05 = linear_model.Ridge()\n",
    "model_05.fit(X_train, y_train)"
   ]
  },
  {
   "cell_type": "code",
   "execution_count": 23,
   "metadata": {},
   "outputs": [
    {
     "name": "stdout",
     "output_type": "stream",
     "text": [
      "MAE:  32665\n",
      "RMSE: 46667\n",
      "MAPE: 19.46%\n",
      "R^2:  0.881\n"
     ]
    }
   ],
   "source": [
    "y_pred_05 = model_05.predict(X_test)\n",
    "metrics_05 = get_metrics(y_test, y_pred_05)"
   ]
  },
  {
   "cell_type": "markdown",
   "metadata": {},
   "source": [
    "Cross validation"
   ]
  },
  {
   "cell_type": "code",
   "execution_count": 24,
   "metadata": {},
   "outputs": [
    {
     "data": {
      "application/vnd.jupyter.widget-view+json": {
       "model_id": "c2eb20938716487ea959b57cb7cda466",
       "version_major": 2,
       "version_minor": 0
      },
      "text/plain": [
       "  0%|          | 0/5 [00:00<?, ?it/s]"
      ]
     },
     "metadata": {},
     "output_type": "display_data"
    },
    {
     "name": "stdout",
     "output_type": "stream",
     "text": [
      "removed column MUNICODE_123, first occurence in test\n",
      "removed column MUNICODE_947, first occurence in test\n",
      "removed column MUNICODE_849, first occurence in test\n",
      "removed column MUNICODE_862, first occurence in test\n",
      "removed column MUNICODE_406, first occurence in test\n",
      "removed column MUNICODE_303, first occurence in test\n",
      "\n",
      "MAE:  32725\n",
      "RMSE: 47084\n",
      "MAPE: 20.21%\n",
      "R^2:  0.881\n"
     ]
    }
   ],
   "source": [
    "results_df[\"Linear: S+C\"], X_05_columns = cross_validation(model_05, X, y, K_FOLDS)"
   ]
  },
  {
   "cell_type": "markdown",
   "metadata": {},
   "source": [
    "### Catboost"
   ]
  },
  {
   "cell_type": "code",
   "execution_count": 25,
   "metadata": {},
   "outputs": [
    {
     "data": {
      "text/plain": [
       "<catboost.core.CatBoostRegressor at 0x18d2b5eafc8>"
      ]
     },
     "execution_count": 25,
     "metadata": {},
     "output_type": "execute_result"
    }
   ],
   "source": [
    "model_06 = CatBoostRegressor()\n",
    "model_06.fit(X=X_train, y=y_train, verbose=False)"
   ]
  },
  {
   "cell_type": "code",
   "execution_count": 26,
   "metadata": {},
   "outputs": [
    {
     "name": "stdout",
     "output_type": "stream",
     "text": [
      "MAE:  28601\n",
      "RMSE: 42832\n",
      "MAPE: 16.05%\n",
      "R^2:  0.9\n"
     ]
    }
   ],
   "source": [
    "y_pred_06 = model_06.predict(X_test)\n",
    "metrics_06 = get_metrics(y_test, y_pred_06)"
   ]
  },
  {
   "cell_type": "markdown",
   "metadata": {},
   "source": [
    "Cross validation"
   ]
  },
  {
   "cell_type": "code",
   "execution_count": 27,
   "metadata": {},
   "outputs": [
    {
     "data": {
      "application/vnd.jupyter.widget-view+json": {
       "model_id": "42e979d2e2874e2c95f951eaf65b6228",
       "version_major": 2,
       "version_minor": 0
      },
      "text/plain": [
       "  0%|          | 0/5 [00:00<?, ?it/s]"
      ]
     },
     "metadata": {},
     "output_type": "display_data"
    },
    {
     "name": "stdout",
     "output_type": "stream",
     "text": [
      "removed column MUNICODE_123, first occurence in test\n",
      "removed column MUNICODE_947, first occurence in test\n",
      "removed column MUNICODE_849, first occurence in test\n",
      "removed column MUNICODE_862, first occurence in test\n",
      "removed column MUNICODE_406, first occurence in test\n",
      "removed column MUNICODE_303, first occurence in test\n",
      "\n",
      "MAE:  28829\n",
      "RMSE: 43225\n",
      "MAPE: 16.87%\n",
      "R^2:  0.9\n"
     ]
    }
   ],
   "source": [
    "results_df[\"Catboost: S+C\"], X_06_columns = cross_validation(model_06, X, y, K_FOLDS, additional_drops=to_drop_wgis)"
   ]
  },
  {
   "cell_type": "markdown",
   "metadata": {},
   "source": [
    "## Results"
   ]
  },
  {
   "cell_type": "code",
   "execution_count": 29,
   "metadata": {},
   "outputs": [
    {
     "name": "stdout",
     "output_type": "stream",
     "text": [
      "Results for a max distance of 6500m.\n"
     ]
    },
    {
     "data": {
      "text/html": [
       "<div>\n",
       "<style scoped>\n",
       "    .dataframe tbody tr th:only-of-type {\n",
       "        vertical-align: middle;\n",
       "    }\n",
       "\n",
       "    .dataframe tbody tr th {\n",
       "        vertical-align: top;\n",
       "    }\n",
       "\n",
       "    .dataframe thead th {\n",
       "        text-align: right;\n",
       "    }\n",
       "</style>\n",
       "<table border=\"1\" class=\"dataframe\">\n",
       "  <thead>\n",
       "    <tr style=\"text-align: right;\">\n",
       "      <th></th>\n",
       "      <th>Linear: S+T</th>\n",
       "      <th>Catboost: S+T</th>\n",
       "    </tr>\n",
       "  </thead>\n",
       "  <tbody>\n",
       "    <tr>\n",
       "      <th>MAE</th>\n",
       "      <td>32572.00</td>\n",
       "      <td>28552.000</td>\n",
       "    </tr>\n",
       "    <tr>\n",
       "      <th>RMSE</th>\n",
       "      <td>47261.00</td>\n",
       "      <td>42933.000</td>\n",
       "    </tr>\n",
       "    <tr>\n",
       "      <th>MAPE</th>\n",
       "      <td>20.18</td>\n",
       "      <td>16.570</td>\n",
       "    </tr>\n",
       "    <tr>\n",
       "      <th>R^2</th>\n",
       "      <td>0.88</td>\n",
       "      <td>0.901</td>\n",
       "    </tr>\n",
       "  </tbody>\n",
       "</table>\n",
       "</div>"
      ],
      "text/plain": [
       "      Linear: S+T  Catboost: S+T\n",
       "MAE      32572.00      28552.000\n",
       "RMSE     47261.00      42933.000\n",
       "MAPE        20.18         16.570\n",
       "R^2          0.88          0.901"
      ]
     },
     "execution_count": 29,
     "metadata": {},
     "output_type": "execute_result"
    }
   ],
   "source": [
    "results_df.index = [\"MAE\", \"RMSE\", \"MAPE\", \"R^2\"]\n",
    "# reorder columns\n",
    "results_df = results_df[[\"Linear: S+T\", \"Catboost: S+T\"]]\n",
    "if WEIGHTING:\n",
    "    results_df.to_csv(PATH + f\"results/structured_wiki_{MAX_DIST}_results.csv\", index=False)\n",
    "else:\n",
    "    results_df.to_csv(PATH + f\"results/structured_wiki_{MAX_DIST}_results_NOWEIGHT.csv\", index=False)\n",
    "print(f\"Results for a max distance of {MAX_DIST}m.\")\n",
    "results_df.head()"
   ]
  },
  {
   "cell_type": "markdown",
   "metadata": {},
   "source": [
    "## Spatial out-of-sample validation"
   ]
  },
  {
   "cell_type": "markdown",
   "metadata": {},
   "source": [
    "### Text features"
   ]
  },
  {
   "cell_type": "markdown",
   "metadata": {},
   "source": [
    "#### CatBoost"
   ]
  },
  {
   "cell_type": "markdown",
   "metadata": {},
   "source": [
    "Without REFCV"
   ]
  },
  {
   "cell_type": "code",
   "execution_count": 10,
   "metadata": {},
   "outputs": [
    {
     "name": "stdout",
     "output_type": "stream",
     "text": [
      "Predicting district 1/13\n",
      "Predicting district 2/13\n",
      "Predicting district 3/13\n",
      "Predicting district 4/13\n",
      "Predicting district 5/13\n",
      "Predicting district 6/13\n",
      "Predicting district 7/13\n",
      "Predicting district 8/13\n",
      "Predicting district 9/13\n",
      "Predicting district 10/13\n",
      "Predicting district 11/13\n",
      "Predicting district 12/13\n",
      "Predicting district 13/13\n",
      "\n",
      "Weighted metrics:\n",
      "MAE:  40273\n",
      "RMSE: 57549\n",
      "MAPE: 23.2%\n",
      "R^2:  0.679\n"
     ]
    }
   ],
   "source": [
    "estimator = CatBoostRegressor()\n",
    "error_df_soos, col_names_text, avg_fis_text, metrics = soos_validation(estimator,\n",
    "                                                                       structured_wiki_text)\n",
    "maes, rmses, mapes, r_squareds = metrics"
   ]
  },
  {
   "cell_type": "markdown",
   "metadata": {},
   "source": [
    "With REFCV"
   ]
  },
  {
   "cell_type": "code",
   "execution_count": 32,
   "metadata": {},
   "outputs": [
    {
     "name": "stdout",
     "output_type": "stream",
     "text": [
      "Predicting district 1/13\n",
      "Predicting district 2/13\n",
      "Predicting district 3/13\n",
      "Predicting district 4/13\n",
      "Predicting district 5/13\n",
      "Predicting district 6/13\n",
      "Predicting district 7/13\n",
      "Predicting district 8/13\n",
      "Predicting district 9/13\n",
      "Predicting district 10/13\n",
      "Predicting district 11/13\n",
      "Predicting district 12/13\n",
      "Predicting district 13/13\n",
      "\n",
      "Weighted metrics:\n",
      "MAE:  41293\n",
      "RMSE: 58884\n",
      "MAPE: 23.54%\n",
      "R^2:  0.673\n"
     ]
    }
   ],
   "source": [
    "estimator = CatBoostRegressor()\n",
    "error_df_soos, col_names_text, avg_fis_text, metrics = soos_validation(estimator,\n",
    "                                                                       structured_wiki_text,\n",
    "                                                                       additional_drops=to_drop_text)\n",
    "maes, rmses, mapes, r_squareds = metrics"
   ]
  },
  {
   "cell_type": "code",
   "execution_count": null,
   "metadata": {
    "scrolled": false
   },
   "outputs": [],
   "source": [
    "if not WEIGHTING:\n",
    "    error_df_soos.to_csv(PATH+\"results/errors_soos_wiki_noweight.csv\")\n",
    "elif not MEAN:\n",
    "    error_df_soos.to_csv(PATH+\"results/errors_soos_wiki_nomean.csv\")\n",
    "else:\n",
    "    error_df_soos.to_csv(PATH+\"results/errors_soos_wiki.csv\")\n",
    "error_df_soos"
   ]
  },
  {
   "cell_type": "markdown",
   "metadata": {},
   "source": [
    "Display metrics for each district along with aggregated information about houses in that district"
   ]
  },
  {
   "cell_type": "code",
   "execution_count": null,
   "metadata": {},
   "outputs": [],
   "source": [
    "districts = [\"district_\"+str(i) for i in range(1,14)]\n",
    "metrics_df = pd.DataFrame(data={\"district\":districts, \"mae\":maes, \"rmse\":rmses, \"mapes\":mapes, \"R^2\":r_squareds})\n",
    "metrics_df = metrics_df.set_index(\"district\")\n",
    "metrics_df.to_csv(PATH+\"results/errors_soos_district_wiki.csv\")\n",
    "\n",
    "# add more information about each district to characterize\n",
    "df_agg = structured_wiki_text.groupby(by=\"DISTRICT\").mean()\n",
    "df_agg  = df_agg[[\"SALEPRICE\", \"LOTAREA\", \"YEARBLT\", \"STORIES\"]]\n",
    "metrics_df_agg = pd.concat([metrics_df, df_agg], axis=1)\n",
    "\n",
    "metrics_df_agg"
   ]
  },
  {
   "cell_type": "markdown",
   "metadata": {},
   "source": [
    "#### Linear"
   ]
  },
  {
   "cell_type": "code",
   "execution_count": null,
   "metadata": {},
   "outputs": [],
   "source": [
    "estimator = linear_model.Lasso(alpha=0.2, random_state=42)\n",
    "error_df_soos_linear, col_names, avg_coefs, metrics = soos_validation(estimator, structured_wiki_text, standardize=True)\n",
    "maes, rmses, mapes, r_squareds = metrics"
   ]
  },
  {
   "cell_type": "code",
   "execution_count": null,
   "metadata": {},
   "outputs": [],
   "source": [
    "coefs = estimator.coef_\n",
    "non_zero_coefs = coefs[coefs == 0]\n",
    "print(f\"train coefs: {len(coefs)}\")\n",
    "print(f\"non-zero coefs: {len(non_zero_coefs)}\")"
   ]
  },
  {
   "cell_type": "code",
   "execution_count": null,
   "metadata": {
    "scrolled": true
   },
   "outputs": [],
   "source": [
    "combined = np.array([(col, round(coef/100000, 2)) for col, coef in zip(col_names, coefs) if coef > 0][20:])\n",
    "combined_df = pd.DataFrame(data={\"word\": combined[:, 0], \"coef\": combined[:, 1]})\n",
    "combined_df"
   ]
  },
  {
   "cell_type": "markdown",
   "metadata": {},
   "source": [
    "### WikiGIS features"
   ]
  },
  {
   "cell_type": "code",
   "execution_count": null,
   "metadata": {},
   "outputs": [],
   "source": [
    "estimator = CatBoostRegressor()\n",
    "error_df_soos, col_names_wikigis, avg_fis_wikigis, metrics = soos_validation(estimator,\n",
    "                                                                             structured_wiki_categories,\n",
    "                                                                             additional_drops=to_drop_wgis)\n",
    "maes, rmses, mapes, r_squareds = metrics"
   ]
  },
  {
   "cell_type": "code",
   "execution_count": null,
   "metadata": {},
   "outputs": [],
   "source": [
    "if WEIGHTING:\n",
    "    error_df_soos.to_csv(PATH+\"results/errors_soos_wikigis.csv\")\n",
    "else:\n",
    "    error_df_soos.to_csv(PATH+\"results/errors_soos_wikigis_noweight.csv\")\n",
    "error_df_soos"
   ]
  },
  {
   "cell_type": "code",
   "execution_count": null,
   "metadata": {},
   "outputs": [],
   "source": [
    "districts = [\"district_\"+str(i) for i in range(1,14)]\n",
    "metrics_df = pd.DataFrame(data={\"district\":districts, \"mae\":maes, \"rmse\":rmses, \"mapes\":mapes, \"R^2\":r_squareds})\n",
    "metrics_df = metrics_df.set_index(\"district\")\n",
    "metrics_df.to_csv(PATH+\"results/errors_soos_district_wikigis.csv\")\n",
    "\n",
    "# add more information about each district to characterize\n",
    "df_agg = structured_wiki_text.groupby(by=\"DISTRICT\").mean()\n",
    "df_agg  = df_agg[[\"SALEPRICE\", \"LOTAREA\", \"YEARBLT\", \"STORIES\"]]\n",
    "metrics_df_agg = pd.concat([metrics_df, df_agg], axis=1)\n",
    "\n",
    "metrics_df_agg"
   ]
  },
  {
   "cell_type": "markdown",
   "metadata": {},
   "source": [
    "## Exploring solution concerning feature importance"
   ]
  },
  {
   "cell_type": "markdown",
   "metadata": {},
   "source": [
    "### WikiGIS Category features"
   ]
  },
  {
   "cell_type": "code",
   "execution_count": null,
   "metadata": {},
   "outputs": [],
   "source": [
    "cols_wikigis_sliced = col_names_wikigis[54:]\n",
    "fis_wikigis_sliced = avg_fis_wikigis[54:]\n",
    "wikigis_fi_df = pd.DataFrame(data={\"feature\": cols_wikigis_sliced, \"importance\": fis_wikigis_sliced})\n",
    "wikigis_fi_df.sort_values(by=[\"importance\"], ascending=False).head(15)"
   ]
  },
  {
   "cell_type": "markdown",
   "metadata": {},
   "source": [
    "### Text features"
   ]
  },
  {
   "cell_type": "code",
   "execution_count": null,
   "metadata": {},
   "outputs": [],
   "source": [
    "cols_text_sliced = col_names_text[54:-1]\n",
    "fis_text_sliced = avg_fis_text[54:-1]\n",
    "word_fi_df = pd.DataFrame(data={\"word\": cols_text_sliced, \"importance\": fis_text_sliced})\n",
    "word_fi_df.sort_values(by=[\"importance\"], ascending=False).head(15)"
   ]
  },
  {
   "cell_type": "markdown",
   "metadata": {},
   "source": [
    "The next cell prints the feature importance for a specific word."
   ]
  },
  {
   "cell_type": "code",
   "execution_count": null,
   "metadata": {},
   "outputs": [],
   "source": [
    "word_to_test = \"hospital\"\n",
    "\n",
    "word_fi_lookup = {word:fi for (word, fi) in zip(cols_text_sliced, fis_text_sliced)}\n",
    "fi = word_fi_lookup[word_to_test]\n",
    "print(f\"Coefficient for \\\"{word_to_test}\\\" is {round(float(fi), 2)}\")"
   ]
  },
  {
   "cell_type": "markdown",
   "metadata": {},
   "source": [
    "### Determine most impactful articles"
   ]
  },
  {
   "cell_type": "markdown",
   "metadata": {},
   "source": [
    "Create article importance-score by calculating sum of all words multiplied with their importance for every article."
   ]
  },
  {
   "cell_type": "code",
   "execution_count": null,
   "metadata": {},
   "outputs": [],
   "source": [
    "article_word_counts = pd.read_csv(PATH+\"wikipedia/wikipedia_article_wordcounts.csv\")\n",
    "article_fi = article_word_counts.copy()\n",
    "article_fi.insert(1, \"article_importance\", [0]*article_word_counts.shape[0])\n",
    "\n",
    "# filter cols to account for RFECV\n",
    "new_cols = [\"article_title\", \"article_importance\"] + list(cols_text_sliced)\n",
    "article_fi = article_fi[new_cols]\n",
    "\n",
    "words = article_fi.columns[2:]\n",
    "for index, row in article_fi.iterrows():\n",
    "    counts = row.iloc[2:]\n",
    "    article_fi.loc[index, \"article_importance\"] = sum([word_fi_lookup[word]*count for count, word in zip(counts, words)])\n",
    "    \n",
    "article_fi.iloc[:, :2].sort_values(by=[\"article_importance\"], ascending=False).head(20)"
   ]
  },
  {
   "cell_type": "markdown",
   "metadata": {},
   "source": [
    "Add coordinates back"
   ]
  },
  {
   "cell_type": "code",
   "execution_count": null,
   "metadata": {},
   "outputs": [],
   "source": [
    "with open(PATH+\"wikipedia/wikipedia_selected.ndjson\") as fin:\n",
    "    data_loaded = json.load(fin)"
   ]
  },
  {
   "cell_type": "code",
   "execution_count": null,
   "metadata": {},
   "outputs": [],
   "source": [
    "coords = np.array(data_loaded)[:, 1]  # filter coord column\n",
    "article_fi.insert(2, \"article_lat\", [lat for lat, long in coords])\n",
    "article_fi.insert(2, \"article_long\", [long for lat, long in coords])\n",
    "article_fi = article_fi[[\"article_title\", \"article_importance\", \"article_long\", \"article_lat\"]]  # remove word counts"
   ]
  },
  {
   "cell_type": "markdown",
   "metadata": {},
   "source": [
    "Save articles with their value score and coordinates."
   ]
  },
  {
   "cell_type": "code",
   "execution_count": null,
   "metadata": {},
   "outputs": [],
   "source": [
    "if WEIGHTING:\n",
    "    article_fi.to_csv(PATH+\"wikipedia_article_importances.csv\", index=False)\n",
    "else:\n",
    "    article_fi.to_csv(PATH+\"wikipedia_article_importances_noweight.csv\", index=False)\n",
    "article_fi.head()"
   ]
  },
  {
   "cell_type": "code",
   "execution_count": null,
   "metadata": {},
   "outputs": [],
   "source": []
  }
 ],
 "metadata": {
  "kernelspec": {
   "display_name": "Python 3",
   "language": "python",
   "name": "python3"
  },
  "language_info": {
   "codemirror_mode": {
    "name": "ipython",
    "version": 3
   },
   "file_extension": ".py",
   "mimetype": "text/x-python",
   "name": "python",
   "nbconvert_exporter": "python",
   "pygments_lexer": "ipython3",
   "version": "3.7.9"
  },
  "varInspector": {
   "cols": {
    "lenName": 16,
    "lenType": 16,
    "lenVar": 40
   },
   "kernels_config": {
    "python": {
     "delete_cmd_postfix": "",
     "delete_cmd_prefix": "del ",
     "library": "var_list.py",
     "varRefreshCmd": "print(var_dic_list())"
    },
    "r": {
     "delete_cmd_postfix": ") ",
     "delete_cmd_prefix": "rm(",
     "library": "var_list.r",
     "varRefreshCmd": "cat(var_dic_list()) "
    }
   },
   "types_to_exclude": [
    "module",
    "function",
    "builtin_function_or_method",
    "instance",
    "_Feature"
   ],
   "window_display": false
  },
  "widgets": {
   "application/vnd.jupyter.widget-state+json": {
    "state": {
     "0012760bab1f492691d653f41ec9d746": {
      "model_module": "@jupyter-widgets/controls",
      "model_module_version": "1.5.0",
      "model_name": "DescriptionStyleModel",
      "state": {
       "description_width": ""
      }
     },
     "0025f0a996e04dbf91b279b5b472b22b": {
      "model_module": "@jupyter-widgets/base",
      "model_module_version": "1.2.0",
      "model_name": "LayoutModel",
      "state": {}
     },
     "003ecfad4ac94411835baec39cbf1f70": {
      "model_module": "@jupyter-widgets/controls",
      "model_module_version": "1.5.0",
      "model_name": "ProgressStyleModel",
      "state": {
       "description_width": ""
      }
     },
     "0079e8b4286b46b3810771fc1fdd1211": {
      "model_module": "@jupyter-widgets/base",
      "model_module_version": "1.2.0",
      "model_name": "LayoutModel",
      "state": {}
     },
     "00b01792d8014bf4ae8644f8cd0247f4": {
      "model_module": "@jupyter-widgets/base",
      "model_module_version": "1.2.0",
      "model_name": "LayoutModel",
      "state": {}
     },
     "00c1efedfaa54bbfb1957d947e818976": {
      "model_module": "@jupyter-widgets/base",
      "model_module_version": "1.2.0",
      "model_name": "LayoutModel",
      "state": {}
     },
     "00c56fcd890e414a98082cebb20fc5cd": {
      "model_module": "@jupyter-widgets/controls",
      "model_module_version": "1.5.0",
      "model_name": "HTMLModel",
      "state": {
       "layout": "IPY_MODEL_f783a069935b463c806392ff43d8ce4d",
       "style": "IPY_MODEL_1cdccab879b54244bdc452f3ae3f72c9",
       "value": "100%"
      }
     },
     "0119d78b93914d40a93c826bf53ed3bb": {
      "model_module": "@jupyter-widgets/base",
      "model_module_version": "1.2.0",
      "model_name": "LayoutModel",
      "state": {}
     },
     "01b8babde3ad4971aed35ff7c050d7e6": {
      "model_module": "@jupyter-widgets/controls",
      "model_module_version": "1.5.0",
      "model_name": "ProgressStyleModel",
      "state": {
       "description_width": ""
      }
     },
     "01ec5480be06434ab2781a7c86fc63b3": {
      "model_module": "@jupyter-widgets/controls",
      "model_module_version": "1.5.0",
      "model_name": "DescriptionStyleModel",
      "state": {
       "description_width": ""
      }
     },
     "023670afda32424798e4d3dd3cc738ff": {
      "model_module": "@jupyter-widgets/controls",
      "model_module_version": "1.5.0",
      "model_name": "HTMLModel",
      "state": {
       "layout": "IPY_MODEL_96f1717a00634de2a13f862f000687da",
       "style": "IPY_MODEL_fa0cc18b44c34db4907130b7dd987452",
       "value": "100%"
      }
     },
     "0254727e42c64686b6a48becdd03b472": {
      "model_module": "@jupyter-widgets/controls",
      "model_module_version": "1.5.0",
      "model_name": "HBoxModel",
      "state": {
       "children": [
        "IPY_MODEL_e80ea4ba625148e7977d2de9311b90e8",
        "IPY_MODEL_369a4632794a49bcaafab1051d0dd4c8",
        "IPY_MODEL_945562b698534136bf4746deebf8a0c2"
       ],
       "layout": "IPY_MODEL_64a8d87faecf4eb7b97100111605c875"
      }
     },
     "025e49e96bf24184a564c04d811fbfa3": {
      "model_module": "@jupyter-widgets/controls",
      "model_module_version": "1.5.0",
      "model_name": "HBoxModel",
      "state": {
       "children": [
        "IPY_MODEL_45eec7408bb244d790230e6bbf8ddb79",
        "IPY_MODEL_2b5f82eba3e4446683ddfa62d6282802",
        "IPY_MODEL_ac99b5b74d0d4d239a2c178956112b15"
       ],
       "layout": "IPY_MODEL_e1e85771ad0d4498824d377fce770af0"
      }
     },
     "0284b0a10d96471586fdaf27ff1bb835": {
      "model_module": "@jupyter-widgets/controls",
      "model_module_version": "1.5.0",
      "model_name": "HTMLModel",
      "state": {
       "layout": "IPY_MODEL_9ec03e341cc94e7db4feb41bafae2af8",
       "style": "IPY_MODEL_640ede1d2c354f5eab609d8494fb1a8e",
       "value": "100%"
      }
     },
     "02a9231de15b449c9e00767415700247": {
      "model_module": "@jupyter-widgets/base",
      "model_module_version": "1.2.0",
      "model_name": "LayoutModel",
      "state": {}
     },
     "03303c07df5d4d428101446e2961f439": {
      "model_module": "@jupyter-widgets/controls",
      "model_module_version": "1.5.0",
      "model_name": "ProgressStyleModel",
      "state": {
       "description_width": ""
      }
     },
     "03442a3c9f84439dbd7e16e2bda376c6": {
      "model_module": "@jupyter-widgets/controls",
      "model_module_version": "1.5.0",
      "model_name": "HTMLModel",
      "state": {
       "layout": "IPY_MODEL_4d72c84e638440c39a722a6b5f1a3cba",
       "style": "IPY_MODEL_f6a5c2f0b20f4af3a6165684b65a75d3",
       "value": " 5/5 [00:05&lt;00:00,  1.09s/it]"
      }
     },
     "035d31a38edb4808a20e2caa4539a797": {
      "model_module": "@jupyter-widgets/controls",
      "model_module_version": "1.5.0",
      "model_name": "HTMLModel",
      "state": {
       "layout": "IPY_MODEL_dcb52a22b810467d918637f2910c96b2",
       "style": "IPY_MODEL_15c325bb19fe431ca4d2076966356af0",
       "value": "100%"
      }
     },
     "036054edb55c458da194e84465bfb11f": {
      "model_module": "@jupyter-widgets/base",
      "model_module_version": "1.2.0",
      "model_name": "LayoutModel",
      "state": {}
     },
     "036d60377045409a97b1daa06a8d6924": {
      "model_module": "@jupyter-widgets/controls",
      "model_module_version": "1.5.0",
      "model_name": "HBoxModel",
      "state": {
       "children": [
        "IPY_MODEL_2a6b5691f88642849ed572e728a6c2cb",
        "IPY_MODEL_7e4c552ed0c145d682db6da5ae8bebdd",
        "IPY_MODEL_fc05892c6c7f424ab917f8b9cef07547"
       ],
       "layout": "IPY_MODEL_682e85daa52f46609f1c829b466344f4"
      }
     },
     "037a16a241c243749354de3dca5b2e97": {
      "model_module": "@jupyter-widgets/base",
      "model_module_version": "1.2.0",
      "model_name": "LayoutModel",
      "state": {}
     },
     "03c27ff4fed14f128c53c3512c5e87ff": {
      "model_module": "@jupyter-widgets/controls",
      "model_module_version": "1.5.0",
      "model_name": "DescriptionStyleModel",
      "state": {
       "description_width": ""
      }
     },
     "03c908f0709f4f9a945b45b942d86bd3": {
      "model_module": "@jupyter-widgets/controls",
      "model_module_version": "1.5.0",
      "model_name": "FloatProgressModel",
      "state": {
       "bar_style": "success",
       "layout": "IPY_MODEL_8d457e8bfd624a47a385690586d3ad9e",
       "max": 5,
       "style": "IPY_MODEL_f2d88acb1fdb4e5d90b4c8aa71bc9913",
       "value": 5
      }
     },
     "04218a57797e47db8437c3b1f6832345": {
      "model_module": "@jupyter-widgets/controls",
      "model_module_version": "1.5.0",
      "model_name": "HTMLModel",
      "state": {
       "layout": "IPY_MODEL_c24d7128897f48ddab0a17f70d214227",
       "style": "IPY_MODEL_913f5f8b04e44a0080d225421b12bd74",
       "value": "100%"
      }
     },
     "04770773c0824088b72d0a76b4bc9193": {
      "model_module": "@jupyter-widgets/controls",
      "model_module_version": "1.5.0",
      "model_name": "DescriptionStyleModel",
      "state": {
       "description_width": ""
      }
     },
     "0477a3f1399d4a55a1568fdb9617c9c9": {
      "model_module": "@jupyter-widgets/controls",
      "model_module_version": "1.5.0",
      "model_name": "DescriptionStyleModel",
      "state": {
       "description_width": ""
      }
     },
     "049549122228476aa2d5df81c79c34b4": {
      "model_module": "@jupyter-widgets/controls",
      "model_module_version": "1.5.0",
      "model_name": "HTMLModel",
      "state": {
       "layout": "IPY_MODEL_fc08fa1d49d44c4dbf5e939058b800a9",
       "style": "IPY_MODEL_1e75721ace57482b96644bb50762a805",
       "value": "100%"
      }
     },
     "04d8316e48e74aeea48d032353a64c46": {
      "model_module": "@jupyter-widgets/controls",
      "model_module_version": "1.5.0",
      "model_name": "HBoxModel",
      "state": {
       "children": [
        "IPY_MODEL_5217d26bc40f4c33b3537268a96042f8",
        "IPY_MODEL_8bb8d7ac01c94f24bc976e0e447b3db3",
        "IPY_MODEL_3a3e5809d5c24df4809e2279188285d4"
       ],
       "layout": "IPY_MODEL_a3b1242f08fe4b91af5a22d817631b67"
      }
     },
     "052a5f5e32614c42b4d1434d2ac9d97b": {
      "model_module": "@jupyter-widgets/base",
      "model_module_version": "1.2.0",
      "model_name": "LayoutModel",
      "state": {}
     },
     "052a61e4853e4597a46e56a27874950d": {
      "model_module": "@jupyter-widgets/base",
      "model_module_version": "1.2.0",
      "model_name": "LayoutModel",
      "state": {}
     },
     "0534d27d87aa4049ad044cc41bc4c18b": {
      "model_module": "@jupyter-widgets/base",
      "model_module_version": "1.2.0",
      "model_name": "LayoutModel",
      "state": {}
     },
     "054926a4586142ba889904e10ed9bbff": {
      "model_module": "@jupyter-widgets/controls",
      "model_module_version": "1.5.0",
      "model_name": "HTMLModel",
      "state": {
       "layout": "IPY_MODEL_4fa44544ec8a41779163bb6d4dd3518b",
       "style": "IPY_MODEL_e170db551ea0483eb982763b2c1277f3",
       "value": " 5/5 [12:34&lt;00:00, 150.85s/it]"
      }
     },
     "05922c812bda4a4b99972be634bb19d2": {
      "model_module": "@jupyter-widgets/base",
      "model_module_version": "1.2.0",
      "model_name": "LayoutModel",
      "state": {}
     },
     "05a4b02499cf4c588b7c28061d0cd904": {
      "model_module": "@jupyter-widgets/controls",
      "model_module_version": "1.5.0",
      "model_name": "HBoxModel",
      "state": {
       "children": [
        "IPY_MODEL_3df7f9352618499892e63458f4ef2bb5",
        "IPY_MODEL_2f2f9716ef8f4f42a04d2996853b261b",
        "IPY_MODEL_28481a77fb8341e29b1a3cb3bba45fed"
       ],
       "layout": "IPY_MODEL_ade81211949146329034ed4b6445c39b"
      }
     },
     "05af572fcace40c891c794faf5f62350": {
      "model_module": "@jupyter-widgets/base",
      "model_module_version": "1.2.0",
      "model_name": "LayoutModel",
      "state": {}
     },
     "05c0239a216e471899603a3ad6365105": {
      "model_module": "@jupyter-widgets/base",
      "model_module_version": "1.2.0",
      "model_name": "LayoutModel",
      "state": {}
     },
     "05ebded4adad447aac737e9cc4c2f489": {
      "model_module": "@jupyter-widgets/controls",
      "model_module_version": "1.5.0",
      "model_name": "ProgressStyleModel",
      "state": {
       "description_width": ""
      }
     },
     "06e239292171448f8c2a71a24ccdd9e2": {
      "model_module": "@jupyter-widgets/controls",
      "model_module_version": "1.5.0",
      "model_name": "HBoxModel",
      "state": {
       "children": [
        "IPY_MODEL_f5541a3da77a4d7d848950f2a07e6e66",
        "IPY_MODEL_234e44bffb67434ca072825f9811ba4c",
        "IPY_MODEL_054926a4586142ba889904e10ed9bbff"
       ],
       "layout": "IPY_MODEL_79b44d9fac3c4db5b0ce8ba0cce221f9"
      }
     },
     "0737fd4c2c88494ca067216ebf5cb5da": {
      "model_module": "@jupyter-widgets/controls",
      "model_module_version": "1.5.0",
      "model_name": "ProgressStyleModel",
      "state": {
       "description_width": ""
      }
     },
     "074b30931cb143d8ac06001356022d2d": {
      "model_module": "@jupyter-widgets/controls",
      "model_module_version": "1.5.0",
      "model_name": "HTMLModel",
      "state": {
       "layout": "IPY_MODEL_00b01792d8014bf4ae8644f8cd0247f4",
       "style": "IPY_MODEL_20c494df790644289a523dd5c9f45d9f",
       "value": " 5/5 [00:00&lt;00:00, 81.89it/s]"
      }
     },
     "077cb0586ece47ee8524fabe5a1d4f94": {
      "model_module": "@jupyter-widgets/controls",
      "model_module_version": "1.5.0",
      "model_name": "ProgressStyleModel",
      "state": {
       "description_width": ""
      }
     },
     "079a4e35d05b41b4962112d4f04701a1": {
      "model_module": "@jupyter-widgets/controls",
      "model_module_version": "1.5.0",
      "model_name": "ProgressStyleModel",
      "state": {
       "description_width": ""
      }
     },
     "07df0920dc2f418aa85e5d2a3145cc2f": {
      "model_module": "@jupyter-widgets/controls",
      "model_module_version": "1.5.0",
      "model_name": "HTMLModel",
      "state": {
       "layout": "IPY_MODEL_9b19cfe346e3481284dd5854f3e88380",
       "style": "IPY_MODEL_85962dd919834820b4773473851a049e",
       "value": "100%"
      }
     },
     "085b7d54aa504e948fb0d22538d9dffa": {
      "model_module": "@jupyter-widgets/controls",
      "model_module_version": "1.5.0",
      "model_name": "ProgressStyleModel",
      "state": {
       "description_width": ""
      }
     },
     "089b4800faf74815a31afd4db80ca698": {
      "model_module": "@jupyter-widgets/controls",
      "model_module_version": "1.5.0",
      "model_name": "DescriptionStyleModel",
      "state": {
       "description_width": ""
      }
     },
     "08a469c7de074d2b8799ec3a49b50a75": {
      "model_module": "@jupyter-widgets/controls",
      "model_module_version": "1.5.0",
      "model_name": "HTMLModel",
      "state": {
       "layout": "IPY_MODEL_7e5cdb2f1ebc4e67a0ff59a39229fb6e",
       "style": "IPY_MODEL_f301be475b514ed2a4219cd142678ba7",
       "value": " 5/5 [12:39&lt;00:00, 151.65s/it]"
      }
     },
     "08a6e94050c04524b9df885a32f6daa1": {
      "model_module": "@jupyter-widgets/base",
      "model_module_version": "1.2.0",
      "model_name": "LayoutModel",
      "state": {}
     },
     "08ed0f4ae94747738cc6f271ecbfc5f2": {
      "model_module": "@jupyter-widgets/controls",
      "model_module_version": "1.5.0",
      "model_name": "HBoxModel",
      "state": {
       "children": [
        "IPY_MODEL_9edf0a0d875b42838c04d0eb595a867c",
        "IPY_MODEL_2f81d01c17a24246995931b6449d2682",
        "IPY_MODEL_1d09924e47ce4016959c603e2198a11c"
       ],
       "layout": "IPY_MODEL_aca735843ca844e6a58e1052d47a3e24"
      }
     },
     "08fbdd95decf4eccbf2d7bd5f67ed7ee": {
      "model_module": "@jupyter-widgets/controls",
      "model_module_version": "1.5.0",
      "model_name": "ProgressStyleModel",
      "state": {
       "description_width": ""
      }
     },
     "09a0848bd6df415cb4b40ea37c20c98e": {
      "model_module": "@jupyter-widgets/controls",
      "model_module_version": "1.5.0",
      "model_name": "ProgressStyleModel",
      "state": {
       "description_width": ""
      }
     },
     "09c774a15eff4fe9b56baa20dd29f871": {
      "model_module": "@jupyter-widgets/controls",
      "model_module_version": "1.5.0",
      "model_name": "FloatProgressModel",
      "state": {
       "bar_style": "success",
       "layout": "IPY_MODEL_88225125122343018a06f1fe671dc599",
       "max": 5,
       "style": "IPY_MODEL_2733180a713f4e94b1f68569cf8e799e",
       "value": 5
      }
     },
     "09d9e16f7ae14a42b4ca6a372434bd84": {
      "model_module": "@jupyter-widgets/base",
      "model_module_version": "1.2.0",
      "model_name": "LayoutModel",
      "state": {}
     },
     "0a300b384eeb4d18bd7862614905de43": {
      "model_module": "@jupyter-widgets/controls",
      "model_module_version": "1.5.0",
      "model_name": "DescriptionStyleModel",
      "state": {
       "description_width": ""
      }
     },
     "0a3f043c52494d2e8fa1bc7ac82fc2ff": {
      "model_module": "@jupyter-widgets/controls",
      "model_module_version": "1.5.0",
      "model_name": "DescriptionStyleModel",
      "state": {
       "description_width": ""
      }
     },
     "0a5f5ad24f064986a83ade13f03e426b": {
      "model_module": "@jupyter-widgets/controls",
      "model_module_version": "1.5.0",
      "model_name": "DescriptionStyleModel",
      "state": {
       "description_width": ""
      }
     },
     "0a62b056b8ba44708651d5c08be9dcc4": {
      "model_module": "@jupyter-widgets/controls",
      "model_module_version": "1.5.0",
      "model_name": "FloatProgressModel",
      "state": {
       "bar_style": "success",
       "layout": "IPY_MODEL_cf742e0c3f9f4e54a64dc57e91d1ba88",
       "max": 5,
       "style": "IPY_MODEL_d780f0e62da84cb19c48ef6bfb3e7919",
       "value": 5
      }
     },
     "0a92ab6a88fc48009a9914d851c2eacc": {
      "model_module": "@jupyter-widgets/controls",
      "model_module_version": "1.5.0",
      "model_name": "ProgressStyleModel",
      "state": {
       "description_width": ""
      }
     },
     "0aee9624d31f40718a5579fbc54583af": {
      "model_module": "@jupyter-widgets/base",
      "model_module_version": "1.2.0",
      "model_name": "LayoutModel",
      "state": {}
     },
     "0b0490703ead4ef7b957b8feedca7ef9": {
      "model_module": "@jupyter-widgets/controls",
      "model_module_version": "1.5.0",
      "model_name": "HTMLModel",
      "state": {
       "layout": "IPY_MODEL_b34cb100423b4f729a6b44b9c125072c",
       "style": "IPY_MODEL_18df2fde87cc4f54a36dae71957e8832",
       "value": "100%"
      }
     },
     "0b0c18a83917485695a652dc31d86049": {
      "model_module": "@jupyter-widgets/base",
      "model_module_version": "1.2.0",
      "model_name": "LayoutModel",
      "state": {}
     },
     "0b19117b3a7b43c988524515d541af31": {
      "model_module": "@jupyter-widgets/controls",
      "model_module_version": "1.5.0",
      "model_name": "HBoxModel",
      "state": {
       "children": [
        "IPY_MODEL_035d31a38edb4808a20e2caa4539a797",
        "IPY_MODEL_45e4dae6416c4a0c9f1c767a9adbaa5e",
        "IPY_MODEL_c0dbd7928bf94949b8e3d4b2789ac817"
       ],
       "layout": "IPY_MODEL_aa8119d8185c4e49a9d1db5aa4547b56"
      }
     },
     "0b2969d185a3435fb8826daeb2db1ecc": {
      "model_module": "@jupyter-widgets/base",
      "model_module_version": "1.2.0",
      "model_name": "LayoutModel",
      "state": {}
     },
     "0b4e783bd8324b289b2fdbda2404e098": {
      "model_module": "@jupyter-widgets/base",
      "model_module_version": "1.2.0",
      "model_name": "LayoutModel",
      "state": {}
     },
     "0b57eb4c1b604bfc99427b90bd6fc74e": {
      "model_module": "@jupyter-widgets/controls",
      "model_module_version": "1.5.0",
      "model_name": "ProgressStyleModel",
      "state": {
       "description_width": ""
      }
     },
     "0b7969768f5f4415b7e0c3cfc58ca02c": {
      "model_module": "@jupyter-widgets/controls",
      "model_module_version": "1.5.0",
      "model_name": "HTMLModel",
      "state": {
       "layout": "IPY_MODEL_0bfbf7ecaa434f619ffce504415a81a6",
       "style": "IPY_MODEL_1dcd569e86014cc58cb64a92b1fcc2ea",
       "value": "100%"
      }
     },
     "0bb4253250ed434d94761c9b08b95305": {
      "model_module": "@jupyter-widgets/controls",
      "model_module_version": "1.5.0",
      "model_name": "ProgressStyleModel",
      "state": {
       "description_width": ""
      }
     },
     "0bfbf7ecaa434f619ffce504415a81a6": {
      "model_module": "@jupyter-widgets/base",
      "model_module_version": "1.2.0",
      "model_name": "LayoutModel",
      "state": {}
     },
     "0c09e0143397477792842a97a9b0b98b": {
      "model_module": "@jupyter-widgets/controls",
      "model_module_version": "1.5.0",
      "model_name": "HTMLModel",
      "state": {
       "layout": "IPY_MODEL_d07b069d696e461091cf45ab11db0ff5",
       "style": "IPY_MODEL_41b5e9e3622a4501b9ab454dfdb3766d",
       "value": " 5/5 [00:04&lt;00:00,  1.15it/s]"
      }
     },
     "0c300e12c2aa46808b124c7e26877e8d": {
      "model_module": "@jupyter-widgets/base",
      "model_module_version": "1.2.0",
      "model_name": "LayoutModel",
      "state": {}
     },
     "0c30aa66c24d46ad8109985ff7e0d4aa": {
      "model_module": "@jupyter-widgets/controls",
      "model_module_version": "1.5.0",
      "model_name": "DescriptionStyleModel",
      "state": {
       "description_width": ""
      }
     },
     "0c538e7e97bf4977b15a80c8ba02c7e8": {
      "model_module": "@jupyter-widgets/base",
      "model_module_version": "1.2.0",
      "model_name": "LayoutModel",
      "state": {}
     },
     "0c566fc1bdab42b4b9ce2c49fd9876cd": {
      "model_module": "@jupyter-widgets/controls",
      "model_module_version": "1.5.0",
      "model_name": "DescriptionStyleModel",
      "state": {
       "description_width": ""
      }
     },
     "0c84321146be47cd890cab9d072a27c9": {
      "model_module": "@jupyter-widgets/controls",
      "model_module_version": "1.5.0",
      "model_name": "ProgressStyleModel",
      "state": {
       "description_width": ""
      }
     },
     "0ce2b0956a8a453aaf14020c545216a0": {
      "model_module": "@jupyter-widgets/base",
      "model_module_version": "1.2.0",
      "model_name": "LayoutModel",
      "state": {}
     },
     "0ce600b31f0f4cfda7fa559862be76c5": {
      "model_module": "@jupyter-widgets/base",
      "model_module_version": "1.2.0",
      "model_name": "LayoutModel",
      "state": {}
     },
     "0ce8c12d72f34ff8ac446d1347735e47": {
      "model_module": "@jupyter-widgets/controls",
      "model_module_version": "1.5.0",
      "model_name": "DescriptionStyleModel",
      "state": {
       "description_width": ""
      }
     },
     "0d07e951a4f242e99bba56807736f33f": {
      "model_module": "@jupyter-widgets/base",
      "model_module_version": "1.2.0",
      "model_name": "LayoutModel",
      "state": {}
     },
     "0d32f2fa295046acaabbd1afea6923d9": {
      "model_module": "@jupyter-widgets/controls",
      "model_module_version": "1.5.0",
      "model_name": "HTMLModel",
      "state": {
       "layout": "IPY_MODEL_d3b79f9479204c23805cc1e7e443ca55",
       "style": "IPY_MODEL_3d58dd5c472241bfa407f20f0541d8f6",
       "value": "100%"
      }
     },
     "0d4d9facfc6843eaa0c34009a02fd2b1": {
      "model_module": "@jupyter-widgets/controls",
      "model_module_version": "1.5.0",
      "model_name": "FloatProgressModel",
      "state": {
       "bar_style": "success",
       "layout": "IPY_MODEL_1184acef72bd416ca3ba5de2fa388abe",
       "max": 5,
       "style": "IPY_MODEL_e65493139a88452188fbca14ad6f583b",
       "value": 5
      }
     },
     "0d7539bc88a4413fb3da2c26644388f4": {
      "model_module": "@jupyter-widgets/base",
      "model_module_version": "1.2.0",
      "model_name": "LayoutModel",
      "state": {}
     },
     "0d9622eb7a604f6ea98ccb35d8910004": {
      "model_module": "@jupyter-widgets/controls",
      "model_module_version": "1.5.0",
      "model_name": "HTMLModel",
      "state": {
       "layout": "IPY_MODEL_9cca425ef8124a688b5bc7ba55458472",
       "style": "IPY_MODEL_e9dcf3229e1f4c95a129076dd7591c5b",
       "value": "100%"
      }
     },
     "0dcd529c9dd443d6a385e2f3df1e1899": {
      "model_module": "@jupyter-widgets/controls",
      "model_module_version": "1.5.0",
      "model_name": "ProgressStyleModel",
      "state": {
       "description_width": ""
      }
     },
     "0de5ba4fc4414c4382500055c614ca99": {
      "model_module": "@jupyter-widgets/base",
      "model_module_version": "1.2.0",
      "model_name": "LayoutModel",
      "state": {}
     },
     "0e569993965b40cfb9856c70994cbd9f": {
      "model_module": "@jupyter-widgets/controls",
      "model_module_version": "1.5.0",
      "model_name": "DescriptionStyleModel",
      "state": {
       "description_width": ""
      }
     },
     "0ea8fea937c14dd99dbc947abe3ae845": {
      "model_module": "@jupyter-widgets/base",
      "model_module_version": "1.2.0",
      "model_name": "LayoutModel",
      "state": {}
     },
     "0eb6fff80b9d4a129e4103c7c54ea696": {
      "model_module": "@jupyter-widgets/base",
      "model_module_version": "1.2.0",
      "model_name": "LayoutModel",
      "state": {}
     },
     "0eddddd536674f559550df07678cd5c6": {
      "model_module": "@jupyter-widgets/controls",
      "model_module_version": "1.5.0",
      "model_name": "HTMLModel",
      "state": {
       "layout": "IPY_MODEL_0d7539bc88a4413fb3da2c26644388f4",
       "style": "IPY_MODEL_9b1ab2f81f5b4922b158a4d62d4a5eed",
       "value": "100%"
      }
     },
     "0ef71d51e8c64b99a920b220d7656db8": {
      "model_module": "@jupyter-widgets/base",
      "model_module_version": "1.2.0",
      "model_name": "LayoutModel",
      "state": {}
     },
     "0f4a8c6311e045d19f3952bbce2204ae": {
      "model_module": "@jupyter-widgets/controls",
      "model_module_version": "1.5.0",
      "model_name": "FloatProgressModel",
      "state": {
       "bar_style": "success",
       "layout": "IPY_MODEL_75d0d0f226004e76a118c477c05911b6",
       "max": 5,
       "style": "IPY_MODEL_a1c5df596f8e4b6c8670b3a7dd813d5e",
       "value": 5
      }
     },
     "0fb3ebf5245a4ab2a3cd38f063827dd2": {
      "model_module": "@jupyter-widgets/controls",
      "model_module_version": "1.5.0",
      "model_name": "HBoxModel",
      "state": {
       "children": [
        "IPY_MODEL_d2496d1f4b1a451ebd855c30c959fecc",
        "IPY_MODEL_50f79227713f48f0aa21b8b893f8d637",
        "IPY_MODEL_1271cbc94c1848c8b17decd514432683"
       ],
       "layout": "IPY_MODEL_bb0d04c9c73c4629a02f38afd6d5a372"
      }
     },
     "1020eb78995540bc9647417268e1c52d": {
      "model_module": "@jupyter-widgets/base",
      "model_module_version": "1.2.0",
      "model_name": "LayoutModel",
      "state": {}
     },
     "107e644ef8814a3b9066b3d2836e076a": {
      "model_module": "@jupyter-widgets/base",
      "model_module_version": "1.2.0",
      "model_name": "LayoutModel",
      "state": {}
     },
     "109be5b372304304a1dd407c43a34527": {
      "model_module": "@jupyter-widgets/controls",
      "model_module_version": "1.5.0",
      "model_name": "HTMLModel",
      "state": {
       "layout": "IPY_MODEL_35341f2fb2174b23b95015e0571b1748",
       "style": "IPY_MODEL_968663b1d42047cb8773f2fbf6fd1f66",
       "value": " 5/5 [13:15&lt;00:00, 157.75s/it]"
      }
     },
     "10a2afa8850c47e18ce33ab87c2ec591": {
      "model_module": "@jupyter-widgets/base",
      "model_module_version": "1.2.0",
      "model_name": "LayoutModel",
      "state": {}
     },
     "10b7340956e046109c742c7b1021ab62": {
      "model_module": "@jupyter-widgets/base",
      "model_module_version": "1.2.0",
      "model_name": "LayoutModel",
      "state": {}
     },
     "10b760be2a044de288aed9a60ec99450": {
      "model_module": "@jupyter-widgets/base",
      "model_module_version": "1.2.0",
      "model_name": "LayoutModel",
      "state": {}
     },
     "10ca300c141447d1a589373d6786dfab": {
      "model_module": "@jupyter-widgets/controls",
      "model_module_version": "1.5.0",
      "model_name": "HTMLModel",
      "state": {
       "layout": "IPY_MODEL_d11c0acd5ca34ff18549e53adf4607e3",
       "style": "IPY_MODEL_b015c87f91da4adfaa2a4a07d560cbc2",
       "value": " 5/5 [00:00&lt;00:00, 13.57it/s]"
      }
     },
     "110b6f39478247ecb1f53f00bc668c3b": {
      "model_module": "@jupyter-widgets/controls",
      "model_module_version": "1.5.0",
      "model_name": "HTMLModel",
      "state": {
       "layout": "IPY_MODEL_a5fbd63267dc45cfb87e299c7fbbd2f1",
       "style": "IPY_MODEL_89abf5cae048435498269310bd968526",
       "value": " 5/5 [00:13&lt;00:00,  2.72s/it]"
      }
     },
     "116292d3e7454489bea6aeb2e5661c12": {
      "model_module": "@jupyter-widgets/controls",
      "model_module_version": "1.5.0",
      "model_name": "HBoxModel",
      "state": {
       "children": [
        "IPY_MODEL_00c56fcd890e414a98082cebb20fc5cd",
        "IPY_MODEL_ca0eee3c1aae4f54bc7b52450cf58475",
        "IPY_MODEL_3aec42a745f946f7a930a5ee02e7c437"
       ],
       "layout": "IPY_MODEL_7b5fc1e883994a88b1e06f3afc077dd0"
      }
     },
     "1166adaeb6e64bd0b2c0561d33f56f35": {
      "model_module": "@jupyter-widgets/controls",
      "model_module_version": "1.5.0",
      "model_name": "DescriptionStyleModel",
      "state": {
       "description_width": ""
      }
     },
     "116fbf6536334f9ab7957163e553d5e5": {
      "model_module": "@jupyter-widgets/base",
      "model_module_version": "1.2.0",
      "model_name": "LayoutModel",
      "state": {}
     },
     "1184acef72bd416ca3ba5de2fa388abe": {
      "model_module": "@jupyter-widgets/base",
      "model_module_version": "1.2.0",
      "model_name": "LayoutModel",
      "state": {}
     },
     "11912e7eef08466d85f8cd45f26aa19a": {
      "model_module": "@jupyter-widgets/controls",
      "model_module_version": "1.5.0",
      "model_name": "DescriptionStyleModel",
      "state": {
       "description_width": ""
      }
     },
     "1271cbc94c1848c8b17decd514432683": {
      "model_module": "@jupyter-widgets/controls",
      "model_module_version": "1.5.0",
      "model_name": "HTMLModel",
      "state": {
       "layout": "IPY_MODEL_5ff61e84c9d842869990d05356358486",
       "style": "IPY_MODEL_b0ba0cce99de4b6cb05b151fc9e9c69d",
       "value": " 5/5 [00:05&lt;00:00,  1.19s/it]"
      }
     },
     "1290686706254196b74e31bc77ef17eb": {
      "model_module": "@jupyter-widgets/controls",
      "model_module_version": "1.5.0",
      "model_name": "HTMLModel",
      "state": {
       "layout": "IPY_MODEL_ee27e84819814940905b868a0d1fd630",
       "style": "IPY_MODEL_d60c56397ca84c3b8cb6ce6eb85a7662",
       "value": "100%"
      }
     },
     "12c5b2b9fa4f41db8742ae4060f25942": {
      "model_module": "@jupyter-widgets/base",
      "model_module_version": "1.2.0",
      "model_name": "LayoutModel",
      "state": {}
     },
     "12dd307bed5b46de93fc2edce295afb6": {
      "model_module": "@jupyter-widgets/base",
      "model_module_version": "1.2.0",
      "model_name": "LayoutModel",
      "state": {}
     },
     "12f39e7089614b1c84a431c8e0f3870d": {
      "model_module": "@jupyter-widgets/controls",
      "model_module_version": "1.5.0",
      "model_name": "DescriptionStyleModel",
      "state": {
       "description_width": ""
      }
     },
     "13401458ad2a4844bf605acb03c6154f": {
      "model_module": "@jupyter-widgets/controls",
      "model_module_version": "1.5.0",
      "model_name": "ProgressStyleModel",
      "state": {
       "description_width": ""
      }
     },
     "135915f245a74c0281239e2c02db187e": {
      "model_module": "@jupyter-widgets/base",
      "model_module_version": "1.2.0",
      "model_name": "LayoutModel",
      "state": {}
     },
     "136cdbc9db814d839eb287821f08cb4a": {
      "model_module": "@jupyter-widgets/controls",
      "model_module_version": "1.5.0",
      "model_name": "HTMLModel",
      "state": {
       "layout": "IPY_MODEL_9577d2a1436441b8ba89f7c3460aee70",
       "style": "IPY_MODEL_46ba5824ac4c4dc9b7bec6f474a0d5c4",
       "value": " 5/5 [13:08&lt;00:00, 156.27s/it]"
      }
     },
     "138815a0f7884438b8a23cac465d48e6": {
      "model_module": "@jupyter-widgets/controls",
      "model_module_version": "1.5.0",
      "model_name": "HTMLModel",
      "state": {
       "layout": "IPY_MODEL_a89ab82e98ba42f98844dac39895ebbb",
       "style": "IPY_MODEL_93a82393a172490886842e2d5de69505",
       "value": " 5/5 [00:14&lt;00:00,  2.99s/it]"
      }
     },
     "1396b98735ec4867b0b98d4641cc9480": {
      "model_module": "@jupyter-widgets/base",
      "model_module_version": "1.2.0",
      "model_name": "LayoutModel",
      "state": {}
     },
     "13a1d3357f6e4d97b99142e4d58e5562": {
      "model_module": "@jupyter-widgets/controls",
      "model_module_version": "1.5.0",
      "model_name": "HTMLModel",
      "state": {
       "layout": "IPY_MODEL_037a16a241c243749354de3dca5b2e97",
       "style": "IPY_MODEL_52734ae0dc8d47a69cefc7f0923acb85",
       "value": "100%"
      }
     },
     "13e3479ba0cb4ab08b43e83a2b64cea2": {
      "model_module": "@jupyter-widgets/controls",
      "model_module_version": "1.5.0",
      "model_name": "DescriptionStyleModel",
      "state": {
       "description_width": ""
      }
     },
     "140d71e53dbf429ea46dc73bdeb63f07": {
      "model_module": "@jupyter-widgets/base",
      "model_module_version": "1.2.0",
      "model_name": "LayoutModel",
      "state": {}
     },
     "140e9511a05a4b06903c5140923c4702": {
      "model_module": "@jupyter-widgets/base",
      "model_module_version": "1.2.0",
      "model_name": "LayoutModel",
      "state": {}
     },
     "14c7640df5e346ff8a9432cf375b2a80": {
      "model_module": "@jupyter-widgets/controls",
      "model_module_version": "1.5.0",
      "model_name": "DescriptionStyleModel",
      "state": {
       "description_width": ""
      }
     },
     "14c9b581ec784baab6fb8eba296aa56c": {
      "model_module": "@jupyter-widgets/controls",
      "model_module_version": "1.5.0",
      "model_name": "ProgressStyleModel",
      "state": {
       "description_width": ""
      }
     },
     "14f2d0f8b6b143b38dc66114b92a98a4": {
      "model_module": "@jupyter-widgets/base",
      "model_module_version": "1.2.0",
      "model_name": "LayoutModel",
      "state": {}
     },
     "150faba92d1742b19b30db3c0d54e244": {
      "model_module": "@jupyter-widgets/base",
      "model_module_version": "1.2.0",
      "model_name": "LayoutModel",
      "state": {}
     },
     "1539800c2fc140fc9ec7327969c41c2a": {
      "model_module": "@jupyter-widgets/base",
      "model_module_version": "1.2.0",
      "model_name": "LayoutModel",
      "state": {}
     },
     "1579139c85034d268c6367f85a8c6beb": {
      "model_module": "@jupyter-widgets/controls",
      "model_module_version": "1.5.0",
      "model_name": "HBoxModel",
      "state": {
       "children": [
        "IPY_MODEL_98df17219fec4a8fbeae72f87243f37f",
        "IPY_MODEL_c08c236b2ed9468e850637f094bcb770",
        "IPY_MODEL_9ea87cefca3448d695bd122b0ab33c2a"
       ],
       "layout": "IPY_MODEL_170439e291c7498c82988bca838db953"
      }
     },
     "1581403e0d29435eb0e67704d2fd1fe9": {
      "model_module": "@jupyter-widgets/controls",
      "model_module_version": "1.5.0",
      "model_name": "FloatProgressModel",
      "state": {
       "bar_style": "success",
       "layout": "IPY_MODEL_f032dadb5fcf4e68a12a4879df863341",
       "max": 5,
       "style": "IPY_MODEL_38988571b93341e78ac62db633ee224f",
       "value": 5
      }
     },
     "15ab5d9889f441e1bf451d7431796565": {
      "model_module": "@jupyter-widgets/controls",
      "model_module_version": "1.5.0",
      "model_name": "HBoxModel",
      "state": {
       "children": [
        "IPY_MODEL_38bb0d80bedb44688196fc55acd1ba15",
        "IPY_MODEL_7c6210ab6dd64e84a5c57e38fb7be047",
        "IPY_MODEL_c11dceeae7c54287b0902c56404fe681"
       ],
       "layout": "IPY_MODEL_94a8ca04712e41c5be2554498499c1d1"
      }
     },
     "15bfd89e81a9493b9263bd924a6b62e3": {
      "model_module": "@jupyter-widgets/controls",
      "model_module_version": "1.5.0",
      "model_name": "HBoxModel",
      "state": {
       "children": [
        "IPY_MODEL_97b8a77306494e00a2298729f7cab04c",
        "IPY_MODEL_51f07b1a7f5348f58e35feab75f5c1a1",
        "IPY_MODEL_8a081ac3743543b69baf2696cdcc0107"
       ],
       "layout": "IPY_MODEL_36dc520fcc5d4693933e5f99ec0f08df"
      }
     },
     "15c325bb19fe431ca4d2076966356af0": {
      "model_module": "@jupyter-widgets/controls",
      "model_module_version": "1.5.0",
      "model_name": "DescriptionStyleModel",
      "state": {
       "description_width": ""
      }
     },
     "15c7d344626d4ca0ba5d082b65977315": {
      "model_module": "@jupyter-widgets/controls",
      "model_module_version": "1.5.0",
      "model_name": "FloatProgressModel",
      "state": {
       "bar_style": "success",
       "layout": "IPY_MODEL_da5024560ea24b3eb56dfbfc76007067",
       "max": 5,
       "style": "IPY_MODEL_077cb0586ece47ee8524fabe5a1d4f94",
       "value": 5
      }
     },
     "15d5b13d5c894e81a7ddf7fa0198feab": {
      "model_module": "@jupyter-widgets/controls",
      "model_module_version": "1.5.0",
      "model_name": "HTMLModel",
      "state": {
       "layout": "IPY_MODEL_919de0c46abf4b7db6c7da0d3bd483cb",
       "style": "IPY_MODEL_39240854ed5247e6be6ee8a35331389b",
       "value": "100%"
      }
     },
     "15ed8b157026400e95c2e058ee505501": {
      "model_module": "@jupyter-widgets/controls",
      "model_module_version": "1.5.0",
      "model_name": "DescriptionStyleModel",
      "state": {
       "description_width": ""
      }
     },
     "1602e37b1ed94882b059d2233ee0aafe": {
      "model_module": "@jupyter-widgets/controls",
      "model_module_version": "1.5.0",
      "model_name": "DescriptionStyleModel",
      "state": {
       "description_width": ""
      }
     },
     "169715157bf14adbbb1f74996b054535": {
      "model_module": "@jupyter-widgets/base",
      "model_module_version": "1.2.0",
      "model_name": "LayoutModel",
      "state": {}
     },
     "16b531efaa484d74beb15090d8fb8784": {
      "model_module": "@jupyter-widgets/controls",
      "model_module_version": "1.5.0",
      "model_name": "HBoxModel",
      "state": {
       "children": [
        "IPY_MODEL_87fabac7205e46a8aaf45fda8a27117a",
        "IPY_MODEL_849d8cd6bb774ba09113f32cd1d6e6bb",
        "IPY_MODEL_d33be881b3fa4e80bd37146cf6972399"
       ],
       "layout": "IPY_MODEL_64ed98ef1dd14dc5babd83576dfc36ea"
      }
     },
     "16ef15fb9fa44b669dd3ffdd6c8fbe9f": {
      "model_module": "@jupyter-widgets/controls",
      "model_module_version": "1.5.0",
      "model_name": "ProgressStyleModel",
      "state": {
       "description_width": ""
      }
     },
     "170439e291c7498c82988bca838db953": {
      "model_module": "@jupyter-widgets/base",
      "model_module_version": "1.2.0",
      "model_name": "LayoutModel",
      "state": {}
     },
     "175083ec7d7a404fa6ab3126e1d5a542": {
      "model_module": "@jupyter-widgets/base",
      "model_module_version": "1.2.0",
      "model_name": "LayoutModel",
      "state": {}
     },
     "176060c56490480db2f0664704da89df": {
      "model_module": "@jupyter-widgets/base",
      "model_module_version": "1.2.0",
      "model_name": "LayoutModel",
      "state": {}
     },
     "17c83b1bdc004f1abb8ea14c2fbcb759": {
      "model_module": "@jupyter-widgets/base",
      "model_module_version": "1.2.0",
      "model_name": "LayoutModel",
      "state": {}
     },
     "182725cfe56c46e480d4c1d3db38f054": {
      "model_module": "@jupyter-widgets/controls",
      "model_module_version": "1.5.0",
      "model_name": "ProgressStyleModel",
      "state": {
       "description_width": ""
      }
     },
     "183f917818a1460a9f3d08651ffcb1dd": {
      "model_module": "@jupyter-widgets/base",
      "model_module_version": "1.2.0",
      "model_name": "LayoutModel",
      "state": {}
     },
     "185880c93a0a4ebe842edfd9685023b6": {
      "model_module": "@jupyter-widgets/base",
      "model_module_version": "1.2.0",
      "model_name": "LayoutModel",
      "state": {}
     },
     "1863d77f5d2741ee9bda4bb5978a0201": {
      "model_module": "@jupyter-widgets/base",
      "model_module_version": "1.2.0",
      "model_name": "LayoutModel",
      "state": {}
     },
     "18746eb38d064d52a617f8edc2aa2916": {
      "model_module": "@jupyter-widgets/base",
      "model_module_version": "1.2.0",
      "model_name": "LayoutModel",
      "state": {}
     },
     "187c637886d04b8eab6048192441465c": {
      "model_module": "@jupyter-widgets/controls",
      "model_module_version": "1.5.0",
      "model_name": "DescriptionStyleModel",
      "state": {
       "description_width": ""
      }
     },
     "18df2fde87cc4f54a36dae71957e8832": {
      "model_module": "@jupyter-widgets/controls",
      "model_module_version": "1.5.0",
      "model_name": "DescriptionStyleModel",
      "state": {
       "description_width": ""
      }
     },
     "18e7d4dcfaaf4e6c81c9798e54214ab4": {
      "model_module": "@jupyter-widgets/controls",
      "model_module_version": "1.5.0",
      "model_name": "DescriptionStyleModel",
      "state": {
       "description_width": ""
      }
     },
     "18ff79902354426c844b38743af4f5cc": {
      "model_module": "@jupyter-widgets/controls",
      "model_module_version": "1.5.0",
      "model_name": "FloatProgressModel",
      "state": {
       "bar_style": "success",
       "layout": "IPY_MODEL_58fbeda95d974d93b2072b028e48f1b7",
       "max": 5,
       "style": "IPY_MODEL_a0d2acd4a4f142968b5e97704b090ee0",
       "value": 5
      }
     },
     "193066d7b3f44eae9a096f19b7329816": {
      "model_module": "@jupyter-widgets/controls",
      "model_module_version": "1.5.0",
      "model_name": "ProgressStyleModel",
      "state": {
       "description_width": ""
      }
     },
     "194214182c1f414997ec4faa32d51493": {
      "model_module": "@jupyter-widgets/base",
      "model_module_version": "1.2.0",
      "model_name": "LayoutModel",
      "state": {}
     },
     "19a68354d096493c9e2fa8458e0a2a5e": {
      "model_module": "@jupyter-widgets/controls",
      "model_module_version": "1.5.0",
      "model_name": "FloatProgressModel",
      "state": {
       "bar_style": "success",
       "layout": "IPY_MODEL_ba5cc2e285e543639aace62f4f6ec188",
       "max": 5,
       "style": "IPY_MODEL_4dc36bff3e4f451ead692b4307158fb9",
       "value": 5
      }
     },
     "19c13c900c2342c3992b83550218bd9c": {
      "model_module": "@jupyter-widgets/base",
      "model_module_version": "1.2.0",
      "model_name": "LayoutModel",
      "state": {}
     },
     "19c60237cfbf4828bd7a5afaa7fc3d3d": {
      "model_module": "@jupyter-widgets/controls",
      "model_module_version": "1.5.0",
      "model_name": "DescriptionStyleModel",
      "state": {
       "description_width": ""
      }
     },
     "19d0e001c29642b799c9dbc1ffc19516": {
      "model_module": "@jupyter-widgets/controls",
      "model_module_version": "1.5.0",
      "model_name": "ProgressStyleModel",
      "state": {
       "description_width": ""
      }
     },
     "19dd6ca6badc42faa646e9091cda32c9": {
      "model_module": "@jupyter-widgets/base",
      "model_module_version": "1.2.0",
      "model_name": "LayoutModel",
      "state": {}
     },
     "1a46d8335d194975ad423264ea7955d8": {
      "model_module": "@jupyter-widgets/controls",
      "model_module_version": "1.5.0",
      "model_name": "DescriptionStyleModel",
      "state": {
       "description_width": ""
      }
     },
     "1acda90f8fde4cd5a8f253b8ab2fb202": {
      "model_module": "@jupyter-widgets/controls",
      "model_module_version": "1.5.0",
      "model_name": "DescriptionStyleModel",
      "state": {
       "description_width": ""
      }
     },
     "1ad0ef9750ca40869210ee9a06d162e0": {
      "model_module": "@jupyter-widgets/controls",
      "model_module_version": "1.5.0",
      "model_name": "DescriptionStyleModel",
      "state": {
       "description_width": ""
      }
     },
     "1b507388ae4348c5b84b9e137464d8ee": {
      "model_module": "@jupyter-widgets/base",
      "model_module_version": "1.2.0",
      "model_name": "LayoutModel",
      "state": {}
     },
     "1b95fd8865214c55ae5037c57d535929": {
      "model_module": "@jupyter-widgets/controls",
      "model_module_version": "1.5.0",
      "model_name": "DescriptionStyleModel",
      "state": {
       "description_width": ""
      }
     },
     "1bd12d02f954423bbd99a3bbdc93e151": {
      "model_module": "@jupyter-widgets/controls",
      "model_module_version": "1.5.0",
      "model_name": "ProgressStyleModel",
      "state": {
       "description_width": ""
      }
     },
     "1be26e798bd04c579e5f096c989c6675": {
      "model_module": "@jupyter-widgets/base",
      "model_module_version": "1.2.0",
      "model_name": "LayoutModel",
      "state": {}
     },
     "1c07d5c6bf8a4581a763e673602fb5c3": {
      "model_module": "@jupyter-widgets/base",
      "model_module_version": "1.2.0",
      "model_name": "LayoutModel",
      "state": {}
     },
     "1c42c4c72798468ea7fb028b03b4169b": {
      "model_module": "@jupyter-widgets/controls",
      "model_module_version": "1.5.0",
      "model_name": "ProgressStyleModel",
      "state": {
       "description_width": ""
      }
     },
     "1c42d9ffcde54a1eaf7e61f16e5e0a77": {
      "model_module": "@jupyter-widgets/controls",
      "model_module_version": "1.5.0",
      "model_name": "DescriptionStyleModel",
      "state": {
       "description_width": ""
      }
     },
     "1c83f81aebf4447e9461b959999d0715": {
      "model_module": "@jupyter-widgets/controls",
      "model_module_version": "1.5.0",
      "model_name": "ProgressStyleModel",
      "state": {
       "description_width": ""
      }
     },
     "1c8c6fd72ffc4f58875963026b6f72c0": {
      "model_module": "@jupyter-widgets/controls",
      "model_module_version": "1.5.0",
      "model_name": "HBoxModel",
      "state": {
       "children": [
        "IPY_MODEL_0284b0a10d96471586fdaf27ff1bb835",
        "IPY_MODEL_bbd87ed6b91c447c8d2f995f08205d16",
        "IPY_MODEL_79ca06ecd5f046f7a3a7e5361862adbc"
       ],
       "layout": "IPY_MODEL_0ea8fea937c14dd99dbc947abe3ae845"
      }
     },
     "1c9c085a08e840eb8d33e3e65d730982": {
      "model_module": "@jupyter-widgets/controls",
      "model_module_version": "1.5.0",
      "model_name": "DescriptionStyleModel",
      "state": {
       "description_width": ""
      }
     },
     "1cdccab879b54244bdc452f3ae3f72c9": {
      "model_module": "@jupyter-widgets/controls",
      "model_module_version": "1.5.0",
      "model_name": "DescriptionStyleModel",
      "state": {
       "description_width": ""
      }
     },
     "1d03d314fa1e4b689121c8f2e02b3b50": {
      "model_module": "@jupyter-widgets/controls",
      "model_module_version": "1.5.0",
      "model_name": "ProgressStyleModel",
      "state": {
       "description_width": ""
      }
     },
     "1d09924e47ce4016959c603e2198a11c": {
      "model_module": "@jupyter-widgets/controls",
      "model_module_version": "1.5.0",
      "model_name": "HTMLModel",
      "state": {
       "layout": "IPY_MODEL_329f77d0c0e8499f9becfd093a3f662d",
       "style": "IPY_MODEL_3cef53753b3a4b028704d55980b2ad9c",
       "value": " 5/5 [00:00&lt;00:00, 12.85it/s]"
      }
     },
     "1d8a815efb204e45a492a760b7c1fc1f": {
      "model_module": "@jupyter-widgets/controls",
      "model_module_version": "1.5.0",
      "model_name": "ProgressStyleModel",
      "state": {
       "description_width": ""
      }
     },
     "1dcd569e86014cc58cb64a92b1fcc2ea": {
      "model_module": "@jupyter-widgets/controls",
      "model_module_version": "1.5.0",
      "model_name": "DescriptionStyleModel",
      "state": {
       "description_width": ""
      }
     },
     "1dd3d196dc3b4f61aab3ff10ca4c3b8b": {
      "model_module": "@jupyter-widgets/controls",
      "model_module_version": "1.5.0",
      "model_name": "HBoxModel",
      "state": {
       "children": [
        "IPY_MODEL_68f03c22f236415d90f044bf4a63024b",
        "IPY_MODEL_55e6aaa02bf240fd897cd93bbd3e3e23",
        "IPY_MODEL_eb2179b09b5244229f653958e1a941bc"
       ],
       "layout": "IPY_MODEL_6324f851c6c14330a0642eecd5598666"
      }
     },
     "1e75721ace57482b96644bb50762a805": {
      "model_module": "@jupyter-widgets/controls",
      "model_module_version": "1.5.0",
      "model_name": "DescriptionStyleModel",
      "state": {
       "description_width": ""
      }
     },
     "1ebcaf110fc94cf8b0cf9aa54e55f10f": {
      "model_module": "@jupyter-widgets/controls",
      "model_module_version": "1.5.0",
      "model_name": "HTMLModel",
      "state": {
       "layout": "IPY_MODEL_9dea60d4606d43d08986a9686ea36e86",
       "style": "IPY_MODEL_9cdf5635a21b4fa89a7046fd617f2955",
       "value": "100%"
      }
     },
     "1f354f266eb0457b95a77d9d79292ced": {
      "model_module": "@jupyter-widgets/controls",
      "model_module_version": "1.5.0",
      "model_name": "FloatProgressModel",
      "state": {
       "bar_style": "success",
       "layout": "IPY_MODEL_498bcdd06f9a45c69d4a12b62a0da366",
       "max": 5,
       "style": "IPY_MODEL_d3beaf96f7394970a9265dd95580744d",
       "value": 5
      }
     },
     "1f3c151131034bacb19059d6109b5fcb": {
      "model_module": "@jupyter-widgets/base",
      "model_module_version": "1.2.0",
      "model_name": "LayoutModel",
      "state": {}
     },
     "1f72943102b54e3fa61311d2de57828e": {
      "model_module": "@jupyter-widgets/controls",
      "model_module_version": "1.5.0",
      "model_name": "FloatProgressModel",
      "state": {
       "bar_style": "success",
       "layout": "IPY_MODEL_9a25d4cd59f74ec7919f6c010024ffd8",
       "max": 5,
       "style": "IPY_MODEL_8f32678b0dd1436489b2e9ff410ca94c",
       "value": 5
      }
     },
     "1f83a293025b4640a02e802703f5f6ee": {
      "model_module": "@jupyter-widgets/controls",
      "model_module_version": "1.5.0",
      "model_name": "DescriptionStyleModel",
      "state": {
       "description_width": ""
      }
     },
     "1fb8420009ae4294922917c6328ab934": {
      "model_module": "@jupyter-widgets/controls",
      "model_module_version": "1.5.0",
      "model_name": "ProgressStyleModel",
      "state": {
       "description_width": ""
      }
     },
     "1fdead41471a44e8af9c7040eeb2b64b": {
      "model_module": "@jupyter-widgets/controls",
      "model_module_version": "1.5.0",
      "model_name": "DescriptionStyleModel",
      "state": {
       "description_width": ""
      }
     },
     "1ff04aafaa614de181dc792610395976": {
      "model_module": "@jupyter-widgets/base",
      "model_module_version": "1.2.0",
      "model_name": "LayoutModel",
      "state": {}
     },
     "1ffacca7909e49a3b0fc55499d33a26d": {
      "model_module": "@jupyter-widgets/controls",
      "model_module_version": "1.5.0",
      "model_name": "HBoxModel",
      "state": {
       "children": [
        "IPY_MODEL_1290686706254196b74e31bc77ef17eb",
        "IPY_MODEL_e5d34641c4164a16bea664c38ef63f3c",
        "IPY_MODEL_9490f00dda9f49cf8c3bfde2aefddf08"
       ],
       "layout": "IPY_MODEL_ccdbc9926b4a4308b083de2f4672ae22"
      }
     },
     "205cf4eb700b4e6492ac8966d576caff": {
      "model_module": "@jupyter-widgets/controls",
      "model_module_version": "1.5.0",
      "model_name": "HTMLModel",
      "state": {
       "layout": "IPY_MODEL_f4258672356b458fb59b16e2f8343743",
       "style": "IPY_MODEL_0a300b384eeb4d18bd7862614905de43",
       "value": " 5/5 [13:01&lt;00:00, 156.72s/it]"
      }
     },
     "207d02c067ae492c99215845f7d9147c": {
      "model_module": "@jupyter-widgets/controls",
      "model_module_version": "1.5.0",
      "model_name": "DescriptionStyleModel",
      "state": {
       "description_width": ""
      }
     },
     "2092e58fa5ef46bfacef9ba301ba7ac0": {
      "model_module": "@jupyter-widgets/base",
      "model_module_version": "1.2.0",
      "model_name": "LayoutModel",
      "state": {}
     },
     "20c494df790644289a523dd5c9f45d9f": {
      "model_module": "@jupyter-widgets/controls",
      "model_module_version": "1.5.0",
      "model_name": "DescriptionStyleModel",
      "state": {
       "description_width": ""
      }
     },
     "20d02f2ff20f47ab88205e859d1bd39d": {
      "model_module": "@jupyter-widgets/base",
      "model_module_version": "1.2.0",
      "model_name": "LayoutModel",
      "state": {}
     },
     "20d239ae4c8045f3b96f48408310d381": {
      "model_module": "@jupyter-widgets/controls",
      "model_module_version": "1.5.0",
      "model_name": "HTMLModel",
      "state": {
       "layout": "IPY_MODEL_f3558d35add64598bfb14664cbba84b6",
       "style": "IPY_MODEL_4e934c6a97e348cf993aad808bb974cc",
       "value": "100%"
      }
     },
     "20ea935576b441479bf44776b44c04f2": {
      "model_module": "@jupyter-widgets/controls",
      "model_module_version": "1.5.0",
      "model_name": "HTMLModel",
      "state": {
       "layout": "IPY_MODEL_f917574633dc4742baa419f16ba5995c",
       "style": "IPY_MODEL_c5ab654d624f4c1abcc0256ed63fedae",
       "value": "100%"
      }
     },
     "211010c034b74d4e8a3e145be3490d62": {
      "model_module": "@jupyter-widgets/controls",
      "model_module_version": "1.5.0",
      "model_name": "ProgressStyleModel",
      "state": {
       "description_width": ""
      }
     },
     "2128f1213f734e618629078534a501e4": {
      "model_module": "@jupyter-widgets/controls",
      "model_module_version": "1.5.0",
      "model_name": "FloatProgressModel",
      "state": {
       "bar_style": "success",
       "layout": "IPY_MODEL_fea76081b0514c538814fac517301f18",
       "max": 5,
       "style": "IPY_MODEL_1fb8420009ae4294922917c6328ab934",
       "value": 5
      }
     },
     "21724994a8514f43bb8feb5cdb57281a": {
      "model_module": "@jupyter-widgets/base",
      "model_module_version": "1.2.0",
      "model_name": "LayoutModel",
      "state": {}
     },
     "218b5fee01954393854253cb90c97b1e": {
      "model_module": "@jupyter-widgets/controls",
      "model_module_version": "1.5.0",
      "model_name": "HTMLModel",
      "state": {
       "layout": "IPY_MODEL_76621d98b499496cab0d0dcae88b9f59",
       "style": "IPY_MODEL_8217c1adcdee4887bcbdc2a0d9cef595",
       "value": "100%"
      }
     },
     "2233f524ee4b45968a3fc248e1eaf9a0": {
      "model_module": "@jupyter-widgets/controls",
      "model_module_version": "1.5.0",
      "model_name": "DescriptionStyleModel",
      "state": {
       "description_width": ""
      }
     },
     "22472ee07b46439da1fa989a224c7ac2": {
      "model_module": "@jupyter-widgets/controls",
      "model_module_version": "1.5.0",
      "model_name": "HBoxModel",
      "state": {
       "children": [
        "IPY_MODEL_aa58da4784474b4f9af7b7d1b4805474",
        "IPY_MODEL_b2b4f99e33b1478dbaf2b3406142ee22",
        "IPY_MODEL_0c09e0143397477792842a97a9b0b98b"
       ],
       "layout": "IPY_MODEL_c73cc373b8684f5bb3b55d8d65462c32"
      }
     },
     "226b0e54faa6439dacfabb93ab3ac3ee": {
      "model_module": "@jupyter-widgets/controls",
      "model_module_version": "1.5.0",
      "model_name": "ProgressStyleModel",
      "state": {
       "description_width": ""
      }
     },
     "227b1eeb41714c109884f4f29b634c39": {
      "model_module": "@jupyter-widgets/controls",
      "model_module_version": "1.5.0",
      "model_name": "ProgressStyleModel",
      "state": {
       "description_width": ""
      }
     },
     "22a1a71a5be64b50944a604cc8dee175": {
      "model_module": "@jupyter-widgets/controls",
      "model_module_version": "1.5.0",
      "model_name": "FloatProgressModel",
      "state": {
       "bar_style": "success",
       "layout": "IPY_MODEL_140e9511a05a4b06903c5140923c4702",
       "max": 5,
       "style": "IPY_MODEL_e74826ef67c643ae91f8c50efbdb64b4",
       "value": 5
      }
     },
     "230be212b4834368b1d1d87e25c0520d": {
      "model_module": "@jupyter-widgets/controls",
      "model_module_version": "1.5.0",
      "model_name": "FloatProgressModel",
      "state": {
       "bar_style": "success",
       "layout": "IPY_MODEL_5ccb46e46041420f8d75fc24f9121e2a",
       "max": 5,
       "style": "IPY_MODEL_0737fd4c2c88494ca067216ebf5cb5da",
       "value": 5
      }
     },
     "231d7b1e7c9549dca6e8c6dc6ae67902": {
      "model_module": "@jupyter-widgets/controls",
      "model_module_version": "1.5.0",
      "model_name": "HTMLModel",
      "state": {
       "layout": "IPY_MODEL_452beb0a863e4ed7b22da8d52298997f",
       "style": "IPY_MODEL_989d0a510e1c403eb7d1a530d8f38a59",
       "value": " 5/5 [12:31&lt;00:00, 150.47s/it]"
      }
     },
     "232881df6e5e40758f8ac061ddc40e32": {
      "model_module": "@jupyter-widgets/base",
      "model_module_version": "1.2.0",
      "model_name": "LayoutModel",
      "state": {}
     },
     "232d3b2a415141a3b88176fc19e4b113": {
      "model_module": "@jupyter-widgets/base",
      "model_module_version": "1.2.0",
      "model_name": "LayoutModel",
      "state": {}
     },
     "232d58eaed8a41a58f0dd48ea436f0aa": {
      "model_module": "@jupyter-widgets/base",
      "model_module_version": "1.2.0",
      "model_name": "LayoutModel",
      "state": {}
     },
     "234bd62613984c2199204438229c0e49": {
      "model_module": "@jupyter-widgets/controls",
      "model_module_version": "1.5.0",
      "model_name": "FloatProgressModel",
      "state": {
       "bar_style": "success",
       "layout": "IPY_MODEL_f6237e0a8c0e47ed866b57008e67a481",
       "max": 5,
       "style": "IPY_MODEL_c27308543e29457fae9820b98dbe79b3",
       "value": 5
      }
     },
     "234e44bffb67434ca072825f9811ba4c": {
      "model_module": "@jupyter-widgets/controls",
      "model_module_version": "1.5.0",
      "model_name": "FloatProgressModel",
      "state": {
       "bar_style": "success",
       "layout": "IPY_MODEL_5458f9bf7c254ec9b6280722b322aa1c",
       "max": 5,
       "style": "IPY_MODEL_b6b3aa6a3c5b44668b34165c3f175b3c",
       "value": 5
      }
     },
     "2385e3b72a8d4679a2ec65d4267f29a7": {
      "model_module": "@jupyter-widgets/controls",
      "model_module_version": "1.5.0",
      "model_name": "ProgressStyleModel",
      "state": {
       "description_width": ""
      }
     },
     "239bf9d19ad14b519f3fadc61486331c": {
      "model_module": "@jupyter-widgets/controls",
      "model_module_version": "1.5.0",
      "model_name": "DescriptionStyleModel",
      "state": {
       "description_width": ""
      }
     },
     "23c96413647941e491362b4c8382d59c": {
      "model_module": "@jupyter-widgets/controls",
      "model_module_version": "1.5.0",
      "model_name": "ProgressStyleModel",
      "state": {
       "description_width": ""
      }
     },
     "240335e95a284db79fcacc9dc9fad0dc": {
      "model_module": "@jupyter-widgets/controls",
      "model_module_version": "1.5.0",
      "model_name": "HBoxModel",
      "state": {
       "children": [
        "IPY_MODEL_d64c82cac2aa46e9b16a30a7ac90c8c3",
        "IPY_MODEL_ae726be80e564ae18889d2427465e1e5",
        "IPY_MODEL_25c9f2a8736f42d8944a49e26522034b"
       ],
       "layout": "IPY_MODEL_a2be8e6c1a4d48eea869eb46c9c6dce5"
      }
     },
     "241fc58ae5204bb1816fd984a2fdfeda": {
      "model_module": "@jupyter-widgets/base",
      "model_module_version": "1.2.0",
      "model_name": "LayoutModel",
      "state": {}
     },
     "24293c9899074d07ad872b97449af3b2": {
      "model_module": "@jupyter-widgets/controls",
      "model_module_version": "1.5.0",
      "model_name": "ProgressStyleModel",
      "state": {
       "description_width": ""
      }
     },
     "24adda7e8a08418ca86919597c965069": {
      "model_module": "@jupyter-widgets/base",
      "model_module_version": "1.2.0",
      "model_name": "LayoutModel",
      "state": {}
     },
     "251f9920c77448939e1ca11645134ff7": {
      "model_module": "@jupyter-widgets/controls",
      "model_module_version": "1.5.0",
      "model_name": "ProgressStyleModel",
      "state": {
       "description_width": ""
      }
     },
     "25367b0826724d82a2ea72566dcd3142": {
      "model_module": "@jupyter-widgets/controls",
      "model_module_version": "1.5.0",
      "model_name": "ProgressStyleModel",
      "state": {
       "description_width": ""
      }
     },
     "2542610879ac40198d378a624e1e0e8c": {
      "model_module": "@jupyter-widgets/base",
      "model_module_version": "1.2.0",
      "model_name": "LayoutModel",
      "state": {}
     },
     "254fc426909f43bf856f4bcfdd6703d4": {
      "model_module": "@jupyter-widgets/base",
      "model_module_version": "1.2.0",
      "model_name": "LayoutModel",
      "state": {}
     },
     "2572cef2fb4b45a3901fd7f2686b8fa6": {
      "model_module": "@jupyter-widgets/controls",
      "model_module_version": "1.5.0",
      "model_name": "DescriptionStyleModel",
      "state": {
       "description_width": ""
      }
     },
     "257f27b7012d4a6e88f5f6c4eea7d77d": {
      "model_module": "@jupyter-widgets/base",
      "model_module_version": "1.2.0",
      "model_name": "LayoutModel",
      "state": {}
     },
     "25c8a45c7fb14764b77879bf580af310": {
      "model_module": "@jupyter-widgets/base",
      "model_module_version": "1.2.0",
      "model_name": "LayoutModel",
      "state": {}
     },
     "25c9f2a8736f42d8944a49e26522034b": {
      "model_module": "@jupyter-widgets/controls",
      "model_module_version": "1.5.0",
      "model_name": "HTMLModel",
      "state": {
       "layout": "IPY_MODEL_e81b91712ecd42b8b9b3f2dc50151db6",
       "style": "IPY_MODEL_412c1b6aa6314b7fbdcecc2f8823d188",
       "value": " 5/5 [00:12&lt;00:00,  2.51s/it]"
      }
     },
     "25eebf7c89284ac597cde024fb6d6a4b": {
      "model_module": "@jupyter-widgets/controls",
      "model_module_version": "1.5.0",
      "model_name": "HTMLModel",
      "state": {
       "layout": "IPY_MODEL_4cbd87744b4f495ab07c888f342605f6",
       "style": "IPY_MODEL_c4136197b84c4906a25c0adc7f13bf97",
       "value": " 5/5 [00:04&lt;00:00,  1.18it/s]"
      }
     },
     "261617e45e7c416cb1d2ecf099207ff4": {
      "model_module": "@jupyter-widgets/controls",
      "model_module_version": "1.5.0",
      "model_name": "DescriptionStyleModel",
      "state": {
       "description_width": ""
      }
     },
     "2645212eff60451b8d0fa26568eaf89e": {
      "model_module": "@jupyter-widgets/controls",
      "model_module_version": "1.5.0",
      "model_name": "HBoxModel",
      "state": {
       "children": [
        "IPY_MODEL_5e238c159cbc49baacc37fa5e7f90a0a",
        "IPY_MODEL_45d690aae2b34aedb75d8bd40e6a4281",
        "IPY_MODEL_69399af545ab4d25865419ed6756e35a"
       ],
       "layout": "IPY_MODEL_e5948da025c04ccbb8eff0c7c79b6dfd"
      }
     },
     "268e59f161be483ab4b94337f02e2437": {
      "model_module": "@jupyter-widgets/controls",
      "model_module_version": "1.5.0",
      "model_name": "HBoxModel",
      "state": {
       "children": [
        "IPY_MODEL_6c6633cd28ff46e1a14c528150aebd67",
        "IPY_MODEL_5164d28fa2474ecfabfb04f6422653fd",
        "IPY_MODEL_7eebbc8366704aacacd72affdf7e93ec"
       ],
       "layout": "IPY_MODEL_b7405c7f40e74117b13c11cb547e97fd"
      }
     },
     "2696ab16a91849a8b6902cedf4b2b322": {
      "model_module": "@jupyter-widgets/controls",
      "model_module_version": "1.5.0",
      "model_name": "HTMLModel",
      "state": {
       "layout": "IPY_MODEL_c103d21dd3c6454c944b8d1b50e78fea",
       "style": "IPY_MODEL_c400057e52464e729bc95566897e6d48",
       "value": " 5/5 [00:13&lt;00:00,  2.62s/it]"
      }
     },
     "26a5b97481fd47969edec913b7c282f4": {
      "model_module": "@jupyter-widgets/base",
      "model_module_version": "1.2.0",
      "model_name": "LayoutModel",
      "state": {}
     },
     "26bb202f5fab4508a99361085a8ba806": {
      "model_module": "@jupyter-widgets/controls",
      "model_module_version": "1.5.0",
      "model_name": "HTMLModel",
      "state": {
       "layout": "IPY_MODEL_5665b5741e5a45bbbbc0510c8133e0ac",
       "style": "IPY_MODEL_a9ae7efcb5394ca1a7a88123e1a2b774",
       "value": "100%"
      }
     },
     "26be05d7a38a40469b5fb46526e38c3e": {
      "model_module": "@jupyter-widgets/controls",
      "model_module_version": "1.5.0",
      "model_name": "ProgressStyleModel",
      "state": {
       "description_width": ""
      }
     },
     "26f0a51694d34ca888abdb83dd7be2c2": {
      "model_module": "@jupyter-widgets/controls",
      "model_module_version": "1.5.0",
      "model_name": "HTMLModel",
      "state": {
       "layout": "IPY_MODEL_44b6b7fb9ad847c2a39e655929206e56",
       "style": "IPY_MODEL_9ef7d26a3b57487d8554a40c91690468",
       "value": "100%"
      }
     },
     "27065a27c75e496787c2b75f28392496": {
      "model_module": "@jupyter-widgets/controls",
      "model_module_version": "1.5.0",
      "model_name": "HTMLModel",
      "state": {
       "layout": "IPY_MODEL_f4f443a02df64f54ab18c068d945aba2",
       "style": "IPY_MODEL_5f3ba9fa8a8e417191b447506d5497da",
       "value": " 5/5 [00:05&lt;00:00,  1.16s/it]"
      }
     },
     "2733180a713f4e94b1f68569cf8e799e": {
      "model_module": "@jupyter-widgets/controls",
      "model_module_version": "1.5.0",
      "model_name": "ProgressStyleModel",
      "state": {
       "description_width": ""
      }
     },
     "278a8d7c164c4586b412175374b2dc70": {
      "model_module": "@jupyter-widgets/controls",
      "model_module_version": "1.5.0",
      "model_name": "FloatProgressModel",
      "state": {
       "bar_style": "success",
       "layout": "IPY_MODEL_2e40271436e1482ba9d956214f853f79",
       "max": 5,
       "style": "IPY_MODEL_fd3485242b2b439596c46d636d5b03a4",
       "value": 5
      }
     },
     "2796070684f94f1aaf0f4808d9d05de9": {
      "model_module": "@jupyter-widgets/controls",
      "model_module_version": "1.5.0",
      "model_name": "DescriptionStyleModel",
      "state": {
       "description_width": ""
      }
     },
     "27b112af78c94e65b938d3a5c26b680d": {
      "model_module": "@jupyter-widgets/base",
      "model_module_version": "1.2.0",
      "model_name": "LayoutModel",
      "state": {}
     },
     "27b969af6d1d4a9989db7b05de9540d8": {
      "model_module": "@jupyter-widgets/controls",
      "model_module_version": "1.5.0",
      "model_name": "HBoxModel",
      "state": {
       "children": [
        "IPY_MODEL_b00d4b5674064ee19c4a4a5795da0939",
        "IPY_MODEL_321a55c8a0b944a09f2011fa39e06476",
        "IPY_MODEL_109be5b372304304a1dd407c43a34527"
       ],
       "layout": "IPY_MODEL_efc618dbf1614c00ba3bb7559ba0a1fa"
      }
     },
     "27bf454023c84b0ea7137ae1d4d230a3": {
      "model_module": "@jupyter-widgets/controls",
      "model_module_version": "1.5.0",
      "model_name": "HTMLModel",
      "state": {
       "layout": "IPY_MODEL_f20a5b2bb1fa4492bae5cdb3adbbf9b7",
       "style": "IPY_MODEL_ea684f24320043e48e84cb5a8b04a2db",
       "value": " 5/5 [00:04&lt;00:00,  1.07it/s]"
      }
     },
     "27c58aaece074c0ab6d746f834f6e2d3": {
      "model_module": "@jupyter-widgets/controls",
      "model_module_version": "1.5.0",
      "model_name": "DescriptionStyleModel",
      "state": {
       "description_width": ""
      }
     },
     "27f08c462a5d4c1fbd0715f01dab69de": {
      "model_module": "@jupyter-widgets/base",
      "model_module_version": "1.2.0",
      "model_name": "LayoutModel",
      "state": {}
     },
     "2806b98eeb544855bd05283a65fca262": {
      "model_module": "@jupyter-widgets/controls",
      "model_module_version": "1.5.0",
      "model_name": "ProgressStyleModel",
      "state": {
       "description_width": ""
      }
     },
     "28481a77fb8341e29b1a3cb3bba45fed": {
      "model_module": "@jupyter-widgets/controls",
      "model_module_version": "1.5.0",
      "model_name": "HTMLModel",
      "state": {
       "layout": "IPY_MODEL_7b585f0b6aa846a3a192b075769d193c",
       "style": "IPY_MODEL_2233f524ee4b45968a3fc248e1eaf9a0",
       "value": " 5/5 [00:05&lt;00:00,  1.00it/s]"
      }
     },
     "28583a3182a64001bcacf0901f7a3dd0": {
      "model_module": "@jupyter-widgets/base",
      "model_module_version": "1.2.0",
      "model_name": "LayoutModel",
      "state": {}
     },
     "285f3bf901ba4ee2be64f713152b61af": {
      "model_module": "@jupyter-widgets/controls",
      "model_module_version": "1.5.0",
      "model_name": "DescriptionStyleModel",
      "state": {
       "description_width": ""
      }
     },
     "28813147ac1e411380244507607a75f2": {
      "model_module": "@jupyter-widgets/base",
      "model_module_version": "1.2.0",
      "model_name": "LayoutModel",
      "state": {}
     },
     "288696a035784586817926086502a4b6": {
      "model_module": "@jupyter-widgets/base",
      "model_module_version": "1.2.0",
      "model_name": "LayoutModel",
      "state": {}
     },
     "28f025f1f9714ed1a118c63c1a8c3465": {
      "model_module": "@jupyter-widgets/controls",
      "model_module_version": "1.5.0",
      "model_name": "HTMLModel",
      "state": {
       "layout": "IPY_MODEL_fa82083278c84cd891073593776ebb2b",
       "style": "IPY_MODEL_11912e7eef08466d85f8cd45f26aa19a",
       "value": "100%"
      }
     },
     "2925ccd32b0a4c6c92444c69760eb6d7": {
      "model_module": "@jupyter-widgets/base",
      "model_module_version": "1.2.0",
      "model_name": "LayoutModel",
      "state": {}
     },
     "2950db764ade458c95e17dc16f95bae3": {
      "model_module": "@jupyter-widgets/base",
      "model_module_version": "1.2.0",
      "model_name": "LayoutModel",
      "state": {}
     },
     "297bcd62c1484196bbb6e5d2a54f1ae3": {
      "model_module": "@jupyter-widgets/controls",
      "model_module_version": "1.5.0",
      "model_name": "ProgressStyleModel",
      "state": {
       "description_width": ""
      }
     },
     "29a5f23c23b14e21ad3747782d867e4c": {
      "model_module": "@jupyter-widgets/controls",
      "model_module_version": "1.5.0",
      "model_name": "DescriptionStyleModel",
      "state": {
       "description_width": ""
      }
     },
     "29a79e8c2242402aaa6de7cf4dbb784b": {
      "model_module": "@jupyter-widgets/base",
      "model_module_version": "1.2.0",
      "model_name": "LayoutModel",
      "state": {}
     },
     "29b4d0a2b982413591bab3993bdb9bc7": {
      "model_module": "@jupyter-widgets/controls",
      "model_module_version": "1.5.0",
      "model_name": "HBoxModel",
      "state": {
       "children": [
        "IPY_MODEL_3be59e1e52f349dba1349b168d75efd0",
        "IPY_MODEL_1f354f266eb0457b95a77d9d79292ced",
        "IPY_MODEL_08a469c7de074d2b8799ec3a49b50a75"
       ],
       "layout": "IPY_MODEL_f8d6af663f824a03a23c70b8b387d405"
      }
     },
     "29c3c5de76674a8db9571bc4d467072e": {
      "model_module": "@jupyter-widgets/base",
      "model_module_version": "1.2.0",
      "model_name": "LayoutModel",
      "state": {}
     },
     "2a2c9ad74fbd425daab1431f30eeb34c": {
      "model_module": "@jupyter-widgets/controls",
      "model_module_version": "1.5.0",
      "model_name": "HTMLModel",
      "state": {
       "layout": "IPY_MODEL_a20a05829b564c9da069284e941863d0",
       "style": "IPY_MODEL_382a12a1b2f043fc91f770f642de6195",
       "value": " 5/5 [00:05&lt;00:00,  1.18s/it]"
      }
     },
     "2a4cac573ddd4200a220b79f9cc640e6": {
      "model_module": "@jupyter-widgets/controls",
      "model_module_version": "1.5.0",
      "model_name": "ProgressStyleModel",
      "state": {
       "description_width": ""
      }
     },
     "2a55c682001745efb0a47b9a4134cdc4": {
      "model_module": "@jupyter-widgets/base",
      "model_module_version": "1.2.0",
      "model_name": "LayoutModel",
      "state": {}
     },
     "2a6b5691f88642849ed572e728a6c2cb": {
      "model_module": "@jupyter-widgets/controls",
      "model_module_version": "1.5.0",
      "model_name": "HTMLModel",
      "state": {
       "layout": "IPY_MODEL_d6a834d6e9dc44a3b231b356f723497c",
       "style": "IPY_MODEL_ab5e4edbb0e34b859b39f5cf4aa29578",
       "value": "100%"
      }
     },
     "2aa2f2b25a1849679cf55dcbb2956d57": {
      "model_module": "@jupyter-widgets/controls",
      "model_module_version": "1.5.0",
      "model_name": "ProgressStyleModel",
      "state": {
       "description_width": ""
      }
     },
     "2ab2a1467dd747d38f82eb5be8262441": {
      "model_module": "@jupyter-widgets/controls",
      "model_module_version": "1.5.0",
      "model_name": "HTMLModel",
      "state": {
       "layout": "IPY_MODEL_b927906f51024ffaab658d6cd0aa6026",
       "style": "IPY_MODEL_43287cb6037542b99a662c3610ea92c3",
       "value": " 5/5 [00:00&lt;00:00, 13.08it/s]"
      }
     },
     "2ab2a3a4914a4e06ba9f4acf2030aee3": {
      "model_module": "@jupyter-widgets/controls",
      "model_module_version": "1.5.0",
      "model_name": "FloatProgressModel",
      "state": {
       "bar_style": "success",
       "layout": "IPY_MODEL_e2b9ae99ef3f41678c0dc1eda35019f2",
       "max": 5,
       "style": "IPY_MODEL_24293c9899074d07ad872b97449af3b2",
       "value": 5
      }
     },
     "2aba6ecf32494229bebadbd24c9b372f": {
      "model_module": "@jupyter-widgets/base",
      "model_module_version": "1.2.0",
      "model_name": "LayoutModel",
      "state": {}
     },
     "2ad4c69d21a54ba98a7dcb00a4d4d7e0": {
      "model_module": "@jupyter-widgets/controls",
      "model_module_version": "1.5.0",
      "model_name": "DescriptionStyleModel",
      "state": {
       "description_width": ""
      }
     },
     "2afd348098e14feda6f9e21f148c9f3c": {
      "model_module": "@jupyter-widgets/controls",
      "model_module_version": "1.5.0",
      "model_name": "DescriptionStyleModel",
      "state": {
       "description_width": ""
      }
     },
     "2b1075db32334752bd890d711f52248b": {
      "model_module": "@jupyter-widgets/controls",
      "model_module_version": "1.5.0",
      "model_name": "HTMLModel",
      "state": {
       "layout": "IPY_MODEL_bb17f55962744374b1649412bf42874b",
       "style": "IPY_MODEL_1166adaeb6e64bd0b2c0561d33f56f35",
       "value": "100%"
      }
     },
     "2b2e77dfd7594b5da6e03cd7a7bac618": {
      "model_module": "@jupyter-widgets/controls",
      "model_module_version": "1.5.0",
      "model_name": "HTMLModel",
      "state": {
       "layout": "IPY_MODEL_c5d8e5e0273d40a392f3e7a7b680b41d",
       "style": "IPY_MODEL_678925c9f1984651b3375f47d762f6f7",
       "value": "100%"
      }
     },
     "2b5f82eba3e4446683ddfa62d6282802": {
      "model_module": "@jupyter-widgets/controls",
      "model_module_version": "1.5.0",
      "model_name": "FloatProgressModel",
      "state": {
       "bar_style": "success",
       "layout": "IPY_MODEL_6fde8e3deec849fdbdd04ee091befb99",
       "max": 5,
       "style": "IPY_MODEL_3dfd23c0f8cf41ed9e8669a6fb086cc5",
       "value": 5
      }
     },
     "2bc2a2710a984179a8230cfa5cffadf8": {
      "model_module": "@jupyter-widgets/controls",
      "model_module_version": "1.5.0",
      "model_name": "FloatProgressModel",
      "state": {
       "bar_style": "success",
       "layout": "IPY_MODEL_898ead2e8a3d4ee1a4182b419fad20ed",
       "max": 5,
       "style": "IPY_MODEL_314bd73984574336b494ff9d5be50b60",
       "value": 5
      }
     },
     "2bf9536c0ce243c59942fe730bda866c": {
      "model_module": "@jupyter-widgets/base",
      "model_module_version": "1.2.0",
      "model_name": "LayoutModel",
      "state": {}
     },
     "2c00999ef9f9471da2ac38f8ef086432": {
      "model_module": "@jupyter-widgets/controls",
      "model_module_version": "1.5.0",
      "model_name": "HTMLModel",
      "state": {
       "layout": "IPY_MODEL_67c1b4ec81ff44159c6d3841beb1df97",
       "style": "IPY_MODEL_8688417ca1e046209b06c116cffdabf6",
       "value": "100%"
      }
     },
     "2c224ecfba4a4afcb23ef8598b18c997": {
      "model_module": "@jupyter-widgets/base",
      "model_module_version": "1.2.0",
      "model_name": "LayoutModel",
      "state": {}
     },
     "2c310f6e52c44d0cb86e4c111ffb1de7": {
      "model_module": "@jupyter-widgets/controls",
      "model_module_version": "1.5.0",
      "model_name": "DescriptionStyleModel",
      "state": {
       "description_width": ""
      }
     },
     "2c5e07f56d5e486699590b3a671fda50": {
      "model_module": "@jupyter-widgets/base",
      "model_module_version": "1.2.0",
      "model_name": "LayoutModel",
      "state": {}
     },
     "2cce6a245aeb4868a18c02d7867dd7ff": {
      "model_module": "@jupyter-widgets/controls",
      "model_module_version": "1.5.0",
      "model_name": "HTMLModel",
      "state": {
       "layout": "IPY_MODEL_aed0a6a2a6b041bab40787ad74c01178",
       "style": "IPY_MODEL_8e648f38bfb343ff8014c64ef031506e",
       "value": "100%"
      }
     },
     "2cea7d9c1eab4de2a0963f98d952fb7e": {
      "model_module": "@jupyter-widgets/base",
      "model_module_version": "1.2.0",
      "model_name": "LayoutModel",
      "state": {}
     },
     "2d0886c3ff5c4846bcd64683f5aa0140": {
      "model_module": "@jupyter-widgets/controls",
      "model_module_version": "1.5.0",
      "model_name": "HTMLModel",
      "state": {
       "layout": "IPY_MODEL_43bc12433dd240449e3de1661d2f2d98",
       "style": "IPY_MODEL_f754a03ef8af4a40807399c09a9cff94",
       "value": "100%"
      }
     },
     "2d6a33e5c6074e769cbb485c38b30efe": {
      "model_module": "@jupyter-widgets/base",
      "model_module_version": "1.2.0",
      "model_name": "LayoutModel",
      "state": {}
     },
     "2da12d9601d543d4ae8693ad6e1b8013": {
      "model_module": "@jupyter-widgets/controls",
      "model_module_version": "1.5.0",
      "model_name": "ProgressStyleModel",
      "state": {
       "description_width": ""
      }
     },
     "2dcb2acc44484e24b291b61fe7eaa4fd": {
      "model_module": "@jupyter-widgets/base",
      "model_module_version": "1.2.0",
      "model_name": "LayoutModel",
      "state": {}
     },
     "2ddd38bf80fb4a779294b3ffe33e972b": {
      "model_module": "@jupyter-widgets/base",
      "model_module_version": "1.2.0",
      "model_name": "LayoutModel",
      "state": {}
     },
     "2e0fa0ff2de74b048d01738f849353f6": {
      "model_module": "@jupyter-widgets/controls",
      "model_module_version": "1.5.0",
      "model_name": "FloatProgressModel",
      "state": {
       "bar_style": "success",
       "layout": "IPY_MODEL_3f177627c03f42f8bcc6700f3478b381",
       "max": 5,
       "style": "IPY_MODEL_3f11d61b3cfd4bb68a5c5354c45b1b28",
       "value": 5
      }
     },
     "2e2053fccaab4f4dae2296f199a3a636": {
      "model_module": "@jupyter-widgets/controls",
      "model_module_version": "1.5.0",
      "model_name": "ProgressStyleModel",
      "state": {
       "description_width": ""
      }
     },
     "2e3e702787584627bc7eced88aa0aa50": {
      "model_module": "@jupyter-widgets/controls",
      "model_module_version": "1.5.0",
      "model_name": "HTMLModel",
      "state": {
       "layout": "IPY_MODEL_5d94f4b4daee44e3a57317289c3ff45f",
       "style": "IPY_MODEL_d4baecd35308474bb69b90b1db752e2b",
       "value": "100%"
      }
     },
     "2e3eca238db14f80b743a66a6a63a9b8": {
      "model_module": "@jupyter-widgets/controls",
      "model_module_version": "1.5.0",
      "model_name": "HBoxModel",
      "state": {
       "children": [
        "IPY_MODEL_a9ece978e7b940c4aed2ccc21ec7d3c5",
        "IPY_MODEL_d8b57f70e7dd4632afe572a6ae8892dc",
        "IPY_MODEL_5efc6e3d41c8409a88c88878471ad4c6"
       ],
       "layout": "IPY_MODEL_501034aa83da48acab6bad439f8e32a2"
      }
     },
     "2e40271436e1482ba9d956214f853f79": {
      "model_module": "@jupyter-widgets/base",
      "model_module_version": "1.2.0",
      "model_name": "LayoutModel",
      "state": {}
     },
     "2e519b12907b49f6b8821ddd68479d8c": {
      "model_module": "@jupyter-widgets/base",
      "model_module_version": "1.2.0",
      "model_name": "LayoutModel",
      "state": {}
     },
     "2e6aba9967a1428dbd507dd56cec8ff7": {
      "model_module": "@jupyter-widgets/controls",
      "model_module_version": "1.5.0",
      "model_name": "FloatProgressModel",
      "state": {
       "bar_style": "success",
       "layout": "IPY_MODEL_afdccf40c4c14fe09d1e3994d2d68902",
       "max": 5,
       "style": "IPY_MODEL_1c83f81aebf4447e9461b959999d0715",
       "value": 5
      }
     },
     "2e992cd0408045a183aa7f0960ffb600": {
      "model_module": "@jupyter-widgets/controls",
      "model_module_version": "1.5.0",
      "model_name": "FloatProgressModel",
      "state": {
       "bar_style": "success",
       "layout": "IPY_MODEL_629a35cc525746b897102a585ca7e4ac",
       "max": 5,
       "style": "IPY_MODEL_05ebded4adad447aac737e9cc4c2f489",
       "value": 5
      }
     },
     "2ea4369e8efe4740acfb18c10eafef5d": {
      "model_module": "@jupyter-widgets/base",
      "model_module_version": "1.2.0",
      "model_name": "LayoutModel",
      "state": {}
     },
     "2ec993b6501e4e0a8c7e43aadc57a102": {
      "model_module": "@jupyter-widgets/controls",
      "model_module_version": "1.5.0",
      "model_name": "HTMLModel",
      "state": {
       "layout": "IPY_MODEL_523f520c636c4edd803e174fdc757ac5",
       "style": "IPY_MODEL_0a3f043c52494d2e8fa1bc7ac82fc2ff",
       "value": " 5/5 [00:04&lt;00:00,  1.02it/s]"
      }
     },
     "2f00287377534290bdb1cc210457d511": {
      "model_module": "@jupyter-widgets/controls",
      "model_module_version": "1.5.0",
      "model_name": "HTMLModel",
      "state": {
       "layout": "IPY_MODEL_8c2870d3235b4cbeb9a8473bc3db57e3",
       "style": "IPY_MODEL_29a5f23c23b14e21ad3747782d867e4c",
       "value": "100%"
      }
     },
     "2f069d8ea8ea43cb99941b02bc720644": {
      "model_module": "@jupyter-widgets/base",
      "model_module_version": "1.2.0",
      "model_name": "LayoutModel",
      "state": {}
     },
     "2f23cb09a9ba466eb45f283569a2020b": {
      "model_module": "@jupyter-widgets/controls",
      "model_module_version": "1.5.0",
      "model_name": "HTMLModel",
      "state": {
       "layout": "IPY_MODEL_bdf5b79e41ad424386904d9275531aad",
       "style": "IPY_MODEL_8284a74d3e3447e882337a5422f969bd",
       "value": "100%"
      }
     },
     "2f27fbcc00c54717a465f3fe82091a90": {
      "model_module": "@jupyter-widgets/controls",
      "model_module_version": "1.5.0",
      "model_name": "HTMLModel",
      "state": {
       "layout": "IPY_MODEL_88460aaafcd443e3ab7d07a7a25b86f3",
       "style": "IPY_MODEL_34becb45dc864c2181d6c2926f021a68",
       "value": "100%"
      }
     },
     "2f2f9716ef8f4f42a04d2996853b261b": {
      "model_module": "@jupyter-widgets/controls",
      "model_module_version": "1.5.0",
      "model_name": "FloatProgressModel",
      "state": {
       "bar_style": "success",
       "layout": "IPY_MODEL_597084808fe14dc0b8ed27b9010df776",
       "max": 5,
       "style": "IPY_MODEL_ff965be747a14387b52f27ea6c34c159",
       "value": 5
      }
     },
     "2f6f51f3287c442cb703b09b2025ff42": {
      "model_module": "@jupyter-widgets/controls",
      "model_module_version": "1.5.0",
      "model_name": "HBoxModel",
      "state": {
       "children": [
        "IPY_MODEL_a2deb585f50f479eb4e8e3ad77ab261f",
        "IPY_MODEL_2e6aba9967a1428dbd507dd56cec8ff7",
        "IPY_MODEL_926642855f5d4f5894b649b46bf71289"
       ],
       "layout": "IPY_MODEL_643ad995330841a4a89be3e77ad1f4f7"
      }
     },
     "2f755b75250740f6997bd46dd1425a2a": {
      "model_module": "@jupyter-widgets/base",
      "model_module_version": "1.2.0",
      "model_name": "LayoutModel",
      "state": {}
     },
     "2f81d01c17a24246995931b6449d2682": {
      "model_module": "@jupyter-widgets/controls",
      "model_module_version": "1.5.0",
      "model_name": "FloatProgressModel",
      "state": {
       "bar_style": "success",
       "layout": "IPY_MODEL_2950db764ade458c95e17dc16f95bae3",
       "max": 5,
       "style": "IPY_MODEL_e165a3cb1755405bba53c12e314514d3",
       "value": 5
      }
     },
     "2fe84b2ca5204f5088996a194c8b9f28": {
      "model_module": "@jupyter-widgets/controls",
      "model_module_version": "1.5.0",
      "model_name": "HBoxModel",
      "state": {
       "children": [
        "IPY_MODEL_321b1bb995274a40a6aa9006d25f9e9d",
        "IPY_MODEL_91b2f82248084dfc92abf99e6c6e7e92",
        "IPY_MODEL_e38e1a03162f4f2eb3e81a3bff3a88fa"
       ],
       "layout": "IPY_MODEL_85c283aaca2a4a57a3efc4a1e4d34414"
      }
     },
     "3047e7aa816d4494ae0afb91dede3208": {
      "model_module": "@jupyter-widgets/base",
      "model_module_version": "1.2.0",
      "model_name": "LayoutModel",
      "state": {}
     },
     "307d0154d9dc4dc8b038a0995a1181ef": {
      "model_module": "@jupyter-widgets/controls",
      "model_module_version": "1.5.0",
      "model_name": "DescriptionStyleModel",
      "state": {
       "description_width": ""
      }
     },
     "30bc7cfc124c436789252ced6cc060a6": {
      "model_module": "@jupyter-widgets/controls",
      "model_module_version": "1.5.0",
      "model_name": "ProgressStyleModel",
      "state": {
       "description_width": ""
      }
     },
     "30dc3823f7264c55a197612ed99804c7": {
      "model_module": "@jupyter-widgets/base",
      "model_module_version": "1.2.0",
      "model_name": "LayoutModel",
      "state": {}
     },
     "30eceefdc2c846c090e82b005989b30c": {
      "model_module": "@jupyter-widgets/base",
      "model_module_version": "1.2.0",
      "model_name": "LayoutModel",
      "state": {}
     },
     "314bd73984574336b494ff9d5be50b60": {
      "model_module": "@jupyter-widgets/controls",
      "model_module_version": "1.5.0",
      "model_name": "ProgressStyleModel",
      "state": {
       "description_width": ""
      }
     },
     "321a1539e5b647a9a889702c6447f37b": {
      "model_module": "@jupyter-widgets/controls",
      "model_module_version": "1.5.0",
      "model_name": "HBoxModel",
      "state": {
       "children": [
        "IPY_MODEL_2b1075db32334752bd890d711f52248b",
        "IPY_MODEL_e2e0bd768ada4655894547b108bfe1d9",
        "IPY_MODEL_2ab2a1467dd747d38f82eb5be8262441"
       ],
       "layout": "IPY_MODEL_d387027e8913455db1c8a39ad4b06786"
      }
     },
     "321a55c8a0b944a09f2011fa39e06476": {
      "model_module": "@jupyter-widgets/controls",
      "model_module_version": "1.5.0",
      "model_name": "FloatProgressModel",
      "state": {
       "bar_style": "success",
       "layout": "IPY_MODEL_634be68983b44aeeac64d33b541478ca",
       "max": 5,
       "style": "IPY_MODEL_0c84321146be47cd890cab9d072a27c9",
       "value": 5
      }
     },
     "321b1bb995274a40a6aa9006d25f9e9d": {
      "model_module": "@jupyter-widgets/controls",
      "model_module_version": "1.5.0",
      "model_name": "HTMLModel",
      "state": {
       "layout": "IPY_MODEL_3279c0d9385d4047a98ad75d86e638b8",
       "style": "IPY_MODEL_340c1ef8cd3e47f09eae9dd8ea5137b5",
       "value": "100%"
      }
     },
     "323e215c011f49b8b1030405a0df816b": {
      "model_module": "@jupyter-widgets/base",
      "model_module_version": "1.2.0",
      "model_name": "LayoutModel",
      "state": {}
     },
     "32491b9c9a954e68b200bfbcb348f860": {
      "model_module": "@jupyter-widgets/controls",
      "model_module_version": "1.5.0",
      "model_name": "ProgressStyleModel",
      "state": {
       "description_width": ""
      }
     },
     "3279c0d9385d4047a98ad75d86e638b8": {
      "model_module": "@jupyter-widgets/base",
      "model_module_version": "1.2.0",
      "model_name": "LayoutModel",
      "state": {}
     },
     "3285cab6ea5e445da1684eff57755744": {
      "model_module": "@jupyter-widgets/controls",
      "model_module_version": "1.5.0",
      "model_name": "HTMLModel",
      "state": {
       "layout": "IPY_MODEL_cca4d8fb63784fdfae8c4ab7157e02ec",
       "style": "IPY_MODEL_42917b9bc47840c4819b5395a886bb97",
       "value": " 5/5 [12:40&lt;00:00, 152.12s/it]"
      }
     },
     "329f77d0c0e8499f9becfd093a3f662d": {
      "model_module": "@jupyter-widgets/base",
      "model_module_version": "1.2.0",
      "model_name": "LayoutModel",
      "state": {}
     },
     "32e5473a9c024c69a5ff7cb3fc08348c": {
      "model_module": "@jupyter-widgets/base",
      "model_module_version": "1.2.0",
      "model_name": "LayoutModel",
      "state": {}
     },
     "337c34e501f14f21a078ab80475f3103": {
      "model_module": "@jupyter-widgets/controls",
      "model_module_version": "1.5.0",
      "model_name": "ProgressStyleModel",
      "state": {
       "description_width": ""
      }
     },
     "338178bffcd342c5800e3c6ccffed19d": {
      "model_module": "@jupyter-widgets/controls",
      "model_module_version": "1.5.0",
      "model_name": "HTMLModel",
      "state": {
       "layout": "IPY_MODEL_0b0c18a83917485695a652dc31d86049",
       "style": "IPY_MODEL_805fe228cdfc4e66a155bfb46a592088",
       "value": "100%"
      }
     },
     "338d7d0943da447fb45810fb433b471a": {
      "model_module": "@jupyter-widgets/base",
      "model_module_version": "1.2.0",
      "model_name": "LayoutModel",
      "state": {}
     },
     "33a51a71bf224d0fb3adbc6181c00282": {
      "model_module": "@jupyter-widgets/controls",
      "model_module_version": "1.5.0",
      "model_name": "HTMLModel",
      "state": {
       "layout": "IPY_MODEL_ebc64d8fa9dc437dab9fdbe6ca82cd47",
       "style": "IPY_MODEL_f5c58357b7ef44a8ba7314894d6eb982",
       "value": " 5/5 [00:04&lt;00:00,  1.16it/s]"
      }
     },
     "33b8d5c28f184e8b95846046925316f9": {
      "model_module": "@jupyter-widgets/base",
      "model_module_version": "1.2.0",
      "model_name": "LayoutModel",
      "state": {}
     },
     "33c0b15ad0cd4bd4aa3f772469c9493e": {
      "model_module": "@jupyter-widgets/base",
      "model_module_version": "1.2.0",
      "model_name": "LayoutModel",
      "state": {}
     },
     "33ec37edead749ca86171e36cd4a2436": {
      "model_module": "@jupyter-widgets/controls",
      "model_module_version": "1.5.0",
      "model_name": "FloatProgressModel",
      "state": {
       "bar_style": "success",
       "layout": "IPY_MODEL_6f75c1c0ebbf4ee989beb1c4c754dd25",
       "max": 5,
       "style": "IPY_MODEL_b0c1bf3e0f6744a48f9ec7d72e618914",
       "value": 5
      }
     },
     "340014340b9246eca38f1b4c264903bc": {
      "model_module": "@jupyter-widgets/controls",
      "model_module_version": "1.5.0",
      "model_name": "DescriptionStyleModel",
      "state": {
       "description_width": ""
      }
     },
     "3403ae480d71481ba05257db35bf4ace": {
      "model_module": "@jupyter-widgets/base",
      "model_module_version": "1.2.0",
      "model_name": "LayoutModel",
      "state": {}
     },
     "340a9e0f52e64e86be3881a726d7ee09": {
      "model_module": "@jupyter-widgets/controls",
      "model_module_version": "1.5.0",
      "model_name": "DescriptionStyleModel",
      "state": {
       "description_width": ""
      }
     },
     "340c1ef8cd3e47f09eae9dd8ea5137b5": {
      "model_module": "@jupyter-widgets/controls",
      "model_module_version": "1.5.0",
      "model_name": "DescriptionStyleModel",
      "state": {
       "description_width": ""
      }
     },
     "34117e354c804b7197f126d1af08b597": {
      "model_module": "@jupyter-widgets/controls",
      "model_module_version": "1.5.0",
      "model_name": "HTMLModel",
      "state": {
       "layout": "IPY_MODEL_b7c7935164814d5384d99f6379e1a370",
       "style": "IPY_MODEL_547ef6aac4f24378a79c831799ce264b",
       "value": " 5/5 [13:22&lt;00:00, 159.35s/it]"
      }
     },
     "343036a399c545d185bf38423f9b5833": {
      "model_module": "@jupyter-widgets/controls",
      "model_module_version": "1.5.0",
      "model_name": "HTMLModel",
      "state": {
       "layout": "IPY_MODEL_d1f636753152402d9ff3daecaf88a46f",
       "style": "IPY_MODEL_492d01874e8141c7969751bc8bf7e286",
       "value": " 5/5 [10:57&lt;00:00, 131.70s/it]"
      }
     },
     "346f31158fe346458f5688c980e789b6": {
      "model_module": "@jupyter-widgets/base",
      "model_module_version": "1.2.0",
      "model_name": "LayoutModel",
      "state": {}
     },
     "3477722ec595476fad09e9e454bd4647": {
      "model_module": "@jupyter-widgets/controls",
      "model_module_version": "1.5.0",
      "model_name": "HTMLModel",
      "state": {
       "layout": "IPY_MODEL_30eceefdc2c846c090e82b005989b30c",
       "style": "IPY_MODEL_bee60d57d48a4dee93b4f064611aeb3b",
       "value": " 5/5 [00:00&lt;00:00, 13.43it/s]"
      }
     },
     "34becb45dc864c2181d6c2926f021a68": {
      "model_module": "@jupyter-widgets/controls",
      "model_module_version": "1.5.0",
      "model_name": "DescriptionStyleModel",
      "state": {
       "description_width": ""
      }
     },
     "34c8fbcca69447feaf3417c498b22d82": {
      "model_module": "@jupyter-widgets/base",
      "model_module_version": "1.2.0",
      "model_name": "LayoutModel",
      "state": {}
     },
     "350d75262d124426a1af064b69a05a04": {
      "model_module": "@jupyter-widgets/base",
      "model_module_version": "1.2.0",
      "model_name": "LayoutModel",
      "state": {}
     },
     "351560fb53a340259345e5baae4f6c6d": {
      "model_module": "@jupyter-widgets/base",
      "model_module_version": "1.2.0",
      "model_name": "LayoutModel",
      "state": {}
     },
     "3515feeed75441fa9635b979a4035402": {
      "model_module": "@jupyter-widgets/controls",
      "model_module_version": "1.5.0",
      "model_name": "HBoxModel",
      "state": {
       "children": [
        "IPY_MODEL_28f025f1f9714ed1a118c63c1a8c3465",
        "IPY_MODEL_df2cfe0e97b24b2cbebfadf3b2cb42f3",
        "IPY_MODEL_4f10b95650264975adf4aac9139f3aa5"
       ],
       "layout": "IPY_MODEL_e8408ef8af4048cab21201595ee19c5a"
      }
     },
     "35160a78440e40ef98a03b5fcfe5b04d": {
      "model_module": "@jupyter-widgets/controls",
      "model_module_version": "1.5.0",
      "model_name": "DescriptionStyleModel",
      "state": {
       "description_width": ""
      }
     },
     "3524076727564b16bf298e4c707a4bd2": {
      "model_module": "@jupyter-widgets/controls",
      "model_module_version": "1.5.0",
      "model_name": "ProgressStyleModel",
      "state": {
       "description_width": ""
      }
     },
     "3526d93ff6074cfeb7eb8cb068f38817": {
      "model_module": "@jupyter-widgets/controls",
      "model_module_version": "1.5.0",
      "model_name": "DescriptionStyleModel",
      "state": {
       "description_width": ""
      }
     },
     "35341f2fb2174b23b95015e0571b1748": {
      "model_module": "@jupyter-widgets/base",
      "model_module_version": "1.2.0",
      "model_name": "LayoutModel",
      "state": {}
     },
     "35a8d1323f5e4ef49f1637fc33d976e5": {
      "model_module": "@jupyter-widgets/controls",
      "model_module_version": "1.5.0",
      "model_name": "DescriptionStyleModel",
      "state": {
       "description_width": ""
      }
     },
     "361985c3940c4f82af76152e358dea33": {
      "model_module": "@jupyter-widgets/controls",
      "model_module_version": "1.5.0",
      "model_name": "HBoxModel",
      "state": {
       "children": [
        "IPY_MODEL_858ba27d9ecb406c8c40d849aff1e811",
        "IPY_MODEL_2ab2a3a4914a4e06ba9f4acf2030aee3",
        "IPY_MODEL_5143524921864a539c138c2461ce537a"
       ],
       "layout": "IPY_MODEL_4464cb7aa3f34cfcb5d5a8eed4f33c29"
      }
     },
     "362ac2b9fd9440fe91f347df8bdf5f74": {
      "model_module": "@jupyter-widgets/controls",
      "model_module_version": "1.5.0",
      "model_name": "HTMLModel",
      "state": {
       "layout": "IPY_MODEL_899f9f73e67b49a7a87134f75f782ffa",
       "style": "IPY_MODEL_efcb8339125047bfb9059e0d114fa43d",
       "value": " 5/5 [00:18&lt;00:00,  3.76s/it]"
      }
     },
     "3666029a111d4cdc9d61d42c70231cf8": {
      "model_module": "@jupyter-widgets/controls",
      "model_module_version": "1.5.0",
      "model_name": "DescriptionStyleModel",
      "state": {
       "description_width": ""
      }
     },
     "3678c7e4686f4f7981fae5eabaec980f": {
      "model_module": "@jupyter-widgets/base",
      "model_module_version": "1.2.0",
      "model_name": "LayoutModel",
      "state": {}
     },
     "369a4632794a49bcaafab1051d0dd4c8": {
      "model_module": "@jupyter-widgets/controls",
      "model_module_version": "1.5.0",
      "model_name": "FloatProgressModel",
      "state": {
       "bar_style": "success",
       "layout": "IPY_MODEL_f7eaa30bee684c3885bff11d61c7d6f4",
       "max": 5,
       "style": "IPY_MODEL_1bd12d02f954423bbd99a3bbdc93e151",
       "value": 5
      }
     },
     "36b398cfaa2c4aacaf6a48e3d542f225": {
      "model_module": "@jupyter-widgets/controls",
      "model_module_version": "1.5.0",
      "model_name": "ProgressStyleModel",
      "state": {
       "description_width": ""
      }
     },
     "36dad58f481e459c9f9c9dee07bbe54e": {
      "model_module": "@jupyter-widgets/base",
      "model_module_version": "1.2.0",
      "model_name": "LayoutModel",
      "state": {}
     },
     "36dc520fcc5d4693933e5f99ec0f08df": {
      "model_module": "@jupyter-widgets/base",
      "model_module_version": "1.2.0",
      "model_name": "LayoutModel",
      "state": {}
     },
     "36dc546941f94438ab6d76f13aaca351": {
      "model_module": "@jupyter-widgets/base",
      "model_module_version": "1.2.0",
      "model_name": "LayoutModel",
      "state": {}
     },
     "37324d8d52da47d58b09fa119c2cb2bf": {
      "model_module": "@jupyter-widgets/controls",
      "model_module_version": "1.5.0",
      "model_name": "DescriptionStyleModel",
      "state": {
       "description_width": ""
      }
     },
     "373802101bba4519a5cd7a7210e26c59": {
      "model_module": "@jupyter-widgets/controls",
      "model_module_version": "1.5.0",
      "model_name": "HTMLModel",
      "state": {
       "layout": "IPY_MODEL_3047e7aa816d4494ae0afb91dede3208",
       "style": "IPY_MODEL_1acda90f8fde4cd5a8f253b8ab2fb202",
       "value": "100%"
      }
     },
     "373bb56805bb4e5b87d3e50287aa63e5": {
      "model_module": "@jupyter-widgets/controls",
      "model_module_version": "1.5.0",
      "model_name": "DescriptionStyleModel",
      "state": {
       "description_width": ""
      }
     },
     "375b69e46af34fa9bd951827d47a76a6": {
      "model_module": "@jupyter-widgets/controls",
      "model_module_version": "1.5.0",
      "model_name": "HBoxModel",
      "state": {
       "children": [
        "IPY_MODEL_2f27fbcc00c54717a465f3fe82091a90",
        "IPY_MODEL_0f4a8c6311e045d19f3952bbce2204ae",
        "IPY_MODEL_9102768f83a1410cb1a4ddb19c5a0a75"
       ],
       "layout": "IPY_MODEL_27b112af78c94e65b938d3a5c26b680d"
      }
     },
     "377b0cb32d34418abea0b84b43e2f916": {
      "model_module": "@jupyter-widgets/controls",
      "model_module_version": "1.5.0",
      "model_name": "DescriptionStyleModel",
      "state": {
       "description_width": ""
      }
     },
     "3780f6cc7c1346339186c7f80d420f7c": {
      "model_module": "@jupyter-widgets/controls",
      "model_module_version": "1.5.0",
      "model_name": "HTMLModel",
      "state": {
       "layout": "IPY_MODEL_0534d27d87aa4049ad044cc41bc4c18b",
       "style": "IPY_MODEL_fa1675a937d04165a9739d0c8b3e4431",
       "value": " 5/5 [14:32&lt;00:00, 175.73s/it]"
      }
     },
     "37e65255bfb840278a783ff892a2afbf": {
      "model_module": "@jupyter-widgets/controls",
      "model_module_version": "1.5.0",
      "model_name": "ProgressStyleModel",
      "state": {
       "description_width": ""
      }
     },
     "37f01bb40fe84424abd93d15c3d57e91": {
      "model_module": "@jupyter-widgets/controls",
      "model_module_version": "1.5.0",
      "model_name": "HTMLModel",
      "state": {
       "layout": "IPY_MODEL_8aa50959c7c14a62b88cea1f7a582b2e",
       "style": "IPY_MODEL_8f2537ed213c4234979dba0e11533ec0",
       "value": " 5/5 [00:00&lt;00:00, 13.15it/s]"
      }
     },
     "382a12a1b2f043fc91f770f642de6195": {
      "model_module": "@jupyter-widgets/controls",
      "model_module_version": "1.5.0",
      "model_name": "DescriptionStyleModel",
      "state": {
       "description_width": ""
      }
     },
     "3831136d14db48d5b7ac3040c4b19ef9": {
      "model_module": "@jupyter-widgets/base",
      "model_module_version": "1.2.0",
      "model_name": "LayoutModel",
      "state": {}
     },
     "384cea6dbd384b64a4da066e6f1c7097": {
      "model_module": "@jupyter-widgets/controls",
      "model_module_version": "1.5.0",
      "model_name": "HTMLModel",
      "state": {
       "layout": "IPY_MODEL_c7879550cca841f595f57233e78178ab",
       "style": "IPY_MODEL_62d2e59b2c084ddb9a07687461b4c22e",
       "value": " 5/5 [00:14&lt;00:00,  2.86s/it]"
      }
     },
     "385949fa49c5472c9a9b44bc65a85a61": {
      "model_module": "@jupyter-widgets/controls",
      "model_module_version": "1.5.0",
      "model_name": "HBoxModel",
      "state": {
       "children": [
        "IPY_MODEL_cecfff730b8649b79ad897becba39010",
        "IPY_MODEL_761b5ccc157b44d29037eb8cbcd4f581",
        "IPY_MODEL_d40cbf55c58441b9895bdab4eda72a6d"
       ],
       "layout": "IPY_MODEL_ef78e5988da54ea8ba6301ff2ceb002c"
      }
     },
     "386596726a9442c391eea54b6c0f8145": {
      "model_module": "@jupyter-widgets/controls",
      "model_module_version": "1.5.0",
      "model_name": "HBoxModel",
      "state": {
       "children": [
        "IPY_MODEL_049549122228476aa2d5df81c79c34b4",
        "IPY_MODEL_c070bc3dd09049519edd1c080e2c7be5",
        "IPY_MODEL_ceb209d52a7f41459c8ed2db2fabdb0e"
       ],
       "layout": "IPY_MODEL_f822af2f773249e38e6db9a28dfb7c87"
      }
     },
     "3896a792931b42dc9742ebf9a15e3039": {
      "model_module": "@jupyter-widgets/controls",
      "model_module_version": "1.5.0",
      "model_name": "HBoxModel",
      "state": {
       "children": [
        "IPY_MODEL_429642a6f25e459d81e909c7df4efceb",
        "IPY_MODEL_9346e4b62ad849248e507233e9bf4fdc",
        "IPY_MODEL_d3b84dc240ee4de780d1cb2194c29f25"
       ],
       "layout": "IPY_MODEL_70af576eca9a4990a965f1616a10057e"
      }
     },
     "3897267b19444032beeb2013840390c0": {
      "model_module": "@jupyter-widgets/base",
      "model_module_version": "1.2.0",
      "model_name": "LayoutModel",
      "state": {}
     },
     "38988571b93341e78ac62db633ee224f": {
      "model_module": "@jupyter-widgets/controls",
      "model_module_version": "1.5.0",
      "model_name": "ProgressStyleModel",
      "state": {
       "description_width": ""
      }
     },
     "38bb0d80bedb44688196fc55acd1ba15": {
      "model_module": "@jupyter-widgets/controls",
      "model_module_version": "1.5.0",
      "model_name": "HTMLModel",
      "state": {
       "layout": "IPY_MODEL_790096b1985b4de0a1f212ffa2c5e72a",
       "style": "IPY_MODEL_92b05f3b4d3e4e7ca6f93072484b5820",
       "value": "100%"
      }
     },
     "38d01a142f5a4c699a1bf4ca518025e7": {
      "model_module": "@jupyter-widgets/base",
      "model_module_version": "1.2.0",
      "model_name": "LayoutModel",
      "state": {}
     },
     "39240854ed5247e6be6ee8a35331389b": {
      "model_module": "@jupyter-widgets/controls",
      "model_module_version": "1.5.0",
      "model_name": "DescriptionStyleModel",
      "state": {
       "description_width": ""
      }
     },
     "3930b5f0c9b347b8930f4181ebdf1ce2": {
      "model_module": "@jupyter-widgets/base",
      "model_module_version": "1.2.0",
      "model_name": "LayoutModel",
      "state": {}
     },
     "393f8d22a2ed4450a9d03bbf9c15503b": {
      "model_module": "@jupyter-widgets/controls",
      "model_module_version": "1.5.0",
      "model_name": "HBoxModel",
      "state": {
       "children": [
        "IPY_MODEL_57fb1822f6e047b08a16e4e3ea674c87",
        "IPY_MODEL_9bae78733d38460fba53271d06200d63",
        "IPY_MODEL_205cf4eb700b4e6492ac8966d576caff"
       ],
       "layout": "IPY_MODEL_ebaa65014eb8437e9c71945929b60c05"
      }
     },
     "3988f04a98c84b87ab19f877ea3dd1df": {
      "model_module": "@jupyter-widgets/controls",
      "model_module_version": "1.5.0",
      "model_name": "DescriptionStyleModel",
      "state": {
       "description_width": ""
      }
     },
     "3a321a7a163e4de5a289c3649dca27a1": {
      "model_module": "@jupyter-widgets/controls",
      "model_module_version": "1.5.0",
      "model_name": "HTMLModel",
      "state": {
       "layout": "IPY_MODEL_fc81c65a6800462fb3c9bcb028a12b8d",
       "style": "IPY_MODEL_51bcdb32410c40469597d6ba36304378",
       "value": "100%"
      }
     },
     "3a349ccc418b4eb78bd7c51cbfc7bad9": {
      "model_module": "@jupyter-widgets/base",
      "model_module_version": "1.2.0",
      "model_name": "LayoutModel",
      "state": {}
     },
     "3a3e5809d5c24df4809e2279188285d4": {
      "model_module": "@jupyter-widgets/controls",
      "model_module_version": "1.5.0",
      "model_name": "HTMLModel",
      "state": {
       "layout": "IPY_MODEL_b1266e231fe4434a89a0bb260e1b6282",
       "style": "IPY_MODEL_0e569993965b40cfb9856c70994cbd9f",
       "value": " 5/5 [00:00&lt;00:00, 11.33it/s]"
      }
     },
     "3a9ca27fbcc74fdbb54885654f65d59b": {
      "model_module": "@jupyter-widgets/controls",
      "model_module_version": "1.5.0",
      "model_name": "DescriptionStyleModel",
      "state": {
       "description_width": ""
      }
     },
     "3ae957b88e7b448abe357c59a99f4f2f": {
      "model_module": "@jupyter-widgets/controls",
      "model_module_version": "1.5.0",
      "model_name": "DescriptionStyleModel",
      "state": {
       "description_width": ""
      }
     },
     "3aec42a745f946f7a930a5ee02e7c437": {
      "model_module": "@jupyter-widgets/controls",
      "model_module_version": "1.5.0",
      "model_name": "HTMLModel",
      "state": {
       "layout": "IPY_MODEL_17c83b1bdc004f1abb8ea14c2fbcb759",
       "style": "IPY_MODEL_3988f04a98c84b87ab19f877ea3dd1df",
       "value": " 5/5 [14:23&lt;00:00, 175.09s/it]"
      }
     },
     "3b0d96f4034a40a5a246adb95fca0d0c": {
      "model_module": "@jupyter-widgets/controls",
      "model_module_version": "1.5.0",
      "model_name": "HBoxModel",
      "state": {
       "children": [
        "IPY_MODEL_eb10276e59cb4ed397f69860480e396a",
        "IPY_MODEL_c1c2b8ccc65b470a8dac6341bb2481ff",
        "IPY_MODEL_e2ad86f7233d4c4595d433f0ff6bc94e"
       ],
       "layout": "IPY_MODEL_3678c7e4686f4f7981fae5eabaec980f"
      }
     },
     "3b292c54d7fa400487599615972f726b": {
      "model_module": "@jupyter-widgets/controls",
      "model_module_version": "1.5.0",
      "model_name": "DescriptionStyleModel",
      "state": {
       "description_width": ""
      }
     },
     "3b86bf74b0a4407eb8e0ad84f343f090": {
      "model_module": "@jupyter-widgets/controls",
      "model_module_version": "1.5.0",
      "model_name": "ProgressStyleModel",
      "state": {
       "description_width": ""
      }
     },
     "3b8f84fcd28942f281ae96e2ea915b71": {
      "model_module": "@jupyter-widgets/base",
      "model_module_version": "1.2.0",
      "model_name": "LayoutModel",
      "state": {}
     },
     "3be59e1e52f349dba1349b168d75efd0": {
      "model_module": "@jupyter-widgets/controls",
      "model_module_version": "1.5.0",
      "model_name": "HTMLModel",
      "state": {
       "layout": "IPY_MODEL_c4d952069d3c4bd38783361427d32192",
       "style": "IPY_MODEL_5862f7b11bc44ddcb24e721d64e7149a",
       "value": "100%"
      }
     },
     "3c7e36eeeda44a2abd96c1a7caac37f7": {
      "model_module": "@jupyter-widgets/base",
      "model_module_version": "1.2.0",
      "model_name": "LayoutModel",
      "state": {}
     },
     "3ca2e2eafa7b4dbbaff116c0ae048f4c": {
      "model_module": "@jupyter-widgets/base",
      "model_module_version": "1.2.0",
      "model_name": "LayoutModel",
      "state": {}
     },
     "3caddafca0794ae0bc777a747597ab3b": {
      "model_module": "@jupyter-widgets/controls",
      "model_module_version": "1.5.0",
      "model_name": "ProgressStyleModel",
      "state": {
       "description_width": ""
      }
     },
     "3cef53753b3a4b028704d55980b2ad9c": {
      "model_module": "@jupyter-widgets/controls",
      "model_module_version": "1.5.0",
      "model_name": "DescriptionStyleModel",
      "state": {
       "description_width": ""
      }
     },
     "3d58dd5c472241bfa407f20f0541d8f6": {
      "model_module": "@jupyter-widgets/controls",
      "model_module_version": "1.5.0",
      "model_name": "DescriptionStyleModel",
      "state": {
       "description_width": ""
      }
     },
     "3df7f9352618499892e63458f4ef2bb5": {
      "model_module": "@jupyter-widgets/controls",
      "model_module_version": "1.5.0",
      "model_name": "HTMLModel",
      "state": {
       "layout": "IPY_MODEL_bdffed28ed434ce2a6872a4ece53ddba",
       "style": "IPY_MODEL_51b37507f0e1410b86c25da08fc3021a",
       "value": "100%"
      }
     },
     "3dfd23c0f8cf41ed9e8669a6fb086cc5": {
      "model_module": "@jupyter-widgets/controls",
      "model_module_version": "1.5.0",
      "model_name": "ProgressStyleModel",
      "state": {
       "description_width": ""
      }
     },
     "3e72c73ac98947f18a2bc5b40fd335e3": {
      "model_module": "@jupyter-widgets/controls",
      "model_module_version": "1.5.0",
      "model_name": "DescriptionStyleModel",
      "state": {
       "description_width": ""
      }
     },
     "3e83ad03eaec4004a7c692dee2531a19": {
      "model_module": "@jupyter-widgets/controls",
      "model_module_version": "1.5.0",
      "model_name": "HTMLModel",
      "state": {
       "layout": "IPY_MODEL_00c1efedfaa54bbfb1957d947e818976",
       "style": "IPY_MODEL_f832eda04c914eeeb2c0b9957033cf90",
       "value": " 5/5 [00:05&lt;00:00,  1.04s/it]"
      }
     },
     "3e8c077ac89146b2ac18b6710f75617d": {
      "model_module": "@jupyter-widgets/controls",
      "model_module_version": "1.5.0",
      "model_name": "FloatProgressModel",
      "state": {
       "bar_style": "success",
       "layout": "IPY_MODEL_2dcb2acc44484e24b291b61fe7eaa4fd",
       "max": 5,
       "style": "IPY_MODEL_b5ca0e960d054053a7eac5b4b1c9764f",
       "value": 5
      }
     },
     "3ea60b50eaf641279c22877dd0a99621": {
      "model_module": "@jupyter-widgets/base",
      "model_module_version": "1.2.0",
      "model_name": "LayoutModel",
      "state": {}
     },
     "3f11d61b3cfd4bb68a5c5354c45b1b28": {
      "model_module": "@jupyter-widgets/controls",
      "model_module_version": "1.5.0",
      "model_name": "ProgressStyleModel",
      "state": {
       "description_width": ""
      }
     },
     "3f177627c03f42f8bcc6700f3478b381": {
      "model_module": "@jupyter-widgets/base",
      "model_module_version": "1.2.0",
      "model_name": "LayoutModel",
      "state": {}
     },
     "3f30c111a9c443cbb0a040ab2c18fefe": {
      "model_module": "@jupyter-widgets/base",
      "model_module_version": "1.2.0",
      "model_name": "LayoutModel",
      "state": {}
     },
     "3f66f576626f491eaedcec6af757a072": {
      "model_module": "@jupyter-widgets/controls",
      "model_module_version": "1.5.0",
      "model_name": "FloatProgressModel",
      "state": {
       "bar_style": "success",
       "layout": "IPY_MODEL_2092e58fa5ef46bfacef9ba301ba7ac0",
       "max": 5,
       "style": "IPY_MODEL_c7454222c40b4656a15432374d21ca07",
       "value": 5
      }
     },
     "3fa650b1dd95484db85569d23abce0f7": {
      "model_module": "@jupyter-widgets/base",
      "model_module_version": "1.2.0",
      "model_name": "LayoutModel",
      "state": {}
     },
     "3fc38d76c63b4a73958195274a88140b": {
      "model_module": "@jupyter-widgets/base",
      "model_module_version": "1.2.0",
      "model_name": "LayoutModel",
      "state": {}
     },
     "40fe8cbad7e044d8ae6b9390f7ee7aec": {
      "model_module": "@jupyter-widgets/controls",
      "model_module_version": "1.5.0",
      "model_name": "HTMLModel",
      "state": {
       "layout": "IPY_MODEL_737be602eb5a470eafb2972cc5e961bd",
       "style": "IPY_MODEL_bd577f794d844e1f848896c7c689d6eb",
       "value": " 0/5 [00:00&lt;?, ?it/s]"
      }
     },
     "412c1b6aa6314b7fbdcecc2f8823d188": {
      "model_module": "@jupyter-widgets/controls",
      "model_module_version": "1.5.0",
      "model_name": "DescriptionStyleModel",
      "state": {
       "description_width": ""
      }
     },
     "41b1a3f1fc834f7e832b2024dd9f47d4": {
      "model_module": "@jupyter-widgets/controls",
      "model_module_version": "1.5.0",
      "model_name": "HTMLModel",
      "state": {
       "layout": "IPY_MODEL_891ce506cb1e46188517a2324ac0bc30",
       "style": "IPY_MODEL_f1a58b8aa61041daae293a8d3f373c18",
       "value": " 5/5 [13:20&lt;00:00, 159.67s/it]"
      }
     },
     "41b5e9e3622a4501b9ab454dfdb3766d": {
      "model_module": "@jupyter-widgets/controls",
      "model_module_version": "1.5.0",
      "model_name": "DescriptionStyleModel",
      "state": {
       "description_width": ""
      }
     },
     "41cf0b46429a43b1bdc06d5469d4a521": {
      "model_module": "@jupyter-widgets/controls",
      "model_module_version": "1.5.0",
      "model_name": "HTMLModel",
      "state": {
       "layout": "IPY_MODEL_2a55c682001745efb0a47b9a4134cdc4",
       "style": "IPY_MODEL_3b292c54d7fa400487599615972f726b",
       "value": "100%"
      }
     },
     "41d86ac0bad742c2b8ff902abc68b7d0": {
      "model_module": "@jupyter-widgets/controls",
      "model_module_version": "1.5.0",
      "model_name": "HTMLModel",
      "state": {
       "layout": "IPY_MODEL_f16786eaf5c6427180ea2a63e1680fc0",
       "style": "IPY_MODEL_8d447b3444ca4e7f9c3ca80d7337b7a0",
       "value": " 5/5 [00:05&lt;00:00,  1.16s/it]"
      }
     },
     "41e255c0923b4db09c4be6973710cbeb": {
      "model_module": "@jupyter-widgets/controls",
      "model_module_version": "1.5.0",
      "model_name": "DescriptionStyleModel",
      "state": {
       "description_width": ""
      }
     },
     "41f13d765c254e22b7871ca721b31867": {
      "model_module": "@jupyter-widgets/controls",
      "model_module_version": "1.5.0",
      "model_name": "DescriptionStyleModel",
      "state": {
       "description_width": ""
      }
     },
     "424da3d725cc4e30b4c2b06045242058": {
      "model_module": "@jupyter-widgets/base",
      "model_module_version": "1.2.0",
      "model_name": "LayoutModel",
      "state": {}
     },
     "425edef6f00045bfa08402af7d8c9bfc": {
      "model_module": "@jupyter-widgets/controls",
      "model_module_version": "1.5.0",
      "model_name": "FloatProgressModel",
      "state": {
       "bar_style": "success",
       "layout": "IPY_MODEL_0ce2b0956a8a453aaf14020c545216a0",
       "max": 5,
       "style": "IPY_MODEL_a0690abd5beb4231aa71017bbc0fdff5",
       "value": 5
      }
     },
     "427627643b2e46dc94732400b2cbfa3b": {
      "model_module": "@jupyter-widgets/base",
      "model_module_version": "1.2.0",
      "model_name": "LayoutModel",
      "state": {}
     },
     "42917b9bc47840c4819b5395a886bb97": {
      "model_module": "@jupyter-widgets/controls",
      "model_module_version": "1.5.0",
      "model_name": "DescriptionStyleModel",
      "state": {
       "description_width": ""
      }
     },
     "429642a6f25e459d81e909c7df4efceb": {
      "model_module": "@jupyter-widgets/controls",
      "model_module_version": "1.5.0",
      "model_name": "HTMLModel",
      "state": {
       "layout": "IPY_MODEL_351560fb53a340259345e5baae4f6c6d",
       "style": "IPY_MODEL_c44b37c3a2244a2b80b197c42da4ffd0",
       "value": " 60%"
      }
     },
     "431eb41110da4baf9bdc36900ddb6d14": {
      "model_module": "@jupyter-widgets/base",
      "model_module_version": "1.2.0",
      "model_name": "LayoutModel",
      "state": {}
     },
     "43287cb6037542b99a662c3610ea92c3": {
      "model_module": "@jupyter-widgets/controls",
      "model_module_version": "1.5.0",
      "model_name": "DescriptionStyleModel",
      "state": {
       "description_width": ""
      }
     },
     "4330592d5bca44449642506033d442b1": {
      "model_module": "@jupyter-widgets/controls",
      "model_module_version": "1.5.0",
      "model_name": "HTMLModel",
      "state": {
       "layout": "IPY_MODEL_2e519b12907b49f6b8821ddd68479d8c",
       "style": "IPY_MODEL_aead5a42e0774b72916b00ce450b3d9d",
       "value": "100%"
      }
     },
     "438e4ab7f55b406a96cbcbb4748bba51": {
      "model_module": "@jupyter-widgets/controls",
      "model_module_version": "1.5.0",
      "model_name": "DescriptionStyleModel",
      "state": {
       "description_width": ""
      }
     },
     "439de40f4f9c43be90eaea72a8bd0d2c": {
      "model_module": "@jupyter-widgets/controls",
      "model_module_version": "1.5.0",
      "model_name": "HTMLModel",
      "state": {
       "layout": "IPY_MODEL_7502be5d249a4508814840fe7f9d6261",
       "style": "IPY_MODEL_e07fed876d754a8e9c7f149193b0f11f",
       "value": " 5/5 [00:04&lt;00:00,  1.11it/s]"
      }
     },
     "43bc12433dd240449e3de1661d2f2d98": {
      "model_module": "@jupyter-widgets/base",
      "model_module_version": "1.2.0",
      "model_name": "LayoutModel",
      "state": {}
     },
     "43bd3b03bb3f431b810a6f378eecd1c8": {
      "model_module": "@jupyter-widgets/controls",
      "model_module_version": "1.5.0",
      "model_name": "DescriptionStyleModel",
      "state": {
       "description_width": ""
      }
     },
     "43ccc9d7e50c4844b0e9aece78aa9ec2": {
      "model_module": "@jupyter-widgets/controls",
      "model_module_version": "1.5.0",
      "model_name": "ProgressStyleModel",
      "state": {
       "description_width": ""
      }
     },
     "43e5d4cf2aab4ff8bb9c6663edc01ea3": {
      "model_module": "@jupyter-widgets/controls",
      "model_module_version": "1.5.0",
      "model_name": "HTMLModel",
      "state": {
       "layout": "IPY_MODEL_abff658ffec44ecbac15c8e1fec24fca",
       "style": "IPY_MODEL_8db8dcaad7c74b178d55dd2c6e319c58",
       "value": "100%"
      }
     },
     "43e5e200622b482bbeeb2729fcf80c65": {
      "model_module": "@jupyter-widgets/controls",
      "model_module_version": "1.5.0",
      "model_name": "HTMLModel",
      "state": {
       "layout": "IPY_MODEL_f969f72793f44dffa1231a490e9882bc",
       "style": "IPY_MODEL_823d9ebe711e4156a40018c4a1ed9dd4",
       "value": "100%"
      }
     },
     "4464cb7aa3f34cfcb5d5a8eed4f33c29": {
      "model_module": "@jupyter-widgets/base",
      "model_module_version": "1.2.0",
      "model_name": "LayoutModel",
      "state": {}
     },
     "449084d2414d4144ab475a226479f026": {
      "model_module": "@jupyter-widgets/base",
      "model_module_version": "1.2.0",
      "model_name": "LayoutModel",
      "state": {}
     },
     "44aa822ab9864483a4f0b3ba892e57a6": {
      "model_module": "@jupyter-widgets/controls",
      "model_module_version": "1.5.0",
      "model_name": "ProgressStyleModel",
      "state": {
       "description_width": ""
      }
     },
     "44b6b7fb9ad847c2a39e655929206e56": {
      "model_module": "@jupyter-widgets/base",
      "model_module_version": "1.2.0",
      "model_name": "LayoutModel",
      "state": {}
     },
     "44e738be8ab54166a27dc660f1e007fd": {
      "model_module": "@jupyter-widgets/controls",
      "model_module_version": "1.5.0",
      "model_name": "HTMLModel",
      "state": {
       "layout": "IPY_MODEL_2ddd38bf80fb4a779294b3ffe33e972b",
       "style": "IPY_MODEL_85cbf3b4db8743a390c6f5ed90dabf68",
       "value": " 5/5 [00:05&lt;00:00,  1.12s/it]"
      }
     },
     "4503c7de1d53493a9fc654fe3fb2b84e": {
      "model_module": "@jupyter-widgets/controls",
      "model_module_version": "1.5.0",
      "model_name": "HTMLModel",
      "state": {
       "layout": "IPY_MODEL_fadab9a4bc1b49528c9daae633ca0418",
       "style": "IPY_MODEL_e108676250f64576a1d02baf5c3c86e2",
       "value": "100%"
      }
     },
     "452beb0a863e4ed7b22da8d52298997f": {
      "model_module": "@jupyter-widgets/base",
      "model_module_version": "1.2.0",
      "model_name": "LayoutModel",
      "state": {}
     },
     "4574ec61ffe84df0bc33886ddd04fd9f": {
      "model_module": "@jupyter-widgets/controls",
      "model_module_version": "1.5.0",
      "model_name": "HTMLModel",
      "state": {
       "layout": "IPY_MODEL_f19c9245e44d4a42a8d9eccea057e4fb",
       "style": "IPY_MODEL_b2d1b86c8c7a419dae3b155cfc5127fb",
       "value": " 5/5 [27:24&lt;00:00, 327.99s/it]"
      }
     },
     "45aa8b2988b94728ac1cf7ebcbfbdf59": {
      "model_module": "@jupyter-widgets/controls",
      "model_module_version": "1.5.0",
      "model_name": "ProgressStyleModel",
      "state": {
       "description_width": ""
      }
     },
     "45d690aae2b34aedb75d8bd40e6a4281": {
      "model_module": "@jupyter-widgets/controls",
      "model_module_version": "1.5.0",
      "model_name": "FloatProgressModel",
      "state": {
       "bar_style": "success",
       "layout": "IPY_MODEL_0ce600b31f0f4cfda7fa559862be76c5",
       "max": 5,
       "style": "IPY_MODEL_6032b8fc37364f12acb81b05a3b1619d",
       "value": 5
      }
     },
     "45e4dae6416c4a0c9f1c767a9adbaa5e": {
      "model_module": "@jupyter-widgets/controls",
      "model_module_version": "1.5.0",
      "model_name": "FloatProgressModel",
      "state": {
       "bar_style": "success",
       "layout": "IPY_MODEL_cd53ad789a4a44eb99fc4c882a4e60ca",
       "max": 5,
       "style": "IPY_MODEL_ba156cb482a344f4866a253bb7996656",
       "value": 5
      }
     },
     "45eec7408bb244d790230e6bbf8ddb79": {
      "model_module": "@jupyter-widgets/controls",
      "model_module_version": "1.5.0",
      "model_name": "HTMLModel",
      "state": {
       "layout": "IPY_MODEL_f623d6d0216341b8a34ad72bd157eff3",
       "style": "IPY_MODEL_8e67c8a9ae994635b83a1a1c68369909",
       "value": "100%"
      }
     },
     "46364c7ec1ab4deca1d007f3ff30e545": {
      "model_module": "@jupyter-widgets/controls",
      "model_module_version": "1.5.0",
      "model_name": "HBoxModel",
      "state": {
       "children": [
        "IPY_MODEL_737a8f7985d541ef9de53cf7591b2890",
        "IPY_MODEL_ddb8d914c1f045a28054b0025140a4c7",
        "IPY_MODEL_4e84a39f7fbe415d95c80a109a8642c0"
       ],
       "layout": "IPY_MODEL_8e191a5a0c6f4625928a47e51ec52909"
      }
     },
     "4657519dcc1a4464bb6df78aa38c2179": {
      "model_module": "@jupyter-widgets/controls",
      "model_module_version": "1.5.0",
      "model_name": "DescriptionStyleModel",
      "state": {
       "description_width": ""
      }
     },
     "4660b052da99435ea2edd1e3c4779ee4": {
      "model_module": "@jupyter-widgets/base",
      "model_module_version": "1.2.0",
      "model_name": "LayoutModel",
      "state": {}
     },
     "46ba5824ac4c4dc9b7bec6f474a0d5c4": {
      "model_module": "@jupyter-widgets/controls",
      "model_module_version": "1.5.0",
      "model_name": "DescriptionStyleModel",
      "state": {
       "description_width": ""
      }
     },
     "46e71f2dad964d88a8fccdc24d62344a": {
      "model_module": "@jupyter-widgets/base",
      "model_module_version": "1.2.0",
      "model_name": "LayoutModel",
      "state": {}
     },
     "46f742cf5197464180c56cd4afe1dca9": {
      "model_module": "@jupyter-widgets/base",
      "model_module_version": "1.2.0",
      "model_name": "LayoutModel",
      "state": {}
     },
     "4724fa1a00154837b5243f28e8643389": {
      "model_module": "@jupyter-widgets/controls",
      "model_module_version": "1.5.0",
      "model_name": "DescriptionStyleModel",
      "state": {
       "description_width": ""
      }
     },
     "474682f883db4a268c370797c41f47f4": {
      "model_module": "@jupyter-widgets/controls",
      "model_module_version": "1.5.0",
      "model_name": "DescriptionStyleModel",
      "state": {
       "description_width": ""
      }
     },
     "478040cc6b97457ba70243096b97799a": {
      "model_module": "@jupyter-widgets/base",
      "model_module_version": "1.2.0",
      "model_name": "LayoutModel",
      "state": {}
     },
     "47bf1f6d49a94f9ca10e5ab1f0b96c28": {
      "model_module": "@jupyter-widgets/controls",
      "model_module_version": "1.5.0",
      "model_name": "ProgressStyleModel",
      "state": {
       "description_width": ""
      }
     },
     "47e889adf89e43a683465d24fdab160f": {
      "model_module": "@jupyter-widgets/controls",
      "model_module_version": "1.5.0",
      "model_name": "ProgressStyleModel",
      "state": {
       "description_width": ""
      }
     },
     "47eefa3b4c6a40febc44ef6f4d998318": {
      "model_module": "@jupyter-widgets/base",
      "model_module_version": "1.2.0",
      "model_name": "LayoutModel",
      "state": {}
     },
     "48089ff5d9e046298569159ecc9f0509": {
      "model_module": "@jupyter-widgets/controls",
      "model_module_version": "1.5.0",
      "model_name": "DescriptionStyleModel",
      "state": {
       "description_width": ""
      }
     },
     "4857015db0df4ef0b0022ff71a5323f5": {
      "model_module": "@jupyter-widgets/base",
      "model_module_version": "1.2.0",
      "model_name": "LayoutModel",
      "state": {}
     },
     "4874c5ba96fa41bcbc04bc2299db6fe6": {
      "model_module": "@jupyter-widgets/base",
      "model_module_version": "1.2.0",
      "model_name": "LayoutModel",
      "state": {}
     },
     "4891c0f7d3b548ae8a011fccd2aab8f2": {
      "model_module": "@jupyter-widgets/base",
      "model_module_version": "1.2.0",
      "model_name": "LayoutModel",
      "state": {}
     },
     "489b5f2186ad4f2fa160e3c667ec9dfc": {
      "model_module": "@jupyter-widgets/controls",
      "model_module_version": "1.5.0",
      "model_name": "HTMLModel",
      "state": {
       "layout": "IPY_MODEL_d595ad72bb504386ae248a92074b1fbb",
       "style": "IPY_MODEL_340014340b9246eca38f1b4c264903bc",
       "value": " 5/5 [00:04&lt;00:00,  1.07it/s]"
      }
     },
     "48a1cfb0859044ffba5958bb12bab1e2": {
      "model_module": "@jupyter-widgets/controls",
      "model_module_version": "1.5.0",
      "model_name": "DescriptionStyleModel",
      "state": {
       "description_width": ""
      }
     },
     "48b9422e95494358ad304d9d9bdf4988": {
      "model_module": "@jupyter-widgets/base",
      "model_module_version": "1.2.0",
      "model_name": "LayoutModel",
      "state": {}
     },
     "48d937405fba4315be1ee5b4613faa33": {
      "model_module": "@jupyter-widgets/base",
      "model_module_version": "1.2.0",
      "model_name": "LayoutModel",
      "state": {}
     },
     "48e5763aa1cd4165b8154e1ac28d5afe": {
      "model_module": "@jupyter-widgets/base",
      "model_module_version": "1.2.0",
      "model_name": "LayoutModel",
      "state": {}
     },
     "48f2a57a880440d0a2edebc2e78fd983": {
      "model_module": "@jupyter-widgets/base",
      "model_module_version": "1.2.0",
      "model_name": "LayoutModel",
      "state": {}
     },
     "490ab4ed6839418f9ac871469212ff14": {
      "model_module": "@jupyter-widgets/base",
      "model_module_version": "1.2.0",
      "model_name": "LayoutModel",
      "state": {}
     },
     "4924556cd098439781ff320da2de8ed9": {
      "model_module": "@jupyter-widgets/base",
      "model_module_version": "1.2.0",
      "model_name": "LayoutModel",
      "state": {}
     },
     "492d01874e8141c7969751bc8bf7e286": {
      "model_module": "@jupyter-widgets/controls",
      "model_module_version": "1.5.0",
      "model_name": "DescriptionStyleModel",
      "state": {
       "description_width": ""
      }
     },
     "498bcdd06f9a45c69d4a12b62a0da366": {
      "model_module": "@jupyter-widgets/base",
      "model_module_version": "1.2.0",
      "model_name": "LayoutModel",
      "state": {}
     },
     "4a0bf36d2a6e4da1beeb45ab79685e34": {
      "model_module": "@jupyter-widgets/base",
      "model_module_version": "1.2.0",
      "model_name": "LayoutModel",
      "state": {}
     },
     "4a83efe63cf347268d799cf6c154542b": {
      "model_module": "@jupyter-widgets/base",
      "model_module_version": "1.2.0",
      "model_name": "LayoutModel",
      "state": {}
     },
     "4a8cc83bfff745babe068a798a7b71e8": {
      "model_module": "@jupyter-widgets/controls",
      "model_module_version": "1.5.0",
      "model_name": "DescriptionStyleModel",
      "state": {
       "description_width": ""
      }
     },
     "4aec33ee754442e78a1f0ef5b7bbf571": {
      "model_module": "@jupyter-widgets/base",
      "model_module_version": "1.2.0",
      "model_name": "LayoutModel",
      "state": {}
     },
     "4afab328669f4450b1726f56b2152c04": {
      "model_module": "@jupyter-widgets/controls",
      "model_module_version": "1.5.0",
      "model_name": "FloatProgressModel",
      "state": {
       "bar_style": "success",
       "layout": "IPY_MODEL_b764785d5b4142e3be993205af920e44",
       "max": 5,
       "style": "IPY_MODEL_d0e6f3acd3c345d6bedb514b89248179",
       "value": 5
      }
     },
     "4b052e0d6bf04428aae2756c01ad5650": {
      "model_module": "@jupyter-widgets/controls",
      "model_module_version": "1.5.0",
      "model_name": "HTMLModel",
      "state": {
       "layout": "IPY_MODEL_76bc97439d2f4c65b87236d29c2c4d97",
       "style": "IPY_MODEL_a92ffe7eab0747a19e05bdb3e8e6fb7b",
       "value": " 5/5 [08:36&lt;00:00, 103.30s/it]"
      }
     },
     "4b60dad80d424e20b9e55e1b6bfda378": {
      "model_module": "@jupyter-widgets/controls",
      "model_module_version": "1.5.0",
      "model_name": "HBoxModel",
      "state": {
       "children": [
        "IPY_MODEL_a6cd03ee1fb74489b6b2a812251707a5",
        "IPY_MODEL_e99fc0ea420f4c5fa8102c6072e70019",
        "IPY_MODEL_a89449dd9efc4df0b81100f378d844a0"
       ],
       "layout": "IPY_MODEL_e62206e2c0be4865b4817d70ca86c3c1"
      }
     },
     "4b804c46c34a489dbc86ec53faf1c0c6": {
      "model_module": "@jupyter-widgets/controls",
      "model_module_version": "1.5.0",
      "model_name": "DescriptionStyleModel",
      "state": {
       "description_width": ""
      }
     },
     "4b93834268a8478b80c042b9f56315b8": {
      "model_module": "@jupyter-widgets/controls",
      "model_module_version": "1.5.0",
      "model_name": "HTMLModel",
      "state": {
       "layout": "IPY_MODEL_f8ada5910fad45f0af1182dbc15957d3",
       "style": "IPY_MODEL_e03522fe370d423badcdb5c17f85c692",
       "value": " 5/5 [00:05&lt;00:00,  1.16s/it]"
      }
     },
     "4bd2a7c3ace347d8877cfc33544de5be": {
      "model_module": "@jupyter-widgets/controls",
      "model_module_version": "1.5.0",
      "model_name": "HBoxModel",
      "state": {
       "children": [
        "IPY_MODEL_373802101bba4519a5cd7a7210e26c59",
        "IPY_MODEL_babe9a91009c4094a4f74fadda396a1a",
        "IPY_MODEL_ec4e1284c7844ba090b9af8b1f78c954"
       ],
       "layout": "IPY_MODEL_48e5763aa1cd4165b8154e1ac28d5afe"
      }
     },
     "4bd785af91c34bc58d77d819299530c5": {
      "model_module": "@jupyter-widgets/controls",
      "model_module_version": "1.5.0",
      "model_name": "FloatProgressModel",
      "state": {
       "bar_style": "success",
       "layout": "IPY_MODEL_175083ec7d7a404fa6ab3126e1d5a542",
       "max": 5,
       "style": "IPY_MODEL_def36e3ad93b4e69ad52589aa999ba38",
       "value": 5
      }
     },
     "4c7d62d569f141ddb0e5a1bbc939f223": {
      "model_module": "@jupyter-widgets/controls",
      "model_module_version": "1.5.0",
      "model_name": "FloatProgressModel",
      "state": {
       "bar_style": "success",
       "layout": "IPY_MODEL_a8d2c2da8ac34295bc50d827a98b6599",
       "max": 5,
       "style": "IPY_MODEL_b0da80ea74734da9bdd60e84bfc95fc0",
       "value": 5
      }
     },
     "4cbd87744b4f495ab07c888f342605f6": {
      "model_module": "@jupyter-widgets/base",
      "model_module_version": "1.2.0",
      "model_name": "LayoutModel",
      "state": {}
     },
     "4d023525c178493f8db80552963c9e00": {
      "model_module": "@jupyter-widgets/controls",
      "model_module_version": "1.5.0",
      "model_name": "HBoxModel",
      "state": {
       "children": [
        "IPY_MODEL_53ed598cfa2b42bd93df7c248082fb06",
        "IPY_MODEL_dfa0eae566654806881a333c25ad04f4",
        "IPY_MODEL_573fc4ac6c0c469d8099618980be6d1a"
       ],
       "layout": "IPY_MODEL_490ab4ed6839418f9ac871469212ff14"
      }
     },
     "4d1601f28c2e4eea8285194e172a40a1": {
      "model_module": "@jupyter-widgets/base",
      "model_module_version": "1.2.0",
      "model_name": "LayoutModel",
      "state": {}
     },
     "4d67455dcadd4382a99c172bab9ca897": {
      "model_module": "@jupyter-widgets/controls",
      "model_module_version": "1.5.0",
      "model_name": "DescriptionStyleModel",
      "state": {
       "description_width": ""
      }
     },
     "4d72c84e638440c39a722a6b5f1a3cba": {
      "model_module": "@jupyter-widgets/base",
      "model_module_version": "1.2.0",
      "model_name": "LayoutModel",
      "state": {}
     },
     "4dc36bff3e4f451ead692b4307158fb9": {
      "model_module": "@jupyter-widgets/controls",
      "model_module_version": "1.5.0",
      "model_name": "ProgressStyleModel",
      "state": {
       "description_width": ""
      }
     },
     "4df3b4d05bf74346ba578d12c42f8936": {
      "model_module": "@jupyter-widgets/base",
      "model_module_version": "1.2.0",
      "model_name": "LayoutModel",
      "state": {}
     },
     "4e266ad689fe476dbd616078ad0e6aa4": {
      "model_module": "@jupyter-widgets/controls",
      "model_module_version": "1.5.0",
      "model_name": "HTMLModel",
      "state": {
       "layout": "IPY_MODEL_c05e27e7b7744d9db2be2028757f05b9",
       "style": "IPY_MODEL_1b95fd8865214c55ae5037c57d535929",
       "value": "100%"
      }
     },
     "4e3f795c29ac4b77a3bb6c3a62d9bf75": {
      "model_module": "@jupyter-widgets/controls",
      "model_module_version": "1.5.0",
      "model_name": "HBoxModel",
      "state": {
       "children": [
        "IPY_MODEL_872fbb423b664c58aa2c27142bdb487f",
        "IPY_MODEL_19a68354d096493c9e2fa8458e0a2a5e",
        "IPY_MODEL_d447204600694244bae80850db7ef6ff"
       ],
       "layout": "IPY_MODEL_f282d9af4b8c423baca66ae39023a6a5"
      }
     },
     "4e61eac2ceaf4f9b9b391207d32454e8": {
      "model_module": "@jupyter-widgets/controls",
      "model_module_version": "1.5.0",
      "model_name": "HTMLModel",
      "state": {
       "layout": "IPY_MODEL_b1b95ee3bb5247e389ab714ff3aa0e17",
       "style": "IPY_MODEL_7bf760bc517040a9beadd38b32c543b3",
       "value": " 5/5 [04:12&lt;00:00, 50.50s/it]"
      }
     },
     "4e84a39f7fbe415d95c80a109a8642c0": {
      "model_module": "@jupyter-widgets/controls",
      "model_module_version": "1.5.0",
      "model_name": "HTMLModel",
      "state": {
       "layout": "IPY_MODEL_5e73b9f43b0b41539c36ae196284810a",
       "style": "IPY_MODEL_fee0e89774fb45019e131a64b8740361",
       "value": " 5/5 [00:13&lt;00:00,  2.76s/it]"
      }
     },
     "4e934c6a97e348cf993aad808bb974cc": {
      "model_module": "@jupyter-widgets/controls",
      "model_module_version": "1.5.0",
      "model_name": "DescriptionStyleModel",
      "state": {
       "description_width": ""
      }
     },
     "4eb6eb0b76164e8499c268904b8ab2eb": {
      "model_module": "@jupyter-widgets/base",
      "model_module_version": "1.2.0",
      "model_name": "LayoutModel",
      "state": {}
     },
     "4ebecb40ccbf455dbb7de51e754d149a": {
      "model_module": "@jupyter-widgets/controls",
      "model_module_version": "1.5.0",
      "model_name": "HTMLModel",
      "state": {
       "layout": "IPY_MODEL_688eb8a2a6854c7dadea9444f95f50ef",
       "style": "IPY_MODEL_8f990f83875946848db4948b434b43b2",
       "value": " 5/5 [00:00&lt;00:00, 27.08it/s]"
      }
     },
     "4ec03233d2324fcfa2b0dab0adf08fb3": {
      "model_module": "@jupyter-widgets/controls",
      "model_module_version": "1.5.0",
      "model_name": "DescriptionStyleModel",
      "state": {
       "description_width": ""
      }
     },
     "4f10b95650264975adf4aac9139f3aa5": {
      "model_module": "@jupyter-widgets/controls",
      "model_module_version": "1.5.0",
      "model_name": "HTMLModel",
      "state": {
       "layout": "IPY_MODEL_87782863130645cca1a745417e050e76",
       "style": "IPY_MODEL_9f7aa613bd1a4ef9b7543b7a29db5eca",
       "value": " 5/5 [00:05&lt;00:00,  1.10s/it]"
      }
     },
     "4f45d3b39eb64063a8b24e77a9fb90b2": {
      "model_module": "@jupyter-widgets/base",
      "model_module_version": "1.2.0",
      "model_name": "LayoutModel",
      "state": {}
     },
     "4f56f958afe24459baf218320c9e0530": {
      "model_module": "@jupyter-widgets/controls",
      "model_module_version": "1.5.0",
      "model_name": "DescriptionStyleModel",
      "state": {
       "description_width": ""
      }
     },
     "4fa44544ec8a41779163bb6d4dd3518b": {
      "model_module": "@jupyter-widgets/base",
      "model_module_version": "1.2.0",
      "model_name": "LayoutModel",
      "state": {}
     },
     "4fb2ab45d69d4d72b95c126f3acc652c": {
      "model_module": "@jupyter-widgets/base",
      "model_module_version": "1.2.0",
      "model_name": "LayoutModel",
      "state": {}
     },
     "4fedacf05c8d4a64b0fe03721f5c1c44": {
      "model_module": "@jupyter-widgets/controls",
      "model_module_version": "1.5.0",
      "model_name": "FloatProgressModel",
      "state": {
       "bar_style": "success",
       "layout": "IPY_MODEL_10a2afa8850c47e18ce33ab87c2ec591",
       "max": 5,
       "style": "IPY_MODEL_2e2053fccaab4f4dae2296f199a3a636",
       "value": 5
      }
     },
     "501034aa83da48acab6bad439f8e32a2": {
      "model_module": "@jupyter-widgets/base",
      "model_module_version": "1.2.0",
      "model_name": "LayoutModel",
      "state": {}
     },
     "5085f72d33f14b8588c0ffc693f584c4": {
      "model_module": "@jupyter-widgets/base",
      "model_module_version": "1.2.0",
      "model_name": "LayoutModel",
      "state": {}
     },
     "50d7658196a342d7a9eba0e4736cf53c": {
      "model_module": "@jupyter-widgets/controls",
      "model_module_version": "1.5.0",
      "model_name": "HBoxModel",
      "state": {
       "children": [
        "IPY_MODEL_c9a1ceea8a6643099bee05d8f5a7e47a",
        "IPY_MODEL_77300182e4de472184d6489f694dc237",
        "IPY_MODEL_54af3c41258645ba9003f4404d28c639"
       ],
       "layout": "IPY_MODEL_21724994a8514f43bb8feb5cdb57281a"
      }
     },
     "50e95109f1d648f490cef3fc6ecf4519": {
      "model_module": "@jupyter-widgets/controls",
      "model_module_version": "1.5.0",
      "model_name": "HTMLModel",
      "state": {
       "layout": "IPY_MODEL_dec4d61450d740e5b1e8d92485ee668f",
       "style": "IPY_MODEL_35a8d1323f5e4ef49f1637fc33d976e5",
       "value": "100%"
      }
     },
     "50e9834169ce414cb62cf3898e212024": {
      "model_module": "@jupyter-widgets/controls",
      "model_module_version": "1.5.0",
      "model_name": "HBoxModel",
      "state": {
       "children": [
        "IPY_MODEL_effab73cdfd14627b134d81d3d8c2c37",
        "IPY_MODEL_98cf5e8f477f4837819d0a6213f58ee0",
        "IPY_MODEL_e31cc6cab57a48448a50e0d0538b8811"
       ],
       "layout": "IPY_MODEL_800489897d3444918afc9896cb5686e9"
      }
     },
     "50f79227713f48f0aa21b8b893f8d637": {
      "model_module": "@jupyter-widgets/controls",
      "model_module_version": "1.5.0",
      "model_name": "FloatProgressModel",
      "state": {
       "bar_style": "success",
       "layout": "IPY_MODEL_a82964ad2651478899d91734d01a3b4d",
       "max": 5,
       "style": "IPY_MODEL_0b57eb4c1b604bfc99427b90bd6fc74e",
       "value": 5
      }
     },
     "5143524921864a539c138c2461ce537a": {
      "model_module": "@jupyter-widgets/controls",
      "model_module_version": "1.5.0",
      "model_name": "HTMLModel",
      "state": {
       "layout": "IPY_MODEL_70c06a7292c64517a977ee8620649eae",
       "style": "IPY_MODEL_9d530d085b534ec39c8828a33c84205d",
       "value": " 5/5 [13:13&lt;00:00, 158.24s/it]"
      }
     },
     "5164d28fa2474ecfabfb04f6422653fd": {
      "model_module": "@jupyter-widgets/controls",
      "model_module_version": "1.5.0",
      "model_name": "FloatProgressModel",
      "state": {
       "bar_style": "success",
       "layout": "IPY_MODEL_3b8f84fcd28942f281ae96e2ea915b71",
       "max": 5,
       "style": "IPY_MODEL_9fc9cda101b543be973b53ff27128f9b",
       "value": 5
      }
     },
     "51b37507f0e1410b86c25da08fc3021a": {
      "model_module": "@jupyter-widgets/controls",
      "model_module_version": "1.5.0",
      "model_name": "DescriptionStyleModel",
      "state": {
       "description_width": ""
      }
     },
     "51b88a0e9c0246eca120e219f9d3b921": {
      "model_module": "@jupyter-widgets/base",
      "model_module_version": "1.2.0",
      "model_name": "LayoutModel",
      "state": {}
     },
     "51bcdb32410c40469597d6ba36304378": {
      "model_module": "@jupyter-widgets/controls",
      "model_module_version": "1.5.0",
      "model_name": "DescriptionStyleModel",
      "state": {
       "description_width": ""
      }
     },
     "51f07b1a7f5348f58e35feab75f5c1a1": {
      "model_module": "@jupyter-widgets/controls",
      "model_module_version": "1.5.0",
      "model_name": "FloatProgressModel",
      "state": {
       "bar_style": "success",
       "layout": "IPY_MODEL_3f30c111a9c443cbb0a040ab2c18fefe",
       "max": 5,
       "style": "IPY_MODEL_0dcd529c9dd443d6a385e2f3df1e1899",
       "value": 5
      }
     },
     "52028b1518f443bda40e1d00828cd0ab": {
      "model_module": "@jupyter-widgets/base",
      "model_module_version": "1.2.0",
      "model_name": "LayoutModel",
      "state": {}
     },
     "5217d26bc40f4c33b3537268a96042f8": {
      "model_module": "@jupyter-widgets/controls",
      "model_module_version": "1.5.0",
      "model_name": "HTMLModel",
      "state": {
       "layout": "IPY_MODEL_0b2969d185a3435fb8826daeb2db1ecc",
       "style": "IPY_MODEL_18e7d4dcfaaf4e6c81c9798e54214ab4",
       "value": "100%"
      }
     },
     "52341c8513e242159a6315c853a8851b": {
      "model_module": "@jupyter-widgets/base",
      "model_module_version": "1.2.0",
      "model_name": "LayoutModel",
      "state": {}
     },
     "523f520c636c4edd803e174fdc757ac5": {
      "model_module": "@jupyter-widgets/base",
      "model_module_version": "1.2.0",
      "model_name": "LayoutModel",
      "state": {}
     },
     "526aa1afc7e04f54b23d3f26bb296c0a": {
      "model_module": "@jupyter-widgets/base",
      "model_module_version": "1.2.0",
      "model_name": "LayoutModel",
      "state": {}
     },
     "52734ae0dc8d47a69cefc7f0923acb85": {
      "model_module": "@jupyter-widgets/controls",
      "model_module_version": "1.5.0",
      "model_name": "DescriptionStyleModel",
      "state": {
       "description_width": ""
      }
     },
     "529e9d14d6d54f1c904a2f7c82f47987": {
      "model_module": "@jupyter-widgets/controls",
      "model_module_version": "1.5.0",
      "model_name": "DescriptionStyleModel",
      "state": {
       "description_width": ""
      }
     },
     "52f9eb39da64423c9d90c2069bc44a8f": {
      "model_module": "@jupyter-widgets/controls",
      "model_module_version": "1.5.0",
      "model_name": "HTMLModel",
      "state": {
       "layout": "IPY_MODEL_f73c50ff6d3c46d99f3f8b30e5ca2a97",
       "style": "IPY_MODEL_94bfd3a1b3c04c4ebeae25892e8c1ff8",
       "value": " 5/5 [00:00&lt;00:00, 11.28it/s]"
      }
     },
     "5345cbbb73e54891bad18703668078dd": {
      "model_module": "@jupyter-widgets/controls",
      "model_module_version": "1.5.0",
      "model_name": "HBoxModel",
      "state": {
       "children": [
        "IPY_MODEL_ee7248268b1a44238068b8303a072d27",
        "IPY_MODEL_dd353f9ecaa24c36a8e892d9dc6f92fa",
        "IPY_MODEL_33a51a71bf224d0fb3adbc6181c00282"
       ],
       "layout": "IPY_MODEL_d81e149e33f1418b84f8e154415c770f"
      }
     },
     "53b95260a5a24d749f5253242b3c1441": {
      "model_module": "@jupyter-widgets/controls",
      "model_module_version": "1.5.0",
      "model_name": "ProgressStyleModel",
      "state": {
       "description_width": ""
      }
     },
     "53ed598cfa2b42bd93df7c248082fb06": {
      "model_module": "@jupyter-widgets/controls",
      "model_module_version": "1.5.0",
      "model_name": "HTMLModel",
      "state": {
       "layout": "IPY_MODEL_f3d5b199f0ed4b53b5fca0871f57dc56",
       "style": "IPY_MODEL_602433a9fb0745b0a252ae09b8ab4667",
       "value": "100%"
      }
     },
     "541d309ca7fb458384e358500a9f48ca": {
      "model_module": "@jupyter-widgets/base",
      "model_module_version": "1.2.0",
      "model_name": "LayoutModel",
      "state": {}
     },
     "5458f9bf7c254ec9b6280722b322aa1c": {
      "model_module": "@jupyter-widgets/base",
      "model_module_version": "1.2.0",
      "model_name": "LayoutModel",
      "state": {}
     },
     "547ef6aac4f24378a79c831799ce264b": {
      "model_module": "@jupyter-widgets/controls",
      "model_module_version": "1.5.0",
      "model_name": "DescriptionStyleModel",
      "state": {
       "description_width": ""
      }
     },
     "548fe932e846443b977f7815f65a3d9d": {
      "model_module": "@jupyter-widgets/controls",
      "model_module_version": "1.5.0",
      "model_name": "DescriptionStyleModel",
      "state": {
       "description_width": ""
      }
     },
     "54af3c41258645ba9003f4404d28c639": {
      "model_module": "@jupyter-widgets/controls",
      "model_module_version": "1.5.0",
      "model_name": "HTMLModel",
      "state": {
       "layout": "IPY_MODEL_6f7107f1a18346148e86537c571a2bdc",
       "style": "IPY_MODEL_e6f48a1f6f27451ebbd7405fcc4d7c74",
       "value": " 5/5 [00:00&lt;00:00, 33.06it/s]"
      }
     },
     "54b504fec8e64ab9be8e86ec3bdfff84": {
      "model_module": "@jupyter-widgets/controls",
      "model_module_version": "1.5.0",
      "model_name": "HTMLModel",
      "state": {
       "layout": "IPY_MODEL_5d905ce7cfb4419892c87bf2404de847",
       "style": "IPY_MODEL_efdee99fc6894039ab8d77a1c1d63e46",
       "value": "100%"
      }
     },
     "54d07cafbd8e44a687c65da067d28d18": {
      "model_module": "@jupyter-widgets/base",
      "model_module_version": "1.2.0",
      "model_name": "LayoutModel",
      "state": {}
     },
     "54e65de09205426885fb6161ae4f4b78": {
      "model_module": "@jupyter-widgets/base",
      "model_module_version": "1.2.0",
      "model_name": "LayoutModel",
      "state": {}
     },
     "54ee979ac7844a5ba29b82cafd87008b": {
      "model_module": "@jupyter-widgets/controls",
      "model_module_version": "1.5.0",
      "model_name": "FloatProgressModel",
      "state": {
       "bar_style": "success",
       "layout": "IPY_MODEL_c309f11e9e994df3b0298901d2f36e1c",
       "max": 5,
       "style": "IPY_MODEL_251f9920c77448939e1ca11645134ff7",
       "value": 5
      }
     },
     "55214528b8aa4825bed88dbeea943cfe": {
      "model_module": "@jupyter-widgets/controls",
      "model_module_version": "1.5.0",
      "model_name": "DescriptionStyleModel",
      "state": {
       "description_width": ""
      }
     },
     "5527a41c48ac4b39b3dcf29f50a4c8d0": {
      "model_module": "@jupyter-widgets/base",
      "model_module_version": "1.2.0",
      "model_name": "LayoutModel",
      "state": {}
     },
     "55420b3327b44622ae4c49eae8b2fe5d": {
      "model_module": "@jupyter-widgets/base",
      "model_module_version": "1.2.0",
      "model_name": "LayoutModel",
      "state": {}
     },
     "555b4e08e0df47a3b85552038b97c713": {
      "model_module": "@jupyter-widgets/base",
      "model_module_version": "1.2.0",
      "model_name": "LayoutModel",
      "state": {}
     },
     "557ea57c52fa48469ec4fb339022f8b3": {
      "model_module": "@jupyter-widgets/controls",
      "model_module_version": "1.5.0",
      "model_name": "HBoxModel",
      "state": {
       "children": [
        "IPY_MODEL_a090f56a49ba47e1b5ef819b4b2e0830",
        "IPY_MODEL_0a62b056b8ba44708651d5c08be9dcc4",
        "IPY_MODEL_fc0761fb0c6d4847910cd4ce03fe2120"
       ],
       "layout": "IPY_MODEL_140d71e53dbf429ea46dc73bdeb63f07"
      }
     },
     "558db3f2f6ff4fa9b56603bb9cee9726": {
      "model_module": "@jupyter-widgets/controls",
      "model_module_version": "1.5.0",
      "model_name": "DescriptionStyleModel",
      "state": {
       "description_width": ""
      }
     },
     "55b02b3530464dc1a3b8bc2278148ba5": {
      "model_module": "@jupyter-widgets/base",
      "model_module_version": "1.2.0",
      "model_name": "LayoutModel",
      "state": {}
     },
     "55e6aaa02bf240fd897cd93bbd3e3e23": {
      "model_module": "@jupyter-widgets/controls",
      "model_module_version": "1.5.0",
      "model_name": "FloatProgressModel",
      "state": {
       "bar_style": "success",
       "layout": "IPY_MODEL_9939502ec72641ada7b0d1bdf2a3247b",
       "max": 5,
       "style": "IPY_MODEL_182725cfe56c46e480d4c1d3db38f054",
       "value": 5
      }
     },
     "565a8971fc544c74ac69dca3575be08f": {
      "model_module": "@jupyter-widgets/controls",
      "model_module_version": "1.5.0",
      "model_name": "HTMLModel",
      "state": {
       "layout": "IPY_MODEL_99c3a073ea1541fdb85da62a81cd2a86",
       "style": "IPY_MODEL_089b4800faf74815a31afd4db80ca698",
       "value": "100%"
      }
     },
     "5665b5741e5a45bbbbc0510c8133e0ac": {
      "model_module": "@jupyter-widgets/base",
      "model_module_version": "1.2.0",
      "model_name": "LayoutModel",
      "state": {}
     },
     "568cfbfe8c244869942bcb847376a217": {
      "model_module": "@jupyter-widgets/base",
      "model_module_version": "1.2.0",
      "model_name": "LayoutModel",
      "state": {}
     },
     "569fc63b8ecc4ef4b9819bb73644af04": {
      "model_module": "@jupyter-widgets/controls",
      "model_module_version": "1.5.0",
      "model_name": "HBoxModel",
      "state": {
       "children": [
        "IPY_MODEL_726fb5c78d72421b865dd5c5b7609708",
        "IPY_MODEL_c38c40e4792b4f3cb816ee0b88980f31",
        "IPY_MODEL_44e738be8ab54166a27dc660f1e007fd"
       ],
       "layout": "IPY_MODEL_b9da2efffe1e4fb5956042246fcf3606"
      }
     },
     "56bbb195b53f48448c5033c108fcf406": {
      "model_module": "@jupyter-widgets/base",
      "model_module_version": "1.2.0",
      "model_name": "LayoutModel",
      "state": {}
     },
     "573fc4ac6c0c469d8099618980be6d1a": {
      "model_module": "@jupyter-widgets/controls",
      "model_module_version": "1.5.0",
      "model_name": "HTMLModel",
      "state": {
       "layout": "IPY_MODEL_70f4221abf4a42a695b4aac553ac5205",
       "style": "IPY_MODEL_558db3f2f6ff4fa9b56603bb9cee9726",
       "value": " 5/5 [12:47&lt;00:00, 153.65s/it]"
      }
     },
     "5742452243e541cda7a456a7351ec58e": {
      "model_module": "@jupyter-widgets/controls",
      "model_module_version": "1.5.0",
      "model_name": "DescriptionStyleModel",
      "state": {
       "description_width": ""
      }
     },
     "577c6699ebe74bf0942d47e59cf7af04": {
      "model_module": "@jupyter-widgets/base",
      "model_module_version": "1.2.0",
      "model_name": "LayoutModel",
      "state": {}
     },
     "57920876a01a46b09fc431512b4859db": {
      "model_module": "@jupyter-widgets/controls",
      "model_module_version": "1.5.0",
      "model_name": "DescriptionStyleModel",
      "state": {
       "description_width": ""
      }
     },
     "57a5ea74982e46699479e41f315726a8": {
      "model_module": "@jupyter-widgets/base",
      "model_module_version": "1.2.0",
      "model_name": "LayoutModel",
      "state": {}
     },
     "57c7042a4d094de9892bc50aaccae9d4": {
      "model_module": "@jupyter-widgets/base",
      "model_module_version": "1.2.0",
      "model_name": "LayoutModel",
      "state": {}
     },
     "57fb1822f6e047b08a16e4e3ea674c87": {
      "model_module": "@jupyter-widgets/controls",
      "model_module_version": "1.5.0",
      "model_name": "HTMLModel",
      "state": {
       "layout": "IPY_MODEL_58fe84b8864d47a49e6b82ba24ca0d1e",
       "style": "IPY_MODEL_820d84c6b9444768a765eb62ae81f0f9",
       "value": "100%"
      }
     },
     "582de00176fa469f94b79327fe68636a": {
      "model_module": "@jupyter-widgets/controls",
      "model_module_version": "1.5.0",
      "model_name": "DescriptionStyleModel",
      "state": {
       "description_width": ""
      }
     },
     "5837605dc1c64edb92d8425e716c4036": {
      "model_module": "@jupyter-widgets/controls",
      "model_module_version": "1.5.0",
      "model_name": "DescriptionStyleModel",
      "state": {
       "description_width": ""
      }
     },
     "5859c036b609415e902950e6c85acc69": {
      "model_module": "@jupyter-widgets/base",
      "model_module_version": "1.2.0",
      "model_name": "LayoutModel",
      "state": {}
     },
     "5862f7b11bc44ddcb24e721d64e7149a": {
      "model_module": "@jupyter-widgets/controls",
      "model_module_version": "1.5.0",
      "model_name": "DescriptionStyleModel",
      "state": {
       "description_width": ""
      }
     },
     "588ff6addd604a959488db5ace539027": {
      "model_module": "@jupyter-widgets/controls",
      "model_module_version": "1.5.0",
      "model_name": "FloatProgressModel",
      "state": {
       "bar_style": "success",
       "layout": "IPY_MODEL_d6346b1257fd4ffcb3ba5a63aff40dd9",
       "max": 5,
       "style": "IPY_MODEL_d6f3ba577d634ec784071cdde37aeb4d",
       "value": 5
      }
     },
     "58d6afe3735f48e9a18728fa79695b18": {
      "model_module": "@jupyter-widgets/controls",
      "model_module_version": "1.5.0",
      "model_name": "DescriptionStyleModel",
      "state": {
       "description_width": ""
      }
     },
     "58fbeda95d974d93b2072b028e48f1b7": {
      "model_module": "@jupyter-widgets/base",
      "model_module_version": "1.2.0",
      "model_name": "LayoutModel",
      "state": {}
     },
     "58fe84b8864d47a49e6b82ba24ca0d1e": {
      "model_module": "@jupyter-widgets/base",
      "model_module_version": "1.2.0",
      "model_name": "LayoutModel",
      "state": {}
     },
     "593f46ac608b409e9193015d9ab9cf35": {
      "model_module": "@jupyter-widgets/controls",
      "model_module_version": "1.5.0",
      "model_name": "ProgressStyleModel",
      "state": {
       "description_width": ""
      }
     },
     "5947fdfed83140d290e114b51fdc638c": {
      "model_module": "@jupyter-widgets/controls",
      "model_module_version": "1.5.0",
      "model_name": "HTMLModel",
      "state": {
       "layout": "IPY_MODEL_69fa557dee34418bb8e2408b4b5a1ffe",
       "style": "IPY_MODEL_9d1b744ff7804254971299a883377f6a",
       "value": "100%"
      }
     },
     "597084808fe14dc0b8ed27b9010df776": {
      "model_module": "@jupyter-widgets/base",
      "model_module_version": "1.2.0",
      "model_name": "LayoutModel",
      "state": {}
     },
     "598ec0792d564e8ab7abf0f4038ee2e5": {
      "model_module": "@jupyter-widgets/controls",
      "model_module_version": "1.5.0",
      "model_name": "HTMLModel",
      "state": {
       "layout": "IPY_MODEL_2542610879ac40198d378a624e1e0e8c",
       "style": "IPY_MODEL_f83e2488559248809e501c022470cb2a",
       "value": " 5/5 [00:11&lt;00:00,  2.31s/it]"
      }
     },
     "59b7cbf774dd4ebfa6b2f48b89cee696": {
      "model_module": "@jupyter-widgets/controls",
      "model_module_version": "1.5.0",
      "model_name": "HTMLModel",
      "state": {
       "layout": "IPY_MODEL_38d01a142f5a4c699a1bf4ca518025e7",
       "style": "IPY_MODEL_830b1d2dca6d4e98b5ff0012a7cc77ab",
       "value": "100%"
      }
     },
     "59bbb68b750648ddbc6c2e35c6cc8173": {
      "model_module": "@jupyter-widgets/controls",
      "model_module_version": "1.5.0",
      "model_name": "ProgressStyleModel",
      "state": {
       "description_width": ""
      }
     },
     "5a0221aacf1c4861858bc907e22c869e": {
      "model_module": "@jupyter-widgets/controls",
      "model_module_version": "1.5.0",
      "model_name": "HTMLModel",
      "state": {
       "layout": "IPY_MODEL_70f3c01d1c1747dca3f92c88784bde2d",
       "style": "IPY_MODEL_d8e9ea6cf953468da87c4b52aa39fdfd",
       "value": "100%"
      }
     },
     "5a7465feb8f2406ca273505440257055": {
      "model_module": "@jupyter-widgets/base",
      "model_module_version": "1.2.0",
      "model_name": "LayoutModel",
      "state": {}
     },
     "5a86562a903e40f19b5a1a533613cf5d": {
      "model_module": "@jupyter-widgets/controls",
      "model_module_version": "1.5.0",
      "model_name": "HTMLModel",
      "state": {
       "layout": "IPY_MODEL_431eb41110da4baf9bdc36900ddb6d14",
       "style": "IPY_MODEL_de6f4b171a0e4174930ddacde8179bc3",
       "value": " 5/5 [00:04&lt;00:00,  1.08it/s]"
      }
     },
     "5a87f02bd03340c99beb9c6d01f3a93e": {
      "model_module": "@jupyter-widgets/controls",
      "model_module_version": "1.5.0",
      "model_name": "HTMLModel",
      "state": {
       "layout": "IPY_MODEL_1863d77f5d2741ee9bda4bb5978a0201",
       "style": "IPY_MODEL_90ca9757d87248bca510e205e51d4ed7",
       "value": " 5/5 [10:44&lt;00:00, 128.89s/it]"
      }
     },
     "5aac884fd06349c0b3e3995be349dcd7": {
      "model_module": "@jupyter-widgets/controls",
      "model_module_version": "1.5.0",
      "model_name": "HTMLModel",
      "state": {
       "layout": "IPY_MODEL_27f08c462a5d4c1fbd0715f01dab69de",
       "style": "IPY_MODEL_ae0194dc7aa5433a9efab2af2f867890",
       "value": " 5/5 [00:12&lt;00:00,  2.44s/it]"
      }
     },
     "5ad4d8a4537f4c5f8739be10a1457392": {
      "model_module": "@jupyter-widgets/base",
      "model_module_version": "1.2.0",
      "model_name": "LayoutModel",
      "state": {}
     },
     "5b13c2b85a3f4e8a9691604f26820b5e": {
      "model_module": "@jupyter-widgets/base",
      "model_module_version": "1.2.0",
      "model_name": "LayoutModel",
      "state": {}
     },
     "5b2c5cdcc62b4b17b278eb7b22d99c27": {
      "model_module": "@jupyter-widgets/base",
      "model_module_version": "1.2.0",
      "model_name": "LayoutModel",
      "state": {}
     },
     "5b39c56cb2034e458d4d768420223ad4": {
      "model_module": "@jupyter-widgets/controls",
      "model_module_version": "1.5.0",
      "model_name": "HBoxModel",
      "state": {
       "children": [
        "IPY_MODEL_fdaf6526578748798d1d7dbe587ca447",
        "IPY_MODEL_bf4be582edae43e78fa8be31efc276f0",
        "IPY_MODEL_83d7d379fa6648b59caa24657763aebc"
       ],
       "layout": "IPY_MODEL_5c9a3b33391e4be0a636dd8c99d35bc5"
      }
     },
     "5b993687dd634720bcefdad738896d23": {
      "model_module": "@jupyter-widgets/controls",
      "model_module_version": "1.5.0",
      "model_name": "FloatProgressModel",
      "state": {
       "bar_style": "success",
       "layout": "IPY_MODEL_33b8d5c28f184e8b95846046925316f9",
       "max": 5,
       "style": "IPY_MODEL_2aa2f2b25a1849679cf55dcbb2956d57",
       "value": 5
      }
     },
     "5c6676b54e7e4d3192f402a5866e9bca": {
      "model_module": "@jupyter-widgets/controls",
      "model_module_version": "1.5.0",
      "model_name": "HTMLModel",
      "state": {
       "layout": "IPY_MODEL_5ad4d8a4537f4c5f8739be10a1457392",
       "style": "IPY_MODEL_01ec5480be06434ab2781a7c86fc63b3",
       "value": " 5/5 [14:25&lt;00:00, 173.10s/it]"
      }
     },
     "5c9a3b33391e4be0a636dd8c99d35bc5": {
      "model_module": "@jupyter-widgets/base",
      "model_module_version": "1.2.0",
      "model_name": "LayoutModel",
      "state": {}
     },
     "5ccb46e46041420f8d75fc24f9121e2a": {
      "model_module": "@jupyter-widgets/base",
      "model_module_version": "1.2.0",
      "model_name": "LayoutModel",
      "state": {}
     },
     "5ccc4da4ea3c443383c5e6ff7717c1de": {
      "model_module": "@jupyter-widgets/controls",
      "model_module_version": "1.5.0",
      "model_name": "HBoxModel",
      "state": {
       "children": [
        "IPY_MODEL_d9412514255a476fb18834dc11c4ab4e",
        "IPY_MODEL_858af1f796d544419220554804563a07",
        "IPY_MODEL_37f01bb40fe84424abd93d15c3d57e91"
       ],
       "layout": "IPY_MODEL_629ee7ca70b5492e865bdd0b385d1fb2"
      }
     },
     "5cdbb5fed3da4e3a8b2984b658fc902a": {
      "model_module": "@jupyter-widgets/controls",
      "model_module_version": "1.5.0",
      "model_name": "HTMLModel",
      "state": {
       "layout": "IPY_MODEL_93c98f4b077c4bfaad6359f81aa2df8d",
       "style": "IPY_MODEL_f9911eedaae04c9da89e1ac13277ec5f",
       "value": "100%"
      }
     },
     "5d1ef6faa9ab48658a7f2cf48bff98d8": {
      "model_module": "@jupyter-widgets/controls",
      "model_module_version": "1.5.0",
      "model_name": "HBoxModel",
      "state": {
       "children": [
        "IPY_MODEL_2b2e77dfd7594b5da6e03cd7a7bac618",
        "IPY_MODEL_75a6e59e51c1411cb805970117803a52",
        "IPY_MODEL_850724a6b8cf43a0bc78b09def1e1f5b"
       ],
       "layout": "IPY_MODEL_e9341163ac9b4bc19a5a387135811b1d"
      }
     },
     "5d905ce7cfb4419892c87bf2404de847": {
      "model_module": "@jupyter-widgets/base",
      "model_module_version": "1.2.0",
      "model_name": "LayoutModel",
      "state": {}
     },
     "5d94f4b4daee44e3a57317289c3ff45f": {
      "model_module": "@jupyter-widgets/base",
      "model_module_version": "1.2.0",
      "model_name": "LayoutModel",
      "state": {}
     },
     "5dedab63fa914f8b91b116ded29f8196": {
      "model_module": "@jupyter-widgets/base",
      "model_module_version": "1.2.0",
      "model_name": "LayoutModel",
      "state": {}
     },
     "5e238c159cbc49baacc37fa5e7f90a0a": {
      "model_module": "@jupyter-widgets/controls",
      "model_module_version": "1.5.0",
      "model_name": "HTMLModel",
      "state": {
       "layout": "IPY_MODEL_f5c2803178934eee9cd69611199e6e97",
       "style": "IPY_MODEL_a9bda66fb87b40a28753e328b91c7693",
       "value": "100%"
      }
     },
     "5e73b9f43b0b41539c36ae196284810a": {
      "model_module": "@jupyter-widgets/base",
      "model_module_version": "1.2.0",
      "model_name": "LayoutModel",
      "state": {}
     },
     "5ef2094f5aa14e31aa7f49cc070ee2df": {
      "model_module": "@jupyter-widgets/controls",
      "model_module_version": "1.5.0",
      "model_name": "DescriptionStyleModel",
      "state": {
       "description_width": ""
      }
     },
     "5efc6e3d41c8409a88c88878471ad4c6": {
      "model_module": "@jupyter-widgets/controls",
      "model_module_version": "1.5.0",
      "model_name": "HTMLModel",
      "state": {
       "layout": "IPY_MODEL_1b507388ae4348c5b84b9e137464d8ee",
       "style": "IPY_MODEL_d86ed52a2759401782002be8a05af664",
       "value": " 5/5 [12:36&lt;00:00, 151.36s/it]"
      }
     },
     "5f30ece91de147bc8b297e590997dad1": {
      "model_module": "@jupyter-widgets/base",
      "model_module_version": "1.2.0",
      "model_name": "LayoutModel",
      "state": {}
     },
     "5f3ba9fa8a8e417191b447506d5497da": {
      "model_module": "@jupyter-widgets/controls",
      "model_module_version": "1.5.0",
      "model_name": "DescriptionStyleModel",
      "state": {
       "description_width": ""
      }
     },
     "5f6283e449754ea49b303d194c773154": {
      "model_module": "@jupyter-widgets/controls",
      "model_module_version": "1.5.0",
      "model_name": "DescriptionStyleModel",
      "state": {
       "description_width": ""
      }
     },
     "5f78d1f2a34f423693b054b03788b9b0": {
      "model_module": "@jupyter-widgets/base",
      "model_module_version": "1.2.0",
      "model_name": "LayoutModel",
      "state": {}
     },
     "5fa81a70049540079aacdeac4db12f74": {
      "model_module": "@jupyter-widgets/controls",
      "model_module_version": "1.5.0",
      "model_name": "HBoxModel",
      "state": {
       "children": [
        "IPY_MODEL_f1a5b342c2c943b99dc08ab474489236",
        "IPY_MODEL_9d36716e23274b16ae463f121694e3fc",
        "IPY_MODEL_a091b8d79dec4051a1fd1841e92f4bd6"
       ],
       "layout": "IPY_MODEL_f28a16da020f4843a3d42a0479a7ac0b"
      }
     },
     "5fc208fba62149afab2240d325df1ddd": {
      "model_module": "@jupyter-widgets/base",
      "model_module_version": "1.2.0",
      "model_name": "LayoutModel",
      "state": {}
     },
     "5ff61e84c9d842869990d05356358486": {
      "model_module": "@jupyter-widgets/base",
      "model_module_version": "1.2.0",
      "model_name": "LayoutModel",
      "state": {}
     },
     "5ff9f249f3c84c1a937c15a5bc9b5e9d": {
      "model_module": "@jupyter-widgets/controls",
      "model_module_version": "1.5.0",
      "model_name": "FloatProgressModel",
      "state": {
       "bar_style": "success",
       "layout": "IPY_MODEL_2bf9536c0ce243c59942fe730bda866c",
       "max": 5,
       "style": "IPY_MODEL_36b398cfaa2c4aacaf6a48e3d542f225",
       "value": 5
      }
     },
     "6007ca8bd30e424f9b200ee22fdc4538": {
      "model_module": "@jupyter-widgets/controls",
      "model_module_version": "1.5.0",
      "model_name": "HTMLModel",
      "state": {
       "layout": "IPY_MODEL_0ef71d51e8c64b99a920b220d7656db8",
       "style": "IPY_MODEL_2afd348098e14feda6f9e21f148c9f3c",
       "value": "100%"
      }
     },
     "602433a9fb0745b0a252ae09b8ab4667": {
      "model_module": "@jupyter-widgets/controls",
      "model_module_version": "1.5.0",
      "model_name": "DescriptionStyleModel",
      "state": {
       "description_width": ""
      }
     },
     "6032b8fc37364f12acb81b05a3b1619d": {
      "model_module": "@jupyter-widgets/controls",
      "model_module_version": "1.5.0",
      "model_name": "ProgressStyleModel",
      "state": {
       "description_width": ""
      }
     },
     "6055c74dab434f119c1b707044027e15": {
      "model_module": "@jupyter-widgets/controls",
      "model_module_version": "1.5.0",
      "model_name": "ProgressStyleModel",
      "state": {
       "description_width": ""
      }
     },
     "60a2233e3b2844cba4462fd1375caa85": {
      "model_module": "@jupyter-widgets/controls",
      "model_module_version": "1.5.0",
      "model_name": "FloatProgressModel",
      "state": {
       "bar_style": "success",
       "layout": "IPY_MODEL_10b760be2a044de288aed9a60ec99450",
       "max": 5,
       "style": "IPY_MODEL_16ef15fb9fa44b669dd3ffdd6c8fbe9f",
       "value": 5
      }
     },
     "60d3c0c9ae3c4372a03c79d67bd317e8": {
      "model_module": "@jupyter-widgets/controls",
      "model_module_version": "1.5.0",
      "model_name": "FloatProgressModel",
      "state": {
       "bar_style": "success",
       "layout": "IPY_MODEL_db6953fc9f51429eac36cc6ea04de52d",
       "max": 5,
       "style": "IPY_MODEL_2806b98eeb544855bd05283a65fca262",
       "value": 5
      }
     },
     "60faade4a1744eb5ab257a1f10804da2": {
      "model_module": "@jupyter-widgets/controls",
      "model_module_version": "1.5.0",
      "model_name": "HBoxModel",
      "state": {
       "children": [
        "IPY_MODEL_20d239ae4c8045f3b96f48408310d381",
        "IPY_MODEL_60a2233e3b2844cba4462fd1375caa85",
        "IPY_MODEL_6578258231454644bdb8683ecf586595"
       ],
       "layout": "IPY_MODEL_f8df7b6ff35d4da5a651aef911c30ec3"
      }
     },
     "60fee1f4d8ff453eb8cac85b732b74fd": {
      "model_module": "@jupyter-widgets/base",
      "model_module_version": "1.2.0",
      "model_name": "LayoutModel",
      "state": {}
     },
     "61ad06420cd64eb2b8860fe1f4df45fa": {
      "model_module": "@jupyter-widgets/controls",
      "model_module_version": "1.5.0",
      "model_name": "HBoxModel",
      "state": {
       "children": [
        "IPY_MODEL_2f00287377534290bdb1cc210457d511",
        "IPY_MODEL_4fedacf05c8d4a64b0fe03721f5c1c44",
        "IPY_MODEL_bdf11e701ae640758349df1dd9ac7494"
       ],
       "layout": "IPY_MODEL_12dd307bed5b46de93fc2edce295afb6"
      }
     },
     "61cf2b0638354012aae37701c84a8ab9": {
      "model_module": "@jupyter-widgets/controls",
      "model_module_version": "1.5.0",
      "model_name": "ProgressStyleModel",
      "state": {
       "description_width": ""
      }
     },
     "61fc70c47f624a9aabe7bdff023a994f": {
      "model_module": "@jupyter-widgets/controls",
      "model_module_version": "1.5.0",
      "model_name": "HTMLModel",
      "state": {
       "layout": "IPY_MODEL_4a83efe63cf347268d799cf6c154542b",
       "style": "IPY_MODEL_0012760bab1f492691d653f41ec9d746",
       "value": " 5/5 [13:35&lt;00:00, 162.79s/it]"
      }
     },
     "62160bfc819741f38bec88d9fee81198": {
      "model_module": "@jupyter-widgets/base",
      "model_module_version": "1.2.0",
      "model_name": "LayoutModel",
      "state": {}
     },
     "621d10227b7a4caea1af1b7f5c74f8d5": {
      "model_module": "@jupyter-widgets/controls",
      "model_module_version": "1.5.0",
      "model_name": "HTMLModel",
      "state": {
       "layout": "IPY_MODEL_4aec33ee754442e78a1f0ef5b7bbf571",
       "style": "IPY_MODEL_880e75380a2c40d9b6e81ca408bad573",
       "value": " 5/5 [00:05&lt;00:00,  1.13s/it]"
      }
     },
     "629195f536fb4a2fa76b3c2016e2f021": {
      "model_module": "@jupyter-widgets/controls",
      "model_module_version": "1.5.0",
      "model_name": "DescriptionStyleModel",
      "state": {
       "description_width": ""
      }
     },
     "629a35cc525746b897102a585ca7e4ac": {
      "model_module": "@jupyter-widgets/base",
      "model_module_version": "1.2.0",
      "model_name": "LayoutModel",
      "state": {}
     },
     "629ee7ca70b5492e865bdd0b385d1fb2": {
      "model_module": "@jupyter-widgets/base",
      "model_module_version": "1.2.0",
      "model_name": "LayoutModel",
      "state": {}
     },
     "62a8a794c0694588a89b55ae12f439d4": {
      "model_module": "@jupyter-widgets/controls",
      "model_module_version": "1.5.0",
      "model_name": "FloatProgressModel",
      "state": {
       "bar_style": "success",
       "layout": "IPY_MODEL_2c224ecfba4a4afcb23ef8598b18c997",
       "max": 5,
       "style": "IPY_MODEL_211010c034b74d4e8a3e145be3490d62",
       "value": 5
      }
     },
     "62d2e59b2c084ddb9a07687461b4c22e": {
      "model_module": "@jupyter-widgets/controls",
      "model_module_version": "1.5.0",
      "model_name": "DescriptionStyleModel",
      "state": {
       "description_width": ""
      }
     },
     "62e6770e46fc4e42aebaee3df2d74014": {
      "model_module": "@jupyter-widgets/controls",
      "model_module_version": "1.5.0",
      "model_name": "DescriptionStyleModel",
      "state": {
       "description_width": ""
      }
     },
     "62e964d660944e3c91b8da817fe96219": {
      "model_module": "@jupyter-widgets/base",
      "model_module_version": "1.2.0",
      "model_name": "LayoutModel",
      "state": {}
     },
     "630a701c557b44808b88054b94e67a89": {
      "model_module": "@jupyter-widgets/controls",
      "model_module_version": "1.5.0",
      "model_name": "ProgressStyleModel",
      "state": {
       "description_width": ""
      }
     },
     "6324f851c6c14330a0642eecd5598666": {
      "model_module": "@jupyter-widgets/base",
      "model_module_version": "1.2.0",
      "model_name": "LayoutModel",
      "state": {}
     },
     "634a43851560491cae62f942d03d2f0e": {
      "model_module": "@jupyter-widgets/controls",
      "model_module_version": "1.5.0",
      "model_name": "FloatProgressModel",
      "state": {
       "bar_style": "success",
       "layout": "IPY_MODEL_d5c34dc395a74d1bb07d920869f9c25e",
       "max": 5,
       "style": "IPY_MODEL_32491b9c9a954e68b200bfbcb348f860",
       "value": 5
      }
     },
     "634be68983b44aeeac64d33b541478ca": {
      "model_module": "@jupyter-widgets/base",
      "model_module_version": "1.2.0",
      "model_name": "LayoutModel",
      "state": {}
     },
     "63738820f8e347c5882bcbf59a315390": {
      "model_module": "@jupyter-widgets/base",
      "model_module_version": "1.2.0",
      "model_name": "LayoutModel",
      "state": {}
     },
     "638547b326bf4c2baa8a4d2b7b1c0555": {
      "model_module": "@jupyter-widgets/controls",
      "model_module_version": "1.5.0",
      "model_name": "HBoxModel",
      "state": {
       "children": [
        "IPY_MODEL_0eddddd536674f559550df07678cd5c6",
        "IPY_MODEL_a99d27962a194aa1bc61ba626dee701d",
        "IPY_MODEL_a3b6baf4da4c4d26b68b47fb53b1d935"
       ],
       "layout": "IPY_MODEL_e165029318b94599be46b1efbea38d42"
      }
     },
     "639b2f110a5b44c1bfd37011bc95f7ec": {
      "model_module": "@jupyter-widgets/controls",
      "model_module_version": "1.5.0",
      "model_name": "ProgressStyleModel",
      "state": {
       "description_width": ""
      }
     },
     "63ee5a75f9824f2b94aa4c6c765e6b5d": {
      "model_module": "@jupyter-widgets/controls",
      "model_module_version": "1.5.0",
      "model_name": "HTMLModel",
      "state": {
       "layout": "IPY_MODEL_176060c56490480db2f0664704da89df",
       "style": "IPY_MODEL_878583eba69746b880f1a01c0ff40685",
       "value": " 5/5 [00:05&lt;00:00,  1.14s/it]"
      }
     },
     "63fe09ff2ee248fe8bf1c68adbf5f0ef": {
      "model_module": "@jupyter-widgets/base",
      "model_module_version": "1.2.0",
      "model_name": "LayoutModel",
      "state": {}
     },
     "640ede1d2c354f5eab609d8494fb1a8e": {
      "model_module": "@jupyter-widgets/controls",
      "model_module_version": "1.5.0",
      "model_name": "DescriptionStyleModel",
      "state": {
       "description_width": ""
      }
     },
     "643ad995330841a4a89be3e77ad1f4f7": {
      "model_module": "@jupyter-widgets/base",
      "model_module_version": "1.2.0",
      "model_name": "LayoutModel",
      "state": {}
     },
     "648fcf7fe303457ea38266e90b7ac522": {
      "model_module": "@jupyter-widgets/base",
      "model_module_version": "1.2.0",
      "model_name": "LayoutModel",
      "state": {}
     },
     "64a361179e904d5b8d60f27cea8ff979": {
      "model_module": "@jupyter-widgets/controls",
      "model_module_version": "1.5.0",
      "model_name": "ProgressStyleModel",
      "state": {
       "description_width": ""
      }
     },
     "64a8d87faecf4eb7b97100111605c875": {
      "model_module": "@jupyter-widgets/base",
      "model_module_version": "1.2.0",
      "model_name": "LayoutModel",
      "state": {}
     },
     "64ed98ef1dd14dc5babd83576dfc36ea": {
      "model_module": "@jupyter-widgets/base",
      "model_module_version": "1.2.0",
      "model_name": "LayoutModel",
      "state": {}
     },
     "656b9e5413d14f42a015689d8756f284": {
      "model_module": "@jupyter-widgets/controls",
      "model_module_version": "1.5.0",
      "model_name": "ProgressStyleModel",
      "state": {
       "description_width": ""
      }
     },
     "6578258231454644bdb8683ecf586595": {
      "model_module": "@jupyter-widgets/controls",
      "model_module_version": "1.5.0",
      "model_name": "HTMLModel",
      "state": {
       "layout": "IPY_MODEL_555b4e08e0df47a3b85552038b97c713",
       "style": "IPY_MODEL_1c42d9ffcde54a1eaf7e61f16e5e0a77",
       "value": " 5/5 [13:09&lt;00:00, 157.67s/it]"
      }
     },
     "6589de2570cc4373ae89f04a1265b4b2": {
      "model_module": "@jupyter-widgets/base",
      "model_module_version": "1.2.0",
      "model_name": "LayoutModel",
      "state": {}
     },
     "65c62979ddfd49ad9f31693c4ba87a45": {
      "model_module": "@jupyter-widgets/base",
      "model_module_version": "1.2.0",
      "model_name": "LayoutModel",
      "state": {}
     },
     "65d0f565a7b340bf86942b762420c635": {
      "model_module": "@jupyter-widgets/base",
      "model_module_version": "1.2.0",
      "model_name": "LayoutModel",
      "state": {}
     },
     "6615921822854302803b9f6192a15513": {
      "model_module": "@jupyter-widgets/controls",
      "model_module_version": "1.5.0",
      "model_name": "HBoxModel",
      "state": {
       "children": [
        "IPY_MODEL_f57549b498854696a45f1cd79efbbabf",
        "IPY_MODEL_5b993687dd634720bcefdad738896d23",
        "IPY_MODEL_a9bbd2b9fa034a9c836acbab86128ed9"
       ],
       "layout": "IPY_MODEL_adb620850aea49fdaefcd30de0f38317"
      }
     },
     "664dbc64547c435b8675368301a3037d": {
      "model_module": "@jupyter-widgets/controls",
      "model_module_version": "1.5.0",
      "model_name": "ProgressStyleModel",
      "state": {
       "description_width": ""
      }
     },
     "669d97a2bec54ade9e8e6c20982f224f": {
      "model_module": "@jupyter-widgets/controls",
      "model_module_version": "1.5.0",
      "model_name": "FloatProgressModel",
      "state": {
       "bar_style": "success",
       "layout": "IPY_MODEL_c441c55a974f4376b04a32fa49246f4e",
       "max": 5,
       "style": "IPY_MODEL_74feebe635574b38ab6c9322c21e8d5b",
       "value": 5
      }
     },
     "66c7498262f542468c11398e45ea9b7e": {
      "model_module": "@jupyter-widgets/controls",
      "model_module_version": "1.5.0",
      "model_name": "HBoxModel",
      "state": {
       "children": [
        "IPY_MODEL_0b0490703ead4ef7b957b8feedca7ef9",
        "IPY_MODEL_ad29d5c4abe34215bae81782d62e12f0",
        "IPY_MODEL_110b6f39478247ecb1f53f00bc668c3b"
       ],
       "layout": "IPY_MODEL_57a5ea74982e46699479e41f315726a8"
      }
     },
     "67161816629c47448f1b073f7096f6cd": {
      "model_module": "@jupyter-widgets/controls",
      "model_module_version": "1.5.0",
      "model_name": "FloatProgressModel",
      "state": {
       "bar_style": "success",
       "layout": "IPY_MODEL_d9991ac8d507456ab8a91be7e82956a5",
       "max": 5,
       "style": "IPY_MODEL_47e889adf89e43a683465d24fdab160f",
       "value": 5
      }
     },
     "678925c9f1984651b3375f47d762f6f7": {
      "model_module": "@jupyter-widgets/controls",
      "model_module_version": "1.5.0",
      "model_name": "DescriptionStyleModel",
      "state": {
       "description_width": ""
      }
     },
     "67c1b4ec81ff44159c6d3841beb1df97": {
      "model_module": "@jupyter-widgets/base",
      "model_module_version": "1.2.0",
      "model_name": "LayoutModel",
      "state": {}
     },
     "682e85daa52f46609f1c829b466344f4": {
      "model_module": "@jupyter-widgets/base",
      "model_module_version": "1.2.0",
      "model_name": "LayoutModel",
      "state": {}
     },
     "68519ced56134f7c85439907ca659dad": {
      "model_module": "@jupyter-widgets/controls",
      "model_module_version": "1.5.0",
      "model_name": "HBoxModel",
      "state": {
       "children": [
        "IPY_MODEL_5a0221aacf1c4861858bc907e22c869e",
        "IPY_MODEL_6ce10cbd85454b02969d45d735994823",
        "IPY_MODEL_fd357541fc904b0ab3936fa5aa71c686"
       ],
       "layout": "IPY_MODEL_26a5b97481fd47969edec913b7c282f4"
      }
     },
     "68706ceaa76d4340bcb60983b146ed34": {
      "model_module": "@jupyter-widgets/controls",
      "model_module_version": "1.5.0",
      "model_name": "DescriptionStyleModel",
      "state": {
       "description_width": ""
      }
     },
     "6871bf6bd7174f329ad4fa1fd0c7710d": {
      "model_module": "@jupyter-widgets/controls",
      "model_module_version": "1.5.0",
      "model_name": "HTMLModel",
      "state": {
       "layout": "IPY_MODEL_e5e46edc52de41108a0f5eac0b1d4cdc",
       "style": "IPY_MODEL_0477a3f1399d4a55a1568fdb9617c9c9",
       "value": "100%"
      }
     },
     "68834cfd06744384ba04c2a2e8f8a55a": {
      "model_module": "@jupyter-widgets/controls",
      "model_module_version": "1.5.0",
      "model_name": "DescriptionStyleModel",
      "state": {
       "description_width": ""
      }
     },
     "688eb8a2a6854c7dadea9444f95f50ef": {
      "model_module": "@jupyter-widgets/base",
      "model_module_version": "1.2.0",
      "model_name": "LayoutModel",
      "state": {}
     },
     "689610c9d20641ac8a3005eba83f14ba": {
      "model_module": "@jupyter-widgets/base",
      "model_module_version": "1.2.0",
      "model_name": "LayoutModel",
      "state": {}
     },
     "68f03c22f236415d90f044bf4a63024b": {
      "model_module": "@jupyter-widgets/controls",
      "model_module_version": "1.5.0",
      "model_name": "HTMLModel",
      "state": {
       "layout": "IPY_MODEL_98d7a5bc8c1f4c64860e53797605cc0b",
       "style": "IPY_MODEL_b1038033264f46d593034e608c9189ef",
       "value": "100%"
      }
     },
     "69399af545ab4d25865419ed6756e35a": {
      "model_module": "@jupyter-widgets/controls",
      "model_module_version": "1.5.0",
      "model_name": "HTMLModel",
      "state": {
       "layout": "IPY_MODEL_75a1fcd581d542aa8e8ecdc55f7f87b6",
       "style": "IPY_MODEL_2c310f6e52c44d0cb86e4c111ffb1de7",
       "value": " 5/5 [00:12&lt;00:00,  2.45s/it]"
      }
     },
     "694add9764d341119e4da7663bcdefe4": {
      "model_module": "@jupyter-widgets/controls",
      "model_module_version": "1.5.0",
      "model_name": "HTMLModel",
      "state": {
       "layout": "IPY_MODEL_dd4f6bab76dd4c5a909a160cd8ede7a3",
       "style": "IPY_MODEL_eaa63196b359413e84d23e7ea2f07511",
       "value": " 5/5 [00:04&lt;00:00,  1.04it/s]"
      }
     },
     "69d0476012244af89a1cea0d5d394a85": {
      "model_module": "@jupyter-widgets/base",
      "model_module_version": "1.2.0",
      "model_name": "LayoutModel",
      "state": {}
     },
     "69fa557dee34418bb8e2408b4b5a1ffe": {
      "model_module": "@jupyter-widgets/base",
      "model_module_version": "1.2.0",
      "model_name": "LayoutModel",
      "state": {}
     },
     "6a6699bc3e3846f48c2419bc14dcb300": {
      "model_module": "@jupyter-widgets/controls",
      "model_module_version": "1.5.0",
      "model_name": "ProgressStyleModel",
      "state": {
       "description_width": ""
      }
     },
     "6a6e1316020643bca8cb81a0c8d34ac8": {
      "model_module": "@jupyter-widgets/controls",
      "model_module_version": "1.5.0",
      "model_name": "HTMLModel",
      "state": {
       "layout": "IPY_MODEL_5859c036b609415e902950e6c85acc69",
       "style": "IPY_MODEL_e2e149a6d54e45f5a94ea47b689c20d7",
       "value": "100%"
      }
     },
     "6a7f84a6e1354e8488146be0cf3172f9": {
      "model_module": "@jupyter-widgets/controls",
      "model_module_version": "1.5.0",
      "model_name": "FloatProgressModel",
      "state": {
       "bar_style": "success",
       "layout": "IPY_MODEL_79b770b91fc14bb9bcacfe24f80c88a8",
       "max": 5,
       "style": "IPY_MODEL_c80684a6b03a4476b3af2e61cff456fe",
       "value": 5
      }
     },
     "6b93e026d3b44972880dd029512e8767": {
      "model_module": "@jupyter-widgets/controls",
      "model_module_version": "1.5.0",
      "model_name": "HBoxModel",
      "state": {
       "children": [
        "IPY_MODEL_2d0886c3ff5c4846bcd64683f5aa0140",
        "IPY_MODEL_2e0fa0ff2de74b048d01738f849353f6",
        "IPY_MODEL_de611a565bf742a699e834cd6835128e"
       ],
       "layout": "IPY_MODEL_5085f72d33f14b8588c0ffc693f584c4"
      }
     },
     "6bd09f79fb4a4e26a12578d792fbb30e": {
      "model_module": "@jupyter-widgets/base",
      "model_module_version": "1.2.0",
      "model_name": "LayoutModel",
      "state": {}
     },
     "6c6633cd28ff46e1a14c528150aebd67": {
      "model_module": "@jupyter-widgets/controls",
      "model_module_version": "1.5.0",
      "model_name": "HTMLModel",
      "state": {
       "layout": "IPY_MODEL_7bb98fe4d25c44409c5de8d755952c71",
       "style": "IPY_MODEL_9f79da8eec9247f78c70514e74290e59",
       "value": "100%"
      }
     },
     "6c67cce2244c418388c6fb4a370927cc": {
      "model_module": "@jupyter-widgets/controls",
      "model_module_version": "1.5.0",
      "model_name": "HBoxModel",
      "state": {
       "children": [
        "IPY_MODEL_f99074fdfea2428badc6be9dbd7e6b11",
        "IPY_MODEL_d516f3dfe6b645eb82e26bbf4c1aef31",
        "IPY_MODEL_384cea6dbd384b64a4da066e6f1c7097"
       ],
       "layout": "IPY_MODEL_dbd505cf63054774be576ba7727fd163"
      }
     },
     "6ce10cbd85454b02969d45d735994823": {
      "model_module": "@jupyter-widgets/controls",
      "model_module_version": "1.5.0",
      "model_name": "FloatProgressModel",
      "state": {
       "bar_style": "success",
       "layout": "IPY_MODEL_241fc58ae5204bb1816fd984a2fdfeda",
       "max": 5,
       "style": "IPY_MODEL_1c42c4c72798468ea7fb028b03b4169b",
       "value": 5
      }
     },
     "6d4ba9ab86a1483a905c01e32a30e844": {
      "model_module": "@jupyter-widgets/controls",
      "model_module_version": "1.5.0",
      "model_name": "DescriptionStyleModel",
      "state": {
       "description_width": ""
      }
     },
     "6dc0932969d444e4ae9f9ef92b588ded": {
      "model_module": "@jupyter-widgets/base",
      "model_module_version": "1.2.0",
      "model_name": "LayoutModel",
      "state": {}
     },
     "6dc4edd3bcfa4a7392bf55143fa35094": {
      "model_module": "@jupyter-widgets/controls",
      "model_module_version": "1.5.0",
      "model_name": "HBoxModel",
      "state": {
       "children": [
        "IPY_MODEL_7664bf86cb9943c3b6f77d2e0c871daa",
        "IPY_MODEL_a1f688a336e0474285bfeb3cc6f37c5d",
        "IPY_MODEL_7ab2a86be980417086aeb8734968bc6d"
       ],
       "layout": "IPY_MODEL_9bbda5dcf39a44728467df1f3738491e"
      }
     },
     "6e1efb5f27f544e09bb40da44f0963a5": {
      "model_module": "@jupyter-widgets/base",
      "model_module_version": "1.2.0",
      "model_name": "LayoutModel",
      "state": {}
     },
     "6e7b0652f2e248f3978637e8384329a2": {
      "model_module": "@jupyter-widgets/controls",
      "model_module_version": "1.5.0",
      "model_name": "HTMLModel",
      "state": {
       "layout": "IPY_MODEL_ce5189961d6347abb222b8d730e6f076",
       "style": "IPY_MODEL_74f66627dff64aca942543be399a0270",
       "value": "100%"
      }
     },
     "6ea1227f1cd24133bb68aa28ee6048b8": {
      "model_module": "@jupyter-widgets/base",
      "model_module_version": "1.2.0",
      "model_name": "LayoutModel",
      "state": {}
     },
     "6ebd77445ff24427a9a59a4d70e3287c": {
      "model_module": "@jupyter-widgets/base",
      "model_module_version": "1.2.0",
      "model_name": "LayoutModel",
      "state": {}
     },
     "6edbe7de63014877a5a212ebb3c3eda8": {
      "model_module": "@jupyter-widgets/base",
      "model_module_version": "1.2.0",
      "model_name": "LayoutModel",
      "state": {}
     },
     "6f3038e8b93943beb776858988d96f4a": {
      "model_module": "@jupyter-widgets/controls",
      "model_module_version": "1.5.0",
      "model_name": "FloatProgressModel",
      "state": {
       "bar_style": "success",
       "layout": "IPY_MODEL_a11ae57ca8db4df2bc8ef9f1b274b7d7",
       "max": 5,
       "style": "IPY_MODEL_13401458ad2a4844bf605acb03c6154f",
       "value": 5
      }
     },
     "6f64fe6ac679455fbf26085a24c519ec": {
      "model_module": "@jupyter-widgets/controls",
      "model_module_version": "1.5.0",
      "model_name": "DescriptionStyleModel",
      "state": {
       "description_width": ""
      }
     },
     "6f7107f1a18346148e86537c571a2bdc": {
      "model_module": "@jupyter-widgets/base",
      "model_module_version": "1.2.0",
      "model_name": "LayoutModel",
      "state": {}
     },
     "6f75c1c0ebbf4ee989beb1c4c754dd25": {
      "model_module": "@jupyter-widgets/base",
      "model_module_version": "1.2.0",
      "model_name": "LayoutModel",
      "state": {}
     },
     "6fd0084f50454f829c73394465710f46": {
      "model_module": "@jupyter-widgets/controls",
      "model_module_version": "1.5.0",
      "model_name": "ProgressStyleModel",
      "state": {
       "description_width": ""
      }
     },
     "6fde8e3deec849fdbdd04ee091befb99": {
      "model_module": "@jupyter-widgets/base",
      "model_module_version": "1.2.0",
      "model_name": "LayoutModel",
      "state": {}
     },
     "707f710c31814754be37de38e6bdf951": {
      "model_module": "@jupyter-widgets/base",
      "model_module_version": "1.2.0",
      "model_name": "LayoutModel",
      "state": {}
     },
     "70af576eca9a4990a965f1616a10057e": {
      "model_module": "@jupyter-widgets/base",
      "model_module_version": "1.2.0",
      "model_name": "LayoutModel",
      "state": {}
     },
     "70b2048408fc4f7ba7277ac23ce61d72": {
      "model_module": "@jupyter-widgets/controls",
      "model_module_version": "1.5.0",
      "model_name": "ProgressStyleModel",
      "state": {
       "description_width": ""
      }
     },
     "70c06a7292c64517a977ee8620649eae": {
      "model_module": "@jupyter-widgets/base",
      "model_module_version": "1.2.0",
      "model_name": "LayoutModel",
      "state": {}
     },
     "70f3c01d1c1747dca3f92c88784bde2d": {
      "model_module": "@jupyter-widgets/base",
      "model_module_version": "1.2.0",
      "model_name": "LayoutModel",
      "state": {}
     },
     "70f4221abf4a42a695b4aac553ac5205": {
      "model_module": "@jupyter-widgets/base",
      "model_module_version": "1.2.0",
      "model_name": "LayoutModel",
      "state": {}
     },
     "714b3455c836409d85b0fd54a845e930": {
      "model_module": "@jupyter-widgets/base",
      "model_module_version": "1.2.0",
      "model_name": "LayoutModel",
      "state": {}
     },
     "714cfbce50da41b7b321bb8f3d563c29": {
      "model_module": "@jupyter-widgets/controls",
      "model_module_version": "1.5.0",
      "model_name": "ProgressStyleModel",
      "state": {
       "description_width": ""
      }
     },
     "71786d959a35409bb9a36c5825bd86ec": {
      "model_module": "@jupyter-widgets/base",
      "model_module_version": "1.2.0",
      "model_name": "LayoutModel",
      "state": {}
     },
     "7198e96a9f1048e3a5e24ca310eb6504": {
      "model_module": "@jupyter-widgets/base",
      "model_module_version": "1.2.0",
      "model_name": "LayoutModel",
      "state": {}
     },
     "71b841c46dca4723be47f0dd0c92cf2d": {
      "model_module": "@jupyter-widgets/controls",
      "model_module_version": "1.5.0",
      "model_name": "HBoxModel",
      "state": {
       "children": [
        "IPY_MODEL_2f23cb09a9ba466eb45f283569a2020b",
        "IPY_MODEL_8a65fcba6791471cae1ff5fcba68c945",
        "IPY_MODEL_2a2c9ad74fbd425daab1431f30eeb34c"
       ],
       "layout": "IPY_MODEL_24adda7e8a08418ca86919597c965069"
      }
     },
     "72069373307944bc9f926b8842608cec": {
      "model_module": "@jupyter-widgets/controls",
      "model_module_version": "1.5.0",
      "model_name": "HBoxModel",
      "state": {
       "children": [
        "IPY_MODEL_4e266ad689fe476dbd616078ad0e6aa4",
        "IPY_MODEL_8d1fc086ddcc42be923a35d6fbe97c81",
        "IPY_MODEL_34117e354c804b7197f126d1af08b597"
       ],
       "layout": "IPY_MODEL_51b88a0e9c0246eca120e219f9d3b921"
      }
     },
     "726fb5c78d72421b865dd5c5b7609708": {
      "model_module": "@jupyter-widgets/controls",
      "model_module_version": "1.5.0",
      "model_name": "HTMLModel",
      "state": {
       "layout": "IPY_MODEL_3a349ccc418b4eb78bd7c51cbfc7bad9",
       "style": "IPY_MODEL_db2a37c4b1ea4acd853de2bcab896465",
       "value": "100%"
      }
     },
     "72f20e3df4ee454aa55896966cae6a7a": {
      "model_module": "@jupyter-widgets/controls",
      "model_module_version": "1.5.0",
      "model_name": "FloatProgressModel",
      "state": {
       "bar_style": "success",
       "layout": "IPY_MODEL_30dc3823f7264c55a197612ed99804c7",
       "max": 5,
       "style": "IPY_MODEL_61cf2b0638354012aae37701c84a8ab9",
       "value": 5
      }
     },
     "72f8a2a5ea8641f7b15484438a4e7644": {
      "model_module": "@jupyter-widgets/controls",
      "model_module_version": "1.5.0",
      "model_name": "HBoxModel",
      "state": {
       "children": [
        "IPY_MODEL_b54075bfc8b04707a37caf0adfd2ba53",
        "IPY_MODEL_dbbd41ecb1b2451091ce233783df1f06",
        "IPY_MODEL_e29e123ea35b4287a8c264fccf596638"
       ],
       "layout": "IPY_MODEL_7417c4733a404574923ffb474f24c2b8"
      }
     },
     "732de88bc76542048c00a8add8c5ac8e": {
      "model_module": "@jupyter-widgets/controls",
      "model_module_version": "1.5.0",
      "model_name": "FloatProgressModel",
      "state": {
       "bar_style": "success",
       "layout": "IPY_MODEL_b4dbf3157e1a45fda5e9da35e3068493",
       "max": 5,
       "style": "IPY_MODEL_30bc7cfc124c436789252ced6cc060a6",
       "value": 5
      }
     },
     "7345183412d142c89c222bb5f32fd4da": {
      "model_module": "@jupyter-widgets/base",
      "model_module_version": "1.2.0",
      "model_name": "LayoutModel",
      "state": {}
     },
     "737a8f7985d541ef9de53cf7591b2890": {
      "model_module": "@jupyter-widgets/controls",
      "model_module_version": "1.5.0",
      "model_name": "HTMLModel",
      "state": {
       "layout": "IPY_MODEL_46f742cf5197464180c56cd4afe1dca9",
       "style": "IPY_MODEL_b7756e23a9aa4bae97dceb646c06c315",
       "value": "100%"
      }
     },
     "737be602eb5a470eafb2972cc5e961bd": {
      "model_module": "@jupyter-widgets/base",
      "model_module_version": "1.2.0",
      "model_name": "LayoutModel",
      "state": {}
     },
     "7390194be9484235be5a8439b8096781": {
      "model_module": "@jupyter-widgets/controls",
      "model_module_version": "1.5.0",
      "model_name": "FloatProgressModel",
      "state": {
       "bar_style": "success",
       "layout": "IPY_MODEL_0b4e783bd8324b289b2fdbda2404e098",
       "max": 5,
       "style": "IPY_MODEL_2da12d9601d543d4ae8693ad6e1b8013",
       "value": 5
      }
     },
     "7417c4733a404574923ffb474f24c2b8": {
      "model_module": "@jupyter-widgets/base",
      "model_module_version": "1.2.0",
      "model_name": "LayoutModel",
      "state": {}
     },
     "74a52640153747f88bfb0f1aa92edecf": {
      "model_module": "@jupyter-widgets/base",
      "model_module_version": "1.2.0",
      "model_name": "LayoutModel",
      "state": {}
     },
     "74d11a0f03f34f46b44f36cfc6609599": {
      "model_module": "@jupyter-widgets/controls",
      "model_module_version": "1.5.0",
      "model_name": "HBoxModel",
      "state": {
       "children": [
        "IPY_MODEL_a799294d03e74613944117a98448d23e",
        "IPY_MODEL_8000f184ab9940389b37b188a742f83f",
        "IPY_MODEL_cb5f54146ce042609805a8c6ff397d4e"
       ],
       "layout": "IPY_MODEL_da208d14d40a4c909bda8937ffe84202"
      }
     },
     "74f66627dff64aca942543be399a0270": {
      "model_module": "@jupyter-widgets/controls",
      "model_module_version": "1.5.0",
      "model_name": "DescriptionStyleModel",
      "state": {
       "description_width": ""
      }
     },
     "74feebe635574b38ab6c9322c21e8d5b": {
      "model_module": "@jupyter-widgets/controls",
      "model_module_version": "1.5.0",
      "model_name": "ProgressStyleModel",
      "state": {
       "description_width": ""
      }
     },
     "7502be5d249a4508814840fe7f9d6261": {
      "model_module": "@jupyter-widgets/base",
      "model_module_version": "1.2.0",
      "model_name": "LayoutModel",
      "state": {}
     },
     "7551020a290141629b653561a8cac8a0": {
      "model_module": "@jupyter-widgets/base",
      "model_module_version": "1.2.0",
      "model_name": "LayoutModel",
      "state": {}
     },
     "757536d3f3b9469ead0ee544699d4db0": {
      "model_module": "@jupyter-widgets/controls",
      "model_module_version": "1.5.0",
      "model_name": "FloatProgressModel",
      "state": {
       "bar_style": "success",
       "layout": "IPY_MODEL_57c7042a4d094de9892bc50aaccae9d4",
       "max": 5,
       "style": "IPY_MODEL_0bb4253250ed434d94761c9b08b95305",
       "value": 5
      }
     },
     "758211fa322f4273a3df0585f436f43e": {
      "model_module": "@jupyter-widgets/base",
      "model_module_version": "1.2.0",
      "model_name": "LayoutModel",
      "state": {}
     },
     "75a1fcd581d542aa8e8ecdc55f7f87b6": {
      "model_module": "@jupyter-widgets/base",
      "model_module_version": "1.2.0",
      "model_name": "LayoutModel",
      "state": {}
     },
     "75a6e59e51c1411cb805970117803a52": {
      "model_module": "@jupyter-widgets/controls",
      "model_module_version": "1.5.0",
      "model_name": "FloatProgressModel",
      "state": {
       "bar_style": "success",
       "layout": "IPY_MODEL_0025f0a996e04dbf91b279b5b472b22b",
       "max": 5,
       "style": "IPY_MODEL_45aa8b2988b94728ac1cf7ebcbfbdf59",
       "value": 5
      }
     },
     "75abd621007d48a5acc3c17e7bad5dc3": {
      "model_module": "@jupyter-widgets/base",
      "model_module_version": "1.2.0",
      "model_name": "LayoutModel",
      "state": {}
     },
     "75d0d0f226004e76a118c477c05911b6": {
      "model_module": "@jupyter-widgets/base",
      "model_module_version": "1.2.0",
      "model_name": "LayoutModel",
      "state": {}
     },
     "75e55b13c1b04f6b81a4c6710046b5ec": {
      "model_module": "@jupyter-widgets/base",
      "model_module_version": "1.2.0",
      "model_name": "LayoutModel",
      "state": {}
     },
     "75fb12c294cf424db33f6c3089432d6e": {
      "model_module": "@jupyter-widgets/controls",
      "model_module_version": "1.5.0",
      "model_name": "DescriptionStyleModel",
      "state": {
       "description_width": ""
      }
     },
     "760530c994fc4605a98e6acb5624a746": {
      "model_module": "@jupyter-widgets/controls",
      "model_module_version": "1.5.0",
      "model_name": "HTMLModel",
      "state": {
       "layout": "IPY_MODEL_ccd299c596fb403b942be1aa97735486",
       "style": "IPY_MODEL_f6b6e18e4b47467aa5e9b375c177d768",
       "value": "100%"
      }
     },
     "760b04fbcb724b44be1932876de8a705": {
      "model_module": "@jupyter-widgets/controls",
      "model_module_version": "1.5.0",
      "model_name": "HTMLModel",
      "state": {
       "layout": "IPY_MODEL_b70128e9565b4b3581b362d6211ab681",
       "style": "IPY_MODEL_c07920d9bbf44466b4e155ae36213b93",
       "value": "100%"
      }
     },
     "761b5ccc157b44d29037eb8cbcd4f581": {
      "model_module": "@jupyter-widgets/controls",
      "model_module_version": "1.5.0",
      "model_name": "FloatProgressModel",
      "state": {
       "bar_style": "success",
       "layout": "IPY_MODEL_036054edb55c458da194e84465bfb11f",
       "max": 5,
       "style": "IPY_MODEL_f89b8e0b95f948be86c25b649c1f3bfb",
       "value": 5
      }
     },
     "76621d98b499496cab0d0dcae88b9f59": {
      "model_module": "@jupyter-widgets/base",
      "model_module_version": "1.2.0",
      "model_name": "LayoutModel",
      "state": {}
     },
     "7664bf86cb9943c3b6f77d2e0c871daa": {
      "model_module": "@jupyter-widgets/controls",
      "model_module_version": "1.5.0",
      "model_name": "HTMLModel",
      "state": {
       "layout": "IPY_MODEL_fa108c68502e4c99b3470317fb530769",
       "style": "IPY_MODEL_0c30aa66c24d46ad8109985ff7e0d4aa",
       "value": "100%"
      }
     },
     "769b3a30fc4e40bbbd2bfef8973954a0": {
      "model_module": "@jupyter-widgets/controls",
      "model_module_version": "1.5.0",
      "model_name": "HBoxModel",
      "state": {
       "children": [
        "IPY_MODEL_0b7969768f5f4415b7e0c3cfc58ca02c",
        "IPY_MODEL_e087c33ce85a4824a2a1d639045098bd",
        "IPY_MODEL_e99101f0faaa4ab4a86854d8f5cd5d3d"
       ],
       "layout": "IPY_MODEL_9e64ef2b28be4f01b4d864a834ea2010"
      }
     },
     "76bc97439d2f4c65b87236d29c2c4d97": {
      "model_module": "@jupyter-widgets/base",
      "model_module_version": "1.2.0",
      "model_name": "LayoutModel",
      "state": {}
     },
     "76c8f11cac6e49c99a047d341b150d4d": {
      "model_module": "@jupyter-widgets/base",
      "model_module_version": "1.2.0",
      "model_name": "LayoutModel",
      "state": {}
     },
     "7707147f63104511b71f76dd2ecfef95": {
      "model_module": "@jupyter-widgets/controls",
      "model_module_version": "1.5.0",
      "model_name": "HTMLModel",
      "state": {
       "layout": "IPY_MODEL_f01f0101bde84f67971c36050b7a0c65",
       "style": "IPY_MODEL_3ae957b88e7b448abe357c59a99f4f2f",
       "value": "100%"
      }
     },
     "77300182e4de472184d6489f694dc237": {
      "model_module": "@jupyter-widgets/controls",
      "model_module_version": "1.5.0",
      "model_name": "FloatProgressModel",
      "state": {
       "bar_style": "success",
       "layout": "IPY_MODEL_c2c2fb9114ff414899abb01f11093b1c",
       "max": 5,
       "style": "IPY_MODEL_e4ef352e64d34063b914cfc14f00e113",
       "value": 5
      }
     },
     "77c9837c0c6144f98771afeff30bec70": {
      "model_module": "@jupyter-widgets/controls",
      "model_module_version": "1.5.0",
      "model_name": "ProgressStyleModel",
      "state": {
       "description_width": ""
      }
     },
     "780e49cb630248e0b8751f14cfb8102b": {
      "model_module": "@jupyter-widgets/base",
      "model_module_version": "1.2.0",
      "model_name": "LayoutModel",
      "state": {}
     },
     "781f8aafe80b4b4d956935c391dc73cc": {
      "model_module": "@jupyter-widgets/controls",
      "model_module_version": "1.5.0",
      "model_name": "DescriptionStyleModel",
      "state": {
       "description_width": ""
      }
     },
     "7854fbc467b34beeab15e2c0fddb5a42": {
      "model_module": "@jupyter-widgets/base",
      "model_module_version": "1.2.0",
      "model_name": "LayoutModel",
      "state": {}
     },
     "78f8295fff2245d090480f1d3c5611ad": {
      "model_module": "@jupyter-widgets/controls",
      "model_module_version": "1.5.0",
      "model_name": "HBoxModel",
      "state": {
       "children": [
        "IPY_MODEL_1ebcaf110fc94cf8b0cf9aa54e55f10f",
        "IPY_MODEL_a9fee4de23c943dcb9bca5991d5af6dd",
        "IPY_MODEL_dcd1eea9a5b24179a03e91fa45ff38b1"
       ],
       "layout": "IPY_MODEL_4891c0f7d3b548ae8a011fccd2aab8f2"
      }
     },
     "790096b1985b4de0a1f212ffa2c5e72a": {
      "model_module": "@jupyter-widgets/base",
      "model_module_version": "1.2.0",
      "model_name": "LayoutModel",
      "state": {}
     },
     "7903b1e8e4634e32819290c97c642699": {
      "model_module": "@jupyter-widgets/base",
      "model_module_version": "1.2.0",
      "model_name": "LayoutModel",
      "state": {}
     },
     "79b44d9fac3c4db5b0ce8ba0cce221f9": {
      "model_module": "@jupyter-widgets/base",
      "model_module_version": "1.2.0",
      "model_name": "LayoutModel",
      "state": {}
     },
     "79b770b91fc14bb9bcacfe24f80c88a8": {
      "model_module": "@jupyter-widgets/base",
      "model_module_version": "1.2.0",
      "model_name": "LayoutModel",
      "state": {}
     },
     "79c2d45856434b20b09474ab58f1488b": {
      "model_module": "@jupyter-widgets/base",
      "model_module_version": "1.2.0",
      "model_name": "LayoutModel",
      "state": {}
     },
     "79ca06ecd5f046f7a3a7e5361862adbc": {
      "model_module": "@jupyter-widgets/controls",
      "model_module_version": "1.5.0",
      "model_name": "HTMLModel",
      "state": {
       "layout": "IPY_MODEL_bb0be8531fa64fb4889e270367221050",
       "style": "IPY_MODEL_5ef2094f5aa14e31aa7f49cc070ee2df",
       "value": " 5/5 [00:13&lt;00:00,  2.79s/it]"
      }
     },
     "79e1d7abde0348f884121dcdff608b15": {
      "model_module": "@jupyter-widgets/controls",
      "model_module_version": "1.5.0",
      "model_name": "HBoxModel",
      "state": {
       "children": [
        "IPY_MODEL_43e5e200622b482bbeeb2729fcf80c65",
        "IPY_MODEL_234bd62613984c2199204438229c0e49",
        "IPY_MODEL_694add9764d341119e4da7663bcdefe4"
       ],
       "layout": "IPY_MODEL_2f755b75250740f6997bd46dd1425a2a"
      }
     },
     "7a075b3fa254472685419f9535503645": {
      "model_module": "@jupyter-widgets/controls",
      "model_module_version": "1.5.0",
      "model_name": "FloatProgressModel",
      "state": {
       "bar_style": "success",
       "layout": "IPY_MODEL_3ea60b50eaf641279c22877dd0a99621",
       "max": 5,
       "style": "IPY_MODEL_899d0714b2ba4a29aeb185f78c15196c",
       "value": 5
      }
     },
     "7a2e51f949814237a4f2f2e85ebc7427": {
      "model_module": "@jupyter-widgets/base",
      "model_module_version": "1.2.0",
      "model_name": "LayoutModel",
      "state": {}
     },
     "7ab2a86be980417086aeb8734968bc6d": {
      "model_module": "@jupyter-widgets/controls",
      "model_module_version": "1.5.0",
      "model_name": "HTMLModel",
      "state": {
       "layout": "IPY_MODEL_d70a2b8a01f54c409de4462b137d0787",
       "style": "IPY_MODEL_307d0154d9dc4dc8b038a0995a1181ef",
       "value": " 5/5 [11:37&lt;00:00, 139.07s/it]"
      }
     },
     "7af3903aef924095a526025d872916a6": {
      "model_module": "@jupyter-widgets/base",
      "model_module_version": "1.2.0",
      "model_name": "LayoutModel",
      "state": {}
     },
     "7b03dc0d86e7460d8bf887c5ef25f47a": {
      "model_module": "@jupyter-widgets/controls",
      "model_module_version": "1.5.0",
      "model_name": "HTMLModel",
      "state": {
       "layout": "IPY_MODEL_62e964d660944e3c91b8da817fe96219",
       "style": "IPY_MODEL_57920876a01a46b09fc431512b4859db",
       "value": " 5/5 [00:04&lt;00:00,  1.01it/s]"
      }
     },
     "7b585f0b6aa846a3a192b075769d193c": {
      "model_module": "@jupyter-widgets/base",
      "model_module_version": "1.2.0",
      "model_name": "LayoutModel",
      "state": {}
     },
     "7b5fc1e883994a88b1e06f3afc077dd0": {
      "model_module": "@jupyter-widgets/base",
      "model_module_version": "1.2.0",
      "model_name": "LayoutModel",
      "state": {}
     },
     "7b6f4f9d61d0436bbd4ab544bf078bf8": {
      "model_module": "@jupyter-widgets/controls",
      "model_module_version": "1.5.0",
      "model_name": "DescriptionStyleModel",
      "state": {
       "description_width": ""
      }
     },
     "7bb98fe4d25c44409c5de8d755952c71": {
      "model_module": "@jupyter-widgets/base",
      "model_module_version": "1.2.0",
      "model_name": "LayoutModel",
      "state": {}
     },
     "7bbdd73534b4483698abc35f89b49375": {
      "model_module": "@jupyter-widgets/controls",
      "model_module_version": "1.5.0",
      "model_name": "HTMLModel",
      "state": {
       "layout": "IPY_MODEL_63738820f8e347c5882bcbf59a315390",
       "style": "IPY_MODEL_fc95d6e785e149e98b66151d2fcd12ac",
       "value": " 5/5 [13:49&lt;00:00, 166.82s/it]"
      }
     },
     "7bf760bc517040a9beadd38b32c543b3": {
      "model_module": "@jupyter-widgets/controls",
      "model_module_version": "1.5.0",
      "model_name": "DescriptionStyleModel",
      "state": {
       "description_width": ""
      }
     },
     "7c05fcb6a1a34997b9d57555f36a4768": {
      "model_module": "@jupyter-widgets/controls",
      "model_module_version": "1.5.0",
      "model_name": "HTMLModel",
      "state": {
       "layout": "IPY_MODEL_ed402221e613447c8d7ad7e0691a952d",
       "style": "IPY_MODEL_ee8816941bbb45f58186f0e3c36df709",
       "value": " 5/5 [12:53&lt;00:00, 154.31s/it]"
      }
     },
     "7c19932a2dbe4058bca9d14afb6d08a9": {
      "model_module": "@jupyter-widgets/controls",
      "model_module_version": "1.5.0",
      "model_name": "DescriptionStyleModel",
      "state": {
       "description_width": ""
      }
     },
     "7c1b793f86694dc580c1bf6a9a4a84e7": {
      "model_module": "@jupyter-widgets/controls",
      "model_module_version": "1.5.0",
      "model_name": "HTMLModel",
      "state": {
       "layout": "IPY_MODEL_ca926aea4f1e4ae3884cbcab1c2a35c2",
       "style": "IPY_MODEL_548fe932e846443b977f7815f65a3d9d",
       "value": " 5/5 [00:04&lt;00:00,  1.07it/s]"
      }
     },
     "7c352a1cbf444477bda7c621e5b1fed3": {
      "model_module": "@jupyter-widgets/controls",
      "model_module_version": "1.5.0",
      "model_name": "ProgressStyleModel",
      "state": {
       "description_width": ""
      }
     },
     "7c6210ab6dd64e84a5c57e38fb7be047": {
      "model_module": "@jupyter-widgets/controls",
      "model_module_version": "1.5.0",
      "model_name": "FloatProgressModel",
      "state": {
       "bar_style": "success",
       "layout": "IPY_MODEL_9093f57880a542c1a52b8623594c1ea5",
       "max": 5,
       "style": "IPY_MODEL_93ef185430b14576ac8375bdd4588024",
       "value": 5
      }
     },
     "7c75acd5fa18424c8438a74c24d2487b": {
      "model_module": "@jupyter-widgets/controls",
      "model_module_version": "1.5.0",
      "model_name": "HBoxModel",
      "state": {
       "children": [
        "IPY_MODEL_26bb202f5fab4508a99361085a8ba806",
        "IPY_MODEL_278a8d7c164c4586b412175374b2dc70",
        "IPY_MODEL_a0d8b37524164bb289ae43f8a86b7598"
       ],
       "layout": "IPY_MODEL_8b1e0af1f4d84414b1c9be09154cec23"
      }
     },
     "7cb2d21478964dcba92949173884bce5": {
      "model_module": "@jupyter-widgets/controls",
      "model_module_version": "1.5.0",
      "model_name": "ProgressStyleModel",
      "state": {
       "description_width": ""
      }
     },
     "7cce8d98f36f4dda826376a675e69ff8": {
      "model_module": "@jupyter-widgets/controls",
      "model_module_version": "1.5.0",
      "model_name": "DescriptionStyleModel",
      "state": {
       "description_width": ""
      }
     },
     "7cd8d93f63d04380ac29636c72f38253": {
      "model_module": "@jupyter-widgets/controls",
      "model_module_version": "1.5.0",
      "model_name": "HTMLModel",
      "state": {
       "layout": "IPY_MODEL_08a6e94050c04524b9df885a32f6daa1",
       "style": "IPY_MODEL_8b3cd7a914f444729eec36a85e5ce615",
       "value": "100%"
      }
     },
     "7e4c552ed0c145d682db6da5ae8bebdd": {
      "model_module": "@jupyter-widgets/controls",
      "model_module_version": "1.5.0",
      "model_name": "FloatProgressModel",
      "state": {
       "bar_style": "success",
       "layout": "IPY_MODEL_2925ccd32b0a4c6c92444c69760eb6d7",
       "max": 5,
       "style": "IPY_MODEL_7c352a1cbf444477bda7c621e5b1fed3",
       "value": 5
      }
     },
     "7e5cdb2f1ebc4e67a0ff59a39229fb6e": {
      "model_module": "@jupyter-widgets/base",
      "model_module_version": "1.2.0",
      "model_name": "LayoutModel",
      "state": {}
     },
     "7e6b1db75d05458ca3f7eccbe0697adb": {
      "model_module": "@jupyter-widgets/controls",
      "model_module_version": "1.5.0",
      "model_name": "HTMLModel",
      "state": {
       "layout": "IPY_MODEL_e8a37c4098e3434884178c43dcbd3157",
       "style": "IPY_MODEL_14c7640df5e346ff8a9432cf375b2a80",
       "value": "100%"
      }
     },
     "7ed0f13480144d91bae77d5291a29839": {
      "model_module": "@jupyter-widgets/base",
      "model_module_version": "1.2.0",
      "model_name": "LayoutModel",
      "state": {}
     },
     "7eebbc8366704aacacd72affdf7e93ec": {
      "model_module": "@jupyter-widgets/controls",
      "model_module_version": "1.5.0",
      "model_name": "HTMLModel",
      "state": {
       "layout": "IPY_MODEL_05af572fcace40c891c794faf5f62350",
       "style": "IPY_MODEL_d15cee3b2a114e328bd16507f6a20cca",
       "value": " 5/5 [00:05&lt;00:00,  1.13s/it]"
      }
     },
     "8000f184ab9940389b37b188a742f83f": {
      "model_module": "@jupyter-widgets/controls",
      "model_module_version": "1.5.0",
      "model_name": "FloatProgressModel",
      "state": {
       "bar_style": "success",
       "layout": "IPY_MODEL_eefaac2f18844c8a9ba4f8df1b9d7131",
       "max": 5,
       "style": "IPY_MODEL_f8867ed551ad49448bdcfc3c94e1d945",
       "value": 5
      }
     },
     "800489897d3444918afc9896cb5686e9": {
      "model_module": "@jupyter-widgets/base",
      "model_module_version": "1.2.0",
      "model_name": "LayoutModel",
      "state": {}
     },
     "805fe228cdfc4e66a155bfb46a592088": {
      "model_module": "@jupyter-widgets/controls",
      "model_module_version": "1.5.0",
      "model_name": "DescriptionStyleModel",
      "state": {
       "description_width": ""
      }
     },
     "80af942a0e59438f902765ddbcbbe813": {
      "model_module": "@jupyter-widgets/controls",
      "model_module_version": "1.5.0",
      "model_name": "HBoxModel",
      "state": {
       "children": [
        "IPY_MODEL_8413b2b6b8864ceeb6f38a47856687c9",
        "IPY_MODEL_18ff79902354426c844b38743af4f5cc",
        "IPY_MODEL_27065a27c75e496787c2b75f28392496"
       ],
       "layout": "IPY_MODEL_cd759c23491342e08648050375442109"
      }
     },
     "8178b60dcfc54add9e34fc38dc794d48": {
      "model_module": "@jupyter-widgets/controls",
      "model_module_version": "1.5.0",
      "model_name": "ProgressStyleModel",
      "state": {
       "description_width": ""
      }
     },
     "81be6f5e73ce40cc89f29243f435917c": {
      "model_module": "@jupyter-widgets/controls",
      "model_module_version": "1.5.0",
      "model_name": "HTMLModel",
      "state": {
       "layout": "IPY_MODEL_c7c63faf7e8243248c827c785a2821e6",
       "style": "IPY_MODEL_aec447bc53ee47f9ab6d05c16c8ba3a2",
       "value": " 5/5 [00:15&lt;00:00,  3.03s/it]"
      }
     },
     "81e6bbd729d54c80bfdba322a8350e03": {
      "model_module": "@jupyter-widgets/controls",
      "model_module_version": "1.5.0",
      "model_name": "DescriptionStyleModel",
      "state": {
       "description_width": ""
      }
     },
     "820d84c6b9444768a765eb62ae81f0f9": {
      "model_module": "@jupyter-widgets/controls",
      "model_module_version": "1.5.0",
      "model_name": "DescriptionStyleModel",
      "state": {
       "description_width": ""
      }
     },
     "8217c1adcdee4887bcbdc2a0d9cef595": {
      "model_module": "@jupyter-widgets/controls",
      "model_module_version": "1.5.0",
      "model_name": "DescriptionStyleModel",
      "state": {
       "description_width": ""
      }
     },
     "823d9ebe711e4156a40018c4a1ed9dd4": {
      "model_module": "@jupyter-widgets/controls",
      "model_module_version": "1.5.0",
      "model_name": "DescriptionStyleModel",
      "state": {
       "description_width": ""
      }
     },
     "8284a74d3e3447e882337a5422f969bd": {
      "model_module": "@jupyter-widgets/controls",
      "model_module_version": "1.5.0",
      "model_name": "DescriptionStyleModel",
      "state": {
       "description_width": ""
      }
     },
     "8303943df9794317ac21c8aa5f9b7aeb": {
      "model_module": "@jupyter-widgets/controls",
      "model_module_version": "1.5.0",
      "model_name": "FloatProgressModel",
      "state": {
       "bar_style": "success",
       "layout": "IPY_MODEL_6ea1227f1cd24133bb68aa28ee6048b8",
       "max": 5,
       "style": "IPY_MODEL_855044ba07994414b1773e061d575b53",
       "value": 5
      }
     },
     "830b1d2dca6d4e98b5ff0012a7cc77ab": {
      "model_module": "@jupyter-widgets/controls",
      "model_module_version": "1.5.0",
      "model_name": "DescriptionStyleModel",
      "state": {
       "description_width": ""
      }
     },
     "830fe7bcd37a433c82e9ffe92033f18f": {
      "model_module": "@jupyter-widgets/base",
      "model_module_version": "1.2.0",
      "model_name": "LayoutModel",
      "state": {}
     },
     "83b5b4925467457fb1cb99c6f1799471": {
      "model_module": "@jupyter-widgets/base",
      "model_module_version": "1.2.0",
      "model_name": "LayoutModel",
      "state": {}
     },
     "83c4148f380740c89e0f59d888b2afb3": {
      "model_module": "@jupyter-widgets/controls",
      "model_module_version": "1.5.0",
      "model_name": "FloatProgressModel",
      "state": {
       "bar_style": "success",
       "layout": "IPY_MODEL_2cea7d9c1eab4de2a0963f98d952fb7e",
       "max": 5,
       "style": "IPY_MODEL_09a0848bd6df415cb4b40ea37c20c98e",
       "value": 5
      }
     },
     "83d7d379fa6648b59caa24657763aebc": {
      "model_module": "@jupyter-widgets/controls",
      "model_module_version": "1.5.0",
      "model_name": "HTMLModel",
      "state": {
       "layout": "IPY_MODEL_2c5e07f56d5e486699590b3a671fda50",
       "style": "IPY_MODEL_187c637886d04b8eab6048192441465c",
       "value": " 1/5 [00:01&lt;00:04,  1.12s/it]"
      }
     },
     "8413b2b6b8864ceeb6f38a47856687c9": {
      "model_module": "@jupyter-widgets/controls",
      "model_module_version": "1.5.0",
      "model_name": "HTMLModel",
      "state": {
       "layout": "IPY_MODEL_c847f79ce69c496393c8b5095e777bb7",
       "style": "IPY_MODEL_f3913a1377814619a30d11a4275f75e9",
       "value": "100%"
      }
     },
     "849d8cd6bb774ba09113f32cd1d6e6bb": {
      "model_module": "@jupyter-widgets/controls",
      "model_module_version": "1.5.0",
      "model_name": "FloatProgressModel",
      "state": {
       "bar_style": "success",
       "layout": "IPY_MODEL_8d3f6511b7ef408ab07761d64bf4b319",
       "max": 5,
       "style": "IPY_MODEL_a8c2766e830340cca3dea45919ca3c52",
       "value": 5
      }
     },
     "84b6217d0ced4d9789aba6e9f526a39a": {
      "model_module": "@jupyter-widgets/controls",
      "model_module_version": "1.5.0",
      "model_name": "FloatProgressModel",
      "state": {
       "bar_style": "success",
       "layout": "IPY_MODEL_350d75262d124426a1af064b69a05a04",
       "max": 5,
       "style": "IPY_MODEL_59bbb68b750648ddbc6c2e35c6cc8173",
       "value": 5
      }
     },
     "84effec0ac8e48059b20514897e8dd8e": {
      "model_module": "@jupyter-widgets/base",
      "model_module_version": "1.2.0",
      "model_name": "LayoutModel",
      "state": {}
     },
     "850724a6b8cf43a0bc78b09def1e1f5b": {
      "model_module": "@jupyter-widgets/controls",
      "model_module_version": "1.5.0",
      "model_name": "HTMLModel",
      "state": {
       "layout": "IPY_MODEL_934dcfbeaca14774824ac64d392f90bb",
       "style": "IPY_MODEL_2572cef2fb4b45a3901fd7f2686b8fa6",
       "value": " 5/5 [00:12&lt;00:00,  2.56s/it]"
      }
     },
     "8539324fd39f45fe81285607c261688d": {
      "model_module": "@jupyter-widgets/base",
      "model_module_version": "1.2.0",
      "model_name": "LayoutModel",
      "state": {}
     },
     "85498c92230443d89594b05ce8b11cdd": {
      "model_module": "@jupyter-widgets/controls",
      "model_module_version": "1.5.0",
      "model_name": "HTMLModel",
      "state": {
       "layout": "IPY_MODEL_920272fad80f4121a958c8757b54f750",
       "style": "IPY_MODEL_19c60237cfbf4828bd7a5afaa7fc3d3d",
       "value": "100%"
      }
     },
     "855044ba07994414b1773e061d575b53": {
      "model_module": "@jupyter-widgets/controls",
      "model_module_version": "1.5.0",
      "model_name": "ProgressStyleModel",
      "state": {
       "description_width": ""
      }
     },
     "858af1f796d544419220554804563a07": {
      "model_module": "@jupyter-widgets/controls",
      "model_module_version": "1.5.0",
      "model_name": "FloatProgressModel",
      "state": {
       "bar_style": "success",
       "layout": "IPY_MODEL_a318157b76a24b37ad398b0f449bec2e",
       "max": 5,
       "style": "IPY_MODEL_f36b4c0c5be745089cf369721dcc6552",
       "value": 5
      }
     },
     "858ba27d9ecb406c8c40d849aff1e811": {
      "model_module": "@jupyter-widgets/controls",
      "model_module_version": "1.5.0",
      "model_name": "HTMLModel",
      "state": {
       "layout": "IPY_MODEL_eba518406a8e4de6bb6962db2f905d0b",
       "style": "IPY_MODEL_bab5c6919eaf42ed872e9975ddfdd949",
       "value": "100%"
      }
     },
     "858d58a204274918b4e913dfa8f63cef": {
      "model_module": "@jupyter-widgets/base",
      "model_module_version": "1.2.0",
      "model_name": "LayoutModel",
      "state": {}
     },
     "85962dd919834820b4773473851a049e": {
      "model_module": "@jupyter-widgets/controls",
      "model_module_version": "1.5.0",
      "model_name": "DescriptionStyleModel",
      "state": {
       "description_width": ""
      }
     },
     "85c283aaca2a4a57a3efc4a1e4d34414": {
      "model_module": "@jupyter-widgets/base",
      "model_module_version": "1.2.0",
      "model_name": "LayoutModel",
      "state": {}
     },
     "85cbf3b4db8743a390c6f5ed90dabf68": {
      "model_module": "@jupyter-widgets/controls",
      "model_module_version": "1.5.0",
      "model_name": "DescriptionStyleModel",
      "state": {
       "description_width": ""
      }
     },
     "862474802cb649f6a1c98dd4b59f266a": {
      "model_module": "@jupyter-widgets/controls",
      "model_module_version": "1.5.0",
      "model_name": "DescriptionStyleModel",
      "state": {
       "description_width": ""
      }
     },
     "86273a57fef043208711f50ee2b683de": {
      "model_module": "@jupyter-widgets/controls",
      "model_module_version": "1.5.0",
      "model_name": "HBoxModel",
      "state": {
       "children": [
        "IPY_MODEL_15d5b13d5c894e81a7ddf7fa0198feab",
        "IPY_MODEL_e83cb87f0822406d982c677b44a4ed80",
        "IPY_MODEL_3285cab6ea5e445da1684eff57755744"
       ],
       "layout": "IPY_MODEL_33c0b15ad0cd4bd4aa3f772469c9493e"
      }
     },
     "863c2e13e68246afb794387a8bd76b20": {
      "model_module": "@jupyter-widgets/controls",
      "model_module_version": "1.5.0",
      "model_name": "DescriptionStyleModel",
      "state": {
       "description_width": ""
      }
     },
     "863e0661223d40ac9d52e0f6c3759e7f": {
      "model_module": "@jupyter-widgets/controls",
      "model_module_version": "1.5.0",
      "model_name": "DescriptionStyleModel",
      "state": {
       "description_width": ""
      }
     },
     "865bb690b0314d9597761abe80518ffc": {
      "model_module": "@jupyter-widgets/controls",
      "model_module_version": "1.5.0",
      "model_name": "FloatProgressModel",
      "state": {
       "bar_style": "success",
       "layout": "IPY_MODEL_e3bad33b61064ab79265a944d24042ab",
       "max": 5,
       "style": "IPY_MODEL_639b2f110a5b44c1bfd37011bc95f7ec",
       "value": 5
      }
     },
     "8688417ca1e046209b06c116cffdabf6": {
      "model_module": "@jupyter-widgets/controls",
      "model_module_version": "1.5.0",
      "model_name": "DescriptionStyleModel",
      "state": {
       "description_width": ""
      }
     },
     "86c50b8556f44b08abdf81f063ef67a9": {
      "model_module": "@jupyter-widgets/base",
      "model_module_version": "1.2.0",
      "model_name": "LayoutModel",
      "state": {}
     },
     "8713730aef234c81855e4a50fa851751": {
      "model_module": "@jupyter-widgets/controls",
      "model_module_version": "1.5.0",
      "model_name": "FloatProgressModel",
      "state": {
       "bar_style": "success",
       "layout": "IPY_MODEL_ea21a6e201f54b9c949b31fd86047cad",
       "max": 5,
       "style": "IPY_MODEL_9275e9285d904de0b0895bd325e1570f",
       "value": 5
      }
     },
     "872fbb423b664c58aa2c27142bdb487f": {
      "model_module": "@jupyter-widgets/controls",
      "model_module_version": "1.5.0",
      "model_name": "HTMLModel",
      "state": {
       "layout": "IPY_MODEL_eaa4370eb95a4b67afc968c9e511e9c3",
       "style": "IPY_MODEL_afa0ce2ba32546548cb1e26f0b098804",
       "value": "100%"
      }
     },
     "87747f9636a14b7caa45726c06c9cf38": {
      "model_module": "@jupyter-widgets/controls",
      "model_module_version": "1.5.0",
      "model_name": "DescriptionStyleModel",
      "state": {
       "description_width": ""
      }
     },
     "87782863130645cca1a745417e050e76": {
      "model_module": "@jupyter-widgets/base",
      "model_module_version": "1.2.0",
      "model_name": "LayoutModel",
      "state": {}
     },
     "877cb462dd2040b9b5d7779d71809ea4": {
      "model_module": "@jupyter-widgets/base",
      "model_module_version": "1.2.0",
      "model_name": "LayoutModel",
      "state": {}
     },
     "878583eba69746b880f1a01c0ff40685": {
      "model_module": "@jupyter-widgets/controls",
      "model_module_version": "1.5.0",
      "model_name": "DescriptionStyleModel",
      "state": {
       "description_width": ""
      }
     },
     "8791c128d51143ca85776a38f6cdb39b": {
      "model_module": "@jupyter-widgets/base",
      "model_module_version": "1.2.0",
      "model_name": "LayoutModel",
      "state": {}
     },
     "87925054060345a5b7aeb85ede65bcdf": {
      "model_module": "@jupyter-widgets/controls",
      "model_module_version": "1.5.0",
      "model_name": "DescriptionStyleModel",
      "state": {
       "description_width": ""
      }
     },
     "87bdab018c9d4b9d8efa6e3800c87203": {
      "model_module": "@jupyter-widgets/controls",
      "model_module_version": "1.5.0",
      "model_name": "DescriptionStyleModel",
      "state": {
       "description_width": ""
      }
     },
     "87bfdb994f36416ba7470e0381669c50": {
      "model_module": "@jupyter-widgets/controls",
      "model_module_version": "1.5.0",
      "model_name": "HBoxModel",
      "state": {
       "children": [
        "IPY_MODEL_760530c994fc4605a98e6acb5624a746",
        "IPY_MODEL_72f20e3df4ee454aa55896966cae6a7a",
        "IPY_MODEL_343036a399c545d185bf38423f9b5833"
       ],
       "layout": "IPY_MODEL_de435555f6864c3b8f8a6589d9d46619"
      }
     },
     "87fabac7205e46a8aaf45fda8a27117a": {
      "model_module": "@jupyter-widgets/controls",
      "model_module_version": "1.5.0",
      "model_name": "HTMLModel",
      "state": {
       "layout": "IPY_MODEL_36dad58f481e459c9f9c9dee07bbe54e",
       "style": "IPY_MODEL_be5fd8ab4e3043cabb2c200becd9695d",
       "value": "100%"
      }
     },
     "880e75380a2c40d9b6e81ca408bad573": {
      "model_module": "@jupyter-widgets/controls",
      "model_module_version": "1.5.0",
      "model_name": "DescriptionStyleModel",
      "state": {
       "description_width": ""
      }
     },
     "881f7a008bdc4b2e9de88c2e33c72c21": {
      "model_module": "@jupyter-widgets/controls",
      "model_module_version": "1.5.0",
      "model_name": "HTMLModel",
      "state": {
       "layout": "IPY_MODEL_052a61e4853e4597a46e56a27874950d",
       "style": "IPY_MODEL_4d67455dcadd4382a99c172bab9ca897",
       "value": "100%"
      }
     },
     "881f825aafac41429e5436965d5a2616": {
      "model_module": "@jupyter-widgets/controls",
      "model_module_version": "1.5.0",
      "model_name": "FloatProgressModel",
      "state": {
       "bar_style": "success",
       "layout": "IPY_MODEL_7af3903aef924095a526025d872916a6",
       "max": 5,
       "style": "IPY_MODEL_8a5808d215254665a197b08fb4ba6d94",
       "value": 5
      }
     },
     "88225125122343018a06f1fe671dc599": {
      "model_module": "@jupyter-widgets/base",
      "model_module_version": "1.2.0",
      "model_name": "LayoutModel",
      "state": {}
     },
     "88460aaafcd443e3ab7d07a7a25b86f3": {
      "model_module": "@jupyter-widgets/base",
      "model_module_version": "1.2.0",
      "model_name": "LayoutModel",
      "state": {}
     },
     "88865f0357fc40dababe17b81519388d": {
      "model_module": "@jupyter-widgets/controls",
      "model_module_version": "1.5.0",
      "model_name": "FloatProgressModel",
      "state": {
       "bar_style": "success",
       "layout": "IPY_MODEL_fc1ad0ac257c4b489899d9521a96e282",
       "max": 5,
       "style": "IPY_MODEL_ae66082986774d089d9d70fca24b4d10",
       "value": 5
      }
     },
     "888db0b467374a86b6be36deacf727d9": {
      "model_module": "@jupyter-widgets/base",
      "model_module_version": "1.2.0",
      "model_name": "LayoutModel",
      "state": {}
     },
     "88c3a71c9eec40469e4b6bb10a7b0df0": {
      "model_module": "@jupyter-widgets/base",
      "model_module_version": "1.2.0",
      "model_name": "LayoutModel",
      "state": {}
     },
     "8903cee4c95440329470dbc9ceae5436": {
      "model_module": "@jupyter-widgets/base",
      "model_module_version": "1.2.0",
      "model_name": "LayoutModel",
      "state": {}
     },
     "890b19e61b374c7e95aaded2771ec123": {
      "model_module": "@jupyter-widgets/base",
      "model_module_version": "1.2.0",
      "model_name": "LayoutModel",
      "state": {}
     },
     "891ce506cb1e46188517a2324ac0bc30": {
      "model_module": "@jupyter-widgets/base",
      "model_module_version": "1.2.0",
      "model_name": "LayoutModel",
      "state": {}
     },
     "892682c9be3147239af261ba14b2d98e": {
      "model_module": "@jupyter-widgets/controls",
      "model_module_version": "1.5.0",
      "model_name": "FloatProgressModel",
      "state": {
       "bar_style": "success",
       "layout": "IPY_MODEL_52028b1518f443bda40e1d00828cd0ab",
       "max": 5,
       "style": "IPY_MODEL_3caddafca0794ae0bc777a747597ab3b",
       "value": 5
      }
     },
     "89516005e6074ea9a81586a0fc6eebec": {
      "model_module": "@jupyter-widgets/controls",
      "model_module_version": "1.5.0",
      "model_name": "HBoxModel",
      "state": {
       "children": [
        "IPY_MODEL_20ea935576b441479bf44776b44c04f2",
        "IPY_MODEL_f9a7d9870db24ae29c61f18e71787479",
        "IPY_MODEL_e2380ff915d748529a25f0ba5ff4c012"
       ],
       "layout": "IPY_MODEL_3fa650b1dd95484db85569d23abce0f7"
      }
     },
     "898ead2e8a3d4ee1a4182b419fad20ed": {
      "model_module": "@jupyter-widgets/base",
      "model_module_version": "1.2.0",
      "model_name": "LayoutModel",
      "state": {}
     },
     "899d0714b2ba4a29aeb185f78c15196c": {
      "model_module": "@jupyter-widgets/controls",
      "model_module_version": "1.5.0",
      "model_name": "ProgressStyleModel",
      "state": {
       "description_width": ""
      }
     },
     "899f9f73e67b49a7a87134f75f782ffa": {
      "model_module": "@jupyter-widgets/base",
      "model_module_version": "1.2.0",
      "model_name": "LayoutModel",
      "state": {}
     },
     "89abf5cae048435498269310bd968526": {
      "model_module": "@jupyter-widgets/controls",
      "model_module_version": "1.5.0",
      "model_name": "DescriptionStyleModel",
      "state": {
       "description_width": ""
      }
     },
     "8a081ac3743543b69baf2696cdcc0107": {
      "model_module": "@jupyter-widgets/controls",
      "model_module_version": "1.5.0",
      "model_name": "HTMLModel",
      "state": {
       "layout": "IPY_MODEL_4874c5ba96fa41bcbc04bc2299db6fe6",
       "style": "IPY_MODEL_1602e37b1ed94882b059d2233ee0aafe",
       "value": " 5/5 [12:37&lt;00:00, 151.23s/it]"
      }
     },
     "8a1d460dc22b4991b1ddb46855ac76d3": {
      "model_module": "@jupyter-widgets/controls",
      "model_module_version": "1.5.0",
      "model_name": "HTMLModel",
      "state": {
       "layout": "IPY_MODEL_1396b98735ec4867b0b98d4641cc9480",
       "style": "IPY_MODEL_d01f095be9284806a4de5ef157f4625b",
       "value": "100%"
      }
     },
     "8a4f7613dbc34c20ac57fc38a6b9f57f": {
      "model_module": "@jupyter-widgets/base",
      "model_module_version": "1.2.0",
      "model_name": "LayoutModel",
      "state": {}
     },
     "8a5808d215254665a197b08fb4ba6d94": {
      "model_module": "@jupyter-widgets/controls",
      "model_module_version": "1.5.0",
      "model_name": "ProgressStyleModel",
      "state": {
       "description_width": ""
      }
     },
     "8a65fcba6791471cae1ff5fcba68c945": {
      "model_module": "@jupyter-widgets/controls",
      "model_module_version": "1.5.0",
      "model_name": "FloatProgressModel",
      "state": {
       "bar_style": "success",
       "layout": "IPY_MODEL_29a79e8c2242402aaa6de7cf4dbb784b",
       "max": 5,
       "style": "IPY_MODEL_01b8babde3ad4971aed35ff7c050d7e6",
       "value": 5
      }
     },
     "8aa50959c7c14a62b88cea1f7a582b2e": {
      "model_module": "@jupyter-widgets/base",
      "model_module_version": "1.2.0",
      "model_name": "LayoutModel",
      "state": {}
     },
     "8b1e0af1f4d84414b1c9be09154cec23": {
      "model_module": "@jupyter-widgets/base",
      "model_module_version": "1.2.0",
      "model_name": "LayoutModel",
      "state": {}
     },
     "8b3cd7a914f444729eec36a85e5ce615": {
      "model_module": "@jupyter-widgets/controls",
      "model_module_version": "1.5.0",
      "model_name": "DescriptionStyleModel",
      "state": {
       "description_width": ""
      }
     },
     "8b9d3ba2f3504f1592299f8c6c19033c": {
      "model_module": "@jupyter-widgets/controls",
      "model_module_version": "1.5.0",
      "model_name": "DescriptionStyleModel",
      "state": {
       "description_width": ""
      }
     },
     "8babbaf22ffb48a786950cafc0fe4836": {
      "model_module": "@jupyter-widgets/controls",
      "model_module_version": "1.5.0",
      "model_name": "HBoxModel",
      "state": {
       "children": [
        "IPY_MODEL_9fbd27d542124819b3d43d28f254807a",
        "IPY_MODEL_bce67aa18f8942efbc8c6c3de8c69ac5",
        "IPY_MODEL_f141822b3a084a628dc42f5b8a602a7c"
       ],
       "layout": "IPY_MODEL_8c3c11aa030745f6866aa5a45283021e"
      }
     },
     "8bb8d7ac01c94f24bc976e0e447b3db3": {
      "model_module": "@jupyter-widgets/controls",
      "model_module_version": "1.5.0",
      "model_name": "FloatProgressModel",
      "state": {
       "bar_style": "success",
       "layout": "IPY_MODEL_fa366748993049f0bf3c1f3fe9baea24",
       "max": 5,
       "style": "IPY_MODEL_1d03d314fa1e4b689121c8f2e02b3b50",
       "value": 5
      }
     },
     "8c0b7d6f71ee4919801f10182a1912e6": {
      "model_module": "@jupyter-widgets/base",
      "model_module_version": "1.2.0",
      "model_name": "LayoutModel",
      "state": {}
     },
     "8c2870d3235b4cbeb9a8473bc3db57e3": {
      "model_module": "@jupyter-widgets/base",
      "model_module_version": "1.2.0",
      "model_name": "LayoutModel",
      "state": {}
     },
     "8c3c11aa030745f6866aa5a45283021e": {
      "model_module": "@jupyter-widgets/base",
      "model_module_version": "1.2.0",
      "model_name": "LayoutModel",
      "state": {}
     },
     "8c481a9556fd4deea37abdd483ba13a6": {
      "model_module": "@jupyter-widgets/controls",
      "model_module_version": "1.5.0",
      "model_name": "DescriptionStyleModel",
      "state": {
       "description_width": ""
      }
     },
     "8c8111cefc4b43a1987f0a65131aed15": {
      "model_module": "@jupyter-widgets/controls",
      "model_module_version": "1.5.0",
      "model_name": "HTMLModel",
      "state": {
       "layout": "IPY_MODEL_76c8f11cac6e49c99a047d341b150d4d",
       "style": "IPY_MODEL_68706ceaa76d4340bcb60983b146ed34",
       "value": "100%"
      }
     },
     "8c8d12a335fe432783a5370716261a05": {
      "model_module": "@jupyter-widgets/controls",
      "model_module_version": "1.5.0",
      "model_name": "FloatProgressModel",
      "state": {
       "bar_style": "success",
       "layout": "IPY_MODEL_d11146f8e11e4577a2b06cafcaa8fa42",
       "max": 5,
       "style": "IPY_MODEL_1d8a815efb204e45a492a760b7c1fc1f",
       "value": 5
      }
     },
     "8d1fc086ddcc42be923a35d6fbe97c81": {
      "model_module": "@jupyter-widgets/controls",
      "model_module_version": "1.5.0",
      "model_name": "FloatProgressModel",
      "state": {
       "bar_style": "success",
       "layout": "IPY_MODEL_8dea4f0513df4c0ab5deeb5a2a51e809",
       "max": 5,
       "style": "IPY_MODEL_77c9837c0c6144f98771afeff30bec70",
       "value": 5
      }
     },
     "8d2bb3d170b54842ae27a40751397ca4": {
      "model_module": "@jupyter-widgets/controls",
      "model_module_version": "1.5.0",
      "model_name": "DescriptionStyleModel",
      "state": {
       "description_width": ""
      }
     },
     "8d3f6511b7ef408ab07761d64bf4b319": {
      "model_module": "@jupyter-widgets/base",
      "model_module_version": "1.2.0",
      "model_name": "LayoutModel",
      "state": {}
     },
     "8d447b3444ca4e7f9c3ca80d7337b7a0": {
      "model_module": "@jupyter-widgets/controls",
      "model_module_version": "1.5.0",
      "model_name": "DescriptionStyleModel",
      "state": {
       "description_width": ""
      }
     },
     "8d457e8bfd624a47a385690586d3ad9e": {
      "model_module": "@jupyter-widgets/base",
      "model_module_version": "1.2.0",
      "model_name": "LayoutModel",
      "state": {}
     },
     "8d7a211f5a174bd5a0ff7222f2c5d236": {
      "model_module": "@jupyter-widgets/controls",
      "model_module_version": "1.5.0",
      "model_name": "FloatProgressModel",
      "state": {
       "bar_style": "success",
       "layout": "IPY_MODEL_56bbb195b53f48448c5033c108fcf406",
       "max": 5,
       "style": "IPY_MODEL_d1651a6c31c1488090cbe974a206f571",
       "value": 5
      }
     },
     "8db8dcaad7c74b178d55dd2c6e319c58": {
      "model_module": "@jupyter-widgets/controls",
      "model_module_version": "1.5.0",
      "model_name": "DescriptionStyleModel",
      "state": {
       "description_width": ""
      }
     },
     "8dea4f0513df4c0ab5deeb5a2a51e809": {
      "model_module": "@jupyter-widgets/base",
      "model_module_version": "1.2.0",
      "model_name": "LayoutModel",
      "state": {}
     },
     "8e191a5a0c6f4625928a47e51ec52909": {
      "model_module": "@jupyter-widgets/base",
      "model_module_version": "1.2.0",
      "model_name": "LayoutModel",
      "state": {}
     },
     "8e3438204ea24ee88036bc8dbbec6787": {
      "model_module": "@jupyter-widgets/controls",
      "model_module_version": "1.5.0",
      "model_name": "HTMLModel",
      "state": {
       "layout": "IPY_MODEL_84effec0ac8e48059b20514897e8dd8e",
       "style": "IPY_MODEL_58d6afe3735f48e9a18728fa79695b18",
       "value": " 5/5 [12:47&lt;00:00, 153.50s/it]"
      }
     },
     "8e5091f5552f412d8edf19f1cfd89379": {
      "model_module": "@jupyter-widgets/controls",
      "model_module_version": "1.5.0",
      "model_name": "FloatProgressModel",
      "state": {
       "bar_style": "success",
       "layout": "IPY_MODEL_f0ed8ee01714455a84be2fc034172495",
       "max": 5,
       "style": "IPY_MODEL_bd995fecd1be4f6fb8a6671137c7984f",
       "value": 5
      }
     },
     "8e648f38bfb343ff8014c64ef031506e": {
      "model_module": "@jupyter-widgets/controls",
      "model_module_version": "1.5.0",
      "model_name": "DescriptionStyleModel",
      "state": {
       "description_width": ""
      }
     },
     "8e67c8a9ae994635b83a1a1c68369909": {
      "model_module": "@jupyter-widgets/controls",
      "model_module_version": "1.5.0",
      "model_name": "DescriptionStyleModel",
      "state": {
       "description_width": ""
      }
     },
     "8e79e2d3e5394dc7a905027433cb2b37": {
      "model_module": "@jupyter-widgets/controls",
      "model_module_version": "1.5.0",
      "model_name": "HTMLModel",
      "state": {
       "layout": "IPY_MODEL_e352a3bad2c34607a32fbcb0da2c360f",
       "style": "IPY_MODEL_6d4ba9ab86a1483a905c01e32a30e844",
       "value": " 5/5 [04:30&lt;00:00, 54.24s/it]"
      }
     },
     "8ed26d8cf44143b5b41e0728b98b8eff": {
      "model_module": "@jupyter-widgets/controls",
      "model_module_version": "1.5.0",
      "model_name": "DescriptionStyleModel",
      "state": {
       "description_width": ""
      }
     },
     "8eff175ade424340a763f9323c0a1334": {
      "model_module": "@jupyter-widgets/controls",
      "model_module_version": "1.5.0",
      "model_name": "HTMLModel",
      "state": {
       "layout": "IPY_MODEL_60fee1f4d8ff453eb8cac85b732b74fd",
       "style": "IPY_MODEL_9749a6e7cfee4db585143c06b52a26ed",
       "value": "100%"
      }
     },
     "8f2537ed213c4234979dba0e11533ec0": {
      "model_module": "@jupyter-widgets/controls",
      "model_module_version": "1.5.0",
      "model_name": "DescriptionStyleModel",
      "state": {
       "description_width": ""
      }
     },
     "8f32678b0dd1436489b2e9ff410ca94c": {
      "model_module": "@jupyter-widgets/controls",
      "model_module_version": "1.5.0",
      "model_name": "ProgressStyleModel",
      "state": {
       "description_width": ""
      }
     },
     "8f3f73facf444551849576da7483320f": {
      "model_module": "@jupyter-widgets/controls",
      "model_module_version": "1.5.0",
      "model_name": "FloatProgressModel",
      "state": {
       "bar_style": "success",
       "layout": "IPY_MODEL_1ff04aafaa614de181dc792610395976",
       "max": 5,
       "style": "IPY_MODEL_193066d7b3f44eae9a096f19b7329816",
       "value": 5
      }
     },
     "8f715edcc2894feb88ead1433f2f6198": {
      "model_module": "@jupyter-widgets/controls",
      "model_module_version": "1.5.0",
      "model_name": "FloatProgressModel",
      "state": {
       "bar_style": "success",
       "layout": "IPY_MODEL_52341c8513e242159a6315c853a8851b",
       "max": 5,
       "style": "IPY_MODEL_cdca866076ed4dc3b0353b801b9fe055",
       "value": 5
      }
     },
     "8f723e2bc0f94ca2851a10498e9c26d9": {
      "model_module": "@jupyter-widgets/controls",
      "model_module_version": "1.5.0",
      "model_name": "HTMLModel",
      "state": {
       "layout": "IPY_MODEL_6589de2570cc4373ae89f04a1265b4b2",
       "style": "IPY_MODEL_1a46d8335d194975ad423264ea7955d8",
       "value": "100%"
      }
     },
     "8f990f83875946848db4948b434b43b2": {
      "model_module": "@jupyter-widgets/controls",
      "model_module_version": "1.5.0",
      "model_name": "DescriptionStyleModel",
      "state": {
       "description_width": ""
      }
     },
     "9093f57880a542c1a52b8623594c1ea5": {
      "model_module": "@jupyter-widgets/base",
      "model_module_version": "1.2.0",
      "model_name": "LayoutModel",
      "state": {}
     },
     "90ca9757d87248bca510e205e51d4ed7": {
      "model_module": "@jupyter-widgets/controls",
      "model_module_version": "1.5.0",
      "model_name": "DescriptionStyleModel",
      "state": {
       "description_width": ""
      }
     },
     "9102768f83a1410cb1a4ddb19c5a0a75": {
      "model_module": "@jupyter-widgets/controls",
      "model_module_version": "1.5.0",
      "model_name": "HTMLModel",
      "state": {
       "layout": "IPY_MODEL_dc3cf1b0923d47199b683629fbd39e79",
       "style": "IPY_MODEL_feeec974a2264e44bd8931ef1a92438a",
       "value": " 5/5 [00:00&lt;00:00, 10.29it/s]"
      }
     },
     "913515b784774b878201f4cac85f04d3": {
      "model_module": "@jupyter-widgets/controls",
      "model_module_version": "1.5.0",
      "model_name": "DescriptionStyleModel",
      "state": {
       "description_width": ""
      }
     },
     "913f5f8b04e44a0080d225421b12bd74": {
      "model_module": "@jupyter-widgets/controls",
      "model_module_version": "1.5.0",
      "model_name": "DescriptionStyleModel",
      "state": {
       "description_width": ""
      }
     },
     "919a482b5a064b03a477ec2ae6c1b2b7": {
      "model_module": "@jupyter-widgets/controls",
      "model_module_version": "1.5.0",
      "model_name": "DescriptionStyleModel",
      "state": {
       "description_width": ""
      }
     },
     "919de0c46abf4b7db6c7da0d3bd483cb": {
      "model_module": "@jupyter-widgets/base",
      "model_module_version": "1.2.0",
      "model_name": "LayoutModel",
      "state": {}
     },
     "91b2f82248084dfc92abf99e6c6e7e92": {
      "model_module": "@jupyter-widgets/controls",
      "model_module_version": "1.5.0",
      "model_name": "FloatProgressModel",
      "state": {
       "bar_style": "success",
       "layout": "IPY_MODEL_f192e36d7d2e46629eaa74ab57cc0345",
       "max": 5,
       "style": "IPY_MODEL_14c9b581ec784baab6fb8eba296aa56c",
       "value": 5
      }
     },
     "91cce6416bf74421984c1d9c07bc17ad": {
      "model_module": "@jupyter-widgets/base",
      "model_module_version": "1.2.0",
      "model_name": "LayoutModel",
      "state": {}
     },
     "91e16ba41ae7403f81b7077211b5e164": {
      "model_module": "@jupyter-widgets/controls",
      "model_module_version": "1.5.0",
      "model_name": "DescriptionStyleModel",
      "state": {
       "description_width": ""
      }
     },
     "91e903d862bd461d9fa07409812d6a11": {
      "model_module": "@jupyter-widgets/controls",
      "model_module_version": "1.5.0",
      "model_name": "HTMLModel",
      "state": {
       "layout": "IPY_MODEL_32e5473a9c024c69a5ff7cb3fc08348c",
       "style": "IPY_MODEL_bb421aabcd9c42958ab3f2061f2a306a",
       "value": " 5/5 [00:13&lt;00:00,  2.76s/it]"
      }
     },
     "920272fad80f4121a958c8757b54f750": {
      "model_module": "@jupyter-widgets/base",
      "model_module_version": "1.2.0",
      "model_name": "LayoutModel",
      "state": {}
     },
     "920846d2ce2544bd847eebadf43ec277": {
      "model_module": "@jupyter-widgets/controls",
      "model_module_version": "1.5.0",
      "model_name": "HTMLModel",
      "state": {
       "layout": "IPY_MODEL_a3824603bd8b421096e02d6e9f1a23d5",
       "style": "IPY_MODEL_3526d93ff6074cfeb7eb8cb068f38817",
       "value": "100%"
      }
     },
     "92313d88aac34b649a89e6d6a2916262": {
      "model_module": "@jupyter-widgets/base",
      "model_module_version": "1.2.0",
      "model_name": "LayoutModel",
      "state": {}
     },
     "923eb859f0b642f1990c984edb19d035": {
      "model_module": "@jupyter-widgets/controls",
      "model_module_version": "1.5.0",
      "model_name": "DescriptionStyleModel",
      "state": {
       "description_width": ""
      }
     },
     "924197c6b5fa40bf9fe4ed5c02b41744": {
      "model_module": "@jupyter-widgets/controls",
      "model_module_version": "1.5.0",
      "model_name": "HBoxModel",
      "state": {
       "children": [
        "IPY_MODEL_f462f2adc80d4b18ac9df59af931bed6",
        "IPY_MODEL_d029e26cea9944f295f51f6389c60bad",
        "IPY_MODEL_e5baeb43e4bc4521b2a6281c2c92191c"
       ],
       "layout": "IPY_MODEL_09d9e16f7ae14a42b4ca6a372434bd84"
      }
     },
     "926642855f5d4f5894b649b46bf71289": {
      "model_module": "@jupyter-widgets/controls",
      "model_module_version": "1.5.0",
      "model_name": "HTMLModel",
      "state": {
       "layout": "IPY_MODEL_b24385af62644c0da38284e2905d44af",
       "style": "IPY_MODEL_863e0661223d40ac9d52e0f6c3759e7f",
       "value": " 5/5 [00:04&lt;00:00,  1.11it/s]"
      }
     },
     "9275e9285d904de0b0895bd325e1570f": {
      "model_module": "@jupyter-widgets/controls",
      "model_module_version": "1.5.0",
      "model_name": "ProgressStyleModel",
      "state": {
       "description_width": ""
      }
     },
     "9277af1d631a4cb4afbca20df9a90144": {
      "model_module": "@jupyter-widgets/base",
      "model_module_version": "1.2.0",
      "model_name": "LayoutModel",
      "state": {}
     },
     "92b05f3b4d3e4e7ca6f93072484b5820": {
      "model_module": "@jupyter-widgets/controls",
      "model_module_version": "1.5.0",
      "model_name": "DescriptionStyleModel",
      "state": {
       "description_width": ""
      }
     },
     "92dbfe3702134eccb1f8751f34ade868": {
      "model_module": "@jupyter-widgets/controls",
      "model_module_version": "1.5.0",
      "model_name": "HTMLModel",
      "state": {
       "layout": "IPY_MODEL_ba6c40a7a1c9418b9b231908fdd84988",
       "style": "IPY_MODEL_2796070684f94f1aaf0f4808d9d05de9",
       "value": "100%"
      }
     },
     "9346e4b62ad849248e507233e9bf4fdc": {
      "model_module": "@jupyter-widgets/controls",
      "model_module_version": "1.5.0",
      "model_name": "FloatProgressModel",
      "state": {
       "bar_style": "danger",
       "layout": "IPY_MODEL_8791c128d51143ca85776a38f6cdb39b",
       "max": 5,
       "style": "IPY_MODEL_b52f7d0349064cd2897a32b6bff2549b",
       "value": 3
      }
     },
     "934dcfbeaca14774824ac64d392f90bb": {
      "model_module": "@jupyter-widgets/base",
      "model_module_version": "1.2.0",
      "model_name": "LayoutModel",
      "state": {}
     },
     "93559516bb3f468bafbb93e10826b027": {
      "model_module": "@jupyter-widgets/controls",
      "model_module_version": "1.5.0",
      "model_name": "DescriptionStyleModel",
      "state": {
       "description_width": ""
      }
     },
     "93569c090db442048441096182e30c4d": {
      "model_module": "@jupyter-widgets/controls",
      "model_module_version": "1.5.0",
      "model_name": "HTMLModel",
      "state": {
       "layout": "IPY_MODEL_ea5f16bb1a2e42a79e0b05268d1c6776",
       "style": "IPY_MODEL_68834cfd06744384ba04c2a2e8f8a55a",
       "value": "100%"
      }
     },
     "93a82393a172490886842e2d5de69505": {
      "model_module": "@jupyter-widgets/controls",
      "model_module_version": "1.5.0",
      "model_name": "DescriptionStyleModel",
      "state": {
       "description_width": ""
      }
     },
     "93c98f4b077c4bfaad6359f81aa2df8d": {
      "model_module": "@jupyter-widgets/base",
      "model_module_version": "1.2.0",
      "model_name": "LayoutModel",
      "state": {}
     },
     "93ef185430b14576ac8375bdd4588024": {
      "model_module": "@jupyter-widgets/controls",
      "model_module_version": "1.5.0",
      "model_name": "ProgressStyleModel",
      "state": {
       "description_width": ""
      }
     },
     "9445dc9b545c4f47867315f0644a3b3a": {
      "model_module": "@jupyter-widgets/controls",
      "model_module_version": "1.5.0",
      "model_name": "FloatProgressModel",
      "state": {
       "bar_style": "success",
       "layout": "IPY_MODEL_be6a67d20143490599b5b0f4959d0400",
       "max": 5,
       "style": "IPY_MODEL_e6a6d10bada14069b05870a8e15fcbd0",
       "value": 5
      }
     },
     "945562b698534136bf4746deebf8a0c2": {
      "model_module": "@jupyter-widgets/controls",
      "model_module_version": "1.5.0",
      "model_name": "HTMLModel",
      "state": {
       "layout": "IPY_MODEL_b693bd56b02347b489461b0ba1b4fd88",
       "style": "IPY_MODEL_ca80ae08986848f1b93724cf4bf5c21b",
       "value": " 5/5 [00:06&lt;00:00,  1.19s/it]"
      }
     },
     "9460789bf46349348d96a782b46c8af6": {
      "model_module": "@jupyter-widgets/controls",
      "model_module_version": "1.5.0",
      "model_name": "HTMLModel",
      "state": {
       "layout": "IPY_MODEL_baf46caeac2448cc96df9693d4137647",
       "style": "IPY_MODEL_b90f663f6177421eba8f746cfd21b802",
       "value": "100%"
      }
     },
     "9490f00dda9f49cf8c3bfde2aefddf08": {
      "model_module": "@jupyter-widgets/controls",
      "model_module_version": "1.5.0",
      "model_name": "HTMLModel",
      "state": {
       "layout": "IPY_MODEL_232d58eaed8a41a58f0dd48ea436f0aa",
       "style": "IPY_MODEL_1f83a293025b4640a02e802703f5f6ee",
       "value": " 5/5 [12:35&lt;00:00, 150.95s/it]"
      }
     },
     "94a8ca04712e41c5be2554498499c1d1": {
      "model_module": "@jupyter-widgets/base",
      "model_module_version": "1.2.0",
      "model_name": "LayoutModel",
      "state": {}
     },
     "94ad1d081f9a498d9b5c22ca711cc4d0": {
      "model_module": "@jupyter-widgets/base",
      "model_module_version": "1.2.0",
      "model_name": "LayoutModel",
      "state": {}
     },
     "94bfd3a1b3c04c4ebeae25892e8c1ff8": {
      "model_module": "@jupyter-widgets/controls",
      "model_module_version": "1.5.0",
      "model_name": "DescriptionStyleModel",
      "state": {
       "description_width": ""
      }
     },
     "9516b0ae0457418ebefb8466021d71cc": {
      "model_module": "@jupyter-widgets/base",
      "model_module_version": "1.2.0",
      "model_name": "LayoutModel",
      "state": {}
     },
     "953087a5abef4c1ca491eee1ce82ccbf": {
      "model_module": "@jupyter-widgets/base",
      "model_module_version": "1.2.0",
      "model_name": "LayoutModel",
      "state": {}
     },
     "9551c26029f448e1a8ca701f13fc231c": {
      "model_module": "@jupyter-widgets/base",
      "model_module_version": "1.2.0",
      "model_name": "LayoutModel",
      "state": {}
     },
     "9577d2a1436441b8ba89f7c3460aee70": {
      "model_module": "@jupyter-widgets/base",
      "model_module_version": "1.2.0",
      "model_name": "LayoutModel",
      "state": {}
     },
     "95f46d8e17c6411bafbc30ed41dadc8a": {
      "model_module": "@jupyter-widgets/controls",
      "model_module_version": "1.5.0",
      "model_name": "HTMLModel",
      "state": {
       "layout": "IPY_MODEL_88c3a71c9eec40469e4b6bb10a7b0df0",
       "style": "IPY_MODEL_b6bc195b16f74afabf97356b7b77d610",
       "value": " 5/5 [00:12&lt;00:00,  2.56s/it]"
      }
     },
     "963ab0621c734714b759d1a9991e991c": {
      "model_module": "@jupyter-widgets/base",
      "model_module_version": "1.2.0",
      "model_name": "LayoutModel",
      "state": {}
     },
     "964c5106996548c6b623d0b20345227c": {
      "model_module": "@jupyter-widgets/controls",
      "model_module_version": "1.5.0",
      "model_name": "FloatProgressModel",
      "state": {
       "bar_style": "success",
       "layout": "IPY_MODEL_aed83756061844f794205a0f8aab0e4f",
       "max": 5,
       "style": "IPY_MODEL_26be05d7a38a40469b5fb46526e38c3e",
       "value": 5
      }
     },
     "968663b1d42047cb8773f2fbf6fd1f66": {
      "model_module": "@jupyter-widgets/controls",
      "model_module_version": "1.5.0",
      "model_name": "DescriptionStyleModel",
      "state": {
       "description_width": ""
      }
     },
     "96cab8679b6b41608763bc5acd80c147": {
      "model_module": "@jupyter-widgets/controls",
      "model_module_version": "1.5.0",
      "model_name": "HTMLModel",
      "state": {
       "layout": "IPY_MODEL_62160bfc819741f38bec88d9fee81198",
       "style": "IPY_MODEL_48a1cfb0859044ffba5958bb12bab1e2",
       "value": " 5/5 [00:05&lt;00:00,  1.15s/it]"
      }
     },
     "96ccd4c9aa304d70b9a15aea82450287": {
      "model_module": "@jupyter-widgets/base",
      "model_module_version": "1.2.0",
      "model_name": "LayoutModel",
      "state": {}
     },
     "96dad7becc0f4d51ad7501e24a2d45e0": {
      "model_module": "@jupyter-widgets/base",
      "model_module_version": "1.2.0",
      "model_name": "LayoutModel",
      "state": {}
     },
     "96f1717a00634de2a13f862f000687da": {
      "model_module": "@jupyter-widgets/base",
      "model_module_version": "1.2.0",
      "model_name": "LayoutModel",
      "state": {}
     },
     "9745e69cacf74190ad4426ea6c79953b": {
      "model_module": "@jupyter-widgets/controls",
      "model_module_version": "1.5.0",
      "model_name": "ProgressStyleModel",
      "state": {
       "description_width": ""
      }
     },
     "9749a6e7cfee4db585143c06b52a26ed": {
      "model_module": "@jupyter-widgets/controls",
      "model_module_version": "1.5.0",
      "model_name": "DescriptionStyleModel",
      "state": {
       "description_width": ""
      }
     },
     "9787e401d3464ca9a4c2965afe173535": {
      "model_module": "@jupyter-widgets/controls",
      "model_module_version": "1.5.0",
      "model_name": "ProgressStyleModel",
      "state": {
       "description_width": ""
      }
     },
     "97b8a77306494e00a2298729f7cab04c": {
      "model_module": "@jupyter-widgets/controls",
      "model_module_version": "1.5.0",
      "model_name": "HTMLModel",
      "state": {
       "layout": "IPY_MODEL_9277af1d631a4cb4afbca20df9a90144",
       "style": "IPY_MODEL_b48349911f1548baa6213c09677887c1",
       "value": "100%"
      }
     },
     "98203bea58a14fe6a728e7f5b63a4fd8": {
      "model_module": "@jupyter-widgets/base",
      "model_module_version": "1.2.0",
      "model_name": "LayoutModel",
      "state": {}
     },
     "98338c32d4974b4095e63ae4c076b677": {
      "model_module": "@jupyter-widgets/controls",
      "model_module_version": "1.5.0",
      "model_name": "DescriptionStyleModel",
      "state": {
       "description_width": ""
      }
     },
     "986ed9768061469bacec6bb31b718f8f": {
      "model_module": "@jupyter-widgets/base",
      "model_module_version": "1.2.0",
      "model_name": "LayoutModel",
      "state": {}
     },
     "989d0a510e1c403eb7d1a530d8f38a59": {
      "model_module": "@jupyter-widgets/controls",
      "model_module_version": "1.5.0",
      "model_name": "DescriptionStyleModel",
      "state": {
       "description_width": ""
      }
     },
     "98bb309def2b48bd89b90520773b1c27": {
      "model_module": "@jupyter-widgets/controls",
      "model_module_version": "1.5.0",
      "model_name": "HTMLModel",
      "state": {
       "layout": "IPY_MODEL_cec1b24d3e874fd8aac0cc0be695ca04",
       "style": "IPY_MODEL_d96e3a5bd7f749e785e94b60ab55c910",
       "value": " 5/5 [00:00&lt;00:00, 69.06it/s]"
      }
     },
     "98cf5e8f477f4837819d0a6213f58ee0": {
      "model_module": "@jupyter-widgets/controls",
      "model_module_version": "1.5.0",
      "model_name": "FloatProgressModel",
      "state": {
       "bar_style": "success",
       "layout": "IPY_MODEL_a9bf15ed1c4f46278f4f797ee69d8a96",
       "max": 5,
       "style": "IPY_MODEL_70b2048408fc4f7ba7277ac23ce61d72",
       "value": 5
      }
     },
     "98d7a5bc8c1f4c64860e53797605cc0b": {
      "model_module": "@jupyter-widgets/base",
      "model_module_version": "1.2.0",
      "model_name": "LayoutModel",
      "state": {}
     },
     "98df17219fec4a8fbeae72f87243f37f": {
      "model_module": "@jupyter-widgets/controls",
      "model_module_version": "1.5.0",
      "model_name": "HTMLModel",
      "state": {
       "layout": "IPY_MODEL_91cce6416bf74421984c1d9c07bc17ad",
       "style": "IPY_MODEL_b70b8d30386c4bb388757acd282a5acb",
       "value": "100%"
      }
     },
     "98fce8d499c143388f7c380eea0b8fc9": {
      "model_module": "@jupyter-widgets/base",
      "model_module_version": "1.2.0",
      "model_name": "LayoutModel",
      "state": {}
     },
     "9933ca59f65a462c80f3775fbcd15f48": {
      "model_module": "@jupyter-widgets/controls",
      "model_module_version": "1.5.0",
      "model_name": "HBoxModel",
      "state": {
       "children": [
        "IPY_MODEL_881f7a008bdc4b2e9de88c2e33c72c21",
        "IPY_MODEL_757536d3f3b9469ead0ee544699d4db0",
        "IPY_MODEL_c7ceb287649a47b4a9438a5e61e12909"
       ],
       "layout": "IPY_MODEL_fec7cd2724bd4a29805ebb858b06a07c"
      }
     },
     "9939502ec72641ada7b0d1bdf2a3247b": {
      "model_module": "@jupyter-widgets/base",
      "model_module_version": "1.2.0",
      "model_name": "LayoutModel",
      "state": {}
     },
     "995ff471f58c43ada682d892d665fe18": {
      "model_module": "@jupyter-widgets/controls",
      "model_module_version": "1.5.0",
      "model_name": "HBoxModel",
      "state": {
       "children": [
        "IPY_MODEL_db5e469898084bedad40e78e192c1f59",
        "IPY_MODEL_634a43851560491cae62f942d03d2f0e",
        "IPY_MODEL_231d7b1e7c9549dca6e8c6dc6ae67902"
       ],
       "layout": "IPY_MODEL_fd4c3d889a444a4091c8ebdd70689af5"
      }
     },
     "996c7ae419b245a9ab2e97a51fd78648": {
      "model_module": "@jupyter-widgets/controls",
      "model_module_version": "1.5.0",
      "model_name": "DescriptionStyleModel",
      "state": {
       "description_width": ""
      }
     },
     "99c3a073ea1541fdb85da62a81cd2a86": {
      "model_module": "@jupyter-widgets/base",
      "model_module_version": "1.2.0",
      "model_name": "LayoutModel",
      "state": {}
     },
     "9a25d4cd59f74ec7919f6c010024ffd8": {
      "model_module": "@jupyter-widgets/base",
      "model_module_version": "1.2.0",
      "model_name": "LayoutModel",
      "state": {}
     },
     "9a42c8f090124956904ceed193e8ffb4": {
      "model_module": "@jupyter-widgets/base",
      "model_module_version": "1.2.0",
      "model_name": "LayoutModel",
      "state": {}
     },
     "9a4c9ddb35674d45be6525a668eca863": {
      "model_module": "@jupyter-widgets/base",
      "model_module_version": "1.2.0",
      "model_name": "LayoutModel",
      "state": {}
     },
     "9adfcacf5f914dd28786a4d9e46be5a1": {
      "model_module": "@jupyter-widgets/controls",
      "model_module_version": "1.5.0",
      "model_name": "HBoxModel",
      "state": {
       "children": [
        "IPY_MODEL_7e6b1db75d05458ca3f7eccbe0697adb",
        "IPY_MODEL_88865f0357fc40dababe17b81519388d",
        "IPY_MODEL_96cab8679b6b41608763bc5acd80c147"
       ],
       "layout": "IPY_MODEL_48b9422e95494358ad304d9d9bdf4988"
      }
     },
     "9b19cfe346e3481284dd5854f3e88380": {
      "model_module": "@jupyter-widgets/base",
      "model_module_version": "1.2.0",
      "model_name": "LayoutModel",
      "state": {}
     },
     "9b1ab2f81f5b4922b158a4d62d4a5eed": {
      "model_module": "@jupyter-widgets/controls",
      "model_module_version": "1.5.0",
      "model_name": "DescriptionStyleModel",
      "state": {
       "description_width": ""
      }
     },
     "9b52040e090a40cb9e75ddb7ce517ef7": {
      "model_module": "@jupyter-widgets/controls",
      "model_module_version": "1.5.0",
      "model_name": "HTMLModel",
      "state": {
       "layout": "IPY_MODEL_7345183412d142c89c222bb5f32fd4da",
       "style": "IPY_MODEL_f0d27be3d8c044cda3b4edfea5410b93",
       "value": "100%"
      }
     },
     "9b89f4c337ed413a821a4af09403077d": {
      "model_module": "@jupyter-widgets/controls",
      "model_module_version": "1.5.0",
      "model_name": "HBoxModel",
      "state": {
       "children": [
        "IPY_MODEL_b14a9fdc9cbf4ad4b5f5abce1cd551cb",
        "IPY_MODEL_892682c9be3147239af261ba14b2d98e",
        "IPY_MODEL_9da2a6329d3d45a88e5e912946fd7c4e"
       ],
       "layout": "IPY_MODEL_c3892516398d4faea6bab9a0c11f2d2f"
      }
     },
     "9bae78733d38460fba53271d06200d63": {
      "model_module": "@jupyter-widgets/controls",
      "model_module_version": "1.5.0",
      "model_name": "FloatProgressModel",
      "state": {
       "bar_style": "success",
       "layout": "IPY_MODEL_c4e113b588374a75857a26d76f063aa5",
       "max": 5,
       "style": "IPY_MODEL_23c96413647941e491362b4c8382d59c",
       "value": 5
      }
     },
     "9bbda5dcf39a44728467df1f3738491e": {
      "model_module": "@jupyter-widgets/base",
      "model_module_version": "1.2.0",
      "model_name": "LayoutModel",
      "state": {}
     },
     "9c6e78df7d244c9d9a225a17a79dc2c0": {
      "model_module": "@jupyter-widgets/controls",
      "model_module_version": "1.5.0",
      "model_name": "HBoxModel",
      "state": {
       "children": [
        "IPY_MODEL_3a321a7a163e4de5a289c3649dca27a1",
        "IPY_MODEL_03c908f0709f4f9a945b45b942d86bd3",
        "IPY_MODEL_41b1a3f1fc834f7e832b2024dd9f47d4"
       ],
       "layout": "IPY_MODEL_f15d8c9caee448e59149f0e9ade7c5ef"
      }
     },
     "9c99cf4e08cd4189aa04e4961f2a2bea": {
      "model_module": "@jupyter-widgets/controls",
      "model_module_version": "1.5.0",
      "model_name": "FloatProgressModel",
      "state": {
       "bar_style": "success",
       "layout": "IPY_MODEL_c24629b8461242bb9371326a39f3aca8",
       "max": 5,
       "style": "IPY_MODEL_47bf1f6d49a94f9ca10e5ab1f0b96c28",
       "value": 5
      }
     },
     "9ca415f194634888951ff156311ebbc3": {
      "model_module": "@jupyter-widgets/controls",
      "model_module_version": "1.5.0",
      "model_name": "DescriptionStyleModel",
      "state": {
       "description_width": ""
      }
     },
     "9cc00c3021b14d8894031a7dd47926a7": {
      "model_module": "@jupyter-widgets/controls",
      "model_module_version": "1.5.0",
      "model_name": "FloatProgressModel",
      "state": {
       "bar_style": "success",
       "layout": "IPY_MODEL_3ca2e2eafa7b4dbbaff116c0ae048f4c",
       "max": 5,
       "style": "IPY_MODEL_085b7d54aa504e948fb0d22538d9dffa",
       "value": 5
      }
     },
     "9cca425ef8124a688b5bc7ba55458472": {
      "model_module": "@jupyter-widgets/base",
      "model_module_version": "1.2.0",
      "model_name": "LayoutModel",
      "state": {}
     },
     "9cdad527c815446e9b3a3b4b98071eaf": {
      "model_module": "@jupyter-widgets/base",
      "model_module_version": "1.2.0",
      "model_name": "LayoutModel",
      "state": {}
     },
     "9cdf5635a21b4fa89a7046fd617f2955": {
      "model_module": "@jupyter-widgets/controls",
      "model_module_version": "1.5.0",
      "model_name": "DescriptionStyleModel",
      "state": {
       "description_width": ""
      }
     },
     "9ce2ae51e04f471e9ca2acf7f7291a76": {
      "model_module": "@jupyter-widgets/controls",
      "model_module_version": "1.5.0",
      "model_name": "HBoxModel",
      "state": {
       "children": [
        "IPY_MODEL_f637b7e19f84429eaca5059ce25e2cab",
        "IPY_MODEL_84b6217d0ced4d9789aba6e9f526a39a",
        "IPY_MODEL_dc56186fd4184875a51db139e0302c23"
       ],
       "layout": "IPY_MODEL_96ccd4c9aa304d70b9a15aea82450287"
      }
     },
     "9d1b744ff7804254971299a883377f6a": {
      "model_module": "@jupyter-widgets/controls",
      "model_module_version": "1.5.0",
      "model_name": "DescriptionStyleModel",
      "state": {
       "description_width": ""
      }
     },
     "9d36716e23274b16ae463f121694e3fc": {
      "model_module": "@jupyter-widgets/controls",
      "model_module_version": "1.5.0",
      "model_name": "FloatProgressModel",
      "state": {
       "bar_style": "success",
       "layout": "IPY_MODEL_36dc546941f94438ab6d76f13aaca351",
       "max": 5,
       "style": "IPY_MODEL_a0fbd01d3e9b42ae9b5f604474311e60",
       "value": 5
      }
     },
     "9d44efc2513e4ebca19ec92c8f5e901a": {
      "model_module": "@jupyter-widgets/controls",
      "model_module_version": "1.5.0",
      "model_name": "HBoxModel",
      "state": {
       "children": [
        "IPY_MODEL_7cd8d93f63d04380ac29636c72f38253",
        "IPY_MODEL_964c5106996548c6b623d0b20345227c",
        "IPY_MODEL_3e83ad03eaec4004a7c692dee2531a19"
       ],
       "layout": "IPY_MODEL_98fce8d499c143388f7c380eea0b8fc9"
      }
     },
     "9d530d085b534ec39c8828a33c84205d": {
      "model_module": "@jupyter-widgets/controls",
      "model_module_version": "1.5.0",
      "model_name": "DescriptionStyleModel",
      "state": {
       "description_width": ""
      }
     },
     "9d8dbf905ab74125995647670b91bae9": {
      "model_module": "@jupyter-widgets/base",
      "model_module_version": "1.2.0",
      "model_name": "LayoutModel",
      "state": {}
     },
     "9da2a6329d3d45a88e5e912946fd7c4e": {
      "model_module": "@jupyter-widgets/controls",
      "model_module_version": "1.5.0",
      "model_name": "HTMLModel",
      "state": {
       "layout": "IPY_MODEL_19dd6ca6badc42faa646e9091cda32c9",
       "style": "IPY_MODEL_ba360481777f4097bf44b39a5f27a523",
       "value": " 5/5 [12:56&lt;00:00, 155.17s/it]"
      }
     },
     "9dc86aee373240dda71bf5d256fdaca9": {
      "model_module": "@jupyter-widgets/base",
      "model_module_version": "1.2.0",
      "model_name": "LayoutModel",
      "state": {}
     },
     "9dea60d4606d43d08986a9686ea36e86": {
      "model_module": "@jupyter-widgets/base",
      "model_module_version": "1.2.0",
      "model_name": "LayoutModel",
      "state": {}
     },
     "9e50abf541fe4acf8cebb9eb6dc5d375": {
      "model_module": "@jupyter-widgets/controls",
      "model_module_version": "1.5.0",
      "model_name": "DescriptionStyleModel",
      "state": {
       "description_width": ""
      }
     },
     "9e64ef2b28be4f01b4d864a834ea2010": {
      "model_module": "@jupyter-widgets/base",
      "model_module_version": "1.2.0",
      "model_name": "LayoutModel",
      "state": {}
     },
     "9ea87cefca3448d695bd122b0ab33c2a": {
      "model_module": "@jupyter-widgets/controls",
      "model_module_version": "1.5.0",
      "model_name": "HTMLModel",
      "state": {
       "layout": "IPY_MODEL_6e1efb5f27f544e09bb40da44f0963a5",
       "style": "IPY_MODEL_285f3bf901ba4ee2be64f713152b61af",
       "value": " 5/5 [13:43&lt;00:00, 164.92s/it]"
      }
     },
     "9ec03e341cc94e7db4feb41bafae2af8": {
      "model_module": "@jupyter-widgets/base",
      "model_module_version": "1.2.0",
      "model_name": "LayoutModel",
      "state": {}
     },
     "9edf0a0d875b42838c04d0eb595a867c": {
      "model_module": "@jupyter-widgets/controls",
      "model_module_version": "1.5.0",
      "model_name": "HTMLModel",
      "state": {
       "layout": "IPY_MODEL_94ad1d081f9a498d9b5c22ca711cc4d0",
       "style": "IPY_MODEL_5837605dc1c64edb92d8425e716c4036",
       "value": "100%"
      }
     },
     "9ef7d26a3b57487d8554a40c91690468": {
      "model_module": "@jupyter-widgets/controls",
      "model_module_version": "1.5.0",
      "model_name": "DescriptionStyleModel",
      "state": {
       "description_width": ""
      }
     },
     "9f50bc4aea2b4e049005306b00adbfc5": {
      "model_module": "@jupyter-widgets/base",
      "model_module_version": "1.2.0",
      "model_name": "LayoutModel",
      "state": {}
     },
     "9f79da8eec9247f78c70514e74290e59": {
      "model_module": "@jupyter-widgets/controls",
      "model_module_version": "1.5.0",
      "model_name": "DescriptionStyleModel",
      "state": {
       "description_width": ""
      }
     },
     "9f7aa613bd1a4ef9b7543b7a29db5eca": {
      "model_module": "@jupyter-widgets/controls",
      "model_module_version": "1.5.0",
      "model_name": "DescriptionStyleModel",
      "state": {
       "description_width": ""
      }
     },
     "9fbd27d542124819b3d43d28f254807a": {
      "model_module": "@jupyter-widgets/controls",
      "model_module_version": "1.5.0",
      "model_name": "HTMLModel",
      "state": {
       "layout": "IPY_MODEL_5b13c2b85a3f4e8a9691604f26820b5e",
       "style": "IPY_MODEL_4a8cc83bfff745babe068a798a7b71e8",
       "value": "100%"
      }
     },
     "9fc9cda101b543be973b53ff27128f9b": {
      "model_module": "@jupyter-widgets/controls",
      "model_module_version": "1.5.0",
      "model_name": "ProgressStyleModel",
      "state": {
       "description_width": ""
      }
     },
     "a02c0ac36fa34480b2d64f8ea2fbf1ae": {
      "model_module": "@jupyter-widgets/base",
      "model_module_version": "1.2.0",
      "model_name": "LayoutModel",
      "state": {}
     },
     "a042f299c48046619f33365756e410ed": {
      "model_module": "@jupyter-widgets/base",
      "model_module_version": "1.2.0",
      "model_name": "LayoutModel",
      "state": {}
     },
     "a05558f14eee47be8788e1dd4ab618bc": {
      "model_module": "@jupyter-widgets/controls",
      "model_module_version": "1.5.0",
      "model_name": "HTMLModel",
      "state": {
       "layout": "IPY_MODEL_e9fbedab48744f5595cb53ec61826377",
       "style": "IPY_MODEL_bc6b8fb96a82488c9dfea6c448ef39ff",
       "value": " 5/5 [13:08&lt;00:00, 157.77s/it]"
      }
     },
     "a0690abd5beb4231aa71017bbc0fdff5": {
      "model_module": "@jupyter-widgets/controls",
      "model_module_version": "1.5.0",
      "model_name": "ProgressStyleModel",
      "state": {
       "description_width": ""
      }
     },
     "a085089b949f4245b99797d39ce432ba": {
      "model_module": "@jupyter-widgets/controls",
      "model_module_version": "1.5.0",
      "model_name": "HTMLModel",
      "state": {
       "layout": "IPY_MODEL_9551c26029f448e1a8ca701f13fc231c",
       "style": "IPY_MODEL_8ed26d8cf44143b5b41e0728b98b8eff",
       "value": " 5/5 [00:06&lt;00:00,  1.24s/it]"
      }
     },
     "a090f56a49ba47e1b5ef819b4b2e0830": {
      "model_module": "@jupyter-widgets/controls",
      "model_module_version": "1.5.0",
      "model_name": "HTMLModel",
      "state": {
       "layout": "IPY_MODEL_28813147ac1e411380244507607a75f2",
       "style": "IPY_MODEL_87747f9636a14b7caa45726c06c9cf38",
       "value": "100%"
      }
     },
     "a091b8d79dec4051a1fd1841e92f4bd6": {
      "model_module": "@jupyter-widgets/controls",
      "model_module_version": "1.5.0",
      "model_name": "HTMLModel",
      "state": {
       "layout": "IPY_MODEL_0c538e7e97bf4977b15a80c8ba02c7e8",
       "style": "IPY_MODEL_27c58aaece074c0ab6d746f834f6e2d3",
       "value": " 5/5 [00:04&lt;00:00,  1.12it/s]"
      }
     },
     "a0d2acd4a4f142968b5e97704b090ee0": {
      "model_module": "@jupyter-widgets/controls",
      "model_module_version": "1.5.0",
      "model_name": "ProgressStyleModel",
      "state": {
       "description_width": ""
      }
     },
     "a0d8b37524164bb289ae43f8a86b7598": {
      "model_module": "@jupyter-widgets/controls",
      "model_module_version": "1.5.0",
      "model_name": "HTMLModel",
      "state": {
       "layout": "IPY_MODEL_427627643b2e46dc94732400b2cbfa3b",
       "style": "IPY_MODEL_4724fa1a00154837b5243f28e8643389",
       "value": " 5/5 [10:54&lt;00:00, 130.33s/it]"
      }
     },
     "a0dcd2f6ac8347228b85c2f68c949278": {
      "model_module": "@jupyter-widgets/base",
      "model_module_version": "1.2.0",
      "model_name": "LayoutModel",
      "state": {}
     },
     "a0e5e1837b5d48cd8fd7b2fdea863ce6": {
      "model_module": "@jupyter-widgets/controls",
      "model_module_version": "1.5.0",
      "model_name": "HTMLModel",
      "state": {
       "layout": "IPY_MODEL_232d3b2a415141a3b88176fc19e4b113",
       "style": "IPY_MODEL_03c27ff4fed14f128c53c3512c5e87ff",
       "value": "100%"
      }
     },
     "a0fbd01d3e9b42ae9b5f604474311e60": {
      "model_module": "@jupyter-widgets/controls",
      "model_module_version": "1.5.0",
      "model_name": "ProgressStyleModel",
      "state": {
       "description_width": ""
      }
     },
     "a11ae57ca8db4df2bc8ef9f1b274b7d7": {
      "model_module": "@jupyter-widgets/base",
      "model_module_version": "1.2.0",
      "model_name": "LayoutModel",
      "state": {}
     },
     "a13a509429ea43ca96cc8b3887d2f669": {
      "model_module": "@jupyter-widgets/controls",
      "model_module_version": "1.5.0",
      "model_name": "ProgressStyleModel",
      "state": {
       "description_width": ""
      }
     },
     "a13b606a55b34619bff45eab436c23e4": {
      "model_module": "@jupyter-widgets/controls",
      "model_module_version": "1.5.0",
      "model_name": "HBoxModel",
      "state": {
       "children": [
        "IPY_MODEL_6a6e1316020643bca8cb81a0c8d34ac8",
        "IPY_MODEL_9445dc9b545c4f47867315f0644a3b3a",
        "IPY_MODEL_c280b6184933432686a6a71c17141678"
       ],
       "layout": "IPY_MODEL_29c3c5de76674a8db9571bc4d467072e"
      }
     },
     "a18b972b7f6d4951a7a5c570b654a9a0": {
      "model_module": "@jupyter-widgets/controls",
      "model_module_version": "1.5.0",
      "model_name": "HTMLModel",
      "state": {
       "layout": "IPY_MODEL_1f3c151131034bacb19059d6109b5fcb",
       "style": "IPY_MODEL_f83c70043db04fab8ed8fe83fb2a080b",
       "value": "100%"
      }
     },
     "a19b7733e55f461a9849bb8720f356bb": {
      "model_module": "@jupyter-widgets/controls",
      "model_module_version": "1.5.0",
      "model_name": "HBoxModel",
      "state": {
       "children": [
        "IPY_MODEL_0d9622eb7a604f6ea98ccb35d8910004",
        "IPY_MODEL_83c4148f380740c89e0f59d888b2afb3",
        "IPY_MODEL_e1de340460dd4ade8cf563d227787af3"
       ],
       "layout": "IPY_MODEL_a042f299c48046619f33365756e410ed"
      }
     },
     "a1c5df596f8e4b6c8670b3a7dd813d5e": {
      "model_module": "@jupyter-widgets/controls",
      "model_module_version": "1.5.0",
      "model_name": "ProgressStyleModel",
      "state": {
       "description_width": ""
      }
     },
     "a1f688a336e0474285bfeb3cc6f37c5d": {
      "model_module": "@jupyter-widgets/controls",
      "model_module_version": "1.5.0",
      "model_name": "FloatProgressModel",
      "state": {
       "bar_style": "success",
       "layout": "IPY_MODEL_46e71f2dad964d88a8fccdc24d62344a",
       "max": 5,
       "style": "IPY_MODEL_227b1eeb41714c109884f4f29b634c39",
       "value": 5
      }
     },
     "a20a05829b564c9da069284e941863d0": {
      "model_module": "@jupyter-widgets/base",
      "model_module_version": "1.2.0",
      "model_name": "LayoutModel",
      "state": {}
     },
     "a299462ea9214d0289a7a1be9d7c66de": {
      "model_module": "@jupyter-widgets/controls",
      "model_module_version": "1.5.0",
      "model_name": "DescriptionStyleModel",
      "state": {
       "description_width": ""
      }
     },
     "a29e1f67bc034315b080471e94e582e1": {
      "model_module": "@jupyter-widgets/controls",
      "model_module_version": "1.5.0",
      "model_name": "HTMLModel",
      "state": {
       "layout": "IPY_MODEL_e62c6f692c5340a190839f66b1a93df1",
       "style": "IPY_MODEL_13e3479ba0cb4ab08b43e83a2b64cea2",
       "value": "100%"
      }
     },
     "a2be8e6c1a4d48eea869eb46c9c6dce5": {
      "model_module": "@jupyter-widgets/base",
      "model_module_version": "1.2.0",
      "model_name": "LayoutModel",
      "state": {}
     },
     "a2c2a6e4ce7c4ef28d8942cb181e8e6d": {
      "model_module": "@jupyter-widgets/controls",
      "model_module_version": "1.5.0",
      "model_name": "HBoxModel",
      "state": {
       "children": [
        "IPY_MODEL_338178bffcd342c5800e3c6ccffed19d",
        "IPY_MODEL_f2c0a91ffe634369a6e3e91dff455cd1",
        "IPY_MODEL_25eebf7c89284ac597cde024fb6d6a4b"
       ],
       "layout": "IPY_MODEL_d8e4f194b98d4eb3a454b54beb72ada3"
      }
     },
     "a2deb585f50f479eb4e8e3ad77ab261f": {
      "model_module": "@jupyter-widgets/controls",
      "model_module_version": "1.5.0",
      "model_name": "HTMLModel",
      "state": {
       "layout": "IPY_MODEL_577c6699ebe74bf0942d47e59cf7af04",
       "style": "IPY_MODEL_ec2b9c01424543d7833f07965defd805",
       "value": "100%"
      }
     },
     "a318157b76a24b37ad398b0f449bec2e": {
      "model_module": "@jupyter-widgets/base",
      "model_module_version": "1.2.0",
      "model_name": "LayoutModel",
      "state": {}
     },
     "a35147d6301d4ee68014a0b45c506852": {
      "model_module": "@jupyter-widgets/controls",
      "model_module_version": "1.5.0",
      "model_name": "HTMLModel",
      "state": {
       "layout": "IPY_MODEL_12c5b2b9fa4f41db8742ae4060f25942",
       "style": "IPY_MODEL_9ca415f194634888951ff156311ebbc3",
       "value": " 5/5 [13:50&lt;00:00, 162.57s/it]"
      }
     },
     "a3824603bd8b421096e02d6e9f1a23d5": {
      "model_module": "@jupyter-widgets/base",
      "model_module_version": "1.2.0",
      "model_name": "LayoutModel",
      "state": {}
     },
     "a3b1242f08fe4b91af5a22d817631b67": {
      "model_module": "@jupyter-widgets/base",
      "model_module_version": "1.2.0",
      "model_name": "LayoutModel",
      "state": {}
     },
     "a3b6baf4da4c4d26b68b47fb53b1d935": {
      "model_module": "@jupyter-widgets/controls",
      "model_module_version": "1.5.0",
      "model_name": "HTMLModel",
      "state": {
       "layout": "IPY_MODEL_e753e27f606b4b96b521d23d3fe11d29",
       "style": "IPY_MODEL_1fdead41471a44e8af9c7040eeb2b64b",
       "value": " 5/5 [00:05&lt;00:00,  1.14s/it]"
      }
     },
     "a489f7d720a842a7aef9c2ecc619b218": {
      "model_module": "@jupyter-widgets/controls",
      "model_module_version": "1.5.0",
      "model_name": "FloatProgressModel",
      "state": {
       "bar_style": "success",
       "layout": "IPY_MODEL_92313d88aac34b649a89e6d6a2916262",
       "max": 5,
       "style": "IPY_MODEL_d43a42c1c6414443b4b7ac9818a1a73d",
       "value": 5
      }
     },
     "a4963feaf549477cbb27bd54987933f1": {
      "model_module": "@jupyter-widgets/base",
      "model_module_version": "1.2.0",
      "model_name": "LayoutModel",
      "state": {}
     },
     "a4edb29976ab44dd92ee21a7e7dbb0b5": {
      "model_module": "@jupyter-widgets/base",
      "model_module_version": "1.2.0",
      "model_name": "LayoutModel",
      "state": {}
     },
     "a5506a1052674550955de7290e25a7de": {
      "model_module": "@jupyter-widgets/controls",
      "model_module_version": "1.5.0",
      "model_name": "DescriptionStyleModel",
      "state": {
       "description_width": ""
      }
     },
     "a57949c73b3a449f9ec520c082274b36": {
      "model_module": "@jupyter-widgets/base",
      "model_module_version": "1.2.0",
      "model_name": "LayoutModel",
      "state": {}
     },
     "a5b58c4c3f324389bb8c661ec0bc3c6e": {
      "model_module": "@jupyter-widgets/base",
      "model_module_version": "1.2.0",
      "model_name": "LayoutModel",
      "state": {}
     },
     "a5e1e364511a4697a8c79e58e5dbcac9": {
      "model_module": "@jupyter-widgets/base",
      "model_module_version": "1.2.0",
      "model_name": "LayoutModel",
      "state": {}
     },
     "a5ebe59e26f6451d86820cf7e6d5ac06": {
      "model_module": "@jupyter-widgets/controls",
      "model_module_version": "1.5.0",
      "model_name": "HBoxModel",
      "state": {
       "children": [
        "IPY_MODEL_8c8111cefc4b43a1987f0a65131aed15",
        "IPY_MODEL_c6af08dd9cc346b78993682f0009aeae",
        "IPY_MODEL_95f46d8e17c6411bafbc30ed41dadc8a"
       ],
       "layout": "IPY_MODEL_d5e8b5f553e44487be8b6e04f3e759ee"
      }
     },
     "a5fbd63267dc45cfb87e299c7fbbd2f1": {
      "model_module": "@jupyter-widgets/base",
      "model_module_version": "1.2.0",
      "model_name": "LayoutModel",
      "state": {}
     },
     "a6397f5321fb4e1c823ba591fbc3ceb6": {
      "model_module": "@jupyter-widgets/controls",
      "model_module_version": "1.5.0",
      "model_name": "HTMLModel",
      "state": {
       "layout": "IPY_MODEL_c203a007850a48b099d7c7ec6a8c2eac",
       "style": "IPY_MODEL_c83349eb6e8f4288865e07ad3531fbc7",
       "value": "  0%"
      }
     },
     "a666b44cfeb742ca8cea437ed7da9204": {
      "model_module": "@jupyter-widgets/controls",
      "model_module_version": "1.5.0",
      "model_name": "HTMLModel",
      "state": {
       "layout": "IPY_MODEL_bc1cee5dda3242b5918dd80a00c0b457",
       "style": "IPY_MODEL_8d2bb3d170b54842ae27a40751397ca4",
       "value": "100%"
      }
     },
     "a69a05eddfb348c192f9a48f5138f361": {
      "model_module": "@jupyter-widgets/controls",
      "model_module_version": "1.5.0",
      "model_name": "HTMLModel",
      "state": {
       "layout": "IPY_MODEL_a5b58c4c3f324389bb8c661ec0bc3c6e",
       "style": "IPY_MODEL_c79bb9184c0a4fee9957866d64a85e93",
       "value": "100%"
      }
     },
     "a6cd03ee1fb74489b6b2a812251707a5": {
      "model_module": "@jupyter-widgets/controls",
      "model_module_version": "1.5.0",
      "model_name": "HTMLModel",
      "state": {
       "layout": "IPY_MODEL_bb192d12b80747d1b7b5f7e66c084d1b",
       "style": "IPY_MODEL_373bb56805bb4e5b87d3e50287aa63e5",
       "value": "100%"
      }
     },
     "a710761ea7b74d299d15e912c3ad0542": {
      "model_module": "@jupyter-widgets/controls",
      "model_module_version": "1.5.0",
      "model_name": "HBoxModel",
      "state": {
       "children": [
        "IPY_MODEL_bdbbabc742a945cdab7fad004b1a1424",
        "IPY_MODEL_fbd657add95a441992e46ec263ecb9f2",
        "IPY_MODEL_ccd567cef62e4229ae024be8d0be2452"
       ],
       "layout": "IPY_MODEL_ffae4808e8ac43c988fe7e80e9a4fb2d"
      }
     },
     "a7354c03d2734fb7a150dec9ffa0211e": {
      "model_module": "@jupyter-widgets/controls",
      "model_module_version": "1.5.0",
      "model_name": "HBoxModel",
      "state": {
       "children": [
        "IPY_MODEL_a6397f5321fb4e1c823ba591fbc3ceb6",
        "IPY_MODEL_f9caa022d021471e90aafe06489218c3",
        "IPY_MODEL_40fe8cbad7e044d8ae6b9390f7ee7aec"
       ],
       "layout": "IPY_MODEL_96dad7becc0f4d51ad7501e24a2d45e0"
      }
     },
     "a74e5a610bc347db8d50fa6f85cdec07": {
      "model_module": "@jupyter-widgets/base",
      "model_module_version": "1.2.0",
      "model_name": "LayoutModel",
      "state": {}
     },
     "a752fd9014304e0cac6bbb051beb9771": {
      "model_module": "@jupyter-widgets/base",
      "model_module_version": "1.2.0",
      "model_name": "LayoutModel",
      "state": {}
     },
     "a796ad68e7e744ecaa45bcf5fa0e7719": {
      "model_module": "@jupyter-widgets/controls",
      "model_module_version": "1.5.0",
      "model_name": "HTMLModel",
      "state": {
       "layout": "IPY_MODEL_0119d78b93914d40a93c826bf53ed3bb",
       "style": "IPY_MODEL_fa7d9d0b644648b0ab9b0da03fea34ac",
       "value": " 5/5 [00:05&lt;00:00,  1.00s/it]"
      }
     },
     "a799294d03e74613944117a98448d23e": {
      "model_module": "@jupyter-widgets/controls",
      "model_module_version": "1.5.0",
      "model_name": "HTMLModel",
      "state": {
       "layout": "IPY_MODEL_3897267b19444032beeb2013840390c0",
       "style": "IPY_MODEL_b9214d818de745b6aa78fe2e6eed79bb",
       "value": "100%"
      }
     },
     "a82964ad2651478899d91734d01a3b4d": {
      "model_module": "@jupyter-widgets/base",
      "model_module_version": "1.2.0",
      "model_name": "LayoutModel",
      "state": {}
     },
     "a8309a18675b4383ae0b668287488a47": {
      "model_module": "@jupyter-widgets/controls",
      "model_module_version": "1.5.0",
      "model_name": "HBoxModel",
      "state": {
       "children": [
        "IPY_MODEL_b05c15404dc34576b6a00623a1890694",
        "IPY_MODEL_8713730aef234c81855e4a50fa851751",
        "IPY_MODEL_598ec0792d564e8ab7abf0f4038ee2e5"
       ],
       "layout": "IPY_MODEL_7198e96a9f1048e3a5e24ca310eb6504"
      }
     },
     "a89449dd9efc4df0b81100f378d844a0": {
      "model_module": "@jupyter-widgets/controls",
      "model_module_version": "1.5.0",
      "model_name": "HTMLModel",
      "state": {
       "layout": "IPY_MODEL_a4edb29976ab44dd92ee21a7e7dbb0b5",
       "style": "IPY_MODEL_3666029a111d4cdc9d61d42c70231cf8",
       "value": " 5/5 [12:51&lt;00:00, 154.11s/it]"
      }
     },
     "a89ab82e98ba42f98844dac39895ebbb": {
      "model_module": "@jupyter-widgets/base",
      "model_module_version": "1.2.0",
      "model_name": "LayoutModel",
      "state": {}
     },
     "a8c2766e830340cca3dea45919ca3c52": {
      "model_module": "@jupyter-widgets/controls",
      "model_module_version": "1.5.0",
      "model_name": "ProgressStyleModel",
      "state": {
       "description_width": ""
      }
     },
     "a8d2c2da8ac34295bc50d827a98b6599": {
      "model_module": "@jupyter-widgets/base",
      "model_module_version": "1.2.0",
      "model_name": "LayoutModel",
      "state": {}
     },
     "a8f31c5f13cc4186adf52d13f16f65f0": {
      "model_module": "@jupyter-widgets/controls",
      "model_module_version": "1.5.0",
      "model_name": "HBoxModel",
      "state": {
       "children": [
        "IPY_MODEL_7707147f63104511b71f76dd2ecfef95",
        "IPY_MODEL_2e992cd0408045a183aa7f0960ffb600",
        "IPY_MODEL_4574ec61ffe84df0bc33886ddd04fd9f"
       ],
       "layout": "IPY_MODEL_e05fdcbf36e64b10bdf73f95332327cb"
      }
     },
     "a92ffe7eab0747a19e05bdb3e8e6fb7b": {
      "model_module": "@jupyter-widgets/controls",
      "model_module_version": "1.5.0",
      "model_name": "DescriptionStyleModel",
      "state": {
       "description_width": ""
      }
     },
     "a934668d293a49a6a824a5beef925d4f": {
      "model_module": "@jupyter-widgets/controls",
      "model_module_version": "1.5.0",
      "model_name": "HBoxModel",
      "state": {
       "children": [
        "IPY_MODEL_2c00999ef9f9471da2ac38f8ef086432",
        "IPY_MODEL_3f66f576626f491eaedcec6af757a072",
        "IPY_MODEL_aebbbfca7243414ab850dab55fd8d114"
       ],
       "layout": "IPY_MODEL_02a9231de15b449c9e00767415700247"
      }
     },
     "a99d27962a194aa1bc61ba626dee701d": {
      "model_module": "@jupyter-widgets/controls",
      "model_module_version": "1.5.0",
      "model_name": "FloatProgressModel",
      "state": {
       "bar_style": "success",
       "layout": "IPY_MODEL_d16794e7bc604956a26a66a4a9556587",
       "max": 5,
       "style": "IPY_MODEL_656b9e5413d14f42a015689d8756f284",
       "value": 5
      }
     },
     "a9ae7efcb5394ca1a7a88123e1a2b774": {
      "model_module": "@jupyter-widgets/controls",
      "model_module_version": "1.5.0",
      "model_name": "DescriptionStyleModel",
      "state": {
       "description_width": ""
      }
     },
     "a9bbd2b9fa034a9c836acbab86128ed9": {
      "model_module": "@jupyter-widgets/controls",
      "model_module_version": "1.5.0",
      "model_name": "HTMLModel",
      "state": {
       "layout": "IPY_MODEL_0aee9624d31f40718a5579fbc54583af",
       "style": "IPY_MODEL_db32613330ff4c37a4b0b982067b3e1b",
       "value": " 5/5 [00:00&lt;00:00, 12.85it/s]"
      }
     },
     "a9bda66fb87b40a28753e328b91c7693": {
      "model_module": "@jupyter-widgets/controls",
      "model_module_version": "1.5.0",
      "model_name": "DescriptionStyleModel",
      "state": {
       "description_width": ""
      }
     },
     "a9bf15ed1c4f46278f4f797ee69d8a96": {
      "model_module": "@jupyter-widgets/base",
      "model_module_version": "1.2.0",
      "model_name": "LayoutModel",
      "state": {}
     },
     "a9ece978e7b940c4aed2ccc21ec7d3c5": {
      "model_module": "@jupyter-widgets/controls",
      "model_module_version": "1.5.0",
      "model_name": "HTMLModel",
      "state": {
       "layout": "IPY_MODEL_1539800c2fc140fc9ec7327969c41c2a",
       "style": "IPY_MODEL_e3b7ff493fca4d3485e6c1c2b077bf92",
       "value": "100%"
      }
     },
     "a9fee4de23c943dcb9bca5991d5af6dd": {
      "model_module": "@jupyter-widgets/controls",
      "model_module_version": "1.5.0",
      "model_name": "FloatProgressModel",
      "state": {
       "bar_style": "success",
       "layout": "IPY_MODEL_bb5e8ae1ce3f41fb9642618599c327a4",
       "max": 5,
       "style": "IPY_MODEL_c18cd80c037040539bbb8cb27faf6876",
       "value": 5
      }
     },
     "aa076d6b594a45ec9d094dc987f956bc": {
      "model_module": "@jupyter-widgets/controls",
      "model_module_version": "1.5.0",
      "model_name": "ProgressStyleModel",
      "state": {
       "description_width": ""
      }
     },
     "aa4d4ca5cdf74aae8cc1a7e12b6319bc": {
      "model_module": "@jupyter-widgets/controls",
      "model_module_version": "1.5.0",
      "model_name": "HTMLModel",
      "state": {
       "layout": "IPY_MODEL_449084d2414d4144ab475a226479f026",
       "style": "IPY_MODEL_75fb12c294cf424db33f6c3089432d6e",
       "value": " 5/5 [13:54&lt;00:00, 168.75s/it]"
      }
     },
     "aa58da4784474b4f9af7b7d1b4805474": {
      "model_module": "@jupyter-widgets/controls",
      "model_module_version": "1.5.0",
      "model_name": "HTMLModel",
      "state": {
       "layout": "IPY_MODEL_0eb6fff80b9d4a129e4103c7c54ea696",
       "style": "IPY_MODEL_919a482b5a064b03a477ec2ae6c1b2b7",
       "value": "100%"
      }
     },
     "aa8119d8185c4e49a9d1db5aa4547b56": {
      "model_module": "@jupyter-widgets/base",
      "model_module_version": "1.2.0",
      "model_name": "LayoutModel",
      "state": {}
     },
     "aaa429fabeb54cb6bf24929af6d7b3ff": {
      "model_module": "@jupyter-widgets/controls",
      "model_module_version": "1.5.0",
      "model_name": "HBoxModel",
      "state": {
       "children": [
        "IPY_MODEL_a29e1f67bc034315b080471e94e582e1",
        "IPY_MODEL_9cc00c3021b14d8894031a7dd47926a7",
        "IPY_MODEL_bfc4774a5a5f4d0f9230022956cbcf0a"
       ],
       "layout": "IPY_MODEL_5527a41c48ac4b39b3dcf29f50a4c8d0"
      }
     },
     "ab30694a62cc4f22970c8c256536bc2b": {
      "model_module": "@jupyter-widgets/controls",
      "model_module_version": "1.5.0",
      "model_name": "DescriptionStyleModel",
      "state": {
       "description_width": ""
      }
     },
     "ab3566f79c284ceb8aec7ba7b8e7df74": {
      "model_module": "@jupyter-widgets/base",
      "model_module_version": "1.2.0",
      "model_name": "LayoutModel",
      "state": {}
     },
     "ab5e4edbb0e34b859b39f5cf4aa29578": {
      "model_module": "@jupyter-widgets/controls",
      "model_module_version": "1.5.0",
      "model_name": "DescriptionStyleModel",
      "state": {
       "description_width": ""
      }
     },
     "ab5fdb2c5b564a69ab5c090a5894ebf1": {
      "model_module": "@jupyter-widgets/controls",
      "model_module_version": "1.5.0",
      "model_name": "DescriptionStyleModel",
      "state": {
       "description_width": ""
      }
     },
     "abff658ffec44ecbac15c8e1fec24fca": {
      "model_module": "@jupyter-widgets/base",
      "model_module_version": "1.2.0",
      "model_name": "LayoutModel",
      "state": {}
     },
     "ac34128923844d98b839fc7f87507389": {
      "model_module": "@jupyter-widgets/controls",
      "model_module_version": "1.5.0",
      "model_name": "HTMLModel",
      "state": {
       "layout": "IPY_MODEL_ab3566f79c284ceb8aec7ba7b8e7df74",
       "style": "IPY_MODEL_0c566fc1bdab42b4b9ce2c49fd9876cd",
       "value": " 5/5 [00:05&lt;00:00,  1.09s/it]"
      }
     },
     "ac6d81e776694447b1194becac7a0a40": {
      "model_module": "@jupyter-widgets/controls",
      "model_module_version": "1.5.0",
      "model_name": "HBoxModel",
      "state": {
       "children": [
        "IPY_MODEL_04218a57797e47db8437c3b1f6832345",
        "IPY_MODEL_54ee979ac7844a5ba29b82cafd87008b",
        "IPY_MODEL_4e61eac2ceaf4f9b9b391207d32454e8"
       ],
       "layout": "IPY_MODEL_b9fd8e9e12c44de89c6296bae1865ee7"
      }
     },
     "ac7e280121e244a7852ed193f500560f": {
      "model_module": "@jupyter-widgets/controls",
      "model_module_version": "1.5.0",
      "model_name": "HTMLModel",
      "state": {
       "layout": "IPY_MODEL_f87f958f9af54fde85fe7d47e3460274",
       "style": "IPY_MODEL_d52caa0068ee44e493d54a9e93e73b07",
       "value": "100%"
      }
     },
     "ac99b5b74d0d4d239a2c178956112b15": {
      "model_module": "@jupyter-widgets/controls",
      "model_module_version": "1.5.0",
      "model_name": "HTMLModel",
      "state": {
       "layout": "IPY_MODEL_b317155aa59d493e85305590bd73a0c8",
       "style": "IPY_MODEL_5742452243e541cda7a456a7351ec58e",
       "value": " 5/5 [14:17&lt;00:00, 171.45s/it]"
      }
     },
     "aca735843ca844e6a58e1052d47a3e24": {
      "model_module": "@jupyter-widgets/base",
      "model_module_version": "1.2.0",
      "model_name": "LayoutModel",
      "state": {}
     },
     "acbb1bd75f42454f8b4be28b0fba9cb2": {
      "model_module": "@jupyter-widgets/controls",
      "model_module_version": "1.5.0",
      "model_name": "FloatProgressModel",
      "state": {
       "bar_style": "success",
       "layout": "IPY_MODEL_4df3b4d05bf74346ba578d12c42f8936",
       "max": 5,
       "style": "IPY_MODEL_003ecfad4ac94411835baec39cbf1f70",
       "value": 5
      }
     },
     "acfd277e1453454d9550e3706410381b": {
      "model_module": "@jupyter-widgets/controls",
      "model_module_version": "1.5.0",
      "model_name": "DescriptionStyleModel",
      "state": {
       "description_width": ""
      }
     },
     "ad29d5c4abe34215bae81782d62e12f0": {
      "model_module": "@jupyter-widgets/controls",
      "model_module_version": "1.5.0",
      "model_name": "FloatProgressModel",
      "state": {
       "bar_style": "success",
       "layout": "IPY_MODEL_ff1587eb371c4bc982890efe37085033",
       "max": 5,
       "style": "IPY_MODEL_44aa822ab9864483a4f0b3ba892e57a6",
       "value": 5
      }
     },
     "ad32bde4601840cc86080ceedcfca140": {
      "model_module": "@jupyter-widgets/controls",
      "model_module_version": "1.5.0",
      "model_name": "HBoxModel",
      "state": {
       "children": [
        "IPY_MODEL_85498c92230443d89594b05ce8b11cdd",
        "IPY_MODEL_9c99cf4e08cd4189aa04e4961f2a2bea",
        "IPY_MODEL_7bbdd73534b4483698abc35f89b49375"
       ],
       "layout": "IPY_MODEL_79c2d45856434b20b09474ab58f1488b"
      }
     },
     "ad74bb2cfcdc4ee88e5d006a139c0bf7": {
      "model_module": "@jupyter-widgets/base",
      "model_module_version": "1.2.0",
      "model_name": "LayoutModel",
      "state": {}
     },
     "adb620850aea49fdaefcd30de0f38317": {
      "model_module": "@jupyter-widgets/base",
      "model_module_version": "1.2.0",
      "model_name": "LayoutModel",
      "state": {}
     },
     "ade81211949146329034ed4b6445c39b": {
      "model_module": "@jupyter-widgets/base",
      "model_module_version": "1.2.0",
      "model_name": "LayoutModel",
      "state": {}
     },
     "ae0194dc7aa5433a9efab2af2f867890": {
      "model_module": "@jupyter-widgets/controls",
      "model_module_version": "1.5.0",
      "model_name": "DescriptionStyleModel",
      "state": {
       "description_width": ""
      }
     },
     "ae20834006f940c1a25b25bc58c94825": {
      "model_module": "@jupyter-widgets/base",
      "model_module_version": "1.2.0",
      "model_name": "LayoutModel",
      "state": {}
     },
     "ae66082986774d089d9d70fca24b4d10": {
      "model_module": "@jupyter-widgets/controls",
      "model_module_version": "1.5.0",
      "model_name": "ProgressStyleModel",
      "state": {
       "description_width": ""
      }
     },
     "ae726be80e564ae18889d2427465e1e5": {
      "model_module": "@jupyter-widgets/controls",
      "model_module_version": "1.5.0",
      "model_name": "FloatProgressModel",
      "state": {
       "bar_style": "success",
       "layout": "IPY_MODEL_052a5f5e32614c42b4d1434d2ac9d97b",
       "max": 5,
       "style": "IPY_MODEL_337c34e501f14f21a078ab80475f3103",
       "value": 5
      }
     },
     "ae8941278a7643619925efa31fcbb6cd": {
      "model_module": "@jupyter-widgets/controls",
      "model_module_version": "1.5.0",
      "model_name": "FloatProgressModel",
      "state": {
       "bar_style": "success",
       "layout": "IPY_MODEL_b03e0af9075e4fada49f2684f97263cf",
       "max": 5,
       "style": "IPY_MODEL_664dbc64547c435b8675368301a3037d",
       "value": 5
      }
     },
     "aead5a42e0774b72916b00ce450b3d9d": {
      "model_module": "@jupyter-widgets/controls",
      "model_module_version": "1.5.0",
      "model_name": "DescriptionStyleModel",
      "state": {
       "description_width": ""
      }
     },
     "aebbbfca7243414ab850dab55fd8d114": {
      "model_module": "@jupyter-widgets/controls",
      "model_module_version": "1.5.0",
      "model_name": "HTMLModel",
      "state": {
       "layout": "IPY_MODEL_6dc0932969d444e4ae9f9ef92b588ded",
       "style": "IPY_MODEL_a299462ea9214d0289a7a1be9d7c66de",
       "value": " 5/5 [00:14&lt;00:00,  2.91s/it]"
      }
     },
     "aec447bc53ee47f9ab6d05c16c8ba3a2": {
      "model_module": "@jupyter-widgets/controls",
      "model_module_version": "1.5.0",
      "model_name": "DescriptionStyleModel",
      "state": {
       "description_width": ""
      }
     },
     "aed0a6a2a6b041bab40787ad74c01178": {
      "model_module": "@jupyter-widgets/base",
      "model_module_version": "1.2.0",
      "model_name": "LayoutModel",
      "state": {}
     },
     "aed83756061844f794205a0f8aab0e4f": {
      "model_module": "@jupyter-widgets/base",
      "model_module_version": "1.2.0",
      "model_name": "LayoutModel",
      "state": {}
     },
     "aee1ba5044344fd2ac6874a5fb149b47": {
      "model_module": "@jupyter-widgets/controls",
      "model_module_version": "1.5.0",
      "model_name": "DescriptionStyleModel",
      "state": {
       "description_width": ""
      }
     },
     "af8044f2015242c09afa9ff4ee3ab6da": {
      "model_module": "@jupyter-widgets/base",
      "model_module_version": "1.2.0",
      "model_name": "LayoutModel",
      "state": {}
     },
     "af93342685394589a4d563e6e3b7b305": {
      "model_module": "@jupyter-widgets/controls",
      "model_module_version": "1.5.0",
      "model_name": "DescriptionStyleModel",
      "state": {
       "description_width": ""
      }
     },
     "afa0ce2ba32546548cb1e26f0b098804": {
      "model_module": "@jupyter-widgets/controls",
      "model_module_version": "1.5.0",
      "model_name": "DescriptionStyleModel",
      "state": {
       "description_width": ""
      }
     },
     "afdccf40c4c14fe09d1e3994d2d68902": {
      "model_module": "@jupyter-widgets/base",
      "model_module_version": "1.2.0",
      "model_name": "LayoutModel",
      "state": {}
     },
     "b00d4b5674064ee19c4a4a5795da0939": {
      "model_module": "@jupyter-widgets/controls",
      "model_module_version": "1.5.0",
      "model_name": "HTMLModel",
      "state": {
       "layout": "IPY_MODEL_af8044f2015242c09afa9ff4ee3ab6da",
       "style": "IPY_MODEL_261617e45e7c416cb1d2ecf099207ff4",
       "value": "100%"
      }
     },
     "b015c87f91da4adfaa2a4a07d560cbc2": {
      "model_module": "@jupyter-widgets/controls",
      "model_module_version": "1.5.0",
      "model_name": "DescriptionStyleModel",
      "state": {
       "description_width": ""
      }
     },
     "b03e0af9075e4fada49f2684f97263cf": {
      "model_module": "@jupyter-widgets/base",
      "model_module_version": "1.2.0",
      "model_name": "LayoutModel",
      "state": {}
     },
     "b05c15404dc34576b6a00623a1890694": {
      "model_module": "@jupyter-widgets/controls",
      "model_module_version": "1.5.0",
      "model_name": "HTMLModel",
      "state": {
       "layout": "IPY_MODEL_54e65de09205426885fb6161ae4f4b78",
       "style": "IPY_MODEL_1c9c085a08e840eb8d33e3e65d730982",
       "value": "100%"
      }
     },
     "b0720bbc4bc040ffb27df16006fd7a3b": {
      "model_module": "@jupyter-widgets/base",
      "model_module_version": "1.2.0",
      "model_name": "LayoutModel",
      "state": {}
     },
     "b08785ba75c240b5a094d05948afc4c3": {
      "model_module": "@jupyter-widgets/controls",
      "model_module_version": "1.5.0",
      "model_name": "HTMLModel",
      "state": {
       "layout": "IPY_MODEL_346f31158fe346458f5688c980e789b6",
       "style": "IPY_MODEL_12f39e7089614b1c84a431c8e0f3870d",
       "value": "100%"
      }
     },
     "b0961c569d5a4af3bb6a0f67750942ea": {
      "model_module": "@jupyter-widgets/controls",
      "model_module_version": "1.5.0",
      "model_name": "ProgressStyleModel",
      "state": {
       "description_width": ""
      }
     },
     "b0ba0cce99de4b6cb05b151fc9e9c69d": {
      "model_module": "@jupyter-widgets/controls",
      "model_module_version": "1.5.0",
      "model_name": "DescriptionStyleModel",
      "state": {
       "description_width": ""
      }
     },
     "b0c1bf3e0f6744a48f9ec7d72e618914": {
      "model_module": "@jupyter-widgets/controls",
      "model_module_version": "1.5.0",
      "model_name": "ProgressStyleModel",
      "state": {
       "description_width": ""
      }
     },
     "b0da80ea74734da9bdd60e84bfc95fc0": {
      "model_module": "@jupyter-widgets/controls",
      "model_module_version": "1.5.0",
      "model_name": "ProgressStyleModel",
      "state": {
       "description_width": ""
      }
     },
     "b1038033264f46d593034e608c9189ef": {
      "model_module": "@jupyter-widgets/controls",
      "model_module_version": "1.5.0",
      "model_name": "DescriptionStyleModel",
      "state": {
       "description_width": ""
      }
     },
     "b1266e231fe4434a89a0bb260e1b6282": {
      "model_module": "@jupyter-widgets/base",
      "model_module_version": "1.2.0",
      "model_name": "LayoutModel",
      "state": {}
     },
     "b14a9fdc9cbf4ad4b5f5abce1cd551cb": {
      "model_module": "@jupyter-widgets/controls",
      "model_module_version": "1.5.0",
      "model_name": "HTMLModel",
      "state": {
       "layout": "IPY_MODEL_888db0b467374a86b6be36deacf727d9",
       "style": "IPY_MODEL_ab30694a62cc4f22970c8c256536bc2b",
       "value": "100%"
      }
     },
     "b1b95ee3bb5247e389ab714ff3aa0e17": {
      "model_module": "@jupyter-widgets/base",
      "model_module_version": "1.2.0",
      "model_name": "LayoutModel",
      "state": {}
     },
     "b215f91279bf4e0eb5f7827be2a5bbb8": {
      "model_module": "@jupyter-widgets/base",
      "model_module_version": "1.2.0",
      "model_name": "LayoutModel",
      "state": {}
     },
     "b24385af62644c0da38284e2905d44af": {
      "model_module": "@jupyter-widgets/base",
      "model_module_version": "1.2.0",
      "model_name": "LayoutModel",
      "state": {}
     },
     "b24dedada649481a970efe13b2e2990a": {
      "model_module": "@jupyter-widgets/controls",
      "model_module_version": "1.5.0",
      "model_name": "FloatProgressModel",
      "state": {
       "bar_style": "success",
       "layout": "IPY_MODEL_b947d5dd243f4fd89800a8070e811838",
       "max": 5,
       "style": "IPY_MODEL_08fbdd95decf4eccbf2d7bd5f67ed7ee",
       "value": 5
      }
     },
     "b2646d57944f45b4bdf95d536f45e667": {
      "model_module": "@jupyter-widgets/controls",
      "model_module_version": "1.5.0",
      "model_name": "FloatProgressModel",
      "state": {
       "bar_style": "success",
       "layout": "IPY_MODEL_953087a5abef4c1ca491eee1ce82ccbf",
       "max": 5,
       "style": "IPY_MODEL_d6ac1a76eb7a4d1fac30c1f72f4d8041",
       "value": 5
      }
     },
     "b2b4f99e33b1478dbaf2b3406142ee22": {
      "model_module": "@jupyter-widgets/controls",
      "model_module_version": "1.5.0",
      "model_name": "FloatProgressModel",
      "state": {
       "bar_style": "success",
       "layout": "IPY_MODEL_830fe7bcd37a433c82e9ffe92033f18f",
       "max": 5,
       "style": "IPY_MODEL_d135d4c16fa84e6cb43e6decfb92b116",
       "value": 5
      }
     },
     "b2d1b86c8c7a419dae3b155cfc5127fb": {
      "model_module": "@jupyter-widgets/controls",
      "model_module_version": "1.5.0",
      "model_name": "DescriptionStyleModel",
      "state": {
       "description_width": ""
      }
     },
     "b2d39a44169842d19084839b32f0dc78": {
      "model_module": "@jupyter-widgets/controls",
      "model_module_version": "1.5.0",
      "model_name": "HBoxModel",
      "state": {
       "children": [
        "IPY_MODEL_f941270565c94207a8355b4acb517d9b",
        "IPY_MODEL_a489f7d720a842a7aef9c2ecc619b218",
        "IPY_MODEL_fd2b6e6de42342809da50d7d73af86bf"
       ],
       "layout": "IPY_MODEL_05922c812bda4a4b99972be634bb19d2"
      }
     },
     "b317155aa59d493e85305590bd73a0c8": {
      "model_module": "@jupyter-widgets/base",
      "model_module_version": "1.2.0",
      "model_name": "LayoutModel",
      "state": {}
     },
     "b34cb100423b4f729a6b44b9c125072c": {
      "model_module": "@jupyter-widgets/base",
      "model_module_version": "1.2.0",
      "model_name": "LayoutModel",
      "state": {}
     },
     "b38e84e9c1c1472ab8fef141b4c60708": {
      "model_module": "@jupyter-widgets/controls",
      "model_module_version": "1.5.0",
      "model_name": "DescriptionStyleModel",
      "state": {
       "description_width": ""
      }
     },
     "b3bf571c907640ec975761bba7ed53ad": {
      "model_module": "@jupyter-widgets/controls",
      "model_module_version": "1.5.0",
      "model_name": "HTMLModel",
      "state": {
       "layout": "IPY_MODEL_c9b8957734be4b2c922dfb248437f5a9",
       "style": "IPY_MODEL_ab5fdb2c5b564a69ab5c090a5894ebf1",
       "value": "100%"
      }
     },
     "b3dfcdf879d448df852eebf3547a3ac0": {
      "model_module": "@jupyter-widgets/base",
      "model_module_version": "1.2.0",
      "model_name": "LayoutModel",
      "state": {}
     },
     "b47231e0a701425c97431ea5116f6676": {
      "model_module": "@jupyter-widgets/controls",
      "model_module_version": "1.5.0",
      "model_name": "HBoxModel",
      "state": {
       "children": [
        "IPY_MODEL_920846d2ce2544bd847eebadf43ec277",
        "IPY_MODEL_b65e72eb1a654927958922e75f743314",
        "IPY_MODEL_3477722ec595476fad09e9e454bd4647"
       ],
       "layout": "IPY_MODEL_1be26e798bd04c579e5f096c989c6675"
      }
     },
     "b48349911f1548baa6213c09677887c1": {
      "model_module": "@jupyter-widgets/controls",
      "model_module_version": "1.5.0",
      "model_name": "DescriptionStyleModel",
      "state": {
       "description_width": ""
      }
     },
     "b4c6c05e1e2742778452d3a0d7edc6b5": {
      "model_module": "@jupyter-widgets/controls",
      "model_module_version": "1.5.0",
      "model_name": "HBoxModel",
      "state": {
       "children": [
        "IPY_MODEL_bf24425fa03b46f2a0a80e9f5fd0b375",
        "IPY_MODEL_67161816629c47448f1b073f7096f6cd",
        "IPY_MODEL_63ee5a75f9824f2b94aa4c6c765e6b5d"
       ],
       "layout": "IPY_MODEL_ad74bb2cfcdc4ee88e5d006a139c0bf7"
      }
     },
     "b4dbf3157e1a45fda5e9da35e3068493": {
      "model_module": "@jupyter-widgets/base",
      "model_module_version": "1.2.0",
      "model_name": "LayoutModel",
      "state": {}
     },
     "b4e1d678c7ee482cb1053d65dea3e9e3": {
      "model_module": "@jupyter-widgets/controls",
      "model_module_version": "1.5.0",
      "model_name": "HBoxModel",
      "state": {
       "children": [
        "IPY_MODEL_2e3e702787584627bc7eced88aa0aa50",
        "IPY_MODEL_e08735ae9319432ea43b3e7616feab6d",
        "IPY_MODEL_8e79e2d3e5394dc7a905027433cb2b37"
       ],
       "layout": "IPY_MODEL_8c0b7d6f71ee4919801f10182a1912e6"
      }
     },
     "b52f7d0349064cd2897a32b6bff2549b": {
      "model_module": "@jupyter-widgets/controls",
      "model_module_version": "1.5.0",
      "model_name": "ProgressStyleModel",
      "state": {
       "description_width": ""
      }
     },
     "b54075bfc8b04707a37caf0adfd2ba53": {
      "model_module": "@jupyter-widgets/controls",
      "model_module_version": "1.5.0",
      "model_name": "HTMLModel",
      "state": {
       "layout": "IPY_MODEL_b60025fafa964db28ec70c37f6132fdf",
       "style": "IPY_MODEL_81e6bbd729d54c80bfdba322a8350e03",
       "value": "100%"
      }
     },
     "b5893675378948f9ba1f282e49cce624": {
      "model_module": "@jupyter-widgets/controls",
      "model_module_version": "1.5.0",
      "model_name": "HBoxModel",
      "state": {
       "children": [
        "IPY_MODEL_93569c090db442048441096182e30c4d",
        "IPY_MODEL_b97bc296447043819dcde08c38b7e664",
        "IPY_MODEL_8e3438204ea24ee88036bc8dbbec6787"
       ],
       "layout": "IPY_MODEL_86c50b8556f44b08abdf81f063ef67a9"
      }
     },
     "b5ca0e960d054053a7eac5b4b1c9764f": {
      "model_module": "@jupyter-widgets/controls",
      "model_module_version": "1.5.0",
      "model_name": "ProgressStyleModel",
      "state": {
       "description_width": ""
      }
     },
     "b5f90a2e10814f589ef1a04b8cff7523": {
      "model_module": "@jupyter-widgets/base",
      "model_module_version": "1.2.0",
      "model_name": "LayoutModel",
      "state": {}
     },
     "b60025fafa964db28ec70c37f6132fdf": {
      "model_module": "@jupyter-widgets/base",
      "model_module_version": "1.2.0",
      "model_name": "LayoutModel",
      "state": {}
     },
     "b65e72eb1a654927958922e75f743314": {
      "model_module": "@jupyter-widgets/controls",
      "model_module_version": "1.5.0",
      "model_name": "FloatProgressModel",
      "state": {
       "bar_style": "success",
       "layout": "IPY_MODEL_bc9cfefbd9fd43cbb4ba2dcd6149e0bb",
       "max": 5,
       "style": "IPY_MODEL_9745e69cacf74190ad4426ea6c79953b",
       "value": 5
      }
     },
     "b679c3936977494a8da919cf1cdcfefb": {
      "model_module": "@jupyter-widgets/controls",
      "model_module_version": "1.5.0",
      "model_name": "DescriptionStyleModel",
      "state": {
       "description_width": ""
      }
     },
     "b693bd56b02347b489461b0ba1b4fd88": {
      "model_module": "@jupyter-widgets/base",
      "model_module_version": "1.2.0",
      "model_name": "LayoutModel",
      "state": {}
     },
     "b6b3aa6a3c5b44668b34165c3f175b3c": {
      "model_module": "@jupyter-widgets/controls",
      "model_module_version": "1.5.0",
      "model_name": "ProgressStyleModel",
      "state": {
       "description_width": ""
      }
     },
     "b6bc195b16f74afabf97356b7b77d610": {
      "model_module": "@jupyter-widgets/controls",
      "model_module_version": "1.5.0",
      "model_name": "DescriptionStyleModel",
      "state": {
       "description_width": ""
      }
     },
     "b70128e9565b4b3581b362d6211ab681": {
      "model_module": "@jupyter-widgets/base",
      "model_module_version": "1.2.0",
      "model_name": "LayoutModel",
      "state": {}
     },
     "b70b8d30386c4bb388757acd282a5acb": {
      "model_module": "@jupyter-widgets/controls",
      "model_module_version": "1.5.0",
      "model_name": "DescriptionStyleModel",
      "state": {
       "description_width": ""
      }
     },
     "b7130ebbb8b34a1ba3022614c443c8a1": {
      "model_module": "@jupyter-widgets/controls",
      "model_module_version": "1.5.0",
      "model_name": "ProgressStyleModel",
      "state": {
       "description_width": ""
      }
     },
     "b7405c7f40e74117b13c11cb547e97fd": {
      "model_module": "@jupyter-widgets/base",
      "model_module_version": "1.2.0",
      "model_name": "LayoutModel",
      "state": {}
     },
     "b764785d5b4142e3be993205af920e44": {
      "model_module": "@jupyter-widgets/base",
      "model_module_version": "1.2.0",
      "model_name": "LayoutModel",
      "state": {}
     },
     "b7756e23a9aa4bae97dceb646c06c315": {
      "model_module": "@jupyter-widgets/controls",
      "model_module_version": "1.5.0",
      "model_name": "DescriptionStyleModel",
      "state": {
       "description_width": ""
      }
     },
     "b7892d431c6d438bba6821bfe52b367b": {
      "model_module": "@jupyter-widgets/controls",
      "model_module_version": "1.5.0",
      "model_name": "HTMLModel",
      "state": {
       "layout": "IPY_MODEL_648fcf7fe303457ea38266e90b7ac522",
       "style": "IPY_MODEL_4b804c46c34a489dbc86ec53faf1c0c6",
       "value": " 5/5 [00:04&lt;00:00,  1.02it/s]"
      }
     },
     "b7c458b12f234806b1a339c95e635168": {
      "model_module": "@jupyter-widgets/base",
      "model_module_version": "1.2.0",
      "model_name": "LayoutModel",
      "state": {}
     },
     "b7c7935164814d5384d99f6379e1a370": {
      "model_module": "@jupyter-widgets/base",
      "model_module_version": "1.2.0",
      "model_name": "LayoutModel",
      "state": {}
     },
     "b90f663f6177421eba8f746cfd21b802": {
      "model_module": "@jupyter-widgets/controls",
      "model_module_version": "1.5.0",
      "model_name": "DescriptionStyleModel",
      "state": {
       "description_width": ""
      }
     },
     "b9214d818de745b6aa78fe2e6eed79bb": {
      "model_module": "@jupyter-widgets/controls",
      "model_module_version": "1.5.0",
      "model_name": "DescriptionStyleModel",
      "state": {
       "description_width": ""
      }
     },
     "b927906f51024ffaab658d6cd0aa6026": {
      "model_module": "@jupyter-widgets/base",
      "model_module_version": "1.2.0",
      "model_name": "LayoutModel",
      "state": {}
     },
     "b947d5dd243f4fd89800a8070e811838": {
      "model_module": "@jupyter-widgets/base",
      "model_module_version": "1.2.0",
      "model_name": "LayoutModel",
      "state": {}
     },
     "b9771ecc99ae4f35a99641916e9e1348": {
      "model_module": "@jupyter-widgets/controls",
      "model_module_version": "1.5.0",
      "model_name": "DescriptionStyleModel",
      "state": {
       "description_width": ""
      }
     },
     "b97bc296447043819dcde08c38b7e664": {
      "model_module": "@jupyter-widgets/controls",
      "model_module_version": "1.5.0",
      "model_name": "FloatProgressModel",
      "state": {
       "bar_style": "success",
       "layout": "IPY_MODEL_4f45d3b39eb64063a8b24e77a9fb90b2",
       "max": 5,
       "style": "IPY_MODEL_fe1a7c4fb54f4c5e9302511608662e36",
       "value": 5
      }
     },
     "b999238ad6e84417a715b082e4a45742": {
      "model_module": "@jupyter-widgets/base",
      "model_module_version": "1.2.0",
      "model_name": "LayoutModel",
      "state": {}
     },
     "b99ee8dbd5494a04ab3ccc13322c799e": {
      "model_module": "@jupyter-widgets/controls",
      "model_module_version": "1.5.0",
      "model_name": "HTMLModel",
      "state": {
       "layout": "IPY_MODEL_7ed0f13480144d91bae77d5291a29839",
       "style": "IPY_MODEL_87bdab018c9d4b9d8efa6e3800c87203",
       "value": "100%"
      }
     },
     "b9da2efffe1e4fb5956042246fcf3606": {
      "model_module": "@jupyter-widgets/base",
      "model_module_version": "1.2.0",
      "model_name": "LayoutModel",
      "state": {}
     },
     "b9fd8e9e12c44de89c6296bae1865ee7": {
      "model_module": "@jupyter-widgets/base",
      "model_module_version": "1.2.0",
      "model_name": "LayoutModel",
      "state": {}
     },
     "ba156cb482a344f4866a253bb7996656": {
      "model_module": "@jupyter-widgets/controls",
      "model_module_version": "1.5.0",
      "model_name": "ProgressStyleModel",
      "state": {
       "description_width": ""
      }
     },
     "ba360481777f4097bf44b39a5f27a523": {
      "model_module": "@jupyter-widgets/controls",
      "model_module_version": "1.5.0",
      "model_name": "DescriptionStyleModel",
      "state": {
       "description_width": ""
      }
     },
     "ba40ca3134f8442e95e85c96a826fd88": {
      "model_module": "@jupyter-widgets/controls",
      "model_module_version": "1.5.0",
      "model_name": "DescriptionStyleModel",
      "state": {
       "description_width": ""
      }
     },
     "ba5cc2e285e543639aace62f4f6ec188": {
      "model_module": "@jupyter-widgets/base",
      "model_module_version": "1.2.0",
      "model_name": "LayoutModel",
      "state": {}
     },
     "ba6c40a7a1c9418b9b231908fdd84988": {
      "model_module": "@jupyter-widgets/base",
      "model_module_version": "1.2.0",
      "model_name": "LayoutModel",
      "state": {}
     },
     "ba7166087d044a8ba97c49c2ddbf312e": {
      "model_module": "@jupyter-widgets/controls",
      "model_module_version": "1.5.0",
      "model_name": "HBoxModel",
      "state": {
       "children": [
        "IPY_MODEL_6007ca8bd30e424f9b200ee22fdc4538",
        "IPY_MODEL_8c8d12a335fe432783a5370716261a05",
        "IPY_MODEL_98bb309def2b48bd89b90520773b1c27"
       ],
       "layout": "IPY_MODEL_c76ed4c321e6406b8f90481e00d1ddeb"
      }
     },
     "ba7da28166bd4ac386841752dba41cb2": {
      "model_module": "@jupyter-widgets/controls",
      "model_module_version": "1.5.0",
      "model_name": "HTMLModel",
      "state": {
       "layout": "IPY_MODEL_183f917818a1460a9f3d08651ffcb1dd",
       "style": "IPY_MODEL_f47c6c8767e94722bbb888c404d44340",
       "value": "100%"
      }
     },
     "baa1304d6d474135b447555b380dbdc1": {
      "model_module": "@jupyter-widgets/controls",
      "model_module_version": "1.5.0",
      "model_name": "FloatProgressModel",
      "state": {
       "bar_style": "success",
       "layout": "IPY_MODEL_c7f6766dd92f45e5a91d42359978673b",
       "max": 5,
       "style": "IPY_MODEL_bb809509d2c34c93a79d4135b01852a2",
       "value": 5
      }
     },
     "bab5c6919eaf42ed872e9975ddfdd949": {
      "model_module": "@jupyter-widgets/controls",
      "model_module_version": "1.5.0",
      "model_name": "DescriptionStyleModel",
      "state": {
       "description_width": ""
      }
     },
     "babe9a91009c4094a4f74fadda396a1a": {
      "model_module": "@jupyter-widgets/controls",
      "model_module_version": "1.5.0",
      "model_name": "FloatProgressModel",
      "state": {
       "bar_style": "success",
       "layout": "IPY_MODEL_20d02f2ff20f47ab88205e859d1bd39d",
       "max": 5,
       "style": "IPY_MODEL_0a92ab6a88fc48009a9914d851c2eacc",
       "value": 5
      }
     },
     "baf46caeac2448cc96df9693d4137647": {
      "model_module": "@jupyter-widgets/base",
      "model_module_version": "1.2.0",
      "model_name": "LayoutModel",
      "state": {}
     },
     "bb0be8531fa64fb4889e270367221050": {
      "model_module": "@jupyter-widgets/base",
      "model_module_version": "1.2.0",
      "model_name": "LayoutModel",
      "state": {}
     },
     "bb0d04c9c73c4629a02f38afd6d5a372": {
      "model_module": "@jupyter-widgets/base",
      "model_module_version": "1.2.0",
      "model_name": "LayoutModel",
      "state": {}
     },
     "bb17f55962744374b1649412bf42874b": {
      "model_module": "@jupyter-widgets/base",
      "model_module_version": "1.2.0",
      "model_name": "LayoutModel",
      "state": {}
     },
     "bb192d12b80747d1b7b5f7e66c084d1b": {
      "model_module": "@jupyter-widgets/base",
      "model_module_version": "1.2.0",
      "model_name": "LayoutModel",
      "state": {}
     },
     "bb421aabcd9c42958ab3f2061f2a306a": {
      "model_module": "@jupyter-widgets/controls",
      "model_module_version": "1.5.0",
      "model_name": "DescriptionStyleModel",
      "state": {
       "description_width": ""
      }
     },
     "bb5e8ae1ce3f41fb9642618599c327a4": {
      "model_module": "@jupyter-widgets/base",
      "model_module_version": "1.2.0",
      "model_name": "LayoutModel",
      "state": {}
     },
     "bb809509d2c34c93a79d4135b01852a2": {
      "model_module": "@jupyter-widgets/controls",
      "model_module_version": "1.5.0",
      "model_name": "ProgressStyleModel",
      "state": {
       "description_width": ""
      }
     },
     "bbc390d804214e56bec46fe60325e0b3": {
      "model_module": "@jupyter-widgets/controls",
      "model_module_version": "1.5.0",
      "model_name": "FloatProgressModel",
      "state": {
       "bar_style": "success",
       "layout": "IPY_MODEL_9d8dbf905ab74125995647670b91bae9",
       "max": 5,
       "style": "IPY_MODEL_e4e6c0bf3406400fb89dae9ee390373b",
       "value": 5
      }
     },
     "bbd87ed6b91c447c8d2f995f08205d16": {
      "model_module": "@jupyter-widgets/controls",
      "model_module_version": "1.5.0",
      "model_name": "FloatProgressModel",
      "state": {
       "bar_style": "success",
       "layout": "IPY_MODEL_cb68305c18a34c75b38bb6035fba0fcb",
       "max": 5,
       "style": "IPY_MODEL_a13a509429ea43ca96cc8b3887d2f669",
       "value": 5
      }
     },
     "bc1414011bcf4b87a57a477b831422c3": {
      "model_module": "@jupyter-widgets/controls",
      "model_module_version": "1.5.0",
      "model_name": "DescriptionStyleModel",
      "state": {
       "description_width": ""
      }
     },
     "bc1cee5dda3242b5918dd80a00c0b457": {
      "model_module": "@jupyter-widgets/base",
      "model_module_version": "1.2.0",
      "model_name": "LayoutModel",
      "state": {}
     },
     "bc6b8fb96a82488c9dfea6c448ef39ff": {
      "model_module": "@jupyter-widgets/controls",
      "model_module_version": "1.5.0",
      "model_name": "DescriptionStyleModel",
      "state": {
       "description_width": ""
      }
     },
     "bc7429dfc41c463ba29a661489f3d0ad": {
      "model_module": "@jupyter-widgets/controls",
      "model_module_version": "1.5.0",
      "model_name": "HTMLModel",
      "state": {
       "layout": "IPY_MODEL_daa76f1676f940ce8068bcb5c1b9cd69",
       "style": "IPY_MODEL_529e9d14d6d54f1c904a2f7c82f47987",
       "value": " 5/5 [13:34&lt;00:00, 160.91s/it]"
      }
     },
     "bc9cfefbd9fd43cbb4ba2dcd6149e0bb": {
      "model_module": "@jupyter-widgets/base",
      "model_module_version": "1.2.0",
      "model_name": "LayoutModel",
      "state": {}
     },
     "bcd9fdf9d7c84e47907ae018a5e6e4e2": {
      "model_module": "@jupyter-widgets/controls",
      "model_module_version": "1.5.0",
      "model_name": "DescriptionStyleModel",
      "state": {
       "description_width": ""
      }
     },
     "bce67aa18f8942efbc8c6c3de8c69ac5": {
      "model_module": "@jupyter-widgets/controls",
      "model_module_version": "1.5.0",
      "model_name": "FloatProgressModel",
      "state": {
       "bar_style": "success",
       "layout": "IPY_MODEL_7903b1e8e4634e32819290c97c642699",
       "max": 5,
       "style": "IPY_MODEL_43ccc9d7e50c4844b0e9aece78aa9ec2",
       "value": 5
      }
     },
     "bd28ce71a0814c44aa91351d669bc163": {
      "model_module": "@jupyter-widgets/controls",
      "model_module_version": "1.5.0",
      "model_name": "FloatProgressModel",
      "state": {
       "bar_style": "success",
       "layout": "IPY_MODEL_689610c9d20641ac8a3005eba83f14ba",
       "max": 5,
       "style": "IPY_MODEL_19d0e001c29642b799c9dbc1ffc19516",
       "value": 5
      }
     },
     "bd2aca03f013466abffc1b474186ae59": {
      "model_module": "@jupyter-widgets/controls",
      "model_module_version": "1.5.0",
      "model_name": "DescriptionStyleModel",
      "state": {
       "description_width": ""
      }
     },
     "bd577f794d844e1f848896c7c689d6eb": {
      "model_module": "@jupyter-widgets/controls",
      "model_module_version": "1.5.0",
      "model_name": "DescriptionStyleModel",
      "state": {
       "description_width": ""
      }
     },
     "bd79189ea86b4eda943278d25f536609": {
      "model_module": "@jupyter-widgets/controls",
      "model_module_version": "1.5.0",
      "model_name": "DescriptionStyleModel",
      "state": {
       "description_width": ""
      }
     },
     "bd995fecd1be4f6fb8a6671137c7984f": {
      "model_module": "@jupyter-widgets/controls",
      "model_module_version": "1.5.0",
      "model_name": "ProgressStyleModel",
      "state": {
       "description_width": ""
      }
     },
     "bdbbabc742a945cdab7fad004b1a1424": {
      "model_module": "@jupyter-widgets/controls",
      "model_module_version": "1.5.0",
      "model_name": "HTMLModel",
      "state": {
       "layout": "IPY_MODEL_18746eb38d064d52a617f8edc2aa2916",
       "style": "IPY_MODEL_c2f43941b46d4de89fc9d252f6b69105",
       "value": "  0%"
      }
     },
     "bdf11e701ae640758349df1dd9ac7494": {
      "model_module": "@jupyter-widgets/controls",
      "model_module_version": "1.5.0",
      "model_name": "HTMLModel",
      "state": {
       "layout": "IPY_MODEL_83b5b4925467457fb1cb99c6f1799471",
       "style": "IPY_MODEL_7cce8d98f36f4dda826376a675e69ff8",
       "value": " 5/5 [12:36&lt;00:00, 151.21s/it]"
      }
     },
     "bdf5b79e41ad424386904d9275531aad": {
      "model_module": "@jupyter-widgets/base",
      "model_module_version": "1.2.0",
      "model_name": "LayoutModel",
      "state": {}
     },
     "bdffed28ed434ce2a6872a4ece53ddba": {
      "model_module": "@jupyter-widgets/base",
      "model_module_version": "1.2.0",
      "model_name": "LayoutModel",
      "state": {}
     },
     "be5fd8ab4e3043cabb2c200becd9695d": {
      "model_module": "@jupyter-widgets/controls",
      "model_module_version": "1.5.0",
      "model_name": "DescriptionStyleModel",
      "state": {
       "description_width": ""
      }
     },
     "be6a67d20143490599b5b0f4959d0400": {
      "model_module": "@jupyter-widgets/base",
      "model_module_version": "1.2.0",
      "model_name": "LayoutModel",
      "state": {}
     },
     "be77c0779e4743b897e1c247826e6eed": {
      "model_module": "@jupyter-widgets/controls",
      "model_module_version": "1.5.0",
      "model_name": "HTMLModel",
      "state": {
       "layout": "IPY_MODEL_4fb2ab45d69d4d72b95c126f3acc652c",
       "style": "IPY_MODEL_ba40ca3134f8442e95e85c96a826fd88",
       "value": "100%"
      }
     },
     "bec7d907e01a4a0d94bc09e15accb02f": {
      "model_module": "@jupyter-widgets/controls",
      "model_module_version": "1.5.0",
      "model_name": "HTMLModel",
      "state": {
       "layout": "IPY_MODEL_bf4da3c7c1ee4b8dab4c380d54be4a62",
       "style": "IPY_MODEL_bd2aca03f013466abffc1b474186ae59",
       "value": "100%"
      }
     },
     "bee60d57d48a4dee93b4f064611aeb3b": {
      "model_module": "@jupyter-widgets/controls",
      "model_module_version": "1.5.0",
      "model_name": "DescriptionStyleModel",
      "state": {
       "description_width": ""
      }
     },
     "bef53dfee680435a8d782cc47e313429": {
      "model_module": "@jupyter-widgets/controls",
      "model_module_version": "1.5.0",
      "model_name": "HBoxModel",
      "state": {
       "children": [
        "IPY_MODEL_4330592d5bca44449642506033d442b1",
        "IPY_MODEL_62a8a794c0694588a89b55ae12f439d4",
        "IPY_MODEL_4b93834268a8478b80c042b9f56315b8"
       ],
       "layout": "IPY_MODEL_4a0bf36d2a6e4da1beeb45ab79685e34"
      }
     },
     "bf24425fa03b46f2a0a80e9f5fd0b375": {
      "model_module": "@jupyter-widgets/controls",
      "model_module_version": "1.5.0",
      "model_name": "HTMLModel",
      "state": {
       "layout": "IPY_MODEL_b215f91279bf4e0eb5f7827be2a5bbb8",
       "style": "IPY_MODEL_3a9ca27fbcc74fdbb54885654f65d59b",
       "value": "100%"
      }
     },
     "bf4be582edae43e78fa8be31efc276f0": {
      "model_module": "@jupyter-widgets/controls",
      "model_module_version": "1.5.0",
      "model_name": "FloatProgressModel",
      "state": {
       "bar_style": "danger",
       "layout": "IPY_MODEL_10b7340956e046109c742c7b1021ab62",
       "max": 5,
       "style": "IPY_MODEL_ca451b42b8b64d61ad06deb8753aaee9",
       "value": 1
      }
     },
     "bf4da3c7c1ee4b8dab4c380d54be4a62": {
      "model_module": "@jupyter-widgets/base",
      "model_module_version": "1.2.0",
      "model_name": "LayoutModel",
      "state": {}
     },
     "bfc4774a5a5f4d0f9230022956cbcf0a": {
      "model_module": "@jupyter-widgets/controls",
      "model_module_version": "1.5.0",
      "model_name": "HTMLModel",
      "state": {
       "layout": "IPY_MODEL_da91f48a9fbc4af19105def763ecfc17",
       "style": "IPY_MODEL_d20b81652f004ea695cecc2c04732caf",
       "value": " 5/5 [12:44&lt;00:00, 152.84s/it]"
      }
     },
     "bfed2135cfe543598b48be72ac92dcc6": {
      "model_module": "@jupyter-widgets/controls",
      "model_module_version": "1.5.0",
      "model_name": "ProgressStyleModel",
      "state": {
       "description_width": ""
      }
     },
     "c0277c816b524d03a53743f89543c33c": {
      "model_module": "@jupyter-widgets/controls",
      "model_module_version": "1.5.0",
      "model_name": "FloatProgressModel",
      "state": {
       "bar_style": "success",
       "layout": "IPY_MODEL_69d0476012244af89a1cea0d5d394a85",
       "max": 5,
       "style": "IPY_MODEL_6fd0084f50454f829c73394465710f46",
       "value": 5
      }
     },
     "c05e27e7b7744d9db2be2028757f05b9": {
      "model_module": "@jupyter-widgets/base",
      "model_module_version": "1.2.0",
      "model_name": "LayoutModel",
      "state": {}
     },
     "c068162f9420422db5b6e3f206b27d16": {
      "model_module": "@jupyter-widgets/controls",
      "model_module_version": "1.5.0",
      "model_name": "HBoxModel",
      "state": {
       "children": [
        "IPY_MODEL_6871bf6bd7174f329ad4fa1fd0c7710d",
        "IPY_MODEL_33ec37edead749ca86171e36cd4a2436",
        "IPY_MODEL_e19fd0216e19429d81dfc825f497bd8f"
       ],
       "layout": "IPY_MODEL_55b02b3530464dc1a3b8bc2278148ba5"
      }
     },
     "c070bc3dd09049519edd1c080e2c7be5": {
      "model_module": "@jupyter-widgets/controls",
      "model_module_version": "1.5.0",
      "model_name": "FloatProgressModel",
      "state": {
       "bar_style": "success",
       "layout": "IPY_MODEL_9dc86aee373240dda71bf5d256fdaca9",
       "max": 5,
       "style": "IPY_MODEL_d1dafde53f5f4eab92dc960220080f51",
       "value": 5
      }
     },
     "c07920d9bbf44466b4e155ae36213b93": {
      "model_module": "@jupyter-widgets/controls",
      "model_module_version": "1.5.0",
      "model_name": "DescriptionStyleModel",
      "state": {
       "description_width": ""
      }
     },
     "c08bd854d0a94abc93a577402353fd6a": {
      "model_module": "@jupyter-widgets/controls",
      "model_module_version": "1.5.0",
      "model_name": "HBoxModel",
      "state": {
       "children": [
        "IPY_MODEL_6e7b0652f2e248f3978637e8384329a2",
        "IPY_MODEL_881f825aafac41429e5436965d5a2616",
        "IPY_MODEL_10ca300c141447d1a589373d6786dfab"
       ],
       "layout": "IPY_MODEL_dc019aa261134df0a380dde7ade2729f"
      }
     },
     "c08c236b2ed9468e850637f094bcb770": {
      "model_module": "@jupyter-widgets/controls",
      "model_module_version": "1.5.0",
      "model_name": "FloatProgressModel",
      "state": {
       "bar_style": "success",
       "layout": "IPY_MODEL_c1fba9719f2845d4ac3f72775a3ab00d",
       "max": 5,
       "style": "IPY_MODEL_b0961c569d5a4af3bb6a0f67750942ea",
       "value": 5
      }
     },
     "c0dbd7928bf94949b8e3d4b2789ac817": {
      "model_module": "@jupyter-widgets/controls",
      "model_module_version": "1.5.0",
      "model_name": "HTMLModel",
      "state": {
       "layout": "IPY_MODEL_0c300e12c2aa46808b124c7e26877e8d",
       "style": "IPY_MODEL_582de00176fa469f94b79327fe68636a",
       "value": " 5/5 [13:08&lt;00:00, 157.92s/it]"
      }
     },
     "c103d21dd3c6454c944b8d1b50e78fea": {
      "model_module": "@jupyter-widgets/base",
      "model_module_version": "1.2.0",
      "model_name": "LayoutModel",
      "state": {}
     },
     "c1143991e5d948d0be92b9b1fb013541": {
      "model_module": "@jupyter-widgets/controls",
      "model_module_version": "1.5.0",
      "model_name": "HBoxModel",
      "state": {
       "children": [
        "IPY_MODEL_59b7cbf774dd4ebfa6b2f48b89cee696",
        "IPY_MODEL_230be212b4834368b1d1d87e25c0520d",
        "IPY_MODEL_489b5f2186ad4f2fa160e3c667ec9dfc"
       ],
       "layout": "IPY_MODEL_c47795595e66497e8590d53312ada1df"
      }
     },
     "c11dceeae7c54287b0902c56404fe681": {
      "model_module": "@jupyter-widgets/controls",
      "model_module_version": "1.5.0",
      "model_name": "HTMLModel",
      "state": {
       "layout": "IPY_MODEL_890b19e61b374c7e95aaded2771ec123",
       "style": "IPY_MODEL_04770773c0824088b72d0a76b4bc9193",
       "value": " 5/5 [00:04&lt;00:00,  1.11it/s]"
      }
     },
     "c173dfc9039f4c55abe1c4ba93968264": {
      "model_module": "@jupyter-widgets/controls",
      "model_module_version": "1.5.0",
      "model_name": "HTMLModel",
      "state": {
       "layout": "IPY_MODEL_fe86924d599a45a8955f9496922ac657",
       "style": "IPY_MODEL_bc1414011bcf4b87a57a477b831422c3",
       "value": "100%"
      }
     },
     "c18cd80c037040539bbb8cb27faf6876": {
      "model_module": "@jupyter-widgets/controls",
      "model_module_version": "1.5.0",
      "model_name": "ProgressStyleModel",
      "state": {
       "description_width": ""
      }
     },
     "c1c2b8ccc65b470a8dac6341bb2481ff": {
      "model_module": "@jupyter-widgets/controls",
      "model_module_version": "1.5.0",
      "model_name": "FloatProgressModel",
      "state": {
       "bar_style": "success",
       "layout": "IPY_MODEL_9516b0ae0457418ebefb8466021d71cc",
       "max": 5,
       "style": "IPY_MODEL_6055c74dab434f119c1b707044027e15",
       "value": 5
      }
     },
     "c1fba9719f2845d4ac3f72775a3ab00d": {
      "model_module": "@jupyter-widgets/base",
      "model_module_version": "1.2.0",
      "model_name": "LayoutModel",
      "state": {}
     },
     "c203a007850a48b099d7c7ec6a8c2eac": {
      "model_module": "@jupyter-widgets/base",
      "model_module_version": "1.2.0",
      "model_name": "LayoutModel",
      "state": {}
     },
     "c21ffaa734c24681bc5c7df716064752": {
      "model_module": "@jupyter-widgets/base",
      "model_module_version": "1.2.0",
      "model_name": "LayoutModel",
      "state": {}
     },
     "c22cbabc45ec4ea1af464cea1d50bbdc": {
      "model_module": "@jupyter-widgets/controls",
      "model_module_version": "1.5.0",
      "model_name": "DescriptionStyleModel",
      "state": {
       "description_width": ""
      }
     },
     "c24629b8461242bb9371326a39f3aca8": {
      "model_module": "@jupyter-widgets/base",
      "model_module_version": "1.2.0",
      "model_name": "LayoutModel",
      "state": {}
     },
     "c24d7128897f48ddab0a17f70d214227": {
      "model_module": "@jupyter-widgets/base",
      "model_module_version": "1.2.0",
      "model_name": "LayoutModel",
      "state": {}
     },
     "c27308543e29457fae9820b98dbe79b3": {
      "model_module": "@jupyter-widgets/controls",
      "model_module_version": "1.5.0",
      "model_name": "ProgressStyleModel",
      "state": {
       "description_width": ""
      }
     },
     "c27f046b4e0e4558bd49b0d1ba6639f0": {
      "model_module": "@jupyter-widgets/controls",
      "model_module_version": "1.5.0",
      "model_name": "HTMLModel",
      "state": {
       "layout": "IPY_MODEL_107e644ef8814a3b9066b3d2836e076a",
       "style": "IPY_MODEL_629195f536fb4a2fa76b3c2016e2f021",
       "value": "100%"
      }
     },
     "c280b6184933432686a6a71c17141678": {
      "model_module": "@jupyter-widgets/controls",
      "model_module_version": "1.5.0",
      "model_name": "HTMLModel",
      "state": {
       "layout": "IPY_MODEL_b0720bbc4bc040ffb27df16006fd7a3b",
       "style": "IPY_MODEL_e549dba1f1fc4b6488ff019844e758d0",
       "value": " 5/5 [00:05&lt;00:00,  1.09s/it]"
      }
     },
     "c2c2fb9114ff414899abb01f11093b1c": {
      "model_module": "@jupyter-widgets/base",
      "model_module_version": "1.2.0",
      "model_name": "LayoutModel",
      "state": {}
     },
     "c2ec26901655448fbd1ed6d82f46ece0": {
      "model_module": "@jupyter-widgets/controls",
      "model_module_version": "1.5.0",
      "model_name": "HBoxModel",
      "state": {
       "children": [
        "IPY_MODEL_bec7d907e01a4a0d94bc09e15accb02f",
        "IPY_MODEL_732de88bc76542048c00a8add8c5ac8e",
        "IPY_MODEL_fbd68ada16724129ac8794036260f2bd"
       ],
       "layout": "IPY_MODEL_135915f245a74c0281239e2c02db187e"
      }
     },
     "c2f43941b46d4de89fc9d252f6b69105": {
      "model_module": "@jupyter-widgets/controls",
      "model_module_version": "1.5.0",
      "model_name": "DescriptionStyleModel",
      "state": {
       "description_width": ""
      }
     },
     "c309f11e9e994df3b0298901d2f36e1c": {
      "model_module": "@jupyter-widgets/base",
      "model_module_version": "1.2.0",
      "model_name": "LayoutModel",
      "state": {}
     },
     "c356cc81239a4e7eb0e28397556324b2": {
      "model_module": "@jupyter-widgets/base",
      "model_module_version": "1.2.0",
      "model_name": "LayoutModel",
      "state": {}
     },
     "c3892516398d4faea6bab9a0c11f2d2f": {
      "model_module": "@jupyter-widgets/base",
      "model_module_version": "1.2.0",
      "model_name": "LayoutModel",
      "state": {}
     },
     "c38c40e4792b4f3cb816ee0b88980f31": {
      "model_module": "@jupyter-widgets/controls",
      "model_module_version": "1.5.0",
      "model_name": "FloatProgressModel",
      "state": {
       "bar_style": "success",
       "layout": "IPY_MODEL_4eb6eb0b76164e8499c268904b8ab2eb",
       "max": 5,
       "style": "IPY_MODEL_6a6699bc3e3846f48c2419bc14dcb300",
       "value": 5
      }
     },
     "c400057e52464e729bc95566897e6d48": {
      "model_module": "@jupyter-widgets/controls",
      "model_module_version": "1.5.0",
      "model_name": "DescriptionStyleModel",
      "state": {
       "description_width": ""
      }
     },
     "c4136197b84c4906a25c0adc7f13bf97": {
      "model_module": "@jupyter-widgets/controls",
      "model_module_version": "1.5.0",
      "model_name": "DescriptionStyleModel",
      "state": {
       "description_width": ""
      }
     },
     "c413d2f5e59b439782344d76be84188b": {
      "model_module": "@jupyter-widgets/controls",
      "model_module_version": "1.5.0",
      "model_name": "HBoxModel",
      "state": {
       "children": [
        "IPY_MODEL_b08785ba75c240b5a094d05948afc4c3",
        "IPY_MODEL_baa1304d6d474135b447555b380dbdc1",
        "IPY_MODEL_a796ad68e7e744ecaa45bcf5fa0e7719"
       ],
       "layout": "IPY_MODEL_6edbe7de63014877a5a212ebb3c3eda8"
      }
     },
     "c441c55a974f4376b04a32fa49246f4e": {
      "model_module": "@jupyter-widgets/base",
      "model_module_version": "1.2.0",
      "model_name": "LayoutModel",
      "state": {}
     },
     "c44b37c3a2244a2b80b197c42da4ffd0": {
      "model_module": "@jupyter-widgets/controls",
      "model_module_version": "1.5.0",
      "model_name": "DescriptionStyleModel",
      "state": {
       "description_width": ""
      }
     },
     "c44c4cde43e4492a99effd188b588401": {
      "model_module": "@jupyter-widgets/controls",
      "model_module_version": "1.5.0",
      "model_name": "HTMLModel",
      "state": {
       "layout": "IPY_MODEL_f1890cf938074fbb9476c8f669ff84b6",
       "style": "IPY_MODEL_37324d8d52da47d58b09fa119c2cb2bf",
       "value": "100%"
      }
     },
     "c4536e4e6c4e4955945d18c6907e3f51": {
      "model_module": "@jupyter-widgets/base",
      "model_module_version": "1.2.0",
      "model_name": "LayoutModel",
      "state": {}
     },
     "c47795595e66497e8590d53312ada1df": {
      "model_module": "@jupyter-widgets/base",
      "model_module_version": "1.2.0",
      "model_name": "LayoutModel",
      "state": {}
     },
     "c4d952069d3c4bd38783361427d32192": {
      "model_module": "@jupyter-widgets/base",
      "model_module_version": "1.2.0",
      "model_name": "LayoutModel",
      "state": {}
     },
     "c4e113b588374a75857a26d76f063aa5": {
      "model_module": "@jupyter-widgets/base",
      "model_module_version": "1.2.0",
      "model_name": "LayoutModel",
      "state": {}
     },
     "c5ab654d624f4c1abcc0256ed63fedae": {
      "model_module": "@jupyter-widgets/controls",
      "model_module_version": "1.5.0",
      "model_name": "DescriptionStyleModel",
      "state": {
       "description_width": ""
      }
     },
     "c5d8e5e0273d40a392f3e7a7b680b41d": {
      "model_module": "@jupyter-widgets/base",
      "model_module_version": "1.2.0",
      "model_name": "LayoutModel",
      "state": {}
     },
     "c6af08dd9cc346b78993682f0009aeae": {
      "model_module": "@jupyter-widgets/controls",
      "model_module_version": "1.5.0",
      "model_name": "FloatProgressModel",
      "state": {
       "bar_style": "success",
       "layout": "IPY_MODEL_d7ec9745af9b4d2a936315362ab7e676",
       "max": 5,
       "style": "IPY_MODEL_2a4cac573ddd4200a220b79f9cc640e6",
       "value": 5
      }
     },
     "c6c9dfc82f3747c8afc2c0247682ba4f": {
      "model_module": "@jupyter-widgets/controls",
      "model_module_version": "1.5.0",
      "model_name": "HBoxModel",
      "state": {
       "children": [
        "IPY_MODEL_4503c7de1d53493a9fc654fe3fb2b84e",
        "IPY_MODEL_8f3f73facf444551849576da7483320f",
        "IPY_MODEL_f5fe72caf8fc42bd9e3b161d172e0e65"
       ],
       "layout": "IPY_MODEL_2f069d8ea8ea43cb99941b02bc720644"
      }
     },
     "c6ec0a8112a546548919e8f7920b10d1": {
      "model_module": "@jupyter-widgets/controls",
      "model_module_version": "1.5.0",
      "model_name": "DescriptionStyleModel",
      "state": {
       "description_width": ""
      }
     },
     "c73cc373b8684f5bb3b55d8d65462c32": {
      "model_module": "@jupyter-widgets/base",
      "model_module_version": "1.2.0",
      "model_name": "LayoutModel",
      "state": {}
     },
     "c7454222c40b4656a15432374d21ca07": {
      "model_module": "@jupyter-widgets/controls",
      "model_module_version": "1.5.0",
      "model_name": "ProgressStyleModel",
      "state": {
       "description_width": ""
      }
     },
     "c76ed4c321e6406b8f90481e00d1ddeb": {
      "model_module": "@jupyter-widgets/base",
      "model_module_version": "1.2.0",
      "model_name": "LayoutModel",
      "state": {}
     },
     "c7879550cca841f595f57233e78178ab": {
      "model_module": "@jupyter-widgets/base",
      "model_module_version": "1.2.0",
      "model_name": "LayoutModel",
      "state": {}
     },
     "c79bb9184c0a4fee9957866d64a85e93": {
      "model_module": "@jupyter-widgets/controls",
      "model_module_version": "1.5.0",
      "model_name": "DescriptionStyleModel",
      "state": {
       "description_width": ""
      }
     },
     "c7ba60874fef46d0ac925c27da8a884e": {
      "model_module": "@jupyter-widgets/controls",
      "model_module_version": "1.5.0",
      "model_name": "DescriptionStyleModel",
      "state": {
       "description_width": ""
      }
     },
     "c7c63faf7e8243248c827c785a2821e6": {
      "model_module": "@jupyter-widgets/base",
      "model_module_version": "1.2.0",
      "model_name": "LayoutModel",
      "state": {}
     },
     "c7ceb287649a47b4a9438a5e61e12909": {
      "model_module": "@jupyter-widgets/controls",
      "model_module_version": "1.5.0",
      "model_name": "HTMLModel",
      "state": {
       "layout": "IPY_MODEL_2ea4369e8efe4740acfb18c10eafef5d",
       "style": "IPY_MODEL_98338c32d4974b4095e63ae4c076b677",
       "value": " 5/5 [00:04&lt;00:00,  1.06it/s]"
      }
     },
     "c7f6766dd92f45e5a91d42359978673b": {
      "model_module": "@jupyter-widgets/base",
      "model_module_version": "1.2.0",
      "model_name": "LayoutModel",
      "state": {}
     },
     "c80684a6b03a4476b3af2e61cff456fe": {
      "model_module": "@jupyter-widgets/controls",
      "model_module_version": "1.5.0",
      "model_name": "ProgressStyleModel",
      "state": {
       "description_width": ""
      }
     },
     "c83349eb6e8f4288865e07ad3531fbc7": {
      "model_module": "@jupyter-widgets/controls",
      "model_module_version": "1.5.0",
      "model_name": "DescriptionStyleModel",
      "state": {
       "description_width": ""
      }
     },
     "c847f79ce69c496393c8b5095e777bb7": {
      "model_module": "@jupyter-widgets/base",
      "model_module_version": "1.2.0",
      "model_name": "LayoutModel",
      "state": {}
     },
     "c97dd5a9d6f44247ada68f2bb482c178": {
      "model_module": "@jupyter-widgets/controls",
      "model_module_version": "1.5.0",
      "model_name": "HBoxModel",
      "state": {
       "children": [
        "IPY_MODEL_54b504fec8e64ab9be8e86ec3bdfff84",
        "IPY_MODEL_8e5091f5552f412d8edf19f1cfd89379",
        "IPY_MODEL_41d86ac0bad742c2b8ff902abc68b7d0"
       ],
       "layout": "IPY_MODEL_5a7465feb8f2406ca273505440257055"
      }
     },
     "c9a1ceea8a6643099bee05d8f5a7e47a": {
      "model_module": "@jupyter-widgets/controls",
      "model_module_version": "1.5.0",
      "model_name": "HTMLModel",
      "state": {
       "layout": "IPY_MODEL_f1a287b16fa5497cb84e4d807dd5e3e1",
       "style": "IPY_MODEL_bd79189ea86b4eda943278d25f536609",
       "value": "100%"
      }
     },
     "c9adde7fafbc4d1db6d637dd48ba4e0c": {
      "model_module": "@jupyter-widgets/controls",
      "model_module_version": "1.5.0",
      "model_name": "HBoxModel",
      "state": {
       "children": [
        "IPY_MODEL_92dbfe3702134eccb1f8751f34ade868",
        "IPY_MODEL_2128f1213f734e618629078534a501e4",
        "IPY_MODEL_621d10227b7a4caea1af1b7f5c74f8d5"
       ],
       "layout": "IPY_MODEL_338d7d0943da447fb45810fb433b471a"
      }
     },
     "c9b8957734be4b2c922dfb248437f5a9": {
      "model_module": "@jupyter-widgets/base",
      "model_module_version": "1.2.0",
      "model_name": "LayoutModel",
      "state": {}
     },
     "c9cb07b58a9a4202b0e8a86b69fca0f5": {
      "model_module": "@jupyter-widgets/base",
      "model_module_version": "1.2.0",
      "model_name": "LayoutModel",
      "state": {}
     },
     "ca0eee3c1aae4f54bc7b52450cf58475": {
      "model_module": "@jupyter-widgets/controls",
      "model_module_version": "1.5.0",
      "model_name": "FloatProgressModel",
      "state": {
       "bar_style": "success",
       "layout": "IPY_MODEL_e6bfb01347c54950a21c5f07e0d30b06",
       "max": 5,
       "style": "IPY_MODEL_714cfbce50da41b7b321bb8f3d563c29",
       "value": 5
      }
     },
     "ca451b42b8b64d61ad06deb8753aaee9": {
      "model_module": "@jupyter-widgets/controls",
      "model_module_version": "1.5.0",
      "model_name": "ProgressStyleModel",
      "state": {
       "description_width": ""
      }
     },
     "ca80ae08986848f1b93724cf4bf5c21b": {
      "model_module": "@jupyter-widgets/controls",
      "model_module_version": "1.5.0",
      "model_name": "DescriptionStyleModel",
      "state": {
       "description_width": ""
      }
     },
     "ca926aea4f1e4ae3884cbcab1c2a35c2": {
      "model_module": "@jupyter-widgets/base",
      "model_module_version": "1.2.0",
      "model_name": "LayoutModel",
      "state": {}
     },
     "cab29c6098014b489e15c46035ea16f2": {
      "model_module": "@jupyter-widgets/base",
      "model_module_version": "1.2.0",
      "model_name": "LayoutModel",
      "state": {}
     },
     "cb09ffd70e7c4aabb44014e03abdc44e": {
      "model_module": "@jupyter-widgets/base",
      "model_module_version": "1.2.0",
      "model_name": "LayoutModel",
      "state": {}
     },
     "cb1b7d3b147849fd81e2b5a39e6aec58": {
      "model_module": "@jupyter-widgets/controls",
      "model_module_version": "1.5.0",
      "model_name": "HBoxModel",
      "state": {
       "children": [
        "IPY_MODEL_b3bf571c907640ec975761bba7ed53ad",
        "IPY_MODEL_1f72943102b54e3fa61311d2de57828e",
        "IPY_MODEL_91e903d862bd461d9fa07409812d6a11"
       ],
       "layout": "IPY_MODEL_568cfbfe8c244869942bcb847376a217"
      }
     },
     "cb296f84a7bc4591a596352271c7056e": {
      "model_module": "@jupyter-widgets/base",
      "model_module_version": "1.2.0",
      "model_name": "LayoutModel",
      "state": {}
     },
     "cb5f54146ce042609805a8c6ff397d4e": {
      "model_module": "@jupyter-widgets/controls",
      "model_module_version": "1.5.0",
      "model_name": "HTMLModel",
      "state": {
       "layout": "IPY_MODEL_526aa1afc7e04f54b23d3f26bb296c0a",
       "style": "IPY_MODEL_41f13d765c254e22b7871ca721b31867",
       "value": " 5/5 [00:04&lt;00:00,  1.05it/s]"
      }
     },
     "cb68305c18a34c75b38bb6035fba0fcb": {
      "model_module": "@jupyter-widgets/base",
      "model_module_version": "1.2.0",
      "model_name": "LayoutModel",
      "state": {}
     },
     "cc28a9d35cf247f1b9109c18fa10f8d2": {
      "model_module": "@jupyter-widgets/controls",
      "model_module_version": "1.5.0",
      "model_name": "HBoxModel",
      "state": {
       "children": [
        "IPY_MODEL_c27f046b4e0e4558bd49b0d1ba6639f0",
        "IPY_MODEL_3e8c077ac89146b2ac18b6710f75617d",
        "IPY_MODEL_4ebecb40ccbf455dbb7de51e754d149a"
       ],
       "layout": "IPY_MODEL_c21ffaa734c24681bc5c7df716064752"
      }
     },
     "cc9e88d33b59413da4e7c2b5fd57adb9": {
      "model_module": "@jupyter-widgets/controls",
      "model_module_version": "1.5.0",
      "model_name": "HBoxModel",
      "state": {
       "children": [
        "IPY_MODEL_5cdbb5fed3da4e3a8b2984b658fc902a",
        "IPY_MODEL_e179d165c405441c82e36df520afb229",
        "IPY_MODEL_61fc70c47f624a9aabe7bdff023a994f"
       ],
       "layout": "IPY_MODEL_75e55b13c1b04f6b81a4c6710046b5ec"
      }
     },
     "cca4d8fb63784fdfae8c4ab7157e02ec": {
      "model_module": "@jupyter-widgets/base",
      "model_module_version": "1.2.0",
      "model_name": "LayoutModel",
      "state": {}
     },
     "ccb36bfd057b4396ae9f0d66334af900": {
      "model_module": "@jupyter-widgets/controls",
      "model_module_version": "1.5.0",
      "model_name": "HBoxModel",
      "state": {
       "children": [
        "IPY_MODEL_e954faf1da594a97847c49e2f070b5c8",
        "IPY_MODEL_ff19b26fdcfe4aeea3c415f8fd465c61",
        "IPY_MODEL_d5531111986c43f6957bd8972ff65bf6"
       ],
       "layout": "IPY_MODEL_48f2a57a880440d0a2edebc2e78fd983"
      }
     },
     "ccd299c596fb403b942be1aa97735486": {
      "model_module": "@jupyter-widgets/base",
      "model_module_version": "1.2.0",
      "model_name": "LayoutModel",
      "state": {}
     },
     "ccd50ae7325446fb83551b4cbcb7abd5": {
      "model_module": "@jupyter-widgets/base",
      "model_module_version": "1.2.0",
      "model_name": "LayoutModel",
      "state": {}
     },
     "ccd567cef62e4229ae024be8d0be2452": {
      "model_module": "@jupyter-widgets/controls",
      "model_module_version": "1.5.0",
      "model_name": "HTMLModel",
      "state": {
       "layout": "IPY_MODEL_4924556cd098439781ff320da2de8ed9",
       "style": "IPY_MODEL_b679c3936977494a8da919cf1cdcfefb",
       "value": " 0/5 [00:00&lt;?, ?it/s]"
      }
     },
     "ccdbc9926b4a4308b083de2f4672ae22": {
      "model_module": "@jupyter-widgets/base",
      "model_module_version": "1.2.0",
      "model_name": "LayoutModel",
      "state": {}
     },
     "cd53ad789a4a44eb99fc4c882a4e60ca": {
      "model_module": "@jupyter-widgets/base",
      "model_module_version": "1.2.0",
      "model_name": "LayoutModel",
      "state": {}
     },
     "cd759c23491342e08648050375442109": {
      "model_module": "@jupyter-widgets/base",
      "model_module_version": "1.2.0",
      "model_name": "LayoutModel",
      "state": {}
     },
     "cdca866076ed4dc3b0353b801b9fe055": {
      "model_module": "@jupyter-widgets/controls",
      "model_module_version": "1.5.0",
      "model_name": "ProgressStyleModel",
      "state": {
       "description_width": ""
      }
     },
     "ce045d39c54e4255850699d3666ff930": {
      "model_module": "@jupyter-widgets/base",
      "model_module_version": "1.2.0",
      "model_name": "LayoutModel",
      "state": {}
     },
     "ce5189961d6347abb222b8d730e6f076": {
      "model_module": "@jupyter-widgets/base",
      "model_module_version": "1.2.0",
      "model_name": "LayoutModel",
      "state": {}
     },
     "ce88b0be7f0d47e38fdc14069581a8f7": {
      "model_module": "@jupyter-widgets/controls",
      "model_module_version": "1.5.0",
      "model_name": "HTMLModel",
      "state": {
       "layout": "IPY_MODEL_4d1601f28c2e4eea8285194e172a40a1",
       "style": "IPY_MODEL_8b9d3ba2f3504f1592299f8c6c19033c",
       "value": " 5/5 [00:05&lt;00:00,  1.07s/it]"
      }
     },
     "ceb209d52a7f41459c8ed2db2fabdb0e": {
      "model_module": "@jupyter-widgets/controls",
      "model_module_version": "1.5.0",
      "model_name": "HTMLModel",
      "state": {
       "layout": "IPY_MODEL_b3dfcdf879d448df852eebf3547a3ac0",
       "style": "IPY_MODEL_c6ec0a8112a546548919e8f7920b10d1",
       "value": " 5/5 [00:04&lt;00:00,  1.05it/s]"
      }
     },
     "cec1b24d3e874fd8aac0cc0be695ca04": {
      "model_module": "@jupyter-widgets/base",
      "model_module_version": "1.2.0",
      "model_name": "LayoutModel",
      "state": {}
     },
     "cecfff730b8649b79ad897becba39010": {
      "model_module": "@jupyter-widgets/controls",
      "model_module_version": "1.5.0",
      "model_name": "HTMLModel",
      "state": {
       "layout": "IPY_MODEL_9f50bc4aea2b4e049005306b00adbfc5",
       "style": "IPY_MODEL_43bd3b03bb3f431b810a6f378eecd1c8",
       "value": "100%"
      }
     },
     "cee569ebd3994a6e837078260bef3b4b": {
      "model_module": "@jupyter-widgets/controls",
      "model_module_version": "1.5.0",
      "model_name": "HBoxModel",
      "state": {
       "children": [
        "IPY_MODEL_07df0920dc2f418aa85e5d2a3145cc2f",
        "IPY_MODEL_8f715edcc2894feb88ead1433f2f6198",
        "IPY_MODEL_5c6676b54e7e4d3192f402a5866e9bca"
       ],
       "layout": "IPY_MODEL_e467b96614094c9e8684d8a4134dea81"
      }
     },
     "cefdbcbe9d1347a2b54993c6d5db9e45": {
      "model_module": "@jupyter-widgets/controls",
      "model_module_version": "1.5.0",
      "model_name": "HTMLModel",
      "state": {
       "layout": "IPY_MODEL_2aba6ecf32494229bebadbd24c9b372f",
       "style": "IPY_MODEL_996c7ae419b245a9ab2e97a51fd78648",
       "value": "100%"
      }
     },
     "cf6757f0d2574a12904c8ab8092a8ca6": {
      "model_module": "@jupyter-widgets/base",
      "model_module_version": "1.2.0",
      "model_name": "LayoutModel",
      "state": {}
     },
     "cf742e0c3f9f4e54a64dc57e91d1ba88": {
      "model_module": "@jupyter-widgets/base",
      "model_module_version": "1.2.0",
      "model_name": "LayoutModel",
      "state": {}
     },
     "d01f095be9284806a4de5ef157f4625b": {
      "model_module": "@jupyter-widgets/controls",
      "model_module_version": "1.5.0",
      "model_name": "DescriptionStyleModel",
      "state": {
       "description_width": ""
      }
     },
     "d029e26cea9944f295f51f6389c60bad": {
      "model_module": "@jupyter-widgets/controls",
      "model_module_version": "1.5.0",
      "model_name": "FloatProgressModel",
      "state": {
       "bar_style": "success",
       "layout": "IPY_MODEL_714b3455c836409d85b0fd54a845e930",
       "max": 5,
       "style": "IPY_MODEL_593f46ac608b409e9193015d9ab9cf35",
       "value": 5
      }
     },
     "d07b069d696e461091cf45ab11db0ff5": {
      "model_module": "@jupyter-widgets/base",
      "model_module_version": "1.2.0",
      "model_name": "LayoutModel",
      "state": {}
     },
     "d0e6f3acd3c345d6bedb514b89248179": {
      "model_module": "@jupyter-widgets/controls",
      "model_module_version": "1.5.0",
      "model_name": "ProgressStyleModel",
      "state": {
       "description_width": ""
      }
     },
     "d11146f8e11e4577a2b06cafcaa8fa42": {
      "model_module": "@jupyter-widgets/base",
      "model_module_version": "1.2.0",
      "model_name": "LayoutModel",
      "state": {}
     },
     "d11c0acd5ca34ff18549e53adf4607e3": {
      "model_module": "@jupyter-widgets/base",
      "model_module_version": "1.2.0",
      "model_name": "LayoutModel",
      "state": {}
     },
     "d135d4c16fa84e6cb43e6decfb92b116": {
      "model_module": "@jupyter-widgets/controls",
      "model_module_version": "1.5.0",
      "model_name": "ProgressStyleModel",
      "state": {
       "description_width": ""
      }
     },
     "d15cee3b2a114e328bd16507f6a20cca": {
      "model_module": "@jupyter-widgets/controls",
      "model_module_version": "1.5.0",
      "model_name": "DescriptionStyleModel",
      "state": {
       "description_width": ""
      }
     },
     "d1651a6c31c1488090cbe974a206f571": {
      "model_module": "@jupyter-widgets/controls",
      "model_module_version": "1.5.0",
      "model_name": "ProgressStyleModel",
      "state": {
       "description_width": ""
      }
     },
     "d16794e7bc604956a26a66a4a9556587": {
      "model_module": "@jupyter-widgets/base",
      "model_module_version": "1.2.0",
      "model_name": "LayoutModel",
      "state": {}
     },
     "d1c6f22bd699410fb0eed8625c814fef": {
      "model_module": "@jupyter-widgets/controls",
      "model_module_version": "1.5.0",
      "model_name": "HBoxModel",
      "state": {
       "children": [
        "IPY_MODEL_8a1d460dc22b4991b1ddb46855ac76d3",
        "IPY_MODEL_7390194be9484235be5a8439b8096781",
        "IPY_MODEL_2ec993b6501e4e0a8c7e43aadc57a102"
       ],
       "layout": "IPY_MODEL_a74e5a610bc347db8d50fa6f85cdec07"
      }
     },
     "d1dafde53f5f4eab92dc960220080f51": {
      "model_module": "@jupyter-widgets/controls",
      "model_module_version": "1.5.0",
      "model_name": "ProgressStyleModel",
      "state": {
       "description_width": ""
      }
     },
     "d1f636753152402d9ff3daecaf88a46f": {
      "model_module": "@jupyter-widgets/base",
      "model_module_version": "1.2.0",
      "model_name": "LayoutModel",
      "state": {}
     },
     "d203409f5d21446c918c1ba6a6dc4650": {
      "model_module": "@jupyter-widgets/controls",
      "model_module_version": "1.5.0",
      "model_name": "HBoxModel",
      "state": {
       "children": [
        "IPY_MODEL_0d32f2fa295046acaabbd1afea6923d9",
        "IPY_MODEL_22a1a71a5be64b50944a604cc8dee175",
        "IPY_MODEL_3780f6cc7c1346339186c7f80d420f7c"
       ],
       "layout": "IPY_MODEL_d6bbb37d71f94559ad1ca073bceaa5f2"
      }
     },
     "d20b81652f004ea695cecc2c04732caf": {
      "model_module": "@jupyter-widgets/controls",
      "model_module_version": "1.5.0",
      "model_name": "DescriptionStyleModel",
      "state": {
       "description_width": ""
      }
     },
     "d2496d1f4b1a451ebd855c30c959fecc": {
      "model_module": "@jupyter-widgets/controls",
      "model_module_version": "1.5.0",
      "model_name": "HTMLModel",
      "state": {
       "layout": "IPY_MODEL_758211fa322f4273a3df0585f436f43e",
       "style": "IPY_MODEL_bcd9fdf9d7c84e47907ae018a5e6e4e2",
       "value": "100%"
      }
     },
     "d33be881b3fa4e80bd37146cf6972399": {
      "model_module": "@jupyter-widgets/controls",
      "model_module_version": "1.5.0",
      "model_name": "HTMLModel",
      "state": {
       "layout": "IPY_MODEL_541d309ca7fb458384e358500a9f48ca",
       "style": "IPY_MODEL_15ed8b157026400e95c2e058ee505501",
       "value": " 5/5 [00:00&lt;00:00, 83.26it/s]"
      }
     },
     "d3453690f6324632a8bb002ec727ae25": {
      "model_module": "@jupyter-widgets/base",
      "model_module_version": "1.2.0",
      "model_name": "LayoutModel",
      "state": {}
     },
     "d387027e8913455db1c8a39ad4b06786": {
      "model_module": "@jupyter-widgets/base",
      "model_module_version": "1.2.0",
      "model_name": "LayoutModel",
      "state": {}
     },
     "d388e8b268134416a10645a0f2dbb42b": {
      "model_module": "@jupyter-widgets/controls",
      "model_module_version": "1.5.0",
      "model_name": "ProgressStyleModel",
      "state": {
       "description_width": ""
      }
     },
     "d3b79f9479204c23805cc1e7e443ca55": {
      "model_module": "@jupyter-widgets/base",
      "model_module_version": "1.2.0",
      "model_name": "LayoutModel",
      "state": {}
     },
     "d3b84dc240ee4de780d1cb2194c29f25": {
      "model_module": "@jupyter-widgets/controls",
      "model_module_version": "1.5.0",
      "model_name": "HTMLModel",
      "state": {
       "layout": "IPY_MODEL_7854fbc467b34beeab15e2c0fddb5a42",
       "style": "IPY_MODEL_6f64fe6ac679455fbf26085a24c519ec",
       "value": " 3/5 [07:15&lt;04:16, 128.25s/it]"
      }
     },
     "d3beaf96f7394970a9265dd95580744d": {
      "model_module": "@jupyter-widgets/controls",
      "model_module_version": "1.5.0",
      "model_name": "ProgressStyleModel",
      "state": {
       "description_width": ""
      }
     },
     "d40cbf55c58441b9895bdab4eda72a6d": {
      "model_module": "@jupyter-widgets/controls",
      "model_module_version": "1.5.0",
      "model_name": "HTMLModel",
      "state": {
       "layout": "IPY_MODEL_1020eb78995540bc9647417268e1c52d",
       "style": "IPY_MODEL_0a5f5ad24f064986a83ade13f03e426b",
       "value": " 5/5 [00:00&lt;00:00, 11.11it/s]"
      }
     },
     "d43a42c1c6414443b4b7ac9818a1a73d": {
      "model_module": "@jupyter-widgets/controls",
      "model_module_version": "1.5.0",
      "model_name": "ProgressStyleModel",
      "state": {
       "description_width": ""
      }
     },
     "d43f6fa41ede4f07989fb12d091a0c3c": {
      "model_module": "@jupyter-widgets/controls",
      "model_module_version": "1.5.0",
      "model_name": "DescriptionStyleModel",
      "state": {
       "description_width": ""
      }
     },
     "d447204600694244bae80850db7ef6ff": {
      "model_module": "@jupyter-widgets/controls",
      "model_module_version": "1.5.0",
      "model_name": "HTMLModel",
      "state": {
       "layout": "IPY_MODEL_dc7a732da85e403ab945d65389ec2bf5",
       "style": "IPY_MODEL_a5506a1052674550955de7290e25a7de",
       "value": " 5/5 [10:46&lt;00:00, 129.02s/it]"
      }
     },
     "d45630d8fbb6414bbac219b62e72be74": {
      "model_module": "@jupyter-widgets/controls",
      "model_module_version": "1.5.0",
      "model_name": "HBoxModel",
      "state": {
       "children": [
        "IPY_MODEL_41cf0b46429a43b1bdc06d5469d4a521",
        "IPY_MODEL_ea5042148db342e39e91647d1745a1b8",
        "IPY_MODEL_ac34128923844d98b839fc7f87507389"
       ],
       "layout": "IPY_MODEL_63fe09ff2ee248fe8bf1c68adbf5f0ef"
      }
     },
     "d4baecd35308474bb69b90b1db752e2b": {
      "model_module": "@jupyter-widgets/controls",
      "model_module_version": "1.5.0",
      "model_name": "DescriptionStyleModel",
      "state": {
       "description_width": ""
      }
     },
     "d516f3dfe6b645eb82e26bbf4c1aef31": {
      "model_module": "@jupyter-widgets/controls",
      "model_module_version": "1.5.0",
      "model_name": "FloatProgressModel",
      "state": {
       "bar_style": "success",
       "layout": "IPY_MODEL_232881df6e5e40758f8ac061ddc40e32",
       "max": 5,
       "style": "IPY_MODEL_079a4e35d05b41b4962112d4f04701a1",
       "value": 5
      }
     },
     "d52caa0068ee44e493d54a9e93e73b07": {
      "model_module": "@jupyter-widgets/controls",
      "model_module_version": "1.5.0",
      "model_name": "DescriptionStyleModel",
      "state": {
       "description_width": ""
      }
     },
     "d5531111986c43f6957bd8972ff65bf6": {
      "model_module": "@jupyter-widgets/controls",
      "model_module_version": "1.5.0",
      "model_name": "HTMLModel",
      "state": {
       "layout": "IPY_MODEL_3c7e36eeeda44a2abd96c1a7caac37f7",
       "style": "IPY_MODEL_2ad4c69d21a54ba98a7dcb00a4d4d7e0",
       "value": " 5/5 [00:00&lt;00:00, 83.26it/s]"
      }
     },
     "d595ad72bb504386ae248a92074b1fbb": {
      "model_module": "@jupyter-widgets/base",
      "model_module_version": "1.2.0",
      "model_name": "LayoutModel",
      "state": {}
     },
     "d5b303a57d02433da134823279b3b050": {
      "model_module": "@jupyter-widgets/base",
      "model_module_version": "1.2.0",
      "model_name": "LayoutModel",
      "state": {}
     },
     "d5c34dc395a74d1bb07d920869f9c25e": {
      "model_module": "@jupyter-widgets/base",
      "model_module_version": "1.2.0",
      "model_name": "LayoutModel",
      "state": {}
     },
     "d5c472ad80404e97a1ed72aa3f915d04": {
      "model_module": "@jupyter-widgets/controls",
      "model_module_version": "1.5.0",
      "model_name": "HBoxModel",
      "state": {
       "children": [
        "IPY_MODEL_023670afda32424798e4d3dd3cc738ff",
        "IPY_MODEL_4c7d62d569f141ddb0e5a1bbc939f223",
        "IPY_MODEL_2696ab16a91849a8b6902cedf4b2b322"
       ],
       "layout": "IPY_MODEL_55420b3327b44622ae4c49eae8b2fe5d"
      }
     },
     "d5e8b5f553e44487be8b6e04f3e759ee": {
      "model_module": "@jupyter-widgets/base",
      "model_module_version": "1.2.0",
      "model_name": "LayoutModel",
      "state": {}
     },
     "d60c56397ca84c3b8cb6ce6eb85a7662": {
      "model_module": "@jupyter-widgets/controls",
      "model_module_version": "1.5.0",
      "model_name": "DescriptionStyleModel",
      "state": {
       "description_width": ""
      }
     },
     "d6346b1257fd4ffcb3ba5a63aff40dd9": {
      "model_module": "@jupyter-widgets/base",
      "model_module_version": "1.2.0",
      "model_name": "LayoutModel",
      "state": {}
     },
     "d64c82cac2aa46e9b16a30a7ac90c8c3": {
      "model_module": "@jupyter-widgets/controls",
      "model_module_version": "1.5.0",
      "model_name": "HTMLModel",
      "state": {
       "layout": "IPY_MODEL_a752fd9014304e0cac6bbb051beb9771",
       "style": "IPY_MODEL_863c2e13e68246afb794387a8bd76b20",
       "value": "100%"
      }
     },
     "d6a834d6e9dc44a3b231b356f723497c": {
      "model_module": "@jupyter-widgets/base",
      "model_module_version": "1.2.0",
      "model_name": "LayoutModel",
      "state": {}
     },
     "d6ac1a76eb7a4d1fac30c1f72f4d8041": {
      "model_module": "@jupyter-widgets/controls",
      "model_module_version": "1.5.0",
      "model_name": "ProgressStyleModel",
      "state": {
       "description_width": ""
      }
     },
     "d6bbb37d71f94559ad1ca073bceaa5f2": {
      "model_module": "@jupyter-widgets/base",
      "model_module_version": "1.2.0",
      "model_name": "LayoutModel",
      "state": {}
     },
     "d6e40378573243c69804e3e3b638f409": {
      "model_module": "@jupyter-widgets/controls",
      "model_module_version": "1.5.0",
      "model_name": "HBoxModel",
      "state": {
       "children": [
        "IPY_MODEL_2cce6a245aeb4868a18c02d7867dd7ff",
        "IPY_MODEL_09c774a15eff4fe9b56baa20dd29f871",
        "IPY_MODEL_7c1b793f86694dc580c1bf6a9a4a84e7"
       ],
       "layout": "IPY_MODEL_5f78d1f2a34f423693b054b03788b9b0"
      }
     },
     "d6f3ba577d634ec784071cdde37aeb4d": {
      "model_module": "@jupyter-widgets/controls",
      "model_module_version": "1.5.0",
      "model_name": "ProgressStyleModel",
      "state": {
       "description_width": ""
      }
     },
     "d6f4242dd2794d56bdc8a3e8ec0c11ac": {
      "model_module": "@jupyter-widgets/base",
      "model_module_version": "1.2.0",
      "model_name": "LayoutModel",
      "state": {}
     },
     "d70a2b8a01f54c409de4462b137d0787": {
      "model_module": "@jupyter-widgets/base",
      "model_module_version": "1.2.0",
      "model_name": "LayoutModel",
      "state": {}
     },
     "d780f0e62da84cb19c48ef6bfb3e7919": {
      "model_module": "@jupyter-widgets/controls",
      "model_module_version": "1.5.0",
      "model_name": "ProgressStyleModel",
      "state": {
       "description_width": ""
      }
     },
     "d7ab8aed710548c98459be82b6de6d93": {
      "model_module": "@jupyter-widgets/controls",
      "model_module_version": "1.5.0",
      "model_name": "DescriptionStyleModel",
      "state": {
       "description_width": ""
      }
     },
     "d7c046bc3f3d48b39d42aebebe92c963": {
      "model_module": "@jupyter-widgets/controls",
      "model_module_version": "1.5.0",
      "model_name": "HBoxModel",
      "state": {
       "children": [
        "IPY_MODEL_218b5fee01954393854253cb90c97b1e",
        "IPY_MODEL_e0f399bd4ef34e96b844159482c92edb",
        "IPY_MODEL_df0bade853984a6c9f8dee74e23ba004"
       ],
       "layout": "IPY_MODEL_0d07e951a4f242e99bba56807736f33f"
      }
     },
     "d7ec9745af9b4d2a936315362ab7e676": {
      "model_module": "@jupyter-widgets/base",
      "model_module_version": "1.2.0",
      "model_name": "LayoutModel",
      "state": {}
     },
     "d81e149e33f1418b84f8e154415c770f": {
      "model_module": "@jupyter-widgets/base",
      "model_module_version": "1.2.0",
      "model_name": "LayoutModel",
      "state": {}
     },
     "d86ed52a2759401782002be8a05af664": {
      "model_module": "@jupyter-widgets/controls",
      "model_module_version": "1.5.0",
      "model_name": "DescriptionStyleModel",
      "state": {
       "description_width": ""
      }
     },
     "d8b07e6afdec48d39ee16ce0fd1276b1": {
      "model_module": "@jupyter-widgets/base",
      "model_module_version": "1.2.0",
      "model_name": "LayoutModel",
      "state": {}
     },
     "d8b57f70e7dd4632afe572a6ae8892dc": {
      "model_module": "@jupyter-widgets/controls",
      "model_module_version": "1.5.0",
      "model_name": "FloatProgressModel",
      "state": {
       "bar_style": "success",
       "layout": "IPY_MODEL_5fc208fba62149afab2240d325df1ddd",
       "max": 5,
       "style": "IPY_MODEL_3524076727564b16bf298e4c707a4bd2",
       "value": 5
      }
     },
     "d8e4f194b98d4eb3a454b54beb72ada3": {
      "model_module": "@jupyter-widgets/base",
      "model_module_version": "1.2.0",
      "model_name": "LayoutModel",
      "state": {}
     },
     "d8e87a925522493ebba70e0839167156": {
      "model_module": "@jupyter-widgets/controls",
      "model_module_version": "1.5.0",
      "model_name": "HBoxModel",
      "state": {
       "children": [
        "IPY_MODEL_9460789bf46349348d96a782b46c8af6",
        "IPY_MODEL_bd28ce71a0814c44aa91351d669bc163",
        "IPY_MODEL_e78c6bc845e24518ba70f67d3f3cc7b2"
       ],
       "layout": "IPY_MODEL_9a4c9ddb35674d45be6525a668eca863"
      }
     },
     "d8e9ea6cf953468da87c4b52aa39fdfd": {
      "model_module": "@jupyter-widgets/controls",
      "model_module_version": "1.5.0",
      "model_name": "DescriptionStyleModel",
      "state": {
       "description_width": ""
      }
     },
     "d9412514255a476fb18834dc11c4ab4e": {
      "model_module": "@jupyter-widgets/controls",
      "model_module_version": "1.5.0",
      "model_name": "HTMLModel",
      "state": {
       "layout": "IPY_MODEL_7a2e51f949814237a4f2f2e85ebc7427",
       "style": "IPY_MODEL_d43f6fa41ede4f07989fb12d091a0c3c",
       "value": "100%"
      }
     },
     "d96e3a5bd7f749e785e94b60ab55c910": {
      "model_module": "@jupyter-widgets/controls",
      "model_module_version": "1.5.0",
      "model_name": "DescriptionStyleModel",
      "state": {
       "description_width": ""
      }
     },
     "d9991ac8d507456ab8a91be7e82956a5": {
      "model_module": "@jupyter-widgets/base",
      "model_module_version": "1.2.0",
      "model_name": "LayoutModel",
      "state": {}
     },
     "da208d14d40a4c909bda8937ffe84202": {
      "model_module": "@jupyter-widgets/base",
      "model_module_version": "1.2.0",
      "model_name": "LayoutModel",
      "state": {}
     },
     "da5024560ea24b3eb56dfbfc76007067": {
      "model_module": "@jupyter-widgets/base",
      "model_module_version": "1.2.0",
      "model_name": "LayoutModel",
      "state": {}
     },
     "da91f48a9fbc4af19105def763ecfc17": {
      "model_module": "@jupyter-widgets/base",
      "model_module_version": "1.2.0",
      "model_name": "LayoutModel",
      "state": {}
     },
     "daa76f1676f940ce8068bcb5c1b9cd69": {
      "model_module": "@jupyter-widgets/base",
      "model_module_version": "1.2.0",
      "model_name": "LayoutModel",
      "state": {}
     },
     "dab01380780647cb94a3004cffdfeda5": {
      "model_module": "@jupyter-widgets/controls",
      "model_module_version": "1.5.0",
      "model_name": "HBoxModel",
      "state": {
       "children": [
        "IPY_MODEL_be77c0779e4743b897e1c247826e6eed",
        "IPY_MODEL_6a7f84a6e1354e8488146be0cf3172f9",
        "IPY_MODEL_7c05fcb6a1a34997b9d57555f36a4768"
       ],
       "layout": "IPY_MODEL_7551020a290141629b653561a8cac8a0"
      }
     },
     "db2a37c4b1ea4acd853de2bcab896465": {
      "model_module": "@jupyter-widgets/controls",
      "model_module_version": "1.5.0",
      "model_name": "DescriptionStyleModel",
      "state": {
       "description_width": ""
      }
     },
     "db32613330ff4c37a4b0b982067b3e1b": {
      "model_module": "@jupyter-widgets/controls",
      "model_module_version": "1.5.0",
      "model_name": "DescriptionStyleModel",
      "state": {
       "description_width": ""
      }
     },
     "db5e469898084bedad40e78e192c1f59": {
      "model_module": "@jupyter-widgets/controls",
      "model_module_version": "1.5.0",
      "model_name": "HTMLModel",
      "state": {
       "layout": "IPY_MODEL_c9cb07b58a9a4202b0e8a86b69fca0f5",
       "style": "IPY_MODEL_35160a78440e40ef98a03b5fcfe5b04d",
       "value": "100%"
      }
     },
     "db6953fc9f51429eac36cc6ea04de52d": {
      "model_module": "@jupyter-widgets/base",
      "model_module_version": "1.2.0",
      "model_name": "LayoutModel",
      "state": {}
     },
     "dbbd41ecb1b2451091ce233783df1f06": {
      "model_module": "@jupyter-widgets/controls",
      "model_module_version": "1.5.0",
      "model_name": "FloatProgressModel",
      "state": {
       "bar_style": "success",
       "layout": "IPY_MODEL_c4536e4e6c4e4955945d18c6907e3f51",
       "max": 5,
       "style": "IPY_MODEL_2385e3b72a8d4679a2ec65d4267f29a7",
       "value": 5
      }
     },
     "dbcf89f0cb864aac9298652bcf19be3f": {
      "model_module": "@jupyter-widgets/base",
      "model_module_version": "1.2.0",
      "model_name": "LayoutModel",
      "state": {}
     },
     "dbd505cf63054774be576ba7727fd163": {
      "model_module": "@jupyter-widgets/base",
      "model_module_version": "1.2.0",
      "model_name": "LayoutModel",
      "state": {}
     },
     "dc019aa261134df0a380dde7ade2729f": {
      "model_module": "@jupyter-widgets/base",
      "model_module_version": "1.2.0",
      "model_name": "LayoutModel",
      "state": {}
     },
     "dc37e0ae26a64ce6b5dc42cf4d06376c": {
      "model_module": "@jupyter-widgets/base",
      "model_module_version": "1.2.0",
      "model_name": "LayoutModel",
      "state": {}
     },
     "dc3cf1b0923d47199b683629fbd39e79": {
      "model_module": "@jupyter-widgets/base",
      "model_module_version": "1.2.0",
      "model_name": "LayoutModel",
      "state": {}
     },
     "dc56186fd4184875a51db139e0302c23": {
      "model_module": "@jupyter-widgets/controls",
      "model_module_version": "1.5.0",
      "model_name": "HTMLModel",
      "state": {
       "layout": "IPY_MODEL_14f2d0f8b6b143b38dc66114b92a98a4",
       "style": "IPY_MODEL_913515b784774b878201f4cac85f04d3",
       "value": " 5/5 [13:25&lt;00:00, 162.27s/it]"
      }
     },
     "dc61e6662cb94968a04f3ae044af7adb": {
      "model_module": "@jupyter-widgets/controls",
      "model_module_version": "1.5.0",
      "model_name": "HBoxModel",
      "state": {
       "children": [
        "IPY_MODEL_26f0a51694d34ca888abdb83dd7be2c2",
        "IPY_MODEL_60d3c0c9ae3c4372a03c79d67bd317e8",
        "IPY_MODEL_ce88b0be7f0d47e38fdc14069581a8f7"
       ],
       "layout": "IPY_MODEL_6bd09f79fb4a4e26a12578d792fbb30e"
      }
     },
     "dc7a732da85e403ab945d65389ec2bf5": {
      "model_module": "@jupyter-widgets/base",
      "model_module_version": "1.2.0",
      "model_name": "LayoutModel",
      "state": {}
     },
     "dcb52a22b810467d918637f2910c96b2": {
      "model_module": "@jupyter-widgets/base",
      "model_module_version": "1.2.0",
      "model_name": "LayoutModel",
      "state": {}
     },
     "dcd1eea9a5b24179a03e91fa45ff38b1": {
      "model_module": "@jupyter-widgets/controls",
      "model_module_version": "1.5.0",
      "model_name": "HTMLModel",
      "state": {
       "layout": "IPY_MODEL_48d937405fba4315be1ee5b4613faa33",
       "style": "IPY_MODEL_acfd277e1453454d9550e3706410381b",
       "value": " 5/5 [00:14&lt;00:00,  2.80s/it]"
      }
     },
     "dd353f9ecaa24c36a8e892d9dc6f92fa": {
      "model_module": "@jupyter-widgets/controls",
      "model_module_version": "1.5.0",
      "model_name": "FloatProgressModel",
      "state": {
       "bar_style": "success",
       "layout": "IPY_MODEL_ea245818e14c4a50a03a6f5e9c7972ad",
       "max": 5,
       "style": "IPY_MODEL_9787e401d3464ca9a4c2965afe173535",
       "value": 5
      }
     },
     "dd45618f24e9401db64624ebe91f4c9f": {
      "model_module": "@jupyter-widgets/controls",
      "model_module_version": "1.5.0",
      "model_name": "HBoxModel",
      "state": {
       "children": [
        "IPY_MODEL_50e95109f1d648f490cef3fc6ecf4519",
        "IPY_MODEL_6f3038e8b93943beb776858988d96f4a",
        "IPY_MODEL_a35147d6301d4ee68014a0b45c506852"
       ],
       "layout": "IPY_MODEL_b999238ad6e84417a715b082e4a45742"
      }
     },
     "dd4e14fcd1d041e8a253dcb765ade844": {
      "model_module": "@jupyter-widgets/controls",
      "model_module_version": "1.5.0",
      "model_name": "FloatProgressModel",
      "state": {
       "bar_style": "success",
       "layout": "IPY_MODEL_fa0c1411c0b542adad24a3e51356e346",
       "max": 5,
       "style": "IPY_MODEL_25367b0826724d82a2ea72566dcd3142",
       "value": 5
      }
     },
     "dd4f6bab76dd4c5a909a160cd8ede7a3": {
      "model_module": "@jupyter-widgets/base",
      "model_module_version": "1.2.0",
      "model_name": "LayoutModel",
      "state": {}
     },
     "ddb8d914c1f045a28054b0025140a4c7": {
      "model_module": "@jupyter-widgets/controls",
      "model_module_version": "1.5.0",
      "model_name": "FloatProgressModel",
      "state": {
       "bar_style": "success",
       "layout": "IPY_MODEL_cf6757f0d2574a12904c8ab8092a8ca6",
       "max": 5,
       "style": "IPY_MODEL_53b95260a5a24d749f5253242b3c1441",
       "value": 5
      }
     },
     "ddcd4ea2cd2a462bbe014cafc18ff15e": {
      "model_module": "@jupyter-widgets/controls",
      "model_module_version": "1.5.0",
      "model_name": "HBoxModel",
      "state": {
       "children": [
        "IPY_MODEL_565a8971fc544c74ac69dca3575be08f",
        "IPY_MODEL_8303943df9794317ac21c8aa5f9b7aeb",
        "IPY_MODEL_27bf454023c84b0ea7137ae1d4d230a3"
       ],
       "layout": "IPY_MODEL_185880c93a0a4ebe842edfd9685023b6"
      }
     },
     "ddde5cc1e6ac4f4789370ced28607e23": {
      "model_module": "@jupyter-widgets/controls",
      "model_module_version": "1.5.0",
      "model_name": "HBoxModel",
      "state": {
       "children": [
        "IPY_MODEL_de7e6cfd439341d4a77b429df5a83e4b",
        "IPY_MODEL_ae8941278a7643619925efa31fcbb6cd",
        "IPY_MODEL_4b052e0d6bf04428aae2756c01ad5650"
       ],
       "layout": "IPY_MODEL_e7b07286d5564b6fabdb15f98ad3d2b2"
      }
     },
     "de0d79e7bffd425fb4b1d11061405aa9": {
      "model_module": "@jupyter-widgets/controls",
      "model_module_version": "1.5.0",
      "model_name": "HBoxModel",
      "state": {
       "children": [
        "IPY_MODEL_8f723e2bc0f94ca2851a10498e9c26d9",
        "IPY_MODEL_425edef6f00045bfa08402af7d8c9bfc",
        "IPY_MODEL_5aac884fd06349c0b3e3995be349dcd7"
       ],
       "layout": "IPY_MODEL_ae20834006f940c1a25b25bc58c94825"
      }
     },
     "de435555f6864c3b8f8a6589d9d46619": {
      "model_module": "@jupyter-widgets/base",
      "model_module_version": "1.2.0",
      "model_name": "LayoutModel",
      "state": {}
     },
     "de611a565bf742a699e834cd6835128e": {
      "model_module": "@jupyter-widgets/controls",
      "model_module_version": "1.5.0",
      "model_name": "HTMLModel",
      "state": {
       "layout": "IPY_MODEL_05c0239a216e471899603a3ad6365105",
       "style": "IPY_MODEL_87925054060345a5b7aeb85ede65bcdf",
       "value": " 5/5 [00:00&lt;00:00, 84.37it/s]"
      }
     },
     "de6f4b171a0e4174930ddacde8179bc3": {
      "model_module": "@jupyter-widgets/controls",
      "model_module_version": "1.5.0",
      "model_name": "DescriptionStyleModel",
      "state": {
       "description_width": ""
      }
     },
     "de7e6cfd439341d4a77b429df5a83e4b": {
      "model_module": "@jupyter-widgets/controls",
      "model_module_version": "1.5.0",
      "model_name": "HTMLModel",
      "state": {
       "layout": "IPY_MODEL_0de5ba4fc4414c4382500055c614ca99",
       "style": "IPY_MODEL_48089ff5d9e046298569159ecc9f0509",
       "value": "100%"
      }
     },
     "dec4d61450d740e5b1e8d92485ee668f": {
      "model_module": "@jupyter-widgets/base",
      "model_module_version": "1.2.0",
      "model_name": "LayoutModel",
      "state": {}
     },
     "ded9a410424e41d1904831f072cada02": {
      "model_module": "@jupyter-widgets/controls",
      "model_module_version": "1.5.0",
      "model_name": "HBoxModel",
      "state": {
       "children": [
        "IPY_MODEL_e3987f21487547f5811d65d8e925b899",
        "IPY_MODEL_bbc390d804214e56bec46fe60325e0b3",
        "IPY_MODEL_aa4d4ca5cdf74aae8cc1a7e12b6319bc"
       ],
       "layout": "IPY_MODEL_780e49cb630248e0b8751f14cfb8102b"
      }
     },
     "def36e3ad93b4e69ad52589aa999ba38": {
      "model_module": "@jupyter-widgets/controls",
      "model_module_version": "1.5.0",
      "model_name": "ProgressStyleModel",
      "state": {
       "description_width": ""
      }
     },
     "df0bade853984a6c9f8dee74e23ba004": {
      "model_module": "@jupyter-widgets/controls",
      "model_module_version": "1.5.0",
      "model_name": "HTMLModel",
      "state": {
       "layout": "IPY_MODEL_edfec2d213af440dbe5daf7928b8f1d9",
       "style": "IPY_MODEL_b38e84e9c1c1472ab8fef141b4c60708",
       "value": " 5/5 [00:04&lt;00:00,  1.05it/s]"
      }
     },
     "df2cfe0e97b24b2cbebfadf3b2cb42f3": {
      "model_module": "@jupyter-widgets/controls",
      "model_module_version": "1.5.0",
      "model_name": "FloatProgressModel",
      "state": {
       "bar_style": "success",
       "layout": "IPY_MODEL_28583a3182a64001bcacf0901f7a3dd0",
       "max": 5,
       "style": "IPY_MODEL_edf6f820c26c4e68b3188cecb15635ab",
       "value": 5
      }
     },
     "df3fd0ea6bee4f9c916c49e94f81da7d": {
      "model_module": "@jupyter-widgets/controls",
      "model_module_version": "1.5.0",
      "model_name": "HBoxModel",
      "state": {
       "children": [
        "IPY_MODEL_cefdbcbe9d1347a2b54993c6d5db9e45",
        "IPY_MODEL_15c7d344626d4ca0ba5d082b65977315",
        "IPY_MODEL_bc7429dfc41c463ba29a661489f3d0ad"
       ],
       "layout": "IPY_MODEL_74a52640153747f88bfb0f1aa92edecf"
      }
     },
     "df46832b9d8a45378a3faa17142cd1e4": {
      "model_module": "@jupyter-widgets/controls",
      "model_module_version": "1.5.0",
      "model_name": "DescriptionStyleModel",
      "state": {
       "description_width": ""
      }
     },
     "df7fe5a929aa4c76b39d6d684679e039": {
      "model_module": "@jupyter-widgets/controls",
      "model_module_version": "1.5.0",
      "model_name": "DescriptionStyleModel",
      "state": {
       "description_width": ""
      }
     },
     "dfa0eae566654806881a333c25ad04f4": {
      "model_module": "@jupyter-widgets/controls",
      "model_module_version": "1.5.0",
      "model_name": "FloatProgressModel",
      "state": {
       "bar_style": "success",
       "layout": "IPY_MODEL_9a42c8f090124956904ceed193e8ffb4",
       "max": 5,
       "style": "IPY_MODEL_8178b60dcfc54add9e34fc38dc794d48",
       "value": 5
      }
     },
     "e03473a69e5d44a8adca34c3fa69f36a": {
      "model_module": "@jupyter-widgets/controls",
      "model_module_version": "1.5.0",
      "model_name": "DescriptionStyleModel",
      "state": {
       "description_width": ""
      }
     },
     "e03522fe370d423badcdb5c17f85c692": {
      "model_module": "@jupyter-widgets/controls",
      "model_module_version": "1.5.0",
      "model_name": "DescriptionStyleModel",
      "state": {
       "description_width": ""
      }
     },
     "e05fdcbf36e64b10bdf73f95332327cb": {
      "model_module": "@jupyter-widgets/base",
      "model_module_version": "1.2.0",
      "model_name": "LayoutModel",
      "state": {}
     },
     "e07fed876d754a8e9c7f149193b0f11f": {
      "model_module": "@jupyter-widgets/controls",
      "model_module_version": "1.5.0",
      "model_name": "DescriptionStyleModel",
      "state": {
       "description_width": ""
      }
     },
     "e08735ae9319432ea43b3e7616feab6d": {
      "model_module": "@jupyter-widgets/controls",
      "model_module_version": "1.5.0",
      "model_name": "FloatProgressModel",
      "state": {
       "bar_style": "success",
       "layout": "IPY_MODEL_4660b052da99435ea2edd1e3c4779ee4",
       "max": 5,
       "style": "IPY_MODEL_03303c07df5d4d428101446e2961f439",
       "value": 5
      }
     },
     "e087c33ce85a4824a2a1d639045098bd": {
      "model_module": "@jupyter-widgets/controls",
      "model_module_version": "1.5.0",
      "model_name": "FloatProgressModel",
      "state": {
       "bar_style": "success",
       "layout": "IPY_MODEL_dc37e0ae26a64ce6b5dc42cf4d06376c",
       "max": 5,
       "style": "IPY_MODEL_64a361179e904d5b8d60f27cea8ff979",
       "value": 5
      }
     },
     "e0f399bd4ef34e96b844159482c92edb": {
      "model_module": "@jupyter-widgets/controls",
      "model_module_version": "1.5.0",
      "model_name": "FloatProgressModel",
      "state": {
       "bar_style": "success",
       "layout": "IPY_MODEL_3930b5f0c9b347b8930f4181ebdf1ce2",
       "max": 5,
       "style": "IPY_MODEL_d388e8b268134416a10645a0f2dbb42b",
       "value": 5
      }
     },
     "e108676250f64576a1d02baf5c3c86e2": {
      "model_module": "@jupyter-widgets/controls",
      "model_module_version": "1.5.0",
      "model_name": "DescriptionStyleModel",
      "state": {
       "description_width": ""
      }
     },
     "e165029318b94599be46b1efbea38d42": {
      "model_module": "@jupyter-widgets/base",
      "model_module_version": "1.2.0",
      "model_name": "LayoutModel",
      "state": {}
     },
     "e165a3cb1755405bba53c12e314514d3": {
      "model_module": "@jupyter-widgets/controls",
      "model_module_version": "1.5.0",
      "model_name": "ProgressStyleModel",
      "state": {
       "description_width": ""
      }
     },
     "e170db551ea0483eb982763b2c1277f3": {
      "model_module": "@jupyter-widgets/controls",
      "model_module_version": "1.5.0",
      "model_name": "DescriptionStyleModel",
      "state": {
       "description_width": ""
      }
     },
     "e179d165c405441c82e36df520afb229": {
      "model_module": "@jupyter-widgets/controls",
      "model_module_version": "1.5.0",
      "model_name": "FloatProgressModel",
      "state": {
       "bar_style": "success",
       "layout": "IPY_MODEL_f9020cd546fc4342a68c493905d32afa",
       "max": 5,
       "style": "IPY_MODEL_3b86bf74b0a4407eb8e0ad84f343f090",
       "value": 5
      }
     },
     "e19fd0216e19429d81dfc825f497bd8f": {
      "model_module": "@jupyter-widgets/controls",
      "model_module_version": "1.5.0",
      "model_name": "HTMLModel",
      "state": {
       "layout": "IPY_MODEL_254fc426909f43bf856f4bcfdd6703d4",
       "style": "IPY_MODEL_c22cbabc45ec4ea1af464cea1d50bbdc",
       "value": " 5/5 [00:05&lt;00:00,  1.12s/it]"
      }
     },
     "e1de340460dd4ade8cf563d227787af3": {
      "model_module": "@jupyter-widgets/controls",
      "model_module_version": "1.5.0",
      "model_name": "HTMLModel",
      "state": {
       "layout": "IPY_MODEL_424da3d725cc4e30b4c2b06045242058",
       "style": "IPY_MODEL_55214528b8aa4825bed88dbeea943cfe",
       "value": " 5/5 [13:24&lt;00:00, 160.72s/it]"
      }
     },
     "e1e85771ad0d4498824d377fce770af0": {
      "model_module": "@jupyter-widgets/base",
      "model_module_version": "1.2.0",
      "model_name": "LayoutModel",
      "state": {}
     },
     "e2380ff915d748529a25f0ba5ff4c012": {
      "model_module": "@jupyter-widgets/controls",
      "model_module_version": "1.5.0",
      "model_name": "HTMLModel",
      "state": {
       "layout": "IPY_MODEL_d3453690f6324632a8bb002ec727ae25",
       "style": "IPY_MODEL_923eb859f0b642f1990c984edb19d035",
       "value": " 5/5 [13:04&lt;00:00, 155.93s/it]"
      }
     },
     "e28b7625108345efa31eb5bd6f6a993d": {
      "model_module": "@jupyter-widgets/controls",
      "model_module_version": "1.5.0",
      "model_name": "DescriptionStyleModel",
      "state": {
       "description_width": ""
      }
     },
     "e29e123ea35b4287a8c264fccf596638": {
      "model_module": "@jupyter-widgets/controls",
      "model_module_version": "1.5.0",
      "model_name": "HTMLModel",
      "state": {
       "layout": "IPY_MODEL_986ed9768061469bacec6bb31b718f8f",
       "style": "IPY_MODEL_aee1ba5044344fd2ac6874a5fb149b47",
       "value": " 5/5 [13:39&lt;00:00, 162.64s/it]"
      }
     },
     "e2ad86f7233d4c4595d433f0ff6bc94e": {
      "model_module": "@jupyter-widgets/controls",
      "model_module_version": "1.5.0",
      "model_name": "HTMLModel",
      "state": {
       "layout": "IPY_MODEL_1c07d5c6bf8a4581a763e673602fb5c3",
       "style": "IPY_MODEL_9e50abf541fe4acf8cebb9eb6dc5d375",
       "value": " 5/5 [00:06&lt;00:00,  1.19s/it]"
      }
     },
     "e2b9ae99ef3f41678c0dc1eda35019f2": {
      "model_module": "@jupyter-widgets/base",
      "model_module_version": "1.2.0",
      "model_name": "LayoutModel",
      "state": {}
     },
     "e2e0bd768ada4655894547b108bfe1d9": {
      "model_module": "@jupyter-widgets/controls",
      "model_module_version": "1.5.0",
      "model_name": "FloatProgressModel",
      "state": {
       "bar_style": "success",
       "layout": "IPY_MODEL_a0dcd2f6ac8347228b85c2f68c949278",
       "max": 5,
       "style": "IPY_MODEL_aa076d6b594a45ec9d094dc987f956bc",
       "value": 5
      }
     },
     "e2e149a6d54e45f5a94ea47b689c20d7": {
      "model_module": "@jupyter-widgets/controls",
      "model_module_version": "1.5.0",
      "model_name": "DescriptionStyleModel",
      "state": {
       "description_width": ""
      }
     },
     "e31cc6cab57a48448a50e0d0538b8811": {
      "model_module": "@jupyter-widgets/controls",
      "model_module_version": "1.5.0",
      "model_name": "HTMLModel",
      "state": {
       "layout": "IPY_MODEL_fa01517d00594be1a7951c98e340a3a1",
       "style": "IPY_MODEL_3e72c73ac98947f18a2bc5b40fd335e3",
       "value": " 5/5 [12:35&lt;00:00, 151.96s/it]"
      }
     },
     "e352a3bad2c34607a32fbcb0da2c360f": {
      "model_module": "@jupyter-widgets/base",
      "model_module_version": "1.2.0",
      "model_name": "LayoutModel",
      "state": {}
     },
     "e38e1a03162f4f2eb3e81a3bff3a88fa": {
      "model_module": "@jupyter-widgets/controls",
      "model_module_version": "1.5.0",
      "model_name": "HTMLModel",
      "state": {
       "layout": "IPY_MODEL_478040cc6b97457ba70243096b97799a",
       "style": "IPY_MODEL_e28b7625108345efa31eb5bd6f6a993d",
       "value": " 5/5 [12:52&lt;00:00, 154.36s/it]"
      }
     },
     "e3987f21487547f5811d65d8e925b899": {
      "model_module": "@jupyter-widgets/controls",
      "model_module_version": "1.5.0",
      "model_name": "HTMLModel",
      "state": {
       "layout": "IPY_MODEL_858d58a204274918b4e913dfa8f63cef",
       "style": "IPY_MODEL_e03473a69e5d44a8adca34c3fa69f36a",
       "value": "100%"
      }
     },
     "e3b7ff493fca4d3485e6c1c2b077bf92": {
      "model_module": "@jupyter-widgets/controls",
      "model_module_version": "1.5.0",
      "model_name": "DescriptionStyleModel",
      "state": {
       "description_width": ""
      }
     },
     "e3bad33b61064ab79265a944d24042ab": {
      "model_module": "@jupyter-widgets/base",
      "model_module_version": "1.2.0",
      "model_name": "LayoutModel",
      "state": {}
     },
     "e3c5ce1028694b798b180169f3362e68": {
      "model_module": "@jupyter-widgets/base",
      "model_module_version": "1.2.0",
      "model_name": "LayoutModel",
      "state": {}
     },
     "e467b96614094c9e8684d8a4134dea81": {
      "model_module": "@jupyter-widgets/base",
      "model_module_version": "1.2.0",
      "model_name": "LayoutModel",
      "state": {}
     },
     "e4e6c0bf3406400fb89dae9ee390373b": {
      "model_module": "@jupyter-widgets/controls",
      "model_module_version": "1.5.0",
      "model_name": "ProgressStyleModel",
      "state": {
       "description_width": ""
      }
     },
     "e4ef352e64d34063b914cfc14f00e113": {
      "model_module": "@jupyter-widgets/controls",
      "model_module_version": "1.5.0",
      "model_name": "ProgressStyleModel",
      "state": {
       "description_width": ""
      }
     },
     "e549dba1f1fc4b6488ff019844e758d0": {
      "model_module": "@jupyter-widgets/controls",
      "model_module_version": "1.5.0",
      "model_name": "DescriptionStyleModel",
      "state": {
       "description_width": ""
      }
     },
     "e5948da025c04ccbb8eff0c7c79b6dfd": {
      "model_module": "@jupyter-widgets/base",
      "model_module_version": "1.2.0",
      "model_name": "LayoutModel",
      "state": {}
     },
     "e5baeb43e4bc4521b2a6281c2c92191c": {
      "model_module": "@jupyter-widgets/controls",
      "model_module_version": "1.5.0",
      "model_name": "HTMLModel",
      "state": {
       "layout": "IPY_MODEL_b7c458b12f234806b1a339c95e635168",
       "style": "IPY_MODEL_7b6f4f9d61d0436bbd4ab544bf078bf8",
       "value": " 5/5 [04:18&lt;00:00, 51.66s/it]"
      }
     },
     "e5d34641c4164a16bea664c38ef63f3c": {
      "model_module": "@jupyter-widgets/controls",
      "model_module_version": "1.5.0",
      "model_name": "FloatProgressModel",
      "state": {
       "bar_style": "success",
       "layout": "IPY_MODEL_a5e1e364511a4697a8c79e58e5dbcac9",
       "max": 5,
       "style": "IPY_MODEL_bfed2135cfe543598b48be72ac92dcc6",
       "value": 5
      }
     },
     "e5e46edc52de41108a0f5eac0b1d4cdc": {
      "model_module": "@jupyter-widgets/base",
      "model_module_version": "1.2.0",
      "model_name": "LayoutModel",
      "state": {}
     },
     "e62206e2c0be4865b4817d70ca86c3c1": {
      "model_module": "@jupyter-widgets/base",
      "model_module_version": "1.2.0",
      "model_name": "LayoutModel",
      "state": {}
     },
     "e62c6f692c5340a190839f66b1a93df1": {
      "model_module": "@jupyter-widgets/base",
      "model_module_version": "1.2.0",
      "model_name": "LayoutModel",
      "state": {}
     },
     "e65493139a88452188fbca14ad6f583b": {
      "model_module": "@jupyter-widgets/controls",
      "model_module_version": "1.5.0",
      "model_name": "ProgressStyleModel",
      "state": {
       "description_width": ""
      }
     },
     "e6a6d10bada14069b05870a8e15fcbd0": {
      "model_module": "@jupyter-widgets/controls",
      "model_module_version": "1.5.0",
      "model_name": "ProgressStyleModel",
      "state": {
       "description_width": ""
      }
     },
     "e6bfb01347c54950a21c5f07e0d30b06": {
      "model_module": "@jupyter-widgets/base",
      "model_module_version": "1.2.0",
      "model_name": "LayoutModel",
      "state": {}
     },
     "e6f48a1f6f27451ebbd7405fcc4d7c74": {
      "model_module": "@jupyter-widgets/controls",
      "model_module_version": "1.5.0",
      "model_name": "DescriptionStyleModel",
      "state": {
       "description_width": ""
      }
     },
     "e7137584f6294ad2886a2c4fee8770d4": {
      "model_module": "@jupyter-widgets/controls",
      "model_module_version": "1.5.0",
      "model_name": "HBoxModel",
      "state": {
       "children": [
        "IPY_MODEL_43e5d4cf2aab4ff8bb9c6663edc01ea3",
        "IPY_MODEL_2bc2a2710a984179a8230cfa5cffadf8",
        "IPY_MODEL_a085089b949f4245b99797d39ce432ba"
       ],
       "layout": "IPY_MODEL_6ebd77445ff24427a9a59a4d70e3287c"
      }
     },
     "e74826ef67c643ae91f8c50efbdb64b4": {
      "model_module": "@jupyter-widgets/controls",
      "model_module_version": "1.5.0",
      "model_name": "ProgressStyleModel",
      "state": {
       "description_width": ""
      }
     },
     "e753e27f606b4b96b521d23d3fe11d29": {
      "model_module": "@jupyter-widgets/base",
      "model_module_version": "1.2.0",
      "model_name": "LayoutModel",
      "state": {}
     },
     "e78c6bc845e24518ba70f67d3f3cc7b2": {
      "model_module": "@jupyter-widgets/controls",
      "model_module_version": "1.5.0",
      "model_name": "HTMLModel",
      "state": {
       "layout": "IPY_MODEL_8903cee4c95440329470dbc9ceae5436",
       "style": "IPY_MODEL_340a9e0f52e64e86be3881a726d7ee09",
       "value": " 5/5 [12:47&lt;00:00, 152.79s/it]"
      }
     },
     "e7b07286d5564b6fabdb15f98ad3d2b2": {
      "model_module": "@jupyter-widgets/base",
      "model_module_version": "1.2.0",
      "model_name": "LayoutModel",
      "state": {}
     },
     "e7e3a2528f8d4c6b9972500160ed68a7": {
      "model_module": "@jupyter-widgets/controls",
      "model_module_version": "1.5.0",
      "model_name": "HBoxModel",
      "state": {
       "children": [
        "IPY_MODEL_9b52040e090a40cb9e75ddb7ce517ef7",
        "IPY_MODEL_c0277c816b524d03a53743f89543c33c",
        "IPY_MODEL_362ac2b9fd9440fe91f347df8bdf5f74"
       ],
       "layout": "IPY_MODEL_963ab0621c734714b759d1a9991e991c"
      }
     },
     "e80ea4ba625148e7977d2de9311b90e8": {
      "model_module": "@jupyter-widgets/controls",
      "model_module_version": "1.5.0",
      "model_name": "HTMLModel",
      "state": {
       "layout": "IPY_MODEL_288696a035784586817926086502a4b6",
       "style": "IPY_MODEL_c7ba60874fef46d0ac925c27da8a884e",
       "value": "100%"
      }
     },
     "e81b91712ecd42b8b9b3f2dc50151db6": {
      "model_module": "@jupyter-widgets/base",
      "model_module_version": "1.2.0",
      "model_name": "LayoutModel",
      "state": {}
     },
     "e83cb87f0822406d982c677b44a4ed80": {
      "model_module": "@jupyter-widgets/controls",
      "model_module_version": "1.5.0",
      "model_name": "FloatProgressModel",
      "state": {
       "bar_style": "success",
       "layout": "IPY_MODEL_71786d959a35409bb9a36c5825bd86ec",
       "max": 5,
       "style": "IPY_MODEL_b7130ebbb8b34a1ba3022614c443c8a1",
       "value": 5
      }
     },
     "e8408ef8af4048cab21201595ee19c5a": {
      "model_module": "@jupyter-widgets/base",
      "model_module_version": "1.2.0",
      "model_name": "LayoutModel",
      "state": {}
     },
     "e8a37c4098e3434884178c43dcbd3157": {
      "model_module": "@jupyter-widgets/base",
      "model_module_version": "1.2.0",
      "model_name": "LayoutModel",
      "state": {}
     },
     "e9341163ac9b4bc19a5a387135811b1d": {
      "model_module": "@jupyter-widgets/base",
      "model_module_version": "1.2.0",
      "model_name": "LayoutModel",
      "state": {}
     },
     "e954faf1da594a97847c49e2f070b5c8": {
      "model_module": "@jupyter-widgets/controls",
      "model_module_version": "1.5.0",
      "model_name": "HTMLModel",
      "state": {
       "layout": "IPY_MODEL_98203bea58a14fe6a728e7f5b63a4fd8",
       "style": "IPY_MODEL_df7fe5a929aa4c76b39d6d684679e039",
       "value": "100%"
      }
     },
     "e99101f0faaa4ab4a86854d8f5cd5d3d": {
      "model_module": "@jupyter-widgets/controls",
      "model_module_version": "1.5.0",
      "model_name": "HTMLModel",
      "state": {
       "layout": "IPY_MODEL_54d07cafbd8e44a687c65da067d28d18",
       "style": "IPY_MODEL_7c19932a2dbe4058bca9d14afb6d08a9",
       "value": " 5/5 [00:00&lt;00:00, 11.55it/s]"
      }
     },
     "e99fc0ea420f4c5fa8102c6072e70019": {
      "model_module": "@jupyter-widgets/controls",
      "model_module_version": "1.5.0",
      "model_name": "FloatProgressModel",
      "state": {
       "bar_style": "success",
       "layout": "IPY_MODEL_4857015db0df4ef0b0022ff71a5323f5",
       "max": 5,
       "style": "IPY_MODEL_7cb2d21478964dcba92949173884bce5",
       "value": 5
      }
     },
     "e9d773743d8f406f9e54079e7710b58c": {
      "model_module": "@jupyter-widgets/controls",
      "model_module_version": "1.5.0",
      "model_name": "HBoxModel",
      "state": {
       "children": [
        "IPY_MODEL_a69a05eddfb348c192f9a48f5138f361",
        "IPY_MODEL_0d4d9facfc6843eaa0c34009a02fd2b1",
        "IPY_MODEL_ec339b89e5544e40acc255520b094819"
       ],
       "layout": "IPY_MODEL_a4963feaf549477cbb27bd54987933f1"
      }
     },
     "e9dcf3229e1f4c95a129076dd7591c5b": {
      "model_module": "@jupyter-widgets/controls",
      "model_module_version": "1.5.0",
      "model_name": "DescriptionStyleModel",
      "state": {
       "description_width": ""
      }
     },
     "e9fbedab48744f5595cb53ec61826377": {
      "model_module": "@jupyter-widgets/base",
      "model_module_version": "1.2.0",
      "model_name": "LayoutModel",
      "state": {}
     },
     "ea21a6e201f54b9c949b31fd86047cad": {
      "model_module": "@jupyter-widgets/base",
      "model_module_version": "1.2.0",
      "model_name": "LayoutModel",
      "state": {}
     },
     "ea245818e14c4a50a03a6f5e9c7972ad": {
      "model_module": "@jupyter-widgets/base",
      "model_module_version": "1.2.0",
      "model_name": "LayoutModel",
      "state": {}
     },
     "ea5042148db342e39e91647d1745a1b8": {
      "model_module": "@jupyter-widgets/controls",
      "model_module_version": "1.5.0",
      "model_name": "FloatProgressModel",
      "state": {
       "bar_style": "success",
       "layout": "IPY_MODEL_19c13c900c2342c3992b83550218bd9c",
       "max": 5,
       "style": "IPY_MODEL_37e65255bfb840278a783ff892a2afbf",
       "value": 5
      }
     },
     "ea5f16bb1a2e42a79e0b05268d1c6776": {
      "model_module": "@jupyter-widgets/base",
      "model_module_version": "1.2.0",
      "model_name": "LayoutModel",
      "state": {}
     },
     "ea684f24320043e48e84cb5a8b04a2db": {
      "model_module": "@jupyter-widgets/controls",
      "model_module_version": "1.5.0",
      "model_name": "DescriptionStyleModel",
      "state": {
       "description_width": ""
      }
     },
     "eaa4370eb95a4b67afc968c9e511e9c3": {
      "model_module": "@jupyter-widgets/base",
      "model_module_version": "1.2.0",
      "model_name": "LayoutModel",
      "state": {}
     },
     "eaa63196b359413e84d23e7ea2f07511": {
      "model_module": "@jupyter-widgets/controls",
      "model_module_version": "1.5.0",
      "model_name": "DescriptionStyleModel",
      "state": {
       "description_width": ""
      }
     },
     "eb10276e59cb4ed397f69860480e396a": {
      "model_module": "@jupyter-widgets/controls",
      "model_module_version": "1.5.0",
      "model_name": "HTMLModel",
      "state": {
       "layout": "IPY_MODEL_b5f90a2e10814f589ef1a04b8cff7523",
       "style": "IPY_MODEL_781f8aafe80b4b4d956935c391dc73cc",
       "value": "100%"
      }
     },
     "eb2179b09b5244229f653958e1a941bc": {
      "model_module": "@jupyter-widgets/controls",
      "model_module_version": "1.5.0",
      "model_name": "HTMLModel",
      "state": {
       "layout": "IPY_MODEL_5f30ece91de147bc8b297e590997dad1",
       "style": "IPY_MODEL_93559516bb3f468bafbb93e10826b027",
       "value": " 5/5 [00:05&lt;00:00,  1.02s/it]"
      }
     },
     "eb62da4245c9480f9eeb7e8bb1305e93": {
      "model_module": "@jupyter-widgets/controls",
      "model_module_version": "1.5.0",
      "model_name": "HBoxModel",
      "state": {
       "children": [
        "IPY_MODEL_a0e5e1837b5d48cd8fd7b2fdea863ce6",
        "IPY_MODEL_4afab328669f4450b1726f56b2152c04",
        "IPY_MODEL_439de40f4f9c43be90eaea72a8bd0d2c"
       ],
       "layout": "IPY_MODEL_d8b07e6afdec48d39ee16ce0fd1276b1"
      }
     },
     "eba518406a8e4de6bb6962db2f905d0b": {
      "model_module": "@jupyter-widgets/base",
      "model_module_version": "1.2.0",
      "model_name": "LayoutModel",
      "state": {}
     },
     "ebaa65014eb8437e9c71945929b60c05": {
      "model_module": "@jupyter-widgets/base",
      "model_module_version": "1.2.0",
      "model_name": "LayoutModel",
      "state": {}
     },
     "ebc64d8fa9dc437dab9fdbe6ca82cd47": {
      "model_module": "@jupyter-widgets/base",
      "model_module_version": "1.2.0",
      "model_name": "LayoutModel",
      "state": {}
     },
     "ec2b9c01424543d7833f07965defd805": {
      "model_module": "@jupyter-widgets/controls",
      "model_module_version": "1.5.0",
      "model_name": "DescriptionStyleModel",
      "state": {
       "description_width": ""
      }
     },
     "ec339b89e5544e40acc255520b094819": {
      "model_module": "@jupyter-widgets/controls",
      "model_module_version": "1.5.0",
      "model_name": "HTMLModel",
      "state": {
       "layout": "IPY_MODEL_d5b303a57d02433da134823279b3b050",
       "style": "IPY_MODEL_91e16ba41ae7403f81b7077211b5e164",
       "value": " 5/5 [00:05&lt;00:00,  1.10s/it]"
      }
     },
     "ec4e1284c7844ba090b9af8b1f78c954": {
      "model_module": "@jupyter-widgets/controls",
      "model_module_version": "1.5.0",
      "model_name": "HTMLModel",
      "state": {
       "layout": "IPY_MODEL_5b2c5cdcc62b4b17b278eb7b22d99c27",
       "style": "IPY_MODEL_af93342685394589a4d563e6e3b7b305",
       "value": " 5/5 [00:05&lt;00:00,  1.11s/it]"
      }
     },
     "ed402221e613447c8d7ad7e0691a952d": {
      "model_module": "@jupyter-widgets/base",
      "model_module_version": "1.2.0",
      "model_name": "LayoutModel",
      "state": {}
     },
     "ed87df319614463cb9f87a37c479d061": {
      "model_module": "@jupyter-widgets/base",
      "model_module_version": "1.2.0",
      "model_name": "LayoutModel",
      "state": {}
     },
     "edb698a8f9224812880c4e969f48e9e7": {
      "model_module": "@jupyter-widgets/controls",
      "model_module_version": "1.5.0",
      "model_name": "HBoxModel",
      "state": {
       "children": [
        "IPY_MODEL_8eff175ade424340a763f9323c0a1334",
        "IPY_MODEL_5ff9f249f3c84c1a937c15a5bc9b5e9d",
        "IPY_MODEL_074b30931cb143d8ac06001356022d2d"
       ],
       "layout": "IPY_MODEL_194214182c1f414997ec4faa32d51493"
      }
     },
     "edb6b412fed34dd5b1ccce86f70ff890": {
      "model_module": "@jupyter-widgets/controls",
      "model_module_version": "1.5.0",
      "model_name": "ProgressStyleModel",
      "state": {
       "description_width": ""
      }
     },
     "edf6f820c26c4e68b3188cecb15635ab": {
      "model_module": "@jupyter-widgets/controls",
      "model_module_version": "1.5.0",
      "model_name": "ProgressStyleModel",
      "state": {
       "description_width": ""
      }
     },
     "edfc5f372fee4a45848403763482f38e": {
      "model_module": "@jupyter-widgets/controls",
      "model_module_version": "1.5.0",
      "model_name": "HTMLModel",
      "state": {
       "layout": "IPY_MODEL_150faba92d1742b19b30db3c0d54e244",
       "style": "IPY_MODEL_377b0cb32d34418abea0b84b43e2f916",
       "value": "100%"
      }
     },
     "edfec2d213af440dbe5daf7928b8f1d9": {
      "model_module": "@jupyter-widgets/base",
      "model_module_version": "1.2.0",
      "model_name": "LayoutModel",
      "state": {}
     },
     "ee27e84819814940905b868a0d1fd630": {
      "model_module": "@jupyter-widgets/base",
      "model_module_version": "1.2.0",
      "model_name": "LayoutModel",
      "state": {}
     },
     "ee7248268b1a44238068b8303a072d27": {
      "model_module": "@jupyter-widgets/controls",
      "model_module_version": "1.5.0",
      "model_name": "HTMLModel",
      "state": {
       "layout": "IPY_MODEL_8a4f7613dbc34c20ac57fc38a6b9f57f",
       "style": "IPY_MODEL_5f6283e449754ea49b303d194c773154",
       "value": "100%"
      }
     },
     "ee8816941bbb45f58186f0e3c36df709": {
      "model_module": "@jupyter-widgets/controls",
      "model_module_version": "1.5.0",
      "model_name": "DescriptionStyleModel",
      "state": {
       "description_width": ""
      }
     },
     "eefaac2f18844c8a9ba4f8df1b9d7131": {
      "model_module": "@jupyter-widgets/base",
      "model_module_version": "1.2.0",
      "model_name": "LayoutModel",
      "state": {}
     },
     "ef78e5988da54ea8ba6301ff2ceb002c": {
      "model_module": "@jupyter-widgets/base",
      "model_module_version": "1.2.0",
      "model_name": "LayoutModel",
      "state": {}
     },
     "ef9cac17e3784562ae094326f45aa370": {
      "model_module": "@jupyter-widgets/controls",
      "model_module_version": "1.5.0",
      "model_name": "HBoxModel",
      "state": {
       "children": [
        "IPY_MODEL_a18b972b7f6d4951a7a5c570b654a9a0",
        "IPY_MODEL_1581403e0d29435eb0e67704d2fd1fe9",
        "IPY_MODEL_fbcfcae17d504be0a461cd7db70551c8"
       ],
       "layout": "IPY_MODEL_2d6a33e5c6074e769cbb485c38b30efe"
      }
     },
     "efc618dbf1614c00ba3bb7559ba0a1fa": {
      "model_module": "@jupyter-widgets/base",
      "model_module_version": "1.2.0",
      "model_name": "LayoutModel",
      "state": {}
     },
     "efcb8339125047bfb9059e0d114fa43d": {
      "model_module": "@jupyter-widgets/controls",
      "model_module_version": "1.5.0",
      "model_name": "DescriptionStyleModel",
      "state": {
       "description_width": ""
      }
     },
     "efdee99fc6894039ab8d77a1c1d63e46": {
      "model_module": "@jupyter-widgets/controls",
      "model_module_version": "1.5.0",
      "model_name": "DescriptionStyleModel",
      "state": {
       "description_width": ""
      }
     },
     "effab73cdfd14627b134d81d3d8c2c37": {
      "model_module": "@jupyter-widgets/controls",
      "model_module_version": "1.5.0",
      "model_name": "HTMLModel",
      "state": {
       "layout": "IPY_MODEL_5dedab63fa914f8b91b116ded29f8196",
       "style": "IPY_MODEL_8c481a9556fd4deea37abdd483ba13a6",
       "value": "100%"
      }
     },
     "f00944269ac54b3283d2ec17f706d9b2": {
      "model_module": "@jupyter-widgets/controls",
      "model_module_version": "1.5.0",
      "model_name": "DescriptionStyleModel",
      "state": {
       "description_width": ""
      }
     },
     "f01e439ba311473780cf7d3a0556e7bd": {
      "model_module": "@jupyter-widgets/controls",
      "model_module_version": "1.5.0",
      "model_name": "HBoxModel",
      "state": {
       "children": [
        "IPY_MODEL_b99ee8dbd5494a04ab3ccc13322c799e",
        "IPY_MODEL_b2646d57944f45b4bdf95d536f45e667",
        "IPY_MODEL_5a87f02bd03340c99beb9c6d01f3a93e"
       ],
       "layout": "IPY_MODEL_cab29c6098014b489e15c46035ea16f2"
      }
     },
     "f01f0101bde84f67971c36050b7a0c65": {
      "model_module": "@jupyter-widgets/base",
      "model_module_version": "1.2.0",
      "model_name": "LayoutModel",
      "state": {}
     },
     "f032dadb5fcf4e68a12a4879df863341": {
      "model_module": "@jupyter-widgets/base",
      "model_module_version": "1.2.0",
      "model_name": "LayoutModel",
      "state": {}
     },
     "f0d27be3d8c044cda3b4edfea5410b93": {
      "model_module": "@jupyter-widgets/controls",
      "model_module_version": "1.5.0",
      "model_name": "DescriptionStyleModel",
      "state": {
       "description_width": ""
      }
     },
     "f0da46bc17a942429e6be8750f145d47": {
      "model_module": "@jupyter-widgets/controls",
      "model_module_version": "1.5.0",
      "model_name": "HBoxModel",
      "state": {
       "children": [
        "IPY_MODEL_760b04fbcb724b44be1932876de8a705",
        "IPY_MODEL_dd4e14fcd1d041e8a253dcb765ade844",
        "IPY_MODEL_a05558f14eee47be8788e1dd4ab618bc"
       ],
       "layout": "IPY_MODEL_323e215c011f49b8b1030405a0df816b"
      }
     },
     "f0ed8ee01714455a84be2fc034172495": {
      "model_module": "@jupyter-widgets/base",
      "model_module_version": "1.2.0",
      "model_name": "LayoutModel",
      "state": {}
     },
     "f141822b3a084a628dc42f5b8a602a7c": {
      "model_module": "@jupyter-widgets/controls",
      "model_module_version": "1.5.0",
      "model_name": "HTMLModel",
      "state": {
       "layout": "IPY_MODEL_0079e8b4286b46b3810771fc1fdd1211",
       "style": "IPY_MODEL_239bf9d19ad14b519f3fadc61486331c",
       "value": " 5/5 [00:04&lt;00:00,  1.01it/s]"
      }
     },
     "f15d8c9caee448e59149f0e9ade7c5ef": {
      "model_module": "@jupyter-widgets/base",
      "model_module_version": "1.2.0",
      "model_name": "LayoutModel",
      "state": {}
     },
     "f16786eaf5c6427180ea2a63e1680fc0": {
      "model_module": "@jupyter-widgets/base",
      "model_module_version": "1.2.0",
      "model_name": "LayoutModel",
      "state": {}
     },
     "f1890cf938074fbb9476c8f669ff84b6": {
      "model_module": "@jupyter-widgets/base",
      "model_module_version": "1.2.0",
      "model_name": "LayoutModel",
      "state": {}
     },
     "f18ad3aac6b24695a58de6774acc850b": {
      "model_module": "@jupyter-widgets/controls",
      "model_module_version": "1.5.0",
      "model_name": "HBoxModel",
      "state": {
       "children": [
        "IPY_MODEL_ac7e280121e244a7852ed193f500560f",
        "IPY_MODEL_acbb1bd75f42454f8b4be28b0fba9cb2",
        "IPY_MODEL_138815a0f7884438b8a23cac465d48e6"
       ],
       "layout": "IPY_MODEL_a02c0ac36fa34480b2d64f8ea2fbf1ae"
      }
     },
     "f192e36d7d2e46629eaa74ab57cc0345": {
      "model_module": "@jupyter-widgets/base",
      "model_module_version": "1.2.0",
      "model_name": "LayoutModel",
      "state": {}
     },
     "f19c9245e44d4a42a8d9eccea057e4fb": {
      "model_module": "@jupyter-widgets/base",
      "model_module_version": "1.2.0",
      "model_name": "LayoutModel",
      "state": {}
     },
     "f1a287b16fa5497cb84e4d807dd5e3e1": {
      "model_module": "@jupyter-widgets/base",
      "model_module_version": "1.2.0",
      "model_name": "LayoutModel",
      "state": {}
     },
     "f1a58b8aa61041daae293a8d3f373c18": {
      "model_module": "@jupyter-widgets/controls",
      "model_module_version": "1.5.0",
      "model_name": "DescriptionStyleModel",
      "state": {
       "description_width": ""
      }
     },
     "f1a5b342c2c943b99dc08ab474489236": {
      "model_module": "@jupyter-widgets/controls",
      "model_module_version": "1.5.0",
      "model_name": "HTMLModel",
      "state": {
       "layout": "IPY_MODEL_fae1b53543d248d0b5f8c30609e068ec",
       "style": "IPY_MODEL_f00944269ac54b3283d2ec17f706d9b2",
       "value": "100%"
      }
     },
     "f20a5b2bb1fa4492bae5cdb3adbbf9b7": {
      "model_module": "@jupyter-widgets/base",
      "model_module_version": "1.2.0",
      "model_name": "LayoutModel",
      "state": {}
     },
     "f282d9af4b8c423baca66ae39023a6a5": {
      "model_module": "@jupyter-widgets/base",
      "model_module_version": "1.2.0",
      "model_name": "LayoutModel",
      "state": {}
     },
     "f28a16da020f4843a3d42a0479a7ac0b": {
      "model_module": "@jupyter-widgets/base",
      "model_module_version": "1.2.0",
      "model_name": "LayoutModel",
      "state": {}
     },
     "f2c0a91ffe634369a6e3e91dff455cd1": {
      "model_module": "@jupyter-widgets/controls",
      "model_module_version": "1.5.0",
      "model_name": "FloatProgressModel",
      "state": {
       "bar_style": "success",
       "layout": "IPY_MODEL_3403ae480d71481ba05257db35bf4ace",
       "max": 5,
       "style": "IPY_MODEL_fd9c50c1f4594b2dbf70c10bcf034d0a",
       "value": 5
      }
     },
     "f2d88acb1fdb4e5d90b4c8aa71bc9913": {
      "model_module": "@jupyter-widgets/controls",
      "model_module_version": "1.5.0",
      "model_name": "ProgressStyleModel",
      "state": {
       "description_width": ""
      }
     },
     "f301be475b514ed2a4219cd142678ba7": {
      "model_module": "@jupyter-widgets/controls",
      "model_module_version": "1.5.0",
      "model_name": "DescriptionStyleModel",
      "state": {
       "description_width": ""
      }
     },
     "f3558d35add64598bfb14664cbba84b6": {
      "model_module": "@jupyter-widgets/base",
      "model_module_version": "1.2.0",
      "model_name": "LayoutModel",
      "state": {}
     },
     "f36b4c0c5be745089cf369721dcc6552": {
      "model_module": "@jupyter-widgets/controls",
      "model_module_version": "1.5.0",
      "model_name": "ProgressStyleModel",
      "state": {
       "description_width": ""
      }
     },
     "f3913a1377814619a30d11a4275f75e9": {
      "model_module": "@jupyter-widgets/controls",
      "model_module_version": "1.5.0",
      "model_name": "DescriptionStyleModel",
      "state": {
       "description_width": ""
      }
     },
     "f3d5b199f0ed4b53b5fca0871f57dc56": {
      "model_module": "@jupyter-widgets/base",
      "model_module_version": "1.2.0",
      "model_name": "LayoutModel",
      "state": {}
     },
     "f4258672356b458fb59b16e2f8343743": {
      "model_module": "@jupyter-widgets/base",
      "model_module_version": "1.2.0",
      "model_name": "LayoutModel",
      "state": {}
     },
     "f452e58f062f4fc7af1e8a4b614596d3": {
      "model_module": "@jupyter-widgets/controls",
      "model_module_version": "1.5.0",
      "model_name": "HBoxModel",
      "state": {
       "children": [
        "IPY_MODEL_a666b44cfeb742ca8cea437ed7da9204",
        "IPY_MODEL_4bd785af91c34bc58d77d819299530c5",
        "IPY_MODEL_5a86562a903e40f19b5a1a533613cf5d"
       ],
       "layout": "IPY_MODEL_ccd50ae7325446fb83551b4cbcb7abd5"
      }
     },
     "f462f2adc80d4b18ac9df59af931bed6": {
      "model_module": "@jupyter-widgets/controls",
      "model_module_version": "1.5.0",
      "model_name": "HTMLModel",
      "state": {
       "layout": "IPY_MODEL_9cdad527c815446e9b3a3b4b98071eaf",
       "style": "IPY_MODEL_474682f883db4a268c370797c41f47f4",
       "value": "100%"
      }
     },
     "f47c6c8767e94722bbb888c404d44340": {
      "model_module": "@jupyter-widgets/controls",
      "model_module_version": "1.5.0",
      "model_name": "DescriptionStyleModel",
      "state": {
       "description_width": ""
      }
     },
     "f4e19ad743f64561b8c37a5b122d6302": {
      "model_module": "@jupyter-widgets/controls",
      "model_module_version": "1.5.0",
      "model_name": "HBoxModel",
      "state": {
       "children": [
        "IPY_MODEL_13a1d3357f6e4d97b99142e4d58e5562",
        "IPY_MODEL_865bb690b0314d9597761abe80518ffc",
        "IPY_MODEL_7b03dc0d86e7460d8bf887c5ef25f47a"
       ],
       "layout": "IPY_MODEL_65d0f565a7b340bf86942b762420c635"
      }
     },
     "f4f443a02df64f54ab18c068d945aba2": {
      "model_module": "@jupyter-widgets/base",
      "model_module_version": "1.2.0",
      "model_name": "LayoutModel",
      "state": {}
     },
     "f5541a3da77a4d7d848950f2a07e6e66": {
      "model_module": "@jupyter-widgets/controls",
      "model_module_version": "1.5.0",
      "model_name": "HTMLModel",
      "state": {
       "layout": "IPY_MODEL_cb09ffd70e7c4aabb44014e03abdc44e",
       "style": "IPY_MODEL_207d02c067ae492c99215845f7d9147c",
       "value": "100%"
      }
     },
     "f57549b498854696a45f1cd79efbbabf": {
      "model_module": "@jupyter-widgets/controls",
      "model_module_version": "1.5.0",
      "model_name": "HTMLModel",
      "state": {
       "layout": "IPY_MODEL_e3c5ce1028694b798b180169f3362e68",
       "style": "IPY_MODEL_b9771ecc99ae4f35a99641916e9e1348",
       "value": "100%"
      }
     },
     "f5c2803178934eee9cd69611199e6e97": {
      "model_module": "@jupyter-widgets/base",
      "model_module_version": "1.2.0",
      "model_name": "LayoutModel",
      "state": {}
     },
     "f5c5313eeb5d46c69c4ca8618af0107a": {
      "model_module": "@jupyter-widgets/controls",
      "model_module_version": "1.5.0",
      "model_name": "HBoxModel",
      "state": {
       "children": [
        "IPY_MODEL_c44c4cde43e4492a99effd188b588401",
        "IPY_MODEL_b24dedada649481a970efe13b2e2990a",
        "IPY_MODEL_136cdbc9db814d839eb287821f08cb4a"
       ],
       "layout": "IPY_MODEL_75abd621007d48a5acc3c17e7bad5dc3"
      }
     },
     "f5c58357b7ef44a8ba7314894d6eb982": {
      "model_module": "@jupyter-widgets/controls",
      "model_module_version": "1.5.0",
      "model_name": "DescriptionStyleModel",
      "state": {
       "description_width": ""
      }
     },
     "f5fe72caf8fc42bd9e3b161d172e0e65": {
      "model_module": "@jupyter-widgets/controls",
      "model_module_version": "1.5.0",
      "model_name": "HTMLModel",
      "state": {
       "layout": "IPY_MODEL_877cb462dd2040b9b5d7779d71809ea4",
       "style": "IPY_MODEL_62e6770e46fc4e42aebaee3df2d74014",
       "value": " 5/5 [12:35&lt;00:00, 151.20s/it]"
      }
     },
     "f6009b101c2c47f690d22c7c454302a4": {
      "model_module": "@jupyter-widgets/controls",
      "model_module_version": "1.5.0",
      "model_name": "HBoxModel",
      "state": {
       "children": [
        "IPY_MODEL_5947fdfed83140d290e114b51fdc638c",
        "IPY_MODEL_669d97a2bec54ade9e8e6c20982f224f",
        "IPY_MODEL_03442a3c9f84439dbd7e16e2bda376c6"
       ],
       "layout": "IPY_MODEL_257f27b7012d4a6e88f5f6c4eea7d77d"
      }
     },
     "f6237e0a8c0e47ed866b57008e67a481": {
      "model_module": "@jupyter-widgets/base",
      "model_module_version": "1.2.0",
      "model_name": "LayoutModel",
      "state": {}
     },
     "f623d6d0216341b8a34ad72bd157eff3": {
      "model_module": "@jupyter-widgets/base",
      "model_module_version": "1.2.0",
      "model_name": "LayoutModel",
      "state": {}
     },
     "f637b7e19f84429eaca5059ce25e2cab": {
      "model_module": "@jupyter-widgets/controls",
      "model_module_version": "1.5.0",
      "model_name": "HTMLModel",
      "state": {
       "layout": "IPY_MODEL_3fc38d76c63b4a73958195274a88140b",
       "style": "IPY_MODEL_d7ab8aed710548c98459be82b6de6d93",
       "value": "100%"
      }
     },
     "f6499a0a87de4a2f8739d98f96d28b3e": {
      "model_module": "@jupyter-widgets/controls",
      "model_module_version": "1.5.0",
      "model_name": "HBoxModel",
      "state": {
       "children": [
        "IPY_MODEL_ba7da28166bd4ac386841752dba41cb2",
        "IPY_MODEL_7a075b3fa254472685419f9535503645",
        "IPY_MODEL_52f9eb39da64423c9d90c2069bc44a8f"
       ],
       "layout": "IPY_MODEL_c356cc81239a4e7eb0e28397556324b2"
      }
     },
     "f6a5c2f0b20f4af3a6165684b65a75d3": {
      "model_module": "@jupyter-widgets/controls",
      "model_module_version": "1.5.0",
      "model_name": "DescriptionStyleModel",
      "state": {
       "description_width": ""
      }
     },
     "f6b6e18e4b47467aa5e9b375c177d768": {
      "model_module": "@jupyter-widgets/controls",
      "model_module_version": "1.5.0",
      "model_name": "DescriptionStyleModel",
      "state": {
       "description_width": ""
      }
     },
     "f73c50ff6d3c46d99f3f8b30e5ca2a97": {
      "model_module": "@jupyter-widgets/base",
      "model_module_version": "1.2.0",
      "model_name": "LayoutModel",
      "state": {}
     },
     "f754a03ef8af4a40807399c09a9cff94": {
      "model_module": "@jupyter-widgets/controls",
      "model_module_version": "1.5.0",
      "model_name": "DescriptionStyleModel",
      "state": {
       "description_width": ""
      }
     },
     "f783a069935b463c806392ff43d8ce4d": {
      "model_module": "@jupyter-widgets/base",
      "model_module_version": "1.2.0",
      "model_name": "LayoutModel",
      "state": {}
     },
     "f7eaa30bee684c3885bff11d61c7d6f4": {
      "model_module": "@jupyter-widgets/base",
      "model_module_version": "1.2.0",
      "model_name": "LayoutModel",
      "state": {}
     },
     "f822af2f773249e38e6db9a28dfb7c87": {
      "model_module": "@jupyter-widgets/base",
      "model_module_version": "1.2.0",
      "model_name": "LayoutModel",
      "state": {}
     },
     "f832eda04c914eeeb2c0b9957033cf90": {
      "model_module": "@jupyter-widgets/controls",
      "model_module_version": "1.5.0",
      "model_name": "DescriptionStyleModel",
      "state": {
       "description_width": ""
      }
     },
     "f83c70043db04fab8ed8fe83fb2a080b": {
      "model_module": "@jupyter-widgets/controls",
      "model_module_version": "1.5.0",
      "model_name": "DescriptionStyleModel",
      "state": {
       "description_width": ""
      }
     },
     "f83e2488559248809e501c022470cb2a": {
      "model_module": "@jupyter-widgets/controls",
      "model_module_version": "1.5.0",
      "model_name": "DescriptionStyleModel",
      "state": {
       "description_width": ""
      }
     },
     "f87f958f9af54fde85fe7d47e3460274": {
      "model_module": "@jupyter-widgets/base",
      "model_module_version": "1.2.0",
      "model_name": "LayoutModel",
      "state": {}
     },
     "f8867ed551ad49448bdcfc3c94e1d945": {
      "model_module": "@jupyter-widgets/controls",
      "model_module_version": "1.5.0",
      "model_name": "ProgressStyleModel",
      "state": {
       "description_width": ""
      }
     },
     "f89b8e0b95f948be86c25b649c1f3bfb": {
      "model_module": "@jupyter-widgets/controls",
      "model_module_version": "1.5.0",
      "model_name": "ProgressStyleModel",
      "state": {
       "description_width": ""
      }
     },
     "f8ada5910fad45f0af1182dbc15957d3": {
      "model_module": "@jupyter-widgets/base",
      "model_module_version": "1.2.0",
      "model_name": "LayoutModel",
      "state": {}
     },
     "f8d6af663f824a03a23c70b8b387d405": {
      "model_module": "@jupyter-widgets/base",
      "model_module_version": "1.2.0",
      "model_name": "LayoutModel",
      "state": {}
     },
     "f8df7b6ff35d4da5a651aef911c30ec3": {
      "model_module": "@jupyter-widgets/base",
      "model_module_version": "1.2.0",
      "model_name": "LayoutModel",
      "state": {}
     },
     "f9020cd546fc4342a68c493905d32afa": {
      "model_module": "@jupyter-widgets/base",
      "model_module_version": "1.2.0",
      "model_name": "LayoutModel",
      "state": {}
     },
     "f909eb271dbc4025b3f18f99c5c0d977": {
      "model_module": "@jupyter-widgets/controls",
      "model_module_version": "1.5.0",
      "model_name": "HBoxModel",
      "state": {
       "children": [
        "IPY_MODEL_c173dfc9039f4c55abe1c4ba93968264",
        "IPY_MODEL_588ff6addd604a959488db5ace539027",
        "IPY_MODEL_b7892d431c6d438bba6821bfe52b367b"
       ],
       "layout": "IPY_MODEL_ed87df319614463cb9f87a37c479d061"
      }
     },
     "f917574633dc4742baa419f16ba5995c": {
      "model_module": "@jupyter-widgets/base",
      "model_module_version": "1.2.0",
      "model_name": "LayoutModel",
      "state": {}
     },
     "f941270565c94207a8355b4acb517d9b": {
      "model_module": "@jupyter-widgets/controls",
      "model_module_version": "1.5.0",
      "model_name": "HTMLModel",
      "state": {
       "layout": "IPY_MODEL_dbcf89f0cb864aac9298652bcf19be3f",
       "style": "IPY_MODEL_4ec03233d2324fcfa2b0dab0adf08fb3",
       "value": "100%"
      }
     },
     "f969f72793f44dffa1231a490e9882bc": {
      "model_module": "@jupyter-widgets/base",
      "model_module_version": "1.2.0",
      "model_name": "LayoutModel",
      "state": {}
     },
     "f99074fdfea2428badc6be9dbd7e6b11": {
      "model_module": "@jupyter-widgets/controls",
      "model_module_version": "1.5.0",
      "model_name": "HTMLModel",
      "state": {
       "layout": "IPY_MODEL_ce045d39c54e4255850699d3666ff930",
       "style": "IPY_MODEL_41e255c0923b4db09c4be6973710cbeb",
       "value": "100%"
      }
     },
     "f9911eedaae04c9da89e1ac13277ec5f": {
      "model_module": "@jupyter-widgets/controls",
      "model_module_version": "1.5.0",
      "model_name": "DescriptionStyleModel",
      "state": {
       "description_width": ""
      }
     },
     "f9a7d9870db24ae29c61f18e71787479": {
      "model_module": "@jupyter-widgets/controls",
      "model_module_version": "1.5.0",
      "model_name": "FloatProgressModel",
      "state": {
       "bar_style": "success",
       "layout": "IPY_MODEL_3831136d14db48d5b7ac3040c4b19ef9",
       "max": 5,
       "style": "IPY_MODEL_297bcd62c1484196bbb6e5d2a54f1ae3",
       "value": 5
      }
     },
     "f9caa022d021471e90aafe06489218c3": {
      "model_module": "@jupyter-widgets/controls",
      "model_module_version": "1.5.0",
      "model_name": "FloatProgressModel",
      "state": {
       "bar_style": "danger",
       "layout": "IPY_MODEL_707f710c31814754be37de38e6bdf951",
       "max": 5,
       "style": "IPY_MODEL_edb6b412fed34dd5b1ccce86f70ff890"
      }
     },
     "fa01517d00594be1a7951c98e340a3a1": {
      "model_module": "@jupyter-widgets/base",
      "model_module_version": "1.2.0",
      "model_name": "LayoutModel",
      "state": {}
     },
     "fa0c1411c0b542adad24a3e51356e346": {
      "model_module": "@jupyter-widgets/base",
      "model_module_version": "1.2.0",
      "model_name": "LayoutModel",
      "state": {}
     },
     "fa0cc18b44c34db4907130b7dd987452": {
      "model_module": "@jupyter-widgets/controls",
      "model_module_version": "1.5.0",
      "model_name": "DescriptionStyleModel",
      "state": {
       "description_width": ""
      }
     },
     "fa108c68502e4c99b3470317fb530769": {
      "model_module": "@jupyter-widgets/base",
      "model_module_version": "1.2.0",
      "model_name": "LayoutModel",
      "state": {}
     },
     "fa1675a937d04165a9739d0c8b3e4431": {
      "model_module": "@jupyter-widgets/controls",
      "model_module_version": "1.5.0",
      "model_name": "DescriptionStyleModel",
      "state": {
       "description_width": ""
      }
     },
     "fa366748993049f0bf3c1f3fe9baea24": {
      "model_module": "@jupyter-widgets/base",
      "model_module_version": "1.2.0",
      "model_name": "LayoutModel",
      "state": {}
     },
     "fa7d9d0b644648b0ab9b0da03fea34ac": {
      "model_module": "@jupyter-widgets/controls",
      "model_module_version": "1.5.0",
      "model_name": "DescriptionStyleModel",
      "state": {
       "description_width": ""
      }
     },
     "fa82083278c84cd891073593776ebb2b": {
      "model_module": "@jupyter-widgets/base",
      "model_module_version": "1.2.0",
      "model_name": "LayoutModel",
      "state": {}
     },
     "fadab9a4bc1b49528c9daae633ca0418": {
      "model_module": "@jupyter-widgets/base",
      "model_module_version": "1.2.0",
      "model_name": "LayoutModel",
      "state": {}
     },
     "fae1b53543d248d0b5f8c30609e068ec": {
      "model_module": "@jupyter-widgets/base",
      "model_module_version": "1.2.0",
      "model_name": "LayoutModel",
      "state": {}
     },
     "fb8dbaa23f2f4846a252bf071d01a9d8": {
      "model_module": "@jupyter-widgets/controls",
      "model_module_version": "1.5.0",
      "model_name": "HBoxModel",
      "state": {
       "children": [
        "IPY_MODEL_edfc5f372fee4a45848403763482f38e",
        "IPY_MODEL_8d7a211f5a174bd5a0ff7222f2c5d236",
        "IPY_MODEL_81be6f5e73ce40cc89f29243f435917c"
       ],
       "layout": "IPY_MODEL_169715157bf14adbbb1f74996b054535"
      }
     },
     "fbcfcae17d504be0a461cd7db70551c8": {
      "model_module": "@jupyter-widgets/controls",
      "model_module_version": "1.5.0",
      "model_name": "HTMLModel",
      "state": {
       "layout": "IPY_MODEL_65c62979ddfd49ad9f31693c4ba87a45",
       "style": "IPY_MODEL_438e4ab7f55b406a96cbcbb4748bba51",
       "value": " 5/5 [00:04&lt;00:00,  1.07it/s]"
      }
     },
     "fbd657add95a441992e46ec263ecb9f2": {
      "model_module": "@jupyter-widgets/controls",
      "model_module_version": "1.5.0",
      "model_name": "FloatProgressModel",
      "state": {
       "bar_style": "danger",
       "layout": "IPY_MODEL_34c8fbcca69447feaf3417c498b22d82",
       "max": 5,
       "style": "IPY_MODEL_226b0e54faa6439dacfabb93ab3ac3ee"
      }
     },
     "fbd68ada16724129ac8794036260f2bd": {
      "model_module": "@jupyter-widgets/controls",
      "model_module_version": "1.5.0",
      "model_name": "HTMLModel",
      "state": {
       "layout": "IPY_MODEL_47eefa3b4c6a40febc44ef6f4d998318",
       "style": "IPY_MODEL_df46832b9d8a45378a3faa17142cd1e4",
       "value": " 5/5 [00:04&lt;00:00,  1.02it/s]"
      }
     },
     "fc05892c6c7f424ab917f8b9cef07547": {
      "model_module": "@jupyter-widgets/controls",
      "model_module_version": "1.5.0",
      "model_name": "HTMLModel",
      "state": {
       "layout": "IPY_MODEL_116fbf6536334f9ab7957163e553d5e5",
       "style": "IPY_MODEL_862474802cb649f6a1c98dd4b59f266a",
       "value": " 5/5 [14:15&lt;00:00, 171.04s/it]"
      }
     },
     "fc0761fb0c6d4847910cd4ce03fe2120": {
      "model_module": "@jupyter-widgets/controls",
      "model_module_version": "1.5.0",
      "model_name": "HTMLModel",
      "state": {
       "layout": "IPY_MODEL_d6f4242dd2794d56bdc8a3e8ec0c11ac",
       "style": "IPY_MODEL_0ce8c12d72f34ff8ac446d1347735e47",
       "value": " 5/5 [00:04&lt;00:00,  1.03it/s]"
      }
     },
     "fc08fa1d49d44c4dbf5e939058b800a9": {
      "model_module": "@jupyter-widgets/base",
      "model_module_version": "1.2.0",
      "model_name": "LayoutModel",
      "state": {}
     },
     "fc1ad0ac257c4b489899d9521a96e282": {
      "model_module": "@jupyter-widgets/base",
      "model_module_version": "1.2.0",
      "model_name": "LayoutModel",
      "state": {}
     },
     "fc81c65a6800462fb3c9bcb028a12b8d": {
      "model_module": "@jupyter-widgets/base",
      "model_module_version": "1.2.0",
      "model_name": "LayoutModel",
      "state": {}
     },
     "fc95d6e785e149e98b66151d2fcd12ac": {
      "model_module": "@jupyter-widgets/controls",
      "model_module_version": "1.5.0",
      "model_name": "DescriptionStyleModel",
      "state": {
       "description_width": ""
      }
     },
     "fd2b6e6de42342809da50d7d73af86bf": {
      "model_module": "@jupyter-widgets/controls",
      "model_module_version": "1.5.0",
      "model_name": "HTMLModel",
      "state": {
       "layout": "IPY_MODEL_cb296f84a7bc4591a596352271c7056e",
       "style": "IPY_MODEL_4f56f958afe24459baf218320c9e0530",
       "value": " 5/5 [13:50&lt;00:00, 165.09s/it]"
      }
     },
     "fd3485242b2b439596c46d636d5b03a4": {
      "model_module": "@jupyter-widgets/controls",
      "model_module_version": "1.5.0",
      "model_name": "ProgressStyleModel",
      "state": {
       "description_width": ""
      }
     },
     "fd357541fc904b0ab3936fa5aa71c686": {
      "model_module": "@jupyter-widgets/controls",
      "model_module_version": "1.5.0",
      "model_name": "HTMLModel",
      "state": {
       "layout": "IPY_MODEL_a57949c73b3a449f9ec520c082274b36",
       "style": "IPY_MODEL_1ad0ef9750ca40869210ee9a06d162e0",
       "value": " 5/5 [00:05&lt;00:00,  1.17s/it]"
      }
     },
     "fd4c3d889a444a4091c8ebdd70689af5": {
      "model_module": "@jupyter-widgets/base",
      "model_module_version": "1.2.0",
      "model_name": "LayoutModel",
      "state": {}
     },
     "fd9c50c1f4594b2dbf70c10bcf034d0a": {
      "model_module": "@jupyter-widgets/controls",
      "model_module_version": "1.5.0",
      "model_name": "ProgressStyleModel",
      "state": {
       "description_width": ""
      }
     },
     "fdaf6526578748798d1d7dbe587ca447": {
      "model_module": "@jupyter-widgets/controls",
      "model_module_version": "1.5.0",
      "model_name": "HTMLModel",
      "state": {
       "layout": "IPY_MODEL_25c8a45c7fb14764b77879bf580af310",
       "style": "IPY_MODEL_4657519dcc1a4464bb6df78aa38c2179",
       "value": " 20%"
      }
     },
     "fe1a7c4fb54f4c5e9302511608662e36": {
      "model_module": "@jupyter-widgets/controls",
      "model_module_version": "1.5.0",
      "model_name": "ProgressStyleModel",
      "state": {
       "description_width": ""
      }
     },
     "fe86924d599a45a8955f9496922ac657": {
      "model_module": "@jupyter-widgets/base",
      "model_module_version": "1.2.0",
      "model_name": "LayoutModel",
      "state": {}
     },
     "fea76081b0514c538814fac517301f18": {
      "model_module": "@jupyter-widgets/base",
      "model_module_version": "1.2.0",
      "model_name": "LayoutModel",
      "state": {}
     },
     "fec7cd2724bd4a29805ebb858b06a07c": {
      "model_module": "@jupyter-widgets/base",
      "model_module_version": "1.2.0",
      "model_name": "LayoutModel",
      "state": {}
     },
     "fee0e89774fb45019e131a64b8740361": {
      "model_module": "@jupyter-widgets/controls",
      "model_module_version": "1.5.0",
      "model_name": "DescriptionStyleModel",
      "state": {
       "description_width": ""
      }
     },
     "feeec974a2264e44bd8931ef1a92438a": {
      "model_module": "@jupyter-widgets/controls",
      "model_module_version": "1.5.0",
      "model_name": "DescriptionStyleModel",
      "state": {
       "description_width": ""
      }
     },
     "ff1587eb371c4bc982890efe37085033": {
      "model_module": "@jupyter-widgets/base",
      "model_module_version": "1.2.0",
      "model_name": "LayoutModel",
      "state": {}
     },
     "ff19b26fdcfe4aeea3c415f8fd465c61": {
      "model_module": "@jupyter-widgets/controls",
      "model_module_version": "1.5.0",
      "model_name": "FloatProgressModel",
      "state": {
       "bar_style": "success",
       "layout": "IPY_MODEL_8539324fd39f45fe81285607c261688d",
       "max": 5,
       "style": "IPY_MODEL_630a701c557b44808b88054b94e67a89",
       "value": 5
      }
     },
     "ff965be747a14387b52f27ea6c34c159": {
      "model_module": "@jupyter-widgets/controls",
      "model_module_version": "1.5.0",
      "model_name": "ProgressStyleModel",
      "state": {
       "description_width": ""
      }
     },
     "ffae4808e8ac43c988fe7e80e9a4fb2d": {
      "model_module": "@jupyter-widgets/base",
      "model_module_version": "1.2.0",
      "model_name": "LayoutModel",
      "state": {}
     }
    },
    "version_major": 2,
    "version_minor": 0
   }
  }
 },
 "nbformat": 4,
 "nbformat_minor": 4
}
