{
 "cells": [
  {
   "cell_type": "markdown",
   "metadata": {},
   "source": [
    "# Machine learning with text based housing data"
   ]
  },
  {
   "cell_type": "markdown",
   "metadata": {},
   "source": [
    "Experimenting with text based housing data."
   ]
  },
  {
   "cell_type": "markdown",
   "metadata": {},
   "source": [
    "### Import packages"
   ]
  },
  {
   "cell_type": "code",
   "execution_count": 1,
   "metadata": {},
   "outputs": [],
   "source": [
    "import json\n",
    "import math\n",
    "import warnings\n",
    "warnings.filterwarnings(action=\"ignore\")\n",
    "\n",
    "from catboost import CatBoostRegressor\n",
    "import xgboost as xgb\n",
    "\n",
    "from sklearn.metrics import mean_absolute_error, r2_score, mean_squared_error\n",
    "from sklearn.preprocessing import StandardScaler\n",
    "from sklearn.model_selection import train_test_split, RandomizedSearchCV, KFold\n",
    "from sklearn.ensemble import RandomForestClassifier\n",
    "from sklearn import linear_model\n",
    "\n",
    "import matplotlib.pyplot as plt\n",
    "import numpy as np\n",
    "import pandas as pd\n",
    "from tqdm.notebook import tqdm\n",
    "from IPython.display import display_html"
   ]
  },
  {
   "cell_type": "markdown",
   "metadata": {},
   "source": [
    "Definde constants.\n",
    "\n",
    "- ``PATH``: Path to the base data folder\n",
    "- ``MAX_DIST``: Maximum distance for article weights\n",
    "- ``K_FOLDS``: Number of folds to perform for cross validation"
   ]
  },
  {
   "cell_type": "code",
   "execution_count": 2,
   "metadata": {},
   "outputs": [],
   "source": [
    "PATH = \"C:/Users/Tim/.keras/datasets/wikipedia_real_estate/\"\n",
    "MAX_DIST = 5500\n",
    "K_FOLDS = 5"
   ]
  },
  {
   "cell_type": "markdown",
   "metadata": {},
   "source": [
    "Lead structured data with added text features."
   ]
  },
  {
   "cell_type": "code",
   "execution_count": 3,
   "metadata": {
    "scrolled": false
   },
   "outputs": [
    {
     "name": "stdout",
     "output_type": "stream",
     "text": [
      "(9556, 3173)\n"
     ]
    },
    {
     "data": {
      "text/html": [
       "<div>\n",
       "<style scoped>\n",
       "    .dataframe tbody tr th:only-of-type {\n",
       "        vertical-align: middle;\n",
       "    }\n",
       "\n",
       "    .dataframe tbody tr th {\n",
       "        vertical-align: top;\n",
       "    }\n",
       "\n",
       "    .dataframe thead th {\n",
       "        text-align: right;\n",
       "    }\n",
       "</style>\n",
       "<table border=\"1\" class=\"dataframe\">\n",
       "  <thead>\n",
       "    <tr style=\"text-align: right;\">\n",
       "      <th></th>\n",
       "      <th>_id</th>\n",
       "      <th>PROPERTYZIP</th>\n",
       "      <th>MUNICODE</th>\n",
       "      <th>SCHOOLCODE</th>\n",
       "      <th>NEIGHCODE</th>\n",
       "      <th>LOTAREA</th>\n",
       "      <th>SALEDATE</th>\n",
       "      <th>SALEPRICE</th>\n",
       "      <th>FAIRMARKETTOTAL</th>\n",
       "      <th>STORIES</th>\n",
       "      <th>...</th>\n",
       "      <th>yielding student</th>\n",
       "      <th>york</th>\n",
       "      <th>york city</th>\n",
       "      <th>youghiogheny</th>\n",
       "      <th>youghiogheny river</th>\n",
       "      <th>young</th>\n",
       "      <th>youth</th>\n",
       "      <th>zip</th>\n",
       "      <th>zip code</th>\n",
       "      <th>article_count</th>\n",
       "    </tr>\n",
       "  </thead>\n",
       "  <tbody>\n",
       "    <tr>\n",
       "      <th>0</th>\n",
       "      <td>362058</td>\n",
       "      <td>15212</td>\n",
       "      <td>126</td>\n",
       "      <td>47</td>\n",
       "      <td>12603</td>\n",
       "      <td>5329</td>\n",
       "      <td>10-27-2017</td>\n",
       "      <td>113000.0</td>\n",
       "      <td>69200</td>\n",
       "      <td>1.0</td>\n",
       "      <td>...</td>\n",
       "      <td>0.000000</td>\n",
       "      <td>0.344647</td>\n",
       "      <td>0.101300</td>\n",
       "      <td>0.007816</td>\n",
       "      <td>0.008028</td>\n",
       "      <td>0.186637</td>\n",
       "      <td>0.065533</td>\n",
       "      <td>0.091133</td>\n",
       "      <td>0.076878</td>\n",
       "      <td>681</td>\n",
       "    </tr>\n",
       "    <tr>\n",
       "      <th>1</th>\n",
       "      <td>544290</td>\n",
       "      <td>15017</td>\n",
       "      <td>946</td>\n",
       "      <td>36</td>\n",
       "      <td>94601</td>\n",
       "      <td>10800</td>\n",
       "      <td>09-27-2016</td>\n",
       "      <td>320000.0</td>\n",
       "      <td>269900</td>\n",
       "      <td>2.0</td>\n",
       "      <td>...</td>\n",
       "      <td>0.000000</td>\n",
       "      <td>0.057171</td>\n",
       "      <td>0.025815</td>\n",
       "      <td>0.000000</td>\n",
       "      <td>0.000000</td>\n",
       "      <td>0.000000</td>\n",
       "      <td>0.576713</td>\n",
       "      <td>0.351555</td>\n",
       "      <td>0.351777</td>\n",
       "      <td>20</td>\n",
       "    </tr>\n",
       "    <tr>\n",
       "      <th>2</th>\n",
       "      <td>314083</td>\n",
       "      <td>15090</td>\n",
       "      <td>935</td>\n",
       "      <td>3</td>\n",
       "      <td>93503</td>\n",
       "      <td>114476</td>\n",
       "      <td>03-25-2017</td>\n",
       "      <td>545000.0</td>\n",
       "      <td>450000</td>\n",
       "      <td>1.0</td>\n",
       "      <td>...</td>\n",
       "      <td>0.471146</td>\n",
       "      <td>0.000000</td>\n",
       "      <td>0.000000</td>\n",
       "      <td>0.000000</td>\n",
       "      <td>0.000000</td>\n",
       "      <td>0.000000</td>\n",
       "      <td>0.000000</td>\n",
       "      <td>0.236106</td>\n",
       "      <td>0.247349</td>\n",
       "      <td>12</td>\n",
       "    </tr>\n",
       "    <tr>\n",
       "      <th>3</th>\n",
       "      <td>314280</td>\n",
       "      <td>15241</td>\n",
       "      <td>950</td>\n",
       "      <td>42</td>\n",
       "      <td>95003</td>\n",
       "      <td>43197</td>\n",
       "      <td>06-09-2016</td>\n",
       "      <td>315000.0</td>\n",
       "      <td>274000</td>\n",
       "      <td>2.0</td>\n",
       "      <td>...</td>\n",
       "      <td>0.269688</td>\n",
       "      <td>0.094085</td>\n",
       "      <td>0.048684</td>\n",
       "      <td>0.000000</td>\n",
       "      <td>0.000000</td>\n",
       "      <td>0.026453</td>\n",
       "      <td>0.046409</td>\n",
       "      <td>0.042496</td>\n",
       "      <td>0.044520</td>\n",
       "      <td>40</td>\n",
       "    </tr>\n",
       "    <tr>\n",
       "      <th>4</th>\n",
       "      <td>314812</td>\n",
       "      <td>15239</td>\n",
       "      <td>880</td>\n",
       "      <td>31</td>\n",
       "      <td>88006</td>\n",
       "      <td>12390</td>\n",
       "      <td>01-31-2017</td>\n",
       "      <td>174900.0</td>\n",
       "      <td>154100</td>\n",
       "      <td>2.0</td>\n",
       "      <td>...</td>\n",
       "      <td>0.750332</td>\n",
       "      <td>0.000000</td>\n",
       "      <td>0.000000</td>\n",
       "      <td>0.000000</td>\n",
       "      <td>0.000000</td>\n",
       "      <td>0.000000</td>\n",
       "      <td>0.000000</td>\n",
       "      <td>0.000000</td>\n",
       "      <td>0.000000</td>\n",
       "      <td>7</td>\n",
       "    </tr>\n",
       "    <tr>\n",
       "      <th>5</th>\n",
       "      <td>315579</td>\n",
       "      <td>15143</td>\n",
       "      <td>921</td>\n",
       "      <td>32</td>\n",
       "      <td>92102</td>\n",
       "      <td>10081</td>\n",
       "      <td>03-02-2015</td>\n",
       "      <td>300000.0</td>\n",
       "      <td>244600</td>\n",
       "      <td>2.0</td>\n",
       "      <td>...</td>\n",
       "      <td>0.370776</td>\n",
       "      <td>0.290444</td>\n",
       "      <td>0.000000</td>\n",
       "      <td>0.086572</td>\n",
       "      <td>0.088918</td>\n",
       "      <td>0.191602</td>\n",
       "      <td>0.167543</td>\n",
       "      <td>0.089567</td>\n",
       "      <td>0.093832</td>\n",
       "      <td>37</td>\n",
       "    </tr>\n",
       "    <tr>\n",
       "      <th>6</th>\n",
       "      <td>315587</td>\n",
       "      <td>15235</td>\n",
       "      <td>934</td>\n",
       "      <td>30</td>\n",
       "      <td>93401</td>\n",
       "      <td>10257</td>\n",
       "      <td>05-15-2017</td>\n",
       "      <td>172500.0</td>\n",
       "      <td>144700</td>\n",
       "      <td>2.0</td>\n",
       "      <td>...</td>\n",
       "      <td>0.428896</td>\n",
       "      <td>0.271729</td>\n",
       "      <td>0.110373</td>\n",
       "      <td>0.064085</td>\n",
       "      <td>0.000000</td>\n",
       "      <td>0.163348</td>\n",
       "      <td>0.272471</td>\n",
       "      <td>0.045588</td>\n",
       "      <td>0.016574</td>\n",
       "      <td>31</td>\n",
       "    </tr>\n",
       "    <tr>\n",
       "      <th>7</th>\n",
       "      <td>362804</td>\n",
       "      <td>15102</td>\n",
       "      <td>876</td>\n",
       "      <td>5</td>\n",
       "      <td>87603</td>\n",
       "      <td>10920</td>\n",
       "      <td>07-11-2016</td>\n",
       "      <td>250000.0</td>\n",
       "      <td>217800</td>\n",
       "      <td>2.0</td>\n",
       "      <td>...</td>\n",
       "      <td>0.215557</td>\n",
       "      <td>0.057949</td>\n",
       "      <td>0.000000</td>\n",
       "      <td>0.000000</td>\n",
       "      <td>0.000000</td>\n",
       "      <td>0.042779</td>\n",
       "      <td>0.000000</td>\n",
       "      <td>0.030316</td>\n",
       "      <td>0.031760</td>\n",
       "      <td>52</td>\n",
       "    </tr>\n",
       "    <tr>\n",
       "      <th>8</th>\n",
       "      <td>315758</td>\n",
       "      <td>15108</td>\n",
       "      <td>939</td>\n",
       "      <td>24</td>\n",
       "      <td>93903</td>\n",
       "      <td>54189</td>\n",
       "      <td>09-28-2018</td>\n",
       "      <td>199900.0</td>\n",
       "      <td>174700</td>\n",
       "      <td>1.0</td>\n",
       "      <td>...</td>\n",
       "      <td>0.103958</td>\n",
       "      <td>0.065639</td>\n",
       "      <td>0.000000</td>\n",
       "      <td>0.020599</td>\n",
       "      <td>0.000000</td>\n",
       "      <td>0.042027</td>\n",
       "      <td>0.062370</td>\n",
       "      <td>0.000000</td>\n",
       "      <td>0.000000</td>\n",
       "      <td>39</td>\n",
       "    </tr>\n",
       "    <tr>\n",
       "      <th>9</th>\n",
       "      <td>315868</td>\n",
       "      <td>15133</td>\n",
       "      <td>837</td>\n",
       "      <td>35</td>\n",
       "      <td>83702</td>\n",
       "      <td>6569</td>\n",
       "      <td>05-12-2017</td>\n",
       "      <td>143000.0</td>\n",
       "      <td>117900</td>\n",
       "      <td>2.0</td>\n",
       "      <td>...</td>\n",
       "      <td>0.152530</td>\n",
       "      <td>0.126928</td>\n",
       "      <td>0.053714</td>\n",
       "      <td>1.635255</td>\n",
       "      <td>1.458919</td>\n",
       "      <td>0.068184</td>\n",
       "      <td>0.113242</td>\n",
       "      <td>0.160394</td>\n",
       "      <td>0.139978</td>\n",
       "      <td>46</td>\n",
       "    </tr>\n",
       "  </tbody>\n",
       "</table>\n",
       "<p>10 rows × 3173 columns</p>\n",
       "</div>"
      ],
      "text/plain": [
       "      _id  PROPERTYZIP  MUNICODE  SCHOOLCODE  NEIGHCODE  LOTAREA    SALEDATE  \\\n",
       "0  362058        15212       126          47      12603     5329  10-27-2017   \n",
       "1  544290        15017       946          36      94601    10800  09-27-2016   \n",
       "2  314083        15090       935           3      93503   114476  03-25-2017   \n",
       "3  314280        15241       950          42      95003    43197  06-09-2016   \n",
       "4  314812        15239       880          31      88006    12390  01-31-2017   \n",
       "5  315579        15143       921          32      92102    10081  03-02-2015   \n",
       "6  315587        15235       934          30      93401    10257  05-15-2017   \n",
       "7  362804        15102       876           5      87603    10920  07-11-2016   \n",
       "8  315758        15108       939          24      93903    54189  09-28-2018   \n",
       "9  315868        15133       837          35      83702     6569  05-12-2017   \n",
       "\n",
       "   SALEPRICE  FAIRMARKETTOTAL  STORIES  ...  yielding student      york  \\\n",
       "0   113000.0            69200      1.0  ...          0.000000  0.344647   \n",
       "1   320000.0           269900      2.0  ...          0.000000  0.057171   \n",
       "2   545000.0           450000      1.0  ...          0.471146  0.000000   \n",
       "3   315000.0           274000      2.0  ...          0.269688  0.094085   \n",
       "4   174900.0           154100      2.0  ...          0.750332  0.000000   \n",
       "5   300000.0           244600      2.0  ...          0.370776  0.290444   \n",
       "6   172500.0           144700      2.0  ...          0.428896  0.271729   \n",
       "7   250000.0           217800      2.0  ...          0.215557  0.057949   \n",
       "8   199900.0           174700      1.0  ...          0.103958  0.065639   \n",
       "9   143000.0           117900      2.0  ...          0.152530  0.126928   \n",
       "\n",
       "   york city  youghiogheny  youghiogheny river     young     youth       zip  \\\n",
       "0   0.101300      0.007816            0.008028  0.186637  0.065533  0.091133   \n",
       "1   0.025815      0.000000            0.000000  0.000000  0.576713  0.351555   \n",
       "2   0.000000      0.000000            0.000000  0.000000  0.000000  0.236106   \n",
       "3   0.048684      0.000000            0.000000  0.026453  0.046409  0.042496   \n",
       "4   0.000000      0.000000            0.000000  0.000000  0.000000  0.000000   \n",
       "5   0.000000      0.086572            0.088918  0.191602  0.167543  0.089567   \n",
       "6   0.110373      0.064085            0.000000  0.163348  0.272471  0.045588   \n",
       "7   0.000000      0.000000            0.000000  0.042779  0.000000  0.030316   \n",
       "8   0.000000      0.020599            0.000000  0.042027  0.062370  0.000000   \n",
       "9   0.053714      1.635255            1.458919  0.068184  0.113242  0.160394   \n",
       "\n",
       "   zip code  article_count  \n",
       "0  0.076878            681  \n",
       "1  0.351777             20  \n",
       "2  0.247349             12  \n",
       "3  0.044520             40  \n",
       "4  0.000000              7  \n",
       "5  0.093832             37  \n",
       "6  0.016574             31  \n",
       "7  0.031760             52  \n",
       "8  0.000000             39  \n",
       "9  0.139978             46  \n",
       "\n",
       "[10 rows x 3173 columns]"
      ]
     },
     "execution_count": 3,
     "metadata": {},
     "output_type": "execute_result"
    }
   ],
   "source": [
    "structured_wiki_text = pd.read_csv(\n",
    "    PATH + f\"structured_wiki_text_features_{MAX_DIST}.csv\")\n",
    "print(structured_wiki_text.shape)\n",
    "structured_wiki_text.head(10)"
   ]
  },
  {
   "cell_type": "markdown",
   "metadata": {},
   "source": [
    "### Defining useful functions"
   ]
  },
  {
   "cell_type": "code",
   "execution_count": 4,
   "metadata": {},
   "outputs": [],
   "source": [
    "def find_coord(x, df):\n",
    "    \"\"\"Returns id, latitude and longitude for property with given id\"\"\"\n",
    "    \n",
    "    _id, lat, long = x[0], x[1], x[2]\n",
    "    row = df[df[\"_id\"] == _id].iloc[0]\n",
    "    return row[\"_id\"], row[\"latitude\"], row[\"longitude\"]"
   ]
  },
  {
   "cell_type": "code",
   "execution_count": 5,
   "metadata": {},
   "outputs": [],
   "source": [
    "def make_train_test(df):\n",
    "    \"\"\"Returns train/test sets along with column names and df for saving errors\"\"\"\n",
    "\n",
    "    X = df.drop([\"PROPERTYZIP\", \"MUNICODE\", \"SCHOOLCODE\", \"NEIGHCODE\", \"SALEDATE\", \"SALEPRICE\",\n",
    "                 \"FAIRMARKETTOTAL\", \"latitude\", \"longitude\", \"SALEYEAR\"], axis=1)\n",
    "\n",
    "    # save col names for later\n",
    "    X_columns = list(X.columns)\n",
    "    # remove id from col list, since it will be filtered out later\n",
    "    X_columns.remove(\"_id\")\n",
    "    X = X.to_numpy()\n",
    "\n",
    "    y = df[\"SALEPRICE\"].to_numpy()\n",
    "\n",
    "    X_train, X_test, y_train, y_test = train_test_split(\n",
    "        X, y, test_size=0.25, random_state=42)\n",
    "\n",
    "    # save ids for later\n",
    "    train_ids = [x[0] for x in X_train]\n",
    "    test_ids = [x[0] for x in X_test]\n",
    "    X_train = X_train[:, 1:]  # remove first column (id)\n",
    "    X_test = X_test[:, 1:]    # remove first column (id)\n",
    "\n",
    "    X_train_train, X_train_val, y_train_train, y_train_val = train_test_split(\n",
    "        X_train, y_train, test_size=0.25, random_state=42)\n",
    "\n",
    "    print(f\"{X_train.shape}: {X_train_train.shape} + {X_train_val.shape}\")\n",
    "    print(f\"{y_train.shape}: {y_train_train.shape} + {y_train_val.shape}\")\n",
    "    print(X_test.shape)\n",
    "    print(y_test.shape)\n",
    "\n",
    "    # create error df\n",
    "    error_df = pd.DataFrame(\n",
    "        data={\"id\": test_ids, \"lat\": [0]*len(test_ids), \"long\": [0]*len(test_ids)})\n",
    "    error_df = error_df.apply(lambda x: find_coord(\n",
    "        x, df), axis=1, result_type='broadcast')\n",
    "    error_df.head(10)\n",
    "\n",
    "    return X_columns, [X, y, X_train, X_test, y_train, y_test, X_train_train, X_train_val, y_train_train, y_train_val], error_df"
   ]
  },
  {
   "cell_type": "code",
   "execution_count": 6,
   "metadata": {},
   "outputs": [],
   "source": [
    "def mean_absolute_percentage_error(y_true, y_pred):\n",
    "    \"\"\"Returns MAPE\"\"\"\n",
    "    \n",
    "    y_true, y_pred = np.array(y_true), np.array(y_pred)\n",
    "    return np.mean(np.abs((y_true - y_pred) / y_true)) * 100"
   ]
  },
  {
   "cell_type": "code",
   "execution_count": 7,
   "metadata": {},
   "outputs": [],
   "source": [
    "def get_metrics(y_true, y_pred, print_out=True):\n",
    "    \"\"\"Returns MAE, RMSE, MAPE and R^2\"\"\"\n",
    "    \n",
    "    mae = mean_absolute_error(y_true, y_pred)\n",
    "    rmse = mean_squared_error(y_true, y_pred, squared=False)\n",
    "    mape = mean_absolute_percentage_error(y_true, y_pred)\n",
    "    r_squared = r2_score(y_true, y_pred)\n",
    "\n",
    "    if print_out:\n",
    "        print(f\"MAE:  {round(mae)}\")\n",
    "        print(f\"RMSE: {round(rmse)}\")\n",
    "        print(f\"MAPE: {round(mape, 2)}%\")\n",
    "        print(f\"R^2:  {round(r_squared, 3)}\")\n",
    "\n",
    "    return mae, rmse, mape, r_squared"
   ]
  },
  {
   "cell_type": "code",
   "execution_count": 8,
   "metadata": {},
   "outputs": [],
   "source": [
    "def cross_validation(estimator, X, y):\n",
    "    \"\"\"Returns and prints cross validated MAE, RMSE, MAPE and R^2\"\"\"\n",
    "    \n",
    "    maes, rmses, mapes, r_squareds = [], [], [], []\n",
    "    X_cv = X[:, 1:]  # remove \"_id\" column\n",
    "\n",
    "    kf = KFold(n_splits=K_FOLDS, shuffle=True, random_state=42)\n",
    "    for train_index, test_index in tqdm(kf.split(X_cv), total=5):\n",
    "        X_train, X_test = X_cv[train_index], X_cv[test_index]\n",
    "        y_train, y_test = y[train_index], y[test_index]\n",
    "        \n",
    "        if \"linear_model\" in str(type(estimator)):\n",
    "            estimator.fit(X=X_train, y=y_train)\n",
    "        else:\n",
    "            estimator.fit(X=X_train, y=y_train, verbose=False)\n",
    "\n",
    "        y_pred_cv = estimator.predict(X_test)\n",
    "        mae, rmse, mape, r_squared = get_metrics(y_test, y_pred_cv, print_out=False)\n",
    "        maes.append(mae)\n",
    "        rmses.append(rmse)\n",
    "        mapes.append(mape)\n",
    "        r_squareds.append(r_squared)\n",
    "    \n",
    "    mae_cv, rmse_cv = round(np.mean(maes)), round(np.mean(rmses))\n",
    "    mape_cv, r_squared_cv = round(np.mean(mapes), 2), round(np.mean(r_squareds), 3)\n",
    "    \n",
    "    print(f\"MAE:  {mae_cv}\")\n",
    "    print(f\"RMSE: {rmse_cv}\")\n",
    "    print(f\"MAPE: {mape_cv}%\")\n",
    "    print(f\"R^2:  {r_squared_cv}\")\n",
    "    \n",
    "    return mae_cv, rmse_cv, mape_cv, r_squared_cv"
   ]
  },
  {
   "cell_type": "markdown",
   "metadata": {},
   "source": [
    "Create the data sets and error dataframe"
   ]
  },
  {
   "cell_type": "code",
   "execution_count": 9,
   "metadata": {},
   "outputs": [
    {
     "name": "stdout",
     "output_type": "stream",
     "text": [
      "(7167, 3162): (5375, 3162) + (1792, 3162)\n",
      "(7167,): (5375,) + (1792,)\n",
      "(2389, 3162)\n",
      "(2389,)\n"
     ]
    }
   ],
   "source": [
    "X_columns_text, data_sets, error_df = make_train_test(structured_wiki_text)\n",
    "X, y, X_train, X_test, y_train, y_test, X_train_train, X_train_val, y_train_train, y_train_val = data_sets"
   ]
  },
  {
   "cell_type": "markdown",
   "metadata": {},
   "source": [
    "Create results df"
   ]
  },
  {
   "cell_type": "code",
   "execution_count": 10,
   "metadata": {},
   "outputs": [],
   "source": [
    "results_df = pd.DataFrame()"
   ]
  },
  {
   "cell_type": "markdown",
   "metadata": {},
   "source": [
    "## Only text features"
   ]
  },
  {
   "cell_type": "markdown",
   "metadata": {},
   "source": [
    "Remove all structured data"
   ]
  },
  {
   "cell_type": "code",
   "execution_count": 11,
   "metadata": {
    "scrolled": true
   },
   "outputs": [],
   "source": [
    "X_train_text = X_train[:, 53:]\n",
    "X_test_text = X_test[:, 53:]"
   ]
  },
  {
   "cell_type": "markdown",
   "metadata": {},
   "source": [
    "### Linear regression"
   ]
  },
  {
   "cell_type": "code",
   "execution_count": 12,
   "metadata": {},
   "outputs": [
    {
     "data": {
      "text/plain": [
       "Ridge()"
      ]
     },
     "execution_count": 12,
     "metadata": {},
     "output_type": "execute_result"
    }
   ],
   "source": [
    "# model_01 = linear_model.LinearRegression()\n",
    "# model_01 = linear_model.Lasso()\n",
    "model_01 = linear_model.Ridge()\n",
    "model_01.fit(X_train_text, y_train)"
   ]
  },
  {
   "cell_type": "code",
   "execution_count": 13,
   "metadata": {},
   "outputs": [
    {
     "name": "stdout",
     "output_type": "stream",
     "text": [
      "MAE:  59605\n",
      "RMSE: 88973\n",
      "MAPE: 34.52%\n",
      "R^2:  0.544\n"
     ]
    }
   ],
   "source": [
    "y_pred_01 = model_01.predict(X_test_text)\n",
    "metrics_01 = get_metrics(y_test, y_pred_01)"
   ]
  },
  {
   "cell_type": "markdown",
   "metadata": {},
   "source": [
    "Cross validation"
   ]
  },
  {
   "cell_type": "code",
   "execution_count": 14,
   "metadata": {},
   "outputs": [
    {
     "data": {
      "application/vnd.jupyter.widget-view+json": {
       "model_id": "ddcd4ea2cd2a462bbe014cafc18ff15e",
       "version_major": 2,
       "version_minor": 0
      },
      "text/plain": [
       "  0%|          | 0/5 [00:00<?, ?it/s]"
      ]
     },
     "metadata": {},
     "output_type": "display_data"
    },
    {
     "name": "stdout",
     "output_type": "stream",
     "text": [
      "MAE:  60740\n",
      "RMSE: 90602\n",
      "MAPE: 35.84%\n",
      "R^2:  0.559\n"
     ]
    }
   ],
   "source": [
    "results_df[\"Linear: T\"] = cross_validation(model_01, X[:, 52:], y)"
   ]
  },
  {
   "cell_type": "markdown",
   "metadata": {},
   "source": [
    "### Catboost"
   ]
  },
  {
   "cell_type": "code",
   "execution_count": 15,
   "metadata": {},
   "outputs": [
    {
     "data": {
      "text/plain": [
       "<catboost.core.CatBoostRegressor at 0x1988bbf39c8>"
      ]
     },
     "execution_count": 15,
     "metadata": {},
     "output_type": "execute_result"
    }
   ],
   "source": [
    "model_02 = CatBoostRegressor()\n",
    "model_02.fit(X=X_train_text, y=y_train, verbose=False)"
   ]
  },
  {
   "cell_type": "code",
   "execution_count": 16,
   "metadata": {},
   "outputs": [
    {
     "name": "stdout",
     "output_type": "stream",
     "text": [
      "MAE:  49990\n",
      "RMSE: 75079\n",
      "MAPE: 28.93%\n",
      "R^2:  0.675\n"
     ]
    }
   ],
   "source": [
    "y_pred_02 = model_02.predict(X_test_text)\n",
    "metrics_02 = get_metrics(y_test, y_pred_02)"
   ]
  },
  {
   "cell_type": "markdown",
   "metadata": {},
   "source": [
    "Cross validation"
   ]
  },
  {
   "cell_type": "code",
   "execution_count": 17,
   "metadata": {
    "scrolled": true
   },
   "outputs": [
    {
     "data": {
      "application/vnd.jupyter.widget-view+json": {
       "model_id": "cc9e88d33b59413da4e7c2b5fd57adb9",
       "version_major": 2,
       "version_minor": 0
      },
      "text/plain": [
       "  0%|          | 0/5 [00:00<?, ?it/s]"
      ]
     },
     "metadata": {},
     "output_type": "display_data"
    },
    {
     "name": "stdout",
     "output_type": "stream",
     "text": [
      "MAE:  49961\n",
      "RMSE: 76154\n",
      "MAPE: 29.25%\n",
      "R^2:  0.688\n"
     ]
    }
   ],
   "source": [
    "results_df[\"Catboost: T\"] = cross_validation(model_02, X[:, 52:], y)"
   ]
  },
  {
   "cell_type": "markdown",
   "metadata": {},
   "source": [
    "## Combining structured and text features"
   ]
  },
  {
   "cell_type": "markdown",
   "metadata": {},
   "source": [
    "### Linear regression"
   ]
  },
  {
   "cell_type": "code",
   "execution_count": 18,
   "metadata": {},
   "outputs": [
    {
     "data": {
      "text/plain": [
       "Ridge()"
      ]
     },
     "execution_count": 18,
     "metadata": {},
     "output_type": "execute_result"
    }
   ],
   "source": [
    "# model_03 = linear_model.LinearRegression()\n",
    "# model_03 = linear_model.Lasso()\n",
    "model_03 = linear_model.Ridge()\n",
    "model_03.fit(X_train, y_train)"
   ]
  },
  {
   "cell_type": "code",
   "execution_count": 19,
   "metadata": {},
   "outputs": [
    {
     "name": "stdout",
     "output_type": "stream",
     "text": [
      "MAE:  33268\n",
      "RMSE: 46995\n",
      "MAPE: 21.18%\n",
      "R^2:  0.873\n"
     ]
    }
   ],
   "source": [
    "y_pred_03 = model_03.predict(X_test)\n",
    "metrics_03 = get_metrics(y_test, y_pred_03)"
   ]
  },
  {
   "cell_type": "markdown",
   "metadata": {},
   "source": [
    "Cross validation"
   ]
  },
  {
   "cell_type": "code",
   "execution_count": 20,
   "metadata": {},
   "outputs": [
    {
     "data": {
      "application/vnd.jupyter.widget-view+json": {
       "model_id": "c2ec26901655448fbd1ed6d82f46ece0",
       "version_major": 2,
       "version_minor": 0
      },
      "text/plain": [
       "  0%|          | 0/5 [00:00<?, ?it/s]"
      ]
     },
     "metadata": {},
     "output_type": "display_data"
    },
    {
     "name": "stdout",
     "output_type": "stream",
     "text": [
      "MAE:  34245\n",
      "RMSE: 49185\n",
      "MAPE: 21.57%\n",
      "R^2:  0.87\n"
     ]
    }
   ],
   "source": [
    "results_df[\"Linear: S+T\"] = cross_validation(model_03, X, y)"
   ]
  },
  {
   "cell_type": "markdown",
   "metadata": {},
   "source": [
    "### Catboost"
   ]
  },
  {
   "cell_type": "code",
   "execution_count": 21,
   "metadata": {},
   "outputs": [
    {
     "data": {
      "text/plain": [
       "<catboost.core.CatBoostRegressor at 0x1988b900a88>"
      ]
     },
     "execution_count": 21,
     "metadata": {},
     "output_type": "execute_result"
    }
   ],
   "source": [
    "model_04 = CatBoostRegressor()\n",
    "model_04.fit(X=X_train, y=y_train, verbose=False)"
   ]
  },
  {
   "cell_type": "code",
   "execution_count": 22,
   "metadata": {},
   "outputs": [
    {
     "name": "stdout",
     "output_type": "stream",
     "text": [
      "MAE:  27565\n",
      "RMSE: 40615\n",
      "MAPE: 16.12%\n",
      "R^2:  0.905\n"
     ]
    }
   ],
   "source": [
    "y_pred_04 = model_04.predict(X_test)\n",
    "metrics_04 = get_metrics(y_test, y_pred_04)"
   ]
  },
  {
   "cell_type": "markdown",
   "metadata": {},
   "source": [
    "Cross Validation"
   ]
  },
  {
   "cell_type": "code",
   "execution_count": 23,
   "metadata": {},
   "outputs": [
    {
     "data": {
      "application/vnd.jupyter.widget-view+json": {
       "model_id": "72f8a2a5ea8641f7b15484438a4e7644",
       "version_major": 2,
       "version_minor": 0
      },
      "text/plain": [
       "  0%|          | 0/5 [00:00<?, ?it/s]"
      ]
     },
     "metadata": {},
     "output_type": "display_data"
    },
    {
     "name": "stdout",
     "output_type": "stream",
     "text": [
      "MAE:  28513\n",
      "RMSE: 42363\n",
      "MAPE: 16.66%\n",
      "R^2:  0.904\n"
     ]
    }
   ],
   "source": [
    "results_df[\"Catboost: S+T\"] = cross_validation(model_04, X, y)"
   ]
  },
  {
   "cell_type": "markdown",
   "metadata": {},
   "source": [
    "## Combining structured and category features"
   ]
  },
  {
   "cell_type": "markdown",
   "metadata": {},
   "source": [
    "Load structured with added wikipedia category data"
   ]
  },
  {
   "cell_type": "code",
   "execution_count": 24,
   "metadata": {},
   "outputs": [
    {
     "name": "stdout",
     "output_type": "stream",
     "text": [
      "(9556, 98)\n"
     ]
    },
    {
     "data": {
      "text/html": [
       "<div>\n",
       "<style scoped>\n",
       "    .dataframe tbody tr th:only-of-type {\n",
       "        vertical-align: middle;\n",
       "    }\n",
       "\n",
       "    .dataframe tbody tr th {\n",
       "        vertical-align: top;\n",
       "    }\n",
       "\n",
       "    .dataframe thead th {\n",
       "        text-align: right;\n",
       "    }\n",
       "</style>\n",
       "<table border=\"1\" class=\"dataframe\">\n",
       "  <thead>\n",
       "    <tr style=\"text-align: right;\">\n",
       "      <th></th>\n",
       "      <th>_id</th>\n",
       "      <th>PROPERTYZIP</th>\n",
       "      <th>MUNICODE</th>\n",
       "      <th>SCHOOLCODE</th>\n",
       "      <th>NEIGHCODE</th>\n",
       "      <th>LOTAREA</th>\n",
       "      <th>SALEDATE</th>\n",
       "      <th>SALEPRICE</th>\n",
       "      <th>FAIRMARKETTOTAL</th>\n",
       "      <th>STORIES</th>\n",
       "      <th>...</th>\n",
       "      <th>music venue_dist</th>\n",
       "      <th>music venue_count</th>\n",
       "      <th>librar_dist</th>\n",
       "      <th>librar_count</th>\n",
       "      <th>demolished_dist</th>\n",
       "      <th>demolished_count</th>\n",
       "      <th>theatre_dist</th>\n",
       "      <th>theatre_count</th>\n",
       "      <th>airport_dist</th>\n",
       "      <th>airport_count</th>\n",
       "    </tr>\n",
       "  </thead>\n",
       "  <tbody>\n",
       "    <tr>\n",
       "      <th>0</th>\n",
       "      <td>230053</td>\n",
       "      <td>15025</td>\n",
       "      <td>878</td>\n",
       "      <td>44</td>\n",
       "      <td>87803</td>\n",
       "      <td>9900</td>\n",
       "      <td>04-21-2015</td>\n",
       "      <td>170000.0</td>\n",
       "      <td>142400</td>\n",
       "      <td>1.0</td>\n",
       "      <td>...</td>\n",
       "      <td>15990.452118</td>\n",
       "      <td>0</td>\n",
       "      <td>2820.945079</td>\n",
       "      <td>0</td>\n",
       "      <td>10696.759563</td>\n",
       "      <td>0</td>\n",
       "      <td>14548.670451</td>\n",
       "      <td>0</td>\n",
       "      <td>8261.217226</td>\n",
       "      <td>0</td>\n",
       "    </tr>\n",
       "    <tr>\n",
       "      <th>1</th>\n",
       "      <td>59600</td>\n",
       "      <td>15044</td>\n",
       "      <td>938</td>\n",
       "      <td>3</td>\n",
       "      <td>93801</td>\n",
       "      <td>157687</td>\n",
       "      <td>02-06-2017</td>\n",
       "      <td>715000.0</td>\n",
       "      <td>624900</td>\n",
       "      <td>2.0</td>\n",
       "      <td>...</td>\n",
       "      <td>15252.566458</td>\n",
       "      <td>0</td>\n",
       "      <td>8875.882352</td>\n",
       "      <td>0</td>\n",
       "      <td>16605.101289</td>\n",
       "      <td>0</td>\n",
       "      <td>20061.837733</td>\n",
       "      <td>0</td>\n",
       "      <td>8735.994643</td>\n",
       "      <td>0</td>\n",
       "    </tr>\n",
       "    <tr>\n",
       "      <th>2</th>\n",
       "      <td>59872</td>\n",
       "      <td>15106</td>\n",
       "      <td>812</td>\n",
       "      <td>7</td>\n",
       "      <td>81203</td>\n",
       "      <td>5760</td>\n",
       "      <td>12-13-2019</td>\n",
       "      <td>180000.0</td>\n",
       "      <td>137500</td>\n",
       "      <td>2.0</td>\n",
       "      <td>...</td>\n",
       "      <td>7405.027862</td>\n",
       "      <td>0</td>\n",
       "      <td>442.271862</td>\n",
       "      <td>1</td>\n",
       "      <td>4954.189003</td>\n",
       "      <td>0</td>\n",
       "      <td>8489.804061</td>\n",
       "      <td>0</td>\n",
       "      <td>13263.563322</td>\n",
       "      <td>0</td>\n",
       "    </tr>\n",
       "    <tr>\n",
       "      <th>3</th>\n",
       "      <td>233732</td>\n",
       "      <td>15215</td>\n",
       "      <td>801</td>\n",
       "      <td>17</td>\n",
       "      <td>80102</td>\n",
       "      <td>4000</td>\n",
       "      <td>08-17-2017</td>\n",
       "      <td>445000.0</td>\n",
       "      <td>388900</td>\n",
       "      <td>2.0</td>\n",
       "      <td>...</td>\n",
       "      <td>3762.277275</td>\n",
       "      <td>0</td>\n",
       "      <td>4014.164339</td>\n",
       "      <td>0</td>\n",
       "      <td>4432.421403</td>\n",
       "      <td>0</td>\n",
       "      <td>3758.563485</td>\n",
       "      <td>0</td>\n",
       "      <td>4484.601475</td>\n",
       "      <td>0</td>\n",
       "    </tr>\n",
       "    <tr>\n",
       "      <th>4</th>\n",
       "      <td>245949</td>\n",
       "      <td>15108</td>\n",
       "      <td>817</td>\n",
       "      <td>11</td>\n",
       "      <td>81702</td>\n",
       "      <td>7500</td>\n",
       "      <td>02-10-2017</td>\n",
       "      <td>149500.0</td>\n",
       "      <td>130700</td>\n",
       "      <td>2.0</td>\n",
       "      <td>...</td>\n",
       "      <td>12021.222158</td>\n",
       "      <td>0</td>\n",
       "      <td>3689.992805</td>\n",
       "      <td>0</td>\n",
       "      <td>3573.119729</td>\n",
       "      <td>0</td>\n",
       "      <td>13989.916643</td>\n",
       "      <td>0</td>\n",
       "      <td>5386.712501</td>\n",
       "      <td>0</td>\n",
       "    </tr>\n",
       "    <tr>\n",
       "      <th>5</th>\n",
       "      <td>245988</td>\n",
       "      <td>15236</td>\n",
       "      <td>873</td>\n",
       "      <td>44</td>\n",
       "      <td>87302</td>\n",
       "      <td>2800</td>\n",
       "      <td>06-15-2017</td>\n",
       "      <td>132000.0</td>\n",
       "      <td>115400</td>\n",
       "      <td>1.0</td>\n",
       "      <td>...</td>\n",
       "      <td>10193.679408</td>\n",
       "      <td>0</td>\n",
       "      <td>4946.527430</td>\n",
       "      <td>0</td>\n",
       "      <td>5818.055614</td>\n",
       "      <td>0</td>\n",
       "      <td>9464.651731</td>\n",
       "      <td>0</td>\n",
       "      <td>3442.224739</td>\n",
       "      <td>0</td>\n",
       "    </tr>\n",
       "    <tr>\n",
       "      <th>6</th>\n",
       "      <td>257252</td>\n",
       "      <td>15228</td>\n",
       "      <td>926</td>\n",
       "      <td>26</td>\n",
       "      <td>92601</td>\n",
       "      <td>31263</td>\n",
       "      <td>07-13-2017</td>\n",
       "      <td>495000.0</td>\n",
       "      <td>329000</td>\n",
       "      <td>2.0</td>\n",
       "      <td>...</td>\n",
       "      <td>8890.074005</td>\n",
       "      <td>0</td>\n",
       "      <td>5877.934506</td>\n",
       "      <td>0</td>\n",
       "      <td>2970.499100</td>\n",
       "      <td>0</td>\n",
       "      <td>9185.477223</td>\n",
       "      <td>0</td>\n",
       "      <td>10112.540384</td>\n",
       "      <td>0</td>\n",
       "    </tr>\n",
       "    <tr>\n",
       "      <th>7</th>\n",
       "      <td>246320</td>\n",
       "      <td>15132</td>\n",
       "      <td>409</td>\n",
       "      <td>23</td>\n",
       "      <td>40005</td>\n",
       "      <td>2500</td>\n",
       "      <td>05-25-2017</td>\n",
       "      <td>47000.0</td>\n",
       "      <td>40600</td>\n",
       "      <td>2.0</td>\n",
       "      <td>...</td>\n",
       "      <td>10729.808104</td>\n",
       "      <td>0</td>\n",
       "      <td>2005.180201</td>\n",
       "      <td>1</td>\n",
       "      <td>2712.802271</td>\n",
       "      <td>0</td>\n",
       "      <td>9810.115704</td>\n",
       "      <td>0</td>\n",
       "      <td>5850.338099</td>\n",
       "      <td>0</td>\n",
       "    </tr>\n",
       "    <tr>\n",
       "      <th>8</th>\n",
       "      <td>246781</td>\n",
       "      <td>15221</td>\n",
       "      <td>828</td>\n",
       "      <td>9</td>\n",
       "      <td>82801</td>\n",
       "      <td>13620</td>\n",
       "      <td>06-06-2018</td>\n",
       "      <td>170000.0</td>\n",
       "      <td>150400</td>\n",
       "      <td>2.0</td>\n",
       "      <td>...</td>\n",
       "      <td>1260.691520</td>\n",
       "      <td>1</td>\n",
       "      <td>2297.413876</td>\n",
       "      <td>2</td>\n",
       "      <td>2068.531631</td>\n",
       "      <td>1</td>\n",
       "      <td>3859.906307</td>\n",
       "      <td>0</td>\n",
       "      <td>4399.683079</td>\n",
       "      <td>0</td>\n",
       "    </tr>\n",
       "    <tr>\n",
       "      <th>9</th>\n",
       "      <td>247147</td>\n",
       "      <td>15068</td>\n",
       "      <td>880</td>\n",
       "      <td>31</td>\n",
       "      <td>88008</td>\n",
       "      <td>4897</td>\n",
       "      <td>11-25-2015</td>\n",
       "      <td>60000.0</td>\n",
       "      <td>67700</td>\n",
       "      <td>1.0</td>\n",
       "      <td>...</td>\n",
       "      <td>11407.277774</td>\n",
       "      <td>0</td>\n",
       "      <td>12971.710218</td>\n",
       "      <td>0</td>\n",
       "      <td>8285.703599</td>\n",
       "      <td>0</td>\n",
       "      <td>17277.653271</td>\n",
       "      <td>0</td>\n",
       "      <td>9003.306122</td>\n",
       "      <td>0</td>\n",
       "    </tr>\n",
       "  </tbody>\n",
       "</table>\n",
       "<p>10 rows × 98 columns</p>\n",
       "</div>"
      ],
      "text/plain": [
       "      _id  PROPERTYZIP  MUNICODE  SCHOOLCODE  NEIGHCODE  LOTAREA    SALEDATE  \\\n",
       "0  230053        15025       878          44      87803     9900  04-21-2015   \n",
       "1   59600        15044       938           3      93801   157687  02-06-2017   \n",
       "2   59872        15106       812           7      81203     5760  12-13-2019   \n",
       "3  233732        15215       801          17      80102     4000  08-17-2017   \n",
       "4  245949        15108       817          11      81702     7500  02-10-2017   \n",
       "5  245988        15236       873          44      87302     2800  06-15-2017   \n",
       "6  257252        15228       926          26      92601    31263  07-13-2017   \n",
       "7  246320        15132       409          23      40005     2500  05-25-2017   \n",
       "8  246781        15221       828           9      82801    13620  06-06-2018   \n",
       "9  247147        15068       880          31      88008     4897  11-25-2015   \n",
       "\n",
       "   SALEPRICE  FAIRMARKETTOTAL  STORIES  ...  music venue_dist  \\\n",
       "0   170000.0           142400      1.0  ...      15990.452118   \n",
       "1   715000.0           624900      2.0  ...      15252.566458   \n",
       "2   180000.0           137500      2.0  ...       7405.027862   \n",
       "3   445000.0           388900      2.0  ...       3762.277275   \n",
       "4   149500.0           130700      2.0  ...      12021.222158   \n",
       "5   132000.0           115400      1.0  ...      10193.679408   \n",
       "6   495000.0           329000      2.0  ...       8890.074005   \n",
       "7    47000.0            40600      2.0  ...      10729.808104   \n",
       "8   170000.0           150400      2.0  ...       1260.691520   \n",
       "9    60000.0            67700      1.0  ...      11407.277774   \n",
       "\n",
       "   music venue_count   librar_dist  librar_count  demolished_dist  \\\n",
       "0                  0   2820.945079             0     10696.759563   \n",
       "1                  0   8875.882352             0     16605.101289   \n",
       "2                  0    442.271862             1      4954.189003   \n",
       "3                  0   4014.164339             0      4432.421403   \n",
       "4                  0   3689.992805             0      3573.119729   \n",
       "5                  0   4946.527430             0      5818.055614   \n",
       "6                  0   5877.934506             0      2970.499100   \n",
       "7                  0   2005.180201             1      2712.802271   \n",
       "8                  1   2297.413876             2      2068.531631   \n",
       "9                  0  12971.710218             0      8285.703599   \n",
       "\n",
       "   demolished_count  theatre_dist  theatre_count  airport_dist  airport_count  \n",
       "0                 0  14548.670451              0   8261.217226              0  \n",
       "1                 0  20061.837733              0   8735.994643              0  \n",
       "2                 0   8489.804061              0  13263.563322              0  \n",
       "3                 0   3758.563485              0   4484.601475              0  \n",
       "4                 0  13989.916643              0   5386.712501              0  \n",
       "5                 0   9464.651731              0   3442.224739              0  \n",
       "6                 0   9185.477223              0  10112.540384              0  \n",
       "7                 0   9810.115704              0   5850.338099              0  \n",
       "8                 1   3859.906307              0   4399.683079              0  \n",
       "9                 0  17277.653271              0   9003.306122              0  \n",
       "\n",
       "[10 rows x 98 columns]"
      ]
     },
     "execution_count": 24,
     "metadata": {},
     "output_type": "execute_result"
    }
   ],
   "source": [
    "structured_wiki_categories = pd.read_csv(PATH+\"structured_wiki_category_features.csv\")\n",
    "print(structured_wiki_categories.shape)\n",
    "structured_wiki_categories.head(10)"
   ]
  },
  {
   "cell_type": "code",
   "execution_count": 25,
   "metadata": {},
   "outputs": [
    {
     "name": "stdout",
     "output_type": "stream",
     "text": [
      "(7167, 87): (5375, 87) + (1792, 87)\n",
      "(7167,): (5375,) + (1792,)\n",
      "(2389, 87)\n",
      "(2389,)\n"
     ]
    }
   ],
   "source": [
    "X_columns_cat, data_sets, error_df = make_train_test(structured_wiki_categories)\n",
    "X, y, X_train, X_test, y_train, y_test, X_train_train, X_train_val, y_train_train, y_train_val = data_sets"
   ]
  },
  {
   "cell_type": "markdown",
   "metadata": {},
   "source": [
    "### Linear regression"
   ]
  },
  {
   "cell_type": "code",
   "execution_count": 26,
   "metadata": {},
   "outputs": [
    {
     "data": {
      "text/plain": [
       "LinearRegression()"
      ]
     },
     "execution_count": 26,
     "metadata": {},
     "output_type": "execute_result"
    }
   ],
   "source": [
    "model_05 = linear_model.LinearRegression()\n",
    "# model_05 = linear_model.Lasso()\n",
    "# model_05 = linear_model.Ridge()\n",
    "model_05.fit(X_train, y_train)"
   ]
  },
  {
   "cell_type": "code",
   "execution_count": 27,
   "metadata": {},
   "outputs": [
    {
     "name": "stdout",
     "output_type": "stream",
     "text": [
      "MAE:  40346\n",
      "RMSE: 55821\n",
      "MAPE: 25.4%\n",
      "R^2:  0.831\n"
     ]
    }
   ],
   "source": [
    "y_pred_05 = model_05.predict(X_test)\n",
    "metrics_05 = get_metrics(y_test, y_pred_05)"
   ]
  },
  {
   "cell_type": "markdown",
   "metadata": {},
   "source": [
    "Cross validation"
   ]
  },
  {
   "cell_type": "code",
   "execution_count": 28,
   "metadata": {},
   "outputs": [
    {
     "data": {
      "application/vnd.jupyter.widget-view+json": {
       "model_id": "edb698a8f9224812880c4e969f48e9e7",
       "version_major": 2,
       "version_minor": 0
      },
      "text/plain": [
       "  0%|          | 0/5 [00:00<?, ?it/s]"
      ]
     },
     "metadata": {},
     "output_type": "display_data"
    },
    {
     "name": "stdout",
     "output_type": "stream",
     "text": [
      "MAE:  40509\n",
      "RMSE: 57135\n",
      "MAPE: 25.83%\n",
      "R^2:  0.825\n"
     ]
    }
   ],
   "source": [
    "results_df[\"Linear: S+C\"] = cross_validation(model_05, X, y)"
   ]
  },
  {
   "cell_type": "markdown",
   "metadata": {},
   "source": [
    "### Catboost"
   ]
  },
  {
   "cell_type": "code",
   "execution_count": 29,
   "metadata": {},
   "outputs": [
    {
     "data": {
      "text/plain": [
       "<catboost.core.CatBoostRegressor at 0x1988a0e9448>"
      ]
     },
     "execution_count": 29,
     "metadata": {},
     "output_type": "execute_result"
    }
   ],
   "source": [
    "model_06 = CatBoostRegressor()\n",
    "model_06.fit(X=X_train, y=y_train, verbose=False)"
   ]
  },
  {
   "cell_type": "code",
   "execution_count": 30,
   "metadata": {},
   "outputs": [
    {
     "name": "stdout",
     "output_type": "stream",
     "text": [
      "MAE:  29622\n",
      "RMSE: 43273\n",
      "MAPE: 17.02%\n",
      "R^2:  0.898\n"
     ]
    }
   ],
   "source": [
    "y_pred_06 = model_06.predict(X_test)\n",
    "metrics_06 = get_metrics(y_test, y_pred_06)"
   ]
  },
  {
   "cell_type": "markdown",
   "metadata": {},
   "source": [
    "Cross validation"
   ]
  },
  {
   "cell_type": "code",
   "execution_count": 31,
   "metadata": {},
   "outputs": [
    {
     "data": {
      "application/vnd.jupyter.widget-view+json": {
       "model_id": "a5ebe59e26f6451d86820cf7e6d5ac06",
       "version_major": 2,
       "version_minor": 0
      },
      "text/plain": [
       "  0%|          | 0/5 [00:00<?, ?it/s]"
      ]
     },
     "metadata": {},
     "output_type": "display_data"
    },
    {
     "name": "stdout",
     "output_type": "stream",
     "text": [
      "MAE:  29248\n",
      "RMSE: 43411\n",
      "MAPE: 17.38%\n",
      "R^2:  0.899\n"
     ]
    }
   ],
   "source": [
    "results_df[\"Catboost: S+C\"] = cross_validation(model_06, X, y)"
   ]
  },
  {
   "cell_type": "markdown",
   "metadata": {},
   "source": [
    "## Combining structured, text and category features"
   ]
  },
  {
   "cell_type": "markdown",
   "metadata": {},
   "source": [
    "Add category features"
   ]
  },
  {
   "cell_type": "code",
   "execution_count": 32,
   "metadata": {},
   "outputs": [
    {
     "name": "stdout",
     "output_type": "stream",
     "text": [
      "(9556, 3207)\n"
     ]
    }
   ],
   "source": [
    "merge_cols = list(structured_wiki_text.columns[:64])\n",
    "structured_wiki_combined = pd.merge(\n",
    "    structured_wiki_text, structured_wiki_categories, on=merge_cols)\n",
    "print(structured_wiki_combined.shape)"
   ]
  },
  {
   "cell_type": "code",
   "execution_count": 33,
   "metadata": {},
   "outputs": [
    {
     "name": "stdout",
     "output_type": "stream",
     "text": [
      "(7167, 3196): (5375, 3196) + (1792, 3196)\n",
      "(7167,): (5375,) + (1792,)\n",
      "(2389, 3196)\n",
      "(2389,)\n"
     ]
    }
   ],
   "source": [
    "X_columns_text_cat, data_sets, error_df = make_train_test(structured_wiki_combined)\n",
    "X, y, X_train, X_test, y_train, y_test, X_train_train, X_train_val, y_train_train, y_train_val = data_sets"
   ]
  },
  {
   "cell_type": "markdown",
   "metadata": {},
   "source": [
    "### Linear model"
   ]
  },
  {
   "cell_type": "code",
   "execution_count": 34,
   "metadata": {},
   "outputs": [
    {
     "data": {
      "text/plain": [
       "Ridge()"
      ]
     },
     "execution_count": 34,
     "metadata": {},
     "output_type": "execute_result"
    }
   ],
   "source": [
    "# model_07 = linear_model.LinearRegression()\n",
    "# model_07 = linear_model.Lasso()\n",
    "model_07 = linear_model.Ridge()\n",
    "model_07.fit(X_train, y_train)"
   ]
  },
  {
   "cell_type": "code",
   "execution_count": 35,
   "metadata": {},
   "outputs": [
    {
     "name": "stdout",
     "output_type": "stream",
     "text": [
      "MAE:  32676\n",
      "RMSE: 46416\n",
      "MAPE: 20.88%\n",
      "R^2:  0.876\n"
     ]
    }
   ],
   "source": [
    "y_pred_07 = model_07.predict(X_test)\n",
    "metrics_07 = get_metrics(y_test, y_pred_07)"
   ]
  },
  {
   "cell_type": "markdown",
   "metadata": {},
   "source": [
    "Cross validation"
   ]
  },
  {
   "cell_type": "code",
   "execution_count": 36,
   "metadata": {},
   "outputs": [
    {
     "data": {
      "application/vnd.jupyter.widget-view+json": {
       "model_id": "eb62da4245c9480f9eeb7e8bb1305e93",
       "version_major": 2,
       "version_minor": 0
      },
      "text/plain": [
       "  0%|          | 0/5 [00:00<?, ?it/s]"
      ]
     },
     "metadata": {},
     "output_type": "display_data"
    },
    {
     "name": "stdout",
     "output_type": "stream",
     "text": [
      "MAE:  33768\n",
      "RMSE: 48630\n",
      "MAPE: 21.33%\n",
      "R^2:  0.873\n"
     ]
    }
   ],
   "source": [
    "results_df[\"Linear: S+T+C\"] = cross_validation(model_07, X, y)"
   ]
  },
  {
   "cell_type": "markdown",
   "metadata": {},
   "source": [
    "### Catboost"
   ]
  },
  {
   "cell_type": "code",
   "execution_count": 37,
   "metadata": {},
   "outputs": [
    {
     "data": {
      "text/plain": [
       "<catboost.core.CatBoostRegressor at 0x1988b923288>"
      ]
     },
     "execution_count": 37,
     "metadata": {},
     "output_type": "execute_result"
    }
   ],
   "source": [
    "model_08 = CatBoostRegressor()\n",
    "model_08.fit(X=X_train, y=y_train, verbose=False)"
   ]
  },
  {
   "cell_type": "code",
   "execution_count": 38,
   "metadata": {},
   "outputs": [
    {
     "name": "stdout",
     "output_type": "stream",
     "text": [
      "MAE:  27931\n",
      "RMSE: 40749\n",
      "MAPE: 16.21%\n",
      "R^2:  0.904\n"
     ]
    }
   ],
   "source": [
    "y_pred_08 = model_08.predict(X_test)\n",
    "metrics_08 = get_metrics(y_test, y_pred_08)"
   ]
  },
  {
   "cell_type": "markdown",
   "metadata": {},
   "source": [
    "Cross validation"
   ]
  },
  {
   "cell_type": "code",
   "execution_count": 39,
   "metadata": {},
   "outputs": [
    {
     "data": {
      "application/vnd.jupyter.widget-view+json": {
       "model_id": "f0da46bc17a942429e6be8750f145d47",
       "version_major": 2,
       "version_minor": 0
      },
      "text/plain": [
       "  0%|          | 0/5 [00:00<?, ?it/s]"
      ]
     },
     "metadata": {},
     "output_type": "display_data"
    },
    {
     "name": "stdout",
     "output_type": "stream",
     "text": [
      "MAE:  28558\n",
      "RMSE: 42482\n",
      "MAPE: 16.67%\n",
      "R^2:  0.903\n"
     ]
    }
   ],
   "source": [
    "results_df[\"Catboost: S+T+C\"] = cross_validation(model_08, X, y)"
   ]
  },
  {
   "cell_type": "markdown",
   "metadata": {},
   "source": [
    "## Results"
   ]
  },
  {
   "cell_type": "code",
   "execution_count": 40,
   "metadata": {},
   "outputs": [
    {
     "name": "stdout",
     "output_type": "stream",
     "text": [
      "Results for a max distance of 5500m.\n"
     ]
    },
    {
     "data": {
      "text/html": [
       "<div>\n",
       "<style scoped>\n",
       "    .dataframe tbody tr th:only-of-type {\n",
       "        vertical-align: middle;\n",
       "    }\n",
       "\n",
       "    .dataframe tbody tr th {\n",
       "        vertical-align: top;\n",
       "    }\n",
       "\n",
       "    .dataframe thead th {\n",
       "        text-align: right;\n",
       "    }\n",
       "</style>\n",
       "<table border=\"1\" class=\"dataframe\">\n",
       "  <thead>\n",
       "    <tr style=\"text-align: right;\">\n",
       "      <th></th>\n",
       "      <th>Linear: T</th>\n",
       "      <th>Linear: S+T</th>\n",
       "      <th>Linear: S+T+C</th>\n",
       "      <th>Catboost: T</th>\n",
       "      <th>Catboost: S+T</th>\n",
       "      <th>Catboost: S+T+C</th>\n",
       "    </tr>\n",
       "  </thead>\n",
       "  <tbody>\n",
       "    <tr>\n",
       "      <th>MAE</th>\n",
       "      <td>60740.000</td>\n",
       "      <td>34245.00</td>\n",
       "      <td>33768.000</td>\n",
       "      <td>49961.000</td>\n",
       "      <td>28513.000</td>\n",
       "      <td>28558.000</td>\n",
       "    </tr>\n",
       "    <tr>\n",
       "      <th>RMSE</th>\n",
       "      <td>90602.000</td>\n",
       "      <td>49185.00</td>\n",
       "      <td>48630.000</td>\n",
       "      <td>76154.000</td>\n",
       "      <td>42363.000</td>\n",
       "      <td>42482.000</td>\n",
       "    </tr>\n",
       "    <tr>\n",
       "      <th>MAPE</th>\n",
       "      <td>35.840</td>\n",
       "      <td>21.57</td>\n",
       "      <td>21.330</td>\n",
       "      <td>29.250</td>\n",
       "      <td>16.660</td>\n",
       "      <td>16.670</td>\n",
       "    </tr>\n",
       "    <tr>\n",
       "      <th>R^2</th>\n",
       "      <td>0.559</td>\n",
       "      <td>0.87</td>\n",
       "      <td>0.873</td>\n",
       "      <td>0.688</td>\n",
       "      <td>0.904</td>\n",
       "      <td>0.903</td>\n",
       "    </tr>\n",
       "  </tbody>\n",
       "</table>\n",
       "</div>"
      ],
      "text/plain": [
       "      Linear: T  Linear: S+T  Linear: S+T+C  Catboost: T  Catboost: S+T  \\\n",
       "MAE   60740.000     34245.00      33768.000    49961.000      28513.000   \n",
       "RMSE  90602.000     49185.00      48630.000    76154.000      42363.000   \n",
       "MAPE     35.840        21.57         21.330       29.250         16.660   \n",
       "R^2       0.559         0.87          0.873        0.688          0.904   \n",
       "\n",
       "      Catboost: S+T+C  \n",
       "MAE         28558.000  \n",
       "RMSE        42482.000  \n",
       "MAPE           16.670  \n",
       "R^2             0.903  "
      ]
     },
     "execution_count": 40,
     "metadata": {},
     "output_type": "execute_result"
    }
   ],
   "source": [
    "results_df.index = [\"MAE\", \"RMSE\", \"MAPE\", \"R^2\"]\n",
    "# reorder columns\n",
    "results_df = results_df[[\"Linear: T\", \"Linear: S+T\", \"Linear: S+T+C\", \"Catboost: T\", \"Catboost: S+T\", \"Catboost: S+T+C\"]]\n",
    "results_df.to_csv(\n",
    "    PATH + f\"results/structured_wiki_{MAX_DIST}_results.csv\", index=False)\n",
    "print(f\"Results for a max distance of {MAX_DIST}m.\")\n",
    "results_df.head()"
   ]
  },
  {
   "cell_type": "markdown",
   "metadata": {},
   "source": [
    "## Spatial out-of-sample test"
   ]
  },
  {
   "cell_type": "markdown",
   "metadata": {},
   "source": [
    "Calculate median latitude and longitude"
   ]
  },
  {
   "cell_type": "code",
   "execution_count": 41,
   "metadata": {},
   "outputs": [
    {
     "data": {
      "text/plain": [
       "latitude     40.441981\n",
       "longitude   -79.987716\n",
       "dtype: float64"
      ]
     },
     "execution_count": 41,
     "metadata": {},
     "output_type": "execute_result"
    }
   ],
   "source": [
    "soos_df = structured_wiki_text.copy()\n",
    "\n",
    "coords_median = soos_df.loc[:, \"latitude\":\"longitude\"].median()\n",
    "lat_median = coords_median.loc[\"latitude\"]\n",
    "long_median = coords_median.loc[\"longitude\"]\n",
    "coords_median"
   ]
  },
  {
   "cell_type": "code",
   "execution_count": 42,
   "metadata": {},
   "outputs": [
    {
     "name": "stdout",
     "output_type": "stream",
     "text": [
      "(2487, 3173)\n",
      "(2291, 3173)\n",
      "(2487, 3173)\n",
      "(2291, 3173)\n",
      "\n",
      "(9556, 3173)\n"
     ]
    }
   ],
   "source": [
    "quadrants = []\n",
    "\n",
    "quadrant_1 = soos_df[(soos_df[\"latitude\"] >= lat_median) & (soos_df[\"longitude\"] >= long_median)]\n",
    "quadrants.append(quadrant_1)\n",
    "print(quadrant_1.shape)\n",
    "\n",
    "quadrant_2 = soos_df[(soos_df[\"latitude\"] >= lat_median) & (soos_df[\"longitude\"] < long_median)]\n",
    "quadrants.append(quadrant_2)\n",
    "print(quadrant_2.shape)\n",
    "\n",
    "quadrant_3 = soos_df[(soos_df[\"latitude\"] < lat_median) & (soos_df[\"longitude\"] < long_median)]\n",
    "quadrants.append(quadrant_3)\n",
    "print(quadrant_3.shape)\n",
    "\n",
    "quadrant_4 = soos_df[(soos_df[\"latitude\"] < lat_median) & (soos_df[\"longitude\"] >= long_median)]\n",
    "quadrants.append(quadrant_4)\n",
    "print(quadrant_4.shape, end=\"\\n\\n\")\n",
    "\n",
    "row_sum = quadrant_1.shape[0] + quadrant_2.shape[0] + quadrant_3.shape[0] + quadrant_4.shape[0]\n",
    "print(f\"{row_sum, quadrant_1.shape[1]}\")"
   ]
  },
  {
   "cell_type": "code",
   "execution_count": 43,
   "metadata": {},
   "outputs": [
    {
     "data": {
      "text/html": [
       "<div>\n",
       "<style scoped>\n",
       "    .dataframe tbody tr th:only-of-type {\n",
       "        vertical-align: middle;\n",
       "    }\n",
       "\n",
       "    .dataframe tbody tr th {\n",
       "        vertical-align: top;\n",
       "    }\n",
       "\n",
       "    .dataframe thead th {\n",
       "        text-align: right;\n",
       "    }\n",
       "</style>\n",
       "<table border=\"1\" class=\"dataframe\">\n",
       "  <thead>\n",
       "    <tr style=\"text-align: right;\">\n",
       "      <th></th>\n",
       "      <th>id</th>\n",
       "      <th>lat</th>\n",
       "      <th>long</th>\n",
       "      <th>prediction</th>\n",
       "      <th>error</th>\n",
       "    </tr>\n",
       "  </thead>\n",
       "  <tbody>\n",
       "    <tr>\n",
       "      <th>0</th>\n",
       "      <td>314812</td>\n",
       "      <td>40.466737</td>\n",
       "      <td>-79.708578</td>\n",
       "      <td>0</td>\n",
       "      <td>0</td>\n",
       "    </tr>\n",
       "    <tr>\n",
       "      <th>1</th>\n",
       "      <td>315587</td>\n",
       "      <td>40.445413</td>\n",
       "      <td>-79.804255</td>\n",
       "      <td>0</td>\n",
       "      <td>0</td>\n",
       "    </tr>\n",
       "    <tr>\n",
       "      <th>2</th>\n",
       "      <td>318468</td>\n",
       "      <td>40.452267</td>\n",
       "      <td>-79.801333</td>\n",
       "      <td>0</td>\n",
       "      <td>0</td>\n",
       "    </tr>\n",
       "    <tr>\n",
       "      <th>3</th>\n",
       "      <td>457748</td>\n",
       "      <td>40.450123</td>\n",
       "      <td>-79.799833</td>\n",
       "      <td>0</td>\n",
       "      <td>0</td>\n",
       "    </tr>\n",
       "    <tr>\n",
       "      <th>4</th>\n",
       "      <td>319473</td>\n",
       "      <td>40.443532</td>\n",
       "      <td>-79.740358</td>\n",
       "      <td>0</td>\n",
       "      <td>0</td>\n",
       "    </tr>\n",
       "    <tr>\n",
       "      <th>5</th>\n",
       "      <td>458374</td>\n",
       "      <td>40.520053</td>\n",
       "      <td>-79.784539</td>\n",
       "      <td>0</td>\n",
       "      <td>0</td>\n",
       "    </tr>\n",
       "    <tr>\n",
       "      <th>6</th>\n",
       "      <td>319778</td>\n",
       "      <td>40.608447</td>\n",
       "      <td>-79.777244</td>\n",
       "      <td>0</td>\n",
       "      <td>0</td>\n",
       "    </tr>\n",
       "    <tr>\n",
       "      <th>7</th>\n",
       "      <td>320222</td>\n",
       "      <td>40.453754</td>\n",
       "      <td>-79.811168</td>\n",
       "      <td>0</td>\n",
       "      <td>0</td>\n",
       "    </tr>\n",
       "    <tr>\n",
       "      <th>8</th>\n",
       "      <td>320681</td>\n",
       "      <td>40.471195</td>\n",
       "      <td>-79.784846</td>\n",
       "      <td>0</td>\n",
       "      <td>0</td>\n",
       "    </tr>\n",
       "    <tr>\n",
       "      <th>9</th>\n",
       "      <td>363493</td>\n",
       "      <td>40.629263</td>\n",
       "      <td>-79.725169</td>\n",
       "      <td>0</td>\n",
       "      <td>0</td>\n",
       "    </tr>\n",
       "  </tbody>\n",
       "</table>\n",
       "</div>"
      ],
      "text/plain": [
       "       id        lat       long  prediction  error\n",
       "0  314812  40.466737 -79.708578           0      0\n",
       "1  315587  40.445413 -79.804255           0      0\n",
       "2  318468  40.452267 -79.801333           0      0\n",
       "3  457748  40.450123 -79.799833           0      0\n",
       "4  319473  40.443532 -79.740358           0      0\n",
       "5  458374  40.520053 -79.784539           0      0\n",
       "6  319778  40.608447 -79.777244           0      0\n",
       "7  320222  40.453754 -79.811168           0      0\n",
       "8  320681  40.471195 -79.784846           0      0\n",
       "9  363493  40.629263 -79.725169           0      0"
      ]
     },
     "execution_count": 43,
     "metadata": {},
     "output_type": "execute_result"
    }
   ],
   "source": [
    "quadrants_df = pd.concat(quadrants, ignore_index=True)\n",
    "\n",
    "error_df_soos = pd.DataFrame(\n",
    "    data={\"id\": quadrants_df[\"_id\"],\n",
    "          \"lat\": quadrants_df[\"latitude\"],\n",
    "          \"long\": quadrants_df[\"longitude\"],\n",
    "          \"prediction\": 0,\n",
    "          \"error\": 0})\n",
    "error_df_soos.head(10)"
   ]
  },
  {
   "cell_type": "code",
   "execution_count": 44,
   "metadata": {
    "scrolled": false
   },
   "outputs": [
    {
     "name": "stdout",
     "output_type": "stream",
     "text": [
      "Quadrant: 1\n",
      "MAE:  46954\n",
      "RMSE: 71537\n",
      "MAPE: 28.22%\n",
      "R^2:  0.79\n",
      "\n",
      "Quadrant: 2\n",
      "MAE:  44706\n",
      "RMSE: 69199\n",
      "MAPE: 19.67%\n",
      "R^2:  0.782\n",
      "\n",
      "Quadrant: 3\n",
      "MAE:  44225\n",
      "RMSE: 63642\n",
      "MAPE: 19.38%\n",
      "R^2:  0.688\n",
      "\n",
      "Quadrant: 4\n",
      "MAE:  37423\n",
      "RMSE: 48436\n",
      "MAPE: 39.12%\n",
      "R^2:  0.74\n",
      "\n",
      "Average:\n",
      "MAE:  43327\n",
      "RMSE: 63203\n",
      "MAPE: 26.6%\n",
      "R^2:  0.75\n"
     ]
    }
   ],
   "source": [
    "y_preds = []\n",
    "errors = []\n",
    "maes, rmses, mapes, r_squareds = [], [], [], []\n",
    "\n",
    "for i, quadrant in enumerate(quadrants):\n",
    "    train = pd.concat(quadrants[:i] + quadrants[i+1:])\n",
    "    test = quadrants[i]\n",
    "    \n",
    "    train = train.drop([\"_id\", \"PROPERTYZIP\", \"MUNICODE\", \"SCHOOLCODE\", \"NEIGHCODE\", \"SALEDATE\",\n",
    "                        \"FAIRMARKETTOTAL\", \"latitude\", \"longitude\", \"SALEYEAR\"], axis=1)\n",
    "    test = test.drop([\"_id\", \"PROPERTYZIP\", \"MUNICODE\", \"SCHOOLCODE\", \"NEIGHCODE\", \"SALEDATE\",\n",
    "                      \"FAIRMARKETTOTAL\", \"latitude\", \"longitude\", \"SALEYEAR\"], axis=1)\n",
    "    \n",
    "    X_train = train.drop([\"SALEPRICE\"], axis=1).to_numpy()\n",
    "    y_train = train[\"SALEPRICE\"].to_numpy()\n",
    "    \n",
    "    X_test = test.drop([\"SALEPRICE\"], axis=1).to_numpy()\n",
    "    y_test = test[\"SALEPRICE\"].to_numpy()\n",
    "    \n",
    "    model_cv = CatBoostRegressor()\n",
    "    model_cv.fit(X=X_train, y=y_train, verbose=False)\n",
    "    \n",
    "    y_pred_cv = model_cv.predict(X_test)\n",
    "    y_preds.extend(y_pred_cv)\n",
    "    errors.extend([test - pred for test, pred in zip(y_test, y_pred_cv)])\n",
    "    \n",
    "    print(f\"Quadrant: {i+1}\")\n",
    "    mae, rmse, mape, r_squared = get_metrics(y_test, y_pred_cv)\n",
    "    maes.append(mae)\n",
    "    rmses.append(rmse)\n",
    "    mapes.append(mape)\n",
    "    r_squareds.append(r_squared)\n",
    "    \n",
    "    print(\"\")\n",
    "\n",
    "error_df_soos[\"prediction\"] = y_preds\n",
    "error_df_soos[\"error\"] = errors\n",
    "    \n",
    "print(\"Average:\")\n",
    "print(f\"MAE:  {round(np.mean(maes))}\")\n",
    "print(f\"RMSE: {round(np.mean(rmses))}\")\n",
    "print(f\"MAPE: {round(np.mean(mapes), 2)}%\")\n",
    "print(f\"R^2:  {round(np.mean(r_squareds), 3)}\")"
   ]
  },
  {
   "cell_type": "code",
   "execution_count": 45,
   "metadata": {},
   "outputs": [
    {
     "data": {
      "text/html": [
       "<div>\n",
       "<style scoped>\n",
       "    .dataframe tbody tr th:only-of-type {\n",
       "        vertical-align: middle;\n",
       "    }\n",
       "\n",
       "    .dataframe tbody tr th {\n",
       "        vertical-align: top;\n",
       "    }\n",
       "\n",
       "    .dataframe thead th {\n",
       "        text-align: right;\n",
       "    }\n",
       "</style>\n",
       "<table border=\"1\" class=\"dataframe\">\n",
       "  <thead>\n",
       "    <tr style=\"text-align: right;\">\n",
       "      <th></th>\n",
       "      <th>id</th>\n",
       "      <th>lat</th>\n",
       "      <th>long</th>\n",
       "      <th>prediction</th>\n",
       "      <th>error</th>\n",
       "    </tr>\n",
       "  </thead>\n",
       "  <tbody>\n",
       "    <tr>\n",
       "      <th>0</th>\n",
       "      <td>314812</td>\n",
       "      <td>40.466737</td>\n",
       "      <td>-79.708578</td>\n",
       "      <td>239094.263713</td>\n",
       "      <td>-64194.263713</td>\n",
       "    </tr>\n",
       "    <tr>\n",
       "      <th>1</th>\n",
       "      <td>315587</td>\n",
       "      <td>40.445413</td>\n",
       "      <td>-79.804255</td>\n",
       "      <td>205395.398990</td>\n",
       "      <td>-32895.398990</td>\n",
       "    </tr>\n",
       "    <tr>\n",
       "      <th>2</th>\n",
       "      <td>318468</td>\n",
       "      <td>40.452267</td>\n",
       "      <td>-79.801333</td>\n",
       "      <td>161310.500492</td>\n",
       "      <td>-46410.500492</td>\n",
       "    </tr>\n",
       "    <tr>\n",
       "      <th>3</th>\n",
       "      <td>457748</td>\n",
       "      <td>40.450123</td>\n",
       "      <td>-79.799833</td>\n",
       "      <td>152277.340099</td>\n",
       "      <td>-5277.340099</td>\n",
       "    </tr>\n",
       "    <tr>\n",
       "      <th>4</th>\n",
       "      <td>319473</td>\n",
       "      <td>40.443532</td>\n",
       "      <td>-79.740358</td>\n",
       "      <td>127385.929395</td>\n",
       "      <td>19064.070605</td>\n",
       "    </tr>\n",
       "    <tr>\n",
       "      <th>5</th>\n",
       "      <td>458374</td>\n",
       "      <td>40.520053</td>\n",
       "      <td>-79.784539</td>\n",
       "      <td>329461.380277</td>\n",
       "      <td>-61461.380277</td>\n",
       "    </tr>\n",
       "    <tr>\n",
       "      <th>6</th>\n",
       "      <td>319778</td>\n",
       "      <td>40.608447</td>\n",
       "      <td>-79.777244</td>\n",
       "      <td>174577.749271</td>\n",
       "      <td>24722.250729</td>\n",
       "    </tr>\n",
       "    <tr>\n",
       "      <th>7</th>\n",
       "      <td>320222</td>\n",
       "      <td>40.453754</td>\n",
       "      <td>-79.811168</td>\n",
       "      <td>215465.139657</td>\n",
       "      <td>-58965.139657</td>\n",
       "    </tr>\n",
       "    <tr>\n",
       "      <th>8</th>\n",
       "      <td>320681</td>\n",
       "      <td>40.471195</td>\n",
       "      <td>-79.784846</td>\n",
       "      <td>119807.779119</td>\n",
       "      <td>-59807.779119</td>\n",
       "    </tr>\n",
       "    <tr>\n",
       "      <th>9</th>\n",
       "      <td>363493</td>\n",
       "      <td>40.629263</td>\n",
       "      <td>-79.725169</td>\n",
       "      <td>162364.184781</td>\n",
       "      <td>-23364.184781</td>\n",
       "    </tr>\n",
       "  </tbody>\n",
       "</table>\n",
       "</div>"
      ],
      "text/plain": [
       "       id        lat       long     prediction         error\n",
       "0  314812  40.466737 -79.708578  239094.263713 -64194.263713\n",
       "1  315587  40.445413 -79.804255  205395.398990 -32895.398990\n",
       "2  318468  40.452267 -79.801333  161310.500492 -46410.500492\n",
       "3  457748  40.450123 -79.799833  152277.340099  -5277.340099\n",
       "4  319473  40.443532 -79.740358  127385.929395  19064.070605\n",
       "5  458374  40.520053 -79.784539  329461.380277 -61461.380277\n",
       "6  319778  40.608447 -79.777244  174577.749271  24722.250729\n",
       "7  320222  40.453754 -79.811168  215465.139657 -58965.139657\n",
       "8  320681  40.471195 -79.784846  119807.779119 -59807.779119\n",
       "9  363493  40.629263 -79.725169  162364.184781 -23364.184781"
      ]
     },
     "execution_count": 45,
     "metadata": {},
     "output_type": "execute_result"
    }
   ],
   "source": [
    "error_df_soos.head(10)"
   ]
  },
  {
   "cell_type": "code",
   "execution_count": 46,
   "metadata": {},
   "outputs": [],
   "source": [
    "error_df_soos.to_csv(PATH+\"results/errors_soos_wiki.csv\", index=False)"
   ]
  },
  {
   "cell_type": "markdown",
   "metadata": {},
   "source": [
    "## Exploring solution"
   ]
  },
  {
   "cell_type": "markdown",
   "metadata": {},
   "source": [
    "### Category features"
   ]
  },
  {
   "cell_type": "code",
   "execution_count": 47,
   "metadata": {},
   "outputs": [
    {
     "data": {
      "text/html": [
       "<div>\n",
       "<style scoped>\n",
       "    .dataframe tbody tr th:only-of-type {\n",
       "        vertical-align: middle;\n",
       "    }\n",
       "\n",
       "    .dataframe tbody tr th {\n",
       "        vertical-align: top;\n",
       "    }\n",
       "\n",
       "    .dataframe thead th {\n",
       "        text-align: right;\n",
       "    }\n",
       "</style>\n",
       "<table border=\"1\" class=\"dataframe\">\n",
       "  <thead>\n",
       "    <tr style=\"text-align: right;\">\n",
       "      <th></th>\n",
       "      <th>feature</th>\n",
       "      <th>coef</th>\n",
       "    </tr>\n",
       "  </thead>\n",
       "  <tbody>\n",
       "    <tr>\n",
       "      <th>8</th>\n",
       "      <td>skyscraper_dist</td>\n",
       "      <td>-4.782086</td>\n",
       "    </tr>\n",
       "    <tr>\n",
       "      <th>6</th>\n",
       "      <td>tourist attraction_dist</td>\n",
       "      <td>-4.249049</td>\n",
       "    </tr>\n",
       "    <tr>\n",
       "      <th>4</th>\n",
       "      <td>river_dist</td>\n",
       "      <td>-2.755481</td>\n",
       "    </tr>\n",
       "    <tr>\n",
       "      <th>14</th>\n",
       "      <td>museum_dist</td>\n",
       "      <td>-2.501638</td>\n",
       "    </tr>\n",
       "    <tr>\n",
       "      <th>16</th>\n",
       "      <td>railway station_dist</td>\n",
       "      <td>-1.436010</td>\n",
       "    </tr>\n",
       "    <tr>\n",
       "      <th>2</th>\n",
       "      <td>bridge_dist</td>\n",
       "      <td>-0.918393</td>\n",
       "    </tr>\n",
       "    <tr>\n",
       "      <th>26</th>\n",
       "      <td>librar_dist</td>\n",
       "      <td>-0.737401</td>\n",
       "    </tr>\n",
       "    <tr>\n",
       "      <th>24</th>\n",
       "      <td>music venue_dist</td>\n",
       "      <td>-0.724933</td>\n",
       "    </tr>\n",
       "    <tr>\n",
       "      <th>12</th>\n",
       "      <td>universit_dist</td>\n",
       "      <td>-0.722572</td>\n",
       "    </tr>\n",
       "    <tr>\n",
       "      <th>20</th>\n",
       "      <td>sports venue_dist</td>\n",
       "      <td>0.279702</td>\n",
       "    </tr>\n",
       "  </tbody>\n",
       "</table>\n",
       "</div>"
      ],
      "text/plain": [
       "                    feature      coef\n",
       "8           skyscraper_dist -4.782086\n",
       "6   tourist attraction_dist -4.249049\n",
       "4                river_dist -2.755481\n",
       "14              museum_dist -2.501638\n",
       "16     railway station_dist -1.436010\n",
       "2               bridge_dist -0.918393\n",
       "26              librar_dist -0.737401\n",
       "24         music venue_dist -0.724933\n",
       "12           universit_dist -0.722572\n",
       "20        sports venue_dist  0.279702"
      ]
     },
     "execution_count": 47,
     "metadata": {},
     "output_type": "execute_result"
    }
   ],
   "source": [
    "category_coef_df = pd.DataFrame(data={\"feature\": X_columns_cat[53:], \"coef\": model_05.coef_[53:]})\n",
    "category_coef_df_dist = category_coef_df[category_coef_df[\"feature\"].str.contains(\"dist\")]\n",
    "category_coef_df_dist.sort_values(by=[\"coef\"], ascending=True).head(10)"
   ]
  },
  {
   "cell_type": "markdown",
   "metadata": {},
   "source": [
    "### Text features"
   ]
  },
  {
   "cell_type": "markdown",
   "metadata": {},
   "source": [
    "Feature importance for best model"
   ]
  },
  {
   "cell_type": "code",
   "execution_count": 48,
   "metadata": {},
   "outputs": [
    {
     "data": {
      "text/plain": [
       "[('actor', 0.9074641569875287),\n",
       " ('shadyside', 0.7386735849269496),\n",
       " ('arena', 0.53078450869351),\n",
       " ('importance', 0.5148471064017115),\n",
       " ('presbyterian church', 0.508134544603739),\n",
       " ('fine', 0.46800831313390423),\n",
       " ('farms', 0.4545474597414473),\n",
       " ('study released', 0.45004445472381005),\n",
       " ('places nris', 0.42662576219796483),\n",
       " ('theater', 0.3780158741502531),\n",
       " ('auditorium', 0.37285824769017084),\n",
       " ('term', 0.3625626456632759),\n",
       " ('subdivision type', 0.3608031230516139),\n",
       " ('richard', 0.3315322094681271),\n",
       " ('released', 0.32653817852574957)]"
      ]
     },
     "execution_count": 48,
     "metadata": {},
     "output_type": "execute_result"
    }
   ],
   "source": [
    "sorted(list(zip(X_columns_text[53:], model_04.get_feature_importance()[53:])), key=lambda x: x[1], reverse=True)[:15]"
   ]
  },
  {
   "cell_type": "code",
   "execution_count": 49,
   "metadata": {},
   "outputs": [],
   "source": [
    "to_drop = [\"_id\", \"PROPERTYZIP\", \"MUNICODE\", \"SCHOOLCODE\", \"NEIGHCODE\", \"SALEDATE\",\n",
    "           \"SALEPRICE\", \"FAIRMARKETTOTAL\", \"latitude\", \"longitude\", \"SALEYEAR\"]\n",
    "word_df = structured_wiki_text.drop(to_drop, axis=1)"
   ]
  },
  {
   "cell_type": "code",
   "execution_count": 50,
   "metadata": {
    "scrolled": true
   },
   "outputs": [
    {
     "name": "stdout",
     "output_type": "stream",
     "text": [
      "Intercept: -389543.2008813888\n"
     ]
    },
    {
     "data": {
      "text/html": [
       "<div>\n",
       "<style scoped>\n",
       "    .dataframe tbody tr th:only-of-type {\n",
       "        vertical-align: middle;\n",
       "    }\n",
       "\n",
       "    .dataframe tbody tr th {\n",
       "        vertical-align: top;\n",
       "    }\n",
       "\n",
       "    .dataframe thead th {\n",
       "        text-align: right;\n",
       "    }\n",
       "</style>\n",
       "<table border=\"1\" class=\"dataframe\">\n",
       "  <thead>\n",
       "    <tr style=\"text-align: right;\">\n",
       "      <th></th>\n",
       "      <th>feature</th>\n",
       "      <th>coef</th>\n",
       "    </tr>\n",
       "  </thead>\n",
       "  <tbody>\n",
       "    <tr>\n",
       "      <th>0</th>\n",
       "      <td>abandoned</td>\n",
       "      <td>24083.976991</td>\n",
       "    </tr>\n",
       "    <tr>\n",
       "      <th>1</th>\n",
       "      <td>ability</td>\n",
       "      <td>-2892.113790</td>\n",
       "    </tr>\n",
       "    <tr>\n",
       "      <th>2</th>\n",
       "      <td>able</td>\n",
       "      <td>6163.985314</td>\n",
       "    </tr>\n",
       "    <tr>\n",
       "      <th>3</th>\n",
       "      <td>academic</td>\n",
       "      <td>-12292.110740</td>\n",
       "    </tr>\n",
       "    <tr>\n",
       "      <th>4</th>\n",
       "      <td>academic achievement</td>\n",
       "      <td>-554.278494</td>\n",
       "    </tr>\n",
       "    <tr>\n",
       "      <th>5</th>\n",
       "      <td>academic performance</td>\n",
       "      <td>-1297.113297</td>\n",
       "    </tr>\n",
       "    <tr>\n",
       "      <th>6</th>\n",
       "      <td>academics</td>\n",
       "      <td>1084.694866</td>\n",
       "    </tr>\n",
       "    <tr>\n",
       "      <th>7</th>\n",
       "      <td>academy</td>\n",
       "      <td>13593.089473</td>\n",
       "    </tr>\n",
       "    <tr>\n",
       "      <th>8</th>\n",
       "      <td>accept</td>\n",
       "      <td>1976.021603</td>\n",
       "    </tr>\n",
       "    <tr>\n",
       "      <th>9</th>\n",
       "      <td>accept credits</td>\n",
       "      <td>441.099921</td>\n",
       "    </tr>\n",
       "    <tr>\n",
       "      <th>10</th>\n",
       "      <td>access</td>\n",
       "      <td>15550.373382</td>\n",
       "    </tr>\n",
       "    <tr>\n",
       "      <th>11</th>\n",
       "      <td>access activities</td>\n",
       "      <td>98.281946</td>\n",
       "    </tr>\n",
       "    <tr>\n",
       "      <th>12</th>\n",
       "      <td>accessed</td>\n",
       "      <td>-1112.756982</td>\n",
       "    </tr>\n",
       "    <tr>\n",
       "      <th>13</th>\n",
       "      <td>accessible</td>\n",
       "      <td>-11224.546230</td>\n",
       "    </tr>\n",
       "    <tr>\n",
       "      <th>14</th>\n",
       "      <td>accommodate</td>\n",
       "      <td>7386.465962</td>\n",
       "    </tr>\n",
       "    <tr>\n",
       "      <th>15</th>\n",
       "      <td>according</td>\n",
       "      <td>5719.596189</td>\n",
       "    </tr>\n",
       "    <tr>\n",
       "      <th>16</th>\n",
       "      <td>according national</td>\n",
       "      <td>-2429.555656</td>\n",
       "    </tr>\n",
       "    <tr>\n",
       "      <th>17</th>\n",
       "      <td>according pennsylvania</td>\n",
       "      <td>5002.893152</td>\n",
       "    </tr>\n",
       "    <tr>\n",
       "      <th>18</th>\n",
       "      <td>according report</td>\n",
       "      <td>-1931.910491</td>\n",
       "    </tr>\n",
       "    <tr>\n",
       "      <th>19</th>\n",
       "      <td>according united</td>\n",
       "      <td>619.683587</td>\n",
       "    </tr>\n",
       "    <tr>\n",
       "      <th>20</th>\n",
       "      <td>account</td>\n",
       "      <td>7603.333201</td>\n",
       "    </tr>\n",
       "    <tr>\n",
       "      <th>21</th>\n",
       "      <td>achieve</td>\n",
       "      <td>-3746.086036</td>\n",
       "    </tr>\n",
       "    <tr>\n",
       "      <th>22</th>\n",
       "      <td>achieved</td>\n",
       "      <td>-5727.122846</td>\n",
       "    </tr>\n",
       "    <tr>\n",
       "      <th>23</th>\n",
       "      <td>achieved ayp</td>\n",
       "      <td>-1017.307229</td>\n",
       "    </tr>\n",
       "    <tr>\n",
       "      <th>24</th>\n",
       "      <td>achievement</td>\n",
       "      <td>-3490.430096</td>\n",
       "    </tr>\n",
       "    <tr>\n",
       "      <th>25</th>\n",
       "      <td>achievement report</td>\n",
       "      <td>-4745.254442</td>\n",
       "    </tr>\n",
       "    <tr>\n",
       "      <th>26</th>\n",
       "      <td>acquired</td>\n",
       "      <td>8494.759873</td>\n",
       "    </tr>\n",
       "    <tr>\n",
       "      <th>27</th>\n",
       "      <td>acre</td>\n",
       "      <td>12302.982961</td>\n",
       "    </tr>\n",
       "    <tr>\n",
       "      <th>28</th>\n",
       "      <td>acres</td>\n",
       "      <td>-4888.637059</td>\n",
       "    </tr>\n",
       "    <tr>\n",
       "      <th>29</th>\n",
       "      <td>across</td>\n",
       "      <td>-21331.946976</td>\n",
       "    </tr>\n",
       "    <tr>\n",
       "      <th>30</th>\n",
       "      <td>across allegheny</td>\n",
       "      <td>-11756.345733</td>\n",
       "    </tr>\n",
       "    <tr>\n",
       "      <th>31</th>\n",
       "      <td>across monongahela</td>\n",
       "      <td>-3425.381113</td>\n",
       "    </tr>\n",
       "    <tr>\n",
       "      <th>32</th>\n",
       "      <td>act</td>\n",
       "      <td>-4115.830491</td>\n",
       "    </tr>\n",
       "    <tr>\n",
       "      <th>33</th>\n",
       "      <td>action</td>\n",
       "      <td>846.429417</td>\n",
       "    </tr>\n",
       "    <tr>\n",
       "      <th>34</th>\n",
       "      <td>actions</td>\n",
       "      <td>4058.210952</td>\n",
       "    </tr>\n",
       "    <tr>\n",
       "      <th>35</th>\n",
       "      <td>active</td>\n",
       "      <td>-5602.837374</td>\n",
       "    </tr>\n",
       "    <tr>\n",
       "      <th>36</th>\n",
       "      <td>activities</td>\n",
       "      <td>-22084.476930</td>\n",
       "    </tr>\n",
       "    <tr>\n",
       "      <th>37</th>\n",
       "      <td>activities programs</td>\n",
       "      <td>-3995.743459</td>\n",
       "    </tr>\n",
       "    <tr>\n",
       "      <th>38</th>\n",
       "      <td>activity</td>\n",
       "      <td>1470.107888</td>\n",
       "    </tr>\n",
       "    <tr>\n",
       "      <th>39</th>\n",
       "      <td>actor</td>\n",
       "      <td>1909.226620</td>\n",
       "    </tr>\n",
       "    <tr>\n",
       "      <th>40</th>\n",
       "      <td>actress</td>\n",
       "      <td>3108.571672</td>\n",
       "    </tr>\n",
       "    <tr>\n",
       "      <th>41</th>\n",
       "      <td>actually</td>\n",
       "      <td>-829.397533</td>\n",
       "    </tr>\n",
       "    <tr>\n",
       "      <th>42</th>\n",
       "      <td>add</td>\n",
       "      <td>-3964.288887</td>\n",
       "    </tr>\n",
       "    <tr>\n",
       "      <th>43</th>\n",
       "      <td>added</td>\n",
       "      <td>-3811.874244</td>\n",
       "    </tr>\n",
       "    <tr>\n",
       "      <th>44</th>\n",
       "      <td>added list</td>\n",
       "      <td>-8769.504009</td>\n",
       "    </tr>\n",
       "    <tr>\n",
       "      <th>45</th>\n",
       "      <td>added national</td>\n",
       "      <td>-11534.280583</td>\n",
       "    </tr>\n",
       "    <tr>\n",
       "      <th>46</th>\n",
       "      <td>adding</td>\n",
       "      <td>784.751683</td>\n",
       "    </tr>\n",
       "    <tr>\n",
       "      <th>47</th>\n",
       "      <td>addition</td>\n",
       "      <td>4021.233128</td>\n",
       "    </tr>\n",
       "    <tr>\n",
       "      <th>48</th>\n",
       "      <td>additional</td>\n",
       "      <td>2365.955895</td>\n",
       "    </tr>\n",
       "    <tr>\n",
       "      <th>49</th>\n",
       "      <td>additional fields</td>\n",
       "      <td>1350.441568</td>\n",
       "    </tr>\n",
       "    <tr>\n",
       "      <th>50</th>\n",
       "      <td>additionally</td>\n",
       "      <td>-8395.566381</td>\n",
       "    </tr>\n",
       "    <tr>\n",
       "      <th>51</th>\n",
       "      <td>address</td>\n",
       "      <td>7984.921543</td>\n",
       "    </tr>\n",
       "    <tr>\n",
       "      <th>52</th>\n",
       "      <td>adjacent</td>\n",
       "      <td>4117.002723</td>\n",
       "    </tr>\n",
       "  </tbody>\n",
       "</table>\n",
       "</div>"
      ],
      "text/plain": [
       "                   feature          coef\n",
       "0                abandoned  24083.976991\n",
       "1                  ability  -2892.113790\n",
       "2                     able   6163.985314\n",
       "3                 academic -12292.110740\n",
       "4     academic achievement   -554.278494\n",
       "5     academic performance  -1297.113297\n",
       "6                academics   1084.694866\n",
       "7                  academy  13593.089473\n",
       "8                   accept   1976.021603\n",
       "9           accept credits    441.099921\n",
       "10                  access  15550.373382\n",
       "11       access activities     98.281946\n",
       "12                accessed  -1112.756982\n",
       "13              accessible -11224.546230\n",
       "14             accommodate   7386.465962\n",
       "15               according   5719.596189\n",
       "16      according national  -2429.555656\n",
       "17  according pennsylvania   5002.893152\n",
       "18        according report  -1931.910491\n",
       "19        according united    619.683587\n",
       "20                 account   7603.333201\n",
       "21                 achieve  -3746.086036\n",
       "22                achieved  -5727.122846\n",
       "23            achieved ayp  -1017.307229\n",
       "24             achievement  -3490.430096\n",
       "25      achievement report  -4745.254442\n",
       "26                acquired   8494.759873\n",
       "27                    acre  12302.982961\n",
       "28                   acres  -4888.637059\n",
       "29                  across -21331.946976\n",
       "30        across allegheny -11756.345733\n",
       "31      across monongahela  -3425.381113\n",
       "32                     act  -4115.830491\n",
       "33                  action    846.429417\n",
       "34                 actions   4058.210952\n",
       "35                  active  -5602.837374\n",
       "36              activities -22084.476930\n",
       "37     activities programs  -3995.743459\n",
       "38                activity   1470.107888\n",
       "39                   actor   1909.226620\n",
       "40                 actress   3108.571672\n",
       "41                actually   -829.397533\n",
       "42                     add  -3964.288887\n",
       "43                   added  -3811.874244\n",
       "44              added list  -8769.504009\n",
       "45          added national -11534.280583\n",
       "46                  adding    784.751683\n",
       "47                addition   4021.233128\n",
       "48              additional   2365.955895\n",
       "49       additional fields   1350.441568\n",
       "50            additionally  -8395.566381\n",
       "51                 address   7984.921543\n",
       "52                adjacent   4117.002723"
      ]
     },
     "execution_count": 50,
     "metadata": {},
     "output_type": "execute_result"
    }
   ],
   "source": [
    "print(f\"Intercept: {model_03.intercept_}\")\n",
    "word_coef_df = pd.DataFrame(data={\"feature\": word_df.columns[53:], \"coef\": model_03.coef_[53:]})\n",
    "word_coef_lookup = {word:coef for (word, coef) in zip(word_df.columns[53:], model_03.coef_[53:])}\n",
    "word_coef_df.head(53)"
   ]
  },
  {
   "cell_type": "markdown",
   "metadata": {},
   "source": [
    "The next cell prints the coefficient for a specific word."
   ]
  },
  {
   "cell_type": "code",
   "execution_count": 51,
   "metadata": {},
   "outputs": [
    {
     "name": "stdout",
     "output_type": "stream",
     "text": [
      "Coefficient for \"hospital\" is -17415.15\n"
     ]
    }
   ],
   "source": [
    "word_to_test = \"hospital\"\n",
    "\n",
    "coef = word_coef_lookup[word_to_test]\n",
    "print(f\"Coefficient for \\\"{word_to_test}\\\" is {round(float(coef), 2)}\")"
   ]
  },
  {
   "cell_type": "markdown",
   "metadata": {},
   "source": [
    "Find out most and least valuable words"
   ]
  },
  {
   "cell_type": "code",
   "execution_count": 58,
   "metadata": {},
   "outputs": [
    {
     "data": {
      "text/html": [
       "<style  type=\"text/css\" >\n",
       "</style><table id=\"T_55a7a_\" style='display:inline'><caption>Most valuable words</caption><thead>    <tr>        <th class=\"blank level0\" ></th>        <th class=\"col_heading level0 col0\" >feature</th>        <th class=\"col_heading level0 col1\" >coef</th>    </tr></thead><tbody>\n",
       "                <tr>\n",
       "                        <th id=\"T_55a7a_level0_row0\" class=\"row_heading level0 row0\" >2183</th>\n",
       "                        <td id=\"T_55a7a_row0_col0\" class=\"data row0 col0\" >public library</td>\n",
       "                        <td id=\"T_55a7a_row0_col1\" class=\"data row0 col1\" >54346.230075</td>\n",
       "            </tr>\n",
       "            <tr>\n",
       "                        <th id=\"T_55a7a_level0_row1\" class=\"row_heading level0 row1\" >245</th>\n",
       "                        <td id=\"T_55a7a_row1_col0\" class=\"data row1 col0\" >beaver county</td>\n",
       "                        <td id=\"T_55a7a_row1_col1\" class=\"data row1 col1\" >52467.372199</td>\n",
       "            </tr>\n",
       "            <tr>\n",
       "                        <th id=\"T_55a7a_level0_row2\" class=\"row_heading level0 row2\" >89</th>\n",
       "                        <td id=\"T_55a7a_row2_col0\" class=\"data row2 col0\" >allegheny river</td>\n",
       "                        <td id=\"T_55a7a_row2_col1\" class=\"data row2 col1\" >49186.659141</td>\n",
       "            </tr>\n",
       "            <tr>\n",
       "                        <th id=\"T_55a7a_level0_row3\" class=\"row_heading level0 row3\" >157</th>\n",
       "                        <td id=\"T_55a7a_row3_col0\" class=\"data row3 col0\" >arena</td>\n",
       "                        <td id=\"T_55a7a_row3_col1\" class=\"data row3 col1\" >46716.867155</td>\n",
       "            </tr>\n",
       "            <tr>\n",
       "                        <th id=\"T_55a7a_level0_row4\" class=\"row_heading level0 row4\" >1278</th>\n",
       "                        <td id=\"T_55a7a_row4_col0\" class=\"data row4 col0\" >hot</td>\n",
       "                        <td id=\"T_55a7a_row4_col1\" class=\"data row4 col1\" >40884.806543</td>\n",
       "            </tr>\n",
       "            <tr>\n",
       "                        <th id=\"T_55a7a_level0_row5\" class=\"row_heading level0 row5\" >244</th>\n",
       "                        <td id=\"T_55a7a_row5_col0\" class=\"data row5 col0\" >beaver</td>\n",
       "                        <td id=\"T_55a7a_row5_col1\" class=\"data row5 col1\" >39181.433845</td>\n",
       "            </tr>\n",
       "            <tr>\n",
       "                        <th id=\"T_55a7a_level0_row6\" class=\"row_heading level0 row6\" >457</th>\n",
       "                        <td id=\"T_55a7a_row6_col0\" class=\"data row6 col0\" >championship</td>\n",
       "                        <td id=\"T_55a7a_row6_col1\" class=\"data row6 col1\" >38509.366119</td>\n",
       "            </tr>\n",
       "            <tr>\n",
       "                        <th id=\"T_55a7a_level0_row7\" class=\"row_heading level0 row7\" >1995</th>\n",
       "                        <td id=\"T_55a7a_row7_col0\" class=\"data row7 col0\" >perry</td>\n",
       "                        <td id=\"T_55a7a_row7_col1\" class=\"data row7 col1\" >37159.361288</td>\n",
       "            </tr>\n",
       "            <tr>\n",
       "                        <th id=\"T_55a7a_level0_row8\" class=\"row_heading level0 row8\" >2412</th>\n",
       "                        <td id=\"T_55a7a_row8_col0\" class=\"data row8 col0\" >room</td>\n",
       "                        <td id=\"T_55a7a_row8_col1\" class=\"data row8 col1\" >36657.254171</td>\n",
       "            </tr>\n",
       "            <tr>\n",
       "                        <th id=\"T_55a7a_level0_row9\" class=\"row_heading level0 row9\" >3064</th>\n",
       "                        <td id=\"T_55a7a_row9_col0\" class=\"data row9 col0\" >woods</td>\n",
       "                        <td id=\"T_55a7a_row9_col1\" class=\"data row9 col1\" >36543.611423</td>\n",
       "            </tr>\n",
       "    </tbody></table><style  type=\"text/css\" >\n",
       "</style><table id=\"T_8e73d_\" style='display:inline'><caption>Least valuable words</caption><thead>    <tr>        <th class=\"blank level0\" ></th>        <th class=\"col_heading level0 col0\" >feature</th>        <th class=\"col_heading level0 col1\" >coef</th>    </tr></thead><tbody>\n",
       "                <tr>\n",
       "                        <th id=\"T_8e73d_level0_row0\" class=\"row_heading level0 row0\" >486</th>\n",
       "                        <td id=\"T_8e73d_row0_col0\" class=\"data row0 col0\" >city</td>\n",
       "                        <td id=\"T_8e73d_row0_col1\" class=\"data row0 col1\" >-64829.121676</td>\n",
       "            </tr>\n",
       "            <tr>\n",
       "                        <th id=\"T_8e73d_level0_row1\" class=\"row_heading level0 row1\" >2947</th>\n",
       "                        <td id=\"T_8e73d_row1_col0\" class=\"data row1 col0\" >upmc</td>\n",
       "                        <td id=\"T_8e73d_row1_col1\" class=\"data row1 col1\" >-51108.612326</td>\n",
       "            </tr>\n",
       "            <tr>\n",
       "                        <th id=\"T_8e73d_level0_row2\" class=\"row_heading level0 row2\" >2692</th>\n",
       "                        <td id=\"T_8e73d_row2_col0\" class=\"data row2 col0\" >stop</td>\n",
       "                        <td id=\"T_8e73d_row2_col1\" class=\"data row2 col1\" >-49196.311741</td>\n",
       "            </tr>\n",
       "            <tr>\n",
       "                        <th id=\"T_8e73d_level0_row3\" class=\"row_heading level0 row3\" >795</th>\n",
       "                        <td id=\"T_8e73d_row3_col0\" class=\"data row3 col0\" >division</td>\n",
       "                        <td id=\"T_8e73d_row3_col1\" class=\"data row3 col1\" >-48105.160627</td>\n",
       "            </tr>\n",
       "            <tr>\n",
       "                        <th id=\"T_8e73d_level0_row4\" class=\"row_heading level0 row4\" >1902</th>\n",
       "                        <td id=\"T_8e73d_row4_col0\" class=\"data row4 col0\" >original</td>\n",
       "                        <td id=\"T_8e73d_row4_col1\" class=\"data row4 col1\" >-44033.307246</td>\n",
       "            </tr>\n",
       "            <tr>\n",
       "                        <th id=\"T_8e73d_level0_row5\" class=\"row_heading level0 row5\" >2447</th>\n",
       "                        <td id=\"T_8e73d_row5_col0\" class=\"data row5 col0\" >schenley</td>\n",
       "                        <td id=\"T_8e73d_row5_col1\" class=\"data row5 col1\" >-42149.473338</td>\n",
       "            </tr>\n",
       "            <tr>\n",
       "                        <th id=\"T_8e73d_level0_row6\" class=\"row_heading level0 row6\" >2982</th>\n",
       "                        <td id=\"T_8e73d_row6_col0\" class=\"data row6 col0\" >village</td>\n",
       "                        <td id=\"T_8e73d_row6_col1\" class=\"data row6 col1\" >-41429.307662</td>\n",
       "            </tr>\n",
       "            <tr>\n",
       "                        <th id=\"T_8e73d_level0_row7\" class=\"row_heading level0 row7\" >680</th>\n",
       "                        <td id=\"T_8e73d_row7_col0\" class=\"data row7 col0\" >current</td>\n",
       "                        <td id=\"T_8e73d_row7_col1\" class=\"data row7 col1\" >-39701.980966</td>\n",
       "            </tr>\n",
       "            <tr>\n",
       "                        <th id=\"T_8e73d_level0_row8\" class=\"row_heading level0 row8\" >1890</th>\n",
       "                        <td id=\"T_8e73d_row8_col0\" class=\"data row8 col0\" >operation</td>\n",
       "                        <td id=\"T_8e73d_row8_col1\" class=\"data row8 col1\" >-38352.610833</td>\n",
       "            </tr>\n",
       "            <tr>\n",
       "                        <th id=\"T_8e73d_level0_row9\" class=\"row_heading level0 row9\" >650</th>\n",
       "                        <td id=\"T_8e73d_row9_col0\" class=\"data row9 col0\" >course</td>\n",
       "                        <td id=\"T_8e73d_row9_col1\" class=\"data row9 col1\" >-38132.547414</td>\n",
       "            </tr>\n",
       "    </tbody></table>"
      ]
     },
     "metadata": {},
     "output_type": "display_data"
    }
   ],
   "source": [
    "best_words = word_coef_df.sort_values(by=[\"coef\"], ascending=False).head(10)\n",
    "worst_words = word_coef_df.sort_values(by=[\"coef\"], ascending=True).head(10)\n",
    "\n",
    "df1_styler = best_words.style.set_table_attributes(\"style='display:inline'\").set_caption('Most valuable words')\n",
    "df2_styler = worst_words.style.set_table_attributes(\"style='display:inline'\").set_caption('Least valuable words')\n",
    "\n",
    "display_html(df1_styler._repr_html_()+df2_styler._repr_html_(), raw=True)"
   ]
  },
  {
   "cell_type": "markdown",
   "metadata": {},
   "source": [
    "### Add article with highest word count (highest impact) for top negative/positive words"
   ]
  },
  {
   "cell_type": "code",
   "execution_count": 53,
   "metadata": {},
   "outputs": [
    {
     "data": {
      "text/html": [
       "<div>\n",
       "<style scoped>\n",
       "    .dataframe tbody tr th:only-of-type {\n",
       "        vertical-align: middle;\n",
       "    }\n",
       "\n",
       "    .dataframe tbody tr th {\n",
       "        vertical-align: top;\n",
       "    }\n",
       "\n",
       "    .dataframe thead th {\n",
       "        text-align: right;\n",
       "    }\n",
       "</style>\n",
       "<table border=\"1\" class=\"dataframe\">\n",
       "  <thead>\n",
       "    <tr style=\"text-align: right;\">\n",
       "      <th></th>\n",
       "      <th>article_title</th>\n",
       "      <th>abandoned</th>\n",
       "      <th>ability</th>\n",
       "      <th>able</th>\n",
       "      <th>academic</th>\n",
       "      <th>academic achievement</th>\n",
       "      <th>academic performance</th>\n",
       "      <th>academics</th>\n",
       "      <th>academy</th>\n",
       "      <th>accept</th>\n",
       "      <th>...</th>\n",
       "      <th>yielding</th>\n",
       "      <th>yielding student</th>\n",
       "      <th>york</th>\n",
       "      <th>york city</th>\n",
       "      <th>youghiogheny</th>\n",
       "      <th>youghiogheny river</th>\n",
       "      <th>young</th>\n",
       "      <th>youth</th>\n",
       "      <th>zip</th>\n",
       "      <th>zip code</th>\n",
       "    </tr>\n",
       "  </thead>\n",
       "  <tbody>\n",
       "    <tr>\n",
       "      <th>0</th>\n",
       "      <td>Washington County Courthouse (Pennsylvania)</td>\n",
       "      <td>0</td>\n",
       "      <td>0</td>\n",
       "      <td>0</td>\n",
       "      <td>0</td>\n",
       "      <td>0</td>\n",
       "      <td>0</td>\n",
       "      <td>0</td>\n",
       "      <td>0</td>\n",
       "      <td>0</td>\n",
       "      <td>...</td>\n",
       "      <td>0</td>\n",
       "      <td>0</td>\n",
       "      <td>0</td>\n",
       "      <td>0</td>\n",
       "      <td>0</td>\n",
       "      <td>0</td>\n",
       "      <td>0</td>\n",
       "      <td>0</td>\n",
       "      <td>0</td>\n",
       "      <td>0</td>\n",
       "    </tr>\n",
       "    <tr>\n",
       "      <th>1</th>\n",
       "      <td>Wild Things Park</td>\n",
       "      <td>0</td>\n",
       "      <td>0</td>\n",
       "      <td>0</td>\n",
       "      <td>0</td>\n",
       "      <td>0</td>\n",
       "      <td>0</td>\n",
       "      <td>0</td>\n",
       "      <td>0</td>\n",
       "      <td>0</td>\n",
       "      <td>...</td>\n",
       "      <td>0</td>\n",
       "      <td>0</td>\n",
       "      <td>0</td>\n",
       "      <td>0</td>\n",
       "      <td>0</td>\n",
       "      <td>0</td>\n",
       "      <td>0</td>\n",
       "      <td>0</td>\n",
       "      <td>0</td>\n",
       "      <td>0</td>\n",
       "    </tr>\n",
       "    <tr>\n",
       "      <th>2</th>\n",
       "      <td>Thackeray Hall</td>\n",
       "      <td>0</td>\n",
       "      <td>0</td>\n",
       "      <td>0</td>\n",
       "      <td>2</td>\n",
       "      <td>0</td>\n",
       "      <td>0</td>\n",
       "      <td>0</td>\n",
       "      <td>0</td>\n",
       "      <td>0</td>\n",
       "      <td>...</td>\n",
       "      <td>0</td>\n",
       "      <td>0</td>\n",
       "      <td>0</td>\n",
       "      <td>0</td>\n",
       "      <td>0</td>\n",
       "      <td>0</td>\n",
       "      <td>0</td>\n",
       "      <td>0</td>\n",
       "      <td>0</td>\n",
       "      <td>0</td>\n",
       "    </tr>\n",
       "    <tr>\n",
       "      <th>3</th>\n",
       "      <td>Immaculate Heart of Mary Church (Pittsburgh)</td>\n",
       "      <td>0</td>\n",
       "      <td>0</td>\n",
       "      <td>0</td>\n",
       "      <td>0</td>\n",
       "      <td>0</td>\n",
       "      <td>0</td>\n",
       "      <td>0</td>\n",
       "      <td>0</td>\n",
       "      <td>0</td>\n",
       "      <td>...</td>\n",
       "      <td>0</td>\n",
       "      <td>0</td>\n",
       "      <td>0</td>\n",
       "      <td>0</td>\n",
       "      <td>0</td>\n",
       "      <td>0</td>\n",
       "      <td>0</td>\n",
       "      <td>0</td>\n",
       "      <td>0</td>\n",
       "      <td>0</td>\n",
       "    </tr>\n",
       "    <tr>\n",
       "      <th>4</th>\n",
       "      <td>St. Stanislaus Kostka Church (Pittsburgh)</td>\n",
       "      <td>0</td>\n",
       "      <td>0</td>\n",
       "      <td>0</td>\n",
       "      <td>0</td>\n",
       "      <td>0</td>\n",
       "      <td>0</td>\n",
       "      <td>0</td>\n",
       "      <td>0</td>\n",
       "      <td>0</td>\n",
       "      <td>...</td>\n",
       "      <td>0</td>\n",
       "      <td>0</td>\n",
       "      <td>0</td>\n",
       "      <td>0</td>\n",
       "      <td>0</td>\n",
       "      <td>0</td>\n",
       "      <td>0</td>\n",
       "      <td>0</td>\n",
       "      <td>0</td>\n",
       "      <td>0</td>\n",
       "    </tr>\n",
       "  </tbody>\n",
       "</table>\n",
       "<p>5 rows × 3109 columns</p>\n",
       "</div>"
      ],
      "text/plain": [
       "                                  article_title  abandoned  ability  able  \\\n",
       "0   Washington County Courthouse (Pennsylvania)          0        0     0   \n",
       "1                              Wild Things Park          0        0     0   \n",
       "2                                Thackeray Hall          0        0     0   \n",
       "3  Immaculate Heart of Mary Church (Pittsburgh)          0        0     0   \n",
       "4     St. Stanislaus Kostka Church (Pittsburgh)          0        0     0   \n",
       "\n",
       "   academic  academic achievement  academic performance  academics  academy  \\\n",
       "0         0                     0                     0          0        0   \n",
       "1         0                     0                     0          0        0   \n",
       "2         2                     0                     0          0        0   \n",
       "3         0                     0                     0          0        0   \n",
       "4         0                     0                     0          0        0   \n",
       "\n",
       "   accept  ...  yielding  yielding student  york  york city  youghiogheny  \\\n",
       "0       0  ...         0                 0     0          0             0   \n",
       "1       0  ...         0                 0     0          0             0   \n",
       "2       0  ...         0                 0     0          0             0   \n",
       "3       0  ...         0                 0     0          0             0   \n",
       "4       0  ...         0                 0     0          0             0   \n",
       "\n",
       "   youghiogheny river  young  youth  zip  zip code  \n",
       "0                   0      0      0    0         0  \n",
       "1                   0      0      0    0         0  \n",
       "2                   0      0      0    0         0  \n",
       "3                   0      0      0    0         0  \n",
       "4                   0      0      0    0         0  \n",
       "\n",
       "[5 rows x 3109 columns]"
      ]
     },
     "execution_count": 53,
     "metadata": {},
     "output_type": "execute_result"
    }
   ],
   "source": [
    "article_word_counts = pd.read_csv(PATH+\"wikipedia/wikipedia_article_wordcounts.csv\")\n",
    "article_word_counts.head()"
   ]
  },
  {
   "cell_type": "markdown",
   "metadata": {},
   "source": [
    "Show example article with all words which appear 40 times or more."
   ]
  },
  {
   "cell_type": "code",
   "execution_count": 54,
   "metadata": {},
   "outputs": [
    {
     "data": {
      "text/html": [
       "<div>\n",
       "<style scoped>\n",
       "    .dataframe tbody tr th:only-of-type {\n",
       "        vertical-align: middle;\n",
       "    }\n",
       "\n",
       "    .dataframe tbody tr th {\n",
       "        vertical-align: top;\n",
       "    }\n",
       "\n",
       "    .dataframe thead th {\n",
       "        text-align: right;\n",
       "    }\n",
       "</style>\n",
       "<table border=\"1\" class=\"dataframe\">\n",
       "  <thead>\n",
       "    <tr style=\"text-align: right;\">\n",
       "      <th></th>\n",
       "      <th>article_title</th>\n",
       "      <th>care</th>\n",
       "      <th>center</th>\n",
       "      <th>health</th>\n",
       "      <th>hospital</th>\n",
       "      <th>located</th>\n",
       "      <th>medical</th>\n",
       "      <th>pennsylvania</th>\n",
       "      <th>pittsburgh</th>\n",
       "      <th>presbyterian</th>\n",
       "      <th>university</th>\n",
       "      <th>university pittsburgh</th>\n",
       "      <th>upmc</th>\n",
       "    </tr>\n",
       "  </thead>\n",
       "  <tbody>\n",
       "    <tr>\n",
       "      <th>415</th>\n",
       "      <td>University of Pittsburgh Medical Center</td>\n",
       "      <td>53</td>\n",
       "      <td>45</td>\n",
       "      <td>75</td>\n",
       "      <td>133</td>\n",
       "      <td>44</td>\n",
       "      <td>42</td>\n",
       "      <td>60</td>\n",
       "      <td>89</td>\n",
       "      <td>40</td>\n",
       "      <td>71</td>\n",
       "      <td>40</td>\n",
       "      <td>302</td>\n",
       "    </tr>\n",
       "  </tbody>\n",
       "</table>\n",
       "</div>"
      ],
      "text/plain": [
       "                               article_title  care  center  health  hospital  \\\n",
       "415  University of Pittsburgh Medical Center    53      45      75       133   \n",
       "\n",
       "     located  medical  pennsylvania  pittsburgh  presbyterian  university  \\\n",
       "415       44       42            60          89            40          71   \n",
       "\n",
       "     university pittsburgh  upmc  \n",
       "415                     40   302  "
      ]
     },
     "execution_count": 54,
     "metadata": {},
     "output_type": "execute_result"
    }
   ],
   "source": [
    "upmc = article_word_counts.loc[article_word_counts[\"article_title\"]==\"University of Pittsburgh Medical Center\", :]\n",
    "\n",
    "to_drop = []\n",
    "for i, col in enumerate(upmc.columns[1:]):\n",
    "    if upmc.iloc[0, i+1] < 40:\n",
    "        to_drop.append(col)\n",
    "        \n",
    "upmc.drop(to_drop, axis=1)"
   ]
  },
  {
   "cell_type": "markdown",
   "metadata": {},
   "source": [
    "Most valuable and least valuable words with article in which word appears the most"
   ]
  },
  {
   "cell_type": "code",
   "execution_count": 59,
   "metadata": {},
   "outputs": [],
   "source": [
    "for x in [best_words, worst_words]:\n",
    "    x[\"article\"] = \"\"\n",
    "    for index, row in x.iterrows():\n",
    "        highest_impact = article_word_counts.sort_values(by=[row[\"feature\"]], ascending=False).iloc[0, 0]\n",
    "        x.loc[index, \"article\"] = highest_impact"
   ]
  },
  {
   "cell_type": "code",
   "execution_count": 60,
   "metadata": {},
   "outputs": [
    {
     "data": {
      "text/html": [
       "<style  type=\"text/css\" >\n",
       "</style><table id=\"T_6d8f2_\" style='display:inline'><caption>Most valuable articles</caption><thead>    <tr>        <th class=\"blank level0\" ></th>        <th class=\"col_heading level0 col0\" >feature</th>        <th class=\"col_heading level0 col1\" >coef</th>        <th class=\"col_heading level0 col2\" >article</th>    </tr></thead><tbody>\n",
       "                <tr>\n",
       "                        <th id=\"T_6d8f2_level0_row0\" class=\"row_heading level0 row0\" >2183</th>\n",
       "                        <td id=\"T_6d8f2_row0_col0\" class=\"data row0 col0\" >public library</td>\n",
       "                        <td id=\"T_6d8f2_row0_col1\" class=\"data row0 col1\" >54346.230075</td>\n",
       "                        <td id=\"T_6d8f2_row0_col2\" class=\"data row0 col2\" >Allegheny County Library Association</td>\n",
       "            </tr>\n",
       "            <tr>\n",
       "                        <th id=\"T_6d8f2_level0_row1\" class=\"row_heading level0 row1\" >245</th>\n",
       "                        <td id=\"T_6d8f2_row1_col0\" class=\"data row1 col0\" >beaver county</td>\n",
       "                        <td id=\"T_6d8f2_row1_col1\" class=\"data row1 col1\" >52467.372199</td>\n",
       "                        <td id=\"T_6d8f2_row1_col2\" class=\"data row1 col2\" >Western Beaver County School District</td>\n",
       "            </tr>\n",
       "            <tr>\n",
       "                        <th id=\"T_6d8f2_level0_row2\" class=\"row_heading level0 row2\" >89</th>\n",
       "                        <td id=\"T_6d8f2_row2_col0\" class=\"data row2 col0\" >allegheny river</td>\n",
       "                        <td id=\"T_6d8f2_row2_col1\" class=\"data row2 col1\" >49186.659141</td>\n",
       "                        <td id=\"T_6d8f2_row2_col2\" class=\"data row2 col2\" >List of crossings of the Allegheny River</td>\n",
       "            </tr>\n",
       "            <tr>\n",
       "                        <th id=\"T_6d8f2_level0_row3\" class=\"row_heading level0 row3\" >157</th>\n",
       "                        <td id=\"T_6d8f2_row3_col0\" class=\"data row3 col0\" >arena</td>\n",
       "                        <td id=\"T_6d8f2_row3_col1\" class=\"data row3 col1\" >46716.867155</td>\n",
       "                        <td id=\"T_6d8f2_row3_col2\" class=\"data row3 col2\" >Civic Arena (Pittsburgh)</td>\n",
       "            </tr>\n",
       "            <tr>\n",
       "                        <th id=\"T_6d8f2_level0_row4\" class=\"row_heading level0 row4\" >1278</th>\n",
       "                        <td id=\"T_6d8f2_row4_col0\" class=\"data row4 col0\" >hot</td>\n",
       "                        <td id=\"T_6d8f2_row4_col1\" class=\"data row4 col1\" >40884.806543</td>\n",
       "                        <td id=\"T_6d8f2_row4_col2\" class=\"data row4 col2\" >Essie's Original Hot Dog Shop</td>\n",
       "            </tr>\n",
       "            <tr>\n",
       "                        <th id=\"T_6d8f2_level0_row5\" class=\"row_heading level0 row5\" >244</th>\n",
       "                        <td id=\"T_6d8f2_row5_col0\" class=\"data row5 col0\" >beaver</td>\n",
       "                        <td id=\"T_6d8f2_row5_col1\" class=\"data row5 col1\" >39181.433845</td>\n",
       "                        <td id=\"T_6d8f2_row5_col2\" class=\"data row5 col2\" >Western Beaver County School District</td>\n",
       "            </tr>\n",
       "            <tr>\n",
       "                        <th id=\"T_6d8f2_level0_row6\" class=\"row_heading level0 row6\" >457</th>\n",
       "                        <td id=\"T_6d8f2_row6_col0\" class=\"data row6 col0\" >championship</td>\n",
       "                        <td id=\"T_6d8f2_row6_col1\" class=\"data row6 col1\" >38509.366119</td>\n",
       "                        <td id=\"T_6d8f2_row6_col2\" class=\"data row6 col2\" >1978 PGA Championship</td>\n",
       "            </tr>\n",
       "            <tr>\n",
       "                        <th id=\"T_6d8f2_level0_row7\" class=\"row_heading level0 row7\" >1995</th>\n",
       "                        <td id=\"T_6d8f2_row7_col0\" class=\"data row7 col0\" >perry</td>\n",
       "                        <td id=\"T_6d8f2_row7_col1\" class=\"data row7 col1\" >37159.361288</td>\n",
       "                        <td id=\"T_6d8f2_row7_col2\" class=\"data row7 col2\" >Perry Traditional Academy</td>\n",
       "            </tr>\n",
       "            <tr>\n",
       "                        <th id=\"T_6d8f2_level0_row8\" class=\"row_heading level0 row8\" >2412</th>\n",
       "                        <td id=\"T_6d8f2_row8_col0\" class=\"data row8 col0\" >room</td>\n",
       "                        <td id=\"T_6d8f2_row8_col1\" class=\"data row8 col1\" >36657.254171</td>\n",
       "                        <td id=\"T_6d8f2_row8_col2\" class=\"data row8 col2\" >Nationality Rooms</td>\n",
       "            </tr>\n",
       "            <tr>\n",
       "                        <th id=\"T_6d8f2_level0_row9\" class=\"row_heading level0 row9\" >3064</th>\n",
       "                        <td id=\"T_6d8f2_row9_col0\" class=\"data row9 col0\" >woods</td>\n",
       "                        <td id=\"T_6d8f2_row9_col1\" class=\"data row9 col1\" >36543.611423</td>\n",
       "                        <td id=\"T_6d8f2_row9_col2\" class=\"data row9 col2\" >2007 U.S. Open (golf)</td>\n",
       "            </tr>\n",
       "    </tbody></table><style  type=\"text/css\" >\n",
       "</style><table id=\"T_e66af_\" style='display:inline'><caption>Least valuable articles</caption><thead>    <tr>        <th class=\"blank level0\" ></th>        <th class=\"col_heading level0 col0\" >feature</th>        <th class=\"col_heading level0 col1\" >coef</th>        <th class=\"col_heading level0 col2\" >article</th>    </tr></thead><tbody>\n",
       "                <tr>\n",
       "                        <th id=\"T_e66af_level0_row0\" class=\"row_heading level0 row0\" >486</th>\n",
       "                        <td id=\"T_e66af_row0_col0\" class=\"data row0 col0\" >city</td>\n",
       "                        <td id=\"T_e66af_row0_col1\" class=\"data row0 col1\" >-64829.121676</td>\n",
       "                        <td id=\"T_e66af_row0_col2\" class=\"data row0 col2\" >List of Pennsylvania state historical markers in Allegheny County</td>\n",
       "            </tr>\n",
       "            <tr>\n",
       "                        <th id=\"T_e66af_level0_row1\" class=\"row_heading level0 row1\" >2947</th>\n",
       "                        <td id=\"T_e66af_row1_col0\" class=\"data row1 col0\" >upmc</td>\n",
       "                        <td id=\"T_e66af_row1_col1\" class=\"data row1 col1\" >-51108.612326</td>\n",
       "                        <td id=\"T_e66af_row1_col2\" class=\"data row1 col2\" >University of Pittsburgh Medical Center</td>\n",
       "            </tr>\n",
       "            <tr>\n",
       "                        <th id=\"T_e66af_level0_row2\" class=\"row_heading level0 row2\" >2692</th>\n",
       "                        <td id=\"T_e66af_row2_col0\" class=\"data row2 col0\" >stop</td>\n",
       "                        <td id=\"T_e66af_row2_col1\" class=\"data row2 col1\" >-49196.311741</td>\n",
       "                        <td id=\"T_e66af_row2_col2\" class=\"data row2 col2\" >Pittsburgh International Airport</td>\n",
       "            </tr>\n",
       "            <tr>\n",
       "                        <th id=\"T_e66af_level0_row3\" class=\"row_heading level0 row3\" >795</th>\n",
       "                        <td id=\"T_e66af_row3_col0\" class=\"data row3 col0\" >division</td>\n",
       "                        <td id=\"T_e66af_row3_col1\" class=\"data row3 col1\" >-48105.160627</td>\n",
       "                        <td id=\"T_e66af_row3_col2\" class=\"data row3 col2\" >University of Pittsburgh Medical Center</td>\n",
       "            </tr>\n",
       "            <tr>\n",
       "                        <th id=\"T_e66af_level0_row4\" class=\"row_heading level0 row4\" >1902</th>\n",
       "                        <td id=\"T_e66af_row4_col0\" class=\"data row4 col0\" >original</td>\n",
       "                        <td id=\"T_e66af_row4_col1\" class=\"data row4 col1\" >-44033.307246</td>\n",
       "                        <td id=\"T_e66af_row4_col2\" class=\"data row4 col2\" >Nationality Rooms</td>\n",
       "            </tr>\n",
       "            <tr>\n",
       "                        <th id=\"T_e66af_level0_row5\" class=\"row_heading level0 row5\" >2447</th>\n",
       "                        <td id=\"T_e66af_row5_col0\" class=\"data row5 col0\" >schenley</td>\n",
       "                        <td id=\"T_e66af_row5_col1\" class=\"data row5 col1\" >-42149.473338</td>\n",
       "                        <td id=\"T_e66af_row5_col2\" class=\"data row5 col2\" >William Pitt Union</td>\n",
       "            </tr>\n",
       "            <tr>\n",
       "                        <th id=\"T_e66af_level0_row6\" class=\"row_heading level0 row6\" >2982</th>\n",
       "                        <td id=\"T_e66af_row6_col0\" class=\"data row6 col0\" >village</td>\n",
       "                        <td id=\"T_e66af_row6_col1\" class=\"data row6 col1\" >-41429.307662</td>\n",
       "                        <td id=\"T_e66af_row6_col2\" class=\"data row6 col2\" >Chatham Village (Pittsburgh)</td>\n",
       "            </tr>\n",
       "            <tr>\n",
       "                        <th id=\"T_e66af_level0_row7\" class=\"row_heading level0 row7\" >680</th>\n",
       "                        <td id=\"T_e66af_row7_col0\" class=\"data row7 col0\" >current</td>\n",
       "                        <td id=\"T_e66af_row7_col1\" class=\"data row7 col1\" >-39701.980966</td>\n",
       "                        <td id=\"T_e66af_row7_col2\" class=\"data row7 col2\" >WPXI</td>\n",
       "            </tr>\n",
       "            <tr>\n",
       "                        <th id=\"T_e66af_level0_row8\" class=\"row_heading level0 row8\" >1890</th>\n",
       "                        <td id=\"T_e66af_row8_col0\" class=\"data row8 col0\" >operation</td>\n",
       "                        <td id=\"T_e66af_row8_col1\" class=\"data row8 col1\" >-38352.610833</td>\n",
       "                        <td id=\"T_e66af_row8_col2\" class=\"data row8 col2\" >Kennywood</td>\n",
       "            </tr>\n",
       "            <tr>\n",
       "                        <th id=\"T_e66af_level0_row9\" class=\"row_heading level0 row9\" >650</th>\n",
       "                        <td id=\"T_e66af_row9_col0\" class=\"data row9 col0\" >course</td>\n",
       "                        <td id=\"T_e66af_row9_col1\" class=\"data row9 col1\" >-38132.547414</td>\n",
       "                        <td id=\"T_e66af_row9_col2\" class=\"data row9 col2\" >Oakmont Country Club</td>\n",
       "            </tr>\n",
       "    </tbody></table>"
      ]
     },
     "metadata": {},
     "output_type": "display_data"
    }
   ],
   "source": [
    "df1_styler = best_words.style.set_table_attributes(\"style='display:inline'\").set_caption('Most valuable articles')\n",
    "df2_styler = worst_words.style.set_table_attributes(\"style='display:inline'\").set_caption('Least valuable articles')\n",
    "\n",
    "display_html(df1_styler._repr_html_()+df2_styler._repr_html_(), raw=True)"
   ]
  },
  {
   "cell_type": "markdown",
   "metadata": {},
   "source": [
    "### Determine best and worst articles"
   ]
  },
  {
   "cell_type": "markdown",
   "metadata": {},
   "source": [
    "Create article value-score by calculating sum of all words multiplied with their coefficient for every article."
   ]
  },
  {
   "cell_type": "code",
   "execution_count": 61,
   "metadata": {},
   "outputs": [],
   "source": [
    "article_values = article_word_counts.copy()\n",
    "article_values.insert(1, \"article_value\", [0]*article_word_counts.shape[0])\n",
    "words = article_values.columns[2:]\n",
    "for index, row in article_values.iterrows():\n",
    "    counts = row.iloc[2:]\n",
    "    article_values.loc[index, \"article_value\"] = sum([word_coef_lookup[word]*count for count, word in zip(counts, words)])"
   ]
  },
  {
   "cell_type": "code",
   "execution_count": 62,
   "metadata": {},
   "outputs": [
    {
     "data": {
      "text/html": [
       "<style  type=\"text/css\" >\n",
       "</style><table id=\"T_2b0d1_\" style='display:inline'><caption>Most valuable articles</caption><thead>    <tr>        <th class=\"blank level0\" ></th>        <th class=\"col_heading level0 col0\" >article_title</th>        <th class=\"col_heading level0 col1\" >article_value</th>    </tr></thead><tbody>\n",
       "                <tr>\n",
       "                        <th id=\"T_2b0d1_level0_row0\" class=\"row_heading level0 row0\" >630</th>\n",
       "                        <td id=\"T_2b0d1_row0_col0\" class=\"data row0 col0\" >Western Beaver County School District</td>\n",
       "                        <td id=\"T_2b0d1_row0_col1\" class=\"data row0 col1\" >13928361.463118</td>\n",
       "            </tr>\n",
       "            <tr>\n",
       "                        <th id=\"T_2b0d1_level0_row1\" class=\"row_heading level0 row1\" >2104</th>\n",
       "                        <td id=\"T_2b0d1_row1_col0\" class=\"data row1 col0\" >Civic Arena (Pittsburgh)</td>\n",
       "                        <td id=\"T_2b0d1_row1_col1\" class=\"data row1 col1\" >12043360.916518</td>\n",
       "            </tr>\n",
       "            <tr>\n",
       "                        <th id=\"T_2b0d1_level0_row2\" class=\"row_heading level0 row2\" >832</th>\n",
       "                        <td id=\"T_2b0d1_row2_col0\" class=\"data row2 col0\" >List of Pittsburgh History and Landmarks Foundation Historic Landmarks</td>\n",
       "                        <td id=\"T_2b0d1_row2_col1\" class=\"data row2 col1\" >11482605.281687</td>\n",
       "            </tr>\n",
       "            <tr>\n",
       "                        <th id=\"T_2b0d1_level0_row3\" class=\"row_heading level0 row3\" >178</th>\n",
       "                        <td id=\"T_2b0d1_row3_col0\" class=\"data row3 col0\" >Nationality Rooms</td>\n",
       "                        <td id=\"T_2b0d1_row3_col1\" class=\"data row3 col1\" >11132162.812902</td>\n",
       "            </tr>\n",
       "            <tr>\n",
       "                        <th id=\"T_2b0d1_level0_row4\" class=\"row_heading level0 row4\" >2107</th>\n",
       "                        <td id=\"T_2b0d1_row4_col0\" class=\"data row4 col0\" >Cathedral of Learning</td>\n",
       "                        <td id=\"T_2b0d1_row4_col1\" class=\"data row4 col1\" >7822076.609121</td>\n",
       "            </tr>\n",
       "            <tr>\n",
       "                        <th id=\"T_2b0d1_level0_row5\" class=\"row_heading level0 row5\" >1527</th>\n",
       "                        <td id=\"T_2b0d1_row5_col0\" class=\"data row5 col0\" >Carnegie Mellon University</td>\n",
       "                        <td id=\"T_2b0d1_row5_col1\" class=\"data row5 col1\" >7298247.579700</td>\n",
       "            </tr>\n",
       "            <tr>\n",
       "                        <th id=\"T_2b0d1_level0_row6\" class=\"row_heading level0 row6\" >922</th>\n",
       "                        <td id=\"T_2b0d1_row6_col0\" class=\"data row6 col0\" >Duquesne Gardens</td>\n",
       "                        <td id=\"T_2b0d1_row6_col1\" class=\"data row6 col1\" >7014412.808453</td>\n",
       "            </tr>\n",
       "            <tr>\n",
       "                        <th id=\"T_2b0d1_level0_row7\" class=\"row_heading level0 row7\" >2355</th>\n",
       "                        <td id=\"T_2b0d1_row7_col0\" class=\"data row7 col0\" >PPG Paints Arena</td>\n",
       "                        <td id=\"T_2b0d1_row7_col1\" class=\"data row7 col1\" >6280269.499917</td>\n",
       "            </tr>\n",
       "            <tr>\n",
       "                        <th id=\"T_2b0d1_level0_row8\" class=\"row_heading level0 row8\" >1099</th>\n",
       "                        <td id=\"T_2b0d1_row8_col0\" class=\"data row8 col0\" >Squirrel Hill (Pittsburgh)</td>\n",
       "                        <td id=\"T_2b0d1_row8_col1\" class=\"data row8 col1\" >5215240.234522</td>\n",
       "            </tr>\n",
       "            <tr>\n",
       "                        <th id=\"T_2b0d1_level0_row9\" class=\"row_heading level0 row9\" >384</th>\n",
       "                        <td id=\"T_2b0d1_row9_col0\" class=\"data row9 col0\" >Aliquippa School District</td>\n",
       "                        <td id=\"T_2b0d1_row9_col1\" class=\"data row9 col1\" >5089312.630853</td>\n",
       "            </tr>\n",
       "    </tbody></table><style  type=\"text/css\" >\n",
       "</style><table id=\"T_38cab_\" style='display:inline'><caption>Least valuable articles</caption><thead>    <tr>        <th class=\"blank level0\" ></th>        <th class=\"col_heading level0 col0\" >article_title</th>        <th class=\"col_heading level0 col1\" >article_value</th>    </tr></thead><tbody>\n",
       "                <tr>\n",
       "                        <th id=\"T_38cab_level0_row0\" class=\"row_heading level0 row0\" >415</th>\n",
       "                        <td id=\"T_38cab_row0_col0\" class=\"data row0 col0\" >University of Pittsburgh Medical Center</td>\n",
       "                        <td id=\"T_38cab_row0_col1\" class=\"data row0 col1\" >-21623258.514051</td>\n",
       "            </tr>\n",
       "            <tr>\n",
       "                        <th id=\"T_38cab_level0_row1\" class=\"row_heading level0 row1\" >2376</th>\n",
       "                        <td id=\"T_38cab_row1_col0\" class=\"data row1 col0\" >Allegheny, Pennsylvania</td>\n",
       "                        <td id=\"T_38cab_row1_col1\" class=\"data row1 col1\" >-6180070.232624</td>\n",
       "            </tr>\n",
       "            <tr>\n",
       "                        <th id=\"T_38cab_level0_row2\" class=\"row_heading level0 row2\" >2194</th>\n",
       "                        <td id=\"T_38cab_row2_col0\" class=\"data row2 col0\" >UPMC Presbyterian</td>\n",
       "                        <td id=\"T_38cab_row2_col1\" class=\"data row2 col1\" >-5764340.460425</td>\n",
       "            </tr>\n",
       "            <tr>\n",
       "                        <th id=\"T_38cab_level0_row3\" class=\"row_heading level0 row3\" >2090</th>\n",
       "                        <td id=\"T_38cab_row3_col0\" class=\"data row3 col0\" >Heinz Field</td>\n",
       "                        <td id=\"T_38cab_row3_col1\" class=\"data row3 col1\" >-3482842.417470</td>\n",
       "            </tr>\n",
       "            <tr>\n",
       "                        <th id=\"T_38cab_level0_row4\" class=\"row_heading level0 row4\" >98</th>\n",
       "                        <td id=\"T_38cab_row4_col0\" class=\"data row4 col0\" >UPMC Children's Hospital of Pittsburgh</td>\n",
       "                        <td id=\"T_38cab_row4_col1\" class=\"data row4 col1\" >-2912339.346542</td>\n",
       "            </tr>\n",
       "            <tr>\n",
       "                        <th id=\"T_38cab_level0_row5\" class=\"row_heading level0 row5\" >1520</th>\n",
       "                        <td id=\"T_38cab_row5_col0\" class=\"data row5 col0\" >List of crossings of the Allegheny River</td>\n",
       "                        <td id=\"T_38cab_row5_col1\" class=\"data row5 col1\" >-2823239.381605</td>\n",
       "            </tr>\n",
       "            <tr>\n",
       "                        <th id=\"T_38cab_level0_row6\" class=\"row_heading level0 row6\" >2094</th>\n",
       "                        <td id=\"T_38cab_row6_col0\" class=\"data row6 col0\" >Schenley Park</td>\n",
       "                        <td id=\"T_38cab_row6_col1\" class=\"data row6 col1\" >-2762071.836950</td>\n",
       "            </tr>\n",
       "            <tr>\n",
       "                        <th id=\"T_38cab_level0_row7\" class=\"row_heading level0 row7\" >620</th>\n",
       "                        <td id=\"T_38cab_row7_col0\" class=\"data row7 col0\" >UPMC Hillman Cancer Center</td>\n",
       "                        <td id=\"T_38cab_row7_col1\" class=\"data row7 col1\" >-2708837.378033</td>\n",
       "            </tr>\n",
       "            <tr>\n",
       "                        <th id=\"T_38cab_level0_row8\" class=\"row_heading level0 row8\" >2103</th>\n",
       "                        <td id=\"T_38cab_row8_col0\" class=\"data row8 col0\" >Washington  &  Jefferson College</td>\n",
       "                        <td id=\"T_38cab_row8_col1\" class=\"data row8 col1\" >-2692827.259114</td>\n",
       "            </tr>\n",
       "            <tr>\n",
       "                        <th id=\"T_38cab_level0_row9\" class=\"row_heading level0 row9\" >955</th>\n",
       "                        <td id=\"T_38cab_row9_col0\" class=\"data row9 col0\" >University of Pittsburgh School of Medicine</td>\n",
       "                        <td id=\"T_38cab_row9_col1\" class=\"data row9 col1\" >-2611387.614659</td>\n",
       "            </tr>\n",
       "    </tbody></table>"
      ]
     },
     "metadata": {},
     "output_type": "display_data"
    }
   ],
   "source": [
    "pos_sorted = article_values.loc[:, \"article_title\":\"article_value\"].sort_values(by=[\"article_value\"], ascending=False).head(10)\n",
    "neg_sorted = article_values.loc[:, \"article_title\":\"article_value\"].sort_values(by=[\"article_value\"], ascending=True).head(10)\n",
    "\n",
    "df1_styler = pos_sorted.style.set_table_attributes(\"style='display:inline'\").set_caption('Most valuable articles')\n",
    "df2_styler = neg_sorted.style.set_table_attributes(\"style='display:inline'\").set_caption('Least valuable articles')\n",
    "\n",
    "display_html(df1_styler._repr_html_()+df2_styler._repr_html_(), raw=True)"
   ]
  },
  {
   "cell_type": "markdown",
   "metadata": {},
   "source": [
    "Add coordinates back"
   ]
  },
  {
   "cell_type": "code",
   "execution_count": 63,
   "metadata": {},
   "outputs": [],
   "source": [
    "with open(PATH+\"wikipedia/wikipedia_selected.ndjson\") as fin:\n",
    "    data_loaded = json.load(fin)"
   ]
  },
  {
   "cell_type": "code",
   "execution_count": 64,
   "metadata": {},
   "outputs": [],
   "source": [
    "coords = np.array(data_loaded)[:, 1]  # filter coord column\n",
    "article_values.insert(2, \"article_lat\", [lat for lat, long in coords])\n",
    "article_values.insert(2, \"article_long\", [long for lat, long in coords])\n",
    "article_values = article_values[[\"article_title\", \"article_value\", \"article_long\", \"article_lat\"]]  # remove word counts"
   ]
  },
  {
   "cell_type": "markdown",
   "metadata": {},
   "source": [
    "Save articles with their value score and coordinates."
   ]
  },
  {
   "cell_type": "code",
   "execution_count": 65,
   "metadata": {},
   "outputs": [
    {
     "data": {
      "text/html": [
       "<div>\n",
       "<style scoped>\n",
       "    .dataframe tbody tr th:only-of-type {\n",
       "        vertical-align: middle;\n",
       "    }\n",
       "\n",
       "    .dataframe tbody tr th {\n",
       "        vertical-align: top;\n",
       "    }\n",
       "\n",
       "    .dataframe thead th {\n",
       "        text-align: right;\n",
       "    }\n",
       "</style>\n",
       "<table border=\"1\" class=\"dataframe\">\n",
       "  <thead>\n",
       "    <tr style=\"text-align: right;\">\n",
       "      <th></th>\n",
       "      <th>article_title</th>\n",
       "      <th>article_value</th>\n",
       "      <th>article_long</th>\n",
       "      <th>article_lat</th>\n",
       "    </tr>\n",
       "  </thead>\n",
       "  <tbody>\n",
       "    <tr>\n",
       "      <th>0</th>\n",
       "      <td>Washington County Courthouse (Pennsylvania)</td>\n",
       "      <td>-256486.860752</td>\n",
       "      <td>-80.245803</td>\n",
       "      <td>40.170450</td>\n",
       "    </tr>\n",
       "    <tr>\n",
       "      <th>1</th>\n",
       "      <td>Wild Things Park</td>\n",
       "      <td>-739795.442445</td>\n",
       "      <td>-80.283611</td>\n",
       "      <td>40.154167</td>\n",
       "    </tr>\n",
       "    <tr>\n",
       "      <th>2</th>\n",
       "      <td>Thackeray Hall</td>\n",
       "      <td>-253649.572529</td>\n",
       "      <td>-79.957264</td>\n",
       "      <td>40.444317</td>\n",
       "    </tr>\n",
       "    <tr>\n",
       "      <th>3</th>\n",
       "      <td>Immaculate Heart of Mary Church (Pittsburgh)</td>\n",
       "      <td>696692.637054</td>\n",
       "      <td>-79.967778</td>\n",
       "      <td>40.456389</td>\n",
       "    </tr>\n",
       "    <tr>\n",
       "      <th>4</th>\n",
       "      <td>St. Stanislaus Kostka Church (Pittsburgh)</td>\n",
       "      <td>382697.206604</td>\n",
       "      <td>-79.983611</td>\n",
       "      <td>40.452322</td>\n",
       "    </tr>\n",
       "  </tbody>\n",
       "</table>\n",
       "</div>"
      ],
      "text/plain": [
       "                                  article_title  article_value  article_long  \\\n",
       "0   Washington County Courthouse (Pennsylvania) -256486.860752    -80.245803   \n",
       "1                              Wild Things Park -739795.442445    -80.283611   \n",
       "2                                Thackeray Hall -253649.572529    -79.957264   \n",
       "3  Immaculate Heart of Mary Church (Pittsburgh)  696692.637054    -79.967778   \n",
       "4     St. Stanislaus Kostka Church (Pittsburgh)  382697.206604    -79.983611   \n",
       "\n",
       "   article_lat  \n",
       "0    40.170450  \n",
       "1    40.154167  \n",
       "2    40.444317  \n",
       "3    40.456389  \n",
       "4    40.452322  "
      ]
     },
     "execution_count": 65,
     "metadata": {},
     "output_type": "execute_result"
    }
   ],
   "source": [
    "article_values.to_csv(PATH+\"wikipedia_article_values.csv\", index=False)\n",
    "article_values.head()"
   ]
  },
  {
   "cell_type": "code",
   "execution_count": null,
   "metadata": {},
   "outputs": [],
   "source": []
  }
 ],
 "metadata": {
  "kernelspec": {
   "display_name": "Python 3",
   "language": "python",
   "name": "python3"
  },
  "language_info": {
   "codemirror_mode": {
    "name": "ipython",
    "version": 3
   },
   "file_extension": ".py",
   "mimetype": "text/x-python",
   "name": "python",
   "nbconvert_exporter": "python",
   "pygments_lexer": "ipython3",
   "version": "3.7.9"
  },
  "varInspector": {
   "cols": {
    "lenName": 16,
    "lenType": 16,
    "lenVar": 40
   },
   "kernels_config": {
    "python": {
     "delete_cmd_postfix": "",
     "delete_cmd_prefix": "del ",
     "library": "var_list.py",
     "varRefreshCmd": "print(var_dic_list())"
    },
    "r": {
     "delete_cmd_postfix": ") ",
     "delete_cmd_prefix": "rm(",
     "library": "var_list.r",
     "varRefreshCmd": "cat(var_dic_list()) "
    }
   },
   "types_to_exclude": [
    "module",
    "function",
    "builtin_function_or_method",
    "instance",
    "_Feature"
   ],
   "window_display": false
  },
  "widgets": {
   "application/vnd.jupyter.widget-state+json": {
    "state": {
     "0012760bab1f492691d653f41ec9d746": {
      "model_module": "@jupyter-widgets/controls",
      "model_module_version": "1.5.0",
      "model_name": "DescriptionStyleModel",
      "state": {
       "description_width": ""
      }
     },
     "0025f0a996e04dbf91b279b5b472b22b": {
      "model_module": "@jupyter-widgets/base",
      "model_module_version": "1.2.0",
      "model_name": "LayoutModel",
      "state": {}
     },
     "00b01792d8014bf4ae8644f8cd0247f4": {
      "model_module": "@jupyter-widgets/base",
      "model_module_version": "1.2.0",
      "model_name": "LayoutModel",
      "state": {}
     },
     "00c1efedfaa54bbfb1957d947e818976": {
      "model_module": "@jupyter-widgets/base",
      "model_module_version": "1.2.0",
      "model_name": "LayoutModel",
      "state": {}
     },
     "00c56fcd890e414a98082cebb20fc5cd": {
      "model_module": "@jupyter-widgets/controls",
      "model_module_version": "1.5.0",
      "model_name": "HTMLModel",
      "state": {
       "layout": "IPY_MODEL_f783a069935b463c806392ff43d8ce4d",
       "style": "IPY_MODEL_1cdccab879b54244bdc452f3ae3f72c9",
       "value": "100%"
      }
     },
     "0119d78b93914d40a93c826bf53ed3bb": {
      "model_module": "@jupyter-widgets/base",
      "model_module_version": "1.2.0",
      "model_name": "LayoutModel",
      "state": {}
     },
     "03c27ff4fed14f128c53c3512c5e87ff": {
      "model_module": "@jupyter-widgets/controls",
      "model_module_version": "1.5.0",
      "model_name": "DescriptionStyleModel",
      "state": {
       "description_width": ""
      }
     },
     "049549122228476aa2d5df81c79c34b4": {
      "model_module": "@jupyter-widgets/controls",
      "model_module_version": "1.5.0",
      "model_name": "HTMLModel",
      "state": {
       "layout": "IPY_MODEL_fc08fa1d49d44c4dbf5e939058b800a9",
       "style": "IPY_MODEL_1e75721ace57482b96644bb50762a805",
       "value": "100%"
      }
     },
     "052a5f5e32614c42b4d1434d2ac9d97b": {
      "model_module": "@jupyter-widgets/base",
      "model_module_version": "1.2.0",
      "model_name": "LayoutModel",
      "state": {}
     },
     "052a61e4853e4597a46e56a27874950d": {
      "model_module": "@jupyter-widgets/base",
      "model_module_version": "1.2.0",
      "model_name": "LayoutModel",
      "state": {}
     },
     "05a4b02499cf4c588b7c28061d0cd904": {
      "model_module": "@jupyter-widgets/controls",
      "model_module_version": "1.5.0",
      "model_name": "HBoxModel",
      "state": {
       "children": [
        "IPY_MODEL_3df7f9352618499892e63458f4ef2bb5",
        "IPY_MODEL_2f2f9716ef8f4f42a04d2996853b261b",
        "IPY_MODEL_28481a77fb8341e29b1a3cb3bba45fed"
       ],
       "layout": "IPY_MODEL_ade81211949146329034ed4b6445c39b"
      }
     },
     "074b30931cb143d8ac06001356022d2d": {
      "model_module": "@jupyter-widgets/controls",
      "model_module_version": "1.5.0",
      "model_name": "HTMLModel",
      "state": {
       "layout": "IPY_MODEL_00b01792d8014bf4ae8644f8cd0247f4",
       "style": "IPY_MODEL_20c494df790644289a523dd5c9f45d9f",
       "value": " 5/5 [00:00&lt;00:00, 81.89it/s]"
      }
     },
     "077cb0586ece47ee8524fabe5a1d4f94": {
      "model_module": "@jupyter-widgets/controls",
      "model_module_version": "1.5.0",
      "model_name": "ProgressStyleModel",
      "state": {
       "description_width": ""
      }
     },
     "089b4800faf74815a31afd4db80ca698": {
      "model_module": "@jupyter-widgets/controls",
      "model_module_version": "1.5.0",
      "model_name": "DescriptionStyleModel",
      "state": {
       "description_width": ""
      }
     },
     "08a6e94050c04524b9df885a32f6daa1": {
      "model_module": "@jupyter-widgets/base",
      "model_module_version": "1.2.0",
      "model_name": "LayoutModel",
      "state": {}
     },
     "09a0848bd6df415cb4b40ea37c20c98e": {
      "model_module": "@jupyter-widgets/controls",
      "model_module_version": "1.5.0",
      "model_name": "ProgressStyleModel",
      "state": {
       "description_width": ""
      }
     },
     "0a3f043c52494d2e8fa1bc7ac82fc2ff": {
      "model_module": "@jupyter-widgets/controls",
      "model_module_version": "1.5.0",
      "model_name": "DescriptionStyleModel",
      "state": {
       "description_width": ""
      }
     },
     "0b4e783bd8324b289b2fdbda2404e098": {
      "model_module": "@jupyter-widgets/base",
      "model_module_version": "1.2.0",
      "model_name": "LayoutModel",
      "state": {}
     },
     "0bb4253250ed434d94761c9b08b95305": {
      "model_module": "@jupyter-widgets/controls",
      "model_module_version": "1.5.0",
      "model_name": "ProgressStyleModel",
      "state": {
       "description_width": ""
      }
     },
     "0c84321146be47cd890cab9d072a27c9": {
      "model_module": "@jupyter-widgets/controls",
      "model_module_version": "1.5.0",
      "model_name": "ProgressStyleModel",
      "state": {
       "description_width": ""
      }
     },
     "0ce2b0956a8a453aaf14020c545216a0": {
      "model_module": "@jupyter-widgets/base",
      "model_module_version": "1.2.0",
      "model_name": "LayoutModel",
      "state": {}
     },
     "0d07e951a4f242e99bba56807736f33f": {
      "model_module": "@jupyter-widgets/base",
      "model_module_version": "1.2.0",
      "model_name": "LayoutModel",
      "state": {}
     },
     "0d4d9facfc6843eaa0c34009a02fd2b1": {
      "model_module": "@jupyter-widgets/controls",
      "model_module_version": "1.5.0",
      "model_name": "FloatProgressModel",
      "state": {
       "bar_style": "success",
       "layout": "IPY_MODEL_1184acef72bd416ca3ba5de2fa388abe",
       "max": 5,
       "style": "IPY_MODEL_e65493139a88452188fbca14ad6f583b",
       "value": 5
      }
     },
     "0d9622eb7a604f6ea98ccb35d8910004": {
      "model_module": "@jupyter-widgets/controls",
      "model_module_version": "1.5.0",
      "model_name": "HTMLModel",
      "state": {
       "layout": "IPY_MODEL_9cca425ef8124a688b5bc7ba55458472",
       "style": "IPY_MODEL_e9dcf3229e1f4c95a129076dd7591c5b",
       "value": "100%"
      }
     },
     "0ef71d51e8c64b99a920b220d7656db8": {
      "model_module": "@jupyter-widgets/base",
      "model_module_version": "1.2.0",
      "model_name": "LayoutModel",
      "state": {}
     },
     "109be5b372304304a1dd407c43a34527": {
      "model_module": "@jupyter-widgets/controls",
      "model_module_version": "1.5.0",
      "model_name": "HTMLModel",
      "state": {
       "layout": "IPY_MODEL_35341f2fb2174b23b95015e0571b1748",
       "style": "IPY_MODEL_968663b1d42047cb8773f2fbf6fd1f66",
       "value": " 5/5 [13:15&lt;00:00, 157.75s/it]"
      }
     },
     "116292d3e7454489bea6aeb2e5661c12": {
      "model_module": "@jupyter-widgets/controls",
      "model_module_version": "1.5.0",
      "model_name": "HBoxModel",
      "state": {
       "children": [
        "IPY_MODEL_00c56fcd890e414a98082cebb20fc5cd",
        "IPY_MODEL_ca0eee3c1aae4f54bc7b52450cf58475",
        "IPY_MODEL_3aec42a745f946f7a930a5ee02e7c437"
       ],
       "layout": "IPY_MODEL_7b5fc1e883994a88b1e06f3afc077dd0"
      }
     },
     "1184acef72bd416ca3ba5de2fa388abe": {
      "model_module": "@jupyter-widgets/base",
      "model_module_version": "1.2.0",
      "model_name": "LayoutModel",
      "state": {}
     },
     "12f39e7089614b1c84a431c8e0f3870d": {
      "model_module": "@jupyter-widgets/controls",
      "model_module_version": "1.5.0",
      "model_name": "DescriptionStyleModel",
      "state": {
       "description_width": ""
      }
     },
     "135915f245a74c0281239e2c02db187e": {
      "model_module": "@jupyter-widgets/base",
      "model_module_version": "1.2.0",
      "model_name": "LayoutModel",
      "state": {}
     },
     "1396b98735ec4867b0b98d4641cc9480": {
      "model_module": "@jupyter-widgets/base",
      "model_module_version": "1.2.0",
      "model_name": "LayoutModel",
      "state": {}
     },
     "14c9b581ec784baab6fb8eba296aa56c": {
      "model_module": "@jupyter-widgets/controls",
      "model_module_version": "1.5.0",
      "model_name": "ProgressStyleModel",
      "state": {
       "description_width": ""
      }
     },
     "14f2d0f8b6b143b38dc66114b92a98a4": {
      "model_module": "@jupyter-widgets/base",
      "model_module_version": "1.2.0",
      "model_name": "LayoutModel",
      "state": {}
     },
     "1579139c85034d268c6367f85a8c6beb": {
      "model_module": "@jupyter-widgets/controls",
      "model_module_version": "1.5.0",
      "model_name": "HBoxModel",
      "state": {
       "children": [
        "IPY_MODEL_98df17219fec4a8fbeae72f87243f37f",
        "IPY_MODEL_c08c236b2ed9468e850637f094bcb770",
        "IPY_MODEL_9ea87cefca3448d695bd122b0ab33c2a"
       ],
       "layout": "IPY_MODEL_170439e291c7498c82988bca838db953"
      }
     },
     "15c7d344626d4ca0ba5d082b65977315": {
      "model_module": "@jupyter-widgets/controls",
      "model_module_version": "1.5.0",
      "model_name": "FloatProgressModel",
      "state": {
       "bar_style": "success",
       "layout": "IPY_MODEL_da5024560ea24b3eb56dfbfc76007067",
       "max": 5,
       "style": "IPY_MODEL_077cb0586ece47ee8524fabe5a1d4f94",
       "value": 5
      }
     },
     "15ed8b157026400e95c2e058ee505501": {
      "model_module": "@jupyter-widgets/controls",
      "model_module_version": "1.5.0",
      "model_name": "DescriptionStyleModel",
      "state": {
       "description_width": ""
      }
     },
     "16b531efaa484d74beb15090d8fb8784": {
      "model_module": "@jupyter-widgets/controls",
      "model_module_version": "1.5.0",
      "model_name": "HBoxModel",
      "state": {
       "children": [
        "IPY_MODEL_87fabac7205e46a8aaf45fda8a27117a",
        "IPY_MODEL_849d8cd6bb774ba09113f32cd1d6e6bb",
        "IPY_MODEL_d33be881b3fa4e80bd37146cf6972399"
       ],
       "layout": "IPY_MODEL_64ed98ef1dd14dc5babd83576dfc36ea"
      }
     },
     "170439e291c7498c82988bca838db953": {
      "model_module": "@jupyter-widgets/base",
      "model_module_version": "1.2.0",
      "model_name": "LayoutModel",
      "state": {}
     },
     "17c83b1bdc004f1abb8ea14c2fbcb759": {
      "model_module": "@jupyter-widgets/base",
      "model_module_version": "1.2.0",
      "model_name": "LayoutModel",
      "state": {}
     },
     "185880c93a0a4ebe842edfd9685023b6": {
      "model_module": "@jupyter-widgets/base",
      "model_module_version": "1.2.0",
      "model_name": "LayoutModel",
      "state": {}
     },
     "194214182c1f414997ec4faa32d51493": {
      "model_module": "@jupyter-widgets/base",
      "model_module_version": "1.2.0",
      "model_name": "LayoutModel",
      "state": {}
     },
     "19dd6ca6badc42faa646e9091cda32c9": {
      "model_module": "@jupyter-widgets/base",
      "model_module_version": "1.2.0",
      "model_name": "LayoutModel",
      "state": {}
     },
     "1a46d8335d194975ad423264ea7955d8": {
      "model_module": "@jupyter-widgets/controls",
      "model_module_version": "1.5.0",
      "model_name": "DescriptionStyleModel",
      "state": {
       "description_width": ""
      }
     },
     "1cdccab879b54244bdc452f3ae3f72c9": {
      "model_module": "@jupyter-widgets/controls",
      "model_module_version": "1.5.0",
      "model_name": "DescriptionStyleModel",
      "state": {
       "description_width": ""
      }
     },
     "1d8a815efb204e45a492a760b7c1fc1f": {
      "model_module": "@jupyter-widgets/controls",
      "model_module_version": "1.5.0",
      "model_name": "ProgressStyleModel",
      "state": {
       "description_width": ""
      }
     },
     "1e75721ace57482b96644bb50762a805": {
      "model_module": "@jupyter-widgets/controls",
      "model_module_version": "1.5.0",
      "model_name": "DescriptionStyleModel",
      "state": {
       "description_width": ""
      }
     },
     "20c494df790644289a523dd5c9f45d9f": {
      "model_module": "@jupyter-widgets/controls",
      "model_module_version": "1.5.0",
      "model_name": "DescriptionStyleModel",
      "state": {
       "description_width": ""
      }
     },
     "218b5fee01954393854253cb90c97b1e": {
      "model_module": "@jupyter-widgets/controls",
      "model_module_version": "1.5.0",
      "model_name": "HTMLModel",
      "state": {
       "layout": "IPY_MODEL_76621d98b499496cab0d0dcae88b9f59",
       "style": "IPY_MODEL_8217c1adcdee4887bcbdc2a0d9cef595",
       "value": "100%"
      }
     },
     "2233f524ee4b45968a3fc248e1eaf9a0": {
      "model_module": "@jupyter-widgets/controls",
      "model_module_version": "1.5.0",
      "model_name": "DescriptionStyleModel",
      "state": {
       "description_width": ""
      }
     },
     "232d3b2a415141a3b88176fc19e4b113": {
      "model_module": "@jupyter-widgets/base",
      "model_module_version": "1.2.0",
      "model_name": "LayoutModel",
      "state": {}
     },
     "2385e3b72a8d4679a2ec65d4267f29a7": {
      "model_module": "@jupyter-widgets/controls",
      "model_module_version": "1.5.0",
      "model_name": "ProgressStyleModel",
      "state": {
       "description_width": ""
      }
     },
     "240335e95a284db79fcacc9dc9fad0dc": {
      "model_module": "@jupyter-widgets/controls",
      "model_module_version": "1.5.0",
      "model_name": "HBoxModel",
      "state": {
       "children": [
        "IPY_MODEL_d64c82cac2aa46e9b16a30a7ac90c8c3",
        "IPY_MODEL_ae726be80e564ae18889d2427465e1e5",
        "IPY_MODEL_25c9f2a8736f42d8944a49e26522034b"
       ],
       "layout": "IPY_MODEL_a2be8e6c1a4d48eea869eb46c9c6dce5"
      }
     },
     "24293c9899074d07ad872b97449af3b2": {
      "model_module": "@jupyter-widgets/controls",
      "model_module_version": "1.5.0",
      "model_name": "ProgressStyleModel",
      "state": {
       "description_width": ""
      }
     },
     "25367b0826724d82a2ea72566dcd3142": {
      "model_module": "@jupyter-widgets/controls",
      "model_module_version": "1.5.0",
      "model_name": "ProgressStyleModel",
      "state": {
       "description_width": ""
      }
     },
     "2572cef2fb4b45a3901fd7f2686b8fa6": {
      "model_module": "@jupyter-widgets/controls",
      "model_module_version": "1.5.0",
      "model_name": "DescriptionStyleModel",
      "state": {
       "description_width": ""
      }
     },
     "25c9f2a8736f42d8944a49e26522034b": {
      "model_module": "@jupyter-widgets/controls",
      "model_module_version": "1.5.0",
      "model_name": "HTMLModel",
      "state": {
       "layout": "IPY_MODEL_e81b91712ecd42b8b9b3f2dc50151db6",
       "style": "IPY_MODEL_412c1b6aa6314b7fbdcecc2f8823d188",
       "value": " 5/5 [00:12&lt;00:00,  2.51s/it]"
      }
     },
     "261617e45e7c416cb1d2ecf099207ff4": {
      "model_module": "@jupyter-widgets/controls",
      "model_module_version": "1.5.0",
      "model_name": "DescriptionStyleModel",
      "state": {
       "description_width": ""
      }
     },
     "26be05d7a38a40469b5fb46526e38c3e": {
      "model_module": "@jupyter-widgets/controls",
      "model_module_version": "1.5.0",
      "model_name": "ProgressStyleModel",
      "state": {
       "description_width": ""
      }
     },
     "27b969af6d1d4a9989db7b05de9540d8": {
      "model_module": "@jupyter-widgets/controls",
      "model_module_version": "1.5.0",
      "model_name": "HBoxModel",
      "state": {
       "children": [
        "IPY_MODEL_b00d4b5674064ee19c4a4a5795da0939",
        "IPY_MODEL_321a55c8a0b944a09f2011fa39e06476",
        "IPY_MODEL_109be5b372304304a1dd407c43a34527"
       ],
       "layout": "IPY_MODEL_efc618dbf1614c00ba3bb7559ba0a1fa"
      }
     },
     "27bf454023c84b0ea7137ae1d4d230a3": {
      "model_module": "@jupyter-widgets/controls",
      "model_module_version": "1.5.0",
      "model_name": "HTMLModel",
      "state": {
       "layout": "IPY_MODEL_f20a5b2bb1fa4492bae5cdb3adbbf9b7",
       "style": "IPY_MODEL_ea684f24320043e48e84cb5a8b04a2db",
       "value": " 5/5 [00:04&lt;00:00,  1.07it/s]"
      }
     },
     "27f08c462a5d4c1fbd0715f01dab69de": {
      "model_module": "@jupyter-widgets/base",
      "model_module_version": "1.2.0",
      "model_name": "LayoutModel",
      "state": {}
     },
     "28481a77fb8341e29b1a3cb3bba45fed": {
      "model_module": "@jupyter-widgets/controls",
      "model_module_version": "1.5.0",
      "model_name": "HTMLModel",
      "state": {
       "layout": "IPY_MODEL_7b585f0b6aa846a3a192b075769d193c",
       "style": "IPY_MODEL_2233f524ee4b45968a3fc248e1eaf9a0",
       "value": " 5/5 [00:05&lt;00:00,  1.00it/s]"
      }
     },
     "285f3bf901ba4ee2be64f713152b61af": {
      "model_module": "@jupyter-widgets/controls",
      "model_module_version": "1.5.0",
      "model_name": "DescriptionStyleModel",
      "state": {
       "description_width": ""
      }
     },
     "2a4cac573ddd4200a220b79f9cc640e6": {
      "model_module": "@jupyter-widgets/controls",
      "model_module_version": "1.5.0",
      "model_name": "ProgressStyleModel",
      "state": {
       "description_width": ""
      }
     },
     "2ab2a3a4914a4e06ba9f4acf2030aee3": {
      "model_module": "@jupyter-widgets/controls",
      "model_module_version": "1.5.0",
      "model_name": "FloatProgressModel",
      "state": {
       "bar_style": "success",
       "layout": "IPY_MODEL_e2b9ae99ef3f41678c0dc1eda35019f2",
       "max": 5,
       "style": "IPY_MODEL_24293c9899074d07ad872b97449af3b2",
       "value": 5
      }
     },
     "2aba6ecf32494229bebadbd24c9b372f": {
      "model_module": "@jupyter-widgets/base",
      "model_module_version": "1.2.0",
      "model_name": "LayoutModel",
      "state": {}
     },
     "2ad4c69d21a54ba98a7dcb00a4d4d7e0": {
      "model_module": "@jupyter-widgets/controls",
      "model_module_version": "1.5.0",
      "model_name": "DescriptionStyleModel",
      "state": {
       "description_width": ""
      }
     },
     "2afd348098e14feda6f9e21f148c9f3c": {
      "model_module": "@jupyter-widgets/controls",
      "model_module_version": "1.5.0",
      "model_name": "DescriptionStyleModel",
      "state": {
       "description_width": ""
      }
     },
     "2b2e77dfd7594b5da6e03cd7a7bac618": {
      "model_module": "@jupyter-widgets/controls",
      "model_module_version": "1.5.0",
      "model_name": "HTMLModel",
      "state": {
       "layout": "IPY_MODEL_c5d8e5e0273d40a392f3e7a7b680b41d",
       "style": "IPY_MODEL_678925c9f1984651b3375f47d762f6f7",
       "value": "100%"
      }
     },
     "2bf9536c0ce243c59942fe730bda866c": {
      "model_module": "@jupyter-widgets/base",
      "model_module_version": "1.2.0",
      "model_name": "LayoutModel",
      "state": {}
     },
     "2cea7d9c1eab4de2a0963f98d952fb7e": {
      "model_module": "@jupyter-widgets/base",
      "model_module_version": "1.2.0",
      "model_name": "LayoutModel",
      "state": {}
     },
     "2da12d9601d543d4ae8693ad6e1b8013": {
      "model_module": "@jupyter-widgets/controls",
      "model_module_version": "1.5.0",
      "model_name": "ProgressStyleModel",
      "state": {
       "description_width": ""
      }
     },
     "2ea4369e8efe4740acfb18c10eafef5d": {
      "model_module": "@jupyter-widgets/base",
      "model_module_version": "1.2.0",
      "model_name": "LayoutModel",
      "state": {}
     },
     "2ec993b6501e4e0a8c7e43aadc57a102": {
      "model_module": "@jupyter-widgets/controls",
      "model_module_version": "1.5.0",
      "model_name": "HTMLModel",
      "state": {
       "layout": "IPY_MODEL_523f520c636c4edd803e174fdc757ac5",
       "style": "IPY_MODEL_0a3f043c52494d2e8fa1bc7ac82fc2ff",
       "value": " 5/5 [00:04&lt;00:00,  1.02it/s]"
      }
     },
     "2f2f9716ef8f4f42a04d2996853b261b": {
      "model_module": "@jupyter-widgets/controls",
      "model_module_version": "1.5.0",
      "model_name": "FloatProgressModel",
      "state": {
       "bar_style": "success",
       "layout": "IPY_MODEL_597084808fe14dc0b8ed27b9010df776",
       "max": 5,
       "style": "IPY_MODEL_ff965be747a14387b52f27ea6c34c159",
       "value": 5
      }
     },
     "2fe84b2ca5204f5088996a194c8b9f28": {
      "model_module": "@jupyter-widgets/controls",
      "model_module_version": "1.5.0",
      "model_name": "HBoxModel",
      "state": {
       "children": [
        "IPY_MODEL_321b1bb995274a40a6aa9006d25f9e9d",
        "IPY_MODEL_91b2f82248084dfc92abf99e6c6e7e92",
        "IPY_MODEL_e38e1a03162f4f2eb3e81a3bff3a88fa"
       ],
       "layout": "IPY_MODEL_85c283aaca2a4a57a3efc4a1e4d34414"
      }
     },
     "30bc7cfc124c436789252ced6cc060a6": {
      "model_module": "@jupyter-widgets/controls",
      "model_module_version": "1.5.0",
      "model_name": "ProgressStyleModel",
      "state": {
       "description_width": ""
      }
     },
     "321a55c8a0b944a09f2011fa39e06476": {
      "model_module": "@jupyter-widgets/controls",
      "model_module_version": "1.5.0",
      "model_name": "FloatProgressModel",
      "state": {
       "bar_style": "success",
       "layout": "IPY_MODEL_634be68983b44aeeac64d33b541478ca",
       "max": 5,
       "style": "IPY_MODEL_0c84321146be47cd890cab9d072a27c9",
       "value": 5
      }
     },
     "321b1bb995274a40a6aa9006d25f9e9d": {
      "model_module": "@jupyter-widgets/controls",
      "model_module_version": "1.5.0",
      "model_name": "HTMLModel",
      "state": {
       "layout": "IPY_MODEL_3279c0d9385d4047a98ad75d86e638b8",
       "style": "IPY_MODEL_340c1ef8cd3e47f09eae9dd8ea5137b5",
       "value": "100%"
      }
     },
     "323e215c011f49b8b1030405a0df816b": {
      "model_module": "@jupyter-widgets/base",
      "model_module_version": "1.2.0",
      "model_name": "LayoutModel",
      "state": {}
     },
     "3279c0d9385d4047a98ad75d86e638b8": {
      "model_module": "@jupyter-widgets/base",
      "model_module_version": "1.2.0",
      "model_name": "LayoutModel",
      "state": {}
     },
     "337c34e501f14f21a078ab80475f3103": {
      "model_module": "@jupyter-widgets/controls",
      "model_module_version": "1.5.0",
      "model_name": "ProgressStyleModel",
      "state": {
       "description_width": ""
      }
     },
     "340c1ef8cd3e47f09eae9dd8ea5137b5": {
      "model_module": "@jupyter-widgets/controls",
      "model_module_version": "1.5.0",
      "model_name": "DescriptionStyleModel",
      "state": {
       "description_width": ""
      }
     },
     "346f31158fe346458f5688c980e789b6": {
      "model_module": "@jupyter-widgets/base",
      "model_module_version": "1.2.0",
      "model_name": "LayoutModel",
      "state": {}
     },
     "350d75262d124426a1af064b69a05a04": {
      "model_module": "@jupyter-widgets/base",
      "model_module_version": "1.2.0",
      "model_name": "LayoutModel",
      "state": {}
     },
     "35341f2fb2174b23b95015e0571b1748": {
      "model_module": "@jupyter-widgets/base",
      "model_module_version": "1.2.0",
      "model_name": "LayoutModel",
      "state": {}
     },
     "361985c3940c4f82af76152e358dea33": {
      "model_module": "@jupyter-widgets/controls",
      "model_module_version": "1.5.0",
      "model_name": "HBoxModel",
      "state": {
       "children": [
        "IPY_MODEL_858ba27d9ecb406c8c40d849aff1e811",
        "IPY_MODEL_2ab2a3a4914a4e06ba9f4acf2030aee3",
        "IPY_MODEL_5143524921864a539c138c2461ce537a"
       ],
       "layout": "IPY_MODEL_4464cb7aa3f34cfcb5d5a8eed4f33c29"
      }
     },
     "36b398cfaa2c4aacaf6a48e3d542f225": {
      "model_module": "@jupyter-widgets/controls",
      "model_module_version": "1.5.0",
      "model_name": "ProgressStyleModel",
      "state": {
       "description_width": ""
      }
     },
     "36dad58f481e459c9f9c9dee07bbe54e": {
      "model_module": "@jupyter-widgets/base",
      "model_module_version": "1.2.0",
      "model_name": "LayoutModel",
      "state": {}
     },
     "386596726a9442c391eea54b6c0f8145": {
      "model_module": "@jupyter-widgets/controls",
      "model_module_version": "1.5.0",
      "model_name": "HBoxModel",
      "state": {
       "children": [
        "IPY_MODEL_049549122228476aa2d5df81c79c34b4",
        "IPY_MODEL_c070bc3dd09049519edd1c080e2c7be5",
        "IPY_MODEL_ceb209d52a7f41459c8ed2db2fabdb0e"
       ],
       "layout": "IPY_MODEL_f822af2f773249e38e6db9a28dfb7c87"
      }
     },
     "3897267b19444032beeb2013840390c0": {
      "model_module": "@jupyter-widgets/base",
      "model_module_version": "1.2.0",
      "model_name": "LayoutModel",
      "state": {}
     },
     "3930b5f0c9b347b8930f4181ebdf1ce2": {
      "model_module": "@jupyter-widgets/base",
      "model_module_version": "1.2.0",
      "model_name": "LayoutModel",
      "state": {}
     },
     "3988f04a98c84b87ab19f877ea3dd1df": {
      "model_module": "@jupyter-widgets/controls",
      "model_module_version": "1.5.0",
      "model_name": "DescriptionStyleModel",
      "state": {
       "description_width": ""
      }
     },
     "3aec42a745f946f7a930a5ee02e7c437": {
      "model_module": "@jupyter-widgets/controls",
      "model_module_version": "1.5.0",
      "model_name": "HTMLModel",
      "state": {
       "layout": "IPY_MODEL_17c83b1bdc004f1abb8ea14c2fbcb759",
       "style": "IPY_MODEL_3988f04a98c84b87ab19f877ea3dd1df",
       "value": " 5/5 [14:23&lt;00:00, 175.09s/it]"
      }
     },
     "3b86bf74b0a4407eb8e0ad84f343f090": {
      "model_module": "@jupyter-widgets/controls",
      "model_module_version": "1.5.0",
      "model_name": "ProgressStyleModel",
      "state": {
       "description_width": ""
      }
     },
     "3c7e36eeeda44a2abd96c1a7caac37f7": {
      "model_module": "@jupyter-widgets/base",
      "model_module_version": "1.2.0",
      "model_name": "LayoutModel",
      "state": {}
     },
     "3caddafca0794ae0bc777a747597ab3b": {
      "model_module": "@jupyter-widgets/controls",
      "model_module_version": "1.5.0",
      "model_name": "ProgressStyleModel",
      "state": {
       "description_width": ""
      }
     },
     "3df7f9352618499892e63458f4ef2bb5": {
      "model_module": "@jupyter-widgets/controls",
      "model_module_version": "1.5.0",
      "model_name": "HTMLModel",
      "state": {
       "layout": "IPY_MODEL_bdffed28ed434ce2a6872a4ece53ddba",
       "style": "IPY_MODEL_51b37507f0e1410b86c25da08fc3021a",
       "value": "100%"
      }
     },
     "3e83ad03eaec4004a7c692dee2531a19": {
      "model_module": "@jupyter-widgets/controls",
      "model_module_version": "1.5.0",
      "model_name": "HTMLModel",
      "state": {
       "layout": "IPY_MODEL_00c1efedfaa54bbfb1957d947e818976",
       "style": "IPY_MODEL_f832eda04c914eeeb2c0b9957033cf90",
       "value": " 5/5 [00:05&lt;00:00,  1.04s/it]"
      }
     },
     "3fc38d76c63b4a73958195274a88140b": {
      "model_module": "@jupyter-widgets/base",
      "model_module_version": "1.2.0",
      "model_name": "LayoutModel",
      "state": {}
     },
     "412c1b6aa6314b7fbdcecc2f8823d188": {
      "model_module": "@jupyter-widgets/controls",
      "model_module_version": "1.5.0",
      "model_name": "DescriptionStyleModel",
      "state": {
       "description_width": ""
      }
     },
     "41f13d765c254e22b7871ca721b31867": {
      "model_module": "@jupyter-widgets/controls",
      "model_module_version": "1.5.0",
      "model_name": "DescriptionStyleModel",
      "state": {
       "description_width": ""
      }
     },
     "424da3d725cc4e30b4c2b06045242058": {
      "model_module": "@jupyter-widgets/base",
      "model_module_version": "1.2.0",
      "model_name": "LayoutModel",
      "state": {}
     },
     "425edef6f00045bfa08402af7d8c9bfc": {
      "model_module": "@jupyter-widgets/controls",
      "model_module_version": "1.5.0",
      "model_name": "FloatProgressModel",
      "state": {
       "bar_style": "success",
       "layout": "IPY_MODEL_0ce2b0956a8a453aaf14020c545216a0",
       "max": 5,
       "style": "IPY_MODEL_a0690abd5beb4231aa71017bbc0fdff5",
       "value": 5
      }
     },
     "439de40f4f9c43be90eaea72a8bd0d2c": {
      "model_module": "@jupyter-widgets/controls",
      "model_module_version": "1.5.0",
      "model_name": "HTMLModel",
      "state": {
       "layout": "IPY_MODEL_7502be5d249a4508814840fe7f9d6261",
       "style": "IPY_MODEL_e07fed876d754a8e9c7f149193b0f11f",
       "value": " 5/5 [00:04&lt;00:00,  1.11it/s]"
      }
     },
     "4464cb7aa3f34cfcb5d5a8eed4f33c29": {
      "model_module": "@jupyter-widgets/base",
      "model_module_version": "1.2.0",
      "model_name": "LayoutModel",
      "state": {}
     },
     "45aa8b2988b94728ac1cf7ebcbfbdf59": {
      "model_module": "@jupyter-widgets/controls",
      "model_module_version": "1.5.0",
      "model_name": "ProgressStyleModel",
      "state": {
       "description_width": ""
      }
     },
     "478040cc6b97457ba70243096b97799a": {
      "model_module": "@jupyter-widgets/base",
      "model_module_version": "1.2.0",
      "model_name": "LayoutModel",
      "state": {}
     },
     "47eefa3b4c6a40febc44ef6f4d998318": {
      "model_module": "@jupyter-widgets/base",
      "model_module_version": "1.2.0",
      "model_name": "LayoutModel",
      "state": {}
     },
     "48f2a57a880440d0a2edebc2e78fd983": {
      "model_module": "@jupyter-widgets/base",
      "model_module_version": "1.2.0",
      "model_name": "LayoutModel",
      "state": {}
     },
     "4a83efe63cf347268d799cf6c154542b": {
      "model_module": "@jupyter-widgets/base",
      "model_module_version": "1.2.0",
      "model_name": "LayoutModel",
      "state": {}
     },
     "4afab328669f4450b1726f56b2152c04": {
      "model_module": "@jupyter-widgets/controls",
      "model_module_version": "1.5.0",
      "model_name": "FloatProgressModel",
      "state": {
       "bar_style": "success",
       "layout": "IPY_MODEL_b764785d5b4142e3be993205af920e44",
       "max": 5,
       "style": "IPY_MODEL_d0e6f3acd3c345d6bedb514b89248179",
       "value": 5
      }
     },
     "4d67455dcadd4382a99c172bab9ca897": {
      "model_module": "@jupyter-widgets/controls",
      "model_module_version": "1.5.0",
      "model_name": "DescriptionStyleModel",
      "state": {
       "description_width": ""
      }
     },
     "5143524921864a539c138c2461ce537a": {
      "model_module": "@jupyter-widgets/controls",
      "model_module_version": "1.5.0",
      "model_name": "HTMLModel",
      "state": {
       "layout": "IPY_MODEL_70c06a7292c64517a977ee8620649eae",
       "style": "IPY_MODEL_9d530d085b534ec39c8828a33c84205d",
       "value": " 5/5 [13:13&lt;00:00, 158.24s/it]"
      }
     },
     "51b37507f0e1410b86c25da08fc3021a": {
      "model_module": "@jupyter-widgets/controls",
      "model_module_version": "1.5.0",
      "model_name": "DescriptionStyleModel",
      "state": {
       "description_width": ""
      }
     },
     "52028b1518f443bda40e1d00828cd0ab": {
      "model_module": "@jupyter-widgets/base",
      "model_module_version": "1.2.0",
      "model_name": "LayoutModel",
      "state": {}
     },
     "523f520c636c4edd803e174fdc757ac5": {
      "model_module": "@jupyter-widgets/base",
      "model_module_version": "1.2.0",
      "model_name": "LayoutModel",
      "state": {}
     },
     "526aa1afc7e04f54b23d3f26bb296c0a": {
      "model_module": "@jupyter-widgets/base",
      "model_module_version": "1.2.0",
      "model_name": "LayoutModel",
      "state": {}
     },
     "529e9d14d6d54f1c904a2f7c82f47987": {
      "model_module": "@jupyter-widgets/controls",
      "model_module_version": "1.5.0",
      "model_name": "DescriptionStyleModel",
      "state": {
       "description_width": ""
      }
     },
     "541d309ca7fb458384e358500a9f48ca": {
      "model_module": "@jupyter-widgets/base",
      "model_module_version": "1.2.0",
      "model_name": "LayoutModel",
      "state": {}
     },
     "55214528b8aa4825bed88dbeea943cfe": {
      "model_module": "@jupyter-widgets/controls",
      "model_module_version": "1.5.0",
      "model_name": "DescriptionStyleModel",
      "state": {
       "description_width": ""
      }
     },
     "565a8971fc544c74ac69dca3575be08f": {
      "model_module": "@jupyter-widgets/controls",
      "model_module_version": "1.5.0",
      "model_name": "HTMLModel",
      "state": {
       "layout": "IPY_MODEL_99c3a073ea1541fdb85da62a81cd2a86",
       "style": "IPY_MODEL_089b4800faf74815a31afd4db80ca698",
       "value": "100%"
      }
     },
     "57c7042a4d094de9892bc50aaccae9d4": {
      "model_module": "@jupyter-widgets/base",
      "model_module_version": "1.2.0",
      "model_name": "LayoutModel",
      "state": {}
     },
     "597084808fe14dc0b8ed27b9010df776": {
      "model_module": "@jupyter-widgets/base",
      "model_module_version": "1.2.0",
      "model_name": "LayoutModel",
      "state": {}
     },
     "59bbb68b750648ddbc6c2e35c6cc8173": {
      "model_module": "@jupyter-widgets/controls",
      "model_module_version": "1.5.0",
      "model_name": "ProgressStyleModel",
      "state": {
       "description_width": ""
      }
     },
     "5aac884fd06349c0b3e3995be349dcd7": {
      "model_module": "@jupyter-widgets/controls",
      "model_module_version": "1.5.0",
      "model_name": "HTMLModel",
      "state": {
       "layout": "IPY_MODEL_27f08c462a5d4c1fbd0715f01dab69de",
       "style": "IPY_MODEL_ae0194dc7aa5433a9efab2af2f867890",
       "value": " 5/5 [00:12&lt;00:00,  2.44s/it]"
      }
     },
     "5cdbb5fed3da4e3a8b2984b658fc902a": {
      "model_module": "@jupyter-widgets/controls",
      "model_module_version": "1.5.0",
      "model_name": "HTMLModel",
      "state": {
       "layout": "IPY_MODEL_93c98f4b077c4bfaad6359f81aa2df8d",
       "style": "IPY_MODEL_f9911eedaae04c9da89e1ac13277ec5f",
       "value": "100%"
      }
     },
     "5d1ef6faa9ab48658a7f2cf48bff98d8": {
      "model_module": "@jupyter-widgets/controls",
      "model_module_version": "1.5.0",
      "model_name": "HBoxModel",
      "state": {
       "children": [
        "IPY_MODEL_2b2e77dfd7594b5da6e03cd7a7bac618",
        "IPY_MODEL_75a6e59e51c1411cb805970117803a52",
        "IPY_MODEL_850724a6b8cf43a0bc78b09def1e1f5b"
       ],
       "layout": "IPY_MODEL_e9341163ac9b4bc19a5a387135811b1d"
      }
     },
     "5ff9f249f3c84c1a937c15a5bc9b5e9d": {
      "model_module": "@jupyter-widgets/controls",
      "model_module_version": "1.5.0",
      "model_name": "FloatProgressModel",
      "state": {
       "bar_style": "success",
       "layout": "IPY_MODEL_2bf9536c0ce243c59942fe730bda866c",
       "max": 5,
       "style": "IPY_MODEL_36b398cfaa2c4aacaf6a48e3d542f225",
       "value": 5
      }
     },
     "6007ca8bd30e424f9b200ee22fdc4538": {
      "model_module": "@jupyter-widgets/controls",
      "model_module_version": "1.5.0",
      "model_name": "HTMLModel",
      "state": {
       "layout": "IPY_MODEL_0ef71d51e8c64b99a920b220d7656db8",
       "style": "IPY_MODEL_2afd348098e14feda6f9e21f148c9f3c",
       "value": "100%"
      }
     },
     "60fee1f4d8ff453eb8cac85b732b74fd": {
      "model_module": "@jupyter-widgets/base",
      "model_module_version": "1.2.0",
      "model_name": "LayoutModel",
      "state": {}
     },
     "61fc70c47f624a9aabe7bdff023a994f": {
      "model_module": "@jupyter-widgets/controls",
      "model_module_version": "1.5.0",
      "model_name": "HTMLModel",
      "state": {
       "layout": "IPY_MODEL_4a83efe63cf347268d799cf6c154542b",
       "style": "IPY_MODEL_0012760bab1f492691d653f41ec9d746",
       "value": " 5/5 [13:35&lt;00:00, 162.79s/it]"
      }
     },
     "630a701c557b44808b88054b94e67a89": {
      "model_module": "@jupyter-widgets/controls",
      "model_module_version": "1.5.0",
      "model_name": "ProgressStyleModel",
      "state": {
       "description_width": ""
      }
     },
     "634be68983b44aeeac64d33b541478ca": {
      "model_module": "@jupyter-widgets/base",
      "model_module_version": "1.2.0",
      "model_name": "LayoutModel",
      "state": {}
     },
     "64ed98ef1dd14dc5babd83576dfc36ea": {
      "model_module": "@jupyter-widgets/base",
      "model_module_version": "1.2.0",
      "model_name": "LayoutModel",
      "state": {}
     },
     "6589de2570cc4373ae89f04a1265b4b2": {
      "model_module": "@jupyter-widgets/base",
      "model_module_version": "1.2.0",
      "model_name": "LayoutModel",
      "state": {}
     },
     "678925c9f1984651b3375f47d762f6f7": {
      "model_module": "@jupyter-widgets/controls",
      "model_module_version": "1.5.0",
      "model_name": "DescriptionStyleModel",
      "state": {
       "description_width": ""
      }
     },
     "68706ceaa76d4340bcb60983b146ed34": {
      "model_module": "@jupyter-widgets/controls",
      "model_module_version": "1.5.0",
      "model_name": "DescriptionStyleModel",
      "state": {
       "description_width": ""
      }
     },
     "6e1efb5f27f544e09bb40da44f0963a5": {
      "model_module": "@jupyter-widgets/base",
      "model_module_version": "1.2.0",
      "model_name": "LayoutModel",
      "state": {}
     },
     "6ea1227f1cd24133bb68aa28ee6048b8": {
      "model_module": "@jupyter-widgets/base",
      "model_module_version": "1.2.0",
      "model_name": "LayoutModel",
      "state": {}
     },
     "6edbe7de63014877a5a212ebb3c3eda8": {
      "model_module": "@jupyter-widgets/base",
      "model_module_version": "1.2.0",
      "model_name": "LayoutModel",
      "state": {}
     },
     "70c06a7292c64517a977ee8620649eae": {
      "model_module": "@jupyter-widgets/base",
      "model_module_version": "1.2.0",
      "model_name": "LayoutModel",
      "state": {}
     },
     "714cfbce50da41b7b321bb8f3d563c29": {
      "model_module": "@jupyter-widgets/controls",
      "model_module_version": "1.5.0",
      "model_name": "ProgressStyleModel",
      "state": {
       "description_width": ""
      }
     },
     "72f8a2a5ea8641f7b15484438a4e7644": {
      "model_module": "@jupyter-widgets/controls",
      "model_module_version": "1.5.0",
      "model_name": "HBoxModel",
      "state": {
       "children": [
        "IPY_MODEL_b54075bfc8b04707a37caf0adfd2ba53",
        "IPY_MODEL_dbbd41ecb1b2451091ce233783df1f06",
        "IPY_MODEL_e29e123ea35b4287a8c264fccf596638"
       ],
       "layout": "IPY_MODEL_7417c4733a404574923ffb474f24c2b8"
      }
     },
     "732de88bc76542048c00a8add8c5ac8e": {
      "model_module": "@jupyter-widgets/controls",
      "model_module_version": "1.5.0",
      "model_name": "FloatProgressModel",
      "state": {
       "bar_style": "success",
       "layout": "IPY_MODEL_b4dbf3157e1a45fda5e9da35e3068493",
       "max": 5,
       "style": "IPY_MODEL_30bc7cfc124c436789252ced6cc060a6",
       "value": 5
      }
     },
     "7390194be9484235be5a8439b8096781": {
      "model_module": "@jupyter-widgets/controls",
      "model_module_version": "1.5.0",
      "model_name": "FloatProgressModel",
      "state": {
       "bar_style": "success",
       "layout": "IPY_MODEL_0b4e783bd8324b289b2fdbda2404e098",
       "max": 5,
       "style": "IPY_MODEL_2da12d9601d543d4ae8693ad6e1b8013",
       "value": 5
      }
     },
     "7417c4733a404574923ffb474f24c2b8": {
      "model_module": "@jupyter-widgets/base",
      "model_module_version": "1.2.0",
      "model_name": "LayoutModel",
      "state": {}
     },
     "74a52640153747f88bfb0f1aa92edecf": {
      "model_module": "@jupyter-widgets/base",
      "model_module_version": "1.2.0",
      "model_name": "LayoutModel",
      "state": {}
     },
     "74d11a0f03f34f46b44f36cfc6609599": {
      "model_module": "@jupyter-widgets/controls",
      "model_module_version": "1.5.0",
      "model_name": "HBoxModel",
      "state": {
       "children": [
        "IPY_MODEL_a799294d03e74613944117a98448d23e",
        "IPY_MODEL_8000f184ab9940389b37b188a742f83f",
        "IPY_MODEL_cb5f54146ce042609805a8c6ff397d4e"
       ],
       "layout": "IPY_MODEL_da208d14d40a4c909bda8937ffe84202"
      }
     },
     "7502be5d249a4508814840fe7f9d6261": {
      "model_module": "@jupyter-widgets/base",
      "model_module_version": "1.2.0",
      "model_name": "LayoutModel",
      "state": {}
     },
     "757536d3f3b9469ead0ee544699d4db0": {
      "model_module": "@jupyter-widgets/controls",
      "model_module_version": "1.5.0",
      "model_name": "FloatProgressModel",
      "state": {
       "bar_style": "success",
       "layout": "IPY_MODEL_57c7042a4d094de9892bc50aaccae9d4",
       "max": 5,
       "style": "IPY_MODEL_0bb4253250ed434d94761c9b08b95305",
       "value": 5
      }
     },
     "75a6e59e51c1411cb805970117803a52": {
      "model_module": "@jupyter-widgets/controls",
      "model_module_version": "1.5.0",
      "model_name": "FloatProgressModel",
      "state": {
       "bar_style": "success",
       "layout": "IPY_MODEL_0025f0a996e04dbf91b279b5b472b22b",
       "max": 5,
       "style": "IPY_MODEL_45aa8b2988b94728ac1cf7ebcbfbdf59",
       "value": 5
      }
     },
     "75e55b13c1b04f6b81a4c6710046b5ec": {
      "model_module": "@jupyter-widgets/base",
      "model_module_version": "1.2.0",
      "model_name": "LayoutModel",
      "state": {}
     },
     "760b04fbcb724b44be1932876de8a705": {
      "model_module": "@jupyter-widgets/controls",
      "model_module_version": "1.5.0",
      "model_name": "HTMLModel",
      "state": {
       "layout": "IPY_MODEL_b70128e9565b4b3581b362d6211ab681",
       "style": "IPY_MODEL_c07920d9bbf44466b4e155ae36213b93",
       "value": "100%"
      }
     },
     "76621d98b499496cab0d0dcae88b9f59": {
      "model_module": "@jupyter-widgets/base",
      "model_module_version": "1.2.0",
      "model_name": "LayoutModel",
      "state": {}
     },
     "76c8f11cac6e49c99a047d341b150d4d": {
      "model_module": "@jupyter-widgets/base",
      "model_module_version": "1.2.0",
      "model_name": "LayoutModel",
      "state": {}
     },
     "7b585f0b6aa846a3a192b075769d193c": {
      "model_module": "@jupyter-widgets/base",
      "model_module_version": "1.2.0",
      "model_name": "LayoutModel",
      "state": {}
     },
     "7b5fc1e883994a88b1e06f3afc077dd0": {
      "model_module": "@jupyter-widgets/base",
      "model_module_version": "1.2.0",
      "model_name": "LayoutModel",
      "state": {}
     },
     "7cd8d93f63d04380ac29636c72f38253": {
      "model_module": "@jupyter-widgets/controls",
      "model_module_version": "1.5.0",
      "model_name": "HTMLModel",
      "state": {
       "layout": "IPY_MODEL_08a6e94050c04524b9df885a32f6daa1",
       "style": "IPY_MODEL_8b3cd7a914f444729eec36a85e5ce615",
       "value": "100%"
      }
     },
     "8000f184ab9940389b37b188a742f83f": {
      "model_module": "@jupyter-widgets/controls",
      "model_module_version": "1.5.0",
      "model_name": "FloatProgressModel",
      "state": {
       "bar_style": "success",
       "layout": "IPY_MODEL_eefaac2f18844c8a9ba4f8df1b9d7131",
       "max": 5,
       "style": "IPY_MODEL_f8867ed551ad49448bdcfc3c94e1d945",
       "value": 5
      }
     },
     "81e6bbd729d54c80bfdba322a8350e03": {
      "model_module": "@jupyter-widgets/controls",
      "model_module_version": "1.5.0",
      "model_name": "DescriptionStyleModel",
      "state": {
       "description_width": ""
      }
     },
     "8217c1adcdee4887bcbdc2a0d9cef595": {
      "model_module": "@jupyter-widgets/controls",
      "model_module_version": "1.5.0",
      "model_name": "DescriptionStyleModel",
      "state": {
       "description_width": ""
      }
     },
     "8303943df9794317ac21c8aa5f9b7aeb": {
      "model_module": "@jupyter-widgets/controls",
      "model_module_version": "1.5.0",
      "model_name": "FloatProgressModel",
      "state": {
       "bar_style": "success",
       "layout": "IPY_MODEL_6ea1227f1cd24133bb68aa28ee6048b8",
       "max": 5,
       "style": "IPY_MODEL_855044ba07994414b1773e061d575b53",
       "value": 5
      }
     },
     "83c4148f380740c89e0f59d888b2afb3": {
      "model_module": "@jupyter-widgets/controls",
      "model_module_version": "1.5.0",
      "model_name": "FloatProgressModel",
      "state": {
       "bar_style": "success",
       "layout": "IPY_MODEL_2cea7d9c1eab4de2a0963f98d952fb7e",
       "max": 5,
       "style": "IPY_MODEL_09a0848bd6df415cb4b40ea37c20c98e",
       "value": 5
      }
     },
     "849d8cd6bb774ba09113f32cd1d6e6bb": {
      "model_module": "@jupyter-widgets/controls",
      "model_module_version": "1.5.0",
      "model_name": "FloatProgressModel",
      "state": {
       "bar_style": "success",
       "layout": "IPY_MODEL_8d3f6511b7ef408ab07761d64bf4b319",
       "max": 5,
       "style": "IPY_MODEL_a8c2766e830340cca3dea45919ca3c52",
       "value": 5
      }
     },
     "84b6217d0ced4d9789aba6e9f526a39a": {
      "model_module": "@jupyter-widgets/controls",
      "model_module_version": "1.5.0",
      "model_name": "FloatProgressModel",
      "state": {
       "bar_style": "success",
       "layout": "IPY_MODEL_350d75262d124426a1af064b69a05a04",
       "max": 5,
       "style": "IPY_MODEL_59bbb68b750648ddbc6c2e35c6cc8173",
       "value": 5
      }
     },
     "850724a6b8cf43a0bc78b09def1e1f5b": {
      "model_module": "@jupyter-widgets/controls",
      "model_module_version": "1.5.0",
      "model_name": "HTMLModel",
      "state": {
       "layout": "IPY_MODEL_934dcfbeaca14774824ac64d392f90bb",
       "style": "IPY_MODEL_2572cef2fb4b45a3901fd7f2686b8fa6",
       "value": " 5/5 [00:12&lt;00:00,  2.56s/it]"
      }
     },
     "8539324fd39f45fe81285607c261688d": {
      "model_module": "@jupyter-widgets/base",
      "model_module_version": "1.2.0",
      "model_name": "LayoutModel",
      "state": {}
     },
     "855044ba07994414b1773e061d575b53": {
      "model_module": "@jupyter-widgets/controls",
      "model_module_version": "1.5.0",
      "model_name": "ProgressStyleModel",
      "state": {
       "description_width": ""
      }
     },
     "858ba27d9ecb406c8c40d849aff1e811": {
      "model_module": "@jupyter-widgets/controls",
      "model_module_version": "1.5.0",
      "model_name": "HTMLModel",
      "state": {
       "layout": "IPY_MODEL_eba518406a8e4de6bb6962db2f905d0b",
       "style": "IPY_MODEL_bab5c6919eaf42ed872e9975ddfdd949",
       "value": "100%"
      }
     },
     "85c283aaca2a4a57a3efc4a1e4d34414": {
      "model_module": "@jupyter-widgets/base",
      "model_module_version": "1.2.0",
      "model_name": "LayoutModel",
      "state": {}
     },
     "863c2e13e68246afb794387a8bd76b20": {
      "model_module": "@jupyter-widgets/controls",
      "model_module_version": "1.5.0",
      "model_name": "DescriptionStyleModel",
      "state": {
       "description_width": ""
      }
     },
     "87fabac7205e46a8aaf45fda8a27117a": {
      "model_module": "@jupyter-widgets/controls",
      "model_module_version": "1.5.0",
      "model_name": "HTMLModel",
      "state": {
       "layout": "IPY_MODEL_36dad58f481e459c9f9c9dee07bbe54e",
       "style": "IPY_MODEL_be5fd8ab4e3043cabb2c200becd9695d",
       "value": "100%"
      }
     },
     "881f7a008bdc4b2e9de88c2e33c72c21": {
      "model_module": "@jupyter-widgets/controls",
      "model_module_version": "1.5.0",
      "model_name": "HTMLModel",
      "state": {
       "layout": "IPY_MODEL_052a61e4853e4597a46e56a27874950d",
       "style": "IPY_MODEL_4d67455dcadd4382a99c172bab9ca897",
       "value": "100%"
      }
     },
     "888db0b467374a86b6be36deacf727d9": {
      "model_module": "@jupyter-widgets/base",
      "model_module_version": "1.2.0",
      "model_name": "LayoutModel",
      "state": {}
     },
     "88c3a71c9eec40469e4b6bb10a7b0df0": {
      "model_module": "@jupyter-widgets/base",
      "model_module_version": "1.2.0",
      "model_name": "LayoutModel",
      "state": {}
     },
     "892682c9be3147239af261ba14b2d98e": {
      "model_module": "@jupyter-widgets/controls",
      "model_module_version": "1.5.0",
      "model_name": "FloatProgressModel",
      "state": {
       "bar_style": "success",
       "layout": "IPY_MODEL_52028b1518f443bda40e1d00828cd0ab",
       "max": 5,
       "style": "IPY_MODEL_3caddafca0794ae0bc777a747597ab3b",
       "value": 5
      }
     },
     "8a1d460dc22b4991b1ddb46855ac76d3": {
      "model_module": "@jupyter-widgets/controls",
      "model_module_version": "1.5.0",
      "model_name": "HTMLModel",
      "state": {
       "layout": "IPY_MODEL_1396b98735ec4867b0b98d4641cc9480",
       "style": "IPY_MODEL_d01f095be9284806a4de5ef157f4625b",
       "value": "100%"
      }
     },
     "8b3cd7a914f444729eec36a85e5ce615": {
      "model_module": "@jupyter-widgets/controls",
      "model_module_version": "1.5.0",
      "model_name": "DescriptionStyleModel",
      "state": {
       "description_width": ""
      }
     },
     "8c8111cefc4b43a1987f0a65131aed15": {
      "model_module": "@jupyter-widgets/controls",
      "model_module_version": "1.5.0",
      "model_name": "HTMLModel",
      "state": {
       "layout": "IPY_MODEL_76c8f11cac6e49c99a047d341b150d4d",
       "style": "IPY_MODEL_68706ceaa76d4340bcb60983b146ed34",
       "value": "100%"
      }
     },
     "8c8d12a335fe432783a5370716261a05": {
      "model_module": "@jupyter-widgets/controls",
      "model_module_version": "1.5.0",
      "model_name": "FloatProgressModel",
      "state": {
       "bar_style": "success",
       "layout": "IPY_MODEL_d11146f8e11e4577a2b06cafcaa8fa42",
       "max": 5,
       "style": "IPY_MODEL_1d8a815efb204e45a492a760b7c1fc1f",
       "value": 5
      }
     },
     "8d3f6511b7ef408ab07761d64bf4b319": {
      "model_module": "@jupyter-widgets/base",
      "model_module_version": "1.2.0",
      "model_name": "LayoutModel",
      "state": {}
     },
     "8eff175ade424340a763f9323c0a1334": {
      "model_module": "@jupyter-widgets/controls",
      "model_module_version": "1.5.0",
      "model_name": "HTMLModel",
      "state": {
       "layout": "IPY_MODEL_60fee1f4d8ff453eb8cac85b732b74fd",
       "style": "IPY_MODEL_9749a6e7cfee4db585143c06b52a26ed",
       "value": "100%"
      }
     },
     "8f723e2bc0f94ca2851a10498e9c26d9": {
      "model_module": "@jupyter-widgets/controls",
      "model_module_version": "1.5.0",
      "model_name": "HTMLModel",
      "state": {
       "layout": "IPY_MODEL_6589de2570cc4373ae89f04a1265b4b2",
       "style": "IPY_MODEL_1a46d8335d194975ad423264ea7955d8",
       "value": "100%"
      }
     },
     "913515b784774b878201f4cac85f04d3": {
      "model_module": "@jupyter-widgets/controls",
      "model_module_version": "1.5.0",
      "model_name": "DescriptionStyleModel",
      "state": {
       "description_width": ""
      }
     },
     "91b2f82248084dfc92abf99e6c6e7e92": {
      "model_module": "@jupyter-widgets/controls",
      "model_module_version": "1.5.0",
      "model_name": "FloatProgressModel",
      "state": {
       "bar_style": "success",
       "layout": "IPY_MODEL_f192e36d7d2e46629eaa74ab57cc0345",
       "max": 5,
       "style": "IPY_MODEL_14c9b581ec784baab6fb8eba296aa56c",
       "value": 5
      }
     },
     "91cce6416bf74421984c1d9c07bc17ad": {
      "model_module": "@jupyter-widgets/base",
      "model_module_version": "1.2.0",
      "model_name": "LayoutModel",
      "state": {}
     },
     "91e16ba41ae7403f81b7077211b5e164": {
      "model_module": "@jupyter-widgets/controls",
      "model_module_version": "1.5.0",
      "model_name": "DescriptionStyleModel",
      "state": {
       "description_width": ""
      }
     },
     "934dcfbeaca14774824ac64d392f90bb": {
      "model_module": "@jupyter-widgets/base",
      "model_module_version": "1.2.0",
      "model_name": "LayoutModel",
      "state": {}
     },
     "93c98f4b077c4bfaad6359f81aa2df8d": {
      "model_module": "@jupyter-widgets/base",
      "model_module_version": "1.2.0",
      "model_name": "LayoutModel",
      "state": {}
     },
     "95f46d8e17c6411bafbc30ed41dadc8a": {
      "model_module": "@jupyter-widgets/controls",
      "model_module_version": "1.5.0",
      "model_name": "HTMLModel",
      "state": {
       "layout": "IPY_MODEL_88c3a71c9eec40469e4b6bb10a7b0df0",
       "style": "IPY_MODEL_b6bc195b16f74afabf97356b7b77d610",
       "value": " 5/5 [00:12&lt;00:00,  2.56s/it]"
      }
     },
     "964c5106996548c6b623d0b20345227c": {
      "model_module": "@jupyter-widgets/controls",
      "model_module_version": "1.5.0",
      "model_name": "FloatProgressModel",
      "state": {
       "bar_style": "success",
       "layout": "IPY_MODEL_aed83756061844f794205a0f8aab0e4f",
       "max": 5,
       "style": "IPY_MODEL_26be05d7a38a40469b5fb46526e38c3e",
       "value": 5
      }
     },
     "968663b1d42047cb8773f2fbf6fd1f66": {
      "model_module": "@jupyter-widgets/controls",
      "model_module_version": "1.5.0",
      "model_name": "DescriptionStyleModel",
      "state": {
       "description_width": ""
      }
     },
     "96ccd4c9aa304d70b9a15aea82450287": {
      "model_module": "@jupyter-widgets/base",
      "model_module_version": "1.2.0",
      "model_name": "LayoutModel",
      "state": {}
     },
     "9749a6e7cfee4db585143c06b52a26ed": {
      "model_module": "@jupyter-widgets/controls",
      "model_module_version": "1.5.0",
      "model_name": "DescriptionStyleModel",
      "state": {
       "description_width": ""
      }
     },
     "98203bea58a14fe6a728e7f5b63a4fd8": {
      "model_module": "@jupyter-widgets/base",
      "model_module_version": "1.2.0",
      "model_name": "LayoutModel",
      "state": {}
     },
     "98338c32d4974b4095e63ae4c076b677": {
      "model_module": "@jupyter-widgets/controls",
      "model_module_version": "1.5.0",
      "model_name": "DescriptionStyleModel",
      "state": {
       "description_width": ""
      }
     },
     "986ed9768061469bacec6bb31b718f8f": {
      "model_module": "@jupyter-widgets/base",
      "model_module_version": "1.2.0",
      "model_name": "LayoutModel",
      "state": {}
     },
     "98bb309def2b48bd89b90520773b1c27": {
      "model_module": "@jupyter-widgets/controls",
      "model_module_version": "1.5.0",
      "model_name": "HTMLModel",
      "state": {
       "layout": "IPY_MODEL_cec1b24d3e874fd8aac0cc0be695ca04",
       "style": "IPY_MODEL_d96e3a5bd7f749e785e94b60ab55c910",
       "value": " 5/5 [00:00&lt;00:00, 69.06it/s]"
      }
     },
     "98df17219fec4a8fbeae72f87243f37f": {
      "model_module": "@jupyter-widgets/controls",
      "model_module_version": "1.5.0",
      "model_name": "HTMLModel",
      "state": {
       "layout": "IPY_MODEL_91cce6416bf74421984c1d9c07bc17ad",
       "style": "IPY_MODEL_b70b8d30386c4bb388757acd282a5acb",
       "value": "100%"
      }
     },
     "98fce8d499c143388f7c380eea0b8fc9": {
      "model_module": "@jupyter-widgets/base",
      "model_module_version": "1.2.0",
      "model_name": "LayoutModel",
      "state": {}
     },
     "9933ca59f65a462c80f3775fbcd15f48": {
      "model_module": "@jupyter-widgets/controls",
      "model_module_version": "1.5.0",
      "model_name": "HBoxModel",
      "state": {
       "children": [
        "IPY_MODEL_881f7a008bdc4b2e9de88c2e33c72c21",
        "IPY_MODEL_757536d3f3b9469ead0ee544699d4db0",
        "IPY_MODEL_c7ceb287649a47b4a9438a5e61e12909"
       ],
       "layout": "IPY_MODEL_fec7cd2724bd4a29805ebb858b06a07c"
      }
     },
     "996c7ae419b245a9ab2e97a51fd78648": {
      "model_module": "@jupyter-widgets/controls",
      "model_module_version": "1.5.0",
      "model_name": "DescriptionStyleModel",
      "state": {
       "description_width": ""
      }
     },
     "99c3a073ea1541fdb85da62a81cd2a86": {
      "model_module": "@jupyter-widgets/base",
      "model_module_version": "1.2.0",
      "model_name": "LayoutModel",
      "state": {}
     },
     "9b89f4c337ed413a821a4af09403077d": {
      "model_module": "@jupyter-widgets/controls",
      "model_module_version": "1.5.0",
      "model_name": "HBoxModel",
      "state": {
       "children": [
        "IPY_MODEL_b14a9fdc9cbf4ad4b5f5abce1cd551cb",
        "IPY_MODEL_892682c9be3147239af261ba14b2d98e",
        "IPY_MODEL_9da2a6329d3d45a88e5e912946fd7c4e"
       ],
       "layout": "IPY_MODEL_c3892516398d4faea6bab9a0c11f2d2f"
      }
     },
     "9cca425ef8124a688b5bc7ba55458472": {
      "model_module": "@jupyter-widgets/base",
      "model_module_version": "1.2.0",
      "model_name": "LayoutModel",
      "state": {}
     },
     "9ce2ae51e04f471e9ca2acf7f7291a76": {
      "model_module": "@jupyter-widgets/controls",
      "model_module_version": "1.5.0",
      "model_name": "HBoxModel",
      "state": {
       "children": [
        "IPY_MODEL_f637b7e19f84429eaca5059ce25e2cab",
        "IPY_MODEL_84b6217d0ced4d9789aba6e9f526a39a",
        "IPY_MODEL_dc56186fd4184875a51db139e0302c23"
       ],
       "layout": "IPY_MODEL_96ccd4c9aa304d70b9a15aea82450287"
      }
     },
     "9d44efc2513e4ebca19ec92c8f5e901a": {
      "model_module": "@jupyter-widgets/controls",
      "model_module_version": "1.5.0",
      "model_name": "HBoxModel",
      "state": {
       "children": [
        "IPY_MODEL_7cd8d93f63d04380ac29636c72f38253",
        "IPY_MODEL_964c5106996548c6b623d0b20345227c",
        "IPY_MODEL_3e83ad03eaec4004a7c692dee2531a19"
       ],
       "layout": "IPY_MODEL_98fce8d499c143388f7c380eea0b8fc9"
      }
     },
     "9d530d085b534ec39c8828a33c84205d": {
      "model_module": "@jupyter-widgets/controls",
      "model_module_version": "1.5.0",
      "model_name": "DescriptionStyleModel",
      "state": {
       "description_width": ""
      }
     },
     "9da2a6329d3d45a88e5e912946fd7c4e": {
      "model_module": "@jupyter-widgets/controls",
      "model_module_version": "1.5.0",
      "model_name": "HTMLModel",
      "state": {
       "layout": "IPY_MODEL_19dd6ca6badc42faa646e9091cda32c9",
       "style": "IPY_MODEL_ba360481777f4097bf44b39a5f27a523",
       "value": " 5/5 [12:56&lt;00:00, 155.17s/it]"
      }
     },
     "9dc86aee373240dda71bf5d256fdaca9": {
      "model_module": "@jupyter-widgets/base",
      "model_module_version": "1.2.0",
      "model_name": "LayoutModel",
      "state": {}
     },
     "9ea87cefca3448d695bd122b0ab33c2a": {
      "model_module": "@jupyter-widgets/controls",
      "model_module_version": "1.5.0",
      "model_name": "HTMLModel",
      "state": {
       "layout": "IPY_MODEL_6e1efb5f27f544e09bb40da44f0963a5",
       "style": "IPY_MODEL_285f3bf901ba4ee2be64f713152b61af",
       "value": " 5/5 [13:43&lt;00:00, 164.92s/it]"
      }
     },
     "a042f299c48046619f33365756e410ed": {
      "model_module": "@jupyter-widgets/base",
      "model_module_version": "1.2.0",
      "model_name": "LayoutModel",
      "state": {}
     },
     "a05558f14eee47be8788e1dd4ab618bc": {
      "model_module": "@jupyter-widgets/controls",
      "model_module_version": "1.5.0",
      "model_name": "HTMLModel",
      "state": {
       "layout": "IPY_MODEL_e9fbedab48744f5595cb53ec61826377",
       "style": "IPY_MODEL_bc6b8fb96a82488c9dfea6c448ef39ff",
       "value": " 5/5 [13:08&lt;00:00, 157.77s/it]"
      }
     },
     "a0690abd5beb4231aa71017bbc0fdff5": {
      "model_module": "@jupyter-widgets/controls",
      "model_module_version": "1.5.0",
      "model_name": "ProgressStyleModel",
      "state": {
       "description_width": ""
      }
     },
     "a0e5e1837b5d48cd8fd7b2fdea863ce6": {
      "model_module": "@jupyter-widgets/controls",
      "model_module_version": "1.5.0",
      "model_name": "HTMLModel",
      "state": {
       "layout": "IPY_MODEL_232d3b2a415141a3b88176fc19e4b113",
       "style": "IPY_MODEL_03c27ff4fed14f128c53c3512c5e87ff",
       "value": "100%"
      }
     },
     "a19b7733e55f461a9849bb8720f356bb": {
      "model_module": "@jupyter-widgets/controls",
      "model_module_version": "1.5.0",
      "model_name": "HBoxModel",
      "state": {
       "children": [
        "IPY_MODEL_0d9622eb7a604f6ea98ccb35d8910004",
        "IPY_MODEL_83c4148f380740c89e0f59d888b2afb3",
        "IPY_MODEL_e1de340460dd4ade8cf563d227787af3"
       ],
       "layout": "IPY_MODEL_a042f299c48046619f33365756e410ed"
      }
     },
     "a2be8e6c1a4d48eea869eb46c9c6dce5": {
      "model_module": "@jupyter-widgets/base",
      "model_module_version": "1.2.0",
      "model_name": "LayoutModel",
      "state": {}
     },
     "a4963feaf549477cbb27bd54987933f1": {
      "model_module": "@jupyter-widgets/base",
      "model_module_version": "1.2.0",
      "model_name": "LayoutModel",
      "state": {}
     },
     "a5b58c4c3f324389bb8c661ec0bc3c6e": {
      "model_module": "@jupyter-widgets/base",
      "model_module_version": "1.2.0",
      "model_name": "LayoutModel",
      "state": {}
     },
     "a5ebe59e26f6451d86820cf7e6d5ac06": {
      "model_module": "@jupyter-widgets/controls",
      "model_module_version": "1.5.0",
      "model_name": "HBoxModel",
      "state": {
       "children": [
        "IPY_MODEL_8c8111cefc4b43a1987f0a65131aed15",
        "IPY_MODEL_c6af08dd9cc346b78993682f0009aeae",
        "IPY_MODEL_95f46d8e17c6411bafbc30ed41dadc8a"
       ],
       "layout": "IPY_MODEL_d5e8b5f553e44487be8b6e04f3e759ee"
      }
     },
     "a69a05eddfb348c192f9a48f5138f361": {
      "model_module": "@jupyter-widgets/controls",
      "model_module_version": "1.5.0",
      "model_name": "HTMLModel",
      "state": {
       "layout": "IPY_MODEL_a5b58c4c3f324389bb8c661ec0bc3c6e",
       "style": "IPY_MODEL_c79bb9184c0a4fee9957866d64a85e93",
       "value": "100%"
      }
     },
     "a74e5a610bc347db8d50fa6f85cdec07": {
      "model_module": "@jupyter-widgets/base",
      "model_module_version": "1.2.0",
      "model_name": "LayoutModel",
      "state": {}
     },
     "a752fd9014304e0cac6bbb051beb9771": {
      "model_module": "@jupyter-widgets/base",
      "model_module_version": "1.2.0",
      "model_name": "LayoutModel",
      "state": {}
     },
     "a796ad68e7e744ecaa45bcf5fa0e7719": {
      "model_module": "@jupyter-widgets/controls",
      "model_module_version": "1.5.0",
      "model_name": "HTMLModel",
      "state": {
       "layout": "IPY_MODEL_0119d78b93914d40a93c826bf53ed3bb",
       "style": "IPY_MODEL_fa7d9d0b644648b0ab9b0da03fea34ac",
       "value": " 5/5 [00:05&lt;00:00,  1.00s/it]"
      }
     },
     "a799294d03e74613944117a98448d23e": {
      "model_module": "@jupyter-widgets/controls",
      "model_module_version": "1.5.0",
      "model_name": "HTMLModel",
      "state": {
       "layout": "IPY_MODEL_3897267b19444032beeb2013840390c0",
       "style": "IPY_MODEL_b9214d818de745b6aa78fe2e6eed79bb",
       "value": "100%"
      }
     },
     "a8c2766e830340cca3dea45919ca3c52": {
      "model_module": "@jupyter-widgets/controls",
      "model_module_version": "1.5.0",
      "model_name": "ProgressStyleModel",
      "state": {
       "description_width": ""
      }
     },
     "ab30694a62cc4f22970c8c256536bc2b": {
      "model_module": "@jupyter-widgets/controls",
      "model_module_version": "1.5.0",
      "model_name": "DescriptionStyleModel",
      "state": {
       "description_width": ""
      }
     },
     "ade81211949146329034ed4b6445c39b": {
      "model_module": "@jupyter-widgets/base",
      "model_module_version": "1.2.0",
      "model_name": "LayoutModel",
      "state": {}
     },
     "ae0194dc7aa5433a9efab2af2f867890": {
      "model_module": "@jupyter-widgets/controls",
      "model_module_version": "1.5.0",
      "model_name": "DescriptionStyleModel",
      "state": {
       "description_width": ""
      }
     },
     "ae20834006f940c1a25b25bc58c94825": {
      "model_module": "@jupyter-widgets/base",
      "model_module_version": "1.2.0",
      "model_name": "LayoutModel",
      "state": {}
     },
     "ae726be80e564ae18889d2427465e1e5": {
      "model_module": "@jupyter-widgets/controls",
      "model_module_version": "1.5.0",
      "model_name": "FloatProgressModel",
      "state": {
       "bar_style": "success",
       "layout": "IPY_MODEL_052a5f5e32614c42b4d1434d2ac9d97b",
       "max": 5,
       "style": "IPY_MODEL_337c34e501f14f21a078ab80475f3103",
       "value": 5
      }
     },
     "aed83756061844f794205a0f8aab0e4f": {
      "model_module": "@jupyter-widgets/base",
      "model_module_version": "1.2.0",
      "model_name": "LayoutModel",
      "state": {}
     },
     "aee1ba5044344fd2ac6874a5fb149b47": {
      "model_module": "@jupyter-widgets/controls",
      "model_module_version": "1.5.0",
      "model_name": "DescriptionStyleModel",
      "state": {
       "description_width": ""
      }
     },
     "af8044f2015242c09afa9ff4ee3ab6da": {
      "model_module": "@jupyter-widgets/base",
      "model_module_version": "1.2.0",
      "model_name": "LayoutModel",
      "state": {}
     },
     "b00d4b5674064ee19c4a4a5795da0939": {
      "model_module": "@jupyter-widgets/controls",
      "model_module_version": "1.5.0",
      "model_name": "HTMLModel",
      "state": {
       "layout": "IPY_MODEL_af8044f2015242c09afa9ff4ee3ab6da",
       "style": "IPY_MODEL_261617e45e7c416cb1d2ecf099207ff4",
       "value": "100%"
      }
     },
     "b08785ba75c240b5a094d05948afc4c3": {
      "model_module": "@jupyter-widgets/controls",
      "model_module_version": "1.5.0",
      "model_name": "HTMLModel",
      "state": {
       "layout": "IPY_MODEL_346f31158fe346458f5688c980e789b6",
       "style": "IPY_MODEL_12f39e7089614b1c84a431c8e0f3870d",
       "value": "100%"
      }
     },
     "b0961c569d5a4af3bb6a0f67750942ea": {
      "model_module": "@jupyter-widgets/controls",
      "model_module_version": "1.5.0",
      "model_name": "ProgressStyleModel",
      "state": {
       "description_width": ""
      }
     },
     "b14a9fdc9cbf4ad4b5f5abce1cd551cb": {
      "model_module": "@jupyter-widgets/controls",
      "model_module_version": "1.5.0",
      "model_name": "HTMLModel",
      "state": {
       "layout": "IPY_MODEL_888db0b467374a86b6be36deacf727d9",
       "style": "IPY_MODEL_ab30694a62cc4f22970c8c256536bc2b",
       "value": "100%"
      }
     },
     "b38e84e9c1c1472ab8fef141b4c60708": {
      "model_module": "@jupyter-widgets/controls",
      "model_module_version": "1.5.0",
      "model_name": "DescriptionStyleModel",
      "state": {
       "description_width": ""
      }
     },
     "b3dfcdf879d448df852eebf3547a3ac0": {
      "model_module": "@jupyter-widgets/base",
      "model_module_version": "1.2.0",
      "model_name": "LayoutModel",
      "state": {}
     },
     "b4dbf3157e1a45fda5e9da35e3068493": {
      "model_module": "@jupyter-widgets/base",
      "model_module_version": "1.2.0",
      "model_name": "LayoutModel",
      "state": {}
     },
     "b54075bfc8b04707a37caf0adfd2ba53": {
      "model_module": "@jupyter-widgets/controls",
      "model_module_version": "1.5.0",
      "model_name": "HTMLModel",
      "state": {
       "layout": "IPY_MODEL_b60025fafa964db28ec70c37f6132fdf",
       "style": "IPY_MODEL_81e6bbd729d54c80bfdba322a8350e03",
       "value": "100%"
      }
     },
     "b60025fafa964db28ec70c37f6132fdf": {
      "model_module": "@jupyter-widgets/base",
      "model_module_version": "1.2.0",
      "model_name": "LayoutModel",
      "state": {}
     },
     "b6bc195b16f74afabf97356b7b77d610": {
      "model_module": "@jupyter-widgets/controls",
      "model_module_version": "1.5.0",
      "model_name": "DescriptionStyleModel",
      "state": {
       "description_width": ""
      }
     },
     "b70128e9565b4b3581b362d6211ab681": {
      "model_module": "@jupyter-widgets/base",
      "model_module_version": "1.2.0",
      "model_name": "LayoutModel",
      "state": {}
     },
     "b70b8d30386c4bb388757acd282a5acb": {
      "model_module": "@jupyter-widgets/controls",
      "model_module_version": "1.5.0",
      "model_name": "DescriptionStyleModel",
      "state": {
       "description_width": ""
      }
     },
     "b764785d5b4142e3be993205af920e44": {
      "model_module": "@jupyter-widgets/base",
      "model_module_version": "1.2.0",
      "model_name": "LayoutModel",
      "state": {}
     },
     "b9214d818de745b6aa78fe2e6eed79bb": {
      "model_module": "@jupyter-widgets/controls",
      "model_module_version": "1.5.0",
      "model_name": "DescriptionStyleModel",
      "state": {
       "description_width": ""
      }
     },
     "ba360481777f4097bf44b39a5f27a523": {
      "model_module": "@jupyter-widgets/controls",
      "model_module_version": "1.5.0",
      "model_name": "DescriptionStyleModel",
      "state": {
       "description_width": ""
      }
     },
     "ba7166087d044a8ba97c49c2ddbf312e": {
      "model_module": "@jupyter-widgets/controls",
      "model_module_version": "1.5.0",
      "model_name": "HBoxModel",
      "state": {
       "children": [
        "IPY_MODEL_6007ca8bd30e424f9b200ee22fdc4538",
        "IPY_MODEL_8c8d12a335fe432783a5370716261a05",
        "IPY_MODEL_98bb309def2b48bd89b90520773b1c27"
       ],
       "layout": "IPY_MODEL_c76ed4c321e6406b8f90481e00d1ddeb"
      }
     },
     "baa1304d6d474135b447555b380dbdc1": {
      "model_module": "@jupyter-widgets/controls",
      "model_module_version": "1.5.0",
      "model_name": "FloatProgressModel",
      "state": {
       "bar_style": "success",
       "layout": "IPY_MODEL_c7f6766dd92f45e5a91d42359978673b",
       "max": 5,
       "style": "IPY_MODEL_bb809509d2c34c93a79d4135b01852a2",
       "value": 5
      }
     },
     "bab5c6919eaf42ed872e9975ddfdd949": {
      "model_module": "@jupyter-widgets/controls",
      "model_module_version": "1.5.0",
      "model_name": "DescriptionStyleModel",
      "state": {
       "description_width": ""
      }
     },
     "bb809509d2c34c93a79d4135b01852a2": {
      "model_module": "@jupyter-widgets/controls",
      "model_module_version": "1.5.0",
      "model_name": "ProgressStyleModel",
      "state": {
       "description_width": ""
      }
     },
     "bc6b8fb96a82488c9dfea6c448ef39ff": {
      "model_module": "@jupyter-widgets/controls",
      "model_module_version": "1.5.0",
      "model_name": "DescriptionStyleModel",
      "state": {
       "description_width": ""
      }
     },
     "bc7429dfc41c463ba29a661489f3d0ad": {
      "model_module": "@jupyter-widgets/controls",
      "model_module_version": "1.5.0",
      "model_name": "HTMLModel",
      "state": {
       "layout": "IPY_MODEL_daa76f1676f940ce8068bcb5c1b9cd69",
       "style": "IPY_MODEL_529e9d14d6d54f1c904a2f7c82f47987",
       "value": " 5/5 [13:34&lt;00:00, 160.91s/it]"
      }
     },
     "bd2aca03f013466abffc1b474186ae59": {
      "model_module": "@jupyter-widgets/controls",
      "model_module_version": "1.5.0",
      "model_name": "DescriptionStyleModel",
      "state": {
       "description_width": ""
      }
     },
     "bdffed28ed434ce2a6872a4ece53ddba": {
      "model_module": "@jupyter-widgets/base",
      "model_module_version": "1.2.0",
      "model_name": "LayoutModel",
      "state": {}
     },
     "be5fd8ab4e3043cabb2c200becd9695d": {
      "model_module": "@jupyter-widgets/controls",
      "model_module_version": "1.5.0",
      "model_name": "DescriptionStyleModel",
      "state": {
       "description_width": ""
      }
     },
     "bec7d907e01a4a0d94bc09e15accb02f": {
      "model_module": "@jupyter-widgets/controls",
      "model_module_version": "1.5.0",
      "model_name": "HTMLModel",
      "state": {
       "layout": "IPY_MODEL_bf4da3c7c1ee4b8dab4c380d54be4a62",
       "style": "IPY_MODEL_bd2aca03f013466abffc1b474186ae59",
       "value": "100%"
      }
     },
     "bf4da3c7c1ee4b8dab4c380d54be4a62": {
      "model_module": "@jupyter-widgets/base",
      "model_module_version": "1.2.0",
      "model_name": "LayoutModel",
      "state": {}
     },
     "c070bc3dd09049519edd1c080e2c7be5": {
      "model_module": "@jupyter-widgets/controls",
      "model_module_version": "1.5.0",
      "model_name": "FloatProgressModel",
      "state": {
       "bar_style": "success",
       "layout": "IPY_MODEL_9dc86aee373240dda71bf5d256fdaca9",
       "max": 5,
       "style": "IPY_MODEL_d1dafde53f5f4eab92dc960220080f51",
       "value": 5
      }
     },
     "c07920d9bbf44466b4e155ae36213b93": {
      "model_module": "@jupyter-widgets/controls",
      "model_module_version": "1.5.0",
      "model_name": "DescriptionStyleModel",
      "state": {
       "description_width": ""
      }
     },
     "c08c236b2ed9468e850637f094bcb770": {
      "model_module": "@jupyter-widgets/controls",
      "model_module_version": "1.5.0",
      "model_name": "FloatProgressModel",
      "state": {
       "bar_style": "success",
       "layout": "IPY_MODEL_c1fba9719f2845d4ac3f72775a3ab00d",
       "max": 5,
       "style": "IPY_MODEL_b0961c569d5a4af3bb6a0f67750942ea",
       "value": 5
      }
     },
     "c1fba9719f2845d4ac3f72775a3ab00d": {
      "model_module": "@jupyter-widgets/base",
      "model_module_version": "1.2.0",
      "model_name": "LayoutModel",
      "state": {}
     },
     "c2ec26901655448fbd1ed6d82f46ece0": {
      "model_module": "@jupyter-widgets/controls",
      "model_module_version": "1.5.0",
      "model_name": "HBoxModel",
      "state": {
       "children": [
        "IPY_MODEL_bec7d907e01a4a0d94bc09e15accb02f",
        "IPY_MODEL_732de88bc76542048c00a8add8c5ac8e",
        "IPY_MODEL_fbd68ada16724129ac8794036260f2bd"
       ],
       "layout": "IPY_MODEL_135915f245a74c0281239e2c02db187e"
      }
     },
     "c3892516398d4faea6bab9a0c11f2d2f": {
      "model_module": "@jupyter-widgets/base",
      "model_module_version": "1.2.0",
      "model_name": "LayoutModel",
      "state": {}
     },
     "c413d2f5e59b439782344d76be84188b": {
      "model_module": "@jupyter-widgets/controls",
      "model_module_version": "1.5.0",
      "model_name": "HBoxModel",
      "state": {
       "children": [
        "IPY_MODEL_b08785ba75c240b5a094d05948afc4c3",
        "IPY_MODEL_baa1304d6d474135b447555b380dbdc1",
        "IPY_MODEL_a796ad68e7e744ecaa45bcf5fa0e7719"
       ],
       "layout": "IPY_MODEL_6edbe7de63014877a5a212ebb3c3eda8"
      }
     },
     "c4536e4e6c4e4955945d18c6907e3f51": {
      "model_module": "@jupyter-widgets/base",
      "model_module_version": "1.2.0",
      "model_name": "LayoutModel",
      "state": {}
     },
     "c5d8e5e0273d40a392f3e7a7b680b41d": {
      "model_module": "@jupyter-widgets/base",
      "model_module_version": "1.2.0",
      "model_name": "LayoutModel",
      "state": {}
     },
     "c6af08dd9cc346b78993682f0009aeae": {
      "model_module": "@jupyter-widgets/controls",
      "model_module_version": "1.5.0",
      "model_name": "FloatProgressModel",
      "state": {
       "bar_style": "success",
       "layout": "IPY_MODEL_d7ec9745af9b4d2a936315362ab7e676",
       "max": 5,
       "style": "IPY_MODEL_2a4cac573ddd4200a220b79f9cc640e6",
       "value": 5
      }
     },
     "c6ec0a8112a546548919e8f7920b10d1": {
      "model_module": "@jupyter-widgets/controls",
      "model_module_version": "1.5.0",
      "model_name": "DescriptionStyleModel",
      "state": {
       "description_width": ""
      }
     },
     "c76ed4c321e6406b8f90481e00d1ddeb": {
      "model_module": "@jupyter-widgets/base",
      "model_module_version": "1.2.0",
      "model_name": "LayoutModel",
      "state": {}
     },
     "c79bb9184c0a4fee9957866d64a85e93": {
      "model_module": "@jupyter-widgets/controls",
      "model_module_version": "1.5.0",
      "model_name": "DescriptionStyleModel",
      "state": {
       "description_width": ""
      }
     },
     "c7ceb287649a47b4a9438a5e61e12909": {
      "model_module": "@jupyter-widgets/controls",
      "model_module_version": "1.5.0",
      "model_name": "HTMLModel",
      "state": {
       "layout": "IPY_MODEL_2ea4369e8efe4740acfb18c10eafef5d",
       "style": "IPY_MODEL_98338c32d4974b4095e63ae4c076b677",
       "value": " 5/5 [00:04&lt;00:00,  1.06it/s]"
      }
     },
     "c7f6766dd92f45e5a91d42359978673b": {
      "model_module": "@jupyter-widgets/base",
      "model_module_version": "1.2.0",
      "model_name": "LayoutModel",
      "state": {}
     },
     "ca0eee3c1aae4f54bc7b52450cf58475": {
      "model_module": "@jupyter-widgets/controls",
      "model_module_version": "1.5.0",
      "model_name": "FloatProgressModel",
      "state": {
       "bar_style": "success",
       "layout": "IPY_MODEL_e6bfb01347c54950a21c5f07e0d30b06",
       "max": 5,
       "style": "IPY_MODEL_714cfbce50da41b7b321bb8f3d563c29",
       "value": 5
      }
     },
     "cb5f54146ce042609805a8c6ff397d4e": {
      "model_module": "@jupyter-widgets/controls",
      "model_module_version": "1.5.0",
      "model_name": "HTMLModel",
      "state": {
       "layout": "IPY_MODEL_526aa1afc7e04f54b23d3f26bb296c0a",
       "style": "IPY_MODEL_41f13d765c254e22b7871ca721b31867",
       "value": " 5/5 [00:04&lt;00:00,  1.05it/s]"
      }
     },
     "cc9e88d33b59413da4e7c2b5fd57adb9": {
      "model_module": "@jupyter-widgets/controls",
      "model_module_version": "1.5.0",
      "model_name": "HBoxModel",
      "state": {
       "children": [
        "IPY_MODEL_5cdbb5fed3da4e3a8b2984b658fc902a",
        "IPY_MODEL_e179d165c405441c82e36df520afb229",
        "IPY_MODEL_61fc70c47f624a9aabe7bdff023a994f"
       ],
       "layout": "IPY_MODEL_75e55b13c1b04f6b81a4c6710046b5ec"
      }
     },
     "ccb36bfd057b4396ae9f0d66334af900": {
      "model_module": "@jupyter-widgets/controls",
      "model_module_version": "1.5.0",
      "model_name": "HBoxModel",
      "state": {
       "children": [
        "IPY_MODEL_e954faf1da594a97847c49e2f070b5c8",
        "IPY_MODEL_ff19b26fdcfe4aeea3c415f8fd465c61",
        "IPY_MODEL_d5531111986c43f6957bd8972ff65bf6"
       ],
       "layout": "IPY_MODEL_48f2a57a880440d0a2edebc2e78fd983"
      }
     },
     "ceb209d52a7f41459c8ed2db2fabdb0e": {
      "model_module": "@jupyter-widgets/controls",
      "model_module_version": "1.5.0",
      "model_name": "HTMLModel",
      "state": {
       "layout": "IPY_MODEL_b3dfcdf879d448df852eebf3547a3ac0",
       "style": "IPY_MODEL_c6ec0a8112a546548919e8f7920b10d1",
       "value": " 5/5 [00:04&lt;00:00,  1.05it/s]"
      }
     },
     "cec1b24d3e874fd8aac0cc0be695ca04": {
      "model_module": "@jupyter-widgets/base",
      "model_module_version": "1.2.0",
      "model_name": "LayoutModel",
      "state": {}
     },
     "cefdbcbe9d1347a2b54993c6d5db9e45": {
      "model_module": "@jupyter-widgets/controls",
      "model_module_version": "1.5.0",
      "model_name": "HTMLModel",
      "state": {
       "layout": "IPY_MODEL_2aba6ecf32494229bebadbd24c9b372f",
       "style": "IPY_MODEL_996c7ae419b245a9ab2e97a51fd78648",
       "value": "100%"
      }
     },
     "d01f095be9284806a4de5ef157f4625b": {
      "model_module": "@jupyter-widgets/controls",
      "model_module_version": "1.5.0",
      "model_name": "DescriptionStyleModel",
      "state": {
       "description_width": ""
      }
     },
     "d0e6f3acd3c345d6bedb514b89248179": {
      "model_module": "@jupyter-widgets/controls",
      "model_module_version": "1.5.0",
      "model_name": "ProgressStyleModel",
      "state": {
       "description_width": ""
      }
     },
     "d11146f8e11e4577a2b06cafcaa8fa42": {
      "model_module": "@jupyter-widgets/base",
      "model_module_version": "1.2.0",
      "model_name": "LayoutModel",
      "state": {}
     },
     "d1c6f22bd699410fb0eed8625c814fef": {
      "model_module": "@jupyter-widgets/controls",
      "model_module_version": "1.5.0",
      "model_name": "HBoxModel",
      "state": {
       "children": [
        "IPY_MODEL_8a1d460dc22b4991b1ddb46855ac76d3",
        "IPY_MODEL_7390194be9484235be5a8439b8096781",
        "IPY_MODEL_2ec993b6501e4e0a8c7e43aadc57a102"
       ],
       "layout": "IPY_MODEL_a74e5a610bc347db8d50fa6f85cdec07"
      }
     },
     "d1dafde53f5f4eab92dc960220080f51": {
      "model_module": "@jupyter-widgets/controls",
      "model_module_version": "1.5.0",
      "model_name": "ProgressStyleModel",
      "state": {
       "description_width": ""
      }
     },
     "d33be881b3fa4e80bd37146cf6972399": {
      "model_module": "@jupyter-widgets/controls",
      "model_module_version": "1.5.0",
      "model_name": "HTMLModel",
      "state": {
       "layout": "IPY_MODEL_541d309ca7fb458384e358500a9f48ca",
       "style": "IPY_MODEL_15ed8b157026400e95c2e058ee505501",
       "value": " 5/5 [00:00&lt;00:00, 83.26it/s]"
      }
     },
     "d388e8b268134416a10645a0f2dbb42b": {
      "model_module": "@jupyter-widgets/controls",
      "model_module_version": "1.5.0",
      "model_name": "ProgressStyleModel",
      "state": {
       "description_width": ""
      }
     },
     "d5531111986c43f6957bd8972ff65bf6": {
      "model_module": "@jupyter-widgets/controls",
      "model_module_version": "1.5.0",
      "model_name": "HTMLModel",
      "state": {
       "layout": "IPY_MODEL_3c7e36eeeda44a2abd96c1a7caac37f7",
       "style": "IPY_MODEL_2ad4c69d21a54ba98a7dcb00a4d4d7e0",
       "value": " 5/5 [00:00&lt;00:00, 83.26it/s]"
      }
     },
     "d5b303a57d02433da134823279b3b050": {
      "model_module": "@jupyter-widgets/base",
      "model_module_version": "1.2.0",
      "model_name": "LayoutModel",
      "state": {}
     },
     "d5e8b5f553e44487be8b6e04f3e759ee": {
      "model_module": "@jupyter-widgets/base",
      "model_module_version": "1.2.0",
      "model_name": "LayoutModel",
      "state": {}
     },
     "d64c82cac2aa46e9b16a30a7ac90c8c3": {
      "model_module": "@jupyter-widgets/controls",
      "model_module_version": "1.5.0",
      "model_name": "HTMLModel",
      "state": {
       "layout": "IPY_MODEL_a752fd9014304e0cac6bbb051beb9771",
       "style": "IPY_MODEL_863c2e13e68246afb794387a8bd76b20",
       "value": "100%"
      }
     },
     "d7ab8aed710548c98459be82b6de6d93": {
      "model_module": "@jupyter-widgets/controls",
      "model_module_version": "1.5.0",
      "model_name": "DescriptionStyleModel",
      "state": {
       "description_width": ""
      }
     },
     "d7c046bc3f3d48b39d42aebebe92c963": {
      "model_module": "@jupyter-widgets/controls",
      "model_module_version": "1.5.0",
      "model_name": "HBoxModel",
      "state": {
       "children": [
        "IPY_MODEL_218b5fee01954393854253cb90c97b1e",
        "IPY_MODEL_e0f399bd4ef34e96b844159482c92edb",
        "IPY_MODEL_df0bade853984a6c9f8dee74e23ba004"
       ],
       "layout": "IPY_MODEL_0d07e951a4f242e99bba56807736f33f"
      }
     },
     "d7ec9745af9b4d2a936315362ab7e676": {
      "model_module": "@jupyter-widgets/base",
      "model_module_version": "1.2.0",
      "model_name": "LayoutModel",
      "state": {}
     },
     "d8b07e6afdec48d39ee16ce0fd1276b1": {
      "model_module": "@jupyter-widgets/base",
      "model_module_version": "1.2.0",
      "model_name": "LayoutModel",
      "state": {}
     },
     "d96e3a5bd7f749e785e94b60ab55c910": {
      "model_module": "@jupyter-widgets/controls",
      "model_module_version": "1.5.0",
      "model_name": "DescriptionStyleModel",
      "state": {
       "description_width": ""
      }
     },
     "da208d14d40a4c909bda8937ffe84202": {
      "model_module": "@jupyter-widgets/base",
      "model_module_version": "1.2.0",
      "model_name": "LayoutModel",
      "state": {}
     },
     "da5024560ea24b3eb56dfbfc76007067": {
      "model_module": "@jupyter-widgets/base",
      "model_module_version": "1.2.0",
      "model_name": "LayoutModel",
      "state": {}
     },
     "daa76f1676f940ce8068bcb5c1b9cd69": {
      "model_module": "@jupyter-widgets/base",
      "model_module_version": "1.2.0",
      "model_name": "LayoutModel",
      "state": {}
     },
     "dbbd41ecb1b2451091ce233783df1f06": {
      "model_module": "@jupyter-widgets/controls",
      "model_module_version": "1.5.0",
      "model_name": "FloatProgressModel",
      "state": {
       "bar_style": "success",
       "layout": "IPY_MODEL_c4536e4e6c4e4955945d18c6907e3f51",
       "max": 5,
       "style": "IPY_MODEL_2385e3b72a8d4679a2ec65d4267f29a7",
       "value": 5
      }
     },
     "dc56186fd4184875a51db139e0302c23": {
      "model_module": "@jupyter-widgets/controls",
      "model_module_version": "1.5.0",
      "model_name": "HTMLModel",
      "state": {
       "layout": "IPY_MODEL_14f2d0f8b6b143b38dc66114b92a98a4",
       "style": "IPY_MODEL_913515b784774b878201f4cac85f04d3",
       "value": " 5/5 [13:25&lt;00:00, 162.27s/it]"
      }
     },
     "dd4e14fcd1d041e8a253dcb765ade844": {
      "model_module": "@jupyter-widgets/controls",
      "model_module_version": "1.5.0",
      "model_name": "FloatProgressModel",
      "state": {
       "bar_style": "success",
       "layout": "IPY_MODEL_fa0c1411c0b542adad24a3e51356e346",
       "max": 5,
       "style": "IPY_MODEL_25367b0826724d82a2ea72566dcd3142",
       "value": 5
      }
     },
     "ddcd4ea2cd2a462bbe014cafc18ff15e": {
      "model_module": "@jupyter-widgets/controls",
      "model_module_version": "1.5.0",
      "model_name": "HBoxModel",
      "state": {
       "children": [
        "IPY_MODEL_565a8971fc544c74ac69dca3575be08f",
        "IPY_MODEL_8303943df9794317ac21c8aa5f9b7aeb",
        "IPY_MODEL_27bf454023c84b0ea7137ae1d4d230a3"
       ],
       "layout": "IPY_MODEL_185880c93a0a4ebe842edfd9685023b6"
      }
     },
     "de0d79e7bffd425fb4b1d11061405aa9": {
      "model_module": "@jupyter-widgets/controls",
      "model_module_version": "1.5.0",
      "model_name": "HBoxModel",
      "state": {
       "children": [
        "IPY_MODEL_8f723e2bc0f94ca2851a10498e9c26d9",
        "IPY_MODEL_425edef6f00045bfa08402af7d8c9bfc",
        "IPY_MODEL_5aac884fd06349c0b3e3995be349dcd7"
       ],
       "layout": "IPY_MODEL_ae20834006f940c1a25b25bc58c94825"
      }
     },
     "df0bade853984a6c9f8dee74e23ba004": {
      "model_module": "@jupyter-widgets/controls",
      "model_module_version": "1.5.0",
      "model_name": "HTMLModel",
      "state": {
       "layout": "IPY_MODEL_edfec2d213af440dbe5daf7928b8f1d9",
       "style": "IPY_MODEL_b38e84e9c1c1472ab8fef141b4c60708",
       "value": " 5/5 [00:04&lt;00:00,  1.05it/s]"
      }
     },
     "df3fd0ea6bee4f9c916c49e94f81da7d": {
      "model_module": "@jupyter-widgets/controls",
      "model_module_version": "1.5.0",
      "model_name": "HBoxModel",
      "state": {
       "children": [
        "IPY_MODEL_cefdbcbe9d1347a2b54993c6d5db9e45",
        "IPY_MODEL_15c7d344626d4ca0ba5d082b65977315",
        "IPY_MODEL_bc7429dfc41c463ba29a661489f3d0ad"
       ],
       "layout": "IPY_MODEL_74a52640153747f88bfb0f1aa92edecf"
      }
     },
     "df46832b9d8a45378a3faa17142cd1e4": {
      "model_module": "@jupyter-widgets/controls",
      "model_module_version": "1.5.0",
      "model_name": "DescriptionStyleModel",
      "state": {
       "description_width": ""
      }
     },
     "df7fe5a929aa4c76b39d6d684679e039": {
      "model_module": "@jupyter-widgets/controls",
      "model_module_version": "1.5.0",
      "model_name": "DescriptionStyleModel",
      "state": {
       "description_width": ""
      }
     },
     "e07fed876d754a8e9c7f149193b0f11f": {
      "model_module": "@jupyter-widgets/controls",
      "model_module_version": "1.5.0",
      "model_name": "DescriptionStyleModel",
      "state": {
       "description_width": ""
      }
     },
     "e0f399bd4ef34e96b844159482c92edb": {
      "model_module": "@jupyter-widgets/controls",
      "model_module_version": "1.5.0",
      "model_name": "FloatProgressModel",
      "state": {
       "bar_style": "success",
       "layout": "IPY_MODEL_3930b5f0c9b347b8930f4181ebdf1ce2",
       "max": 5,
       "style": "IPY_MODEL_d388e8b268134416a10645a0f2dbb42b",
       "value": 5
      }
     },
     "e179d165c405441c82e36df520afb229": {
      "model_module": "@jupyter-widgets/controls",
      "model_module_version": "1.5.0",
      "model_name": "FloatProgressModel",
      "state": {
       "bar_style": "success",
       "layout": "IPY_MODEL_f9020cd546fc4342a68c493905d32afa",
       "max": 5,
       "style": "IPY_MODEL_3b86bf74b0a4407eb8e0ad84f343f090",
       "value": 5
      }
     },
     "e1de340460dd4ade8cf563d227787af3": {
      "model_module": "@jupyter-widgets/controls",
      "model_module_version": "1.5.0",
      "model_name": "HTMLModel",
      "state": {
       "layout": "IPY_MODEL_424da3d725cc4e30b4c2b06045242058",
       "style": "IPY_MODEL_55214528b8aa4825bed88dbeea943cfe",
       "value": " 5/5 [13:24&lt;00:00, 160.72s/it]"
      }
     },
     "e28b7625108345efa31eb5bd6f6a993d": {
      "model_module": "@jupyter-widgets/controls",
      "model_module_version": "1.5.0",
      "model_name": "DescriptionStyleModel",
      "state": {
       "description_width": ""
      }
     },
     "e29e123ea35b4287a8c264fccf596638": {
      "model_module": "@jupyter-widgets/controls",
      "model_module_version": "1.5.0",
      "model_name": "HTMLModel",
      "state": {
       "layout": "IPY_MODEL_986ed9768061469bacec6bb31b718f8f",
       "style": "IPY_MODEL_aee1ba5044344fd2ac6874a5fb149b47",
       "value": " 5/5 [13:39&lt;00:00, 162.64s/it]"
      }
     },
     "e2b9ae99ef3f41678c0dc1eda35019f2": {
      "model_module": "@jupyter-widgets/base",
      "model_module_version": "1.2.0",
      "model_name": "LayoutModel",
      "state": {}
     },
     "e38e1a03162f4f2eb3e81a3bff3a88fa": {
      "model_module": "@jupyter-widgets/controls",
      "model_module_version": "1.5.0",
      "model_name": "HTMLModel",
      "state": {
       "layout": "IPY_MODEL_478040cc6b97457ba70243096b97799a",
       "style": "IPY_MODEL_e28b7625108345efa31eb5bd6f6a993d",
       "value": " 5/5 [12:52&lt;00:00, 154.36s/it]"
      }
     },
     "e65493139a88452188fbca14ad6f583b": {
      "model_module": "@jupyter-widgets/controls",
      "model_module_version": "1.5.0",
      "model_name": "ProgressStyleModel",
      "state": {
       "description_width": ""
      }
     },
     "e6bfb01347c54950a21c5f07e0d30b06": {
      "model_module": "@jupyter-widgets/base",
      "model_module_version": "1.2.0",
      "model_name": "LayoutModel",
      "state": {}
     },
     "e81b91712ecd42b8b9b3f2dc50151db6": {
      "model_module": "@jupyter-widgets/base",
      "model_module_version": "1.2.0",
      "model_name": "LayoutModel",
      "state": {}
     },
     "e9341163ac9b4bc19a5a387135811b1d": {
      "model_module": "@jupyter-widgets/base",
      "model_module_version": "1.2.0",
      "model_name": "LayoutModel",
      "state": {}
     },
     "e954faf1da594a97847c49e2f070b5c8": {
      "model_module": "@jupyter-widgets/controls",
      "model_module_version": "1.5.0",
      "model_name": "HTMLModel",
      "state": {
       "layout": "IPY_MODEL_98203bea58a14fe6a728e7f5b63a4fd8",
       "style": "IPY_MODEL_df7fe5a929aa4c76b39d6d684679e039",
       "value": "100%"
      }
     },
     "e9d773743d8f406f9e54079e7710b58c": {
      "model_module": "@jupyter-widgets/controls",
      "model_module_version": "1.5.0",
      "model_name": "HBoxModel",
      "state": {
       "children": [
        "IPY_MODEL_a69a05eddfb348c192f9a48f5138f361",
        "IPY_MODEL_0d4d9facfc6843eaa0c34009a02fd2b1",
        "IPY_MODEL_ec339b89e5544e40acc255520b094819"
       ],
       "layout": "IPY_MODEL_a4963feaf549477cbb27bd54987933f1"
      }
     },
     "e9dcf3229e1f4c95a129076dd7591c5b": {
      "model_module": "@jupyter-widgets/controls",
      "model_module_version": "1.5.0",
      "model_name": "DescriptionStyleModel",
      "state": {
       "description_width": ""
      }
     },
     "e9fbedab48744f5595cb53ec61826377": {
      "model_module": "@jupyter-widgets/base",
      "model_module_version": "1.2.0",
      "model_name": "LayoutModel",
      "state": {}
     },
     "ea684f24320043e48e84cb5a8b04a2db": {
      "model_module": "@jupyter-widgets/controls",
      "model_module_version": "1.5.0",
      "model_name": "DescriptionStyleModel",
      "state": {
       "description_width": ""
      }
     },
     "eb62da4245c9480f9eeb7e8bb1305e93": {
      "model_module": "@jupyter-widgets/controls",
      "model_module_version": "1.5.0",
      "model_name": "HBoxModel",
      "state": {
       "children": [
        "IPY_MODEL_a0e5e1837b5d48cd8fd7b2fdea863ce6",
        "IPY_MODEL_4afab328669f4450b1726f56b2152c04",
        "IPY_MODEL_439de40f4f9c43be90eaea72a8bd0d2c"
       ],
       "layout": "IPY_MODEL_d8b07e6afdec48d39ee16ce0fd1276b1"
      }
     },
     "eba518406a8e4de6bb6962db2f905d0b": {
      "model_module": "@jupyter-widgets/base",
      "model_module_version": "1.2.0",
      "model_name": "LayoutModel",
      "state": {}
     },
     "ec339b89e5544e40acc255520b094819": {
      "model_module": "@jupyter-widgets/controls",
      "model_module_version": "1.5.0",
      "model_name": "HTMLModel",
      "state": {
       "layout": "IPY_MODEL_d5b303a57d02433da134823279b3b050",
       "style": "IPY_MODEL_91e16ba41ae7403f81b7077211b5e164",
       "value": " 5/5 [00:05&lt;00:00,  1.10s/it]"
      }
     },
     "edb698a8f9224812880c4e969f48e9e7": {
      "model_module": "@jupyter-widgets/controls",
      "model_module_version": "1.5.0",
      "model_name": "HBoxModel",
      "state": {
       "children": [
        "IPY_MODEL_8eff175ade424340a763f9323c0a1334",
        "IPY_MODEL_5ff9f249f3c84c1a937c15a5bc9b5e9d",
        "IPY_MODEL_074b30931cb143d8ac06001356022d2d"
       ],
       "layout": "IPY_MODEL_194214182c1f414997ec4faa32d51493"
      }
     },
     "edfec2d213af440dbe5daf7928b8f1d9": {
      "model_module": "@jupyter-widgets/base",
      "model_module_version": "1.2.0",
      "model_name": "LayoutModel",
      "state": {}
     },
     "eefaac2f18844c8a9ba4f8df1b9d7131": {
      "model_module": "@jupyter-widgets/base",
      "model_module_version": "1.2.0",
      "model_name": "LayoutModel",
      "state": {}
     },
     "efc618dbf1614c00ba3bb7559ba0a1fa": {
      "model_module": "@jupyter-widgets/base",
      "model_module_version": "1.2.0",
      "model_name": "LayoutModel",
      "state": {}
     },
     "f0da46bc17a942429e6be8750f145d47": {
      "model_module": "@jupyter-widgets/controls",
      "model_module_version": "1.5.0",
      "model_name": "HBoxModel",
      "state": {
       "children": [
        "IPY_MODEL_760b04fbcb724b44be1932876de8a705",
        "IPY_MODEL_dd4e14fcd1d041e8a253dcb765ade844",
        "IPY_MODEL_a05558f14eee47be8788e1dd4ab618bc"
       ],
       "layout": "IPY_MODEL_323e215c011f49b8b1030405a0df816b"
      }
     },
     "f192e36d7d2e46629eaa74ab57cc0345": {
      "model_module": "@jupyter-widgets/base",
      "model_module_version": "1.2.0",
      "model_name": "LayoutModel",
      "state": {}
     },
     "f20a5b2bb1fa4492bae5cdb3adbbf9b7": {
      "model_module": "@jupyter-widgets/base",
      "model_module_version": "1.2.0",
      "model_name": "LayoutModel",
      "state": {}
     },
     "f637b7e19f84429eaca5059ce25e2cab": {
      "model_module": "@jupyter-widgets/controls",
      "model_module_version": "1.5.0",
      "model_name": "HTMLModel",
      "state": {
       "layout": "IPY_MODEL_3fc38d76c63b4a73958195274a88140b",
       "style": "IPY_MODEL_d7ab8aed710548c98459be82b6de6d93",
       "value": "100%"
      }
     },
     "f783a069935b463c806392ff43d8ce4d": {
      "model_module": "@jupyter-widgets/base",
      "model_module_version": "1.2.0",
      "model_name": "LayoutModel",
      "state": {}
     },
     "f822af2f773249e38e6db9a28dfb7c87": {
      "model_module": "@jupyter-widgets/base",
      "model_module_version": "1.2.0",
      "model_name": "LayoutModel",
      "state": {}
     },
     "f832eda04c914eeeb2c0b9957033cf90": {
      "model_module": "@jupyter-widgets/controls",
      "model_module_version": "1.5.0",
      "model_name": "DescriptionStyleModel",
      "state": {
       "description_width": ""
      }
     },
     "f8867ed551ad49448bdcfc3c94e1d945": {
      "model_module": "@jupyter-widgets/controls",
      "model_module_version": "1.5.0",
      "model_name": "ProgressStyleModel",
      "state": {
       "description_width": ""
      }
     },
     "f9020cd546fc4342a68c493905d32afa": {
      "model_module": "@jupyter-widgets/base",
      "model_module_version": "1.2.0",
      "model_name": "LayoutModel",
      "state": {}
     },
     "f9911eedaae04c9da89e1ac13277ec5f": {
      "model_module": "@jupyter-widgets/controls",
      "model_module_version": "1.5.0",
      "model_name": "DescriptionStyleModel",
      "state": {
       "description_width": ""
      }
     },
     "fa0c1411c0b542adad24a3e51356e346": {
      "model_module": "@jupyter-widgets/base",
      "model_module_version": "1.2.0",
      "model_name": "LayoutModel",
      "state": {}
     },
     "fa7d9d0b644648b0ab9b0da03fea34ac": {
      "model_module": "@jupyter-widgets/controls",
      "model_module_version": "1.5.0",
      "model_name": "DescriptionStyleModel",
      "state": {
       "description_width": ""
      }
     },
     "fbd68ada16724129ac8794036260f2bd": {
      "model_module": "@jupyter-widgets/controls",
      "model_module_version": "1.5.0",
      "model_name": "HTMLModel",
      "state": {
       "layout": "IPY_MODEL_47eefa3b4c6a40febc44ef6f4d998318",
       "style": "IPY_MODEL_df46832b9d8a45378a3faa17142cd1e4",
       "value": " 5/5 [00:04&lt;00:00,  1.02it/s]"
      }
     },
     "fc08fa1d49d44c4dbf5e939058b800a9": {
      "model_module": "@jupyter-widgets/base",
      "model_module_version": "1.2.0",
      "model_name": "LayoutModel",
      "state": {}
     },
     "fec7cd2724bd4a29805ebb858b06a07c": {
      "model_module": "@jupyter-widgets/base",
      "model_module_version": "1.2.0",
      "model_name": "LayoutModel",
      "state": {}
     },
     "ff19b26fdcfe4aeea3c415f8fd465c61": {
      "model_module": "@jupyter-widgets/controls",
      "model_module_version": "1.5.0",
      "model_name": "FloatProgressModel",
      "state": {
       "bar_style": "success",
       "layout": "IPY_MODEL_8539324fd39f45fe81285607c261688d",
       "max": 5,
       "style": "IPY_MODEL_630a701c557b44808b88054b94e67a89",
       "value": 5
      }
     },
     "ff965be747a14387b52f27ea6c34c159": {
      "model_module": "@jupyter-widgets/controls",
      "model_module_version": "1.5.0",
      "model_name": "ProgressStyleModel",
      "state": {
       "description_width": ""
      }
     }
    },
    "version_major": 2,
    "version_minor": 0
   }
  }
 },
 "nbformat": 4,
 "nbformat_minor": 4
}
