{
 "cells": [
  {
   "cell_type": "markdown",
   "metadata": {},
   "source": [
    "# Machine learning with GIS based housing data"
   ]
  },
  {
   "cell_type": "markdown",
   "metadata": {},
   "source": [
    "Experimenting with GIS based housing data."
   ]
  },
  {
   "cell_type": "markdown",
   "metadata": {},
   "source": [
    "### Import packages"
   ]
  },
  {
   "cell_type": "code",
   "execution_count": 1,
   "metadata": {},
   "outputs": [],
   "source": [
    "import json\n",
    "import math\n",
    "import warnings\n",
    "warnings.filterwarnings(action=\"ignore\")\n",
    "\n",
    "from catboost import CatBoostRegressor\n",
    "import xgboost as xgb\n",
    "\n",
    "from sklearn.metrics import mean_absolute_error, r2_score, mean_squared_error\n",
    "from sklearn.preprocessing import StandardScaler\n",
    "from sklearn.model_selection import train_test_split, RandomizedSearchCV, KFold\n",
    "from sklearn.ensemble import RandomForestClassifier\n",
    "from sklearn import linear_model\n",
    "\n",
    "import matplotlib.pyplot as plt\n",
    "import numpy as np\n",
    "import pandas as pd\n",
    "from tqdm.notebook import tqdm\n",
    "from IPython.display import display_html"
   ]
  },
  {
   "cell_type": "markdown",
   "metadata": {},
   "source": [
    "Definde constants.\n",
    "\n",
    "- ``PATH``: Path to the base data folder\n",
    "- ``COUNT_RADIUS``: Maximum distance for count based features\n",
    "- ``K_FOLDS``: Number of folds to perform for cross validation"
   ]
  },
  {
   "cell_type": "code",
   "execution_count": 2,
   "metadata": {},
   "outputs": [],
   "source": [
    "PATH = \"C:/Users/Tim/.keras/datasets/wikipedia_real_estate/\"\n",
    "COUNT_RADIUS = 3500  # in meters\n",
    "K_FOLDS = 5"
   ]
  },
  {
   "cell_type": "markdown",
   "metadata": {},
   "source": [
    "### Defining useful functions"
   ]
  },
  {
   "cell_type": "code",
   "execution_count": 3,
   "metadata": {},
   "outputs": [],
   "source": [
    "def find_coord(x, df):\n",
    "    \"\"\"Returns id, latitude and longitude for property with given id\"\"\"\n",
    "    \n",
    "    _id, lat, long = x[0], x[1], x[2]\n",
    "    row = df[df[\"_id\"] == _id].iloc[0]\n",
    "    return row[\"_id\"], row[\"latitude\"], row[\"longitude\"]"
   ]
  },
  {
   "cell_type": "code",
   "execution_count": 4,
   "metadata": {},
   "outputs": [],
   "source": [
    "def make_train_test(df):\n",
    "    \"\"\"Returns train/test sets along with column names and df for saving errors\"\"\"\n",
    "\n",
    "    X = df.drop([\"PROPERTYZIP\", \"MUNICODE\", \"SCHOOLCODE\", \"NEIGHCODE\", \"SALEDATE\", \"SALEPRICE\",\n",
    "                 \"FAIRMARKETTOTAL\", \"latitude\", \"longitude\", \"SALEYEAR\"], axis=1)\n",
    "\n",
    "    # save col names for later\n",
    "    X_columns = list(X.columns)\n",
    "    # remove id from col list, since it will be filtered out later\n",
    "    X_columns.remove(\"_id\")\n",
    "    X = X.to_numpy()\n",
    "\n",
    "    y = df[\"SALEPRICE\"].to_numpy()\n",
    "\n",
    "    X_train, X_test, y_train, y_test = train_test_split(\n",
    "        X, y, test_size=0.25, random_state=42)\n",
    "\n",
    "    # save ids for later\n",
    "    train_ids = [x[0] for x in X_train]\n",
    "    test_ids = [x[0] for x in X_test]\n",
    "    X_train = X_train[:, 1:]  # remove first column (id)\n",
    "    X_test = X_test[:, 1:]    # remove first column (id)\n",
    "\n",
    "    X_train_train, X_train_val, y_train_train, y_train_val = train_test_split(\n",
    "        X_train, y_train, test_size=0.25, random_state=42)\n",
    "\n",
    "    print(f\"{X_train.shape}: {X_train_train.shape} + {X_train_val.shape}\")\n",
    "    print(f\"{y_train.shape}: {y_train_train.shape} + {y_train_val.shape}\")\n",
    "    print(X_test.shape)\n",
    "    print(y_test.shape)\n",
    "\n",
    "    # create error df\n",
    "    error_df = pd.DataFrame(\n",
    "        data={\"id\": test_ids, \"lat\": [0]*len(test_ids), \"long\": [0]*len(test_ids)})\n",
    "    error_df = error_df.apply(lambda x: find_coord(\n",
    "        x, df), axis=1, result_type='broadcast')\n",
    "    error_df.head(10)\n",
    "\n",
    "    return X_columns, [X, y, X_train, X_test, y_train, y_test, X_train_train, X_train_val, y_train_train, y_train_val], error_df"
   ]
  },
  {
   "cell_type": "code",
   "execution_count": 5,
   "metadata": {},
   "outputs": [],
   "source": [
    "def mean_absolute_percentage_error(y_true, y_pred):\n",
    "    \"\"\"Returns MAPE\"\"\"\n",
    "    \n",
    "    y_true, y_pred = np.array(y_true), np.array(y_pred)\n",
    "    return np.mean(np.abs((y_true - y_pred) / y_true)) * 100"
   ]
  },
  {
   "cell_type": "code",
   "execution_count": 6,
   "metadata": {},
   "outputs": [],
   "source": [
    "def get_metrics(y_true, y_pred, print_out=True):\n",
    "    \"\"\"Returns MAE, RMSE, MAPE and R^2\"\"\"\n",
    "    \n",
    "    mae = mean_absolute_error(y_true, y_pred)\n",
    "    rmse = mean_squared_error(y_true, y_pred, squared=False)\n",
    "    mape = mean_absolute_percentage_error(y_true, y_pred)\n",
    "    r_squared = r2_score(y_true, y_pred)\n",
    "\n",
    "    if print_out:\n",
    "        print(f\"MAE:  {round(mae)}\")\n",
    "        print(f\"RMSE: {round(rmse)}\")\n",
    "        print(f\"MAPE: {round(mape, 2)}%\")\n",
    "        print(f\"R^2:  {round(r_squared, 3)}\")\n",
    "\n",
    "    return mae, rmse, mape, r_squared"
   ]
  },
  {
   "cell_type": "code",
   "execution_count": 7,
   "metadata": {},
   "outputs": [],
   "source": [
    "def cross_validation(estimator, X, y):\n",
    "    \"\"\"Returns and prints cross validated MAE, RMSE, MAPE and R^2\"\"\"\n",
    "    \n",
    "    maes, rmses, mapes, r_squareds = [], [], [], []\n",
    "    X_cv = X[:, 1:]  # remove \"_id\" column\n",
    "\n",
    "    kf = KFold(n_splits=K_FOLDS, shuffle=True, random_state=42)\n",
    "    for train_index, test_index in tqdm(kf.split(X_cv), total=5):\n",
    "        X_train, X_test = X_cv[train_index], X_cv[test_index]\n",
    "        y_train, y_test = y[train_index], y[test_index]\n",
    "        \n",
    "        if \"linear_model\" in str(type(estimator)):\n",
    "            estimator.fit(X=X_train, y=y_train)\n",
    "        else:\n",
    "            estimator.fit(X=X_train, y=y_train, verbose=False)\n",
    "\n",
    "        y_pred_cv = estimator.predict(X_test)\n",
    "        mae, rmse, mape, r_squared = get_metrics(y_test, y_pred_cv, print_out=False)\n",
    "        maes.append(mae)\n",
    "        rmses.append(rmse)\n",
    "        mapes.append(mape)\n",
    "        r_squareds.append(r_squared)\n",
    "    \n",
    "    mae_cv, rmse_cv = round(np.mean(maes)), round(np.mean(rmses))\n",
    "    mape_cv, r_squared_cv = round(np.mean(mapes), 2), round(np.mean(r_squareds), 3)\n",
    "    \n",
    "    print(f\"MAE:  {mae_cv}\")\n",
    "    print(f\"RMSE: {rmse_cv}\")\n",
    "    print(f\"MAPE: {mape_cv}%\")\n",
    "    print(f\"R^2:  {r_squared_cv}\")\n",
    "    \n",
    "    return mae_cv, rmse_cv, mape_cv, r_squared_cv"
   ]
  },
  {
   "cell_type": "markdown",
   "metadata": {},
   "source": [
    "Load structured data with added GIS features."
   ]
  },
  {
   "cell_type": "code",
   "execution_count": 8,
   "metadata": {},
   "outputs": [
    {
     "name": "stdout",
     "output_type": "stream",
     "text": [
      "(9556, 136)\n"
     ]
    },
    {
     "data": {
      "text/html": [
       "<div>\n",
       "<style scoped>\n",
       "    .dataframe tbody tr th:only-of-type {\n",
       "        vertical-align: middle;\n",
       "    }\n",
       "\n",
       "    .dataframe tbody tr th {\n",
       "        vertical-align: top;\n",
       "    }\n",
       "\n",
       "    .dataframe thead th {\n",
       "        text-align: right;\n",
       "    }\n",
       "</style>\n",
       "<table border=\"1\" class=\"dataframe\">\n",
       "  <thead>\n",
       "    <tr style=\"text-align: right;\">\n",
       "      <th></th>\n",
       "      <th>_id</th>\n",
       "      <th>PROPERTYZIP</th>\n",
       "      <th>MUNICODE</th>\n",
       "      <th>SCHOOLCODE</th>\n",
       "      <th>NEIGHCODE</th>\n",
       "      <th>LOTAREA</th>\n",
       "      <th>SALEDATE</th>\n",
       "      <th>SALEPRICE</th>\n",
       "      <th>FAIRMARKETTOTAL</th>\n",
       "      <th>STORIES</th>\n",
       "      <th>...</th>\n",
       "      <th>apartment_buildings_dist</th>\n",
       "      <th>apartment_buildings_count</th>\n",
       "      <th>faith-based_facilities_dist</th>\n",
       "      <th>faith-based_facilities_count</th>\n",
       "      <th>restaurants_dist</th>\n",
       "      <th>restaurants_count</th>\n",
       "      <th>community_nonprofit_orgs_dist</th>\n",
       "      <th>community_nonprofit_orgs_count</th>\n",
       "      <th>bus_stops_dist</th>\n",
       "      <th>bus_stops_count</th>\n",
       "    </tr>\n",
       "  </thead>\n",
       "  <tbody>\n",
       "    <tr>\n",
       "      <th>0</th>\n",
       "      <td>427021</td>\n",
       "      <td>15037</td>\n",
       "      <td>908</td>\n",
       "      <td>16</td>\n",
       "      <td>90803</td>\n",
       "      <td>10276</td>\n",
       "      <td>04-21-2017</td>\n",
       "      <td>179900.0</td>\n",
       "      <td>157200</td>\n",
       "      <td>2.0</td>\n",
       "      <td>...</td>\n",
       "      <td>1295.712181</td>\n",
       "      <td>2</td>\n",
       "      <td>430.854222</td>\n",
       "      <td>3</td>\n",
       "      <td>766.161991</td>\n",
       "      <td>11</td>\n",
       "      <td>430.131485</td>\n",
       "      <td>34</td>\n",
       "      <td>4100.223256</td>\n",
       "      <td>0</td>\n",
       "    </tr>\n",
       "    <tr>\n",
       "      <th>1</th>\n",
       "      <td>428296</td>\n",
       "      <td>15106</td>\n",
       "      <td>850</td>\n",
       "      <td>7</td>\n",
       "      <td>85002</td>\n",
       "      <td>9375</td>\n",
       "      <td>12-27-2019</td>\n",
       "      <td>185000.0</td>\n",
       "      <td>180400</td>\n",
       "      <td>1.5</td>\n",
       "      <td>...</td>\n",
       "      <td>1855.096394</td>\n",
       "      <td>29</td>\n",
       "      <td>1418.878172</td>\n",
       "      <td>23</td>\n",
       "      <td>556.515602</td>\n",
       "      <td>79</td>\n",
       "      <td>132.952974</td>\n",
       "      <td>140</td>\n",
       "      <td>952.974317</td>\n",
       "      <td>193</td>\n",
       "    </tr>\n",
       "    <tr>\n",
       "      <th>2</th>\n",
       "      <td>428307</td>\n",
       "      <td>15237</td>\n",
       "      <td>927</td>\n",
       "      <td>27</td>\n",
       "      <td>92705</td>\n",
       "      <td>14827</td>\n",
       "      <td>01-17-2017</td>\n",
       "      <td>226400.0</td>\n",
       "      <td>167900</td>\n",
       "      <td>1.0</td>\n",
       "      <td>...</td>\n",
       "      <td>720.786679</td>\n",
       "      <td>21</td>\n",
       "      <td>921.939028</td>\n",
       "      <td>16</td>\n",
       "      <td>625.040058</td>\n",
       "      <td>73</td>\n",
       "      <td>322.297063</td>\n",
       "      <td>105</td>\n",
       "      <td>982.293948</td>\n",
       "      <td>122</td>\n",
       "    </tr>\n",
       "    <tr>\n",
       "      <th>3</th>\n",
       "      <td>230894</td>\n",
       "      <td>15236</td>\n",
       "      <td>877</td>\n",
       "      <td>4</td>\n",
       "      <td>87702</td>\n",
       "      <td>8206</td>\n",
       "      <td>08-17-2018</td>\n",
       "      <td>140500.0</td>\n",
       "      <td>122800</td>\n",
       "      <td>1.0</td>\n",
       "      <td>...</td>\n",
       "      <td>755.689725</td>\n",
       "      <td>30</td>\n",
       "      <td>924.038244</td>\n",
       "      <td>27</td>\n",
       "      <td>761.305188</td>\n",
       "      <td>99</td>\n",
       "      <td>23.971638</td>\n",
       "      <td>145</td>\n",
       "      <td>151.018551</td>\n",
       "      <td>174</td>\n",
       "    </tr>\n",
       "    <tr>\n",
       "      <th>4</th>\n",
       "      <td>231082</td>\n",
       "      <td>15241</td>\n",
       "      <td>950</td>\n",
       "      <td>42</td>\n",
       "      <td>95002</td>\n",
       "      <td>13050</td>\n",
       "      <td>07-17-2020</td>\n",
       "      <td>365000.0</td>\n",
       "      <td>255300</td>\n",
       "      <td>2.0</td>\n",
       "      <td>...</td>\n",
       "      <td>1274.896936</td>\n",
       "      <td>6</td>\n",
       "      <td>1823.857016</td>\n",
       "      <td>20</td>\n",
       "      <td>890.492128</td>\n",
       "      <td>54</td>\n",
       "      <td>31.019148</td>\n",
       "      <td>118</td>\n",
       "      <td>1132.092745</td>\n",
       "      <td>90</td>\n",
       "    </tr>\n",
       "    <tr>\n",
       "      <th>5</th>\n",
       "      <td>429294</td>\n",
       "      <td>15220</td>\n",
       "      <td>120</td>\n",
       "      <td>47</td>\n",
       "      <td>12001</td>\n",
       "      <td>10553</td>\n",
       "      <td>04-04-2017</td>\n",
       "      <td>203500.0</td>\n",
       "      <td>152900</td>\n",
       "      <td>1.0</td>\n",
       "      <td>...</td>\n",
       "      <td>836.578377</td>\n",
       "      <td>62</td>\n",
       "      <td>736.642125</td>\n",
       "      <td>47</td>\n",
       "      <td>349.591633</td>\n",
       "      <td>173</td>\n",
       "      <td>345.953494</td>\n",
       "      <td>293</td>\n",
       "      <td>335.095565</td>\n",
       "      <td>336</td>\n",
       "    </tr>\n",
       "    <tr>\n",
       "      <th>6</th>\n",
       "      <td>429419</td>\n",
       "      <td>15237</td>\n",
       "      <td>940</td>\n",
       "      <td>28</td>\n",
       "      <td>94002</td>\n",
       "      <td>11266</td>\n",
       "      <td>08-12-2019</td>\n",
       "      <td>226000.0</td>\n",
       "      <td>133700</td>\n",
       "      <td>1.0</td>\n",
       "      <td>...</td>\n",
       "      <td>286.150889</td>\n",
       "      <td>23</td>\n",
       "      <td>236.638991</td>\n",
       "      <td>21</td>\n",
       "      <td>335.390755</td>\n",
       "      <td>109</td>\n",
       "      <td>617.593485</td>\n",
       "      <td>125</td>\n",
       "      <td>160.819866</td>\n",
       "      <td>182</td>\n",
       "    </tr>\n",
       "    <tr>\n",
       "      <th>7</th>\n",
       "      <td>430193</td>\n",
       "      <td>15122</td>\n",
       "      <td>870</td>\n",
       "      <td>45</td>\n",
       "      <td>87002</td>\n",
       "      <td>12445</td>\n",
       "      <td>09-08-2020</td>\n",
       "      <td>80000.0</td>\n",
       "      <td>68500</td>\n",
       "      <td>2.0</td>\n",
       "      <td>...</td>\n",
       "      <td>1346.471821</td>\n",
       "      <td>15</td>\n",
       "      <td>531.013014</td>\n",
       "      <td>57</td>\n",
       "      <td>529.601447</td>\n",
       "      <td>84</td>\n",
       "      <td>342.584995</td>\n",
       "      <td>153</td>\n",
       "      <td>36.344021</td>\n",
       "      <td>371</td>\n",
       "    </tr>\n",
       "    <tr>\n",
       "      <th>8</th>\n",
       "      <td>430698</td>\n",
       "      <td>15143</td>\n",
       "      <td>884</td>\n",
       "      <td>27</td>\n",
       "      <td>88405</td>\n",
       "      <td>100188</td>\n",
       "      <td>04-04-2018</td>\n",
       "      <td>295000.0</td>\n",
       "      <td>250800</td>\n",
       "      <td>1.0</td>\n",
       "      <td>...</td>\n",
       "      <td>1869.882119</td>\n",
       "      <td>1</td>\n",
       "      <td>1839.573113</td>\n",
       "      <td>9</td>\n",
       "      <td>2127.553934</td>\n",
       "      <td>6</td>\n",
       "      <td>783.373282</td>\n",
       "      <td>50</td>\n",
       "      <td>5551.757438</td>\n",
       "      <td>0</td>\n",
       "    </tr>\n",
       "    <tr>\n",
       "      <th>9</th>\n",
       "      <td>431954</td>\n",
       "      <td>15136</td>\n",
       "      <td>919</td>\n",
       "      <td>24</td>\n",
       "      <td>91901</td>\n",
       "      <td>11587</td>\n",
       "      <td>01-04-2017</td>\n",
       "      <td>280000.0</td>\n",
       "      <td>244700</td>\n",
       "      <td>2.0</td>\n",
       "      <td>...</td>\n",
       "      <td>1002.117208</td>\n",
       "      <td>6</td>\n",
       "      <td>895.534897</td>\n",
       "      <td>8</td>\n",
       "      <td>850.532377</td>\n",
       "      <td>39</td>\n",
       "      <td>268.493993</td>\n",
       "      <td>60</td>\n",
       "      <td>373.789015</td>\n",
       "      <td>165</td>\n",
       "    </tr>\n",
       "  </tbody>\n",
       "</table>\n",
       "<p>10 rows × 136 columns</p>\n",
       "</div>"
      ],
      "text/plain": [
       "      _id  PROPERTYZIP  MUNICODE  SCHOOLCODE  NEIGHCODE  LOTAREA    SALEDATE  \\\n",
       "0  427021        15037       908          16      90803    10276  04-21-2017   \n",
       "1  428296        15106       850           7      85002     9375  12-27-2019   \n",
       "2  428307        15237       927          27      92705    14827  01-17-2017   \n",
       "3  230894        15236       877           4      87702     8206  08-17-2018   \n",
       "4  231082        15241       950          42      95002    13050  07-17-2020   \n",
       "5  429294        15220       120          47      12001    10553  04-04-2017   \n",
       "6  429419        15237       940          28      94002    11266  08-12-2019   \n",
       "7  430193        15122       870          45      87002    12445  09-08-2020   \n",
       "8  430698        15143       884          27      88405   100188  04-04-2018   \n",
       "9  431954        15136       919          24      91901    11587  01-04-2017   \n",
       "\n",
       "   SALEPRICE  FAIRMARKETTOTAL  STORIES  ...  apartment_buildings_dist  \\\n",
       "0   179900.0           157200      2.0  ...               1295.712181   \n",
       "1   185000.0           180400      1.5  ...               1855.096394   \n",
       "2   226400.0           167900      1.0  ...                720.786679   \n",
       "3   140500.0           122800      1.0  ...                755.689725   \n",
       "4   365000.0           255300      2.0  ...               1274.896936   \n",
       "5   203500.0           152900      1.0  ...                836.578377   \n",
       "6   226000.0           133700      1.0  ...                286.150889   \n",
       "7    80000.0            68500      2.0  ...               1346.471821   \n",
       "8   295000.0           250800      1.0  ...               1869.882119   \n",
       "9   280000.0           244700      2.0  ...               1002.117208   \n",
       "\n",
       "   apartment_buildings_count  faith-based_facilities_dist  \\\n",
       "0                          2                   430.854222   \n",
       "1                         29                  1418.878172   \n",
       "2                         21                   921.939028   \n",
       "3                         30                   924.038244   \n",
       "4                          6                  1823.857016   \n",
       "5                         62                   736.642125   \n",
       "6                         23                   236.638991   \n",
       "7                         15                   531.013014   \n",
       "8                          1                  1839.573113   \n",
       "9                          6                   895.534897   \n",
       "\n",
       "   faith-based_facilities_count  restaurants_dist  restaurants_count  \\\n",
       "0                             3        766.161991                 11   \n",
       "1                            23        556.515602                 79   \n",
       "2                            16        625.040058                 73   \n",
       "3                            27        761.305188                 99   \n",
       "4                            20        890.492128                 54   \n",
       "5                            47        349.591633                173   \n",
       "6                            21        335.390755                109   \n",
       "7                            57        529.601447                 84   \n",
       "8                             9       2127.553934                  6   \n",
       "9                             8        850.532377                 39   \n",
       "\n",
       "   community_nonprofit_orgs_dist  community_nonprofit_orgs_count  \\\n",
       "0                     430.131485                              34   \n",
       "1                     132.952974                             140   \n",
       "2                     322.297063                             105   \n",
       "3                      23.971638                             145   \n",
       "4                      31.019148                             118   \n",
       "5                     345.953494                             293   \n",
       "6                     617.593485                             125   \n",
       "7                     342.584995                             153   \n",
       "8                     783.373282                              50   \n",
       "9                     268.493993                              60   \n",
       "\n",
       "   bus_stops_dist  bus_stops_count  \n",
       "0     4100.223256                0  \n",
       "1      952.974317              193  \n",
       "2      982.293948              122  \n",
       "3      151.018551              174  \n",
       "4     1132.092745               90  \n",
       "5      335.095565              336  \n",
       "6      160.819866              182  \n",
       "7       36.344021              371  \n",
       "8     5551.757438                0  \n",
       "9      373.789015              165  \n",
       "\n",
       "[10 rows x 136 columns]"
      ]
     },
     "execution_count": 8,
     "metadata": {},
     "output_type": "execute_result"
    }
   ],
   "source": [
    "structured_gis = pd.read_csv(PATH+f\"structured_gis_category_features_{COUNT_RADIUS}_radius.csv\")\n",
    "print(structured_gis.shape)\n",
    "structured_gis.head(10)"
   ]
  },
  {
   "cell_type": "code",
   "execution_count": 9,
   "metadata": {},
   "outputs": [],
   "source": [
    "results_df = pd.DataFrame()"
   ]
  },
  {
   "cell_type": "markdown",
   "metadata": {},
   "source": [
    "## Only distance to nearest"
   ]
  },
  {
   "cell_type": "markdown",
   "metadata": {},
   "source": [
    "Filter out all ``_count`` features."
   ]
  },
  {
   "cell_type": "code",
   "execution_count": 10,
   "metadata": {},
   "outputs": [
    {
     "data": {
      "text/plain": [
       "(9556, 100)"
      ]
     },
     "execution_count": 10,
     "metadata": {},
     "output_type": "execute_result"
    }
   ],
   "source": [
    "structured_gis_dist = structured_gis[[col for col in structured_gis.columns if \"_count\" not in col]]\n",
    "structured_gis_dist.shape"
   ]
  },
  {
   "cell_type": "code",
   "execution_count": 11,
   "metadata": {},
   "outputs": [
    {
     "name": "stdout",
     "output_type": "stream",
     "text": [
      "(7167, 89): (5375, 89) + (1792, 89)\n",
      "(7167,): (5375,) + (1792,)\n",
      "(2389, 89)\n",
      "(2389,)\n"
     ]
    }
   ],
   "source": [
    "X_columns, data_sets, error_df = make_train_test(structured_gis_dist)\n",
    "X, y, X_train, X_test, y_train, y_test, X_train_train, X_train_val, y_train_train, y_train_val = data_sets"
   ]
  },
  {
   "cell_type": "markdown",
   "metadata": {},
   "source": [
    "### Linear regression"
   ]
  },
  {
   "cell_type": "code",
   "execution_count": 12,
   "metadata": {},
   "outputs": [
    {
     "data": {
      "text/plain": [
       "Lasso()"
      ]
     },
     "execution_count": 12,
     "metadata": {},
     "output_type": "execute_result"
    }
   ],
   "source": [
    "# model_01 = linear_model.LinearRegression()\n",
    "model_01 = linear_model.Lasso()\n",
    "# model_01 = linear_model.Ridge()\n",
    "model_01.fit(X_train, y_train)"
   ]
  },
  {
   "cell_type": "code",
   "execution_count": 13,
   "metadata": {},
   "outputs": [
    {
     "name": "stdout",
     "output_type": "stream",
     "text": [
      "MAE:  39367\n",
      "RMSE: 55089\n",
      "MAPE: 24.25%\n",
      "R^2:  0.829\n"
     ]
    }
   ],
   "source": [
    "y_pred_01 = model_01.predict(X_test)\n",
    "metrics = get_metrics(y_test, y_pred_01)"
   ]
  },
  {
   "cell_type": "markdown",
   "metadata": {},
   "source": [
    "Cross validation"
   ]
  },
  {
   "cell_type": "code",
   "execution_count": 14,
   "metadata": {},
   "outputs": [
    {
     "data": {
      "application/vnd.jupyter.widget-view+json": {
       "model_id": "431c86838ddd42a8949b569630f83e0c",
       "version_major": 2,
       "version_minor": 0
      },
      "text/plain": [
       "  0%|          | 0/5 [00:00<?, ?it/s]"
      ]
     },
     "metadata": {},
     "output_type": "display_data"
    },
    {
     "name": "stdout",
     "output_type": "stream",
     "text": [
      "MAE:  41501\n",
      "RMSE: 58637\n",
      "MAPE: 26.38%\n",
      "R^2:  0.815\n"
     ]
    }
   ],
   "source": [
    "results_df[\"Linear: S+D\"] = cross_validation(model_01, X, y)"
   ]
  },
  {
   "cell_type": "markdown",
   "metadata": {},
   "source": [
    "### Catboost"
   ]
  },
  {
   "cell_type": "code",
   "execution_count": 15,
   "metadata": {},
   "outputs": [
    {
     "data": {
      "text/plain": [
       "<catboost.core.CatBoostRegressor at 0x24f8f655b08>"
      ]
     },
     "execution_count": 15,
     "metadata": {},
     "output_type": "execute_result"
    }
   ],
   "source": [
    "model_02 = CatBoostRegressor()\n",
    "model_02.fit(X=X_train, y=y_train, verbose=False)"
   ]
  },
  {
   "cell_type": "code",
   "execution_count": 16,
   "metadata": {},
   "outputs": [
    {
     "name": "stdout",
     "output_type": "stream",
     "text": [
      "MAE:  28725\n",
      "RMSE: 41493\n",
      "MAPE: 16.59%\n",
      "R^2:  0.903\n"
     ]
    }
   ],
   "source": [
    "y_pred_02 = model_02.predict(X_test)\n",
    "metrics = get_metrics(y_test, y_pred_02)"
   ]
  },
  {
   "cell_type": "markdown",
   "metadata": {},
   "source": [
    "Cross validation"
   ]
  },
  {
   "cell_type": "code",
   "execution_count": 17,
   "metadata": {},
   "outputs": [
    {
     "data": {
      "application/vnd.jupyter.widget-view+json": {
       "model_id": "506a193c17fa408f801f70dda8ccc55d",
       "version_major": 2,
       "version_minor": 0
      },
      "text/plain": [
       "  0%|          | 0/5 [00:00<?, ?it/s]"
      ]
     },
     "metadata": {},
     "output_type": "display_data"
    },
    {
     "name": "stdout",
     "output_type": "stream",
     "text": [
      "MAE:  29852\n",
      "RMSE: 44221\n",
      "MAPE: 17.72%\n",
      "R^2:  0.895\n"
     ]
    }
   ],
   "source": [
    "results_df[\"Catboost: S+D\"] = cross_validation(model_02, X, y)"
   ]
  },
  {
   "cell_type": "markdown",
   "metadata": {},
   "source": [
    "## Distance to nearest and count in radius"
   ]
  },
  {
   "cell_type": "markdown",
   "metadata": {},
   "source": [
    "Make train/test set for ``_dist`` and ``_count`` features"
   ]
  },
  {
   "cell_type": "code",
   "execution_count": 18,
   "metadata": {},
   "outputs": [
    {
     "name": "stdout",
     "output_type": "stream",
     "text": [
      "(7167, 125): (5375, 125) + (1792, 125)\n",
      "(7167,): (5375,) + (1792,)\n",
      "(2389, 125)\n",
      "(2389,)\n"
     ]
    }
   ],
   "source": [
    "X_columns, data_sets, error_df = make_train_test(structured_gis)\n",
    "X, y, X_train, X_test, y_train, y_test, X_train_train, X_train_val, y_train_train, y_train_val = data_sets"
   ]
  },
  {
   "cell_type": "markdown",
   "metadata": {},
   "source": [
    "### Linear regression"
   ]
  },
  {
   "cell_type": "code",
   "execution_count": 19,
   "metadata": {},
   "outputs": [
    {
     "data": {
      "text/plain": [
       "Ridge()"
      ]
     },
     "execution_count": 19,
     "metadata": {},
     "output_type": "execute_result"
    }
   ],
   "source": [
    "# model_03 = linear_model.LinearRegression()\n",
    "# model_03 = linear_model.Lasso()\n",
    "model_03 = linear_model.Ridge()\n",
    "model_03.fit(X_train, y_train)"
   ]
  },
  {
   "cell_type": "code",
   "execution_count": 20,
   "metadata": {},
   "outputs": [
    {
     "name": "stdout",
     "output_type": "stream",
     "text": [
      "MAE:  35561\n",
      "RMSE: 49586\n",
      "MAPE: 22.33%\n",
      "R^2:  0.862\n"
     ]
    }
   ],
   "source": [
    "y_pred_03 = model_03.predict(X_test)\n",
    "metrics = get_metrics(y_test, y_pred_03)"
   ]
  },
  {
   "cell_type": "markdown",
   "metadata": {},
   "source": [
    "Cross validation"
   ]
  },
  {
   "cell_type": "code",
   "execution_count": 21,
   "metadata": {},
   "outputs": [
    {
     "data": {
      "application/vnd.jupyter.widget-view+json": {
       "model_id": "f0ada422f7ab41f39cf75b78966ea307",
       "version_major": 2,
       "version_minor": 0
      },
      "text/plain": [
       "  0%|          | 0/5 [00:00<?, ?it/s]"
      ]
     },
     "metadata": {},
     "output_type": "display_data"
    },
    {
     "name": "stdout",
     "output_type": "stream",
     "text": [
      "MAE:  37300\n",
      "RMSE: 52906\n",
      "MAPE: 23.78%\n",
      "R^2:  0.85\n"
     ]
    }
   ],
   "source": [
    "results_df[\"Linear: S+D+C\"] = cross_validation(model_03, X, y)"
   ]
  },
  {
   "cell_type": "markdown",
   "metadata": {},
   "source": [
    "### Catboost"
   ]
  },
  {
   "cell_type": "code",
   "execution_count": 22,
   "metadata": {},
   "outputs": [
    {
     "data": {
      "text/plain": [
       "<catboost.core.CatBoostRegressor at 0x24f8f686bc8>"
      ]
     },
     "execution_count": 22,
     "metadata": {},
     "output_type": "execute_result"
    }
   ],
   "source": [
    "model_04 = CatBoostRegressor()\n",
    "model_04.fit(X=X_train, y=y_train, verbose=False)"
   ]
  },
  {
   "cell_type": "code",
   "execution_count": 23,
   "metadata": {},
   "outputs": [
    {
     "name": "stdout",
     "output_type": "stream",
     "text": [
      "MAE:  28098\n",
      "RMSE: 40853\n",
      "MAPE: 15.98%\n",
      "R^2:  0.906\n"
     ]
    }
   ],
   "source": [
    "y_pred_04 = model_04.predict(X_test)\n",
    "metrics = get_metrics(y_test, y_pred_04)"
   ]
  },
  {
   "cell_type": "code",
   "execution_count": 24,
   "metadata": {},
   "outputs": [],
   "source": [
    "error_df[\"catboost\"] = [test - pred for test, pred in zip(y_test, y_pred_04)]"
   ]
  },
  {
   "cell_type": "markdown",
   "metadata": {},
   "source": [
    "Cross validation"
   ]
  },
  {
   "cell_type": "code",
   "execution_count": 25,
   "metadata": {},
   "outputs": [
    {
     "data": {
      "application/vnd.jupyter.widget-view+json": {
       "model_id": "44cd3bdfc5534c279fb3e4e3478ebd24",
       "version_major": 2,
       "version_minor": 0
      },
      "text/plain": [
       "  0%|          | 0/5 [00:00<?, ?it/s]"
      ]
     },
     "metadata": {},
     "output_type": "display_data"
    },
    {
     "name": "stdout",
     "output_type": "stream",
     "text": [
      "MAE:  29161\n",
      "RMSE: 43369\n",
      "MAPE: 17.15%\n",
      "R^2:  0.899\n"
     ]
    }
   ],
   "source": [
    "results_df[\"Catboost: S+D+C\"] = cross_validation(model_04, X, y)"
   ]
  },
  {
   "cell_type": "markdown",
   "metadata": {},
   "source": [
    "### Only GIS features"
   ]
  },
  {
   "cell_type": "markdown",
   "metadata": {},
   "source": [
    "Remove structured data"
   ]
  },
  {
   "cell_type": "code",
   "execution_count": 26,
   "metadata": {},
   "outputs": [],
   "source": [
    "# remove house attributes\n",
    "X_train_gis = X_train[:, 53:]\n",
    "X_test_gis = X_test[:, 53:]"
   ]
  },
  {
   "cell_type": "code",
   "execution_count": 27,
   "metadata": {},
   "outputs": [
    {
     "data": {
      "text/plain": [
       "(7167, 125)"
      ]
     },
     "execution_count": 27,
     "metadata": {},
     "output_type": "execute_result"
    }
   ],
   "source": [
    "X_train.shape"
   ]
  },
  {
   "cell_type": "markdown",
   "metadata": {},
   "source": [
    "### Linear regression"
   ]
  },
  {
   "cell_type": "code",
   "execution_count": 28,
   "metadata": {},
   "outputs": [
    {
     "data": {
      "text/plain": [
       "Ridge()"
      ]
     },
     "execution_count": 28,
     "metadata": {},
     "output_type": "execute_result"
    }
   ],
   "source": [
    "# model_05 = linear_model.LinearRegression()\n",
    "# model_05 = linear_model.Lasso()\n",
    "model_05 = linear_model.Ridge()\n",
    "model_05.fit(X_train_gis, y_train)"
   ]
  },
  {
   "cell_type": "code",
   "execution_count": 29,
   "metadata": {},
   "outputs": [
    {
     "name": "stdout",
     "output_type": "stream",
     "text": [
      "MAE:  70051\n",
      "RMSE: 102158\n",
      "MAPE: 40.91%\n",
      "R^2:  0.413\n"
     ]
    }
   ],
   "source": [
    "y_pred_05 = model_05.predict(X_test_gis)\n",
    "metrics = get_metrics(y_test, y_pred_05)"
   ]
  },
  {
   "cell_type": "markdown",
   "metadata": {},
   "source": [
    "Cross validation"
   ]
  },
  {
   "cell_type": "code",
   "execution_count": 30,
   "metadata": {},
   "outputs": [
    {
     "data": {
      "application/vnd.jupyter.widget-view+json": {
       "model_id": "e29fafe0c70245f8b3a2891bf124cb76",
       "version_major": 2,
       "version_minor": 0
      },
      "text/plain": [
       "  0%|          | 0/5 [00:00<?, ?it/s]"
      ]
     },
     "metadata": {},
     "output_type": "display_data"
    },
    {
     "name": "stdout",
     "output_type": "stream",
     "text": [
      "MAE:  69060\n",
      "RMSE: 101598\n",
      "MAPE: 41.3%\n",
      "R^2:  0.445\n"
     ]
    }
   ],
   "source": [
    "results_df[\"Linear: D+C\"] = cross_validation(model_05, X[:, 52:], y)"
   ]
  },
  {
   "cell_type": "markdown",
   "metadata": {},
   "source": [
    "### Catboost"
   ]
  },
  {
   "cell_type": "code",
   "execution_count": 31,
   "metadata": {},
   "outputs": [
    {
     "data": {
      "text/plain": [
       "<catboost.core.CatBoostRegressor at 0x24f8f686b88>"
      ]
     },
     "execution_count": 31,
     "metadata": {},
     "output_type": "execute_result"
    }
   ],
   "source": [
    "model_06 = CatBoostRegressor()\n",
    "model_06.fit(X=X_train_gis, y=y_train, verbose=False)"
   ]
  },
  {
   "cell_type": "code",
   "execution_count": 32,
   "metadata": {},
   "outputs": [
    {
     "name": "stdout",
     "output_type": "stream",
     "text": [
      "MAE:  51190\n",
      "RMSE: 77443\n",
      "MAPE: 29.83%\n",
      "R^2:  0.662\n"
     ]
    }
   ],
   "source": [
    "y_pred_06 = model_06.predict(X_test_gis)\n",
    "metrics = get_metrics(y_test, y_pred_06)"
   ]
  },
  {
   "cell_type": "markdown",
   "metadata": {},
   "source": [
    "Cross validation"
   ]
  },
  {
   "cell_type": "code",
   "execution_count": 33,
   "metadata": {},
   "outputs": [
    {
     "data": {
      "application/vnd.jupyter.widget-view+json": {
       "model_id": "491effdd51394232a68c0c0c10443739",
       "version_major": 2,
       "version_minor": 0
      },
      "text/plain": [
       "  0%|          | 0/5 [00:00<?, ?it/s]"
      ]
     },
     "metadata": {},
     "output_type": "display_data"
    },
    {
     "name": "stdout",
     "output_type": "stream",
     "text": [
      "MAE:  50590\n",
      "RMSE: 77057\n",
      "MAPE: 29.71%\n",
      "R^2:  0.681\n"
     ]
    }
   ],
   "source": [
    "results_df[\"Catboost: D+C\"] = cross_validation(model_06, X[:, 52:], y)"
   ]
  },
  {
   "cell_type": "markdown",
   "metadata": {},
   "source": [
    "## Results"
   ]
  },
  {
   "cell_type": "code",
   "execution_count": 34,
   "metadata": {},
   "outputs": [
    {
     "name": "stdout",
     "output_type": "stream",
     "text": [
      "Results for a count radius of 3500m.\n"
     ]
    },
    {
     "data": {
      "text/html": [
       "<div>\n",
       "<style scoped>\n",
       "    .dataframe tbody tr th:only-of-type {\n",
       "        vertical-align: middle;\n",
       "    }\n",
       "\n",
       "    .dataframe tbody tr th {\n",
       "        vertical-align: top;\n",
       "    }\n",
       "\n",
       "    .dataframe thead th {\n",
       "        text-align: right;\n",
       "    }\n",
       "</style>\n",
       "<table border=\"1\" class=\"dataframe\">\n",
       "  <thead>\n",
       "    <tr style=\"text-align: right;\">\n",
       "      <th></th>\n",
       "      <th>Linear: D+C</th>\n",
       "      <th>Linear: S+D</th>\n",
       "      <th>Linear: S+D+C</th>\n",
       "      <th>Catboost: D+C</th>\n",
       "      <th>Catboost: S+D</th>\n",
       "      <th>Catboost: S+D+C</th>\n",
       "    </tr>\n",
       "  </thead>\n",
       "  <tbody>\n",
       "    <tr>\n",
       "      <th>MAE</th>\n",
       "      <td>69060.000</td>\n",
       "      <td>41501.000</td>\n",
       "      <td>37300.00</td>\n",
       "      <td>50590.000</td>\n",
       "      <td>29852.000</td>\n",
       "      <td>29161.000</td>\n",
       "    </tr>\n",
       "    <tr>\n",
       "      <th>RMSE</th>\n",
       "      <td>101598.000</td>\n",
       "      <td>58637.000</td>\n",
       "      <td>52906.00</td>\n",
       "      <td>77057.000</td>\n",
       "      <td>44221.000</td>\n",
       "      <td>43369.000</td>\n",
       "    </tr>\n",
       "    <tr>\n",
       "      <th>MAPE</th>\n",
       "      <td>41.300</td>\n",
       "      <td>26.380</td>\n",
       "      <td>23.78</td>\n",
       "      <td>29.710</td>\n",
       "      <td>17.720</td>\n",
       "      <td>17.150</td>\n",
       "    </tr>\n",
       "    <tr>\n",
       "      <th>R^2</th>\n",
       "      <td>0.445</td>\n",
       "      <td>0.815</td>\n",
       "      <td>0.85</td>\n",
       "      <td>0.681</td>\n",
       "      <td>0.895</td>\n",
       "      <td>0.899</td>\n",
       "    </tr>\n",
       "  </tbody>\n",
       "</table>\n",
       "</div>"
      ],
      "text/plain": [
       "      Linear: D+C  Linear: S+D  Linear: S+D+C  Catboost: D+C  Catboost: S+D  \\\n",
       "MAE     69060.000    41501.000       37300.00      50590.000      29852.000   \n",
       "RMSE   101598.000    58637.000       52906.00      77057.000      44221.000   \n",
       "MAPE       41.300       26.380          23.78         29.710         17.720   \n",
       "R^2         0.445        0.815           0.85          0.681          0.895   \n",
       "\n",
       "      Catboost: S+D+C  \n",
       "MAE         29161.000  \n",
       "RMSE        43369.000  \n",
       "MAPE           17.150  \n",
       "R^2             0.899  "
      ]
     },
     "execution_count": 34,
     "metadata": {},
     "output_type": "execute_result"
    }
   ],
   "source": [
    "results_df.index = [\"MAE\", \"RMSE\", \"MAPE\", \"R^2\"]\n",
    "# reorder columns\n",
    "results_df = results_df[[\"Linear: D+C\", \"Linear: S+D\", \"Linear: S+D+C\", \"Catboost: D+C\", \"Catboost: S+D\", \"Catboost: S+D+C\"]]\n",
    "results_df.to_csv(\n",
    "    PATH + f\"results/structured_gis_{COUNT_RADIUS}_results.csv\", index=False)\n",
    "print(f\"Results for a count radius of {COUNT_RADIUS}m.\")\n",
    "results_df.head()"
   ]
  },
  {
   "cell_type": "markdown",
   "metadata": {},
   "source": [
    "## Spatial out-of-sample test"
   ]
  },
  {
   "cell_type": "markdown",
   "metadata": {},
   "source": [
    "Calculate median latitude and longitude"
   ]
  },
  {
   "cell_type": "code",
   "execution_count": 35,
   "metadata": {},
   "outputs": [
    {
     "data": {
      "text/plain": [
       "latitude     40.441981\n",
       "longitude   -79.987716\n",
       "dtype: float64"
      ]
     },
     "execution_count": 35,
     "metadata": {},
     "output_type": "execute_result"
    }
   ],
   "source": [
    "soos_df = structured_gis.copy()\n",
    "\n",
    "coords_median = soos_df.loc[:, \"latitude\":\"longitude\"].median()\n",
    "lat_median = coords_median.loc[\"latitude\"]\n",
    "long_median = coords_median.loc[\"longitude\"]\n",
    "coords_median"
   ]
  },
  {
   "cell_type": "markdown",
   "metadata": {},
   "source": [
    "Split data into 4 quadrants along median latitude and longitude."
   ]
  },
  {
   "cell_type": "code",
   "execution_count": 36,
   "metadata": {},
   "outputs": [
    {
     "name": "stdout",
     "output_type": "stream",
     "text": [
      "(2487, 136)\n",
      "(2291, 136)\n",
      "(2487, 136)\n",
      "(2291, 136)\n",
      "\n",
      "(9556, 136)\n"
     ]
    }
   ],
   "source": [
    "quadrants = []\n",
    "\n",
    "quadrant_1 = soos_df[(soos_df[\"latitude\"] >= lat_median) & (\n",
    "    soos_df[\"longitude\"] >= long_median)]\n",
    "quadrants.append(quadrant_1)\n",
    "print(quadrant_1.shape)\n",
    "\n",
    "quadrant_2 = soos_df[(soos_df[\"latitude\"] >= lat_median) & (\n",
    "    soos_df[\"longitude\"] < long_median)]\n",
    "quadrants.append(quadrant_2)\n",
    "print(quadrant_2.shape)\n",
    "\n",
    "quadrant_3 = soos_df[(soos_df[\"latitude\"] < lat_median) & (\n",
    "    soos_df[\"longitude\"] < long_median)]\n",
    "quadrants.append(quadrant_3)\n",
    "print(quadrant_3.shape)\n",
    "\n",
    "quadrant_4 = soos_df[(soos_df[\"latitude\"] < lat_median) & (\n",
    "    soos_df[\"longitude\"] >= long_median)]\n",
    "quadrants.append(quadrant_4)\n",
    "print(quadrant_4.shape, end=\"\\n\\n\")\n",
    "\n",
    "row_sum = quadrant_1.shape[0] + quadrant_2.shape[0] + quadrant_3.shape[0] + quadrant_4.shape[0]\n",
    "print(f\"{row_sum, quadrant_1.shape[1]}\")"
   ]
  },
  {
   "cell_type": "markdown",
   "metadata": {},
   "source": [
    "Create df for storing prediction errors"
   ]
  },
  {
   "cell_type": "code",
   "execution_count": 37,
   "metadata": {},
   "outputs": [
    {
     "data": {
      "text/html": [
       "<div>\n",
       "<style scoped>\n",
       "    .dataframe tbody tr th:only-of-type {\n",
       "        vertical-align: middle;\n",
       "    }\n",
       "\n",
       "    .dataframe tbody tr th {\n",
       "        vertical-align: top;\n",
       "    }\n",
       "\n",
       "    .dataframe thead th {\n",
       "        text-align: right;\n",
       "    }\n",
       "</style>\n",
       "<table border=\"1\" class=\"dataframe\">\n",
       "  <thead>\n",
       "    <tr style=\"text-align: right;\">\n",
       "      <th></th>\n",
       "      <th>id</th>\n",
       "      <th>lat</th>\n",
       "      <th>long</th>\n",
       "      <th>prediction</th>\n",
       "      <th>error</th>\n",
       "    </tr>\n",
       "  </thead>\n",
       "  <tbody>\n",
       "    <tr>\n",
       "      <th>0</th>\n",
       "      <td>431231</td>\n",
       "      <td>40.617547</td>\n",
       "      <td>-79.729775</td>\n",
       "      <td>0</td>\n",
       "      <td>0</td>\n",
       "    </tr>\n",
       "    <tr>\n",
       "      <th>1</th>\n",
       "      <td>432911</td>\n",
       "      <td>40.551018</td>\n",
       "      <td>-79.980841</td>\n",
       "      <td>0</td>\n",
       "      <td>0</td>\n",
       "    </tr>\n",
       "    <tr>\n",
       "      <th>2</th>\n",
       "      <td>235532</td>\n",
       "      <td>40.471628</td>\n",
       "      <td>-79.958138</td>\n",
       "      <td>0</td>\n",
       "      <td>0</td>\n",
       "    </tr>\n",
       "    <tr>\n",
       "      <th>3</th>\n",
       "      <td>434181</td>\n",
       "      <td>40.607946</td>\n",
       "      <td>-79.924800</td>\n",
       "      <td>0</td>\n",
       "      <td>0</td>\n",
       "    </tr>\n",
       "    <tr>\n",
       "      <th>4</th>\n",
       "      <td>436550</td>\n",
       "      <td>40.491269</td>\n",
       "      <td>-79.900028</td>\n",
       "      <td>0</td>\n",
       "      <td>0</td>\n",
       "    </tr>\n",
       "    <tr>\n",
       "      <th>5</th>\n",
       "      <td>437000</td>\n",
       "      <td>40.585733</td>\n",
       "      <td>-79.947796</td>\n",
       "      <td>0</td>\n",
       "      <td>0</td>\n",
       "    </tr>\n",
       "    <tr>\n",
       "      <th>6</th>\n",
       "      <td>239528</td>\n",
       "      <td>40.482701</td>\n",
       "      <td>-79.790070</td>\n",
       "      <td>0</td>\n",
       "      <td>0</td>\n",
       "    </tr>\n",
       "    <tr>\n",
       "      <th>7</th>\n",
       "      <td>440528</td>\n",
       "      <td>40.442026</td>\n",
       "      <td>-79.819429</td>\n",
       "      <td>0</td>\n",
       "      <td>0</td>\n",
       "    </tr>\n",
       "    <tr>\n",
       "      <th>8</th>\n",
       "      <td>484388</td>\n",
       "      <td>40.483444</td>\n",
       "      <td>-79.968761</td>\n",
       "      <td>0</td>\n",
       "      <td>0</td>\n",
       "    </tr>\n",
       "    <tr>\n",
       "      <th>9</th>\n",
       "      <td>441277</td>\n",
       "      <td>40.542078</td>\n",
       "      <td>-79.895429</td>\n",
       "      <td>0</td>\n",
       "      <td>0</td>\n",
       "    </tr>\n",
       "  </tbody>\n",
       "</table>\n",
       "</div>"
      ],
      "text/plain": [
       "       id        lat       long  prediction  error\n",
       "0  431231  40.617547 -79.729775           0      0\n",
       "1  432911  40.551018 -79.980841           0      0\n",
       "2  235532  40.471628 -79.958138           0      0\n",
       "3  434181  40.607946 -79.924800           0      0\n",
       "4  436550  40.491269 -79.900028           0      0\n",
       "5  437000  40.585733 -79.947796           0      0\n",
       "6  239528  40.482701 -79.790070           0      0\n",
       "7  440528  40.442026 -79.819429           0      0\n",
       "8  484388  40.483444 -79.968761           0      0\n",
       "9  441277  40.542078 -79.895429           0      0"
      ]
     },
     "execution_count": 37,
     "metadata": {},
     "output_type": "execute_result"
    }
   ],
   "source": [
    "quadrants_df = pd.concat(quadrants, ignore_index=True)\n",
    "\n",
    "error_df_soos = pd.DataFrame(\n",
    "    data={\"id\": quadrants_df[\"_id\"],\n",
    "          \"lat\": quadrants_df[\"latitude\"],\n",
    "          \"long\": quadrants_df[\"longitude\"],\n",
    "          \"prediction\": 0,\n",
    "          \"error\": 0})\n",
    "error_df_soos.head(10)"
   ]
  },
  {
   "cell_type": "markdown",
   "metadata": {},
   "source": [
    "Train model on 3 quadrants and predict the last one, so that every quadrant will be predicted once."
   ]
  },
  {
   "cell_type": "code",
   "execution_count": 38,
   "metadata": {},
   "outputs": [
    {
     "name": "stdout",
     "output_type": "stream",
     "text": [
      "Quadrant: 1\n",
      "MAE:  50589\n",
      "RMSE: 76877\n",
      "MAPE: 29.53%\n",
      "R^2:  0.758\n",
      "\n",
      "Quadrant: 2\n",
      "MAE:  45977\n",
      "RMSE: 70358\n",
      "MAPE: 19.77%\n",
      "R^2:  0.775\n",
      "\n",
      "Quadrant: 3\n",
      "MAE:  34776\n",
      "RMSE: 48192\n",
      "MAPE: 17.05%\n",
      "R^2:  0.821\n",
      "\n",
      "Quadrant: 4\n",
      "MAE:  35392\n",
      "RMSE: 48389\n",
      "MAPE: 33.12%\n",
      "R^2:  0.741\n",
      "\n",
      "Average:\n",
      "MAE:  41684\n",
      "RMSE: 60954\n",
      "MAPE: 24.87%\n",
      "R^2:  0.773\n"
     ]
    }
   ],
   "source": [
    "y_preds = []\n",
    "errors = []\n",
    "maes, rmses, mapes, r_squareds = [], [], [], []\n",
    "\n",
    "for i, quadrant in enumerate(quadrants):\n",
    "    train = pd.concat(quadrants[:i] + quadrants[i+1:])\n",
    "    test = quadrants[i]\n",
    "    \n",
    "    train = train.drop([\"_id\", \"PROPERTYZIP\", \"MUNICODE\", \"SCHOOLCODE\", \"NEIGHCODE\", \"SALEDATE\",\n",
    "                        \"FAIRMARKETTOTAL\", \"latitude\", \"longitude\", \"SALEYEAR\"], axis=1)\n",
    "    test = test.drop([\"_id\", \"PROPERTYZIP\", \"MUNICODE\", \"SCHOOLCODE\", \"NEIGHCODE\", \"SALEDATE\",\n",
    "                      \"FAIRMARKETTOTAL\", \"latitude\", \"longitude\", \"SALEYEAR\"], axis=1)\n",
    "    \n",
    "    X_train = train.drop([\"SALEPRICE\"], axis=1).to_numpy()\n",
    "    y_train = train[\"SALEPRICE\"].to_numpy()\n",
    "    \n",
    "    X_test = test.drop([\"SALEPRICE\"], axis=1).to_numpy()\n",
    "    y_test = test[\"SALEPRICE\"].to_numpy()\n",
    "    \n",
    "    model_cv = CatBoostRegressor()\n",
    "    model_cv.fit(X=X_train, y=y_train, verbose=False)\n",
    "    \n",
    "    y_pred_cv = model_cv.predict(X_test)\n",
    "    y_preds.extend(y_pred_cv)\n",
    "    errors.extend([test - pred for test, pred in zip(y_test, y_pred_cv)])\n",
    "    \n",
    "    print(f\"Quadrant: {i+1}\")\n",
    "    mae, rmse, mape, r_squared = get_metrics(y_test, y_pred_cv)\n",
    "    maes.append(mae)\n",
    "    rmses.append(rmse)\n",
    "    mapes.append(mape)\n",
    "    r_squareds.append(r_squared)\n",
    "    \n",
    "    print(\"\")\n",
    "\n",
    "error_df_soos[\"prediction\"] = y_preds\n",
    "error_df_soos[\"error\"] = errors\n",
    "    \n",
    "print(\"Average:\")\n",
    "print(f\"MAE:  {round(np.mean(maes))}\")\n",
    "print(f\"RMSE: {round(np.mean(rmses))}\")\n",
    "print(f\"MAPE: {round(np.mean(mapes), 2)}%\")\n",
    "print(f\"R^2:  {round(np.mean(r_squareds), 3)}\")"
   ]
  },
  {
   "cell_type": "code",
   "execution_count": 39,
   "metadata": {},
   "outputs": [
    {
     "data": {
      "text/html": [
       "<div>\n",
       "<style scoped>\n",
       "    .dataframe tbody tr th:only-of-type {\n",
       "        vertical-align: middle;\n",
       "    }\n",
       "\n",
       "    .dataframe tbody tr th {\n",
       "        vertical-align: top;\n",
       "    }\n",
       "\n",
       "    .dataframe thead th {\n",
       "        text-align: right;\n",
       "    }\n",
       "</style>\n",
       "<table border=\"1\" class=\"dataframe\">\n",
       "  <thead>\n",
       "    <tr style=\"text-align: right;\">\n",
       "      <th></th>\n",
       "      <th>id</th>\n",
       "      <th>lat</th>\n",
       "      <th>long</th>\n",
       "      <th>prediction</th>\n",
       "      <th>error</th>\n",
       "    </tr>\n",
       "  </thead>\n",
       "  <tbody>\n",
       "    <tr>\n",
       "      <th>0</th>\n",
       "      <td>431231</td>\n",
       "      <td>40.617547</td>\n",
       "      <td>-79.729775</td>\n",
       "      <td>78573.362064</td>\n",
       "      <td>40426.637936</td>\n",
       "    </tr>\n",
       "    <tr>\n",
       "      <th>1</th>\n",
       "      <td>432911</td>\n",
       "      <td>40.551018</td>\n",
       "      <td>-79.980841</td>\n",
       "      <td>228202.748260</td>\n",
       "      <td>-45702.748260</td>\n",
       "    </tr>\n",
       "    <tr>\n",
       "      <th>2</th>\n",
       "      <td>235532</td>\n",
       "      <td>40.471628</td>\n",
       "      <td>-79.958138</td>\n",
       "      <td>469147.274583</td>\n",
       "      <td>152852.725417</td>\n",
       "    </tr>\n",
       "    <tr>\n",
       "      <th>3</th>\n",
       "      <td>434181</td>\n",
       "      <td>40.607946</td>\n",
       "      <td>-79.924800</td>\n",
       "      <td>225149.648685</td>\n",
       "      <td>49850.351315</td>\n",
       "    </tr>\n",
       "    <tr>\n",
       "      <th>4</th>\n",
       "      <td>436550</td>\n",
       "      <td>40.491269</td>\n",
       "      <td>-79.900028</td>\n",
       "      <td>239808.792878</td>\n",
       "      <td>200191.207122</td>\n",
       "    </tr>\n",
       "    <tr>\n",
       "      <th>5</th>\n",
       "      <td>437000</td>\n",
       "      <td>40.585733</td>\n",
       "      <td>-79.947796</td>\n",
       "      <td>183098.019137</td>\n",
       "      <td>56801.980863</td>\n",
       "    </tr>\n",
       "    <tr>\n",
       "      <th>6</th>\n",
       "      <td>239528</td>\n",
       "      <td>40.482701</td>\n",
       "      <td>-79.790070</td>\n",
       "      <td>266564.108333</td>\n",
       "      <td>-108564.108333</td>\n",
       "    </tr>\n",
       "    <tr>\n",
       "      <th>7</th>\n",
       "      <td>440528</td>\n",
       "      <td>40.442026</td>\n",
       "      <td>-79.819429</td>\n",
       "      <td>182206.223803</td>\n",
       "      <td>-28458.223803</td>\n",
       "    </tr>\n",
       "    <tr>\n",
       "      <th>8</th>\n",
       "      <td>484388</td>\n",
       "      <td>40.483444</td>\n",
       "      <td>-79.968761</td>\n",
       "      <td>164095.665761</td>\n",
       "      <td>-20595.665761</td>\n",
       "    </tr>\n",
       "    <tr>\n",
       "      <th>9</th>\n",
       "      <td>441277</td>\n",
       "      <td>40.542078</td>\n",
       "      <td>-79.895429</td>\n",
       "      <td>330457.795987</td>\n",
       "      <td>126292.204013</td>\n",
       "    </tr>\n",
       "  </tbody>\n",
       "</table>\n",
       "</div>"
      ],
      "text/plain": [
       "       id        lat       long     prediction          error\n",
       "0  431231  40.617547 -79.729775   78573.362064   40426.637936\n",
       "1  432911  40.551018 -79.980841  228202.748260  -45702.748260\n",
       "2  235532  40.471628 -79.958138  469147.274583  152852.725417\n",
       "3  434181  40.607946 -79.924800  225149.648685   49850.351315\n",
       "4  436550  40.491269 -79.900028  239808.792878  200191.207122\n",
       "5  437000  40.585733 -79.947796  183098.019137   56801.980863\n",
       "6  239528  40.482701 -79.790070  266564.108333 -108564.108333\n",
       "7  440528  40.442026 -79.819429  182206.223803  -28458.223803\n",
       "8  484388  40.483444 -79.968761  164095.665761  -20595.665761\n",
       "9  441277  40.542078 -79.895429  330457.795987  126292.204013"
      ]
     },
     "execution_count": 39,
     "metadata": {},
     "output_type": "execute_result"
    }
   ],
   "source": [
    "error_df_soos.head(10)"
   ]
  },
  {
   "cell_type": "code",
   "execution_count": 40,
   "metadata": {},
   "outputs": [],
   "source": [
    "error_df_soos.to_csv(PATH+\"results/errors_soos_gis.csv\", index=False)"
   ]
  },
  {
   "cell_type": "markdown",
   "metadata": {},
   "source": [
    "## Exploring solution"
   ]
  },
  {
   "cell_type": "code",
   "execution_count": 41,
   "metadata": {
    "scrolled": true
   },
   "outputs": [
    {
     "name": "stdout",
     "output_type": "stream",
     "text": [
      "Intercept: -267481.0350934826\n"
     ]
    }
   ],
   "source": [
    "print(f\"Intercept: {model_03.intercept_}\")\n",
    "feature_coef_df = pd.DataFrame(data={\"feature\": X_columns[53:], \"coef\": model_03.coef_[53:]})\n",
    "feature_coef_df[\"coef\"] = feature_coef_df[\"coef\"].apply(lambda x: round(x, 2))"
   ]
  },
  {
   "cell_type": "markdown",
   "metadata": {},
   "source": [
    "Most and least valuable POI based on count in vicinity"
   ]
  },
  {
   "cell_type": "code",
   "execution_count": 42,
   "metadata": {},
   "outputs": [
    {
     "data": {
      "text/html": [
       "<style  type=\"text/css\" >\n",
       "</style><table id=\"T_7fcd5_\" style='display:inline'><caption>Most valuable POI</caption><thead>    <tr>        <th class=\"blank level0\" ></th>        <th class=\"col_heading level0 col0\" >feature</th>        <th class=\"col_heading level0 col1\" >coef</th>    </tr></thead><tbody>\n",
       "                <tr>\n",
       "                        <th id=\"T_7fcd5_level0_row0\" class=\"row_heading level0 row0\" >43</th>\n",
       "                        <td id=\"T_7fcd5_row0_col0\" class=\"data row0 col0\" >libraries_count</td>\n",
       "                        <td id=\"T_7fcd5_row0_col1\" class=\"data row0 col1\" >-5294.860000</td>\n",
       "            </tr>\n",
       "            <tr>\n",
       "                        <th id=\"T_7fcd5_level0_row1\" class=\"row_heading level0 row1\" >37</th>\n",
       "                        <td id=\"T_7fcd5_row1_col0\" class=\"data row1 col0\" >post_offices_count</td>\n",
       "                        <td id=\"T_7fcd5_row1_col1\" class=\"data row1 col1\" >-4803.510000</td>\n",
       "            </tr>\n",
       "            <tr>\n",
       "                        <th id=\"T_7fcd5_level0_row2\" class=\"row_heading level0 row2\" >7</th>\n",
       "                        <td id=\"T_7fcd5_row2_col0\" class=\"data row2 col0\" >wic_vendors_count</td>\n",
       "                        <td id=\"T_7fcd5_row2_col1\" class=\"data row2 col1\" >-3792.970000</td>\n",
       "            </tr>\n",
       "            <tr>\n",
       "                        <th id=\"T_7fcd5_level0_row3\" class=\"row_heading level0 row3\" >27</th>\n",
       "                        <td id=\"T_7fcd5_row3_col0\" class=\"data row3 col0\" >public_buildings_count</td>\n",
       "                        <td id=\"T_7fcd5_row3_col1\" class=\"data row3 col1\" >-1951.520000</td>\n",
       "            </tr>\n",
       "            <tr>\n",
       "                        <th id=\"T_7fcd5_level0_row4\" class=\"row_heading level0 row4\" >57</th>\n",
       "                        <td id=\"T_7fcd5_row4_col0\" class=\"data row4 col0\" >polling_places_count</td>\n",
       "                        <td id=\"T_7fcd5_row4_col1\" class=\"data row4 col1\" >-1797.890000</td>\n",
       "            </tr>\n",
       "            <tr>\n",
       "                        <th id=\"T_7fcd5_level0_row5\" class=\"row_heading level0 row5\" >47</th>\n",
       "                        <td id=\"T_7fcd5_row5_col0\" class=\"data row5 col0\" >supermarkets_count</td>\n",
       "                        <td id=\"T_7fcd5_row5_col1\" class=\"data row5 col1\" >-1668.480000</td>\n",
       "            </tr>\n",
       "            <tr>\n",
       "                        <th id=\"T_7fcd5_level0_row6\" class=\"row_heading level0 row6\" >55</th>\n",
       "                        <td id=\"T_7fcd5_row6_col0\" class=\"data row6 col0\" >child_care_centers_count</td>\n",
       "                        <td id=\"T_7fcd5_row6_col1\" class=\"data row6 col1\" >-1369.260000</td>\n",
       "            </tr>\n",
       "            <tr>\n",
       "                        <th id=\"T_7fcd5_level0_row7\" class=\"row_heading level0 row7\" >61</th>\n",
       "                        <td id=\"T_7fcd5_row7_col0\" class=\"data row7 col0\" >schools_count</td>\n",
       "                        <td id=\"T_7fcd5_row7_col1\" class=\"data row7 col1\" >-1200.110000</td>\n",
       "            </tr>\n",
       "            <tr>\n",
       "                        <th id=\"T_7fcd5_level0_row8\" class=\"row_heading level0 row8\" >67</th>\n",
       "                        <td id=\"T_7fcd5_row8_col0\" class=\"data row8 col0\" >restaurants_count</td>\n",
       "                        <td id=\"T_7fcd5_row8_col1\" class=\"data row8 col1\" >-532.680000</td>\n",
       "            </tr>\n",
       "            <tr>\n",
       "                        <th id=\"T_7fcd5_level0_row9\" class=\"row_heading level0 row9\" >15</th>\n",
       "                        <td id=\"T_7fcd5_row9_col0\" class=\"data row9 col0\" >park_and_rides_count</td>\n",
       "                        <td id=\"T_7fcd5_row9_col1\" class=\"data row9 col1\" >-517.790000</td>\n",
       "            </tr>\n",
       "    </tbody></table><style  type=\"text/css\" >\n",
       "</style><table id=\"T_b8f21_\" style='display:inline'><caption>Least valuable POI</caption><thead>    <tr>        <th class=\"blank level0\" ></th>        <th class=\"col_heading level0 col0\" >feature</th>        <th class=\"col_heading level0 col1\" >coef</th>    </tr></thead><tbody>\n",
       "                <tr>\n",
       "                        <th id=\"T_b8f21_level0_row0\" class=\"row_heading level0 row0\" >1</th>\n",
       "                        <td id=\"T_b8f21_row0_col0\" class=\"data row0 col0\" >universities_count</td>\n",
       "                        <td id=\"T_b8f21_row0_col1\" class=\"data row0 col1\" >5472.330000</td>\n",
       "            </tr>\n",
       "            <tr>\n",
       "                        <th id=\"T_b8f21_level0_row1\" class=\"row_heading level0 row1\" >29</th>\n",
       "                        <td id=\"T_b8f21_row1_col0\" class=\"data row1 col0\" >farmers_markets_count</td>\n",
       "                        <td id=\"T_b8f21_row1_col1\" class=\"data row1 col1\" >4384.130000</td>\n",
       "            </tr>\n",
       "            <tr>\n",
       "                        <th id=\"T_b8f21_level0_row2\" class=\"row_heading level0 row2\" >5</th>\n",
       "                        <td id=\"T_b8f21_row2_col0\" class=\"data row2 col0\" >health_centers_count</td>\n",
       "                        <td id=\"T_b8f21_row2_col1\" class=\"data row2 col1\" >4196.580000</td>\n",
       "            </tr>\n",
       "            <tr>\n",
       "                        <th id=\"T_b8f21_level0_row3\" class=\"row_heading level0 row3\" >3</th>\n",
       "                        <td id=\"T_b8f21_row3_col0\" class=\"data row3 col0\" >senior_centers_count</td>\n",
       "                        <td id=\"T_b8f21_row3_col1\" class=\"data row3 col1\" >3639.730000</td>\n",
       "            </tr>\n",
       "            <tr>\n",
       "                        <th id=\"T_b8f21_level0_row4\" class=\"row_heading level0 row4\" >39</th>\n",
       "                        <td id=\"T_b8f21_row4_col0\" class=\"data row4 col0\" >banks_count</td>\n",
       "                        <td id=\"T_b8f21_row4_col1\" class=\"data row4 col1\" >2318.150000</td>\n",
       "            </tr>\n",
       "            <tr>\n",
       "                        <th id=\"T_b8f21_level0_row5\" class=\"row_heading level0 row5\" >9</th>\n",
       "                        <td id=\"T_b8f21_row5_col0\" class=\"data row5 col0\" >barbers_count</td>\n",
       "                        <td id=\"T_b8f21_row5_col1\" class=\"data row5 col1\" >1697.320000</td>\n",
       "            </tr>\n",
       "            <tr>\n",
       "                        <th id=\"T_b8f21_level0_row6\" class=\"row_heading level0 row6\" >17</th>\n",
       "                        <td id=\"T_b8f21_row6_col0\" class=\"data row6 col0\" >bars_count</td>\n",
       "                        <td id=\"T_b8f21_row6_col1\" class=\"data row6 col1\" >1603.720000</td>\n",
       "            </tr>\n",
       "            <tr>\n",
       "                        <th id=\"T_b8f21_level0_row7\" class=\"row_heading level0 row7\" >49</th>\n",
       "                        <td id=\"T_b8f21_row7_col0\" class=\"data row7 col0\" >laundromats_count</td>\n",
       "                        <td id=\"T_b8f21_row7_col1\" class=\"data row7 col1\" >1226.410000</td>\n",
       "            </tr>\n",
       "            <tr>\n",
       "                        <th id=\"T_b8f21_level0_row8\" class=\"row_heading level0 row8\" >25</th>\n",
       "                        <td id=\"T_b8f21_row8_col0\" class=\"data row8 col0\" >nursing_homes_count</td>\n",
       "                        <td id=\"T_b8f21_row8_col1\" class=\"data row8 col1\" >948.010000</td>\n",
       "            </tr>\n",
       "            <tr>\n",
       "                        <th id=\"T_b8f21_level0_row9\" class=\"row_heading level0 row9\" >13</th>\n",
       "                        <td id=\"T_b8f21_row9_col0\" class=\"data row9 col0\" >coffee_shops_count</td>\n",
       "                        <td id=\"T_b8f21_row9_col1\" class=\"data row9 col1\" >821.690000</td>\n",
       "            </tr>\n",
       "    </tbody></table>"
      ]
     },
     "metadata": {},
     "output_type": "display_data"
    }
   ],
   "source": [
    "feature_coef_count = feature_coef_df[feature_coef_df[\"feature\"].str.contains(\"count\")]\n",
    "\n",
    "neg_sorted = feature_coef_df.sort_values(by=[\"coef\"], ascending=False).head(10)\n",
    "pos_sorted = feature_coef_df.sort_values(by=[\"coef\"]).head(10)\n",
    "\n",
    "df1_styler = pos_sorted.style.set_table_attributes(\"style='display:inline'\").set_caption('Most valuable POI')\n",
    "df2_styler = neg_sorted.style.set_table_attributes(\"style='display:inline'\").set_caption('Least valuable POI')\n",
    "\n",
    "display_html(df1_styler._repr_html_()+df2_styler._repr_html_(), raw=True)"
   ]
  },
  {
   "cell_type": "markdown",
   "metadata": {},
   "source": [
    "Most and least valuable POI based on distance to home"
   ]
  },
  {
   "cell_type": "code",
   "execution_count": 43,
   "metadata": {},
   "outputs": [
    {
     "data": {
      "text/html": [
       "<style  type=\"text/css\" >\n",
       "</style><table id=\"T_5119a_\" style='display:inline'><caption>Most valuable POI</caption><thead>    <tr>        <th class=\"blank level0\" ></th>        <th class=\"col_heading level0 col0\" >feature</th>        <th class=\"col_heading level0 col1\" >coef</th>    </tr></thead><tbody>\n",
       "                <tr>\n",
       "                        <th id=\"T_5119a_level0_row0\" class=\"row_heading level0 row0\" >38</th>\n",
       "                        <td id=\"T_5119a_row0_col0\" class=\"data row0 col0\" >banks_dist</td>\n",
       "                        <td id=\"T_5119a_row0_col1\" class=\"data row0 col1\" >-7.250000</td>\n",
       "            </tr>\n",
       "            <tr>\n",
       "                        <th id=\"T_5119a_level0_row1\" class=\"row_heading level0 row1\" >16</th>\n",
       "                        <td id=\"T_5119a_row1_col0\" class=\"data row1 col0\" >bars_dist</td>\n",
       "                        <td id=\"T_5119a_row1_col1\" class=\"data row1 col1\" >-4.460000</td>\n",
       "            </tr>\n",
       "            <tr>\n",
       "                        <th id=\"T_5119a_level0_row2\" class=\"row_heading level0 row2\" >44</th>\n",
       "                        <td id=\"T_5119a_row2_col0\" class=\"data row2 col0\" >doctors_offices_dist</td>\n",
       "                        <td id=\"T_5119a_row2_col1\" class=\"data row2 col1\" >-4.460000</td>\n",
       "            </tr>\n",
       "            <tr>\n",
       "                        <th id=\"T_5119a_level0_row3\" class=\"row_heading level0 row3\" >60</th>\n",
       "                        <td id=\"T_5119a_row3_col0\" class=\"data row3 col0\" >schools_dist</td>\n",
       "                        <td id=\"T_5119a_row3_col1\" class=\"data row3 col1\" >-3.410000</td>\n",
       "            </tr>\n",
       "            <tr>\n",
       "                        <th id=\"T_5119a_level0_row4\" class=\"row_heading level0 row4\" >36</th>\n",
       "                        <td id=\"T_5119a_row4_col0\" class=\"data row4 col0\" >post_offices_dist</td>\n",
       "                        <td id=\"T_5119a_row4_col1\" class=\"data row4 col1\" >-3.380000</td>\n",
       "            </tr>\n",
       "            <tr>\n",
       "                        <th id=\"T_5119a_level0_row5\" class=\"row_heading level0 row5\" >62</th>\n",
       "                        <td id=\"T_5119a_row5_col0\" class=\"data row5 col0\" >apartment_buildings_dist</td>\n",
       "                        <td id=\"T_5119a_row5_col1\" class=\"data row5 col1\" >-3.120000</td>\n",
       "            </tr>\n",
       "            <tr>\n",
       "                        <th id=\"T_5119a_level0_row6\" class=\"row_heading level0 row6\" >42</th>\n",
       "                        <td id=\"T_5119a_row6_col0\" class=\"data row6 col0\" >libraries_dist</td>\n",
       "                        <td id=\"T_5119a_row6_col1\" class=\"data row6 col1\" >-2.720000</td>\n",
       "            </tr>\n",
       "            <tr>\n",
       "                        <th id=\"T_5119a_level0_row7\" class=\"row_heading level0 row7\" >46</th>\n",
       "                        <td id=\"T_5119a_row7_col0\" class=\"data row7 col0\" >supermarkets_dist</td>\n",
       "                        <td id=\"T_5119a_row7_col1\" class=\"data row7 col1\" >-2.480000</td>\n",
       "            </tr>\n",
       "            <tr>\n",
       "                        <th id=\"T_5119a_level0_row8\" class=\"row_heading level0 row8\" >18</th>\n",
       "                        <td id=\"T_5119a_row8_col0\" class=\"data row8 col0\" >bike_share_stations_dist</td>\n",
       "                        <td id=\"T_5119a_row8_col1\" class=\"data row8 col1\" >-2.030000</td>\n",
       "            </tr>\n",
       "            <tr>\n",
       "                        <th id=\"T_5119a_level0_row9\" class=\"row_heading level0 row9\" >8</th>\n",
       "                        <td id=\"T_5119a_row9_col0\" class=\"data row9 col0\" >barbers_dist</td>\n",
       "                        <td id=\"T_5119a_row9_col1\" class=\"data row9 col1\" >-1.960000</td>\n",
       "            </tr>\n",
       "    </tbody></table><style  type=\"text/css\" >\n",
       "</style><table id=\"T_15b09_\" style='display:inline'><caption>Least valuable POI</caption><thead>    <tr>        <th class=\"blank level0\" ></th>        <th class=\"col_heading level0 col0\" >feature</th>        <th class=\"col_heading level0 col1\" >coef</th>    </tr></thead><tbody>\n",
       "                <tr>\n",
       "                        <th id=\"T_15b09_level0_row0\" class=\"row_heading level0 row0\" >20</th>\n",
       "                        <td id=\"T_15b09_row0_col0\" class=\"data row0 col0\" >affordable_housing_dist</td>\n",
       "                        <td id=\"T_15b09_row0_col1\" class=\"data row0 col1\" >6.260000</td>\n",
       "            </tr>\n",
       "            <tr>\n",
       "                        <th id=\"T_15b09_level0_row1\" class=\"row_heading level0 row1\" >28</th>\n",
       "                        <td id=\"T_15b09_row1_col0\" class=\"data row1 col0\" >farmers_markets_dist</td>\n",
       "                        <td id=\"T_15b09_row1_col1\" class=\"data row1 col1\" >6.090000</td>\n",
       "            </tr>\n",
       "            <tr>\n",
       "                        <th id=\"T_15b09_level0_row2\" class=\"row_heading level0 row2\" >56</th>\n",
       "                        <td id=\"T_15b09_row2_col0\" class=\"data row2 col0\" >polling_places_dist</td>\n",
       "                        <td id=\"T_15b09_row2_col1\" class=\"data row2 col1\" >5.510000</td>\n",
       "            </tr>\n",
       "            <tr>\n",
       "                        <th id=\"T_15b09_level0_row3\" class=\"row_heading level0 row3\" >2</th>\n",
       "                        <td id=\"T_15b09_row3_col0\" class=\"data row3 col0\" >senior_centers_dist</td>\n",
       "                        <td id=\"T_15b09_row3_col1\" class=\"data row3 col1\" >4.700000</td>\n",
       "            </tr>\n",
       "            <tr>\n",
       "                        <th id=\"T_15b09_level0_row4\" class=\"row_heading level0 row4\" >22</th>\n",
       "                        <td id=\"T_15b09_row4_col0\" class=\"data row4 col0\" >pharmacies_dist</td>\n",
       "                        <td id=\"T_15b09_row4_col1\" class=\"data row4 col1\" >4.700000</td>\n",
       "            </tr>\n",
       "            <tr>\n",
       "                        <th id=\"T_15b09_level0_row5\" class=\"row_heading level0 row5\" >6</th>\n",
       "                        <td id=\"T_15b09_row5_col0\" class=\"data row5 col0\" >wic_vendors_dist</td>\n",
       "                        <td id=\"T_15b09_row5_col1\" class=\"data row5 col1\" >3.990000</td>\n",
       "            </tr>\n",
       "            <tr>\n",
       "                        <th id=\"T_15b09_level0_row6\" class=\"row_heading level0 row6\" >66</th>\n",
       "                        <td id=\"T_15b09_row6_col0\" class=\"data row6 col0\" >restaurants_dist</td>\n",
       "                        <td id=\"T_15b09_row6_col1\" class=\"data row6 col1\" >2.960000</td>\n",
       "            </tr>\n",
       "            <tr>\n",
       "                        <th id=\"T_15b09_level0_row7\" class=\"row_heading level0 row7\" >58</th>\n",
       "                        <td id=\"T_15b09_row7_col0\" class=\"data row7 col0\" >hair_salons_dist</td>\n",
       "                        <td id=\"T_15b09_row7_col1\" class=\"data row7 col1\" >2.850000</td>\n",
       "            </tr>\n",
       "            <tr>\n",
       "                        <th id=\"T_15b09_level0_row8\" class=\"row_heading level0 row8\" >52</th>\n",
       "                        <td id=\"T_15b09_row8_col0\" class=\"data row8 col0\" >parks_and_facilities_dist</td>\n",
       "                        <td id=\"T_15b09_row8_col1\" class=\"data row8 col1\" >2.820000</td>\n",
       "            </tr>\n",
       "            <tr>\n",
       "                        <th id=\"T_15b09_level0_row9\" class=\"row_heading level0 row9\" >0</th>\n",
       "                        <td id=\"T_15b09_row9_col0\" class=\"data row9 col0\" >universities_dist</td>\n",
       "                        <td id=\"T_15b09_row9_col1\" class=\"data row9 col1\" >2.730000</td>\n",
       "            </tr>\n",
       "    </tbody></table>"
      ]
     },
     "metadata": {},
     "output_type": "display_data"
    }
   ],
   "source": [
    "feature_coef_dist = feature_coef_df[feature_coef_df[\"feature\"].str.contains(\"dist\")]\n",
    "\n",
    "neg_sorted = feature_coef_dist.sort_values(by=[\"coef\"], ascending=False).head(10)\n",
    "pos_sorted = feature_coef_dist.sort_values(by=[\"coef\"]).head(10)\n",
    "\n",
    "df1_styler = pos_sorted.style.set_table_attributes(\"style='display:inline'\").set_caption('Most valuable POI')\n",
    "df2_styler = neg_sorted.style.set_table_attributes(\"style='display:inline'\").set_caption('Least valuable POI')\n",
    "\n",
    "display_html(df1_styler._repr_html_()+df2_styler._repr_html_(), raw=True)"
   ]
  },
  {
   "cell_type": "markdown",
   "metadata": {},
   "source": [
    "Explore feature importance of best model"
   ]
  },
  {
   "cell_type": "code",
   "execution_count": 44,
   "metadata": {
    "scrolled": false
   },
   "outputs": [
    {
     "data": {
      "text/html": [
       "<div>\n",
       "<style scoped>\n",
       "    .dataframe tbody tr th:only-of-type {\n",
       "        vertical-align: middle;\n",
       "    }\n",
       "\n",
       "    .dataframe tbody tr th {\n",
       "        vertical-align: top;\n",
       "    }\n",
       "\n",
       "    .dataframe thead th {\n",
       "        text-align: right;\n",
       "    }\n",
       "</style>\n",
       "<table border=\"1\" class=\"dataframe\">\n",
       "  <thead>\n",
       "    <tr style=\"text-align: right;\">\n",
       "      <th></th>\n",
       "      <th>feature</th>\n",
       "      <th>importance</th>\n",
       "    </tr>\n",
       "  </thead>\n",
       "  <tbody>\n",
       "    <tr>\n",
       "      <th>25</th>\n",
       "      <td>nursing_homes_count</td>\n",
       "      <td>2.204712</td>\n",
       "    </tr>\n",
       "    <tr>\n",
       "      <th>2</th>\n",
       "      <td>senior_centers_dist</td>\n",
       "      <td>2.094696</td>\n",
       "    </tr>\n",
       "    <tr>\n",
       "      <th>39</th>\n",
       "      <td>banks_count</td>\n",
       "      <td>1.663273</td>\n",
       "    </tr>\n",
       "    <tr>\n",
       "      <th>4</th>\n",
       "      <td>health_centers_dist</td>\n",
       "      <td>1.420168</td>\n",
       "    </tr>\n",
       "    <tr>\n",
       "      <th>21</th>\n",
       "      <td>affordable_housing_count</td>\n",
       "      <td>1.242234</td>\n",
       "    </tr>\n",
       "    <tr>\n",
       "      <th>18</th>\n",
       "      <td>bike_share_stations_dist</td>\n",
       "      <td>1.110660</td>\n",
       "    </tr>\n",
       "    <tr>\n",
       "      <th>0</th>\n",
       "      <td>universities_dist</td>\n",
       "      <td>1.063690</td>\n",
       "    </tr>\n",
       "    <tr>\n",
       "      <th>17</th>\n",
       "      <td>bars_count</td>\n",
       "      <td>1.037626</td>\n",
       "    </tr>\n",
       "    <tr>\n",
       "      <th>69</th>\n",
       "      <td>community_nonprofit_orgs_count</td>\n",
       "      <td>1.031040</td>\n",
       "    </tr>\n",
       "    <tr>\n",
       "      <th>20</th>\n",
       "      <td>affordable_housing_dist</td>\n",
       "      <td>0.971309</td>\n",
       "    </tr>\n",
       "  </tbody>\n",
       "</table>\n",
       "</div>"
      ],
      "text/plain": [
       "                           feature  importance\n",
       "25             nursing_homes_count    2.204712\n",
       "2              senior_centers_dist    2.094696\n",
       "39                     banks_count    1.663273\n",
       "4              health_centers_dist    1.420168\n",
       "21        affordable_housing_count    1.242234\n",
       "18        bike_share_stations_dist    1.110660\n",
       "0                universities_dist    1.063690\n",
       "17                      bars_count    1.037626\n",
       "69  community_nonprofit_orgs_count    1.031040\n",
       "20         affordable_housing_dist    0.971309"
      ]
     },
     "execution_count": 44,
     "metadata": {},
     "output_type": "execute_result"
    }
   ],
   "source": [
    "feature_importance_df = pd.DataFrame(data={\"feature\": X_columns[53:],\n",
    "                                           \"importance\": model_04.get_feature_importance()[53:]})\n",
    "feature_importance_df.sort_values(by=[\"importance\"], ascending=False).head(10)"
   ]
  },
  {
   "cell_type": "code",
   "execution_count": null,
   "metadata": {},
   "outputs": [],
   "source": []
  }
 ],
 "metadata": {
  "kernelspec": {
   "display_name": "Python 3",
   "language": "python",
   "name": "python3"
  },
  "language_info": {
   "codemirror_mode": {
    "name": "ipython",
    "version": 3
   },
   "file_extension": ".py",
   "mimetype": "text/x-python",
   "name": "python",
   "nbconvert_exporter": "python",
   "pygments_lexer": "ipython3",
   "version": "3.7.9"
  },
  "varInspector": {
   "cols": {
    "lenName": 16,
    "lenType": 16,
    "lenVar": 40
   },
   "kernels_config": {
    "python": {
     "delete_cmd_postfix": "",
     "delete_cmd_prefix": "del ",
     "library": "var_list.py",
     "varRefreshCmd": "print(var_dic_list())"
    },
    "r": {
     "delete_cmd_postfix": ") ",
     "delete_cmd_prefix": "rm(",
     "library": "var_list.r",
     "varRefreshCmd": "cat(var_dic_list()) "
    }
   },
   "types_to_exclude": [
    "module",
    "function",
    "builtin_function_or_method",
    "instance",
    "_Feature"
   ],
   "window_display": false
  },
  "widgets": {
   "application/vnd.jupyter.widget-state+json": {
    "state": {
     "0001762a8c9a458ea6595466daad26ec": {
      "model_module": "@jupyter-widgets/controls",
      "model_module_version": "1.5.0",
      "model_name": "HBoxModel",
      "state": {
       "children": [
        "IPY_MODEL_e9affe4072de4b76b4c1218587b2fc83",
        "IPY_MODEL_2dd1560959414d6e9f7150204c6a6bd9",
        "IPY_MODEL_0e2d03cabe734d30ba4b9614d6393790"
       ],
       "layout": "IPY_MODEL_82b258c301fb403780104ef851b9f68c"
      }
     },
     "01576d974e2d4a9c9d72a74dc93ba9ec": {
      "model_module": "@jupyter-widgets/controls",
      "model_module_version": "1.5.0",
      "model_name": "FloatProgressModel",
      "state": {
       "bar_style": "success",
       "layout": "IPY_MODEL_57b23a23f84c4eca858b3388ff2bed2c",
       "max": 5,
       "style": "IPY_MODEL_0f3da9acb86341449b6ad48ef73ff1c7",
       "value": 5
      }
     },
     "03a00307f86a47cdbf5d81680aa17d2a": {
      "model_module": "@jupyter-widgets/base",
      "model_module_version": "1.2.0",
      "model_name": "LayoutModel",
      "state": {}
     },
     "03ebde9ceb9844ea9833f1879953215f": {
      "model_module": "@jupyter-widgets/base",
      "model_module_version": "1.2.0",
      "model_name": "LayoutModel",
      "state": {}
     },
     "0514817af6194d7887407c0a05c871ea": {
      "model_module": "@jupyter-widgets/controls",
      "model_module_version": "1.5.0",
      "model_name": "FloatProgressModel",
      "state": {
       "bar_style": "success",
       "layout": "IPY_MODEL_2e48440e90944b6b9031286187f805c3",
       "max": 5,
       "style": "IPY_MODEL_180748c40deb475684baa19b4112b59e",
       "value": 5
      }
     },
     "052c88e3e69c4673a3069bebb1e705f9": {
      "model_module": "@jupyter-widgets/controls",
      "model_module_version": "1.5.0",
      "model_name": "HTMLModel",
      "state": {
       "layout": "IPY_MODEL_4050231b86bf4146a61f0b92e79cd546",
       "style": "IPY_MODEL_069af119bbcd4920961a7fa541c4626d",
       "value": " 5/5 [00:00&lt;00:00, 83.26it/s]"
      }
     },
     "069af119bbcd4920961a7fa541c4626d": {
      "model_module": "@jupyter-widgets/controls",
      "model_module_version": "1.5.0",
      "model_name": "DescriptionStyleModel",
      "state": {
       "description_width": ""
      }
     },
     "076fa28430f84ccebee918144feb752a": {
      "model_module": "@jupyter-widgets/controls",
      "model_module_version": "1.5.0",
      "model_name": "HBoxModel",
      "state": {
       "children": [
        "IPY_MODEL_4a7810decf394c12b8fa6fe7bc1a2def",
        "IPY_MODEL_c05cd21642284827a014a7e924e4642b",
        "IPY_MODEL_45e8bbf0a13b4514bfebeb15cec9f0d0"
       ],
       "layout": "IPY_MODEL_15db3fcb11b543619f039e9d1df577f6"
      }
     },
     "096b56c1bbd544188f0158d3caa67bc9": {
      "model_module": "@jupyter-widgets/controls",
      "model_module_version": "1.5.0",
      "model_name": "FloatProgressModel",
      "state": {
       "bar_style": "success",
       "layout": "IPY_MODEL_a65cc4e842a4466b949659ca96c7c81a",
       "max": 5,
       "style": "IPY_MODEL_7d332043fd6347249e670e006e350a53",
       "value": 5
      }
     },
     "09b343795c4644bf81b1d7d646b839f3": {
      "model_module": "@jupyter-widgets/base",
      "model_module_version": "1.2.0",
      "model_name": "LayoutModel",
      "state": {}
     },
     "09bc84f8a5cd4df19a13fc461b8b8853": {
      "model_module": "@jupyter-widgets/controls",
      "model_module_version": "1.5.0",
      "model_name": "DescriptionStyleModel",
      "state": {
       "description_width": ""
      }
     },
     "09f0c245a40a425e8829bd179d770ae6": {
      "model_module": "@jupyter-widgets/controls",
      "model_module_version": "1.5.0",
      "model_name": "DescriptionStyleModel",
      "state": {
       "description_width": ""
      }
     },
     "0a9291fa31354fbbbc761a7c81a0243f": {
      "model_module": "@jupyter-widgets/controls",
      "model_module_version": "1.5.0",
      "model_name": "DescriptionStyleModel",
      "state": {
       "description_width": ""
      }
     },
     "0b4d110b85424e7e9297edab10cf82d8": {
      "model_module": "@jupyter-widgets/base",
      "model_module_version": "1.2.0",
      "model_name": "LayoutModel",
      "state": {}
     },
     "0b9ec2ca4a7c4d8cbdb30de873730f66": {
      "model_module": "@jupyter-widgets/base",
      "model_module_version": "1.2.0",
      "model_name": "LayoutModel",
      "state": {}
     },
     "0d5c59cd2d7a452cafb58e3954231346": {
      "model_module": "@jupyter-widgets/controls",
      "model_module_version": "1.5.0",
      "model_name": "HTMLModel",
      "state": {
       "layout": "IPY_MODEL_e0d55517173e4e84a6e410554ef4075d",
       "style": "IPY_MODEL_09f0c245a40a425e8829bd179d770ae6",
       "value": " 5/5 [00:01&lt;00:00,  3.25it/s]"
      }
     },
     "0dc9a9b6ee40490d84c2a51a2a109dd4": {
      "model_module": "@jupyter-widgets/controls",
      "model_module_version": "1.5.0",
      "model_name": "HTMLModel",
      "state": {
       "layout": "IPY_MODEL_1cdc252eb2004e2486de061d45098871",
       "style": "IPY_MODEL_0a9291fa31354fbbbc761a7c81a0243f",
       "value": "100%"
      }
     },
     "0df7c90f42ef46f3bb59bd27f8493c21": {
      "model_module": "@jupyter-widgets/controls",
      "model_module_version": "1.5.0",
      "model_name": "ProgressStyleModel",
      "state": {
       "description_width": ""
      }
     },
     "0e25f640875b460d8715c9a01aba14b3": {
      "model_module": "@jupyter-widgets/base",
      "model_module_version": "1.2.0",
      "model_name": "LayoutModel",
      "state": {}
     },
     "0e2d03cabe734d30ba4b9614d6393790": {
      "model_module": "@jupyter-widgets/controls",
      "model_module_version": "1.5.0",
      "model_name": "HTMLModel",
      "state": {
       "layout": "IPY_MODEL_f48649de9b974bf4ad3fe188e19b7f1d",
       "style": "IPY_MODEL_09bc84f8a5cd4df19a13fc461b8b8853",
       "value": " 5/5 [00:01&lt;00:00,  3.43it/s]"
      }
     },
     "0f3da9acb86341449b6ad48ef73ff1c7": {
      "model_module": "@jupyter-widgets/controls",
      "model_module_version": "1.5.0",
      "model_name": "ProgressStyleModel",
      "state": {
       "description_width": ""
      }
     },
     "0f7a0ba8720b42c7a7de8610bd4c61ec": {
      "model_module": "@jupyter-widgets/controls",
      "model_module_version": "1.5.0",
      "model_name": "HTMLModel",
      "state": {
       "layout": "IPY_MODEL_d4237f70ffea4fbb851e7e3dbeeb5f53",
       "style": "IPY_MODEL_2d8e4a64c0be43ebaa1a555fbe0af083",
       "value": " 5/5 [00:17&lt;00:00,  3.50s/it]"
      }
     },
     "109c472734ba43de9e415c97cec40bc5": {
      "model_module": "@jupyter-widgets/controls",
      "model_module_version": "1.5.0",
      "model_name": "FloatProgressModel",
      "state": {
       "bar_style": "success",
       "layout": "IPY_MODEL_6375628a9f2f46ddb3da73a272908f3b",
       "max": 5,
       "style": "IPY_MODEL_5aaf22a00fee4833818d32ea5e6e6cb5",
       "value": 5
      }
     },
     "10a07898d3054a9d8983cfaf3efb58ab": {
      "model_module": "@jupyter-widgets/base",
      "model_module_version": "1.2.0",
      "model_name": "LayoutModel",
      "state": {}
     },
     "1212f397eb064d9e945b0447fcd5c942": {
      "model_module": "@jupyter-widgets/controls",
      "model_module_version": "1.5.0",
      "model_name": "DescriptionStyleModel",
      "state": {
       "description_width": ""
      }
     },
     "12afd80f006a43e3823e82f7521e7469": {
      "model_module": "@jupyter-widgets/controls",
      "model_module_version": "1.5.0",
      "model_name": "HBoxModel",
      "state": {
       "children": [
        "IPY_MODEL_f68b8ebacb9346ecb4c82312bedf743c",
        "IPY_MODEL_cf2785a501ab44969bf6ecfee2431d10",
        "IPY_MODEL_635c3402957c4d73b28a525ad93b80dc"
       ],
       "layout": "IPY_MODEL_b0c57900affc4b2c8db2fbf7c45145a3"
      }
     },
     "132b4a612ded487daf60b8edd135f84e": {
      "model_module": "@jupyter-widgets/controls",
      "model_module_version": "1.5.0",
      "model_name": "ProgressStyleModel",
      "state": {
       "description_width": ""
      }
     },
     "13b3c7680e4e413cbefe6e1ac1f6a510": {
      "model_module": "@jupyter-widgets/base",
      "model_module_version": "1.2.0",
      "model_name": "LayoutModel",
      "state": {}
     },
     "14092f8b678b449cab0a6fee1ec102c0": {
      "model_module": "@jupyter-widgets/base",
      "model_module_version": "1.2.0",
      "model_name": "LayoutModel",
      "state": {}
     },
     "140e16f678cf45c098cadcdb0f389c80": {
      "model_module": "@jupyter-widgets/controls",
      "model_module_version": "1.5.0",
      "model_name": "FloatProgressModel",
      "state": {
       "bar_style": "success",
       "layout": "IPY_MODEL_48fbe079a9ad44268ef600a5f5f2e223",
       "max": 5,
       "style": "IPY_MODEL_700a161ffbba4a6399b0c7a1f3ecb0a1",
       "value": 5
      }
     },
     "147f825a530b478099d9ca854f393656": {
      "model_module": "@jupyter-widgets/base",
      "model_module_version": "1.2.0",
      "model_name": "LayoutModel",
      "state": {}
     },
     "15db3fcb11b543619f039e9d1df577f6": {
      "model_module": "@jupyter-widgets/base",
      "model_module_version": "1.2.0",
      "model_name": "LayoutModel",
      "state": {}
     },
     "15f3f663b9904d0b9ce46aaf89d56111": {
      "model_module": "@jupyter-widgets/controls",
      "model_module_version": "1.5.0",
      "model_name": "ProgressStyleModel",
      "state": {
       "description_width": ""
      }
     },
     "170155d2c7924bf6a2c14c01c0ff20d4": {
      "model_module": "@jupyter-widgets/controls",
      "model_module_version": "1.5.0",
      "model_name": "FloatProgressModel",
      "state": {
       "bar_style": "success",
       "layout": "IPY_MODEL_42442745f0684454aaf280b390349a35",
       "max": 5,
       "style": "IPY_MODEL_132b4a612ded487daf60b8edd135f84e",
       "value": 5
      }
     },
     "17bdd5f7695b4a819152b36b7969415c": {
      "model_module": "@jupyter-widgets/controls",
      "model_module_version": "1.5.0",
      "model_name": "ProgressStyleModel",
      "state": {
       "description_width": ""
      }
     },
     "180748c40deb475684baa19b4112b59e": {
      "model_module": "@jupyter-widgets/controls",
      "model_module_version": "1.5.0",
      "model_name": "ProgressStyleModel",
      "state": {
       "description_width": ""
      }
     },
     "19d850b4d9674a37b49355a50ea711f8": {
      "model_module": "@jupyter-widgets/controls",
      "model_module_version": "1.5.0",
      "model_name": "HTMLModel",
      "state": {
       "layout": "IPY_MODEL_0e25f640875b460d8715c9a01aba14b3",
       "style": "IPY_MODEL_1212f397eb064d9e945b0447fcd5c942",
       "value": "100%"
      }
     },
     "1a722689e1494a6fb0262a9b1bb254ba": {
      "model_module": "@jupyter-widgets/controls",
      "model_module_version": "1.5.0",
      "model_name": "HTMLModel",
      "state": {
       "layout": "IPY_MODEL_09b343795c4644bf81b1d7d646b839f3",
       "style": "IPY_MODEL_9f2fc30a3d6e48b9b915f6023d5b8836",
       "value": " 5/5 [00:18&lt;00:00,  3.64s/it]"
      }
     },
     "1a7dd3a263dc48eda8b614a41747c7e5": {
      "model_module": "@jupyter-widgets/base",
      "model_module_version": "1.2.0",
      "model_name": "LayoutModel",
      "state": {}
     },
     "1cdc252eb2004e2486de061d45098871": {
      "model_module": "@jupyter-widgets/base",
      "model_module_version": "1.2.0",
      "model_name": "LayoutModel",
      "state": {}
     },
     "1d4288f55b2a45ec8c5484b9e2c7ba1f": {
      "model_module": "@jupyter-widgets/controls",
      "model_module_version": "1.5.0",
      "model_name": "FloatProgressModel",
      "state": {
       "bar_style": "success",
       "layout": "IPY_MODEL_395d5f4912dc4d3182b1edccf72ece88",
       "max": 5,
       "style": "IPY_MODEL_15f3f663b9904d0b9ce46aaf89d56111",
       "value": 5
      }
     },
     "1de0d925deb3435fa8ae1e87b0291aef": {
      "model_module": "@jupyter-widgets/controls",
      "model_module_version": "1.5.0",
      "model_name": "ProgressStyleModel",
      "state": {
       "description_width": ""
      }
     },
     "1f1a41ba6cc04ab083faef6a01d46871": {
      "model_module": "@jupyter-widgets/controls",
      "model_module_version": "1.5.0",
      "model_name": "DescriptionStyleModel",
      "state": {
       "description_width": ""
      }
     },
     "1fa89c27ec3f4eab878a8af83c7b0205": {
      "model_module": "@jupyter-widgets/base",
      "model_module_version": "1.2.0",
      "model_name": "LayoutModel",
      "state": {}
     },
     "207aae88ac4a4d7d8e65bc593a608515": {
      "model_module": "@jupyter-widgets/controls",
      "model_module_version": "1.5.0",
      "model_name": "ProgressStyleModel",
      "state": {
       "description_width": ""
      }
     },
     "209aefce89194f10980aaae832a60505": {
      "model_module": "@jupyter-widgets/controls",
      "model_module_version": "1.5.0",
      "model_name": "HBoxModel",
      "state": {
       "children": [
        "IPY_MODEL_7c516335184f43cb8f8968752e02971e",
        "IPY_MODEL_ce367c5cb9224ff6be48ffddf3d0149a",
        "IPY_MODEL_ef80ba766ab64e038afe58ddb1f96dc0"
       ],
       "layout": "IPY_MODEL_52077472259c42af9050e12bdc9dae6b"
      }
     },
     "209d433b7fb74a82bc09c722e09884fd": {
      "model_module": "@jupyter-widgets/base",
      "model_module_version": "1.2.0",
      "model_name": "LayoutModel",
      "state": {}
     },
     "2188e43f1b964405b00051176b1334f2": {
      "model_module": "@jupyter-widgets/controls",
      "model_module_version": "1.5.0",
      "model_name": "HTMLModel",
      "state": {
       "layout": "IPY_MODEL_955dabecf9b7471283ffc86686915b0a",
       "style": "IPY_MODEL_e2573813556742f39f48240d7faabf9b",
       "value": " 5/5 [00:16&lt;00:00,  3.32s/it]"
      }
     },
     "224f3c3d51b8429cbd69d794730f68f0": {
      "model_module": "@jupyter-widgets/controls",
      "model_module_version": "1.5.0",
      "model_name": "DescriptionStyleModel",
      "state": {
       "description_width": ""
      }
     },
     "227baa7a77aa4b60901862f9bd8432da": {
      "model_module": "@jupyter-widgets/base",
      "model_module_version": "1.2.0",
      "model_name": "LayoutModel",
      "state": {}
     },
     "236119526a474dcba66860121bf551d5": {
      "model_module": "@jupyter-widgets/controls",
      "model_module_version": "1.5.0",
      "model_name": "HTMLModel",
      "state": {
       "layout": "IPY_MODEL_e134c661bdb64d4e8aa8bffd362a319a",
       "style": "IPY_MODEL_e3e0c1a080684d2fa63532f4f3be52ea",
       "value": " 5/5 [00:01&lt;00:00,  3.47it/s]"
      }
     },
     "2447b87a55cd44ceb0f823bd73890c4d": {
      "model_module": "@jupyter-widgets/controls",
      "model_module_version": "1.5.0",
      "model_name": "DescriptionStyleModel",
      "state": {
       "description_width": ""
      }
     },
     "24dfdf4d97f047639d3efadc45f277a0": {
      "model_module": "@jupyter-widgets/controls",
      "model_module_version": "1.5.0",
      "model_name": "HTMLModel",
      "state": {
       "layout": "IPY_MODEL_8aa1c2ba353946938a28cd6998255002",
       "style": "IPY_MODEL_d801f0c0c7bc487e998d5633b9102f24",
       "value": " 5/5 [00:00&lt;00:00, 86.13it/s]"
      }
     },
     "28811e4d16384f1fb71033d7188bdd5e": {
      "model_module": "@jupyter-widgets/base",
      "model_module_version": "1.2.0",
      "model_name": "LayoutModel",
      "state": {}
     },
     "2b93bbd043b048a19e50245716224276": {
      "model_module": "@jupyter-widgets/base",
      "model_module_version": "1.2.0",
      "model_name": "LayoutModel",
      "state": {}
     },
     "2c85b99173f04f14aac1651b7b76c94e": {
      "model_module": "@jupyter-widgets/controls",
      "model_module_version": "1.5.0",
      "model_name": "FloatProgressModel",
      "state": {
       "bar_style": "success",
       "layout": "IPY_MODEL_3a38a89d22264be3b37235af65003e98",
       "max": 5,
       "style": "IPY_MODEL_b76e09f4dccf4a3e9dbff844aea4ff31",
       "value": 5
      }
     },
     "2cc42ecf09e0472f8dec8faefbee3149": {
      "model_module": "@jupyter-widgets/controls",
      "model_module_version": "1.5.0",
      "model_name": "HTMLModel",
      "state": {
       "layout": "IPY_MODEL_86cee7f1f6b848ed99444c209adf267f",
       "style": "IPY_MODEL_aba07a7bacb94f9e957e63553dce83d8",
       "value": "100%"
      }
     },
     "2cf23cba1256411bbb6d87339ae0c417": {
      "model_module": "@jupyter-widgets/controls",
      "model_module_version": "1.5.0",
      "model_name": "DescriptionStyleModel",
      "state": {
       "description_width": ""
      }
     },
     "2d8e4a64c0be43ebaa1a555fbe0af083": {
      "model_module": "@jupyter-widgets/controls",
      "model_module_version": "1.5.0",
      "model_name": "DescriptionStyleModel",
      "state": {
       "description_width": ""
      }
     },
     "2dd1560959414d6e9f7150204c6a6bd9": {
      "model_module": "@jupyter-widgets/controls",
      "model_module_version": "1.5.0",
      "model_name": "FloatProgressModel",
      "state": {
       "bar_style": "success",
       "layout": "IPY_MODEL_7416eae4c9834200a256aa13462d50bf",
       "max": 5,
       "style": "IPY_MODEL_207aae88ac4a4d7d8e65bc593a608515",
       "value": 5
      }
     },
     "2e48440e90944b6b9031286187f805c3": {
      "model_module": "@jupyter-widgets/base",
      "model_module_version": "1.2.0",
      "model_name": "LayoutModel",
      "state": {}
     },
     "33ff767d0aa34591b734a7add3b01c83": {
      "model_module": "@jupyter-widgets/controls",
      "model_module_version": "1.5.0",
      "model_name": "DescriptionStyleModel",
      "state": {
       "description_width": ""
      }
     },
     "3545b0fbb40848c78709407169e95b60": {
      "model_module": "@jupyter-widgets/controls",
      "model_module_version": "1.5.0",
      "model_name": "HTMLModel",
      "state": {
       "layout": "IPY_MODEL_9815842aa5dd46b9b0a9548844dc5d8f",
       "style": "IPY_MODEL_826a293e9390474c8f8f196b6fd8e1c4",
       "value": "100%"
      }
     },
     "355243589c62433b8a197504b01b0bfa": {
      "model_module": "@jupyter-widgets/controls",
      "model_module_version": "1.5.0",
      "model_name": "HTMLModel",
      "state": {
       "layout": "IPY_MODEL_dc6fcd63c1a04761aceb4de7f2f1a7ef",
       "style": "IPY_MODEL_1f1a41ba6cc04ab083faef6a01d46871",
       "value": "100%"
      }
     },
     "36a6861454c74e47bca05aad44e55816": {
      "model_module": "@jupyter-widgets/controls",
      "model_module_version": "1.5.0",
      "model_name": "FloatProgressModel",
      "state": {
       "bar_style": "success",
       "layout": "IPY_MODEL_8f085a0e4b8e4f27bf320236d8053774",
       "max": 5,
       "style": "IPY_MODEL_3e67409079bf428ebbb18d522c01422e",
       "value": 5
      }
     },
     "36ead8bec7534849831aa3c58a20c14f": {
      "model_module": "@jupyter-widgets/base",
      "model_module_version": "1.2.0",
      "model_name": "LayoutModel",
      "state": {}
     },
     "395d5f4912dc4d3182b1edccf72ece88": {
      "model_module": "@jupyter-widgets/base",
      "model_module_version": "1.2.0",
      "model_name": "LayoutModel",
      "state": {}
     },
     "3982a1d8df594606b30bf1e9d5e6f879": {
      "model_module": "@jupyter-widgets/controls",
      "model_module_version": "1.5.0",
      "model_name": "HBoxModel",
      "state": {
       "children": [
        "IPY_MODEL_9a4b4c1ec2644d1cb052b8aec9dca063",
        "IPY_MODEL_8a28101fc9e34172a2fe69c31b35b05d",
        "IPY_MODEL_afef0fbc67e146b7a02d5a5ad602271a"
       ],
       "layout": "IPY_MODEL_a46314ed2f7f4d5ba50c17cae9e053b4"
      }
     },
     "3a1ea52cc30d43c89fc914a49f98b7b1": {
      "model_module": "@jupyter-widgets/base",
      "model_module_version": "1.2.0",
      "model_name": "LayoutModel",
      "state": {}
     },
     "3a38a89d22264be3b37235af65003e98": {
      "model_module": "@jupyter-widgets/base",
      "model_module_version": "1.2.0",
      "model_name": "LayoutModel",
      "state": {}
     },
     "3b5be55cf5ca408f9a461f45deb561ad": {
      "model_module": "@jupyter-widgets/controls",
      "model_module_version": "1.5.0",
      "model_name": "HTMLModel",
      "state": {
       "layout": "IPY_MODEL_147f825a530b478099d9ca854f393656",
       "style": "IPY_MODEL_dae048dbb87e4b89ba3a7545e3408fc2",
       "value": "100%"
      }
     },
     "3b5f3acd82bf47e2998e893701275a63": {
      "model_module": "@jupyter-widgets/controls",
      "model_module_version": "1.5.0",
      "model_name": "HBoxModel",
      "state": {
       "children": [
        "IPY_MODEL_c7ffc5e4090b4c6eac53933e4b4dfee5",
        "IPY_MODEL_109c472734ba43de9e415c97cec40bc5",
        "IPY_MODEL_c35a4d1c5298436985519d9b07a00358"
       ],
       "layout": "IPY_MODEL_46b3061538564199a27a179c98b7e06c"
      }
     },
     "3c07a475dd4f4aac9bb71342fe7b9234": {
      "model_module": "@jupyter-widgets/controls",
      "model_module_version": "1.5.0",
      "model_name": "DescriptionStyleModel",
      "state": {
       "description_width": ""
      }
     },
     "3c6e64f35b7244ef88b739f2ff4fdf81": {
      "model_module": "@jupyter-widgets/controls",
      "model_module_version": "1.5.0",
      "model_name": "DescriptionStyleModel",
      "state": {
       "description_width": ""
      }
     },
     "3c721ef787824f3f99b6c12a5ddaedac": {
      "model_module": "@jupyter-widgets/controls",
      "model_module_version": "1.5.0",
      "model_name": "HBoxModel",
      "state": {
       "children": [
        "IPY_MODEL_ef14608018e54544ac9caf90121f7b95",
        "IPY_MODEL_566353f2dd224eaaa0abff62a9532746",
        "IPY_MODEL_1a722689e1494a6fb0262a9b1bb254ba"
       ],
       "layout": "IPY_MODEL_e445a22a46644f919fb032ce271174ca"
      }
     },
     "3cea86c3d30a4f55855b7ce78db13bf1": {
      "model_module": "@jupyter-widgets/base",
      "model_module_version": "1.2.0",
      "model_name": "LayoutModel",
      "state": {}
     },
     "3d9002dd1aef43188d98013d0c22dfe3": {
      "model_module": "@jupyter-widgets/controls",
      "model_module_version": "1.5.0",
      "model_name": "DescriptionStyleModel",
      "state": {
       "description_width": ""
      }
     },
     "3e67409079bf428ebbb18d522c01422e": {
      "model_module": "@jupyter-widgets/controls",
      "model_module_version": "1.5.0",
      "model_name": "ProgressStyleModel",
      "state": {
       "description_width": ""
      }
     },
     "3ec2d5e9b0e34ef7a4771bf0230739d4": {
      "model_module": "@jupyter-widgets/controls",
      "model_module_version": "1.5.0",
      "model_name": "FloatProgressModel",
      "state": {
       "bar_style": "success",
       "layout": "IPY_MODEL_503fc2577a854f7da40312809a2ab505",
       "max": 5,
       "style": "IPY_MODEL_a76d295c644c47f1b93714f4b9b8b808",
       "value": 5
      }
     },
     "3f35118165f04c4f879f77875881f638": {
      "model_module": "@jupyter-widgets/base",
      "model_module_version": "1.2.0",
      "model_name": "LayoutModel",
      "state": {}
     },
     "3fbbd597481349d3835f7cf22adcbb3a": {
      "model_module": "@jupyter-widgets/base",
      "model_module_version": "1.2.0",
      "model_name": "LayoutModel",
      "state": {}
     },
     "4050231b86bf4146a61f0b92e79cd546": {
      "model_module": "@jupyter-widgets/base",
      "model_module_version": "1.2.0",
      "model_name": "LayoutModel",
      "state": {}
     },
     "41a18de3a75340d6bda61310cdc7d652": {
      "model_module": "@jupyter-widgets/base",
      "model_module_version": "1.2.0",
      "model_name": "LayoutModel",
      "state": {}
     },
     "41b339de61e74a3492b0aea289f6aecc": {
      "model_module": "@jupyter-widgets/controls",
      "model_module_version": "1.5.0",
      "model_name": "HBoxModel",
      "state": {
       "children": [
        "IPY_MODEL_6ce28801a29e4561a6020a41072a2a56",
        "IPY_MODEL_dd2f3894f0194f33b68c476a3fa7b837",
        "IPY_MODEL_e9b74ffb45c147fb98676e8b26b8eacb"
       ],
       "layout": "IPY_MODEL_1a7dd3a263dc48eda8b614a41747c7e5"
      }
     },
     "41f6f790cf434373a149850cdc2bce6c": {
      "model_module": "@jupyter-widgets/controls",
      "model_module_version": "1.5.0",
      "model_name": "HBoxModel",
      "state": {
       "children": [
        "IPY_MODEL_fbad128edb064112a8ecd71e4509f7d2",
        "IPY_MODEL_8cd0a2295cd841a08115a99b3d989b12",
        "IPY_MODEL_9d9de2bc1589489b8625af7f64307d2c"
       ],
       "layout": "IPY_MODEL_03a00307f86a47cdbf5d81680aa17d2a"
      }
     },
     "42442745f0684454aaf280b390349a35": {
      "model_module": "@jupyter-widgets/base",
      "model_module_version": "1.2.0",
      "model_name": "LayoutModel",
      "state": {}
     },
     "428b2daae77b4dbbb8d4bc6c3bc5e1c5": {
      "model_module": "@jupyter-widgets/base",
      "model_module_version": "1.2.0",
      "model_name": "LayoutModel",
      "state": {}
     },
     "431c86838ddd42a8949b569630f83e0c": {
      "model_module": "@jupyter-widgets/controls",
      "model_module_version": "1.5.0",
      "model_name": "HBoxModel",
      "state": {
       "children": [
        "IPY_MODEL_dd4fb15f9abd4b018d54eaaebada8e3b",
        "IPY_MODEL_ee2a4d59b14f4a569d1e0325731d2cc1",
        "IPY_MODEL_6e7346e59244496d803e0154a45c06b3"
       ],
       "layout": "IPY_MODEL_b23b276468ca43ada9cfca2b162d9692"
      }
     },
     "44cd3bdfc5534c279fb3e4e3478ebd24": {
      "model_module": "@jupyter-widgets/controls",
      "model_module_version": "1.5.0",
      "model_name": "HBoxModel",
      "state": {
       "children": [
        "IPY_MODEL_8f91c1313e1d4b0fb862f385a2e9eb4d",
        "IPY_MODEL_36a6861454c74e47bca05aad44e55816",
        "IPY_MODEL_9e45c5637afc4792a2ca0b49cabf1490"
       ],
       "layout": "IPY_MODEL_4df103aef5e3431392126dda44a1c213"
      }
     },
     "44d09b9714c2411cb091f274914a1408": {
      "model_module": "@jupyter-widgets/base",
      "model_module_version": "1.2.0",
      "model_name": "LayoutModel",
      "state": {}
     },
     "452d705ce3ef4ac29768e42b649ff71a": {
      "model_module": "@jupyter-widgets/controls",
      "model_module_version": "1.5.0",
      "model_name": "HTMLModel",
      "state": {
       "layout": "IPY_MODEL_55e4d88a71d6441fbe9980d0871a3afe",
       "style": "IPY_MODEL_e4b9d59ce9b746acabe4e45f0f916e3c",
       "value": "100%"
      }
     },
     "45c1976eb3304bd2a43a8e68aea62dff": {
      "model_module": "@jupyter-widgets/base",
      "model_module_version": "1.2.0",
      "model_name": "LayoutModel",
      "state": {}
     },
     "45e8bbf0a13b4514bfebeb15cec9f0d0": {
      "model_module": "@jupyter-widgets/controls",
      "model_module_version": "1.5.0",
      "model_name": "HTMLModel",
      "state": {
       "layout": "IPY_MODEL_962b77f5012d4c198f73c523e6cf64c0",
       "style": "IPY_MODEL_598094f9012e45618c712f6fcf7d62f5",
       "value": " 5/5 [00:00&lt;00:00, 94.25it/s]"
      }
     },
     "46098f4eb1d9473eae83d398803041a7": {
      "model_module": "@jupyter-widgets/controls",
      "model_module_version": "1.5.0",
      "model_name": "HBoxModel",
      "state": {
       "children": [
        "IPY_MODEL_c4ede914911445cdb5ca877ca7b75176",
        "IPY_MODEL_3ec2d5e9b0e34ef7a4771bf0230739d4",
        "IPY_MODEL_dc2eb8616a0142c984fd284c1a32c382"
       ],
       "layout": "IPY_MODEL_f2c47a8b27d94340b9ab537a952187bc"
      }
     },
     "46b3061538564199a27a179c98b7e06c": {
      "model_module": "@jupyter-widgets/base",
      "model_module_version": "1.2.0",
      "model_name": "LayoutModel",
      "state": {}
     },
     "48fbe079a9ad44268ef600a5f5f2e223": {
      "model_module": "@jupyter-widgets/base",
      "model_module_version": "1.2.0",
      "model_name": "LayoutModel",
      "state": {}
     },
     "491effdd51394232a68c0c0c10443739": {
      "model_module": "@jupyter-widgets/controls",
      "model_module_version": "1.5.0",
      "model_name": "HBoxModel",
      "state": {
       "children": [
        "IPY_MODEL_2cc42ecf09e0472f8dec8faefbee3149",
        "IPY_MODEL_f71078316d9240948ef903a961c207bd",
        "IPY_MODEL_e0ed0aadec154af189015d441e5b6352"
       ],
       "layout": "IPY_MODEL_c3d09b1c63564bbf938370b95df29ca7"
      }
     },
     "4a7810decf394c12b8fa6fe7bc1a2def": {
      "model_module": "@jupyter-widgets/controls",
      "model_module_version": "1.5.0",
      "model_name": "HTMLModel",
      "state": {
       "layout": "IPY_MODEL_65a0b7837d71441daa6018290b34adb0",
       "style": "IPY_MODEL_b231043b68bf42f1bdbc84866c87a705",
       "value": "100%"
      }
     },
     "4be1f2c9e83b4347b7a6a2a1290d5b21": {
      "model_module": "@jupyter-widgets/controls",
      "model_module_version": "1.5.0",
      "model_name": "HTMLModel",
      "state": {
       "layout": "IPY_MODEL_d3ea578a5cf74ce1b9753d644366fb73",
       "style": "IPY_MODEL_3c07a475dd4f4aac9bb71342fe7b9234",
       "value": " 5/5 [00:16&lt;00:00,  3.42s/it]"
      }
     },
     "4bfa6e175d5142678afb4526c975b227": {
      "model_module": "@jupyter-widgets/controls",
      "model_module_version": "1.5.0",
      "model_name": "FloatProgressModel",
      "state": {
       "bar_style": "success",
       "layout": "IPY_MODEL_5fe879dc1cb249b8af118769bd69b2d1",
       "max": 5,
       "style": "IPY_MODEL_1de0d925deb3435fa8ae1e87b0291aef",
       "value": 5
      }
     },
     "4c0d147ee7b6490480b08f9100b09352": {
      "model_module": "@jupyter-widgets/base",
      "model_module_version": "1.2.0",
      "model_name": "LayoutModel",
      "state": {}
     },
     "4dcbb2985a5c4626b47414ba83e6c7d3": {
      "model_module": "@jupyter-widgets/controls",
      "model_module_version": "1.5.0",
      "model_name": "DescriptionStyleModel",
      "state": {
       "description_width": ""
      }
     },
     "4df103aef5e3431392126dda44a1c213": {
      "model_module": "@jupyter-widgets/base",
      "model_module_version": "1.2.0",
      "model_name": "LayoutModel",
      "state": {}
     },
     "503fc2577a854f7da40312809a2ab505": {
      "model_module": "@jupyter-widgets/base",
      "model_module_version": "1.2.0",
      "model_name": "LayoutModel",
      "state": {}
     },
     "506a193c17fa408f801f70dda8ccc55d": {
      "model_module": "@jupyter-widgets/controls",
      "model_module_version": "1.5.0",
      "model_name": "HBoxModel",
      "state": {
       "children": [
        "IPY_MODEL_ca5ef6fe98394c6d926fd8316c6dcc35",
        "IPY_MODEL_01576d974e2d4a9c9d72a74dc93ba9ec",
        "IPY_MODEL_7cb0adf9958b444f902e74881d606f41"
       ],
       "layout": "IPY_MODEL_8b34b8a55e0d456a86df39800aa86de0"
      }
     },
     "52077472259c42af9050e12bdc9dae6b": {
      "model_module": "@jupyter-widgets/base",
      "model_module_version": "1.2.0",
      "model_name": "LayoutModel",
      "state": {}
     },
     "55b5aad0ddfa49dcaa9a1abe6515f32a": {
      "model_module": "@jupyter-widgets/controls",
      "model_module_version": "1.5.0",
      "model_name": "HBoxModel",
      "state": {
       "children": [
        "IPY_MODEL_d4297ebda3f54c9e902ef112f384c173",
        "IPY_MODEL_096b56c1bbd544188f0158d3caa67bc9",
        "IPY_MODEL_f017c4fb107b4cc9a1c10683f3c55d34"
       ],
       "layout": "IPY_MODEL_f46c6d8f74da484ab9efc147b8a38607"
      }
     },
     "55e4d88a71d6441fbe9980d0871a3afe": {
      "model_module": "@jupyter-widgets/base",
      "model_module_version": "1.2.0",
      "model_name": "LayoutModel",
      "state": {}
     },
     "566353f2dd224eaaa0abff62a9532746": {
      "model_module": "@jupyter-widgets/controls",
      "model_module_version": "1.5.0",
      "model_name": "FloatProgressModel",
      "state": {
       "bar_style": "success",
       "layout": "IPY_MODEL_a741f0f81f124c029a78bae71829974c",
       "max": 5,
       "style": "IPY_MODEL_835153a6e68346eab41da599f244b6d5",
       "value": 5
      }
     },
     "5727a0d2e92945d1ad253879f420bda6": {
      "model_module": "@jupyter-widgets/base",
      "model_module_version": "1.2.0",
      "model_name": "LayoutModel",
      "state": {}
     },
     "578bfcd3c0b846819729a91d518374af": {
      "model_module": "@jupyter-widgets/controls",
      "model_module_version": "1.5.0",
      "model_name": "ProgressStyleModel",
      "state": {
       "description_width": ""
      }
     },
     "57b23a23f84c4eca858b3388ff2bed2c": {
      "model_module": "@jupyter-widgets/base",
      "model_module_version": "1.2.0",
      "model_name": "LayoutModel",
      "state": {}
     },
     "587984721938429b855f0e9232583752": {
      "model_module": "@jupyter-widgets/controls",
      "model_module_version": "1.5.0",
      "model_name": "ProgressStyleModel",
      "state": {
       "description_width": ""
      }
     },
     "598094f9012e45618c712f6fcf7d62f5": {
      "model_module": "@jupyter-widgets/controls",
      "model_module_version": "1.5.0",
      "model_name": "DescriptionStyleModel",
      "state": {
       "description_width": ""
      }
     },
     "5aaf22a00fee4833818d32ea5e6e6cb5": {
      "model_module": "@jupyter-widgets/controls",
      "model_module_version": "1.5.0",
      "model_name": "ProgressStyleModel",
      "state": {
       "description_width": ""
      }
     },
     "5b8cc04ecff34b8ba043ca303f665510": {
      "model_module": "@jupyter-widgets/base",
      "model_module_version": "1.2.0",
      "model_name": "LayoutModel",
      "state": {}
     },
     "5c26ff1084624457acc11ea334b29d02": {
      "model_module": "@jupyter-widgets/controls",
      "model_module_version": "1.5.0",
      "model_name": "DescriptionStyleModel",
      "state": {
       "description_width": ""
      }
     },
     "5c9017a1e09d4f1198c81c40171dd282": {
      "model_module": "@jupyter-widgets/controls",
      "model_module_version": "1.5.0",
      "model_name": "DescriptionStyleModel",
      "state": {
       "description_width": ""
      }
     },
     "5c930ef6828041e18d9478f3f4bf7310": {
      "model_module": "@jupyter-widgets/controls",
      "model_module_version": "1.5.0",
      "model_name": "FloatProgressModel",
      "state": {
       "bar_style": "success",
       "layout": "IPY_MODEL_f4fd8bb2290840f5a5a75219bf4d04af",
       "max": 5,
       "style": "IPY_MODEL_731a5ce01f3a4d58878cd1046d92b180",
       "value": 5
      }
     },
     "5cd3310e07ee4820857dff2b00adcb52": {
      "model_module": "@jupyter-widgets/base",
      "model_module_version": "1.2.0",
      "model_name": "LayoutModel",
      "state": {}
     },
     "5d3a5e3b209143e190e4a7b96d058c9b": {
      "model_module": "@jupyter-widgets/controls",
      "model_module_version": "1.5.0",
      "model_name": "DescriptionStyleModel",
      "state": {
       "description_width": ""
      }
     },
     "5d6fe96d06cd4e78bd219743f01a469d": {
      "model_module": "@jupyter-widgets/base",
      "model_module_version": "1.2.0",
      "model_name": "LayoutModel",
      "state": {}
     },
     "5e505d4659d44ee08f8f68f75cae23f3": {
      "model_module": "@jupyter-widgets/base",
      "model_module_version": "1.2.0",
      "model_name": "LayoutModel",
      "state": {}
     },
     "5fe879dc1cb249b8af118769bd69b2d1": {
      "model_module": "@jupyter-widgets/base",
      "model_module_version": "1.2.0",
      "model_name": "LayoutModel",
      "state": {}
     },
     "62a08a35c30e4b6a8649dc5c4283572e": {
      "model_module": "@jupyter-widgets/controls",
      "model_module_version": "1.5.0",
      "model_name": "DescriptionStyleModel",
      "state": {
       "description_width": ""
      }
     },
     "635c3402957c4d73b28a525ad93b80dc": {
      "model_module": "@jupyter-widgets/controls",
      "model_module_version": "1.5.0",
      "model_name": "HTMLModel",
      "state": {
       "layout": "IPY_MODEL_78bdc3590f9846e2ad2edf1567a296a6",
       "style": "IPY_MODEL_b4ac4baa017c42a99d1f762a16ebcbb3",
       "value": " 5/5 [00:16&lt;00:00,  3.22s/it]"
      }
     },
     "6375628a9f2f46ddb3da73a272908f3b": {
      "model_module": "@jupyter-widgets/base",
      "model_module_version": "1.2.0",
      "model_name": "LayoutModel",
      "state": {}
     },
     "65433f94cee5474bb91c2d318959c8a7": {
      "model_module": "@jupyter-widgets/controls",
      "model_module_version": "1.5.0",
      "model_name": "FloatProgressModel",
      "state": {
       "bar_style": "success",
       "layout": "IPY_MODEL_bb811294e90e45a19a94506be335f015",
       "max": 5,
       "style": "IPY_MODEL_0df7c90f42ef46f3bb59bd27f8493c21",
       "value": 5
      }
     },
     "65a0b7837d71441daa6018290b34adb0": {
      "model_module": "@jupyter-widgets/base",
      "model_module_version": "1.2.0",
      "model_name": "LayoutModel",
      "state": {}
     },
     "687d95fec7a545cd980ae358679129b0": {
      "model_module": "@jupyter-widgets/base",
      "model_module_version": "1.2.0",
      "model_name": "LayoutModel",
      "state": {}
     },
     "697cdb97c76f4db09d78dda6d7fcae86": {
      "model_module": "@jupyter-widgets/controls",
      "model_module_version": "1.5.0",
      "model_name": "DescriptionStyleModel",
      "state": {
       "description_width": ""
      }
     },
     "69a0120ae409455da2d9d59ae2670e72": {
      "model_module": "@jupyter-widgets/controls",
      "model_module_version": "1.5.0",
      "model_name": "DescriptionStyleModel",
      "state": {
       "description_width": ""
      }
     },
     "6bbf5eceb280401195131afc95d88f3d": {
      "model_module": "@jupyter-widgets/controls",
      "model_module_version": "1.5.0",
      "model_name": "DescriptionStyleModel",
      "state": {
       "description_width": ""
      }
     },
     "6ce28801a29e4561a6020a41072a2a56": {
      "model_module": "@jupyter-widgets/controls",
      "model_module_version": "1.5.0",
      "model_name": "HTMLModel",
      "state": {
       "layout": "IPY_MODEL_c117ac54b6a343eb8a58c9eb682e7cb6",
       "style": "IPY_MODEL_33ff767d0aa34591b734a7add3b01c83",
       "value": "100%"
      }
     },
     "6d6614225f2940deb30c43025ea930b2": {
      "model_module": "@jupyter-widgets/base",
      "model_module_version": "1.2.0",
      "model_name": "LayoutModel",
      "state": {}
     },
     "6e7346e59244496d803e0154a45c06b3": {
      "model_module": "@jupyter-widgets/controls",
      "model_module_version": "1.5.0",
      "model_name": "HTMLModel",
      "state": {
       "layout": "IPY_MODEL_c021945c7a324abc8a851a5213baab0c",
       "style": "IPY_MODEL_7e463bd82c1d49c7bd7ccc2d7e1c754d",
       "value": " 5/5 [00:01&lt;00:00,  5.27it/s]"
      }
     },
     "6ea4f0cc1e684177983088281b4a5ca5": {
      "model_module": "@jupyter-widgets/controls",
      "model_module_version": "1.5.0",
      "model_name": "ProgressStyleModel",
      "state": {
       "description_width": ""
      }
     },
     "6eb595cd8e2b426aada37ec4af744c02": {
      "model_module": "@jupyter-widgets/controls",
      "model_module_version": "1.5.0",
      "model_name": "DescriptionStyleModel",
      "state": {
       "description_width": ""
      }
     },
     "6fd1b079fe834c5482b70db21f8ca33d": {
      "model_module": "@jupyter-widgets/controls",
      "model_module_version": "1.5.0",
      "model_name": "HTMLModel",
      "state": {
       "layout": "IPY_MODEL_428b2daae77b4dbbb8d4bc6c3bc5e1c5",
       "style": "IPY_MODEL_923d07f18741464dabd18089d05ec9f9",
       "value": " 5/5 [00:01&lt;00:00,  3.31it/s]"
      }
     },
     "700a161ffbba4a6399b0c7a1f3ecb0a1": {
      "model_module": "@jupyter-widgets/controls",
      "model_module_version": "1.5.0",
      "model_name": "ProgressStyleModel",
      "state": {
       "description_width": ""
      }
     },
     "71c64d9a0dff4a288f365f97d7af945a": {
      "model_module": "@jupyter-widgets/controls",
      "model_module_version": "1.5.0",
      "model_name": "DescriptionStyleModel",
      "state": {
       "description_width": ""
      }
     },
     "731a5ce01f3a4d58878cd1046d92b180": {
      "model_module": "@jupyter-widgets/controls",
      "model_module_version": "1.5.0",
      "model_name": "ProgressStyleModel",
      "state": {
       "description_width": ""
      }
     },
     "7416eae4c9834200a256aa13462d50bf": {
      "model_module": "@jupyter-widgets/base",
      "model_module_version": "1.2.0",
      "model_name": "LayoutModel",
      "state": {}
     },
     "759a3fd136054c3fb236d318af90e32e": {
      "model_module": "@jupyter-widgets/controls",
      "model_module_version": "1.5.0",
      "model_name": "FloatProgressModel",
      "state": {
       "bar_style": "success",
       "layout": "IPY_MODEL_e7907d4abeae410da6465533b9d5e7ee",
       "max": 5,
       "style": "IPY_MODEL_915ebcfb52b344c79860fcb828557b61",
       "value": 5
      }
     },
     "76149e08015545d6808604d605962980": {
      "model_module": "@jupyter-widgets/base",
      "model_module_version": "1.2.0",
      "model_name": "LayoutModel",
      "state": {}
     },
     "7636b19f69824561a5839748bb7ba57e": {
      "model_module": "@jupyter-widgets/base",
      "model_module_version": "1.2.0",
      "model_name": "LayoutModel",
      "state": {}
     },
     "771888d64d9a426ea1da7080998bc570": {
      "model_module": "@jupyter-widgets/base",
      "model_module_version": "1.2.0",
      "model_name": "LayoutModel",
      "state": {}
     },
     "782a0a50cdf548969902db36dffb8efd": {
      "model_module": "@jupyter-widgets/controls",
      "model_module_version": "1.5.0",
      "model_name": "HBoxModel",
      "state": {
       "children": [
        "IPY_MODEL_e730cdd50de142d089aa8a75d6b9df03",
        "IPY_MODEL_ecb7ca5ee37e44138cc09d32a21c8fbe",
        "IPY_MODEL_236119526a474dcba66860121bf551d5"
       ],
       "layout": "IPY_MODEL_a74fc996124740ddb935fb0ece90c36f"
      }
     },
     "78bdc3590f9846e2ad2edf1567a296a6": {
      "model_module": "@jupyter-widgets/base",
      "model_module_version": "1.2.0",
      "model_name": "LayoutModel",
      "state": {}
     },
     "7a1e778209d4415e8b9afa97ac01974b": {
      "model_module": "@jupyter-widgets/controls",
      "model_module_version": "1.5.0",
      "model_name": "HTMLModel",
      "state": {
       "layout": "IPY_MODEL_8d703c7fe7d943b99e36b13b0981746b",
       "style": "IPY_MODEL_d411297994a34040921b851ee1301fa5",
       "value": "100%"
      }
     },
     "7aa1daa46e784adbad41b3f8c1b1f43a": {
      "model_module": "@jupyter-widgets/controls",
      "model_module_version": "1.5.0",
      "model_name": "HBoxModel",
      "state": {
       "children": [
        "IPY_MODEL_a90ff51a179446fb9b1d63f0849c895f",
        "IPY_MODEL_c19bc4185db84c4cb3ea6ffae19e278f",
        "IPY_MODEL_0f7a0ba8720b42c7a7de8610bd4c61ec"
       ],
       "layout": "IPY_MODEL_13b3c7680e4e413cbefe6e1ac1f6a510"
      }
     },
     "7c516335184f43cb8f8968752e02971e": {
      "model_module": "@jupyter-widgets/controls",
      "model_module_version": "1.5.0",
      "model_name": "HTMLModel",
      "state": {
       "layout": "IPY_MODEL_6d6614225f2940deb30c43025ea930b2",
       "style": "IPY_MODEL_9455dd2198574b08a48f1738fdb1a946",
       "value": "100%"
      }
     },
     "7cb0adf9958b444f902e74881d606f41": {
      "model_module": "@jupyter-widgets/controls",
      "model_module_version": "1.5.0",
      "model_name": "HTMLModel",
      "state": {
       "layout": "IPY_MODEL_921ae9f466b6409b9b606fbe300c55fe",
       "style": "IPY_MODEL_2cf23cba1256411bbb6d87339ae0c417",
       "value": " 5/5 [00:16&lt;00:00,  3.22s/it]"
      }
     },
     "7d332043fd6347249e670e006e350a53": {
      "model_module": "@jupyter-widgets/controls",
      "model_module_version": "1.5.0",
      "model_name": "ProgressStyleModel",
      "state": {
       "description_width": ""
      }
     },
     "7d609d0bd5404198a2ce493926f3e710": {
      "model_module": "@jupyter-widgets/controls",
      "model_module_version": "1.5.0",
      "model_name": "DescriptionStyleModel",
      "state": {
       "description_width": ""
      }
     },
     "7e463bd82c1d49c7bd7ccc2d7e1c754d": {
      "model_module": "@jupyter-widgets/controls",
      "model_module_version": "1.5.0",
      "model_name": "DescriptionStyleModel",
      "state": {
       "description_width": ""
      }
     },
     "7f57879cb54e424baac0a86603cda968": {
      "model_module": "@jupyter-widgets/controls",
      "model_module_version": "1.5.0",
      "model_name": "HBoxModel",
      "state": {
       "children": [
        "IPY_MODEL_8666e227dbf646148e6816076baebd3b",
        "IPY_MODEL_a677b639cacb44b4b12581376d89b603",
        "IPY_MODEL_052c88e3e69c4673a3069bebb1e705f9"
       ],
       "layout": "IPY_MODEL_b0f37067e957458ab590b90870b44172"
      }
     },
     "7fdd6e1c87f340dfa8c9fe5f0accca6a": {
      "model_module": "@jupyter-widgets/base",
      "model_module_version": "1.2.0",
      "model_name": "LayoutModel",
      "state": {}
     },
     "8085adf2243546c4adb1f51e7d0d9c87": {
      "model_module": "@jupyter-widgets/controls",
      "model_module_version": "1.5.0",
      "model_name": "HTMLModel",
      "state": {
       "layout": "IPY_MODEL_e3c8ec7a318a441cb260178f277cf03f",
       "style": "IPY_MODEL_4dcbb2985a5c4626b47414ba83e6c7d3",
       "value": "100%"
      }
     },
     "808a67f9970d4cc3b4c1b9bce29fe788": {
      "model_module": "@jupyter-widgets/controls",
      "model_module_version": "1.5.0",
      "model_name": "HTMLModel",
      "state": {
       "layout": "IPY_MODEL_209d433b7fb74a82bc09c722e09884fd",
       "style": "IPY_MODEL_cf2ef1693c7d40ffb2cb8a94c5c3a1e4",
       "value": "100%"
      }
     },
     "818c56980e6847ac9b9ee35d3870dfff": {
      "model_module": "@jupyter-widgets/base",
      "model_module_version": "1.2.0",
      "model_name": "LayoutModel",
      "state": {}
     },
     "81d778b789464bdda6f986e2f576f670": {
      "model_module": "@jupyter-widgets/controls",
      "model_module_version": "1.5.0",
      "model_name": "ProgressStyleModel",
      "state": {
       "description_width": ""
      }
     },
     "826a293e9390474c8f8f196b6fd8e1c4": {
      "model_module": "@jupyter-widgets/controls",
      "model_module_version": "1.5.0",
      "model_name": "DescriptionStyleModel",
      "state": {
       "description_width": ""
      }
     },
     "82afba8c426949cd8982ca721d170529": {
      "model_module": "@jupyter-widgets/controls",
      "model_module_version": "1.5.0",
      "model_name": "HBoxModel",
      "state": {
       "children": [
        "IPY_MODEL_3b5be55cf5ca408f9a461f45deb561ad",
        "IPY_MODEL_140e16f678cf45c098cadcdb0f389c80",
        "IPY_MODEL_a18ec64347934793a172439123bb6d99"
       ],
       "layout": "IPY_MODEL_af6ff6a8bff14586ac90b36e52d5c5f7"
      }
     },
     "82b258c301fb403780104ef851b9f68c": {
      "model_module": "@jupyter-widgets/base",
      "model_module_version": "1.2.0",
      "model_name": "LayoutModel",
      "state": {}
     },
     "83062e13f71a4a4e99b74b67e904fa09": {
      "model_module": "@jupyter-widgets/controls",
      "model_module_version": "1.5.0",
      "model_name": "DescriptionStyleModel",
      "state": {
       "description_width": ""
      }
     },
     "835153a6e68346eab41da599f244b6d5": {
      "model_module": "@jupyter-widgets/controls",
      "model_module_version": "1.5.0",
      "model_name": "ProgressStyleModel",
      "state": {
       "description_width": ""
      }
     },
     "841887d7aa574109a633110580bd9a2d": {
      "model_module": "@jupyter-widgets/base",
      "model_module_version": "1.2.0",
      "model_name": "LayoutModel",
      "state": {}
     },
     "857868353a9d4752a3024ea9adae1225": {
      "model_module": "@jupyter-widgets/base",
      "model_module_version": "1.2.0",
      "model_name": "LayoutModel",
      "state": {}
     },
     "8666e227dbf646148e6816076baebd3b": {
      "model_module": "@jupyter-widgets/controls",
      "model_module_version": "1.5.0",
      "model_name": "HTMLModel",
      "state": {
       "layout": "IPY_MODEL_abc2fef88d9d42bb968ea792ac8054fe",
       "style": "IPY_MODEL_d86aa59f4fed4b80a51791d573b6f85c",
       "value": "100%"
      }
     },
     "86cee7f1f6b848ed99444c209adf267f": {
      "model_module": "@jupyter-widgets/base",
      "model_module_version": "1.2.0",
      "model_name": "LayoutModel",
      "state": {}
     },
     "86fdc53746264e848e52def109490cd9": {
      "model_module": "@jupyter-widgets/base",
      "model_module_version": "1.2.0",
      "model_name": "LayoutModel",
      "state": {}
     },
     "88cc169cf70740dbab39adfbea95cc02": {
      "model_module": "@jupyter-widgets/base",
      "model_module_version": "1.2.0",
      "model_name": "LayoutModel",
      "state": {}
     },
     "88dfaa94721a450492aee016d90777cf": {
      "model_module": "@jupyter-widgets/base",
      "model_module_version": "1.2.0",
      "model_name": "LayoutModel",
      "state": {}
     },
     "89678cdef33342a3a3bff6801488e36e": {
      "model_module": "@jupyter-widgets/base",
      "model_module_version": "1.2.0",
      "model_name": "LayoutModel",
      "state": {}
     },
     "8a28101fc9e34172a2fe69c31b35b05d": {
      "model_module": "@jupyter-widgets/controls",
      "model_module_version": "1.5.0",
      "model_name": "FloatProgressModel",
      "state": {
       "bar_style": "success",
       "layout": "IPY_MODEL_5d6fe96d06cd4e78bd219743f01a469d",
       "max": 5,
       "style": "IPY_MODEL_afa53449671e4be89a051d630c796865",
       "value": 5
      }
     },
     "8a91f5767b1240cd9185b4e30390c46c": {
      "model_module": "@jupyter-widgets/controls",
      "model_module_version": "1.5.0",
      "model_name": "DescriptionStyleModel",
      "state": {
       "description_width": ""
      }
     },
     "8aa1c2ba353946938a28cd6998255002": {
      "model_module": "@jupyter-widgets/base",
      "model_module_version": "1.2.0",
      "model_name": "LayoutModel",
      "state": {}
     },
     "8aaefed3b6c54394b2014b9f125b4b1e": {
      "model_module": "@jupyter-widgets/controls",
      "model_module_version": "1.5.0",
      "model_name": "DescriptionStyleModel",
      "state": {
       "description_width": ""
      }
     },
     "8b2931f268054ce28ee9f3876ede98b3": {
      "model_module": "@jupyter-widgets/base",
      "model_module_version": "1.2.0",
      "model_name": "LayoutModel",
      "state": {}
     },
     "8b34b8a55e0d456a86df39800aa86de0": {
      "model_module": "@jupyter-widgets/base",
      "model_module_version": "1.2.0",
      "model_name": "LayoutModel",
      "state": {}
     },
     "8ba61a14713c4f0b82922afbe83ff115": {
      "model_module": "@jupyter-widgets/base",
      "model_module_version": "1.2.0",
      "model_name": "LayoutModel",
      "state": {}
     },
     "8cd0a2295cd841a08115a99b3d989b12": {
      "model_module": "@jupyter-widgets/controls",
      "model_module_version": "1.5.0",
      "model_name": "FloatProgressModel",
      "state": {
       "bar_style": "success",
       "layout": "IPY_MODEL_28811e4d16384f1fb71033d7188bdd5e",
       "max": 5,
       "style": "IPY_MODEL_af11ab0fe9ba4903b62f341e6d5f09fe",
       "value": 5
      }
     },
     "8d703c7fe7d943b99e36b13b0981746b": {
      "model_module": "@jupyter-widgets/base",
      "model_module_version": "1.2.0",
      "model_name": "LayoutModel",
      "state": {}
     },
     "8de283bbe98d48aca8e0f00758884cfa": {
      "model_module": "@jupyter-widgets/controls",
      "model_module_version": "1.5.0",
      "model_name": "DescriptionStyleModel",
      "state": {
       "description_width": ""
      }
     },
     "8f085a0e4b8e4f27bf320236d8053774": {
      "model_module": "@jupyter-widgets/base",
      "model_module_version": "1.2.0",
      "model_name": "LayoutModel",
      "state": {}
     },
     "8f770f759d33486b84b74622c23b6c75": {
      "model_module": "@jupyter-widgets/controls",
      "model_module_version": "1.5.0",
      "model_name": "ProgressStyleModel",
      "state": {
       "description_width": ""
      }
     },
     "8f91c1313e1d4b0fb862f385a2e9eb4d": {
      "model_module": "@jupyter-widgets/controls",
      "model_module_version": "1.5.0",
      "model_name": "HTMLModel",
      "state": {
       "layout": "IPY_MODEL_f9c04fe5723e4da78589f13c46631fe3",
       "style": "IPY_MODEL_83062e13f71a4a4e99b74b67e904fa09",
       "value": "100%"
      }
     },
     "915ebcfb52b344c79860fcb828557b61": {
      "model_module": "@jupyter-widgets/controls",
      "model_module_version": "1.5.0",
      "model_name": "ProgressStyleModel",
      "state": {
       "description_width": ""
      }
     },
     "921ae9f466b6409b9b606fbe300c55fe": {
      "model_module": "@jupyter-widgets/base",
      "model_module_version": "1.2.0",
      "model_name": "LayoutModel",
      "state": {}
     },
     "923d07f18741464dabd18089d05ec9f9": {
      "model_module": "@jupyter-widgets/controls",
      "model_module_version": "1.5.0",
      "model_name": "DescriptionStyleModel",
      "state": {
       "description_width": ""
      }
     },
     "925e2994c068451ab5a29143e018bdd9": {
      "model_module": "@jupyter-widgets/controls",
      "model_module_version": "1.5.0",
      "model_name": "FloatProgressModel",
      "state": {
       "bar_style": "success",
       "layout": "IPY_MODEL_45c1976eb3304bd2a43a8e68aea62dff",
       "max": 5,
       "style": "IPY_MODEL_587984721938429b855f0e9232583752",
       "value": 5
      }
     },
     "94061522a9cd42549674564c02564f58": {
      "model_module": "@jupyter-widgets/controls",
      "model_module_version": "1.5.0",
      "model_name": "DescriptionStyleModel",
      "state": {
       "description_width": ""
      }
     },
     "9455dd2198574b08a48f1738fdb1a946": {
      "model_module": "@jupyter-widgets/controls",
      "model_module_version": "1.5.0",
      "model_name": "DescriptionStyleModel",
      "state": {
       "description_width": ""
      }
     },
     "955dabecf9b7471283ffc86686915b0a": {
      "model_module": "@jupyter-widgets/base",
      "model_module_version": "1.2.0",
      "model_name": "LayoutModel",
      "state": {}
     },
     "96201372b75b4bdbb70139cd7554b1c3": {
      "model_module": "@jupyter-widgets/controls",
      "model_module_version": "1.5.0",
      "model_name": "ProgressStyleModel",
      "state": {
       "description_width": ""
      }
     },
     "962b77f5012d4c198f73c523e6cf64c0": {
      "model_module": "@jupyter-widgets/base",
      "model_module_version": "1.2.0",
      "model_name": "LayoutModel",
      "state": {}
     },
     "97609c205a9d4f03908e7c10de30e576": {
      "model_module": "@jupyter-widgets/controls",
      "model_module_version": "1.5.0",
      "model_name": "ProgressStyleModel",
      "state": {
       "description_width": ""
      }
     },
     "9815842aa5dd46b9b0a9548844dc5d8f": {
      "model_module": "@jupyter-widgets/base",
      "model_module_version": "1.2.0",
      "model_name": "LayoutModel",
      "state": {}
     },
     "99e75afcf6094b4ba17a0858cd1862d1": {
      "model_module": "@jupyter-widgets/controls",
      "model_module_version": "1.5.0",
      "model_name": "DescriptionStyleModel",
      "state": {
       "description_width": ""
      }
     },
     "9a4b4c1ec2644d1cb052b8aec9dca063": {
      "model_module": "@jupyter-widgets/controls",
      "model_module_version": "1.5.0",
      "model_name": "HTMLModel",
      "state": {
       "layout": "IPY_MODEL_0b4d110b85424e7e9297edab10cf82d8",
       "style": "IPY_MODEL_ac3a98624641449b8271dc9f16a18a5b",
       "value": "100%"
      }
     },
     "9d9de2bc1589489b8625af7f64307d2c": {
      "model_module": "@jupyter-widgets/controls",
      "model_module_version": "1.5.0",
      "model_name": "HTMLModel",
      "state": {
       "layout": "IPY_MODEL_ed0527fea7f44c01b0c3eb9a812b673a",
       "style": "IPY_MODEL_f8225547f8bb4bb8b84e5c62ae92a33e",
       "value": " 5/5 [00:00&lt;00:00, 62.44it/s]"
      }
     },
     "9e45c5637afc4792a2ca0b49cabf1490": {
      "model_module": "@jupyter-widgets/controls",
      "model_module_version": "1.5.0",
      "model_name": "HTMLModel",
      "state": {
       "layout": "IPY_MODEL_bac4be45d9d74f82ad5e91bf00725732",
       "style": "IPY_MODEL_9ee852824b2247988a7066f9f1b70741",
       "value": " 5/5 [00:18&lt;00:00,  3.69s/it]"
      }
     },
     "9e932bf9ae404838a9863bac5c80bbfc": {
      "model_module": "@jupyter-widgets/base",
      "model_module_version": "1.2.0",
      "model_name": "LayoutModel",
      "state": {}
     },
     "9edfce173ed948f99edcf494869f64e5": {
      "model_module": "@jupyter-widgets/controls",
      "model_module_version": "1.5.0",
      "model_name": "HTMLModel",
      "state": {
       "layout": "IPY_MODEL_841887d7aa574109a633110580bd9a2d",
       "style": "IPY_MODEL_8de283bbe98d48aca8e0f00758884cfa",
       "value": " 5/5 [00:00&lt;00:00, 80.57it/s]"
      }
     },
     "9ee07f1c0f764e88a8df64b1694eb939": {
      "model_module": "@jupyter-widgets/base",
      "model_module_version": "1.2.0",
      "model_name": "LayoutModel",
      "state": {}
     },
     "9ee852824b2247988a7066f9f1b70741": {
      "model_module": "@jupyter-widgets/controls",
      "model_module_version": "1.5.0",
      "model_name": "DescriptionStyleModel",
      "state": {
       "description_width": ""
      }
     },
     "9f2fc30a3d6e48b9b915f6023d5b8836": {
      "model_module": "@jupyter-widgets/controls",
      "model_module_version": "1.5.0",
      "model_name": "DescriptionStyleModel",
      "state": {
       "description_width": ""
      }
     },
     "a0bc56f2d4cb498a8f93431d4d7cdb01": {
      "model_module": "@jupyter-widgets/base",
      "model_module_version": "1.2.0",
      "model_name": "LayoutModel",
      "state": {}
     },
     "a18ec64347934793a172439123bb6d99": {
      "model_module": "@jupyter-widgets/controls",
      "model_module_version": "1.5.0",
      "model_name": "HTMLModel",
      "state": {
       "layout": "IPY_MODEL_8ba61a14713c4f0b82922afbe83ff115",
       "style": "IPY_MODEL_8a91f5767b1240cd9185b4e30390c46c",
       "value": " 5/5 [00:16&lt;00:00,  3.31s/it]"
      }
     },
     "a282f298551648e7b69a504975be6c3a": {
      "model_module": "@jupyter-widgets/controls",
      "model_module_version": "1.5.0",
      "model_name": "HBoxModel",
      "state": {
       "children": [
        "IPY_MODEL_fc6a1ea75f6f4e62a5b230a026a4bd1f",
        "IPY_MODEL_ea8eafc3862a4e749f821b0e84d78b3f",
        "IPY_MODEL_bc4592bac3da4538939f2037e4fe1862"
       ],
       "layout": "IPY_MODEL_771888d64d9a426ea1da7080998bc570"
      }
     },
     "a46314ed2f7f4d5ba50c17cae9e053b4": {
      "model_module": "@jupyter-widgets/base",
      "model_module_version": "1.2.0",
      "model_name": "LayoutModel",
      "state": {}
     },
     "a65cc4e842a4466b949659ca96c7c81a": {
      "model_module": "@jupyter-widgets/base",
      "model_module_version": "1.2.0",
      "model_name": "LayoutModel",
      "state": {}
     },
     "a677b639cacb44b4b12581376d89b603": {
      "model_module": "@jupyter-widgets/controls",
      "model_module_version": "1.5.0",
      "model_name": "FloatProgressModel",
      "state": {
       "bar_style": "success",
       "layout": "IPY_MODEL_227baa7a77aa4b60901862f9bd8432da",
       "max": 5,
       "style": "IPY_MODEL_f3f565a33a1d4e679448ef1753ebc047",
       "value": 5
      }
     },
     "a741f0f81f124c029a78bae71829974c": {
      "model_module": "@jupyter-widgets/base",
      "model_module_version": "1.2.0",
      "model_name": "LayoutModel",
      "state": {}
     },
     "a74fc996124740ddb935fb0ece90c36f": {
      "model_module": "@jupyter-widgets/base",
      "model_module_version": "1.2.0",
      "model_name": "LayoutModel",
      "state": {}
     },
     "a76d295c644c47f1b93714f4b9b8b808": {
      "model_module": "@jupyter-widgets/controls",
      "model_module_version": "1.5.0",
      "model_name": "ProgressStyleModel",
      "state": {
       "description_width": ""
      }
     },
     "a818c28ee7024a2ea786aa86e0fd374d": {
      "model_module": "@jupyter-widgets/controls",
      "model_module_version": "1.5.0",
      "model_name": "HTMLModel",
      "state": {
       "layout": "IPY_MODEL_7636b19f69824561a5839748bb7ba57e",
       "style": "IPY_MODEL_94061522a9cd42549674564c02564f58",
       "value": " 5/5 [00:00&lt;00:00, 63.23it/s]"
      }
     },
     "a8cd339529164142aef7432ee5c89f07": {
      "model_module": "@jupyter-widgets/controls",
      "model_module_version": "1.5.0",
      "model_name": "DescriptionStyleModel",
      "state": {
       "description_width": ""
      }
     },
     "a90ff51a179446fb9b1d63f0849c895f": {
      "model_module": "@jupyter-widgets/controls",
      "model_module_version": "1.5.0",
      "model_name": "HTMLModel",
      "state": {
       "layout": "IPY_MODEL_03ebde9ceb9844ea9833f1879953215f",
       "style": "IPY_MODEL_f539c3ff22634bf791c77f167366145e",
       "value": "100%"
      }
     },
     "aba07a7bacb94f9e957e63553dce83d8": {
      "model_module": "@jupyter-widgets/controls",
      "model_module_version": "1.5.0",
      "model_name": "DescriptionStyleModel",
      "state": {
       "description_width": ""
      }
     },
     "abc2fef88d9d42bb968ea792ac8054fe": {
      "model_module": "@jupyter-widgets/base",
      "model_module_version": "1.2.0",
      "model_name": "LayoutModel",
      "state": {}
     },
     "ac3a98624641449b8271dc9f16a18a5b": {
      "model_module": "@jupyter-widgets/controls",
      "model_module_version": "1.5.0",
      "model_name": "DescriptionStyleModel",
      "state": {
       "description_width": ""
      }
     },
     "ad200846d5814ece84f4c5413ae8718d": {
      "model_module": "@jupyter-widgets/base",
      "model_module_version": "1.2.0",
      "model_name": "LayoutModel",
      "state": {}
     },
     "ad83559705444624920266589a625c8e": {
      "model_module": "@jupyter-widgets/controls",
      "model_module_version": "1.5.0",
      "model_name": "HBoxModel",
      "state": {
       "children": [
        "IPY_MODEL_8085adf2243546c4adb1f51e7d0d9c87",
        "IPY_MODEL_759a3fd136054c3fb236d318af90e32e",
        "IPY_MODEL_0d5c59cd2d7a452cafb58e3954231346"
       ],
       "layout": "IPY_MODEL_36ead8bec7534849831aa3c58a20c14f"
      }
     },
     "af11ab0fe9ba4903b62f341e6d5f09fe": {
      "model_module": "@jupyter-widgets/controls",
      "model_module_version": "1.5.0",
      "model_name": "ProgressStyleModel",
      "state": {
       "description_width": ""
      }
     },
     "af6ff6a8bff14586ac90b36e52d5c5f7": {
      "model_module": "@jupyter-widgets/base",
      "model_module_version": "1.2.0",
      "model_name": "LayoutModel",
      "state": {}
     },
     "afa53449671e4be89a051d630c796865": {
      "model_module": "@jupyter-widgets/controls",
      "model_module_version": "1.5.0",
      "model_name": "ProgressStyleModel",
      "state": {
       "description_width": ""
      }
     },
     "afef0fbc67e146b7a02d5a5ad602271a": {
      "model_module": "@jupyter-widgets/controls",
      "model_module_version": "1.5.0",
      "model_name": "HTMLModel",
      "state": {
       "layout": "IPY_MODEL_44d09b9714c2411cb091f274914a1408",
       "style": "IPY_MODEL_5c26ff1084624457acc11ea334b29d02",
       "value": " 5/5 [00:16&lt;00:00,  3.38s/it]"
      }
     },
     "b0c57900affc4b2c8db2fbf7c45145a3": {
      "model_module": "@jupyter-widgets/base",
      "model_module_version": "1.2.0",
      "model_name": "LayoutModel",
      "state": {}
     },
     "b0f37067e957458ab590b90870b44172": {
      "model_module": "@jupyter-widgets/base",
      "model_module_version": "1.2.0",
      "model_name": "LayoutModel",
      "state": {}
     },
     "b231043b68bf42f1bdbc84866c87a705": {
      "model_module": "@jupyter-widgets/controls",
      "model_module_version": "1.5.0",
      "model_name": "DescriptionStyleModel",
      "state": {
       "description_width": ""
      }
     },
     "b23b276468ca43ada9cfca2b162d9692": {
      "model_module": "@jupyter-widgets/base",
      "model_module_version": "1.2.0",
      "model_name": "LayoutModel",
      "state": {}
     },
     "b2b2c7f695cd41c5a2d0e64aee67139c": {
      "model_module": "@jupyter-widgets/controls",
      "model_module_version": "1.5.0",
      "model_name": "HBoxModel",
      "state": {
       "children": [
        "IPY_MODEL_19d850b4d9674a37b49355a50ea711f8",
        "IPY_MODEL_65433f94cee5474bb91c2d318959c8a7",
        "IPY_MODEL_2188e43f1b964405b00051176b1334f2"
       ],
       "layout": "IPY_MODEL_d7837c1672324b3a99338e67fca7f56b"
      }
     },
     "b4ac4baa017c42a99d1f762a16ebcbb3": {
      "model_module": "@jupyter-widgets/controls",
      "model_module_version": "1.5.0",
      "model_name": "DescriptionStyleModel",
      "state": {
       "description_width": ""
      }
     },
     "b4e58ac6d4f942458e901c93d7a43c77": {
      "model_module": "@jupyter-widgets/base",
      "model_module_version": "1.2.0",
      "model_name": "LayoutModel",
      "state": {}
     },
     "b7084c69a7114f3ca714c378e98c30df": {
      "model_module": "@jupyter-widgets/controls",
      "model_module_version": "1.5.0",
      "model_name": "HBoxModel",
      "state": {
       "children": [
        "IPY_MODEL_3545b0fbb40848c78709407169e95b60",
        "IPY_MODEL_2c85b99173f04f14aac1651b7b76c94e",
        "IPY_MODEL_c27545bce1bf49f8808a617cc432b804"
       ],
       "layout": "IPY_MODEL_0b9ec2ca4a7c4d8cbdb30de873730f66"
      }
     },
     "b76e09f4dccf4a3e9dbff844aea4ff31": {
      "model_module": "@jupyter-widgets/controls",
      "model_module_version": "1.5.0",
      "model_name": "ProgressStyleModel",
      "state": {
       "description_width": ""
      }
     },
     "b7b4faf88ac44f72bf3c1e22e4553633": {
      "model_module": "@jupyter-widgets/controls",
      "model_module_version": "1.5.0",
      "model_name": "HTMLModel",
      "state": {
       "layout": "IPY_MODEL_4c0d147ee7b6490480b08f9100b09352",
       "style": "IPY_MODEL_224f3c3d51b8429cbd69d794730f68f0",
       "value": " 5/5 [00:17&lt;00:00,  3.45s/it]"
      }
     },
     "b9238793ccb34e45bb2417666eec5585": {
      "model_module": "@jupyter-widgets/controls",
      "model_module_version": "1.5.0",
      "model_name": "DescriptionStyleModel",
      "state": {
       "description_width": ""
      }
     },
     "ba2d9fd34ac84a90b07c976dd6877aa8": {
      "model_module": "@jupyter-widgets/controls",
      "model_module_version": "1.5.0",
      "model_name": "HTMLModel",
      "state": {
       "layout": "IPY_MODEL_5b8cc04ecff34b8ba043ca303f665510",
       "style": "IPY_MODEL_b9238793ccb34e45bb2417666eec5585",
       "value": " 5/5 [00:00&lt;00:00, 51.55it/s]"
      }
     },
     "bac4be45d9d74f82ad5e91bf00725732": {
      "model_module": "@jupyter-widgets/base",
      "model_module_version": "1.2.0",
      "model_name": "LayoutModel",
      "state": {}
     },
     "bb811294e90e45a19a94506be335f015": {
      "model_module": "@jupyter-widgets/base",
      "model_module_version": "1.2.0",
      "model_name": "LayoutModel",
      "state": {}
     },
     "bc4592bac3da4538939f2037e4fe1862": {
      "model_module": "@jupyter-widgets/controls",
      "model_module_version": "1.5.0",
      "model_name": "HTMLModel",
      "state": {
       "layout": "IPY_MODEL_e480f60c56ae423c91c4c82db216e719",
       "style": "IPY_MODEL_3d9002dd1aef43188d98013d0c22dfe3",
       "value": " 5/5 [00:16&lt;00:00,  3.32s/it]"
      }
     },
     "c021945c7a324abc8a851a5213baab0c": {
      "model_module": "@jupyter-widgets/base",
      "model_module_version": "1.2.0",
      "model_name": "LayoutModel",
      "state": {}
     },
     "c05cd21642284827a014a7e924e4642b": {
      "model_module": "@jupyter-widgets/controls",
      "model_module_version": "1.5.0",
      "model_name": "FloatProgressModel",
      "state": {
       "bar_style": "success",
       "layout": "IPY_MODEL_3cea86c3d30a4f55855b7ce78db13bf1",
       "max": 5,
       "style": "IPY_MODEL_d7e107b6ff39443a814fc820b02f730d",
       "value": 5
      }
     },
     "c117ac54b6a343eb8a58c9eb682e7cb6": {
      "model_module": "@jupyter-widgets/base",
      "model_module_version": "1.2.0",
      "model_name": "LayoutModel",
      "state": {}
     },
     "c19bc4185db84c4cb3ea6ffae19e278f": {
      "model_module": "@jupyter-widgets/controls",
      "model_module_version": "1.5.0",
      "model_name": "FloatProgressModel",
      "state": {
       "bar_style": "success",
       "layout": "IPY_MODEL_5e505d4659d44ee08f8f68f75cae23f3",
       "max": 5,
       "style": "IPY_MODEL_ee33f626346641ddaf5a75cdf5b425c9",
       "value": 5
      }
     },
     "c22b9e93e07b488eb09963805a2641b0": {
      "model_module": "@jupyter-widgets/controls",
      "model_module_version": "1.5.0",
      "model_name": "DescriptionStyleModel",
      "state": {
       "description_width": ""
      }
     },
     "c27545bce1bf49f8808a617cc432b804": {
      "model_module": "@jupyter-widgets/controls",
      "model_module_version": "1.5.0",
      "model_name": "HTMLModel",
      "state": {
       "layout": "IPY_MODEL_818c56980e6847ac9b9ee35d3870dfff",
       "style": "IPY_MODEL_c22b9e93e07b488eb09963805a2641b0",
       "value": " 5/5 [00:19&lt;00:00,  3.80s/it]"
      }
     },
     "c35a4d1c5298436985519d9b07a00358": {
      "model_module": "@jupyter-widgets/controls",
      "model_module_version": "1.5.0",
      "model_name": "HTMLModel",
      "state": {
       "layout": "IPY_MODEL_b4e58ac6d4f942458e901c93d7a43c77",
       "style": "IPY_MODEL_d38e116f76874bfa8361846acb0f4f7b",
       "value": " 5/5 [00:16&lt;00:00,  3.22s/it]"
      }
     },
     "c3d09b1c63564bbf938370b95df29ca7": {
      "model_module": "@jupyter-widgets/base",
      "model_module_version": "1.2.0",
      "model_name": "LayoutModel",
      "state": {}
     },
     "c4ede914911445cdb5ca877ca7b75176": {
      "model_module": "@jupyter-widgets/controls",
      "model_module_version": "1.5.0",
      "model_name": "HTMLModel",
      "state": {
       "layout": "IPY_MODEL_8b2931f268054ce28ee9f3876ede98b3",
       "style": "IPY_MODEL_f121e3b132604745bcc3a47b387723d0",
       "value": "100%"
      }
     },
     "c5ac7c11158a43b1ba95f5d3bd2ee754": {
      "model_module": "@jupyter-widgets/controls",
      "model_module_version": "1.5.0",
      "model_name": "HBoxModel",
      "state": {
       "children": [
        "IPY_MODEL_355243589c62433b8a197504b01b0bfa",
        "IPY_MODEL_170155d2c7924bf6a2c14c01c0ff20d4",
        "IPY_MODEL_6fd1b079fe834c5482b70db21f8ca33d"
       ],
       "layout": "IPY_MODEL_ee588bd252fd473c954c7dc809b1bfc0"
      }
     },
     "c719b32ecdea49509ebf2372ff4aca74": {
      "model_module": "@jupyter-widgets/base",
      "model_module_version": "1.2.0",
      "model_name": "LayoutModel",
      "state": {}
     },
     "c7708a266ba54326b532bcd3e73ad4cb": {
      "model_module": "@jupyter-widgets/controls",
      "model_module_version": "1.5.0",
      "model_name": "HTMLModel",
      "state": {
       "layout": "IPY_MODEL_7fdd6e1c87f340dfa8c9fe5f0accca6a",
       "style": "IPY_MODEL_697cdb97c76f4db09d78dda6d7fcae86",
       "value": "100%"
      }
     },
     "c7ffc5e4090b4c6eac53933e4b4dfee5": {
      "model_module": "@jupyter-widgets/controls",
      "model_module_version": "1.5.0",
      "model_name": "HTMLModel",
      "state": {
       "layout": "IPY_MODEL_f78073d17a574970b1169cc921afe9f4",
       "style": "IPY_MODEL_d9c55ae0589f48ccbbe24a5af7086eea",
       "value": "100%"
      }
     },
     "ca5ef6fe98394c6d926fd8316c6dcc35": {
      "model_module": "@jupyter-widgets/controls",
      "model_module_version": "1.5.0",
      "model_name": "HTMLModel",
      "state": {
       "layout": "IPY_MODEL_3f35118165f04c4f879f77875881f638",
       "style": "IPY_MODEL_a8cd339529164142aef7432ee5c89f07",
       "value": "100%"
      }
     },
     "cba7a8c6bedc465f980dcb78d9f98d2c": {
      "model_module": "@jupyter-widgets/controls",
      "model_module_version": "1.5.0",
      "model_name": "HTMLModel",
      "state": {
       "layout": "IPY_MODEL_88cc169cf70740dbab39adfbea95cc02",
       "style": "IPY_MODEL_99e75afcf6094b4ba17a0858cd1862d1",
       "value": "100%"
      }
     },
     "ce367c5cb9224ff6be48ffddf3d0149a": {
      "model_module": "@jupyter-widgets/controls",
      "model_module_version": "1.5.0",
      "model_name": "FloatProgressModel",
      "state": {
       "bar_style": "success",
       "layout": "IPY_MODEL_f0c5a6662de94039a373cc7d2176a12f",
       "max": 5,
       "style": "IPY_MODEL_578bfcd3c0b846819729a91d518374af",
       "value": 5
      }
     },
     "ce657aa81bf14fed9649f38ce33df30a": {
      "model_module": "@jupyter-widgets/controls",
      "model_module_version": "1.5.0",
      "model_name": "HBoxModel",
      "state": {
       "children": [
        "IPY_MODEL_0dc9a9b6ee40490d84c2a51a2a109dd4",
        "IPY_MODEL_5c930ef6828041e18d9478f3f4bf7310",
        "IPY_MODEL_9edfce173ed948f99edcf494869f64e5"
       ],
       "layout": "IPY_MODEL_3a1ea52cc30d43c89fc914a49f98b7b1"
      }
     },
     "cf2785a501ab44969bf6ecfee2431d10": {
      "model_module": "@jupyter-widgets/controls",
      "model_module_version": "1.5.0",
      "model_name": "FloatProgressModel",
      "state": {
       "bar_style": "success",
       "layout": "IPY_MODEL_fc8506f693064a2ca32634848db79be9",
       "max": 5,
       "style": "IPY_MODEL_96201372b75b4bdbb70139cd7554b1c3",
       "value": 5
      }
     },
     "cf2ef1693c7d40ffb2cb8a94c5c3a1e4": {
      "model_module": "@jupyter-widgets/controls",
      "model_module_version": "1.5.0",
      "model_name": "DescriptionStyleModel",
      "state": {
       "description_width": ""
      }
     },
     "d38e116f76874bfa8361846acb0f4f7b": {
      "model_module": "@jupyter-widgets/controls",
      "model_module_version": "1.5.0",
      "model_name": "DescriptionStyleModel",
      "state": {
       "description_width": ""
      }
     },
     "d3ea578a5cf74ce1b9753d644366fb73": {
      "model_module": "@jupyter-widgets/base",
      "model_module_version": "1.2.0",
      "model_name": "LayoutModel",
      "state": {}
     },
     "d411297994a34040921b851ee1301fa5": {
      "model_module": "@jupyter-widgets/controls",
      "model_module_version": "1.5.0",
      "model_name": "DescriptionStyleModel",
      "state": {
       "description_width": ""
      }
     },
     "d4237f70ffea4fbb851e7e3dbeeb5f53": {
      "model_module": "@jupyter-widgets/base",
      "model_module_version": "1.2.0",
      "model_name": "LayoutModel",
      "state": {}
     },
     "d4297ebda3f54c9e902ef112f384c173": {
      "model_module": "@jupyter-widgets/controls",
      "model_module_version": "1.5.0",
      "model_name": "HTMLModel",
      "state": {
       "layout": "IPY_MODEL_ad200846d5814ece84f4c5413ae8718d",
       "style": "IPY_MODEL_6eb595cd8e2b426aada37ec4af744c02",
       "value": "100%"
      }
     },
     "d7837c1672324b3a99338e67fca7f56b": {
      "model_module": "@jupyter-widgets/base",
      "model_module_version": "1.2.0",
      "model_name": "LayoutModel",
      "state": {}
     },
     "d7a2c380ad7a4d02ae6aba650d6b21d5": {
      "model_module": "@jupyter-widgets/controls",
      "model_module_version": "1.5.0",
      "model_name": "DescriptionStyleModel",
      "state": {
       "description_width": ""
      }
     },
     "d7e107b6ff39443a814fc820b02f730d": {
      "model_module": "@jupyter-widgets/controls",
      "model_module_version": "1.5.0",
      "model_name": "ProgressStyleModel",
      "state": {
       "description_width": ""
      }
     },
     "d801f0c0c7bc487e998d5633b9102f24": {
      "model_module": "@jupyter-widgets/controls",
      "model_module_version": "1.5.0",
      "model_name": "DescriptionStyleModel",
      "state": {
       "description_width": ""
      }
     },
     "d86aa59f4fed4b80a51791d573b6f85c": {
      "model_module": "@jupyter-widgets/controls",
      "model_module_version": "1.5.0",
      "model_name": "DescriptionStyleModel",
      "state": {
       "description_width": ""
      }
     },
     "d87116eea870403c8d699e346fada5dc": {
      "model_module": "@jupyter-widgets/controls",
      "model_module_version": "1.5.0",
      "model_name": "FloatProgressModel",
      "state": {
       "bar_style": "success",
       "layout": "IPY_MODEL_10a07898d3054a9d8983cfaf3efb58ab",
       "max": 5,
       "style": "IPY_MODEL_e31702ec76894f86ac16788dbe474749",
       "value": 5
      }
     },
     "d9c55ae0589f48ccbbe24a5af7086eea": {
      "model_module": "@jupyter-widgets/controls",
      "model_module_version": "1.5.0",
      "model_name": "DescriptionStyleModel",
      "state": {
       "description_width": ""
      }
     },
     "da8fdb823b98433ea46b4a96b5084999": {
      "model_module": "@jupyter-widgets/controls",
      "model_module_version": "1.5.0",
      "model_name": "HBoxModel",
      "state": {
       "children": [
        "IPY_MODEL_cba7a8c6bedc465f980dcb78d9f98d2c",
        "IPY_MODEL_925e2994c068451ab5a29143e018bdd9",
        "IPY_MODEL_ba2d9fd34ac84a90b07c976dd6877aa8"
       ],
       "layout": "IPY_MODEL_687d95fec7a545cd980ae358679129b0"
      }
     },
     "dae048dbb87e4b89ba3a7545e3408fc2": {
      "model_module": "@jupyter-widgets/controls",
      "model_module_version": "1.5.0",
      "model_name": "DescriptionStyleModel",
      "state": {
       "description_width": ""
      }
     },
     "dc2eb8616a0142c984fd284c1a32c382": {
      "model_module": "@jupyter-widgets/controls",
      "model_module_version": "1.5.0",
      "model_name": "HTMLModel",
      "state": {
       "layout": "IPY_MODEL_41a18de3a75340d6bda61310cdc7d652",
       "style": "IPY_MODEL_62a08a35c30e4b6a8649dc5c4283572e",
       "value": " 5/5 [00:00&lt;00:00, 81.89it/s]"
      }
     },
     "dc6fcd63c1a04761aceb4de7f2f1a7ef": {
      "model_module": "@jupyter-widgets/base",
      "model_module_version": "1.2.0",
      "model_name": "LayoutModel",
      "state": {}
     },
     "dd2f3894f0194f33b68c476a3fa7b837": {
      "model_module": "@jupyter-widgets/controls",
      "model_module_version": "1.5.0",
      "model_name": "FloatProgressModel",
      "state": {
       "bar_style": "success",
       "layout": "IPY_MODEL_88dfaa94721a450492aee016d90777cf",
       "max": 5,
       "style": "IPY_MODEL_8f770f759d33486b84b74622c23b6c75",
       "value": 5
      }
     },
     "dd4fb15f9abd4b018d54eaaebada8e3b": {
      "model_module": "@jupyter-widgets/controls",
      "model_module_version": "1.5.0",
      "model_name": "HTMLModel",
      "state": {
       "layout": "IPY_MODEL_a0bc56f2d4cb498a8f93431d4d7cdb01",
       "style": "IPY_MODEL_5d3a5e3b209143e190e4a7b96d058c9b",
       "value": "100%"
      }
     },
     "e0d55517173e4e84a6e410554ef4075d": {
      "model_module": "@jupyter-widgets/base",
      "model_module_version": "1.2.0",
      "model_name": "LayoutModel",
      "state": {}
     },
     "e0ed0aadec154af189015d441e5b6352": {
      "model_module": "@jupyter-widgets/controls",
      "model_module_version": "1.5.0",
      "model_name": "HTMLModel",
      "state": {
       "layout": "IPY_MODEL_857868353a9d4752a3024ea9adae1225",
       "style": "IPY_MODEL_7d609d0bd5404198a2ce493926f3e710",
       "value": " 5/5 [00:18&lt;00:00,  3.71s/it]"
      }
     },
     "e134c661bdb64d4e8aa8bffd362a319a": {
      "model_module": "@jupyter-widgets/base",
      "model_module_version": "1.2.0",
      "model_name": "LayoutModel",
      "state": {}
     },
     "e18fc4c2c99f4e198acdc5a1dfd70337": {
      "model_module": "@jupyter-widgets/controls",
      "model_module_version": "1.5.0",
      "model_name": "DescriptionStyleModel",
      "state": {
       "description_width": ""
      }
     },
     "e2573813556742f39f48240d7faabf9b": {
      "model_module": "@jupyter-widgets/controls",
      "model_module_version": "1.5.0",
      "model_name": "DescriptionStyleModel",
      "state": {
       "description_width": ""
      }
     },
     "e29fafe0c70245f8b3a2891bf124cb76": {
      "model_module": "@jupyter-widgets/controls",
      "model_module_version": "1.5.0",
      "model_name": "HBoxModel",
      "state": {
       "children": [
        "IPY_MODEL_c7708a266ba54326b532bcd3e73ad4cb",
        "IPY_MODEL_0514817af6194d7887407c0a05c871ea",
        "IPY_MODEL_24dfdf4d97f047639d3efadc45f277a0"
       ],
       "layout": "IPY_MODEL_89678cdef33342a3a3bff6801488e36e"
      }
     },
     "e31702ec76894f86ac16788dbe474749": {
      "model_module": "@jupyter-widgets/controls",
      "model_module_version": "1.5.0",
      "model_name": "ProgressStyleModel",
      "state": {
       "description_width": ""
      }
     },
     "e3c8ec7a318a441cb260178f277cf03f": {
      "model_module": "@jupyter-widgets/base",
      "model_module_version": "1.2.0",
      "model_name": "LayoutModel",
      "state": {}
     },
     "e3e0c1a080684d2fa63532f4f3be52ea": {
      "model_module": "@jupyter-widgets/controls",
      "model_module_version": "1.5.0",
      "model_name": "DescriptionStyleModel",
      "state": {
       "description_width": ""
      }
     },
     "e445a22a46644f919fb032ce271174ca": {
      "model_module": "@jupyter-widgets/base",
      "model_module_version": "1.2.0",
      "model_name": "LayoutModel",
      "state": {}
     },
     "e4647112eaa24cef830cfe4dcf432c80": {
      "model_module": "@jupyter-widgets/base",
      "model_module_version": "1.2.0",
      "model_name": "LayoutModel",
      "state": {}
     },
     "e480f60c56ae423c91c4c82db216e719": {
      "model_module": "@jupyter-widgets/base",
      "model_module_version": "1.2.0",
      "model_name": "LayoutModel",
      "state": {}
     },
     "e4b9d59ce9b746acabe4e45f0f916e3c": {
      "model_module": "@jupyter-widgets/controls",
      "model_module_version": "1.5.0",
      "model_name": "DescriptionStyleModel",
      "state": {
       "description_width": ""
      }
     },
     "e4eef2bc1cb648f38816db8e17b62de7": {
      "model_module": "@jupyter-widgets/base",
      "model_module_version": "1.2.0",
      "model_name": "LayoutModel",
      "state": {}
     },
     "e565e0c868c34b71b5241b5d8f3d186c": {
      "model_module": "@jupyter-widgets/base",
      "model_module_version": "1.2.0",
      "model_name": "LayoutModel",
      "state": {}
     },
     "e730cdd50de142d089aa8a75d6b9df03": {
      "model_module": "@jupyter-widgets/controls",
      "model_module_version": "1.5.0",
      "model_name": "HTMLModel",
      "state": {
       "layout": "IPY_MODEL_86fdc53746264e848e52def109490cd9",
       "style": "IPY_MODEL_6bbf5eceb280401195131afc95d88f3d",
       "value": "100%"
      }
     },
     "e7907d4abeae410da6465533b9d5e7ee": {
      "model_module": "@jupyter-widgets/base",
      "model_module_version": "1.2.0",
      "model_name": "LayoutModel",
      "state": {}
     },
     "e9affe4072de4b76b4c1218587b2fc83": {
      "model_module": "@jupyter-widgets/controls",
      "model_module_version": "1.5.0",
      "model_name": "HTMLModel",
      "state": {
       "layout": "IPY_MODEL_e4647112eaa24cef830cfe4dcf432c80",
       "style": "IPY_MODEL_5c9017a1e09d4f1198c81c40171dd282",
       "value": "100%"
      }
     },
     "e9b74ffb45c147fb98676e8b26b8eacb": {
      "model_module": "@jupyter-widgets/controls",
      "model_module_version": "1.5.0",
      "model_name": "HTMLModel",
      "state": {
       "layout": "IPY_MODEL_3fbbd597481349d3835f7cf22adcbb3a",
       "style": "IPY_MODEL_d7a2c380ad7a4d02ae6aba650d6b21d5",
       "value": " 5/5 [00:17&lt;00:00,  3.49s/it]"
      }
     },
     "e9beca60523542f9ad4066b05ab44502": {
      "model_module": "@jupyter-widgets/base",
      "model_module_version": "1.2.0",
      "model_name": "LayoutModel",
      "state": {}
     },
     "ea17c57a6335430aa90b94e27237aed5": {
      "model_module": "@jupyter-widgets/controls",
      "model_module_version": "1.5.0",
      "model_name": "HBoxModel",
      "state": {
       "children": [
        "IPY_MODEL_7a1e778209d4415e8b9afa97ac01974b",
        "IPY_MODEL_d87116eea870403c8d699e346fada5dc",
        "IPY_MODEL_b7b4faf88ac44f72bf3c1e22e4553633"
       ],
       "layout": "IPY_MODEL_9ee07f1c0f764e88a8df64b1694eb939"
      }
     },
     "ea8eafc3862a4e749f821b0e84d78b3f": {
      "model_module": "@jupyter-widgets/controls",
      "model_module_version": "1.5.0",
      "model_name": "FloatProgressModel",
      "state": {
       "bar_style": "success",
       "layout": "IPY_MODEL_5727a0d2e92945d1ad253879f420bda6",
       "max": 5,
       "style": "IPY_MODEL_97609c205a9d4f03908e7c10de30e576",
       "value": 5
      }
     },
     "eaaac90c73844f99a9633ab33826fdae": {
      "model_module": "@jupyter-widgets/base",
      "model_module_version": "1.2.0",
      "model_name": "LayoutModel",
      "state": {}
     },
     "ec2556bbfdaf40708de855262ab93fad": {
      "model_module": "@jupyter-widgets/controls",
      "model_module_version": "1.5.0",
      "model_name": "HBoxModel",
      "state": {
       "children": [
        "IPY_MODEL_452d705ce3ef4ac29768e42b649ff71a",
        "IPY_MODEL_4bfa6e175d5142678afb4526c975b227",
        "IPY_MODEL_4be1f2c9e83b4347b7a6a2a1290d5b21"
       ],
       "layout": "IPY_MODEL_9e932bf9ae404838a9863bac5c80bbfc"
      }
     },
     "ecb7ca5ee37e44138cc09d32a21c8fbe": {
      "model_module": "@jupyter-widgets/controls",
      "model_module_version": "1.5.0",
      "model_name": "FloatProgressModel",
      "state": {
       "bar_style": "success",
       "layout": "IPY_MODEL_eaaac90c73844f99a9633ab33826fdae",
       "max": 5,
       "style": "IPY_MODEL_6ea4f0cc1e684177983088281b4a5ca5",
       "value": 5
      }
     },
     "ed0527fea7f44c01b0c3eb9a812b673a": {
      "model_module": "@jupyter-widgets/base",
      "model_module_version": "1.2.0",
      "model_name": "LayoutModel",
      "state": {}
     },
     "ee2a4d59b14f4a569d1e0325731d2cc1": {
      "model_module": "@jupyter-widgets/controls",
      "model_module_version": "1.5.0",
      "model_name": "FloatProgressModel",
      "state": {
       "bar_style": "success",
       "layout": "IPY_MODEL_c719b32ecdea49509ebf2372ff4aca74",
       "max": 5,
       "style": "IPY_MODEL_17bdd5f7695b4a819152b36b7969415c",
       "value": 5
      }
     },
     "ee33f626346641ddaf5a75cdf5b425c9": {
      "model_module": "@jupyter-widgets/controls",
      "model_module_version": "1.5.0",
      "model_name": "ProgressStyleModel",
      "state": {
       "description_width": ""
      }
     },
     "ee588bd252fd473c954c7dc809b1bfc0": {
      "model_module": "@jupyter-widgets/base",
      "model_module_version": "1.2.0",
      "model_name": "LayoutModel",
      "state": {}
     },
     "ef14608018e54544ac9caf90121f7b95": {
      "model_module": "@jupyter-widgets/controls",
      "model_module_version": "1.5.0",
      "model_name": "HTMLModel",
      "state": {
       "layout": "IPY_MODEL_e565e0c868c34b71b5241b5d8f3d186c",
       "style": "IPY_MODEL_71c64d9a0dff4a288f365f97d7af945a",
       "value": "100%"
      }
     },
     "ef80ba766ab64e038afe58ddb1f96dc0": {
      "model_module": "@jupyter-widgets/controls",
      "model_module_version": "1.5.0",
      "model_name": "HTMLModel",
      "state": {
       "layout": "IPY_MODEL_14092f8b678b449cab0a6fee1ec102c0",
       "style": "IPY_MODEL_69a0120ae409455da2d9d59ae2670e72",
       "value": " 5/5 [00:00&lt;00:00, 54.90it/s]"
      }
     },
     "f017c4fb107b4cc9a1c10683f3c55d34": {
      "model_module": "@jupyter-widgets/controls",
      "model_module_version": "1.5.0",
      "model_name": "HTMLModel",
      "state": {
       "layout": "IPY_MODEL_1fa89c27ec3f4eab878a8af83c7b0205",
       "style": "IPY_MODEL_2447b87a55cd44ceb0f823bd73890c4d",
       "value": " 5/5 [00:00&lt;00:00, 56.77it/s]"
      }
     },
     "f0ada422f7ab41f39cf75b78966ea307": {
      "model_module": "@jupyter-widgets/controls",
      "model_module_version": "1.5.0",
      "model_name": "HBoxModel",
      "state": {
       "children": [
        "IPY_MODEL_808a67f9970d4cc3b4c1b9bce29fe788",
        "IPY_MODEL_1d4288f55b2a45ec8c5484b9e2c7ba1f",
        "IPY_MODEL_a818c28ee7024a2ea786aa86e0fd374d"
       ],
       "layout": "IPY_MODEL_e9beca60523542f9ad4066b05ab44502"
      }
     },
     "f0c5a6662de94039a373cc7d2176a12f": {
      "model_module": "@jupyter-widgets/base",
      "model_module_version": "1.2.0",
      "model_name": "LayoutModel",
      "state": {}
     },
     "f121e3b132604745bcc3a47b387723d0": {
      "model_module": "@jupyter-widgets/controls",
      "model_module_version": "1.5.0",
      "model_name": "DescriptionStyleModel",
      "state": {
       "description_width": ""
      }
     },
     "f2c47a8b27d94340b9ab537a952187bc": {
      "model_module": "@jupyter-widgets/base",
      "model_module_version": "1.2.0",
      "model_name": "LayoutModel",
      "state": {}
     },
     "f3f565a33a1d4e679448ef1753ebc047": {
      "model_module": "@jupyter-widgets/controls",
      "model_module_version": "1.5.0",
      "model_name": "ProgressStyleModel",
      "state": {
       "description_width": ""
      }
     },
     "f46c6d8f74da484ab9efc147b8a38607": {
      "model_module": "@jupyter-widgets/base",
      "model_module_version": "1.2.0",
      "model_name": "LayoutModel",
      "state": {}
     },
     "f48649de9b974bf4ad3fe188e19b7f1d": {
      "model_module": "@jupyter-widgets/base",
      "model_module_version": "1.2.0",
      "model_name": "LayoutModel",
      "state": {}
     },
     "f4fd8bb2290840f5a5a75219bf4d04af": {
      "model_module": "@jupyter-widgets/base",
      "model_module_version": "1.2.0",
      "model_name": "LayoutModel",
      "state": {}
     },
     "f539c3ff22634bf791c77f167366145e": {
      "model_module": "@jupyter-widgets/controls",
      "model_module_version": "1.5.0",
      "model_name": "DescriptionStyleModel",
      "state": {
       "description_width": ""
      }
     },
     "f68b8ebacb9346ecb4c82312bedf743c": {
      "model_module": "@jupyter-widgets/controls",
      "model_module_version": "1.5.0",
      "model_name": "HTMLModel",
      "state": {
       "layout": "IPY_MODEL_e4eef2bc1cb648f38816db8e17b62de7",
       "style": "IPY_MODEL_3c6e64f35b7244ef88b739f2ff4fdf81",
       "value": "100%"
      }
     },
     "f71078316d9240948ef903a961c207bd": {
      "model_module": "@jupyter-widgets/controls",
      "model_module_version": "1.5.0",
      "model_name": "FloatProgressModel",
      "state": {
       "bar_style": "success",
       "layout": "IPY_MODEL_76149e08015545d6808604d605962980",
       "max": 5,
       "style": "IPY_MODEL_81d778b789464bdda6f986e2f576f670",
       "value": 5
      }
     },
     "f78073d17a574970b1169cc921afe9f4": {
      "model_module": "@jupyter-widgets/base",
      "model_module_version": "1.2.0",
      "model_name": "LayoutModel",
      "state": {}
     },
     "f8225547f8bb4bb8b84e5c62ae92a33e": {
      "model_module": "@jupyter-widgets/controls",
      "model_module_version": "1.5.0",
      "model_name": "DescriptionStyleModel",
      "state": {
       "description_width": ""
      }
     },
     "f9c04fe5723e4da78589f13c46631fe3": {
      "model_module": "@jupyter-widgets/base",
      "model_module_version": "1.2.0",
      "model_name": "LayoutModel",
      "state": {}
     },
     "fbad128edb064112a8ecd71e4509f7d2": {
      "model_module": "@jupyter-widgets/controls",
      "model_module_version": "1.5.0",
      "model_name": "HTMLModel",
      "state": {
       "layout": "IPY_MODEL_2b93bbd043b048a19e50245716224276",
       "style": "IPY_MODEL_e18fc4c2c99f4e198acdc5a1dfd70337",
       "value": "100%"
      }
     },
     "fc6a1ea75f6f4e62a5b230a026a4bd1f": {
      "model_module": "@jupyter-widgets/controls",
      "model_module_version": "1.5.0",
      "model_name": "HTMLModel",
      "state": {
       "layout": "IPY_MODEL_5cd3310e07ee4820857dff2b00adcb52",
       "style": "IPY_MODEL_8aaefed3b6c54394b2014b9f125b4b1e",
       "value": "100%"
      }
     },
     "fc8506f693064a2ca32634848db79be9": {
      "model_module": "@jupyter-widgets/base",
      "model_module_version": "1.2.0",
      "model_name": "LayoutModel",
      "state": {}
     }
    },
    "version_major": 2,
    "version_minor": 0
   }
  }
 },
 "nbformat": 4,
 "nbformat_minor": 4
}
