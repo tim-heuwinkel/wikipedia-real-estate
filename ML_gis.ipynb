{
 "cells": [
  {
   "cell_type": "markdown",
   "metadata": {},
   "source": [
    "# Machine learning with GIS based housing data"
   ]
  },
  {
   "cell_type": "markdown",
   "metadata": {},
   "source": [
    "Experimenting with GIS based housing data."
   ]
  },
  {
   "cell_type": "markdown",
   "metadata": {},
   "source": [
    "### Import packages"
   ]
  },
  {
   "cell_type": "code",
   "execution_count": 1,
   "metadata": {},
   "outputs": [],
   "source": [
    "import json\n",
    "import math\n",
    "import warnings\n",
    "warnings.filterwarnings(action=\"ignore\")\n",
    "\n",
    "from catboost import CatBoostRegressor\n",
    "import xgboost as xgb\n",
    "\n",
    "from sklearn.metrics import mean_absolute_error, r2_score, mean_squared_error\n",
    "from sklearn.preprocessing import StandardScaler\n",
    "from sklearn.model_selection import train_test_split, RandomizedSearchCV, KFold\n",
    "from sklearn.ensemble import RandomForestClassifier\n",
    "from sklearn import linear_model\n",
    "\n",
    "from utils import make_train_test, get_metrics, cross_validation, soos_validation\n",
    "\n",
    "import matplotlib.pyplot as plt\n",
    "import numpy as np\n",
    "import pandas as pd\n",
    "from tqdm.notebook import tqdm\n",
    "from IPython.display import display_html"
   ]
  },
  {
   "cell_type": "markdown",
   "metadata": {},
   "source": [
    "Definde constants.\n",
    "\n",
    "- ``PATH``: Path to the base data folder\n",
    "- ``COUNT_RADIUS``: Maximum distance for count based features\n",
    "- ``K_FOLDS``: Number of folds to perform for cross validation"
   ]
  },
  {
   "cell_type": "code",
   "execution_count": 2,
   "metadata": {},
   "outputs": [],
   "source": [
    "PATH = \"C:/Users/Tim/.keras/datasets/wikipedia_real_estate/\"\n",
    "COUNT_RADIUS = 3500  # in meters\n",
    "K_FOLDS = 5\n",
    "DUMMIES = []"
   ]
  },
  {
   "cell_type": "markdown",
   "metadata": {},
   "source": [
    "Load structured data with added GIS features."
   ]
  },
  {
   "cell_type": "code",
   "execution_count": 3,
   "metadata": {},
   "outputs": [
    {
     "name": "stdout",
     "output_type": "stream",
     "text": [
      "(9556, 137)\n"
     ]
    },
    {
     "data": {
      "text/html": [
       "<div>\n",
       "<style scoped>\n",
       "    .dataframe tbody tr th:only-of-type {\n",
       "        vertical-align: middle;\n",
       "    }\n",
       "\n",
       "    .dataframe tbody tr th {\n",
       "        vertical-align: top;\n",
       "    }\n",
       "\n",
       "    .dataframe thead th {\n",
       "        text-align: right;\n",
       "    }\n",
       "</style>\n",
       "<table border=\"1\" class=\"dataframe\">\n",
       "  <thead>\n",
       "    <tr style=\"text-align: right;\">\n",
       "      <th></th>\n",
       "      <th>_id</th>\n",
       "      <th>PROPERTYZIP</th>\n",
       "      <th>MUNICODE</th>\n",
       "      <th>SCHOOLCODE</th>\n",
       "      <th>NEIGHCODE</th>\n",
       "      <th>LOTAREA</th>\n",
       "      <th>SALEDATE</th>\n",
       "      <th>SALEPRICE</th>\n",
       "      <th>FAIRMARKETTOTAL</th>\n",
       "      <th>STORIES</th>\n",
       "      <th>...</th>\n",
       "      <th>apartment_buildings_dist</th>\n",
       "      <th>apartment_buildings_count</th>\n",
       "      <th>faith-based_facilities_dist</th>\n",
       "      <th>faith-based_facilities_count</th>\n",
       "      <th>restaurants_dist</th>\n",
       "      <th>restaurants_count</th>\n",
       "      <th>community_nonprofit_orgs_dist</th>\n",
       "      <th>community_nonprofit_orgs_count</th>\n",
       "      <th>bus_stops_dist</th>\n",
       "      <th>bus_stops_count</th>\n",
       "    </tr>\n",
       "  </thead>\n",
       "  <tbody>\n",
       "    <tr>\n",
       "      <th>0</th>\n",
       "      <td>427021</td>\n",
       "      <td>15037</td>\n",
       "      <td>908</td>\n",
       "      <td>16</td>\n",
       "      <td>90803</td>\n",
       "      <td>10276</td>\n",
       "      <td>04-21-2017</td>\n",
       "      <td>179900.0</td>\n",
       "      <td>157200</td>\n",
       "      <td>2.0</td>\n",
       "      <td>...</td>\n",
       "      <td>1295.712181</td>\n",
       "      <td>2</td>\n",
       "      <td>430.854222</td>\n",
       "      <td>3</td>\n",
       "      <td>766.161991</td>\n",
       "      <td>11</td>\n",
       "      <td>430.131485</td>\n",
       "      <td>34</td>\n",
       "      <td>4100.223256</td>\n",
       "      <td>0</td>\n",
       "    </tr>\n",
       "    <tr>\n",
       "      <th>1</th>\n",
       "      <td>428296</td>\n",
       "      <td>15106</td>\n",
       "      <td>850</td>\n",
       "      <td>7</td>\n",
       "      <td>85002</td>\n",
       "      <td>9375</td>\n",
       "      <td>12-27-2019</td>\n",
       "      <td>185000.0</td>\n",
       "      <td>180400</td>\n",
       "      <td>1.5</td>\n",
       "      <td>...</td>\n",
       "      <td>1855.096394</td>\n",
       "      <td>29</td>\n",
       "      <td>1418.878172</td>\n",
       "      <td>23</td>\n",
       "      <td>556.515602</td>\n",
       "      <td>79</td>\n",
       "      <td>132.952974</td>\n",
       "      <td>140</td>\n",
       "      <td>952.974317</td>\n",
       "      <td>193</td>\n",
       "    </tr>\n",
       "    <tr>\n",
       "      <th>2</th>\n",
       "      <td>428307</td>\n",
       "      <td>15237</td>\n",
       "      <td>927</td>\n",
       "      <td>27</td>\n",
       "      <td>92705</td>\n",
       "      <td>14827</td>\n",
       "      <td>01-17-2017</td>\n",
       "      <td>226400.0</td>\n",
       "      <td>167900</td>\n",
       "      <td>1.0</td>\n",
       "      <td>...</td>\n",
       "      <td>720.786679</td>\n",
       "      <td>21</td>\n",
       "      <td>921.939028</td>\n",
       "      <td>16</td>\n",
       "      <td>625.040058</td>\n",
       "      <td>73</td>\n",
       "      <td>322.297063</td>\n",
       "      <td>105</td>\n",
       "      <td>982.293948</td>\n",
       "      <td>122</td>\n",
       "    </tr>\n",
       "    <tr>\n",
       "      <th>3</th>\n",
       "      <td>230894</td>\n",
       "      <td>15236</td>\n",
       "      <td>877</td>\n",
       "      <td>4</td>\n",
       "      <td>87702</td>\n",
       "      <td>8206</td>\n",
       "      <td>08-17-2018</td>\n",
       "      <td>140500.0</td>\n",
       "      <td>122800</td>\n",
       "      <td>1.0</td>\n",
       "      <td>...</td>\n",
       "      <td>755.689725</td>\n",
       "      <td>30</td>\n",
       "      <td>924.038244</td>\n",
       "      <td>27</td>\n",
       "      <td>761.305188</td>\n",
       "      <td>99</td>\n",
       "      <td>23.971638</td>\n",
       "      <td>145</td>\n",
       "      <td>151.018551</td>\n",
       "      <td>174</td>\n",
       "    </tr>\n",
       "    <tr>\n",
       "      <th>4</th>\n",
       "      <td>231082</td>\n",
       "      <td>15241</td>\n",
       "      <td>950</td>\n",
       "      <td>42</td>\n",
       "      <td>95002</td>\n",
       "      <td>13050</td>\n",
       "      <td>07-17-2020</td>\n",
       "      <td>365000.0</td>\n",
       "      <td>255300</td>\n",
       "      <td>2.0</td>\n",
       "      <td>...</td>\n",
       "      <td>1274.896936</td>\n",
       "      <td>6</td>\n",
       "      <td>1823.857016</td>\n",
       "      <td>20</td>\n",
       "      <td>890.492128</td>\n",
       "      <td>54</td>\n",
       "      <td>31.019148</td>\n",
       "      <td>118</td>\n",
       "      <td>1132.092745</td>\n",
       "      <td>90</td>\n",
       "    </tr>\n",
       "    <tr>\n",
       "      <th>5</th>\n",
       "      <td>429294</td>\n",
       "      <td>15220</td>\n",
       "      <td>120</td>\n",
       "      <td>47</td>\n",
       "      <td>12001</td>\n",
       "      <td>10553</td>\n",
       "      <td>04-04-2017</td>\n",
       "      <td>203500.0</td>\n",
       "      <td>152900</td>\n",
       "      <td>1.0</td>\n",
       "      <td>...</td>\n",
       "      <td>836.578377</td>\n",
       "      <td>62</td>\n",
       "      <td>736.642125</td>\n",
       "      <td>47</td>\n",
       "      <td>349.591633</td>\n",
       "      <td>173</td>\n",
       "      <td>345.953494</td>\n",
       "      <td>293</td>\n",
       "      <td>335.095565</td>\n",
       "      <td>336</td>\n",
       "    </tr>\n",
       "    <tr>\n",
       "      <th>6</th>\n",
       "      <td>429419</td>\n",
       "      <td>15237</td>\n",
       "      <td>940</td>\n",
       "      <td>28</td>\n",
       "      <td>94002</td>\n",
       "      <td>11266</td>\n",
       "      <td>08-12-2019</td>\n",
       "      <td>226000.0</td>\n",
       "      <td>133700</td>\n",
       "      <td>1.0</td>\n",
       "      <td>...</td>\n",
       "      <td>286.150889</td>\n",
       "      <td>23</td>\n",
       "      <td>236.638991</td>\n",
       "      <td>21</td>\n",
       "      <td>335.390755</td>\n",
       "      <td>109</td>\n",
       "      <td>617.593485</td>\n",
       "      <td>125</td>\n",
       "      <td>160.819866</td>\n",
       "      <td>182</td>\n",
       "    </tr>\n",
       "    <tr>\n",
       "      <th>7</th>\n",
       "      <td>430193</td>\n",
       "      <td>15122</td>\n",
       "      <td>870</td>\n",
       "      <td>45</td>\n",
       "      <td>87002</td>\n",
       "      <td>12445</td>\n",
       "      <td>09-08-2020</td>\n",
       "      <td>80000.0</td>\n",
       "      <td>68500</td>\n",
       "      <td>2.0</td>\n",
       "      <td>...</td>\n",
       "      <td>1346.471821</td>\n",
       "      <td>15</td>\n",
       "      <td>531.013014</td>\n",
       "      <td>57</td>\n",
       "      <td>529.601447</td>\n",
       "      <td>84</td>\n",
       "      <td>342.584995</td>\n",
       "      <td>153</td>\n",
       "      <td>36.344021</td>\n",
       "      <td>371</td>\n",
       "    </tr>\n",
       "    <tr>\n",
       "      <th>8</th>\n",
       "      <td>430698</td>\n",
       "      <td>15143</td>\n",
       "      <td>884</td>\n",
       "      <td>27</td>\n",
       "      <td>88405</td>\n",
       "      <td>100188</td>\n",
       "      <td>04-04-2018</td>\n",
       "      <td>295000.0</td>\n",
       "      <td>250800</td>\n",
       "      <td>1.0</td>\n",
       "      <td>...</td>\n",
       "      <td>1869.882119</td>\n",
       "      <td>1</td>\n",
       "      <td>1839.573113</td>\n",
       "      <td>9</td>\n",
       "      <td>2127.553934</td>\n",
       "      <td>6</td>\n",
       "      <td>783.373282</td>\n",
       "      <td>50</td>\n",
       "      <td>5551.757438</td>\n",
       "      <td>0</td>\n",
       "    </tr>\n",
       "    <tr>\n",
       "      <th>9</th>\n",
       "      <td>431954</td>\n",
       "      <td>15136</td>\n",
       "      <td>919</td>\n",
       "      <td>24</td>\n",
       "      <td>91901</td>\n",
       "      <td>11587</td>\n",
       "      <td>01-04-2017</td>\n",
       "      <td>280000.0</td>\n",
       "      <td>244700</td>\n",
       "      <td>2.0</td>\n",
       "      <td>...</td>\n",
       "      <td>1002.117208</td>\n",
       "      <td>6</td>\n",
       "      <td>895.534897</td>\n",
       "      <td>8</td>\n",
       "      <td>850.532377</td>\n",
       "      <td>39</td>\n",
       "      <td>268.493993</td>\n",
       "      <td>60</td>\n",
       "      <td>373.789015</td>\n",
       "      <td>165</td>\n",
       "    </tr>\n",
       "  </tbody>\n",
       "</table>\n",
       "<p>10 rows × 137 columns</p>\n",
       "</div>"
      ],
      "text/plain": [
       "      _id  PROPERTYZIP  MUNICODE  SCHOOLCODE  NEIGHCODE  LOTAREA    SALEDATE  \\\n",
       "0  427021        15037       908          16      90803    10276  04-21-2017   \n",
       "1  428296        15106       850           7      85002     9375  12-27-2019   \n",
       "2  428307        15237       927          27      92705    14827  01-17-2017   \n",
       "3  230894        15236       877           4      87702     8206  08-17-2018   \n",
       "4  231082        15241       950          42      95002    13050  07-17-2020   \n",
       "5  429294        15220       120          47      12001    10553  04-04-2017   \n",
       "6  429419        15237       940          28      94002    11266  08-12-2019   \n",
       "7  430193        15122       870          45      87002    12445  09-08-2020   \n",
       "8  430698        15143       884          27      88405   100188  04-04-2018   \n",
       "9  431954        15136       919          24      91901    11587  01-04-2017   \n",
       "\n",
       "   SALEPRICE  FAIRMARKETTOTAL  STORIES  ...  apartment_buildings_dist  \\\n",
       "0   179900.0           157200      2.0  ...               1295.712181   \n",
       "1   185000.0           180400      1.5  ...               1855.096394   \n",
       "2   226400.0           167900      1.0  ...                720.786679   \n",
       "3   140500.0           122800      1.0  ...                755.689725   \n",
       "4   365000.0           255300      2.0  ...               1274.896936   \n",
       "5   203500.0           152900      1.0  ...                836.578377   \n",
       "6   226000.0           133700      1.0  ...                286.150889   \n",
       "7    80000.0            68500      2.0  ...               1346.471821   \n",
       "8   295000.0           250800      1.0  ...               1869.882119   \n",
       "9   280000.0           244700      2.0  ...               1002.117208   \n",
       "\n",
       "   apartment_buildings_count  faith-based_facilities_dist  \\\n",
       "0                          2                   430.854222   \n",
       "1                         29                  1418.878172   \n",
       "2                         21                   921.939028   \n",
       "3                         30                   924.038244   \n",
       "4                          6                  1823.857016   \n",
       "5                         62                   736.642125   \n",
       "6                         23                   236.638991   \n",
       "7                         15                   531.013014   \n",
       "8                          1                  1839.573113   \n",
       "9                          6                   895.534897   \n",
       "\n",
       "   faith-based_facilities_count  restaurants_dist  restaurants_count  \\\n",
       "0                             3        766.161991                 11   \n",
       "1                            23        556.515602                 79   \n",
       "2                            16        625.040058                 73   \n",
       "3                            27        761.305188                 99   \n",
       "4                            20        890.492128                 54   \n",
       "5                            47        349.591633                173   \n",
       "6                            21        335.390755                109   \n",
       "7                            57        529.601447                 84   \n",
       "8                             9       2127.553934                  6   \n",
       "9                             8        850.532377                 39   \n",
       "\n",
       "   community_nonprofit_orgs_dist  community_nonprofit_orgs_count  \\\n",
       "0                     430.131485                              34   \n",
       "1                     132.952974                             140   \n",
       "2                     322.297063                             105   \n",
       "3                      23.971638                             145   \n",
       "4                      31.019148                             118   \n",
       "5                     345.953494                             293   \n",
       "6                     617.593485                             125   \n",
       "7                     342.584995                             153   \n",
       "8                     783.373282                              50   \n",
       "9                     268.493993                              60   \n",
       "\n",
       "   bus_stops_dist  bus_stops_count  \n",
       "0     4100.223256                0  \n",
       "1      952.974317              193  \n",
       "2      982.293948              122  \n",
       "3      151.018551              174  \n",
       "4     1132.092745               90  \n",
       "5      335.095565              336  \n",
       "6      160.819866              182  \n",
       "7       36.344021              371  \n",
       "8     5551.757438                0  \n",
       "9      373.789015              165  \n",
       "\n",
       "[10 rows x 137 columns]"
      ]
     },
     "execution_count": 3,
     "metadata": {},
     "output_type": "execute_result"
    }
   ],
   "source": [
    "structured_gis = pd.read_csv(PATH+f\"structured_gis_category_features_{COUNT_RADIUS}_radius.csv\")\n",
    "print(structured_gis.shape)\n",
    "structured_gis.head(10)"
   ]
  },
  {
   "cell_type": "markdown",
   "metadata": {},
   "source": [
    "Create results df"
   ]
  },
  {
   "cell_type": "code",
   "execution_count": 4,
   "metadata": {},
   "outputs": [],
   "source": [
    "results_df = pd.DataFrame()"
   ]
  },
  {
   "cell_type": "markdown",
   "metadata": {},
   "source": [
    "## Only distance to nearest"
   ]
  },
  {
   "cell_type": "markdown",
   "metadata": {},
   "source": [
    "Filter out all ``_count`` features."
   ]
  },
  {
   "cell_type": "code",
   "execution_count": 5,
   "metadata": {},
   "outputs": [
    {
     "data": {
      "text/plain": [
       "(9556, 101)"
      ]
     },
     "execution_count": 5,
     "metadata": {},
     "output_type": "execute_result"
    }
   ],
   "source": [
    "structured_gis_dist = structured_gis[[col for col in structured_gis.columns if \"_count\" not in col]]\n",
    "structured_gis_dist.shape"
   ]
  },
  {
   "cell_type": "code",
   "execution_count": 6,
   "metadata": {},
   "outputs": [
    {
     "name": "stdout",
     "output_type": "stream",
     "text": [
      "\n",
      "(7167, 89): (5375, 89) + (1792, 89)\n",
      "(7167,): (5375,) + (1792,)\n",
      "(2389, 89)\n",
      "(2389,)\n"
     ]
    }
   ],
   "source": [
    "X_columns, data_sets, error_df = make_train_test(structured_gis_dist, DUMMIES)\n",
    "X, y, X_train, X_test, y_train, y_test, X_train_train, X_train_val, y_train_train, y_train_val = data_sets"
   ]
  },
  {
   "cell_type": "markdown",
   "metadata": {},
   "source": [
    "### Linear regression"
   ]
  },
  {
   "cell_type": "code",
   "execution_count": 7,
   "metadata": {},
   "outputs": [
    {
     "data": {
      "text/plain": [
       "Lasso()"
      ]
     },
     "execution_count": 7,
     "metadata": {},
     "output_type": "execute_result"
    }
   ],
   "source": [
    "# model_01 = linear_model.LinearRegression()\n",
    "model_01 = linear_model.Lasso()\n",
    "# model_01 = linear_model.Ridge()\n",
    "model_01.fit(X_train, y_train)"
   ]
  },
  {
   "cell_type": "code",
   "execution_count": 8,
   "metadata": {},
   "outputs": [
    {
     "name": "stdout",
     "output_type": "stream",
     "text": [
      "MAE:  39367\n",
      "RMSE: 55089\n",
      "MAPE: 24.25%\n",
      "R^2:  0.829\n"
     ]
    }
   ],
   "source": [
    "y_pred_01 = model_01.predict(X_test)\n",
    "metrics = get_metrics(y_test, y_pred_01)"
   ]
  },
  {
   "cell_type": "markdown",
   "metadata": {},
   "source": [
    "Cross validation"
   ]
  },
  {
   "cell_type": "code",
   "execution_count": 9,
   "metadata": {},
   "outputs": [
    {
     "data": {
      "application/vnd.jupyter.widget-view+json": {
       "model_id": "aa6e856f8ab5446580d36dfb6468e21c",
       "version_major": 2,
       "version_minor": 0
      },
      "text/plain": [
       "  0%|          | 0/5 [00:00<?, ?it/s]"
      ]
     },
     "metadata": {},
     "output_type": "display_data"
    },
    {
     "name": "stdout",
     "output_type": "stream",
     "text": [
      "\n",
      "MAE:  41501\n",
      "RMSE: 58637\n",
      "MAPE: 26.38%\n",
      "R^2:  0.815\n"
     ]
    }
   ],
   "source": [
    "results_df[\"Linear: S+D\"], X_01_columns = cross_validation(model_01, X, y, K_FOLDS)"
   ]
  },
  {
   "cell_type": "markdown",
   "metadata": {},
   "source": [
    "### Catboost"
   ]
  },
  {
   "cell_type": "code",
   "execution_count": 10,
   "metadata": {
    "scrolled": true
   },
   "outputs": [
    {
     "data": {
      "text/plain": [
       "<catboost.core.CatBoostRegressor at 0x1a6b5afeb48>"
      ]
     },
     "execution_count": 10,
     "metadata": {},
     "output_type": "execute_result"
    }
   ],
   "source": [
    "model_02 = CatBoostRegressor()\n",
    "model_02.fit(X=X_train, y=y_train, verbose=False)"
   ]
  },
  {
   "cell_type": "code",
   "execution_count": 11,
   "metadata": {},
   "outputs": [
    {
     "name": "stdout",
     "output_type": "stream",
     "text": [
      "MAE:  28725\n",
      "RMSE: 41493\n",
      "MAPE: 16.59%\n",
      "R^2:  0.903\n"
     ]
    }
   ],
   "source": [
    "y_pred_02 = model_02.predict(X_test)\n",
    "metrics = get_metrics(y_test, y_pred_02)"
   ]
  },
  {
   "cell_type": "markdown",
   "metadata": {},
   "source": [
    "Cross validation"
   ]
  },
  {
   "cell_type": "code",
   "execution_count": 12,
   "metadata": {},
   "outputs": [
    {
     "data": {
      "application/vnd.jupyter.widget-view+json": {
       "model_id": "55db1ff67e9443908cb62a4fba4fae6f",
       "version_major": 2,
       "version_minor": 0
      },
      "text/plain": [
       "  0%|          | 0/5 [00:00<?, ?it/s]"
      ]
     },
     "metadata": {},
     "output_type": "display_data"
    },
    {
     "name": "stdout",
     "output_type": "stream",
     "text": [
      "\n",
      "MAE:  29852\n",
      "RMSE: 44221\n",
      "MAPE: 17.72%\n",
      "R^2:  0.895\n"
     ]
    }
   ],
   "source": [
    "results_df[\"Catboost: S+D\"], X_02_columns = cross_validation(model_02, X, y, K_FOLDS)"
   ]
  },
  {
   "cell_type": "markdown",
   "metadata": {},
   "source": [
    "## Distance to nearest and count in radius"
   ]
  },
  {
   "cell_type": "markdown",
   "metadata": {},
   "source": [
    "Make train/test set for ``_dist`` and ``_count`` features"
   ]
  },
  {
   "cell_type": "code",
   "execution_count": 13,
   "metadata": {},
   "outputs": [
    {
     "name": "stdout",
     "output_type": "stream",
     "text": [
      "\n",
      "(7167, 125): (5375, 125) + (1792, 125)\n",
      "(7167,): (5375,) + (1792,)\n",
      "(2389, 125)\n",
      "(2389,)\n"
     ]
    }
   ],
   "source": [
    "X_columns, data_sets, error_df = make_train_test(structured_gis, DUMMIES)\n",
    "X, y, X_train, X_test, y_train, y_test, X_train_train, X_train_val, y_train_train, y_train_val = data_sets"
   ]
  },
  {
   "cell_type": "markdown",
   "metadata": {},
   "source": [
    "### Linear regression"
   ]
  },
  {
   "cell_type": "code",
   "execution_count": 14,
   "metadata": {},
   "outputs": [
    {
     "data": {
      "text/plain": [
       "Ridge()"
      ]
     },
     "execution_count": 14,
     "metadata": {},
     "output_type": "execute_result"
    }
   ],
   "source": [
    "# model_03 = linear_model.LinearRegression()\n",
    "# model_03 = linear_model.Lasso()\n",
    "model_03 = linear_model.Ridge()\n",
    "model_03.fit(X_train, y_train)"
   ]
  },
  {
   "cell_type": "code",
   "execution_count": 15,
   "metadata": {},
   "outputs": [
    {
     "name": "stdout",
     "output_type": "stream",
     "text": [
      "MAE:  35561\n",
      "RMSE: 49586\n",
      "MAPE: 22.33%\n",
      "R^2:  0.862\n"
     ]
    }
   ],
   "source": [
    "y_pred_03 = model_03.predict(X_test)\n",
    "metrics = get_metrics(y_test, y_pred_03)"
   ]
  },
  {
   "cell_type": "markdown",
   "metadata": {},
   "source": [
    "Cross validation"
   ]
  },
  {
   "cell_type": "code",
   "execution_count": 16,
   "metadata": {},
   "outputs": [
    {
     "data": {
      "application/vnd.jupyter.widget-view+json": {
       "model_id": "bc1a62b39f5d4b909e1ddda820963587",
       "version_major": 2,
       "version_minor": 0
      },
      "text/plain": [
       "  0%|          | 0/5 [00:00<?, ?it/s]"
      ]
     },
     "metadata": {},
     "output_type": "display_data"
    },
    {
     "name": "stdout",
     "output_type": "stream",
     "text": [
      "\n",
      "MAE:  37300\n",
      "RMSE: 52906\n",
      "MAPE: 23.78%\n",
      "R^2:  0.85\n"
     ]
    }
   ],
   "source": [
    "results_df[\"Linear: S+D+C\"], X_03_columns = cross_validation(model_03, X, y, K_FOLDS)"
   ]
  },
  {
   "cell_type": "markdown",
   "metadata": {},
   "source": [
    "### Catboost"
   ]
  },
  {
   "cell_type": "code",
   "execution_count": 17,
   "metadata": {},
   "outputs": [
    {
     "data": {
      "text/plain": [
       "<catboost.core.CatBoostRegressor at 0x1a6b5b075c8>"
      ]
     },
     "execution_count": 17,
     "metadata": {},
     "output_type": "execute_result"
    }
   ],
   "source": [
    "model_04 = CatBoostRegressor()\n",
    "model_04.fit(X=X_train, y=y_train, verbose=False)"
   ]
  },
  {
   "cell_type": "code",
   "execution_count": 18,
   "metadata": {},
   "outputs": [
    {
     "name": "stdout",
     "output_type": "stream",
     "text": [
      "MAE:  28098\n",
      "RMSE: 40853\n",
      "MAPE: 15.98%\n",
      "R^2:  0.906\n"
     ]
    }
   ],
   "source": [
    "y_pred_04 = model_04.predict(X_test)\n",
    "metrics = get_metrics(y_test, y_pred_04)"
   ]
  },
  {
   "cell_type": "code",
   "execution_count": 19,
   "metadata": {},
   "outputs": [],
   "source": [
    "error_df[\"catboost\"] = [test - pred for test, pred in zip(y_test, y_pred_04)]"
   ]
  },
  {
   "cell_type": "markdown",
   "metadata": {},
   "source": [
    "Cross validation"
   ]
  },
  {
   "cell_type": "code",
   "execution_count": 20,
   "metadata": {},
   "outputs": [
    {
     "data": {
      "application/vnd.jupyter.widget-view+json": {
       "model_id": "80a6e06a067442fcbb3a5d94cfc0bc22",
       "version_major": 2,
       "version_minor": 0
      },
      "text/plain": [
       "  0%|          | 0/5 [00:00<?, ?it/s]"
      ]
     },
     "metadata": {},
     "output_type": "display_data"
    },
    {
     "name": "stdout",
     "output_type": "stream",
     "text": [
      "\n",
      "MAE:  29161\n",
      "RMSE: 43369\n",
      "MAPE: 17.15%\n",
      "R^2:  0.899\n"
     ]
    }
   ],
   "source": [
    "results_df[\"Catboost: S+D+C\"], X_04_columns = cross_validation(model_04, X, y, K_FOLDS)"
   ]
  },
  {
   "cell_type": "markdown",
   "metadata": {},
   "source": [
    "## Results"
   ]
  },
  {
   "cell_type": "code",
   "execution_count": 21,
   "metadata": {},
   "outputs": [
    {
     "name": "stdout",
     "output_type": "stream",
     "text": [
      "Results for a count radius of 3500m.\n"
     ]
    },
    {
     "data": {
      "text/html": [
       "<div>\n",
       "<style scoped>\n",
       "    .dataframe tbody tr th:only-of-type {\n",
       "        vertical-align: middle;\n",
       "    }\n",
       "\n",
       "    .dataframe tbody tr th {\n",
       "        vertical-align: top;\n",
       "    }\n",
       "\n",
       "    .dataframe thead th {\n",
       "        text-align: right;\n",
       "    }\n",
       "</style>\n",
       "<table border=\"1\" class=\"dataframe\">\n",
       "  <thead>\n",
       "    <tr style=\"text-align: right;\">\n",
       "      <th></th>\n",
       "      <th>Linear: S+D</th>\n",
       "      <th>Linear: S+D+C</th>\n",
       "      <th>Catboost: S+D</th>\n",
       "      <th>Catboost: S+D+C</th>\n",
       "    </tr>\n",
       "  </thead>\n",
       "  <tbody>\n",
       "    <tr>\n",
       "      <th>MAE</th>\n",
       "      <td>41501.000</td>\n",
       "      <td>37300.00</td>\n",
       "      <td>29852.000</td>\n",
       "      <td>29161.000</td>\n",
       "    </tr>\n",
       "    <tr>\n",
       "      <th>RMSE</th>\n",
       "      <td>58637.000</td>\n",
       "      <td>52906.00</td>\n",
       "      <td>44221.000</td>\n",
       "      <td>43369.000</td>\n",
       "    </tr>\n",
       "    <tr>\n",
       "      <th>MAPE</th>\n",
       "      <td>26.380</td>\n",
       "      <td>23.78</td>\n",
       "      <td>17.720</td>\n",
       "      <td>17.150</td>\n",
       "    </tr>\n",
       "    <tr>\n",
       "      <th>R^2</th>\n",
       "      <td>0.815</td>\n",
       "      <td>0.85</td>\n",
       "      <td>0.895</td>\n",
       "      <td>0.899</td>\n",
       "    </tr>\n",
       "  </tbody>\n",
       "</table>\n",
       "</div>"
      ],
      "text/plain": [
       "      Linear: S+D  Linear: S+D+C  Catboost: S+D  Catboost: S+D+C\n",
       "MAE     41501.000       37300.00      29852.000        29161.000\n",
       "RMSE    58637.000       52906.00      44221.000        43369.000\n",
       "MAPE       26.380          23.78         17.720           17.150\n",
       "R^2         0.815           0.85          0.895            0.899"
      ]
     },
     "execution_count": 21,
     "metadata": {},
     "output_type": "execute_result"
    }
   ],
   "source": [
    "results_df.index = [\"MAE\", \"RMSE\", \"MAPE\", \"R^2\"]\n",
    "# reorder columns\n",
    "results_df = results_df[[\"Linear: S+D\", \"Linear: S+D+C\", \"Catboost: S+D\", \"Catboost: S+D+C\"]]\n",
    "results_df.to_csv(\n",
    "    PATH + f\"results/structured_gis_{COUNT_RADIUS}_results.csv\", index=False)\n",
    "print(f\"Results for a count radius of {COUNT_RADIUS}m.\")\n",
    "results_df.head()"
   ]
  },
  {
   "cell_type": "markdown",
   "metadata": {},
   "source": [
    "## Spatial out-of-sample test"
   ]
  },
  {
   "cell_type": "code",
   "execution_count": 22,
   "metadata": {},
   "outputs": [
    {
     "name": "stdout",
     "output_type": "stream",
     "text": [
      "Predicting district 1/13\n",
      "Predicting district 2/13\n",
      "Predicting district 3/13\n",
      "Predicting district 4/13\n",
      "Predicting district 5/13\n",
      "Predicting district 6/13\n",
      "Predicting district 7/13\n",
      "Predicting district 8/13\n",
      "Predicting district 9/13\n",
      "Predicting district 10/13\n",
      "Predicting district 11/13\n",
      "Predicting district 12/13\n",
      "Predicting district 13/13\n",
      "\n",
      "Weighted metrics:\n",
      "MAE:  42310\n",
      "RMSE: 59284\n",
      "MAPE: 24.76%\n",
      "R^2:  0.649\n"
     ]
    }
   ],
   "source": [
    "estimator = CatBoostRegressor()\n",
    "error_df_soos, metrics = soos_validation(estimator, structured_gis)\n",
    "maes, rmses, mapes, r_squareds = metrics"
   ]
  },
  {
   "cell_type": "code",
   "execution_count": 23,
   "metadata": {},
   "outputs": [
    {
     "data": {
      "text/html": [
       "<div>\n",
       "<style scoped>\n",
       "    .dataframe tbody tr th:only-of-type {\n",
       "        vertical-align: middle;\n",
       "    }\n",
       "\n",
       "    .dataframe tbody tr th {\n",
       "        vertical-align: top;\n",
       "    }\n",
       "\n",
       "    .dataframe thead th {\n",
       "        text-align: right;\n",
       "    }\n",
       "</style>\n",
       "<table border=\"1\" class=\"dataframe\">\n",
       "  <thead>\n",
       "    <tr style=\"text-align: right;\">\n",
       "      <th></th>\n",
       "      <th>id</th>\n",
       "      <th>lat</th>\n",
       "      <th>long</th>\n",
       "      <th>district</th>\n",
       "      <th>prediction</th>\n",
       "      <th>error</th>\n",
       "    </tr>\n",
       "  </thead>\n",
       "  <tbody>\n",
       "    <tr>\n",
       "      <th>0</th>\n",
       "      <td>508783</td>\n",
       "      <td>40.360665</td>\n",
       "      <td>-79.978464</td>\n",
       "      <td>district_6</td>\n",
       "      <td>141265.469276</td>\n",
       "      <td>14234.530724</td>\n",
       "    </tr>\n",
       "    <tr>\n",
       "      <th>1</th>\n",
       "      <td>186641</td>\n",
       "      <td>40.405091</td>\n",
       "      <td>-80.045501</td>\n",
       "      <td>district_12</td>\n",
       "      <td>351360.386893</td>\n",
       "      <td>-54360.386893</td>\n",
       "    </tr>\n",
       "    <tr>\n",
       "      <th>2</th>\n",
       "      <td>326572</td>\n",
       "      <td>40.420452</td>\n",
       "      <td>-79.748534</td>\n",
       "      <td>district_8</td>\n",
       "      <td>318994.203150</td>\n",
       "      <td>-8994.203150</td>\n",
       "    </tr>\n",
       "    <tr>\n",
       "      <th>3</th>\n",
       "      <td>456854</td>\n",
       "      <td>40.403449</td>\n",
       "      <td>-79.803452</td>\n",
       "      <td>district_8</td>\n",
       "      <td>237371.842271</td>\n",
       "      <td>-47371.842271</td>\n",
       "    </tr>\n",
       "    <tr>\n",
       "      <th>4</th>\n",
       "      <td>81010</td>\n",
       "      <td>40.439363</td>\n",
       "      <td>-79.791659</td>\n",
       "      <td>district_8</td>\n",
       "      <td>225006.959789</td>\n",
       "      <td>-5006.959789</td>\n",
       "    </tr>\n",
       "    <tr>\n",
       "      <th>...</th>\n",
       "      <td>...</td>\n",
       "      <td>...</td>\n",
       "      <td>...</td>\n",
       "      <td>...</td>\n",
       "      <td>...</td>\n",
       "      <td>...</td>\n",
       "    </tr>\n",
       "    <tr>\n",
       "      <th>9551</th>\n",
       "      <td>7078</td>\n",
       "      <td>40.512509</td>\n",
       "      <td>-80.161883</td>\n",
       "      <td>district_1</td>\n",
       "      <td>135310.414911</td>\n",
       "      <td>9689.585089</td>\n",
       "    </tr>\n",
       "    <tr>\n",
       "      <th>9552</th>\n",
       "      <td>191240</td>\n",
       "      <td>40.485395</td>\n",
       "      <td>-80.039425</td>\n",
       "      <td>district_13</td>\n",
       "      <td>102112.311613</td>\n",
       "      <td>62887.688387</td>\n",
       "    </tr>\n",
       "    <tr>\n",
       "      <th>9553</th>\n",
       "      <td>169806</td>\n",
       "      <td>40.451221</td>\n",
       "      <td>-80.215098</td>\n",
       "      <td>district_1</td>\n",
       "      <td>120994.223657</td>\n",
       "      <td>-24494.223657</td>\n",
       "    </tr>\n",
       "    <tr>\n",
       "      <th>9554</th>\n",
       "      <td>11579</td>\n",
       "      <td>40.408977</td>\n",
       "      <td>-80.067776</td>\n",
       "      <td>district_4</td>\n",
       "      <td>257449.393574</td>\n",
       "      <td>-52649.393574</td>\n",
       "    </tr>\n",
       "    <tr>\n",
       "      <th>9555</th>\n",
       "      <td>47478</td>\n",
       "      <td>40.539705</td>\n",
       "      <td>-80.170946</td>\n",
       "      <td>district_2</td>\n",
       "      <td>114126.532267</td>\n",
       "      <td>50373.467733</td>\n",
       "    </tr>\n",
       "  </tbody>\n",
       "</table>\n",
       "<p>9556 rows × 6 columns</p>\n",
       "</div>"
      ],
      "text/plain": [
       "          id        lat       long     district     prediction         error\n",
       "0     508783  40.360665 -79.978464   district_6  141265.469276  14234.530724\n",
       "1     186641  40.405091 -80.045501  district_12  351360.386893 -54360.386893\n",
       "2     326572  40.420452 -79.748534   district_8  318994.203150  -8994.203150\n",
       "3     456854  40.403449 -79.803452   district_8  237371.842271 -47371.842271\n",
       "4      81010  40.439363 -79.791659   district_8  225006.959789  -5006.959789\n",
       "...      ...        ...        ...          ...            ...           ...\n",
       "9551    7078  40.512509 -80.161883   district_1  135310.414911   9689.585089\n",
       "9552  191240  40.485395 -80.039425  district_13  102112.311613  62887.688387\n",
       "9553  169806  40.451221 -80.215098   district_1  120994.223657 -24494.223657\n",
       "9554   11579  40.408977 -80.067776   district_4  257449.393574 -52649.393574\n",
       "9555   47478  40.539705 -80.170946   district_2  114126.532267  50373.467733\n",
       "\n",
       "[9556 rows x 6 columns]"
      ]
     },
     "execution_count": 23,
     "metadata": {},
     "output_type": "execute_result"
    }
   ],
   "source": [
    "error_df_soos.to_csv(PATH+\"results/errors_soos_gis.csv\")\n",
    "error_df_soos"
   ]
  },
  {
   "cell_type": "code",
   "execution_count": 24,
   "metadata": {},
   "outputs": [
    {
     "data": {
      "text/html": [
       "<div>\n",
       "<style scoped>\n",
       "    .dataframe tbody tr th:only-of-type {\n",
       "        vertical-align: middle;\n",
       "    }\n",
       "\n",
       "    .dataframe tbody tr th {\n",
       "        vertical-align: top;\n",
       "    }\n",
       "\n",
       "    .dataframe thead th {\n",
       "        text-align: right;\n",
       "    }\n",
       "</style>\n",
       "<table border=\"1\" class=\"dataframe\">\n",
       "  <thead>\n",
       "    <tr style=\"text-align: right;\">\n",
       "      <th></th>\n",
       "      <th>mae</th>\n",
       "      <th>rmse</th>\n",
       "      <th>mapes</th>\n",
       "      <th>R^2</th>\n",
       "      <th>SALEPRICE</th>\n",
       "      <th>LOTAREA</th>\n",
       "      <th>YEARBLT</th>\n",
       "      <th>STORIES</th>\n",
       "    </tr>\n",
       "  </thead>\n",
       "  <tbody>\n",
       "    <tr>\n",
       "      <th>district_1</th>\n",
       "      <td>33552.269782</td>\n",
       "      <td>44683.610007</td>\n",
       "      <td>16.205092</td>\n",
       "      <td>0.754597</td>\n",
       "      <td>219849.905742</td>\n",
       "      <td>18302.388949</td>\n",
       "      <td>1959.393283</td>\n",
       "      <td>1.557638</td>\n",
       "    </tr>\n",
       "    <tr>\n",
       "      <th>district_2</th>\n",
       "      <td>58993.535207</td>\n",
       "      <td>85553.220069</td>\n",
       "      <td>16.565603</td>\n",
       "      <td>0.717650</td>\n",
       "      <td>347195.029630</td>\n",
       "      <td>28928.464550</td>\n",
       "      <td>1968.440212</td>\n",
       "      <td>1.703175</td>\n",
       "    </tr>\n",
       "    <tr>\n",
       "      <th>district_3</th>\n",
       "      <td>53144.920288</td>\n",
       "      <td>85450.492971</td>\n",
       "      <td>18.841512</td>\n",
       "      <td>0.730640</td>\n",
       "      <td>261041.727106</td>\n",
       "      <td>22902.147436</td>\n",
       "      <td>1959.855311</td>\n",
       "      <td>1.500916</td>\n",
       "    </tr>\n",
       "    <tr>\n",
       "      <th>district_4</th>\n",
       "      <td>28125.165321</td>\n",
       "      <td>39613.942202</td>\n",
       "      <td>17.693504</td>\n",
       "      <td>0.816335</td>\n",
       "      <td>191448.015873</td>\n",
       "      <td>16155.658009</td>\n",
       "      <td>1956.578644</td>\n",
       "      <td>1.485570</td>\n",
       "    </tr>\n",
       "    <tr>\n",
       "      <th>district_5</th>\n",
       "      <td>43197.040246</td>\n",
       "      <td>60013.120945</td>\n",
       "      <td>15.321263</td>\n",
       "      <td>0.757863</td>\n",
       "      <td>279481.883882</td>\n",
       "      <td>13725.758232</td>\n",
       "      <td>1956.907279</td>\n",
       "      <td>1.650347</td>\n",
       "    </tr>\n",
       "    <tr>\n",
       "      <th>district_6</th>\n",
       "      <td>24141.903399</td>\n",
       "      <td>31344.985142</td>\n",
       "      <td>17.816110</td>\n",
       "      <td>0.730963</td>\n",
       "      <td>159027.268519</td>\n",
       "      <td>10129.287037</td>\n",
       "      <td>1955.130658</td>\n",
       "      <td>1.431070</td>\n",
       "    </tr>\n",
       "    <tr>\n",
       "      <th>district_7</th>\n",
       "      <td>50024.965583</td>\n",
       "      <td>59657.862682</td>\n",
       "      <td>50.801379</td>\n",
       "      <td>0.339918</td>\n",
       "      <td>125184.599506</td>\n",
       "      <td>11433.442522</td>\n",
       "      <td>1950.647713</td>\n",
       "      <td>1.464524</td>\n",
       "    </tr>\n",
       "    <tr>\n",
       "      <th>district_8</th>\n",
       "      <td>35907.168827</td>\n",
       "      <td>46802.397351</td>\n",
       "      <td>27.112107</td>\n",
       "      <td>0.650421</td>\n",
       "      <td>158730.732000</td>\n",
       "      <td>13534.752000</td>\n",
       "      <td>1956.425333</td>\n",
       "      <td>1.457333</td>\n",
       "    </tr>\n",
       "    <tr>\n",
       "      <th>district_9</th>\n",
       "      <td>29166.177968</td>\n",
       "      <td>36298.862790</td>\n",
       "      <td>38.144304</td>\n",
       "      <td>0.317148</td>\n",
       "      <td>100983.590308</td>\n",
       "      <td>12213.361233</td>\n",
       "      <td>1951.126285</td>\n",
       "      <td>1.278267</td>\n",
       "    </tr>\n",
       "    <tr>\n",
       "      <th>district_10</th>\n",
       "      <td>59479.689474</td>\n",
       "      <td>83812.261677</td>\n",
       "      <td>52.277363</td>\n",
       "      <td>0.580605</td>\n",
       "      <td>190825.944681</td>\n",
       "      <td>7570.417021</td>\n",
       "      <td>1936.978723</td>\n",
       "      <td>1.878723</td>\n",
       "    </tr>\n",
       "    <tr>\n",
       "      <th>district_11</th>\n",
       "      <td>88847.552354</td>\n",
       "      <td>137881.472317</td>\n",
       "      <td>29.713593</td>\n",
       "      <td>0.603856</td>\n",
       "      <td>277164.033413</td>\n",
       "      <td>5665.145585</td>\n",
       "      <td>1929.871122</td>\n",
       "      <td>1.893795</td>\n",
       "    </tr>\n",
       "    <tr>\n",
       "      <th>district_12</th>\n",
       "      <td>29173.539294</td>\n",
       "      <td>39484.015028</td>\n",
       "      <td>28.710498</td>\n",
       "      <td>0.581643</td>\n",
       "      <td>131674.118421</td>\n",
       "      <td>5992.001645</td>\n",
       "      <td>1936.500000</td>\n",
       "      <td>1.709704</td>\n",
       "    </tr>\n",
       "    <tr>\n",
       "      <th>district_13</th>\n",
       "      <td>38385.530616</td>\n",
       "      <td>52303.799486</td>\n",
       "      <td>30.991261</td>\n",
       "      <td>0.557219</td>\n",
       "      <td>149200.901818</td>\n",
       "      <td>4573.843636</td>\n",
       "      <td>1926.200000</td>\n",
       "      <td>1.874545</td>\n",
       "    </tr>\n",
       "  </tbody>\n",
       "</table>\n",
       "</div>"
      ],
      "text/plain": [
       "                      mae           rmse      mapes       R^2      SALEPRICE  \\\n",
       "district_1   33552.269782   44683.610007  16.205092  0.754597  219849.905742   \n",
       "district_2   58993.535207   85553.220069  16.565603  0.717650  347195.029630   \n",
       "district_3   53144.920288   85450.492971  18.841512  0.730640  261041.727106   \n",
       "district_4   28125.165321   39613.942202  17.693504  0.816335  191448.015873   \n",
       "district_5   43197.040246   60013.120945  15.321263  0.757863  279481.883882   \n",
       "district_6   24141.903399   31344.985142  17.816110  0.730963  159027.268519   \n",
       "district_7   50024.965583   59657.862682  50.801379  0.339918  125184.599506   \n",
       "district_8   35907.168827   46802.397351  27.112107  0.650421  158730.732000   \n",
       "district_9   29166.177968   36298.862790  38.144304  0.317148  100983.590308   \n",
       "district_10  59479.689474   83812.261677  52.277363  0.580605  190825.944681   \n",
       "district_11  88847.552354  137881.472317  29.713593  0.603856  277164.033413   \n",
       "district_12  29173.539294   39484.015028  28.710498  0.581643  131674.118421   \n",
       "district_13  38385.530616   52303.799486  30.991261  0.557219  149200.901818   \n",
       "\n",
       "                  LOTAREA      YEARBLT   STORIES  \n",
       "district_1   18302.388949  1959.393283  1.557638  \n",
       "district_2   28928.464550  1968.440212  1.703175  \n",
       "district_3   22902.147436  1959.855311  1.500916  \n",
       "district_4   16155.658009  1956.578644  1.485570  \n",
       "district_5   13725.758232  1956.907279  1.650347  \n",
       "district_6   10129.287037  1955.130658  1.431070  \n",
       "district_7   11433.442522  1950.647713  1.464524  \n",
       "district_8   13534.752000  1956.425333  1.457333  \n",
       "district_9   12213.361233  1951.126285  1.278267  \n",
       "district_10   7570.417021  1936.978723  1.878723  \n",
       "district_11   5665.145585  1929.871122  1.893795  \n",
       "district_12   5992.001645  1936.500000  1.709704  \n",
       "district_13   4573.843636  1926.200000  1.874545  "
      ]
     },
     "execution_count": 24,
     "metadata": {},
     "output_type": "execute_result"
    }
   ],
   "source": [
    "districts = [\"district_\"+str(i) for i in range(1,14)]\n",
    "metrics_df = pd.DataFrame(data={\"district\":districts, \"mae\":maes, \"rmse\":rmses, \"mapes\":mapes, \"R^2\":r_squareds})\n",
    "metrics_df = metrics_df.set_index(\"district\")\n",
    "metrics_df.to_csv(PATH+\"results/errors_soos_district_gis.csv\")\n",
    "\n",
    "# add more information about each district to characterize\n",
    "df_agg = structured_gis.groupby(by=\"DISTRICT\").mean()\n",
    "df_agg  = df_agg[[\"SALEPRICE\", \"LOTAREA\", \"YEARBLT\", \"STORIES\"]]\n",
    "metrics_df_agg = pd.concat([metrics_df, df_agg], axis=1)\n",
    "\n",
    "metrics_df_agg"
   ]
  },
  {
   "cell_type": "markdown",
   "metadata": {},
   "source": [
    "## Exploring solution"
   ]
  },
  {
   "cell_type": "code",
   "execution_count": 25,
   "metadata": {
    "scrolled": true
   },
   "outputs": [
    {
     "name": "stdout",
     "output_type": "stream",
     "text": [
      "Intercept: -267481.0350929999\n"
     ]
    }
   ],
   "source": [
    "print(f\"Intercept: {model_03.intercept_}\")\n",
    "feature_coef_df = pd.DataFrame(data={\"feature\": X_03_columns[53:], \"coef\": model_03.coef_[53:]})\n",
    "feature_coef_df[\"coef\"] = feature_coef_df[\"coef\"].apply(lambda x: round(x, 2))"
   ]
  },
  {
   "cell_type": "markdown",
   "metadata": {},
   "source": [
    "Most and least valuable POI based on count in vicinity"
   ]
  },
  {
   "cell_type": "code",
   "execution_count": 26,
   "metadata": {},
   "outputs": [
    {
     "data": {
      "text/html": [
       "<style  type=\"text/css\" >\n",
       "</style><table id=\"T_515ec_\" style='display:inline'><caption>Most valuable POI</caption><thead>    <tr>        <th class=\"blank level0\" ></th>        <th class=\"col_heading level0 col0\" >feature</th>        <th class=\"col_heading level0 col1\" >coef</th>    </tr></thead><tbody>\n",
       "                <tr>\n",
       "                        <th id=\"T_515ec_level0_row0\" class=\"row_heading level0 row0\" >43</th>\n",
       "                        <td id=\"T_515ec_row0_col0\" class=\"data row0 col0\" >libraries_count</td>\n",
       "                        <td id=\"T_515ec_row0_col1\" class=\"data row0 col1\" >-5294.860000</td>\n",
       "            </tr>\n",
       "            <tr>\n",
       "                        <th id=\"T_515ec_level0_row1\" class=\"row_heading level0 row1\" >37</th>\n",
       "                        <td id=\"T_515ec_row1_col0\" class=\"data row1 col0\" >post_offices_count</td>\n",
       "                        <td id=\"T_515ec_row1_col1\" class=\"data row1 col1\" >-4803.510000</td>\n",
       "            </tr>\n",
       "            <tr>\n",
       "                        <th id=\"T_515ec_level0_row2\" class=\"row_heading level0 row2\" >7</th>\n",
       "                        <td id=\"T_515ec_row2_col0\" class=\"data row2 col0\" >wic_vendors_count</td>\n",
       "                        <td id=\"T_515ec_row2_col1\" class=\"data row2 col1\" >-3792.970000</td>\n",
       "            </tr>\n",
       "            <tr>\n",
       "                        <th id=\"T_515ec_level0_row3\" class=\"row_heading level0 row3\" >27</th>\n",
       "                        <td id=\"T_515ec_row3_col0\" class=\"data row3 col0\" >public_buildings_count</td>\n",
       "                        <td id=\"T_515ec_row3_col1\" class=\"data row3 col1\" >-1951.520000</td>\n",
       "            </tr>\n",
       "            <tr>\n",
       "                        <th id=\"T_515ec_level0_row4\" class=\"row_heading level0 row4\" >57</th>\n",
       "                        <td id=\"T_515ec_row4_col0\" class=\"data row4 col0\" >polling_places_count</td>\n",
       "                        <td id=\"T_515ec_row4_col1\" class=\"data row4 col1\" >-1797.890000</td>\n",
       "            </tr>\n",
       "            <tr>\n",
       "                        <th id=\"T_515ec_level0_row5\" class=\"row_heading level0 row5\" >47</th>\n",
       "                        <td id=\"T_515ec_row5_col0\" class=\"data row5 col0\" >supermarkets_count</td>\n",
       "                        <td id=\"T_515ec_row5_col1\" class=\"data row5 col1\" >-1668.480000</td>\n",
       "            </tr>\n",
       "            <tr>\n",
       "                        <th id=\"T_515ec_level0_row6\" class=\"row_heading level0 row6\" >55</th>\n",
       "                        <td id=\"T_515ec_row6_col0\" class=\"data row6 col0\" >child_care_centers_count</td>\n",
       "                        <td id=\"T_515ec_row6_col1\" class=\"data row6 col1\" >-1369.260000</td>\n",
       "            </tr>\n",
       "            <tr>\n",
       "                        <th id=\"T_515ec_level0_row7\" class=\"row_heading level0 row7\" >61</th>\n",
       "                        <td id=\"T_515ec_row7_col0\" class=\"data row7 col0\" >schools_count</td>\n",
       "                        <td id=\"T_515ec_row7_col1\" class=\"data row7 col1\" >-1200.110000</td>\n",
       "            </tr>\n",
       "            <tr>\n",
       "                        <th id=\"T_515ec_level0_row8\" class=\"row_heading level0 row8\" >67</th>\n",
       "                        <td id=\"T_515ec_row8_col0\" class=\"data row8 col0\" >restaurants_count</td>\n",
       "                        <td id=\"T_515ec_row8_col1\" class=\"data row8 col1\" >-532.680000</td>\n",
       "            </tr>\n",
       "            <tr>\n",
       "                        <th id=\"T_515ec_level0_row9\" class=\"row_heading level0 row9\" >15</th>\n",
       "                        <td id=\"T_515ec_row9_col0\" class=\"data row9 col0\" >park_and_rides_count</td>\n",
       "                        <td id=\"T_515ec_row9_col1\" class=\"data row9 col1\" >-517.790000</td>\n",
       "            </tr>\n",
       "    </tbody></table><style  type=\"text/css\" >\n",
       "</style><table id=\"T_bdc6b_\" style='display:inline'><caption>Least valuable POI</caption><thead>    <tr>        <th class=\"blank level0\" ></th>        <th class=\"col_heading level0 col0\" >feature</th>        <th class=\"col_heading level0 col1\" >coef</th>    </tr></thead><tbody>\n",
       "                <tr>\n",
       "                        <th id=\"T_bdc6b_level0_row0\" class=\"row_heading level0 row0\" >1</th>\n",
       "                        <td id=\"T_bdc6b_row0_col0\" class=\"data row0 col0\" >universities_count</td>\n",
       "                        <td id=\"T_bdc6b_row0_col1\" class=\"data row0 col1\" >5472.330000</td>\n",
       "            </tr>\n",
       "            <tr>\n",
       "                        <th id=\"T_bdc6b_level0_row1\" class=\"row_heading level0 row1\" >29</th>\n",
       "                        <td id=\"T_bdc6b_row1_col0\" class=\"data row1 col0\" >farmers_markets_count</td>\n",
       "                        <td id=\"T_bdc6b_row1_col1\" class=\"data row1 col1\" >4384.130000</td>\n",
       "            </tr>\n",
       "            <tr>\n",
       "                        <th id=\"T_bdc6b_level0_row2\" class=\"row_heading level0 row2\" >5</th>\n",
       "                        <td id=\"T_bdc6b_row2_col0\" class=\"data row2 col0\" >health_centers_count</td>\n",
       "                        <td id=\"T_bdc6b_row2_col1\" class=\"data row2 col1\" >4196.580000</td>\n",
       "            </tr>\n",
       "            <tr>\n",
       "                        <th id=\"T_bdc6b_level0_row3\" class=\"row_heading level0 row3\" >3</th>\n",
       "                        <td id=\"T_bdc6b_row3_col0\" class=\"data row3 col0\" >senior_centers_count</td>\n",
       "                        <td id=\"T_bdc6b_row3_col1\" class=\"data row3 col1\" >3639.730000</td>\n",
       "            </tr>\n",
       "            <tr>\n",
       "                        <th id=\"T_bdc6b_level0_row4\" class=\"row_heading level0 row4\" >39</th>\n",
       "                        <td id=\"T_bdc6b_row4_col0\" class=\"data row4 col0\" >banks_count</td>\n",
       "                        <td id=\"T_bdc6b_row4_col1\" class=\"data row4 col1\" >2318.150000</td>\n",
       "            </tr>\n",
       "            <tr>\n",
       "                        <th id=\"T_bdc6b_level0_row5\" class=\"row_heading level0 row5\" >9</th>\n",
       "                        <td id=\"T_bdc6b_row5_col0\" class=\"data row5 col0\" >barbers_count</td>\n",
       "                        <td id=\"T_bdc6b_row5_col1\" class=\"data row5 col1\" >1697.320000</td>\n",
       "            </tr>\n",
       "            <tr>\n",
       "                        <th id=\"T_bdc6b_level0_row6\" class=\"row_heading level0 row6\" >17</th>\n",
       "                        <td id=\"T_bdc6b_row6_col0\" class=\"data row6 col0\" >bars_count</td>\n",
       "                        <td id=\"T_bdc6b_row6_col1\" class=\"data row6 col1\" >1603.720000</td>\n",
       "            </tr>\n",
       "            <tr>\n",
       "                        <th id=\"T_bdc6b_level0_row7\" class=\"row_heading level0 row7\" >49</th>\n",
       "                        <td id=\"T_bdc6b_row7_col0\" class=\"data row7 col0\" >laundromats_count</td>\n",
       "                        <td id=\"T_bdc6b_row7_col1\" class=\"data row7 col1\" >1226.410000</td>\n",
       "            </tr>\n",
       "            <tr>\n",
       "                        <th id=\"T_bdc6b_level0_row8\" class=\"row_heading level0 row8\" >25</th>\n",
       "                        <td id=\"T_bdc6b_row8_col0\" class=\"data row8 col0\" >nursing_homes_count</td>\n",
       "                        <td id=\"T_bdc6b_row8_col1\" class=\"data row8 col1\" >948.010000</td>\n",
       "            </tr>\n",
       "            <tr>\n",
       "                        <th id=\"T_bdc6b_level0_row9\" class=\"row_heading level0 row9\" >13</th>\n",
       "                        <td id=\"T_bdc6b_row9_col0\" class=\"data row9 col0\" >coffee_shops_count</td>\n",
       "                        <td id=\"T_bdc6b_row9_col1\" class=\"data row9 col1\" >821.690000</td>\n",
       "            </tr>\n",
       "    </tbody></table>"
      ]
     },
     "metadata": {},
     "output_type": "display_data"
    }
   ],
   "source": [
    "feature_coef_count = feature_coef_df[feature_coef_df[\"feature\"].str.contains(\"count\")]\n",
    "\n",
    "neg_sorted = feature_coef_count.sort_values(by=[\"coef\"], ascending=False).head(10)\n",
    "pos_sorted = feature_coef_count.sort_values(by=[\"coef\"]).head(10)\n",
    "\n",
    "df1_styler = pos_sorted.style.set_table_attributes(\"style='display:inline'\").set_caption('Most valuable POI')\n",
    "df2_styler = neg_sorted.style.set_table_attributes(\"style='display:inline'\").set_caption('Least valuable POI')\n",
    "\n",
    "display_html(df1_styler._repr_html_()+df2_styler._repr_html_(), raw=True)"
   ]
  },
  {
   "cell_type": "markdown",
   "metadata": {},
   "source": [
    "Most and least valuable POI based on distance to home"
   ]
  },
  {
   "cell_type": "code",
   "execution_count": 27,
   "metadata": {},
   "outputs": [
    {
     "data": {
      "text/html": [
       "<style  type=\"text/css\" >\n",
       "</style><table id=\"T_a6a76_\" style='display:inline'><caption>Most valuable POI</caption><thead>    <tr>        <th class=\"blank level0\" ></th>        <th class=\"col_heading level0 col0\" >feature</th>        <th class=\"col_heading level0 col1\" >coef</th>    </tr></thead><tbody>\n",
       "                <tr>\n",
       "                        <th id=\"T_a6a76_level0_row0\" class=\"row_heading level0 row0\" >38</th>\n",
       "                        <td id=\"T_a6a76_row0_col0\" class=\"data row0 col0\" >banks_dist</td>\n",
       "                        <td id=\"T_a6a76_row0_col1\" class=\"data row0 col1\" >-7.250000</td>\n",
       "            </tr>\n",
       "            <tr>\n",
       "                        <th id=\"T_a6a76_level0_row1\" class=\"row_heading level0 row1\" >16</th>\n",
       "                        <td id=\"T_a6a76_row1_col0\" class=\"data row1 col0\" >bars_dist</td>\n",
       "                        <td id=\"T_a6a76_row1_col1\" class=\"data row1 col1\" >-4.460000</td>\n",
       "            </tr>\n",
       "            <tr>\n",
       "                        <th id=\"T_a6a76_level0_row2\" class=\"row_heading level0 row2\" >44</th>\n",
       "                        <td id=\"T_a6a76_row2_col0\" class=\"data row2 col0\" >doctors_offices_dist</td>\n",
       "                        <td id=\"T_a6a76_row2_col1\" class=\"data row2 col1\" >-4.460000</td>\n",
       "            </tr>\n",
       "            <tr>\n",
       "                        <th id=\"T_a6a76_level0_row3\" class=\"row_heading level0 row3\" >60</th>\n",
       "                        <td id=\"T_a6a76_row3_col0\" class=\"data row3 col0\" >schools_dist</td>\n",
       "                        <td id=\"T_a6a76_row3_col1\" class=\"data row3 col1\" >-3.410000</td>\n",
       "            </tr>\n",
       "            <tr>\n",
       "                        <th id=\"T_a6a76_level0_row4\" class=\"row_heading level0 row4\" >36</th>\n",
       "                        <td id=\"T_a6a76_row4_col0\" class=\"data row4 col0\" >post_offices_dist</td>\n",
       "                        <td id=\"T_a6a76_row4_col1\" class=\"data row4 col1\" >-3.380000</td>\n",
       "            </tr>\n",
       "            <tr>\n",
       "                        <th id=\"T_a6a76_level0_row5\" class=\"row_heading level0 row5\" >62</th>\n",
       "                        <td id=\"T_a6a76_row5_col0\" class=\"data row5 col0\" >apartment_buildings_dist</td>\n",
       "                        <td id=\"T_a6a76_row5_col1\" class=\"data row5 col1\" >-3.120000</td>\n",
       "            </tr>\n",
       "            <tr>\n",
       "                        <th id=\"T_a6a76_level0_row6\" class=\"row_heading level0 row6\" >42</th>\n",
       "                        <td id=\"T_a6a76_row6_col0\" class=\"data row6 col0\" >libraries_dist</td>\n",
       "                        <td id=\"T_a6a76_row6_col1\" class=\"data row6 col1\" >-2.720000</td>\n",
       "            </tr>\n",
       "            <tr>\n",
       "                        <th id=\"T_a6a76_level0_row7\" class=\"row_heading level0 row7\" >46</th>\n",
       "                        <td id=\"T_a6a76_row7_col0\" class=\"data row7 col0\" >supermarkets_dist</td>\n",
       "                        <td id=\"T_a6a76_row7_col1\" class=\"data row7 col1\" >-2.480000</td>\n",
       "            </tr>\n",
       "            <tr>\n",
       "                        <th id=\"T_a6a76_level0_row8\" class=\"row_heading level0 row8\" >18</th>\n",
       "                        <td id=\"T_a6a76_row8_col0\" class=\"data row8 col0\" >bike_share_stations_dist</td>\n",
       "                        <td id=\"T_a6a76_row8_col1\" class=\"data row8 col1\" >-2.030000</td>\n",
       "            </tr>\n",
       "            <tr>\n",
       "                        <th id=\"T_a6a76_level0_row9\" class=\"row_heading level0 row9\" >8</th>\n",
       "                        <td id=\"T_a6a76_row9_col0\" class=\"data row9 col0\" >barbers_dist</td>\n",
       "                        <td id=\"T_a6a76_row9_col1\" class=\"data row9 col1\" >-1.960000</td>\n",
       "            </tr>\n",
       "    </tbody></table><style  type=\"text/css\" >\n",
       "</style><table id=\"T_cd829_\" style='display:inline'><caption>Least valuable POI</caption><thead>    <tr>        <th class=\"blank level0\" ></th>        <th class=\"col_heading level0 col0\" >feature</th>        <th class=\"col_heading level0 col1\" >coef</th>    </tr></thead><tbody>\n",
       "                <tr>\n",
       "                        <th id=\"T_cd829_level0_row0\" class=\"row_heading level0 row0\" >20</th>\n",
       "                        <td id=\"T_cd829_row0_col0\" class=\"data row0 col0\" >affordable_housing_dist</td>\n",
       "                        <td id=\"T_cd829_row0_col1\" class=\"data row0 col1\" >6.260000</td>\n",
       "            </tr>\n",
       "            <tr>\n",
       "                        <th id=\"T_cd829_level0_row1\" class=\"row_heading level0 row1\" >28</th>\n",
       "                        <td id=\"T_cd829_row1_col0\" class=\"data row1 col0\" >farmers_markets_dist</td>\n",
       "                        <td id=\"T_cd829_row1_col1\" class=\"data row1 col1\" >6.090000</td>\n",
       "            </tr>\n",
       "            <tr>\n",
       "                        <th id=\"T_cd829_level0_row2\" class=\"row_heading level0 row2\" >56</th>\n",
       "                        <td id=\"T_cd829_row2_col0\" class=\"data row2 col0\" >polling_places_dist</td>\n",
       "                        <td id=\"T_cd829_row2_col1\" class=\"data row2 col1\" >5.510000</td>\n",
       "            </tr>\n",
       "            <tr>\n",
       "                        <th id=\"T_cd829_level0_row3\" class=\"row_heading level0 row3\" >2</th>\n",
       "                        <td id=\"T_cd829_row3_col0\" class=\"data row3 col0\" >senior_centers_dist</td>\n",
       "                        <td id=\"T_cd829_row3_col1\" class=\"data row3 col1\" >4.700000</td>\n",
       "            </tr>\n",
       "            <tr>\n",
       "                        <th id=\"T_cd829_level0_row4\" class=\"row_heading level0 row4\" >22</th>\n",
       "                        <td id=\"T_cd829_row4_col0\" class=\"data row4 col0\" >pharmacies_dist</td>\n",
       "                        <td id=\"T_cd829_row4_col1\" class=\"data row4 col1\" >4.700000</td>\n",
       "            </tr>\n",
       "            <tr>\n",
       "                        <th id=\"T_cd829_level0_row5\" class=\"row_heading level0 row5\" >6</th>\n",
       "                        <td id=\"T_cd829_row5_col0\" class=\"data row5 col0\" >wic_vendors_dist</td>\n",
       "                        <td id=\"T_cd829_row5_col1\" class=\"data row5 col1\" >3.990000</td>\n",
       "            </tr>\n",
       "            <tr>\n",
       "                        <th id=\"T_cd829_level0_row6\" class=\"row_heading level0 row6\" >66</th>\n",
       "                        <td id=\"T_cd829_row6_col0\" class=\"data row6 col0\" >restaurants_dist</td>\n",
       "                        <td id=\"T_cd829_row6_col1\" class=\"data row6 col1\" >2.960000</td>\n",
       "            </tr>\n",
       "            <tr>\n",
       "                        <th id=\"T_cd829_level0_row7\" class=\"row_heading level0 row7\" >58</th>\n",
       "                        <td id=\"T_cd829_row7_col0\" class=\"data row7 col0\" >hair_salons_dist</td>\n",
       "                        <td id=\"T_cd829_row7_col1\" class=\"data row7 col1\" >2.850000</td>\n",
       "            </tr>\n",
       "            <tr>\n",
       "                        <th id=\"T_cd829_level0_row8\" class=\"row_heading level0 row8\" >52</th>\n",
       "                        <td id=\"T_cd829_row8_col0\" class=\"data row8 col0\" >parks_and_facilities_dist</td>\n",
       "                        <td id=\"T_cd829_row8_col1\" class=\"data row8 col1\" >2.820000</td>\n",
       "            </tr>\n",
       "            <tr>\n",
       "                        <th id=\"T_cd829_level0_row9\" class=\"row_heading level0 row9\" >0</th>\n",
       "                        <td id=\"T_cd829_row9_col0\" class=\"data row9 col0\" >universities_dist</td>\n",
       "                        <td id=\"T_cd829_row9_col1\" class=\"data row9 col1\" >2.730000</td>\n",
       "            </tr>\n",
       "    </tbody></table>"
      ]
     },
     "metadata": {},
     "output_type": "display_data"
    }
   ],
   "source": [
    "feature_coef_dist = feature_coef_df[feature_coef_df[\"feature\"].str.contains(\"dist\")]\n",
    "\n",
    "neg_sorted = feature_coef_dist.sort_values(by=[\"coef\"], ascending=False).head(10)\n",
    "pos_sorted = feature_coef_dist.sort_values(by=[\"coef\"]).head(10)\n",
    "\n",
    "df1_styler = pos_sorted.style.set_table_attributes(\"style='display:inline'\").set_caption('Most valuable POI')\n",
    "df2_styler = neg_sorted.style.set_table_attributes(\"style='display:inline'\").set_caption('Least valuable POI')\n",
    "\n",
    "display_html(df1_styler._repr_html_()+df2_styler._repr_html_(), raw=True)"
   ]
  },
  {
   "cell_type": "markdown",
   "metadata": {},
   "source": [
    "Explore feature importance of best model"
   ]
  },
  {
   "cell_type": "code",
   "execution_count": 28,
   "metadata": {
    "scrolled": false
   },
   "outputs": [
    {
     "data": {
      "text/html": [
       "<div>\n",
       "<style scoped>\n",
       "    .dataframe tbody tr th:only-of-type {\n",
       "        vertical-align: middle;\n",
       "    }\n",
       "\n",
       "    .dataframe tbody tr th {\n",
       "        vertical-align: top;\n",
       "    }\n",
       "\n",
       "    .dataframe thead th {\n",
       "        text-align: right;\n",
       "    }\n",
       "</style>\n",
       "<table border=\"1\" class=\"dataframe\">\n",
       "  <thead>\n",
       "    <tr style=\"text-align: right;\">\n",
       "      <th></th>\n",
       "      <th>feature</th>\n",
       "      <th>importance</th>\n",
       "    </tr>\n",
       "  </thead>\n",
       "  <tbody>\n",
       "    <tr>\n",
       "      <th>25</th>\n",
       "      <td>nursing_homes_count</td>\n",
       "      <td>2.204712</td>\n",
       "    </tr>\n",
       "    <tr>\n",
       "      <th>2</th>\n",
       "      <td>senior_centers_dist</td>\n",
       "      <td>2.094696</td>\n",
       "    </tr>\n",
       "    <tr>\n",
       "      <th>39</th>\n",
       "      <td>banks_count</td>\n",
       "      <td>1.663273</td>\n",
       "    </tr>\n",
       "    <tr>\n",
       "      <th>4</th>\n",
       "      <td>health_centers_dist</td>\n",
       "      <td>1.420168</td>\n",
       "    </tr>\n",
       "    <tr>\n",
       "      <th>21</th>\n",
       "      <td>affordable_housing_count</td>\n",
       "      <td>1.242234</td>\n",
       "    </tr>\n",
       "    <tr>\n",
       "      <th>18</th>\n",
       "      <td>bike_share_stations_dist</td>\n",
       "      <td>1.110660</td>\n",
       "    </tr>\n",
       "    <tr>\n",
       "      <th>0</th>\n",
       "      <td>universities_dist</td>\n",
       "      <td>1.063690</td>\n",
       "    </tr>\n",
       "    <tr>\n",
       "      <th>17</th>\n",
       "      <td>bars_count</td>\n",
       "      <td>1.037626</td>\n",
       "    </tr>\n",
       "    <tr>\n",
       "      <th>69</th>\n",
       "      <td>community_nonprofit_orgs_count</td>\n",
       "      <td>1.031040</td>\n",
       "    </tr>\n",
       "    <tr>\n",
       "      <th>20</th>\n",
       "      <td>affordable_housing_dist</td>\n",
       "      <td>0.971309</td>\n",
       "    </tr>\n",
       "  </tbody>\n",
       "</table>\n",
       "</div>"
      ],
      "text/plain": [
       "                           feature  importance\n",
       "25             nursing_homes_count    2.204712\n",
       "2              senior_centers_dist    2.094696\n",
       "39                     banks_count    1.663273\n",
       "4              health_centers_dist    1.420168\n",
       "21        affordable_housing_count    1.242234\n",
       "18        bike_share_stations_dist    1.110660\n",
       "0                universities_dist    1.063690\n",
       "17                      bars_count    1.037626\n",
       "69  community_nonprofit_orgs_count    1.031040\n",
       "20         affordable_housing_dist    0.971309"
      ]
     },
     "execution_count": 28,
     "metadata": {},
     "output_type": "execute_result"
    }
   ],
   "source": [
    "feature_importance_df = pd.DataFrame(data={\"feature\": X_04_columns[53:],\n",
    "                                           \"importance\": model_04.get_feature_importance()[53:]})\n",
    "feature_importance_df.sort_values(by=[\"importance\"], ascending=False).head(10)"
   ]
  },
  {
   "cell_type": "code",
   "execution_count": null,
   "metadata": {},
   "outputs": [],
   "source": []
  }
 ],
 "metadata": {
  "kernelspec": {
   "display_name": "Python 3",
   "language": "python",
   "name": "python3"
  },
  "language_info": {
   "codemirror_mode": {
    "name": "ipython",
    "version": 3
   },
   "file_extension": ".py",
   "mimetype": "text/x-python",
   "name": "python",
   "nbconvert_exporter": "python",
   "pygments_lexer": "ipython3",
   "version": "3.7.9"
  },
  "varInspector": {
   "cols": {
    "lenName": 16,
    "lenType": 16,
    "lenVar": 40
   },
   "kernels_config": {
    "python": {
     "delete_cmd_postfix": "",
     "delete_cmd_prefix": "del ",
     "library": "var_list.py",
     "varRefreshCmd": "print(var_dic_list())"
    },
    "r": {
     "delete_cmd_postfix": ") ",
     "delete_cmd_prefix": "rm(",
     "library": "var_list.r",
     "varRefreshCmd": "cat(var_dic_list()) "
    }
   },
   "types_to_exclude": [
    "module",
    "function",
    "builtin_function_or_method",
    "instance",
    "_Feature"
   ],
   "window_display": false
  },
  "widgets": {
   "application/vnd.jupyter.widget-state+json": {
    "state": {
     "0001762a8c9a458ea6595466daad26ec": {
      "model_module": "@jupyter-widgets/controls",
      "model_module_version": "1.5.0",
      "model_name": "HBoxModel",
      "state": {
       "children": [
        "IPY_MODEL_e9affe4072de4b76b4c1218587b2fc83",
        "IPY_MODEL_2dd1560959414d6e9f7150204c6a6bd9",
        "IPY_MODEL_0e2d03cabe734d30ba4b9614d6393790"
       ],
       "layout": "IPY_MODEL_82b258c301fb403780104ef851b9f68c"
      }
     },
     "01576d974e2d4a9c9d72a74dc93ba9ec": {
      "model_module": "@jupyter-widgets/controls",
      "model_module_version": "1.5.0",
      "model_name": "FloatProgressModel",
      "state": {
       "bar_style": "success",
       "layout": "IPY_MODEL_57b23a23f84c4eca858b3388ff2bed2c",
       "max": 5,
       "style": "IPY_MODEL_0f3da9acb86341449b6ad48ef73ff1c7",
       "value": 5
      }
     },
     "01cffbd30d224b5a9e250ed5baa796f5": {
      "model_module": "@jupyter-widgets/controls",
      "model_module_version": "1.5.0",
      "model_name": "HTMLModel",
      "state": {
       "layout": "IPY_MODEL_6816d94f9e554dfe8e38619cd69e2f8e",
       "style": "IPY_MODEL_58952581aa4d481e9f2de3aac33d17a1",
       "value": " 5/5 [00:19&lt;00:00,  3.76s/it]"
      }
     },
     "031215cbdbc64656803d5f43509913b8": {
      "model_module": "@jupyter-widgets/controls",
      "model_module_version": "1.5.0",
      "model_name": "DescriptionStyleModel",
      "state": {
       "description_width": ""
      }
     },
     "03374e0e768046c6bb5c3075ab67879b": {
      "model_module": "@jupyter-widgets/base",
      "model_module_version": "1.2.0",
      "model_name": "LayoutModel",
      "state": {}
     },
     "03a00307f86a47cdbf5d81680aa17d2a": {
      "model_module": "@jupyter-widgets/base",
      "model_module_version": "1.2.0",
      "model_name": "LayoutModel",
      "state": {}
     },
     "03ebde9ceb9844ea9833f1879953215f": {
      "model_module": "@jupyter-widgets/base",
      "model_module_version": "1.2.0",
      "model_name": "LayoutModel",
      "state": {}
     },
     "0514817af6194d7887407c0a05c871ea": {
      "model_module": "@jupyter-widgets/controls",
      "model_module_version": "1.5.0",
      "model_name": "FloatProgressModel",
      "state": {
       "bar_style": "success",
       "layout": "IPY_MODEL_2e48440e90944b6b9031286187f805c3",
       "max": 5,
       "style": "IPY_MODEL_180748c40deb475684baa19b4112b59e",
       "value": 5
      }
     },
     "052c83371d7842e396fa9d32e85d1f51": {
      "model_module": "@jupyter-widgets/controls",
      "model_module_version": "1.5.0",
      "model_name": "HTMLModel",
      "state": {
       "layout": "IPY_MODEL_a93eb67e15554f4b82176c43ca851092",
       "style": "IPY_MODEL_db011e08d34e4642b5d37994fb30a9e1",
       "value": "100%"
      }
     },
     "052c88e3e69c4673a3069bebb1e705f9": {
      "model_module": "@jupyter-widgets/controls",
      "model_module_version": "1.5.0",
      "model_name": "HTMLModel",
      "state": {
       "layout": "IPY_MODEL_4050231b86bf4146a61f0b92e79cd546",
       "style": "IPY_MODEL_069af119bbcd4920961a7fa541c4626d",
       "value": " 5/5 [00:00&lt;00:00, 83.26it/s]"
      }
     },
     "0537449c77e84ac0b9ec2de7cc81119d": {
      "model_module": "@jupyter-widgets/base",
      "model_module_version": "1.2.0",
      "model_name": "LayoutModel",
      "state": {}
     },
     "068c8157703f4daca5bc53b81975f2db": {
      "model_module": "@jupyter-widgets/base",
      "model_module_version": "1.2.0",
      "model_name": "LayoutModel",
      "state": {}
     },
     "069af119bbcd4920961a7fa541c4626d": {
      "model_module": "@jupyter-widgets/controls",
      "model_module_version": "1.5.0",
      "model_name": "DescriptionStyleModel",
      "state": {
       "description_width": ""
      }
     },
     "076fa28430f84ccebee918144feb752a": {
      "model_module": "@jupyter-widgets/controls",
      "model_module_version": "1.5.0",
      "model_name": "HBoxModel",
      "state": {
       "children": [
        "IPY_MODEL_4a7810decf394c12b8fa6fe7bc1a2def",
        "IPY_MODEL_c05cd21642284827a014a7e924e4642b",
        "IPY_MODEL_45e8bbf0a13b4514bfebeb15cec9f0d0"
       ],
       "layout": "IPY_MODEL_15db3fcb11b543619f039e9d1df577f6"
      }
     },
     "08715ff81e4d48f591596e2c5403364f": {
      "model_module": "@jupyter-widgets/controls",
      "model_module_version": "1.5.0",
      "model_name": "HTMLModel",
      "state": {
       "layout": "IPY_MODEL_27b9caba884b423081dfa642d8bbc292",
       "style": "IPY_MODEL_51d7688a00d148f59454aa7b4fde134b",
       "value": "100%"
      }
     },
     "08991d2462c645f8af59bc7fe0310573": {
      "model_module": "@jupyter-widgets/controls",
      "model_module_version": "1.5.0",
      "model_name": "DescriptionStyleModel",
      "state": {
       "description_width": ""
      }
     },
     "08b546816059400dbafd72e659b0e742": {
      "model_module": "@jupyter-widgets/base",
      "model_module_version": "1.2.0",
      "model_name": "LayoutModel",
      "state": {}
     },
     "096b56c1bbd544188f0158d3caa67bc9": {
      "model_module": "@jupyter-widgets/controls",
      "model_module_version": "1.5.0",
      "model_name": "FloatProgressModel",
      "state": {
       "bar_style": "success",
       "layout": "IPY_MODEL_a65cc4e842a4466b949659ca96c7c81a",
       "max": 5,
       "style": "IPY_MODEL_7d332043fd6347249e670e006e350a53",
       "value": 5
      }
     },
     "097a70ab67e34c8f8fc031cc4aa6fdff": {
      "model_module": "@jupyter-widgets/controls",
      "model_module_version": "1.5.0",
      "model_name": "DescriptionStyleModel",
      "state": {
       "description_width": ""
      }
     },
     "09b343795c4644bf81b1d7d646b839f3": {
      "model_module": "@jupyter-widgets/base",
      "model_module_version": "1.2.0",
      "model_name": "LayoutModel",
      "state": {}
     },
     "09bc84f8a5cd4df19a13fc461b8b8853": {
      "model_module": "@jupyter-widgets/controls",
      "model_module_version": "1.5.0",
      "model_name": "DescriptionStyleModel",
      "state": {
       "description_width": ""
      }
     },
     "09f0c245a40a425e8829bd179d770ae6": {
      "model_module": "@jupyter-widgets/controls",
      "model_module_version": "1.5.0",
      "model_name": "DescriptionStyleModel",
      "state": {
       "description_width": ""
      }
     },
     "0a4f15e51614466ebee904e788d298f7": {
      "model_module": "@jupyter-widgets/controls",
      "model_module_version": "1.5.0",
      "model_name": "ProgressStyleModel",
      "state": {
       "description_width": ""
      }
     },
     "0a8043a738f143b18c5757a561e978a8": {
      "model_module": "@jupyter-widgets/base",
      "model_module_version": "1.2.0",
      "model_name": "LayoutModel",
      "state": {}
     },
     "0a9291fa31354fbbbc761a7c81a0243f": {
      "model_module": "@jupyter-widgets/controls",
      "model_module_version": "1.5.0",
      "model_name": "DescriptionStyleModel",
      "state": {
       "description_width": ""
      }
     },
     "0b00dddac6804c52b8011becb53cab9b": {
      "model_module": "@jupyter-widgets/base",
      "model_module_version": "1.2.0",
      "model_name": "LayoutModel",
      "state": {}
     },
     "0b324232b1ab4fbf9f6916f15d8593bb": {
      "model_module": "@jupyter-widgets/controls",
      "model_module_version": "1.5.0",
      "model_name": "DescriptionStyleModel",
      "state": {
       "description_width": ""
      }
     },
     "0b4d110b85424e7e9297edab10cf82d8": {
      "model_module": "@jupyter-widgets/base",
      "model_module_version": "1.2.0",
      "model_name": "LayoutModel",
      "state": {}
     },
     "0b9ec2ca4a7c4d8cbdb30de873730f66": {
      "model_module": "@jupyter-widgets/base",
      "model_module_version": "1.2.0",
      "model_name": "LayoutModel",
      "state": {}
     },
     "0ba48214af174d8e8653019f35ec2a5a": {
      "model_module": "@jupyter-widgets/controls",
      "model_module_version": "1.5.0",
      "model_name": "HBoxModel",
      "state": {
       "children": [
        "IPY_MODEL_6420acb0a0e14eb9ad7a6b8a2da679af",
        "IPY_MODEL_ea834686b66f4b07bc7dd352c6f84075",
        "IPY_MODEL_c767e675a3124b4db8d0255e1581eef6"
       ],
       "layout": "IPY_MODEL_f332b099e61f43408fb2c5bc011491f4"
      }
     },
     "0bf4df7bb1434623b132f426517c5bec": {
      "model_module": "@jupyter-widgets/controls",
      "model_module_version": "1.5.0",
      "model_name": "FloatProgressModel",
      "state": {
       "bar_style": "success",
       "layout": "IPY_MODEL_a90d246caade4df3a5ad04b2dbca0bcd",
       "max": 5,
       "style": "IPY_MODEL_eae25f18ca8c427a85f310511b7131c8",
       "value": 5
      }
     },
     "0c2e8cac0dbf43339a40e05f25f48014": {
      "model_module": "@jupyter-widgets/base",
      "model_module_version": "1.2.0",
      "model_name": "LayoutModel",
      "state": {}
     },
     "0c31dc88c71b43bdbdb1156af5e16c02": {
      "model_module": "@jupyter-widgets/base",
      "model_module_version": "1.2.0",
      "model_name": "LayoutModel",
      "state": {}
     },
     "0d5c59cd2d7a452cafb58e3954231346": {
      "model_module": "@jupyter-widgets/controls",
      "model_module_version": "1.5.0",
      "model_name": "HTMLModel",
      "state": {
       "layout": "IPY_MODEL_e0d55517173e4e84a6e410554ef4075d",
       "style": "IPY_MODEL_09f0c245a40a425e8829bd179d770ae6",
       "value": " 5/5 [00:01&lt;00:00,  3.25it/s]"
      }
     },
     "0dc9a9b6ee40490d84c2a51a2a109dd4": {
      "model_module": "@jupyter-widgets/controls",
      "model_module_version": "1.5.0",
      "model_name": "HTMLModel",
      "state": {
       "layout": "IPY_MODEL_1cdc252eb2004e2486de061d45098871",
       "style": "IPY_MODEL_0a9291fa31354fbbbc761a7c81a0243f",
       "value": "100%"
      }
     },
     "0df7c90f42ef46f3bb59bd27f8493c21": {
      "model_module": "@jupyter-widgets/controls",
      "model_module_version": "1.5.0",
      "model_name": "ProgressStyleModel",
      "state": {
       "description_width": ""
      }
     },
     "0e25f640875b460d8715c9a01aba14b3": {
      "model_module": "@jupyter-widgets/base",
      "model_module_version": "1.2.0",
      "model_name": "LayoutModel",
      "state": {}
     },
     "0e2d03cabe734d30ba4b9614d6393790": {
      "model_module": "@jupyter-widgets/controls",
      "model_module_version": "1.5.0",
      "model_name": "HTMLModel",
      "state": {
       "layout": "IPY_MODEL_f48649de9b974bf4ad3fe188e19b7f1d",
       "style": "IPY_MODEL_09bc84f8a5cd4df19a13fc461b8b8853",
       "value": " 5/5 [00:01&lt;00:00,  3.43it/s]"
      }
     },
     "0e871760bfbb47609247d4cdb7f3c7da": {
      "model_module": "@jupyter-widgets/base",
      "model_module_version": "1.2.0",
      "model_name": "LayoutModel",
      "state": {}
     },
     "0ea72dbc8d094cf985606242b0058685": {
      "model_module": "@jupyter-widgets/controls",
      "model_module_version": "1.5.0",
      "model_name": "HTMLModel",
      "state": {
       "layout": "IPY_MODEL_3fe83facc89b4e168f13577a937fc283",
       "style": "IPY_MODEL_0f25985cecca43bda08fec77459760cc",
       "value": " 5/5 [00:17&lt;00:00,  3.55s/it]"
      }
     },
     "0f25985cecca43bda08fec77459760cc": {
      "model_module": "@jupyter-widgets/controls",
      "model_module_version": "1.5.0",
      "model_name": "DescriptionStyleModel",
      "state": {
       "description_width": ""
      }
     },
     "0f38491c8ba44ee7a3813af852843e49": {
      "model_module": "@jupyter-widgets/base",
      "model_module_version": "1.2.0",
      "model_name": "LayoutModel",
      "state": {}
     },
     "0f3da9acb86341449b6ad48ef73ff1c7": {
      "model_module": "@jupyter-widgets/controls",
      "model_module_version": "1.5.0",
      "model_name": "ProgressStyleModel",
      "state": {
       "description_width": ""
      }
     },
     "0f7a0ba8720b42c7a7de8610bd4c61ec": {
      "model_module": "@jupyter-widgets/controls",
      "model_module_version": "1.5.0",
      "model_name": "HTMLModel",
      "state": {
       "layout": "IPY_MODEL_d4237f70ffea4fbb851e7e3dbeeb5f53",
       "style": "IPY_MODEL_2d8e4a64c0be43ebaa1a555fbe0af083",
       "value": " 5/5 [00:17&lt;00:00,  3.50s/it]"
      }
     },
     "109c472734ba43de9e415c97cec40bc5": {
      "model_module": "@jupyter-widgets/controls",
      "model_module_version": "1.5.0",
      "model_name": "FloatProgressModel",
      "state": {
       "bar_style": "success",
       "layout": "IPY_MODEL_6375628a9f2f46ddb3da73a272908f3b",
       "max": 5,
       "style": "IPY_MODEL_5aaf22a00fee4833818d32ea5e6e6cb5",
       "value": 5
      }
     },
     "10a07898d3054a9d8983cfaf3efb58ab": {
      "model_module": "@jupyter-widgets/base",
      "model_module_version": "1.2.0",
      "model_name": "LayoutModel",
      "state": {}
     },
     "119ab8a13f2845219fe29e19029cc271": {
      "model_module": "@jupyter-widgets/base",
      "model_module_version": "1.2.0",
      "model_name": "LayoutModel",
      "state": {}
     },
     "1212f397eb064d9e945b0447fcd5c942": {
      "model_module": "@jupyter-widgets/controls",
      "model_module_version": "1.5.0",
      "model_name": "DescriptionStyleModel",
      "state": {
       "description_width": ""
      }
     },
     "123f59ba4b8a4fbc8b285c651aeaad7a": {
      "model_module": "@jupyter-widgets/controls",
      "model_module_version": "1.5.0",
      "model_name": "ProgressStyleModel",
      "state": {
       "description_width": ""
      }
     },
     "124503e8b2eb41a6a925f49c1453057c": {
      "model_module": "@jupyter-widgets/controls",
      "model_module_version": "1.5.0",
      "model_name": "HBoxModel",
      "state": {
       "children": [
        "IPY_MODEL_def7d9cf5da242bd837f65aa87ec881f",
        "IPY_MODEL_d7facb8d8c05438d80f3e2e3d4f02823",
        "IPY_MODEL_bd92dad5cc734065a1198be604d378ca"
       ],
       "layout": "IPY_MODEL_a9203220a22e48e294df87d689863bce"
      }
     },
     "12afd80f006a43e3823e82f7521e7469": {
      "model_module": "@jupyter-widgets/controls",
      "model_module_version": "1.5.0",
      "model_name": "HBoxModel",
      "state": {
       "children": [
        "IPY_MODEL_f68b8ebacb9346ecb4c82312bedf743c",
        "IPY_MODEL_cf2785a501ab44969bf6ecfee2431d10",
        "IPY_MODEL_635c3402957c4d73b28a525ad93b80dc"
       ],
       "layout": "IPY_MODEL_b0c57900affc4b2c8db2fbf7c45145a3"
      }
     },
     "132b4a612ded487daf60b8edd135f84e": {
      "model_module": "@jupyter-widgets/controls",
      "model_module_version": "1.5.0",
      "model_name": "ProgressStyleModel",
      "state": {
       "description_width": ""
      }
     },
     "13634246b9a74dbd8fdd8a80e5827dd1": {
      "model_module": "@jupyter-widgets/controls",
      "model_module_version": "1.5.0",
      "model_name": "HTMLModel",
      "state": {
       "layout": "IPY_MODEL_ffa0d91c070e456abe16d08a0e3f979f",
       "style": "IPY_MODEL_e29bdbb463184226b8ebdaa113356298",
       "value": "100%"
      }
     },
     "138945d69cc1466294fe36e3891a2a34": {
      "model_module": "@jupyter-widgets/base",
      "model_module_version": "1.2.0",
      "model_name": "LayoutModel",
      "state": {}
     },
     "13b3c7680e4e413cbefe6e1ac1f6a510": {
      "model_module": "@jupyter-widgets/base",
      "model_module_version": "1.2.0",
      "model_name": "LayoutModel",
      "state": {}
     },
     "14092f8b678b449cab0a6fee1ec102c0": {
      "model_module": "@jupyter-widgets/base",
      "model_module_version": "1.2.0",
      "model_name": "LayoutModel",
      "state": {}
     },
     "140e16f678cf45c098cadcdb0f389c80": {
      "model_module": "@jupyter-widgets/controls",
      "model_module_version": "1.5.0",
      "model_name": "FloatProgressModel",
      "state": {
       "bar_style": "success",
       "layout": "IPY_MODEL_48fbe079a9ad44268ef600a5f5f2e223",
       "max": 5,
       "style": "IPY_MODEL_700a161ffbba4a6399b0c7a1f3ecb0a1",
       "value": 5
      }
     },
     "147f825a530b478099d9ca854f393656": {
      "model_module": "@jupyter-widgets/base",
      "model_module_version": "1.2.0",
      "model_name": "LayoutModel",
      "state": {}
     },
     "14dc9b166b9a4bda955bde10098a1dbc": {
      "model_module": "@jupyter-widgets/base",
      "model_module_version": "1.2.0",
      "model_name": "LayoutModel",
      "state": {}
     },
     "154d75691a5f4605a7098ed3e22d02cf": {
      "model_module": "@jupyter-widgets/controls",
      "model_module_version": "1.5.0",
      "model_name": "FloatProgressModel",
      "state": {
       "bar_style": "success",
       "layout": "IPY_MODEL_0b00dddac6804c52b8011becb53cab9b",
       "max": 5,
       "style": "IPY_MODEL_40df24f6d0164924a8da9438bf8c5807",
       "value": 5
      }
     },
     "15db3fcb11b543619f039e9d1df577f6": {
      "model_module": "@jupyter-widgets/base",
      "model_module_version": "1.2.0",
      "model_name": "LayoutModel",
      "state": {}
     },
     "15f3f663b9904d0b9ce46aaf89d56111": {
      "model_module": "@jupyter-widgets/controls",
      "model_module_version": "1.5.0",
      "model_name": "ProgressStyleModel",
      "state": {
       "description_width": ""
      }
     },
     "16b6ffaa64644a16a55628ba49490b24": {
      "model_module": "@jupyter-widgets/controls",
      "model_module_version": "1.5.0",
      "model_name": "DescriptionStyleModel",
      "state": {
       "description_width": ""
      }
     },
     "170155d2c7924bf6a2c14c01c0ff20d4": {
      "model_module": "@jupyter-widgets/controls",
      "model_module_version": "1.5.0",
      "model_name": "FloatProgressModel",
      "state": {
       "bar_style": "success",
       "layout": "IPY_MODEL_42442745f0684454aaf280b390349a35",
       "max": 5,
       "style": "IPY_MODEL_132b4a612ded487daf60b8edd135f84e",
       "value": 5
      }
     },
     "172e3a0b17464049bdeb370f216c16fe": {
      "model_module": "@jupyter-widgets/controls",
      "model_module_version": "1.5.0",
      "model_name": "HTMLModel",
      "state": {
       "layout": "IPY_MODEL_feaa362b9a254ee6b6b41657f79a599e",
       "style": "IPY_MODEL_5487469c31bb42ceb3a970413512b872",
       "value": "100%"
      }
     },
     "17926ac296f94ffab5192e713b0594e4": {
      "model_module": "@jupyter-widgets/controls",
      "model_module_version": "1.5.0",
      "model_name": "DescriptionStyleModel",
      "state": {
       "description_width": ""
      }
     },
     "17bdd5f7695b4a819152b36b7969415c": {
      "model_module": "@jupyter-widgets/controls",
      "model_module_version": "1.5.0",
      "model_name": "ProgressStyleModel",
      "state": {
       "description_width": ""
      }
     },
     "180748c40deb475684baa19b4112b59e": {
      "model_module": "@jupyter-widgets/controls",
      "model_module_version": "1.5.0",
      "model_name": "ProgressStyleModel",
      "state": {
       "description_width": ""
      }
     },
     "181f5884320a4d4581d5952039ba35b3": {
      "model_module": "@jupyter-widgets/controls",
      "model_module_version": "1.5.0",
      "model_name": "HTMLModel",
      "state": {
       "layout": "IPY_MODEL_8c961f5ee2a542b6b4cdbf079451cdcd",
       "style": "IPY_MODEL_22195dc42dcd41df832216ef6298f1de",
       "value": " 5/5 [00:22&lt;00:00,  4.42s/it]"
      }
     },
     "1980006bd6b84cffb5bfcf15cf0da42f": {
      "model_module": "@jupyter-widgets/base",
      "model_module_version": "1.2.0",
      "model_name": "LayoutModel",
      "state": {}
     },
     "19d850b4d9674a37b49355a50ea711f8": {
      "model_module": "@jupyter-widgets/controls",
      "model_module_version": "1.5.0",
      "model_name": "HTMLModel",
      "state": {
       "layout": "IPY_MODEL_0e25f640875b460d8715c9a01aba14b3",
       "style": "IPY_MODEL_1212f397eb064d9e945b0447fcd5c942",
       "value": "100%"
      }
     },
     "1a37c712fcf6407abc5097507dd84c50": {
      "model_module": "@jupyter-widgets/base",
      "model_module_version": "1.2.0",
      "model_name": "LayoutModel",
      "state": {}
     },
     "1a722689e1494a6fb0262a9b1bb254ba": {
      "model_module": "@jupyter-widgets/controls",
      "model_module_version": "1.5.0",
      "model_name": "HTMLModel",
      "state": {
       "layout": "IPY_MODEL_09b343795c4644bf81b1d7d646b839f3",
       "style": "IPY_MODEL_9f2fc30a3d6e48b9b915f6023d5b8836",
       "value": " 5/5 [00:18&lt;00:00,  3.64s/it]"
      }
     },
     "1a7dd3a263dc48eda8b614a41747c7e5": {
      "model_module": "@jupyter-widgets/base",
      "model_module_version": "1.2.0",
      "model_name": "LayoutModel",
      "state": {}
     },
     "1cdc252eb2004e2486de061d45098871": {
      "model_module": "@jupyter-widgets/base",
      "model_module_version": "1.2.0",
      "model_name": "LayoutModel",
      "state": {}
     },
     "1ce4e6327cde4baaa694a73b011fbef0": {
      "model_module": "@jupyter-widgets/controls",
      "model_module_version": "1.5.0",
      "model_name": "HTMLModel",
      "state": {
       "layout": "IPY_MODEL_5cd62510da894f43acee5e85cf5aca26",
       "style": "IPY_MODEL_f6d739d560134953ab0f2bf164eb60a5",
       "value": "100%"
      }
     },
     "1d4288f55b2a45ec8c5484b9e2c7ba1f": {
      "model_module": "@jupyter-widgets/controls",
      "model_module_version": "1.5.0",
      "model_name": "FloatProgressModel",
      "state": {
       "bar_style": "success",
       "layout": "IPY_MODEL_395d5f4912dc4d3182b1edccf72ece88",
       "max": 5,
       "style": "IPY_MODEL_15f3f663b9904d0b9ce46aaf89d56111",
       "value": 5
      }
     },
     "1de0d925deb3435fa8ae1e87b0291aef": {
      "model_module": "@jupyter-widgets/controls",
      "model_module_version": "1.5.0",
      "model_name": "ProgressStyleModel",
      "state": {
       "description_width": ""
      }
     },
     "1f1a41ba6cc04ab083faef6a01d46871": {
      "model_module": "@jupyter-widgets/controls",
      "model_module_version": "1.5.0",
      "model_name": "DescriptionStyleModel",
      "state": {
       "description_width": ""
      }
     },
     "1f9ef92eaf61482e97837705e1203a97": {
      "model_module": "@jupyter-widgets/controls",
      "model_module_version": "1.5.0",
      "model_name": "ProgressStyleModel",
      "state": {
       "description_width": ""
      }
     },
     "1fa89c27ec3f4eab878a8af83c7b0205": {
      "model_module": "@jupyter-widgets/base",
      "model_module_version": "1.2.0",
      "model_name": "LayoutModel",
      "state": {}
     },
     "20142c3043d24ce89217443bfac8f713": {
      "model_module": "@jupyter-widgets/controls",
      "model_module_version": "1.5.0",
      "model_name": "ProgressStyleModel",
      "state": {
       "description_width": ""
      }
     },
     "207aae88ac4a4d7d8e65bc593a608515": {
      "model_module": "@jupyter-widgets/controls",
      "model_module_version": "1.5.0",
      "model_name": "ProgressStyleModel",
      "state": {
       "description_width": ""
      }
     },
     "209aefce89194f10980aaae832a60505": {
      "model_module": "@jupyter-widgets/controls",
      "model_module_version": "1.5.0",
      "model_name": "HBoxModel",
      "state": {
       "children": [
        "IPY_MODEL_7c516335184f43cb8f8968752e02971e",
        "IPY_MODEL_ce367c5cb9224ff6be48ffddf3d0149a",
        "IPY_MODEL_ef80ba766ab64e038afe58ddb1f96dc0"
       ],
       "layout": "IPY_MODEL_52077472259c42af9050e12bdc9dae6b"
      }
     },
     "209d433b7fb74a82bc09c722e09884fd": {
      "model_module": "@jupyter-widgets/base",
      "model_module_version": "1.2.0",
      "model_name": "LayoutModel",
      "state": {}
     },
     "20ed9c212d4748cc90fae38141cbb6f8": {
      "model_module": "@jupyter-widgets/base",
      "model_module_version": "1.2.0",
      "model_name": "LayoutModel",
      "state": {}
     },
     "213b6e8931c7465a96fd7f1aabfc5f1f": {
      "model_module": "@jupyter-widgets/base",
      "model_module_version": "1.2.0",
      "model_name": "LayoutModel",
      "state": {}
     },
     "21490758b2be4b6f961a9ea8386a7ff3": {
      "model_module": "@jupyter-widgets/controls",
      "model_module_version": "1.5.0",
      "model_name": "HBoxModel",
      "state": {
       "children": [
        "IPY_MODEL_7df3fa7f514b4cd6bbe9423fb55ad74e",
        "IPY_MODEL_71baa4a0fa7f49e9a5df984e30eaf6bf",
        "IPY_MODEL_eb94c1389a6945168e1a05ff5c5f44d2"
       ],
       "layout": "IPY_MODEL_fe143d20ea204c278b643a4a9f5dba12"
      }
     },
     "217a5a9511e7429aa4fc4af1a7ca3f47": {
      "model_module": "@jupyter-widgets/controls",
      "model_module_version": "1.5.0",
      "model_name": "DescriptionStyleModel",
      "state": {
       "description_width": ""
      }
     },
     "2188e43f1b964405b00051176b1334f2": {
      "model_module": "@jupyter-widgets/controls",
      "model_module_version": "1.5.0",
      "model_name": "HTMLModel",
      "state": {
       "layout": "IPY_MODEL_955dabecf9b7471283ffc86686915b0a",
       "style": "IPY_MODEL_e2573813556742f39f48240d7faabf9b",
       "value": " 5/5 [00:16&lt;00:00,  3.32s/it]"
      }
     },
     "21d03beedd5c4a67ae98b4e1ae5cfc84": {
      "model_module": "@jupyter-widgets/controls",
      "model_module_version": "1.5.0",
      "model_name": "ProgressStyleModel",
      "state": {
       "description_width": ""
      }
     },
     "22195dc42dcd41df832216ef6298f1de": {
      "model_module": "@jupyter-widgets/controls",
      "model_module_version": "1.5.0",
      "model_name": "DescriptionStyleModel",
      "state": {
       "description_width": ""
      }
     },
     "224f3c3d51b8429cbd69d794730f68f0": {
      "model_module": "@jupyter-widgets/controls",
      "model_module_version": "1.5.0",
      "model_name": "DescriptionStyleModel",
      "state": {
       "description_width": ""
      }
     },
     "2263ade0df484728bcd86422f9ce09c6": {
      "model_module": "@jupyter-widgets/base",
      "model_module_version": "1.2.0",
      "model_name": "LayoutModel",
      "state": {}
     },
     "2270ce8ff52d43b8b610441cb1ae2e2b": {
      "model_module": "@jupyter-widgets/controls",
      "model_module_version": "1.5.0",
      "model_name": "DescriptionStyleModel",
      "state": {
       "description_width": ""
      }
     },
     "227baa7a77aa4b60901862f9bd8432da": {
      "model_module": "@jupyter-widgets/base",
      "model_module_version": "1.2.0",
      "model_name": "LayoutModel",
      "state": {}
     },
     "22917721b0034e669767932969e5f0b4": {
      "model_module": "@jupyter-widgets/controls",
      "model_module_version": "1.5.0",
      "model_name": "DescriptionStyleModel",
      "state": {
       "description_width": ""
      }
     },
     "22f23bd8923546f39384103e7812bace": {
      "model_module": "@jupyter-widgets/controls",
      "model_module_version": "1.5.0",
      "model_name": "FloatProgressModel",
      "state": {
       "bar_style": "success",
       "layout": "IPY_MODEL_7b8d90c90a594291b75d9d998db888f0",
       "max": 5,
       "style": "IPY_MODEL_c6be54dcf106428b9f7ae704a22ee742",
       "value": 5
      }
     },
     "236119526a474dcba66860121bf551d5": {
      "model_module": "@jupyter-widgets/controls",
      "model_module_version": "1.5.0",
      "model_name": "HTMLModel",
      "state": {
       "layout": "IPY_MODEL_e134c661bdb64d4e8aa8bffd362a319a",
       "style": "IPY_MODEL_e3e0c1a080684d2fa63532f4f3be52ea",
       "value": " 5/5 [00:01&lt;00:00,  3.47it/s]"
      }
     },
     "2381a8411c6149f9a4722e68f27fc8bc": {
      "model_module": "@jupyter-widgets/controls",
      "model_module_version": "1.5.0",
      "model_name": "DescriptionStyleModel",
      "state": {
       "description_width": ""
      }
     },
     "23f7c4df255140a4ba23c4586dbdd5e1": {
      "model_module": "@jupyter-widgets/controls",
      "model_module_version": "1.5.0",
      "model_name": "DescriptionStyleModel",
      "state": {
       "description_width": ""
      }
     },
     "2401e59d94eb452290b0a0c86a4c24d4": {
      "model_module": "@jupyter-widgets/controls",
      "model_module_version": "1.5.0",
      "model_name": "HTMLModel",
      "state": {
       "layout": "IPY_MODEL_03374e0e768046c6bb5c3075ab67879b",
       "style": "IPY_MODEL_23f7c4df255140a4ba23c4586dbdd5e1",
       "value": " 5/5 [00:18&lt;00:00,  3.67s/it]"
      }
     },
     "2447b87a55cd44ceb0f823bd73890c4d": {
      "model_module": "@jupyter-widgets/controls",
      "model_module_version": "1.5.0",
      "model_name": "DescriptionStyleModel",
      "state": {
       "description_width": ""
      }
     },
     "24dfdf4d97f047639d3efadc45f277a0": {
      "model_module": "@jupyter-widgets/controls",
      "model_module_version": "1.5.0",
      "model_name": "HTMLModel",
      "state": {
       "layout": "IPY_MODEL_8aa1c2ba353946938a28cd6998255002",
       "style": "IPY_MODEL_d801f0c0c7bc487e998d5633b9102f24",
       "value": " 5/5 [00:00&lt;00:00, 86.13it/s]"
      }
     },
     "24fc89cef3a24beb931d4bfc245fe61c": {
      "model_module": "@jupyter-widgets/base",
      "model_module_version": "1.2.0",
      "model_name": "LayoutModel",
      "state": {}
     },
     "26801b830f4447f783b43d987a9eb88a": {
      "model_module": "@jupyter-widgets/controls",
      "model_module_version": "1.5.0",
      "model_name": "HTMLModel",
      "state": {
       "layout": "IPY_MODEL_a799d6cc865342ed8b6a3c4083c357c4",
       "style": "IPY_MODEL_6feef546bf6d46adb3ae1401e0f16620",
       "value": "100%"
      }
     },
     "2693551ec373455592f6c855d6717d13": {
      "model_module": "@jupyter-widgets/controls",
      "model_module_version": "1.5.0",
      "model_name": "HTMLModel",
      "state": {
       "layout": "IPY_MODEL_1980006bd6b84cffb5bfcf15cf0da42f",
       "style": "IPY_MODEL_6cbcc4c2f1b64f53bd2015b3f3c63a1c",
       "value": " 5/5 [00:00&lt;00:00, 22.28it/s]"
      }
     },
     "269a2b5e4857416e9090986411d88bc9": {
      "model_module": "@jupyter-widgets/controls",
      "model_module_version": "1.5.0",
      "model_name": "DescriptionStyleModel",
      "state": {
       "description_width": ""
      }
     },
     "270f81b34a6f4673805f4ab1aae19aa9": {
      "model_module": "@jupyter-widgets/controls",
      "model_module_version": "1.5.0",
      "model_name": "HTMLModel",
      "state": {
       "layout": "IPY_MODEL_0c31dc88c71b43bdbdb1156af5e16c02",
       "style": "IPY_MODEL_2b224898f7f64edeb93cd4a530ed50e9",
       "value": " 5/5 [00:19&lt;00:00,  3.76s/it]"
      }
     },
     "274c0840f1f1445f8160f4e9a38f8ff1": {
      "model_module": "@jupyter-widgets/controls",
      "model_module_version": "1.5.0",
      "model_name": "HBoxModel",
      "state": {
       "children": [
        "IPY_MODEL_c615f32278e04383bfab39e830f3ecc2",
        "IPY_MODEL_67774353c16e475c8bfee6c6634cc1c3",
        "IPY_MODEL_01cffbd30d224b5a9e250ed5baa796f5"
       ],
       "layout": "IPY_MODEL_bfba321e96bf4fc4a9ac2b54d6416e50"
      }
     },
     "27b9caba884b423081dfa642d8bbc292": {
      "model_module": "@jupyter-widgets/base",
      "model_module_version": "1.2.0",
      "model_name": "LayoutModel",
      "state": {}
     },
     "284cdd480e944da4a588a6050ab1c936": {
      "model_module": "@jupyter-widgets/controls",
      "model_module_version": "1.5.0",
      "model_name": "ProgressStyleModel",
      "state": {
       "description_width": ""
      }
     },
     "28811e4d16384f1fb71033d7188bdd5e": {
      "model_module": "@jupyter-widgets/base",
      "model_module_version": "1.2.0",
      "model_name": "LayoutModel",
      "state": {}
     },
     "2ac5f6620a13425d98d51ecbfadb80b6": {
      "model_module": "@jupyter-widgets/base",
      "model_module_version": "1.2.0",
      "model_name": "LayoutModel",
      "state": {}
     },
     "2aeae507385e48858d8ef805b7cb56d6": {
      "model_module": "@jupyter-widgets/base",
      "model_module_version": "1.2.0",
      "model_name": "LayoutModel",
      "state": {}
     },
     "2b224898f7f64edeb93cd4a530ed50e9": {
      "model_module": "@jupyter-widgets/controls",
      "model_module_version": "1.5.0",
      "model_name": "DescriptionStyleModel",
      "state": {
       "description_width": ""
      }
     },
     "2b93bbd043b048a19e50245716224276": {
      "model_module": "@jupyter-widgets/base",
      "model_module_version": "1.2.0",
      "model_name": "LayoutModel",
      "state": {}
     },
     "2c85b99173f04f14aac1651b7b76c94e": {
      "model_module": "@jupyter-widgets/controls",
      "model_module_version": "1.5.0",
      "model_name": "FloatProgressModel",
      "state": {
       "bar_style": "success",
       "layout": "IPY_MODEL_3a38a89d22264be3b37235af65003e98",
       "max": 5,
       "style": "IPY_MODEL_b76e09f4dccf4a3e9dbff844aea4ff31",
       "value": 5
      }
     },
     "2cc42ecf09e0472f8dec8faefbee3149": {
      "model_module": "@jupyter-widgets/controls",
      "model_module_version": "1.5.0",
      "model_name": "HTMLModel",
      "state": {
       "layout": "IPY_MODEL_86cee7f1f6b848ed99444c209adf267f",
       "style": "IPY_MODEL_aba07a7bacb94f9e957e63553dce83d8",
       "value": "100%"
      }
     },
     "2cf23cba1256411bbb6d87339ae0c417": {
      "model_module": "@jupyter-widgets/controls",
      "model_module_version": "1.5.0",
      "model_name": "DescriptionStyleModel",
      "state": {
       "description_width": ""
      }
     },
     "2d8e4a64c0be43ebaa1a555fbe0af083": {
      "model_module": "@jupyter-widgets/controls",
      "model_module_version": "1.5.0",
      "model_name": "DescriptionStyleModel",
      "state": {
       "description_width": ""
      }
     },
     "2da893844f344034846e179e950ccdf4": {
      "model_module": "@jupyter-widgets/controls",
      "model_module_version": "1.5.0",
      "model_name": "FloatProgressModel",
      "state": {
       "bar_style": "success",
       "layout": "IPY_MODEL_81f4d47a75b749b0b242131cfbdecc5c",
       "max": 5,
       "style": "IPY_MODEL_51c845b71a5e424991d5959c61cf5d7d",
       "value": 5
      }
     },
     "2dc4b4eef68f4bc6b3fbcb3ae534d7ac": {
      "model_module": "@jupyter-widgets/controls",
      "model_module_version": "1.5.0",
      "model_name": "HTMLModel",
      "state": {
       "layout": "IPY_MODEL_66896203304247369a236bd24a91c3f8",
       "style": "IPY_MODEL_96b01e179ebf4d50832a8904c496fb71",
       "value": "100%"
      }
     },
     "2dd1560959414d6e9f7150204c6a6bd9": {
      "model_module": "@jupyter-widgets/controls",
      "model_module_version": "1.5.0",
      "model_name": "FloatProgressModel",
      "state": {
       "bar_style": "success",
       "layout": "IPY_MODEL_7416eae4c9834200a256aa13462d50bf",
       "max": 5,
       "style": "IPY_MODEL_207aae88ac4a4d7d8e65bc593a608515",
       "value": 5
      }
     },
     "2de3f395dece4f009f42039ed041c00b": {
      "model_module": "@jupyter-widgets/controls",
      "model_module_version": "1.5.0",
      "model_name": "ProgressStyleModel",
      "state": {
       "description_width": ""
      }
     },
     "2e48440e90944b6b9031286187f805c3": {
      "model_module": "@jupyter-widgets/base",
      "model_module_version": "1.2.0",
      "model_name": "LayoutModel",
      "state": {}
     },
     "2ea8485505e84877a326276e0aa7c9d6": {
      "model_module": "@jupyter-widgets/controls",
      "model_module_version": "1.5.0",
      "model_name": "HTMLModel",
      "state": {
       "layout": "IPY_MODEL_eff06b57518a4e09b0836f725916fb64",
       "style": "IPY_MODEL_2381a8411c6149f9a4722e68f27fc8bc",
       "value": "100%"
      }
     },
     "2f1a92387b424184aee278bd2131372a": {
      "model_module": "@jupyter-widgets/controls",
      "model_module_version": "1.5.0",
      "model_name": "HTMLModel",
      "state": {
       "layout": "IPY_MODEL_e09ee527198e4ac98733a389463c2df7",
       "style": "IPY_MODEL_87f415cfdba549e3b9c9512ed44c35ec",
       "value": " 5/5 [00:00&lt;00:00, 20.75it/s]"
      }
     },
     "2fb7f822083146239753ae0d95185c63": {
      "model_module": "@jupyter-widgets/controls",
      "model_module_version": "1.5.0",
      "model_name": "DescriptionStyleModel",
      "state": {
       "description_width": ""
      }
     },
     "2ff210a663b54d3db8266a4c0b3120db": {
      "model_module": "@jupyter-widgets/controls",
      "model_module_version": "1.5.0",
      "model_name": "HTMLModel",
      "state": {
       "layout": "IPY_MODEL_936596324bd24bd4961187058363be79",
       "style": "IPY_MODEL_b80a1e1c8a0b4281a2e2410417dd5c35",
       "value": "100%"
      }
     },
     "31f48bf835cf4cb197951800c885234d": {
      "model_module": "@jupyter-widgets/controls",
      "model_module_version": "1.5.0",
      "model_name": "HTMLModel",
      "state": {
       "layout": "IPY_MODEL_f0b8d124ff544c71b864f71ad56dffdc",
       "style": "IPY_MODEL_ce21926870554a5db723ee35b8052a03",
       "value": "100%"
      }
     },
     "32c649ef781e41bb976c945b349f72e6": {
      "model_module": "@jupyter-widgets/controls",
      "model_module_version": "1.5.0",
      "model_name": "HTMLModel",
      "state": {
       "layout": "IPY_MODEL_aaea13738194489f9bd23d68163dfde3",
       "style": "IPY_MODEL_22917721b0034e669767932969e5f0b4",
       "value": "100%"
      }
     },
     "33ff767d0aa34591b734a7add3b01c83": {
      "model_module": "@jupyter-widgets/controls",
      "model_module_version": "1.5.0",
      "model_name": "DescriptionStyleModel",
      "state": {
       "description_width": ""
      }
     },
     "3545b0fbb40848c78709407169e95b60": {
      "model_module": "@jupyter-widgets/controls",
      "model_module_version": "1.5.0",
      "model_name": "HTMLModel",
      "state": {
       "layout": "IPY_MODEL_9815842aa5dd46b9b0a9548844dc5d8f",
       "style": "IPY_MODEL_826a293e9390474c8f8f196b6fd8e1c4",
       "value": "100%"
      }
     },
     "355243589c62433b8a197504b01b0bfa": {
      "model_module": "@jupyter-widgets/controls",
      "model_module_version": "1.5.0",
      "model_name": "HTMLModel",
      "state": {
       "layout": "IPY_MODEL_dc6fcd63c1a04761aceb4de7f2f1a7ef",
       "style": "IPY_MODEL_1f1a41ba6cc04ab083faef6a01d46871",
       "value": "100%"
      }
     },
     "35745c47f3c74c03b96be70151fb7fc1": {
      "model_module": "@jupyter-widgets/base",
      "model_module_version": "1.2.0",
      "model_name": "LayoutModel",
      "state": {}
     },
     "35b36801c5964e6999b7ddcab4b1dc8a": {
      "model_module": "@jupyter-widgets/controls",
      "model_module_version": "1.5.0",
      "model_name": "HBoxModel",
      "state": {
       "children": [
        "IPY_MODEL_4f6de75162ae471291fd24e79d7e3a0b",
        "IPY_MODEL_c27a3a8b22664517881c78fb886d6770",
        "IPY_MODEL_cb70748e6d1942458496161323764a19"
       ],
       "layout": "IPY_MODEL_a7fc5f50ca63413b8cccb2fecb63a7c5"
      }
     },
     "36a6861454c74e47bca05aad44e55816": {
      "model_module": "@jupyter-widgets/controls",
      "model_module_version": "1.5.0",
      "model_name": "FloatProgressModel",
      "state": {
       "bar_style": "success",
       "layout": "IPY_MODEL_8f085a0e4b8e4f27bf320236d8053774",
       "max": 5,
       "style": "IPY_MODEL_3e67409079bf428ebbb18d522c01422e",
       "value": 5
      }
     },
     "36ead8bec7534849831aa3c58a20c14f": {
      "model_module": "@jupyter-widgets/base",
      "model_module_version": "1.2.0",
      "model_name": "LayoutModel",
      "state": {}
     },
     "392d51a356a843efb840f192a753712c": {
      "model_module": "@jupyter-widgets/base",
      "model_module_version": "1.2.0",
      "model_name": "LayoutModel",
      "state": {}
     },
     "395d5f4912dc4d3182b1edccf72ece88": {
      "model_module": "@jupyter-widgets/base",
      "model_module_version": "1.2.0",
      "model_name": "LayoutModel",
      "state": {}
     },
     "3982a1d8df594606b30bf1e9d5e6f879": {
      "model_module": "@jupyter-widgets/controls",
      "model_module_version": "1.5.0",
      "model_name": "HBoxModel",
      "state": {
       "children": [
        "IPY_MODEL_9a4b4c1ec2644d1cb052b8aec9dca063",
        "IPY_MODEL_8a28101fc9e34172a2fe69c31b35b05d",
        "IPY_MODEL_afef0fbc67e146b7a02d5a5ad602271a"
       ],
       "layout": "IPY_MODEL_a46314ed2f7f4d5ba50c17cae9e053b4"
      }
     },
     "39a09ff83d874855af7c7c72a31ba4de": {
      "model_module": "@jupyter-widgets/base",
      "model_module_version": "1.2.0",
      "model_name": "LayoutModel",
      "state": {}
     },
     "39d29c4b011a4ceab3d37334e160e6af": {
      "model_module": "@jupyter-widgets/controls",
      "model_module_version": "1.5.0",
      "model_name": "ProgressStyleModel",
      "state": {
       "description_width": ""
      }
     },
     "39d3a111b0c347c8a6f53b80c077c804": {
      "model_module": "@jupyter-widgets/controls",
      "model_module_version": "1.5.0",
      "model_name": "ProgressStyleModel",
      "state": {
       "description_width": ""
      }
     },
     "39d604df26b949278ccac020001e7daf": {
      "model_module": "@jupyter-widgets/base",
      "model_module_version": "1.2.0",
      "model_name": "LayoutModel",
      "state": {}
     },
     "39ec6c4770de48b193f7d48e2ff403e0": {
      "model_module": "@jupyter-widgets/controls",
      "model_module_version": "1.5.0",
      "model_name": "HTMLModel",
      "state": {
       "layout": "IPY_MODEL_39d604df26b949278ccac020001e7daf",
       "style": "IPY_MODEL_eaaab9d8ae9843148436607bd879c1ec",
       "value": " 5/5 [00:01&lt;00:00,  3.18it/s]"
      }
     },
     "3a1ea52cc30d43c89fc914a49f98b7b1": {
      "model_module": "@jupyter-widgets/base",
      "model_module_version": "1.2.0",
      "model_name": "LayoutModel",
      "state": {}
     },
     "3a38a89d22264be3b37235af65003e98": {
      "model_module": "@jupyter-widgets/base",
      "model_module_version": "1.2.0",
      "model_name": "LayoutModel",
      "state": {}
     },
     "3b5be55cf5ca408f9a461f45deb561ad": {
      "model_module": "@jupyter-widgets/controls",
      "model_module_version": "1.5.0",
      "model_name": "HTMLModel",
      "state": {
       "layout": "IPY_MODEL_147f825a530b478099d9ca854f393656",
       "style": "IPY_MODEL_dae048dbb87e4b89ba3a7545e3408fc2",
       "value": "100%"
      }
     },
     "3b5f3acd82bf47e2998e893701275a63": {
      "model_module": "@jupyter-widgets/controls",
      "model_module_version": "1.5.0",
      "model_name": "HBoxModel",
      "state": {
       "children": [
        "IPY_MODEL_c7ffc5e4090b4c6eac53933e4b4dfee5",
        "IPY_MODEL_109c472734ba43de9e415c97cec40bc5",
        "IPY_MODEL_c35a4d1c5298436985519d9b07a00358"
       ],
       "layout": "IPY_MODEL_46b3061538564199a27a179c98b7e06c"
      }
     },
     "3b65bd4d5414416cb844c140838d7973": {
      "model_module": "@jupyter-widgets/controls",
      "model_module_version": "1.5.0",
      "model_name": "HBoxModel",
      "state": {
       "children": [
        "IPY_MODEL_d6417774939a4a3db0f7df340f96540a",
        "IPY_MODEL_22f23bd8923546f39384103e7812bace",
        "IPY_MODEL_39ec6c4770de48b193f7d48e2ff403e0"
       ],
       "layout": "IPY_MODEL_6c481ce75750432ca05e989255dcd473"
      }
     },
     "3b70ae5c09b74e5e8604a9be0d187f7e": {
      "model_module": "@jupyter-widgets/controls",
      "model_module_version": "1.5.0",
      "model_name": "ProgressStyleModel",
      "state": {
       "description_width": ""
      }
     },
     "3c07a475dd4f4aac9bb71342fe7b9234": {
      "model_module": "@jupyter-widgets/controls",
      "model_module_version": "1.5.0",
      "model_name": "DescriptionStyleModel",
      "state": {
       "description_width": ""
      }
     },
     "3c0ece55eac240a0a758d9cbc05e3478": {
      "model_module": "@jupyter-widgets/base",
      "model_module_version": "1.2.0",
      "model_name": "LayoutModel",
      "state": {}
     },
     "3c6e64f35b7244ef88b739f2ff4fdf81": {
      "model_module": "@jupyter-widgets/controls",
      "model_module_version": "1.5.0",
      "model_name": "DescriptionStyleModel",
      "state": {
       "description_width": ""
      }
     },
     "3c721ef787824f3f99b6c12a5ddaedac": {
      "model_module": "@jupyter-widgets/controls",
      "model_module_version": "1.5.0",
      "model_name": "HBoxModel",
      "state": {
       "children": [
        "IPY_MODEL_ef14608018e54544ac9caf90121f7b95",
        "IPY_MODEL_566353f2dd224eaaa0abff62a9532746",
        "IPY_MODEL_1a722689e1494a6fb0262a9b1bb254ba"
       ],
       "layout": "IPY_MODEL_e445a22a46644f919fb032ce271174ca"
      }
     },
     "3cea86c3d30a4f55855b7ce78db13bf1": {
      "model_module": "@jupyter-widgets/base",
      "model_module_version": "1.2.0",
      "model_name": "LayoutModel",
      "state": {}
     },
     "3d421c1a00eb4eb89451068e2304506c": {
      "model_module": "@jupyter-widgets/base",
      "model_module_version": "1.2.0",
      "model_name": "LayoutModel",
      "state": {}
     },
     "3d9002dd1aef43188d98013d0c22dfe3": {
      "model_module": "@jupyter-widgets/controls",
      "model_module_version": "1.5.0",
      "model_name": "DescriptionStyleModel",
      "state": {
       "description_width": ""
      }
     },
     "3e67409079bf428ebbb18d522c01422e": {
      "model_module": "@jupyter-widgets/controls",
      "model_module_version": "1.5.0",
      "model_name": "ProgressStyleModel",
      "state": {
       "description_width": ""
      }
     },
     "3eaf4af8a9e0471ca64120adeac43f7a": {
      "model_module": "@jupyter-widgets/base",
      "model_module_version": "1.2.0",
      "model_name": "LayoutModel",
      "state": {}
     },
     "3ec2d5e9b0e34ef7a4771bf0230739d4": {
      "model_module": "@jupyter-widgets/controls",
      "model_module_version": "1.5.0",
      "model_name": "FloatProgressModel",
      "state": {
       "bar_style": "success",
       "layout": "IPY_MODEL_503fc2577a854f7da40312809a2ab505",
       "max": 5,
       "style": "IPY_MODEL_a76d295c644c47f1b93714f4b9b8b808",
       "value": 5
      }
     },
     "3f1102ef783e4ca19678db6089c7bef4": {
      "model_module": "@jupyter-widgets/base",
      "model_module_version": "1.2.0",
      "model_name": "LayoutModel",
      "state": {}
     },
     "3f35118165f04c4f879f77875881f638": {
      "model_module": "@jupyter-widgets/base",
      "model_module_version": "1.2.0",
      "model_name": "LayoutModel",
      "state": {}
     },
     "3fbbd597481349d3835f7cf22adcbb3a": {
      "model_module": "@jupyter-widgets/base",
      "model_module_version": "1.2.0",
      "model_name": "LayoutModel",
      "state": {}
     },
     "3fe83facc89b4e168f13577a937fc283": {
      "model_module": "@jupyter-widgets/base",
      "model_module_version": "1.2.0",
      "model_name": "LayoutModel",
      "state": {}
     },
     "4050231b86bf4146a61f0b92e79cd546": {
      "model_module": "@jupyter-widgets/base",
      "model_module_version": "1.2.0",
      "model_name": "LayoutModel",
      "state": {}
     },
     "4071e8392381449b83a8d919cf25235d": {
      "model_module": "@jupyter-widgets/controls",
      "model_module_version": "1.5.0",
      "model_name": "DescriptionStyleModel",
      "state": {
       "description_width": ""
      }
     },
     "40df24f6d0164924a8da9438bf8c5807": {
      "model_module": "@jupyter-widgets/controls",
      "model_module_version": "1.5.0",
      "model_name": "ProgressStyleModel",
      "state": {
       "description_width": ""
      }
     },
     "40fb89e6738d47ac81fc49f4b722be90": {
      "model_module": "@jupyter-widgets/controls",
      "model_module_version": "1.5.0",
      "model_name": "ProgressStyleModel",
      "state": {
       "description_width": ""
      }
     },
     "415fad8886014d0f9353cd8e62a12fb5": {
      "model_module": "@jupyter-widgets/controls",
      "model_module_version": "1.5.0",
      "model_name": "HTMLModel",
      "state": {
       "layout": "IPY_MODEL_4af37743d64d4cd4b16018d7da3730e6",
       "style": "IPY_MODEL_884d7caf0f8a44c3ac4e2447cbf9c897",
       "value": " 5/5 [00:19&lt;00:00,  3.83s/it]"
      }
     },
     "41a18de3a75340d6bda61310cdc7d652": {
      "model_module": "@jupyter-widgets/base",
      "model_module_version": "1.2.0",
      "model_name": "LayoutModel",
      "state": {}
     },
     "41b339de61e74a3492b0aea289f6aecc": {
      "model_module": "@jupyter-widgets/controls",
      "model_module_version": "1.5.0",
      "model_name": "HBoxModel",
      "state": {
       "children": [
        "IPY_MODEL_6ce28801a29e4561a6020a41072a2a56",
        "IPY_MODEL_dd2f3894f0194f33b68c476a3fa7b837",
        "IPY_MODEL_e9b74ffb45c147fb98676e8b26b8eacb"
       ],
       "layout": "IPY_MODEL_1a7dd3a263dc48eda8b614a41747c7e5"
      }
     },
     "41f6f790cf434373a149850cdc2bce6c": {
      "model_module": "@jupyter-widgets/controls",
      "model_module_version": "1.5.0",
      "model_name": "HBoxModel",
      "state": {
       "children": [
        "IPY_MODEL_fbad128edb064112a8ecd71e4509f7d2",
        "IPY_MODEL_8cd0a2295cd841a08115a99b3d989b12",
        "IPY_MODEL_9d9de2bc1589489b8625af7f64307d2c"
       ],
       "layout": "IPY_MODEL_03a00307f86a47cdbf5d81680aa17d2a"
      }
     },
     "42442745f0684454aaf280b390349a35": {
      "model_module": "@jupyter-widgets/base",
      "model_module_version": "1.2.0",
      "model_name": "LayoutModel",
      "state": {}
     },
     "428b2daae77b4dbbb8d4bc6c3bc5e1c5": {
      "model_module": "@jupyter-widgets/base",
      "model_module_version": "1.2.0",
      "model_name": "LayoutModel",
      "state": {}
     },
     "431c86838ddd42a8949b569630f83e0c": {
      "model_module": "@jupyter-widgets/controls",
      "model_module_version": "1.5.0",
      "model_name": "HBoxModel",
      "state": {
       "children": [
        "IPY_MODEL_dd4fb15f9abd4b018d54eaaebada8e3b",
        "IPY_MODEL_ee2a4d59b14f4a569d1e0325731d2cc1",
        "IPY_MODEL_6e7346e59244496d803e0154a45c06b3"
       ],
       "layout": "IPY_MODEL_b23b276468ca43ada9cfca2b162d9692"
      }
     },
     "43a6b28a61df429dbbc87d2e0f12aa05": {
      "model_module": "@jupyter-widgets/controls",
      "model_module_version": "1.5.0",
      "model_name": "DescriptionStyleModel",
      "state": {
       "description_width": ""
      }
     },
     "4412c33239fd4af28bc0c6fd02e45948": {
      "model_module": "@jupyter-widgets/base",
      "model_module_version": "1.2.0",
      "model_name": "LayoutModel",
      "state": {}
     },
     "44cd3bdfc5534c279fb3e4e3478ebd24": {
      "model_module": "@jupyter-widgets/controls",
      "model_module_version": "1.5.0",
      "model_name": "HBoxModel",
      "state": {
       "children": [
        "IPY_MODEL_8f91c1313e1d4b0fb862f385a2e9eb4d",
        "IPY_MODEL_36a6861454c74e47bca05aad44e55816",
        "IPY_MODEL_9e45c5637afc4792a2ca0b49cabf1490"
       ],
       "layout": "IPY_MODEL_4df103aef5e3431392126dda44a1c213"
      }
     },
     "44d09b9714c2411cb091f274914a1408": {
      "model_module": "@jupyter-widgets/base",
      "model_module_version": "1.2.0",
      "model_name": "LayoutModel",
      "state": {}
     },
     "452d705ce3ef4ac29768e42b649ff71a": {
      "model_module": "@jupyter-widgets/controls",
      "model_module_version": "1.5.0",
      "model_name": "HTMLModel",
      "state": {
       "layout": "IPY_MODEL_55e4d88a71d6441fbe9980d0871a3afe",
       "style": "IPY_MODEL_e4b9d59ce9b746acabe4e45f0f916e3c",
       "value": "100%"
      }
     },
     "45c1976eb3304bd2a43a8e68aea62dff": {
      "model_module": "@jupyter-widgets/base",
      "model_module_version": "1.2.0",
      "model_name": "LayoutModel",
      "state": {}
     },
     "45e8bbf0a13b4514bfebeb15cec9f0d0": {
      "model_module": "@jupyter-widgets/controls",
      "model_module_version": "1.5.0",
      "model_name": "HTMLModel",
      "state": {
       "layout": "IPY_MODEL_962b77f5012d4c198f73c523e6cf64c0",
       "style": "IPY_MODEL_598094f9012e45618c712f6fcf7d62f5",
       "value": " 5/5 [00:00&lt;00:00, 94.25it/s]"
      }
     },
     "460427322ed64649aa5e9b0be85565c9": {
      "model_module": "@jupyter-widgets/controls",
      "model_module_version": "1.5.0",
      "model_name": "HTMLModel",
      "state": {
       "layout": "IPY_MODEL_0c2e8cac0dbf43339a40e05f25f48014",
       "style": "IPY_MODEL_82472f4ca5474cddb701a240a65cd78e",
       "value": " 5/5 [00:01&lt;00:00,  4.38it/s]"
      }
     },
     "46098f4eb1d9473eae83d398803041a7": {
      "model_module": "@jupyter-widgets/controls",
      "model_module_version": "1.5.0",
      "model_name": "HBoxModel",
      "state": {
       "children": [
        "IPY_MODEL_c4ede914911445cdb5ca877ca7b75176",
        "IPY_MODEL_3ec2d5e9b0e34ef7a4771bf0230739d4",
        "IPY_MODEL_dc2eb8616a0142c984fd284c1a32c382"
       ],
       "layout": "IPY_MODEL_f2c47a8b27d94340b9ab537a952187bc"
      }
     },
     "46b3061538564199a27a179c98b7e06c": {
      "model_module": "@jupyter-widgets/base",
      "model_module_version": "1.2.0",
      "model_name": "LayoutModel",
      "state": {}
     },
     "4717ba3d4add461197be51a235348a4e": {
      "model_module": "@jupyter-widgets/base",
      "model_module_version": "1.2.0",
      "model_name": "LayoutModel",
      "state": {}
     },
     "485172e414754621bdb90354d1d67b76": {
      "model_module": "@jupyter-widgets/controls",
      "model_module_version": "1.5.0",
      "model_name": "HTMLModel",
      "state": {
       "layout": "IPY_MODEL_e8e41773b1884cb2978c813165a44692",
       "style": "IPY_MODEL_e4ee98a9bb6e428eaf89abd058b57560",
       "value": " 5/5 [00:00&lt;00:00,  8.26it/s]"
      }
     },
     "48dcb76e56f04bfcaa46ee8870c662d2": {
      "model_module": "@jupyter-widgets/base",
      "model_module_version": "1.2.0",
      "model_name": "LayoutModel",
      "state": {}
     },
     "48fbe079a9ad44268ef600a5f5f2e223": {
      "model_module": "@jupyter-widgets/base",
      "model_module_version": "1.2.0",
      "model_name": "LayoutModel",
      "state": {}
     },
     "49124276e0c14ddc9bd087dc74f5fd50": {
      "model_module": "@jupyter-widgets/base",
      "model_module_version": "1.2.0",
      "model_name": "LayoutModel",
      "state": {}
     },
     "491effdd51394232a68c0c0c10443739": {
      "model_module": "@jupyter-widgets/controls",
      "model_module_version": "1.5.0",
      "model_name": "HBoxModel",
      "state": {
       "children": [
        "IPY_MODEL_2cc42ecf09e0472f8dec8faefbee3149",
        "IPY_MODEL_f71078316d9240948ef903a961c207bd",
        "IPY_MODEL_e0ed0aadec154af189015d441e5b6352"
       ],
       "layout": "IPY_MODEL_c3d09b1c63564bbf938370b95df29ca7"
      }
     },
     "491ffd149e704913af189df38b8b1b6a": {
      "model_module": "@jupyter-widgets/base",
      "model_module_version": "1.2.0",
      "model_name": "LayoutModel",
      "state": {}
     },
     "4973f18a1e614971a3b0c80d496fa589": {
      "model_module": "@jupyter-widgets/controls",
      "model_module_version": "1.5.0",
      "model_name": "HBoxModel",
      "state": {
       "children": [
        "IPY_MODEL_1ce4e6327cde4baaa694a73b011fbef0",
        "IPY_MODEL_5d3fb1248bee4fab88aa88323424b29d",
        "IPY_MODEL_4bfbe30b336c43bb8fb17c4d912caa3e"
       ],
       "layout": "IPY_MODEL_f24f70800c5442c589abb57ed13a015c"
      }
     },
     "4a7810decf394c12b8fa6fe7bc1a2def": {
      "model_module": "@jupyter-widgets/controls",
      "model_module_version": "1.5.0",
      "model_name": "HTMLModel",
      "state": {
       "layout": "IPY_MODEL_65a0b7837d71441daa6018290b34adb0",
       "style": "IPY_MODEL_b231043b68bf42f1bdbc84866c87a705",
       "value": "100%"
      }
     },
     "4af37743d64d4cd4b16018d7da3730e6": {
      "model_module": "@jupyter-widgets/base",
      "model_module_version": "1.2.0",
      "model_name": "LayoutModel",
      "state": {}
     },
     "4be1f2c9e83b4347b7a6a2a1290d5b21": {
      "model_module": "@jupyter-widgets/controls",
      "model_module_version": "1.5.0",
      "model_name": "HTMLModel",
      "state": {
       "layout": "IPY_MODEL_d3ea578a5cf74ce1b9753d644366fb73",
       "style": "IPY_MODEL_3c07a475dd4f4aac9bb71342fe7b9234",
       "value": " 5/5 [00:16&lt;00:00,  3.42s/it]"
      }
     },
     "4bfa6e175d5142678afb4526c975b227": {
      "model_module": "@jupyter-widgets/controls",
      "model_module_version": "1.5.0",
      "model_name": "FloatProgressModel",
      "state": {
       "bar_style": "success",
       "layout": "IPY_MODEL_5fe879dc1cb249b8af118769bd69b2d1",
       "max": 5,
       "style": "IPY_MODEL_1de0d925deb3435fa8ae1e87b0291aef",
       "value": 5
      }
     },
     "4bfbe30b336c43bb8fb17c4d912caa3e": {
      "model_module": "@jupyter-widgets/controls",
      "model_module_version": "1.5.0",
      "model_name": "HTMLModel",
      "state": {
       "layout": "IPY_MODEL_4c5ee1ee0bbc49bc870989591f6a2107",
       "style": "IPY_MODEL_43a6b28a61df429dbbc87d2e0f12aa05",
       "value": " 5/5 [00:05&lt;00:00,  1.03s/it]"
      }
     },
     "4c0d147ee7b6490480b08f9100b09352": {
      "model_module": "@jupyter-widgets/base",
      "model_module_version": "1.2.0",
      "model_name": "LayoutModel",
      "state": {}
     },
     "4c1a9ac998374fffb8931ee30a299827": {
      "model_module": "@jupyter-widgets/base",
      "model_module_version": "1.2.0",
      "model_name": "LayoutModel",
      "state": {}
     },
     "4c5ee1ee0bbc49bc870989591f6a2107": {
      "model_module": "@jupyter-widgets/base",
      "model_module_version": "1.2.0",
      "model_name": "LayoutModel",
      "state": {}
     },
     "4c88b34c366046e4b52dfa320045bef8": {
      "model_module": "@jupyter-widgets/base",
      "model_module_version": "1.2.0",
      "model_name": "LayoutModel",
      "state": {}
     },
     "4cb726d933d5412fa351a0cc1b591413": {
      "model_module": "@jupyter-widgets/controls",
      "model_module_version": "1.5.0",
      "model_name": "DescriptionStyleModel",
      "state": {
       "description_width": ""
      }
     },
     "4dcbb2985a5c4626b47414ba83e6c7d3": {
      "model_module": "@jupyter-widgets/controls",
      "model_module_version": "1.5.0",
      "model_name": "DescriptionStyleModel",
      "state": {
       "description_width": ""
      }
     },
     "4df103aef5e3431392126dda44a1c213": {
      "model_module": "@jupyter-widgets/base",
      "model_module_version": "1.2.0",
      "model_name": "LayoutModel",
      "state": {}
     },
     "4f3c6f520d9145acafebf8863621aa8c": {
      "model_module": "@jupyter-widgets/controls",
      "model_module_version": "1.5.0",
      "model_name": "HBoxModel",
      "state": {
       "children": [
        "IPY_MODEL_13634246b9a74dbd8fdd8a80e5827dd1",
        "IPY_MODEL_7ed4f8737fc441539bfc55d03b618655",
        "IPY_MODEL_edd355cda62249c3be714602cf15d045"
       ],
       "layout": "IPY_MODEL_20ed9c212d4748cc90fae38141cbb6f8"
      }
     },
     "4f6de75162ae471291fd24e79d7e3a0b": {
      "model_module": "@jupyter-widgets/controls",
      "model_module_version": "1.5.0",
      "model_name": "HTMLModel",
      "state": {
       "layout": "IPY_MODEL_615672cbe83e42f1bcee5f713a193984",
       "style": "IPY_MODEL_848077dd4f204f7fbe4d88a654ee837a",
       "value": "100%"
      }
     },
     "503fc2577a854f7da40312809a2ab505": {
      "model_module": "@jupyter-widgets/base",
      "model_module_version": "1.2.0",
      "model_name": "LayoutModel",
      "state": {}
     },
     "50589e792ab64b27a0d8e179c59aa965": {
      "model_module": "@jupyter-widgets/base",
      "model_module_version": "1.2.0",
      "model_name": "LayoutModel",
      "state": {}
     },
     "506a193c17fa408f801f70dda8ccc55d": {
      "model_module": "@jupyter-widgets/controls",
      "model_module_version": "1.5.0",
      "model_name": "HBoxModel",
      "state": {
       "children": [
        "IPY_MODEL_ca5ef6fe98394c6d926fd8316c6dcc35",
        "IPY_MODEL_01576d974e2d4a9c9d72a74dc93ba9ec",
        "IPY_MODEL_7cb0adf9958b444f902e74881d606f41"
       ],
       "layout": "IPY_MODEL_8b34b8a55e0d456a86df39800aa86de0"
      }
     },
     "508213cb49df43e09d9b53cc5d2d8d37": {
      "model_module": "@jupyter-widgets/controls",
      "model_module_version": "1.5.0",
      "model_name": "HBoxModel",
      "state": {
       "children": [
        "IPY_MODEL_a87226b8b144454f9755ba4df78bf117",
        "IPY_MODEL_94404bfc452c4464b3cd018c4d93ee42",
        "IPY_MODEL_a5c340d27d4f4890bbe6b13250247238"
       ],
       "layout": "IPY_MODEL_8ffff52ca913455da98a5de094d455fc"
      }
     },
     "51c845b71a5e424991d5959c61cf5d7d": {
      "model_module": "@jupyter-widgets/controls",
      "model_module_version": "1.5.0",
      "model_name": "ProgressStyleModel",
      "state": {
       "description_width": ""
      }
     },
     "51d7688a00d148f59454aa7b4fde134b": {
      "model_module": "@jupyter-widgets/controls",
      "model_module_version": "1.5.0",
      "model_name": "DescriptionStyleModel",
      "state": {
       "description_width": ""
      }
     },
     "5201e67070094241be4b2786d67a94d9": {
      "model_module": "@jupyter-widgets/controls",
      "model_module_version": "1.5.0",
      "model_name": "HBoxModel",
      "state": {
       "children": [
        "IPY_MODEL_6d0ab732ac4542fb8c95db3074dea549",
        "IPY_MODEL_96dabae664c14ff48327643a69aa843d",
        "IPY_MODEL_80e6785d5e2748908e6721962d407702"
       ],
       "layout": "IPY_MODEL_f4ca76073f92492787b639a53ca5d33f"
      }
     },
     "52077472259c42af9050e12bdc9dae6b": {
      "model_module": "@jupyter-widgets/base",
      "model_module_version": "1.2.0",
      "model_name": "LayoutModel",
      "state": {}
     },
     "5321add6dea343d0b7b1ddca5cbaf6d2": {
      "model_module": "@jupyter-widgets/base",
      "model_module_version": "1.2.0",
      "model_name": "LayoutModel",
      "state": {}
     },
     "5420a79a2d9b4099bea120a1c5e9d2d3": {
      "model_module": "@jupyter-widgets/controls",
      "model_module_version": "1.5.0",
      "model_name": "FloatProgressModel",
      "state": {
       "bar_style": "success",
       "layout": "IPY_MODEL_6ba2fff3ddbc4eafa8c112acef97685b",
       "max": 5,
       "style": "IPY_MODEL_eb01860d07ab449698f89ab7f47889b9",
       "value": 5
      }
     },
     "5487469c31bb42ceb3a970413512b872": {
      "model_module": "@jupyter-widgets/controls",
      "model_module_version": "1.5.0",
      "model_name": "DescriptionStyleModel",
      "state": {
       "description_width": ""
      }
     },
     "55b5aad0ddfa49dcaa9a1abe6515f32a": {
      "model_module": "@jupyter-widgets/controls",
      "model_module_version": "1.5.0",
      "model_name": "HBoxModel",
      "state": {
       "children": [
        "IPY_MODEL_d4297ebda3f54c9e902ef112f384c173",
        "IPY_MODEL_096b56c1bbd544188f0158d3caa67bc9",
        "IPY_MODEL_f017c4fb107b4cc9a1c10683f3c55d34"
       ],
       "layout": "IPY_MODEL_f46c6d8f74da484ab9efc147b8a38607"
      }
     },
     "55db1ff67e9443908cb62a4fba4fae6f": {
      "model_module": "@jupyter-widgets/controls",
      "model_module_version": "1.5.0",
      "model_name": "HBoxModel",
      "state": {
       "children": [
        "IPY_MODEL_2ff210a663b54d3db8266a4c0b3120db",
        "IPY_MODEL_b7a24239eb7b480b9bd576bc730d0bf7",
        "IPY_MODEL_b0517de207b5479aa8ae419c718a62d7"
       ],
       "layout": "IPY_MODEL_91c92a07fe3d4c9c9e917575134587e5"
      }
     },
     "55e4d88a71d6441fbe9980d0871a3afe": {
      "model_module": "@jupyter-widgets/base",
      "model_module_version": "1.2.0",
      "model_name": "LayoutModel",
      "state": {}
     },
     "566353f2dd224eaaa0abff62a9532746": {
      "model_module": "@jupyter-widgets/controls",
      "model_module_version": "1.5.0",
      "model_name": "FloatProgressModel",
      "state": {
       "bar_style": "success",
       "layout": "IPY_MODEL_a741f0f81f124c029a78bae71829974c",
       "max": 5,
       "style": "IPY_MODEL_835153a6e68346eab41da599f244b6d5",
       "value": 5
      }
     },
     "5727a0d2e92945d1ad253879f420bda6": {
      "model_module": "@jupyter-widgets/base",
      "model_module_version": "1.2.0",
      "model_name": "LayoutModel",
      "state": {}
     },
     "578bfcd3c0b846819729a91d518374af": {
      "model_module": "@jupyter-widgets/controls",
      "model_module_version": "1.5.0",
      "model_name": "ProgressStyleModel",
      "state": {
       "description_width": ""
      }
     },
     "57b23a23f84c4eca858b3388ff2bed2c": {
      "model_module": "@jupyter-widgets/base",
      "model_module_version": "1.2.0",
      "model_name": "LayoutModel",
      "state": {}
     },
     "587984721938429b855f0e9232583752": {
      "model_module": "@jupyter-widgets/controls",
      "model_module_version": "1.5.0",
      "model_name": "ProgressStyleModel",
      "state": {
       "description_width": ""
      }
     },
     "58952581aa4d481e9f2de3aac33d17a1": {
      "model_module": "@jupyter-widgets/controls",
      "model_module_version": "1.5.0",
      "model_name": "DescriptionStyleModel",
      "state": {
       "description_width": ""
      }
     },
     "598094f9012e45618c712f6fcf7d62f5": {
      "model_module": "@jupyter-widgets/controls",
      "model_module_version": "1.5.0",
      "model_name": "DescriptionStyleModel",
      "state": {
       "description_width": ""
      }
     },
     "59d78ebfce50497ca156a2162ff03f30": {
      "model_module": "@jupyter-widgets/controls",
      "model_module_version": "1.5.0",
      "model_name": "HTMLModel",
      "state": {
       "layout": "IPY_MODEL_491ffd149e704913af189df38b8b1b6a",
       "style": "IPY_MODEL_2270ce8ff52d43b8b610441cb1ae2e2b",
       "value": " 5/5 [00:05&lt;00:00,  1.03s/it]"
      }
     },
     "5a3fd9b5e84c4440814e91301b1537f4": {
      "model_module": "@jupyter-widgets/controls",
      "model_module_version": "1.5.0",
      "model_name": "DescriptionStyleModel",
      "state": {
       "description_width": ""
      }
     },
     "5aaf22a00fee4833818d32ea5e6e6cb5": {
      "model_module": "@jupyter-widgets/controls",
      "model_module_version": "1.5.0",
      "model_name": "ProgressStyleModel",
      "state": {
       "description_width": ""
      }
     },
     "5ab19b38550a472e88852c529d70c0bc": {
      "model_module": "@jupyter-widgets/controls",
      "model_module_version": "1.5.0",
      "model_name": "FloatProgressModel",
      "state": {
       "bar_style": "success",
       "layout": "IPY_MODEL_989225dfab664cb884df283c38570306",
       "max": 5,
       "style": "IPY_MODEL_2de3f395dece4f009f42039ed041c00b",
       "value": 5
      }
     },
     "5b8cc04ecff34b8ba043ca303f665510": {
      "model_module": "@jupyter-widgets/base",
      "model_module_version": "1.2.0",
      "model_name": "LayoutModel",
      "state": {}
     },
     "5b9cbd4a052e4be2a94e6cad73d3199e": {
      "model_module": "@jupyter-widgets/base",
      "model_module_version": "1.2.0",
      "model_name": "LayoutModel",
      "state": {}
     },
     "5c1c904a0a7c4af0ba111d1e45d66e9a": {
      "model_module": "@jupyter-widgets/controls",
      "model_module_version": "1.5.0",
      "model_name": "FloatProgressModel",
      "state": {
       "bar_style": "success",
       "layout": "IPY_MODEL_943249d01b004f6fabb86609d8666635",
       "max": 5,
       "style": "IPY_MODEL_dedd60eb72b44d818f7044b194d41a94",
       "value": 5
      }
     },
     "5c26ff1084624457acc11ea334b29d02": {
      "model_module": "@jupyter-widgets/controls",
      "model_module_version": "1.5.0",
      "model_name": "DescriptionStyleModel",
      "state": {
       "description_width": ""
      }
     },
     "5c32871116ce4eb6a8f151034114d1f4": {
      "model_module": "@jupyter-widgets/base",
      "model_module_version": "1.2.0",
      "model_name": "LayoutModel",
      "state": {}
     },
     "5c9017a1e09d4f1198c81c40171dd282": {
      "model_module": "@jupyter-widgets/controls",
      "model_module_version": "1.5.0",
      "model_name": "DescriptionStyleModel",
      "state": {
       "description_width": ""
      }
     },
     "5c930ef6828041e18d9478f3f4bf7310": {
      "model_module": "@jupyter-widgets/controls",
      "model_module_version": "1.5.0",
      "model_name": "FloatProgressModel",
      "state": {
       "bar_style": "success",
       "layout": "IPY_MODEL_f4fd8bb2290840f5a5a75219bf4d04af",
       "max": 5,
       "style": "IPY_MODEL_731a5ce01f3a4d58878cd1046d92b180",
       "value": 5
      }
     },
     "5cd3310e07ee4820857dff2b00adcb52": {
      "model_module": "@jupyter-widgets/base",
      "model_module_version": "1.2.0",
      "model_name": "LayoutModel",
      "state": {}
     },
     "5cd62510da894f43acee5e85cf5aca26": {
      "model_module": "@jupyter-widgets/base",
      "model_module_version": "1.2.0",
      "model_name": "LayoutModel",
      "state": {}
     },
     "5d3a5e3b209143e190e4a7b96d058c9b": {
      "model_module": "@jupyter-widgets/controls",
      "model_module_version": "1.5.0",
      "model_name": "DescriptionStyleModel",
      "state": {
       "description_width": ""
      }
     },
     "5d3fb1248bee4fab88aa88323424b29d": {
      "model_module": "@jupyter-widgets/controls",
      "model_module_version": "1.5.0",
      "model_name": "FloatProgressModel",
      "state": {
       "bar_style": "success",
       "layout": "IPY_MODEL_aa7510c257054ec79698f9c0eb731e6f",
       "max": 5,
       "style": "IPY_MODEL_ab4130ccb5c64075bdb5e3b6269004b3",
       "value": 5
      }
     },
     "5d6fe96d06cd4e78bd219743f01a469d": {
      "model_module": "@jupyter-widgets/base",
      "model_module_version": "1.2.0",
      "model_name": "LayoutModel",
      "state": {}
     },
     "5dd4bae3efb14cdda06b2e3c954e1ac4": {
      "model_module": "@jupyter-widgets/controls",
      "model_module_version": "1.5.0",
      "model_name": "FloatProgressModel",
      "state": {
       "bar_style": "success",
       "layout": "IPY_MODEL_e8bce101e0644e7ba8a18ac88e56ee11",
       "max": 5,
       "style": "IPY_MODEL_40fb89e6738d47ac81fc49f4b722be90",
       "value": 5
      }
     },
     "5e1f456e5495462096fcf08a2aa083df": {
      "model_module": "@jupyter-widgets/controls",
      "model_module_version": "1.5.0",
      "model_name": "HTMLModel",
      "state": {
       "layout": "IPY_MODEL_de9a5339f3804405a7cfa1531579a8c5",
       "style": "IPY_MODEL_e9e74750245f493d9930597e8d6ac7dc",
       "value": "100%"
      }
     },
     "5e505d4659d44ee08f8f68f75cae23f3": {
      "model_module": "@jupyter-widgets/base",
      "model_module_version": "1.2.0",
      "model_name": "LayoutModel",
      "state": {}
     },
     "5f5e3a35e52743aeadcd4737a8fdd656": {
      "model_module": "@jupyter-widgets/controls",
      "model_module_version": "1.5.0",
      "model_name": "HBoxModel",
      "state": {
       "children": [
        "IPY_MODEL_f854ab27dabc414a872f19ebeeda63b9",
        "IPY_MODEL_a0be743d4d1a4d9db34b7fc40f4d053c",
        "IPY_MODEL_485172e414754621bdb90354d1d67b76"
       ],
       "layout": "IPY_MODEL_08b546816059400dbafd72e659b0e742"
      }
     },
     "5fd588f6c4764c5d8cfcadbff6777266": {
      "model_module": "@jupyter-widgets/base",
      "model_module_version": "1.2.0",
      "model_name": "LayoutModel",
      "state": {}
     },
     "5fe879dc1cb249b8af118769bd69b2d1": {
      "model_module": "@jupyter-widgets/base",
      "model_module_version": "1.2.0",
      "model_name": "LayoutModel",
      "state": {}
     },
     "602374c2c639475d9bda1ea904c27281": {
      "model_module": "@jupyter-widgets/base",
      "model_module_version": "1.2.0",
      "model_name": "LayoutModel",
      "state": {}
     },
     "61017b0113bf4d93a78a26f3b1e2fdf5": {
      "model_module": "@jupyter-widgets/controls",
      "model_module_version": "1.5.0",
      "model_name": "HBoxModel",
      "state": {
       "children": [
        "IPY_MODEL_052c83371d7842e396fa9d32e85d1f51",
        "IPY_MODEL_5dd4bae3efb14cdda06b2e3c954e1ac4",
        "IPY_MODEL_fbd2369df2b74f948ee91b43a1f1fa8e"
       ],
       "layout": "IPY_MODEL_bef9cb90e3fa4067adfb7c75cf978ea2"
      }
     },
     "615672cbe83e42f1bcee5f713a193984": {
      "model_module": "@jupyter-widgets/base",
      "model_module_version": "1.2.0",
      "model_name": "LayoutModel",
      "state": {}
     },
     "62a08a35c30e4b6a8649dc5c4283572e": {
      "model_module": "@jupyter-widgets/controls",
      "model_module_version": "1.5.0",
      "model_name": "DescriptionStyleModel",
      "state": {
       "description_width": ""
      }
     },
     "635c3402957c4d73b28a525ad93b80dc": {
      "model_module": "@jupyter-widgets/controls",
      "model_module_version": "1.5.0",
      "model_name": "HTMLModel",
      "state": {
       "layout": "IPY_MODEL_78bdc3590f9846e2ad2edf1567a296a6",
       "style": "IPY_MODEL_b4ac4baa017c42a99d1f762a16ebcbb3",
       "value": " 5/5 [00:16&lt;00:00,  3.22s/it]"
      }
     },
     "6375628a9f2f46ddb3da73a272908f3b": {
      "model_module": "@jupyter-widgets/base",
      "model_module_version": "1.2.0",
      "model_name": "LayoutModel",
      "state": {}
     },
     "6420acb0a0e14eb9ad7a6b8a2da679af": {
      "model_module": "@jupyter-widgets/controls",
      "model_module_version": "1.5.0",
      "model_name": "HTMLModel",
      "state": {
       "layout": "IPY_MODEL_3eaf4af8a9e0471ca64120adeac43f7a",
       "style": "IPY_MODEL_8de99359294b4db18c959f08f7e771db",
       "value": "100%"
      }
     },
     "65433f94cee5474bb91c2d318959c8a7": {
      "model_module": "@jupyter-widgets/controls",
      "model_module_version": "1.5.0",
      "model_name": "FloatProgressModel",
      "state": {
       "bar_style": "success",
       "layout": "IPY_MODEL_bb811294e90e45a19a94506be335f015",
       "max": 5,
       "style": "IPY_MODEL_0df7c90f42ef46f3bb59bd27f8493c21",
       "value": 5
      }
     },
     "65a0b7837d71441daa6018290b34adb0": {
      "model_module": "@jupyter-widgets/base",
      "model_module_version": "1.2.0",
      "model_name": "LayoutModel",
      "state": {}
     },
     "66896203304247369a236bd24a91c3f8": {
      "model_module": "@jupyter-widgets/base",
      "model_module_version": "1.2.0",
      "model_name": "LayoutModel",
      "state": {}
     },
     "67774353c16e475c8bfee6c6634cc1c3": {
      "model_module": "@jupyter-widgets/controls",
      "model_module_version": "1.5.0",
      "model_name": "FloatProgressModel",
      "state": {
       "bar_style": "success",
       "layout": "IPY_MODEL_dd3814e41c7348ed87ba7553456f81b5",
       "max": 5,
       "style": "IPY_MODEL_8c7a6af1154546b0b0866e29e4eec18d",
       "value": 5
      }
     },
     "6816d94f9e554dfe8e38619cd69e2f8e": {
      "model_module": "@jupyter-widgets/base",
      "model_module_version": "1.2.0",
      "model_name": "LayoutModel",
      "state": {}
     },
     "68319e5f089c480e9ffc3d448a217275": {
      "model_module": "@jupyter-widgets/controls",
      "model_module_version": "1.5.0",
      "model_name": "DescriptionStyleModel",
      "state": {
       "description_width": ""
      }
     },
     "687d95fec7a545cd980ae358679129b0": {
      "model_module": "@jupyter-widgets/base",
      "model_module_version": "1.2.0",
      "model_name": "LayoutModel",
      "state": {}
     },
     "697cdb97c76f4db09d78dda6d7fcae86": {
      "model_module": "@jupyter-widgets/controls",
      "model_module_version": "1.5.0",
      "model_name": "DescriptionStyleModel",
      "state": {
       "description_width": ""
      }
     },
     "699603d76bf04531b941fda668e0da3a": {
      "model_module": "@jupyter-widgets/controls",
      "model_module_version": "1.5.0",
      "model_name": "ProgressStyleModel",
      "state": {
       "description_width": ""
      }
     },
     "69a0120ae409455da2d9d59ae2670e72": {
      "model_module": "@jupyter-widgets/controls",
      "model_module_version": "1.5.0",
      "model_name": "DescriptionStyleModel",
      "state": {
       "description_width": ""
      }
     },
     "6b4d38e13d9c49d2bb64bda1e913f13b": {
      "model_module": "@jupyter-widgets/controls",
      "model_module_version": "1.5.0",
      "model_name": "FloatProgressModel",
      "state": {
       "bar_style": "success",
       "layout": "IPY_MODEL_f1d6a427a12c40c9ade6d98b17845f3b",
       "max": 5,
       "style": "IPY_MODEL_946bde1244804f68aef2fcafefc73498",
       "value": 5
      }
     },
     "6ba2fff3ddbc4eafa8c112acef97685b": {
      "model_module": "@jupyter-widgets/base",
      "model_module_version": "1.2.0",
      "model_name": "LayoutModel",
      "state": {}
     },
     "6bbf5eceb280401195131afc95d88f3d": {
      "model_module": "@jupyter-widgets/controls",
      "model_module_version": "1.5.0",
      "model_name": "DescriptionStyleModel",
      "state": {
       "description_width": ""
      }
     },
     "6c481ce75750432ca05e989255dcd473": {
      "model_module": "@jupyter-widgets/base",
      "model_module_version": "1.2.0",
      "model_name": "LayoutModel",
      "state": {}
     },
     "6c843679fae0414bab518774d6e89733": {
      "model_module": "@jupyter-widgets/controls",
      "model_module_version": "1.5.0",
      "model_name": "FloatProgressModel",
      "state": {
       "bar_style": "success",
       "layout": "IPY_MODEL_f3ed479b210b43239301986e64d84761",
       "max": 5,
       "style": "IPY_MODEL_bf0c3192471c4f8aa955369cb71c0302",
       "value": 5
      }
     },
     "6cbcc4c2f1b64f53bd2015b3f3c63a1c": {
      "model_module": "@jupyter-widgets/controls",
      "model_module_version": "1.5.0",
      "model_name": "DescriptionStyleModel",
      "state": {
       "description_width": ""
      }
     },
     "6ce28801a29e4561a6020a41072a2a56": {
      "model_module": "@jupyter-widgets/controls",
      "model_module_version": "1.5.0",
      "model_name": "HTMLModel",
      "state": {
       "layout": "IPY_MODEL_c117ac54b6a343eb8a58c9eb682e7cb6",
       "style": "IPY_MODEL_33ff767d0aa34591b734a7add3b01c83",
       "value": "100%"
      }
     },
     "6d0ab732ac4542fb8c95db3074dea549": {
      "model_module": "@jupyter-widgets/controls",
      "model_module_version": "1.5.0",
      "model_name": "HTMLModel",
      "state": {
       "layout": "IPY_MODEL_f82aaf31c07e492e80c3abaf28e56e09",
       "style": "IPY_MODEL_217a5a9511e7429aa4fc4af1a7ca3f47",
       "value": "100%"
      }
     },
     "6d6614225f2940deb30c43025ea930b2": {
      "model_module": "@jupyter-widgets/base",
      "model_module_version": "1.2.0",
      "model_name": "LayoutModel",
      "state": {}
     },
     "6d962580a46b43139f1539b02569c78c": {
      "model_module": "@jupyter-widgets/controls",
      "model_module_version": "1.5.0",
      "model_name": "DescriptionStyleModel",
      "state": {
       "description_width": ""
      }
     },
     "6e7346e59244496d803e0154a45c06b3": {
      "model_module": "@jupyter-widgets/controls",
      "model_module_version": "1.5.0",
      "model_name": "HTMLModel",
      "state": {
       "layout": "IPY_MODEL_c021945c7a324abc8a851a5213baab0c",
       "style": "IPY_MODEL_7e463bd82c1d49c7bd7ccc2d7e1c754d",
       "value": " 5/5 [00:01&lt;00:00,  5.27it/s]"
      }
     },
     "6ea4f0cc1e684177983088281b4a5ca5": {
      "model_module": "@jupyter-widgets/controls",
      "model_module_version": "1.5.0",
      "model_name": "ProgressStyleModel",
      "state": {
       "description_width": ""
      }
     },
     "6eb595cd8e2b426aada37ec4af744c02": {
      "model_module": "@jupyter-widgets/controls",
      "model_module_version": "1.5.0",
      "model_name": "DescriptionStyleModel",
      "state": {
       "description_width": ""
      }
     },
     "6fd1b079fe834c5482b70db21f8ca33d": {
      "model_module": "@jupyter-widgets/controls",
      "model_module_version": "1.5.0",
      "model_name": "HTMLModel",
      "state": {
       "layout": "IPY_MODEL_428b2daae77b4dbbb8d4bc6c3bc5e1c5",
       "style": "IPY_MODEL_923d07f18741464dabd18089d05ec9f9",
       "value": " 5/5 [00:01&lt;00:00,  3.31it/s]"
      }
     },
     "6feef546bf6d46adb3ae1401e0f16620": {
      "model_module": "@jupyter-widgets/controls",
      "model_module_version": "1.5.0",
      "model_name": "DescriptionStyleModel",
      "state": {
       "description_width": ""
      }
     },
     "700a161ffbba4a6399b0c7a1f3ecb0a1": {
      "model_module": "@jupyter-widgets/controls",
      "model_module_version": "1.5.0",
      "model_name": "ProgressStyleModel",
      "state": {
       "description_width": ""
      }
     },
     "71827abd14864537bb6fd6043dcf57e4": {
      "model_module": "@jupyter-widgets/controls",
      "model_module_version": "1.5.0",
      "model_name": "ProgressStyleModel",
      "state": {
       "description_width": ""
      }
     },
     "71baa4a0fa7f49e9a5df984e30eaf6bf": {
      "model_module": "@jupyter-widgets/controls",
      "model_module_version": "1.5.0",
      "model_name": "FloatProgressModel",
      "state": {
       "bar_style": "success",
       "layout": "IPY_MODEL_8895a38e3ae4446083298cc477f63a8e",
       "max": 5,
       "style": "IPY_MODEL_96b23245c411414dbf3e281a86525c23",
       "value": 5
      }
     },
     "71c64d9a0dff4a288f365f97d7af945a": {
      "model_module": "@jupyter-widgets/controls",
      "model_module_version": "1.5.0",
      "model_name": "DescriptionStyleModel",
      "state": {
       "description_width": ""
      }
     },
     "731a5ce01f3a4d58878cd1046d92b180": {
      "model_module": "@jupyter-widgets/controls",
      "model_module_version": "1.5.0",
      "model_name": "ProgressStyleModel",
      "state": {
       "description_width": ""
      }
     },
     "7416eae4c9834200a256aa13462d50bf": {
      "model_module": "@jupyter-widgets/base",
      "model_module_version": "1.2.0",
      "model_name": "LayoutModel",
      "state": {}
     },
     "7459d9a8829a4b3985360637912977d2": {
      "model_module": "@jupyter-widgets/base",
      "model_module_version": "1.2.0",
      "model_name": "LayoutModel",
      "state": {}
     },
     "759a3fd136054c3fb236d318af90e32e": {
      "model_module": "@jupyter-widgets/controls",
      "model_module_version": "1.5.0",
      "model_name": "FloatProgressModel",
      "state": {
       "bar_style": "success",
       "layout": "IPY_MODEL_e7907d4abeae410da6465533b9d5e7ee",
       "max": 5,
       "style": "IPY_MODEL_915ebcfb52b344c79860fcb828557b61",
       "value": 5
      }
     },
     "76149e08015545d6808604d605962980": {
      "model_module": "@jupyter-widgets/base",
      "model_module_version": "1.2.0",
      "model_name": "LayoutModel",
      "state": {}
     },
     "7636b19f69824561a5839748bb7ba57e": {
      "model_module": "@jupyter-widgets/base",
      "model_module_version": "1.2.0",
      "model_name": "LayoutModel",
      "state": {}
     },
     "76e342449e6e4db7806c8c9bc9d1c211": {
      "model_module": "@jupyter-widgets/base",
      "model_module_version": "1.2.0",
      "model_name": "LayoutModel",
      "state": {}
     },
     "771888d64d9a426ea1da7080998bc570": {
      "model_module": "@jupyter-widgets/base",
      "model_module_version": "1.2.0",
      "model_name": "LayoutModel",
      "state": {}
     },
     "782a0a50cdf548969902db36dffb8efd": {
      "model_module": "@jupyter-widgets/controls",
      "model_module_version": "1.5.0",
      "model_name": "HBoxModel",
      "state": {
       "children": [
        "IPY_MODEL_e730cdd50de142d089aa8a75d6b9df03",
        "IPY_MODEL_ecb7ca5ee37e44138cc09d32a21c8fbe",
        "IPY_MODEL_236119526a474dcba66860121bf551d5"
       ],
       "layout": "IPY_MODEL_a74fc996124740ddb935fb0ece90c36f"
      }
     },
     "78bdc3590f9846e2ad2edf1567a296a6": {
      "model_module": "@jupyter-widgets/base",
      "model_module_version": "1.2.0",
      "model_name": "LayoutModel",
      "state": {}
     },
     "7a1e778209d4415e8b9afa97ac01974b": {
      "model_module": "@jupyter-widgets/controls",
      "model_module_version": "1.5.0",
      "model_name": "HTMLModel",
      "state": {
       "layout": "IPY_MODEL_8d703c7fe7d943b99e36b13b0981746b",
       "style": "IPY_MODEL_d411297994a34040921b851ee1301fa5",
       "value": "100%"
      }
     },
     "7aa1daa46e784adbad41b3f8c1b1f43a": {
      "model_module": "@jupyter-widgets/controls",
      "model_module_version": "1.5.0",
      "model_name": "HBoxModel",
      "state": {
       "children": [
        "IPY_MODEL_a90ff51a179446fb9b1d63f0849c895f",
        "IPY_MODEL_c19bc4185db84c4cb3ea6ffae19e278f",
        "IPY_MODEL_0f7a0ba8720b42c7a7de8610bd4c61ec"
       ],
       "layout": "IPY_MODEL_13b3c7680e4e413cbefe6e1ac1f6a510"
      }
     },
     "7b8d90c90a594291b75d9d998db888f0": {
      "model_module": "@jupyter-widgets/base",
      "model_module_version": "1.2.0",
      "model_name": "LayoutModel",
      "state": {}
     },
     "7bd28ca1f14a4178ac451ce73d741aff": {
      "model_module": "@jupyter-widgets/controls",
      "model_module_version": "1.5.0",
      "model_name": "HTMLModel",
      "state": {
       "layout": "IPY_MODEL_cb786c8d16334133b694ebff3ee5312c",
       "style": "IPY_MODEL_ee48eadcebb74f558787e1045934935b",
       "value": " 5/5 [00:19&lt;00:00,  3.92s/it]"
      }
     },
     "7c516335184f43cb8f8968752e02971e": {
      "model_module": "@jupyter-widgets/controls",
      "model_module_version": "1.5.0",
      "model_name": "HTMLModel",
      "state": {
       "layout": "IPY_MODEL_6d6614225f2940deb30c43025ea930b2",
       "style": "IPY_MODEL_9455dd2198574b08a48f1738fdb1a946",
       "value": "100%"
      }
     },
     "7cb0adf9958b444f902e74881d606f41": {
      "model_module": "@jupyter-widgets/controls",
      "model_module_version": "1.5.0",
      "model_name": "HTMLModel",
      "state": {
       "layout": "IPY_MODEL_921ae9f466b6409b9b606fbe300c55fe",
       "style": "IPY_MODEL_2cf23cba1256411bbb6d87339ae0c417",
       "value": " 5/5 [00:16&lt;00:00,  3.22s/it]"
      }
     },
     "7d332043fd6347249e670e006e350a53": {
      "model_module": "@jupyter-widgets/controls",
      "model_module_version": "1.5.0",
      "model_name": "ProgressStyleModel",
      "state": {
       "description_width": ""
      }
     },
     "7d609d0bd5404198a2ce493926f3e710": {
      "model_module": "@jupyter-widgets/controls",
      "model_module_version": "1.5.0",
      "model_name": "DescriptionStyleModel",
      "state": {
       "description_width": ""
      }
     },
     "7df3fa7f514b4cd6bbe9423fb55ad74e": {
      "model_module": "@jupyter-widgets/controls",
      "model_module_version": "1.5.0",
      "model_name": "HTMLModel",
      "state": {
       "layout": "IPY_MODEL_3c0ece55eac240a0a758d9cbc05e3478",
       "style": "IPY_MODEL_c7ddf5edad304db4ac1dd1dc3cf8ae63",
       "value": "100%"
      }
     },
     "7e463bd82c1d49c7bd7ccc2d7e1c754d": {
      "model_module": "@jupyter-widgets/controls",
      "model_module_version": "1.5.0",
      "model_name": "DescriptionStyleModel",
      "state": {
       "description_width": ""
      }
     },
     "7ed4f8737fc441539bfc55d03b618655": {
      "model_module": "@jupyter-widgets/controls",
      "model_module_version": "1.5.0",
      "model_name": "FloatProgressModel",
      "state": {
       "bar_style": "success",
       "layout": "IPY_MODEL_2aeae507385e48858d8ef805b7cb56d6",
       "max": 5,
       "style": "IPY_MODEL_123f59ba4b8a4fbc8b285c651aeaad7a",
       "value": 5
      }
     },
     "7f57879cb54e424baac0a86603cda968": {
      "model_module": "@jupyter-widgets/controls",
      "model_module_version": "1.5.0",
      "model_name": "HBoxModel",
      "state": {
       "children": [
        "IPY_MODEL_8666e227dbf646148e6816076baebd3b",
        "IPY_MODEL_a677b639cacb44b4b12581376d89b603",
        "IPY_MODEL_052c88e3e69c4673a3069bebb1e705f9"
       ],
       "layout": "IPY_MODEL_b0f37067e957458ab590b90870b44172"
      }
     },
     "7fdd6e1c87f340dfa8c9fe5f0accca6a": {
      "model_module": "@jupyter-widgets/base",
      "model_module_version": "1.2.0",
      "model_name": "LayoutModel",
      "state": {}
     },
     "8085adf2243546c4adb1f51e7d0d9c87": {
      "model_module": "@jupyter-widgets/controls",
      "model_module_version": "1.5.0",
      "model_name": "HTMLModel",
      "state": {
       "layout": "IPY_MODEL_e3c8ec7a318a441cb260178f277cf03f",
       "style": "IPY_MODEL_4dcbb2985a5c4626b47414ba83e6c7d3",
       "value": "100%"
      }
     },
     "808a67f9970d4cc3b4c1b9bce29fe788": {
      "model_module": "@jupyter-widgets/controls",
      "model_module_version": "1.5.0",
      "model_name": "HTMLModel",
      "state": {
       "layout": "IPY_MODEL_209d433b7fb74a82bc09c722e09884fd",
       "style": "IPY_MODEL_cf2ef1693c7d40ffb2cb8a94c5c3a1e4",
       "value": "100%"
      }
     },
     "80a6e06a067442fcbb3a5d94cfc0bc22": {
      "model_module": "@jupyter-widgets/controls",
      "model_module_version": "1.5.0",
      "model_name": "HBoxModel",
      "state": {
       "children": [
        "IPY_MODEL_32c649ef781e41bb976c945b349f72e6",
        "IPY_MODEL_b75faf1a43f9434e80169ddb5a065762",
        "IPY_MODEL_181f5884320a4d4581d5952039ba35b3"
       ],
       "layout": "IPY_MODEL_213b6e8931c7465a96fd7f1aabfc5f1f"
      }
     },
     "80e6785d5e2748908e6721962d407702": {
      "model_module": "@jupyter-widgets/controls",
      "model_module_version": "1.5.0",
      "model_name": "HTMLModel",
      "state": {
       "layout": "IPY_MODEL_4717ba3d4add461197be51a235348a4e",
       "style": "IPY_MODEL_e9a355483173414b99bcf3969b8f87b9",
       "value": " 5/5 [00:17&lt;00:00,  3.49s/it]"
      }
     },
     "818c56980e6847ac9b9ee35d3870dfff": {
      "model_module": "@jupyter-widgets/base",
      "model_module_version": "1.2.0",
      "model_name": "LayoutModel",
      "state": {}
     },
     "81d778b789464bdda6f986e2f576f670": {
      "model_module": "@jupyter-widgets/controls",
      "model_module_version": "1.5.0",
      "model_name": "ProgressStyleModel",
      "state": {
       "description_width": ""
      }
     },
     "81f4d47a75b749b0b242131cfbdecc5c": {
      "model_module": "@jupyter-widgets/base",
      "model_module_version": "1.2.0",
      "model_name": "LayoutModel",
      "state": {}
     },
     "82472f4ca5474cddb701a240a65cd78e": {
      "model_module": "@jupyter-widgets/controls",
      "model_module_version": "1.5.0",
      "model_name": "DescriptionStyleModel",
      "state": {
       "description_width": ""
      }
     },
     "826a293e9390474c8f8f196b6fd8e1c4": {
      "model_module": "@jupyter-widgets/controls",
      "model_module_version": "1.5.0",
      "model_name": "DescriptionStyleModel",
      "state": {
       "description_width": ""
      }
     },
     "82afba8c426949cd8982ca721d170529": {
      "model_module": "@jupyter-widgets/controls",
      "model_module_version": "1.5.0",
      "model_name": "HBoxModel",
      "state": {
       "children": [
        "IPY_MODEL_3b5be55cf5ca408f9a461f45deb561ad",
        "IPY_MODEL_140e16f678cf45c098cadcdb0f389c80",
        "IPY_MODEL_a18ec64347934793a172439123bb6d99"
       ],
       "layout": "IPY_MODEL_af6ff6a8bff14586ac90b36e52d5c5f7"
      }
     },
     "82b258c301fb403780104ef851b9f68c": {
      "model_module": "@jupyter-widgets/base",
      "model_module_version": "1.2.0",
      "model_name": "LayoutModel",
      "state": {}
     },
     "83062e13f71a4a4e99b74b67e904fa09": {
      "model_module": "@jupyter-widgets/controls",
      "model_module_version": "1.5.0",
      "model_name": "DescriptionStyleModel",
      "state": {
       "description_width": ""
      }
     },
     "835153a6e68346eab41da599f244b6d5": {
      "model_module": "@jupyter-widgets/controls",
      "model_module_version": "1.5.0",
      "model_name": "ProgressStyleModel",
      "state": {
       "description_width": ""
      }
     },
     "841887d7aa574109a633110580bd9a2d": {
      "model_module": "@jupyter-widgets/base",
      "model_module_version": "1.2.0",
      "model_name": "LayoutModel",
      "state": {}
     },
     "848077dd4f204f7fbe4d88a654ee837a": {
      "model_module": "@jupyter-widgets/controls",
      "model_module_version": "1.5.0",
      "model_name": "DescriptionStyleModel",
      "state": {
       "description_width": ""
      }
     },
     "857868353a9d4752a3024ea9adae1225": {
      "model_module": "@jupyter-widgets/base",
      "model_module_version": "1.2.0",
      "model_name": "LayoutModel",
      "state": {}
     },
     "860a3996340948ea8d8d90ce9ba2f9b4": {
      "model_module": "@jupyter-widgets/controls",
      "model_module_version": "1.5.0",
      "model_name": "HTMLModel",
      "state": {
       "layout": "IPY_MODEL_d60810aaddc748a9b13be4b0860f96ac",
       "style": "IPY_MODEL_92676bd0c0ec4545a3bc18a284a96fc8",
       "value": "100%"
      }
     },
     "862b2188515b4152abf7aa66de6d3a52": {
      "model_module": "@jupyter-widgets/controls",
      "model_module_version": "1.5.0",
      "model_name": "DescriptionStyleModel",
      "state": {
       "description_width": ""
      }
     },
     "8666e227dbf646148e6816076baebd3b": {
      "model_module": "@jupyter-widgets/controls",
      "model_module_version": "1.5.0",
      "model_name": "HTMLModel",
      "state": {
       "layout": "IPY_MODEL_abc2fef88d9d42bb968ea792ac8054fe",
       "style": "IPY_MODEL_d86aa59f4fed4b80a51791d573b6f85c",
       "value": "100%"
      }
     },
     "86cee7f1f6b848ed99444c209adf267f": {
      "model_module": "@jupyter-widgets/base",
      "model_module_version": "1.2.0",
      "model_name": "LayoutModel",
      "state": {}
     },
     "86fdc53746264e848e52def109490cd9": {
      "model_module": "@jupyter-widgets/base",
      "model_module_version": "1.2.0",
      "model_name": "LayoutModel",
      "state": {}
     },
     "87f415cfdba549e3b9c9512ed44c35ec": {
      "model_module": "@jupyter-widgets/controls",
      "model_module_version": "1.5.0",
      "model_name": "DescriptionStyleModel",
      "state": {
       "description_width": ""
      }
     },
     "884d7caf0f8a44c3ac4e2447cbf9c897": {
      "model_module": "@jupyter-widgets/controls",
      "model_module_version": "1.5.0",
      "model_name": "DescriptionStyleModel",
      "state": {
       "description_width": ""
      }
     },
     "8895a38e3ae4446083298cc477f63a8e": {
      "model_module": "@jupyter-widgets/base",
      "model_module_version": "1.2.0",
      "model_name": "LayoutModel",
      "state": {}
     },
     "88cc169cf70740dbab39adfbea95cc02": {
      "model_module": "@jupyter-widgets/base",
      "model_module_version": "1.2.0",
      "model_name": "LayoutModel",
      "state": {}
     },
     "88dfaa94721a450492aee016d90777cf": {
      "model_module": "@jupyter-widgets/base",
      "model_module_version": "1.2.0",
      "model_name": "LayoutModel",
      "state": {}
     },
     "8958c6a22b8e4d29805e1a2ff289a213": {
      "model_module": "@jupyter-widgets/controls",
      "model_module_version": "1.5.0",
      "model_name": "ProgressStyleModel",
      "state": {
       "description_width": ""
      }
     },
     "89678cdef33342a3a3bff6801488e36e": {
      "model_module": "@jupyter-widgets/base",
      "model_module_version": "1.2.0",
      "model_name": "LayoutModel",
      "state": {}
     },
     "8a0e992b58e74967a078dda36713d0d7": {
      "model_module": "@jupyter-widgets/controls",
      "model_module_version": "1.5.0",
      "model_name": "DescriptionStyleModel",
      "state": {
       "description_width": ""
      }
     },
     "8a28101fc9e34172a2fe69c31b35b05d": {
      "model_module": "@jupyter-widgets/controls",
      "model_module_version": "1.5.0",
      "model_name": "FloatProgressModel",
      "state": {
       "bar_style": "success",
       "layout": "IPY_MODEL_5d6fe96d06cd4e78bd219743f01a469d",
       "max": 5,
       "style": "IPY_MODEL_afa53449671e4be89a051d630c796865",
       "value": 5
      }
     },
     "8a91f5767b1240cd9185b4e30390c46c": {
      "model_module": "@jupyter-widgets/controls",
      "model_module_version": "1.5.0",
      "model_name": "DescriptionStyleModel",
      "state": {
       "description_width": ""
      }
     },
     "8aa1c2ba353946938a28cd6998255002": {
      "model_module": "@jupyter-widgets/base",
      "model_module_version": "1.2.0",
      "model_name": "LayoutModel",
      "state": {}
     },
     "8aaefed3b6c54394b2014b9f125b4b1e": {
      "model_module": "@jupyter-widgets/controls",
      "model_module_version": "1.5.0",
      "model_name": "DescriptionStyleModel",
      "state": {
       "description_width": ""
      }
     },
     "8b2931f268054ce28ee9f3876ede98b3": {
      "model_module": "@jupyter-widgets/base",
      "model_module_version": "1.2.0",
      "model_name": "LayoutModel",
      "state": {}
     },
     "8b34b8a55e0d456a86df39800aa86de0": {
      "model_module": "@jupyter-widgets/base",
      "model_module_version": "1.2.0",
      "model_name": "LayoutModel",
      "state": {}
     },
     "8ba61a14713c4f0b82922afbe83ff115": {
      "model_module": "@jupyter-widgets/base",
      "model_module_version": "1.2.0",
      "model_name": "LayoutModel",
      "state": {}
     },
     "8c7a6af1154546b0b0866e29e4eec18d": {
      "model_module": "@jupyter-widgets/controls",
      "model_module_version": "1.5.0",
      "model_name": "ProgressStyleModel",
      "state": {
       "description_width": ""
      }
     },
     "8c961f5ee2a542b6b4cdbf079451cdcd": {
      "model_module": "@jupyter-widgets/base",
      "model_module_version": "1.2.0",
      "model_name": "LayoutModel",
      "state": {}
     },
     "8cd0a2295cd841a08115a99b3d989b12": {
      "model_module": "@jupyter-widgets/controls",
      "model_module_version": "1.5.0",
      "model_name": "FloatProgressModel",
      "state": {
       "bar_style": "success",
       "layout": "IPY_MODEL_28811e4d16384f1fb71033d7188bdd5e",
       "max": 5,
       "style": "IPY_MODEL_af11ab0fe9ba4903b62f341e6d5f09fe",
       "value": 5
      }
     },
     "8d703c7fe7d943b99e36b13b0981746b": {
      "model_module": "@jupyter-widgets/base",
      "model_module_version": "1.2.0",
      "model_name": "LayoutModel",
      "state": {}
     },
     "8de283bbe98d48aca8e0f00758884cfa": {
      "model_module": "@jupyter-widgets/controls",
      "model_module_version": "1.5.0",
      "model_name": "DescriptionStyleModel",
      "state": {
       "description_width": ""
      }
     },
     "8de99359294b4db18c959f08f7e771db": {
      "model_module": "@jupyter-widgets/controls",
      "model_module_version": "1.5.0",
      "model_name": "DescriptionStyleModel",
      "state": {
       "description_width": ""
      }
     },
     "8f085a0e4b8e4f27bf320236d8053774": {
      "model_module": "@jupyter-widgets/base",
      "model_module_version": "1.2.0",
      "model_name": "LayoutModel",
      "state": {}
     },
     "8f770f759d33486b84b74622c23b6c75": {
      "model_module": "@jupyter-widgets/controls",
      "model_module_version": "1.5.0",
      "model_name": "ProgressStyleModel",
      "state": {
       "description_width": ""
      }
     },
     "8f91c1313e1d4b0fb862f385a2e9eb4d": {
      "model_module": "@jupyter-widgets/controls",
      "model_module_version": "1.5.0",
      "model_name": "HTMLModel",
      "state": {
       "layout": "IPY_MODEL_f9c04fe5723e4da78589f13c46631fe3",
       "style": "IPY_MODEL_83062e13f71a4a4e99b74b67e904fa09",
       "value": "100%"
      }
     },
     "8ffff52ca913455da98a5de094d455fc": {
      "model_module": "@jupyter-widgets/base",
      "model_module_version": "1.2.0",
      "model_name": "LayoutModel",
      "state": {}
     },
     "903bef79269e46ea9ed91e7ea60914a5": {
      "model_module": "@jupyter-widgets/base",
      "model_module_version": "1.2.0",
      "model_name": "LayoutModel",
      "state": {}
     },
     "915ebcfb52b344c79860fcb828557b61": {
      "model_module": "@jupyter-widgets/controls",
      "model_module_version": "1.5.0",
      "model_name": "ProgressStyleModel",
      "state": {
       "description_width": ""
      }
     },
     "91aedeea12f24080977157b29828228a": {
      "model_module": "@jupyter-widgets/controls",
      "model_module_version": "1.5.0",
      "model_name": "HTMLModel",
      "state": {
       "layout": "IPY_MODEL_3f1102ef783e4ca19678db6089c7bef4",
       "style": "IPY_MODEL_c84006bcf85b48a3ac3e8ebfb72d9b8e",
       "value": "100%"
      }
     },
     "91c92a07fe3d4c9c9e917575134587e5": {
      "model_module": "@jupyter-widgets/base",
      "model_module_version": "1.2.0",
      "model_name": "LayoutModel",
      "state": {}
     },
     "921ae9f466b6409b9b606fbe300c55fe": {
      "model_module": "@jupyter-widgets/base",
      "model_module_version": "1.2.0",
      "model_name": "LayoutModel",
      "state": {}
     },
     "923d07f18741464dabd18089d05ec9f9": {
      "model_module": "@jupyter-widgets/controls",
      "model_module_version": "1.5.0",
      "model_name": "DescriptionStyleModel",
      "state": {
       "description_width": ""
      }
     },
     "924fd0eaab6343ccaa71454c54b9bb91": {
      "model_module": "@jupyter-widgets/controls",
      "model_module_version": "1.5.0",
      "model_name": "HTMLModel",
      "state": {
       "layout": "IPY_MODEL_bc4cd04b28934aed80754aa36d1a6401",
       "style": "IPY_MODEL_9f85879a2d6b43b89e8f0105c44d0264",
       "value": "100%"
      }
     },
     "925e2994c068451ab5a29143e018bdd9": {
      "model_module": "@jupyter-widgets/controls",
      "model_module_version": "1.5.0",
      "model_name": "FloatProgressModel",
      "state": {
       "bar_style": "success",
       "layout": "IPY_MODEL_45c1976eb3304bd2a43a8e68aea62dff",
       "max": 5,
       "style": "IPY_MODEL_587984721938429b855f0e9232583752",
       "value": 5
      }
     },
     "92676bd0c0ec4545a3bc18a284a96fc8": {
      "model_module": "@jupyter-widgets/controls",
      "model_module_version": "1.5.0",
      "model_name": "DescriptionStyleModel",
      "state": {
       "description_width": ""
      }
     },
     "936596324bd24bd4961187058363be79": {
      "model_module": "@jupyter-widgets/base",
      "model_module_version": "1.2.0",
      "model_name": "LayoutModel",
      "state": {}
     },
     "94061522a9cd42549674564c02564f58": {
      "model_module": "@jupyter-widgets/controls",
      "model_module_version": "1.5.0",
      "model_name": "DescriptionStyleModel",
      "state": {
       "description_width": ""
      }
     },
     "943249d01b004f6fabb86609d8666635": {
      "model_module": "@jupyter-widgets/base",
      "model_module_version": "1.2.0",
      "model_name": "LayoutModel",
      "state": {}
     },
     "94404bfc452c4464b3cd018c4d93ee42": {
      "model_module": "@jupyter-widgets/controls",
      "model_module_version": "1.5.0",
      "model_name": "FloatProgressModel",
      "state": {
       "bar_style": "success",
       "layout": "IPY_MODEL_49124276e0c14ddc9bd087dc74f5fd50",
       "max": 5,
       "style": "IPY_MODEL_8958c6a22b8e4d29805e1a2ff289a213",
       "value": 5
      }
     },
     "9455dd2198574b08a48f1738fdb1a946": {
      "model_module": "@jupyter-widgets/controls",
      "model_module_version": "1.5.0",
      "model_name": "DescriptionStyleModel",
      "state": {
       "description_width": ""
      }
     },
     "946bde1244804f68aef2fcafefc73498": {
      "model_module": "@jupyter-widgets/controls",
      "model_module_version": "1.5.0",
      "model_name": "ProgressStyleModel",
      "state": {
       "description_width": ""
      }
     },
     "95271ca92573409581f742175654d0ae": {
      "model_module": "@jupyter-widgets/base",
      "model_module_version": "1.2.0",
      "model_name": "LayoutModel",
      "state": {}
     },
     "955dabecf9b7471283ffc86686915b0a": {
      "model_module": "@jupyter-widgets/base",
      "model_module_version": "1.2.0",
      "model_name": "LayoutModel",
      "state": {}
     },
     "96201372b75b4bdbb70139cd7554b1c3": {
      "model_module": "@jupyter-widgets/controls",
      "model_module_version": "1.5.0",
      "model_name": "ProgressStyleModel",
      "state": {
       "description_width": ""
      }
     },
     "962b77f5012d4c198f73c523e6cf64c0": {
      "model_module": "@jupyter-widgets/base",
      "model_module_version": "1.2.0",
      "model_name": "LayoutModel",
      "state": {}
     },
     "96b01e179ebf4d50832a8904c496fb71": {
      "model_module": "@jupyter-widgets/controls",
      "model_module_version": "1.5.0",
      "model_name": "DescriptionStyleModel",
      "state": {
       "description_width": ""
      }
     },
     "96b23245c411414dbf3e281a86525c23": {
      "model_module": "@jupyter-widgets/controls",
      "model_module_version": "1.5.0",
      "model_name": "ProgressStyleModel",
      "state": {
       "description_width": ""
      }
     },
     "96cb5f97df394b089b3680f96025548a": {
      "model_module": "@jupyter-widgets/controls",
      "model_module_version": "1.5.0",
      "model_name": "FloatProgressModel",
      "state": {
       "bar_style": "success",
       "layout": "IPY_MODEL_392d51a356a843efb840f192a753712c",
       "max": 5,
       "style": "IPY_MODEL_71827abd14864537bb6fd6043dcf57e4",
       "value": 5
      }
     },
     "96dabae664c14ff48327643a69aa843d": {
      "model_module": "@jupyter-widgets/controls",
      "model_module_version": "1.5.0",
      "model_name": "FloatProgressModel",
      "state": {
       "bar_style": "success",
       "layout": "IPY_MODEL_0f38491c8ba44ee7a3813af852843e49",
       "max": 5,
       "style": "IPY_MODEL_d7ac6f55711942b59436d6380f2ec71f",
       "value": 5
      }
     },
     "96e711d3ff904cb4a519cda6312ecac5": {
      "model_module": "@jupyter-widgets/controls",
      "model_module_version": "1.5.0",
      "model_name": "FloatProgressModel",
      "state": {
       "bar_style": "success",
       "layout": "IPY_MODEL_5b9cbd4a052e4be2a94e6cad73d3199e",
       "max": 5,
       "style": "IPY_MODEL_39d3a111b0c347c8a6f53b80c077c804",
       "value": 5
      }
     },
     "97609c205a9d4f03908e7c10de30e576": {
      "model_module": "@jupyter-widgets/controls",
      "model_module_version": "1.5.0",
      "model_name": "ProgressStyleModel",
      "state": {
       "description_width": ""
      }
     },
     "9815842aa5dd46b9b0a9548844dc5d8f": {
      "model_module": "@jupyter-widgets/base",
      "model_module_version": "1.2.0",
      "model_name": "LayoutModel",
      "state": {}
     },
     "989225dfab664cb884df283c38570306": {
      "model_module": "@jupyter-widgets/base",
      "model_module_version": "1.2.0",
      "model_name": "LayoutModel",
      "state": {}
     },
     "99e75afcf6094b4ba17a0858cd1862d1": {
      "model_module": "@jupyter-widgets/controls",
      "model_module_version": "1.5.0",
      "model_name": "DescriptionStyleModel",
      "state": {
       "description_width": ""
      }
     },
     "9a4b4c1ec2644d1cb052b8aec9dca063": {
      "model_module": "@jupyter-widgets/controls",
      "model_module_version": "1.5.0",
      "model_name": "HTMLModel",
      "state": {
       "layout": "IPY_MODEL_0b4d110b85424e7e9297edab10cf82d8",
       "style": "IPY_MODEL_ac3a98624641449b8271dc9f16a18a5b",
       "value": "100%"
      }
     },
     "9c3aaf171aa4437b900ee89ff09187fe": {
      "model_module": "@jupyter-widgets/base",
      "model_module_version": "1.2.0",
      "model_name": "LayoutModel",
      "state": {}
     },
     "9d521e51b7924273973d2f7cc0455228": {
      "model_module": "@jupyter-widgets/controls",
      "model_module_version": "1.5.0",
      "model_name": "HTMLModel",
      "state": {
       "layout": "IPY_MODEL_ea50e56cafcc4323a35db604fa035550",
       "style": "IPY_MODEL_269a2b5e4857416e9090986411d88bc9",
       "value": " 5/5 [00:00&lt;00:00,  9.20it/s]"
      }
     },
     "9d9de2bc1589489b8625af7f64307d2c": {
      "model_module": "@jupyter-widgets/controls",
      "model_module_version": "1.5.0",
      "model_name": "HTMLModel",
      "state": {
       "layout": "IPY_MODEL_ed0527fea7f44c01b0c3eb9a812b673a",
       "style": "IPY_MODEL_f8225547f8bb4bb8b84e5c62ae92a33e",
       "value": " 5/5 [00:00&lt;00:00, 62.44it/s]"
      }
     },
     "9e45c5637afc4792a2ca0b49cabf1490": {
      "model_module": "@jupyter-widgets/controls",
      "model_module_version": "1.5.0",
      "model_name": "HTMLModel",
      "state": {
       "layout": "IPY_MODEL_bac4be45d9d74f82ad5e91bf00725732",
       "style": "IPY_MODEL_9ee852824b2247988a7066f9f1b70741",
       "value": " 5/5 [00:18&lt;00:00,  3.69s/it]"
      }
     },
     "9e507e42791f44cfb0200b591da73d48": {
      "model_module": "@jupyter-widgets/controls",
      "model_module_version": "1.5.0",
      "model_name": "DescriptionStyleModel",
      "state": {
       "description_width": ""
      }
     },
     "9e932bf9ae404838a9863bac5c80bbfc": {
      "model_module": "@jupyter-widgets/base",
      "model_module_version": "1.2.0",
      "model_name": "LayoutModel",
      "state": {}
     },
     "9edfce173ed948f99edcf494869f64e5": {
      "model_module": "@jupyter-widgets/controls",
      "model_module_version": "1.5.0",
      "model_name": "HTMLModel",
      "state": {
       "layout": "IPY_MODEL_841887d7aa574109a633110580bd9a2d",
       "style": "IPY_MODEL_8de283bbe98d48aca8e0f00758884cfa",
       "value": " 5/5 [00:00&lt;00:00, 80.57it/s]"
      }
     },
     "9ee07f1c0f764e88a8df64b1694eb939": {
      "model_module": "@jupyter-widgets/base",
      "model_module_version": "1.2.0",
      "model_name": "LayoutModel",
      "state": {}
     },
     "9ee852824b2247988a7066f9f1b70741": {
      "model_module": "@jupyter-widgets/controls",
      "model_module_version": "1.5.0",
      "model_name": "DescriptionStyleModel",
      "state": {
       "description_width": ""
      }
     },
     "9f2fc30a3d6e48b9b915f6023d5b8836": {
      "model_module": "@jupyter-widgets/controls",
      "model_module_version": "1.5.0",
      "model_name": "DescriptionStyleModel",
      "state": {
       "description_width": ""
      }
     },
     "9f85879a2d6b43b89e8f0105c44d0264": {
      "model_module": "@jupyter-widgets/controls",
      "model_module_version": "1.5.0",
      "model_name": "DescriptionStyleModel",
      "state": {
       "description_width": ""
      }
     },
     "9fa17f5bcacb4cfbb1e1e8f02e1fd499": {
      "model_module": "@jupyter-widgets/controls",
      "model_module_version": "1.5.0",
      "model_name": "HTMLModel",
      "state": {
       "layout": "IPY_MODEL_14dc9b166b9a4bda955bde10098a1dbc",
       "style": "IPY_MODEL_8a0e992b58e74967a078dda36713d0d7",
       "value": "100%"
      }
     },
     "a0bc56f2d4cb498a8f93431d4d7cdb01": {
      "model_module": "@jupyter-widgets/base",
      "model_module_version": "1.2.0",
      "model_name": "LayoutModel",
      "state": {}
     },
     "a0be743d4d1a4d9db34b7fc40f4d053c": {
      "model_module": "@jupyter-widgets/controls",
      "model_module_version": "1.5.0",
      "model_name": "FloatProgressModel",
      "state": {
       "bar_style": "success",
       "layout": "IPY_MODEL_9c3aaf171aa4437b900ee89ff09187fe",
       "max": 5,
       "style": "IPY_MODEL_e9b1397444eb4cc98bc06e66e41695be",
       "value": 5
      }
     },
     "a18ec64347934793a172439123bb6d99": {
      "model_module": "@jupyter-widgets/controls",
      "model_module_version": "1.5.0",
      "model_name": "HTMLModel",
      "state": {
       "layout": "IPY_MODEL_8ba61a14713c4f0b82922afbe83ff115",
       "style": "IPY_MODEL_8a91f5767b1240cd9185b4e30390c46c",
       "value": " 5/5 [00:16&lt;00:00,  3.31s/it]"
      }
     },
     "a282f298551648e7b69a504975be6c3a": {
      "model_module": "@jupyter-widgets/controls",
      "model_module_version": "1.5.0",
      "model_name": "HBoxModel",
      "state": {
       "children": [
        "IPY_MODEL_fc6a1ea75f6f4e62a5b230a026a4bd1f",
        "IPY_MODEL_ea8eafc3862a4e749f821b0e84d78b3f",
        "IPY_MODEL_bc4592bac3da4538939f2037e4fe1862"
       ],
       "layout": "IPY_MODEL_771888d64d9a426ea1da7080998bc570"
      }
     },
     "a46314ed2f7f4d5ba50c17cae9e053b4": {
      "model_module": "@jupyter-widgets/base",
      "model_module_version": "1.2.0",
      "model_name": "LayoutModel",
      "state": {}
     },
     "a506f7012d874b3483a42e5f8f74ccdf": {
      "model_module": "@jupyter-widgets/base",
      "model_module_version": "1.2.0",
      "model_name": "LayoutModel",
      "state": {}
     },
     "a5c340d27d4f4890bbe6b13250247238": {
      "model_module": "@jupyter-widgets/controls",
      "model_module_version": "1.5.0",
      "model_name": "HTMLModel",
      "state": {
       "layout": "IPY_MODEL_3d421c1a00eb4eb89451068e2304506c",
       "style": "IPY_MODEL_08991d2462c645f8af59bc7fe0310573",
       "value": " 5/5 [00:05&lt;00:00,  1.20s/it]"
      }
     },
     "a65cc4e842a4466b949659ca96c7c81a": {
      "model_module": "@jupyter-widgets/base",
      "model_module_version": "1.2.0",
      "model_name": "LayoutModel",
      "state": {}
     },
     "a668bc6166cc4f1f916e17839ec40623": {
      "model_module": "@jupyter-widgets/controls",
      "model_module_version": "1.5.0",
      "model_name": "DescriptionStyleModel",
      "state": {
       "description_width": ""
      }
     },
     "a677b639cacb44b4b12581376d89b603": {
      "model_module": "@jupyter-widgets/controls",
      "model_module_version": "1.5.0",
      "model_name": "FloatProgressModel",
      "state": {
       "bar_style": "success",
       "layout": "IPY_MODEL_227baa7a77aa4b60901862f9bd8432da",
       "max": 5,
       "style": "IPY_MODEL_f3f565a33a1d4e679448ef1753ebc047",
       "value": 5
      }
     },
     "a67fdd9d681b43a7b6ccf5244c6176cc": {
      "model_module": "@jupyter-widgets/controls",
      "model_module_version": "1.5.0",
      "model_name": "DescriptionStyleModel",
      "state": {
       "description_width": ""
      }
     },
     "a741f0f81f124c029a78bae71829974c": {
      "model_module": "@jupyter-widgets/base",
      "model_module_version": "1.2.0",
      "model_name": "LayoutModel",
      "state": {}
     },
     "a74fc996124740ddb935fb0ece90c36f": {
      "model_module": "@jupyter-widgets/base",
      "model_module_version": "1.2.0",
      "model_name": "LayoutModel",
      "state": {}
     },
     "a76d295c644c47f1b93714f4b9b8b808": {
      "model_module": "@jupyter-widgets/controls",
      "model_module_version": "1.5.0",
      "model_name": "ProgressStyleModel",
      "state": {
       "description_width": ""
      }
     },
     "a799d6cc865342ed8b6a3c4083c357c4": {
      "model_module": "@jupyter-widgets/base",
      "model_module_version": "1.2.0",
      "model_name": "LayoutModel",
      "state": {}
     },
     "a7fc5f50ca63413b8cccb2fecb63a7c5": {
      "model_module": "@jupyter-widgets/base",
      "model_module_version": "1.2.0",
      "model_name": "LayoutModel",
      "state": {}
     },
     "a818c28ee7024a2ea786aa86e0fd374d": {
      "model_module": "@jupyter-widgets/controls",
      "model_module_version": "1.5.0",
      "model_name": "HTMLModel",
      "state": {
       "layout": "IPY_MODEL_7636b19f69824561a5839748bb7ba57e",
       "style": "IPY_MODEL_94061522a9cd42549674564c02564f58",
       "value": " 5/5 [00:00&lt;00:00, 63.23it/s]"
      }
     },
     "a87226b8b144454f9755ba4df78bf117": {
      "model_module": "@jupyter-widgets/controls",
      "model_module_version": "1.5.0",
      "model_name": "HTMLModel",
      "state": {
       "layout": "IPY_MODEL_e5a41af9b7294356b37a794f60fdffd9",
       "style": "IPY_MODEL_0b324232b1ab4fbf9f6916f15d8593bb",
       "value": "100%"
      }
     },
     "a8cd339529164142aef7432ee5c89f07": {
      "model_module": "@jupyter-widgets/controls",
      "model_module_version": "1.5.0",
      "model_name": "DescriptionStyleModel",
      "state": {
       "description_width": ""
      }
     },
     "a90d246caade4df3a5ad04b2dbca0bcd": {
      "model_module": "@jupyter-widgets/base",
      "model_module_version": "1.2.0",
      "model_name": "LayoutModel",
      "state": {}
     },
     "a90ff51a179446fb9b1d63f0849c895f": {
      "model_module": "@jupyter-widgets/controls",
      "model_module_version": "1.5.0",
      "model_name": "HTMLModel",
      "state": {
       "layout": "IPY_MODEL_03ebde9ceb9844ea9833f1879953215f",
       "style": "IPY_MODEL_f539c3ff22634bf791c77f167366145e",
       "value": "100%"
      }
     },
     "a9203220a22e48e294df87d689863bce": {
      "model_module": "@jupyter-widgets/base",
      "model_module_version": "1.2.0",
      "model_name": "LayoutModel",
      "state": {}
     },
     "a93eb67e15554f4b82176c43ca851092": {
      "model_module": "@jupyter-widgets/base",
      "model_module_version": "1.2.0",
      "model_name": "LayoutModel",
      "state": {}
     },
     "aa2ddef8b4f24b058da9396577229858": {
      "model_module": "@jupyter-widgets/base",
      "model_module_version": "1.2.0",
      "model_name": "LayoutModel",
      "state": {}
     },
     "aa6e856f8ab5446580d36dfb6468e21c": {
      "model_module": "@jupyter-widgets/controls",
      "model_module_version": "1.5.0",
      "model_name": "HBoxModel",
      "state": {
       "children": [
        "IPY_MODEL_924fd0eaab6343ccaa71454c54b9bb91",
        "IPY_MODEL_6c843679fae0414bab518774d6e89733",
        "IPY_MODEL_460427322ed64649aa5e9b0be85565c9"
       ],
       "layout": "IPY_MODEL_4412c33239fd4af28bc0c6fd02e45948"
      }
     },
     "aa7510c257054ec79698f9c0eb731e6f": {
      "model_module": "@jupyter-widgets/base",
      "model_module_version": "1.2.0",
      "model_name": "LayoutModel",
      "state": {}
     },
     "aaea13738194489f9bd23d68163dfde3": {
      "model_module": "@jupyter-widgets/base",
      "model_module_version": "1.2.0",
      "model_name": "LayoutModel",
      "state": {}
     },
     "ab4130ccb5c64075bdb5e3b6269004b3": {
      "model_module": "@jupyter-widgets/controls",
      "model_module_version": "1.5.0",
      "model_name": "ProgressStyleModel",
      "state": {
       "description_width": ""
      }
     },
     "ab9ce1c2d530412e831526a130438a05": {
      "model_module": "@jupyter-widgets/base",
      "model_module_version": "1.2.0",
      "model_name": "LayoutModel",
      "state": {}
     },
     "aba07a7bacb94f9e957e63553dce83d8": {
      "model_module": "@jupyter-widgets/controls",
      "model_module_version": "1.5.0",
      "model_name": "DescriptionStyleModel",
      "state": {
       "description_width": ""
      }
     },
     "abc2fef88d9d42bb968ea792ac8054fe": {
      "model_module": "@jupyter-widgets/base",
      "model_module_version": "1.2.0",
      "model_name": "LayoutModel",
      "state": {}
     },
     "ac172de368d242adba7d44baa183dcfa": {
      "model_module": "@jupyter-widgets/controls",
      "model_module_version": "1.5.0",
      "model_name": "FloatProgressModel",
      "state": {
       "bar_style": "success",
       "layout": "IPY_MODEL_50589e792ab64b27a0d8e179c59aa965",
       "max": 5,
       "style": "IPY_MODEL_20142c3043d24ce89217443bfac8f713",
       "value": 5
      }
     },
     "ac3a98624641449b8271dc9f16a18a5b": {
      "model_module": "@jupyter-widgets/controls",
      "model_module_version": "1.5.0",
      "model_name": "DescriptionStyleModel",
      "state": {
       "description_width": ""
      }
     },
     "ad200846d5814ece84f4c5413ae8718d": {
      "model_module": "@jupyter-widgets/base",
      "model_module_version": "1.2.0",
      "model_name": "LayoutModel",
      "state": {}
     },
     "ad83559705444624920266589a625c8e": {
      "model_module": "@jupyter-widgets/controls",
      "model_module_version": "1.5.0",
      "model_name": "HBoxModel",
      "state": {
       "children": [
        "IPY_MODEL_8085adf2243546c4adb1f51e7d0d9c87",
        "IPY_MODEL_759a3fd136054c3fb236d318af90e32e",
        "IPY_MODEL_0d5c59cd2d7a452cafb58e3954231346"
       ],
       "layout": "IPY_MODEL_36ead8bec7534849831aa3c58a20c14f"
      }
     },
     "af022fca886d443f87712f70ffd374ef": {
      "model_module": "@jupyter-widgets/controls",
      "model_module_version": "1.5.0",
      "model_name": "HBoxModel",
      "state": {
       "children": [
        "IPY_MODEL_bea92d19e06a45128ac5842816bc3dcf",
        "IPY_MODEL_5ab19b38550a472e88852c529d70c0bc",
        "IPY_MODEL_0ea72dbc8d094cf985606242b0058685"
       ],
       "layout": "IPY_MODEL_ce8fd5f7c0d24757ad283356585f5fe1"
      }
     },
     "af11ab0fe9ba4903b62f341e6d5f09fe": {
      "model_module": "@jupyter-widgets/controls",
      "model_module_version": "1.5.0",
      "model_name": "ProgressStyleModel",
      "state": {
       "description_width": ""
      }
     },
     "af6ff6a8bff14586ac90b36e52d5c5f7": {
      "model_module": "@jupyter-widgets/base",
      "model_module_version": "1.2.0",
      "model_name": "LayoutModel",
      "state": {}
     },
     "afa53449671e4be89a051d630c796865": {
      "model_module": "@jupyter-widgets/controls",
      "model_module_version": "1.5.0",
      "model_name": "ProgressStyleModel",
      "state": {
       "description_width": ""
      }
     },
     "afef0fbc67e146b7a02d5a5ad602271a": {
      "model_module": "@jupyter-widgets/controls",
      "model_module_version": "1.5.0",
      "model_name": "HTMLModel",
      "state": {
       "layout": "IPY_MODEL_44d09b9714c2411cb091f274914a1408",
       "style": "IPY_MODEL_5c26ff1084624457acc11ea334b29d02",
       "value": " 5/5 [00:16&lt;00:00,  3.38s/it]"
      }
     },
     "b0517de207b5479aa8ae419c718a62d7": {
      "model_module": "@jupyter-widgets/controls",
      "model_module_version": "1.5.0",
      "model_name": "HTMLModel",
      "state": {
       "layout": "IPY_MODEL_903bef79269e46ea9ed91e7ea60914a5",
       "style": "IPY_MODEL_a67fdd9d681b43a7b6ccf5244c6176cc",
       "value": " 5/5 [00:18&lt;00:00,  3.71s/it]"
      }
     },
     "b0c57900affc4b2c8db2fbf7c45145a3": {
      "model_module": "@jupyter-widgets/base",
      "model_module_version": "1.2.0",
      "model_name": "LayoutModel",
      "state": {}
     },
     "b0f37067e957458ab590b90870b44172": {
      "model_module": "@jupyter-widgets/base",
      "model_module_version": "1.2.0",
      "model_name": "LayoutModel",
      "state": {}
     },
     "b15f6cec7b744ca38e8a5428546094b2": {
      "model_module": "@jupyter-widgets/base",
      "model_module_version": "1.2.0",
      "model_name": "LayoutModel",
      "state": {}
     },
     "b231043b68bf42f1bdbc84866c87a705": {
      "model_module": "@jupyter-widgets/controls",
      "model_module_version": "1.5.0",
      "model_name": "DescriptionStyleModel",
      "state": {
       "description_width": ""
      }
     },
     "b23b276468ca43ada9cfca2b162d9692": {
      "model_module": "@jupyter-widgets/base",
      "model_module_version": "1.2.0",
      "model_name": "LayoutModel",
      "state": {}
     },
     "b2b2c7f695cd41c5a2d0e64aee67139c": {
      "model_module": "@jupyter-widgets/controls",
      "model_module_version": "1.5.0",
      "model_name": "HBoxModel",
      "state": {
       "children": [
        "IPY_MODEL_19d850b4d9674a37b49355a50ea711f8",
        "IPY_MODEL_65433f94cee5474bb91c2d318959c8a7",
        "IPY_MODEL_2188e43f1b964405b00051176b1334f2"
       ],
       "layout": "IPY_MODEL_d7837c1672324b3a99338e67fca7f56b"
      }
     },
     "b35c7a8b63854f3e80055c3a79dd9ebc": {
      "model_module": "@jupyter-widgets/base",
      "model_module_version": "1.2.0",
      "model_name": "LayoutModel",
      "state": {}
     },
     "b37dbbeb15324edc8c10aa8a4827966a": {
      "model_module": "@jupyter-widgets/controls",
      "model_module_version": "1.5.0",
      "model_name": "HBoxModel",
      "state": {
       "children": [
        "IPY_MODEL_172e3a0b17464049bdeb370f216c16fe",
        "IPY_MODEL_5420a79a2d9b4099bea120a1c5e9d2d3",
        "IPY_MODEL_2f1a92387b424184aee278bd2131372a"
       ],
       "layout": "IPY_MODEL_48dcb76e56f04bfcaa46ee8870c662d2"
      }
     },
     "b487a2fec08c45dfb6e50574987c6648": {
      "model_module": "@jupyter-widgets/controls",
      "model_module_version": "1.5.0",
      "model_name": "HBoxModel",
      "state": {
       "children": [
        "IPY_MODEL_c05c34e22e0c43bc88648d0ba407a5f5",
        "IPY_MODEL_154d75691a5f4605a7098ed3e22d02cf",
        "IPY_MODEL_e22bc54b9d0d458288c0952cd0aeffbc"
       ],
       "layout": "IPY_MODEL_5321add6dea343d0b7b1ddca5cbaf6d2"
      }
     },
     "b4ac4baa017c42a99d1f762a16ebcbb3": {
      "model_module": "@jupyter-widgets/controls",
      "model_module_version": "1.5.0",
      "model_name": "DescriptionStyleModel",
      "state": {
       "description_width": ""
      }
     },
     "b4e58ac6d4f942458e901c93d7a43c77": {
      "model_module": "@jupyter-widgets/base",
      "model_module_version": "1.2.0",
      "model_name": "LayoutModel",
      "state": {}
     },
     "b508a278b4304a10881fb6667f540a8d": {
      "model_module": "@jupyter-widgets/controls",
      "model_module_version": "1.5.0",
      "model_name": "HBoxModel",
      "state": {
       "children": [
        "IPY_MODEL_5e1f456e5495462096fcf08a2aa083df",
        "IPY_MODEL_cbb1a9ee3b3545d1ab1e7ddd036e6230",
        "IPY_MODEL_2401e59d94eb452290b0a0c86a4c24d4"
       ],
       "layout": "IPY_MODEL_7459d9a8829a4b3985360637912977d2"
      }
     },
     "b62ba191c4d24aa6959b657f81911e87": {
      "model_module": "@jupyter-widgets/base",
      "model_module_version": "1.2.0",
      "model_name": "LayoutModel",
      "state": {}
     },
     "b7084c69a7114f3ca714c378e98c30df": {
      "model_module": "@jupyter-widgets/controls",
      "model_module_version": "1.5.0",
      "model_name": "HBoxModel",
      "state": {
       "children": [
        "IPY_MODEL_3545b0fbb40848c78709407169e95b60",
        "IPY_MODEL_2c85b99173f04f14aac1651b7b76c94e",
        "IPY_MODEL_c27545bce1bf49f8808a617cc432b804"
       ],
       "layout": "IPY_MODEL_0b9ec2ca4a7c4d8cbdb30de873730f66"
      }
     },
     "b75faf1a43f9434e80169ddb5a065762": {
      "model_module": "@jupyter-widgets/controls",
      "model_module_version": "1.5.0",
      "model_name": "FloatProgressModel",
      "state": {
       "bar_style": "success",
       "layout": "IPY_MODEL_ccfb0d3e64364227aa4889aecc5c6b2b",
       "max": 5,
       "style": "IPY_MODEL_0a4f15e51614466ebee904e788d298f7",
       "value": 5
      }
     },
     "b76e09f4dccf4a3e9dbff844aea4ff31": {
      "model_module": "@jupyter-widgets/controls",
      "model_module_version": "1.5.0",
      "model_name": "ProgressStyleModel",
      "state": {
       "description_width": ""
      }
     },
     "b7a24239eb7b480b9bd576bc730d0bf7": {
      "model_module": "@jupyter-widgets/controls",
      "model_module_version": "1.5.0",
      "model_name": "FloatProgressModel",
      "state": {
       "bar_style": "success",
       "layout": "IPY_MODEL_e2032aebbe8948a18b70ff361779fc71",
       "max": 5,
       "style": "IPY_MODEL_284cdd480e944da4a588a6050ab1c936",
       "value": 5
      }
     },
     "b7b4faf88ac44f72bf3c1e22e4553633": {
      "model_module": "@jupyter-widgets/controls",
      "model_module_version": "1.5.0",
      "model_name": "HTMLModel",
      "state": {
       "layout": "IPY_MODEL_4c0d147ee7b6490480b08f9100b09352",
       "style": "IPY_MODEL_224f3c3d51b8429cbd69d794730f68f0",
       "value": " 5/5 [00:17&lt;00:00,  3.45s/it]"
      }
     },
     "b80a1e1c8a0b4281a2e2410417dd5c35": {
      "model_module": "@jupyter-widgets/controls",
      "model_module_version": "1.5.0",
      "model_name": "DescriptionStyleModel",
      "state": {
       "description_width": ""
      }
     },
     "b8ff6151c1bc45af9d637ef1ee25a343": {
      "model_module": "@jupyter-widgets/controls",
      "model_module_version": "1.5.0",
      "model_name": "HTMLModel",
      "state": {
       "layout": "IPY_MODEL_4c88b34c366046e4b52dfa320045bef8",
       "style": "IPY_MODEL_5a3fd9b5e84c4440814e91301b1537f4",
       "value": " 5/5 [00:21&lt;00:00,  4.21s/it]"
      }
     },
     "b9238793ccb34e45bb2417666eec5585": {
      "model_module": "@jupyter-widgets/controls",
      "model_module_version": "1.5.0",
      "model_name": "DescriptionStyleModel",
      "state": {
       "description_width": ""
      }
     },
     "b934eb321c234aff8cbb236c91f1d0d8": {
      "model_module": "@jupyter-widgets/controls",
      "model_module_version": "1.5.0",
      "model_name": "HBoxModel",
      "state": {
       "children": [
        "IPY_MODEL_26801b830f4447f783b43d987a9eb88a",
        "IPY_MODEL_2da893844f344034846e179e950ccdf4",
        "IPY_MODEL_59d78ebfce50497ca156a2162ff03f30"
       ],
       "layout": "IPY_MODEL_24fc89cef3a24beb931d4bfc245fe61c"
      }
     },
     "ba2d9fd34ac84a90b07c976dd6877aa8": {
      "model_module": "@jupyter-widgets/controls",
      "model_module_version": "1.5.0",
      "model_name": "HTMLModel",
      "state": {
       "layout": "IPY_MODEL_5b8cc04ecff34b8ba043ca303f665510",
       "style": "IPY_MODEL_b9238793ccb34e45bb2417666eec5585",
       "value": " 5/5 [00:00&lt;00:00, 51.55it/s]"
      }
     },
     "baaffc6cba8449c880e1ee47602c45bc": {
      "model_module": "@jupyter-widgets/controls",
      "model_module_version": "1.5.0",
      "model_name": "HBoxModel",
      "state": {
       "children": [
        "IPY_MODEL_2ea8485505e84877a326276e0aa7c9d6",
        "IPY_MODEL_ac172de368d242adba7d44baa183dcfa",
        "IPY_MODEL_9d521e51b7924273973d2f7cc0455228"
       ],
       "layout": "IPY_MODEL_0e871760bfbb47609247d4cdb7f3c7da"
      }
     },
     "bac4be45d9d74f82ad5e91bf00725732": {
      "model_module": "@jupyter-widgets/base",
      "model_module_version": "1.2.0",
      "model_name": "LayoutModel",
      "state": {}
     },
     "bb811294e90e45a19a94506be335f015": {
      "model_module": "@jupyter-widgets/base",
      "model_module_version": "1.2.0",
      "model_name": "LayoutModel",
      "state": {}
     },
     "bc1a62b39f5d4b909e1ddda820963587": {
      "model_module": "@jupyter-widgets/controls",
      "model_module_version": "1.5.0",
      "model_name": "HBoxModel",
      "state": {
       "children": [
        "IPY_MODEL_860a3996340948ea8d8d90ce9ba2f9b4",
        "IPY_MODEL_e8c321afa4e0490182eaebdd3858e826",
        "IPY_MODEL_2693551ec373455592f6c855d6717d13"
       ],
       "layout": "IPY_MODEL_e704adae850e4a63985d9ba14dc0c4ff"
      }
     },
     "bc2ff77f614b4fa9ba2d4468855c8e4f": {
      "model_module": "@jupyter-widgets/controls",
      "model_module_version": "1.5.0",
      "model_name": "HBoxModel",
      "state": {
       "children": [
        "IPY_MODEL_31f48bf835cf4cb197951800c885234d",
        "IPY_MODEL_96e711d3ff904cb4a519cda6312ecac5",
        "IPY_MODEL_270f81b34a6f4673805f4ab1aae19aa9"
       ],
       "layout": "IPY_MODEL_95271ca92573409581f742175654d0ae"
      }
     },
     "bc4592bac3da4538939f2037e4fe1862": {
      "model_module": "@jupyter-widgets/controls",
      "model_module_version": "1.5.0",
      "model_name": "HTMLModel",
      "state": {
       "layout": "IPY_MODEL_e480f60c56ae423c91c4c82db216e719",
       "style": "IPY_MODEL_3d9002dd1aef43188d98013d0c22dfe3",
       "value": " 5/5 [00:16&lt;00:00,  3.32s/it]"
      }
     },
     "bc4cd04b28934aed80754aa36d1a6401": {
      "model_module": "@jupyter-widgets/base",
      "model_module_version": "1.2.0",
      "model_name": "LayoutModel",
      "state": {}
     },
     "bd1a5c7c9a724eb2a880681fe4183853": {
      "model_module": "@jupyter-widgets/base",
      "model_module_version": "1.2.0",
      "model_name": "LayoutModel",
      "state": {}
     },
     "bd7ed112f9b143dda84fa188f791e7c2": {
      "model_module": "@jupyter-widgets/controls",
      "model_module_version": "1.5.0",
      "model_name": "DescriptionStyleModel",
      "state": {
       "description_width": ""
      }
     },
     "bd92dad5cc734065a1198be604d378ca": {
      "model_module": "@jupyter-widgets/controls",
      "model_module_version": "1.5.0",
      "model_name": "HTMLModel",
      "state": {
       "layout": "IPY_MODEL_fed9eb9f44474a148aaf49f4a32962ac",
       "style": "IPY_MODEL_4071e8392381449b83a8d919cf25235d",
       "value": " 5/5 [00:02&lt;00:00,  2.67it/s]"
      }
     },
     "bea92d19e06a45128ac5842816bc3dcf": {
      "model_module": "@jupyter-widgets/controls",
      "model_module_version": "1.5.0",
      "model_name": "HTMLModel",
      "state": {
       "layout": "IPY_MODEL_ab9ce1c2d530412e831526a130438a05",
       "style": "IPY_MODEL_a668bc6166cc4f1f916e17839ec40623",
       "value": "100%"
      }
     },
     "beab6d6d9f5e4d1aa1b291e98ca6dc3a": {
      "model_module": "@jupyter-widgets/controls",
      "model_module_version": "1.5.0",
      "model_name": "HBoxModel",
      "state": {
       "children": [
        "IPY_MODEL_08715ff81e4d48f591596e2c5403364f",
        "IPY_MODEL_96cb5f97df394b089b3680f96025548a",
        "IPY_MODEL_7bd28ca1f14a4178ac451ce73d741aff"
       ],
       "layout": "IPY_MODEL_119ab8a13f2845219fe29e19029cc271"
      }
     },
     "bef9cb90e3fa4067adfb7c75cf978ea2": {
      "model_module": "@jupyter-widgets/base",
      "model_module_version": "1.2.0",
      "model_name": "LayoutModel",
      "state": {}
     },
     "bf0c3192471c4f8aa955369cb71c0302": {
      "model_module": "@jupyter-widgets/controls",
      "model_module_version": "1.5.0",
      "model_name": "ProgressStyleModel",
      "state": {
       "description_width": ""
      }
     },
     "bfba321e96bf4fc4a9ac2b54d6416e50": {
      "model_module": "@jupyter-widgets/base",
      "model_module_version": "1.2.0",
      "model_name": "LayoutModel",
      "state": {}
     },
     "c021945c7a324abc8a851a5213baab0c": {
      "model_module": "@jupyter-widgets/base",
      "model_module_version": "1.2.0",
      "model_name": "LayoutModel",
      "state": {}
     },
     "c05c34e22e0c43bc88648d0ba407a5f5": {
      "model_module": "@jupyter-widgets/controls",
      "model_module_version": "1.5.0",
      "model_name": "HTMLModel",
      "state": {
       "layout": "IPY_MODEL_39a09ff83d874855af7c7c72a31ba4de",
       "style": "IPY_MODEL_6d962580a46b43139f1539b02569c78c",
       "value": "100%"
      }
     },
     "c05cd21642284827a014a7e924e4642b": {
      "model_module": "@jupyter-widgets/controls",
      "model_module_version": "1.5.0",
      "model_name": "FloatProgressModel",
      "state": {
       "bar_style": "success",
       "layout": "IPY_MODEL_3cea86c3d30a4f55855b7ce78db13bf1",
       "max": 5,
       "style": "IPY_MODEL_d7e107b6ff39443a814fc820b02f730d",
       "value": 5
      }
     },
     "c117ac54b6a343eb8a58c9eb682e7cb6": {
      "model_module": "@jupyter-widgets/base",
      "model_module_version": "1.2.0",
      "model_name": "LayoutModel",
      "state": {}
     },
     "c19bc4185db84c4cb3ea6ffae19e278f": {
      "model_module": "@jupyter-widgets/controls",
      "model_module_version": "1.5.0",
      "model_name": "FloatProgressModel",
      "state": {
       "bar_style": "success",
       "layout": "IPY_MODEL_5e505d4659d44ee08f8f68f75cae23f3",
       "max": 5,
       "style": "IPY_MODEL_ee33f626346641ddaf5a75cdf5b425c9",
       "value": 5
      }
     },
     "c22b9e93e07b488eb09963805a2641b0": {
      "model_module": "@jupyter-widgets/controls",
      "model_module_version": "1.5.0",
      "model_name": "DescriptionStyleModel",
      "state": {
       "description_width": ""
      }
     },
     "c27545bce1bf49f8808a617cc432b804": {
      "model_module": "@jupyter-widgets/controls",
      "model_module_version": "1.5.0",
      "model_name": "HTMLModel",
      "state": {
       "layout": "IPY_MODEL_818c56980e6847ac9b9ee35d3870dfff",
       "style": "IPY_MODEL_c22b9e93e07b488eb09963805a2641b0",
       "value": " 5/5 [00:19&lt;00:00,  3.80s/it]"
      }
     },
     "c27a3a8b22664517881c78fb886d6770": {
      "model_module": "@jupyter-widgets/controls",
      "model_module_version": "1.5.0",
      "model_name": "FloatProgressModel",
      "state": {
       "bar_style": "success",
       "layout": "IPY_MODEL_aa2ddef8b4f24b058da9396577229858",
       "max": 5,
       "style": "IPY_MODEL_39d29c4b011a4ceab3d37334e160e6af",
       "value": 5
      }
     },
     "c35a4d1c5298436985519d9b07a00358": {
      "model_module": "@jupyter-widgets/controls",
      "model_module_version": "1.5.0",
      "model_name": "HTMLModel",
      "state": {
       "layout": "IPY_MODEL_b4e58ac6d4f942458e901c93d7a43c77",
       "style": "IPY_MODEL_d38e116f76874bfa8361846acb0f4f7b",
       "value": " 5/5 [00:16&lt;00:00,  3.22s/it]"
      }
     },
     "c3ae2a82c97540d6a6d36848d564ba18": {
      "model_module": "@jupyter-widgets/controls",
      "model_module_version": "1.5.0",
      "model_name": "DescriptionStyleModel",
      "state": {
       "description_width": ""
      }
     },
     "c3d09b1c63564bbf938370b95df29ca7": {
      "model_module": "@jupyter-widgets/base",
      "model_module_version": "1.2.0",
      "model_name": "LayoutModel",
      "state": {}
     },
     "c4ede914911445cdb5ca877ca7b75176": {
      "model_module": "@jupyter-widgets/controls",
      "model_module_version": "1.5.0",
      "model_name": "HTMLModel",
      "state": {
       "layout": "IPY_MODEL_8b2931f268054ce28ee9f3876ede98b3",
       "style": "IPY_MODEL_f121e3b132604745bcc3a47b387723d0",
       "value": "100%"
      }
     },
     "c5ac7c11158a43b1ba95f5d3bd2ee754": {
      "model_module": "@jupyter-widgets/controls",
      "model_module_version": "1.5.0",
      "model_name": "HBoxModel",
      "state": {
       "children": [
        "IPY_MODEL_355243589c62433b8a197504b01b0bfa",
        "IPY_MODEL_170155d2c7924bf6a2c14c01c0ff20d4",
        "IPY_MODEL_6fd1b079fe834c5482b70db21f8ca33d"
       ],
       "layout": "IPY_MODEL_ee588bd252fd473c954c7dc809b1bfc0"
      }
     },
     "c615f32278e04383bfab39e830f3ecc2": {
      "model_module": "@jupyter-widgets/controls",
      "model_module_version": "1.5.0",
      "model_name": "HTMLModel",
      "state": {
       "layout": "IPY_MODEL_76e342449e6e4db7806c8c9bc9d1c211",
       "style": "IPY_MODEL_f370eb458af842f6a24780ccb64324e1",
       "value": "100%"
      }
     },
     "c6be54dcf106428b9f7ae704a22ee742": {
      "model_module": "@jupyter-widgets/controls",
      "model_module_version": "1.5.0",
      "model_name": "ProgressStyleModel",
      "state": {
       "description_width": ""
      }
     },
     "c719b32ecdea49509ebf2372ff4aca74": {
      "model_module": "@jupyter-widgets/base",
      "model_module_version": "1.2.0",
      "model_name": "LayoutModel",
      "state": {}
     },
     "c767e675a3124b4db8d0255e1581eef6": {
      "model_module": "@jupyter-widgets/controls",
      "model_module_version": "1.5.0",
      "model_name": "HTMLModel",
      "state": {
       "layout": "IPY_MODEL_068c8157703f4daca5bc53b81975f2db",
       "style": "IPY_MODEL_bd7ed112f9b143dda84fa188f791e7c2",
       "value": " 5/5 [00:01&lt;00:00,  4.07it/s]"
      }
     },
     "c7708a266ba54326b532bcd3e73ad4cb": {
      "model_module": "@jupyter-widgets/controls",
      "model_module_version": "1.5.0",
      "model_name": "HTMLModel",
      "state": {
       "layout": "IPY_MODEL_7fdd6e1c87f340dfa8c9fe5f0accca6a",
       "style": "IPY_MODEL_697cdb97c76f4db09d78dda6d7fcae86",
       "value": "100%"
      }
     },
     "c7ddf5edad304db4ac1dd1dc3cf8ae63": {
      "model_module": "@jupyter-widgets/controls",
      "model_module_version": "1.5.0",
      "model_name": "DescriptionStyleModel",
      "state": {
       "description_width": ""
      }
     },
     "c7ffc5e4090b4c6eac53933e4b4dfee5": {
      "model_module": "@jupyter-widgets/controls",
      "model_module_version": "1.5.0",
      "model_name": "HTMLModel",
      "state": {
       "layout": "IPY_MODEL_f78073d17a574970b1169cc921afe9f4",
       "style": "IPY_MODEL_d9c55ae0589f48ccbbe24a5af7086eea",
       "value": "100%"
      }
     },
     "c84006bcf85b48a3ac3e8ebfb72d9b8e": {
      "model_module": "@jupyter-widgets/controls",
      "model_module_version": "1.5.0",
      "model_name": "DescriptionStyleModel",
      "state": {
       "description_width": ""
      }
     },
     "ca5ef6fe98394c6d926fd8316c6dcc35": {
      "model_module": "@jupyter-widgets/controls",
      "model_module_version": "1.5.0",
      "model_name": "HTMLModel",
      "state": {
       "layout": "IPY_MODEL_3f35118165f04c4f879f77875881f638",
       "style": "IPY_MODEL_a8cd339529164142aef7432ee5c89f07",
       "value": "100%"
      }
     },
     "cb369c280d08456fb11d15dfe4ff9f64": {
      "model_module": "@jupyter-widgets/controls",
      "model_module_version": "1.5.0",
      "model_name": "HBoxModel",
      "state": {
       "children": [
        "IPY_MODEL_91aedeea12f24080977157b29828228a",
        "IPY_MODEL_d448b874c16e421da23a2f54ff700a25",
        "IPY_MODEL_df9488f04fd24f859d7bff1f8f5e6969"
       ],
       "layout": "IPY_MODEL_b35c7a8b63854f3e80055c3a79dd9ebc"
      }
     },
     "cb70748e6d1942458496161323764a19": {
      "model_module": "@jupyter-widgets/controls",
      "model_module_version": "1.5.0",
      "model_name": "HTMLModel",
      "state": {
       "layout": "IPY_MODEL_a506f7012d874b3483a42e5f8f74ccdf",
       "style": "IPY_MODEL_4cb726d933d5412fa351a0cc1b591413",
       "value": " 5/5 [00:00&lt;00:00, 84.67it/s]"
      }
     },
     "cb786c8d16334133b694ebff3ee5312c": {
      "model_module": "@jupyter-widgets/base",
      "model_module_version": "1.2.0",
      "model_name": "LayoutModel",
      "state": {}
     },
     "cba7a8c6bedc465f980dcb78d9f98d2c": {
      "model_module": "@jupyter-widgets/controls",
      "model_module_version": "1.5.0",
      "model_name": "HTMLModel",
      "state": {
       "layout": "IPY_MODEL_88cc169cf70740dbab39adfbea95cc02",
       "style": "IPY_MODEL_99e75afcf6094b4ba17a0858cd1862d1",
       "value": "100%"
      }
     },
     "cbb1a9ee3b3545d1ab1e7ddd036e6230": {
      "model_module": "@jupyter-widgets/controls",
      "model_module_version": "1.5.0",
      "model_name": "FloatProgressModel",
      "state": {
       "bar_style": "success",
       "layout": "IPY_MODEL_f735fb4922f548b0a6a1dcd93e645748",
       "max": 5,
       "style": "IPY_MODEL_21d03beedd5c4a67ae98b4e1ae5cfc84",
       "value": 5
      }
     },
     "cbba684c7b1547a4b9fb054e8efae783": {
      "model_module": "@jupyter-widgets/base",
      "model_module_version": "1.2.0",
      "model_name": "LayoutModel",
      "state": {}
     },
     "cc6a4e48b0ad4fbca2b1fca6aea251ee": {
      "model_module": "@jupyter-widgets/controls",
      "model_module_version": "1.5.0",
      "model_name": "HBoxModel",
      "state": {
       "children": [
        "IPY_MODEL_fe4375f3670f4a8e8839cbdc1f426182",
        "IPY_MODEL_6b4d38e13d9c49d2bb64bda1e913f13b",
        "IPY_MODEL_b8ff6151c1bc45af9d637ef1ee25a343"
       ],
       "layout": "IPY_MODEL_0537449c77e84ac0b9ec2de7cc81119d"
      }
     },
     "ccfb0d3e64364227aa4889aecc5c6b2b": {
      "model_module": "@jupyter-widgets/base",
      "model_module_version": "1.2.0",
      "model_name": "LayoutModel",
      "state": {}
     },
     "ce21926870554a5db723ee35b8052a03": {
      "model_module": "@jupyter-widgets/controls",
      "model_module_version": "1.5.0",
      "model_name": "DescriptionStyleModel",
      "state": {
       "description_width": ""
      }
     },
     "ce367c5cb9224ff6be48ffddf3d0149a": {
      "model_module": "@jupyter-widgets/controls",
      "model_module_version": "1.5.0",
      "model_name": "FloatProgressModel",
      "state": {
       "bar_style": "success",
       "layout": "IPY_MODEL_f0c5a6662de94039a373cc7d2176a12f",
       "max": 5,
       "style": "IPY_MODEL_578bfcd3c0b846819729a91d518374af",
       "value": 5
      }
     },
     "ce657aa81bf14fed9649f38ce33df30a": {
      "model_module": "@jupyter-widgets/controls",
      "model_module_version": "1.5.0",
      "model_name": "HBoxModel",
      "state": {
       "children": [
        "IPY_MODEL_0dc9a9b6ee40490d84c2a51a2a109dd4",
        "IPY_MODEL_5c930ef6828041e18d9478f3f4bf7310",
        "IPY_MODEL_9edfce173ed948f99edcf494869f64e5"
       ],
       "layout": "IPY_MODEL_3a1ea52cc30d43c89fc914a49f98b7b1"
      }
     },
     "ce8fd5f7c0d24757ad283356585f5fe1": {
      "model_module": "@jupyter-widgets/base",
      "model_module_version": "1.2.0",
      "model_name": "LayoutModel",
      "state": {}
     },
     "cf2785a501ab44969bf6ecfee2431d10": {
      "model_module": "@jupyter-widgets/controls",
      "model_module_version": "1.5.0",
      "model_name": "FloatProgressModel",
      "state": {
       "bar_style": "success",
       "layout": "IPY_MODEL_fc8506f693064a2ca32634848db79be9",
       "max": 5,
       "style": "IPY_MODEL_96201372b75b4bdbb70139cd7554b1c3",
       "value": 5
      }
     },
     "cf2ef1693c7d40ffb2cb8a94c5c3a1e4": {
      "model_module": "@jupyter-widgets/controls",
      "model_module_version": "1.5.0",
      "model_name": "DescriptionStyleModel",
      "state": {
       "description_width": ""
      }
     },
     "d38e116f76874bfa8361846acb0f4f7b": {
      "model_module": "@jupyter-widgets/controls",
      "model_module_version": "1.5.0",
      "model_name": "DescriptionStyleModel",
      "state": {
       "description_width": ""
      }
     },
     "d3ea578a5cf74ce1b9753d644366fb73": {
      "model_module": "@jupyter-widgets/base",
      "model_module_version": "1.2.0",
      "model_name": "LayoutModel",
      "state": {}
     },
     "d411297994a34040921b851ee1301fa5": {
      "model_module": "@jupyter-widgets/controls",
      "model_module_version": "1.5.0",
      "model_name": "DescriptionStyleModel",
      "state": {
       "description_width": ""
      }
     },
     "d4237f70ffea4fbb851e7e3dbeeb5f53": {
      "model_module": "@jupyter-widgets/base",
      "model_module_version": "1.2.0",
      "model_name": "LayoutModel",
      "state": {}
     },
     "d4297ebda3f54c9e902ef112f384c173": {
      "model_module": "@jupyter-widgets/controls",
      "model_module_version": "1.5.0",
      "model_name": "HTMLModel",
      "state": {
       "layout": "IPY_MODEL_ad200846d5814ece84f4c5413ae8718d",
       "style": "IPY_MODEL_6eb595cd8e2b426aada37ec4af744c02",
       "value": "100%"
      }
     },
     "d448b874c16e421da23a2f54ff700a25": {
      "model_module": "@jupyter-widgets/controls",
      "model_module_version": "1.5.0",
      "model_name": "FloatProgressModel",
      "state": {
       "bar_style": "success",
       "layout": "IPY_MODEL_b15f6cec7b744ca38e8a5428546094b2",
       "max": 5,
       "style": "IPY_MODEL_3b70ae5c09b74e5e8604a9be0d187f7e",
       "value": 5
      }
     },
     "d60810aaddc748a9b13be4b0860f96ac": {
      "model_module": "@jupyter-widgets/base",
      "model_module_version": "1.2.0",
      "model_name": "LayoutModel",
      "state": {}
     },
     "d6417774939a4a3db0f7df340f96540a": {
      "model_module": "@jupyter-widgets/controls",
      "model_module_version": "1.5.0",
      "model_name": "HTMLModel",
      "state": {
       "layout": "IPY_MODEL_bd1a5c7c9a724eb2a880681fe4183853",
       "style": "IPY_MODEL_c3ae2a82c97540d6a6d36848d564ba18",
       "value": "100%"
      }
     },
     "d7837c1672324b3a99338e67fca7f56b": {
      "model_module": "@jupyter-widgets/base",
      "model_module_version": "1.2.0",
      "model_name": "LayoutModel",
      "state": {}
     },
     "d7a2c380ad7a4d02ae6aba650d6b21d5": {
      "model_module": "@jupyter-widgets/controls",
      "model_module_version": "1.5.0",
      "model_name": "DescriptionStyleModel",
      "state": {
       "description_width": ""
      }
     },
     "d7ac6f55711942b59436d6380f2ec71f": {
      "model_module": "@jupyter-widgets/controls",
      "model_module_version": "1.5.0",
      "model_name": "ProgressStyleModel",
      "state": {
       "description_width": ""
      }
     },
     "d7e107b6ff39443a814fc820b02f730d": {
      "model_module": "@jupyter-widgets/controls",
      "model_module_version": "1.5.0",
      "model_name": "ProgressStyleModel",
      "state": {
       "description_width": ""
      }
     },
     "d7facb8d8c05438d80f3e2e3d4f02823": {
      "model_module": "@jupyter-widgets/controls",
      "model_module_version": "1.5.0",
      "model_name": "FloatProgressModel",
      "state": {
       "bar_style": "success",
       "layout": "IPY_MODEL_2263ade0df484728bcd86422f9ce09c6",
       "max": 5,
       "style": "IPY_MODEL_699603d76bf04531b941fda668e0da3a",
       "value": 5
      }
     },
     "d801f0c0c7bc487e998d5633b9102f24": {
      "model_module": "@jupyter-widgets/controls",
      "model_module_version": "1.5.0",
      "model_name": "DescriptionStyleModel",
      "state": {
       "description_width": ""
      }
     },
     "d86aa59f4fed4b80a51791d573b6f85c": {
      "model_module": "@jupyter-widgets/controls",
      "model_module_version": "1.5.0",
      "model_name": "DescriptionStyleModel",
      "state": {
       "description_width": ""
      }
     },
     "d87116eea870403c8d699e346fada5dc": {
      "model_module": "@jupyter-widgets/controls",
      "model_module_version": "1.5.0",
      "model_name": "FloatProgressModel",
      "state": {
       "bar_style": "success",
       "layout": "IPY_MODEL_10a07898d3054a9d8983cfaf3efb58ab",
       "max": 5,
       "style": "IPY_MODEL_e31702ec76894f86ac16788dbe474749",
       "value": 5
      }
     },
     "d9c55ae0589f48ccbbe24a5af7086eea": {
      "model_module": "@jupyter-widgets/controls",
      "model_module_version": "1.5.0",
      "model_name": "DescriptionStyleModel",
      "state": {
       "description_width": ""
      }
     },
     "d9e27f694a484686ad26ec6e3673d049": {
      "model_module": "@jupyter-widgets/base",
      "model_module_version": "1.2.0",
      "model_name": "LayoutModel",
      "state": {}
     },
     "da8fdb823b98433ea46b4a96b5084999": {
      "model_module": "@jupyter-widgets/controls",
      "model_module_version": "1.5.0",
      "model_name": "HBoxModel",
      "state": {
       "children": [
        "IPY_MODEL_cba7a8c6bedc465f980dcb78d9f98d2c",
        "IPY_MODEL_925e2994c068451ab5a29143e018bdd9",
        "IPY_MODEL_ba2d9fd34ac84a90b07c976dd6877aa8"
       ],
       "layout": "IPY_MODEL_687d95fec7a545cd980ae358679129b0"
      }
     },
     "dae048dbb87e4b89ba3a7545e3408fc2": {
      "model_module": "@jupyter-widgets/controls",
      "model_module_version": "1.5.0",
      "model_name": "DescriptionStyleModel",
      "state": {
       "description_width": ""
      }
     },
     "db011e08d34e4642b5d37994fb30a9e1": {
      "model_module": "@jupyter-widgets/controls",
      "model_module_version": "1.5.0",
      "model_name": "DescriptionStyleModel",
      "state": {
       "description_width": ""
      }
     },
     "dc2eb8616a0142c984fd284c1a32c382": {
      "model_module": "@jupyter-widgets/controls",
      "model_module_version": "1.5.0",
      "model_name": "HTMLModel",
      "state": {
       "layout": "IPY_MODEL_41a18de3a75340d6bda61310cdc7d652",
       "style": "IPY_MODEL_62a08a35c30e4b6a8649dc5c4283572e",
       "value": " 5/5 [00:00&lt;00:00, 81.89it/s]"
      }
     },
     "dc6fcd63c1a04761aceb4de7f2f1a7ef": {
      "model_module": "@jupyter-widgets/base",
      "model_module_version": "1.2.0",
      "model_name": "LayoutModel",
      "state": {}
     },
     "dd2f3894f0194f33b68c476a3fa7b837": {
      "model_module": "@jupyter-widgets/controls",
      "model_module_version": "1.5.0",
      "model_name": "FloatProgressModel",
      "state": {
       "bar_style": "success",
       "layout": "IPY_MODEL_88dfaa94721a450492aee016d90777cf",
       "max": 5,
       "style": "IPY_MODEL_8f770f759d33486b84b74622c23b6c75",
       "value": 5
      }
     },
     "dd3814e41c7348ed87ba7553456f81b5": {
      "model_module": "@jupyter-widgets/base",
      "model_module_version": "1.2.0",
      "model_name": "LayoutModel",
      "state": {}
     },
     "dd4fb15f9abd4b018d54eaaebada8e3b": {
      "model_module": "@jupyter-widgets/controls",
      "model_module_version": "1.5.0",
      "model_name": "HTMLModel",
      "state": {
       "layout": "IPY_MODEL_a0bc56f2d4cb498a8f93431d4d7cdb01",
       "style": "IPY_MODEL_5d3a5e3b209143e190e4a7b96d058c9b",
       "value": "100%"
      }
     },
     "de9a5339f3804405a7cfa1531579a8c5": {
      "model_module": "@jupyter-widgets/base",
      "model_module_version": "1.2.0",
      "model_name": "LayoutModel",
      "state": {}
     },
     "dedd60eb72b44d818f7044b194d41a94": {
      "model_module": "@jupyter-widgets/controls",
      "model_module_version": "1.5.0",
      "model_name": "ProgressStyleModel",
      "state": {
       "description_width": ""
      }
     },
     "def7d9cf5da242bd837f65aa87ec881f": {
      "model_module": "@jupyter-widgets/controls",
      "model_module_version": "1.5.0",
      "model_name": "HTMLModel",
      "state": {
       "layout": "IPY_MODEL_5c32871116ce4eb6a8f151034114d1f4",
       "style": "IPY_MODEL_e88755451f094cb1be2649988f388b16",
       "value": "100%"
      }
     },
     "df484f7dc5e9456ebc829ef8c13093c5": {
      "model_module": "@jupyter-widgets/controls",
      "model_module_version": "1.5.0",
      "model_name": "ProgressStyleModel",
      "state": {
       "description_width": ""
      }
     },
     "df9488f04fd24f859d7bff1f8f5e6969": {
      "model_module": "@jupyter-widgets/controls",
      "model_module_version": "1.5.0",
      "model_name": "HTMLModel",
      "state": {
       "layout": "IPY_MODEL_d9e27f694a484686ad26ec6e3673d049",
       "style": "IPY_MODEL_16b6ffaa64644a16a55628ba49490b24",
       "value": " 5/5 [00:22&lt;00:00,  4.52s/it]"
      }
     },
     "e09ee527198e4ac98733a389463c2df7": {
      "model_module": "@jupyter-widgets/base",
      "model_module_version": "1.2.0",
      "model_name": "LayoutModel",
      "state": {}
     },
     "e0d55517173e4e84a6e410554ef4075d": {
      "model_module": "@jupyter-widgets/base",
      "model_module_version": "1.2.0",
      "model_name": "LayoutModel",
      "state": {}
     },
     "e0ed0aadec154af189015d441e5b6352": {
      "model_module": "@jupyter-widgets/controls",
      "model_module_version": "1.5.0",
      "model_name": "HTMLModel",
      "state": {
       "layout": "IPY_MODEL_857868353a9d4752a3024ea9adae1225",
       "style": "IPY_MODEL_7d609d0bd5404198a2ce493926f3e710",
       "value": " 5/5 [00:18&lt;00:00,  3.71s/it]"
      }
     },
     "e134c661bdb64d4e8aa8bffd362a319a": {
      "model_module": "@jupyter-widgets/base",
      "model_module_version": "1.2.0",
      "model_name": "LayoutModel",
      "state": {}
     },
     "e18fc4c2c99f4e198acdc5a1dfd70337": {
      "model_module": "@jupyter-widgets/controls",
      "model_module_version": "1.5.0",
      "model_name": "DescriptionStyleModel",
      "state": {
       "description_width": ""
      }
     },
     "e2032aebbe8948a18b70ff361779fc71": {
      "model_module": "@jupyter-widgets/base",
      "model_module_version": "1.2.0",
      "model_name": "LayoutModel",
      "state": {}
     },
     "e22bc54b9d0d458288c0952cd0aeffbc": {
      "model_module": "@jupyter-widgets/controls",
      "model_module_version": "1.5.0",
      "model_name": "HTMLModel",
      "state": {
       "layout": "IPY_MODEL_0a8043a738f143b18c5757a561e978a8",
       "style": "IPY_MODEL_17926ac296f94ffab5192e713b0594e4",
       "value": " 5/5 [00:00&lt;00:00, 64.87it/s]"
      }
     },
     "e2573813556742f39f48240d7faabf9b": {
      "model_module": "@jupyter-widgets/controls",
      "model_module_version": "1.5.0",
      "model_name": "DescriptionStyleModel",
      "state": {
       "description_width": ""
      }
     },
     "e29bdbb463184226b8ebdaa113356298": {
      "model_module": "@jupyter-widgets/controls",
      "model_module_version": "1.5.0",
      "model_name": "DescriptionStyleModel",
      "state": {
       "description_width": ""
      }
     },
     "e29fafe0c70245f8b3a2891bf124cb76": {
      "model_module": "@jupyter-widgets/controls",
      "model_module_version": "1.5.0",
      "model_name": "HBoxModel",
      "state": {
       "children": [
        "IPY_MODEL_c7708a266ba54326b532bcd3e73ad4cb",
        "IPY_MODEL_0514817af6194d7887407c0a05c871ea",
        "IPY_MODEL_24dfdf4d97f047639d3efadc45f277a0"
       ],
       "layout": "IPY_MODEL_89678cdef33342a3a3bff6801488e36e"
      }
     },
     "e31702ec76894f86ac16788dbe474749": {
      "model_module": "@jupyter-widgets/controls",
      "model_module_version": "1.5.0",
      "model_name": "ProgressStyleModel",
      "state": {
       "description_width": ""
      }
     },
     "e321e9b0024845f996208c04a1437613": {
      "model_module": "@jupyter-widgets/controls",
      "model_module_version": "1.5.0",
      "model_name": "HBoxModel",
      "state": {
       "children": [
        "IPY_MODEL_2dc4b4eef68f4bc6b3fbcb3ae534d7ac",
        "IPY_MODEL_5c1c904a0a7c4af0ba111d1e45d66e9a",
        "IPY_MODEL_ea627291641c4746b087a9dc8b4f3b6f"
       ],
       "layout": "IPY_MODEL_4c1a9ac998374fffb8931ee30a299827"
      }
     },
     "e37d071302554a40be6b63a04e11e11f": {
      "model_module": "@jupyter-widgets/controls",
      "model_module_version": "1.5.0",
      "model_name": "HBoxModel",
      "state": {
       "children": [
        "IPY_MODEL_9fa17f5bcacb4cfbb1e1e8f02e1fd499",
        "IPY_MODEL_0bf4df7bb1434623b132f426517c5bec",
        "IPY_MODEL_415fad8886014d0f9353cd8e62a12fb5"
       ],
       "layout": "IPY_MODEL_2ac5f6620a13425d98d51ecbfadb80b6"
      }
     },
     "e3c8ec7a318a441cb260178f277cf03f": {
      "model_module": "@jupyter-widgets/base",
      "model_module_version": "1.2.0",
      "model_name": "LayoutModel",
      "state": {}
     },
     "e3e0c1a080684d2fa63532f4f3be52ea": {
      "model_module": "@jupyter-widgets/controls",
      "model_module_version": "1.5.0",
      "model_name": "DescriptionStyleModel",
      "state": {
       "description_width": ""
      }
     },
     "e445a22a46644f919fb032ce271174ca": {
      "model_module": "@jupyter-widgets/base",
      "model_module_version": "1.2.0",
      "model_name": "LayoutModel",
      "state": {}
     },
     "e4647112eaa24cef830cfe4dcf432c80": {
      "model_module": "@jupyter-widgets/base",
      "model_module_version": "1.2.0",
      "model_name": "LayoutModel",
      "state": {}
     },
     "e480f60c56ae423c91c4c82db216e719": {
      "model_module": "@jupyter-widgets/base",
      "model_module_version": "1.2.0",
      "model_name": "LayoutModel",
      "state": {}
     },
     "e4b9d59ce9b746acabe4e45f0f916e3c": {
      "model_module": "@jupyter-widgets/controls",
      "model_module_version": "1.5.0",
      "model_name": "DescriptionStyleModel",
      "state": {
       "description_width": ""
      }
     },
     "e4ee98a9bb6e428eaf89abd058b57560": {
      "model_module": "@jupyter-widgets/controls",
      "model_module_version": "1.5.0",
      "model_name": "DescriptionStyleModel",
      "state": {
       "description_width": ""
      }
     },
     "e4eef2bc1cb648f38816db8e17b62de7": {
      "model_module": "@jupyter-widgets/base",
      "model_module_version": "1.2.0",
      "model_name": "LayoutModel",
      "state": {}
     },
     "e51c27a68e1841c08885cbdc997b863c": {
      "model_module": "@jupyter-widgets/base",
      "model_module_version": "1.2.0",
      "model_name": "LayoutModel",
      "state": {}
     },
     "e565e0c868c34b71b5241b5d8f3d186c": {
      "model_module": "@jupyter-widgets/base",
      "model_module_version": "1.2.0",
      "model_name": "LayoutModel",
      "state": {}
     },
     "e5a41af9b7294356b37a794f60fdffd9": {
      "model_module": "@jupyter-widgets/base",
      "model_module_version": "1.2.0",
      "model_name": "LayoutModel",
      "state": {}
     },
     "e704adae850e4a63985d9ba14dc0c4ff": {
      "model_module": "@jupyter-widgets/base",
      "model_module_version": "1.2.0",
      "model_name": "LayoutModel",
      "state": {}
     },
     "e730cdd50de142d089aa8a75d6b9df03": {
      "model_module": "@jupyter-widgets/controls",
      "model_module_version": "1.5.0",
      "model_name": "HTMLModel",
      "state": {
       "layout": "IPY_MODEL_86fdc53746264e848e52def109490cd9",
       "style": "IPY_MODEL_6bbf5eceb280401195131afc95d88f3d",
       "value": "100%"
      }
     },
     "e7907d4abeae410da6465533b9d5e7ee": {
      "model_module": "@jupyter-widgets/base",
      "model_module_version": "1.2.0",
      "model_name": "LayoutModel",
      "state": {}
     },
     "e88755451f094cb1be2649988f388b16": {
      "model_module": "@jupyter-widgets/controls",
      "model_module_version": "1.5.0",
      "model_name": "DescriptionStyleModel",
      "state": {
       "description_width": ""
      }
     },
     "e8bce101e0644e7ba8a18ac88e56ee11": {
      "model_module": "@jupyter-widgets/base",
      "model_module_version": "1.2.0",
      "model_name": "LayoutModel",
      "state": {}
     },
     "e8c321afa4e0490182eaebdd3858e826": {
      "model_module": "@jupyter-widgets/controls",
      "model_module_version": "1.5.0",
      "model_name": "FloatProgressModel",
      "state": {
       "bar_style": "success",
       "layout": "IPY_MODEL_cbba684c7b1547a4b9fb054e8efae783",
       "max": 5,
       "style": "IPY_MODEL_1f9ef92eaf61482e97837705e1203a97",
       "value": 5
      }
     },
     "e8e41773b1884cb2978c813165a44692": {
      "model_module": "@jupyter-widgets/base",
      "model_module_version": "1.2.0",
      "model_name": "LayoutModel",
      "state": {}
     },
     "e9a355483173414b99bcf3969b8f87b9": {
      "model_module": "@jupyter-widgets/controls",
      "model_module_version": "1.5.0",
      "model_name": "DescriptionStyleModel",
      "state": {
       "description_width": ""
      }
     },
     "e9affe4072de4b76b4c1218587b2fc83": {
      "model_module": "@jupyter-widgets/controls",
      "model_module_version": "1.5.0",
      "model_name": "HTMLModel",
      "state": {
       "layout": "IPY_MODEL_e4647112eaa24cef830cfe4dcf432c80",
       "style": "IPY_MODEL_5c9017a1e09d4f1198c81c40171dd282",
       "value": "100%"
      }
     },
     "e9b1397444eb4cc98bc06e66e41695be": {
      "model_module": "@jupyter-widgets/controls",
      "model_module_version": "1.5.0",
      "model_name": "ProgressStyleModel",
      "state": {
       "description_width": ""
      }
     },
     "e9b74ffb45c147fb98676e8b26b8eacb": {
      "model_module": "@jupyter-widgets/controls",
      "model_module_version": "1.5.0",
      "model_name": "HTMLModel",
      "state": {
       "layout": "IPY_MODEL_3fbbd597481349d3835f7cf22adcbb3a",
       "style": "IPY_MODEL_d7a2c380ad7a4d02ae6aba650d6b21d5",
       "value": " 5/5 [00:17&lt;00:00,  3.49s/it]"
      }
     },
     "e9beca60523542f9ad4066b05ab44502": {
      "model_module": "@jupyter-widgets/base",
      "model_module_version": "1.2.0",
      "model_name": "LayoutModel",
      "state": {}
     },
     "e9e74750245f493d9930597e8d6ac7dc": {
      "model_module": "@jupyter-widgets/controls",
      "model_module_version": "1.5.0",
      "model_name": "DescriptionStyleModel",
      "state": {
       "description_width": ""
      }
     },
     "ea17c57a6335430aa90b94e27237aed5": {
      "model_module": "@jupyter-widgets/controls",
      "model_module_version": "1.5.0",
      "model_name": "HBoxModel",
      "state": {
       "children": [
        "IPY_MODEL_7a1e778209d4415e8b9afa97ac01974b",
        "IPY_MODEL_d87116eea870403c8d699e346fada5dc",
        "IPY_MODEL_b7b4faf88ac44f72bf3c1e22e4553633"
       ],
       "layout": "IPY_MODEL_9ee07f1c0f764e88a8df64b1694eb939"
      }
     },
     "ea50e56cafcc4323a35db604fa035550": {
      "model_module": "@jupyter-widgets/base",
      "model_module_version": "1.2.0",
      "model_name": "LayoutModel",
      "state": {}
     },
     "ea627291641c4746b087a9dc8b4f3b6f": {
      "model_module": "@jupyter-widgets/controls",
      "model_module_version": "1.5.0",
      "model_name": "HTMLModel",
      "state": {
       "layout": "IPY_MODEL_602374c2c639475d9bda1ea904c27281",
       "style": "IPY_MODEL_097a70ab67e34c8f8fc031cc4aa6fdff",
       "value": " 5/5 [00:00&lt;00:00, 20.69it/s]"
      }
     },
     "ea834686b66f4b07bc7dd352c6f84075": {
      "model_module": "@jupyter-widgets/controls",
      "model_module_version": "1.5.0",
      "model_name": "FloatProgressModel",
      "state": {
       "bar_style": "success",
       "layout": "IPY_MODEL_e51c27a68e1841c08885cbdc997b863c",
       "max": 5,
       "style": "IPY_MODEL_df484f7dc5e9456ebc829ef8c13093c5",
       "value": 5
      }
     },
     "ea8eafc3862a4e749f821b0e84d78b3f": {
      "model_module": "@jupyter-widgets/controls",
      "model_module_version": "1.5.0",
      "model_name": "FloatProgressModel",
      "state": {
       "bar_style": "success",
       "layout": "IPY_MODEL_5727a0d2e92945d1ad253879f420bda6",
       "max": 5,
       "style": "IPY_MODEL_97609c205a9d4f03908e7c10de30e576",
       "value": 5
      }
     },
     "eaaab9d8ae9843148436607bd879c1ec": {
      "model_module": "@jupyter-widgets/controls",
      "model_module_version": "1.5.0",
      "model_name": "DescriptionStyleModel",
      "state": {
       "description_width": ""
      }
     },
     "eaaac90c73844f99a9633ab33826fdae": {
      "model_module": "@jupyter-widgets/base",
      "model_module_version": "1.2.0",
      "model_name": "LayoutModel",
      "state": {}
     },
     "eae25f18ca8c427a85f310511b7131c8": {
      "model_module": "@jupyter-widgets/controls",
      "model_module_version": "1.5.0",
      "model_name": "ProgressStyleModel",
      "state": {
       "description_width": ""
      }
     },
     "eb01860d07ab449698f89ab7f47889b9": {
      "model_module": "@jupyter-widgets/controls",
      "model_module_version": "1.5.0",
      "model_name": "ProgressStyleModel",
      "state": {
       "description_width": ""
      }
     },
     "eb94c1389a6945168e1a05ff5c5f44d2": {
      "model_module": "@jupyter-widgets/controls",
      "model_module_version": "1.5.0",
      "model_name": "HTMLModel",
      "state": {
       "layout": "IPY_MODEL_b62ba191c4d24aa6959b657f81911e87",
       "style": "IPY_MODEL_2fb7f822083146239753ae0d95185c63",
       "value": " 5/5 [00:19&lt;00:00,  3.83s/it]"
      }
     },
     "ec2556bbfdaf40708de855262ab93fad": {
      "model_module": "@jupyter-widgets/controls",
      "model_module_version": "1.5.0",
      "model_name": "HBoxModel",
      "state": {
       "children": [
        "IPY_MODEL_452d705ce3ef4ac29768e42b649ff71a",
        "IPY_MODEL_4bfa6e175d5142678afb4526c975b227",
        "IPY_MODEL_4be1f2c9e83b4347b7a6a2a1290d5b21"
       ],
       "layout": "IPY_MODEL_9e932bf9ae404838a9863bac5c80bbfc"
      }
     },
     "ecb7ca5ee37e44138cc09d32a21c8fbe": {
      "model_module": "@jupyter-widgets/controls",
      "model_module_version": "1.5.0",
      "model_name": "FloatProgressModel",
      "state": {
       "bar_style": "success",
       "layout": "IPY_MODEL_eaaac90c73844f99a9633ab33826fdae",
       "max": 5,
       "style": "IPY_MODEL_6ea4f0cc1e684177983088281b4a5ca5",
       "value": 5
      }
     },
     "ed0527fea7f44c01b0c3eb9a812b673a": {
      "model_module": "@jupyter-widgets/base",
      "model_module_version": "1.2.0",
      "model_name": "LayoutModel",
      "state": {}
     },
     "edd355cda62249c3be714602cf15d045": {
      "model_module": "@jupyter-widgets/controls",
      "model_module_version": "1.5.0",
      "model_name": "HTMLModel",
      "state": {
       "layout": "IPY_MODEL_1a37c712fcf6407abc5097507dd84c50",
       "style": "IPY_MODEL_68319e5f089c480e9ffc3d448a217275",
       "value": " 5/5 [00:18&lt;00:00,  3.75s/it]"
      }
     },
     "ee2a4d59b14f4a569d1e0325731d2cc1": {
      "model_module": "@jupyter-widgets/controls",
      "model_module_version": "1.5.0",
      "model_name": "FloatProgressModel",
      "state": {
       "bar_style": "success",
       "layout": "IPY_MODEL_c719b32ecdea49509ebf2372ff4aca74",
       "max": 5,
       "style": "IPY_MODEL_17bdd5f7695b4a819152b36b7969415c",
       "value": 5
      }
     },
     "ee33f626346641ddaf5a75cdf5b425c9": {
      "model_module": "@jupyter-widgets/controls",
      "model_module_version": "1.5.0",
      "model_name": "ProgressStyleModel",
      "state": {
       "description_width": ""
      }
     },
     "ee48eadcebb74f558787e1045934935b": {
      "model_module": "@jupyter-widgets/controls",
      "model_module_version": "1.5.0",
      "model_name": "DescriptionStyleModel",
      "state": {
       "description_width": ""
      }
     },
     "ee588bd252fd473c954c7dc809b1bfc0": {
      "model_module": "@jupyter-widgets/base",
      "model_module_version": "1.2.0",
      "model_name": "LayoutModel",
      "state": {}
     },
     "ef14608018e54544ac9caf90121f7b95": {
      "model_module": "@jupyter-widgets/controls",
      "model_module_version": "1.5.0",
      "model_name": "HTMLModel",
      "state": {
       "layout": "IPY_MODEL_e565e0c868c34b71b5241b5d8f3d186c",
       "style": "IPY_MODEL_71c64d9a0dff4a288f365f97d7af945a",
       "value": "100%"
      }
     },
     "ef80ba766ab64e038afe58ddb1f96dc0": {
      "model_module": "@jupyter-widgets/controls",
      "model_module_version": "1.5.0",
      "model_name": "HTMLModel",
      "state": {
       "layout": "IPY_MODEL_14092f8b678b449cab0a6fee1ec102c0",
       "style": "IPY_MODEL_69a0120ae409455da2d9d59ae2670e72",
       "value": " 5/5 [00:00&lt;00:00, 54.90it/s]"
      }
     },
     "eff06b57518a4e09b0836f725916fb64": {
      "model_module": "@jupyter-widgets/base",
      "model_module_version": "1.2.0",
      "model_name": "LayoutModel",
      "state": {}
     },
     "f017c4fb107b4cc9a1c10683f3c55d34": {
      "model_module": "@jupyter-widgets/controls",
      "model_module_version": "1.5.0",
      "model_name": "HTMLModel",
      "state": {
       "layout": "IPY_MODEL_1fa89c27ec3f4eab878a8af83c7b0205",
       "style": "IPY_MODEL_2447b87a55cd44ceb0f823bd73890c4d",
       "value": " 5/5 [00:00&lt;00:00, 56.77it/s]"
      }
     },
     "f0ada422f7ab41f39cf75b78966ea307": {
      "model_module": "@jupyter-widgets/controls",
      "model_module_version": "1.5.0",
      "model_name": "HBoxModel",
      "state": {
       "children": [
        "IPY_MODEL_808a67f9970d4cc3b4c1b9bce29fe788",
        "IPY_MODEL_1d4288f55b2a45ec8c5484b9e2c7ba1f",
        "IPY_MODEL_a818c28ee7024a2ea786aa86e0fd374d"
       ],
       "layout": "IPY_MODEL_e9beca60523542f9ad4066b05ab44502"
      }
     },
     "f0b8d124ff544c71b864f71ad56dffdc": {
      "model_module": "@jupyter-widgets/base",
      "model_module_version": "1.2.0",
      "model_name": "LayoutModel",
      "state": {}
     },
     "f0c5a6662de94039a373cc7d2176a12f": {
      "model_module": "@jupyter-widgets/base",
      "model_module_version": "1.2.0",
      "model_name": "LayoutModel",
      "state": {}
     },
     "f121e3b132604745bcc3a47b387723d0": {
      "model_module": "@jupyter-widgets/controls",
      "model_module_version": "1.5.0",
      "model_name": "DescriptionStyleModel",
      "state": {
       "description_width": ""
      }
     },
     "f1d6a427a12c40c9ade6d98b17845f3b": {
      "model_module": "@jupyter-widgets/base",
      "model_module_version": "1.2.0",
      "model_name": "LayoutModel",
      "state": {}
     },
     "f24f70800c5442c589abb57ed13a015c": {
      "model_module": "@jupyter-widgets/base",
      "model_module_version": "1.2.0",
      "model_name": "LayoutModel",
      "state": {}
     },
     "f2c47a8b27d94340b9ab537a952187bc": {
      "model_module": "@jupyter-widgets/base",
      "model_module_version": "1.2.0",
      "model_name": "LayoutModel",
      "state": {}
     },
     "f332b099e61f43408fb2c5bc011491f4": {
      "model_module": "@jupyter-widgets/base",
      "model_module_version": "1.2.0",
      "model_name": "LayoutModel",
      "state": {}
     },
     "f370eb458af842f6a24780ccb64324e1": {
      "model_module": "@jupyter-widgets/controls",
      "model_module_version": "1.5.0",
      "model_name": "DescriptionStyleModel",
      "state": {
       "description_width": ""
      }
     },
     "f3ed479b210b43239301986e64d84761": {
      "model_module": "@jupyter-widgets/base",
      "model_module_version": "1.2.0",
      "model_name": "LayoutModel",
      "state": {}
     },
     "f3f565a33a1d4e679448ef1753ebc047": {
      "model_module": "@jupyter-widgets/controls",
      "model_module_version": "1.5.0",
      "model_name": "ProgressStyleModel",
      "state": {
       "description_width": ""
      }
     },
     "f46c6d8f74da484ab9efc147b8a38607": {
      "model_module": "@jupyter-widgets/base",
      "model_module_version": "1.2.0",
      "model_name": "LayoutModel",
      "state": {}
     },
     "f48649de9b974bf4ad3fe188e19b7f1d": {
      "model_module": "@jupyter-widgets/base",
      "model_module_version": "1.2.0",
      "model_name": "LayoutModel",
      "state": {}
     },
     "f4ca76073f92492787b639a53ca5d33f": {
      "model_module": "@jupyter-widgets/base",
      "model_module_version": "1.2.0",
      "model_name": "LayoutModel",
      "state": {}
     },
     "f4fd8bb2290840f5a5a75219bf4d04af": {
      "model_module": "@jupyter-widgets/base",
      "model_module_version": "1.2.0",
      "model_name": "LayoutModel",
      "state": {}
     },
     "f539c3ff22634bf791c77f167366145e": {
      "model_module": "@jupyter-widgets/controls",
      "model_module_version": "1.5.0",
      "model_name": "DescriptionStyleModel",
      "state": {
       "description_width": ""
      }
     },
     "f68b8ebacb9346ecb4c82312bedf743c": {
      "model_module": "@jupyter-widgets/controls",
      "model_module_version": "1.5.0",
      "model_name": "HTMLModel",
      "state": {
       "layout": "IPY_MODEL_e4eef2bc1cb648f38816db8e17b62de7",
       "style": "IPY_MODEL_3c6e64f35b7244ef88b739f2ff4fdf81",
       "value": "100%"
      }
     },
     "f6d739d560134953ab0f2bf164eb60a5": {
      "model_module": "@jupyter-widgets/controls",
      "model_module_version": "1.5.0",
      "model_name": "DescriptionStyleModel",
      "state": {
       "description_width": ""
      }
     },
     "f71078316d9240948ef903a961c207bd": {
      "model_module": "@jupyter-widgets/controls",
      "model_module_version": "1.5.0",
      "model_name": "FloatProgressModel",
      "state": {
       "bar_style": "success",
       "layout": "IPY_MODEL_76149e08015545d6808604d605962980",
       "max": 5,
       "style": "IPY_MODEL_81d778b789464bdda6f986e2f576f670",
       "value": 5
      }
     },
     "f735fb4922f548b0a6a1dcd93e645748": {
      "model_module": "@jupyter-widgets/base",
      "model_module_version": "1.2.0",
      "model_name": "LayoutModel",
      "state": {}
     },
     "f78073d17a574970b1169cc921afe9f4": {
      "model_module": "@jupyter-widgets/base",
      "model_module_version": "1.2.0",
      "model_name": "LayoutModel",
      "state": {}
     },
     "f8225547f8bb4bb8b84e5c62ae92a33e": {
      "model_module": "@jupyter-widgets/controls",
      "model_module_version": "1.5.0",
      "model_name": "DescriptionStyleModel",
      "state": {
       "description_width": ""
      }
     },
     "f82aaf31c07e492e80c3abaf28e56e09": {
      "model_module": "@jupyter-widgets/base",
      "model_module_version": "1.2.0",
      "model_name": "LayoutModel",
      "state": {}
     },
     "f854ab27dabc414a872f19ebeeda63b9": {
      "model_module": "@jupyter-widgets/controls",
      "model_module_version": "1.5.0",
      "model_name": "HTMLModel",
      "state": {
       "layout": "IPY_MODEL_5fd588f6c4764c5d8cfcadbff6777266",
       "style": "IPY_MODEL_031215cbdbc64656803d5f43509913b8",
       "value": "100%"
      }
     },
     "f9c04fe5723e4da78589f13c46631fe3": {
      "model_module": "@jupyter-widgets/base",
      "model_module_version": "1.2.0",
      "model_name": "LayoutModel",
      "state": {}
     },
     "fbad128edb064112a8ecd71e4509f7d2": {
      "model_module": "@jupyter-widgets/controls",
      "model_module_version": "1.5.0",
      "model_name": "HTMLModel",
      "state": {
       "layout": "IPY_MODEL_2b93bbd043b048a19e50245716224276",
       "style": "IPY_MODEL_e18fc4c2c99f4e198acdc5a1dfd70337",
       "value": "100%"
      }
     },
     "fbd2369df2b74f948ee91b43a1f1fa8e": {
      "model_module": "@jupyter-widgets/controls",
      "model_module_version": "1.5.0",
      "model_name": "HTMLModel",
      "state": {
       "layout": "IPY_MODEL_138945d69cc1466294fe36e3891a2a34",
       "style": "IPY_MODEL_862b2188515b4152abf7aa66de6d3a52",
       "value": " 5/5 [00:17&lt;00:00,  3.36s/it]"
      }
     },
     "fc6a1ea75f6f4e62a5b230a026a4bd1f": {
      "model_module": "@jupyter-widgets/controls",
      "model_module_version": "1.5.0",
      "model_name": "HTMLModel",
      "state": {
       "layout": "IPY_MODEL_5cd3310e07ee4820857dff2b00adcb52",
       "style": "IPY_MODEL_8aaefed3b6c54394b2014b9f125b4b1e",
       "value": "100%"
      }
     },
     "fc8506f693064a2ca32634848db79be9": {
      "model_module": "@jupyter-widgets/base",
      "model_module_version": "1.2.0",
      "model_name": "LayoutModel",
      "state": {}
     },
     "fe143d20ea204c278b643a4a9f5dba12": {
      "model_module": "@jupyter-widgets/base",
      "model_module_version": "1.2.0",
      "model_name": "LayoutModel",
      "state": {}
     },
     "fe4375f3670f4a8e8839cbdc1f426182": {
      "model_module": "@jupyter-widgets/controls",
      "model_module_version": "1.5.0",
      "model_name": "HTMLModel",
      "state": {
       "layout": "IPY_MODEL_35745c47f3c74c03b96be70151fb7fc1",
       "style": "IPY_MODEL_9e507e42791f44cfb0200b591da73d48",
       "value": "100%"
      }
     },
     "feaa362b9a254ee6b6b41657f79a599e": {
      "model_module": "@jupyter-widgets/base",
      "model_module_version": "1.2.0",
      "model_name": "LayoutModel",
      "state": {}
     },
     "fed9eb9f44474a148aaf49f4a32962ac": {
      "model_module": "@jupyter-widgets/base",
      "model_module_version": "1.2.0",
      "model_name": "LayoutModel",
      "state": {}
     },
     "ffa0d91c070e456abe16d08a0e3f979f": {
      "model_module": "@jupyter-widgets/base",
      "model_module_version": "1.2.0",
      "model_name": "LayoutModel",
      "state": {}
     }
    },
    "version_major": 2,
    "version_minor": 0
   }
  }
 },
 "nbformat": 4,
 "nbformat_minor": 4
}
