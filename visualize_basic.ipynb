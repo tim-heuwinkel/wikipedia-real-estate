{
 "cells": [
  {
   "cell_type": "markdown",
   "metadata": {},
   "source": [
    "# Visualizing structured housing data"
   ]
  },
  {
   "cell_type": "markdown",
   "metadata": {},
   "source": [
    "### Import packages"
   ]
  },
  {
   "cell_type": "code",
   "execution_count": null,
   "metadata": {},
   "outputs": [],
   "source": [
    "import math\n",
    "import json\n",
    "import warnings\n",
    "warnings.filterwarnings(action=\"ignore\")\n",
    "\n",
    "import pandas as pd\n",
    "import matplotlib.pyplot as plt\n",
    "import numpy as np\n",
    "import seaborn as sns\n",
    "from sklearn.linear_model import LinearRegression\n",
    "\n",
    "import plotly.graph_objects as go\n",
    "import plotly.express as px"
   ]
  },
  {
   "cell_type": "markdown",
   "metadata": {},
   "source": [
    "Definde constants.\n",
    "\n",
    "- ``PATH``: Path to the base data folder\n",
    "- ``TEMPLATE``: Which plotly template to use\n",
    "- ``MAPBOX_TOKEN``: Token for [mapbox](https://docs.mapbox.com/help/getting-started/access-tokens/)"
   ]
  },
  {
   "cell_type": "code",
   "execution_count": null,
   "metadata": {},
   "outputs": [],
   "source": [
    "TEMPLATE = \"plotly_white\"\n",
    "PATH = \"C:/Users/Tim/.keras/datasets/wikipedia_real_estate/\"\n",
    "MAPBOX_TOKEN = \"YOUR_KEY\""
   ]
  },
  {
   "cell_type": "code",
   "execution_count": null,
   "metadata": {},
   "outputs": [],
   "source": [
    "px.set_mapbox_access_token(MAPBOX_TOKEN)"
   ]
  },
  {
   "cell_type": "markdown",
   "metadata": {},
   "source": [
    "Load data"
   ]
  },
  {
   "cell_type": "code",
   "execution_count": null,
   "metadata": {},
   "outputs": [],
   "source": [
    "df = pd.read_csv(PATH + \"structured_visualization.csv\")\n",
    "df_processed = pd.read_csv(PATH + \"structured_preprocessed.csv\")"
   ]
  },
  {
   "cell_type": "code",
   "execution_count": null,
   "metadata": {},
   "outputs": [],
   "source": [
    "df_processed = df_processed.loc[:,\"LOTAREA\":\"longitude\"]\n",
    "df_processed.columns"
   ]
  },
  {
   "cell_type": "code",
   "execution_count": null,
   "metadata": {},
   "outputs": [],
   "source": [
    "df_processed.head(10)"
   ]
  },
  {
   "cell_type": "code",
   "execution_count": null,
   "metadata": {},
   "outputs": [],
   "source": [
    "numerics = ['int16', 'int32', 'int64', 'float16', 'float32', 'float64']\n",
    "df_numeric = df.select_dtypes(include=numerics)\n",
    "df_numeric = df_numeric.loc[:,\"LOTAREA\":\"FINISHEDLIVINGAREA\"]\n",
    "df_numeric.columns"
   ]
  },
  {
   "cell_type": "code",
   "execution_count": null,
   "metadata": {},
   "outputs": [],
   "source": [
    "heatmap, xedges, yedges = np.histogram2d(list(df[\"longitude\"]), list(df[\"latitude\"]), bins=200)\n",
    "extent = [xedges[0], xedges[-1], yedges[0], yedges[-1]]\n",
    "\n",
    "plt.clf()\n",
    "plt.figure(figsize = (9,9))\n",
    "plt.imshow(heatmap.T, extent=extent, origin='lower', interpolation='none')\n",
    "plt.show()"
   ]
  },
  {
   "cell_type": "code",
   "execution_count": null,
   "metadata": {},
   "outputs": [],
   "source": [
    "correlation_mat = df_processed.loc[:, \"LOTAREA\":\"FINISHEDLIVINGAREA\"].corr()\n",
    "\n",
    "plt.subplots(figsize=(15,10))\n",
    "sns.heatmap(correlation_mat, annot = True, cmap=\"viridis\")\n",
    "plt.show()"
   ]
  },
  {
   "cell_type": "code",
   "execution_count": null,
   "metadata": {},
   "outputs": [],
   "source": [
    "df_processed[\"SALEPRICE\"].describe()"
   ]
  },
  {
   "cell_type": "code",
   "execution_count": null,
   "metadata": {},
   "outputs": [],
   "source": [
    "np.max(df[\"SALEPRICE\"])"
   ]
  },
  {
   "cell_type": "code",
   "execution_count": null,
   "metadata": {},
   "outputs": [],
   "source": [
    "df_processed = df_processed[df_processed[\"SALEPRICE\"] >= 5000]\n",
    "# plot\n",
    "fig = px.scatter(df_processed, x=\"YEARBLT\", y=\"SALEPRICE\", template=TEMPLATE, trendline=\"ols\", log_y=True,\n",
    "                 title=\"Average saleprice against fair market estimate over year built\")\n",
    "fig.show()"
   ]
  },
  {
   "cell_type": "code",
   "execution_count": null,
   "metadata": {
    "scrolled": false
   },
   "outputs": [],
   "source": [
    "# group and filter by year\n",
    "df_year_grouped = df_processed[[\"YEARBLT\", \"SALEPRICE\", \"FAIRMARKETTOTAL\"]].groupby(by=[\"YEARBLT\"]).mean()\n",
    "df_year_grouped[\"count\"] = df_processed.groupby(by=[\"YEARBLT\"]).size()\n",
    "df_year_grouped = df_year_grouped[df_year_grouped[\"count\"] > 50]  # filter years with less than 50 houses\n",
    "df_year_grouped[\"year\"] = df_year_grouped.index\n",
    "\n",
    "# turn into long\n",
    "rows = []\n",
    "for index, row in df_year_grouped.iterrows():\n",
    "    rows.append([\"saleprice\", row[\"SALEPRICE\"], row[\"year\"]])\n",
    "    rows.append([\"fairmarket\", row[\"FAIRMARKETTOTAL\"], row[\"year\"]])\n",
    "df_long = pd.DataFrame(rows)\n",
    "df_long.rename({0:\"type\", 1:\"value\", 2:\"year\"}, axis=1, inplace=True)\n",
    "\n",
    "# plot\n",
    "fig = px.line(df_long, x=\"year\", y=\"value\", color=\"type\", template=TEMPLATE,\n",
    "              title=\"Average saleprice against fair market estimate over year built\")\n",
    "fig.show()"
   ]
  },
  {
   "cell_type": "code",
   "execution_count": null,
   "metadata": {},
   "outputs": [],
   "source": [
    "# linear regression\n",
    "X = np.array(df_year_grouped[\"year\"]).reshape(-1, 1)\n",
    "Y = np.array(df_year_grouped[\"SALEPRICE\"])\n",
    "\n",
    "reg = LinearRegression().fit(X, Y)\n",
    "df_year_grouped[\"fit\"] = reg.predict(X)\n",
    "\n",
    "# turn into long\n",
    "rows = []\n",
    "for index, row in df_year_grouped.iterrows():\n",
    "    rows.append([\"saleprice\", row[\"SALEPRICE\"], row[\"year\"]])\n",
    "#    rows.append([\"fairmarket\", row[\"FAIRMARKETTOTAL\"], row[\"year\"]])\n",
    "    rows.append([\"fit\", row[\"fit\"], row[\"year\"]])\n",
    "df_long = pd.DataFrame(rows)\n",
    "df_long.rename({0:\"type\", 1:\"value\", 2:\"year\"}, axis=1, inplace=True)\n",
    "\n",
    "# plot\n",
    "fig = px.line(df_long, x=\"year\", y=\"value\", color=\"type\", template=TEMPLATE,\n",
    "              title=\"Average saleprice over year built with a fitted regression line\")\n",
    "fig.show()"
   ]
  },
  {
   "cell_type": "code",
   "execution_count": null,
   "metadata": {},
   "outputs": [],
   "source": [
    "fig = px.histogram(x=df_processed[\"YEARBLT\"], nbins=100, template=TEMPLATE)\n",
    "fig.show()"
   ]
  },
  {
   "cell_type": "code",
   "execution_count": null,
   "metadata": {},
   "outputs": [],
   "source": [
    "fig = px.histogram(x=df[\"SALEPRICE\"], nbins=150, template=TEMPLATE)\n",
    "fig.update_xaxes(title_text=\"sale price\")\n",
    "fig.update_yaxes(title_text=\"count\")\n",
    "fig.write_image(\"../Visualisierungen/saleprice_histogram.png\", width=800, height=500)\n",
    "fig.show()"
   ]
  },
  {
   "cell_type": "code",
   "execution_count": null,
   "metadata": {},
   "outputs": [],
   "source": [
    "df_processed.columns"
   ]
  },
  {
   "cell_type": "code",
   "execution_count": null,
   "metadata": {},
   "outputs": [],
   "source": [
    "df_processed.insert(3, \"SALEYEAR\", [int(date[-4:]) for date in df_processed[\"SALEDATE\"]])\n",
    "df_processed.head(10)"
   ]
  },
  {
   "cell_type": "code",
   "execution_count": null,
   "metadata": {},
   "outputs": [],
   "source": [
    "fig = px.histogram(x=df_processed[\"SALEYEAR\"], nbins=50, template=TEMPLATE)\n",
    "fig.show()"
   ]
  },
  {
   "cell_type": "code",
   "execution_count": null,
   "metadata": {
    "scrolled": false
   },
   "outputs": [],
   "source": [
    "# group and filter by year\n",
    "df_year_grouped = df_processed[[\"SALEPRICE\", \"SALEYEAR\"]].groupby(by=[\"SALEYEAR\"]).mean()\n",
    "df_year_grouped[\"count\"] = df_processed.groupby(by=[\"SALEYEAR\"]).size()\n",
    "df_year_grouped = df_year_grouped[df_year_grouped[\"count\"] > 50]  # filter years with less than 50 houses\n",
    "df_year_grouped[\"saleyear\"] = df_year_grouped.index\n",
    "\n",
    "# plot\n",
    "fig = px.line(df_year_grouped, x=\"saleyear\", y=\"SALEPRICE\", template=TEMPLATE,\n",
    "              title=\"Average saleprice over year sold\")\n",
    "fig.show()"
   ]
  },
  {
   "cell_type": "code",
   "execution_count": null,
   "metadata": {},
   "outputs": [],
   "source": [
    "fig = px.scatter_mapbox(df_processed, lat=\"latitude\", lon=\"longitude\", color=\"SALEPRICE\",\n",
    "                        mapbox_style=\"light\", zoom=9, height=600, opacity=0.7, template=TEMPLATE)\n",
    "fig.write_image(\"../Visualisierungen/sale_price_spatial.png\", width=700, height=600, scale=1.5)\n",
    "fig.show()"
   ]
  },
  {
   "cell_type": "code",
   "execution_count": null,
   "metadata": {},
   "outputs": [],
   "source": [
    "fig = px.scatter(df_processed, x=\"CONDITION\", y=\"CDU\", trendline=\"ols\", template=TEMPLATE,\n",
    "                 title=\"CDU against condition with a fitted trendline\")\n",
    "fig.show()\n",
    "cor = df_processed[\"CONDITION\"].corr(df_processed[\"CDU\"])\n",
    "print(f\"Correlation: {round(cor,2)}\")"
   ]
  },
  {
   "cell_type": "markdown",
   "metadata": {},
   "source": [
    "Create scater plot visualization"
   ]
  },
  {
   "cell_type": "code",
   "execution_count": null,
   "metadata": {
    "scrolled": false
   },
   "outputs": [],
   "source": [
    "x = np.random.rand(300)\n",
    "residuals = np.random.randn(300)/3\n",
    "y = x * 2 + 3 + residuals\n",
    "\n",
    "fig = px.scatter(x=x, y=y, trendline=\"ols\", template=TEMPLATE,\n",
    "                 labels=dict(x=\"x-axis\", y=\"y-axis\"))\n",
    "\n",
    "# find trendline trace\n",
    "for  k, trace  in enumerate(fig.data):\n",
    "        if trace.mode is not None and trace.mode == 'lines':\n",
    "            fig.data[k].update(line_width=4)\n",
    "            fig.data[k].update(line_color=\"red\")\n",
    "\n",
    "fig.write_image(\"../Visualisierungen/linear_regression.png\", width=800, height=500, scale=1.3)\n",
    "\n",
    "fig.show()"
   ]
  }
 ],
 "metadata": {
  "kernelspec": {
   "display_name": "Python 3",
   "language": "python",
   "name": "python3"
  },
  "language_info": {
   "codemirror_mode": {
    "name": "ipython",
    "version": 3
   },
   "file_extension": ".py",
   "mimetype": "text/x-python",
   "name": "python",
   "nbconvert_exporter": "python",
   "pygments_lexer": "ipython3",
   "version": "3.7.9"
  },
  "widgets": {
   "application/vnd.jupyter.widget-state+json": {
    "state": {},
    "version_major": 2,
    "version_minor": 0
   }
  }
 },
 "nbformat": 4,
 "nbformat_minor": 4
}
