{
 "cells": [
  {
   "cell_type": "markdown",
   "metadata": {},
   "source": [
    "# Downloading and preprocessing Wikipedia data"
   ]
  },
  {
   "cell_type": "markdown",
   "metadata": {},
   "source": [
    "Download Wikipedia XML dump, decompress and filter articles to only include those with a geotag in Allegheny County.\n",
    "This notebook was heavily inspired by [this notebook](https://github.com/WillKoehrsen/wikipedia-data-science/blob/master/notebooks/Downloading%20and%20Parsing%20Wikipedia%20Articles.ipynb).\n",
    "\n",
    "Link to dumps: https://dumps.wikimedia.org/enwiki/"
   ]
  },
  {
   "cell_type": "markdown",
   "metadata": {},
   "source": [
    "### Import packages"
   ]
  },
  {
   "cell_type": "code",
   "execution_count": 1,
   "metadata": {},
   "outputs": [],
   "source": [
    "import os\n",
    "import sys\n",
    "import bz2\n",
    "import subprocess\n",
    "import io\n",
    "import re\n",
    "import gc\n",
    "import json\n",
    "import hashlib\n",
    "from multiprocessing import Pool, set_start_method\n",
    "from itertools import chain\n",
    "from functools import partial\n",
    "from timeit import default_timer as timer\n",
    "import warnings\n",
    "warnings.filterwarnings(action=\"ignore\")\n",
    "\n",
    "import requests                    # make http requests\n",
    "import xml.sax                     # parse xml\n",
    "import mwparserfromhell            # parse wikimedia\n",
    "import pandas as pd                # data processing\n",
    "from bs4 import BeautifulSoup      # parsing HTML\n",
    "from tqdm.notebook import tqdm     # progress bars\n",
    "from keras.utils import get_file   # downloading files\n",
    "\n",
    "import multiprocessor_wiki         # mulitprocessing\n",
    "from data_processor import *       # parsing coordinates"
   ]
  },
  {
   "cell_type": "markdown",
   "metadata": {},
   "source": [
    "Define constants.\n",
    "\n",
    "- ``PATH``: Path to the base data folder\n",
    "- ``COORD_RANGE_LAT``: latitude coordinate range of Allegheny County\n",
    "- ``COORD_RANGE_LONG``: longitude coordinate range of Allegheny County\n",
    "- ``CPU_CORES``: how many cpu cores to use, default = all"
   ]
  },
  {
   "cell_type": "code",
   "execution_count": 2,
   "metadata": {},
   "outputs": [],
   "source": [
    "PATH = \"C:\\\\Users\\\\Tim\\\\.keras\\\\datasets\\\\wikipedia_real_estate\\\\\"\n",
    "COORD_RANGE_LAT = (40.000000, 40.870000)\n",
    "COORD_RANGE_LONG = (-80.550000, -79.500000)\n",
    "# CPU_CORES = os.cpu_count()\n",
    "CPU_CORES = 8"
   ]
  },
  {
   "cell_type": "markdown",
   "metadata": {},
   "source": [
    "Show list of dumps."
   ]
  },
  {
   "cell_type": "code",
   "execution_count": 3,
   "metadata": {},
   "outputs": [
    {
     "data": {
      "text/plain": [
       "['../',\n",
       " '20201120/',\n",
       " '20201201/',\n",
       " '20201220/',\n",
       " '20210101/',\n",
       " '20210120/',\n",
       " '20210201/',\n",
       " '20210220/',\n",
       " 'latest/']"
      ]
     },
     "execution_count": 3,
     "metadata": {},
     "output_type": "execute_result"
    }
   ],
   "source": [
    "base_url = 'https://dumps.wikimedia.org/enwiki/'\n",
    "index = requests.get(base_url).text\n",
    "soup_index = BeautifulSoup(index, 'html.parser')\n",
    "\n",
    "# Find the links that are dates of dumps\n",
    "dumps = [a['href'] for a in soup_index.find_all('a') if \n",
    "         a.has_attr('href')]\n",
    "dumps"
   ]
  },
  {
   "cell_type": "code",
   "execution_count": 4,
   "metadata": {},
   "outputs": [
    {
     "data": {
      "text/plain": [
       "'<!DOCTYPE '"
      ]
     },
     "execution_count": 4,
     "metadata": {},
     "output_type": "execute_result"
    }
   ],
   "source": [
    "dump_url = base_url + '20201201/'\n",
    "\n",
    "# Retrieve the html\n",
    "dump_html = requests.get(dump_url).text\n",
    "dump_html[:10]"
   ]
  },
  {
   "cell_type": "code",
   "execution_count": 5,
   "metadata": {},
   "outputs": [
    {
     "data": {
      "text/plain": [
       "[<li class=\"file\"><a href=\"/enwiki/20201201/enwiki-20201201-pages-articles-multistream.xml.bz2\">enwiki-20201201-pages-articles-multistream.xml.bz2</a> 17.7 GB</li>,\n",
       " <li class=\"file\"><a href=\"/enwiki/20201201/enwiki-20201201-pages-articles-multistream-index.txt.bz2\">enwiki-20201201-pages-articles-multistream-index.txt.bz2</a> 217.3 MB</li>,\n",
       " <li class=\"file\"><a href=\"/enwiki/20201201/enwiki-20201201-pages-articles-multistream1.xml-p1p41242.bz2\">enwiki-20201201-pages-articles-multistream1.xml-p1p41242.bz2</a> 233.1 MB</li>,\n",
       " <li class=\"file\"><a href=\"/enwiki/20201201/enwiki-20201201-pages-articles-multistream-index1.txt-p1p41242.bz2\">enwiki-20201201-pages-articles-multistream-index1.txt-p1p41242.bz2</a> 221 KB</li>]"
      ]
     },
     "execution_count": 5,
     "metadata": {},
     "output_type": "execute_result"
    }
   ],
   "source": [
    "# Convert to a soup\n",
    "soup_dump = BeautifulSoup(dump_html, 'html.parser')\n",
    "\n",
    "# Find li elements with the class file\n",
    "soup_dump.find_all('li', {'class': 'file'}, limit = 10)[:4]"
   ]
  },
  {
   "cell_type": "markdown",
   "metadata": {},
   "source": [
    "Iterate through files to find all downloadable files and show first 5."
   ]
  },
  {
   "cell_type": "code",
   "execution_count": 6,
   "metadata": {},
   "outputs": [
    {
     "data": {
      "text/plain": [
       "[('enwiki-20201201-pages-articles-multistream.xml.bz2', ['17.7', 'GB']),\n",
       " ('enwiki-20201201-pages-articles-multistream-index.txt.bz2', ['217.3', 'MB']),\n",
       " ('enwiki-20201201-pages-articles-multistream1.xml-p1p41242.bz2',\n",
       "  ['233.1', 'MB']),\n",
       " ('enwiki-20201201-pages-articles-multistream-index1.txt-p1p41242.bz2',\n",
       "  ['221', 'KB']),\n",
       " ('enwiki-20201201-pages-articles-multistream2.xml-p41243p151573.bz2',\n",
       "  ['315.2', 'MB'])]"
      ]
     },
     "execution_count": 6,
     "metadata": {},
     "output_type": "execute_result"
    }
   ],
   "source": [
    "files = []\n",
    "\n",
    "# Search through all files\n",
    "for file in soup_dump.find_all('li', {'class': 'file'}):\n",
    "    text = file.text\n",
    "    # Select the relevant files\n",
    "    if 'pages-articles' in text:\n",
    "        files.append((text.split()[0], text.split()[1:]))\n",
    "        \n",
    "files[:5]"
   ]
  },
  {
   "cell_type": "markdown",
   "metadata": {},
   "source": [
    "Select all compressed xml files."
   ]
  },
  {
   "cell_type": "code",
   "execution_count": 7,
   "metadata": {},
   "outputs": [
    {
     "data": {
      "text/plain": [
       "['enwiki-20201201-pages-articles25.xml-p60025656p61525655.bz2',\n",
       " 'enwiki-20201201-pages-articles25.xml-p61525656p62585850.bz2',\n",
       " 'enwiki-20201201-pages-articles26.xml-p62585851p63975909.bz2',\n",
       " 'enwiki-20201201-pages-articles27.xml-p63975910p65475909.bz2',\n",
       " 'enwiki-20201201-pages-articles27.xml-p65475910p65998774.bz2']"
      ]
     },
     "execution_count": 7,
     "metadata": {},
     "output_type": "execute_result"
    }
   ],
   "source": [
    "files_to_download = [file[0] for file in files if '.xml-p' in file[0]]\n",
    "files_to_download[-5:]"
   ]
  },
  {
   "cell_type": "markdown",
   "metadata": {},
   "source": [
    "Disregard multistream files."
   ]
  },
  {
   "cell_type": "code",
   "execution_count": 8,
   "metadata": {},
   "outputs": [
    {
     "data": {
      "text/plain": [
       "['enwiki-20201201-pages-articles25.xml-p60025656p61525655.bz2',\n",
       " 'enwiki-20201201-pages-articles25.xml-p61525656p62585850.bz2',\n",
       " 'enwiki-20201201-pages-articles26.xml-p62585851p63975909.bz2',\n",
       " 'enwiki-20201201-pages-articles27.xml-p63975910p65475909.bz2',\n",
       " 'enwiki-20201201-pages-articles27.xml-p65475910p65998774.bz2']"
      ]
     },
     "execution_count": 8,
     "metadata": {},
     "output_type": "execute_result"
    }
   ],
   "source": [
    "files_to_download = [x for x in files_to_download if \"multistream\" not in x]\n",
    "files_to_download[-5:]"
   ]
  },
  {
   "cell_type": "markdown",
   "metadata": {},
   "source": [
    "Download all relevant files. If file is already downloaded, display size of file."
   ]
  },
  {
   "cell_type": "code",
   "execution_count": 9,
   "metadata": {
    "scrolled": true
   },
   "outputs": [
    {
     "name": "stdout",
     "output_type": "stream",
     "text": [
      "Found File enwiki-20201201-pages-articles1.xml-p1p41242.bz2, size: 243.53 MB\n",
      "Found File enwiki-20201201-pages-articles2.xml-p41243p151573.bz2, size: 326.97 MB\n",
      "Found File enwiki-20201201-pages-articles3.xml-p151574p311329.bz2, size: 354.32 MB\n",
      "Found File enwiki-20201201-pages-articles4.xml-p311330p558391.bz2, size: 392.69 MB\n",
      "Found File enwiki-20201201-pages-articles5.xml-p558392p958045.bz2, size: 423.18 MB\n",
      "Found File enwiki-20201201-pages-articles6.xml-p958046p1483661.bz2, size: 453.09 MB\n",
      "Found File enwiki-20201201-pages-articles7.xml-p1483662p2134111.bz2, size: 465.23 MB\n",
      "Found File enwiki-20201201-pages-articles8.xml-p2134112p2936260.bz2, size: 474.32 MB\n",
      "Found File enwiki-20201201-pages-articles9.xml-p2936261p4045402.bz2, size: 515.06 MB\n",
      "Found File enwiki-20201201-pages-articles10.xml-p4045403p5399366.bz2, size: 505.11 MB\n",
      "Found File enwiki-20201201-pages-articles11.xml-p5399367p6899366.bz2, size: 489.51 MB\n",
      "Found File enwiki-20201201-pages-articles11.xml-p6899367p7054859.bz2, size: 47.05 MB\n",
      "Found File enwiki-20201201-pages-articles12.xml-p7054860p8554859.bz2, size: 406.71 MB\n",
      "Found File enwiki-20201201-pages-articles12.xml-p8554860p9172788.bz2, size: 164.91 MB\n",
      "Found File enwiki-20201201-pages-articles13.xml-p9172789p10672788.bz2, size: 331.95 MB\n",
      "Found File enwiki-20201201-pages-articles13.xml-p10672789p11659682.bz2, size: 230.64 MB\n",
      "Found File enwiki-20201201-pages-articles14.xml-p11659683p13159682.bz2, size: 395.7 MB\n",
      "Found File enwiki-20201201-pages-articles14.xml-p13159683p14324602.bz2, size: 274.68 MB\n",
      "Found File enwiki-20201201-pages-articles15.xml-p14324603p15824602.bz2, size: 357.2 MB\n",
      "Found File enwiki-20201201-pages-articles15.xml-p15824603p17324602.bz2, size: 308.36 MB\n",
      "Found File enwiki-20201201-pages-articles15.xml-p17324603p17460152.bz2, size: 28.36 MB\n",
      "Found File enwiki-20201201-pages-articles16.xml-p17460153p18960152.bz2, size: 338.23 MB\n",
      "Found File enwiki-20201201-pages-articles16.xml-p18960153p20460152.bz2, size: 315.45 MB\n",
      "Found File enwiki-20201201-pages-articles16.xml-p20460153p20570392.bz2, size: 23.07 MB\n",
      "Found File enwiki-20201201-pages-articles17.xml-p20570393p22070392.bz2, size: 353.06 MB\n",
      "Found File enwiki-20201201-pages-articles17.xml-p22070393p23570392.bz2, size: 363.61 MB\n",
      "Found File enwiki-20201201-pages-articles17.xml-p23570393p23716197.bz2, size: 40.51 MB\n",
      "Found File enwiki-20201201-pages-articles18.xml-p23716198p25216197.bz2, size: 376.95 MB\n",
      "Found File enwiki-20201201-pages-articles18.xml-p25216198p26716197.bz2, size: 348.7 MB\n",
      "Found File enwiki-20201201-pages-articles18.xml-p26716198p27121850.bz2, size: 87.55 MB\n",
      "Found File enwiki-20201201-pages-articles19.xml-p27121851p28621850.bz2, size: 339.11 MB\n",
      "Found File enwiki-20201201-pages-articles19.xml-p28621851p30121850.bz2, size: 298.16 MB\n",
      "Found File enwiki-20201201-pages-articles19.xml-p30121851p31308442.bz2, size: 282.04 MB\n",
      "Found File enwiki-20201201-pages-articles20.xml-p31308443p32808442.bz2, size: 384.64 MB\n",
      "Found File enwiki-20201201-pages-articles20.xml-p32808443p34308442.bz2, size: 350.75 MB\n",
      "Found File enwiki-20201201-pages-articles20.xml-p34308443p35522432.bz2, size: 260.09 MB\n",
      "Found File enwiki-20201201-pages-articles21.xml-p35522433p37022432.bz2, size: 352.77 MB\n",
      "Found File enwiki-20201201-pages-articles21.xml-p37022433p38522432.bz2, size: 342.09 MB\n",
      "Found File enwiki-20201201-pages-articles21.xml-p38522433p39996245.bz2, size: 347.01 MB\n",
      "Found File enwiki-20201201-pages-articles22.xml-p39996246p41496245.bz2, size: 341.74 MB\n",
      "Found File enwiki-20201201-pages-articles22.xml-p41496246p42996245.bz2, size: 351.9 MB\n",
      "Found File enwiki-20201201-pages-articles22.xml-p42996246p44496245.bz2, size: 355.32 MB\n",
      "Found File enwiki-20201201-pages-articles22.xml-p44496246p44788941.bz2, size: 56.02 MB\n",
      "Found File enwiki-20201201-pages-articles23.xml-p44788942p46288941.bz2, size: 228.87 MB\n",
      "Found File enwiki-20201201-pages-articles23.xml-p46288942p47788941.bz2, size: 363.06 MB\n",
      "Found File enwiki-20201201-pages-articles23.xml-p47788942p49288941.bz2, size: 305.72 MB\n",
      "Found File enwiki-20201201-pages-articles23.xml-p49288942p50564553.bz2, size: 235.96 MB\n",
      "Found File enwiki-20201201-pages-articles24.xml-p50564554p52064553.bz2, size: 322.99 MB\n",
      "Found File enwiki-20201201-pages-articles24.xml-p52064554p53564553.bz2, size: 323.31 MB\n",
      "Found File enwiki-20201201-pages-articles24.xml-p53564554p55064553.bz2, size: 307.93 MB\n",
      "Found File enwiki-20201201-pages-articles24.xml-p55064554p56564553.bz2, size: 323.28 MB\n",
      "Found File enwiki-20201201-pages-articles24.xml-p56564554p57025655.bz2, size: 102.21 MB\n",
      "Found File enwiki-20201201-pages-articles25.xml-p57025656p58525655.bz2, size: 337.18 MB\n",
      "Found File enwiki-20201201-pages-articles25.xml-p58525656p60025655.bz2, size: 297.82 MB\n",
      "Found File enwiki-20201201-pages-articles25.xml-p60025656p61525655.bz2, size: 330.85 MB\n",
      "Found File enwiki-20201201-pages-articles25.xml-p61525656p62585850.bz2, size: 231.79 MB\n",
      "Found File enwiki-20201201-pages-articles26.xml-p62585851p63975909.bz2, size: 339.65 MB\n",
      "Found File enwiki-20201201-pages-articles27.xml-p63975910p65475909.bz2, size: 318.54 MB\n",
      "Found File enwiki-20201201-pages-articles27.xml-p65475910p65998774.bz2, size: 124.64 MB\n"
     ]
    }
   ],
   "source": [
    "data_paths = []\n",
    "file_info = []\n",
    "\n",
    "# create project dirs\n",
    "if not os.path.exists(PATH):\n",
    "        os.mkdir(PATH)\n",
    "wiki_path = PATH + \"wikipedia\\\\\"\n",
    "if not os.path.exists(wiki_path):\n",
    "        os.mkdir(wiki_path)\n",
    "compressed_path = wiki_path + \"compressed\\\\\"\n",
    "if not os.path.exists(compressed_path):\n",
    "        os.mkdir(compressed_path)\n",
    "\n",
    "# Iterate through each file\n",
    "for file in files_to_download:\n",
    "    path = compressed_path + file\n",
    "    \n",
    "    \n",
    "    # Check to see if the path exists (if the file is already downloaded)\n",
    "    if not os.path.exists(path):\n",
    "        # If not, download the file\n",
    "        data_paths.append(get_file(file, dump_url + file))\n",
    "        # Find the file size in MB\n",
    "        file_size = os.stat(path).st_size / 1e6\n",
    "        \n",
    "        # Find the number of articles\n",
    "        file_articles = int(file.split('p')[-1].split('.')[-2]) - int(file.split('p')[-2])\n",
    "        file_info.append((file, file_size, file_articles))\n",
    "        \n",
    "    # If the file is already downloaded find some information\n",
    "    else:\n",
    "        data_paths.append(path)\n",
    "        # Find the file size in MB\n",
    "        file_size = os.stat(path).st_size / 1e6\n",
    "        \n",
    "        print(f\"Found File {file}, size: {round(file_size, 2)} MB\")\n",
    "        \n",
    "        # Find the number of articles\n",
    "        file_number = int(file.split('p')[-1].split('.')[-2]) - int(file.split('p')[-2])\n",
    "        file_info.append((file.split('-')[-1], file_size, file_number))"
   ]
  },
  {
   "cell_type": "markdown",
   "metadata": {},
   "source": [
    "Download md5 checksums."
   ]
  },
  {
   "cell_type": "code",
   "execution_count": 10,
   "metadata": {},
   "outputs": [],
   "source": [
    "checksums = get_file(compressed_path + \"md5_checksums\", dump_url + \"enwiki-20201201-md5sums.txt\")"
   ]
  },
  {
   "cell_type": "code",
   "execution_count": 11,
   "metadata": {},
   "outputs": [],
   "source": [
    "def md5(fname):\n",
    "    \"\"\"Returns md5 hash of file with name fname\"\"\"\n",
    "    hash_md5 = hashlib.md5()\n",
    "    with open(compressed_path + fname, \"rb\") as f:\n",
    "        for chunk in iter(lambda: f.read(4096), b\"\"):\n",
    "            hash_md5.update(chunk)\n",
    "    return hash_md5.hexdigest()"
   ]
  },
  {
   "cell_type": "markdown",
   "metadata": {},
   "source": [
    "Check if data was downloaded correctly."
   ]
  },
  {
   "cell_type": "code",
   "execution_count": 12,
   "metadata": {},
   "outputs": [
    {
     "data": {
      "application/vnd.jupyter.widget-view+json": {
       "model_id": "274215942b0b4f13ae50e3597c1f37fa",
       "version_major": 2,
       "version_minor": 0
      },
      "text/plain": [
       "HBox(children=(HTML(value=''), FloatProgress(value=0.0, max=59.0), HTML(value='')))"
      ]
     },
     "metadata": {},
     "output_type": "display_data"
    },
    {
     "name": "stdout",
     "output_type": "stream",
     "text": [
      "\n",
      "Downloads verified by MD5 checksums\n"
     ]
    }
   ],
   "source": [
    "with open(checksums) as file:\n",
    "   data = file.read()\n",
    "\n",
    "md5_lst = data.split(\"\\n\")\n",
    "md5_lst = [x.split(\"  \") for x in md5_lst][:-1]\n",
    "md5_lst = [file for file in md5_lst if \".xml-p\" in file[1] and not \"multistream\" in file[1] and not \"meta\" in file[1]]\n",
    "\n",
    "downloaded_md5 = []\n",
    "if [x[1] for x in md5_lst] == files_to_download:\n",
    "    \n",
    "    for file in tqdm(files_to_download):\n",
    "        downloaded_md5.append(md5(file))\n",
    "        \n",
    "    if [x[0] for x in md5_lst] == downloaded_md5:\n",
    "        print(\"Downloads verified by MD5 checksums\")\n",
    "    else:\n",
    "        print(\"Download was faulty, the following files could not be verified:\")\n",
    "        \n",
    "        for file in [x for x in downloaded_md5 if x not in md5_lst]:\n",
    "            print(file)\n",
    "else:\n",
    "    print(\"Files to downloaded are not equal to md5 checksum files\")"
   ]
  },
  {
   "cell_type": "markdown",
   "metadata": {},
   "source": [
    "Display total size and article count of downloaded dump."
   ]
  },
  {
   "cell_type": "code",
   "execution_count": 13,
   "metadata": {},
   "outputs": [
    {
     "name": "stdout",
     "output_type": "stream",
     "text": [
      "The total size of files on disk is 17.99 GB\n",
      "The total number of articles is 65998715\n"
     ]
    }
   ],
   "source": [
    "file_sizes = [file[1] for file in file_info]\n",
    "article_count = [file[2] for file in file_info]\n",
    "\n",
    "print(f\"The total size of files on disk is {round(sum(file_sizes) / 1e3, 2)} GB\")\n",
    "print(f\"The total number of articles is {sum(article_count)}\")"
   ]
  },
  {
   "cell_type": "markdown",
   "metadata": {},
   "source": [
    "Let's take a peek at the data."
   ]
  },
  {
   "cell_type": "code",
   "execution_count": 14,
   "metadata": {},
   "outputs": [
    {
     "data": {
      "text/plain": [
       "[b'        <id>2278355</id>\\n',\n",
       " b'      </contributor>\\n',\n",
       " b'      <minor />\\n',\n",
       " b'      <comment>/* top */Remove empty invalid ref parameter</comment>\\n',\n",
       " b'      <model>wikitext</model>\\n',\n",
       " b'      <format>text/x-wiki</format>\\n',\n",
       " b'      <text bytes=\"3419\" xml:space=\"preserve\">{{short description|English cricketer}}\\n',\n",
       " b'{{Use dmy dates|date=March 2016}}\\n',\n",
       " b'{{Use British English|date=March 2016}}\\n',\n",
       " b\"'''Philip Hodgson''' (21 September 1935 \\xe2\\x80\\x93 30 March 2015) was an English [[first-class cricket]]er.&lt;ref name=&quot;YB&quot;&gt;{{cite book |title=The Yorkshire County Cricket Club: 2011 Yearbook |last=Warner |first=David |year=2011 |edition=113th |publisher=Great Northern Books |location=Ilkley, Yorkshire |isbn=978-1-905080-85-4 |page=371|url= }}&lt;/ref&gt;\\n\",\n",
       " b'\\n',\n",
       " b'==Biography==\\n',\n",
       " b\"Hodgson was born in  [[Todmorden]], [[Yorkshire]], and educated at [[Woodhouse Grammar School]] in London.&lt;ref&gt;{{cite web |title=Philip Hodgson |url=https://www.espncricinfo.com/england/content/player/14880.html |website=Cricinfo |accessdate=18 October 2020}}&lt;/ref&gt; He was six feet eight inches tall.&lt;ref name=WObit&gt;''[[Wisden Cricketers' Almanack|Wisden]]'' 2016, p. 220.&lt;/ref&gt;\\n\",\n",
       " b'\\n',\n",
       " b'A right arm fast medium bowler, Hodgson played thirteen games for [[Yorkshire County Cricket Club]] between 1954 and 1956.&lt;ref name=&quot;YB&quot;/&gt; During his [[Conscription in the United Kingdom|national service]] with the [[Royal Air Force]] he appeared in four matches for the [[Combined Services cricket team|Combined Services]] in first-class games in 1956 and 1957.  In non-first-class cricket he played for the Yorkshire Second XI (1952-1956), the [[Royal Air Force]] (1956-1957), and [[Minor counties of English and Welsh cricket|Minor Counties]] (1956).&lt;ref&gt;{{cite web |title=Philip Hodgson |url=https://cricketarchive.com/Archive/Players/30/30305/30305.html |website=CricketArchive |accessdate=18 October 2020}}&lt;/ref&gt;\\n',\n",
       " b'\\n',\n",
       " b'Hodgson took 39 wickets in first-class cricket at an average of 24.25, with a best return of 5 for 41 against [[Sussex County Cricket Club|Sussex]] in 1954, his only five wicket haul, when he and his opening partner [[Fred Trueman]] took five wickets each.&lt;ref&gt;{{cite web |title=Sussex v Yorkshire 1954 |url=https://cricketarchive.com/Archive/Scorecards/21/21268.html |website=CricketArchive |accessdate=18 October 2020}}&lt;/ref&gt; He scored 65 runs at 9.28, with a highest score of 26 for the Combined Services against [[Glamorgan County Cricket Club|Glamorgan]]. He batted at number 11, and was not called upon to bat until his seventh match for Yorkshire.&lt;ref&gt;{{cite web |title=First-Class Matches played by Philip Hodgson |url=https://cricketarchive.com/Archive/Players/30/30305/First-Class_Matches.html |website=CricketArchive |accessdate=18 October 2020}}&lt;/ref&gt;\\n',\n",
       " b'\\n',\n",
       " b'After his brief first-class career he worked as a schoolteacher, playing club cricket for Sheffield United.&lt;ref name=WObit/&gt; He died in 2015.&lt;ref&gt;{{Cite web |url=http://www.thepca.co.uk/obituaries.html#Philip%20Hodgson |title=PHILIP HODGSON {{!}} 1935 - 2015 |access-date=14 April 2015 |archive-url=https://web.archive.org/web/20170622192424/http://www.thepca.co.uk/obituaries.html#Philip%20Hodgson |archive-date=22 June 2017 |url-status=dead }}&lt;/ref&gt;\\n',\n",
       " b'\\n']"
      ]
     },
     "execution_count": 14,
     "metadata": {},
     "output_type": "execute_result"
    }
   ],
   "source": [
    "data_path = data_paths[15]\n",
    "data_path\n",
    "\n",
    "lines = []\n",
    "for i, line in enumerate(bz2.BZ2File(data_path, 'r')):\n",
    "    lines.append(line)\n",
    "    if i > 5e5:\n",
    "        break\n",
    "\n",
    "lines[27190:27210]"
   ]
  },
  {
   "cell_type": "markdown",
   "metadata": {},
   "source": [
    "Define content handler to parse XML."
   ]
  },
  {
   "cell_type": "code",
   "execution_count": 15,
   "metadata": {},
   "outputs": [],
   "source": [
    "class SimpleWikiXmlHandler(xml.sax.handler.ContentHandler):\n",
    "    \"\"\"Content handler for Wiki XML data using SAX\"\"\"\n",
    "    def __init__(self):\n",
    "        xml.sax.handler.ContentHandler.__init__(self)\n",
    "        self._buffer = None\n",
    "        self._values = {}\n",
    "        self._current_tag = None\n",
    "        self._pages = []\n",
    "\n",
    "    def characters(self, content):\n",
    "        \"\"\"Characters between opening and closing tags\"\"\"\n",
    "        if self._current_tag:\n",
    "            self._buffer.append(content)\n",
    "\n",
    "    def startElement(self, name, attrs):\n",
    "        \"\"\"Opening tag of element\"\"\"\n",
    "        if name in ('title', 'text', 'timestamp'):\n",
    "            self._current_tag = name\n",
    "            self._buffer = []\n",
    "\n",
    "    def endElement(self, name):\n",
    "        \"\"\"Closing tag of element\"\"\"\n",
    "        if name == self._current_tag:\n",
    "            self._values[name] = ' '.join(self._buffer)\n",
    "\n",
    "        if name == 'page':\n",
    "            self._pages.append((self._values['title'], self._values['text']))"
   ]
  },
  {
   "cell_type": "markdown",
   "metadata": {},
   "source": [
    "Parse compressed files to find first 500 articles and display title for 10 of those."
   ]
  },
  {
   "cell_type": "code",
   "execution_count": 16,
   "metadata": {},
   "outputs": [
    {
     "name": "stdout",
     "output_type": "stream",
     "text": [
      "['Live at Thee Mardi Gras', 'Northfield Chateau', 'Video games in China', 'Branch Closing (The Office episode)', 'Brooklyn Tip Tops', 'Category:Low-importance Shopping center articles', 'Chalet Schell', 'Wikipedia:Wikiquette assistance/Archive/2005', 'Category:Unknown-importance Shopping center articles', 'Wikipedia:Wikiquette alerts/archive']\n"
     ]
    }
   ],
   "source": [
    "# Object for handling xml\n",
    "handler = SimpleWikiXmlHandler()\n",
    "\n",
    "# Parsing object\n",
    "parser = xml.sax.make_parser()\n",
    "parser.setContentHandler(handler)\n",
    "\n",
    "for i, line in enumerate(bz2.BZ2File(data_path, 'r')):\n",
    "    \n",
    "    parser.feed(line)\n",
    "    \n",
    "    # Stop when 500 articles have been found\n",
    "    if len(handler._pages) > 500:\n",
    "        break\n",
    "        \n",
    "print([x[0] for x in handler._pages][190:200])"
   ]
  },
  {
   "cell_type": "markdown",
   "metadata": {},
   "source": [
    "Select one to take a closer look."
   ]
  },
  {
   "cell_type": "code",
   "execution_count": 17,
   "metadata": {},
   "outputs": [
    {
     "name": "stdout",
     "output_type": "stream",
     "text": [
      "Northfield Chateau\n"
     ]
    },
    {
     "data": {
      "text/plain": [
       "\"[[Image:Northfield Chateau (Northfield, MA) - exterior.jpg|thumb|right|250px|The Northfield Chateau]] \\n [[Image:Northfield Chateau (Northfield, MA) - interior.jpg|thumb|right|250px|Interior]] \\n \\n The '''Northfield Chateau''', also variously known as '''Chalet Schell''' and '''Birnam House''', was a large mansion on Birnham Road in [[Northfield, Massachusetts]]. It no longer exists. \\n \\n The chateau was designed by noted architect [[Bruce Price]] (of the [[Château Frontenac]]) for Francis Robert Schell, a New York capitalist attracted by his interest in [[Dwight Lyman Moody]]'s work at the nearby [[Northfield Seminary]] and [[Northfield Mount Hermon School|Mount Hermon School]]. It was completed in 1903 on grounds of {{convert|125|acre}}. \\n \\n The building was loosely patterned upon a French [[chateau]] but fanciful in style, with 99 rooms in a compact, three-story structure ornamented with prominent turrets. Contrary to popular rumors that Mrs. Schell despised the Chateau and refused to \""
      ]
     },
     "execution_count": 17,
     "metadata": {},
     "output_type": "execute_result"
    }
   ],
   "source": [
    "print(handler._pages[191][0])\n",
    "page_text = handler._pages[191][1]\n",
    "wiki = mwparserfromhell.parse(page_text)\n",
    "wiki[:1000]"
   ]
  },
  {
   "cell_type": "code",
   "execution_count": 18,
   "metadata": {},
   "outputs": [
    {
     "name": "stdout",
     "output_type": "stream",
     "text": [
      "There are 18 wikilinks in this article:\n"
     ]
    },
    {
     "data": {
      "text/plain": [
       "['Image:Northfield Chateau (Northfield, MA) - exterior.jpg',\n",
       " 'Image:Northfield Chateau (Northfield, MA) - interior.jpg',\n",
       " 'Northfield, Massachusetts',\n",
       " 'Bruce Price',\n",
       " 'Château Frontenac']"
      ]
     },
     "execution_count": 18,
     "metadata": {},
     "output_type": "execute_result"
    }
   ],
   "source": [
    "links = [x.title for x in wiki.filter_wikilinks()]\n",
    "print(f\"There are {len(links)} wikilinks in this article:\")\n",
    "links[:5]"
   ]
  },
  {
   "cell_type": "markdown",
   "metadata": {},
   "source": [
    "Comments were not downloaded, so the following will always be empty."
   ]
  },
  {
   "cell_type": "code",
   "execution_count": 19,
   "metadata": {},
   "outputs": [
    {
     "name": "stdout",
     "output_type": "stream",
     "text": [
      "[]\n",
      "[]\n"
     ]
    }
   ],
   "source": [
    "print(wiki.filter_arguments())\n",
    "print(wiki.filter_comments())"
   ]
  },
  {
   "cell_type": "code",
   "execution_count": 20,
   "metadata": {},
   "outputs": [
    {
     "name": "stdout",
     "output_type": "stream",
     "text": [
      "There are 4 external links:\n"
     ]
    },
    {
     "data": {
      "text/plain": [
       "['http://www.nmhschool.org/alumni/history/chateauhistory.php',\n",
       " 'http://www.nmhschool.org/alumni/history/chateau.php',\n",
       " 'http://hdl.loc.gov/loc.pnp/hhh.ma0192',\n",
       " 'http://www.eric-goldscheider.com/id121.html']"
      ]
     },
     "execution_count": 20,
     "metadata": {},
     "output_type": "execute_result"
    }
   ],
   "source": [
    "external_links = [x.url for x in wiki.filter_external_links()]\n",
    "print(f'There are {len(external_links)} external links:')\n",
    "external_links[:5]"
   ]
  },
  {
   "cell_type": "code",
   "execution_count": 21,
   "metadata": {},
   "outputs": [
    {
     "name": "stdout",
     "output_type": "stream",
     "text": [
      "There are 2 templates:\n"
     ]
    },
    {
     "data": {
      "text/plain": [
       "['{{convert|125|acre}}', '{{Coord|42|42|10.31|N|72|26|47.40|W|display=title}}']"
      ]
     },
     "execution_count": 21,
     "metadata": {},
     "output_type": "execute_result"
    }
   ],
   "source": [
    "templates = wiki.filter_templates()\n",
    "print(f'There are {len(templates)} templates:')\n",
    "templates[:5]"
   ]
  },
  {
   "cell_type": "markdown",
   "metadata": {},
   "source": [
    "Look for coordinates."
   ]
  },
  {
   "cell_type": "code",
   "execution_count": 22,
   "metadata": {},
   "outputs": [
    {
     "name": "stdout",
     "output_type": "stream",
     "text": [
      "{{Coord|42|42|10.31|N|72|26|47.40|W|display=title}}\n",
      "coord\n"
     ]
    }
   ],
   "source": [
    "infobox = wiki.filter_templates(matches=\"coord\")[0]\n",
    "print(infobox)\n",
    "print(infobox.name.strip_code().strip().lower())"
   ]
  },
  {
   "cell_type": "markdown",
   "metadata": {},
   "source": [
    "Test the extract coordinates method."
   ]
  },
  {
   "cell_type": "code",
   "execution_count": 23,
   "metadata": {},
   "outputs": [
    {
     "data": {
      "text/plain": [
       "(42.70286388888889, -72.4465)"
      ]
     },
     "execution_count": 23,
     "metadata": {},
     "output_type": "execute_result"
    }
   ],
   "source": [
    "extract_coordinates(str(infobox))"
   ]
  },
  {
   "cell_type": "markdown",
   "metadata": {},
   "source": [
    "Display main text of article."
   ]
  },
  {
   "cell_type": "code",
   "execution_count": 24,
   "metadata": {},
   "outputs": [
    {
     "data": {
      "text/plain": [
       "'thumb|right|250px|The Northfield Chateau \\n thumb|right|250px|Interior \\n \\n The Northfield Chateau, also variously known as Chalet Schell and Birnam House, was a large mansion on Birnham Road in Northfield, Massachusetts. It no longer exists. \\n \\n The chateau was designed by noted architect Bruce Price (of the Château Frontenac) for Francis Robert Schell, a New York capitalist attracted by his interest in Dwight Lyman Moody\\'s work at the nearby Northfield Seminary and Mount Hermon School. It was completed in 1903 on grounds of . \\n \\n The building was loosely patterned upon a French chateau but fanciful in style, with 99 rooms in a compact, three-story structure ornamented with prominent turrets. Contrary to popular rumors that Mrs. Schell despised the Chateau and refused to live in it, the Schells summered at their beautiful home for 25 years. It was only after the death of her beloved husband in 1928 that Mrs. Schell refused to set foot in the house again, insisting when she stayed at the Northfield Hotel during future summers that she have a room not overlooking the grand house that had been her husband\\'s pride and joy. A server at the Inn overheard her once responding to another guest\\'s compliments of her former home with  \" I hate it; I never go there. \"   \\n \\n After Mr. Schell\\'s death, the mansion fell into disrepair and was eventually sold to the Northfield School for Girls which also owned the Northfield Hotel. They intended to use it as a meeting place and novelty hotel annex; however, it was never practical for hotel use and in the end was demolished in 1963. \\n \\n Until that time, it was used by the Northfield School for Girls as the location of their prom. That is why the prom at Northfield Mount Hermon School to this day is called The Chat. \\n \\n For a brief time, the basement of the chateau was also used as a youth hostel--one of America\\'s first, begun by Monroe and Isabel Smith. \\n \\n The Tinney Family of Belcourt Castle rescued many pieces from the chateau before its destruction, notably the mirrors which now are in their banquet hall. \\n \\n == References == \\n * Northfield Mount Hermon School history \\n * Northfield Mount Hermon School photographs \\n * Historic American Buildings Survey \\n * Eric-Goldscheider.com \\n \\n  \\n \\n Category:Houses completed in 1903 \\n Category:Buildings and structures demolished in 1963 \\n Category:Defunct hotels in the United States \\n Category:Demolished buildings and structures in Massachusetts \\n Category:Houses in Franklin County, Massachusetts \\n Category:Bruce Price buildings'"
      ]
     },
     "execution_count": 24,
     "metadata": {},
     "output_type": "execute_result"
    }
   ],
   "source": [
    "wiki.strip_code().strip()"
   ]
  },
  {
   "cell_type": "markdown",
   "metadata": {},
   "source": [
    "Define a method to extract all selected templates from an article and return them."
   ]
  },
  {
   "cell_type": "code",
   "execution_count": 25,
   "metadata": {},
   "outputs": [],
   "source": [
    "def process_article(title, text, timestamp, coord_range_lat, coord_range_long, template=\"coord\"):\n",
    "    \"\"\"Process wikipedia article looking for template\"\"\"\n",
    "    \n",
    "    # Create a parsing object\n",
    "    wikicode = mwparserfromhell.parse(text)\n",
    "    \n",
    "    # Search through templates for the template\n",
    "    coord_matches = wikicode.filter_templates(matches=template)\n",
    "    \n",
    "    # Filter out errant matches\n",
    "    coord_matches = [x for x in coord_matches if x.name.strip_code().strip().lower() == template.lower()]\n",
    "    \n",
    "    # check if match contains coordinates\n",
    "    if len(coord_matches) >= 1:\n",
    "        \n",
    "        # extract coordinates\n",
    "        coords = extract_coordinates(str(coord_matches[0]))\n",
    "        \n",
    "        # coords have wrong format\n",
    "        if not coords:\n",
    "            return None\n",
    "        \n",
    "        # check if coordinates are in Western Pennsylvania region\n",
    "        if coord_range_lat[0] < coords[0] < coord_range_lat[1] and coord_range_long[0] < coords[1] < coord_range_long[1]:\n",
    "            \n",
    "            # Extract all templates\n",
    "            all_templates = wikicode.filter_templates()\n",
    "            \n",
    "            infobox = [x for x in all_templates if \"infobox\" in x.name.strip_code().strip().lower()]\n",
    "            \n",
    "            if len(infobox) >= 1:\n",
    "                # Extract information from infobox if existing\n",
    "                properties = {param.name.strip_code().strip(): param.value.strip_code().strip() \n",
    "                              for param in infobox[0].params\n",
    "                              if param.value.strip_code().strip()}\n",
    "            else:\n",
    "                properties = None\n",
    "\n",
    "            # Extract internal wikilinks\n",
    "            wikilinks = [x.title.strip_code().strip() for x in wikicode.filter_wikilinks()]\n",
    "    \n",
    "            # Extract external links\n",
    "            exlinks = [x.url.strip_code().strip() for x in wikicode.filter_external_links()]\n",
    "        \n",
    "            # Find approximate length of article\n",
    "            text_length = len(wikicode.strip_code().strip())\n",
    "\n",
    "            return [title, coords, properties, wikilinks, exlinks, text_length]\n",
    "        else:\n",
    "            # object not in Western Pennsylvania region, disregard\n",
    "            return None"
   ]
  },
  {
   "cell_type": "markdown",
   "metadata": {},
   "source": [
    "Define a more complex content handler which can filter for articles from Allegheny County."
   ]
  },
  {
   "cell_type": "code",
   "execution_count": 26,
   "metadata": {},
   "outputs": [],
   "source": [
    "class WikiXmlHandler(xml.sax.handler.ContentHandler):\n",
    "    \"\"\"Parse through XML data using SAX\"\"\"\n",
    "    def __init__(self):\n",
    "        xml.sax.handler.ContentHandler.__init__(self)\n",
    "        self._buffer = None\n",
    "        self._values = {}\n",
    "        self._current_tag = None\n",
    "        self._articles = []\n",
    "        self._article_count = 0\n",
    "        self._non_matches = []\n",
    "\n",
    "    def characters(self, content):\n",
    "        \"\"\"Characters between opening and closing tags\"\"\"\n",
    "        if self._current_tag:\n",
    "            self._buffer.append(content)\n",
    "\n",
    "    def startElement(self, name, attrs):\n",
    "        \"\"\"Opening tag of element\"\"\"\n",
    "        if name in ('title', 'text', 'timestamp'):\n",
    "            self._current_tag = name\n",
    "            self._buffer = []\n",
    "\n",
    "    def endElement(self, name):\n",
    "        \"\"\"Closing tag of element\"\"\"\n",
    "        if name == self._current_tag:\n",
    "            self._values[name] = ' '.join(self._buffer)\n",
    "\n",
    "        if name == 'page':\n",
    "            self._article_count += 1\n",
    "            # Search through the page to see if the geocoordinate is in Allegheny County\n",
    "            article = process_article(**self._values, coord_range_lat=COORD_RANGE_LAT, coord_range_long=COORD_RANGE_LONG)\n",
    "            # Append to the list of articles\n",
    "            if article:\n",
    "                self._articles.append(article)"
   ]
  },
  {
   "cell_type": "markdown",
   "metadata": {},
   "source": [
    "Search for objects in Western Pennsylvania region in the 16th Wikipedia file and stop if 3 are found."
   ]
  },
  {
   "cell_type": "code",
   "execution_count": 27,
   "metadata": {},
   "outputs": [
    {
     "name": "stdout",
     "output_type": "stream",
     "text": [
      "Searching for articles in C:\\Users\\Tim\\.keras\\datasets\\wikipedia_real_estate\\wikipedia\\compressed\\enwiki-20201201-pages-articles13.xml-p10672789p11659682.bz2...\n",
      "Searched through 40915 articles to find 3 objects in Western Pennsylvania region.\n"
     ]
    }
   ],
   "source": [
    "# Object for handling xml\n",
    "handler = WikiXmlHandler()\n",
    "\n",
    "# Parsing object\n",
    "parser = xml.sax.make_parser()\n",
    "parser.setContentHandler(handler)\n",
    "\n",
    "print(f\"Searching for articles in {data_path}...\")\n",
    "for i, line in enumerate(bz2.BZ2File(data_path, 'r')):\n",
    "    \n",
    "    parser.feed(line)\n",
    "    \n",
    "    # Stop when 3 objects have been found\n",
    "    if len(handler._articles) > 2:\n",
    "        break\n",
    "        \n",
    "print(f'Searched through {handler._article_count} articles to find {len(handler._articles)} objects in Western Pennsylvania region.')"
   ]
  },
  {
   "cell_type": "markdown",
   "metadata": {},
   "source": [
    "Let's see what articles have been identified to be in Allegheny County."
   ]
  },
  {
   "cell_type": "code",
   "execution_count": 28,
   "metadata": {},
   "outputs": [
    {
     "name": "stdout",
     "output_type": "stream",
     "text": [
      "Washington County Courthouse (Pennsylvania), Wild Things Park, Thackeray Hall\n"
     ]
    }
   ],
   "source": [
    "print(*[article[0] for article in handler._articles], sep=\", \")"
   ]
  },
  {
   "cell_type": "markdown",
   "metadata": {},
   "source": [
    "## Process all articles with multiprocessing"
   ]
  },
  {
   "cell_type": "markdown",
   "metadata": {},
   "source": [
    "Check if all files are correctly in the compressed path and display an exemplary data path."
   ]
  },
  {
   "cell_type": "code",
   "execution_count": 29,
   "metadata": {},
   "outputs": [
    {
     "data": {
      "text/plain": [
       "(59,\n",
       " 'C:\\\\Users\\\\Tim\\\\.keras\\\\datasets\\\\wikipedia_real_estate\\\\wikipedia\\\\compressed\\\\enwiki-20201201-pages-articles9.xml-p2936261p4045402.bz2')"
      ]
     },
     "execution_count": 29,
     "metadata": {},
     "output_type": "execute_result"
    }
   ],
   "source": [
    "partitions = [compressed_path + file for file in os.listdir(compressed_path) if 'xml-p' in file]\n",
    "len(partitions), partitions[-1]"
   ]
  },
  {
   "cell_type": "markdown",
   "metadata": {},
   "source": [
    "Run the script to process all compressed files and look for articles in Allegheny County."
   ]
  },
  {
   "cell_type": "code",
   "execution_count": 30,
   "metadata": {},
   "outputs": [
    {
     "name": "stdout",
     "output_type": "stream",
     "text": [
      "Articles already processed.\n"
     ]
    }
   ],
   "source": [
    "multiprocessor_wiki.process(compressed_path, CPU_CORES)"
   ]
  },
  {
   "cell_type": "markdown",
   "metadata": {},
   "source": [
    "## Joining the data back together"
   ]
  },
  {
   "cell_type": "markdown",
   "metadata": {},
   "source": [
    "Read all json files containing information about locations from each partition."
   ]
  },
  {
   "cell_type": "code",
   "execution_count": 31,
   "metadata": {},
   "outputs": [],
   "source": [
    "def read_data(file_path):\n",
    "    \"\"\"Read in json data from `file_path`\"\"\"\n",
    "    \n",
    "    data = []\n",
    "    # Open the file and load in json\n",
    "    with open(file_path, 'r') as fin:\n",
    "        for l in fin.readlines():\n",
    "            data.append(json.loads(l))\n",
    "            \n",
    "    return data"
   ]
  },
  {
   "cell_type": "code",
   "execution_count": 32,
   "metadata": {},
   "outputs": [],
   "source": [
    "uncompressed_path = os.path.dirname(os.path.dirname(compressed_path)) + \"\\\\uncompressed\\\\\"\n",
    "\n",
    "saved_files = [uncompressed_path + x for x in os.listdir(uncompressed_path)]  # find all data to read\n",
    "\n",
    "articles = []\n",
    "for file in saved_files:\n",
    "    articles.extend(read_data(file))"
   ]
  },
  {
   "cell_type": "markdown",
   "metadata": {},
   "source": [
    "Save all articles in one file."
   ]
  },
  {
   "cell_type": "code",
   "execution_count": 33,
   "metadata": {},
   "outputs": [
    {
     "name": "stdout",
     "output_type": "stream",
     "text": [
      "File already saved.\n"
     ]
    }
   ],
   "source": [
    "f_path = os.path.dirname(os.path.dirname(uncompressed_path)) + \"\\\\wikipedia_selected.ndjson\"  # create path to new file\n",
    "\n",
    "if not os.path.exists(f_path):\n",
    "    with open(f_path, 'wt') as fout:\n",
    "        json.dump(articles, fout)\n",
    "    print('Articles saved.')\n",
    "else:\n",
    "    print('File already saved.')"
   ]
  },
  {
   "cell_type": "markdown",
   "metadata": {},
   "source": [
    "Assert whether data was successfully exported."
   ]
  },
  {
   "cell_type": "code",
   "execution_count": 34,
   "metadata": {},
   "outputs": [],
   "source": [
    "with open(f_path) as fin:\n",
    "    data_loaded = json.load(fin)\n",
    "\n",
    "assert data_loaded == articles"
   ]
  },
  {
   "cell_type": "code",
   "execution_count": null,
   "metadata": {},
   "outputs": [],
   "source": []
  }
 ],
 "metadata": {
  "kernelspec": {
   "display_name": "Python 3",
   "language": "python",
   "name": "python3"
  },
  "language_info": {
   "codemirror_mode": {
    "name": "ipython",
    "version": 3
   },
   "file_extension": ".py",
   "mimetype": "text/x-python",
   "name": "python",
   "nbconvert_exporter": "python",
   "pygments_lexer": "ipython3",
   "version": "3.7.9"
  },
  "varInspector": {
   "cols": {
    "lenName": 16,
    "lenType": 16,
    "lenVar": 40
   },
   "kernels_config": {
    "python": {
     "delete_cmd_postfix": "",
     "delete_cmd_prefix": "del ",
     "library": "var_list.py",
     "varRefreshCmd": "print(var_dic_list())"
    },
    "r": {
     "delete_cmd_postfix": ") ",
     "delete_cmd_prefix": "rm(",
     "library": "var_list.r",
     "varRefreshCmd": "cat(var_dic_list()) "
    }
   },
   "types_to_exclude": [
    "module",
    "function",
    "builtin_function_or_method",
    "instance",
    "_Feature"
   ],
   "window_display": false
  },
  "widgets": {
   "application/vnd.jupyter.widget-state+json": {
    "state": {
     "0ba31e6a11ef45fc957091c9eb053270": {
      "model_module": "@jupyter-widgets/controls",
      "model_module_version": "1.5.0",
      "model_name": "HTMLModel",
      "state": {
       "layout": "IPY_MODEL_52186bd70593400592e1fc7103f86b71",
       "style": "IPY_MODEL_d1cc76ff12d447968ada78d1910b60df",
       "value": "100%"
      }
     },
     "0bfc831950c640fb857e832333d3f6b6": {
      "model_module": "@jupyter-widgets/base",
      "model_module_version": "1.2.0",
      "model_name": "LayoutModel",
      "state": {}
     },
     "0f8623632b264d8c8668884b794b3cbc": {
      "model_module": "@jupyter-widgets/controls",
      "model_module_version": "1.5.0",
      "model_name": "ProgressStyleModel",
      "state": {
       "description_width": ""
      }
     },
     "120d4a411c2540c2aacceb0a4157a192": {
      "model_module": "@jupyter-widgets/controls",
      "model_module_version": "1.5.0",
      "model_name": "FloatProgressModel",
      "state": {
       "bar_style": "success",
       "layout": "IPY_MODEL_716b0e2ab4df467ca97977ef3c8b380a",
       "max": 59,
       "style": "IPY_MODEL_a8547c28ea574215ad129961733815ed",
       "value": 59
      }
     },
     "12486442fe774b5e9fe45527ff54b55a": {
      "model_module": "@jupyter-widgets/controls",
      "model_module_version": "1.5.0",
      "model_name": "DescriptionStyleModel",
      "state": {
       "description_width": ""
      }
     },
     "14a689055d6544de8437fc31419974fa": {
      "model_module": "@jupyter-widgets/controls",
      "model_module_version": "1.5.0",
      "model_name": "HBoxModel",
      "state": {
       "children": [
        "IPY_MODEL_4c97610b011f4d26947639d0accf557f",
        "IPY_MODEL_314bca56204244dd8b2cb64eed4474bd",
        "IPY_MODEL_63f65a637bfb44f98c4b3dab99e264d3"
       ],
       "layout": "IPY_MODEL_d64d9b0c447441cb9b9a2d262f67d82c"
      }
     },
     "1887ed11508e49e19cff314883705f20": {
      "model_module": "@jupyter-widgets/base",
      "model_module_version": "1.2.0",
      "model_name": "LayoutModel",
      "state": {}
     },
     "19709fb307604619bc84b77a94d18dc7": {
      "model_module": "@jupyter-widgets/controls",
      "model_module_version": "1.5.0",
      "model_name": "HTMLModel",
      "state": {
       "layout": "IPY_MODEL_e66089523f114c1eaed4fcd1277111ca",
       "style": "IPY_MODEL_a7183d4c664a4f029c11f30eebb03149",
       "value": "  0%"
      }
     },
     "1aa185e73b864d0ca0a29999d87eba0a": {
      "model_module": "@jupyter-widgets/base",
      "model_module_version": "1.2.0",
      "model_name": "LayoutModel",
      "state": {}
     },
     "1b7ab4ce9b2b4d19b2cf497e850141fb": {
      "model_module": "@jupyter-widgets/controls",
      "model_module_version": "1.5.0",
      "model_name": "HTMLModel",
      "state": {
       "layout": "IPY_MODEL_1887ed11508e49e19cff314883705f20",
       "style": "IPY_MODEL_3d1d713f7ccb45b08cd7af0da62f6de0",
       "value": "100%"
      }
     },
     "1f02d8cec1c74d578050562e996df2ad": {
      "model_module": "@jupyter-widgets/base",
      "model_module_version": "1.2.0",
      "model_name": "LayoutModel",
      "state": {}
     },
     "23fd37c825a945e0bd29a6dc170d43e2": {
      "model_module": "@jupyter-widgets/controls",
      "model_module_version": "1.5.0",
      "model_name": "DescriptionStyleModel",
      "state": {
       "description_width": ""
      }
     },
     "274215942b0b4f13ae50e3597c1f37fa": {
      "model_module": "@jupyter-widgets/controls",
      "model_module_version": "1.5.0",
      "model_name": "HBoxModel",
      "state": {
       "children": [
        "IPY_MODEL_53481d2bc215496eb2ee57ee228bb9db",
        "IPY_MODEL_cbb06e15bfae44ada99b3ce7ef94f864",
        "IPY_MODEL_8b0fa9cb80fe41d4be9f257cb680f3d3"
       ],
       "layout": "IPY_MODEL_d1cbdea7fd3b4771a515b81aeb6d5a49"
      }
     },
     "29f9379b4b7c450a8ea2a12e97868681": {
      "model_module": "@jupyter-widgets/controls",
      "model_module_version": "1.5.0",
      "model_name": "DescriptionStyleModel",
      "state": {
       "description_width": ""
      }
     },
     "2c501dc55e7940bca82542413c30fc7c": {
      "model_module": "@jupyter-widgets/controls",
      "model_module_version": "1.5.0",
      "model_name": "FloatProgressModel",
      "state": {
       "bar_style": "success",
       "layout": "IPY_MODEL_aab091e7a3b048bcbddc589dbf53e81e",
       "max": 59,
       "style": "IPY_MODEL_8e6c3055ef2942199178040beb8644f9",
       "value": 59
      }
     },
     "30f1cf06243447178e8660f75d22ca24": {
      "model_module": "@jupyter-widgets/base",
      "model_module_version": "1.2.0",
      "model_name": "LayoutModel",
      "state": {}
     },
     "314bca56204244dd8b2cb64eed4474bd": {
      "model_module": "@jupyter-widgets/controls",
      "model_module_version": "1.5.0",
      "model_name": "FloatProgressModel",
      "state": {
       "bar_style": "success",
       "layout": "IPY_MODEL_9c0c69d12f5349f2a6642b58cb44ab29",
       "max": 59,
       "style": "IPY_MODEL_f432dc762cbf41b6aeb8dd98f9c19645",
       "value": 59
      }
     },
     "316cbdfe890f4950ba1e67f13eec9413": {
      "model_module": "@jupyter-widgets/controls",
      "model_module_version": "1.5.0",
      "model_name": "HBoxModel",
      "state": {
       "children": [
        "IPY_MODEL_753cd9ed49c143a984f647d1c74fe9aa",
        "IPY_MODEL_f6a0773e1c0b43bab2a5d371255cea81",
        "IPY_MODEL_6990774df7464286a1e888a5f59f4704"
       ],
       "layout": "IPY_MODEL_b7826a4b65214b2cb0a17e12a94d61b0"
      }
     },
     "347cc1a94add49fe841661a08a381b04": {
      "model_module": "@jupyter-widgets/base",
      "model_module_version": "1.2.0",
      "model_name": "LayoutModel",
      "state": {}
     },
     "34d1141110ec4e5d9b5d47194672fcc2": {
      "model_module": "@jupyter-widgets/controls",
      "model_module_version": "1.5.0",
      "model_name": "DescriptionStyleModel",
      "state": {
       "description_width": ""
      }
     },
     "36a5feff1d314db98300bc5b07a44cb1": {
      "model_module": "@jupyter-widgets/controls",
      "model_module_version": "1.5.0",
      "model_name": "ProgressStyleModel",
      "state": {
       "description_width": ""
      }
     },
     "377761297f5b4787aa2e5c7972369c57": {
      "model_module": "@jupyter-widgets/base",
      "model_module_version": "1.2.0",
      "model_name": "LayoutModel",
      "state": {}
     },
     "3c08f2e1a6df42ff8557b2a9eda4810c": {
      "model_module": "@jupyter-widgets/controls",
      "model_module_version": "1.5.0",
      "model_name": "HBoxModel",
      "state": {
       "children": [
        "IPY_MODEL_19709fb307604619bc84b77a94d18dc7",
        "IPY_MODEL_d89021fd38d0452b9956456e5bbe623c",
        "IPY_MODEL_60c1961f72b44179b98e3ef7362cf714"
       ],
       "layout": "IPY_MODEL_be6e15bfee62486f81486fd10c74dc5f"
      }
     },
     "3d1d713f7ccb45b08cd7af0da62f6de0": {
      "model_module": "@jupyter-widgets/controls",
      "model_module_version": "1.5.0",
      "model_name": "DescriptionStyleModel",
      "state": {
       "description_width": ""
      }
     },
     "3e2cac04e5854d17a2a6dca1ed5cd37f": {
      "model_module": "@jupyter-widgets/base",
      "model_module_version": "1.2.0",
      "model_name": "LayoutModel",
      "state": {}
     },
     "4282bc16e6464164bd89b7d185fa9d42": {
      "model_module": "@jupyter-widgets/base",
      "model_module_version": "1.2.0",
      "model_name": "LayoutModel",
      "state": {}
     },
     "43273f75531647adb1d0de2dc1187485": {
      "model_module": "@jupyter-widgets/base",
      "model_module_version": "1.2.0",
      "model_name": "LayoutModel",
      "state": {}
     },
     "43caaf9bad8d484b82a2a690b1a4eb87": {
      "model_module": "@jupyter-widgets/controls",
      "model_module_version": "1.5.0",
      "model_name": "ProgressStyleModel",
      "state": {
       "description_width": ""
      }
     },
     "478d0286ff9944a38bc091ee142bd1a6": {
      "model_module": "@jupyter-widgets/base",
      "model_module_version": "1.2.0",
      "model_name": "LayoutModel",
      "state": {}
     },
     "47f270a8afc046d89be3e0df4b1ed66d": {
      "model_module": "@jupyter-widgets/base",
      "model_module_version": "1.2.0",
      "model_name": "LayoutModel",
      "state": {}
     },
     "49473e2a27b945698744a5071527a77b": {
      "model_module": "@jupyter-widgets/controls",
      "model_module_version": "1.5.0",
      "model_name": "HTMLModel",
      "state": {
       "layout": "IPY_MODEL_47f270a8afc046d89be3e0df4b1ed66d",
       "style": "IPY_MODEL_8f372c84c2374f7eb37fca5eb277e711",
       "value": "100%"
      }
     },
     "4a51a780cdab45cfb2fc823bd0c87962": {
      "model_module": "@jupyter-widgets/controls",
      "model_module_version": "1.5.0",
      "model_name": "DescriptionStyleModel",
      "state": {
       "description_width": ""
      }
     },
     "4b99c731a290483b99a5e49a074ffac8": {
      "model_module": "@jupyter-widgets/base",
      "model_module_version": "1.2.0",
      "model_name": "LayoutModel",
      "state": {}
     },
     "4c97610b011f4d26947639d0accf557f": {
      "model_module": "@jupyter-widgets/controls",
      "model_module_version": "1.5.0",
      "model_name": "HTMLModel",
      "state": {
       "layout": "IPY_MODEL_52000e19b8ee4c36b70e28c533a46856",
       "style": "IPY_MODEL_da9999cd57b74b2b8c9341a0ce39f107",
       "value": "100%"
      }
     },
     "4d9e2505d85f4707a52e511464589c9a": {
      "model_module": "@jupyter-widgets/base",
      "model_module_version": "1.2.0",
      "model_name": "LayoutModel",
      "state": {}
     },
     "4f2cfe094fea4a2ab0027cc6805bc8e8": {
      "model_module": "@jupyter-widgets/base",
      "model_module_version": "1.2.0",
      "model_name": "LayoutModel",
      "state": {}
     },
     "4fccdf98c7ce4b7684228567bfc0f0de": {
      "model_module": "@jupyter-widgets/controls",
      "model_module_version": "1.5.0",
      "model_name": "HBoxModel",
      "state": {
       "children": [
        "IPY_MODEL_1b7ab4ce9b2b4d19b2cf497e850141fb",
        "IPY_MODEL_aeadf80f11b04217a57bd669a8279140",
        "IPY_MODEL_928ec929d9c546e185a8bc08fb934b09"
       ],
       "layout": "IPY_MODEL_3e2cac04e5854d17a2a6dca1ed5cd37f"
      }
     },
     "50930b584fad4ec8b9b9ff114f976d8b": {
      "model_module": "@jupyter-widgets/controls",
      "model_module_version": "1.5.0",
      "model_name": "DescriptionStyleModel",
      "state": {
       "description_width": ""
      }
     },
     "52000e19b8ee4c36b70e28c533a46856": {
      "model_module": "@jupyter-widgets/base",
      "model_module_version": "1.2.0",
      "model_name": "LayoutModel",
      "state": {}
     },
     "52186bd70593400592e1fc7103f86b71": {
      "model_module": "@jupyter-widgets/base",
      "model_module_version": "1.2.0",
      "model_name": "LayoutModel",
      "state": {}
     },
     "53481d2bc215496eb2ee57ee228bb9db": {
      "model_module": "@jupyter-widgets/controls",
      "model_module_version": "1.5.0",
      "model_name": "HTMLModel",
      "state": {
       "layout": "IPY_MODEL_5f0ce85b408b43248e13aa3dbd05d1cc",
       "style": "IPY_MODEL_77708fc571b6477bbb9d10e3af898168",
       "value": "100%"
      }
     },
     "539b6ca5a43f4ec9aad47095a0750fc7": {
      "model_module": "@jupyter-widgets/controls",
      "model_module_version": "1.5.0",
      "model_name": "FloatProgressModel",
      "state": {
       "bar_style": "danger",
       "layout": "IPY_MODEL_5c652dd603084859a844ecd230b47bb3",
       "max": 59,
       "style": "IPY_MODEL_c8cfb7cbcc9b4c6eb2578f1b0abab84d",
       "value": 27
      }
     },
     "54747a26642241a9a735de9db4bf122b": {
      "model_module": "@jupyter-widgets/base",
      "model_module_version": "1.2.0",
      "model_name": "LayoutModel",
      "state": {}
     },
     "58b8e58432c244deb273fb66e938e468": {
      "model_module": "@jupyter-widgets/controls",
      "model_module_version": "1.5.0",
      "model_name": "ProgressStyleModel",
      "state": {
       "description_width": ""
      }
     },
     "5c652dd603084859a844ecd230b47bb3": {
      "model_module": "@jupyter-widgets/base",
      "model_module_version": "1.2.0",
      "model_name": "LayoutModel",
      "state": {}
     },
     "5e1d8bb653da466fb183f0e28f9dbe98": {
      "model_module": "@jupyter-widgets/controls",
      "model_module_version": "1.5.0",
      "model_name": "DescriptionStyleModel",
      "state": {
       "description_width": ""
      }
     },
     "5f0ce85b408b43248e13aa3dbd05d1cc": {
      "model_module": "@jupyter-widgets/base",
      "model_module_version": "1.2.0",
      "model_name": "LayoutModel",
      "state": {}
     },
     "60c1961f72b44179b98e3ef7362cf714": {
      "model_module": "@jupyter-widgets/controls",
      "model_module_version": "1.5.0",
      "model_name": "HTMLModel",
      "state": {
       "layout": "IPY_MODEL_30f1cf06243447178e8660f75d22ca24",
       "style": "IPY_MODEL_50930b584fad4ec8b9b9ff114f976d8b",
       "value": " 0/59 [02:57&lt;?, ?it/s]"
      }
     },
     "63f65a637bfb44f98c4b3dab99e264d3": {
      "model_module": "@jupyter-widgets/controls",
      "model_module_version": "1.5.0",
      "model_name": "HTMLModel",
      "state": {
       "layout": "IPY_MODEL_43273f75531647adb1d0de2dc1187485",
       "style": "IPY_MODEL_ba08703446764400aa5a3540cb59bcd5",
       "value": " 59/59 [03:33&lt;00:00,  3.62s/it]"
      }
     },
     "644c85a8164b4b29acc27350465a8564": {
      "model_module": "@jupyter-widgets/base",
      "model_module_version": "1.2.0",
      "model_name": "LayoutModel",
      "state": {}
     },
     "6664c94eddd2411786b0eb65ee2d5b90": {
      "model_module": "@jupyter-widgets/controls",
      "model_module_version": "1.5.0",
      "model_name": "HTMLModel",
      "state": {
       "layout": "IPY_MODEL_b4a12b503fd24671a1f336c27894e608",
       "style": "IPY_MODEL_ef3c32a7829f426aab98cbcf6e598f51",
       "value": "  0%"
      }
     },
     "6990774df7464286a1e888a5f59f4704": {
      "model_module": "@jupyter-widgets/controls",
      "model_module_version": "1.5.0",
      "model_name": "HTMLModel",
      "state": {
       "layout": "IPY_MODEL_478d0286ff9944a38bc091ee142bd1a6",
       "style": "IPY_MODEL_23fd37c825a945e0bd29a6dc170d43e2",
       "value": " 59/59 [00:29&lt;00:00,  2.03it/s]"
      }
     },
     "6ddb7b37ea1642d787ccde4f7fdbfb21": {
      "model_module": "@jupyter-widgets/base",
      "model_module_version": "1.2.0",
      "model_name": "LayoutModel",
      "state": {}
     },
     "6fdaa3133b844794beaf4d6a75b20e03": {
      "model_module": "@jupyter-widgets/controls",
      "model_module_version": "1.5.0",
      "model_name": "HBoxModel",
      "state": {
       "children": [
        "IPY_MODEL_f6752c1ddfb045e5b5be64f558c05f2b",
        "IPY_MODEL_539b6ca5a43f4ec9aad47095a0750fc7",
        "IPY_MODEL_b75293c07d5e461c8e24d9f0374c77dc"
       ],
       "layout": "IPY_MODEL_f12df5f06f3e4548ab233aec1233ff39"
      }
     },
     "703a87fdb80a4d6c911f32a2633544a9": {
      "model_module": "@jupyter-widgets/controls",
      "model_module_version": "1.5.0",
      "model_name": "ProgressStyleModel",
      "state": {
       "description_width": ""
      }
     },
     "716b0e2ab4df467ca97977ef3c8b380a": {
      "model_module": "@jupyter-widgets/base",
      "model_module_version": "1.2.0",
      "model_name": "LayoutModel",
      "state": {}
     },
     "753cd9ed49c143a984f647d1c74fe9aa": {
      "model_module": "@jupyter-widgets/controls",
      "model_module_version": "1.5.0",
      "model_name": "HTMLModel",
      "state": {
       "layout": "IPY_MODEL_1aa185e73b864d0ca0a29999d87eba0a",
       "style": "IPY_MODEL_5e1d8bb653da466fb183f0e28f9dbe98",
       "value": "100%"
      }
     },
     "77708fc571b6477bbb9d10e3af898168": {
      "model_module": "@jupyter-widgets/controls",
      "model_module_version": "1.5.0",
      "model_name": "DescriptionStyleModel",
      "state": {
       "description_width": ""
      }
     },
     "7a147455c6a8462eb76f37a71a4db557": {
      "model_module": "@jupyter-widgets/controls",
      "model_module_version": "1.5.0",
      "model_name": "HBoxModel",
      "state": {
       "children": [
        "IPY_MODEL_6664c94eddd2411786b0eb65ee2d5b90",
        "IPY_MODEL_84573e0dcd174256a6e5a798ecfb0f62",
        "IPY_MODEL_d037821f10214430b575b356a1436830"
       ],
       "layout": "IPY_MODEL_c87cc13d40bc41e8b169888e1e9a14d0"
      }
     },
     "83622496928b4357a7b99827f7036e58": {
      "model_module": "@jupyter-widgets/controls",
      "model_module_version": "1.5.0",
      "model_name": "FloatProgressModel",
      "state": {
       "bar_style": "danger",
       "layout": "IPY_MODEL_54747a26642241a9a735de9db4bf122b",
       "max": 59,
       "style": "IPY_MODEL_d97109675a5248b69d4dda910ce2841d"
      }
     },
     "84573e0dcd174256a6e5a798ecfb0f62": {
      "model_module": "@jupyter-widgets/controls",
      "model_module_version": "1.5.0",
      "model_name": "FloatProgressModel",
      "state": {
       "bar_style": "danger",
       "layout": "IPY_MODEL_4d9e2505d85f4707a52e511464589c9a",
       "max": 59,
       "style": "IPY_MODEL_43caaf9bad8d484b82a2a690b1a4eb87"
      }
     },
     "8b0fa9cb80fe41d4be9f257cb680f3d3": {
      "model_module": "@jupyter-widgets/controls",
      "model_module_version": "1.5.0",
      "model_name": "HTMLModel",
      "state": {
       "layout": "IPY_MODEL_eed83057782c4e9196158640b07915ab",
       "style": "IPY_MODEL_f7ad1a233d3b41bfa7fb65672c392ad2",
       "value": " 59/59 [00:28&lt;00:00,  2.05it/s]"
      }
     },
     "8e6c3055ef2942199178040beb8644f9": {
      "model_module": "@jupyter-widgets/controls",
      "model_module_version": "1.5.0",
      "model_name": "ProgressStyleModel",
      "state": {
       "description_width": ""
      }
     },
     "8f372c84c2374f7eb37fca5eb277e711": {
      "model_module": "@jupyter-widgets/controls",
      "model_module_version": "1.5.0",
      "model_name": "DescriptionStyleModel",
      "state": {
       "description_width": ""
      }
     },
     "928ec929d9c546e185a8bc08fb934b09": {
      "model_module": "@jupyter-widgets/controls",
      "model_module_version": "1.5.0",
      "model_name": "HTMLModel",
      "state": {
       "layout": "IPY_MODEL_dde07299cadd40b8acfec8a4072fd8f5",
       "style": "IPY_MODEL_c3b040487bb04ae2a5b62d8e742360a0",
       "value": " 59/59 [09:52&lt;00:00, 10.04s/it]"
      }
     },
     "960a78b30d464e29ab9fb627866349e3": {
      "model_module": "@jupyter-widgets/base",
      "model_module_version": "1.2.0",
      "model_name": "LayoutModel",
      "state": {}
     },
     "9b83e087f56c46338f9437f6efb596d3": {
      "model_module": "@jupyter-widgets/controls",
      "model_module_version": "1.5.0",
      "model_name": "FloatProgressModel",
      "state": {
       "bar_style": "success",
       "layout": "IPY_MODEL_a8c5105c44ff4b15b381ae075c57641b",
       "max": 59,
       "style": "IPY_MODEL_703a87fdb80a4d6c911f32a2633544a9",
       "value": 59
      }
     },
     "9c0c69d12f5349f2a6642b58cb44ab29": {
      "model_module": "@jupyter-widgets/base",
      "model_module_version": "1.2.0",
      "model_name": "LayoutModel",
      "state": {}
     },
     "9d625c17178c465582c2d717b53e6f6e": {
      "model_module": "@jupyter-widgets/base",
      "model_module_version": "1.2.0",
      "model_name": "LayoutModel",
      "state": {}
     },
     "9d71147263e7416a998a68642bfdb799": {
      "model_module": "@jupyter-widgets/controls",
      "model_module_version": "1.5.0",
      "model_name": "DescriptionStyleModel",
      "state": {
       "description_width": ""
      }
     },
     "a1ef1b1e3e6441f1a4a3749a723cd87a": {
      "model_module": "@jupyter-widgets/base",
      "model_module_version": "1.2.0",
      "model_name": "LayoutModel",
      "state": {}
     },
     "a7183d4c664a4f029c11f30eebb03149": {
      "model_module": "@jupyter-widgets/controls",
      "model_module_version": "1.5.0",
      "model_name": "DescriptionStyleModel",
      "state": {
       "description_width": ""
      }
     },
     "a8547c28ea574215ad129961733815ed": {
      "model_module": "@jupyter-widgets/controls",
      "model_module_version": "1.5.0",
      "model_name": "ProgressStyleModel",
      "state": {
       "description_width": ""
      }
     },
     "a8c5105c44ff4b15b381ae075c57641b": {
      "model_module": "@jupyter-widgets/base",
      "model_module_version": "1.2.0",
      "model_name": "LayoutModel",
      "state": {}
     },
     "aab091e7a3b048bcbddc589dbf53e81e": {
      "model_module": "@jupyter-widgets/base",
      "model_module_version": "1.2.0",
      "model_name": "LayoutModel",
      "state": {}
     },
     "aeadf80f11b04217a57bd669a8279140": {
      "model_module": "@jupyter-widgets/controls",
      "model_module_version": "1.5.0",
      "model_name": "FloatProgressModel",
      "state": {
       "bar_style": "success",
       "layout": "IPY_MODEL_fa84119ff05d41bbba90545dd50028ad",
       "max": 59,
       "style": "IPY_MODEL_58b8e58432c244deb273fb66e938e468",
       "value": 59
      }
     },
     "b4a12b503fd24671a1f336c27894e608": {
      "model_module": "@jupyter-widgets/base",
      "model_module_version": "1.2.0",
      "model_name": "LayoutModel",
      "state": {}
     },
     "b4bfe1c862024ca2beb51fe5894532c9": {
      "model_module": "@jupyter-widgets/base",
      "model_module_version": "1.2.0",
      "model_name": "LayoutModel",
      "state": {}
     },
     "b5a0cd63f08640dcbfcff3a080a42b1e": {
      "model_module": "@jupyter-widgets/controls",
      "model_module_version": "1.5.0",
      "model_name": "HBoxModel",
      "state": {
       "children": [
        "IPY_MODEL_fec1771e0812435b8274990bc50b6924",
        "IPY_MODEL_83622496928b4357a7b99827f7036e58",
        "IPY_MODEL_e785cc6a3a2744ca8713dc45b1056c3e"
       ],
       "layout": "IPY_MODEL_4282bc16e6464164bd89b7d185fa9d42"
      }
     },
     "b75293c07d5e461c8e24d9f0374c77dc": {
      "model_module": "@jupyter-widgets/controls",
      "model_module_version": "1.5.0",
      "model_name": "HTMLModel",
      "state": {
       "layout": "IPY_MODEL_377761297f5b4787aa2e5c7972369c57",
       "style": "IPY_MODEL_12486442fe774b5e9fe45527ff54b55a",
       "value": " 27/59 [47:31&lt;56:20, 105.63s/it]"
      }
     },
     "b7826a4b65214b2cb0a17e12a94d61b0": {
      "model_module": "@jupyter-widgets/base",
      "model_module_version": "1.2.0",
      "model_name": "LayoutModel",
      "state": {}
     },
     "ba08703446764400aa5a3540cb59bcd5": {
      "model_module": "@jupyter-widgets/controls",
      "model_module_version": "1.5.0",
      "model_name": "DescriptionStyleModel",
      "state": {
       "description_width": ""
      }
     },
     "bb202300065041868bc79a9162155792": {
      "model_module": "@jupyter-widgets/base",
      "model_module_version": "1.2.0",
      "model_name": "LayoutModel",
      "state": {}
     },
     "be6e15bfee62486f81486fd10c74dc5f": {
      "model_module": "@jupyter-widgets/base",
      "model_module_version": "1.2.0",
      "model_name": "LayoutModel",
      "state": {}
     },
     "c3b040487bb04ae2a5b62d8e742360a0": {
      "model_module": "@jupyter-widgets/controls",
      "model_module_version": "1.5.0",
      "model_name": "DescriptionStyleModel",
      "state": {
       "description_width": ""
      }
     },
     "c87cc13d40bc41e8b169888e1e9a14d0": {
      "model_module": "@jupyter-widgets/base",
      "model_module_version": "1.2.0",
      "model_name": "LayoutModel",
      "state": {}
     },
     "c8cfb7cbcc9b4c6eb2578f1b0abab84d": {
      "model_module": "@jupyter-widgets/controls",
      "model_module_version": "1.5.0",
      "model_name": "ProgressStyleModel",
      "state": {
       "description_width": ""
      }
     },
     "ca854095379d45158858058555c28311": {
      "model_module": "@jupyter-widgets/base",
      "model_module_version": "1.2.0",
      "model_name": "LayoutModel",
      "state": {}
     },
     "cbb06e15bfae44ada99b3ce7ef94f864": {
      "model_module": "@jupyter-widgets/controls",
      "model_module_version": "1.5.0",
      "model_name": "FloatProgressModel",
      "state": {
       "bar_style": "success",
       "layout": "IPY_MODEL_a1ef1b1e3e6441f1a4a3749a723cd87a",
       "max": 59,
       "style": "IPY_MODEL_36a5feff1d314db98300bc5b07a44cb1",
       "value": 59
      }
     },
     "ce6b5fac711547618ad66afd1a8e1b93": {
      "model_module": "@jupyter-widgets/controls",
      "model_module_version": "1.5.0",
      "model_name": "HBoxModel",
      "state": {
       "children": [
        "IPY_MODEL_0ba31e6a11ef45fc957091c9eb053270",
        "IPY_MODEL_9b83e087f56c46338f9437f6efb596d3",
        "IPY_MODEL_d24b5d9da7b846baa259a81f134a9267"
       ],
       "layout": "IPY_MODEL_6ddb7b37ea1642d787ccde4f7fdbfb21"
      }
     },
     "cf09a357664f405285558ddf8306be45": {
      "model_module": "@jupyter-widgets/controls",
      "model_module_version": "1.5.0",
      "model_name": "DescriptionStyleModel",
      "state": {
       "description_width": ""
      }
     },
     "d037821f10214430b575b356a1436830": {
      "model_module": "@jupyter-widgets/controls",
      "model_module_version": "1.5.0",
      "model_name": "HTMLModel",
      "state": {
       "layout": "IPY_MODEL_9d625c17178c465582c2d717b53e6f6e",
       "style": "IPY_MODEL_da4f083bb8574ae7a721f4826e8efc00",
       "value": " 0/59 [01:00&lt;?, ?it/s]"
      }
     },
     "d1cbdea7fd3b4771a515b81aeb6d5a49": {
      "model_module": "@jupyter-widgets/base",
      "model_module_version": "1.2.0",
      "model_name": "LayoutModel",
      "state": {}
     },
     "d1cc76ff12d447968ada78d1910b60df": {
      "model_module": "@jupyter-widgets/controls",
      "model_module_version": "1.5.0",
      "model_name": "DescriptionStyleModel",
      "state": {
       "description_width": ""
      }
     },
     "d24b5d9da7b846baa259a81f134a9267": {
      "model_module": "@jupyter-widgets/controls",
      "model_module_version": "1.5.0",
      "model_name": "HTMLModel",
      "state": {
       "layout": "IPY_MODEL_4f2cfe094fea4a2ab0027cc6805bc8e8",
       "style": "IPY_MODEL_4a51a780cdab45cfb2fc823bd0c87962",
       "value": " 59/59 [37:06&lt;00:00, 37.74s/it]"
      }
     },
     "d49eca70fada4ca8b6b1257a783dc2d7": {
      "model_module": "@jupyter-widgets/controls",
      "model_module_version": "1.5.0",
      "model_name": "DescriptionStyleModel",
      "state": {
       "description_width": ""
      }
     },
     "d64d9b0c447441cb9b9a2d262f67d82c": {
      "model_module": "@jupyter-widgets/base",
      "model_module_version": "1.2.0",
      "model_name": "LayoutModel",
      "state": {}
     },
     "d6d1ac1ae6b74170b2ad3b584a5b945d": {
      "model_module": "@jupyter-widgets/controls",
      "model_module_version": "1.5.0",
      "model_name": "HTMLModel",
      "state": {
       "layout": "IPY_MODEL_960a78b30d464e29ab9fb627866349e3",
       "style": "IPY_MODEL_29f9379b4b7c450a8ea2a12e97868681",
       "value": " 59/59 [2:53:50&lt;00:00, 176.78s/it]"
      }
     },
     "d7ae59fbb5b44d6aabe652713651c9a1": {
      "model_module": "@jupyter-widgets/controls",
      "model_module_version": "1.5.0",
      "model_name": "ProgressStyleModel",
      "state": {
       "description_width": ""
      }
     },
     "d89021fd38d0452b9956456e5bbe623c": {
      "model_module": "@jupyter-widgets/controls",
      "model_module_version": "1.5.0",
      "model_name": "FloatProgressModel",
      "state": {
       "bar_style": "danger",
       "layout": "IPY_MODEL_b4bfe1c862024ca2beb51fe5894532c9",
       "max": 59,
       "style": "IPY_MODEL_d7ae59fbb5b44d6aabe652713651c9a1"
      }
     },
     "d97109675a5248b69d4dda910ce2841d": {
      "model_module": "@jupyter-widgets/controls",
      "model_module_version": "1.5.0",
      "model_name": "ProgressStyleModel",
      "state": {
       "description_width": ""
      }
     },
     "da4f083bb8574ae7a721f4826e8efc00": {
      "model_module": "@jupyter-widgets/controls",
      "model_module_version": "1.5.0",
      "model_name": "DescriptionStyleModel",
      "state": {
       "description_width": ""
      }
     },
     "da9999cd57b74b2b8c9341a0ce39f107": {
      "model_module": "@jupyter-widgets/controls",
      "model_module_version": "1.5.0",
      "model_name": "DescriptionStyleModel",
      "state": {
       "description_width": ""
      }
     },
     "dde07299cadd40b8acfec8a4072fd8f5": {
      "model_module": "@jupyter-widgets/base",
      "model_module_version": "1.2.0",
      "model_name": "LayoutModel",
      "state": {}
     },
     "e0b2b1171da343629034109fbb6474fb": {
      "model_module": "@jupyter-widgets/controls",
      "model_module_version": "1.5.0",
      "model_name": "HTMLModel",
      "state": {
       "layout": "IPY_MODEL_0bfc831950c640fb857e832333d3f6b6",
       "style": "IPY_MODEL_fa4e70836d484645b25171ae469c8922",
       "value": " 59/59 [2:39:37&lt;00:00, 162.33s/it]"
      }
     },
     "e24f8f10e1b94e03a5781e70db184b3b": {
      "model_module": "@jupyter-widgets/base",
      "model_module_version": "1.2.0",
      "model_name": "LayoutModel",
      "state": {}
     },
     "e3eec5de4e1940d5968c21298cb1f7e4": {
      "model_module": "@jupyter-widgets/controls",
      "model_module_version": "1.5.0",
      "model_name": "HTMLModel",
      "state": {
       "layout": "IPY_MODEL_bb202300065041868bc79a9162155792",
       "style": "IPY_MODEL_cf09a357664f405285558ddf8306be45",
       "value": "100%"
      }
     },
     "e66089523f114c1eaed4fcd1277111ca": {
      "model_module": "@jupyter-widgets/base",
      "model_module_version": "1.2.0",
      "model_name": "LayoutModel",
      "state": {}
     },
     "e785cc6a3a2744ca8713dc45b1056c3e": {
      "model_module": "@jupyter-widgets/controls",
      "model_module_version": "1.5.0",
      "model_name": "HTMLModel",
      "state": {
       "layout": "IPY_MODEL_4b99c731a290483b99a5e49a074ffac8",
       "style": "IPY_MODEL_34d1141110ec4e5d9b5d47194672fcc2",
       "value": " 0/59 [05:17&lt;?, ?it/s]"
      }
     },
     "e8d9c375eeec480baa1d3e4f06f7f260": {
      "model_module": "@jupyter-widgets/controls",
      "model_module_version": "1.5.0",
      "model_name": "HBoxModel",
      "state": {
       "children": [
        "IPY_MODEL_49473e2a27b945698744a5071527a77b",
        "IPY_MODEL_2c501dc55e7940bca82542413c30fc7c",
        "IPY_MODEL_e0b2b1171da343629034109fbb6474fb"
       ],
       "layout": "IPY_MODEL_e24f8f10e1b94e03a5781e70db184b3b"
      }
     },
     "eed83057782c4e9196158640b07915ab": {
      "model_module": "@jupyter-widgets/base",
      "model_module_version": "1.2.0",
      "model_name": "LayoutModel",
      "state": {}
     },
     "ef3c32a7829f426aab98cbcf6e598f51": {
      "model_module": "@jupyter-widgets/controls",
      "model_module_version": "1.5.0",
      "model_name": "DescriptionStyleModel",
      "state": {
       "description_width": ""
      }
     },
     "f12df5f06f3e4548ab233aec1233ff39": {
      "model_module": "@jupyter-widgets/base",
      "model_module_version": "1.2.0",
      "model_name": "LayoutModel",
      "state": {}
     },
     "f432dc762cbf41b6aeb8dd98f9c19645": {
      "model_module": "@jupyter-widgets/controls",
      "model_module_version": "1.5.0",
      "model_name": "ProgressStyleModel",
      "state": {
       "description_width": ""
      }
     },
     "f6752c1ddfb045e5b5be64f558c05f2b": {
      "model_module": "@jupyter-widgets/controls",
      "model_module_version": "1.5.0",
      "model_name": "HTMLModel",
      "state": {
       "layout": "IPY_MODEL_347cc1a94add49fe841661a08a381b04",
       "style": "IPY_MODEL_9d71147263e7416a998a68642bfdb799",
       "value": " 46%"
      }
     },
     "f6a0773e1c0b43bab2a5d371255cea81": {
      "model_module": "@jupyter-widgets/controls",
      "model_module_version": "1.5.0",
      "model_name": "FloatProgressModel",
      "state": {
       "bar_style": "success",
       "layout": "IPY_MODEL_644c85a8164b4b29acc27350465a8564",
       "max": 59,
       "style": "IPY_MODEL_0f8623632b264d8c8668884b794b3cbc",
       "value": 59
      }
     },
     "f7ad1a233d3b41bfa7fb65672c392ad2": {
      "model_module": "@jupyter-widgets/controls",
      "model_module_version": "1.5.0",
      "model_name": "DescriptionStyleModel",
      "state": {
       "description_width": ""
      }
     },
     "fa4e70836d484645b25171ae469c8922": {
      "model_module": "@jupyter-widgets/controls",
      "model_module_version": "1.5.0",
      "model_name": "DescriptionStyleModel",
      "state": {
       "description_width": ""
      }
     },
     "fa84119ff05d41bbba90545dd50028ad": {
      "model_module": "@jupyter-widgets/base",
      "model_module_version": "1.2.0",
      "model_name": "LayoutModel",
      "state": {}
     },
     "fec1771e0812435b8274990bc50b6924": {
      "model_module": "@jupyter-widgets/controls",
      "model_module_version": "1.5.0",
      "model_name": "HTMLModel",
      "state": {
       "layout": "IPY_MODEL_1f02d8cec1c74d578050562e996df2ad",
       "style": "IPY_MODEL_d49eca70fada4ca8b6b1257a783dc2d7",
       "value": "  0%"
      }
     },
     "fecd077cb3ed4a408e41ce980fff00c5": {
      "model_module": "@jupyter-widgets/controls",
      "model_module_version": "1.5.0",
      "model_name": "HBoxModel",
      "state": {
       "children": [
        "IPY_MODEL_e3eec5de4e1940d5968c21298cb1f7e4",
        "IPY_MODEL_120d4a411c2540c2aacceb0a4157a192",
        "IPY_MODEL_d6d1ac1ae6b74170b2ad3b584a5b945d"
       ],
       "layout": "IPY_MODEL_ca854095379d45158858058555c28311"
      }
     }
    },
    "version_major": 2,
    "version_minor": 0
   }
  }
 },
 "nbformat": 4,
 "nbformat_minor": 4
}
