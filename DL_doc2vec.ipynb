{
 "cells": [
  {
   "cell_type": "code",
   "execution_count": 1,
   "metadata": {},
   "outputs": [],
   "source": [
    "import warnings\n",
    "warnings.filterwarnings(action='ignore')\n",
    "\n",
    "import os\n",
    "import pandas as pd\n",
    "import numpy as np\n",
    "import random\n",
    "import json\n",
    "from itertools import chain\n",
    "\n",
    "import tensorflow as tf\n",
    "from keras.models import Sequential\n",
    "from keras.layers import Dense, Activation, Flatten, Dropout\n",
    "from keras.wrappers.scikit_learn import KerasRegressor\n",
    "\n",
    "from sklearn.metrics import mean_absolute_error, r2_score, mean_squared_error\n",
    "from sklearn.preprocessing import StandardScaler\n",
    "from sklearn.model_selection import train_test_split, RandomizedSearchCV, KFold\n",
    "from sklearn.ensemble import RandomForestClassifier\n",
    "from sklearn import linear_model\n",
    "\n",
    "import matplotlib.pyplot as plt\n",
    "plt.style.use('seaborn-whitegrid')\n",
    "%matplotlib inline\n",
    "import matplotlib.pyplot as plt\n",
    "import numpy as np\n",
    "import pandas as pd\n",
    "from tqdm.notebook import tqdm\n",
    "\n",
    "tf.random.Generator = None\n",
    "tf.random.set_seed(42)\n",
    "np.random.seed(42)"
   ]
  },
  {
   "cell_type": "code",
   "execution_count": 2,
   "metadata": {},
   "outputs": [
    {
     "name": "stdout",
     "output_type": "stream",
     "text": [
      "['/device:CPU:0']\n"
     ]
    }
   ],
   "source": [
    "from tensorflow.python.client import device_lib\n",
    "def get_available_devices():\n",
    "    local_device_protos = device_lib.list_local_devices()\n",
    "    return [x.name for x in local_device_protos]\n",
    "print(get_available_devices())"
   ]
  },
  {
   "cell_type": "code",
   "execution_count": 3,
   "metadata": {},
   "outputs": [
    {
     "data": {
      "text/plain": [
       "'2.3.0'"
      ]
     },
     "execution_count": 3,
     "metadata": {},
     "output_type": "execute_result"
    }
   ],
   "source": [
    "tf.version.VERSION"
   ]
  },
  {
   "cell_type": "code",
   "execution_count": 4,
   "metadata": {},
   "outputs": [
    {
     "data": {
      "text/plain": [
       "[]"
      ]
     },
     "execution_count": 4,
     "metadata": {},
     "output_type": "execute_result"
    }
   ],
   "source": [
    "tf.config.list_physical_devices('GPU')"
   ]
  },
  {
   "cell_type": "code",
   "execution_count": 5,
   "metadata": {},
   "outputs": [],
   "source": [
    "PATH = \"C:/Users/Tim/.keras/datasets/wikipedia_real_estate/\"\n",
    "MAX_DIST = 5500\n",
    "K_FOLDS = 55"
   ]
  },
  {
   "cell_type": "code",
   "execution_count": 6,
   "metadata": {},
   "outputs": [
    {
     "name": "stdout",
     "output_type": "stream",
     "text": [
      "(9556, 365)\n"
     ]
    },
    {
     "data": {
      "text/html": [
       "<div>\n",
       "<style scoped>\n",
       "    .dataframe tbody tr th:only-of-type {\n",
       "        vertical-align: middle;\n",
       "    }\n",
       "\n",
       "    .dataframe tbody tr th {\n",
       "        vertical-align: top;\n",
       "    }\n",
       "\n",
       "    .dataframe thead th {\n",
       "        text-align: right;\n",
       "    }\n",
       "</style>\n",
       "<table border=\"1\" class=\"dataframe\">\n",
       "  <thead>\n",
       "    <tr style=\"text-align: right;\">\n",
       "      <th></th>\n",
       "      <th>_id</th>\n",
       "      <th>PROPERTYZIP</th>\n",
       "      <th>MUNICODE</th>\n",
       "      <th>SCHOOLCODE</th>\n",
       "      <th>NEIGHCODE</th>\n",
       "      <th>LOTAREA</th>\n",
       "      <th>SALEDATE</th>\n",
       "      <th>SALEPRICE</th>\n",
       "      <th>FAIRMARKETTOTAL</th>\n",
       "      <th>STORIES</th>\n",
       "      <th>...</th>\n",
       "      <th>vec_291</th>\n",
       "      <th>vec_292</th>\n",
       "      <th>vec_293</th>\n",
       "      <th>vec_294</th>\n",
       "      <th>vec_295</th>\n",
       "      <th>vec_296</th>\n",
       "      <th>vec_297</th>\n",
       "      <th>vec_298</th>\n",
       "      <th>vec_299</th>\n",
       "      <th>vec_300</th>\n",
       "    </tr>\n",
       "  </thead>\n",
       "  <tbody>\n",
       "    <tr>\n",
       "      <th>0</th>\n",
       "      <td>362058</td>\n",
       "      <td>15212</td>\n",
       "      <td>126</td>\n",
       "      <td>47</td>\n",
       "      <td>12603</td>\n",
       "      <td>5329</td>\n",
       "      <td>10-27-2017</td>\n",
       "      <td>113000.0</td>\n",
       "      <td>69200</td>\n",
       "      <td>1.0</td>\n",
       "      <td>...</td>\n",
       "      <td>-11.161915</td>\n",
       "      <td>-22.347458</td>\n",
       "      <td>-58.267780</td>\n",
       "      <td>36.883691</td>\n",
       "      <td>34.385654</td>\n",
       "      <td>-28.841629</td>\n",
       "      <td>-41.872586</td>\n",
       "      <td>-7.783107</td>\n",
       "      <td>16.725096</td>\n",
       "      <td>-49.924575</td>\n",
       "    </tr>\n",
       "    <tr>\n",
       "      <th>1</th>\n",
       "      <td>544290</td>\n",
       "      <td>15017</td>\n",
       "      <td>946</td>\n",
       "      <td>36</td>\n",
       "      <td>94601</td>\n",
       "      <td>10800</td>\n",
       "      <td>09-27-2016</td>\n",
       "      <td>320000.0</td>\n",
       "      <td>269900</td>\n",
       "      <td>2.0</td>\n",
       "      <td>...</td>\n",
       "      <td>0.564963</td>\n",
       "      <td>0.578768</td>\n",
       "      <td>-0.487165</td>\n",
       "      <td>0.260584</td>\n",
       "      <td>0.688843</td>\n",
       "      <td>0.450135</td>\n",
       "      <td>0.328475</td>\n",
       "      <td>-1.370416</td>\n",
       "      <td>-0.124512</td>\n",
       "      <td>-0.585313</td>\n",
       "    </tr>\n",
       "    <tr>\n",
       "      <th>2</th>\n",
       "      <td>314083</td>\n",
       "      <td>15090</td>\n",
       "      <td>935</td>\n",
       "      <td>3</td>\n",
       "      <td>93503</td>\n",
       "      <td>114476</td>\n",
       "      <td>03-25-2017</td>\n",
       "      <td>545000.0</td>\n",
       "      <td>450000</td>\n",
       "      <td>1.0</td>\n",
       "      <td>...</td>\n",
       "      <td>-0.515496</td>\n",
       "      <td>0.564902</td>\n",
       "      <td>-0.395080</td>\n",
       "      <td>0.352535</td>\n",
       "      <td>1.316018</td>\n",
       "      <td>-0.663235</td>\n",
       "      <td>-0.527416</td>\n",
       "      <td>-1.167772</td>\n",
       "      <td>0.382137</td>\n",
       "      <td>-1.216203</td>\n",
       "    </tr>\n",
       "    <tr>\n",
       "      <th>3</th>\n",
       "      <td>314280</td>\n",
       "      <td>15241</td>\n",
       "      <td>950</td>\n",
       "      <td>42</td>\n",
       "      <td>95003</td>\n",
       "      <td>43197</td>\n",
       "      <td>06-09-2016</td>\n",
       "      <td>315000.0</td>\n",
       "      <td>274000</td>\n",
       "      <td>2.0</td>\n",
       "      <td>...</td>\n",
       "      <td>-0.843800</td>\n",
       "      <td>0.850326</td>\n",
       "      <td>-1.453235</td>\n",
       "      <td>1.139763</td>\n",
       "      <td>1.222374</td>\n",
       "      <td>0.098636</td>\n",
       "      <td>0.416199</td>\n",
       "      <td>-0.651278</td>\n",
       "      <td>0.551857</td>\n",
       "      <td>-0.970972</td>\n",
       "    </tr>\n",
       "    <tr>\n",
       "      <th>4</th>\n",
       "      <td>314812</td>\n",
       "      <td>15239</td>\n",
       "      <td>880</td>\n",
       "      <td>31</td>\n",
       "      <td>88006</td>\n",
       "      <td>12390</td>\n",
       "      <td>01-31-2017</td>\n",
       "      <td>174900.0</td>\n",
       "      <td>154100</td>\n",
       "      <td>2.0</td>\n",
       "      <td>...</td>\n",
       "      <td>0.093424</td>\n",
       "      <td>0.307850</td>\n",
       "      <td>-0.288605</td>\n",
       "      <td>-0.195070</td>\n",
       "      <td>0.105783</td>\n",
       "      <td>0.259190</td>\n",
       "      <td>-0.252701</td>\n",
       "      <td>-0.081755</td>\n",
       "      <td>0.020272</td>\n",
       "      <td>0.007679</td>\n",
       "    </tr>\n",
       "    <tr>\n",
       "      <th>5</th>\n",
       "      <td>315579</td>\n",
       "      <td>15143</td>\n",
       "      <td>921</td>\n",
       "      <td>32</td>\n",
       "      <td>92102</td>\n",
       "      <td>10081</td>\n",
       "      <td>03-02-2015</td>\n",
       "      <td>300000.0</td>\n",
       "      <td>244600</td>\n",
       "      <td>2.0</td>\n",
       "      <td>...</td>\n",
       "      <td>-1.324403</td>\n",
       "      <td>0.911560</td>\n",
       "      <td>-1.716403</td>\n",
       "      <td>1.352408</td>\n",
       "      <td>2.978431</td>\n",
       "      <td>0.487358</td>\n",
       "      <td>0.427570</td>\n",
       "      <td>-1.317361</td>\n",
       "      <td>0.215381</td>\n",
       "      <td>-4.554982</td>\n",
       "    </tr>\n",
       "    <tr>\n",
       "      <th>6</th>\n",
       "      <td>315587</td>\n",
       "      <td>15235</td>\n",
       "      <td>934</td>\n",
       "      <td>30</td>\n",
       "      <td>93401</td>\n",
       "      <td>10257</td>\n",
       "      <td>05-15-2017</td>\n",
       "      <td>172500.0</td>\n",
       "      <td>144700</td>\n",
       "      <td>2.0</td>\n",
       "      <td>...</td>\n",
       "      <td>-0.952988</td>\n",
       "      <td>0.627167</td>\n",
       "      <td>-0.868237</td>\n",
       "      <td>-0.329723</td>\n",
       "      <td>0.124988</td>\n",
       "      <td>-0.809635</td>\n",
       "      <td>-0.156349</td>\n",
       "      <td>-0.663942</td>\n",
       "      <td>0.967186</td>\n",
       "      <td>-1.064437</td>\n",
       "    </tr>\n",
       "    <tr>\n",
       "      <th>7</th>\n",
       "      <td>362804</td>\n",
       "      <td>15102</td>\n",
       "      <td>876</td>\n",
       "      <td>5</td>\n",
       "      <td>87603</td>\n",
       "      <td>10920</td>\n",
       "      <td>07-11-2016</td>\n",
       "      <td>250000.0</td>\n",
       "      <td>217800</td>\n",
       "      <td>2.0</td>\n",
       "      <td>...</td>\n",
       "      <td>-2.378168</td>\n",
       "      <td>2.220375</td>\n",
       "      <td>-2.727512</td>\n",
       "      <td>3.190869</td>\n",
       "      <td>2.579345</td>\n",
       "      <td>0.515490</td>\n",
       "      <td>1.751006</td>\n",
       "      <td>-0.442953</td>\n",
       "      <td>1.041627</td>\n",
       "      <td>-0.224000</td>\n",
       "    </tr>\n",
       "    <tr>\n",
       "      <th>8</th>\n",
       "      <td>315758</td>\n",
       "      <td>15108</td>\n",
       "      <td>939</td>\n",
       "      <td>24</td>\n",
       "      <td>93903</td>\n",
       "      <td>54189</td>\n",
       "      <td>09-28-2018</td>\n",
       "      <td>199900.0</td>\n",
       "      <td>174700</td>\n",
       "      <td>1.0</td>\n",
       "      <td>...</td>\n",
       "      <td>-0.327966</td>\n",
       "      <td>-0.155460</td>\n",
       "      <td>-1.386409</td>\n",
       "      <td>1.093194</td>\n",
       "      <td>1.191741</td>\n",
       "      <td>-1.019465</td>\n",
       "      <td>0.510783</td>\n",
       "      <td>-1.635005</td>\n",
       "      <td>0.242452</td>\n",
       "      <td>-1.645133</td>\n",
       "    </tr>\n",
       "    <tr>\n",
       "      <th>9</th>\n",
       "      <td>315868</td>\n",
       "      <td>15133</td>\n",
       "      <td>837</td>\n",
       "      <td>35</td>\n",
       "      <td>83702</td>\n",
       "      <td>6569</td>\n",
       "      <td>05-12-2017</td>\n",
       "      <td>143000.0</td>\n",
       "      <td>117900</td>\n",
       "      <td>2.0</td>\n",
       "      <td>...</td>\n",
       "      <td>-1.566921</td>\n",
       "      <td>-1.098514</td>\n",
       "      <td>-0.586564</td>\n",
       "      <td>2.346540</td>\n",
       "      <td>0.679369</td>\n",
       "      <td>-1.833662</td>\n",
       "      <td>0.541122</td>\n",
       "      <td>-2.006910</td>\n",
       "      <td>1.579037</td>\n",
       "      <td>-4.843520</td>\n",
       "    </tr>\n",
       "  </tbody>\n",
       "</table>\n",
       "<p>10 rows × 365 columns</p>\n",
       "</div>"
      ],
      "text/plain": [
       "      _id  PROPERTYZIP  MUNICODE  SCHOOLCODE  NEIGHCODE  LOTAREA    SALEDATE  \\\n",
       "0  362058        15212       126          47      12603     5329  10-27-2017   \n",
       "1  544290        15017       946          36      94601    10800  09-27-2016   \n",
       "2  314083        15090       935           3      93503   114476  03-25-2017   \n",
       "3  314280        15241       950          42      95003    43197  06-09-2016   \n",
       "4  314812        15239       880          31      88006    12390  01-31-2017   \n",
       "5  315579        15143       921          32      92102    10081  03-02-2015   \n",
       "6  315587        15235       934          30      93401    10257  05-15-2017   \n",
       "7  362804        15102       876           5      87603    10920  07-11-2016   \n",
       "8  315758        15108       939          24      93903    54189  09-28-2018   \n",
       "9  315868        15133       837          35      83702     6569  05-12-2017   \n",
       "\n",
       "   SALEPRICE  FAIRMARKETTOTAL  STORIES  ...    vec_291    vec_292    vec_293  \\\n",
       "0   113000.0            69200      1.0  ... -11.161915 -22.347458 -58.267780   \n",
       "1   320000.0           269900      2.0  ...   0.564963   0.578768  -0.487165   \n",
       "2   545000.0           450000      1.0  ...  -0.515496   0.564902  -0.395080   \n",
       "3   315000.0           274000      2.0  ...  -0.843800   0.850326  -1.453235   \n",
       "4   174900.0           154100      2.0  ...   0.093424   0.307850  -0.288605   \n",
       "5   300000.0           244600      2.0  ...  -1.324403   0.911560  -1.716403   \n",
       "6   172500.0           144700      2.0  ...  -0.952988   0.627167  -0.868237   \n",
       "7   250000.0           217800      2.0  ...  -2.378168   2.220375  -2.727512   \n",
       "8   199900.0           174700      1.0  ...  -0.327966  -0.155460  -1.386409   \n",
       "9   143000.0           117900      2.0  ...  -1.566921  -1.098514  -0.586564   \n",
       "\n",
       "     vec_294    vec_295    vec_296    vec_297   vec_298    vec_299    vec_300  \n",
       "0  36.883691  34.385654 -28.841629 -41.872586 -7.783107  16.725096 -49.924575  \n",
       "1   0.260584   0.688843   0.450135   0.328475 -1.370416  -0.124512  -0.585313  \n",
       "2   0.352535   1.316018  -0.663235  -0.527416 -1.167772   0.382137  -1.216203  \n",
       "3   1.139763   1.222374   0.098636   0.416199 -0.651278   0.551857  -0.970972  \n",
       "4  -0.195070   0.105783   0.259190  -0.252701 -0.081755   0.020272   0.007679  \n",
       "5   1.352408   2.978431   0.487358   0.427570 -1.317361   0.215381  -4.554982  \n",
       "6  -0.329723   0.124988  -0.809635  -0.156349 -0.663942   0.967186  -1.064437  \n",
       "7   3.190869   2.579345   0.515490   1.751006 -0.442953   1.041627  -0.224000  \n",
       "8   1.093194   1.191741  -1.019465   0.510783 -1.635005   0.242452  -1.645133  \n",
       "9   2.346540   0.679369  -1.833662   0.541122 -2.006910   1.579037  -4.843520  \n",
       "\n",
       "[10 rows x 365 columns]"
      ]
     },
     "execution_count": 6,
     "metadata": {},
     "output_type": "execute_result"
    }
   ],
   "source": [
    "structured_wiki_text = pd.read_csv(\n",
    "    PATH + f\"structured_wiki_doc2vec_features_{MAX_DIST}.csv\")\n",
    "print(structured_wiki_text.shape)\n",
    "structured_wiki_text.head(10)"
   ]
  },
  {
   "cell_type": "markdown",
   "metadata": {},
   "source": [
    "### Defining useful functions"
   ]
  },
  {
   "cell_type": "code",
   "execution_count": 7,
   "metadata": {},
   "outputs": [],
   "source": [
    "def find_coord(x, df):\n",
    "    \"\"\"Returns id, latitude and longitude for property with given id\"\"\"\n",
    "    \n",
    "    _id, lat, long = x[0], x[1], x[2]\n",
    "    row = df[df[\"_id\"] == _id].iloc[0]\n",
    "    return row[\"_id\"], row[\"latitude\"], row[\"longitude\"]"
   ]
  },
  {
   "cell_type": "code",
   "execution_count": 8,
   "metadata": {},
   "outputs": [],
   "source": [
    "def make_train_test(df):\n",
    "    \"\"\"Returns train/test sets along with column names and df for saving errors\"\"\"\n",
    "\n",
    "    X = df.drop([\"PROPERTYZIP\", \"MUNICODE\", \"SCHOOLCODE\", \"NEIGHCODE\", \"SALEDATE\", \"SALEPRICE\",\n",
    "                 \"FAIRMARKETTOTAL\", \"latitude\", \"longitude\", \"SALEYEAR\"], axis=1)\n",
    "\n",
    "    # save col names for later\n",
    "    X_columns = list(X.columns)\n",
    "    # remove id from col list, since it will be filtered out later\n",
    "    X_columns.remove(\"_id\")\n",
    "    X = X.to_numpy()\n",
    "\n",
    "    y = df[\"SALEPRICE\"].to_numpy()\n",
    "\n",
    "    X_train, X_test, y_train, y_test = train_test_split(\n",
    "        X, y, test_size=0.25, random_state=42)\n",
    "\n",
    "    # save ids for later\n",
    "    train_ids = [x[0] for x in X_train]\n",
    "    test_ids = [x[0] for x in X_test]\n",
    "    X_train = X_train[:, 1:]  # remove first column (id)\n",
    "    X_test = X_test[:, 1:]    # remove first column (id)\n",
    "\n",
    "    X_train_train, X_train_val, y_train_train, y_train_val = train_test_split(\n",
    "        X_train, y_train, test_size=0.25, random_state=42)\n",
    "\n",
    "    print(f\"{X_train.shape}: {X_train_train.shape} + {X_train_val.shape}\")\n",
    "    print(f\"{y_train.shape}: {y_train_train.shape} + {y_train_val.shape}\")\n",
    "    print(X_test.shape)\n",
    "    print(y_test.shape)\n",
    "\n",
    "    # create error df\n",
    "    error_df = pd.DataFrame(\n",
    "        data={\"id\": test_ids, \"lat\": [0]*len(test_ids), \"long\": [0]*len(test_ids)})\n",
    "    error_df = error_df.apply(lambda x: find_coord(\n",
    "        x, df), axis=1, result_type='broadcast')\n",
    "    error_df.head(10)\n",
    "\n",
    "    return X_columns, [X, y, X_train, X_test, y_train, y_test, X_train_train, X_train_val, y_train_train, y_train_val], error_df"
   ]
  },
  {
   "cell_type": "code",
   "execution_count": 9,
   "metadata": {},
   "outputs": [],
   "source": [
    "def mean_absolute_percentage_error(y_true, y_pred):\n",
    "    \"\"\"Returns MAPE\"\"\"\n",
    "    \n",
    "    y_true, y_pred = np.array(y_true), np.array(y_pred)\n",
    "    return np.mean(np.abs((y_true - y_pred) / y_true)) * 100"
   ]
  },
  {
   "cell_type": "code",
   "execution_count": 10,
   "metadata": {},
   "outputs": [],
   "source": [
    "def get_metrics(y_true, y_pred, print_out=True):\n",
    "    \"\"\"Returns MAE, RMSE, MAPE and R^2\"\"\"\n",
    "    \n",
    "    mae = mean_absolute_error(y_true, y_pred)\n",
    "    rmse = mean_squared_error(y_true, y_pred, squared=False)\n",
    "    mape = mean_absolute_percentage_error(y_true, y_pred)\n",
    "    r_squared = r2_score(y_true, y_pred)\n",
    "\n",
    "    if print_out:\n",
    "        print(f\"MAE:  {round(mae)}\")\n",
    "        print(f\"RMSE: {round(rmse)}\")\n",
    "        print(f\"MAPE: {round(mape, 2)}%\")\n",
    "        print(f\"R^2:  {round(r_squared, 3)}\")\n",
    "\n",
    "    return mae, rmse, mape, r_squared"
   ]
  },
  {
   "cell_type": "code",
   "execution_count": 11,
   "metadata": {},
   "outputs": [],
   "source": [
    "def cross_validation(estimator, X, y):\n",
    "    \"\"\"Returns and prints cross validated MAE, RMSE, MAPE and R^2\"\"\"\n",
    "    \n",
    "    maes, rmses, mapes, r_squareds = [], [], [], []\n",
    "    X_cv = X[:, 1:]  # remove \"_id\" column\n",
    "\n",
    "    kf = KFold(n_splits=K_FOLDS, shuffle=True, random_state=42)\n",
    "    for train_index, test_index in tqdm(kf.split(X_cv), total=5):\n",
    "        X_train, X_test = X_cv[train_index], X_cv[test_index]\n",
    "        y_train, y_test = y[train_index], y[test_index]\n",
    "        \n",
    "        if \"linear_model\" in str(type(estimator)):\n",
    "            estimator.fit(X=X_train, y=y_train)\n",
    "        else:\n",
    "            estimator.fit(X=X_train, y=y_train, verbose=False)\n",
    "\n",
    "        y_pred_cv = estimator.predict(X_test)\n",
    "        mae, rmse, mape, r_squared = get_metrics(y_test, y_pred_cv, print_out=False)\n",
    "        maes.append(mae)\n",
    "        rmses.append(rmse)\n",
    "        mapes.append(mape)\n",
    "        r_squareds.append(r_squared)\n",
    "    \n",
    "    mae_cv, rmse_cv = round(np.mean(maes)), round(np.mean(rmses))\n",
    "    mape_cv, r_squared_cv = round(np.mean(mapes), 2), round(np.mean(r_squareds), 3)\n",
    "    \n",
    "    print(f\"MAE:  {mae_cv}\")\n",
    "    print(f\"RMSE: {rmse_cv}\")\n",
    "    print(f\"MAPE: {mape_cv}%\")\n",
    "    print(f\"R^2:  {r_squared_cv}\")\n",
    "    \n",
    "    return mae_cv, rmse_cv, mape_cv, r_squared_cv"
   ]
  },
  {
   "cell_type": "markdown",
   "metadata": {},
   "source": [
    "Create the data sets and error dataframe"
   ]
  },
  {
   "cell_type": "code",
   "execution_count": 12,
   "metadata": {},
   "outputs": [
    {
     "name": "stdout",
     "output_type": "stream",
     "text": [
      "(7167, 354): (5375, 354) + (1792, 354)\n",
      "(7167,): (5375,) + (1792,)\n",
      "(2389, 354)\n",
      "(2389,)\n"
     ]
    }
   ],
   "source": [
    "X_columns_text, data_sets, error_df = make_train_test(structured_wiki_text)\n",
    "X, y, X_train, X_test, y_train, y_test, X_train_train, X_train_val, y_train_train, y_train_val = data_sets"
   ]
  },
  {
   "cell_type": "markdown",
   "metadata": {},
   "source": [
    "Normalize data"
   ]
  },
  {
   "cell_type": "code",
   "execution_count": 13,
   "metadata": {},
   "outputs": [],
   "source": [
    "train_mean = X_train_train.mean(axis=0)\n",
    "train_std = X_train_train.std(axis=0)\n",
    "\n",
    "X_train_train = (X_train_train - train_mean) / train_std\n",
    "X_train_val = (X_train_val - train_mean) / train_std\n",
    "X_test = (X_test - train_mean) / train_std"
   ]
  },
  {
   "cell_type": "markdown",
   "metadata": {},
   "source": [
    "Create results df"
   ]
  },
  {
   "cell_type": "code",
   "execution_count": 14,
   "metadata": {},
   "outputs": [],
   "source": [
    "results_df = pd.DataFrame()"
   ]
  },
  {
   "cell_type": "markdown",
   "metadata": {},
   "source": [
    "## Combining structured and text features"
   ]
  },
  {
   "cell_type": "code",
   "execution_count": 15,
   "metadata": {},
   "outputs": [
    {
     "name": "stdout",
     "output_type": "stream",
     "text": [
      "Model: \"sequential\"\n",
      "_________________________________________________________________\n",
      "Layer (type)                 Output Shape              Param #   \n",
      "=================================================================\n",
      "dense (Dense)                (None, 32)                11360     \n",
      "_________________________________________________________________\n",
      "dense_1 (Dense)              (None, 16)                528       \n",
      "_________________________________________________________________\n",
      "dense_2 (Dense)              (None, 16)                272       \n",
      "_________________________________________________________________\n",
      "dense_3 (Dense)              (None, 16)                272       \n",
      "_________________________________________________________________\n",
      "dense_4 (Dense)              (None, 1)                 17        \n",
      "=================================================================\n",
      "Total params: 12,449\n",
      "Trainable params: 12,449\n",
      "Non-trainable params: 0\n",
      "_________________________________________________________________\n",
      "None\n"
     ]
    }
   ],
   "source": [
    "model = Sequential()\n",
    "model.add(Dense(32, input_shape=(X_train.shape[1],), kernel_initializer='normal', activation='sigmoid'))\n",
    "model.add(Dense(16, kernel_initializer='normal', activation='sigmoid'))\n",
    "model.add(Dense(16, kernel_initializer='normal', activation='sigmoid'))\n",
    "model.add(Dense(16, kernel_initializer='normal', activation='sigmoid'))\n",
    "model.add(Dense(1, kernel_initializer='normal'))\n",
    "\n",
    "model.compile(loss='mean_squared_error', optimizer='adam', metrics=['mae'])\n",
    "print(model.summary())"
   ]
  },
  {
   "cell_type": "code",
   "execution_count": 16,
   "metadata": {},
   "outputs": [
    {
     "name": "stdout",
     "output_type": "stream",
     "text": [
      "Epoch 1/20\n",
      "84/84 [==============================] - 0s 2ms/step - loss: 61636272128.0000 - mae: 207171.0156 - val_loss: 64324702208.0000 - val_mae: 213559.9219\n",
      "Epoch 2/20\n",
      "84/84 [==============================] - 0s 559us/step - loss: 61635629056.0000 - mae: 207169.4219 - val_loss: 64323907584.0000 - val_mae: 213558.0469\n",
      "Epoch 3/20\n",
      "84/84 [==============================] - 0s 560us/step - loss: 61634879488.0000 - mae: 207167.5312 - val_loss: 64323170304.0000 - val_mae: 213556.3281\n",
      "Epoch 4/20\n",
      "84/84 [==============================] - 0s 543us/step - loss: 61634166784.0000 - mae: 207165.8281 - val_loss: 64322424832.0000 - val_mae: 213554.5781\n",
      "Epoch 5/20\n",
      "84/84 [==============================] - 0s 560us/step - loss: 61633474560.0000 - mae: 207164.1250 - val_loss: 64321724416.0000 - val_mae: 213552.9219\n",
      "Epoch 6/20\n",
      "84/84 [==============================] - 0s 568us/step - loss: 61632794624.0000 - mae: 207162.5156 - val_loss: 64321052672.0000 - val_mae: 213551.3750\n",
      "Epoch 7/20\n",
      "84/84 [==============================] - 0s 567us/step - loss: 61632151552.0000 - mae: 207160.9844 - val_loss: 64320393216.0000 - val_mae: 213549.8281\n",
      "Epoch 8/20\n",
      "84/84 [==============================] - 0s 584us/step - loss: 61631500288.0000 - mae: 207159.4219 - val_loss: 64319750144.0000 - val_mae: 213548.3281\n",
      "Epoch 9/20\n",
      "84/84 [==============================] - 0s 565us/step - loss: 61630906368.0000 - mae: 207157.9375 - val_loss: 64319094784.0000 - val_mae: 213546.7969\n",
      "Epoch 10/20\n",
      "84/84 [==============================] - 0s 561us/step - loss: 61630287872.0000 - mae: 207156.4844 - val_loss: 64318464000.0000 - val_mae: 213545.3281\n",
      "Epoch 11/20\n",
      "84/84 [==============================] - 0s 572us/step - loss: 61629652992.0000 - mae: 207154.9375 - val_loss: 64317825024.0000 - val_mae: 213543.8438\n",
      "Epoch 12/20\n",
      "84/84 [==============================] - 0s 563us/step - loss: 61629042688.0000 - mae: 207153.4688 - val_loss: 64317198336.0000 - val_mae: 213542.3750\n",
      "Epoch 13/20\n",
      "84/84 [==============================] - 0s 560us/step - loss: 61628424192.0000 - mae: 207152.0312 - val_loss: 64316567552.0000 - val_mae: 213540.8906\n",
      "Epoch 14/20\n",
      "84/84 [==============================] - 0s 554us/step - loss: 61627822080.0000 - mae: 207150.5625 - val_loss: 64315953152.0000 - val_mae: 213539.4531\n",
      "Epoch 15/20\n",
      "84/84 [==============================] - 0s 552us/step - loss: 61627211776.0000 - mae: 207149.0625 - val_loss: 64315334656.0000 - val_mae: 213538.0000\n",
      "Epoch 16/20\n",
      "84/84 [==============================] - 0s 560us/step - loss: 61626617856.0000 - mae: 207147.6562 - val_loss: 64314712064.0000 - val_mae: 213536.5312\n",
      "Epoch 17/20\n",
      "84/84 [==============================] - 0s 581us/step - loss: 61626028032.0000 - mae: 207146.2031 - val_loss: 64314085376.0000 - val_mae: 213535.0469\n",
      "Epoch 18/20\n",
      "84/84 [==============================] - 0s 565us/step - loss: 61625421824.0000 - mae: 207144.7188 - val_loss: 64313479168.0000 - val_mae: 213533.6094\n",
      "Epoch 19/20\n",
      "84/84 [==============================] - 0s 569us/step - loss: 61624819712.0000 - mae: 207143.2969 - val_loss: 64312856576.0000 - val_mae: 213532.1250\n",
      "Epoch 20/20\n",
      "84/84 [==============================] - 0s 588us/step - loss: 61624217600.0000 - mae: 207141.8594 - val_loss: 64312238080.0000 - val_mae: 213530.7500\n"
     ]
    }
   ],
   "source": [
    "history = model.fit(X_train_train,\n",
    "                    y_train_train,\n",
    "                    epochs=20,\n",
    "                    batch_size=64,\n",
    "                    validation_data=(X_train_val, y_train_val),\n",
    "                    verbose=1, workers=os.cpu_count(),\n",
    "                    use_multiprocessing=True)"
   ]
  },
  {
   "cell_type": "code",
   "execution_count": 17,
   "metadata": {},
   "outputs": [
    {
     "data": {
      "image/png": "[encoded data removed]",
      "text/plain": [
       "<Figure size 432x288 with 1 Axes>"
      ]
     },
     "metadata": {
      "needs_background": "light"
     },
     "output_type": "display_data"
    }
   ],
   "source": [
    "loss = history.history['loss']\n",
    "val_loss = history.history['val_loss']\n",
    "epochs = range(1, len(loss) + 1)\n",
    "\n",
    "plt.plot(epochs, loss, 'bo', label='Training loss')\n",
    "plt.plot(epochs, val_loss, 'b', label='Validation loss')\n",
    "plt.title('Training and validation loss')\n",
    "plt.xlabel('Epochs')\n",
    "plt.ylabel('Loss')\n",
    "plt.legend()\n",
    "\n",
    "plt.show()"
   ]
  },
  {
   "cell_type": "code",
   "execution_count": 18,
   "metadata": {},
   "outputs": [
    {
     "name": "stdout",
     "output_type": "stream",
     "text": [
      "75/75 [==============================] - 0s 427us/step - loss: 62376763392.0000 - mae: 209578.7188\n"
     ]
    },
    {
     "data": {
      "text/plain": [
       "[62376763392.0, 209578.71875]"
      ]
     },
     "execution_count": 18,
     "metadata": {},
     "output_type": "execute_result"
    }
   ],
   "source": [
    "model.evaluate(X_test, y_test)"
   ]
  },
  {
   "cell_type": "code",
   "execution_count": null,
   "metadata": {},
   "outputs": [],
   "source": []
  }
 ],
 "metadata": {
  "kernelspec": {
   "display_name": "Python 3",
   "language": "python",
   "name": "python3"
  },
  "language_info": {
   "codemirror_mode": {
    "name": "ipython",
    "version": 3
   },
   "file_extension": ".py",
   "mimetype": "text/x-python",
   "name": "python",
   "nbconvert_exporter": "python",
   "pygments_lexer": "ipython3",
   "version": "3.7.9"
  }
 },
 "nbformat": 4,
 "nbformat_minor": 4
}
