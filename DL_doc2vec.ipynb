{
 "cells": [
  {
   "cell_type": "code",
   "execution_count": 1,
   "metadata": {},
   "outputs": [
    {
     "data": {
      "text/plain": [
       "'2.3.0'"
      ]
     },
     "execution_count": 1,
     "metadata": {},
     "output_type": "execute_result"
    }
   ],
   "source": [
    "import os\n",
    "import random\n",
    "import json\n",
    "import warnings\n",
    "warnings.filterwarnings(action='ignore')\n",
    "\n",
    "import tensorflow as tf\n",
    "import keras\n",
    "from keras.models import Sequential\n",
    "from keras.layers import Dense, Activation, Flatten, Dropout\n",
    "from keras.wrappers.scikit_learn import KerasRegressor\n",
    "from tensorflow.keras import layers, models\n",
    "\n",
    "from sklearn.metrics import mean_absolute_error, r2_score, mean_squared_error\n",
    "from sklearn.model_selection import train_test_split, RandomizedSearchCV, KFold\n",
    "\n",
    "import matplotlib.pyplot as plt\n",
    "plt.style.use('seaborn-whitegrid')\n",
    "%matplotlib inline\n",
    "import matplotlib.pyplot as plt\n",
    "import numpy as np\n",
    "import pandas as pd\n",
    "from tqdm.notebook import tqdm\n",
    "\n",
    "from utils import make_train_test, get_metrics, cross_validation\n",
    "\n",
    "tf.random.Generator = None\n",
    "tf.random.set_seed(42)\n",
    "np.random.seed(42)\n",
    "\n",
    "tf.version.VERSION"
   ]
  },
  {
   "cell_type": "code",
   "execution_count": 2,
   "metadata": {},
   "outputs": [
    {
     "name": "stdout",
     "output_type": "stream",
     "text": [
      "['/device:CPU:0']\n"
     ]
    }
   ],
   "source": [
    "from tensorflow.python.client import device_lib\n",
    "def get_available_devices():\n",
    "    local_device_protos = device_lib.list_local_devices()\n",
    "    return [x.name for x in local_device_protos]\n",
    "print(get_available_devices())"
   ]
  },
  {
   "cell_type": "code",
   "execution_count": 3,
   "metadata": {},
   "outputs": [],
   "source": [
    "PATH = \"C:/Users/Tim/.keras/datasets/wikipedia_real_estate/\"\n",
    "MAX_DIST = 5500\n",
    "K_FOLDS = 55"
   ]
  },
  {
   "cell_type": "code",
   "execution_count": 4,
   "metadata": {},
   "outputs": [
    {
     "name": "stdout",
     "output_type": "stream",
     "text": [
      "(9556, 565)\n"
     ]
    },
    {
     "data": {
      "text/html": [
       "<div>\n",
       "<style scoped>\n",
       "    .dataframe tbody tr th:only-of-type {\n",
       "        vertical-align: middle;\n",
       "    }\n",
       "\n",
       "    .dataframe tbody tr th {\n",
       "        vertical-align: top;\n",
       "    }\n",
       "\n",
       "    .dataframe thead th {\n",
       "        text-align: right;\n",
       "    }\n",
       "</style>\n",
       "<table border=\"1\" class=\"dataframe\">\n",
       "  <thead>\n",
       "    <tr style=\"text-align: right;\">\n",
       "      <th></th>\n",
       "      <th>_id</th>\n",
       "      <th>PROPERTYZIP</th>\n",
       "      <th>MUNICODE</th>\n",
       "      <th>SCHOOLCODE</th>\n",
       "      <th>NEIGHCODE</th>\n",
       "      <th>LOTAREA</th>\n",
       "      <th>SALEDATE</th>\n",
       "      <th>SALEPRICE</th>\n",
       "      <th>FAIRMARKETTOTAL</th>\n",
       "      <th>STORIES</th>\n",
       "      <th>...</th>\n",
       "      <th>vec_491</th>\n",
       "      <th>vec_492</th>\n",
       "      <th>vec_493</th>\n",
       "      <th>vec_494</th>\n",
       "      <th>vec_495</th>\n",
       "      <th>vec_496</th>\n",
       "      <th>vec_497</th>\n",
       "      <th>vec_498</th>\n",
       "      <th>vec_499</th>\n",
       "      <th>vec_500</th>\n",
       "    </tr>\n",
       "  </thead>\n",
       "  <tbody>\n",
       "    <tr>\n",
       "      <th>0</th>\n",
       "      <td>362058</td>\n",
       "      <td>15212</td>\n",
       "      <td>126</td>\n",
       "      <td>47</td>\n",
       "      <td>12603</td>\n",
       "      <td>5329</td>\n",
       "      <td>10-27-2017</td>\n",
       "      <td>113000.0</td>\n",
       "      <td>69200</td>\n",
       "      <td>1.0</td>\n",
       "      <td>...</td>\n",
       "      <td>-42.060818</td>\n",
       "      <td>-51.523355</td>\n",
       "      <td>17.262004</td>\n",
       "      <td>-17.658364</td>\n",
       "      <td>-20.344189</td>\n",
       "      <td>-0.728078</td>\n",
       "      <td>41.601132</td>\n",
       "      <td>65.997595</td>\n",
       "      <td>78.625513</td>\n",
       "      <td>-9.191807</td>\n",
       "    </tr>\n",
       "    <tr>\n",
       "      <th>1</th>\n",
       "      <td>544290</td>\n",
       "      <td>15017</td>\n",
       "      <td>946</td>\n",
       "      <td>36</td>\n",
       "      <td>94601</td>\n",
       "      <td>10800</td>\n",
       "      <td>09-27-2016</td>\n",
       "      <td>320000.0</td>\n",
       "      <td>269900</td>\n",
       "      <td>2.0</td>\n",
       "      <td>...</td>\n",
       "      <td>-0.031035</td>\n",
       "      <td>-0.575786</td>\n",
       "      <td>-0.048250</td>\n",
       "      <td>0.033793</td>\n",
       "      <td>-1.158333</td>\n",
       "      <td>-0.060538</td>\n",
       "      <td>0.709528</td>\n",
       "      <td>1.546043</td>\n",
       "      <td>1.793586</td>\n",
       "      <td>-0.403015</td>\n",
       "    </tr>\n",
       "    <tr>\n",
       "      <th>2</th>\n",
       "      <td>314083</td>\n",
       "      <td>15090</td>\n",
       "      <td>935</td>\n",
       "      <td>3</td>\n",
       "      <td>93503</td>\n",
       "      <td>114476</td>\n",
       "      <td>03-25-2017</td>\n",
       "      <td>545000.0</td>\n",
       "      <td>450000</td>\n",
       "      <td>1.0</td>\n",
       "      <td>...</td>\n",
       "      <td>0.000111</td>\n",
       "      <td>-0.890067</td>\n",
       "      <td>0.104948</td>\n",
       "      <td>-0.083544</td>\n",
       "      <td>-0.144277</td>\n",
       "      <td>0.448915</td>\n",
       "      <td>-0.269973</td>\n",
       "      <td>0.826905</td>\n",
       "      <td>0.955482</td>\n",
       "      <td>0.045748</td>\n",
       "    </tr>\n",
       "    <tr>\n",
       "      <th>3</th>\n",
       "      <td>314280</td>\n",
       "      <td>15241</td>\n",
       "      <td>950</td>\n",
       "      <td>42</td>\n",
       "      <td>95003</td>\n",
       "      <td>43197</td>\n",
       "      <td>06-09-2016</td>\n",
       "      <td>315000.0</td>\n",
       "      <td>274000</td>\n",
       "      <td>2.0</td>\n",
       "      <td>...</td>\n",
       "      <td>-0.795873</td>\n",
       "      <td>-2.481090</td>\n",
       "      <td>-0.957346</td>\n",
       "      <td>0.164378</td>\n",
       "      <td>-0.194254</td>\n",
       "      <td>0.017939</td>\n",
       "      <td>1.451668</td>\n",
       "      <td>2.389016</td>\n",
       "      <td>2.653798</td>\n",
       "      <td>-0.644504</td>\n",
       "    </tr>\n",
       "    <tr>\n",
       "      <th>4</th>\n",
       "      <td>314812</td>\n",
       "      <td>15239</td>\n",
       "      <td>880</td>\n",
       "      <td>31</td>\n",
       "      <td>88006</td>\n",
       "      <td>12390</td>\n",
       "      <td>01-31-2017</td>\n",
       "      <td>174900.0</td>\n",
       "      <td>154100</td>\n",
       "      <td>2.0</td>\n",
       "      <td>...</td>\n",
       "      <td>-0.096989</td>\n",
       "      <td>-0.087042</td>\n",
       "      <td>-0.029667</td>\n",
       "      <td>-0.203981</td>\n",
       "      <td>-0.158583</td>\n",
       "      <td>0.120046</td>\n",
       "      <td>0.281316</td>\n",
       "      <td>0.430052</td>\n",
       "      <td>0.246062</td>\n",
       "      <td>0.046799</td>\n",
       "    </tr>\n",
       "    <tr>\n",
       "      <th>5</th>\n",
       "      <td>315579</td>\n",
       "      <td>15143</td>\n",
       "      <td>921</td>\n",
       "      <td>32</td>\n",
       "      <td>92102</td>\n",
       "      <td>10081</td>\n",
       "      <td>03-02-2015</td>\n",
       "      <td>300000.0</td>\n",
       "      <td>244600</td>\n",
       "      <td>2.0</td>\n",
       "      <td>...</td>\n",
       "      <td>-1.774056</td>\n",
       "      <td>-3.430671</td>\n",
       "      <td>-0.733476</td>\n",
       "      <td>-1.240128</td>\n",
       "      <td>-0.913570</td>\n",
       "      <td>0.717370</td>\n",
       "      <td>2.253993</td>\n",
       "      <td>3.387933</td>\n",
       "      <td>4.604297</td>\n",
       "      <td>0.940754</td>\n",
       "    </tr>\n",
       "    <tr>\n",
       "      <th>6</th>\n",
       "      <td>315587</td>\n",
       "      <td>15235</td>\n",
       "      <td>934</td>\n",
       "      <td>30</td>\n",
       "      <td>93401</td>\n",
       "      <td>10257</td>\n",
       "      <td>05-15-2017</td>\n",
       "      <td>172500.0</td>\n",
       "      <td>144700</td>\n",
       "      <td>2.0</td>\n",
       "      <td>...</td>\n",
       "      <td>-1.297128</td>\n",
       "      <td>-1.744603</td>\n",
       "      <td>1.000794</td>\n",
       "      <td>0.887574</td>\n",
       "      <td>-1.284112</td>\n",
       "      <td>0.867730</td>\n",
       "      <td>1.551586</td>\n",
       "      <td>1.860111</td>\n",
       "      <td>2.475057</td>\n",
       "      <td>0.001110</td>\n",
       "    </tr>\n",
       "    <tr>\n",
       "      <th>7</th>\n",
       "      <td>362804</td>\n",
       "      <td>15102</td>\n",
       "      <td>876</td>\n",
       "      <td>5</td>\n",
       "      <td>87603</td>\n",
       "      <td>10920</td>\n",
       "      <td>07-11-2016</td>\n",
       "      <td>250000.0</td>\n",
       "      <td>217800</td>\n",
       "      <td>2.0</td>\n",
       "      <td>...</td>\n",
       "      <td>-1.524777</td>\n",
       "      <td>-4.111377</td>\n",
       "      <td>-2.430117</td>\n",
       "      <td>0.363245</td>\n",
       "      <td>-0.251073</td>\n",
       "      <td>0.753404</td>\n",
       "      <td>1.831817</td>\n",
       "      <td>2.939808</td>\n",
       "      <td>4.174052</td>\n",
       "      <td>-1.407257</td>\n",
       "    </tr>\n",
       "    <tr>\n",
       "      <th>8</th>\n",
       "      <td>315758</td>\n",
       "      <td>15108</td>\n",
       "      <td>939</td>\n",
       "      <td>24</td>\n",
       "      <td>93903</td>\n",
       "      <td>54189</td>\n",
       "      <td>09-28-2018</td>\n",
       "      <td>199900.0</td>\n",
       "      <td>174700</td>\n",
       "      <td>1.0</td>\n",
       "      <td>...</td>\n",
       "      <td>-0.833725</td>\n",
       "      <td>-0.902466</td>\n",
       "      <td>0.987466</td>\n",
       "      <td>-1.097940</td>\n",
       "      <td>-1.129924</td>\n",
       "      <td>0.592271</td>\n",
       "      <td>1.457240</td>\n",
       "      <td>1.484266</td>\n",
       "      <td>2.238826</td>\n",
       "      <td>-0.137450</td>\n",
       "    </tr>\n",
       "    <tr>\n",
       "      <th>9</th>\n",
       "      <td>315868</td>\n",
       "      <td>15133</td>\n",
       "      <td>837</td>\n",
       "      <td>35</td>\n",
       "      <td>83702</td>\n",
       "      <td>6569</td>\n",
       "      <td>05-12-2017</td>\n",
       "      <td>143000.0</td>\n",
       "      <td>117900</td>\n",
       "      <td>2.0</td>\n",
       "      <td>...</td>\n",
       "      <td>-2.591204</td>\n",
       "      <td>-2.143861</td>\n",
       "      <td>1.182166</td>\n",
       "      <td>0.181232</td>\n",
       "      <td>0.056999</td>\n",
       "      <td>0.700378</td>\n",
       "      <td>3.258327</td>\n",
       "      <td>5.109827</td>\n",
       "      <td>4.389595</td>\n",
       "      <td>0.953471</td>\n",
       "    </tr>\n",
       "  </tbody>\n",
       "</table>\n",
       "<p>10 rows × 565 columns</p>\n",
       "</div>"
      ],
      "text/plain": [
       "      _id  PROPERTYZIP  MUNICODE  SCHOOLCODE  NEIGHCODE  LOTAREA    SALEDATE  \\\n",
       "0  362058        15212       126          47      12603     5329  10-27-2017   \n",
       "1  544290        15017       946          36      94601    10800  09-27-2016   \n",
       "2  314083        15090       935           3      93503   114476  03-25-2017   \n",
       "3  314280        15241       950          42      95003    43197  06-09-2016   \n",
       "4  314812        15239       880          31      88006    12390  01-31-2017   \n",
       "5  315579        15143       921          32      92102    10081  03-02-2015   \n",
       "6  315587        15235       934          30      93401    10257  05-15-2017   \n",
       "7  362804        15102       876           5      87603    10920  07-11-2016   \n",
       "8  315758        15108       939          24      93903    54189  09-28-2018   \n",
       "9  315868        15133       837          35      83702     6569  05-12-2017   \n",
       "\n",
       "   SALEPRICE  FAIRMARKETTOTAL  STORIES  ...    vec_491    vec_492    vec_493  \\\n",
       "0   113000.0            69200      1.0  ... -42.060818 -51.523355  17.262004   \n",
       "1   320000.0           269900      2.0  ...  -0.031035  -0.575786  -0.048250   \n",
       "2   545000.0           450000      1.0  ...   0.000111  -0.890067   0.104948   \n",
       "3   315000.0           274000      2.0  ...  -0.795873  -2.481090  -0.957346   \n",
       "4   174900.0           154100      2.0  ...  -0.096989  -0.087042  -0.029667   \n",
       "5   300000.0           244600      2.0  ...  -1.774056  -3.430671  -0.733476   \n",
       "6   172500.0           144700      2.0  ...  -1.297128  -1.744603   1.000794   \n",
       "7   250000.0           217800      2.0  ...  -1.524777  -4.111377  -2.430117   \n",
       "8   199900.0           174700      1.0  ...  -0.833725  -0.902466   0.987466   \n",
       "9   143000.0           117900      2.0  ...  -2.591204  -2.143861   1.182166   \n",
       "\n",
       "     vec_494    vec_495   vec_496    vec_497    vec_498    vec_499   vec_500  \n",
       "0 -17.658364 -20.344189 -0.728078  41.601132  65.997595  78.625513 -9.191807  \n",
       "1   0.033793  -1.158333 -0.060538   0.709528   1.546043   1.793586 -0.403015  \n",
       "2  -0.083544  -0.144277  0.448915  -0.269973   0.826905   0.955482  0.045748  \n",
       "3   0.164378  -0.194254  0.017939   1.451668   2.389016   2.653798 -0.644504  \n",
       "4  -0.203981  -0.158583  0.120046   0.281316   0.430052   0.246062  0.046799  \n",
       "5  -1.240128  -0.913570  0.717370   2.253993   3.387933   4.604297  0.940754  \n",
       "6   0.887574  -1.284112  0.867730   1.551586   1.860111   2.475057  0.001110  \n",
       "7   0.363245  -0.251073  0.753404   1.831817   2.939808   4.174052 -1.407257  \n",
       "8  -1.097940  -1.129924  0.592271   1.457240   1.484266   2.238826 -0.137450  \n",
       "9   0.181232   0.056999  0.700378   3.258327   5.109827   4.389595  0.953471  \n",
       "\n",
       "[10 rows x 565 columns]"
      ]
     },
     "execution_count": 4,
     "metadata": {},
     "output_type": "execute_result"
    }
   ],
   "source": [
    "structured_wiki_text = pd.read_csv(\n",
    "    PATH + f\"structured_wiki_doc2vec_features_{MAX_DIST}.csv\")\n",
    "print(structured_wiki_text.shape)\n",
    "structured_wiki_text.head(10)"
   ]
  },
  {
   "cell_type": "markdown",
   "metadata": {},
   "source": [
    "Create the data sets and error dataframe"
   ]
  },
  {
   "cell_type": "code",
   "execution_count": 5,
   "metadata": {},
   "outputs": [
    {
     "name": "stdout",
     "output_type": "stream",
     "text": [
      "(7167, 554): (5375, 554) + (1792, 554)\n",
      "(7167,): (5375,) + (1792,)\n",
      "(2389, 554)\n",
      "(2389,)\n"
     ]
    }
   ],
   "source": [
    "X_columns_text, data_sets, error_df = make_train_test(structured_wiki_text)\n",
    "X, y, X_train, X_test, y_train, y_test, X_train_train, X_train_val, y_train_train, y_train_val = data_sets"
   ]
  },
  {
   "cell_type": "markdown",
   "metadata": {},
   "source": [
    "Normalize data"
   ]
  },
  {
   "cell_type": "code",
   "execution_count": 6,
   "metadata": {},
   "outputs": [],
   "source": [
    "train_mean = X_train_train.mean(axis=0)\n",
    "train_std = X_train_train.std(axis=0)\n",
    "\n",
    "X_train_train = (X_train_train - train_mean) / train_std\n",
    "X_train_val = (X_train_val - train_mean) / train_std\n",
    "X_test = (X_test - train_mean) / train_std"
   ]
  },
  {
   "cell_type": "markdown",
   "metadata": {},
   "source": [
    "Create results df"
   ]
  },
  {
   "cell_type": "code",
   "execution_count": 7,
   "metadata": {},
   "outputs": [],
   "source": [
    "results_df = pd.DataFrame()"
   ]
  },
  {
   "cell_type": "markdown",
   "metadata": {},
   "source": [
    "## Combining structured and text features"
   ]
  },
  {
   "cell_type": "code",
   "execution_count": 8,
   "metadata": {},
   "outputs": [
    {
     "name": "stdout",
     "output_type": "stream",
     "text": [
      "Model: \"sequential\"\n",
      "_________________________________________________________________\n",
      "Layer (type)                 Output Shape              Param #   \n",
      "=================================================================\n",
      "dense (Dense)                (None, 512)               284160    \n",
      "_________________________________________________________________\n",
      "dense_1 (Dense)              (None, 256)               131328    \n",
      "_________________________________________________________________\n",
      "dense_2 (Dense)              (None, 256)               65792     \n",
      "_________________________________________________________________\n",
      "dense_3 (Dense)              (None, 256)               65792     \n",
      "_________________________________________________________________\n",
      "dense_4 (Dense)              (None, 256)               65792     \n",
      "_________________________________________________________________\n",
      "dense_5 (Dense)              (None, 64)                16448     \n",
      "_________________________________________________________________\n",
      "dense_6 (Dense)              (None, 32)                2080      \n",
      "_________________________________________________________________\n",
      "dense_7 (Dense)              (None, 1)                 33        \n",
      "=================================================================\n",
      "Total params: 631,425\n",
      "Trainable params: 631,425\n",
      "Non-trainable params: 0\n",
      "_________________________________________________________________\n",
      "None\n"
     ]
    }
   ],
   "source": [
    "model = Sequential()\n",
    "model.add(Dense(512, input_shape=(X_train.shape[1],), kernel_initializer='normal', activation='relu'))\n",
    "model.add(Dense(256, kernel_initializer='normal', activation='relu'))\n",
    "model.add(Dense(256, kernel_initializer='normal', activation='relu'))\n",
    "model.add(Dense(256, kernel_initializer='normal', activation='relu'))\n",
    "model.add(Dense(256, kernel_initializer='normal', activation='relu'))\n",
    "model.add(Dense(64, kernel_initializer='normal', activation='relu'))\n",
    "model.add(Dense(32, kernel_initializer='normal', activation='relu'))\n",
    "model.add(Dense(1, kernel_initializer='normal', activation='linear'))\n",
    "\n",
    "model.compile(loss='mean_squared_error', optimizer='adam', metrics=['mae'])\n",
    "print(model.summary())"
   ]
  },
  {
   "cell_type": "code",
   "execution_count": 9,
   "metadata": {},
   "outputs": [],
   "source": [
    "history = model.fit(X_train_train,\n",
    "                    # np.log1p(y_train_train),\n",
    "                    y_train_train,\n",
    "                    epochs=10,\n",
    "                    batch_size=32,\n",
    "                    # validation_data=(X_train_val, np.log1p(y_train_val)),\n",
    "                    validation_data=(X_train_val, y_train_val),\n",
    "                    verbose=0, workers=os.cpu_count(),\n",
    "                    use_multiprocessing=True)"
   ]
  },
  {
   "cell_type": "code",
   "execution_count": 10,
   "metadata": {},
   "outputs": [
    {
     "data": {
      "image/png": "[encoded data removed]",
      "text/plain": [
       "<Figure size 432x288 with 1 Axes>"
      ]
     },
     "metadata": {
      "needs_background": "light"
     },
     "output_type": "display_data"
    }
   ],
   "source": [
    "loss = history.history['loss']\n",
    "val_loss = history.history['val_loss']\n",
    "epochs = range(1, len(loss) + 1)\n",
    "\n",
    "plt.plot(epochs, loss, 'bo', label='Training loss')\n",
    "plt.plot(epochs, val_loss, 'b', label='Validation loss')\n",
    "plt.title('Training and validation loss')\n",
    "plt.xlabel('Epochs')\n",
    "plt.ylabel('MSE')\n",
    "plt.legend()\n",
    "\n",
    "plt.show()"
   ]
  },
  {
   "cell_type": "code",
   "execution_count": 11,
   "metadata": {},
   "outputs": [],
   "source": [
    "preds = model.predict(X_test)"
   ]
  },
  {
   "cell_type": "code",
   "execution_count": 12,
   "metadata": {},
   "outputs": [
    {
     "name": "stdout",
     "output_type": "stream",
     "text": [
      "MAE:  32293\n",
      "RMSE: 48259\n",
      "MAPE: 83.34%\n",
      "R^2:  0.877\n"
     ]
    }
   ],
   "source": [
    "# metrics = get_metrics(y_test, np.expm1(preds))\n",
    "metrics = get_metrics(y_test, preds)"
   ]
  },
  {
   "cell_type": "code",
   "execution_count": null,
   "metadata": {},
   "outputs": [],
   "source": []
  }
 ],
 "metadata": {
  "kernelspec": {
   "display_name": "Python 3",
   "language": "python",
   "name": "python3"
  },
  "language_info": {
   "codemirror_mode": {
    "name": "ipython",
    "version": 3
   },
   "file_extension": ".py",
   "mimetype": "text/x-python",
   "name": "python",
   "nbconvert_exporter": "python",
   "pygments_lexer": "ipython3",
   "version": "3.7.9"
  }
 },
 "nbformat": 4,
 "nbformat_minor": 4
}
