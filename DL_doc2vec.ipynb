{
 "cells": [
  {
   "cell_type": "code",
   "execution_count": 92,
   "metadata": {},
   "outputs": [
    {
     "data": {
      "text/plain": [
       "'2.3.0'"
      ]
     },
     "execution_count": 92,
     "metadata": {},
     "output_type": "execute_result"
    }
   ],
   "source": [
    "import os\n",
    "import random\n",
    "import json\n",
    "import warnings\n",
    "warnings.filterwarnings(action='ignore')\n",
    "\n",
    "import tensorflow as tf\n",
    "import keras\n",
    "from keras.models import Sequential\n",
    "from keras.layers import Dense, Activation, Flatten, Dropout\n",
    "from keras.wrappers.scikit_learn import KerasRegressor\n",
    "from tensorflow.keras import layers, models\n",
    "from tensorflow.python.client import device_lib\n",
    "from sklearn.metrics import mean_absolute_error, r2_score, mean_squared_error\n",
    "from sklearn.model_selection import train_test_split, RandomizedSearchCV, KFold\n",
    "\n",
    "import matplotlib.pyplot as plt\n",
    "plt.style.use('seaborn-whitegrid')\n",
    "%matplotlib inline\n",
    "import matplotlib.pyplot as plt\n",
    "import numpy as np\n",
    "from tqdm.notebook import tqdm\n",
    "import pandas as pd\n",
    "pd.set_option('display.float_format', lambda x: '%.3f' % x)\n",
    "\n",
    "from utils import make_train_test, get_metrics, cross_validation\n",
    "\n",
    "tf.random.Generator = None\n",
    "tf.random.set_seed(42)\n",
    "np.random.seed(42)\n",
    "\n",
    "tf.version.VERSION"
   ]
  },
  {
   "cell_type": "code",
   "execution_count": 93,
   "metadata": {},
   "outputs": [
    {
     "name": "stdout",
     "output_type": "stream",
     "text": [
      "['/device:CPU:0']\n"
     ]
    }
   ],
   "source": [
    "def get_available_devices():\n",
    "    local_device_protos = device_lib.list_local_devices()\n",
    "    return [x.name for x in local_device_protos]\n",
    "\n",
    "print(get_available_devices())"
   ]
  },
  {
   "cell_type": "code",
   "execution_count": 94,
   "metadata": {},
   "outputs": [],
   "source": [
    "PATH = \"C:/Users/Tim/.keras/datasets/wikipedia_real_estate/\"\n",
    "MAX_DIST = 5500\n",
    "K_FOLDS = 5"
   ]
  },
  {
   "cell_type": "code",
   "execution_count": 95,
   "metadata": {},
   "outputs": [
    {
     "name": "stdout",
     "output_type": "stream",
     "text": [
      "(9556, 565)\n"
     ]
    },
    {
     "data": {
      "text/html": [
       "<div>\n",
       "<style scoped>\n",
       "    .dataframe tbody tr th:only-of-type {\n",
       "        vertical-align: middle;\n",
       "    }\n",
       "\n",
       "    .dataframe tbody tr th {\n",
       "        vertical-align: top;\n",
       "    }\n",
       "\n",
       "    .dataframe thead th {\n",
       "        text-align: right;\n",
       "    }\n",
       "</style>\n",
       "<table border=\"1\" class=\"dataframe\">\n",
       "  <thead>\n",
       "    <tr style=\"text-align: right;\">\n",
       "      <th></th>\n",
       "      <th>_id</th>\n",
       "      <th>PROPERTYZIP</th>\n",
       "      <th>MUNICODE</th>\n",
       "      <th>SCHOOLCODE</th>\n",
       "      <th>NEIGHCODE</th>\n",
       "      <th>LOTAREA</th>\n",
       "      <th>SALEDATE</th>\n",
       "      <th>SALEPRICE</th>\n",
       "      <th>FAIRMARKETTOTAL</th>\n",
       "      <th>STORIES</th>\n",
       "      <th>...</th>\n",
       "      <th>vec_491</th>\n",
       "      <th>vec_492</th>\n",
       "      <th>vec_493</th>\n",
       "      <th>vec_494</th>\n",
       "      <th>vec_495</th>\n",
       "      <th>vec_496</th>\n",
       "      <th>vec_497</th>\n",
       "      <th>vec_498</th>\n",
       "      <th>vec_499</th>\n",
       "      <th>vec_500</th>\n",
       "    </tr>\n",
       "  </thead>\n",
       "  <tbody>\n",
       "    <tr>\n",
       "      <th>0</th>\n",
       "      <td>362058</td>\n",
       "      <td>15212</td>\n",
       "      <td>126</td>\n",
       "      <td>47</td>\n",
       "      <td>12603</td>\n",
       "      <td>5329</td>\n",
       "      <td>10-27-2017</td>\n",
       "      <td>113000.000</td>\n",
       "      <td>69200</td>\n",
       "      <td>1.000</td>\n",
       "      <td>...</td>\n",
       "      <td>-42.061</td>\n",
       "      <td>-51.523</td>\n",
       "      <td>17.262</td>\n",
       "      <td>-17.658</td>\n",
       "      <td>-20.344</td>\n",
       "      <td>-0.728</td>\n",
       "      <td>41.601</td>\n",
       "      <td>65.998</td>\n",
       "      <td>78.626</td>\n",
       "      <td>-9.192</td>\n",
       "    </tr>\n",
       "    <tr>\n",
       "      <th>1</th>\n",
       "      <td>544290</td>\n",
       "      <td>15017</td>\n",
       "      <td>946</td>\n",
       "      <td>36</td>\n",
       "      <td>94601</td>\n",
       "      <td>10800</td>\n",
       "      <td>09-27-2016</td>\n",
       "      <td>320000.000</td>\n",
       "      <td>269900</td>\n",
       "      <td>2.000</td>\n",
       "      <td>...</td>\n",
       "      <td>-0.031</td>\n",
       "      <td>-0.576</td>\n",
       "      <td>-0.048</td>\n",
       "      <td>0.034</td>\n",
       "      <td>-1.158</td>\n",
       "      <td>-0.061</td>\n",
       "      <td>0.710</td>\n",
       "      <td>1.546</td>\n",
       "      <td>1.794</td>\n",
       "      <td>-0.403</td>\n",
       "    </tr>\n",
       "    <tr>\n",
       "      <th>2</th>\n",
       "      <td>314083</td>\n",
       "      <td>15090</td>\n",
       "      <td>935</td>\n",
       "      <td>3</td>\n",
       "      <td>93503</td>\n",
       "      <td>114476</td>\n",
       "      <td>03-25-2017</td>\n",
       "      <td>545000.000</td>\n",
       "      <td>450000</td>\n",
       "      <td>1.000</td>\n",
       "      <td>...</td>\n",
       "      <td>0.000</td>\n",
       "      <td>-0.890</td>\n",
       "      <td>0.105</td>\n",
       "      <td>-0.084</td>\n",
       "      <td>-0.144</td>\n",
       "      <td>0.449</td>\n",
       "      <td>-0.270</td>\n",
       "      <td>0.827</td>\n",
       "      <td>0.955</td>\n",
       "      <td>0.046</td>\n",
       "    </tr>\n",
       "    <tr>\n",
       "      <th>3</th>\n",
       "      <td>314280</td>\n",
       "      <td>15241</td>\n",
       "      <td>950</td>\n",
       "      <td>42</td>\n",
       "      <td>95003</td>\n",
       "      <td>43197</td>\n",
       "      <td>06-09-2016</td>\n",
       "      <td>315000.000</td>\n",
       "      <td>274000</td>\n",
       "      <td>2.000</td>\n",
       "      <td>...</td>\n",
       "      <td>-0.796</td>\n",
       "      <td>-2.481</td>\n",
       "      <td>-0.957</td>\n",
       "      <td>0.164</td>\n",
       "      <td>-0.194</td>\n",
       "      <td>0.018</td>\n",
       "      <td>1.452</td>\n",
       "      <td>2.389</td>\n",
       "      <td>2.654</td>\n",
       "      <td>-0.645</td>\n",
       "    </tr>\n",
       "    <tr>\n",
       "      <th>4</th>\n",
       "      <td>314812</td>\n",
       "      <td>15239</td>\n",
       "      <td>880</td>\n",
       "      <td>31</td>\n",
       "      <td>88006</td>\n",
       "      <td>12390</td>\n",
       "      <td>01-31-2017</td>\n",
       "      <td>174900.000</td>\n",
       "      <td>154100</td>\n",
       "      <td>2.000</td>\n",
       "      <td>...</td>\n",
       "      <td>-0.097</td>\n",
       "      <td>-0.087</td>\n",
       "      <td>-0.030</td>\n",
       "      <td>-0.204</td>\n",
       "      <td>-0.159</td>\n",
       "      <td>0.120</td>\n",
       "      <td>0.281</td>\n",
       "      <td>0.430</td>\n",
       "      <td>0.246</td>\n",
       "      <td>0.047</td>\n",
       "    </tr>\n",
       "    <tr>\n",
       "      <th>5</th>\n",
       "      <td>315579</td>\n",
       "      <td>15143</td>\n",
       "      <td>921</td>\n",
       "      <td>32</td>\n",
       "      <td>92102</td>\n",
       "      <td>10081</td>\n",
       "      <td>03-02-2015</td>\n",
       "      <td>300000.000</td>\n",
       "      <td>244600</td>\n",
       "      <td>2.000</td>\n",
       "      <td>...</td>\n",
       "      <td>-1.774</td>\n",
       "      <td>-3.431</td>\n",
       "      <td>-0.733</td>\n",
       "      <td>-1.240</td>\n",
       "      <td>-0.914</td>\n",
       "      <td>0.717</td>\n",
       "      <td>2.254</td>\n",
       "      <td>3.388</td>\n",
       "      <td>4.604</td>\n",
       "      <td>0.941</td>\n",
       "    </tr>\n",
       "    <tr>\n",
       "      <th>6</th>\n",
       "      <td>315587</td>\n",
       "      <td>15235</td>\n",
       "      <td>934</td>\n",
       "      <td>30</td>\n",
       "      <td>93401</td>\n",
       "      <td>10257</td>\n",
       "      <td>05-15-2017</td>\n",
       "      <td>172500.000</td>\n",
       "      <td>144700</td>\n",
       "      <td>2.000</td>\n",
       "      <td>...</td>\n",
       "      <td>-1.297</td>\n",
       "      <td>-1.745</td>\n",
       "      <td>1.001</td>\n",
       "      <td>0.888</td>\n",
       "      <td>-1.284</td>\n",
       "      <td>0.868</td>\n",
       "      <td>1.552</td>\n",
       "      <td>1.860</td>\n",
       "      <td>2.475</td>\n",
       "      <td>0.001</td>\n",
       "    </tr>\n",
       "    <tr>\n",
       "      <th>7</th>\n",
       "      <td>362804</td>\n",
       "      <td>15102</td>\n",
       "      <td>876</td>\n",
       "      <td>5</td>\n",
       "      <td>87603</td>\n",
       "      <td>10920</td>\n",
       "      <td>07-11-2016</td>\n",
       "      <td>250000.000</td>\n",
       "      <td>217800</td>\n",
       "      <td>2.000</td>\n",
       "      <td>...</td>\n",
       "      <td>-1.525</td>\n",
       "      <td>-4.111</td>\n",
       "      <td>-2.430</td>\n",
       "      <td>0.363</td>\n",
       "      <td>-0.251</td>\n",
       "      <td>0.753</td>\n",
       "      <td>1.832</td>\n",
       "      <td>2.940</td>\n",
       "      <td>4.174</td>\n",
       "      <td>-1.407</td>\n",
       "    </tr>\n",
       "    <tr>\n",
       "      <th>8</th>\n",
       "      <td>315758</td>\n",
       "      <td>15108</td>\n",
       "      <td>939</td>\n",
       "      <td>24</td>\n",
       "      <td>93903</td>\n",
       "      <td>54189</td>\n",
       "      <td>09-28-2018</td>\n",
       "      <td>199900.000</td>\n",
       "      <td>174700</td>\n",
       "      <td>1.000</td>\n",
       "      <td>...</td>\n",
       "      <td>-0.834</td>\n",
       "      <td>-0.902</td>\n",
       "      <td>0.987</td>\n",
       "      <td>-1.098</td>\n",
       "      <td>-1.130</td>\n",
       "      <td>0.592</td>\n",
       "      <td>1.457</td>\n",
       "      <td>1.484</td>\n",
       "      <td>2.239</td>\n",
       "      <td>-0.137</td>\n",
       "    </tr>\n",
       "    <tr>\n",
       "      <th>9</th>\n",
       "      <td>315868</td>\n",
       "      <td>15133</td>\n",
       "      <td>837</td>\n",
       "      <td>35</td>\n",
       "      <td>83702</td>\n",
       "      <td>6569</td>\n",
       "      <td>05-12-2017</td>\n",
       "      <td>143000.000</td>\n",
       "      <td>117900</td>\n",
       "      <td>2.000</td>\n",
       "      <td>...</td>\n",
       "      <td>-2.591</td>\n",
       "      <td>-2.144</td>\n",
       "      <td>1.182</td>\n",
       "      <td>0.181</td>\n",
       "      <td>0.057</td>\n",
       "      <td>0.700</td>\n",
       "      <td>3.258</td>\n",
       "      <td>5.110</td>\n",
       "      <td>4.390</td>\n",
       "      <td>0.953</td>\n",
       "    </tr>\n",
       "  </tbody>\n",
       "</table>\n",
       "<p>10 rows × 565 columns</p>\n",
       "</div>"
      ],
      "text/plain": [
       "      _id  PROPERTYZIP  MUNICODE  SCHOOLCODE  NEIGHCODE  LOTAREA    SALEDATE  \\\n",
       "0  362058        15212       126          47      12603     5329  10-27-2017   \n",
       "1  544290        15017       946          36      94601    10800  09-27-2016   \n",
       "2  314083        15090       935           3      93503   114476  03-25-2017   \n",
       "3  314280        15241       950          42      95003    43197  06-09-2016   \n",
       "4  314812        15239       880          31      88006    12390  01-31-2017   \n",
       "5  315579        15143       921          32      92102    10081  03-02-2015   \n",
       "6  315587        15235       934          30      93401    10257  05-15-2017   \n",
       "7  362804        15102       876           5      87603    10920  07-11-2016   \n",
       "8  315758        15108       939          24      93903    54189  09-28-2018   \n",
       "9  315868        15133       837          35      83702     6569  05-12-2017   \n",
       "\n",
       "   SALEPRICE  FAIRMARKETTOTAL  STORIES  ...  vec_491  vec_492  vec_493  \\\n",
       "0 113000.000            69200    1.000  ...  -42.061  -51.523   17.262   \n",
       "1 320000.000           269900    2.000  ...   -0.031   -0.576   -0.048   \n",
       "2 545000.000           450000    1.000  ...    0.000   -0.890    0.105   \n",
       "3 315000.000           274000    2.000  ...   -0.796   -2.481   -0.957   \n",
       "4 174900.000           154100    2.000  ...   -0.097   -0.087   -0.030   \n",
       "5 300000.000           244600    2.000  ...   -1.774   -3.431   -0.733   \n",
       "6 172500.000           144700    2.000  ...   -1.297   -1.745    1.001   \n",
       "7 250000.000           217800    2.000  ...   -1.525   -4.111   -2.430   \n",
       "8 199900.000           174700    1.000  ...   -0.834   -0.902    0.987   \n",
       "9 143000.000           117900    2.000  ...   -2.591   -2.144    1.182   \n",
       "\n",
       "   vec_494  vec_495  vec_496  vec_497  vec_498  vec_499  vec_500  \n",
       "0  -17.658  -20.344   -0.728   41.601   65.998   78.626   -9.192  \n",
       "1    0.034   -1.158   -0.061    0.710    1.546    1.794   -0.403  \n",
       "2   -0.084   -0.144    0.449   -0.270    0.827    0.955    0.046  \n",
       "3    0.164   -0.194    0.018    1.452    2.389    2.654   -0.645  \n",
       "4   -0.204   -0.159    0.120    0.281    0.430    0.246    0.047  \n",
       "5   -1.240   -0.914    0.717    2.254    3.388    4.604    0.941  \n",
       "6    0.888   -1.284    0.868    1.552    1.860    2.475    0.001  \n",
       "7    0.363   -0.251    0.753    1.832    2.940    4.174   -1.407  \n",
       "8   -1.098   -1.130    0.592    1.457    1.484    2.239   -0.137  \n",
       "9    0.181    0.057    0.700    3.258    5.110    4.390    0.953  \n",
       "\n",
       "[10 rows x 565 columns]"
      ]
     },
     "execution_count": 95,
     "metadata": {},
     "output_type": "execute_result"
    }
   ],
   "source": [
    "# structured_wiki_text = pd.read_csv(PATH + f\"structured_wiki_text_features_{MAX_DIST}.csv\")\n",
    "structured_wiki_text = pd.read_csv(PATH + f\"structured_wiki_doc2vec_features_{MAX_DIST}.csv\")\n",
    "print(structured_wiki_text.shape)\n",
    "structured_wiki_text.head(10)"
   ]
  },
  {
   "cell_type": "markdown",
   "metadata": {},
   "source": [
    "Create the data sets and error dataframe"
   ]
  },
  {
   "cell_type": "code",
   "execution_count": 96,
   "metadata": {},
   "outputs": [
    {
     "name": "stdout",
     "output_type": "stream",
     "text": [
      "(7167, 554): (5375, 554) + (1792, 554)\n",
      "(7167,): (5375,) + (1792,)\n",
      "(2389, 554)\n",
      "(2389,)\n"
     ]
    }
   ],
   "source": [
    "X_columns_text, data_sets, error_df = make_train_test(structured_wiki_text)\n",
    "X, y, X_train, X_test, y_train, y_test, X_train_train, X_train_val, y_train_train, y_train_val = data_sets"
   ]
  },
  {
   "cell_type": "markdown",
   "metadata": {},
   "source": [
    "Normalize data"
   ]
  },
  {
   "cell_type": "code",
   "execution_count": 97,
   "metadata": {},
   "outputs": [],
   "source": [
    "train_mean = X_train_train.mean(axis=0)\n",
    "train_std = X_train_train.std(axis=0)\n",
    "\n",
    "X_train_train = (X_train_train - train_mean) / train_std\n",
    "X_train_val = (X_train_val - train_mean) / train_std\n",
    "X_test = (X_test - train_mean) / train_std"
   ]
  },
  {
   "cell_type": "markdown",
   "metadata": {},
   "source": [
    "Create results df"
   ]
  },
  {
   "cell_type": "code",
   "execution_count": 98,
   "metadata": {},
   "outputs": [],
   "source": [
    "results_df = pd.DataFrame()"
   ]
  },
  {
   "cell_type": "markdown",
   "metadata": {},
   "source": [
    "## Training model"
   ]
  },
  {
   "cell_type": "markdown",
   "metadata": {},
   "source": [
    "Functions for log transform."
   ]
  },
  {
   "cell_type": "code",
   "execution_count": 99,
   "metadata": {},
   "outputs": [],
   "source": [
    "def log_trans(arr):\n",
    "    return np.log1p(arr) - 9.4\n",
    "\n",
    "def exp_trans(arr):\n",
    "    return np.expm1(arr + 9.4) "
   ]
  },
  {
   "cell_type": "markdown",
   "metadata": {},
   "source": [
    "Model architechture"
   ]
  },
  {
   "cell_type": "code",
   "execution_count": 185,
   "metadata": {},
   "outputs": [
    {
     "name": "stdout",
     "output_type": "stream",
     "text": [
      "Model: \"sequential_30\"\n",
      "_________________________________________________________________\n",
      "Layer (type)                 Output Shape              Param #   \n",
      "=================================================================\n",
      "dense_139 (Dense)            (None, 512)               284160    \n",
      "_________________________________________________________________\n",
      "dense_140 (Dense)            (None, 256)               131328    \n",
      "_________________________________________________________________\n",
      "dense_141 (Dense)            (None, 128)               32896     \n",
      "_________________________________________________________________\n",
      "dense_142 (Dense)            (None, 1)                 129       \n",
      "=================================================================\n",
      "Total params: 448,513\n",
      "Trainable params: 448,513\n",
      "Non-trainable params: 0\n",
      "_________________________________________________________________\n",
      "None\n"
     ]
    }
   ],
   "source": [
    "model = Sequential()\n",
    "model.add(Dense(512, input_shape=(X_train.shape[1],), kernel_initializer='normal', activation='relu'))\n",
    "model.add(Dense(256, kernel_initializer='normal', activation='relu'))\n",
    "model.add(Dense(128, kernel_initializer='normal', activation='relu'))\n",
    "model.add(Dense(1, kernel_initializer='normal', activation='linear'))\n",
    "\n",
    "model.compile(loss='mean_squared_error', optimizer='adam', metrics=['mae'])\n",
    "print(model.summary())"
   ]
  },
  {
   "cell_type": "code",
   "execution_count": 186,
   "metadata": {},
   "outputs": [],
   "source": [
    "history = model.fit(X_train_train,\n",
    "                    # log_trans(y_train_train),\n",
    "                    y_train_train,\n",
    "                    epochs=90,\n",
    "                    batch_size=32,\n",
    "                    # validation_data=(X_train_val, log_trans(y_train_val)),\n",
    "                    validation_data=(X_train_val, y_train_val),\n",
    "                    verbose=0, workers=os.cpu_count(),\n",
    "                    use_multiprocessing=True)"
   ]
  },
  {
   "cell_type": "code",
   "execution_count": 187,
   "metadata": {},
   "outputs": [
    {
     "data": {
      "image/png": "[encoded data removed]",
      "text/plain": [
       "<Figure size 432x288 with 1 Axes>"
      ]
     },
     "metadata": {
      "needs_background": "light"
     },
     "output_type": "display_data"
    }
   ],
   "source": [
    "loss = history.history['loss']\n",
    "val_loss = history.history['val_loss']\n",
    "epochs = range(1, len(loss) + 1)\n",
    "\n",
    "plt.plot(epochs, loss, 'bo', label='Training loss')\n",
    "plt.plot(epochs, val_loss, 'b', label='Validation loss')\n",
    "plt.title('Training and validation loss')\n",
    "plt.xlabel('Epochs')\n",
    "plt.ylabel('MSE')\n",
    "plt.legend()\n",
    "\n",
    "plt.show()"
   ]
  },
  {
   "cell_type": "code",
   "execution_count": 188,
   "metadata": {},
   "outputs": [],
   "source": [
    "preds = model.predict(X_test)\n",
    "# preds_scaled = exp_trans(preds)\n",
    "# preds_scaled = np.where(preds_scaled < 1000000, preds_scaled, 1000000)  # enforce ceiling\n",
    "# preds_scaled = np.where(preds_scaled > 10000, preds_scaled, 10000)  # enforce floor"
   ]
  },
  {
   "cell_type": "code",
   "execution_count": 189,
   "metadata": {},
   "outputs": [
    {
     "name": "stdout",
     "output_type": "stream",
     "text": [
      "MAE:  31219\n",
      "RMSE: 46416\n",
      "MAPE: 85.74%\n",
      "R^2:  0.886\n"
     ]
    }
   ],
   "source": [
    "# metrics = get_metrics(y_test, preds_scaled)\n",
    "metrics = get_metrics(y_test, preds)"
   ]
  },
  {
   "cell_type": "code",
   "execution_count": null,
   "metadata": {},
   "outputs": [],
   "source": []
  }
 ],
 "metadata": {
  "kernelspec": {
   "display_name": "Python 3",
   "language": "python",
   "name": "python3"
  },
  "language_info": {
   "codemirror_mode": {
    "name": "ipython",
    "version": 3
   },
   "file_extension": ".py",
   "mimetype": "text/x-python",
   "name": "python",
   "nbconvert_exporter": "python",
   "pygments_lexer": "ipython3",
   "version": "3.7.9"
  }
 },
 "nbformat": 4,
 "nbformat_minor": 4
}
