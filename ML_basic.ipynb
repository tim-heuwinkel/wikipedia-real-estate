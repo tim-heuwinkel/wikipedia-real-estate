{
 "cells": [
  {
   "cell_type": "markdown",
   "metadata": {},
   "source": [
    "# Machine learning with basic housing data"
   ]
  },
  {
   "cell_type": "markdown",
   "metadata": {},
   "source": [
    "Experimenting with different algorithms on a non-geographical and basic geographical feature set."
   ]
  },
  {
   "cell_type": "markdown",
   "metadata": {},
   "source": [
    "### Import packages"
   ]
  },
  {
   "cell_type": "code",
   "execution_count": 1,
   "metadata": {},
   "outputs": [],
   "source": [
    "import json\n",
    "import math\n",
    "import warnings\n",
    "warnings.filterwarnings(action=\"ignore\")\n",
    "\n",
    "from catboost import CatBoostRegressor\n",
    "import xgboost as xgb\n",
    "\n",
    "from sklearn.metrics import mean_absolute_error, r2_score, mean_squared_error\n",
    "from sklearn.preprocessing import StandardScaler\n",
    "from sklearn.model_selection import train_test_split, RandomizedSearchCV, KFold\n",
    "from sklearn.ensemble import RandomForestClassifier\n",
    "from sklearn import linear_model\n",
    "\n",
    "import matplotlib.pyplot as plt\n",
    "import numpy as np\n",
    "import pandas as pd\n",
    "from tqdm.notebook import tqdm\n",
    "from IPython.display import display_html"
   ]
  },
  {
   "cell_type": "markdown",
   "metadata": {},
   "source": [
    "Definde constants.\n",
    "\n",
    "- ``PATH``: Path to the base data folder\n",
    "- ``K_FOLDS``: Number of folds to perform for cross validation"
   ]
  },
  {
   "cell_type": "code",
   "execution_count": 2,
   "metadata": {},
   "outputs": [],
   "source": [
    "PATH = \"C:/Users/Tim/.keras/datasets/wikipedia_real_estate/\"\n",
    "K_FOLDS = 5"
   ]
  },
  {
   "cell_type": "markdown",
   "metadata": {},
   "source": [
    "Load structured data and print columns."
   ]
  },
  {
   "cell_type": "code",
   "execution_count": 3,
   "metadata": {},
   "outputs": [
    {
     "name": "stdout",
     "output_type": "stream",
     "text": [
      "(9556, 65)\n",
      "Index(['_id', 'PROPERTYZIP', 'MUNICODE', 'SCHOOLCODE', 'NEIGHCODE', 'LOTAREA',\n",
      "       'SALEDATE', 'SALEPRICE', 'FAIRMARKETTOTAL', 'STORIES', 'YEARBLT',\n",
      "       'GRADE', 'CONDITION', 'CDU', 'TOTALROOMS', 'BEDROOMS', 'FULLBATHS',\n",
      "       'HALFBATHS', 'FIREPLACES', 'BSMTGARAGE', 'FINISHEDLIVINGAREA',\n",
      "       'latitude', 'longitude', 'DISTRICT', 'SALEYEAR', 'SALEYEAR_STR_2015',\n",
      "       'SALEYEAR_STR_2016', 'SALEYEAR_STR_2017', 'SALEYEAR_STR_2018',\n",
      "       'SALEYEAR_STR_2019', 'SALEYEAR_STR_2020',\n",
      "       'HEATINGCOOLINGDESC_CentralHeat',\n",
      "       'HEATINGCOOLINGDESC_CentralHeatwithAC', 'OWNERDESC_REGULAR',\n",
      "       'OWNERDESC_REGULAR-ETAL', 'OWNERDESC_REGULAR-ETUXORETVIR',\n",
      "       'STYLEDESC_BI-LEVEL', 'STYLEDESC_BUNGALOW', 'STYLEDESC_CAPECOD',\n",
      "       'STYLEDESC_COLONIAL', 'STYLEDESC_CONTEMPORARY', 'STYLEDESC_OLDSTYLE',\n",
      "       'STYLEDESC_RANCH', 'STYLEDESC_SEMIDETACHED', 'STYLEDESC_SPLITLEVEL',\n",
      "       'STYLEDESC_TUDOR', 'STYLEDESC_VICTORIAN', 'EXTFINISH_DESC_Brick',\n",
      "       'EXTFINISH_DESC_ConcreteBlock', 'EXTFINISH_DESC_Frame',\n",
      "       'EXTFINISH_DESC_MasonryFRAME', 'EXTFINISH_DESC_Stone',\n",
      "       'EXTFINISH_DESC_Stucco', 'ROOFDESC_ROLL', 'ROOFDESC_SHINGLE',\n",
      "       'ROOFDESC_SLATE', 'ROOFDESC_TILE', 'BASEMENTDESC_Crawl',\n",
      "       'BASEMENTDESC_Full', 'BASEMENTDESC_None', 'BASEMENTDESC_Part',\n",
      "       'ROOFDESC_ROLL.1', 'ROOFDESC_SHINGLE.1', 'ROOFDESC_SLATE.1',\n",
      "       'ROOFDESC_TILE.1'],\n",
      "      dtype='object')\n"
     ]
    },
    {
     "data": {
      "text/html": [
       "<div>\n",
       "<style scoped>\n",
       "    .dataframe tbody tr th:only-of-type {\n",
       "        vertical-align: middle;\n",
       "    }\n",
       "\n",
       "    .dataframe tbody tr th {\n",
       "        vertical-align: top;\n",
       "    }\n",
       "\n",
       "    .dataframe thead th {\n",
       "        text-align: right;\n",
       "    }\n",
       "</style>\n",
       "<table border=\"1\" class=\"dataframe\">\n",
       "  <thead>\n",
       "    <tr style=\"text-align: right;\">\n",
       "      <th></th>\n",
       "      <th>_id</th>\n",
       "      <th>PROPERTYZIP</th>\n",
       "      <th>MUNICODE</th>\n",
       "      <th>SCHOOLCODE</th>\n",
       "      <th>NEIGHCODE</th>\n",
       "      <th>LOTAREA</th>\n",
       "      <th>SALEDATE</th>\n",
       "      <th>SALEPRICE</th>\n",
       "      <th>FAIRMARKETTOTAL</th>\n",
       "      <th>STORIES</th>\n",
       "      <th>...</th>\n",
       "      <th>ROOFDESC_SLATE</th>\n",
       "      <th>ROOFDESC_TILE</th>\n",
       "      <th>BASEMENTDESC_Crawl</th>\n",
       "      <th>BASEMENTDESC_Full</th>\n",
       "      <th>BASEMENTDESC_None</th>\n",
       "      <th>BASEMENTDESC_Part</th>\n",
       "      <th>ROOFDESC_ROLL.1</th>\n",
       "      <th>ROOFDESC_SHINGLE.1</th>\n",
       "      <th>ROOFDESC_SLATE.1</th>\n",
       "      <th>ROOFDESC_TILE.1</th>\n",
       "    </tr>\n",
       "  </thead>\n",
       "  <tbody>\n",
       "    <tr>\n",
       "      <th>0</th>\n",
       "      <td>161705</td>\n",
       "      <td>15122</td>\n",
       "      <td>870</td>\n",
       "      <td>45</td>\n",
       "      <td>87005</td>\n",
       "      <td>10899</td>\n",
       "      <td>05-01-2018</td>\n",
       "      <td>145000.0</td>\n",
       "      <td>76700</td>\n",
       "      <td>1.0</td>\n",
       "      <td>...</td>\n",
       "      <td>0</td>\n",
       "      <td>0</td>\n",
       "      <td>0</td>\n",
       "      <td>1</td>\n",
       "      <td>0</td>\n",
       "      <td>0</td>\n",
       "      <td>0</td>\n",
       "      <td>1</td>\n",
       "      <td>0</td>\n",
       "      <td>0</td>\n",
       "    </tr>\n",
       "    <tr>\n",
       "      <th>1</th>\n",
       "      <td>530852</td>\n",
       "      <td>15146</td>\n",
       "      <td>879</td>\n",
       "      <td>18</td>\n",
       "      <td>87905</td>\n",
       "      <td>10691</td>\n",
       "      <td>05-13-2019</td>\n",
       "      <td>139997.0</td>\n",
       "      <td>106200</td>\n",
       "      <td>1.0</td>\n",
       "      <td>...</td>\n",
       "      <td>0</td>\n",
       "      <td>0</td>\n",
       "      <td>0</td>\n",
       "      <td>1</td>\n",
       "      <td>0</td>\n",
       "      <td>0</td>\n",
       "      <td>0</td>\n",
       "      <td>1</td>\n",
       "      <td>0</td>\n",
       "      <td>0</td>\n",
       "    </tr>\n",
       "    <tr>\n",
       "      <th>2</th>\n",
       "      <td>144978</td>\n",
       "      <td>15202</td>\n",
       "      <td>826</td>\n",
       "      <td>2</td>\n",
       "      <td>82601</td>\n",
       "      <td>11813</td>\n",
       "      <td>05-26-2017</td>\n",
       "      <td>170000.0</td>\n",
       "      <td>135300</td>\n",
       "      <td>1.0</td>\n",
       "      <td>...</td>\n",
       "      <td>0</td>\n",
       "      <td>0</td>\n",
       "      <td>0</td>\n",
       "      <td>1</td>\n",
       "      <td>0</td>\n",
       "      <td>0</td>\n",
       "      <td>0</td>\n",
       "      <td>1</td>\n",
       "      <td>0</td>\n",
       "      <td>0</td>\n",
       "    </tr>\n",
       "    <tr>\n",
       "      <th>3</th>\n",
       "      <td>436602</td>\n",
       "      <td>15202</td>\n",
       "      <td>803</td>\n",
       "      <td>29</td>\n",
       "      <td>80302</td>\n",
       "      <td>5324</td>\n",
       "      <td>06-06-2017</td>\n",
       "      <td>145000.0</td>\n",
       "      <td>117300</td>\n",
       "      <td>2.0</td>\n",
       "      <td>...</td>\n",
       "      <td>0</td>\n",
       "      <td>0</td>\n",
       "      <td>0</td>\n",
       "      <td>1</td>\n",
       "      <td>0</td>\n",
       "      <td>0</td>\n",
       "      <td>0</td>\n",
       "      <td>1</td>\n",
       "      <td>0</td>\n",
       "      <td>0</td>\n",
       "    </tr>\n",
       "    <tr>\n",
       "      <th>4</th>\n",
       "      <td>145066</td>\n",
       "      <td>15218</td>\n",
       "      <td>114</td>\n",
       "      <td>47</td>\n",
       "      <td>11403</td>\n",
       "      <td>3600</td>\n",
       "      <td>04-09-2016</td>\n",
       "      <td>325000.0</td>\n",
       "      <td>250000</td>\n",
       "      <td>2.0</td>\n",
       "      <td>...</td>\n",
       "      <td>0</td>\n",
       "      <td>0</td>\n",
       "      <td>0</td>\n",
       "      <td>1</td>\n",
       "      <td>0</td>\n",
       "      <td>0</td>\n",
       "      <td>0</td>\n",
       "      <td>1</td>\n",
       "      <td>0</td>\n",
       "      <td>0</td>\n",
       "    </tr>\n",
       "    <tr>\n",
       "      <th>5</th>\n",
       "      <td>145137</td>\n",
       "      <td>15228</td>\n",
       "      <td>926</td>\n",
       "      <td>26</td>\n",
       "      <td>92607</td>\n",
       "      <td>6406</td>\n",
       "      <td>04-30-2015</td>\n",
       "      <td>172900.0</td>\n",
       "      <td>137300</td>\n",
       "      <td>2.0</td>\n",
       "      <td>...</td>\n",
       "      <td>0</td>\n",
       "      <td>0</td>\n",
       "      <td>0</td>\n",
       "      <td>1</td>\n",
       "      <td>0</td>\n",
       "      <td>0</td>\n",
       "      <td>0</td>\n",
       "      <td>1</td>\n",
       "      <td>0</td>\n",
       "      <td>0</td>\n",
       "    </tr>\n",
       "    <tr>\n",
       "      <th>6</th>\n",
       "      <td>145246</td>\n",
       "      <td>15241</td>\n",
       "      <td>950</td>\n",
       "      <td>42</td>\n",
       "      <td>95001</td>\n",
       "      <td>38376</td>\n",
       "      <td>12-17-2015</td>\n",
       "      <td>817000.0</td>\n",
       "      <td>751600</td>\n",
       "      <td>2.0</td>\n",
       "      <td>...</td>\n",
       "      <td>0</td>\n",
       "      <td>0</td>\n",
       "      <td>0</td>\n",
       "      <td>1</td>\n",
       "      <td>0</td>\n",
       "      <td>0</td>\n",
       "      <td>0</td>\n",
       "      <td>1</td>\n",
       "      <td>0</td>\n",
       "      <td>0</td>\n",
       "    </tr>\n",
       "    <tr>\n",
       "      <th>7</th>\n",
       "      <td>529513</td>\n",
       "      <td>15132</td>\n",
       "      <td>409</td>\n",
       "      <td>23</td>\n",
       "      <td>40005</td>\n",
       "      <td>3844</td>\n",
       "      <td>01-09-2020</td>\n",
       "      <td>39000.0</td>\n",
       "      <td>45100</td>\n",
       "      <td>1.0</td>\n",
       "      <td>...</td>\n",
       "      <td>0</td>\n",
       "      <td>0</td>\n",
       "      <td>0</td>\n",
       "      <td>1</td>\n",
       "      <td>0</td>\n",
       "      <td>0</td>\n",
       "      <td>0</td>\n",
       "      <td>1</td>\n",
       "      <td>0</td>\n",
       "      <td>0</td>\n",
       "    </tr>\n",
       "    <tr>\n",
       "      <th>8</th>\n",
       "      <td>146103</td>\n",
       "      <td>15212</td>\n",
       "      <td>127</td>\n",
       "      <td>47</td>\n",
       "      <td>12703</td>\n",
       "      <td>5284</td>\n",
       "      <td>06-30-2016</td>\n",
       "      <td>65000.0</td>\n",
       "      <td>52800</td>\n",
       "      <td>1.5</td>\n",
       "      <td>...</td>\n",
       "      <td>0</td>\n",
       "      <td>0</td>\n",
       "      <td>0</td>\n",
       "      <td>1</td>\n",
       "      <td>0</td>\n",
       "      <td>0</td>\n",
       "      <td>0</td>\n",
       "      <td>1</td>\n",
       "      <td>0</td>\n",
       "      <td>0</td>\n",
       "    </tr>\n",
       "    <tr>\n",
       "      <th>9</th>\n",
       "      <td>146155</td>\n",
       "      <td>15212</td>\n",
       "      <td>127</td>\n",
       "      <td>47</td>\n",
       "      <td>12701</td>\n",
       "      <td>5544</td>\n",
       "      <td>11-10-2018</td>\n",
       "      <td>162000.0</td>\n",
       "      <td>111200</td>\n",
       "      <td>1.0</td>\n",
       "      <td>...</td>\n",
       "      <td>0</td>\n",
       "      <td>0</td>\n",
       "      <td>0</td>\n",
       "      <td>1</td>\n",
       "      <td>0</td>\n",
       "      <td>0</td>\n",
       "      <td>0</td>\n",
       "      <td>1</td>\n",
       "      <td>0</td>\n",
       "      <td>0</td>\n",
       "    </tr>\n",
       "  </tbody>\n",
       "</table>\n",
       "<p>10 rows × 65 columns</p>\n",
       "</div>"
      ],
      "text/plain": [
       "      _id  PROPERTYZIP  MUNICODE  SCHOOLCODE  NEIGHCODE  LOTAREA    SALEDATE  \\\n",
       "0  161705        15122       870          45      87005    10899  05-01-2018   \n",
       "1  530852        15146       879          18      87905    10691  05-13-2019   \n",
       "2  144978        15202       826           2      82601    11813  05-26-2017   \n",
       "3  436602        15202       803          29      80302     5324  06-06-2017   \n",
       "4  145066        15218       114          47      11403     3600  04-09-2016   \n",
       "5  145137        15228       926          26      92607     6406  04-30-2015   \n",
       "6  145246        15241       950          42      95001    38376  12-17-2015   \n",
       "7  529513        15132       409          23      40005     3844  01-09-2020   \n",
       "8  146103        15212       127          47      12703     5284  06-30-2016   \n",
       "9  146155        15212       127          47      12701     5544  11-10-2018   \n",
       "\n",
       "   SALEPRICE  FAIRMARKETTOTAL  STORIES  ...  ROOFDESC_SLATE  ROOFDESC_TILE  \\\n",
       "0   145000.0            76700      1.0  ...               0              0   \n",
       "1   139997.0           106200      1.0  ...               0              0   \n",
       "2   170000.0           135300      1.0  ...               0              0   \n",
       "3   145000.0           117300      2.0  ...               0              0   \n",
       "4   325000.0           250000      2.0  ...               0              0   \n",
       "5   172900.0           137300      2.0  ...               0              0   \n",
       "6   817000.0           751600      2.0  ...               0              0   \n",
       "7    39000.0            45100      1.0  ...               0              0   \n",
       "8    65000.0            52800      1.5  ...               0              0   \n",
       "9   162000.0           111200      1.0  ...               0              0   \n",
       "\n",
       "   BASEMENTDESC_Crawl  BASEMENTDESC_Full  BASEMENTDESC_None  \\\n",
       "0                   0                  1                  0   \n",
       "1                   0                  1                  0   \n",
       "2                   0                  1                  0   \n",
       "3                   0                  1                  0   \n",
       "4                   0                  1                  0   \n",
       "5                   0                  1                  0   \n",
       "6                   0                  1                  0   \n",
       "7                   0                  1                  0   \n",
       "8                   0                  1                  0   \n",
       "9                   0                  1                  0   \n",
       "\n",
       "   BASEMENTDESC_Part  ROOFDESC_ROLL.1  ROOFDESC_SHINGLE.1  ROOFDESC_SLATE.1  \\\n",
       "0                  0                0                   1                 0   \n",
       "1                  0                0                   1                 0   \n",
       "2                  0                0                   1                 0   \n",
       "3                  0                0                   1                 0   \n",
       "4                  0                0                   1                 0   \n",
       "5                  0                0                   1                 0   \n",
       "6                  0                0                   1                 0   \n",
       "7                  0                0                   1                 0   \n",
       "8                  0                0                   1                 0   \n",
       "9                  0                0                   1                 0   \n",
       "\n",
       "   ROOFDESC_TILE.1  \n",
       "0                0  \n",
       "1                0  \n",
       "2                0  \n",
       "3                0  \n",
       "4                0  \n",
       "5                0  \n",
       "6                0  \n",
       "7                0  \n",
       "8                0  \n",
       "9                0  \n",
       "\n",
       "[10 rows x 65 columns]"
      ]
     },
     "execution_count": 3,
     "metadata": {},
     "output_type": "execute_result"
    }
   ],
   "source": [
    "structured = pd.read_csv(PATH+\"structured_preprocessed.csv\")\n",
    "print(structured.shape)\n",
    "print(structured.columns)\n",
    "structured.head(10)"
   ]
  },
  {
   "cell_type": "markdown",
   "metadata": {},
   "source": [
    "### Defining useful functions"
   ]
  },
  {
   "cell_type": "code",
   "execution_count": 4,
   "metadata": {},
   "outputs": [],
   "source": [
    "def find_coord(x, df):\n",
    "    \"\"\"Returns id, latitude and longitude for property with given id\"\"\"\n",
    "    \n",
    "    _id, lat, long = x[0], x[1], x[2]\n",
    "    row = df[df[\"_id\"] == _id].iloc[0]\n",
    "    return row[\"_id\"], row[\"latitude\"], row[\"longitude\"]"
   ]
  },
  {
   "cell_type": "code",
   "execution_count": 5,
   "metadata": {},
   "outputs": [],
   "source": [
    "def make_train_test(df, spatial=None, verbose=True):\n",
    "    \"\"\"Returns train/test sets along with column names and df for saving errors\"\"\"\n",
    "    \n",
    "    to_drop = [\"PROPERTYZIP\", \"MUNICODE\", \"SCHOOLCODE\", \"NEIGHCODE\", \"SALEDATE\", \"SALEPRICE\",\n",
    "               \"FAIRMARKETTOTAL\", \"latitude\", \"longitude\", \"SALEYEAR\"]\n",
    "    if spatial:\n",
    "        to_drop.remove(spatial)  # remove from dropped columns to retain\n",
    "    \n",
    "    X = df.drop(to_drop, axis=1)\n",
    "    \n",
    "    # save col names for later\n",
    "    X_columns = list(X.columns)\n",
    "    X_columns.remove(\"_id\")  # remove id from col list, since it will be filtered out later\n",
    "    X = X.to_numpy()\n",
    "    \n",
    "    y = df[\"SALEPRICE\"].to_numpy()\n",
    "    \n",
    "    X_train, X_test, y_train, y_test = train_test_split(X, y, test_size=0.25, random_state=42)\n",
    "    \n",
    "    # save ids for later\n",
    "    train_ids = [x[0] for x in X_train]\n",
    "    test_ids = [x[0] for x in X_test]\n",
    "    X_train = X_train[:, 1:]  # remove first column (id)\n",
    "    X_test = X_test[:, 1:]    # remove first column (id)\n",
    "    \n",
    "    X_train_train, X_train_val, y_train_train, y_train_val = train_test_split(X_train, y_train, test_size=0.25, random_state=42)\n",
    "    \n",
    "    if verbose:\n",
    "        print(f\"{X_train.shape}: {X_train_train.shape} + {X_train_val.shape}\")\n",
    "        print(f\"{y_train.shape}: {y_train_train.shape} + {y_train_val.shape}\")\n",
    "        print(X_test.shape)\n",
    "        print(y_test.shape)\n",
    "    \n",
    "    # create error df\n",
    "    error_df = pd.DataFrame(data={\"id\": test_ids, \"lat\": [0]*len(test_ids), \"long\": [0]*len(test_ids)})\n",
    "    error_df = error_df.apply(lambda x: find_coord(x, df), axis=1, result_type='broadcast')\n",
    "    error_df.head(10)\n",
    "    \n",
    "    return X_columns, [X, y, X_train, X_test, y_train, y_test, X_train_train, X_train_val, y_train_train, y_train_val], error_df"
   ]
  },
  {
   "cell_type": "code",
   "execution_count": 7,
   "metadata": {},
   "outputs": [],
   "source": [
    "def mean_absolute_percentage_error(y_true, y_pred):\n",
    "    \"\"\"Returns MAPE\"\"\"\n",
    "    \n",
    "    y_true, y_pred = np.array(y_true), np.array(y_pred)\n",
    "    return np.mean(np.abs((y_true - y_pred) / y_true)) * 100"
   ]
  },
  {
   "cell_type": "code",
   "execution_count": 8,
   "metadata": {},
   "outputs": [],
   "source": [
    "def get_metrics(y_true, y_pred, print_out=True):\n",
    "    \"\"\"Returns MAE, RMSE, MAPE and R^2\"\"\"\n",
    "    \n",
    "    mae = mean_absolute_error(y_true, y_pred)\n",
    "    rmse = mean_squared_error(y_true, y_pred, squared=False)\n",
    "    mape = mean_absolute_percentage_error(y_true, y_pred)\n",
    "    r_squared = r2_score(y_true, y_pred)\n",
    "    \n",
    "    if print_out:\n",
    "        print(f\"MAE:  {round(mae)}\")\n",
    "        print(f\"RMSE: {round(rmse)}\")\n",
    "        print(f\"MAPE: {round(mape, 2)}%\")\n",
    "        print(f\"R^2:  {round(r_squared, 3)}\")\n",
    "    else:  \n",
    "        return mae, rmse, mape, r_squared"
   ]
  },
  {
   "cell_type": "code",
   "execution_count": 6,
   "metadata": {},
   "outputs": [],
   "source": [
    "def cross_validation(estimator, X, y, **kwargs):\n",
    "    \"\"\"Returns and prints cross validated MAE, RMSE, MAPE and R^2\"\"\"\n",
    "    \n",
    "    maes, rmses, mapes, r_squareds = [], [], [], []\n",
    "    X_cv = X[:, 1:]  # remove \"_id\" column\n",
    "\n",
    "    kf = KFold(n_splits=K_FOLDS, shuffle=True, random_state=42)\n",
    "    for train_index, test_index in tqdm(kf.split(X_cv), total=5):\n",
    "        X_train, X_test = X_cv[train_index], X_cv[test_index]\n",
    "        y_train, y_test = y[train_index], y[test_index]\n",
    "        \n",
    "        estimator.fit(X=X_train, y=y_train, **kwargs)\n",
    "\n",
    "\n",
    "        y_pred_cv = estimator.predict(X_test)\n",
    "        mae, rmse, mape, r_squared = get_metrics(y_test, y_pred_cv, print_out=False)\n",
    "        maes.append(mae)\n",
    "        rmses.append(rmse)\n",
    "        mapes.append(mape)\n",
    "        r_squareds.append(r_squared)\n",
    "    \n",
    "    mae_cv, rmse_cv = round(np.mean(maes)), round(np.mean(rmses))\n",
    "    mape_cv, r_squared_cv = round(np.mean(mapes), 2), round(np.mean(r_squareds), 3)\n",
    "    \n",
    "    print(f\"MAE:  {mae_cv}\")\n",
    "    print(f\"RMSE: {rmse_cv}\")\n",
    "    print(f\"MAPE: {mape_cv}%\")\n",
    "    print(f\"R^2:  {r_squared_cv}\")\n",
    "    \n",
    "    return mae_cv, rmse_cv, mape_cv, r_squared_cv"
   ]
  },
  {
   "cell_type": "markdown",
   "metadata": {},
   "source": [
    "Make train/test split"
   ]
  },
  {
   "cell_type": "code",
   "execution_count": 9,
   "metadata": {},
   "outputs": [
    {
     "name": "stdout",
     "output_type": "stream",
     "text": [
      "(7167, 53): (5375, 53) + (1792, 53)\n",
      "(7167,): (5375,) + (1792,)\n",
      "(2389, 53)\n",
      "(2389,)\n"
     ]
    }
   ],
   "source": [
    "X_columns, data_sets, error_df = make_train_test(structured)\n",
    "X, y, X_train, X_test, y_train, y_test, X_train_train, X_train_val, y_train_train, y_train_val = data_sets"
   ]
  },
  {
   "cell_type": "code",
   "execution_count": 10,
   "metadata": {},
   "outputs": [],
   "source": [
    "results_df = pd.DataFrame()"
   ]
  },
  {
   "cell_type": "markdown",
   "metadata": {},
   "source": [
    "## Only structured data"
   ]
  },
  {
   "cell_type": "markdown",
   "metadata": {},
   "source": [
    "### Linear model"
   ]
  },
  {
   "cell_type": "code",
   "execution_count": 11,
   "metadata": {},
   "outputs": [
    {
     "data": {
      "text/plain": [
       "LinearRegression()"
      ]
     },
     "execution_count": 11,
     "metadata": {},
     "output_type": "execute_result"
    }
   ],
   "source": [
    "model_01 = linear_model.LinearRegression()\n",
    "# model_01 = linear_model.Lasso()\n",
    "# model_01 = linear_model.Ridge()\n",
    "model_01.fit(X_train, y_train)"
   ]
  },
  {
   "cell_type": "code",
   "execution_count": 12,
   "metadata": {},
   "outputs": [
    {
     "name": "stdout",
     "output_type": "stream",
     "text": [
      "MAE:  43695\n",
      "RMSE: 60649\n",
      "MAPE: 27.18%\n",
      "R^2:  0.794\n"
     ]
    }
   ],
   "source": [
    "# y_pred_01 = [pow(2, pred) for pred in model_01.predict(X_test)] # reverse log transformation\n",
    "y_pred_01 = model_01.predict(X_test)\n",
    "get_metrics(y_test, y_pred_01)"
   ]
  },
  {
   "cell_type": "code",
   "execution_count": 13,
   "metadata": {},
   "outputs": [],
   "source": [
    "error_df[\"linear\"] = [test - pred for test, pred in zip(y_test, y_pred_01)]"
   ]
  },
  {
   "cell_type": "code",
   "execution_count": 14,
   "metadata": {},
   "outputs": [
    {
     "data": {
      "application/vnd.jupyter.widget-view+json": {
       "model_id": "efab7cb62e9e4b678757cdedc58daaa0",
       "version_major": 2,
       "version_minor": 0
      },
      "text/plain": [
       "  0%|          | 0/5 [00:00<?, ?it/s]"
      ]
     },
     "metadata": {},
     "output_type": "display_data"
    },
    {
     "name": "stdout",
     "output_type": "stream",
     "text": [
      "MAE:  44125\n",
      "RMSE: 62302\n",
      "MAPE: 28.15%\n",
      "R^2:  0.792\n"
     ]
    }
   ],
   "source": [
    "results_df[\"Linear: S\"] = cross_validation(model_01, X, y)"
   ]
  },
  {
   "cell_type": "markdown",
   "metadata": {},
   "source": [
    "### Random forest"
   ]
  },
  {
   "cell_type": "code",
   "execution_count": 17,
   "metadata": {},
   "outputs": [
    {
     "data": {
      "text/plain": [
       "RandomForestClassifier(max_depth=6, max_features=None, n_jobs=-1,\n",
       "                       random_state=42)"
      ]
     },
     "execution_count": 17,
     "metadata": {},
     "output_type": "execute_result"
    }
   ],
   "source": [
    "kwargs = dict(n_jobs=-1, n_estimators=100, max_features=None, random_state=42)\n",
    "model_02 = RandomForestClassifier(max_depth=6, **kwargs)\n",
    "model_02.fit(X_train, y_train)"
   ]
  },
  {
   "cell_type": "code",
   "execution_count": 18,
   "metadata": {},
   "outputs": [
    {
     "name": "stdout",
     "output_type": "stream",
     "text": [
      "MAE:  50247\n",
      "RMSE: 71309\n",
      "MAPE: 30.8%\n",
      "R^2:  0.715\n"
     ]
    }
   ],
   "source": [
    "y_pred_02 = model_02.predict(X_test)\n",
    "get_metrics(y_test, y_pred_02)"
   ]
  },
  {
   "cell_type": "markdown",
   "metadata": {},
   "source": [
    "Perform hyperparameter optimization with 3-Fold cross validation."
   ]
  },
  {
   "cell_type": "code",
   "execution_count": 29,
   "metadata": {},
   "outputs": [],
   "source": [
    "model_02 = RandomForestClassifier(verbose=0, n_jobs=-1)\n",
    "\n",
    "params_rf = {\"max_depth\": [3, 6, 9, 12, 15],\n",
    "             \"min_samples_leaf\": [1, 2, 4],\n",
    "             \"min_samples_split\": [2, 5, 10],\n",
    "             \"random_state\": [42],\n",
    "             \"n_estimators\": [300]}\n",
    "\n",
    "randomsearch_rf = RandomizedSearchCV(estimator=model_02, param_distributions=params_rf, n_iter=40, random_state=42,\n",
    "                                  scoring=\"neg_root_mean_squared_error\", n_jobs=-1, verbose=1, cv=3)"
   ]
  },
  {
   "cell_type": "code",
   "execution_count": 30,
   "metadata": {},
   "outputs": [
    {
     "name": "stdout",
     "output_type": "stream",
     "text": [
      "Fitting 3 folds for each of 40 candidates, totalling 120 fits\n"
     ]
    },
    {
     "name": "stderr",
     "output_type": "stream",
     "text": [
      "[Parallel(n_jobs=-1)]: Using backend LokyBackend with 12 concurrent workers.\n",
      "[Parallel(n_jobs=-1)]: Done  26 tasks      | elapsed:  2.3min\n",
      "[Parallel(n_jobs=-1)]: Done 120 out of 120 | elapsed:  9.7min finished\n"
     ]
    }
   ],
   "source": [
    "randomsearch_rf.fit(X[:, 1:], y)\n",
    "best_params_rf = randomsearch_rf.best_params_"
   ]
  },
  {
   "cell_type": "markdown",
   "metadata": {},
   "source": [
    "Create best model"
   ]
  },
  {
   "cell_type": "code",
   "execution_count": 31,
   "metadata": {},
   "outputs": [],
   "source": [
    "model_02 = RandomForestClassifier(verbose=0, n_jobs=-1, **best_params_rf)"
   ]
  },
  {
   "cell_type": "code",
   "execution_count": 32,
   "metadata": {},
   "outputs": [
    {
     "data": {
      "application/vnd.jupyter.widget-view+json": {
       "model_id": "e552369994b4448d884302b8ac54a5ca",
       "version_major": 2,
       "version_minor": 0
      },
      "text/plain": [
       "  0%|          | 0/5 [00:00<?, ?it/s]"
      ]
     },
     "metadata": {},
     "output_type": "display_data"
    },
    {
     "name": "stdout",
     "output_type": "stream",
     "text": [
      "MAE:  48545\n",
      "RMSE: 72628\n",
      "MAPE: 29.5%\n",
      "R^2:  0.717\n"
     ]
    }
   ],
   "source": [
    "error_df[\"random_forest\"] = [test - pred for test, pred in zip(y_test, y_pred_02)]\n",
    "results_df[\"RF: S\"] = cross_validation(model_02, X, y)"
   ]
  },
  {
   "cell_type": "markdown",
   "metadata": {},
   "source": [
    "### Gradient boosting"
   ]
  },
  {
   "cell_type": "code",
   "execution_count": 44,
   "metadata": {
    "scrolled": true
   },
   "outputs": [
    {
     "data": {
      "text/plain": [
       "XGBClassifier(base_score=0.5, booster='gbtree', colsample_bylevel=1,\n",
       "              colsample_bynode=1, colsample_bytree=1, gamma=0.01, gpu_id=-1,\n",
       "              importance_type='gain', interaction_constraints='',\n",
       "              learning_rate=0.02, max_delta_step=0, max_depth=6,\n",
       "              min_child_weight=1, missing=nan, monotone_constraints='()',\n",
       "              n_estimators=200, n_jobs=-1, num_parallel_tree=1,\n",
       "              objective='multi:softprob', random_state=42, reg_alpha=0,\n",
       "              reg_lambda=1, scale_pos_weight=None, subsample=1,\n",
       "              tree_method='exact', validate_parameters=1, verbosity=0)"
      ]
     },
     "execution_count": 44,
     "metadata": {},
     "output_type": "execute_result"
    }
   ],
   "source": [
    "kwargs = dict(n_jobs=-1, n_estimators=200,\n",
    "              learning_rate=0.02, gamma=0.01,\n",
    "              random_state=42, verbosity = 0)\n",
    "model_03 = xgb.XGBClassifier(**kwargs)\n",
    "model_03.fit(X_train, y_train)"
   ]
  },
  {
   "cell_type": "code",
   "execution_count": 45,
   "metadata": {},
   "outputs": [
    {
     "name": "stdout",
     "output_type": "stream",
     "text": [
      "MAE:  50467\n",
      "RMSE: 72494\n",
      "MAPE: 29.33%\n",
      "R^2:  0.705\n"
     ]
    }
   ],
   "source": [
    "y_pred_03 = model_03.predict(X_test)\n",
    "get_metrics(y_test, y_pred_03)"
   ]
  },
  {
   "cell_type": "markdown",
   "metadata": {},
   "source": [
    "Perform hyperparameter optimization with 3-Fold cross validation."
   ]
  },
  {
   "cell_type": "code",
   "execution_count": 35,
   "metadata": {},
   "outputs": [],
   "source": [
    "model_03 = xgb.XGBClassifier(verbosity=0, n_jobs=-1)\n",
    "\n",
    "params_xgb = {\"learning_rate\": [0.015, 0.02, 0.025, 0.03],\n",
    "              \"max_depth\": [3, 5, 8],\n",
    "              \"gamma\": [0, 0.1, 0.2, 0.3],\n",
    "              \"max_delta_step\": [0, 3, 6, 9],\n",
    "              \"colsample_bytree\": [0.6, 0.8, 1],\n",
    "              \"random_state\": [42],\n",
    "              \"n_estimators\": [100]}\n",
    "\n",
    "randomsearch_xgb = RandomizedSearchCV(estimator=model_03, param_distributions=params, n_iter=40, random_state=42,\n",
    "                                      scoring=\"neg_root_mean_squared_error\", n_jobs=-1, verbose=1, cv=3)"
   ]
  },
  {
   "cell_type": "code",
   "execution_count": 36,
   "metadata": {},
   "outputs": [
    {
     "name": "stdout",
     "output_type": "stream",
     "text": [
      "Fitting 3 folds for each of 40 candidates, totalling 120 fits\n"
     ]
    },
    {
     "name": "stderr",
     "output_type": "stream",
     "text": [
      "[Parallel(n_jobs=-1)]: Using backend LokyBackend with 12 concurrent workers.\n",
      "[Parallel(n_jobs=-1)]: Done  26 tasks      | elapsed: 63.0min\n",
      "[Parallel(n_jobs=-1)]: Done 120 out of 120 | elapsed: 204.4min finished\n"
     ]
    },
    {
     "ename": "AttributeError",
     "evalue": "'RandomizedSearchCV' object has no attribute 'best_params_'",
     "output_type": "error",
     "traceback": [
      "\u001b[1;31m---------------------------------------------------------------------------\u001b[0m",
      "\u001b[1;31mAttributeError\u001b[0m                            Traceback (most recent call last)",
      "\u001b[1;32m<ipython-input-36-b5a9b23545ea>\u001b[0m in \u001b[0;36m<module>\u001b[1;34m\u001b[0m\n\u001b[0;32m      1\u001b[0m \u001b[0mrandomsearch_xgb\u001b[0m\u001b[1;33m.\u001b[0m\u001b[0mfit\u001b[0m\u001b[1;33m(\u001b[0m\u001b[0mX\u001b[0m\u001b[1;33m[\u001b[0m\u001b[1;33m:\u001b[0m\u001b[1;33m,\u001b[0m \u001b[1;36m1\u001b[0m\u001b[1;33m:\u001b[0m\u001b[1;33m]\u001b[0m\u001b[1;33m,\u001b[0m \u001b[0my\u001b[0m\u001b[1;33m)\u001b[0m\u001b[1;33m\u001b[0m\u001b[1;33m\u001b[0m\u001b[0m\n\u001b[1;32m----> 2\u001b[1;33m \u001b[0mbest_params_xgb\u001b[0m \u001b[1;33m=\u001b[0m \u001b[0mrandomsearch\u001b[0m\u001b[1;33m.\u001b[0m\u001b[0mbest_params_\u001b[0m\u001b[1;33m\u001b[0m\u001b[1;33m\u001b[0m\u001b[0m\n\u001b[0m",
      "\u001b[1;31mAttributeError\u001b[0m: 'RandomizedSearchCV' object has no attribute 'best_params_'"
     ]
    }
   ],
   "source": [
    "randomsearch_xgb.fit(X[:, 1:], y)\n",
    "best_params_xgb = randomsearch_xgb.best_params_"
   ]
  },
  {
   "cell_type": "markdown",
   "metadata": {},
   "source": [
    "Create best model"
   ]
  },
  {
   "cell_type": "code",
   "execution_count": 38,
   "metadata": {},
   "outputs": [],
   "source": [
    "model_03 = xgb.XGBClassifier(verbosity=0, n_jobs=-1, **best_params_xgb)"
   ]
  },
  {
   "cell_type": "code",
   "execution_count": 46,
   "metadata": {},
   "outputs": [
    {
     "data": {
      "application/vnd.jupyter.widget-view+json": {
       "model_id": "818ab93855b14e54927638055c97690b",
       "version_major": 2,
       "version_minor": 0
      },
      "text/plain": [
       "  0%|          | 0/5 [00:00<?, ?it/s]"
      ]
     },
     "metadata": {},
     "output_type": "display_data"
    },
    {
     "name": "stdout",
     "output_type": "stream",
     "text": [
      "MAE:  50807\n",
      "RMSE: 73893\n",
      "MAPE: 30.36%\n",
      "R^2:  0.707\n"
     ]
    }
   ],
   "source": [
    "error_df[\"grad_boost\"] = [test - pred for test, pred in zip(y_test, y_pred_03)]\n",
    "results_df[\"XGB: S\"] = cross_validation(model_03, X, y)"
   ]
  },
  {
   "cell_type": "markdown",
   "metadata": {},
   "source": [
    "### Catboost"
   ]
  },
  {
   "cell_type": "code",
   "execution_count": 40,
   "metadata": {},
   "outputs": [
    {
     "data": {
      "text/plain": [
       "<catboost.core.CatBoostRegressor at 0x26b5e28df88>"
      ]
     },
     "execution_count": 40,
     "metadata": {},
     "output_type": "execute_result"
    }
   ],
   "source": [
    "kwargs = dict(verbose=False)\n",
    "model_04 = CatBoostRegressor()\n",
    "model_04.fit(X=X_train, y=y_train, **kwargs)"
   ]
  },
  {
   "cell_type": "code",
   "execution_count": 41,
   "metadata": {},
   "outputs": [
    {
     "name": "stdout",
     "output_type": "stream",
     "text": [
      "MAE:  40497\n",
      "RMSE: 58437\n",
      "MAPE: 24.16%\n",
      "R^2:  0.809\n"
     ]
    }
   ],
   "source": [
    "y_pred_04 = model_04.predict(X_test)\n",
    "get_metrics(y_test, y_pred_04)"
   ]
  },
  {
   "cell_type": "code",
   "execution_count": 42,
   "metadata": {},
   "outputs": [
    {
     "data": {
      "application/vnd.jupyter.widget-view+json": {
       "model_id": "ff8749fa636c4b38b8acc1a9f4df57af",
       "version_major": 2,
       "version_minor": 0
      },
      "text/plain": [
       "  0%|          | 0/5 [00:00<?, ?it/s]"
      ]
     },
     "metadata": {},
     "output_type": "display_data"
    },
    {
     "name": "stdout",
     "output_type": "stream",
     "text": [
      "MAE:  40850\n",
      "RMSE: 58818\n",
      "MAPE: 25.48%\n",
      "R^2:  0.814\n"
     ]
    }
   ],
   "source": [
    "error_df[\"catboost\"] = [test - pred for test, pred in zip(y_test, y_pred_04)]\n",
    "results_df[\"Catboost: S\"] = cross_validation(model_04, X, y, **kwargs)"
   ]
  },
  {
   "cell_type": "markdown",
   "metadata": {},
   "source": [
    "Save error df"
   ]
  },
  {
   "cell_type": "code",
   "execution_count": 28,
   "metadata": {},
   "outputs": [],
   "source": [
    "error_df.to_csv(PATH+\"results/errors_basic.csv\", index=None)"
   ]
  },
  {
   "cell_type": "code",
   "execution_count": 47,
   "metadata": {},
   "outputs": [
    {
     "data": {
      "text/html": [
       "<div>\n",
       "<style scoped>\n",
       "    .dataframe tbody tr th:only-of-type {\n",
       "        vertical-align: middle;\n",
       "    }\n",
       "\n",
       "    .dataframe tbody tr th {\n",
       "        vertical-align: top;\n",
       "    }\n",
       "\n",
       "    .dataframe thead th {\n",
       "        text-align: right;\n",
       "    }\n",
       "</style>\n",
       "<table border=\"1\" class=\"dataframe\">\n",
       "  <thead>\n",
       "    <tr style=\"text-align: right;\">\n",
       "      <th></th>\n",
       "      <th>Linear: S</th>\n",
       "      <th>RF: S</th>\n",
       "      <th>XGB: S</th>\n",
       "      <th>Catboost: S</th>\n",
       "    </tr>\n",
       "  </thead>\n",
       "  <tbody>\n",
       "    <tr>\n",
       "      <th>MAE</th>\n",
       "      <td>44125.000</td>\n",
       "      <td>48545.000</td>\n",
       "      <td>50807.000</td>\n",
       "      <td>40850.000</td>\n",
       "    </tr>\n",
       "    <tr>\n",
       "      <th>RMSE</th>\n",
       "      <td>62302.000</td>\n",
       "      <td>72628.000</td>\n",
       "      <td>73893.000</td>\n",
       "      <td>58818.000</td>\n",
       "    </tr>\n",
       "    <tr>\n",
       "      <th>MAPE</th>\n",
       "      <td>28.150</td>\n",
       "      <td>29.500</td>\n",
       "      <td>30.360</td>\n",
       "      <td>25.480</td>\n",
       "    </tr>\n",
       "    <tr>\n",
       "      <th>R^2</th>\n",
       "      <td>0.792</td>\n",
       "      <td>0.717</td>\n",
       "      <td>0.707</td>\n",
       "      <td>0.814</td>\n",
       "    </tr>\n",
       "  </tbody>\n",
       "</table>\n",
       "</div>"
      ],
      "text/plain": [
       "      Linear: S      RF: S     XGB: S  Catboost: S\n",
       "MAE   44125.000  48545.000  50807.000    40850.000\n",
       "RMSE  62302.000  72628.000  73893.000    58818.000\n",
       "MAPE     28.150     29.500     30.360       25.480\n",
       "R^2       0.792      0.717      0.707        0.814"
      ]
     },
     "execution_count": 47,
     "metadata": {},
     "output_type": "execute_result"
    }
   ],
   "source": [
    "results_df.index = [\"MAE\", \"RMSE\", \"MAPE\", \"R^2\"]\n",
    "results_df.head()"
   ]
  },
  {
   "cell_type": "markdown",
   "metadata": {},
   "source": [
    "## Structured and basic spatial membership"
   ]
  },
  {
   "cell_type": "markdown",
   "metadata": {},
   "source": [
    "Different types of aggregated membership are tested for their predictive performance."
   ]
  },
  {
   "cell_type": "code",
   "execution_count": 39,
   "metadata": {},
   "outputs": [
    {
     "name": "stdout",
     "output_type": "stream",
     "text": [
      "Spatial choice: PROPERTYZIP\n"
     ]
    },
    {
     "data": {
      "application/vnd.jupyter.widget-view+json": {
       "model_id": "b57f390809b04102803d59cc1e77249e",
       "version_major": 2,
       "version_minor": 0
      },
      "text/plain": [
       "  0%|          | 0/5 [00:00<?, ?it/s]"
      ]
     },
     "metadata": {},
     "output_type": "display_data"
    },
    {
     "name": "stdout",
     "output_type": "stream",
     "text": [
      "MAE:  33207\n",
      "RMSE: 49561\n",
      "MAPE: 19.92%\n",
      "R^2:  0.868\n",
      "\n",
      "Spatial choice: MUNICODE\n"
     ]
    },
    {
     "data": {
      "application/vnd.jupyter.widget-view+json": {
       "model_id": "dedeee035192478db95dba2c4e238f44",
       "version_major": 2,
       "version_minor": 0
      },
      "text/plain": [
       "  0%|          | 0/5 [00:00<?, ?it/s]"
      ]
     },
     "metadata": {},
     "output_type": "display_data"
    },
    {
     "name": "stdout",
     "output_type": "stream",
     "text": [
      "MAE:  31517\n",
      "RMSE: 46809\n",
      "MAPE: 18.84%\n",
      "R^2:  0.882\n",
      "\n",
      "Spatial choice: SCHOOLCODE\n"
     ]
    },
    {
     "data": {
      "application/vnd.jupyter.widget-view+json": {
       "model_id": "3b08f667ee9148beabb0e27a909945dd",
       "version_major": 2,
       "version_minor": 0
      },
      "text/plain": [
       "  0%|          | 0/5 [00:00<?, ?it/s]"
      ]
     },
     "metadata": {},
     "output_type": "display_data"
    },
    {
     "name": "stdout",
     "output_type": "stream",
     "text": [
      "MAE:  33350\n",
      "RMSE: 50363\n",
      "MAPE: 20.12%\n",
      "R^2:  0.864\n",
      "\n",
      "Spatial choice: NEIGHCODE\n"
     ]
    },
    {
     "data": {
      "application/vnd.jupyter.widget-view+json": {
       "model_id": "2bd731287e714183a5090cc8dd31185a",
       "version_major": 2,
       "version_minor": 0
      },
      "text/plain": [
       "  0%|          | 0/5 [00:00<?, ?it/s]"
      ]
     },
     "metadata": {},
     "output_type": "display_data"
    },
    {
     "name": "stdout",
     "output_type": "stream",
     "text": [
      "MAE:  31725\n",
      "RMSE: 46977\n",
      "MAPE: 19.18%\n",
      "R^2:  0.881\n",
      "\n"
     ]
    }
   ],
   "source": [
    "for spatial in [\"PROPERTYZIP\", \"MUNICODE\", \"SCHOOLCODE\", \"NEIGHCODE\"]:\n",
    "    # make dataset with spatial column\n",
    "    X_columns, data_sets, error_df = make_train_test(structured, spatial=spatial, verbose=False)\n",
    "    X, y, X_train, X_test, y_train, y_test, X_train_train, X_train_val, y_train_train, y_train_val = data_sets\n",
    "    \n",
    "    model_spatial = CatBoostRegressor()\n",
    "    \n",
    "    print(f\"Spatial choice: {spatial}\")\n",
    "    kwargs = dict(verbose=False)\n",
    "    metrics = cross_validation(model_spatial, X, y, **kwargs)\n",
    "    print(\"\")"
   ]
  },
  {
   "cell_type": "markdown",
   "metadata": {},
   "source": [
    "## Explore solution"
   ]
  },
  {
   "cell_type": "markdown",
   "metadata": {},
   "source": [
    "Coefficients for each feature"
   ]
  },
  {
   "cell_type": "code",
   "execution_count": 17,
   "metadata": {
    "scrolled": true
   },
   "outputs": [
    {
     "name": "stdout",
     "output_type": "stream",
     "text": [
      "Intercept: 434882.92392270896\n"
     ]
    },
    {
     "data": {
      "text/html": [
       "<div>\n",
       "<style scoped>\n",
       "    .dataframe tbody tr th:only-of-type {\n",
       "        vertical-align: middle;\n",
       "    }\n",
       "\n",
       "    .dataframe tbody tr th {\n",
       "        vertical-align: top;\n",
       "    }\n",
       "\n",
       "    .dataframe thead th {\n",
       "        text-align: right;\n",
       "    }\n",
       "</style>\n",
       "<table border=\"1\" class=\"dataframe\">\n",
       "  <thead>\n",
       "    <tr style=\"text-align: right;\">\n",
       "      <th></th>\n",
       "      <th>feature</th>\n",
       "      <th>coef</th>\n",
       "    </tr>\n",
       "  </thead>\n",
       "  <tbody>\n",
       "    <tr>\n",
       "      <th>0</th>\n",
       "      <td>LOTAREA</td>\n",
       "      <td>0.272668</td>\n",
       "    </tr>\n",
       "    <tr>\n",
       "      <th>1</th>\n",
       "      <td>STORIES</td>\n",
       "      <td>-8990.809285</td>\n",
       "    </tr>\n",
       "    <tr>\n",
       "      <th>2</th>\n",
       "      <td>YEARBLT</td>\n",
       "      <td>112.463600</td>\n",
       "    </tr>\n",
       "    <tr>\n",
       "      <th>3</th>\n",
       "      <td>GRADE</td>\n",
       "      <td>-33549.359629</td>\n",
       "    </tr>\n",
       "    <tr>\n",
       "      <th>4</th>\n",
       "      <td>CONDITION</td>\n",
       "      <td>-3046.535201</td>\n",
       "    </tr>\n",
       "    <tr>\n",
       "      <th>5</th>\n",
       "      <td>CDU</td>\n",
       "      <td>-28986.429427</td>\n",
       "    </tr>\n",
       "    <tr>\n",
       "      <th>6</th>\n",
       "      <td>TOTALROOMS</td>\n",
       "      <td>-1906.179316</td>\n",
       "    </tr>\n",
       "    <tr>\n",
       "      <th>7</th>\n",
       "      <td>BEDROOMS</td>\n",
       "      <td>3324.072563</td>\n",
       "    </tr>\n",
       "    <tr>\n",
       "      <th>8</th>\n",
       "      <td>FULLBATHS</td>\n",
       "      <td>23708.109631</td>\n",
       "    </tr>\n",
       "    <tr>\n",
       "      <th>9</th>\n",
       "      <td>HALFBATHS</td>\n",
       "      <td>13063.188534</td>\n",
       "    </tr>\n",
       "    <tr>\n",
       "      <th>10</th>\n",
       "      <td>FIREPLACES</td>\n",
       "      <td>4904.619876</td>\n",
       "    </tr>\n",
       "    <tr>\n",
       "      <th>11</th>\n",
       "      <td>BSMTGARAGE</td>\n",
       "      <td>-2864.409039</td>\n",
       "    </tr>\n",
       "    <tr>\n",
       "      <th>12</th>\n",
       "      <td>FINISHEDLIVINGAREA</td>\n",
       "      <td>66.768001</td>\n",
       "    </tr>\n",
       "    <tr>\n",
       "      <th>13</th>\n",
       "      <td>SALEYEAR_STR_2015</td>\n",
       "      <td>-3393.948114</td>\n",
       "    </tr>\n",
       "    <tr>\n",
       "      <th>14</th>\n",
       "      <td>SALEYEAR_STR_2016</td>\n",
       "      <td>-6424.707824</td>\n",
       "    </tr>\n",
       "    <tr>\n",
       "      <th>15</th>\n",
       "      <td>SALEYEAR_STR_2017</td>\n",
       "      <td>-3157.724154</td>\n",
       "    </tr>\n",
       "    <tr>\n",
       "      <th>16</th>\n",
       "      <td>SALEYEAR_STR_2018</td>\n",
       "      <td>1155.073047</td>\n",
       "    </tr>\n",
       "    <tr>\n",
       "      <th>17</th>\n",
       "      <td>SALEYEAR_STR_2019</td>\n",
       "      <td>541.531311</td>\n",
       "    </tr>\n",
       "    <tr>\n",
       "      <th>18</th>\n",
       "      <td>SALEYEAR_STR_2020</td>\n",
       "      <td>11279.775734</td>\n",
       "    </tr>\n",
       "    <tr>\n",
       "      <th>19</th>\n",
       "      <td>HEATINGCOOLINGDESC_CentralHeat</td>\n",
       "      <td>-2451.641183</td>\n",
       "    </tr>\n",
       "    <tr>\n",
       "      <th>20</th>\n",
       "      <td>HEATINGCOOLINGDESC_CentralHeatwithAC</td>\n",
       "      <td>2451.641183</td>\n",
       "    </tr>\n",
       "    <tr>\n",
       "      <th>21</th>\n",
       "      <td>OWNERDESC_REGULAR</td>\n",
       "      <td>-9978.551113</td>\n",
       "    </tr>\n",
       "    <tr>\n",
       "      <th>22</th>\n",
       "      <td>OWNERDESC_REGULAR-ETAL</td>\n",
       "      <td>565.879066</td>\n",
       "    </tr>\n",
       "    <tr>\n",
       "      <th>23</th>\n",
       "      <td>OWNERDESC_REGULAR-ETUXORETVIR</td>\n",
       "      <td>9412.672048</td>\n",
       "    </tr>\n",
       "    <tr>\n",
       "      <th>24</th>\n",
       "      <td>STYLEDESC_BI-LEVEL</td>\n",
       "      <td>-13952.088787</td>\n",
       "    </tr>\n",
       "    <tr>\n",
       "      <th>25</th>\n",
       "      <td>STYLEDESC_BUNGALOW</td>\n",
       "      <td>19245.842002</td>\n",
       "    </tr>\n",
       "    <tr>\n",
       "      <th>26</th>\n",
       "      <td>STYLEDESC_CAPECOD</td>\n",
       "      <td>-16449.128494</td>\n",
       "    </tr>\n",
       "    <tr>\n",
       "      <th>27</th>\n",
       "      <td>STYLEDESC_COLONIAL</td>\n",
       "      <td>-815.379238</td>\n",
       "    </tr>\n",
       "    <tr>\n",
       "      <th>28</th>\n",
       "      <td>STYLEDESC_CONTEMPORARY</td>\n",
       "      <td>16729.159222</td>\n",
       "    </tr>\n",
       "    <tr>\n",
       "      <th>29</th>\n",
       "      <td>STYLEDESC_OLDSTYLE</td>\n",
       "      <td>-2163.244899</td>\n",
       "    </tr>\n",
       "    <tr>\n",
       "      <th>30</th>\n",
       "      <td>STYLEDESC_RANCH</td>\n",
       "      <td>8400.601109</td>\n",
       "    </tr>\n",
       "    <tr>\n",
       "      <th>31</th>\n",
       "      <td>STYLEDESC_SEMIDETACHED</td>\n",
       "      <td>24643.288506</td>\n",
       "    </tr>\n",
       "    <tr>\n",
       "      <th>32</th>\n",
       "      <td>STYLEDESC_SPLITLEVEL</td>\n",
       "      <td>-22034.702918</td>\n",
       "    </tr>\n",
       "    <tr>\n",
       "      <th>33</th>\n",
       "      <td>STYLEDESC_TUDOR</td>\n",
       "      <td>25665.366019</td>\n",
       "    </tr>\n",
       "    <tr>\n",
       "      <th>34</th>\n",
       "      <td>STYLEDESC_VICTORIAN</td>\n",
       "      <td>-39269.712521</td>\n",
       "    </tr>\n",
       "    <tr>\n",
       "      <th>35</th>\n",
       "      <td>EXTFINISH_DESC_Brick</td>\n",
       "      <td>-166.331871</td>\n",
       "    </tr>\n",
       "    <tr>\n",
       "      <th>36</th>\n",
       "      <td>EXTFINISH_DESC_ConcreteBlock</td>\n",
       "      <td>12043.696845</td>\n",
       "    </tr>\n",
       "    <tr>\n",
       "      <th>37</th>\n",
       "      <td>EXTFINISH_DESC_Frame</td>\n",
       "      <td>-903.474737</td>\n",
       "    </tr>\n",
       "    <tr>\n",
       "      <th>38</th>\n",
       "      <td>EXTFINISH_DESC_MasonryFRAME</td>\n",
       "      <td>-1164.982507</td>\n",
       "    </tr>\n",
       "    <tr>\n",
       "      <th>39</th>\n",
       "      <td>EXTFINISH_DESC_Stone</td>\n",
       "      <td>-11553.653626</td>\n",
       "    </tr>\n",
       "    <tr>\n",
       "      <th>40</th>\n",
       "      <td>EXTFINISH_DESC_Stucco</td>\n",
       "      <td>1744.745895</td>\n",
       "    </tr>\n",
       "    <tr>\n",
       "      <th>41</th>\n",
       "      <td>ROOFDESC_ROLL</td>\n",
       "      <td>-1966.691599</td>\n",
       "    </tr>\n",
       "    <tr>\n",
       "      <th>42</th>\n",
       "      <td>ROOFDESC_SHINGLE</td>\n",
       "      <td>-9608.995976</td>\n",
       "    </tr>\n",
       "    <tr>\n",
       "      <th>43</th>\n",
       "      <td>ROOFDESC_SLATE</td>\n",
       "      <td>2329.897717</td>\n",
       "    </tr>\n",
       "    <tr>\n",
       "      <th>44</th>\n",
       "      <td>ROOFDESC_TILE</td>\n",
       "      <td>9245.789859</td>\n",
       "    </tr>\n",
       "    <tr>\n",
       "      <th>45</th>\n",
       "      <td>BASEMENTDESC_Crawl</td>\n",
       "      <td>-6562.936302</td>\n",
       "    </tr>\n",
       "    <tr>\n",
       "      <th>46</th>\n",
       "      <td>BASEMENTDESC_Full</td>\n",
       "      <td>7589.074610</td>\n",
       "    </tr>\n",
       "    <tr>\n",
       "      <th>47</th>\n",
       "      <td>BASEMENTDESC_None</td>\n",
       "      <td>-9661.107943</td>\n",
       "    </tr>\n",
       "    <tr>\n",
       "      <th>48</th>\n",
       "      <td>BASEMENTDESC_Part</td>\n",
       "      <td>8634.969635</td>\n",
       "    </tr>\n",
       "    <tr>\n",
       "      <th>49</th>\n",
       "      <td>ROOFDESC_ROLL.1</td>\n",
       "      <td>-1966.691599</td>\n",
       "    </tr>\n",
       "    <tr>\n",
       "      <th>50</th>\n",
       "      <td>ROOFDESC_SHINGLE.1</td>\n",
       "      <td>-9608.995976</td>\n",
       "    </tr>\n",
       "    <tr>\n",
       "      <th>51</th>\n",
       "      <td>ROOFDESC_SLATE.1</td>\n",
       "      <td>2329.897717</td>\n",
       "    </tr>\n",
       "    <tr>\n",
       "      <th>52</th>\n",
       "      <td>ROOFDESC_TILE.1</td>\n",
       "      <td>9245.789859</td>\n",
       "    </tr>\n",
       "  </tbody>\n",
       "</table>\n",
       "</div>"
      ],
      "text/plain": [
       "                                 feature          coef\n",
       "0                                LOTAREA      0.272668\n",
       "1                                STORIES  -8990.809285\n",
       "2                                YEARBLT    112.463600\n",
       "3                                  GRADE -33549.359629\n",
       "4                              CONDITION  -3046.535201\n",
       "5                                    CDU -28986.429427\n",
       "6                             TOTALROOMS  -1906.179316\n",
       "7                               BEDROOMS   3324.072563\n",
       "8                              FULLBATHS  23708.109631\n",
       "9                              HALFBATHS  13063.188534\n",
       "10                            FIREPLACES   4904.619876\n",
       "11                            BSMTGARAGE  -2864.409039\n",
       "12                    FINISHEDLIVINGAREA     66.768001\n",
       "13                     SALEYEAR_STR_2015  -3393.948114\n",
       "14                     SALEYEAR_STR_2016  -6424.707824\n",
       "15                     SALEYEAR_STR_2017  -3157.724154\n",
       "16                     SALEYEAR_STR_2018   1155.073047\n",
       "17                     SALEYEAR_STR_2019    541.531311\n",
       "18                     SALEYEAR_STR_2020  11279.775734\n",
       "19        HEATINGCOOLINGDESC_CentralHeat  -2451.641183\n",
       "20  HEATINGCOOLINGDESC_CentralHeatwithAC   2451.641183\n",
       "21                     OWNERDESC_REGULAR  -9978.551113\n",
       "22                OWNERDESC_REGULAR-ETAL    565.879066\n",
       "23         OWNERDESC_REGULAR-ETUXORETVIR   9412.672048\n",
       "24                    STYLEDESC_BI-LEVEL -13952.088787\n",
       "25                    STYLEDESC_BUNGALOW  19245.842002\n",
       "26                     STYLEDESC_CAPECOD -16449.128494\n",
       "27                    STYLEDESC_COLONIAL   -815.379238\n",
       "28                STYLEDESC_CONTEMPORARY  16729.159222\n",
       "29                    STYLEDESC_OLDSTYLE  -2163.244899\n",
       "30                       STYLEDESC_RANCH   8400.601109\n",
       "31                STYLEDESC_SEMIDETACHED  24643.288506\n",
       "32                  STYLEDESC_SPLITLEVEL -22034.702918\n",
       "33                       STYLEDESC_TUDOR  25665.366019\n",
       "34                   STYLEDESC_VICTORIAN -39269.712521\n",
       "35                  EXTFINISH_DESC_Brick   -166.331871\n",
       "36          EXTFINISH_DESC_ConcreteBlock  12043.696845\n",
       "37                  EXTFINISH_DESC_Frame   -903.474737\n",
       "38           EXTFINISH_DESC_MasonryFRAME  -1164.982507\n",
       "39                  EXTFINISH_DESC_Stone -11553.653626\n",
       "40                 EXTFINISH_DESC_Stucco   1744.745895\n",
       "41                         ROOFDESC_ROLL  -1966.691599\n",
       "42                      ROOFDESC_SHINGLE  -9608.995976\n",
       "43                        ROOFDESC_SLATE   2329.897717\n",
       "44                         ROOFDESC_TILE   9245.789859\n",
       "45                    BASEMENTDESC_Crawl  -6562.936302\n",
       "46                     BASEMENTDESC_Full   7589.074610\n",
       "47                     BASEMENTDESC_None  -9661.107943\n",
       "48                     BASEMENTDESC_Part   8634.969635\n",
       "49                       ROOFDESC_ROLL.1  -1966.691599\n",
       "50                    ROOFDESC_SHINGLE.1  -9608.995976\n",
       "51                      ROOFDESC_SLATE.1   2329.897717\n",
       "52                       ROOFDESC_TILE.1   9245.789859"
      ]
     },
     "execution_count": 17,
     "metadata": {},
     "output_type": "execute_result"
    }
   ],
   "source": [
    "feature_importance_df = pd.DataFrame(data={\"feature\": X_columns,\n",
    "                                           \"coef\": model_01.coef_})\n",
    "print(f\"Intercept: {model_01.intercept_}\")\n",
    "feature_importance_df"
   ]
  },
  {
   "cell_type": "markdown",
   "metadata": {},
   "source": [
    "Feature importance of best model"
   ]
  },
  {
   "cell_type": "code",
   "execution_count": 21,
   "metadata": {},
   "outputs": [
    {
     "data": {
      "text/html": [
       "<div>\n",
       "<style scoped>\n",
       "    .dataframe tbody tr th:only-of-type {\n",
       "        vertical-align: middle;\n",
       "    }\n",
       "\n",
       "    .dataframe tbody tr th {\n",
       "        vertical-align: top;\n",
       "    }\n",
       "\n",
       "    .dataframe thead th {\n",
       "        text-align: right;\n",
       "    }\n",
       "</style>\n",
       "<table border=\"1\" class=\"dataframe\">\n",
       "  <thead>\n",
       "    <tr style=\"text-align: right;\">\n",
       "      <th></th>\n",
       "      <th>feature</th>\n",
       "      <th>importance</th>\n",
       "      <th>coefficient</th>\n",
       "    </tr>\n",
       "  </thead>\n",
       "  <tbody>\n",
       "    <tr>\n",
       "      <th>3</th>\n",
       "      <td>GRADE</td>\n",
       "      <td>30.133963</td>\n",
       "      <td>-33549.359629</td>\n",
       "    </tr>\n",
       "    <tr>\n",
       "      <th>12</th>\n",
       "      <td>FINISHEDLIVINGAREA</td>\n",
       "      <td>19.688553</td>\n",
       "      <td>66.768001</td>\n",
       "    </tr>\n",
       "    <tr>\n",
       "      <th>2</th>\n",
       "      <td>YEARBLT</td>\n",
       "      <td>7.148423</td>\n",
       "      <td>112.463600</td>\n",
       "    </tr>\n",
       "    <tr>\n",
       "      <th>0</th>\n",
       "      <td>LOTAREA</td>\n",
       "      <td>6.962367</td>\n",
       "      <td>0.272668</td>\n",
       "    </tr>\n",
       "    <tr>\n",
       "      <th>8</th>\n",
       "      <td>FULLBATHS</td>\n",
       "      <td>5.234396</td>\n",
       "      <td>23708.109631</td>\n",
       "    </tr>\n",
       "    <tr>\n",
       "      <th>5</th>\n",
       "      <td>CDU</td>\n",
       "      <td>4.560744</td>\n",
       "      <td>-28986.429427</td>\n",
       "    </tr>\n",
       "    <tr>\n",
       "      <th>6</th>\n",
       "      <td>TOTALROOMS</td>\n",
       "      <td>3.543801</td>\n",
       "      <td>-1906.179316</td>\n",
       "    </tr>\n",
       "    <tr>\n",
       "      <th>11</th>\n",
       "      <td>BSMTGARAGE</td>\n",
       "      <td>2.590334</td>\n",
       "      <td>-2864.409039</td>\n",
       "    </tr>\n",
       "    <tr>\n",
       "      <th>4</th>\n",
       "      <td>CONDITION</td>\n",
       "      <td>2.380424</td>\n",
       "      <td>-3046.535201</td>\n",
       "    </tr>\n",
       "    <tr>\n",
       "      <th>9</th>\n",
       "      <td>HALFBATHS</td>\n",
       "      <td>2.068662</td>\n",
       "      <td>13063.188534</td>\n",
       "    </tr>\n",
       "  </tbody>\n",
       "</table>\n",
       "</div>"
      ],
      "text/plain": [
       "               feature  importance   coefficient\n",
       "3                GRADE   30.133963 -33549.359629\n",
       "12  FINISHEDLIVINGAREA   19.688553     66.768001\n",
       "2              YEARBLT    7.148423    112.463600\n",
       "0              LOTAREA    6.962367      0.272668\n",
       "8            FULLBATHS    5.234396  23708.109631\n",
       "5                  CDU    4.560744 -28986.429427\n",
       "6           TOTALROOMS    3.543801  -1906.179316\n",
       "11          BSMTGARAGE    2.590334  -2864.409039\n",
       "4            CONDITION    2.380424  -3046.535201\n",
       "9            HALFBATHS    2.068662  13063.188534"
      ]
     },
     "execution_count": 21,
     "metadata": {},
     "output_type": "execute_result"
    }
   ],
   "source": [
    "feature_importance_df = pd.DataFrame(data={\"feature\": X_columns,\n",
    "                                           \"importance\": model_04.get_feature_importance()})\n",
    "feature_importance_df[\"coefficient\"] = model_01.coef_\n",
    "feature_importance_df.sort_values(by=[\"importance\"], ascending=False).head(10)"
   ]
  },
  {
   "cell_type": "code",
   "execution_count": null,
   "metadata": {},
   "outputs": [],
   "source": []
  }
 ],
 "metadata": {
  "kernelspec": {
   "display_name": "Python 3",
   "language": "python",
   "name": "python3"
  },
  "language_info": {
   "codemirror_mode": {
    "name": "ipython",
    "version": 3
   },
   "file_extension": ".py",
   "mimetype": "text/x-python",
   "name": "python",
   "nbconvert_exporter": "python",
   "pygments_lexer": "ipython3",
   "version": "3.7.9"
  },
  "widgets": {
   "application/vnd.jupyter.widget-state+json": {
    "state": {},
    "version_major": 2,
    "version_minor": 0
   }
  }
 },
 "nbformat": 4,
 "nbformat_minor": 4
}
