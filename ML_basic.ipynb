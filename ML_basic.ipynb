{
 "cells": [
  {
   "cell_type": "markdown",
   "metadata": {},
   "source": [
    "# Machine learning with basic housing data"
   ]
  },
  {
   "cell_type": "markdown",
   "metadata": {},
   "source": [
    "Experimenting with different algorithms on a non-geographical and basic geographical feature set.\n",
    "\n",
    "### TODO:\n",
    "- maybe add intercept for linear SOOS model"
   ]
  },
  {
   "cell_type": "markdown",
   "metadata": {},
   "source": [
    "### Import packages"
   ]
  },
  {
   "cell_type": "code",
   "execution_count": 1,
   "metadata": {},
   "outputs": [],
   "source": [
    "import json\n",
    "import math\n",
    "import warnings\n",
    "warnings.filterwarnings(action=\"ignore\")\n",
    "\n",
    "from catboost import CatBoostRegressor\n",
    "import xgboost as xgb\n",
    "\n",
    "from sklearn.metrics import mean_absolute_error, r2_score, mean_squared_error\n",
    "from sklearn.preprocessing import StandardScaler\n",
    "from sklearn.model_selection import train_test_split, RandomizedSearchCV, KFold\n",
    "from sklearn.ensemble import RandomForestClassifier\n",
    "from sklearn import linear_model\n",
    "\n",
    "from utils import make_train_test, get_metrics, cross_validation, soos_validation\n",
    "\n",
    "import matplotlib.pyplot as plt\n",
    "import numpy as np\n",
    "import pandas as pd\n",
    "from tqdm.notebook import tqdm\n",
    "from IPython.display import display_html"
   ]
  },
  {
   "cell_type": "markdown",
   "metadata": {},
   "source": [
    "Definde constants.\n",
    "\n",
    "- ``PATH``: Path to the base data folder\n",
    "- ``K_FOLDS``: Number of folds to perform for cross validation"
   ]
  },
  {
   "cell_type": "code",
   "execution_count": 2,
   "metadata": {},
   "outputs": [],
   "source": [
    "PATH = \"C:/Users/Tim/.keras/datasets/wikipedia_real_estate/\"\n",
    "K_FOLDS = 5\n",
    "DUMMIES = []  # e.g. [\"MUNICODE\"]"
   ]
  },
  {
   "cell_type": "markdown",
   "metadata": {},
   "source": [
    "Load structured data and print columns."
   ]
  },
  {
   "cell_type": "code",
   "execution_count": 3,
   "metadata": {},
   "outputs": [
    {
     "name": "stdout",
     "output_type": "stream",
     "text": [
      "(9554, 65)\n",
      "Index(['_id', 'PROPERTYZIP', 'MUNICODE', 'SCHOOLCODE', 'NEIGHCODE', 'LOTAREA',\n",
      "       'SALEDATE', 'SALEPRICE', 'FAIRMARKETTOTAL', 'STORIES', 'YEARBLT',\n",
      "       'GRADE', 'CONDITION', 'CDU', 'TOTALROOMS', 'BEDROOMS', 'FULLBATHS',\n",
      "       'HALFBATHS', 'FIREPLACES', 'BSMTGARAGE', 'FINISHEDLIVINGAREA',\n",
      "       'latitude', 'longitude', 'DISTRICT', 'SALEYEAR', 'SALEYEAR_STR_2015',\n",
      "       'SALEYEAR_STR_2016', 'SALEYEAR_STR_2017', 'SALEYEAR_STR_2018',\n",
      "       'SALEYEAR_STR_2019', 'SALEYEAR_STR_2020',\n",
      "       'HEATINGCOOLINGDESC_CentralHeat',\n",
      "       'HEATINGCOOLINGDESC_CentralHeatwithAC', 'OWNERDESC_REGULAR',\n",
      "       'OWNERDESC_REGULAR-ETAL', 'OWNERDESC_REGULAR-ETUXORETVIR',\n",
      "       'STYLEDESC_BI-LEVEL', 'STYLEDESC_BUNGALOW', 'STYLEDESC_CAPECOD',\n",
      "       'STYLEDESC_COLONIAL', 'STYLEDESC_CONTEMPORARY', 'STYLEDESC_OLDSTYLE',\n",
      "       'STYLEDESC_RANCH', 'STYLEDESC_SEMIDETACHED', 'STYLEDESC_SPLITLEVEL',\n",
      "       'STYLEDESC_TUDOR', 'STYLEDESC_VICTORIAN', 'EXTFINISH_DESC_Brick',\n",
      "       'EXTFINISH_DESC_ConcreteBlock', 'EXTFINISH_DESC_Frame',\n",
      "       'EXTFINISH_DESC_MasonryFRAME', 'EXTFINISH_DESC_Stone',\n",
      "       'EXTFINISH_DESC_Stucco', 'ROOFDESC_ROLL', 'ROOFDESC_SHINGLE',\n",
      "       'ROOFDESC_SLATE', 'ROOFDESC_TILE', 'BASEMENTDESC_Crawl',\n",
      "       'BASEMENTDESC_Full', 'BASEMENTDESC_None', 'BASEMENTDESC_Part',\n",
      "       'ROOFDESC_ROLL.1', 'ROOFDESC_SHINGLE.1', 'ROOFDESC_SLATE.1',\n",
      "       'ROOFDESC_TILE.1'],\n",
      "      dtype='object')\n"
     ]
    },
    {
     "data": {
      "text/html": [
       "<div>\n",
       "<style scoped>\n",
       "    .dataframe tbody tr th:only-of-type {\n",
       "        vertical-align: middle;\n",
       "    }\n",
       "\n",
       "    .dataframe tbody tr th {\n",
       "        vertical-align: top;\n",
       "    }\n",
       "\n",
       "    .dataframe thead th {\n",
       "        text-align: right;\n",
       "    }\n",
       "</style>\n",
       "<table border=\"1\" class=\"dataframe\">\n",
       "  <thead>\n",
       "    <tr style=\"text-align: right;\">\n",
       "      <th></th>\n",
       "      <th>_id</th>\n",
       "      <th>PROPERTYZIP</th>\n",
       "      <th>MUNICODE</th>\n",
       "      <th>SCHOOLCODE</th>\n",
       "      <th>NEIGHCODE</th>\n",
       "      <th>LOTAREA</th>\n",
       "      <th>SALEDATE</th>\n",
       "      <th>SALEPRICE</th>\n",
       "      <th>FAIRMARKETTOTAL</th>\n",
       "      <th>STORIES</th>\n",
       "      <th>...</th>\n",
       "      <th>ROOFDESC_SLATE</th>\n",
       "      <th>ROOFDESC_TILE</th>\n",
       "      <th>BASEMENTDESC_Crawl</th>\n",
       "      <th>BASEMENTDESC_Full</th>\n",
       "      <th>BASEMENTDESC_None</th>\n",
       "      <th>BASEMENTDESC_Part</th>\n",
       "      <th>ROOFDESC_ROLL.1</th>\n",
       "      <th>ROOFDESC_SHINGLE.1</th>\n",
       "      <th>ROOFDESC_SLATE.1</th>\n",
       "      <th>ROOFDESC_TILE.1</th>\n",
       "    </tr>\n",
       "  </thead>\n",
       "  <tbody>\n",
       "    <tr>\n",
       "      <th>0</th>\n",
       "      <td>161705</td>\n",
       "      <td>15122</td>\n",
       "      <td>870</td>\n",
       "      <td>45</td>\n",
       "      <td>87005</td>\n",
       "      <td>10899</td>\n",
       "      <td>05-01-2018</td>\n",
       "      <td>145000.0</td>\n",
       "      <td>76700</td>\n",
       "      <td>1.0</td>\n",
       "      <td>...</td>\n",
       "      <td>0</td>\n",
       "      <td>0</td>\n",
       "      <td>0</td>\n",
       "      <td>1</td>\n",
       "      <td>0</td>\n",
       "      <td>0</td>\n",
       "      <td>0</td>\n",
       "      <td>1</td>\n",
       "      <td>0</td>\n",
       "      <td>0</td>\n",
       "    </tr>\n",
       "    <tr>\n",
       "      <th>1</th>\n",
       "      <td>530852</td>\n",
       "      <td>15146</td>\n",
       "      <td>879</td>\n",
       "      <td>18</td>\n",
       "      <td>87905</td>\n",
       "      <td>10691</td>\n",
       "      <td>05-13-2019</td>\n",
       "      <td>139997.0</td>\n",
       "      <td>106200</td>\n",
       "      <td>1.0</td>\n",
       "      <td>...</td>\n",
       "      <td>0</td>\n",
       "      <td>0</td>\n",
       "      <td>0</td>\n",
       "      <td>1</td>\n",
       "      <td>0</td>\n",
       "      <td>0</td>\n",
       "      <td>0</td>\n",
       "      <td>1</td>\n",
       "      <td>0</td>\n",
       "      <td>0</td>\n",
       "    </tr>\n",
       "    <tr>\n",
       "      <th>2</th>\n",
       "      <td>144978</td>\n",
       "      <td>15202</td>\n",
       "      <td>826</td>\n",
       "      <td>2</td>\n",
       "      <td>82601</td>\n",
       "      <td>11813</td>\n",
       "      <td>05-26-2017</td>\n",
       "      <td>170000.0</td>\n",
       "      <td>135300</td>\n",
       "      <td>1.0</td>\n",
       "      <td>...</td>\n",
       "      <td>0</td>\n",
       "      <td>0</td>\n",
       "      <td>0</td>\n",
       "      <td>1</td>\n",
       "      <td>0</td>\n",
       "      <td>0</td>\n",
       "      <td>0</td>\n",
       "      <td>1</td>\n",
       "      <td>0</td>\n",
       "      <td>0</td>\n",
       "    </tr>\n",
       "    <tr>\n",
       "      <th>3</th>\n",
       "      <td>436602</td>\n",
       "      <td>15202</td>\n",
       "      <td>803</td>\n",
       "      <td>29</td>\n",
       "      <td>80302</td>\n",
       "      <td>5324</td>\n",
       "      <td>06-06-2017</td>\n",
       "      <td>145000.0</td>\n",
       "      <td>117300</td>\n",
       "      <td>2.0</td>\n",
       "      <td>...</td>\n",
       "      <td>0</td>\n",
       "      <td>0</td>\n",
       "      <td>0</td>\n",
       "      <td>1</td>\n",
       "      <td>0</td>\n",
       "      <td>0</td>\n",
       "      <td>0</td>\n",
       "      <td>1</td>\n",
       "      <td>0</td>\n",
       "      <td>0</td>\n",
       "    </tr>\n",
       "    <tr>\n",
       "      <th>4</th>\n",
       "      <td>145066</td>\n",
       "      <td>15218</td>\n",
       "      <td>114</td>\n",
       "      <td>47</td>\n",
       "      <td>11403</td>\n",
       "      <td>3600</td>\n",
       "      <td>04-09-2016</td>\n",
       "      <td>325000.0</td>\n",
       "      <td>250000</td>\n",
       "      <td>2.0</td>\n",
       "      <td>...</td>\n",
       "      <td>0</td>\n",
       "      <td>0</td>\n",
       "      <td>0</td>\n",
       "      <td>1</td>\n",
       "      <td>0</td>\n",
       "      <td>0</td>\n",
       "      <td>0</td>\n",
       "      <td>1</td>\n",
       "      <td>0</td>\n",
       "      <td>0</td>\n",
       "    </tr>\n",
       "    <tr>\n",
       "      <th>5</th>\n",
       "      <td>145137</td>\n",
       "      <td>15228</td>\n",
       "      <td>926</td>\n",
       "      <td>26</td>\n",
       "      <td>92607</td>\n",
       "      <td>6406</td>\n",
       "      <td>04-30-2015</td>\n",
       "      <td>172900.0</td>\n",
       "      <td>137300</td>\n",
       "      <td>2.0</td>\n",
       "      <td>...</td>\n",
       "      <td>0</td>\n",
       "      <td>0</td>\n",
       "      <td>0</td>\n",
       "      <td>1</td>\n",
       "      <td>0</td>\n",
       "      <td>0</td>\n",
       "      <td>0</td>\n",
       "      <td>1</td>\n",
       "      <td>0</td>\n",
       "      <td>0</td>\n",
       "    </tr>\n",
       "    <tr>\n",
       "      <th>6</th>\n",
       "      <td>145246</td>\n",
       "      <td>15241</td>\n",
       "      <td>950</td>\n",
       "      <td>42</td>\n",
       "      <td>95001</td>\n",
       "      <td>38376</td>\n",
       "      <td>12-17-2015</td>\n",
       "      <td>817000.0</td>\n",
       "      <td>751600</td>\n",
       "      <td>2.0</td>\n",
       "      <td>...</td>\n",
       "      <td>0</td>\n",
       "      <td>0</td>\n",
       "      <td>0</td>\n",
       "      <td>1</td>\n",
       "      <td>0</td>\n",
       "      <td>0</td>\n",
       "      <td>0</td>\n",
       "      <td>1</td>\n",
       "      <td>0</td>\n",
       "      <td>0</td>\n",
       "    </tr>\n",
       "    <tr>\n",
       "      <th>7</th>\n",
       "      <td>529513</td>\n",
       "      <td>15132</td>\n",
       "      <td>409</td>\n",
       "      <td>23</td>\n",
       "      <td>40005</td>\n",
       "      <td>3844</td>\n",
       "      <td>01-09-2020</td>\n",
       "      <td>39000.0</td>\n",
       "      <td>45100</td>\n",
       "      <td>1.0</td>\n",
       "      <td>...</td>\n",
       "      <td>0</td>\n",
       "      <td>0</td>\n",
       "      <td>0</td>\n",
       "      <td>1</td>\n",
       "      <td>0</td>\n",
       "      <td>0</td>\n",
       "      <td>0</td>\n",
       "      <td>1</td>\n",
       "      <td>0</td>\n",
       "      <td>0</td>\n",
       "    </tr>\n",
       "    <tr>\n",
       "      <th>8</th>\n",
       "      <td>146103</td>\n",
       "      <td>15212</td>\n",
       "      <td>127</td>\n",
       "      <td>47</td>\n",
       "      <td>12703</td>\n",
       "      <td>5284</td>\n",
       "      <td>06-30-2016</td>\n",
       "      <td>65000.0</td>\n",
       "      <td>52800</td>\n",
       "      <td>1.5</td>\n",
       "      <td>...</td>\n",
       "      <td>0</td>\n",
       "      <td>0</td>\n",
       "      <td>0</td>\n",
       "      <td>1</td>\n",
       "      <td>0</td>\n",
       "      <td>0</td>\n",
       "      <td>0</td>\n",
       "      <td>1</td>\n",
       "      <td>0</td>\n",
       "      <td>0</td>\n",
       "    </tr>\n",
       "    <tr>\n",
       "      <th>9</th>\n",
       "      <td>146155</td>\n",
       "      <td>15212</td>\n",
       "      <td>127</td>\n",
       "      <td>47</td>\n",
       "      <td>12701</td>\n",
       "      <td>5544</td>\n",
       "      <td>11-10-2018</td>\n",
       "      <td>162000.0</td>\n",
       "      <td>111200</td>\n",
       "      <td>1.0</td>\n",
       "      <td>...</td>\n",
       "      <td>0</td>\n",
       "      <td>0</td>\n",
       "      <td>0</td>\n",
       "      <td>1</td>\n",
       "      <td>0</td>\n",
       "      <td>0</td>\n",
       "      <td>0</td>\n",
       "      <td>1</td>\n",
       "      <td>0</td>\n",
       "      <td>0</td>\n",
       "    </tr>\n",
       "  </tbody>\n",
       "</table>\n",
       "<p>10 rows × 65 columns</p>\n",
       "</div>"
      ],
      "text/plain": [
       "      _id  PROPERTYZIP  MUNICODE  SCHOOLCODE  NEIGHCODE  LOTAREA    SALEDATE  \\\n",
       "0  161705        15122       870          45      87005    10899  05-01-2018   \n",
       "1  530852        15146       879          18      87905    10691  05-13-2019   \n",
       "2  144978        15202       826           2      82601    11813  05-26-2017   \n",
       "3  436602        15202       803          29      80302     5324  06-06-2017   \n",
       "4  145066        15218       114          47      11403     3600  04-09-2016   \n",
       "5  145137        15228       926          26      92607     6406  04-30-2015   \n",
       "6  145246        15241       950          42      95001    38376  12-17-2015   \n",
       "7  529513        15132       409          23      40005     3844  01-09-2020   \n",
       "8  146103        15212       127          47      12703     5284  06-30-2016   \n",
       "9  146155        15212       127          47      12701     5544  11-10-2018   \n",
       "\n",
       "   SALEPRICE  FAIRMARKETTOTAL  STORIES  ...  ROOFDESC_SLATE  ROOFDESC_TILE  \\\n",
       "0   145000.0            76700      1.0  ...               0              0   \n",
       "1   139997.0           106200      1.0  ...               0              0   \n",
       "2   170000.0           135300      1.0  ...               0              0   \n",
       "3   145000.0           117300      2.0  ...               0              0   \n",
       "4   325000.0           250000      2.0  ...               0              0   \n",
       "5   172900.0           137300      2.0  ...               0              0   \n",
       "6   817000.0           751600      2.0  ...               0              0   \n",
       "7    39000.0            45100      1.0  ...               0              0   \n",
       "8    65000.0            52800      1.5  ...               0              0   \n",
       "9   162000.0           111200      1.0  ...               0              0   \n",
       "\n",
       "   BASEMENTDESC_Crawl  BASEMENTDESC_Full  BASEMENTDESC_None  \\\n",
       "0                   0                  1                  0   \n",
       "1                   0                  1                  0   \n",
       "2                   0                  1                  0   \n",
       "3                   0                  1                  0   \n",
       "4                   0                  1                  0   \n",
       "5                   0                  1                  0   \n",
       "6                   0                  1                  0   \n",
       "7                   0                  1                  0   \n",
       "8                   0                  1                  0   \n",
       "9                   0                  1                  0   \n",
       "\n",
       "   BASEMENTDESC_Part  ROOFDESC_ROLL.1  ROOFDESC_SHINGLE.1  ROOFDESC_SLATE.1  \\\n",
       "0                  0                0                   1                 0   \n",
       "1                  0                0                   1                 0   \n",
       "2                  0                0                   1                 0   \n",
       "3                  0                0                   1                 0   \n",
       "4                  0                0                   1                 0   \n",
       "5                  0                0                   1                 0   \n",
       "6                  0                0                   1                 0   \n",
       "7                  0                0                   1                 0   \n",
       "8                  0                0                   1                 0   \n",
       "9                  0                0                   1                 0   \n",
       "\n",
       "   ROOFDESC_TILE.1  \n",
       "0                0  \n",
       "1                0  \n",
       "2                0  \n",
       "3                0  \n",
       "4                0  \n",
       "5                0  \n",
       "6                0  \n",
       "7                0  \n",
       "8                0  \n",
       "9                0  \n",
       "\n",
       "[10 rows x 65 columns]"
      ]
     },
     "execution_count": 3,
     "metadata": {},
     "output_type": "execute_result"
    }
   ],
   "source": [
    "structured = pd.read_csv(PATH+\"structured_preprocessed.csv\")\n",
    "print(structured.shape)\n",
    "print(structured.columns)\n",
    "structured.head(10)"
   ]
  },
  {
   "cell_type": "markdown",
   "metadata": {},
   "source": [
    "Make train/test split"
   ]
  },
  {
   "cell_type": "code",
   "execution_count": 4,
   "metadata": {},
   "outputs": [
    {
     "name": "stdout",
     "output_type": "stream",
     "text": [
      "\n",
      "(7165, 53): (5373, 54) + (1792, 54)\n",
      "(7165,): (5373,) + (1792,)\n",
      "(2389, 53)\n",
      "(2389,)\n"
     ]
    }
   ],
   "source": [
    "X_columns, data_sets, error_df = make_train_test(structured, dummies=DUMMIES)\n",
    "X, y, X_train, X_test, y_train, y_test, X_train_train, X_train_val, y_train_train, y_train_val = data_sets"
   ]
  },
  {
   "cell_type": "code",
   "execution_count": 5,
   "metadata": {},
   "outputs": [],
   "source": [
    "results_df = pd.DataFrame()"
   ]
  },
  {
   "cell_type": "markdown",
   "metadata": {},
   "source": [
    "## Only structured data"
   ]
  },
  {
   "cell_type": "markdown",
   "metadata": {},
   "source": [
    "### Linear model"
   ]
  },
  {
   "cell_type": "code",
   "execution_count": 6,
   "metadata": {},
   "outputs": [
    {
     "data": {
      "text/plain": [
       "LinearRegression()"
      ]
     },
     "execution_count": 6,
     "metadata": {},
     "output_type": "execute_result"
    }
   ],
   "source": [
    "model_01 = linear_model.LinearRegression()\n",
    "# model_01 = linear_model.Lasso()\n",
    "# model_01 = linear_model.Ridge()\n",
    "model_01.fit(X_train, y_train)"
   ]
  },
  {
   "cell_type": "code",
   "execution_count": 7,
   "metadata": {},
   "outputs": [
    {
     "name": "stdout",
     "output_type": "stream",
     "text": [
      "MAE:  43549\n",
      "RMSE: 60150\n",
      "MAPE: 27.3%\n",
      "R^2:  0.789\n"
     ]
    }
   ],
   "source": [
    "y_pred_01 = model_01.predict(X_test)\n",
    "metrics_01 = get_metrics(y_test, y_pred_01)"
   ]
  },
  {
   "cell_type": "code",
   "execution_count": 8,
   "metadata": {},
   "outputs": [
    {
     "data": {
      "application/vnd.jupyter.widget-view+json": {
       "model_id": "7ebecd472e664facbca572d63dbe8ed8",
       "version_major": 2,
       "version_minor": 0
      },
      "text/plain": [
       "  0%|          | 0/5 [00:00<?, ?it/s]"
      ]
     },
     "metadata": {},
     "output_type": "display_data"
    },
    {
     "name": "stdout",
     "output_type": "stream",
     "text": [
      "\n",
      "MAE:  44170\n",
      "RMSE: 62380\n",
      "MAPE: 28.17%\n",
      "R^2:  0.791\n"
     ]
    }
   ],
   "source": [
    "results_df[\"Linear: S\"], X_01_columns = cross_validation(model_01, X, y, K_FOLDS)"
   ]
  },
  {
   "cell_type": "markdown",
   "metadata": {},
   "source": [
    "### Catboost"
   ]
  },
  {
   "cell_type": "code",
   "execution_count": 9,
   "metadata": {},
   "outputs": [
    {
     "data": {
      "text/plain": [
       "<catboost.core.CatBoostRegressor at 0x29e73da0c48>"
      ]
     },
     "execution_count": 9,
     "metadata": {},
     "output_type": "execute_result"
    }
   ],
   "source": [
    "model_02 = CatBoostRegressor()\n",
    "model_02.fit(X=X_train, y=y_train, verbose=False)"
   ]
  },
  {
   "cell_type": "code",
   "execution_count": 10,
   "metadata": {},
   "outputs": [
    {
     "name": "stdout",
     "output_type": "stream",
     "text": [
      "MAE:  39610\n",
      "RMSE: 56633\n",
      "MAPE: 24.2%\n",
      "R^2:  0.813\n"
     ]
    }
   ],
   "source": [
    "y_pred_02 = model_02.predict(X_test)\n",
    "metrics_02 = get_metrics(y_test, y_pred_02)"
   ]
  },
  {
   "cell_type": "code",
   "execution_count": 11,
   "metadata": {},
   "outputs": [
    {
     "data": {
      "application/vnd.jupyter.widget-view+json": {
       "model_id": "f78b167977d34478a1542b5a75c96b95",
       "version_major": 2,
       "version_minor": 0
      },
      "text/plain": [
       "  0%|          | 0/5 [00:00<?, ?it/s]"
      ]
     },
     "metadata": {},
     "output_type": "display_data"
    },
    {
     "name": "stdout",
     "output_type": "stream",
     "text": [
      "\n",
      "MAE:  40980\n",
      "RMSE: 59117\n",
      "MAPE: 25.53%\n",
      "R^2:  0.812\n"
     ]
    }
   ],
   "source": [
    "results_df[\"Catboost: S\"], X_02_columns = cross_validation(model_02, X, y, K_FOLDS)"
   ]
  },
  {
   "cell_type": "markdown",
   "metadata": {},
   "source": [
    "Save error df"
   ]
  },
  {
   "cell_type": "code",
   "execution_count": 12,
   "metadata": {},
   "outputs": [
    {
     "data": {
      "text/html": [
       "<div>\n",
       "<style scoped>\n",
       "    .dataframe tbody tr th:only-of-type {\n",
       "        vertical-align: middle;\n",
       "    }\n",
       "\n",
       "    .dataframe tbody tr th {\n",
       "        vertical-align: top;\n",
       "    }\n",
       "\n",
       "    .dataframe thead th {\n",
       "        text-align: right;\n",
       "    }\n",
       "</style>\n",
       "<table border=\"1\" class=\"dataframe\">\n",
       "  <thead>\n",
       "    <tr style=\"text-align: right;\">\n",
       "      <th></th>\n",
       "      <th>Linear: S</th>\n",
       "      <th>Catboost: S</th>\n",
       "    </tr>\n",
       "  </thead>\n",
       "  <tbody>\n",
       "    <tr>\n",
       "      <th>MAE</th>\n",
       "      <td>44170.000</td>\n",
       "      <td>40980.000</td>\n",
       "    </tr>\n",
       "    <tr>\n",
       "      <th>RMSE</th>\n",
       "      <td>62380.000</td>\n",
       "      <td>59117.000</td>\n",
       "    </tr>\n",
       "    <tr>\n",
       "      <th>MAPE</th>\n",
       "      <td>28.170</td>\n",
       "      <td>25.530</td>\n",
       "    </tr>\n",
       "    <tr>\n",
       "      <th>R^2</th>\n",
       "      <td>0.791</td>\n",
       "      <td>0.812</td>\n",
       "    </tr>\n",
       "  </tbody>\n",
       "</table>\n",
       "</div>"
      ],
      "text/plain": [
       "      Linear: S  Catboost: S\n",
       "MAE   44170.000    40980.000\n",
       "RMSE  62380.000    59117.000\n",
       "MAPE     28.170       25.530\n",
       "R^2       0.791        0.812"
      ]
     },
     "execution_count": 12,
     "metadata": {},
     "output_type": "execute_result"
    }
   ],
   "source": [
    "error_df.to_csv(PATH+\"results/errors_basic.csv\", index=None)\n",
    "results_df.index = [\"MAE\", \"RMSE\", \"MAPE\", \"R^2\"]\n",
    "results_df.head()"
   ]
  },
  {
   "cell_type": "markdown",
   "metadata": {},
   "source": [
    "## Structured and basic spatial membership"
   ]
  },
  {
   "cell_type": "markdown",
   "metadata": {},
   "source": [
    "Different types of aggregated membership are tested for their predictive performance."
   ]
  },
  {
   "cell_type": "markdown",
   "metadata": {},
   "source": [
    "### Linear model"
   ]
  },
  {
   "cell_type": "code",
   "execution_count": 28,
   "metadata": {},
   "outputs": [
    {
     "name": "stdout",
     "output_type": "stream",
     "text": [
      "Spatial choice: PROPERTYZIP\n"
     ]
    },
    {
     "data": {
      "application/vnd.jupyter.widget-view+json": {
       "model_id": "bd42253f8126457daad0b4ee39792f6f",
       "version_major": 2,
       "version_minor": 0
      },
      "text/plain": [
       "  0%|          | 0/5 [00:00<?, ?it/s]"
      ]
     },
     "metadata": {},
     "output_type": "display_data"
    },
    {
     "name": "stdout",
     "output_type": "stream",
     "text": [
      "\n",
      "MAE:  35824\n",
      "RMSE: 51579\n",
      "MAPE: 22.27%\n",
      "R^2:  0.857\n",
      "\n",
      "Spatial choice: MUNICODE\n"
     ]
    },
    {
     "data": {
      "application/vnd.jupyter.widget-view+json": {
       "model_id": "50efe31198fc4e87afa2098c653b66ba",
       "version_major": 2,
       "version_minor": 0
      },
      "text/plain": [
       "  0%|          | 0/5 [00:00<?, ?it/s]"
      ]
     },
     "metadata": {},
     "output_type": "display_data"
    },
    {
     "name": "stdout",
     "output_type": "stream",
     "text": [
      "\n",
      "MAE:  32881\n",
      "RMSE: 47805\n",
      "MAPE: 20.33%\n",
      "R^2:  0.877\n",
      "\n",
      "Spatial choice: SCHOOLCODE\n"
     ]
    },
    {
     "data": {
      "application/vnd.jupyter.widget-view+json": {
       "model_id": "c64c9eef890749ab976c65f13b9c2907",
       "version_major": 2,
       "version_minor": 0
      },
      "text/plain": [
       "  0%|          | 0/5 [00:00<?, ?it/s]"
      ]
     },
     "metadata": {},
     "output_type": "display_data"
    },
    {
     "name": "stdout",
     "output_type": "stream",
     "text": [
      "\n",
      "MAE:  38133\n",
      "RMSE: 55618\n",
      "MAPE: 24.33%\n",
      "R^2:  0.834\n",
      "\n",
      "Spatial choice: NEIGHCODE\n"
     ]
    },
    {
     "data": {
      "application/vnd.jupyter.widget-view+json": {
       "model_id": "032c1b9e3aad4dae9bc64c882bc307d1",
       "version_major": 2,
       "version_minor": 0
      },
      "text/plain": [
       "  0%|          | 0/5 [00:00<?, ?it/s]"
      ]
     },
     "metadata": {},
     "output_type": "display_data"
    },
    {
     "name": "stdout",
     "output_type": "stream",
     "text": [
      "\n",
      "MAE:  30917\n",
      "RMSE: 45129\n",
      "MAPE: 18.87%\n",
      "R^2:  0.891\n",
      "\n"
     ]
    }
   ],
   "source": [
    "for spatial in [\"PROPERTYZIP\", \"MUNICODE\", \"SCHOOLCODE\", \"NEIGHCODE\"]:\n",
    "    # make dataset with spatial column\n",
    "    X_columns, data_sets, error_df = make_train_test(structured, dummies=[spatial], verbose=False)\n",
    "    X, y, X_train, X_test, y_train, y_test, X_train_train, X_train_val, y_train_train, y_train_val = data_sets\n",
    "    \n",
    "    # model_spatial = linear_model.LinearRegression()\n",
    "    model_spatial = linear_model.Lasso()\n",
    "    # model_spatial = linear_model.Ridge()\n",
    "    \n",
    "    print(f\"Spatial choice: {spatial}\")\n",
    "    metrics = cross_validation(model_spatial, X, y, K_FOLDS, verbose_drop=False)\n",
    "    print(\"\")"
   ]
  },
  {
   "cell_type": "markdown",
   "metadata": {},
   "source": [
    "### CatBoost"
   ]
  },
  {
   "cell_type": "code",
   "execution_count": 13,
   "metadata": {},
   "outputs": [
    {
     "name": "stdout",
     "output_type": "stream",
     "text": [
      "Spatial choice: PROPERTYZIP\n"
     ]
    },
    {
     "data": {
      "application/vnd.jupyter.widget-view+json": {
       "model_id": "497fc6af4d5445da916f9de8fb00265c",
       "version_major": 2,
       "version_minor": 0
      },
      "text/plain": [
       "  0%|          | 0/5 [00:00<?, ?it/s]"
      ]
     },
     "metadata": {},
     "output_type": "display_data"
    },
    {
     "name": "stdout",
     "output_type": "stream",
     "text": [
      "\n",
      "MAE:  31490\n",
      "RMSE: 46930\n",
      "MAPE: 18.67%\n",
      "R^2:  0.882\n",
      "\n",
      "Spatial choice: MUNICODE\n"
     ]
    },
    {
     "data": {
      "application/vnd.jupyter.widget-view+json": {
       "model_id": "df84cca4494940fca613656587c9cc5e",
       "version_major": 2,
       "version_minor": 0
      },
      "text/plain": [
       "  0%|          | 0/5 [00:00<?, ?it/s]"
      ]
     },
     "metadata": {},
     "output_type": "display_data"
    },
    {
     "name": "stdout",
     "output_type": "stream",
     "text": [
      "\n",
      "MAE:  30505\n",
      "RMSE: 45284\n",
      "MAPE: 18.15%\n",
      "R^2:  0.89\n",
      "\n",
      "Spatial choice: SCHOOLCODE\n"
     ]
    },
    {
     "data": {
      "application/vnd.jupyter.widget-view+json": {
       "model_id": "948415ad370a485fb9e8ed7be0a89fe0",
       "version_major": 2,
       "version_minor": 0
      },
      "text/plain": [
       "  0%|          | 0/5 [00:00<?, ?it/s]"
      ]
     },
     "metadata": {},
     "output_type": "display_data"
    },
    {
     "name": "stdout",
     "output_type": "stream",
     "text": [
      "\n",
      "MAE:  32162\n",
      "RMSE: 49000\n",
      "MAPE: 19.31%\n",
      "R^2:  0.871\n",
      "\n",
      "Spatial choice: NEIGHCODE\n"
     ]
    },
    {
     "data": {
      "application/vnd.jupyter.widget-view+json": {
       "model_id": "106e0025ba344343aabad68c5098d101",
       "version_major": 2,
       "version_minor": 0
      },
      "text/plain": [
       "  0%|          | 0/5 [00:00<?, ?it/s]"
      ]
     },
     "metadata": {},
     "output_type": "display_data"
    },
    {
     "name": "stdout",
     "output_type": "stream",
     "text": [
      "\n",
      "MAE:  32247\n",
      "RMSE: 46979\n",
      "MAPE: 19.75%\n",
      "R^2:  0.882\n",
      "\n"
     ]
    }
   ],
   "source": [
    "for spatial in [\"PROPERTYZIP\", \"MUNICODE\", \"SCHOOLCODE\", \"NEIGHCODE\"]:\n",
    "    # make dataset with spatial column\n",
    "    X_columns, data_sets, error_df = make_train_test(structured, dummies=[spatial], verbose=False)\n",
    "    X, y, X_train, X_test, y_train, y_test, X_train_train, X_train_val, y_train_train, y_train_val = data_sets\n",
    "    \n",
    "    model_spatial = CatBoostRegressor()\n",
    "    \n",
    "    print(f\"Spatial choice: {spatial}\")\n",
    "    metrics = cross_validation(model_spatial, X, y, K_FOLDS, verbose_drop=False)\n",
    "    print(\"\")"
   ]
  },
  {
   "cell_type": "markdown",
   "metadata": {},
   "source": [
    "## Spatial out-of-sample Linear"
   ]
  },
  {
   "cell_type": "code",
   "execution_count": 14,
   "metadata": {},
   "outputs": [
    {
     "name": "stdout",
     "output_type": "stream",
     "text": [
      "Predicting district 1/13\n",
      "Predicting district 2/13\n",
      "Predicting district 3/13\n",
      "Predicting district 4/13\n",
      "Predicting district 5/13\n",
      "Predicting district 6/13\n",
      "Predicting district 7/13\n",
      "Predicting district 8/13\n",
      "Predicting district 9/13\n",
      "Predicting district 10/13\n",
      "Predicting district 11/13\n",
      "Predicting district 12/13\n",
      "Predicting district 13/13\n",
      "\n",
      "Weighted metrics:\n",
      "MAE:  45730\n",
      "RMSE: 62149\n",
      "MAPE: 28.99%\n",
      "R^2:  0.536\n"
     ]
    }
   ],
   "source": [
    "estimator = linear_model.LinearRegression()\n",
    "error_df_soos, col_names_linear, avg_fis_linear, metrics = soos_validation(estimator, structured)\n",
    "maes, rmses, mapes, r_squareds = metrics"
   ]
  },
  {
   "cell_type": "code",
   "execution_count": 15,
   "metadata": {},
   "outputs": [
    {
     "data": {
      "text/html": [
       "<div>\n",
       "<style scoped>\n",
       "    .dataframe tbody tr th:only-of-type {\n",
       "        vertical-align: middle;\n",
       "    }\n",
       "\n",
       "    .dataframe tbody tr th {\n",
       "        vertical-align: top;\n",
       "    }\n",
       "\n",
       "    .dataframe thead th {\n",
       "        text-align: right;\n",
       "    }\n",
       "</style>\n",
       "<table border=\"1\" class=\"dataframe\">\n",
       "  <thead>\n",
       "    <tr style=\"text-align: right;\">\n",
       "      <th></th>\n",
       "      <th>id</th>\n",
       "      <th>lat</th>\n",
       "      <th>long</th>\n",
       "      <th>district</th>\n",
       "      <th>prediction</th>\n",
       "      <th>error</th>\n",
       "    </tr>\n",
       "  </thead>\n",
       "  <tbody>\n",
       "    <tr>\n",
       "      <th>0</th>\n",
       "      <td>71623</td>\n",
       "      <td>40.664950</td>\n",
       "      <td>-79.719952</td>\n",
       "      <td>district_7</td>\n",
       "      <td>103477.965565</td>\n",
       "      <td>82497.034435</td>\n",
       "    </tr>\n",
       "    <tr>\n",
       "      <th>1</th>\n",
       "      <td>396546</td>\n",
       "      <td>40.450605</td>\n",
       "      <td>-80.217889</td>\n",
       "      <td>district_1</td>\n",
       "      <td>214352.245878</td>\n",
       "      <td>-19352.245878</td>\n",
       "    </tr>\n",
       "    <tr>\n",
       "      <th>2</th>\n",
       "      <td>161454</td>\n",
       "      <td>40.477051</td>\n",
       "      <td>-79.777996</td>\n",
       "      <td>district_8</td>\n",
       "      <td>216516.266607</td>\n",
       "      <td>13483.733393</td>\n",
       "    </tr>\n",
       "    <tr>\n",
       "      <th>3</th>\n",
       "      <td>461687</td>\n",
       "      <td>40.606085</td>\n",
       "      <td>-79.930633</td>\n",
       "      <td>district_3</td>\n",
       "      <td>545070.228069</td>\n",
       "      <td>49929.771931</td>\n",
       "    </tr>\n",
       "    <tr>\n",
       "      <th>4</th>\n",
       "      <td>136057</td>\n",
       "      <td>40.378484</td>\n",
       "      <td>-80.062464</td>\n",
       "      <td>district_5</td>\n",
       "      <td>801805.934620</td>\n",
       "      <td>-203805.934620</td>\n",
       "    </tr>\n",
       "    <tr>\n",
       "      <th>...</th>\n",
       "      <td>...</td>\n",
       "      <td>...</td>\n",
       "      <td>...</td>\n",
       "      <td>...</td>\n",
       "      <td>...</td>\n",
       "      <td>...</td>\n",
       "    </tr>\n",
       "    <tr>\n",
       "      <th>9549</th>\n",
       "      <td>289011</td>\n",
       "      <td>40.551787</td>\n",
       "      <td>-79.996615</td>\n",
       "      <td>district_1</td>\n",
       "      <td>274294.157015</td>\n",
       "      <td>705.842985</td>\n",
       "    </tr>\n",
       "    <tr>\n",
       "      <th>9550</th>\n",
       "      <td>250118</td>\n",
       "      <td>40.451706</td>\n",
       "      <td>-79.854802</td>\n",
       "      <td>district_10</td>\n",
       "      <td>133769.882295</td>\n",
       "      <td>-13769.882295</td>\n",
       "    </tr>\n",
       "    <tr>\n",
       "      <th>9551</th>\n",
       "      <td>263392</td>\n",
       "      <td>40.607721</td>\n",
       "      <td>-79.930186</td>\n",
       "      <td>district_3</td>\n",
       "      <td>191060.544102</td>\n",
       "      <td>-96060.544102</td>\n",
       "    </tr>\n",
       "    <tr>\n",
       "      <th>9552</th>\n",
       "      <td>459551</td>\n",
       "      <td>40.382627</td>\n",
       "      <td>-80.064891</td>\n",
       "      <td>district_5</td>\n",
       "      <td>306537.515547</td>\n",
       "      <td>-119537.515547</td>\n",
       "    </tr>\n",
       "    <tr>\n",
       "      <th>9553</th>\n",
       "      <td>407154</td>\n",
       "      <td>40.448528</td>\n",
       "      <td>-79.767985</td>\n",
       "      <td>district_8</td>\n",
       "      <td>166944.619905</td>\n",
       "      <td>-92544.619905</td>\n",
       "    </tr>\n",
       "  </tbody>\n",
       "</table>\n",
       "<p>9554 rows × 6 columns</p>\n",
       "</div>"
      ],
      "text/plain": [
       "          id        lat       long     district     prediction          error\n",
       "0      71623  40.664950 -79.719952   district_7  103477.965565   82497.034435\n",
       "1     396546  40.450605 -80.217889   district_1  214352.245878  -19352.245878\n",
       "2     161454  40.477051 -79.777996   district_8  216516.266607   13483.733393\n",
       "3     461687  40.606085 -79.930633   district_3  545070.228069   49929.771931\n",
       "4     136057  40.378484 -80.062464   district_5  801805.934620 -203805.934620\n",
       "...      ...        ...        ...          ...            ...            ...\n",
       "9549  289011  40.551787 -79.996615   district_1  274294.157015     705.842985\n",
       "9550  250118  40.451706 -79.854802  district_10  133769.882295  -13769.882295\n",
       "9551  263392  40.607721 -79.930186   district_3  191060.544102  -96060.544102\n",
       "9552  459551  40.382627 -80.064891   district_5  306537.515547 -119537.515547\n",
       "9553  407154  40.448528 -79.767985   district_8  166944.619905  -92544.619905\n",
       "\n",
       "[9554 rows x 6 columns]"
      ]
     },
     "execution_count": 15,
     "metadata": {},
     "output_type": "execute_result"
    }
   ],
   "source": [
    "error_df_soos.to_csv(PATH+\"results/errors_soos_basic.csv\")\n",
    "error_df_soos"
   ]
  },
  {
   "cell_type": "code",
   "execution_count": 16,
   "metadata": {},
   "outputs": [
    {
     "data": {
      "text/html": [
       "<div>\n",
       "<style scoped>\n",
       "    .dataframe tbody tr th:only-of-type {\n",
       "        vertical-align: middle;\n",
       "    }\n",
       "\n",
       "    .dataframe tbody tr th {\n",
       "        vertical-align: top;\n",
       "    }\n",
       "\n",
       "    .dataframe thead th {\n",
       "        text-align: right;\n",
       "    }\n",
       "</style>\n",
       "<table border=\"1\" class=\"dataframe\">\n",
       "  <thead>\n",
       "    <tr style=\"text-align: right;\">\n",
       "      <th></th>\n",
       "      <th>mae</th>\n",
       "      <th>rmse</th>\n",
       "      <th>mapes</th>\n",
       "      <th>R^2</th>\n",
       "      <th>SALEPRICE</th>\n",
       "      <th>LOTAREA</th>\n",
       "      <th>YEARBLT</th>\n",
       "      <th>STORIES</th>\n",
       "    </tr>\n",
       "  </thead>\n",
       "  <tbody>\n",
       "    <tr>\n",
       "      <th>district_1</th>\n",
       "      <td>36078.160575</td>\n",
       "      <td>49507.527432</td>\n",
       "      <td>18.560255</td>\n",
       "      <td>0.699025</td>\n",
       "      <td>219888.788503</td>\n",
       "      <td>18311.494577</td>\n",
       "      <td>1959.376356</td>\n",
       "      <td>1.557158</td>\n",
       "    </tr>\n",
       "    <tr>\n",
       "      <th>district_2</th>\n",
       "      <td>55901.164345</td>\n",
       "      <td>80907.973640</td>\n",
       "      <td>16.813528</td>\n",
       "      <td>0.747479</td>\n",
       "      <td>347195.029630</td>\n",
       "      <td>28928.464550</td>\n",
       "      <td>1968.440212</td>\n",
       "      <td>1.703175</td>\n",
       "    </tr>\n",
       "    <tr>\n",
       "      <th>district_3</th>\n",
       "      <td>47911.737015</td>\n",
       "      <td>69979.062743</td>\n",
       "      <td>20.480843</td>\n",
       "      <td>0.819349</td>\n",
       "      <td>261041.727106</td>\n",
       "      <td>22902.147436</td>\n",
       "      <td>1959.855311</td>\n",
       "      <td>1.500916</td>\n",
       "    </tr>\n",
       "    <tr>\n",
       "      <th>district_4</th>\n",
       "      <td>37997.784729</td>\n",
       "      <td>51479.450066</td>\n",
       "      <td>25.665238</td>\n",
       "      <td>0.689832</td>\n",
       "      <td>191448.015873</td>\n",
       "      <td>16155.658009</td>\n",
       "      <td>1956.578644</td>\n",
       "      <td>1.485570</td>\n",
       "    </tr>\n",
       "    <tr>\n",
       "      <th>district_5</th>\n",
       "      <td>43495.971226</td>\n",
       "      <td>57947.928416</td>\n",
       "      <td>16.362635</td>\n",
       "      <td>0.774242</td>\n",
       "      <td>279481.883882</td>\n",
       "      <td>13725.758232</td>\n",
       "      <td>1956.907279</td>\n",
       "      <td>1.650347</td>\n",
       "    </tr>\n",
       "    <tr>\n",
       "      <th>district_6</th>\n",
       "      <td>33176.442052</td>\n",
       "      <td>43469.869970</td>\n",
       "      <td>25.086147</td>\n",
       "      <td>0.482569</td>\n",
       "      <td>159027.268519</td>\n",
       "      <td>10129.287037</td>\n",
       "      <td>1955.130658</td>\n",
       "      <td>1.431070</td>\n",
       "    </tr>\n",
       "    <tr>\n",
       "      <th>district_7</th>\n",
       "      <td>50198.174717</td>\n",
       "      <td>60887.992415</td>\n",
       "      <td>47.972429</td>\n",
       "      <td>0.313011</td>\n",
       "      <td>125234.332921</td>\n",
       "      <td>11437.024752</td>\n",
       "      <td>1950.638614</td>\n",
       "      <td>1.465099</td>\n",
       "    </tr>\n",
       "    <tr>\n",
       "      <th>district_8</th>\n",
       "      <td>39652.894763</td>\n",
       "      <td>52983.805261</td>\n",
       "      <td>30.361766</td>\n",
       "      <td>0.551982</td>\n",
       "      <td>158730.732000</td>\n",
       "      <td>13534.752000</td>\n",
       "      <td>1956.425333</td>\n",
       "      <td>1.457333</td>\n",
       "    </tr>\n",
       "    <tr>\n",
       "      <th>district_9</th>\n",
       "      <td>38772.043383</td>\n",
       "      <td>50343.747916</td>\n",
       "      <td>48.448996</td>\n",
       "      <td>-0.313505</td>\n",
       "      <td>100983.590308</td>\n",
       "      <td>12213.361233</td>\n",
       "      <td>1951.126285</td>\n",
       "      <td>1.278267</td>\n",
       "    </tr>\n",
       "    <tr>\n",
       "      <th>district_10</th>\n",
       "      <td>60098.906312</td>\n",
       "      <td>84603.221843</td>\n",
       "      <td>45.820451</td>\n",
       "      <td>0.572652</td>\n",
       "      <td>190825.944681</td>\n",
       "      <td>7570.417021</td>\n",
       "      <td>1936.978723</td>\n",
       "      <td>1.878723</td>\n",
       "    </tr>\n",
       "    <tr>\n",
       "      <th>district_11</th>\n",
       "      <td>92491.497325</td>\n",
       "      <td>130925.392176</td>\n",
       "      <td>38.571569</td>\n",
       "      <td>0.642819</td>\n",
       "      <td>277164.033413</td>\n",
       "      <td>5665.145585</td>\n",
       "      <td>1929.871122</td>\n",
       "      <td>1.893795</td>\n",
       "    </tr>\n",
       "    <tr>\n",
       "      <th>district_12</th>\n",
       "      <td>40925.675419</td>\n",
       "      <td>54056.616295</td>\n",
       "      <td>42.785681</td>\n",
       "      <td>0.215845</td>\n",
       "      <td>131674.118421</td>\n",
       "      <td>5992.001645</td>\n",
       "      <td>1936.500000</td>\n",
       "      <td>1.709704</td>\n",
       "    </tr>\n",
       "    <tr>\n",
       "      <th>district_13</th>\n",
       "      <td>55486.535985</td>\n",
       "      <td>71348.229298</td>\n",
       "      <td>47.569269</td>\n",
       "      <td>0.176072</td>\n",
       "      <td>149200.901818</td>\n",
       "      <td>4573.843636</td>\n",
       "      <td>1926.200000</td>\n",
       "      <td>1.874545</td>\n",
       "    </tr>\n",
       "  </tbody>\n",
       "</table>\n",
       "</div>"
      ],
      "text/plain": [
       "                      mae           rmse      mapes       R^2      SALEPRICE  \\\n",
       "district_1   36078.160575   49507.527432  18.560255  0.699025  219888.788503   \n",
       "district_2   55901.164345   80907.973640  16.813528  0.747479  347195.029630   \n",
       "district_3   47911.737015   69979.062743  20.480843  0.819349  261041.727106   \n",
       "district_4   37997.784729   51479.450066  25.665238  0.689832  191448.015873   \n",
       "district_5   43495.971226   57947.928416  16.362635  0.774242  279481.883882   \n",
       "district_6   33176.442052   43469.869970  25.086147  0.482569  159027.268519   \n",
       "district_7   50198.174717   60887.992415  47.972429  0.313011  125234.332921   \n",
       "district_8   39652.894763   52983.805261  30.361766  0.551982  158730.732000   \n",
       "district_9   38772.043383   50343.747916  48.448996 -0.313505  100983.590308   \n",
       "district_10  60098.906312   84603.221843  45.820451  0.572652  190825.944681   \n",
       "district_11  92491.497325  130925.392176  38.571569  0.642819  277164.033413   \n",
       "district_12  40925.675419   54056.616295  42.785681  0.215845  131674.118421   \n",
       "district_13  55486.535985   71348.229298  47.569269  0.176072  149200.901818   \n",
       "\n",
       "                  LOTAREA      YEARBLT   STORIES  \n",
       "district_1   18311.494577  1959.376356  1.557158  \n",
       "district_2   28928.464550  1968.440212  1.703175  \n",
       "district_3   22902.147436  1959.855311  1.500916  \n",
       "district_4   16155.658009  1956.578644  1.485570  \n",
       "district_5   13725.758232  1956.907279  1.650347  \n",
       "district_6   10129.287037  1955.130658  1.431070  \n",
       "district_7   11437.024752  1950.638614  1.465099  \n",
       "district_8   13534.752000  1956.425333  1.457333  \n",
       "district_9   12213.361233  1951.126285  1.278267  \n",
       "district_10   7570.417021  1936.978723  1.878723  \n",
       "district_11   5665.145585  1929.871122  1.893795  \n",
       "district_12   5992.001645  1936.500000  1.709704  \n",
       "district_13   4573.843636  1926.200000  1.874545  "
      ]
     },
     "execution_count": 16,
     "metadata": {},
     "output_type": "execute_result"
    }
   ],
   "source": [
    "districts = [\"district_\"+str(i) for i in range(1,14)]\n",
    "metrics_df = pd.DataFrame(data={\"district\":districts, \"mae\":maes, \"rmse\":rmses, \"mapes\":mapes, \"R^2\":r_squareds})\n",
    "metrics_df = metrics_df.set_index(\"district\")\n",
    "metrics_df.to_csv(PATH+\"results/errors_soos_district_basic.csv\")\n",
    "\n",
    "# add more information about each district to characterize\n",
    "df_agg = structured.groupby(by=\"DISTRICT\").mean()\n",
    "df_agg  = df_agg[[\"SALEPRICE\", \"LOTAREA\", \"YEARBLT\", \"STORIES\"]]\n",
    "metrics_df_agg = pd.concat([metrics_df, df_agg], axis=1)\n",
    "\n",
    "metrics_df_agg"
   ]
  },
  {
   "cell_type": "markdown",
   "metadata": {},
   "source": [
    "## Spatial out-of-sample CatBoost"
   ]
  },
  {
   "cell_type": "code",
   "execution_count": 17,
   "metadata": {},
   "outputs": [
    {
     "name": "stdout",
     "output_type": "stream",
     "text": [
      "Predicting district 1/13\n",
      "Predicting district 2/13\n",
      "Predicting district 3/13\n",
      "Predicting district 4/13\n",
      "Predicting district 5/13\n",
      "Predicting district 6/13\n",
      "Predicting district 7/13\n",
      "Predicting district 8/13\n",
      "Predicting district 9/13\n",
      "Predicting district 10/13\n",
      "Predicting district 11/13\n",
      "Predicting district 12/13\n",
      "Predicting district 13/13\n",
      "\n",
      "Weighted metrics:\n",
      "MAE:  44032\n",
      "RMSE: 60710\n",
      "MAPE: 27.24%\n",
      "R^2:  0.58\n"
     ]
    }
   ],
   "source": [
    "estimator = CatBoostRegressor()\n",
    "error_df_soos, col_names_cat, avg_fis_cat, metrics = soos_validation(estimator, structured)\n",
    "maes, rmses, mapes, r_squareds = metrics"
   ]
  },
  {
   "cell_type": "code",
   "execution_count": 18,
   "metadata": {},
   "outputs": [
    {
     "data": {
      "text/html": [
       "<div>\n",
       "<style scoped>\n",
       "    .dataframe tbody tr th:only-of-type {\n",
       "        vertical-align: middle;\n",
       "    }\n",
       "\n",
       "    .dataframe tbody tr th {\n",
       "        vertical-align: top;\n",
       "    }\n",
       "\n",
       "    .dataframe thead th {\n",
       "        text-align: right;\n",
       "    }\n",
       "</style>\n",
       "<table border=\"1\" class=\"dataframe\">\n",
       "  <thead>\n",
       "    <tr style=\"text-align: right;\">\n",
       "      <th></th>\n",
       "      <th>id</th>\n",
       "      <th>lat</th>\n",
       "      <th>long</th>\n",
       "      <th>district</th>\n",
       "      <th>prediction</th>\n",
       "      <th>error</th>\n",
       "    </tr>\n",
       "  </thead>\n",
       "  <tbody>\n",
       "    <tr>\n",
       "      <th>0</th>\n",
       "      <td>71623</td>\n",
       "      <td>40.664950</td>\n",
       "      <td>-79.719952</td>\n",
       "      <td>district_7</td>\n",
       "      <td>150786.728532</td>\n",
       "      <td>35188.271468</td>\n",
       "    </tr>\n",
       "    <tr>\n",
       "      <th>1</th>\n",
       "      <td>396546</td>\n",
       "      <td>40.450605</td>\n",
       "      <td>-80.217889</td>\n",
       "      <td>district_1</td>\n",
       "      <td>168956.347357</td>\n",
       "      <td>26043.652643</td>\n",
       "    </tr>\n",
       "    <tr>\n",
       "      <th>2</th>\n",
       "      <td>161454</td>\n",
       "      <td>40.477051</td>\n",
       "      <td>-79.777996</td>\n",
       "      <td>district_8</td>\n",
       "      <td>200921.776454</td>\n",
       "      <td>29078.223546</td>\n",
       "    </tr>\n",
       "    <tr>\n",
       "      <th>3</th>\n",
       "      <td>461687</td>\n",
       "      <td>40.606085</td>\n",
       "      <td>-79.930633</td>\n",
       "      <td>district_3</td>\n",
       "      <td>671780.867265</td>\n",
       "      <td>-76780.867265</td>\n",
       "    </tr>\n",
       "    <tr>\n",
       "      <th>4</th>\n",
       "      <td>136057</td>\n",
       "      <td>40.378484</td>\n",
       "      <td>-80.062464</td>\n",
       "      <td>district_5</td>\n",
       "      <td>447814.315535</td>\n",
       "      <td>150185.684465</td>\n",
       "    </tr>\n",
       "    <tr>\n",
       "      <th>...</th>\n",
       "      <td>...</td>\n",
       "      <td>...</td>\n",
       "      <td>...</td>\n",
       "      <td>...</td>\n",
       "      <td>...</td>\n",
       "      <td>...</td>\n",
       "    </tr>\n",
       "    <tr>\n",
       "      <th>9549</th>\n",
       "      <td>289011</td>\n",
       "      <td>40.551787</td>\n",
       "      <td>-79.996615</td>\n",
       "      <td>district_1</td>\n",
       "      <td>283985.970741</td>\n",
       "      <td>-8985.970741</td>\n",
       "    </tr>\n",
       "    <tr>\n",
       "      <th>9550</th>\n",
       "      <td>250118</td>\n",
       "      <td>40.451706</td>\n",
       "      <td>-79.854802</td>\n",
       "      <td>district_10</td>\n",
       "      <td>119658.450867</td>\n",
       "      <td>341.549133</td>\n",
       "    </tr>\n",
       "    <tr>\n",
       "      <th>9551</th>\n",
       "      <td>263392</td>\n",
       "      <td>40.607721</td>\n",
       "      <td>-79.930186</td>\n",
       "      <td>district_3</td>\n",
       "      <td>182546.490634</td>\n",
       "      <td>-87546.490634</td>\n",
       "    </tr>\n",
       "    <tr>\n",
       "      <th>9552</th>\n",
       "      <td>459551</td>\n",
       "      <td>40.382627</td>\n",
       "      <td>-80.064891</td>\n",
       "      <td>district_5</td>\n",
       "      <td>294736.867763</td>\n",
       "      <td>-107736.867763</td>\n",
       "    </tr>\n",
       "    <tr>\n",
       "      <th>9553</th>\n",
       "      <td>407154</td>\n",
       "      <td>40.448528</td>\n",
       "      <td>-79.767985</td>\n",
       "      <td>district_8</td>\n",
       "      <td>154979.267018</td>\n",
       "      <td>-80579.267018</td>\n",
       "    </tr>\n",
       "  </tbody>\n",
       "</table>\n",
       "<p>9554 rows × 6 columns</p>\n",
       "</div>"
      ],
      "text/plain": [
       "          id        lat       long     district     prediction          error\n",
       "0      71623  40.664950 -79.719952   district_7  150786.728532   35188.271468\n",
       "1     396546  40.450605 -80.217889   district_1  168956.347357   26043.652643\n",
       "2     161454  40.477051 -79.777996   district_8  200921.776454   29078.223546\n",
       "3     461687  40.606085 -79.930633   district_3  671780.867265  -76780.867265\n",
       "4     136057  40.378484 -80.062464   district_5  447814.315535  150185.684465\n",
       "...      ...        ...        ...          ...            ...            ...\n",
       "9549  289011  40.551787 -79.996615   district_1  283985.970741   -8985.970741\n",
       "9550  250118  40.451706 -79.854802  district_10  119658.450867     341.549133\n",
       "9551  263392  40.607721 -79.930186   district_3  182546.490634  -87546.490634\n",
       "9552  459551  40.382627 -80.064891   district_5  294736.867763 -107736.867763\n",
       "9553  407154  40.448528 -79.767985   district_8  154979.267018  -80579.267018\n",
       "\n",
       "[9554 rows x 6 columns]"
      ]
     },
     "execution_count": 18,
     "metadata": {},
     "output_type": "execute_result"
    }
   ],
   "source": [
    "error_df_soos.to_csv(PATH+\"results/errors_soos_basic.csv\")\n",
    "error_df_soos"
   ]
  },
  {
   "cell_type": "code",
   "execution_count": 19,
   "metadata": {},
   "outputs": [
    {
     "data": {
      "text/html": [
       "<div>\n",
       "<style scoped>\n",
       "    .dataframe tbody tr th:only-of-type {\n",
       "        vertical-align: middle;\n",
       "    }\n",
       "\n",
       "    .dataframe tbody tr th {\n",
       "        vertical-align: top;\n",
       "    }\n",
       "\n",
       "    .dataframe thead th {\n",
       "        text-align: right;\n",
       "    }\n",
       "</style>\n",
       "<table border=\"1\" class=\"dataframe\">\n",
       "  <thead>\n",
       "    <tr style=\"text-align: right;\">\n",
       "      <th></th>\n",
       "      <th>mae</th>\n",
       "      <th>rmse</th>\n",
       "      <th>mapes</th>\n",
       "      <th>R^2</th>\n",
       "      <th>SALEPRICE</th>\n",
       "      <th>LOTAREA</th>\n",
       "      <th>YEARBLT</th>\n",
       "      <th>STORIES</th>\n",
       "    </tr>\n",
       "  </thead>\n",
       "  <tbody>\n",
       "    <tr>\n",
       "      <th>district_1</th>\n",
       "      <td>32879.092119</td>\n",
       "      <td>46064.039239</td>\n",
       "      <td>15.941183</td>\n",
       "      <td>0.739438</td>\n",
       "      <td>219888.788503</td>\n",
       "      <td>18311.494577</td>\n",
       "      <td>1959.376356</td>\n",
       "      <td>1.557158</td>\n",
       "    </tr>\n",
       "    <tr>\n",
       "      <th>district_2</th>\n",
       "      <td>57489.473713</td>\n",
       "      <td>81481.522775</td>\n",
       "      <td>16.796213</td>\n",
       "      <td>0.743886</td>\n",
       "      <td>347195.029630</td>\n",
       "      <td>28928.464550</td>\n",
       "      <td>1968.440212</td>\n",
       "      <td>1.703175</td>\n",
       "    </tr>\n",
       "    <tr>\n",
       "      <th>district_3</th>\n",
       "      <td>44998.750232</td>\n",
       "      <td>68694.874952</td>\n",
       "      <td>18.204345</td>\n",
       "      <td>0.825918</td>\n",
       "      <td>261041.727106</td>\n",
       "      <td>22902.147436</td>\n",
       "      <td>1959.855311</td>\n",
       "      <td>1.500916</td>\n",
       "    </tr>\n",
       "    <tr>\n",
       "      <th>district_4</th>\n",
       "      <td>34495.569718</td>\n",
       "      <td>48000.094840</td>\n",
       "      <td>21.812557</td>\n",
       "      <td>0.730342</td>\n",
       "      <td>191448.015873</td>\n",
       "      <td>16155.658009</td>\n",
       "      <td>1956.578644</td>\n",
       "      <td>1.485570</td>\n",
       "    </tr>\n",
       "    <tr>\n",
       "      <th>district_5</th>\n",
       "      <td>49345.371365</td>\n",
       "      <td>67181.183912</td>\n",
       "      <td>17.777508</td>\n",
       "      <td>0.696567</td>\n",
       "      <td>279481.883882</td>\n",
       "      <td>13725.758232</td>\n",
       "      <td>1956.907279</td>\n",
       "      <td>1.650347</td>\n",
       "    </tr>\n",
       "    <tr>\n",
       "      <th>district_6</th>\n",
       "      <td>27483.245197</td>\n",
       "      <td>37278.238264</td>\n",
       "      <td>21.176568</td>\n",
       "      <td>0.619472</td>\n",
       "      <td>159027.268519</td>\n",
       "      <td>10129.287037</td>\n",
       "      <td>1955.130658</td>\n",
       "      <td>1.431070</td>\n",
       "    </tr>\n",
       "    <tr>\n",
       "      <th>district_7</th>\n",
       "      <td>47043.192829</td>\n",
       "      <td>58053.591520</td>\n",
       "      <td>46.703012</td>\n",
       "      <td>0.375482</td>\n",
       "      <td>125234.332921</td>\n",
       "      <td>11437.024752</td>\n",
       "      <td>1950.638614</td>\n",
       "      <td>1.465099</td>\n",
       "    </tr>\n",
       "    <tr>\n",
       "      <th>district_8</th>\n",
       "      <td>37653.283651</td>\n",
       "      <td>50777.636483</td>\n",
       "      <td>29.467311</td>\n",
       "      <td>0.588515</td>\n",
       "      <td>158730.732000</td>\n",
       "      <td>13534.752000</td>\n",
       "      <td>1956.425333</td>\n",
       "      <td>1.457333</td>\n",
       "    </tr>\n",
       "    <tr>\n",
       "      <th>district_9</th>\n",
       "      <td>38693.094173</td>\n",
       "      <td>46992.341442</td>\n",
       "      <td>50.555751</td>\n",
       "      <td>-0.144444</td>\n",
       "      <td>100983.590308</td>\n",
       "      <td>12213.361233</td>\n",
       "      <td>1951.126285</td>\n",
       "      <td>1.278267</td>\n",
       "    </tr>\n",
       "    <tr>\n",
       "      <th>district_10</th>\n",
       "      <td>56643.084897</td>\n",
       "      <td>81402.497325</td>\n",
       "      <td>40.738271</td>\n",
       "      <td>0.604375</td>\n",
       "      <td>190825.944681</td>\n",
       "      <td>7570.417021</td>\n",
       "      <td>1936.978723</td>\n",
       "      <td>1.878723</td>\n",
       "    </tr>\n",
       "    <tr>\n",
       "      <th>district_11</th>\n",
       "      <td>90546.617920</td>\n",
       "      <td>128783.857737</td>\n",
       "      <td>37.530527</td>\n",
       "      <td>0.654408</td>\n",
       "      <td>277164.033413</td>\n",
       "      <td>5665.145585</td>\n",
       "      <td>1929.871122</td>\n",
       "      <td>1.893795</td>\n",
       "    </tr>\n",
       "    <tr>\n",
       "      <th>district_12</th>\n",
       "      <td>36467.094454</td>\n",
       "      <td>50419.463341</td>\n",
       "      <td>37.882172</td>\n",
       "      <td>0.317817</td>\n",
       "      <td>131674.118421</td>\n",
       "      <td>5992.001645</td>\n",
       "      <td>1936.500000</td>\n",
       "      <td>1.709704</td>\n",
       "    </tr>\n",
       "    <tr>\n",
       "      <th>district_13</th>\n",
       "      <td>48401.388343</td>\n",
       "      <td>64646.055895</td>\n",
       "      <td>39.861454</td>\n",
       "      <td>0.323595</td>\n",
       "      <td>149200.901818</td>\n",
       "      <td>4573.843636</td>\n",
       "      <td>1926.200000</td>\n",
       "      <td>1.874545</td>\n",
       "    </tr>\n",
       "  </tbody>\n",
       "</table>\n",
       "</div>"
      ],
      "text/plain": [
       "                      mae           rmse      mapes       R^2      SALEPRICE  \\\n",
       "district_1   32879.092119   46064.039239  15.941183  0.739438  219888.788503   \n",
       "district_2   57489.473713   81481.522775  16.796213  0.743886  347195.029630   \n",
       "district_3   44998.750232   68694.874952  18.204345  0.825918  261041.727106   \n",
       "district_4   34495.569718   48000.094840  21.812557  0.730342  191448.015873   \n",
       "district_5   49345.371365   67181.183912  17.777508  0.696567  279481.883882   \n",
       "district_6   27483.245197   37278.238264  21.176568  0.619472  159027.268519   \n",
       "district_7   47043.192829   58053.591520  46.703012  0.375482  125234.332921   \n",
       "district_8   37653.283651   50777.636483  29.467311  0.588515  158730.732000   \n",
       "district_9   38693.094173   46992.341442  50.555751 -0.144444  100983.590308   \n",
       "district_10  56643.084897   81402.497325  40.738271  0.604375  190825.944681   \n",
       "district_11  90546.617920  128783.857737  37.530527  0.654408  277164.033413   \n",
       "district_12  36467.094454   50419.463341  37.882172  0.317817  131674.118421   \n",
       "district_13  48401.388343   64646.055895  39.861454  0.323595  149200.901818   \n",
       "\n",
       "                  LOTAREA      YEARBLT   STORIES  \n",
       "district_1   18311.494577  1959.376356  1.557158  \n",
       "district_2   28928.464550  1968.440212  1.703175  \n",
       "district_3   22902.147436  1959.855311  1.500916  \n",
       "district_4   16155.658009  1956.578644  1.485570  \n",
       "district_5   13725.758232  1956.907279  1.650347  \n",
       "district_6   10129.287037  1955.130658  1.431070  \n",
       "district_7   11437.024752  1950.638614  1.465099  \n",
       "district_8   13534.752000  1956.425333  1.457333  \n",
       "district_9   12213.361233  1951.126285  1.278267  \n",
       "district_10   7570.417021  1936.978723  1.878723  \n",
       "district_11   5665.145585  1929.871122  1.893795  \n",
       "district_12   5992.001645  1936.500000  1.709704  \n",
       "district_13   4573.843636  1926.200000  1.874545  "
      ]
     },
     "execution_count": 19,
     "metadata": {},
     "output_type": "execute_result"
    }
   ],
   "source": [
    "districts = [\"district_\"+str(i) for i in range(1,14)]\n",
    "metrics_df = pd.DataFrame(data={\"district\":districts, \"mae\":maes, \"rmse\":rmses, \"mapes\":mapes, \"R^2\":r_squareds})\n",
    "metrics_df = metrics_df.set_index(\"district\")\n",
    "metrics_df.to_csv(PATH+\"results/errors_soos_district_basic.csv\")\n",
    "\n",
    "# add more information about each district to characterize\n",
    "df_agg = structured.groupby(by=\"DISTRICT\").mean()\n",
    "df_agg  = df_agg[[\"SALEPRICE\", \"LOTAREA\", \"YEARBLT\", \"STORIES\"]]\n",
    "metrics_df_agg = pd.concat([metrics_df, df_agg], axis=1)\n",
    "\n",
    "metrics_df_agg"
   ]
  },
  {
   "cell_type": "code",
   "execution_count": 20,
   "metadata": {},
   "outputs": [
    {
     "data": {
      "text/html": [
       "<div>\n",
       "<style scoped>\n",
       "    .dataframe tbody tr th:only-of-type {\n",
       "        vertical-align: middle;\n",
       "    }\n",
       "\n",
       "    .dataframe tbody tr th {\n",
       "        vertical-align: top;\n",
       "    }\n",
       "\n",
       "    .dataframe thead th {\n",
       "        text-align: right;\n",
       "    }\n",
       "</style>\n",
       "<table border=\"1\" class=\"dataframe\">\n",
       "  <thead>\n",
       "    <tr style=\"text-align: right;\">\n",
       "      <th></th>\n",
       "      <th>SALEPRICE</th>\n",
       "      <th>LOTAREA</th>\n",
       "      <th>YEARBLT</th>\n",
       "      <th>STORIES</th>\n",
       "    </tr>\n",
       "    <tr>\n",
       "      <th>DISTRICT</th>\n",
       "      <th></th>\n",
       "      <th></th>\n",
       "      <th></th>\n",
       "      <th></th>\n",
       "    </tr>\n",
       "  </thead>\n",
       "  <tbody>\n",
       "    <tr>\n",
       "      <th>district_1</th>\n",
       "      <td>219888.788503</td>\n",
       "      <td>18311.494577</td>\n",
       "      <td>1959.376356</td>\n",
       "      <td>1.557158</td>\n",
       "    </tr>\n",
       "    <tr>\n",
       "      <th>district_2</th>\n",
       "      <td>347195.029630</td>\n",
       "      <td>28928.464550</td>\n",
       "      <td>1968.440212</td>\n",
       "      <td>1.703175</td>\n",
       "    </tr>\n",
       "    <tr>\n",
       "      <th>district_3</th>\n",
       "      <td>261041.727106</td>\n",
       "      <td>22902.147436</td>\n",
       "      <td>1959.855311</td>\n",
       "      <td>1.500916</td>\n",
       "    </tr>\n",
       "    <tr>\n",
       "      <th>district_4</th>\n",
       "      <td>191448.015873</td>\n",
       "      <td>16155.658009</td>\n",
       "      <td>1956.578644</td>\n",
       "      <td>1.485570</td>\n",
       "    </tr>\n",
       "    <tr>\n",
       "      <th>district_5</th>\n",
       "      <td>279481.883882</td>\n",
       "      <td>13725.758232</td>\n",
       "      <td>1956.907279</td>\n",
       "      <td>1.650347</td>\n",
       "    </tr>\n",
       "    <tr>\n",
       "      <th>district_6</th>\n",
       "      <td>159027.268519</td>\n",
       "      <td>10129.287037</td>\n",
       "      <td>1955.130658</td>\n",
       "      <td>1.431070</td>\n",
       "    </tr>\n",
       "    <tr>\n",
       "      <th>district_7</th>\n",
       "      <td>125234.332921</td>\n",
       "      <td>11437.024752</td>\n",
       "      <td>1950.638614</td>\n",
       "      <td>1.465099</td>\n",
       "    </tr>\n",
       "    <tr>\n",
       "      <th>district_8</th>\n",
       "      <td>158730.732000</td>\n",
       "      <td>13534.752000</td>\n",
       "      <td>1956.425333</td>\n",
       "      <td>1.457333</td>\n",
       "    </tr>\n",
       "    <tr>\n",
       "      <th>district_9</th>\n",
       "      <td>100983.590308</td>\n",
       "      <td>12213.361233</td>\n",
       "      <td>1951.126285</td>\n",
       "      <td>1.278267</td>\n",
       "    </tr>\n",
       "    <tr>\n",
       "      <th>district_10</th>\n",
       "      <td>190825.944681</td>\n",
       "      <td>7570.417021</td>\n",
       "      <td>1936.978723</td>\n",
       "      <td>1.878723</td>\n",
       "    </tr>\n",
       "    <tr>\n",
       "      <th>district_11</th>\n",
       "      <td>277164.033413</td>\n",
       "      <td>5665.145585</td>\n",
       "      <td>1929.871122</td>\n",
       "      <td>1.893795</td>\n",
       "    </tr>\n",
       "    <tr>\n",
       "      <th>district_12</th>\n",
       "      <td>131674.118421</td>\n",
       "      <td>5992.001645</td>\n",
       "      <td>1936.500000</td>\n",
       "      <td>1.709704</td>\n",
       "    </tr>\n",
       "    <tr>\n",
       "      <th>district_13</th>\n",
       "      <td>149200.901818</td>\n",
       "      <td>4573.843636</td>\n",
       "      <td>1926.200000</td>\n",
       "      <td>1.874545</td>\n",
       "    </tr>\n",
       "  </tbody>\n",
       "</table>\n",
       "</div>"
      ],
      "text/plain": [
       "                 SALEPRICE       LOTAREA      YEARBLT   STORIES\n",
       "DISTRICT                                                       \n",
       "district_1   219888.788503  18311.494577  1959.376356  1.557158\n",
       "district_2   347195.029630  28928.464550  1968.440212  1.703175\n",
       "district_3   261041.727106  22902.147436  1959.855311  1.500916\n",
       "district_4   191448.015873  16155.658009  1956.578644  1.485570\n",
       "district_5   279481.883882  13725.758232  1956.907279  1.650347\n",
       "district_6   159027.268519  10129.287037  1955.130658  1.431070\n",
       "district_7   125234.332921  11437.024752  1950.638614  1.465099\n",
       "district_8   158730.732000  13534.752000  1956.425333  1.457333\n",
       "district_9   100983.590308  12213.361233  1951.126285  1.278267\n",
       "district_10  190825.944681   7570.417021  1936.978723  1.878723\n",
       "district_11  277164.033413   5665.145585  1929.871122  1.893795\n",
       "district_12  131674.118421   5992.001645  1936.500000  1.709704\n",
       "district_13  149200.901818   4573.843636  1926.200000  1.874545"
      ]
     },
     "execution_count": 20,
     "metadata": {},
     "output_type": "execute_result"
    }
   ],
   "source": [
    "df_agg.reindex(index=df_agg.index.to_series().str.rsplit('_').str[-1].astype(int).sort_values().index)"
   ]
  },
  {
   "cell_type": "markdown",
   "metadata": {},
   "source": [
    "## Explore solution"
   ]
  },
  {
   "cell_type": "markdown",
   "metadata": {},
   "source": [
    "### Coefficients for linear model"
   ]
  },
  {
   "cell_type": "code",
   "execution_count": 21,
   "metadata": {},
   "outputs": [
    {
     "data": {
      "text/html": [
       "<div>\n",
       "<style scoped>\n",
       "    .dataframe tbody tr th:only-of-type {\n",
       "        vertical-align: middle;\n",
       "    }\n",
       "\n",
       "    .dataframe tbody tr th {\n",
       "        vertical-align: top;\n",
       "    }\n",
       "\n",
       "    .dataframe thead th {\n",
       "        text-align: right;\n",
       "    }\n",
       "</style>\n",
       "<table border=\"1\" class=\"dataframe\">\n",
       "  <thead>\n",
       "    <tr style=\"text-align: right;\">\n",
       "      <th></th>\n",
       "      <th>feature</th>\n",
       "      <th>coef</th>\n",
       "    </tr>\n",
       "  </thead>\n",
       "  <tbody>\n",
       "    <tr>\n",
       "      <th>31</th>\n",
       "      <td>STYLEDESC_SEMIDETACHED</td>\n",
       "      <td>29332.452804</td>\n",
       "    </tr>\n",
       "    <tr>\n",
       "      <th>8</th>\n",
       "      <td>FULLBATHS</td>\n",
       "      <td>24641.157961</td>\n",
       "    </tr>\n",
       "    <tr>\n",
       "      <th>25</th>\n",
       "      <td>STYLEDESC_BUNGALOW</td>\n",
       "      <td>22253.325207</td>\n",
       "    </tr>\n",
       "    <tr>\n",
       "      <th>9</th>\n",
       "      <td>HALFBATHS</td>\n",
       "      <td>12908.716811</td>\n",
       "    </tr>\n",
       "    <tr>\n",
       "      <th>18</th>\n",
       "      <td>SALEYEAR_STR_2020</td>\n",
       "      <td>11324.227273</td>\n",
       "    </tr>\n",
       "    <tr>\n",
       "      <th>30</th>\n",
       "      <td>STYLEDESC_RANCH</td>\n",
       "      <td>9368.712525</td>\n",
       "    </tr>\n",
       "    <tr>\n",
       "      <th>23</th>\n",
       "      <td>OWNERDESC_REGULAR-ETUXORETVIR</td>\n",
       "      <td>9236.422071</td>\n",
       "    </tr>\n",
       "    <tr>\n",
       "      <th>52</th>\n",
       "      <td>ROOFDESC_TILE.1</td>\n",
       "      <td>8538.544081</td>\n",
       "    </tr>\n",
       "    <tr>\n",
       "      <th>44</th>\n",
       "      <td>ROOFDESC_TILE</td>\n",
       "      <td>8538.544081</td>\n",
       "    </tr>\n",
       "    <tr>\n",
       "      <th>48</th>\n",
       "      <td>BASEMENTDESC_Part</td>\n",
       "      <td>8121.495582</td>\n",
       "    </tr>\n",
       "    <tr>\n",
       "      <th>28</th>\n",
       "      <td>STYLEDESC_CONTEMPORARY</td>\n",
       "      <td>8045.249435</td>\n",
       "    </tr>\n",
       "    <tr>\n",
       "      <th>36</th>\n",
       "      <td>EXTFINISH_DESC_ConcreteBlock</td>\n",
       "      <td>7228.627973</td>\n",
       "    </tr>\n",
       "    <tr>\n",
       "      <th>33</th>\n",
       "      <td>STYLEDESC_TUDOR</td>\n",
       "      <td>6673.726091</td>\n",
       "    </tr>\n",
       "    <tr>\n",
       "      <th>46</th>\n",
       "      <td>BASEMENTDESC_Full</td>\n",
       "      <td>6200.188112</td>\n",
       "    </tr>\n",
       "    <tr>\n",
       "      <th>10</th>\n",
       "      <td>FIREPLACES</td>\n",
       "      <td>5383.962447</td>\n",
       "    </tr>\n",
       "  </tbody>\n",
       "</table>\n",
       "</div>"
      ],
      "text/plain": [
       "                          feature          coef\n",
       "31         STYLEDESC_SEMIDETACHED  29332.452804\n",
       "8                       FULLBATHS  24641.157961\n",
       "25             STYLEDESC_BUNGALOW  22253.325207\n",
       "9                       HALFBATHS  12908.716811\n",
       "18              SALEYEAR_STR_2020  11324.227273\n",
       "30                STYLEDESC_RANCH   9368.712525\n",
       "23  OWNERDESC_REGULAR-ETUXORETVIR   9236.422071\n",
       "52                ROOFDESC_TILE.1   8538.544081\n",
       "44                  ROOFDESC_TILE   8538.544081\n",
       "48              BASEMENTDESC_Part   8121.495582\n",
       "28         STYLEDESC_CONTEMPORARY   8045.249435\n",
       "36   EXTFINISH_DESC_ConcreteBlock   7228.627973\n",
       "33                STYLEDESC_TUDOR   6673.726091\n",
       "46              BASEMENTDESC_Full   6200.188112\n",
       "10                     FIREPLACES   5383.962447"
      ]
     },
     "execution_count": 21,
     "metadata": {},
     "output_type": "execute_result"
    }
   ],
   "source": [
    "coef_df = pd.DataFrame(data={\"feature\": col_names_linear, \"coef\": avg_fis_linear})\n",
    "coef_df.sort_values(by=[\"coef\"], ascending=False).head(15)"
   ]
  },
  {
   "cell_type": "markdown",
   "metadata": {},
   "source": [
    "### Feature importances for CatBoost model"
   ]
  },
  {
   "cell_type": "code",
   "execution_count": 22,
   "metadata": {},
   "outputs": [
    {
     "data": {
      "text/html": [
       "<div>\n",
       "<style scoped>\n",
       "    .dataframe tbody tr th:only-of-type {\n",
       "        vertical-align: middle;\n",
       "    }\n",
       "\n",
       "    .dataframe tbody tr th {\n",
       "        vertical-align: top;\n",
       "    }\n",
       "\n",
       "    .dataframe thead th {\n",
       "        text-align: right;\n",
       "    }\n",
       "</style>\n",
       "<table border=\"1\" class=\"dataframe\">\n",
       "  <thead>\n",
       "    <tr style=\"text-align: right;\">\n",
       "      <th></th>\n",
       "      <th>feature</th>\n",
       "      <th>importance</th>\n",
       "    </tr>\n",
       "  </thead>\n",
       "  <tbody>\n",
       "    <tr>\n",
       "      <th>3</th>\n",
       "      <td>GRADE</td>\n",
       "      <td>30.971280</td>\n",
       "    </tr>\n",
       "    <tr>\n",
       "      <th>12</th>\n",
       "      <td>FINISHEDLIVINGAREA</td>\n",
       "      <td>19.663563</td>\n",
       "    </tr>\n",
       "    <tr>\n",
       "      <th>0</th>\n",
       "      <td>LOTAREA</td>\n",
       "      <td>7.341299</td>\n",
       "    </tr>\n",
       "    <tr>\n",
       "      <th>2</th>\n",
       "      <td>YEARBLT</td>\n",
       "      <td>6.610392</td>\n",
       "    </tr>\n",
       "    <tr>\n",
       "      <th>8</th>\n",
       "      <td>FULLBATHS</td>\n",
       "      <td>5.268115</td>\n",
       "    </tr>\n",
       "    <tr>\n",
       "      <th>5</th>\n",
       "      <td>CDU</td>\n",
       "      <td>4.761546</td>\n",
       "    </tr>\n",
       "    <tr>\n",
       "      <th>6</th>\n",
       "      <td>TOTALROOMS</td>\n",
       "      <td>3.353088</td>\n",
       "    </tr>\n",
       "    <tr>\n",
       "      <th>9</th>\n",
       "      <td>HALFBATHS</td>\n",
       "      <td>2.248479</td>\n",
       "    </tr>\n",
       "    <tr>\n",
       "      <th>11</th>\n",
       "      <td>BSMTGARAGE</td>\n",
       "      <td>2.174859</td>\n",
       "    </tr>\n",
       "    <tr>\n",
       "      <th>10</th>\n",
       "      <td>FIREPLACES</td>\n",
       "      <td>1.892761</td>\n",
       "    </tr>\n",
       "    <tr>\n",
       "      <th>7</th>\n",
       "      <td>BEDROOMS</td>\n",
       "      <td>1.771917</td>\n",
       "    </tr>\n",
       "    <tr>\n",
       "      <th>4</th>\n",
       "      <td>CONDITION</td>\n",
       "      <td>1.645034</td>\n",
       "    </tr>\n",
       "    <tr>\n",
       "      <th>21</th>\n",
       "      <td>OWNERDESC_REGULAR</td>\n",
       "      <td>1.348561</td>\n",
       "    </tr>\n",
       "    <tr>\n",
       "      <th>23</th>\n",
       "      <td>OWNERDESC_REGULAR-ETUXORETVIR</td>\n",
       "      <td>1.221662</td>\n",
       "    </tr>\n",
       "    <tr>\n",
       "      <th>35</th>\n",
       "      <td>EXTFINISH_DESC_Brick</td>\n",
       "      <td>0.715683</td>\n",
       "    </tr>\n",
       "  </tbody>\n",
       "</table>\n",
       "</div>"
      ],
      "text/plain": [
       "                          feature  importance\n",
       "3                           GRADE   30.971280\n",
       "12             FINISHEDLIVINGAREA   19.663563\n",
       "0                         LOTAREA    7.341299\n",
       "2                         YEARBLT    6.610392\n",
       "8                       FULLBATHS    5.268115\n",
       "5                             CDU    4.761546\n",
       "6                      TOTALROOMS    3.353088\n",
       "9                       HALFBATHS    2.248479\n",
       "11                     BSMTGARAGE    2.174859\n",
       "10                     FIREPLACES    1.892761\n",
       "7                        BEDROOMS    1.771917\n",
       "4                       CONDITION    1.645034\n",
       "21              OWNERDESC_REGULAR    1.348561\n",
       "23  OWNERDESC_REGULAR-ETUXORETVIR    1.221662\n",
       "35           EXTFINISH_DESC_Brick    0.715683"
      ]
     },
     "execution_count": 22,
     "metadata": {},
     "output_type": "execute_result"
    }
   ],
   "source": [
    "fi_df = pd.DataFrame(data={\"feature\": col_names_cat, \"importance\": avg_fis_cat})\n",
    "fi_df.sort_values(by=[\"importance\"], ascending=False).head(15)"
   ]
  },
  {
   "cell_type": "code",
   "execution_count": null,
   "metadata": {},
   "outputs": [],
   "source": []
  }
 ],
 "metadata": {
  "kernelspec": {
   "display_name": "Python 3",
   "language": "python",
   "name": "python3"
  },
  "language_info": {
   "codemirror_mode": {
    "name": "ipython",
    "version": 3
   },
   "file_extension": ".py",
   "mimetype": "text/x-python",
   "name": "python",
   "nbconvert_exporter": "python",
   "pygments_lexer": "ipython3",
   "version": "3.7.9"
  },
  "widgets": {
   "application/vnd.jupyter.widget-state+json": {
    "state": {
     "00183202665b4be6bcd23414c1e432c9": {
      "model_module": "@jupyter-widgets/base",
      "model_module_version": "1.2.0",
      "model_name": "LayoutModel",
      "state": {}
     },
     "0298dc94e26845abbdbfee738d247c2f": {
      "model_module": "@jupyter-widgets/controls",
      "model_module_version": "1.5.0",
      "model_name": "HBoxModel",
      "state": {
       "children": [
        "IPY_MODEL_8d522d62640d426a9a9855572390103c",
        "IPY_MODEL_be9d28939e9e434e982935d215c9d5d3",
        "IPY_MODEL_ebb7c85f5cc441aa89b20ce495aa25f6"
       ],
       "layout": "IPY_MODEL_e1d42132e995438bb53e166760b8dff2"
      }
     },
     "02b39b00f0cf41e5b6ac22f3dfb33fcf": {
      "model_module": "@jupyter-widgets/controls",
      "model_module_version": "1.5.0",
      "model_name": "DescriptionStyleModel",
      "state": {
       "description_width": ""
      }
     },
     "02c1422712184dd4b0eceeefbc4f8e4e": {
      "model_module": "@jupyter-widgets/controls",
      "model_module_version": "1.5.0",
      "model_name": "ProgressStyleModel",
      "state": {
       "description_width": ""
      }
     },
     "0308f042c81244859c848e51e12792e4": {
      "model_module": "@jupyter-widgets/base",
      "model_module_version": "1.2.0",
      "model_name": "LayoutModel",
      "state": {}
     },
     "032c1b9e3aad4dae9bc64c882bc307d1": {
      "model_module": "@jupyter-widgets/controls",
      "model_module_version": "1.5.0",
      "model_name": "HBoxModel",
      "state": {
       "children": [
        "IPY_MODEL_d41ec544ec1c4ea8903fe9f5ba1100c0",
        "IPY_MODEL_d58c7899186d4ae59a92cfdc2e8cd92d",
        "IPY_MODEL_2faa206639ad4e92af634f9684902652"
       ],
       "layout": "IPY_MODEL_548e4d5e84b247b1a8c9fe5aa2f4f794"
      }
     },
     "0337891473f6440798480115be9d3e3e": {
      "model_module": "@jupyter-widgets/controls",
      "model_module_version": "1.5.0",
      "model_name": "DescriptionStyleModel",
      "state": {
       "description_width": ""
      }
     },
     "03d9f004730f40b885e70647022d331b": {
      "model_module": "@jupyter-widgets/controls",
      "model_module_version": "1.5.0",
      "model_name": "ProgressStyleModel",
      "state": {
       "description_width": ""
      }
     },
     "03eaa6539fbc4156bb3a46bcfde7a9ff": {
      "model_module": "@jupyter-widgets/controls",
      "model_module_version": "1.5.0",
      "model_name": "HTMLModel",
      "state": {
       "layout": "IPY_MODEL_96a98002f7854bec8cde83f8a7d7574a",
       "style": "IPY_MODEL_1217e723ec3c44f4bdd96810045e5a76",
       "value": " 5/5 [00:09&lt;00:00,  1.83s/it]"
      }
     },
     "0442f90bbaa74486aafdef3dba80224b": {
      "model_module": "@jupyter-widgets/controls",
      "model_module_version": "1.5.0",
      "model_name": "HBoxModel",
      "state": {
       "children": [
        "IPY_MODEL_70ec3303967344469c744a5fabc90901",
        "IPY_MODEL_5b5ead69470740b8914f068c76a529ff",
        "IPY_MODEL_71b510c9716f4c908e2ee4f81699a9de"
       ],
       "layout": "IPY_MODEL_454baa6f28f640c9938dde5a89268193"
      }
     },
     "04a3ad3b815a4013a8fa9874ead52495": {
      "model_module": "@jupyter-widgets/controls",
      "model_module_version": "1.5.0",
      "model_name": "HTMLModel",
      "state": {
       "layout": "IPY_MODEL_aa2701fe58a64b57819eb5c4726af88d",
       "style": "IPY_MODEL_b42d2988d31a4947a17ff2f1cffd16f1",
       "value": " 5/5 [00:00&lt;00:00,  5.20it/s]"
      }
     },
     "04e2bc570d2c47198f60f56a8369a6a4": {
      "model_module": "@jupyter-widgets/controls",
      "model_module_version": "1.5.0",
      "model_name": "HBoxModel",
      "state": {
       "children": [
        "IPY_MODEL_a98d7f7100ad4fda876529fc03010827",
        "IPY_MODEL_f1938575c51945feaf761e33704af9de",
        "IPY_MODEL_de1053d146124535941858cb418c3542"
       ],
       "layout": "IPY_MODEL_6bae214bb2164a21a7946dddbe0f6627"
      }
     },
     "05aad7cdef044ca4ad60841ef415d3d0": {
      "model_module": "@jupyter-widgets/base",
      "model_module_version": "1.2.0",
      "model_name": "LayoutModel",
      "state": {}
     },
     "05b1e66e391343a09ef67f4f0cf5256f": {
      "model_module": "@jupyter-widgets/base",
      "model_module_version": "1.2.0",
      "model_name": "LayoutModel",
      "state": {}
     },
     "05e630a826cf49be94ed5a2ef483f66b": {
      "model_module": "@jupyter-widgets/controls",
      "model_module_version": "1.5.0",
      "model_name": "DescriptionStyleModel",
      "state": {
       "description_width": ""
      }
     },
     "0662c8a9952947e192f6c47b7d2820f6": {
      "model_module": "@jupyter-widgets/controls",
      "model_module_version": "1.5.0",
      "model_name": "DescriptionStyleModel",
      "state": {
       "description_width": ""
      }
     },
     "06755de651b44c36a482c23b992d968c": {
      "model_module": "@jupyter-widgets/controls",
      "model_module_version": "1.5.0",
      "model_name": "DescriptionStyleModel",
      "state": {
       "description_width": ""
      }
     },
     "07139199fb7945d2aafe78f436ec830e": {
      "model_module": "@jupyter-widgets/controls",
      "model_module_version": "1.5.0",
      "model_name": "ProgressStyleModel",
      "state": {
       "description_width": ""
      }
     },
     "077873ba583749938d0a8316d0e924a2": {
      "model_module": "@jupyter-widgets/base",
      "model_module_version": "1.2.0",
      "model_name": "LayoutModel",
      "state": {}
     },
     "08b0859ac75e4e38a7a9813e1ab9bdeb": {
      "model_module": "@jupyter-widgets/controls",
      "model_module_version": "1.5.0",
      "model_name": "ProgressStyleModel",
      "state": {
       "description_width": ""
      }
     },
     "091eb422bcbf4b31be24a84d5ad4f7c8": {
      "model_module": "@jupyter-widgets/base",
      "model_module_version": "1.2.0",
      "model_name": "LayoutModel",
      "state": {}
     },
     "091f331a656a499b9e5f4124bbc5adb3": {
      "model_module": "@jupyter-widgets/controls",
      "model_module_version": "1.5.0",
      "model_name": "FloatProgressModel",
      "state": {
       "bar_style": "success",
       "layout": "IPY_MODEL_9f63ea93bd13410f9be7a826afc09f84",
       "max": 5,
       "style": "IPY_MODEL_9dc243bf48f34bc3856bcc3e1553eb10",
       "value": 5
      }
     },
     "09de475a064d4fe9b27ca98fe0e0c562": {
      "model_module": "@jupyter-widgets/controls",
      "model_module_version": "1.5.0",
      "model_name": "DescriptionStyleModel",
      "state": {
       "description_width": ""
      }
     },
     "0a38b5c1c6b343fa9c68f8a8ee59c545": {
      "model_module": "@jupyter-widgets/controls",
      "model_module_version": "1.5.0",
      "model_name": "HTMLModel",
      "state": {
       "layout": "IPY_MODEL_077873ba583749938d0a8316d0e924a2",
       "style": "IPY_MODEL_4d62b3b8b6af46fe8aa4cbb6e38e03ce",
       "value": " 5/5 [00:09&lt;00:00,  1.87s/it]"
      }
     },
     "0a3d1e85e9e84383bb48430221d7cff8": {
      "model_module": "@jupyter-widgets/controls",
      "model_module_version": "1.5.0",
      "model_name": "HTMLModel",
      "state": {
       "layout": "IPY_MODEL_9431f1ab7e2348b695cb049f32549260",
       "style": "IPY_MODEL_be655f845ea9429fb4e225a6124b1977",
       "value": " 5/5 [00:11&lt;00:00,  2.29s/it]"
      }
     },
     "0ab0d6e5c6d347f0a264a1c851668a35": {
      "model_module": "@jupyter-widgets/controls",
      "model_module_version": "1.5.0",
      "model_name": "DescriptionStyleModel",
      "state": {
       "description_width": ""
      }
     },
     "0ba8d77827b840a4a01a5bea06207836": {
      "model_module": "@jupyter-widgets/controls",
      "model_module_version": "1.5.0",
      "model_name": "HTMLModel",
      "state": {
       "layout": "IPY_MODEL_ebb511565915420f9ce58f5d714b5f56",
       "style": "IPY_MODEL_c026b0b8b28c4150be00f2ccb7291bd0",
       "value": "100%"
      }
     },
     "0bda6c6a795345f7ace32f93a6a85e95": {
      "model_module": "@jupyter-widgets/base",
      "model_module_version": "1.2.0",
      "model_name": "LayoutModel",
      "state": {}
     },
     "0c370b1c45e644f5b6caba54efbcd794": {
      "model_module": "@jupyter-widgets/controls",
      "model_module_version": "1.5.0",
      "model_name": "DescriptionStyleModel",
      "state": {
       "description_width": ""
      }
     },
     "0d3a5bc7034646158d6f7e903e51f74c": {
      "model_module": "@jupyter-widgets/base",
      "model_module_version": "1.2.0",
      "model_name": "LayoutModel",
      "state": {}
     },
     "0d83006364164ee6ba6218a5ec617704": {
      "model_module": "@jupyter-widgets/base",
      "model_module_version": "1.2.0",
      "model_name": "LayoutModel",
      "state": {}
     },
     "0d9f6c2f67524253811130467ab9fde2": {
      "model_module": "@jupyter-widgets/controls",
      "model_module_version": "1.5.0",
      "model_name": "ProgressStyleModel",
      "state": {
       "description_width": ""
      }
     },
     "0e832d5b1073447a93a35dbbc25452a9": {
      "model_module": "@jupyter-widgets/controls",
      "model_module_version": "1.5.0",
      "model_name": "HTMLModel",
      "state": {
       "layout": "IPY_MODEL_cf449d7c375b42a68781c498f0b294b8",
       "style": "IPY_MODEL_319fbeacb3a041579d900dde6bbe5325",
       "value": " 5/5 [00:16&lt;00:00,  3.19s/it]"
      }
     },
     "0eb9b6139c0b4998b69edcc34f82529f": {
      "model_module": "@jupyter-widgets/base",
      "model_module_version": "1.2.0",
      "model_name": "LayoutModel",
      "state": {}
     },
     "0f31f185918242cfb27b0ec7f6344a1c": {
      "model_module": "@jupyter-widgets/controls",
      "model_module_version": "1.5.0",
      "model_name": "DescriptionStyleModel",
      "state": {
       "description_width": ""
      }
     },
     "0f4f8632af0645e1973317bdf096deae": {
      "model_module": "@jupyter-widgets/controls",
      "model_module_version": "1.5.0",
      "model_name": "HTMLModel",
      "state": {
       "layout": "IPY_MODEL_e02f31866f334e69b9bf720299ff8fa0",
       "style": "IPY_MODEL_0ab0d6e5c6d347f0a264a1c851668a35",
       "value": " 5/5 [00:00&lt;00:00,  6.59it/s]"
      }
     },
     "1056d4cbe09242c98d2ce9ae695d0964": {
      "model_module": "@jupyter-widgets/controls",
      "model_module_version": "1.5.0",
      "model_name": "HTMLModel",
      "state": {
       "layout": "IPY_MODEL_e718c58b453747d1843ab85014e625ea",
       "style": "IPY_MODEL_aaeb38fab3b246979ccd65104207a4fb",
       "value": " 20%"
      }
     },
     "106e0025ba344343aabad68c5098d101": {
      "model_module": "@jupyter-widgets/controls",
      "model_module_version": "1.5.0",
      "model_name": "HBoxModel",
      "state": {
       "children": [
        "IPY_MODEL_a1eff9c94f7749e192420ce7c6a68d2b",
        "IPY_MODEL_7d324eddbc7b413285b60d35f41024fe",
        "IPY_MODEL_e7008dd2be7a460c8f308ccef3bb4c87"
       ],
       "layout": "IPY_MODEL_44862db18673403f8294e0667ca27c4b"
      }
     },
     "10c47ac5ef804502910e2b43b5698dbb": {
      "model_module": "@jupyter-widgets/base",
      "model_module_version": "1.2.0",
      "model_name": "LayoutModel",
      "state": {}
     },
     "10e1a904ca0a4ba49fb66ba452a710de": {
      "model_module": "@jupyter-widgets/controls",
      "model_module_version": "1.5.0",
      "model_name": "HTMLModel",
      "state": {
       "layout": "IPY_MODEL_be8d4bc0dea74ce4bf158178c6dd27ff",
       "style": "IPY_MODEL_c5eb2059d3b0482d974aecac2508429c",
       "value": "100%"
      }
     },
     "118c678b61de457690fcf9582de8ba23": {
      "model_module": "@jupyter-widgets/controls",
      "model_module_version": "1.5.0",
      "model_name": "HBoxModel",
      "state": {
       "children": [
        "IPY_MODEL_af7650bd0b1d4960b6a2468bdc859b67",
        "IPY_MODEL_240c955e955e488b893936ce167d3229",
        "IPY_MODEL_5b5d7916a7e4412ebfb4b23c812b62f3"
       ],
       "layout": "IPY_MODEL_d2570d5f7ff248e6b14ca47db1aaa580"
      }
     },
     "1217e723ec3c44f4bdd96810045e5a76": {
      "model_module": "@jupyter-widgets/controls",
      "model_module_version": "1.5.0",
      "model_name": "DescriptionStyleModel",
      "state": {
       "description_width": ""
      }
     },
     "13ba37f415844eeba943f485194ebab3": {
      "model_module": "@jupyter-widgets/controls",
      "model_module_version": "1.5.0",
      "model_name": "DescriptionStyleModel",
      "state": {
       "description_width": ""
      }
     },
     "13c349a57db541eab99a25d8b0236fbf": {
      "model_module": "@jupyter-widgets/controls",
      "model_module_version": "1.5.0",
      "model_name": "DescriptionStyleModel",
      "state": {
       "description_width": ""
      }
     },
     "14bf767da3084249bdb6e9f30169456a": {
      "model_module": "@jupyter-widgets/base",
      "model_module_version": "1.2.0",
      "model_name": "LayoutModel",
      "state": {}
     },
     "1579cfb1193b48dba6cdcdc4b9e9e57d": {
      "model_module": "@jupyter-widgets/controls",
      "model_module_version": "1.5.0",
      "model_name": "DescriptionStyleModel",
      "state": {
       "description_width": ""
      }
     },
     "16111eb72f924198bbd4b8a39cbda427": {
      "model_module": "@jupyter-widgets/controls",
      "model_module_version": "1.5.0",
      "model_name": "HTMLModel",
      "state": {
       "layout": "IPY_MODEL_6eee49747da94715a23e5d5d296640ab",
       "style": "IPY_MODEL_4e27d9e998a7423d89e7868c2582921d",
       "value": "100%"
      }
     },
     "1677651070a64e828cc1ace7d466c8de": {
      "model_module": "@jupyter-widgets/controls",
      "model_module_version": "1.5.0",
      "model_name": "DescriptionStyleModel",
      "state": {
       "description_width": ""
      }
     },
     "16c7ef27774744e49c51b732a1237b9c": {
      "model_module": "@jupyter-widgets/controls",
      "model_module_version": "1.5.0",
      "model_name": "DescriptionStyleModel",
      "state": {
       "description_width": ""
      }
     },
     "179a6f67a1fc4b8ebd6124f2e49ee120": {
      "model_module": "@jupyter-widgets/controls",
      "model_module_version": "1.5.0",
      "model_name": "FloatProgressModel",
      "state": {
       "bar_style": "success",
       "layout": "IPY_MODEL_56f634a6c58340b4b2eac5d49dda010d",
       "max": 5,
       "style": "IPY_MODEL_593aa0736ebf4a6689f666a0e2c37795",
       "value": 5
      }
     },
     "17dd699e69eb4602971eeee8f2c6b1f4": {
      "model_module": "@jupyter-widgets/base",
      "model_module_version": "1.2.0",
      "model_name": "LayoutModel",
      "state": {}
     },
     "17f562ccdfe04620ab8802cb6d039291": {
      "model_module": "@jupyter-widgets/controls",
      "model_module_version": "1.5.0",
      "model_name": "HTMLModel",
      "state": {
       "layout": "IPY_MODEL_bad2cdcf016940079e4518e9b66c6c24",
       "style": "IPY_MODEL_b6eaf5d256d745a2aea9fa7e19813d7c",
       "value": " 5/5 [00:04&lt;00:00,  1.18it/s]"
      }
     },
     "18234a9fbf6944d582b23293fd64ad1f": {
      "model_module": "@jupyter-widgets/controls",
      "model_module_version": "1.5.0",
      "model_name": "DescriptionStyleModel",
      "state": {
       "description_width": ""
      }
     },
     "182882d172964ac1a7f4f0ef3f18181b": {
      "model_module": "@jupyter-widgets/base",
      "model_module_version": "1.2.0",
      "model_name": "LayoutModel",
      "state": {}
     },
     "18f93a9bb9aa4b45bd163a40bd29510e": {
      "model_module": "@jupyter-widgets/controls",
      "model_module_version": "1.5.0",
      "model_name": "HTMLModel",
      "state": {
       "layout": "IPY_MODEL_3fd2f28987954100ac440519e38c63cd",
       "style": "IPY_MODEL_b380aad28bdb443a9dcc608ec5784182",
       "value": "100%"
      }
     },
     "192638a875cf4a449301f8e0a1ce43d2": {
      "model_module": "@jupyter-widgets/controls",
      "model_module_version": "1.5.0",
      "model_name": "ProgressStyleModel",
      "state": {
       "description_width": ""
      }
     },
     "1a24906f3fe54b97a91a12262e4909e5": {
      "model_module": "@jupyter-widgets/base",
      "model_module_version": "1.2.0",
      "model_name": "LayoutModel",
      "state": {}
     },
     "1a3f03f8245543fbb02b36dcf304d160": {
      "model_module": "@jupyter-widgets/base",
      "model_module_version": "1.2.0",
      "model_name": "LayoutModel",
      "state": {}
     },
     "1a41593b945840bb98d63eb6743ed637": {
      "model_module": "@jupyter-widgets/base",
      "model_module_version": "1.2.0",
      "model_name": "LayoutModel",
      "state": {}
     },
     "1a43b61e87a14ae39d4db1b2aab6b686": {
      "model_module": "@jupyter-widgets/controls",
      "model_module_version": "1.5.0",
      "model_name": "HTMLModel",
      "state": {
       "layout": "IPY_MODEL_a6ded8788c5741e4917e3a22830129e9",
       "style": "IPY_MODEL_09de475a064d4fe9b27ca98fe0e0c562",
       "value": "100%"
      }
     },
     "1a79786938ca4893b87ebbf3de88b867": {
      "model_module": "@jupyter-widgets/controls",
      "model_module_version": "1.5.0",
      "model_name": "HTMLModel",
      "state": {
       "layout": "IPY_MODEL_b33df1547f0d4ec89c67f309f73c3b43",
       "style": "IPY_MODEL_d10fdfc97def483d810fb0ee969c97c3",
       "value": "100%"
      }
     },
     "1aa215dd4a2d4249b0ee4e8fd1a6bd71": {
      "model_module": "@jupyter-widgets/base",
      "model_module_version": "1.2.0",
      "model_name": "LayoutModel",
      "state": {}
     },
     "1aa9560dda59475a8c2f750ee8ed927f": {
      "model_module": "@jupyter-widgets/controls",
      "model_module_version": "1.5.0",
      "model_name": "FloatProgressModel",
      "state": {
       "bar_style": "success",
       "layout": "IPY_MODEL_c4c1f5bace874f3a980b21a586b1b258",
       "max": 5,
       "style": "IPY_MODEL_eb3f97ff91dd44468f4f41ac07fcdda3",
       "value": 5
      }
     },
     "1b35682749d748b7954be6a98f63566b": {
      "model_module": "@jupyter-widgets/controls",
      "model_module_version": "1.5.0",
      "model_name": "HBoxModel",
      "state": {
       "children": [
        "IPY_MODEL_dc0e3a1635624be2a93187b50fef7672",
        "IPY_MODEL_83affa13183c4ba3b105f82707d9f69b",
        "IPY_MODEL_d53151f9ff7a4eccbb4790e742505fa1"
       ],
       "layout": "IPY_MODEL_90a29fded17743f7ae0ba6958d749a47"
      }
     },
     "1b659b9f7d094aa4a6261e5f3f36e5c8": {
      "model_module": "@jupyter-widgets/controls",
      "model_module_version": "1.5.0",
      "model_name": "DescriptionStyleModel",
      "state": {
       "description_width": ""
      }
     },
     "1c19beebbcfe44db9d2c90b6919463a8": {
      "model_module": "@jupyter-widgets/controls",
      "model_module_version": "1.5.0",
      "model_name": "HBoxModel",
      "state": {
       "children": [
        "IPY_MODEL_870acf355b3d4c70a77e720ad45aae32",
        "IPY_MODEL_b15d4bc7582b46c68b9568a843aa7555",
        "IPY_MODEL_8b3ca6bca6e8420b8537813735b747f7"
       ],
       "layout": "IPY_MODEL_8153090dfe9b424aa97265b78327070d"
      }
     },
     "1c1e3f18449040b89ae67d315d65c195": {
      "model_module": "@jupyter-widgets/controls",
      "model_module_version": "1.5.0",
      "model_name": "HTMLModel",
      "state": {
       "layout": "IPY_MODEL_6cb02cb41a4e452ebf35ec090afedfef",
       "style": "IPY_MODEL_c8194b85c5ac4060b197913109109429",
       "value": "100%"
      }
     },
     "1c3573d029254c90aaa9a22a642350b1": {
      "model_module": "@jupyter-widgets/controls",
      "model_module_version": "1.5.0",
      "model_name": "HTMLModel",
      "state": {
       "layout": "IPY_MODEL_77a5f0572a404b9899d73b2cc7483225",
       "style": "IPY_MODEL_0c370b1c45e644f5b6caba54efbcd794",
       "value": "100%"
      }
     },
     "1d0c840dd8e940069d2278fdffdac574": {
      "model_module": "@jupyter-widgets/base",
      "model_module_version": "1.2.0",
      "model_name": "LayoutModel",
      "state": {}
     },
     "1d2eaf33fa7a4ae9989f3b125a211fba": {
      "model_module": "@jupyter-widgets/base",
      "model_module_version": "1.2.0",
      "model_name": "LayoutModel",
      "state": {}
     },
     "1d3d7101007d42f896263d3855b7f101": {
      "model_module": "@jupyter-widgets/controls",
      "model_module_version": "1.5.0",
      "model_name": "HTMLModel",
      "state": {
       "layout": "IPY_MODEL_eaa8b4add0e646d4bd5951f422701d3e",
       "style": "IPY_MODEL_f9416bb0b29e496b9f839fe78948a79f",
       "value": "100%"
      }
     },
     "1d54380242354b16b54670812568cb2a": {
      "model_module": "@jupyter-widgets/controls",
      "model_module_version": "1.5.0",
      "model_name": "HTMLModel",
      "state": {
       "layout": "IPY_MODEL_c3a2dc18c4cd4f8999cbff794ba3b864",
       "style": "IPY_MODEL_5a9dd304122144b2871795306a4a834d",
       "value": " 5/5 [00:00&lt;00:00, 64.66it/s]"
      }
     },
     "1e0284fc440242fdb4eb505ab5d8f6d4": {
      "model_module": "@jupyter-widgets/controls",
      "model_module_version": "1.5.0",
      "model_name": "HBoxModel",
      "state": {
       "children": [
        "IPY_MODEL_ff1687154b3d402197a08ff338e9b51b",
        "IPY_MODEL_89dfcac8c85e41f482667dc31bc7dfe9",
        "IPY_MODEL_0a3d1e85e9e84383bb48430221d7cff8"
       ],
       "layout": "IPY_MODEL_3b0434edc2644ad78e74e7cfd3311f27"
      }
     },
     "1e1b8a1092964461940901f92e0bba1e": {
      "model_module": "@jupyter-widgets/controls",
      "model_module_version": "1.5.0",
      "model_name": "DescriptionStyleModel",
      "state": {
       "description_width": ""
      }
     },
     "1e469d8f522c4a5495dac300ec0cd84b": {
      "model_module": "@jupyter-widgets/controls",
      "model_module_version": "1.5.0",
      "model_name": "ProgressStyleModel",
      "state": {
       "description_width": ""
      }
     },
     "1ec7523af4b0494b8bd97b7d8d78e1f5": {
      "model_module": "@jupyter-widgets/controls",
      "model_module_version": "1.5.0",
      "model_name": "FloatProgressModel",
      "state": {
       "bar_style": "success",
       "layout": "IPY_MODEL_9aa8c83ba17446a59b1851cbc359df3c",
       "max": 5,
       "style": "IPY_MODEL_718ba24185cb47f6b3bf50a1a3eeabf2",
       "value": 5
      }
     },
     "1ed37527088c46e5929ddd4a773daa2f": {
      "model_module": "@jupyter-widgets/base",
      "model_module_version": "1.2.0",
      "model_name": "LayoutModel",
      "state": {}
     },
     "1ee76b54cb4b429c804d751258ac9943": {
      "model_module": "@jupyter-widgets/base",
      "model_module_version": "1.2.0",
      "model_name": "LayoutModel",
      "state": {}
     },
     "1f6c937ba69044ec885072a5940857b4": {
      "model_module": "@jupyter-widgets/controls",
      "model_module_version": "1.5.0",
      "model_name": "HTMLModel",
      "state": {
       "layout": "IPY_MODEL_3a34795727494a94a61975164f69c16a",
       "style": "IPY_MODEL_bbf4ff99f136421486447a94f78176ac",
       "value": "100%"
      }
     },
     "1f847fddb34e4761a40101c6fb3168b5": {
      "model_module": "@jupyter-widgets/controls",
      "model_module_version": "1.5.0",
      "model_name": "FloatProgressModel",
      "state": {
       "bar_style": "success",
       "layout": "IPY_MODEL_aeb1958c398c467ebf2230385e4ce8b0",
       "max": 5,
       "style": "IPY_MODEL_f2cfb9ea00be44bc866970c270614cc6",
       "value": 5
      }
     },
     "20218a9482dc4de8a99d0b54dabf60f3": {
      "model_module": "@jupyter-widgets/base",
      "model_module_version": "1.2.0",
      "model_name": "LayoutModel",
      "state": {}
     },
     "202a651d77c64e0cbe33fb2d580d973e": {
      "model_module": "@jupyter-widgets/controls",
      "model_module_version": "1.5.0",
      "model_name": "HTMLModel",
      "state": {
       "layout": "IPY_MODEL_77eb386761db4a64838b11c384ccee2d",
       "style": "IPY_MODEL_f8448f1c504141dfb670266f71028c5f",
       "value": " 5/5 [00:09&lt;00:00,  1.85s/it]"
      }
     },
     "20824d8c11684515a7450c64fed31e03": {
      "model_module": "@jupyter-widgets/controls",
      "model_module_version": "1.5.0",
      "model_name": "HTMLModel",
      "state": {
       "layout": "IPY_MODEL_8e0e48668c464419be3cd692ef3aafd2",
       "style": "IPY_MODEL_8bc3124c9e0a49bbbc9cc077b3c88538",
       "value": " 5/5 [00:00&lt;00:00, 14.41it/s]"
      }
     },
     "208e5e6ebb1d450f87f64d5d0fca12c7": {
      "model_module": "@jupyter-widgets/base",
      "model_module_version": "1.2.0",
      "model_name": "LayoutModel",
      "state": {}
     },
     "20c7d68df4414866b35246a12205af93": {
      "model_module": "@jupyter-widgets/controls",
      "model_module_version": "1.5.0",
      "model_name": "HTMLModel",
      "state": {
       "layout": "IPY_MODEL_ecf52acd15404b08bd28d0da6c18efc7",
       "style": "IPY_MODEL_830b3c22ab2042718511ee4c41739688",
       "value": "100%"
      }
     },
     "20ff1042ddd74d7c890eaccd01e19077": {
      "model_module": "@jupyter-widgets/controls",
      "model_module_version": "1.5.0",
      "model_name": "HTMLModel",
      "state": {
       "layout": "IPY_MODEL_44d4ec52454d4ad6a2f7afda6f515928",
       "style": "IPY_MODEL_8bbcf4d2d260482d9782a6a0c036d1a5",
       "value": "100%"
      }
     },
     "211815f67dee48a6b9cebd4e091a8947": {
      "model_module": "@jupyter-widgets/base",
      "model_module_version": "1.2.0",
      "model_name": "LayoutModel",
      "state": {}
     },
     "217a60a0d06b4178bd7368ed27aba26b": {
      "model_module": "@jupyter-widgets/controls",
      "model_module_version": "1.5.0",
      "model_name": "HTMLModel",
      "state": {
       "layout": "IPY_MODEL_23a364d9ef3e4a25abe6f7dd5bb2ce4d",
       "style": "IPY_MODEL_0f31f185918242cfb27b0ec7f6344a1c",
       "value": " 1/5 [00:03&lt;00:09,  2.36s/it]"
      }
     },
     "231bc794be6041d689b1070bb7650177": {
      "model_module": "@jupyter-widgets/base",
      "model_module_version": "1.2.0",
      "model_name": "LayoutModel",
      "state": {}
     },
     "233b5f6519db46dbb5804068b48b4ffd": {
      "model_module": "@jupyter-widgets/base",
      "model_module_version": "1.2.0",
      "model_name": "LayoutModel",
      "state": {}
     },
     "23a364d9ef3e4a25abe6f7dd5bb2ce4d": {
      "model_module": "@jupyter-widgets/base",
      "model_module_version": "1.2.0",
      "model_name": "LayoutModel",
      "state": {}
     },
     "23ecda9445bd4cb697e996213726016c": {
      "model_module": "@jupyter-widgets/base",
      "model_module_version": "1.2.0",
      "model_name": "LayoutModel",
      "state": {}
     },
     "240c955e955e488b893936ce167d3229": {
      "model_module": "@jupyter-widgets/controls",
      "model_module_version": "1.5.0",
      "model_name": "FloatProgressModel",
      "state": {
       "bar_style": "success",
       "layout": "IPY_MODEL_940d3361bf44497da21eb912b8ccb2e8",
       "max": 5,
       "style": "IPY_MODEL_aa09ed3bcdd149be932b322a62411839",
       "value": 5
      }
     },
     "24375dcc6c05453bbf260f2b82c63612": {
      "model_module": "@jupyter-widgets/controls",
      "model_module_version": "1.5.0",
      "model_name": "DescriptionStyleModel",
      "state": {
       "description_width": ""
      }
     },
     "24793cf877b44b22b56e9481fad05d34": {
      "model_module": "@jupyter-widgets/controls",
      "model_module_version": "1.5.0",
      "model_name": "DescriptionStyleModel",
      "state": {
       "description_width": ""
      }
     },
     "2637f7bb378e47df8e8972d9320289a7": {
      "model_module": "@jupyter-widgets/controls",
      "model_module_version": "1.5.0",
      "model_name": "FloatProgressModel",
      "state": {
       "bar_style": "success",
       "layout": "IPY_MODEL_1a41593b945840bb98d63eb6743ed637",
       "max": 5,
       "style": "IPY_MODEL_e31a44f5d1cf48a4869ebea80364caea",
       "value": 5
      }
     },
     "26e7c338c9684bd1a91667eeed0bbada": {
      "model_module": "@jupyter-widgets/base",
      "model_module_version": "1.2.0",
      "model_name": "LayoutModel",
      "state": {}
     },
     "270dd163b2834674b876b6f14f71ba96": {
      "model_module": "@jupyter-widgets/controls",
      "model_module_version": "1.5.0",
      "model_name": "DescriptionStyleModel",
      "state": {
       "description_width": ""
      }
     },
     "2716b228de654683a86e300db6ae2a11": {
      "model_module": "@jupyter-widgets/controls",
      "model_module_version": "1.5.0",
      "model_name": "HBoxModel",
      "state": {
       "children": [
        "IPY_MODEL_5798816e5e32427b9316b665a9940687",
        "IPY_MODEL_3984eb6bf58c40e9900b02d09441d044",
        "IPY_MODEL_4e0f160fcca94f7c93c26f2964b2f198"
       ],
       "layout": "IPY_MODEL_091eb422bcbf4b31be24a84d5ad4f7c8"
      }
     },
     "274b91640cfb4049a8b79939d5f7002f": {
      "model_module": "@jupyter-widgets/controls",
      "model_module_version": "1.5.0",
      "model_name": "HTMLModel",
      "state": {
       "layout": "IPY_MODEL_3449ca61dc34482f8d01a65c268fdaab",
       "style": "IPY_MODEL_1b659b9f7d094aa4a6261e5f3f36e5c8",
       "value": "100%"
      }
     },
     "276f80f179fb4a2988b3ca3ed20b3866": {
      "model_module": "@jupyter-widgets/controls",
      "model_module_version": "1.5.0",
      "model_name": "HTMLModel",
      "state": {
       "layout": "IPY_MODEL_be7acd8e733e4d7a9f0469ef4e5064d4",
       "style": "IPY_MODEL_fa3f9418ddfd447c8e043be85aae28aa",
       "value": " 5/5 [00:00&lt;00:00, 41.98it/s]"
      }
     },
     "27880852d91d44918e3978185f97b366": {
      "model_module": "@jupyter-widgets/controls",
      "model_module_version": "1.5.0",
      "model_name": "DescriptionStyleModel",
      "state": {
       "description_width": ""
      }
     },
     "27f8a0a62447420aa7160270d9b77157": {
      "model_module": "@jupyter-widgets/controls",
      "model_module_version": "1.5.0",
      "model_name": "ProgressStyleModel",
      "state": {
       "description_width": ""
      }
     },
     "28418678e9fe4a5db9f0440da850be65": {
      "model_module": "@jupyter-widgets/controls",
      "model_module_version": "1.5.0",
      "model_name": "FloatProgressModel",
      "state": {
       "bar_style": "success",
       "layout": "IPY_MODEL_0bda6c6a795345f7ace32f93a6a85e95",
       "max": 5,
       "style": "IPY_MODEL_509069e8a29a4694b92125b77ea1642f",
       "value": 5
      }
     },
     "2873e1fbdcf544ae96e2993f7b9f8a07": {
      "model_module": "@jupyter-widgets/base",
      "model_module_version": "1.2.0",
      "model_name": "LayoutModel",
      "state": {}
     },
     "28bb733802a44876b03623055a673386": {
      "model_module": "@jupyter-widgets/base",
      "model_module_version": "1.2.0",
      "model_name": "LayoutModel",
      "state": {}
     },
     "295d3bfaf7c84dddaba350e4f23af4ee": {
      "model_module": "@jupyter-widgets/controls",
      "model_module_version": "1.5.0",
      "model_name": "ProgressStyleModel",
      "state": {
       "description_width": ""
      }
     },
     "2ac4b591094943768291f5ed18923f04": {
      "model_module": "@jupyter-widgets/controls",
      "model_module_version": "1.5.0",
      "model_name": "ProgressStyleModel",
      "state": {
       "description_width": ""
      }
     },
     "2b55dd4fb6a24a55966d493fc6fb790c": {
      "model_module": "@jupyter-widgets/controls",
      "model_module_version": "1.5.0",
      "model_name": "DescriptionStyleModel",
      "state": {
       "description_width": ""
      }
     },
     "2b7b934a54b8426dbf450ecc073897e8": {
      "model_module": "@jupyter-widgets/base",
      "model_module_version": "1.2.0",
      "model_name": "LayoutModel",
      "state": {}
     },
     "2bc007e9544b4586955168f564d886b8": {
      "model_module": "@jupyter-widgets/base",
      "model_module_version": "1.2.0",
      "model_name": "LayoutModel",
      "state": {}
     },
     "2bd2b0ff571343f784af5e0e67df310d": {
      "model_module": "@jupyter-widgets/base",
      "model_module_version": "1.2.0",
      "model_name": "LayoutModel",
      "state": {}
     },
     "2ca23141bcaf4a278a24b06b3f6801f9": {
      "model_module": "@jupyter-widgets/controls",
      "model_module_version": "1.5.0",
      "model_name": "ProgressStyleModel",
      "state": {
       "description_width": ""
      }
     },
     "2cadfdaf4b2343b9a4dc0b28093fc55e": {
      "model_module": "@jupyter-widgets/base",
      "model_module_version": "1.2.0",
      "model_name": "LayoutModel",
      "state": {}
     },
     "2cc4540219314dc9a3337442f493ee5e": {
      "model_module": "@jupyter-widgets/controls",
      "model_module_version": "1.5.0",
      "model_name": "DescriptionStyleModel",
      "state": {
       "description_width": ""
      }
     },
     "2d247ed1e2d440578886a97b3889f942": {
      "model_module": "@jupyter-widgets/base",
      "model_module_version": "1.2.0",
      "model_name": "LayoutModel",
      "state": {}
     },
     "2d603d96116846f9b205a857252bf1de": {
      "model_module": "@jupyter-widgets/base",
      "model_module_version": "1.2.0",
      "model_name": "LayoutModel",
      "state": {}
     },
     "2e1fe1c522824843b68d369f26909b59": {
      "model_module": "@jupyter-widgets/controls",
      "model_module_version": "1.5.0",
      "model_name": "ProgressStyleModel",
      "state": {
       "description_width": ""
      }
     },
     "2e35e1fe91234a2abd7ef6d1b4b7cecc": {
      "model_module": "@jupyter-widgets/controls",
      "model_module_version": "1.5.0",
      "model_name": "HBoxModel",
      "state": {
       "children": [
        "IPY_MODEL_474a4e2c74ef419fb603bdd89e296933",
        "IPY_MODEL_ca87a7e30ab441afa953c0b46c39f8fd",
        "IPY_MODEL_6fc1ab35fa2e4035a84a0cb63f1cf4b1"
       ],
       "layout": "IPY_MODEL_f3a220a34cfc498886cea2147589fdb8"
      }
     },
     "2e93ae7e9b5a49ff829826b6ced265d8": {
      "model_module": "@jupyter-widgets/base",
      "model_module_version": "1.2.0",
      "model_name": "LayoutModel",
      "state": {}
     },
     "2f3b2024b705417a881658a397d44335": {
      "model_module": "@jupyter-widgets/base",
      "model_module_version": "1.2.0",
      "model_name": "LayoutModel",
      "state": {}
     },
     "2f686953881d4d41becf3ad82bcc0eca": {
      "model_module": "@jupyter-widgets/controls",
      "model_module_version": "1.5.0",
      "model_name": "DescriptionStyleModel",
      "state": {
       "description_width": ""
      }
     },
     "2f873c6e2e4947f5b25d0a46b5600c27": {
      "model_module": "@jupyter-widgets/controls",
      "model_module_version": "1.5.0",
      "model_name": "HTMLModel",
      "state": {
       "layout": "IPY_MODEL_d02f8ca6b1854efaab14066b6335caed",
       "style": "IPY_MODEL_2cc4540219314dc9a3337442f493ee5e",
       "value": " 5/5 [00:00&lt;00:00, 56.96it/s]"
      }
     },
     "2faa206639ad4e92af634f9684902652": {
      "model_module": "@jupyter-widgets/controls",
      "model_module_version": "1.5.0",
      "model_name": "HTMLModel",
      "state": {
       "layout": "IPY_MODEL_6084d93b6b9f444dbf61a71bb595ad56",
       "style": "IPY_MODEL_13c349a57db541eab99a25d8b0236fbf",
       "value": " 5/5 [00:08&lt;00:00,  1.63s/it]"
      }
     },
     "2fbd246621b7430fbc64b3807959ed4a": {
      "model_module": "@jupyter-widgets/base",
      "model_module_version": "1.2.0",
      "model_name": "LayoutModel",
      "state": {}
     },
     "31669b91dad04595b2db3337d09b9f62": {
      "model_module": "@jupyter-widgets/controls",
      "model_module_version": "1.5.0",
      "model_name": "FloatProgressModel",
      "state": {
       "bar_style": "success",
       "layout": "IPY_MODEL_79a4c67219ad46a58e6bc7e1829f951f",
       "max": 5,
       "style": "IPY_MODEL_31fcfd17995941d5a8afa2b47a6745c9",
       "value": 5
      }
     },
     "319fbeacb3a041579d900dde6bbe5325": {
      "model_module": "@jupyter-widgets/controls",
      "model_module_version": "1.5.0",
      "model_name": "DescriptionStyleModel",
      "state": {
       "description_width": ""
      }
     },
     "31d267aaf3724dd290a4e0b10cfdc454": {
      "model_module": "@jupyter-widgets/controls",
      "model_module_version": "1.5.0",
      "model_name": "DescriptionStyleModel",
      "state": {
       "description_width": ""
      }
     },
     "31fcfd17995941d5a8afa2b47a6745c9": {
      "model_module": "@jupyter-widgets/controls",
      "model_module_version": "1.5.0",
      "model_name": "ProgressStyleModel",
      "state": {
       "description_width": ""
      }
     },
     "3212d05036a1474c841e62a0fdba3e00": {
      "model_module": "@jupyter-widgets/base",
      "model_module_version": "1.2.0",
      "model_name": "LayoutModel",
      "state": {}
     },
     "326f0122bb144cd6927f88502402728b": {
      "model_module": "@jupyter-widgets/controls",
      "model_module_version": "1.5.0",
      "model_name": "HTMLModel",
      "state": {
       "layout": "IPY_MODEL_dcced0231199424982927ea07479467b",
       "style": "IPY_MODEL_900f33aed32f486095b8542eb31ebd37",
       "value": "100%"
      }
     },
     "32e7437064d34d7fbad2d5065391ce1e": {
      "model_module": "@jupyter-widgets/controls",
      "model_module_version": "1.5.0",
      "model_name": "HBoxModel",
      "state": {
       "children": [
        "IPY_MODEL_b07df9db512b4ec494c55a20d17346aa",
        "IPY_MODEL_49d861f1fbb44ee79296d9e7c8e65906",
        "IPY_MODEL_e59b0b5d3315447e96caf5c7dbbaf590"
       ],
       "layout": "IPY_MODEL_28bb733802a44876b03623055a673386"
      }
     },
     "337e9870963048a18efe9b8cfa0a67a8": {
      "model_module": "@jupyter-widgets/controls",
      "model_module_version": "1.5.0",
      "model_name": "ProgressStyleModel",
      "state": {
       "description_width": ""
      }
     },
     "33b842df9c1a40eb8f85f3bec6d66386": {
      "model_module": "@jupyter-widgets/controls",
      "model_module_version": "1.5.0",
      "model_name": "DescriptionStyleModel",
      "state": {
       "description_width": ""
      }
     },
     "34431084b86645c5a34828576b635660": {
      "model_module": "@jupyter-widgets/controls",
      "model_module_version": "1.5.0",
      "model_name": "HBoxModel",
      "state": {
       "children": [
        "IPY_MODEL_80ec7e7dd0614b7db364084fcdd62afd",
        "IPY_MODEL_c5127a27543142aca7ad7d655226e9d1",
        "IPY_MODEL_a42e0276bb3342efa1fe98bf2d5e0dc4"
       ],
       "layout": "IPY_MODEL_fbf5c64a433b4a72bd27c331fb1d900d"
      }
     },
     "3449ca61dc34482f8d01a65c268fdaab": {
      "model_module": "@jupyter-widgets/base",
      "model_module_version": "1.2.0",
      "model_name": "LayoutModel",
      "state": {}
     },
     "348f89d5fa7e4f0e9a8e7c19817d7e1e": {
      "model_module": "@jupyter-widgets/controls",
      "model_module_version": "1.5.0",
      "model_name": "HBoxModel",
      "state": {
       "children": [
        "IPY_MODEL_4f7e481f1954441fa79b5e029a23d162",
        "IPY_MODEL_4a4380e245a840ba9285ffb7af7a1e5d",
        "IPY_MODEL_276f80f179fb4a2988b3ca3ed20b3866"
       ],
       "layout": "IPY_MODEL_c061d1bf6e444a208f4316c9a6b3a42b"
      }
     },
     "35498775cf7b403691be656e5d6e5c7b": {
      "model_module": "@jupyter-widgets/controls",
      "model_module_version": "1.5.0",
      "model_name": "HTMLModel",
      "state": {
       "layout": "IPY_MODEL_51e61893028d4a27b352a61e273143fd",
       "style": "IPY_MODEL_e4d55488b679407886d4c401a07c0b5a",
       "value": " 5/5 [00:23&lt;00:00,  4.39s/it]"
      }
     },
     "359de4cf17d144918ed7142d362114e7": {
      "model_module": "@jupyter-widgets/controls",
      "model_module_version": "1.5.0",
      "model_name": "DescriptionStyleModel",
      "state": {
       "description_width": ""
      }
     },
     "36509cb2274641338c2131ac19a83dba": {
      "model_module": "@jupyter-widgets/controls",
      "model_module_version": "1.5.0",
      "model_name": "HBoxModel",
      "state": {
       "children": [
        "IPY_MODEL_20c7d68df4414866b35246a12205af93",
        "IPY_MODEL_1ec7523af4b0494b8bd97b7d8d78e1f5",
        "IPY_MODEL_8657fbee038449aaad7d8ff607e5ab73"
       ],
       "layout": "IPY_MODEL_9b0d6025fdf241b494835c579a8145ad"
      }
     },
     "3659f61d6989428dac15b710c8a28ac8": {
      "model_module": "@jupyter-widgets/base",
      "model_module_version": "1.2.0",
      "model_name": "LayoutModel",
      "state": {}
     },
     "369bcb6b63e74da3826d7bdf103d0064": {
      "model_module": "@jupyter-widgets/controls",
      "model_module_version": "1.5.0",
      "model_name": "DescriptionStyleModel",
      "state": {
       "description_width": ""
      }
     },
     "36cdb3cf691c4dd1bc4acd4da31a2587": {
      "model_module": "@jupyter-widgets/controls",
      "model_module_version": "1.5.0",
      "model_name": "FloatProgressModel",
      "state": {
       "bar_style": "success",
       "layout": "IPY_MODEL_b713a66143ec49feb9663b2510e26ebb",
       "max": 5,
       "style": "IPY_MODEL_59212dcb8454437298e92c7b7b6f9c3c",
       "value": 5
      }
     },
     "3756afb04bdc43eeaaf2a11705c89471": {
      "model_module": "@jupyter-widgets/controls",
      "model_module_version": "1.5.0",
      "model_name": "DescriptionStyleModel",
      "state": {
       "description_width": ""
      }
     },
     "37b64538404f44b59809a50f3f39ed92": {
      "model_module": "@jupyter-widgets/base",
      "model_module_version": "1.2.0",
      "model_name": "LayoutModel",
      "state": {}
     },
     "3814a7b0c8d64ebc85950af0b9363b68": {
      "model_module": "@jupyter-widgets/base",
      "model_module_version": "1.2.0",
      "model_name": "LayoutModel",
      "state": {}
     },
     "38af8c517cb344acbe46cc66ab3506b8": {
      "model_module": "@jupyter-widgets/base",
      "model_module_version": "1.2.0",
      "model_name": "LayoutModel",
      "state": {}
     },
     "39201cce5f6143b49bbdbecd3325067e": {
      "model_module": "@jupyter-widgets/controls",
      "model_module_version": "1.5.0",
      "model_name": "HBoxModel",
      "state": {
       "children": [
        "IPY_MODEL_8130c51a86f84b32a484504bb95b9aef",
        "IPY_MODEL_79a0221d14d8476e9ffe1f243e5b84af",
        "IPY_MODEL_3cdccaaacaa4460a8cd683912d4667c0"
       ],
       "layout": "IPY_MODEL_669fbfdee1634b349457047387dd5224"
      }
     },
     "394866abaa5f4d4989dade8c705a822c": {
      "model_module": "@jupyter-widgets/controls",
      "model_module_version": "1.5.0",
      "model_name": "HTMLModel",
      "state": {
       "layout": "IPY_MODEL_e595734de57248d69a92eef29398dd85",
       "style": "IPY_MODEL_60e42a83488f4ac2aefcba7091f82089",
       "value": "100%"
      }
     },
     "3981d48f403446e98de852bc4b17d44c": {
      "model_module": "@jupyter-widgets/controls",
      "model_module_version": "1.5.0",
      "model_name": "DescriptionStyleModel",
      "state": {
       "description_width": ""
      }
     },
     "3984eb6bf58c40e9900b02d09441d044": {
      "model_module": "@jupyter-widgets/controls",
      "model_module_version": "1.5.0",
      "model_name": "FloatProgressModel",
      "state": {
       "bar_style": "success",
       "layout": "IPY_MODEL_f40562f007094344a4e9f1102ee88028",
       "max": 5,
       "style": "IPY_MODEL_6b327eb9684f44d1b7c3558ac09ac44c",
       "value": 5
      }
     },
     "3a10c0211113454e8c586698d3bb4e20": {
      "model_module": "@jupyter-widgets/controls",
      "model_module_version": "1.5.0",
      "model_name": "HBoxModel",
      "state": {
       "children": [
        "IPY_MODEL_49724718b592464b9073879a99ba4381",
        "IPY_MODEL_557bdc5c14d247ecb9bd2b449efb2582",
        "IPY_MODEL_efaf7f24a5be493bb25f055f6f2a02d0"
       ],
       "layout": "IPY_MODEL_adda2a06f09645a580beb7f7b2a50529"
      }
     },
     "3a27d14bff02466497bf68e1de331a1c": {
      "model_module": "@jupyter-widgets/controls",
      "model_module_version": "1.5.0",
      "model_name": "HBoxModel",
      "state": {
       "children": [
        "IPY_MODEL_5a3bdd3c82244a33a91ad44f388bebd8",
        "IPY_MODEL_da890a69958941e599b24236abf259f3",
        "IPY_MODEL_bbbed413937e42f193e89ff8979f5028"
       ],
       "layout": "IPY_MODEL_c499764de0254b9aa37926b403e9e518"
      }
     },
     "3a34795727494a94a61975164f69c16a": {
      "model_module": "@jupyter-widgets/base",
      "model_module_version": "1.2.0",
      "model_name": "LayoutModel",
      "state": {}
     },
     "3a4a54cc5cf54ca0a30f53995d53d277": {
      "model_module": "@jupyter-widgets/controls",
      "model_module_version": "1.5.0",
      "model_name": "DescriptionStyleModel",
      "state": {
       "description_width": ""
      }
     },
     "3a5cbb93975a40848f80cbfc8888b93d": {
      "model_module": "@jupyter-widgets/controls",
      "model_module_version": "1.5.0",
      "model_name": "DescriptionStyleModel",
      "state": {
       "description_width": ""
      }
     },
     "3ac216379ee148ecac44ed1a97bf81d0": {
      "model_module": "@jupyter-widgets/controls",
      "model_module_version": "1.5.0",
      "model_name": "HTMLModel",
      "state": {
       "layout": "IPY_MODEL_e33b492304544b73857915a39e259fd5",
       "style": "IPY_MODEL_fb68c51a87814637ab22211d6901c052",
       "value": "100%"
      }
     },
     "3b0434edc2644ad78e74e7cfd3311f27": {
      "model_module": "@jupyter-widgets/base",
      "model_module_version": "1.2.0",
      "model_name": "LayoutModel",
      "state": {}
     },
     "3ba07aa24cf4412d89af38bbcf0baeda": {
      "model_module": "@jupyter-widgets/controls",
      "model_module_version": "1.5.0",
      "model_name": "ProgressStyleModel",
      "state": {
       "description_width": ""
      }
     },
     "3cdccaaacaa4460a8cd683912d4667c0": {
      "model_module": "@jupyter-widgets/controls",
      "model_module_version": "1.5.0",
      "model_name": "HTMLModel",
      "state": {
       "layout": "IPY_MODEL_4f40b24d34eb40c78b1197fd936738b3",
       "style": "IPY_MODEL_e69bbf6c00844feb8a8456366ac51d00",
       "value": " 5/5 [00:09&lt;00:00,  1.92s/it]"
      }
     },
     "3d27912da5bf49418aa39d00a2cc7786": {
      "model_module": "@jupyter-widgets/controls",
      "model_module_version": "1.5.0",
      "model_name": "DescriptionStyleModel",
      "state": {
       "description_width": ""
      }
     },
     "3d9c9d2fb05b48d180c89a4f6b9b7732": {
      "model_module": "@jupyter-widgets/controls",
      "model_module_version": "1.5.0",
      "model_name": "FloatProgressModel",
      "state": {
       "bar_style": "success",
       "layout": "IPY_MODEL_ac7beab483674991b67311de5911854f",
       "max": 5,
       "style": "IPY_MODEL_e7a33dd4660b4b13b97112008ea549ff",
       "value": 5
      }
     },
     "3e40a2864acc4eb7b989b728691a1f30": {
      "model_module": "@jupyter-widgets/base",
      "model_module_version": "1.2.0",
      "model_name": "LayoutModel",
      "state": {}
     },
     "3e955360bd484e5289e48659a29f4a32": {
      "model_module": "@jupyter-widgets/controls",
      "model_module_version": "1.5.0",
      "model_name": "DescriptionStyleModel",
      "state": {
       "description_width": ""
      }
     },
     "3eaca9f7deec4d75ae5f25186c98fcce": {
      "model_module": "@jupyter-widgets/base",
      "model_module_version": "1.2.0",
      "model_name": "LayoutModel",
      "state": {}
     },
     "3ed559af07064d4f969b337c5f07adfb": {
      "model_module": "@jupyter-widgets/controls",
      "model_module_version": "1.5.0",
      "model_name": "DescriptionStyleModel",
      "state": {
       "description_width": ""
      }
     },
     "3f97cfb27c584bfbb020875d6d0eac98": {
      "model_module": "@jupyter-widgets/controls",
      "model_module_version": "1.5.0",
      "model_name": "HBoxModel",
      "state": {
       "children": [
        "IPY_MODEL_1f6c937ba69044ec885072a5940857b4",
        "IPY_MODEL_8249902c359c4d49b1c7a936fa8d2e98",
        "IPY_MODEL_b718ceaac2cf4bfe837221586ba834a7"
       ],
       "layout": "IPY_MODEL_ae7144e2a95e48cdab5313b6bff71a50"
      }
     },
     "3f9b9727b6604ee2890075c5f37d649b": {
      "model_module": "@jupyter-widgets/base",
      "model_module_version": "1.2.0",
      "model_name": "LayoutModel",
      "state": {}
     },
     "3fd2f28987954100ac440519e38c63cd": {
      "model_module": "@jupyter-widgets/base",
      "model_module_version": "1.2.0",
      "model_name": "LayoutModel",
      "state": {}
     },
     "40621ed0e4fe452abbca83995e48a9ea": {
      "model_module": "@jupyter-widgets/base",
      "model_module_version": "1.2.0",
      "model_name": "LayoutModel",
      "state": {}
     },
     "427aa60440f645b395fed2f9f11fb2c8": {
      "model_module": "@jupyter-widgets/controls",
      "model_module_version": "1.5.0",
      "model_name": "HTMLModel",
      "state": {
       "layout": "IPY_MODEL_5f0eb1d436bf4fe4ae448688d542a2ac",
       "style": "IPY_MODEL_938b9fd976c140719472aa85d925f312",
       "value": "100%"
      }
     },
     "4299e49fdae048a19fca7b792160ce67": {
      "model_module": "@jupyter-widgets/controls",
      "model_module_version": "1.5.0",
      "model_name": "FloatProgressModel",
      "state": {
       "bar_style": "success",
       "layout": "IPY_MODEL_e85807c8a7d7463883f8dc0166922b9a",
       "max": 5,
       "style": "IPY_MODEL_a8d56526a1534456ad4637163d860bb8",
       "value": 5
      }
     },
     "42b363fbe64f496991e465ed445c2dc9": {
      "model_module": "@jupyter-widgets/base",
      "model_module_version": "1.2.0",
      "model_name": "LayoutModel",
      "state": {}
     },
     "4358190d777d4266a9275262771463e1": {
      "model_module": "@jupyter-widgets/controls",
      "model_module_version": "1.5.0",
      "model_name": "DescriptionStyleModel",
      "state": {
       "description_width": ""
      }
     },
     "4373f1b1a72f4ee08233bf73a9de4aca": {
      "model_module": "@jupyter-widgets/base",
      "model_module_version": "1.2.0",
      "model_name": "LayoutModel",
      "state": {}
     },
     "43d12e5943214041a326950bbe850b66": {
      "model_module": "@jupyter-widgets/controls",
      "model_module_version": "1.5.0",
      "model_name": "FloatProgressModel",
      "state": {
       "bar_style": "success",
       "layout": "IPY_MODEL_d325b2814eb545999266bf0b029fc654",
       "max": 5,
       "style": "IPY_MODEL_6bd56de2b0304d908c7060fdfafea855",
       "value": 5
      }
     },
     "44862db18673403f8294e0667ca27c4b": {
      "model_module": "@jupyter-widgets/base",
      "model_module_version": "1.2.0",
      "model_name": "LayoutModel",
      "state": {}
     },
     "44b159fad761438486f4c63592fcf29b": {
      "model_module": "@jupyter-widgets/base",
      "model_module_version": "1.2.0",
      "model_name": "LayoutModel",
      "state": {}
     },
     "44d4ec52454d4ad6a2f7afda6f515928": {
      "model_module": "@jupyter-widgets/base",
      "model_module_version": "1.2.0",
      "model_name": "LayoutModel",
      "state": {}
     },
     "454baa6f28f640c9938dde5a89268193": {
      "model_module": "@jupyter-widgets/base",
      "model_module_version": "1.2.0",
      "model_name": "LayoutModel",
      "state": {}
     },
     "45683d8f3bff41ff8185bc00e95fc66e": {
      "model_module": "@jupyter-widgets/base",
      "model_module_version": "1.2.0",
      "model_name": "LayoutModel",
      "state": {}
     },
     "45d0799850364ae78158b320f3b8c80c": {
      "model_module": "@jupyter-widgets/controls",
      "model_module_version": "1.5.0",
      "model_name": "ProgressStyleModel",
      "state": {
       "description_width": ""
      }
     },
     "4658e786c1314e698d1b656973d53db4": {
      "model_module": "@jupyter-widgets/controls",
      "model_module_version": "1.5.0",
      "model_name": "DescriptionStyleModel",
      "state": {
       "description_width": ""
      }
     },
     "471dd68d41c141eba73e7d2176f118c8": {
      "model_module": "@jupyter-widgets/controls",
      "model_module_version": "1.5.0",
      "model_name": "ProgressStyleModel",
      "state": {
       "description_width": ""
      }
     },
     "474a4e2c74ef419fb603bdd89e296933": {
      "model_module": "@jupyter-widgets/controls",
      "model_module_version": "1.5.0",
      "model_name": "HTMLModel",
      "state": {
       "layout": "IPY_MODEL_5dcdb19684bc438485b9a91450ce6fe4",
       "style": "IPY_MODEL_05e630a826cf49be94ed5a2ef483f66b",
       "value": "100%"
      }
     },
     "47fc61072b3947b19505a3286fc2ed15": {
      "model_module": "@jupyter-widgets/controls",
      "model_module_version": "1.5.0",
      "model_name": "HTMLModel",
      "state": {
       "layout": "IPY_MODEL_b2ccb4e66caf459b8509ed901dafb177",
       "style": "IPY_MODEL_e8236fe925c5427fa3f7add1788a54a0",
       "value": " 5/5 [00:00&lt;00:00, 18.34it/s]"
      }
     },
     "4813baecd70248d1bc958f5c73f47df3": {
      "model_module": "@jupyter-widgets/controls",
      "model_module_version": "1.5.0",
      "model_name": "ProgressStyleModel",
      "state": {
       "description_width": ""
      }
     },
     "49002eacb32044a3902eed2c16d7c3b6": {
      "model_module": "@jupyter-widgets/controls",
      "model_module_version": "1.5.0",
      "model_name": "ProgressStyleModel",
      "state": {
       "description_width": ""
      }
     },
     "49385149184d47f59d9308e3394ae3b7": {
      "model_module": "@jupyter-widgets/controls",
      "model_module_version": "1.5.0",
      "model_name": "DescriptionStyleModel",
      "state": {
       "description_width": ""
      }
     },
     "49724718b592464b9073879a99ba4381": {
      "model_module": "@jupyter-widgets/controls",
      "model_module_version": "1.5.0",
      "model_name": "HTMLModel",
      "state": {
       "layout": "IPY_MODEL_e85c285a28e44d13a87350b86abbb619",
       "style": "IPY_MODEL_6dee5cc0e09d46be91f60c5da0f36082",
       "value": "100%"
      }
     },
     "497fc6af4d5445da916f9de8fb00265c": {
      "model_module": "@jupyter-widgets/controls",
      "model_module_version": "1.5.0",
      "model_name": "HBoxModel",
      "state": {
       "children": [
        "IPY_MODEL_b347f874e4eb40ddbe5ccd3527bc0899",
        "IPY_MODEL_a0663be579a643b2bdbdcd98ea08a7a4",
        "IPY_MODEL_a2bd217bd1914596aa47388928cd829c"
       ],
       "layout": "IPY_MODEL_4373f1b1a72f4ee08233bf73a9de4aca"
      }
     },
     "49d861f1fbb44ee79296d9e7c8e65906": {
      "model_module": "@jupyter-widgets/controls",
      "model_module_version": "1.5.0",
      "model_name": "FloatProgressModel",
      "state": {
       "bar_style": "success",
       "layout": "IPY_MODEL_0eb9b6139c0b4998b69edcc34f82529f",
       "max": 5,
       "style": "IPY_MODEL_4813baecd70248d1bc958f5c73f47df3",
       "value": 5
      }
     },
     "4a0f6e2e33844395933a61b2a7ba7420": {
      "model_module": "@jupyter-widgets/controls",
      "model_module_version": "1.5.0",
      "model_name": "HTMLModel",
      "state": {
       "layout": "IPY_MODEL_c966220142b6433ebfbc4642fa350503",
       "style": "IPY_MODEL_f14bf27aeca0413a89d681066096af74",
       "value": " 5/5 [00:12&lt;00:00,  2.41s/it]"
      }
     },
     "4a4380e245a840ba9285ffb7af7a1e5d": {
      "model_module": "@jupyter-widgets/controls",
      "model_module_version": "1.5.0",
      "model_name": "FloatProgressModel",
      "state": {
       "bar_style": "success",
       "layout": "IPY_MODEL_f6452de5c8f14695b2d29e285d83071d",
       "max": 5,
       "style": "IPY_MODEL_45d0799850364ae78158b320f3b8c80c",
       "value": 5
      }
     },
     "4a62767afda545b78baf5a36f81883ec": {
      "model_module": "@jupyter-widgets/base",
      "model_module_version": "1.2.0",
      "model_name": "LayoutModel",
      "state": {}
     },
     "4adee06548354b73a5bc8be82c05a48b": {
      "model_module": "@jupyter-widgets/base",
      "model_module_version": "1.2.0",
      "model_name": "LayoutModel",
      "state": {}
     },
     "4afc09a79cf340ad8a957785016a3f14": {
      "model_module": "@jupyter-widgets/controls",
      "model_module_version": "1.5.0",
      "model_name": "DescriptionStyleModel",
      "state": {
       "description_width": ""
      }
     },
     "4b46abbf35a34531b7361ec507dfed08": {
      "model_module": "@jupyter-widgets/base",
      "model_module_version": "1.2.0",
      "model_name": "LayoutModel",
      "state": {}
     },
     "4bd216f18ee244bbbef08366e834ee71": {
      "model_module": "@jupyter-widgets/controls",
      "model_module_version": "1.5.0",
      "model_name": "HTMLModel",
      "state": {
       "layout": "IPY_MODEL_5ef4b75b23264fc395674e3f0fde8ebe",
       "style": "IPY_MODEL_1677651070a64e828cc1ace7d466c8de",
       "value": "100%"
      }
     },
     "4cddf159507a49d7930a5599f8cf4ee4": {
      "model_module": "@jupyter-widgets/controls",
      "model_module_version": "1.5.0",
      "model_name": "FloatProgressModel",
      "state": {
       "bar_style": "success",
       "layout": "IPY_MODEL_87814376bfc045f7bacee0c4e02f9f70",
       "max": 5,
       "style": "IPY_MODEL_95545a3016d54dcd9da9781d9974da66",
       "value": 5
      }
     },
     "4ce55ca5b6f34237aa46268a2673bb9b": {
      "model_module": "@jupyter-widgets/controls",
      "model_module_version": "1.5.0",
      "model_name": "DescriptionStyleModel",
      "state": {
       "description_width": ""
      }
     },
     "4d623f2d52b247e1804a23f7d3156e72": {
      "model_module": "@jupyter-widgets/controls",
      "model_module_version": "1.5.0",
      "model_name": "HBoxModel",
      "state": {
       "children": [
        "IPY_MODEL_1056d4cbe09242c98d2ce9ae695d0964",
        "IPY_MODEL_e08b18367fb943f78206a0f06d76737e",
        "IPY_MODEL_217a60a0d06b4178bd7368ed27aba26b"
       ],
       "layout": "IPY_MODEL_40621ed0e4fe452abbca83995e48a9ea"
      }
     },
     "4d62b3b8b6af46fe8aa4cbb6e38e03ce": {
      "model_module": "@jupyter-widgets/controls",
      "model_module_version": "1.5.0",
      "model_name": "DescriptionStyleModel",
      "state": {
       "description_width": ""
      }
     },
     "4dcf0ddd081b4d17a334a234204ee8e8": {
      "model_module": "@jupyter-widgets/controls",
      "model_module_version": "1.5.0",
      "model_name": "HBoxModel",
      "state": {
       "children": [
        "IPY_MODEL_84b2c457ce414bbe8fc75e354e85b32a",
        "IPY_MODEL_1f847fddb34e4761a40101c6fb3168b5",
        "IPY_MODEL_f734f6ccd1d145c692a7fb2d34f249a3"
       ],
       "layout": "IPY_MODEL_c64bab518e6c4065b485f17161dcfed8"
      }
     },
     "4e0f160fcca94f7c93c26f2964b2f198": {
      "model_module": "@jupyter-widgets/controls",
      "model_module_version": "1.5.0",
      "model_name": "HTMLModel",
      "state": {
       "layout": "IPY_MODEL_8b353a59d22c40f386f1f91a319db06c",
       "style": "IPY_MODEL_1579cfb1193b48dba6cdcdc4b9e9e57d",
       "value": " 5/5 [00:14&lt;00:00,  3.01s/it]"
      }
     },
     "4e27d9e998a7423d89e7868c2582921d": {
      "model_module": "@jupyter-widgets/controls",
      "model_module_version": "1.5.0",
      "model_name": "DescriptionStyleModel",
      "state": {
       "description_width": ""
      }
     },
     "4ea79765c82645408c59a1a36270515f": {
      "model_module": "@jupyter-widgets/controls",
      "model_module_version": "1.5.0",
      "model_name": "HTMLModel",
      "state": {
       "layout": "IPY_MODEL_6abb1a12c8e546d7b46f6ce6a3fbbc80",
       "style": "IPY_MODEL_9210cd3b31424c0ebf082484b23a5d8d",
       "value": " 0/5 [00:00&lt;?, ?it/s]"
      }
     },
     "4f38186a8cb34beebc424d950e73edc1": {
      "model_module": "@jupyter-widgets/controls",
      "model_module_version": "1.5.0",
      "model_name": "DescriptionStyleModel",
      "state": {
       "description_width": ""
      }
     },
     "4f40b24d34eb40c78b1197fd936738b3": {
      "model_module": "@jupyter-widgets/base",
      "model_module_version": "1.2.0",
      "model_name": "LayoutModel",
      "state": {}
     },
     "4f42a723a61d40608056f1039ff98cf4": {
      "model_module": "@jupyter-widgets/controls",
      "model_module_version": "1.5.0",
      "model_name": "DescriptionStyleModel",
      "state": {
       "description_width": ""
      }
     },
     "4f49a1579dcb495894603a5d59bdaf72": {
      "model_module": "@jupyter-widgets/controls",
      "model_module_version": "1.5.0",
      "model_name": "DescriptionStyleModel",
      "state": {
       "description_width": ""
      }
     },
     "4f60f8e37e0d4c368a2153a5bf8032a4": {
      "model_module": "@jupyter-widgets/controls",
      "model_module_version": "1.5.0",
      "model_name": "HTMLModel",
      "state": {
       "layout": "IPY_MODEL_59d276ceb5ab439db46211014f15baef",
       "style": "IPY_MODEL_3ed559af07064d4f969b337c5f07adfb",
       "value": "100%"
      }
     },
     "4f7e481f1954441fa79b5e029a23d162": {
      "model_module": "@jupyter-widgets/controls",
      "model_module_version": "1.5.0",
      "model_name": "HTMLModel",
      "state": {
       "layout": "IPY_MODEL_57a06c7498944ca9b974a28c694b0358",
       "style": "IPY_MODEL_99567a9590d34d058474a4bad2ecb17d",
       "value": "100%"
      }
     },
     "502dcdc541f14dfdb1a26a5c696f8c7d": {
      "model_module": "@jupyter-widgets/controls",
      "model_module_version": "1.5.0",
      "model_name": "DescriptionStyleModel",
      "state": {
       "description_width": ""
      }
     },
     "508ae1c089a04fb6bfb0e25719c419de": {
      "model_module": "@jupyter-widgets/controls",
      "model_module_version": "1.5.0",
      "model_name": "FloatProgressModel",
      "state": {
       "bar_style": "success",
       "layout": "IPY_MODEL_907f92eda3634aae99c8eb66a0a54ab3",
       "max": 5,
       "style": "IPY_MODEL_760dda06d7c74150b02bab3461c75834",
       "value": 5
      }
     },
     "509069e8a29a4694b92125b77ea1642f": {
      "model_module": "@jupyter-widgets/controls",
      "model_module_version": "1.5.0",
      "model_name": "ProgressStyleModel",
      "state": {
       "description_width": ""
      }
     },
     "50efe31198fc4e87afa2098c653b66ba": {
      "model_module": "@jupyter-widgets/controls",
      "model_module_version": "1.5.0",
      "model_name": "HBoxModel",
      "state": {
       "children": [
        "IPY_MODEL_394866abaa5f4d4989dade8c705a822c",
        "IPY_MODEL_43d12e5943214041a326950bbe850b66",
        "IPY_MODEL_17f562ccdfe04620ab8802cb6d039291"
       ],
       "layout": "IPY_MODEL_92d140da06c94d92a36d4e2d88561711"
      }
     },
     "5111cdca465e41e398d8e4acbee8d512": {
      "model_module": "@jupyter-widgets/base",
      "model_module_version": "1.2.0",
      "model_name": "LayoutModel",
      "state": {}
     },
     "51e61893028d4a27b352a61e273143fd": {
      "model_module": "@jupyter-widgets/base",
      "model_module_version": "1.2.0",
      "model_name": "LayoutModel",
      "state": {}
     },
     "51fd5668e3024ab8b9a50a09980c104d": {
      "model_module": "@jupyter-widgets/base",
      "model_module_version": "1.2.0",
      "model_name": "LayoutModel",
      "state": {}
     },
     "52640f800f614b61ba4b9791ee41cc5e": {
      "model_module": "@jupyter-widgets/base",
      "model_module_version": "1.2.0",
      "model_name": "LayoutModel",
      "state": {}
     },
     "526859ea35ae400998df6f543b3b1e1b": {
      "model_module": "@jupyter-widgets/controls",
      "model_module_version": "1.5.0",
      "model_name": "ProgressStyleModel",
      "state": {
       "description_width": ""
      }
     },
     "5330ebcc827449e188d12322bb331b93": {
      "model_module": "@jupyter-widgets/base",
      "model_module_version": "1.2.0",
      "model_name": "LayoutModel",
      "state": {}
     },
     "53a0c32b2d7242d5af42a10b235c33af": {
      "model_module": "@jupyter-widgets/controls",
      "model_module_version": "1.5.0",
      "model_name": "HTMLModel",
      "state": {
       "layout": "IPY_MODEL_23ecda9445bd4cb697e996213726016c",
       "style": "IPY_MODEL_49385149184d47f59d9308e3394ae3b7",
       "value": "100%"
      }
     },
     "548a1448fc9742f9b9183f66ebecc79b": {
      "model_module": "@jupyter-widgets/base",
      "model_module_version": "1.2.0",
      "model_name": "LayoutModel",
      "state": {}
     },
     "548e4d5e84b247b1a8c9fe5aa2f4f794": {
      "model_module": "@jupyter-widgets/base",
      "model_module_version": "1.2.0",
      "model_name": "LayoutModel",
      "state": {}
     },
     "557bdc5c14d247ecb9bd2b449efb2582": {
      "model_module": "@jupyter-widgets/controls",
      "model_module_version": "1.5.0",
      "model_name": "FloatProgressModel",
      "state": {
       "bar_style": "success",
       "layout": "IPY_MODEL_56c27848dd0045f1aee885af94528fa1",
       "max": 5,
       "style": "IPY_MODEL_dadebb7620814614b96b354a1f1e1448",
       "value": 5
      }
     },
     "5650846458924834b2dcb989f512035a": {
      "model_module": "@jupyter-widgets/controls",
      "model_module_version": "1.5.0",
      "model_name": "DescriptionStyleModel",
      "state": {
       "description_width": ""
      }
     },
     "5660b9dba6054a92898b0fc2e9aaef77": {
      "model_module": "@jupyter-widgets/controls",
      "model_module_version": "1.5.0",
      "model_name": "HBoxModel",
      "state": {
       "children": [
        "IPY_MODEL_fc5f203c67674d789bbe89963f740aa7",
        "IPY_MODEL_db8dd18dbfe24db2a2e9290a4f8d09c1",
        "IPY_MODEL_03eaa6539fbc4156bb3a46bcfde7a9ff"
       ],
       "layout": "IPY_MODEL_6298fb8380974c4092b9111372a96eab"
      }
     },
     "568bd235333041bebabf44a50a5f9afd": {
      "model_module": "@jupyter-widgets/controls",
      "model_module_version": "1.5.0",
      "model_name": "HBoxModel",
      "state": {
       "children": [
        "IPY_MODEL_904b1ec2011e41eab4c79b02113e688f",
        "IPY_MODEL_d0963a53cb734a9a8402a5af978387ab",
        "IPY_MODEL_71d982668882491e8dae6441440eeb04"
       ],
       "layout": "IPY_MODEL_52640f800f614b61ba4b9791ee41cc5e"
      }
     },
     "56b758c6dc7a4659b2faf2ddc7c4e1ed": {
      "model_module": "@jupyter-widgets/base",
      "model_module_version": "1.2.0",
      "model_name": "LayoutModel",
      "state": {}
     },
     "56c27848dd0045f1aee885af94528fa1": {
      "model_module": "@jupyter-widgets/base",
      "model_module_version": "1.2.0",
      "model_name": "LayoutModel",
      "state": {}
     },
     "56f634a6c58340b4b2eac5d49dda010d": {
      "model_module": "@jupyter-widgets/base",
      "model_module_version": "1.2.0",
      "model_name": "LayoutModel",
      "state": {}
     },
     "5798816e5e32427b9316b665a9940687": {
      "model_module": "@jupyter-widgets/controls",
      "model_module_version": "1.5.0",
      "model_name": "HTMLModel",
      "state": {
       "layout": "IPY_MODEL_548a1448fc9742f9b9183f66ebecc79b",
       "style": "IPY_MODEL_ef777013c12d428baa180b144b864e7f",
       "value": "100%"
      }
     },
     "57a06c7498944ca9b974a28c694b0358": {
      "model_module": "@jupyter-widgets/base",
      "model_module_version": "1.2.0",
      "model_name": "LayoutModel",
      "state": {}
     },
     "57f75059f1a14a0c86a6d87f07c6b40e": {
      "model_module": "@jupyter-widgets/controls",
      "model_module_version": "1.5.0",
      "model_name": "FloatProgressModel",
      "state": {
       "bar_style": "success",
       "layout": "IPY_MODEL_742afa6803a64aed98c557b92e89ff00",
       "max": 5,
       "style": "IPY_MODEL_745f26ff517c4e57912890b0715b0bbc",
       "value": 5
      }
     },
     "582cd604b7a14b49ae8b209c9bac215d": {
      "model_module": "@jupyter-widgets/base",
      "model_module_version": "1.2.0",
      "model_name": "LayoutModel",
      "state": {}
     },
     "5901ee8cc0c04642a9c45004f4e218e8": {
      "model_module": "@jupyter-widgets/controls",
      "model_module_version": "1.5.0",
      "model_name": "HBoxModel",
      "state": {
       "children": [
        "IPY_MODEL_bc385f727a2943eebb7a4db662605c07",
        "IPY_MODEL_8b9ba16665794ea188a816d49a4da5a8",
        "IPY_MODEL_e6aba4ea52fa4c4fb68589e674443950"
       ],
       "layout": "IPY_MODEL_a638dcc657554b7e90c46fcb8c8db99e"
      }
     },
     "59212dcb8454437298e92c7b7b6f9c3c": {
      "model_module": "@jupyter-widgets/controls",
      "model_module_version": "1.5.0",
      "model_name": "ProgressStyleModel",
      "state": {
       "description_width": ""
      }
     },
     "593aa0736ebf4a6689f666a0e2c37795": {
      "model_module": "@jupyter-widgets/controls",
      "model_module_version": "1.5.0",
      "model_name": "ProgressStyleModel",
      "state": {
       "description_width": ""
      }
     },
     "598c49e6a6274b02909ec486f6fb3a01": {
      "model_module": "@jupyter-widgets/base",
      "model_module_version": "1.2.0",
      "model_name": "LayoutModel",
      "state": {}
     },
     "59b3ac1f209a4b78a5f22c3b89588d76": {
      "model_module": "@jupyter-widgets/controls",
      "model_module_version": "1.5.0",
      "model_name": "ProgressStyleModel",
      "state": {
       "description_width": ""
      }
     },
     "59d276ceb5ab439db46211014f15baef": {
      "model_module": "@jupyter-widgets/base",
      "model_module_version": "1.2.0",
      "model_name": "LayoutModel",
      "state": {}
     },
     "5a050dbdca9341fe9de565682a9884e0": {
      "model_module": "@jupyter-widgets/controls",
      "model_module_version": "1.5.0",
      "model_name": "HTMLModel",
      "state": {
       "layout": "IPY_MODEL_900c4ec31f2043428d587668468ca833",
       "style": "IPY_MODEL_18234a9fbf6944d582b23293fd64ad1f",
       "value": " 5/5 [00:00&lt;00:00, 60.19it/s]"
      }
     },
     "5a093a7b6f364ee9bcccaf1c601554aa": {
      "model_module": "@jupyter-widgets/base",
      "model_module_version": "1.2.0",
      "model_name": "LayoutModel",
      "state": {}
     },
     "5a31162b2469446e81cd3503c8ce9fef": {
      "model_module": "@jupyter-widgets/controls",
      "model_module_version": "1.5.0",
      "model_name": "DescriptionStyleModel",
      "state": {
       "description_width": ""
      }
     },
     "5a3bdd3c82244a33a91ad44f388bebd8": {
      "model_module": "@jupyter-widgets/controls",
      "model_module_version": "1.5.0",
      "model_name": "HTMLModel",
      "state": {
       "layout": "IPY_MODEL_fd922196064a44eaa692b4746ccf5569",
       "style": "IPY_MODEL_a4dea1aaa5f0453594703ee05b51ecb9",
       "value": "100%"
      }
     },
     "5a9dd304122144b2871795306a4a834d": {
      "model_module": "@jupyter-widgets/controls",
      "model_module_version": "1.5.0",
      "model_name": "DescriptionStyleModel",
      "state": {
       "description_width": ""
      }
     },
     "5aca95543e7f4530850eb936d4884126": {
      "model_module": "@jupyter-widgets/controls",
      "model_module_version": "1.5.0",
      "model_name": "HBoxModel",
      "state": {
       "children": [
        "IPY_MODEL_53a0c32b2d7242d5af42a10b235c33af",
        "IPY_MODEL_b0b144cb76e64151be7fc6451a12338b",
        "IPY_MODEL_9ac5d7feb796452bb8a6212ae04208c8"
       ],
       "layout": "IPY_MODEL_8dffc1a3d8d04b38828b3a3538009edf"
      }
     },
     "5b5d7916a7e4412ebfb4b23c812b62f3": {
      "model_module": "@jupyter-widgets/controls",
      "model_module_version": "1.5.0",
      "model_name": "HTMLModel",
      "state": {
       "layout": "IPY_MODEL_0d83006364164ee6ba6218a5ec617704",
       "style": "IPY_MODEL_e03398df600946f0b601c493df0f33b8",
       "value": " 5/5 [00:00&lt;00:00, 20.50it/s]"
      }
     },
     "5b5ead69470740b8914f068c76a529ff": {
      "model_module": "@jupyter-widgets/controls",
      "model_module_version": "1.5.0",
      "model_name": "FloatProgressModel",
      "state": {
       "bar_style": "success",
       "layout": "IPY_MODEL_8e2f63bc7b9343bb92d90cf7806a4f71",
       "max": 5,
       "style": "IPY_MODEL_1e469d8f522c4a5495dac300ec0cd84b",
       "value": 5
      }
     },
     "5c1ac9c83e9f47759bbd65efaf4ba2c4": {
      "model_module": "@jupyter-widgets/base",
      "model_module_version": "1.2.0",
      "model_name": "LayoutModel",
      "state": {}
     },
     "5dcdb19684bc438485b9a91450ce6fe4": {
      "model_module": "@jupyter-widgets/base",
      "model_module_version": "1.2.0",
      "model_name": "LayoutModel",
      "state": {}
     },
     "5e53be13a1994a2c92e12074dbce2850": {
      "model_module": "@jupyter-widgets/controls",
      "model_module_version": "1.5.0",
      "model_name": "FloatProgressModel",
      "state": {
       "bar_style": "success",
       "layout": "IPY_MODEL_be0e028beb9c4dd0833050bad62dd80e",
       "max": 5,
       "style": "IPY_MODEL_08b0859ac75e4e38a7a9813e1ab9bdeb",
       "value": 5
      }
     },
     "5e6ed78bcf194803a1795e3b90397d07": {
      "model_module": "@jupyter-widgets/base",
      "model_module_version": "1.2.0",
      "model_name": "LayoutModel",
      "state": {}
     },
     "5e72958719ae4ce6bbcd8a2a7957c05c": {
      "model_module": "@jupyter-widgets/base",
      "model_module_version": "1.2.0",
      "model_name": "LayoutModel",
      "state": {}
     },
     "5e8ebfae26a54d558f103ecf645ae1ab": {
      "model_module": "@jupyter-widgets/controls",
      "model_module_version": "1.5.0",
      "model_name": "HTMLModel",
      "state": {
       "layout": "IPY_MODEL_1ed37527088c46e5929ddd4a773daa2f",
       "style": "IPY_MODEL_0662c8a9952947e192f6c47b7d2820f6",
       "value": "100%"
      }
     },
     "5ea2ccdd48db4dadb968c072a0a2f71c": {
      "model_module": "@jupyter-widgets/controls",
      "model_module_version": "1.5.0",
      "model_name": "ProgressStyleModel",
      "state": {
       "description_width": ""
      }
     },
     "5ef4b75b23264fc395674e3f0fde8ebe": {
      "model_module": "@jupyter-widgets/base",
      "model_module_version": "1.2.0",
      "model_name": "LayoutModel",
      "state": {}
     },
     "5f0eb1d436bf4fe4ae448688d542a2ac": {
      "model_module": "@jupyter-widgets/base",
      "model_module_version": "1.2.0",
      "model_name": "LayoutModel",
      "state": {}
     },
     "5f2e49134d0c4fd390b7b10e0e31afdb": {
      "model_module": "@jupyter-widgets/controls",
      "model_module_version": "1.5.0",
      "model_name": "ProgressStyleModel",
      "state": {
       "description_width": ""
      }
     },
     "5f4ff286c6a844a796861f66ead2cb6b": {
      "model_module": "@jupyter-widgets/controls",
      "model_module_version": "1.5.0",
      "model_name": "ProgressStyleModel",
      "state": {
       "description_width": ""
      }
     },
     "5fd09c1019d34f17a5cd3e554a194762": {
      "model_module": "@jupyter-widgets/controls",
      "model_module_version": "1.5.0",
      "model_name": "ProgressStyleModel",
      "state": {
       "description_width": ""
      }
     },
     "6084d93b6b9f444dbf61a71bb595ad56": {
      "model_module": "@jupyter-widgets/base",
      "model_module_version": "1.2.0",
      "model_name": "LayoutModel",
      "state": {}
     },
     "60e42a83488f4ac2aefcba7091f82089": {
      "model_module": "@jupyter-widgets/controls",
      "model_module_version": "1.5.0",
      "model_name": "DescriptionStyleModel",
      "state": {
       "description_width": ""
      }
     },
     "60f4ce677d1146f69aa3a075c1b93640": {
      "model_module": "@jupyter-widgets/controls",
      "model_module_version": "1.5.0",
      "model_name": "HBoxModel",
      "state": {
       "children": [
        "IPY_MODEL_f6dd3b220c0b4867bef94c984c36d1cd",
        "IPY_MODEL_64c0d17e5c8a484a98bbafa473bfc892",
        "IPY_MODEL_af55c2a218f04f498d8f459ae292cc8b"
       ],
       "layout": "IPY_MODEL_b3e72542ce4b4f39bc957b933fc53a15"
      }
     },
     "61d47b05870f410fb9b11f46389d8707": {
      "model_module": "@jupyter-widgets/base",
      "model_module_version": "1.2.0",
      "model_name": "LayoutModel",
      "state": {}
     },
     "6216f6051ced42309566aebea4ee9730": {
      "model_module": "@jupyter-widgets/controls",
      "model_module_version": "1.5.0",
      "model_name": "FloatProgressModel",
      "state": {
       "bar_style": "success",
       "layout": "IPY_MODEL_10c47ac5ef804502910e2b43b5698dbb",
       "max": 5,
       "style": "IPY_MODEL_a8064a4ab75440768defc24fa14978e9",
       "value": 5
      }
     },
     "625e05f0cfb3451fa415a92979b30335": {
      "model_module": "@jupyter-widgets/base",
      "model_module_version": "1.2.0",
      "model_name": "LayoutModel",
      "state": {}
     },
     "6298fb8380974c4092b9111372a96eab": {
      "model_module": "@jupyter-widgets/base",
      "model_module_version": "1.2.0",
      "model_name": "LayoutModel",
      "state": {}
     },
     "62a62166a07041c9bade003823f16f0c": {
      "model_module": "@jupyter-widgets/controls",
      "model_module_version": "1.5.0",
      "model_name": "FloatProgressModel",
      "state": {
       "bar_style": "success",
       "layout": "IPY_MODEL_5e72958719ae4ce6bbcd8a2a7957c05c",
       "max": 5,
       "style": "IPY_MODEL_337e9870963048a18efe9b8cfa0a67a8",
       "value": 5
      }
     },
     "62fa45da333f4bfdb38d20427b074d7f": {
      "model_module": "@jupyter-widgets/base",
      "model_module_version": "1.2.0",
      "model_name": "LayoutModel",
      "state": {}
     },
     "633ea1d87d0f404aaa8741243599f731": {
      "model_module": "@jupyter-widgets/controls",
      "model_module_version": "1.5.0",
      "model_name": "ProgressStyleModel",
      "state": {
       "description_width": ""
      }
     },
     "638027af604246c19ccc4816732aba2c": {
      "model_module": "@jupyter-widgets/controls",
      "model_module_version": "1.5.0",
      "model_name": "DescriptionStyleModel",
      "state": {
       "description_width": ""
      }
     },
     "641a5c70da294cb8bc23b238ffd89510": {
      "model_module": "@jupyter-widgets/controls",
      "model_module_version": "1.5.0",
      "model_name": "HBoxModel",
      "state": {
       "children": [
        "IPY_MODEL_1c1e3f18449040b89ae67d315d65c195",
        "IPY_MODEL_b4172b90412240688ff1a6be698a119e",
        "IPY_MODEL_c73f57e8c19340f98795fccf6f833516"
       ],
       "layout": "IPY_MODEL_a970cfcc2a454ed2addedad514edc99c"
      }
     },
     "64c0d17e5c8a484a98bbafa473bfc892": {
      "model_module": "@jupyter-widgets/controls",
      "model_module_version": "1.5.0",
      "model_name": "FloatProgressModel",
      "state": {
       "bar_style": "success",
       "layout": "IPY_MODEL_37b64538404f44b59809a50f3f39ed92",
       "max": 5,
       "style": "IPY_MODEL_192638a875cf4a449301f8e0a1ce43d2",
       "value": 5
      }
     },
     "64dd9a5f0a5145a38735e1837cc01dbf": {
      "model_module": "@jupyter-widgets/base",
      "model_module_version": "1.2.0",
      "model_name": "LayoutModel",
      "state": {}
     },
     "653091a8c9504b74b31a728e862a8996": {
      "model_module": "@jupyter-widgets/base",
      "model_module_version": "1.2.0",
      "model_name": "LayoutModel",
      "state": {}
     },
     "656fff3e9e2d4074ad7ff394c5aba902": {
      "model_module": "@jupyter-widgets/base",
      "model_module_version": "1.2.0",
      "model_name": "LayoutModel",
      "state": {}
     },
     "6616302ee9d6451e97b044c410e7d281": {
      "model_module": "@jupyter-widgets/base",
      "model_module_version": "1.2.0",
      "model_name": "LayoutModel",
      "state": {}
     },
     "664d7696a00745e6ae5bdbff42a20618": {
      "model_module": "@jupyter-widgets/controls",
      "model_module_version": "1.5.0",
      "model_name": "DescriptionStyleModel",
      "state": {
       "description_width": ""
      }
     },
     "6665e8fbae844c29b2a69478ed87d86f": {
      "model_module": "@jupyter-widgets/base",
      "model_module_version": "1.2.0",
      "model_name": "LayoutModel",
      "state": {}
     },
     "66681151ce5749d9bb47ed47832182b7": {
      "model_module": "@jupyter-widgets/controls",
      "model_module_version": "1.5.0",
      "model_name": "HTMLModel",
      "state": {
       "layout": "IPY_MODEL_7aefa603e607457da364f924508f9648",
       "style": "IPY_MODEL_c14bb11386ce43b1b30d31e9d688a259",
       "value": " 5/5 [00:00&lt;00:00, 35.37it/s]"
      }
     },
     "669062022dfa47efb989134bdb45ba13": {
      "model_module": "@jupyter-widgets/controls",
      "model_module_version": "1.5.0",
      "model_name": "HBoxModel",
      "state": {
       "children": [
        "IPY_MODEL_d1bf2a53c1474349b5bb8b10b87674a9",
        "IPY_MODEL_dde825534803421da965413cdad0cfa9",
        "IPY_MODEL_c273303007d84c59b4276c7533f3ba2d"
       ],
       "layout": "IPY_MODEL_64dd9a5f0a5145a38735e1837cc01dbf"
      }
     },
     "669fbfdee1634b349457047387dd5224": {
      "model_module": "@jupyter-widgets/base",
      "model_module_version": "1.2.0",
      "model_name": "LayoutModel",
      "state": {}
     },
     "66e430d5af3945baa58701a5c80d41bb": {
      "model_module": "@jupyter-widgets/controls",
      "model_module_version": "1.5.0",
      "model_name": "HTMLModel",
      "state": {
       "layout": "IPY_MODEL_9beba9c173fe4471b489b00f83893fae",
       "style": "IPY_MODEL_16c7ef27774744e49c51b732a1237b9c",
       "value": "100%"
      }
     },
     "678ef8be39a84afb9d4974a30df323f1": {
      "model_module": "@jupyter-widgets/controls",
      "model_module_version": "1.5.0",
      "model_name": "DescriptionStyleModel",
      "state": {
       "description_width": ""
      }
     },
     "67a547c7cd8d4c52a929ed70e43a007f": {
      "model_module": "@jupyter-widgets/base",
      "model_module_version": "1.2.0",
      "model_name": "LayoutModel",
      "state": {}
     },
     "680339caaca14e14befc91503a6ed0c9": {
      "model_module": "@jupyter-widgets/base",
      "model_module_version": "1.2.0",
      "model_name": "LayoutModel",
      "state": {}
     },
     "6960d9889c864ca3a30f29092d38bbbf": {
      "model_module": "@jupyter-widgets/controls",
      "model_module_version": "1.5.0",
      "model_name": "HTMLModel",
      "state": {
       "layout": "IPY_MODEL_2f3b2024b705417a881658a397d44335",
       "style": "IPY_MODEL_27880852d91d44918e3978185f97b366",
       "value": "100%"
      }
     },
     "6969e0c582124840a6c8770dc34cbda1": {
      "model_module": "@jupyter-widgets/controls",
      "model_module_version": "1.5.0",
      "model_name": "HTMLModel",
      "state": {
       "layout": "IPY_MODEL_97dc2dcbb5414613927493f6da74715c",
       "style": "IPY_MODEL_6d2de3fd14cb46fd9165300e94d7016e",
       "value": " 5/5 [00:10&lt;00:00,  2.01s/it]"
      }
     },
     "6987ba00a8be4c3e9c3087683aeb1158": {
      "model_module": "@jupyter-widgets/controls",
      "model_module_version": "1.5.0",
      "model_name": "HTMLModel",
      "state": {
       "layout": "IPY_MODEL_b8f77e7e4aae41548185e42b88d8876d",
       "style": "IPY_MODEL_82782d9a56aa4143bf6e4795bc3241cf",
       "value": " 5/5 [00:00&lt;00:00,  7.03it/s]"
      }
     },
     "69a03547e104422bb969077190088aac": {
      "model_module": "@jupyter-widgets/base",
      "model_module_version": "1.2.0",
      "model_name": "LayoutModel",
      "state": {}
     },
     "6a2ea051ac7e4b92a34ab87706106b46": {
      "model_module": "@jupyter-widgets/base",
      "model_module_version": "1.2.0",
      "model_name": "LayoutModel",
      "state": {}
     },
     "6abb1a12c8e546d7b46f6ce6a3fbbc80": {
      "model_module": "@jupyter-widgets/base",
      "model_module_version": "1.2.0",
      "model_name": "LayoutModel",
      "state": {}
     },
     "6ad4710586944a988480964bb86da62b": {
      "model_module": "@jupyter-widgets/base",
      "model_module_version": "1.2.0",
      "model_name": "LayoutModel",
      "state": {}
     },
     "6addb2e98bf74a878b7ec9adfe6a852c": {
      "model_module": "@jupyter-widgets/base",
      "model_module_version": "1.2.0",
      "model_name": "LayoutModel",
      "state": {}
     },
     "6b327eb9684f44d1b7c3558ac09ac44c": {
      "model_module": "@jupyter-widgets/controls",
      "model_module_version": "1.5.0",
      "model_name": "ProgressStyleModel",
      "state": {
       "description_width": ""
      }
     },
     "6b34f29f0b724d00ba042658a6f358cd": {
      "model_module": "@jupyter-widgets/controls",
      "model_module_version": "1.5.0",
      "model_name": "ProgressStyleModel",
      "state": {
       "description_width": ""
      }
     },
     "6ba719cda8bb49a5912358b8c38c2599": {
      "model_module": "@jupyter-widgets/controls",
      "model_module_version": "1.5.0",
      "model_name": "ProgressStyleModel",
      "state": {
       "description_width": ""
      }
     },
     "6bae214bb2164a21a7946dddbe0f6627": {
      "model_module": "@jupyter-widgets/base",
      "model_module_version": "1.2.0",
      "model_name": "LayoutModel",
      "state": {}
     },
     "6bd56de2b0304d908c7060fdfafea855": {
      "model_module": "@jupyter-widgets/controls",
      "model_module_version": "1.5.0",
      "model_name": "ProgressStyleModel",
      "state": {
       "description_width": ""
      }
     },
     "6c2eb05effe94f378ab269fe8f7cb2c1": {
      "model_module": "@jupyter-widgets/base",
      "model_module_version": "1.2.0",
      "model_name": "LayoutModel",
      "state": {}
     },
     "6c3d259d8bd844ea9095a53821f30ef0": {
      "model_module": "@jupyter-widgets/controls",
      "model_module_version": "1.5.0",
      "model_name": "HBoxModel",
      "state": {
       "children": [
        "IPY_MODEL_a7927961f0114904b481dabaf8c6087c",
        "IPY_MODEL_f227fb1945ec4543ab9c20e7ba463a4d",
        "IPY_MODEL_2f873c6e2e4947f5b25d0a46b5600c27"
       ],
       "layout": "IPY_MODEL_9cba203b1ea24b729a6f28930ef3a541"
      }
     },
     "6cb02cb41a4e452ebf35ec090afedfef": {
      "model_module": "@jupyter-widgets/base",
      "model_module_version": "1.2.0",
      "model_name": "LayoutModel",
      "state": {}
     },
     "6cfc13b55c154918b91c859e98eba159": {
      "model_module": "@jupyter-widgets/controls",
      "model_module_version": "1.5.0",
      "model_name": "HBoxModel",
      "state": {
       "children": [
        "IPY_MODEL_66e430d5af3945baa58701a5c80d41bb",
        "IPY_MODEL_508ae1c089a04fb6bfb0e25719c419de",
        "IPY_MODEL_ae83c83154be4f06b374404b83c82b61"
       ],
       "layout": "IPY_MODEL_2e93ae7e9b5a49ff829826b6ced265d8"
      }
     },
     "6d2de3fd14cb46fd9165300e94d7016e": {
      "model_module": "@jupyter-widgets/controls",
      "model_module_version": "1.5.0",
      "model_name": "DescriptionStyleModel",
      "state": {
       "description_width": ""
      }
     },
     "6d2f7506e7c14100afada426d9e0d408": {
      "model_module": "@jupyter-widgets/base",
      "model_module_version": "1.2.0",
      "model_name": "LayoutModel",
      "state": {}
     },
     "6dee5cc0e09d46be91f60c5da0f36082": {
      "model_module": "@jupyter-widgets/controls",
      "model_module_version": "1.5.0",
      "model_name": "DescriptionStyleModel",
      "state": {
       "description_width": ""
      }
     },
     "6df96a673673483086df88ea938edcc6": {
      "model_module": "@jupyter-widgets/controls",
      "model_module_version": "1.5.0",
      "model_name": "HBoxModel",
      "state": {
       "children": [
        "IPY_MODEL_0ba8d77827b840a4a01a5bea06207836",
        "IPY_MODEL_d64012b0aab1496cb17a90f7ed7fc680",
        "IPY_MODEL_4a0f6e2e33844395933a61b2a7ba7420"
       ],
       "layout": "IPY_MODEL_680339caaca14e14befc91503a6ed0c9"
      }
     },
     "6ea92a96950b42f880e04731c112e817": {
      "model_module": "@jupyter-widgets/base",
      "model_module_version": "1.2.0",
      "model_name": "LayoutModel",
      "state": {}
     },
     "6eee49747da94715a23e5d5d296640ab": {
      "model_module": "@jupyter-widgets/base",
      "model_module_version": "1.2.0",
      "model_name": "LayoutModel",
      "state": {}
     },
     "6fc1ab35fa2e4035a84a0cb63f1cf4b1": {
      "model_module": "@jupyter-widgets/controls",
      "model_module_version": "1.5.0",
      "model_name": "HTMLModel",
      "state": {
       "layout": "IPY_MODEL_dbeaea767b4047feba5b64e282b0c0c3",
       "style": "IPY_MODEL_4ce55ca5b6f34237aa46268a2673bb9b",
       "value": " 5/5 [00:10&lt;00:00,  2.13s/it]"
      }
     },
     "6fe967e432b541698aa84c7d6dd29b0d": {
      "model_module": "@jupyter-widgets/controls",
      "model_module_version": "1.5.0",
      "model_name": "HTMLModel",
      "state": {
       "layout": "IPY_MODEL_e34906f13c304a75b14fca4f4250aaaa",
       "style": "IPY_MODEL_24375dcc6c05453bbf260f2b82c63612",
       "value": " 5/5 [00:00&lt;00:00, 14.74it/s]"
      }
     },
     "7002ff132a634356a67728a7e9f3c801": {
      "model_module": "@jupyter-widgets/controls",
      "model_module_version": "1.5.0",
      "model_name": "DescriptionStyleModel",
      "state": {
       "description_width": ""
      }
     },
     "705a549e854c4ebfa33fe81610be2e20": {
      "model_module": "@jupyter-widgets/controls",
      "model_module_version": "1.5.0",
      "model_name": "DescriptionStyleModel",
      "state": {
       "description_width": ""
      }
     },
     "70dc9e1f47bd4910983855bdf3805002": {
      "model_module": "@jupyter-widgets/controls",
      "model_module_version": "1.5.0",
      "model_name": "HBoxModel",
      "state": {
       "children": [
        "IPY_MODEL_18f93a9bb9aa4b45bd163a40bd29510e",
        "IPY_MODEL_4cddf159507a49d7930a5599f8cf4ee4",
        "IPY_MODEL_6969e0c582124840a6c8770dc34cbda1"
       ],
       "layout": "IPY_MODEL_6665e8fbae844c29b2a69478ed87d86f"
      }
     },
     "70ec3303967344469c744a5fabc90901": {
      "model_module": "@jupyter-widgets/controls",
      "model_module_version": "1.5.0",
      "model_name": "HTMLModel",
      "state": {
       "layout": "IPY_MODEL_834f9935908d4b8280be0773ec613afa",
       "style": "IPY_MODEL_e6e146039187427990916ad93df95235",
       "value": "100%"
      }
     },
     "71824f53c2bc4ae39dfdfe6c6621de7e": {
      "model_module": "@jupyter-widgets/controls",
      "model_module_version": "1.5.0",
      "model_name": "HTMLModel",
      "state": {
       "layout": "IPY_MODEL_2cadfdaf4b2343b9a4dc0b28093fc55e",
       "style": "IPY_MODEL_d12ed436c32049779ecf1ee2fa5b3c1c",
       "value": "100%"
      }
     },
     "718ba24185cb47f6b3bf50a1a3eeabf2": {
      "model_module": "@jupyter-widgets/controls",
      "model_module_version": "1.5.0",
      "model_name": "ProgressStyleModel",
      "state": {
       "description_width": ""
      }
     },
     "71b510c9716f4c908e2ee4f81699a9de": {
      "model_module": "@jupyter-widgets/controls",
      "model_module_version": "1.5.0",
      "model_name": "HTMLModel",
      "state": {
       "layout": "IPY_MODEL_51fd5668e3024ab8b9a50a09980c104d",
       "style": "IPY_MODEL_638027af604246c19ccc4816732aba2c",
       "value": " 5/5 [00:12&lt;00:00,  2.41s/it]"
      }
     },
     "71d982668882491e8dae6441440eeb04": {
      "model_module": "@jupyter-widgets/controls",
      "model_module_version": "1.5.0",
      "model_name": "HTMLModel",
      "state": {
       "layout": "IPY_MODEL_f942056c6a96472b9b530a6b4b7dc570",
       "style": "IPY_MODEL_7002ff132a634356a67728a7e9f3c801",
       "value": " 5/5 [00:00&lt;00:00, 44.68it/s]"
      }
     },
     "724f06aefdc243348895999b1e00ddbf": {
      "model_module": "@jupyter-widgets/base",
      "model_module_version": "1.2.0",
      "model_name": "LayoutModel",
      "state": {}
     },
     "72c6bc8720ed478fbb4449b2e6fb40f3": {
      "model_module": "@jupyter-widgets/base",
      "model_module_version": "1.2.0",
      "model_name": "LayoutModel",
      "state": {}
     },
     "72dc10a81b724263a1a3789dc601ed63": {
      "model_module": "@jupyter-widgets/controls",
      "model_module_version": "1.5.0",
      "model_name": "FloatProgressModel",
      "state": {
       "bar_style": "success",
       "layout": "IPY_MODEL_cde8a6bb3ef44726b0a4f3e44cfc243b",
       "max": 5,
       "style": "IPY_MODEL_a77edf360eb642548ba1a7e6cdf472c8",
       "value": 5
      }
     },
     "742afa6803a64aed98c557b92e89ff00": {
      "model_module": "@jupyter-widgets/base",
      "model_module_version": "1.2.0",
      "model_name": "LayoutModel",
      "state": {}
     },
     "745f26ff517c4e57912890b0715b0bbc": {
      "model_module": "@jupyter-widgets/controls",
      "model_module_version": "1.5.0",
      "model_name": "ProgressStyleModel",
      "state": {
       "description_width": ""
      }
     },
     "75a1711f11bb4f9a932d37cf110d7c11": {
      "model_module": "@jupyter-widgets/base",
      "model_module_version": "1.2.0",
      "model_name": "LayoutModel",
      "state": {}
     },
     "760dda06d7c74150b02bab3461c75834": {
      "model_module": "@jupyter-widgets/controls",
      "model_module_version": "1.5.0",
      "model_name": "ProgressStyleModel",
      "state": {
       "description_width": ""
      }
     },
     "76590dca72034224a2e5b929bcf5f3a0": {
      "model_module": "@jupyter-widgets/base",
      "model_module_version": "1.2.0",
      "model_name": "LayoutModel",
      "state": {}
     },
     "76a620a0d9834dbf94934f116a673268": {
      "model_module": "@jupyter-widgets/controls",
      "model_module_version": "1.5.0",
      "model_name": "HTMLModel",
      "state": {
       "layout": "IPY_MODEL_9a028d19528546d0ae63d849e7eb2a12",
       "style": "IPY_MODEL_678ef8be39a84afb9d4974a30df323f1",
       "value": " 5/5 [00:03&lt;00:00,  1.67it/s]"
      }
     },
     "76b99aafbcf8483c94db3a3f327bb253": {
      "model_module": "@jupyter-widgets/controls",
      "model_module_version": "1.5.0",
      "model_name": "DescriptionStyleModel",
      "state": {
       "description_width": ""
      }
     },
     "76d50518721b448b9a06609e75f6c6ba": {
      "model_module": "@jupyter-widgets/base",
      "model_module_version": "1.2.0",
      "model_name": "LayoutModel",
      "state": {}
     },
     "77771ad7fd044b34832a8d1eb8f06424": {
      "model_module": "@jupyter-widgets/base",
      "model_module_version": "1.2.0",
      "model_name": "LayoutModel",
      "state": {}
     },
     "77a5f0572a404b9899d73b2cc7483225": {
      "model_module": "@jupyter-widgets/base",
      "model_module_version": "1.2.0",
      "model_name": "LayoutModel",
      "state": {}
     },
     "77eb386761db4a64838b11c384ccee2d": {
      "model_module": "@jupyter-widgets/base",
      "model_module_version": "1.2.0",
      "model_name": "LayoutModel",
      "state": {}
     },
     "783c4732cf70445e8cb8f2237e7e409f": {
      "model_module": "@jupyter-widgets/controls",
      "model_module_version": "1.5.0",
      "model_name": "HTMLModel",
      "state": {
       "layout": "IPY_MODEL_a03ff533ab79480897ef7a315c49497f",
       "style": "IPY_MODEL_c06ed89a77394d4fad27a00a310b1c63",
       "value": "  0%"
      }
     },
     "78b5fa2d0ca344669b6584608aa750aa": {
      "model_module": "@jupyter-widgets/base",
      "model_module_version": "1.2.0",
      "model_name": "LayoutModel",
      "state": {}
     },
     "791ef0ac8d064fd4942ab41dc760d5f6": {
      "model_module": "@jupyter-widgets/base",
      "model_module_version": "1.2.0",
      "model_name": "LayoutModel",
      "state": {}
     },
     "795d8d3430214fd6bad05b40d1a6b52d": {
      "model_module": "@jupyter-widgets/controls",
      "model_module_version": "1.5.0",
      "model_name": "HBoxModel",
      "state": {
       "children": [
        "IPY_MODEL_f25b93e505f44a188ee62bca05f15950",
        "IPY_MODEL_8bd5378c80f44827a53d94aaf2695f69",
        "IPY_MODEL_47fc61072b3947b19505a3286fc2ed15"
       ],
       "layout": "IPY_MODEL_2fbd246621b7430fbc64b3807959ed4a"
      }
     },
     "7975f86bac6646859f18f8e82f241c66": {
      "model_module": "@jupyter-widgets/controls",
      "model_module_version": "1.5.0",
      "model_name": "HBoxModel",
      "state": {
       "children": [
        "IPY_MODEL_9d7be326202849d88a057e68db8be1e0",
        "IPY_MODEL_62a62166a07041c9bade003823f16f0c",
        "IPY_MODEL_c791b5cf230645af8ca5b8ba5ad75021"
       ],
       "layout": "IPY_MODEL_62fa45da333f4bfdb38d20427b074d7f"
      }
     },
     "79a0221d14d8476e9ffe1f243e5b84af": {
      "model_module": "@jupyter-widgets/controls",
      "model_module_version": "1.5.0",
      "model_name": "FloatProgressModel",
      "state": {
       "bar_style": "success",
       "layout": "IPY_MODEL_f0c4f0c62b774a959988cbb05e1df080",
       "max": 5,
       "style": "IPY_MODEL_5f2e49134d0c4fd390b7b10e0e31afdb",
       "value": 5
      }
     },
     "79a4c67219ad46a58e6bc7e1829f951f": {
      "model_module": "@jupyter-widgets/base",
      "model_module_version": "1.2.0",
      "model_name": "LayoutModel",
      "state": {}
     },
     "79e6e53f33444605beda254ab8f0f120": {
      "model_module": "@jupyter-widgets/controls",
      "model_module_version": "1.5.0",
      "model_name": "DescriptionStyleModel",
      "state": {
       "description_width": ""
      }
     },
     "79f29c4e18534fffae76a8b27134431d": {
      "model_module": "@jupyter-widgets/base",
      "model_module_version": "1.2.0",
      "model_name": "LayoutModel",
      "state": {}
     },
     "7aefa603e607457da364f924508f9648": {
      "model_module": "@jupyter-widgets/base",
      "model_module_version": "1.2.0",
      "model_name": "LayoutModel",
      "state": {}
     },
     "7c0d5abba30646e5a1ff74d734b55380": {
      "model_module": "@jupyter-widgets/base",
      "model_module_version": "1.2.0",
      "model_name": "LayoutModel",
      "state": {}
     },
     "7c5a629e355b41e4932474ffc4773984": {
      "model_module": "@jupyter-widgets/controls",
      "model_module_version": "1.5.0",
      "model_name": "ProgressStyleModel",
      "state": {
       "description_width": ""
      }
     },
     "7cb6ee5ba19f4272a885464eea962013": {
      "model_module": "@jupyter-widgets/base",
      "model_module_version": "1.2.0",
      "model_name": "LayoutModel",
      "state": {}
     },
     "7ccb5ff056fc4773886ed092e51decf1": {
      "model_module": "@jupyter-widgets/base",
      "model_module_version": "1.2.0",
      "model_name": "LayoutModel",
      "state": {}
     },
     "7d2a6af4fbd444c7bf5145fc7957fd96": {
      "model_module": "@jupyter-widgets/base",
      "model_module_version": "1.2.0",
      "model_name": "LayoutModel",
      "state": {}
     },
     "7d324eddbc7b413285b60d35f41024fe": {
      "model_module": "@jupyter-widgets/controls",
      "model_module_version": "1.5.0",
      "model_name": "FloatProgressModel",
      "state": {
       "bar_style": "success",
       "layout": "IPY_MODEL_791ef0ac8d064fd4942ab41dc760d5f6",
       "max": 5,
       "style": "IPY_MODEL_926beb3069bd487c8f552acc2b0bb9f3",
       "value": 5
      }
     },
     "7d66a7401f144232a061cff0423bbe88": {
      "model_module": "@jupyter-widgets/controls",
      "model_module_version": "1.5.0",
      "model_name": "DescriptionStyleModel",
      "state": {
       "description_width": ""
      }
     },
     "7ebecd472e664facbca572d63dbe8ed8": {
      "model_module": "@jupyter-widgets/controls",
      "model_module_version": "1.5.0",
      "model_name": "HBoxModel",
      "state": {
       "children": [
        "IPY_MODEL_e724aa178bda4994af74de7df72645f8",
        "IPY_MODEL_4299e49fdae048a19fca7b792160ce67",
        "IPY_MODEL_5a050dbdca9341fe9de565682a9884e0"
       ],
       "layout": "IPY_MODEL_1ee76b54cb4b429c804d751258ac9943"
      }
     },
     "7f73d89809ed4a2cbac28a63f86ad811": {
      "model_module": "@jupyter-widgets/controls",
      "model_module_version": "1.5.0",
      "model_name": "HTMLModel",
      "state": {
       "layout": "IPY_MODEL_e44d139b299543bfb886a51429673c89",
       "style": "IPY_MODEL_ee0827d67cc94cbdb0fb2ada3b405947",
       "value": "100%"
      }
     },
     "7f918087dbfb4126b9a6282419092c7e": {
      "model_module": "@jupyter-widgets/base",
      "model_module_version": "1.2.0",
      "model_name": "LayoutModel",
      "state": {}
     },
     "7fa7fe2b27844e8ca157f6ef17f3e0bb": {
      "model_module": "@jupyter-widgets/controls",
      "model_module_version": "1.5.0",
      "model_name": "DescriptionStyleModel",
      "state": {
       "description_width": ""
      }
     },
     "7fff985c65ab4ce99e56b41c3f084ebb": {
      "model_module": "@jupyter-widgets/base",
      "model_module_version": "1.2.0",
      "model_name": "LayoutModel",
      "state": {}
     },
     "800c3738ac34419ebcec63f26ef73e33": {
      "model_module": "@jupyter-widgets/controls",
      "model_module_version": "1.5.0",
      "model_name": "ProgressStyleModel",
      "state": {
       "description_width": ""
      }
     },
     "805cc755b4444116894bf90b1715eec3": {
      "model_module": "@jupyter-widgets/controls",
      "model_module_version": "1.5.0",
      "model_name": "ProgressStyleModel",
      "state": {
       "description_width": ""
      }
     },
     "807cf68f4aeb4332a2222281f35ead27": {
      "model_module": "@jupyter-widgets/controls",
      "model_module_version": "1.5.0",
      "model_name": "HBoxModel",
      "state": {
       "children": [
        "IPY_MODEL_b0a433e87793419f9e3f59d36276bf9d",
        "IPY_MODEL_dfd0e0412e414cedb613bb416ebf7277",
        "IPY_MODEL_d71e22b5473c43b2821fcfe7942687bd"
       ],
       "layout": "IPY_MODEL_625e05f0cfb3451fa415a92979b30335"
      }
     },
     "80ec7e7dd0614b7db364084fcdd62afd": {
      "model_module": "@jupyter-widgets/controls",
      "model_module_version": "1.5.0",
      "model_name": "HTMLModel",
      "state": {
       "layout": "IPY_MODEL_26e7c338c9684bd1a91667eeed0bbada",
       "style": "IPY_MODEL_b922c17b16f941989cc03134e8e77a9d",
       "value": "100%"
      }
     },
     "80f452b1dd474c618e4b3d75b3dcfe2b": {
      "model_module": "@jupyter-widgets/base",
      "model_module_version": "1.2.0",
      "model_name": "LayoutModel",
      "state": {}
     },
     "81123e5acf984723bdb2130f4b60b05e": {
      "model_module": "@jupyter-widgets/controls",
      "model_module_version": "1.5.0",
      "model_name": "HBoxModel",
      "state": {
       "children": [
        "IPY_MODEL_783c4732cf70445e8cb8f2237e7e409f",
        "IPY_MODEL_f5476ddb427c4041887648ec61b502f9",
        "IPY_MODEL_4ea79765c82645408c59a1a36270515f"
       ],
       "layout": "IPY_MODEL_da49aaa6f3154695b0b57d9ba99ba3ba"
      }
     },
     "8130c51a86f84b32a484504bb95b9aef": {
      "model_module": "@jupyter-widgets/controls",
      "model_module_version": "1.5.0",
      "model_name": "HTMLModel",
      "state": {
       "layout": "IPY_MODEL_df3edb9cee324ad88062c63b6fe1c800",
       "style": "IPY_MODEL_3756afb04bdc43eeaaf2a11705c89471",
       "value": "100%"
      }
     },
     "8153090dfe9b424aa97265b78327070d": {
      "model_module": "@jupyter-widgets/base",
      "model_module_version": "1.2.0",
      "model_name": "LayoutModel",
      "state": {}
     },
     "8249902c359c4d49b1c7a936fa8d2e98": {
      "model_module": "@jupyter-widgets/controls",
      "model_module_version": "1.5.0",
      "model_name": "FloatProgressModel",
      "state": {
       "bar_style": "success",
       "layout": "IPY_MODEL_9b49a4fbff3e46e58d6b9dab22bf5fe9",
       "max": 5,
       "style": "IPY_MODEL_5f4ff286c6a844a796861f66ead2cb6b",
       "value": 5
      }
     },
     "82782d9a56aa4143bf6e4795bc3241cf": {
      "model_module": "@jupyter-widgets/controls",
      "model_module_version": "1.5.0",
      "model_name": "DescriptionStyleModel",
      "state": {
       "description_width": ""
      }
     },
     "830b3c22ab2042718511ee4c41739688": {
      "model_module": "@jupyter-widgets/controls",
      "model_module_version": "1.5.0",
      "model_name": "DescriptionStyleModel",
      "state": {
       "description_width": ""
      }
     },
     "8343a841cb574357a2b9fa22e69f4562": {
      "model_module": "@jupyter-widgets/controls",
      "model_module_version": "1.5.0",
      "model_name": "DescriptionStyleModel",
      "state": {
       "description_width": ""
      }
     },
     "834f9935908d4b8280be0773ec613afa": {
      "model_module": "@jupyter-widgets/base",
      "model_module_version": "1.2.0",
      "model_name": "LayoutModel",
      "state": {}
     },
     "83affa13183c4ba3b105f82707d9f69b": {
      "model_module": "@jupyter-widgets/controls",
      "model_module_version": "1.5.0",
      "model_name": "FloatProgressModel",
      "state": {
       "bar_style": "success",
       "layout": "IPY_MODEL_e2c5b5c315904a37b04769ab7f0d6ca6",
       "max": 5,
       "style": "IPY_MODEL_5fd09c1019d34f17a5cd3e554a194762",
       "value": 5
      }
     },
     "83e6d09153df4828b94fb37fdd17e647": {
      "model_module": "@jupyter-widgets/controls",
      "model_module_version": "1.5.0",
      "model_name": "HTMLModel",
      "state": {
       "layout": "IPY_MODEL_44b159fad761438486f4c63592fcf29b",
       "style": "IPY_MODEL_4f42a723a61d40608056f1039ff98cf4",
       "value": " 5/5 [00:00&lt;00:00, 23.41it/s]"
      }
     },
     "84290853916f4596b4c85f12b1a42c4f": {
      "model_module": "@jupyter-widgets/base",
      "model_module_version": "1.2.0",
      "model_name": "LayoutModel",
      "state": {}
     },
     "84b2c457ce414bbe8fc75e354e85b32a": {
      "model_module": "@jupyter-widgets/controls",
      "model_module_version": "1.5.0",
      "model_name": "HTMLModel",
      "state": {
       "layout": "IPY_MODEL_8571cf0a535642eca81b61223255d81c",
       "style": "IPY_MODEL_31d267aaf3724dd290a4e0b10cfdc454",
       "value": "100%"
      }
     },
     "8571cf0a535642eca81b61223255d81c": {
      "model_module": "@jupyter-widgets/base",
      "model_module_version": "1.2.0",
      "model_name": "LayoutModel",
      "state": {}
     },
     "85ceb5e0c71542f2936417b78a4081f2": {
      "model_module": "@jupyter-widgets/controls",
      "model_module_version": "1.5.0",
      "model_name": "DescriptionStyleModel",
      "state": {
       "description_width": ""
      }
     },
     "861c8ac5f42d4c79bf44950ddb7e3907": {
      "model_module": "@jupyter-widgets/controls",
      "model_module_version": "1.5.0",
      "model_name": "DescriptionStyleModel",
      "state": {
       "description_width": ""
      }
     },
     "864d6e2d323c42ac99335412715b6354": {
      "model_module": "@jupyter-widgets/controls",
      "model_module_version": "1.5.0",
      "model_name": "ProgressStyleModel",
      "state": {
       "description_width": ""
      }
     },
     "8657fbee038449aaad7d8ff607e5ab73": {
      "model_module": "@jupyter-widgets/controls",
      "model_module_version": "1.5.0",
      "model_name": "HTMLModel",
      "state": {
       "layout": "IPY_MODEL_f1739d40edab40bdb8f54a9fc1be958f",
       "style": "IPY_MODEL_983da2caaa2645b0ac354660d03f088c",
       "value": " 5/5 [00:00&lt;00:00, 18.37it/s]"
      }
     },
     "870acf355b3d4c70a77e720ad45aae32": {
      "model_module": "@jupyter-widgets/controls",
      "model_module_version": "1.5.0",
      "model_name": "HTMLModel",
      "state": {
       "layout": "IPY_MODEL_e845c4608edd4732be31d59d73065b86",
       "style": "IPY_MODEL_cabfe970704841a48451da12c1547c58",
       "value": "100%"
      }
     },
     "87814376bfc045f7bacee0c4e02f9f70": {
      "model_module": "@jupyter-widgets/base",
      "model_module_version": "1.2.0",
      "model_name": "LayoutModel",
      "state": {}
     },
     "8799328cf96e4aa0958627ca733394d0": {
      "model_module": "@jupyter-widgets/base",
      "model_module_version": "1.2.0",
      "model_name": "LayoutModel",
      "state": {}
     },
     "8807274850434473bfddc804647949b3": {
      "model_module": "@jupyter-widgets/base",
      "model_module_version": "1.2.0",
      "model_name": "LayoutModel",
      "state": {}
     },
     "89a33219dbfe4566a28c7b1d3a845c95": {
      "model_module": "@jupyter-widgets/controls",
      "model_module_version": "1.5.0",
      "model_name": "HTMLModel",
      "state": {
       "layout": "IPY_MODEL_38af8c517cb344acbe46cc66ab3506b8",
       "style": "IPY_MODEL_1e1b8a1092964461940901f92e0bba1e",
       "value": " 5/5 [00:01&lt;00:00,  2.96it/s]"
      }
     },
     "89dfcac8c85e41f482667dc31bc7dfe9": {
      "model_module": "@jupyter-widgets/controls",
      "model_module_version": "1.5.0",
      "model_name": "FloatProgressModel",
      "state": {
       "bar_style": "success",
       "layout": "IPY_MODEL_a6b35d5b33b749c49bb63e629efb0cab",
       "max": 5,
       "style": "IPY_MODEL_2e1fe1c522824843b68d369f26909b59",
       "value": 5
      }
     },
     "8ac7a26962c846d6b3ebf817b3cd043f": {
      "model_module": "@jupyter-widgets/base",
      "model_module_version": "1.2.0",
      "model_name": "LayoutModel",
      "state": {}
     },
     "8b353a59d22c40f386f1f91a319db06c": {
      "model_module": "@jupyter-widgets/base",
      "model_module_version": "1.2.0",
      "model_name": "LayoutModel",
      "state": {}
     },
     "8b3ca6bca6e8420b8537813735b747f7": {
      "model_module": "@jupyter-widgets/controls",
      "model_module_version": "1.5.0",
      "model_name": "HTMLModel",
      "state": {
       "layout": "IPY_MODEL_78b5fa2d0ca344669b6584608aa750aa",
       "style": "IPY_MODEL_ddd30815627d4baf84969c52578ad1ae",
       "value": " 5/5 [00:11&lt;00:00,  2.26s/it]"
      }
     },
     "8b9ba16665794ea188a816d49a4da5a8": {
      "model_module": "@jupyter-widgets/controls",
      "model_module_version": "1.5.0",
      "model_name": "FloatProgressModel",
      "state": {
       "bar_style": "success",
       "layout": "IPY_MODEL_d2c79f718863446baa1ecf71bce13a06",
       "max": 5,
       "style": "IPY_MODEL_e043c7f647f24c7b8fa59fd064fa4cd4",
       "value": 5
      }
     },
     "8bbcf4d2d260482d9782a6a0c036d1a5": {
      "model_module": "@jupyter-widgets/controls",
      "model_module_version": "1.5.0",
      "model_name": "DescriptionStyleModel",
      "state": {
       "description_width": ""
      }
     },
     "8bc3124c9e0a49bbbc9cc077b3c88538": {
      "model_module": "@jupyter-widgets/controls",
      "model_module_version": "1.5.0",
      "model_name": "DescriptionStyleModel",
      "state": {
       "description_width": ""
      }
     },
     "8bd5378c80f44827a53d94aaf2695f69": {
      "model_module": "@jupyter-widgets/controls",
      "model_module_version": "1.5.0",
      "model_name": "FloatProgressModel",
      "state": {
       "bar_style": "success",
       "layout": "IPY_MODEL_4b46abbf35a34531b7361ec507dfed08",
       "max": 5,
       "style": "IPY_MODEL_7c5a629e355b41e4932474ffc4773984",
       "value": 5
      }
     },
     "8c57f538a36b4d41a64346d44663ba58": {
      "model_module": "@jupyter-widgets/controls",
      "model_module_version": "1.5.0",
      "model_name": "DescriptionStyleModel",
      "state": {
       "description_width": ""
      }
     },
     "8c91d6da5eaf4fa18f57a47a3e32c378": {
      "model_module": "@jupyter-widgets/base",
      "model_module_version": "1.2.0",
      "model_name": "LayoutModel",
      "state": {}
     },
     "8d522d62640d426a9a9855572390103c": {
      "model_module": "@jupyter-widgets/controls",
      "model_module_version": "1.5.0",
      "model_name": "HTMLModel",
      "state": {
       "layout": "IPY_MODEL_67a547c7cd8d4c52a929ed70e43a007f",
       "style": "IPY_MODEL_13ba37f415844eeba943f485194ebab3",
       "value": "100%"
      }
     },
     "8d78fa8e65e14bea8c94f4d3b956197e": {
      "model_module": "@jupyter-widgets/base",
      "model_module_version": "1.2.0",
      "model_name": "LayoutModel",
      "state": {}
     },
     "8df66e45aaf04fba8d057b615ca955b4": {
      "model_module": "@jupyter-widgets/controls",
      "model_module_version": "1.5.0",
      "model_name": "DescriptionStyleModel",
      "state": {
       "description_width": ""
      }
     },
     "8dffc1a3d8d04b38828b3a3538009edf": {
      "model_module": "@jupyter-widgets/base",
      "model_module_version": "1.2.0",
      "model_name": "LayoutModel",
      "state": {}
     },
     "8e0e48668c464419be3cd692ef3aafd2": {
      "model_module": "@jupyter-widgets/base",
      "model_module_version": "1.2.0",
      "model_name": "LayoutModel",
      "state": {}
     },
     "8e2f63bc7b9343bb92d90cf7806a4f71": {
      "model_module": "@jupyter-widgets/base",
      "model_module_version": "1.2.0",
      "model_name": "LayoutModel",
      "state": {}
     },
     "8f50680351f848ec87f0b4a9238a711a": {
      "model_module": "@jupyter-widgets/controls",
      "model_module_version": "1.5.0",
      "model_name": "HBoxModel",
      "state": {
       "children": [
        "IPY_MODEL_16111eb72f924198bbd4b8a39cbda427",
        "IPY_MODEL_36cdb3cf691c4dd1bc4acd4da31a2587",
        "IPY_MODEL_0f4f8632af0645e1973317bdf096deae"
       ],
       "layout": "IPY_MODEL_cc1442338c634b6d91d06171b75d4afe"
      }
     },
     "900c4ec31f2043428d587668468ca833": {
      "model_module": "@jupyter-widgets/base",
      "model_module_version": "1.2.0",
      "model_name": "LayoutModel",
      "state": {}
     },
     "900f33aed32f486095b8542eb31ebd37": {
      "model_module": "@jupyter-widgets/controls",
      "model_module_version": "1.5.0",
      "model_name": "DescriptionStyleModel",
      "state": {
       "description_width": ""
      }
     },
     "904b1ec2011e41eab4c79b02113e688f": {
      "model_module": "@jupyter-widgets/controls",
      "model_module_version": "1.5.0",
      "model_name": "HTMLModel",
      "state": {
       "layout": "IPY_MODEL_2d603d96116846f9b205a857252bf1de",
       "style": "IPY_MODEL_3981d48f403446e98de852bc4b17d44c",
       "value": "100%"
      }
     },
     "907f92eda3634aae99c8eb66a0a54ab3": {
      "model_module": "@jupyter-widgets/base",
      "model_module_version": "1.2.0",
      "model_name": "LayoutModel",
      "state": {}
     },
     "90a29fded17743f7ae0ba6958d749a47": {
      "model_module": "@jupyter-widgets/base",
      "model_module_version": "1.2.0",
      "model_name": "LayoutModel",
      "state": {}
     },
     "911b035985864535b3e3b421cf6b2daa": {
      "model_module": "@jupyter-widgets/controls",
      "model_module_version": "1.5.0",
      "model_name": "HTMLModel",
      "state": {
       "layout": "IPY_MODEL_84290853916f4596b4c85f12b1a42c4f",
       "style": "IPY_MODEL_4358190d777d4266a9275262771463e1",
       "value": "100%"
      }
     },
     "91ba9afa102a4190a88196db0d5c3545": {
      "model_module": "@jupyter-widgets/controls",
      "model_module_version": "1.5.0",
      "model_name": "DescriptionStyleModel",
      "state": {
       "description_width": ""
      }
     },
     "9210cd3b31424c0ebf082484b23a5d8d": {
      "model_module": "@jupyter-widgets/controls",
      "model_module_version": "1.5.0",
      "model_name": "DescriptionStyleModel",
      "state": {
       "description_width": ""
      }
     },
     "92672f7e0ea54b40b1cd74adeefb0b8b": {
      "model_module": "@jupyter-widgets/controls",
      "model_module_version": "1.5.0",
      "model_name": "ProgressStyleModel",
      "state": {
       "description_width": ""
      }
     },
     "926beb3069bd487c8f552acc2b0bb9f3": {
      "model_module": "@jupyter-widgets/controls",
      "model_module_version": "1.5.0",
      "model_name": "ProgressStyleModel",
      "state": {
       "description_width": ""
      }
     },
     "92d140da06c94d92a36d4e2d88561711": {
      "model_module": "@jupyter-widgets/base",
      "model_module_version": "1.2.0",
      "model_name": "LayoutModel",
      "state": {}
     },
     "9317de789d204bb6b8375c6d118b8669": {
      "model_module": "@jupyter-widgets/controls",
      "model_module_version": "1.5.0",
      "model_name": "DescriptionStyleModel",
      "state": {
       "description_width": ""
      }
     },
     "935a0c2750024584b83aea404d4301c0": {
      "model_module": "@jupyter-widgets/controls",
      "model_module_version": "1.5.0",
      "model_name": "ProgressStyleModel",
      "state": {
       "description_width": ""
      }
     },
     "938304f5273743ae94838a484ea86d6d": {
      "model_module": "@jupyter-widgets/base",
      "model_module_version": "1.2.0",
      "model_name": "LayoutModel",
      "state": {}
     },
     "938b9fd976c140719472aa85d925f312": {
      "model_module": "@jupyter-widgets/controls",
      "model_module_version": "1.5.0",
      "model_name": "DescriptionStyleModel",
      "state": {
       "description_width": ""
      }
     },
     "93c9fe1ebd6e483598ee3b1f25fd1d2a": {
      "model_module": "@jupyter-widgets/controls",
      "model_module_version": "1.5.0",
      "model_name": "HBoxModel",
      "state": {
       "children": [
        "IPY_MODEL_9c36b7dfd15047ef96b6d630e9f4e091",
        "IPY_MODEL_dc4292d1ab3c4b798f5ca7f5f5f1dc8b",
        "IPY_MODEL_de9ba132655040049daa84ecd0802bb2"
       ],
       "layout": "IPY_MODEL_9f81805dfd7540838edd3cbc5cba6386"
      }
     },
     "940d3361bf44497da21eb912b8ccb2e8": {
      "model_module": "@jupyter-widgets/base",
      "model_module_version": "1.2.0",
      "model_name": "LayoutModel",
      "state": {}
     },
     "9426963ca5dc4bb4ad9acf2d6b10b72c": {
      "model_module": "@jupyter-widgets/controls",
      "model_module_version": "1.5.0",
      "model_name": "HBoxModel",
      "state": {
       "children": [
        "IPY_MODEL_e1302454ebb84c459a61cda38f1d46a7",
        "IPY_MODEL_eb6ea44659364ec6850c3d878fee27ef",
        "IPY_MODEL_20824d8c11684515a7450c64fed31e03"
       ],
       "layout": "IPY_MODEL_938304f5273743ae94838a484ea86d6d"
      }
     },
     "9431f1ab7e2348b695cb049f32549260": {
      "model_module": "@jupyter-widgets/base",
      "model_module_version": "1.2.0",
      "model_name": "LayoutModel",
      "state": {}
     },
     "948415ad370a485fb9e8ed7be0a89fe0": {
      "model_module": "@jupyter-widgets/controls",
      "model_module_version": "1.5.0",
      "model_name": "HBoxModel",
      "state": {
       "children": [
        "IPY_MODEL_1d3d7101007d42f896263d3855b7f101",
        "IPY_MODEL_f8ed33a14a7f4594af51edc636869aa3",
        "IPY_MODEL_b6dc79e901c34d23a64e5476db03998b"
       ],
       "layout": "IPY_MODEL_5330ebcc827449e188d12322bb331b93"
      }
     },
     "95545a3016d54dcd9da9781d9974da66": {
      "model_module": "@jupyter-widgets/controls",
      "model_module_version": "1.5.0",
      "model_name": "ProgressStyleModel",
      "state": {
       "description_width": ""
      }
     },
     "95b5b424341b4ca99ddad5a8a4efe3a0": {
      "model_module": "@jupyter-widgets/controls",
      "model_module_version": "1.5.0",
      "model_name": "DescriptionStyleModel",
      "state": {
       "description_width": ""
      }
     },
     "9606087c9983413c8f92cbb1f33f8868": {
      "model_module": "@jupyter-widgets/controls",
      "model_module_version": "1.5.0",
      "model_name": "DescriptionStyleModel",
      "state": {
       "description_width": ""
      }
     },
     "96a98002f7854bec8cde83f8a7d7574a": {
      "model_module": "@jupyter-widgets/base",
      "model_module_version": "1.2.0",
      "model_name": "LayoutModel",
      "state": {}
     },
     "96e94adcf2a14605960a2e9cda5eeb3c": {
      "model_module": "@jupyter-widgets/controls",
      "model_module_version": "1.5.0",
      "model_name": "HBoxModel",
      "state": {
       "children": [
        "IPY_MODEL_1a79786938ca4893b87ebbf3de88b867",
        "IPY_MODEL_d3eb81c7c4334719a938ce88e3e87aec",
        "IPY_MODEL_1d54380242354b16b54670812568cb2a"
       ],
       "layout": "IPY_MODEL_b3bb238620cc4a5e907bb46fe3210344"
      }
     },
     "97dc2dcbb5414613927493f6da74715c": {
      "model_module": "@jupyter-widgets/base",
      "model_module_version": "1.2.0",
      "model_name": "LayoutModel",
      "state": {}
     },
     "983da2caaa2645b0ac354660d03f088c": {
      "model_module": "@jupyter-widgets/controls",
      "model_module_version": "1.5.0",
      "model_name": "DescriptionStyleModel",
      "state": {
       "description_width": ""
      }
     },
     "99567a9590d34d058474a4bad2ecb17d": {
      "model_module": "@jupyter-widgets/controls",
      "model_module_version": "1.5.0",
      "model_name": "DescriptionStyleModel",
      "state": {
       "description_width": ""
      }
     },
     "99fab5572e0c4ea886cdb896521c7d7f": {
      "model_module": "@jupyter-widgets/base",
      "model_module_version": "1.2.0",
      "model_name": "LayoutModel",
      "state": {}
     },
     "9a028d19528546d0ae63d849e7eb2a12": {
      "model_module": "@jupyter-widgets/base",
      "model_module_version": "1.2.0",
      "model_name": "LayoutModel",
      "state": {}
     },
     "9aa31e2b7e674ddb9a23fd4e83b0f8c4": {
      "model_module": "@jupyter-widgets/base",
      "model_module_version": "1.2.0",
      "model_name": "LayoutModel",
      "state": {}
     },
     "9aa8c83ba17446a59b1851cbc359df3c": {
      "model_module": "@jupyter-widgets/base",
      "model_module_version": "1.2.0",
      "model_name": "LayoutModel",
      "state": {}
     },
     "9ac5d7feb796452bb8a6212ae04208c8": {
      "model_module": "@jupyter-widgets/controls",
      "model_module_version": "1.5.0",
      "model_name": "HTMLModel",
      "state": {
       "layout": "IPY_MODEL_6c2eb05effe94f378ab269fe8f7cb2c1",
       "style": "IPY_MODEL_2b55dd4fb6a24a55966d493fc6fb790c",
       "value": " 5/5 [00:09&lt;00:00,  1.87s/it]"
      }
     },
     "9b0d6025fdf241b494835c579a8145ad": {
      "model_module": "@jupyter-widgets/base",
      "model_module_version": "1.2.0",
      "model_name": "LayoutModel",
      "state": {}
     },
     "9b49a4fbff3e46e58d6b9dab22bf5fe9": {
      "model_module": "@jupyter-widgets/base",
      "model_module_version": "1.2.0",
      "model_name": "LayoutModel",
      "state": {}
     },
     "9beba9c173fe4471b489b00f83893fae": {
      "model_module": "@jupyter-widgets/base",
      "model_module_version": "1.2.0",
      "model_name": "LayoutModel",
      "state": {}
     },
     "9c36b7dfd15047ef96b6d630e9f4e091": {
      "model_module": "@jupyter-widgets/controls",
      "model_module_version": "1.5.0",
      "model_name": "HTMLModel",
      "state": {
       "layout": "IPY_MODEL_8ac7a26962c846d6b3ebf817b3cd043f",
       "style": "IPY_MODEL_aaf5a351e5a14947b7dcd690f765a179",
       "value": "100%"
      }
     },
     "9cba203b1ea24b729a6f28930ef3a541": {
      "model_module": "@jupyter-widgets/base",
      "model_module_version": "1.2.0",
      "model_name": "LayoutModel",
      "state": {}
     },
     "9cc48597185a4c22894a6ead71b4b7c2": {
      "model_module": "@jupyter-widgets/controls",
      "model_module_version": "1.5.0",
      "model_name": "HBoxModel",
      "state": {
       "children": [
        "IPY_MODEL_6960d9889c864ca3a30f29092d38bbbf",
        "IPY_MODEL_6216f6051ced42309566aebea4ee9730",
        "IPY_MODEL_89a33219dbfe4566a28c7b1d3a845c95"
       ],
       "layout": "IPY_MODEL_cffe79f53696487bb2ae11800178f6b0"
      }
     },
     "9d104daec7ae4ed9945a677328877d74": {
      "model_module": "@jupyter-widgets/base",
      "model_module_version": "1.2.0",
      "model_name": "LayoutModel",
      "state": {}
     },
     "9d37d2b88dab402f879a9634817eeb9b": {
      "model_module": "@jupyter-widgets/base",
      "model_module_version": "1.2.0",
      "model_name": "LayoutModel",
      "state": {}
     },
     "9d7be326202849d88a057e68db8be1e0": {
      "model_module": "@jupyter-widgets/controls",
      "model_module_version": "1.5.0",
      "model_name": "HTMLModel",
      "state": {
       "layout": "IPY_MODEL_1d0c840dd8e940069d2278fdffdac574",
       "style": "IPY_MODEL_7d66a7401f144232a061cff0423bbe88",
       "value": "100%"
      }
     },
     "9dc243bf48f34bc3856bcc3e1553eb10": {
      "model_module": "@jupyter-widgets/controls",
      "model_module_version": "1.5.0",
      "model_name": "ProgressStyleModel",
      "state": {
       "description_width": ""
      }
     },
     "9dc76d6adf35414fbfbee2c189986924": {
      "model_module": "@jupyter-widgets/base",
      "model_module_version": "1.2.0",
      "model_name": "LayoutModel",
      "state": {}
     },
     "9e45b9ca8f9149f6a5b641c2763932b5": {
      "model_module": "@jupyter-widgets/controls",
      "model_module_version": "1.5.0",
      "model_name": "DescriptionStyleModel",
      "state": {
       "description_width": ""
      }
     },
     "9ebeae9662d6489096c8a076ad62d9f1": {
      "model_module": "@jupyter-widgets/controls",
      "model_module_version": "1.5.0",
      "model_name": "HBoxModel",
      "state": {
       "children": [
        "IPY_MODEL_71824f53c2bc4ae39dfdfe6c6621de7e",
        "IPY_MODEL_1aa9560dda59475a8c2f750ee8ed927f",
        "IPY_MODEL_202a651d77c64e0cbe33fb2d580d973e"
       ],
       "layout": "IPY_MODEL_c004ff77b2b2478d8cdc80ec21d6c155"
      }
     },
     "9f63ea93bd13410f9be7a826afc09f84": {
      "model_module": "@jupyter-widgets/base",
      "model_module_version": "1.2.0",
      "model_name": "LayoutModel",
      "state": {}
     },
     "9f81805dfd7540838edd3cbc5cba6386": {
      "model_module": "@jupyter-widgets/base",
      "model_module_version": "1.2.0",
      "model_name": "LayoutModel",
      "state": {}
     },
     "9faec65d40b447fea66d5d21adcb4b4d": {
      "model_module": "@jupyter-widgets/controls",
      "model_module_version": "1.5.0",
      "model_name": "FloatProgressModel",
      "state": {
       "bar_style": "success",
       "layout": "IPY_MODEL_0d3a5bc7034646158d6f7e903e51f74c",
       "max": 5,
       "style": "IPY_MODEL_fcb7f80d6fd241be9f6b1f260559bed0",
       "value": 5
      }
     },
     "9fcf3bb53ecf4b47af9f22de6797577f": {
      "model_module": "@jupyter-widgets/base",
      "model_module_version": "1.2.0",
      "model_name": "LayoutModel",
      "state": {}
     },
     "a002c562b015459ba99e27802d14290c": {
      "model_module": "@jupyter-widgets/controls",
      "model_module_version": "1.5.0",
      "model_name": "HBoxModel",
      "state": {
       "children": [
        "IPY_MODEL_3ac216379ee148ecac44ed1a97bf81d0",
        "IPY_MODEL_f4550b1f77744b7688a97f3ec0b4de6b",
        "IPY_MODEL_0e832d5b1073447a93a35dbbc25452a9"
       ],
       "layout": "IPY_MODEL_8d78fa8e65e14bea8c94f4d3b956197e"
      }
     },
     "a03ff533ab79480897ef7a315c49497f": {
      "model_module": "@jupyter-widgets/base",
      "model_module_version": "1.2.0",
      "model_name": "LayoutModel",
      "state": {}
     },
     "a0663be579a643b2bdbdcd98ea08a7a4": {
      "model_module": "@jupyter-widgets/controls",
      "model_module_version": "1.5.0",
      "model_name": "FloatProgressModel",
      "state": {
       "bar_style": "success",
       "layout": "IPY_MODEL_d50b5b701fb74690b424eb2ce7213af4",
       "max": 5,
       "style": "IPY_MODEL_cddf757b347447fdac42f77c66049b05",
       "value": 5
      }
     },
     "a0f7c53fb61c4c74a6ac082e043c89ec": {
      "model_module": "@jupyter-widgets/base",
      "model_module_version": "1.2.0",
      "model_name": "LayoutModel",
      "state": {}
     },
     "a1eff9c94f7749e192420ce7c6a68d2b": {
      "model_module": "@jupyter-widgets/controls",
      "model_module_version": "1.5.0",
      "model_name": "HTMLModel",
      "state": {
       "layout": "IPY_MODEL_8799328cf96e4aa0958627ca733394d0",
       "style": "IPY_MODEL_e84d285b3fd748d9bb7f8f39999dbfe7",
       "value": "100%"
      }
     },
     "a1fe5da69e50418da34d5e63ec224ce1": {
      "model_module": "@jupyter-widgets/controls",
      "model_module_version": "1.5.0",
      "model_name": "DescriptionStyleModel",
      "state": {
       "description_width": ""
      }
     },
     "a22adf622cd84d41a1112b2f11dab72c": {
      "model_module": "@jupyter-widgets/base",
      "model_module_version": "1.2.0",
      "model_name": "LayoutModel",
      "state": {}
     },
     "a26e2f30123145268d8fb871410e2508": {
      "model_module": "@jupyter-widgets/controls",
      "model_module_version": "1.5.0",
      "model_name": "HBoxModel",
      "state": {
       "children": [
        "IPY_MODEL_e7dace039a6149d298ddcabfb79020db",
        "IPY_MODEL_d54ee793cea1414cbab93a7ffea596a3",
        "IPY_MODEL_6987ba00a8be4c3e9c3087683aeb1158"
       ],
       "layout": "IPY_MODEL_3659f61d6989428dac15b710c8a28ac8"
      }
     },
     "a2bd217bd1914596aa47388928cd829c": {
      "model_module": "@jupyter-widgets/controls",
      "model_module_version": "1.5.0",
      "model_name": "HTMLModel",
      "state": {
       "layout": "IPY_MODEL_6616302ee9d6451e97b044c410e7d281",
       "style": "IPY_MODEL_ee5e77cb7cdd49819198434bb8a2d94a",
       "value": " 5/5 [00:11&lt;00:00,  2.43s/it]"
      }
     },
     "a2e3ddf9cd144acd9be98c0811be84df": {
      "model_module": "@jupyter-widgets/base",
      "model_module_version": "1.2.0",
      "model_name": "LayoutModel",
      "state": {}
     },
     "a35d5aef6833491cb57b128d1da7eb8e": {
      "model_module": "@jupyter-widgets/controls",
      "model_module_version": "1.5.0",
      "model_name": "ProgressStyleModel",
      "state": {
       "description_width": ""
      }
     },
     "a42e0276bb3342efa1fe98bf2d5e0dc4": {
      "model_module": "@jupyter-widgets/controls",
      "model_module_version": "1.5.0",
      "model_name": "HTMLModel",
      "state": {
       "layout": "IPY_MODEL_582cd604b7a14b49ae8b209c9bac215d",
       "style": "IPY_MODEL_f5f9d80721be464faac5bd1452c6fc62",
       "value": " 5/5 [00:09&lt;00:00,  1.87s/it]"
      }
     },
     "a4afe4d57c48451598371da650e75ee4": {
      "model_module": "@jupyter-widgets/controls",
      "model_module_version": "1.5.0",
      "model_name": "DescriptionStyleModel",
      "state": {
       "description_width": ""
      }
     },
     "a4dea1aaa5f0453594703ee05b51ecb9": {
      "model_module": "@jupyter-widgets/controls",
      "model_module_version": "1.5.0",
      "model_name": "DescriptionStyleModel",
      "state": {
       "description_width": ""
      }
     },
     "a509bc5d567449298c94b543ce475be9": {
      "model_module": "@jupyter-widgets/controls",
      "model_module_version": "1.5.0",
      "model_name": "FloatProgressModel",
      "state": {
       "bar_style": "success",
       "layout": "IPY_MODEL_bbcd6c199be2421a8a350d65391a21fe",
       "max": 5,
       "style": "IPY_MODEL_6b34f29f0b724d00ba042658a6f358cd",
       "value": 5
      }
     },
     "a5172f0ac5214274991849cae648a84f": {
      "model_module": "@jupyter-widgets/controls",
      "model_module_version": "1.5.0",
      "model_name": "DescriptionStyleModel",
      "state": {
       "description_width": ""
      }
     },
     "a5cd1bbc817a4c759b57d497338e1856": {
      "model_module": "@jupyter-widgets/controls",
      "model_module_version": "1.5.0",
      "model_name": "HBoxModel",
      "state": {
       "children": [
        "IPY_MODEL_f9310da4688946f59026a2a02be11f30",
        "IPY_MODEL_5e53be13a1994a2c92e12074dbce2850",
        "IPY_MODEL_35498775cf7b403691be656e5d6e5c7b"
       ],
       "layout": "IPY_MODEL_5a093a7b6f364ee9bcccaf1c601554aa"
      }
     },
     "a638dcc657554b7e90c46fcb8c8db99e": {
      "model_module": "@jupyter-widgets/base",
      "model_module_version": "1.2.0",
      "model_name": "LayoutModel",
      "state": {}
     },
     "a6b35d5b33b749c49bb63e629efb0cab": {
      "model_module": "@jupyter-widgets/base",
      "model_module_version": "1.2.0",
      "model_name": "LayoutModel",
      "state": {}
     },
     "a6ded8788c5741e4917e3a22830129e9": {
      "model_module": "@jupyter-widgets/base",
      "model_module_version": "1.2.0",
      "model_name": "LayoutModel",
      "state": {}
     },
     "a77edf360eb642548ba1a7e6cdf472c8": {
      "model_module": "@jupyter-widgets/controls",
      "model_module_version": "1.5.0",
      "model_name": "ProgressStyleModel",
      "state": {
       "description_width": ""
      }
     },
     "a7927961f0114904b481dabaf8c6087c": {
      "model_module": "@jupyter-widgets/controls",
      "model_module_version": "1.5.0",
      "model_name": "HTMLModel",
      "state": {
       "layout": "IPY_MODEL_76590dca72034224a2e5b929bcf5f3a0",
       "style": "IPY_MODEL_e02803a63791403e88fad119c016e951",
       "value": "100%"
      }
     },
     "a8064a4ab75440768defc24fa14978e9": {
      "model_module": "@jupyter-widgets/controls",
      "model_module_version": "1.5.0",
      "model_name": "ProgressStyleModel",
      "state": {
       "description_width": ""
      }
     },
     "a8d56526a1534456ad4637163d860bb8": {
      "model_module": "@jupyter-widgets/controls",
      "model_module_version": "1.5.0",
      "model_name": "ProgressStyleModel",
      "state": {
       "description_width": ""
      }
     },
     "a915715a4846424f8a993e017bd71717": {
      "model_module": "@jupyter-widgets/controls",
      "model_module_version": "1.5.0",
      "model_name": "HBoxModel",
      "state": {
       "children": [
        "IPY_MODEL_427aa60440f645b395fed2f9f11fb2c8",
        "IPY_MODEL_31669b91dad04595b2db3337d09b9f62",
        "IPY_MODEL_c906141d79284ee2990674aa0f3401c1"
       ],
       "layout": "IPY_MODEL_a9475a96d67d4a7cb72711f4a8c21cb5"
      }
     },
     "a9197ce5a37c42318d27b131bd524cec": {
      "model_module": "@jupyter-widgets/base",
      "model_module_version": "1.2.0",
      "model_name": "LayoutModel",
      "state": {}
     },
     "a9475a96d67d4a7cb72711f4a8c21cb5": {
      "model_module": "@jupyter-widgets/base",
      "model_module_version": "1.2.0",
      "model_name": "LayoutModel",
      "state": {}
     },
     "a9690a25cf604d6f86e3995ddeb37718": {
      "model_module": "@jupyter-widgets/controls",
      "model_module_version": "1.5.0",
      "model_name": "HTMLModel",
      "state": {
       "layout": "IPY_MODEL_d6f33ead20ad4d4ca3810aa477ff5c96",
       "style": "IPY_MODEL_24793cf877b44b22b56e9481fad05d34",
       "value": " 5/5 [00:09&lt;00:00,  1.83s/it]"
      }
     },
     "a970cfcc2a454ed2addedad514edc99c": {
      "model_module": "@jupyter-widgets/base",
      "model_module_version": "1.2.0",
      "model_name": "LayoutModel",
      "state": {}
     },
     "a98d7f7100ad4fda876529fc03010827": {
      "model_module": "@jupyter-widgets/controls",
      "model_module_version": "1.5.0",
      "model_name": "HTMLModel",
      "state": {
       "layout": "IPY_MODEL_1d2eaf33fa7a4ae9989f3b125a211fba",
       "style": "IPY_MODEL_664d7696a00745e6ae5bdbff42a20618",
       "value": "100%"
      }
     },
     "aa09ed3bcdd149be932b322a62411839": {
      "model_module": "@jupyter-widgets/controls",
      "model_module_version": "1.5.0",
      "model_name": "ProgressStyleModel",
      "state": {
       "description_width": ""
      }
     },
     "aa2701fe58a64b57819eb5c4726af88d": {
      "model_module": "@jupyter-widgets/base",
      "model_module_version": "1.2.0",
      "model_name": "LayoutModel",
      "state": {}
     },
     "aaeb38fab3b246979ccd65104207a4fb": {
      "model_module": "@jupyter-widgets/controls",
      "model_module_version": "1.5.0",
      "model_name": "DescriptionStyleModel",
      "state": {
       "description_width": ""
      }
     },
     "aaf5a351e5a14947b7dcd690f765a179": {
      "model_module": "@jupyter-widgets/controls",
      "model_module_version": "1.5.0",
      "model_name": "DescriptionStyleModel",
      "state": {
       "description_width": ""
      }
     },
     "ac3932340eb94b3b8d90741a4db6422d": {
      "model_module": "@jupyter-widgets/controls",
      "model_module_version": "1.5.0",
      "model_name": "HTMLModel",
      "state": {
       "layout": "IPY_MODEL_75a1711f11bb4f9a932d37cf110d7c11",
       "style": "IPY_MODEL_95b5b424341b4ca99ddad5a8a4efe3a0",
       "value": " 5/5 [00:10&lt;00:00,  2.06s/it]"
      }
     },
     "ac7beab483674991b67311de5911854f": {
      "model_module": "@jupyter-widgets/base",
      "model_module_version": "1.2.0",
      "model_name": "LayoutModel",
      "state": {}
     },
     "adda2a06f09645a580beb7f7b2a50529": {
      "model_module": "@jupyter-widgets/base",
      "model_module_version": "1.2.0",
      "model_name": "LayoutModel",
      "state": {}
     },
     "ae7144e2a95e48cdab5313b6bff71a50": {
      "model_module": "@jupyter-widgets/base",
      "model_module_version": "1.2.0",
      "model_name": "LayoutModel",
      "state": {}
     },
     "ae83c83154be4f06b374404b83c82b61": {
      "model_module": "@jupyter-widgets/controls",
      "model_module_version": "1.5.0",
      "model_name": "HTMLModel",
      "state": {
       "layout": "IPY_MODEL_ca2d98264ff44b43a3e22a72d38afa42",
       "style": "IPY_MODEL_79e6e53f33444605beda254ab8f0f120",
       "value": " 5/5 [00:04&lt;00:00,  1.23it/s]"
      }
     },
     "aeb1958c398c467ebf2230385e4ce8b0": {
      "model_module": "@jupyter-widgets/base",
      "model_module_version": "1.2.0",
      "model_name": "LayoutModel",
      "state": {}
     },
     "af1669f3f1f744ea85d502014a231d19": {
      "model_module": "@jupyter-widgets/base",
      "model_module_version": "1.2.0",
      "model_name": "LayoutModel",
      "state": {}
     },
     "af55c2a218f04f498d8f459ae292cc8b": {
      "model_module": "@jupyter-widgets/controls",
      "model_module_version": "1.5.0",
      "model_name": "HTMLModel",
      "state": {
       "layout": "IPY_MODEL_69a03547e104422bb969077190088aac",
       "style": "IPY_MODEL_f84d256b544b443eb644e062940d5a8d",
       "value": " 5/5 [00:15&lt;00:00,  3.14s/it]"
      }
     },
     "af7650bd0b1d4960b6a2468bdc859b67": {
      "model_module": "@jupyter-widgets/controls",
      "model_module_version": "1.5.0",
      "model_name": "HTMLModel",
      "state": {
       "layout": "IPY_MODEL_7d2a6af4fbd444c7bf5145fc7957fd96",
       "style": "IPY_MODEL_e14d41cdbb334733bfd749cc9c3e19e2",
       "value": "100%"
      }
     },
     "b07df9db512b4ec494c55a20d17346aa": {
      "model_module": "@jupyter-widgets/controls",
      "model_module_version": "1.5.0",
      "model_name": "HTMLModel",
      "state": {
       "layout": "IPY_MODEL_9dc76d6adf35414fbfbee2c189986924",
       "style": "IPY_MODEL_705a549e854c4ebfa33fe81610be2e20",
       "value": "100%"
      }
     },
     "b0a433e87793419f9e3f59d36276bf9d": {
      "model_module": "@jupyter-widgets/controls",
      "model_module_version": "1.5.0",
      "model_name": "HTMLModel",
      "state": {
       "layout": "IPY_MODEL_d8981dde76494f94945ad1253c05a36b",
       "style": "IPY_MODEL_5a31162b2469446e81cd3503c8ce9fef",
       "value": "100%"
      }
     },
     "b0b144cb76e64151be7fc6451a12338b": {
      "model_module": "@jupyter-widgets/controls",
      "model_module_version": "1.5.0",
      "model_name": "FloatProgressModel",
      "state": {
       "bar_style": "success",
       "layout": "IPY_MODEL_3f9b9727b6604ee2890075c5f37d649b",
       "max": 5,
       "style": "IPY_MODEL_471dd68d41c141eba73e7d2176f118c8",
       "value": 5
      }
     },
     "b15d4bc7582b46c68b9568a843aa7555": {
      "model_module": "@jupyter-widgets/controls",
      "model_module_version": "1.5.0",
      "model_name": "FloatProgressModel",
      "state": {
       "bar_style": "success",
       "layout": "IPY_MODEL_b855518cc9e340028aeff84bf543df4d",
       "max": 5,
       "style": "IPY_MODEL_5ea2ccdd48db4dadb968c072a0a2f71c",
       "value": 5
      }
     },
     "b2758553bd9447f1b741803a8f0e103a": {
      "model_module": "@jupyter-widgets/base",
      "model_module_version": "1.2.0",
      "model_name": "LayoutModel",
      "state": {}
     },
     "b2c1e29bb44e4343a50c25a906e73372": {
      "model_module": "@jupyter-widgets/base",
      "model_module_version": "1.2.0",
      "model_name": "LayoutModel",
      "state": {}
     },
     "b2ccb4e66caf459b8509ed901dafb177": {
      "model_module": "@jupyter-widgets/base",
      "model_module_version": "1.2.0",
      "model_name": "LayoutModel",
      "state": {}
     },
     "b33df1547f0d4ec89c67f309f73c3b43": {
      "model_module": "@jupyter-widgets/base",
      "model_module_version": "1.2.0",
      "model_name": "LayoutModel",
      "state": {}
     },
     "b347f874e4eb40ddbe5ccd3527bc0899": {
      "model_module": "@jupyter-widgets/controls",
      "model_module_version": "1.5.0",
      "model_name": "HTMLModel",
      "state": {
       "layout": "IPY_MODEL_99fab5572e0c4ea886cdb896521c7d7f",
       "style": "IPY_MODEL_d85e747350b94c33bee65ec7b66ac91e",
       "value": "100%"
      }
     },
     "b380aad28bdb443a9dcc608ec5784182": {
      "model_module": "@jupyter-widgets/controls",
      "model_module_version": "1.5.0",
      "model_name": "DescriptionStyleModel",
      "state": {
       "description_width": ""
      }
     },
     "b3bb238620cc4a5e907bb46fe3210344": {
      "model_module": "@jupyter-widgets/base",
      "model_module_version": "1.2.0",
      "model_name": "LayoutModel",
      "state": {}
     },
     "b3e72542ce4b4f39bc957b933fc53a15": {
      "model_module": "@jupyter-widgets/base",
      "model_module_version": "1.2.0",
      "model_name": "LayoutModel",
      "state": {}
     },
     "b4172b90412240688ff1a6be698a119e": {
      "model_module": "@jupyter-widgets/controls",
      "model_module_version": "1.5.0",
      "model_name": "FloatProgressModel",
      "state": {
       "bar_style": "success",
       "layout": "IPY_MODEL_7fff985c65ab4ce99e56b41c3f084ebb",
       "max": 5,
       "style": "IPY_MODEL_07139199fb7945d2aafe78f436ec830e",
       "value": 5
      }
     },
     "b42d2988d31a4947a17ff2f1cffd16f1": {
      "model_module": "@jupyter-widgets/controls",
      "model_module_version": "1.5.0",
      "model_name": "DescriptionStyleModel",
      "state": {
       "description_width": ""
      }
     },
     "b5957e0ac34e4a64abda5bdf2deafcf4": {
      "model_module": "@jupyter-widgets/controls",
      "model_module_version": "1.5.0",
      "model_name": "ProgressStyleModel",
      "state": {
       "description_width": ""
      }
     },
     "b5e0c8355ba04c84bd3d13f79bdaa9a3": {
      "model_module": "@jupyter-widgets/base",
      "model_module_version": "1.2.0",
      "model_name": "LayoutModel",
      "state": {}
     },
     "b5fd02f3856c450abb42e5f395ad2bd7": {
      "model_module": "@jupyter-widgets/controls",
      "model_module_version": "1.5.0",
      "model_name": "HTMLModel",
      "state": {
       "layout": "IPY_MODEL_72c6bc8720ed478fbb4449b2e6fb40f3",
       "style": "IPY_MODEL_dedd7a58d1da47a09e88393d9af41054",
       "value": " 5/5 [00:14&lt;00:00,  2.82s/it]"
      }
     },
     "b6dc79e901c34d23a64e5476db03998b": {
      "model_module": "@jupyter-widgets/controls",
      "model_module_version": "1.5.0",
      "model_name": "HTMLModel",
      "state": {
       "layout": "IPY_MODEL_17dd699e69eb4602971eeee8f2c6b1f4",
       "style": "IPY_MODEL_33b842df9c1a40eb8f85f3bec6d66386",
       "value": " 5/5 [00:11&lt;00:00,  2.43s/it]"
      }
     },
     "b6eaf5d256d745a2aea9fa7e19813d7c": {
      "model_module": "@jupyter-widgets/controls",
      "model_module_version": "1.5.0",
      "model_name": "DescriptionStyleModel",
      "state": {
       "description_width": ""
      }
     },
     "b713a66143ec49feb9663b2510e26ebb": {
      "model_module": "@jupyter-widgets/base",
      "model_module_version": "1.2.0",
      "model_name": "LayoutModel",
      "state": {}
     },
     "b718ceaac2cf4bfe837221586ba834a7": {
      "model_module": "@jupyter-widgets/controls",
      "model_module_version": "1.5.0",
      "model_name": "HTMLModel",
      "state": {
       "layout": "IPY_MODEL_56b758c6dc7a4659b2faf2ddc7c4e1ed",
       "style": "IPY_MODEL_8343a841cb574357a2b9fa22e69f4562",
       "value": " 5/5 [00:09&lt;00:00,  2.00s/it]"
      }
     },
     "b748d3e897ba4226986c9e275cbd941b": {
      "model_module": "@jupyter-widgets/controls",
      "model_module_version": "1.5.0",
      "model_name": "FloatProgressModel",
      "state": {
       "bar_style": "success",
       "layout": "IPY_MODEL_c9570acfdae64cc9a15ba68bf45ee077",
       "max": 5,
       "style": "IPY_MODEL_ffd5451ed6c34fb89b813f627ca13f54",
       "value": 5
      }
     },
     "b855518cc9e340028aeff84bf543df4d": {
      "model_module": "@jupyter-widgets/base",
      "model_module_version": "1.2.0",
      "model_name": "LayoutModel",
      "state": {}
     },
     "b8ef4f2a21fd41e5805d62702b6df799": {
      "model_module": "@jupyter-widgets/controls",
      "model_module_version": "1.5.0",
      "model_name": "DescriptionStyleModel",
      "state": {
       "description_width": ""
      }
     },
     "b8f77e7e4aae41548185e42b88d8876d": {
      "model_module": "@jupyter-widgets/base",
      "model_module_version": "1.2.0",
      "model_name": "LayoutModel",
      "state": {}
     },
     "b922c17b16f941989cc03134e8e77a9d": {
      "model_module": "@jupyter-widgets/controls",
      "model_module_version": "1.5.0",
      "model_name": "DescriptionStyleModel",
      "state": {
       "description_width": ""
      }
     },
     "b95e7264fb4b4d35b23d15d20956d076": {
      "model_module": "@jupyter-widgets/base",
      "model_module_version": "1.2.0",
      "model_name": "LayoutModel",
      "state": {}
     },
     "bad2cdcf016940079e4518e9b66c6c24": {
      "model_module": "@jupyter-widgets/base",
      "model_module_version": "1.2.0",
      "model_name": "LayoutModel",
      "state": {}
     },
     "bbbed413937e42f193e89ff8979f5028": {
      "model_module": "@jupyter-widgets/controls",
      "model_module_version": "1.5.0",
      "model_name": "HTMLModel",
      "state": {
       "layout": "IPY_MODEL_e35940adaa6544c88114330b21617c42",
       "style": "IPY_MODEL_4658e786c1314e698d1b656973d53db4",
       "value": " 5/5 [00:09&lt;00:00,  1.95s/it]"
      }
     },
     "bbcd6c199be2421a8a350d65391a21fe": {
      "model_module": "@jupyter-widgets/base",
      "model_module_version": "1.2.0",
      "model_name": "LayoutModel",
      "state": {}
     },
     "bbf4ff99f136421486447a94f78176ac": {
      "model_module": "@jupyter-widgets/controls",
      "model_module_version": "1.5.0",
      "model_name": "DescriptionStyleModel",
      "state": {
       "description_width": ""
      }
     },
     "bc2d778f6a3f4b308090a6448af4e114": {
      "model_module": "@jupyter-widgets/base",
      "model_module_version": "1.2.0",
      "model_name": "LayoutModel",
      "state": {}
     },
     "bc385f727a2943eebb7a4db662605c07": {
      "model_module": "@jupyter-widgets/controls",
      "model_module_version": "1.5.0",
      "model_name": "HTMLModel",
      "state": {
       "layout": "IPY_MODEL_dde550a572004b97b52a04118b19ee13",
       "style": "IPY_MODEL_359de4cf17d144918ed7142d362114e7",
       "value": "100%"
      }
     },
     "bc9c7d9a79894d8ca8468fac25704db1": {
      "model_module": "@jupyter-widgets/controls",
      "model_module_version": "1.5.0",
      "model_name": "ProgressStyleModel",
      "state": {
       "description_width": ""
      }
     },
     "bd42253f8126457daad0b4ee39792f6f": {
      "model_module": "@jupyter-widgets/controls",
      "model_module_version": "1.5.0",
      "model_name": "HBoxModel",
      "state": {
       "children": [
        "IPY_MODEL_4f60f8e37e0d4c368a2153a5bf8032a4",
        "IPY_MODEL_57f75059f1a14a0c86a6d87f07c6b40e",
        "IPY_MODEL_76a620a0d9834dbf94934f116a673268"
       ],
       "layout": "IPY_MODEL_5c1ac9c83e9f47759bbd65efaf4ba2c4"
      }
     },
     "bd574390785f4f5293f4fd03eb18f516": {
      "model_module": "@jupyter-widgets/controls",
      "model_module_version": "1.5.0",
      "model_name": "DescriptionStyleModel",
      "state": {
       "description_width": ""
      }
     },
     "bd832efcd40242dc83ab9d35f0943af8": {
      "model_module": "@jupyter-widgets/controls",
      "model_module_version": "1.5.0",
      "model_name": "ProgressStyleModel",
      "state": {
       "description_width": ""
      }
     },
     "be0e028beb9c4dd0833050bad62dd80e": {
      "model_module": "@jupyter-widgets/base",
      "model_module_version": "1.2.0",
      "model_name": "LayoutModel",
      "state": {}
     },
     "be655f845ea9429fb4e225a6124b1977": {
      "model_module": "@jupyter-widgets/controls",
      "model_module_version": "1.5.0",
      "model_name": "DescriptionStyleModel",
      "state": {
       "description_width": ""
      }
     },
     "be7acd8e733e4d7a9f0469ef4e5064d4": {
      "model_module": "@jupyter-widgets/base",
      "model_module_version": "1.2.0",
      "model_name": "LayoutModel",
      "state": {}
     },
     "be8d4bc0dea74ce4bf158178c6dd27ff": {
      "model_module": "@jupyter-widgets/base",
      "model_module_version": "1.2.0",
      "model_name": "LayoutModel",
      "state": {}
     },
     "be9d28939e9e434e982935d215c9d5d3": {
      "model_module": "@jupyter-widgets/controls",
      "model_module_version": "1.5.0",
      "model_name": "FloatProgressModel",
      "state": {
       "bar_style": "success",
       "layout": "IPY_MODEL_2d247ed1e2d440578886a97b3889f942",
       "max": 5,
       "style": "IPY_MODEL_cc2acc05ba17455dafbeb1001dc63573",
       "value": 5
      }
     },
     "bf7d278d394d4353b855880e6fbc1de0": {
      "model_module": "@jupyter-widgets/base",
      "model_module_version": "1.2.0",
      "model_name": "LayoutModel",
      "state": {}
     },
     "bfb39b71bcdf4b22b16e8b6169b69108": {
      "model_module": "@jupyter-widgets/base",
      "model_module_version": "1.2.0",
      "model_name": "LayoutModel",
      "state": {}
     },
     "c004ff77b2b2478d8cdc80ec21d6c155": {
      "model_module": "@jupyter-widgets/base",
      "model_module_version": "1.2.0",
      "model_name": "LayoutModel",
      "state": {}
     },
     "c026b0b8b28c4150be00f2ccb7291bd0": {
      "model_module": "@jupyter-widgets/controls",
      "model_module_version": "1.5.0",
      "model_name": "DescriptionStyleModel",
      "state": {
       "description_width": ""
      }
     },
     "c061d1bf6e444a208f4316c9a6b3a42b": {
      "model_module": "@jupyter-widgets/base",
      "model_module_version": "1.2.0",
      "model_name": "LayoutModel",
      "state": {}
     },
     "c06ed89a77394d4fad27a00a310b1c63": {
      "model_module": "@jupyter-widgets/controls",
      "model_module_version": "1.5.0",
      "model_name": "DescriptionStyleModel",
      "state": {
       "description_width": ""
      }
     },
     "c0ba8c4d861149b9889c4055268c819f": {
      "model_module": "@jupyter-widgets/controls",
      "model_module_version": "1.5.0",
      "model_name": "HBoxModel",
      "state": {
       "children": [
        "IPY_MODEL_f23269f7facf438ca36b741a557560f3",
        "IPY_MODEL_2637f7bb378e47df8e8972d9320289a7",
        "IPY_MODEL_83e6d09153df4828b94fb37fdd17e647"
       ],
       "layout": "IPY_MODEL_80f452b1dd474c618e4b3d75b3dcfe2b"
      }
     },
     "c14bb11386ce43b1b30d31e9d688a259": {
      "model_module": "@jupyter-widgets/controls",
      "model_module_version": "1.5.0",
      "model_name": "DescriptionStyleModel",
      "state": {
       "description_width": ""
      }
     },
     "c273303007d84c59b4276c7533f3ba2d": {
      "model_module": "@jupyter-widgets/controls",
      "model_module_version": "1.5.0",
      "model_name": "HTMLModel",
      "state": {
       "layout": "IPY_MODEL_7c0d5abba30646e5a1ff74d734b55380",
       "style": "IPY_MODEL_f33faa7f5ee6415bbaa1a0bb1bbab86b",
       "value": " 5/5 [00:16&lt;00:00,  3.28s/it]"
      }
     },
     "c2cb5f9607ee4e6fa44a3d68a28e50d2": {
      "model_module": "@jupyter-widgets/controls",
      "model_module_version": "1.5.0",
      "model_name": "DescriptionStyleModel",
      "state": {
       "description_width": ""
      }
     },
     "c2e0d80f63dc414dab989a197e79436e": {
      "model_module": "@jupyter-widgets/base",
      "model_module_version": "1.2.0",
      "model_name": "LayoutModel",
      "state": {}
     },
     "c3a2dc18c4cd4f8999cbff794ba3b864": {
      "model_module": "@jupyter-widgets/base",
      "model_module_version": "1.2.0",
      "model_name": "LayoutModel",
      "state": {}
     },
     "c3f98ee8e20e4f3aadb5410fba75df9d": {
      "model_module": "@jupyter-widgets/base",
      "model_module_version": "1.2.0",
      "model_name": "LayoutModel",
      "state": {}
     },
     "c489d10c59b2428ca99a913466ede255": {
      "model_module": "@jupyter-widgets/controls",
      "model_module_version": "1.5.0",
      "model_name": "HBoxModel",
      "state": {
       "children": [
        "IPY_MODEL_20ff1042ddd74d7c890eaccd01e19077",
        "IPY_MODEL_f822d0f2c620415f84063a18dc6252f7",
        "IPY_MODEL_ce3607fbc50a49bc8f9e06c8535afd10"
       ],
       "layout": "IPY_MODEL_8807274850434473bfddc804647949b3"
      }
     },
     "c499764de0254b9aa37926b403e9e518": {
      "model_module": "@jupyter-widgets/base",
      "model_module_version": "1.2.0",
      "model_name": "LayoutModel",
      "state": {}
     },
     "c4c1f5bace874f3a980b21a586b1b258": {
      "model_module": "@jupyter-widgets/base",
      "model_module_version": "1.2.0",
      "model_name": "LayoutModel",
      "state": {}
     },
     "c4df6caf7c374913b9d305a3dfc70fab": {
      "model_module": "@jupyter-widgets/controls",
      "model_module_version": "1.5.0",
      "model_name": "HBoxModel",
      "state": {
       "children": [
        "IPY_MODEL_1c3573d029254c90aaa9a22a642350b1",
        "IPY_MODEL_9faec65d40b447fea66d5d21adcb4b4d",
        "IPY_MODEL_da2dbc76609343f39600db1fd140c80f"
       ],
       "layout": "IPY_MODEL_6a2ea051ac7e4b92a34ab87706106b46"
      }
     },
     "c5127a27543142aca7ad7d655226e9d1": {
      "model_module": "@jupyter-widgets/controls",
      "model_module_version": "1.5.0",
      "model_name": "FloatProgressModel",
      "state": {
       "bar_style": "success",
       "layout": "IPY_MODEL_b2c1e29bb44e4343a50c25a906e73372",
       "max": 5,
       "style": "IPY_MODEL_3ba07aa24cf4412d89af38bbcf0baeda",
       "value": 5
      }
     },
     "c5eb2059d3b0482d974aecac2508429c": {
      "model_module": "@jupyter-widgets/controls",
      "model_module_version": "1.5.0",
      "model_name": "DescriptionStyleModel",
      "state": {
       "description_width": ""
      }
     },
     "c64bab518e6c4065b485f17161dcfed8": {
      "model_module": "@jupyter-widgets/base",
      "model_module_version": "1.2.0",
      "model_name": "LayoutModel",
      "state": {}
     },
     "c64c9eef890749ab976c65f13b9c2907": {
      "model_module": "@jupyter-widgets/controls",
      "model_module_version": "1.5.0",
      "model_name": "HBoxModel",
      "state": {
       "children": [
        "IPY_MODEL_e69dd8c1c178418ea1f564bb24f4da63",
        "IPY_MODEL_b748d3e897ba4226986c9e275cbd941b",
        "IPY_MODEL_da2e78338faa43dd98f8575f1673aac4"
       ],
       "layout": "IPY_MODEL_1a3f03f8245543fbb02b36dcf304d160"
      }
     },
     "c654822ebabe40798085f865af96dcb6": {
      "model_module": "@jupyter-widgets/controls",
      "model_module_version": "1.5.0",
      "model_name": "ProgressStyleModel",
      "state": {
       "description_width": ""
      }
     },
     "c67d510955b14dcdb7d4b69cb6f505c2": {
      "model_module": "@jupyter-widgets/controls",
      "model_module_version": "1.5.0",
      "model_name": "HTMLModel",
      "state": {
       "layout": "IPY_MODEL_2b7b934a54b8426dbf450ecc073897e8",
       "style": "IPY_MODEL_8df66e45aaf04fba8d057b615ca955b4",
       "value": " 5/5 [00:08&lt;00:00,  1.78s/it]"
      }
     },
     "c6e6634dc2854e59aab588f0a29656ed": {
      "model_module": "@jupyter-widgets/controls",
      "model_module_version": "1.5.0",
      "model_name": "HTMLModel",
      "state": {
       "layout": "IPY_MODEL_9d104daec7ae4ed9945a677328877d74",
       "style": "IPY_MODEL_2f686953881d4d41becf3ad82bcc0eca",
       "value": " 5/5 [00:00&lt;00:00, 18.92it/s]"
      }
     },
     "c73f57e8c19340f98795fccf6f833516": {
      "model_module": "@jupyter-widgets/controls",
      "model_module_version": "1.5.0",
      "model_name": "HTMLModel",
      "state": {
       "layout": "IPY_MODEL_6ea92a96950b42f880e04731c112e817",
       "style": "IPY_MODEL_3a4a54cc5cf54ca0a30f53995d53d277",
       "value": " 5/5 [00:12&lt;00:00,  2.45s/it]"
      }
     },
     "c74dfe3fbd354eceaf4b2a29945b2c89": {
      "model_module": "@jupyter-widgets/controls",
      "model_module_version": "1.5.0",
      "model_name": "HBoxModel",
      "state": {
       "children": [
        "IPY_MODEL_10e1a904ca0a4ba49fb66ba452a710de",
        "IPY_MODEL_c802e8627a994fe490de166297e17feb",
        "IPY_MODEL_fd1b4e412b65435db58d38ded4ac0340"
       ],
       "layout": "IPY_MODEL_7ccb5ff056fc4773886ed092e51decf1"
      }
     },
     "c791b5cf230645af8ca5b8ba5ad75021": {
      "model_module": "@jupyter-widgets/controls",
      "model_module_version": "1.5.0",
      "model_name": "HTMLModel",
      "state": {
       "layout": "IPY_MODEL_76d50518721b448b9a06609e75f6c6ba",
       "style": "IPY_MODEL_91ba9afa102a4190a88196db0d5c3545",
       "value": " 5/5 [00:00&lt;00:00, 58.42it/s]"
      }
     },
     "c802e8627a994fe490de166297e17feb": {
      "model_module": "@jupyter-widgets/controls",
      "model_module_version": "1.5.0",
      "model_name": "FloatProgressModel",
      "state": {
       "bar_style": "success",
       "layout": "IPY_MODEL_211815f67dee48a6b9cebd4e091a8947",
       "max": 5,
       "style": "IPY_MODEL_6ba719cda8bb49a5912358b8c38c2599",
       "value": 5
      }
     },
     "c8194b85c5ac4060b197913109109429": {
      "model_module": "@jupyter-widgets/controls",
      "model_module_version": "1.5.0",
      "model_name": "DescriptionStyleModel",
      "state": {
       "description_width": ""
      }
     },
     "c906141d79284ee2990674aa0f3401c1": {
      "model_module": "@jupyter-widgets/controls",
      "model_module_version": "1.5.0",
      "model_name": "HTMLModel",
      "state": {
       "layout": "IPY_MODEL_e4fe202e35f1488fbb87ada9790634e1",
       "style": "IPY_MODEL_502dcdc541f14dfdb1a26a5c696f8c7d",
       "value": " 5/5 [00:10&lt;00:00,  2.01s/it]"
      }
     },
     "c9570acfdae64cc9a15ba68bf45ee077": {
      "model_module": "@jupyter-widgets/base",
      "model_module_version": "1.2.0",
      "model_name": "LayoutModel",
      "state": {}
     },
     "c966220142b6433ebfbc4642fa350503": {
      "model_module": "@jupyter-widgets/base",
      "model_module_version": "1.2.0",
      "model_name": "LayoutModel",
      "state": {}
     },
     "ca2d98264ff44b43a3e22a72d38afa42": {
      "model_module": "@jupyter-widgets/base",
      "model_module_version": "1.2.0",
      "model_name": "LayoutModel",
      "state": {}
     },
     "ca87a7e30ab441afa953c0b46c39f8fd": {
      "model_module": "@jupyter-widgets/controls",
      "model_module_version": "1.5.0",
      "model_name": "FloatProgressModel",
      "state": {
       "bar_style": "success",
       "layout": "IPY_MODEL_af1669f3f1f744ea85d502014a231d19",
       "max": 5,
       "style": "IPY_MODEL_92672f7e0ea54b40b1cd74adeefb0b8b",
       "value": 5
      }
     },
     "ca8b617cb1fd467b9b297399762ddd97": {
      "model_module": "@jupyter-widgets/controls",
      "model_module_version": "1.5.0",
      "model_name": "HTMLModel",
      "state": {
       "layout": "IPY_MODEL_b95e7264fb4b4d35b23d15d20956d076",
       "style": "IPY_MODEL_ea544c1c9b46410cbb8082e8c78d8e08",
       "value": "100%"
      }
     },
     "caa9c71c32ff4eef86259193e7f0786b": {
      "model_module": "@jupyter-widgets/controls",
      "model_module_version": "1.5.0",
      "model_name": "HBoxModel",
      "state": {
       "children": [
        "IPY_MODEL_274b91640cfb4049a8b79939d5f7002f",
        "IPY_MODEL_ea7d839de9844b0782d2c4eecc3dcca8",
        "IPY_MODEL_c6e6634dc2854e59aab588f0a29656ed"
       ],
       "layout": "IPY_MODEL_79f29c4e18534fffae76a8b27134431d"
      }
     },
     "cabfe970704841a48451da12c1547c58": {
      "model_module": "@jupyter-widgets/controls",
      "model_module_version": "1.5.0",
      "model_name": "DescriptionStyleModel",
      "state": {
       "description_width": ""
      }
     },
     "caf11a0daec9439da2f042c9e1ba3636": {
      "model_module": "@jupyter-widgets/base",
      "model_module_version": "1.2.0",
      "model_name": "LayoutModel",
      "state": {}
     },
     "cc1442338c634b6d91d06171b75d4afe": {
      "model_module": "@jupyter-widgets/base",
      "model_module_version": "1.2.0",
      "model_name": "LayoutModel",
      "state": {}
     },
     "cc2acc05ba17455dafbeb1001dc63573": {
      "model_module": "@jupyter-widgets/controls",
      "model_module_version": "1.5.0",
      "model_name": "ProgressStyleModel",
      "state": {
       "description_width": ""
      }
     },
     "cdb315539b5e4c36adbc9385cc03b34d": {
      "model_module": "@jupyter-widgets/controls",
      "model_module_version": "1.5.0",
      "model_name": "DescriptionStyleModel",
      "state": {
       "description_width": ""
      }
     },
     "cddf757b347447fdac42f77c66049b05": {
      "model_module": "@jupyter-widgets/controls",
      "model_module_version": "1.5.0",
      "model_name": "ProgressStyleModel",
      "state": {
       "description_width": ""
      }
     },
     "cde8a6bb3ef44726b0a4f3e44cfc243b": {
      "model_module": "@jupyter-widgets/base",
      "model_module_version": "1.2.0",
      "model_name": "LayoutModel",
      "state": {}
     },
     "ce3607fbc50a49bc8f9e06c8535afd10": {
      "model_module": "@jupyter-widgets/controls",
      "model_module_version": "1.5.0",
      "model_name": "HTMLModel",
      "state": {
       "layout": "IPY_MODEL_bfb39b71bcdf4b22b16e8b6169b69108",
       "style": "IPY_MODEL_4f38186a8cb34beebc424d950e73edc1",
       "value": " 5/5 [00:16&lt;00:00,  3.73s/it]"
      }
     },
     "cf449d7c375b42a68781c498f0b294b8": {
      "model_module": "@jupyter-widgets/base",
      "model_module_version": "1.2.0",
      "model_name": "LayoutModel",
      "state": {}
     },
     "cffe79f53696487bb2ae11800178f6b0": {
      "model_module": "@jupyter-widgets/base",
      "model_module_version": "1.2.0",
      "model_name": "LayoutModel",
      "state": {}
     },
     "d01ddd3ae3f644de99388c01f2b90e9b": {
      "model_module": "@jupyter-widgets/base",
      "model_module_version": "1.2.0",
      "model_name": "LayoutModel",
      "state": {}
     },
     "d02f8ca6b1854efaab14066b6335caed": {
      "model_module": "@jupyter-widgets/base",
      "model_module_version": "1.2.0",
      "model_name": "LayoutModel",
      "state": {}
     },
     "d04adedbac4a43cda091af4febd5064c": {
      "model_module": "@jupyter-widgets/controls",
      "model_module_version": "1.5.0",
      "model_name": "HBoxModel",
      "state": {
       "children": [
        "IPY_MODEL_ca8b617cb1fd467b9b297399762ddd97",
        "IPY_MODEL_a509bc5d567449298c94b543ce475be9",
        "IPY_MODEL_fbefc081cab549868cf5cd1a6f41979a"
       ],
       "layout": "IPY_MODEL_77771ad7fd044b34832a8d1eb8f06424"
      }
     },
     "d0963a53cb734a9a8402a5af978387ab": {
      "model_module": "@jupyter-widgets/controls",
      "model_module_version": "1.5.0",
      "model_name": "FloatProgressModel",
      "state": {
       "bar_style": "success",
       "layout": "IPY_MODEL_61d47b05870f410fb9b11f46389d8707",
       "max": 5,
       "style": "IPY_MODEL_2ca23141bcaf4a278a24b06b3f6801f9",
       "value": 5
      }
     },
     "d10fdfc97def483d810fb0ee969c97c3": {
      "model_module": "@jupyter-widgets/controls",
      "model_module_version": "1.5.0",
      "model_name": "DescriptionStyleModel",
      "state": {
       "description_width": ""
      }
     },
     "d12ed436c32049779ecf1ee2fa5b3c1c": {
      "model_module": "@jupyter-widgets/controls",
      "model_module_version": "1.5.0",
      "model_name": "DescriptionStyleModel",
      "state": {
       "description_width": ""
      }
     },
     "d1bf2a53c1474349b5bb8b10b87674a9": {
      "model_module": "@jupyter-widgets/controls",
      "model_module_version": "1.5.0",
      "model_name": "HTMLModel",
      "state": {
       "layout": "IPY_MODEL_4adee06548354b73a5bc8be82c05a48b",
       "style": "IPY_MODEL_270dd163b2834674b876b6f14f71ba96",
       "value": "100%"
      }
     },
     "d2570d5f7ff248e6b14ca47db1aaa580": {
      "model_module": "@jupyter-widgets/base",
      "model_module_version": "1.2.0",
      "model_name": "LayoutModel",
      "state": {}
     },
     "d2c79f718863446baa1ecf71bce13a06": {
      "model_module": "@jupyter-widgets/base",
      "model_module_version": "1.2.0",
      "model_name": "LayoutModel",
      "state": {}
     },
     "d325b2814eb545999266bf0b029fc654": {
      "model_module": "@jupyter-widgets/base",
      "model_module_version": "1.2.0",
      "model_name": "LayoutModel",
      "state": {}
     },
     "d3eb81c7c4334719a938ce88e3e87aec": {
      "model_module": "@jupyter-widgets/controls",
      "model_module_version": "1.5.0",
      "model_name": "FloatProgressModel",
      "state": {
       "bar_style": "success",
       "layout": "IPY_MODEL_caf11a0daec9439da2f042c9e1ba3636",
       "max": 5,
       "style": "IPY_MODEL_805cc755b4444116894bf90b1715eec3",
       "value": 5
      }
     },
     "d41ec544ec1c4ea8903fe9f5ba1100c0": {
      "model_module": "@jupyter-widgets/controls",
      "model_module_version": "1.5.0",
      "model_name": "HTMLModel",
      "state": {
       "layout": "IPY_MODEL_2873e1fbdcf544ae96e2993f7b9f8a07",
       "style": "IPY_MODEL_bd574390785f4f5293f4fd03eb18f516",
       "value": "100%"
      }
     },
     "d42e3979acfa46d3a0de3addb2082f2f": {
      "model_module": "@jupyter-widgets/controls",
      "model_module_version": "1.5.0",
      "model_name": "HBoxModel",
      "state": {
       "children": [
        "IPY_MODEL_f76c364a303f498393756676d904b7fe",
        "IPY_MODEL_179a6f67a1fc4b8ebd6124f2e49ee120",
        "IPY_MODEL_eda0bd1f9d7a4aa3ac418ffb2ed02a81"
       ],
       "layout": "IPY_MODEL_ed71ceccb3e4448c9f2992c51283d0f6"
      }
     },
     "d50b5b701fb74690b424eb2ce7213af4": {
      "model_module": "@jupyter-widgets/base",
      "model_module_version": "1.2.0",
      "model_name": "LayoutModel",
      "state": {}
     },
     "d53151f9ff7a4eccbb4790e742505fa1": {
      "model_module": "@jupyter-widgets/controls",
      "model_module_version": "1.5.0",
      "model_name": "HTMLModel",
      "state": {
       "layout": "IPY_MODEL_b2758553bd9447f1b741803a8f0e103a",
       "style": "IPY_MODEL_0337891473f6440798480115be9d3e3e",
       "value": " 5/5 [00:02&lt;00:00,  1.78it/s]"
      }
     },
     "d54ee793cea1414cbab93a7ffea596a3": {
      "model_module": "@jupyter-widgets/controls",
      "model_module_version": "1.5.0",
      "model_name": "FloatProgressModel",
      "state": {
       "bar_style": "success",
       "layout": "IPY_MODEL_edc05a5bb9984181b1403e447c5950e2",
       "max": 5,
       "style": "IPY_MODEL_633ea1d87d0f404aaa8741243599f731",
       "value": 5
      }
     },
     "d58c7899186d4ae59a92cfdc2e8cd92d": {
      "model_module": "@jupyter-widgets/controls",
      "model_module_version": "1.5.0",
      "model_name": "FloatProgressModel",
      "state": {
       "bar_style": "success",
       "layout": "IPY_MODEL_b5e0c8355ba04c84bd3d13f79bdaa9a3",
       "max": 5,
       "style": "IPY_MODEL_c654822ebabe40798085f865af96dcb6",
       "value": 5
      }
     },
     "d61144d0824c4c37a168e818d76bf1c8": {
      "model_module": "@jupyter-widgets/controls",
      "model_module_version": "1.5.0",
      "model_name": "FloatProgressModel",
      "state": {
       "bar_style": "success",
       "layout": "IPY_MODEL_3212d05036a1474c841e62a0fdba3e00",
       "max": 5,
       "style": "IPY_MODEL_b5957e0ac34e4a64abda5bdf2deafcf4",
       "value": 5
      }
     },
     "d64012b0aab1496cb17a90f7ed7fc680": {
      "model_module": "@jupyter-widgets/controls",
      "model_module_version": "1.5.0",
      "model_name": "FloatProgressModel",
      "state": {
       "bar_style": "success",
       "layout": "IPY_MODEL_f6d394e2c1b04662afc5fac643b0105f",
       "max": 5,
       "style": "IPY_MODEL_49002eacb32044a3902eed2c16d7c3b6",
       "value": 5
      }
     },
     "d695c537884d4483975840d315905e01": {
      "model_module": "@jupyter-widgets/controls",
      "model_module_version": "1.5.0",
      "model_name": "FloatProgressModel",
      "state": {
       "bar_style": "success",
       "layout": "IPY_MODEL_fffad96590a5424ea8213a8162231a42",
       "max": 5,
       "style": "IPY_MODEL_2ac4b591094943768291f5ed18923f04",
       "value": 5
      }
     },
     "d6f33ead20ad4d4ca3810aa477ff5c96": {
      "model_module": "@jupyter-widgets/base",
      "model_module_version": "1.2.0",
      "model_name": "LayoutModel",
      "state": {}
     },
     "d71e22b5473c43b2821fcfe7942687bd": {
      "model_module": "@jupyter-widgets/controls",
      "model_module_version": "1.5.0",
      "model_name": "HTMLModel",
      "state": {
       "layout": "IPY_MODEL_f7ed4529b3ec4202910dac7f81280d9e",
       "style": "IPY_MODEL_3d27912da5bf49418aa39d00a2cc7786",
       "value": " 5/5 [00:09&lt;00:00,  1.96s/it]"
      }
     },
     "d7d3ef7809ef43d3a6b5caacec52284b": {
      "model_module": "@jupyter-widgets/base",
      "model_module_version": "1.2.0",
      "model_name": "LayoutModel",
      "state": {}
     },
     "d7da7e37aa1d48ca88b8ac90d7fa61a7": {
      "model_module": "@jupyter-widgets/controls",
      "model_module_version": "1.5.0",
      "model_name": "HTMLModel",
      "state": {
       "layout": "IPY_MODEL_724f06aefdc243348895999b1e00ddbf",
       "style": "IPY_MODEL_f5c7019d57d94f6a93cd70fbe7f74fdd",
       "value": "100%"
      }
     },
     "d85e747350b94c33bee65ec7b66ac91e": {
      "model_module": "@jupyter-widgets/controls",
      "model_module_version": "1.5.0",
      "model_name": "DescriptionStyleModel",
      "state": {
       "description_width": ""
      }
     },
     "d8981dde76494f94945ad1253c05a36b": {
      "model_module": "@jupyter-widgets/base",
      "model_module_version": "1.2.0",
      "model_name": "LayoutModel",
      "state": {}
     },
     "d90cd2e0a45a4807908d367aa9aef3bb": {
      "model_module": "@jupyter-widgets/controls",
      "model_module_version": "1.5.0",
      "model_name": "DescriptionStyleModel",
      "state": {
       "description_width": ""
      }
     },
     "da2dbc76609343f39600db1fd140c80f": {
      "model_module": "@jupyter-widgets/controls",
      "model_module_version": "1.5.0",
      "model_name": "HTMLModel",
      "state": {
       "layout": "IPY_MODEL_05b1e66e391343a09ef67f4f0cf5256f",
       "style": "IPY_MODEL_9317de789d204bb6b8375c6d118b8669",
       "value": " 5/5 [00:13&lt;00:00,  2.84s/it]"
      }
     },
     "da2e78338faa43dd98f8575f1673aac4": {
      "model_module": "@jupyter-widgets/controls",
      "model_module_version": "1.5.0",
      "model_name": "HTMLModel",
      "state": {
       "layout": "IPY_MODEL_233b5f6519db46dbb5804068b48b4ffd",
       "style": "IPY_MODEL_5650846458924834b2dcb989f512035a",
       "value": " 5/5 [00:01&lt;00:00,  2.76it/s]"
      }
     },
     "da49aaa6f3154695b0b57d9ba99ba3ba": {
      "model_module": "@jupyter-widgets/base",
      "model_module_version": "1.2.0",
      "model_name": "LayoutModel",
      "state": {}
     },
     "da890a69958941e599b24236abf259f3": {
      "model_module": "@jupyter-widgets/controls",
      "model_module_version": "1.5.0",
      "model_name": "FloatProgressModel",
      "state": {
       "bar_style": "success",
       "layout": "IPY_MODEL_20218a9482dc4de8a99d0b54dabf60f3",
       "max": 5,
       "style": "IPY_MODEL_bd832efcd40242dc83ab9d35f0943af8",
       "value": 5
      }
     },
     "dadebb7620814614b96b354a1f1e1448": {
      "model_module": "@jupyter-widgets/controls",
      "model_module_version": "1.5.0",
      "model_name": "ProgressStyleModel",
      "state": {
       "description_width": ""
      }
     },
     "db8dd18dbfe24db2a2e9290a4f8d09c1": {
      "model_module": "@jupyter-widgets/controls",
      "model_module_version": "1.5.0",
      "model_name": "FloatProgressModel",
      "state": {
       "bar_style": "success",
       "layout": "IPY_MODEL_5111cdca465e41e398d8e4acbee8d512",
       "max": 5,
       "style": "IPY_MODEL_935a0c2750024584b83aea404d4301c0",
       "value": 5
      }
     },
     "dbb8dc8b79044e5ca2ab4cea16f9882f": {
      "model_module": "@jupyter-widgets/controls",
      "model_module_version": "1.5.0",
      "model_name": "DescriptionStyleModel",
      "state": {
       "description_width": ""
      }
     },
     "dbeaea767b4047feba5b64e282b0c0c3": {
      "model_module": "@jupyter-widgets/base",
      "model_module_version": "1.2.0",
      "model_name": "LayoutModel",
      "state": {}
     },
     "dc0e3a1635624be2a93187b50fef7672": {
      "model_module": "@jupyter-widgets/controls",
      "model_module_version": "1.5.0",
      "model_name": "HTMLModel",
      "state": {
       "layout": "IPY_MODEL_c3f98ee8e20e4f3aadb5410fba75df9d",
       "style": "IPY_MODEL_7fa7fe2b27844e8ca157f6ef17f3e0bb",
       "value": "100%"
      }
     },
     "dc31135744164e69a1ff564571d81ea0": {
      "model_module": "@jupyter-widgets/controls",
      "model_module_version": "1.5.0",
      "model_name": "ProgressStyleModel",
      "state": {
       "description_width": ""
      }
     },
     "dc4292d1ab3c4b798f5ca7f5f5f1dc8b": {
      "model_module": "@jupyter-widgets/controls",
      "model_module_version": "1.5.0",
      "model_name": "FloatProgressModel",
      "state": {
       "bar_style": "success",
       "layout": "IPY_MODEL_6d2f7506e7c14100afada426d9e0d408",
       "max": 5,
       "style": "IPY_MODEL_526859ea35ae400998df6f543b3b1e1b",
       "value": 5
      }
     },
     "dcced0231199424982927ea07479467b": {
      "model_module": "@jupyter-widgets/base",
      "model_module_version": "1.2.0",
      "model_name": "LayoutModel",
      "state": {}
     },
     "ddd30815627d4baf84969c52578ad1ae": {
      "model_module": "@jupyter-widgets/controls",
      "model_module_version": "1.5.0",
      "model_name": "DescriptionStyleModel",
      "state": {
       "description_width": ""
      }
     },
     "dde550a572004b97b52a04118b19ee13": {
      "model_module": "@jupyter-widgets/base",
      "model_module_version": "1.2.0",
      "model_name": "LayoutModel",
      "state": {}
     },
     "dde825534803421da965413cdad0cfa9": {
      "model_module": "@jupyter-widgets/controls",
      "model_module_version": "1.5.0",
      "model_name": "FloatProgressModel",
      "state": {
       "bar_style": "success",
       "layout": "IPY_MODEL_9fcf3bb53ecf4b47af9f22de6797577f",
       "max": 5,
       "style": "IPY_MODEL_a35d5aef6833491cb57b128d1da7eb8e",
       "value": 5
      }
     },
     "de1053d146124535941858cb418c3542": {
      "model_module": "@jupyter-widgets/controls",
      "model_module_version": "1.5.0",
      "model_name": "HTMLModel",
      "state": {
       "layout": "IPY_MODEL_0308f042c81244859c848e51e12792e4",
       "style": "IPY_MODEL_06755de651b44c36a482c23b992d968c",
       "value": " 5/5 [00:12&lt;00:00,  2.71s/it]"
      }
     },
     "de9ba132655040049daa84ecd0802bb2": {
      "model_module": "@jupyter-widgets/controls",
      "model_module_version": "1.5.0",
      "model_name": "HTMLModel",
      "state": {
       "layout": "IPY_MODEL_e7d17f5d7c2c44d38570690c5c5a287c",
       "style": "IPY_MODEL_76b99aafbcf8483c94db3a3f327bb253",
       "value": " 5/5 [00:00&lt;00:00, 35.68it/s]"
      }
     },
     "dedd7a58d1da47a09e88393d9af41054": {
      "model_module": "@jupyter-widgets/controls",
      "model_module_version": "1.5.0",
      "model_name": "DescriptionStyleModel",
      "state": {
       "description_width": ""
      }
     },
     "df3edb9cee324ad88062c63b6fe1c800": {
      "model_module": "@jupyter-widgets/base",
      "model_module_version": "1.2.0",
      "model_name": "LayoutModel",
      "state": {}
     },
     "df84cca4494940fca613656587c9cc5e": {
      "model_module": "@jupyter-widgets/controls",
      "model_module_version": "1.5.0",
      "model_name": "HBoxModel",
      "state": {
       "children": [
        "IPY_MODEL_911b035985864535b3e3b421cf6b2daa",
        "IPY_MODEL_d61144d0824c4c37a168e818d76bf1c8",
        "IPY_MODEL_b5fd02f3856c450abb42e5f395ad2bd7"
       ],
       "layout": "IPY_MODEL_d7d3ef7809ef43d3a6b5caacec52284b"
      }
     },
     "dfd0e0412e414cedb613bb416ebf7277": {
      "model_module": "@jupyter-widgets/controls",
      "model_module_version": "1.5.0",
      "model_name": "FloatProgressModel",
      "state": {
       "bar_style": "success",
       "layout": "IPY_MODEL_14bf767da3084249bdb6e9f30169456a",
       "max": 5,
       "style": "IPY_MODEL_59b3ac1f209a4b78a5f22c3b89588d76",
       "value": 5
      }
     },
     "e02803a63791403e88fad119c016e951": {
      "model_module": "@jupyter-widgets/controls",
      "model_module_version": "1.5.0",
      "model_name": "DescriptionStyleModel",
      "state": {
       "description_width": ""
      }
     },
     "e02f31866f334e69b9bf720299ff8fa0": {
      "model_module": "@jupyter-widgets/base",
      "model_module_version": "1.2.0",
      "model_name": "LayoutModel",
      "state": {}
     },
     "e03398df600946f0b601c493df0f33b8": {
      "model_module": "@jupyter-widgets/controls",
      "model_module_version": "1.5.0",
      "model_name": "DescriptionStyleModel",
      "state": {
       "description_width": ""
      }
     },
     "e043c7f647f24c7b8fa59fd064fa4cd4": {
      "model_module": "@jupyter-widgets/controls",
      "model_module_version": "1.5.0",
      "model_name": "ProgressStyleModel",
      "state": {
       "description_width": ""
      }
     },
     "e08b18367fb943f78206a0f06d76737e": {
      "model_module": "@jupyter-widgets/controls",
      "model_module_version": "1.5.0",
      "model_name": "FloatProgressModel",
      "state": {
       "bar_style": "danger",
       "layout": "IPY_MODEL_a9197ce5a37c42318d27b131bd524cec",
       "max": 5,
       "style": "IPY_MODEL_fb2f79c1313e470a9a5da518d5d06cba",
       "value": 1
      }
     },
     "e1302454ebb84c459a61cda38f1d46a7": {
      "model_module": "@jupyter-widgets/controls",
      "model_module_version": "1.5.0",
      "model_name": "HTMLModel",
      "state": {
       "layout": "IPY_MODEL_8c91d6da5eaf4fa18f57a47a3e32c378",
       "style": "IPY_MODEL_f4151f633aa642e99ac77b88f7cd7a5b",
       "value": "100%"
      }
     },
     "e14d41cdbb334733bfd749cc9c3e19e2": {
      "model_module": "@jupyter-widgets/controls",
      "model_module_version": "1.5.0",
      "model_name": "DescriptionStyleModel",
      "state": {
       "description_width": ""
      }
     },
     "e1d42132e995438bb53e166760b8dff2": {
      "model_module": "@jupyter-widgets/base",
      "model_module_version": "1.2.0",
      "model_name": "LayoutModel",
      "state": {}
     },
     "e2c5b5c315904a37b04769ab7f0d6ca6": {
      "model_module": "@jupyter-widgets/base",
      "model_module_version": "1.2.0",
      "model_name": "LayoutModel",
      "state": {}
     },
     "e31a44f5d1cf48a4869ebea80364caea": {
      "model_module": "@jupyter-widgets/controls",
      "model_module_version": "1.5.0",
      "model_name": "ProgressStyleModel",
      "state": {
       "description_width": ""
      }
     },
     "e33b492304544b73857915a39e259fd5": {
      "model_module": "@jupyter-widgets/base",
      "model_module_version": "1.2.0",
      "model_name": "LayoutModel",
      "state": {}
     },
     "e34906f13c304a75b14fca4f4250aaaa": {
      "model_module": "@jupyter-widgets/base",
      "model_module_version": "1.2.0",
      "model_name": "LayoutModel",
      "state": {}
     },
     "e35940adaa6544c88114330b21617c42": {
      "model_module": "@jupyter-widgets/base",
      "model_module_version": "1.2.0",
      "model_name": "LayoutModel",
      "state": {}
     },
     "e44d139b299543bfb886a51429673c89": {
      "model_module": "@jupyter-widgets/base",
      "model_module_version": "1.2.0",
      "model_name": "LayoutModel",
      "state": {}
     },
     "e45da46573a743a7bebf5288a6eea8ad": {
      "model_module": "@jupyter-widgets/controls",
      "model_module_version": "1.5.0",
      "model_name": "ProgressStyleModel",
      "state": {
       "description_width": ""
      }
     },
     "e4d55488b679407886d4c401a07c0b5a": {
      "model_module": "@jupyter-widgets/controls",
      "model_module_version": "1.5.0",
      "model_name": "DescriptionStyleModel",
      "state": {
       "description_width": ""
      }
     },
     "e4fe202e35f1488fbb87ada9790634e1": {
      "model_module": "@jupyter-widgets/base",
      "model_module_version": "1.2.0",
      "model_name": "LayoutModel",
      "state": {}
     },
     "e595734de57248d69a92eef29398dd85": {
      "model_module": "@jupyter-widgets/base",
      "model_module_version": "1.2.0",
      "model_name": "LayoutModel",
      "state": {}
     },
     "e59b0b5d3315447e96caf5c7dbbaf590": {
      "model_module": "@jupyter-widgets/controls",
      "model_module_version": "1.5.0",
      "model_name": "HTMLModel",
      "state": {
       "layout": "IPY_MODEL_5e6ed78bcf194803a1795e3b90397d07",
       "style": "IPY_MODEL_a4afe4d57c48451598371da650e75ee4",
       "value": " 5/5 [00:00&lt;00:00,  4.97it/s]"
      }
     },
     "e68969f050894a5ab656620e14b1118f": {
      "model_module": "@jupyter-widgets/controls",
      "model_module_version": "1.5.0",
      "model_name": "FloatProgressModel",
      "state": {
       "bar_style": "success",
       "layout": "IPY_MODEL_bf7d278d394d4353b855880e6fbc1de0",
       "max": 5,
       "style": "IPY_MODEL_295d3bfaf7c84dddaba350e4f23af4ee",
       "value": 5
      }
     },
     "e69bbf6c00844feb8a8456366ac51d00": {
      "model_module": "@jupyter-widgets/controls",
      "model_module_version": "1.5.0",
      "model_name": "DescriptionStyleModel",
      "state": {
       "description_width": ""
      }
     },
     "e69dd8c1c178418ea1f564bb24f4da63": {
      "model_module": "@jupyter-widgets/controls",
      "model_module_version": "1.5.0",
      "model_name": "HTMLModel",
      "state": {
       "layout": "IPY_MODEL_3e40a2864acc4eb7b989b728691a1f30",
       "style": "IPY_MODEL_4afc09a79cf340ad8a957785016a3f14",
       "value": "100%"
      }
     },
     "e6aba4ea52fa4c4fb68589e674443950": {
      "model_module": "@jupyter-widgets/controls",
      "model_module_version": "1.5.0",
      "model_name": "HTMLModel",
      "state": {
       "layout": "IPY_MODEL_2bc007e9544b4586955168f564d886b8",
       "style": "IPY_MODEL_9606087c9983413c8f92cbb1f33f8868",
       "value": " 5/5 [00:11&lt;00:00,  2.40s/it]"
      }
     },
     "e6e146039187427990916ad93df95235": {
      "model_module": "@jupyter-widgets/controls",
      "model_module_version": "1.5.0",
      "model_name": "DescriptionStyleModel",
      "state": {
       "description_width": ""
      }
     },
     "e7008dd2be7a460c8f308ccef3bb4c87": {
      "model_module": "@jupyter-widgets/controls",
      "model_module_version": "1.5.0",
      "model_name": "HTMLModel",
      "state": {
       "layout": "IPY_MODEL_bc2d778f6a3f4b308090a6448af4e114",
       "style": "IPY_MODEL_3a5cbb93975a40848f80cbfc8888b93d",
       "value": " 5/5 [00:20&lt;00:00,  3.92s/it]"
      }
     },
     "e718c58b453747d1843ab85014e625ea": {
      "model_module": "@jupyter-widgets/base",
      "model_module_version": "1.2.0",
      "model_name": "LayoutModel",
      "state": {}
     },
     "e724aa178bda4994af74de7df72645f8": {
      "model_module": "@jupyter-widgets/controls",
      "model_module_version": "1.5.0",
      "model_name": "HTMLModel",
      "state": {
       "layout": "IPY_MODEL_1aa215dd4a2d4249b0ee4e8fd1a6bd71",
       "style": "IPY_MODEL_ebfef2694ec547048db1210086ea2eef",
       "value": "100%"
      }
     },
     "e77cce040eec4e54b585676310fc3f1c": {
      "model_module": "@jupyter-widgets/controls",
      "model_module_version": "1.5.0",
      "model_name": "HBoxModel",
      "state": {
       "children": [
        "IPY_MODEL_f8b8361139c3488dbcef9dc51df94e41",
        "IPY_MODEL_feaac71ae44748dd928902741c9761f9",
        "IPY_MODEL_6fe967e432b541698aa84c7d6dd29b0d"
       ],
       "layout": "IPY_MODEL_9aa31e2b7e674ddb9a23fd4e83b0f8c4"
      }
     },
     "e7a33dd4660b4b13b97112008ea549ff": {
      "model_module": "@jupyter-widgets/controls",
      "model_module_version": "1.5.0",
      "model_name": "ProgressStyleModel",
      "state": {
       "description_width": ""
      }
     },
     "e7d17f5d7c2c44d38570690c5c5a287c": {
      "model_module": "@jupyter-widgets/base",
      "model_module_version": "1.2.0",
      "model_name": "LayoutModel",
      "state": {}
     },
     "e7dace039a6149d298ddcabfb79020db": {
      "model_module": "@jupyter-widgets/controls",
      "model_module_version": "1.5.0",
      "model_name": "HTMLModel",
      "state": {
       "layout": "IPY_MODEL_7f918087dbfb4126b9a6282419092c7e",
       "style": "IPY_MODEL_c2cb5f9607ee4e6fa44a3d68a28e50d2",
       "value": "100%"
      }
     },
     "e8236fe925c5427fa3f7add1788a54a0": {
      "model_module": "@jupyter-widgets/controls",
      "model_module_version": "1.5.0",
      "model_name": "DescriptionStyleModel",
      "state": {
       "description_width": ""
      }
     },
     "e845c4608edd4732be31d59d73065b86": {
      "model_module": "@jupyter-widgets/base",
      "model_module_version": "1.2.0",
      "model_name": "LayoutModel",
      "state": {}
     },
     "e84d285b3fd748d9bb7f8f39999dbfe7": {
      "model_module": "@jupyter-widgets/controls",
      "model_module_version": "1.5.0",
      "model_name": "DescriptionStyleModel",
      "state": {
       "description_width": ""
      }
     },
     "e85807c8a7d7463883f8dc0166922b9a": {
      "model_module": "@jupyter-widgets/base",
      "model_module_version": "1.2.0",
      "model_name": "LayoutModel",
      "state": {}
     },
     "e85c285a28e44d13a87350b86abbb619": {
      "model_module": "@jupyter-widgets/base",
      "model_module_version": "1.2.0",
      "model_name": "LayoutModel",
      "state": {}
     },
     "e881afa937d4486aa5043a6288348046": {
      "model_module": "@jupyter-widgets/controls",
      "model_module_version": "1.5.0",
      "model_name": "HBoxModel",
      "state": {
       "children": [
        "IPY_MODEL_d7da7e37aa1d48ca88b8ac90d7fa61a7",
        "IPY_MODEL_28418678e9fe4a5db9f0440da850be65",
        "IPY_MODEL_04a3ad3b815a4013a8fa9874ead52495"
       ],
       "layout": "IPY_MODEL_2bd2b0ff571343f784af5e0e67df310d"
      }
     },
     "ea544c1c9b46410cbb8082e8c78d8e08": {
      "model_module": "@jupyter-widgets/controls",
      "model_module_version": "1.5.0",
      "model_name": "DescriptionStyleModel",
      "state": {
       "description_width": ""
      }
     },
     "ea7d839de9844b0782d2c4eecc3dcca8": {
      "model_module": "@jupyter-widgets/controls",
      "model_module_version": "1.5.0",
      "model_name": "FloatProgressModel",
      "state": {
       "bar_style": "success",
       "layout": "IPY_MODEL_6addb2e98bf74a878b7ec9adfe6a852c",
       "max": 5,
       "style": "IPY_MODEL_03d9f004730f40b885e70647022d331b",
       "value": 5
      }
     },
     "eaa8b4add0e646d4bd5951f422701d3e": {
      "model_module": "@jupyter-widgets/base",
      "model_module_version": "1.2.0",
      "model_name": "LayoutModel",
      "state": {}
     },
     "eb3f97ff91dd44468f4f41ac07fcdda3": {
      "model_module": "@jupyter-widgets/controls",
      "model_module_version": "1.5.0",
      "model_name": "ProgressStyleModel",
      "state": {
       "description_width": ""
      }
     },
     "eb6ea44659364ec6850c3d878fee27ef": {
      "model_module": "@jupyter-widgets/controls",
      "model_module_version": "1.5.0",
      "model_name": "FloatProgressModel",
      "state": {
       "bar_style": "success",
       "layout": "IPY_MODEL_d01ddd3ae3f644de99388c01f2b90e9b",
       "max": 5,
       "style": "IPY_MODEL_dc31135744164e69a1ff564571d81ea0",
       "value": 5
      }
     },
     "ebb511565915420f9ce58f5d714b5f56": {
      "model_module": "@jupyter-widgets/base",
      "model_module_version": "1.2.0",
      "model_name": "LayoutModel",
      "state": {}
     },
     "ebb7c85f5cc441aa89b20ce495aa25f6": {
      "model_module": "@jupyter-widgets/controls",
      "model_module_version": "1.5.0",
      "model_name": "HTMLModel",
      "state": {
       "layout": "IPY_MODEL_7cb6ee5ba19f4272a885464eea962013",
       "style": "IPY_MODEL_861c8ac5f42d4c79bf44950ddb7e3907",
       "value": " 5/5 [00:12&lt;00:00,  2.49s/it]"
      }
     },
     "ebfef2694ec547048db1210086ea2eef": {
      "model_module": "@jupyter-widgets/controls",
      "model_module_version": "1.5.0",
      "model_name": "DescriptionStyleModel",
      "state": {
       "description_width": ""
      }
     },
     "ec49c94809464566b0e7628d81fa3506": {
      "model_module": "@jupyter-widgets/controls",
      "model_module_version": "1.5.0",
      "model_name": "HBoxModel",
      "state": {
       "children": [
        "IPY_MODEL_326f0122bb144cd6927f88502402728b",
        "IPY_MODEL_3d9c9d2fb05b48d180c89a4f6b9b7732",
        "IPY_MODEL_66681151ce5749d9bb47ed47832182b7"
       ],
       "layout": "IPY_MODEL_f26418bed6c64809b8801c1b78634ed4"
      }
     },
     "ecf52acd15404b08bd28d0da6c18efc7": {
      "model_module": "@jupyter-widgets/base",
      "model_module_version": "1.2.0",
      "model_name": "LayoutModel",
      "state": {}
     },
     "ed71ceccb3e4448c9f2992c51283d0f6": {
      "model_module": "@jupyter-widgets/base",
      "model_module_version": "1.2.0",
      "model_name": "LayoutModel",
      "state": {}
     },
     "eda0bd1f9d7a4aa3ac418ffb2ed02a81": {
      "model_module": "@jupyter-widgets/controls",
      "model_module_version": "1.5.0",
      "model_name": "HTMLModel",
      "state": {
       "layout": "IPY_MODEL_a0f7c53fb61c4c74a6ac082e043c89ec",
       "style": "IPY_MODEL_a5172f0ac5214274991849cae648a84f",
       "value": " 5/5 [00:08&lt;00:00,  1.57s/it]"
      }
     },
     "edc05a5bb9984181b1403e447c5950e2": {
      "model_module": "@jupyter-widgets/base",
      "model_module_version": "1.2.0",
      "model_name": "LayoutModel",
      "state": {}
     },
     "ee0827d67cc94cbdb0fb2ada3b405947": {
      "model_module": "@jupyter-widgets/controls",
      "model_module_version": "1.5.0",
      "model_name": "DescriptionStyleModel",
      "state": {
       "description_width": ""
      }
     },
     "ee5e77cb7cdd49819198434bb8a2d94a": {
      "model_module": "@jupyter-widgets/controls",
      "model_module_version": "1.5.0",
      "model_name": "DescriptionStyleModel",
      "state": {
       "description_width": ""
      }
     },
     "ef777013c12d428baa180b144b864e7f": {
      "model_module": "@jupyter-widgets/controls",
      "model_module_version": "1.5.0",
      "model_name": "DescriptionStyleModel",
      "state": {
       "description_width": ""
      }
     },
     "efaf7f24a5be493bb25f055f6f2a02d0": {
      "model_module": "@jupyter-widgets/controls",
      "model_module_version": "1.5.0",
      "model_name": "HTMLModel",
      "state": {
       "layout": "IPY_MODEL_3814a7b0c8d64ebc85950af0b9363b68",
       "style": "IPY_MODEL_369bcb6b63e74da3826d7bdf103d0064",
       "value": " 5/5 [00:13&lt;00:00,  2.72s/it]"
      }
     },
     "f0c4f0c62b774a959988cbb05e1df080": {
      "model_module": "@jupyter-widgets/base",
      "model_module_version": "1.2.0",
      "model_name": "LayoutModel",
      "state": {}
     },
     "f14bf27aeca0413a89d681066096af74": {
      "model_module": "@jupyter-widgets/controls",
      "model_module_version": "1.5.0",
      "model_name": "DescriptionStyleModel",
      "state": {
       "description_width": ""
      }
     },
     "f1739d40edab40bdb8f54a9fc1be958f": {
      "model_module": "@jupyter-widgets/base",
      "model_module_version": "1.2.0",
      "model_name": "LayoutModel",
      "state": {}
     },
     "f1938575c51945feaf761e33704af9de": {
      "model_module": "@jupyter-widgets/controls",
      "model_module_version": "1.5.0",
      "model_name": "FloatProgressModel",
      "state": {
       "bar_style": "success",
       "layout": "IPY_MODEL_6ad4710586944a988480964bb86da62b",
       "max": 5,
       "style": "IPY_MODEL_02c1422712184dd4b0eceeefbc4f8e4e",
       "value": 5
      }
     },
     "f227fb1945ec4543ab9c20e7ba463a4d": {
      "model_module": "@jupyter-widgets/controls",
      "model_module_version": "1.5.0",
      "model_name": "FloatProgressModel",
      "state": {
       "bar_style": "success",
       "layout": "IPY_MODEL_3eaca9f7deec4d75ae5f25186c98fcce",
       "max": 5,
       "style": "IPY_MODEL_27f8a0a62447420aa7160270d9b77157",
       "value": 5
      }
     },
     "f23269f7facf438ca36b741a557560f3": {
      "model_module": "@jupyter-widgets/controls",
      "model_module_version": "1.5.0",
      "model_name": "HTMLModel",
      "state": {
       "layout": "IPY_MODEL_4a62767afda545b78baf5a36f81883ec",
       "style": "IPY_MODEL_b8ef4f2a21fd41e5805d62702b6df799",
       "value": "100%"
      }
     },
     "f25b93e505f44a188ee62bca05f15950": {
      "model_module": "@jupyter-widgets/controls",
      "model_module_version": "1.5.0",
      "model_name": "HTMLModel",
      "state": {
       "layout": "IPY_MODEL_a2e3ddf9cd144acd9be98c0811be84df",
       "style": "IPY_MODEL_cdb315539b5e4c36adbc9385cc03b34d",
       "value": "100%"
      }
     },
     "f26418bed6c64809b8801c1b78634ed4": {
      "model_module": "@jupyter-widgets/base",
      "model_module_version": "1.2.0",
      "model_name": "LayoutModel",
      "state": {}
     },
     "f2cfb9ea00be44bc866970c270614cc6": {
      "model_module": "@jupyter-widgets/controls",
      "model_module_version": "1.5.0",
      "model_name": "ProgressStyleModel",
      "state": {
       "description_width": ""
      }
     },
     "f33faa7f5ee6415bbaa1a0bb1bbab86b": {
      "model_module": "@jupyter-widgets/controls",
      "model_module_version": "1.5.0",
      "model_name": "DescriptionStyleModel",
      "state": {
       "description_width": ""
      }
     },
     "f3a220a34cfc498886cea2147589fdb8": {
      "model_module": "@jupyter-widgets/base",
      "model_module_version": "1.2.0",
      "model_name": "LayoutModel",
      "state": {}
     },
     "f40562f007094344a4e9f1102ee88028": {
      "model_module": "@jupyter-widgets/base",
      "model_module_version": "1.2.0",
      "model_name": "LayoutModel",
      "state": {}
     },
     "f40989d7426545c2bd9ffc22a1842a1e": {
      "model_module": "@jupyter-widgets/base",
      "model_module_version": "1.2.0",
      "model_name": "LayoutModel",
      "state": {}
     },
     "f4151f633aa642e99ac77b88f7cd7a5b": {
      "model_module": "@jupyter-widgets/controls",
      "model_module_version": "1.5.0",
      "model_name": "DescriptionStyleModel",
      "state": {
       "description_width": ""
      }
     },
     "f4550b1f77744b7688a97f3ec0b4de6b": {
      "model_module": "@jupyter-widgets/controls",
      "model_module_version": "1.5.0",
      "model_name": "FloatProgressModel",
      "state": {
       "bar_style": "success",
       "layout": "IPY_MODEL_fccdad98be314f82a7ddd9e6a559e2be",
       "max": 5,
       "style": "IPY_MODEL_bc9c7d9a79894d8ca8468fac25704db1",
       "value": 5
      }
     },
     "f5001bf09baf4ed99c35e302bc5ac252": {
      "model_module": "@jupyter-widgets/base",
      "model_module_version": "1.2.0",
      "model_name": "LayoutModel",
      "state": {}
     },
     "f5476ddb427c4041887648ec61b502f9": {
      "model_module": "@jupyter-widgets/controls",
      "model_module_version": "1.5.0",
      "model_name": "FloatProgressModel",
      "state": {
       "bar_style": "danger",
       "layout": "IPY_MODEL_656fff3e9e2d4074ad7ff394c5aba902",
       "max": 5,
       "style": "IPY_MODEL_864d6e2d323c42ac99335412715b6354"
      }
     },
     "f5c7019d57d94f6a93cd70fbe7f74fdd": {
      "model_module": "@jupyter-widgets/controls",
      "model_module_version": "1.5.0",
      "model_name": "DescriptionStyleModel",
      "state": {
       "description_width": ""
      }
     },
     "f5f9d80721be464faac5bd1452c6fc62": {
      "model_module": "@jupyter-widgets/controls",
      "model_module_version": "1.5.0",
      "model_name": "DescriptionStyleModel",
      "state": {
       "description_width": ""
      }
     },
     "f6452de5c8f14695b2d29e285d83071d": {
      "model_module": "@jupyter-widgets/base",
      "model_module_version": "1.2.0",
      "model_name": "LayoutModel",
      "state": {}
     },
     "f6d394e2c1b04662afc5fac643b0105f": {
      "model_module": "@jupyter-widgets/base",
      "model_module_version": "1.2.0",
      "model_name": "LayoutModel",
      "state": {}
     },
     "f6dd3b220c0b4867bef94c984c36d1cd": {
      "model_module": "@jupyter-widgets/controls",
      "model_module_version": "1.5.0",
      "model_name": "HTMLModel",
      "state": {
       "layout": "IPY_MODEL_f40989d7426545c2bd9ffc22a1842a1e",
       "style": "IPY_MODEL_4f49a1579dcb495894603a5d59bdaf72",
       "value": "100%"
      }
     },
     "f734f6ccd1d145c692a7fb2d34f249a3": {
      "model_module": "@jupyter-widgets/controls",
      "model_module_version": "1.5.0",
      "model_name": "HTMLModel",
      "state": {
       "layout": "IPY_MODEL_208e5e6ebb1d450f87f64d5d0fca12c7",
       "style": "IPY_MODEL_9e45b9ca8f9149f6a5b641c2763932b5",
       "value": " 5/5 [00:00&lt;00:00, 24.37it/s]"
      }
     },
     "f76c364a303f498393756676d904b7fe": {
      "model_module": "@jupyter-widgets/controls",
      "model_module_version": "1.5.0",
      "model_name": "HTMLModel",
      "state": {
       "layout": "IPY_MODEL_598c49e6a6274b02909ec486f6fb3a01",
       "style": "IPY_MODEL_d90cd2e0a45a4807908d367aa9aef3bb",
       "value": "100%"
      }
     },
     "f78b167977d34478a1542b5a75c96b95": {
      "model_module": "@jupyter-widgets/controls",
      "model_module_version": "1.5.0",
      "model_name": "HBoxModel",
      "state": {
       "children": [
        "IPY_MODEL_7f73d89809ed4a2cbac28a63f86ad811",
        "IPY_MODEL_091f331a656a499b9e5f4124bbc5adb3",
        "IPY_MODEL_c67d510955b14dcdb7d4b69cb6f505c2"
       ],
       "layout": "IPY_MODEL_05aad7cdef044ca4ad60841ef415d3d0"
      }
     },
     "f7ed4529b3ec4202910dac7f81280d9e": {
      "model_module": "@jupyter-widgets/base",
      "model_module_version": "1.2.0",
      "model_name": "LayoutModel",
      "state": {}
     },
     "f822d0f2c620415f84063a18dc6252f7": {
      "model_module": "@jupyter-widgets/controls",
      "model_module_version": "1.5.0",
      "model_name": "FloatProgressModel",
      "state": {
       "bar_style": "success",
       "layout": "IPY_MODEL_45683d8f3bff41ff8185bc00e95fc66e",
       "max": 5,
       "style": "IPY_MODEL_0d9f6c2f67524253811130467ab9fde2",
       "value": 5
      }
     },
     "f8448f1c504141dfb670266f71028c5f": {
      "model_module": "@jupyter-widgets/controls",
      "model_module_version": "1.5.0",
      "model_name": "DescriptionStyleModel",
      "state": {
       "description_width": ""
      }
     },
     "f84d256b544b443eb644e062940d5a8d": {
      "model_module": "@jupyter-widgets/controls",
      "model_module_version": "1.5.0",
      "model_name": "DescriptionStyleModel",
      "state": {
       "description_width": ""
      }
     },
     "f8b8361139c3488dbcef9dc51df94e41": {
      "model_module": "@jupyter-widgets/controls",
      "model_module_version": "1.5.0",
      "model_name": "HTMLModel",
      "state": {
       "layout": "IPY_MODEL_653091a8c9504b74b31a728e862a8996",
       "style": "IPY_MODEL_02b39b00f0cf41e5b6ac22f3dfb33fcf",
       "value": "100%"
      }
     },
     "f8ed33a14a7f4594af51edc636869aa3": {
      "model_module": "@jupyter-widgets/controls",
      "model_module_version": "1.5.0",
      "model_name": "FloatProgressModel",
      "state": {
       "bar_style": "success",
       "layout": "IPY_MODEL_231bc794be6041d689b1070bb7650177",
       "max": 5,
       "style": "IPY_MODEL_800c3738ac34419ebcec63f26ef73e33",
       "value": 5
      }
     },
     "f9310da4688946f59026a2a02be11f30": {
      "model_module": "@jupyter-widgets/controls",
      "model_module_version": "1.5.0",
      "model_name": "HTMLModel",
      "state": {
       "layout": "IPY_MODEL_f5001bf09baf4ed99c35e302bc5ac252",
       "style": "IPY_MODEL_dbb8dc8b79044e5ca2ab4cea16f9882f",
       "value": "100%"
      }
     },
     "f9416bb0b29e496b9f839fe78948a79f": {
      "model_module": "@jupyter-widgets/controls",
      "model_module_version": "1.5.0",
      "model_name": "DescriptionStyleModel",
      "state": {
       "description_width": ""
      }
     },
     "f942056c6a96472b9b530a6b4b7dc570": {
      "model_module": "@jupyter-widgets/base",
      "model_module_version": "1.2.0",
      "model_name": "LayoutModel",
      "state": {}
     },
     "f948c3abf19b49579ea0a7ecf9f3b2c0": {
      "model_module": "@jupyter-widgets/base",
      "model_module_version": "1.2.0",
      "model_name": "LayoutModel",
      "state": {}
     },
     "fa3f9418ddfd447c8e043be85aae28aa": {
      "model_module": "@jupyter-widgets/controls",
      "model_module_version": "1.5.0",
      "model_name": "DescriptionStyleModel",
      "state": {
       "description_width": ""
      }
     },
     "fb2f79c1313e470a9a5da518d5d06cba": {
      "model_module": "@jupyter-widgets/controls",
      "model_module_version": "1.5.0",
      "model_name": "ProgressStyleModel",
      "state": {
       "description_width": ""
      }
     },
     "fb68c51a87814637ab22211d6901c052": {
      "model_module": "@jupyter-widgets/controls",
      "model_module_version": "1.5.0",
      "model_name": "DescriptionStyleModel",
      "state": {
       "description_width": ""
      }
     },
     "fbefc081cab549868cf5cd1a6f41979a": {
      "model_module": "@jupyter-widgets/controls",
      "model_module_version": "1.5.0",
      "model_name": "HTMLModel",
      "state": {
       "layout": "IPY_MODEL_1a24906f3fe54b97a91a12262e4909e5",
       "style": "IPY_MODEL_8c57f538a36b4d41a64346d44663ba58",
       "value": " 5/5 [00:00&lt;00:00, 58.34it/s]"
      }
     },
     "fbf5c64a433b4a72bd27c331fb1d900d": {
      "model_module": "@jupyter-widgets/base",
      "model_module_version": "1.2.0",
      "model_name": "LayoutModel",
      "state": {}
     },
     "fc3a48a4feec4118821172e6fe70ccad": {
      "model_module": "@jupyter-widgets/controls",
      "model_module_version": "1.5.0",
      "model_name": "HBoxModel",
      "state": {
       "children": [
        "IPY_MODEL_5e8ebfae26a54d558f103ecf645ae1ab",
        "IPY_MODEL_e68969f050894a5ab656620e14b1118f",
        "IPY_MODEL_a9690a25cf604d6f86e3995ddeb37718"
       ],
       "layout": "IPY_MODEL_9d37d2b88dab402f879a9634817eeb9b"
      }
     },
     "fc5f203c67674d789bbe89963f740aa7": {
      "model_module": "@jupyter-widgets/controls",
      "model_module_version": "1.5.0",
      "model_name": "HTMLModel",
      "state": {
       "layout": "IPY_MODEL_182882d172964ac1a7f4f0ef3f18181b",
       "style": "IPY_MODEL_3e955360bd484e5289e48659a29f4a32",
       "value": "100%"
      }
     },
     "fcb7f80d6fd241be9f6b1f260559bed0": {
      "model_module": "@jupyter-widgets/controls",
      "model_module_version": "1.5.0",
      "model_name": "ProgressStyleModel",
      "state": {
       "description_width": ""
      }
     },
     "fccdad98be314f82a7ddd9e6a559e2be": {
      "model_module": "@jupyter-widgets/base",
      "model_module_version": "1.2.0",
      "model_name": "LayoutModel",
      "state": {}
     },
     "fd1b4e412b65435db58d38ded4ac0340": {
      "model_module": "@jupyter-widgets/controls",
      "model_module_version": "1.5.0",
      "model_name": "HTMLModel",
      "state": {
       "layout": "IPY_MODEL_a22adf622cd84d41a1112b2f11dab72c",
       "style": "IPY_MODEL_a1fe5da69e50418da34d5e63ec224ce1",
       "value": " 5/5 [00:13&lt;00:00,  2.62s/it]"
      }
     },
     "fd922196064a44eaa692b4746ccf5569": {
      "model_module": "@jupyter-widgets/base",
      "model_module_version": "1.2.0",
      "model_name": "LayoutModel",
      "state": {}
     },
     "fea7259315a74287b78d7bf4fea86b20": {
      "model_module": "@jupyter-widgets/controls",
      "model_module_version": "1.5.0",
      "model_name": "HBoxModel",
      "state": {
       "children": [
        "IPY_MODEL_1a43b61e87a14ae39d4db1b2aab6b686",
        "IPY_MODEL_72dc10a81b724263a1a3789dc601ed63",
        "IPY_MODEL_0a38b5c1c6b343fa9c68f8a8ee59c545"
       ],
       "layout": "IPY_MODEL_42b363fbe64f496991e465ed445c2dc9"
      }
     },
     "feaac71ae44748dd928902741c9761f9": {
      "model_module": "@jupyter-widgets/controls",
      "model_module_version": "1.5.0",
      "model_name": "FloatProgressModel",
      "state": {
       "bar_style": "success",
       "layout": "IPY_MODEL_f948c3abf19b49579ea0a7ecf9f3b2c0",
       "max": 5,
       "style": "IPY_MODEL_e45da46573a743a7bebf5288a6eea8ad",
       "value": 5
      }
     },
     "ff1687154b3d402197a08ff338e9b51b": {
      "model_module": "@jupyter-widgets/controls",
      "model_module_version": "1.5.0",
      "model_name": "HTMLModel",
      "state": {
       "layout": "IPY_MODEL_00183202665b4be6bcd23414c1e432c9",
       "style": "IPY_MODEL_85ceb5e0c71542f2936417b78a4081f2",
       "value": "100%"
      }
     },
     "ff593d0690274d26920bc79c38d09d76": {
      "model_module": "@jupyter-widgets/controls",
      "model_module_version": "1.5.0",
      "model_name": "HBoxModel",
      "state": {
       "children": [
        "IPY_MODEL_4bd216f18ee244bbbef08366e834ee71",
        "IPY_MODEL_d695c537884d4483975840d315905e01",
        "IPY_MODEL_ac3932340eb94b3b8d90741a4db6422d"
       ],
       "layout": "IPY_MODEL_c2e0d80f63dc414dab989a197e79436e"
      }
     },
     "ffd5451ed6c34fb89b813f627ca13f54": {
      "model_module": "@jupyter-widgets/controls",
      "model_module_version": "1.5.0",
      "model_name": "ProgressStyleModel",
      "state": {
       "description_width": ""
      }
     },
     "fffad96590a5424ea8213a8162231a42": {
      "model_module": "@jupyter-widgets/base",
      "model_module_version": "1.2.0",
      "model_name": "LayoutModel",
      "state": {}
     }
    },
    "version_major": 2,
    "version_minor": 0
   }
  }
 },
 "nbformat": 4,
 "nbformat_minor": 4
}
