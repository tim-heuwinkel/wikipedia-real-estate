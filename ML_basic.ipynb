{
 "cells": [
  {
   "cell_type": "markdown",
   "metadata": {},
   "source": [
    "# Machine learning with basic housing data"
   ]
  },
  {
   "cell_type": "markdown",
   "metadata": {},
   "source": [
    "Experimenting with different algorithms on a non-geographical and basic geographical feature set."
   ]
  },
  {
   "cell_type": "markdown",
   "metadata": {},
   "source": [
    "### Import packages"
   ]
  },
  {
   "cell_type": "code",
   "execution_count": 1,
   "metadata": {},
   "outputs": [],
   "source": [
    "import json\n",
    "import math\n",
    "import warnings\n",
    "warnings.filterwarnings(action=\"ignore\")\n",
    "\n",
    "from catboost import CatBoostRegressor\n",
    "import xgboost as xgb\n",
    "\n",
    "from sklearn.metrics import mean_absolute_error, r2_score, mean_squared_error\n",
    "from sklearn.preprocessing import StandardScaler\n",
    "from sklearn.model_selection import train_test_split, RandomizedSearchCV, KFold\n",
    "from sklearn.ensemble import RandomForestClassifier\n",
    "from sklearn import linear_model\n",
    "\n",
    "import matplotlib.pyplot as plt\n",
    "import numpy as np\n",
    "import pandas as pd\n",
    "from tqdm.notebook import tqdm\n",
    "from IPython.display import display_html"
   ]
  },
  {
   "cell_type": "markdown",
   "metadata": {},
   "source": [
    "Definde constants.\n",
    "\n",
    "- ``PATH``: Path to the base data folder\n",
    "- ``K_FOLDS``: Number of folds to perform for cross validation"
   ]
  },
  {
   "cell_type": "code",
   "execution_count": 2,
   "metadata": {},
   "outputs": [],
   "source": [
    "PATH = \"C:/Users/Tim/.keras/datasets/wikipedia_real_estate/\"\n",
    "K_FOLDS = 5"
   ]
  },
  {
   "cell_type": "markdown",
   "metadata": {},
   "source": [
    "Load structured data and print columns."
   ]
  },
  {
   "cell_type": "code",
   "execution_count": 3,
   "metadata": {},
   "outputs": [
    {
     "name": "stdout",
     "output_type": "stream",
     "text": [
      "(9556, 65)\n",
      "Index(['_id', 'PROPERTYZIP', 'MUNICODE', 'SCHOOLCODE', 'NEIGHCODE', 'LOTAREA',\n",
      "       'SALEDATE', 'SALEPRICE', 'FAIRMARKETTOTAL', 'STORIES', 'YEARBLT',\n",
      "       'GRADE', 'CONDITION', 'CDU', 'TOTALROOMS', 'BEDROOMS', 'FULLBATHS',\n",
      "       'HALFBATHS', 'FIREPLACES', 'BSMTGARAGE', 'FINISHEDLIVINGAREA',\n",
      "       'latitude', 'longitude', 'DISTRICT', 'SALEYEAR', 'SALEYEAR_STR_2015',\n",
      "       'SALEYEAR_STR_2016', 'SALEYEAR_STR_2017', 'SALEYEAR_STR_2018',\n",
      "       'SALEYEAR_STR_2019', 'SALEYEAR_STR_2020',\n",
      "       'HEATINGCOOLINGDESC_CentralHeat',\n",
      "       'HEATINGCOOLINGDESC_CentralHeatwithAC', 'OWNERDESC_REGULAR',\n",
      "       'OWNERDESC_REGULAR-ETAL', 'OWNERDESC_REGULAR-ETUXORETVIR',\n",
      "       'STYLEDESC_BI-LEVEL', 'STYLEDESC_BUNGALOW', 'STYLEDESC_CAPECOD',\n",
      "       'STYLEDESC_COLONIAL', 'STYLEDESC_CONTEMPORARY', 'STYLEDESC_OLDSTYLE',\n",
      "       'STYLEDESC_RANCH', 'STYLEDESC_SEMIDETACHED', 'STYLEDESC_SPLITLEVEL',\n",
      "       'STYLEDESC_TUDOR', 'STYLEDESC_VICTORIAN', 'EXTFINISH_DESC_Brick',\n",
      "       'EXTFINISH_DESC_ConcreteBlock', 'EXTFINISH_DESC_Frame',\n",
      "       'EXTFINISH_DESC_MasonryFRAME', 'EXTFINISH_DESC_Stone',\n",
      "       'EXTFINISH_DESC_Stucco', 'ROOFDESC_ROLL', 'ROOFDESC_SHINGLE',\n",
      "       'ROOFDESC_SLATE', 'ROOFDESC_TILE', 'BASEMENTDESC_Crawl',\n",
      "       'BASEMENTDESC_Full', 'BASEMENTDESC_None', 'BASEMENTDESC_Part',\n",
      "       'ROOFDESC_ROLL.1', 'ROOFDESC_SHINGLE.1', 'ROOFDESC_SLATE.1',\n",
      "       'ROOFDESC_TILE.1'],\n",
      "      dtype='object')\n"
     ]
    },
    {
     "data": {
      "text/html": [
       "<div>\n",
       "<style scoped>\n",
       "    .dataframe tbody tr th:only-of-type {\n",
       "        vertical-align: middle;\n",
       "    }\n",
       "\n",
       "    .dataframe tbody tr th {\n",
       "        vertical-align: top;\n",
       "    }\n",
       "\n",
       "    .dataframe thead th {\n",
       "        text-align: right;\n",
       "    }\n",
       "</style>\n",
       "<table border=\"1\" class=\"dataframe\">\n",
       "  <thead>\n",
       "    <tr style=\"text-align: right;\">\n",
       "      <th></th>\n",
       "      <th>_id</th>\n",
       "      <th>PROPERTYZIP</th>\n",
       "      <th>MUNICODE</th>\n",
       "      <th>SCHOOLCODE</th>\n",
       "      <th>NEIGHCODE</th>\n",
       "      <th>LOTAREA</th>\n",
       "      <th>SALEDATE</th>\n",
       "      <th>SALEPRICE</th>\n",
       "      <th>FAIRMARKETTOTAL</th>\n",
       "      <th>STORIES</th>\n",
       "      <th>...</th>\n",
       "      <th>ROOFDESC_SLATE</th>\n",
       "      <th>ROOFDESC_TILE</th>\n",
       "      <th>BASEMENTDESC_Crawl</th>\n",
       "      <th>BASEMENTDESC_Full</th>\n",
       "      <th>BASEMENTDESC_None</th>\n",
       "      <th>BASEMENTDESC_Part</th>\n",
       "      <th>ROOFDESC_ROLL.1</th>\n",
       "      <th>ROOFDESC_SHINGLE.1</th>\n",
       "      <th>ROOFDESC_SLATE.1</th>\n",
       "      <th>ROOFDESC_TILE.1</th>\n",
       "    </tr>\n",
       "  </thead>\n",
       "  <tbody>\n",
       "    <tr>\n",
       "      <th>0</th>\n",
       "      <td>161705</td>\n",
       "      <td>15122</td>\n",
       "      <td>870</td>\n",
       "      <td>45</td>\n",
       "      <td>87005</td>\n",
       "      <td>10899</td>\n",
       "      <td>05-01-2018</td>\n",
       "      <td>145000.0</td>\n",
       "      <td>76700</td>\n",
       "      <td>1.0</td>\n",
       "      <td>...</td>\n",
       "      <td>0</td>\n",
       "      <td>0</td>\n",
       "      <td>0</td>\n",
       "      <td>1</td>\n",
       "      <td>0</td>\n",
       "      <td>0</td>\n",
       "      <td>0</td>\n",
       "      <td>1</td>\n",
       "      <td>0</td>\n",
       "      <td>0</td>\n",
       "    </tr>\n",
       "    <tr>\n",
       "      <th>1</th>\n",
       "      <td>530852</td>\n",
       "      <td>15146</td>\n",
       "      <td>879</td>\n",
       "      <td>18</td>\n",
       "      <td>87905</td>\n",
       "      <td>10691</td>\n",
       "      <td>05-13-2019</td>\n",
       "      <td>139997.0</td>\n",
       "      <td>106200</td>\n",
       "      <td>1.0</td>\n",
       "      <td>...</td>\n",
       "      <td>0</td>\n",
       "      <td>0</td>\n",
       "      <td>0</td>\n",
       "      <td>1</td>\n",
       "      <td>0</td>\n",
       "      <td>0</td>\n",
       "      <td>0</td>\n",
       "      <td>1</td>\n",
       "      <td>0</td>\n",
       "      <td>0</td>\n",
       "    </tr>\n",
       "    <tr>\n",
       "      <th>2</th>\n",
       "      <td>144978</td>\n",
       "      <td>15202</td>\n",
       "      <td>826</td>\n",
       "      <td>2</td>\n",
       "      <td>82601</td>\n",
       "      <td>11813</td>\n",
       "      <td>05-26-2017</td>\n",
       "      <td>170000.0</td>\n",
       "      <td>135300</td>\n",
       "      <td>1.0</td>\n",
       "      <td>...</td>\n",
       "      <td>0</td>\n",
       "      <td>0</td>\n",
       "      <td>0</td>\n",
       "      <td>1</td>\n",
       "      <td>0</td>\n",
       "      <td>0</td>\n",
       "      <td>0</td>\n",
       "      <td>1</td>\n",
       "      <td>0</td>\n",
       "      <td>0</td>\n",
       "    </tr>\n",
       "    <tr>\n",
       "      <th>3</th>\n",
       "      <td>436602</td>\n",
       "      <td>15202</td>\n",
       "      <td>803</td>\n",
       "      <td>29</td>\n",
       "      <td>80302</td>\n",
       "      <td>5324</td>\n",
       "      <td>06-06-2017</td>\n",
       "      <td>145000.0</td>\n",
       "      <td>117300</td>\n",
       "      <td>2.0</td>\n",
       "      <td>...</td>\n",
       "      <td>0</td>\n",
       "      <td>0</td>\n",
       "      <td>0</td>\n",
       "      <td>1</td>\n",
       "      <td>0</td>\n",
       "      <td>0</td>\n",
       "      <td>0</td>\n",
       "      <td>1</td>\n",
       "      <td>0</td>\n",
       "      <td>0</td>\n",
       "    </tr>\n",
       "    <tr>\n",
       "      <th>4</th>\n",
       "      <td>145066</td>\n",
       "      <td>15218</td>\n",
       "      <td>114</td>\n",
       "      <td>47</td>\n",
       "      <td>11403</td>\n",
       "      <td>3600</td>\n",
       "      <td>04-09-2016</td>\n",
       "      <td>325000.0</td>\n",
       "      <td>250000</td>\n",
       "      <td>2.0</td>\n",
       "      <td>...</td>\n",
       "      <td>0</td>\n",
       "      <td>0</td>\n",
       "      <td>0</td>\n",
       "      <td>1</td>\n",
       "      <td>0</td>\n",
       "      <td>0</td>\n",
       "      <td>0</td>\n",
       "      <td>1</td>\n",
       "      <td>0</td>\n",
       "      <td>0</td>\n",
       "    </tr>\n",
       "    <tr>\n",
       "      <th>5</th>\n",
       "      <td>145137</td>\n",
       "      <td>15228</td>\n",
       "      <td>926</td>\n",
       "      <td>26</td>\n",
       "      <td>92607</td>\n",
       "      <td>6406</td>\n",
       "      <td>04-30-2015</td>\n",
       "      <td>172900.0</td>\n",
       "      <td>137300</td>\n",
       "      <td>2.0</td>\n",
       "      <td>...</td>\n",
       "      <td>0</td>\n",
       "      <td>0</td>\n",
       "      <td>0</td>\n",
       "      <td>1</td>\n",
       "      <td>0</td>\n",
       "      <td>0</td>\n",
       "      <td>0</td>\n",
       "      <td>1</td>\n",
       "      <td>0</td>\n",
       "      <td>0</td>\n",
       "    </tr>\n",
       "    <tr>\n",
       "      <th>6</th>\n",
       "      <td>145246</td>\n",
       "      <td>15241</td>\n",
       "      <td>950</td>\n",
       "      <td>42</td>\n",
       "      <td>95001</td>\n",
       "      <td>38376</td>\n",
       "      <td>12-17-2015</td>\n",
       "      <td>817000.0</td>\n",
       "      <td>751600</td>\n",
       "      <td>2.0</td>\n",
       "      <td>...</td>\n",
       "      <td>0</td>\n",
       "      <td>0</td>\n",
       "      <td>0</td>\n",
       "      <td>1</td>\n",
       "      <td>0</td>\n",
       "      <td>0</td>\n",
       "      <td>0</td>\n",
       "      <td>1</td>\n",
       "      <td>0</td>\n",
       "      <td>0</td>\n",
       "    </tr>\n",
       "    <tr>\n",
       "      <th>7</th>\n",
       "      <td>529513</td>\n",
       "      <td>15132</td>\n",
       "      <td>409</td>\n",
       "      <td>23</td>\n",
       "      <td>40005</td>\n",
       "      <td>3844</td>\n",
       "      <td>01-09-2020</td>\n",
       "      <td>39000.0</td>\n",
       "      <td>45100</td>\n",
       "      <td>1.0</td>\n",
       "      <td>...</td>\n",
       "      <td>0</td>\n",
       "      <td>0</td>\n",
       "      <td>0</td>\n",
       "      <td>1</td>\n",
       "      <td>0</td>\n",
       "      <td>0</td>\n",
       "      <td>0</td>\n",
       "      <td>1</td>\n",
       "      <td>0</td>\n",
       "      <td>0</td>\n",
       "    </tr>\n",
       "    <tr>\n",
       "      <th>8</th>\n",
       "      <td>146103</td>\n",
       "      <td>15212</td>\n",
       "      <td>127</td>\n",
       "      <td>47</td>\n",
       "      <td>12703</td>\n",
       "      <td>5284</td>\n",
       "      <td>06-30-2016</td>\n",
       "      <td>65000.0</td>\n",
       "      <td>52800</td>\n",
       "      <td>1.5</td>\n",
       "      <td>...</td>\n",
       "      <td>0</td>\n",
       "      <td>0</td>\n",
       "      <td>0</td>\n",
       "      <td>1</td>\n",
       "      <td>0</td>\n",
       "      <td>0</td>\n",
       "      <td>0</td>\n",
       "      <td>1</td>\n",
       "      <td>0</td>\n",
       "      <td>0</td>\n",
       "    </tr>\n",
       "    <tr>\n",
       "      <th>9</th>\n",
       "      <td>146155</td>\n",
       "      <td>15212</td>\n",
       "      <td>127</td>\n",
       "      <td>47</td>\n",
       "      <td>12701</td>\n",
       "      <td>5544</td>\n",
       "      <td>11-10-2018</td>\n",
       "      <td>162000.0</td>\n",
       "      <td>111200</td>\n",
       "      <td>1.0</td>\n",
       "      <td>...</td>\n",
       "      <td>0</td>\n",
       "      <td>0</td>\n",
       "      <td>0</td>\n",
       "      <td>1</td>\n",
       "      <td>0</td>\n",
       "      <td>0</td>\n",
       "      <td>0</td>\n",
       "      <td>1</td>\n",
       "      <td>0</td>\n",
       "      <td>0</td>\n",
       "    </tr>\n",
       "  </tbody>\n",
       "</table>\n",
       "<p>10 rows × 65 columns</p>\n",
       "</div>"
      ],
      "text/plain": [
       "      _id  PROPERTYZIP  MUNICODE  SCHOOLCODE  NEIGHCODE  LOTAREA    SALEDATE  \\\n",
       "0  161705        15122       870          45      87005    10899  05-01-2018   \n",
       "1  530852        15146       879          18      87905    10691  05-13-2019   \n",
       "2  144978        15202       826           2      82601    11813  05-26-2017   \n",
       "3  436602        15202       803          29      80302     5324  06-06-2017   \n",
       "4  145066        15218       114          47      11403     3600  04-09-2016   \n",
       "5  145137        15228       926          26      92607     6406  04-30-2015   \n",
       "6  145246        15241       950          42      95001    38376  12-17-2015   \n",
       "7  529513        15132       409          23      40005     3844  01-09-2020   \n",
       "8  146103        15212       127          47      12703     5284  06-30-2016   \n",
       "9  146155        15212       127          47      12701     5544  11-10-2018   \n",
       "\n",
       "   SALEPRICE  FAIRMARKETTOTAL  STORIES  ...  ROOFDESC_SLATE  ROOFDESC_TILE  \\\n",
       "0   145000.0            76700      1.0  ...               0              0   \n",
       "1   139997.0           106200      1.0  ...               0              0   \n",
       "2   170000.0           135300      1.0  ...               0              0   \n",
       "3   145000.0           117300      2.0  ...               0              0   \n",
       "4   325000.0           250000      2.0  ...               0              0   \n",
       "5   172900.0           137300      2.0  ...               0              0   \n",
       "6   817000.0           751600      2.0  ...               0              0   \n",
       "7    39000.0            45100      1.0  ...               0              0   \n",
       "8    65000.0            52800      1.5  ...               0              0   \n",
       "9   162000.0           111200      1.0  ...               0              0   \n",
       "\n",
       "   BASEMENTDESC_Crawl  BASEMENTDESC_Full  BASEMENTDESC_None  \\\n",
       "0                   0                  1                  0   \n",
       "1                   0                  1                  0   \n",
       "2                   0                  1                  0   \n",
       "3                   0                  1                  0   \n",
       "4                   0                  1                  0   \n",
       "5                   0                  1                  0   \n",
       "6                   0                  1                  0   \n",
       "7                   0                  1                  0   \n",
       "8                   0                  1                  0   \n",
       "9                   0                  1                  0   \n",
       "\n",
       "   BASEMENTDESC_Part  ROOFDESC_ROLL.1  ROOFDESC_SHINGLE.1  ROOFDESC_SLATE.1  \\\n",
       "0                  0                0                   1                 0   \n",
       "1                  0                0                   1                 0   \n",
       "2                  0                0                   1                 0   \n",
       "3                  0                0                   1                 0   \n",
       "4                  0                0                   1                 0   \n",
       "5                  0                0                   1                 0   \n",
       "6                  0                0                   1                 0   \n",
       "7                  0                0                   1                 0   \n",
       "8                  0                0                   1                 0   \n",
       "9                  0                0                   1                 0   \n",
       "\n",
       "   ROOFDESC_TILE.1  \n",
       "0                0  \n",
       "1                0  \n",
       "2                0  \n",
       "3                0  \n",
       "4                0  \n",
       "5                0  \n",
       "6                0  \n",
       "7                0  \n",
       "8                0  \n",
       "9                0  \n",
       "\n",
       "[10 rows x 65 columns]"
      ]
     },
     "execution_count": 3,
     "metadata": {},
     "output_type": "execute_result"
    }
   ],
   "source": [
    "structured = pd.read_csv(PATH+\"structured_preprocessed.csv\")\n",
    "print(structured.shape)\n",
    "print(structured.columns)\n",
    "structured.head(10)"
   ]
  },
  {
   "cell_type": "markdown",
   "metadata": {},
   "source": [
    "### Defining useful functions"
   ]
  },
  {
   "cell_type": "code",
   "execution_count": 4,
   "metadata": {},
   "outputs": [],
   "source": [
    "def find_coord(x, df):\n",
    "    \"\"\"Returns id, latitude and longitude for property with given id\"\"\"\n",
    "    \n",
    "    _id, lat, long = x[0], x[1], x[2]\n",
    "    row = df[df[\"_id\"] == _id].iloc[0]\n",
    "    return row[\"_id\"], row[\"latitude\"], row[\"longitude\"]"
   ]
  },
  {
   "cell_type": "code",
   "execution_count": 5,
   "metadata": {},
   "outputs": [],
   "source": [
    "def make_train_test(df, spatial=None, verbose=True, dummy=False):\n",
    "    \"\"\"Returns train/test sets along with column names and df for saving errors\"\"\"\n",
    "    \n",
    "    to_drop = [\"PROPERTYZIP\", \"MUNICODE\", \"SCHOOLCODE\", \"NEIGHCODE\", \"SALEDATE\", \"SALEPRICE\",\n",
    "               \"FAIRMARKETTOTAL\", \"latitude\", \"longitude\", \"SALEYEAR\", \"DISTRICT\"]\n",
    "    if spatial:\n",
    "        to_drop.remove(spatial)  # remove from dropped columns to retain\n",
    "    \n",
    "    X = df.drop(to_drop, axis=1)\n",
    "    \n",
    "    if dummy:\n",
    "        X = pd.get_dummies(X, columns=[spatial])\n",
    "    \n",
    "    # save col names for later\n",
    "    X_columns = list(X.columns)\n",
    "    X_columns.remove(\"_id\")  # remove id from col list, since it will be filtered out later\n",
    "    X = X.to_numpy()\n",
    "    \n",
    "    y = df[\"SALEPRICE\"].to_numpy()\n",
    "    \n",
    "    X_train, X_test, y_train, y_test = train_test_split(X, y, test_size=0.25, random_state=42)\n",
    "    \n",
    "    # save ids for later\n",
    "    train_ids = [x[0] for x in X_train]\n",
    "    test_ids = [x[0] for x in X_test]\n",
    "    X_train = X_train[:, 1:]  # remove first column (id)\n",
    "    X_test = X_test[:, 1:]    # remove first column (id)\n",
    "    \n",
    "    X_train_train, X_train_val, y_train_train, y_train_val = train_test_split(X_train, y_train, test_size=0.25, random_state=42)\n",
    "    \n",
    "    if verbose:\n",
    "        print(f\"{X_train.shape}: {X_train_train.shape} + {X_train_val.shape}\")\n",
    "        print(f\"{y_train.shape}: {y_train_train.shape} + {y_train_val.shape}\")\n",
    "        print(X_test.shape)\n",
    "        print(y_test.shape)\n",
    "    \n",
    "    # create error df\n",
    "    error_df = pd.DataFrame(data={\"id\": test_ids, \"lat\": [0]*len(test_ids), \"long\": [0]*len(test_ids)})\n",
    "    error_df = error_df.apply(lambda x: find_coord(x, df), axis=1, result_type='broadcast')\n",
    "    error_df.head(10)\n",
    "    \n",
    "    return X_columns, [X, y, X_train, X_test, y_train, y_test, X_train_train, X_train_val, y_train_train, y_train_val], error_df"
   ]
  },
  {
   "cell_type": "code",
   "execution_count": 6,
   "metadata": {},
   "outputs": [],
   "source": [
    "def mean_absolute_percentage_error(y_true, y_pred):\n",
    "    \"\"\"Returns MAPE\"\"\"\n",
    "    \n",
    "    y_true, y_pred = np.array(y_true), np.array(y_pred)\n",
    "    return np.mean(np.abs((y_true - y_pred) / y_true)) * 100"
   ]
  },
  {
   "cell_type": "code",
   "execution_count": 7,
   "metadata": {},
   "outputs": [],
   "source": [
    "def get_metrics(y_true, y_pred, print_out=True):\n",
    "    \"\"\"Returns MAE, RMSE, MAPE and R^2\"\"\"\n",
    "    \n",
    "    mae = mean_absolute_error(y_true, y_pred)\n",
    "    rmse = mean_squared_error(y_true, y_pred, squared=False)\n",
    "    mape = mean_absolute_percentage_error(y_true, y_pred)\n",
    "    r_squared = r2_score(y_true, y_pred)\n",
    "    \n",
    "    if print_out:\n",
    "        print(f\"MAE:  {round(mae)}\")\n",
    "        print(f\"RMSE: {round(rmse)}\")\n",
    "        print(f\"MAPE: {round(mape, 2)}%\")\n",
    "        print(f\"R^2:  {round(r_squared, 3)}\")\n",
    "    else:  \n",
    "        return mae, rmse, mape, r_squared"
   ]
  },
  {
   "cell_type": "code",
   "execution_count": 8,
   "metadata": {},
   "outputs": [],
   "source": [
    "def cross_validation(estimator, X, y, **kwargs):\n",
    "    \"\"\"Returns and prints cross validated MAE, RMSE, MAPE and R^2\"\"\"\n",
    "    \n",
    "    maes, rmses, mapes, r_squareds = [], [], [], []\n",
    "    X_cv = X[:, 1:]  # remove \"_id\" column\n",
    "\n",
    "    kf = KFold(n_splits=K_FOLDS, shuffle=True, random_state=42)\n",
    "    for train_index, test_index in tqdm(kf.split(X_cv), total=5):\n",
    "        X_train, X_test = X_cv[train_index], X_cv[test_index]\n",
    "        y_train, y_test = y[train_index], y[test_index]\n",
    "        \n",
    "        estimator.fit(X=X_train, y=y_train, **kwargs)\n",
    "\n",
    "\n",
    "        y_pred_cv = estimator.predict(X_test)\n",
    "        mae, rmse, mape, r_squared = get_metrics(y_test, y_pred_cv, print_out=False)\n",
    "        maes.append(mae)\n",
    "        rmses.append(rmse)\n",
    "        mapes.append(mape)\n",
    "        r_squareds.append(r_squared)\n",
    "    \n",
    "    mae_cv, rmse_cv = round(np.mean(maes)), round(np.mean(rmses))\n",
    "    mape_cv, r_squared_cv = round(np.mean(mapes), 2), round(np.mean(r_squareds), 3)\n",
    "    \n",
    "    print(f\"MAE:  {mae_cv}\")\n",
    "    print(f\"RMSE: {rmse_cv}\")\n",
    "    print(f\"MAPE: {mape_cv}%\")\n",
    "    print(f\"R^2:  {r_squared_cv}\")\n",
    "    \n",
    "    return mae_cv, rmse_cv, mape_cv, r_squared_cv"
   ]
  },
  {
   "cell_type": "markdown",
   "metadata": {},
   "source": [
    "Make train/test split"
   ]
  },
  {
   "cell_type": "code",
   "execution_count": 9,
   "metadata": {},
   "outputs": [
    {
     "name": "stdout",
     "output_type": "stream",
     "text": [
      "(7167, 53): (5375, 53) + (1792, 53)\n",
      "(7167,): (5375,) + (1792,)\n",
      "(2389, 53)\n",
      "(2389,)\n"
     ]
    }
   ],
   "source": [
    "X_columns, data_sets, error_df = make_train_test(structured)\n",
    "X, y, X_train, X_test, y_train, y_test, X_train_train, X_train_val, y_train_train, y_train_val = data_sets"
   ]
  },
  {
   "cell_type": "code",
   "execution_count": 10,
   "metadata": {},
   "outputs": [],
   "source": [
    "results_df = pd.DataFrame()"
   ]
  },
  {
   "cell_type": "markdown",
   "metadata": {},
   "source": [
    "## Only structured data"
   ]
  },
  {
   "cell_type": "markdown",
   "metadata": {},
   "source": [
    "### Linear model"
   ]
  },
  {
   "cell_type": "code",
   "execution_count": 11,
   "metadata": {},
   "outputs": [
    {
     "data": {
      "text/plain": [
       "LinearRegression()"
      ]
     },
     "execution_count": 11,
     "metadata": {},
     "output_type": "execute_result"
    }
   ],
   "source": [
    "model_01 = linear_model.LinearRegression()\n",
    "# model_01 = linear_model.Lasso()\n",
    "# model_01 = linear_model.Ridge()\n",
    "model_01.fit(X_train, y_train)"
   ]
  },
  {
   "cell_type": "code",
   "execution_count": 12,
   "metadata": {},
   "outputs": [
    {
     "name": "stdout",
     "output_type": "stream",
     "text": [
      "MAE:  43695\n",
      "RMSE: 60649\n",
      "MAPE: 27.18%\n",
      "R^2:  0.794\n"
     ]
    }
   ],
   "source": [
    "# y_pred_01 = [pow(2, pred) for pred in model_01.predict(X_test)] # reverse log transformation\n",
    "y_pred_01 = model_01.predict(X_test)\n",
    "get_metrics(y_test, y_pred_01)"
   ]
  },
  {
   "cell_type": "code",
   "execution_count": 13,
   "metadata": {},
   "outputs": [],
   "source": [
    "error_df[\"linear\"] = [test - pred for test, pred in zip(y_test, y_pred_01)]"
   ]
  },
  {
   "cell_type": "code",
   "execution_count": 14,
   "metadata": {},
   "outputs": [
    {
     "data": {
      "application/vnd.jupyter.widget-view+json": {
       "model_id": "efab7cb62e9e4b678757cdedc58daaa0",
       "version_major": 2,
       "version_minor": 0
      },
      "text/plain": [
       "  0%|          | 0/5 [00:00<?, ?it/s]"
      ]
     },
     "metadata": {},
     "output_type": "display_data"
    },
    {
     "name": "stdout",
     "output_type": "stream",
     "text": [
      "MAE:  44125\n",
      "RMSE: 62302\n",
      "MAPE: 28.15%\n",
      "R^2:  0.792\n"
     ]
    }
   ],
   "source": [
    "results_df[\"Linear: S\"] = cross_validation(model_01, X, y)"
   ]
  },
  {
   "cell_type": "markdown",
   "metadata": {},
   "source": [
    "### Random forest"
   ]
  },
  {
   "cell_type": "code",
   "execution_count": 17,
   "metadata": {},
   "outputs": [
    {
     "data": {
      "text/plain": [
       "RandomForestClassifier(max_depth=6, max_features=None, n_jobs=-1,\n",
       "                       random_state=42)"
      ]
     },
     "execution_count": 17,
     "metadata": {},
     "output_type": "execute_result"
    }
   ],
   "source": [
    "kwargs = dict(n_jobs=-1, n_estimators=100, max_features=None, random_state=42)\n",
    "model_02 = RandomForestClassifier(max_depth=6, **kwargs)\n",
    "model_02.fit(X_train, y_train)"
   ]
  },
  {
   "cell_type": "code",
   "execution_count": 18,
   "metadata": {},
   "outputs": [
    {
     "name": "stdout",
     "output_type": "stream",
     "text": [
      "MAE:  50247\n",
      "RMSE: 71309\n",
      "MAPE: 30.8%\n",
      "R^2:  0.715\n"
     ]
    }
   ],
   "source": [
    "y_pred_02 = model_02.predict(X_test)\n",
    "get_metrics(y_test, y_pred_02)"
   ]
  },
  {
   "cell_type": "markdown",
   "metadata": {},
   "source": [
    "Perform hyperparameter optimization with 3-Fold cross validation."
   ]
  },
  {
   "cell_type": "code",
   "execution_count": 29,
   "metadata": {},
   "outputs": [],
   "source": [
    "model_02 = RandomForestClassifier(verbose=0, n_jobs=-1)\n",
    "\n",
    "params_rf = {\"max_depth\": [3, 6, 9, 12, 15],\n",
    "             \"min_samples_leaf\": [1, 2, 4],\n",
    "             \"min_samples_split\": [2, 5, 10],\n",
    "             \"random_state\": [42],\n",
    "             \"n_estimators\": [300]}\n",
    "\n",
    "randomsearch_rf = RandomizedSearchCV(estimator=model_02, param_distributions=params_rf, n_iter=40, random_state=42,\n",
    "                                  scoring=\"neg_root_mean_squared_error\", n_jobs=-1, verbose=1, cv=3)"
   ]
  },
  {
   "cell_type": "code",
   "execution_count": 30,
   "metadata": {},
   "outputs": [
    {
     "name": "stdout",
     "output_type": "stream",
     "text": [
      "Fitting 3 folds for each of 40 candidates, totalling 120 fits\n"
     ]
    },
    {
     "name": "stderr",
     "output_type": "stream",
     "text": [
      "[Parallel(n_jobs=-1)]: Using backend LokyBackend with 12 concurrent workers.\n",
      "[Parallel(n_jobs=-1)]: Done  26 tasks      | elapsed:  2.3min\n",
      "[Parallel(n_jobs=-1)]: Done 120 out of 120 | elapsed:  9.7min finished\n"
     ]
    }
   ],
   "source": [
    "randomsearch_rf.fit(X[:, 1:], y)\n",
    "best_params_rf = randomsearch_rf.best_params_"
   ]
  },
  {
   "cell_type": "markdown",
   "metadata": {},
   "source": [
    "Create best model"
   ]
  },
  {
   "cell_type": "code",
   "execution_count": 31,
   "metadata": {},
   "outputs": [],
   "source": [
    "model_02 = RandomForestClassifier(verbose=0, n_jobs=-1, **best_params_rf)"
   ]
  },
  {
   "cell_type": "code",
   "execution_count": 32,
   "metadata": {},
   "outputs": [
    {
     "data": {
      "application/vnd.jupyter.widget-view+json": {
       "model_id": "e552369994b4448d884302b8ac54a5ca",
       "version_major": 2,
       "version_minor": 0
      },
      "text/plain": [
       "  0%|          | 0/5 [00:00<?, ?it/s]"
      ]
     },
     "metadata": {},
     "output_type": "display_data"
    },
    {
     "name": "stdout",
     "output_type": "stream",
     "text": [
      "MAE:  48545\n",
      "RMSE: 72628\n",
      "MAPE: 29.5%\n",
      "R^2:  0.717\n"
     ]
    }
   ],
   "source": [
    "error_df[\"random_forest\"] = [test - pred for test, pred in zip(y_test, y_pred_02)]\n",
    "results_df[\"RF: S\"] = cross_validation(model_02, X, y)"
   ]
  },
  {
   "cell_type": "markdown",
   "metadata": {},
   "source": [
    "### Gradient boosting"
   ]
  },
  {
   "cell_type": "code",
   "execution_count": 44,
   "metadata": {
    "scrolled": true
   },
   "outputs": [
    {
     "data": {
      "text/plain": [
       "XGBClassifier(base_score=0.5, booster='gbtree', colsample_bylevel=1,\n",
       "              colsample_bynode=1, colsample_bytree=1, gamma=0.01, gpu_id=-1,\n",
       "              importance_type='gain', interaction_constraints='',\n",
       "              learning_rate=0.02, max_delta_step=0, max_depth=6,\n",
       "              min_child_weight=1, missing=nan, monotone_constraints='()',\n",
       "              n_estimators=200, n_jobs=-1, num_parallel_tree=1,\n",
       "              objective='multi:softprob', random_state=42, reg_alpha=0,\n",
       "              reg_lambda=1, scale_pos_weight=None, subsample=1,\n",
       "              tree_method='exact', validate_parameters=1, verbosity=0)"
      ]
     },
     "execution_count": 44,
     "metadata": {},
     "output_type": "execute_result"
    }
   ],
   "source": [
    "kwargs = dict(n_jobs=-1, n_estimators=200,\n",
    "              learning_rate=0.02, gamma=0.01,\n",
    "              random_state=42, verbosity = 0)\n",
    "model_03 = xgb.XGBClassifier(**kwargs)\n",
    "model_03.fit(X_train, y_train)"
   ]
  },
  {
   "cell_type": "code",
   "execution_count": 45,
   "metadata": {},
   "outputs": [
    {
     "name": "stdout",
     "output_type": "stream",
     "text": [
      "MAE:  50467\n",
      "RMSE: 72494\n",
      "MAPE: 29.33%\n",
      "R^2:  0.705\n"
     ]
    }
   ],
   "source": [
    "y_pred_03 = model_03.predict(X_test)\n",
    "get_metrics(y_test, y_pred_03)"
   ]
  },
  {
   "cell_type": "markdown",
   "metadata": {},
   "source": [
    "Perform hyperparameter optimization with 3-Fold cross validation."
   ]
  },
  {
   "cell_type": "code",
   "execution_count": 35,
   "metadata": {},
   "outputs": [],
   "source": [
    "model_03 = xgb.XGBClassifier(verbosity=0, n_jobs=-1)\n",
    "\n",
    "params_xgb = {\"learning_rate\": [0.015, 0.02, 0.025, 0.03],\n",
    "              \"max_depth\": [3, 5, 8],\n",
    "              \"gamma\": [0, 0.1, 0.2, 0.3],\n",
    "              \"max_delta_step\": [0, 3, 6, 9],\n",
    "              \"colsample_bytree\": [0.6, 0.8, 1],\n",
    "              \"random_state\": [42],\n",
    "              \"n_estimators\": [100]}\n",
    "\n",
    "randomsearch_xgb = RandomizedSearchCV(estimator=model_03, param_distributions=params, n_iter=40, random_state=42,\n",
    "                                      scoring=\"neg_root_mean_squared_error\", n_jobs=-1, verbose=1, cv=3)"
   ]
  },
  {
   "cell_type": "code",
   "execution_count": 36,
   "metadata": {},
   "outputs": [
    {
     "name": "stdout",
     "output_type": "stream",
     "text": [
      "Fitting 3 folds for each of 40 candidates, totalling 120 fits\n"
     ]
    },
    {
     "name": "stderr",
     "output_type": "stream",
     "text": [
      "[Parallel(n_jobs=-1)]: Using backend LokyBackend with 12 concurrent workers.\n",
      "[Parallel(n_jobs=-1)]: Done  26 tasks      | elapsed: 63.0min\n",
      "[Parallel(n_jobs=-1)]: Done 120 out of 120 | elapsed: 204.4min finished\n"
     ]
    },
    {
     "ename": "AttributeError",
     "evalue": "'RandomizedSearchCV' object has no attribute 'best_params_'",
     "output_type": "error",
     "traceback": [
      "\u001b[1;31m---------------------------------------------------------------------------\u001b[0m",
      "\u001b[1;31mAttributeError\u001b[0m                            Traceback (most recent call last)",
      "\u001b[1;32m<ipython-input-36-b5a9b23545ea>\u001b[0m in \u001b[0;36m<module>\u001b[1;34m\u001b[0m\n\u001b[0;32m      1\u001b[0m \u001b[0mrandomsearch_xgb\u001b[0m\u001b[1;33m.\u001b[0m\u001b[0mfit\u001b[0m\u001b[1;33m(\u001b[0m\u001b[0mX\u001b[0m\u001b[1;33m[\u001b[0m\u001b[1;33m:\u001b[0m\u001b[1;33m,\u001b[0m \u001b[1;36m1\u001b[0m\u001b[1;33m:\u001b[0m\u001b[1;33m]\u001b[0m\u001b[1;33m,\u001b[0m \u001b[0my\u001b[0m\u001b[1;33m)\u001b[0m\u001b[1;33m\u001b[0m\u001b[1;33m\u001b[0m\u001b[0m\n\u001b[1;32m----> 2\u001b[1;33m \u001b[0mbest_params_xgb\u001b[0m \u001b[1;33m=\u001b[0m \u001b[0mrandomsearch\u001b[0m\u001b[1;33m.\u001b[0m\u001b[0mbest_params_\u001b[0m\u001b[1;33m\u001b[0m\u001b[1;33m\u001b[0m\u001b[0m\n\u001b[0m",
      "\u001b[1;31mAttributeError\u001b[0m: 'RandomizedSearchCV' object has no attribute 'best_params_'"
     ]
    }
   ],
   "source": [
    "randomsearch_xgb.fit(X[:, 1:], y)\n",
    "best_params_xgb = randomsearch_xgb.best_params_"
   ]
  },
  {
   "cell_type": "markdown",
   "metadata": {},
   "source": [
    "Create best model"
   ]
  },
  {
   "cell_type": "code",
   "execution_count": 38,
   "metadata": {},
   "outputs": [],
   "source": [
    "model_03 = xgb.XGBClassifier(verbosity=0, n_jobs=-1, **best_params_xgb)"
   ]
  },
  {
   "cell_type": "code",
   "execution_count": 46,
   "metadata": {},
   "outputs": [
    {
     "data": {
      "application/vnd.jupyter.widget-view+json": {
       "model_id": "818ab93855b14e54927638055c97690b",
       "version_major": 2,
       "version_minor": 0
      },
      "text/plain": [
       "  0%|          | 0/5 [00:00<?, ?it/s]"
      ]
     },
     "metadata": {},
     "output_type": "display_data"
    },
    {
     "name": "stdout",
     "output_type": "stream",
     "text": [
      "MAE:  50807\n",
      "RMSE: 73893\n",
      "MAPE: 30.36%\n",
      "R^2:  0.707\n"
     ]
    }
   ],
   "source": [
    "error_df[\"grad_boost\"] = [test - pred for test, pred in zip(y_test, y_pred_03)]\n",
    "results_df[\"XGB: S\"] = cross_validation(model_03, X, y)"
   ]
  },
  {
   "cell_type": "markdown",
   "metadata": {},
   "source": [
    "### Catboost"
   ]
  },
  {
   "cell_type": "code",
   "execution_count": 40,
   "metadata": {},
   "outputs": [
    {
     "data": {
      "text/plain": [
       "<catboost.core.CatBoostRegressor at 0x26b5e28df88>"
      ]
     },
     "execution_count": 40,
     "metadata": {},
     "output_type": "execute_result"
    }
   ],
   "source": [
    "kwargs = dict(verbose=False)\n",
    "model_04 = CatBoostRegressor()\n",
    "model_04.fit(X=X_train, y=y_train, **kwargs)"
   ]
  },
  {
   "cell_type": "code",
   "execution_count": 41,
   "metadata": {},
   "outputs": [
    {
     "name": "stdout",
     "output_type": "stream",
     "text": [
      "MAE:  40497\n",
      "RMSE: 58437\n",
      "MAPE: 24.16%\n",
      "R^2:  0.809\n"
     ]
    }
   ],
   "source": [
    "y_pred_04 = model_04.predict(X_test)\n",
    "get_metrics(y_test, y_pred_04)"
   ]
  },
  {
   "cell_type": "code",
   "execution_count": 42,
   "metadata": {},
   "outputs": [
    {
     "data": {
      "application/vnd.jupyter.widget-view+json": {
       "model_id": "ff8749fa636c4b38b8acc1a9f4df57af",
       "version_major": 2,
       "version_minor": 0
      },
      "text/plain": [
       "  0%|          | 0/5 [00:00<?, ?it/s]"
      ]
     },
     "metadata": {},
     "output_type": "display_data"
    },
    {
     "name": "stdout",
     "output_type": "stream",
     "text": [
      "MAE:  40850\n",
      "RMSE: 58818\n",
      "MAPE: 25.48%\n",
      "R^2:  0.814\n"
     ]
    }
   ],
   "source": [
    "error_df[\"catboost\"] = [test - pred for test, pred in zip(y_test, y_pred_04)]\n",
    "results_df[\"Catboost: S\"] = cross_validation(model_04, X, y, **kwargs)"
   ]
  },
  {
   "cell_type": "markdown",
   "metadata": {},
   "source": [
    "Save error df"
   ]
  },
  {
   "cell_type": "code",
   "execution_count": 28,
   "metadata": {},
   "outputs": [],
   "source": [
    "error_df.to_csv(PATH+\"results/errors_basic.csv\", index=None)"
   ]
  },
  {
   "cell_type": "code",
   "execution_count": 47,
   "metadata": {},
   "outputs": [
    {
     "data": {
      "text/html": [
       "<div>\n",
       "<style scoped>\n",
       "    .dataframe tbody tr th:only-of-type {\n",
       "        vertical-align: middle;\n",
       "    }\n",
       "\n",
       "    .dataframe tbody tr th {\n",
       "        vertical-align: top;\n",
       "    }\n",
       "\n",
       "    .dataframe thead th {\n",
       "        text-align: right;\n",
       "    }\n",
       "</style>\n",
       "<table border=\"1\" class=\"dataframe\">\n",
       "  <thead>\n",
       "    <tr style=\"text-align: right;\">\n",
       "      <th></th>\n",
       "      <th>Linear: S</th>\n",
       "      <th>RF: S</th>\n",
       "      <th>XGB: S</th>\n",
       "      <th>Catboost: S</th>\n",
       "    </tr>\n",
       "  </thead>\n",
       "  <tbody>\n",
       "    <tr>\n",
       "      <th>MAE</th>\n",
       "      <td>44125.000</td>\n",
       "      <td>48545.000</td>\n",
       "      <td>50807.000</td>\n",
       "      <td>40850.000</td>\n",
       "    </tr>\n",
       "    <tr>\n",
       "      <th>RMSE</th>\n",
       "      <td>62302.000</td>\n",
       "      <td>72628.000</td>\n",
       "      <td>73893.000</td>\n",
       "      <td>58818.000</td>\n",
       "    </tr>\n",
       "    <tr>\n",
       "      <th>MAPE</th>\n",
       "      <td>28.150</td>\n",
       "      <td>29.500</td>\n",
       "      <td>30.360</td>\n",
       "      <td>25.480</td>\n",
       "    </tr>\n",
       "    <tr>\n",
       "      <th>R^2</th>\n",
       "      <td>0.792</td>\n",
       "      <td>0.717</td>\n",
       "      <td>0.707</td>\n",
       "      <td>0.814</td>\n",
       "    </tr>\n",
       "  </tbody>\n",
       "</table>\n",
       "</div>"
      ],
      "text/plain": [
       "      Linear: S      RF: S     XGB: S  Catboost: S\n",
       "MAE   44125.000  48545.000  50807.000    40850.000\n",
       "RMSE  62302.000  72628.000  73893.000    58818.000\n",
       "MAPE     28.150     29.500     30.360       25.480\n",
       "R^2       0.792      0.717      0.707        0.814"
      ]
     },
     "execution_count": 47,
     "metadata": {},
     "output_type": "execute_result"
    }
   ],
   "source": [
    "results_df.index = [\"MAE\", \"RMSE\", \"MAPE\", \"R^2\"]\n",
    "results_df.head()"
   ]
  },
  {
   "cell_type": "markdown",
   "metadata": {},
   "source": [
    "## Structured and basic spatial membership"
   ]
  },
  {
   "cell_type": "markdown",
   "metadata": {},
   "source": [
    "Different types of aggregated membership are tested for their predictive performance."
   ]
  },
  {
   "cell_type": "code",
   "execution_count": 13,
   "metadata": {},
   "outputs": [
    {
     "name": "stdout",
     "output_type": "stream",
     "text": [
      "Spatial choice: PROPERTYZIP\n"
     ]
    },
    {
     "data": {
      "application/vnd.jupyter.widget-view+json": {
       "model_id": "c4df6caf7c374913b9d305a3dfc70fab",
       "version_major": 2,
       "version_minor": 0
      },
      "text/plain": [
       "  0%|          | 0/5 [00:00<?, ?it/s]"
      ]
     },
     "metadata": {},
     "output_type": "display_data"
    },
    {
     "name": "stdout",
     "output_type": "stream",
     "text": [
      "MAE:  31463\n",
      "RMSE: 47094\n",
      "MAPE: 18.65%\n",
      "R^2:  0.881\n",
      "\n",
      "Spatial choice: MUNICODE\n"
     ]
    },
    {
     "data": {
      "application/vnd.jupyter.widget-view+json": {
       "model_id": "1e0284fc440242fdb4eb505ab5d8f6d4",
       "version_major": 2,
       "version_minor": 0
      },
      "text/plain": [
       "  0%|          | 0/5 [00:00<?, ?it/s]"
      ]
     },
     "metadata": {},
     "output_type": "display_data"
    },
    {
     "name": "stdout",
     "output_type": "stream",
     "text": [
      "MAE:  30273\n",
      "RMSE: 44965\n",
      "MAPE: 18.04%\n",
      "R^2:  0.891\n",
      "\n",
      "Spatial choice: SCHOOLCODE\n"
     ]
    },
    {
     "data": {
      "application/vnd.jupyter.widget-view+json": {
       "model_id": "3a27d14bff02466497bf68e1de331a1c",
       "version_major": 2,
       "version_minor": 0
      },
      "text/plain": [
       "  0%|          | 0/5 [00:00<?, ?it/s]"
      ]
     },
     "metadata": {},
     "output_type": "display_data"
    },
    {
     "name": "stdout",
     "output_type": "stream",
     "text": [
      "MAE:  32115\n",
      "RMSE: 48853\n",
      "MAPE: 19.26%\n",
      "R^2:  0.872\n",
      "\n",
      "Spatial choice: NEIGHCODE\n"
     ]
    },
    {
     "data": {
      "application/vnd.jupyter.widget-view+json": {
       "model_id": "60f4ce677d1146f69aa3a075c1b93640",
       "version_major": 2,
       "version_minor": 0
      },
      "text/plain": [
       "  0%|          | 0/5 [00:00<?, ?it/s]"
      ]
     },
     "metadata": {},
     "output_type": "display_data"
    },
    {
     "name": "stdout",
     "output_type": "stream",
     "text": [
      "MAE:  32022\n",
      "RMSE: 46712\n",
      "MAPE: 19.68%\n",
      "R^2:  0.883\n",
      "\n"
     ]
    }
   ],
   "source": [
    "for spatial in [\"PROPERTYZIP\", \"MUNICODE\", \"SCHOOLCODE\", \"NEIGHCODE\"]:\n",
    "    # make dataset with spatial column\n",
    "    X_columns, data_sets, error_df = make_train_test(structured, spatial=spatial, verbose=False, dummy=True)\n",
    "    X, y, X_train, X_test, y_train, y_test, X_train_train, X_train_val, y_train_train, y_train_val = data_sets\n",
    "    \n",
    "    model_spatial = CatBoostRegressor()\n",
    "    \n",
    "    print(f\"Spatial choice: {spatial}\")\n",
    "    kwargs = dict(verbose=False)\n",
    "    metrics = cross_validation(model_spatial, X, y, **kwargs)\n",
    "    print(\"\")"
   ]
  },
  {
   "cell_type": "markdown",
   "metadata": {},
   "source": [
    "## Explore solution"
   ]
  },
  {
   "cell_type": "markdown",
   "metadata": {},
   "source": [
    "Coefficients for each feature"
   ]
  },
  {
   "cell_type": "code",
   "execution_count": 17,
   "metadata": {
    "scrolled": true
   },
   "outputs": [
    {
     "name": "stdout",
     "output_type": "stream",
     "text": [
      "Intercept: 434882.92392270896\n"
     ]
    },
    {
     "data": {
      "text/html": [
       "<div>\n",
       "<style scoped>\n",
       "    .dataframe tbody tr th:only-of-type {\n",
       "        vertical-align: middle;\n",
       "    }\n",
       "\n",
       "    .dataframe tbody tr th {\n",
       "        vertical-align: top;\n",
       "    }\n",
       "\n",
       "    .dataframe thead th {\n",
       "        text-align: right;\n",
       "    }\n",
       "</style>\n",
       "<table border=\"1\" class=\"dataframe\">\n",
       "  <thead>\n",
       "    <tr style=\"text-align: right;\">\n",
       "      <th></th>\n",
       "      <th>feature</th>\n",
       "      <th>coef</th>\n",
       "    </tr>\n",
       "  </thead>\n",
       "  <tbody>\n",
       "    <tr>\n",
       "      <th>0</th>\n",
       "      <td>LOTAREA</td>\n",
       "      <td>0.272668</td>\n",
       "    </tr>\n",
       "    <tr>\n",
       "      <th>1</th>\n",
       "      <td>STORIES</td>\n",
       "      <td>-8990.809285</td>\n",
       "    </tr>\n",
       "    <tr>\n",
       "      <th>2</th>\n",
       "      <td>YEARBLT</td>\n",
       "      <td>112.463600</td>\n",
       "    </tr>\n",
       "    <tr>\n",
       "      <th>3</th>\n",
       "      <td>GRADE</td>\n",
       "      <td>-33549.359629</td>\n",
       "    </tr>\n",
       "    <tr>\n",
       "      <th>4</th>\n",
       "      <td>CONDITION</td>\n",
       "      <td>-3046.535201</td>\n",
       "    </tr>\n",
       "    <tr>\n",
       "      <th>5</th>\n",
       "      <td>CDU</td>\n",
       "      <td>-28986.429427</td>\n",
       "    </tr>\n",
       "    <tr>\n",
       "      <th>6</th>\n",
       "      <td>TOTALROOMS</td>\n",
       "      <td>-1906.179316</td>\n",
       "    </tr>\n",
       "    <tr>\n",
       "      <th>7</th>\n",
       "      <td>BEDROOMS</td>\n",
       "      <td>3324.072563</td>\n",
       "    </tr>\n",
       "    <tr>\n",
       "      <th>8</th>\n",
       "      <td>FULLBATHS</td>\n",
       "      <td>23708.109631</td>\n",
       "    </tr>\n",
       "    <tr>\n",
       "      <th>9</th>\n",
       "      <td>HALFBATHS</td>\n",
       "      <td>13063.188534</td>\n",
       "    </tr>\n",
       "    <tr>\n",
       "      <th>10</th>\n",
       "      <td>FIREPLACES</td>\n",
       "      <td>4904.619876</td>\n",
       "    </tr>\n",
       "    <tr>\n",
       "      <th>11</th>\n",
       "      <td>BSMTGARAGE</td>\n",
       "      <td>-2864.409039</td>\n",
       "    </tr>\n",
       "    <tr>\n",
       "      <th>12</th>\n",
       "      <td>FINISHEDLIVINGAREA</td>\n",
       "      <td>66.768001</td>\n",
       "    </tr>\n",
       "    <tr>\n",
       "      <th>13</th>\n",
       "      <td>SALEYEAR_STR_2015</td>\n",
       "      <td>-3393.948114</td>\n",
       "    </tr>\n",
       "    <tr>\n",
       "      <th>14</th>\n",
       "      <td>SALEYEAR_STR_2016</td>\n",
       "      <td>-6424.707824</td>\n",
       "    </tr>\n",
       "    <tr>\n",
       "      <th>15</th>\n",
       "      <td>SALEYEAR_STR_2017</td>\n",
       "      <td>-3157.724154</td>\n",
       "    </tr>\n",
       "    <tr>\n",
       "      <th>16</th>\n",
       "      <td>SALEYEAR_STR_2018</td>\n",
       "      <td>1155.073047</td>\n",
       "    </tr>\n",
       "    <tr>\n",
       "      <th>17</th>\n",
       "      <td>SALEYEAR_STR_2019</td>\n",
       "      <td>541.531311</td>\n",
       "    </tr>\n",
       "    <tr>\n",
       "      <th>18</th>\n",
       "      <td>SALEYEAR_STR_2020</td>\n",
       "      <td>11279.775734</td>\n",
       "    </tr>\n",
       "    <tr>\n",
       "      <th>19</th>\n",
       "      <td>HEATINGCOOLINGDESC_CentralHeat</td>\n",
       "      <td>-2451.641183</td>\n",
       "    </tr>\n",
       "    <tr>\n",
       "      <th>20</th>\n",
       "      <td>HEATINGCOOLINGDESC_CentralHeatwithAC</td>\n",
       "      <td>2451.641183</td>\n",
       "    </tr>\n",
       "    <tr>\n",
       "      <th>21</th>\n",
       "      <td>OWNERDESC_REGULAR</td>\n",
       "      <td>-9978.551113</td>\n",
       "    </tr>\n",
       "    <tr>\n",
       "      <th>22</th>\n",
       "      <td>OWNERDESC_REGULAR-ETAL</td>\n",
       "      <td>565.879066</td>\n",
       "    </tr>\n",
       "    <tr>\n",
       "      <th>23</th>\n",
       "      <td>OWNERDESC_REGULAR-ETUXORETVIR</td>\n",
       "      <td>9412.672048</td>\n",
       "    </tr>\n",
       "    <tr>\n",
       "      <th>24</th>\n",
       "      <td>STYLEDESC_BI-LEVEL</td>\n",
       "      <td>-13952.088787</td>\n",
       "    </tr>\n",
       "    <tr>\n",
       "      <th>25</th>\n",
       "      <td>STYLEDESC_BUNGALOW</td>\n",
       "      <td>19245.842002</td>\n",
       "    </tr>\n",
       "    <tr>\n",
       "      <th>26</th>\n",
       "      <td>STYLEDESC_CAPECOD</td>\n",
       "      <td>-16449.128494</td>\n",
       "    </tr>\n",
       "    <tr>\n",
       "      <th>27</th>\n",
       "      <td>STYLEDESC_COLONIAL</td>\n",
       "      <td>-815.379238</td>\n",
       "    </tr>\n",
       "    <tr>\n",
       "      <th>28</th>\n",
       "      <td>STYLEDESC_CONTEMPORARY</td>\n",
       "      <td>16729.159222</td>\n",
       "    </tr>\n",
       "    <tr>\n",
       "      <th>29</th>\n",
       "      <td>STYLEDESC_OLDSTYLE</td>\n",
       "      <td>-2163.244899</td>\n",
       "    </tr>\n",
       "    <tr>\n",
       "      <th>30</th>\n",
       "      <td>STYLEDESC_RANCH</td>\n",
       "      <td>8400.601109</td>\n",
       "    </tr>\n",
       "    <tr>\n",
       "      <th>31</th>\n",
       "      <td>STYLEDESC_SEMIDETACHED</td>\n",
       "      <td>24643.288506</td>\n",
       "    </tr>\n",
       "    <tr>\n",
       "      <th>32</th>\n",
       "      <td>STYLEDESC_SPLITLEVEL</td>\n",
       "      <td>-22034.702918</td>\n",
       "    </tr>\n",
       "    <tr>\n",
       "      <th>33</th>\n",
       "      <td>STYLEDESC_TUDOR</td>\n",
       "      <td>25665.366019</td>\n",
       "    </tr>\n",
       "    <tr>\n",
       "      <th>34</th>\n",
       "      <td>STYLEDESC_VICTORIAN</td>\n",
       "      <td>-39269.712521</td>\n",
       "    </tr>\n",
       "    <tr>\n",
       "      <th>35</th>\n",
       "      <td>EXTFINISH_DESC_Brick</td>\n",
       "      <td>-166.331871</td>\n",
       "    </tr>\n",
       "    <tr>\n",
       "      <th>36</th>\n",
       "      <td>EXTFINISH_DESC_ConcreteBlock</td>\n",
       "      <td>12043.696845</td>\n",
       "    </tr>\n",
       "    <tr>\n",
       "      <th>37</th>\n",
       "      <td>EXTFINISH_DESC_Frame</td>\n",
       "      <td>-903.474737</td>\n",
       "    </tr>\n",
       "    <tr>\n",
       "      <th>38</th>\n",
       "      <td>EXTFINISH_DESC_MasonryFRAME</td>\n",
       "      <td>-1164.982507</td>\n",
       "    </tr>\n",
       "    <tr>\n",
       "      <th>39</th>\n",
       "      <td>EXTFINISH_DESC_Stone</td>\n",
       "      <td>-11553.653626</td>\n",
       "    </tr>\n",
       "    <tr>\n",
       "      <th>40</th>\n",
       "      <td>EXTFINISH_DESC_Stucco</td>\n",
       "      <td>1744.745895</td>\n",
       "    </tr>\n",
       "    <tr>\n",
       "      <th>41</th>\n",
       "      <td>ROOFDESC_ROLL</td>\n",
       "      <td>-1966.691599</td>\n",
       "    </tr>\n",
       "    <tr>\n",
       "      <th>42</th>\n",
       "      <td>ROOFDESC_SHINGLE</td>\n",
       "      <td>-9608.995976</td>\n",
       "    </tr>\n",
       "    <tr>\n",
       "      <th>43</th>\n",
       "      <td>ROOFDESC_SLATE</td>\n",
       "      <td>2329.897717</td>\n",
       "    </tr>\n",
       "    <tr>\n",
       "      <th>44</th>\n",
       "      <td>ROOFDESC_TILE</td>\n",
       "      <td>9245.789859</td>\n",
       "    </tr>\n",
       "    <tr>\n",
       "      <th>45</th>\n",
       "      <td>BASEMENTDESC_Crawl</td>\n",
       "      <td>-6562.936302</td>\n",
       "    </tr>\n",
       "    <tr>\n",
       "      <th>46</th>\n",
       "      <td>BASEMENTDESC_Full</td>\n",
       "      <td>7589.074610</td>\n",
       "    </tr>\n",
       "    <tr>\n",
       "      <th>47</th>\n",
       "      <td>BASEMENTDESC_None</td>\n",
       "      <td>-9661.107943</td>\n",
       "    </tr>\n",
       "    <tr>\n",
       "      <th>48</th>\n",
       "      <td>BASEMENTDESC_Part</td>\n",
       "      <td>8634.969635</td>\n",
       "    </tr>\n",
       "    <tr>\n",
       "      <th>49</th>\n",
       "      <td>ROOFDESC_ROLL.1</td>\n",
       "      <td>-1966.691599</td>\n",
       "    </tr>\n",
       "    <tr>\n",
       "      <th>50</th>\n",
       "      <td>ROOFDESC_SHINGLE.1</td>\n",
       "      <td>-9608.995976</td>\n",
       "    </tr>\n",
       "    <tr>\n",
       "      <th>51</th>\n",
       "      <td>ROOFDESC_SLATE.1</td>\n",
       "      <td>2329.897717</td>\n",
       "    </tr>\n",
       "    <tr>\n",
       "      <th>52</th>\n",
       "      <td>ROOFDESC_TILE.1</td>\n",
       "      <td>9245.789859</td>\n",
       "    </tr>\n",
       "  </tbody>\n",
       "</table>\n",
       "</div>"
      ],
      "text/plain": [
       "                                 feature          coef\n",
       "0                                LOTAREA      0.272668\n",
       "1                                STORIES  -8990.809285\n",
       "2                                YEARBLT    112.463600\n",
       "3                                  GRADE -33549.359629\n",
       "4                              CONDITION  -3046.535201\n",
       "5                                    CDU -28986.429427\n",
       "6                             TOTALROOMS  -1906.179316\n",
       "7                               BEDROOMS   3324.072563\n",
       "8                              FULLBATHS  23708.109631\n",
       "9                              HALFBATHS  13063.188534\n",
       "10                            FIREPLACES   4904.619876\n",
       "11                            BSMTGARAGE  -2864.409039\n",
       "12                    FINISHEDLIVINGAREA     66.768001\n",
       "13                     SALEYEAR_STR_2015  -3393.948114\n",
       "14                     SALEYEAR_STR_2016  -6424.707824\n",
       "15                     SALEYEAR_STR_2017  -3157.724154\n",
       "16                     SALEYEAR_STR_2018   1155.073047\n",
       "17                     SALEYEAR_STR_2019    541.531311\n",
       "18                     SALEYEAR_STR_2020  11279.775734\n",
       "19        HEATINGCOOLINGDESC_CentralHeat  -2451.641183\n",
       "20  HEATINGCOOLINGDESC_CentralHeatwithAC   2451.641183\n",
       "21                     OWNERDESC_REGULAR  -9978.551113\n",
       "22                OWNERDESC_REGULAR-ETAL    565.879066\n",
       "23         OWNERDESC_REGULAR-ETUXORETVIR   9412.672048\n",
       "24                    STYLEDESC_BI-LEVEL -13952.088787\n",
       "25                    STYLEDESC_BUNGALOW  19245.842002\n",
       "26                     STYLEDESC_CAPECOD -16449.128494\n",
       "27                    STYLEDESC_COLONIAL   -815.379238\n",
       "28                STYLEDESC_CONTEMPORARY  16729.159222\n",
       "29                    STYLEDESC_OLDSTYLE  -2163.244899\n",
       "30                       STYLEDESC_RANCH   8400.601109\n",
       "31                STYLEDESC_SEMIDETACHED  24643.288506\n",
       "32                  STYLEDESC_SPLITLEVEL -22034.702918\n",
       "33                       STYLEDESC_TUDOR  25665.366019\n",
       "34                   STYLEDESC_VICTORIAN -39269.712521\n",
       "35                  EXTFINISH_DESC_Brick   -166.331871\n",
       "36          EXTFINISH_DESC_ConcreteBlock  12043.696845\n",
       "37                  EXTFINISH_DESC_Frame   -903.474737\n",
       "38           EXTFINISH_DESC_MasonryFRAME  -1164.982507\n",
       "39                  EXTFINISH_DESC_Stone -11553.653626\n",
       "40                 EXTFINISH_DESC_Stucco   1744.745895\n",
       "41                         ROOFDESC_ROLL  -1966.691599\n",
       "42                      ROOFDESC_SHINGLE  -9608.995976\n",
       "43                        ROOFDESC_SLATE   2329.897717\n",
       "44                         ROOFDESC_TILE   9245.789859\n",
       "45                    BASEMENTDESC_Crawl  -6562.936302\n",
       "46                     BASEMENTDESC_Full   7589.074610\n",
       "47                     BASEMENTDESC_None  -9661.107943\n",
       "48                     BASEMENTDESC_Part   8634.969635\n",
       "49                       ROOFDESC_ROLL.1  -1966.691599\n",
       "50                    ROOFDESC_SHINGLE.1  -9608.995976\n",
       "51                      ROOFDESC_SLATE.1   2329.897717\n",
       "52                       ROOFDESC_TILE.1   9245.789859"
      ]
     },
     "execution_count": 17,
     "metadata": {},
     "output_type": "execute_result"
    }
   ],
   "source": [
    "feature_importance_df = pd.DataFrame(data={\"feature\": X_columns,\n",
    "                                           \"coef\": model_01.coef_})\n",
    "print(f\"Intercept: {model_01.intercept_}\")\n",
    "feature_importance_df"
   ]
  },
  {
   "cell_type": "markdown",
   "metadata": {},
   "source": [
    "Feature importance of best model"
   ]
  },
  {
   "cell_type": "code",
   "execution_count": 21,
   "metadata": {},
   "outputs": [
    {
     "data": {
      "text/html": [
       "<div>\n",
       "<style scoped>\n",
       "    .dataframe tbody tr th:only-of-type {\n",
       "        vertical-align: middle;\n",
       "    }\n",
       "\n",
       "    .dataframe tbody tr th {\n",
       "        vertical-align: top;\n",
       "    }\n",
       "\n",
       "    .dataframe thead th {\n",
       "        text-align: right;\n",
       "    }\n",
       "</style>\n",
       "<table border=\"1\" class=\"dataframe\">\n",
       "  <thead>\n",
       "    <tr style=\"text-align: right;\">\n",
       "      <th></th>\n",
       "      <th>feature</th>\n",
       "      <th>importance</th>\n",
       "      <th>coefficient</th>\n",
       "    </tr>\n",
       "  </thead>\n",
       "  <tbody>\n",
       "    <tr>\n",
       "      <th>3</th>\n",
       "      <td>GRADE</td>\n",
       "      <td>30.133963</td>\n",
       "      <td>-33549.359629</td>\n",
       "    </tr>\n",
       "    <tr>\n",
       "      <th>12</th>\n",
       "      <td>FINISHEDLIVINGAREA</td>\n",
       "      <td>19.688553</td>\n",
       "      <td>66.768001</td>\n",
       "    </tr>\n",
       "    <tr>\n",
       "      <th>2</th>\n",
       "      <td>YEARBLT</td>\n",
       "      <td>7.148423</td>\n",
       "      <td>112.463600</td>\n",
       "    </tr>\n",
       "    <tr>\n",
       "      <th>0</th>\n",
       "      <td>LOTAREA</td>\n",
       "      <td>6.962367</td>\n",
       "      <td>0.272668</td>\n",
       "    </tr>\n",
       "    <tr>\n",
       "      <th>8</th>\n",
       "      <td>FULLBATHS</td>\n",
       "      <td>5.234396</td>\n",
       "      <td>23708.109631</td>\n",
       "    </tr>\n",
       "    <tr>\n",
       "      <th>5</th>\n",
       "      <td>CDU</td>\n",
       "      <td>4.560744</td>\n",
       "      <td>-28986.429427</td>\n",
       "    </tr>\n",
       "    <tr>\n",
       "      <th>6</th>\n",
       "      <td>TOTALROOMS</td>\n",
       "      <td>3.543801</td>\n",
       "      <td>-1906.179316</td>\n",
       "    </tr>\n",
       "    <tr>\n",
       "      <th>11</th>\n",
       "      <td>BSMTGARAGE</td>\n",
       "      <td>2.590334</td>\n",
       "      <td>-2864.409039</td>\n",
       "    </tr>\n",
       "    <tr>\n",
       "      <th>4</th>\n",
       "      <td>CONDITION</td>\n",
       "      <td>2.380424</td>\n",
       "      <td>-3046.535201</td>\n",
       "    </tr>\n",
       "    <tr>\n",
       "      <th>9</th>\n",
       "      <td>HALFBATHS</td>\n",
       "      <td>2.068662</td>\n",
       "      <td>13063.188534</td>\n",
       "    </tr>\n",
       "  </tbody>\n",
       "</table>\n",
       "</div>"
      ],
      "text/plain": [
       "               feature  importance   coefficient\n",
       "3                GRADE   30.133963 -33549.359629\n",
       "12  FINISHEDLIVINGAREA   19.688553     66.768001\n",
       "2              YEARBLT    7.148423    112.463600\n",
       "0              LOTAREA    6.962367      0.272668\n",
       "8            FULLBATHS    5.234396  23708.109631\n",
       "5                  CDU    4.560744 -28986.429427\n",
       "6           TOTALROOMS    3.543801  -1906.179316\n",
       "11          BSMTGARAGE    2.590334  -2864.409039\n",
       "4            CONDITION    2.380424  -3046.535201\n",
       "9            HALFBATHS    2.068662  13063.188534"
      ]
     },
     "execution_count": 21,
     "metadata": {},
     "output_type": "execute_result"
    }
   ],
   "source": [
    "feature_importance_df = pd.DataFrame(data={\"feature\": X_columns,\n",
    "                                           \"importance\": model_04.get_feature_importance()})\n",
    "feature_importance_df[\"coefficient\"] = model_01.coef_\n",
    "feature_importance_df.sort_values(by=[\"importance\"], ascending=False).head(10)"
   ]
  },
  {
   "cell_type": "code",
   "execution_count": null,
   "metadata": {},
   "outputs": [],
   "source": []
  }
 ],
 "metadata": {
  "kernelspec": {
   "display_name": "Python 3",
   "language": "python",
   "name": "python3"
  },
  "language_info": {
   "codemirror_mode": {
    "name": "ipython",
    "version": 3
   },
   "file_extension": ".py",
   "mimetype": "text/x-python",
   "name": "python",
   "nbconvert_exporter": "python",
   "pygments_lexer": "ipython3",
   "version": "3.7.9"
  },
  "widgets": {
   "application/vnd.jupyter.widget-state+json": {
    "state": {
     "00183202665b4be6bcd23414c1e432c9": {
      "model_module": "@jupyter-widgets/base",
      "model_module_version": "1.2.0",
      "model_name": "LayoutModel",
      "state": {}
     },
     "0298dc94e26845abbdbfee738d247c2f": {
      "model_module": "@jupyter-widgets/controls",
      "model_module_version": "1.5.0",
      "model_name": "HBoxModel",
      "state": {
       "children": [
        "IPY_MODEL_8d522d62640d426a9a9855572390103c",
        "IPY_MODEL_be9d28939e9e434e982935d215c9d5d3",
        "IPY_MODEL_ebb7c85f5cc441aa89b20ce495aa25f6"
       ],
       "layout": "IPY_MODEL_e1d42132e995438bb53e166760b8dff2"
      }
     },
     "03eaa6539fbc4156bb3a46bcfde7a9ff": {
      "model_module": "@jupyter-widgets/controls",
      "model_module_version": "1.5.0",
      "model_name": "HTMLModel",
      "state": {
       "layout": "IPY_MODEL_96a98002f7854bec8cde83f8a7d7574a",
       "style": "IPY_MODEL_1217e723ec3c44f4bdd96810045e5a76",
       "value": " 5/5 [00:09&lt;00:00,  1.83s/it]"
      }
     },
     "05b1e66e391343a09ef67f4f0cf5256f": {
      "model_module": "@jupyter-widgets/base",
      "model_module_version": "1.2.0",
      "model_name": "LayoutModel",
      "state": {}
     },
     "05e630a826cf49be94ed5a2ef483f66b": {
      "model_module": "@jupyter-widgets/controls",
      "model_module_version": "1.5.0",
      "model_name": "DescriptionStyleModel",
      "state": {
       "description_width": ""
      }
     },
     "0662c8a9952947e192f6c47b7d2820f6": {
      "model_module": "@jupyter-widgets/controls",
      "model_module_version": "1.5.0",
      "model_name": "DescriptionStyleModel",
      "state": {
       "description_width": ""
      }
     },
     "0a3d1e85e9e84383bb48430221d7cff8": {
      "model_module": "@jupyter-widgets/controls",
      "model_module_version": "1.5.0",
      "model_name": "HTMLModel",
      "state": {
       "layout": "IPY_MODEL_9431f1ab7e2348b695cb049f32549260",
       "style": "IPY_MODEL_be655f845ea9429fb4e225a6124b1977",
       "value": " 5/5 [00:11&lt;00:00,  2.29s/it]"
      }
     },
     "0c370b1c45e644f5b6caba54efbcd794": {
      "model_module": "@jupyter-widgets/controls",
      "model_module_version": "1.5.0",
      "model_name": "DescriptionStyleModel",
      "state": {
       "description_width": ""
      }
     },
     "0d3a5bc7034646158d6f7e903e51f74c": {
      "model_module": "@jupyter-widgets/base",
      "model_module_version": "1.2.0",
      "model_name": "LayoutModel",
      "state": {}
     },
     "0e832d5b1073447a93a35dbbc25452a9": {
      "model_module": "@jupyter-widgets/controls",
      "model_module_version": "1.5.0",
      "model_name": "HTMLModel",
      "state": {
       "layout": "IPY_MODEL_cf449d7c375b42a68781c498f0b294b8",
       "style": "IPY_MODEL_319fbeacb3a041579d900dde6bbe5325",
       "value": " 5/5 [00:16&lt;00:00,  3.19s/it]"
      }
     },
     "1217e723ec3c44f4bdd96810045e5a76": {
      "model_module": "@jupyter-widgets/controls",
      "model_module_version": "1.5.0",
      "model_name": "DescriptionStyleModel",
      "state": {
       "description_width": ""
      }
     },
     "13ba37f415844eeba943f485194ebab3": {
      "model_module": "@jupyter-widgets/controls",
      "model_module_version": "1.5.0",
      "model_name": "DescriptionStyleModel",
      "state": {
       "description_width": ""
      }
     },
     "182882d172964ac1a7f4f0ef3f18181b": {
      "model_module": "@jupyter-widgets/base",
      "model_module_version": "1.2.0",
      "model_name": "LayoutModel",
      "state": {}
     },
     "192638a875cf4a449301f8e0a1ce43d2": {
      "model_module": "@jupyter-widgets/controls",
      "model_module_version": "1.5.0",
      "model_name": "ProgressStyleModel",
      "state": {
       "description_width": ""
      }
     },
     "1aa9560dda59475a8c2f750ee8ed927f": {
      "model_module": "@jupyter-widgets/controls",
      "model_module_version": "1.5.0",
      "model_name": "FloatProgressModel",
      "state": {
       "bar_style": "success",
       "layout": "IPY_MODEL_c4c1f5bace874f3a980b21a586b1b258",
       "max": 5,
       "style": "IPY_MODEL_eb3f97ff91dd44468f4f41ac07fcdda3",
       "value": 5
      }
     },
     "1c19beebbcfe44db9d2c90b6919463a8": {
      "model_module": "@jupyter-widgets/controls",
      "model_module_version": "1.5.0",
      "model_name": "HBoxModel",
      "state": {
       "children": [
        "IPY_MODEL_870acf355b3d4c70a77e720ad45aae32",
        "IPY_MODEL_b15d4bc7582b46c68b9568a843aa7555",
        "IPY_MODEL_8b3ca6bca6e8420b8537813735b747f7"
       ],
       "layout": "IPY_MODEL_8153090dfe9b424aa97265b78327070d"
      }
     },
     "1c3573d029254c90aaa9a22a642350b1": {
      "model_module": "@jupyter-widgets/controls",
      "model_module_version": "1.5.0",
      "model_name": "HTMLModel",
      "state": {
       "layout": "IPY_MODEL_77a5f0572a404b9899d73b2cc7483225",
       "style": "IPY_MODEL_0c370b1c45e644f5b6caba54efbcd794",
       "value": "100%"
      }
     },
     "1e0284fc440242fdb4eb505ab5d8f6d4": {
      "model_module": "@jupyter-widgets/controls",
      "model_module_version": "1.5.0",
      "model_name": "HBoxModel",
      "state": {
       "children": [
        "IPY_MODEL_ff1687154b3d402197a08ff338e9b51b",
        "IPY_MODEL_89dfcac8c85e41f482667dc31bc7dfe9",
        "IPY_MODEL_0a3d1e85e9e84383bb48430221d7cff8"
       ],
       "layout": "IPY_MODEL_3b0434edc2644ad78e74e7cfd3311f27"
      }
     },
     "1ed37527088c46e5929ddd4a773daa2f": {
      "model_module": "@jupyter-widgets/base",
      "model_module_version": "1.2.0",
      "model_name": "LayoutModel",
      "state": {}
     },
     "20218a9482dc4de8a99d0b54dabf60f3": {
      "model_module": "@jupyter-widgets/base",
      "model_module_version": "1.2.0",
      "model_name": "LayoutModel",
      "state": {}
     },
     "202a651d77c64e0cbe33fb2d580d973e": {
      "model_module": "@jupyter-widgets/controls",
      "model_module_version": "1.5.0",
      "model_name": "HTMLModel",
      "state": {
       "layout": "IPY_MODEL_77eb386761db4a64838b11c384ccee2d",
       "style": "IPY_MODEL_f8448f1c504141dfb670266f71028c5f",
       "value": " 5/5 [00:09&lt;00:00,  1.85s/it]"
      }
     },
     "24793cf877b44b22b56e9481fad05d34": {
      "model_module": "@jupyter-widgets/controls",
      "model_module_version": "1.5.0",
      "model_name": "DescriptionStyleModel",
      "state": {
       "description_width": ""
      }
     },
     "26e7c338c9684bd1a91667eeed0bbada": {
      "model_module": "@jupyter-widgets/base",
      "model_module_version": "1.2.0",
      "model_name": "LayoutModel",
      "state": {}
     },
     "295d3bfaf7c84dddaba350e4f23af4ee": {
      "model_module": "@jupyter-widgets/controls",
      "model_module_version": "1.5.0",
      "model_name": "ProgressStyleModel",
      "state": {
       "description_width": ""
      }
     },
     "2bc007e9544b4586955168f564d886b8": {
      "model_module": "@jupyter-widgets/base",
      "model_module_version": "1.2.0",
      "model_name": "LayoutModel",
      "state": {}
     },
     "2cadfdaf4b2343b9a4dc0b28093fc55e": {
      "model_module": "@jupyter-widgets/base",
      "model_module_version": "1.2.0",
      "model_name": "LayoutModel",
      "state": {}
     },
     "2d247ed1e2d440578886a97b3889f942": {
      "model_module": "@jupyter-widgets/base",
      "model_module_version": "1.2.0",
      "model_name": "LayoutModel",
      "state": {}
     },
     "2e1fe1c522824843b68d369f26909b59": {
      "model_module": "@jupyter-widgets/controls",
      "model_module_version": "1.5.0",
      "model_name": "ProgressStyleModel",
      "state": {
       "description_width": ""
      }
     },
     "2e35e1fe91234a2abd7ef6d1b4b7cecc": {
      "model_module": "@jupyter-widgets/controls",
      "model_module_version": "1.5.0",
      "model_name": "HBoxModel",
      "state": {
       "children": [
        "IPY_MODEL_474a4e2c74ef419fb603bdd89e296933",
        "IPY_MODEL_ca87a7e30ab441afa953c0b46c39f8fd",
        "IPY_MODEL_6fc1ab35fa2e4035a84a0cb63f1cf4b1"
       ],
       "layout": "IPY_MODEL_f3a220a34cfc498886cea2147589fdb8"
      }
     },
     "319fbeacb3a041579d900dde6bbe5325": {
      "model_module": "@jupyter-widgets/controls",
      "model_module_version": "1.5.0",
      "model_name": "DescriptionStyleModel",
      "state": {
       "description_width": ""
      }
     },
     "34431084b86645c5a34828576b635660": {
      "model_module": "@jupyter-widgets/controls",
      "model_module_version": "1.5.0",
      "model_name": "HBoxModel",
      "state": {
       "children": [
        "IPY_MODEL_80ec7e7dd0614b7db364084fcdd62afd",
        "IPY_MODEL_c5127a27543142aca7ad7d655226e9d1",
        "IPY_MODEL_a42e0276bb3342efa1fe98bf2d5e0dc4"
       ],
       "layout": "IPY_MODEL_fbf5c64a433b4a72bd27c331fb1d900d"
      }
     },
     "359de4cf17d144918ed7142d362114e7": {
      "model_module": "@jupyter-widgets/controls",
      "model_module_version": "1.5.0",
      "model_name": "DescriptionStyleModel",
      "state": {
       "description_width": ""
      }
     },
     "37b64538404f44b59809a50f3f39ed92": {
      "model_module": "@jupyter-widgets/base",
      "model_module_version": "1.2.0",
      "model_name": "LayoutModel",
      "state": {}
     },
     "3a27d14bff02466497bf68e1de331a1c": {
      "model_module": "@jupyter-widgets/controls",
      "model_module_version": "1.5.0",
      "model_name": "HBoxModel",
      "state": {
       "children": [
        "IPY_MODEL_5a3bdd3c82244a33a91ad44f388bebd8",
        "IPY_MODEL_da890a69958941e599b24236abf259f3",
        "IPY_MODEL_bbbed413937e42f193e89ff8979f5028"
       ],
       "layout": "IPY_MODEL_c499764de0254b9aa37926b403e9e518"
      }
     },
     "3ac216379ee148ecac44ed1a97bf81d0": {
      "model_module": "@jupyter-widgets/controls",
      "model_module_version": "1.5.0",
      "model_name": "HTMLModel",
      "state": {
       "layout": "IPY_MODEL_e33b492304544b73857915a39e259fd5",
       "style": "IPY_MODEL_fb68c51a87814637ab22211d6901c052",
       "value": "100%"
      }
     },
     "3b0434edc2644ad78e74e7cfd3311f27": {
      "model_module": "@jupyter-widgets/base",
      "model_module_version": "1.2.0",
      "model_name": "LayoutModel",
      "state": {}
     },
     "3ba07aa24cf4412d89af38bbcf0baeda": {
      "model_module": "@jupyter-widgets/controls",
      "model_module_version": "1.5.0",
      "model_name": "ProgressStyleModel",
      "state": {
       "description_width": ""
      }
     },
     "3e955360bd484e5289e48659a29f4a32": {
      "model_module": "@jupyter-widgets/controls",
      "model_module_version": "1.5.0",
      "model_name": "DescriptionStyleModel",
      "state": {
       "description_width": ""
      }
     },
     "4658e786c1314e698d1b656973d53db4": {
      "model_module": "@jupyter-widgets/controls",
      "model_module_version": "1.5.0",
      "model_name": "DescriptionStyleModel",
      "state": {
       "description_width": ""
      }
     },
     "474a4e2c74ef419fb603bdd89e296933": {
      "model_module": "@jupyter-widgets/controls",
      "model_module_version": "1.5.0",
      "model_name": "HTMLModel",
      "state": {
       "layout": "IPY_MODEL_5dcdb19684bc438485b9a91450ce6fe4",
       "style": "IPY_MODEL_05e630a826cf49be94ed5a2ef483f66b",
       "value": "100%"
      }
     },
     "4ce55ca5b6f34237aa46268a2673bb9b": {
      "model_module": "@jupyter-widgets/controls",
      "model_module_version": "1.5.0",
      "model_name": "DescriptionStyleModel",
      "state": {
       "description_width": ""
      }
     },
     "4ea79765c82645408c59a1a36270515f": {
      "model_module": "@jupyter-widgets/controls",
      "model_module_version": "1.5.0",
      "model_name": "HTMLModel",
      "state": {
       "layout": "IPY_MODEL_6abb1a12c8e546d7b46f6ce6a3fbbc80",
       "style": "IPY_MODEL_9210cd3b31424c0ebf082484b23a5d8d",
       "value": " 0/5 [00:00&lt;?, ?it/s]"
      }
     },
     "4f49a1579dcb495894603a5d59bdaf72": {
      "model_module": "@jupyter-widgets/controls",
      "model_module_version": "1.5.0",
      "model_name": "DescriptionStyleModel",
      "state": {
       "description_width": ""
      }
     },
     "5111cdca465e41e398d8e4acbee8d512": {
      "model_module": "@jupyter-widgets/base",
      "model_module_version": "1.2.0",
      "model_name": "LayoutModel",
      "state": {}
     },
     "5660b9dba6054a92898b0fc2e9aaef77": {
      "model_module": "@jupyter-widgets/controls",
      "model_module_version": "1.5.0",
      "model_name": "HBoxModel",
      "state": {
       "children": [
        "IPY_MODEL_fc5f203c67674d789bbe89963f740aa7",
        "IPY_MODEL_db8dd18dbfe24db2a2e9290a4f8d09c1",
        "IPY_MODEL_03eaa6539fbc4156bb3a46bcfde7a9ff"
       ],
       "layout": "IPY_MODEL_6298fb8380974c4092b9111372a96eab"
      }
     },
     "582cd604b7a14b49ae8b209c9bac215d": {
      "model_module": "@jupyter-widgets/base",
      "model_module_version": "1.2.0",
      "model_name": "LayoutModel",
      "state": {}
     },
     "5901ee8cc0c04642a9c45004f4e218e8": {
      "model_module": "@jupyter-widgets/controls",
      "model_module_version": "1.5.0",
      "model_name": "HBoxModel",
      "state": {
       "children": [
        "IPY_MODEL_bc385f727a2943eebb7a4db662605c07",
        "IPY_MODEL_8b9ba16665794ea188a816d49a4da5a8",
        "IPY_MODEL_e6aba4ea52fa4c4fb68589e674443950"
       ],
       "layout": "IPY_MODEL_a638dcc657554b7e90c46fcb8c8db99e"
      }
     },
     "5a3bdd3c82244a33a91ad44f388bebd8": {
      "model_module": "@jupyter-widgets/controls",
      "model_module_version": "1.5.0",
      "model_name": "HTMLModel",
      "state": {
       "layout": "IPY_MODEL_fd922196064a44eaa692b4746ccf5569",
       "style": "IPY_MODEL_a4dea1aaa5f0453594703ee05b51ecb9",
       "value": "100%"
      }
     },
     "5dcdb19684bc438485b9a91450ce6fe4": {
      "model_module": "@jupyter-widgets/base",
      "model_module_version": "1.2.0",
      "model_name": "LayoutModel",
      "state": {}
     },
     "5e8ebfae26a54d558f103ecf645ae1ab": {
      "model_module": "@jupyter-widgets/controls",
      "model_module_version": "1.5.0",
      "model_name": "HTMLModel",
      "state": {
       "layout": "IPY_MODEL_1ed37527088c46e5929ddd4a773daa2f",
       "style": "IPY_MODEL_0662c8a9952947e192f6c47b7d2820f6",
       "value": "100%"
      }
     },
     "5ea2ccdd48db4dadb968c072a0a2f71c": {
      "model_module": "@jupyter-widgets/controls",
      "model_module_version": "1.5.0",
      "model_name": "ProgressStyleModel",
      "state": {
       "description_width": ""
      }
     },
     "60f4ce677d1146f69aa3a075c1b93640": {
      "model_module": "@jupyter-widgets/controls",
      "model_module_version": "1.5.0",
      "model_name": "HBoxModel",
      "state": {
       "children": [
        "IPY_MODEL_f6dd3b220c0b4867bef94c984c36d1cd",
        "IPY_MODEL_64c0d17e5c8a484a98bbafa473bfc892",
        "IPY_MODEL_af55c2a218f04f498d8f459ae292cc8b"
       ],
       "layout": "IPY_MODEL_b3e72542ce4b4f39bc957b933fc53a15"
      }
     },
     "6298fb8380974c4092b9111372a96eab": {
      "model_module": "@jupyter-widgets/base",
      "model_module_version": "1.2.0",
      "model_name": "LayoutModel",
      "state": {}
     },
     "64c0d17e5c8a484a98bbafa473bfc892": {
      "model_module": "@jupyter-widgets/controls",
      "model_module_version": "1.5.0",
      "model_name": "FloatProgressModel",
      "state": {
       "bar_style": "success",
       "layout": "IPY_MODEL_37b64538404f44b59809a50f3f39ed92",
       "max": 5,
       "style": "IPY_MODEL_192638a875cf4a449301f8e0a1ce43d2",
       "value": 5
      }
     },
     "656fff3e9e2d4074ad7ff394c5aba902": {
      "model_module": "@jupyter-widgets/base",
      "model_module_version": "1.2.0",
      "model_name": "LayoutModel",
      "state": {}
     },
     "67a547c7cd8d4c52a929ed70e43a007f": {
      "model_module": "@jupyter-widgets/base",
      "model_module_version": "1.2.0",
      "model_name": "LayoutModel",
      "state": {}
     },
     "69a03547e104422bb969077190088aac": {
      "model_module": "@jupyter-widgets/base",
      "model_module_version": "1.2.0",
      "model_name": "LayoutModel",
      "state": {}
     },
     "6a2ea051ac7e4b92a34ab87706106b46": {
      "model_module": "@jupyter-widgets/base",
      "model_module_version": "1.2.0",
      "model_name": "LayoutModel",
      "state": {}
     },
     "6abb1a12c8e546d7b46f6ce6a3fbbc80": {
      "model_module": "@jupyter-widgets/base",
      "model_module_version": "1.2.0",
      "model_name": "LayoutModel",
      "state": {}
     },
     "6fc1ab35fa2e4035a84a0cb63f1cf4b1": {
      "model_module": "@jupyter-widgets/controls",
      "model_module_version": "1.5.0",
      "model_name": "HTMLModel",
      "state": {
       "layout": "IPY_MODEL_dbeaea767b4047feba5b64e282b0c0c3",
       "style": "IPY_MODEL_4ce55ca5b6f34237aa46268a2673bb9b",
       "value": " 5/5 [00:10&lt;00:00,  2.13s/it]"
      }
     },
     "71824f53c2bc4ae39dfdfe6c6621de7e": {
      "model_module": "@jupyter-widgets/controls",
      "model_module_version": "1.5.0",
      "model_name": "HTMLModel",
      "state": {
       "layout": "IPY_MODEL_2cadfdaf4b2343b9a4dc0b28093fc55e",
       "style": "IPY_MODEL_d12ed436c32049779ecf1ee2fa5b3c1c",
       "value": "100%"
      }
     },
     "77a5f0572a404b9899d73b2cc7483225": {
      "model_module": "@jupyter-widgets/base",
      "model_module_version": "1.2.0",
      "model_name": "LayoutModel",
      "state": {}
     },
     "77eb386761db4a64838b11c384ccee2d": {
      "model_module": "@jupyter-widgets/base",
      "model_module_version": "1.2.0",
      "model_name": "LayoutModel",
      "state": {}
     },
     "783c4732cf70445e8cb8f2237e7e409f": {
      "model_module": "@jupyter-widgets/controls",
      "model_module_version": "1.5.0",
      "model_name": "HTMLModel",
      "state": {
       "layout": "IPY_MODEL_a03ff533ab79480897ef7a315c49497f",
       "style": "IPY_MODEL_c06ed89a77394d4fad27a00a310b1c63",
       "value": "  0%"
      }
     },
     "78b5fa2d0ca344669b6584608aa750aa": {
      "model_module": "@jupyter-widgets/base",
      "model_module_version": "1.2.0",
      "model_name": "LayoutModel",
      "state": {}
     },
     "7cb6ee5ba19f4272a885464eea962013": {
      "model_module": "@jupyter-widgets/base",
      "model_module_version": "1.2.0",
      "model_name": "LayoutModel",
      "state": {}
     },
     "80ec7e7dd0614b7db364084fcdd62afd": {
      "model_module": "@jupyter-widgets/controls",
      "model_module_version": "1.5.0",
      "model_name": "HTMLModel",
      "state": {
       "layout": "IPY_MODEL_26e7c338c9684bd1a91667eeed0bbada",
       "style": "IPY_MODEL_b922c17b16f941989cc03134e8e77a9d",
       "value": "100%"
      }
     },
     "81123e5acf984723bdb2130f4b60b05e": {
      "model_module": "@jupyter-widgets/controls",
      "model_module_version": "1.5.0",
      "model_name": "HBoxModel",
      "state": {
       "children": [
        "IPY_MODEL_783c4732cf70445e8cb8f2237e7e409f",
        "IPY_MODEL_f5476ddb427c4041887648ec61b502f9",
        "IPY_MODEL_4ea79765c82645408c59a1a36270515f"
       ],
       "layout": "IPY_MODEL_da49aaa6f3154695b0b57d9ba99ba3ba"
      }
     },
     "8153090dfe9b424aa97265b78327070d": {
      "model_module": "@jupyter-widgets/base",
      "model_module_version": "1.2.0",
      "model_name": "LayoutModel",
      "state": {}
     },
     "85ceb5e0c71542f2936417b78a4081f2": {
      "model_module": "@jupyter-widgets/controls",
      "model_module_version": "1.5.0",
      "model_name": "DescriptionStyleModel",
      "state": {
       "description_width": ""
      }
     },
     "861c8ac5f42d4c79bf44950ddb7e3907": {
      "model_module": "@jupyter-widgets/controls",
      "model_module_version": "1.5.0",
      "model_name": "DescriptionStyleModel",
      "state": {
       "description_width": ""
      }
     },
     "864d6e2d323c42ac99335412715b6354": {
      "model_module": "@jupyter-widgets/controls",
      "model_module_version": "1.5.0",
      "model_name": "ProgressStyleModel",
      "state": {
       "description_width": ""
      }
     },
     "870acf355b3d4c70a77e720ad45aae32": {
      "model_module": "@jupyter-widgets/controls",
      "model_module_version": "1.5.0",
      "model_name": "HTMLModel",
      "state": {
       "layout": "IPY_MODEL_e845c4608edd4732be31d59d73065b86",
       "style": "IPY_MODEL_cabfe970704841a48451da12c1547c58",
       "value": "100%"
      }
     },
     "89dfcac8c85e41f482667dc31bc7dfe9": {
      "model_module": "@jupyter-widgets/controls",
      "model_module_version": "1.5.0",
      "model_name": "FloatProgressModel",
      "state": {
       "bar_style": "success",
       "layout": "IPY_MODEL_a6b35d5b33b749c49bb63e629efb0cab",
       "max": 5,
       "style": "IPY_MODEL_2e1fe1c522824843b68d369f26909b59",
       "value": 5
      }
     },
     "8b3ca6bca6e8420b8537813735b747f7": {
      "model_module": "@jupyter-widgets/controls",
      "model_module_version": "1.5.0",
      "model_name": "HTMLModel",
      "state": {
       "layout": "IPY_MODEL_78b5fa2d0ca344669b6584608aa750aa",
       "style": "IPY_MODEL_ddd30815627d4baf84969c52578ad1ae",
       "value": " 5/5 [00:11&lt;00:00,  2.26s/it]"
      }
     },
     "8b9ba16665794ea188a816d49a4da5a8": {
      "model_module": "@jupyter-widgets/controls",
      "model_module_version": "1.5.0",
      "model_name": "FloatProgressModel",
      "state": {
       "bar_style": "success",
       "layout": "IPY_MODEL_d2c79f718863446baa1ecf71bce13a06",
       "max": 5,
       "style": "IPY_MODEL_e043c7f647f24c7b8fa59fd064fa4cd4",
       "value": 5
      }
     },
     "8d522d62640d426a9a9855572390103c": {
      "model_module": "@jupyter-widgets/controls",
      "model_module_version": "1.5.0",
      "model_name": "HTMLModel",
      "state": {
       "layout": "IPY_MODEL_67a547c7cd8d4c52a929ed70e43a007f",
       "style": "IPY_MODEL_13ba37f415844eeba943f485194ebab3",
       "value": "100%"
      }
     },
     "8d78fa8e65e14bea8c94f4d3b956197e": {
      "model_module": "@jupyter-widgets/base",
      "model_module_version": "1.2.0",
      "model_name": "LayoutModel",
      "state": {}
     },
     "9210cd3b31424c0ebf082484b23a5d8d": {
      "model_module": "@jupyter-widgets/controls",
      "model_module_version": "1.5.0",
      "model_name": "DescriptionStyleModel",
      "state": {
       "description_width": ""
      }
     },
     "92672f7e0ea54b40b1cd74adeefb0b8b": {
      "model_module": "@jupyter-widgets/controls",
      "model_module_version": "1.5.0",
      "model_name": "ProgressStyleModel",
      "state": {
       "description_width": ""
      }
     },
     "9317de789d204bb6b8375c6d118b8669": {
      "model_module": "@jupyter-widgets/controls",
      "model_module_version": "1.5.0",
      "model_name": "DescriptionStyleModel",
      "state": {
       "description_width": ""
      }
     },
     "935a0c2750024584b83aea404d4301c0": {
      "model_module": "@jupyter-widgets/controls",
      "model_module_version": "1.5.0",
      "model_name": "ProgressStyleModel",
      "state": {
       "description_width": ""
      }
     },
     "9431f1ab7e2348b695cb049f32549260": {
      "model_module": "@jupyter-widgets/base",
      "model_module_version": "1.2.0",
      "model_name": "LayoutModel",
      "state": {}
     },
     "9606087c9983413c8f92cbb1f33f8868": {
      "model_module": "@jupyter-widgets/controls",
      "model_module_version": "1.5.0",
      "model_name": "DescriptionStyleModel",
      "state": {
       "description_width": ""
      }
     },
     "96a98002f7854bec8cde83f8a7d7574a": {
      "model_module": "@jupyter-widgets/base",
      "model_module_version": "1.2.0",
      "model_name": "LayoutModel",
      "state": {}
     },
     "9d37d2b88dab402f879a9634817eeb9b": {
      "model_module": "@jupyter-widgets/base",
      "model_module_version": "1.2.0",
      "model_name": "LayoutModel",
      "state": {}
     },
     "9ebeae9662d6489096c8a076ad62d9f1": {
      "model_module": "@jupyter-widgets/controls",
      "model_module_version": "1.5.0",
      "model_name": "HBoxModel",
      "state": {
       "children": [
        "IPY_MODEL_71824f53c2bc4ae39dfdfe6c6621de7e",
        "IPY_MODEL_1aa9560dda59475a8c2f750ee8ed927f",
        "IPY_MODEL_202a651d77c64e0cbe33fb2d580d973e"
       ],
       "layout": "IPY_MODEL_c004ff77b2b2478d8cdc80ec21d6c155"
      }
     },
     "9faec65d40b447fea66d5d21adcb4b4d": {
      "model_module": "@jupyter-widgets/controls",
      "model_module_version": "1.5.0",
      "model_name": "FloatProgressModel",
      "state": {
       "bar_style": "success",
       "layout": "IPY_MODEL_0d3a5bc7034646158d6f7e903e51f74c",
       "max": 5,
       "style": "IPY_MODEL_fcb7f80d6fd241be9f6b1f260559bed0",
       "value": 5
      }
     },
     "a002c562b015459ba99e27802d14290c": {
      "model_module": "@jupyter-widgets/controls",
      "model_module_version": "1.5.0",
      "model_name": "HBoxModel",
      "state": {
       "children": [
        "IPY_MODEL_3ac216379ee148ecac44ed1a97bf81d0",
        "IPY_MODEL_f4550b1f77744b7688a97f3ec0b4de6b",
        "IPY_MODEL_0e832d5b1073447a93a35dbbc25452a9"
       ],
       "layout": "IPY_MODEL_8d78fa8e65e14bea8c94f4d3b956197e"
      }
     },
     "a03ff533ab79480897ef7a315c49497f": {
      "model_module": "@jupyter-widgets/base",
      "model_module_version": "1.2.0",
      "model_name": "LayoutModel",
      "state": {}
     },
     "a42e0276bb3342efa1fe98bf2d5e0dc4": {
      "model_module": "@jupyter-widgets/controls",
      "model_module_version": "1.5.0",
      "model_name": "HTMLModel",
      "state": {
       "layout": "IPY_MODEL_582cd604b7a14b49ae8b209c9bac215d",
       "style": "IPY_MODEL_f5f9d80721be464faac5bd1452c6fc62",
       "value": " 5/5 [00:09&lt;00:00,  1.87s/it]"
      }
     },
     "a4dea1aaa5f0453594703ee05b51ecb9": {
      "model_module": "@jupyter-widgets/controls",
      "model_module_version": "1.5.0",
      "model_name": "DescriptionStyleModel",
      "state": {
       "description_width": ""
      }
     },
     "a638dcc657554b7e90c46fcb8c8db99e": {
      "model_module": "@jupyter-widgets/base",
      "model_module_version": "1.2.0",
      "model_name": "LayoutModel",
      "state": {}
     },
     "a6b35d5b33b749c49bb63e629efb0cab": {
      "model_module": "@jupyter-widgets/base",
      "model_module_version": "1.2.0",
      "model_name": "LayoutModel",
      "state": {}
     },
     "a9690a25cf604d6f86e3995ddeb37718": {
      "model_module": "@jupyter-widgets/controls",
      "model_module_version": "1.5.0",
      "model_name": "HTMLModel",
      "state": {
       "layout": "IPY_MODEL_d6f33ead20ad4d4ca3810aa477ff5c96",
       "style": "IPY_MODEL_24793cf877b44b22b56e9481fad05d34",
       "value": " 5/5 [00:09&lt;00:00,  1.83s/it]"
      }
     },
     "af1669f3f1f744ea85d502014a231d19": {
      "model_module": "@jupyter-widgets/base",
      "model_module_version": "1.2.0",
      "model_name": "LayoutModel",
      "state": {}
     },
     "af55c2a218f04f498d8f459ae292cc8b": {
      "model_module": "@jupyter-widgets/controls",
      "model_module_version": "1.5.0",
      "model_name": "HTMLModel",
      "state": {
       "layout": "IPY_MODEL_69a03547e104422bb969077190088aac",
       "style": "IPY_MODEL_f84d256b544b443eb644e062940d5a8d",
       "value": " 5/5 [00:15&lt;00:00,  3.14s/it]"
      }
     },
     "b15d4bc7582b46c68b9568a843aa7555": {
      "model_module": "@jupyter-widgets/controls",
      "model_module_version": "1.5.0",
      "model_name": "FloatProgressModel",
      "state": {
       "bar_style": "success",
       "layout": "IPY_MODEL_b855518cc9e340028aeff84bf543df4d",
       "max": 5,
       "style": "IPY_MODEL_5ea2ccdd48db4dadb968c072a0a2f71c",
       "value": 5
      }
     },
     "b2c1e29bb44e4343a50c25a906e73372": {
      "model_module": "@jupyter-widgets/base",
      "model_module_version": "1.2.0",
      "model_name": "LayoutModel",
      "state": {}
     },
     "b3e72542ce4b4f39bc957b933fc53a15": {
      "model_module": "@jupyter-widgets/base",
      "model_module_version": "1.2.0",
      "model_name": "LayoutModel",
      "state": {}
     },
     "b855518cc9e340028aeff84bf543df4d": {
      "model_module": "@jupyter-widgets/base",
      "model_module_version": "1.2.0",
      "model_name": "LayoutModel",
      "state": {}
     },
     "b922c17b16f941989cc03134e8e77a9d": {
      "model_module": "@jupyter-widgets/controls",
      "model_module_version": "1.5.0",
      "model_name": "DescriptionStyleModel",
      "state": {
       "description_width": ""
      }
     },
     "bbbed413937e42f193e89ff8979f5028": {
      "model_module": "@jupyter-widgets/controls",
      "model_module_version": "1.5.0",
      "model_name": "HTMLModel",
      "state": {
       "layout": "IPY_MODEL_e35940adaa6544c88114330b21617c42",
       "style": "IPY_MODEL_4658e786c1314e698d1b656973d53db4",
       "value": " 5/5 [00:09&lt;00:00,  1.95s/it]"
      }
     },
     "bc385f727a2943eebb7a4db662605c07": {
      "model_module": "@jupyter-widgets/controls",
      "model_module_version": "1.5.0",
      "model_name": "HTMLModel",
      "state": {
       "layout": "IPY_MODEL_dde550a572004b97b52a04118b19ee13",
       "style": "IPY_MODEL_359de4cf17d144918ed7142d362114e7",
       "value": "100%"
      }
     },
     "bc9c7d9a79894d8ca8468fac25704db1": {
      "model_module": "@jupyter-widgets/controls",
      "model_module_version": "1.5.0",
      "model_name": "ProgressStyleModel",
      "state": {
       "description_width": ""
      }
     },
     "bd832efcd40242dc83ab9d35f0943af8": {
      "model_module": "@jupyter-widgets/controls",
      "model_module_version": "1.5.0",
      "model_name": "ProgressStyleModel",
      "state": {
       "description_width": ""
      }
     },
     "be655f845ea9429fb4e225a6124b1977": {
      "model_module": "@jupyter-widgets/controls",
      "model_module_version": "1.5.0",
      "model_name": "DescriptionStyleModel",
      "state": {
       "description_width": ""
      }
     },
     "be9d28939e9e434e982935d215c9d5d3": {
      "model_module": "@jupyter-widgets/controls",
      "model_module_version": "1.5.0",
      "model_name": "FloatProgressModel",
      "state": {
       "bar_style": "success",
       "layout": "IPY_MODEL_2d247ed1e2d440578886a97b3889f942",
       "max": 5,
       "style": "IPY_MODEL_cc2acc05ba17455dafbeb1001dc63573",
       "value": 5
      }
     },
     "bf7d278d394d4353b855880e6fbc1de0": {
      "model_module": "@jupyter-widgets/base",
      "model_module_version": "1.2.0",
      "model_name": "LayoutModel",
      "state": {}
     },
     "c004ff77b2b2478d8cdc80ec21d6c155": {
      "model_module": "@jupyter-widgets/base",
      "model_module_version": "1.2.0",
      "model_name": "LayoutModel",
      "state": {}
     },
     "c06ed89a77394d4fad27a00a310b1c63": {
      "model_module": "@jupyter-widgets/controls",
      "model_module_version": "1.5.0",
      "model_name": "DescriptionStyleModel",
      "state": {
       "description_width": ""
      }
     },
     "c499764de0254b9aa37926b403e9e518": {
      "model_module": "@jupyter-widgets/base",
      "model_module_version": "1.2.0",
      "model_name": "LayoutModel",
      "state": {}
     },
     "c4c1f5bace874f3a980b21a586b1b258": {
      "model_module": "@jupyter-widgets/base",
      "model_module_version": "1.2.0",
      "model_name": "LayoutModel",
      "state": {}
     },
     "c4df6caf7c374913b9d305a3dfc70fab": {
      "model_module": "@jupyter-widgets/controls",
      "model_module_version": "1.5.0",
      "model_name": "HBoxModel",
      "state": {
       "children": [
        "IPY_MODEL_1c3573d029254c90aaa9a22a642350b1",
        "IPY_MODEL_9faec65d40b447fea66d5d21adcb4b4d",
        "IPY_MODEL_da2dbc76609343f39600db1fd140c80f"
       ],
       "layout": "IPY_MODEL_6a2ea051ac7e4b92a34ab87706106b46"
      }
     },
     "c5127a27543142aca7ad7d655226e9d1": {
      "model_module": "@jupyter-widgets/controls",
      "model_module_version": "1.5.0",
      "model_name": "FloatProgressModel",
      "state": {
       "bar_style": "success",
       "layout": "IPY_MODEL_b2c1e29bb44e4343a50c25a906e73372",
       "max": 5,
       "style": "IPY_MODEL_3ba07aa24cf4412d89af38bbcf0baeda",
       "value": 5
      }
     },
     "ca87a7e30ab441afa953c0b46c39f8fd": {
      "model_module": "@jupyter-widgets/controls",
      "model_module_version": "1.5.0",
      "model_name": "FloatProgressModel",
      "state": {
       "bar_style": "success",
       "layout": "IPY_MODEL_af1669f3f1f744ea85d502014a231d19",
       "max": 5,
       "style": "IPY_MODEL_92672f7e0ea54b40b1cd74adeefb0b8b",
       "value": 5
      }
     },
     "cabfe970704841a48451da12c1547c58": {
      "model_module": "@jupyter-widgets/controls",
      "model_module_version": "1.5.0",
      "model_name": "DescriptionStyleModel",
      "state": {
       "description_width": ""
      }
     },
     "cc2acc05ba17455dafbeb1001dc63573": {
      "model_module": "@jupyter-widgets/controls",
      "model_module_version": "1.5.0",
      "model_name": "ProgressStyleModel",
      "state": {
       "description_width": ""
      }
     },
     "cf449d7c375b42a68781c498f0b294b8": {
      "model_module": "@jupyter-widgets/base",
      "model_module_version": "1.2.0",
      "model_name": "LayoutModel",
      "state": {}
     },
     "d12ed436c32049779ecf1ee2fa5b3c1c": {
      "model_module": "@jupyter-widgets/controls",
      "model_module_version": "1.5.0",
      "model_name": "DescriptionStyleModel",
      "state": {
       "description_width": ""
      }
     },
     "d2c79f718863446baa1ecf71bce13a06": {
      "model_module": "@jupyter-widgets/base",
      "model_module_version": "1.2.0",
      "model_name": "LayoutModel",
      "state": {}
     },
     "d6f33ead20ad4d4ca3810aa477ff5c96": {
      "model_module": "@jupyter-widgets/base",
      "model_module_version": "1.2.0",
      "model_name": "LayoutModel",
      "state": {}
     },
     "da2dbc76609343f39600db1fd140c80f": {
      "model_module": "@jupyter-widgets/controls",
      "model_module_version": "1.5.0",
      "model_name": "HTMLModel",
      "state": {
       "layout": "IPY_MODEL_05b1e66e391343a09ef67f4f0cf5256f",
       "style": "IPY_MODEL_9317de789d204bb6b8375c6d118b8669",
       "value": " 5/5 [00:13&lt;00:00,  2.84s/it]"
      }
     },
     "da49aaa6f3154695b0b57d9ba99ba3ba": {
      "model_module": "@jupyter-widgets/base",
      "model_module_version": "1.2.0",
      "model_name": "LayoutModel",
      "state": {}
     },
     "da890a69958941e599b24236abf259f3": {
      "model_module": "@jupyter-widgets/controls",
      "model_module_version": "1.5.0",
      "model_name": "FloatProgressModel",
      "state": {
       "bar_style": "success",
       "layout": "IPY_MODEL_20218a9482dc4de8a99d0b54dabf60f3",
       "max": 5,
       "style": "IPY_MODEL_bd832efcd40242dc83ab9d35f0943af8",
       "value": 5
      }
     },
     "db8dd18dbfe24db2a2e9290a4f8d09c1": {
      "model_module": "@jupyter-widgets/controls",
      "model_module_version": "1.5.0",
      "model_name": "FloatProgressModel",
      "state": {
       "bar_style": "success",
       "layout": "IPY_MODEL_5111cdca465e41e398d8e4acbee8d512",
       "max": 5,
       "style": "IPY_MODEL_935a0c2750024584b83aea404d4301c0",
       "value": 5
      }
     },
     "dbeaea767b4047feba5b64e282b0c0c3": {
      "model_module": "@jupyter-widgets/base",
      "model_module_version": "1.2.0",
      "model_name": "LayoutModel",
      "state": {}
     },
     "ddd30815627d4baf84969c52578ad1ae": {
      "model_module": "@jupyter-widgets/controls",
      "model_module_version": "1.5.0",
      "model_name": "DescriptionStyleModel",
      "state": {
       "description_width": ""
      }
     },
     "dde550a572004b97b52a04118b19ee13": {
      "model_module": "@jupyter-widgets/base",
      "model_module_version": "1.2.0",
      "model_name": "LayoutModel",
      "state": {}
     },
     "e043c7f647f24c7b8fa59fd064fa4cd4": {
      "model_module": "@jupyter-widgets/controls",
      "model_module_version": "1.5.0",
      "model_name": "ProgressStyleModel",
      "state": {
       "description_width": ""
      }
     },
     "e1d42132e995438bb53e166760b8dff2": {
      "model_module": "@jupyter-widgets/base",
      "model_module_version": "1.2.0",
      "model_name": "LayoutModel",
      "state": {}
     },
     "e33b492304544b73857915a39e259fd5": {
      "model_module": "@jupyter-widgets/base",
      "model_module_version": "1.2.0",
      "model_name": "LayoutModel",
      "state": {}
     },
     "e35940adaa6544c88114330b21617c42": {
      "model_module": "@jupyter-widgets/base",
      "model_module_version": "1.2.0",
      "model_name": "LayoutModel",
      "state": {}
     },
     "e68969f050894a5ab656620e14b1118f": {
      "model_module": "@jupyter-widgets/controls",
      "model_module_version": "1.5.0",
      "model_name": "FloatProgressModel",
      "state": {
       "bar_style": "success",
       "layout": "IPY_MODEL_bf7d278d394d4353b855880e6fbc1de0",
       "max": 5,
       "style": "IPY_MODEL_295d3bfaf7c84dddaba350e4f23af4ee",
       "value": 5
      }
     },
     "e6aba4ea52fa4c4fb68589e674443950": {
      "model_module": "@jupyter-widgets/controls",
      "model_module_version": "1.5.0",
      "model_name": "HTMLModel",
      "state": {
       "layout": "IPY_MODEL_2bc007e9544b4586955168f564d886b8",
       "style": "IPY_MODEL_9606087c9983413c8f92cbb1f33f8868",
       "value": " 5/5 [00:11&lt;00:00,  2.40s/it]"
      }
     },
     "e845c4608edd4732be31d59d73065b86": {
      "model_module": "@jupyter-widgets/base",
      "model_module_version": "1.2.0",
      "model_name": "LayoutModel",
      "state": {}
     },
     "eb3f97ff91dd44468f4f41ac07fcdda3": {
      "model_module": "@jupyter-widgets/controls",
      "model_module_version": "1.5.0",
      "model_name": "ProgressStyleModel",
      "state": {
       "description_width": ""
      }
     },
     "ebb7c85f5cc441aa89b20ce495aa25f6": {
      "model_module": "@jupyter-widgets/controls",
      "model_module_version": "1.5.0",
      "model_name": "HTMLModel",
      "state": {
       "layout": "IPY_MODEL_7cb6ee5ba19f4272a885464eea962013",
       "style": "IPY_MODEL_861c8ac5f42d4c79bf44950ddb7e3907",
       "value": " 5/5 [00:12&lt;00:00,  2.49s/it]"
      }
     },
     "f3a220a34cfc498886cea2147589fdb8": {
      "model_module": "@jupyter-widgets/base",
      "model_module_version": "1.2.0",
      "model_name": "LayoutModel",
      "state": {}
     },
     "f40989d7426545c2bd9ffc22a1842a1e": {
      "model_module": "@jupyter-widgets/base",
      "model_module_version": "1.2.0",
      "model_name": "LayoutModel",
      "state": {}
     },
     "f4550b1f77744b7688a97f3ec0b4de6b": {
      "model_module": "@jupyter-widgets/controls",
      "model_module_version": "1.5.0",
      "model_name": "FloatProgressModel",
      "state": {
       "bar_style": "success",
       "layout": "IPY_MODEL_fccdad98be314f82a7ddd9e6a559e2be",
       "max": 5,
       "style": "IPY_MODEL_bc9c7d9a79894d8ca8468fac25704db1",
       "value": 5
      }
     },
     "f5476ddb427c4041887648ec61b502f9": {
      "model_module": "@jupyter-widgets/controls",
      "model_module_version": "1.5.0",
      "model_name": "FloatProgressModel",
      "state": {
       "bar_style": "danger",
       "layout": "IPY_MODEL_656fff3e9e2d4074ad7ff394c5aba902",
       "max": 5,
       "style": "IPY_MODEL_864d6e2d323c42ac99335412715b6354"
      }
     },
     "f5f9d80721be464faac5bd1452c6fc62": {
      "model_module": "@jupyter-widgets/controls",
      "model_module_version": "1.5.0",
      "model_name": "DescriptionStyleModel",
      "state": {
       "description_width": ""
      }
     },
     "f6dd3b220c0b4867bef94c984c36d1cd": {
      "model_module": "@jupyter-widgets/controls",
      "model_module_version": "1.5.0",
      "model_name": "HTMLModel",
      "state": {
       "layout": "IPY_MODEL_f40989d7426545c2bd9ffc22a1842a1e",
       "style": "IPY_MODEL_4f49a1579dcb495894603a5d59bdaf72",
       "value": "100%"
      }
     },
     "f8448f1c504141dfb670266f71028c5f": {
      "model_module": "@jupyter-widgets/controls",
      "model_module_version": "1.5.0",
      "model_name": "DescriptionStyleModel",
      "state": {
       "description_width": ""
      }
     },
     "f84d256b544b443eb644e062940d5a8d": {
      "model_module": "@jupyter-widgets/controls",
      "model_module_version": "1.5.0",
      "model_name": "DescriptionStyleModel",
      "state": {
       "description_width": ""
      }
     },
     "fb68c51a87814637ab22211d6901c052": {
      "model_module": "@jupyter-widgets/controls",
      "model_module_version": "1.5.0",
      "model_name": "DescriptionStyleModel",
      "state": {
       "description_width": ""
      }
     },
     "fbf5c64a433b4a72bd27c331fb1d900d": {
      "model_module": "@jupyter-widgets/base",
      "model_module_version": "1.2.0",
      "model_name": "LayoutModel",
      "state": {}
     },
     "fc3a48a4feec4118821172e6fe70ccad": {
      "model_module": "@jupyter-widgets/controls",
      "model_module_version": "1.5.0",
      "model_name": "HBoxModel",
      "state": {
       "children": [
        "IPY_MODEL_5e8ebfae26a54d558f103ecf645ae1ab",
        "IPY_MODEL_e68969f050894a5ab656620e14b1118f",
        "IPY_MODEL_a9690a25cf604d6f86e3995ddeb37718"
       ],
       "layout": "IPY_MODEL_9d37d2b88dab402f879a9634817eeb9b"
      }
     },
     "fc5f203c67674d789bbe89963f740aa7": {
      "model_module": "@jupyter-widgets/controls",
      "model_module_version": "1.5.0",
      "model_name": "HTMLModel",
      "state": {
       "layout": "IPY_MODEL_182882d172964ac1a7f4f0ef3f18181b",
       "style": "IPY_MODEL_3e955360bd484e5289e48659a29f4a32",
       "value": "100%"
      }
     },
     "fcb7f80d6fd241be9f6b1f260559bed0": {
      "model_module": "@jupyter-widgets/controls",
      "model_module_version": "1.5.0",
      "model_name": "ProgressStyleModel",
      "state": {
       "description_width": ""
      }
     },
     "fccdad98be314f82a7ddd9e6a559e2be": {
      "model_module": "@jupyter-widgets/base",
      "model_module_version": "1.2.0",
      "model_name": "LayoutModel",
      "state": {}
     },
     "fd922196064a44eaa692b4746ccf5569": {
      "model_module": "@jupyter-widgets/base",
      "model_module_version": "1.2.0",
      "model_name": "LayoutModel",
      "state": {}
     },
     "ff1687154b3d402197a08ff338e9b51b": {
      "model_module": "@jupyter-widgets/controls",
      "model_module_version": "1.5.0",
      "model_name": "HTMLModel",
      "state": {
       "layout": "IPY_MODEL_00183202665b4be6bcd23414c1e432c9",
       "style": "IPY_MODEL_85ceb5e0c71542f2936417b78a4081f2",
       "value": "100%"
      }
     }
    },
    "version_major": 2,
    "version_minor": 0
   }
  }
 },
 "nbformat": 4,
 "nbformat_minor": 4
}
