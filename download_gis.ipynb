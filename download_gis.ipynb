{
 "cells": [
  {
   "cell_type": "markdown",
   "metadata": {},
   "source": [
    "# Downloading and preprocessesing GIS data"
   ]
  },
  {
   "cell_type": "markdown",
   "metadata": {},
   "source": [
    "Download data about POI in Allegheny County from WPRDC.\n",
    "\n",
    "Link to data: https://data.wprdc.org/dataset/allegheny-county-assets/resource/5c7825d2-6814-40c7-aefe-3d0f3d6f22e7?view_id=7e2a0120-4325-4fde-99de-e56c22c2b561"
   ]
  },
  {
   "cell_type": "markdown",
   "metadata": {},
   "source": [
    "### Import packages"
   ]
  },
  {
   "cell_type": "code",
   "execution_count": 1,
   "metadata": {},
   "outputs": [],
   "source": [
    "import os\n",
    "import gc\n",
    "from multiprocessing import Pool\n",
    "import warnings\n",
    "warnings.filterwarnings(action=\"ignore\")\n",
    "\n",
    "from keras.utils import get_file\n",
    "from tqdm.notebook import tqdm\n",
    "import pandas as pd\n",
    "import matplotlib.pyplot as plt\n",
    "import numpy as np\n",
    "\n",
    "# for multiprocessing\n",
    "import multiprocessor_gis"
   ]
  },
  {
   "cell_type": "markdown",
   "metadata": {},
   "source": [
    "Define constants.\n",
    "\n",
    "- ``PATH``: Path to the base data folder\n",
    "- ``COORD_RANGE_LAT``: latitude coordinate range of Allegheny County\n",
    "- ``COORD_RANGE_LONG``: longitude coordinate range of Allegheny County\n",
    "- ``CPU_CORES``: how many cpu cores to use, default = all\n",
    "- ``MAX_DIST_DUP``: maximum distance for duplicate detection\n",
    "- ``COUNT_RADIUS``: maximum distance for _count features"
   ]
  },
  {
   "cell_type": "code",
   "execution_count": 2,
   "metadata": {},
   "outputs": [],
   "source": [
    "PATH = \"C:/Users/Tim/.keras/datasets/wikipedia_real_estate/\"\n",
    "COORD_RANGE_LAT = (40.000000, 40.870000)\n",
    "COORD_RANGE_LONG = (-80.550000, -79.500000)\n",
    "# CPU_CORES = os.cpu_count()\n",
    "CPU_CORES = 11\n",
    "MAX_DIST_DUP = 10  # in meters\n",
    "COUNT_RADIUS = 3500  # in meters"
   ]
  },
  {
   "cell_type": "markdown",
   "metadata": {},
   "source": [
    "Download data. If already downloaded, load data."
   ]
  },
  {
   "cell_type": "code",
   "execution_count": 3,
   "metadata": {},
   "outputs": [],
   "source": [
    "f_path = get_file(PATH + \"wprdc/gis_data.csv\", \"https://tools.wprdc.org/downstream/5c7825d2-6814-40c7-aefe-3d0f3d6f22e7\")"
   ]
  },
  {
   "cell_type": "code",
   "execution_count": 4,
   "metadata": {},
   "outputs": [
    {
     "name": "stdout",
     "output_type": "stream",
     "text": [
      "(2678978, 45)\n"
     ]
    },
    {
     "data": {
      "text/html": [
       "<div>\n",
       "<style scoped>\n",
       "    .dataframe tbody tr th:only-of-type {\n",
       "        vertical-align: middle;\n",
       "    }\n",
       "\n",
       "    .dataframe tbody tr th {\n",
       "        vertical-align: top;\n",
       "    }\n",
       "\n",
       "    .dataframe thead th {\n",
       "        text-align: right;\n",
       "    }\n",
       "</style>\n",
       "<table border=\"1\" class=\"dataframe\">\n",
       "  <thead>\n",
       "    <tr style=\"text-align: right;\">\n",
       "      <th></th>\n",
       "      <th>_id</th>\n",
       "      <th>name</th>\n",
       "      <th>asset_type</th>\n",
       "      <th>tags</th>\n",
       "      <th>location_id</th>\n",
       "      <th>street_address</th>\n",
       "      <th>unit</th>\n",
       "      <th>unit_type</th>\n",
       "      <th>municipality</th>\n",
       "      <th>city</th>\n",
       "      <th>...</th>\n",
       "      <th>localizability</th>\n",
       "      <th>services</th>\n",
       "      <th>hard_to_count_population</th>\n",
       "      <th>data_source_names</th>\n",
       "      <th>data_source_urls</th>\n",
       "      <th>organization_name</th>\n",
       "      <th>organization_phone</th>\n",
       "      <th>organization_email</th>\n",
       "      <th>etl_notes</th>\n",
       "      <th>geocoding_properties</th>\n",
       "    </tr>\n",
       "  </thead>\n",
       "  <tbody>\n",
       "    <tr>\n",
       "      <th>0</th>\n",
       "      <td>2750</td>\n",
       "      <td>Medical Center Clinic</td>\n",
       "      <td>doctors_offices</td>\n",
       "      <td>NaN</td>\n",
       "      <td>17333.0</td>\n",
       "      <td>4185 Friendship Avenue, Suite 340</td>\n",
       "      <td>NaN</td>\n",
       "      <td>NaN</td>\n",
       "      <td>NaN</td>\n",
       "      <td>Pittsburgh</td>\n",
       "      <td>...</td>\n",
       "      <td>FIX</td>\n",
       "      <td>NaN</td>\n",
       "      <td>NaN</td>\n",
       "      <td>WPRDC Data: Primary Care Access 2014 Data</td>\n",
       "      <td>https://data.wprdc.org/dataset/allegheny-count...</td>\n",
       "      <td>NaN</td>\n",
       "      <td>NaN</td>\n",
       "      <td>NaN</td>\n",
       "      <td>NaN</td>\n",
       "      <td>NaN</td>\n",
       "    </tr>\n",
       "    <tr>\n",
       "      <th>1</th>\n",
       "      <td>2936</td>\n",
       "      <td>Pie Traynor Field Concession Stand</td>\n",
       "      <td>parks_and_facilities</td>\n",
       "      <td>NaN</td>\n",
       "      <td>88619.0</td>\n",
       "      <td>NaN</td>\n",
       "      <td>NaN</td>\n",
       "      <td>NaN</td>\n",
       "      <td>NaN</td>\n",
       "      <td>NaN</td>\n",
       "      <td>...</td>\n",
       "      <td>FIX</td>\n",
       "      <td>NaN</td>\n",
       "      <td>NaN</td>\n",
       "      <td>WPRDC Dataset: Allegheny County Park Facilities</td>\n",
       "      <td>https://data.wprdc.org/dataset/allegheny-count...</td>\n",
       "      <td>Allegheny County Parks Department</td>\n",
       "      <td>NaN</td>\n",
       "      <td>NaN</td>\n",
       "      <td>NaN</td>\n",
       "      <td>NaN</td>\n",
       "    </tr>\n",
       "    <tr>\n",
       "      <th>2</th>\n",
       "      <td>2751</td>\n",
       "      <td>Medical Center Clinic</td>\n",
       "      <td>doctors_offices</td>\n",
       "      <td>NaN</td>\n",
       "      <td>17534.0</td>\n",
       "      <td>9930 Grubbs Road, Suite 200</td>\n",
       "      <td>NaN</td>\n",
       "      <td>NaN</td>\n",
       "      <td>NaN</td>\n",
       "      <td>Wexford</td>\n",
       "      <td>...</td>\n",
       "      <td>FIX</td>\n",
       "      <td>NaN</td>\n",
       "      <td>NaN</td>\n",
       "      <td>WPRDC Data: Primary Care Access 2014 Data</td>\n",
       "      <td>https://data.wprdc.org/dataset/allegheny-count...</td>\n",
       "      <td>NaN</td>\n",
       "      <td>NaN</td>\n",
       "      <td>NaN</td>\n",
       "      <td>NaN</td>\n",
       "      <td>NaN</td>\n",
       "    </tr>\n",
       "    <tr>\n",
       "      <th>3</th>\n",
       "      <td>2752</td>\n",
       "      <td>Medi Help</td>\n",
       "      <td>doctors_offices</td>\n",
       "      <td>NaN</td>\n",
       "      <td>17097.0</td>\n",
       "      <td>1691 Washington Road</td>\n",
       "      <td>NaN</td>\n",
       "      <td>NaN</td>\n",
       "      <td>NaN</td>\n",
       "      <td>Mt Lebanon</td>\n",
       "      <td>...</td>\n",
       "      <td>FIX</td>\n",
       "      <td>NaN</td>\n",
       "      <td>NaN</td>\n",
       "      <td>WPRDC Data: Primary Care Access 2014 Data</td>\n",
       "      <td>https://data.wprdc.org/dataset/allegheny-count...</td>\n",
       "      <td>NaN</td>\n",
       "      <td>NaN</td>\n",
       "      <td>NaN</td>\n",
       "      <td>NaN</td>\n",
       "      <td>NaN</td>\n",
       "    </tr>\n",
       "    <tr>\n",
       "      <th>4</th>\n",
       "      <td>2753</td>\n",
       "      <td>Medi Help</td>\n",
       "      <td>doctors_offices</td>\n",
       "      <td>NaN</td>\n",
       "      <td>17397.0</td>\n",
       "      <td>519 Brookline Boulevard</td>\n",
       "      <td>NaN</td>\n",
       "      <td>NaN</td>\n",
       "      <td>NaN</td>\n",
       "      <td>Pittsburgh</td>\n",
       "      <td>...</td>\n",
       "      <td>FIX</td>\n",
       "      <td>NaN</td>\n",
       "      <td>NaN</td>\n",
       "      <td>WPRDC Data: Primary Care Access 2014 Data</td>\n",
       "      <td>https://data.wprdc.org/dataset/allegheny-count...</td>\n",
       "      <td>NaN</td>\n",
       "      <td>NaN</td>\n",
       "      <td>NaN</td>\n",
       "      <td>NaN</td>\n",
       "      <td>NaN</td>\n",
       "    </tr>\n",
       "    <tr>\n",
       "      <th>5</th>\n",
       "      <td>2754</td>\n",
       "      <td>MedExpress Urgent Care PC Pennsylvania</td>\n",
       "      <td>doctors_offices</td>\n",
       "      <td>NaN</td>\n",
       "      <td>17208.0</td>\n",
       "      <td>2600 Old Washington Road, Suite 150</td>\n",
       "      <td>NaN</td>\n",
       "      <td>NaN</td>\n",
       "      <td>NaN</td>\n",
       "      <td>Upper Saint Clair</td>\n",
       "      <td>...</td>\n",
       "      <td>FIX</td>\n",
       "      <td>NaN</td>\n",
       "      <td>NaN</td>\n",
       "      <td>WPRDC Data: Primary Care Access 2014 Data</td>\n",
       "      <td>https://data.wprdc.org/dataset/allegheny-count...</td>\n",
       "      <td>NaN</td>\n",
       "      <td>NaN</td>\n",
       "      <td>NaN</td>\n",
       "      <td>NaN</td>\n",
       "      <td>NaN</td>\n",
       "    </tr>\n",
       "    <tr>\n",
       "      <th>6</th>\n",
       "      <td>2755</td>\n",
       "      <td>MedExpress Urgent Care PC Pennsylvania</td>\n",
       "      <td>doctors_offices</td>\n",
       "      <td>NaN</td>\n",
       "      <td>17474.0</td>\n",
       "      <td>695 Clairton Boulevard</td>\n",
       "      <td>NaN</td>\n",
       "      <td>NaN</td>\n",
       "      <td>NaN</td>\n",
       "      <td>Pleasant Hills</td>\n",
       "      <td>...</td>\n",
       "      <td>FIX</td>\n",
       "      <td>NaN</td>\n",
       "      <td>NaN</td>\n",
       "      <td>WPRDC Data: Primary Care Access 2014 Data</td>\n",
       "      <td>https://data.wprdc.org/dataset/allegheny-count...</td>\n",
       "      <td>NaN</td>\n",
       "      <td>NaN</td>\n",
       "      <td>NaN</td>\n",
       "      <td>NaN</td>\n",
       "      <td>NaN</td>\n",
       "    </tr>\n",
       "    <tr>\n",
       "      <th>7</th>\n",
       "      <td>2756</td>\n",
       "      <td>MedExpress Urgent Care PC Pennsylvania</td>\n",
       "      <td>doctors_offices</td>\n",
       "      <td>NaN</td>\n",
       "      <td>17075.0</td>\n",
       "      <td>1535 Washington Road</td>\n",
       "      <td>NaN</td>\n",
       "      <td>NaN</td>\n",
       "      <td>NaN</td>\n",
       "      <td>Pittsburgh</td>\n",
       "      <td>...</td>\n",
       "      <td>FIX</td>\n",
       "      <td>NaN</td>\n",
       "      <td>NaN</td>\n",
       "      <td>WPRDC Data: Primary Care Access 2014 Data</td>\n",
       "      <td>https://data.wprdc.org/dataset/allegheny-count...</td>\n",
       "      <td>NaN</td>\n",
       "      <td>NaN</td>\n",
       "      <td>NaN</td>\n",
       "      <td>NaN</td>\n",
       "      <td>NaN</td>\n",
       "    </tr>\n",
       "    <tr>\n",
       "      <th>8</th>\n",
       "      <td>21142</td>\n",
       "      <td>PITTSBURGH TECHNICAL INSTITUTE - PTI</td>\n",
       "      <td>universities</td>\n",
       "      <td>NaN</td>\n",
       "      <td>89102.0</td>\n",
       "      <td>NaN</td>\n",
       "      <td>NaN</td>\n",
       "      <td>NaN</td>\n",
       "      <td>NaN</td>\n",
       "      <td>NaN</td>\n",
       "      <td>...</td>\n",
       "      <td>FIX</td>\n",
       "      <td>NaN</td>\n",
       "      <td>NaN</td>\n",
       "      <td>Southwestern Pennsylvania Commission: Universi...</td>\n",
       "      <td>https://spcgis-spc.hub.arcgis.com/datasets/uni...</td>\n",
       "      <td>NaN</td>\n",
       "      <td>NaN</td>\n",
       "      <td>NaN</td>\n",
       "      <td>PTI</td>\n",
       "      <td>NaN</td>\n",
       "    </tr>\n",
       "    <tr>\n",
       "      <th>9</th>\n",
       "      <td>2757</td>\n",
       "      <td>MedExpress Urgent Care PC Pennsylvania</td>\n",
       "      <td>doctors_offices</td>\n",
       "      <td>NaN</td>\n",
       "      <td>17285.0</td>\n",
       "      <td>3516 Saw Mill Run Boulevard</td>\n",
       "      <td>NaN</td>\n",
       "      <td>NaN</td>\n",
       "      <td>NaN</td>\n",
       "      <td>Pittsburgh</td>\n",
       "      <td>...</td>\n",
       "      <td>FIX</td>\n",
       "      <td>NaN</td>\n",
       "      <td>NaN</td>\n",
       "      <td>WPRDC Data: Primary Care Access 2014 Data</td>\n",
       "      <td>https://data.wprdc.org/dataset/allegheny-count...</td>\n",
       "      <td>NaN</td>\n",
       "      <td>NaN</td>\n",
       "      <td>NaN</td>\n",
       "      <td>NaN</td>\n",
       "      <td>NaN</td>\n",
       "    </tr>\n",
       "  </tbody>\n",
       "</table>\n",
       "<p>10 rows × 45 columns</p>\n",
       "</div>"
      ],
      "text/plain": [
       "     _id                                    name            asset_type tags  \\\n",
       "0   2750                   Medical Center Clinic       doctors_offices  NaN   \n",
       "1   2936      Pie Traynor Field Concession Stand  parks_and_facilities  NaN   \n",
       "2   2751                   Medical Center Clinic       doctors_offices  NaN   \n",
       "3   2752                               Medi Help       doctors_offices  NaN   \n",
       "4   2753                               Medi Help       doctors_offices  NaN   \n",
       "5   2754  MedExpress Urgent Care PC Pennsylvania       doctors_offices  NaN   \n",
       "6   2755  MedExpress Urgent Care PC Pennsylvania       doctors_offices  NaN   \n",
       "7   2756  MedExpress Urgent Care PC Pennsylvania       doctors_offices  NaN   \n",
       "8  21142    PITTSBURGH TECHNICAL INSTITUTE - PTI          universities  NaN   \n",
       "9   2757  MedExpress Urgent Care PC Pennsylvania       doctors_offices  NaN   \n",
       "\n",
       "   location_id                       street_address  unit  unit_type  \\\n",
       "0      17333.0    4185 Friendship Avenue, Suite 340   NaN        NaN   \n",
       "1      88619.0                                  NaN   NaN        NaN   \n",
       "2      17534.0          9930 Grubbs Road, Suite 200   NaN        NaN   \n",
       "3      17097.0                 1691 Washington Road   NaN        NaN   \n",
       "4      17397.0              519 Brookline Boulevard   NaN        NaN   \n",
       "5      17208.0  2600 Old Washington Road, Suite 150   NaN        NaN   \n",
       "6      17474.0               695 Clairton Boulevard   NaN        NaN   \n",
       "7      17075.0                 1535 Washington Road   NaN        NaN   \n",
       "8      89102.0                                  NaN   NaN        NaN   \n",
       "9      17285.0          3516 Saw Mill Run Boulevard   NaN        NaN   \n",
       "\n",
       "  municipality               city  ... localizability services  \\\n",
       "0          NaN         Pittsburgh  ...            FIX      NaN   \n",
       "1          NaN                NaN  ...            FIX      NaN   \n",
       "2          NaN            Wexford  ...            FIX      NaN   \n",
       "3          NaN         Mt Lebanon  ...            FIX      NaN   \n",
       "4          NaN         Pittsburgh  ...            FIX      NaN   \n",
       "5          NaN  Upper Saint Clair  ...            FIX      NaN   \n",
       "6          NaN     Pleasant Hills  ...            FIX      NaN   \n",
       "7          NaN         Pittsburgh  ...            FIX      NaN   \n",
       "8          NaN                NaN  ...            FIX      NaN   \n",
       "9          NaN         Pittsburgh  ...            FIX      NaN   \n",
       "\n",
       "   hard_to_count_population  \\\n",
       "0                       NaN   \n",
       "1                       NaN   \n",
       "2                       NaN   \n",
       "3                       NaN   \n",
       "4                       NaN   \n",
       "5                       NaN   \n",
       "6                       NaN   \n",
       "7                       NaN   \n",
       "8                       NaN   \n",
       "9                       NaN   \n",
       "\n",
       "                                   data_source_names  \\\n",
       "0          WPRDC Data: Primary Care Access 2014 Data   \n",
       "1    WPRDC Dataset: Allegheny County Park Facilities   \n",
       "2          WPRDC Data: Primary Care Access 2014 Data   \n",
       "3          WPRDC Data: Primary Care Access 2014 Data   \n",
       "4          WPRDC Data: Primary Care Access 2014 Data   \n",
       "5          WPRDC Data: Primary Care Access 2014 Data   \n",
       "6          WPRDC Data: Primary Care Access 2014 Data   \n",
       "7          WPRDC Data: Primary Care Access 2014 Data   \n",
       "8  Southwestern Pennsylvania Commission: Universi...   \n",
       "9          WPRDC Data: Primary Care Access 2014 Data   \n",
       "\n",
       "                                    data_source_urls  \\\n",
       "0  https://data.wprdc.org/dataset/allegheny-count...   \n",
       "1  https://data.wprdc.org/dataset/allegheny-count...   \n",
       "2  https://data.wprdc.org/dataset/allegheny-count...   \n",
       "3  https://data.wprdc.org/dataset/allegheny-count...   \n",
       "4  https://data.wprdc.org/dataset/allegheny-count...   \n",
       "5  https://data.wprdc.org/dataset/allegheny-count...   \n",
       "6  https://data.wprdc.org/dataset/allegheny-count...   \n",
       "7  https://data.wprdc.org/dataset/allegheny-count...   \n",
       "8  https://spcgis-spc.hub.arcgis.com/datasets/uni...   \n",
       "9  https://data.wprdc.org/dataset/allegheny-count...   \n",
       "\n",
       "                   organization_name  organization_phone organization_email  \\\n",
       "0                                NaN                 NaN                NaN   \n",
       "1  Allegheny County Parks Department                 NaN                NaN   \n",
       "2                                NaN                 NaN                NaN   \n",
       "3                                NaN                 NaN                NaN   \n",
       "4                                NaN                 NaN                NaN   \n",
       "5                                NaN                 NaN                NaN   \n",
       "6                                NaN                 NaN                NaN   \n",
       "7                                NaN                 NaN                NaN   \n",
       "8                                NaN                 NaN                NaN   \n",
       "9                                NaN                 NaN                NaN   \n",
       "\n",
       "   etl_notes  geocoding_properties  \n",
       "0        NaN                   NaN  \n",
       "1        NaN                   NaN  \n",
       "2        NaN                   NaN  \n",
       "3        NaN                   NaN  \n",
       "4        NaN                   NaN  \n",
       "5        NaN                   NaN  \n",
       "6        NaN                   NaN  \n",
       "7        NaN                   NaN  \n",
       "8        PTI                   NaN  \n",
       "9        NaN                   NaN  \n",
       "\n",
       "[10 rows x 45 columns]"
      ]
     },
     "execution_count": 4,
     "metadata": {},
     "output_type": "execute_result"
    }
   ],
   "source": [
    "gis_df = pd.read_csv(f_path)\n",
    "print(gis_df.shape)\n",
    "gis_df.head(10)"
   ]
  },
  {
   "cell_type": "markdown",
   "metadata": {},
   "source": [
    "As can be seen in the summary, some coordinates are very far outside of Allegheny county and need to be filtered."
   ]
  },
  {
   "cell_type": "code",
   "execution_count": 5,
   "metadata": {},
   "outputs": [
    {
     "data": {
      "text/html": [
       "<div>\n",
       "<style scoped>\n",
       "    .dataframe tbody tr th:only-of-type {\n",
       "        vertical-align: middle;\n",
       "    }\n",
       "\n",
       "    .dataframe tbody tr th {\n",
       "        vertical-align: top;\n",
       "    }\n",
       "\n",
       "    .dataframe thead th {\n",
       "        text-align: right;\n",
       "    }\n",
       "</style>\n",
       "<table border=\"1\" class=\"dataframe\">\n",
       "  <thead>\n",
       "    <tr style=\"text-align: right;\">\n",
       "      <th></th>\n",
       "      <th>latitude</th>\n",
       "      <th>longitude</th>\n",
       "    </tr>\n",
       "  </thead>\n",
       "  <tbody>\n",
       "    <tr>\n",
       "      <th>mean</th>\n",
       "      <td>40.465923</td>\n",
       "      <td>-80.008248</td>\n",
       "    </tr>\n",
       "    <tr>\n",
       "      <th>std</th>\n",
       "      <td>0.291719</td>\n",
       "      <td>2.296488</td>\n",
       "    </tr>\n",
       "    <tr>\n",
       "      <th>min</th>\n",
       "      <td>38.911183</td>\n",
       "      <td>-121.748900</td>\n",
       "    </tr>\n",
       "    <tr>\n",
       "      <th>25%</th>\n",
       "      <td>40.404716</td>\n",
       "      <td>-80.027068</td>\n",
       "    </tr>\n",
       "    <tr>\n",
       "      <th>50%</th>\n",
       "      <td>40.446569</td>\n",
       "      <td>-79.976947</td>\n",
       "    </tr>\n",
       "    <tr>\n",
       "      <th>75%</th>\n",
       "      <td>40.478684</td>\n",
       "      <td>-79.891956</td>\n",
       "    </tr>\n",
       "    <tr>\n",
       "      <th>max</th>\n",
       "      <td>45.383687</td>\n",
       "      <td>-73.318068</td>\n",
       "    </tr>\n",
       "  </tbody>\n",
       "</table>\n",
       "</div>"
      ],
      "text/plain": [
       "       latitude   longitude\n",
       "mean  40.465923  -80.008248\n",
       "std    0.291719    2.296488\n",
       "min   38.911183 -121.748900\n",
       "25%   40.404716  -80.027068\n",
       "50%   40.446569  -79.976947\n",
       "75%   40.478684  -79.891956\n",
       "max   45.383687  -73.318068"
      ]
     },
     "execution_count": 5,
     "metadata": {},
     "output_type": "execute_result"
    }
   ],
   "source": [
    "gis_df.loc[:,\"latitude\":\"longitude\"].describe().loc[\"mean\":,:]"
   ]
  },
  {
   "cell_type": "code",
   "execution_count": 6,
   "metadata": {},
   "outputs": [
    {
     "name": "stdout",
     "output_type": "stream",
     "text": [
      "Removed 98121 rows\n"
     ]
    }
   ],
   "source": [
    "# filter valid latitude and longitude\n",
    "rows_before = gis_df.shape[0]\n",
    "gis_df = gis_df[(gis_df[\"latitude\"] > COORD_RANGE_LAT[0]) & (gis_df[\"latitude\"] < COORD_RANGE_LAT[1])]\n",
    "gis_df = gis_df[(gis_df[\"longitude\"] > COORD_RANGE_LONG[0]) & (gis_df[\"longitude\"] < COORD_RANGE_LONG[1])]\n",
    "print(f\"Removed {rows_before - gis_df.shape[0]} rows\")"
   ]
  },
  {
   "cell_type": "code",
   "execution_count": 7,
   "metadata": {},
   "outputs": [
    {
     "data": {
      "text/html": [
       "<div>\n",
       "<style scoped>\n",
       "    .dataframe tbody tr th:only-of-type {\n",
       "        vertical-align: middle;\n",
       "    }\n",
       "\n",
       "    .dataframe tbody tr th {\n",
       "        vertical-align: top;\n",
       "    }\n",
       "\n",
       "    .dataframe thead th {\n",
       "        text-align: right;\n",
       "    }\n",
       "</style>\n",
       "<table border=\"1\" class=\"dataframe\">\n",
       "  <thead>\n",
       "    <tr style=\"text-align: right;\">\n",
       "      <th></th>\n",
       "      <th>latitude</th>\n",
       "      <th>longitude</th>\n",
       "    </tr>\n",
       "  </thead>\n",
       "  <tbody>\n",
       "    <tr>\n",
       "      <th>mean</th>\n",
       "      <td>40.448372</td>\n",
       "      <td>-79.967611</td>\n",
       "    </tr>\n",
       "    <tr>\n",
       "      <th>std</th>\n",
       "      <td>0.076367</td>\n",
       "      <td>0.106941</td>\n",
       "    </tr>\n",
       "    <tr>\n",
       "      <th>min</th>\n",
       "      <td>40.010286</td>\n",
       "      <td>-80.475548</td>\n",
       "    </tr>\n",
       "    <tr>\n",
       "      <th>25%</th>\n",
       "      <td>40.406282</td>\n",
       "      <td>-80.027421</td>\n",
       "    </tr>\n",
       "    <tr>\n",
       "      <th>50%</th>\n",
       "      <td>40.446586</td>\n",
       "      <td>-79.979793</td>\n",
       "    </tr>\n",
       "    <tr>\n",
       "      <th>75%</th>\n",
       "      <td>40.476466</td>\n",
       "      <td>-79.897748</td>\n",
       "    </tr>\n",
       "    <tr>\n",
       "      <th>max</th>\n",
       "      <td>40.866796</td>\n",
       "      <td>-79.505088</td>\n",
       "    </tr>\n",
       "  </tbody>\n",
       "</table>\n",
       "</div>"
      ],
      "text/plain": [
       "       latitude  longitude\n",
       "mean  40.448372 -79.967611\n",
       "std    0.076367   0.106941\n",
       "min   40.010286 -80.475548\n",
       "25%   40.406282 -80.027421\n",
       "50%   40.446586 -79.979793\n",
       "75%   40.476466 -79.897748\n",
       "max   40.866796 -79.505088"
      ]
     },
     "execution_count": 7,
     "metadata": {},
     "output_type": "execute_result"
    }
   ],
   "source": [
    "gis_df.loc[:,\"latitude\":\"longitude\"].describe().loc[\"mean\":,:]"
   ]
  },
  {
   "cell_type": "markdown",
   "metadata": {},
   "source": [
    "Since the densely populated areas appear as a solid blue color, a heatmap would be more helpful. It seems as though a very large portion of datapoints are all in one bin, making all other bins seem dark."
   ]
  },
  {
   "cell_type": "code",
   "execution_count": 8,
   "metadata": {},
   "outputs": [
    {
     "data": {
      "image/png": "[encoded data removed]",
      "text/plain": [
       "<Figure size 432x288 with 1 Axes>"
      ]
     },
     "metadata": {
      "needs_background": "light"
     },
     "output_type": "display_data"
    }
   ],
   "source": [
    "heatmap, xedges, yedges = np.histogram2d(list(gis_df[\"longitude\"]), list(gis_df[\"latitude\"]), bins=40)\n",
    "extent = [xedges[0], xedges[-1], yedges[0], yedges[-1]]\n",
    "\n",
    "plt.clf()\n",
    "plt.imshow(heatmap.T, extent=extent, origin='lower')\n",
    "plt.show()"
   ]
  },
  {
   "cell_type": "markdown",
   "metadata": {},
   "source": [
    "Most of the columns are basically empty."
   ]
  },
  {
   "cell_type": "code",
   "execution_count": 9,
   "metadata": {
    "scrolled": true
   },
   "outputs": [
    {
     "name": "stdout",
     "output_type": "stream",
     "text": [
      "Total number of columns: 2580857\n"
     ]
    },
    {
     "data": {
      "text/plain": [
       "internet_access               2580857\n",
       "iffy_geocoding                2580857\n",
       "unit                          2580857\n",
       "hard_to_count_population      2580857\n",
       "services                      2580857\n",
       "unit_type                     2580857\n",
       "holiday_hours_of_operation    2580857\n",
       "parent_location_id            2580857\n",
       "parent_location               2580857\n",
       "open_to_public                2580857\n",
       "wifi_network                  2580857\n",
       "municipality                  2580776\n",
       "available_transportation      2580774\n",
       "organization_phone            2580209\n",
       "do_not_display                2577455\n",
       "hours_of_operation            2566597\n",
       "periodicity                   2560538\n",
       "computers_available           2551626\n",
       "accessibility                 2543906\n",
       "organization_email            2535659\n",
       "residence                     2525519\n",
       "child_friendly                2513070\n",
       "email                         2507938\n",
       "url                           2503505\n",
       "tags                          2427394\n",
       "organization_name             2402250\n",
       "parcel_id                     2385577\n",
       "phone                         2382073\n",
       "sensitive                     2379680\n",
       "capacity                      2237221\n",
       "geocoding_properties          2027626\n",
       "etl_notes                     1330269\n",
       "zip_code                       668135\n",
       "state                          643203\n",
       "city                           619824\n",
       "street_address                 614828\n",
       "data_source_names                3321\n",
       "data_source_urls                 3321\n",
       "longitude                           0\n",
       "latitude                            0\n",
       "localizability                      0\n",
       "location_id                         0\n",
       "asset_type                          0\n",
       "name                                0\n",
       "_id                                 0\n",
       "dtype: int64"
      ]
     },
     "execution_count": 9,
     "metadata": {},
     "output_type": "execute_result"
    }
   ],
   "source": [
    "print(f\"Total number of columns: {gis_df.shape[0]}\")\n",
    "gis_df.isna().sum().sort_values(ascending=False)"
   ]
  },
  {
   "cell_type": "markdown",
   "metadata": {},
   "source": [
    "Luckily, we only need asset_type and coordinates anyway."
   ]
  },
  {
   "cell_type": "code",
   "execution_count": 10,
   "metadata": {},
   "outputs": [],
   "source": [
    "gis_df = gis_df[[\"_id\", \"name\", \"asset_type\", \"latitude\", \"longitude\"]]"
   ]
  },
  {
   "cell_type": "markdown",
   "metadata": {},
   "source": [
    "Remove rows without coordinates, since they have no use for us."
   ]
  },
  {
   "cell_type": "code",
   "execution_count": 11,
   "metadata": {},
   "outputs": [
    {
     "data": {
      "text/plain": [
       "(2580857, 5)"
      ]
     },
     "execution_count": 11,
     "metadata": {},
     "output_type": "execute_result"
    }
   ],
   "source": [
    "gis_df = gis_df.dropna()\n",
    "gis_df.shape"
   ]
  },
  {
   "cell_type": "markdown",
   "metadata": {},
   "source": [
    "The data set owner indicated that there might be duplicate entries in the data. To remove duplicates, we remove rows with duplicate coordinates."
   ]
  },
  {
   "cell_type": "code",
   "execution_count": 12,
   "metadata": {},
   "outputs": [
    {
     "name": "stdout",
     "output_type": "stream",
     "text": [
      "Shape before: 2580857\n",
      "Shape after: 24740\n",
      "Removed 2556117 rows\n"
     ]
    }
   ],
   "source": [
    "rows_before = gis_df.shape[0]\n",
    "print(f\"Shape before: {rows_before}\")\n",
    "gis_df = gis_df.drop_duplicates(subset=[\"latitude\", \"longitude\"])\n",
    "print(f\"Shape after: {gis_df.shape[0]}\")\n",
    "print(f\"Removed {rows_before - gis_df.shape[0]} rows\")"
   ]
  },
  {
   "cell_type": "markdown",
   "metadata": {},
   "source": [
    "There are still duplicates in the data, where the latitude and longitude are just slightly different. We remove those by filtering for only POI which have no other POI of the same category in an 8m radius."
   ]
  },
  {
   "cell_type": "code",
   "execution_count": 13,
   "metadata": {},
   "outputs": [
    {
     "data": {
      "application/vnd.jupyter.widget-view+json": {
       "model_id": "e503b6fa63de48e59c2b796ac402948f",
       "version_major": 2,
       "version_minor": 0
      },
      "text/plain": [
       "HBox(children=(HTML(value=''), FloatProgress(value=0.0, max=44.0), HTML(value='')))"
      ]
     },
     "metadata": {},
     "output_type": "display_data"
    },
    {
     "name": "stdout",
     "output_type": "stream",
     "text": [
      "\n",
      "788 Rows have been removed.\n"
     ]
    }
   ],
   "source": [
    "rows_before = gis_df.shape[0]\n",
    "gis_df_filtered = multiprocessor_gis.remove_duplicates(gis_df, CPU_CORES)\n",
    "print(f\"{rows_before - gis_df_filtered.shape[0]} Rows have been removed.\")"
   ]
  },
  {
   "cell_type": "markdown",
   "metadata": {},
   "source": [
    "Let's see what types the assets of our remaining observations have."
   ]
  },
  {
   "cell_type": "code",
   "execution_count": 14,
   "metadata": {
    "scrolled": true
   },
   "outputs": [
    {
     "data": {
      "text/plain": [
       "bus_stops                   6732\n",
       "community_nonprofit_orgs    4817\n",
       "restaurants                 3076\n",
       "faith-based_facilities       953\n",
       "apartment_buildings          908\n",
       "hair_salons                  815\n",
       "schools                      775\n",
       "polling_places               664\n",
       "parks_and_facilities         569\n",
       "child_care_centers           537\n",
       "doctors_offices              530\n",
       "gas_stations                 411\n",
       "banks                        351\n",
       "affordable_housing           261\n",
       "pharmacies                   255\n",
       "dentists                     224\n",
       "nail_salons                  216\n",
       "public_buildings             190\n",
       "barbers                      189\n",
       "bars                         184\n",
       "hotels                       184\n",
       "coffee_shops                 114\n",
       "bike_share_stations          112\n",
       "nursing_homes                106\n",
       "wic_vendors                   91\n",
       "farmers_markets               84\n",
       "food_banks                    69\n",
       "laundromats                   65\n",
       "supermarkets                  62\n",
       "health_centers                60\n",
       "libraries                     53\n",
       "park_and_rides                52\n",
       "universities                  40\n",
       "senior_centers                38\n",
       "post_offices                  37\n",
       "museums                       31\n",
       "family_support_centers        23\n",
       "rec_centers                   21\n",
       "veterans_social_orgs          16\n",
       "achd_clinics                  14\n",
       "acha_community_sites          11\n",
       "va_facilities                  5\n",
       "wic_offices                    4\n",
       "homeless_shelters              3\n",
       "Name: asset_type, dtype: int64"
      ]
     },
     "execution_count": 14,
     "metadata": {},
     "output_type": "execute_result"
    }
   ],
   "source": [
    "gis_df_filtered[\"asset_type\"].value_counts()"
   ]
  },
  {
   "cell_type": "markdown",
   "metadata": {},
   "source": [
    "Since the values of the `asset_type` column will turn into distinct columns later, we now remove columns which would lead to \"uninteresting\" categories later. We set a threshold of at least 30 observations for this category to be relevant. If we would not set this threshold, an unnecessary amount of features would be created."
   ]
  },
  {
   "cell_type": "code",
   "execution_count": 15,
   "metadata": {},
   "outputs": [
    {
     "name": "stdout",
     "output_type": "stream",
     "text": [
      "Removed 97 rows\n"
     ]
    }
   ],
   "source": [
    "to_remove = [\"homeless_shelters\", \"wic_offices\", \"va_facilities\", \"acha_community_sites\", \"achd_clinics\",\n",
    "             \"veterans_social_orgs\", \"rec_centers\", \"family_support_centers\"]\n",
    "gis_categories = gis_df_filtered[~gis_df_filtered[\"asset_type\"].isin(to_remove)]\n",
    "print(f\"Removed {gis_df_filtered.shape[0]-gis_categories.shape[0]} rows\")"
   ]
  },
  {
   "cell_type": "markdown",
   "metadata": {},
   "source": [
    "Show distribution again after preprocessing."
   ]
  },
  {
   "cell_type": "code",
   "execution_count": 16,
   "metadata": {},
   "outputs": [
    {
     "data": {
      "image/png": "[encoded data removed]",
      "text/plain": [
       "<Figure size 432x288 with 1 Axes>"
      ]
     },
     "metadata": {
      "needs_background": "light"
     },
     "output_type": "display_data"
    }
   ],
   "source": [
    "heatmap, xedges, yedges = np.histogram2d(list(gis_df[\"longitude\"]), list(gis_df[\"latitude\"]), bins=100)\n",
    "extent = [xedges[0], xedges[-1], yedges[0], yedges[-1]]\n",
    "\n",
    "plt.clf()\n",
    "plt.imshow(heatmap.T, extent=extent, origin='lower')\n",
    "plt.show()"
   ]
  },
  {
   "cell_type": "markdown",
   "metadata": {},
   "source": [
    "Save GIS df with selected asset types, columns and no duplicates."
   ]
  },
  {
   "cell_type": "code",
   "execution_count": 17,
   "metadata": {},
   "outputs": [],
   "source": [
    "gis_categories.to_csv(PATH+\"gis_preprocessed.csv\", index=False)"
   ]
  },
  {
   "cell_type": "markdown",
   "metadata": {},
   "source": [
    "## Make feature sets for machine learning"
   ]
  },
  {
   "cell_type": "markdown",
   "metadata": {},
   "source": [
    "Read structured data."
   ]
  },
  {
   "cell_type": "code",
   "execution_count": 18,
   "metadata": {},
   "outputs": [],
   "source": [
    "structured_df = pd.read_csv(PATH+\"structured_preprocessed.csv\")"
   ]
  },
  {
   "cell_type": "markdown",
   "metadata": {},
   "source": [
    "Create distance features by calculating distance to nearest POI from every house and counting how many POI there are in a ``COUNT_RADIUS`` radius. See chaper 3.3.2 of thesis for more details."
   ]
  },
  {
   "cell_type": "code",
   "execution_count": 19,
   "metadata": {},
   "outputs": [
    {
     "data": {
      "application/vnd.jupyter.widget-view+json": {
       "model_id": "c65585547c3343b5b40f1df06191d4de",
       "version_major": 2,
       "version_minor": 0
      },
      "text/plain": [
       "HBox(children=(HTML(value=''), FloatProgress(value=0.0), HTML(value='')))"
      ]
     },
     "metadata": {},
     "output_type": "display_data"
    },
    {
     "name": "stdout",
     "output_type": "stream",
     "text": [
      "\n"
     ]
    },
    {
     "data": {
      "text/html": [
       "<div>\n",
       "<style scoped>\n",
       "    .dataframe tbody tr th:only-of-type {\n",
       "        vertical-align: middle;\n",
       "    }\n",
       "\n",
       "    .dataframe tbody tr th {\n",
       "        vertical-align: top;\n",
       "    }\n",
       "\n",
       "    .dataframe thead th {\n",
       "        text-align: right;\n",
       "    }\n",
       "</style>\n",
       "<table border=\"1\" class=\"dataframe\">\n",
       "  <thead>\n",
       "    <tr style=\"text-align: right;\">\n",
       "      <th></th>\n",
       "      <th>_id</th>\n",
       "      <th>PROPERTYZIP</th>\n",
       "      <th>MUNICODE</th>\n",
       "      <th>SCHOOLCODE</th>\n",
       "      <th>NEIGHCODE</th>\n",
       "      <th>LOTAREA</th>\n",
       "      <th>SALEDATE</th>\n",
       "      <th>SALEPRICE</th>\n",
       "      <th>FAIRMARKETTOTAL</th>\n",
       "      <th>STORIES</th>\n",
       "      <th>...</th>\n",
       "      <th>apartment_buildings_dist</th>\n",
       "      <th>apartment_buildings_count</th>\n",
       "      <th>faith-based_facilities_dist</th>\n",
       "      <th>faith-based_facilities_count</th>\n",
       "      <th>restaurants_dist</th>\n",
       "      <th>restaurants_count</th>\n",
       "      <th>community_nonprofit_orgs_dist</th>\n",
       "      <th>community_nonprofit_orgs_count</th>\n",
       "      <th>bus_stops_dist</th>\n",
       "      <th>bus_stops_count</th>\n",
       "    </tr>\n",
       "  </thead>\n",
       "  <tbody>\n",
       "    <tr>\n",
       "      <th>0</th>\n",
       "      <td>427021</td>\n",
       "      <td>15037</td>\n",
       "      <td>908</td>\n",
       "      <td>16</td>\n",
       "      <td>90803</td>\n",
       "      <td>10276</td>\n",
       "      <td>04-21-2017</td>\n",
       "      <td>179900</td>\n",
       "      <td>157200</td>\n",
       "      <td>2</td>\n",
       "      <td>...</td>\n",
       "      <td>1295.71</td>\n",
       "      <td>2</td>\n",
       "      <td>430.854</td>\n",
       "      <td>3</td>\n",
       "      <td>766.162</td>\n",
       "      <td>11</td>\n",
       "      <td>430.131</td>\n",
       "      <td>34</td>\n",
       "      <td>4100.22</td>\n",
       "      <td>0</td>\n",
       "    </tr>\n",
       "    <tr>\n",
       "      <th>1</th>\n",
       "      <td>428296</td>\n",
       "      <td>15106</td>\n",
       "      <td>850</td>\n",
       "      <td>7</td>\n",
       "      <td>85002</td>\n",
       "      <td>9375</td>\n",
       "      <td>12-27-2019</td>\n",
       "      <td>185000</td>\n",
       "      <td>180400</td>\n",
       "      <td>1.5</td>\n",
       "      <td>...</td>\n",
       "      <td>1855.1</td>\n",
       "      <td>29</td>\n",
       "      <td>1418.88</td>\n",
       "      <td>23</td>\n",
       "      <td>556.516</td>\n",
       "      <td>79</td>\n",
       "      <td>132.953</td>\n",
       "      <td>140</td>\n",
       "      <td>952.974</td>\n",
       "      <td>193</td>\n",
       "    </tr>\n",
       "    <tr>\n",
       "      <th>2</th>\n",
       "      <td>428307</td>\n",
       "      <td>15237</td>\n",
       "      <td>927</td>\n",
       "      <td>27</td>\n",
       "      <td>92705</td>\n",
       "      <td>14827</td>\n",
       "      <td>01-17-2017</td>\n",
       "      <td>226400</td>\n",
       "      <td>167900</td>\n",
       "      <td>1</td>\n",
       "      <td>...</td>\n",
       "      <td>720.787</td>\n",
       "      <td>21</td>\n",
       "      <td>921.939</td>\n",
       "      <td>16</td>\n",
       "      <td>625.04</td>\n",
       "      <td>73</td>\n",
       "      <td>322.297</td>\n",
       "      <td>105</td>\n",
       "      <td>982.294</td>\n",
       "      <td>122</td>\n",
       "    </tr>\n",
       "    <tr>\n",
       "      <th>3</th>\n",
       "      <td>230894</td>\n",
       "      <td>15236</td>\n",
       "      <td>877</td>\n",
       "      <td>4</td>\n",
       "      <td>87702</td>\n",
       "      <td>8206</td>\n",
       "      <td>08-17-2018</td>\n",
       "      <td>140500</td>\n",
       "      <td>122800</td>\n",
       "      <td>1</td>\n",
       "      <td>...</td>\n",
       "      <td>755.69</td>\n",
       "      <td>30</td>\n",
       "      <td>924.038</td>\n",
       "      <td>27</td>\n",
       "      <td>761.305</td>\n",
       "      <td>99</td>\n",
       "      <td>23.9716</td>\n",
       "      <td>145</td>\n",
       "      <td>151.019</td>\n",
       "      <td>174</td>\n",
       "    </tr>\n",
       "    <tr>\n",
       "      <th>4</th>\n",
       "      <td>231082</td>\n",
       "      <td>15241</td>\n",
       "      <td>950</td>\n",
       "      <td>42</td>\n",
       "      <td>95002</td>\n",
       "      <td>13050</td>\n",
       "      <td>07-17-2020</td>\n",
       "      <td>365000</td>\n",
       "      <td>255300</td>\n",
       "      <td>2</td>\n",
       "      <td>...</td>\n",
       "      <td>1274.9</td>\n",
       "      <td>6</td>\n",
       "      <td>1823.86</td>\n",
       "      <td>20</td>\n",
       "      <td>890.492</td>\n",
       "      <td>54</td>\n",
       "      <td>31.0191</td>\n",
       "      <td>118</td>\n",
       "      <td>1132.09</td>\n",
       "      <td>90</td>\n",
       "    </tr>\n",
       "    <tr>\n",
       "      <th>5</th>\n",
       "      <td>429294</td>\n",
       "      <td>15220</td>\n",
       "      <td>120</td>\n",
       "      <td>47</td>\n",
       "      <td>12001</td>\n",
       "      <td>10553</td>\n",
       "      <td>04-04-2017</td>\n",
       "      <td>203500</td>\n",
       "      <td>152900</td>\n",
       "      <td>1</td>\n",
       "      <td>...</td>\n",
       "      <td>836.578</td>\n",
       "      <td>62</td>\n",
       "      <td>736.642</td>\n",
       "      <td>47</td>\n",
       "      <td>349.592</td>\n",
       "      <td>173</td>\n",
       "      <td>345.953</td>\n",
       "      <td>293</td>\n",
       "      <td>335.096</td>\n",
       "      <td>336</td>\n",
       "    </tr>\n",
       "    <tr>\n",
       "      <th>6</th>\n",
       "      <td>429419</td>\n",
       "      <td>15237</td>\n",
       "      <td>940</td>\n",
       "      <td>28</td>\n",
       "      <td>94002</td>\n",
       "      <td>11266</td>\n",
       "      <td>08-12-2019</td>\n",
       "      <td>226000</td>\n",
       "      <td>133700</td>\n",
       "      <td>1</td>\n",
       "      <td>...</td>\n",
       "      <td>286.151</td>\n",
       "      <td>23</td>\n",
       "      <td>236.639</td>\n",
       "      <td>21</td>\n",
       "      <td>335.391</td>\n",
       "      <td>109</td>\n",
       "      <td>617.593</td>\n",
       "      <td>125</td>\n",
       "      <td>160.82</td>\n",
       "      <td>182</td>\n",
       "    </tr>\n",
       "    <tr>\n",
       "      <th>7</th>\n",
       "      <td>430193</td>\n",
       "      <td>15122</td>\n",
       "      <td>870</td>\n",
       "      <td>45</td>\n",
       "      <td>87002</td>\n",
       "      <td>12445</td>\n",
       "      <td>09-08-2020</td>\n",
       "      <td>80000</td>\n",
       "      <td>68500</td>\n",
       "      <td>2</td>\n",
       "      <td>...</td>\n",
       "      <td>1346.47</td>\n",
       "      <td>15</td>\n",
       "      <td>531.013</td>\n",
       "      <td>57</td>\n",
       "      <td>529.601</td>\n",
       "      <td>84</td>\n",
       "      <td>342.585</td>\n",
       "      <td>153</td>\n",
       "      <td>36.344</td>\n",
       "      <td>371</td>\n",
       "    </tr>\n",
       "    <tr>\n",
       "      <th>8</th>\n",
       "      <td>430698</td>\n",
       "      <td>15143</td>\n",
       "      <td>884</td>\n",
       "      <td>27</td>\n",
       "      <td>88405</td>\n",
       "      <td>100188</td>\n",
       "      <td>04-04-2018</td>\n",
       "      <td>295000</td>\n",
       "      <td>250800</td>\n",
       "      <td>1</td>\n",
       "      <td>...</td>\n",
       "      <td>1869.88</td>\n",
       "      <td>1</td>\n",
       "      <td>1839.57</td>\n",
       "      <td>9</td>\n",
       "      <td>2127.55</td>\n",
       "      <td>6</td>\n",
       "      <td>783.373</td>\n",
       "      <td>50</td>\n",
       "      <td>5551.76</td>\n",
       "      <td>0</td>\n",
       "    </tr>\n",
       "    <tr>\n",
       "      <th>9</th>\n",
       "      <td>431954</td>\n",
       "      <td>15136</td>\n",
       "      <td>919</td>\n",
       "      <td>24</td>\n",
       "      <td>91901</td>\n",
       "      <td>11587</td>\n",
       "      <td>01-04-2017</td>\n",
       "      <td>280000</td>\n",
       "      <td>244700</td>\n",
       "      <td>2</td>\n",
       "      <td>...</td>\n",
       "      <td>1002.12</td>\n",
       "      <td>6</td>\n",
       "      <td>895.535</td>\n",
       "      <td>8</td>\n",
       "      <td>850.532</td>\n",
       "      <td>39</td>\n",
       "      <td>268.494</td>\n",
       "      <td>60</td>\n",
       "      <td>373.789</td>\n",
       "      <td>165</td>\n",
       "    </tr>\n",
       "  </tbody>\n",
       "</table>\n",
       "<p>10 rows × 136 columns</p>\n",
       "</div>"
      ],
      "text/plain": [
       "      _id PROPERTYZIP MUNICODE SCHOOLCODE NEIGHCODE LOTAREA    SALEDATE  \\\n",
       "0  427021       15037      908         16     90803   10276  04-21-2017   \n",
       "1  428296       15106      850          7     85002    9375  12-27-2019   \n",
       "2  428307       15237      927         27     92705   14827  01-17-2017   \n",
       "3  230894       15236      877          4     87702    8206  08-17-2018   \n",
       "4  231082       15241      950         42     95002   13050  07-17-2020   \n",
       "5  429294       15220      120         47     12001   10553  04-04-2017   \n",
       "6  429419       15237      940         28     94002   11266  08-12-2019   \n",
       "7  430193       15122      870         45     87002   12445  09-08-2020   \n",
       "8  430698       15143      884         27     88405  100188  04-04-2018   \n",
       "9  431954       15136      919         24     91901   11587  01-04-2017   \n",
       "\n",
       "  SALEPRICE FAIRMARKETTOTAL STORIES  ... apartment_buildings_dist  \\\n",
       "0    179900          157200       2  ...                  1295.71   \n",
       "1    185000          180400     1.5  ...                   1855.1   \n",
       "2    226400          167900       1  ...                  720.787   \n",
       "3    140500          122800       1  ...                   755.69   \n",
       "4    365000          255300       2  ...                   1274.9   \n",
       "5    203500          152900       1  ...                  836.578   \n",
       "6    226000          133700       1  ...                  286.151   \n",
       "7     80000           68500       2  ...                  1346.47   \n",
       "8    295000          250800       1  ...                  1869.88   \n",
       "9    280000          244700       2  ...                  1002.12   \n",
       "\n",
       "  apartment_buildings_count faith-based_facilities_dist  \\\n",
       "0                         2                     430.854   \n",
       "1                        29                     1418.88   \n",
       "2                        21                     921.939   \n",
       "3                        30                     924.038   \n",
       "4                         6                     1823.86   \n",
       "5                        62                     736.642   \n",
       "6                        23                     236.639   \n",
       "7                        15                     531.013   \n",
       "8                         1                     1839.57   \n",
       "9                         6                     895.535   \n",
       "\n",
       "  faith-based_facilities_count restaurants_dist restaurants_count  \\\n",
       "0                            3          766.162                11   \n",
       "1                           23          556.516                79   \n",
       "2                           16           625.04                73   \n",
       "3                           27          761.305                99   \n",
       "4                           20          890.492                54   \n",
       "5                           47          349.592               173   \n",
       "6                           21          335.391               109   \n",
       "7                           57          529.601                84   \n",
       "8                            9          2127.55                 6   \n",
       "9                            8          850.532                39   \n",
       "\n",
       "  community_nonprofit_orgs_dist community_nonprofit_orgs_count bus_stops_dist  \\\n",
       "0                       430.131                             34        4100.22   \n",
       "1                       132.953                            140        952.974   \n",
       "2                       322.297                            105        982.294   \n",
       "3                       23.9716                            145        151.019   \n",
       "4                       31.0191                            118        1132.09   \n",
       "5                       345.953                            293        335.096   \n",
       "6                       617.593                            125         160.82   \n",
       "7                       342.585                            153         36.344   \n",
       "8                       783.373                             50        5551.76   \n",
       "9                       268.494                             60        373.789   \n",
       "\n",
       "  bus_stops_count  \n",
       "0               0  \n",
       "1             193  \n",
       "2             122  \n",
       "3             174  \n",
       "4              90  \n",
       "5             336  \n",
       "6             182  \n",
       "7             371  \n",
       "8               0  \n",
       "9             165  \n",
       "\n",
       "[10 rows x 136 columns]"
      ]
     },
     "execution_count": 19,
     "metadata": {},
     "output_type": "execute_result"
    }
   ],
   "source": [
    "structured_gis_features = multiprocessor_gis.process_dist_features(gis_categories, structured_df, COUNT_RADIUS, CPU_CORES)\n",
    "structured_gis_features.head(10)"
   ]
  },
  {
   "cell_type": "markdown",
   "metadata": {},
   "source": [
    "Save structured + GIS features."
   ]
  },
  {
   "cell_type": "code",
   "execution_count": 20,
   "metadata": {},
   "outputs": [],
   "source": [
    "structured_gis_features.to_csv(PATH+f\"structured_gis_category_features_{COUNT_RADIUS}_radius.csv\", index=False)"
   ]
  },
  {
   "cell_type": "code",
   "execution_count": null,
   "metadata": {},
   "outputs": [],
   "source": []
  }
 ],
 "metadata": {
  "kernelspec": {
   "display_name": "Python 3",
   "language": "python",
   "name": "python3"
  },
  "language_info": {
   "codemirror_mode": {
    "name": "ipython",
    "version": 3
   },
   "file_extension": ".py",
   "mimetype": "text/x-python",
   "name": "python",
   "nbconvert_exporter": "python",
   "pygments_lexer": "ipython3",
   "version": "3.7.9"
  },
  "varInspector": {
   "cols": {
    "lenName": 16,
    "lenType": 16,
    "lenVar": 40
   },
   "kernels_config": {
    "python": {
     "delete_cmd_postfix": "",
     "delete_cmd_prefix": "del ",
     "library": "var_list.py",
     "varRefreshCmd": "print(var_dic_list())"
    },
    "r": {
     "delete_cmd_postfix": ") ",
     "delete_cmd_prefix": "rm(",
     "library": "var_list.r",
     "varRefreshCmd": "cat(var_dic_list()) "
    }
   },
   "types_to_exclude": [
    "module",
    "function",
    "builtin_function_or_method",
    "instance",
    "_Feature"
   ],
   "window_display": false
  },
  "widgets": {
   "application/vnd.jupyter.widget-state+json": {
    "state": {
     "040bc003235b4280a0d3a165a061a4ae": {
      "model_module": "@jupyter-widgets/controls",
      "model_module_version": "1.5.0",
      "model_name": "DescriptionStyleModel",
      "state": {
       "description_width": ""
      }
     },
     "16ef30de7218437e8cf665c1c79862a3": {
      "model_module": "@jupyter-widgets/controls",
      "model_module_version": "1.5.0",
      "model_name": "HTMLModel",
      "state": {
       "layout": "IPY_MODEL_39094666b5bb46889e6c6ac2e7e583da",
       "style": "IPY_MODEL_f2fe49c56867422599839868c215cb8e",
       "value": "100%"
      }
     },
     "1fbab83cb4274789af3587f22eac452d": {
      "model_module": "@jupyter-widgets/controls",
      "model_module_version": "1.5.0",
      "model_name": "HTMLModel",
      "state": {
       "layout": "IPY_MODEL_964ed23ccfd8475491b166df39ffc9da",
       "style": "IPY_MODEL_8fc7593925a84181b7f0cc9b505450ad",
       "value": " 100/100 [2:19:39&lt;00:00, 83.79s/it]"
      }
     },
     "2b308fb5bfd3448fb9dbb8fda2ea8ec9": {
      "model_module": "@jupyter-widgets/base",
      "model_module_version": "1.2.0",
      "model_name": "LayoutModel",
      "state": {}
     },
     "2bbb2d5ec1114949800654448bad3b4a": {
      "model_module": "@jupyter-widgets/base",
      "model_module_version": "1.2.0",
      "model_name": "LayoutModel",
      "state": {}
     },
     "39094666b5bb46889e6c6ac2e7e583da": {
      "model_module": "@jupyter-widgets/base",
      "model_module_version": "1.2.0",
      "model_name": "LayoutModel",
      "state": {}
     },
     "3acfe0ed807049ddb76089cadda2ebd0": {
      "model_module": "@jupyter-widgets/controls",
      "model_module_version": "1.5.0",
      "model_name": "FloatProgressModel",
      "state": {
       "bar_style": "success",
       "layout": "IPY_MODEL_d58e355777c94fec814a91d1ea1648f4",
       "style": "IPY_MODEL_8ae04d2da4954fa98e59b179fca77a37",
       "value": 100
      }
     },
     "40fcf9777da64d19a836176b4706edfd": {
      "model_module": "@jupyter-widgets/base",
      "model_module_version": "1.2.0",
      "model_name": "LayoutModel",
      "state": {}
     },
     "4b66490b57c94cb0878260137c803077": {
      "model_module": "@jupyter-widgets/base",
      "model_module_version": "1.2.0",
      "model_name": "LayoutModel",
      "state": {}
     },
     "5123107f7cd54081b4128cebd8c8d0c3": {
      "model_module": "@jupyter-widgets/controls",
      "model_module_version": "1.5.0",
      "model_name": "HBoxModel",
      "state": {
       "children": [
        "IPY_MODEL_16ef30de7218437e8cf665c1c79862a3",
        "IPY_MODEL_3acfe0ed807049ddb76089cadda2ebd0",
        "IPY_MODEL_aafa7ef7117f4a69a520b0a2d3b3aade"
       ],
       "layout": "IPY_MODEL_f61d255d1fe4409295e08d15eb22bfbc"
      }
     },
     "53abeac5d045499093dd567250192607": {
      "model_module": "@jupyter-widgets/controls",
      "model_module_version": "1.5.0",
      "model_name": "HTMLModel",
      "state": {
       "layout": "IPY_MODEL_2bbb2d5ec1114949800654448bad3b4a",
       "style": "IPY_MODEL_825218841ff146eab8107d79829cefc3",
       "value": "100%"
      }
     },
     "5b7b7fa894d643dbbf7f64c865e1d377": {
      "model_module": "@jupyter-widgets/controls",
      "model_module_version": "1.5.0",
      "model_name": "ProgressStyleModel",
      "state": {
       "description_width": ""
      }
     },
     "67ee1c0cce4040f2beff9dd3b146d0b6": {
      "model_module": "@jupyter-widgets/base",
      "model_module_version": "1.2.0",
      "model_name": "LayoutModel",
      "state": {}
     },
     "6dd8a28bb2aa4dc29266403bb8624875": {
      "model_module": "@jupyter-widgets/controls",
      "model_module_version": "1.5.0",
      "model_name": "FloatProgressModel",
      "state": {
       "bar_style": "success",
       "layout": "IPY_MODEL_88d449b8b23b44ad85727979796850fa",
       "max": 44,
       "style": "IPY_MODEL_5b7b7fa894d643dbbf7f64c865e1d377",
       "value": 44
      }
     },
     "704a0ec471804b8e913f8390c51d58f8": {
      "model_module": "@jupyter-widgets/base",
      "model_module_version": "1.2.0",
      "model_name": "LayoutModel",
      "state": {}
     },
     "7661bb0f11804f029f8b74ded8351b90": {
      "model_module": "@jupyter-widgets/controls",
      "model_module_version": "1.5.0",
      "model_name": "DescriptionStyleModel",
      "state": {
       "description_width": ""
      }
     },
     "7ff4e6f72e5f4cd1a3a8ba133f53c72d": {
      "model_module": "@jupyter-widgets/controls",
      "model_module_version": "1.5.0",
      "model_name": "FloatProgressModel",
      "state": {
       "bar_style": "success",
       "layout": "IPY_MODEL_4b66490b57c94cb0878260137c803077",
       "style": "IPY_MODEL_e21071c82dc84a2e9815157c133e031d",
       "value": 100
      }
     },
     "825218841ff146eab8107d79829cefc3": {
      "model_module": "@jupyter-widgets/controls",
      "model_module_version": "1.5.0",
      "model_name": "DescriptionStyleModel",
      "state": {
       "description_width": ""
      }
     },
     "88b5bb9bb6dc45f89c6124209e245ac8": {
      "model_module": "@jupyter-widgets/controls",
      "model_module_version": "1.5.0",
      "model_name": "HTMLModel",
      "state": {
       "layout": "IPY_MODEL_b91c7a2d88dc4d58ab5f7eeb19ea4c88",
       "style": "IPY_MODEL_b2847711a12d4cdd8b5c60d5cefde6d3",
       "value": "100%"
      }
     },
     "88d449b8b23b44ad85727979796850fa": {
      "model_module": "@jupyter-widgets/base",
      "model_module_version": "1.2.0",
      "model_name": "LayoutModel",
      "state": {}
     },
     "8ae04d2da4954fa98e59b179fca77a37": {
      "model_module": "@jupyter-widgets/controls",
      "model_module_version": "1.5.0",
      "model_name": "ProgressStyleModel",
      "state": {
       "description_width": ""
      }
     },
     "8fc7593925a84181b7f0cc9b505450ad": {
      "model_module": "@jupyter-widgets/controls",
      "model_module_version": "1.5.0",
      "model_name": "DescriptionStyleModel",
      "state": {
       "description_width": ""
      }
     },
     "964ed23ccfd8475491b166df39ffc9da": {
      "model_module": "@jupyter-widgets/base",
      "model_module_version": "1.2.0",
      "model_name": "LayoutModel",
      "state": {}
     },
     "aafa7ef7117f4a69a520b0a2d3b3aade": {
      "model_module": "@jupyter-widgets/controls",
      "model_module_version": "1.5.0",
      "model_name": "HTMLModel",
      "state": {
       "layout": "IPY_MODEL_40fcf9777da64d19a836176b4706edfd",
       "style": "IPY_MODEL_040bc003235b4280a0d3a165a061a4ae",
       "value": " 100/100 [2:07:57&lt;00:00, 76.78s/it]"
      }
     },
     "b2847711a12d4cdd8b5c60d5cefde6d3": {
      "model_module": "@jupyter-widgets/controls",
      "model_module_version": "1.5.0",
      "model_name": "DescriptionStyleModel",
      "state": {
       "description_width": ""
      }
     },
     "b91c7a2d88dc4d58ab5f7eeb19ea4c88": {
      "model_module": "@jupyter-widgets/base",
      "model_module_version": "1.2.0",
      "model_name": "LayoutModel",
      "state": {}
     },
     "c65585547c3343b5b40f1df06191d4de": {
      "model_module": "@jupyter-widgets/controls",
      "model_module_version": "1.5.0",
      "model_name": "HBoxModel",
      "state": {
       "children": [
        "IPY_MODEL_53abeac5d045499093dd567250192607",
        "IPY_MODEL_7ff4e6f72e5f4cd1a3a8ba133f53c72d",
        "IPY_MODEL_1fbab83cb4274789af3587f22eac452d"
       ],
       "layout": "IPY_MODEL_704a0ec471804b8e913f8390c51d58f8"
      }
     },
     "d58e355777c94fec814a91d1ea1648f4": {
      "model_module": "@jupyter-widgets/base",
      "model_module_version": "1.2.0",
      "model_name": "LayoutModel",
      "state": {}
     },
     "e0a7d58f2b6e427d875aa561606c88ba": {
      "model_module": "@jupyter-widgets/controls",
      "model_module_version": "1.5.0",
      "model_name": "HTMLModel",
      "state": {
       "layout": "IPY_MODEL_2b308fb5bfd3448fb9dbb8fda2ea8ec9",
       "style": "IPY_MODEL_7661bb0f11804f029f8b74ded8351b90",
       "value": " 44/44 [3:48:57&lt;00:00, 312.22s/it]"
      }
     },
     "e21071c82dc84a2e9815157c133e031d": {
      "model_module": "@jupyter-widgets/controls",
      "model_module_version": "1.5.0",
      "model_name": "ProgressStyleModel",
      "state": {
       "description_width": ""
      }
     },
     "e503b6fa63de48e59c2b796ac402948f": {
      "model_module": "@jupyter-widgets/controls",
      "model_module_version": "1.5.0",
      "model_name": "HBoxModel",
      "state": {
       "children": [
        "IPY_MODEL_88b5bb9bb6dc45f89c6124209e245ac8",
        "IPY_MODEL_6dd8a28bb2aa4dc29266403bb8624875",
        "IPY_MODEL_e0a7d58f2b6e427d875aa561606c88ba"
       ],
       "layout": "IPY_MODEL_67ee1c0cce4040f2beff9dd3b146d0b6"
      }
     },
     "f2fe49c56867422599839868c215cb8e": {
      "model_module": "@jupyter-widgets/controls",
      "model_module_version": "1.5.0",
      "model_name": "DescriptionStyleModel",
      "state": {
       "description_width": ""
      }
     },
     "f61d255d1fe4409295e08d15eb22bfbc": {
      "model_module": "@jupyter-widgets/base",
      "model_module_version": "1.2.0",
      "model_name": "LayoutModel",
      "state": {}
     }
    },
    "version_major": 2,
    "version_minor": 0
   }
  }
 },
 "nbformat": 4,
 "nbformat_minor": 4
}
