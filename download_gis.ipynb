{
 "cells": [
  {
   "cell_type": "markdown",
   "metadata": {},
   "source": [
    "# Downloading and preprocessesing GIS data"
   ]
  },
  {
   "cell_type": "markdown",
   "metadata": {},
   "source": [
    "Download data about POI in Allegheny County from WPRDC.\n",
    "\n",
    "Link to data: https://data.wprdc.org/dataset/allegheny-county-assets/resource/5c7825d2-6814-40c7-aefe-3d0f3d6f22e7?view_id=7e2a0120-4325-4fde-99de-e56c22c2b561"
   ]
  },
  {
   "cell_type": "markdown",
   "metadata": {},
   "source": [
    "### Import packages"
   ]
  },
  {
   "cell_type": "code",
   "execution_count": 1,
   "metadata": {},
   "outputs": [],
   "source": [
    "import os\n",
    "import gc\n",
    "from multiprocessing import Pool\n",
    "import warnings\n",
    "warnings.filterwarnings(action=\"ignore\")\n",
    "\n",
    "from keras.utils import get_file\n",
    "from tqdm.notebook import tqdm\n",
    "import pandas as pd\n",
    "import matplotlib.pyplot as plt\n",
    "import numpy as np\n",
    "\n",
    "# for multiprocessing\n",
    "import multiprocessor_gis"
   ]
  },
  {
   "cell_type": "markdown",
   "metadata": {},
   "source": [
    "Define constants.\n",
    "\n",
    "- ``PATH``: Path to the base data folder\n",
    "- ``COORD_RANGE_LAT``: latitude coordinate range of Allegheny County\n",
    "- ``COORD_RANGE_LONG``: longitude coordinate range of Allegheny County\n",
    "- ``CPU_CORES``: how many cpu cores to use, default = all\n",
    "- ``MAX_DIST_DUP``: maximum distance for duplicate detection\n",
    "- ``COUNT_RADIUS``: maximum distance for _count features"
   ]
  },
  {
   "cell_type": "code",
   "execution_count": 2,
   "metadata": {},
   "outputs": [],
   "source": [
    "PATH = \"C:/Users/Tim/.keras/datasets/wikipedia_real_estate/\"\n",
    "COORD_RANGE_LAT = (40.000000, 40.870000)\n",
    "COORD_RANGE_LONG = (-80.550000, -79.500000)\n",
    "# CPU_CORES = os.cpu_count()\n",
    "CPU_CORES = 11\n",
    "MAX_DIST_DUP = 8  # in meters\n",
    "COUNT_RADIUS = 3500  # in meters"
   ]
  },
  {
   "cell_type": "markdown",
   "metadata": {},
   "source": [
    "Download data. If already downloaded, load data."
   ]
  },
  {
   "cell_type": "code",
   "execution_count": 3,
   "metadata": {},
   "outputs": [],
   "source": [
    "f_path = get_file(PATH + \"wprdc/gis_data.csv\", \"https://tools.wprdc.org/downstream/5c7825d2-6814-40c7-aefe-3d0f3d6f22e7\")"
   ]
  },
  {
   "cell_type": "code",
   "execution_count": 4,
   "metadata": {},
   "outputs": [
    {
     "name": "stdout",
     "output_type": "stream",
     "text": [
      "(2678978, 45)\n"
     ]
    },
    {
     "data": {
      "text/html": [
       "<div>\n",
       "<style scoped>\n",
       "    .dataframe tbody tr th:only-of-type {\n",
       "        vertical-align: middle;\n",
       "    }\n",
       "\n",
       "    .dataframe tbody tr th {\n",
       "        vertical-align: top;\n",
       "    }\n",
       "\n",
       "    .dataframe thead th {\n",
       "        text-align: right;\n",
       "    }\n",
       "</style>\n",
       "<table border=\"1\" class=\"dataframe\">\n",
       "  <thead>\n",
       "    <tr style=\"text-align: right;\">\n",
       "      <th></th>\n",
       "      <th>_id</th>\n",
       "      <th>name</th>\n",
       "      <th>asset_type</th>\n",
       "      <th>tags</th>\n",
       "      <th>location_id</th>\n",
       "      <th>street_address</th>\n",
       "      <th>unit</th>\n",
       "      <th>unit_type</th>\n",
       "      <th>municipality</th>\n",
       "      <th>city</th>\n",
       "      <th>...</th>\n",
       "      <th>localizability</th>\n",
       "      <th>services</th>\n",
       "      <th>hard_to_count_population</th>\n",
       "      <th>data_source_names</th>\n",
       "      <th>data_source_urls</th>\n",
       "      <th>organization_name</th>\n",
       "      <th>organization_phone</th>\n",
       "      <th>organization_email</th>\n",
       "      <th>etl_notes</th>\n",
       "      <th>geocoding_properties</th>\n",
       "    </tr>\n",
       "  </thead>\n",
       "  <tbody>\n",
       "    <tr>\n",
       "      <th>0</th>\n",
       "      <td>2750</td>\n",
       "      <td>Medical Center Clinic</td>\n",
       "      <td>doctors_offices</td>\n",
       "      <td>NaN</td>\n",
       "      <td>17333.0</td>\n",
       "      <td>4185 Friendship Avenue, Suite 340</td>\n",
       "      <td>NaN</td>\n",
       "      <td>NaN</td>\n",
       "      <td>NaN</td>\n",
       "      <td>Pittsburgh</td>\n",
       "      <td>...</td>\n",
       "      <td>FIX</td>\n",
       "      <td>NaN</td>\n",
       "      <td>NaN</td>\n",
       "      <td>WPRDC Data: Primary Care Access 2014 Data</td>\n",
       "      <td>https://data.wprdc.org/dataset/allegheny-count...</td>\n",
       "      <td>NaN</td>\n",
       "      <td>NaN</td>\n",
       "      <td>NaN</td>\n",
       "      <td>NaN</td>\n",
       "      <td>NaN</td>\n",
       "    </tr>\n",
       "    <tr>\n",
       "      <th>1</th>\n",
       "      <td>2936</td>\n",
       "      <td>Pie Traynor Field Concession Stand</td>\n",
       "      <td>parks_and_facilities</td>\n",
       "      <td>NaN</td>\n",
       "      <td>88619.0</td>\n",
       "      <td>NaN</td>\n",
       "      <td>NaN</td>\n",
       "      <td>NaN</td>\n",
       "      <td>NaN</td>\n",
       "      <td>NaN</td>\n",
       "      <td>...</td>\n",
       "      <td>FIX</td>\n",
       "      <td>NaN</td>\n",
       "      <td>NaN</td>\n",
       "      <td>WPRDC Dataset: Allegheny County Park Facilities</td>\n",
       "      <td>https://data.wprdc.org/dataset/allegheny-count...</td>\n",
       "      <td>Allegheny County Parks Department</td>\n",
       "      <td>NaN</td>\n",
       "      <td>NaN</td>\n",
       "      <td>NaN</td>\n",
       "      <td>NaN</td>\n",
       "    </tr>\n",
       "    <tr>\n",
       "      <th>2</th>\n",
       "      <td>2751</td>\n",
       "      <td>Medical Center Clinic</td>\n",
       "      <td>doctors_offices</td>\n",
       "      <td>NaN</td>\n",
       "      <td>17534.0</td>\n",
       "      <td>9930 Grubbs Road, Suite 200</td>\n",
       "      <td>NaN</td>\n",
       "      <td>NaN</td>\n",
       "      <td>NaN</td>\n",
       "      <td>Wexford</td>\n",
       "      <td>...</td>\n",
       "      <td>FIX</td>\n",
       "      <td>NaN</td>\n",
       "      <td>NaN</td>\n",
       "      <td>WPRDC Data: Primary Care Access 2014 Data</td>\n",
       "      <td>https://data.wprdc.org/dataset/allegheny-count...</td>\n",
       "      <td>NaN</td>\n",
       "      <td>NaN</td>\n",
       "      <td>NaN</td>\n",
       "      <td>NaN</td>\n",
       "      <td>NaN</td>\n",
       "    </tr>\n",
       "    <tr>\n",
       "      <th>3</th>\n",
       "      <td>2752</td>\n",
       "      <td>Medi Help</td>\n",
       "      <td>doctors_offices</td>\n",
       "      <td>NaN</td>\n",
       "      <td>17097.0</td>\n",
       "      <td>1691 Washington Road</td>\n",
       "      <td>NaN</td>\n",
       "      <td>NaN</td>\n",
       "      <td>NaN</td>\n",
       "      <td>Mt Lebanon</td>\n",
       "      <td>...</td>\n",
       "      <td>FIX</td>\n",
       "      <td>NaN</td>\n",
       "      <td>NaN</td>\n",
       "      <td>WPRDC Data: Primary Care Access 2014 Data</td>\n",
       "      <td>https://data.wprdc.org/dataset/allegheny-count...</td>\n",
       "      <td>NaN</td>\n",
       "      <td>NaN</td>\n",
       "      <td>NaN</td>\n",
       "      <td>NaN</td>\n",
       "      <td>NaN</td>\n",
       "    </tr>\n",
       "    <tr>\n",
       "      <th>4</th>\n",
       "      <td>2753</td>\n",
       "      <td>Medi Help</td>\n",
       "      <td>doctors_offices</td>\n",
       "      <td>NaN</td>\n",
       "      <td>17397.0</td>\n",
       "      <td>519 Brookline Boulevard</td>\n",
       "      <td>NaN</td>\n",
       "      <td>NaN</td>\n",
       "      <td>NaN</td>\n",
       "      <td>Pittsburgh</td>\n",
       "      <td>...</td>\n",
       "      <td>FIX</td>\n",
       "      <td>NaN</td>\n",
       "      <td>NaN</td>\n",
       "      <td>WPRDC Data: Primary Care Access 2014 Data</td>\n",
       "      <td>https://data.wprdc.org/dataset/allegheny-count...</td>\n",
       "      <td>NaN</td>\n",
       "      <td>NaN</td>\n",
       "      <td>NaN</td>\n",
       "      <td>NaN</td>\n",
       "      <td>NaN</td>\n",
       "    </tr>\n",
       "    <tr>\n",
       "      <th>5</th>\n",
       "      <td>2754</td>\n",
       "      <td>MedExpress Urgent Care PC Pennsylvania</td>\n",
       "      <td>doctors_offices</td>\n",
       "      <td>NaN</td>\n",
       "      <td>17208.0</td>\n",
       "      <td>2600 Old Washington Road, Suite 150</td>\n",
       "      <td>NaN</td>\n",
       "      <td>NaN</td>\n",
       "      <td>NaN</td>\n",
       "      <td>Upper Saint Clair</td>\n",
       "      <td>...</td>\n",
       "      <td>FIX</td>\n",
       "      <td>NaN</td>\n",
       "      <td>NaN</td>\n",
       "      <td>WPRDC Data: Primary Care Access 2014 Data</td>\n",
       "      <td>https://data.wprdc.org/dataset/allegheny-count...</td>\n",
       "      <td>NaN</td>\n",
       "      <td>NaN</td>\n",
       "      <td>NaN</td>\n",
       "      <td>NaN</td>\n",
       "      <td>NaN</td>\n",
       "    </tr>\n",
       "    <tr>\n",
       "      <th>6</th>\n",
       "      <td>2755</td>\n",
       "      <td>MedExpress Urgent Care PC Pennsylvania</td>\n",
       "      <td>doctors_offices</td>\n",
       "      <td>NaN</td>\n",
       "      <td>17474.0</td>\n",
       "      <td>695 Clairton Boulevard</td>\n",
       "      <td>NaN</td>\n",
       "      <td>NaN</td>\n",
       "      <td>NaN</td>\n",
       "      <td>Pleasant Hills</td>\n",
       "      <td>...</td>\n",
       "      <td>FIX</td>\n",
       "      <td>NaN</td>\n",
       "      <td>NaN</td>\n",
       "      <td>WPRDC Data: Primary Care Access 2014 Data</td>\n",
       "      <td>https://data.wprdc.org/dataset/allegheny-count...</td>\n",
       "      <td>NaN</td>\n",
       "      <td>NaN</td>\n",
       "      <td>NaN</td>\n",
       "      <td>NaN</td>\n",
       "      <td>NaN</td>\n",
       "    </tr>\n",
       "    <tr>\n",
       "      <th>7</th>\n",
       "      <td>2756</td>\n",
       "      <td>MedExpress Urgent Care PC Pennsylvania</td>\n",
       "      <td>doctors_offices</td>\n",
       "      <td>NaN</td>\n",
       "      <td>17075.0</td>\n",
       "      <td>1535 Washington Road</td>\n",
       "      <td>NaN</td>\n",
       "      <td>NaN</td>\n",
       "      <td>NaN</td>\n",
       "      <td>Pittsburgh</td>\n",
       "      <td>...</td>\n",
       "      <td>FIX</td>\n",
       "      <td>NaN</td>\n",
       "      <td>NaN</td>\n",
       "      <td>WPRDC Data: Primary Care Access 2014 Data</td>\n",
       "      <td>https://data.wprdc.org/dataset/allegheny-count...</td>\n",
       "      <td>NaN</td>\n",
       "      <td>NaN</td>\n",
       "      <td>NaN</td>\n",
       "      <td>NaN</td>\n",
       "      <td>NaN</td>\n",
       "    </tr>\n",
       "    <tr>\n",
       "      <th>8</th>\n",
       "      <td>21142</td>\n",
       "      <td>PITTSBURGH TECHNICAL INSTITUTE - PTI</td>\n",
       "      <td>universities</td>\n",
       "      <td>NaN</td>\n",
       "      <td>89102.0</td>\n",
       "      <td>NaN</td>\n",
       "      <td>NaN</td>\n",
       "      <td>NaN</td>\n",
       "      <td>NaN</td>\n",
       "      <td>NaN</td>\n",
       "      <td>...</td>\n",
       "      <td>FIX</td>\n",
       "      <td>NaN</td>\n",
       "      <td>NaN</td>\n",
       "      <td>Southwestern Pennsylvania Commission: Universi...</td>\n",
       "      <td>https://spcgis-spc.hub.arcgis.com/datasets/uni...</td>\n",
       "      <td>NaN</td>\n",
       "      <td>NaN</td>\n",
       "      <td>NaN</td>\n",
       "      <td>PTI</td>\n",
       "      <td>NaN</td>\n",
       "    </tr>\n",
       "    <tr>\n",
       "      <th>9</th>\n",
       "      <td>2757</td>\n",
       "      <td>MedExpress Urgent Care PC Pennsylvania</td>\n",
       "      <td>doctors_offices</td>\n",
       "      <td>NaN</td>\n",
       "      <td>17285.0</td>\n",
       "      <td>3516 Saw Mill Run Boulevard</td>\n",
       "      <td>NaN</td>\n",
       "      <td>NaN</td>\n",
       "      <td>NaN</td>\n",
       "      <td>Pittsburgh</td>\n",
       "      <td>...</td>\n",
       "      <td>FIX</td>\n",
       "      <td>NaN</td>\n",
       "      <td>NaN</td>\n",
       "      <td>WPRDC Data: Primary Care Access 2014 Data</td>\n",
       "      <td>https://data.wprdc.org/dataset/allegheny-count...</td>\n",
       "      <td>NaN</td>\n",
       "      <td>NaN</td>\n",
       "      <td>NaN</td>\n",
       "      <td>NaN</td>\n",
       "      <td>NaN</td>\n",
       "    </tr>\n",
       "  </tbody>\n",
       "</table>\n",
       "<p>10 rows × 45 columns</p>\n",
       "</div>"
      ],
      "text/plain": [
       "     _id                                    name            asset_type tags  \\\n",
       "0   2750                   Medical Center Clinic       doctors_offices  NaN   \n",
       "1   2936      Pie Traynor Field Concession Stand  parks_and_facilities  NaN   \n",
       "2   2751                   Medical Center Clinic       doctors_offices  NaN   \n",
       "3   2752                               Medi Help       doctors_offices  NaN   \n",
       "4   2753                               Medi Help       doctors_offices  NaN   \n",
       "5   2754  MedExpress Urgent Care PC Pennsylvania       doctors_offices  NaN   \n",
       "6   2755  MedExpress Urgent Care PC Pennsylvania       doctors_offices  NaN   \n",
       "7   2756  MedExpress Urgent Care PC Pennsylvania       doctors_offices  NaN   \n",
       "8  21142    PITTSBURGH TECHNICAL INSTITUTE - PTI          universities  NaN   \n",
       "9   2757  MedExpress Urgent Care PC Pennsylvania       doctors_offices  NaN   \n",
       "\n",
       "   location_id                       street_address  unit  unit_type  \\\n",
       "0      17333.0    4185 Friendship Avenue, Suite 340   NaN        NaN   \n",
       "1      88619.0                                  NaN   NaN        NaN   \n",
       "2      17534.0          9930 Grubbs Road, Suite 200   NaN        NaN   \n",
       "3      17097.0                 1691 Washington Road   NaN        NaN   \n",
       "4      17397.0              519 Brookline Boulevard   NaN        NaN   \n",
       "5      17208.0  2600 Old Washington Road, Suite 150   NaN        NaN   \n",
       "6      17474.0               695 Clairton Boulevard   NaN        NaN   \n",
       "7      17075.0                 1535 Washington Road   NaN        NaN   \n",
       "8      89102.0                                  NaN   NaN        NaN   \n",
       "9      17285.0          3516 Saw Mill Run Boulevard   NaN        NaN   \n",
       "\n",
       "  municipality               city  ... localizability services  \\\n",
       "0          NaN         Pittsburgh  ...            FIX      NaN   \n",
       "1          NaN                NaN  ...            FIX      NaN   \n",
       "2          NaN            Wexford  ...            FIX      NaN   \n",
       "3          NaN         Mt Lebanon  ...            FIX      NaN   \n",
       "4          NaN         Pittsburgh  ...            FIX      NaN   \n",
       "5          NaN  Upper Saint Clair  ...            FIX      NaN   \n",
       "6          NaN     Pleasant Hills  ...            FIX      NaN   \n",
       "7          NaN         Pittsburgh  ...            FIX      NaN   \n",
       "8          NaN                NaN  ...            FIX      NaN   \n",
       "9          NaN         Pittsburgh  ...            FIX      NaN   \n",
       "\n",
       "   hard_to_count_population  \\\n",
       "0                       NaN   \n",
       "1                       NaN   \n",
       "2                       NaN   \n",
       "3                       NaN   \n",
       "4                       NaN   \n",
       "5                       NaN   \n",
       "6                       NaN   \n",
       "7                       NaN   \n",
       "8                       NaN   \n",
       "9                       NaN   \n",
       "\n",
       "                                   data_source_names  \\\n",
       "0          WPRDC Data: Primary Care Access 2014 Data   \n",
       "1    WPRDC Dataset: Allegheny County Park Facilities   \n",
       "2          WPRDC Data: Primary Care Access 2014 Data   \n",
       "3          WPRDC Data: Primary Care Access 2014 Data   \n",
       "4          WPRDC Data: Primary Care Access 2014 Data   \n",
       "5          WPRDC Data: Primary Care Access 2014 Data   \n",
       "6          WPRDC Data: Primary Care Access 2014 Data   \n",
       "7          WPRDC Data: Primary Care Access 2014 Data   \n",
       "8  Southwestern Pennsylvania Commission: Universi...   \n",
       "9          WPRDC Data: Primary Care Access 2014 Data   \n",
       "\n",
       "                                    data_source_urls  \\\n",
       "0  https://data.wprdc.org/dataset/allegheny-count...   \n",
       "1  https://data.wprdc.org/dataset/allegheny-count...   \n",
       "2  https://data.wprdc.org/dataset/allegheny-count...   \n",
       "3  https://data.wprdc.org/dataset/allegheny-count...   \n",
       "4  https://data.wprdc.org/dataset/allegheny-count...   \n",
       "5  https://data.wprdc.org/dataset/allegheny-count...   \n",
       "6  https://data.wprdc.org/dataset/allegheny-count...   \n",
       "7  https://data.wprdc.org/dataset/allegheny-count...   \n",
       "8  https://spcgis-spc.hub.arcgis.com/datasets/uni...   \n",
       "9  https://data.wprdc.org/dataset/allegheny-count...   \n",
       "\n",
       "                   organization_name  organization_phone organization_email  \\\n",
       "0                                NaN                 NaN                NaN   \n",
       "1  Allegheny County Parks Department                 NaN                NaN   \n",
       "2                                NaN                 NaN                NaN   \n",
       "3                                NaN                 NaN                NaN   \n",
       "4                                NaN                 NaN                NaN   \n",
       "5                                NaN                 NaN                NaN   \n",
       "6                                NaN                 NaN                NaN   \n",
       "7                                NaN                 NaN                NaN   \n",
       "8                                NaN                 NaN                NaN   \n",
       "9                                NaN                 NaN                NaN   \n",
       "\n",
       "   etl_notes  geocoding_properties  \n",
       "0        NaN                   NaN  \n",
       "1        NaN                   NaN  \n",
       "2        NaN                   NaN  \n",
       "3        NaN                   NaN  \n",
       "4        NaN                   NaN  \n",
       "5        NaN                   NaN  \n",
       "6        NaN                   NaN  \n",
       "7        NaN                   NaN  \n",
       "8        PTI                   NaN  \n",
       "9        NaN                   NaN  \n",
       "\n",
       "[10 rows x 45 columns]"
      ]
     },
     "execution_count": 4,
     "metadata": {},
     "output_type": "execute_result"
    }
   ],
   "source": [
    "gis_df = pd.read_csv(f_path)\n",
    "print(gis_df.shape)\n",
    "gis_df.head(10)"
   ]
  },
  {
   "cell_type": "markdown",
   "metadata": {},
   "source": [
    "As can be seen in the summary, some coordinates are very far outside of Allegheny county and need to be filtered."
   ]
  },
  {
   "cell_type": "code",
   "execution_count": 5,
   "metadata": {},
   "outputs": [
    {
     "data": {
      "text/html": [
       "<div>\n",
       "<style scoped>\n",
       "    .dataframe tbody tr th:only-of-type {\n",
       "        vertical-align: middle;\n",
       "    }\n",
       "\n",
       "    .dataframe tbody tr th {\n",
       "        vertical-align: top;\n",
       "    }\n",
       "\n",
       "    .dataframe thead th {\n",
       "        text-align: right;\n",
       "    }\n",
       "</style>\n",
       "<table border=\"1\" class=\"dataframe\">\n",
       "  <thead>\n",
       "    <tr style=\"text-align: right;\">\n",
       "      <th></th>\n",
       "      <th>latitude</th>\n",
       "      <th>longitude</th>\n",
       "    </tr>\n",
       "  </thead>\n",
       "  <tbody>\n",
       "    <tr>\n",
       "      <th>mean</th>\n",
       "      <td>40.465923</td>\n",
       "      <td>-80.008248</td>\n",
       "    </tr>\n",
       "    <tr>\n",
       "      <th>std</th>\n",
       "      <td>0.291719</td>\n",
       "      <td>2.296488</td>\n",
       "    </tr>\n",
       "    <tr>\n",
       "      <th>min</th>\n",
       "      <td>38.911183</td>\n",
       "      <td>-121.748900</td>\n",
       "    </tr>\n",
       "    <tr>\n",
       "      <th>25%</th>\n",
       "      <td>40.404716</td>\n",
       "      <td>-80.027068</td>\n",
       "    </tr>\n",
       "    <tr>\n",
       "      <th>50%</th>\n",
       "      <td>40.446569</td>\n",
       "      <td>-79.976947</td>\n",
       "    </tr>\n",
       "    <tr>\n",
       "      <th>75%</th>\n",
       "      <td>40.478684</td>\n",
       "      <td>-79.891956</td>\n",
       "    </tr>\n",
       "    <tr>\n",
       "      <th>max</th>\n",
       "      <td>45.383687</td>\n",
       "      <td>-73.318068</td>\n",
       "    </tr>\n",
       "  </tbody>\n",
       "</table>\n",
       "</div>"
      ],
      "text/plain": [
       "       latitude   longitude\n",
       "mean  40.465923  -80.008248\n",
       "std    0.291719    2.296488\n",
       "min   38.911183 -121.748900\n",
       "25%   40.404716  -80.027068\n",
       "50%   40.446569  -79.976947\n",
       "75%   40.478684  -79.891956\n",
       "max   45.383687  -73.318068"
      ]
     },
     "execution_count": 5,
     "metadata": {},
     "output_type": "execute_result"
    }
   ],
   "source": [
    "gis_df.loc[:,\"latitude\":\"longitude\"].describe().loc[\"mean\":,:]"
   ]
  },
  {
   "cell_type": "code",
   "execution_count": 6,
   "metadata": {},
   "outputs": [
    {
     "name": "stdout",
     "output_type": "stream",
     "text": [
      "Removed 98121 rows\n"
     ]
    }
   ],
   "source": [
    "# filter valid latitude and longitude\n",
    "rows_before = gis_df.shape[0]\n",
    "gis_df = gis_df[(gis_df[\"latitude\"] > COORD_RANGE_LAT[0]) & (gis_df[\"latitude\"] < COORD_RANGE_LAT[1])]\n",
    "gis_df = gis_df[(gis_df[\"longitude\"] > COORD_RANGE_LONG[0]) & (gis_df[\"longitude\"] < COORD_RANGE_LONG[1])]\n",
    "print(f\"Removed {rows_before - gis_df.shape[0]} rows\")"
   ]
  },
  {
   "cell_type": "code",
   "execution_count": 7,
   "metadata": {},
   "outputs": [
    {
     "data": {
      "text/html": [
       "<div>\n",
       "<style scoped>\n",
       "    .dataframe tbody tr th:only-of-type {\n",
       "        vertical-align: middle;\n",
       "    }\n",
       "\n",
       "    .dataframe tbody tr th {\n",
       "        vertical-align: top;\n",
       "    }\n",
       "\n",
       "    .dataframe thead th {\n",
       "        text-align: right;\n",
       "    }\n",
       "</style>\n",
       "<table border=\"1\" class=\"dataframe\">\n",
       "  <thead>\n",
       "    <tr style=\"text-align: right;\">\n",
       "      <th></th>\n",
       "      <th>latitude</th>\n",
       "      <th>longitude</th>\n",
       "    </tr>\n",
       "  </thead>\n",
       "  <tbody>\n",
       "    <tr>\n",
       "      <th>mean</th>\n",
       "      <td>40.448372</td>\n",
       "      <td>-79.967611</td>\n",
       "    </tr>\n",
       "    <tr>\n",
       "      <th>std</th>\n",
       "      <td>0.076367</td>\n",
       "      <td>0.106941</td>\n",
       "    </tr>\n",
       "    <tr>\n",
       "      <th>min</th>\n",
       "      <td>40.010286</td>\n",
       "      <td>-80.475548</td>\n",
       "    </tr>\n",
       "    <tr>\n",
       "      <th>25%</th>\n",
       "      <td>40.406282</td>\n",
       "      <td>-80.027421</td>\n",
       "    </tr>\n",
       "    <tr>\n",
       "      <th>50%</th>\n",
       "      <td>40.446586</td>\n",
       "      <td>-79.979793</td>\n",
       "    </tr>\n",
       "    <tr>\n",
       "      <th>75%</th>\n",
       "      <td>40.476466</td>\n",
       "      <td>-79.897748</td>\n",
       "    </tr>\n",
       "    <tr>\n",
       "      <th>max</th>\n",
       "      <td>40.866796</td>\n",
       "      <td>-79.505088</td>\n",
       "    </tr>\n",
       "  </tbody>\n",
       "</table>\n",
       "</div>"
      ],
      "text/plain": [
       "       latitude  longitude\n",
       "mean  40.448372 -79.967611\n",
       "std    0.076367   0.106941\n",
       "min   40.010286 -80.475548\n",
       "25%   40.406282 -80.027421\n",
       "50%   40.446586 -79.979793\n",
       "75%   40.476466 -79.897748\n",
       "max   40.866796 -79.505088"
      ]
     },
     "execution_count": 7,
     "metadata": {},
     "output_type": "execute_result"
    }
   ],
   "source": [
    "gis_df.loc[:,\"latitude\":\"longitude\"].describe().loc[\"mean\":,:]"
   ]
  },
  {
   "cell_type": "markdown",
   "metadata": {},
   "source": [
    "Since the densely populated areas appear as a solid blue color, a heatmap would be more helpful. It seems as though a very large portion of datapoints are all in one bin, making all other bins seem dark."
   ]
  },
  {
   "cell_type": "code",
   "execution_count": 8,
   "metadata": {},
   "outputs": [
    {
     "data": {
      "image/png": "[encoded data removed]",
      "text/plain": [
       "<Figure size 432x288 with 1 Axes>"
      ]
     },
     "metadata": {
      "needs_background": "light"
     },
     "output_type": "display_data"
    }
   ],
   "source": [
    "heatmap, xedges, yedges = np.histogram2d(list(gis_df[\"longitude\"]), list(gis_df[\"latitude\"]), bins=40)\n",
    "extent = [xedges[0], xedges[-1], yedges[0], yedges[-1]]\n",
    "\n",
    "plt.clf()\n",
    "plt.imshow(heatmap.T, extent=extent, origin='lower')\n",
    "plt.show()"
   ]
  },
  {
   "cell_type": "markdown",
   "metadata": {},
   "source": [
    "Most of the columns are basically empty."
   ]
  },
  {
   "cell_type": "code",
   "execution_count": 9,
   "metadata": {
    "scrolled": true
   },
   "outputs": [
    {
     "name": "stdout",
     "output_type": "stream",
     "text": [
      "Total number of columns: 2580857\n"
     ]
    },
    {
     "data": {
      "text/plain": [
       "internet_access               2580857\n",
       "iffy_geocoding                2580857\n",
       "unit                          2580857\n",
       "hard_to_count_population      2580857\n",
       "services                      2580857\n",
       "unit_type                     2580857\n",
       "holiday_hours_of_operation    2580857\n",
       "parent_location_id            2580857\n",
       "parent_location               2580857\n",
       "open_to_public                2580857\n",
       "wifi_network                  2580857\n",
       "municipality                  2580776\n",
       "available_transportation      2580774\n",
       "organization_phone            2580209\n",
       "do_not_display                2577455\n",
       "hours_of_operation            2566597\n",
       "periodicity                   2560538\n",
       "computers_available           2551626\n",
       "accessibility                 2543906\n",
       "organization_email            2535659\n",
       "residence                     2525519\n",
       "child_friendly                2513070\n",
       "email                         2507938\n",
       "url                           2503505\n",
       "tags                          2427394\n",
       "organization_name             2402250\n",
       "parcel_id                     2385577\n",
       "phone                         2382073\n",
       "sensitive                     2379680\n",
       "capacity                      2237221\n",
       "geocoding_properties          2027626\n",
       "etl_notes                     1330269\n",
       "zip_code                       668135\n",
       "state                          643203\n",
       "city                           619824\n",
       "street_address                 614828\n",
       "data_source_names                3321\n",
       "data_source_urls                 3321\n",
       "longitude                           0\n",
       "latitude                            0\n",
       "localizability                      0\n",
       "location_id                         0\n",
       "asset_type                          0\n",
       "name                                0\n",
       "_id                                 0\n",
       "dtype: int64"
      ]
     },
     "execution_count": 9,
     "metadata": {},
     "output_type": "execute_result"
    }
   ],
   "source": [
    "print(f\"Total number of columns: {gis_df.shape[0]}\")\n",
    "gis_df.isna().sum().sort_values(ascending=False)"
   ]
  },
  {
   "cell_type": "markdown",
   "metadata": {},
   "source": [
    "Luckily, we only need asset_type and coordinates anyway."
   ]
  },
  {
   "cell_type": "code",
   "execution_count": 10,
   "metadata": {},
   "outputs": [],
   "source": [
    "gis_df = gis_df[[\"_id\", \"name\", \"asset_type\", \"latitude\", \"longitude\"]]"
   ]
  },
  {
   "cell_type": "markdown",
   "metadata": {},
   "source": [
    "Remove rows without coordinates, since they have no use for us."
   ]
  },
  {
   "cell_type": "code",
   "execution_count": 11,
   "metadata": {},
   "outputs": [
    {
     "data": {
      "text/plain": [
       "(2580857, 5)"
      ]
     },
     "execution_count": 11,
     "metadata": {},
     "output_type": "execute_result"
    }
   ],
   "source": [
    "gis_df = gis_df.dropna()\n",
    "gis_df.shape"
   ]
  },
  {
   "cell_type": "markdown",
   "metadata": {},
   "source": [
    "The data set owner indicated that there might be duplicate entries in the data. To remove duplicates, we remove rows with duplicate coordinates."
   ]
  },
  {
   "cell_type": "code",
   "execution_count": 12,
   "metadata": {},
   "outputs": [
    {
     "name": "stdout",
     "output_type": "stream",
     "text": [
      "Shape before: 2580857\n",
      "Shape after: 24740\n",
      "Removed 2556117 rows\n"
     ]
    }
   ],
   "source": [
    "rows_before = gis_df.shape[0]\n",
    "print(f\"Shape before: {rows_before}\")\n",
    "gis_df = gis_df.drop_duplicates(subset=[\"latitude\", \"longitude\"])\n",
    "print(f\"Shape after: {gis_df.shape[0]}\")\n",
    "print(f\"Removed {rows_before - gis_df.shape[0]} rows\")"
   ]
  },
  {
   "cell_type": "markdown",
   "metadata": {},
   "source": [
    "There are still duplicates in the data, where the latitude and longitude are just slightly different. We remove those by filtering for only POI which have no other POI of the same category in an 8m radius."
   ]
  },
  {
   "cell_type": "code",
   "execution_count": 13,
   "metadata": {
    "scrolled": true
   },
   "outputs": [
    {
     "data": {
      "application/vnd.jupyter.widget-view+json": {
       "model_id": "23c011d2806d48edac61f67d6a1de3ea",
       "version_major": 2,
       "version_minor": 0
      },
      "text/plain": [
       "HBox(children=(HTML(value=''), FloatProgress(value=0.0, max=44.0), HTML(value='')))"
      ]
     },
     "metadata": {},
     "output_type": "display_data"
    },
    {
     "name": "stdout",
     "output_type": "stream",
     "text": [
      "\n",
      "788 Rows have been removed.\n"
     ]
    }
   ],
   "source": [
    "rows_before = gis_df.shape[0]\n",
    "gis_df_filtered = multiprocessor_gis.remove_duplicates(gis_df, CPU_CORES, MAX_DIST_DUP)\n",
    "print(f\"{rows_before - gis_df_filtered.shape[0]} Rows have been removed.\")"
   ]
  },
  {
   "cell_type": "code",
   "execution_count": 14,
   "metadata": {},
   "outputs": [
    {
     "data": {
      "text/html": [
       "<div>\n",
       "<style scoped>\n",
       "    .dataframe tbody tr th:only-of-type {\n",
       "        vertical-align: middle;\n",
       "    }\n",
       "\n",
       "    .dataframe tbody tr th {\n",
       "        vertical-align: top;\n",
       "    }\n",
       "\n",
       "    .dataframe thead th {\n",
       "        text-align: right;\n",
       "    }\n",
       "</style>\n",
       "<table border=\"1\" class=\"dataframe\">\n",
       "  <thead>\n",
       "    <tr style=\"text-align: right;\">\n",
       "      <th></th>\n",
       "      <th>_id</th>\n",
       "      <th>name</th>\n",
       "      <th>asset_type</th>\n",
       "      <th>latitude</th>\n",
       "      <th>longitude</th>\n",
       "    </tr>\n",
       "  </thead>\n",
       "  <tbody>\n",
       "    <tr>\n",
       "      <th>78</th>\n",
       "      <td>7230</td>\n",
       "      <td>ACHD WIC Clinic</td>\n",
       "      <td>achd_clinics</td>\n",
       "      <td>40.443708</td>\n",
       "      <td>-79.880565</td>\n",
       "    </tr>\n",
       "    <tr>\n",
       "      <th>146</th>\n",
       "      <td>7231</td>\n",
       "      <td>ACHD WIC Clinic</td>\n",
       "      <td>achd_clinics</td>\n",
       "      <td>40.439766</td>\n",
       "      <td>-80.001683</td>\n",
       "    </tr>\n",
       "    <tr>\n",
       "      <th>172</th>\n",
       "      <td>7232</td>\n",
       "      <td>ACHD WIC Clinic</td>\n",
       "      <td>achd_clinics</td>\n",
       "      <td>40.429713</td>\n",
       "      <td>-80.052039</td>\n",
       "    </tr>\n",
       "    <tr>\n",
       "      <th>201</th>\n",
       "      <td>7233</td>\n",
       "      <td>ACHD WIC Clinic</td>\n",
       "      <td>achd_clinics</td>\n",
       "      <td>40.417361</td>\n",
       "      <td>-79.987416</td>\n",
       "    </tr>\n",
       "    <tr>\n",
       "      <th>278</th>\n",
       "      <td>7234</td>\n",
       "      <td>ACHD WIC Clinic</td>\n",
       "      <td>achd_clinics</td>\n",
       "      <td>40.405634</td>\n",
       "      <td>-79.828860</td>\n",
       "    </tr>\n",
       "    <tr>\n",
       "      <th>...</th>\n",
       "      <td>...</td>\n",
       "      <td>...</td>\n",
       "      <td>...</td>\n",
       "      <td>...</td>\n",
       "      <td>...</td>\n",
       "    </tr>\n",
       "    <tr>\n",
       "      <th>31150</th>\n",
       "      <td>30815</td>\n",
       "      <td>YOUNG DR AT YESTER SQ</td>\n",
       "      <td>bus_stops</td>\n",
       "      <td>40.349614</td>\n",
       "      <td>-79.840557</td>\n",
       "    </tr>\n",
       "    <tr>\n",
       "      <th>31151</th>\n",
       "      <td>30816</td>\n",
       "      <td>ZUPANCIC DR AT BROGLIE DR</td>\n",
       "      <td>bus_stops</td>\n",
       "      <td>40.320806</td>\n",
       "      <td>-79.985288</td>\n",
       "    </tr>\n",
       "    <tr>\n",
       "      <th>31152</th>\n",
       "      <td>30818</td>\n",
       "      <td>ZUPANCIC DR AT QUAKER DR</td>\n",
       "      <td>bus_stops</td>\n",
       "      <td>40.320873</td>\n",
       "      <td>-79.989388</td>\n",
       "    </tr>\n",
       "    <tr>\n",
       "      <th>31153</th>\n",
       "      <td>30819</td>\n",
       "      <td>ZUPANCIC DR AT SPRINGVALE DR</td>\n",
       "      <td>bus_stops</td>\n",
       "      <td>40.320645</td>\n",
       "      <td>-79.994131</td>\n",
       "    </tr>\n",
       "    <tr>\n",
       "      <th>31154</th>\n",
       "      <td>30820</td>\n",
       "      <td>ZUPANCIC DR OPP #6516</td>\n",
       "      <td>bus_stops</td>\n",
       "      <td>40.320596</td>\n",
       "      <td>-79.991986</td>\n",
       "    </tr>\n",
       "  </tbody>\n",
       "</table>\n",
       "<p>23952 rows × 5 columns</p>\n",
       "</div>"
      ],
      "text/plain": [
       "         _id                          name    asset_type   latitude  longitude\n",
       "78      7230               ACHD WIC Clinic  achd_clinics  40.443708 -79.880565\n",
       "146     7231               ACHD WIC Clinic  achd_clinics  40.439766 -80.001683\n",
       "172     7232               ACHD WIC Clinic  achd_clinics  40.429713 -80.052039\n",
       "201     7233               ACHD WIC Clinic  achd_clinics  40.417361 -79.987416\n",
       "278     7234               ACHD WIC Clinic  achd_clinics  40.405634 -79.828860\n",
       "...      ...                           ...           ...        ...        ...\n",
       "31150  30815         YOUNG DR AT YESTER SQ     bus_stops  40.349614 -79.840557\n",
       "31151  30816     ZUPANCIC DR AT BROGLIE DR     bus_stops  40.320806 -79.985288\n",
       "31152  30818      ZUPANCIC DR AT QUAKER DR     bus_stops  40.320873 -79.989388\n",
       "31153  30819  ZUPANCIC DR AT SPRINGVALE DR     bus_stops  40.320645 -79.994131\n",
       "31154  30820         ZUPANCIC DR OPP #6516     bus_stops  40.320596 -79.991986\n",
       "\n",
       "[23952 rows x 5 columns]"
      ]
     },
     "execution_count": 14,
     "metadata": {},
     "output_type": "execute_result"
    }
   ],
   "source": [
    "gis_df_filtered"
   ]
  },
  {
   "cell_type": "markdown",
   "metadata": {},
   "source": [
    "Let's see what types the assets of our remaining observations have."
   ]
  },
  {
   "cell_type": "code",
   "execution_count": 15,
   "metadata": {
    "scrolled": true
   },
   "outputs": [
    {
     "data": {
      "text/plain": [
       "bus_stops                   6732\n",
       "community_nonprofit_orgs    4817\n",
       "restaurants                 3076\n",
       "faith-based_facilities       953\n",
       "apartment_buildings          908\n",
       "hair_salons                  815\n",
       "schools                      775\n",
       "polling_places               664\n",
       "parks_and_facilities         569\n",
       "child_care_centers           537\n",
       "doctors_offices              530\n",
       "gas_stations                 411\n",
       "banks                        351\n",
       "affordable_housing           261\n",
       "pharmacies                   255\n",
       "dentists                     224\n",
       "nail_salons                  216\n",
       "public_buildings             190\n",
       "barbers                      189\n",
       "bars                         184\n",
       "hotels                       184\n",
       "coffee_shops                 114\n",
       "bike_share_stations          112\n",
       "nursing_homes                106\n",
       "wic_vendors                   91\n",
       "farmers_markets               84\n",
       "food_banks                    69\n",
       "laundromats                   65\n",
       "supermarkets                  62\n",
       "health_centers                60\n",
       "libraries                     53\n",
       "park_and_rides                52\n",
       "universities                  40\n",
       "senior_centers                38\n",
       "post_offices                  37\n",
       "museums                       31\n",
       "family_support_centers        23\n",
       "rec_centers                   21\n",
       "veterans_social_orgs          16\n",
       "achd_clinics                  14\n",
       "acha_community_sites          11\n",
       "va_facilities                  5\n",
       "wic_offices                    4\n",
       "homeless_shelters              3\n",
       "Name: asset_type, dtype: int64"
      ]
     },
     "execution_count": 15,
     "metadata": {},
     "output_type": "execute_result"
    }
   ],
   "source": [
    "gis_df_filtered[\"asset_type\"].value_counts()"
   ]
  },
  {
   "cell_type": "markdown",
   "metadata": {},
   "source": [
    "Since the values of the `asset_type` column will turn into distinct columns later, we now remove columns which would lead to \"uninteresting\" categories later. We set a threshold of at least 30 observations for this category to be relevant. If we would not set this threshold, an unnecessary amount of features would be created."
   ]
  },
  {
   "cell_type": "code",
   "execution_count": 16,
   "metadata": {},
   "outputs": [
    {
     "name": "stdout",
     "output_type": "stream",
     "text": [
      "Removed 97 rows\n"
     ]
    }
   ],
   "source": [
    "to_remove = [\"homeless_shelters\", \"wic_offices\", \"va_facilities\", \"acha_community_sites\", \"achd_clinics\",\n",
    "             \"veterans_social_orgs\", \"rec_centers\", \"family_support_centers\"]\n",
    "gis_categories = gis_df_filtered[~gis_df_filtered[\"asset_type\"].isin(to_remove)]\n",
    "print(f\"Removed {gis_df_filtered.shape[0]-gis_categories.shape[0]} rows\")"
   ]
  },
  {
   "cell_type": "markdown",
   "metadata": {},
   "source": [
    "Show distribution again after preprocessing."
   ]
  },
  {
   "cell_type": "code",
   "execution_count": 17,
   "metadata": {},
   "outputs": [
    {
     "data": {
      "image/png": "[encoded data removed]",
      "text/plain": [
       "<Figure size 432x288 with 1 Axes>"
      ]
     },
     "metadata": {
      "needs_background": "light"
     },
     "output_type": "display_data"
    }
   ],
   "source": [
    "heatmap, xedges, yedges = np.histogram2d(list(gis_df[\"longitude\"]), list(gis_df[\"latitude\"]), bins=100)\n",
    "extent = [xedges[0], xedges[-1], yedges[0], yedges[-1]]\n",
    "\n",
    "plt.clf()\n",
    "plt.imshow(heatmap.T, extent=extent, origin='lower')\n",
    "plt.show()"
   ]
  },
  {
   "cell_type": "markdown",
   "metadata": {},
   "source": [
    "Save GIS df with selected asset types, columns and no duplicates."
   ]
  },
  {
   "cell_type": "code",
   "execution_count": 18,
   "metadata": {},
   "outputs": [],
   "source": [
    "gis_categories.to_csv(PATH+\"gis_preprocessed.csv\", index=False)"
   ]
  },
  {
   "cell_type": "code",
   "execution_count": null,
   "metadata": {},
   "outputs": [],
   "source": []
  }
 ],
 "metadata": {
  "kernelspec": {
   "display_name": "Python 3",
   "language": "python",
   "name": "python3"
  },
  "language_info": {
   "codemirror_mode": {
    "name": "ipython",
    "version": 3
   },
   "file_extension": ".py",
   "mimetype": "text/x-python",
   "name": "python",
   "nbconvert_exporter": "python",
   "pygments_lexer": "ipython3",
   "version": "3.7.9"
  },
  "varInspector": {
   "cols": {
    "lenName": 16,
    "lenType": 16,
    "lenVar": 40
   },
   "kernels_config": {
    "python": {
     "delete_cmd_postfix": "",
     "delete_cmd_prefix": "del ",
     "library": "var_list.py",
     "varRefreshCmd": "print(var_dic_list())"
    },
    "r": {
     "delete_cmd_postfix": ") ",
     "delete_cmd_prefix": "rm(",
     "library": "var_list.r",
     "varRefreshCmd": "cat(var_dic_list()) "
    }
   },
   "types_to_exclude": [
    "module",
    "function",
    "builtin_function_or_method",
    "instance",
    "_Feature"
   ],
   "window_display": false
  },
  "widgets": {
   "application/vnd.jupyter.widget-state+json": {
    "state": {
     "00557ccf8e774a1faaea3b3472bd51c0": {
      "model_module": "@jupyter-widgets/controls",
      "model_module_version": "1.5.0",
      "model_name": "DescriptionStyleModel",
      "state": {
       "description_width": ""
      }
     },
     "005a26c02ea54c1e85cb1c3c940faa5f": {
      "model_module": "@jupyter-widgets/base",
      "model_module_version": "1.2.0",
      "model_name": "LayoutModel",
      "state": {}
     },
     "009b5159af2c4e56bb2d52164bbdfd53": {
      "model_module": "@jupyter-widgets/controls",
      "model_module_version": "1.5.0",
      "model_name": "DescriptionStyleModel",
      "state": {
       "description_width": ""
      }
     },
     "01408f2f4f254681bd98aacc0019046d": {
      "model_module": "@jupyter-widgets/base",
      "model_module_version": "1.2.0",
      "model_name": "LayoutModel",
      "state": {}
     },
     "01bbf92bc2a74287bfb6cf0d26a3b3d6": {
      "model_module": "@jupyter-widgets/controls",
      "model_module_version": "1.5.0",
      "model_name": "FloatProgressModel",
      "state": {
       "bar_style": "success",
       "layout": "IPY_MODEL_28ae8338204f4f22bde1a7220f97f15e",
       "style": "IPY_MODEL_f907eaab62ee4268889684b238367a5e",
       "value": 100
      }
     },
     "02aa683331a64a49a7552c13b7915b8d": {
      "model_module": "@jupyter-widgets/base",
      "model_module_version": "1.2.0",
      "model_name": "LayoutModel",
      "state": {}
     },
     "02afbe713b294e399a99ae178b355d00": {
      "model_module": "@jupyter-widgets/controls",
      "model_module_version": "1.5.0",
      "model_name": "HBoxModel",
      "state": {
       "children": [
        "IPY_MODEL_8ab3a84ef31d4d4e9f4d6a1a933b6534",
        "IPY_MODEL_90c2d5761a3e4830bc6981d1b54987cf",
        "IPY_MODEL_d7ba082f9a29403cac3aa44852671af8"
       ],
       "layout": "IPY_MODEL_c966245a4e9b4e6880ea9f633eee6ae8"
      }
     },
     "039ed36c51ba476aa15487ab87c1eae5": {
      "model_module": "@jupyter-widgets/base",
      "model_module_version": "1.2.0",
      "model_name": "LayoutModel",
      "state": {}
     },
     "03b9c63da99348f69a1d09c21dd9ea96": {
      "model_module": "@jupyter-widgets/controls",
      "model_module_version": "1.5.0",
      "model_name": "FloatProgressModel",
      "state": {
       "bar_style": "success",
       "layout": "IPY_MODEL_3d54efce805343d0b05491acfdbd9db9",
       "style": "IPY_MODEL_bfe97e971a0a4c67a2af7e04332ee6f8",
       "value": 100
      }
     },
     "040bc003235b4280a0d3a165a061a4ae": {
      "model_module": "@jupyter-widgets/controls",
      "model_module_version": "1.5.0",
      "model_name": "DescriptionStyleModel",
      "state": {
       "description_width": ""
      }
     },
     "04106f41d4df4e26a63493366a5daa24": {
      "model_module": "@jupyter-widgets/base",
      "model_module_version": "1.2.0",
      "model_name": "LayoutModel",
      "state": {}
     },
     "056763e821924de4b609cbeeb995042f": {
      "model_module": "@jupyter-widgets/base",
      "model_module_version": "1.2.0",
      "model_name": "LayoutModel",
      "state": {}
     },
     "073f5c1731674941abb90fd5b51628b5": {
      "model_module": "@jupyter-widgets/controls",
      "model_module_version": "1.5.0",
      "model_name": "HTMLModel",
      "state": {
       "layout": "IPY_MODEL_d515f516a2aa4c698d798d84f20e65e0",
       "style": "IPY_MODEL_4c6e4c341626437e92e6d8584156fc7c",
       "value": "100%"
      }
     },
     "07c720e54702409e8282f7ceab7cf4f4": {
      "model_module": "@jupyter-widgets/controls",
      "model_module_version": "1.5.0",
      "model_name": "DescriptionStyleModel",
      "state": {
       "description_width": ""
      }
     },
     "08ccca541f7b48b68103e4a7771d2d9d": {
      "model_module": "@jupyter-widgets/controls",
      "model_module_version": "1.5.0",
      "model_name": "HTMLModel",
      "state": {
       "layout": "IPY_MODEL_c3ed7fc02acd449bae5ebcee3c00a049",
       "style": "IPY_MODEL_1f102dfec51b4501a82ea0081f0bd5e3",
       "value": "100%"
      }
     },
     "09ddf0b258f34234b58a4d080a256610": {
      "model_module": "@jupyter-widgets/controls",
      "model_module_version": "1.5.0",
      "model_name": "HTMLModel",
      "state": {
       "layout": "IPY_MODEL_55f8fb96ea12498793f3b0f1c7832955",
       "style": "IPY_MODEL_9c238c98777149d6828630c54fe793d0",
       "value": "100%"
      }
     },
     "0a25e599f1cb4570a66a0b41990917f8": {
      "model_module": "@jupyter-widgets/controls",
      "model_module_version": "1.5.0",
      "model_name": "HBoxModel",
      "state": {
       "children": [
        "IPY_MODEL_123ff0cb3c0e492a872554297b858b1a",
        "IPY_MODEL_89add9c1d7e34e3a8befe08c8ac60c2a",
        "IPY_MODEL_f114d5d764ae44dd96bd4e2b836457ca"
       ],
       "layout": "IPY_MODEL_9df06a7d63734d33892fe916f3963f72"
      }
     },
     "0a302604369b400ab853bfce3b9cac27": {
      "model_module": "@jupyter-widgets/controls",
      "model_module_version": "1.5.0",
      "model_name": "ProgressStyleModel",
      "state": {
       "description_width": ""
      }
     },
     "0a83768f1c29492e9bf82619077dd5f2": {
      "model_module": "@jupyter-widgets/controls",
      "model_module_version": "1.5.0",
      "model_name": "HTMLModel",
      "state": {
       "layout": "IPY_MODEL_66098de2b0e640f885b1aca0d5e0bc55",
       "style": "IPY_MODEL_1312ff0acbf344a18a746149ac711243",
       "value": "100%"
      }
     },
     "0acb8c63ba63410e8c3203bb6de057ea": {
      "model_module": "@jupyter-widgets/base",
      "model_module_version": "1.2.0",
      "model_name": "LayoutModel",
      "state": {}
     },
     "0b451ef79028414189307f6a62e6120d": {
      "model_module": "@jupyter-widgets/controls",
      "model_module_version": "1.5.0",
      "model_name": "HTMLModel",
      "state": {
       "layout": "IPY_MODEL_3333b3e8d50242efacacadab9b53cd4f",
       "style": "IPY_MODEL_3c127226385541bd8ff8518e64cda87a",
       "value": "100%"
      }
     },
     "0c185f9321574be5bee4690f6983decc": {
      "model_module": "@jupyter-widgets/base",
      "model_module_version": "1.2.0",
      "model_name": "LayoutModel",
      "state": {}
     },
     "0d4de5536b8545fbbda03849731f1c9c": {
      "model_module": "@jupyter-widgets/controls",
      "model_module_version": "1.5.0",
      "model_name": "FloatProgressModel",
      "state": {
       "bar_style": "success",
       "layout": "IPY_MODEL_e63876f1e6444e82b1ec4d9078417f54",
       "style": "IPY_MODEL_59b6d48fa5024f4b80d074a551327b93",
       "value": 100
      }
     },
     "0e3e1f56798c4e729321d07f044dcdf9": {
      "model_module": "@jupyter-widgets/controls",
      "model_module_version": "1.5.0",
      "model_name": "HTMLModel",
      "state": {
       "layout": "IPY_MODEL_4f8be1bddafb4e8ca09cdc360af2cffc",
       "style": "IPY_MODEL_00557ccf8e774a1faaea3b3472bd51c0",
       "value": "100%"
      }
     },
     "0e4844f11a7c4719ab2fd258ba041b9e": {
      "model_module": "@jupyter-widgets/controls",
      "model_module_version": "1.5.0",
      "model_name": "ProgressStyleModel",
      "state": {
       "description_width": ""
      }
     },
     "0e4b5d24bc5449d88d8242189fd778a3": {
      "model_module": "@jupyter-widgets/controls",
      "model_module_version": "1.5.0",
      "model_name": "FloatProgressModel",
      "state": {
       "bar_style": "success",
       "layout": "IPY_MODEL_d2c045e514eb4db083b5e2b19062b822",
       "style": "IPY_MODEL_989165f486824fa4ac7413dc6c9a5656",
       "value": 100
      }
     },
     "0ea2c7502639455a8c7e5b8a42084b69": {
      "model_module": "@jupyter-widgets/controls",
      "model_module_version": "1.5.0",
      "model_name": "HTMLModel",
      "state": {
       "layout": "IPY_MODEL_cf156d40ac134277a054f3d12ad55d85",
       "style": "IPY_MODEL_f5bcaed212834bd6af9b8a821252bab4",
       "value": " 100/100 [00:04&lt;00:00, 22.59it/s]"
      }
     },
     "0f361265dc60493e95684f27c9e24273": {
      "model_module": "@jupyter-widgets/controls",
      "model_module_version": "1.5.0",
      "model_name": "FloatProgressModel",
      "state": {
       "bar_style": "success",
       "layout": "IPY_MODEL_a10929972c3e45ce90d12687207cc200",
       "style": "IPY_MODEL_d2a93c5722a24140a536bce778e0544a",
       "value": 100
      }
     },
     "10a8f4ecd39e4f8db539fc8352eba097": {
      "model_module": "@jupyter-widgets/base",
      "model_module_version": "1.2.0",
      "model_name": "LayoutModel",
      "state": {}
     },
     "10c8f58bb80743da9c7c102f2df03752": {
      "model_module": "@jupyter-widgets/base",
      "model_module_version": "1.2.0",
      "model_name": "LayoutModel",
      "state": {}
     },
     "111bd32bbef048e3ae9927e8a27232c7": {
      "model_module": "@jupyter-widgets/controls",
      "model_module_version": "1.5.0",
      "model_name": "DescriptionStyleModel",
      "state": {
       "description_width": ""
      }
     },
     "1163c1e5cf6e42c7b8f7853dd32505c1": {
      "model_module": "@jupyter-widgets/controls",
      "model_module_version": "1.5.0",
      "model_name": "HTMLModel",
      "state": {
       "layout": "IPY_MODEL_e1f3753ea02b4b14bfd98ea728e7da46",
       "style": "IPY_MODEL_856e3bd3d2c542a6ba1571ecfb5f6586",
       "value": " 100/100 [00:01&lt;00:00, 52.40it/s]"
      }
     },
     "121a855fb02f4cdca581413d46029f1c": {
      "model_module": "@jupyter-widgets/controls",
      "model_module_version": "1.5.0",
      "model_name": "HBoxModel",
      "state": {
       "children": [
        "IPY_MODEL_a80c27d21e4e473a90b0deef623dbe74",
        "IPY_MODEL_c9763d7fdef545798b6a4d590b0eb080",
        "IPY_MODEL_da50744c66bf4e2ea0ef2889cdb0c7cb"
       ],
       "layout": "IPY_MODEL_193bd2512acb48fa804e59c4fce822ce"
      }
     },
     "123ff0cb3c0e492a872554297b858b1a": {
      "model_module": "@jupyter-widgets/controls",
      "model_module_version": "1.5.0",
      "model_name": "HTMLModel",
      "state": {
       "layout": "IPY_MODEL_ba4573a7f0ca4aee85e5868f69a3cc21",
       "style": "IPY_MODEL_6eeaccc478364763ad922b6220bb985c",
       "value": "100%"
      }
     },
     "12c51065a9a44321b8bd325228b15434": {
      "model_module": "@jupyter-widgets/controls",
      "model_module_version": "1.5.0",
      "model_name": "DescriptionStyleModel",
      "state": {
       "description_width": ""
      }
     },
     "12e53401a3b04a2cad8b110a4533ca63": {
      "model_module": "@jupyter-widgets/controls",
      "model_module_version": "1.5.0",
      "model_name": "ProgressStyleModel",
      "state": {
       "description_width": ""
      }
     },
     "1312ff0acbf344a18a746149ac711243": {
      "model_module": "@jupyter-widgets/controls",
      "model_module_version": "1.5.0",
      "model_name": "DescriptionStyleModel",
      "state": {
       "description_width": ""
      }
     },
     "13d6d1e17dbe4eb38687415091503f45": {
      "model_module": "@jupyter-widgets/base",
      "model_module_version": "1.2.0",
      "model_name": "LayoutModel",
      "state": {}
     },
     "144b486aaadd439ca6c0c0e2d0717d92": {
      "model_module": "@jupyter-widgets/controls",
      "model_module_version": "1.5.0",
      "model_name": "HTMLModel",
      "state": {
       "layout": "IPY_MODEL_1884b1ecb5bc4e51973f639f602ca2c3",
       "style": "IPY_MODEL_9c69d2817085490aa228ff81dc9bd0b2",
       "value": " 100/100 [00:01&lt;00:00, 59.81it/s]"
      }
     },
     "14cfca0d9f064c59be73e8f135ccf1fc": {
      "model_module": "@jupyter-widgets/base",
      "model_module_version": "1.2.0",
      "model_name": "LayoutModel",
      "state": {}
     },
     "14e7e8e89ea941f59797dec490ce2494": {
      "model_module": "@jupyter-widgets/base",
      "model_module_version": "1.2.0",
      "model_name": "LayoutModel",
      "state": {}
     },
     "15be43028565477b8b44cf5ace308282": {
      "model_module": "@jupyter-widgets/controls",
      "model_module_version": "1.5.0",
      "model_name": "HTMLModel",
      "state": {
       "layout": "IPY_MODEL_e0be3566450f4a398324ccc48da86c0f",
       "style": "IPY_MODEL_d8cfbc16be1b43e38693535795731a00",
       "value": " 100/100 [00:28&lt;00:00,  3.46it/s]"
      }
     },
     "16bbefc1337342ef96247b29c6265d4e": {
      "model_module": "@jupyter-widgets/controls",
      "model_module_version": "1.5.0",
      "model_name": "HBoxModel",
      "state": {
       "children": [
        "IPY_MODEL_a0fddf9d7f58477da69bbb391faa7c10",
        "IPY_MODEL_a83867493e93409da2cc1d311f176089",
        "IPY_MODEL_1163c1e5cf6e42c7b8f7853dd32505c1"
       ],
       "layout": "IPY_MODEL_76747eb189b84d66a44c21e32fa77f84"
      }
     },
     "16ef30de7218437e8cf665c1c79862a3": {
      "model_module": "@jupyter-widgets/controls",
      "model_module_version": "1.5.0",
      "model_name": "HTMLModel",
      "state": {
       "layout": "IPY_MODEL_39094666b5bb46889e6c6ac2e7e583da",
       "style": "IPY_MODEL_f2fe49c56867422599839868c215cb8e",
       "value": "100%"
      }
     },
     "179fa8cd748848cf82be6ab76f2cc847": {
      "model_module": "@jupyter-widgets/base",
      "model_module_version": "1.2.0",
      "model_name": "LayoutModel",
      "state": {}
     },
     "1884b1ecb5bc4e51973f639f602ca2c3": {
      "model_module": "@jupyter-widgets/base",
      "model_module_version": "1.2.0",
      "model_name": "LayoutModel",
      "state": {}
     },
     "18cc2be6cc324424a48f6945e678ba97": {
      "model_module": "@jupyter-widgets/base",
      "model_module_version": "1.2.0",
      "model_name": "LayoutModel",
      "state": {}
     },
     "193bd2512acb48fa804e59c4fce822ce": {
      "model_module": "@jupyter-widgets/base",
      "model_module_version": "1.2.0",
      "model_name": "LayoutModel",
      "state": {}
     },
     "1970be524f2f4dba98b6750dad19a823": {
      "model_module": "@jupyter-widgets/base",
      "model_module_version": "1.2.0",
      "model_name": "LayoutModel",
      "state": {}
     },
     "1974fda30a8a4230be7d7877e6b0aac5": {
      "model_module": "@jupyter-widgets/base",
      "model_module_version": "1.2.0",
      "model_name": "LayoutModel",
      "state": {}
     },
     "19e8c38bfe3442e0bc158e816f67ac0d": {
      "model_module": "@jupyter-widgets/base",
      "model_module_version": "1.2.0",
      "model_name": "LayoutModel",
      "state": {}
     },
     "1ad212aaeeee4c40bfd19b5d08d378af": {
      "model_module": "@jupyter-widgets/controls",
      "model_module_version": "1.5.0",
      "model_name": "HBoxModel",
      "state": {
       "children": [
        "IPY_MODEL_f1ade9d8ca6b463699ea9e1ebce4ee24",
        "IPY_MODEL_fd15bb120b484487854c37257131685e",
        "IPY_MODEL_fe6a32314af546b5849cedd9319f4f52"
       ],
       "layout": "IPY_MODEL_c5051ca21c354d6f9c8baf73bea9f929"
      }
     },
     "1bbe25556e394ef68937acf957357b5b": {
      "model_module": "@jupyter-widgets/base",
      "model_module_version": "1.2.0",
      "model_name": "LayoutModel",
      "state": {}
     },
     "1c0ee2c0940c4d2e9e9acdb4868e9882": {
      "model_module": "@jupyter-widgets/controls",
      "model_module_version": "1.5.0",
      "model_name": "HTMLModel",
      "state": {
       "layout": "IPY_MODEL_039ed36c51ba476aa15487ab87c1eae5",
       "style": "IPY_MODEL_7f5163182be741bd9eee6f5ca3e5c137",
       "value": " 100/100 [00:01&lt;00:00, 51.60it/s]"
      }
     },
     "1cbd9c92c49b42a6861cf5fa7a9ad47a": {
      "model_module": "@jupyter-widgets/base",
      "model_module_version": "1.2.0",
      "model_name": "LayoutModel",
      "state": {}
     },
     "1d00402043504bb08f36dce7a646ec5d": {
      "model_module": "@jupyter-widgets/base",
      "model_module_version": "1.2.0",
      "model_name": "LayoutModel",
      "state": {}
     },
     "1dfb8c76f68a4db6b2978079db8e93c8": {
      "model_module": "@jupyter-widgets/controls",
      "model_module_version": "1.5.0",
      "model_name": "HTMLModel",
      "state": {
       "layout": "IPY_MODEL_9236c59fb2a243bbae21ab6d31ed892b",
       "style": "IPY_MODEL_95f76966efe349cfb236a48903a89b2d",
       "value": "100%"
      }
     },
     "1e2b23d40b354fb2a23454ff0041369f": {
      "model_module": "@jupyter-widgets/controls",
      "model_module_version": "1.5.0",
      "model_name": "ProgressStyleModel",
      "state": {
       "description_width": ""
      }
     },
     "1e6cc2ee5eff405c95b22d011eeb1741": {
      "model_module": "@jupyter-widgets/controls",
      "model_module_version": "1.5.0",
      "model_name": "HTMLModel",
      "state": {
       "layout": "IPY_MODEL_f0d3e44c21284e289dbddfe39afa262a",
       "style": "IPY_MODEL_85d6616c46a14688b362400242da6438",
       "value": " 100/100 [00:01&lt;00:00, 52.50it/s]"
      }
     },
     "1e96ff7bad214394b57187e6004202d0": {
      "model_module": "@jupyter-widgets/controls",
      "model_module_version": "1.5.0",
      "model_name": "FloatProgressModel",
      "state": {
       "bar_style": "success",
       "layout": "IPY_MODEL_6e13f0b89fe54f40b3c4fcc8b8f40563",
       "style": "IPY_MODEL_c88140822f354d9cbe3cb455df899b72",
       "value": 100
      }
     },
     "1eb6d94e7e9c4c45af49a64fe5c0e3ef": {
      "model_module": "@jupyter-widgets/controls",
      "model_module_version": "1.5.0",
      "model_name": "HTMLModel",
      "state": {
       "layout": "IPY_MODEL_4a9e1b3cac9c47988bd187ec90ea685d",
       "style": "IPY_MODEL_d4c54a97358f42ffa5ba0ed6cd891c9a",
       "value": " 100/100 [00:01&lt;00:00, 51.64it/s]"
      }
     },
     "1f102dfec51b4501a82ea0081f0bd5e3": {
      "model_module": "@jupyter-widgets/controls",
      "model_module_version": "1.5.0",
      "model_name": "DescriptionStyleModel",
      "state": {
       "description_width": ""
      }
     },
     "1f9b700199ad4d32acdbf9690d1a1c08": {
      "model_module": "@jupyter-widgets/base",
      "model_module_version": "1.2.0",
      "model_name": "LayoutModel",
      "state": {}
     },
     "1fa2e437a4e043eaa6711ae37e470608": {
      "model_module": "@jupyter-widgets/controls",
      "model_module_version": "1.5.0",
      "model_name": "HBoxModel",
      "state": {
       "children": [
        "IPY_MODEL_ef024606ffe543248d9bafddb1a863a2",
        "IPY_MODEL_257c59dadbe3499ca3745f758edc7676",
        "IPY_MODEL_1e6cc2ee5eff405c95b22d011eeb1741"
       ],
       "layout": "IPY_MODEL_928d124000ea49b0a4c66c6f49f0cce8"
      }
     },
     "1fbab83cb4274789af3587f22eac452d": {
      "model_module": "@jupyter-widgets/controls",
      "model_module_version": "1.5.0",
      "model_name": "HTMLModel",
      "state": {
       "layout": "IPY_MODEL_964ed23ccfd8475491b166df39ffc9da",
       "style": "IPY_MODEL_8fc7593925a84181b7f0cc9b505450ad",
       "value": " 100/100 [2:19:39&lt;00:00, 83.79s/it]"
      }
     },
     "1fd6547f262a4846a498a1ac7a56adfb": {
      "model_module": "@jupyter-widgets/controls",
      "model_module_version": "1.5.0",
      "model_name": "DescriptionStyleModel",
      "state": {
       "description_width": ""
      }
     },
     "2023539543db4108af29b95c75644de4": {
      "model_module": "@jupyter-widgets/base",
      "model_module_version": "1.2.0",
      "model_name": "LayoutModel",
      "state": {}
     },
     "209b38960e72467386269e247eafd551": {
      "model_module": "@jupyter-widgets/controls",
      "model_module_version": "1.5.0",
      "model_name": "HBoxModel",
      "state": {
       "children": [
        "IPY_MODEL_3766611cc0fd4882a37c0ae2e7e513f1",
        "IPY_MODEL_1e96ff7bad214394b57187e6004202d0",
        "IPY_MODEL_820e4336adca47b6a87798961f6bf475"
       ],
       "layout": "IPY_MODEL_89c8091236ed40ed8bd57d951c15ac24"
      }
     },
     "20a6edbc31694e9e9c5be13cad020d36": {
      "model_module": "@jupyter-widgets/controls",
      "model_module_version": "1.5.0",
      "model_name": "ProgressStyleModel",
      "state": {
       "description_width": ""
      }
     },
     "20cd819434764820834c4b6af2143741": {
      "model_module": "@jupyter-widgets/base",
      "model_module_version": "1.2.0",
      "model_name": "LayoutModel",
      "state": {}
     },
     "211db7eb437c4c50a00516e5e5a6c99a": {
      "model_module": "@jupyter-widgets/controls",
      "model_module_version": "1.5.0",
      "model_name": "DescriptionStyleModel",
      "state": {
       "description_width": ""
      }
     },
     "21dc675fe7ed43f4b296369470aa437b": {
      "model_module": "@jupyter-widgets/base",
      "model_module_version": "1.2.0",
      "model_name": "LayoutModel",
      "state": {}
     },
     "222726face3d4d2d8c176503e2eb11e4": {
      "model_module": "@jupyter-widgets/controls",
      "model_module_version": "1.5.0",
      "model_name": "HTMLModel",
      "state": {
       "layout": "IPY_MODEL_d2e856d99602427989a612608934f7e2",
       "style": "IPY_MODEL_6d3ea7cc32e44ea0bf6d70b2f6d3c862",
       "value": "100%"
      }
     },
     "222ad7898c3740269e665d195a21d998": {
      "model_module": "@jupyter-widgets/controls",
      "model_module_version": "1.5.0",
      "model_name": "HBoxModel",
      "state": {
       "children": [
        "IPY_MODEL_38777367a77048618d57091792ab4774",
        "IPY_MODEL_40f2cd0dbb25445da1f6bb3387e3be9b",
        "IPY_MODEL_144b486aaadd439ca6c0c0e2d0717d92"
       ],
       "layout": "IPY_MODEL_056763e821924de4b609cbeeb995042f"
      }
     },
     "22b377d764e94b229e7f2743fe42dd66": {
      "model_module": "@jupyter-widgets/base",
      "model_module_version": "1.2.0",
      "model_name": "LayoutModel",
      "state": {}
     },
     "231e569acae84c3eac3c5842f2655b09": {
      "model_module": "@jupyter-widgets/controls",
      "model_module_version": "1.5.0",
      "model_name": "DescriptionStyleModel",
      "state": {
       "description_width": ""
      }
     },
     "23c011d2806d48edac61f67d6a1de3ea": {
      "model_module": "@jupyter-widgets/controls",
      "model_module_version": "1.5.0",
      "model_name": "HBoxModel",
      "state": {
       "children": [
        "IPY_MODEL_0a83768f1c29492e9bf82619077dd5f2",
        "IPY_MODEL_6da4d778fc704bf8a147c84d4b914e56",
        "IPY_MODEL_cb3af7b408c8455a8b9fc2c977b75e0d"
       ],
       "layout": "IPY_MODEL_4f55c58eb8934b9da23d5126e8f13800"
      }
     },
     "23cb64e4b4054c069610514e16ba81cd": {
      "model_module": "@jupyter-widgets/controls",
      "model_module_version": "1.5.0",
      "model_name": "HTMLModel",
      "state": {
       "layout": "IPY_MODEL_be04bcabee4b44358bc63f5a9bf142e6",
       "style": "IPY_MODEL_4c78e0cc024241e586c3be384846a0c5",
       "value": "100%"
      }
     },
     "23d9095b006146d08f9aedda097f955b": {
      "model_module": "@jupyter-widgets/controls",
      "model_module_version": "1.5.0",
      "model_name": "DescriptionStyleModel",
      "state": {
       "description_width": ""
      }
     },
     "2499c2187a0342a4a2a03586aa074363": {
      "model_module": "@jupyter-widgets/base",
      "model_module_version": "1.2.0",
      "model_name": "LayoutModel",
      "state": {}
     },
     "251e2de53a864f55a6ca70bbef97aa69": {
      "model_module": "@jupyter-widgets/controls",
      "model_module_version": "1.5.0",
      "model_name": "HBoxModel",
      "state": {
       "children": [
        "IPY_MODEL_073f5c1731674941abb90fd5b51628b5",
        "IPY_MODEL_36c46eef5e554b7f94f29e84f057e31d",
        "IPY_MODEL_a541b153cf6845939b776ca1986d8035"
       ],
       "layout": "IPY_MODEL_3918c1085d8f44f09615c224be6cd9f0"
      }
     },
     "257c59dadbe3499ca3745f758edc7676": {
      "model_module": "@jupyter-widgets/controls",
      "model_module_version": "1.5.0",
      "model_name": "FloatProgressModel",
      "state": {
       "bar_style": "success",
       "layout": "IPY_MODEL_f30176c527b144ac9ffc74b156c506ed",
       "style": "IPY_MODEL_3bf6c5a9979c4154a09e323a7e367a1d",
       "value": 100
      }
     },
     "259ad52d6fc24070ae3bab7efacd67de": {
      "model_module": "@jupyter-widgets/controls",
      "model_module_version": "1.5.0",
      "model_name": "DescriptionStyleModel",
      "state": {
       "description_width": ""
      }
     },
     "26b5b75b1e0a453484c26ef4d422a4f7": {
      "model_module": "@jupyter-widgets/base",
      "model_module_version": "1.2.0",
      "model_name": "LayoutModel",
      "state": {}
     },
     "26befa39c46a446a8e1f1d239b7eb4ad": {
      "model_module": "@jupyter-widgets/controls",
      "model_module_version": "1.5.0",
      "model_name": "DescriptionStyleModel",
      "state": {
       "description_width": ""
      }
     },
     "279af155ac8148ee80e1448fb7b1ab99": {
      "model_module": "@jupyter-widgets/controls",
      "model_module_version": "1.5.0",
      "model_name": "FloatProgressModel",
      "state": {
       "bar_style": "success",
       "layout": "IPY_MODEL_18cc2be6cc324424a48f6945e678ba97",
       "style": "IPY_MODEL_fb0eba7008614a2eb1d2da7484030193",
       "value": 100
      }
     },
     "28ae8338204f4f22bde1a7220f97f15e": {
      "model_module": "@jupyter-widgets/base",
      "model_module_version": "1.2.0",
      "model_name": "LayoutModel",
      "state": {}
     },
     "28fe511d8e904dba9f3e9665a99699bb": {
      "model_module": "@jupyter-widgets/controls",
      "model_module_version": "1.5.0",
      "model_name": "HBoxModel",
      "state": {
       "children": [
        "IPY_MODEL_a06601cf83a0485685cb84e688fdbb43",
        "IPY_MODEL_aa12fd58d3fb463a96a392e5d8f62128",
        "IPY_MODEL_4060f610f6d64cc7a89de3843f7e123a"
       ],
       "layout": "IPY_MODEL_10c8f58bb80743da9c7c102f2df03752"
      }
     },
     "293e749e9db74a5e9f52ecfa09a556c0": {
      "model_module": "@jupyter-widgets/base",
      "model_module_version": "1.2.0",
      "model_name": "LayoutModel",
      "state": {}
     },
     "2a76c500340244c9a56b22fc86f53cee": {
      "model_module": "@jupyter-widgets/controls",
      "model_module_version": "1.5.0",
      "model_name": "DescriptionStyleModel",
      "state": {
       "description_width": ""
      }
     },
     "2ae4550a734045299ef62f99c75dbd1c": {
      "model_module": "@jupyter-widgets/controls",
      "model_module_version": "1.5.0",
      "model_name": "DescriptionStyleModel",
      "state": {
       "description_width": ""
      }
     },
     "2b308fb5bfd3448fb9dbb8fda2ea8ec9": {
      "model_module": "@jupyter-widgets/base",
      "model_module_version": "1.2.0",
      "model_name": "LayoutModel",
      "state": {}
     },
     "2b594fe4c89f4d93a3281e4176706b3d": {
      "model_module": "@jupyter-widgets/controls",
      "model_module_version": "1.5.0",
      "model_name": "HBoxModel",
      "state": {
       "children": [
        "IPY_MODEL_c5d7d9afcb9243c78201d9f82707a05c",
        "IPY_MODEL_f980d9ea172a4b61b77ede5c4c7efdc4",
        "IPY_MODEL_8dcb97ceb11241f29e662440af198cc1"
       ],
       "layout": "IPY_MODEL_efa3dedf6cbf452bb1259a88cbf2b0f9"
      }
     },
     "2b60b4a5bc2f4a5da91e038c8292afa9": {
      "model_module": "@jupyter-widgets/controls",
      "model_module_version": "1.5.0",
      "model_name": "DescriptionStyleModel",
      "state": {
       "description_width": ""
      }
     },
     "2bbb2d5ec1114949800654448bad3b4a": {
      "model_module": "@jupyter-widgets/base",
      "model_module_version": "1.2.0",
      "model_name": "LayoutModel",
      "state": {}
     },
     "2be7c1fe7a1546839830f0e96ce4861d": {
      "model_module": "@jupyter-widgets/controls",
      "model_module_version": "1.5.0",
      "model_name": "DescriptionStyleModel",
      "state": {
       "description_width": ""
      }
     },
     "2c903772f0404527ba675e4863cd47b5": {
      "model_module": "@jupyter-widgets/base",
      "model_module_version": "1.2.0",
      "model_name": "LayoutModel",
      "state": {}
     },
     "2d08be385d16453e831dd772fe93b3cf": {
      "model_module": "@jupyter-widgets/controls",
      "model_module_version": "1.5.0",
      "model_name": "HTMLModel",
      "state": {
       "layout": "IPY_MODEL_8372f6e235cd4b248f9e8a215382c5b9",
       "style": "IPY_MODEL_aa0eba1ae1a24f83a780dc3977dbe4d8",
       "value": " 100/100 [00:01&lt;00:00, 51.57it/s]"
      }
     },
     "2d72f376a09347279168bc83512c26b4": {
      "model_module": "@jupyter-widgets/base",
      "model_module_version": "1.2.0",
      "model_name": "LayoutModel",
      "state": {}
     },
     "2d77f01338344873a2ed460bc3d76c95": {
      "model_module": "@jupyter-widgets/controls",
      "model_module_version": "1.5.0",
      "model_name": "HTMLModel",
      "state": {
       "layout": "IPY_MODEL_e61247bf5c114f138cc079c86bee2b51",
       "style": "IPY_MODEL_cfa061ed11764ad2a5a5294dfdd5cafc",
       "value": "100%"
      }
     },
     "2d8239f7c5dd4f2f935d5627067b92ad": {
      "model_module": "@jupyter-widgets/base",
      "model_module_version": "1.2.0",
      "model_name": "LayoutModel",
      "state": {}
     },
     "2da2898c986c4df1a900a4608fdca3f8": {
      "model_module": "@jupyter-widgets/controls",
      "model_module_version": "1.5.0",
      "model_name": "DescriptionStyleModel",
      "state": {
       "description_width": ""
      }
     },
     "31545047053f48f382c9125450bdbf5f": {
      "model_module": "@jupyter-widgets/controls",
      "model_module_version": "1.5.0",
      "model_name": "HBoxModel",
      "state": {
       "children": [
        "IPY_MODEL_9936711c718e45018ac3f00cd20f2146",
        "IPY_MODEL_fd5abc0826484de5a6cc8172b40fac3d",
        "IPY_MODEL_a074cd83527d426ba354b00b85128a3a"
       ],
       "layout": "IPY_MODEL_a9f1dbe5b9594d23a34b4aad49f7d646"
      }
     },
     "317a645d59d24fd7a6f6136b8e8fc672": {
      "model_module": "@jupyter-widgets/base",
      "model_module_version": "1.2.0",
      "model_name": "LayoutModel",
      "state": {}
     },
     "3208e5c0bdfb407fb8dc155be2bd7386": {
      "model_module": "@jupyter-widgets/controls",
      "model_module_version": "1.5.0",
      "model_name": "FloatProgressModel",
      "state": {
       "bar_style": "success",
       "layout": "IPY_MODEL_aeaf2bef14174d21925b7d07032df060",
       "style": "IPY_MODEL_ca69cc973821480bb8dc5b253cae818a",
       "value": 100
      }
     },
     "323bb682175c4cb5a781f7d0f9528a18": {
      "model_module": "@jupyter-widgets/controls",
      "model_module_version": "1.5.0",
      "model_name": "HBoxModel",
      "state": {
       "children": [
        "IPY_MODEL_0b451ef79028414189307f6a62e6120d",
        "IPY_MODEL_b450da59d76c43ecb33b0eec4ba09e03",
        "IPY_MODEL_8122c117a3e5439b8245cab4958ad4b5"
       ],
       "layout": "IPY_MODEL_d76ee5056db14b75b9a870ac2172ab4b"
      }
     },
     "3333b3e8d50242efacacadab9b53cd4f": {
      "model_module": "@jupyter-widgets/base",
      "model_module_version": "1.2.0",
      "model_name": "LayoutModel",
      "state": {}
     },
     "33a7faecb7f4439aa6d98be997c17e55": {
      "model_module": "@jupyter-widgets/base",
      "model_module_version": "1.2.0",
      "model_name": "LayoutModel",
      "state": {}
     },
     "33a9512e20394decb8c1a24398093475": {
      "model_module": "@jupyter-widgets/controls",
      "model_module_version": "1.5.0",
      "model_name": "HBoxModel",
      "state": {
       "children": [
        "IPY_MODEL_73d3b6baf08048d59299e6a914403ae3",
        "IPY_MODEL_7ba219e3675644949b83fd9832cc0c37",
        "IPY_MODEL_8c04eb93b83d40d3844d5df1d148c72e"
       ],
       "layout": "IPY_MODEL_74e3972642214e3bb8e035344aef10a5"
      }
     },
     "35706caaa7b54325835db4e09a4822d8": {
      "model_module": "@jupyter-widgets/base",
      "model_module_version": "1.2.0",
      "model_name": "LayoutModel",
      "state": {}
     },
     "360a4bcd04224f88b6f88f587c6cc735": {
      "model_module": "@jupyter-widgets/base",
      "model_module_version": "1.2.0",
      "model_name": "LayoutModel",
      "state": {}
     },
     "369157eaf95f404a8ae0adfb4456514b": {
      "model_module": "@jupyter-widgets/base",
      "model_module_version": "1.2.0",
      "model_name": "LayoutModel",
      "state": {}
     },
     "36a2a79bf40045d8b0749f38943b268d": {
      "model_module": "@jupyter-widgets/base",
      "model_module_version": "1.2.0",
      "model_name": "LayoutModel",
      "state": {}
     },
     "36c46eef5e554b7f94f29e84f057e31d": {
      "model_module": "@jupyter-widgets/controls",
      "model_module_version": "1.5.0",
      "model_name": "FloatProgressModel",
      "state": {
       "bar_style": "success",
       "layout": "IPY_MODEL_13d6d1e17dbe4eb38687415091503f45",
       "style": "IPY_MODEL_79d41fa129f44e3fa9506f13f634b1f3",
       "value": 100
      }
     },
     "3766611cc0fd4882a37c0ae2e7e513f1": {
      "model_module": "@jupyter-widgets/controls",
      "model_module_version": "1.5.0",
      "model_name": "HTMLModel",
      "state": {
       "layout": "IPY_MODEL_9d919a66e64a463185b179a5091c22c1",
       "style": "IPY_MODEL_2da2898c986c4df1a900a4608fdca3f8",
       "value": "100%"
      }
     },
     "37676723861949dc92186903c0d05de8": {
      "model_module": "@jupyter-widgets/base",
      "model_module_version": "1.2.0",
      "model_name": "LayoutModel",
      "state": {}
     },
     "38777367a77048618d57091792ab4774": {
      "model_module": "@jupyter-widgets/controls",
      "model_module_version": "1.5.0",
      "model_name": "HTMLModel",
      "state": {
       "layout": "IPY_MODEL_2c903772f0404527ba675e4863cd47b5",
       "style": "IPY_MODEL_12c51065a9a44321b8bd325228b15434",
       "value": "100%"
      }
     },
     "38f3ed98937f474094c6005325ba4606": {
      "model_module": "@jupyter-widgets/base",
      "model_module_version": "1.2.0",
      "model_name": "LayoutModel",
      "state": {}
     },
     "39094666b5bb46889e6c6ac2e7e583da": {
      "model_module": "@jupyter-widgets/base",
      "model_module_version": "1.2.0",
      "model_name": "LayoutModel",
      "state": {}
     },
     "3918c1085d8f44f09615c224be6cd9f0": {
      "model_module": "@jupyter-widgets/base",
      "model_module_version": "1.2.0",
      "model_name": "LayoutModel",
      "state": {}
     },
     "39b9b89356544d8fae5138db03c8a75f": {
      "model_module": "@jupyter-widgets/base",
      "model_module_version": "1.2.0",
      "model_name": "LayoutModel",
      "state": {}
     },
     "39d4fce5203e4ee0bd89de4f52303bcf": {
      "model_module": "@jupyter-widgets/base",
      "model_module_version": "1.2.0",
      "model_name": "LayoutModel",
      "state": {}
     },
     "3a220b2789834a08ad5d8404152ea176": {
      "model_module": "@jupyter-widgets/controls",
      "model_module_version": "1.5.0",
      "model_name": "HTMLModel",
      "state": {
       "layout": "IPY_MODEL_fe69e8903bed4999a989d2a5cfc611a1",
       "style": "IPY_MODEL_413c977c1aae482e8fdeb59f486f1bf0",
       "value": " 100/100 [00:01&lt;00:00, 51.60it/s]"
      }
     },
     "3acfe0ed807049ddb76089cadda2ebd0": {
      "model_module": "@jupyter-widgets/controls",
      "model_module_version": "1.5.0",
      "model_name": "FloatProgressModel",
      "state": {
       "bar_style": "success",
       "layout": "IPY_MODEL_d58e355777c94fec814a91d1ea1648f4",
       "style": "IPY_MODEL_8ae04d2da4954fa98e59b179fca77a37",
       "value": 100
      }
     },
     "3af1520b7cc04866ab33a29b3b56ea49": {
      "model_module": "@jupyter-widgets/base",
      "model_module_version": "1.2.0",
      "model_name": "LayoutModel",
      "state": {}
     },
     "3b5a39babbb94b1bbeff9f75612a3987": {
      "model_module": "@jupyter-widgets/controls",
      "model_module_version": "1.5.0",
      "model_name": "HBoxModel",
      "state": {
       "children": [
        "IPY_MODEL_08ccca541f7b48b68103e4a7771d2d9d",
        "IPY_MODEL_afc8124370b7472588d32bf27c2d51fa",
        "IPY_MODEL_41557d99ef5845729ea745a8e0008489"
       ],
       "layout": "IPY_MODEL_ac58a12ac71b455f865c049467327de4"
      }
     },
     "3bb8e37289da45e3b25638bb71539745": {
      "model_module": "@jupyter-widgets/base",
      "model_module_version": "1.2.0",
      "model_name": "LayoutModel",
      "state": {}
     },
     "3bc0ad142cd5405ca28471fd9f9330d9": {
      "model_module": "@jupyter-widgets/controls",
      "model_module_version": "1.5.0",
      "model_name": "FloatProgressModel",
      "state": {
       "bar_style": "success",
       "layout": "IPY_MODEL_19e8c38bfe3442e0bc158e816f67ac0d",
       "style": "IPY_MODEL_a39515a358e74ea9aadc23f987f8995b",
       "value": 100
      }
     },
     "3bf6c5a9979c4154a09e323a7e367a1d": {
      "model_module": "@jupyter-widgets/controls",
      "model_module_version": "1.5.0",
      "model_name": "ProgressStyleModel",
      "state": {
       "description_width": ""
      }
     },
     "3c127226385541bd8ff8518e64cda87a": {
      "model_module": "@jupyter-widgets/controls",
      "model_module_version": "1.5.0",
      "model_name": "DescriptionStyleModel",
      "state": {
       "description_width": ""
      }
     },
     "3d54efce805343d0b05491acfdbd9db9": {
      "model_module": "@jupyter-widgets/base",
      "model_module_version": "1.2.0",
      "model_name": "LayoutModel",
      "state": {}
     },
     "3e61bc62a0d94883863816c3a4ec9c9b": {
      "model_module": "@jupyter-widgets/base",
      "model_module_version": "1.2.0",
      "model_name": "LayoutModel",
      "state": {}
     },
     "3ea2cb88906445cf9d9a55f51e827fc3": {
      "model_module": "@jupyter-widgets/controls",
      "model_module_version": "1.5.0",
      "model_name": "HTMLModel",
      "state": {
       "layout": "IPY_MODEL_a0bafb432cbe4decb10fefc39cff86cd",
       "style": "IPY_MODEL_515ae1e97a8b49c58891bf20509f21d1",
       "value": " 100/100 [00:03&lt;00:00, 31.57it/s]"
      }
     },
     "3eac8697a1d64988a77bba136c1a30f6": {
      "model_module": "@jupyter-widgets/base",
      "model_module_version": "1.2.0",
      "model_name": "LayoutModel",
      "state": {}
     },
     "3f806f23a13f499f8e674f5a5133039c": {
      "model_module": "@jupyter-widgets/controls",
      "model_module_version": "1.5.0",
      "model_name": "HBoxModel",
      "state": {
       "children": [
        "IPY_MODEL_c12f16f81a4641688756509a55da1ae2",
        "IPY_MODEL_5206b4bb36474965a2080cc833f13df8",
        "IPY_MODEL_fa4529a3f13848059e0daf7ca080eee8"
       ],
       "layout": "IPY_MODEL_dee7081fbbae4eabb15fec38f93663b7"
      }
     },
     "3f912d286f1e4acc82cdf54b1c361c66": {
      "model_module": "@jupyter-widgets/controls",
      "model_module_version": "1.5.0",
      "model_name": "HTMLModel",
      "state": {
       "layout": "IPY_MODEL_293e749e9db74a5e9f52ecfa09a556c0",
       "style": "IPY_MODEL_40b2018b0cf54daaa601a01f4ec71ebe",
       "value": " 100/100 [2:22:52&lt;00:00, 85.72s/it]"
      }
     },
     "3f94352ceabc4b5593e69d39a39eab74": {
      "model_module": "@jupyter-widgets/controls",
      "model_module_version": "1.5.0",
      "model_name": "HBoxModel",
      "state": {
       "children": [
        "IPY_MODEL_222726face3d4d2d8c176503e2eb11e4",
        "IPY_MODEL_afb8bddf19d148af9195a31a9a3866c2",
        "IPY_MODEL_1c0ee2c0940c4d2e9e9acdb4868e9882"
       ],
       "layout": "IPY_MODEL_f01af6883f1640b2be2ae7cf3e2f6198"
      }
     },
     "3fa86f08870f44a4932ada967cfc5d4b": {
      "model_module": "@jupyter-widgets/controls",
      "model_module_version": "1.5.0",
      "model_name": "DescriptionStyleModel",
      "state": {
       "description_width": ""
      }
     },
     "4060f610f6d64cc7a89de3843f7e123a": {
      "model_module": "@jupyter-widgets/controls",
      "model_module_version": "1.5.0",
      "model_name": "HTMLModel",
      "state": {
       "layout": "IPY_MODEL_2499c2187a0342a4a2a03586aa074363",
       "style": "IPY_MODEL_af19140e64a249db8129a70d29a1d590",
       "value": " 100/100 [00:05&lt;00:00, 18.81it/s]"
      }
     },
     "40b2018b0cf54daaa601a01f4ec71ebe": {
      "model_module": "@jupyter-widgets/controls",
      "model_module_version": "1.5.0",
      "model_name": "DescriptionStyleModel",
      "state": {
       "description_width": ""
      }
     },
     "40c8c218ed7c46d6bcdd3e0c6bf067a7": {
      "model_module": "@jupyter-widgets/controls",
      "model_module_version": "1.5.0",
      "model_name": "FloatProgressModel",
      "state": {
       "bar_style": "success",
       "layout": "IPY_MODEL_35706caaa7b54325835db4e09a4822d8",
       "style": "IPY_MODEL_a71f3e00984740fb938c170e6fd6bcdf",
       "value": 100
      }
     },
     "40f2cd0dbb25445da1f6bb3387e3be9b": {
      "model_module": "@jupyter-widgets/controls",
      "model_module_version": "1.5.0",
      "model_name": "FloatProgressModel",
      "state": {
       "bar_style": "success",
       "layout": "IPY_MODEL_1f9b700199ad4d32acdbf9690d1a1c08",
       "style": "IPY_MODEL_4e43cb4555a545509119958e74cb3c79",
       "value": 100
      }
     },
     "40fcf9777da64d19a836176b4706edfd": {
      "model_module": "@jupyter-widgets/base",
      "model_module_version": "1.2.0",
      "model_name": "LayoutModel",
      "state": {}
     },
     "413c977c1aae482e8fdeb59f486f1bf0": {
      "model_module": "@jupyter-widgets/controls",
      "model_module_version": "1.5.0",
      "model_name": "DescriptionStyleModel",
      "state": {
       "description_width": ""
      }
     },
     "41557d99ef5845729ea745a8e0008489": {
      "model_module": "@jupyter-widgets/controls",
      "model_module_version": "1.5.0",
      "model_name": "HTMLModel",
      "state": {
       "layout": "IPY_MODEL_5365a34165c0449f93d944da550ff2ee",
       "style": "IPY_MODEL_fea8879e577c4461b4ba168fcccf7d4b",
       "value": " 100/100 [00:03&lt;00:00, 27.26it/s]"
      }
     },
     "415d61970fa9481c95ec878be1042030": {
      "model_module": "@jupyter-widgets/controls",
      "model_module_version": "1.5.0",
      "model_name": "ProgressStyleModel",
      "state": {
       "description_width": ""
      }
     },
     "4204d8a5071f4e6ea7443c1a6423e20d": {
      "model_module": "@jupyter-widgets/base",
      "model_module_version": "1.2.0",
      "model_name": "LayoutModel",
      "state": {}
     },
     "43cc684540624728b18d51b10d4f0594": {
      "model_module": "@jupyter-widgets/base",
      "model_module_version": "1.2.0",
      "model_name": "LayoutModel",
      "state": {}
     },
     "449ef78aa3e949b7a7ed5e47974e4df5": {
      "model_module": "@jupyter-widgets/base",
      "model_module_version": "1.2.0",
      "model_name": "LayoutModel",
      "state": {}
     },
     "44cb3f1f2d45432dbca17b7bf835b9d3": {
      "model_module": "@jupyter-widgets/controls",
      "model_module_version": "1.5.0",
      "model_name": "FloatProgressModel",
      "state": {
       "bar_style": "success",
       "layout": "IPY_MODEL_39b9b89356544d8fae5138db03c8a75f",
       "style": "IPY_MODEL_20a6edbc31694e9e9c5be13cad020d36",
       "value": 100
      }
     },
     "44d6fbf39bcd43aaa888d3bc6c604a42": {
      "model_module": "@jupyter-widgets/controls",
      "model_module_version": "1.5.0",
      "model_name": "FloatProgressModel",
      "state": {
       "bar_style": "success",
       "layout": "IPY_MODEL_01408f2f4f254681bd98aacc0019046d",
       "style": "IPY_MODEL_519437564a0144e093dda341f154ff0d",
       "value": 100
      }
     },
     "44e22f4f187e4347ba013b9257d574c9": {
      "model_module": "@jupyter-widgets/controls",
      "model_module_version": "1.5.0",
      "model_name": "ProgressStyleModel",
      "state": {
       "description_width": ""
      }
     },
     "455393161efd4244a5753333aef9c979": {
      "model_module": "@jupyter-widgets/controls",
      "model_module_version": "1.5.0",
      "model_name": "ProgressStyleModel",
      "state": {
       "description_width": ""
      }
     },
     "478d578da5184e82bac87e285f907010": {
      "model_module": "@jupyter-widgets/controls",
      "model_module_version": "1.5.0",
      "model_name": "HTMLModel",
      "state": {
       "layout": "IPY_MODEL_eb3837fcbe1443198da3c669dd7a42df",
       "style": "IPY_MODEL_9938880e453e47c295d82db5161c3a3b",
       "value": " 100/100 [00:47&lt;00:00,  2.09it/s]"
      }
     },
     "479ad9955bf34b098e8fcee91a8b47c8": {
      "model_module": "@jupyter-widgets/controls",
      "model_module_version": "1.5.0",
      "model_name": "DescriptionStyleModel",
      "state": {
       "description_width": ""
      }
     },
     "48181e8d87bc4a3c855353cdcbc1f7f7": {
      "model_module": "@jupyter-widgets/controls",
      "model_module_version": "1.5.0",
      "model_name": "HTMLModel",
      "state": {
       "layout": "IPY_MODEL_8f1aeff3a0a541118f84f5822265daef",
       "style": "IPY_MODEL_6f9b51fd1e294b74bb4a1b03151a2a1f",
       "value": " 100/100 [00:03&lt;00:00, 30.60it/s]"
      }
     },
     "4a222903567e4a4cb3f3ecd5ca755744": {
      "model_module": "@jupyter-widgets/controls",
      "model_module_version": "1.5.0",
      "model_name": "HBoxModel",
      "state": {
       "children": [
        "IPY_MODEL_d1c228dbcd064c7ba607e77b7b72650e",
        "IPY_MODEL_0d4de5536b8545fbbda03849731f1c9c",
        "IPY_MODEL_4c8ffc4b78db4c13a095c10e5114edd4"
       ],
       "layout": "IPY_MODEL_b7856d77c03b4d7a84b873ae5c154ec8"
      }
     },
     "4a9e1b3cac9c47988bd187ec90ea685d": {
      "model_module": "@jupyter-widgets/base",
      "model_module_version": "1.2.0",
      "model_name": "LayoutModel",
      "state": {}
     },
     "4b164c51c2e1479fae9ef0620e2ad53e": {
      "model_module": "@jupyter-widgets/controls",
      "model_module_version": "1.5.0",
      "model_name": "DescriptionStyleModel",
      "state": {
       "description_width": ""
      }
     },
     "4b66490b57c94cb0878260137c803077": {
      "model_module": "@jupyter-widgets/base",
      "model_module_version": "1.2.0",
      "model_name": "LayoutModel",
      "state": {}
     },
     "4b6d453cef4441c89eff0535c5e94633": {
      "model_module": "@jupyter-widgets/base",
      "model_module_version": "1.2.0",
      "model_name": "LayoutModel",
      "state": {}
     },
     "4c6e4c341626437e92e6d8584156fc7c": {
      "model_module": "@jupyter-widgets/controls",
      "model_module_version": "1.5.0",
      "model_name": "DescriptionStyleModel",
      "state": {
       "description_width": ""
      }
     },
     "4c78e0cc024241e586c3be384846a0c5": {
      "model_module": "@jupyter-widgets/controls",
      "model_module_version": "1.5.0",
      "model_name": "DescriptionStyleModel",
      "state": {
       "description_width": ""
      }
     },
     "4c8ffc4b78db4c13a095c10e5114edd4": {
      "model_module": "@jupyter-widgets/controls",
      "model_module_version": "1.5.0",
      "model_name": "HTMLModel",
      "state": {
       "layout": "IPY_MODEL_daf20895b1f84a119a422c3858e4199c",
       "style": "IPY_MODEL_f081adef55e04a74baabe3c53adf57be",
       "value": " 100/100 [00:01&lt;00:00, 51.83it/s]"
      }
     },
     "4d56de9eed314d6380217f27c4e3ecbf": {
      "model_module": "@jupyter-widgets/controls",
      "model_module_version": "1.5.0",
      "model_name": "ProgressStyleModel",
      "state": {
       "description_width": ""
      }
     },
     "4d7825c05e3f471ca7bb94809c1799f1": {
      "model_module": "@jupyter-widgets/base",
      "model_module_version": "1.2.0",
      "model_name": "LayoutModel",
      "state": {}
     },
     "4e1567bda8d74f278ae426933957c003": {
      "model_module": "@jupyter-widgets/base",
      "model_module_version": "1.2.0",
      "model_name": "LayoutModel",
      "state": {}
     },
     "4e43cb4555a545509119958e74cb3c79": {
      "model_module": "@jupyter-widgets/controls",
      "model_module_version": "1.5.0",
      "model_name": "ProgressStyleModel",
      "state": {
       "description_width": ""
      }
     },
     "4ee553d3ead74d6983ca185b8431310a": {
      "model_module": "@jupyter-widgets/base",
      "model_module_version": "1.2.0",
      "model_name": "LayoutModel",
      "state": {}
     },
     "4f55c58eb8934b9da23d5126e8f13800": {
      "model_module": "@jupyter-widgets/base",
      "model_module_version": "1.2.0",
      "model_name": "LayoutModel",
      "state": {}
     },
     "4f7cdcbc3c9a48eeb9950abe30ea5166": {
      "model_module": "@jupyter-widgets/controls",
      "model_module_version": "1.5.0",
      "model_name": "ProgressStyleModel",
      "state": {
       "description_width": ""
      }
     },
     "4f8be1bddafb4e8ca09cdc360af2cffc": {
      "model_module": "@jupyter-widgets/base",
      "model_module_version": "1.2.0",
      "model_name": "LayoutModel",
      "state": {}
     },
     "4f94086fe01148109176c13ee50927e9": {
      "model_module": "@jupyter-widgets/controls",
      "model_module_version": "1.5.0",
      "model_name": "HTMLModel",
      "state": {
       "layout": "IPY_MODEL_ac50c32855924b7cb7738bdb1ad44fd2",
       "style": "IPY_MODEL_8b66585182a94a67953be417501d26f3",
       "value": " 100/100 [00:20&lt;00:00,  4.98it/s]"
      }
     },
     "4faf4355a14942808eaf4154c146df1a": {
      "model_module": "@jupyter-widgets/controls",
      "model_module_version": "1.5.0",
      "model_name": "HBoxModel",
      "state": {
       "children": [
        "IPY_MODEL_b01cf55aed134f1d86bc79c4943478f6",
        "IPY_MODEL_8d0727c7e1da498eb38ebca152710476",
        "IPY_MODEL_a38e7efdf59949c4bd8e099def8d0228"
       ],
       "layout": "IPY_MODEL_849cb9ff9a3e46c99d831a4d8a27b202"
      }
     },
     "4fd9e8e7c3da45398664277a445945f3": {
      "model_module": "@jupyter-widgets/base",
      "model_module_version": "1.2.0",
      "model_name": "LayoutModel",
      "state": {}
     },
     "4fff3bdb368344e7992652db68f155a9": {
      "model_module": "@jupyter-widgets/controls",
      "model_module_version": "1.5.0",
      "model_name": "HTMLModel",
      "state": {
       "layout": "IPY_MODEL_868df5438b7245cba39aeda76cf5700b",
       "style": "IPY_MODEL_8e70b1fe4ebc47848d30ae1c564919ca",
       "value": "100%"
      }
     },
     "5123107f7cd54081b4128cebd8c8d0c3": {
      "model_module": "@jupyter-widgets/controls",
      "model_module_version": "1.5.0",
      "model_name": "HBoxModel",
      "state": {
       "children": [
        "IPY_MODEL_16ef30de7218437e8cf665c1c79862a3",
        "IPY_MODEL_3acfe0ed807049ddb76089cadda2ebd0",
        "IPY_MODEL_aafa7ef7117f4a69a520b0a2d3b3aade"
       ],
       "layout": "IPY_MODEL_f61d255d1fe4409295e08d15eb22bfbc"
      }
     },
     "51479c34b92b401bb1c9b75371325f6a": {
      "model_module": "@jupyter-widgets/controls",
      "model_module_version": "1.5.0",
      "model_name": "DescriptionStyleModel",
      "state": {
       "description_width": ""
      }
     },
     "515ae1e97a8b49c58891bf20509f21d1": {
      "model_module": "@jupyter-widgets/controls",
      "model_module_version": "1.5.0",
      "model_name": "DescriptionStyleModel",
      "state": {
       "description_width": ""
      }
     },
     "519437564a0144e093dda341f154ff0d": {
      "model_module": "@jupyter-widgets/controls",
      "model_module_version": "1.5.0",
      "model_name": "ProgressStyleModel",
      "state": {
       "description_width": ""
      }
     },
     "5206b4bb36474965a2080cc833f13df8": {
      "model_module": "@jupyter-widgets/controls",
      "model_module_version": "1.5.0",
      "model_name": "FloatProgressModel",
      "state": {
       "bar_style": "success",
       "layout": "IPY_MODEL_04106f41d4df4e26a63493366a5daa24",
       "style": "IPY_MODEL_b1c0732f53ef41c6a41034c8e04245ae",
       "value": 100
      }
     },
     "52a5c4a094244f2bb406a85b87fa4b18": {
      "model_module": "@jupyter-widgets/base",
      "model_module_version": "1.2.0",
      "model_name": "LayoutModel",
      "state": {}
     },
     "52df36f45e744c87a2584a587379b7d0": {
      "model_module": "@jupyter-widgets/controls",
      "model_module_version": "1.5.0",
      "model_name": "HTMLModel",
      "state": {
       "layout": "IPY_MODEL_b2ee3d8f3fdf4753ae2004f1502f0df5",
       "style": "IPY_MODEL_2b60b4a5bc2f4a5da91e038c8292afa9",
       "value": "100%"
      }
     },
     "530ebfd23f18497ba472efabf824dd02": {
      "model_module": "@jupyter-widgets/base",
      "model_module_version": "1.2.0",
      "model_name": "LayoutModel",
      "state": {}
     },
     "5365a34165c0449f93d944da550ff2ee": {
      "model_module": "@jupyter-widgets/base",
      "model_module_version": "1.2.0",
      "model_name": "LayoutModel",
      "state": {}
     },
     "53abeac5d045499093dd567250192607": {
      "model_module": "@jupyter-widgets/controls",
      "model_module_version": "1.5.0",
      "model_name": "HTMLModel",
      "state": {
       "layout": "IPY_MODEL_2bbb2d5ec1114949800654448bad3b4a",
       "style": "IPY_MODEL_825218841ff146eab8107d79829cefc3",
       "value": "100%"
      }
     },
     "55130166587542c0a3d4ba2bbc2fb73e": {
      "model_module": "@jupyter-widgets/base",
      "model_module_version": "1.2.0",
      "model_name": "LayoutModel",
      "state": {}
     },
     "559605e7f66c496b89fc85ed9074926d": {
      "model_module": "@jupyter-widgets/controls",
      "model_module_version": "1.5.0",
      "model_name": "DescriptionStyleModel",
      "state": {
       "description_width": ""
      }
     },
     "55f8fb96ea12498793f3b0f1c7832955": {
      "model_module": "@jupyter-widgets/base",
      "model_module_version": "1.2.0",
      "model_name": "LayoutModel",
      "state": {}
     },
     "5775a97d86874bb2886b753c14977085": {
      "model_module": "@jupyter-widgets/controls",
      "model_module_version": "1.5.0",
      "model_name": "DescriptionStyleModel",
      "state": {
       "description_width": ""
      }
     },
     "5800bd8fae1e4242954e480108ed9e43": {
      "model_module": "@jupyter-widgets/controls",
      "model_module_version": "1.5.0",
      "model_name": "DescriptionStyleModel",
      "state": {
       "description_width": ""
      }
     },
     "58359d6899ed45639a28f420da669d3e": {
      "model_module": "@jupyter-widgets/controls",
      "model_module_version": "1.5.0",
      "model_name": "DescriptionStyleModel",
      "state": {
       "description_width": ""
      }
     },
     "5926ae41e174450e9ca4dfeff5eb77a2": {
      "model_module": "@jupyter-widgets/controls",
      "model_module_version": "1.5.0",
      "model_name": "HTMLModel",
      "state": {
       "layout": "IPY_MODEL_39d4fce5203e4ee0bd89de4f52303bcf",
       "style": "IPY_MODEL_a313d47e1fee4d93a3d7a26ed2b00726",
       "value": " 100/100 [07:17&lt;00:00,  4.37s/it]"
      }
     },
     "5986e14740144463a43ebe8721b1f333": {
      "model_module": "@jupyter-widgets/controls",
      "model_module_version": "1.5.0",
      "model_name": "DescriptionStyleModel",
      "state": {
       "description_width": ""
      }
     },
     "59b6d48fa5024f4b80d074a551327b93": {
      "model_module": "@jupyter-widgets/controls",
      "model_module_version": "1.5.0",
      "model_name": "ProgressStyleModel",
      "state": {
       "description_width": ""
      }
     },
     "59e510a542fc40fd9095e8279c5d7c53": {
      "model_module": "@jupyter-widgets/base",
      "model_module_version": "1.2.0",
      "model_name": "LayoutModel",
      "state": {}
     },
     "5a992f123ac749acb4f7eaa77a26d50a": {
      "model_module": "@jupyter-widgets/base",
      "model_module_version": "1.2.0",
      "model_name": "LayoutModel",
      "state": {}
     },
     "5b7b7fa894d643dbbf7f64c865e1d377": {
      "model_module": "@jupyter-widgets/controls",
      "model_module_version": "1.5.0",
      "model_name": "ProgressStyleModel",
      "state": {
       "description_width": ""
      }
     },
     "5b94eec4f20c4a70a437f5a9b8be5f61": {
      "model_module": "@jupyter-widgets/controls",
      "model_module_version": "1.5.0",
      "model_name": "HTMLModel",
      "state": {
       "layout": "IPY_MODEL_9979aa778e7048488fa5540c9e828514",
       "style": "IPY_MODEL_2be7c1fe7a1546839830f0e96ce4861d",
       "value": "100%"
      }
     },
     "5bc6c8d563bb4d41abeca75ad82fe10b": {
      "model_module": "@jupyter-widgets/controls",
      "model_module_version": "1.5.0",
      "model_name": "ProgressStyleModel",
      "state": {
       "description_width": ""
      }
     },
     "5d33e645d0de4902a3266e7710dbb2f9": {
      "model_module": "@jupyter-widgets/controls",
      "model_module_version": "1.5.0",
      "model_name": "HTMLModel",
      "state": {
       "layout": "IPY_MODEL_5a992f123ac749acb4f7eaa77a26d50a",
       "style": "IPY_MODEL_3fa86f08870f44a4932ada967cfc5d4b",
       "value": "100%"
      }
     },
     "5d4f9ec9f6bd49e68c37cb99ae3fadca": {
      "model_module": "@jupyter-widgets/controls",
      "model_module_version": "1.5.0",
      "model_name": "HTMLModel",
      "state": {
       "layout": "IPY_MODEL_52a5c4a094244f2bb406a85b87fa4b18",
       "style": "IPY_MODEL_e72044f1c01645a483a694b62d78447b",
       "value": "100%"
      }
     },
     "5f0d626a71a84bcebedacb3752b02fa8": {
      "model_module": "@jupyter-widgets/controls",
      "model_module_version": "1.5.0",
      "model_name": "HTMLModel",
      "state": {
       "layout": "IPY_MODEL_1970be524f2f4dba98b6750dad19a823",
       "style": "IPY_MODEL_211db7eb437c4c50a00516e5e5a6c99a",
       "value": "100%"
      }
     },
     "5ff8cb8d0b374aa0a9d311ea6e74ac5e": {
      "model_module": "@jupyter-widgets/controls",
      "model_module_version": "1.5.0",
      "model_name": "DescriptionStyleModel",
      "state": {
       "description_width": ""
      }
     },
     "606d4c5e73994c81960ccf8f56837349": {
      "model_module": "@jupyter-widgets/controls",
      "model_module_version": "1.5.0",
      "model_name": "FloatProgressModel",
      "state": {
       "bar_style": "success",
       "layout": "IPY_MODEL_aa0ebb062c7541fda5105ff86d18dcf8",
       "style": "IPY_MODEL_6ea6833b33f344169476d781b81953ea",
       "value": 100
      }
     },
     "60fe289dcb2a4bb3a2d5ebbe69b60f1c": {
      "model_module": "@jupyter-widgets/controls",
      "model_module_version": "1.5.0",
      "model_name": "HTMLModel",
      "state": {
       "layout": "IPY_MODEL_c50bbe5145a1410dad4525dffff3d4ab",
       "style": "IPY_MODEL_7a24f1957ec9447986effcfde8cb4776",
       "value": "100%"
      }
     },
     "62545042963c413a9a6cf2d74dab9335": {
      "model_module": "@jupyter-widgets/base",
      "model_module_version": "1.2.0",
      "model_name": "LayoutModel",
      "state": {}
     },
     "627863e3bd9540288cfb60fdaec3787b": {
      "model_module": "@jupyter-widgets/controls",
      "model_module_version": "1.5.0",
      "model_name": "HBoxModel",
      "state": {
       "children": [
        "IPY_MODEL_eb25be15159b4c9282c6b382bdffbb43",
        "IPY_MODEL_d5838a459ad244b784bdfdad0c332c30",
        "IPY_MODEL_3f912d286f1e4acc82cdf54b1c361c66"
       ],
       "layout": "IPY_MODEL_360a4bcd04224f88b6f88f587c6cc735"
      }
     },
     "6280170bf9534dae885c18860872a5fa": {
      "model_module": "@jupyter-widgets/controls",
      "model_module_version": "1.5.0",
      "model_name": "HTMLModel",
      "state": {
       "layout": "IPY_MODEL_2023539543db4108af29b95c75644de4",
       "style": "IPY_MODEL_7bcf5aac992649ddb3fb6a1bd921752b",
       "value": " 100/100 [00:02&lt;00:00, 49.13it/s]"
      }
     },
     "62ea4cbbc65f44d4bf4c0b0982356414": {
      "model_module": "@jupyter-widgets/controls",
      "model_module_version": "1.5.0",
      "model_name": "HBoxModel",
      "state": {
       "children": [
        "IPY_MODEL_f34915e73d79420fbaf45df2fe14e667",
        "IPY_MODEL_0e4b5d24bc5449d88d8242189fd778a3",
        "IPY_MODEL_ab74b48be7ed42db9de86fee99cca70b"
       ],
       "layout": "IPY_MODEL_e4512ddfe1aa4c209ca95b1014031d20"
      }
     },
     "637d14fc03994ffeb5c3e3aa58b6939c": {
      "model_module": "@jupyter-widgets/base",
      "model_module_version": "1.2.0",
      "model_name": "LayoutModel",
      "state": {}
     },
     "63f2888bc9344820b64c5b90f42596b6": {
      "model_module": "@jupyter-widgets/controls",
      "model_module_version": "1.5.0",
      "model_name": "DescriptionStyleModel",
      "state": {
       "description_width": ""
      }
     },
     "64d01f91220d483499d3ecbcdfdaade4": {
      "model_module": "@jupyter-widgets/controls",
      "model_module_version": "1.5.0",
      "model_name": "DescriptionStyleModel",
      "state": {
       "description_width": ""
      }
     },
     "659fb9236d034e8a8481d1322f8f6503": {
      "model_module": "@jupyter-widgets/controls",
      "model_module_version": "1.5.0",
      "model_name": "FloatProgressModel",
      "state": {
       "bar_style": "success",
       "layout": "IPY_MODEL_d77a0c3bd8a346d48575c0b7bd80b8eb",
       "style": "IPY_MODEL_983e775ce9684a4781045c348ef601c1",
       "value": 100
      }
     },
     "65b2cc661258424aa5a8c8e676a805f2": {
      "model_module": "@jupyter-widgets/controls",
      "model_module_version": "1.5.0",
      "model_name": "DescriptionStyleModel",
      "state": {
       "description_width": ""
      }
     },
     "65f4233fe0dc4b42b012f8845426195a": {
      "model_module": "@jupyter-widgets/controls",
      "model_module_version": "1.5.0",
      "model_name": "ProgressStyleModel",
      "state": {
       "description_width": ""
      }
     },
     "66098de2b0e640f885b1aca0d5e0bc55": {
      "model_module": "@jupyter-widgets/base",
      "model_module_version": "1.2.0",
      "model_name": "LayoutModel",
      "state": {}
     },
     "674fb822da3549e780ae40a94ab36273": {
      "model_module": "@jupyter-widgets/base",
      "model_module_version": "1.2.0",
      "model_name": "LayoutModel",
      "state": {}
     },
     "67ee1c0cce4040f2beff9dd3b146d0b6": {
      "model_module": "@jupyter-widgets/base",
      "model_module_version": "1.2.0",
      "model_name": "LayoutModel",
      "state": {}
     },
     "68ba1ff536dc411f98d741e1ee5ecfd3": {
      "model_module": "@jupyter-widgets/controls",
      "model_module_version": "1.5.0",
      "model_name": "DescriptionStyleModel",
      "state": {
       "description_width": ""
      }
     },
     "68c757f70b8c4c9dbcd42bf476ea817a": {
      "model_module": "@jupyter-widgets/controls",
      "model_module_version": "1.5.0",
      "model_name": "ProgressStyleModel",
      "state": {
       "description_width": ""
      }
     },
     "6adbc58a19f14cf5b3a5d67010ab8ee0": {
      "model_module": "@jupyter-widgets/base",
      "model_module_version": "1.2.0",
      "model_name": "LayoutModel",
      "state": {}
     },
     "6aef80d29a7b4afb82825ff4c41f5e20": {
      "model_module": "@jupyter-widgets/controls",
      "model_module_version": "1.5.0",
      "model_name": "DescriptionStyleModel",
      "state": {
       "description_width": ""
      }
     },
     "6afa79874b494b7299b3cd976c9f0722": {
      "model_module": "@jupyter-widgets/controls",
      "model_module_version": "1.5.0",
      "model_name": "HTMLModel",
      "state": {
       "layout": "IPY_MODEL_8f16c758008c47c3a2aadc05418924da",
       "style": "IPY_MODEL_aae2cf112c5941ac845610c24bd914d3",
       "value": "100%"
      }
     },
     "6b22d117483849cb8ff8b97dcb0dd60c": {
      "model_module": "@jupyter-widgets/controls",
      "model_module_version": "1.5.0",
      "model_name": "HTMLModel",
      "state": {
       "layout": "IPY_MODEL_f347bfbde380425dbabeb72b549edaef",
       "style": "IPY_MODEL_ee73a63c43da4570940c7edfb415e41e",
       "value": " 100/100 [04:41&lt;00:00,  2.82s/it]"
      }
     },
     "6c0345611c744306b9afd978610a28e3": {
      "model_module": "@jupyter-widgets/base",
      "model_module_version": "1.2.0",
      "model_name": "LayoutModel",
      "state": {}
     },
     "6c594f36e0d64330a19901eb15e79a6e": {
      "model_module": "@jupyter-widgets/controls",
      "model_module_version": "1.5.0",
      "model_name": "HTMLModel",
      "state": {
       "layout": "IPY_MODEL_8e87f719d56246e7acc1b1097bda9740",
       "style": "IPY_MODEL_8b6d4c2de9734e9bb17acb3119a63b06",
       "value": " 100/100 [00:03&lt;00:00, 30.83it/s]"
      }
     },
     "6cc9e4bbac1945018bc8be49561d0e71": {
      "model_module": "@jupyter-widgets/base",
      "model_module_version": "1.2.0",
      "model_name": "LayoutModel",
      "state": {}
     },
     "6d3ea7cc32e44ea0bf6d70b2f6d3c862": {
      "model_module": "@jupyter-widgets/controls",
      "model_module_version": "1.5.0",
      "model_name": "DescriptionStyleModel",
      "state": {
       "description_width": ""
      }
     },
     "6da4d778fc704bf8a147c84d4b914e56": {
      "model_module": "@jupyter-widgets/controls",
      "model_module_version": "1.5.0",
      "model_name": "FloatProgressModel",
      "state": {
       "bar_style": "success",
       "layout": "IPY_MODEL_84b5ce4ce1544ea59918cae319f3f081",
       "max": 44,
       "style": "IPY_MODEL_a4fbee46fae44462b1dac261c5ac16e2",
       "value": 44
      }
     },
     "6dd8a28bb2aa4dc29266403bb8624875": {
      "model_module": "@jupyter-widgets/controls",
      "model_module_version": "1.5.0",
      "model_name": "FloatProgressModel",
      "state": {
       "bar_style": "success",
       "layout": "IPY_MODEL_88d449b8b23b44ad85727979796850fa",
       "max": 44,
       "style": "IPY_MODEL_5b7b7fa894d643dbbf7f64c865e1d377",
       "value": 44
      }
     },
     "6e13f0b89fe54f40b3c4fcc8b8f40563": {
      "model_module": "@jupyter-widgets/base",
      "model_module_version": "1.2.0",
      "model_name": "LayoutModel",
      "state": {}
     },
     "6e439772bb0245ffb4686a213aded785": {
      "model_module": "@jupyter-widgets/base",
      "model_module_version": "1.2.0",
      "model_name": "LayoutModel",
      "state": {}
     },
     "6ea6833b33f344169476d781b81953ea": {
      "model_module": "@jupyter-widgets/controls",
      "model_module_version": "1.5.0",
      "model_name": "ProgressStyleModel",
      "state": {
       "description_width": ""
      }
     },
     "6eeaccc478364763ad922b6220bb985c": {
      "model_module": "@jupyter-widgets/controls",
      "model_module_version": "1.5.0",
      "model_name": "DescriptionStyleModel",
      "state": {
       "description_width": ""
      }
     },
     "6f70da08e4114cb6b488f2d490684a4b": {
      "model_module": "@jupyter-widgets/controls",
      "model_module_version": "1.5.0",
      "model_name": "DescriptionStyleModel",
      "state": {
       "description_width": ""
      }
     },
     "6f9b51fd1e294b74bb4a1b03151a2a1f": {
      "model_module": "@jupyter-widgets/controls",
      "model_module_version": "1.5.0",
      "model_name": "DescriptionStyleModel",
      "state": {
       "description_width": ""
      }
     },
     "704a0ec471804b8e913f8390c51d58f8": {
      "model_module": "@jupyter-widgets/base",
      "model_module_version": "1.2.0",
      "model_name": "LayoutModel",
      "state": {}
     },
     "7133863239ce4b38bafef224459f7009": {
      "model_module": "@jupyter-widgets/controls",
      "model_module_version": "1.5.0",
      "model_name": "HBoxModel",
      "state": {
       "children": [
        "IPY_MODEL_23cb64e4b4054c069610514e16ba81cd",
        "IPY_MODEL_80fb655787ae4826be42ba30a7157a84",
        "IPY_MODEL_4f94086fe01148109176c13ee50927e9"
       ],
       "layout": "IPY_MODEL_99fbaa504ee94e0cbf248ca174846f9a"
      }
     },
     "71637431543a49d4a9f00ca14d03d58a": {
      "model_module": "@jupyter-widgets/controls",
      "model_module_version": "1.5.0",
      "model_name": "HBoxModel",
      "state": {
       "children": [
        "IPY_MODEL_b1ca7fadd5e543a2b0efdeef7c9e55b9",
        "IPY_MODEL_9301e32226714181b328761169bc615f",
        "IPY_MODEL_95938533faec41ea8c452e606fac0960"
       ],
       "layout": "IPY_MODEL_530ebfd23f18497ba472efabf824dd02"
      }
     },
     "728cfc332d05453a90ce4732e8ed2a10": {
      "model_module": "@jupyter-widgets/base",
      "model_module_version": "1.2.0",
      "model_name": "LayoutModel",
      "state": {}
     },
     "72fd3423295045589f1d2b0b44392505": {
      "model_module": "@jupyter-widgets/controls",
      "model_module_version": "1.5.0",
      "model_name": "ProgressStyleModel",
      "state": {
       "description_width": ""
      }
     },
     "73d3b6baf08048d59299e6a914403ae3": {
      "model_module": "@jupyter-widgets/controls",
      "model_module_version": "1.5.0",
      "model_name": "HTMLModel",
      "state": {
       "layout": "IPY_MODEL_86a0ee9e38694f0db664600c9f7e06d0",
       "style": "IPY_MODEL_111bd32bbef048e3ae9927e8a27232c7",
       "value": "100%"
      }
     },
     "74e3972642214e3bb8e035344aef10a5": {
      "model_module": "@jupyter-widgets/base",
      "model_module_version": "1.2.0",
      "model_name": "LayoutModel",
      "state": {}
     },
     "762fd7c5ba4348c8883cd63b6cc32cf9": {
      "model_module": "@jupyter-widgets/controls",
      "model_module_version": "1.5.0",
      "model_name": "ProgressStyleModel",
      "state": {
       "description_width": ""
      }
     },
     "7661bb0f11804f029f8b74ded8351b90": {
      "model_module": "@jupyter-widgets/controls",
      "model_module_version": "1.5.0",
      "model_name": "DescriptionStyleModel",
      "state": {
       "description_width": ""
      }
     },
     "767272ab6eb44f52bc16cea4083eedaa": {
      "model_module": "@jupyter-widgets/base",
      "model_module_version": "1.2.0",
      "model_name": "LayoutModel",
      "state": {}
     },
     "76747eb189b84d66a44c21e32fa77f84": {
      "model_module": "@jupyter-widgets/base",
      "model_module_version": "1.2.0",
      "model_name": "LayoutModel",
      "state": {}
     },
     "7777738707d640f0b043fba32ec870f6": {
      "model_module": "@jupyter-widgets/controls",
      "model_module_version": "1.5.0",
      "model_name": "FloatProgressModel",
      "state": {
       "bar_style": "success",
       "layout": "IPY_MODEL_a03180db0ac54710a2934d41ce54cc76",
       "style": "IPY_MODEL_ac110142cb5544f6a36a80b82f2dd059",
       "value": 100
      }
     },
     "77df98eb1bfd4a7ebbf0a7e1937c9d0b": {
      "model_module": "@jupyter-widgets/base",
      "model_module_version": "1.2.0",
      "model_name": "LayoutModel",
      "state": {}
     },
     "782892bd58dd47c99a2fd419bfe2ff29": {
      "model_module": "@jupyter-widgets/controls",
      "model_module_version": "1.5.0",
      "model_name": "HTMLModel",
      "state": {
       "layout": "IPY_MODEL_2d72f376a09347279168bc83512c26b4",
       "style": "IPY_MODEL_64d01f91220d483499d3ecbcdfdaade4",
       "value": " 100/100 [00:06&lt;00:00, 14.54it/s]"
      }
     },
     "78e48efa9a86443b9da642e034cd34ab": {
      "model_module": "@jupyter-widgets/controls",
      "model_module_version": "1.5.0",
      "model_name": "HBoxModel",
      "state": {
       "children": [
        "IPY_MODEL_0e3e1f56798c4e729321d07f044dcdf9",
        "IPY_MODEL_0f361265dc60493e95684f27c9e24273",
        "IPY_MODEL_a1540e57558b44c4872abaaedf3c8c6f"
       ],
       "layout": "IPY_MODEL_a448406c61ff4f3ea286875f3cc42219"
      }
     },
     "7908e2a5df3e43d6b4bb5dbc06299cfa": {
      "model_module": "@jupyter-widgets/base",
      "model_module_version": "1.2.0",
      "model_name": "LayoutModel",
      "state": {}
     },
     "7961f5d3a82849ada0f0096961162c3e": {
      "model_module": "@jupyter-widgets/base",
      "model_module_version": "1.2.0",
      "model_name": "LayoutModel",
      "state": {}
     },
     "79d41fa129f44e3fa9506f13f634b1f3": {
      "model_module": "@jupyter-widgets/controls",
      "model_module_version": "1.5.0",
      "model_name": "ProgressStyleModel",
      "state": {
       "description_width": ""
      }
     },
     "79f01f7d17c24ef8a70b380143e69a21": {
      "model_module": "@jupyter-widgets/controls",
      "model_module_version": "1.5.0",
      "model_name": "FloatProgressModel",
      "state": {
       "bar_style": "success",
       "layout": "IPY_MODEL_20cd819434764820834c4b6af2143741",
       "style": "IPY_MODEL_f1d2fe831ba84d7b87a4a92875fdf893",
       "value": 100
      }
     },
     "7a137ce3b707484cb1e5527f77be5766": {
      "model_module": "@jupyter-widgets/controls",
      "model_module_version": "1.5.0",
      "model_name": "DescriptionStyleModel",
      "state": {
       "description_width": ""
      }
     },
     "7a24f1957ec9447986effcfde8cb4776": {
      "model_module": "@jupyter-widgets/controls",
      "model_module_version": "1.5.0",
      "model_name": "DescriptionStyleModel",
      "state": {
       "description_width": ""
      }
     },
     "7a2eed521cd346d1af5e4839debb4a2f": {
      "model_module": "@jupyter-widgets/controls",
      "model_module_version": "1.5.0",
      "model_name": "ProgressStyleModel",
      "state": {
       "description_width": ""
      }
     },
     "7afc9e60e03c48d987b1cb42ff79b667": {
      "model_module": "@jupyter-widgets/base",
      "model_module_version": "1.2.0",
      "model_name": "LayoutModel",
      "state": {}
     },
     "7b702c84cee44363a3add0b1beae4fa5": {
      "model_module": "@jupyter-widgets/controls",
      "model_module_version": "1.5.0",
      "model_name": "FloatProgressModel",
      "state": {
       "bar_style": "success",
       "layout": "IPY_MODEL_80158b6f4ff141b49773e67036ed9492",
       "style": "IPY_MODEL_12e53401a3b04a2cad8b110a4533ca63",
       "value": 100
      }
     },
     "7ba219e3675644949b83fd9832cc0c37": {
      "model_module": "@jupyter-widgets/controls",
      "model_module_version": "1.5.0",
      "model_name": "FloatProgressModel",
      "state": {
       "bar_style": "success",
       "layout": "IPY_MODEL_a78c6c09a3f846afb1732b7fd125d8e1",
       "style": "IPY_MODEL_7d63502f17484fb4ae1ed3355e2340bf",
       "value": 100
      }
     },
     "7bcf5aac992649ddb3fb6a1bd921752b": {
      "model_module": "@jupyter-widgets/controls",
      "model_module_version": "1.5.0",
      "model_name": "DescriptionStyleModel",
      "state": {
       "description_width": ""
      }
     },
     "7d63502f17484fb4ae1ed3355e2340bf": {
      "model_module": "@jupyter-widgets/controls",
      "model_module_version": "1.5.0",
      "model_name": "ProgressStyleModel",
      "state": {
       "description_width": ""
      }
     },
     "7e8ca593f2924294b090c967d300c41d": {
      "model_module": "@jupyter-widgets/controls",
      "model_module_version": "1.5.0",
      "model_name": "HTMLModel",
      "state": {
       "layout": "IPY_MODEL_99930b95f19a4e60aa8a75f8b8d0adcc",
       "style": "IPY_MODEL_26befa39c46a446a8e1f1d239b7eb4ad",
       "value": "100%"
      }
     },
     "7e95fee8cf5f40dd8ab645d0b7fd587a": {
      "model_module": "@jupyter-widgets/base",
      "model_module_version": "1.2.0",
      "model_name": "LayoutModel",
      "state": {}
     },
     "7f5163182be741bd9eee6f5ca3e5c137": {
      "model_module": "@jupyter-widgets/controls",
      "model_module_version": "1.5.0",
      "model_name": "DescriptionStyleModel",
      "state": {
       "description_width": ""
      }
     },
     "7f61104d72ec451299afad67dd1ffe48": {
      "model_module": "@jupyter-widgets/controls",
      "model_module_version": "1.5.0",
      "model_name": "FloatProgressModel",
      "state": {
       "bar_style": "success",
       "layout": "IPY_MODEL_e6ac401b5e8a4e56bacfe93d462db133",
       "style": "IPY_MODEL_b96a2391866f4cf3a4686d4d947c8c0f",
       "value": 100
      }
     },
     "7ff4e6f72e5f4cd1a3a8ba133f53c72d": {
      "model_module": "@jupyter-widgets/controls",
      "model_module_version": "1.5.0",
      "model_name": "FloatProgressModel",
      "state": {
       "bar_style": "success",
       "layout": "IPY_MODEL_4b66490b57c94cb0878260137c803077",
       "style": "IPY_MODEL_e21071c82dc84a2e9815157c133e031d",
       "value": 100
      }
     },
     "80016b7527e549918bc7df2381a673d8": {
      "model_module": "@jupyter-widgets/controls",
      "model_module_version": "1.5.0",
      "model_name": "HBoxModel",
      "state": {
       "children": [
        "IPY_MODEL_4fff3bdb368344e7992652db68f155a9",
        "IPY_MODEL_01bbf92bc2a74287bfb6cf0d26a3b3d6",
        "IPY_MODEL_d45f80ba5b01424a980b9213feff52d9"
       ],
       "layout": "IPY_MODEL_e4d5d713659f4737973a01e0946c2827"
      }
     },
     "80158b6f4ff141b49773e67036ed9492": {
      "model_module": "@jupyter-widgets/base",
      "model_module_version": "1.2.0",
      "model_name": "LayoutModel",
      "state": {}
     },
     "801ab2ba9801454d9a11ccc04dd2d475": {
      "model_module": "@jupyter-widgets/controls",
      "model_module_version": "1.5.0",
      "model_name": "DescriptionStyleModel",
      "state": {
       "description_width": ""
      }
     },
     "80f0c08f22034ebcb8e6710c559b7371": {
      "model_module": "@jupyter-widgets/controls",
      "model_module_version": "1.5.0",
      "model_name": "DescriptionStyleModel",
      "state": {
       "description_width": ""
      }
     },
     "80fb655787ae4826be42ba30a7157a84": {
      "model_module": "@jupyter-widgets/controls",
      "model_module_version": "1.5.0",
      "model_name": "FloatProgressModel",
      "state": {
       "bar_style": "success",
       "layout": "IPY_MODEL_0acb8c63ba63410e8c3203bb6de057ea",
       "style": "IPY_MODEL_df4aa66f652b46bba1ad6d3ea956e9ce",
       "value": 100
      }
     },
     "8122c117a3e5439b8245cab4958ad4b5": {
      "model_module": "@jupyter-widgets/controls",
      "model_module_version": "1.5.0",
      "model_name": "HTMLModel",
      "state": {
       "layout": "IPY_MODEL_3bb8e37289da45e3b25638bb71539745",
       "style": "IPY_MODEL_99bde1b0b1b44f00ab3ee352eb9e5035",
       "value": " 100/100 [00:01&lt;00:00, 59.37it/s]"
      }
     },
     "820e4336adca47b6a87798961f6bf475": {
      "model_module": "@jupyter-widgets/controls",
      "model_module_version": "1.5.0",
      "model_name": "HTMLModel",
      "state": {
       "layout": "IPY_MODEL_7961f5d3a82849ada0f0096961162c3e",
       "style": "IPY_MODEL_f41d680a87444a76a8dea1c647163755",
       "value": " 100/100 [00:36&lt;00:00,  2.75it/s]"
      }
     },
     "825218841ff146eab8107d79829cefc3": {
      "model_module": "@jupyter-widgets/controls",
      "model_module_version": "1.5.0",
      "model_name": "DescriptionStyleModel",
      "state": {
       "description_width": ""
      }
     },
     "828aa40fe4ab4c9ba5deca2c362a09e8": {
      "model_module": "@jupyter-widgets/base",
      "model_module_version": "1.2.0",
      "model_name": "LayoutModel",
      "state": {}
     },
     "82bbec8c4a684dcf81a053708e97fda9": {
      "model_module": "@jupyter-widgets/base",
      "model_module_version": "1.2.0",
      "model_name": "LayoutModel",
      "state": {}
     },
     "8360e08ecb73427e83145bb1e2f690ab": {
      "model_module": "@jupyter-widgets/controls",
      "model_module_version": "1.5.0",
      "model_name": "HBoxModel",
      "state": {
       "children": [
        "IPY_MODEL_52df36f45e744c87a2584a587379b7d0",
        "IPY_MODEL_44d6fbf39bcd43aaa888d3bc6c604a42",
        "IPY_MODEL_9f00a426b28c4312820cdc7bdfe24202"
       ],
       "layout": "IPY_MODEL_36a2a79bf40045d8b0749f38943b268d"
      }
     },
     "8372f6e235cd4b248f9e8a215382c5b9": {
      "model_module": "@jupyter-widgets/base",
      "model_module_version": "1.2.0",
      "model_name": "LayoutModel",
      "state": {}
     },
     "83c7829ea31a4e3193c2eaa79040e2af": {
      "model_module": "@jupyter-widgets/base",
      "model_module_version": "1.2.0",
      "model_name": "LayoutModel",
      "state": {}
     },
     "83e56a81e60b410a9a98adc186c24396": {
      "model_module": "@jupyter-widgets/base",
      "model_module_version": "1.2.0",
      "model_name": "LayoutModel",
      "state": {}
     },
     "847fa5abccf24b138772bf1a32df00d3": {
      "model_module": "@jupyter-widgets/controls",
      "model_module_version": "1.5.0",
      "model_name": "ProgressStyleModel",
      "state": {
       "description_width": ""
      }
     },
     "849cb9ff9a3e46c99d831a4d8a27b202": {
      "model_module": "@jupyter-widgets/base",
      "model_module_version": "1.2.0",
      "model_name": "LayoutModel",
      "state": {}
     },
     "84b5ce4ce1544ea59918cae319f3f081": {
      "model_module": "@jupyter-widgets/base",
      "model_module_version": "1.2.0",
      "model_name": "LayoutModel",
      "state": {}
     },
     "851bc64b2e2540d59efe3c25799d34e7": {
      "model_module": "@jupyter-widgets/controls",
      "model_module_version": "1.5.0",
      "model_name": "HBoxModel",
      "state": {
       "children": [
        "IPY_MODEL_5f0d626a71a84bcebedacb3752b02fa8",
        "IPY_MODEL_659fb9236d034e8a8481d1322f8f6503",
        "IPY_MODEL_e4ab034ce24e40e28b336330df170a01"
       ],
       "layout": "IPY_MODEL_37676723861949dc92186903c0d05de8"
      }
     },
     "854d243eef884ad4ad559716cdfc4101": {
      "model_module": "@jupyter-widgets/base",
      "model_module_version": "1.2.0",
      "model_name": "LayoutModel",
      "state": {}
     },
     "856e3bd3d2c542a6ba1571ecfb5f6586": {
      "model_module": "@jupyter-widgets/controls",
      "model_module_version": "1.5.0",
      "model_name": "DescriptionStyleModel",
      "state": {
       "description_width": ""
      }
     },
     "85bb4a6891864e75a2257d5599d65072": {
      "model_module": "@jupyter-widgets/controls",
      "model_module_version": "1.5.0",
      "model_name": "DescriptionStyleModel",
      "state": {
       "description_width": ""
      }
     },
     "85d6616c46a14688b362400242da6438": {
      "model_module": "@jupyter-widgets/controls",
      "model_module_version": "1.5.0",
      "model_name": "DescriptionStyleModel",
      "state": {
       "description_width": ""
      }
     },
     "868df5438b7245cba39aeda76cf5700b": {
      "model_module": "@jupyter-widgets/base",
      "model_module_version": "1.2.0",
      "model_name": "LayoutModel",
      "state": {}
     },
     "86a0ee9e38694f0db664600c9f7e06d0": {
      "model_module": "@jupyter-widgets/base",
      "model_module_version": "1.2.0",
      "model_name": "LayoutModel",
      "state": {}
     },
     "87304e7a8cd7407098b581e37cc617d5": {
      "model_module": "@jupyter-widgets/controls",
      "model_module_version": "1.5.0",
      "model_name": "HBoxModel",
      "state": {
       "children": [
        "IPY_MODEL_fa2f09226e1342ffb038f9dee507209a",
        "IPY_MODEL_def78df5cff9451c8616cb72a4e22df9",
        "IPY_MODEL_6b22d117483849cb8ff8b97dcb0dd60c"
       ],
       "layout": "IPY_MODEL_0c185f9321574be5bee4690f6983decc"
      }
     },
     "879dce38c309496fb6e3f2d8329c6cc7": {
      "model_module": "@jupyter-widgets/base",
      "model_module_version": "1.2.0",
      "model_name": "LayoutModel",
      "state": {}
     },
     "88b5bb9bb6dc45f89c6124209e245ac8": {
      "model_module": "@jupyter-widgets/controls",
      "model_module_version": "1.5.0",
      "model_name": "HTMLModel",
      "state": {
       "layout": "IPY_MODEL_b91c7a2d88dc4d58ab5f7eeb19ea4c88",
       "style": "IPY_MODEL_b2847711a12d4cdd8b5c60d5cefde6d3",
       "value": "100%"
      }
     },
     "88d449b8b23b44ad85727979796850fa": {
      "model_module": "@jupyter-widgets/base",
      "model_module_version": "1.2.0",
      "model_name": "LayoutModel",
      "state": {}
     },
     "89add9c1d7e34e3a8befe08c8ac60c2a": {
      "model_module": "@jupyter-widgets/controls",
      "model_module_version": "1.5.0",
      "model_name": "FloatProgressModel",
      "state": {
       "bar_style": "success",
       "layout": "IPY_MODEL_21dc675fe7ed43f4b296369470aa437b",
       "style": "IPY_MODEL_762fd7c5ba4348c8883cd63b6cc32cf9",
       "value": 100
      }
     },
     "89c8091236ed40ed8bd57d951c15ac24": {
      "model_module": "@jupyter-widgets/base",
      "model_module_version": "1.2.0",
      "model_name": "LayoutModel",
      "state": {}
     },
     "8ab3a84ef31d4d4e9f4d6a1a933b6534": {
      "model_module": "@jupyter-widgets/controls",
      "model_module_version": "1.5.0",
      "model_name": "HTMLModel",
      "state": {
       "layout": "IPY_MODEL_bb269c220ef3480cac9ee983a8023b3d",
       "style": "IPY_MODEL_a4b91444ce1b421287349ad25b7c66bc",
       "value": "100%"
      }
     },
     "8ae04d2da4954fa98e59b179fca77a37": {
      "model_module": "@jupyter-widgets/controls",
      "model_module_version": "1.5.0",
      "model_name": "ProgressStyleModel",
      "state": {
       "description_width": ""
      }
     },
     "8af3d8d243594c7bb48c0e5333afd068": {
      "model_module": "@jupyter-widgets/base",
      "model_module_version": "1.2.0",
      "model_name": "LayoutModel",
      "state": {}
     },
     "8b66585182a94a67953be417501d26f3": {
      "model_module": "@jupyter-widgets/controls",
      "model_module_version": "1.5.0",
      "model_name": "DescriptionStyleModel",
      "state": {
       "description_width": ""
      }
     },
     "8b6d4c2de9734e9bb17acb3119a63b06": {
      "model_module": "@jupyter-widgets/controls",
      "model_module_version": "1.5.0",
      "model_name": "DescriptionStyleModel",
      "state": {
       "description_width": ""
      }
     },
     "8c04eb93b83d40d3844d5df1d148c72e": {
      "model_module": "@jupyter-widgets/controls",
      "model_module_version": "1.5.0",
      "model_name": "HTMLModel",
      "state": {
       "layout": "IPY_MODEL_f5c00bd51e874c9ba56c61b1c3c0f145",
       "style": "IPY_MODEL_c37ac8d149c74baf905c611d8f0209ab",
       "value": " 100/100 [00:30&lt;00:00,  3.31it/s]"
      }
     },
     "8d0727c7e1da498eb38ebca152710476": {
      "model_module": "@jupyter-widgets/controls",
      "model_module_version": "1.5.0",
      "model_name": "FloatProgressModel",
      "state": {
       "bar_style": "success",
       "layout": "IPY_MODEL_6adbc58a19f14cf5b3a5d67010ab8ee0",
       "style": "IPY_MODEL_a09ec22fd9c4427a95544f0abbfe8ec8",
       "value": 100
      }
     },
     "8dcb97ceb11241f29e662440af198cc1": {
      "model_module": "@jupyter-widgets/controls",
      "model_module_version": "1.5.0",
      "model_name": "HTMLModel",
      "state": {
       "layout": "IPY_MODEL_43cc684540624728b18d51b10d4f0594",
       "style": "IPY_MODEL_5775a97d86874bb2886b753c14977085",
       "value": " 100/100 [00:45&lt;00:00,  2.19it/s]"
      }
     },
     "8e70b1fe4ebc47848d30ae1c564919ca": {
      "model_module": "@jupyter-widgets/controls",
      "model_module_version": "1.5.0",
      "model_name": "DescriptionStyleModel",
      "state": {
       "description_width": ""
      }
     },
     "8e87f719d56246e7acc1b1097bda9740": {
      "model_module": "@jupyter-widgets/base",
      "model_module_version": "1.2.0",
      "model_name": "LayoutModel",
      "state": {}
     },
     "8f16c758008c47c3a2aadc05418924da": {
      "model_module": "@jupyter-widgets/base",
      "model_module_version": "1.2.0",
      "model_name": "LayoutModel",
      "state": {}
     },
     "8f1aeff3a0a541118f84f5822265daef": {
      "model_module": "@jupyter-widgets/base",
      "model_module_version": "1.2.0",
      "model_name": "LayoutModel",
      "state": {}
     },
     "8fc7593925a84181b7f0cc9b505450ad": {
      "model_module": "@jupyter-widgets/controls",
      "model_module_version": "1.5.0",
      "model_name": "DescriptionStyleModel",
      "state": {
       "description_width": ""
      }
     },
     "8ff62c8dc28446f683dc508ccfd19cc4": {
      "model_module": "@jupyter-widgets/controls",
      "model_module_version": "1.5.0",
      "model_name": "ProgressStyleModel",
      "state": {
       "description_width": ""
      }
     },
     "90680f7fe49b480ca2ccc90e68bb9bdb": {
      "model_module": "@jupyter-widgets/base",
      "model_module_version": "1.2.0",
      "model_name": "LayoutModel",
      "state": {}
     },
     "90c2d5761a3e4830bc6981d1b54987cf": {
      "model_module": "@jupyter-widgets/controls",
      "model_module_version": "1.5.0",
      "model_name": "FloatProgressModel",
      "state": {
       "bar_style": "success",
       "layout": "IPY_MODEL_3e61bc62a0d94883863816c3a4ec9c9b",
       "style": "IPY_MODEL_0e4844f11a7c4719ab2fd258ba041b9e",
       "value": 100
      }
     },
     "912530b9ffdf482fa3dc817947f9c194": {
      "model_module": "@jupyter-widgets/base",
      "model_module_version": "1.2.0",
      "model_name": "LayoutModel",
      "state": {}
     },
     "914017ade23a4ab19a1f2ff28726ef79": {
      "model_module": "@jupyter-widgets/controls",
      "model_module_version": "1.5.0",
      "model_name": "DescriptionStyleModel",
      "state": {
       "description_width": ""
      }
     },
     "9236c59fb2a243bbae21ab6d31ed892b": {
      "model_module": "@jupyter-widgets/base",
      "model_module_version": "1.2.0",
      "model_name": "LayoutModel",
      "state": {}
     },
     "928d124000ea49b0a4c66c6f49f0cce8": {
      "model_module": "@jupyter-widgets/base",
      "model_module_version": "1.2.0",
      "model_name": "LayoutModel",
      "state": {}
     },
     "9301e32226714181b328761169bc615f": {
      "model_module": "@jupyter-widgets/controls",
      "model_module_version": "1.5.0",
      "model_name": "FloatProgressModel",
      "state": {
       "bar_style": "success",
       "layout": "IPY_MODEL_83e56a81e60b410a9a98adc186c24396",
       "style": "IPY_MODEL_44e22f4f187e4347ba013b9257d574c9",
       "value": 100
      }
     },
     "94c4e26b4c93455fab502597d8b9a7bf": {
      "model_module": "@jupyter-widgets/controls",
      "model_module_version": "1.5.0",
      "model_name": "DescriptionStyleModel",
      "state": {
       "description_width": ""
      }
     },
     "94f90f3bbb6f425fb3f2488e43cb2852": {
      "model_module": "@jupyter-widgets/base",
      "model_module_version": "1.2.0",
      "model_name": "LayoutModel",
      "state": {}
     },
     "95938533faec41ea8c452e606fac0960": {
      "model_module": "@jupyter-widgets/controls",
      "model_module_version": "1.5.0",
      "model_name": "HTMLModel",
      "state": {
       "layout": "IPY_MODEL_a54df95e5833446990395af9e6d48d52",
       "style": "IPY_MODEL_f1e1b6fed697426abde289a6fb45bd13",
       "value": " 100/100 [00:02&lt;00:00, 48.88it/s]"
      }
     },
     "9597e33decdc4a54b064e09e6064f682": {
      "model_module": "@jupyter-widgets/controls",
      "model_module_version": "1.5.0",
      "model_name": "HBoxModel",
      "state": {
       "children": [
        "IPY_MODEL_b64ad70ae2d04706af638c76f4668fea",
        "IPY_MODEL_cc7814438a73487e96574ded0f48438d",
        "IPY_MODEL_1eb6d94e7e9c4c45af49a64fe5c0e3ef"
       ],
       "layout": "IPY_MODEL_6e439772bb0245ffb4686a213aded785"
      }
     },
     "95f76966efe349cfb236a48903a89b2d": {
      "model_module": "@jupyter-widgets/controls",
      "model_module_version": "1.5.0",
      "model_name": "DescriptionStyleModel",
      "state": {
       "description_width": ""
      }
     },
     "964ed23ccfd8475491b166df39ffc9da": {
      "model_module": "@jupyter-widgets/base",
      "model_module_version": "1.2.0",
      "model_name": "LayoutModel",
      "state": {}
     },
     "96c5070d6cbb4ce5abbcbb5162661ac5": {
      "model_module": "@jupyter-widgets/controls",
      "model_module_version": "1.5.0",
      "model_name": "HBoxModel",
      "state": {
       "children": [
        "IPY_MODEL_f8084f20633b40ae9c37de161efd885f",
        "IPY_MODEL_79f01f7d17c24ef8a70b380143e69a21",
        "IPY_MODEL_6c594f36e0d64330a19901eb15e79a6e"
       ],
       "layout": "IPY_MODEL_767272ab6eb44f52bc16cea4083eedaa"
      }
     },
     "97469156f88d4486ada8d5b25be88592": {
      "model_module": "@jupyter-widgets/controls",
      "model_module_version": "1.5.0",
      "model_name": "DescriptionStyleModel",
      "state": {
       "description_width": ""
      }
     },
     "977bebef0a6c4b0aaa3b281e078aac1f": {
      "model_module": "@jupyter-widgets/base",
      "model_module_version": "1.2.0",
      "model_name": "LayoutModel",
      "state": {}
     },
     "97b9f755edea48e4b6333c53417faf67": {
      "model_module": "@jupyter-widgets/base",
      "model_module_version": "1.2.0",
      "model_name": "LayoutModel",
      "state": {}
     },
     "983e775ce9684a4781045c348ef601c1": {
      "model_module": "@jupyter-widgets/controls",
      "model_module_version": "1.5.0",
      "model_name": "ProgressStyleModel",
      "state": {
       "description_width": ""
      }
     },
     "989165f486824fa4ac7413dc6c9a5656": {
      "model_module": "@jupyter-widgets/controls",
      "model_module_version": "1.5.0",
      "model_name": "ProgressStyleModel",
      "state": {
       "description_width": ""
      }
     },
     "9936711c718e45018ac3f00cd20f2146": {
      "model_module": "@jupyter-widgets/controls",
      "model_module_version": "1.5.0",
      "model_name": "HTMLModel",
      "state": {
       "layout": "IPY_MODEL_1cbd9c92c49b42a6861cf5fa7a9ad47a",
       "style": "IPY_MODEL_231e569acae84c3eac3c5842f2655b09",
       "value": "100%"
      }
     },
     "9938880e453e47c295d82db5161c3a3b": {
      "model_module": "@jupyter-widgets/controls",
      "model_module_version": "1.5.0",
      "model_name": "DescriptionStyleModel",
      "state": {
       "description_width": ""
      }
     },
     "9979aa778e7048488fa5540c9e828514": {
      "model_module": "@jupyter-widgets/base",
      "model_module_version": "1.2.0",
      "model_name": "LayoutModel",
      "state": {}
     },
     "99930b95f19a4e60aa8a75f8b8d0adcc": {
      "model_module": "@jupyter-widgets/base",
      "model_module_version": "1.2.0",
      "model_name": "LayoutModel",
      "state": {}
     },
     "99bde1b0b1b44f00ab3ee352eb9e5035": {
      "model_module": "@jupyter-widgets/controls",
      "model_module_version": "1.5.0",
      "model_name": "DescriptionStyleModel",
      "state": {
       "description_width": ""
      }
     },
     "99fbaa504ee94e0cbf248ca174846f9a": {
      "model_module": "@jupyter-widgets/base",
      "model_module_version": "1.2.0",
      "model_name": "LayoutModel",
      "state": {}
     },
     "9a79cd83db4b4051a17095a5eb4cdf5c": {
      "model_module": "@jupyter-widgets/controls",
      "model_module_version": "1.5.0",
      "model_name": "DescriptionStyleModel",
      "state": {
       "description_width": ""
      }
     },
     "9c238c98777149d6828630c54fe793d0": {
      "model_module": "@jupyter-widgets/controls",
      "model_module_version": "1.5.0",
      "model_name": "DescriptionStyleModel",
      "state": {
       "description_width": ""
      }
     },
     "9c4fb78dd74f46dfb2c5d5c4b1f215f6": {
      "model_module": "@jupyter-widgets/controls",
      "model_module_version": "1.5.0",
      "model_name": "HBoxModel",
      "state": {
       "children": [
        "IPY_MODEL_be4d67c965924a68bd4004a62ebef041",
        "IPY_MODEL_e4e9e40b3711462299d0068073939808",
        "IPY_MODEL_de9d1eaf76fb4bd1b1aed6f376578018"
       ],
       "layout": "IPY_MODEL_bb4cf85af1cb4642bc0d80b7e7fc622d"
      }
     },
     "9c589cbe3639420099300e706a513622": {
      "model_module": "@jupyter-widgets/controls",
      "model_module_version": "1.5.0",
      "model_name": "DescriptionStyleModel",
      "state": {
       "description_width": ""
      }
     },
     "9c69d2817085490aa228ff81dc9bd0b2": {
      "model_module": "@jupyter-widgets/controls",
      "model_module_version": "1.5.0",
      "model_name": "DescriptionStyleModel",
      "state": {
       "description_width": ""
      }
     },
     "9c70c289f46b44958c003ff893cfedfa": {
      "model_module": "@jupyter-widgets/controls",
      "model_module_version": "1.5.0",
      "model_name": "HBoxModel",
      "state": {
       "children": [
        "IPY_MODEL_d281b68f5c9c40e593ee4c719bb37df0",
        "IPY_MODEL_d200da4579c948d09e3c236745be8ac0",
        "IPY_MODEL_15be43028565477b8b44cf5ace308282"
       ],
       "layout": "IPY_MODEL_6cc9e4bbac1945018bc8be49561d0e71"
      }
     },
     "9d919a66e64a463185b179a5091c22c1": {
      "model_module": "@jupyter-widgets/base",
      "model_module_version": "1.2.0",
      "model_name": "LayoutModel",
      "state": {}
     },
     "9df06a7d63734d33892fe916f3963f72": {
      "model_module": "@jupyter-widgets/base",
      "model_module_version": "1.2.0",
      "model_name": "LayoutModel",
      "state": {}
     },
     "9f00a426b28c4312820cdc7bdfe24202": {
      "model_module": "@jupyter-widgets/controls",
      "model_module_version": "1.5.0",
      "model_name": "HTMLModel",
      "state": {
       "layout": "IPY_MODEL_ace1db94746f4e818c5ffe51059525a0",
       "style": "IPY_MODEL_58359d6899ed45639a28f420da669d3e",
       "value": " 100/100 [00:02&lt;00:00, 49.44it/s]"
      }
     },
     "a03180db0ac54710a2934d41ce54cc76": {
      "model_module": "@jupyter-widgets/base",
      "model_module_version": "1.2.0",
      "model_name": "LayoutModel",
      "state": {}
     },
     "a06601cf83a0485685cb84e688fdbb43": {
      "model_module": "@jupyter-widgets/controls",
      "model_module_version": "1.5.0",
      "model_name": "HTMLModel",
      "state": {
       "layout": "IPY_MODEL_637d14fc03994ffeb5c3e3aa58b6939c",
       "style": "IPY_MODEL_f77702cb6b294097a2b0059331cd6053",
       "value": "100%"
      }
     },
     "a074cd83527d426ba354b00b85128a3a": {
      "model_module": "@jupyter-widgets/controls",
      "model_module_version": "1.5.0",
      "model_name": "HTMLModel",
      "state": {
       "layout": "IPY_MODEL_179fa8cd748848cf82be6ab76f2cc847",
       "style": "IPY_MODEL_479ad9955bf34b098e8fcee91a8b47c8",
       "value": " 100/100 [00:02&lt;00:00, 48.79it/s]"
      }
     },
     "a09ec22fd9c4427a95544f0abbfe8ec8": {
      "model_module": "@jupyter-widgets/controls",
      "model_module_version": "1.5.0",
      "model_name": "ProgressStyleModel",
      "state": {
       "description_width": ""
      }
     },
     "a0bafb432cbe4decb10fefc39cff86cd": {
      "model_module": "@jupyter-widgets/base",
      "model_module_version": "1.2.0",
      "model_name": "LayoutModel",
      "state": {}
     },
     "a0fddf9d7f58477da69bbb391faa7c10": {
      "model_module": "@jupyter-widgets/controls",
      "model_module_version": "1.5.0",
      "model_name": "HTMLModel",
      "state": {
       "layout": "IPY_MODEL_f2a56846eeef426eb4e3e0df279b3d71",
       "style": "IPY_MODEL_07c720e54702409e8282f7ceab7cf4f4",
       "value": "100%"
      }
     },
     "a10929972c3e45ce90d12687207cc200": {
      "model_module": "@jupyter-widgets/base",
      "model_module_version": "1.2.0",
      "model_name": "LayoutModel",
      "state": {}
     },
     "a1540e57558b44c4872abaaedf3c8c6f": {
      "model_module": "@jupyter-widgets/controls",
      "model_module_version": "1.5.0",
      "model_name": "HTMLModel",
      "state": {
       "layout": "IPY_MODEL_879dce38c309496fb6e3f2d8329c6cc7",
       "style": "IPY_MODEL_caef5b3b345744f380c47081b276a8e2",
       "value": " 100/100 [00:02&lt;00:00, 46.35it/s]"
      }
     },
     "a184827c04704be38a5f0f89a76d2419": {
      "model_module": "@jupyter-widgets/base",
      "model_module_version": "1.2.0",
      "model_name": "LayoutModel",
      "state": {}
     },
     "a21b8fa8759f4c428a3afd9013c96e69": {
      "model_module": "@jupyter-widgets/controls",
      "model_module_version": "1.5.0",
      "model_name": "HBoxModel",
      "state": {
       "children": [
        "IPY_MODEL_7e8ca593f2924294b090c967d300c41d",
        "IPY_MODEL_d49c7c6151d745af9f73c34535ed9621",
        "IPY_MODEL_3a220b2789834a08ad5d8404152ea176"
       ],
       "layout": "IPY_MODEL_38f3ed98937f474094c6005325ba4606"
      }
     },
     "a313d47e1fee4d93a3d7a26ed2b00726": {
      "model_module": "@jupyter-widgets/controls",
      "model_module_version": "1.5.0",
      "model_name": "DescriptionStyleModel",
      "state": {
       "description_width": ""
      }
     },
     "a38e7efdf59949c4bd8e099def8d0228": {
      "model_module": "@jupyter-widgets/controls",
      "model_module_version": "1.5.0",
      "model_name": "HTMLModel",
      "state": {
       "layout": "IPY_MODEL_d293d19d2bee4c779e9bf0c364805b05",
       "style": "IPY_MODEL_5986e14740144463a43ebe8721b1f333",
       "value": " 100/100 [00:02&lt;00:00, 40.56it/s]"
      }
     },
     "a39515a358e74ea9aadc23f987f8995b": {
      "model_module": "@jupyter-widgets/controls",
      "model_module_version": "1.5.0",
      "model_name": "ProgressStyleModel",
      "state": {
       "description_width": ""
      }
     },
     "a3c16d695bfc4d1389f24803c612098c": {
      "model_module": "@jupyter-widgets/controls",
      "model_module_version": "1.5.0",
      "model_name": "HTMLModel",
      "state": {
       "layout": "IPY_MODEL_7e95fee8cf5f40dd8ab645d0b7fd587a",
       "style": "IPY_MODEL_009b5159af2c4e56bb2d52164bbdfd53",
       "value": " 100/100 [2:20:58&lt;00:00, 84.59s/it]"
      }
     },
     "a3ffc213d9224766b70d0576abceb626": {
      "model_module": "@jupyter-widgets/base",
      "model_module_version": "1.2.0",
      "model_name": "LayoutModel",
      "state": {}
     },
     "a448406c61ff4f3ea286875f3cc42219": {
      "model_module": "@jupyter-widgets/base",
      "model_module_version": "1.2.0",
      "model_name": "LayoutModel",
      "state": {}
     },
     "a4b91444ce1b421287349ad25b7c66bc": {
      "model_module": "@jupyter-widgets/controls",
      "model_module_version": "1.5.0",
      "model_name": "DescriptionStyleModel",
      "state": {
       "description_width": ""
      }
     },
     "a4f6d4bf2bfc4575a4727aee28425c61": {
      "model_module": "@jupyter-widgets/base",
      "model_module_version": "1.2.0",
      "model_name": "LayoutModel",
      "state": {}
     },
     "a4fbee46fae44462b1dac261c5ac16e2": {
      "model_module": "@jupyter-widgets/controls",
      "model_module_version": "1.5.0",
      "model_name": "ProgressStyleModel",
      "state": {
       "description_width": ""
      }
     },
     "a541b153cf6845939b776ca1986d8035": {
      "model_module": "@jupyter-widgets/controls",
      "model_module_version": "1.5.0",
      "model_name": "HTMLModel",
      "state": {
       "layout": "IPY_MODEL_7908e2a5df3e43d6b4bb5dbc06299cfa",
       "style": "IPY_MODEL_51479c34b92b401bb1c9b75371325f6a",
       "value": " 100/100 [00:01&lt;00:00, 51.51it/s]"
      }
     },
     "a54df95e5833446990395af9e6d48d52": {
      "model_module": "@jupyter-widgets/base",
      "model_module_version": "1.2.0",
      "model_name": "LayoutModel",
      "state": {}
     },
     "a6014dc3c7734957a410e6dc6a2a185d": {
      "model_module": "@jupyter-widgets/controls",
      "model_module_version": "1.5.0",
      "model_name": "DescriptionStyleModel",
      "state": {
       "description_width": ""
      }
     },
     "a6340cbffad9429fa1210e42469212cf": {
      "model_module": "@jupyter-widgets/controls",
      "model_module_version": "1.5.0",
      "model_name": "DescriptionStyleModel",
      "state": {
       "description_width": ""
      }
     },
     "a63485ecbbb649ac853dd31dc746b314": {
      "model_module": "@jupyter-widgets/base",
      "model_module_version": "1.2.0",
      "model_name": "LayoutModel",
      "state": {}
     },
     "a71f3e00984740fb938c170e6fd6bcdf": {
      "model_module": "@jupyter-widgets/controls",
      "model_module_version": "1.5.0",
      "model_name": "ProgressStyleModel",
      "state": {
       "description_width": ""
      }
     },
     "a76e3e4ab1ab4a8daab0ee6b55fa3fed": {
      "model_module": "@jupyter-widgets/controls",
      "model_module_version": "1.5.0",
      "model_name": "FloatProgressModel",
      "state": {
       "bar_style": "success",
       "layout": "IPY_MODEL_a4f6d4bf2bfc4575a4727aee28425c61",
       "style": "IPY_MODEL_72fd3423295045589f1d2b0b44392505",
       "value": 100
      }
     },
     "a7896433692240c48b19fc921047848d": {
      "model_module": "@jupyter-widgets/controls",
      "model_module_version": "1.5.0",
      "model_name": "HTMLModel",
      "state": {
       "layout": "IPY_MODEL_eb5c9c82a5454321b93d82eb8ce22022",
       "style": "IPY_MODEL_dc5fe737a21f4d289decd1c2f9e6011b",
       "value": " 100/100 [00:02&lt;00:00, 41.92it/s]"
      }
     },
     "a78c6c09a3f846afb1732b7fd125d8e1": {
      "model_module": "@jupyter-widgets/base",
      "model_module_version": "1.2.0",
      "model_name": "LayoutModel",
      "state": {}
     },
     "a7f53d6bef7141ef9a464be1e147c496": {
      "model_module": "@jupyter-widgets/controls",
      "model_module_version": "1.5.0",
      "model_name": "ProgressStyleModel",
      "state": {
       "description_width": ""
      }
     },
     "a80c27d21e4e473a90b0deef623dbe74": {
      "model_module": "@jupyter-widgets/controls",
      "model_module_version": "1.5.0",
      "model_name": "HTMLModel",
      "state": {
       "layout": "IPY_MODEL_bb6dae3ebdc74d23b37f39254d80e71d",
       "style": "IPY_MODEL_5ff8cb8d0b374aa0a9d311ea6e74ac5e",
       "value": "100%"
      }
     },
     "a835b9af9be64bee87d540d3cc72590b": {
      "model_module": "@jupyter-widgets/base",
      "model_module_version": "1.2.0",
      "model_name": "LayoutModel",
      "state": {}
     },
     "a83867493e93409da2cc1d311f176089": {
      "model_module": "@jupyter-widgets/controls",
      "model_module_version": "1.5.0",
      "model_name": "FloatProgressModel",
      "state": {
       "bar_style": "success",
       "layout": "IPY_MODEL_674fb822da3549e780ae40a94ab36273",
       "style": "IPY_MODEL_847fa5abccf24b138772bf1a32df00d3",
       "value": 100
      }
     },
     "a9f1dbe5b9594d23a34b4aad49f7d646": {
      "model_module": "@jupyter-widgets/base",
      "model_module_version": "1.2.0",
      "model_name": "LayoutModel",
      "state": {}
     },
     "aa0eba1ae1a24f83a780dc3977dbe4d8": {
      "model_module": "@jupyter-widgets/controls",
      "model_module_version": "1.5.0",
      "model_name": "DescriptionStyleModel",
      "state": {
       "description_width": ""
      }
     },
     "aa0ebb062c7541fda5105ff86d18dcf8": {
      "model_module": "@jupyter-widgets/base",
      "model_module_version": "1.2.0",
      "model_name": "LayoutModel",
      "state": {}
     },
     "aa12fd58d3fb463a96a392e5d8f62128": {
      "model_module": "@jupyter-widgets/controls",
      "model_module_version": "1.5.0",
      "model_name": "FloatProgressModel",
      "state": {
       "bar_style": "success",
       "layout": "IPY_MODEL_94f90f3bbb6f425fb3f2488e43cb2852",
       "style": "IPY_MODEL_4d56de9eed314d6380217f27c4e3ecbf",
       "value": 100
      }
     },
     "aae2cf112c5941ac845610c24bd914d3": {
      "model_module": "@jupyter-widgets/controls",
      "model_module_version": "1.5.0",
      "model_name": "DescriptionStyleModel",
      "state": {
       "description_width": ""
      }
     },
     "aafa7ef7117f4a69a520b0a2d3b3aade": {
      "model_module": "@jupyter-widgets/controls",
      "model_module_version": "1.5.0",
      "model_name": "HTMLModel",
      "state": {
       "layout": "IPY_MODEL_40fcf9777da64d19a836176b4706edfd",
       "style": "IPY_MODEL_040bc003235b4280a0d3a165a061a4ae",
       "value": " 100/100 [2:07:57&lt;00:00, 76.78s/it]"
      }
     },
     "ab74b48be7ed42db9de86fee99cca70b": {
      "model_module": "@jupyter-widgets/controls",
      "model_module_version": "1.5.0",
      "model_name": "HTMLModel",
      "state": {
       "layout": "IPY_MODEL_f7ae68680fe1409f9673dafbfcce9249",
       "style": "IPY_MODEL_80f0c08f22034ebcb8e6710c559b7371",
       "value": " 100/100 [00:01&lt;00:00, 51.50it/s]"
      }
     },
     "abcf5ef8f7c74fd4864f9f14371b42b1": {
      "model_module": "@jupyter-widgets/controls",
      "model_module_version": "1.5.0",
      "model_name": "DescriptionStyleModel",
      "state": {
       "description_width": ""
      }
     },
     "ac110142cb5544f6a36a80b82f2dd059": {
      "model_module": "@jupyter-widgets/controls",
      "model_module_version": "1.5.0",
      "model_name": "ProgressStyleModel",
      "state": {
       "description_width": ""
      }
     },
     "ac50c32855924b7cb7738bdb1ad44fd2": {
      "model_module": "@jupyter-widgets/base",
      "model_module_version": "1.2.0",
      "model_name": "LayoutModel",
      "state": {}
     },
     "ac58a12ac71b455f865c049467327de4": {
      "model_module": "@jupyter-widgets/base",
      "model_module_version": "1.2.0",
      "model_name": "LayoutModel",
      "state": {}
     },
     "ace1db94746f4e818c5ffe51059525a0": {
      "model_module": "@jupyter-widgets/base",
      "model_module_version": "1.2.0",
      "model_name": "LayoutModel",
      "state": {}
     },
     "ad0a14dd94ff4b7e94c05b6f7c07dfd4": {
      "model_module": "@jupyter-widgets/base",
      "model_module_version": "1.2.0",
      "model_name": "LayoutModel",
      "state": {}
     },
     "ad5263bf7a244a688cf2f9cb2f4bfe2a": {
      "model_module": "@jupyter-widgets/controls",
      "model_module_version": "1.5.0",
      "model_name": "HBoxModel",
      "state": {
       "children": [
        "IPY_MODEL_f927be5beff34aec98ce1ecc6907a7b4",
        "IPY_MODEL_7777738707d640f0b043fba32ec870f6",
        "IPY_MODEL_0ea2c7502639455a8c7e5b8a42084b69"
       ],
       "layout": "IPY_MODEL_a63485ecbbb649ac853dd31dc746b314"
      }
     },
     "adb785270be5498c8100993405277f50": {
      "model_module": "@jupyter-widgets/controls",
      "model_module_version": "1.5.0",
      "model_name": "ProgressStyleModel",
      "state": {
       "description_width": ""
      }
     },
     "aeaf2bef14174d21925b7d07032df060": {
      "model_module": "@jupyter-widgets/base",
      "model_module_version": "1.2.0",
      "model_name": "LayoutModel",
      "state": {}
     },
     "aec4ccaec07740649a72e74990299570": {
      "model_module": "@jupyter-widgets/base",
      "model_module_version": "1.2.0",
      "model_name": "LayoutModel",
      "state": {}
     },
     "af19140e64a249db8129a70d29a1d590": {
      "model_module": "@jupyter-widgets/controls",
      "model_module_version": "1.5.0",
      "model_name": "DescriptionStyleModel",
      "state": {
       "description_width": ""
      }
     },
     "afb8bddf19d148af9195a31a9a3866c2": {
      "model_module": "@jupyter-widgets/controls",
      "model_module_version": "1.5.0",
      "model_name": "FloatProgressModel",
      "state": {
       "bar_style": "success",
       "layout": "IPY_MODEL_4d7825c05e3f471ca7bb94809c1799f1",
       "style": "IPY_MODEL_8ff62c8dc28446f683dc508ccfd19cc4",
       "value": 100
      }
     },
     "afc8124370b7472588d32bf27c2d51fa": {
      "model_module": "@jupyter-widgets/controls",
      "model_module_version": "1.5.0",
      "model_name": "FloatProgressModel",
      "state": {
       "bar_style": "success",
       "layout": "IPY_MODEL_449ef78aa3e949b7a7ed5e47974e4df5",
       "style": "IPY_MODEL_455393161efd4244a5753333aef9c979",
       "value": 100
      }
     },
     "b01cf55aed134f1d86bc79c4943478f6": {
      "model_module": "@jupyter-widgets/controls",
      "model_module_version": "1.5.0",
      "model_name": "HTMLModel",
      "state": {
       "layout": "IPY_MODEL_a184827c04704be38a5f0f89a76d2419",
       "style": "IPY_MODEL_68ba1ff536dc411f98d741e1ee5ecfd3",
       "value": "100%"
      }
     },
     "b1c0732f53ef41c6a41034c8e04245ae": {
      "model_module": "@jupyter-widgets/controls",
      "model_module_version": "1.5.0",
      "model_name": "ProgressStyleModel",
      "state": {
       "description_width": ""
      }
     },
     "b1ca7fadd5e543a2b0efdeef7c9e55b9": {
      "model_module": "@jupyter-widgets/controls",
      "model_module_version": "1.5.0",
      "model_name": "HTMLModel",
      "state": {
       "layout": "IPY_MODEL_912530b9ffdf482fa3dc817947f9c194",
       "style": "IPY_MODEL_a6014dc3c7734957a410e6dc6a2a185d",
       "value": "100%"
      }
     },
     "b2847711a12d4cdd8b5c60d5cefde6d3": {
      "model_module": "@jupyter-widgets/controls",
      "model_module_version": "1.5.0",
      "model_name": "DescriptionStyleModel",
      "state": {
       "description_width": ""
      }
     },
     "b2bc853dc6bf421fb8700ad128a53c15": {
      "model_module": "@jupyter-widgets/controls",
      "model_module_version": "1.5.0",
      "model_name": "HTMLModel",
      "state": {
       "layout": "IPY_MODEL_90680f7fe49b480ca2ccc90e68bb9bdb",
       "style": "IPY_MODEL_97469156f88d4486ada8d5b25be88592",
       "value": " 100/100 [00:16&lt;00:00,  6.09it/s]"
      }
     },
     "b2ee3d8f3fdf4753ae2004f1502f0df5": {
      "model_module": "@jupyter-widgets/base",
      "model_module_version": "1.2.0",
      "model_name": "LayoutModel",
      "state": {}
     },
     "b450da59d76c43ecb33b0eec4ba09e03": {
      "model_module": "@jupyter-widgets/controls",
      "model_module_version": "1.5.0",
      "model_name": "FloatProgressModel",
      "state": {
       "bar_style": "success",
       "layout": "IPY_MODEL_97b9f755edea48e4b6333c53417faf67",
       "style": "IPY_MODEL_415d61970fa9481c95ec878be1042030",
       "value": 100
      }
     },
     "b5af35cbe81b487f9485c08a6419935b": {
      "model_module": "@jupyter-widgets/controls",
      "model_module_version": "1.5.0",
      "model_name": "HTMLModel",
      "state": {
       "layout": "IPY_MODEL_83c7829ea31a4e3193c2eaa79040e2af",
       "style": "IPY_MODEL_f5abb2d1523d472fb83df1ad75f91bb6",
       "value": "100%"
      }
     },
     "b5f8a4bce3c644c2971bc0a3e5cf14d9": {
      "model_module": "@jupyter-widgets/controls",
      "model_module_version": "1.5.0",
      "model_name": "DescriptionStyleModel",
      "state": {
       "description_width": ""
      }
     },
     "b64ad70ae2d04706af638c76f4668fea": {
      "model_module": "@jupyter-widgets/controls",
      "model_module_version": "1.5.0",
      "model_name": "HTMLModel",
      "state": {
       "layout": "IPY_MODEL_728cfc332d05453a90ce4732e8ed2a10",
       "style": "IPY_MODEL_f530a683717b42ac8a9d25794ae57d2c",
       "value": "100%"
      }
     },
     "b68c8803231645cf9144288cf373dc3e": {
      "model_module": "@jupyter-widgets/controls",
      "model_module_version": "1.5.0",
      "model_name": "HBoxModel",
      "state": {
       "children": [
        "IPY_MODEL_09ddf0b258f34234b58a4d080a256610",
        "IPY_MODEL_cfb1c23a8adb4996b600939929ac7f2a",
        "IPY_MODEL_478d578da5184e82bac87e285f907010"
       ],
       "layout": "IPY_MODEL_62545042963c413a9a6cf2d74dab9335"
      }
     },
     "b6e0476b05f5499f952d8a6d8c176d9c": {
      "model_module": "@jupyter-widgets/base",
      "model_module_version": "1.2.0",
      "model_name": "LayoutModel",
      "state": {}
     },
     "b7856d77c03b4d7a84b873ae5c154ec8": {
      "model_module": "@jupyter-widgets/base",
      "model_module_version": "1.2.0",
      "model_name": "LayoutModel",
      "state": {}
     },
     "b8b402b3f4724d64900a1e822c3030b8": {
      "model_module": "@jupyter-widgets/controls",
      "model_module_version": "1.5.0",
      "model_name": "DescriptionStyleModel",
      "state": {
       "description_width": ""
      }
     },
     "b91c7a2d88dc4d58ab5f7eeb19ea4c88": {
      "model_module": "@jupyter-widgets/base",
      "model_module_version": "1.2.0",
      "model_name": "LayoutModel",
      "state": {}
     },
     "b94b1c45ddbe479c8dab7fe35927e0fa": {
      "model_module": "@jupyter-widgets/controls",
      "model_module_version": "1.5.0",
      "model_name": "HBoxModel",
      "state": {
       "children": [
        "IPY_MODEL_b5af35cbe81b487f9485c08a6419935b",
        "IPY_MODEL_be016eb70fca48d0be7e3882f6923bb3",
        "IPY_MODEL_dd4d634ea9144d83a22c7043daf23ec2"
       ],
       "layout": "IPY_MODEL_dce98b5250b94cac8a7ce551be528378"
      }
     },
     "b96a2391866f4cf3a4686d4d947c8c0f": {
      "model_module": "@jupyter-widgets/controls",
      "model_module_version": "1.5.0",
      "model_name": "ProgressStyleModel",
      "state": {
       "description_width": ""
      }
     },
     "ba4573a7f0ca4aee85e5868f69a3cc21": {
      "model_module": "@jupyter-widgets/base",
      "model_module_version": "1.2.0",
      "model_name": "LayoutModel",
      "state": {}
     },
     "bb269c220ef3480cac9ee983a8023b3d": {
      "model_module": "@jupyter-widgets/base",
      "model_module_version": "1.2.0",
      "model_name": "LayoutModel",
      "state": {}
     },
     "bb4cf85af1cb4642bc0d80b7e7fc622d": {
      "model_module": "@jupyter-widgets/base",
      "model_module_version": "1.2.0",
      "model_name": "LayoutModel",
      "state": {}
     },
     "bb6dae3ebdc74d23b37f39254d80e71d": {
      "model_module": "@jupyter-widgets/base",
      "model_module_version": "1.2.0",
      "model_name": "LayoutModel",
      "state": {}
     },
     "bbe2495ea8ff4853a4685e86be3915e5": {
      "model_module": "@jupyter-widgets/base",
      "model_module_version": "1.2.0",
      "model_name": "LayoutModel",
      "state": {}
     },
     "bc87274478204afa8b41a049c26430a9": {
      "model_module": "@jupyter-widgets/controls",
      "model_module_version": "1.5.0",
      "model_name": "HTMLModel",
      "state": {
       "layout": "IPY_MODEL_22b377d764e94b229e7f2743fe42dd66",
       "style": "IPY_MODEL_23d9095b006146d08f9aedda097f955b",
       "value": "100%"
      }
     },
     "bd350c16ed4d4d3c89c6d22174925bba": {
      "model_module": "@jupyter-widgets/base",
      "model_module_version": "1.2.0",
      "model_name": "LayoutModel",
      "state": {}
     },
     "bdf9912673314e5b8e7cd246f23ab185": {
      "model_module": "@jupyter-widgets/base",
      "model_module_version": "1.2.0",
      "model_name": "LayoutModel",
      "state": {}
     },
     "be016eb70fca48d0be7e3882f6923bb3": {
      "model_module": "@jupyter-widgets/controls",
      "model_module_version": "1.5.0",
      "model_name": "FloatProgressModel",
      "state": {
       "bar_style": "success",
       "layout": "IPY_MODEL_bbe2495ea8ff4853a4685e86be3915e5",
       "style": "IPY_MODEL_adb785270be5498c8100993405277f50",
       "value": 100
      }
     },
     "be04bcabee4b44358bc63f5a9bf142e6": {
      "model_module": "@jupyter-widgets/base",
      "model_module_version": "1.2.0",
      "model_name": "LayoutModel",
      "state": {}
     },
     "be4d67c965924a68bd4004a62ebef041": {
      "model_module": "@jupyter-widgets/controls",
      "model_module_version": "1.5.0",
      "model_name": "HTMLModel",
      "state": {
       "layout": "IPY_MODEL_8af3d8d243594c7bb48c0e5333afd068",
       "style": "IPY_MODEL_9a79cd83db4b4051a17095a5eb4cdf5c",
       "value": "100%"
      }
     },
     "be8ee7472d554cfca8d0e65552687c60": {
      "model_module": "@jupyter-widgets/controls",
      "model_module_version": "1.5.0",
      "model_name": "DescriptionStyleModel",
      "state": {
       "description_width": ""
      }
     },
     "bec77ae6894a43d388099c6e6b67fce6": {
      "model_module": "@jupyter-widgets/controls",
      "model_module_version": "1.5.0",
      "model_name": "DescriptionStyleModel",
      "state": {
       "description_width": ""
      }
     },
     "bf1e44925f2c4aba99780fe8d8302cdf": {
      "model_module": "@jupyter-widgets/controls",
      "model_module_version": "1.5.0",
      "model_name": "HBoxModel",
      "state": {
       "children": [
        "IPY_MODEL_5b94eec4f20c4a70a437f5a9b8be5f61",
        "IPY_MODEL_3bc0ad142cd5405ca28471fd9f9330d9",
        "IPY_MODEL_6280170bf9534dae885c18860872a5fa"
       ],
       "layout": "IPY_MODEL_df21d09c76834c4c8766592368105b28"
      }
     },
     "bf21b60f09174ebc90b2420bedd0b5cb": {
      "model_module": "@jupyter-widgets/controls",
      "model_module_version": "1.5.0",
      "model_name": "ProgressStyleModel",
      "state": {
       "description_width": ""
      }
     },
     "bfe97e971a0a4c67a2af7e04332ee6f8": {
      "model_module": "@jupyter-widgets/controls",
      "model_module_version": "1.5.0",
      "model_name": "ProgressStyleModel",
      "state": {
       "description_width": ""
      }
     },
     "c12f16f81a4641688756509a55da1ae2": {
      "model_module": "@jupyter-widgets/controls",
      "model_module_version": "1.5.0",
      "model_name": "HTMLModel",
      "state": {
       "layout": "IPY_MODEL_1974fda30a8a4230be7d7877e6b0aac5",
       "style": "IPY_MODEL_bec77ae6894a43d388099c6e6b67fce6",
       "value": "100%"
      }
     },
     "c309600709854fcb905bc5cf3f75c20d": {
      "model_module": "@jupyter-widgets/base",
      "model_module_version": "1.2.0",
      "model_name": "LayoutModel",
      "state": {}
     },
     "c37ac8d149c74baf905c611d8f0209ab": {
      "model_module": "@jupyter-widgets/controls",
      "model_module_version": "1.5.0",
      "model_name": "DescriptionStyleModel",
      "state": {
       "description_width": ""
      }
     },
     "c3ed7fc02acd449bae5ebcee3c00a049": {
      "model_module": "@jupyter-widgets/base",
      "model_module_version": "1.2.0",
      "model_name": "LayoutModel",
      "state": {}
     },
     "c5051ca21c354d6f9c8baf73bea9f929": {
      "model_module": "@jupyter-widgets/base",
      "model_module_version": "1.2.0",
      "model_name": "LayoutModel",
      "state": {}
     },
     "c50bbe5145a1410dad4525dffff3d4ab": {
      "model_module": "@jupyter-widgets/base",
      "model_module_version": "1.2.0",
      "model_name": "LayoutModel",
      "state": {}
     },
     "c5d7d9afcb9243c78201d9f82707a05c": {
      "model_module": "@jupyter-widgets/controls",
      "model_module_version": "1.5.0",
      "model_name": "HTMLModel",
      "state": {
       "layout": "IPY_MODEL_10a8f4ecd39e4f8db539fc8352eba097",
       "style": "IPY_MODEL_9c589cbe3639420099300e706a513622",
       "value": "100%"
      }
     },
     "c65585547c3343b5b40f1df06191d4de": {
      "model_module": "@jupyter-widgets/controls",
      "model_module_version": "1.5.0",
      "model_name": "HBoxModel",
      "state": {
       "children": [
        "IPY_MODEL_53abeac5d045499093dd567250192607",
        "IPY_MODEL_7ff4e6f72e5f4cd1a3a8ba133f53c72d",
        "IPY_MODEL_1fbab83cb4274789af3587f22eac452d"
       ],
       "layout": "IPY_MODEL_704a0ec471804b8e913f8390c51d58f8"
      }
     },
     "c88140822f354d9cbe3cb455df899b72": {
      "model_module": "@jupyter-widgets/controls",
      "model_module_version": "1.5.0",
      "model_name": "ProgressStyleModel",
      "state": {
       "description_width": ""
      }
     },
     "c966245a4e9b4e6880ea9f633eee6ae8": {
      "model_module": "@jupyter-widgets/base",
      "model_module_version": "1.2.0",
      "model_name": "LayoutModel",
      "state": {}
     },
     "c9763d7fdef545798b6a4d590b0eb080": {
      "model_module": "@jupyter-widgets/controls",
      "model_module_version": "1.5.0",
      "model_name": "FloatProgressModel",
      "state": {
       "bar_style": "success",
       "layout": "IPY_MODEL_369157eaf95f404a8ae0adfb4456514b",
       "style": "IPY_MODEL_5bc6c8d563bb4d41abeca75ad82fe10b",
       "value": 100
      }
     },
     "ca69cc973821480bb8dc5b253cae818a": {
      "model_module": "@jupyter-widgets/controls",
      "model_module_version": "1.5.0",
      "model_name": "ProgressStyleModel",
      "state": {
       "description_width": ""
      }
     },
     "caef5b3b345744f380c47081b276a8e2": {
      "model_module": "@jupyter-widgets/controls",
      "model_module_version": "1.5.0",
      "model_name": "DescriptionStyleModel",
      "state": {
       "description_width": ""
      }
     },
     "cafb7658e3d44c499ca9abb97c77100a": {
      "model_module": "@jupyter-widgets/controls",
      "model_module_version": "1.5.0",
      "model_name": "DescriptionStyleModel",
      "state": {
       "description_width": ""
      }
     },
     "cb3af7b408c8455a8b9fc2c977b75e0d": {
      "model_module": "@jupyter-widgets/controls",
      "model_module_version": "1.5.0",
      "model_name": "HTMLModel",
      "state": {
       "layout": "IPY_MODEL_828aa40fe4ab4c9ba5deca2c362a09e8",
       "style": "IPY_MODEL_801ab2ba9801454d9a11ccc04dd2d475",
       "value": " 44/44 [3:35:39&lt;00:00, 294.07s/it]"
      }
     },
     "cc736b5c316f4907885735e86509b870": {
      "model_module": "@jupyter-widgets/controls",
      "model_module_version": "1.5.0",
      "model_name": "HBoxModel",
      "state": {
       "children": [
        "IPY_MODEL_1dfb8c76f68a4db6b2978079db8e93c8",
        "IPY_MODEL_606d4c5e73994c81960ccf8f56837349",
        "IPY_MODEL_a7896433692240c48b19fc921047848d"
       ],
       "layout": "IPY_MODEL_854d243eef884ad4ad559716cdfc4101"
      }
     },
     "cc7814438a73487e96574ded0f48438d": {
      "model_module": "@jupyter-widgets/controls",
      "model_module_version": "1.5.0",
      "model_name": "FloatProgressModel",
      "state": {
       "bar_style": "success",
       "layout": "IPY_MODEL_33a7faecb7f4439aa6d98be997c17e55",
       "style": "IPY_MODEL_4f7cdcbc3c9a48eeb9950abe30ea5166",
       "value": 100
      }
     },
     "cf156d40ac134277a054f3d12ad55d85": {
      "model_module": "@jupyter-widgets/base",
      "model_module_version": "1.2.0",
      "model_name": "LayoutModel",
      "state": {}
     },
     "cf7880c44f674293a41a48d1b2c16761": {
      "model_module": "@jupyter-widgets/controls",
      "model_module_version": "1.5.0",
      "model_name": "DescriptionStyleModel",
      "state": {
       "description_width": ""
      }
     },
     "cf8daf2bc4e241b5b3e12ba4ffcaac4c": {
      "model_module": "@jupyter-widgets/controls",
      "model_module_version": "1.5.0",
      "model_name": "HTMLModel",
      "state": {
       "layout": "IPY_MODEL_26b5b75b1e0a453484c26ef4d422a4f7",
       "style": "IPY_MODEL_85bb4a6891864e75a2257d5599d65072",
       "value": "100%"
      }
     },
     "cfa061ed11764ad2a5a5294dfdd5cafc": {
      "model_module": "@jupyter-widgets/controls",
      "model_module_version": "1.5.0",
      "model_name": "DescriptionStyleModel",
      "state": {
       "description_width": ""
      }
     },
     "cfb1c23a8adb4996b600939929ac7f2a": {
      "model_module": "@jupyter-widgets/controls",
      "model_module_version": "1.5.0",
      "model_name": "FloatProgressModel",
      "state": {
       "bar_style": "success",
       "layout": "IPY_MODEL_a3ffc213d9224766b70d0576abceb626",
       "style": "IPY_MODEL_f129fd368d8342b1914586ce55f01937",
       "value": 100
      }
     },
     "d1c228dbcd064c7ba607e77b7b72650e": {
      "model_module": "@jupyter-widgets/controls",
      "model_module_version": "1.5.0",
      "model_name": "HTMLModel",
      "state": {
       "layout": "IPY_MODEL_6c0345611c744306b9afd978610a28e3",
       "style": "IPY_MODEL_2ae4550a734045299ef62f99c75dbd1c",
       "value": "100%"
      }
     },
     "d200da4579c948d09e3c236745be8ac0": {
      "model_module": "@jupyter-widgets/controls",
      "model_module_version": "1.5.0",
      "model_name": "FloatProgressModel",
      "state": {
       "bar_style": "success",
       "layout": "IPY_MODEL_e533e1bf349d4e7ca8df61da45b7f9f0",
       "style": "IPY_MODEL_7a2eed521cd346d1af5e4839debb4a2f",
       "value": 100
      }
     },
     "d281b68f5c9c40e593ee4c719bb37df0": {
      "model_module": "@jupyter-widgets/controls",
      "model_module_version": "1.5.0",
      "model_name": "HTMLModel",
      "state": {
       "layout": "IPY_MODEL_ad0a14dd94ff4b7e94c05b6f7c07dfd4",
       "style": "IPY_MODEL_b8b402b3f4724d64900a1e822c3030b8",
       "value": "100%"
      }
     },
     "d293d19d2bee4c779e9bf0c364805b05": {
      "model_module": "@jupyter-widgets/base",
      "model_module_version": "1.2.0",
      "model_name": "LayoutModel",
      "state": {}
     },
     "d29d250c763d41fd96f081b448302ec0": {
      "model_module": "@jupyter-widgets/base",
      "model_module_version": "1.2.0",
      "model_name": "LayoutModel",
      "state": {}
     },
     "d2a93c5722a24140a536bce778e0544a": {
      "model_module": "@jupyter-widgets/controls",
      "model_module_version": "1.5.0",
      "model_name": "ProgressStyleModel",
      "state": {
       "description_width": ""
      }
     },
     "d2c045e514eb4db083b5e2b19062b822": {
      "model_module": "@jupyter-widgets/base",
      "model_module_version": "1.2.0",
      "model_name": "LayoutModel",
      "state": {}
     },
     "d2e856d99602427989a612608934f7e2": {
      "model_module": "@jupyter-widgets/base",
      "model_module_version": "1.2.0",
      "model_name": "LayoutModel",
      "state": {}
     },
     "d3a1703d857b4123aefdf1559fdc9eff": {
      "model_module": "@jupyter-widgets/base",
      "model_module_version": "1.2.0",
      "model_name": "LayoutModel",
      "state": {}
     },
     "d45f80ba5b01424a980b9213feff52d9": {
      "model_module": "@jupyter-widgets/controls",
      "model_module_version": "1.5.0",
      "model_name": "HTMLModel",
      "state": {
       "layout": "IPY_MODEL_bdf9912673314e5b8e7cd246f23ab185",
       "style": "IPY_MODEL_559605e7f66c496b89fc85ed9074926d",
       "value": " 100/100 [2:19:55&lt;00:00, 83.95s/it]"
      }
     },
     "d49c7c6151d745af9f73c34535ed9621": {
      "model_module": "@jupyter-widgets/controls",
      "model_module_version": "1.5.0",
      "model_name": "FloatProgressModel",
      "state": {
       "bar_style": "success",
       "layout": "IPY_MODEL_d29d250c763d41fd96f081b448302ec0",
       "style": "IPY_MODEL_e8dbb763cb354952b374bd3c8d19adcf",
       "value": 100
      }
     },
     "d4c54a97358f42ffa5ba0ed6cd891c9a": {
      "model_module": "@jupyter-widgets/controls",
      "model_module_version": "1.5.0",
      "model_name": "DescriptionStyleModel",
      "state": {
       "description_width": ""
      }
     },
     "d515f516a2aa4c698d798d84f20e65e0": {
      "model_module": "@jupyter-widgets/base",
      "model_module_version": "1.2.0",
      "model_name": "LayoutModel",
      "state": {}
     },
     "d5838a459ad244b784bdfdad0c332c30": {
      "model_module": "@jupyter-widgets/controls",
      "model_module_version": "1.5.0",
      "model_name": "FloatProgressModel",
      "state": {
       "bar_style": "success",
       "layout": "IPY_MODEL_4b6d453cef4441c89eff0535c5e94633",
       "style": "IPY_MODEL_0a302604369b400ab853bfce3b9cac27",
       "value": 100
      }
     },
     "d58e355777c94fec814a91d1ea1648f4": {
      "model_module": "@jupyter-widgets/base",
      "model_module_version": "1.2.0",
      "model_name": "LayoutModel",
      "state": {}
     },
     "d6623ef470f046f5a18f67527447bca9": {
      "model_module": "@jupyter-widgets/controls",
      "model_module_version": "1.5.0",
      "model_name": "HTMLModel",
      "state": {
       "layout": "IPY_MODEL_feaa7e64212f466cb630745c9d201398",
       "style": "IPY_MODEL_259ad52d6fc24070ae3bab7efacd67de",
       "value": " 100/100 [25:50&lt;00:00, 15.51s/it]"
      }
     },
     "d70289f530b84e3a8938459626cf50a1": {
      "model_module": "@jupyter-widgets/controls",
      "model_module_version": "1.5.0",
      "model_name": "HBoxModel",
      "state": {
       "children": [
        "IPY_MODEL_5d4f9ec9f6bd49e68c37cb99ae3fadca",
        "IPY_MODEL_a76e3e4ab1ab4a8daab0ee6b55fa3fed",
        "IPY_MODEL_d6623ef470f046f5a18f67527447bca9"
       ],
       "layout": "IPY_MODEL_7afc9e60e03c48d987b1cb42ff79b667"
      }
     },
     "d75183e14f524a3c981e477d5331c052": {
      "model_module": "@jupyter-widgets/base",
      "model_module_version": "1.2.0",
      "model_name": "LayoutModel",
      "state": {}
     },
     "d76ee5056db14b75b9a870ac2172ab4b": {
      "model_module": "@jupyter-widgets/base",
      "model_module_version": "1.2.0",
      "model_name": "LayoutModel",
      "state": {}
     },
     "d77a0c3bd8a346d48575c0b7bd80b8eb": {
      "model_module": "@jupyter-widgets/base",
      "model_module_version": "1.2.0",
      "model_name": "LayoutModel",
      "state": {}
     },
     "d7ba082f9a29403cac3aa44852671af8": {
      "model_module": "@jupyter-widgets/controls",
      "model_module_version": "1.5.0",
      "model_name": "HTMLModel",
      "state": {
       "layout": "IPY_MODEL_fda3cea528f747f6919289e6a32db424",
       "style": "IPY_MODEL_6f70da08e4114cb6b488f2d490684a4b",
       "value": " 100/100 [04:52&lt;00:00,  2.93s/it]"
      }
     },
     "d8cfbc16be1b43e38693535795731a00": {
      "model_module": "@jupyter-widgets/controls",
      "model_module_version": "1.5.0",
      "model_name": "DescriptionStyleModel",
      "state": {
       "description_width": ""
      }
     },
     "da50744c66bf4e2ea0ef2889cdb0c7cb": {
      "model_module": "@jupyter-widgets/controls",
      "model_module_version": "1.5.0",
      "model_name": "HTMLModel",
      "state": {
       "layout": "IPY_MODEL_77df98eb1bfd4a7ebbf0a7e1937c9d0b",
       "style": "IPY_MODEL_1fd6547f262a4846a498a1ac7a56adfb",
       "value": " 100/100 [32:41&lt;00:00, 19.62s/it]"
      }
     },
     "dac9ad7c263447478b2de1779ba03bd6": {
      "model_module": "@jupyter-widgets/controls",
      "model_module_version": "1.5.0",
      "model_name": "HBoxModel",
      "state": {
       "children": [
        "IPY_MODEL_5d33e645d0de4902a3266e7710dbb2f9",
        "IPY_MODEL_40c8c218ed7c46d6bcdd3e0c6bf067a7",
        "IPY_MODEL_782892bd58dd47c99a2fd419bfe2ff29"
       ],
       "layout": "IPY_MODEL_005a26c02ea54c1e85cb1c3c940faa5f"
      }
     },
     "daf20895b1f84a119a422c3858e4199c": {
      "model_module": "@jupyter-widgets/base",
      "model_module_version": "1.2.0",
      "model_name": "LayoutModel",
      "state": {}
     },
     "dc5fe737a21f4d289decd1c2f9e6011b": {
      "model_module": "@jupyter-widgets/controls",
      "model_module_version": "1.5.0",
      "model_name": "DescriptionStyleModel",
      "state": {
       "description_width": ""
      }
     },
     "dce98b5250b94cac8a7ce551be528378": {
      "model_module": "@jupyter-widgets/base",
      "model_module_version": "1.2.0",
      "model_name": "LayoutModel",
      "state": {}
     },
     "dd4d634ea9144d83a22c7043daf23ec2": {
      "model_module": "@jupyter-widgets/controls",
      "model_module_version": "1.5.0",
      "model_name": "HTMLModel",
      "state": {
       "layout": "IPY_MODEL_59e510a542fc40fd9095e8279c5d7c53",
       "style": "IPY_MODEL_914017ade23a4ab19a1f2ff28726ef79",
       "value": " 100/100 [00:13&lt;00:00,  7.20it/s]"
      }
     },
     "de9d1eaf76fb4bd1b1aed6f376578018": {
      "model_module": "@jupyter-widgets/controls",
      "model_module_version": "1.5.0",
      "model_name": "HTMLModel",
      "state": {
       "layout": "IPY_MODEL_b6e0476b05f5499f952d8a6d8c176d9c",
       "style": "IPY_MODEL_4b164c51c2e1479fae9ef0620e2ad53e",
       "value": " 100/100 [00:02&lt;00:00, 46.91it/s]"
      }
     },
     "dee7081fbbae4eabb15fec38f93663b7": {
      "model_module": "@jupyter-widgets/base",
      "model_module_version": "1.2.0",
      "model_name": "LayoutModel",
      "state": {}
     },
     "def78df5cff9451c8616cb72a4e22df9": {
      "model_module": "@jupyter-widgets/controls",
      "model_module_version": "1.5.0",
      "model_name": "FloatProgressModel",
      "state": {
       "bar_style": "success",
       "layout": "IPY_MODEL_4e1567bda8d74f278ae426933957c003",
       "style": "IPY_MODEL_1e2b23d40b354fb2a23454ff0041369f",
       "value": 100
      }
     },
     "df21d09c76834c4c8766592368105b28": {
      "model_module": "@jupyter-widgets/base",
      "model_module_version": "1.2.0",
      "model_name": "LayoutModel",
      "state": {}
     },
     "df4aa66f652b46bba1ad6d3ea956e9ce": {
      "model_module": "@jupyter-widgets/controls",
      "model_module_version": "1.5.0",
      "model_name": "ProgressStyleModel",
      "state": {
       "description_width": ""
      }
     },
     "e0a7d58f2b6e427d875aa561606c88ba": {
      "model_module": "@jupyter-widgets/controls",
      "model_module_version": "1.5.0",
      "model_name": "HTMLModel",
      "state": {
       "layout": "IPY_MODEL_2b308fb5bfd3448fb9dbb8fda2ea8ec9",
       "style": "IPY_MODEL_7661bb0f11804f029f8b74ded8351b90",
       "value": " 44/44 [3:48:57&lt;00:00, 312.22s/it]"
      }
     },
     "e0be3566450f4a398324ccc48da86c0f": {
      "model_module": "@jupyter-widgets/base",
      "model_module_version": "1.2.0",
      "model_name": "LayoutModel",
      "state": {}
     },
     "e1b7f741ba384de3875d274a965fdba0": {
      "model_module": "@jupyter-widgets/controls",
      "model_module_version": "1.5.0",
      "model_name": "HBoxModel",
      "state": {
       "children": [
        "IPY_MODEL_60fe289dcb2a4bb3a2d5ebbe69b60f1c",
        "IPY_MODEL_279af155ac8148ee80e1448fb7b1ab99",
        "IPY_MODEL_3ea2cb88906445cf9d9a55f51e827fc3"
       ],
       "layout": "IPY_MODEL_1bbe25556e394ef68937acf957357b5b"
      }
     },
     "e1f3753ea02b4b14bfd98ea728e7da46": {
      "model_module": "@jupyter-widgets/base",
      "model_module_version": "1.2.0",
      "model_name": "LayoutModel",
      "state": {}
     },
     "e21071c82dc84a2e9815157c133e031d": {
      "model_module": "@jupyter-widgets/controls",
      "model_module_version": "1.5.0",
      "model_name": "ProgressStyleModel",
      "state": {
       "description_width": ""
      }
     },
     "e2e87a18aa3342a8abdf0f2500a1b18f": {
      "model_module": "@jupyter-widgets/controls",
      "model_module_version": "1.5.0",
      "model_name": "HBoxModel",
      "state": {
       "children": [
        "IPY_MODEL_f3c01e5f5f4940eda08de6e200a58f29",
        "IPY_MODEL_7f61104d72ec451299afad67dd1ffe48",
        "IPY_MODEL_e35293ad0cd44798ae447a8b60e4f491"
       ],
       "layout": "IPY_MODEL_55130166587542c0a3d4ba2bbc2fb73e"
      }
     },
     "e35293ad0cd44798ae447a8b60e4f491": {
      "model_module": "@jupyter-widgets/controls",
      "model_module_version": "1.5.0",
      "model_name": "HTMLModel",
      "state": {
       "layout": "IPY_MODEL_14cfca0d9f064c59be73e8f135ccf1fc",
       "style": "IPY_MODEL_be8ee7472d554cfca8d0e65552687c60",
       "value": " 100/100 [00:02&lt;00:00, 44.14it/s]"
      }
     },
     "e4512ddfe1aa4c209ca95b1014031d20": {
      "model_module": "@jupyter-widgets/base",
      "model_module_version": "1.2.0",
      "model_name": "LayoutModel",
      "state": {}
     },
     "e4ab034ce24e40e28b336330df170a01": {
      "model_module": "@jupyter-widgets/controls",
      "model_module_version": "1.5.0",
      "model_name": "HTMLModel",
      "state": {
       "layout": "IPY_MODEL_4fd9e8e7c3da45398664277a445945f3",
       "style": "IPY_MODEL_65b2cc661258424aa5a8c8e676a805f2",
       "value": " 100/100 [04:43&lt;00:00,  2.84s/it]"
      }
     },
     "e4d5d713659f4737973a01e0946c2827": {
      "model_module": "@jupyter-widgets/base",
      "model_module_version": "1.2.0",
      "model_name": "LayoutModel",
      "state": {}
     },
     "e4e9e40b3711462299d0068073939808": {
      "model_module": "@jupyter-widgets/controls",
      "model_module_version": "1.5.0",
      "model_name": "FloatProgressModel",
      "state": {
       "bar_style": "success",
       "layout": "IPY_MODEL_e9f6526c3b354860ba7e529b93ea498e",
       "style": "IPY_MODEL_65f4233fe0dc4b42b012f8845426195a",
       "value": 100
      }
     },
     "e503b6fa63de48e59c2b796ac402948f": {
      "model_module": "@jupyter-widgets/controls",
      "model_module_version": "1.5.0",
      "model_name": "HBoxModel",
      "state": {
       "children": [
        "IPY_MODEL_88b5bb9bb6dc45f89c6124209e245ac8",
        "IPY_MODEL_6dd8a28bb2aa4dc29266403bb8624875",
        "IPY_MODEL_e0a7d58f2b6e427d875aa561606c88ba"
       ],
       "layout": "IPY_MODEL_67ee1c0cce4040f2beff9dd3b146d0b6"
      }
     },
     "e51360891ea446b78bd86dbc496988a1": {
      "model_module": "@jupyter-widgets/controls",
      "model_module_version": "1.5.0",
      "model_name": "HBoxModel",
      "state": {
       "children": [
        "IPY_MODEL_cf8daf2bc4e241b5b3e12ba4ffcaac4c",
        "IPY_MODEL_7b702c84cee44363a3add0b1beae4fa5",
        "IPY_MODEL_2d08be385d16453e831dd772fe93b3cf"
       ],
       "layout": "IPY_MODEL_4204d8a5071f4e6ea7443c1a6423e20d"
      }
     },
     "e533e1bf349d4e7ca8df61da45b7f9f0": {
      "model_module": "@jupyter-widgets/base",
      "model_module_version": "1.2.0",
      "model_name": "LayoutModel",
      "state": {}
     },
     "e61247bf5c114f138cc079c86bee2b51": {
      "model_module": "@jupyter-widgets/base",
      "model_module_version": "1.2.0",
      "model_name": "LayoutModel",
      "state": {}
     },
     "e63876f1e6444e82b1ec4d9078417f54": {
      "model_module": "@jupyter-widgets/base",
      "model_module_version": "1.2.0",
      "model_name": "LayoutModel",
      "state": {}
     },
     "e6ac401b5e8a4e56bacfe93d462db133": {
      "model_module": "@jupyter-widgets/base",
      "model_module_version": "1.2.0",
      "model_name": "LayoutModel",
      "state": {}
     },
     "e72044f1c01645a483a694b62d78447b": {
      "model_module": "@jupyter-widgets/controls",
      "model_module_version": "1.5.0",
      "model_name": "DescriptionStyleModel",
      "state": {
       "description_width": ""
      }
     },
     "e86f97bc3ae646ab88e238c6a686d407": {
      "model_module": "@jupyter-widgets/controls",
      "model_module_version": "1.5.0",
      "model_name": "DescriptionStyleModel",
      "state": {
       "description_width": ""
      }
     },
     "e8b990fc99aa45e8b508af4e5ede19d3": {
      "model_module": "@jupyter-widgets/controls",
      "model_module_version": "1.5.0",
      "model_name": "HBoxModel",
      "state": {
       "children": [
        "IPY_MODEL_6afa79874b494b7299b3cd976c9f0722",
        "IPY_MODEL_f96d165250424fdc96558e74afb8199d",
        "IPY_MODEL_48181e8d87bc4a3c855353cdcbc1f7f7"
       ],
       "layout": "IPY_MODEL_317a645d59d24fd7a6f6136b8e8fc672"
      }
     },
     "e8dbb763cb354952b374bd3c8d19adcf": {
      "model_module": "@jupyter-widgets/controls",
      "model_module_version": "1.5.0",
      "model_name": "ProgressStyleModel",
      "state": {
       "description_width": ""
      }
     },
     "e9f6526c3b354860ba7e529b93ea498e": {
      "model_module": "@jupyter-widgets/base",
      "model_module_version": "1.2.0",
      "model_name": "LayoutModel",
      "state": {}
     },
     "eab68da12293489494ce79b46663d464": {
      "model_module": "@jupyter-widgets/base",
      "model_module_version": "1.2.0",
      "model_name": "LayoutModel",
      "state": {}
     },
     "eb25be15159b4c9282c6b382bdffbb43": {
      "model_module": "@jupyter-widgets/controls",
      "model_module_version": "1.5.0",
      "model_name": "HTMLModel",
      "state": {
       "layout": "IPY_MODEL_d75183e14f524a3c981e477d5331c052",
       "style": "IPY_MODEL_7a137ce3b707484cb1e5527f77be5766",
       "value": "100%"
      }
     },
     "eb3837fcbe1443198da3c669dd7a42df": {
      "model_module": "@jupyter-widgets/base",
      "model_module_version": "1.2.0",
      "model_name": "LayoutModel",
      "state": {}
     },
     "eb5c9c82a5454321b93d82eb8ce22022": {
      "model_module": "@jupyter-widgets/base",
      "model_module_version": "1.2.0",
      "model_name": "LayoutModel",
      "state": {}
     },
     "ecc32f19b78b4d68a6d203734480b528": {
      "model_module": "@jupyter-widgets/base",
      "model_module_version": "1.2.0",
      "model_name": "LayoutModel",
      "state": {}
     },
     "eccd8e13908442cfb89e2ab79816df52": {
      "model_module": "@jupyter-widgets/controls",
      "model_module_version": "1.5.0",
      "model_name": "HBoxModel",
      "state": {
       "children": [
        "IPY_MODEL_2d77f01338344873a2ed460bc3d76c95",
        "IPY_MODEL_03b9c63da99348f69a1d09c21dd9ea96",
        "IPY_MODEL_b2bc853dc6bf421fb8700ad128a53c15"
       ],
       "layout": "IPY_MODEL_ed57306d5ef747ad9a3759eadf025017"
      }
     },
     "ed57306d5ef747ad9a3759eadf025017": {
      "model_module": "@jupyter-widgets/base",
      "model_module_version": "1.2.0",
      "model_name": "LayoutModel",
      "state": {}
     },
     "ee73a63c43da4570940c7edfb415e41e": {
      "model_module": "@jupyter-widgets/controls",
      "model_module_version": "1.5.0",
      "model_name": "DescriptionStyleModel",
      "state": {
       "description_width": ""
      }
     },
     "ef024606ffe543248d9bafddb1a863a2": {
      "model_module": "@jupyter-widgets/controls",
      "model_module_version": "1.5.0",
      "model_name": "HTMLModel",
      "state": {
       "layout": "IPY_MODEL_a835b9af9be64bee87d540d3cc72590b",
       "style": "IPY_MODEL_cf7880c44f674293a41a48d1b2c16761",
       "value": "100%"
      }
     },
     "efa3dedf6cbf452bb1259a88cbf2b0f9": {
      "model_module": "@jupyter-widgets/base",
      "model_module_version": "1.2.0",
      "model_name": "LayoutModel",
      "state": {}
     },
     "f01af6883f1640b2be2ae7cf3e2f6198": {
      "model_module": "@jupyter-widgets/base",
      "model_module_version": "1.2.0",
      "model_name": "LayoutModel",
      "state": {}
     },
     "f081adef55e04a74baabe3c53adf57be": {
      "model_module": "@jupyter-widgets/controls",
      "model_module_version": "1.5.0",
      "model_name": "DescriptionStyleModel",
      "state": {
       "description_width": ""
      }
     },
     "f0d3e44c21284e289dbddfe39afa262a": {
      "model_module": "@jupyter-widgets/base",
      "model_module_version": "1.2.0",
      "model_name": "LayoutModel",
      "state": {}
     },
     "f114d5d764ae44dd96bd4e2b836457ca": {
      "model_module": "@jupyter-widgets/controls",
      "model_module_version": "1.5.0",
      "model_name": "HTMLModel",
      "state": {
       "layout": "IPY_MODEL_eab68da12293489494ce79b46663d464",
       "style": "IPY_MODEL_63f2888bc9344820b64c5b90f42596b6",
       "value": " 100/100 [00:03&lt;00:00, 25.69it/s]"
      }
     },
     "f129fd368d8342b1914586ce55f01937": {
      "model_module": "@jupyter-widgets/controls",
      "model_module_version": "1.5.0",
      "model_name": "ProgressStyleModel",
      "state": {
       "description_width": ""
      }
     },
     "f1ade9d8ca6b463699ea9e1ebce4ee24": {
      "model_module": "@jupyter-widgets/controls",
      "model_module_version": "1.5.0",
      "model_name": "HTMLModel",
      "state": {
       "layout": "IPY_MODEL_3eac8697a1d64988a77bba136c1a30f6",
       "style": "IPY_MODEL_94c4e26b4c93455fab502597d8b9a7bf",
       "value": "100%"
      }
     },
     "f1d2fe831ba84d7b87a4a92875fdf893": {
      "model_module": "@jupyter-widgets/controls",
      "model_module_version": "1.5.0",
      "model_name": "ProgressStyleModel",
      "state": {
       "description_width": ""
      }
     },
     "f1e1b6fed697426abde289a6fb45bd13": {
      "model_module": "@jupyter-widgets/controls",
      "model_module_version": "1.5.0",
      "model_name": "DescriptionStyleModel",
      "state": {
       "description_width": ""
      }
     },
     "f2a56846eeef426eb4e3e0df279b3d71": {
      "model_module": "@jupyter-widgets/base",
      "model_module_version": "1.2.0",
      "model_name": "LayoutModel",
      "state": {}
     },
     "f2afcd8c82404502bb03d0f5302a67b5": {
      "model_module": "@jupyter-widgets/controls",
      "model_module_version": "1.5.0",
      "model_name": "HBoxModel",
      "state": {
       "children": [
        "IPY_MODEL_bc87274478204afa8b41a049c26430a9",
        "IPY_MODEL_44cb3f1f2d45432dbca17b7bf835b9d3",
        "IPY_MODEL_a3c16d695bfc4d1389f24803c612098c"
       ],
       "layout": "IPY_MODEL_2d8239f7c5dd4f2f935d5627067b92ad"
      }
     },
     "f2fe49c56867422599839868c215cb8e": {
      "model_module": "@jupyter-widgets/controls",
      "model_module_version": "1.5.0",
      "model_name": "DescriptionStyleModel",
      "state": {
       "description_width": ""
      }
     },
     "f30176c527b144ac9ffc74b156c506ed": {
      "model_module": "@jupyter-widgets/base",
      "model_module_version": "1.2.0",
      "model_name": "LayoutModel",
      "state": {}
     },
     "f347bfbde380425dbabeb72b549edaef": {
      "model_module": "@jupyter-widgets/base",
      "model_module_version": "1.2.0",
      "model_name": "LayoutModel",
      "state": {}
     },
     "f34915e73d79420fbaf45df2fe14e667": {
      "model_module": "@jupyter-widgets/controls",
      "model_module_version": "1.5.0",
      "model_name": "HTMLModel",
      "state": {
       "layout": "IPY_MODEL_c309600709854fcb905bc5cf3f75c20d",
       "style": "IPY_MODEL_b5f8a4bce3c644c2971bc0a3e5cf14d9",
       "value": "100%"
      }
     },
     "f3c01e5f5f4940eda08de6e200a58f29": {
      "model_module": "@jupyter-widgets/controls",
      "model_module_version": "1.5.0",
      "model_name": "HTMLModel",
      "state": {
       "layout": "IPY_MODEL_977bebef0a6c4b0aaa3b281e078aac1f",
       "style": "IPY_MODEL_abcf5ef8f7c74fd4864f9f14371b42b1",
       "value": "100%"
      }
     },
     "f4076612b2b04b2aaaa17ccddf3bdfea": {
      "model_module": "@jupyter-widgets/controls",
      "model_module_version": "1.5.0",
      "model_name": "HTMLModel",
      "state": {
       "layout": "IPY_MODEL_82bbec8c4a684dcf81a053708e97fda9",
       "style": "IPY_MODEL_e86f97bc3ae646ab88e238c6a686d407",
       "value": "100%"
      }
     },
     "f41d680a87444a76a8dea1c647163755": {
      "model_module": "@jupyter-widgets/controls",
      "model_module_version": "1.5.0",
      "model_name": "DescriptionStyleModel",
      "state": {
       "description_width": ""
      }
     },
     "f451bd14bbbb412f94ff19ffda25b2f4": {
      "model_module": "@jupyter-widgets/controls",
      "model_module_version": "1.5.0",
      "model_name": "ProgressStyleModel",
      "state": {
       "description_width": ""
      }
     },
     "f4970d3435194e64af675ecbf4f796cd": {
      "model_module": "@jupyter-widgets/controls",
      "model_module_version": "1.5.0",
      "model_name": "HBoxModel",
      "state": {
       "children": [
        "IPY_MODEL_f4076612b2b04b2aaaa17ccddf3bdfea",
        "IPY_MODEL_3208e5c0bdfb407fb8dc155be2bd7386",
        "IPY_MODEL_5926ae41e174450e9ca4dfeff5eb77a2"
       ],
       "layout": "IPY_MODEL_3af1520b7cc04866ab33a29b3b56ea49"
      }
     },
     "f4cab7b0726a42f08f1d3a999d8ef9b4": {
      "model_module": "@jupyter-widgets/base",
      "model_module_version": "1.2.0",
      "model_name": "LayoutModel",
      "state": {}
     },
     "f530a683717b42ac8a9d25794ae57d2c": {
      "model_module": "@jupyter-widgets/controls",
      "model_module_version": "1.5.0",
      "model_name": "DescriptionStyleModel",
      "state": {
       "description_width": ""
      }
     },
     "f5abb2d1523d472fb83df1ad75f91bb6": {
      "model_module": "@jupyter-widgets/controls",
      "model_module_version": "1.5.0",
      "model_name": "DescriptionStyleModel",
      "state": {
       "description_width": ""
      }
     },
     "f5bcaed212834bd6af9b8a821252bab4": {
      "model_module": "@jupyter-widgets/controls",
      "model_module_version": "1.5.0",
      "model_name": "DescriptionStyleModel",
      "state": {
       "description_width": ""
      }
     },
     "f5c00bd51e874c9ba56c61b1c3c0f145": {
      "model_module": "@jupyter-widgets/base",
      "model_module_version": "1.2.0",
      "model_name": "LayoutModel",
      "state": {}
     },
     "f61d255d1fe4409295e08d15eb22bfbc": {
      "model_module": "@jupyter-widgets/base",
      "model_module_version": "1.2.0",
      "model_name": "LayoutModel",
      "state": {}
     },
     "f77702cb6b294097a2b0059331cd6053": {
      "model_module": "@jupyter-widgets/controls",
      "model_module_version": "1.5.0",
      "model_name": "DescriptionStyleModel",
      "state": {
       "description_width": ""
      }
     },
     "f7ae68680fe1409f9673dafbfcce9249": {
      "model_module": "@jupyter-widgets/base",
      "model_module_version": "1.2.0",
      "model_name": "LayoutModel",
      "state": {}
     },
     "f8084f20633b40ae9c37de161efd885f": {
      "model_module": "@jupyter-widgets/controls",
      "model_module_version": "1.5.0",
      "model_name": "HTMLModel",
      "state": {
       "layout": "IPY_MODEL_02aa683331a64a49a7552c13b7915b8d",
       "style": "IPY_MODEL_cafb7658e3d44c499ca9abb97c77100a",
       "value": "100%"
      }
     },
     "f907eaab62ee4268889684b238367a5e": {
      "model_module": "@jupyter-widgets/controls",
      "model_module_version": "1.5.0",
      "model_name": "ProgressStyleModel",
      "state": {
       "description_width": ""
      }
     },
     "f927be5beff34aec98ce1ecc6907a7b4": {
      "model_module": "@jupyter-widgets/controls",
      "model_module_version": "1.5.0",
      "model_name": "HTMLModel",
      "state": {
       "layout": "IPY_MODEL_14e7e8e89ea941f59797dec490ce2494",
       "style": "IPY_MODEL_2a76c500340244c9a56b22fc86f53cee",
       "value": "100%"
      }
     },
     "f96d165250424fdc96558e74afb8199d": {
      "model_module": "@jupyter-widgets/controls",
      "model_module_version": "1.5.0",
      "model_name": "FloatProgressModel",
      "state": {
       "bar_style": "success",
       "layout": "IPY_MODEL_d3a1703d857b4123aefdf1559fdc9eff",
       "style": "IPY_MODEL_f451bd14bbbb412f94ff19ffda25b2f4",
       "value": 100
      }
     },
     "f980d9ea172a4b61b77ede5c4c7efdc4": {
      "model_module": "@jupyter-widgets/controls",
      "model_module_version": "1.5.0",
      "model_name": "FloatProgressModel",
      "state": {
       "bar_style": "success",
       "layout": "IPY_MODEL_aec4ccaec07740649a72e74990299570",
       "style": "IPY_MODEL_bf21b60f09174ebc90b2420bedd0b5cb",
       "value": 100
      }
     },
     "fa2f09226e1342ffb038f9dee507209a": {
      "model_module": "@jupyter-widgets/controls",
      "model_module_version": "1.5.0",
      "model_name": "HTMLModel",
      "state": {
       "layout": "IPY_MODEL_f4cab7b0726a42f08f1d3a999d8ef9b4",
       "style": "IPY_MODEL_6aef80d29a7b4afb82825ff4c41f5e20",
       "value": "100%"
      }
     },
     "fa4529a3f13848059e0daf7ca080eee8": {
      "model_module": "@jupyter-widgets/controls",
      "model_module_version": "1.5.0",
      "model_name": "HTMLModel",
      "state": {
       "layout": "IPY_MODEL_4ee553d3ead74d6983ca185b8431310a",
       "style": "IPY_MODEL_5800bd8fae1e4242954e480108ed9e43",
       "value": " 100/100 [00:02&lt;00:00, 49.10it/s]"
      }
     },
     "fb0eba7008614a2eb1d2da7484030193": {
      "model_module": "@jupyter-widgets/controls",
      "model_module_version": "1.5.0",
      "model_name": "ProgressStyleModel",
      "state": {
       "description_width": ""
      }
     },
     "fd15bb120b484487854c37257131685e": {
      "model_module": "@jupyter-widgets/controls",
      "model_module_version": "1.5.0",
      "model_name": "FloatProgressModel",
      "state": {
       "bar_style": "success",
       "layout": "IPY_MODEL_ecc32f19b78b4d68a6d203734480b528",
       "style": "IPY_MODEL_68c757f70b8c4c9dbcd42bf476ea817a",
       "value": 100
      }
     },
     "fd5abc0826484de5a6cc8172b40fac3d": {
      "model_module": "@jupyter-widgets/controls",
      "model_module_version": "1.5.0",
      "model_name": "FloatProgressModel",
      "state": {
       "bar_style": "success",
       "layout": "IPY_MODEL_1d00402043504bb08f36dce7a646ec5d",
       "style": "IPY_MODEL_a7f53d6bef7141ef9a464be1e147c496",
       "value": 100
      }
     },
     "fda3cea528f747f6919289e6a32db424": {
      "model_module": "@jupyter-widgets/base",
      "model_module_version": "1.2.0",
      "model_name": "LayoutModel",
      "state": {}
     },
     "fe69e8903bed4999a989d2a5cfc611a1": {
      "model_module": "@jupyter-widgets/base",
      "model_module_version": "1.2.0",
      "model_name": "LayoutModel",
      "state": {}
     },
     "fe6a32314af546b5849cedd9319f4f52": {
      "model_module": "@jupyter-widgets/controls",
      "model_module_version": "1.5.0",
      "model_name": "HTMLModel",
      "state": {
       "layout": "IPY_MODEL_bd350c16ed4d4d3c89c6d22174925bba",
       "style": "IPY_MODEL_a6340cbffad9429fa1210e42469212cf",
       "value": " 100/100 [00:04&lt;00:00, 21.86it/s]"
      }
     },
     "fea8879e577c4461b4ba168fcccf7d4b": {
      "model_module": "@jupyter-widgets/controls",
      "model_module_version": "1.5.0",
      "model_name": "DescriptionStyleModel",
      "state": {
       "description_width": ""
      }
     },
     "feaa7e64212f466cb630745c9d201398": {
      "model_module": "@jupyter-widgets/base",
      "model_module_version": "1.2.0",
      "model_name": "LayoutModel",
      "state": {}
     }
    },
    "version_major": 2,
    "version_minor": 0
   }
  }
 },
 "nbformat": 4,
 "nbformat_minor": 4
}
