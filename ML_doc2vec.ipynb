{
 "cells": [
  {
   "cell_type": "markdown",
   "metadata": {},
   "source": [
    "# Machine learning with text based housing data"
   ]
  },
  {
   "cell_type": "markdown",
   "metadata": {},
   "source": [
    "Experimenting with text based housing data."
   ]
  },
  {
   "cell_type": "markdown",
   "metadata": {},
   "source": [
    "### Import packages"
   ]
  },
  {
   "cell_type": "code",
   "execution_count": 1,
   "metadata": {},
   "outputs": [],
   "source": [
    "import json\n",
    "import math\n",
    "import warnings\n",
    "warnings.filterwarnings(action=\"ignore\")\n",
    "\n",
    "from catboost import CatBoostRegressor\n",
    "import xgboost as xgb\n",
    "\n",
    "from sklearn.metrics import mean_absolute_error, r2_score, mean_squared_error\n",
    "from sklearn.preprocessing import StandardScaler\n",
    "from sklearn.model_selection import train_test_split, RandomizedSearchCV, KFold\n",
    "from sklearn.ensemble import RandomForestClassifier\n",
    "from sklearn import linear_model\n",
    "\n",
    "import matplotlib.pyplot as plt\n",
    "import numpy as np\n",
    "import pandas as pd\n",
    "from tqdm.notebook import tqdm\n",
    "from IPython.display import display_html"
   ]
  },
  {
   "cell_type": "markdown",
   "metadata": {},
   "source": [
    "Definde constants.\n",
    "\n",
    "- ``PATH``: Path to the base data folder\n",
    "- ``MAX_DIST``: Maximum distance for article weights\n",
    "- ``K_FOLDS``: Number of folds to perform for cross validation"
   ]
  },
  {
   "cell_type": "code",
   "execution_count": 2,
   "metadata": {},
   "outputs": [],
   "source": [
    "PATH = \"C:/Users/Tim/.keras/datasets/wikipedia_real_estate/\"\n",
    "MAX_DIST = 5000\n",
    "K_FOLDS = 5"
   ]
  },
  {
   "cell_type": "markdown",
   "metadata": {},
   "source": [
    "Lead structured data with added text features."
   ]
  },
  {
   "cell_type": "code",
   "execution_count": 3,
   "metadata": {
    "scrolled": false
   },
   "outputs": [
    {
     "name": "stdout",
     "output_type": "stream",
     "text": [
      "(9556, 365)\n"
     ]
    },
    {
     "data": {
      "text/html": [
       "<div>\n",
       "<style scoped>\n",
       "    .dataframe tbody tr th:only-of-type {\n",
       "        vertical-align: middle;\n",
       "    }\n",
       "\n",
       "    .dataframe tbody tr th {\n",
       "        vertical-align: top;\n",
       "    }\n",
       "\n",
       "    .dataframe thead th {\n",
       "        text-align: right;\n",
       "    }\n",
       "</style>\n",
       "<table border=\"1\" class=\"dataframe\">\n",
       "  <thead>\n",
       "    <tr style=\"text-align: right;\">\n",
       "      <th></th>\n",
       "      <th>_id</th>\n",
       "      <th>PROPERTYZIP</th>\n",
       "      <th>MUNICODE</th>\n",
       "      <th>SCHOOLCODE</th>\n",
       "      <th>NEIGHCODE</th>\n",
       "      <th>LOTAREA</th>\n",
       "      <th>SALEDATE</th>\n",
       "      <th>SALEPRICE</th>\n",
       "      <th>FAIRMARKETTOTAL</th>\n",
       "      <th>STORIES</th>\n",
       "      <th>...</th>\n",
       "      <th>vec_291</th>\n",
       "      <th>vec_292</th>\n",
       "      <th>vec_293</th>\n",
       "      <th>vec_294</th>\n",
       "      <th>vec_295</th>\n",
       "      <th>vec_296</th>\n",
       "      <th>vec_297</th>\n",
       "      <th>vec_298</th>\n",
       "      <th>vec_299</th>\n",
       "      <th>vec_300</th>\n",
       "    </tr>\n",
       "  </thead>\n",
       "  <tbody>\n",
       "    <tr>\n",
       "      <th>0</th>\n",
       "      <td>362058</td>\n",
       "      <td>15212</td>\n",
       "      <td>126</td>\n",
       "      <td>47</td>\n",
       "      <td>12603</td>\n",
       "      <td>5329</td>\n",
       "      <td>10-27-2017</td>\n",
       "      <td>113000.0</td>\n",
       "      <td>69200</td>\n",
       "      <td>1.0</td>\n",
       "      <td>...</td>\n",
       "      <td>-9.796203</td>\n",
       "      <td>-18.593355</td>\n",
       "      <td>-50.138167</td>\n",
       "      <td>31.661196</td>\n",
       "      <td>29.778861</td>\n",
       "      <td>-24.893443</td>\n",
       "      <td>-35.822241</td>\n",
       "      <td>-6.260757</td>\n",
       "      <td>13.613537</td>\n",
       "      <td>-42.302236</td>\n",
       "    </tr>\n",
       "    <tr>\n",
       "      <th>1</th>\n",
       "      <td>544290</td>\n",
       "      <td>15017</td>\n",
       "      <td>946</td>\n",
       "      <td>36</td>\n",
       "      <td>94601</td>\n",
       "      <td>10800</td>\n",
       "      <td>09-27-2016</td>\n",
       "      <td>320000.0</td>\n",
       "      <td>269900</td>\n",
       "      <td>2.0</td>\n",
       "      <td>...</td>\n",
       "      <td>0.512429</td>\n",
       "      <td>0.532064</td>\n",
       "      <td>-0.413200</td>\n",
       "      <td>0.162363</td>\n",
       "      <td>0.578378</td>\n",
       "      <td>0.487045</td>\n",
       "      <td>0.330141</td>\n",
       "      <td>-1.271629</td>\n",
       "      <td>-0.068568</td>\n",
       "      <td>-0.382046</td>\n",
       "    </tr>\n",
       "    <tr>\n",
       "      <th>2</th>\n",
       "      <td>314083</td>\n",
       "      <td>15090</td>\n",
       "      <td>935</td>\n",
       "      <td>3</td>\n",
       "      <td>93503</td>\n",
       "      <td>114476</td>\n",
       "      <td>03-25-2017</td>\n",
       "      <td>545000.0</td>\n",
       "      <td>450000</td>\n",
       "      <td>1.0</td>\n",
       "      <td>...</td>\n",
       "      <td>-0.433479</td>\n",
       "      <td>0.497991</td>\n",
       "      <td>-0.362472</td>\n",
       "      <td>0.362897</td>\n",
       "      <td>1.139053</td>\n",
       "      <td>-0.554338</td>\n",
       "      <td>-0.400123</td>\n",
       "      <td>-1.061791</td>\n",
       "      <td>0.297390</td>\n",
       "      <td>-1.056080</td>\n",
       "    </tr>\n",
       "    <tr>\n",
       "      <th>3</th>\n",
       "      <td>314280</td>\n",
       "      <td>15241</td>\n",
       "      <td>950</td>\n",
       "      <td>42</td>\n",
       "      <td>95003</td>\n",
       "      <td>43197</td>\n",
       "      <td>06-09-2016</td>\n",
       "      <td>315000.0</td>\n",
       "      <td>274000</td>\n",
       "      <td>2.0</td>\n",
       "      <td>...</td>\n",
       "      <td>-0.642973</td>\n",
       "      <td>0.570541</td>\n",
       "      <td>-1.148950</td>\n",
       "      <td>0.727212</td>\n",
       "      <td>0.941203</td>\n",
       "      <td>-0.000637</td>\n",
       "      <td>0.250378</td>\n",
       "      <td>-0.570598</td>\n",
       "      <td>0.512188</td>\n",
       "      <td>-0.897177</td>\n",
       "    </tr>\n",
       "    <tr>\n",
       "      <th>4</th>\n",
       "      <td>314812</td>\n",
       "      <td>15239</td>\n",
       "      <td>880</td>\n",
       "      <td>31</td>\n",
       "      <td>88006</td>\n",
       "      <td>12390</td>\n",
       "      <td>01-31-2017</td>\n",
       "      <td>174900.0</td>\n",
       "      <td>154100</td>\n",
       "      <td>2.0</td>\n",
       "      <td>...</td>\n",
       "      <td>0.089984</td>\n",
       "      <td>0.249701</td>\n",
       "      <td>-0.246685</td>\n",
       "      <td>-0.150849</td>\n",
       "      <td>0.088410</td>\n",
       "      <td>0.232431</td>\n",
       "      <td>-0.207343</td>\n",
       "      <td>-0.065307</td>\n",
       "      <td>-0.003261</td>\n",
       "      <td>0.030794</td>\n",
       "    </tr>\n",
       "    <tr>\n",
       "      <th>5</th>\n",
       "      <td>315579</td>\n",
       "      <td>15143</td>\n",
       "      <td>921</td>\n",
       "      <td>32</td>\n",
       "      <td>92102</td>\n",
       "      <td>10081</td>\n",
       "      <td>03-02-2015</td>\n",
       "      <td>300000.0</td>\n",
       "      <td>244600</td>\n",
       "      <td>2.0</td>\n",
       "      <td>...</td>\n",
       "      <td>-1.161360</td>\n",
       "      <td>0.826251</td>\n",
       "      <td>-1.453523</td>\n",
       "      <td>1.125376</td>\n",
       "      <td>2.642963</td>\n",
       "      <td>0.576404</td>\n",
       "      <td>0.395513</td>\n",
       "      <td>-1.176827</td>\n",
       "      <td>0.125640</td>\n",
       "      <td>-4.000058</td>\n",
       "    </tr>\n",
       "    <tr>\n",
       "      <th>6</th>\n",
       "      <td>315587</td>\n",
       "      <td>15235</td>\n",
       "      <td>934</td>\n",
       "      <td>30</td>\n",
       "      <td>93401</td>\n",
       "      <td>10257</td>\n",
       "      <td>05-15-2017</td>\n",
       "      <td>172500.0</td>\n",
       "      <td>144700</td>\n",
       "      <td>2.0</td>\n",
       "      <td>...</td>\n",
       "      <td>-0.799475</td>\n",
       "      <td>0.532983</td>\n",
       "      <td>-0.609679</td>\n",
       "      <td>-0.212419</td>\n",
       "      <td>0.005209</td>\n",
       "      <td>-0.734228</td>\n",
       "      <td>-0.109818</td>\n",
       "      <td>-0.516780</td>\n",
       "      <td>0.701884</td>\n",
       "      <td>-0.817381</td>\n",
       "    </tr>\n",
       "    <tr>\n",
       "      <th>7</th>\n",
       "      <td>362804</td>\n",
       "      <td>15102</td>\n",
       "      <td>876</td>\n",
       "      <td>5</td>\n",
       "      <td>87603</td>\n",
       "      <td>10920</td>\n",
       "      <td>07-11-2016</td>\n",
       "      <td>250000.0</td>\n",
       "      <td>217800</td>\n",
       "      <td>2.0</td>\n",
       "      <td>...</td>\n",
       "      <td>-2.078840</td>\n",
       "      <td>1.984523</td>\n",
       "      <td>-2.359517</td>\n",
       "      <td>2.727928</td>\n",
       "      <td>2.246496</td>\n",
       "      <td>0.485931</td>\n",
       "      <td>1.536420</td>\n",
       "      <td>-0.267323</td>\n",
       "      <td>0.816341</td>\n",
       "      <td>-0.087536</td>\n",
       "    </tr>\n",
       "    <tr>\n",
       "      <th>8</th>\n",
       "      <td>315758</td>\n",
       "      <td>15108</td>\n",
       "      <td>939</td>\n",
       "      <td>24</td>\n",
       "      <td>93903</td>\n",
       "      <td>54189</td>\n",
       "      <td>09-28-2018</td>\n",
       "      <td>199900.0</td>\n",
       "      <td>174700</td>\n",
       "      <td>1.0</td>\n",
       "      <td>...</td>\n",
       "      <td>-0.242182</td>\n",
       "      <td>-0.002154</td>\n",
       "      <td>-1.022322</td>\n",
       "      <td>0.732458</td>\n",
       "      <td>0.655006</td>\n",
       "      <td>-0.781192</td>\n",
       "      <td>0.347673</td>\n",
       "      <td>-1.210835</td>\n",
       "      <td>0.124744</td>\n",
       "      <td>-1.185205</td>\n",
       "    </tr>\n",
       "    <tr>\n",
       "      <th>9</th>\n",
       "      <td>315868</td>\n",
       "      <td>15133</td>\n",
       "      <td>837</td>\n",
       "      <td>35</td>\n",
       "      <td>83702</td>\n",
       "      <td>6569</td>\n",
       "      <td>05-12-2017</td>\n",
       "      <td>143000.0</td>\n",
       "      <td>117900</td>\n",
       "      <td>2.0</td>\n",
       "      <td>...</td>\n",
       "      <td>-1.449996</td>\n",
       "      <td>-0.999158</td>\n",
       "      <td>-0.516546</td>\n",
       "      <td>2.057970</td>\n",
       "      <td>0.636430</td>\n",
       "      <td>-1.716206</td>\n",
       "      <td>0.582574</td>\n",
       "      <td>-1.705143</td>\n",
       "      <td>1.444035</td>\n",
       "      <td>-4.217766</td>\n",
       "    </tr>\n",
       "  </tbody>\n",
       "</table>\n",
       "<p>10 rows × 365 columns</p>\n",
       "</div>"
      ],
      "text/plain": [
       "      _id  PROPERTYZIP  MUNICODE  SCHOOLCODE  NEIGHCODE  LOTAREA    SALEDATE  \\\n",
       "0  362058        15212       126          47      12603     5329  10-27-2017   \n",
       "1  544290        15017       946          36      94601    10800  09-27-2016   \n",
       "2  314083        15090       935           3      93503   114476  03-25-2017   \n",
       "3  314280        15241       950          42      95003    43197  06-09-2016   \n",
       "4  314812        15239       880          31      88006    12390  01-31-2017   \n",
       "5  315579        15143       921          32      92102    10081  03-02-2015   \n",
       "6  315587        15235       934          30      93401    10257  05-15-2017   \n",
       "7  362804        15102       876           5      87603    10920  07-11-2016   \n",
       "8  315758        15108       939          24      93903    54189  09-28-2018   \n",
       "9  315868        15133       837          35      83702     6569  05-12-2017   \n",
       "\n",
       "   SALEPRICE  FAIRMARKETTOTAL  STORIES  ...   vec_291    vec_292    vec_293  \\\n",
       "0   113000.0            69200      1.0  ... -9.796203 -18.593355 -50.138167   \n",
       "1   320000.0           269900      2.0  ...  0.512429   0.532064  -0.413200   \n",
       "2   545000.0           450000      1.0  ... -0.433479   0.497991  -0.362472   \n",
       "3   315000.0           274000      2.0  ... -0.642973   0.570541  -1.148950   \n",
       "4   174900.0           154100      2.0  ...  0.089984   0.249701  -0.246685   \n",
       "5   300000.0           244600      2.0  ... -1.161360   0.826251  -1.453523   \n",
       "6   172500.0           144700      2.0  ... -0.799475   0.532983  -0.609679   \n",
       "7   250000.0           217800      2.0  ... -2.078840   1.984523  -2.359517   \n",
       "8   199900.0           174700      1.0  ... -0.242182  -0.002154  -1.022322   \n",
       "9   143000.0           117900      2.0  ... -1.449996  -0.999158  -0.516546   \n",
       "\n",
       "     vec_294    vec_295    vec_296    vec_297   vec_298    vec_299    vec_300  \n",
       "0  31.661196  29.778861 -24.893443 -35.822241 -6.260757  13.613537 -42.302236  \n",
       "1   0.162363   0.578378   0.487045   0.330141 -1.271629  -0.068568  -0.382046  \n",
       "2   0.362897   1.139053  -0.554338  -0.400123 -1.061791   0.297390  -1.056080  \n",
       "3   0.727212   0.941203  -0.000637   0.250378 -0.570598   0.512188  -0.897177  \n",
       "4  -0.150849   0.088410   0.232431  -0.207343 -0.065307  -0.003261   0.030794  \n",
       "5   1.125376   2.642963   0.576404   0.395513 -1.176827   0.125640  -4.000058  \n",
       "6  -0.212419   0.005209  -0.734228  -0.109818 -0.516780   0.701884  -0.817381  \n",
       "7   2.727928   2.246496   0.485931   1.536420 -0.267323   0.816341  -0.087536  \n",
       "8   0.732458   0.655006  -0.781192   0.347673 -1.210835   0.124744  -1.185205  \n",
       "9   2.057970   0.636430  -1.716206   0.582574 -1.705143   1.444035  -4.217766  \n",
       "\n",
       "[10 rows x 365 columns]"
      ]
     },
     "execution_count": 3,
     "metadata": {},
     "output_type": "execute_result"
    }
   ],
   "source": [
    "structured_wiki_text = pd.read_csv(\n",
    "    PATH + f\"structured_wiki_doc2vec_features_{MAX_DIST}.csv\")\n",
    "print(structured_wiki_text.shape)\n",
    "structured_wiki_text.head(10)"
   ]
  },
  {
   "cell_type": "markdown",
   "metadata": {},
   "source": [
    "### Defining useful functions"
   ]
  },
  {
   "cell_type": "code",
   "execution_count": 4,
   "metadata": {},
   "outputs": [],
   "source": [
    "def find_coord(x, df):\n",
    "    \"\"\"Returns id, latitude and longitude for property with given id\"\"\"\n",
    "    \n",
    "    _id, lat, long = x[0], x[1], x[2]\n",
    "    row = df[df[\"_id\"] == _id].iloc[0]\n",
    "    return row[\"_id\"], row[\"latitude\"], row[\"longitude\"]"
   ]
  },
  {
   "cell_type": "code",
   "execution_count": 5,
   "metadata": {},
   "outputs": [],
   "source": [
    "def make_train_test(df):\n",
    "    \"\"\"Returns train/test sets along with column names and df for saving errors\"\"\"\n",
    "\n",
    "    X = df.drop([\"PROPERTYZIP\", \"MUNICODE\", \"SCHOOLCODE\", \"NEIGHCODE\", \"SALEDATE\", \"SALEPRICE\",\n",
    "                 \"FAIRMARKETTOTAL\", \"latitude\", \"longitude\", \"SALEYEAR\"], axis=1)\n",
    "\n",
    "    # save col names for later\n",
    "    X_columns = list(X.columns)\n",
    "    # remove id from col list, since it will be filtered out later\n",
    "    X_columns.remove(\"_id\")\n",
    "    X = X.to_numpy()\n",
    "\n",
    "    y = df[\"SALEPRICE\"].to_numpy()\n",
    "\n",
    "    X_train, X_test, y_train, y_test = train_test_split(\n",
    "        X, y, test_size=0.25, random_state=42)\n",
    "\n",
    "    # save ids for later\n",
    "    train_ids = [x[0] for x in X_train]\n",
    "    test_ids = [x[0] for x in X_test]\n",
    "    X_train = X_train[:, 1:]  # remove first column (id)\n",
    "    X_test = X_test[:, 1:]    # remove first column (id)\n",
    "\n",
    "    X_train_train, X_train_val, y_train_train, y_train_val = train_test_split(\n",
    "        X_train, y_train, test_size=0.25, random_state=42)\n",
    "\n",
    "    print(f\"{X_train.shape}: {X_train_train.shape} + {X_train_val.shape}\")\n",
    "    print(f\"{y_train.shape}: {y_train_train.shape} + {y_train_val.shape}\")\n",
    "    print(X_test.shape)\n",
    "    print(y_test.shape)\n",
    "\n",
    "    # create error df\n",
    "    error_df = pd.DataFrame(\n",
    "        data={\"id\": test_ids, \"lat\": [0]*len(test_ids), \"long\": [0]*len(test_ids)})\n",
    "    error_df = error_df.apply(lambda x: find_coord(\n",
    "        x, df), axis=1, result_type='broadcast')\n",
    "    error_df.head(10)\n",
    "\n",
    "    return X_columns, [X, y, X_train, X_test, y_train, y_test, X_train_train, X_train_val, y_train_train, y_train_val], error_df"
   ]
  },
  {
   "cell_type": "code",
   "execution_count": 6,
   "metadata": {},
   "outputs": [],
   "source": [
    "def mean_absolute_percentage_error(y_true, y_pred):\n",
    "    \"\"\"Returns MAPE\"\"\"\n",
    "    \n",
    "    y_true, y_pred = np.array(y_true), np.array(y_pred)\n",
    "    return np.mean(np.abs((y_true - y_pred) / y_true)) * 100"
   ]
  },
  {
   "cell_type": "code",
   "execution_count": 7,
   "metadata": {},
   "outputs": [],
   "source": [
    "def get_metrics(y_true, y_pred, print_out=True):\n",
    "    \"\"\"Returns MAE, RMSE, MAPE and R^2\"\"\"\n",
    "    \n",
    "    mae = mean_absolute_error(y_true, y_pred)\n",
    "    rmse = mean_squared_error(y_true, y_pred, squared=False)\n",
    "    mape = mean_absolute_percentage_error(y_true, y_pred)\n",
    "    r_squared = r2_score(y_true, y_pred)\n",
    "\n",
    "    if print_out:\n",
    "        print(f\"MAE:  {round(mae)}\")\n",
    "        print(f\"RMSE: {round(rmse)}\")\n",
    "        print(f\"MAPE: {round(mape, 2)}%\")\n",
    "        print(f\"R^2:  {round(r_squared, 3)}\")\n",
    "\n",
    "    return mae, rmse, mape, r_squared"
   ]
  },
  {
   "cell_type": "code",
   "execution_count": 8,
   "metadata": {},
   "outputs": [],
   "source": [
    "def cross_validation(estimator, X, y):\n",
    "    \"\"\"Returns and prints cross validated MAE, RMSE, MAPE and R^2\"\"\"\n",
    "    \n",
    "    maes, rmses, mapes, r_squareds = [], [], [], []\n",
    "    X_cv = X[:, 1:]  # remove \"_id\" column\n",
    "\n",
    "    kf = KFold(n_splits=K_FOLDS, shuffle=True, random_state=42)\n",
    "    for train_index, test_index in tqdm(kf.split(X_cv), total=5):\n",
    "        X_train, X_test = X_cv[train_index], X_cv[test_index]\n",
    "        y_train, y_test = y[train_index], y[test_index]\n",
    "        \n",
    "        if \"linear_model\" in str(type(estimator)):\n",
    "            estimator.fit(X=X_train, y=y_train)\n",
    "        else:\n",
    "            estimator.fit(X=X_train, y=y_train, verbose=False)\n",
    "\n",
    "        y_pred_cv = estimator.predict(X_test)\n",
    "        mae, rmse, mape, r_squared = get_metrics(y_test, y_pred_cv, print_out=False)\n",
    "        maes.append(mae)\n",
    "        rmses.append(rmse)\n",
    "        mapes.append(mape)\n",
    "        r_squareds.append(r_squared)\n",
    "    \n",
    "    mae_cv, rmse_cv = round(np.mean(maes)), round(np.mean(rmses))\n",
    "    mape_cv, r_squared_cv = round(np.mean(mapes), 2), round(np.mean(r_squareds), 3)\n",
    "    \n",
    "    print(f\"MAE:  {mae_cv}\")\n",
    "    print(f\"RMSE: {rmse_cv}\")\n",
    "    print(f\"MAPE: {mape_cv}%\")\n",
    "    print(f\"R^2:  {r_squared_cv}\")\n",
    "    \n",
    "    return mae_cv, rmse_cv, mape_cv, r_squared_cv"
   ]
  },
  {
   "cell_type": "markdown",
   "metadata": {},
   "source": [
    "Create the data sets and error dataframe"
   ]
  },
  {
   "cell_type": "code",
   "execution_count": 9,
   "metadata": {},
   "outputs": [
    {
     "name": "stdout",
     "output_type": "stream",
     "text": [
      "(7167, 354): (5375, 354) + (1792, 354)\n",
      "(7167,): (5375,) + (1792,)\n",
      "(2389, 354)\n",
      "(2389,)\n"
     ]
    }
   ],
   "source": [
    "X_columns_text, data_sets, error_df = make_train_test(structured_wiki_text)\n",
    "X, y, X_train, X_test, y_train, y_test, X_train_train, X_train_val, y_train_train, y_train_val = data_sets"
   ]
  },
  {
   "cell_type": "markdown",
   "metadata": {},
   "source": [
    "Create results df"
   ]
  },
  {
   "cell_type": "code",
   "execution_count": 10,
   "metadata": {},
   "outputs": [],
   "source": [
    "results_df = pd.DataFrame()"
   ]
  },
  {
   "cell_type": "markdown",
   "metadata": {},
   "source": [
    "## Only text features"
   ]
  },
  {
   "cell_type": "markdown",
   "metadata": {},
   "source": [
    "Remove all structured data"
   ]
  },
  {
   "cell_type": "code",
   "execution_count": 11,
   "metadata": {
    "scrolled": true
   },
   "outputs": [],
   "source": [
    "X_train_text = X_train[:, 53:]\n",
    "X_test_text = X_test[:, 53:]"
   ]
  },
  {
   "cell_type": "markdown",
   "metadata": {},
   "source": [
    "### Linear regression"
   ]
  },
  {
   "cell_type": "code",
   "execution_count": 12,
   "metadata": {},
   "outputs": [
    {
     "data": {
      "text/plain": [
       "Ridge()"
      ]
     },
     "execution_count": 12,
     "metadata": {},
     "output_type": "execute_result"
    }
   ],
   "source": [
    "# model_01 = linear_model.LinearRegression()\n",
    "# model_01 = linear_model.Lasso()\n",
    "model_01 = linear_model.Ridge()\n",
    "model_01.fit(X_train_text, y_train)"
   ]
  },
  {
   "cell_type": "code",
   "execution_count": 13,
   "metadata": {},
   "outputs": [
    {
     "name": "stdout",
     "output_type": "stream",
     "text": [
      "MAE:  60763\n",
      "RMSE: 89365\n",
      "MAPE: 35.71%\n",
      "R^2:  0.58\n"
     ]
    }
   ],
   "source": [
    "y_pred_01 = model_01.predict(X_test_text)\n",
    "metrics_01 = get_metrics(y_test, y_pred_01)"
   ]
  },
  {
   "cell_type": "markdown",
   "metadata": {},
   "source": [
    "Cross validation"
   ]
  },
  {
   "cell_type": "code",
   "execution_count": 14,
   "metadata": {},
   "outputs": [
    {
     "data": {
      "application/vnd.jupyter.widget-view+json": {
       "model_id": "d7a45f0d162942f5afbaefc91cc803b3",
       "version_major": 2,
       "version_minor": 0
      },
      "text/plain": [
       "  0%|          | 0/5 [00:00<?, ?it/s]"
      ]
     },
     "metadata": {},
     "output_type": "display_data"
    },
    {
     "name": "stdout",
     "output_type": "stream",
     "text": [
      "MAE:  59385\n",
      "RMSE: 87647\n",
      "MAPE: 34.69%\n",
      "R^2:  0.588\n"
     ]
    }
   ],
   "source": [
    "results_df[\"Linear: T\"] = cross_validation(model_01, X[:, 52:], y)"
   ]
  },
  {
   "cell_type": "markdown",
   "metadata": {},
   "source": [
    "### Catboost"
   ]
  },
  {
   "cell_type": "code",
   "execution_count": 15,
   "metadata": {},
   "outputs": [
    {
     "data": {
      "text/plain": [
       "<catboost.core.CatBoostRegressor at 0x25dd967f6c8>"
      ]
     },
     "execution_count": 15,
     "metadata": {},
     "output_type": "execute_result"
    }
   ],
   "source": [
    "model_02 = CatBoostRegressor()\n",
    "model_02.fit(X=X_train_text, y=y_train, verbose=False)"
   ]
  },
  {
   "cell_type": "code",
   "execution_count": 16,
   "metadata": {},
   "outputs": [
    {
     "name": "stdout",
     "output_type": "stream",
     "text": [
      "MAE:  50802\n",
      "RMSE: 76128\n",
      "MAPE: 29.89%\n",
      "R^2:  0.695\n"
     ]
    }
   ],
   "source": [
    "y_pred_02 = model_02.predict(X_test_text)\n",
    "metrics_02 = get_metrics(y_test, y_pred_02)"
   ]
  },
  {
   "cell_type": "markdown",
   "metadata": {},
   "source": [
    "Cross validation"
   ]
  },
  {
   "cell_type": "code",
   "execution_count": 17,
   "metadata": {
    "scrolled": true
   },
   "outputs": [
    {
     "data": {
      "application/vnd.jupyter.widget-view+json": {
       "model_id": "8426e80e575348089258e21ed3a01f04",
       "version_major": 2,
       "version_minor": 0
      },
      "text/plain": [
       "  0%|          | 0/5 [00:00<?, ?it/s]"
      ]
     },
     "metadata": {},
     "output_type": "display_data"
    },
    {
     "name": "stdout",
     "output_type": "stream",
     "text": [
      "MAE:  49880\n",
      "RMSE: 76410\n",
      "MAPE: 29.08%\n",
      "R^2:  0.687\n"
     ]
    }
   ],
   "source": [
    "results_df[\"Catboost: T\"] = cross_validation(model_02, X[:, 52:], y)"
   ]
  },
  {
   "cell_type": "markdown",
   "metadata": {},
   "source": [
    "## Combining structured and text features"
   ]
  },
  {
   "cell_type": "markdown",
   "metadata": {},
   "source": [
    "### Linear regression"
   ]
  },
  {
   "cell_type": "code",
   "execution_count": 18,
   "metadata": {},
   "outputs": [
    {
     "data": {
      "text/plain": [
       "Ridge()"
      ]
     },
     "execution_count": 18,
     "metadata": {},
     "output_type": "execute_result"
    }
   ],
   "source": [
    "# model_03 = linear_model.LinearRegression()\n",
    "# model_03 = linear_model.Lasso()\n",
    "model_03 = linear_model.Ridge()\n",
    "model_03.fit(X_train, y_train)"
   ]
  },
  {
   "cell_type": "code",
   "execution_count": 19,
   "metadata": {},
   "outputs": [
    {
     "name": "stdout",
     "output_type": "stream",
     "text": [
      "MAE:  33863\n",
      "RMSE: 47175\n",
      "MAPE: 21.5%\n",
      "R^2:  0.883\n"
     ]
    }
   ],
   "source": [
    "y_pred_03 = model_03.predict(X_test)\n",
    "metrics_03 = get_metrics(y_test, y_pred_03)"
   ]
  },
  {
   "cell_type": "markdown",
   "metadata": {},
   "source": [
    "Cross validation"
   ]
  },
  {
   "cell_type": "code",
   "execution_count": 20,
   "metadata": {},
   "outputs": [
    {
     "data": {
      "application/vnd.jupyter.widget-view+json": {
       "model_id": "152eba19e2794ba2908637202e378247",
       "version_major": 2,
       "version_minor": 0
      },
      "text/plain": [
       "  0%|          | 0/5 [00:00<?, ?it/s]"
      ]
     },
     "metadata": {},
     "output_type": "display_data"
    },
    {
     "name": "stdout",
     "output_type": "stream",
     "text": [
      "MAE:  33426\n",
      "RMSE: 47819\n",
      "MAPE: 20.99%\n",
      "R^2:  0.877\n"
     ]
    }
   ],
   "source": [
    "results_df[\"Linear: S+T\"] = cross_validation(model_03, X, y)"
   ]
  },
  {
   "cell_type": "markdown",
   "metadata": {},
   "source": [
    "### Catboost"
   ]
  },
  {
   "cell_type": "code",
   "execution_count": 21,
   "metadata": {},
   "outputs": [
    {
     "data": {
      "text/plain": [
       "<catboost.core.CatBoostRegressor at 0x25dd9670a88>"
      ]
     },
     "execution_count": 21,
     "metadata": {},
     "output_type": "execute_result"
    }
   ],
   "source": [
    "model_04 = CatBoostRegressor()\n",
    "model_04.fit(X=X_train, y=y_train, verbose=False)"
   ]
  },
  {
   "cell_type": "code",
   "execution_count": 22,
   "metadata": {},
   "outputs": [
    {
     "name": "stdout",
     "output_type": "stream",
     "text": [
      "MAE:  28615\n",
      "RMSE: 42562\n",
      "MAPE: 16.64%\n",
      "R^2:  0.905\n"
     ]
    }
   ],
   "source": [
    "y_pred_04 = model_04.predict(X_test)\n",
    "metrics_04 = get_metrics(y_test, y_pred_04)"
   ]
  },
  {
   "cell_type": "markdown",
   "metadata": {},
   "source": [
    "Cross Validation"
   ]
  },
  {
   "cell_type": "code",
   "execution_count": 23,
   "metadata": {},
   "outputs": [
    {
     "data": {
      "application/vnd.jupyter.widget-view+json": {
       "model_id": "12b597307ad44c7f8c1f789bea9bbef6",
       "version_major": 2,
       "version_minor": 0
      },
      "text/plain": [
       "  0%|          | 0/5 [00:00<?, ?it/s]"
      ]
     },
     "metadata": {},
     "output_type": "display_data"
    },
    {
     "name": "stdout",
     "output_type": "stream",
     "text": [
      "MAE:  28576\n",
      "RMSE: 42455\n",
      "MAPE: 16.65%\n",
      "R^2:  0.903\n"
     ]
    }
   ],
   "source": [
    "results_df[\"Catboost: S+T\"] = cross_validation(model_04, X, y)"
   ]
  },
  {
   "cell_type": "markdown",
   "metadata": {},
   "source": [
    "## Combining structured and category features"
   ]
  },
  {
   "cell_type": "markdown",
   "metadata": {},
   "source": [
    "Load structured with added wikipedia category data"
   ]
  },
  {
   "cell_type": "code",
   "execution_count": 24,
   "metadata": {},
   "outputs": [
    {
     "name": "stdout",
     "output_type": "stream",
     "text": [
      "(9556, 98)\n"
     ]
    },
    {
     "data": {
      "text/html": [
       "<div>\n",
       "<style scoped>\n",
       "    .dataframe tbody tr th:only-of-type {\n",
       "        vertical-align: middle;\n",
       "    }\n",
       "\n",
       "    .dataframe tbody tr th {\n",
       "        vertical-align: top;\n",
       "    }\n",
       "\n",
       "    .dataframe thead th {\n",
       "        text-align: right;\n",
       "    }\n",
       "</style>\n",
       "<table border=\"1\" class=\"dataframe\">\n",
       "  <thead>\n",
       "    <tr style=\"text-align: right;\">\n",
       "      <th></th>\n",
       "      <th>_id</th>\n",
       "      <th>PROPERTYZIP</th>\n",
       "      <th>MUNICODE</th>\n",
       "      <th>SCHOOLCODE</th>\n",
       "      <th>NEIGHCODE</th>\n",
       "      <th>LOTAREA</th>\n",
       "      <th>SALEDATE</th>\n",
       "      <th>SALEPRICE</th>\n",
       "      <th>FAIRMARKETTOTAL</th>\n",
       "      <th>STORIES</th>\n",
       "      <th>...</th>\n",
       "      <th>music venue_dist</th>\n",
       "      <th>music venue_count</th>\n",
       "      <th>librar_dist</th>\n",
       "      <th>librar_count</th>\n",
       "      <th>demolished_dist</th>\n",
       "      <th>demolished_count</th>\n",
       "      <th>theatre_dist</th>\n",
       "      <th>theatre_count</th>\n",
       "      <th>airport_dist</th>\n",
       "      <th>airport_count</th>\n",
       "    </tr>\n",
       "  </thead>\n",
       "  <tbody>\n",
       "    <tr>\n",
       "      <th>0</th>\n",
       "      <td>287372</td>\n",
       "      <td>15202</td>\n",
       "      <td>804</td>\n",
       "      <td>2</td>\n",
       "      <td>80401</td>\n",
       "      <td>5781</td>\n",
       "      <td>05-05-2015</td>\n",
       "      <td>182000.0</td>\n",
       "      <td>148000</td>\n",
       "      <td>2.0</td>\n",
       "      <td>...</td>\n",
       "      <td>6719.221197</td>\n",
       "      <td>0</td>\n",
       "      <td>2390.879906</td>\n",
       "      <td>1</td>\n",
       "      <td>2989.609671</td>\n",
       "      <td>0</td>\n",
       "      <td>8303.907529</td>\n",
       "      <td>0</td>\n",
       "      <td>11114.088534</td>\n",
       "      <td>0</td>\n",
       "    </tr>\n",
       "    <tr>\n",
       "      <th>1</th>\n",
       "      <td>287857</td>\n",
       "      <td>15071</td>\n",
       "      <td>929</td>\n",
       "      <td>43</td>\n",
       "      <td>92903</td>\n",
       "      <td>12069</td>\n",
       "      <td>11-08-2017</td>\n",
       "      <td>197000.0</td>\n",
       "      <td>172200</td>\n",
       "      <td>2.0</td>\n",
       "      <td>...</td>\n",
       "      <td>14621.281406</td>\n",
       "      <td>0</td>\n",
       "      <td>10611.214325</td>\n",
       "      <td>0</td>\n",
       "      <td>8984.864561</td>\n",
       "      <td>0</td>\n",
       "      <td>16716.673657</td>\n",
       "      <td>0</td>\n",
       "      <td>5259.131053</td>\n",
       "      <td>0</td>\n",
       "    </tr>\n",
       "    <tr>\n",
       "      <th>2</th>\n",
       "      <td>87806</td>\n",
       "      <td>15237</td>\n",
       "      <td>940</td>\n",
       "      <td>28</td>\n",
       "      <td>94002</td>\n",
       "      <td>10117</td>\n",
       "      <td>04-07-2017</td>\n",
       "      <td>212000.0</td>\n",
       "      <td>168500</td>\n",
       "      <td>2.0</td>\n",
       "      <td>...</td>\n",
       "      <td>4595.347535</td>\n",
       "      <td>0</td>\n",
       "      <td>3100.782315</td>\n",
       "      <td>0</td>\n",
       "      <td>5883.524010</td>\n",
       "      <td>0</td>\n",
       "      <td>6814.894097</td>\n",
       "      <td>0</td>\n",
       "      <td>11283.630799</td>\n",
       "      <td>0</td>\n",
       "    </tr>\n",
       "    <tr>\n",
       "      <th>3</th>\n",
       "      <td>288474</td>\n",
       "      <td>15145</td>\n",
       "      <td>953</td>\n",
       "      <td>9</td>\n",
       "      <td>95303</td>\n",
       "      <td>10416</td>\n",
       "      <td>04-09-2018</td>\n",
       "      <td>161000.0</td>\n",
       "      <td>183500</td>\n",
       "      <td>2.0</td>\n",
       "      <td>...</td>\n",
       "      <td>4243.496567</td>\n",
       "      <td>0</td>\n",
       "      <td>4018.065776</td>\n",
       "      <td>0</td>\n",
       "      <td>1898.174138</td>\n",
       "      <td>1</td>\n",
       "      <td>6727.948117</td>\n",
       "      <td>0</td>\n",
       "      <td>5499.635608</td>\n",
       "      <td>0</td>\n",
       "    </tr>\n",
       "    <tr>\n",
       "      <th>4</th>\n",
       "      <td>288515</td>\n",
       "      <td>15044</td>\n",
       "      <td>938</td>\n",
       "      <td>3</td>\n",
       "      <td>93801</td>\n",
       "      <td>14680</td>\n",
       "      <td>07-24-2020</td>\n",
       "      <td>382500.0</td>\n",
       "      <td>188700</td>\n",
       "      <td>2.0</td>\n",
       "      <td>...</td>\n",
       "      <td>11477.680090</td>\n",
       "      <td>0</td>\n",
       "      <td>10182.091200</td>\n",
       "      <td>0</td>\n",
       "      <td>12385.510059</td>\n",
       "      <td>0</td>\n",
       "      <td>17324.893754</td>\n",
       "      <td>0</td>\n",
       "      <td>9121.425016</td>\n",
       "      <td>0</td>\n",
       "    </tr>\n",
       "    <tr>\n",
       "      <th>5</th>\n",
       "      <td>288682</td>\n",
       "      <td>15101</td>\n",
       "      <td>927</td>\n",
       "      <td>27</td>\n",
       "      <td>92703</td>\n",
       "      <td>35611</td>\n",
       "      <td>04-15-2020</td>\n",
       "      <td>337500.0</td>\n",
       "      <td>225400</td>\n",
       "      <td>2.0</td>\n",
       "      <td>...</td>\n",
       "      <td>11519.716678</td>\n",
       "      <td>0</td>\n",
       "      <td>2537.598142</td>\n",
       "      <td>0</td>\n",
       "      <td>11436.300520</td>\n",
       "      <td>0</td>\n",
       "      <td>13941.953218</td>\n",
       "      <td>0</td>\n",
       "      <td>14110.775287</td>\n",
       "      <td>0</td>\n",
       "    </tr>\n",
       "    <tr>\n",
       "      <th>6</th>\n",
       "      <td>288780</td>\n",
       "      <td>15228</td>\n",
       "      <td>926</td>\n",
       "      <td>26</td>\n",
       "      <td>92604</td>\n",
       "      <td>8775</td>\n",
       "      <td>08-16-2016</td>\n",
       "      <td>164000.0</td>\n",
       "      <td>152200</td>\n",
       "      <td>2.0</td>\n",
       "      <td>...</td>\n",
       "      <td>8583.318135</td>\n",
       "      <td>0</td>\n",
       "      <td>4693.071613</td>\n",
       "      <td>0</td>\n",
       "      <td>3899.615424</td>\n",
       "      <td>0</td>\n",
       "      <td>9200.925389</td>\n",
       "      <td>0</td>\n",
       "      <td>11183.444237</td>\n",
       "      <td>0</td>\n",
       "    </tr>\n",
       "    <tr>\n",
       "      <th>7</th>\n",
       "      <td>297737</td>\n",
       "      <td>15243</td>\n",
       "      <td>941</td>\n",
       "      <td>8</td>\n",
       "      <td>94102</td>\n",
       "      <td>7017</td>\n",
       "      <td>06-17-2019</td>\n",
       "      <td>192400.0</td>\n",
       "      <td>144900</td>\n",
       "      <td>1.0</td>\n",
       "      <td>...</td>\n",
       "      <td>10201.563777</td>\n",
       "      <td>0</td>\n",
       "      <td>4672.413004</td>\n",
       "      <td>0</td>\n",
       "      <td>6032.474406</td>\n",
       "      <td>0</td>\n",
       "      <td>11020.887502</td>\n",
       "      <td>0</td>\n",
       "      <td>13237.895978</td>\n",
       "      <td>0</td>\n",
       "    </tr>\n",
       "    <tr>\n",
       "      <th>8</th>\n",
       "      <td>289157</td>\n",
       "      <td>15139</td>\n",
       "      <td>845</td>\n",
       "      <td>33</td>\n",
       "      <td>84503</td>\n",
       "      <td>4020</td>\n",
       "      <td>02-20-2020</td>\n",
       "      <td>225000.0</td>\n",
       "      <td>183000</td>\n",
       "      <td>2.0</td>\n",
       "      <td>...</td>\n",
       "      <td>3601.594796</td>\n",
       "      <td>0</td>\n",
       "      <td>8109.406909</td>\n",
       "      <td>0</td>\n",
       "      <td>1676.325304</td>\n",
       "      <td>1</td>\n",
       "      <td>8961.649598</td>\n",
       "      <td>0</td>\n",
       "      <td>8431.248808</td>\n",
       "      <td>0</td>\n",
       "    </tr>\n",
       "    <tr>\n",
       "      <th>9</th>\n",
       "      <td>88679</td>\n",
       "      <td>15122</td>\n",
       "      <td>870</td>\n",
       "      <td>45</td>\n",
       "      <td>87001</td>\n",
       "      <td>46566</td>\n",
       "      <td>04-29-2016</td>\n",
       "      <td>85000.0</td>\n",
       "      <td>60300</td>\n",
       "      <td>1.0</td>\n",
       "      <td>...</td>\n",
       "      <td>7991.484449</td>\n",
       "      <td>0</td>\n",
       "      <td>4556.338961</td>\n",
       "      <td>0</td>\n",
       "      <td>3868.897960</td>\n",
       "      <td>0</td>\n",
       "      <td>5370.828077</td>\n",
       "      <td>0</td>\n",
       "      <td>681.217530</td>\n",
       "      <td>2</td>\n",
       "    </tr>\n",
       "  </tbody>\n",
       "</table>\n",
       "<p>10 rows × 98 columns</p>\n",
       "</div>"
      ],
      "text/plain": [
       "      _id  PROPERTYZIP  MUNICODE  SCHOOLCODE  NEIGHCODE  LOTAREA    SALEDATE  \\\n",
       "0  287372        15202       804           2      80401     5781  05-05-2015   \n",
       "1  287857        15071       929          43      92903    12069  11-08-2017   \n",
       "2   87806        15237       940          28      94002    10117  04-07-2017   \n",
       "3  288474        15145       953           9      95303    10416  04-09-2018   \n",
       "4  288515        15044       938           3      93801    14680  07-24-2020   \n",
       "5  288682        15101       927          27      92703    35611  04-15-2020   \n",
       "6  288780        15228       926          26      92604     8775  08-16-2016   \n",
       "7  297737        15243       941           8      94102     7017  06-17-2019   \n",
       "8  289157        15139       845          33      84503     4020  02-20-2020   \n",
       "9   88679        15122       870          45      87001    46566  04-29-2016   \n",
       "\n",
       "   SALEPRICE  FAIRMARKETTOTAL  STORIES  ...  music venue_dist  \\\n",
       "0   182000.0           148000      2.0  ...       6719.221197   \n",
       "1   197000.0           172200      2.0  ...      14621.281406   \n",
       "2   212000.0           168500      2.0  ...       4595.347535   \n",
       "3   161000.0           183500      2.0  ...       4243.496567   \n",
       "4   382500.0           188700      2.0  ...      11477.680090   \n",
       "5   337500.0           225400      2.0  ...      11519.716678   \n",
       "6   164000.0           152200      2.0  ...       8583.318135   \n",
       "7   192400.0           144900      1.0  ...      10201.563777   \n",
       "8   225000.0           183000      2.0  ...       3601.594796   \n",
       "9    85000.0            60300      1.0  ...       7991.484449   \n",
       "\n",
       "   music venue_count   librar_dist  librar_count  demolished_dist  \\\n",
       "0                  0   2390.879906             1      2989.609671   \n",
       "1                  0  10611.214325             0      8984.864561   \n",
       "2                  0   3100.782315             0      5883.524010   \n",
       "3                  0   4018.065776             0      1898.174138   \n",
       "4                  0  10182.091200             0     12385.510059   \n",
       "5                  0   2537.598142             0     11436.300520   \n",
       "6                  0   4693.071613             0      3899.615424   \n",
       "7                  0   4672.413004             0      6032.474406   \n",
       "8                  0   8109.406909             0      1676.325304   \n",
       "9                  0   4556.338961             0      3868.897960   \n",
       "\n",
       "   demolished_count  theatre_dist  theatre_count  airport_dist  airport_count  \n",
       "0                 0   8303.907529              0  11114.088534              0  \n",
       "1                 0  16716.673657              0   5259.131053              0  \n",
       "2                 0   6814.894097              0  11283.630799              0  \n",
       "3                 1   6727.948117              0   5499.635608              0  \n",
       "4                 0  17324.893754              0   9121.425016              0  \n",
       "5                 0  13941.953218              0  14110.775287              0  \n",
       "6                 0   9200.925389              0  11183.444237              0  \n",
       "7                 0  11020.887502              0  13237.895978              0  \n",
       "8                 1   8961.649598              0   8431.248808              0  \n",
       "9                 0   5370.828077              0    681.217530              2  \n",
       "\n",
       "[10 rows x 98 columns]"
      ]
     },
     "execution_count": 24,
     "metadata": {},
     "output_type": "execute_result"
    }
   ],
   "source": [
    "structured_wiki_categories = pd.read_csv(PATH+\"structured_wiki_category_features.csv\")\n",
    "print(structured_wiki_categories.shape)\n",
    "structured_wiki_categories.head(10)"
   ]
  },
  {
   "cell_type": "code",
   "execution_count": 25,
   "metadata": {},
   "outputs": [
    {
     "name": "stdout",
     "output_type": "stream",
     "text": [
      "(7167, 87): (5375, 87) + (1792, 87)\n",
      "(7167,): (5375,) + (1792,)\n",
      "(2389, 87)\n",
      "(2389,)\n"
     ]
    }
   ],
   "source": [
    "X_columns_cat, data_sets, error_df = make_train_test(structured_wiki_categories)\n",
    "X, y, X_train, X_test, y_train, y_test, X_train_train, X_train_val, y_train_train, y_train_val = data_sets"
   ]
  },
  {
   "cell_type": "markdown",
   "metadata": {},
   "source": [
    "### Linear regression"
   ]
  },
  {
   "cell_type": "code",
   "execution_count": 26,
   "metadata": {},
   "outputs": [
    {
     "data": {
      "text/plain": [
       "LinearRegression()"
      ]
     },
     "execution_count": 26,
     "metadata": {},
     "output_type": "execute_result"
    }
   ],
   "source": [
    "model_05 = linear_model.LinearRegression()\n",
    "# model_05 = linear_model.Lasso()\n",
    "# model_05 = linear_model.Ridge()\n",
    "model_05.fit(X_train, y_train)"
   ]
  },
  {
   "cell_type": "code",
   "execution_count": 27,
   "metadata": {},
   "outputs": [
    {
     "name": "stdout",
     "output_type": "stream",
     "text": [
      "MAE:  40261\n",
      "RMSE: 56533\n",
      "MAPE: 26.11%\n",
      "R^2:  0.823\n"
     ]
    }
   ],
   "source": [
    "y_pred_05 = model_05.predict(X_test)\n",
    "metrics_05 = get_metrics(y_test, y_pred_05)"
   ]
  },
  {
   "cell_type": "markdown",
   "metadata": {},
   "source": [
    "Cross validation"
   ]
  },
  {
   "cell_type": "code",
   "execution_count": 28,
   "metadata": {},
   "outputs": [
    {
     "data": {
      "application/vnd.jupyter.widget-view+json": {
       "model_id": "4d385d8c8a4b49e58ffd5f96c83ce0bb",
       "version_major": 2,
       "version_minor": 0
      },
      "text/plain": [
       "  0%|          | 0/5 [00:00<?, ?it/s]"
      ]
     },
     "metadata": {},
     "output_type": "display_data"
    },
    {
     "name": "stdout",
     "output_type": "stream",
     "text": [
      "MAE:  40523\n",
      "RMSE: 57078\n",
      "MAPE: 25.88%\n",
      "R^2:  0.825\n"
     ]
    }
   ],
   "source": [
    "results_df[\"Linear: S+C\"] = cross_validation(model_05, X, y)"
   ]
  },
  {
   "cell_type": "markdown",
   "metadata": {},
   "source": [
    "### Catboost"
   ]
  },
  {
   "cell_type": "code",
   "execution_count": 29,
   "metadata": {},
   "outputs": [
    {
     "data": {
      "text/plain": [
       "<catboost.core.CatBoostRegressor at 0x25dd973c448>"
      ]
     },
     "execution_count": 29,
     "metadata": {},
     "output_type": "execute_result"
    }
   ],
   "source": [
    "model_06 = CatBoostRegressor()\n",
    "model_06.fit(X=X_train, y=y_train, verbose=False)"
   ]
  },
  {
   "cell_type": "code",
   "execution_count": 30,
   "metadata": {},
   "outputs": [
    {
     "name": "stdout",
     "output_type": "stream",
     "text": [
      "MAE:  29344\n",
      "RMSE: 44386\n",
      "MAPE: 17.58%\n",
      "R^2:  0.891\n"
     ]
    }
   ],
   "source": [
    "y_pred_06 = model_06.predict(X_test)\n",
    "metrics_06 = get_metrics(y_test, y_pred_06)"
   ]
  },
  {
   "cell_type": "markdown",
   "metadata": {},
   "source": [
    "Cross validation"
   ]
  },
  {
   "cell_type": "code",
   "execution_count": 31,
   "metadata": {},
   "outputs": [
    {
     "data": {
      "application/vnd.jupyter.widget-view+json": {
       "model_id": "3bafb2bb43524fcf9201fea4119a295c",
       "version_major": 2,
       "version_minor": 0
      },
      "text/plain": [
       "  0%|          | 0/5 [00:00<?, ?it/s]"
      ]
     },
     "metadata": {},
     "output_type": "display_data"
    },
    {
     "name": "stdout",
     "output_type": "stream",
     "text": [
      "MAE:  29554\n",
      "RMSE: 43963\n",
      "MAPE: 17.45%\n",
      "R^2:  0.896\n"
     ]
    }
   ],
   "source": [
    "results_df[\"Catboost: S+C\"] = cross_validation(model_06, X, y)"
   ]
  },
  {
   "cell_type": "markdown",
   "metadata": {},
   "source": [
    "## Combining structured, text and category features"
   ]
  },
  {
   "cell_type": "markdown",
   "metadata": {},
   "source": [
    "Add category features"
   ]
  },
  {
   "cell_type": "code",
   "execution_count": 32,
   "metadata": {},
   "outputs": [
    {
     "name": "stdout",
     "output_type": "stream",
     "text": [
      "(9556, 399)\n"
     ]
    }
   ],
   "source": [
    "merge_cols = list(structured_wiki_text.columns[:64])\n",
    "structured_wiki_combined = pd.merge(\n",
    "    structured_wiki_text, structured_wiki_categories, on=merge_cols)\n",
    "print(structured_wiki_combined.shape)"
   ]
  },
  {
   "cell_type": "code",
   "execution_count": 33,
   "metadata": {},
   "outputs": [
    {
     "name": "stdout",
     "output_type": "stream",
     "text": [
      "(7167, 388): (5375, 388) + (1792, 388)\n",
      "(7167,): (5375,) + (1792,)\n",
      "(2389, 388)\n",
      "(2389,)\n"
     ]
    }
   ],
   "source": [
    "X_columns_text_cat, data_sets, error_df = make_train_test(structured_wiki_combined)\n",
    "X, y, X_train, X_test, y_train, y_test, X_train_train, X_train_val, y_train_train, y_train_val = data_sets"
   ]
  },
  {
   "cell_type": "markdown",
   "metadata": {},
   "source": [
    "### Linear model"
   ]
  },
  {
   "cell_type": "code",
   "execution_count": 34,
   "metadata": {},
   "outputs": [
    {
     "data": {
      "text/plain": [
       "Ridge()"
      ]
     },
     "execution_count": 34,
     "metadata": {},
     "output_type": "execute_result"
    }
   ],
   "source": [
    "# model_07 = linear_model.LinearRegression()\n",
    "# model_07 = linear_model.Lasso()\n",
    "model_07 = linear_model.Ridge()\n",
    "model_07.fit(X_train, y_train)"
   ]
  },
  {
   "cell_type": "code",
   "execution_count": 35,
   "metadata": {},
   "outputs": [
    {
     "name": "stdout",
     "output_type": "stream",
     "text": [
      "MAE:  33647\n",
      "RMSE: 47072\n",
      "MAPE: 21.37%\n",
      "R^2:  0.884\n"
     ]
    }
   ],
   "source": [
    "y_pred_07 = model_07.predict(X_test)\n",
    "metrics_07 = get_metrics(y_test, y_pred_07)"
   ]
  },
  {
   "cell_type": "markdown",
   "metadata": {},
   "source": [
    "Cross validation"
   ]
  },
  {
   "cell_type": "code",
   "execution_count": 36,
   "metadata": {},
   "outputs": [
    {
     "data": {
      "application/vnd.jupyter.widget-view+json": {
       "model_id": "3179a2747671485d8b8046ead5f4e0b1",
       "version_major": 2,
       "version_minor": 0
      },
      "text/plain": [
       "  0%|          | 0/5 [00:00<?, ?it/s]"
      ]
     },
     "metadata": {},
     "output_type": "display_data"
    },
    {
     "name": "stdout",
     "output_type": "stream",
     "text": [
      "MAE:  33200\n",
      "RMSE: 47587\n",
      "MAPE: 20.86%\n",
      "R^2:  0.878\n"
     ]
    }
   ],
   "source": [
    "results_df[\"Linear: S+T+C\"] = cross_validation(model_07, X, y)"
   ]
  },
  {
   "cell_type": "markdown",
   "metadata": {},
   "source": [
    "### Catboost"
   ]
  },
  {
   "cell_type": "code",
   "execution_count": 37,
   "metadata": {},
   "outputs": [
    {
     "data": {
      "text/plain": [
       "<catboost.core.CatBoostRegressor at 0x25dd5385a48>"
      ]
     },
     "execution_count": 37,
     "metadata": {},
     "output_type": "execute_result"
    }
   ],
   "source": [
    "model_08 = CatBoostRegressor()\n",
    "model_08.fit(X=X_train, y=y_train, verbose=False)"
   ]
  },
  {
   "cell_type": "code",
   "execution_count": 38,
   "metadata": {},
   "outputs": [
    {
     "name": "stdout",
     "output_type": "stream",
     "text": [
      "MAE:  28515\n",
      "RMSE: 42563\n",
      "MAPE: 16.55%\n",
      "R^2:  0.905\n"
     ]
    }
   ],
   "source": [
    "y_pred_08 = model_08.predict(X_test)\n",
    "metrics_08 = get_metrics(y_test, y_pred_08)"
   ]
  },
  {
   "cell_type": "markdown",
   "metadata": {},
   "source": [
    "Cross validation"
   ]
  },
  {
   "cell_type": "code",
   "execution_count": 39,
   "metadata": {},
   "outputs": [
    {
     "data": {
      "application/vnd.jupyter.widget-view+json": {
       "model_id": "0083e6d5bee94d399523ee4495ad0b97",
       "version_major": 2,
       "version_minor": 0
      },
      "text/plain": [
       "  0%|          | 0/5 [00:00<?, ?it/s]"
      ]
     },
     "metadata": {},
     "output_type": "display_data"
    },
    {
     "name": "stdout",
     "output_type": "stream",
     "text": [
      "MAE:  28508\n",
      "RMSE: 42568\n",
      "MAPE: 16.57%\n",
      "R^2:  0.903\n"
     ]
    }
   ],
   "source": [
    "results_df[\"Catboost: S+T+C\"] = cross_validation(model_08, X, y)"
   ]
  },
  {
   "cell_type": "markdown",
   "metadata": {},
   "source": [
    "## Results"
   ]
  },
  {
   "cell_type": "code",
   "execution_count": 40,
   "metadata": {},
   "outputs": [
    {
     "name": "stdout",
     "output_type": "stream",
     "text": [
      "Results for a max distance of 5000m.\n"
     ]
    },
    {
     "data": {
      "text/html": [
       "<div>\n",
       "<style scoped>\n",
       "    .dataframe tbody tr th:only-of-type {\n",
       "        vertical-align: middle;\n",
       "    }\n",
       "\n",
       "    .dataframe tbody tr th {\n",
       "        vertical-align: top;\n",
       "    }\n",
       "\n",
       "    .dataframe thead th {\n",
       "        text-align: right;\n",
       "    }\n",
       "</style>\n",
       "<table border=\"1\" class=\"dataframe\">\n",
       "  <thead>\n",
       "    <tr style=\"text-align: right;\">\n",
       "      <th></th>\n",
       "      <th>Linear: T</th>\n",
       "      <th>Linear: S+T</th>\n",
       "      <th>Linear: S+T+C</th>\n",
       "      <th>Catboost: T</th>\n",
       "      <th>Catboost: S+T</th>\n",
       "      <th>Catboost: S+T+C</th>\n",
       "    </tr>\n",
       "  </thead>\n",
       "  <tbody>\n",
       "    <tr>\n",
       "      <th>MAE</th>\n",
       "      <td>59385.000</td>\n",
       "      <td>33426.000</td>\n",
       "      <td>33200.000</td>\n",
       "      <td>49880.000</td>\n",
       "      <td>28576.000</td>\n",
       "      <td>28508.000</td>\n",
       "    </tr>\n",
       "    <tr>\n",
       "      <th>RMSE</th>\n",
       "      <td>87647.000</td>\n",
       "      <td>47819.000</td>\n",
       "      <td>47587.000</td>\n",
       "      <td>76410.000</td>\n",
       "      <td>42455.000</td>\n",
       "      <td>42568.000</td>\n",
       "    </tr>\n",
       "    <tr>\n",
       "      <th>MAPE</th>\n",
       "      <td>34.690</td>\n",
       "      <td>20.990</td>\n",
       "      <td>20.860</td>\n",
       "      <td>29.080</td>\n",
       "      <td>16.650</td>\n",
       "      <td>16.570</td>\n",
       "    </tr>\n",
       "    <tr>\n",
       "      <th>R^2</th>\n",
       "      <td>0.588</td>\n",
       "      <td>0.877</td>\n",
       "      <td>0.878</td>\n",
       "      <td>0.687</td>\n",
       "      <td>0.903</td>\n",
       "      <td>0.903</td>\n",
       "    </tr>\n",
       "  </tbody>\n",
       "</table>\n",
       "</div>"
      ],
      "text/plain": [
       "      Linear: T  Linear: S+T  Linear: S+T+C  Catboost: T  Catboost: S+T  \\\n",
       "MAE   59385.000    33426.000      33200.000    49880.000      28576.000   \n",
       "RMSE  87647.000    47819.000      47587.000    76410.000      42455.000   \n",
       "MAPE     34.690       20.990         20.860       29.080         16.650   \n",
       "R^2       0.588        0.877          0.878        0.687          0.903   \n",
       "\n",
       "      Catboost: S+T+C  \n",
       "MAE         28508.000  \n",
       "RMSE        42568.000  \n",
       "MAPE           16.570  \n",
       "R^2             0.903  "
      ]
     },
     "execution_count": 40,
     "metadata": {},
     "output_type": "execute_result"
    }
   ],
   "source": [
    "results_df.index = [\"MAE\", \"RMSE\", \"MAPE\", \"R^2\"]\n",
    "# reorder columns\n",
    "results_df = results_df[[\"Linear: T\", \"Linear: S+T\", \"Linear: S+T+C\", \"Catboost: T\", \"Catboost: S+T\", \"Catboost: S+T+C\"]]\n",
    "results_df.to_csv(\n",
    "    PATH + f\"results/structured_doc2vec_sum_{MAX_DIST}_results.csv\", index=False)\n",
    "print(f\"Results for a max distance of {MAX_DIST}m.\")\n",
    "results_df.head()"
   ]
  },
  {
   "cell_type": "markdown",
   "metadata": {},
   "source": [
    "## Spatial out-of-sample test"
   ]
  },
  {
   "cell_type": "markdown",
   "metadata": {},
   "source": [
    "Calculate median latitude and longitude"
   ]
  },
  {
   "cell_type": "code",
   "execution_count": 41,
   "metadata": {},
   "outputs": [
    {
     "data": {
      "text/plain": [
       "latitude     40.441981\n",
       "longitude   -79.987716\n",
       "dtype: float64"
      ]
     },
     "execution_count": 41,
     "metadata": {},
     "output_type": "execute_result"
    }
   ],
   "source": [
    "soos_df = structured_wiki_text.copy()\n",
    "\n",
    "coords_median = soos_df.loc[:, \"latitude\":\"longitude\"].median()\n",
    "lat_median = coords_median.loc[\"latitude\"]\n",
    "long_median = coords_median.loc[\"longitude\"]\n",
    "coords_median"
   ]
  },
  {
   "cell_type": "code",
   "execution_count": 42,
   "metadata": {},
   "outputs": [
    {
     "name": "stdout",
     "output_type": "stream",
     "text": [
      "(2487, 365)\n",
      "(2291, 365)\n",
      "(2487, 365)\n",
      "(2291, 365)\n",
      "\n",
      "(9556, 365)\n"
     ]
    }
   ],
   "source": [
    "quadrants = []\n",
    "\n",
    "quadrant_1 = soos_df[(soos_df[\"latitude\"] >= lat_median) & (soos_df[\"longitude\"] >= long_median)]\n",
    "quadrants.append(quadrant_1)\n",
    "print(quadrant_1.shape)\n",
    "\n",
    "quadrant_2 = soos_df[(soos_df[\"latitude\"] >= lat_median) & (soos_df[\"longitude\"] < long_median)]\n",
    "quadrants.append(quadrant_2)\n",
    "print(quadrant_2.shape)\n",
    "\n",
    "quadrant_3 = soos_df[(soos_df[\"latitude\"] < lat_median) & (soos_df[\"longitude\"] < long_median)]\n",
    "quadrants.append(quadrant_3)\n",
    "print(quadrant_3.shape)\n",
    "\n",
    "quadrant_4 = soos_df[(soos_df[\"latitude\"] < lat_median) & (soos_df[\"longitude\"] >= long_median)]\n",
    "quadrants.append(quadrant_4)\n",
    "print(quadrant_4.shape, end=\"\\n\\n\")\n",
    "\n",
    "row_sum = quadrant_1.shape[0] + quadrant_2.shape[0] + quadrant_3.shape[0] + quadrant_4.shape[0]\n",
    "print(f\"{row_sum, quadrant_1.shape[1]}\")"
   ]
  },
  {
   "cell_type": "code",
   "execution_count": 43,
   "metadata": {},
   "outputs": [
    {
     "data": {
      "text/html": [
       "<div>\n",
       "<style scoped>\n",
       "    .dataframe tbody tr th:only-of-type {\n",
       "        vertical-align: middle;\n",
       "    }\n",
       "\n",
       "    .dataframe tbody tr th {\n",
       "        vertical-align: top;\n",
       "    }\n",
       "\n",
       "    .dataframe thead th {\n",
       "        text-align: right;\n",
       "    }\n",
       "</style>\n",
       "<table border=\"1\" class=\"dataframe\">\n",
       "  <thead>\n",
       "    <tr style=\"text-align: right;\">\n",
       "      <th></th>\n",
       "      <th>id</th>\n",
       "      <th>lat</th>\n",
       "      <th>long</th>\n",
       "      <th>prediction</th>\n",
       "      <th>error</th>\n",
       "    </tr>\n",
       "  </thead>\n",
       "  <tbody>\n",
       "    <tr>\n",
       "      <th>0</th>\n",
       "      <td>314812</td>\n",
       "      <td>40.466737</td>\n",
       "      <td>-79.708578</td>\n",
       "      <td>0</td>\n",
       "      <td>0</td>\n",
       "    </tr>\n",
       "    <tr>\n",
       "      <th>1</th>\n",
       "      <td>315587</td>\n",
       "      <td>40.445413</td>\n",
       "      <td>-79.804255</td>\n",
       "      <td>0</td>\n",
       "      <td>0</td>\n",
       "    </tr>\n",
       "    <tr>\n",
       "      <th>2</th>\n",
       "      <td>318468</td>\n",
       "      <td>40.452267</td>\n",
       "      <td>-79.801333</td>\n",
       "      <td>0</td>\n",
       "      <td>0</td>\n",
       "    </tr>\n",
       "    <tr>\n",
       "      <th>3</th>\n",
       "      <td>457748</td>\n",
       "      <td>40.450123</td>\n",
       "      <td>-79.799833</td>\n",
       "      <td>0</td>\n",
       "      <td>0</td>\n",
       "    </tr>\n",
       "    <tr>\n",
       "      <th>4</th>\n",
       "      <td>319473</td>\n",
       "      <td>40.443532</td>\n",
       "      <td>-79.740358</td>\n",
       "      <td>0</td>\n",
       "      <td>0</td>\n",
       "    </tr>\n",
       "    <tr>\n",
       "      <th>5</th>\n",
       "      <td>458374</td>\n",
       "      <td>40.520053</td>\n",
       "      <td>-79.784539</td>\n",
       "      <td>0</td>\n",
       "      <td>0</td>\n",
       "    </tr>\n",
       "    <tr>\n",
       "      <th>6</th>\n",
       "      <td>319778</td>\n",
       "      <td>40.608447</td>\n",
       "      <td>-79.777244</td>\n",
       "      <td>0</td>\n",
       "      <td>0</td>\n",
       "    </tr>\n",
       "    <tr>\n",
       "      <th>7</th>\n",
       "      <td>320222</td>\n",
       "      <td>40.453754</td>\n",
       "      <td>-79.811168</td>\n",
       "      <td>0</td>\n",
       "      <td>0</td>\n",
       "    </tr>\n",
       "    <tr>\n",
       "      <th>8</th>\n",
       "      <td>320681</td>\n",
       "      <td>40.471195</td>\n",
       "      <td>-79.784846</td>\n",
       "      <td>0</td>\n",
       "      <td>0</td>\n",
       "    </tr>\n",
       "    <tr>\n",
       "      <th>9</th>\n",
       "      <td>363493</td>\n",
       "      <td>40.629263</td>\n",
       "      <td>-79.725169</td>\n",
       "      <td>0</td>\n",
       "      <td>0</td>\n",
       "    </tr>\n",
       "  </tbody>\n",
       "</table>\n",
       "</div>"
      ],
      "text/plain": [
       "       id        lat       long  prediction  error\n",
       "0  314812  40.466737 -79.708578           0      0\n",
       "1  315587  40.445413 -79.804255           0      0\n",
       "2  318468  40.452267 -79.801333           0      0\n",
       "3  457748  40.450123 -79.799833           0      0\n",
       "4  319473  40.443532 -79.740358           0      0\n",
       "5  458374  40.520053 -79.784539           0      0\n",
       "6  319778  40.608447 -79.777244           0      0\n",
       "7  320222  40.453754 -79.811168           0      0\n",
       "8  320681  40.471195 -79.784846           0      0\n",
       "9  363493  40.629263 -79.725169           0      0"
      ]
     },
     "execution_count": 43,
     "metadata": {},
     "output_type": "execute_result"
    }
   ],
   "source": [
    "quadrants_df = pd.concat(quadrants, ignore_index=True)\n",
    "\n",
    "error_df_soos = pd.DataFrame(\n",
    "    data={\"id\": quadrants_df[\"_id\"],\n",
    "          \"lat\": quadrants_df[\"latitude\"],\n",
    "          \"long\": quadrants_df[\"longitude\"],\n",
    "          \"prediction\": 0,\n",
    "          \"error\": 0})\n",
    "error_df_soos.head(10)"
   ]
  },
  {
   "cell_type": "code",
   "execution_count": 44,
   "metadata": {
    "scrolled": false
   },
   "outputs": [
    {
     "name": "stdout",
     "output_type": "stream",
     "text": [
      "Quadrant: 1\n",
      "MAE:  48974\n",
      "RMSE: 71012\n",
      "MAPE: 30.99%\n",
      "R^2:  0.793\n",
      "\n",
      "Quadrant: 2\n",
      "MAE:  45901\n",
      "RMSE: 67845\n",
      "MAPE: 21.02%\n",
      "R^2:  0.79\n",
      "\n",
      "Quadrant: 3\n",
      "MAE:  41296\n",
      "RMSE: 61417\n",
      "MAPE: 18.29%\n",
      "R^2:  0.71\n",
      "\n",
      "Quadrant: 4\n",
      "MAE:  42476\n",
      "RMSE: 54048\n",
      "MAPE: 44.22%\n",
      "R^2:  0.676\n",
      "\n",
      "Average:\n",
      "MAE:  44662\n",
      "RMSE: 63581\n",
      "MAPE: 28.63%\n",
      "R^2:  0.742\n"
     ]
    }
   ],
   "source": [
    "y_preds = []\n",
    "errors = []\n",
    "maes, rmses, mapes, r_squareds = [], [], [], []\n",
    "\n",
    "for i, quadrant in enumerate(quadrants):\n",
    "    train = pd.concat(quadrants[:i] + quadrants[i+1:])\n",
    "    test = quadrants[i]\n",
    "    \n",
    "    train = train.drop([\"_id\", \"PROPERTYZIP\", \"MUNICODE\", \"SCHOOLCODE\", \"NEIGHCODE\", \"SALEDATE\",\n",
    "                        \"FAIRMARKETTOTAL\", \"latitude\", \"longitude\", \"SALEYEAR\"], axis=1)\n",
    "    test = test.drop([\"_id\", \"PROPERTYZIP\", \"MUNICODE\", \"SCHOOLCODE\", \"NEIGHCODE\", \"SALEDATE\",\n",
    "                      \"FAIRMARKETTOTAL\", \"latitude\", \"longitude\", \"SALEYEAR\"], axis=1)\n",
    "    \n",
    "    X_train = train.drop([\"SALEPRICE\"], axis=1).to_numpy()\n",
    "    y_train = train[\"SALEPRICE\"].to_numpy()\n",
    "    \n",
    "    X_test = test.drop([\"SALEPRICE\"], axis=1).to_numpy()\n",
    "    y_test = test[\"SALEPRICE\"].to_numpy()\n",
    "    \n",
    "    model_cv = CatBoostRegressor()\n",
    "    model_cv.fit(X=X_train, y=y_train, verbose=False)\n",
    "    \n",
    "    y_pred_cv = model_cv.predict(X_test)\n",
    "    y_preds.extend(y_pred_cv)\n",
    "    errors.extend([test - pred for test, pred in zip(y_test, y_pred_cv)])\n",
    "    \n",
    "    print(f\"Quadrant: {i+1}\")\n",
    "    mae, rmse, mape, r_squared = get_metrics(y_test, y_pred_cv)\n",
    "    maes.append(mae)\n",
    "    rmses.append(rmse)\n",
    "    mapes.append(mape)\n",
    "    r_squareds.append(r_squared)\n",
    "    \n",
    "    print(\"\")\n",
    "\n",
    "error_df_soos[\"prediction\"] = y_preds\n",
    "error_df_soos[\"error\"] = errors\n",
    "    \n",
    "print(\"Average:\")\n",
    "print(f\"MAE:  {round(np.mean(maes))}\")\n",
    "print(f\"RMSE: {round(np.mean(rmses))}\")\n",
    "print(f\"MAPE: {round(np.mean(mapes), 2)}%\")\n",
    "print(f\"R^2:  {round(np.mean(r_squareds), 3)}\")"
   ]
  },
  {
   "cell_type": "code",
   "execution_count": 45,
   "metadata": {},
   "outputs": [
    {
     "data": {
      "text/html": [
       "<div>\n",
       "<style scoped>\n",
       "    .dataframe tbody tr th:only-of-type {\n",
       "        vertical-align: middle;\n",
       "    }\n",
       "\n",
       "    .dataframe tbody tr th {\n",
       "        vertical-align: top;\n",
       "    }\n",
       "\n",
       "    .dataframe thead th {\n",
       "        text-align: right;\n",
       "    }\n",
       "</style>\n",
       "<table border=\"1\" class=\"dataframe\">\n",
       "  <thead>\n",
       "    <tr style=\"text-align: right;\">\n",
       "      <th></th>\n",
       "      <th>id</th>\n",
       "      <th>lat</th>\n",
       "      <th>long</th>\n",
       "      <th>prediction</th>\n",
       "      <th>error</th>\n",
       "    </tr>\n",
       "  </thead>\n",
       "  <tbody>\n",
       "    <tr>\n",
       "      <th>0</th>\n",
       "      <td>314812</td>\n",
       "      <td>40.466737</td>\n",
       "      <td>-79.708578</td>\n",
       "      <td>237465.283091</td>\n",
       "      <td>-62565.283091</td>\n",
       "    </tr>\n",
       "    <tr>\n",
       "      <th>1</th>\n",
       "      <td>315587</td>\n",
       "      <td>40.445413</td>\n",
       "      <td>-79.804255</td>\n",
       "      <td>245351.642733</td>\n",
       "      <td>-72851.642733</td>\n",
       "    </tr>\n",
       "    <tr>\n",
       "      <th>2</th>\n",
       "      <td>318468</td>\n",
       "      <td>40.452267</td>\n",
       "      <td>-79.801333</td>\n",
       "      <td>180099.378311</td>\n",
       "      <td>-65199.378311</td>\n",
       "    </tr>\n",
       "    <tr>\n",
       "      <th>3</th>\n",
       "      <td>457748</td>\n",
       "      <td>40.450123</td>\n",
       "      <td>-79.799833</td>\n",
       "      <td>184030.322599</td>\n",
       "      <td>-37030.322599</td>\n",
       "    </tr>\n",
       "    <tr>\n",
       "      <th>4</th>\n",
       "      <td>319473</td>\n",
       "      <td>40.443532</td>\n",
       "      <td>-79.740358</td>\n",
       "      <td>137014.535803</td>\n",
       "      <td>9435.464197</td>\n",
       "    </tr>\n",
       "    <tr>\n",
       "      <th>5</th>\n",
       "      <td>458374</td>\n",
       "      <td>40.520053</td>\n",
       "      <td>-79.784539</td>\n",
       "      <td>334372.447972</td>\n",
       "      <td>-66372.447972</td>\n",
       "    </tr>\n",
       "    <tr>\n",
       "      <th>6</th>\n",
       "      <td>319778</td>\n",
       "      <td>40.608447</td>\n",
       "      <td>-79.777244</td>\n",
       "      <td>195122.751433</td>\n",
       "      <td>4177.248567</td>\n",
       "    </tr>\n",
       "    <tr>\n",
       "      <th>7</th>\n",
       "      <td>320222</td>\n",
       "      <td>40.453754</td>\n",
       "      <td>-79.811168</td>\n",
       "      <td>230534.273167</td>\n",
       "      <td>-74034.273167</td>\n",
       "    </tr>\n",
       "    <tr>\n",
       "      <th>8</th>\n",
       "      <td>320681</td>\n",
       "      <td>40.471195</td>\n",
       "      <td>-79.784846</td>\n",
       "      <td>152470.270050</td>\n",
       "      <td>-92470.270050</td>\n",
       "    </tr>\n",
       "    <tr>\n",
       "      <th>9</th>\n",
       "      <td>363493</td>\n",
       "      <td>40.629263</td>\n",
       "      <td>-79.725169</td>\n",
       "      <td>149096.303179</td>\n",
       "      <td>-10096.303179</td>\n",
       "    </tr>\n",
       "  </tbody>\n",
       "</table>\n",
       "</div>"
      ],
      "text/plain": [
       "       id        lat       long     prediction         error\n",
       "0  314812  40.466737 -79.708578  237465.283091 -62565.283091\n",
       "1  315587  40.445413 -79.804255  245351.642733 -72851.642733\n",
       "2  318468  40.452267 -79.801333  180099.378311 -65199.378311\n",
       "3  457748  40.450123 -79.799833  184030.322599 -37030.322599\n",
       "4  319473  40.443532 -79.740358  137014.535803   9435.464197\n",
       "5  458374  40.520053 -79.784539  334372.447972 -66372.447972\n",
       "6  319778  40.608447 -79.777244  195122.751433   4177.248567\n",
       "7  320222  40.453754 -79.811168  230534.273167 -74034.273167\n",
       "8  320681  40.471195 -79.784846  152470.270050 -92470.270050\n",
       "9  363493  40.629263 -79.725169  149096.303179 -10096.303179"
      ]
     },
     "execution_count": 45,
     "metadata": {},
     "output_type": "execute_result"
    }
   ],
   "source": [
    "error_df_soos.head(10)"
   ]
  },
  {
   "cell_type": "code",
   "execution_count": 46,
   "metadata": {},
   "outputs": [],
   "source": [
    "error_df_soos.to_csv(PATH+\"results/errors_soos_doc2vec.csv\", index=False)"
   ]
  },
  {
   "cell_type": "markdown",
   "metadata": {},
   "source": [
    "## Exploring solution"
   ]
  },
  {
   "cell_type": "code",
   "execution_count": 47,
   "metadata": {},
   "outputs": [
    {
     "data": {
      "text/html": [
       "<div>\n",
       "<style scoped>\n",
       "    .dataframe tbody tr th:only-of-type {\n",
       "        vertical-align: middle;\n",
       "    }\n",
       "\n",
       "    .dataframe tbody tr th {\n",
       "        vertical-align: top;\n",
       "    }\n",
       "\n",
       "    .dataframe thead th {\n",
       "        text-align: right;\n",
       "    }\n",
       "</style>\n",
       "<table border=\"1\" class=\"dataframe\">\n",
       "  <thead>\n",
       "    <tr style=\"text-align: right;\">\n",
       "      <th></th>\n",
       "      <th>feature</th>\n",
       "      <th>coef</th>\n",
       "    </tr>\n",
       "  </thead>\n",
       "  <tbody>\n",
       "    <tr>\n",
       "      <th>6</th>\n",
       "      <td>tourist attraction_dist</td>\n",
       "      <td>-4.506974</td>\n",
       "    </tr>\n",
       "    <tr>\n",
       "      <th>8</th>\n",
       "      <td>skyscraper_dist</td>\n",
       "      <td>-4.500854</td>\n",
       "    </tr>\n",
       "    <tr>\n",
       "      <th>4</th>\n",
       "      <td>river_dist</td>\n",
       "      <td>-2.932569</td>\n",
       "    </tr>\n",
       "    <tr>\n",
       "      <th>14</th>\n",
       "      <td>museum_dist</td>\n",
       "      <td>-2.735737</td>\n",
       "    </tr>\n",
       "    <tr>\n",
       "      <th>26</th>\n",
       "      <td>librar_dist</td>\n",
       "      <td>-1.109421</td>\n",
       "    </tr>\n",
       "    <tr>\n",
       "      <th>16</th>\n",
       "      <td>railway station_dist</td>\n",
       "      <td>-1.088840</td>\n",
       "    </tr>\n",
       "    <tr>\n",
       "      <th>2</th>\n",
       "      <td>bridge_dist</td>\n",
       "      <td>-0.950370</td>\n",
       "    </tr>\n",
       "    <tr>\n",
       "      <th>12</th>\n",
       "      <td>universit_dist</td>\n",
       "      <td>-0.735239</td>\n",
       "    </tr>\n",
       "    <tr>\n",
       "      <th>24</th>\n",
       "      <td>music venue_dist</td>\n",
       "      <td>-0.328256</td>\n",
       "    </tr>\n",
       "    <tr>\n",
       "      <th>20</th>\n",
       "      <td>sports venue_dist</td>\n",
       "      <td>0.077149</td>\n",
       "    </tr>\n",
       "  </tbody>\n",
       "</table>\n",
       "</div>"
      ],
      "text/plain": [
       "                    feature      coef\n",
       "6   tourist attraction_dist -4.506974\n",
       "8           skyscraper_dist -4.500854\n",
       "4                river_dist -2.932569\n",
       "14              museum_dist -2.735737\n",
       "26              librar_dist -1.109421\n",
       "16     railway station_dist -1.088840\n",
       "2               bridge_dist -0.950370\n",
       "12           universit_dist -0.735239\n",
       "24         music venue_dist -0.328256\n",
       "20        sports venue_dist  0.077149"
      ]
     },
     "execution_count": 47,
     "metadata": {},
     "output_type": "execute_result"
    }
   ],
   "source": [
    "category_coef_df = pd.DataFrame(data={\"feature\": X_columns_cat[53:], \"coef\": model_05.coef_[53:]})\n",
    "category_coef_df_dist = category_coef_df[category_coef_df[\"feature\"].str.contains(\"dist\")]\n",
    "category_coef_df_dist.sort_values(by=[\"coef\"], ascending=True).head(10)"
   ]
  },
  {
   "cell_type": "markdown",
   "metadata": {},
   "source": [
    "### Text features"
   ]
  },
  {
   "cell_type": "markdown",
   "metadata": {},
   "source": [
    "Feature importance for best model"
   ]
  },
  {
   "cell_type": "code",
   "execution_count": 48,
   "metadata": {},
   "outputs": [
    {
     "data": {
      "text/plain": [
       "[('GRADE', 28.494930688724914),\n",
       " ('FINISHEDLIVINGAREA', 16.284128649131475),\n",
       " ('FULLBATHS', 3.568756457874683),\n",
       " ('LOTAREA', 2.6257652693151528),\n",
       " ('YEARBLT', 2.0358528666192734),\n",
       " ('vec_183', 1.810209532219415),\n",
       " ('CDU', 1.719098492460599),\n",
       " ('TOTALROOMS', 1.2651503927077286),\n",
       " ('vec_141', 1.0896876426633313),\n",
       " ('vec_37', 1.0371471542253918),\n",
       " ('HALFBATHS', 0.880254164649816),\n",
       " ('vec_134', 0.7768423485011445),\n",
       " ('vec_151', 0.7680545885417207),\n",
       " ('BSMTGARAGE', 0.7385176599725156),\n",
       " ('vec_292', 0.7211524534887265)]"
      ]
     },
     "execution_count": 48,
     "metadata": {},
     "output_type": "execute_result"
    }
   ],
   "source": [
    "sorted(list(zip(X_columns_text, model_04.get_feature_importance())), key=lambda x: x[1], reverse=True)[:15]"
   ]
  },
  {
   "cell_type": "code",
   "execution_count": 49,
   "metadata": {},
   "outputs": [],
   "source": [
    "to_drop = [\"_id\", \"PROPERTYZIP\", \"MUNICODE\", \"SCHOOLCODE\", \"NEIGHCODE\", \"SALEDATE\",\n",
    "           \"SALEPRICE\", \"FAIRMARKETTOTAL\", \"latitude\", \"longitude\", \"SALEYEAR\"]\n",
    "word_df = structured_wiki_text.drop(to_drop, axis=1)"
   ]
  },
  {
   "cell_type": "code",
   "execution_count": 50,
   "metadata": {
    "scrolled": true
   },
   "outputs": [
    {
     "name": "stdout",
     "output_type": "stream",
     "text": [
      "Intercept: -493723.4393115096\n"
     ]
    },
    {
     "data": {
      "text/html": [
       "<div>\n",
       "<style scoped>\n",
       "    .dataframe tbody tr th:only-of-type {\n",
       "        vertical-align: middle;\n",
       "    }\n",
       "\n",
       "    .dataframe tbody tr th {\n",
       "        vertical-align: top;\n",
       "    }\n",
       "\n",
       "    .dataframe thead th {\n",
       "        text-align: right;\n",
       "    }\n",
       "</style>\n",
       "<table border=\"1\" class=\"dataframe\">\n",
       "  <thead>\n",
       "    <tr style=\"text-align: right;\">\n",
       "      <th></th>\n",
       "      <th>feature</th>\n",
       "      <th>coef</th>\n",
       "    </tr>\n",
       "  </thead>\n",
       "  <tbody>\n",
       "    <tr>\n",
       "      <th>0</th>\n",
       "      <td>LOTAREA</td>\n",
       "      <td>0.200560</td>\n",
       "    </tr>\n",
       "    <tr>\n",
       "      <th>1</th>\n",
       "      <td>STORIES</td>\n",
       "      <td>-16274.714190</td>\n",
       "    </tr>\n",
       "    <tr>\n",
       "      <th>2</th>\n",
       "      <td>YEARBLT</td>\n",
       "      <td>473.163189</td>\n",
       "    </tr>\n",
       "    <tr>\n",
       "      <th>3</th>\n",
       "      <td>GRADE</td>\n",
       "      <td>-21692.092363</td>\n",
       "    </tr>\n",
       "    <tr>\n",
       "      <th>4</th>\n",
       "      <td>CONDITION</td>\n",
       "      <td>-125.167543</td>\n",
       "    </tr>\n",
       "    <tr>\n",
       "      <th>5</th>\n",
       "      <td>CDU</td>\n",
       "      <td>-17846.752033</td>\n",
       "    </tr>\n",
       "    <tr>\n",
       "      <th>6</th>\n",
       "      <td>TOTALROOMS</td>\n",
       "      <td>-377.556366</td>\n",
       "    </tr>\n",
       "    <tr>\n",
       "      <th>7</th>\n",
       "      <td>BEDROOMS</td>\n",
       "      <td>-150.518045</td>\n",
       "    </tr>\n",
       "    <tr>\n",
       "      <th>8</th>\n",
       "      <td>FULLBATHS</td>\n",
       "      <td>19308.637129</td>\n",
       "    </tr>\n",
       "    <tr>\n",
       "      <th>9</th>\n",
       "      <td>HALFBATHS</td>\n",
       "      <td>8376.356395</td>\n",
       "    </tr>\n",
       "    <tr>\n",
       "      <th>10</th>\n",
       "      <td>FIREPLACES</td>\n",
       "      <td>1159.080165</td>\n",
       "    </tr>\n",
       "    <tr>\n",
       "      <th>11</th>\n",
       "      <td>BSMTGARAGE</td>\n",
       "      <td>-3713.869540</td>\n",
       "    </tr>\n",
       "    <tr>\n",
       "      <th>12</th>\n",
       "      <td>FINISHEDLIVINGAREA</td>\n",
       "      <td>61.013979</td>\n",
       "    </tr>\n",
       "    <tr>\n",
       "      <th>13</th>\n",
       "      <td>SALEYEAR_STR_2015</td>\n",
       "      <td>-8892.215778</td>\n",
       "    </tr>\n",
       "    <tr>\n",
       "      <th>14</th>\n",
       "      <td>SALEYEAR_STR_2016</td>\n",
       "      <td>-7429.078602</td>\n",
       "    </tr>\n",
       "    <tr>\n",
       "      <th>15</th>\n",
       "      <td>SALEYEAR_STR_2017</td>\n",
       "      <td>-4075.976623</td>\n",
       "    </tr>\n",
       "    <tr>\n",
       "      <th>16</th>\n",
       "      <td>SALEYEAR_STR_2018</td>\n",
       "      <td>897.833055</td>\n",
       "    </tr>\n",
       "    <tr>\n",
       "      <th>17</th>\n",
       "      <td>SALEYEAR_STR_2019</td>\n",
       "      <td>3230.012705</td>\n",
       "    </tr>\n",
       "    <tr>\n",
       "      <th>18</th>\n",
       "      <td>SALEYEAR_STR_2020</td>\n",
       "      <td>16269.425241</td>\n",
       "    </tr>\n",
       "    <tr>\n",
       "      <th>19</th>\n",
       "      <td>HEATINGCOOLINGDESC_CentralHeat</td>\n",
       "      <td>-3494.431046</td>\n",
       "    </tr>\n",
       "  </tbody>\n",
       "</table>\n",
       "</div>"
      ],
      "text/plain": [
       "                           feature          coef\n",
       "0                          LOTAREA      0.200560\n",
       "1                          STORIES -16274.714190\n",
       "2                          YEARBLT    473.163189\n",
       "3                            GRADE -21692.092363\n",
       "4                        CONDITION   -125.167543\n",
       "5                              CDU -17846.752033\n",
       "6                       TOTALROOMS   -377.556366\n",
       "7                         BEDROOMS   -150.518045\n",
       "8                        FULLBATHS  19308.637129\n",
       "9                        HALFBATHS   8376.356395\n",
       "10                      FIREPLACES   1159.080165\n",
       "11                      BSMTGARAGE  -3713.869540\n",
       "12              FINISHEDLIVINGAREA     61.013979\n",
       "13               SALEYEAR_STR_2015  -8892.215778\n",
       "14               SALEYEAR_STR_2016  -7429.078602\n",
       "15               SALEYEAR_STR_2017  -4075.976623\n",
       "16               SALEYEAR_STR_2018    897.833055\n",
       "17               SALEYEAR_STR_2019   3230.012705\n",
       "18               SALEYEAR_STR_2020  16269.425241\n",
       "19  HEATINGCOOLINGDESC_CentralHeat  -3494.431046"
      ]
     },
     "execution_count": 50,
     "metadata": {},
     "output_type": "execute_result"
    }
   ],
   "source": [
    "print(f\"Intercept: {model_03.intercept_}\")\n",
    "word_coef_df = pd.DataFrame(data={\"feature\": word_df.columns, \"coef\": model_03.coef_})\n",
    "word_coef_lookup = {word:coef for (word, coef) in zip(word_df.columns, model_03.coef_)}\n",
    "word_coef_df.head(20)"
   ]
  },
  {
   "cell_type": "code",
   "execution_count": null,
   "metadata": {},
   "outputs": [],
   "source": []
  }
 ],
 "metadata": {
  "kernelspec": {
   "display_name": "Python 3",
   "language": "python",
   "name": "python3"
  },
  "language_info": {
   "codemirror_mode": {
    "name": "ipython",
    "version": 3
   },
   "file_extension": ".py",
   "mimetype": "text/x-python",
   "name": "python",
   "nbconvert_exporter": "python",
   "pygments_lexer": "ipython3",
   "version": "3.7.9"
  },
  "varInspector": {
   "cols": {
    "lenName": 16,
    "lenType": 16,
    "lenVar": 40
   },
   "kernels_config": {
    "python": {
     "delete_cmd_postfix": "",
     "delete_cmd_prefix": "del ",
     "library": "var_list.py",
     "varRefreshCmd": "print(var_dic_list())"
    },
    "r": {
     "delete_cmd_postfix": ") ",
     "delete_cmd_prefix": "rm(",
     "library": "var_list.r",
     "varRefreshCmd": "cat(var_dic_list()) "
    }
   },
   "types_to_exclude": [
    "module",
    "function",
    "builtin_function_or_method",
    "instance",
    "_Feature"
   ],
   "window_display": false
  },
  "widgets": {
   "application/vnd.jupyter.widget-state+json": {
    "state": {
     "0012760bab1f492691d653f41ec9d746": {
      "model_module": "@jupyter-widgets/controls",
      "model_module_version": "1.5.0",
      "model_name": "DescriptionStyleModel",
      "state": {
       "description_width": ""
      }
     },
     "0025f0a996e04dbf91b279b5b472b22b": {
      "model_module": "@jupyter-widgets/base",
      "model_module_version": "1.2.0",
      "model_name": "LayoutModel",
      "state": {}
     },
     "0083e6d5bee94d399523ee4495ad0b97": {
      "model_module": "@jupyter-widgets/controls",
      "model_module_version": "1.5.0",
      "model_name": "HBoxModel",
      "state": {
       "children": [
        "IPY_MODEL_0f70eea82bfa4c5e9e5ab9bf316a3a84",
        "IPY_MODEL_4fa7f4ac958849c787245a04467b49c7",
        "IPY_MODEL_1a10d42266544d408890d3ffcc0904aa"
       ],
       "layout": "IPY_MODEL_8e96696ba4404713b34876b3e51f6a4f"
      }
     },
     "00b01792d8014bf4ae8644f8cd0247f4": {
      "model_module": "@jupyter-widgets/base",
      "model_module_version": "1.2.0",
      "model_name": "LayoutModel",
      "state": {}
     },
     "00c1efedfaa54bbfb1957d947e818976": {
      "model_module": "@jupyter-widgets/base",
      "model_module_version": "1.2.0",
      "model_name": "LayoutModel",
      "state": {}
     },
     "00c56fcd890e414a98082cebb20fc5cd": {
      "model_module": "@jupyter-widgets/controls",
      "model_module_version": "1.5.0",
      "model_name": "HTMLModel",
      "state": {
       "layout": "IPY_MODEL_f783a069935b463c806392ff43d8ce4d",
       "style": "IPY_MODEL_1cdccab879b54244bdc452f3ae3f72c9",
       "value": "100%"
      }
     },
     "00fb45388a294164bcdae056006ef961": {
      "model_module": "@jupyter-widgets/controls",
      "model_module_version": "1.5.0",
      "model_name": "HTMLModel",
      "state": {
       "layout": "IPY_MODEL_75e1a1263043478294d108d88c0bf33a",
       "style": "IPY_MODEL_2910ee947b384ba09516321d6b333353",
       "value": " 5/5 [01:18&lt;00:00, 15.64s/it]"
      }
     },
     "0119d78b93914d40a93c826bf53ed3bb": {
      "model_module": "@jupyter-widgets/base",
      "model_module_version": "1.2.0",
      "model_name": "LayoutModel",
      "state": {}
     },
     "01aef51753954d4fbb248707df99636d": {
      "model_module": "@jupyter-widgets/controls",
      "model_module_version": "1.5.0",
      "model_name": "DescriptionStyleModel",
      "state": {
       "description_width": ""
      }
     },
     "02408cb9ac21438592ab4b2fed5b79f2": {
      "model_module": "@jupyter-widgets/controls",
      "model_module_version": "1.5.0",
      "model_name": "ProgressStyleModel",
      "state": {
       "description_width": ""
      }
     },
     "0271f5b32c3048c68cff7ff554528a42": {
      "model_module": "@jupyter-widgets/controls",
      "model_module_version": "1.5.0",
      "model_name": "HTMLModel",
      "state": {
       "layout": "IPY_MODEL_b7eb4fbc17e248f2826ed0c9a6039fcc",
       "style": "IPY_MODEL_c99e44a6bca649469f2cb01b85d22e75",
       "value": " 5/5 [00:00&lt;00:00, 73.39it/s]"
      }
     },
     "03973a050ac84395a2c82774be401c4d": {
      "model_module": "@jupyter-widgets/controls",
      "model_module_version": "1.5.0",
      "model_name": "DescriptionStyleModel",
      "state": {
       "description_width": ""
      }
     },
     "03c27ff4fed14f128c53c3512c5e87ff": {
      "model_module": "@jupyter-widgets/controls",
      "model_module_version": "1.5.0",
      "model_name": "DescriptionStyleModel",
      "state": {
       "description_width": ""
      }
     },
     "03f929c147ec4f16a670ef11bb46e73d": {
      "model_module": "@jupyter-widgets/controls",
      "model_module_version": "1.5.0",
      "model_name": "ProgressStyleModel",
      "state": {
       "description_width": ""
      }
     },
     "0405af4906af4010b3fe2a3f10959a52": {
      "model_module": "@jupyter-widgets/controls",
      "model_module_version": "1.5.0",
      "model_name": "HTMLModel",
      "state": {
       "layout": "IPY_MODEL_cd3110131d1c4233b592d82a647ea921",
       "style": "IPY_MODEL_c5a9b54b65f44a7f884ca02ab707b0fd",
       "value": " 5/5 [01:20&lt;00:00, 16.07s/it]"
      }
     },
     "046f1fa830bd4977944d499b39bea3c2": {
      "model_module": "@jupyter-widgets/controls",
      "model_module_version": "1.5.0",
      "model_name": "HBoxModel",
      "state": {
       "children": [
        "IPY_MODEL_0672307e372144e5a24e07ef3ffe1149",
        "IPY_MODEL_3cbfb71dccaf4e2e8b0b530ffa5ed6a0",
        "IPY_MODEL_2e8115000dff44afb73c37e5ae8e4a9b"
       ],
       "layout": "IPY_MODEL_5e34e850fba34f88ae76e937ebb120f3"
      }
     },
     "047ff84d060a441c9bd09e8a2e1f1e60": {
      "model_module": "@jupyter-widgets/controls",
      "model_module_version": "1.5.0",
      "model_name": "ProgressStyleModel",
      "state": {
       "description_width": ""
      }
     },
     "049549122228476aa2d5df81c79c34b4": {
      "model_module": "@jupyter-widgets/controls",
      "model_module_version": "1.5.0",
      "model_name": "HTMLModel",
      "state": {
       "layout": "IPY_MODEL_fc08fa1d49d44c4dbf5e939058b800a9",
       "style": "IPY_MODEL_1e75721ace57482b96644bb50762a805",
       "value": "100%"
      }
     },
     "052a5f5e32614c42b4d1434d2ac9d97b": {
      "model_module": "@jupyter-widgets/base",
      "model_module_version": "1.2.0",
      "model_name": "LayoutModel",
      "state": {}
     },
     "052a61e4853e4597a46e56a27874950d": {
      "model_module": "@jupyter-widgets/base",
      "model_module_version": "1.2.0",
      "model_name": "LayoutModel",
      "state": {}
     },
     "055652ba2c2546ffbd8411477c3e0dc0": {
      "model_module": "@jupyter-widgets/controls",
      "model_module_version": "1.5.0",
      "model_name": "HTMLModel",
      "state": {
       "layout": "IPY_MODEL_cf0dda92fe52448ab1fb9437889d3793",
       "style": "IPY_MODEL_b357a9b30036402883249e2b1a412424",
       "value": "100%"
      }
     },
     "057c4596908e4561a86eef56ef2b219c": {
      "model_module": "@jupyter-widgets/controls",
      "model_module_version": "1.5.0",
      "model_name": "HBoxModel",
      "state": {
       "children": [
        "IPY_MODEL_792198d51ca9425d96be9af04fee7b7e",
        "IPY_MODEL_a6bfebbf7d6241308015dc475a3955a8",
        "IPY_MODEL_ca41f54361354e2abf7e40449389d8f0"
       ],
       "layout": "IPY_MODEL_48b7cd3fd296403c99d35103b1334572"
      }
     },
     "0599bddc47b140aaa0516d1826b7e374": {
      "model_module": "@jupyter-widgets/controls",
      "model_module_version": "1.5.0",
      "model_name": "HTMLModel",
      "state": {
       "layout": "IPY_MODEL_78538fd4667f44a999df2257b68a3ca2",
       "style": "IPY_MODEL_541d8c01e3be41fc8bd0d65bcab13cef",
       "value": "100%"
      }
     },
     "05a4b02499cf4c588b7c28061d0cd904": {
      "model_module": "@jupyter-widgets/controls",
      "model_module_version": "1.5.0",
      "model_name": "HBoxModel",
      "state": {
       "children": [
        "IPY_MODEL_3df7f9352618499892e63458f4ef2bb5",
        "IPY_MODEL_2f2f9716ef8f4f42a04d2996853b261b",
        "IPY_MODEL_28481a77fb8341e29b1a3cb3bba45fed"
       ],
       "layout": "IPY_MODEL_ade81211949146329034ed4b6445c39b"
      }
     },
     "05aa78a8ee14499e8258a7fd6aaa1db6": {
      "model_module": "@jupyter-widgets/controls",
      "model_module_version": "1.5.0",
      "model_name": "ProgressStyleModel",
      "state": {
       "description_width": ""
      }
     },
     "05b1d9a808f7478b8dcaea4066f07506": {
      "model_module": "@jupyter-widgets/base",
      "model_module_version": "1.2.0",
      "model_name": "LayoutModel",
      "state": {}
     },
     "05f1231cc65a418c9b34ee4b577a6ed8": {
      "model_module": "@jupyter-widgets/controls",
      "model_module_version": "1.5.0",
      "model_name": "DescriptionStyleModel",
      "state": {
       "description_width": ""
      }
     },
     "0637830771d6468ab1ff47eecb622734": {
      "model_module": "@jupyter-widgets/base",
      "model_module_version": "1.2.0",
      "model_name": "LayoutModel",
      "state": {}
     },
     "066b548dfd6c443a8bed5d2a7b248632": {
      "model_module": "@jupyter-widgets/controls",
      "model_module_version": "1.5.0",
      "model_name": "HBoxModel",
      "state": {
       "children": [
        "IPY_MODEL_80c097926b16431d926815dfa7956dba",
        "IPY_MODEL_b92a6e39dc1348f29b2000c264ba50de",
        "IPY_MODEL_82e1d69533d64888a233f42671d566c9"
       ],
       "layout": "IPY_MODEL_1e31e5ac17c74eeebbbeff71ef453d9d"
      }
     },
     "0672307e372144e5a24e07ef3ffe1149": {
      "model_module": "@jupyter-widgets/controls",
      "model_module_version": "1.5.0",
      "model_name": "HTMLModel",
      "state": {
       "layout": "IPY_MODEL_05b1d9a808f7478b8dcaea4066f07506",
       "style": "IPY_MODEL_17094108b3194c9ca97e54c465fa016a",
       "value": "100%"
      }
     },
     "070e698399c245e5a1cbe3bf9c3b3694": {
      "model_module": "@jupyter-widgets/controls",
      "model_module_version": "1.5.0",
      "model_name": "HTMLModel",
      "state": {
       "layout": "IPY_MODEL_ff28fda0a7f24f909649a2d6eda0bdf7",
       "style": "IPY_MODEL_12b61c5b1dda42cd80b81f705f959eb5",
       "value": "100%"
      }
     },
     "073582ef38044441828583caa172ab2c": {
      "model_module": "@jupyter-widgets/controls",
      "model_module_version": "1.5.0",
      "model_name": "DescriptionStyleModel",
      "state": {
       "description_width": ""
      }
     },
     "074b30931cb143d8ac06001356022d2d": {
      "model_module": "@jupyter-widgets/controls",
      "model_module_version": "1.5.0",
      "model_name": "HTMLModel",
      "state": {
       "layout": "IPY_MODEL_00b01792d8014bf4ae8644f8cd0247f4",
       "style": "IPY_MODEL_20c494df790644289a523dd5c9f45d9f",
       "value": " 5/5 [00:00&lt;00:00, 81.89it/s]"
      }
     },
     "0753d059ba7746ed9ca69021ba6fc607": {
      "model_module": "@jupyter-widgets/controls",
      "model_module_version": "1.5.0",
      "model_name": "HTMLModel",
      "state": {
       "layout": "IPY_MODEL_e8e8f610a5b94087bb7e9cd1467ebc96",
       "style": "IPY_MODEL_82362e53dca347238969c355f1f90e12",
       "value": " 5/5 [01:24&lt;00:00, 16.87s/it]"
      }
     },
     "077cb0586ece47ee8524fabe5a1d4f94": {
      "model_module": "@jupyter-widgets/controls",
      "model_module_version": "1.5.0",
      "model_name": "ProgressStyleModel",
      "state": {
       "description_width": ""
      }
     },
     "083b46b94a77457bbfc1dccf69ec46c1": {
      "model_module": "@jupyter-widgets/base",
      "model_module_version": "1.2.0",
      "model_name": "LayoutModel",
      "state": {}
     },
     "089b4800faf74815a31afd4db80ca698": {
      "model_module": "@jupyter-widgets/controls",
      "model_module_version": "1.5.0",
      "model_name": "DescriptionStyleModel",
      "state": {
       "description_width": ""
      }
     },
     "08a6e94050c04524b9df885a32f6daa1": {
      "model_module": "@jupyter-widgets/base",
      "model_module_version": "1.2.0",
      "model_name": "LayoutModel",
      "state": {}
     },
     "091b4e176c7c4572a55b0d5ae9e433ac": {
      "model_module": "@jupyter-widgets/base",
      "model_module_version": "1.2.0",
      "model_name": "LayoutModel",
      "state": {}
     },
     "098affcc1fcb485b80e268aa3eff1492": {
      "model_module": "@jupyter-widgets/base",
      "model_module_version": "1.2.0",
      "model_name": "LayoutModel",
      "state": {}
     },
     "09a0848bd6df415cb4b40ea37c20c98e": {
      "model_module": "@jupyter-widgets/controls",
      "model_module_version": "1.5.0",
      "model_name": "ProgressStyleModel",
      "state": {
       "description_width": ""
      }
     },
     "0a3f043c52494d2e8fa1bc7ac82fc2ff": {
      "model_module": "@jupyter-widgets/controls",
      "model_module_version": "1.5.0",
      "model_name": "DescriptionStyleModel",
      "state": {
       "description_width": ""
      }
     },
     "0a5102c8ffa445d99d15c977bd501ce7": {
      "model_module": "@jupyter-widgets/controls",
      "model_module_version": "1.5.0",
      "model_name": "HTMLModel",
      "state": {
       "layout": "IPY_MODEL_5d16158be7a84e76b4503cf31d663fda",
       "style": "IPY_MODEL_6361fdb23dc949568d74bc06ff6c0abe",
       "value": "100%"
      }
     },
     "0b022213919b42b7a7e58e4e6d3b3a43": {
      "model_module": "@jupyter-widgets/base",
      "model_module_version": "1.2.0",
      "model_name": "LayoutModel",
      "state": {}
     },
     "0b1fe1b1b1c54ea6a638aaefefc50248": {
      "model_module": "@jupyter-widgets/base",
      "model_module_version": "1.2.0",
      "model_name": "LayoutModel",
      "state": {}
     },
     "0b4ab6b85e554402b28e94f11b5f4b53": {
      "model_module": "@jupyter-widgets/controls",
      "model_module_version": "1.5.0",
      "model_name": "HBoxModel",
      "state": {
       "children": [
        "IPY_MODEL_7b42b4ed84434f2ca008e858196fdec9",
        "IPY_MODEL_1f2b66063d9c4af7af97b3bb4c7026a6",
        "IPY_MODEL_8308ca1735274822866366254763e34b"
       ],
       "layout": "IPY_MODEL_f8a73fb3979345db95f4468dcd45bb5b"
      }
     },
     "0b4d0e36ff65465d923fac4b741aef45": {
      "model_module": "@jupyter-widgets/controls",
      "model_module_version": "1.5.0",
      "model_name": "DescriptionStyleModel",
      "state": {
       "description_width": ""
      }
     },
     "0b4e783bd8324b289b2fdbda2404e098": {
      "model_module": "@jupyter-widgets/base",
      "model_module_version": "1.2.0",
      "model_name": "LayoutModel",
      "state": {}
     },
     "0b506ed51c11446eb6964600009b13aa": {
      "model_module": "@jupyter-widgets/controls",
      "model_module_version": "1.5.0",
      "model_name": "HTMLModel",
      "state": {
       "layout": "IPY_MODEL_753f5ffb2b7f45c9af8b77046800a8dc",
       "style": "IPY_MODEL_e23c0023364a44a09f5e43756cbca165",
       "value": "100%"
      }
     },
     "0b766915458d4193b4dd71cf737d26a6": {
      "model_module": "@jupyter-widgets/base",
      "model_module_version": "1.2.0",
      "model_name": "LayoutModel",
      "state": {}
     },
     "0b8ab2a0178c479280cbf2ad335b6b2e": {
      "model_module": "@jupyter-widgets/base",
      "model_module_version": "1.2.0",
      "model_name": "LayoutModel",
      "state": {}
     },
     "0bb4253250ed434d94761c9b08b95305": {
      "model_module": "@jupyter-widgets/controls",
      "model_module_version": "1.5.0",
      "model_name": "ProgressStyleModel",
      "state": {
       "description_width": ""
      }
     },
     "0c84321146be47cd890cab9d072a27c9": {
      "model_module": "@jupyter-widgets/controls",
      "model_module_version": "1.5.0",
      "model_name": "ProgressStyleModel",
      "state": {
       "description_width": ""
      }
     },
     "0ce2b0956a8a453aaf14020c545216a0": {
      "model_module": "@jupyter-widgets/base",
      "model_module_version": "1.2.0",
      "model_name": "LayoutModel",
      "state": {}
     },
     "0d07e951a4f242e99bba56807736f33f": {
      "model_module": "@jupyter-widgets/base",
      "model_module_version": "1.2.0",
      "model_name": "LayoutModel",
      "state": {}
     },
     "0d4d9facfc6843eaa0c34009a02fd2b1": {
      "model_module": "@jupyter-widgets/controls",
      "model_module_version": "1.5.0",
      "model_name": "FloatProgressModel",
      "state": {
       "bar_style": "success",
       "layout": "IPY_MODEL_1184acef72bd416ca3ba5de2fa388abe",
       "max": 5,
       "style": "IPY_MODEL_e65493139a88452188fbca14ad6f583b",
       "value": 5
      }
     },
     "0d9622eb7a604f6ea98ccb35d8910004": {
      "model_module": "@jupyter-widgets/controls",
      "model_module_version": "1.5.0",
      "model_name": "HTMLModel",
      "state": {
       "layout": "IPY_MODEL_9cca425ef8124a688b5bc7ba55458472",
       "style": "IPY_MODEL_e9dcf3229e1f4c95a129076dd7591c5b",
       "value": "100%"
      }
     },
     "0de009a92c09440bb4b38277286aae03": {
      "model_module": "@jupyter-widgets/controls",
      "model_module_version": "1.5.0",
      "model_name": "DescriptionStyleModel",
      "state": {
       "description_width": ""
      }
     },
     "0ef71d51e8c64b99a920b220d7656db8": {
      "model_module": "@jupyter-widgets/base",
      "model_module_version": "1.2.0",
      "model_name": "LayoutModel",
      "state": {}
     },
     "0f390e3b093a474abdded04dd33841b1": {
      "model_module": "@jupyter-widgets/controls",
      "model_module_version": "1.5.0",
      "model_name": "DescriptionStyleModel",
      "state": {
       "description_width": ""
      }
     },
     "0f70eea82bfa4c5e9e5ab9bf316a3a84": {
      "model_module": "@jupyter-widgets/controls",
      "model_module_version": "1.5.0",
      "model_name": "HTMLModel",
      "state": {
       "layout": "IPY_MODEL_4bcb633d6a064171ac810cb312a98261",
       "style": "IPY_MODEL_5af1dce113944699ab77ea6c8a507ffe",
       "value": "100%"
      }
     },
     "0fa2ec5b50d7434ba1765dae92d550ea": {
      "model_module": "@jupyter-widgets/base",
      "model_module_version": "1.2.0",
      "model_name": "LayoutModel",
      "state": {}
     },
     "0fc9900dc4f44f9392164b054ea1f6e9": {
      "model_module": "@jupyter-widgets/base",
      "model_module_version": "1.2.0",
      "model_name": "LayoutModel",
      "state": {}
     },
     "0fec42c20d7f46dc8104e530450a39b2": {
      "model_module": "@jupyter-widgets/base",
      "model_module_version": "1.2.0",
      "model_name": "LayoutModel",
      "state": {}
     },
     "102eb57bf05344eebba34a80ef8b576f": {
      "model_module": "@jupyter-widgets/controls",
      "model_module_version": "1.5.0",
      "model_name": "HBoxModel",
      "state": {
       "children": [
        "IPY_MODEL_634f94cdfc68403197137112ee42f142",
        "IPY_MODEL_db7c5f5515ab433d9602f29890269886",
        "IPY_MODEL_a8ed4e07bf3a45c5bec387debdc82414"
       ],
       "layout": "IPY_MODEL_249ae41c57b84162bdae4e203266a9ea"
      }
     },
     "1098b6f93adc4367b186bd0e4329af00": {
      "model_module": "@jupyter-widgets/base",
      "model_module_version": "1.2.0",
      "model_name": "LayoutModel",
      "state": {}
     },
     "109be5b372304304a1dd407c43a34527": {
      "model_module": "@jupyter-widgets/controls",
      "model_module_version": "1.5.0",
      "model_name": "HTMLModel",
      "state": {
       "layout": "IPY_MODEL_35341f2fb2174b23b95015e0571b1748",
       "style": "IPY_MODEL_968663b1d42047cb8773f2fbf6fd1f66",
       "value": " 5/5 [13:15&lt;00:00, 157.75s/it]"
      }
     },
     "109c8c5462bd4fefb746f2d8931f3da2": {
      "model_module": "@jupyter-widgets/base",
      "model_module_version": "1.2.0",
      "model_name": "LayoutModel",
      "state": {}
     },
     "10ac041b529b4d438cc937822bb8f631": {
      "model_module": "@jupyter-widgets/controls",
      "model_module_version": "1.5.0",
      "model_name": "FloatProgressModel",
      "state": {
       "bar_style": "success",
       "layout": "IPY_MODEL_3ee45ea3a2d844b385a4424d2a810b8c",
       "max": 5,
       "style": "IPY_MODEL_de573f6cc4904d2a94487dd2f142a6ac",
       "value": 5
      }
     },
     "11080b98402341248b244eeca0341bb8": {
      "model_module": "@jupyter-widgets/controls",
      "model_module_version": "1.5.0",
      "model_name": "HTMLModel",
      "state": {
       "layout": "IPY_MODEL_8730a0707687497e81a83a8971610c82",
       "style": "IPY_MODEL_136a55e55bf84ffe80e05dad9ba5955e",
       "value": "100%"
      }
     },
     "115c1ad549264809afbae93cc8ce1d1e": {
      "model_module": "@jupyter-widgets/controls",
      "model_module_version": "1.5.0",
      "model_name": "HTMLModel",
      "state": {
       "layout": "IPY_MODEL_16bed75b19f5494380f9c485776aafbd",
       "style": "IPY_MODEL_b6a10cce2a78435b8335e5bef9dbe09a",
       "value": " 5/5 [00:00&lt;00:00, 21.83it/s]"
      }
     },
     "116292d3e7454489bea6aeb2e5661c12": {
      "model_module": "@jupyter-widgets/controls",
      "model_module_version": "1.5.0",
      "model_name": "HBoxModel",
      "state": {
       "children": [
        "IPY_MODEL_00c56fcd890e414a98082cebb20fc5cd",
        "IPY_MODEL_ca0eee3c1aae4f54bc7b52450cf58475",
        "IPY_MODEL_3aec42a745f946f7a930a5ee02e7c437"
       ],
       "layout": "IPY_MODEL_7b5fc1e883994a88b1e06f3afc077dd0"
      }
     },
     "1184acef72bd416ca3ba5de2fa388abe": {
      "model_module": "@jupyter-widgets/base",
      "model_module_version": "1.2.0",
      "model_name": "LayoutModel",
      "state": {}
     },
     "12b597307ad44c7f8c1f789bea9bbef6": {
      "model_module": "@jupyter-widgets/controls",
      "model_module_version": "1.5.0",
      "model_name": "HBoxModel",
      "state": {
       "children": [
        "IPY_MODEL_74954641d5de411c8150c964365a8394",
        "IPY_MODEL_c6215366f45645dda6ebd43e77d1a70c",
        "IPY_MODEL_86f35eb810fd43e2975a665ae76fc374"
       ],
       "layout": "IPY_MODEL_baca44b93a90450ab11f30b275736b0c"
      }
     },
     "12b61c5b1dda42cd80b81f705f959eb5": {
      "model_module": "@jupyter-widgets/controls",
      "model_module_version": "1.5.0",
      "model_name": "DescriptionStyleModel",
      "state": {
       "description_width": ""
      }
     },
     "12f39e7089614b1c84a431c8e0f3870d": {
      "model_module": "@jupyter-widgets/controls",
      "model_module_version": "1.5.0",
      "model_name": "DescriptionStyleModel",
      "state": {
       "description_width": ""
      }
     },
     "135915f245a74c0281239e2c02db187e": {
      "model_module": "@jupyter-widgets/base",
      "model_module_version": "1.2.0",
      "model_name": "LayoutModel",
      "state": {}
     },
     "136a55e55bf84ffe80e05dad9ba5955e": {
      "model_module": "@jupyter-widgets/controls",
      "model_module_version": "1.5.0",
      "model_name": "DescriptionStyleModel",
      "state": {
       "description_width": ""
      }
     },
     "1396b98735ec4867b0b98d4641cc9480": {
      "model_module": "@jupyter-widgets/base",
      "model_module_version": "1.2.0",
      "model_name": "LayoutModel",
      "state": {}
     },
     "13f73d5f3a524698b108a5bee473b543": {
      "model_module": "@jupyter-widgets/base",
      "model_module_version": "1.2.0",
      "model_name": "LayoutModel",
      "state": {}
     },
     "13fe75a619494cf3aff9affdfec59124": {
      "model_module": "@jupyter-widgets/base",
      "model_module_version": "1.2.0",
      "model_name": "LayoutModel",
      "state": {}
     },
     "1445a253e66c44b2b222692c910df96d": {
      "model_module": "@jupyter-widgets/base",
      "model_module_version": "1.2.0",
      "model_name": "LayoutModel",
      "state": {}
     },
     "14c9b581ec784baab6fb8eba296aa56c": {
      "model_module": "@jupyter-widgets/controls",
      "model_module_version": "1.5.0",
      "model_name": "ProgressStyleModel",
      "state": {
       "description_width": ""
      }
     },
     "14f2d0f8b6b143b38dc66114b92a98a4": {
      "model_module": "@jupyter-widgets/base",
      "model_module_version": "1.2.0",
      "model_name": "LayoutModel",
      "state": {}
     },
     "152eba19e2794ba2908637202e378247": {
      "model_module": "@jupyter-widgets/controls",
      "model_module_version": "1.5.0",
      "model_name": "HBoxModel",
      "state": {
       "children": [
        "IPY_MODEL_b451ef3b59014a1099641bc1a65e8ad6",
        "IPY_MODEL_8da0d31b0b61443086faf40151973f51",
        "IPY_MODEL_7468789647a64d63a7ad12a399a08cf1"
       ],
       "layout": "IPY_MODEL_bddfa6bc737f4bcaa022f7e40a170076"
      }
     },
     "1545a99e4db14f43a06cb38ce32646bb": {
      "model_module": "@jupyter-widgets/controls",
      "model_module_version": "1.5.0",
      "model_name": "HTMLModel",
      "state": {
       "layout": "IPY_MODEL_6682b4676cbe4b2bab5fc69f9b158dec",
       "style": "IPY_MODEL_99fdf7c9d2e748e1940e710847ef053b",
       "value": "100%"
      }
     },
     "1562f706d4ac43a5b0803aeb5d8f051b": {
      "model_module": "@jupyter-widgets/base",
      "model_module_version": "1.2.0",
      "model_name": "LayoutModel",
      "state": {}
     },
     "1579139c85034d268c6367f85a8c6beb": {
      "model_module": "@jupyter-widgets/controls",
      "model_module_version": "1.5.0",
      "model_name": "HBoxModel",
      "state": {
       "children": [
        "IPY_MODEL_98df17219fec4a8fbeae72f87243f37f",
        "IPY_MODEL_c08c236b2ed9468e850637f094bcb770",
        "IPY_MODEL_9ea87cefca3448d695bd122b0ab33c2a"
       ],
       "layout": "IPY_MODEL_170439e291c7498c82988bca838db953"
      }
     },
     "15c6eefeff5c4c178dc0d3a6e98f472d": {
      "model_module": "@jupyter-widgets/controls",
      "model_module_version": "1.5.0",
      "model_name": "FloatProgressModel",
      "state": {
       "bar_style": "success",
       "layout": "IPY_MODEL_13f73d5f3a524698b108a5bee473b543",
       "max": 5,
       "style": "IPY_MODEL_f76f2b7af2f344bfbab50a0406301930",
       "value": 5
      }
     },
     "15c7d344626d4ca0ba5d082b65977315": {
      "model_module": "@jupyter-widgets/controls",
      "model_module_version": "1.5.0",
      "model_name": "FloatProgressModel",
      "state": {
       "bar_style": "success",
       "layout": "IPY_MODEL_da5024560ea24b3eb56dfbfc76007067",
       "max": 5,
       "style": "IPY_MODEL_077cb0586ece47ee8524fabe5a1d4f94",
       "value": 5
      }
     },
     "15ed8b157026400e95c2e058ee505501": {
      "model_module": "@jupyter-widgets/controls",
      "model_module_version": "1.5.0",
      "model_name": "DescriptionStyleModel",
      "state": {
       "description_width": ""
      }
     },
     "16b531efaa484d74beb15090d8fb8784": {
      "model_module": "@jupyter-widgets/controls",
      "model_module_version": "1.5.0",
      "model_name": "HBoxModel",
      "state": {
       "children": [
        "IPY_MODEL_87fabac7205e46a8aaf45fda8a27117a",
        "IPY_MODEL_849d8cd6bb774ba09113f32cd1d6e6bb",
        "IPY_MODEL_d33be881b3fa4e80bd37146cf6972399"
       ],
       "layout": "IPY_MODEL_64ed98ef1dd14dc5babd83576dfc36ea"
      }
     },
     "16bed75b19f5494380f9c485776aafbd": {
      "model_module": "@jupyter-widgets/base",
      "model_module_version": "1.2.0",
      "model_name": "LayoutModel",
      "state": {}
     },
     "170439e291c7498c82988bca838db953": {
      "model_module": "@jupyter-widgets/base",
      "model_module_version": "1.2.0",
      "model_name": "LayoutModel",
      "state": {}
     },
     "17094108b3194c9ca97e54c465fa016a": {
      "model_module": "@jupyter-widgets/controls",
      "model_module_version": "1.5.0",
      "model_name": "DescriptionStyleModel",
      "state": {
       "description_width": ""
      }
     },
     "17102aad96784821a6a5096585189d03": {
      "model_module": "@jupyter-widgets/base",
      "model_module_version": "1.2.0",
      "model_name": "LayoutModel",
      "state": {}
     },
     "179a1f40020a4ba490fca0e32bc6f633": {
      "model_module": "@jupyter-widgets/base",
      "model_module_version": "1.2.0",
      "model_name": "LayoutModel",
      "state": {}
     },
     "17c83b1bdc004f1abb8ea14c2fbcb759": {
      "model_module": "@jupyter-widgets/base",
      "model_module_version": "1.2.0",
      "model_name": "LayoutModel",
      "state": {}
     },
     "185880c93a0a4ebe842edfd9685023b6": {
      "model_module": "@jupyter-widgets/base",
      "model_module_version": "1.2.0",
      "model_name": "LayoutModel",
      "state": {}
     },
     "194214182c1f414997ec4faa32d51493": {
      "model_module": "@jupyter-widgets/base",
      "model_module_version": "1.2.0",
      "model_name": "LayoutModel",
      "state": {}
     },
     "1949666780034904a2c2111c8743d89a": {
      "model_module": "@jupyter-widgets/controls",
      "model_module_version": "1.5.0",
      "model_name": "HTMLModel",
      "state": {
       "layout": "IPY_MODEL_e24fd042a9994ff5a218436af7bcfa2e",
       "style": "IPY_MODEL_9f5655ee33144ffaa35df2d9ab510bee",
       "value": " 5/5 [00:00&lt;00:00, 62.94it/s]"
      }
     },
     "19dd6ca6badc42faa646e9091cda32c9": {
      "model_module": "@jupyter-widgets/base",
      "model_module_version": "1.2.0",
      "model_name": "LayoutModel",
      "state": {}
     },
     "1a10d42266544d408890d3ffcc0904aa": {
      "model_module": "@jupyter-widgets/controls",
      "model_module_version": "1.5.0",
      "model_name": "HTMLModel",
      "state": {
       "layout": "IPY_MODEL_13fe75a619494cf3aff9affdfec59124",
       "style": "IPY_MODEL_ddab2edd07e8406c97d4606fd7e5f2f5",
       "value": " 5/5 [01:35&lt;00:00, 19.07s/it]"
      }
     },
     "1a46d8335d194975ad423264ea7955d8": {
      "model_module": "@jupyter-widgets/controls",
      "model_module_version": "1.5.0",
      "model_name": "DescriptionStyleModel",
      "state": {
       "description_width": ""
      }
     },
     "1a6806140b0f44e1b8173a5a80ebeb08": {
      "model_module": "@jupyter-widgets/controls",
      "model_module_version": "1.5.0",
      "model_name": "DescriptionStyleModel",
      "state": {
       "description_width": ""
      }
     },
     "1a85920d92e64842affcac975c36be6f": {
      "model_module": "@jupyter-widgets/base",
      "model_module_version": "1.2.0",
      "model_name": "LayoutModel",
      "state": {}
     },
     "1bd1f7326de74b0d89e00081d6fced55": {
      "model_module": "@jupyter-widgets/controls",
      "model_module_version": "1.5.0",
      "model_name": "DescriptionStyleModel",
      "state": {
       "description_width": ""
      }
     },
     "1cdccab879b54244bdc452f3ae3f72c9": {
      "model_module": "@jupyter-widgets/controls",
      "model_module_version": "1.5.0",
      "model_name": "DescriptionStyleModel",
      "state": {
       "description_width": ""
      }
     },
     "1d8a815efb204e45a492a760b7c1fc1f": {
      "model_module": "@jupyter-widgets/controls",
      "model_module_version": "1.5.0",
      "model_name": "ProgressStyleModel",
      "state": {
       "description_width": ""
      }
     },
     "1e2f1856dde547038033dc04428ba7cf": {
      "model_module": "@jupyter-widgets/controls",
      "model_module_version": "1.5.0",
      "model_name": "HBoxModel",
      "state": {
       "children": [
        "IPY_MODEL_f1a7eeb4b83a442fbb32e22b3f4ada78",
        "IPY_MODEL_a463e206f67a490680e6e11d70dee36e",
        "IPY_MODEL_a1d7f399cbe949c7ba7b87d226bdbe6c"
       ],
       "layout": "IPY_MODEL_95ce90f09f9f49fdb8b0a434d4d7c17b"
      }
     },
     "1e31e5ac17c74eeebbbeff71ef453d9d": {
      "model_module": "@jupyter-widgets/base",
      "model_module_version": "1.2.0",
      "model_name": "LayoutModel",
      "state": {}
     },
     "1e4b7ca21240427c80f945dd328ef4f1": {
      "model_module": "@jupyter-widgets/controls",
      "model_module_version": "1.5.0",
      "model_name": "FloatProgressModel",
      "state": {
       "bar_style": "success",
       "layout": "IPY_MODEL_7f3e487f1efe4fee9eafc9d37386cc18",
       "max": 5,
       "style": "IPY_MODEL_6aceb034acaf402d9ac8b1730fa713f3",
       "value": 5
      }
     },
     "1e72ad6ebf7b49508a684a7472bd737c": {
      "model_module": "@jupyter-widgets/controls",
      "model_module_version": "1.5.0",
      "model_name": "FloatProgressModel",
      "state": {
       "bar_style": "success",
       "layout": "IPY_MODEL_91f0f253bbb747e498bcecaa46e70bb7",
       "max": 5,
       "style": "IPY_MODEL_62a10641daf5428f9e76f5cd5af624ea",
       "value": 5
      }
     },
     "1e75721ace57482b96644bb50762a805": {
      "model_module": "@jupyter-widgets/controls",
      "model_module_version": "1.5.0",
      "model_name": "DescriptionStyleModel",
      "state": {
       "description_width": ""
      }
     },
     "1ed3ef910c324a8c802d68efb0ecbac5": {
      "model_module": "@jupyter-widgets/base",
      "model_module_version": "1.2.0",
      "model_name": "LayoutModel",
      "state": {}
     },
     "1eed66e8581e4b399a30727ff210dc72": {
      "model_module": "@jupyter-widgets/controls",
      "model_module_version": "1.5.0",
      "model_name": "DescriptionStyleModel",
      "state": {
       "description_width": ""
      }
     },
     "1f2b66063d9c4af7af97b3bb4c7026a6": {
      "model_module": "@jupyter-widgets/controls",
      "model_module_version": "1.5.0",
      "model_name": "FloatProgressModel",
      "state": {
       "bar_style": "success",
       "layout": "IPY_MODEL_3fd681f863cb4753b211493204dac536",
       "max": 5,
       "style": "IPY_MODEL_43f2cb3b83914b4f8cb6b8be887e277f",
       "value": 5
      }
     },
     "2004460e6c7448988ad21ef8a44d3709": {
      "model_module": "@jupyter-widgets/base",
      "model_module_version": "1.2.0",
      "model_name": "LayoutModel",
      "state": {}
     },
     "20c494df790644289a523dd5c9f45d9f": {
      "model_module": "@jupyter-widgets/controls",
      "model_module_version": "1.5.0",
      "model_name": "DescriptionStyleModel",
      "state": {
       "description_width": ""
      }
     },
     "218b5fee01954393854253cb90c97b1e": {
      "model_module": "@jupyter-widgets/controls",
      "model_module_version": "1.5.0",
      "model_name": "HTMLModel",
      "state": {
       "layout": "IPY_MODEL_76621d98b499496cab0d0dcae88b9f59",
       "style": "IPY_MODEL_8217c1adcdee4887bcbdc2a0d9cef595",
       "value": "100%"
      }
     },
     "21a948aee9624066a077f594c069bdc8": {
      "model_module": "@jupyter-widgets/controls",
      "model_module_version": "1.5.0",
      "model_name": "FloatProgressModel",
      "state": {
       "bar_style": "success",
       "layout": "IPY_MODEL_0b8ab2a0178c479280cbf2ad335b6b2e",
       "max": 5,
       "style": "IPY_MODEL_476f5c64a5794b78ba1b889a2bb09d88",
       "value": 5
      }
     },
     "2233f524ee4b45968a3fc248e1eaf9a0": {
      "model_module": "@jupyter-widgets/controls",
      "model_module_version": "1.5.0",
      "model_name": "DescriptionStyleModel",
      "state": {
       "description_width": ""
      }
     },
     "232d3b2a415141a3b88176fc19e4b113": {
      "model_module": "@jupyter-widgets/base",
      "model_module_version": "1.2.0",
      "model_name": "LayoutModel",
      "state": {}
     },
     "2385e3b72a8d4679a2ec65d4267f29a7": {
      "model_module": "@jupyter-widgets/controls",
      "model_module_version": "1.5.0",
      "model_name": "ProgressStyleModel",
      "state": {
       "description_width": ""
      }
     },
     "240335e95a284db79fcacc9dc9fad0dc": {
      "model_module": "@jupyter-widgets/controls",
      "model_module_version": "1.5.0",
      "model_name": "HBoxModel",
      "state": {
       "children": [
        "IPY_MODEL_d64c82cac2aa46e9b16a30a7ac90c8c3",
        "IPY_MODEL_ae726be80e564ae18889d2427465e1e5",
        "IPY_MODEL_25c9f2a8736f42d8944a49e26522034b"
       ],
       "layout": "IPY_MODEL_a2be8e6c1a4d48eea869eb46c9c6dce5"
      }
     },
     "24293c9899074d07ad872b97449af3b2": {
      "model_module": "@jupyter-widgets/controls",
      "model_module_version": "1.5.0",
      "model_name": "ProgressStyleModel",
      "state": {
       "description_width": ""
      }
     },
     "2479d7e055194bbf9e967d1d6ca3854e": {
      "model_module": "@jupyter-widgets/controls",
      "model_module_version": "1.5.0",
      "model_name": "FloatProgressModel",
      "state": {
       "bar_style": "success",
       "layout": "IPY_MODEL_ca460191d92a438bb502f58340093cfb",
       "max": 5,
       "style": "IPY_MODEL_03f929c147ec4f16a670ef11bb46e73d",
       "value": 5
      }
     },
     "249ae41c57b84162bdae4e203266a9ea": {
      "model_module": "@jupyter-widgets/base",
      "model_module_version": "1.2.0",
      "model_name": "LayoutModel",
      "state": {}
     },
     "2512847070574d73aff32500acf54c34": {
      "model_module": "@jupyter-widgets/base",
      "model_module_version": "1.2.0",
      "model_name": "LayoutModel",
      "state": {}
     },
     "25367b0826724d82a2ea72566dcd3142": {
      "model_module": "@jupyter-widgets/controls",
      "model_module_version": "1.5.0",
      "model_name": "ProgressStyleModel",
      "state": {
       "description_width": ""
      }
     },
     "2572cef2fb4b45a3901fd7f2686b8fa6": {
      "model_module": "@jupyter-widgets/controls",
      "model_module_version": "1.5.0",
      "model_name": "DescriptionStyleModel",
      "state": {
       "description_width": ""
      }
     },
     "25c055d27223452681ca219070de7813": {
      "model_module": "@jupyter-widgets/controls",
      "model_module_version": "1.5.0",
      "model_name": "HBoxModel",
      "state": {
       "children": [
        "IPY_MODEL_3ab009d1dc0342e7a6904eeedd4b0b6a",
        "IPY_MODEL_8605824c14e64e0ca63553ee6a7d4aa0",
        "IPY_MODEL_fa7827e0008f4d2698f5e4f02ea9d8fe"
       ],
       "layout": "IPY_MODEL_e0255d71a4ec4589ab39d77775be573f"
      }
     },
     "25c9f2a8736f42d8944a49e26522034b": {
      "model_module": "@jupyter-widgets/controls",
      "model_module_version": "1.5.0",
      "model_name": "HTMLModel",
      "state": {
       "layout": "IPY_MODEL_e81b91712ecd42b8b9b3f2dc50151db6",
       "style": "IPY_MODEL_412c1b6aa6314b7fbdcecc2f8823d188",
       "value": " 5/5 [00:12&lt;00:00,  2.51s/it]"
      }
     },
     "25d931d1ffe54b9f83e43451c7c6eaf2": {
      "model_module": "@jupyter-widgets/base",
      "model_module_version": "1.2.0",
      "model_name": "LayoutModel",
      "state": {}
     },
     "261617e45e7c416cb1d2ecf099207ff4": {
      "model_module": "@jupyter-widgets/controls",
      "model_module_version": "1.5.0",
      "model_name": "DescriptionStyleModel",
      "state": {
       "description_width": ""
      }
     },
     "26be05d7a38a40469b5fb46526e38c3e": {
      "model_module": "@jupyter-widgets/controls",
      "model_module_version": "1.5.0",
      "model_name": "ProgressStyleModel",
      "state": {
       "description_width": ""
      }
     },
     "27653f35deef46bd9211c2e46aa7c3e8": {
      "model_module": "@jupyter-widgets/controls",
      "model_module_version": "1.5.0",
      "model_name": "DescriptionStyleModel",
      "state": {
       "description_width": ""
      }
     },
     "27b969af6d1d4a9989db7b05de9540d8": {
      "model_module": "@jupyter-widgets/controls",
      "model_module_version": "1.5.0",
      "model_name": "HBoxModel",
      "state": {
       "children": [
        "IPY_MODEL_b00d4b5674064ee19c4a4a5795da0939",
        "IPY_MODEL_321a55c8a0b944a09f2011fa39e06476",
        "IPY_MODEL_109be5b372304304a1dd407c43a34527"
       ],
       "layout": "IPY_MODEL_efc618dbf1614c00ba3bb7559ba0a1fa"
      }
     },
     "27bf454023c84b0ea7137ae1d4d230a3": {
      "model_module": "@jupyter-widgets/controls",
      "model_module_version": "1.5.0",
      "model_name": "HTMLModel",
      "state": {
       "layout": "IPY_MODEL_f20a5b2bb1fa4492bae5cdb3adbbf9b7",
       "style": "IPY_MODEL_ea684f24320043e48e84cb5a8b04a2db",
       "value": " 5/5 [00:04&lt;00:00,  1.07it/s]"
      }
     },
     "27f08c462a5d4c1fbd0715f01dab69de": {
      "model_module": "@jupyter-widgets/base",
      "model_module_version": "1.2.0",
      "model_name": "LayoutModel",
      "state": {}
     },
     "28481a77fb8341e29b1a3cb3bba45fed": {
      "model_module": "@jupyter-widgets/controls",
      "model_module_version": "1.5.0",
      "model_name": "HTMLModel",
      "state": {
       "layout": "IPY_MODEL_7b585f0b6aa846a3a192b075769d193c",
       "style": "IPY_MODEL_2233f524ee4b45968a3fc248e1eaf9a0",
       "value": " 5/5 [00:05&lt;00:00,  1.00it/s]"
      }
     },
     "285e4461a28b4b71be411e38c4308e16": {
      "model_module": "@jupyter-widgets/base",
      "model_module_version": "1.2.0",
      "model_name": "LayoutModel",
      "state": {}
     },
     "285f3bf901ba4ee2be64f713152b61af": {
      "model_module": "@jupyter-widgets/controls",
      "model_module_version": "1.5.0",
      "model_name": "DescriptionStyleModel",
      "state": {
       "description_width": ""
      }
     },
     "289f162220ee4f43befbfd3f9d77e74d": {
      "model_module": "@jupyter-widgets/base",
      "model_module_version": "1.2.0",
      "model_name": "LayoutModel",
      "state": {}
     },
     "29055097eec1481c91f3295cca0af819": {
      "model_module": "@jupyter-widgets/controls",
      "model_module_version": "1.5.0",
      "model_name": "DescriptionStyleModel",
      "state": {
       "description_width": ""
      }
     },
     "2910ee947b384ba09516321d6b333353": {
      "model_module": "@jupyter-widgets/controls",
      "model_module_version": "1.5.0",
      "model_name": "DescriptionStyleModel",
      "state": {
       "description_width": ""
      }
     },
     "2a020bf18563451faafc207a2ac31583": {
      "model_module": "@jupyter-widgets/controls",
      "model_module_version": "1.5.0",
      "model_name": "ProgressStyleModel",
      "state": {
       "description_width": ""
      }
     },
     "2a34031b8b564a238fc2fd83c3a3a776": {
      "model_module": "@jupyter-widgets/controls",
      "model_module_version": "1.5.0",
      "model_name": "HBoxModel",
      "state": {
       "children": [
        "IPY_MODEL_0b506ed51c11446eb6964600009b13aa",
        "IPY_MODEL_c5199f596ec5460ba614389bc2ee3bee",
        "IPY_MODEL_0271f5b32c3048c68cff7ff554528a42"
       ],
       "layout": "IPY_MODEL_da1e621c54194448b7836394c085d97e"
      }
     },
     "2a41937761664c1b9cd7abf4a3ebdb3e": {
      "model_module": "@jupyter-widgets/controls",
      "model_module_version": "1.5.0",
      "model_name": "DescriptionStyleModel",
      "state": {
       "description_width": ""
      }
     },
     "2a4cac573ddd4200a220b79f9cc640e6": {
      "model_module": "@jupyter-widgets/controls",
      "model_module_version": "1.5.0",
      "model_name": "ProgressStyleModel",
      "state": {
       "description_width": ""
      }
     },
     "2ab1938fb80343feb990fb7bd87e9917": {
      "model_module": "@jupyter-widgets/controls",
      "model_module_version": "1.5.0",
      "model_name": "ProgressStyleModel",
      "state": {
       "description_width": ""
      }
     },
     "2ab2a3a4914a4e06ba9f4acf2030aee3": {
      "model_module": "@jupyter-widgets/controls",
      "model_module_version": "1.5.0",
      "model_name": "FloatProgressModel",
      "state": {
       "bar_style": "success",
       "layout": "IPY_MODEL_e2b9ae99ef3f41678c0dc1eda35019f2",
       "max": 5,
       "style": "IPY_MODEL_24293c9899074d07ad872b97449af3b2",
       "value": 5
      }
     },
     "2aba6ecf32494229bebadbd24c9b372f": {
      "model_module": "@jupyter-widgets/base",
      "model_module_version": "1.2.0",
      "model_name": "LayoutModel",
      "state": {}
     },
     "2ac6bdeb24b5451bbc419947470e4fdc": {
      "model_module": "@jupyter-widgets/controls",
      "model_module_version": "1.5.0",
      "model_name": "ProgressStyleModel",
      "state": {
       "description_width": ""
      }
     },
     "2ad4c69d21a54ba98a7dcb00a4d4d7e0": {
      "model_module": "@jupyter-widgets/controls",
      "model_module_version": "1.5.0",
      "model_name": "DescriptionStyleModel",
      "state": {
       "description_width": ""
      }
     },
     "2afceb020ffb4bee83acd594895825a9": {
      "model_module": "@jupyter-widgets/base",
      "model_module_version": "1.2.0",
      "model_name": "LayoutModel",
      "state": {}
     },
     "2afd348098e14feda6f9e21f148c9f3c": {
      "model_module": "@jupyter-widgets/controls",
      "model_module_version": "1.5.0",
      "model_name": "DescriptionStyleModel",
      "state": {
       "description_width": ""
      }
     },
     "2afdb704c30640aea52cd8288edc4ad8": {
      "model_module": "@jupyter-widgets/base",
      "model_module_version": "1.2.0",
      "model_name": "LayoutModel",
      "state": {}
     },
     "2b2e77dfd7594b5da6e03cd7a7bac618": {
      "model_module": "@jupyter-widgets/controls",
      "model_module_version": "1.5.0",
      "model_name": "HTMLModel",
      "state": {
       "layout": "IPY_MODEL_c5d8e5e0273d40a392f3e7a7b680b41d",
       "style": "IPY_MODEL_678925c9f1984651b3375f47d762f6f7",
       "value": "100%"
      }
     },
     "2bd28f83946f41059e242b453bb6bafb": {
      "model_module": "@jupyter-widgets/controls",
      "model_module_version": "1.5.0",
      "model_name": "ProgressStyleModel",
      "state": {
       "description_width": ""
      }
     },
     "2bf9536c0ce243c59942fe730bda866c": {
      "model_module": "@jupyter-widgets/base",
      "model_module_version": "1.2.0",
      "model_name": "LayoutModel",
      "state": {}
     },
     "2cea7d9c1eab4de2a0963f98d952fb7e": {
      "model_module": "@jupyter-widgets/base",
      "model_module_version": "1.2.0",
      "model_name": "LayoutModel",
      "state": {}
     },
     "2d8d19b524f6493e93a337ce3121de21": {
      "model_module": "@jupyter-widgets/controls",
      "model_module_version": "1.5.0",
      "model_name": "HTMLModel",
      "state": {
       "layout": "IPY_MODEL_ef02e5b321b941e5b2ec37e9aeaff71a",
       "style": "IPY_MODEL_dced70961fe94729a423252fd472bc6f",
       "value": " 5/5 [00:00&lt;00:00, 24.38it/s]"
      }
     },
     "2da12d9601d543d4ae8693ad6e1b8013": {
      "model_module": "@jupyter-widgets/controls",
      "model_module_version": "1.5.0",
      "model_name": "ProgressStyleModel",
      "state": {
       "description_width": ""
      }
     },
     "2e779dbcd44e43dd921efeb27f1a1be8": {
      "model_module": "@jupyter-widgets/controls",
      "model_module_version": "1.5.0",
      "model_name": "DescriptionStyleModel",
      "state": {
       "description_width": ""
      }
     },
     "2e8115000dff44afb73c37e5ae8e4a9b": {
      "model_module": "@jupyter-widgets/controls",
      "model_module_version": "1.5.0",
      "model_name": "HTMLModel",
      "state": {
       "layout": "IPY_MODEL_46c3cb1a25594c999a09fb57bdc21661",
       "style": "IPY_MODEL_cbd98917453542fa824b9c21ec49be08",
       "value": " 5/5 [00:00&lt;00:00, 21.70it/s]"
      }
     },
     "2e9ac62ffc0c45b8bb708ea25b1c784b": {
      "model_module": "@jupyter-widgets/controls",
      "model_module_version": "1.5.0",
      "model_name": "DescriptionStyleModel",
      "state": {
       "description_width": ""
      }
     },
     "2ea4369e8efe4740acfb18c10eafef5d": {
      "model_module": "@jupyter-widgets/base",
      "model_module_version": "1.2.0",
      "model_name": "LayoutModel",
      "state": {}
     },
     "2eb86d33b2f84c828e4290f20aed485f": {
      "model_module": "@jupyter-widgets/base",
      "model_module_version": "1.2.0",
      "model_name": "LayoutModel",
      "state": {}
     },
     "2ec993b6501e4e0a8c7e43aadc57a102": {
      "model_module": "@jupyter-widgets/controls",
      "model_module_version": "1.5.0",
      "model_name": "HTMLModel",
      "state": {
       "layout": "IPY_MODEL_523f520c636c4edd803e174fdc757ac5",
       "style": "IPY_MODEL_0a3f043c52494d2e8fa1bc7ac82fc2ff",
       "value": " 5/5 [00:04&lt;00:00,  1.02it/s]"
      }
     },
     "2f2f9716ef8f4f42a04d2996853b261b": {
      "model_module": "@jupyter-widgets/controls",
      "model_module_version": "1.5.0",
      "model_name": "FloatProgressModel",
      "state": {
       "bar_style": "success",
       "layout": "IPY_MODEL_597084808fe14dc0b8ed27b9010df776",
       "max": 5,
       "style": "IPY_MODEL_ff965be747a14387b52f27ea6c34c159",
       "value": 5
      }
     },
     "2f930dbf805e44cd80233946ed1a6631": {
      "model_module": "@jupyter-widgets/base",
      "model_module_version": "1.2.0",
      "model_name": "LayoutModel",
      "state": {}
     },
     "2fe84b2ca5204f5088996a194c8b9f28": {
      "model_module": "@jupyter-widgets/controls",
      "model_module_version": "1.5.0",
      "model_name": "HBoxModel",
      "state": {
       "children": [
        "IPY_MODEL_321b1bb995274a40a6aa9006d25f9e9d",
        "IPY_MODEL_91b2f82248084dfc92abf99e6c6e7e92",
        "IPY_MODEL_e38e1a03162f4f2eb3e81a3bff3a88fa"
       ],
       "layout": "IPY_MODEL_85c283aaca2a4a57a3efc4a1e4d34414"
      }
     },
     "30bc7cfc124c436789252ced6cc060a6": {
      "model_module": "@jupyter-widgets/controls",
      "model_module_version": "1.5.0",
      "model_name": "ProgressStyleModel",
      "state": {
       "description_width": ""
      }
     },
     "3179a2747671485d8b8046ead5f4e0b1": {
      "model_module": "@jupyter-widgets/controls",
      "model_module_version": "1.5.0",
      "model_name": "HBoxModel",
      "state": {
       "children": [
        "IPY_MODEL_e752a9beae4847a6af13ab158426eaa8",
        "IPY_MODEL_6dd24241e0764672b54e9200bb2d63fb",
        "IPY_MODEL_4382e2b52aad4074a7190e68935aae8e"
       ],
       "layout": "IPY_MODEL_098affcc1fcb485b80e268aa3eff1492"
      }
     },
     "3179d1d1d40445d884a270d28d1c3ced": {
      "model_module": "@jupyter-widgets/base",
      "model_module_version": "1.2.0",
      "model_name": "LayoutModel",
      "state": {}
     },
     "31beaf1bd8a74ca08e5667be0e309f98": {
      "model_module": "@jupyter-widgets/controls",
      "model_module_version": "1.5.0",
      "model_name": "ProgressStyleModel",
      "state": {
       "description_width": ""
      }
     },
     "321a55c8a0b944a09f2011fa39e06476": {
      "model_module": "@jupyter-widgets/controls",
      "model_module_version": "1.5.0",
      "model_name": "FloatProgressModel",
      "state": {
       "bar_style": "success",
       "layout": "IPY_MODEL_634be68983b44aeeac64d33b541478ca",
       "max": 5,
       "style": "IPY_MODEL_0c84321146be47cd890cab9d072a27c9",
       "value": 5
      }
     },
     "321b1bb995274a40a6aa9006d25f9e9d": {
      "model_module": "@jupyter-widgets/controls",
      "model_module_version": "1.5.0",
      "model_name": "HTMLModel",
      "state": {
       "layout": "IPY_MODEL_3279c0d9385d4047a98ad75d86e638b8",
       "style": "IPY_MODEL_340c1ef8cd3e47f09eae9dd8ea5137b5",
       "value": "100%"
      }
     },
     "321cb5b0909f44d3868b392ae08d0fdf": {
      "model_module": "@jupyter-widgets/base",
      "model_module_version": "1.2.0",
      "model_name": "LayoutModel",
      "state": {}
     },
     "323e215c011f49b8b1030405a0df816b": {
      "model_module": "@jupyter-widgets/base",
      "model_module_version": "1.2.0",
      "model_name": "LayoutModel",
      "state": {}
     },
     "3279c0d9385d4047a98ad75d86e638b8": {
      "model_module": "@jupyter-widgets/base",
      "model_module_version": "1.2.0",
      "model_name": "LayoutModel",
      "state": {}
     },
     "333905561a394d3c9f7d208e109213a1": {
      "model_module": "@jupyter-widgets/base",
      "model_module_version": "1.2.0",
      "model_name": "LayoutModel",
      "state": {}
     },
     "33458c69f1ea4aaab4655ee0f0f77d12": {
      "model_module": "@jupyter-widgets/controls",
      "model_module_version": "1.5.0",
      "model_name": "FloatProgressModel",
      "state": {
       "bar_style": "success",
       "layout": "IPY_MODEL_fd966b2511d3403dba6d3ba9cebc8814",
       "max": 5,
       "style": "IPY_MODEL_db57b1eb514e404b82d4b74c5f70cb80",
       "value": 5
      }
     },
     "334ab9cfa9e1493bba8eeb5698d36e9d": {
      "model_module": "@jupyter-widgets/base",
      "model_module_version": "1.2.0",
      "model_name": "LayoutModel",
      "state": {}
     },
     "335d7e651cf9458a91a7287da9869a0d": {
      "model_module": "@jupyter-widgets/controls",
      "model_module_version": "1.5.0",
      "model_name": "HTMLModel",
      "state": {
       "layout": "IPY_MODEL_96a242fd1cfa4926adc2f8c947975f50",
       "style": "IPY_MODEL_f2c491db35b0402a81462365524d7c3c",
       "value": "100%"
      }
     },
     "337c34e501f14f21a078ab80475f3103": {
      "model_module": "@jupyter-widgets/controls",
      "model_module_version": "1.5.0",
      "model_name": "ProgressStyleModel",
      "state": {
       "description_width": ""
      }
     },
     "33e91ee232e54c63992acd6fffb2bb8a": {
      "model_module": "@jupyter-widgets/controls",
      "model_module_version": "1.5.0",
      "model_name": "HTMLModel",
      "state": {
       "layout": "IPY_MODEL_d9fb0e1ee57d41be92a370db48d40f0e",
       "style": "IPY_MODEL_f30dacfc1c274ac68e00c5be1c6628d6",
       "value": "100%"
      }
     },
     "340c1ef8cd3e47f09eae9dd8ea5137b5": {
      "model_module": "@jupyter-widgets/controls",
      "model_module_version": "1.5.0",
      "model_name": "DescriptionStyleModel",
      "state": {
       "description_width": ""
      }
     },
     "346f31158fe346458f5688c980e789b6": {
      "model_module": "@jupyter-widgets/base",
      "model_module_version": "1.2.0",
      "model_name": "LayoutModel",
      "state": {}
     },
     "350d75262d124426a1af064b69a05a04": {
      "model_module": "@jupyter-widgets/base",
      "model_module_version": "1.2.0",
      "model_name": "LayoutModel",
      "state": {}
     },
     "35341f2fb2174b23b95015e0571b1748": {
      "model_module": "@jupyter-widgets/base",
      "model_module_version": "1.2.0",
      "model_name": "LayoutModel",
      "state": {}
     },
     "3590bdfd02664fadb1b576761be65362": {
      "model_module": "@jupyter-widgets/base",
      "model_module_version": "1.2.0",
      "model_name": "LayoutModel",
      "state": {}
     },
     "361985c3940c4f82af76152e358dea33": {
      "model_module": "@jupyter-widgets/controls",
      "model_module_version": "1.5.0",
      "model_name": "HBoxModel",
      "state": {
       "children": [
        "IPY_MODEL_858ba27d9ecb406c8c40d849aff1e811",
        "IPY_MODEL_2ab2a3a4914a4e06ba9f4acf2030aee3",
        "IPY_MODEL_5143524921864a539c138c2461ce537a"
       ],
       "layout": "IPY_MODEL_4464cb7aa3f34cfcb5d5a8eed4f33c29"
      }
     },
     "3695457d99b94e2bb731869122259df2": {
      "model_module": "@jupyter-widgets/base",
      "model_module_version": "1.2.0",
      "model_name": "LayoutModel",
      "state": {}
     },
     "36b398cfaa2c4aacaf6a48e3d542f225": {
      "model_module": "@jupyter-widgets/controls",
      "model_module_version": "1.5.0",
      "model_name": "ProgressStyleModel",
      "state": {
       "description_width": ""
      }
     },
     "36dad58f481e459c9f9c9dee07bbe54e": {
      "model_module": "@jupyter-widgets/base",
      "model_module_version": "1.2.0",
      "model_name": "LayoutModel",
      "state": {}
     },
     "37205decc2b84e90bb452968b1140b8a": {
      "model_module": "@jupyter-widgets/controls",
      "model_module_version": "1.5.0",
      "model_name": "HTMLModel",
      "state": {
       "layout": "IPY_MODEL_109c8c5462bd4fefb746f2d8931f3da2",
       "style": "IPY_MODEL_4f2521c88a6a4e659cc4e52df66f43bd",
       "value": "100%"
      }
     },
     "37242fe77dde4a89b8e75f218673a518": {
      "model_module": "@jupyter-widgets/base",
      "model_module_version": "1.2.0",
      "model_name": "LayoutModel",
      "state": {}
     },
     "386596726a9442c391eea54b6c0f8145": {
      "model_module": "@jupyter-widgets/controls",
      "model_module_version": "1.5.0",
      "model_name": "HBoxModel",
      "state": {
       "children": [
        "IPY_MODEL_049549122228476aa2d5df81c79c34b4",
        "IPY_MODEL_c070bc3dd09049519edd1c080e2c7be5",
        "IPY_MODEL_ceb209d52a7f41459c8ed2db2fabdb0e"
       ],
       "layout": "IPY_MODEL_f822af2f773249e38e6db9a28dfb7c87"
      }
     },
     "3897267b19444032beeb2013840390c0": {
      "model_module": "@jupyter-widgets/base",
      "model_module_version": "1.2.0",
      "model_name": "LayoutModel",
      "state": {}
     },
     "390eb69da356469f80724aac0c0a0b56": {
      "model_module": "@jupyter-widgets/controls",
      "model_module_version": "1.5.0",
      "model_name": "HTMLModel",
      "state": {
       "layout": "IPY_MODEL_c1d520a3c0aa483a9d99baec3bc26074",
       "style": "IPY_MODEL_b9b39fda8fd24b1b9d2a697ca51b50fe",
       "value": "100%"
      }
     },
     "3930b5f0c9b347b8930f4181ebdf1ce2": {
      "model_module": "@jupyter-widgets/base",
      "model_module_version": "1.2.0",
      "model_name": "LayoutModel",
      "state": {}
     },
     "397f40c7207440099948959189cd5ac7": {
      "model_module": "@jupyter-widgets/base",
      "model_module_version": "1.2.0",
      "model_name": "LayoutModel",
      "state": {}
     },
     "3988f04a98c84b87ab19f877ea3dd1df": {
      "model_module": "@jupyter-widgets/controls",
      "model_module_version": "1.5.0",
      "model_name": "DescriptionStyleModel",
      "state": {
       "description_width": ""
      }
     },
     "39df22980cf34af1965da9cabb2428c4": {
      "model_module": "@jupyter-widgets/base",
      "model_module_version": "1.2.0",
      "model_name": "LayoutModel",
      "state": {}
     },
     "39e5c17f25cc4930b6fec64a2a68809e": {
      "model_module": "@jupyter-widgets/controls",
      "model_module_version": "1.5.0",
      "model_name": "HBoxModel",
      "state": {
       "children": [
        "IPY_MODEL_87215bb2a1fd4ad29472d42fe6c66c59",
        "IPY_MODEL_7575eeba12ef49218c20758246d4c46c",
        "IPY_MODEL_e84b9c690f414a8c81221c473efa95bc"
       ],
       "layout": "IPY_MODEL_fed63395148347b48c7559401b09a853"
      }
     },
     "3ab009d1dc0342e7a6904eeedd4b0b6a": {
      "model_module": "@jupyter-widgets/controls",
      "model_module_version": "1.5.0",
      "model_name": "HTMLModel",
      "state": {
       "layout": "IPY_MODEL_3d5514f624c34d19a8bd8be1b38d0c86",
       "style": "IPY_MODEL_ec717cec85ed4d0aba63d35b07fe1e8b",
       "value": "100%"
      }
     },
     "3ad0a8d1ad06472d97117ea65c1f7f8c": {
      "model_module": "@jupyter-widgets/controls",
      "model_module_version": "1.5.0",
      "model_name": "DescriptionStyleModel",
      "state": {
       "description_width": ""
      }
     },
     "3aec42a745f946f7a930a5ee02e7c437": {
      "model_module": "@jupyter-widgets/controls",
      "model_module_version": "1.5.0",
      "model_name": "HTMLModel",
      "state": {
       "layout": "IPY_MODEL_17c83b1bdc004f1abb8ea14c2fbcb759",
       "style": "IPY_MODEL_3988f04a98c84b87ab19f877ea3dd1df",
       "value": " 5/5 [14:23&lt;00:00, 175.09s/it]"
      }
     },
     "3b86bf74b0a4407eb8e0ad84f343f090": {
      "model_module": "@jupyter-widgets/controls",
      "model_module_version": "1.5.0",
      "model_name": "ProgressStyleModel",
      "state": {
       "description_width": ""
      }
     },
     "3bafb2bb43524fcf9201fea4119a295c": {
      "model_module": "@jupyter-widgets/controls",
      "model_module_version": "1.5.0",
      "model_name": "HBoxModel",
      "state": {
       "children": [
        "IPY_MODEL_e29ad3ec3799498e9faef6c93be7adb3",
        "IPY_MODEL_1e72ad6ebf7b49508a684a7472bd737c",
        "IPY_MODEL_cf8954a93a2443c9b430c100b2069542"
       ],
       "layout": "IPY_MODEL_81864895e1bf4a49907c93e6464cff9f"
      }
     },
     "3c404f1b97ee4faf8502636604716310": {
      "model_module": "@jupyter-widgets/controls",
      "model_module_version": "1.5.0",
      "model_name": "HTMLModel",
      "state": {
       "layout": "IPY_MODEL_feac8d3f942b412f922152d6caac9ed8",
       "style": "IPY_MODEL_5b7d17adf7d04015ab5c50e3838a2b4c",
       "value": " 5/5 [00:00&lt;00:00, 21.52it/s]"
      }
     },
     "3c7e36eeeda44a2abd96c1a7caac37f7": {
      "model_module": "@jupyter-widgets/base",
      "model_module_version": "1.2.0",
      "model_name": "LayoutModel",
      "state": {}
     },
     "3caddafca0794ae0bc777a747597ab3b": {
      "model_module": "@jupyter-widgets/controls",
      "model_module_version": "1.5.0",
      "model_name": "ProgressStyleModel",
      "state": {
       "description_width": ""
      }
     },
     "3cbfb71dccaf4e2e8b0b530ffa5ed6a0": {
      "model_module": "@jupyter-widgets/controls",
      "model_module_version": "1.5.0",
      "model_name": "FloatProgressModel",
      "state": {
       "bar_style": "success",
       "layout": "IPY_MODEL_cf5583fcbc7643b59e93e5fe9d62f93b",
       "max": 5,
       "style": "IPY_MODEL_6ed0adf351ba40e587e4c25d690ac59d",
       "value": 5
      }
     },
     "3d479da0f450402a82b9956089cd2815": {
      "model_module": "@jupyter-widgets/base",
      "model_module_version": "1.2.0",
      "model_name": "LayoutModel",
      "state": {}
     },
     "3d5514f624c34d19a8bd8be1b38d0c86": {
      "model_module": "@jupyter-widgets/base",
      "model_module_version": "1.2.0",
      "model_name": "LayoutModel",
      "state": {}
     },
     "3d7c0b9d189440d0b402864c5852d392": {
      "model_module": "@jupyter-widgets/controls",
      "model_module_version": "1.5.0",
      "model_name": "FloatProgressModel",
      "state": {
       "bar_style": "success",
       "layout": "IPY_MODEL_bd61bfa2b99e45bca6fc3165f8c2a6af",
       "max": 5,
       "style": "IPY_MODEL_cd456857b27a45159e8ca90c0079757f",
       "value": 5
      }
     },
     "3df7f9352618499892e63458f4ef2bb5": {
      "model_module": "@jupyter-widgets/controls",
      "model_module_version": "1.5.0",
      "model_name": "HTMLModel",
      "state": {
       "layout": "IPY_MODEL_bdffed28ed434ce2a6872a4ece53ddba",
       "style": "IPY_MODEL_51b37507f0e1410b86c25da08fc3021a",
       "value": "100%"
      }
     },
     "3e83ad03eaec4004a7c692dee2531a19": {
      "model_module": "@jupyter-widgets/controls",
      "model_module_version": "1.5.0",
      "model_name": "HTMLModel",
      "state": {
       "layout": "IPY_MODEL_00c1efedfaa54bbfb1957d947e818976",
       "style": "IPY_MODEL_f832eda04c914eeeb2c0b9957033cf90",
       "value": " 5/5 [00:05&lt;00:00,  1.04s/it]"
      }
     },
     "3ee45ea3a2d844b385a4424d2a810b8c": {
      "model_module": "@jupyter-widgets/base",
      "model_module_version": "1.2.0",
      "model_name": "LayoutModel",
      "state": {}
     },
     "3fc38d76c63b4a73958195274a88140b": {
      "model_module": "@jupyter-widgets/base",
      "model_module_version": "1.2.0",
      "model_name": "LayoutModel",
      "state": {}
     },
     "3fd681f863cb4753b211493204dac536": {
      "model_module": "@jupyter-widgets/base",
      "model_module_version": "1.2.0",
      "model_name": "LayoutModel",
      "state": {}
     },
     "4038dd696d834773af04f070b5533053": {
      "model_module": "@jupyter-widgets/controls",
      "model_module_version": "1.5.0",
      "model_name": "DescriptionStyleModel",
      "state": {
       "description_width": ""
      }
     },
     "4074c1c621c141ec8919a36ef99bfa3c": {
      "model_module": "@jupyter-widgets/controls",
      "model_module_version": "1.5.0",
      "model_name": "FloatProgressModel",
      "state": {
       "bar_style": "success",
       "layout": "IPY_MODEL_d886c4c1f45d4835bb6574059c3bdb12",
       "max": 5,
       "style": "IPY_MODEL_f4e2fa87c5204b228e45fd70e184b1ce",
       "value": 5
      }
     },
     "412c1b6aa6314b7fbdcecc2f8823d188": {
      "model_module": "@jupyter-widgets/controls",
      "model_module_version": "1.5.0",
      "model_name": "DescriptionStyleModel",
      "state": {
       "description_width": ""
      }
     },
     "4169e44f5f454e56ad0c4ab4514dae95": {
      "model_module": "@jupyter-widgets/base",
      "model_module_version": "1.2.0",
      "model_name": "LayoutModel",
      "state": {}
     },
     "41f13d765c254e22b7871ca721b31867": {
      "model_module": "@jupyter-widgets/controls",
      "model_module_version": "1.5.0",
      "model_name": "DescriptionStyleModel",
      "state": {
       "description_width": ""
      }
     },
     "424da3d725cc4e30b4c2b06045242058": {
      "model_module": "@jupyter-widgets/base",
      "model_module_version": "1.2.0",
      "model_name": "LayoutModel",
      "state": {}
     },
     "425edef6f00045bfa08402af7d8c9bfc": {
      "model_module": "@jupyter-widgets/controls",
      "model_module_version": "1.5.0",
      "model_name": "FloatProgressModel",
      "state": {
       "bar_style": "success",
       "layout": "IPY_MODEL_0ce2b0956a8a453aaf14020c545216a0",
       "max": 5,
       "style": "IPY_MODEL_a0690abd5beb4231aa71017bbc0fdff5",
       "value": 5
      }
     },
     "43679a07ee304ad99e9e6b42b942fdc8": {
      "model_module": "@jupyter-widgets/base",
      "model_module_version": "1.2.0",
      "model_name": "LayoutModel",
      "state": {}
     },
     "4382e2b52aad4074a7190e68935aae8e": {
      "model_module": "@jupyter-widgets/controls",
      "model_module_version": "1.5.0",
      "model_name": "HTMLModel",
      "state": {
       "layout": "IPY_MODEL_333905561a394d3c9f7d208e109213a1",
       "style": "IPY_MODEL_450069a63e774eacb310c8ee95fdab6e",
       "value": " 5/5 [00:00&lt;00:00, 20.89it/s]"
      }
     },
     "439de40f4f9c43be90eaea72a8bd0d2c": {
      "model_module": "@jupyter-widgets/controls",
      "model_module_version": "1.5.0",
      "model_name": "HTMLModel",
      "state": {
       "layout": "IPY_MODEL_7502be5d249a4508814840fe7f9d6261",
       "style": "IPY_MODEL_e07fed876d754a8e9c7f149193b0f11f",
       "value": " 5/5 [00:04&lt;00:00,  1.11it/s]"
      }
     },
     "43f0a97d6a03480b8277ab46eec2e0f7": {
      "model_module": "@jupyter-widgets/controls",
      "model_module_version": "1.5.0",
      "model_name": "FloatProgressModel",
      "state": {
       "bar_style": "success",
       "layout": "IPY_MODEL_a54f8ebb6d2d4ac69d658231e69214aa",
       "max": 5,
       "style": "IPY_MODEL_02408cb9ac21438592ab4b2fed5b79f2",
       "value": 5
      }
     },
     "43f2cb3b83914b4f8cb6b8be887e277f": {
      "model_module": "@jupyter-widgets/controls",
      "model_module_version": "1.5.0",
      "model_name": "ProgressStyleModel",
      "state": {
       "description_width": ""
      }
     },
     "4422d281819e4fe9ada89972ddb85447": {
      "model_module": "@jupyter-widgets/controls",
      "model_module_version": "1.5.0",
      "model_name": "HTMLModel",
      "state": {
       "layout": "IPY_MODEL_e11f11f9b2aa4fb8863e3f80c52da517",
       "style": "IPY_MODEL_c5544abf7a5a418f957e96e7b4f92a3e",
       "value": " 5/5 [00:00&lt;00:00, 23.23it/s]"
      }
     },
     "4464cb7aa3f34cfcb5d5a8eed4f33c29": {
      "model_module": "@jupyter-widgets/base",
      "model_module_version": "1.2.0",
      "model_name": "LayoutModel",
      "state": {}
     },
     "44da4de1fad745939a73b8d47756992f": {
      "model_module": "@jupyter-widgets/controls",
      "model_module_version": "1.5.0",
      "model_name": "DescriptionStyleModel",
      "state": {
       "description_width": ""
      }
     },
     "450069a63e774eacb310c8ee95fdab6e": {
      "model_module": "@jupyter-widgets/controls",
      "model_module_version": "1.5.0",
      "model_name": "DescriptionStyleModel",
      "state": {
       "description_width": ""
      }
     },
     "45aa8b2988b94728ac1cf7ebcbfbdf59": {
      "model_module": "@jupyter-widgets/controls",
      "model_module_version": "1.5.0",
      "model_name": "ProgressStyleModel",
      "state": {
       "description_width": ""
      }
     },
     "465cca509226492d8aa9b318f17d1a7a": {
      "model_module": "@jupyter-widgets/controls",
      "model_module_version": "1.5.0",
      "model_name": "ProgressStyleModel",
      "state": {
       "description_width": ""
      }
     },
     "4672f62b1c6f46229a436b32999786c9": {
      "model_module": "@jupyter-widgets/base",
      "model_module_version": "1.2.0",
      "model_name": "LayoutModel",
      "state": {}
     },
     "46c3cb1a25594c999a09fb57bdc21661": {
      "model_module": "@jupyter-widgets/base",
      "model_module_version": "1.2.0",
      "model_name": "LayoutModel",
      "state": {}
     },
     "46da57dc76214e7a94fc9eba19fde73a": {
      "model_module": "@jupyter-widgets/controls",
      "model_module_version": "1.5.0",
      "model_name": "HBoxModel",
      "state": {
       "children": [
        "IPY_MODEL_f13f494b7a704f2cae3d8546b8be3160",
        "IPY_MODEL_9320c560c48c4f8d9a968e3da8be43a9",
        "IPY_MODEL_4719431b658c4c9a91c096c6137bf496"
       ],
       "layout": "IPY_MODEL_e941090fb6874d5b9c11a9f4fd2a38ae"
      }
     },
     "46fc557d4c1d423fb54e2905a7115f0d": {
      "model_module": "@jupyter-widgets/controls",
      "model_module_version": "1.5.0",
      "model_name": "HTMLModel",
      "state": {
       "layout": "IPY_MODEL_0b766915458d4193b4dd71cf737d26a6",
       "style": "IPY_MODEL_5eedba6b95ad41e7a0937fa6b41e2e5b",
       "value": " 5/5 [00:00&lt;00:00, 72.34it/s]"
      }
     },
     "4719431b658c4c9a91c096c6137bf496": {
      "model_module": "@jupyter-widgets/controls",
      "model_module_version": "1.5.0",
      "model_name": "HTMLModel",
      "state": {
       "layout": "IPY_MODEL_49b934fddbba412bab0dce5be0a7655b",
       "style": "IPY_MODEL_6e4bcb99c46f45d2b87939a57a9a33c4",
       "value": " 5/5 [00:00&lt;00:00, 21.74it/s]"
      }
     },
     "4735fa385e1b444eada62a9156000907": {
      "model_module": "@jupyter-widgets/base",
      "model_module_version": "1.2.0",
      "model_name": "LayoutModel",
      "state": {}
     },
     "476f5c64a5794b78ba1b889a2bb09d88": {
      "model_module": "@jupyter-widgets/controls",
      "model_module_version": "1.5.0",
      "model_name": "ProgressStyleModel",
      "state": {
       "description_width": ""
      }
     },
     "4776b89fd42e417ab25080cf5b225f47": {
      "model_module": "@jupyter-widgets/controls",
      "model_module_version": "1.5.0",
      "model_name": "ProgressStyleModel",
      "state": {
       "description_width": ""
      }
     },
     "478040cc6b97457ba70243096b97799a": {
      "model_module": "@jupyter-widgets/base",
      "model_module_version": "1.2.0",
      "model_name": "LayoutModel",
      "state": {}
     },
     "47eefa3b4c6a40febc44ef6f4d998318": {
      "model_module": "@jupyter-widgets/base",
      "model_module_version": "1.2.0",
      "model_name": "LayoutModel",
      "state": {}
     },
     "48525090a1b34b32aa290e60bc112dcd": {
      "model_module": "@jupyter-widgets/base",
      "model_module_version": "1.2.0",
      "model_name": "LayoutModel",
      "state": {}
     },
     "48b7cd3fd296403c99d35103b1334572": {
      "model_module": "@jupyter-widgets/base",
      "model_module_version": "1.2.0",
      "model_name": "LayoutModel",
      "state": {}
     },
     "48dbd59f09a943f4937470a781d04d6c": {
      "model_module": "@jupyter-widgets/controls",
      "model_module_version": "1.5.0",
      "model_name": "DescriptionStyleModel",
      "state": {
       "description_width": ""
      }
     },
     "48f2a57a880440d0a2edebc2e78fd983": {
      "model_module": "@jupyter-widgets/base",
      "model_module_version": "1.2.0",
      "model_name": "LayoutModel",
      "state": {}
     },
     "48fd64cc8ae340d69047fa5fbb6590b9": {
      "model_module": "@jupyter-widgets/controls",
      "model_module_version": "1.5.0",
      "model_name": "HBoxModel",
      "state": {
       "children": [
        "IPY_MODEL_c8b53b21e8044f78ac11e34269f1a1f7",
        "IPY_MODEL_ed1aadb926e64db1904576e43fddfdc8",
        "IPY_MODEL_0753d059ba7746ed9ca69021ba6fc607"
       ],
       "layout": "IPY_MODEL_bc068a6825c147c69dbcb39651a74f1b"
      }
     },
     "49b934fddbba412bab0dce5be0a7655b": {
      "model_module": "@jupyter-widgets/base",
      "model_module_version": "1.2.0",
      "model_name": "LayoutModel",
      "state": {}
     },
     "49e63bda2fa546b5ab31409f69879801": {
      "model_module": "@jupyter-widgets/base",
      "model_module_version": "1.2.0",
      "model_name": "LayoutModel",
      "state": {}
     },
     "49f26464c61a43db87f867084f35bc47": {
      "model_module": "@jupyter-widgets/base",
      "model_module_version": "1.2.0",
      "model_name": "LayoutModel",
      "state": {}
     },
     "4a194d2d9dab4e6ba1cf7c490ab084e3": {
      "model_module": "@jupyter-widgets/controls",
      "model_module_version": "1.5.0",
      "model_name": "FloatProgressModel",
      "state": {
       "bar_style": "success",
       "layout": "IPY_MODEL_6e6a0ab44253472bafb565ef3ea4f9a2",
       "max": 5,
       "style": "IPY_MODEL_2ab1938fb80343feb990fb7bd87e9917",
       "value": 5
      }
     },
     "4a83efe63cf347268d799cf6c154542b": {
      "model_module": "@jupyter-widgets/base",
      "model_module_version": "1.2.0",
      "model_name": "LayoutModel",
      "state": {}
     },
     "4afab328669f4450b1726f56b2152c04": {
      "model_module": "@jupyter-widgets/controls",
      "model_module_version": "1.5.0",
      "model_name": "FloatProgressModel",
      "state": {
       "bar_style": "success",
       "layout": "IPY_MODEL_b764785d5b4142e3be993205af920e44",
       "max": 5,
       "style": "IPY_MODEL_d0e6f3acd3c345d6bedb514b89248179",
       "value": 5
      }
     },
     "4b9fa2f969214747891f4b1c814b664b": {
      "model_module": "@jupyter-widgets/controls",
      "model_module_version": "1.5.0",
      "model_name": "ProgressStyleModel",
      "state": {
       "description_width": ""
      }
     },
     "4bb0e690dc4c4f1f931840c77e87c74a": {
      "model_module": "@jupyter-widgets/controls",
      "model_module_version": "1.5.0",
      "model_name": "ProgressStyleModel",
      "state": {
       "description_width": ""
      }
     },
     "4bc985b393734567b0a22d16261033bd": {
      "model_module": "@jupyter-widgets/controls",
      "model_module_version": "1.5.0",
      "model_name": "HTMLModel",
      "state": {
       "layout": "IPY_MODEL_4c5e05de5e824aca95f146479e4dfcb4",
       "style": "IPY_MODEL_c776c499d0c945a5a6cc9a49146a399b",
       "value": " 5/5 [01:25&lt;00:00, 17.12s/it]"
      }
     },
     "4bcb633d6a064171ac810cb312a98261": {
      "model_module": "@jupyter-widgets/base",
      "model_module_version": "1.2.0",
      "model_name": "LayoutModel",
      "state": {}
     },
     "4c010974f55e486b93e2de7f8b2e4831": {
      "model_module": "@jupyter-widgets/controls",
      "model_module_version": "1.5.0",
      "model_name": "HTMLModel",
      "state": {
       "layout": "IPY_MODEL_92494a376c52433f93d6898659e0a77e",
       "style": "IPY_MODEL_44da4de1fad745939a73b8d47756992f",
       "value": "100%"
      }
     },
     "4c5e05de5e824aca95f146479e4dfcb4": {
      "model_module": "@jupyter-widgets/base",
      "model_module_version": "1.2.0",
      "model_name": "LayoutModel",
      "state": {}
     },
     "4cb5092cbae041e38215f16b43a164e1": {
      "model_module": "@jupyter-widgets/controls",
      "model_module_version": "1.5.0",
      "model_name": "HTMLModel",
      "state": {
       "layout": "IPY_MODEL_b261828bfb384d33915fcb5a13ee166a",
       "style": "IPY_MODEL_77267a9b368347a0878334540f8e9559",
       "value": "100%"
      }
     },
     "4d0924a85a1f495d8507bd4366ca7aa4": {
      "model_module": "@jupyter-widgets/controls",
      "model_module_version": "1.5.0",
      "model_name": "FloatProgressModel",
      "state": {
       "bar_style": "success",
       "layout": "IPY_MODEL_48525090a1b34b32aa290e60bc112dcd",
       "max": 5,
       "style": "IPY_MODEL_465cca509226492d8aa9b318f17d1a7a",
       "value": 5
      }
     },
     "4d10264693824cefb17abfa3292dad3b": {
      "model_module": "@jupyter-widgets/base",
      "model_module_version": "1.2.0",
      "model_name": "LayoutModel",
      "state": {}
     },
     "4d385d8c8a4b49e58ffd5f96c83ce0bb": {
      "model_module": "@jupyter-widgets/controls",
      "model_module_version": "1.5.0",
      "model_name": "HBoxModel",
      "state": {
       "children": [
        "IPY_MODEL_e70af7a3f3df427c9c9a94d6ed1ac7e1",
        "IPY_MODEL_d3fed67368e24a1581ea77e3e2c27b71",
        "IPY_MODEL_8697a821b0524629912db6c00699678a"
       ],
       "layout": "IPY_MODEL_667d4e79719c4614917d97da64798b7d"
      }
     },
     "4d67455dcadd4382a99c172bab9ca897": {
      "model_module": "@jupyter-widgets/controls",
      "model_module_version": "1.5.0",
      "model_name": "DescriptionStyleModel",
      "state": {
       "description_width": ""
      }
     },
     "4dab21b4119341559fad7ae670b9ca76": {
      "model_module": "@jupyter-widgets/controls",
      "model_module_version": "1.5.0",
      "model_name": "HTMLModel",
      "state": {
       "layout": "IPY_MODEL_dbf040fd49a04a3180c85244b04afd38",
       "style": "IPY_MODEL_6ab0d0955d274fceb021fae982a0c89f",
       "value": " 5/5 [00:00&lt;00:00, 23.25it/s]"
      }
     },
     "4dbdbe66c1dc4eb092d295cb2d4d4883": {
      "model_module": "@jupyter-widgets/controls",
      "model_module_version": "1.5.0",
      "model_name": "HBoxModel",
      "state": {
       "children": [
        "IPY_MODEL_0599bddc47b140aaa0516d1826b7e374",
        "IPY_MODEL_3d7c0b9d189440d0b402864c5852d392",
        "IPY_MODEL_2d8d19b524f6493e93a337ce3121de21"
       ],
       "layout": "IPY_MODEL_b9d46fd87c914409978574706dc50304"
      }
     },
     "4ddae4cff77040eda84f4db931bad6a7": {
      "model_module": "@jupyter-widgets/controls",
      "model_module_version": "1.5.0",
      "model_name": "DescriptionStyleModel",
      "state": {
       "description_width": ""
      }
     },
     "4ef4f22752db4264a2c084a3c7da37fb": {
      "model_module": "@jupyter-widgets/controls",
      "model_module_version": "1.5.0",
      "model_name": "HBoxModel",
      "state": {
       "children": [
        "IPY_MODEL_a90ec853bbf241cf852727184d4c6224",
        "IPY_MODEL_c4b50d9166404204b73796d141f92a2e",
        "IPY_MODEL_7d51955a358d4ae2b946fb02a811f57a"
       ],
       "layout": "IPY_MODEL_b96530455e3b4690a5f37103f18c4e4e"
      }
     },
     "4f2521c88a6a4e659cc4e52df66f43bd": {
      "model_module": "@jupyter-widgets/controls",
      "model_module_version": "1.5.0",
      "model_name": "DescriptionStyleModel",
      "state": {
       "description_width": ""
      }
     },
     "4fa7f4ac958849c787245a04467b49c7": {
      "model_module": "@jupyter-widgets/controls",
      "model_module_version": "1.5.0",
      "model_name": "FloatProgressModel",
      "state": {
       "bar_style": "success",
       "layout": "IPY_MODEL_37242fe77dde4a89b8e75f218673a518",
       "max": 5,
       "style": "IPY_MODEL_94e110d517fe4b06b54f8911e7a20374",
       "value": 5
      }
     },
     "5027d43960704cf4be8ae2884e4e884e": {
      "model_module": "@jupyter-widgets/controls",
      "model_module_version": "1.5.0",
      "model_name": "DescriptionStyleModel",
      "state": {
       "description_width": ""
      }
     },
     "505b421c4f1948f5acaa28b5922ed5ee": {
      "model_module": "@jupyter-widgets/controls",
      "model_module_version": "1.5.0",
      "model_name": "HBoxModel",
      "state": {
       "children": [
        "IPY_MODEL_62c34e4290d64c348f9ebffefb3ca4c7",
        "IPY_MODEL_9e795a1bae3b4a9dab48aa8fa7afb60b",
        "IPY_MODEL_6e54660e510d43f892e6b0945075c52b"
       ],
       "layout": "IPY_MODEL_3590bdfd02664fadb1b576761be65362"
      }
     },
     "5143524921864a539c138c2461ce537a": {
      "model_module": "@jupyter-widgets/controls",
      "model_module_version": "1.5.0",
      "model_name": "HTMLModel",
      "state": {
       "layout": "IPY_MODEL_70c06a7292c64517a977ee8620649eae",
       "style": "IPY_MODEL_9d530d085b534ec39c8828a33c84205d",
       "value": " 5/5 [13:13&lt;00:00, 158.24s/it]"
      }
     },
     "51b37507f0e1410b86c25da08fc3021a": {
      "model_module": "@jupyter-widgets/controls",
      "model_module_version": "1.5.0",
      "model_name": "DescriptionStyleModel",
      "state": {
       "description_width": ""
      }
     },
     "51cee6d50c9e40bfa025273e0b954687": {
      "model_module": "@jupyter-widgets/controls",
      "model_module_version": "1.5.0",
      "model_name": "DescriptionStyleModel",
      "state": {
       "description_width": ""
      }
     },
     "52028b1518f443bda40e1d00828cd0ab": {
      "model_module": "@jupyter-widgets/base",
      "model_module_version": "1.2.0",
      "model_name": "LayoutModel",
      "state": {}
     },
     "523f520c636c4edd803e174fdc757ac5": {
      "model_module": "@jupyter-widgets/base",
      "model_module_version": "1.2.0",
      "model_name": "LayoutModel",
      "state": {}
     },
     "526aa1afc7e04f54b23d3f26bb296c0a": {
      "model_module": "@jupyter-widgets/base",
      "model_module_version": "1.2.0",
      "model_name": "LayoutModel",
      "state": {}
     },
     "529e9d14d6d54f1c904a2f7c82f47987": {
      "model_module": "@jupyter-widgets/controls",
      "model_module_version": "1.5.0",
      "model_name": "DescriptionStyleModel",
      "state": {
       "description_width": ""
      }
     },
     "52b64ee29a41455cbc905b911e188f03": {
      "model_module": "@jupyter-widgets/base",
      "model_module_version": "1.2.0",
      "model_name": "LayoutModel",
      "state": {}
     },
     "541964013eae4bce9d654fe83342818e": {
      "model_module": "@jupyter-widgets/base",
      "model_module_version": "1.2.0",
      "model_name": "LayoutModel",
      "state": {}
     },
     "541d309ca7fb458384e358500a9f48ca": {
      "model_module": "@jupyter-widgets/base",
      "model_module_version": "1.2.0",
      "model_name": "LayoutModel",
      "state": {}
     },
     "541d8c01e3be41fc8bd0d65bcab13cef": {
      "model_module": "@jupyter-widgets/controls",
      "model_module_version": "1.5.0",
      "model_name": "DescriptionStyleModel",
      "state": {
       "description_width": ""
      }
     },
     "548589f7016f407ca80104850e614319": {
      "model_module": "@jupyter-widgets/controls",
      "model_module_version": "1.5.0",
      "model_name": "DescriptionStyleModel",
      "state": {
       "description_width": ""
      }
     },
     "54a7bdf890c74f1988e4af1c858e49ec": {
      "model_module": "@jupyter-widgets/controls",
      "model_module_version": "1.5.0",
      "model_name": "HBoxModel",
      "state": {
       "children": [
        "IPY_MODEL_a21259a45b9743c0b0bd1538febd6c17",
        "IPY_MODEL_d2c9360d95af4a3687bc6097570fdc25",
        "IPY_MODEL_ce2a66d14b5747bf8cb930e34dc35bb9"
       ],
       "layout": "IPY_MODEL_8cc15c26e5734c80b82276086f6fae1a"
      }
     },
     "54acb68d84c94dd6bc91dcf96df534f6": {
      "model_module": "@jupyter-widgets/controls",
      "model_module_version": "1.5.0",
      "model_name": "DescriptionStyleModel",
      "state": {
       "description_width": ""
      }
     },
     "55214528b8aa4825bed88dbeea943cfe": {
      "model_module": "@jupyter-widgets/controls",
      "model_module_version": "1.5.0",
      "model_name": "DescriptionStyleModel",
      "state": {
       "description_width": ""
      }
     },
     "565a8971fc544c74ac69dca3575be08f": {
      "model_module": "@jupyter-widgets/controls",
      "model_module_version": "1.5.0",
      "model_name": "HTMLModel",
      "state": {
       "layout": "IPY_MODEL_99c3a073ea1541fdb85da62a81cd2a86",
       "style": "IPY_MODEL_089b4800faf74815a31afd4db80ca698",
       "value": "100%"
      }
     },
     "566ff1c30dda43e592bf1cfb7993dffa": {
      "model_module": "@jupyter-widgets/controls",
      "model_module_version": "1.5.0",
      "model_name": "DescriptionStyleModel",
      "state": {
       "description_width": ""
      }
     },
     "57b92a24ef954e61a54722278d24fa63": {
      "model_module": "@jupyter-widgets/base",
      "model_module_version": "1.2.0",
      "model_name": "LayoutModel",
      "state": {}
     },
     "57c7042a4d094de9892bc50aaccae9d4": {
      "model_module": "@jupyter-widgets/base",
      "model_module_version": "1.2.0",
      "model_name": "LayoutModel",
      "state": {}
     },
     "583ebc5d5a33444a8f69b6e7b6f42a68": {
      "model_module": "@jupyter-widgets/controls",
      "model_module_version": "1.5.0",
      "model_name": "DescriptionStyleModel",
      "state": {
       "description_width": ""
      }
     },
     "58bc89df75b645cb8bdaaa28f7539f0e": {
      "model_module": "@jupyter-widgets/controls",
      "model_module_version": "1.5.0",
      "model_name": "DescriptionStyleModel",
      "state": {
       "description_width": ""
      }
     },
     "59422dd106b441d8b95432b9c1e811b7": {
      "model_module": "@jupyter-widgets/controls",
      "model_module_version": "1.5.0",
      "model_name": "HTMLModel",
      "state": {
       "layout": "IPY_MODEL_4169e44f5f454e56ad0c4ab4514dae95",
       "style": "IPY_MODEL_866932e8dd3a4fb29f2f51c89157a188",
       "value": "100%"
      }
     },
     "597084808fe14dc0b8ed27b9010df776": {
      "model_module": "@jupyter-widgets/base",
      "model_module_version": "1.2.0",
      "model_name": "LayoutModel",
      "state": {}
     },
     "59bbb68b750648ddbc6c2e35c6cc8173": {
      "model_module": "@jupyter-widgets/controls",
      "model_module_version": "1.5.0",
      "model_name": "ProgressStyleModel",
      "state": {
       "description_width": ""
      }
     },
     "5aa15136ce484db7a7e8dd2329046032": {
      "model_module": "@jupyter-widgets/base",
      "model_module_version": "1.2.0",
      "model_name": "LayoutModel",
      "state": {}
     },
     "5aac884fd06349c0b3e3995be349dcd7": {
      "model_module": "@jupyter-widgets/controls",
      "model_module_version": "1.5.0",
      "model_name": "HTMLModel",
      "state": {
       "layout": "IPY_MODEL_27f08c462a5d4c1fbd0715f01dab69de",
       "style": "IPY_MODEL_ae0194dc7aa5433a9efab2af2f867890",
       "value": " 5/5 [00:12&lt;00:00,  2.44s/it]"
      }
     },
     "5ac033b57538499caf0ac40ea9c51488": {
      "model_module": "@jupyter-widgets/base",
      "model_module_version": "1.2.0",
      "model_name": "LayoutModel",
      "state": {}
     },
     "5af1dce113944699ab77ea6c8a507ffe": {
      "model_module": "@jupyter-widgets/controls",
      "model_module_version": "1.5.0",
      "model_name": "DescriptionStyleModel",
      "state": {
       "description_width": ""
      }
     },
     "5b5aaf34c8ac45c0a71e47fa5966ab1f": {
      "model_module": "@jupyter-widgets/base",
      "model_module_version": "1.2.0",
      "model_name": "LayoutModel",
      "state": {}
     },
     "5b7d17adf7d04015ab5c50e3838a2b4c": {
      "model_module": "@jupyter-widgets/controls",
      "model_module_version": "1.5.0",
      "model_name": "DescriptionStyleModel",
      "state": {
       "description_width": ""
      }
     },
     "5c792122ac2040058801fcd7f54ab038": {
      "model_module": "@jupyter-widgets/base",
      "model_module_version": "1.2.0",
      "model_name": "LayoutModel",
      "state": {}
     },
     "5cdbb5fed3da4e3a8b2984b658fc902a": {
      "model_module": "@jupyter-widgets/controls",
      "model_module_version": "1.5.0",
      "model_name": "HTMLModel",
      "state": {
       "layout": "IPY_MODEL_93c98f4b077c4bfaad6359f81aa2df8d",
       "style": "IPY_MODEL_f9911eedaae04c9da89e1ac13277ec5f",
       "value": "100%"
      }
     },
     "5d16158be7a84e76b4503cf31d663fda": {
      "model_module": "@jupyter-widgets/base",
      "model_module_version": "1.2.0",
      "model_name": "LayoutModel",
      "state": {}
     },
     "5d1ef6faa9ab48658a7f2cf48bff98d8": {
      "model_module": "@jupyter-widgets/controls",
      "model_module_version": "1.5.0",
      "model_name": "HBoxModel",
      "state": {
       "children": [
        "IPY_MODEL_2b2e77dfd7594b5da6e03cd7a7bac618",
        "IPY_MODEL_75a6e59e51c1411cb805970117803a52",
        "IPY_MODEL_850724a6b8cf43a0bc78b09def1e1f5b"
       ],
       "layout": "IPY_MODEL_e9341163ac9b4bc19a5a387135811b1d"
      }
     },
     "5de74350933442c0a8f39cde22afb533": {
      "model_module": "@jupyter-widgets/controls",
      "model_module_version": "1.5.0",
      "model_name": "HTMLModel",
      "state": {
       "layout": "IPY_MODEL_0b1fe1b1b1c54ea6a638aaefefc50248",
       "style": "IPY_MODEL_7ba18fe4811c4553bd96e74fb87749cb",
       "value": " 5/5 [01:20&lt;00:00, 16.03s/it]"
      }
     },
     "5e34e850fba34f88ae76e937ebb120f3": {
      "model_module": "@jupyter-widgets/base",
      "model_module_version": "1.2.0",
      "model_name": "LayoutModel",
      "state": {}
     },
     "5e6478f591dd4cebab769166518c14b1": {
      "model_module": "@jupyter-widgets/base",
      "model_module_version": "1.2.0",
      "model_name": "LayoutModel",
      "state": {}
     },
     "5eae0948c4374dabbf66c27557c039e5": {
      "model_module": "@jupyter-widgets/controls",
      "model_module_version": "1.5.0",
      "model_name": "FloatProgressModel",
      "state": {
       "bar_style": "success",
       "layout": "IPY_MODEL_9ccd77882e3f412c93a412cc0b179a89",
       "max": 5,
       "style": "IPY_MODEL_aedea652dc16495e8216619e4975d3c9",
       "value": 5
      }
     },
     "5ec11f3797b94b7da83b22d5f6ae01a7": {
      "model_module": "@jupyter-widgets/base",
      "model_module_version": "1.2.0",
      "model_name": "LayoutModel",
      "state": {}
     },
     "5ed3892e7fc9417eb3925d33e963432a": {
      "model_module": "@jupyter-widgets/controls",
      "model_module_version": "1.5.0",
      "model_name": "HBoxModel",
      "state": {
       "children": [
        "IPY_MODEL_950b4b1777814cc99bafe73570f56603",
        "IPY_MODEL_21a948aee9624066a077f594c069bdc8",
        "IPY_MODEL_d1b3bc372bac424fa4c4d2945df1cc7e"
       ],
       "layout": "IPY_MODEL_dd9cfbc48deb4eaf849dbeb5dda5a672"
      }
     },
     "5eedba6b95ad41e7a0937fa6b41e2e5b": {
      "model_module": "@jupyter-widgets/controls",
      "model_module_version": "1.5.0",
      "model_name": "DescriptionStyleModel",
      "state": {
       "description_width": ""
      }
     },
     "5f0aa3b6c9444226932984eb7c0225a9": {
      "model_module": "@jupyter-widgets/controls",
      "model_module_version": "1.5.0",
      "model_name": "HTMLModel",
      "state": {
       "layout": "IPY_MODEL_d77766fc31b943cea48c27866cabe7b6",
       "style": "IPY_MODEL_98ab62bcf81643e78eaf7a6e9367dbcd",
       "value": "100%"
      }
     },
     "5f7ff9b5d57f420ea3ae1fef15274191": {
      "model_module": "@jupyter-widgets/base",
      "model_module_version": "1.2.0",
      "model_name": "LayoutModel",
      "state": {}
     },
     "5f99f014db89439db67f5184235e26bf": {
      "model_module": "@jupyter-widgets/controls",
      "model_module_version": "1.5.0",
      "model_name": "HTMLModel",
      "state": {
       "layout": "IPY_MODEL_75fe2731255b46bfb086f64f7a1e4639",
       "style": "IPY_MODEL_0b4d0e36ff65465d923fac4b741aef45",
       "value": " 5/5 [00:00&lt;00:00, 23.77it/s]"
      }
     },
     "5ff9f249f3c84c1a937c15a5bc9b5e9d": {
      "model_module": "@jupyter-widgets/controls",
      "model_module_version": "1.5.0",
      "model_name": "FloatProgressModel",
      "state": {
       "bar_style": "success",
       "layout": "IPY_MODEL_2bf9536c0ce243c59942fe730bda866c",
       "max": 5,
       "style": "IPY_MODEL_36b398cfaa2c4aacaf6a48e3d542f225",
       "value": 5
      }
     },
     "6002bcd257af48ac9cc0080bb677b69b": {
      "model_module": "@jupyter-widgets/controls",
      "model_module_version": "1.5.0",
      "model_name": "HBoxModel",
      "state": {
       "children": [
        "IPY_MODEL_758aefa245bd4b9fa697c5efa67f8c7c",
        "IPY_MODEL_901e89d0e8c0436d81b7cb1021eb4c77",
        "IPY_MODEL_4422d281819e4fe9ada89972ddb85447"
       ],
       "layout": "IPY_MODEL_fae5ed9f11b34f909882f9bdde1d6450"
      }
     },
     "6007ca8bd30e424f9b200ee22fdc4538": {
      "model_module": "@jupyter-widgets/controls",
      "model_module_version": "1.5.0",
      "model_name": "HTMLModel",
      "state": {
       "layout": "IPY_MODEL_0ef71d51e8c64b99a920b220d7656db8",
       "style": "IPY_MODEL_2afd348098e14feda6f9e21f148c9f3c",
       "value": "100%"
      }
     },
     "602114520f854dcda6666140e3f848ff": {
      "model_module": "@jupyter-widgets/controls",
      "model_module_version": "1.5.0",
      "model_name": "ProgressStyleModel",
      "state": {
       "description_width": ""
      }
     },
     "6061be6afba74b948f03b423bd8a1205": {
      "model_module": "@jupyter-widgets/base",
      "model_module_version": "1.2.0",
      "model_name": "LayoutModel",
      "state": {}
     },
     "60fee1f4d8ff453eb8cac85b732b74fd": {
      "model_module": "@jupyter-widgets/base",
      "model_module_version": "1.2.0",
      "model_name": "LayoutModel",
      "state": {}
     },
     "61fc70c47f624a9aabe7bdff023a994f": {
      "model_module": "@jupyter-widgets/controls",
      "model_module_version": "1.5.0",
      "model_name": "HTMLModel",
      "state": {
       "layout": "IPY_MODEL_4a83efe63cf347268d799cf6c154542b",
       "style": "IPY_MODEL_0012760bab1f492691d653f41ec9d746",
       "value": " 5/5 [13:35&lt;00:00, 162.79s/it]"
      }
     },
     "6263e389b23d4005925c08540c0806e3": {
      "model_module": "@jupyter-widgets/controls",
      "model_module_version": "1.5.0",
      "model_name": "HTMLModel",
      "state": {
       "layout": "IPY_MODEL_289f162220ee4f43befbfd3f9d77e74d",
       "style": "IPY_MODEL_583ebc5d5a33444a8f69b6e7b6f42a68",
       "value": " 5/5 [00:11&lt;00:00,  2.39s/it]"
      }
     },
     "62a10641daf5428f9e76f5cd5af624ea": {
      "model_module": "@jupyter-widgets/controls",
      "model_module_version": "1.5.0",
      "model_name": "ProgressStyleModel",
      "state": {
       "description_width": ""
      }
     },
     "62c34e4290d64c348f9ebffefb3ca4c7": {
      "model_module": "@jupyter-widgets/controls",
      "model_module_version": "1.5.0",
      "model_name": "HTMLModel",
      "state": {
       "layout": "IPY_MODEL_25d931d1ffe54b9f83e43451c7c6eaf2",
       "style": "IPY_MODEL_697934746e874db5b155921f150a4d5a",
       "value": "100%"
      }
     },
     "630a701c557b44808b88054b94e67a89": {
      "model_module": "@jupyter-widgets/controls",
      "model_module_version": "1.5.0",
      "model_name": "ProgressStyleModel",
      "state": {
       "description_width": ""
      }
     },
     "631880ef750b43e3a5b1b0e349cee5a1": {
      "model_module": "@jupyter-widgets/controls",
      "model_module_version": "1.5.0",
      "model_name": "HBoxModel",
      "state": {
       "children": [
        "IPY_MODEL_cb0541f5e7a44f9ca1e06f09dc740dc6",
        "IPY_MODEL_d9153d7c216c4f918fcab08943b24a3b",
        "IPY_MODEL_fc66d8de66364e48b29f0a447c035e85"
       ],
       "layout": "IPY_MODEL_d1882f02781e4f138433ae3639e28e42"
      }
     },
     "634be68983b44aeeac64d33b541478ca": {
      "model_module": "@jupyter-widgets/base",
      "model_module_version": "1.2.0",
      "model_name": "LayoutModel",
      "state": {}
     },
     "634f94cdfc68403197137112ee42f142": {
      "model_module": "@jupyter-widgets/controls",
      "model_module_version": "1.5.0",
      "model_name": "HTMLModel",
      "state": {
       "layout": "IPY_MODEL_6bc5d3c2ef1a48619ee9814fadf3a99a",
       "style": "IPY_MODEL_2e9ac62ffc0c45b8bb708ea25b1c784b",
       "value": "100%"
      }
     },
     "6361fdb23dc949568d74bc06ff6c0abe": {
      "model_module": "@jupyter-widgets/controls",
      "model_module_version": "1.5.0",
      "model_name": "DescriptionStyleModel",
      "state": {
       "description_width": ""
      }
     },
     "64c6c677d6fe4863adee25a4b8a9d024": {
      "model_module": "@jupyter-widgets/base",
      "model_module_version": "1.2.0",
      "model_name": "LayoutModel",
      "state": {}
     },
     "64ed98ef1dd14dc5babd83576dfc36ea": {
      "model_module": "@jupyter-widgets/base",
      "model_module_version": "1.2.0",
      "model_name": "LayoutModel",
      "state": {}
     },
     "6589de2570cc4373ae89f04a1265b4b2": {
      "model_module": "@jupyter-widgets/base",
      "model_module_version": "1.2.0",
      "model_name": "LayoutModel",
      "state": {}
     },
     "65982f634677457ebbd2f7e11ece59dc": {
      "model_module": "@jupyter-widgets/base",
      "model_module_version": "1.2.0",
      "model_name": "LayoutModel",
      "state": {}
     },
     "65dfbe375be946019fa3765b6f1e2334": {
      "model_module": "@jupyter-widgets/controls",
      "model_module_version": "1.5.0",
      "model_name": "HBoxModel",
      "state": {
       "children": [
        "IPY_MODEL_33e91ee232e54c63992acd6fffb2bb8a",
        "IPY_MODEL_b8d32f7e446d4184be06f4ec8506fc4f",
        "IPY_MODEL_5de74350933442c0a8f39cde22afb533"
       ],
       "layout": "IPY_MODEL_b46db7e83a914b55bde06f37d605f8c8"
      }
     },
     "6611df56d528418eb2d61154d44c681a": {
      "model_module": "@jupyter-widgets/controls",
      "model_module_version": "1.5.0",
      "model_name": "ProgressStyleModel",
      "state": {
       "description_width": ""
      }
     },
     "667d4e79719c4614917d97da64798b7d": {
      "model_module": "@jupyter-widgets/base",
      "model_module_version": "1.2.0",
      "model_name": "LayoutModel",
      "state": {}
     },
     "6682b4676cbe4b2bab5fc69f9b158dec": {
      "model_module": "@jupyter-widgets/base",
      "model_module_version": "1.2.0",
      "model_name": "LayoutModel",
      "state": {}
     },
     "675f9da976174abc85ee8a27916b580c": {
      "model_module": "@jupyter-widgets/controls",
      "model_module_version": "1.5.0",
      "model_name": "HTMLModel",
      "state": {
       "layout": "IPY_MODEL_a4d96619b64e4a34abfa27055227725f",
       "style": "IPY_MODEL_a5d215f87acf487a94f5c0e7123df04f",
       "value": " 5/5 [00:00&lt;00:00, 24.57it/s]"
      }
     },
     "678925c9f1984651b3375f47d762f6f7": {
      "model_module": "@jupyter-widgets/controls",
      "model_module_version": "1.5.0",
      "model_name": "DescriptionStyleModel",
      "state": {
       "description_width": ""
      }
     },
     "68706ceaa76d4340bcb60983b146ed34": {
      "model_module": "@jupyter-widgets/controls",
      "model_module_version": "1.5.0",
      "model_name": "DescriptionStyleModel",
      "state": {
       "description_width": ""
      }
     },
     "68a6bfb3b4ce446da32cf40706fe61cf": {
      "model_module": "@jupyter-widgets/base",
      "model_module_version": "1.2.0",
      "model_name": "LayoutModel",
      "state": {}
     },
     "68ed1c63383642c4934ddab6857533b2": {
      "model_module": "@jupyter-widgets/controls",
      "model_module_version": "1.5.0",
      "model_name": "DescriptionStyleModel",
      "state": {
       "description_width": ""
      }
     },
     "697934746e874db5b155921f150a4d5a": {
      "model_module": "@jupyter-widgets/controls",
      "model_module_version": "1.5.0",
      "model_name": "DescriptionStyleModel",
      "state": {
       "description_width": ""
      }
     },
     "6989f40ffd8c4f0b86a28cce84bfbbcf": {
      "model_module": "@jupyter-widgets/base",
      "model_module_version": "1.2.0",
      "model_name": "LayoutModel",
      "state": {}
     },
     "6a0a1ff563aa4bd09aa81c49f770cbcf": {
      "model_module": "@jupyter-widgets/controls",
      "model_module_version": "1.5.0",
      "model_name": "FloatProgressModel",
      "state": {
       "bar_style": "success",
       "layout": "IPY_MODEL_b84ed603781443cda6d7383d69623322",
       "max": 5,
       "style": "IPY_MODEL_05aa78a8ee14499e8258a7fd6aaa1db6",
       "value": 5
      }
     },
     "6ab0d0955d274fceb021fae982a0c89f": {
      "model_module": "@jupyter-widgets/controls",
      "model_module_version": "1.5.0",
      "model_name": "DescriptionStyleModel",
      "state": {
       "description_width": ""
      }
     },
     "6aceb034acaf402d9ac8b1730fa713f3": {
      "model_module": "@jupyter-widgets/controls",
      "model_module_version": "1.5.0",
      "model_name": "ProgressStyleModel",
      "state": {
       "description_width": ""
      }
     },
     "6bc5d3c2ef1a48619ee9814fadf3a99a": {
      "model_module": "@jupyter-widgets/base",
      "model_module_version": "1.2.0",
      "model_name": "LayoutModel",
      "state": {}
     },
     "6c692de08f1e403e9a7c1aa8a716477a": {
      "model_module": "@jupyter-widgets/controls",
      "model_module_version": "1.5.0",
      "model_name": "ProgressStyleModel",
      "state": {
       "description_width": ""
      }
     },
     "6cbe73ed1c3d45fcaefb1e98a4f9be18": {
      "model_module": "@jupyter-widgets/base",
      "model_module_version": "1.2.0",
      "model_name": "LayoutModel",
      "state": {}
     },
     "6d0437f35bc44d33b6942b1cc2aa1657": {
      "model_module": "@jupyter-widgets/controls",
      "model_module_version": "1.5.0",
      "model_name": "FloatProgressModel",
      "state": {
       "bar_style": "success",
       "layout": "IPY_MODEL_fef1e48d4a7d460789de5c4c90169833",
       "max": 5,
       "style": "IPY_MODEL_31beaf1bd8a74ca08e5667be0e309f98",
       "value": 5
      }
     },
     "6dcd2b47626d4f6bb426a9a61e259690": {
      "model_module": "@jupyter-widgets/controls",
      "model_module_version": "1.5.0",
      "model_name": "HTMLModel",
      "state": {
       "layout": "IPY_MODEL_b72efcd2a2694b4796b21b3db7816671",
       "style": "IPY_MODEL_5027d43960704cf4be8ae2884e4e884e",
       "value": " 5/5 [01:19&lt;00:00, 15.82s/it]"
      }
     },
     "6dd24241e0764672b54e9200bb2d63fb": {
      "model_module": "@jupyter-widgets/controls",
      "model_module_version": "1.5.0",
      "model_name": "FloatProgressModel",
      "state": {
       "bar_style": "success",
       "layout": "IPY_MODEL_0fec42c20d7f46dc8104e530450a39b2",
       "max": 5,
       "style": "IPY_MODEL_8329d4a169614349b84dab5c507dea50",
       "value": 5
      }
     },
     "6e1efb5f27f544e09bb40da44f0963a5": {
      "model_module": "@jupyter-widgets/base",
      "model_module_version": "1.2.0",
      "model_name": "LayoutModel",
      "state": {}
     },
     "6e4bcb99c46f45d2b87939a57a9a33c4": {
      "model_module": "@jupyter-widgets/controls",
      "model_module_version": "1.5.0",
      "model_name": "DescriptionStyleModel",
      "state": {
       "description_width": ""
      }
     },
     "6e54660e510d43f892e6b0945075c52b": {
      "model_module": "@jupyter-widgets/controls",
      "model_module_version": "1.5.0",
      "model_name": "HTMLModel",
      "state": {
       "layout": "IPY_MODEL_6cbe73ed1c3d45fcaefb1e98a4f9be18",
       "style": "IPY_MODEL_3ad0a8d1ad06472d97117ea65c1f7f8c",
       "value": " 5/5 [01:21&lt;00:00, 16.28s/it]"
      }
     },
     "6e6a0ab44253472bafb565ef3ea4f9a2": {
      "model_module": "@jupyter-widgets/base",
      "model_module_version": "1.2.0",
      "model_name": "LayoutModel",
      "state": {}
     },
     "6e7d407b92aa46518e155e5d56e13a96": {
      "model_module": "@jupyter-widgets/controls",
      "model_module_version": "1.5.0",
      "model_name": "HTMLModel",
      "state": {
       "layout": "IPY_MODEL_a73a1598de0a4bfdb0c5fefb6ebdd089",
       "style": "IPY_MODEL_9c3146b8469c4d7ea10be33fd4c7545b",
       "value": "100%"
      }
     },
     "6e91cbd701754af89ee45c44a54836bc": {
      "model_module": "@jupyter-widgets/controls",
      "model_module_version": "1.5.0",
      "model_name": "HBoxModel",
      "state": {
       "children": [
        "IPY_MODEL_f08b3aaa49414e4b8c9264b2ecd8f799",
        "IPY_MODEL_10ac041b529b4d438cc937822bb8f631",
        "IPY_MODEL_e82aff95a9d949eabf86e1381b38c273"
       ],
       "layout": "IPY_MODEL_ddbfd7e7cf614571b6a07f1df0ca609f"
      }
     },
     "6ea1227f1cd24133bb68aa28ee6048b8": {
      "model_module": "@jupyter-widgets/base",
      "model_module_version": "1.2.0",
      "model_name": "LayoutModel",
      "state": {}
     },
     "6ed0adf351ba40e587e4c25d690ac59d": {
      "model_module": "@jupyter-widgets/controls",
      "model_module_version": "1.5.0",
      "model_name": "ProgressStyleModel",
      "state": {
       "description_width": ""
      }
     },
     "6edbe7de63014877a5a212ebb3c3eda8": {
      "model_module": "@jupyter-widgets/base",
      "model_module_version": "1.2.0",
      "model_name": "LayoutModel",
      "state": {}
     },
     "6f034713ce1f422a917d853ffe63efcf": {
      "model_module": "@jupyter-widgets/controls",
      "model_module_version": "1.5.0",
      "model_name": "DescriptionStyleModel",
      "state": {
       "description_width": ""
      }
     },
     "6f4cad6347364407901a0e7f518bd9ca": {
      "model_module": "@jupyter-widgets/controls",
      "model_module_version": "1.5.0",
      "model_name": "DescriptionStyleModel",
      "state": {
       "description_width": ""
      }
     },
     "6f7108c7b2574626bd3786073fe3e52c": {
      "model_module": "@jupyter-widgets/base",
      "model_module_version": "1.2.0",
      "model_name": "LayoutModel",
      "state": {}
     },
     "70c06a7292c64517a977ee8620649eae": {
      "model_module": "@jupyter-widgets/base",
      "model_module_version": "1.2.0",
      "model_name": "LayoutModel",
      "state": {}
     },
     "714cfbce50da41b7b321bb8f3d563c29": {
      "model_module": "@jupyter-widgets/controls",
      "model_module_version": "1.5.0",
      "model_name": "ProgressStyleModel",
      "state": {
       "description_width": ""
      }
     },
     "717dfa5353374ac6a2e500f2be0ffa99": {
      "model_module": "@jupyter-widgets/controls",
      "model_module_version": "1.5.0",
      "model_name": "ProgressStyleModel",
      "state": {
       "description_width": ""
      }
     },
     "72b9ba70434c46658e80c9f95362d4d4": {
      "model_module": "@jupyter-widgets/controls",
      "model_module_version": "1.5.0",
      "model_name": "HBoxModel",
      "state": {
       "children": [
        "IPY_MODEL_055652ba2c2546ffbd8411477c3e0dc0",
        "IPY_MODEL_e8990d3278604e72bc36b3dd4c789f97",
        "IPY_MODEL_115c1ad549264809afbae93cc8ce1d1e"
       ],
       "layout": "IPY_MODEL_5e6478f591dd4cebab769166518c14b1"
      }
     },
     "72d49201c2af4014b84855c09c286dcd": {
      "model_module": "@jupyter-widgets/controls",
      "model_module_version": "1.5.0",
      "model_name": "HBoxModel",
      "state": {
       "children": [
        "IPY_MODEL_5f0aa3b6c9444226932984eb7c0225a9",
        "IPY_MODEL_33458c69f1ea4aaab4655ee0f0f77d12",
        "IPY_MODEL_d1f1484ca0394d68b38d46149863d8ca"
       ],
       "layout": "IPY_MODEL_e5615450ae9c4288ad2e756c9a8a5bad"
      }
     },
     "72de12a7cdc743968e9c8a9bde3856be": {
      "model_module": "@jupyter-widgets/controls",
      "model_module_version": "1.5.0",
      "model_name": "DescriptionStyleModel",
      "state": {
       "description_width": ""
      }
     },
     "72f8a2a5ea8641f7b15484438a4e7644": {
      "model_module": "@jupyter-widgets/controls",
      "model_module_version": "1.5.0",
      "model_name": "HBoxModel",
      "state": {
       "children": [
        "IPY_MODEL_b54075bfc8b04707a37caf0adfd2ba53",
        "IPY_MODEL_dbbd41ecb1b2451091ce233783df1f06",
        "IPY_MODEL_e29e123ea35b4287a8c264fccf596638"
       ],
       "layout": "IPY_MODEL_7417c4733a404574923ffb474f24c2b8"
      }
     },
     "732de88bc76542048c00a8add8c5ac8e": {
      "model_module": "@jupyter-widgets/controls",
      "model_module_version": "1.5.0",
      "model_name": "FloatProgressModel",
      "state": {
       "bar_style": "success",
       "layout": "IPY_MODEL_b4dbf3157e1a45fda5e9da35e3068493",
       "max": 5,
       "style": "IPY_MODEL_30bc7cfc124c436789252ced6cc060a6",
       "value": 5
      }
     },
     "7390194be9484235be5a8439b8096781": {
      "model_module": "@jupyter-widgets/controls",
      "model_module_version": "1.5.0",
      "model_name": "FloatProgressModel",
      "state": {
       "bar_style": "success",
       "layout": "IPY_MODEL_0b4e783bd8324b289b2fdbda2404e098",
       "max": 5,
       "style": "IPY_MODEL_2da12d9601d543d4ae8693ad6e1b8013",
       "value": 5
      }
     },
     "7417c4733a404574923ffb474f24c2b8": {
      "model_module": "@jupyter-widgets/base",
      "model_module_version": "1.2.0",
      "model_name": "LayoutModel",
      "state": {}
     },
     "7468789647a64d63a7ad12a399a08cf1": {
      "model_module": "@jupyter-widgets/controls",
      "model_module_version": "1.5.0",
      "model_name": "HTMLModel",
      "state": {
       "layout": "IPY_MODEL_6061be6afba74b948f03b423bd8a1205",
       "style": "IPY_MODEL_c0d6a2d5a1554291970a5ed3b0506056",
       "value": " 5/5 [00:00&lt;00:00, 20.98it/s]"
      }
     },
     "74954641d5de411c8150c964365a8394": {
      "model_module": "@jupyter-widgets/controls",
      "model_module_version": "1.5.0",
      "model_name": "HTMLModel",
      "state": {
       "layout": "IPY_MODEL_17102aad96784821a6a5096585189d03",
       "style": "IPY_MODEL_b6dba886c36a41729b676e27863c2492",
       "value": "100%"
      }
     },
     "74a52640153747f88bfb0f1aa92edecf": {
      "model_module": "@jupyter-widgets/base",
      "model_module_version": "1.2.0",
      "model_name": "LayoutModel",
      "state": {}
     },
     "74d11a0f03f34f46b44f36cfc6609599": {
      "model_module": "@jupyter-widgets/controls",
      "model_module_version": "1.5.0",
      "model_name": "HBoxModel",
      "state": {
       "children": [
        "IPY_MODEL_a799294d03e74613944117a98448d23e",
        "IPY_MODEL_8000f184ab9940389b37b188a742f83f",
        "IPY_MODEL_cb5f54146ce042609805a8c6ff397d4e"
       ],
       "layout": "IPY_MODEL_da208d14d40a4c909bda8937ffe84202"
      }
     },
     "7502be5d249a4508814840fe7f9d6261": {
      "model_module": "@jupyter-widgets/base",
      "model_module_version": "1.2.0",
      "model_name": "LayoutModel",
      "state": {}
     },
     "752a97059b0c4f7eaf815634bf87c32f": {
      "model_module": "@jupyter-widgets/controls",
      "model_module_version": "1.5.0",
      "model_name": "HBoxModel",
      "state": {
       "children": [
        "IPY_MODEL_e9f1f903434243e587fed9c9861ef86b",
        "IPY_MODEL_ece6196f98314acc917e5298c70df303",
        "IPY_MODEL_1949666780034904a2c2111c8743d89a"
       ],
       "layout": "IPY_MODEL_ed8c020be49e490e9fa428eddac7391d"
      }
     },
     "753f5ffb2b7f45c9af8b77046800a8dc": {
      "model_module": "@jupyter-widgets/base",
      "model_module_version": "1.2.0",
      "model_name": "LayoutModel",
      "state": {}
     },
     "75697681a347405291f3541f2e57c147": {
      "model_module": "@jupyter-widgets/base",
      "model_module_version": "1.2.0",
      "model_name": "LayoutModel",
      "state": {}
     },
     "757536d3f3b9469ead0ee544699d4db0": {
      "model_module": "@jupyter-widgets/controls",
      "model_module_version": "1.5.0",
      "model_name": "FloatProgressModel",
      "state": {
       "bar_style": "success",
       "layout": "IPY_MODEL_57c7042a4d094de9892bc50aaccae9d4",
       "max": 5,
       "style": "IPY_MODEL_0bb4253250ed434d94761c9b08b95305",
       "value": 5
      }
     },
     "7575eeba12ef49218c20758246d4c46c": {
      "model_module": "@jupyter-widgets/controls",
      "model_module_version": "1.5.0",
      "model_name": "FloatProgressModel",
      "state": {
       "bar_style": "success",
       "layout": "IPY_MODEL_6989f40ffd8c4f0b86a28cce84bfbbcf",
       "max": 5,
       "style": "IPY_MODEL_f1b06985a10f4954b613e343b6217d6e",
       "value": 5
      }
     },
     "758aefa245bd4b9fa697c5efa67f8c7c": {
      "model_module": "@jupyter-widgets/controls",
      "model_module_version": "1.5.0",
      "model_name": "HTMLModel",
      "state": {
       "layout": "IPY_MODEL_dd47c1884df14bdf858272765752df87",
       "style": "IPY_MODEL_6f034713ce1f422a917d853ffe63efcf",
       "value": "100%"
      }
     },
     "75a6e59e51c1411cb805970117803a52": {
      "model_module": "@jupyter-widgets/controls",
      "model_module_version": "1.5.0",
      "model_name": "FloatProgressModel",
      "state": {
       "bar_style": "success",
       "layout": "IPY_MODEL_0025f0a996e04dbf91b279b5b472b22b",
       "max": 5,
       "style": "IPY_MODEL_45aa8b2988b94728ac1cf7ebcbfbdf59",
       "value": 5
      }
     },
     "75afb0c52563424f999cd18b3d29cda4": {
      "model_module": "@jupyter-widgets/controls",
      "model_module_version": "1.5.0",
      "model_name": "HBoxModel",
      "state": {
       "children": [
        "IPY_MODEL_8139a0e907f743c88f47f0ba7eddd642",
        "IPY_MODEL_43f0a97d6a03480b8277ab46eec2e0f7",
        "IPY_MODEL_46fc557d4c1d423fb54e2905a7115f0d"
       ],
       "layout": "IPY_MODEL_9393ca62b26e4a019bff3b96f550bb25"
      }
     },
     "75e1a1263043478294d108d88c0bf33a": {
      "model_module": "@jupyter-widgets/base",
      "model_module_version": "1.2.0",
      "model_name": "LayoutModel",
      "state": {}
     },
     "75e55b13c1b04f6b81a4c6710046b5ec": {
      "model_module": "@jupyter-widgets/base",
      "model_module_version": "1.2.0",
      "model_name": "LayoutModel",
      "state": {}
     },
     "75fe2731255b46bfb086f64f7a1e4639": {
      "model_module": "@jupyter-widgets/base",
      "model_module_version": "1.2.0",
      "model_name": "LayoutModel",
      "state": {}
     },
     "760b04fbcb724b44be1932876de8a705": {
      "model_module": "@jupyter-widgets/controls",
      "model_module_version": "1.5.0",
      "model_name": "HTMLModel",
      "state": {
       "layout": "IPY_MODEL_b70128e9565b4b3581b362d6211ab681",
       "style": "IPY_MODEL_c07920d9bbf44466b4e155ae36213b93",
       "value": "100%"
      }
     },
     "7622b216d86a4feea97f407325f77570": {
      "model_module": "@jupyter-widgets/controls",
      "model_module_version": "1.5.0",
      "model_name": "HBoxModel",
      "state": {
       "children": [
        "IPY_MODEL_6e7d407b92aa46518e155e5d56e13a96",
        "IPY_MODEL_4a194d2d9dab4e6ba1cf7c490ab084e3",
        "IPY_MODEL_7b15c6bf52434b9b8a6b6acb489cd69a"
       ],
       "layout": "IPY_MODEL_ed52d8f4ea2d427f82b9ea49818256ad"
      }
     },
     "765424b2e158489aaf1ff374744fd017": {
      "model_module": "@jupyter-widgets/base",
      "model_module_version": "1.2.0",
      "model_name": "LayoutModel",
      "state": {}
     },
     "76621d98b499496cab0d0dcae88b9f59": {
      "model_module": "@jupyter-widgets/base",
      "model_module_version": "1.2.0",
      "model_name": "LayoutModel",
      "state": {}
     },
     "76ae6a0c2d03421589d98973796b0529": {
      "model_module": "@jupyter-widgets/controls",
      "model_module_version": "1.5.0",
      "model_name": "DescriptionStyleModel",
      "state": {
       "description_width": ""
      }
     },
     "76c8f11cac6e49c99a047d341b150d4d": {
      "model_module": "@jupyter-widgets/base",
      "model_module_version": "1.2.0",
      "model_name": "LayoutModel",
      "state": {}
     },
     "77267a9b368347a0878334540f8e9559": {
      "model_module": "@jupyter-widgets/controls",
      "model_module_version": "1.5.0",
      "model_name": "DescriptionStyleModel",
      "state": {
       "description_width": ""
      }
     },
     "7745fd4ddb5849ba8ecee38b572eca4b": {
      "model_module": "@jupyter-widgets/controls",
      "model_module_version": "1.5.0",
      "model_name": "ProgressStyleModel",
      "state": {
       "description_width": ""
      }
     },
     "77f930f8d6654f4483563500c231bc44": {
      "model_module": "@jupyter-widgets/controls",
      "model_module_version": "1.5.0",
      "model_name": "ProgressStyleModel",
      "state": {
       "description_width": ""
      }
     },
     "781e89fc3eff4ac385cda9fc55e9652e": {
      "model_module": "@jupyter-widgets/controls",
      "model_module_version": "1.5.0",
      "model_name": "FloatProgressModel",
      "state": {
       "bar_style": "success",
       "layout": "IPY_MODEL_8e00bb53e8a54941953a49d0c69add6e",
       "max": 5,
       "style": "IPY_MODEL_ede25b28e3c84dca84c4f228ee25005a",
       "value": 5
      }
     },
     "7846036aba234ad08c1c7bb7d7ba4665": {
      "model_module": "@jupyter-widgets/base",
      "model_module_version": "1.2.0",
      "model_name": "LayoutModel",
      "state": {}
     },
     "78538fd4667f44a999df2257b68a3ca2": {
      "model_module": "@jupyter-widgets/base",
      "model_module_version": "1.2.0",
      "model_name": "LayoutModel",
      "state": {}
     },
     "792198d51ca9425d96be9af04fee7b7e": {
      "model_module": "@jupyter-widgets/controls",
      "model_module_version": "1.5.0",
      "model_name": "HTMLModel",
      "state": {
       "layout": "IPY_MODEL_94bbdf75ea6643fc8f11b3f5d509c86a",
       "style": "IPY_MODEL_9d95a60c2be6460d9eb87528cf70c9b6",
       "value": "100%"
      }
     },
     "79d5a347b01f4514a4198b38aa063fec": {
      "model_module": "@jupyter-widgets/base",
      "model_module_version": "1.2.0",
      "model_name": "LayoutModel",
      "state": {}
     },
     "7a183a4bd37f4ead82e72a45563333d4": {
      "model_module": "@jupyter-widgets/controls",
      "model_module_version": "1.5.0",
      "model_name": "DescriptionStyleModel",
      "state": {
       "description_width": ""
      }
     },
     "7ad589a681084cd48f77b1935708ada1": {
      "model_module": "@jupyter-widgets/controls",
      "model_module_version": "1.5.0",
      "model_name": "DescriptionStyleModel",
      "state": {
       "description_width": ""
      }
     },
     "7b15c6bf52434b9b8a6b6acb489cd69a": {
      "model_module": "@jupyter-widgets/controls",
      "model_module_version": "1.5.0",
      "model_name": "HTMLModel",
      "state": {
       "layout": "IPY_MODEL_0fc9900dc4f44f9392164b054ea1f6e9",
       "style": "IPY_MODEL_c5c4e1027e1e435abf3b881b385df919",
       "value": " 5/5 [00:11&lt;00:00,  2.38s/it]"
      }
     },
     "7b42b4ed84434f2ca008e858196fdec9": {
      "model_module": "@jupyter-widgets/controls",
      "model_module_version": "1.5.0",
      "model_name": "HTMLModel",
      "state": {
       "layout": "IPY_MODEL_3d479da0f450402a82b9956089cd2815",
       "style": "IPY_MODEL_c7086f8c502642b4806b79849823fd3a",
       "value": "100%"
      }
     },
     "7b585f0b6aa846a3a192b075769d193c": {
      "model_module": "@jupyter-widgets/base",
      "model_module_version": "1.2.0",
      "model_name": "LayoutModel",
      "state": {}
     },
     "7b5fc1e883994a88b1e06f3afc077dd0": {
      "model_module": "@jupyter-widgets/base",
      "model_module_version": "1.2.0",
      "model_name": "LayoutModel",
      "state": {}
     },
     "7ba18fe4811c4553bd96e74fb87749cb": {
      "model_module": "@jupyter-widgets/controls",
      "model_module_version": "1.5.0",
      "model_name": "DescriptionStyleModel",
      "state": {
       "description_width": ""
      }
     },
     "7cd8d93f63d04380ac29636c72f38253": {
      "model_module": "@jupyter-widgets/controls",
      "model_module_version": "1.5.0",
      "model_name": "HTMLModel",
      "state": {
       "layout": "IPY_MODEL_08a6e94050c04524b9df885a32f6daa1",
       "style": "IPY_MODEL_8b3cd7a914f444729eec36a85e5ce615",
       "value": "100%"
      }
     },
     "7cf2fbebf7bf4a9cba617e6eb837c00e": {
      "model_module": "@jupyter-widgets/base",
      "model_module_version": "1.2.0",
      "model_name": "LayoutModel",
      "state": {}
     },
     "7d4a2720348c419fb900debf1d303897": {
      "model_module": "@jupyter-widgets/base",
      "model_module_version": "1.2.0",
      "model_name": "LayoutModel",
      "state": {}
     },
     "7d51955a358d4ae2b946fb02a811f57a": {
      "model_module": "@jupyter-widgets/controls",
      "model_module_version": "1.5.0",
      "model_name": "HTMLModel",
      "state": {
       "layout": "IPY_MODEL_bdef8801ae0e477294d62b8baf237170",
       "style": "IPY_MODEL_8c2eccabe14e403f994d4304fb3572db",
       "value": " 5/5 [00:00&lt;00:00, 73.04it/s]"
      }
     },
     "7e6d7fe4ace040e5a82f6c1dffe7aa1a": {
      "model_module": "@jupyter-widgets/base",
      "model_module_version": "1.2.0",
      "model_name": "LayoutModel",
      "state": {}
     },
     "7f3e487f1efe4fee9eafc9d37386cc18": {
      "model_module": "@jupyter-widgets/base",
      "model_module_version": "1.2.0",
      "model_name": "LayoutModel",
      "state": {}
     },
     "7f62743ba81a4bc1b5d7ef5fe6a0eced": {
      "model_module": "@jupyter-widgets/base",
      "model_module_version": "1.2.0",
      "model_name": "LayoutModel",
      "state": {}
     },
     "8000f184ab9940389b37b188a742f83f": {
      "model_module": "@jupyter-widgets/controls",
      "model_module_version": "1.5.0",
      "model_name": "FloatProgressModel",
      "state": {
       "bar_style": "success",
       "layout": "IPY_MODEL_eefaac2f18844c8a9ba4f8df1b9d7131",
       "max": 5,
       "style": "IPY_MODEL_f8867ed551ad49448bdcfc3c94e1d945",
       "value": 5
      }
     },
     "80c097926b16431d926815dfa7956dba": {
      "model_module": "@jupyter-widgets/controls",
      "model_module_version": "1.5.0",
      "model_name": "HTMLModel",
      "state": {
       "layout": "IPY_MODEL_179a1f40020a4ba490fca0e32bc6f633",
       "style": "IPY_MODEL_ea5d126f10d34f49a712489951601acd",
       "value": "100%"
      }
     },
     "8139a0e907f743c88f47f0ba7eddd642": {
      "model_module": "@jupyter-widgets/controls",
      "model_module_version": "1.5.0",
      "model_name": "HTMLModel",
      "state": {
       "layout": "IPY_MODEL_1098b6f93adc4367b186bd0e4329af00",
       "style": "IPY_MODEL_58bc89df75b645cb8bdaaa28f7539f0e",
       "value": "100%"
      }
     },
     "814df62db13c464f9ba8f825cb644752": {
      "model_module": "@jupyter-widgets/controls",
      "model_module_version": "1.5.0",
      "model_name": "HTMLModel",
      "state": {
       "layout": "IPY_MODEL_89ab9cdc258044bd8c3900fbb42e6517",
       "style": "IPY_MODEL_4038dd696d834773af04f070b5533053",
       "value": " 5/5 [01:19&lt;00:00, 15.98s/it]"
      }
     },
     "81864895e1bf4a49907c93e6464cff9f": {
      "model_module": "@jupyter-widgets/base",
      "model_module_version": "1.2.0",
      "model_name": "LayoutModel",
      "state": {}
     },
     "81e6bbd729d54c80bfdba322a8350e03": {
      "model_module": "@jupyter-widgets/controls",
      "model_module_version": "1.5.0",
      "model_name": "DescriptionStyleModel",
      "state": {
       "description_width": ""
      }
     },
     "8217c1adcdee4887bcbdc2a0d9cef595": {
      "model_module": "@jupyter-widgets/controls",
      "model_module_version": "1.5.0",
      "model_name": "DescriptionStyleModel",
      "state": {
       "description_width": ""
      }
     },
     "82362e53dca347238969c355f1f90e12": {
      "model_module": "@jupyter-widgets/controls",
      "model_module_version": "1.5.0",
      "model_name": "DescriptionStyleModel",
      "state": {
       "description_width": ""
      }
     },
     "82e1d69533d64888a233f42671d566c9": {
      "model_module": "@jupyter-widgets/controls",
      "model_module_version": "1.5.0",
      "model_name": "HTMLModel",
      "state": {
       "layout": "IPY_MODEL_8a43abae26894365b217207cd6bb752b",
       "style": "IPY_MODEL_b098752233da4c778a20506bbe6b856b",
       "value": " 5/5 [01:34&lt;00:00, 18.94s/it]"
      }
     },
     "8303943df9794317ac21c8aa5f9b7aeb": {
      "model_module": "@jupyter-widgets/controls",
      "model_module_version": "1.5.0",
      "model_name": "FloatProgressModel",
      "state": {
       "bar_style": "success",
       "layout": "IPY_MODEL_6ea1227f1cd24133bb68aa28ee6048b8",
       "max": 5,
       "style": "IPY_MODEL_855044ba07994414b1773e061d575b53",
       "value": 5
      }
     },
     "8308ca1735274822866366254763e34b": {
      "model_module": "@jupyter-widgets/controls",
      "model_module_version": "1.5.0",
      "model_name": "HTMLModel",
      "state": {
       "layout": "IPY_MODEL_b59586b9d5c54f86b6f57d125528bce3",
       "style": "IPY_MODEL_566ff1c30dda43e592bf1cfb7993dffa",
       "value": " 5/5 [01:31&lt;00:00, 18.34s/it]"
      }
     },
     "8329d4a169614349b84dab5c507dea50": {
      "model_module": "@jupyter-widgets/controls",
      "model_module_version": "1.5.0",
      "model_name": "ProgressStyleModel",
      "state": {
       "description_width": ""
      }
     },
     "83c4148f380740c89e0f59d888b2afb3": {
      "model_module": "@jupyter-widgets/controls",
      "model_module_version": "1.5.0",
      "model_name": "FloatProgressModel",
      "state": {
       "bar_style": "success",
       "layout": "IPY_MODEL_2cea7d9c1eab4de2a0963f98d952fb7e",
       "max": 5,
       "style": "IPY_MODEL_09a0848bd6df415cb4b40ea37c20c98e",
       "value": 5
      }
     },
     "8426e80e575348089258e21ed3a01f04": {
      "model_module": "@jupyter-widgets/controls",
      "model_module_version": "1.5.0",
      "model_name": "HBoxModel",
      "state": {
       "children": [
        "IPY_MODEL_fbcc77b30ddf42ad955e03b8880d507a",
        "IPY_MODEL_781e89fc3eff4ac385cda9fc55e9652e",
        "IPY_MODEL_eef50e6a68c34fd685fcb0e85d1f61bd"
       ],
       "layout": "IPY_MODEL_79d5a347b01f4514a4198b38aa063fec"
      }
     },
     "8479346a0873429dbab32c19946ee8e4": {
      "model_module": "@jupyter-widgets/base",
      "model_module_version": "1.2.0",
      "model_name": "LayoutModel",
      "state": {}
     },
     "849d8cd6bb774ba09113f32cd1d6e6bb": {
      "model_module": "@jupyter-widgets/controls",
      "model_module_version": "1.5.0",
      "model_name": "FloatProgressModel",
      "state": {
       "bar_style": "success",
       "layout": "IPY_MODEL_8d3f6511b7ef408ab07761d64bf4b319",
       "max": 5,
       "style": "IPY_MODEL_a8c2766e830340cca3dea45919ca3c52",
       "value": 5
      }
     },
     "84b6217d0ced4d9789aba6e9f526a39a": {
      "model_module": "@jupyter-widgets/controls",
      "model_module_version": "1.5.0",
      "model_name": "FloatProgressModel",
      "state": {
       "bar_style": "success",
       "layout": "IPY_MODEL_350d75262d124426a1af064b69a05a04",
       "max": 5,
       "style": "IPY_MODEL_59bbb68b750648ddbc6c2e35c6cc8173",
       "value": 5
      }
     },
     "84d1b913d108480f9abfc30bf3d08d66": {
      "model_module": "@jupyter-widgets/controls",
      "model_module_version": "1.5.0",
      "model_name": "HBoxModel",
      "state": {
       "children": [
        "IPY_MODEL_4cb5092cbae041e38215f16b43a164e1",
        "IPY_MODEL_15c6eefeff5c4c178dc0d3a6e98f472d",
        "IPY_MODEL_00fb45388a294164bcdae056006ef961"
       ],
       "layout": "IPY_MODEL_1445a253e66c44b2b222692c910df96d"
      }
     },
     "850724a6b8cf43a0bc78b09def1e1f5b": {
      "model_module": "@jupyter-widgets/controls",
      "model_module_version": "1.5.0",
      "model_name": "HTMLModel",
      "state": {
       "layout": "IPY_MODEL_934dcfbeaca14774824ac64d392f90bb",
       "style": "IPY_MODEL_2572cef2fb4b45a3901fd7f2686b8fa6",
       "value": " 5/5 [00:12&lt;00:00,  2.56s/it]"
      }
     },
     "852aec470c8e47c68fe544d16a199152": {
      "model_module": "@jupyter-widgets/controls",
      "model_module_version": "1.5.0",
      "model_name": "FloatProgressModel",
      "state": {
       "bar_style": "success",
       "layout": "IPY_MODEL_4d10264693824cefb17abfa3292dad3b",
       "max": 5,
       "style": "IPY_MODEL_ae4d392afed7440488a60d68014eb263",
       "value": 5
      }
     },
     "8539324fd39f45fe81285607c261688d": {
      "model_module": "@jupyter-widgets/base",
      "model_module_version": "1.2.0",
      "model_name": "LayoutModel",
      "state": {}
     },
     "855044ba07994414b1773e061d575b53": {
      "model_module": "@jupyter-widgets/controls",
      "model_module_version": "1.5.0",
      "model_name": "ProgressStyleModel",
      "state": {
       "description_width": ""
      }
     },
     "857cab1037cc4b39954c12f88fc81ef0": {
      "model_module": "@jupyter-widgets/controls",
      "model_module_version": "1.5.0",
      "model_name": "ProgressStyleModel",
      "state": {
       "description_width": ""
      }
     },
     "858ba27d9ecb406c8c40d849aff1e811": {
      "model_module": "@jupyter-widgets/controls",
      "model_module_version": "1.5.0",
      "model_name": "HTMLModel",
      "state": {
       "layout": "IPY_MODEL_eba518406a8e4de6bb6962db2f905d0b",
       "style": "IPY_MODEL_bab5c6919eaf42ed872e9975ddfdd949",
       "value": "100%"
      }
     },
     "85c283aaca2a4a57a3efc4a1e4d34414": {
      "model_module": "@jupyter-widgets/base",
      "model_module_version": "1.2.0",
      "model_name": "LayoutModel",
      "state": {}
     },
     "8605824c14e64e0ca63553ee6a7d4aa0": {
      "model_module": "@jupyter-widgets/controls",
      "model_module_version": "1.5.0",
      "model_name": "FloatProgressModel",
      "state": {
       "bar_style": "success",
       "layout": "IPY_MODEL_e8a8d608943d4aff9b3f26f3ec6c5b1f",
       "max": 5,
       "style": "IPY_MODEL_717dfa5353374ac6a2e500f2be0ffa99",
       "value": 5
      }
     },
     "863c2e13e68246afb794387a8bd76b20": {
      "model_module": "@jupyter-widgets/controls",
      "model_module_version": "1.5.0",
      "model_name": "DescriptionStyleModel",
      "state": {
       "description_width": ""
      }
     },
     "866932e8dd3a4fb29f2f51c89157a188": {
      "model_module": "@jupyter-widgets/controls",
      "model_module_version": "1.5.0",
      "model_name": "DescriptionStyleModel",
      "state": {
       "description_width": ""
      }
     },
     "8697a821b0524629912db6c00699678a": {
      "model_module": "@jupyter-widgets/controls",
      "model_module_version": "1.5.0",
      "model_name": "HTMLModel",
      "state": {
       "layout": "IPY_MODEL_765424b2e158489aaf1ff374744fd017",
       "style": "IPY_MODEL_98a133e268b2401189a09ad510014eac",
       "value": " 5/5 [00:00&lt;00:00, 72.92it/s]"
      }
     },
     "86f35eb810fd43e2975a665ae76fc374": {
      "model_module": "@jupyter-widgets/controls",
      "model_module_version": "1.5.0",
      "model_name": "HTMLModel",
      "state": {
       "layout": "IPY_MODEL_982f0522ab534a46a60b7127fb1dcaad",
       "style": "IPY_MODEL_48dbd59f09a943f4937470a781d04d6c",
       "value": " 5/5 [01:28&lt;00:00, 17.65s/it]"
      }
     },
     "87215bb2a1fd4ad29472d42fe6c66c59": {
      "model_module": "@jupyter-widgets/controls",
      "model_module_version": "1.5.0",
      "model_name": "HTMLModel",
      "state": {
       "layout": "IPY_MODEL_fac0abdd0ca84c918ef32699081d4c29",
       "style": "IPY_MODEL_ceaa65d527cb4a448d0aca35a7eec7e9",
       "value": "100%"
      }
     },
     "8730a0707687497e81a83a8971610c82": {
      "model_module": "@jupyter-widgets/base",
      "model_module_version": "1.2.0",
      "model_name": "LayoutModel",
      "state": {}
     },
     "87fabac7205e46a8aaf45fda8a27117a": {
      "model_module": "@jupyter-widgets/controls",
      "model_module_version": "1.5.0",
      "model_name": "HTMLModel",
      "state": {
       "layout": "IPY_MODEL_36dad58f481e459c9f9c9dee07bbe54e",
       "style": "IPY_MODEL_be5fd8ab4e3043cabb2c200becd9695d",
       "value": "100%"
      }
     },
     "881f7a008bdc4b2e9de88c2e33c72c21": {
      "model_module": "@jupyter-widgets/controls",
      "model_module_version": "1.5.0",
      "model_name": "HTMLModel",
      "state": {
       "layout": "IPY_MODEL_052a61e4853e4597a46e56a27874950d",
       "style": "IPY_MODEL_4d67455dcadd4382a99c172bab9ca897",
       "value": "100%"
      }
     },
     "888db0b467374a86b6be36deacf727d9": {
      "model_module": "@jupyter-widgets/base",
      "model_module_version": "1.2.0",
      "model_name": "LayoutModel",
      "state": {}
     },
     "88c3a71c9eec40469e4b6bb10a7b0df0": {
      "model_module": "@jupyter-widgets/base",
      "model_module_version": "1.2.0",
      "model_name": "LayoutModel",
      "state": {}
     },
     "8912639c0aec489fafeed7d08cc2c226": {
      "model_module": "@jupyter-widgets/base",
      "model_module_version": "1.2.0",
      "model_name": "LayoutModel",
      "state": {}
     },
     "892682c9be3147239af261ba14b2d98e": {
      "model_module": "@jupyter-widgets/controls",
      "model_module_version": "1.5.0",
      "model_name": "FloatProgressModel",
      "state": {
       "bar_style": "success",
       "layout": "IPY_MODEL_52028b1518f443bda40e1d00828cd0ab",
       "max": 5,
       "style": "IPY_MODEL_3caddafca0794ae0bc777a747597ab3b",
       "value": 5
      }
     },
     "89ab9cdc258044bd8c3900fbb42e6517": {
      "model_module": "@jupyter-widgets/base",
      "model_module_version": "1.2.0",
      "model_name": "LayoutModel",
      "state": {}
     },
     "8a1d460dc22b4991b1ddb46855ac76d3": {
      "model_module": "@jupyter-widgets/controls",
      "model_module_version": "1.5.0",
      "model_name": "HTMLModel",
      "state": {
       "layout": "IPY_MODEL_1396b98735ec4867b0b98d4641cc9480",
       "style": "IPY_MODEL_d01f095be9284806a4de5ef157f4625b",
       "value": "100%"
      }
     },
     "8a43abae26894365b217207cd6bb752b": {
      "model_module": "@jupyter-widgets/base",
      "model_module_version": "1.2.0",
      "model_name": "LayoutModel",
      "state": {}
     },
     "8a8bda39bfdf4e6f810fb557825766ad": {
      "model_module": "@jupyter-widgets/controls",
      "model_module_version": "1.5.0",
      "model_name": "FloatProgressModel",
      "state": {
       "bar_style": "success",
       "layout": "IPY_MODEL_4672f62b1c6f46229a436b32999786c9",
       "max": 5,
       "style": "IPY_MODEL_2a020bf18563451faafc207a2ac31583",
       "value": 5
      }
     },
     "8b3cd7a914f444729eec36a85e5ce615": {
      "model_module": "@jupyter-widgets/controls",
      "model_module_version": "1.5.0",
      "model_name": "DescriptionStyleModel",
      "state": {
       "description_width": ""
      }
     },
     "8c2eccabe14e403f994d4304fb3572db": {
      "model_module": "@jupyter-widgets/controls",
      "model_module_version": "1.5.0",
      "model_name": "DescriptionStyleModel",
      "state": {
       "description_width": ""
      }
     },
     "8c8111cefc4b43a1987f0a65131aed15": {
      "model_module": "@jupyter-widgets/controls",
      "model_module_version": "1.5.0",
      "model_name": "HTMLModel",
      "state": {
       "layout": "IPY_MODEL_76c8f11cac6e49c99a047d341b150d4d",
       "style": "IPY_MODEL_68706ceaa76d4340bcb60983b146ed34",
       "value": "100%"
      }
     },
     "8c8d12a335fe432783a5370716261a05": {
      "model_module": "@jupyter-widgets/controls",
      "model_module_version": "1.5.0",
      "model_name": "FloatProgressModel",
      "state": {
       "bar_style": "success",
       "layout": "IPY_MODEL_d11146f8e11e4577a2b06cafcaa8fa42",
       "max": 5,
       "style": "IPY_MODEL_1d8a815efb204e45a492a760b7c1fc1f",
       "value": 5
      }
     },
     "8cc15c26e5734c80b82276086f6fae1a": {
      "model_module": "@jupyter-widgets/base",
      "model_module_version": "1.2.0",
      "model_name": "LayoutModel",
      "state": {}
     },
     "8d3f6511b7ef408ab07761d64bf4b319": {
      "model_module": "@jupyter-widgets/base",
      "model_module_version": "1.2.0",
      "model_name": "LayoutModel",
      "state": {}
     },
     "8da0d31b0b61443086faf40151973f51": {
      "model_module": "@jupyter-widgets/controls",
      "model_module_version": "1.5.0",
      "model_name": "FloatProgressModel",
      "state": {
       "bar_style": "success",
       "layout": "IPY_MODEL_d5885cdac7ae48e99156c1bc75835a76",
       "max": 5,
       "style": "IPY_MODEL_dd4bf5f080ba400e88d918de8a47c83a",
       "value": 5
      }
     },
     "8e00bb53e8a54941953a49d0c69add6e": {
      "model_module": "@jupyter-widgets/base",
      "model_module_version": "1.2.0",
      "model_name": "LayoutModel",
      "state": {}
     },
     "8e96696ba4404713b34876b3e51f6a4f": {
      "model_module": "@jupyter-widgets/base",
      "model_module_version": "1.2.0",
      "model_name": "LayoutModel",
      "state": {}
     },
     "8ea414380ea34dd9aa28743565a71b3f": {
      "model_module": "@jupyter-widgets/base",
      "model_module_version": "1.2.0",
      "model_name": "LayoutModel",
      "state": {}
     },
     "8eff175ade424340a763f9323c0a1334": {
      "model_module": "@jupyter-widgets/controls",
      "model_module_version": "1.5.0",
      "model_name": "HTMLModel",
      "state": {
       "layout": "IPY_MODEL_60fee1f4d8ff453eb8cac85b732b74fd",
       "style": "IPY_MODEL_9749a6e7cfee4db585143c06b52a26ed",
       "value": "100%"
      }
     },
     "8f524b9af0a34e78b66280d8464b3848": {
      "model_module": "@jupyter-widgets/base",
      "model_module_version": "1.2.0",
      "model_name": "LayoutModel",
      "state": {}
     },
     "8f723e2bc0f94ca2851a10498e9c26d9": {
      "model_module": "@jupyter-widgets/controls",
      "model_module_version": "1.5.0",
      "model_name": "HTMLModel",
      "state": {
       "layout": "IPY_MODEL_6589de2570cc4373ae89f04a1265b4b2",
       "style": "IPY_MODEL_1a46d8335d194975ad423264ea7955d8",
       "value": "100%"
      }
     },
     "901e89d0e8c0436d81b7cb1021eb4c77": {
      "model_module": "@jupyter-widgets/controls",
      "model_module_version": "1.5.0",
      "model_name": "FloatProgressModel",
      "state": {
       "bar_style": "success",
       "layout": "IPY_MODEL_a507782887514435a09b118873fd2860",
       "max": 5,
       "style": "IPY_MODEL_2bd28f83946f41059e242b453bb6bafb",
       "value": 5
      }
     },
     "913515b784774b878201f4cac85f04d3": {
      "model_module": "@jupyter-widgets/controls",
      "model_module_version": "1.5.0",
      "model_name": "DescriptionStyleModel",
      "state": {
       "description_width": ""
      }
     },
     "91b2f82248084dfc92abf99e6c6e7e92": {
      "model_module": "@jupyter-widgets/controls",
      "model_module_version": "1.5.0",
      "model_name": "FloatProgressModel",
      "state": {
       "bar_style": "success",
       "layout": "IPY_MODEL_f192e36d7d2e46629eaa74ab57cc0345",
       "max": 5,
       "style": "IPY_MODEL_14c9b581ec784baab6fb8eba296aa56c",
       "value": 5
      }
     },
     "91cce6416bf74421984c1d9c07bc17ad": {
      "model_module": "@jupyter-widgets/base",
      "model_module_version": "1.2.0",
      "model_name": "LayoutModel",
      "state": {}
     },
     "91e16ba41ae7403f81b7077211b5e164": {
      "model_module": "@jupyter-widgets/controls",
      "model_module_version": "1.5.0",
      "model_name": "DescriptionStyleModel",
      "state": {
       "description_width": ""
      }
     },
     "91f0f253bbb747e498bcecaa46e70bb7": {
      "model_module": "@jupyter-widgets/base",
      "model_module_version": "1.2.0",
      "model_name": "LayoutModel",
      "state": {}
     },
     "92494a376c52433f93d6898659e0a77e": {
      "model_module": "@jupyter-widgets/base",
      "model_module_version": "1.2.0",
      "model_name": "LayoutModel",
      "state": {}
     },
     "9320c560c48c4f8d9a968e3da8be43a9": {
      "model_module": "@jupyter-widgets/controls",
      "model_module_version": "1.5.0",
      "model_name": "FloatProgressModel",
      "state": {
       "bar_style": "success",
       "layout": "IPY_MODEL_65982f634677457ebbd2f7e11ece59dc",
       "max": 5,
       "style": "IPY_MODEL_ff9e8402b91e47d0a6ecc9244c3490fb",
       "value": 5
      }
     },
     "934dcfbeaca14774824ac64d392f90bb": {
      "model_module": "@jupyter-widgets/base",
      "model_module_version": "1.2.0",
      "model_name": "LayoutModel",
      "state": {}
     },
     "9393ca62b26e4a019bff3b96f550bb25": {
      "model_module": "@jupyter-widgets/base",
      "model_module_version": "1.2.0",
      "model_name": "LayoutModel",
      "state": {}
     },
     "93c98f4b077c4bfaad6359f81aa2df8d": {
      "model_module": "@jupyter-widgets/base",
      "model_module_version": "1.2.0",
      "model_name": "LayoutModel",
      "state": {}
     },
     "93ec8d8d7c6a42929706e1d4f5296918": {
      "model_module": "@jupyter-widgets/controls",
      "model_module_version": "1.5.0",
      "model_name": "DescriptionStyleModel",
      "state": {
       "description_width": ""
      }
     },
     "94aeac16bce74ac19538d02483aeb7b8": {
      "model_module": "@jupyter-widgets/controls",
      "model_module_version": "1.5.0",
      "model_name": "HBoxModel",
      "state": {
       "children": [
        "IPY_MODEL_b1d42b4b4a314985be7108df973007ec",
        "IPY_MODEL_f5d1c3cec37a49bcb183b94df9f48f24",
        "IPY_MODEL_eb4294423bbb4d9b856f1aa1cc61fc46"
       ],
       "layout": "IPY_MODEL_c9aad82eadc2481bbc8d5122e393b45c"
      }
     },
     "94bbdf75ea6643fc8f11b3f5d509c86a": {
      "model_module": "@jupyter-widgets/base",
      "model_module_version": "1.2.0",
      "model_name": "LayoutModel",
      "state": {}
     },
     "94e110d517fe4b06b54f8911e7a20374": {
      "model_module": "@jupyter-widgets/controls",
      "model_module_version": "1.5.0",
      "model_name": "ProgressStyleModel",
      "state": {
       "description_width": ""
      }
     },
     "950b4b1777814cc99bafe73570f56603": {
      "model_module": "@jupyter-widgets/controls",
      "model_module_version": "1.5.0",
      "model_name": "HTMLModel",
      "state": {
       "layout": "IPY_MODEL_972a56fe59cc4530bbd683eec9fbb616",
       "style": "IPY_MODEL_03973a050ac84395a2c82774be401c4d",
       "value": "100%"
      }
     },
     "95ce90f09f9f49fdb8b0a434d4d7c17b": {
      "model_module": "@jupyter-widgets/base",
      "model_module_version": "1.2.0",
      "model_name": "LayoutModel",
      "state": {}
     },
     "95f46d8e17c6411bafbc30ed41dadc8a": {
      "model_module": "@jupyter-widgets/controls",
      "model_module_version": "1.5.0",
      "model_name": "HTMLModel",
      "state": {
       "layout": "IPY_MODEL_88c3a71c9eec40469e4b6bb10a7b0df0",
       "style": "IPY_MODEL_b6bc195b16f74afabf97356b7b77d610",
       "value": " 5/5 [00:12&lt;00:00,  2.56s/it]"
      }
     },
     "964c5106996548c6b623d0b20345227c": {
      "model_module": "@jupyter-widgets/controls",
      "model_module_version": "1.5.0",
      "model_name": "FloatProgressModel",
      "state": {
       "bar_style": "success",
       "layout": "IPY_MODEL_aed83756061844f794205a0f8aab0e4f",
       "max": 5,
       "style": "IPY_MODEL_26be05d7a38a40469b5fb46526e38c3e",
       "value": 5
      }
     },
     "968663b1d42047cb8773f2fbf6fd1f66": {
      "model_module": "@jupyter-widgets/controls",
      "model_module_version": "1.5.0",
      "model_name": "DescriptionStyleModel",
      "state": {
       "description_width": ""
      }
     },
     "9695166c9f724540aff7fcc69dd0f150": {
      "model_module": "@jupyter-widgets/base",
      "model_module_version": "1.2.0",
      "model_name": "LayoutModel",
      "state": {}
     },
     "96a242fd1cfa4926adc2f8c947975f50": {
      "model_module": "@jupyter-widgets/base",
      "model_module_version": "1.2.0",
      "model_name": "LayoutModel",
      "state": {}
     },
     "96ccd4c9aa304d70b9a15aea82450287": {
      "model_module": "@jupyter-widgets/base",
      "model_module_version": "1.2.0",
      "model_name": "LayoutModel",
      "state": {}
     },
     "96f791f2f0d94e84830741e83dcec2fd": {
      "model_module": "@jupyter-widgets/controls",
      "model_module_version": "1.5.0",
      "model_name": "FloatProgressModel",
      "state": {
       "bar_style": "success",
       "layout": "IPY_MODEL_f5a2362fa6ba43d0a7cca9c7096db6b4",
       "max": 5,
       "style": "IPY_MODEL_047ff84d060a441c9bd09e8a2e1f1e60",
       "value": 5
      }
     },
     "972a56fe59cc4530bbd683eec9fbb616": {
      "model_module": "@jupyter-widgets/base",
      "model_module_version": "1.2.0",
      "model_name": "LayoutModel",
      "state": {}
     },
     "9749a6e7cfee4db585143c06b52a26ed": {
      "model_module": "@jupyter-widgets/controls",
      "model_module_version": "1.5.0",
      "model_name": "DescriptionStyleModel",
      "state": {
       "description_width": ""
      }
     },
     "97df8b706c5f4396b97151952cf409ae": {
      "model_module": "@jupyter-widgets/controls",
      "model_module_version": "1.5.0",
      "model_name": "HBoxModel",
      "state": {
       "children": [
        "IPY_MODEL_0a5102c8ffa445d99d15c977bd501ce7",
        "IPY_MODEL_6a0a1ff563aa4bd09aa81c49f770cbcf",
        "IPY_MODEL_675f9da976174abc85ee8a27916b580c"
       ],
       "layout": "IPY_MODEL_4735fa385e1b444eada62a9156000907"
      }
     },
     "98203bea58a14fe6a728e7f5b63a4fd8": {
      "model_module": "@jupyter-widgets/base",
      "model_module_version": "1.2.0",
      "model_name": "LayoutModel",
      "state": {}
     },
     "982f0522ab534a46a60b7127fb1dcaad": {
      "model_module": "@jupyter-widgets/base",
      "model_module_version": "1.2.0",
      "model_name": "LayoutModel",
      "state": {}
     },
     "98338c32d4974b4095e63ae4c076b677": {
      "model_module": "@jupyter-widgets/controls",
      "model_module_version": "1.5.0",
      "model_name": "DescriptionStyleModel",
      "state": {
       "description_width": ""
      }
     },
     "986ed9768061469bacec6bb31b718f8f": {
      "model_module": "@jupyter-widgets/base",
      "model_module_version": "1.2.0",
      "model_name": "LayoutModel",
      "state": {}
     },
     "98a133e268b2401189a09ad510014eac": {
      "model_module": "@jupyter-widgets/controls",
      "model_module_version": "1.5.0",
      "model_name": "DescriptionStyleModel",
      "state": {
       "description_width": ""
      }
     },
     "98ab62bcf81643e78eaf7a6e9367dbcd": {
      "model_module": "@jupyter-widgets/controls",
      "model_module_version": "1.5.0",
      "model_name": "DescriptionStyleModel",
      "state": {
       "description_width": ""
      }
     },
     "98bb309def2b48bd89b90520773b1c27": {
      "model_module": "@jupyter-widgets/controls",
      "model_module_version": "1.5.0",
      "model_name": "HTMLModel",
      "state": {
       "layout": "IPY_MODEL_cec1b24d3e874fd8aac0cc0be695ca04",
       "style": "IPY_MODEL_d96e3a5bd7f749e785e94b60ab55c910",
       "value": " 5/5 [00:00&lt;00:00, 69.06it/s]"
      }
     },
     "98df17219fec4a8fbeae72f87243f37f": {
      "model_module": "@jupyter-widgets/controls",
      "model_module_version": "1.5.0",
      "model_name": "HTMLModel",
      "state": {
       "layout": "IPY_MODEL_91cce6416bf74421984c1d9c07bc17ad",
       "style": "IPY_MODEL_b70b8d30386c4bb388757acd282a5acb",
       "value": "100%"
      }
     },
     "98fce8d499c143388f7c380eea0b8fc9": {
      "model_module": "@jupyter-widgets/base",
      "model_module_version": "1.2.0",
      "model_name": "LayoutModel",
      "state": {}
     },
     "9933ca59f65a462c80f3775fbcd15f48": {
      "model_module": "@jupyter-widgets/controls",
      "model_module_version": "1.5.0",
      "model_name": "HBoxModel",
      "state": {
       "children": [
        "IPY_MODEL_881f7a008bdc4b2e9de88c2e33c72c21",
        "IPY_MODEL_757536d3f3b9469ead0ee544699d4db0",
        "IPY_MODEL_c7ceb287649a47b4a9438a5e61e12909"
       ],
       "layout": "IPY_MODEL_fec7cd2724bd4a29805ebb858b06a07c"
      }
     },
     "996c7ae419b245a9ab2e97a51fd78648": {
      "model_module": "@jupyter-widgets/controls",
      "model_module_version": "1.5.0",
      "model_name": "DescriptionStyleModel",
      "state": {
       "description_width": ""
      }
     },
     "99c3a073ea1541fdb85da62a81cd2a86": {
      "model_module": "@jupyter-widgets/base",
      "model_module_version": "1.2.0",
      "model_name": "LayoutModel",
      "state": {}
     },
     "99fdf7c9d2e748e1940e710847ef053b": {
      "model_module": "@jupyter-widgets/controls",
      "model_module_version": "1.5.0",
      "model_name": "DescriptionStyleModel",
      "state": {
       "description_width": ""
      }
     },
     "9b89f4c337ed413a821a4af09403077d": {
      "model_module": "@jupyter-widgets/controls",
      "model_module_version": "1.5.0",
      "model_name": "HBoxModel",
      "state": {
       "children": [
        "IPY_MODEL_b14a9fdc9cbf4ad4b5f5abce1cd551cb",
        "IPY_MODEL_892682c9be3147239af261ba14b2d98e",
        "IPY_MODEL_9da2a6329d3d45a88e5e912946fd7c4e"
       ],
       "layout": "IPY_MODEL_c3892516398d4faea6bab9a0c11f2d2f"
      }
     },
     "9c3146b8469c4d7ea10be33fd4c7545b": {
      "model_module": "@jupyter-widgets/controls",
      "model_module_version": "1.5.0",
      "model_name": "DescriptionStyleModel",
      "state": {
       "description_width": ""
      }
     },
     "9cca425ef8124a688b5bc7ba55458472": {
      "model_module": "@jupyter-widgets/base",
      "model_module_version": "1.2.0",
      "model_name": "LayoutModel",
      "state": {}
     },
     "9ccd77882e3f412c93a412cc0b179a89": {
      "model_module": "@jupyter-widgets/base",
      "model_module_version": "1.2.0",
      "model_name": "LayoutModel",
      "state": {}
     },
     "9ce2ae51e04f471e9ca2acf7f7291a76": {
      "model_module": "@jupyter-widgets/controls",
      "model_module_version": "1.5.0",
      "model_name": "HBoxModel",
      "state": {
       "children": [
        "IPY_MODEL_f637b7e19f84429eaca5059ce25e2cab",
        "IPY_MODEL_84b6217d0ced4d9789aba6e9f526a39a",
        "IPY_MODEL_dc56186fd4184875a51db139e0302c23"
       ],
       "layout": "IPY_MODEL_96ccd4c9aa304d70b9a15aea82450287"
      }
     },
     "9d1e891b59e048a08b982227ca459397": {
      "model_module": "@jupyter-widgets/controls",
      "model_module_version": "1.5.0",
      "model_name": "HBoxModel",
      "state": {
       "children": [
        "IPY_MODEL_dffa735a868d4dd79adef16b2ec34730",
        "IPY_MODEL_4d0924a85a1f495d8507bd4366ca7aa4",
        "IPY_MODEL_ac382e15a018457e94d09287ac387572"
       ],
       "layout": "IPY_MODEL_2afdb704c30640aea52cd8288edc4ad8"
      }
     },
     "9d44efc2513e4ebca19ec92c8f5e901a": {
      "model_module": "@jupyter-widgets/controls",
      "model_module_version": "1.5.0",
      "model_name": "HBoxModel",
      "state": {
       "children": [
        "IPY_MODEL_7cd8d93f63d04380ac29636c72f38253",
        "IPY_MODEL_964c5106996548c6b623d0b20345227c",
        "IPY_MODEL_3e83ad03eaec4004a7c692dee2531a19"
       ],
       "layout": "IPY_MODEL_98fce8d499c143388f7c380eea0b8fc9"
      }
     },
     "9d530d085b534ec39c8828a33c84205d": {
      "model_module": "@jupyter-widgets/controls",
      "model_module_version": "1.5.0",
      "model_name": "DescriptionStyleModel",
      "state": {
       "description_width": ""
      }
     },
     "9d884d1c7e3b4ecd82f6e03171e0094a": {
      "model_module": "@jupyter-widgets/controls",
      "model_module_version": "1.5.0",
      "model_name": "DescriptionStyleModel",
      "state": {
       "description_width": ""
      }
     },
     "9d95a60c2be6460d9eb87528cf70c9b6": {
      "model_module": "@jupyter-widgets/controls",
      "model_module_version": "1.5.0",
      "model_name": "DescriptionStyleModel",
      "state": {
       "description_width": ""
      }
     },
     "9da2a6329d3d45a88e5e912946fd7c4e": {
      "model_module": "@jupyter-widgets/controls",
      "model_module_version": "1.5.0",
      "model_name": "HTMLModel",
      "state": {
       "layout": "IPY_MODEL_19dd6ca6badc42faa646e9091cda32c9",
       "style": "IPY_MODEL_ba360481777f4097bf44b39a5f27a523",
       "value": " 5/5 [12:56&lt;00:00, 155.17s/it]"
      }
     },
     "9dc86aee373240dda71bf5d256fdaca9": {
      "model_module": "@jupyter-widgets/base",
      "model_module_version": "1.2.0",
      "model_name": "LayoutModel",
      "state": {}
     },
     "9dd21d625488426d92a0641901c06920": {
      "model_module": "@jupyter-widgets/controls",
      "model_module_version": "1.5.0",
      "model_name": "HTMLModel",
      "state": {
       "layout": "IPY_MODEL_7d4a2720348c419fb900debf1d303897",
       "style": "IPY_MODEL_6f4cad6347364407901a0e7f518bd9ca",
       "value": " 5/5 [01:26&lt;00:00, 17.23s/it]"
      }
     },
     "9dede5e2fb1f4fb4a7ad4dbf326cb3c7": {
      "model_module": "@jupyter-widgets/base",
      "model_module_version": "1.2.0",
      "model_name": "LayoutModel",
      "state": {}
     },
     "9e02b2bb64414e3daf421d6547110344": {
      "model_module": "@jupyter-widgets/controls",
      "model_module_version": "1.5.0",
      "model_name": "ProgressStyleModel",
      "state": {
       "description_width": ""
      }
     },
     "9e66005755b34f9f87198812763cda83": {
      "model_module": "@jupyter-widgets/base",
      "model_module_version": "1.2.0",
      "model_name": "LayoutModel",
      "state": {}
     },
     "9e795a1bae3b4a9dab48aa8fa7afb60b": {
      "model_module": "@jupyter-widgets/controls",
      "model_module_version": "1.5.0",
      "model_name": "FloatProgressModel",
      "state": {
       "bar_style": "success",
       "layout": "IPY_MODEL_52b64ee29a41455cbc905b911e188f03",
       "max": 5,
       "style": "IPY_MODEL_de086514e65040ebbf0657919e9f203e",
       "value": 5
      }
     },
     "9ea87cefca3448d695bd122b0ab33c2a": {
      "model_module": "@jupyter-widgets/controls",
      "model_module_version": "1.5.0",
      "model_name": "HTMLModel",
      "state": {
       "layout": "IPY_MODEL_6e1efb5f27f544e09bb40da44f0963a5",
       "style": "IPY_MODEL_285f3bf901ba4ee2be64f713152b61af",
       "value": " 5/5 [13:43&lt;00:00, 164.92s/it]"
      }
     },
     "9ec107234151473f8e37dabfe2d15fac": {
      "model_module": "@jupyter-widgets/controls",
      "model_module_version": "1.5.0",
      "model_name": "DescriptionStyleModel",
      "state": {
       "description_width": ""
      }
     },
     "9ee53296db11440ca93dd1c3ae90ded8": {
      "model_module": "@jupyter-widgets/controls",
      "model_module_version": "1.5.0",
      "model_name": "DescriptionStyleModel",
      "state": {
       "description_width": ""
      }
     },
     "9f5655ee33144ffaa35df2d9ab510bee": {
      "model_module": "@jupyter-widgets/controls",
      "model_module_version": "1.5.0",
      "model_name": "DescriptionStyleModel",
      "state": {
       "description_width": ""
      }
     },
     "a042f299c48046619f33365756e410ed": {
      "model_module": "@jupyter-widgets/base",
      "model_module_version": "1.2.0",
      "model_name": "LayoutModel",
      "state": {}
     },
     "a05558f14eee47be8788e1dd4ab618bc": {
      "model_module": "@jupyter-widgets/controls",
      "model_module_version": "1.5.0",
      "model_name": "HTMLModel",
      "state": {
       "layout": "IPY_MODEL_e9fbedab48744f5595cb53ec61826377",
       "style": "IPY_MODEL_bc6b8fb96a82488c9dfea6c448ef39ff",
       "value": " 5/5 [13:08&lt;00:00, 157.77s/it]"
      }
     },
     "a0690abd5beb4231aa71017bbc0fdff5": {
      "model_module": "@jupyter-widgets/controls",
      "model_module_version": "1.5.0",
      "model_name": "ProgressStyleModel",
      "state": {
       "description_width": ""
      }
     },
     "a0e5e1837b5d48cd8fd7b2fdea863ce6": {
      "model_module": "@jupyter-widgets/controls",
      "model_module_version": "1.5.0",
      "model_name": "HTMLModel",
      "state": {
       "layout": "IPY_MODEL_232d3b2a415141a3b88176fc19e4b113",
       "style": "IPY_MODEL_03c27ff4fed14f128c53c3512c5e87ff",
       "value": "100%"
      }
     },
     "a19b7733e55f461a9849bb8720f356bb": {
      "model_module": "@jupyter-widgets/controls",
      "model_module_version": "1.5.0",
      "model_name": "HBoxModel",
      "state": {
       "children": [
        "IPY_MODEL_0d9622eb7a604f6ea98ccb35d8910004",
        "IPY_MODEL_83c4148f380740c89e0f59d888b2afb3",
        "IPY_MODEL_e1de340460dd4ade8cf563d227787af3"
       ],
       "layout": "IPY_MODEL_a042f299c48046619f33365756e410ed"
      }
     },
     "a1d7f399cbe949c7ba7b87d226bdbe6c": {
      "model_module": "@jupyter-widgets/controls",
      "model_module_version": "1.5.0",
      "model_name": "HTMLModel",
      "state": {
       "layout": "IPY_MODEL_541964013eae4bce9d654fe83342818e",
       "style": "IPY_MODEL_e8aec340c2fe4d68887ee4b483b11a35",
       "value": " 5/5 [00:00&lt;00:00, 23.64it/s]"
      }
     },
     "a1feb5aba57f4ae2a7f75c907f84e95a": {
      "model_module": "@jupyter-widgets/base",
      "model_module_version": "1.2.0",
      "model_name": "LayoutModel",
      "state": {}
     },
     "a21259a45b9743c0b0bd1538febd6c17": {
      "model_module": "@jupyter-widgets/controls",
      "model_module_version": "1.5.0",
      "model_name": "HTMLModel",
      "state": {
       "layout": "IPY_MODEL_0fa2ec5b50d7434ba1765dae92d550ea",
       "style": "IPY_MODEL_acfe6b4f01e84bbdbe8d7b530ad8b952",
       "value": "100%"
      }
     },
     "a2be8e6c1a4d48eea869eb46c9c6dce5": {
      "model_module": "@jupyter-widgets/base",
      "model_module_version": "1.2.0",
      "model_name": "LayoutModel",
      "state": {}
     },
     "a463e206f67a490680e6e11d70dee36e": {
      "model_module": "@jupyter-widgets/controls",
      "model_module_version": "1.5.0",
      "model_name": "FloatProgressModel",
      "state": {
       "bar_style": "success",
       "layout": "IPY_MODEL_cc5423c7ec5c48a5b434e3f444e02735",
       "max": 5,
       "style": "IPY_MODEL_6c692de08f1e403e9a7c1aa8a716477a",
       "value": 5
      }
     },
     "a4963feaf549477cbb27bd54987933f1": {
      "model_module": "@jupyter-widgets/base",
      "model_module_version": "1.2.0",
      "model_name": "LayoutModel",
      "state": {}
     },
     "a4d96619b64e4a34abfa27055227725f": {
      "model_module": "@jupyter-widgets/base",
      "model_module_version": "1.2.0",
      "model_name": "LayoutModel",
      "state": {}
     },
     "a507782887514435a09b118873fd2860": {
      "model_module": "@jupyter-widgets/base",
      "model_module_version": "1.2.0",
      "model_name": "LayoutModel",
      "state": {}
     },
     "a54f8ebb6d2d4ac69d658231e69214aa": {
      "model_module": "@jupyter-widgets/base",
      "model_module_version": "1.2.0",
      "model_name": "LayoutModel",
      "state": {}
     },
     "a5b58c4c3f324389bb8c661ec0bc3c6e": {
      "model_module": "@jupyter-widgets/base",
      "model_module_version": "1.2.0",
      "model_name": "LayoutModel",
      "state": {}
     },
     "a5d215f87acf487a94f5c0e7123df04f": {
      "model_module": "@jupyter-widgets/controls",
      "model_module_version": "1.5.0",
      "model_name": "DescriptionStyleModel",
      "state": {
       "description_width": ""
      }
     },
     "a5ebe59e26f6451d86820cf7e6d5ac06": {
      "model_module": "@jupyter-widgets/controls",
      "model_module_version": "1.5.0",
      "model_name": "HBoxModel",
      "state": {
       "children": [
        "IPY_MODEL_8c8111cefc4b43a1987f0a65131aed15",
        "IPY_MODEL_c6af08dd9cc346b78993682f0009aeae",
        "IPY_MODEL_95f46d8e17c6411bafbc30ed41dadc8a"
       ],
       "layout": "IPY_MODEL_d5e8b5f553e44487be8b6e04f3e759ee"
      }
     },
     "a69a05eddfb348c192f9a48f5138f361": {
      "model_module": "@jupyter-widgets/controls",
      "model_module_version": "1.5.0",
      "model_name": "HTMLModel",
      "state": {
       "layout": "IPY_MODEL_a5b58c4c3f324389bb8c661ec0bc3c6e",
       "style": "IPY_MODEL_c79bb9184c0a4fee9957866d64a85e93",
       "value": "100%"
      }
     },
     "a6bfebbf7d6241308015dc475a3955a8": {
      "model_module": "@jupyter-widgets/controls",
      "model_module_version": "1.5.0",
      "model_name": "FloatProgressModel",
      "state": {
       "bar_style": "success",
       "layout": "IPY_MODEL_ac5c0c8093d2478c9b1eea2c9c8c2fe8",
       "max": 5,
       "style": "IPY_MODEL_d16d0720ebb043dfb73906389df8be92",
       "value": 5
      }
     },
     "a73a1598de0a4bfdb0c5fefb6ebdd089": {
      "model_module": "@jupyter-widgets/base",
      "model_module_version": "1.2.0",
      "model_name": "LayoutModel",
      "state": {}
     },
     "a74e5a610bc347db8d50fa6f85cdec07": {
      "model_module": "@jupyter-widgets/base",
      "model_module_version": "1.2.0",
      "model_name": "LayoutModel",
      "state": {}
     },
     "a752fd9014304e0cac6bbb051beb9771": {
      "model_module": "@jupyter-widgets/base",
      "model_module_version": "1.2.0",
      "model_name": "LayoutModel",
      "state": {}
     },
     "a796ad68e7e744ecaa45bcf5fa0e7719": {
      "model_module": "@jupyter-widgets/controls",
      "model_module_version": "1.5.0",
      "model_name": "HTMLModel",
      "state": {
       "layout": "IPY_MODEL_0119d78b93914d40a93c826bf53ed3bb",
       "style": "IPY_MODEL_fa7d9d0b644648b0ab9b0da03fea34ac",
       "value": " 5/5 [00:05&lt;00:00,  1.00s/it]"
      }
     },
     "a799294d03e74613944117a98448d23e": {
      "model_module": "@jupyter-widgets/controls",
      "model_module_version": "1.5.0",
      "model_name": "HTMLModel",
      "state": {
       "layout": "IPY_MODEL_3897267b19444032beeb2013840390c0",
       "style": "IPY_MODEL_b9214d818de745b6aa78fe2e6eed79bb",
       "value": "100%"
      }
     },
     "a8c2766e830340cca3dea45919ca3c52": {
      "model_module": "@jupyter-widgets/controls",
      "model_module_version": "1.5.0",
      "model_name": "ProgressStyleModel",
      "state": {
       "description_width": ""
      }
     },
     "a8ed4e07bf3a45c5bec387debdc82414": {
      "model_module": "@jupyter-widgets/controls",
      "model_module_version": "1.5.0",
      "model_name": "HTMLModel",
      "state": {
       "layout": "IPY_MODEL_1ed3ef910c324a8c802d68efb0ecbac5",
       "style": "IPY_MODEL_e0c4ab4274be4ec7bb3712f9b4a8df03",
       "value": " 5/5 [00:00&lt;00:00, 22.07it/s]"
      }
     },
     "a90ec853bbf241cf852727184d4c6224": {
      "model_module": "@jupyter-widgets/controls",
      "model_module_version": "1.5.0",
      "model_name": "HTMLModel",
      "state": {
       "layout": "IPY_MODEL_5b5aaf34c8ac45c0a71e47fa5966ab1f",
       "style": "IPY_MODEL_7ad589a681084cd48f77b1935708ada1",
       "value": "100%"
      }
     },
     "ab30694a62cc4f22970c8c256536bc2b": {
      "model_module": "@jupyter-widgets/controls",
      "model_module_version": "1.5.0",
      "model_name": "DescriptionStyleModel",
      "state": {
       "description_width": ""
      }
     },
     "ab73f440be094f89b9b231227c131968": {
      "model_module": "@jupyter-widgets/base",
      "model_module_version": "1.2.0",
      "model_name": "LayoutModel",
      "state": {}
     },
     "ac0b584adc23459292d87777048a40b0": {
      "model_module": "@jupyter-widgets/base",
      "model_module_version": "1.2.0",
      "model_name": "LayoutModel",
      "state": {}
     },
     "ac382e15a018457e94d09287ac387572": {
      "model_module": "@jupyter-widgets/controls",
      "model_module_version": "1.5.0",
      "model_name": "HTMLModel",
      "state": {
       "layout": "IPY_MODEL_cf8e3b1fa3e44a3b9527c9971832866b",
       "style": "IPY_MODEL_76ae6a0c2d03421589d98973796b0529",
       "value": " 5/5 [01:25&lt;00:00, 17.13s/it]"
      }
     },
     "ac5c0c8093d2478c9b1eea2c9c8c2fe8": {
      "model_module": "@jupyter-widgets/base",
      "model_module_version": "1.2.0",
      "model_name": "LayoutModel",
      "state": {}
     },
     "ac6e8e0b175c49e980ecf6682f8f9c22": {
      "model_module": "@jupyter-widgets/controls",
      "model_module_version": "1.5.0",
      "model_name": "HTMLModel",
      "state": {
       "layout": "IPY_MODEL_6f7108c7b2574626bd3786073fe3e52c",
       "style": "IPY_MODEL_72de12a7cdc743968e9c8a9bde3856be",
       "value": " 5/5 [00:11&lt;00:00,  2.36s/it]"
      }
     },
     "acfe6b4f01e84bbdbe8d7b530ad8b952": {
      "model_module": "@jupyter-widgets/controls",
      "model_module_version": "1.5.0",
      "model_name": "DescriptionStyleModel",
      "state": {
       "description_width": ""
      }
     },
     "ade81211949146329034ed4b6445c39b": {
      "model_module": "@jupyter-widgets/base",
      "model_module_version": "1.2.0",
      "model_name": "LayoutModel",
      "state": {}
     },
     "ae0194dc7aa5433a9efab2af2f867890": {
      "model_module": "@jupyter-widgets/controls",
      "model_module_version": "1.5.0",
      "model_name": "DescriptionStyleModel",
      "state": {
       "description_width": ""
      }
     },
     "ae20834006f940c1a25b25bc58c94825": {
      "model_module": "@jupyter-widgets/base",
      "model_module_version": "1.2.0",
      "model_name": "LayoutModel",
      "state": {}
     },
     "ae4d392afed7440488a60d68014eb263": {
      "model_module": "@jupyter-widgets/controls",
      "model_module_version": "1.5.0",
      "model_name": "ProgressStyleModel",
      "state": {
       "description_width": ""
      }
     },
     "ae726be80e564ae18889d2427465e1e5": {
      "model_module": "@jupyter-widgets/controls",
      "model_module_version": "1.5.0",
      "model_name": "FloatProgressModel",
      "state": {
       "bar_style": "success",
       "layout": "IPY_MODEL_052a5f5e32614c42b4d1434d2ac9d97b",
       "max": 5,
       "style": "IPY_MODEL_337c34e501f14f21a078ab80475f3103",
       "value": 5
      }
     },
     "aed83756061844f794205a0f8aab0e4f": {
      "model_module": "@jupyter-widgets/base",
      "model_module_version": "1.2.0",
      "model_name": "LayoutModel",
      "state": {}
     },
     "aedea652dc16495e8216619e4975d3c9": {
      "model_module": "@jupyter-widgets/controls",
      "model_module_version": "1.5.0",
      "model_name": "ProgressStyleModel",
      "state": {
       "description_width": ""
      }
     },
     "aee1ba5044344fd2ac6874a5fb149b47": {
      "model_module": "@jupyter-widgets/controls",
      "model_module_version": "1.5.0",
      "model_name": "DescriptionStyleModel",
      "state": {
       "description_width": ""
      }
     },
     "af8044f2015242c09afa9ff4ee3ab6da": {
      "model_module": "@jupyter-widgets/base",
      "model_module_version": "1.2.0",
      "model_name": "LayoutModel",
      "state": {}
     },
     "b00d4b5674064ee19c4a4a5795da0939": {
      "model_module": "@jupyter-widgets/controls",
      "model_module_version": "1.5.0",
      "model_name": "HTMLModel",
      "state": {
       "layout": "IPY_MODEL_af8044f2015242c09afa9ff4ee3ab6da",
       "style": "IPY_MODEL_261617e45e7c416cb1d2ecf099207ff4",
       "value": "100%"
      }
     },
     "b08785ba75c240b5a094d05948afc4c3": {
      "model_module": "@jupyter-widgets/controls",
      "model_module_version": "1.5.0",
      "model_name": "HTMLModel",
      "state": {
       "layout": "IPY_MODEL_346f31158fe346458f5688c980e789b6",
       "style": "IPY_MODEL_12f39e7089614b1c84a431c8e0f3870d",
       "value": "100%"
      }
     },
     "b0961c569d5a4af3bb6a0f67750942ea": {
      "model_module": "@jupyter-widgets/controls",
      "model_module_version": "1.5.0",
      "model_name": "ProgressStyleModel",
      "state": {
       "description_width": ""
      }
     },
     "b098752233da4c778a20506bbe6b856b": {
      "model_module": "@jupyter-widgets/controls",
      "model_module_version": "1.5.0",
      "model_name": "DescriptionStyleModel",
      "state": {
       "description_width": ""
      }
     },
     "b0cf40e888f5473cb076cdbff0e01f0c": {
      "model_module": "@jupyter-widgets/base",
      "model_module_version": "1.2.0",
      "model_name": "LayoutModel",
      "state": {}
     },
     "b0e5e337da664bedbbc330b844d8bddf": {
      "model_module": "@jupyter-widgets/base",
      "model_module_version": "1.2.0",
      "model_name": "LayoutModel",
      "state": {}
     },
     "b12c01c74d214867b8fa9bbd49db8578": {
      "model_module": "@jupyter-widgets/controls",
      "model_module_version": "1.5.0",
      "model_name": "HTMLModel",
      "state": {
       "layout": "IPY_MODEL_5f7ff9b5d57f420ea3ae1fef15274191",
       "style": "IPY_MODEL_93ec8d8d7c6a42929706e1d4f5296918",
       "value": " 5/5 [00:14&lt;00:00,  3.05s/it]"
      }
     },
     "b14a9fdc9cbf4ad4b5f5abce1cd551cb": {
      "model_module": "@jupyter-widgets/controls",
      "model_module_version": "1.5.0",
      "model_name": "HTMLModel",
      "state": {
       "layout": "IPY_MODEL_888db0b467374a86b6be36deacf727d9",
       "style": "IPY_MODEL_ab30694a62cc4f22970c8c256536bc2b",
       "value": "100%"
      }
     },
     "b1d42b4b4a314985be7108df973007ec": {
      "model_module": "@jupyter-widgets/controls",
      "model_module_version": "1.5.0",
      "model_name": "HTMLModel",
      "state": {
       "layout": "IPY_MODEL_8479346a0873429dbab32c19946ee8e4",
       "style": "IPY_MODEL_cf3e8bec5eea458da15d2486a0099624",
       "value": "100%"
      }
     },
     "b261828bfb384d33915fcb5a13ee166a": {
      "model_module": "@jupyter-widgets/base",
      "model_module_version": "1.2.0",
      "model_name": "LayoutModel",
      "state": {}
     },
     "b357a9b30036402883249e2b1a412424": {
      "model_module": "@jupyter-widgets/controls",
      "model_module_version": "1.5.0",
      "model_name": "DescriptionStyleModel",
      "state": {
       "description_width": ""
      }
     },
     "b38e84e9c1c1472ab8fef141b4c60708": {
      "model_module": "@jupyter-widgets/controls",
      "model_module_version": "1.5.0",
      "model_name": "DescriptionStyleModel",
      "state": {
       "description_width": ""
      }
     },
     "b3dfcdf879d448df852eebf3547a3ac0": {
      "model_module": "@jupyter-widgets/base",
      "model_module_version": "1.2.0",
      "model_name": "LayoutModel",
      "state": {}
     },
     "b3fbcd2736ef4f62bd86cde557e2e574": {
      "model_module": "@jupyter-widgets/base",
      "model_module_version": "1.2.0",
      "model_name": "LayoutModel",
      "state": {}
     },
     "b451ef3b59014a1099641bc1a65e8ad6": {
      "model_module": "@jupyter-widgets/controls",
      "model_module_version": "1.5.0",
      "model_name": "HTMLModel",
      "state": {
       "layout": "IPY_MODEL_cda095d8700248a6bc520b0c0fa55fb7",
       "style": "IPY_MODEL_b7d89d7f744a46dea7b44c6a924a6e0e",
       "value": "100%"
      }
     },
     "b46db7e83a914b55bde06f37d605f8c8": {
      "model_module": "@jupyter-widgets/base",
      "model_module_version": "1.2.0",
      "model_name": "LayoutModel",
      "state": {}
     },
     "b4dbf3157e1a45fda5e9da35e3068493": {
      "model_module": "@jupyter-widgets/base",
      "model_module_version": "1.2.0",
      "model_name": "LayoutModel",
      "state": {}
     },
     "b54075bfc8b04707a37caf0adfd2ba53": {
      "model_module": "@jupyter-widgets/controls",
      "model_module_version": "1.5.0",
      "model_name": "HTMLModel",
      "state": {
       "layout": "IPY_MODEL_b60025fafa964db28ec70c37f6132fdf",
       "style": "IPY_MODEL_81e6bbd729d54c80bfdba322a8350e03",
       "value": "100%"
      }
     },
     "b541d0f4db2f402cb321fd5044881a85": {
      "model_module": "@jupyter-widgets/controls",
      "model_module_version": "1.5.0",
      "model_name": "ProgressStyleModel",
      "state": {
       "description_width": ""
      }
     },
     "b59586b9d5c54f86b6f57d125528bce3": {
      "model_module": "@jupyter-widgets/base",
      "model_module_version": "1.2.0",
      "model_name": "LayoutModel",
      "state": {}
     },
     "b5966fc6b6b14a279a4c35f3bf375dee": {
      "model_module": "@jupyter-widgets/controls",
      "model_module_version": "1.5.0",
      "model_name": "HTMLModel",
      "state": {
       "layout": "IPY_MODEL_3179d1d1d40445d884a270d28d1c3ced",
       "style": "IPY_MODEL_68ed1c63383642c4934ddab6857533b2",
       "value": "100%"
      }
     },
     "b60025fafa964db28ec70c37f6132fdf": {
      "model_module": "@jupyter-widgets/base",
      "model_module_version": "1.2.0",
      "model_name": "LayoutModel",
      "state": {}
     },
     "b6016a60576c494fa5b17ee6a35c4809": {
      "model_module": "@jupyter-widgets/controls",
      "model_module_version": "1.5.0",
      "model_name": "DescriptionStyleModel",
      "state": {
       "description_width": ""
      }
     },
     "b6a10cce2a78435b8335e5bef9dbe09a": {
      "model_module": "@jupyter-widgets/controls",
      "model_module_version": "1.5.0",
      "model_name": "DescriptionStyleModel",
      "state": {
       "description_width": ""
      }
     },
     "b6bc195b16f74afabf97356b7b77d610": {
      "model_module": "@jupyter-widgets/controls",
      "model_module_version": "1.5.0",
      "model_name": "DescriptionStyleModel",
      "state": {
       "description_width": ""
      }
     },
     "b6dba886c36a41729b676e27863c2492": {
      "model_module": "@jupyter-widgets/controls",
      "model_module_version": "1.5.0",
      "model_name": "DescriptionStyleModel",
      "state": {
       "description_width": ""
      }
     },
     "b70128e9565b4b3581b362d6211ab681": {
      "model_module": "@jupyter-widgets/base",
      "model_module_version": "1.2.0",
      "model_name": "LayoutModel",
      "state": {}
     },
     "b70b8d30386c4bb388757acd282a5acb": {
      "model_module": "@jupyter-widgets/controls",
      "model_module_version": "1.5.0",
      "model_name": "DescriptionStyleModel",
      "state": {
       "description_width": ""
      }
     },
     "b7102055da73405b9f0b367689fc2563": {
      "model_module": "@jupyter-widgets/controls",
      "model_module_version": "1.5.0",
      "model_name": "HBoxModel",
      "state": {
       "children": [
        "IPY_MODEL_1545a99e4db14f43a06cb38ce32646bb",
        "IPY_MODEL_8a8bda39bfdf4e6f810fb557825766ad",
        "IPY_MODEL_6263e389b23d4005925c08540c0806e3"
       ],
       "layout": "IPY_MODEL_75697681a347405291f3541f2e57c147"
      }
     },
     "b72efcd2a2694b4796b21b3db7816671": {
      "model_module": "@jupyter-widgets/base",
      "model_module_version": "1.2.0",
      "model_name": "LayoutModel",
      "state": {}
     },
     "b764785d5b4142e3be993205af920e44": {
      "model_module": "@jupyter-widgets/base",
      "model_module_version": "1.2.0",
      "model_name": "LayoutModel",
      "state": {}
     },
     "b7d89d7f744a46dea7b44c6a924a6e0e": {
      "model_module": "@jupyter-widgets/controls",
      "model_module_version": "1.5.0",
      "model_name": "DescriptionStyleModel",
      "state": {
       "description_width": ""
      }
     },
     "b7eb4fbc17e248f2826ed0c9a6039fcc": {
      "model_module": "@jupyter-widgets/base",
      "model_module_version": "1.2.0",
      "model_name": "LayoutModel",
      "state": {}
     },
     "b84ed603781443cda6d7383d69623322": {
      "model_module": "@jupyter-widgets/base",
      "model_module_version": "1.2.0",
      "model_name": "LayoutModel",
      "state": {}
     },
     "b8d32f7e446d4184be06f4ec8506fc4f": {
      "model_module": "@jupyter-widgets/controls",
      "model_module_version": "1.5.0",
      "model_name": "FloatProgressModel",
      "state": {
       "bar_style": "success",
       "layout": "IPY_MODEL_c73a828985394694a2c778ef34ca835b",
       "max": 5,
       "style": "IPY_MODEL_4b9fa2f969214747891f4b1c814b664b",
       "value": 5
      }
     },
     "b9214d818de745b6aa78fe2e6eed79bb": {
      "model_module": "@jupyter-widgets/controls",
      "model_module_version": "1.5.0",
      "model_name": "DescriptionStyleModel",
      "state": {
       "description_width": ""
      }
     },
     "b92a6e39dc1348f29b2000c264ba50de": {
      "model_module": "@jupyter-widgets/controls",
      "model_module_version": "1.5.0",
      "model_name": "FloatProgressModel",
      "state": {
       "bar_style": "success",
       "layout": "IPY_MODEL_49f26464c61a43db87f867084f35bc47",
       "max": 5,
       "style": "IPY_MODEL_857cab1037cc4b39954c12f88fc81ef0",
       "value": 5
      }
     },
     "b96530455e3b4690a5f37103f18c4e4e": {
      "model_module": "@jupyter-widgets/base",
      "model_module_version": "1.2.0",
      "model_name": "LayoutModel",
      "state": {}
     },
     "b9b39fda8fd24b1b9d2a697ca51b50fe": {
      "model_module": "@jupyter-widgets/controls",
      "model_module_version": "1.5.0",
      "model_name": "DescriptionStyleModel",
      "state": {
       "description_width": ""
      }
     },
     "b9d46fd87c914409978574706dc50304": {
      "model_module": "@jupyter-widgets/base",
      "model_module_version": "1.2.0",
      "model_name": "LayoutModel",
      "state": {}
     },
     "ba360481777f4097bf44b39a5f27a523": {
      "model_module": "@jupyter-widgets/controls",
      "model_module_version": "1.5.0",
      "model_name": "DescriptionStyleModel",
      "state": {
       "description_width": ""
      }
     },
     "ba7166087d044a8ba97c49c2ddbf312e": {
      "model_module": "@jupyter-widgets/controls",
      "model_module_version": "1.5.0",
      "model_name": "HBoxModel",
      "state": {
       "children": [
        "IPY_MODEL_6007ca8bd30e424f9b200ee22fdc4538",
        "IPY_MODEL_8c8d12a335fe432783a5370716261a05",
        "IPY_MODEL_98bb309def2b48bd89b90520773b1c27"
       ],
       "layout": "IPY_MODEL_c76ed4c321e6406b8f90481e00d1ddeb"
      }
     },
     "ba8b58c0a05c43d186b2992768776b5b": {
      "model_module": "@jupyter-widgets/base",
      "model_module_version": "1.2.0",
      "model_name": "LayoutModel",
      "state": {}
     },
     "baa1304d6d474135b447555b380dbdc1": {
      "model_module": "@jupyter-widgets/controls",
      "model_module_version": "1.5.0",
      "model_name": "FloatProgressModel",
      "state": {
       "bar_style": "success",
       "layout": "IPY_MODEL_c7f6766dd92f45e5a91d42359978673b",
       "max": 5,
       "style": "IPY_MODEL_bb809509d2c34c93a79d4135b01852a2",
       "value": 5
      }
     },
     "bab5c6919eaf42ed872e9975ddfdd949": {
      "model_module": "@jupyter-widgets/controls",
      "model_module_version": "1.5.0",
      "model_name": "DescriptionStyleModel",
      "state": {
       "description_width": ""
      }
     },
     "baca44b93a90450ab11f30b275736b0c": {
      "model_module": "@jupyter-widgets/base",
      "model_module_version": "1.2.0",
      "model_name": "LayoutModel",
      "state": {}
     },
     "bb809509d2c34c93a79d4135b01852a2": {
      "model_module": "@jupyter-widgets/controls",
      "model_module_version": "1.5.0",
      "model_name": "ProgressStyleModel",
      "state": {
       "description_width": ""
      }
     },
     "bbde690e96394d4f8a4087afd02ea523": {
      "model_module": "@jupyter-widgets/controls",
      "model_module_version": "1.5.0",
      "model_name": "HBoxModel",
      "state": {
       "children": [
        "IPY_MODEL_37205decc2b84e90bb452968b1140b8a",
        "IPY_MODEL_6d0437f35bc44d33b6942b1cc2aa1657",
        "IPY_MODEL_b12c01c74d214867b8fa9bbd49db8578"
       ],
       "layout": "IPY_MODEL_8912639c0aec489fafeed7d08cc2c226"
      }
     },
     "bc068a6825c147c69dbcb39651a74f1b": {
      "model_module": "@jupyter-widgets/base",
      "model_module_version": "1.2.0",
      "model_name": "LayoutModel",
      "state": {}
     },
     "bc6b8fb96a82488c9dfea6c448ef39ff": {
      "model_module": "@jupyter-widgets/controls",
      "model_module_version": "1.5.0",
      "model_name": "DescriptionStyleModel",
      "state": {
       "description_width": ""
      }
     },
     "bc7429dfc41c463ba29a661489f3d0ad": {
      "model_module": "@jupyter-widgets/controls",
      "model_module_version": "1.5.0",
      "model_name": "HTMLModel",
      "state": {
       "layout": "IPY_MODEL_daa76f1676f940ce8068bcb5c1b9cd69",
       "style": "IPY_MODEL_529e9d14d6d54f1c904a2f7c82f47987",
       "value": " 5/5 [13:34&lt;00:00, 160.91s/it]"
      }
     },
     "bd2aca03f013466abffc1b474186ae59": {
      "model_module": "@jupyter-widgets/controls",
      "model_module_version": "1.5.0",
      "model_name": "DescriptionStyleModel",
      "state": {
       "description_width": ""
      }
     },
     "bd61bfa2b99e45bca6fc3165f8c2a6af": {
      "model_module": "@jupyter-widgets/base",
      "model_module_version": "1.2.0",
      "model_name": "LayoutModel",
      "state": {}
     },
     "bddfa6bc737f4bcaa022f7e40a170076": {
      "model_module": "@jupyter-widgets/base",
      "model_module_version": "1.2.0",
      "model_name": "LayoutModel",
      "state": {}
     },
     "bdef8801ae0e477294d62b8baf237170": {
      "model_module": "@jupyter-widgets/base",
      "model_module_version": "1.2.0",
      "model_name": "LayoutModel",
      "state": {}
     },
     "bdffed28ed434ce2a6872a4ece53ddba": {
      "model_module": "@jupyter-widgets/base",
      "model_module_version": "1.2.0",
      "model_name": "LayoutModel",
      "state": {}
     },
     "be5fd8ab4e3043cabb2c200becd9695d": {
      "model_module": "@jupyter-widgets/controls",
      "model_module_version": "1.5.0",
      "model_name": "DescriptionStyleModel",
      "state": {
       "description_width": ""
      }
     },
     "bec7d907e01a4a0d94bc09e15accb02f": {
      "model_module": "@jupyter-widgets/controls",
      "model_module_version": "1.5.0",
      "model_name": "HTMLModel",
      "state": {
       "layout": "IPY_MODEL_bf4da3c7c1ee4b8dab4c380d54be4a62",
       "style": "IPY_MODEL_bd2aca03f013466abffc1b474186ae59",
       "value": "100%"
      }
     },
     "bf4da3c7c1ee4b8dab4c380d54be4a62": {
      "model_module": "@jupyter-widgets/base",
      "model_module_version": "1.2.0",
      "model_name": "LayoutModel",
      "state": {}
     },
     "c070bc3dd09049519edd1c080e2c7be5": {
      "model_module": "@jupyter-widgets/controls",
      "model_module_version": "1.5.0",
      "model_name": "FloatProgressModel",
      "state": {
       "bar_style": "success",
       "layout": "IPY_MODEL_9dc86aee373240dda71bf5d256fdaca9",
       "max": 5,
       "style": "IPY_MODEL_d1dafde53f5f4eab92dc960220080f51",
       "value": 5
      }
     },
     "c07920d9bbf44466b4e155ae36213b93": {
      "model_module": "@jupyter-widgets/controls",
      "model_module_version": "1.5.0",
      "model_name": "DescriptionStyleModel",
      "state": {
       "description_width": ""
      }
     },
     "c08c236b2ed9468e850637f094bcb770": {
      "model_module": "@jupyter-widgets/controls",
      "model_module_version": "1.5.0",
      "model_name": "FloatProgressModel",
      "state": {
       "bar_style": "success",
       "layout": "IPY_MODEL_c1fba9719f2845d4ac3f72775a3ab00d",
       "max": 5,
       "style": "IPY_MODEL_b0961c569d5a4af3bb6a0f67750942ea",
       "value": 5
      }
     },
     "c0d6a2d5a1554291970a5ed3b0506056": {
      "model_module": "@jupyter-widgets/controls",
      "model_module_version": "1.5.0",
      "model_name": "DescriptionStyleModel",
      "state": {
       "description_width": ""
      }
     },
     "c1568735afcb4c83a16b05a6e5dbafc0": {
      "model_module": "@jupyter-widgets/controls",
      "model_module_version": "1.5.0",
      "model_name": "DescriptionStyleModel",
      "state": {
       "description_width": ""
      }
     },
     "c1b9cbbd63b546efb82cad4f616e2023": {
      "model_module": "@jupyter-widgets/controls",
      "model_module_version": "1.5.0",
      "model_name": "HTMLModel",
      "state": {
       "layout": "IPY_MODEL_b0e5e337da664bedbbc330b844d8bddf",
       "style": "IPY_MODEL_548589f7016f407ca80104850e614319",
       "value": "100%"
      }
     },
     "c1d520a3c0aa483a9d99baec3bc26074": {
      "model_module": "@jupyter-widgets/base",
      "model_module_version": "1.2.0",
      "model_name": "LayoutModel",
      "state": {}
     },
     "c1fba9719f2845d4ac3f72775a3ab00d": {
      "model_module": "@jupyter-widgets/base",
      "model_module_version": "1.2.0",
      "model_name": "LayoutModel",
      "state": {}
     },
     "c2c1dccfb9af46b4baf5862687c010e1": {
      "model_module": "@jupyter-widgets/controls",
      "model_module_version": "1.5.0",
      "model_name": "ProgressStyleModel",
      "state": {
       "description_width": ""
      }
     },
     "c2ec26901655448fbd1ed6d82f46ece0": {
      "model_module": "@jupyter-widgets/controls",
      "model_module_version": "1.5.0",
      "model_name": "HBoxModel",
      "state": {
       "children": [
        "IPY_MODEL_bec7d907e01a4a0d94bc09e15accb02f",
        "IPY_MODEL_732de88bc76542048c00a8add8c5ac8e",
        "IPY_MODEL_fbd68ada16724129ac8794036260f2bd"
       ],
       "layout": "IPY_MODEL_135915f245a74c0281239e2c02db187e"
      }
     },
     "c3892516398d4faea6bab9a0c11f2d2f": {
      "model_module": "@jupyter-widgets/base",
      "model_module_version": "1.2.0",
      "model_name": "LayoutModel",
      "state": {}
     },
     "c3c18e1c1fdb44ccaada107e5cfdc10d": {
      "model_module": "@jupyter-widgets/controls",
      "model_module_version": "1.5.0",
      "model_name": "FloatProgressModel",
      "state": {
       "bar_style": "success",
       "layout": "IPY_MODEL_43679a07ee304ad99e9e6b42b942fdc8",
       "max": 5,
       "style": "IPY_MODEL_4bb0e690dc4c4f1f931840c77e87c74a",
       "value": 5
      }
     },
     "c413d2f5e59b439782344d76be84188b": {
      "model_module": "@jupyter-widgets/controls",
      "model_module_version": "1.5.0",
      "model_name": "HBoxModel",
      "state": {
       "children": [
        "IPY_MODEL_b08785ba75c240b5a094d05948afc4c3",
        "IPY_MODEL_baa1304d6d474135b447555b380dbdc1",
        "IPY_MODEL_a796ad68e7e744ecaa45bcf5fa0e7719"
       ],
       "layout": "IPY_MODEL_6edbe7de63014877a5a212ebb3c3eda8"
      }
     },
     "c4536e4e6c4e4955945d18c6907e3f51": {
      "model_module": "@jupyter-widgets/base",
      "model_module_version": "1.2.0",
      "model_name": "LayoutModel",
      "state": {}
     },
     "c4b50d9166404204b73796d141f92a2e": {
      "model_module": "@jupyter-widgets/controls",
      "model_module_version": "1.5.0",
      "model_name": "FloatProgressModel",
      "state": {
       "bar_style": "success",
       "layout": "IPY_MODEL_ac0b584adc23459292d87777048a40b0",
       "max": 5,
       "style": "IPY_MODEL_f35babbbef1c4a01a76c33f2761c9a9f",
       "value": 5
      }
     },
     "c4dc53db1f4d4cd6b42bae910c97ba6d": {
      "model_module": "@jupyter-widgets/base",
      "model_module_version": "1.2.0",
      "model_name": "LayoutModel",
      "state": {}
     },
     "c5199f596ec5460ba614389bc2ee3bee": {
      "model_module": "@jupyter-widgets/controls",
      "model_module_version": "1.5.0",
      "model_name": "FloatProgressModel",
      "state": {
       "bar_style": "success",
       "layout": "IPY_MODEL_a1feb5aba57f4ae2a7f75c907f84e95a",
       "max": 5,
       "style": "IPY_MODEL_c2c1dccfb9af46b4baf5862687c010e1",
       "value": 5
      }
     },
     "c5544abf7a5a418f957e96e7b4f92a3e": {
      "model_module": "@jupyter-widgets/controls",
      "model_module_version": "1.5.0",
      "model_name": "DescriptionStyleModel",
      "state": {
       "description_width": ""
      }
     },
     "c55f9e407ac14d2eaa8e9e9af4e7f2c8": {
      "model_module": "@jupyter-widgets/controls",
      "model_module_version": "1.5.0",
      "model_name": "FloatProgressModel",
      "state": {
       "bar_style": "success",
       "layout": "IPY_MODEL_083b46b94a77457bbfc1dccf69ec46c1",
       "max": 5,
       "style": "IPY_MODEL_7745fd4ddb5849ba8ecee38b572eca4b",
       "value": 5
      }
     },
     "c5a9b54b65f44a7f884ca02ab707b0fd": {
      "model_module": "@jupyter-widgets/controls",
      "model_module_version": "1.5.0",
      "model_name": "DescriptionStyleModel",
      "state": {
       "description_width": ""
      }
     },
     "c5c4e1027e1e435abf3b881b385df919": {
      "model_module": "@jupyter-widgets/controls",
      "model_module_version": "1.5.0",
      "model_name": "DescriptionStyleModel",
      "state": {
       "description_width": ""
      }
     },
     "c5d8e5e0273d40a392f3e7a7b680b41d": {
      "model_module": "@jupyter-widgets/base",
      "model_module_version": "1.2.0",
      "model_name": "LayoutModel",
      "state": {}
     },
     "c6215366f45645dda6ebd43e77d1a70c": {
      "model_module": "@jupyter-widgets/controls",
      "model_module_version": "1.5.0",
      "model_name": "FloatProgressModel",
      "state": {
       "bar_style": "success",
       "layout": "IPY_MODEL_5ec11f3797b94b7da83b22d5f6ae01a7",
       "max": 5,
       "style": "IPY_MODEL_6611df56d528418eb2d61154d44c681a",
       "value": 5
      }
     },
     "c6af08dd9cc346b78993682f0009aeae": {
      "model_module": "@jupyter-widgets/controls",
      "model_module_version": "1.5.0",
      "model_name": "FloatProgressModel",
      "state": {
       "bar_style": "success",
       "layout": "IPY_MODEL_d7ec9745af9b4d2a936315362ab7e676",
       "max": 5,
       "style": "IPY_MODEL_2a4cac573ddd4200a220b79f9cc640e6",
       "value": 5
      }
     },
     "c6ec0a8112a546548919e8f7920b10d1": {
      "model_module": "@jupyter-widgets/controls",
      "model_module_version": "1.5.0",
      "model_name": "DescriptionStyleModel",
      "state": {
       "description_width": ""
      }
     },
     "c7086f8c502642b4806b79849823fd3a": {
      "model_module": "@jupyter-widgets/controls",
      "model_module_version": "1.5.0",
      "model_name": "DescriptionStyleModel",
      "state": {
       "description_width": ""
      }
     },
     "c73a828985394694a2c778ef34ca835b": {
      "model_module": "@jupyter-widgets/base",
      "model_module_version": "1.2.0",
      "model_name": "LayoutModel",
      "state": {}
     },
     "c76ed4c321e6406b8f90481e00d1ddeb": {
      "model_module": "@jupyter-widgets/base",
      "model_module_version": "1.2.0",
      "model_name": "LayoutModel",
      "state": {}
     },
     "c776c499d0c945a5a6cc9a49146a399b": {
      "model_module": "@jupyter-widgets/controls",
      "model_module_version": "1.5.0",
      "model_name": "DescriptionStyleModel",
      "state": {
       "description_width": ""
      }
     },
     "c79bb9184c0a4fee9957866d64a85e93": {
      "model_module": "@jupyter-widgets/controls",
      "model_module_version": "1.5.0",
      "model_name": "DescriptionStyleModel",
      "state": {
       "description_width": ""
      }
     },
     "c7ceb287649a47b4a9438a5e61e12909": {
      "model_module": "@jupyter-widgets/controls",
      "model_module_version": "1.5.0",
      "model_name": "HTMLModel",
      "state": {
       "layout": "IPY_MODEL_2ea4369e8efe4740acfb18c10eafef5d",
       "style": "IPY_MODEL_98338c32d4974b4095e63ae4c076b677",
       "value": " 5/5 [00:04&lt;00:00,  1.06it/s]"
      }
     },
     "c7f6766dd92f45e5a91d42359978673b": {
      "model_module": "@jupyter-widgets/base",
      "model_module_version": "1.2.0",
      "model_name": "LayoutModel",
      "state": {}
     },
     "c8b53b21e8044f78ac11e34269f1a1f7": {
      "model_module": "@jupyter-widgets/controls",
      "model_module_version": "1.5.0",
      "model_name": "HTMLModel",
      "state": {
       "layout": "IPY_MODEL_5c792122ac2040058801fcd7f54ab038",
       "style": "IPY_MODEL_7a183a4bd37f4ead82e72a45563333d4",
       "value": "100%"
      }
     },
     "c90e0cf7313748549dda561b1a7289ce": {
      "model_module": "@jupyter-widgets/controls",
      "model_module_version": "1.5.0",
      "model_name": "FloatProgressModel",
      "state": {
       "bar_style": "success",
       "layout": "IPY_MODEL_d03036949ff640f7b538c6eb12e2d4e7",
       "max": 5,
       "style": "IPY_MODEL_ed8540f15c3b4654b52b45d2a821e489",
       "value": 5
      }
     },
     "c941372329b94314868935bbc2d9a562": {
      "model_module": "@jupyter-widgets/controls",
      "model_module_version": "1.5.0",
      "model_name": "DescriptionStyleModel",
      "state": {
       "description_width": ""
      }
     },
     "c99e44a6bca649469f2cb01b85d22e75": {
      "model_module": "@jupyter-widgets/controls",
      "model_module_version": "1.5.0",
      "model_name": "DescriptionStyleModel",
      "state": {
       "description_width": ""
      }
     },
     "c9aad82eadc2481bbc8d5122e393b45c": {
      "model_module": "@jupyter-widgets/base",
      "model_module_version": "1.2.0",
      "model_name": "LayoutModel",
      "state": {}
     },
     "ca0eee3c1aae4f54bc7b52450cf58475": {
      "model_module": "@jupyter-widgets/controls",
      "model_module_version": "1.5.0",
      "model_name": "FloatProgressModel",
      "state": {
       "bar_style": "success",
       "layout": "IPY_MODEL_e6bfb01347c54950a21c5f07e0d30b06",
       "max": 5,
       "style": "IPY_MODEL_714cfbce50da41b7b321bb8f3d563c29",
       "value": 5
      }
     },
     "ca41f54361354e2abf7e40449389d8f0": {
      "model_module": "@jupyter-widgets/controls",
      "model_module_version": "1.5.0",
      "model_name": "HTMLModel",
      "state": {
       "layout": "IPY_MODEL_c4dc53db1f4d4cd6b42bae910c97ba6d",
       "style": "IPY_MODEL_0f390e3b093a474abdded04dd33841b1",
       "value": " 5/5 [00:00&lt;00:00, 76.74it/s]"
      }
     },
     "ca460191d92a438bb502f58340093cfb": {
      "model_module": "@jupyter-widgets/base",
      "model_module_version": "1.2.0",
      "model_name": "LayoutModel",
      "state": {}
     },
     "ca82d7710cfb4711a9df865ac1fef32b": {
      "model_module": "@jupyter-widgets/controls",
      "model_module_version": "1.5.0",
      "model_name": "HTMLModel",
      "state": {
       "layout": "IPY_MODEL_2004460e6c7448988ad21ef8a44d3709",
       "style": "IPY_MODEL_9d884d1c7e3b4ecd82f6e03171e0094a",
       "value": "100%"
      }
     },
     "cb0541f5e7a44f9ca1e06f09dc740dc6": {
      "model_module": "@jupyter-widgets/controls",
      "model_module_version": "1.5.0",
      "model_name": "HTMLModel",
      "state": {
       "layout": "IPY_MODEL_fb3aff6ae0164b79915764058b0fdc8b",
       "style": "IPY_MODEL_2a41937761664c1b9cd7abf4a3ebdb3e",
       "value": "100%"
      }
     },
     "cb5f54146ce042609805a8c6ff397d4e": {
      "model_module": "@jupyter-widgets/controls",
      "model_module_version": "1.5.0",
      "model_name": "HTMLModel",
      "state": {
       "layout": "IPY_MODEL_526aa1afc7e04f54b23d3f26bb296c0a",
       "style": "IPY_MODEL_41f13d765c254e22b7871ca721b31867",
       "value": " 5/5 [00:04&lt;00:00,  1.05it/s]"
      }
     },
     "cbd98917453542fa824b9c21ec49be08": {
      "model_module": "@jupyter-widgets/controls",
      "model_module_version": "1.5.0",
      "model_name": "DescriptionStyleModel",
      "state": {
       "description_width": ""
      }
     },
     "cc5423c7ec5c48a5b434e3f444e02735": {
      "model_module": "@jupyter-widgets/base",
      "model_module_version": "1.2.0",
      "model_name": "LayoutModel",
      "state": {}
     },
     "cc9e88d33b59413da4e7c2b5fd57adb9": {
      "model_module": "@jupyter-widgets/controls",
      "model_module_version": "1.5.0",
      "model_name": "HBoxModel",
      "state": {
       "children": [
        "IPY_MODEL_5cdbb5fed3da4e3a8b2984b658fc902a",
        "IPY_MODEL_e179d165c405441c82e36df520afb229",
        "IPY_MODEL_61fc70c47f624a9aabe7bdff023a994f"
       ],
       "layout": "IPY_MODEL_75e55b13c1b04f6b81a4c6710046b5ec"
      }
     },
     "ccb36bfd057b4396ae9f0d66334af900": {
      "model_module": "@jupyter-widgets/controls",
      "model_module_version": "1.5.0",
      "model_name": "HBoxModel",
      "state": {
       "children": [
        "IPY_MODEL_e954faf1da594a97847c49e2f070b5c8",
        "IPY_MODEL_ff19b26fdcfe4aeea3c415f8fd465c61",
        "IPY_MODEL_d5531111986c43f6957bd8972ff65bf6"
       ],
       "layout": "IPY_MODEL_48f2a57a880440d0a2edebc2e78fd983"
      }
     },
     "cd3110131d1c4233b592d82a647ea921": {
      "model_module": "@jupyter-widgets/base",
      "model_module_version": "1.2.0",
      "model_name": "LayoutModel",
      "state": {}
     },
     "cd456857b27a45159e8ca90c0079757f": {
      "model_module": "@jupyter-widgets/controls",
      "model_module_version": "1.5.0",
      "model_name": "ProgressStyleModel",
      "state": {
       "description_width": ""
      }
     },
     "cda095d8700248a6bc520b0c0fa55fb7": {
      "model_module": "@jupyter-widgets/base",
      "model_module_version": "1.2.0",
      "model_name": "LayoutModel",
      "state": {}
     },
     "cdf525ddfdf146b7a8c2f4feaac11568": {
      "model_module": "@jupyter-widgets/base",
      "model_module_version": "1.2.0",
      "model_name": "LayoutModel",
      "state": {}
     },
     "ce2a66d14b5747bf8cb930e34dc35bb9": {
      "model_module": "@jupyter-widgets/controls",
      "model_module_version": "1.5.0",
      "model_name": "HTMLModel",
      "state": {
       "layout": "IPY_MODEL_091b4e176c7c4572a55b0d5ae9e433ac",
       "style": "IPY_MODEL_e33a2d040cfd42f98aaed065457bb2bc",
       "value": " 5/5 [00:00&lt;00:00, 21.88it/s]"
      }
     },
     "ceaa65d527cb4a448d0aca35a7eec7e9": {
      "model_module": "@jupyter-widgets/controls",
      "model_module_version": "1.5.0",
      "model_name": "DescriptionStyleModel",
      "state": {
       "description_width": ""
      }
     },
     "ceb209d52a7f41459c8ed2db2fabdb0e": {
      "model_module": "@jupyter-widgets/controls",
      "model_module_version": "1.5.0",
      "model_name": "HTMLModel",
      "state": {
       "layout": "IPY_MODEL_b3dfcdf879d448df852eebf3547a3ac0",
       "style": "IPY_MODEL_c6ec0a8112a546548919e8f7920b10d1",
       "value": " 5/5 [00:04&lt;00:00,  1.05it/s]"
      }
     },
     "cec1b24d3e874fd8aac0cc0be695ca04": {
      "model_module": "@jupyter-widgets/base",
      "model_module_version": "1.2.0",
      "model_name": "LayoutModel",
      "state": {}
     },
     "cefdbcbe9d1347a2b54993c6d5db9e45": {
      "model_module": "@jupyter-widgets/controls",
      "model_module_version": "1.5.0",
      "model_name": "HTMLModel",
      "state": {
       "layout": "IPY_MODEL_2aba6ecf32494229bebadbd24c9b372f",
       "style": "IPY_MODEL_996c7ae419b245a9ab2e97a51fd78648",
       "value": "100%"
      }
     },
     "cf0dda92fe52448ab1fb9437889d3793": {
      "model_module": "@jupyter-widgets/base",
      "model_module_version": "1.2.0",
      "model_name": "LayoutModel",
      "state": {}
     },
     "cf3e8bec5eea458da15d2486a0099624": {
      "model_module": "@jupyter-widgets/controls",
      "model_module_version": "1.5.0",
      "model_name": "DescriptionStyleModel",
      "state": {
       "description_width": ""
      }
     },
     "cf5583fcbc7643b59e93e5fe9d62f93b": {
      "model_module": "@jupyter-widgets/base",
      "model_module_version": "1.2.0",
      "model_name": "LayoutModel",
      "state": {}
     },
     "cf8954a93a2443c9b430c100b2069542": {
      "model_module": "@jupyter-widgets/controls",
      "model_module_version": "1.5.0",
      "model_name": "HTMLModel",
      "state": {
       "layout": "IPY_MODEL_8f524b9af0a34e78b66280d8464b3848",
       "style": "IPY_MODEL_da3da2dabf914d33a4778ce35101c3f1",
       "value": " 5/5 [00:12&lt;00:00,  2.57s/it]"
      }
     },
     "cf8e3b1fa3e44a3b9527c9971832866b": {
      "model_module": "@jupyter-widgets/base",
      "model_module_version": "1.2.0",
      "model_name": "LayoutModel",
      "state": {}
     },
     "d01f095be9284806a4de5ef157f4625b": {
      "model_module": "@jupyter-widgets/controls",
      "model_module_version": "1.5.0",
      "model_name": "DescriptionStyleModel",
      "state": {
       "description_width": ""
      }
     },
     "d03036949ff640f7b538c6eb12e2d4e7": {
      "model_module": "@jupyter-widgets/base",
      "model_module_version": "1.2.0",
      "model_name": "LayoutModel",
      "state": {}
     },
     "d0aa112a40824a4cbed1c654637a2e8e": {
      "model_module": "@jupyter-widgets/controls",
      "model_module_version": "1.5.0",
      "model_name": "HBoxModel",
      "state": {
       "children": [
        "IPY_MODEL_dd75289ccd354a7d95a99deca1fd70c6",
        "IPY_MODEL_5eae0948c4374dabbf66c27557c039e5",
        "IPY_MODEL_5f99f014db89439db67f5184235e26bf"
       ],
       "layout": "IPY_MODEL_2eb86d33b2f84c828e4290f20aed485f"
      }
     },
     "d0e6f3acd3c345d6bedb514b89248179": {
      "model_module": "@jupyter-widgets/controls",
      "model_module_version": "1.5.0",
      "model_name": "ProgressStyleModel",
      "state": {
       "description_width": ""
      }
     },
     "d11146f8e11e4577a2b06cafcaa8fa42": {
      "model_module": "@jupyter-widgets/base",
      "model_module_version": "1.2.0",
      "model_name": "LayoutModel",
      "state": {}
     },
     "d16d0720ebb043dfb73906389df8be92": {
      "model_module": "@jupyter-widgets/controls",
      "model_module_version": "1.5.0",
      "model_name": "ProgressStyleModel",
      "state": {
       "description_width": ""
      }
     },
     "d1882f02781e4f138433ae3639e28e42": {
      "model_module": "@jupyter-widgets/base",
      "model_module_version": "1.2.0",
      "model_name": "LayoutModel",
      "state": {}
     },
     "d1b3bc372bac424fa4c4d2945df1cc7e": {
      "model_module": "@jupyter-widgets/controls",
      "model_module_version": "1.5.0",
      "model_name": "HTMLModel",
      "state": {
       "layout": "IPY_MODEL_321cb5b0909f44d3868b392ae08d0fdf",
       "style": "IPY_MODEL_0de009a92c09440bb4b38277286aae03",
       "value": " 5/5 [00:00&lt;00:00, 22.72it/s]"
      }
     },
     "d1c6f22bd699410fb0eed8625c814fef": {
      "model_module": "@jupyter-widgets/controls",
      "model_module_version": "1.5.0",
      "model_name": "HBoxModel",
      "state": {
       "children": [
        "IPY_MODEL_8a1d460dc22b4991b1ddb46855ac76d3",
        "IPY_MODEL_7390194be9484235be5a8439b8096781",
        "IPY_MODEL_2ec993b6501e4e0a8c7e43aadc57a102"
       ],
       "layout": "IPY_MODEL_a74e5a610bc347db8d50fa6f85cdec07"
      }
     },
     "d1dafde53f5f4eab92dc960220080f51": {
      "model_module": "@jupyter-widgets/controls",
      "model_module_version": "1.5.0",
      "model_name": "ProgressStyleModel",
      "state": {
       "description_width": ""
      }
     },
     "d1f1484ca0394d68b38d46149863d8ca": {
      "model_module": "@jupyter-widgets/controls",
      "model_module_version": "1.5.0",
      "model_name": "HTMLModel",
      "state": {
       "layout": "IPY_MODEL_7f62743ba81a4bc1b5d7ef5fe6a0eced",
       "style": "IPY_MODEL_9ee53296db11440ca93dd1c3ae90ded8",
       "value": " 5/5 [01:20&lt;00:00, 16.13s/it]"
      }
     },
     "d255ca01c8044082b9f3d96d79859fd4": {
      "model_module": "@jupyter-widgets/controls",
      "model_module_version": "1.5.0",
      "model_name": "FloatProgressModel",
      "state": {
       "bar_style": "success",
       "layout": "IPY_MODEL_0b022213919b42b7a7e58e4e6d3b3a43",
       "max": 5,
       "style": "IPY_MODEL_602114520f854dcda6666140e3f848ff",
       "value": 5
      }
     },
     "d2c9360d95af4a3687bc6097570fdc25": {
      "model_module": "@jupyter-widgets/controls",
      "model_module_version": "1.5.0",
      "model_name": "FloatProgressModel",
      "state": {
       "bar_style": "success",
       "layout": "IPY_MODEL_68a6bfb3b4ce446da32cf40706fe61cf",
       "max": 5,
       "style": "IPY_MODEL_4776b89fd42e417ab25080cf5b225f47",
       "value": 5
      }
     },
     "d33be881b3fa4e80bd37146cf6972399": {
      "model_module": "@jupyter-widgets/controls",
      "model_module_version": "1.5.0",
      "model_name": "HTMLModel",
      "state": {
       "layout": "IPY_MODEL_541d309ca7fb458384e358500a9f48ca",
       "style": "IPY_MODEL_15ed8b157026400e95c2e058ee505501",
       "value": " 5/5 [00:00&lt;00:00, 83.26it/s]"
      }
     },
     "d388e8b268134416a10645a0f2dbb42b": {
      "model_module": "@jupyter-widgets/controls",
      "model_module_version": "1.5.0",
      "model_name": "ProgressStyleModel",
      "state": {
       "description_width": ""
      }
     },
     "d3fed67368e24a1581ea77e3e2c27b71": {
      "model_module": "@jupyter-widgets/controls",
      "model_module_version": "1.5.0",
      "model_name": "FloatProgressModel",
      "state": {
       "bar_style": "success",
       "layout": "IPY_MODEL_8ea414380ea34dd9aa28743565a71b3f",
       "max": 5,
       "style": "IPY_MODEL_b541d0f4db2f402cb321fd5044881a85",
       "value": 5
      }
     },
     "d5531111986c43f6957bd8972ff65bf6": {
      "model_module": "@jupyter-widgets/controls",
      "model_module_version": "1.5.0",
      "model_name": "HTMLModel",
      "state": {
       "layout": "IPY_MODEL_3c7e36eeeda44a2abd96c1a7caac37f7",
       "style": "IPY_MODEL_2ad4c69d21a54ba98a7dcb00a4d4d7e0",
       "value": " 5/5 [00:00&lt;00:00, 83.26it/s]"
      }
     },
     "d5885cdac7ae48e99156c1bc75835a76": {
      "model_module": "@jupyter-widgets/base",
      "model_module_version": "1.2.0",
      "model_name": "LayoutModel",
      "state": {}
     },
     "d5b303a57d02433da134823279b3b050": {
      "model_module": "@jupyter-widgets/base",
      "model_module_version": "1.2.0",
      "model_name": "LayoutModel",
      "state": {}
     },
     "d5e8b5f553e44487be8b6e04f3e759ee": {
      "model_module": "@jupyter-widgets/base",
      "model_module_version": "1.2.0",
      "model_name": "LayoutModel",
      "state": {}
     },
     "d64c82cac2aa46e9b16a30a7ac90c8c3": {
      "model_module": "@jupyter-widgets/controls",
      "model_module_version": "1.5.0",
      "model_name": "HTMLModel",
      "state": {
       "layout": "IPY_MODEL_a752fd9014304e0cac6bbb051beb9771",
       "style": "IPY_MODEL_863c2e13e68246afb794387a8bd76b20",
       "value": "100%"
      }
     },
     "d6c866dd2e894589a19dd8d7a2eed3ca": {
      "model_module": "@jupyter-widgets/controls",
      "model_module_version": "1.5.0",
      "model_name": "HBoxModel",
      "state": {
       "children": [
        "IPY_MODEL_390eb69da356469f80724aac0c0a0b56",
        "IPY_MODEL_4074c1c621c141ec8919a36ef99bfa3c",
        "IPY_MODEL_3c404f1b97ee4faf8502636604716310"
       ],
       "layout": "IPY_MODEL_7e6d7fe4ace040e5a82f6c1dffe7aa1a"
      }
     },
     "d77766fc31b943cea48c27866cabe7b6": {
      "model_module": "@jupyter-widgets/base",
      "model_module_version": "1.2.0",
      "model_name": "LayoutModel",
      "state": {}
     },
     "d7a45f0d162942f5afbaefc91cc803b3": {
      "model_module": "@jupyter-widgets/controls",
      "model_module_version": "1.5.0",
      "model_name": "HBoxModel",
      "state": {
       "children": [
        "IPY_MODEL_4c010974f55e486b93e2de7f8b2e4831",
        "IPY_MODEL_2479d7e055194bbf9e967d1d6ca3854e",
        "IPY_MODEL_4dab21b4119341559fad7ae670b9ca76"
       ],
       "layout": "IPY_MODEL_7846036aba234ad08c1c7bb7d7ba4665"
      }
     },
     "d7ab8aed710548c98459be82b6de6d93": {
      "model_module": "@jupyter-widgets/controls",
      "model_module_version": "1.5.0",
      "model_name": "DescriptionStyleModel",
      "state": {
       "description_width": ""
      }
     },
     "d7c046bc3f3d48b39d42aebebe92c963": {
      "model_module": "@jupyter-widgets/controls",
      "model_module_version": "1.5.0",
      "model_name": "HBoxModel",
      "state": {
       "children": [
        "IPY_MODEL_218b5fee01954393854253cb90c97b1e",
        "IPY_MODEL_e0f399bd4ef34e96b844159482c92edb",
        "IPY_MODEL_df0bade853984a6c9f8dee74e23ba004"
       ],
       "layout": "IPY_MODEL_0d07e951a4f242e99bba56807736f33f"
      }
     },
     "d7ec9745af9b4d2a936315362ab7e676": {
      "model_module": "@jupyter-widgets/base",
      "model_module_version": "1.2.0",
      "model_name": "LayoutModel",
      "state": {}
     },
     "d886c4c1f45d4835bb6574059c3bdb12": {
      "model_module": "@jupyter-widgets/base",
      "model_module_version": "1.2.0",
      "model_name": "LayoutModel",
      "state": {}
     },
     "d8b07e6afdec48d39ee16ce0fd1276b1": {
      "model_module": "@jupyter-widgets/base",
      "model_module_version": "1.2.0",
      "model_name": "LayoutModel",
      "state": {}
     },
     "d9153d7c216c4f918fcab08943b24a3b": {
      "model_module": "@jupyter-widgets/controls",
      "model_module_version": "1.5.0",
      "model_name": "FloatProgressModel",
      "state": {
       "bar_style": "success",
       "layout": "IPY_MODEL_9695166c9f724540aff7fcc69dd0f150",
       "max": 5,
       "style": "IPY_MODEL_77f930f8d6654f4483563500c231bc44",
       "value": 5
      }
     },
     "d96e3a5bd7f749e785e94b60ab55c910": {
      "model_module": "@jupyter-widgets/controls",
      "model_module_version": "1.5.0",
      "model_name": "DescriptionStyleModel",
      "state": {
       "description_width": ""
      }
     },
     "d9989e45fbb44dcab1ee7856668e9422": {
      "model_module": "@jupyter-widgets/base",
      "model_module_version": "1.2.0",
      "model_name": "LayoutModel",
      "state": {}
     },
     "d9fb0e1ee57d41be92a370db48d40f0e": {
      "model_module": "@jupyter-widgets/base",
      "model_module_version": "1.2.0",
      "model_name": "LayoutModel",
      "state": {}
     },
     "da1e621c54194448b7836394c085d97e": {
      "model_module": "@jupyter-widgets/base",
      "model_module_version": "1.2.0",
      "model_name": "LayoutModel",
      "state": {}
     },
     "da208d14d40a4c909bda8937ffe84202": {
      "model_module": "@jupyter-widgets/base",
      "model_module_version": "1.2.0",
      "model_name": "LayoutModel",
      "state": {}
     },
     "da3da2dabf914d33a4778ce35101c3f1": {
      "model_module": "@jupyter-widgets/controls",
      "model_module_version": "1.5.0",
      "model_name": "DescriptionStyleModel",
      "state": {
       "description_width": ""
      }
     },
     "da5024560ea24b3eb56dfbfc76007067": {
      "model_module": "@jupyter-widgets/base",
      "model_module_version": "1.2.0",
      "model_name": "LayoutModel",
      "state": {}
     },
     "daa76f1676f940ce8068bcb5c1b9cd69": {
      "model_module": "@jupyter-widgets/base",
      "model_module_version": "1.2.0",
      "model_name": "LayoutModel",
      "state": {}
     },
     "db3e19e4148a4a4ab059bd773d70cbbb": {
      "model_module": "@jupyter-widgets/base",
      "model_module_version": "1.2.0",
      "model_name": "LayoutModel",
      "state": {}
     },
     "db57b1eb514e404b82d4b74c5f70cb80": {
      "model_module": "@jupyter-widgets/controls",
      "model_module_version": "1.5.0",
      "model_name": "ProgressStyleModel",
      "state": {
       "description_width": ""
      }
     },
     "db7c5f5515ab433d9602f29890269886": {
      "model_module": "@jupyter-widgets/controls",
      "model_module_version": "1.5.0",
      "model_name": "FloatProgressModel",
      "state": {
       "bar_style": "success",
       "layout": "IPY_MODEL_64c6c677d6fe4863adee25a4b8a9d024",
       "max": 5,
       "style": "IPY_MODEL_2ac6bdeb24b5451bbc419947470e4fdc",
       "value": 5
      }
     },
     "dbbd41ecb1b2451091ce233783df1f06": {
      "model_module": "@jupyter-widgets/controls",
      "model_module_version": "1.5.0",
      "model_name": "FloatProgressModel",
      "state": {
       "bar_style": "success",
       "layout": "IPY_MODEL_c4536e4e6c4e4955945d18c6907e3f51",
       "max": 5,
       "style": "IPY_MODEL_2385e3b72a8d4679a2ec65d4267f29a7",
       "value": 5
      }
     },
     "dbf040fd49a04a3180c85244b04afd38": {
      "model_module": "@jupyter-widgets/base",
      "model_module_version": "1.2.0",
      "model_name": "LayoutModel",
      "state": {}
     },
     "dc56186fd4184875a51db139e0302c23": {
      "model_module": "@jupyter-widgets/controls",
      "model_module_version": "1.5.0",
      "model_name": "HTMLModel",
      "state": {
       "layout": "IPY_MODEL_14f2d0f8b6b143b38dc66114b92a98a4",
       "style": "IPY_MODEL_913515b784774b878201f4cac85f04d3",
       "value": " 5/5 [13:25&lt;00:00, 162.27s/it]"
      }
     },
     "dced70961fe94729a423252fd472bc6f": {
      "model_module": "@jupyter-widgets/controls",
      "model_module_version": "1.5.0",
      "model_name": "DescriptionStyleModel",
      "state": {
       "description_width": ""
      }
     },
     "dd47c1884df14bdf858272765752df87": {
      "model_module": "@jupyter-widgets/base",
      "model_module_version": "1.2.0",
      "model_name": "LayoutModel",
      "state": {}
     },
     "dd4bf5f080ba400e88d918de8a47c83a": {
      "model_module": "@jupyter-widgets/controls",
      "model_module_version": "1.5.0",
      "model_name": "ProgressStyleModel",
      "state": {
       "description_width": ""
      }
     },
     "dd4e14fcd1d041e8a253dcb765ade844": {
      "model_module": "@jupyter-widgets/controls",
      "model_module_version": "1.5.0",
      "model_name": "FloatProgressModel",
      "state": {
       "bar_style": "success",
       "layout": "IPY_MODEL_fa0c1411c0b542adad24a3e51356e346",
       "max": 5,
       "style": "IPY_MODEL_25367b0826724d82a2ea72566dcd3142",
       "value": 5
      }
     },
     "dd75289ccd354a7d95a99deca1fd70c6": {
      "model_module": "@jupyter-widgets/controls",
      "model_module_version": "1.5.0",
      "model_name": "HTMLModel",
      "state": {
       "layout": "IPY_MODEL_5aa15136ce484db7a7e8dd2329046032",
       "style": "IPY_MODEL_1eed66e8581e4b399a30727ff210dc72",
       "value": "100%"
      }
     },
     "dd9cfbc48deb4eaf849dbeb5dda5a672": {
      "model_module": "@jupyter-widgets/base",
      "model_module_version": "1.2.0",
      "model_name": "LayoutModel",
      "state": {}
     },
     "ddab2edd07e8406c97d4606fd7e5f2f5": {
      "model_module": "@jupyter-widgets/controls",
      "model_module_version": "1.5.0",
      "model_name": "DescriptionStyleModel",
      "state": {
       "description_width": ""
      }
     },
     "ddbfd7e7cf614571b6a07f1df0ca609f": {
      "model_module": "@jupyter-widgets/base",
      "model_module_version": "1.2.0",
      "model_name": "LayoutModel",
      "state": {}
     },
     "ddcd4ea2cd2a462bbe014cafc18ff15e": {
      "model_module": "@jupyter-widgets/controls",
      "model_module_version": "1.5.0",
      "model_name": "HBoxModel",
      "state": {
       "children": [
        "IPY_MODEL_565a8971fc544c74ac69dca3575be08f",
        "IPY_MODEL_8303943df9794317ac21c8aa5f9b7aeb",
        "IPY_MODEL_27bf454023c84b0ea7137ae1d4d230a3"
       ],
       "layout": "IPY_MODEL_185880c93a0a4ebe842edfd9685023b6"
      }
     },
     "de086514e65040ebbf0657919e9f203e": {
      "model_module": "@jupyter-widgets/controls",
      "model_module_version": "1.5.0",
      "model_name": "ProgressStyleModel",
      "state": {
       "description_width": ""
      }
     },
     "de0d79e7bffd425fb4b1d11061405aa9": {
      "model_module": "@jupyter-widgets/controls",
      "model_module_version": "1.5.0",
      "model_name": "HBoxModel",
      "state": {
       "children": [
        "IPY_MODEL_8f723e2bc0f94ca2851a10498e9c26d9",
        "IPY_MODEL_425edef6f00045bfa08402af7d8c9bfc",
        "IPY_MODEL_5aac884fd06349c0b3e3995be349dcd7"
       ],
       "layout": "IPY_MODEL_ae20834006f940c1a25b25bc58c94825"
      }
     },
     "de573f6cc4904d2a94487dd2f142a6ac": {
      "model_module": "@jupyter-widgets/controls",
      "model_module_version": "1.5.0",
      "model_name": "ProgressStyleModel",
      "state": {
       "description_width": ""
      }
     },
     "dedbc3f9a6254886abf26f75357717f6": {
      "model_module": "@jupyter-widgets/base",
      "model_module_version": "1.2.0",
      "model_name": "LayoutModel",
      "state": {}
     },
     "df0bade853984a6c9f8dee74e23ba004": {
      "model_module": "@jupyter-widgets/controls",
      "model_module_version": "1.5.0",
      "model_name": "HTMLModel",
      "state": {
       "layout": "IPY_MODEL_edfec2d213af440dbe5daf7928b8f1d9",
       "style": "IPY_MODEL_b38e84e9c1c1472ab8fef141b4c60708",
       "value": " 5/5 [00:04&lt;00:00,  1.05it/s]"
      }
     },
     "df3fd0ea6bee4f9c916c49e94f81da7d": {
      "model_module": "@jupyter-widgets/controls",
      "model_module_version": "1.5.0",
      "model_name": "HBoxModel",
      "state": {
       "children": [
        "IPY_MODEL_cefdbcbe9d1347a2b54993c6d5db9e45",
        "IPY_MODEL_15c7d344626d4ca0ba5d082b65977315",
        "IPY_MODEL_bc7429dfc41c463ba29a661489f3d0ad"
       ],
       "layout": "IPY_MODEL_74a52640153747f88bfb0f1aa92edecf"
      }
     },
     "df46832b9d8a45378a3faa17142cd1e4": {
      "model_module": "@jupyter-widgets/controls",
      "model_module_version": "1.5.0",
      "model_name": "DescriptionStyleModel",
      "state": {
       "description_width": ""
      }
     },
     "df7fe5a929aa4c76b39d6d684679e039": {
      "model_module": "@jupyter-widgets/controls",
      "model_module_version": "1.5.0",
      "model_name": "DescriptionStyleModel",
      "state": {
       "description_width": ""
      }
     },
     "dffa735a868d4dd79adef16b2ec34730": {
      "model_module": "@jupyter-widgets/controls",
      "model_module_version": "1.5.0",
      "model_name": "HTMLModel",
      "state": {
       "layout": "IPY_MODEL_2512847070574d73aff32500acf54c34",
       "style": "IPY_MODEL_2e779dbcd44e43dd921efeb27f1a1be8",
       "value": "100%"
      }
     },
     "e0255d71a4ec4589ab39d77775be573f": {
      "model_module": "@jupyter-widgets/base",
      "model_module_version": "1.2.0",
      "model_name": "LayoutModel",
      "state": {}
     },
     "e07fed876d754a8e9c7f149193b0f11f": {
      "model_module": "@jupyter-widgets/controls",
      "model_module_version": "1.5.0",
      "model_name": "DescriptionStyleModel",
      "state": {
       "description_width": ""
      }
     },
     "e0c4ab4274be4ec7bb3712f9b4a8df03": {
      "model_module": "@jupyter-widgets/controls",
      "model_module_version": "1.5.0",
      "model_name": "DescriptionStyleModel",
      "state": {
       "description_width": ""
      }
     },
     "e0f399bd4ef34e96b844159482c92edb": {
      "model_module": "@jupyter-widgets/controls",
      "model_module_version": "1.5.0",
      "model_name": "FloatProgressModel",
      "state": {
       "bar_style": "success",
       "layout": "IPY_MODEL_3930b5f0c9b347b8930f4181ebdf1ce2",
       "max": 5,
       "style": "IPY_MODEL_d388e8b268134416a10645a0f2dbb42b",
       "value": 5
      }
     },
     "e11f11f9b2aa4fb8863e3f80c52da517": {
      "model_module": "@jupyter-widgets/base",
      "model_module_version": "1.2.0",
      "model_name": "LayoutModel",
      "state": {}
     },
     "e179d165c405441c82e36df520afb229": {
      "model_module": "@jupyter-widgets/controls",
      "model_module_version": "1.5.0",
      "model_name": "FloatProgressModel",
      "state": {
       "bar_style": "success",
       "layout": "IPY_MODEL_f9020cd546fc4342a68c493905d32afa",
       "max": 5,
       "style": "IPY_MODEL_3b86bf74b0a4407eb8e0ad84f343f090",
       "value": 5
      }
     },
     "e19de317c6184b61bd63ebf8f07ea04c": {
      "model_module": "@jupyter-widgets/controls",
      "model_module_version": "1.5.0",
      "model_name": "ProgressStyleModel",
      "state": {
       "description_width": ""
      }
     },
     "e1de340460dd4ade8cf563d227787af3": {
      "model_module": "@jupyter-widgets/controls",
      "model_module_version": "1.5.0",
      "model_name": "HTMLModel",
      "state": {
       "layout": "IPY_MODEL_424da3d725cc4e30b4c2b06045242058",
       "style": "IPY_MODEL_55214528b8aa4825bed88dbeea943cfe",
       "value": " 5/5 [13:24&lt;00:00, 160.72s/it]"
      }
     },
     "e23c0023364a44a09f5e43756cbca165": {
      "model_module": "@jupyter-widgets/controls",
      "model_module_version": "1.5.0",
      "model_name": "DescriptionStyleModel",
      "state": {
       "description_width": ""
      }
     },
     "e24fd042a9994ff5a218436af7bcfa2e": {
      "model_module": "@jupyter-widgets/base",
      "model_module_version": "1.2.0",
      "model_name": "LayoutModel",
      "state": {}
     },
     "e28b7625108345efa31eb5bd6f6a993d": {
      "model_module": "@jupyter-widgets/controls",
      "model_module_version": "1.5.0",
      "model_name": "DescriptionStyleModel",
      "state": {
       "description_width": ""
      }
     },
     "e29ad3ec3799498e9faef6c93be7adb3": {
      "model_module": "@jupyter-widgets/controls",
      "model_module_version": "1.5.0",
      "model_name": "HTMLModel",
      "state": {
       "layout": "IPY_MODEL_9dede5e2fb1f4fb4a7ad4dbf326cb3c7",
       "style": "IPY_MODEL_27653f35deef46bd9211c2e46aa7c3e8",
       "value": "100%"
      }
     },
     "e29e123ea35b4287a8c264fccf596638": {
      "model_module": "@jupyter-widgets/controls",
      "model_module_version": "1.5.0",
      "model_name": "HTMLModel",
      "state": {
       "layout": "IPY_MODEL_986ed9768061469bacec6bb31b718f8f",
       "style": "IPY_MODEL_aee1ba5044344fd2ac6874a5fb149b47",
       "value": " 5/5 [13:39&lt;00:00, 162.64s/it]"
      }
     },
     "e2b9ae99ef3f41678c0dc1eda35019f2": {
      "model_module": "@jupyter-widgets/base",
      "model_module_version": "1.2.0",
      "model_name": "LayoutModel",
      "state": {}
     },
     "e33a2d040cfd42f98aaed065457bb2bc": {
      "model_module": "@jupyter-widgets/controls",
      "model_module_version": "1.5.0",
      "model_name": "DescriptionStyleModel",
      "state": {
       "description_width": ""
      }
     },
     "e38e1a03162f4f2eb3e81a3bff3a88fa": {
      "model_module": "@jupyter-widgets/controls",
      "model_module_version": "1.5.0",
      "model_name": "HTMLModel",
      "state": {
       "layout": "IPY_MODEL_478040cc6b97457ba70243096b97799a",
       "style": "IPY_MODEL_e28b7625108345efa31eb5bd6f6a993d",
       "value": " 5/5 [12:52&lt;00:00, 154.36s/it]"
      }
     },
     "e3b05261793c4b3f832fa5d78247614b": {
      "model_module": "@jupyter-widgets/base",
      "model_module_version": "1.2.0",
      "model_name": "LayoutModel",
      "state": {}
     },
     "e50fe4dd938e4aaeb7cde18473c55726": {
      "model_module": "@jupyter-widgets/controls",
      "model_module_version": "1.5.0",
      "model_name": "HBoxModel",
      "state": {
       "children": [
        "IPY_MODEL_59422dd106b441d8b95432b9c1e811b7",
        "IPY_MODEL_1e4b7ca21240427c80f945dd328ef4f1",
        "IPY_MODEL_9dd21d625488426d92a0641901c06920"
       ],
       "layout": "IPY_MODEL_2f930dbf805e44cd80233946ed1a6631"
      }
     },
     "e5615450ae9c4288ad2e756c9a8a5bad": {
      "model_module": "@jupyter-widgets/base",
      "model_module_version": "1.2.0",
      "model_name": "LayoutModel",
      "state": {}
     },
     "e65493139a88452188fbca14ad6f583b": {
      "model_module": "@jupyter-widgets/controls",
      "model_module_version": "1.5.0",
      "model_name": "ProgressStyleModel",
      "state": {
       "description_width": ""
      }
     },
     "e6bfb01347c54950a21c5f07e0d30b06": {
      "model_module": "@jupyter-widgets/base",
      "model_module_version": "1.2.0",
      "model_name": "LayoutModel",
      "state": {}
     },
     "e70af7a3f3df427c9c9a94d6ed1ac7e1": {
      "model_module": "@jupyter-widgets/controls",
      "model_module_version": "1.5.0",
      "model_name": "HTMLModel",
      "state": {
       "layout": "IPY_MODEL_334ab9cfa9e1493bba8eeb5698d36e9d",
       "style": "IPY_MODEL_51cee6d50c9e40bfa025273e0b954687",
       "value": "100%"
      }
     },
     "e752a9beae4847a6af13ab158426eaa8": {
      "model_module": "@jupyter-widgets/controls",
      "model_module_version": "1.5.0",
      "model_name": "HTMLModel",
      "state": {
       "layout": "IPY_MODEL_d9989e45fbb44dcab1ee7856668e9422",
       "style": "IPY_MODEL_05f1231cc65a418c9b34ee4b577a6ed8",
       "value": "100%"
      }
     },
     "e7d3bb50de5f45b4b076b49a3454841e": {
      "model_module": "@jupyter-widgets/base",
      "model_module_version": "1.2.0",
      "model_name": "LayoutModel",
      "state": {}
     },
     "e81b91712ecd42b8b9b3f2dc50151db6": {
      "model_module": "@jupyter-widgets/base",
      "model_module_version": "1.2.0",
      "model_name": "LayoutModel",
      "state": {}
     },
     "e82aff95a9d949eabf86e1381b38c273": {
      "model_module": "@jupyter-widgets/controls",
      "model_module_version": "1.5.0",
      "model_name": "HTMLModel",
      "state": {
       "layout": "IPY_MODEL_cdf525ddfdf146b7a8c2f4feaac11568",
       "style": "IPY_MODEL_f59615344919418ca2365684d612c93d",
       "value": " 5/5 [01:28&lt;00:00, 17.93s/it]"
      }
     },
     "e84b9c690f414a8c81221c473efa95bc": {
      "model_module": "@jupyter-widgets/controls",
      "model_module_version": "1.5.0",
      "model_name": "HTMLModel",
      "state": {
       "layout": "IPY_MODEL_0637830771d6468ab1ff47eecb622734",
       "style": "IPY_MODEL_1bd1f7326de74b0d89e00081d6fced55",
       "value": " 5/5 [00:00&lt;00:00, 22.86it/s]"
      }
     },
     "e8990d3278604e72bc36b3dd4c789f97": {
      "model_module": "@jupyter-widgets/controls",
      "model_module_version": "1.5.0",
      "model_name": "FloatProgressModel",
      "state": {
       "bar_style": "success",
       "layout": "IPY_MODEL_2afceb020ffb4bee83acd594895825a9",
       "max": 5,
       "style": "IPY_MODEL_f3887d3200c54f7bad7aa45cdecd86a2",
       "value": 5
      }
     },
     "e8a8d608943d4aff9b3f26f3ec6c5b1f": {
      "model_module": "@jupyter-widgets/base",
      "model_module_version": "1.2.0",
      "model_name": "LayoutModel",
      "state": {}
     },
     "e8aec340c2fe4d68887ee4b483b11a35": {
      "model_module": "@jupyter-widgets/controls",
      "model_module_version": "1.5.0",
      "model_name": "DescriptionStyleModel",
      "state": {
       "description_width": ""
      }
     },
     "e8e8f610a5b94087bb7e9cd1467ebc96": {
      "model_module": "@jupyter-widgets/base",
      "model_module_version": "1.2.0",
      "model_name": "LayoutModel",
      "state": {}
     },
     "e9341163ac9b4bc19a5a387135811b1d": {
      "model_module": "@jupyter-widgets/base",
      "model_module_version": "1.2.0",
      "model_name": "LayoutModel",
      "state": {}
     },
     "e941090fb6874d5b9c11a9f4fd2a38ae": {
      "model_module": "@jupyter-widgets/base",
      "model_module_version": "1.2.0",
      "model_name": "LayoutModel",
      "state": {}
     },
     "e954faf1da594a97847c49e2f070b5c8": {
      "model_module": "@jupyter-widgets/controls",
      "model_module_version": "1.5.0",
      "model_name": "HTMLModel",
      "state": {
       "layout": "IPY_MODEL_98203bea58a14fe6a728e7f5b63a4fd8",
       "style": "IPY_MODEL_df7fe5a929aa4c76b39d6d684679e039",
       "value": "100%"
      }
     },
     "e9d773743d8f406f9e54079e7710b58c": {
      "model_module": "@jupyter-widgets/controls",
      "model_module_version": "1.5.0",
      "model_name": "HBoxModel",
      "state": {
       "children": [
        "IPY_MODEL_a69a05eddfb348c192f9a48f5138f361",
        "IPY_MODEL_0d4d9facfc6843eaa0c34009a02fd2b1",
        "IPY_MODEL_ec339b89e5544e40acc255520b094819"
       ],
       "layout": "IPY_MODEL_a4963feaf549477cbb27bd54987933f1"
      }
     },
     "e9dcf3229e1f4c95a129076dd7591c5b": {
      "model_module": "@jupyter-widgets/controls",
      "model_module_version": "1.5.0",
      "model_name": "DescriptionStyleModel",
      "state": {
       "description_width": ""
      }
     },
     "e9f1f903434243e587fed9c9861ef86b": {
      "model_module": "@jupyter-widgets/controls",
      "model_module_version": "1.5.0",
      "model_name": "HTMLModel",
      "state": {
       "layout": "IPY_MODEL_49e63bda2fa546b5ab31409f69879801",
       "style": "IPY_MODEL_4ddae4cff77040eda84f4db931bad6a7",
       "value": "100%"
      }
     },
     "e9fbedab48744f5595cb53ec61826377": {
      "model_module": "@jupyter-widgets/base",
      "model_module_version": "1.2.0",
      "model_name": "LayoutModel",
      "state": {}
     },
     "ea5d126f10d34f49a712489951601acd": {
      "model_module": "@jupyter-widgets/controls",
      "model_module_version": "1.5.0",
      "model_name": "DescriptionStyleModel",
      "state": {
       "description_width": ""
      }
     },
     "ea684f24320043e48e84cb5a8b04a2db": {
      "model_module": "@jupyter-widgets/controls",
      "model_module_version": "1.5.0",
      "model_name": "DescriptionStyleModel",
      "state": {
       "description_width": ""
      }
     },
     "eb4294423bbb4d9b856f1aa1cc61fc46": {
      "model_module": "@jupyter-widgets/controls",
      "model_module_version": "1.5.0",
      "model_name": "HTMLModel",
      "state": {
       "layout": "IPY_MODEL_b0cf40e888f5473cb076cdbff0e01f0c",
       "style": "IPY_MODEL_1a6806140b0f44e1b8173a5a80ebeb08",
       "value": " 5/5 [00:00&lt;00:00, 22.63it/s]"
      }
     },
     "eb62da4245c9480f9eeb7e8bb1305e93": {
      "model_module": "@jupyter-widgets/controls",
      "model_module_version": "1.5.0",
      "model_name": "HBoxModel",
      "state": {
       "children": [
        "IPY_MODEL_a0e5e1837b5d48cd8fd7b2fdea863ce6",
        "IPY_MODEL_4afab328669f4450b1726f56b2152c04",
        "IPY_MODEL_439de40f4f9c43be90eaea72a8bd0d2c"
       ],
       "layout": "IPY_MODEL_d8b07e6afdec48d39ee16ce0fd1276b1"
      }
     },
     "eb747562c0904b439a97a3d861e246d6": {
      "model_module": "@jupyter-widgets/controls",
      "model_module_version": "1.5.0",
      "model_name": "HBoxModel",
      "state": {
       "children": [
        "IPY_MODEL_335d7e651cf9458a91a7287da9869a0d",
        "IPY_MODEL_c90e0cf7313748549dda561b1a7289ce",
        "IPY_MODEL_814df62db13c464f9ba8f825cb644752"
       ],
       "layout": "IPY_MODEL_5ac033b57538499caf0ac40ea9c51488"
      }
     },
     "eba518406a8e4de6bb6962db2f905d0b": {
      "model_module": "@jupyter-widgets/base",
      "model_module_version": "1.2.0",
      "model_name": "LayoutModel",
      "state": {}
     },
     "ec339b89e5544e40acc255520b094819": {
      "model_module": "@jupyter-widgets/controls",
      "model_module_version": "1.5.0",
      "model_name": "HTMLModel",
      "state": {
       "layout": "IPY_MODEL_d5b303a57d02433da134823279b3b050",
       "style": "IPY_MODEL_91e16ba41ae7403f81b7077211b5e164",
       "value": " 5/5 [00:05&lt;00:00,  1.10s/it]"
      }
     },
     "ec717cec85ed4d0aba63d35b07fe1e8b": {
      "model_module": "@jupyter-widgets/controls",
      "model_module_version": "1.5.0",
      "model_name": "DescriptionStyleModel",
      "state": {
       "description_width": ""
      }
     },
     "ece6196f98314acc917e5298c70df303": {
      "model_module": "@jupyter-widgets/controls",
      "model_module_version": "1.5.0",
      "model_name": "FloatProgressModel",
      "state": {
       "bar_style": "success",
       "layout": "IPY_MODEL_39df22980cf34af1965da9cabb2428c4",
       "max": 5,
       "style": "IPY_MODEL_fb8638c898854eccb790eeb40f3d5e31",
       "value": 5
      }
     },
     "ed1aadb926e64db1904576e43fddfdc8": {
      "model_module": "@jupyter-widgets/controls",
      "model_module_version": "1.5.0",
      "model_name": "FloatProgressModel",
      "state": {
       "bar_style": "success",
       "layout": "IPY_MODEL_db3e19e4148a4a4ab059bd773d70cbbb",
       "max": 5,
       "style": "IPY_MODEL_9e02b2bb64414e3daf421d6547110344",
       "value": 5
      }
     },
     "ed52d8f4ea2d427f82b9ea49818256ad": {
      "model_module": "@jupyter-widgets/base",
      "model_module_version": "1.2.0",
      "model_name": "LayoutModel",
      "state": {}
     },
     "ed8540f15c3b4654b52b45d2a821e489": {
      "model_module": "@jupyter-widgets/controls",
      "model_module_version": "1.5.0",
      "model_name": "ProgressStyleModel",
      "state": {
       "description_width": ""
      }
     },
     "ed8c020be49e490e9fa428eddac7391d": {
      "model_module": "@jupyter-widgets/base",
      "model_module_version": "1.2.0",
      "model_name": "LayoutModel",
      "state": {}
     },
     "ed8c651c99004c09b9b0712587e5ff21": {
      "model_module": "@jupyter-widgets/controls",
      "model_module_version": "1.5.0",
      "model_name": "HBoxModel",
      "state": {
       "children": [
        "IPY_MODEL_c1b9cbbd63b546efb82cad4f616e2023",
        "IPY_MODEL_96f791f2f0d94e84830741e83dcec2fd",
        "IPY_MODEL_f70bae3b40e7404c8991049eb4c31ea5"
       ],
       "layout": "IPY_MODEL_e3b05261793c4b3f832fa5d78247614b"
      }
     },
     "edb698a8f9224812880c4e969f48e9e7": {
      "model_module": "@jupyter-widgets/controls",
      "model_module_version": "1.5.0",
      "model_name": "HBoxModel",
      "state": {
       "children": [
        "IPY_MODEL_8eff175ade424340a763f9323c0a1334",
        "IPY_MODEL_5ff9f249f3c84c1a937c15a5bc9b5e9d",
        "IPY_MODEL_074b30931cb143d8ac06001356022d2d"
       ],
       "layout": "IPY_MODEL_194214182c1f414997ec4faa32d51493"
      }
     },
     "ede25b28e3c84dca84c4f228ee25005a": {
      "model_module": "@jupyter-widgets/controls",
      "model_module_version": "1.5.0",
      "model_name": "ProgressStyleModel",
      "state": {
       "description_width": ""
      }
     },
     "edfec2d213af440dbe5daf7928b8f1d9": {
      "model_module": "@jupyter-widgets/base",
      "model_module_version": "1.2.0",
      "model_name": "LayoutModel",
      "state": {}
     },
     "eef50e6a68c34fd685fcb0e85d1f61bd": {
      "model_module": "@jupyter-widgets/controls",
      "model_module_version": "1.5.0",
      "model_name": "HTMLModel",
      "state": {
       "layout": "IPY_MODEL_b3fbcd2736ef4f62bd86cde557e2e574",
       "style": "IPY_MODEL_54acb68d84c94dd6bc91dcf96df534f6",
       "value": " 5/5 [01:27&lt;00:00, 17.44s/it]"
      }
     },
     "eefaac2f18844c8a9ba4f8df1b9d7131": {
      "model_module": "@jupyter-widgets/base",
      "model_module_version": "1.2.0",
      "model_name": "LayoutModel",
      "state": {}
     },
     "ef02e5b321b941e5b2ec37e9aeaff71a": {
      "model_module": "@jupyter-widgets/base",
      "model_module_version": "1.2.0",
      "model_name": "LayoutModel",
      "state": {}
     },
     "efc618dbf1614c00ba3bb7559ba0a1fa": {
      "model_module": "@jupyter-widgets/base",
      "model_module_version": "1.2.0",
      "model_name": "LayoutModel",
      "state": {}
     },
     "f01fce4788f745edb0ec0e4df8c968bf": {
      "model_module": "@jupyter-widgets/controls",
      "model_module_version": "1.5.0",
      "model_name": "HBoxModel",
      "state": {
       "children": [
        "IPY_MODEL_11080b98402341248b244eeca0341bb8",
        "IPY_MODEL_d255ca01c8044082b9f3d96d79859fd4",
        "IPY_MODEL_6dcd2b47626d4f6bb426a9a61e259690"
       ],
       "layout": "IPY_MODEL_e7d3bb50de5f45b4b076b49a3454841e"
      }
     },
     "f08b3aaa49414e4b8c9264b2ecd8f799": {
      "model_module": "@jupyter-widgets/controls",
      "model_module_version": "1.5.0",
      "model_name": "HTMLModel",
      "state": {
       "layout": "IPY_MODEL_ba8b58c0a05c43d186b2992768776b5b",
       "style": "IPY_MODEL_29055097eec1481c91f3295cca0af819",
       "value": "100%"
      }
     },
     "f0da46bc17a942429e6be8750f145d47": {
      "model_module": "@jupyter-widgets/controls",
      "model_module_version": "1.5.0",
      "model_name": "HBoxModel",
      "state": {
       "children": [
        "IPY_MODEL_760b04fbcb724b44be1932876de8a705",
        "IPY_MODEL_dd4e14fcd1d041e8a253dcb765ade844",
        "IPY_MODEL_a05558f14eee47be8788e1dd4ab618bc"
       ],
       "layout": "IPY_MODEL_323e215c011f49b8b1030405a0df816b"
      }
     },
     "f13f494b7a704f2cae3d8546b8be3160": {
      "model_module": "@jupyter-widgets/controls",
      "model_module_version": "1.5.0",
      "model_name": "HTMLModel",
      "state": {
       "layout": "IPY_MODEL_9e66005755b34f9f87198812763cda83",
       "style": "IPY_MODEL_c1568735afcb4c83a16b05a6e5dbafc0",
       "value": "100%"
      }
     },
     "f192e36d7d2e46629eaa74ab57cc0345": {
      "model_module": "@jupyter-widgets/base",
      "model_module_version": "1.2.0",
      "model_name": "LayoutModel",
      "state": {}
     },
     "f1a7eeb4b83a442fbb32e22b3f4ada78": {
      "model_module": "@jupyter-widgets/controls",
      "model_module_version": "1.5.0",
      "model_name": "HTMLModel",
      "state": {
       "layout": "IPY_MODEL_7cf2fbebf7bf4a9cba617e6eb837c00e",
       "style": "IPY_MODEL_01aef51753954d4fbb248707df99636d",
       "value": "100%"
      }
     },
     "f1b06985a10f4954b613e343b6217d6e": {
      "model_module": "@jupyter-widgets/controls",
      "model_module_version": "1.5.0",
      "model_name": "ProgressStyleModel",
      "state": {
       "description_width": ""
      }
     },
     "f20a5b2bb1fa4492bae5cdb3adbbf9b7": {
      "model_module": "@jupyter-widgets/base",
      "model_module_version": "1.2.0",
      "model_name": "LayoutModel",
      "state": {}
     },
     "f2c491db35b0402a81462365524d7c3c": {
      "model_module": "@jupyter-widgets/controls",
      "model_module_version": "1.5.0",
      "model_name": "DescriptionStyleModel",
      "state": {
       "description_width": ""
      }
     },
     "f30dacfc1c274ac68e00c5be1c6628d6": {
      "model_module": "@jupyter-widgets/controls",
      "model_module_version": "1.5.0",
      "model_name": "DescriptionStyleModel",
      "state": {
       "description_width": ""
      }
     },
     "f35babbbef1c4a01a76c33f2761c9a9f": {
      "model_module": "@jupyter-widgets/controls",
      "model_module_version": "1.5.0",
      "model_name": "ProgressStyleModel",
      "state": {
       "description_width": ""
      }
     },
     "f3887d3200c54f7bad7aa45cdecd86a2": {
      "model_module": "@jupyter-widgets/controls",
      "model_module_version": "1.5.0",
      "model_name": "ProgressStyleModel",
      "state": {
       "description_width": ""
      }
     },
     "f4e2fa87c5204b228e45fd70e184b1ce": {
      "model_module": "@jupyter-widgets/controls",
      "model_module_version": "1.5.0",
      "model_name": "ProgressStyleModel",
      "state": {
       "description_width": ""
      }
     },
     "f59615344919418ca2365684d612c93d": {
      "model_module": "@jupyter-widgets/controls",
      "model_module_version": "1.5.0",
      "model_name": "DescriptionStyleModel",
      "state": {
       "description_width": ""
      }
     },
     "f5a2362fa6ba43d0a7cca9c7096db6b4": {
      "model_module": "@jupyter-widgets/base",
      "model_module_version": "1.2.0",
      "model_name": "LayoutModel",
      "state": {}
     },
     "f5d1c3cec37a49bcb183b94df9f48f24": {
      "model_module": "@jupyter-widgets/controls",
      "model_module_version": "1.5.0",
      "model_name": "FloatProgressModel",
      "state": {
       "bar_style": "success",
       "layout": "IPY_MODEL_1a85920d92e64842affcac975c36be6f",
       "max": 5,
       "style": "IPY_MODEL_e19de317c6184b61bd63ebf8f07ea04c",
       "value": 5
      }
     },
     "f637b7e19f84429eaca5059ce25e2cab": {
      "model_module": "@jupyter-widgets/controls",
      "model_module_version": "1.5.0",
      "model_name": "HTMLModel",
      "state": {
       "layout": "IPY_MODEL_3fc38d76c63b4a73958195274a88140b",
       "style": "IPY_MODEL_d7ab8aed710548c98459be82b6de6d93",
       "value": "100%"
      }
     },
     "f63b0d94f6a34f0fb8433fdf62403883": {
      "model_module": "@jupyter-widgets/controls",
      "model_module_version": "1.5.0",
      "model_name": "HBoxModel",
      "state": {
       "children": [
        "IPY_MODEL_b5966fc6b6b14a279a4c35f3bf375dee",
        "IPY_MODEL_c55f9e407ac14d2eaa8e9e9af4e7f2c8",
        "IPY_MODEL_ac6e8e0b175c49e980ecf6682f8f9c22"
       ],
       "layout": "IPY_MODEL_397f40c7207440099948959189cd5ac7"
      }
     },
     "f70bae3b40e7404c8991049eb4c31ea5": {
      "model_module": "@jupyter-widgets/controls",
      "model_module_version": "1.5.0",
      "model_name": "HTMLModel",
      "state": {
       "layout": "IPY_MODEL_1562f706d4ac43a5b0803aeb5d8f051b",
       "style": "IPY_MODEL_b6016a60576c494fa5b17ee6a35c4809",
       "value": " 5/5 [00:11&lt;00:00,  2.36s/it]"
      }
     },
     "f76f2b7af2f344bfbab50a0406301930": {
      "model_module": "@jupyter-widgets/controls",
      "model_module_version": "1.5.0",
      "model_name": "ProgressStyleModel",
      "state": {
       "description_width": ""
      }
     },
     "f783a069935b463c806392ff43d8ce4d": {
      "model_module": "@jupyter-widgets/base",
      "model_module_version": "1.2.0",
      "model_name": "LayoutModel",
      "state": {}
     },
     "f7f788cec25a42308118a5c4ca60cdcc": {
      "model_module": "@jupyter-widgets/controls",
      "model_module_version": "1.5.0",
      "model_name": "HBoxModel",
      "state": {
       "children": [
        "IPY_MODEL_ca82d7710cfb4711a9df865ac1fef32b",
        "IPY_MODEL_852aec470c8e47c68fe544d16a199152",
        "IPY_MODEL_4bc985b393734567b0a22d16261033bd"
       ],
       "layout": "IPY_MODEL_57b92a24ef954e61a54722278d24fa63"
      }
     },
     "f822af2f773249e38e6db9a28dfb7c87": {
      "model_module": "@jupyter-widgets/base",
      "model_module_version": "1.2.0",
      "model_name": "LayoutModel",
      "state": {}
     },
     "f832eda04c914eeeb2c0b9957033cf90": {
      "model_module": "@jupyter-widgets/controls",
      "model_module_version": "1.5.0",
      "model_name": "DescriptionStyleModel",
      "state": {
       "description_width": ""
      }
     },
     "f8867ed551ad49448bdcfc3c94e1d945": {
      "model_module": "@jupyter-widgets/controls",
      "model_module_version": "1.5.0",
      "model_name": "ProgressStyleModel",
      "state": {
       "description_width": ""
      }
     },
     "f8a73fb3979345db95f4468dcd45bb5b": {
      "model_module": "@jupyter-widgets/base",
      "model_module_version": "1.2.0",
      "model_name": "LayoutModel",
      "state": {}
     },
     "f9020cd546fc4342a68c493905d32afa": {
      "model_module": "@jupyter-widgets/base",
      "model_module_version": "1.2.0",
      "model_name": "LayoutModel",
      "state": {}
     },
     "f941ebbf52174c238068811411f1f574": {
      "model_module": "@jupyter-widgets/controls",
      "model_module_version": "1.5.0",
      "model_name": "HBoxModel",
      "state": {
       "children": [
        "IPY_MODEL_070e698399c245e5a1cbe3bf9c3b3694",
        "IPY_MODEL_c3c18e1c1fdb44ccaada107e5cfdc10d",
        "IPY_MODEL_0405af4906af4010b3fe2a3f10959a52"
       ],
       "layout": "IPY_MODEL_dedbc3f9a6254886abf26f75357717f6"
      }
     },
     "f9911eedaae04c9da89e1ac13277ec5f": {
      "model_module": "@jupyter-widgets/controls",
      "model_module_version": "1.5.0",
      "model_name": "DescriptionStyleModel",
      "state": {
       "description_width": ""
      }
     },
     "fa0c1411c0b542adad24a3e51356e346": {
      "model_module": "@jupyter-widgets/base",
      "model_module_version": "1.2.0",
      "model_name": "LayoutModel",
      "state": {}
     },
     "fa7827e0008f4d2698f5e4f02ea9d8fe": {
      "model_module": "@jupyter-widgets/controls",
      "model_module_version": "1.5.0",
      "model_name": "HTMLModel",
      "state": {
       "layout": "IPY_MODEL_3695457d99b94e2bb731869122259df2",
       "style": "IPY_MODEL_c941372329b94314868935bbc2d9a562",
       "value": " 5/5 [01:20&lt;00:00, 16.09s/it]"
      }
     },
     "fa7d9d0b644648b0ab9b0da03fea34ac": {
      "model_module": "@jupyter-widgets/controls",
      "model_module_version": "1.5.0",
      "model_name": "DescriptionStyleModel",
      "state": {
       "description_width": ""
      }
     },
     "fac0abdd0ca84c918ef32699081d4c29": {
      "model_module": "@jupyter-widgets/base",
      "model_module_version": "1.2.0",
      "model_name": "LayoutModel",
      "state": {}
     },
     "fae5ed9f11b34f909882f9bdde1d6450": {
      "model_module": "@jupyter-widgets/base",
      "model_module_version": "1.2.0",
      "model_name": "LayoutModel",
      "state": {}
     },
     "fb3aff6ae0164b79915764058b0fdc8b": {
      "model_module": "@jupyter-widgets/base",
      "model_module_version": "1.2.0",
      "model_name": "LayoutModel",
      "state": {}
     },
     "fb8638c898854eccb790eeb40f3d5e31": {
      "model_module": "@jupyter-widgets/controls",
      "model_module_version": "1.5.0",
      "model_name": "ProgressStyleModel",
      "state": {
       "description_width": ""
      }
     },
     "fbcc77b30ddf42ad955e03b8880d507a": {
      "model_module": "@jupyter-widgets/controls",
      "model_module_version": "1.5.0",
      "model_name": "HTMLModel",
      "state": {
       "layout": "IPY_MODEL_285e4461a28b4b71be411e38c4308e16",
       "style": "IPY_MODEL_073582ef38044441828583caa172ab2c",
       "value": "100%"
      }
     },
     "fbd68ada16724129ac8794036260f2bd": {
      "model_module": "@jupyter-widgets/controls",
      "model_module_version": "1.5.0",
      "model_name": "HTMLModel",
      "state": {
       "layout": "IPY_MODEL_47eefa3b4c6a40febc44ef6f4d998318",
       "style": "IPY_MODEL_df46832b9d8a45378a3faa17142cd1e4",
       "value": " 5/5 [00:04&lt;00:00,  1.02it/s]"
      }
     },
     "fc08fa1d49d44c4dbf5e939058b800a9": {
      "model_module": "@jupyter-widgets/base",
      "model_module_version": "1.2.0",
      "model_name": "LayoutModel",
      "state": {}
     },
     "fc66d8de66364e48b29f0a447c035e85": {
      "model_module": "@jupyter-widgets/controls",
      "model_module_version": "1.5.0",
      "model_name": "HTMLModel",
      "state": {
       "layout": "IPY_MODEL_ab73f440be094f89b9b231227c131968",
       "style": "IPY_MODEL_9ec107234151473f8e37dabfe2d15fac",
       "value": " 5/5 [00:00&lt;00:00, 18.83it/s]"
      }
     },
     "fd966b2511d3403dba6d3ba9cebc8814": {
      "model_module": "@jupyter-widgets/base",
      "model_module_version": "1.2.0",
      "model_name": "LayoutModel",
      "state": {}
     },
     "feac8d3f942b412f922152d6caac9ed8": {
      "model_module": "@jupyter-widgets/base",
      "model_module_version": "1.2.0",
      "model_name": "LayoutModel",
      "state": {}
     },
     "fec7cd2724bd4a29805ebb858b06a07c": {
      "model_module": "@jupyter-widgets/base",
      "model_module_version": "1.2.0",
      "model_name": "LayoutModel",
      "state": {}
     },
     "fed63395148347b48c7559401b09a853": {
      "model_module": "@jupyter-widgets/base",
      "model_module_version": "1.2.0",
      "model_name": "LayoutModel",
      "state": {}
     },
     "fef1e48d4a7d460789de5c4c90169833": {
      "model_module": "@jupyter-widgets/base",
      "model_module_version": "1.2.0",
      "model_name": "LayoutModel",
      "state": {}
     },
     "ff19b26fdcfe4aeea3c415f8fd465c61": {
      "model_module": "@jupyter-widgets/controls",
      "model_module_version": "1.5.0",
      "model_name": "FloatProgressModel",
      "state": {
       "bar_style": "success",
       "layout": "IPY_MODEL_8539324fd39f45fe81285607c261688d",
       "max": 5,
       "style": "IPY_MODEL_630a701c557b44808b88054b94e67a89",
       "value": 5
      }
     },
     "ff28fda0a7f24f909649a2d6eda0bdf7": {
      "model_module": "@jupyter-widgets/base",
      "model_module_version": "1.2.0",
      "model_name": "LayoutModel",
      "state": {}
     },
     "ff965be747a14387b52f27ea6c34c159": {
      "model_module": "@jupyter-widgets/controls",
      "model_module_version": "1.5.0",
      "model_name": "ProgressStyleModel",
      "state": {
       "description_width": ""
      }
     },
     "ff9e8402b91e47d0a6ecc9244c3490fb": {
      "model_module": "@jupyter-widgets/controls",
      "model_module_version": "1.5.0",
      "model_name": "ProgressStyleModel",
      "state": {
       "description_width": ""
      }
     }
    },
    "version_major": 2,
    "version_minor": 0
   }
  }
 },
 "nbformat": 4,
 "nbformat_minor": 4
}
