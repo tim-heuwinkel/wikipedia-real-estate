{
 "cells": [
  {
   "cell_type": "markdown",
   "metadata": {},
   "source": [
    "# Processing Wikipedia articles"
   ]
  },
  {
   "cell_type": "markdown",
   "metadata": {},
   "source": [
    "This notebook processes the downloaded and decompressed Wikipedia articles and should therefore be run __after__ ``download_wikipedia.ipynb``. Distance to nearest POI for each category and spatially weighted text based features will be created."
   ]
  },
  {
   "cell_type": "markdown",
   "metadata": {},
   "source": [
    "### Import packages"
   ]
  },
  {
   "cell_type": "code",
   "execution_count": 1,
   "metadata": {},
   "outputs": [],
   "source": [
    "import os\n",
    "import gc\n",
    "import json\n",
    "import re\n",
    "from collections import Counter\n",
    "import warnings\n",
    "warnings.filterwarnings(action=\"ignore\")\n",
    "\n",
    "from tqdm.notebook import tqdm\n",
    "\n",
    "from nltk.tokenize import RegexpTokenizer\n",
    "from nltk.corpus import stopwords\n",
    "from nltk.stem.wordnet import WordNetLemmatizer\n",
    "\n",
    "from sklearn.feature_extraction.text import CountVectorizer, TfidfTransformer, TfidfVectorizer\n",
    "\n",
    "import pandas as pd\n",
    "import matplotlib.pyplot as plt\n",
    "import numpy as np\n",
    "import pickle\n",
    "from geopy import distance\n",
    "\n",
    "import multiprocessor_wiki"
   ]
  },
  {
   "cell_type": "markdown",
   "metadata": {},
   "source": [
    "Definde constants.\n",
    "\n",
    "- ``PATH``: Path to the base data folder\n",
    "- ``CPU_CORES``: How many cores to use to process data, default=all\n",
    "- ``MAX_DIST``: Maximum radius around each house for Wikipedia articles to be considered for text features"
   ]
  },
  {
   "cell_type": "code",
   "execution_count": 2,
   "metadata": {},
   "outputs": [],
   "source": [
    "PATH = \"C:/Users/Tim/.keras/datasets/wikipedia_real_estate/\"\n",
    "CPU_CORES = os.cpu_count()\n",
    "MAX_DIST = 5500"
   ]
  },
  {
   "cell_type": "markdown",
   "metadata": {},
   "source": [
    "Load data."
   ]
  },
  {
   "cell_type": "code",
   "execution_count": 3,
   "metadata": {},
   "outputs": [],
   "source": [
    "with open(PATH+\"wikipedia/wikipedia_selected.ndjson\") as fin:\n",
    "    data_loaded = json.load(fin)"
   ]
  },
  {
   "cell_type": "code",
   "execution_count": 4,
   "metadata": {
    "scrolled": false
   },
   "outputs": [
    {
     "name": "stdout",
     "output_type": "stream",
     "text": [
      "(2407, 7)\n"
     ]
    },
    {
     "data": {
      "text/html": [
       "<div>\n",
       "<style scoped>\n",
       "    .dataframe tbody tr th:only-of-type {\n",
       "        vertical-align: middle;\n",
       "    }\n",
       "\n",
       "    .dataframe tbody tr th {\n",
       "        vertical-align: top;\n",
       "    }\n",
       "\n",
       "    .dataframe thead th {\n",
       "        text-align: right;\n",
       "    }\n",
       "</style>\n",
       "<table border=\"1\" class=\"dataframe\">\n",
       "  <thead>\n",
       "    <tr style=\"text-align: right;\">\n",
       "      <th></th>\n",
       "      <th>name</th>\n",
       "      <th>coords</th>\n",
       "      <th>templates</th>\n",
       "      <th>text</th>\n",
       "      <th>wikilinks</th>\n",
       "      <th>ext_links</th>\n",
       "      <th>text_length</th>\n",
       "    </tr>\n",
       "  </thead>\n",
       "  <tbody>\n",
       "    <tr>\n",
       "      <th>0</th>\n",
       "      <td>Washington County Courthouse (Pennsylvania)</td>\n",
       "      <td>[40.170449999999995, -80.24580277777778]</td>\n",
       "      <td>{'name': 'Washington County Courthouse', 'desi...</td>\n",
       "      <td>The Washington County Courthouse is located in...</td>\n",
       "      <td>[Washington, Pennsylvania, Frederick J. Osterl...</td>\n",
       "      <td>[http://www.washcolandmarks.com/landmark_regis...</td>\n",
       "      <td>1257</td>\n",
       "    </tr>\n",
       "    <tr>\n",
       "      <th>1</th>\n",
       "      <td>Wild Things Park</td>\n",
       "      <td>[40.15416666666667, -80.28361111111111]</td>\n",
       "      <td>{'stadium_name': 'Wild Things Park', 'nickname...</td>\n",
       "      <td>Wild Things Park is a 3,200-seat multi-purpose...</td>\n",
       "      <td>[File:Falconi Field, now known as CONSOL Energ...</td>\n",
       "      <td>[http://www.consolenergy.com/Powering/Partners...</td>\n",
       "      <td>4461</td>\n",
       "    </tr>\n",
       "    <tr>\n",
       "      <th>2</th>\n",
       "      <td>Thackeray Hall</td>\n",
       "      <td>[40.444316666666666, -79.95726388888889]</td>\n",
       "      <td>{'name': 'Thackeray Hall', 'nrhp_type': 'cp', ...</td>\n",
       "      <td>Thackeray Hall is an academic building of the ...</td>\n",
       "      <td>[University of Pittsburgh, Schenley Farms Hist...</td>\n",
       "      <td>[https://web.archive.org/web/20090628170337/ht...</td>\n",
       "      <td>2357</td>\n",
       "    </tr>\n",
       "    <tr>\n",
       "      <th>3</th>\n",
       "      <td>Immaculate Heart of Mary Church (Pittsburgh)</td>\n",
       "      <td>[40.45638888888889, -79.96777777777778]</td>\n",
       "      <td>{'name': 'Immaculate Heart of Mary Church', 'n...</td>\n",
       "      <td>Immaculate Heart of Mary Church in Pittsburgh,...</td>\n",
       "      <td>[William P. Ginther, Polish language, Roman Ca...</td>\n",
       "      <td>[http://www.phlf.org/wp-content/uploads/2007/0...</td>\n",
       "      <td>2978</td>\n",
       "    </tr>\n",
       "    <tr>\n",
       "      <th>4</th>\n",
       "      <td>St. Stanislaus Kostka Church (Pittsburgh)</td>\n",
       "      <td>[40.45232222222222, -79.98361111111112]</td>\n",
       "      <td>{'name': 'St. Stanislaus Kostka Roman Catholic...</td>\n",
       "      <td>St. Stanislaus Kostka Church in Pittsburgh, Pe...</td>\n",
       "      <td>[Pittsburgh, Pennsylvania, Frederick C. Sauer,...</td>\n",
       "      <td>[http://www.phlf.org/wp-content/uploads/2007/0...</td>\n",
       "      <td>5254</td>\n",
       "    </tr>\n",
       "  </tbody>\n",
       "</table>\n",
       "</div>"
      ],
      "text/plain": [
       "                                           name  \\\n",
       "0   Washington County Courthouse (Pennsylvania)   \n",
       "1                              Wild Things Park   \n",
       "2                                Thackeray Hall   \n",
       "3  Immaculate Heart of Mary Church (Pittsburgh)   \n",
       "4     St. Stanislaus Kostka Church (Pittsburgh)   \n",
       "\n",
       "                                     coords  \\\n",
       "0  [40.170449999999995, -80.24580277777778]   \n",
       "1   [40.15416666666667, -80.28361111111111]   \n",
       "2  [40.444316666666666, -79.95726388888889]   \n",
       "3   [40.45638888888889, -79.96777777777778]   \n",
       "4   [40.45232222222222, -79.98361111111112]   \n",
       "\n",
       "                                           templates  \\\n",
       "0  {'name': 'Washington County Courthouse', 'desi...   \n",
       "1  {'stadium_name': 'Wild Things Park', 'nickname...   \n",
       "2  {'name': 'Thackeray Hall', 'nrhp_type': 'cp', ...   \n",
       "3  {'name': 'Immaculate Heart of Mary Church', 'n...   \n",
       "4  {'name': 'St. Stanislaus Kostka Roman Catholic...   \n",
       "\n",
       "                                                text  \\\n",
       "0  The Washington County Courthouse is located in...   \n",
       "1  Wild Things Park is a 3,200-seat multi-purpose...   \n",
       "2  Thackeray Hall is an academic building of the ...   \n",
       "3  Immaculate Heart of Mary Church in Pittsburgh,...   \n",
       "4  St. Stanislaus Kostka Church in Pittsburgh, Pe...   \n",
       "\n",
       "                                           wikilinks  \\\n",
       "0  [Washington, Pennsylvania, Frederick J. Osterl...   \n",
       "1  [File:Falconi Field, now known as CONSOL Energ...   \n",
       "2  [University of Pittsburgh, Schenley Farms Hist...   \n",
       "3  [William P. Ginther, Polish language, Roman Ca...   \n",
       "4  [Pittsburgh, Pennsylvania, Frederick C. Sauer,...   \n",
       "\n",
       "                                           ext_links  text_length  \n",
       "0  [http://www.washcolandmarks.com/landmark_regis...         1257  \n",
       "1  [http://www.consolenergy.com/Powering/Partners...         4461  \n",
       "2  [https://web.archive.org/web/20090628170337/ht...         2357  \n",
       "3  [http://www.phlf.org/wp-content/uploads/2007/0...         2978  \n",
       "4  [http://www.phlf.org/wp-content/uploads/2007/0...         5254  "
      ]
     },
     "execution_count": 4,
     "metadata": {},
     "output_type": "execute_result"
    }
   ],
   "source": [
    "df = pd.DataFrame(data_loaded).rename(columns={0: \"name\", 1: \"coords\", 2: \"templates\", 3: \"text\",\n",
    "                                               4: \"wikilinks\", 5: \"ext_links\", 6: \"text_length\"})\n",
    "print(df.shape)\n",
    "df.head(5)"
   ]
  },
  {
   "cell_type": "markdown",
   "metadata": {},
   "source": [
    "Explore keywords."
   ]
  },
  {
   "cell_type": "code",
   "execution_count": 5,
   "metadata": {},
   "outputs": [
    {
     "data": {
      "text/plain": [
       "{'name': 'Washington County Courthouse',\n",
       " 'designated_other1_name': 'Washington County History  &  Landmarks Foundation Landmark',\n",
       " 'designated_other1_link': 'Washington County History  &  Landmarks Foundation',\n",
       " 'designated_other1_color': '#f5dc0f',\n",
       " 'image': 'Washington County Courthouse (Pennsylvania) south.jpg',\n",
       " 'caption': 'The Courthouse in January 2015',\n",
       " 'location': '1 South Main Street, < br/ > Washington, Pennsylvania',\n",
       " 'locmapin': 'Pennsylvania',\n",
       " 'built': '1900',\n",
       " 'architect': 'Frederick J. Osterling',\n",
       " 'architecture': 'Beaux-Arts',\n",
       " 'added': 'July 30, 1974',\n",
       " 'refnum': '74001812 < ref name= \" NRIS \" >  < /ref >'}"
      ]
     },
     "execution_count": 5,
     "metadata": {},
     "output_type": "execute_result"
    }
   ],
   "source": [
    "df.loc[0, \"templates\"]"
   ]
  },
  {
   "cell_type": "code",
   "execution_count": 6,
   "metadata": {},
   "outputs": [],
   "source": [
    "keywords = [key for dic in df[\"templates\"] if dic is not None for key in dic]"
   ]
  },
  {
   "cell_type": "code",
   "execution_count": 7,
   "metadata": {},
   "outputs": [
    {
     "data": {
      "text/plain": [
       "[('name', 1675),\n",
       " ('image', 1057),\n",
       " ('location', 867),\n",
       " ('subdivision_type1', 600),\n",
       " ('subdivision_name1', 592),\n",
       " ('subdivision_type2', 584),\n",
       " ('subdivision_name2', 584),\n",
       " ('map_caption', 561),\n",
       " ('subdivision_type', 535),\n",
       " ('settlement_type', 529)]"
      ]
     },
     "execution_count": 7,
     "metadata": {},
     "output_type": "execute_result"
    }
   ],
   "source": [
    "Counter(keywords).most_common(10)"
   ]
  },
  {
   "cell_type": "markdown",
   "metadata": {},
   "source": [
    "Explore Wikilinks."
   ]
  },
  {
   "cell_type": "code",
   "execution_count": 8,
   "metadata": {},
   "outputs": [
    {
     "data": {
      "text/plain": [
       "['Washington, Pennsylvania',\n",
       " 'Frederick J. Osterling',\n",
       " 'Beaux-Arts architecture',\n",
       " 'Washington, Pennsylvania',\n",
       " 'National Register of Historic Places',\n",
       " 'historic public landmark',\n",
       " 'Washington County History  &  Landmarks Foundation',\n",
       " 'Washington County History  &  Landmarks Foundation',\n",
       " 'Walter Mondale',\n",
       " 'Ted Kennedy',\n",
       " 'National Register of Historic Places listings in Washington County, Pennsylvania',\n",
       " 'List of state and county courthouses in Pennsylvania',\n",
       " 'Category:Courthouses on the National Register of Historic Places in Pennsylvania',\n",
       " 'Category:Government buildings completed in 1900',\n",
       " 'Category:Beaux-Arts architecture in Pennsylvania',\n",
       " 'Category:County courthouses in Pennsylvania',\n",
       " 'Category:Buildings and structures in Washington County, Pennsylvania',\n",
       " 'Category:Frederick J. Osterling buildings',\n",
       " 'Category:Washington, Pennsylvania',\n",
       " 'Category:National Register of Historic Places in Washington County, Pennsylvania']"
      ]
     },
     "execution_count": 8,
     "metadata": {},
     "output_type": "execute_result"
    }
   ],
   "source": [
    "df.loc[0, \"wikilinks\"]"
   ]
  },
  {
   "cell_type": "code",
   "execution_count": 9,
   "metadata": {
    "scrolled": true
   },
   "outputs": [
    {
     "data": {
      "text/plain": [
       "[('Category:Pittsburgh metropolitan area', 290),\n",
       " ('Category:Pittsburgh History  &  Landmarks Foundation Historic Landmarks',\n",
       "  218),\n",
       " ('Category:National Register of Historic Places in Pittsburgh', 184),\n",
       " ('Category:Unincorporated communities in Pennsylvania', 127),\n",
       " ('Category:Road bridges in Pennsylvania', 104),\n",
       " ('Category:Buildings and structures in Pittsburgh', 102),\n",
       " ('Category:Houses on the National Register of Historic Places in Pennsylvania',\n",
       "  95),\n",
       " ('Category:National Register of Historic Places in Washington County, Pennsylvania',\n",
       "  92),\n",
       " ('Category:Education in Pittsburgh area', 89),\n",
       " ('Category:Public high schools in Pennsylvania', 88),\n",
       " ('Category:Neighborhoods in Pittsburgh', 86),\n",
       " ('Category:Boroughs in Allegheny County, Pennsylvania', 86),\n",
       " ('Category:Census-designated places in Pennsylvania', 76),\n",
       " ('Category:Rivers of Pennsylvania', 69),\n",
       " ('Category:City of Pittsburgh historic designations', 68),\n",
       " ('Category:Historic districts on the National Register of Historic Places in Pennsylvania',\n",
       "  68),\n",
       " ('Category:National Register of Historic Places in Allegheny County, Pennsylvania',\n",
       "  63),\n",
       " ('Category:School buildings on the National Register of Historic Places in Pennsylvania',\n",
       "  58),\n",
       " ('Category:Townships in Pennsylvania', 56),\n",
       " ('Category:Steel bridges in the United States', 54),\n",
       " ('Category:Port Authority of Allegheny County stations', 53),\n",
       " ('Category:Buildings and structures in Allegheny County, Pennsylvania', 50),\n",
       " ('Category:Schools in Allegheny County, Pennsylvania', 48),\n",
       " ('Category:Road bridges on the National Register of Historic Places in Pennsylvania',\n",
       "  47),\n",
       " ('Category:Houses in Pittsburgh', 47),\n",
       " ('Category:History of Pittsburgh', 44),\n",
       " ('Category:Tourist attractions in Pittsburgh', 43),\n",
       " ('Category:Houses in Washington County, Pennsylvania', 43),\n",
       " ('Category:Radio stations in Pittsburgh', 42),\n",
       " ('Category:Historic American Engineering Record in Pennsylvania', 41),\n",
       " ('Category:Townships in Allegheny County, Pennsylvania', 41),\n",
       " ('Category:Pennsylvania populated places on the Monongahela River', 40),\n",
       " ('Category:Allegheny Plateau', 39),\n",
       " ('Category:Unincorporated communities in Allegheny County, Pennsylvania', 37),\n",
       " ('Category:Bridges in Pittsburgh', 36),\n",
       " ('Category:Skyscraper office buildings in Pittsburgh', 36),\n",
       " ('Category:Monongahela River', 35),\n",
       " ('Category:Historic district contributing properties in Pennsylvania', 34),\n",
       " ('Category:Parks in Pittsburgh', 34),\n",
       " ('Category:Lawrenceville (Pittsburgh)', 34),\n",
       " ('Category:Buildings and structures in Washington County, Pennsylvania', 33),\n",
       " ('Category:National Register of Historic Places in Westmoreland County, Pennsylvania',\n",
       "  33),\n",
       " ('Category:Schools in Pittsburgh', 33),\n",
       " ('Category:Boroughs in Washington County, Pennsylvania', 33),\n",
       " ('Category:Bridges over the Monongahela River', 32),\n",
       " ('Category:Unincorporated communities in Washington County, Pennsylvania',\n",
       "  32),\n",
       " ('Category:Tributaries of the Ohio River', 31),\n",
       " ('Category:University of Pittsburgh', 31),\n",
       " ('Category:Italianate architecture in Pennsylvania', 31),\n",
       " ('Category:National Register of Historic Places in Fayette County, Pennsylvania',\n",
       "  31),\n",
       " ('Category:Pennsylvania state historical marker significations', 31),\n",
       " ('Category:Bridges in Allegheny County, Pennsylvania', 31),\n",
       " ('Category:University of Pittsburgh academic buildings', 30),\n",
       " ('Category:Census-designated places in Washington County, Pennsylvania', 30),\n",
       " ('Category:Pennsylvania populated places on the Ohio River', 30),\n",
       " ('Category:Boroughs in Beaver County, Pennsylvania', 30),\n",
       " ('Category:Historic American Buildings Survey in Pennsylvania', 29),\n",
       " ('Category:Neoclassical architecture in Pennsylvania', 29),\n",
       " ('Category:Museums in Pittsburgh', 28),\n",
       " ('Category:Bridges over the Allegheny River', 28),\n",
       " ('Category:Railroad bridges in Pennsylvania', 28),\n",
       " ('Category:Unincorporated communities in Westmoreland County, Pennsylvania',\n",
       "  27),\n",
       " ('Category:Railway stations in the United States opened in 1987', 27),\n",
       " ('Category:Boroughs in Westmoreland County, Pennsylvania', 27),\n",
       " ('Category:Rivers of Allegheny County, Pennsylvania', 26),\n",
       " ('Category:Shopping malls in Metro Pittsburgh', 26),\n",
       " ('Category:Houses in Allegheny County, Pennsylvania', 26),\n",
       " ('Category:Commercial buildings on the National Register of Historic Places in Pennsylvania',\n",
       "  26),\n",
       " ('Category:Sports venues in Pittsburgh', 26),\n",
       " ('Category:Art Deco architecture in Pennsylvania', 26),\n",
       " ('Category:Townships in Beaver County, Pennsylvania', 26),\n",
       " ('Category:Rivers of Westmoreland County, Pennsylvania', 24),\n",
       " ('Category:Romanesque Revival architecture in Pennsylvania', 24),\n",
       " ('Category:Covered bridges on the National Register of Historic Places in Pennsylvania',\n",
       "  24),\n",
       " ('Category:Wooden bridges in Pennsylvania', 24),\n",
       " ('Category:High schools in Pittsburgh', 23),\n",
       " ('Category:Economy of Pittsburgh', 23),\n",
       " ('Category:Covered bridges in Washington County, Pennsylvania', 23),\n",
       " ('Category:Culture of Pittsburgh', 22),\n",
       " ('Category:Truss bridges in the United States', 22),\n",
       " ('Category:School districts in Allegheny County, Pennsylvania', 22),\n",
       " ('Category:Churches in Pittsburgh', 21),\n",
       " ('Category:Urban public parks', 21),\n",
       " ('Category:National Historic Landmarks in Pennsylvania', 21),\n",
       " ('Category:Music venues in Pittsburgh', 21),\n",
       " ('Category:Universities and colleges in Pittsburgh', 20),\n",
       " ('Category:Gothic Revival architecture in Pennsylvania', 20),\n",
       " ('Category:Buildings and structures in Westmoreland County, Pennsylvania',\n",
       "  20),\n",
       " ('Category:Coal towns in Pennsylvania', 20),\n",
       " ('Category:Townships in Washington County, Pennsylvania', 20),\n",
       " ('Category:Beaux-Arts architecture in Pennsylvania', 19),\n",
       " ('Category:Census-designated places in Allegheny County, Pennsylvania', 19),\n",
       " ('Category:National Register of Historic Places in Beaver County, Pennsylvania',\n",
       "  19),\n",
       " ('Category:University of Pittsburgh Medical Center', 18),\n",
       " ('Category:Libraries in Allegheny County, Pennsylvania', 18),\n",
       " ('Category:1906 establishments in Pennsylvania', 18),\n",
       " ('Category:Schools and departments of Carnegie Mellon', 18),\n",
       " ('Category:Sports venues in Pennsylvania', 18),\n",
       " ('Category:Carnegie Mellon University', 17),\n",
       " ('Category:Public middle schools in Pennsylvania', 17),\n",
       " ('Category:Roman Catholic churches in Pennsylvania', 16),\n",
       " ('Category:Churches on the National Register of Historic Places in Pennsylvania',\n",
       "  16),\n",
       " ('Category:Queen Anne architecture in Pennsylvania', 16),\n",
       " ('Category:Streets in Pittsburgh', 16),\n",
       " ('Category:University of Pittsburgh buildings', 16),\n",
       " ('Category:Girder bridges in the United States', 16),\n",
       " ('Category:Industrial buildings and structures on the National Register of Historic Places in Pennsylvania',\n",
       "  16),\n",
       " ('Category:Washington, Pennsylvania', 15),\n",
       " ('Category:Renaissance Revival architecture in Pennsylvania', 15),\n",
       " ('Category:Historic house museums in Pennsylvania', 15),\n",
       " ('Category:Defunct schools in Pennsylvania', 15),\n",
       " ('Category:Cantilever bridges in the United States', 15),\n",
       " ('Category:Buildings and structures in Fayette County, Pennsylvania', 15),\n",
       " ('Category:Television stations in Pittsburgh', 15),\n",
       " ('Category:1903 establishments in Pennsylvania', 15),\n",
       " ('Category:Tributaries of the Allegheny River', 15),\n",
       " ('Category:Congressional districts of Pennsylvania', 15),\n",
       " ('Category:Roman Catholic churches in Pittsburgh', 14),\n",
       " ('Category:Art museums in Pennsylvania', 14),\n",
       " ('Category:Metal bridges in the United States', 14),\n",
       " ('Category:Greek Revival architecture in Pennsylvania', 14),\n",
       " ('Category:Schools in Westmoreland County, Pennsylvania', 14),\n",
       " ('Category:Schools in Beaver County, Pennsylvania', 14),\n",
       " ('Category:Carnegie libraries in Pennsylvania', 14),\n",
       " ('Category:Bridges over the Ohio River', 14),\n",
       " ('Category:Cities in Pennsylvania', 14),\n",
       " ('Category:University and college buildings on the National Register of Historic Places in Pennsylvania',\n",
       "  13),\n",
       " ('Category:Catholic secondary schools in Pennsylvania', 13),\n",
       " ('Category:Transportation buildings and structures in Allegheny County, Pennsylvania',\n",
       "  13),\n",
       " ('Category:Demolished buildings and structures in Pittsburgh', 13),\n",
       " ('Category:Golf in Pennsylvania', 13),\n",
       " ('Category:Company towns in Pennsylvania', 13),\n",
       " ('Category:Colonial Revival architecture in Pennsylvania', 13),\n",
       " ('Category:Former Port Authority of Allegheny County stations', 13),\n",
       " ('Category:Greek Revival houses in Pennsylvania', 13),\n",
       " ('Category:Dams in Pennsylvania', 13),\n",
       " ('Category:Theatres in Pittsburgh', 13),\n",
       " ('Category:Townships in Butler County, Pennsylvania', 13),\n",
       " ('Category:Redeveloped ports and waterfronts in the United States', 12),\n",
       " ('Category:Airports in Pennsylvania', 12),\n",
       " ('Category:Individually listed contributing properties to historic districts on the National Register in Pennsylvania',\n",
       "  12),\n",
       " ('Category:Parks in Allegheny County, Pennsylvania', 12),\n",
       " ('Category:Duquesne University', 12),\n",
       " ('Category:School districts in Beaver County, Pennsylvania', 12),\n",
       " ('Category:Buildings and structures in Beaver County, Pennsylvania', 12),\n",
       " ('Category:Bridges in Beaver County, Pennsylvania', 12),\n",
       " ('Category:Census-designated places in Westmoreland County, Pennsylvania',\n",
       "  12),\n",
       " ('Category:Railway stations on the National Register of Historic Places in Pennsylvania',\n",
       "  12),\n",
       " ('Category:Georgian architecture in Pennsylvania', 12),\n",
       " ('Category:Obsolete United States congressional districts', 12)]"
      ]
     },
     "execution_count": 9,
     "metadata": {},
     "output_type": "execute_result"
    }
   ],
   "source": [
    "wikilinks = [category for lst in df[\"wikilinks\"] if lst is not None for category in lst if \"Category:\" in category]\n",
    "Counter(wikilinks).most_common(150)"
   ]
  },
  {
   "cell_type": "markdown",
   "metadata": {},
   "source": [
    "## Creating distance based features"
   ]
  },
  {
   "cell_type": "markdown",
   "metadata": {},
   "source": [
    "Create category dfs"
   ]
  },
  {
   "cell_type": "code",
   "execution_count": 10,
   "metadata": {},
   "outputs": [
    {
     "data": {
      "text/plain": [
       "12"
      ]
     },
     "execution_count": 10,
     "metadata": {},
     "output_type": "execute_result"
    }
   ],
   "source": [
    "observations = []\n",
    "for index, row in df.iterrows():\n",
    "    if \"Category:Airports in Pennsylvania\" in row[\"wikilinks\"]:\n",
    "        observations.append(row)\n",
    "        \n",
    "len(observations)"
   ]
  },
  {
   "cell_type": "code",
   "execution_count": 11,
   "metadata": {},
   "outputs": [
    {
     "data": {
      "text/plain": [
       "['Category:Courthouses on the National Register of Historic Places in Pennsylvania',\n",
       " 'Category:Government buildings completed in 1900',\n",
       " 'Category:Beaux-Arts architecture in Pennsylvania',\n",
       " 'Category:County courthouses in Pennsylvania',\n",
       " 'Category:Buildings and structures in Washington County, Pennsylvania',\n",
       " 'Category:Frederick J. Osterling buildings',\n",
       " 'Category:Washington, Pennsylvania',\n",
       " 'Category:National Register of Historic Places in Washington County, Pennsylvania',\n",
       " 'Category:Baseball venues in Pennsylvania',\n",
       " 'Category:Soccer venues in Pennsylvania']"
      ]
     },
     "execution_count": 11,
     "metadata": {},
     "output_type": "execute_result"
    }
   ],
   "source": [
    "wikilinks[:10]"
   ]
  },
  {
   "cell_type": "code",
   "execution_count": 12,
   "metadata": {},
   "outputs": [],
   "source": [
    "categories_strs = [\"historic\", \"bridge\", \"river\", \"tourist attraction\", \"skyscraper\", \"park\",\n",
    "                   \"universit\", \"museum\", \"railway station\", \"shopping mall\", \"sports venue\",\n",
    "                   \"church\", \"music venue\", \"librar\", \"demolished\", \"theatre\", \"airport\"]\n",
    "categories_dict = {category:[] for category in categories_strs}"
   ]
  },
  {
   "cell_type": "code",
   "execution_count": 13,
   "metadata": {},
   "outputs": [],
   "source": [
    "for index, row in df.iterrows():\n",
    "    for category in categories_strs:\n",
    "        for cat_link in [link for link in row[\"wikilinks\"] if \"Category:\" in link]:\n",
    "            if category in cat_link.lower():\n",
    "                categories_dict[category].append(row)\n",
    "                break"
   ]
  },
  {
   "cell_type": "code",
   "execution_count": 14,
   "metadata": {},
   "outputs": [
    {
     "name": "stdout",
     "output_type": "stream",
     "text": [
      "historic: (575, 7)\n",
      "bridge: (133, 7)\n",
      "river: (281, 7)\n",
      "tourist attraction: (68, 7)\n",
      "skyscraper: (51, 7)\n",
      "park: (74, 7)\n",
      "universit: (174, 7)\n",
      "museum: (69, 7)\n",
      "railway station: (84, 7)\n",
      "shopping mall: (28, 7)\n",
      "sports venue: (53, 7)\n",
      "church: (61, 7)\n",
      "music venue: (21, 7)\n",
      "librar: (36, 7)\n",
      "demolished: (49, 7)\n",
      "theatre: (21, 7)\n",
      "airport: (20, 7)\n"
     ]
    }
   ],
   "source": [
    "categories_dfs = {category:[] for category in categories_strs}\n",
    "for category in categories_dict:\n",
    "    category_df = pd.DataFrame(data=categories_dict[category])\n",
    "    categories_dfs[category] = category_df\n",
    "    print(f\"{category}: {category_df.shape}\")"
   ]
  },
  {
   "cell_type": "code",
   "execution_count": 15,
   "metadata": {},
   "outputs": [
    {
     "data": {
      "text/html": [
       "<div>\n",
       "<style scoped>\n",
       "    .dataframe tbody tr th:only-of-type {\n",
       "        vertical-align: middle;\n",
       "    }\n",
       "\n",
       "    .dataframe tbody tr th {\n",
       "        vertical-align: top;\n",
       "    }\n",
       "\n",
       "    .dataframe thead th {\n",
       "        text-align: right;\n",
       "    }\n",
       "</style>\n",
       "<table border=\"1\" class=\"dataframe\">\n",
       "  <thead>\n",
       "    <tr style=\"text-align: right;\">\n",
       "      <th></th>\n",
       "      <th>name</th>\n",
       "      <th>coords</th>\n",
       "      <th>templates</th>\n",
       "      <th>text</th>\n",
       "      <th>wikilinks</th>\n",
       "      <th>ext_links</th>\n",
       "      <th>text_length</th>\n",
       "    </tr>\n",
       "  </thead>\n",
       "  <tbody>\n",
       "    <tr>\n",
       "      <th>163</th>\n",
       "      <td>Strand Theater (Zelienople, Pennsylvania)</td>\n",
       "      <td>[40.7962, -80.1374]</td>\n",
       "      <td>{'name': 'Strand Theater', 'image': 'Strand1.J...</td>\n",
       "      <td>The Strand Theater is a performing arts, film ...</td>\n",
       "      <td>[Zelienople, Pennsylvania, Pennsylvania, Unite...</td>\n",
       "      <td>[http://www.thestrandtheater.org/, http://www....</td>\n",
       "      <td>3068</td>\n",
       "    </tr>\n",
       "    <tr>\n",
       "      <th>228</th>\n",
       "      <td>Carnegie Mellon School of Drama</td>\n",
       "      <td>[40.443772, -79.943211]</td>\n",
       "      <td>None</td>\n",
       "      <td>thumb|Main atrium of the Purnell Center for th...</td>\n",
       "      <td>[File:Carnegie Mellon School of Drama Interior...</td>\n",
       "      <td>[https://www.hollywoodreporter.com/lists/5-bes...</td>\n",
       "      <td>7723</td>\n",
       "    </tr>\n",
       "    <tr>\n",
       "      <th>398</th>\n",
       "      <td>Carnegie Library of Homestead</td>\n",
       "      <td>[40.40708055555555, -79.90297777777778]</td>\n",
       "      <td>{'library_name': 'Carnegie Library of Homestea...</td>\n",
       "      <td>The Carnegie Library of Homestead is a public ...</td>\n",
       "      <td>[File:CarnegieLibraryofHomestead.jpg, United S...</td>\n",
       "      <td>[http://www.CarnegieofHomestead.org, http://ww...</td>\n",
       "      <td>6024</td>\n",
       "    </tr>\n",
       "    <tr>\n",
       "      <th>432</th>\n",
       "      <td>Friday Nite Improvs</td>\n",
       "      <td>[40.44416, -79.95312]</td>\n",
       "      <td>None</td>\n",
       "      <td>thumb|right|The Studio Theatre in the basement...</td>\n",
       "      <td>[File:CathedraloL blackbox.jpg, Cathedral of L...</td>\n",
       "      <td>[http://www.pittsburghcitypaper.ws/gyrobase/Co...</td>\n",
       "      <td>10673</td>\n",
       "    </tr>\n",
       "    <tr>\n",
       "      <th>859</th>\n",
       "      <td>Garden Theater</td>\n",
       "      <td>[40.455488888888894, -80.00726666666667]</td>\n",
       "      <td>{'name': 'Garden Theater', 'PAhistoric_type': ...</td>\n",
       "      <td>The Garden Theater (or Garden Theatre) is a 1,...</td>\n",
       "      <td>[Pittsburgh, Pennsylvania, Thomas H. Scott, Be...</td>\n",
       "      <td>[http://www.post-gazette.com/pg/07140/786960-4...</td>\n",
       "      <td>3747</td>\n",
       "    </tr>\n",
       "    <tr>\n",
       "      <th>906</th>\n",
       "      <td>City Theatre (Pittsburgh)</td>\n",
       "      <td>[40.429267, -79.985125]</td>\n",
       "      <td>{'name': 'City Theatre', 'designation1': 'PHLF...</td>\n",
       "      <td>City Theatre is a professional theatre company...</td>\n",
       "      <td>[South Side Flats, Pittsburgh, Pennsylvania, U...</td>\n",
       "      <td>[http://www.phlf.org/wp-content/uploads/2007/0...</td>\n",
       "      <td>2931</td>\n",
       "    </tr>\n",
       "    <tr>\n",
       "      <th>907</th>\n",
       "      <td>Quantum Theatre</td>\n",
       "      <td>[40.462939, -79.924045]</td>\n",
       "      <td>{'name': 'Quantum Theatre', 'image': 'Quantum ...</td>\n",
       "      <td>Quantum Theatre is a professional theatre comp...</td>\n",
       "      <td>[Pittsburgh, Pennsylvania, Pittsburgh, Theatre...</td>\n",
       "      <td>[http://www.quantumtheatre.com/about/staff/, h...</td>\n",
       "      <td>3050</td>\n",
       "    </tr>\n",
       "    <tr>\n",
       "      <th>994</th>\n",
       "      <td>Stephen Foster Memorial</td>\n",
       "      <td>[40.44382, -79.95275]</td>\n",
       "      <td>{'name': 'Stephen Collins Foster Memorial', 'n...</td>\n",
       "      <td>The Stephen Collins Foster Memorial is a perfo...</td>\n",
       "      <td>[University of Pittsburgh, Pittsburgh, Pennsyl...</td>\n",
       "      <td>[http://search.pahistoricalmarkers.com/, http:...</td>\n",
       "      <td>13888</td>\n",
       "    </tr>\n",
       "    <tr>\n",
       "      <th>1005</th>\n",
       "      <td>Scotch'n'Soda Theatre</td>\n",
       "      <td>[40.44333333333333, -79.94166666666668]</td>\n",
       "      <td>{'name': 'Scotch'n'Soda Theatre', 'logo': 'Sco...</td>\n",
       "      <td>Scotch'n'Soda is a student-run theatre organiz...</td>\n",
       "      <td>[Carnegie Mellon University, Scotch'n'Soda#Boa...</td>\n",
       "      <td>[http://www.snstheatre.org, https://books.goog...</td>\n",
       "      <td>14167</td>\n",
       "    </tr>\n",
       "    <tr>\n",
       "      <th>1118</th>\n",
       "      <td>Pittsburgh Playhouse</td>\n",
       "      <td>[40.43959, -79.99989]</td>\n",
       "      <td>{'name': 'Pittsburgh Playhouse', 'image': 'Pit...</td>\n",
       "      <td>Pittsburgh Playhouse is Point Park University'...</td>\n",
       "      <td>[Forbes Avenue, Pittsburgh, Pennsylvania, Unit...</td>\n",
       "      <td>[http://www.pittsburghplayhouse.com, http://ww...</td>\n",
       "      <td>13989</td>\n",
       "    </tr>\n",
       "  </tbody>\n",
       "</table>\n",
       "</div>"
      ],
      "text/plain": [
       "                                           name  \\\n",
       "163   Strand Theater (Zelienople, Pennsylvania)   \n",
       "228             Carnegie Mellon School of Drama   \n",
       "398               Carnegie Library of Homestead   \n",
       "432                         Friday Nite Improvs   \n",
       "859                              Garden Theater   \n",
       "906                   City Theatre (Pittsburgh)   \n",
       "907                             Quantum Theatre   \n",
       "994                     Stephen Foster Memorial   \n",
       "1005                      Scotch'n'Soda Theatre   \n",
       "1118                       Pittsburgh Playhouse   \n",
       "\n",
       "                                        coords  \\\n",
       "163                        [40.7962, -80.1374]   \n",
       "228                    [40.443772, -79.943211]   \n",
       "398    [40.40708055555555, -79.90297777777778]   \n",
       "432                      [40.44416, -79.95312]   \n",
       "859   [40.455488888888894, -80.00726666666667]   \n",
       "906                    [40.429267, -79.985125]   \n",
       "907                    [40.462939, -79.924045]   \n",
       "994                      [40.44382, -79.95275]   \n",
       "1005   [40.44333333333333, -79.94166666666668]   \n",
       "1118                     [40.43959, -79.99989]   \n",
       "\n",
       "                                              templates  \\\n",
       "163   {'name': 'Strand Theater', 'image': 'Strand1.J...   \n",
       "228                                                None   \n",
       "398   {'library_name': 'Carnegie Library of Homestea...   \n",
       "432                                                None   \n",
       "859   {'name': 'Garden Theater', 'PAhistoric_type': ...   \n",
       "906   {'name': 'City Theatre', 'designation1': 'PHLF...   \n",
       "907   {'name': 'Quantum Theatre', 'image': 'Quantum ...   \n",
       "994   {'name': 'Stephen Collins Foster Memorial', 'n...   \n",
       "1005  {'name': 'Scotch'n'Soda Theatre', 'logo': 'Sco...   \n",
       "1118  {'name': 'Pittsburgh Playhouse', 'image': 'Pit...   \n",
       "\n",
       "                                                   text  \\\n",
       "163   The Strand Theater is a performing arts, film ...   \n",
       "228   thumb|Main atrium of the Purnell Center for th...   \n",
       "398   The Carnegie Library of Homestead is a public ...   \n",
       "432   thumb|right|The Studio Theatre in the basement...   \n",
       "859   The Garden Theater (or Garden Theatre) is a 1,...   \n",
       "906   City Theatre is a professional theatre company...   \n",
       "907   Quantum Theatre is a professional theatre comp...   \n",
       "994   The Stephen Collins Foster Memorial is a perfo...   \n",
       "1005  Scotch'n'Soda is a student-run theatre organiz...   \n",
       "1118  Pittsburgh Playhouse is Point Park University'...   \n",
       "\n",
       "                                              wikilinks  \\\n",
       "163   [Zelienople, Pennsylvania, Pennsylvania, Unite...   \n",
       "228   [File:Carnegie Mellon School of Drama Interior...   \n",
       "398   [File:CarnegieLibraryofHomestead.jpg, United S...   \n",
       "432   [File:CathedraloL blackbox.jpg, Cathedral of L...   \n",
       "859   [Pittsburgh, Pennsylvania, Thomas H. Scott, Be...   \n",
       "906   [South Side Flats, Pittsburgh, Pennsylvania, U...   \n",
       "907   [Pittsburgh, Pennsylvania, Pittsburgh, Theatre...   \n",
       "994   [University of Pittsburgh, Pittsburgh, Pennsyl...   \n",
       "1005  [Carnegie Mellon University, Scotch'n'Soda#Boa...   \n",
       "1118  [Forbes Avenue, Pittsburgh, Pennsylvania, Unit...   \n",
       "\n",
       "                                              ext_links  text_length  \n",
       "163   [http://www.thestrandtheater.org/, http://www....         3068  \n",
       "228   [https://www.hollywoodreporter.com/lists/5-bes...         7723  \n",
       "398   [http://www.CarnegieofHomestead.org, http://ww...         6024  \n",
       "432   [http://www.pittsburghcitypaper.ws/gyrobase/Co...        10673  \n",
       "859   [http://www.post-gazette.com/pg/07140/786960-4...         3747  \n",
       "906   [http://www.phlf.org/wp-content/uploads/2007/0...         2931  \n",
       "907   [http://www.quantumtheatre.com/about/staff/, h...         3050  \n",
       "994   [http://search.pahistoricalmarkers.com/, http:...        13888  \n",
       "1005  [http://www.snstheatre.org, https://books.goog...        14167  \n",
       "1118  [http://www.pittsburghplayhouse.com, http://ww...        13989  "
      ]
     },
     "execution_count": 15,
     "metadata": {},
     "output_type": "execute_result"
    }
   ],
   "source": [
    "categories_dfs[\"theatre\"].head(10)"
   ]
  },
  {
   "cell_type": "markdown",
   "metadata": {},
   "source": [
    "Read structured data."
   ]
  },
  {
   "cell_type": "code",
   "execution_count": 16,
   "metadata": {},
   "outputs": [],
   "source": [
    "df_structured = pd.read_csv(PATH + \"structured_preprocessed.csv\")  # read structured data"
   ]
  },
  {
   "cell_type": "code",
   "execution_count": 17,
   "metadata": {},
   "outputs": [
    {
     "data": {
      "text/plain": [
       "(9556, 65)"
      ]
     },
     "execution_count": 17,
     "metadata": {},
     "output_type": "execute_result"
    }
   ],
   "source": [
    "df_structured.shape"
   ]
  },
  {
   "cell_type": "markdown",
   "metadata": {},
   "source": [
    "Add distance based features to the structured data. For each house, the distance to the nearest POI of each category is calculated and added as a feature. Another feature to be added is the amount of POI of each category in a 2500m radius around the house."
   ]
  },
  {
   "cell_type": "code",
   "execution_count": 18,
   "metadata": {},
   "outputs": [
    {
     "data": {
      "application/vnd.jupyter.widget-view+json": {
       "model_id": "f9fa9709aa3a406b9a68416cf6474c1b",
       "version_major": 2,
       "version_minor": 0
      },
      "text/plain": [
       "  0%|          | 0/100 [00:00<?, ?it/s]"
      ]
     },
     "metadata": {},
     "output_type": "display_data"
    }
   ],
   "source": [
    "df_structured_features = multiprocessor_wiki.process_dist_features(df_structured, categories_dfs, CPU_CORES)"
   ]
  },
  {
   "cell_type": "markdown",
   "metadata": {},
   "source": [
    "If already processed, read processed data."
   ]
  },
  {
   "cell_type": "code",
   "execution_count": 19,
   "metadata": {},
   "outputs": [],
   "source": [
    "# df_structured_features = pd.read_csv(PATH + \"structured_wiki_category_features.csv\")"
   ]
  },
  {
   "cell_type": "code",
   "execution_count": 20,
   "metadata": {
    "scrolled": false
   },
   "outputs": [
    {
     "data": {
      "text/html": [
       "<div>\n",
       "<style scoped>\n",
       "    .dataframe tbody tr th:only-of-type {\n",
       "        vertical-align: middle;\n",
       "    }\n",
       "\n",
       "    .dataframe tbody tr th {\n",
       "        vertical-align: top;\n",
       "    }\n",
       "\n",
       "    .dataframe thead th {\n",
       "        text-align: right;\n",
       "    }\n",
       "</style>\n",
       "<table border=\"1\" class=\"dataframe\">\n",
       "  <thead>\n",
       "    <tr style=\"text-align: right;\">\n",
       "      <th></th>\n",
       "      <th>_id</th>\n",
       "      <th>PROPERTYZIP</th>\n",
       "      <th>MUNICODE</th>\n",
       "      <th>SCHOOLCODE</th>\n",
       "      <th>NEIGHCODE</th>\n",
       "      <th>LOTAREA</th>\n",
       "      <th>SALEDATE</th>\n",
       "      <th>SALEPRICE</th>\n",
       "      <th>FAIRMARKETTOTAL</th>\n",
       "      <th>STORIES</th>\n",
       "      <th>...</th>\n",
       "      <th>music venue_dist</th>\n",
       "      <th>music venue_count</th>\n",
       "      <th>librar_dist</th>\n",
       "      <th>librar_count</th>\n",
       "      <th>demolished_dist</th>\n",
       "      <th>demolished_count</th>\n",
       "      <th>theatre_dist</th>\n",
       "      <th>theatre_count</th>\n",
       "      <th>airport_dist</th>\n",
       "      <th>airport_count</th>\n",
       "    </tr>\n",
       "  </thead>\n",
       "  <tbody>\n",
       "    <tr>\n",
       "      <th>0</th>\n",
       "      <td>342928</td>\n",
       "      <td>15044</td>\n",
       "      <td>938</td>\n",
       "      <td>3</td>\n",
       "      <td>93801</td>\n",
       "      <td>35284</td>\n",
       "      <td>05-29-2015</td>\n",
       "      <td>305000.0</td>\n",
       "      <td>234500</td>\n",
       "      <td>2.0</td>\n",
       "      <td>...</td>\n",
       "      <td>11993.824702</td>\n",
       "      <td>0</td>\n",
       "      <td>10138.621914</td>\n",
       "      <td>0</td>\n",
       "      <td>12921.805327</td>\n",
       "      <td>0</td>\n",
       "      <td>17765.277845</td>\n",
       "      <td>0</td>\n",
       "      <td>9528.304091</td>\n",
       "      <td>0</td>\n",
       "    </tr>\n",
       "    <tr>\n",
       "      <th>1</th>\n",
       "      <td>366566</td>\n",
       "      <td>15237</td>\n",
       "      <td>940</td>\n",
       "      <td>28</td>\n",
       "      <td>94002</td>\n",
       "      <td>10674</td>\n",
       "      <td>07-24-2015</td>\n",
       "      <td>221000.0</td>\n",
       "      <td>179100</td>\n",
       "      <td>2.0</td>\n",
       "      <td>...</td>\n",
       "      <td>6356.031037</td>\n",
       "      <td>0</td>\n",
       "      <td>2316.594083</td>\n",
       "      <td>1</td>\n",
       "      <td>7474.454187</td>\n",
       "      <td>0</td>\n",
       "      <td>9053.879884</td>\n",
       "      <td>0</td>\n",
       "      <td>12350.593565</td>\n",
       "      <td>0</td>\n",
       "    </tr>\n",
       "    <tr>\n",
       "      <th>2</th>\n",
       "      <td>343009</td>\n",
       "      <td>15017</td>\n",
       "      <td>811</td>\n",
       "      <td>8</td>\n",
       "      <td>81102</td>\n",
       "      <td>8060</td>\n",
       "      <td>01-27-2016</td>\n",
       "      <td>120500.0</td>\n",
       "      <td>94000</td>\n",
       "      <td>2.0</td>\n",
       "      <td>...</td>\n",
       "      <td>11355.220423</td>\n",
       "      <td>0</td>\n",
       "      <td>5249.893069</td>\n",
       "      <td>0</td>\n",
       "      <td>7337.821607</td>\n",
       "      <td>0</td>\n",
       "      <td>12204.622167</td>\n",
       "      <td>0</td>\n",
       "      <td>14480.561063</td>\n",
       "      <td>0</td>\n",
       "    </tr>\n",
       "    <tr>\n",
       "      <th>3</th>\n",
       "      <td>460928</td>\n",
       "      <td>15214</td>\n",
       "      <td>126</td>\n",
       "      <td>47</td>\n",
       "      <td>12602</td>\n",
       "      <td>3873</td>\n",
       "      <td>12-15-2017</td>\n",
       "      <td>195000.0</td>\n",
       "      <td>104800</td>\n",
       "      <td>2.0</td>\n",
       "      <td>...</td>\n",
       "      <td>3632.723748</td>\n",
       "      <td>0</td>\n",
       "      <td>3333.323780</td>\n",
       "      <td>0</td>\n",
       "      <td>4048.787049</td>\n",
       "      <td>0</td>\n",
       "      <td>3665.147779</td>\n",
       "      <td>0</td>\n",
       "      <td>10844.019000</td>\n",
       "      <td>0</td>\n",
       "    </tr>\n",
       "    <tr>\n",
       "      <th>4</th>\n",
       "      <td>343360</td>\n",
       "      <td>15090</td>\n",
       "      <td>927</td>\n",
       "      <td>27</td>\n",
       "      <td>92704</td>\n",
       "      <td>30994</td>\n",
       "      <td>03-27-2015</td>\n",
       "      <td>322500.0</td>\n",
       "      <td>282400</td>\n",
       "      <td>2.0</td>\n",
       "      <td>...</td>\n",
       "      <td>14450.198936</td>\n",
       "      <td>0</td>\n",
       "      <td>3139.401338</td>\n",
       "      <td>0</td>\n",
       "      <td>10130.626938</td>\n",
       "      <td>0</td>\n",
       "      <td>16013.586726</td>\n",
       "      <td>0</td>\n",
       "      <td>12550.946884</td>\n",
       "      <td>0</td>\n",
       "    </tr>\n",
       "    <tr>\n",
       "      <th>5</th>\n",
       "      <td>349982</td>\n",
       "      <td>15090</td>\n",
       "      <td>935</td>\n",
       "      <td>3</td>\n",
       "      <td>93502</td>\n",
       "      <td>12632</td>\n",
       "      <td>04-30-2018</td>\n",
       "      <td>430000.0</td>\n",
       "      <td>350000</td>\n",
       "      <td>2.0</td>\n",
       "      <td>...</td>\n",
       "      <td>19294.335448</td>\n",
       "      <td>0</td>\n",
       "      <td>8102.715844</td>\n",
       "      <td>0</td>\n",
       "      <td>14662.056616</td>\n",
       "      <td>0</td>\n",
       "      <td>18406.182766</td>\n",
       "      <td>0</td>\n",
       "      <td>7664.805621</td>\n",
       "      <td>0</td>\n",
       "    </tr>\n",
       "    <tr>\n",
       "      <th>6</th>\n",
       "      <td>344394</td>\n",
       "      <td>15237</td>\n",
       "      <td>940</td>\n",
       "      <td>28</td>\n",
       "      <td>94002</td>\n",
       "      <td>10665</td>\n",
       "      <td>06-10-2016</td>\n",
       "      <td>249900.0</td>\n",
       "      <td>138000</td>\n",
       "      <td>1.0</td>\n",
       "      <td>...</td>\n",
       "      <td>6459.155130</td>\n",
       "      <td>0</td>\n",
       "      <td>3183.948599</td>\n",
       "      <td>0</td>\n",
       "      <td>7681.449548</td>\n",
       "      <td>0</td>\n",
       "      <td>8727.840560</td>\n",
       "      <td>0</td>\n",
       "      <td>12828.414111</td>\n",
       "      <td>0</td>\n",
       "    </tr>\n",
       "    <tr>\n",
       "      <th>7</th>\n",
       "      <td>344738</td>\n",
       "      <td>15146</td>\n",
       "      <td>879</td>\n",
       "      <td>18</td>\n",
       "      <td>87902</td>\n",
       "      <td>9593</td>\n",
       "      <td>10-25-2019</td>\n",
       "      <td>225000.0</td>\n",
       "      <td>179400</td>\n",
       "      <td>2.0</td>\n",
       "      <td>...</td>\n",
       "      <td>10739.447221</td>\n",
       "      <td>0</td>\n",
       "      <td>1872.113101</td>\n",
       "      <td>1</td>\n",
       "      <td>7841.030007</td>\n",
       "      <td>0</td>\n",
       "      <td>12941.540877</td>\n",
       "      <td>0</td>\n",
       "      <td>4863.510236</td>\n",
       "      <td>0</td>\n",
       "    </tr>\n",
       "    <tr>\n",
       "      <th>8</th>\n",
       "      <td>344761</td>\n",
       "      <td>15217</td>\n",
       "      <td>114</td>\n",
       "      <td>47</td>\n",
       "      <td>11401</td>\n",
       "      <td>4328</td>\n",
       "      <td>11-03-2015</td>\n",
       "      <td>465500.0</td>\n",
       "      <td>365000</td>\n",
       "      <td>2.0</td>\n",
       "      <td>...</td>\n",
       "      <td>3073.101169</td>\n",
       "      <td>0</td>\n",
       "      <td>2036.692154</td>\n",
       "      <td>1</td>\n",
       "      <td>575.480724</td>\n",
       "      <td>3</td>\n",
       "      <td>2036.692154</td>\n",
       "      <td>1</td>\n",
       "      <td>3281.017786</td>\n",
       "      <td>0</td>\n",
       "    </tr>\n",
       "    <tr>\n",
       "      <th>9</th>\n",
       "      <td>344940</td>\n",
       "      <td>15243</td>\n",
       "      <td>941</td>\n",
       "      <td>8</td>\n",
       "      <td>94102</td>\n",
       "      <td>8190</td>\n",
       "      <td>05-29-2015</td>\n",
       "      <td>130000.0</td>\n",
       "      <td>144100</td>\n",
       "      <td>1.0</td>\n",
       "      <td>...</td>\n",
       "      <td>8376.285632</td>\n",
       "      <td>0</td>\n",
       "      <td>3341.393327</td>\n",
       "      <td>0</td>\n",
       "      <td>5136.087064</td>\n",
       "      <td>0</td>\n",
       "      <td>9205.644431</td>\n",
       "      <td>0</td>\n",
       "      <td>12446.470156</td>\n",
       "      <td>0</td>\n",
       "    </tr>\n",
       "  </tbody>\n",
       "</table>\n",
       "<p>10 rows × 99 columns</p>\n",
       "</div>"
      ],
      "text/plain": [
       "      _id PROPERTYZIP MUNICODE SCHOOLCODE NEIGHCODE LOTAREA    SALEDATE  \\\n",
       "0  342928       15044      938          3     93801   35284  05-29-2015   \n",
       "1  366566       15237      940         28     94002   10674  07-24-2015   \n",
       "2  343009       15017      811          8     81102    8060  01-27-2016   \n",
       "3  460928       15214      126         47     12602    3873  12-15-2017   \n",
       "4  343360       15090      927         27     92704   30994  03-27-2015   \n",
       "5  349982       15090      935          3     93502   12632  04-30-2018   \n",
       "6  344394       15237      940         28     94002   10665  06-10-2016   \n",
       "7  344738       15146      879         18     87902    9593  10-25-2019   \n",
       "8  344761       15217      114         47     11401    4328  11-03-2015   \n",
       "9  344940       15243      941          8     94102    8190  05-29-2015   \n",
       "\n",
       "  SALEPRICE FAIRMARKETTOTAL STORIES  ... music venue_dist music venue_count  \\\n",
       "0  305000.0          234500     2.0  ...     11993.824702                 0   \n",
       "1  221000.0          179100     2.0  ...      6356.031037                 0   \n",
       "2  120500.0           94000     2.0  ...     11355.220423                 0   \n",
       "3  195000.0          104800     2.0  ...      3632.723748                 0   \n",
       "4  322500.0          282400     2.0  ...     14450.198936                 0   \n",
       "5  430000.0          350000     2.0  ...     19294.335448                 0   \n",
       "6  249900.0          138000     1.0  ...      6459.155130                 0   \n",
       "7  225000.0          179400     2.0  ...     10739.447221                 0   \n",
       "8  465500.0          365000     2.0  ...      3073.101169                 0   \n",
       "9  130000.0          144100     1.0  ...      8376.285632                 0   \n",
       "\n",
       "    librar_dist librar_count demolished_dist demolished_count  theatre_dist  \\\n",
       "0  10138.621914            0    12921.805327                0  17765.277845   \n",
       "1   2316.594083            1     7474.454187                0   9053.879884   \n",
       "2   5249.893069            0     7337.821607                0  12204.622167   \n",
       "3   3333.323780            0     4048.787049                0   3665.147779   \n",
       "4   3139.401338            0    10130.626938                0  16013.586726   \n",
       "5   8102.715844            0    14662.056616                0  18406.182766   \n",
       "6   3183.948599            0     7681.449548                0   8727.840560   \n",
       "7   1872.113101            1     7841.030007                0  12941.540877   \n",
       "8   2036.692154            1      575.480724                3   2036.692154   \n",
       "9   3341.393327            0     5136.087064                0   9205.644431   \n",
       "\n",
       "  theatre_count  airport_dist airport_count  \n",
       "0             0   9528.304091             0  \n",
       "1             0  12350.593565             0  \n",
       "2             0  14480.561063             0  \n",
       "3             0  10844.019000             0  \n",
       "4             0  12550.946884             0  \n",
       "5             0   7664.805621             0  \n",
       "6             0  12828.414111             0  \n",
       "7             0   4863.510236             0  \n",
       "8             1   3281.017786             0  \n",
       "9             0  12446.470156             0  \n",
       "\n",
       "[10 rows x 99 columns]"
      ]
     },
     "execution_count": 20,
     "metadata": {},
     "output_type": "execute_result"
    }
   ],
   "source": [
    "df_structured_features.head(10)"
   ]
  },
  {
   "cell_type": "markdown",
   "metadata": {},
   "source": [
    "Save structured data with added distance based features."
   ]
  },
  {
   "cell_type": "code",
   "execution_count": 21,
   "metadata": {},
   "outputs": [],
   "source": [
    "df_structured_features.to_csv(PATH + \"structured_wiki_category_features.csv\", index=False)"
   ]
  },
  {
   "cell_type": "markdown",
   "metadata": {},
   "source": [
    "## Visualize categories"
   ]
  },
  {
   "cell_type": "markdown",
   "metadata": {},
   "source": [
    "Create boxplot for distance to nearest for __GIS__ data"
   ]
  },
  {
   "cell_type": "code",
   "execution_count": 22,
   "metadata": {},
   "outputs": [
    {
     "data": {
      "image/png": "[encoded data removed]",
      "text/plain": [
       "<Figure size 720x1440 with 1 Axes>"
      ]
     },
     "metadata": {
      "needs_background": "light"
     },
     "output_type": "display_data"
    }
   ],
   "source": [
    "structured_gis_features = pd.read_csv(PATH+f\"structured_gis_category_features_1500_radius.csv\")\n",
    "dist_cols = [col for col in list(structured_gis_features) if \"_dist\" in col]\n",
    "boxplot = structured_gis_features.boxplot(column=dist_cols, figsize=(10,20), vert=False)\n",
    "plt.yticks(fontsize=14)\n",
    "plt.xticks(fontsize=14)\n",
    "plt.savefig(\"visualizations/boxplot_gis_category_dist.png\", bbox_inches=\"tight\")\n",
    "plt.show()"
   ]
  },
  {
   "cell_type": "markdown",
   "metadata": {},
   "source": [
    "Create boxplot to show distribution of nearest POIs for each category for __Wikipedia__ data."
   ]
  },
  {
   "cell_type": "code",
   "execution_count": 23,
   "metadata": {},
   "outputs": [
    {
     "data": {
      "image/png": "[encoded data removed]",
      "text/plain": [
       "<Figure size 720x720 with 1 Axes>"
      ]
     },
     "metadata": {
      "needs_background": "light"
     },
     "output_type": "display_data"
    }
   ],
   "source": [
    "df_structured_features = pd.read_csv(PATH+\"structured_wiki_category_features.csv\")\n",
    "dist_cols = [col for col in list(df_structured_features.columns) if \"_dist\" in col]\n",
    "boxplot = df_structured_features.boxplot(column=dist_cols, figsize=(10,10), vert=False)\n",
    "plt.yticks(fontsize=14)\n",
    "plt.xticks(fontsize=14)\n",
    "plt.savefig(\"visualizations/boxplot_wiki_category_dist.png\", bbox_inches=\"tight\")\n",
    "plt.show()"
   ]
  },
  {
   "cell_type": "markdown",
   "metadata": {},
   "source": [
    "## Create text based features"
   ]
  },
  {
   "cell_type": "markdown",
   "metadata": {},
   "source": [
    "Add whitespace after \"Category:\" template, so that the first word of each category can be added to the corpus."
   ]
  },
  {
   "cell_type": "code",
   "execution_count": 24,
   "metadata": {},
   "outputs": [
    {
     "data": {
      "text/plain": [
       "'[[Category: Washington, Pennsylvania]]'"
      ]
     },
     "execution_count": 24,
     "metadata": {},
     "output_type": "execute_result"
    }
   ],
   "source": [
    "string = \"[[Category:Washington, Pennsylvania]]\"\n",
    "re.sub(r\"([cC]ategory:)([a-zA-z]+)\", r\"\\1 \\2\", string)"
   ]
  },
  {
   "cell_type": "code",
   "execution_count": 25,
   "metadata": {},
   "outputs": [],
   "source": [
    "df[\"text\"] = df[\"text\"].apply(lambda x: re.sub(r\"([cC]ategory:)([a-zA-z]+)\", r\"\\1 \\2\", x))"
   ]
  },
  {
   "cell_type": "markdown",
   "metadata": {},
   "source": [
    "Make custom stopword list."
   ]
  },
  {
   "cell_type": "code",
   "execution_count": 26,
   "metadata": {},
   "outputs": [],
   "source": [
    "custom_stopwords = stopwords.words(\"english\")\n",
    "custom_stopwords.extend([\"ref\", \"ref ref\", \"ref name\", \"name\", \"also\", \"per\", \"one\", \"two\",\n",
    "                         \"three\", \"four\", \"five\", \"six\", \"seven\", \"eight\", \"nine\", \"ten\",\n",
    "                         \"eleven\", \"twelve\"])"
   ]
  },
  {
   "cell_type": "markdown",
   "metadata": {},
   "source": [
    "Tokenize, create 2-grams and filter out bottom 2% used words."
   ]
  },
  {
   "cell_type": "code",
   "execution_count": 27,
   "metadata": {},
   "outputs": [],
   "source": [
    "token = RegexpTokenizer(r'[a-zA-Z][a-zA-Z][a-zA-Z]+')  # only keep words with minimum length of 3\n",
    "vectorizer = CountVectorizer(tokenizer=token.tokenize, stop_words=custom_stopwords, ngram_range=(1,2),\n",
    "                             min_df=0.01)"
   ]
  },
  {
   "cell_type": "markdown",
   "metadata": {},
   "source": [
    "Create term frequency matrix."
   ]
  },
  {
   "cell_type": "code",
   "execution_count": 28,
   "metadata": {},
   "outputs": [
    {
     "data": {
      "text/plain": [
       "(2407, 6661)"
      ]
     },
     "execution_count": 28,
     "metadata": {},
     "output_type": "execute_result"
    }
   ],
   "source": [
    "count_matrix = vectorizer.fit_transform(df[\"text\"])\n",
    "count_array = count_matrix.toarray()\n",
    "count_matrix.shape"
   ]
  },
  {
   "cell_type": "markdown",
   "metadata": {},
   "source": [
    "Save word count matrix for articles."
   ]
  },
  {
   "cell_type": "code",
   "execution_count": 29,
   "metadata": {},
   "outputs": [
    {
     "data": {
      "text/html": [
       "<div>\n",
       "<style scoped>\n",
       "    .dataframe tbody tr th:only-of-type {\n",
       "        vertical-align: middle;\n",
       "    }\n",
       "\n",
       "    .dataframe tbody tr th {\n",
       "        vertical-align: top;\n",
       "    }\n",
       "\n",
       "    .dataframe thead th {\n",
       "        text-align: right;\n",
       "    }\n",
       "</style>\n",
       "<table border=\"1\" class=\"dataframe\">\n",
       "  <thead>\n",
       "    <tr style=\"text-align: right;\">\n",
       "      <th></th>\n",
       "      <th>article_title</th>\n",
       "      <th>aaa</th>\n",
       "      <th>aaaa</th>\n",
       "      <th>abandoned</th>\n",
       "      <th>abc</th>\n",
       "      <th>ability</th>\n",
       "      <th>ability achievement</th>\n",
       "      <th>ability least</th>\n",
       "      <th>ability test</th>\n",
       "      <th>able</th>\n",
       "      <th>...</th>\n",
       "      <th>youghiogheny</th>\n",
       "      <th>youghiogheny river</th>\n",
       "      <th>young</th>\n",
       "      <th>youth</th>\n",
       "      <th>youtube</th>\n",
       "      <th>zero</th>\n",
       "      <th>zip</th>\n",
       "      <th>zip code</th>\n",
       "      <th>zip codes</th>\n",
       "      <th>zone</th>\n",
       "    </tr>\n",
       "  </thead>\n",
       "  <tbody>\n",
       "    <tr>\n",
       "      <th>0</th>\n",
       "      <td>Washington County Courthouse (Pennsylvania)</td>\n",
       "      <td>0</td>\n",
       "      <td>0</td>\n",
       "      <td>0</td>\n",
       "      <td>0</td>\n",
       "      <td>0</td>\n",
       "      <td>0</td>\n",
       "      <td>0</td>\n",
       "      <td>0</td>\n",
       "      <td>0</td>\n",
       "      <td>...</td>\n",
       "      <td>0</td>\n",
       "      <td>0</td>\n",
       "      <td>0</td>\n",
       "      <td>0</td>\n",
       "      <td>0</td>\n",
       "      <td>0</td>\n",
       "      <td>0</td>\n",
       "      <td>0</td>\n",
       "      <td>0</td>\n",
       "      <td>0</td>\n",
       "    </tr>\n",
       "    <tr>\n",
       "      <th>1</th>\n",
       "      <td>Wild Things Park</td>\n",
       "      <td>0</td>\n",
       "      <td>0</td>\n",
       "      <td>0</td>\n",
       "      <td>0</td>\n",
       "      <td>0</td>\n",
       "      <td>0</td>\n",
       "      <td>0</td>\n",
       "      <td>0</td>\n",
       "      <td>0</td>\n",
       "      <td>...</td>\n",
       "      <td>0</td>\n",
       "      <td>0</td>\n",
       "      <td>0</td>\n",
       "      <td>0</td>\n",
       "      <td>0</td>\n",
       "      <td>0</td>\n",
       "      <td>0</td>\n",
       "      <td>0</td>\n",
       "      <td>0</td>\n",
       "      <td>0</td>\n",
       "    </tr>\n",
       "    <tr>\n",
       "      <th>2</th>\n",
       "      <td>Thackeray Hall</td>\n",
       "      <td>0</td>\n",
       "      <td>0</td>\n",
       "      <td>0</td>\n",
       "      <td>0</td>\n",
       "      <td>0</td>\n",
       "      <td>0</td>\n",
       "      <td>0</td>\n",
       "      <td>0</td>\n",
       "      <td>0</td>\n",
       "      <td>...</td>\n",
       "      <td>0</td>\n",
       "      <td>0</td>\n",
       "      <td>0</td>\n",
       "      <td>0</td>\n",
       "      <td>0</td>\n",
       "      <td>0</td>\n",
       "      <td>0</td>\n",
       "      <td>0</td>\n",
       "      <td>0</td>\n",
       "      <td>0</td>\n",
       "    </tr>\n",
       "    <tr>\n",
       "      <th>3</th>\n",
       "      <td>Immaculate Heart of Mary Church (Pittsburgh)</td>\n",
       "      <td>0</td>\n",
       "      <td>0</td>\n",
       "      <td>0</td>\n",
       "      <td>0</td>\n",
       "      <td>0</td>\n",
       "      <td>0</td>\n",
       "      <td>0</td>\n",
       "      <td>0</td>\n",
       "      <td>0</td>\n",
       "      <td>...</td>\n",
       "      <td>0</td>\n",
       "      <td>0</td>\n",
       "      <td>0</td>\n",
       "      <td>0</td>\n",
       "      <td>0</td>\n",
       "      <td>0</td>\n",
       "      <td>0</td>\n",
       "      <td>0</td>\n",
       "      <td>0</td>\n",
       "      <td>0</td>\n",
       "    </tr>\n",
       "    <tr>\n",
       "      <th>4</th>\n",
       "      <td>St. Stanislaus Kostka Church (Pittsburgh)</td>\n",
       "      <td>0</td>\n",
       "      <td>0</td>\n",
       "      <td>0</td>\n",
       "      <td>0</td>\n",
       "      <td>0</td>\n",
       "      <td>0</td>\n",
       "      <td>0</td>\n",
       "      <td>0</td>\n",
       "      <td>0</td>\n",
       "      <td>...</td>\n",
       "      <td>0</td>\n",
       "      <td>0</td>\n",
       "      <td>0</td>\n",
       "      <td>0</td>\n",
       "      <td>0</td>\n",
       "      <td>0</td>\n",
       "      <td>0</td>\n",
       "      <td>0</td>\n",
       "      <td>0</td>\n",
       "      <td>0</td>\n",
       "    </tr>\n",
       "  </tbody>\n",
       "</table>\n",
       "<p>5 rows × 6662 columns</p>\n",
       "</div>"
      ],
      "text/plain": [
       "                                  article_title  aaa  aaaa  abandoned  abc  \\\n",
       "0   Washington County Courthouse (Pennsylvania)    0     0          0    0   \n",
       "1                              Wild Things Park    0     0          0    0   \n",
       "2                                Thackeray Hall    0     0          0    0   \n",
       "3  Immaculate Heart of Mary Church (Pittsburgh)    0     0          0    0   \n",
       "4     St. Stanislaus Kostka Church (Pittsburgh)    0     0          0    0   \n",
       "\n",
       "   ability  ability achievement  ability least  ability test  able  ...  \\\n",
       "0        0                    0              0             0     0  ...   \n",
       "1        0                    0              0             0     0  ...   \n",
       "2        0                    0              0             0     0  ...   \n",
       "3        0                    0              0             0     0  ...   \n",
       "4        0                    0              0             0     0  ...   \n",
       "\n",
       "   youghiogheny  youghiogheny river  young  youth  youtube  zero  zip  \\\n",
       "0             0                   0      0      0        0     0    0   \n",
       "1             0                   0      0      0        0     0    0   \n",
       "2             0                   0      0      0        0     0    0   \n",
       "3             0                   0      0      0        0     0    0   \n",
       "4             0                   0      0      0        0     0    0   \n",
       "\n",
       "   zip code  zip codes  zone  \n",
       "0         0          0     0  \n",
       "1         0          0     0  \n",
       "2         0          0     0  \n",
       "3         0          0     0  \n",
       "4         0          0     0  \n",
       "\n",
       "[5 rows x 6662 columns]"
      ]
     },
     "execution_count": 29,
     "metadata": {},
     "output_type": "execute_result"
    }
   ],
   "source": [
    "count_df = pd.DataFrame(data=count_array)\n",
    "count_df.columns = vectorizer.get_feature_names()\n",
    "count_df.insert(0, \"article_title\", df[\"name\"])\n",
    "count_df.to_csv(PATH+\"wikipedia/wikipedia_article_wordcounts.csv\", index=False)\n",
    "count_df.head()"
   ]
  },
  {
   "cell_type": "markdown",
   "metadata": {},
   "source": [
    "Show words with counts for first article."
   ]
  },
  {
   "cell_type": "code",
   "execution_count": 30,
   "metadata": {},
   "outputs": [
    {
     "name": "stdout",
     "output_type": "stream",
     "text": [
      "('april', 1), ('architecture', 1), ('architecture pennsylvania', 1), ('arts', 1), ('beaux', 1), ('beaux arts', 1), ('buildings', 3), ('buildings category', 1), ('buildings completed', 1), ('buildings structures', 1), ('calling', 1), ('campaign', 1), ('category', 8), ('category buildings', 1), ('category county', 1), ('category government', 1), ('category national', 1), ('category washington', 1), ('completed', 1), ('completed category', 1), ('county', 7), ('county courthouse', 1), ('county history', 1), ('county pennsylvania', 3), ('courthouse', 2), ('democratic', 1), ('designated', 1), ('designated historic', 1), ('downtown', 1), ('external', 1), ('external links', 1), ('form', 1), ('form category', 1), ('foundation', 1), ('frederick', 1), ('government', 1), ('government buildings', 1), ('historic', 5), ('historic places', 4), ('history', 1), ('history landmarks', 1), ('july', 1), ('kennedy', 1), ('landmark', 1), ('landmarks', 1), ('landmarks foundation', 1), ('links', 1), ('links national', 1), ('list', 1), ('listed', 1), ('listed national', 1), ('listings', 1), ('located', 1), ('national', 5), ('national register', 5), ('nomination', 1), ('nomination form', 1), ('nris', 1), ('pennsylvania', 9), ('pennsylvania category', 5), ('pennsylvania list', 1), ('pennsylvania references', 1), ('pennsylvania united', 1), ('places', 4), ('places listings', 1), ('places pennsylvania', 1), ('places washington', 1), ('president', 1), ('presidential', 1), ('primary', 1), ('public', 1), ('references', 1), ('references external', 1), ('register', 5), ('register historic', 4), ('register nomination', 1), ('see', 1), ('see national', 1), ('state', 1), ('states', 1), ('structures', 1), ('structures washington', 1), ('united', 1), ('united states', 1), ('vice', 1), ('vice president', 1), ('visited', 1), ('walter', 1), ('washington', 7), ('washington county', 5), ('washington pennsylvania', 2)\n"
     ]
    }
   ],
   "source": [
    "x = [(word, count) for i, (count, word) in enumerate(zip(count_array[0], vectorizer.get_feature_names())) if count > 0]\n",
    "\n",
    "print(*x, sep=\", \")"
   ]
  },
  {
   "cell_type": "markdown",
   "metadata": {},
   "source": [
    "Show the 100 most common words."
   ]
  },
  {
   "cell_type": "code",
   "execution_count": 31,
   "metadata": {},
   "outputs": [
    {
     "name": "stdout",
     "output_type": "stream",
     "text": [
      "[('school', 17739), ('pennsylvania', 17286), ('pittsburgh', 13005), ('category', 11209), ('district', 7781), ('county', 6785), ('state', 6473), ('education', 5565), ('area', 4733), ('high', 4507), ('students', 4088), ('allegheny', 4008), ('school district', 4006), ('township', 3982), ('pennsylvania category', 3840), ('center', 3661), ('building', 3627), ('grade', 3454), ('historic', 3450), ('high school', 3416), ('states', 3332), ('united', 3294), ('city', 3252), ('national', 3250), ('new', 3242), ('year', 3213), ('age', 3155), ('united states', 3133), ('university', 3069), ('department', 2994), ('years', 2926), ('history', 2866), ('borough', 2822), ('county pennsylvania', 2819), ('public', 2808), ('first', 2772), ('basic', 2749), ('schools', 2726), ('population', 2707), ('level', 2680), ('located', 2679), ('park', 2631), ('references', 2595), ('station', 2391), ('american', 2274), ('washington', 2273), ('bridge', 2244), ('places', 2231), ('income', 2227), ('north', 2217), ('river', 2206), ('college', 2193), ('census', 2190), ('west', 2142), ('street', 2137), ('districts', 2129), ('allegheny county', 2128), ('south', 2066), ('including', 2045), ('department education', 2012), ('student', 1976), ('average', 1971), ('pennsylvania department', 1965), ('basic state', 1942), ('program', 1855), ('buildings', 1845), ('funding', 1812), ('house', 1781), ('built', 1710), ('grade level', 1708), ('science', 1670), ('median', 1666), ('hall', 1665), ('register', 1662), ('community', 1632), ('national register', 1632), ('beaver', 1612), ('thumb', 1603), ('east', 1589), ('time', 1573), ('reading', 1559), ('may', 1552), ('board', 1532), ('received', 1531), ('historic places', 1530), ('register historic', 1524), ('part', 1519), ('small', 1513), ('family', 1500), ('church', 1492), ('links', 1466), ('people', 1466), ('academic', 1462), ('home', 1459), ('according', 1455), ('tax', 1453), ('external', 1448), ('local', 1447), ('school districts', 1438), ('company', 1434)]\n"
     ]
    }
   ],
   "source": [
    "freqs = zip(vectorizer.get_feature_names(), count_array.sum(axis=0))\n",
    "print(sorted(freqs, key=lambda x: -x[1])[:100])"
   ]
  },
  {
   "cell_type": "code",
   "execution_count": 32,
   "metadata": {},
   "outputs": [
    {
     "name": "stdout",
     "output_type": "stream",
     "text": [
      "['aaa', 'aaaa', 'abandoned', 'abc', 'ability', 'ability achievement', 'ability least', 'ability test', 'able', 'abuse']\n"
     ]
    },
    {
     "data": {
      "text/plain": [
       "6661"
      ]
     },
     "execution_count": 32,
     "metadata": {},
     "output_type": "execute_result"
    }
   ],
   "source": [
    "feature_names = vectorizer.get_feature_names()\n",
    "print(feature_names[:10])\n",
    "len(feature_names)"
   ]
  },
  {
   "cell_type": "markdown",
   "metadata": {},
   "source": [
    "Create idf vector."
   ]
  },
  {
   "cell_type": "code",
   "execution_count": 33,
   "metadata": {},
   "outputs": [
    {
     "data": {
      "text/plain": [
       "{'aaa': 5.122990160299065,\n",
       " 'aaaa': 5.4907149404243825,\n",
       " 'abandoned': 4.171431289587453,\n",
       " 'abc': 5.26019128181255,\n",
       " 'ability': 4.797567759864437,\n",
       " 'ability achievement': 5.4907149404243825,\n",
       " 'ability least': 5.352564601943565,\n",
       " 'ability test': 5.352564601943565,\n",
       " 'able': 4.332204510175204,\n",
       " 'abuse': 5.454347296253507,\n",
       " 'academic': 3.229723744729174,\n",
       " 'academic achievement': 4.1325914562711885,\n",
       " 'academic building': 5.454347296253507,\n",
       " 'academic buildings': 5.122990160299065,\n",
       " 'academic needs': 5.097672352314776,\n",
       " 'academic performance': 4.709014362522993,\n",
       " 'academic score': 5.419255976442238,\n",
       " 'academic standards': 4.894731508318085,\n",
       " 'academic success': 5.122990160299065,\n",
       " 'academics': 4.42984297973912,\n",
       " 'academy': 3.9502698994772336,\n",
       " 'accept': 4.40452517175483,\n",
       " 'accept credits': 4.581859187037745,\n",
       " 'accepted': 4.894731508318085,\n",
       " 'access': 3.229723744729174,\n",
       " 'access activities': 4.612164536533075,\n",
       " 'accessdate': 5.4907149404243825,\n",
       " 'accessed': 3.8520778732980197,\n",
       " 'accessed march': 5.26019128181255,\n",
       " 'accessible': 4.612164536533075,\n",
       " 'accident': 5.290044244962232,\n",
       " 'accommodate': 4.779218621196241,\n",
       " 'according': 2.342420549728271,\n",
       " 'according census': 5.3208159036289855,\n",
       " 'according federal': 5.454347296253507,\n",
       " 'according national': 4.8353080878472845,\n",
       " 'according pennsylvania': 4.297915436696572,\n",
       " 'according report': 4.643417080037179,\n",
       " 'according state': 5.352564601943565,\n",
       " 'according tax': 5.3208159036289855,\n",
       " 'according traditional': 4.915350795520821,\n",
       " 'according united': 2.867657952155565,\n",
       " 'account': 4.5670441012526055,\n",
       " 'account vast': 5.385354424766557,\n",
       " 'accountability': 4.915350795520821,\n",
       " 'accountability block': 5.203032867972602,\n",
       " 'accounts': 5.290044244962232,\n",
       " 'accredited': 4.894731508318085,\n",
       " 'achieve': 4.854726173704385,\n",
       " 'achieved': 4.113722971966805,\n",
       " 'achieved academic': 5.385354424766557,\n",
       " 'achieved adequate': 5.4907149404243825,\n",
       " 'achieved ayp': 4.65941742138362,\n",
       " 'achieved reflects': 5.419255976442238,\n",
       " 'achievement': 3.9662702408236745,\n",
       " 'achievement demonstrated': 5.419255976442238,\n",
       " 'achievement pennsylvania': 5.175633893784487,\n",
       " 'achievement reading': 5.097672352314776,\n",
       " 'achievement report': 4.761200115693562,\n",
       " 'achievement students': 5.231203744939298,\n",
       " 'achievement test': 5.4907149404243825,\n",
       " 'achieving': 4.9579104099396165,\n",
       " 'acquire': 5.419255976442238,\n",
       " 'acquired': 3.7303060010804034,\n",
       " 'acquiring': 5.048882188145344,\n",
       " 'acquisition': 5.072979739724404,\n",
       " 'acre': 4.627668723069039,\n",
       " 'acres': 3.9907612608319707,\n",
       " 'across': 2.6952419243510137,\n",
       " 'across allegheny': 4.816259892876589,\n",
       " 'across monongahela': 4.4558184661423805,\n",
       " 'across ohio': 4.9579104099396165,\n",
       " 'across region': 5.231203744939298,\n",
       " 'across river': 5.290044244962232,\n",
       " 'across street': 5.3208159036289855,\n",
       " 'act': 3.762671285582435,\n",
       " 'act adjusted': 5.290044244962232,\n",
       " 'act included': 5.290044244962232,\n",
       " 'act index': 5.290044244962232,\n",
       " 'act pennsylvania': 5.3208159036289855,\n",
       " 'act tax': 5.385354424766557,\n",
       " 'acting': 5.02535169073515,\n",
       " 'action': 4.191431956294122,\n",
       " 'actions': 4.743500538594161,\n",
       " 'actions bullying': 5.4907149404243825,\n",
       " 'active': 4.243257024158708,\n",
       " 'activities': 3.483246898369636,\n",
       " 'activities conducted': 5.4907149404243825,\n",
       " 'activities include': 5.419255976442238,\n",
       " 'activities pennsylvania': 5.3208159036289855,\n",
       " 'activities programs': 4.797567759864437,\n",
       " 'activities sports': 4.915350795520821,\n",
       " 'activity': 4.709014362522993,\n",
       " 'actor': 4.65941742138362,\n",
       " 'actress': 4.797567759864437,\n",
       " 'acts': 5.048882188145344,\n",
       " 'actual': 5.072979739724404,\n",
       " 'actually': 4.65941742138362,\n",
       " 'adam': 5.148965646702326,\n",
       " 'adams': 5.02535169073515,\n",
       " 'adapted': 5.203032867972602,\n",
       " 'add': 4.627668723069039,\n",
       " 'added': 2.720443716324964,\n",
       " 'added list': 4.355735007585398,\n",
       " 'added national': 4.032961615322347,\n",
       " 'adding': 4.761200115693562,\n",
       " 'addition': 2.86229600901418,\n",
       " 'addition homestead': 5.419255976442238,\n",
       " 'addition state': 5.175633893784487,\n",
       " 'additional': 3.092819667626012,\n",
       " 'additional federal': 5.148965646702326,\n",
       " 'additional fields': 4.367711198632113,\n",
       " 'additionally': 4.086071440636296,\n",
       " 'additionally district': 5.3208159036289855,\n",
       " 'additionally pennsylvania': 5.290044244962232,\n",
       " 'additions': 5.097672352314776,\n",
       " 'address': 4.18138162044062,\n",
       " 'addressed': 5.175633893784487,\n",
       " 'adds': 5.52845526840723,\n",
       " 'adequate': 4.915350795520821,\n",
       " 'adequate yearly': 5.048882188145344,\n",
       " 'adjacent': 3.0027266240989743,\n",
       " 'adjacent neighborhoods': 4.332204510175204,\n",
       " 'adjoining': 5.072979739724404,\n",
       " 'adjusted': 5.097672352314776,\n",
       " 'adjusted higher': 5.290044244962232,\n",
       " 'adjusted index': 5.290044244962232,\n",
       " 'administered': 4.894731508318085,\n",
       " 'administration': 3.483246898369636,\n",
       " 'administration reported': 4.936404204718653,\n",
       " 'administration school': 5.122990160299065,\n",
       " 'administrative': 4.077021605116378,\n",
       " 'administrative cost': 5.231203744939298,\n",
       " 'administrative costs': 5.072979739724404,\n",
       " 'administrative offices': 5.352564601943565,\n",
       " 'administrators': 4.797567759864437,\n",
       " 'admission': 4.643417080037179,\n",
       " 'admissions': 5.4907149404243825,\n",
       " 'adopted': 4.086071440636296,\n",
       " 'adopted preliminary': 5.385354424766557,\n",
       " 'adopted real': 5.419255976442238,\n",
       " 'adopted resolution': 5.385354424766557,\n",
       " 'adopting': 5.02535169073515,\n",
       " 'adopting either': 5.454347296253507,\n",
       " 'adopting resolution': 5.454347296253507,\n",
       " 'adoption': 5.26019128181255,\n",
       " 'adult': 4.482486713224542,\n",
       " 'adult contemporary': 5.385354424766557,\n",
       " 'adults': 5.148965646702326,\n",
       " 'advanced': 3.8029451847203752,\n",
       " 'advanced placement': 5.00236217251045,\n",
       " 'advantage': 5.00236217251045,\n",
       " 'aerial': 5.203032867972602,\n",
       " 'affairs': 4.9579104099396165,\n",
       " 'affiliate': 5.290044244962232,\n",
       " 'affiliated': 4.709014362522993,\n",
       " 'affiliation': 5.4907149404243825,\n",
       " 'african': 2.7089095630796773,\n",
       " 'african american': 2.763104213467679,\n",
       " 'afternoon': 4.797567759864437,\n",
       " 'age': 2.5250601221076696,\n",
       " 'age age': 2.975410813452011,\n",
       " 'age distribution': 4.596897064402286,\n",
       " 'age education': 5.419255976442238,\n",
       " 'age government': 4.979889316658392,\n",
       " 'age living': 2.86229600901418,\n",
       " 'age males': 2.8784688682597808,\n",
       " 'age notable': 5.385354424766557,\n",
       " 'age older': 2.7851369284675616,\n",
       " 'age references': 3.9267394020670396,\n",
       " 'age years': 2.8757551623881845,\n",
       " 'aged': 4.18138162044062,\n",
       " 'aged older': 4.320643687774128,\n",
       " 'agencies': 5.290044244962232,\n",
       " 'agency': 4.643417080037179,\n",
       " 'ages': 5.26019128181255,\n",
       " 'agree': 4.979889316658392,\n",
       " 'agree participate': 5.26019128181255,\n",
       " 'agreed': 4.201584327758139,\n",
       " 'agreed participate': 5.290044244962232,\n",
       " 'agreement': 3.7826055004832524,\n",
       " 'agreement many': 4.581859187037745,\n",
       " 'agreement prioritize': 5.26019128181255,\n",
       " 'agricultural': 4.797567759864437,\n",
       " 'agricultural purposes': 5.3208159036289855,\n",
       " 'ahead': 5.26019128181255,\n",
       " 'aid': 4.320643687774128,\n",
       " 'aid ratio': 5.26019128181255,\n",
       " 'air': 3.5501098435987624,\n",
       " 'aircraft': 5.290044244962232,\n",
       " 'aired': 5.048882188145344,\n",
       " 'airport': 4.552445301831453,\n",
       " 'albert': 5.02535169073515,\n",
       " 'alcoa': 5.52845526840723,\n",
       " 'alexander': 4.581859187037745,\n",
       " 'alfred': 5.385354424766557,\n",
       " 'algebra': 4.4690636928924015,\n",
       " 'algebra biology': 4.612164536533075,\n",
       " 'algebra grade': 5.175633893784487,\n",
       " 'aliquippa': 5.419255976442238,\n",
       " 'allegheny': 1.7762399391214825,\n",
       " 'allegheny city': 5.00236217251045,\n",
       " 'allegheny county': 2.0342814302869696,\n",
       " 'allegheny plateau': 4.854726173704385,\n",
       " 'allegheny river': 3.4684318125844955,\n",
       " 'allegheny school': 5.175633893784487,\n",
       " 'allegheny valley': 5.26019128181255,\n",
       " 'allen': 4.761200115693562,\n",
       " 'alliance': 5.175633893784487,\n",
       " 'allies': 5.4907149404243825,\n",
       " 'allocated': 5.203032867972602,\n",
       " 'allocation': 5.02535169073515,\n",
       " 'allow': 3.9825307616954553,\n",
       " 'allow voters': 5.3208159036289855,\n",
       " 'allowed': 3.8520778732980197,\n",
       " 'allowed raise': 5.4907149404243825,\n",
       " 'allowing': 4.596897064402286,\n",
       " 'allows': 4.979889316658392,\n",
       " 'almost': 4.015867181963047,\n",
       " 'alone': 2.9576061888185046,\n",
       " 'alone years': 3.040348615888558,\n",
       " 'along': 2.3456052657957907,\n",
       " 'along allegheny': 5.00236217251045,\n",
       " 'along monongahela': 5.122990160299065,\n",
       " 'along ohio': 4.8353080878472845,\n",
       " 'along pennsylvania': 5.231203744939298,\n",
       " 'alongside': 5.072979739724404,\n",
       " 'already': 4.2222036149608755,\n",
       " 'alt': 5.148965646702326,\n",
       " 'alternate': 5.454347296253507,\n",
       " 'alternative': 4.709014362522993,\n",
       " 'alternatives': 5.52845526840723,\n",
       " 'although': 3.162534300241373,\n",
       " 'although reported': 5.175633893784487,\n",
       " 'alumni': 3.680606332528131,\n",
       " 'alumnus': 5.52845526840723,\n",
       " 'always': 5.203032867972602,\n",
       " 'amassed': 5.52845526840723,\n",
       " 'amateur': 5.00236217251045,\n",
       " 'ambridge': 5.385354424766557,\n",
       " 'amenities': 5.00236217251045,\n",
       " 'america': 3.361601788947309,\n",
       " 'american': 1.9687212349745618,\n",
       " 'american asian': 3.062966704476331,\n",
       " 'american buildings': 5.3208159036289855,\n",
       " 'american civil': 5.419255976442238,\n",
       " 'american culture': 5.097672352314776,\n",
       " 'american engineering': 5.00236217251045,\n",
       " 'american fact': 5.4907149404243825,\n",
       " 'american football': 4.979889316658392,\n",
       " 'american history': 5.26019128181255,\n",
       " 'american indian': 5.52845526840723,\n",
       " 'american native': 3.2335922215070942,\n",
       " 'american races': 5.072979739724404,\n",
       " 'american revolution': 5.26019128181255,\n",
       " 'americans': 4.552445301831453,\n",
       " 'among': 2.975410813452011,\n",
       " 'among pennsylvania': 4.4558184661423805,\n",
       " 'among states': 4.979889316658392,\n",
       " 'amount': 4.18138162044062,\n",
       " 'amount increase': 5.231203744939298,\n",
       " 'amusement': 5.3208159036289855,\n",
       " 'analysis': 5.231203744939298,\n",
       " 'ancestry': 5.419255976442238,\n",
       " 'anchor': 5.097672352314776,\n",
       " 'anchored': 5.52845526840723,\n",
       " 'ancient': 5.52845526840723,\n",
       " 'anderson': 5.148965646702326,\n",
       " 'andrew': 3.816738506852711,\n",
       " 'andrew carnegie': 4.743500538594161,\n",
       " 'andrew mellon': 5.385354424766557,\n",
       " 'andy': 4.797567759864437,\n",
       " 'andy warhol': 5.290044244962232,\n",
       " 'angeles': 5.385354424766557,\n",
       " 'ann': 5.072979739724404,\n",
       " 'anne': 5.02535169073515,\n",
       " 'annex': 5.148965646702326,\n",
       " 'annexed': 4.482486713224542,\n",
       " 'annexed city': 5.454347296253507,\n",
       " 'anniversary': 4.42984297973912,\n",
       " 'announced': 3.4733458273869244,\n",
       " 'announced would': 5.122990160299065,\n",
       " 'announcer': 5.4907149404243825,\n",
       " 'announces': 5.4907149404243825,\n",
       " 'annual': 3.5395277342682254,\n",
       " 'annual review': 5.4907149404243825,\n",
       " 'annual school': 5.290044244962232,\n",
       " 'annually': 4.275692299911862,\n",
       " 'annually rebate': 5.419255976442238,\n",
       " 'another': 3.188129847430337,\n",
       " 'anthony': 4.726108795882292,\n",
       " 'anti': 4.797567759864437,\n",
       " 'anti bullying': 5.4907149404243825,\n",
       " 'apartment': 4.5670441012526055,\n",
       " 'apartments': 4.627668723069039,\n",
       " 'appalachian': 5.385354424766557,\n",
       " 'appear': 5.00236217251045,\n",
       " 'appearance': 5.02535169073515,\n",
       " 'appeared': 5.231203744939298,\n",
       " 'appears': 4.854726173704385,\n",
       " 'applicants': 5.231203744939298,\n",
       " 'applicants exclude': 5.419255976442238,\n",
       " 'application': 4.692207244206611,\n",
       " 'applications': 5.3208159036289855,\n",
       " 'applied': 4.123112712316645,\n",
       " 'applied property': 5.419255976442238,\n",
       " 'applied received': 5.352564601943565,\n",
       " 'applied tax': 5.454347296253507,\n",
       " 'apply': 4.392102651756273,\n",
       " 'apply annually': 5.385354424766557,\n",
       " 'apply exceptions': 5.385354424766557,\n",
       " 'apply referendum': 5.454347296253507,\n",
       " 'apply relief': 5.3208159036289855,\n",
       " 'appointed': 4.509885687412656,\n",
       " 'approach': 4.612164536533075,\n",
       " 'appropriate': 4.643417080037179,\n",
       " 'appropriate educational': 5.4907149404243825,\n",
       " 'appropriation': 5.072979739724404,\n",
       " 'appropriation amount': 5.419255976442238,\n",
       " 'approval': 4.4690636928924015,\n",
       " 'approval granted': 5.454347296253507,\n",
       " 'approved': 3.7692719696137873,\n",
       " 'approved grant': 5.454347296253507,\n",
       " 'approved permanent': 5.419255976442238,\n",
       " 'approximately': 3.214397774250947,\n",
       " 'april': 2.8204050673050194,\n",
       " 'arch': 3.837791916050543,\n",
       " 'arch bridge': 5.4907149404243825,\n",
       " 'arch note': 4.392102651756273,\n",
       " 'architect': 3.775916512332456,\n",
       " 'architects': 4.4690636928924015,\n",
       " 'architectural': 3.775916512332456,\n",
       " 'architectural firm': 5.072979739724404,\n",
       " 'architectural style': 5.454347296253507,\n",
       " 'architecture': 2.856962663038817,\n",
       " 'architecture pennsylvania': 3.2934903630881633,\n",
       " 'archive': 4.6756779422554,\n",
       " 'archives': 4.874528801000565,\n",
       " 'area': 1.732102148295771,\n",
       " 'area area': 4.4427463845750275,\n",
       " 'area category': 2.928618651945252,\n",
       " 'area code': 4.320643687774128,\n",
       " 'area footnotes': 4.40452517175483,\n",
       " 'area high': 4.596897064402286,\n",
       " 'area known': 5.4907149404243825,\n",
       " 'area land': 2.8026155257415213,\n",
       " 'area magnitude': 4.5670441012526055,\n",
       " 'area nbsp': 5.26019128181255,\n",
       " 'area pittsburgh': 5.4907149404243825,\n",
       " 'area population': 5.148965646702326,\n",
       " 'area postal': 4.4558184661423805,\n",
       " 'area receives': 5.3208159036289855,\n",
       " 'area school': 3.8665708806005865,\n",
       " 'area total': 4.392102651756273,\n",
       " 'area water': 4.0680529351336165,\n",
       " 'areas': 3.1993031480284624,\n",
       " 'arena': 4.692207244206611,\n",
       " 'armstrong': 3.9345215425090947,\n",
       " 'armstrong county': 4.286742136098447,\n",
       " 'army': 3.9907612608319707,\n",
       " 'army corps': 5.290044244962232,\n",
       " 'arnold': 4.9579104099396165,\n",
       " 'around': 2.897673848095831,\n",
       " 'around revenues': 5.385354424766557,\n",
       " 'around time': 5.203032867972602,\n",
       " 'arra': 5.097672352314776,\n",
       " 'arra federal': 5.148965646702326,\n",
       " 'arrived': 4.779218621196241,\n",
       " 'art': 3.1697807087621404,\n",
       " 'art deco': 5.122990160299065,\n",
       " 'arthur': 4.936404204718653,\n",
       " 'article': 3.9907612608319707,\n",
       " 'articles': 4.936404204718653,\n",
       " 'articulation': 4.581859187037745,\n",
       " 'articulation agreement': 4.581859187037745,\n",
       " 'artifacts': 5.122990160299065,\n",
       " 'artist': 4.077021605116378,\n",
       " 'artistic': 5.352564601943565,\n",
       " 'artists': 4.367711198632113,\n",
       " 'arts': 3.2812202704963487,\n",
       " 'arts building': 5.4907149404243825,\n",
       " 'arts center': 5.52845526840723,\n",
       " 'arts humanities': 5.419255976442238,\n",
       " 'asian': 2.9401130313709873,\n",
       " 'asian pacific': 3.8738969206926597,\n",
       " 'asian races': 3.588054775162886,\n",
       " 'ask': 5.203032867972602,\n",
       " 'ask voters': 5.454347296253507,\n",
       " 'asked': 4.627668723069039,\n",
       " 'asked exceed': 5.52845526840723,\n",
       " 'aspects': 5.175633893784487,\n",
       " 'assembly': 4.523871929387396,\n",
       " 'assembly pennsylvania': 5.52845526840723,\n",
       " 'assessed': 4.9579104099396165,\n",
       " 'assessed value': 5.148965646702326,\n",
       " 'assessment': 4.692207244206611,\n",
       " 'assessments': 4.979889316658392,\n",
       " 'assets': 5.4907149404243825,\n",
       " 'assigned': 4.797567759864437,\n",
       " 'assist': 4.123112712316645,\n",
       " 'assist schools': 5.4907149404243825,\n",
       " 'assist students': 4.5670441012526055,\n",
       " 'assistance': 4.332204510175204,\n",
       " 'assistance struggling': 5.4907149404243825,\n",
       " 'assistant': 4.643417080037179,\n",
       " 'associate': 4.050353358034217,\n",
       " 'associate degree': 4.496092365280321,\n",
       " 'associated': 4.171431289587453,\n",
       " 'associates': 4.6756779422554,\n",
       " 'association': 3.10297203909003,\n",
       " 'assumed': 5.231203744939298,\n",
       " 'athletes': 5.385354424766557,\n",
       " 'athletic': 3.7366957991791745,\n",
       " 'athletic association': 4.726108795882292,\n",
       " 'athletic league': 5.3208159036289855,\n",
       " 'athletic teams': 5.4907149404243825,\n",
       " 'athletics': 3.830724748827451,\n",
       " 'athletics must': 4.552445301831453,\n",
       " 'atlantic': 4.936404204718653,\n",
       " 'atlas': 5.385354424766557,\n",
       " 'atop': 5.072979739724404,\n",
       " 'attached': 5.352564601943565,\n",
       " 'attack': 5.048882188145344,\n",
       " 'attacks': 5.52845526840723,\n",
       " 'attempt': 4.65941742138362,\n",
       " 'attempted': 5.122990160299065,\n",
       " 'attempts': 5.072979739724404,\n",
       " 'attend': 3.7495992040150825,\n",
       " 'attend pennsylvania': 4.4427463845750275,\n",
       " 'attend private': 4.538056564379353,\n",
       " 'attendance': 4.552445301831453,\n",
       " 'attended': 4.538056564379353,\n",
       " 'attending': 4.854726173704385,\n",
       " 'attention': 4.854726173704385,\n",
       " 'attorney': 4.816259892876589,\n",
       " 'attract': 5.419255976442238,\n",
       " 'attracted': 5.00236217251045,\n",
       " 'attraction': 5.52845526840723,\n",
       " 'attractions': 4.232674914828171,\n",
       " 'attractions pittsburgh': 4.979889316658392,\n",
       " 'audience': 5.02535169073515,\n",
       " 'audio': 5.352564601943565,\n",
       " 'audit': 5.203032867972602,\n",
       " 'audit district': 5.352564601943565,\n",
       " 'auditor': 5.148965646702326,\n",
       " 'auditor general': 5.148965646702326,\n",
       " 'auditorium': 4.40452517175483,\n",
       " 'august': 2.86229600901418,\n",
       " 'austin': 5.4907149404243825,\n",
       " 'author': 4.367711198632113,\n",
       " 'authority': 3.3704514042242915,\n",
       " 'authority allegheny': 4.201584327758139,\n",
       " 'authority stations': 4.9579104099396165,\n",
       " 'authorized': 5.097672352314776,\n",
       " 'auto': 3.9582380691264105,\n",
       " 'auto general': 4.4427463845750275,\n",
       " 'automobile': 5.097672352314776,\n",
       " 'available': 3.151762203259462,\n",
       " 'available basic': 4.379832559164459,\n",
       " 'available school': 5.419255976442238,\n",
       " 'ave': 4.581859187037745,\n",
       " 'avenue': 2.6884775242624714,\n",
       " 'avenue pittsburgh': 5.231203744939298,\n",
       " 'avenues': 4.979889316658392,\n",
       " 'average': 2.546275961257942,\n",
       " 'average density': 2.864973386784896,\n",
       " 'average family': 2.859625780458301,\n",
       " 'average household': 2.859625780458301,\n",
       " 'average percentage': 5.290044244962232,\n",
       " 'average score': 4.894731508318085,\n",
       " 'average teacher': 5.148965646702326,\n",
       " 'average weekly': 5.290044244962232,\n",
       " 'averaged': 4.761200115693562,\n",
       " 'averaged verbal': 4.936404204718653,\n",
       " 'aviation': 5.385354424766557,\n",
       " 'avoid': 5.454347296253507,\n",
       " 'award': 3.6866853786045133,\n",
       " 'award given': 5.52845526840723,\n",
       " 'award winning': 5.072979739724404,\n",
       " 'awarded': 3.896202678206958,\n",
       " 'awarded philadelphia': 5.454347296253507,\n",
       " 'awards': 4.16157899314444,\n",
       " 'away': 3.9662702408236745,\n",
       " 'ayp': 4.367711198632113,\n",
       " 'ayp history': 5.454347296253507,\n",
       " 'ayp overview': 5.122990160299065,\n",
       " 'ayp status': 4.4427463845750275,\n",
       " 'bachelor': 4.1325914562711885,\n",
       " 'bachelor degree': 4.392102651756273,\n",
       " 'back': 3.188129847430337,\n",
       " 'background': 4.367711198632113,\n",
       " 'baker': 5.148965646702326,\n",
       " 'balance': 4.979889316658392,\n",
       " 'baldwin': 4.9579104099396165,\n",
       " 'ball': 5.02535169073515,\n",
       " 'baltimore': 4.709014362522993,\n",
       " 'baltimore ohio': 5.4907149404243825,\n",
       " 'band': 4.059163987716371,\n",
       " 'bands': 5.02535169073515,\n",
       " 'bank': 3.5395277342682254,\n",
       " 'bank building': 5.52845526840723,\n",
       " 'bankruptcy': 5.385354424766557,\n",
       " 'banks': 4.894731508318085,\n",
       " 'baptist': 5.072979739724404,\n",
       " 'bar': 4.709014362522993,\n",
       " 'barack': 5.4907149404243825,\n",
       " 'barack obama': 5.4907149404243825,\n",
       " 'barbara': 5.4907149404243825,\n",
       " 'barn': 5.4907149404243825,\n",
       " 'barry': 5.4907149404243825,\n",
       " 'bars': 5.4907149404243825,\n",
       " 'base': 4.015867181963047,\n",
       " 'base base': 5.290044244962232,\n",
       " 'base increase': 5.231203744939298,\n",
       " 'base index': 5.290044244962232,\n",
       " 'baseball': 3.335513352863011,\n",
       " 'baseball basketball': 5.4907149404243825,\n",
       " 'baseball player': 4.874528801000565,\n",
       " 'baseball softball': 5.385354424766557,\n",
       " 'baseball team': 5.352564601943565,\n",
       " 'based': 2.8281271133989296,\n",
       " 'based data': 5.454347296253507,\n",
       " 'based last': 5.048882188145344,\n",
       " 'based pittsburgh': 4.979889316658392,\n",
       " 'based student': 5.454347296253507,\n",
       " 'based upon': 5.4907149404243825,\n",
       " 'based years': 4.761200115693562,\n",
       " 'basement': 4.379832559164459,\n",
       " 'bases': 4.979889316658392,\n",
       " 'bases base': 5.290044244962232,\n",
       " 'basic': 3.4932469817042193,\n",
       " 'basic education': 4.9579104099396165,\n",
       " 'basic educational': 5.175633893784487,\n",
       " 'basic info': 4.379832559164459,\n",
       " 'basic pennsylvania': 4.612164536533075,\n",
       " 'basic state': 4.552445301831453,\n",
       " 'basis': 4.538056564379353,\n",
       " 'basis screening': 5.52845526840723,\n",
       " 'basketball': 3.5084371471981943,\n",
       " 'basketball team': 5.4907149404243825,\n",
       " 'battle': 4.612164536533075,\n",
       " 'bay': 4.692207244206611,\n",
       " 'beach': 5.352564601943565,\n",
       " 'bear': 5.52845526840723,\n",
       " 'bears': 5.419255976442238,\n",
       " 'beautiful': 5.148965646702326,\n",
       " 'beaux': 5.203032867972602,\n",
       " 'beaux arts': 5.203032867972602,\n",
       " 'beaver': 3.1734237000406416,\n",
       " 'beaver county': 3.3838744245564323,\n",
       " 'beaver falls': 4.8353080878472845,\n",
       " 'beaver river': 5.00236217251045,\n",
       " 'beaver valley': 5.352564601943565,\n",
       " 'became': 2.683993211815143,\n",
       " 'became first': 4.9579104099396165,\n",
       " 'became known': 4.726108795882292,\n",
       " 'become': 3.155340024607346,\n",
       " 'become serious': 5.231203744939298,\n",
       " 'becoming': 4.309214991950505,\n",
       " 'bed': 5.175633893784487,\n",
       " 'bedford': 5.352564601943565,\n",
       " 'beds': 5.52845526840723,\n",
       " 'beechview': 5.203032867972602,\n",
       " 'began': 2.6596826223145267,\n",
       " 'begin': 4.692207244206611,\n",
       " 'beginning': 3.357206177474271,\n",
       " 'beginning state': 5.454347296253507,\n",
       " 'begins': 4.894731508318085,\n",
       " 'begun': 4.692207244206611,\n",
       " 'behalf': 5.419255976442238,\n",
       " 'behind': 3.593594955538501,\n",
       " 'behind act': 4.816259892876589,\n",
       " 'behind pennsylvania': 4.979889316658392,\n",
       " 'believe': 5.3208159036289855,\n",
       " 'believed': 4.596897064402286,\n",
       " 'bell': 4.538056564379353,\n",
       " 'bellefield': 5.52845526840723,\n",
       " 'belt': 5.175633893784487,\n",
       " 'ben': 4.854726173704385,\n",
       " 'beneath': 5.52845526840723,\n",
       " 'benefit': 4.692207244206611,\n",
       " 'benefit pension': 5.352564601943565,\n",
       " 'benefit student': 5.52845526840723,\n",
       " 'benefits': 4.8353080878472845,\n",
       " 'benefits teachers': 5.454347296253507,\n",
       " 'benjamin': 4.797567759864437,\n",
       " 'berks': 5.175633893784487,\n",
       " 'berks county': 5.175633893784487,\n",
       " 'best': 3.2531623177011912,\n",
       " 'best high': 5.454347296253507,\n",
       " 'best known': 4.797567759864437,\n",
       " 'bethel': 4.4427463845750275,\n",
       " 'bethel park': 4.643417080037179,\n",
       " 'bethlehem': 5.385354424766557,\n",
       " 'better': 4.041619678065461,\n",
       " 'beyond': 4.320643687774128,\n",
       " 'bibliography': 5.4907149404243825,\n",
       " 'big': 3.9267394020670396,\n",
       " 'big beaver': 5.4907149404243825,\n",
       " 'bigelow': 5.454347296253507,\n",
       " 'bike': 5.419255976442238,\n",
       " 'bill': 3.6745640180721684,\n",
       " 'bill property': 5.352564601943565,\n",
       " 'billion': 4.761200115693562,\n",
       " 'billion pennsylvania': 5.419255976442238,\n",
       " 'billy': 5.175633893784487,\n",
       " 'biographical': 5.290044244962232,\n",
       " 'biology': 4.16157899314444,\n",
       " 'biology english': 4.692207244206611,\n",
       " 'biology grade': 5.175633893784487,\n",
       " 'birmingham': 5.419255976442238,\n",
       " 'birth': 5.454347296253507,\n",
       " 'birthplace': 5.352564601943565,\n",
       " 'bishop': 4.979889316658392,\n",
       " 'black': 3.775916512332456,\n",
       " 'block': 3.91135448322756,\n",
       " 'block grant': 5.148965646702326,\n",
       " 'block grants': 5.231203744939298,\n",
       " 'blocks': 4.523871929387396,\n",
       " 'blog': 5.4907149404243825,\n",
       " 'bloomfield': 5.26019128181255,\n",
       " 'blue': 4.095203924199568,\n",
       " 'bluff': 4.936404204718653,\n",
       " 'blvd': 5.4907149404243825,\n",
       " 'board': 3.195564825917855,\n",
       " 'board apply': 5.352564601943565,\n",
       " 'board approved': 5.385354424766557,\n",
       " 'board determined': 4.979889316658392,\n",
       " 'board directors': 5.454347296253507,\n",
       " 'board district': 5.454347296253507,\n",
       " 'board education': 4.779218621196241,\n",
       " 'board local': 5.290044244962232,\n",
       " 'board members': 5.352564601943565,\n",
       " 'board option': 5.4907149404243825,\n",
       " 'board policy': 4.854726173704385,\n",
       " 'board regulations': 4.692207244206611,\n",
       " 'board trustees': 5.3208159036289855,\n",
       " 'boards': 4.797567759864437,\n",
       " 'boards asked': 5.52845526840723,\n",
       " 'boat': 5.148965646702326,\n",
       " 'boats': 5.454347296253507,\n",
       " 'bob': 4.171431289587453,\n",
       " 'body': 4.286742136098447,\n",
       " 'bon': 5.52845526840723,\n",
       " 'bond': 5.097672352314776,\n",
       " 'book': 3.830724748827451,\n",
       " 'books': 3.705147441444249,\n",
       " 'books pennsylvania': 4.726108795882292,\n",
       " 'boom': 5.52845526840723,\n",
       " 'border': 3.8520778732980197,\n",
       " 'bordered': 4.1325914562711885,\n",
       " 'borders': 3.214397774250947,\n",
       " 'borders including': 3.7692719696137873,\n",
       " 'borders pittsburgh': 5.4907149404243825,\n",
       " 'born': 4.024377871630955,\n",
       " 'borough': 2.6575015963681663,\n",
       " 'borough allegheny': 4.332204510175204,\n",
       " 'borough beaver': 5.3208159036289855,\n",
       " 'borough families': 3.5608051327155104,\n",
       " 'borough median': 3.6217658325051976,\n",
       " 'borough population': 3.488234439880675,\n",
       " 'borough school': 5.048882188145344,\n",
       " 'borough total': 3.593594955538501,\n",
       " 'borough washington': 5.352564601943565,\n",
       " 'borough westmoreland': 5.52845526840723,\n",
       " 'borough white': 3.4733458273869244,\n",
       " 'boroughs': 3.1270695906690906,\n",
       " 'boroughs allegheny': 4.320643687774128,\n",
       " 'boroughs beaver': 5.3208159036289855,\n",
       " 'boroughs washington': 5.26019128181255,\n",
       " 'boroughs westmoreland': 5.419255976442238,\n",
       " 'boston': 4.509885687412656,\n",
       " 'bot': 4.979889316658392,\n",
       " 'bot generated': 5.00236217251045,\n",
       " 'bottom': 4.761200115693562,\n",
       " 'bought': 4.032961615322347,\n",
       " 'boulevard': 4.123112712316645,\n",
       " 'boundaries': 4.65941742138362,\n",
       " 'boundary': 4.692207244206611,\n",
       " 'bounded': 4.979889316658392,\n",
       " 'bouquet': 5.52845526840723,\n",
       " 'bowl': 5.072979739724404,\n",
       " 'bowling': 4.854726173704385,\n",
       " 'box': 4.761200115693562,\n",
       " 'boy': 5.122990160299065,\n",
       " 'boys': 4.123112712316645,\n",
       " 'boys baseball': 5.4907149404243825,\n",
       " 'boys basketball': 5.419255976442238,\n",
       " 'boys girls': 5.097672352314776,\n",
       " 'braddock': 4.40452517175483,\n",
       " 'bradford': 5.26019128181255,\n",
       " 'branch': 3.896202678206958,\n",
       " 'brand': 5.231203744939298,\n",
       " 'break': 5.097672352314776,\n",
       " 'breakfast': 5.4907149404243825,\n",
       " 'breeze': 5.290044244962232,\n",
       " 'brian': 5.048882188145344,\n",
       " 'brick': 3.5342783783820817,\n",
       " 'brick building': 5.352564601943565,\n",
       " 'bridge': 2.8757551623881845,\n",
       " 'bridge built': 4.816259892876589,\n",
       " 'bridge carries': 4.874528801000565,\n",
       " 'bridge historic': 5.4907149404243825,\n",
       " 'bridge washington': 5.419255976442238,\n",
       " 'bridges': 3.52905643440093,\n",
       " 'bridges allegheny': 4.743500538594161,\n",
       " 'bridges completed': 4.211840827925329,\n",
       " 'bridges documented': 5.352564601943565,\n",
       " 'bridges monongahela': 5.26019128181255,\n",
       " 'bridges national': 4.894731508318085,\n",
       " 'bridges pennsylvania': 3.91135448322756,\n",
       " 'bridges pittsburgh': 5.122990160299065,\n",
       " 'bridges united': 3.9582380691264105,\n",
       " 'bridges washington': 5.231203744939298,\n",
       " 'brief': 5.02535169073515,\n",
       " 'briefly': 5.097672352314776,\n",
       " 'brighton': 4.979889316658392,\n",
       " 'bring': 4.726108795882292,\n",
       " 'bringing': 4.936404204718653,\n",
       " 'british': 4.509885687412656,\n",
       " 'broad': 4.761200115693562,\n",
       " 'broadcast': 4.482486713224542,\n",
       " 'broadcasting': 4.581859187037745,\n",
       " 'broadcasts': 4.6756779422554,\n",
       " 'broadway': 5.072979739724404,\n",
       " 'broke': 4.779218621196241,\n",
       " 'broken': 4.743500538594161,\n",
       " 'bronze': 4.581859187037745,\n",
       " 'brother': 4.854726173704385,\n",
       " 'brothers': 4.309214991950505,\n",
       " 'brought': 3.775916512332456,\n",
       " 'brown': 4.211840827925329,\n",
       " 'brownsville': 4.743500538594161,\n",
       " 'bruce': 4.874528801000565,\n",
       " 'budget': 4.309214991950505,\n",
       " 'budget adopted': 5.385354424766557,\n",
       " 'budget exceed': 5.419255976442238,\n",
       " 'budget february': 5.419255976442238,\n",
       " 'budget proposal': 5.231203744939298,\n",
       " 'budget school': 5.3208159036289855,\n",
       " 'budget year': 5.072979739724404,\n",
       " 'budgets': 5.203032867972602,\n",
       " 'budgets school': 5.454347296253507,\n",
       " 'buffalo': 4.5670441012526055,\n",
       " 'build': 3.8520778732980197,\n",
       " 'build new': 5.454347296253507,\n",
       " 'building': 1.9964545709148072,\n",
       " 'building built': 4.743500538594161,\n",
       " 'building campus': 5.52845526840723,\n",
       " 'building completed': 5.097672352314776,\n",
       " 'building constructed': 4.8353080878472845,\n",
       " 'building designed': 4.874528801000565,\n",
       " 'building houses': 5.454347296253507,\n",
       " 'building listed': 4.936404204718653,\n",
       " 'building located': 4.643417080037179,\n",
       " 'building pittsburgh': 4.9579104099396165,\n",
       " 'building principal': 5.290044244962232,\n",
       " 'building used': 4.874528801000565,\n",
       " 'buildings': 2.1119904146142856,\n",
       " 'buildings category': 4.201584327758139,\n",
       " 'buildings completed': 3.314281132757237,\n",
       " 'buildings national': 3.9825307616954553,\n",
       " 'buildings pennsylvania': 5.419255976442238,\n",
       " 'buildings pittsburgh': 4.5670441012526055,\n",
       " 'buildings structures': 2.9576061888185046,\n",
       " 'buildings survey': 5.290044244962232,\n",
       " 'buildings united': 5.231203744939298,\n",
       " 'built': 2.0519601464557637,\n",
       " 'built around': 5.52845526840723,\n",
       " 'built circa': 5.26019128181255,\n",
       " 'bullying': 5.352564601943565,\n",
       " 'bullying designate': 5.4907149404243825,\n",
       " 'bullying policy': 5.4907149404243825,\n",
       " 'bullying prevention': 5.454347296253507,\n",
       " 'bureau': 2.6106845363229505,\n",
       " 'bureau borough': 3.5825451193519164,\n",
       " 'bureau cdp': 5.26019128181255,\n",
       " 'bureau labor': 5.290044244962232,\n",
       " 'bureau township': 4.015867181963047,\n",
       " 'burial': 5.048882188145344,\n",
       " 'buried': 5.3208159036289855,\n",
       " 'burned': 5.122990160299065,\n",
       " 'burrell': 5.52845526840723,\n",
       " 'bus': 4.4558184661423805,\n",
       " 'business': 2.7043328960522657,\n",
       " 'business district': 4.4558184661423805,\n",
       " 'business times': 4.113722971966805,\n",
       " 'businesses': 3.974367451056294,\n",
       " 'businessman': 5.02535169073515,\n",
       " 'butler': 3.588054775162886,\n",
       " 'butler county': 3.859298121271507,\n",
       " 'buy': 4.496092365280321,\n",
       " 'buy laptop': 5.072979739724404,\n",
       " 'cabin': 5.231203744939298,\n",
       " 'cable': 5.175633893784487,\n",
       " 'cafeteria': 5.4907149404243825,\n",
       " 'calculated': 5.203032867972602,\n",
       " 'calculations': 4.854726173704385,\n",
       " 'calendar': 4.9579104099396165,\n",
       " 'calendar year': 5.148965646702326,\n",
       " 'california': 4.113722971966805,\n",
       " 'california university': 5.454347296253507,\n",
       " 'call': 3.974367451056294,\n",
       " 'call letters': 4.9579104099396165,\n",
       " 'call sign': 5.419255976442238,\n",
       " 'called': 2.6884775242624714,\n",
       " 'calling': 5.4907149404243825,\n",
       " 'calls': 5.122990160299065,\n",
       " 'came': 3.6448882499260518,\n",
       " 'camp': 5.00236217251045,\n",
       " 'campaign': 4.5670441012526055,\n",
       " 'campbell': 5.26019128181255,\n",
       " 'campus': 3.229723744729174,\n",
       " 'campus tour': 5.048882188145344,\n",
       " 'campus university': 5.02535169073515,\n",
       " 'campuses': 5.352564601943565,\n",
       " 'canada': 5.419255976442238,\n",
       " 'canadian': 5.352564601943565,\n",
       " 'canal': 5.385354424766557,\n",
       " 'cancer': 5.385354424766557,\n",
       " 'candidate': 5.231203744939298,\n",
       " 'canonsburg': 5.148965646702326,\n",
       " 'capacity': 4.379832559164459,\n",
       " 'capita': 2.7925903791221423,\n",
       " 'capita income': 2.805137595174231,\n",
       " 'capital': 4.41710395396169,\n",
       " 'captain': 4.8353080878472845,\n",
       " 'caption': 4.2222036149608755,\n",
       " 'caption image': 5.122990160299065,\n",
       " 'caption pushpin': 4.41710395396169,\n",
       " 'capture': 5.52845526840723,\n",
       " 'car': 4.332204510175204,\n",
       " 'card': 4.355735007585398,\n",
       " 'card august': 5.454347296253507,\n",
       " 'card october': 5.3208159036289855,\n",
       " 'card september': 5.02535169073515,\n",
       " 'cards': 4.936404204718653,\n",
       " 'cards ability': 5.4907149404243825,\n",
       " 'care': 4.077021605116378,\n",
       " 'care data': 5.072979739724404,\n",
       " 'career': 3.903749883842341,\n",
       " 'career technology': 5.122990160299065,\n",
       " 'careers': 5.175633893784487,\n",
       " 'carl': 5.203032867972602,\n",
       " 'carnegie': 3.2335922215070942,\n",
       " 'carnegie institute': 5.419255976442238,\n",
       " 'carnegie library': 4.612164536533075,\n",
       " 'carnegie mellon': 4.201584327758139,\n",
       " 'carnegie museum': 5.3208159036289855,\n",
       " 'carol': 5.419255976442238,\n",
       " 'carolina': 5.048882188145344,\n",
       " 'carrick': 5.419255976442238,\n",
       " 'carried': 4.379832559164459,\n",
       " 'carries': 4.343900549938395,\n",
       " 'carroll': 5.290044244962232,\n",
       " 'carry': 5.048882188145344,\n",
       " 'carrying': 5.097672352314776,\n",
       " 'cars': 4.243257024158708,\n",
       " 'carson': 4.692207244206611,\n",
       " 'carson street': 5.52845526840723,\n",
       " 'carved': 5.26019128181255,\n",
       " 'case': 4.482486713224542,\n",
       " 'cases': 4.979889316658392,\n",
       " 'casey': 5.3208159036289855,\n",
       " 'cash': 5.454347296253507,\n",
       " 'casino': 5.454347296253507,\n",
       " 'cast': 5.122990160299065,\n",
       " 'castle': 4.4690636928924015,\n",
       " 'castle shannon': 5.26019128181255,\n",
       " 'catastrophe': 5.26019128181255,\n",
       " 'catastrophe like': 5.290044244962232,\n",
       " 'categories': 5.203032867972602,\n",
       " 'category': 1.0070848389703868,\n",
       " 'category allegheny': 4.915350795520821,\n",
       " 'category american': 5.203032867972602,\n",
       " 'category art': 4.816259892876589,\n",
       " 'category boroughs': 3.4684318125844955,\n",
       " 'category bridges': 4.024377871630955,\n",
       " 'category buildings': 3.1340626261600613,\n",
       " 'category carnegie': 5.3208159036289855,\n",
       " 'category catholic': 5.454347296253507,\n",
       " 'category census': 4.309214991950505,\n",
       " 'category century': 5.290044244962232,\n",
       " 'category churches': 4.979889316658392,\n",
       " 'category city': 4.538056564379353,\n",
       " 'category coal': 5.52845526840723,\n",
       " 'category commercial': 4.936404204718653,\n",
       " 'category county': 5.52845526840723,\n",
       " 'category defunct': 4.496092365280321,\n",
       " 'category demolished': 5.00236217251045,\n",
       " 'category disestablishments': 4.4690636928924015,\n",
       " 'category education': 4.123112712316645,\n",
       " 'category educational': 3.816738506852711,\n",
       " 'category establishments': 2.09819709248195,\n",
       " 'category former': 4.297915436696572,\n",
       " 'category geography': 5.290044244962232,\n",
       " 'category golf': 5.52845526840723,\n",
       " 'category gothic': 5.352564601943565,\n",
       " 'category government': 5.419255976442238,\n",
       " 'category greek': 5.385354424766557,\n",
       " 'category high': 5.52845526840723,\n",
       " 'category historic': 3.5501098435987624,\n",
       " 'category history': 4.496092365280321,\n",
       " 'category houses': 3.7692719696137873,\n",
       " 'category industrial': 5.419255976442238,\n",
       " 'category italianate': 5.3208159036289855,\n",
       " 'category lawrenceville': 5.26019128181255,\n",
       " 'category libraries': 5.385354424766557,\n",
       " 'category museums': 4.726108795882292,\n",
       " 'category music': 5.454347296253507,\n",
       " 'category national': 2.6684546083873637,\n",
       " 'category neighborhoods': 4.286742136098447,\n",
       " 'category neoclassical': 5.385354424766557,\n",
       " 'category office': 5.148965646702326,\n",
       " 'category parks': 4.8353080878472845,\n",
       " 'category pennsylvania': 3.796119219649975,\n",
       " 'category pittsburgh': 2.4931325275822305,\n",
       " 'category populated': 3.1305599956088592,\n",
       " 'category port': 4.743500538594161,\n",
       " 'category protected': 5.26019128181255,\n",
       " 'category public': 4.0680529351336165,\n",
       " 'category queen': 5.454347296253507,\n",
       " 'category radio': 4.936404204718653,\n",
       " 'category railroad': 5.097672352314776,\n",
       " 'category railway': 4.232674914828171,\n",
       " 'category rivers': 4.482486713224542,\n",
       " 'category road': 4.0680529351336165,\n",
       " 'category roman': 5.454347296253507,\n",
       " 'category romanesque': 5.419255976442238,\n",
       " 'category school': 3.9662702408236745,\n",
       " 'category schools': 3.7692719696137873,\n",
       " 'category shopping': 5.231203744939298,\n",
       " 'category skyscraper': 5.048882188145344,\n",
       " 'category sports': 4.596897064402286,\n",
       " 'category steel': 4.627668723069039,\n",
       " 'category tourist': 4.552445301831453,\n",
       " 'category townships': 3.9190173559731294,\n",
       " 'category transportation': 5.00236217251045,\n",
       " 'category tributaries': 4.596897064402286,\n",
       " 'category truss': 5.52845526840723,\n",
       " 'category unincorporated': 3.8449093838194073,\n",
       " 'category united': 5.454347296253507,\n",
       " 'category universities': 5.231203744939298,\n",
       " 'category university': 4.123112712316645,\n",
       " 'category urban': 5.454347296253507,\n",
       " 'category washington': 5.148965646702326,\n",
       " 'cathedral': 4.275692299911862,\n",
       " 'cathedral learning': 4.726108795882292,\n",
       " 'catholic': 3.7366957991791745,\n",
       " 'catholic church': 4.709014362522993,\n",
       " 'catholic churches': 5.4907149404243825,\n",
       " 'catholic diocese': 5.148965646702326,\n",
       " 'catholic high': 5.352564601943565,\n",
       " 'cause': 5.175633893784487,\n",
       " 'caused': 4.243257024158708,\n",
       " 'causing': 5.290044244962232,\n",
       " 'cbll': 5.26019128181255,\n",
       " 'cbll panoid': 5.26019128181255,\n",
       " 'cbp': 5.26019128181255,\n",
       " 'cbp station': 5.454347296253507,\n",
       " 'cbs': 5.231203744939298,\n",
       " 'cdp': 4.816259892876589,\n",
       " 'cdp families': 5.4907149404243825,\n",
       " 'cdp population': 5.3208159036289855,\n",
       " 'cdp total': 5.175633893784487,\n",
       " 'cdp white': 5.419255976442238,\n",
       " 'ceased': 5.122990160299065,\n",
       " 'cecil': 5.3208159036289855,\n",
       " 'ceiling': 5.231203744939298,\n",
       " 'celebrated': 5.00236217251045,\n",
       " 'celebration': 4.6756779422554,\n",
       " 'cemeteries': 5.4907149404243825,\n",
       " 'cemetery': 4.42984297973912,\n",
       " 'census': 2.5521410807103404,\n",
       " 'census bureau': 2.763104213467679,\n",
       " 'census census': 3.397480076612211,\n",
       " 'census data': 5.097672352314776,\n",
       " 'census demographics': 4.854726173704385,\n",
       " 'census designated': 4.2222036149608755,\n",
       " 'census geography': 3.9990600636466658,\n",
       " 'census history': 4.355735007585398,\n",
       " 'census people': 2.8490156013462853,\n",
       " 'census population': 4.854726173704385,\n",
       " 'centennial': 5.048882188145344,\n",
       " 'center': 2.1401612915809825,\n",
       " 'center education': 4.253952313275455,\n",
       " 'center located': 4.979889316658392,\n",
       " 'center opened': 5.122990160299065,\n",
       " 'center pittsburgh': 4.816259892876589,\n",
       " 'center schools': 5.454347296253507,\n",
       " 'center university': 5.454347296253507,\n",
       " 'centered': 5.3208159036289855,\n",
       " 'centers': 4.015867181963047,\n",
       " 'central': 3.0662400298213,\n",
       " 'central business': 5.26019128181255,\n",
       " 'centre': 4.854726173704385,\n",
       " 'cents': 5.26019128181255,\n",
       " 'century': 2.79508725932073,\n",
       " 'ceo': 5.122990160299065,\n",
       " 'ceremony': 4.355735007585398,\n",
       " ...}"
      ]
     },
     "execution_count": 33,
     "metadata": {},
     "output_type": "execute_result"
    }
   ],
   "source": [
    "transformer = TfidfTransformer(use_idf=True)\n",
    "tf_idf_matrix = transformer.fit_transform(count_matrix)\n",
    "words_idf = {word:val for (word, val) in zip(feature_names, transformer.idf_)}\n",
    "words_idf"
   ]
  },
  {
   "cell_type": "markdown",
   "metadata": {},
   "source": [
    "Create text based features by filtering all articles in ``MAX_DIST`` radius, weighing tf vectors by distance and calculating the mean for every word. See chapter 3.3.3 in thesis for more detail."
   ]
  },
  {
   "cell_type": "code",
   "execution_count": null,
   "metadata": {
    "scrolled": true
   },
   "outputs": [
    {
     "data": {
      "application/vnd.jupyter.widget-view+json": {
       "model_id": "342a3e632a0f449e87ca62b3a61a21a3",
       "version_major": 2,
       "version_minor": 0
      },
      "text/plain": [
       "  0%|          | 0/100 [00:00<?, ?it/s]"
      ]
     },
     "metadata": {},
     "output_type": "display_data"
    }
   ],
   "source": [
    "df.reset_index(drop=True, inplace=True)  # make sure index is from 0 to n-1\n",
    "df_structured_tf = multiprocessor_wiki.process_text_features(df_structured, df, count_array, feature_names, MAX_DIST, CPU_CORES)"
   ]
  },
  {
   "cell_type": "code",
   "execution_count": null,
   "metadata": {
    "scrolled": false
   },
   "outputs": [],
   "source": [
    "rows_before = df_structured_tf.shape[0]\n",
    "print(f\"Number of rows: {rows_before}\")\n",
    "df_structured_tf.head(10)"
   ]
  },
  {
   "cell_type": "markdown",
   "metadata": {},
   "source": [
    "Omit houses with less than 3 articles in range and save omitted observations."
   ]
  },
  {
   "cell_type": "code",
   "execution_count": null,
   "metadata": {},
   "outputs": [],
   "source": [
    "omitted_df = df_structured_tf[df_structured_tf[\"article_count\"] < 3]\n",
    "omitted_df.to_csv(PATH + f\"structured_wiki_text_features_OMITTED_{str(MAX_DIST)}.csv\", index=False)"
   ]
  },
  {
   "cell_type": "code",
   "execution_count": null,
   "metadata": {},
   "outputs": [],
   "source": [
    "df_structured_tf = df_structured_tf.dropna()\n",
    "print(f\"Number of houses with less than 3 articles in {str(MAX_DIST/1000)} km radius: {rows_before - df_structured_tf.shape[0]}\")\n",
    "df_structured_tf.head(10)"
   ]
  },
  {
   "cell_type": "markdown",
   "metadata": {},
   "source": [
    "Mean of in range articles"
   ]
  },
  {
   "cell_type": "code",
   "execution_count": null,
   "metadata": {},
   "outputs": [],
   "source": [
    "df_structured_tf[\"article_count\"].mean()"
   ]
  },
  {
   "cell_type": "code",
   "execution_count": null,
   "metadata": {},
   "outputs": [],
   "source": [
    "df_structured_tf.head(10)"
   ]
  },
  {
   "cell_type": "markdown",
   "metadata": {},
   "source": [
    "Multiply modified tf with idf from original articles, creating tf-idf"
   ]
  },
  {
   "cell_type": "code",
   "execution_count": null,
   "metadata": {},
   "outputs": [],
   "source": [
    "df_structured_tf_idf = df_structured_tf.copy()\n",
    "for word in feature_names:\n",
    "    df_structured_tf_idf[word] = df_structured_tf_idf[word] * words_idf[word]\n",
    "    \n",
    "df_structured_tf_idf.head(10)"
   ]
  },
  {
   "cell_type": "markdown",
   "metadata": {},
   "source": [
    "Save structured + text based features."
   ]
  },
  {
   "cell_type": "code",
   "execution_count": null,
   "metadata": {},
   "outputs": [],
   "source": [
    "df_structured_tf_idf.to_csv(PATH + f\"structured_wiki_text_features_{str(MAX_DIST)}.csv\", index=False)"
   ]
  },
  {
   "cell_type": "code",
   "execution_count": null,
   "metadata": {},
   "outputs": [],
   "source": []
  }
 ],
 "metadata": {
  "kernelspec": {
   "display_name": "Python 3",
   "language": "python",
   "name": "python3"
  },
  "language_info": {
   "codemirror_mode": {
    "name": "ipython",
    "version": 3
   },
   "file_extension": ".py",
   "mimetype": "text/x-python",
   "name": "python",
   "nbconvert_exporter": "python",
   "pygments_lexer": "ipython3",
   "version": "3.7.9"
  },
  "widgets": {
   "application/vnd.jupyter.widget-state+json": {
    "state": {
     "03ad1c70f0a44f77ab16307d2fe9d233": {
      "model_module": "@jupyter-widgets/controls",
      "model_module_version": "1.5.0",
      "model_name": "HBoxModel",
      "state": {
       "children": [
        "IPY_MODEL_8cf265c2abf3412685acd1433398873c",
        "IPY_MODEL_ac51653a5c09441bb771bb9e96e3bb21",
        "IPY_MODEL_6643328ca0e24de093891d310ca9cf36"
       ],
       "layout": "IPY_MODEL_32893f38828043b894525aabc75d7c01"
      }
     },
     "03f50b97e8cf46b6b75070f0af161f40": {
      "model_module": "@jupyter-widgets/base",
      "model_module_version": "1.2.0",
      "model_name": "LayoutModel",
      "state": {}
     },
     "03f935bcab60485f9dbb0cde11d28f4e": {
      "model_module": "@jupyter-widgets/base",
      "model_module_version": "1.2.0",
      "model_name": "LayoutModel",
      "state": {}
     },
     "0473e0e27ae04d1895ab1c0d691cb428": {
      "model_module": "@jupyter-widgets/controls",
      "model_module_version": "1.5.0",
      "model_name": "HBoxModel",
      "state": {
       "children": [
        "IPY_MODEL_914c8aad76b74c5c85e091cf25207e4e",
        "IPY_MODEL_a7d1f33e01c8472188618f28454e8f6d",
        "IPY_MODEL_4ea937bf89bc477a899a210410703195"
       ],
       "layout": "IPY_MODEL_a02b9b95633c4fe7ab19ce624ce6604f"
      }
     },
     "04ae244468274e7285fff3aa469f125d": {
      "model_module": "@jupyter-widgets/controls",
      "model_module_version": "1.5.0",
      "model_name": "DescriptionStyleModel",
      "state": {
       "description_width": ""
      }
     },
     "0500823c8b3947f0bfd502b96ff97b06": {
      "model_module": "@jupyter-widgets/controls",
      "model_module_version": "1.5.0",
      "model_name": "FloatProgressModel",
      "state": {
       "bar_style": "success",
       "layout": "IPY_MODEL_a09e2026b5f943b29a33c4f5623c69db",
       "style": "IPY_MODEL_a5e4dba2b8fd433981dc329bf99511d4",
       "value": 100
      }
     },
     "051ee762a2d24ac5a3b71cd41657ed53": {
      "model_module": "@jupyter-widgets/controls",
      "model_module_version": "1.5.0",
      "model_name": "DescriptionStyleModel",
      "state": {
       "description_width": ""
      }
     },
     "054f867280bc449c88c788be4d085ec7": {
      "model_module": "@jupyter-widgets/controls",
      "model_module_version": "1.5.0",
      "model_name": "DescriptionStyleModel",
      "state": {
       "description_width": ""
      }
     },
     "05a20c336def4463ba203b3b483efee6": {
      "model_module": "@jupyter-widgets/controls",
      "model_module_version": "1.5.0",
      "model_name": "HTMLModel",
      "state": {
       "layout": "IPY_MODEL_b282349c40c2445d9a0cb03fcfc74269",
       "style": "IPY_MODEL_a83b86010c5b47ac8029778ae98da313",
       "value": " 100/100 [10:41&lt;00:00,  4.76s/it]"
      }
     },
     "08b64d46224e4b4eb2707a36768d3942": {
      "model_module": "@jupyter-widgets/base",
      "model_module_version": "1.2.0",
      "model_name": "LayoutModel",
      "state": {}
     },
     "09a8feda5a1d4bb2bfb70b7ca1fa9b73": {
      "model_module": "@jupyter-widgets/base",
      "model_module_version": "1.2.0",
      "model_name": "LayoutModel",
      "state": {}
     },
     "0a4783927e164841ac2bd72b92c4b40c": {
      "model_module": "@jupyter-widgets/base",
      "model_module_version": "1.2.0",
      "model_name": "LayoutModel",
      "state": {}
     },
     "0a94b681c4084390a361e35cec3d0b75": {
      "model_module": "@jupyter-widgets/controls",
      "model_module_version": "1.5.0",
      "model_name": "ProgressStyleModel",
      "state": {
       "description_width": ""
      }
     },
     "0abbf780dd744bd5a1604cf3f5189e61": {
      "model_module": "@jupyter-widgets/base",
      "model_module_version": "1.2.0",
      "model_name": "LayoutModel",
      "state": {}
     },
     "0d1641cfc28a41c5ba6270a7b3c5cb62": {
      "model_module": "@jupyter-widgets/controls",
      "model_module_version": "1.5.0",
      "model_name": "HBoxModel",
      "state": {
       "children": [
        "IPY_MODEL_161ea2ad83c74dcbb04008807c75b6a9",
        "IPY_MODEL_821e26a69c4c4f43850d152d7a3a9a65",
        "IPY_MODEL_05a20c336def4463ba203b3b483efee6"
       ],
       "layout": "IPY_MODEL_c4febbb70ec443f6bb93a574221397dd"
      }
     },
     "0da11b7125074a659867ef527bcdc782": {
      "model_module": "@jupyter-widgets/controls",
      "model_module_version": "1.5.0",
      "model_name": "HTMLModel",
      "state": {
       "layout": "IPY_MODEL_621f3e2b221c4e42a2190c11fa99622c",
       "style": "IPY_MODEL_d5381721ef684776bb478d3da43d756d",
       "value": " 100/100 [11:04&lt;00:00,  4.79s/it]"
      }
     },
     "0e0cf90493984194b5b78e0a4fe1521e": {
      "model_module": "@jupyter-widgets/controls",
      "model_module_version": "1.5.0",
      "model_name": "DescriptionStyleModel",
      "state": {
       "description_width": ""
      }
     },
     "0edf6957ccd7431490cb97dc2fd33ac8": {
      "model_module": "@jupyter-widgets/controls",
      "model_module_version": "1.5.0",
      "model_name": "HBoxModel",
      "state": {
       "children": [
        "IPY_MODEL_f1a385db8c2f4a2aa8906beee1b1719f",
        "IPY_MODEL_0500823c8b3947f0bfd502b96ff97b06",
        "IPY_MODEL_2790e85c3fff4e9cbf74b96ee4d87b2a"
       ],
       "layout": "IPY_MODEL_cd80b4e1ba754f808b020147b9c2af14"
      }
     },
     "1061a17227c44596be8f17b6a2177e60": {
      "model_module": "@jupyter-widgets/controls",
      "model_module_version": "1.5.0",
      "model_name": "DescriptionStyleModel",
      "state": {
       "description_width": ""
      }
     },
     "1282c43391dd4f5ca5a1a83e7ee924e8": {
      "model_module": "@jupyter-widgets/controls",
      "model_module_version": "1.5.0",
      "model_name": "HBoxModel",
      "state": {
       "children": [
        "IPY_MODEL_73d2df588a3547a7a675dfd7166018e9",
        "IPY_MODEL_777b37251fb646beac4c428bed6c3529",
        "IPY_MODEL_1fec797f27b1442bac46ab15283b2c4f"
       ],
       "layout": "IPY_MODEL_9e37baac9ab8428bbddc309d3feb69a2"
      }
     },
     "12885f3fea6e40fe8c7babc382a35856": {
      "model_module": "@jupyter-widgets/base",
      "model_module_version": "1.2.0",
      "model_name": "LayoutModel",
      "state": {}
     },
     "148aa92cc6d6405f9917b4adeddf1e5d": {
      "model_module": "@jupyter-widgets/controls",
      "model_module_version": "1.5.0",
      "model_name": "HBoxModel",
      "state": {
       "children": [
        "IPY_MODEL_fe1194de3fc64e4ca66de2ce826576b5",
        "IPY_MODEL_4234894fe2934a089947bd3a19e0dfed",
        "IPY_MODEL_d608a8d6765a4b60bb49c9dbdd8b5f00"
       ],
       "layout": "IPY_MODEL_6f5ef98d8c1d480fa4d316f84cd18be9"
      }
     },
     "1513fd617ebf43f5933b3c9b7346d944": {
      "model_module": "@jupyter-widgets/controls",
      "model_module_version": "1.5.0",
      "model_name": "HTMLModel",
      "state": {
       "layout": "IPY_MODEL_91301e2ac741446a83feedd5da77f7a4",
       "style": "IPY_MODEL_492f0dc1fcce4e13afc3a68e7e4274d1",
       "value": " 0/100 [00:01&lt;?, ?it/s]"
      }
     },
     "161ea2ad83c74dcbb04008807c75b6a9": {
      "model_module": "@jupyter-widgets/controls",
      "model_module_version": "1.5.0",
      "model_name": "HTMLModel",
      "state": {
       "layout": "IPY_MODEL_61721a1293964b31ad9df38fd553895a",
       "style": "IPY_MODEL_054f867280bc449c88c788be4d085ec7",
       "value": "100%"
      }
     },
     "1718d85b7e354aeda8043d12a4e91c0a": {
      "model_module": "@jupyter-widgets/controls",
      "model_module_version": "1.5.0",
      "model_name": "DescriptionStyleModel",
      "state": {
       "description_width": ""
      }
     },
     "1843ba963fc24f939471415f68687197": {
      "model_module": "@jupyter-widgets/base",
      "model_module_version": "1.2.0",
      "model_name": "LayoutModel",
      "state": {}
     },
     "190df68234454c84a8a4e98a225763e9": {
      "model_module": "@jupyter-widgets/controls",
      "model_module_version": "1.5.0",
      "model_name": "HTMLModel",
      "state": {
       "layout": "IPY_MODEL_2bb1ce5a7c284f91babb31c6c93be9c0",
       "style": "IPY_MODEL_6a07b6e6d23f4e54851af20414562744",
       "value": "100%"
      }
     },
     "1b54d4141e264ae5826c721aebc90740": {
      "model_module": "@jupyter-widgets/base",
      "model_module_version": "1.2.0",
      "model_name": "LayoutModel",
      "state": {}
     },
     "1e2850e78b184dbdadc16f4ec7ab24a4": {
      "model_module": "@jupyter-widgets/controls",
      "model_module_version": "1.5.0",
      "model_name": "ProgressStyleModel",
      "state": {
       "description_width": ""
      }
     },
     "1ee261da2367483390b775244a03f436": {
      "model_module": "@jupyter-widgets/base",
      "model_module_version": "1.2.0",
      "model_name": "LayoutModel",
      "state": {}
     },
     "1fec797f27b1442bac46ab15283b2c4f": {
      "model_module": "@jupyter-widgets/controls",
      "model_module_version": "1.5.0",
      "model_name": "HTMLModel",
      "state": {
       "layout": "IPY_MODEL_8641ebcd310f4b958ccd83fb1f3fcfd4",
       "style": "IPY_MODEL_04ae244468274e7285fff3aa469f125d",
       "value": " 100/100 [11:20&lt;00:00,  5.31s/it]"
      }
     },
     "201cdb580c824d339db2261fee0c324f": {
      "model_module": "@jupyter-widgets/base",
      "model_module_version": "1.2.0",
      "model_name": "LayoutModel",
      "state": {}
     },
     "21f13603779e43ce986218a8e7006cfa": {
      "model_module": "@jupyter-widgets/base",
      "model_module_version": "1.2.0",
      "model_name": "LayoutModel",
      "state": {}
     },
     "226d2e5ecfda4555945c8903ddf1a38f": {
      "model_module": "@jupyter-widgets/controls",
      "model_module_version": "1.5.0",
      "model_name": "FloatProgressModel",
      "state": {
       "bar_style": "success",
       "layout": "IPY_MODEL_3c4d88c1eaa74e70bec855a4338424e8",
       "style": "IPY_MODEL_9c86979e5b024b578ff590c7261e36cf",
       "value": 100
      }
     },
     "234d754aceb24fc687b6074d62274be0": {
      "model_module": "@jupyter-widgets/controls",
      "model_module_version": "1.5.0",
      "model_name": "DescriptionStyleModel",
      "state": {
       "description_width": ""
      }
     },
     "25d56f8c696640f9ab63a1d25845966c": {
      "model_module": "@jupyter-widgets/controls",
      "model_module_version": "1.5.0",
      "model_name": "ProgressStyleModel",
      "state": {
       "description_width": ""
      }
     },
     "2790e85c3fff4e9cbf74b96ee4d87b2a": {
      "model_module": "@jupyter-widgets/controls",
      "model_module_version": "1.5.0",
      "model_name": "HTMLModel",
      "state": {
       "layout": "IPY_MODEL_789d070c3d2844bca056bd649c8c5c9a",
       "style": "IPY_MODEL_4f725a3cc46c4925a3e18f8bf8e8c0aa",
       "value": " 100/100 [06:25&lt;00:00,  2.71s/it]"
      }
     },
     "27dfe2b0c69042a5ab54b078542b1c9c": {
      "model_module": "@jupyter-widgets/controls",
      "model_module_version": "1.5.0",
      "model_name": "DescriptionStyleModel",
      "state": {
       "description_width": ""
      }
     },
     "2afa7efd8bc64ac7bcef191ac8255970": {
      "model_module": "@jupyter-widgets/controls",
      "model_module_version": "1.5.0",
      "model_name": "FloatProgressModel",
      "state": {
       "bar_style": "danger",
       "layout": "IPY_MODEL_834e38770668474ca26d3daac5ed7d6f",
       "style": "IPY_MODEL_0a94b681c4084390a361e35cec3d0b75"
      }
     },
     "2b4c6e717b524baea9c8578a3061aa05": {
      "model_module": "@jupyter-widgets/base",
      "model_module_version": "1.2.0",
      "model_name": "LayoutModel",
      "state": {}
     },
     "2bb1ce5a7c284f91babb31c6c93be9c0": {
      "model_module": "@jupyter-widgets/base",
      "model_module_version": "1.2.0",
      "model_name": "LayoutModel",
      "state": {}
     },
     "2f7d7ac7b92e4e34b78e901968e7fc87": {
      "model_module": "@jupyter-widgets/base",
      "model_module_version": "1.2.0",
      "model_name": "LayoutModel",
      "state": {}
     },
     "2fb91f0372f443ea87cfbe3666efb679": {
      "model_module": "@jupyter-widgets/controls",
      "model_module_version": "1.5.0",
      "model_name": "ProgressStyleModel",
      "state": {
       "description_width": ""
      }
     },
     "2fe7ec6109844bfdb1ec5afbe3e55c85": {
      "model_module": "@jupyter-widgets/controls",
      "model_module_version": "1.5.0",
      "model_name": "DescriptionStyleModel",
      "state": {
       "description_width": ""
      }
     },
     "2fecb75c745844c293b0f85e81e00e70": {
      "model_module": "@jupyter-widgets/base",
      "model_module_version": "1.2.0",
      "model_name": "LayoutModel",
      "state": {}
     },
     "308677ba68d241fa92beca0c32862a6c": {
      "model_module": "@jupyter-widgets/controls",
      "model_module_version": "1.5.0",
      "model_name": "HBoxModel",
      "state": {
       "children": [
        "IPY_MODEL_190df68234454c84a8a4e98a225763e9",
        "IPY_MODEL_699faa91e3c443f8ba540d1dfe1345f1",
        "IPY_MODEL_9fd8b5535ed54f9980b49e7ca0523e58"
       ],
       "layout": "IPY_MODEL_c3e20cf859ec4459b74fd463c311ecaa"
      }
     },
     "32893f38828043b894525aabc75d7c01": {
      "model_module": "@jupyter-widgets/base",
      "model_module_version": "1.2.0",
      "model_name": "LayoutModel",
      "state": {}
     },
     "36111ebe1ffd40b08137ccd7ca80b407": {
      "model_module": "@jupyter-widgets/controls",
      "model_module_version": "1.5.0",
      "model_name": "DescriptionStyleModel",
      "state": {
       "description_width": ""
      }
     },
     "38b5d71d8e5245c8b97604edea10669a": {
      "model_module": "@jupyter-widgets/controls",
      "model_module_version": "1.5.0",
      "model_name": "ProgressStyleModel",
      "state": {
       "description_width": ""
      }
     },
     "3b6581621bcc4181954d8b68d7c4d32d": {
      "model_module": "@jupyter-widgets/controls",
      "model_module_version": "1.5.0",
      "model_name": "DescriptionStyleModel",
      "state": {
       "description_width": ""
      }
     },
     "3c4d88c1eaa74e70bec855a4338424e8": {
      "model_module": "@jupyter-widgets/base",
      "model_module_version": "1.2.0",
      "model_name": "LayoutModel",
      "state": {}
     },
     "3d56f942ca074cd9b666f120a4ea291d": {
      "model_module": "@jupyter-widgets/controls",
      "model_module_version": "1.5.0",
      "model_name": "HTMLModel",
      "state": {
       "layout": "IPY_MODEL_0a4783927e164841ac2bd72b92c4b40c",
       "style": "IPY_MODEL_ccee27ba01b849e8938f36c90a5f94ec",
       "value": " 100/100 [13:13&lt;00:00,  5.56s/it]"
      }
     },
     "3d9585b8373041ab96f97deb9454e355": {
      "model_module": "@jupyter-widgets/controls",
      "model_module_version": "1.5.0",
      "model_name": "HTMLModel",
      "state": {
       "layout": "IPY_MODEL_d4303454f649401fb71730068dffe3a9",
       "style": "IPY_MODEL_3dc415dec8a241fbb9e34f4f0ae1bc1c",
       "value": "100%"
      }
     },
     "3dc415dec8a241fbb9e34f4f0ae1bc1c": {
      "model_module": "@jupyter-widgets/controls",
      "model_module_version": "1.5.0",
      "model_name": "DescriptionStyleModel",
      "state": {
       "description_width": ""
      }
     },
     "3e63076b861c4193a25cd81dd7d5ac0f": {
      "model_module": "@jupyter-widgets/base",
      "model_module_version": "1.2.0",
      "model_name": "LayoutModel",
      "state": {}
     },
     "3e846b5740a04f3b9d9d0be128c086bb": {
      "model_module": "@jupyter-widgets/controls",
      "model_module_version": "1.5.0",
      "model_name": "ProgressStyleModel",
      "state": {
       "description_width": ""
      }
     },
     "3fe35d0a95aa4f7d80a4fff9810e09ea": {
      "model_module": "@jupyter-widgets/controls",
      "model_module_version": "1.5.0",
      "model_name": "HBoxModel",
      "state": {
       "children": [
        "IPY_MODEL_af8b627053c44ae0952ceaba888896f2",
        "IPY_MODEL_226d2e5ecfda4555945c8903ddf1a38f",
        "IPY_MODEL_6835dfacccee44d88e8a6c8a6af4aabc"
       ],
       "layout": "IPY_MODEL_03f935bcab60485f9dbb0cde11d28f4e"
      }
     },
     "407f93d9a0b84ca8bda51465d0c09301": {
      "model_module": "@jupyter-widgets/base",
      "model_module_version": "1.2.0",
      "model_name": "LayoutModel",
      "state": {}
     },
     "412d247df6fb4c82972f2566a1178b51": {
      "model_module": "@jupyter-widgets/base",
      "model_module_version": "1.2.0",
      "model_name": "LayoutModel",
      "state": {}
     },
     "4234894fe2934a089947bd3a19e0dfed": {
      "model_module": "@jupyter-widgets/controls",
      "model_module_version": "1.5.0",
      "model_name": "FloatProgressModel",
      "state": {
       "bar_style": "success",
       "layout": "IPY_MODEL_656be739dc68473caaf8f159b025f1de",
       "style": "IPY_MODEL_f62617992d8e40ed92ed8f424495316e",
       "value": 100
      }
     },
     "42729324760c41bbadf555068fd8649b": {
      "model_module": "@jupyter-widgets/controls",
      "model_module_version": "1.5.0",
      "model_name": "ProgressStyleModel",
      "state": {
       "description_width": ""
      }
     },
     "4325c3cde3fc40349f4a6fd61505a71d": {
      "model_module": "@jupyter-widgets/controls",
      "model_module_version": "1.5.0",
      "model_name": "HTMLModel",
      "state": {
       "layout": "IPY_MODEL_2b4c6e717b524baea9c8578a3061aa05",
       "style": "IPY_MODEL_1718d85b7e354aeda8043d12a4e91c0a",
       "value": "100%"
      }
     },
     "4476ad8052694861990f07580003fc94": {
      "model_module": "@jupyter-widgets/controls",
      "model_module_version": "1.5.0",
      "model_name": "HTMLModel",
      "state": {
       "layout": "IPY_MODEL_8e8e91170bc747a8a123ad45d6934fbc",
       "style": "IPY_MODEL_8aa143bae0da46faa64cc1b2edbf7c62",
       "value": "  0%"
      }
     },
     "451abd48b1e0466cb9eac3a8788186b7": {
      "model_module": "@jupyter-widgets/base",
      "model_module_version": "1.2.0",
      "model_name": "LayoutModel",
      "state": {}
     },
     "45a6f6495d514ad9bf599bc8b8feb245": {
      "model_module": "@jupyter-widgets/controls",
      "model_module_version": "1.5.0",
      "model_name": "HBoxModel",
      "state": {
       "children": [
        "IPY_MODEL_6c44cd5859e545aaa0aee7cec2db5d2d",
        "IPY_MODEL_a12ac67a9e69409bbc585dd84ec686a3",
        "IPY_MODEL_0da11b7125074a659867ef527bcdc782"
       ],
       "layout": "IPY_MODEL_2fecb75c745844c293b0f85e81e00e70"
      }
     },
     "4693272798514375bf0e093fc75312ae": {
      "model_module": "@jupyter-widgets/controls",
      "model_module_version": "1.5.0",
      "model_name": "DescriptionStyleModel",
      "state": {
       "description_width": ""
      }
     },
     "488ec28a06744588a30f35f47e30c4a3": {
      "model_module": "@jupyter-widgets/base",
      "model_module_version": "1.2.0",
      "model_name": "LayoutModel",
      "state": {}
     },
     "492f0dc1fcce4e13afc3a68e7e4274d1": {
      "model_module": "@jupyter-widgets/controls",
      "model_module_version": "1.5.0",
      "model_name": "DescriptionStyleModel",
      "state": {
       "description_width": ""
      }
     },
     "4938ff651ded47b0bf3126dd8d869b97": {
      "model_module": "@jupyter-widgets/controls",
      "model_module_version": "1.5.0",
      "model_name": "DescriptionStyleModel",
      "state": {
       "description_width": ""
      }
     },
     "4978aa49747c462f908fe0a7a72c337e": {
      "model_module": "@jupyter-widgets/controls",
      "model_module_version": "1.5.0",
      "model_name": "FloatProgressModel",
      "state": {
       "bar_style": "danger",
       "layout": "IPY_MODEL_8d1b97296044492eb9a13e7ac2329fb2",
       "style": "IPY_MODEL_42729324760c41bbadf555068fd8649b"
      }
     },
     "49e8546f5ba940259526a3ea80a3052f": {
      "model_module": "@jupyter-widgets/base",
      "model_module_version": "1.2.0",
      "model_name": "LayoutModel",
      "state": {}
     },
     "4a90e5c38cfb46e4bebae1400825f99d": {
      "model_module": "@jupyter-widgets/controls",
      "model_module_version": "1.5.0",
      "model_name": "ProgressStyleModel",
      "state": {
       "description_width": ""
      }
     },
     "4b3ccdba70134deb91b3ae6f3dd6dc08": {
      "model_module": "@jupyter-widgets/base",
      "model_module_version": "1.2.0",
      "model_name": "LayoutModel",
      "state": {}
     },
     "4bbff7c018b44e919c3648aac96b457c": {
      "model_module": "@jupyter-widgets/base",
      "model_module_version": "1.2.0",
      "model_name": "LayoutModel",
      "state": {}
     },
     "4bdca636f5444b83afea6609b0503366": {
      "model_module": "@jupyter-widgets/controls",
      "model_module_version": "1.5.0",
      "model_name": "DescriptionStyleModel",
      "state": {
       "description_width": ""
      }
     },
     "4ea937bf89bc477a899a210410703195": {
      "model_module": "@jupyter-widgets/controls",
      "model_module_version": "1.5.0",
      "model_name": "HTMLModel",
      "state": {
       "layout": "IPY_MODEL_08b64d46224e4b4eb2707a36768d3942",
       "style": "IPY_MODEL_0e0cf90493984194b5b78e0a4fe1521e",
       "value": " 0/100 [00:01&lt;?, ?it/s]"
      }
     },
     "4ee6e8523ef74f19ad406f240ca39fa2": {
      "model_module": "@jupyter-widgets/controls",
      "model_module_version": "1.5.0",
      "model_name": "DescriptionStyleModel",
      "state": {
       "description_width": ""
      }
     },
     "4f23555dfe1b4f9a9e52c451a047cd35": {
      "model_module": "@jupyter-widgets/controls",
      "model_module_version": "1.5.0",
      "model_name": "FloatProgressModel",
      "state": {
       "bar_style": "danger",
       "layout": "IPY_MODEL_09a8feda5a1d4bb2bfb70b7ca1fa9b73",
       "style": "IPY_MODEL_8cc100ae90c344628745ac1e5420bc06"
      }
     },
     "4f394b12555d4062b96b7631a2d61216": {
      "model_module": "@jupyter-widgets/base",
      "model_module_version": "1.2.0",
      "model_name": "LayoutModel",
      "state": {}
     },
     "4f725a3cc46c4925a3e18f8bf8e8c0aa": {
      "model_module": "@jupyter-widgets/controls",
      "model_module_version": "1.5.0",
      "model_name": "DescriptionStyleModel",
      "state": {
       "description_width": ""
      }
     },
     "54ef084c2c7e4ab39025c0d0ebe93f77": {
      "model_module": "@jupyter-widgets/controls",
      "model_module_version": "1.5.0",
      "model_name": "DescriptionStyleModel",
      "state": {
       "description_width": ""
      }
     },
     "59e05fc0ef3d4ffcb0f1863d10eaa746": {
      "model_module": "@jupyter-widgets/controls",
      "model_module_version": "1.5.0",
      "model_name": "HBoxModel",
      "state": {
       "children": [
        "IPY_MODEL_4325c3cde3fc40349f4a6fd61505a71d",
        "IPY_MODEL_fc9b184fd3774074b0abdd37b3611cf2",
        "IPY_MODEL_3d56f942ca074cd9b666f120a4ea291d"
       ],
       "layout": "IPY_MODEL_d75daaf45b2a4572926807fcc5134f5f"
      }
     },
     "5a320390fd0d44978ac1ddb5487ca6a0": {
      "model_module": "@jupyter-widgets/controls",
      "model_module_version": "1.5.0",
      "model_name": "HTMLModel",
      "state": {
       "layout": "IPY_MODEL_90dbcc125cf144d0b9eb3d9176970783",
       "style": "IPY_MODEL_27dfe2b0c69042a5ab54b078542b1c9c",
       "value": "  0%"
      }
     },
     "5c6b1272d8d04597a9652bb3c870a69f": {
      "model_module": "@jupyter-widgets/base",
      "model_module_version": "1.2.0",
      "model_name": "LayoutModel",
      "state": {}
     },
     "5dfe7e88001143eba00419f55a090e25": {
      "model_module": "@jupyter-widgets/controls",
      "model_module_version": "1.5.0",
      "model_name": "HTMLModel",
      "state": {
       "layout": "IPY_MODEL_1b54d4141e264ae5826c721aebc90740",
       "style": "IPY_MODEL_4938ff651ded47b0bf3126dd8d869b97",
       "value": " 100/100 [06:47&lt;00:00,  2.81s/it]"
      }
     },
     "5f02c86413294f9a91013f264407cf5a": {
      "model_module": "@jupyter-widgets/controls",
      "model_module_version": "1.5.0",
      "model_name": "DescriptionStyleModel",
      "state": {
       "description_width": ""
      }
     },
     "61721a1293964b31ad9df38fd553895a": {
      "model_module": "@jupyter-widgets/base",
      "model_module_version": "1.2.0",
      "model_name": "LayoutModel",
      "state": {}
     },
     "621f3e2b221c4e42a2190c11fa99622c": {
      "model_module": "@jupyter-widgets/base",
      "model_module_version": "1.2.0",
      "model_name": "LayoutModel",
      "state": {}
     },
     "622230b49b854fc895da1743865ad34a": {
      "model_module": "@jupyter-widgets/base",
      "model_module_version": "1.2.0",
      "model_name": "LayoutModel",
      "state": {}
     },
     "656be739dc68473caaf8f159b025f1de": {
      "model_module": "@jupyter-widgets/base",
      "model_module_version": "1.2.0",
      "model_name": "LayoutModel",
      "state": {}
     },
     "6643328ca0e24de093891d310ca9cf36": {
      "model_module": "@jupyter-widgets/controls",
      "model_module_version": "1.5.0",
      "model_name": "HTMLModel",
      "state": {
       "layout": "IPY_MODEL_ef76703d710b422eb470d22ea5908e19",
       "style": "IPY_MODEL_234d754aceb24fc687b6074d62274be0",
       "value": " 100/100 [11:19&lt;00:00,  5.18s/it]"
      }
     },
     "66f7e11f92494f6699d9cb07daf433f2": {
      "model_module": "@jupyter-widgets/controls",
      "model_module_version": "1.5.0",
      "model_name": "ProgressStyleModel",
      "state": {
       "description_width": ""
      }
     },
     "6835dfacccee44d88e8a6c8a6af4aabc": {
      "model_module": "@jupyter-widgets/controls",
      "model_module_version": "1.5.0",
      "model_name": "HTMLModel",
      "state": {
       "layout": "IPY_MODEL_b7ca3fbd8e1741939cbc8eca8d79680b",
       "style": "IPY_MODEL_8437e21169914f2e9f7e3c3eca2acf90",
       "value": " 100/100 [00:01&lt;00:00,  1.01s/it]"
      }
     },
     "68b06e57724c461499b0ffc409d3ebcd": {
      "model_module": "@jupyter-widgets/base",
      "model_module_version": "1.2.0",
      "model_name": "LayoutModel",
      "state": {}
     },
     "69537a5c55b74f74b08e9e5e2c52bec2": {
      "model_module": "@jupyter-widgets/controls",
      "model_module_version": "1.5.0",
      "model_name": "DescriptionStyleModel",
      "state": {
       "description_width": ""
      }
     },
     "698aaf4c94e744b9967cc26045fa71c2": {
      "model_module": "@jupyter-widgets/controls",
      "model_module_version": "1.5.0",
      "model_name": "DescriptionStyleModel",
      "state": {
       "description_width": ""
      }
     },
     "699faa91e3c443f8ba540d1dfe1345f1": {
      "model_module": "@jupyter-widgets/controls",
      "model_module_version": "1.5.0",
      "model_name": "FloatProgressModel",
      "state": {
       "bar_style": "success",
       "layout": "IPY_MODEL_0abbf780dd744bd5a1604cf3f5189e61",
       "style": "IPY_MODEL_25d56f8c696640f9ab63a1d25845966c",
       "value": 100
      }
     },
     "6a07b6e6d23f4e54851af20414562744": {
      "model_module": "@jupyter-widgets/controls",
      "model_module_version": "1.5.0",
      "model_name": "DescriptionStyleModel",
      "state": {
       "description_width": ""
      }
     },
     "6a92a1ea4df24403ba75d1465968c37e": {
      "model_module": "@jupyter-widgets/controls",
      "model_module_version": "1.5.0",
      "model_name": "DescriptionStyleModel",
      "state": {
       "description_width": ""
      }
     },
     "6c44cd5859e545aaa0aee7cec2db5d2d": {
      "model_module": "@jupyter-widgets/controls",
      "model_module_version": "1.5.0",
      "model_name": "HTMLModel",
      "state": {
       "layout": "IPY_MODEL_03f50b97e8cf46b6b75070f0af161f40",
       "style": "IPY_MODEL_54ef084c2c7e4ab39025c0d0ebe93f77",
       "value": "100%"
      }
     },
     "6c81d3ca527e439da686d6bafdbd3b60": {
      "model_module": "@jupyter-widgets/controls",
      "model_module_version": "1.5.0",
      "model_name": "DescriptionStyleModel",
      "state": {
       "description_width": ""
      }
     },
     "6dd8fbd78a9d49869ba7bb97907c058e": {
      "model_module": "@jupyter-widgets/controls",
      "model_module_version": "1.5.0",
      "model_name": "HTMLModel",
      "state": {
       "layout": "IPY_MODEL_edf4e2982466435b8c39d855dc161edb",
       "style": "IPY_MODEL_842c66a0cbd14ce9bb5279c5c0250db9",
       "value": " 100/100 [00:01&lt;00:00,  1.00it/s]"
      }
     },
     "6e63f70ae2dd43db81a9e921ad26a05c": {
      "model_module": "@jupyter-widgets/base",
      "model_module_version": "1.2.0",
      "model_name": "LayoutModel",
      "state": {}
     },
     "6e6e1b6a4fa449e9b1be2213d5df7af8": {
      "model_module": "@jupyter-widgets/controls",
      "model_module_version": "1.5.0",
      "model_name": "ProgressStyleModel",
      "state": {
       "description_width": ""
      }
     },
     "6ecdea1ca3b544069efcd0efd8b7824f": {
      "model_module": "@jupyter-widgets/base",
      "model_module_version": "1.2.0",
      "model_name": "LayoutModel",
      "state": {}
     },
     "6f5ef98d8c1d480fa4d316f84cd18be9": {
      "model_module": "@jupyter-widgets/base",
      "model_module_version": "1.2.0",
      "model_name": "LayoutModel",
      "state": {}
     },
     "6fda593a7648472da0fef06f61451d2e": {
      "model_module": "@jupyter-widgets/controls",
      "model_module_version": "1.5.0",
      "model_name": "DescriptionStyleModel",
      "state": {
       "description_width": ""
      }
     },
     "7102dcc087874fff84d4ec49dd38cdd2": {
      "model_module": "@jupyter-widgets/base",
      "model_module_version": "1.2.0",
      "model_name": "LayoutModel",
      "state": {}
     },
     "7149879db6b0441b9fa5be308c83bbd4": {
      "model_module": "@jupyter-widgets/base",
      "model_module_version": "1.2.0",
      "model_name": "LayoutModel",
      "state": {}
     },
     "73a812a081674d49b84d71dde5bd1bb6": {
      "model_module": "@jupyter-widgets/base",
      "model_module_version": "1.2.0",
      "model_name": "LayoutModel",
      "state": {}
     },
     "73d2df588a3547a7a675dfd7166018e9": {
      "model_module": "@jupyter-widgets/controls",
      "model_module_version": "1.5.0",
      "model_name": "HTMLModel",
      "state": {
       "layout": "IPY_MODEL_488ec28a06744588a30f35f47e30c4a3",
       "style": "IPY_MODEL_8288d5361f8a4b558e7a72b98d8145a0",
       "value": "100%"
      }
     },
     "777b37251fb646beac4c428bed6c3529": {
      "model_module": "@jupyter-widgets/controls",
      "model_module_version": "1.5.0",
      "model_name": "FloatProgressModel",
      "state": {
       "bar_style": "success",
       "layout": "IPY_MODEL_412d247df6fb4c82972f2566a1178b51",
       "style": "IPY_MODEL_b164ac09a1d0461399d4fd023b7d5259",
       "value": 100
      }
     },
     "789d070c3d2844bca056bd649c8c5c9a": {
      "model_module": "@jupyter-widgets/base",
      "model_module_version": "1.2.0",
      "model_name": "LayoutModel",
      "state": {}
     },
     "797d4f38493542b1b83ba943566555bc": {
      "model_module": "@jupyter-widgets/base",
      "model_module_version": "1.2.0",
      "model_name": "LayoutModel",
      "state": {}
     },
     "7c859a12ef6b44bcbe108f7f66fccb1a": {
      "model_module": "@jupyter-widgets/base",
      "model_module_version": "1.2.0",
      "model_name": "LayoutModel",
      "state": {}
     },
     "7d38fc1adc3d4d7cb9da0fff62d1a0a5": {
      "model_module": "@jupyter-widgets/base",
      "model_module_version": "1.2.0",
      "model_name": "LayoutModel",
      "state": {}
     },
     "7d6a563266ba49e58f6f42f1cdb3c26e": {
      "model_module": "@jupyter-widgets/controls",
      "model_module_version": "1.5.0",
      "model_name": "HTMLModel",
      "state": {
       "layout": "IPY_MODEL_4f394b12555d4062b96b7631a2d61216",
       "style": "IPY_MODEL_698aaf4c94e744b9967cc26045fa71c2",
       "value": " 0/100 [00:01&lt;?, ?it/s]"
      }
     },
     "7e968da2512e47a19e9806e5a7506e3d": {
      "model_module": "@jupyter-widgets/controls",
      "model_module_version": "1.5.0",
      "model_name": "HTMLModel",
      "state": {
       "layout": "IPY_MODEL_fc4687ca0b62482c9326dbd5c08d8f03",
       "style": "IPY_MODEL_d145af4f994c4953a5a07989c05e3ba4",
       "value": "100%"
      }
     },
     "7eee2b2dcb544c0bb7371e688208467c": {
      "model_module": "@jupyter-widgets/base",
      "model_module_version": "1.2.0",
      "model_name": "LayoutModel",
      "state": {}
     },
     "7f33f930f1354339bd48b485f9364de3": {
      "model_module": "@jupyter-widgets/controls",
      "model_module_version": "1.5.0",
      "model_name": "DescriptionStyleModel",
      "state": {
       "description_width": ""
      }
     },
     "7ff188cf6e094954aec7ed1bb75778fa": {
      "model_module": "@jupyter-widgets/controls",
      "model_module_version": "1.5.0",
      "model_name": "ProgressStyleModel",
      "state": {
       "description_width": ""
      }
     },
     "801f95b2d3074662ab6db071eaa602c4": {
      "model_module": "@jupyter-widgets/controls",
      "model_module_version": "1.5.0",
      "model_name": "HBoxModel",
      "state": {
       "children": [
        "IPY_MODEL_a4d31ba1768b4373a473f27cd7278702",
        "IPY_MODEL_bce3ef5be84d40768e2d5e88e2b2405e",
        "IPY_MODEL_d2a89051542547158a467278af208e5d"
       ],
       "layout": "IPY_MODEL_d993df03b26a4c56851cbb20987ecc27"
      }
     },
     "821e26a69c4c4f43850d152d7a3a9a65": {
      "model_module": "@jupyter-widgets/controls",
      "model_module_version": "1.5.0",
      "model_name": "FloatProgressModel",
      "state": {
       "bar_style": "success",
       "layout": "IPY_MODEL_7149879db6b0441b9fa5be308c83bbd4",
       "style": "IPY_MODEL_4a90e5c38cfb46e4bebae1400825f99d",
       "value": 100
      }
     },
     "8288d5361f8a4b558e7a72b98d8145a0": {
      "model_module": "@jupyter-widgets/controls",
      "model_module_version": "1.5.0",
      "model_name": "DescriptionStyleModel",
      "state": {
       "description_width": ""
      }
     },
     "834e38770668474ca26d3daac5ed7d6f": {
      "model_module": "@jupyter-widgets/base",
      "model_module_version": "1.2.0",
      "model_name": "LayoutModel",
      "state": {}
     },
     "835a441c281543f2a66d9045e5c439c9": {
      "model_module": "@jupyter-widgets/controls",
      "model_module_version": "1.5.0",
      "model_name": "ProgressStyleModel",
      "state": {
       "description_width": ""
      }
     },
     "842c66a0cbd14ce9bb5279c5c0250db9": {
      "model_module": "@jupyter-widgets/controls",
      "model_module_version": "1.5.0",
      "model_name": "DescriptionStyleModel",
      "state": {
       "description_width": ""
      }
     },
     "8437e21169914f2e9f7e3c3eca2acf90": {
      "model_module": "@jupyter-widgets/controls",
      "model_module_version": "1.5.0",
      "model_name": "DescriptionStyleModel",
      "state": {
       "description_width": ""
      }
     },
     "84a7c286885d4df7a0688aa4641c5bc4": {
      "model_module": "@jupyter-widgets/base",
      "model_module_version": "1.2.0",
      "model_name": "LayoutModel",
      "state": {}
     },
     "8641ebcd310f4b958ccd83fb1f3fcfd4": {
      "model_module": "@jupyter-widgets/base",
      "model_module_version": "1.2.0",
      "model_name": "LayoutModel",
      "state": {}
     },
     "8aa143bae0da46faa64cc1b2edbf7c62": {
      "model_module": "@jupyter-widgets/controls",
      "model_module_version": "1.5.0",
      "model_name": "DescriptionStyleModel",
      "state": {
       "description_width": ""
      }
     },
     "8ae0e48aeee846a7acba46608003a66f": {
      "model_module": "@jupyter-widgets/base",
      "model_module_version": "1.2.0",
      "model_name": "LayoutModel",
      "state": {}
     },
     "8cc100ae90c344628745ac1e5420bc06": {
      "model_module": "@jupyter-widgets/controls",
      "model_module_version": "1.5.0",
      "model_name": "ProgressStyleModel",
      "state": {
       "description_width": ""
      }
     },
     "8cf265c2abf3412685acd1433398873c": {
      "model_module": "@jupyter-widgets/controls",
      "model_module_version": "1.5.0",
      "model_name": "HTMLModel",
      "state": {
       "layout": "IPY_MODEL_91dd48d0070a41e691085c3a3de9c3d7",
       "style": "IPY_MODEL_051ee762a2d24ac5a3b71cd41657ed53",
       "value": "100%"
      }
     },
     "8d1b97296044492eb9a13e7ac2329fb2": {
      "model_module": "@jupyter-widgets/base",
      "model_module_version": "1.2.0",
      "model_name": "LayoutModel",
      "state": {}
     },
     "8e1fd3438138445ba562216ecc5bb882": {
      "model_module": "@jupyter-widgets/controls",
      "model_module_version": "1.5.0",
      "model_name": "DescriptionStyleModel",
      "state": {
       "description_width": ""
      }
     },
     "8e372306b66a47f1915357787539895f": {
      "model_module": "@jupyter-widgets/base",
      "model_module_version": "1.2.0",
      "model_name": "LayoutModel",
      "state": {}
     },
     "8e8e91170bc747a8a123ad45d6934fbc": {
      "model_module": "@jupyter-widgets/base",
      "model_module_version": "1.2.0",
      "model_name": "LayoutModel",
      "state": {}
     },
     "90dbcc125cf144d0b9eb3d9176970783": {
      "model_module": "@jupyter-widgets/base",
      "model_module_version": "1.2.0",
      "model_name": "LayoutModel",
      "state": {}
     },
     "91301e2ac741446a83feedd5da77f7a4": {
      "model_module": "@jupyter-widgets/base",
      "model_module_version": "1.2.0",
      "model_name": "LayoutModel",
      "state": {}
     },
     "914c8aad76b74c5c85e091cf25207e4e": {
      "model_module": "@jupyter-widgets/controls",
      "model_module_version": "1.5.0",
      "model_name": "HTMLModel",
      "state": {
       "layout": "IPY_MODEL_622230b49b854fc895da1743865ad34a",
       "style": "IPY_MODEL_36111ebe1ffd40b08137ccd7ca80b407",
       "value": "  0%"
      }
     },
     "91dd48d0070a41e691085c3a3de9c3d7": {
      "model_module": "@jupyter-widgets/base",
      "model_module_version": "1.2.0",
      "model_name": "LayoutModel",
      "state": {}
     },
     "95b12a105e014be9846a489ea696a004": {
      "model_module": "@jupyter-widgets/base",
      "model_module_version": "1.2.0",
      "model_name": "LayoutModel",
      "state": {}
     },
     "9a56e8de3114477caadafeaa4898b564": {
      "model_module": "@jupyter-widgets/controls",
      "model_module_version": "1.5.0",
      "model_name": "DescriptionStyleModel",
      "state": {
       "description_width": ""
      }
     },
     "9c86979e5b024b578ff590c7261e36cf": {
      "model_module": "@jupyter-widgets/controls",
      "model_module_version": "1.5.0",
      "model_name": "ProgressStyleModel",
      "state": {
       "description_width": ""
      }
     },
     "9df1121f9172448c88c08b7ffb72ab0b": {
      "model_module": "@jupyter-widgets/controls",
      "model_module_version": "1.5.0",
      "model_name": "HTMLModel",
      "state": {
       "layout": "IPY_MODEL_6e63f70ae2dd43db81a9e921ad26a05c",
       "style": "IPY_MODEL_4693272798514375bf0e093fc75312ae",
       "value": " 0/100 [00:01&lt;?, ?it/s]"
      }
     },
     "9e37baac9ab8428bbddc309d3feb69a2": {
      "model_module": "@jupyter-widgets/base",
      "model_module_version": "1.2.0",
      "model_name": "LayoutModel",
      "state": {}
     },
     "9f788ecebf21489e98c3aca54c6b2a84": {
      "model_module": "@jupyter-widgets/base",
      "model_module_version": "1.2.0",
      "model_name": "LayoutModel",
      "state": {}
     },
     "9fd8b5535ed54f9980b49e7ca0523e58": {
      "model_module": "@jupyter-widgets/controls",
      "model_module_version": "1.5.0",
      "model_name": "HTMLModel",
      "state": {
       "layout": "IPY_MODEL_21f13603779e43ce986218a8e7006cfa",
       "style": "IPY_MODEL_8e1fd3438138445ba562216ecc5bb882",
       "value": " 100/100 [07:25&lt;00:00,  3.89s/it]"
      }
     },
     "a02b9b95633c4fe7ab19ce624ce6604f": {
      "model_module": "@jupyter-widgets/base",
      "model_module_version": "1.2.0",
      "model_name": "LayoutModel",
      "state": {}
     },
     "a09e2026b5f943b29a33c4f5623c69db": {
      "model_module": "@jupyter-widgets/base",
      "model_module_version": "1.2.0",
      "model_name": "LayoutModel",
      "state": {}
     },
     "a12ac67a9e69409bbc585dd84ec686a3": {
      "model_module": "@jupyter-widgets/controls",
      "model_module_version": "1.5.0",
      "model_name": "FloatProgressModel",
      "state": {
       "bar_style": "success",
       "layout": "IPY_MODEL_f7dd147a697c413c87adfea4bf14c7e6",
       "style": "IPY_MODEL_1e2850e78b184dbdadc16f4ec7ab24a4",
       "value": 100
      }
     },
     "a3df8ba8ab6d42098fd27656396811ee": {
      "model_module": "@jupyter-widgets/base",
      "model_module_version": "1.2.0",
      "model_name": "LayoutModel",
      "state": {}
     },
     "a431fbeaeff44838af489318c3f3ddb0": {
      "model_module": "@jupyter-widgets/controls",
      "model_module_version": "1.5.0",
      "model_name": "HTMLModel",
      "state": {
       "layout": "IPY_MODEL_7c859a12ef6b44bcbe108f7f66fccb1a",
       "style": "IPY_MODEL_b9bafc04a8934b36a51566688239b70a",
       "value": " 100/100 [10:14&lt;00:00,  4.41s/it]"
      }
     },
     "a4d31ba1768b4373a473f27cd7278702": {
      "model_module": "@jupyter-widgets/controls",
      "model_module_version": "1.5.0",
      "model_name": "HTMLModel",
      "state": {
       "layout": "IPY_MODEL_b84eb22462ef4118addf7f8b6bf9392d",
       "style": "IPY_MODEL_4ee6e8523ef74f19ad406f240ca39fa2",
       "value": "100%"
      }
     },
     "a52dd1df882c4edca6cc35a40b0b2c7c": {
      "model_module": "@jupyter-widgets/controls",
      "model_module_version": "1.5.0",
      "model_name": "HTMLModel",
      "state": {
       "layout": "IPY_MODEL_8e372306b66a47f1915357787539895f",
       "style": "IPY_MODEL_1061a17227c44596be8f17b6a2177e60",
       "value": "100%"
      }
     },
     "a5e4dba2b8fd433981dc329bf99511d4": {
      "model_module": "@jupyter-widgets/controls",
      "model_module_version": "1.5.0",
      "model_name": "ProgressStyleModel",
      "state": {
       "description_width": ""
      }
     },
     "a7d1f33e01c8472188618f28454e8f6d": {
      "model_module": "@jupyter-widgets/controls",
      "model_module_version": "1.5.0",
      "model_name": "FloatProgressModel",
      "state": {
       "bar_style": "danger",
       "layout": "IPY_MODEL_4b3ccdba70134deb91b3ae6f3dd6dc08",
       "style": "IPY_MODEL_3e846b5740a04f3b9d9d0be128c086bb"
      }
     },
     "a83b86010c5b47ac8029778ae98da313": {
      "model_module": "@jupyter-widgets/controls",
      "model_module_version": "1.5.0",
      "model_name": "DescriptionStyleModel",
      "state": {
       "description_width": ""
      }
     },
     "a99131df95324cc4b00ee77b9eb35773": {
      "model_module": "@jupyter-widgets/controls",
      "model_module_version": "1.5.0",
      "model_name": "ProgressStyleModel",
      "state": {
       "description_width": ""
      }
     },
     "aafcab0bf051483a80123f17fc352eba": {
      "model_module": "@jupyter-widgets/controls",
      "model_module_version": "1.5.0",
      "model_name": "HBoxModel",
      "state": {
       "children": [
        "IPY_MODEL_f31050e42f0c4e3598507b398f87e8ee",
        "IPY_MODEL_2afa7efd8bc64ac7bcef191ac8255970",
        "IPY_MODEL_9df1121f9172448c88c08b7ffb72ab0b"
       ],
       "layout": "IPY_MODEL_84a7c286885d4df7a0688aa4641c5bc4"
      }
     },
     "ac2a4328a1314f47aa29118822c1b10e": {
      "model_module": "@jupyter-widgets/base",
      "model_module_version": "1.2.0",
      "model_name": "LayoutModel",
      "state": {}
     },
     "ac51653a5c09441bb771bb9e96e3bb21": {
      "model_module": "@jupyter-widgets/controls",
      "model_module_version": "1.5.0",
      "model_name": "FloatProgressModel",
      "state": {
       "bar_style": "success",
       "layout": "IPY_MODEL_3e63076b861c4193a25cd81dd7d5ac0f",
       "style": "IPY_MODEL_d0e977601c7b4a3aaadc81221ea1850c",
       "value": 100
      }
     },
     "af8b627053c44ae0952ceaba888896f2": {
      "model_module": "@jupyter-widgets/controls",
      "model_module_version": "1.5.0",
      "model_name": "HTMLModel",
      "state": {
       "layout": "IPY_MODEL_baa9cfb21cbd4395beb830ed94b38715",
       "style": "IPY_MODEL_6a92a1ea4df24403ba75d1465968c37e",
       "value": "100%"
      }
     },
     "b0c07aabdd6c4be7ab15389998b9058d": {
      "model_module": "@jupyter-widgets/base",
      "model_module_version": "1.2.0",
      "model_name": "LayoutModel",
      "state": {}
     },
     "b164ac09a1d0461399d4fd023b7d5259": {
      "model_module": "@jupyter-widgets/controls",
      "model_module_version": "1.5.0",
      "model_name": "ProgressStyleModel",
      "state": {
       "description_width": ""
      }
     },
     "b282349c40c2445d9a0cb03fcfc74269": {
      "model_module": "@jupyter-widgets/base",
      "model_module_version": "1.2.0",
      "model_name": "LayoutModel",
      "state": {}
     },
     "b7ca3fbd8e1741939cbc8eca8d79680b": {
      "model_module": "@jupyter-widgets/base",
      "model_module_version": "1.2.0",
      "model_name": "LayoutModel",
      "state": {}
     },
     "b84eb22462ef4118addf7f8b6bf9392d": {
      "model_module": "@jupyter-widgets/base",
      "model_module_version": "1.2.0",
      "model_name": "LayoutModel",
      "state": {}
     },
     "b9bafc04a8934b36a51566688239b70a": {
      "model_module": "@jupyter-widgets/controls",
      "model_module_version": "1.5.0",
      "model_name": "DescriptionStyleModel",
      "state": {
       "description_width": ""
      }
     },
     "baa9cfb21cbd4395beb830ed94b38715": {
      "model_module": "@jupyter-widgets/base",
      "model_module_version": "1.2.0",
      "model_name": "LayoutModel",
      "state": {}
     },
     "bb3c053ac0e64bbab04f3c0e8159b23a": {
      "model_module": "@jupyter-widgets/base",
      "model_module_version": "1.2.0",
      "model_name": "LayoutModel",
      "state": {}
     },
     "bce3ef5be84d40768e2d5e88e2b2405e": {
      "model_module": "@jupyter-widgets/controls",
      "model_module_version": "1.5.0",
      "model_name": "FloatProgressModel",
      "state": {
       "bar_style": "success",
       "layout": "IPY_MODEL_7102dcc087874fff84d4ec49dd38cdd2",
       "style": "IPY_MODEL_a99131df95324cc4b00ee77b9eb35773",
       "value": 100
      }
     },
     "c0d827316a8b41c5a3a7fe50bddee775": {
      "model_module": "@jupyter-widgets/base",
      "model_module_version": "1.2.0",
      "model_name": "LayoutModel",
      "state": {}
     },
     "c2f445d8ab5c45efa81aee0079f4373b": {
      "model_module": "@jupyter-widgets/controls",
      "model_module_version": "1.5.0",
      "model_name": "HBoxModel",
      "state": {
       "children": [
        "IPY_MODEL_5a320390fd0d44978ac1ddb5487ca6a0",
        "IPY_MODEL_4978aa49747c462f908fe0a7a72c337e",
        "IPY_MODEL_7d6a563266ba49e58f6f42f1cdb3c26e"
       ],
       "layout": "IPY_MODEL_c0d827316a8b41c5a3a7fe50bddee775"
      }
     },
     "c3e20cf859ec4459b74fd463c311ecaa": {
      "model_module": "@jupyter-widgets/base",
      "model_module_version": "1.2.0",
      "model_name": "LayoutModel",
      "state": {}
     },
     "c4983a6db9234c56ac837edaeed5e0db": {
      "model_module": "@jupyter-widgets/controls",
      "model_module_version": "1.5.0",
      "model_name": "HBoxModel",
      "state": {
       "children": [
        "IPY_MODEL_f8a1d248189b407185612f7eee31639d",
        "IPY_MODEL_c67a35e132254c55b1fa7ec4b257cb16",
        "IPY_MODEL_6dd8fbd78a9d49869ba7bb97907c058e"
       ],
       "layout": "IPY_MODEL_797d4f38493542b1b83ba943566555bc"
      }
     },
     "c4febbb70ec443f6bb93a574221397dd": {
      "model_module": "@jupyter-widgets/base",
      "model_module_version": "1.2.0",
      "model_name": "LayoutModel",
      "state": {}
     },
     "c67a35e132254c55b1fa7ec4b257cb16": {
      "model_module": "@jupyter-widgets/controls",
      "model_module_version": "1.5.0",
      "model_name": "FloatProgressModel",
      "state": {
       "bar_style": "success",
       "layout": "IPY_MODEL_d9b0567c0ee04eadae1a9b845614d93e",
       "style": "IPY_MODEL_7ff188cf6e094954aec7ed1bb75778fa",
       "value": 100
      }
     },
     "c6abd231a139484498c879d3251a0da5": {
      "model_module": "@jupyter-widgets/controls",
      "model_module_version": "1.5.0",
      "model_name": "DescriptionStyleModel",
      "state": {
       "description_width": ""
      }
     },
     "c9d49d19888a4ac39e87062ba3d9e4dd": {
      "model_module": "@jupyter-widgets/controls",
      "model_module_version": "1.5.0",
      "model_name": "FloatProgressModel",
      "state": {
       "bar_style": "success",
       "layout": "IPY_MODEL_2f7d7ac7b92e4e34b78e901968e7fc87",
       "style": "IPY_MODEL_66f7e11f92494f6699d9cb07daf433f2",
       "value": 100
      }
     },
     "cbac0f3edf214670a1206dab8d92cbb2": {
      "model_module": "@jupyter-widgets/controls",
      "model_module_version": "1.5.0",
      "model_name": "HBoxModel",
      "state": {
       "children": [
        "IPY_MODEL_7e968da2512e47a19e9806e5a7506e3d",
        "IPY_MODEL_edcdfed5fffc443292066ef393df6300",
        "IPY_MODEL_a431fbeaeff44838af489318c3f3ddb0"
       ],
       "layout": "IPY_MODEL_12885f3fea6e40fe8c7babc382a35856"
      }
     },
     "ccee27ba01b849e8938f36c90a5f94ec": {
      "model_module": "@jupyter-widgets/controls",
      "model_module_version": "1.5.0",
      "model_name": "DescriptionStyleModel",
      "state": {
       "description_width": ""
      }
     },
     "cd80b4e1ba754f808b020147b9c2af14": {
      "model_module": "@jupyter-widgets/base",
      "model_module_version": "1.2.0",
      "model_name": "LayoutModel",
      "state": {}
     },
     "cdccc7e526f9494e8c11a9875872913f": {
      "model_module": "@jupyter-widgets/controls",
      "model_module_version": "1.5.0",
      "model_name": "HBoxModel",
      "state": {
       "children": [
        "IPY_MODEL_f0b0572ff32e4b3fa5c40021c2f1408e",
        "IPY_MODEL_ed5a295e12744b7db254dd658d27ed8a",
        "IPY_MODEL_d2d827e1aa2a4f6da3a85ec575154625"
       ],
       "layout": "IPY_MODEL_407f93d9a0b84ca8bda51465d0c09301"
      }
     },
     "d0e977601c7b4a3aaadc81221ea1850c": {
      "model_module": "@jupyter-widgets/controls",
      "model_module_version": "1.5.0",
      "model_name": "ProgressStyleModel",
      "state": {
       "description_width": ""
      }
     },
     "d145af4f994c4953a5a07989c05e3ba4": {
      "model_module": "@jupyter-widgets/controls",
      "model_module_version": "1.5.0",
      "model_name": "DescriptionStyleModel",
      "state": {
       "description_width": ""
      }
     },
     "d2a89051542547158a467278af208e5d": {
      "model_module": "@jupyter-widgets/controls",
      "model_module_version": "1.5.0",
      "model_name": "HTMLModel",
      "state": {
       "layout": "IPY_MODEL_1843ba963fc24f939471415f68687197",
       "style": "IPY_MODEL_69537a5c55b74f74b08e9e5e2c52bec2",
       "value": " 100/100 [06:03&lt;00:00,  2.72s/it]"
      }
     },
     "d2d827e1aa2a4f6da3a85ec575154625": {
      "model_module": "@jupyter-widgets/controls",
      "model_module_version": "1.5.0",
      "model_name": "HTMLModel",
      "state": {
       "layout": "IPY_MODEL_95b12a105e014be9846a489ea696a004",
       "style": "IPY_MODEL_6fda593a7648472da0fef06f61451d2e",
       "value": " 100/100 [11:33&lt;00:00,  5.20s/it]"
      }
     },
     "d4303454f649401fb71730068dffe3a9": {
      "model_module": "@jupyter-widgets/base",
      "model_module_version": "1.2.0",
      "model_name": "LayoutModel",
      "state": {}
     },
     "d5381721ef684776bb478d3da43d756d": {
      "model_module": "@jupyter-widgets/controls",
      "model_module_version": "1.5.0",
      "model_name": "DescriptionStyleModel",
      "state": {
       "description_width": ""
      }
     },
     "d608a8d6765a4b60bb49c9dbdd8b5f00": {
      "model_module": "@jupyter-widgets/controls",
      "model_module_version": "1.5.0",
      "model_name": "HTMLModel",
      "state": {
       "layout": "IPY_MODEL_73a812a081674d49b84d71dde5bd1bb6",
       "style": "IPY_MODEL_5f02c86413294f9a91013f264407cf5a",
       "value": " 100/100 [11:04&lt;00:00,  4.79s/it]"
      }
     },
     "d75daaf45b2a4572926807fcc5134f5f": {
      "model_module": "@jupyter-widgets/base",
      "model_module_version": "1.2.0",
      "model_name": "LayoutModel",
      "state": {}
     },
     "d993df03b26a4c56851cbb20987ecc27": {
      "model_module": "@jupyter-widgets/base",
      "model_module_version": "1.2.0",
      "model_name": "LayoutModel",
      "state": {}
     },
     "d9b0567c0ee04eadae1a9b845614d93e": {
      "model_module": "@jupyter-widgets/base",
      "model_module_version": "1.2.0",
      "model_name": "LayoutModel",
      "state": {}
     },
     "dbe9625e97b74b1080048e682a4c454e": {
      "model_module": "@jupyter-widgets/controls",
      "model_module_version": "1.5.0",
      "model_name": "HTMLModel",
      "state": {
       "layout": "IPY_MODEL_201cdb580c824d339db2261fee0c324f",
       "style": "IPY_MODEL_9a56e8de3114477caadafeaa4898b564",
       "value": " 0/100 [00:01&lt;?, ?it/s]"
      }
     },
     "dc32d42f442f41919fd3a5f7863c3d98": {
      "model_module": "@jupyter-widgets/base",
      "model_module_version": "1.2.0",
      "model_name": "LayoutModel",
      "state": {}
     },
     "de60ac2a41cd4cb1b57a0ee1fe0b596e": {
      "model_module": "@jupyter-widgets/controls",
      "model_module_version": "1.5.0",
      "model_name": "HBoxModel",
      "state": {
       "children": [
        "IPY_MODEL_a52dd1df882c4edca6cc35a40b0b2c7c",
        "IPY_MODEL_dfc5b40a906946b181fab58735948806",
        "IPY_MODEL_5dfe7e88001143eba00419f55a090e25"
       ],
       "layout": "IPY_MODEL_dc32d42f442f41919fd3a5f7863c3d98"
      }
     },
     "deac7c3e17cc4cd386e9d3d2ccc57fe1": {
      "model_module": "@jupyter-widgets/controls",
      "model_module_version": "1.5.0",
      "model_name": "HTMLModel",
      "state": {
       "layout": "IPY_MODEL_b0c07aabdd6c4be7ab15389998b9058d",
       "style": "IPY_MODEL_c6abd231a139484498c879d3251a0da5",
       "value": "  0%"
      }
     },
     "dedeae100e384582aeecbaaddf18ee21": {
      "model_module": "@jupyter-widgets/controls",
      "model_module_version": "1.5.0",
      "model_name": "HBoxModel",
      "state": {
       "children": [
        "IPY_MODEL_3d9585b8373041ab96f97deb9454e355",
        "IPY_MODEL_c9d49d19888a4ac39e87062ba3d9e4dd",
        "IPY_MODEL_eb8807a9f4a646549ff479fcdb2b9e92"
       ],
       "layout": "IPY_MODEL_6ecdea1ca3b544069efcd0efd8b7824f"
      }
     },
     "dfc5b40a906946b181fab58735948806": {
      "model_module": "@jupyter-widgets/controls",
      "model_module_version": "1.5.0",
      "model_name": "FloatProgressModel",
      "state": {
       "bar_style": "success",
       "layout": "IPY_MODEL_ac2a4328a1314f47aa29118822c1b10e",
       "style": "IPY_MODEL_6e6e1b6a4fa449e9b1be2213d5df7af8",
       "value": 100
      }
     },
     "eb8807a9f4a646549ff479fcdb2b9e92": {
      "model_module": "@jupyter-widgets/controls",
      "model_module_version": "1.5.0",
      "model_name": "HTMLModel",
      "state": {
       "layout": "IPY_MODEL_1ee261da2367483390b775244a03f436",
       "style": "IPY_MODEL_4bdca636f5444b83afea6609b0503366",
       "value": " 100/100 [10:52&lt;00:00,  4.98s/it]"
      }
     },
     "ec726ad600284265ba66ced0e587e0b1": {
      "model_module": "@jupyter-widgets/controls",
      "model_module_version": "1.5.0",
      "model_name": "FloatProgressModel",
      "state": {
       "bar_style": "danger",
       "layout": "IPY_MODEL_5c6b1272d8d04597a9652bb3c870a69f",
       "style": "IPY_MODEL_38b5d71d8e5245c8b97604edea10669a"
      }
     },
     "ed5a295e12744b7db254dd658d27ed8a": {
      "model_module": "@jupyter-widgets/controls",
      "model_module_version": "1.5.0",
      "model_name": "FloatProgressModel",
      "state": {
       "bar_style": "success",
       "layout": "IPY_MODEL_8ae0e48aeee846a7acba46608003a66f",
       "style": "IPY_MODEL_2fb91f0372f443ea87cfbe3666efb679",
       "value": 100
      }
     },
     "edcdfed5fffc443292066ef393df6300": {
      "model_module": "@jupyter-widgets/controls",
      "model_module_version": "1.5.0",
      "model_name": "FloatProgressModel",
      "state": {
       "bar_style": "success",
       "layout": "IPY_MODEL_68b06e57724c461499b0ffc409d3ebcd",
       "style": "IPY_MODEL_835a441c281543f2a66d9045e5c439c9",
       "value": 100
      }
     },
     "edf4e2982466435b8c39d855dc161edb": {
      "model_module": "@jupyter-widgets/base",
      "model_module_version": "1.2.0",
      "model_name": "LayoutModel",
      "state": {}
     },
     "ef76703d710b422eb470d22ea5908e19": {
      "model_module": "@jupyter-widgets/base",
      "model_module_version": "1.2.0",
      "model_name": "LayoutModel",
      "state": {}
     },
     "f0b0572ff32e4b3fa5c40021c2f1408e": {
      "model_module": "@jupyter-widgets/controls",
      "model_module_version": "1.5.0",
      "model_name": "HTMLModel",
      "state": {
       "layout": "IPY_MODEL_bb3c053ac0e64bbab04f3c0e8159b23a",
       "style": "IPY_MODEL_2fe7ec6109844bfdb1ec5afbe3e55c85",
       "value": "100%"
      }
     },
     "f1a385db8c2f4a2aa8906beee1b1719f": {
      "model_module": "@jupyter-widgets/controls",
      "model_module_version": "1.5.0",
      "model_name": "HTMLModel",
      "state": {
       "layout": "IPY_MODEL_9f788ecebf21489e98c3aca54c6b2a84",
       "style": "IPY_MODEL_6c81d3ca527e439da686d6bafdbd3b60",
       "value": "100%"
      }
     },
     "f31050e42f0c4e3598507b398f87e8ee": {
      "model_module": "@jupyter-widgets/controls",
      "model_module_version": "1.5.0",
      "model_name": "HTMLModel",
      "state": {
       "layout": "IPY_MODEL_451abd48b1e0466cb9eac3a8788186b7",
       "style": "IPY_MODEL_fd54bea8f4b844b8983adc029e7efe04",
       "value": "  0%"
      }
     },
     "f4890e343557463a8408b401532aa525": {
      "model_module": "@jupyter-widgets/controls",
      "model_module_version": "1.5.0",
      "model_name": "ProgressStyleModel",
      "state": {
       "description_width": ""
      }
     },
     "f4b2e18246e34b2394418cf3a96dd186": {
      "model_module": "@jupyter-widgets/controls",
      "model_module_version": "1.5.0",
      "model_name": "HBoxModel",
      "state": {
       "children": [
        "IPY_MODEL_deac7c3e17cc4cd386e9d3d2ccc57fe1",
        "IPY_MODEL_4f23555dfe1b4f9a9e52c451a047cd35",
        "IPY_MODEL_dbe9625e97b74b1080048e682a4c454e"
       ],
       "layout": "IPY_MODEL_a3df8ba8ab6d42098fd27656396811ee"
      }
     },
     "f62617992d8e40ed92ed8f424495316e": {
      "model_module": "@jupyter-widgets/controls",
      "model_module_version": "1.5.0",
      "model_name": "ProgressStyleModel",
      "state": {
       "description_width": ""
      }
     },
     "f77a6758c83e4495ad393510af166cb4": {
      "model_module": "@jupyter-widgets/controls",
      "model_module_version": "1.5.0",
      "model_name": "HBoxModel",
      "state": {
       "children": [
        "IPY_MODEL_4476ad8052694861990f07580003fc94",
        "IPY_MODEL_ec726ad600284265ba66ced0e587e0b1",
        "IPY_MODEL_1513fd617ebf43f5933b3c9b7346d944"
       ],
       "layout": "IPY_MODEL_7d38fc1adc3d4d7cb9da0fff62d1a0a5"
      }
     },
     "f7dd147a697c413c87adfea4bf14c7e6": {
      "model_module": "@jupyter-widgets/base",
      "model_module_version": "1.2.0",
      "model_name": "LayoutModel",
      "state": {}
     },
     "f8a1d248189b407185612f7eee31639d": {
      "model_module": "@jupyter-widgets/controls",
      "model_module_version": "1.5.0",
      "model_name": "HTMLModel",
      "state": {
       "layout": "IPY_MODEL_49e8546f5ba940259526a3ea80a3052f",
       "style": "IPY_MODEL_3b6581621bcc4181954d8b68d7c4d32d",
       "value": "100%"
      }
     },
     "fc4687ca0b62482c9326dbd5c08d8f03": {
      "model_module": "@jupyter-widgets/base",
      "model_module_version": "1.2.0",
      "model_name": "LayoutModel",
      "state": {}
     },
     "fc9b184fd3774074b0abdd37b3611cf2": {
      "model_module": "@jupyter-widgets/controls",
      "model_module_version": "1.5.0",
      "model_name": "FloatProgressModel",
      "state": {
       "bar_style": "success",
       "layout": "IPY_MODEL_4bbff7c018b44e919c3648aac96b457c",
       "style": "IPY_MODEL_f4890e343557463a8408b401532aa525",
       "value": 100
      }
     },
     "fd54bea8f4b844b8983adc029e7efe04": {
      "model_module": "@jupyter-widgets/controls",
      "model_module_version": "1.5.0",
      "model_name": "DescriptionStyleModel",
      "state": {
       "description_width": ""
      }
     },
     "fe1194de3fc64e4ca66de2ce826576b5": {
      "model_module": "@jupyter-widgets/controls",
      "model_module_version": "1.5.0",
      "model_name": "HTMLModel",
      "state": {
       "layout": "IPY_MODEL_7eee2b2dcb544c0bb7371e688208467c",
       "style": "IPY_MODEL_7f33f930f1354339bd48b485f9364de3",
       "value": "100%"
      }
     }
    },
    "version_major": 2,
    "version_minor": 0
   }
  }
 },
 "nbformat": 4,
 "nbformat_minor": 4
}
