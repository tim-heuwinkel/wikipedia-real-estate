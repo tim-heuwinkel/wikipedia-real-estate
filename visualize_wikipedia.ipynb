{
 "cells": [
  {
   "cell_type": "markdown",
   "metadata": {},
   "source": [
    "# Visualizing housing data with text-based features"
   ]
  },
  {
   "cell_type": "markdown",
   "metadata": {},
   "source": [
    "### Import packages"
   ]
  },
  {
   "cell_type": "code",
   "execution_count": null,
   "metadata": {},
   "outputs": [],
   "source": [
    "import math\n",
    "import json\n",
    "import os\n",
    "import warnings\n",
    "warnings.filterwarnings(action=\"ignore\")\n",
    "\n",
    "import pandas as pd\n",
    "import matplotlib.pyplot as plt\n",
    "import numpy as np\n",
    "import matplotlib.pyplot as plt\n",
    "import seaborn as sns\n",
    "from sklearn.linear_model import LinearRegression\n",
    "\n",
    "import plotly.graph_objects as go\n",
    "import plotly.express as px"
   ]
  },
  {
   "cell_type": "markdown",
   "metadata": {},
   "source": [
    "Definde constants.\n",
    "\n",
    "- ``PATH``: Path to the base data folder\n",
    "- ``TEMPLATE``: Which plotly template to use\n",
    "- ``MAPBOX_TOKEN``: Token for [mapbox](https://docs.mapbox.com/help/getting-started/access-tokens/)"
   ]
  },
  {
   "cell_type": "code",
   "execution_count": null,
   "metadata": {},
   "outputs": [],
   "source": [
    "TEMPLATE = \"plotly_white\"\n",
    "PATH = \"C:/Users/Tim/.keras/datasets/wikipedia_real_estate/\"\n",
    "MAPBOX_TOKEN = \"YOUR_KEY\""
   ]
  },
  {
   "cell_type": "code",
   "execution_count": null,
   "metadata": {},
   "outputs": [],
   "source": [
    "px.set_mapbox_access_token(MAPBOX_TOKEN)"
   ]
  },
  {
   "cell_type": "markdown",
   "metadata": {},
   "source": [
    "Load Wikipedia coprus"
   ]
  },
  {
   "cell_type": "code",
   "execution_count": null,
   "metadata": {},
   "outputs": [],
   "source": [
    "with open(PATH+\"wikipedia/wikipedia_selected.ndjson\") as fin:\n",
    "    data_loaded = json.load(fin)"
   ]
  },
  {
   "cell_type": "code",
   "execution_count": null,
   "metadata": {},
   "outputs": [],
   "source": [
    "df_allegheny = pd.DataFrame(data_loaded)\n",
    "df_allegheny.columns = [\"title\", \"coords\", \"templates\", \"text\", \"wikilinks\", \"ex_links\", \"length\"]\n",
    "df_allegheny[\"latitude\"] = [lat for (lat, long) in df_allegheny[\"coords\"]]\n",
    "df_allegheny[\"longitude\"] = [long for (lat, long) in df_allegheny[\"coords\"]]\n",
    "df_allegheny.head(10)"
   ]
  },
  {
   "cell_type": "code",
   "execution_count": null,
   "metadata": {
    "scrolled": false
   },
   "outputs": [],
   "source": [
    "fig = px.scatter_mapbox(df_allegheny, lat=\"latitude\", lon=\"longitude\",\n",
    "                        mapbox_style=\"light\", zoom=9, height=600, opacity=0.7, template=TEMPLATE)\n",
    "fig.write_image(\"../Visualisierungen/wikipedia_allegheny_coverage.png\", width=700, height=600, scale=1.5)\n",
    "fig.show()"
   ]
  },
  {
   "cell_type": "markdown",
   "metadata": {},
   "source": [
    "## Visualize articles impact on value"
   ]
  },
  {
   "cell_type": "code",
   "execution_count": null,
   "metadata": {},
   "outputs": [],
   "source": [
    "articles_value = pd.read_csv(PATH+\"wikipedia_article_values.csv\")"
   ]
  },
  {
   "cell_type": "code",
   "execution_count": null,
   "metadata": {},
   "outputs": [],
   "source": [
    "fig = px.scatter_mapbox(articles_value, lat=\"article_lat\", lon=\"article_long\", color=\"article_value\",\n",
    "                        mapbox_style=\"light\", zoom=9, height=500, opacity=0.5, template=TEMPLATE,\n",
    "                        color_continuous_scale=px.colors.diverging.RdBu,\n",
    "                        range_color=[-2000000, 2000000]\n",
    "                       )\n",
    "fig.update_traces(marker=dict(size=8), selector=dict(type='scattermapbox'))\n",
    "fig.write_image(\"../Visualisierungen/wikipedia_article_values.png\", width=800, height=700, scale=1.4)\n",
    "fig.show()"
   ]
  },
  {
   "cell_type": "code",
   "execution_count": null,
   "metadata": {},
   "outputs": [],
   "source": [
    "articles_value.boxplot(column=[\"article_value\"])"
   ]
  },
  {
   "cell_type": "markdown",
   "metadata": {},
   "source": [
    "### Wikipedia articles over USA"
   ]
  },
  {
   "cell_type": "code",
   "execution_count": null,
   "metadata": {},
   "outputs": [],
   "source": [
    "with open(PATH+\"wikipedia/wikipedia_selected_usa.ndjson\") as fin:\n",
    "    data_loaded = json.load(fin)"
   ]
  },
  {
   "cell_type": "code",
   "execution_count": null,
   "metadata": {},
   "outputs": [],
   "source": [
    "df_full = pd.DataFrame(data_loaded)\n",
    "df_full.columns = [\"title\", \"coords\"]\n",
    "df_full[\"latitude\"] = [lat for (lat, long) in df_full[\"coords\"]]\n",
    "df_full[\"longitude\"] = [long for (lat, long) in df_full[\"coords\"]]\n",
    "df_full.head(10)"
   ]
  },
  {
   "cell_type": "code",
   "execution_count": null,
   "metadata": {},
   "outputs": [],
   "source": [
    "fig = px.scatter_mapbox(df_full, lat=\"latitude\", lon=\"longitude\", hover_name=\"title\",\n",
    "                        mapbox_style=\"light\", zoom=3, height=600, opacity=0.2, template=TEMPLATE)\n",
    "fig.write_image(\"../Visualisierungen/wikipedia_usa_coverage.png\", width=1500, height=750)\n",
    "fig.show()"
   ]
  },
  {
   "cell_type": "code",
   "execution_count": null,
   "metadata": {},
   "outputs": [],
   "source": [
    "error_df = pd.read_csv(PATH+\"results/errors_soos_wiki.csv\")\n",
    "error_df.head(10)"
   ]
  },
  {
   "cell_type": "code",
   "execution_count": null,
   "metadata": {},
   "outputs": [],
   "source": [
    "fig = px.scatter_mapbox(error_df, lat=\"lat\", lon=\"long\", color=\"error\", color_continuous_scale=px.colors.diverging.RdBu,\n",
    "                        mapbox_style=\"light\", zoom=9, height=600, opacity=0.7, template=TEMPLATE)\n",
    "fig.write_image(\"../Visualisierungen/errors_soos_wiki.png\", width=700, height=600, scale=1.5)\n",
    "fig.show()"
   ]
  },
  {
   "cell_type": "code",
   "execution_count": null,
   "metadata": {},
   "outputs": [],
   "source": [
    "fig = px.scatter_mapbox(error_df, lat=\"lat\", lon=\"long\",\n",
    "                        mapbox_style=\"light\", zoom=9, height=600, opacity=0.7, template=TEMPLATE)\n",
    "fig.write_image(\"../Visualisierungen/soos_quadrants.png\", width=700, height=600, scale=1.5)\n",
    "fig.show()"
   ]
  },
  {
   "cell_type": "code",
   "execution_count": null,
   "metadata": {},
   "outputs": [],
   "source": [
    "with open(PATH+\"wikipedia/wikipedia_selected.ndjson\") as fin:\n",
    "    data_loaded = json.load(fin)"
   ]
  },
  {
   "cell_type": "code",
   "execution_count": null,
   "metadata": {},
   "outputs": [],
   "source": [
    "df = pd.DataFrame(data_loaded)\n",
    "df.head(10)"
   ]
  },
  {
   "cell_type": "code",
   "execution_count": null,
   "metadata": {},
   "outputs": [],
   "source": [
    "len(df.iloc[0, 3])"
   ]
  },
  {
   "cell_type": "markdown",
   "metadata": {},
   "source": [
    "## Choosing the right radius"
   ]
  },
  {
   "cell_type": "code",
   "execution_count": null,
   "metadata": {},
   "outputs": [],
   "source": [
    "results = dict()\n",
    "result_path = PATH + \"results\"\n",
    "for csv in os.listdir(result_path):\n",
    "    if \"structured_wiki_text\" in csv:\n",
    "        results[csv[-8:-4]] = pd.read_csv(result_path + \"/\" + csv)\n",
    "        results[csv[-8:-4]].index = [\"MAE\", \"RMSE\", \"MAPE\", \"R^2\"]"
   ]
  },
  {
   "cell_type": "code",
   "execution_count": null,
   "metadata": {},
   "outputs": [],
   "source": [
    "results_lst = []\n",
    "for key in results:\n",
    "    # results_lst.append([int(key), results[key].loc[\"MAE\", \"Catboost: S+T\"], \"MAE\"])\n",
    "    results_lst.append([int(key), results[key].loc[\"RMSE\", \"Catboost: S+T\"], \"RMSE\"])\n",
    "    # results_lst.append([int(key), results[key].loc[\"MAPE\", \"Catboost: S+T\"], \"MAPE\"])\n",
    "    # results_lst.append([int(key), results[key].loc[\"R^2\", \"Catboost: S+T\"], \"R^2\"])\n",
    "\n",
    "results_df = pd.DataFrame(data=results_lst)\n",
    "results_df.columns = [\"radius\", \"value\", \"metric\"]\n",
    "results_df.head(10)"
   ]
  },
  {
   "cell_type": "code",
   "execution_count": null,
   "metadata": {},
   "outputs": [],
   "source": [
    "fig = px.line(results_df, x=\"radius\", y=\"value\", color=\"metric\", template=TEMPLATE)\n",
    "fig.show()"
   ]
  },
  {
   "cell_type": "code",
   "execution_count": null,
   "metadata": {},
   "outputs": [],
   "source": []
  }
 ],
 "metadata": {
  "kernelspec": {
   "display_name": "Python 3",
   "language": "python",
   "name": "python3"
  },
  "language_info": {
   "codemirror_mode": {
    "name": "ipython",
    "version": 3
   },
   "file_extension": ".py",
   "mimetype": "text/x-python",
   "name": "python",
   "nbconvert_exporter": "python",
   "pygments_lexer": "ipython3",
   "version": "3.7.9"
  },
  "widgets": {
   "application/vnd.jupyter.widget-state+json": {
    "state": {},
    "version_major": 2,
    "version_minor": 0
   }
  }
 },
 "nbformat": 4,
 "nbformat_minor": 4
}
